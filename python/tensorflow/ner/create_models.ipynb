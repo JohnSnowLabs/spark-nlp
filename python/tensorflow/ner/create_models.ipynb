{
 "cells": [
  {
   "cell_type": "markdown",
   "metadata": {},
   "source": [
    "## Creates TensorFlow Graphs for Spark NLP NerDLApproach\n",
    "TensorFlow: `1.13.1`\n"
   ]
  },
  {
   "cell_type": "code",
   "execution_count": null,
   "metadata": {},
   "outputs": [],
   "source": [
    "import numpy as np\n",
    "import os\n",
    "import tensorflow as tf\n",
    "import string\n",
    "import random\n",
    "import math\n",
    "import sys\n",
    "import shutil\n",
    "\n",
    "from ner_model import NerModel\n",
    "from dataset_encoder import DatasetEncoder\n",
    "from ner_model_saver import NerModelSaver\n",
    "from pathlib import Path"
   ]
  },
  {
   "cell_type": "code",
   "execution_count": null,
   "metadata": {},
   "outputs": [],
   "source": [
    "print(tf.__version__)\n",
    "print(tf.keras.__version__)"
   ]
  },
  {
   "cell_type": "markdown",
   "metadata": {},
   "source": [
    "## SETTINGS"
   ]
  },
  {
   "cell_type": "code",
   "execution_count": null,
   "metadata": {},
   "outputs": [],
   "source": [
    "use_contrib = False if os.name == 'nt' else True\n",
    "\n",
    "name_prefix = 'blstm-noncontrib' if not use_contrib else 'blstm'"
   ]
  },
  {
   "cell_type": "code",
   "execution_count": null,
   "metadata": {},
   "outputs": [],
   "source": [
    "# By default the first GPU is used, you can change it here\n",
    "gpu_device=0"
   ]
  },
  {
   "cell_type": "code",
   "execution_count": null,
   "metadata": {
    "scrolled": true
   },
   "outputs": [],
   "source": [
    "def create_graph(ntags, embeddings_dim, nchars, lstm_size = 128):\n",
    "    if sys.version_info[0] != 3 or sys.version_info[1] >= 7:\n",
    "        print('Python 3.6 or above not supported by tensorflow')\n",
    "        return\n",
    "    if tf.__version__ != '1.13.1':\n",
    "        print('Spark NLP is compiled with TensorFlow 1.13.1, Please use such version.')\n",
    "        print('Current TensorFlow version: ', tf.__version__)\n",
    "        return\n",
    "    tf.compat.v1.disable_v2_behavior()\n",
    "    tf.compat.v1.reset_default_graph()\n",
    "    model_name = name_prefix+'_{}_{}_{}_{}'.format(ntags, embeddings_dim, lstm_size, nchars)\n",
    "    with tf.compat.v1.Session() as session:\n",
    "        ner = NerModel(session=None, use_contrib=use_contrib, use_gpu_device=gpu_device)\n",
    "        ner.add_cnn_char_repr(nchars, 25, 30)\n",
    "        ner.add_bilstm_char_repr(nchars, 25, 30)\n",
    "        ner.add_pretrained_word_embeddings(embeddings_dim)\n",
    "        ner.add_context_repr(ntags, lstm_size, 3)\n",
    "        ner.add_inference_layer(True)\n",
    "        ner.add_training_op(5)\n",
    "        ner.init_variables()\n",
    "        saver = tf.compat.v1.train.Saver()\n",
    "        file_name = model_name + '.pb'\n",
    "        tf.io.write_graph(ner.session.graph, './', file_name, False)\n",
    "        ner.close()\n",
    "        session.close()"
   ]
  },
  {
   "cell_type": "markdown",
   "metadata": {},
   "source": [
    "### Attributes info\n",
    "- 1st attribute: max number of tags (Must be at least equal to the number of unique labels, including O if IOB)\n",
    "- 2nd attribute: embeddings dimension\n",
    "- 3rd attribute: max number of characters processed (Must be at least the largest possible amount of characters)\n",
    "- 4th attribute: LSTM Size (128)"
   ]
  },
  {
   "cell_type": "code",
   "execution_count": null,
   "metadata": {
    "scrolled": true
   },
   "outputs": [],
   "source": [
    "# # CoNLL 2003 - English - GloVe 100d\n",
    "# create_graph(9, 100, 90)\n",
    "\n",
    "# # CoNLL 2003 - English - GloVe 200d\n",
    "# create_graph(9, 200, 90)\n",
    "\n",
    "# # CoNLL 2003 - English - GloVe 300d\n",
    "# create_graph(9, 300, 90)\n",
    "\n",
    "# # CoNLL 2003 - English - BERT Base\n",
    "# create_graph(9, 768, 90)\n",
    "\n",
    "# # CoNLL 2003 - English - BERT Large\n",
    "# create_graph(9, 1024, 90)\n",
    "\n",
    "# # You got the idea :)"
   ]
  },
  {
   "cell_type": "code",
   "execution_count": null,
   "metadata": {},
   "outputs": [],
   "source": [
    "os._exit(00)"
   ]
  },
  {
   "cell_type": "code",
   "execution_count": null,
   "metadata": {},
   "outputs": [],
   "source": []
  }
 ],
 "metadata": {
  "anaconda-cloud": {},
  "kernelspec": {
   "display_name": "Python 3",
   "language": "python",
   "name": "python3"
  },
  "language_info": {
   "codemirror_mode": {
    "name": "ipython",
    "version": 3
   },
   "file_extension": ".py",
   "mimetype": "text/x-python",
   "name": "python",
   "nbconvert_exporter": "python",
   "pygments_lexer": "ipython3",
   "version": "3.6.9"
  }
 },
 "nbformat": 4,
 "nbformat_minor": 1
}
