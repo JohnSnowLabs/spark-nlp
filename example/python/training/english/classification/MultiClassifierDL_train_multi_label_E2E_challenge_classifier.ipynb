{
  "cells": [
    {
      "cell_type": "markdown",
      "metadata": {
        "colab_type": "text",
        "id": "aaVmDt1TEXdh"
      },
      "source": [
        "![JohnSnowLabs](https://nlp.johnsnowlabs.com/assets/images/logo.png)\n",
        "# Spark NLP\n",
        "## Multi-label Text Classification\n",
        "### E2E Challenge\n",
        "#### By using MultiClassifierDL"
      ]
    },
    {
      "cell_type": "markdown",
      "metadata": {
        "colab_type": "text",
        "id": "jSgSzQsusNIQ"
      },
      "source": [
        "[![Open In Colab](https://colab.research.google.com/assets/colab-badge.svg)](https://colab.research.google.com/github/JohnSnowLabs/spark-nlp-workshop/blob/master/jupyter/training/english/classification/MultiClassifierDL_train_multi_label_E2E_challenge_classifier.ipynb)"
      ]
    },
    {
      "cell_type": "code",
      "execution_count": 1,
      "metadata": {
        "colab": {
          "base_uri": "https://localhost:8080/",
          "height": 68
        },
        "colab_type": "code",
        "id": "S2XBx14_1tlw",
        "outputId": "936a7951-52ad-4f27-9af0-a7b18f1365bd"
      },
      "outputs": [
        {
          "name": "stdout",
          "output_type": "stream",
          "text": [
            "openjdk version \"1.8.0_265\"\n",
            "OpenJDK Runtime Environment (build 1.8.0_265-8u265-b01-0ubuntu2~18.04-b01)\n",
            "OpenJDK 64-Bit Server VM (build 25.265-b01, mixed mode)\n"
          ]
        }
      ],
      "source": [
        "# This is only to setup PySpark and Spark NLP on Colab\n",
        "!wget http://setup.johnsnowlabs.com/colab.sh -O - | bash"
      ]
    },
    {
      "cell_type": "markdown",
      "metadata": {
        "colab_type": "text",
        "id": "Uuwsnj7VsXm3"
      },
      "source": [
        "Let's download our Toxic comments for tarining and testing:"
      ]
    },
    {
      "cell_type": "code",
      "execution_count": 2,
      "metadata": {
        "colab": {
          "base_uri": "https://localhost:8080/",
          "height": 68
        },
        "colab_type": "code",
        "id": "Q7me57t41nSe",
        "outputId": "e6fbc37e-c127-42fb-b1dc-198cbf653b0b"
      },
      "outputs": [
        {
          "name": "stdout",
          "output_type": "stream",
          "text": [
            "  % Total    % Received % Xferd  Average Speed   Time    Time     Time  Current\n",
            "                                 Dload  Upload   Total   Spent    Left  Speed\n",
            "100 1922k  100 1922k    0     0  2000k      0 --:--:-- --:--:-- --:--:-- 1998k\n"
          ]
        }
      ],
      "source": [
        "!curl -O 'https://s3.amazonaws.com/auxdata.johnsnowlabs.com/public/resources/en/classifier-dl/e2e_challenge/e2e_train.snappy.parquet'"
      ]
    },
    {
      "cell_type": "code",
      "execution_count": 2,
      "metadata": {
        "colab": {
          "base_uri": "https://localhost:8080/",
          "height": 52
        },
        "colab_type": "code",
        "id": "Hmvv5Q4jMF5b",
        "outputId": "f06e50ba-8992-4856-a3dc-7d5ebd694a4c"
      },
      "outputs": [
        {
          "name": "stdout",
          "output_type": "stream",
          "text": [
            "Spark NLP version\n"
          ]
        },
        {
          "data": {
            "application/vnd.google.colaboratory.intrinsic+json": {
              "type": "string"
            },
            "text/plain": [
              "'2.6.0'"
            ]
          },
          "execution_count": 2,
          "metadata": {
            "tags": []
          },
          "output_type": "execute_result"
        }
      ],
      "source": [
        "import sparknlp\n",
        "\n",
        "spark=sparknlp.start()\n",
        "print(\"Spark NLP version\")\n",
        "sparknlp.version()"
      ]
    },
    {
      "cell_type": "markdown",
      "metadata": {
        "colab_type": "text",
        "id": "pZUlTYncseVF"
      },
      "source": [
        "Let's read our Toxi comments datasets:"
      ]
    },
    {
      "cell_type": "code",
      "execution_count": 3,
      "metadata": {
        "colab": {},
        "colab_type": "code",
        "id": "S9TRr7iAMF5l"
      },
      "outputs": [],
      "source": [
        "trainDataset, testDataset = spark.read.parquet(\"/content/e2e_train.snappy.parquet\")\\\n",
        "  .randomSplit([0.9, 0.1], seed = 12345)  "
      ]
    },
    {
      "cell_type": "code",
      "execution_count": 4,
      "metadata": {
        "colab": {
          "base_uri": "https://localhost:8080/",
          "height": 153
        },
        "colab_type": "code",
        "id": "nURzgFJ7MF5o",
        "outputId": "edab7951-7df8-4d3f-a291-b66ce5405580"
      },
      "outputs": [
        {
          "name": "stdout",
          "output_type": "stream",
          "text": [
            "+--------------------+--------------------+\n",
            "|                 ref|              labels|\n",
            "+--------------------+--------------------+\n",
            "|'Bibimbap House' ...|[name[Bibimbap Ho...|\n",
            "|'Browns Cambridge...|[name[Browns Camb...|\n",
            "+--------------------+--------------------+\n",
            "only showing top 2 rows\n",
            "\n"
          ]
        }
      ],
      "source": [
        "trainDataset.show(2)"
      ]
    },
    {
      "cell_type": "markdown",
      "metadata": {
        "colab_type": "text",
        "id": "aQa57ITfslQr"
      },
      "source": [
        "As you can see, there are lots of new lines in our comments which we can fix them with `DocumentAssembler`"
      ]
    },
    {
      "cell_type": "code",
      "execution_count": 5,
      "metadata": {
        "colab": {
          "base_uri": "https://localhost:8080/",
          "height": 51
        },
        "colab_type": "code",
        "id": "iVHvdF481OCG",
        "outputId": "7e3e8164-bead-417a-8cff-0d23402a3a5c"
      },
      "outputs": [
        {
          "name": "stdout",
          "output_type": "stream",
          "text": [
            "37792\n",
            "4269\n"
          ]
        }
      ],
      "source": [
        "print(trainDataset.cache().count())\n",
        "print(testDataset.cache().count())"
      ]
    },
    {
      "cell_type": "code",
      "execution_count": 6,
      "metadata": {
        "colab": {},
        "colab_type": "code",
        "id": "0oKvNZaEMF5q"
      },
      "outputs": [],
      "source": [
        "from pyspark.ml import Pipeline\n",
        "\n",
        "from sparknlp.annotator import *\n",
        "from sparknlp.common import *\n",
        "from sparknlp.base import *"
      ]
    },
    {
      "cell_type": "code",
      "execution_count": 7,
      "metadata": {
        "colab": {
          "base_uri": "https://localhost:8080/",
          "height": 68
        },
        "colab_type": "code",
        "id": "H30A4FgNMF5t",
        "outputId": "b32d95a5-50b1-4cc3-e912-66860fde67bb"
      },
      "outputs": [
        {
          "name": "stdout",
          "output_type": "stream",
          "text": [
            "tfhub_use download started this may take some time.\n",
            "Approximate size to download 923.7 MB\n",
            "[OK!]\n"
          ]
        }
      ],
      "source": [
        "# The actual text is in a column named ref\n",
        "document = DocumentAssembler()\\\n",
        "  .setInputCol(\"ref\")\\\n",
        "  .setOutputCol(\"document\")\n",
        "\n",
        "# Here we use the state-of-the-art Universal Sentence Encoder model from TF Hub\n",
        "embeddings = UniversalSentenceEncoder.pretrained() \\\n",
        "  .setInputCols([\"document\"])\\\n",
        "  .setOutputCol(\"sentence_embeddings\")\n",
        "\n",
        "# We will use MultiClassifierDL built by using Bidirectional GRU and CNNs inside TensorFlow that supports up to 100 classes\n",
        "# We will use only 5 Epochs but feel free to increase it on your own dataset\n",
        "multiClassifier = MultiClassifierDLApproach()\\\n",
        "  .setInputCols(\"sentence_embeddings\")\\\n",
        "  .setOutputCol(\"category\")\\\n",
        "  .setLabelColumn(\"labels\")\\\n",
        "  .setBatchSize(128)\\\n",
        "  .setMaxEpochs(5)\\\n",
        "  .setLr(1e-3)\\\n",
        "  .setThreshold(0.5)\\\n",
        "  .setShufflePerEpoch(False)\\\n",
        "  .setEnableOutputLogs(True)\\\n",
        "  .setValidationSplit(0.1)\n",
        "\n",
        "pipeline = Pipeline(\n",
        "    stages = [\n",
        "        document,\n",
        "        embeddings,\n",
        "        multiClassifier\n",
        "    ])"
      ]
    },
    {
      "cell_type": "code",
      "execution_count": 8,
      "metadata": {
        "colab": {},
        "colab_type": "code",
        "id": "kia7NpRJMF5v"
      },
      "outputs": [],
      "source": [
        "pipelineModel = pipeline.fit(trainDataset)"
      ]
    },
    {
      "cell_type": "code",
      "execution_count": null,
      "metadata": {
        "colab": {},
        "colab_type": "code",
        "id": "RjP_MAc5kNDi"
      },
      "outputs": [],
      "source": [
        "!ls -l ~/annotator_logs/"
      ]
    },
    {
      "cell_type": "code",
      "execution_count": 19,
      "metadata": {
        "colab": {
          "base_uri": "https://localhost:8080/",
          "height": 119
        },
        "colab_type": "code",
        "id": "kHa_D2KFkL5w",
        "outputId": "8d0b7bca-1b44-4800-f676-5da989c293cb"
      },
      "outputs": [
        {
          "name": "stdout",
          "output_type": "stream",
          "text": [
            "Training started - epochs: 5 - learning_rate: 0.001 - batch_size: 128 - training_examples: 34013 - classes: 79\n",
            "Epoch 0/5 - 18.96s - loss: 0.22942108 - acc: 0.9338577 - val_loss: 0.17501871 - val_acc: 0.9417629 - val_f1: 0.3146024 - val_tpr: 0.19535509 - batches: 266\n",
            "Epoch 1/5 - 10.60s - loss: 0.14757492 - acc: 0.953353 - val_loss: 0.12445798 - val_acc: 0.9562459 - val_f1: 0.57075405 - val_tpr: 0.4252112 - batches: 266\n",
            "Epoch 2/5 - 10.46s - loss: 0.112007715 - acc: 0.96444803 - val_loss: 0.1024009 - val_acc: 0.9635221 - val_f1: 0.667721 - val_tpr: 0.5356968 - batches: 266\n",
            "Epoch 3/5 - 10.66s - loss: 0.09598791 - acc: 0.96988803 - val_loss: 0.09133494 - val_acc: 0.9674665 - val_f1: 0.71459305 - val_tpr: 0.5951355 - batches: 266\n",
            "Epoch 4/5 - 10.39s - loss: 0.08701118 - acc: 0.9730473 - val_loss: 0.08419453 - val_acc: 0.96987855 - val_f1: 0.74224013 - val_tpr: 0.63378865 - batches: 266\n"
          ]
        }
      ],
      "source": [
        "!cat ~/annotator_logs/MultiClassifierDLApproach_b80de1f04776.log"
      ]
    },
    {
      "cell_type": "markdown",
      "metadata": {
        "colab_type": "text",
        "id": "F2x-_A5ZuSIX"
      },
      "source": [
        "Let's save our trained multi-label classifier model to be loaded in our prediction pipeline:"
      ]
    },
    {
      "cell_type": "code",
      "execution_count": 10,
      "metadata": {
        "colab": {},
        "colab_type": "code",
        "id": "IWkBcvA_1OCV"
      },
      "outputs": [],
      "source": [
        "pipelineModel.stages[-1].write().overwrite().save('/content/tmp_multi_classifierDL_model')"
      ]
    },
    {
      "cell_type": "markdown",
      "metadata": {
        "colab_type": "text",
        "id": "ppQ211AW1OCg"
      },
      "source": [
        "## load saved pipeline"
      ]
    },
    {
      "cell_type": "code",
      "execution_count": 11,
      "metadata": {
        "colab": {
          "base_uri": "https://localhost:8080/",
          "height": 68
        },
        "colab_type": "code",
        "id": "RglS6Ohj1OCi",
        "outputId": "e2a46992-7b86-4516-8d19-8a5a26ce73d2"
      },
      "outputs": [
        {
          "name": "stdout",
          "output_type": "stream",
          "text": [
            "tfhub_use download started this may take some time.\n",
            "Approximate size to download 923.7 MB\n",
            "[OK!]\n"
          ]
        }
      ],
      "source": [
        "document = DocumentAssembler()\\\n",
        "    .setInputCol(\"ref\")\\\n",
        "    .setOutputCol(\"document\")\n",
        "\n",
        "use = UniversalSentenceEncoder.pretrained() \\\n",
        " .setInputCols([\"document\"])\\\n",
        " .setOutputCol(\"sentence_embeddings\")\n",
        "\n",
        "multiClassifier = MultiClassifierDLModel.load(\"/content/tmp_multi_classifierDL_model\") \\\n",
        "  .setInputCols([\"sentence_embeddings\"])\\\n",
        "  .setOutputCol(\"category\")\\\n",
        "  .setThreshold(0.5)\n",
        "\n",
        "pipeline = Pipeline(\n",
        "    stages = [\n",
        "        document,\n",
        "        use,\n",
        "        multiClassifier\n",
        "    ])"
      ]
    },
    {
      "cell_type": "markdown",
      "metadata": {
        "colab_type": "text",
        "id": "ATJtZgiBwU-_"
      },
      "source": [
        "Let's now use our testing datasets to evaluate our model:"
      ]
    },
    {
      "cell_type": "code",
      "execution_count": 12,
      "metadata": {
        "colab": {
          "base_uri": "https://localhost:8080/",
          "height": 71
        },
        "colab_type": "code",
        "id": "NDA_F1SD1OCm",
        "outputId": "35209a89-b154-405a-fecc-49023218790c"
      },
      "outputs": [
        {
          "name": "stdout",
          "output_type": "stream",
          "text": [
            "['name[Bibimbap House]', 'name[Wildwood]', 'name[Cotto]', 'name[Clowns]', 'near[Burger King]', 'name[The Dumpling Tree]', 'name[The Vaults]', 'near[Crowne Plaza Hotel]', 'name[The Golden Palace]', 'name[The Rice Boat]', 'customer rating[high]', 'near[Avalon]', 'name[Alimentum]', 'near[The Bakers]', 'name[The Waterman]', 'near[Ranch]', 'name[The Olive Grove]', 'name[The Eagle]', 'name[The Wrestlers]', 'eatType[restaurant]', 'near[All Bar One]', 'customer rating[low]', 'near[Café Sicilia]', 'near[Yippee Noodle Bar]', 'food[Indian]', 'eatType[pub]', 'name[Green Man]', 'name[Strada]', 'near[Café Adriatic]', 'eatType[coffee shop]', 'name[Loch Fyne]', 'customer rating[5 out of 5]', 'near[Express by Holiday Inn]', 'food[French]', 'name[The Mill]', 'food[Japanese]', 'name[Travellers Rest Beefeater]', 'name[The Plough]', 'name[Cocum]', 'near[The Six Bells]', 'name[The Phoenix]', 'priceRange[cheap]', 'name[Midsummer House]', 'near[Rainbow Vegetarian Café]', 'near[The Rice Boat]', 'customer rating[1 out of 5]', 'customer rating[3 out of 5]', 'name[The Cricketers]', 'area[riverside]', 'priceRange[£20-25]', 'name[Blue Spice]', 'priceRange[moderate]', 'priceRange[less than £20]', 'priceRange[high]', 'name[The Golden Curry]', 'name[Giraffe]', 'customer rating[average]', 'name[Aromi]', 'name[The Twenty Two]', 'food[Fast food]', 'name[Browns Cambridge]', 'near[Café Rouge]', 'familyFriendly[no]', 'area[city centre]', 'food[Chinese]', 'name[Taste of Cambridge]', 'food[Italian]', 'near[Raja Indian Cuisine]', 'name[Zizzi]', 'priceRange[more than £30]', 'name[The Punter]', 'food[English]', 'near[Clare Hall]', 'near[The Portland Arms]', 'name[The Cambridge Blue]', 'near[The Sorrento]', 'near[Café Brazil]', 'familyFriendly[yes]', 'name[Fitzbillies]']\n",
            "79\n"
          ]
        }
      ],
      "source": [
        "# let's see our labels:\n",
        "print(pipeline.fit(testDataset).stages[2].getClasses())\n",
        "print(len(pipeline.fit(testDataset).stages[2].getClasses()))"
      ]
    },
    {
      "cell_type": "code",
      "execution_count": 13,
      "metadata": {
        "colab": {},
        "colab_type": "code",
        "id": "JJYBe_hq1OCo"
      },
      "outputs": [],
      "source": [
        "preds = pipeline.fit(testDataset).transform(testDataset)\n"
      ]
    },
    {
      "cell_type": "code",
      "execution_count": 14,
      "metadata": {
        "colab": {
          "base_uri": "https://localhost:8080/",
          "height": 153
        },
        "colab_type": "code",
        "id": "QSdIxWPV1OCq",
        "outputId": "ea397faf-08d1-4413-d470-3e0b17b27e74"
      },
      "outputs": [
        {
          "name": "stdout",
          "output_type": "stream",
          "text": [
            "+--------------------+--------------------+--------------------+\n",
            "|              labels|                 ref|              result|\n",
            "+--------------------+--------------------+--------------------+\n",
            "|[name[Strada], ea...|'Strada' is a pub...|[name[Alimentum],...|\n",
            "|[name[The Eagle],...|'The Eagle' is lo...|[name[The Eagle],...|\n",
            "+--------------------+--------------------+--------------------+\n",
            "only showing top 2 rows\n",
            "\n"
          ]
        }
      ],
      "source": [
        "preds.select('labels', 'ref', 'category.result').show(2)"
      ]
    },
    {
      "cell_type": "code",
      "execution_count": 18,
      "metadata": {
        "colab": {
          "base_uri": "https://localhost:8080/",
          "height": 1000
        },
        "colab_type": "code",
        "id": "hHh1vMkN1OCs",
        "outputId": "49eaebda-a6de-4564-8372-954b630689cb"
      },
      "outputs": [
        {
          "name": "stdout",
          "output_type": "stream",
          "text": [
            "Classification report: \n",
            "               precision    recall  f1-score   support\n",
            "\n",
            "           0       0.84      0.86      0.85       795\n",
            "           1       0.89      0.82      0.86      1724\n",
            "           2       0.72      0.07      0.12       415\n",
            "           3       0.68      0.13      0.21       377\n",
            "           4       0.68      0.21      0.32       504\n",
            "           5       0.72      0.40      0.51       557\n",
            "           6       0.65      0.09      0.16       437\n",
            "           7       0.74      0.28      0.41       541\n",
            "           8       0.99      0.96      0.98      1000\n",
            "           9       0.94      0.91      0.92       701\n",
            "          10       0.86      0.52      0.65       329\n",
            "          11       0.84      0.52      0.64       908\n",
            "          12       0.81      0.81      0.81      1784\n",
            "          13       0.95      0.91      0.93       294\n",
            "          14       0.92      0.56      0.70       410\n",
            "          15       0.95      0.77      0.85       566\n",
            "          16       0.89      0.76      0.82       581\n",
            "          17       0.95      0.89      0.92       471\n",
            "          18       0.94      0.81      0.87       589\n",
            "          19       0.97      0.84      0.90       650\n",
            "          20       0.91      0.78      0.84       178\n",
            "          21       1.00      0.22      0.36       104\n",
            "          22       0.99      0.91      0.95        76\n",
            "          23       0.99      0.85      0.91       110\n",
            "          24       0.95      0.88      0.92       179\n",
            "          25       1.00      0.73      0.84        73\n",
            "          26       0.82      0.39      0.53       102\n",
            "          27       0.94      0.73      0.82       123\n",
            "          28       0.72      0.32      0.44       174\n",
            "          29       0.96      0.83      0.89        86\n",
            "          30       0.95      0.86      0.91        95\n",
            "          31       0.94      0.79      0.86       144\n",
            "          32       0.94      0.84      0.89        80\n",
            "          33       0.89      0.87      0.88       152\n",
            "          34       1.00      0.02      0.04        51\n",
            "          35       0.95      0.83      0.89        94\n",
            "          36       0.97      0.85      0.91        74\n",
            "          37       1.00      0.71      0.83        89\n",
            "          38       0.99      0.97      0.98       185\n",
            "          39       0.98      0.99      0.99       198\n",
            "          40       1.00      0.56      0.72        88\n",
            "          41       0.93      0.77      0.84        87\n",
            "          42       0.98      0.73      0.84       130\n",
            "          43       0.97      0.87      0.92       158\n",
            "          44       0.78      0.78      0.78        60\n",
            "          45       0.97      0.90      0.93       125\n",
            "          46       0.86      0.90      0.88       293\n",
            "          47       0.89      0.67      0.77       122\n",
            "          48       0.96      0.92      0.94       109\n",
            "          49       0.93      0.48      0.63       290\n",
            "          50       0.98      0.98      0.98       156\n",
            "          51       1.00      0.53      0.69        36\n",
            "          52       0.88      0.36      0.51       127\n",
            "          53       0.78      0.12      0.20       121\n",
            "          54       0.87      0.60      0.71       140\n",
            "          55       0.92      0.72      0.81        32\n",
            "          56       0.98      0.98      0.98       126\n",
            "          57       0.94      0.60      0.73        48\n",
            "          58       0.97      0.93      0.95        71\n",
            "          59       0.97      0.98      0.98       190\n",
            "          60       0.96      0.65      0.77       108\n",
            "          61       0.99      0.88      0.93        92\n",
            "          62       0.98      0.93      0.96       115\n",
            "          63       0.99      0.97      0.98       216\n",
            "          64       0.99      0.98      0.99       131\n",
            "          65       1.00      0.98      0.99        53\n",
            "          66       0.98      0.73      0.84       119\n",
            "          67       0.95      0.77      0.85       101\n",
            "          68       0.99      0.96      0.97       142\n",
            "          69       0.88      0.60      0.71       109\n",
            "          70       0.90      0.56      0.69        48\n",
            "          71       0.91      0.68      0.78        87\n",
            "          72       0.96      0.93      0.95       135\n",
            "          73       0.75      0.08      0.15       439\n",
            "          74       0.67      0.11      0.19       485\n",
            "          75       0.62      0.23      0.34       585\n",
            "          76       0.85      0.22      0.36       552\n",
            "          77       0.57      0.15      0.24       468\n",
            "          78       0.68      0.08      0.14       412\n",
            "\n",
            "   micro avg       0.89      0.63      0.74     22906\n",
            "   macro avg       0.90      0.66      0.73     22906\n",
            "weighted avg       0.86      0.63      0.69     22906\n",
            " samples avg       0.89      0.63      0.72     22906\n",
            "\n",
            "F1 micro averaging: 0.7408601325248804\n",
            "ROC:  0.8133453460541078\n"
          ]
        },
        {
          "name": "stderr",
          "output_type": "stream",
          "text": [
            "/usr/local/lib/python3.6/dist-packages/sklearn/metrics/_classification.py:1272: UndefinedMetricWarning: Precision and F-score are ill-defined and being set to 0.0 in samples with no predicted labels. Use `zero_division` parameter to control this behavior.\n",
            "  _warn_prf(average, modifier, msg_start, len(result))\n"
          ]
        }
      ],
      "source": [
        "preds_df = preds.select('labels', 'category.result').toPandas()\n",
        "\n",
        "from sklearn.preprocessing import MultiLabelBinarizer\n",
        "from sklearn.metrics import classification_report\n",
        "from sklearn.metrics import f1_score\n",
        "from sklearn.metrics import roc_auc_score\n",
        "\n",
        "mlb = MultiLabelBinarizer()\n",
        "\n",
        "y_true = mlb.fit_transform(preds_df['labels'])\n",
        "y_pred = mlb.fit_transform(preds_df['result'])\n",
        "\n",
        "print(\"Classification report: \\n\", (classification_report(y_true, y_pred)))\n",
        "print(\"F1 micro averaging:\",(f1_score(y_true, y_pred, average='micro')))\n",
        "print(\"ROC: \",(roc_auc_score(y_true, y_pred, average=\"micro\")))"
      ]
    },
    {
      "cell_type": "code",
      "execution_count": 22,
      "metadata": {
        "colab": {
          "base_uri": "https://localhost:8080/",
          "height": 289
        },
        "colab_type": "code",
        "id": "LR7PpSll1OCy",
        "outputId": "0738f91d-b878-4fa8-ee2d-d7a9637e18cd"
      },
      "outputs": [
        {
          "name": "stdout",
          "output_type": "stream",
          "text": [
            "+--------------------+\n",
            "|            metadata|\n",
            "+--------------------+\n",
            "|[[name[Alimentum]...|\n",
            "|[[name[Alimentum]...|\n",
            "|[[name[Alimentum]...|\n",
            "|[[name[Alimentum]...|\n",
            "|[[name[Alimentum]...|\n",
            "|[[name[Alimentum]...|\n",
            "|[[name[Alimentum]...|\n",
            "|[[name[Alimentum]...|\n",
            "|[[name[Alimentum]...|\n",
            "|[[name[Alimentum]...|\n",
            "+--------------------+\n",
            "only showing top 10 rows\n",
            "\n"
          ]
        }
      ],
      "source": [
        "preds.select(\"category.metadata\").show(10)"
      ]
    },
    {
      "cell_type": "code",
      "execution_count": 17,
      "metadata": {
        "colab": {
          "base_uri": "https://localhost:8080/",
          "height": 119
        },
        "colab_type": "code",
        "id": "73Gm6Rno1OC0",
        "outputId": "9072df2b-73f6-4aae-a221-b95e669d079f"
      },
      "outputs": [
        {
          "name": "stdout",
          "output_type": "stream",
          "text": [
            "root\n",
            " |-- metadata: array (nullable = true)\n",
            " |    |-- element: map (containsNull = true)\n",
            " |    |    |-- key: string\n",
            " |    |    |-- value: string (valueContainsNull = true)\n",
            "\n"
          ]
        }
      ],
      "source": [
        "preds.select(\"category.metadata\").printSchema()"
      ]
    },
    {
      "cell_type": "code",
      "execution_count": null,
      "metadata": {
        "colab": {},
        "colab_type": "code",
        "id": "BJ0aOVjtx8sL"
      },
      "outputs": [],
      "source": []
    }
  ],
  "metadata": {
    "accelerator": "GPU",
    "colab": {
      "collapsed_sections": [],
      "name": "MultiClassifierDL_train_multi_label_E2E_challenge_classifier.ipynb",
      "provenance": [],
      "toc_visible": true
    },
    "kernelspec": {
      "display_name": "Python 3",
      "language": "python",
      "name": "python3"
    },
    "language_info": {
      "codemirror_mode": {
        "name": "ipython",
        "version": 3
      },
      "file_extension": ".py",
      "mimetype": "text/x-python",
      "name": "python",
      "nbconvert_exporter": "python",
      "pygments_lexer": "ipython3",
      "version": "3.6.9"
    },
    "name": "MultiClassifierDL_Train_multi_label_toxic_classifier",
    "notebookId": 1952370652427552,
    "nteract": {
      "version": "0.21.0"
    }
  },
  "nbformat": 4,
  "nbformat_minor": 0
}
