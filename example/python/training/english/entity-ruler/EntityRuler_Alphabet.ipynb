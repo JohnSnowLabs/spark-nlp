{
 "cells": [
  {
   "cell_type": "markdown",
   "metadata": {
    "colab": {
     "base_uri": "https://localhost:8080/"
    },
    "executionInfo": {
     "elapsed": 60512,
     "status": "ok",
     "timestamp": 1661605164779,
     "user": {
      "displayName": "Danilo Burbano",
      "userId": "08593331088765378019"
     },
     "user_tz": 300
    },
    "id": "MoG6TxHvBTS_",
    "outputId": "f395e09e-be37-4515-d32e-af3447fbbe28"
   },
   "source": [
    "![JohnSnowLabs](https://nlp.johnsnowlabs.com/assets/images/logo.png)\n",
    "\n",
    "[![Open In Colab](https://colab.research.google.com/assets/colab-badge.svg)](https://colab.research.google.com/github/JohnSnowLabs/spark-nlp-workshop/blob/master/jupyter/training/english/entity-ruler/EntityRuler_Alphabet.ipynb)"
   ]
  },
  {
   "cell_type": "code",
   "execution_count": 3,
   "metadata": {
    "executionInfo": {
     "elapsed": 6254,
     "status": "ok",
     "timestamp": 1661605188633,
     "user": {
      "displayName": "Danilo Burbano",
      "userId": "08593331088765378019"
     },
     "user_tz": 300
    },
    "id": "zhXe9MYMBcYs"
   },
   "outputs": [],
   "source": [
    "!wget https://setup.johnsnowlabs.com/colab.sh -O - | bash"
   ]
  },
  {
   "cell_type": "code",
   "execution_count": 4,
   "metadata": {
    "executionInfo": {
     "elapsed": 319,
     "status": "ok",
     "timestamp": 1661605188942,
     "user": {
      "displayName": "Danilo Burbano",
      "userId": "08593331088765378019"
     },
     "user_tz": 300
    },
    "id": "A3THWvj7GO12"
   },
   "outputs": [],
   "source": [
    "import sparknlp\n",
    "from sparknlp.base import *\n",
    "from sparknlp.annotator import *\n",
    "from pyspark.sql import SparkSession"
   ]
  },
  {
   "cell_type": "code",
   "execution_count": null,
   "metadata": {},
   "outputs": [],
   "source": [
    "spark = sparknlp.start()"
   ]
  },
  {
   "cell_type": "markdown",
   "metadata": {
    "id": "Oe4Ih3IuBg0V"
   },
   "source": [
    "Since Spark NLP version 4.2.0, we reduce significantly the latency of Entity Ruler by implementing Aho-Corasick algorithm. This requires defining an alphabet for some cases. For English documents, you won't need to define it because under the hood Entity Ruler annotator uses an English alphabet by default. However, for special use cases we will need to proceed like the example below:"
   ]
  },
  {
   "cell_type": "code",
   "execution_count": 6,
   "metadata": {
    "colab": {
     "base_uri": "https://localhost:8080/"
    },
    "executionInfo": {
     "elapsed": 7534,
     "status": "ok",
     "timestamp": 1661605211009,
     "user": {
      "displayName": "Danilo Burbano",
      "userId": "08593331088765378019"
     },
     "user_tz": 300
    },
    "id": "VnowuheCB5KQ",
    "outputId": "09dcaa4f-ab90-41ca-b92d-04790ed0e277"
   },
   "outputs": [
    {
     "name": "stdout",
     "output_type": "stream",
     "text": [
      "+-------------------------------+\n",
      "|text                           |\n",
      "+-------------------------------+\n",
      "|Elendil used to live in Númenor|\n",
      "+-------------------------------+\n",
      "\n"
     ]
    }
   ],
   "source": [
    "data = spark.createDataFrame([[\"Elendil used to live in Númenor\"]]).toDF(\"text\")\n",
    "data.show(truncate=False)"
   ]
  },
  {
   "cell_type": "markdown",
   "metadata": {
    "id": "lSz72yQ4CPgI"
   },
   "source": [
    "The text above has an special character, an accent in vowel u (ú)"
   ]
  },
  {
   "cell_type": "code",
   "execution_count": 7,
   "metadata": {
    "executionInfo": {
     "elapsed": 38,
     "status": "ok",
     "timestamp": 1661605211010,
     "user": {
      "displayName": "Danilo Burbano",
      "userId": "08593331088765378019"
     },
     "user_tz": 300
    },
    "id": "fJqB0X5ZCnJ0"
   },
   "outputs": [],
   "source": [
    "import json\n",
    "\n",
    "locations = [\n",
    "              {\n",
    "                \"id\": \"locations\",\n",
    "                \"label\": \"LOCATION\",\n",
    "                \"patterns\": [\"Númenor\", \"Middle-earth\"]\n",
    "              }\n",
    "            ]\n",
    "\n",
    "with open('./locations.json', 'w') as jsonlfile:\n",
    "  json.dump(locations, jsonlfile)"
   ]
  },
  {
   "cell_type": "markdown",
   "metadata": {
    "id": "wnJzZ35_EpI4"
   },
   "source": [
    "In addition, a pattern in `locations.json` file has also hyphen punctuation mark (-).\n",
    "So, we need to define our custom alphabet to use Entity Ruler for Tolkien's books. Here, we will define just the 2 special characters for our text."
   ]
  },
  {
   "cell_type": "code",
   "execution_count": 8,
   "metadata": {
    "executionInfo": {
     "elapsed": 36,
     "status": "ok",
     "timestamp": 1661605211011,
     "user": {
      "displayName": "Danilo Burbano",
      "userId": "08593331088765378019"
     },
     "user_tz": 300
    },
    "id": "N6vAOMFGE5Et"
   },
   "outputs": [],
   "source": [
    "alphabet = \"abcdefghijklmnopqrstuvwxyz\"\n",
    "\n",
    "with open('./custom_alphabet.txt', 'w') as alphabet_file:\n",
    "    alphabet_file.write(alphabet + \"\\n\")\n",
    "    alphabet_file.write(alphabet.upper() + \"\\n\")\n",
    "    alphabet_file.write(\"ú\")\n",
    "    alphabet_file.write(\"-\")"
   ]
  },
  {
   "cell_type": "code",
   "execution_count": 9,
   "metadata": {
    "colab": {
     "base_uri": "https://localhost:8080/"
    },
    "executionInfo": {
     "elapsed": 290,
     "status": "ok",
     "timestamp": 1661605211266,
     "user": {
      "displayName": "Danilo Burbano",
      "userId": "08593331088765378019"
     },
     "user_tz": 300
    },
    "id": "tXR9y_qyFTgK",
    "outputId": "e37de04c-43a0-4ff7-ca9b-45f8c41cb16c"
   },
   "outputs": [
    {
     "name": "stdout",
     "output_type": "stream",
     "text": [
      "abcdefghijklmnopqrstuvwxyz\n",
      "ABCDEFGHIJKLMNOPQRSTUVWXYZ\n",
      "ú-"
     ]
    }
   ],
   "source": [
    "!cat custom_alphabet.txt"
   ]
  },
  {
   "cell_type": "code",
   "execution_count": 10,
   "metadata": {
    "executionInfo": {
     "elapsed": 8,
     "status": "ok",
     "timestamp": 1661605211267,
     "user": {
      "displayName": "Danilo Burbano",
      "userId": "08593331088765378019"
     },
     "user_tz": 300
    },
    "id": "NKW2B_PWFVY3"
   },
   "outputs": [],
   "source": [
    "document_assembler = DocumentAssembler().setInputCol(\"text\").setOutputCol(\"document\")\n",
    "sentence_detector = SentenceDetector().setInputCols(\"document\").setOutputCol(\"sentence\")\n",
    "\n",
    "entity_ruler = EntityRulerApproach() \\\n",
    "    .setInputCols([\"sentence\"]) \\\n",
    "    .setOutputCol(\"entity\") \\\n",
    "    .setPatternsResource(\"./locations.json\") \\\n",
    "    .setAlphabetResource(\"./custom_alphabet.txt\")"
   ]
  },
  {
   "cell_type": "code",
   "execution_count": 11,
   "metadata": {
    "executionInfo": {
     "elapsed": 2090,
     "status": "ok",
     "timestamp": 1661605213350,
     "user": {
      "displayName": "Danilo Burbano",
      "userId": "08593331088765378019"
     },
     "user_tz": 300
    },
    "id": "qfcJeJJcFWqE"
   },
   "outputs": [],
   "source": [
    "pipeline = Pipeline(stages=[document_assembler, sentence_detector, entity_ruler])\n",
    "model = pipeline.fit(data)"
   ]
  },
  {
   "cell_type": "code",
   "execution_count": 12,
   "metadata": {
    "colab": {
     "base_uri": "https://localhost:8080/"
    },
    "executionInfo": {
     "elapsed": 1606,
     "status": "ok",
     "timestamp": 1661605214949,
     "user": {
      "displayName": "Danilo Burbano",
      "userId": "08593331088765378019"
     },
     "user_tz": 300
    },
    "id": "OZVJLMxuFX_M",
    "outputId": "776ea9cc-3e42-41a1-ddc2-6270a72a0670"
   },
   "outputs": [
    {
     "name": "stdout",
     "output_type": "stream",
     "text": [
      "+------------------------------------------------------------------------------------+\n",
      "|entity                                                                              |\n",
      "+------------------------------------------------------------------------------------+\n",
      "|[{chunk, 24, 30, Númenor, {entity -> LOCATION, sentence -> 0, id -> locations}, []}]|\n",
      "+------------------------------------------------------------------------------------+\n",
      "\n"
     ]
    }
   ],
   "source": [
    "model.transform(data).select(\"entity\").show(truncate=False)"
   ]
  },
  {
   "cell_type": "markdown",
   "metadata": {
    "id": "AGpnI4Z5FZSk"
   },
   "source": [
    "If you don't define the required alphabet, you will get this error: \n",
    "\n",
    "```\n",
    "Py4JJavaError: An error occurred while calling o69.fit.\n",
    ": java.lang.UnsupportedOperationException: Char ú not found on alphabet. Please check alphabet\n",
    "```\n",
    "So, the alphabet must have **all the characters** that can be found in your document."
   ]
  },
  {
   "cell_type": "markdown",
   "metadata": {
    "id": "X2UyyMf6HCP5"
   },
   "source": [
    "# Non-English Languages"
   ]
  },
  {
   "cell_type": "markdown",
   "metadata": {
    "id": "-OVPFyufHHLV"
   },
   "source": [
    "EntityRuler has some predefined alphabets for the most common languages: English, Spanish, French, and German. So, if you have documents in Spanish, you just need to set an alphabet like the example below:"
   ]
  },
  {
   "cell_type": "code",
   "execution_count": 13,
   "metadata": {
    "colab": {
     "base_uri": "https://localhost:8080/"
    },
    "executionInfo": {
     "elapsed": 321,
     "status": "ok",
     "timestamp": 1661605215261,
     "user": {
      "displayName": "Danilo Burbano",
      "userId": "08593331088765378019"
     },
     "user_tz": 300
    },
    "id": "5cWTH7XSG49Z",
    "outputId": "24998614-f891-4158-eab1-fbf8a8b4e7d7"
   },
   "outputs": [
    {
     "name": "stdout",
     "output_type": "stream",
     "text": [
      "+------------------------------+\n",
      "|text                          |\n",
      "+------------------------------+\n",
      "|Elendil solía vivir en Númenor|\n",
      "+------------------------------+\n",
      "\n"
     ]
    }
   ],
   "source": [
    "data = spark.createDataFrame([[\"Elendil solía vivir en Númenor\"]]).toDF(\"text\")\n",
    "data.show(truncate=False)"
   ]
  },
  {
   "cell_type": "code",
   "execution_count": 14,
   "metadata": {
    "executionInfo": {
     "elapsed": 6,
     "status": "ok",
     "timestamp": 1661605215262,
     "user": {
      "displayName": "Danilo Burbano",
      "userId": "08593331088765378019"
     },
     "user_tz": 300
    },
    "id": "PDYUq3loHqOV"
   },
   "outputs": [],
   "source": [
    "entity_ruler = EntityRulerApproach() \\\n",
    "    .setInputCols([\"sentence\"]) \\\n",
    "    .setOutputCol(\"entity\") \\\n",
    "    .setPatternsResource(\"./locations.json\") \\\n",
    "    .setAlphabetResource(\"spanish\")"
   ]
  },
  {
   "cell_type": "code",
   "execution_count": 15,
   "metadata": {
    "executionInfo": {
     "elapsed": 313,
     "status": "ok",
     "timestamp": 1661605215570,
     "user": {
      "displayName": "Danilo Burbano",
      "userId": "08593331088765378019"
     },
     "user_tz": 300
    },
    "id": "CoalQ1ttH-jN"
   },
   "outputs": [],
   "source": [
    "pipeline = Pipeline(stages=[document_assembler, sentence_detector, entity_ruler])\n",
    "model = pipeline.fit(data)"
   ]
  },
  {
   "cell_type": "code",
   "execution_count": 16,
   "metadata": {
    "colab": {
     "base_uri": "https://localhost:8080/"
    },
    "executionInfo": {
     "elapsed": 617,
     "status": "ok",
     "timestamp": 1661605216181,
     "user": {
      "displayName": "Danilo Burbano",
      "userId": "08593331088765378019"
     },
     "user_tz": 300
    },
    "id": "udZMwNuiIA2n",
    "outputId": "5b5ed233-5d62-4fe1-b5d8-4dfdf6f0aea8"
   },
   "outputs": [
    {
     "name": "stdout",
     "output_type": "stream",
     "text": [
      "+------------------------------------------------------------------------------------+\n",
      "|entity                                                                              |\n",
      "+------------------------------------------------------------------------------------+\n",
      "|[{chunk, 23, 29, Númenor, {entity -> LOCATION, sentence -> 0, id -> locations}, []}]|\n",
      "+------------------------------------------------------------------------------------+\n",
      "\n"
     ]
    }
   ],
   "source": [
    "model.transform(data).select(\"entity\").show(truncate=False)"
   ]
  },
  {
   "cell_type": "markdown",
   "metadata": {
    "id": "_IDY3uG4IMfV"
   },
   "source": [
    "If your language is not a predefined alphabet, you will need to define all the characters of your alphabet, as shown in the first example. \n",
    "Keep in mind that an alphabet may require not only letters but also numbers, punctuation marks, and symbol characters."
   ]
  }
 ],
 "metadata": {
  "colab": {
   "authorship_tag": "ABX9TyOn3VALFVB6JhjiE7SBwc48",
   "name": "EntityRuler Alphabet.ipynb",
   "provenance": []
  },
  "kernelspec": {
   "display_name": "Python 3",
   "language": "python",
   "name": "python3"
  },
  "language_info": {
   "codemirror_mode": {
    "name": "ipython",
    "version": 3
   },
   "file_extension": ".py",
   "mimetype": "text/x-python",
   "name": "python",
   "nbconvert_exporter": "python",
   "pygments_lexer": "ipython3",
   "version": "3.8.10"
  }
 },
 "nbformat": 4,
 "nbformat_minor": 1
}
