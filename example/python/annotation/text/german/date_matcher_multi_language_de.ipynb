{
  "cells": [
    {
      "cell_type": "markdown",
      "metadata": {
        "id": "xqh_a_ng6bdm"
      },
      "source": [
        "# DateMatcher multi-language\n",
        "\n",
        "#### This annotator allows you to specify a source language that will be used to identify temporal keywords and extract dates."
      ]
    },
    {
      "cell_type": "code",
      "source": [
        "# This is only to setup PySpark and Spark NLP on Colab\n",
        "!wget http://setup.johnsnowlabs.com/colab.sh -O - | bash"
      ],
      "metadata": {
        "id": "TnwUoG4a6bvA",
        "outputId": "2e54a2a7-b447-4acd-929f-ab4eb9813c1e",
        "colab": {
          "base_uri": "https://localhost:8080/"
        }
      },
      "execution_count": 1,
      "outputs": [
        {
          "output_type": "stream",
          "name": "stdout",
          "text": [
            "--2022-12-23 12:16:55--  http://setup.johnsnowlabs.com/colab.sh\n",
            "Resolving setup.johnsnowlabs.com (setup.johnsnowlabs.com)... 51.158.130.125\n",
            "Connecting to setup.johnsnowlabs.com (setup.johnsnowlabs.com)|51.158.130.125|:80... connected.\n",
            "HTTP request sent, awaiting response... 302 Found\n",
            "Location: https://setup.johnsnowlabs.com/colab.sh [following]\n",
            "--2022-12-23 12:16:56--  https://setup.johnsnowlabs.com/colab.sh\n",
            "Connecting to setup.johnsnowlabs.com (setup.johnsnowlabs.com)|51.158.130.125|:443... connected.\n",
            "HTTP request sent, awaiting response... 302 Moved Temporarily\n",
            "Location: https://raw.githubusercontent.com/JohnSnowLabs/spark-nlp/master/scripts/colab_setup.sh [following]\n",
            "--2022-12-23 12:16:57--  https://raw.githubusercontent.com/JohnSnowLabs/spark-nlp/master/scripts/colab_setup.sh\n",
            "Resolving raw.githubusercontent.com (raw.githubusercontent.com)... 185.199.108.133, 185.199.109.133, 185.199.110.133, ...\n",
            "Connecting to raw.githubusercontent.com (raw.githubusercontent.com)|185.199.108.133|:443... connected.\n",
            "HTTP request sent, awaiting response... 200 OK\n",
            "Length: 1191 (1.2K) [text/plain]\n",
            "Saving to: ‘STDOUT’\n",
            "\n",
            "-                   100%[===================>]   1.16K  --.-KB/s    in 0s      \n",
            "\n",
            "2022-12-23 12:16:57 (56.9 MB/s) - written to stdout [1191/1191]\n",
            "\n",
            "Installing PySpark 3.2.3 and Spark NLP 4.2.6\n",
            "setup Colab for PySpark 3.2.3 and Spark NLP 4.2.6\n",
            "\u001b[K     |████████████████████████████████| 281.5 MB 50 kB/s \n",
            "\u001b[K     |████████████████████████████████| 453 kB 45.0 MB/s \n",
            "\u001b[K     |████████████████████████████████| 199 kB 47.9 MB/s \n",
            "\u001b[?25h  Building wheel for pyspark (setup.py) ... \u001b[?25l\u001b[?25hdone\n"
          ]
        }
      ]
    },
    {
      "cell_type": "code",
      "execution_count": 2,
      "metadata": {
        "application/vnd.databricks.v1+cell": {
          "inputWidgets": {},
          "nuid": "943a272c-0686-4e02-a8d9-b2849721c829",
          "showTitle": false,
          "title": ""
        },
        "id": "lm9NuDi16bdp"
      },
      "outputs": [],
      "source": [
        "# Import Spark NLP\n",
        "from sparknlp.base import *\n",
        "from sparknlp.annotator import *\n",
        "from sparknlp.pretrained import PretrainedPipeline\n",
        "import sparknlp\n",
        "\n",
        "# Start Spark Session with Spark NLP\n",
        "# start() functions has two parameters: gpu and spark23\n",
        "# sparknlp.start(gpu=True) will start the session with GPU support\n",
        "# sparknlp.start(spark23=True) is when you have Apache Spark 2.3.x installed\n",
        "spark = sparknlp.start()"
      ]
    },
    {
      "cell_type": "code",
      "execution_count": 3,
      "metadata": {
        "application/vnd.databricks.v1+cell": {
          "inputWidgets": {},
          "nuid": "b200e2aa-6280-4f51-9eb4-e30f660e2ba4",
          "showTitle": false,
          "title": ""
        },
        "id": "qebaKHlY6bdp",
        "outputId": "eff22721-b886-4635-ce8b-983bacb5243f",
        "colab": {
          "base_uri": "https://localhost:8080/",
          "height": 219
        }
      },
      "outputs": [
        {
          "output_type": "execute_result",
          "data": {
            "text/plain": [
              "<pyspark.sql.session.SparkSession at 0x7fb116310790>"
            ],
            "text/html": [
              "\n",
              "            <div>\n",
              "                <p><b>SparkSession - in-memory</b></p>\n",
              "                \n",
              "        <div>\n",
              "            <p><b>SparkContext</b></p>\n",
              "\n",
              "            <p><a href=\"http://e9590cf3c1b1:4040\">Spark UI</a></p>\n",
              "\n",
              "            <dl>\n",
              "              <dt>Version</dt>\n",
              "                <dd><code>v3.2.3</code></dd>\n",
              "              <dt>Master</dt>\n",
              "                <dd><code>local[*]</code></dd>\n",
              "              <dt>AppName</dt>\n",
              "                <dd><code>Spark NLP</code></dd>\n",
              "            </dl>\n",
              "        </div>\n",
              "        \n",
              "            </div>\n",
              "        "
            ]
          },
          "metadata": {},
          "execution_count": 3
        }
      ],
      "source": [
        "spark"
      ]
    },
    {
      "cell_type": "code",
      "execution_count": 4,
      "metadata": {
        "application/vnd.databricks.v1+cell": {
          "inputWidgets": {},
          "nuid": "c0b759a0-346f-4d9f-9f01-383124c0aa05",
          "showTitle": false,
          "title": ""
        },
        "id": "L0P0Q19h6bdq",
        "outputId": "d2cca706-a6e5-4758-9831-86f4e76ed955",
        "colab": {
          "base_uri": "https://localhost:8080/",
          "height": 35
        }
      },
      "outputs": [
        {
          "output_type": "execute_result",
          "data": {
            "text/plain": [
              "'4.2.6'"
            ],
            "application/vnd.google.colaboratory.intrinsic+json": {
              "type": "string"
            }
          },
          "metadata": {},
          "execution_count": 4
        }
      ],
      "source": [
        "sparknlp.version()"
      ]
    },
    {
      "cell_type": "markdown",
      "metadata": {
        "id": "XI5qtquJ6bdq"
      },
      "source": [
        "# German examples"
      ]
    },
    {
      "cell_type": "markdown",
      "metadata": {
        "id": "b8YhBTes6bdr"
      },
      "source": [
        "### Let's import some articoles sentences from the news where relative dates are present."
      ]
    },
    {
      "cell_type": "code",
      "execution_count": 5,
      "metadata": {
        "application/vnd.databricks.v1+cell": {
          "inputWidgets": {},
          "nuid": "a91c2626-5ef8-4e01-9563-120daf4f63f3",
          "showTitle": false,
          "title": ""
        },
        "id": "g-f8stEN6bdr"
      },
      "outputs": [],
      "source": [
        "de_articles = [\n",
        "  (\"Am Sonntag, 11. Juli 2021, benutzte Chiellini das Wort Kiricocho, als Saka sich dem Ball zum Elfmeter näherte.\",),\n",
        "  (\"Die nächste WM findet im November 2022 statt.\",),\n",
        "]"
      ]
    },
    {
      "cell_type": "markdown",
      "metadata": {
        "id": "mAZEaSKk6bdr"
      },
      "source": [
        "### Let's  fill a DataFrame with the text column"
      ]
    },
    {
      "cell_type": "code",
      "execution_count": 6,
      "metadata": {
        "application/vnd.databricks.v1+cell": {
          "inputWidgets": {},
          "nuid": "cfe3f9e0-4a96-44bb-b056-0b4a5407c6dc",
          "showTitle": false,
          "title": ""
        },
        "id": "pBqjZrL86bdr",
        "outputId": "68aa6228-76bb-42ca-a930-88849e90b39e",
        "colab": {
          "base_uri": "https://localhost:8080/"
        }
      },
      "outputs": [
        {
          "output_type": "stream",
          "name": "stdout",
          "text": [
            "root\n",
            " |-- text: string (nullable = true)\n",
            "\n",
            "+--------------------+\n",
            "|                text|\n",
            "+--------------------+\n",
            "|Am Sonntag, 11. J...|\n",
            "|Die nächste WM fi...|\n",
            "+--------------------+\n",
            "\n"
          ]
        }
      ],
      "source": [
        "articles_cols = [\"text\"]\n",
        "\n",
        "df = spark.createDataFrame(data=de_articles, schema=articles_cols)\n",
        "\n",
        "df.printSchema()\n",
        "df.show()"
      ]
    },
    {
      "cell_type": "markdown",
      "metadata": {
        "id": "3meR5x4c6bds"
      },
      "source": [
        "### Now, let's create a simple pipeline to apply the DateMatcher, specifying the source language"
      ]
    },
    {
      "cell_type": "code",
      "execution_count": 8,
      "metadata": {
        "application/vnd.databricks.v1+cell": {
          "inputWidgets": {},
          "nuid": "f4baf2a1-3e75-479e-9e9b-2b071624ee3d",
          "showTitle": false,
          "title": ""
        },
        "id": "Hzo5woaF6bds"
      },
      "outputs": [],
      "source": [
        "document_assembler = DocumentAssembler() \\\n",
        "            .setInputCol(\"text\") \\\n",
        "            .setOutputCol(\"document\")\n",
        "\n",
        "date_matcher = DateMatcher() \\\n",
        "            .setInputCols(['document']) \\\n",
        "            .setOutputCol(\"date\") \\\n",
        "            .setOutputFormat(\"MM/dd/yyyy\") \\\n",
        "            .setSourceLanguage(\"de\")"
      ]
    },
    {
      "cell_type": "code",
      "execution_count": 9,
      "metadata": {
        "id": "yNqvoyZt6bds"
      },
      "outputs": [],
      "source": [
        "### Let's transform the Data"
      ]
    },
    {
      "cell_type": "code",
      "execution_count": 10,
      "metadata": {
        "application/vnd.databricks.v1+cell": {
          "inputWidgets": {},
          "nuid": "10380fbb-43c1-42c3-b6d0-f02e55d75a24",
          "showTitle": false,
          "title": ""
        },
        "id": "DsxAdzNy6bds",
        "outputId": "39105d32-c166-4a31-8d37-3bb00af2cc17",
        "colab": {
          "base_uri": "https://localhost:8080/"
        }
      },
      "outputs": [
        {
          "output_type": "stream",
          "name": "stdout",
          "text": [
            "+-------------------------------------------------+\n",
            "|date                                             |\n",
            "+-------------------------------------------------+\n",
            "|[{date, 10, 21, 07/11/2021, {sentence -> 0}, []}]|\n",
            "|[{date, 25, 37, 11/01/2022, {sentence -> 0}, []}]|\n",
            "+-------------------------------------------------+\n",
            "\n"
          ]
        }
      ],
      "source": [
        "assembled = document_assembler.transform(df)\n",
        "date_matcher.transform(assembled).select('date').show(10, False)"
      ]
    },
    {
      "cell_type": "code",
      "execution_count": null,
      "metadata": {
        "id": "51_6lDzf6bds"
      },
      "outputs": [],
      "source": []
    }
  ],
  "metadata": {
    "application/vnd.databricks.v1+notebook": {
      "dashboards": [],
      "language": "python",
      "notebookMetadata": {
        "pythonIndentUnit": 2
      },
      "notebookName": "DateMatcherMultiLanguage_tests",
      "notebookOrigID": 2439167545177012,
      "widgets": {}
    },
    "kernelspec": {
      "display_name": "Python 3",
      "language": "python",
      "name": "python3"
    },
    "language_info": {
      "codemirror_mode": {
        "name": "ipython",
        "version": 3
      },
      "file_extension": ".py",
      "mimetype": "text/x-python",
      "name": "python",
      "nbconvert_exporter": "python",
      "pygments_lexer": "ipython3",
      "version": "3.7.10"
    },
    "colab": {
      "provenance": []
    }
  },
  "nbformat": 4,
  "nbformat_minor": 0
}