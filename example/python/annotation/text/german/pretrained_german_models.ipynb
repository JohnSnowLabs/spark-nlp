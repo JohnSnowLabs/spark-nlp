{
  "cells": [
    {
      "cell_type": "markdown",
      "metadata": {
        "id": "XA9scnGrLCn2"
      },
      "source": [
        "![JohnSnowLabs](https://nlp.johnsnowlabs.com/assets/images/logo.png)\n",
        "\n",
        "[![Open In Colab](https://colab.research.google.com/assets/colab-badge.svg)](https://colab.research.google.com/github/JohnSnowLabs/spark-nlp-workshop/blob/master/jupyter/annotation/german/pretrained-german-models.ipynb)\n",
        "\n",
        "## 0. Colab Setup"
      ]
    },
    {
      "cell_type": "code",
      "execution_count": 1,
      "metadata": {
        "colab": {
          "base_uri": "https://localhost:8080/"
        },
        "id": "Dm-qYk1nH9Qx",
        "outputId": "35ae2816-3b9a-46bf-88b9-8b5704d40a56"
      },
      "outputs": [
        {
          "output_type": "stream",
          "name": "stdout",
          "text": [
            "--2022-12-23 12:20:19--  http://setup.johnsnowlabs.com/colab.sh\n",
            "Resolving setup.johnsnowlabs.com (setup.johnsnowlabs.com)... 51.158.130.125\n",
            "Connecting to setup.johnsnowlabs.com (setup.johnsnowlabs.com)|51.158.130.125|:80... connected.\n",
            "HTTP request sent, awaiting response... 302 Found\n",
            "Location: https://setup.johnsnowlabs.com/colab.sh [following]\n",
            "--2022-12-23 12:20:20--  https://setup.johnsnowlabs.com/colab.sh\n",
            "Connecting to setup.johnsnowlabs.com (setup.johnsnowlabs.com)|51.158.130.125|:443... connected.\n",
            "HTTP request sent, awaiting response... 302 Moved Temporarily\n",
            "Location: https://raw.githubusercontent.com/JohnSnowLabs/spark-nlp/master/scripts/colab_setup.sh [following]\n",
            "--2022-12-23 12:20:20--  https://raw.githubusercontent.com/JohnSnowLabs/spark-nlp/master/scripts/colab_setup.sh\n",
            "Resolving raw.githubusercontent.com (raw.githubusercontent.com)... 185.199.110.133, 185.199.108.133, 185.199.111.133, ...\n",
            "Connecting to raw.githubusercontent.com (raw.githubusercontent.com)|185.199.110.133|:443... connected.\n",
            "HTTP request sent, awaiting response... 200 OK\n",
            "Length: 1191 (1.2K) [text/plain]\n",
            "Saving to: ‘STDOUT’\n",
            "\n",
            "-                   100%[===================>]   1.16K  --.-KB/s    in 0s      \n",
            "\n",
            "2022-12-23 12:20:20 (41.1 MB/s) - written to stdout [1191/1191]\n",
            "\n",
            "Installing PySpark 3.2.3 and Spark NLP 4.2.6\n",
            "setup Colab for PySpark 3.2.3 and Spark NLP 4.2.6\n",
            "\u001b[K     |████████████████████████████████| 281.5 MB 54 kB/s \n",
            "\u001b[K     |████████████████████████████████| 453 kB 56.3 MB/s \n",
            "\u001b[K     |████████████████████████████████| 199 kB 64.7 MB/s \n",
            "\u001b[?25h  Building wheel for pyspark (setup.py) ... \u001b[?25l\u001b[?25hdone\n"
          ]
        }
      ],
      "source": [
        "# This is only to setup PySpark and Spark NLP on Colab\n",
        "!wget http://setup.johnsnowlabs.com/colab.sh -O - | bash"
      ]
    },
    {
      "cell_type": "markdown",
      "metadata": {
        "id": "gTvXsYwYGrXA"
      },
      "source": [
        "### German models specs\n",
        "\n",
        "| Feature   | Description|\n",
        "|:----------|:----------|\n",
        "| **Lemma** | Trained by **Lemmatizer** annotator on **lemmatization-lists** by `Michal Měchura`|\n",
        "| **POS**   | Trained by **PerceptronApproach** annotator on the [Universal Dependencies](https://universaldependencies.org/treebanks/de_hdt/index.html)|\n",
        "| **NER**   | Trained by **NerDLApproach** annotator with **Char CNNs - BiLSTM - CRF** and **GloVe Embeddings** on the **WikiNER** corpus and supports the identification of `PER`, `LOC`, `ORG` and `MISC` entities |"
      ]
    },
    {
      "cell_type": "code",
      "execution_count": 2,
      "metadata": {
        "id": "QGc8b0-yGrXC"
      },
      "outputs": [],
      "source": [
        "import sparknlp\n",
        "from sparknlp.annotator import *\n",
        "from sparknlp.base import *\n",
        "from sparknlp.pretrained import PretrainedPipeline\n",
        "\n",
        "from pyspark.sql.types import StringType"
      ]
    },
    {
      "cell_type": "code",
      "execution_count": 3,
      "metadata": {
        "colab": {
          "base_uri": "https://localhost:8080/"
        },
        "id": "SY5sbRNUGrXI",
        "outputId": "f3c56aed-8c58-47dd-f7c5-c6c7604c829e"
      },
      "outputs": [
        {
          "output_type": "stream",
          "name": "stdout",
          "text": [
            "Spark NLP version:  4.2.6\n",
            "Apache Spark version:  3.2.3\n"
          ]
        }
      ],
      "source": [
        "spark = sparknlp.start()\n",
        "\n",
        "print(\"Spark NLP version: \", sparknlp.version())\n",
        "print(\"Apache Spark version: \", spark.version)"
      ]
    },
    {
      "cell_type": "code",
      "execution_count": 4,
      "metadata": {
        "id": "fNfAQEa2GrXP"
      },
      "outputs": [],
      "source": [
        "dfTest = spark.createDataFrame([\n",
        "    \"Die Anfänge der EU gehen auf die 1950er-Jahre zurück, als zunächst sechs Staaten die Europäische Wirtschaftsgemeinschaft (EWG) gründeten.\",\n",
        "    \"Angela[1] Dorothea Merkel (* 17. Juli 1954 in Hamburg als Angela Dorothea Kasner) ist eine deutsche Politikerin (CDU).\"\n",
        "], StringType()).toDF(\"text\")"
      ]
    },
    {
      "cell_type": "markdown",
      "metadata": {
        "id": "DgmHq9mYGrXV"
      },
      "source": [
        "### Pretrained Pipelines in German\n",
        "#### explain_document_md (glove_6B_300)"
      ]
    },
    {
      "cell_type": "code",
      "execution_count": 5,
      "metadata": {
        "colab": {
          "base_uri": "https://localhost:8080/"
        },
        "id": "iYU-OmoJGrXW",
        "outputId": "644181e5-9975-4061-8c75-3fc315cc4b59"
      },
      "outputs": [
        {
          "output_type": "stream",
          "name": "stdout",
          "text": [
            "explain_document_md download started this may take some time.\n",
            "Approx size to download 452.4 MB\n",
            "[OK!]\n"
          ]
        }
      ],
      "source": [
        "pipeline_exdo_md = PretrainedPipeline('explain_document_md', 'de')"
      ]
    },
    {
      "cell_type": "code",
      "execution_count": 6,
      "metadata": {
        "colab": {
          "base_uri": "https://localhost:8080/"
        },
        "id": "2wfeCpX7GrXa",
        "outputId": "bdf98869-59df-4ac9-dd04-cefe64ac4588"
      },
      "outputs": [
        {
          "output_type": "stream",
          "name": "stdout",
          "text": [
            "+----------+----------+----------+----------+----------+----------+----------+----------+----------+\n",
            "|      text|  document|  sentence|     token|     lemma|       pos|embeddings|       ner|  entities|\n",
            "+----------+----------+----------+----------+----------+----------+----------+----------+----------+\n",
            "|Die Anf...|[{docum...|[{docum...|[{token...|[{token...|[{pos, ...|[{word_...|[{named...|[{chunk...|\n",
            "|Angela[...|[{docum...|[{docum...|[{token...|[{token...|[{pos, ...|[{word_...|[{named...|[{chunk...|\n",
            "+----------+----------+----------+----------+----------+----------+----------+----------+----------+\n",
            "\n"
          ]
        }
      ],
      "source": [
        "pipeline_exdo_md.transform(dfTest).show(2, truncate=10)"
      ]
    },
    {
      "cell_type": "code",
      "execution_count": 7,
      "metadata": {
        "colab": {
          "base_uri": "https://localhost:8080/"
        },
        "id": "0_M6Ks9lGrXe",
        "outputId": "366be6d4-5e6b-4a7c-9224-e2aeaa919483",
        "scrolled": true
      },
      "outputs": [
        {
          "output_type": "stream",
          "name": "stdout",
          "text": [
            "+----------------------------------------------------------------------+\n",
            "|                                                                result|\n",
            "+----------------------------------------------------------------------+\n",
            "|[Die, Anfang, der, EU, gehen, auf, der, 1950er-Jahre, zurück,, als,...|\n",
            "|[Angela[1], Dorothea, Merkel, (*, 17, ., Juli, 1954, in, Hamburg, a...|\n",
            "+----------------------------------------------------------------------+\n",
            "\n",
            "+----------------------------------------------------------------------+\n",
            "|                                                                result|\n",
            "+----------------------------------------------------------------------+\n",
            "|[DET, NOUN, DET, PROPN, VERB, ADP, DET, NOUN, VERB, ADP, ADV, NUM, ...|\n",
            "|[PROPN, PROPN, PROPN, X, NUM, PUNCT, NOUN, NUM, ADP, PROPN, ADP, PR...|\n",
            "+----------------------------------------------------------------------+\n",
            "\n",
            "+----------------------------------------------------------------------+\n",
            "|                                                                result|\n",
            "+----------------------------------------------------------------------+\n",
            "|                                     [EU, Staaten, Europäische, (EWG)]|\n",
            "|[Angela[1] Dorothea Merkel, Hamburg, Angela Dorothea Kasner), deuts...|\n",
            "+----------------------------------------------------------------------+\n",
            "\n"
          ]
        }
      ],
      "source": [
        "pipeline_exdo_md.transform(dfTest).select(\"lemma.result\").show(2, truncate=70)\n",
        "pipeline_exdo_md.transform(dfTest).select(\"pos.result\").show(2, truncate=70)\n",
        "pipeline_exdo_md.transform(dfTest).select(\"entities.result\").show(2, truncate=70)"
      ]
    },
    {
      "cell_type": "markdown",
      "metadata": {
        "id": "xISxmUMhGrX2"
      },
      "source": [
        "#### entity_recognizer_md (glove_6B_300)"
      ]
    },
    {
      "cell_type": "code",
      "execution_count": 9,
      "metadata": {
        "colab": {
          "base_uri": "https://localhost:8080/"
        },
        "id": "--rX-7QNGrX3",
        "outputId": "4a7d2d8e-357e-42f5-bd76-2fa6f702b4f8"
      },
      "outputs": [
        {
          "output_type": "stream",
          "name": "stdout",
          "text": [
            "entity_recognizer_md download started this may take some time.\n",
            "Approx size to download 443.7 MB\n",
            "[OK!]\n"
          ]
        }
      ],
      "source": [
        "pipeline_entre_md = PretrainedPipeline('entity_recognizer_md', 'de')"
      ]
    },
    {
      "cell_type": "code",
      "execution_count": 10,
      "metadata": {
        "colab": {
          "base_uri": "https://localhost:8080/"
        },
        "id": "wvWLZAsAGrX8",
        "outputId": "7cdd2ef0-f5c1-439c-9ae2-794f2688bc7b"
      },
      "outputs": [
        {
          "output_type": "stream",
          "name": "stdout",
          "text": [
            "+----------+----------+----------+----------+----------+----------+----------+\n",
            "|      text|  document|  sentence|     token|embeddings|       ner|  entities|\n",
            "+----------+----------+----------+----------+----------+----------+----------+\n",
            "|Die Anf...|[{docum...|[{docum...|[{token...|[{word_...|[{named...|[{chunk...|\n",
            "|Angela[...|[{docum...|[{docum...|[{token...|[{word_...|[{named...|[{chunk...|\n",
            "+----------+----------+----------+----------+----------+----------+----------+\n",
            "\n"
          ]
        }
      ],
      "source": [
        "pipeline_entre_md.transform(dfTest).show(2, truncate=10)"
      ]
    },
    {
      "cell_type": "code",
      "execution_count": 11,
      "metadata": {
        "colab": {
          "base_uri": "https://localhost:8080/"
        },
        "id": "M3vlrh_vGrYC",
        "outputId": "5069b648-df0b-47bd-aa0c-b0e0ec085bd1"
      },
      "outputs": [
        {
          "output_type": "stream",
          "name": "stdout",
          "text": [
            "+----------------------------------------------------------------------+\n",
            "|                                                                result|\n",
            "+----------------------------------------------------------------------+\n",
            "|[Die, Anfänge, der, EU, gehen, auf, die, 1950er-Jahre, zurück,, als...|\n",
            "|[Angela[1], Dorothea, Merkel, (*, 17, ., Juli, 1954, in, Hamburg, a...|\n",
            "+----------------------------------------------------------------------+\n",
            "\n",
            "+----------------------------------------------------------------------+\n",
            "|                                                                result|\n",
            "+----------------------------------------------------------------------+\n",
            "|[O, O, O, I-ORG, O, O, O, O, O, O, O, O, I-LOC, O, I-MISC, O, I-LOC...|\n",
            "|[I-LOC, I-PER, I-PER, O, O, O, O, O, O, I-LOC, O, I-PER, I-PER, I-P...|\n",
            "+----------------------------------------------------------------------+\n",
            "\n",
            "+----------------------------------------------------------------------+\n",
            "|                                                                result|\n",
            "+----------------------------------------------------------------------+\n",
            "|                                     [EU, Staaten, Europäische, (EWG)]|\n",
            "|[Angela[1] Dorothea Merkel, Hamburg, Angela Dorothea Kasner), deuts...|\n",
            "+----------------------------------------------------------------------+\n",
            "\n"
          ]
        }
      ],
      "source": [
        "pipeline_entre_md.transform(dfTest).select(\"token.result\").show(2, truncate=70)\n",
        "pipeline_entre_md.transform(dfTest).select(\"ner.result\").show(2, truncate=70)\n",
        "pipeline_entre_md.transform(dfTest).select(\"entities.result\").show(2, truncate=70)"
      ]
    },
    {
      "cell_type": "markdown",
      "metadata": {
        "id": "0QdmUQdSGrYI"
      },
      "source": [
        "#### entity_recognizer_lg (glove_840B_300)"
      ]
    },
    {
      "cell_type": "code",
      "execution_count": 12,
      "metadata": {
        "colab": {
          "base_uri": "https://localhost:8080/"
        },
        "id": "kjBzcacjGrYJ",
        "outputId": "ee0b9106-d1cc-4a57-a0b7-f7db9a6d07a7"
      },
      "outputs": [
        {
          "output_type": "stream",
          "name": "stdout",
          "text": [
            "entity_recognizer_lg download started this may take some time.\n",
            "Approx size to download 2.3 GB\n",
            "[OK!]\n"
          ]
        }
      ],
      "source": [
        "pipeline_entre_lg = PretrainedPipeline('entity_recognizer_lg', 'de')"
      ]
    },
    {
      "cell_type": "code",
      "execution_count": 13,
      "metadata": {
        "colab": {
          "base_uri": "https://localhost:8080/"
        },
        "id": "n10-XfpQGrYN",
        "outputId": "391607a8-656e-433a-ee06-8fed46eb3826"
      },
      "outputs": [
        {
          "output_type": "stream",
          "name": "stdout",
          "text": [
            "+----------+----------+----------+----------+----------+----------+----------+\n",
            "|      text|  document|  sentence|     token|embeddings|       ner|  entities|\n",
            "+----------+----------+----------+----------+----------+----------+----------+\n",
            "|Die Anf...|[{docum...|[{docum...|[{token...|[{word_...|[{named...|[{chunk...|\n",
            "|Angela[...|[{docum...|[{docum...|[{token...|[{word_...|[{named...|[{chunk...|\n",
            "+----------+----------+----------+----------+----------+----------+----------+\n",
            "\n"
          ]
        }
      ],
      "source": [
        "pipeline_entre_lg.transform(dfTest).show(2, truncate=10)"
      ]
    },
    {
      "cell_type": "code",
      "execution_count": 14,
      "metadata": {
        "colab": {
          "base_uri": "https://localhost:8080/"
        },
        "id": "zZqLfnw9GrYV",
        "outputId": "13e7c4bf-6175-4b08-b533-730c77665c70"
      },
      "outputs": [
        {
          "output_type": "stream",
          "name": "stdout",
          "text": [
            "+----------------------------------------------------------------------+\n",
            "|                                                                result|\n",
            "+----------------------------------------------------------------------+\n",
            "|[Die, Anfänge, der, EU, gehen, auf, die, 1950er-Jahre, zurück,, als...|\n",
            "|[Angela[1], Dorothea, Merkel, (*, 17, ., Juli, 1954, in, Hamburg, a...|\n",
            "+----------------------------------------------------------------------+\n",
            "\n",
            "+----------------------------------------------------------------------+\n",
            "|                                                                result|\n",
            "+----------------------------------------------------------------------+\n",
            "|[O, O, O, I-ORG, O, O, O, O, O, O, O, O, I-ORG, O, I-LOC, I-LOC, I-...|\n",
            "|[O, I-PER, I-PER, O, O, O, O, O, O, I-LOC, O, I-PER, I-PER, I-PER, ...|\n",
            "+----------------------------------------------------------------------+\n",
            "\n",
            "+---------------------------------------------------------------------+\n",
            "|                                                               result|\n",
            "+---------------------------------------------------------------------+\n",
            "|             [EU, Staaten, Europäische Wirtschaftsgemeinschaft (EWG)]|\n",
            "|[Dorothea Merkel, Hamburg, Angela Dorothea Kasner), deutsche, (CDU).]|\n",
            "+---------------------------------------------------------------------+\n",
            "\n"
          ]
        }
      ],
      "source": [
        "pipeline_entre_lg.transform(dfTest).select(\"token.result\").show(2, truncate=70)\n",
        "pipeline_entre_lg.transform(dfTest).select(\"ner.result\").show(2, truncate=70)\n",
        "pipeline_entre_lg.transform(dfTest).select(\"entities.result\").show(2, truncate=70)"
      ]
    },
    {
      "cell_type": "markdown",
      "metadata": {
        "id": "XKPV6SQFGrYa"
      },
      "source": [
        "### Pretrained Models in German"
      ]
    },
    {
      "cell_type": "code",
      "execution_count": 15,
      "metadata": {
        "colab": {
          "base_uri": "https://localhost:8080/"
        },
        "id": "IVfLuZ78GrYb",
        "outputId": "b078f853-a19e-4d9f-d4af-30d135297fa5"
      },
      "outputs": [
        {
          "output_type": "stream",
          "name": "stdout",
          "text": [
            "lemma download started this may take some time.\n",
            "Approximate size to download 4 MB\n",
            "[OK!]\n",
            "pos_ud_hdt download started this may take some time.\n",
            "Approximate size to download 4.7 MB\n",
            "[OK!]\n",
            "glove_6B_300 download started this may take some time.\n",
            "Approximate size to download 426.2 MB\n",
            "[OK!]\n",
            "wikiner_6B_300 download started this may take some time.\n",
            "Approximate size to download 14.1 MB\n",
            "[OK!]\n"
          ]
        }
      ],
      "source": [
        "document = DocumentAssembler() \\\n",
        "    .setInputCol(\"text\")\\\n",
        "    .setOutputCol(\"document\")\n",
        "\n",
        "sentence = SentenceDetector()\\\n",
        "    .setInputCols(['document'])\\\n",
        "    .setOutputCol('sentence')\n",
        "\n",
        "token = Tokenizer()\\\n",
        "    .setInputCols(['sentence'])\\\n",
        "    .setOutputCol('token')\n",
        "\n",
        "lemma = LemmatizerModel.pretrained('lemma', 'de')\\\n",
        "    .setInputCols(['token'])\\\n",
        "    .setOutputCol('lemma')\n",
        "\n",
        "pos = PerceptronModel.pretrained('pos_ud_hdt', 'de') \\\n",
        "    .setInputCols(['sentence', 'token'])\\\n",
        "    .setOutputCol('pos')\n",
        "\n",
        "embeddings = WordEmbeddingsModel.pretrained('glove_6B_300', 'xx')\\\n",
        "    .setInputCols(['sentence', 'token'])\\\n",
        "    .setOutputCol('embeddings')\n",
        "\n",
        "ner_model = NerDLModel.pretrained('wikiner_6B_300', 'de')\\\n",
        "    .setInputCols(['sentence', 'token', 'embeddings'])\\\n",
        "    .setOutputCol('ner')\n",
        "\n",
        "\n",
        "prediction_pipeline = Pipeline(stages=[\n",
        "        document,\n",
        "        sentence,\n",
        "        token,\n",
        "        lemma,\n",
        "        pos,\n",
        "        embeddings,\n",
        "        ner_model\n",
        "])"
      ]
    },
    {
      "cell_type": "code",
      "execution_count": 16,
      "metadata": {
        "id": "Kmc2VBqhGrYf"
      },
      "outputs": [],
      "source": [
        "prediction = prediction_pipeline.fit(dfTest).transform(dfTest)"
      ]
    },
    {
      "cell_type": "code",
      "execution_count": 17,
      "metadata": {
        "colab": {
          "base_uri": "https://localhost:8080/"
        },
        "id": "lH4RDQIEGrYi",
        "outputId": "cc590d5f-94a6-4a86-dcb1-ef417820561b"
      },
      "outputs": [
        {
          "output_type": "stream",
          "name": "stdout",
          "text": [
            "+----------------------------------------------------------------------+\n",
            "|                                                                result|\n",
            "+----------------------------------------------------------------------+\n",
            "|[Die, Anfang, der, EU, gehen, auf, der, 1950er-Jahre, zurück, ,, al...|\n",
            "|[Angela[1], Dorothea, Merkel, (*, 17, ., Juli, 1954, in, Hamburg, a...|\n",
            "+----------------------------------------------------------------------+\n",
            "\n",
            "+----------------------------------------------------------------------+\n",
            "|                                                                result|\n",
            "+----------------------------------------------------------------------+\n",
            "|[DET, NOUN, DET, PROPN, VERB, ADP, DET, NOUN, ADP, PUNCT, ADP, ADV,...|\n",
            "|[PROPN, PROPN, PROPN, X, NUM, PUNCT, NOUN, NUM, ADP, PROPN, ADP, PR...|\n",
            "+----------------------------------------------------------------------+\n",
            "\n",
            "+----------------------------------------------------------------------+\n",
            "|                                                                result|\n",
            "+----------------------------------------------------------------------+\n",
            "|[O, O, O, I-ORG, O, O, O, O, O, O, O, O, O, I-LOC, O, I-ORG, I-ORG,...|\n",
            "|[I-LOC, I-PER, I-PER, O, O, O, O, O, O, I-LOC, O, I-PER, I-PER, I-P...|\n",
            "+----------------------------------------------------------------------+\n",
            "\n"
          ]
        }
      ],
      "source": [
        "\n",
        "prediction.select(\"lemma.result\").show(2, truncate=70)\n",
        "prediction.select(\"pos.result\").show(2, truncate=70)\n",
        "prediction.select(\"ner.result\").show(2, truncate=70)"
      ]
    },
    {
      "cell_type": "code",
      "execution_count": null,
      "metadata": {
        "id": "MCovIRpoGrYm"
      },
      "outputs": [],
      "source": []
    }
  ],
  "metadata": {
    "colab": {
      "name": "pretrained-german-models.ipynb",
      "provenance": [],
      "toc_visible": true
    },
    "kernelspec": {
      "display_name": "Python 3",
      "language": "python",
      "name": "python3"
    },
    "language_info": {
      "codemirror_mode": {
        "name": "ipython",
        "version": 3
      },
      "file_extension": ".py",
      "mimetype": "text/x-python",
      "name": "python",
      "nbconvert_exporter": "python",
      "pygments_lexer": "ipython3",
      "version": "3.6.9"
    }
  },
  "nbformat": 4,
  "nbformat_minor": 0
}