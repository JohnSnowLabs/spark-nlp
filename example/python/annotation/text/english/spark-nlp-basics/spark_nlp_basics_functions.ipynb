{
  "cells": [
    {
      "cell_type": "markdown",
      "metadata": {
        "id": "-u_xtOW4xhKN"
      },
      "source": [
        "![JohnSnowLabs](https://nlp.johnsnowlabs.com/assets/images/logo.png)\n",
        "\n",
        "[![Open In Colab](https://colab.research.google.com/assets/colab-badge.svg)](https://colab.research.google.com/github/JohnSnowLabs/spark-nlp-workshop/blob/master/jupyter/annotation/english/spark-nlp-basics/spark-nlp-basics-functions.ipynb)\n",
        "\n",
        "## 0. Colab Setup"
      ]
    },
    {
      "cell_type": "code",
      "execution_count": 1,
      "metadata": {
        "colab": {
          "base_uri": "https://localhost:8080/"
        },
        "id": "vu4xVB70xiAW",
        "outputId": "05690fbb-2f40-4ce9-e35c-31ff588fb20c"
      },
      "outputs": [
        {
          "output_type": "stream",
          "name": "stdout",
          "text": [
            "--2022-12-23 14:47:28--  http://setup.johnsnowlabs.com/colab.sh\n",
            "Resolving setup.johnsnowlabs.com (setup.johnsnowlabs.com)... 51.158.130.125\n",
            "Connecting to setup.johnsnowlabs.com (setup.johnsnowlabs.com)|51.158.130.125|:80... connected.\n",
            "HTTP request sent, awaiting response... 302 Found\n",
            "Location: https://setup.johnsnowlabs.com/colab.sh [following]\n",
            "--2022-12-23 14:47:28--  https://setup.johnsnowlabs.com/colab.sh\n",
            "Connecting to setup.johnsnowlabs.com (setup.johnsnowlabs.com)|51.158.130.125|:443... connected.\n",
            "HTTP request sent, awaiting response... 302 Moved Temporarily\n",
            "Location: https://raw.githubusercontent.com/JohnSnowLabs/spark-nlp/master/scripts/colab_setup.sh [following]\n",
            "--2022-12-23 14:47:28--  https://raw.githubusercontent.com/JohnSnowLabs/spark-nlp/master/scripts/colab_setup.sh\n",
            "Resolving raw.githubusercontent.com (raw.githubusercontent.com)... 185.199.108.133, 185.199.109.133, 185.199.110.133, ...\n",
            "Connecting to raw.githubusercontent.com (raw.githubusercontent.com)|185.199.108.133|:443... connected.\n",
            "HTTP request sent, awaiting response... 200 OK\n",
            "Length: 1191 (1.2K) [text/plain]\n",
            "Saving to: ‘STDOUT’\n",
            "\n",
            "\r-                     0%[                    ]       0  --.-KB/s               \rInstalling PySpark 3.2.3 and Spark NLP 4.2.6\n",
            "setup Colab for PySpark 3.2.3 and Spark NLP 4.2.6\n",
            "-                   100%[===================>]   1.16K  --.-KB/s    in 0s      \n",
            "\n",
            "2022-12-23 14:47:28 (70.5 MB/s) - written to stdout [1191/1191]\n",
            "\n",
            "\u001b[K     |████████████████████████████████| 281.5 MB 64 kB/s \n",
            "\u001b[K     |████████████████████████████████| 453 kB 70.0 MB/s \n",
            "\u001b[K     |████████████████████████████████| 199 kB 67.5 MB/s \n",
            "\u001b[?25h  Building wheel for pyspark (setup.py) ... \u001b[?25l\u001b[?25hdone\n"
          ]
        }
      ],
      "source": [
        "# This is only to setup PySpark and Spark NLP on Colab\n",
        "!wget http://setup.johnsnowlabs.com/colab.sh -O - | bash"
      ]
    },
    {
      "cell_type": "code",
      "execution_count": 2,
      "metadata": {
        "id": "B_tMDIQoxeSt"
      },
      "outputs": [],
      "source": [
        "from sparknlp.annotator import *"
      ]
    },
    {
      "cell_type": "code",
      "execution_count": 3,
      "metadata": {
        "colab": {
          "base_uri": "https://localhost:8080/"
        },
        "id": "HyZukzXLxeS0",
        "outputId": "5c29bf96-9376-4a6d-d46d-409dc7423dc2"
      },
      "outputs": [
        {
          "output_type": "stream",
          "name": "stdout",
          "text": [
            "Spark NLP version:  4.2.6\n",
            "Apache Spark version:  3.2.3\n"
          ]
        }
      ],
      "source": [
        "import sparknlp \n",
        "\n",
        "spark = sparknlp.start()\n",
        "\n",
        "print(\"Spark NLP version: \", sparknlp.version())\n",
        "print(\"Apache Spark version: \", spark.version)\n"
      ]
    },
    {
      "cell_type": "code",
      "execution_count": 4,
      "metadata": {
        "id": "v43jtyDRxeS_"
      },
      "outputs": [],
      "source": [
        "from sparknlp.pretrained import *"
      ]
    },
    {
      "cell_type": "code",
      "execution_count": 5,
      "metadata": {
        "id": "OXjg1fb8xeTH"
      },
      "outputs": [],
      "source": [
        "data = spark.createDataFrame([['Peter is a goud person.']]).toDF('text')"
      ]
    },
    {
      "cell_type": "code",
      "execution_count": 6,
      "metadata": {
        "colab": {
          "base_uri": "https://localhost:8080/"
        },
        "id": "7ClSdJdTxeTM",
        "outputId": "4262ccf9-d3fa-4c34-8066-23e376c308e5"
      },
      "outputs": [
        {
          "output_type": "stream",
          "name": "stdout",
          "text": [
            "explain_document_ml download started this may take some time.\n",
            "Approx size to download 9.2 MB\n",
            "[OK!]\n"
          ]
        }
      ],
      "source": [
        "pipeline = PretrainedPipeline('explain_document_ml')"
      ]
    },
    {
      "cell_type": "code",
      "execution_count": 7,
      "metadata": {
        "id": "WvirWmunxeTT"
      },
      "outputs": [],
      "source": [
        "result = pipeline.transform(data)"
      ]
    },
    {
      "cell_type": "code",
      "execution_count": 8,
      "metadata": {
        "colab": {
          "base_uri": "https://localhost:8080/"
        },
        "id": "G2xRMXIyxeTa",
        "outputId": "46e26da6-e41f-498c-cff1-41c10ccc5689"
      },
      "outputs": [
        {
          "output_type": "stream",
          "name": "stdout",
          "text": [
            "+--------------------+--------------------+--------------------+--------------------+--------------------+--------------------+--------------------+--------------------+\n",
            "|                text|            document|            sentence|               token|               spell|              lemmas|               stems|                 pos|\n",
            "+--------------------+--------------------+--------------------+--------------------+--------------------+--------------------+--------------------+--------------------+\n",
            "|Peter is a goud p...|[{document, 0, 22...|[{document, 0, 22...|[{token, 0, 4, Pe...|[{token, 0, 4, Pe...|[{token, 0, 4, Pe...|[{token, 0, 4, pe...|[{pos, 0, 4, NNP,...|\n",
            "+--------------------+--------------------+--------------------+--------------------+--------------------+--------------------+--------------------+--------------------+\n",
            "\n"
          ]
        }
      ],
      "source": [
        "result.show()"
      ]
    },
    {
      "cell_type": "code",
      "execution_count": 9,
      "metadata": {
        "id": "PF8Da3r1xeTh"
      },
      "outputs": [],
      "source": [
        "from sparknlp.functions import *"
      ]
    },
    {
      "cell_type": "code",
      "execution_count": 10,
      "metadata": {
        "id": "DVKKQINLxeTl"
      },
      "outputs": [],
      "source": [
        "from sparknlp.annotation import Annotation\n",
        "\n",
        "def my_annoation_map_function(annotations):\n",
        "    return list(map(lambda a: Annotation(\n",
        "        'my_own_type',\n",
        "        a.begin,\n",
        "        a.end,\n",
        "        a.result,\n",
        "        {'my_key': 'custom_annotation_data'},\n",
        "        []), annotations))"
      ]
    },
    {
      "cell_type": "code",
      "execution_count": 11,
      "metadata": {
        "colab": {
          "base_uri": "https://localhost:8080/"
        },
        "id": "iS_GIVYLxeTq",
        "outputId": "e124c2d8-7eae-47a6-9c0e-b9c273936b34"
      },
      "outputs": [
        {
          "output_type": "stream",
          "name": "stdout",
          "text": [
            "+-------------------------------------------------------------------------------------------------------------------------------------------------------------------------------------------------------------------------------------------------------------------------------------------------------------------------------------------------------------------------------------------------------------------+\n",
            "|my output                                                                                                                                                                                                                                                                                                                                                                                                          |\n",
            "+-------------------------------------------------------------------------------------------------------------------------------------------------------------------------------------------------------------------------------------------------------------------------------------------------------------------------------------------------------------------------------------------------------------------+\n",
            "|[{my_own_type, 0, 4, Peter, {my_key -> custom_annotation_data}, []}, {my_own_type, 6, 7, is, {my_key -> custom_annotation_data}, []}, {my_own_type, 9, 9, a, {my_key -> custom_annotation_data}, []}, {my_own_type, 11, 14, goud, {my_key -> custom_annotation_data}, []}, {my_own_type, 16, 21, person, {my_key -> custom_annotation_data}, []}, {my_own_type, 22, 22, ., {my_key -> custom_annotation_data}, []}]|\n",
            "+-------------------------------------------------------------------------------------------------------------------------------------------------------------------------------------------------------------------------------------------------------------------------------------------------------------------------------------------------------------------------------------------------------------------+\n",
            "\n"
          ]
        }
      ],
      "source": [
        "# The array type must be provided in order to tell Spark the expected output type of our column.\n",
        "# We are using an Annotation array here\n",
        "\n",
        "result.select(\n",
        "    map_annotations(my_annoation_map_function, Annotation.arrayType())('token')\n",
        ").toDF(\"my output\").show(truncate=False)"
      ]
    },
    {
      "cell_type": "code",
      "execution_count": 13,
      "metadata": {
        "colab": {
          "base_uri": "https://localhost:8080/"
        },
        "id": "SitS9U91xeTv",
        "outputId": "055b62d2-1f8c-4cb4-c0cb-acf8d242205d"
      },
      "outputs": [
        {
          "output_type": "stream",
          "name": "stdout",
          "text": [
            "+--------+\n",
            "|exploded|\n",
            "+--------+\n",
            "|   Peter|\n",
            "|      be|\n",
            "|       a|\n",
            "|   gourd|\n",
            "|  person|\n",
            "|       .|\n",
            "+--------+\n",
            "\n"
          ]
        }
      ],
      "source": [
        "# we can also explode annotations like this\n",
        "\n",
        "explode_annotations_col(result, 'lemmas.result', 'exploded').select('exploded').show()"
      ]
    },
    {
      "cell_type": "code",
      "execution_count": null,
      "metadata": {
        "id": "688fidGZxeT1"
      },
      "outputs": [],
      "source": []
    }
  ],
  "metadata": {
    "colab": {
      "name": "spark-nlp-basics-functions.ipynb",
      "provenance": []
    },
    "kernelspec": {
      "display_name": "Python 3",
      "language": "python",
      "name": "python3"
    },
    "language_info": {
      "codemirror_mode": {
        "name": "ipython",
        "version": 3
      },
      "file_extension": ".py",
      "mimetype": "text/x-python",
      "name": "python",
      "nbconvert_exporter": "python",
      "pygments_lexer": "ipython3",
      "version": "3.6.9"
    }
  },
  "nbformat": 4,
  "nbformat_minor": 0
}