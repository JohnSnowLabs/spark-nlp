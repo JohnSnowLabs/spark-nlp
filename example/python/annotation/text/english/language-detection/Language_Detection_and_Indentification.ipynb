{
 "cells": [
  {
   "cell_type": "markdown",
   "metadata": {
    "colab_type": "text",
    "id": "DryaQ76bhsVy"
   },
   "source": [
    "![JohnSnowLabs](https://nlp.johnsnowlabs.com/assets/images/logo.png)\n",
    "\n",
    "[![Open In Colab](https://colab.research.google.com/assets/colab-badge.svg)](https://github.com/JohnSnowLabs/spark-nlp-workshop/blob/master/jupyter/annotation/english/language-detection/Language_Detection_and_Indentification.ipynb)\n",
    "\n",
    "## 0. Colab Setup"
   ]
  },
  {
   "cell_type": "code",
   "execution_count": 19,
   "metadata": {
    "colab": {
     "base_uri": "https://localhost:8080/",
     "height": 68
    },
    "colab_type": "code",
    "id": "jaJI-cfjPnac",
    "outputId": "729d2536-d49a-437b-d783-b1e59259ed49"
   },
   "outputs": [
    {
     "name": "stdout",
     "output_type": "stream",
     "text": [
      "openjdk version \"1.8.0_252\"\n",
      "OpenJDK Runtime Environment (build 1.8.0_252-8u252-b09-1~18.04-b09)\n",
      "OpenJDK 64-Bit Server VM (build 25.252-b09, mixed mode)\n"
     ]
    }
   ],
   "source": [
    "# This is only to setup PySpark and Spark NLP on Colab\n",
    "!wget http://setup.johnsnowlabs.com/colab.sh -O - | bash"
   ]
  },
  {
   "cell_type": "markdown",
   "metadata": {
    "colab_type": "text",
    "id": "ODtmoBwfoX3T"
   },
   "source": [
    "## 1. Start Spark Session"
   ]
  },
  {
   "cell_type": "code",
   "execution_count": 1,
   "metadata": {
    "colab": {
     "base_uri": "https://localhost:8080/",
     "height": 51
    },
    "colab_type": "code",
    "id": "5q8yjPy8oUBj",
    "outputId": "d3dca249-5180-4cac-f4c2-4d6bb297c86b"
   },
   "outputs": [
    {
     "name": "stdout",
     "output_type": "stream",
     "text": [
      "Spark NLP version 2.7.2\n",
      "Apache Spark version: 2.4.4\n"
     ]
    }
   ],
   "source": [
    "import sparknlp\n",
    "\n",
    "spark = sparknlp.start()\n",
    "\n",
    "print(\"Spark NLP version\", sparknlp.version())\n",
    "\n",
    "print(\"Apache Spark version:\", spark.version)\n"
   ]
  },
  {
   "cell_type": "markdown",
   "metadata": {
    "colab_type": "text",
    "id": "O4gGGYD6P6NN"
   },
   "source": [
    "## LanguageDetectorDL Pre-trained Models & Pipelines\n",
    "\n",
    "* Available pre-trained pipelines: https://nlp.johnsnowlabs.com/models?tag=language_detection\n",
    "\n",
    "\n",
    "| Model                        | Name               | Build            | Lang \n",
    "|:-----------------------------|:-------------------|:-----------------|:------\n",
    "| LanguageDetectorDL    | `detect_language_21`        | 2.7.0 |      `xx`         | \n",
    "| LanguageDetectorDL    | `detect_language_43`        | 2.7.0 |      `xx`         | \n",
    "| LanguageDetectorDL    | `detect_language_95`        | 2.7.0 |      `xx`         | \n",
    "| LanguageDetectorDL    | `detect_language_99`        | 2.7.0 |      `xx`         | \n",
    "| LanguageDetectorDL    | `detect_language_220`        | 2.7.0 |      `xx`         | \n",
    "| LanguageDetectorDL    | `detect_language_231`        | 2.7.0 |      `xx`         | \n",
    "| LanguageDetectorDL    | `detect_language_375`        | 2.7.0 |      `xx`         | "
   ]
  },
  {
   "cell_type": "markdown",
   "metadata": {
    "colab_type": "text",
    "id": "PmG3Pw0wQ4RR"
   },
   "source": [
    "# LanguageDetectorDL\n",
    "## Pre-trained Pipelines"
   ]
  },
  {
   "cell_type": "code",
   "execution_count": 2,
   "metadata": {
    "colab": {},
    "colab_type": "code",
    "id": "vvTiBzCwQ20J"
   },
   "outputs": [],
   "source": [
    "from sparknlp.pretrained import PretrainedPipeline"
   ]
  },
  {
   "cell_type": "code",
   "execution_count": 5,
   "metadata": {
    "colab": {
     "base_uri": "https://localhost:8080/",
     "height": 85
    },
    "colab_type": "code",
    "id": "c4e1jc5ARGNv",
    "outputId": "f50c1064-155a-4aa8-8e40-0653f621357f"
   },
   "outputs": [
    {
     "name": "stdout",
     "output_type": "stream",
     "text": [
      "detect_language_21 download started this may take some time.\n",
      "Approx size to download 7.7 MB\n",
      "[OK!]\n"
     ]
    },
    {
     "data": {
      "text/plain": [
       "{'document': ['«Нападение на 13-й участок»'],\n",
       " 'sentence': ['«Нападение на 13-й участок»'],\n",
       " 'language': ['bg']}"
      ]
     },
     "execution_count": 5,
     "metadata": {},
     "output_type": "execute_result"
    }
   ],
   "source": [
    "# Download a pre-trained pipeline by name and language\n",
    "language_detector_pipeline = PretrainedPipeline('detect_language_21', lang='xx')\n",
    "\n",
    "# Depending on the language (how similar the characters are), the LanguageDetectorDL works\n",
    "# best with text longer than 140 characters\n",
    "language_detector_pipeline.annotate(\"«Нападение на 13-й участок»\")\n"
   ]
  },
  {
   "cell_type": "markdown",
   "metadata": {
    "colab_type": "text",
    "id": "HueVA_myV_3T"
   },
   "source": [
    "# LanguageDetectorDL\n",
    "## Pre-trained Models"
   ]
  },
  {
   "cell_type": "code",
   "execution_count": 4,
   "metadata": {
    "colab": {},
    "colab_type": "code",
    "id": "ttZ219E_WE52"
   },
   "outputs": [],
   "source": [
    "from sparknlp.base import *\n",
    "from sparknlp.annotator import *"
   ]
  },
  {
   "cell_type": "code",
   "execution_count": 6,
   "metadata": {
    "colab": {
     "base_uri": "https://localhost:8080/",
     "height": 68
    },
    "colab_type": "code",
    "id": "5iicvy3sWPu0",
    "outputId": "9883d655-67d3-452d-e572-542c29d92687"
   },
   "outputs": [
    {
     "name": "stdout",
     "output_type": "stream",
     "text": [
      "ld_wiki_tatoeba_cnn_21 download started this may take some time.\n",
      "Approximate size to download 7.1 MB\n",
      "[OK!]\n"
     ]
    }
   ],
   "source": [
    "documentAssembler = DocumentAssembler()\\\n",
    ".setInputCol(\"text\")\\\n",
    ".setOutputCol(\"document\")\n",
    "\n",
    "language_detector = LanguageDetectorDL.pretrained(\"ld_wiki_tatoeba_cnn_21\")\\\n",
    ".setInputCols([\"document\"])\\\n",
    ".setOutputCol(\"lang\")\\\n",
    ".setThreshold(0.8)\\\n",
    ".setCoalesceSentences(True)\n",
    "\n",
    "languagePipeline = Pipeline(stages=[\n",
    " documentAssembler, \n",
    " language_detector\n",
    "])"
   ]
  },
  {
   "cell_type": "code",
   "execution_count": 7,
   "metadata": {
    "colab": {},
    "colab_type": "code",
    "id": "5WT1pE_yYukK"
   },
   "outputs": [],
   "source": [
    "test_df = spark.createDataFrame([\n",
    "  ['Spark NLP is an open-source text processing library for advanced natural language processing for the Python, Java and Scala programming languages.'], \n",
    "  ['Spark NLP est une bibliothèque de traitement de texte open source pour le traitement avancé du langage naturel pour les langages de programmation Python, Java et Scala.']]\n",
    ").toDF(\"text\")\n",
    "\n",
    "results = languagePipeline.fit(test_df).transform(test_df)"
   ]
  },
  {
   "cell_type": "code",
   "execution_count": 8,
   "metadata": {
    "colab": {
     "base_uri": "https://localhost:8080/",
     "height": 136
    },
    "colab_type": "code",
    "id": "ITNTdXy-aRpF",
    "outputId": "145fb725-2582-47ab-fba8-fe35354e4261"
   },
   "outputs": [
    {
     "name": "stdout",
     "output_type": "stream",
     "text": [
      "+------+\n",
      "|result|\n",
      "+------+\n",
      "|  [en]|\n",
      "|  [fr]|\n",
      "+------+\n",
      "\n"
     ]
    }
   ],
   "source": [
    "results.select(\"lang.result\").show()"
   ]
  },
  {
   "cell_type": "code",
   "execution_count": 9,
   "metadata": {
    "colab": {
     "base_uri": "https://localhost:8080/",
     "height": 156
    },
    "colab_type": "code",
    "id": "-jgLXnlYdyUG",
    "outputId": "4fcf0f8d-443f-46dd-82e9-1944d104fd56"
   },
   "outputs": [
    {
     "name": "stdout",
     "output_type": "stream",
     "text": [
      "+-----------------------------------------------------------------------------------------------------------------------------------------------------------------------------------------------------------------------------------------------------------------------------------------------------------------------------------------------------------------------------------------------------------------------------------+\n",
      "|metadata                                                                                                                                                                                                                                                                                                                                                                                                                           |\n",
      "+-----------------------------------------------------------------------------------------------------------------------------------------------------------------------------------------------------------------------------------------------------------------------------------------------------------------------------------------------------------------------------------------------------------------------------------+\n",
      "|[[fr -> 1.5861607E-20, lv -> 0.0, pt -> 1.3417392E-18, cs -> 1.867664E-20, el -> 1.0063604E-37, it -> 5.571778E-19, nl -> 4.506842E-14, bg -> 0.0, et -> 1.1714899E-21, de -> 1.92503E-15, sv -> 7.8325875E-14, da -> 9.432577E-11, en -> 1.0, sk -> 4.056944E-20, es -> 2.1614831E-21, fi -> 9.728018E-28, ro -> 4.9039217E-21, lt -> 5.974043E-19, sl -> 3.4076286E-12, sentence -> 0, hu -> 1.5670255E-14, pl -> 1.0098746E-16]]|\n",
      "|[[fr -> 1.0, lv -> 0.0, pt -> 1.3446618E-30, cs -> 0.0, el -> 0.0, it -> 1.713754E-27, nl -> 4.127939E-37, bg -> 0.0, et -> 0.0, de -> 0.0, sv -> 0.0, da -> 0.0, en -> 0.0, sk -> 0.0, es -> 8.686001E-30, fi -> 0.0, ro -> 9.285741E-25, lt -> 0.0, sl -> 7.775083E-34, sentence -> 0, hu -> 1.5921178E-30, pl -> 0.0]]                                                                                                          |\n",
      "+-----------------------------------------------------------------------------------------------------------------------------------------------------------------------------------------------------------------------------------------------------------------------------------------------------------------------------------------------------------------------------------------------------------------------------------+\n",
      "\n"
     ]
    }
   ],
   "source": [
    "# probabilities for other languages\n",
    "results.select(\"lang.metadata\").show(2, False)"
   ]
  },
  {
   "cell_type": "code",
   "execution_count": null,
   "metadata": {
    "colab": {},
    "colab_type": "code",
    "id": "JSgwz7g4dzpu"
   },
   "outputs": [],
   "source": []
  }
 ],
 "metadata": {
  "colab": {
   "collapsed_sections": [],
   "name": "Language Detection and Indentification.ipynb",
   "provenance": []
  },
  "kernelspec": {
   "display_name": "Python 3",
   "language": "python",
   "name": "python3"
  },
  "language_info": {
   "codemirror_mode": {
    "name": "ipython",
    "version": 3
   },
   "file_extension": ".py",
   "mimetype": "text/x-python",
   "name": "python",
   "nbconvert_exporter": "python",
   "pygments_lexer": "ipython3",
   "version": "3.6.9"
  }
 },
 "nbformat": 4,
 "nbformat_minor": 1
}
