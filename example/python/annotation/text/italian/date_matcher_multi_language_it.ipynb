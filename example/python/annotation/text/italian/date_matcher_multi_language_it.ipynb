{
  "cells": [
    {
      "cell_type": "markdown",
      "metadata": {
        "id": "Yo-UWYoz8DLl"
      },
      "source": [
        "# DateMatcher multi-language\n",
        "\n",
        "#### This annotator allows you to specify a source language that will be used to identify temporal keywords and extract dates."
      ]
    },
    {
      "cell_type": "code",
      "source": [
        "# This is only to setup PySpark and Spark NLP on Colab\n",
        "!wget http://setup.johnsnowlabs.com/colab.sh -O - | bash"
      ],
      "metadata": {
        "id": "tlt9hbXG8De3",
        "outputId": "33cc8225-608e-43e8-a4be-da07d95fee3e",
        "colab": {
          "base_uri": "https://localhost:8080/"
        }
      },
      "execution_count": 1,
      "outputs": [
        {
          "output_type": "stream",
          "name": "stdout",
          "text": [
            "--2022-12-23 12:23:48--  http://setup.johnsnowlabs.com/colab.sh\n",
            "Resolving setup.johnsnowlabs.com (setup.johnsnowlabs.com)... 51.158.130.125\n",
            "Connecting to setup.johnsnowlabs.com (setup.johnsnowlabs.com)|51.158.130.125|:80... connected.\n",
            "HTTP request sent, awaiting response... 302 Found\n",
            "Location: https://setup.johnsnowlabs.com/colab.sh [following]\n",
            "--2022-12-23 12:23:48--  https://setup.johnsnowlabs.com/colab.sh\n",
            "Connecting to setup.johnsnowlabs.com (setup.johnsnowlabs.com)|51.158.130.125|:443... connected.\n",
            "HTTP request sent, awaiting response... 302 Moved Temporarily\n",
            "Location: https://raw.githubusercontent.com/JohnSnowLabs/spark-nlp/master/scripts/colab_setup.sh [following]\n",
            "--2022-12-23 12:23:49--  https://raw.githubusercontent.com/JohnSnowLabs/spark-nlp/master/scripts/colab_setup.sh\n",
            "Resolving raw.githubusercontent.com (raw.githubusercontent.com)... 185.199.111.133, 185.199.109.133, 185.199.108.133, ...\n",
            "Connecting to raw.githubusercontent.com (raw.githubusercontent.com)|185.199.111.133|:443... connected.\n",
            "HTTP request sent, awaiting response... 200 OK\n",
            "Length: 1191 (1.2K) [text/plain]\n",
            "Saving to: ‘STDOUT’\n",
            "\n",
            "-                   100%[===================>]   1.16K  --.-KB/s    in 0s      \n",
            "\n",
            "Installing PySpark 3.2.3 and Spark NLP 4.2.6\n",
            "2022-12-23 12:23:49 (71.8 MB/s) - written to stdout [1191/1191]\n",
            "\n",
            "setup Colab for PySpark 3.2.3 and Spark NLP 4.2.6\n",
            "\u001b[K     |████████████████████████████████| 281.5 MB 48 kB/s \n",
            "\u001b[K     |████████████████████████████████| 453 kB 57.5 MB/s \n",
            "\u001b[K     |████████████████████████████████| 199 kB 59.9 MB/s \n",
            "\u001b[?25h  Building wheel for pyspark (setup.py) ... \u001b[?25l\u001b[?25hdone\n"
          ]
        }
      ]
    },
    {
      "cell_type": "code",
      "execution_count": 2,
      "metadata": {
        "application/vnd.databricks.v1+cell": {
          "inputWidgets": {},
          "nuid": "943a272c-0686-4e02-a8d9-b2849721c829",
          "showTitle": false,
          "title": ""
        },
        "id": "0i2rXCHF8DLn"
      },
      "outputs": [],
      "source": [
        "# Import Spark NLP\n",
        "from sparknlp.base import *\n",
        "from sparknlp.annotator import *\n",
        "from sparknlp.pretrained import PretrainedPipeline\n",
        "import sparknlp\n",
        "\n",
        "# Start Spark Session with Spark NLP\n",
        "# start() functions has two parameters: gpu and spark23\n",
        "# sparknlp.start(gpu=True) will start the session with GPU support\n",
        "# sparknlp.start(spark23=True) is when you have Apache Spark 2.3.x installed\n",
        "spark = sparknlp.start()"
      ]
    },
    {
      "cell_type": "code",
      "execution_count": 3,
      "metadata": {
        "application/vnd.databricks.v1+cell": {
          "inputWidgets": {},
          "nuid": "b200e2aa-6280-4f51-9eb4-e30f660e2ba4",
          "showTitle": false,
          "title": ""
        },
        "id": "nBNHpwA68DLo",
        "outputId": "21b4193a-af49-482f-ea59-c9845a206f3c",
        "colab": {
          "base_uri": "https://localhost:8080/",
          "height": 219
        }
      },
      "outputs": [
        {
          "output_type": "execute_result",
          "data": {
            "text/plain": [
              "<pyspark.sql.session.SparkSession at 0x7f941a55c550>"
            ],
            "text/html": [
              "\n",
              "            <div>\n",
              "                <p><b>SparkSession - in-memory</b></p>\n",
              "                \n",
              "        <div>\n",
              "            <p><b>SparkContext</b></p>\n",
              "\n",
              "            <p><a href=\"http://f42aadcbe827:4040\">Spark UI</a></p>\n",
              "\n",
              "            <dl>\n",
              "              <dt>Version</dt>\n",
              "                <dd><code>v3.2.3</code></dd>\n",
              "              <dt>Master</dt>\n",
              "                <dd><code>local[*]</code></dd>\n",
              "              <dt>AppName</dt>\n",
              "                <dd><code>Spark NLP</code></dd>\n",
              "            </dl>\n",
              "        </div>\n",
              "        \n",
              "            </div>\n",
              "        "
            ]
          },
          "metadata": {},
          "execution_count": 3
        }
      ],
      "source": [
        "spark"
      ]
    },
    {
      "cell_type": "code",
      "execution_count": 4,
      "metadata": {
        "application/vnd.databricks.v1+cell": {
          "inputWidgets": {},
          "nuid": "c0b759a0-346f-4d9f-9f01-383124c0aa05",
          "showTitle": false,
          "title": ""
        },
        "id": "rKc77PnJ8DLp",
        "outputId": "0e0447dd-b679-4507-fe63-6c04cf0263e4",
        "colab": {
          "base_uri": "https://localhost:8080/",
          "height": 35
        }
      },
      "outputs": [
        {
          "output_type": "execute_result",
          "data": {
            "text/plain": [
              "'4.2.6'"
            ],
            "application/vnd.google.colaboratory.intrinsic+json": {
              "type": "string"
            }
          },
          "metadata": {},
          "execution_count": 4
        }
      ],
      "source": [
        "sparknlp.version()"
      ]
    },
    {
      "cell_type": "markdown",
      "metadata": {
        "id": "K-9w5xeN8DLp"
      },
      "source": [
        "# Italian examples"
      ]
    },
    {
      "cell_type": "markdown",
      "metadata": {
        "id": "RZCNgyNz8DLp"
      },
      "source": [
        "### Let's import some articoles sentences from the news where relative dates are present."
      ]
    },
    {
      "cell_type": "code",
      "execution_count": 5,
      "metadata": {
        "application/vnd.databricks.v1+cell": {
          "inputWidgets": {},
          "nuid": "a91c2626-5ef8-4e01-9563-120daf4f63f3",
          "showTitle": false,
          "title": ""
        },
        "id": "h-dS7rld8DLq"
      },
      "outputs": [],
      "source": [
        "it_articles = [\n",
        "  (\"Così il ct azzurro Roberto Mancini, poco prima di entrare al Quirinale dove l'Italia campione d'Europa sta per essere accolta dal Presidente della Repubblica Sergio Mattarella oggi.\",),\n",
        "  (\"I giocatori della nazionale italiana campione d'Europa sono stati ricevuti al Quirinale il 13 Luglio 2021 per un incontro con il presidente della Repubblica, Sergio Mattarella.\",),\n",
        "  (\"Il presidente della Repubblica Sergio Mattarella ha ricevuto ieri, alle ore 17.00 al Quirinale, la Nazionale italiana di calcio vincitrice del Campionato Europeo UEFA Euro 2020 e Matteo Berrettini, finalista al Torneo di Wimbledon.\",)\n",
        "]"
      ]
    },
    {
      "cell_type": "markdown",
      "metadata": {
        "id": "vHQaGOwf8DLq"
      },
      "source": [
        "### Let's  fill a DataFrame with the text column"
      ]
    },
    {
      "cell_type": "code",
      "execution_count": 6,
      "metadata": {
        "application/vnd.databricks.v1+cell": {
          "inputWidgets": {},
          "nuid": "cfe3f9e0-4a96-44bb-b056-0b4a5407c6dc",
          "showTitle": false,
          "title": ""
        },
        "id": "ZHePNCMp8DLq",
        "outputId": "6b842c58-a715-43fc-d177-d6940cea64d9",
        "colab": {
          "base_uri": "https://localhost:8080/"
        }
      },
      "outputs": [
        {
          "output_type": "stream",
          "name": "stdout",
          "text": [
            "root\n",
            " |-- text: string (nullable = true)\n",
            "\n",
            "+--------------------+\n",
            "|                text|\n",
            "+--------------------+\n",
            "|Così il ct azzurr...|\n",
            "|I giocatori della...|\n",
            "|Il presidente del...|\n",
            "+--------------------+\n",
            "\n"
          ]
        }
      ],
      "source": [
        "articles_cols = [\"text\"]\n",
        "\n",
        "df = spark.createDataFrame(data=it_articles, schema=articles_cols)\n",
        "\n",
        "df.printSchema()\n",
        "df.show()"
      ]
    },
    {
      "cell_type": "markdown",
      "metadata": {
        "id": "D6o9j43A8DLq"
      },
      "source": [
        "### Now, let's create a simple pipeline to apply the DateMatcher, specifying the source language"
      ]
    },
    {
      "cell_type": "code",
      "execution_count": 8,
      "metadata": {
        "application/vnd.databricks.v1+cell": {
          "inputWidgets": {},
          "nuid": "f4baf2a1-3e75-479e-9e9b-2b071624ee3d",
          "showTitle": false,
          "title": ""
        },
        "id": "9CA3uIza8DLr"
      },
      "outputs": [],
      "source": [
        "document_assembler = DocumentAssembler() \\\n",
        "            .setInputCol(\"text\") \\\n",
        "            .setOutputCol(\"document\")\n",
        "\n",
        "date_matcher = DateMatcher() \\\n",
        "            .setInputCols(['document']) \\\n",
        "            .setOutputCol(\"date\") \\\n",
        "            .setOutputFormat(\"MM/dd/yyyy\") \\\n",
        "            .setSourceLanguage(\"it\")"
      ]
    },
    {
      "cell_type": "markdown",
      "metadata": {
        "id": "S5vQ97qx8DLr"
      },
      "source": [
        "### Let's transform the DataFrame content to extract the dates"
      ]
    },
    {
      "cell_type": "code",
      "execution_count": 9,
      "metadata": {
        "application/vnd.databricks.v1+cell": {
          "inputWidgets": {},
          "nuid": "10380fbb-43c1-42c3-b6d0-f02e55d75a24",
          "showTitle": false,
          "title": ""
        },
        "id": "7OL5QJoI8DLr",
        "outputId": "01608b02-66cc-44cb-de12-bdea626000f8",
        "colab": {
          "base_uri": "https://localhost:8080/"
        }
      },
      "outputs": [
        {
          "output_type": "stream",
          "name": "stdout",
          "text": [
            "+---------------------------------------------------+\n",
            "|date                                               |\n",
            "+---------------------------------------------------+\n",
            "|[{date, 175, 183, 12/23/2022, {sentence -> 0}, []}]|\n",
            "|[{date, 91, 102, 07/13/2021, {sentence -> 0}, []}] |\n",
            "|[{date, 61, 69, 12/22/2022, {sentence -> 0}, []}]  |\n",
            "+---------------------------------------------------+\n",
            "\n"
          ]
        }
      ],
      "source": [
        "assembled = document_assembler.transform(df)\n",
        "date_matcher.transform(assembled).select('date').show(10, False)"
      ]
    },
    {
      "cell_type": "code",
      "source": [],
      "metadata": {
        "id": "eCz5i2D48lhu"
      },
      "execution_count": null,
      "outputs": []
    }
  ],
  "metadata": {
    "application/vnd.databricks.v1+notebook": {
      "dashboards": [],
      "language": "python",
      "notebookMetadata": {
        "pythonIndentUnit": 2
      },
      "notebookName": "DateMatcherMultiLanguage_tests",
      "notebookOrigID": 2439167545177012,
      "widgets": {}
    },
    "kernelspec": {
      "display_name": "Python 3",
      "language": "python",
      "name": "python3"
    },
    "language_info": {
      "codemirror_mode": {
        "name": "ipython",
        "version": 3
      },
      "file_extension": ".py",
      "mimetype": "text/x-python",
      "name": "python",
      "nbconvert_exporter": "python",
      "pygments_lexer": "ipython3",
      "version": "3.7.10"
    },
    "colab": {
      "provenance": []
    }
  },
  "nbformat": 4,
  "nbformat_minor": 0
}