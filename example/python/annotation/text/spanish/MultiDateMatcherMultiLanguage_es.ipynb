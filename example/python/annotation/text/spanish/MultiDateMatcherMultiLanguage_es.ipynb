{
  "cells": [
    {
      "cell_type": "code",
      "source": [
        "# This is only to setup PySpark and Spark NLP on Colab\n",
        "!wget http://setup.johnsnowlabs.com/colab.sh -O - | bash"
      ],
      "metadata": {
        "id": "41c06Wm09q_m",
        "outputId": "d3f003ee-640a-4c37-bdb4-cb3d19293fce",
        "colab": {
          "base_uri": "https://localhost:8080/",
          "height": 0
        }
      },
      "id": "41c06Wm09q_m",
      "execution_count": 1,
      "outputs": [
        {
          "output_type": "stream",
          "name": "stdout",
          "text": [
            "--2022-12-23 12:30:58--  http://setup.johnsnowlabs.com/colab.sh\n",
            "Resolving setup.johnsnowlabs.com (setup.johnsnowlabs.com)... 51.158.130.125\n",
            "Connecting to setup.johnsnowlabs.com (setup.johnsnowlabs.com)|51.158.130.125|:80... connected.\n",
            "HTTP request sent, awaiting response... 302 Found\n",
            "Location: https://setup.johnsnowlabs.com/colab.sh [following]\n",
            "--2022-12-23 12:30:58--  https://setup.johnsnowlabs.com/colab.sh\n",
            "Connecting to setup.johnsnowlabs.com (setup.johnsnowlabs.com)|51.158.130.125|:443... connected.\n",
            "HTTP request sent, awaiting response... 302 Moved Temporarily\n",
            "Location: https://raw.githubusercontent.com/JohnSnowLabs/spark-nlp/master/scripts/colab_setup.sh [following]\n",
            "--2022-12-23 12:30:59--  https://raw.githubusercontent.com/JohnSnowLabs/spark-nlp/master/scripts/colab_setup.sh\n",
            "Resolving raw.githubusercontent.com (raw.githubusercontent.com)... 185.199.108.133, 185.199.109.133, 185.199.110.133, ...\n",
            "Connecting to raw.githubusercontent.com (raw.githubusercontent.com)|185.199.108.133|:443... connected.\n",
            "HTTP request sent, awaiting response... 200 OK\n",
            "Length: 1191 (1.2K) [text/plain]\n",
            "Saving to: ‘STDOUT’\n",
            "\n",
            "-                   100%[===================>]   1.16K  --.-KB/s    in 0s      \n",
            "\n",
            "2022-12-23 12:30:59 (36.8 MB/s) - written to stdout [1191/1191]\n",
            "\n",
            "Installing PySpark 3.2.3 and Spark NLP 4.2.6\n",
            "setup Colab for PySpark 3.2.3 and Spark NLP 4.2.6\n",
            "\u001b[K     |████████████████████████████████| 281.5 MB 53 kB/s \n",
            "\u001b[K     |████████████████████████████████| 453 kB 57.7 MB/s \n",
            "\u001b[K     |████████████████████████████████| 199 kB 53.8 MB/s \n",
            "\u001b[?25h  Building wheel for pyspark (setup.py) ... \u001b[?25l\u001b[?25hdone\n"
          ]
        }
      ]
    },
    {
      "cell_type": "code",
      "execution_count": 2,
      "id": "d1a9947b",
      "metadata": {
        "id": "d1a9947b"
      },
      "outputs": [],
      "source": [
        "from pyspark import *\n",
        "import sparknlp"
      ]
    },
    {
      "cell_type": "code",
      "execution_count": 3,
      "id": "1d695f9d",
      "metadata": {
        "id": "1d695f9d"
      },
      "outputs": [],
      "source": [
        "spark = sparknlp.start()"
      ]
    },
    {
      "cell_type": "code",
      "execution_count": 4,
      "id": "6edb5c48",
      "metadata": {
        "id": "6edb5c48"
      },
      "outputs": [],
      "source": [
        "from sparknlp.annotator import *\n",
        "from sparknlp.base import *"
      ]
    },
    {
      "cell_type": "code",
      "execution_count": 5,
      "id": "b072abfa",
      "metadata": {
        "id": "b072abfa",
        "outputId": "477b7aed-0bcf-4d1b-a011-a378e4d82be2",
        "colab": {
          "base_uri": "https://localhost:8080/",
          "height": 36
        }
      },
      "outputs": [
        {
          "output_type": "execute_result",
          "data": {
            "text/plain": [
              "'4.2.6'"
            ],
            "application/vnd.google.colaboratory.intrinsic+json": {
              "type": "string"
            }
          },
          "metadata": {},
          "execution_count": 5
        }
      ],
      "source": [
        "sparknlp.version()"
      ]
    },
    {
      "cell_type": "code",
      "execution_count": 6,
      "id": "84dc2c25",
      "metadata": {
        "id": "84dc2c25"
      },
      "outputs": [],
      "source": [
        "from pyspark.sql.types import StringType"
      ]
    },
    {
      "cell_type": "markdown",
      "id": "354ae84d",
      "metadata": {
        "id": "354ae84d"
      },
      "source": [
        "## Spanish formatted dates matching examples"
      ]
    },
    {
      "cell_type": "code",
      "execution_count": 7,
      "id": "7394467e",
      "metadata": {
        "id": "7394467e",
        "outputId": "59f3265e-45fd-442a-84d2-05749c679924",
        "colab": {
          "base_uri": "https://localhost:8080/",
          "height": 0
        }
      },
      "outputs": [
        {
          "output_type": "stream",
          "name": "stdout",
          "text": [
            "+--------------------+\n",
            "|                text|\n",
            "+--------------------+\n",
            "|Nos conocimos hac...|\n",
            "+--------------------+\n",
            "\n"
          ]
        }
      ],
      "source": [
        "df = spark.createDataFrame(\n",
        "  [\"Nos conocimos hace 2 días y me dijeron que nos visitaría la semana que viene\"],\n",
        "  StringType()).toDF(\"text\")\n",
        "df.show()"
      ]
    },
    {
      "cell_type": "code",
      "execution_count": 8,
      "id": "4c5b7476",
      "metadata": {
        "id": "4c5b7476",
        "outputId": "3fcbba72-c97c-4810-fc9d-91a0ad7ebfc0",
        "colab": {
          "base_uri": "https://localhost:8080/",
          "height": 0
        }
      },
      "outputs": [
        {
          "output_type": "stream",
          "name": "stdout",
          "text": [
            "+--------------------------------------------------------------------------------------------------+\n",
            "|date                                                                                              |\n",
            "+--------------------------------------------------------------------------------------------------+\n",
            "|[{date, 14, 23, 12/21/2022, {sentence -> 0}, []}, {date, 56, 64, 12/30/2022, {sentence -> 0}, []}]|\n",
            "+--------------------------------------------------------------------------------------------------+\n",
            "\n"
          ]
        }
      ],
      "source": [
        "document_assembler = DocumentAssembler() \\\n",
        "            .setInputCol(\"text\") \\\n",
        "            .setOutputCol(\"document\")\n",
        "\n",
        "date_matcher = MultiDateMatcher() \\\n",
        "            .setInputCols(['document']) \\\n",
        "            .setOutputCol(\"date\") \\\n",
        "            .setOutputFormat(\"MM/dd/yyyy\") \\\n",
        "            .setSourceLanguage(\"es\")\n",
        "\n",
        "assembled = document_assembler.transform(df)\n",
        "date_matcher.transform(assembled).select(\"date\").show(10, False)"
      ]
    },
    {
      "cell_type": "markdown",
      "id": "2908aab1",
      "metadata": {
        "id": "2908aab1"
      },
      "source": [
        "## Spanish unformatted dates matching examples"
      ]
    },
    {
      "cell_type": "code",
      "execution_count": 9,
      "id": "7f714b84",
      "metadata": {
        "id": "7f714b84",
        "outputId": "00da14be-a732-410e-ed92-63d5ad1a6843",
        "colab": {
          "base_uri": "https://localhost:8080/",
          "height": 0
        }
      },
      "outputs": [
        {
          "output_type": "stream",
          "name": "stdout",
          "text": [
            "+--------------------+\n",
            "|                text|\n",
            "+--------------------+\n",
            "|Lo conocí ayer y ...|\n",
            "+--------------------+\n",
            "\n"
          ]
        }
      ],
      "source": [
        "df = spark.createDataFrame(\n",
        "  [\"Lo conocí ayer y me dijo que nos visitará dentro de 2 semanas.\"],\n",
        "  StringType()).toDF(\"text\")\n",
        "df.show()"
      ]
    },
    {
      "cell_type": "code",
      "execution_count": 10,
      "id": "2512db8a",
      "metadata": {
        "id": "2512db8a",
        "outputId": "917a77e6-5acf-4a11-ee19-a023c4d27333",
        "colab": {
          "base_uri": "https://localhost:8080/",
          "height": 0
        }
      },
      "outputs": [
        {
          "output_type": "stream",
          "name": "stdout",
          "text": [
            "+--------------------------------------------------------------------------------------------------+\n",
            "|date                                                                                              |\n",
            "+--------------------------------------------------------------------------------------------------+\n",
            "|[{date, 10, 18, 12/22/2022, {sentence -> 0}, []}, {date, 47, 55, 01/06/2023, {sentence -> 0}, []}]|\n",
            "+--------------------------------------------------------------------------------------------------+\n",
            "\n"
          ]
        }
      ],
      "source": [
        "document_assembler = DocumentAssembler() \\\n",
        "            .setInputCol(\"text\") \\\n",
        "            .setOutputCol(\"document\")\n",
        "\n",
        "date_matcher = MultiDateMatcher() \\\n",
        "            .setInputCols(['document']) \\\n",
        "            .setOutputCol(\"date\") \\\n",
        "            .setOutputFormat(\"MM/dd/yyyy\") \\\n",
        "            .setSourceLanguage(\"es\")\n",
        "\n",
        "assembled = document_assembler.transform(df)\n",
        "date_matcher.transform(assembled).select(\"date\").show(10, False)"
      ]
    },
    {
      "cell_type": "markdown",
      "id": "71554a66",
      "metadata": {
        "id": "71554a66"
      },
      "source": [
        "# A short guide to language support extension\n",
        "\n",
        "## In order to extend the date matchers language support for new languages, please follow the instructions below:\n",
        "\n",
        "1. Add the new dictionary into src/main/resources/date-matcher/translation-dictionaries/dynamic folder of the spark-nlp project\n",
        "2. Add the same dictionary base of the other languages\n",
        "   * Add tests for the dictionary\n",
        "3. Add other eventual specific expressions to the base\n",
        "   * Add tests for those specific expressions to avoid syntactic conflicts in parsing\n",
        "4. Add a notebook like this one to show how to use the language extension\n",
        "\n",
        "Thank you for contributing! :)"
      ]
    },
    {
      "cell_type": "code",
      "execution_count": 10,
      "id": "a4bcef16",
      "metadata": {
        "id": "a4bcef16"
      },
      "outputs": [],
      "source": []
    }
  ],
  "metadata": {
    "kernelspec": {
      "display_name": "Python 3",
      "language": "python",
      "name": "python3"
    },
    "language_info": {
      "codemirror_mode": {
        "name": "ipython",
        "version": 3
      },
      "file_extension": ".py",
      "mimetype": "text/x-python",
      "name": "python",
      "nbconvert_exporter": "python",
      "pygments_lexer": "ipython3",
      "version": "3.7.11"
    },
    "colab": {
      "provenance": []
    }
  },
  "nbformat": 4,
  "nbformat_minor": 5
}