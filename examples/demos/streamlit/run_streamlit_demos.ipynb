{
  "cells": [
    {
      "cell_type": "markdown",
      "metadata": {
        "id": "CtzvmkYu8eGD"
      },
      "source": [
        "![JohnSnowLabs](https://sparknlp.org/assets/images/logo.png)\n",
        "\n",
        "[![Open In Colab](https://colab.research.google.com/assets/colab-badge.svg)](https://colab.research.google.com/github/JohnSnowLabs/spark-nlp/blob/master/examples/demos/streamlit/run_streamlit_demos.ipynb)\n",
        "\n",
        "# **Run streamlit notebooks stright from colab!**"
      ]
    },
    {
      "cell_type": "markdown",
      "source": [
        "unzip the uploaded demo zip"
      ],
      "metadata": {
        "id": "L5EHZN319Gyd"
      }
    },
    {
      "cell_type": "code",
      "execution_count": null,
      "metadata": {
        "id": "_W5akpxSkcyL"
      },
      "outputs": [],
      "source": [
        "!unzip '*.zip'"
      ]
    },
    {
      "cell_type": "markdown",
      "source": [
        "download the requirements from requirements.txt"
      ],
      "metadata": {
        "id": "7713R_ZQ9MOd"
      }
    },
    {
      "cell_type": "code",
      "execution_count": null,
      "metadata": {
        "id": "0y7CZngYpbgL"
      },
      "outputs": [],
      "source": [
        "from pathlib import Path\n",
        "\n",
        "req_path = next(Path('/content').rglob('requirements.txt'))\n",
        "!pip install -r \"{req_path}\""
      ]
    },
    {
      "cell_type": "markdown",
      "source": [
        "let's install localtunnel where we'll run our demo"
      ],
      "metadata": {
        "id": "_h2Ldu2x9TB9"
      }
    },
    {
      "cell_type": "code",
      "execution_count": null,
      "metadata": {
        "id": "QtvYmGzvk-p7"
      },
      "outputs": [],
      "source": [
        "!npm install localtunnel"
      ]
    },
    {
      "cell_type": "code",
      "execution_count": null,
      "metadata": {
        "id": "xuOH8clmnFCz"
      },
      "outputs": [],
      "source": [
        "app_path = next(Path('/content').rglob('streamlit_app.py'))\n",
        "!streamlit run \"{app_path}\" &>/content/logs.txt & npx localtunnel --port 8501 & curl ipv4.icanhazip.com"
      ]
    },
    {
      "cell_type": "markdown",
      "source": [
        "Copy the Tunnel Password and paste it into the site opened!"
      ],
      "metadata": {
        "id": "rdAT413B9g0-"
      }
    }
  ],
  "metadata": {
    "colab": {
      "provenance": []
    },
    "kernelspec": {
      "display_name": "Python 3",
      "name": "python3"
    },
    "language_info": {
      "name": "python"
    }
  },
  "nbformat": 4,
  "nbformat_minor": 0
}