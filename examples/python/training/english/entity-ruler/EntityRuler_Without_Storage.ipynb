{
 "cells": [
  {
   "cell_type": "markdown",
   "metadata": {
    "colab": {
     "base_uri": "https://localhost:8080/"
    },
    "executionInfo": {
     "elapsed": 59873,
     "status": "ok",
     "timestamp": 1661544296082,
     "user": {
      "displayName": "Danilo Burbano",
      "userId": "08593331088765378019"
     },
     "user_tz": 300
    },
    "id": "6KvNW4MU5rrF",
    "outputId": "98cff245-1318-482f-816d-2283c7ca0f86"
   },
   "source": [
    "![JohnSnowLabs](https://nlp.johnsnowlabs.com/assets/images/logo.png)\n",
    "\n",
    "[![Open In Colab](https://colab.research.google.com/assets/colab-badge.svg)](https://colab.research.google.com/github/JohnSnowLabs/spark-nlp-workshop/blob/master/jupyter/training/english/entity-ruler/EntityRuler_Without_Storage.ipynb)"
   ]
  },
  {
   "cell_type": "code",
   "execution_count": 3,
   "metadata": {
    "executionInfo": {
     "elapsed": 13788,
     "status": "ok",
     "timestamp": 1661544344949,
     "user": {
      "displayName": "Danilo Burbano",
      "userId": "08593331088765378019"
     },
     "user_tz": 300
    },
    "id": "ZXU_LZZUJI6V"
   },
   "outputs": [],
   "source": [
    "!wget https://setup.johnsnowlabs.com/colab.sh -O - | bash"
   ]
  },
  {
   "cell_type": "markdown",
   "metadata": {
    "id": "cy1qmHPFzjyK"
   },
   "source": [
    "This notebook uses useStorage parameter as false (default). So the annotator will serialize patterns file data with SparkML parameters when saving the model."
   ]
  },
  {
   "cell_type": "markdown",
   "metadata": {
    "id": "0uWBDs0a1HaF"
   },
   "source": [
    "**We recommend using the default value (setUseStorage=False), as shown in this notebook since the results of our benchmarks reflect that this configuration is faster than setUseStorage=True**"
   ]
  },
  {
   "cell_type": "code",
   "execution_count": 4,
   "metadata": {
    "executionInfo": {
     "elapsed": 489,
     "status": "ok",
     "timestamp": 1661544345433,
     "user": {
      "displayName": "Danilo Burbano",
      "userId": "08593331088765378019"
     },
     "user_tz": 300
    },
    "id": "XLNO3Z9r6HgR"
   },
   "outputs": [],
   "source": [
    "import sparknlp\n",
    "from sparknlp.base import *\n",
    "from sparknlp.annotator import *\n",
    "from pyspark.sql import SparkSession"
   ]
  },
  {
   "cell_type": "code",
   "execution_count": null,
   "metadata": {},
   "outputs": [],
   "source": [
    "spark = sparknlp.start()"
   ]
  },
  {
   "cell_type": "code",
   "execution_count": 6,
   "metadata": {
    "executionInfo": {
     "elapsed": 4048,
     "status": "ok",
     "timestamp": 1661544362278,
     "user": {
      "displayName": "Danilo Burbano",
      "userId": "08593331088765378019"
     },
     "user_tz": 300
    },
    "id": "_eB72Yzg8_Jx"
   },
   "outputs": [],
   "source": [
    "data = spark.createDataFrame([[\"Lord Eddard Stark was the head of House Stark. John Snow lives in Winterfell.\"]]).toDF(\"text\")"
   ]
  },
  {
   "cell_type": "code",
   "execution_count": 7,
   "metadata": {
    "colab": {
     "base_uri": "https://localhost:8080/"
    },
    "executionInfo": {
     "elapsed": 3265,
     "status": "ok",
     "timestamp": 1661544365513,
     "user": {
      "displayName": "Danilo Burbano",
      "userId": "08593331088765378019"
     },
     "user_tz": 300
    },
    "id": "mi7ENdn0MTvt",
    "outputId": "a7801922-557b-4403-9b2f-9524f719bb69"
   },
   "outputs": [
    {
     "name": "stdout",
     "output_type": "stream",
     "text": [
      "+-----------------------------------------------------------------------------+\n",
      "|text                                                                         |\n",
      "+-----------------------------------------------------------------------------+\n",
      "|Lord Eddard Stark was the head of House Stark. John Snow lives in Winterfell.|\n",
      "+-----------------------------------------------------------------------------+\n",
      "\n"
     ]
    }
   ],
   "source": [
    "data.show(truncate=False)"
   ]
  },
  {
   "cell_type": "markdown",
   "metadata": {
    "id": "69UzeVcXCcNc"
   },
   "source": [
    "# Keywords Patterns"
   ]
  },
  {
   "cell_type": "code",
   "execution_count": 8,
   "metadata": {
    "executionInfo": {
     "elapsed": 36,
     "status": "ok",
     "timestamp": 1661544365513,
     "user": {
      "displayName": "Danilo Burbano",
      "userId": "08593331088765378019"
     },
     "user_tz": 300
    },
    "id": "-qPpbCxYIyHy"
   },
   "outputs": [],
   "source": [
    "import json\n",
    "\n",
    "keywords = [\n",
    "          {\n",
    "            \"label\": \"PERSON\",\n",
    "            \"patterns\": [\"Jon\", \"John\", \"John Snow\", \"Jon Snow\"]\n",
    "          },\n",
    "          {\n",
    "            \"label\": \"PERSON\",\n",
    "            \"patterns\": [\"Eddard\", \"Eddard Stark\"]\n",
    "          },\n",
    "          {\n",
    "            \"label\": \"LOCATION\",\n",
    "            \"patterns\": [\"Winterfell\"]\n",
    "          },\n",
    "         ]\n",
    "\n",
    "with open('./keywords.json', 'w') as jsonfile:\n",
    "    json.dump(keywords, jsonfile)"
   ]
  },
  {
   "cell_type": "markdown",
   "metadata": {
    "id": "Rdrsm2rfrACF"
   },
   "source": [
    "We are going to use a JSON file with the following format:"
   ]
  },
  {
   "cell_type": "code",
   "execution_count": 9,
   "metadata": {
    "colab": {
     "base_uri": "https://localhost:8080/"
    },
    "executionInfo": {
     "elapsed": 35,
     "status": "ok",
     "timestamp": 1661544365514,
     "user": {
      "displayName": "Danilo Burbano",
      "userId": "08593331088765378019"
     },
     "user_tz": 300
    },
    "id": "FbP7UtSrLnQ3",
    "outputId": "fd8d47dd-1f4d-4dc5-c5b4-22675cd93fbd"
   },
   "outputs": [
    {
     "name": "stdout",
     "output_type": "stream",
     "text": [
      "cat: ./person.json: No such file or directory\n"
     ]
    }
   ],
   "source": [
    "! cat ./person.json"
   ]
  },
  {
   "cell_type": "markdown",
   "metadata": {
    "id": "dgSHiRHc8eM2"
   },
   "source": [
    "When working with keywords, we DON'T need a pipeline with Tokenizer anymore."
   ]
  },
  {
   "cell_type": "code",
   "execution_count": 10,
   "metadata": {
    "executionInfo": {
     "elapsed": 27,
     "status": "ok",
     "timestamp": 1661544365514,
     "user": {
      "displayName": "Danilo Burbano",
      "userId": "08593331088765378019"
     },
     "user_tz": 300
    },
    "id": "tRyju8D-6XJ1"
   },
   "outputs": [],
   "source": [
    "document_assembler = DocumentAssembler().setInputCol(\"text\").setOutputCol(\"document\")\n",
    "sentence_detector = SentenceDetector().setInputCols(\"document\").setOutputCol(\"sentence\")\n",
    "\n",
    "entity_ruler = EntityRulerApproach() \\\n",
    "    .setInputCols([\"sentence\"]) \\\n",
    "    .setOutputCol(\"entity\") \\\n",
    "    .setPatternsResource(\"./keywords.json\")"
   ]
  },
  {
   "cell_type": "code",
   "execution_count": 11,
   "metadata": {
    "executionInfo": {
     "elapsed": 1803,
     "status": "ok",
     "timestamp": 1661544367291,
     "user": {
      "displayName": "Danilo Burbano",
      "userId": "08593331088765378019"
     },
     "user_tz": 300
    },
    "id": "FhKPEMb09w6a"
   },
   "outputs": [],
   "source": [
    "pipeline = Pipeline(stages=[document_assembler, sentence_detector, entity_ruler])\n",
    "pipeline_model = pipeline.fit(data)"
   ]
  },
  {
   "cell_type": "code",
   "execution_count": 12,
   "metadata": {
    "colab": {
     "base_uri": "https://localhost:8080/"
    },
    "executionInfo": {
     "elapsed": 2129,
     "status": "ok",
     "timestamp": 1661544369417,
     "user": {
      "displayName": "Danilo Burbano",
      "userId": "08593331088765378019"
     },
     "user_tz": 300
    },
    "id": "D7mjcA2E_ehu",
    "outputId": "9cabfe81-5ba2-4586-8f4d-c36cffcd3706"
   },
   "outputs": [
    {
     "name": "stdout",
     "output_type": "stream",
     "text": [
      "+--------------------------------------------------------------------------------------------------------------------------------------------------------------------------------------------------------------+\n",
      "|entity                                                                                                                                                                                                        |\n",
      "+--------------------------------------------------------------------------------------------------------------------------------------------------------------------------------------------------------------+\n",
      "|[{chunk, 5, 16, Eddard Stark, {entity -> PERSON, sentence -> 0}, []}, {chunk, 47, 55, John Snow, {entity -> PERSON, sentence -> 1}, []}, {chunk, 66, 75, Winterfell, {entity -> LOCATION, sentence -> 1}, []}]|\n",
      "+--------------------------------------------------------------------------------------------------------------------------------------------------------------------------------------------------------------+\n",
      "\n"
     ]
    }
   ],
   "source": [
    "pipeline_model.transform(data).select(\"entity\").show(truncate=False)"
   ]
  },
  {
   "cell_type": "code",
   "execution_count": 13,
   "metadata": {
    "executionInfo": {
     "elapsed": 23,
     "status": "ok",
     "timestamp": 1661544369418,
     "user": {
      "displayName": "Danilo Burbano",
      "userId": "08593331088765378019"
     },
     "user_tz": 300
    },
    "id": "XIEbSbpPjzvJ"
   },
   "outputs": [],
   "source": [
    "light_pipeline = LightPipeline(pipeline_model)"
   ]
  },
  {
   "cell_type": "code",
   "execution_count": 14,
   "metadata": {
    "colab": {
     "base_uri": "https://localhost:8080/"
    },
    "executionInfo": {
     "elapsed": 21,
     "status": "ok",
     "timestamp": 1661544369418,
     "user": {
      "displayName": "Danilo Burbano",
      "userId": "08593331088765378019"
     },
     "user_tz": 300
    },
    "id": "9bJw1H9lj4NS",
    "outputId": "b8436081-6cbc-45ea-ab0f-eb40accd5089"
   },
   "outputs": [
    {
     "data": {
      "text/plain": [
       "dict_keys(['document', 'sentence', 'entity'])"
      ]
     },
     "execution_count": 14,
     "metadata": {},
     "output_type": "execute_result"
    }
   ],
   "source": [
    "annotations = light_pipeline.fullAnnotate(\"Doctor John Snow lives in London, whereas Lord Commander Jon Snow lives in Castle Black\")[0]\n",
    "annotations.keys()"
   ]
  },
  {
   "cell_type": "code",
   "execution_count": 15,
   "metadata": {
    "colab": {
     "base_uri": "https://localhost:8080/"
    },
    "executionInfo": {
     "elapsed": 15,
     "status": "ok",
     "timestamp": 1661544369419,
     "user": {
      "displayName": "Danilo Burbano",
      "userId": "08593331088765378019"
     },
     "user_tz": 300
    },
    "id": "tmZcr-jnljP7",
    "outputId": "79c29d19-9daa-4cae-9daa-53d1797fe940"
   },
   "outputs": [
    {
     "data": {
      "text/plain": [
       "[Annotation(chunk, 7, 15, John Snow, {'entity': 'PERSON', 'sentence': '0'}),\n",
       " Annotation(chunk, 57, 64, Jon Snow, {'entity': 'PERSON', 'sentence': '0'})]"
      ]
     },
     "execution_count": 15,
     "metadata": {},
     "output_type": "execute_result"
    }
   ],
   "source": [
    "annotations.get('entity')"
   ]
  },
  {
   "cell_type": "markdown",
   "metadata": {
    "id": "9LAxooiQNYVv"
   },
   "source": [
    "We can define an id field to identify entities and it supports JSON Lines format as the example below."
   ]
  },
  {
   "cell_type": "code",
   "execution_count": 16,
   "metadata": {
    "executionInfo": {
     "elapsed": 11,
     "status": "ok",
     "timestamp": 1661544369420,
     "user": {
      "displayName": "Danilo Burbano",
      "userId": "08593331088765378019"
     },
     "user_tz": 300
    },
    "id": "V8_KVQvdBDm8"
   },
   "outputs": [],
   "source": [
    "keywords = [\n",
    "            {\n",
    "              \"id\": \"names-with-j\",\n",
    "              \"label\": \"PERSON\",\n",
    "              \"patterns\": [\"Jon\", \"John\", \"John Snow\", \"Jon Snow\"]\n",
    "            },\n",
    "            {\n",
    "              \"id\": \"names-with-e\",\n",
    "              \"label\": \"PERSON\",\n",
    "              \"patterns\": [\"Eddard\", \"Eddard Stark\"]\n",
    "            },\n",
    "            {\n",
    "              \"id\": \"locations\",\n",
    "              \"label\": \"LOCATION\",\n",
    "              \"patterns\": [\"Winterfell\"]\n",
    "            },\n",
    "         ]\n",
    "\n",
    "with open('./keywords.jsonl', 'w') as jsonlfile:\n",
    "    for keyword in keywords:\n",
    "      json.dump(keyword, jsonlfile)\n",
    "      jsonlfile.write('\\n')"
   ]
  },
  {
   "cell_type": "code",
   "execution_count": 17,
   "metadata": {
    "colab": {
     "base_uri": "https://localhost:8080/"
    },
    "executionInfo": {
     "elapsed": 502,
     "status": "ok",
     "timestamp": 1661544369912,
     "user": {
      "displayName": "Danilo Burbano",
      "userId": "08593331088765378019"
     },
     "user_tz": 300
    },
    "id": "OWakfKMlB3Th",
    "outputId": "89d7523e-4fb6-4c8a-b041-844d8d5de119"
   },
   "outputs": [
    {
     "name": "stdout",
     "output_type": "stream",
     "text": [
      "{\"id\": \"names-with-j\", \"label\": \"PERSON\", \"patterns\": [\"Jon\", \"John\", \"John Snow\", \"Jon Snow\"]}\n",
      "{\"id\": \"names-with-e\", \"label\": \"PERSON\", \"patterns\": [\"Eddard\", \"Eddard Stark\"]}\n",
      "{\"id\": \"locations\", \"label\": \"LOCATION\", \"patterns\": [\"Winterfell\"]}\n"
     ]
    }
   ],
   "source": [
    "! cat ./keywords.jsonl"
   ]
  },
  {
   "cell_type": "code",
   "execution_count": 18,
   "metadata": {
    "executionInfo": {
     "elapsed": 10,
     "status": "ok",
     "timestamp": 1661544369913,
     "user": {
      "displayName": "Danilo Burbano",
      "userId": "08593331088765378019"
     },
     "user_tz": 300
    },
    "id": "-_4a1QYaNPfr"
   },
   "outputs": [],
   "source": [
    "entity_ruler = EntityRulerApproach() \\\n",
    "    .setInputCols([\"sentence\"]) \\\n",
    "    .setOutputCol(\"entity\") \\\n",
    "    .setPatternsResource(\"./keywords.jsonl\", ReadAs.TEXT, options={\"format\": \"JSONL\"})"
   ]
  },
  {
   "cell_type": "code",
   "execution_count": 19,
   "metadata": {
    "colab": {
     "base_uri": "https://localhost:8080/"
    },
    "executionInfo": {
     "elapsed": 897,
     "status": "ok",
     "timestamp": 1661544370801,
     "user": {
      "displayName": "Danilo Burbano",
      "userId": "08593331088765378019"
     },
     "user_tz": 300
    },
    "id": "Cd0sNKNeOcUg",
    "outputId": "84c5835f-de67-44da-c10d-93204d66c6ff"
   },
   "outputs": [
    {
     "name": "stdout",
     "output_type": "stream",
     "text": [
      "+-----------------------------------------------------------------------------------------------------------------------------------------------------------------------------------------------------------------------------------------------------------------------+\n",
      "|entity                                                                                                                                                                                                                                                                 |\n",
      "+-----------------------------------------------------------------------------------------------------------------------------------------------------------------------------------------------------------------------------------------------------------------------+\n",
      "|[{chunk, 5, 16, Eddard Stark, {entity -> PERSON, sentence -> 0, id -> names-with-e}, []}, {chunk, 47, 55, John Snow, {entity -> PERSON, sentence -> 1, id -> names-with-j}, []}, {chunk, 66, 75, Winterfell, {entity -> LOCATION, sentence -> 1, id -> locations}, []}]|\n",
      "+-----------------------------------------------------------------------------------------------------------------------------------------------------------------------------------------------------------------------------------------------------------------------+\n",
      "\n"
     ]
    }
   ],
   "source": [
    "pipeline = Pipeline(stages=[document_assembler, sentence_detector, entity_ruler])\n",
    "model = pipeline.fit(data)\n",
    "model.transform(data).select(\"entity\").show(truncate=False)"
   ]
  },
  {
   "cell_type": "markdown",
   "metadata": {
    "id": "lDZ21hp3rOHV"
   },
   "source": [
    "For the CSV file we use the following configuration:\n"
   ]
  },
  {
   "cell_type": "code",
   "execution_count": 20,
   "metadata": {
    "executionInfo": {
     "elapsed": 13,
     "status": "ok",
     "timestamp": 1661544370802,
     "user": {
      "displayName": "Danilo Burbano",
      "userId": "08593331088765378019"
     },
     "user_tz": 300
    },
    "id": "_MLFqq-ICy56"
   },
   "outputs": [],
   "source": [
    "with open('./keywords.csv', 'w') as csvfile:\n",
    "    csvfile.write('PERSON|Jon\\n')\n",
    "    csvfile.write('PERSON|John\\n')\n",
    "    csvfile.write('PERSON|John Snow\\n')\n",
    "    csvfile.write('LOCATION|Winterfell')"
   ]
  },
  {
   "cell_type": "code",
   "execution_count": 21,
   "metadata": {
    "colab": {
     "base_uri": "https://localhost:8080/"
    },
    "executionInfo": {
     "elapsed": 441,
     "status": "ok",
     "timestamp": 1661544371232,
     "user": {
      "displayName": "Danilo Burbano",
      "userId": "08593331088765378019"
     },
     "user_tz": 300
    },
    "id": "Bz4129WyDNwd",
    "outputId": "fe939959-59b8-43cd-cf39-ae2181988c81"
   },
   "outputs": [
    {
     "name": "stdout",
     "output_type": "stream",
     "text": [
      "PERSON|Jon\n",
      "PERSON|John\n",
      "PERSON|John Snow\n",
      "LOCATION|Winterfell"
     ]
    }
   ],
   "source": [
    "! cat ./keywords.csv"
   ]
  },
  {
   "cell_type": "code",
   "execution_count": 22,
   "metadata": {
    "executionInfo": {
     "elapsed": 10,
     "status": "ok",
     "timestamp": 1661544371233,
     "user": {
      "displayName": "Danilo Burbano",
      "userId": "08593331088765378019"
     },
     "user_tz": 300
    },
    "id": "0HLcNfrdoAmP"
   },
   "outputs": [],
   "source": [
    "entity_ruler_csv = EntityRulerApproach() \\\n",
    "    .setInputCols([\"sentence\"]) \\\n",
    "    .setOutputCol(\"entity\") \\\n",
    "    .setPatternsResource(\"./keywords.csv\", options={\"format\": \"csv\", \"delimiter\": \"\\\\|\"})"
   ]
  },
  {
   "cell_type": "code",
   "execution_count": 23,
   "metadata": {
    "executionInfo": {
     "elapsed": 10,
     "status": "ok",
     "timestamp": 1661544371234,
     "user": {
      "displayName": "Danilo Burbano",
      "userId": "08593331088765378019"
     },
     "user_tz": 300
    },
    "id": "NYTuwztwoHIK"
   },
   "outputs": [],
   "source": [
    "pipeline_csv = Pipeline(stages=[document_assembler, sentence_detector, entity_ruler_csv])\n",
    "model_csv = pipeline_csv.fit(data)"
   ]
  },
  {
   "cell_type": "code",
   "execution_count": 24,
   "metadata": {
    "colab": {
     "base_uri": "https://localhost:8080/"
    },
    "executionInfo": {
     "elapsed": 845,
     "status": "ok",
     "timestamp": 1661544372070,
     "user": {
      "displayName": "Danilo Burbano",
      "userId": "08593331088765378019"
     },
     "user_tz": 300
    },
    "id": "qEN-zRNQoLu5",
    "outputId": "91d0470d-ff37-4dca-b958-32895932722c"
   },
   "outputs": [
    {
     "name": "stdout",
     "output_type": "stream",
     "text": [
      "+-----------------------------------------------------------------------------------------------------------------------------------------+\n",
      "|entity                                                                                                                                   |\n",
      "+-----------------------------------------------------------------------------------------------------------------------------------------+\n",
      "|[{chunk, 47, 55, John Snow, {entity -> PERSON, sentence -> 1}, []}, {chunk, 66, 75, Winterfell, {entity -> LOCATION, sentence -> 1}, []}]|\n",
      "+-----------------------------------------------------------------------------------------------------------------------------------------+\n",
      "\n"
     ]
    }
   ],
   "source": [
    "model_csv.transform(data).select(\"entity\").show(truncate=False)"
   ]
  },
  {
   "cell_type": "markdown",
   "metadata": {
    "id": "FmLiqAYhn5DT"
   },
   "source": [
    "# Regex Patterns"
   ]
  },
  {
   "cell_type": "markdown",
   "metadata": {
    "id": "V4h5Ulxyn-rE"
   },
   "source": [
    "Starting Spark NLP 4.2.0, regex patterns are defined at a more granular level, with each label. For example, we can have the JSON file below:"
   ]
  },
  {
   "cell_type": "code",
   "execution_count": 25,
   "metadata": {
    "executionInfo": {
     "elapsed": 18,
     "status": "ok",
     "timestamp": 1661544372071,
     "user": {
      "displayName": "Danilo Burbano",
      "userId": "08593331088765378019"
     },
     "user_tz": 300
    },
    "id": "1QQvXA4Zqelm"
   },
   "outputs": [],
   "source": [
    "data = spark.createDataFrame([[\"The address is 123456 in Winterfell\"]]).toDF(\"text\")"
   ]
  },
  {
   "cell_type": "code",
   "execution_count": 26,
   "metadata": {
    "executionInfo": {
     "elapsed": 18,
     "status": "ok",
     "timestamp": 1661544372072,
     "user": {
      "displayName": "Danilo Burbano",
      "userId": "08593331088765378019"
     },
     "user_tz": 300
    },
    "id": "oZZWlpFknvn1"
   },
   "outputs": [],
   "source": [
    "patterns_string = \"\"\"\n",
    "[\n",
    "  {\n",
    "    \"id\": \"id-regex\",\n",
    "    \"label\": \"ID\",\n",
    "    \"patterns\": [\"[0-9]+\"],\n",
    "    \"regex\": true\n",
    "  },\n",
    "  {\n",
    "    \"id\": \"locations-words\",\n",
    "    \"label\": \"LOCATION\",\n",
    "    \"patterns\": [\"Winterfell\"],\n",
    "    \"regex\": false\n",
    "  }\n",
    "]\n",
    "\"\"\"\n",
    "patterns_obj = json.loads(patterns_string)\n",
    "with open('./patterns.json', 'w') as jsonfile:\n",
    "    json.dump(patterns_obj, jsonfile)"
   ]
  },
  {
   "cell_type": "code",
   "execution_count": 27,
   "metadata": {
    "colab": {
     "base_uri": "https://localhost:8080/"
    },
    "executionInfo": {
     "elapsed": 18,
     "status": "ok",
     "timestamp": 1661544372073,
     "user": {
      "displayName": "Danilo Burbano",
      "userId": "08593331088765378019"
     },
     "user_tz": 300
    },
    "id": "xnp0zMqpogVU",
    "outputId": "6098f1da-d789-4ad0-da1d-3c49180ccc1d"
   },
   "outputs": [
    {
     "name": "stdout",
     "output_type": "stream",
     "text": [
      "[{\"id\": \"id-regex\", \"label\": \"ID\", \"patterns\": [\"[0-9]+\"], \"regex\": true}, {\"id\": \"locations-words\", \"label\": \"LOCATION\", \"patterns\": [\"Winterfell\"], \"regex\": false}]"
     ]
    }
   ],
   "source": [
    "!cat ./patterns.json"
   ]
  },
  {
   "cell_type": "markdown",
   "metadata": {
    "id": "9RcZIelWorQ9"
   },
   "source": [
    "When defining a regex pattern, we need to define Tokenizer annotator in the pipeline"
   ]
  },
  {
   "cell_type": "code",
   "execution_count": 28,
   "metadata": {
    "executionInfo": {
     "elapsed": 13,
     "status": "ok",
     "timestamp": 1661544372074,
     "user": {
      "displayName": "Danilo Burbano",
      "userId": "08593331088765378019"
     },
     "user_tz": 300
    },
    "id": "rCUYCM56oq-e"
   },
   "outputs": [],
   "source": [
    "tokenizer = Tokenizer().setInputCols(\"sentence\").setOutputCol(\"token\")"
   ]
  },
  {
   "cell_type": "code",
   "execution_count": 29,
   "metadata": {
    "executionInfo": {
     "elapsed": 414,
     "status": "ok",
     "timestamp": 1661544372478,
     "user": {
      "displayName": "Danilo Burbano",
      "userId": "08593331088765378019"
     },
     "user_tz": 300
    },
    "id": "TJvrwk18pGqk"
   },
   "outputs": [],
   "source": [
    "regex_entity_ruler = EntityRulerApproach() \\\n",
    "    .setInputCols([\"sentence\", \"token\"]) \\\n",
    "    .setOutputCol(\"entity\") \\\n",
    "    .setPatternsResource(\"./patterns.json\")"
   ]
  },
  {
   "cell_type": "code",
   "execution_count": 30,
   "metadata": {
    "executionInfo": {
     "elapsed": 10,
     "status": "ok",
     "timestamp": 1661544372479,
     "user": {
      "displayName": "Danilo Burbano",
      "userId": "08593331088765378019"
     },
     "user_tz": 300
    },
    "id": "7v8TbKbo0Izg"
   },
   "outputs": [],
   "source": [
    "regex_pipeline = Pipeline(stages=[document_assembler, sentence_detector, tokenizer, regex_entity_ruler])\n",
    "regex_model = regex_pipeline.fit(data)"
   ]
  },
  {
   "cell_type": "code",
   "execution_count": 31,
   "metadata": {
    "colab": {
     "base_uri": "https://localhost:8080/"
    },
    "executionInfo": {
     "elapsed": 849,
     "status": "ok",
     "timestamp": 1661544373319,
     "user": {
      "displayName": "Danilo Burbano",
      "userId": "08593331088765378019"
     },
     "user_tz": 300
    },
    "id": "pl63WAaq0TKa",
    "outputId": "38fc2401-571b-476c-d222-ceb11c3e3d35"
   },
   "outputs": [
    {
     "name": "stdout",
     "output_type": "stream",
     "text": [
      "+-------------------------------------------------------------------------------------------------------------------------------------------------------------------------+\n",
      "|entity                                                                                                                                                                   |\n",
      "+-------------------------------------------------------------------------------------------------------------------------------------------------------------------------+\n",
      "|[{chunk, 15, 20, 123456, {entity -> ID, id -> id-regex, sentence -> 0}, []}, {chunk, 25, 34, Winterfell, {entity -> LOCATION, sentence -> 0, id -> locations-words}, []}]|\n",
      "+-------------------------------------------------------------------------------------------------------------------------------------------------------------------------+\n",
      "\n"
     ]
    }
   ],
   "source": [
    "regex_model.transform(data).select(\"entity\").show(truncate=False)"
   ]
  }
 ],
 "metadata": {
  "colab": {
   "authorship_tag": "ABX9TyMfXjoX5kmlZ9BNmTImyKlL",
   "name": "EntityRuler Without Storage.ipynb",
   "provenance": [
    {
     "file_id": "1QgevB5ZVEDJIwt6TapwdzUa0wSgzfOdb",
     "timestamp": 1631717372195
    }
   ]
  },
  "kernelspec": {
   "display_name": "Python 3",
   "language": "python",
   "name": "python3"
  },
  "language_info": {
   "codemirror_mode": {
    "name": "ipython",
    "version": 3
   },
   "file_extension": ".py",
   "mimetype": "text/x-python",
   "name": "python",
   "nbconvert_exporter": "python",
   "pygments_lexer": "ipython3",
   "version": "3.8.10"
  }
 },
 "nbformat": 4,
 "nbformat_minor": 1
}
