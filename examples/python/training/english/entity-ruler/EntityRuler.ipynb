{
 "cells": [
  {
   "cell_type": "markdown",
   "metadata": {
    "colab": {
     "base_uri": "https://localhost:8080/"
    },
    "executionInfo": {
     "elapsed": 58012,
     "status": "ok",
     "timestamp": 1661544638962,
     "user": {
      "displayName": "Danilo Burbano",
      "userId": "08593331088765378019"
     },
     "user_tz": 300
    },
    "id": "6KvNW4MU5rrF",
    "outputId": "4f640fd8-41e8-4f35-c6d6-ed98ab926127"
   },
   "source": [
    "![JohnSnowLabs](https://nlp.johnsnowlabs.com/assets/images/logo.png)\n",
    "\n",
    "[![Open In Colab](https://colab.research.google.com/assets/colab-badge.svg)](https://colab.research.google.com/github/JohnSnowLabs/spark-nlp-workshop/blob/master/jupyter/training/english/entity-ruler/EntityRuler.ipynb)"
   ]
  },
  {
   "cell_type": "code",
   "execution_count": null,
   "metadata": {},
   "outputs": [],
   "source": [
    "!wget https://setup.johnsnowlabs.com/colab.sh -O - | bash"
   ]
  },
  {
   "cell_type": "code",
   "execution_count": 5,
   "metadata": {
    "executionInfo": {
     "elapsed": 354,
     "status": "ok",
     "timestamp": 1661544665640,
     "user": {
      "displayName": "Danilo Burbano",
      "userId": "08593331088765378019"
     },
     "user_tz": 300
    },
    "id": "XLNO3Z9r6HgR"
   },
   "outputs": [],
   "source": [
    "import sparknlp\n",
    "from sparknlp.base import *\n",
    "from sparknlp.annotator import *\n",
    "from pyspark.sql import SparkSession"
   ]
  },
  {
   "cell_type": "code",
   "execution_count": null,
   "metadata": {},
   "outputs": [],
   "source": [
    "spark = sparknlp.start()"
   ]
  },
  {
   "cell_type": "markdown",
   "metadata": {
    "id": "YXbad43CyOKF"
   },
   "source": [
    "This notebook uses the default configuration (useStorage=true). This parameter tells the annotator to serialize patterns file data with RocksDB storage when saving the model."
   ]
  },
  {
   "cell_type": "code",
   "execution_count": 7,
   "metadata": {
    "executionInfo": {
     "elapsed": 3769,
     "status": "ok",
     "timestamp": 1661544683809,
     "user": {
      "displayName": "Danilo Burbano",
      "userId": "08593331088765378019"
     },
     "user_tz": 300
    },
    "id": "_eB72Yzg8_Jx"
   },
   "outputs": [],
   "source": [
    "data = spark.createDataFrame([[\"Lord Eddard Stark was the head of House Stark. John Snow lives in Winterfell.\"]]).toDF(\"text\")"
   ]
  },
  {
   "cell_type": "code",
   "execution_count": 8,
   "metadata": {
    "colab": {
     "base_uri": "https://localhost:8080/"
    },
    "executionInfo": {
     "elapsed": 3605,
     "status": "ok",
     "timestamp": 1661544687408,
     "user": {
      "displayName": "Danilo Burbano",
      "userId": "08593331088765378019"
     },
     "user_tz": 300
    },
    "id": "mi7ENdn0MTvt",
    "outputId": "911339e2-f1fc-41cc-e1c6-d348a2fae1a9"
   },
   "outputs": [
    {
     "name": "stdout",
     "output_type": "stream",
     "text": [
      "+-----------------------------------------------------------------------------+\n",
      "|text                                                                         |\n",
      "+-----------------------------------------------------------------------------+\n",
      "|Lord Eddard Stark was the head of House Stark. John Snow lives in Winterfell.|\n",
      "+-----------------------------------------------------------------------------+\n",
      "\n"
     ]
    }
   ],
   "source": [
    "data.show(truncate=False)"
   ]
  },
  {
   "cell_type": "markdown",
   "metadata": {
    "id": "69UzeVcXCcNc"
   },
   "source": [
    "# Keywords Patterns"
   ]
  },
  {
   "cell_type": "markdown",
   "metadata": {},
   "source": [
    "EntityRuler no longer needs `Tokenizer` or `RegexTokenizer` annotatos when using keywords patterns(non-regex patterns). It will handle the chunks output based on the patterns defined, as shown in the example below."
   ]
  },
  {
   "cell_type": "code",
   "execution_count": 9,
   "metadata": {
    "executionInfo": {
     "elapsed": 37,
     "status": "ok",
     "timestamp": 1661544687409,
     "user": {
      "displayName": "Danilo Burbano",
      "userId": "08593331088765378019"
     },
     "user_tz": 300
    },
    "id": "-qPpbCxYIyHy"
   },
   "outputs": [],
   "source": [
    "import json\n",
    "\n",
    "keywords = [\n",
    "          {\n",
    "            \"label\": \"PERSON\",\n",
    "            \"patterns\": [\"Jon\", \"John\", \"John Snow\", \"Jon Snow\"]\n",
    "          },\n",
    "          {\n",
    "            \"label\": \"PERSON\",\n",
    "            \"patterns\": [\"Eddard\", \"Eddard Stark\"]\n",
    "          },\n",
    "          {\n",
    "            \"label\": \"LOCATION\",\n",
    "            \"patterns\": [\"Winterfell\"]\n",
    "          },\n",
    "         ]\n",
    "\n",
    "with open('./keywords.json', 'w') as jsonfile:\n",
    "    json.dump(keywords, jsonfile)"
   ]
  },
  {
   "cell_type": "markdown",
   "metadata": {
    "id": "Rdrsm2rfrACF"
   },
   "source": [
    "We are going to use a JSON file with the following format:"
   ]
  },
  {
   "cell_type": "code",
   "execution_count": 10,
   "metadata": {
    "colab": {
     "base_uri": "https://localhost:8080/"
    },
    "executionInfo": {
     "elapsed": 36,
     "status": "ok",
     "timestamp": 1661544687410,
     "user": {
      "displayName": "Danilo Burbano",
      "userId": "08593331088765378019"
     },
     "user_tz": 300
    },
    "id": "FbP7UtSrLnQ3",
    "outputId": "a34bf1ea-25a7-4d0c-cb1b-b3efb9c08a27"
   },
   "outputs": [
    {
     "name": "stdout",
     "output_type": "stream",
     "text": [
      "cat: ./person.json: No such file or directory\n"
     ]
    }
   ],
   "source": [
    "! cat ./person.json"
   ]
  },
  {
   "cell_type": "markdown",
   "metadata": {
    "id": "dgSHiRHc8eM2"
   },
   "source": [
    "When working with keywords, we DON'T need a pipeline with Tokenizer"
   ]
  },
  {
   "cell_type": "code",
   "execution_count": 11,
   "metadata": {
    "executionInfo": {
     "elapsed": 321,
     "status": "ok",
     "timestamp": 1661544687703,
     "user": {
      "displayName": "Danilo Burbano",
      "userId": "08593331088765378019"
     },
     "user_tz": 300
    },
    "id": "tRyju8D-6XJ1"
   },
   "outputs": [],
   "source": [
    "document_assembler = DocumentAssembler().setInputCol(\"text\").setOutputCol(\"document\")\n",
    "sentence_detector = SentenceDetector().setInputCols(\"document\").setOutputCol(\"sentence\")\n",
    "\n",
    "entity_ruler = EntityRulerApproach() \\\n",
    "    .setInputCols([\"sentence\"]) \\\n",
    "    .setOutputCol(\"entity\") \\\n",
    "    .setPatternsResource(\"./keywords.json\") \\\n",
    "    .setUseStorage(True)"
   ]
  },
  {
   "cell_type": "code",
   "execution_count": 12,
   "metadata": {
    "executionInfo": {
     "elapsed": 2430,
     "status": "ok",
     "timestamp": 1661544690131,
     "user": {
      "displayName": "Danilo Burbano",
      "userId": "08593331088765378019"
     },
     "user_tz": 300
    },
    "id": "FhKPEMb09w6a"
   },
   "outputs": [],
   "source": [
    "pipeline = Pipeline(stages=[document_assembler, sentence_detector, entity_ruler])\n",
    "pipeline_model = pipeline.fit(data)"
   ]
  },
  {
   "cell_type": "code",
   "execution_count": 13,
   "metadata": {
    "colab": {
     "base_uri": "https://localhost:8080/"
    },
    "executionInfo": {
     "elapsed": 1857,
     "status": "ok",
     "timestamp": 1661544691984,
     "user": {
      "displayName": "Danilo Burbano",
      "userId": "08593331088765378019"
     },
     "user_tz": 300
    },
    "id": "D7mjcA2E_ehu",
    "outputId": "23b74299-77e6-443b-a6f9-9581b6f95fb6"
   },
   "outputs": [
    {
     "name": "stdout",
     "output_type": "stream",
     "text": [
      "+--------------------------------------------------------------------------------------------------------------------------------------------------------------------------------------------------------------+\n",
      "|entity                                                                                                                                                                                                        |\n",
      "+--------------------------------------------------------------------------------------------------------------------------------------------------------------------------------------------------------------+\n",
      "|[{chunk, 5, 16, Eddard Stark, {entity -> PERSON, sentence -> 0}, []}, {chunk, 47, 55, John Snow, {entity -> PERSON, sentence -> 1}, []}, {chunk, 66, 75, Winterfell, {entity -> LOCATION, sentence -> 1}, []}]|\n",
      "+--------------------------------------------------------------------------------------------------------------------------------------------------------------------------------------------------------------+\n",
      "\n"
     ]
    }
   ],
   "source": [
    "pipeline_model.transform(data).select(\"entity\").show(truncate=False)"
   ]
  },
  {
   "cell_type": "code",
   "execution_count": 14,
   "metadata": {
    "executionInfo": {
     "elapsed": 15,
     "status": "ok",
     "timestamp": 1661544691985,
     "user": {
      "displayName": "Danilo Burbano",
      "userId": "08593331088765378019"
     },
     "user_tz": 300
    },
    "id": "XIEbSbpPjzvJ"
   },
   "outputs": [],
   "source": [
    "light_pipeline = LightPipeline(pipeline_model)"
   ]
  },
  {
   "cell_type": "code",
   "execution_count": 15,
   "metadata": {
    "colab": {
     "base_uri": "https://localhost:8080/"
    },
    "executionInfo": {
     "elapsed": 12,
     "status": "ok",
     "timestamp": 1661544691985,
     "user": {
      "displayName": "Danilo Burbano",
      "userId": "08593331088765378019"
     },
     "user_tz": 300
    },
    "id": "9bJw1H9lj4NS",
    "outputId": "d77eb1bf-d16f-4ecf-a774-71116992c857"
   },
   "outputs": [
    {
     "data": {
      "text/plain": [
       "dict_keys(['document', 'sentence', 'entity'])"
      ]
     },
     "execution_count": 15,
     "metadata": {},
     "output_type": "execute_result"
    }
   ],
   "source": [
    "annotations = light_pipeline.fullAnnotate(\"Doctor John Snow lives in London, whereas Lord Commander Jon Snow lives in Castle Black\")[0]\n",
    "annotations.keys()"
   ]
  },
  {
   "cell_type": "code",
   "execution_count": 16,
   "metadata": {
    "colab": {
     "base_uri": "https://localhost:8080/"
    },
    "executionInfo": {
     "elapsed": 11,
     "status": "ok",
     "timestamp": 1661544691986,
     "user": {
      "displayName": "Danilo Burbano",
      "userId": "08593331088765378019"
     },
     "user_tz": 300
    },
    "id": "tmZcr-jnljP7",
    "outputId": "5ee7baf5-4d7b-4ef5-a41e-46084550adb8"
   },
   "outputs": [
    {
     "data": {
      "text/plain": [
       "[Annotation(chunk, 7, 15, John Snow, {'entity': 'PERSON', 'sentence': '0'}),\n",
       " Annotation(chunk, 57, 64, Jon Snow, {'entity': 'PERSON', 'sentence': '0'})]"
      ]
     },
     "execution_count": 16,
     "metadata": {},
     "output_type": "execute_result"
    }
   ],
   "source": [
    "annotations.get('entity')"
   ]
  },
  {
   "cell_type": "markdown",
   "metadata": {
    "id": "9LAxooiQNYVv"
   },
   "source": [
    "We can define an id field to identify entities and it supports JSON Lines format as the example below."
   ]
  },
  {
   "cell_type": "code",
   "execution_count": 17,
   "metadata": {
    "executionInfo": {
     "elapsed": 328,
     "status": "ok",
     "timestamp": 1661544692307,
     "user": {
      "displayName": "Danilo Burbano",
      "userId": "08593331088765378019"
     },
     "user_tz": 300
    },
    "id": "V8_KVQvdBDm8"
   },
   "outputs": [],
   "source": [
    "keywords = [\n",
    "            {\n",
    "              \"id\": \"names-with-j\",\n",
    "              \"label\": \"PERSON\",\n",
    "              \"patterns\": [\"Jon\", \"John\", \"John Snow\", \"Jon Snow\"]\n",
    "            },\n",
    "            {\n",
    "              \"id\": \"names-with-e\",\n",
    "              \"label\": \"PERSON\",\n",
    "              \"patterns\": [\"Eddard\", \"Eddard Stark\"]\n",
    "            },\n",
    "            {\n",
    "              \"id\": \"locations\",\n",
    "              \"label\": \"LOCATION\",\n",
    "              \"patterns\": [\"Winterfell\"]\n",
    "            },\n",
    "         ]\n",
    "\n",
    "with open('./keywords.jsonl', 'w') as jsonlfile:\n",
    "    for keyword in keywords:\n",
    "      json.dump(keyword, jsonlfile)\n",
    "      jsonlfile.write('\\n')"
   ]
  },
  {
   "cell_type": "code",
   "execution_count": 18,
   "metadata": {
    "colab": {
     "base_uri": "https://localhost:8080/"
    },
    "executionInfo": {
     "elapsed": 10,
     "status": "ok",
     "timestamp": 1661544692308,
     "user": {
      "displayName": "Danilo Burbano",
      "userId": "08593331088765378019"
     },
     "user_tz": 300
    },
    "id": "OWakfKMlB3Th",
    "outputId": "b877fc3d-4a07-48d9-d243-581afcb48b48"
   },
   "outputs": [
    {
     "name": "stdout",
     "output_type": "stream",
     "text": [
      "{\"id\": \"names-with-j\", \"label\": \"PERSON\", \"patterns\": [\"Jon\", \"John\", \"John Snow\", \"Jon Snow\"]}\n",
      "{\"id\": \"names-with-e\", \"label\": \"PERSON\", \"patterns\": [\"Eddard\", \"Eddard Stark\"]}\n",
      "{\"id\": \"locations\", \"label\": \"LOCATION\", \"patterns\": [\"Winterfell\"]}\n"
     ]
    }
   ],
   "source": [
    "! cat ./keywords.jsonl"
   ]
  },
  {
   "cell_type": "code",
   "execution_count": 19,
   "metadata": {
    "executionInfo": {
     "elapsed": 5,
     "status": "ok",
     "timestamp": 1661544692308,
     "user": {
      "displayName": "Danilo Burbano",
      "userId": "08593331088765378019"
     },
     "user_tz": 300
    },
    "id": "-_4a1QYaNPfr"
   },
   "outputs": [],
   "source": [
    "entity_ruler = EntityRulerApproach() \\\n",
    "    .setInputCols([\"sentence\"]) \\\n",
    "    .setOutputCol(\"entity\") \\\n",
    "    .setPatternsResource(\"./keywords.jsonl\", ReadAs.TEXT, options={\"format\": \"JSONL\"}) \\\n",
    "    .setUseStorage(True)"
   ]
  },
  {
   "cell_type": "code",
   "execution_count": 20,
   "metadata": {
    "colab": {
     "base_uri": "https://localhost:8080/"
    },
    "executionInfo": {
     "elapsed": 1505,
     "status": "ok",
     "timestamp": 1661544693809,
     "user": {
      "displayName": "Danilo Burbano",
      "userId": "08593331088765378019"
     },
     "user_tz": 300
    },
    "id": "Cd0sNKNeOcUg",
    "outputId": "7835c801-c821-444d-92ee-c60959a00ed4"
   },
   "outputs": [
    {
     "name": "stdout",
     "output_type": "stream",
     "text": [
      "+-----------------------------------------------------------------------------------------------------------------------------------------------------------------------------------------------------------------------------------------------------------------------+\n",
      "|entity                                                                                                                                                                                                                                                                 |\n",
      "+-----------------------------------------------------------------------------------------------------------------------------------------------------------------------------------------------------------------------------------------------------------------------+\n",
      "|[{chunk, 5, 16, Eddard Stark, {entity -> PERSON, sentence -> 0, id -> names-with-e}, []}, {chunk, 47, 55, John Snow, {entity -> PERSON, sentence -> 1, id -> names-with-j}, []}, {chunk, 66, 75, Winterfell, {entity -> LOCATION, sentence -> 1, id -> locations}, []}]|\n",
      "+-----------------------------------------------------------------------------------------------------------------------------------------------------------------------------------------------------------------------------------------------------------------------+\n",
      "\n"
     ]
    }
   ],
   "source": [
    "pipeline = Pipeline(stages=[document_assembler, sentence_detector, entity_ruler])\n",
    "model = pipeline.fit(data)\n",
    "model.transform(data).select(\"entity\").show(truncate=False)"
   ]
  },
  {
   "cell_type": "markdown",
   "metadata": {
    "id": "lDZ21hp3rOHV"
   },
   "source": [
    "For the CSV file we use the following configuration:\n"
   ]
  },
  {
   "cell_type": "code",
   "execution_count": 21,
   "metadata": {
    "executionInfo": {
     "elapsed": 4,
     "status": "ok",
     "timestamp": 1661544693810,
     "user": {
      "displayName": "Danilo Burbano",
      "userId": "08593331088765378019"
     },
     "user_tz": 300
    },
    "id": "_MLFqq-ICy56"
   },
   "outputs": [],
   "source": [
    "with open('./keywords.csv', 'w') as csvfile:\n",
    "    csvfile.write('PERSON|Jon\\n')\n",
    "    csvfile.write('PERSON|John\\n')\n",
    "    csvfile.write('PERSON|John Snow\\n')\n",
    "    csvfile.write('LOCATION|Winterfell')"
   ]
  },
  {
   "cell_type": "code",
   "execution_count": 22,
   "metadata": {
    "colab": {
     "base_uri": "https://localhost:8080/"
    },
    "executionInfo": {
     "elapsed": 319,
     "status": "ok",
     "timestamp": 1661544694126,
     "user": {
      "displayName": "Danilo Burbano",
      "userId": "08593331088765378019"
     },
     "user_tz": 300
    },
    "id": "Bz4129WyDNwd",
    "outputId": "fa00dc46-a624-4b99-f817-248e4e646c28"
   },
   "outputs": [
    {
     "name": "stdout",
     "output_type": "stream",
     "text": [
      "PERSON|Jon\n",
      "PERSON|John\n",
      "PERSON|John Snow\n",
      "LOCATION|Winterfell"
     ]
    }
   ],
   "source": [
    "! cat ./keywords.csv"
   ]
  },
  {
   "cell_type": "code",
   "execution_count": 23,
   "metadata": {
    "executionInfo": {
     "elapsed": 3,
     "status": "ok",
     "timestamp": 1661544694126,
     "user": {
      "displayName": "Danilo Burbano",
      "userId": "08593331088765378019"
     },
     "user_tz": 300
    },
    "id": "0HLcNfrdoAmP"
   },
   "outputs": [],
   "source": [
    "entity_ruler_csv = EntityRulerApproach() \\\n",
    "    .setInputCols([\"sentence\"]) \\\n",
    "    .setOutputCol(\"entity\") \\\n",
    "    .setPatternsResource(\"./keywords.csv\", options={\"format\": \"csv\", \"delimiter\": \"\\\\|\"}) \\\n",
    "    .setUseStorage(True)"
   ]
  },
  {
   "cell_type": "code",
   "execution_count": 24,
   "metadata": {
    "executionInfo": {
     "elapsed": 623,
     "status": "ok",
     "timestamp": 1661544694747,
     "user": {
      "displayName": "Danilo Burbano",
      "userId": "08593331088765378019"
     },
     "user_tz": 300
    },
    "id": "NYTuwztwoHIK"
   },
   "outputs": [],
   "source": [
    "pipeline_csv = Pipeline(stages=[document_assembler, sentence_detector, entity_ruler_csv])\n",
    "model_csv = pipeline_csv.fit(data)"
   ]
  },
  {
   "cell_type": "code",
   "execution_count": 25,
   "metadata": {
    "colab": {
     "base_uri": "https://localhost:8080/"
    },
    "executionInfo": {
     "elapsed": 927,
     "status": "ok",
     "timestamp": 1661544695359,
     "user": {
      "displayName": "Danilo Burbano",
      "userId": "08593331088765378019"
     },
     "user_tz": 300
    },
    "id": "qEN-zRNQoLu5",
    "outputId": "bda4f882-b34c-47ea-9c0e-1aefcbbfb5f7"
   },
   "outputs": [
    {
     "name": "stdout",
     "output_type": "stream",
     "text": [
      "+-----------------------------------------------------------------------------------------------------------------------------------------+\n",
      "|entity                                                                                                                                   |\n",
      "+-----------------------------------------------------------------------------------------------------------------------------------------+\n",
      "|[{chunk, 47, 55, John Snow, {entity -> PERSON, sentence -> 1}, []}, {chunk, 66, 75, Winterfell, {entity -> LOCATION, sentence -> 1}, []}]|\n",
      "+-----------------------------------------------------------------------------------------------------------------------------------------+\n",
      "\n"
     ]
    }
   ],
   "source": [
    "model_csv.transform(data).select(\"entity\").show(truncate=False)"
   ]
  },
  {
   "cell_type": "markdown",
   "metadata": {
    "id": "FmLiqAYhn5DT"
   },
   "source": [
    "# Regex Patterns"
   ]
  },
  {
   "cell_type": "markdown",
   "metadata": {
    "id": "V4h5Ulxyn-rE"
   },
   "source": [
    "Starting with Spark NLP 4.2.0 regex patterns must be defined at a more granular level, with each label. For example we can have the JSON file below"
   ]
  },
  {
   "cell_type": "code",
   "execution_count": 26,
   "metadata": {
    "executionInfo": {
     "elapsed": 5,
     "status": "ok",
     "timestamp": 1661544695360,
     "user": {
      "displayName": "Danilo Burbano",
      "userId": "08593331088765378019"
     },
     "user_tz": 300
    },
    "id": "1QQvXA4Zqelm"
   },
   "outputs": [],
   "source": [
    "data = spark.createDataFrame([[\"The address is 123456 in Winterfell\"]]).toDF(\"text\")"
   ]
  },
  {
   "cell_type": "code",
   "execution_count": 27,
   "metadata": {
    "executionInfo": {
     "elapsed": 4,
     "status": "ok",
     "timestamp": 1661544695360,
     "user": {
      "displayName": "Danilo Burbano",
      "userId": "08593331088765378019"
     },
     "user_tz": 300
    },
    "id": "oZZWlpFknvn1"
   },
   "outputs": [],
   "source": [
    "patterns_string = \"\"\"\n",
    "[\n",
    "  {\n",
    "    \"id\": \"id-regex\",\n",
    "    \"label\": \"ID\",\n",
    "    \"patterns\": [\"[0-9]+\"],\n",
    "    \"regex\": true\n",
    "  },\n",
    "  {\n",
    "    \"id\": \"locations-words\",\n",
    "    \"label\": \"LOCATION\",\n",
    "    \"patterns\": [\"Winterfell\"],\n",
    "    \"regex\": false\n",
    "  }\n",
    "]\n",
    "\"\"\"\n",
    "patterns_obj = json.loads(patterns_string)\n",
    "with open('./patterns.json', 'w') as jsonfile:\n",
    "    json.dump(patterns_obj, jsonfile)"
   ]
  },
  {
   "cell_type": "code",
   "execution_count": 28,
   "metadata": {
    "colab": {
     "base_uri": "https://localhost:8080/"
    },
    "executionInfo": {
     "elapsed": 302,
     "status": "ok",
     "timestamp": 1661544695659,
     "user": {
      "displayName": "Danilo Burbano",
      "userId": "08593331088765378019"
     },
     "user_tz": 300
    },
    "id": "xnp0zMqpogVU",
    "outputId": "37018d09-d0ea-4533-9447-9a02fbdc6fca"
   },
   "outputs": [
    {
     "name": "stdout",
     "output_type": "stream",
     "text": [
      "[{\"id\": \"id-regex\", \"label\": \"ID\", \"patterns\": [\"[0-9]+\"], \"regex\": true}, {\"id\": \"locations-words\", \"label\": \"LOCATION\", \"patterns\": [\"Winterfell\"], \"regex\": false}]"
     ]
    }
   ],
   "source": [
    "!cat ./patterns.json"
   ]
  },
  {
   "cell_type": "markdown",
   "metadata": {
    "id": "9RcZIelWorQ9"
   },
   "source": [
    "When defining a regex pattern, we need to define Tokenizer annotator in the pipeline"
   ]
  },
  {
   "cell_type": "code",
   "execution_count": 29,
   "metadata": {
    "executionInfo": {
     "elapsed": 5,
     "status": "ok",
     "timestamp": 1661544695659,
     "user": {
      "displayName": "Danilo Burbano",
      "userId": "08593331088765378019"
     },
     "user_tz": 300
    },
    "id": "rCUYCM56oq-e"
   },
   "outputs": [],
   "source": [
    "tokenizer = Tokenizer().setInputCols(\"sentence\").setOutputCol(\"token\")"
   ]
  },
  {
   "cell_type": "code",
   "execution_count": 30,
   "metadata": {
    "executionInfo": {
     "elapsed": 5,
     "status": "ok",
     "timestamp": 1661544695660,
     "user": {
      "displayName": "Danilo Burbano",
      "userId": "08593331088765378019"
     },
     "user_tz": 300
    },
    "id": "TJvrwk18pGqk"
   },
   "outputs": [],
   "source": [
    "regex_entity_ruler = EntityRulerApproach() \\\n",
    "    .setInputCols([\"sentence\", \"token\"]) \\\n",
    "    .setOutputCol(\"entity\") \\\n",
    "    .setPatternsResource(\"./patterns.json\") \\\n",
    "    .setUseStorage(True)"
   ]
  },
  {
   "cell_type": "code",
   "execution_count": 31,
   "metadata": {
    "executionInfo": {
     "elapsed": 713,
     "status": "ok",
     "timestamp": 1661544696368,
     "user": {
      "displayName": "Danilo Burbano",
      "userId": "08593331088765378019"
     },
     "user_tz": 300
    },
    "id": "7v8TbKbo0Izg"
   },
   "outputs": [],
   "source": [
    "regex_pipeline = Pipeline(stages=[document_assembler, sentence_detector, tokenizer, regex_entity_ruler])\n",
    "regex_model = regex_pipeline.fit(data)"
   ]
  },
  {
   "cell_type": "code",
   "execution_count": 32,
   "metadata": {
    "colab": {
     "base_uri": "https://localhost:8080/"
    },
    "executionInfo": {
     "elapsed": 926,
     "status": "ok",
     "timestamp": 1661544697291,
     "user": {
      "displayName": "Danilo Burbano",
      "userId": "08593331088765378019"
     },
     "user_tz": 300
    },
    "id": "pl63WAaq0TKa",
    "outputId": "e8c9987a-4462-4b81-89a8-ad69d604c62e"
   },
   "outputs": [
    {
     "name": "stdout",
     "output_type": "stream",
     "text": [
      "+-------------------------------------------------------------------------------------------------------------------------------------------------------------------------+\n",
      "|entity                                                                                                                                                                   |\n",
      "+-------------------------------------------------------------------------------------------------------------------------------------------------------------------------+\n",
      "|[{chunk, 15, 20, 123456, {entity -> ID, id -> id-regex, sentence -> 0}, []}, {chunk, 25, 34, Winterfell, {entity -> LOCATION, sentence -> 0, id -> locations-words}, []}]|\n",
      "+-------------------------------------------------------------------------------------------------------------------------------------------------------------------------+\n",
      "\n"
     ]
    }
   ],
   "source": [
    "regex_model.transform(data).select(\"entity\").show(truncate=False)"
   ]
  }
 ],
 "metadata": {
  "colab": {
   "authorship_tag": "ABX9TyPAkTh+xRM44+YYHOMG0V7p",
   "name": "EntityRuler.ipynb",
   "provenance": [
    {
     "file_id": "1QgevB5ZVEDJIwt6TapwdzUa0wSgzfOdb",
     "timestamp": 1631717372195
    }
   ],
   "toc_visible": true
  },
  "kernelspec": {
   "display_name": "Python 3",
   "language": "python",
   "name": "python3"
  },
  "language_info": {
   "codemirror_mode": {
    "name": "ipython",
    "version": 3
   },
   "file_extension": ".py",
   "mimetype": "text/x-python",
   "name": "python",
   "nbconvert_exporter": "python",
   "pygments_lexer": "ipython3",
   "version": "3.8.10"
  }
 },
 "nbformat": 4,
 "nbformat_minor": 1
}
