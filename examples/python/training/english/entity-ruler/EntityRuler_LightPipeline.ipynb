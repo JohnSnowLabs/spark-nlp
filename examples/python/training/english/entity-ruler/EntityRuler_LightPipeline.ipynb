{
 "cells": [
  {
   "cell_type": "markdown",
   "metadata": {
    "colab": {
     "base_uri": "https://localhost:8080/"
    },
    "executionInfo": {
     "elapsed": 57305,
     "status": "ok",
     "timestamp": 1661544131455,
     "user": {
      "displayName": "Danilo Burbano",
      "userId": "08593331088765378019"
     },
     "user_tz": 300
    },
    "id": "6KvNW4MU5rrF",
    "outputId": "d5299652-c828-48d3-e7ee-c10c9f733586"
   },
   "source": [
    "![JohnSnowLabs](https://nlp.johnsnowlabs.com/assets/images/logo.png)\n",
    "\n",
    "[![Open In Colab](https://colab.research.google.com/assets/colab-badge.svg)](https://colab.research.google.com/github/JohnSnowLabs/spark-nlp-workshop/blob/master/jupyter/training/english/entity-ruler/EntityRuler_LightPipeline.ipynb)"
   ]
  },
  {
   "cell_type": "code",
   "execution_count": 3,
   "metadata": {
    "executionInfo": {
     "elapsed": 6337,
     "status": "ok",
     "timestamp": 1661544177059,
     "user": {
      "displayName": "Danilo Burbano",
      "userId": "08593331088765378019"
     },
     "user_tz": 300
    },
    "id": "1953uewL-Jll"
   },
   "outputs": [],
   "source": [
    "!wget https://setup.johnsnowlabs.com/colab.sh -O - | bash"
   ]
  },
  {
   "cell_type": "markdown",
   "metadata": {
    "id": "P_GiBDlsja-o"
   },
   "source": [
    "This notebook showcases serialization and LightPipeline for EntityRuler"
   ]
  },
  {
   "cell_type": "code",
   "execution_count": 4,
   "metadata": {
    "executionInfo": {
     "elapsed": 344,
     "status": "ok",
     "timestamp": 1661544177397,
     "user": {
      "displayName": "Danilo Burbano",
      "userId": "08593331088765378019"
     },
     "user_tz": 300
    },
    "id": "XLNO3Z9r6HgR"
   },
   "outputs": [],
   "source": [
    "import sparknlp\n",
    "from sparknlp.base import *\n",
    "from sparknlp.annotator import *\n",
    "from pyspark.sql import SparkSession"
   ]
  },
  {
   "cell_type": "code",
   "execution_count": null,
   "metadata": {},
   "outputs": [],
   "source": [
    "spark = sparknlp.start()"
   ]
  },
  {
   "cell_type": "code",
   "execution_count": 6,
   "metadata": {
    "executionInfo": {
     "elapsed": 3492,
     "status": "ok",
     "timestamp": 1661544192888,
     "user": {
      "displayName": "Danilo Burbano",
      "userId": "08593331088765378019"
     },
     "user_tz": 300
    },
    "id": "_eB72Yzg8_Jx"
   },
   "outputs": [],
   "source": [
    "data = spark.createDataFrame([[\"\"]]).toDF(\"text\")"
   ]
  },
  {
   "cell_type": "code",
   "execution_count": 7,
   "metadata": {
    "executionInfo": {
     "elapsed": 9,
     "status": "ok",
     "timestamp": 1661544192889,
     "user": {
      "displayName": "Danilo Burbano",
      "userId": "08593331088765378019"
     },
     "user_tz": 300
    },
    "id": "OmOTCKpV84Xs"
   },
   "outputs": [],
   "source": [
    "import json\n",
    "\n",
    "person = [\n",
    "          {\n",
    "            \"label\": \"PERSON\",\n",
    "            \"patterns\": [\"Jon\", \"John\", \"John Snow\", \"Jon Snow\"]\n",
    "          },\n",
    "          {\n",
    "            \"label\": \"PERSON\",\n",
    "            \"patterns\": [\"Eddard\", \"Eddard Stark\"]\n",
    "          },\n",
    "          {\n",
    "            \"label\": \"LOCATION\",\n",
    "            \"patterns\": [\"Winterfell\"]\n",
    "          },\n",
    "         ]\n",
    "\n",
    "with open('./keywords.json', 'w') as jsonfile:\n",
    "    json.dump(person, jsonfile)"
   ]
  },
  {
   "cell_type": "code",
   "execution_count": 8,
   "metadata": {
    "executionInfo": {
     "elapsed": 2713,
     "status": "ok",
     "timestamp": 1661544195595,
     "user": {
      "displayName": "Danilo Burbano",
      "userId": "08593331088765378019"
     },
     "user_tz": 300
    },
    "id": "tRyju8D-6XJ1"
   },
   "outputs": [],
   "source": [
    "entity_ruler = EntityRulerApproach() \\\n",
    "    .setInputCols([\"document\"]) \\\n",
    "    .setOutputCol(\"entity\") \\\n",
    "    .setPatternsResource(\"./keywords.json\")\n",
    "\n",
    "entity_ruler_model = entity_ruler.fit(data)\n",
    "entity_ruler_model.write().overwrite().save(\"tmp_entity_ruler_model\")"
   ]
  },
  {
   "cell_type": "code",
   "execution_count": 9,
   "metadata": {
    "executionInfo": {
     "elapsed": 859,
     "status": "ok",
     "timestamp": 1661544196447,
     "user": {
      "displayName": "Danilo Burbano",
      "userId": "08593331088765378019"
     },
     "user_tz": 300
    },
    "id": "OqFTxvxRC5aw"
   },
   "outputs": [],
   "source": [
    "entity_ruler_loaded = EntityRulerModel().load(\"tmp_entity_ruler_model\")"
   ]
  },
  {
   "cell_type": "code",
   "execution_count": 10,
   "metadata": {
    "executionInfo": {
     "elapsed": 855,
     "status": "ok",
     "timestamp": 1661544197298,
     "user": {
      "displayName": "Danilo Burbano",
      "userId": "08593331088765378019"
     },
     "user_tz": 300
    },
    "id": "jtMK0ZekjSeB"
   },
   "outputs": [],
   "source": [
    "document_assembler = DocumentAssembler().setInputCol(\"text\").setOutputCol(\"document\")\n",
    "\n",
    "pipeline = Pipeline(stages=[document_assembler, entity_ruler])\n",
    "pipeline_model = pipeline.fit(data)\n",
    "light_pipeline = LightPipeline(pipeline_model)"
   ]
  },
  {
   "cell_type": "code",
   "execution_count": 11,
   "metadata": {
    "colab": {
     "base_uri": "https://localhost:8080/"
    },
    "executionInfo": {
     "elapsed": 5,
     "status": "ok",
     "timestamp": 1661544197299,
     "user": {
      "displayName": "Danilo Burbano",
      "userId": "08593331088765378019"
     },
     "user_tz": 300
    },
    "id": "d7qy0hxlkX3u",
    "outputId": "4f0e696d-7de1-4796-cdfd-28d594815911"
   },
   "outputs": [
    {
     "name": "stdout",
     "output_type": "stream",
     "text": [
      "{'document': ['Lord Eddard Stark was the head of House Stark. John Snow lives in Winterfell.'], 'entity': ['Eddard Stark', 'John Snow', 'Winterfell']}\n"
     ]
    }
   ],
   "source": [
    "result = light_pipeline.annotate(\"Lord Eddard Stark was the head of House Stark. John Snow lives in Winterfell.\")\n",
    "print(result)"
   ]
  }
 ],
 "metadata": {
  "colab": {
   "authorship_tag": "ABX9TyNSdyIQJYDjGC845HpLNOwx",
   "name": "EntityRuler LightPipeline.ipynb",
   "provenance": [
    {
     "file_id": "1xMb7W0WSkt-omJg8NK4zUu-ZESpzPXW6",
     "timestamp": 1632859460195
    },
    {
     "file_id": "1QgevB5ZVEDJIwt6TapwdzUa0wSgzfOdb",
     "timestamp": 1631717372195
    }
   ],
   "toc_visible": true
  },
  "kernelspec": {
   "display_name": "Python 3",
   "language": "python",
   "name": "python3"
  },
  "language_info": {
   "codemirror_mode": {
    "name": "ipython",
    "version": 3
   },
   "file_extension": ".py",
   "mimetype": "text/x-python",
   "name": "python",
   "nbconvert_exporter": "python",
   "pygments_lexer": "ipython3",
   "version": "3.8.10"
  }
 },
 "nbformat": 4,
 "nbformat_minor": 1
}
