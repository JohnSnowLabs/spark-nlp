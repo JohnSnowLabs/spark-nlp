{
 "cells": [
  {
   "attachments": {},
   "cell_type": "markdown",
   "metadata": {},
   "source": [
    "![JohnSnowLabs](https://sparknlp.org/assets/images/logo.png)\n",
    "\n",
    "[![Open In Colab](https://colab.research.google.com/assets/colab-badge.svg)](https://colab.research.google.com/github/JohnSnowLabs/spark-nlp/blob/master/examples/python/training/english/entity-ruler/EntityRuler_LightPipeline.ipynb)\n",
    "\n",
    "# EntityRuler in a LightPipeline"
   ]
  },
  {
   "cell_type": "code",
   "execution_count": null,
   "metadata": {},
   "outputs": [],
   "source": [
    "# Only run this Cell when you are using Spark NLP on Google Colab\n",
    "!wget https://setup.johnsnowlabs.com/colab.sh -O - | bash"
   ]
  },
  {
   "cell_type": "markdown",
   "metadata": {},
   "source": [
    "This notebook showcases serialization and LightPipeline for EntityRuler"
   ]
  },
  {
   "cell_type": "code",
   "execution_count": null,
   "metadata": {},
   "outputs": [],
   "source": [
    "import sparknlp\n",
    "from sparknlp.base import *\n",
    "from sparknlp.annotator import *\n",
    "from pyspark.sql import SparkSession\n",
    "\n",
    "spark = sparknlp.start()"
   ]
  },
  {
   "cell_type": "code",
   "execution_count": null,
   "metadata": {},
   "outputs": [],
   "source": [
    "data = spark.createDataFrame([[\"\"]]).toDF(\"text\")"
   ]
  },
  {
   "cell_type": "code",
   "execution_count": null,
   "metadata": {},
   "outputs": [],
   "source": [
    "import json\n",
    "\n",
    "person = [\n",
    "          {\n",
    "            \"label\": \"PERSON\",\n",
    "            \"patterns\": [\"Jon\", \"John\", \"John Snow\", \"Jon Snow\"]\n",
    "          },\n",
    "          {\n",
    "            \"label\": \"PERSON\",\n",
    "            \"patterns\": [\"Eddard\", \"Eddard Stark\"]\n",
    "          },\n",
    "          {\n",
    "            \"label\": \"LOCATION\",\n",
    "            \"patterns\": [\"Winterfell\"]\n",
    "          },\n",
    "         ]\n",
    "\n",
    "with open('./keywords.json', 'w') as jsonfile:\n",
    "    json.dump(person, jsonfile)"
   ]
  },
  {
   "cell_type": "code",
   "execution_count": null,
   "metadata": {},
   "outputs": [],
   "source": [
    "entity_ruler = EntityRulerApproach() \\\n",
    "    .setInputCols([\"document\"]) \\\n",
    "    .setOutputCol(\"entity\") \\\n",
    "    .setPatternsResource(\"./keywords.json\")\n",
    "\n",
    "entity_ruler_model = entity_ruler.fit(data)\n",
    "entity_ruler_model.write().overwrite().save(\"tmp_entity_ruler_model\")"
   ]
  },
  {
   "cell_type": "code",
   "execution_count": null,
   "metadata": {},
   "outputs": [],
   "source": [
    "entity_ruler_loaded = EntityRulerModel().load(\"tmp_entity_ruler_model\")"
   ]
  },
  {
   "cell_type": "code",
   "execution_count": null,
   "metadata": {},
   "outputs": [],
   "source": [
    "document_assembler = DocumentAssembler().setInputCol(\"text\").setOutputCol(\"document\")\n",
    "\n",
    "pipeline = Pipeline(stages=[document_assembler, entity_ruler])\n",
    "pipeline_model = pipeline.fit(data)\n",
    "light_pipeline = LightPipeline(pipeline_model)"
   ]
  },
  {
   "cell_type": "code",
   "execution_count": null,
   "metadata": {},
   "outputs": [
    {
     "name": "stdout",
     "output_type": "stream",
     "text": [
      "{'document': ['Lord Eddard Stark was the head of House Stark. John Snow lives in Winterfell.'], 'entity': ['Eddard Stark', 'John Snow', 'Winterfell']}\n"
     ]
    }
   ],
   "source": [
    "result = light_pipeline.annotate(\"Lord Eddard Stark was the head of House Stark. John Snow lives in Winterfell.\")\n",
    "print(result)"
   ]
  }
 ],
 "metadata": {
  "colab": {
   "authorship_tag": "ABX9TyNSdyIQJYDjGC845HpLNOwx",
   "name": "EntityRuler LightPipeline.ipynb",
   "provenance": [
    {
     "file_id": "1xMb7W0WSkt-omJg8NK4zUu-ZESpzPXW6",
     "timestamp": 1632859460195
    },
    {
     "file_id": "1QgevB5ZVEDJIwt6TapwdzUa0wSgzfOdb",
     "timestamp": 1631717372195
    }
   ],
   "toc_visible": true
  },
  "kernelspec": {
   "display_name": "Python 3",
   "language": "python",
   "name": "python3"
  },
  "language_info": {
   "codemirror_mode": {
    "name": "ipython",
    "version": 3
   },
   "file_extension": ".py",
   "mimetype": "text/x-python",
   "name": "python",
   "nbconvert_exporter": "python",
   "pygments_lexer": "ipython3"
  }
 },
 "nbformat": 4,
 "nbformat_minor": 1
}
