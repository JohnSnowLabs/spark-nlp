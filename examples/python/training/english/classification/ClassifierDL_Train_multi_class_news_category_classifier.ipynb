{
 "cells": [
  {
   "attachments": {},
   "cell_type": "markdown",
   "metadata": {},
   "source": [
    "![JohnSnowLabs](https://nlp.johnsnowlabs.com/assets/images/logo.png)\n",
    "\n",
    "[![Open In Colab](https://colab.research.google.com/assets/colab-badge.svg)](https://colab.research.google.com/github/JohnSnowLabs/spark-nlp/blob/master/examples/python/training/english/classification/ClassifierDL_Train_multi_class_news_category_classifier.ipynb)\n",
    "\n",
    "# Multi-class Text Classification using ClassifierDL"
   ]
  },
  {
   "cell_type": "markdown",
   "metadata": {},
   "source": [
    "Only run this block if you are inside Google Colab otherwise skip it"
   ]
  },
  {
   "cell_type": "code",
   "execution_count": null,
   "metadata": {},
   "outputs": [
    {
     "name": "stdout",
     "output_type": "stream",
     "text": [
      "openjdk version \"1.8.0_252\"\n",
      "OpenJDK Runtime Environment (build 1.8.0_252-8u252-b09-1~18.04-b09)\n",
      "OpenJDK 64-Bit Server VM (build 25.252-b09, mixed mode)\n"
     ]
    }
   ],
   "source": [
    "# Only run this cell when you are using Spark NLP on Google Colab\n",
    "!wget http://setup.johnsnowlabs.com/colab.sh -O - | bash"
   ]
  },
  {
   "cell_type": "code",
   "execution_count": null,
   "metadata": {},
   "outputs": [
    {
     "name": "stdout",
     "output_type": "stream",
     "text": [
      "Spark NLP version:  4.3.1\n",
      "Apache Spark version;  3.3.0\n"
     ]
    }
   ],
   "source": [
    "import sparknlp\n",
    "\n",
    "spark = sparknlp.start()\n",
    "\n",
    "print(\"Spark NLP version: \", sparknlp.version())\n",
    "print(\"Apache Spark version; \", spark.version)"
   ]
  },
  {
   "cell_type": "markdown",
   "metadata": {},
   "source": [
    "Let's download news category dataset for training our text classifier"
   ]
  },
  {
   "cell_type": "code",
   "execution_count": null,
   "metadata": {},
   "outputs": [
    {
     "name": "stdout",
     "output_type": "stream",
     "text": [
      "--2023-02-20 17:39:41--  https://s3.amazonaws.com/auxdata.johnsnowlabs.com/public/resources/en/classifier-dl/news_Category/news_category_train.csv\n",
      "Loaded CA certificate '/etc/ssl/certs/ca-certificates.crt'\n",
      "Resolving s3.amazonaws.com (s3.amazonaws.com)... 52.216.140.206, 52.216.147.5, 54.231.204.0, ...\n",
      "Connecting to s3.amazonaws.com (s3.amazonaws.com)|52.216.140.206|:443... connected.\n",
      "HTTP request sent, awaiting response... 200 OK\n",
      "Length: 24032125 (23M) [text/csv]\n",
      "Saving to: ‘news_category_train.csv’\n",
      "\n",
      "news_category_train 100%[===================>]  22,92M  10,2MB/s    in 2,3s    \n",
      "\n",
      "2023-02-20 17:39:44 (10,2 MB/s) - ‘news_category_train.csv’ saved [24032125/24032125]\n",
      "\n"
     ]
    }
   ],
   "source": [
    "!wget -O news_category_train.csv https://s3.amazonaws.com/auxdata.johnsnowlabs.com/public/resources/en/classifier-dl/news_Category/news_category_train.csv"
   ]
  },
  {
   "cell_type": "code",
   "execution_count": null,
   "metadata": {},
   "outputs": [
    {
     "name": "stdout",
     "output_type": "stream",
     "text": [
      "--2023-02-20 17:39:46--  https://s3.amazonaws.com/auxdata.johnsnowlabs.com/public/resources/en/classifier-dl/news_Category/news_category_test.csv\n",
      "Loaded CA certificate '/etc/ssl/certs/ca-certificates.crt'\n",
      "Resolving s3.amazonaws.com (s3.amazonaws.com)... 52.216.131.61, 52.217.231.232, 54.231.235.104, ...\n",
      "Connecting to s3.amazonaws.com (s3.amazonaws.com)|52.216.131.61|:443... connected.\n",
      "HTTP request sent, awaiting response... 200 OK\n",
      "Length: 1504408 (1,4M) [text/csv]\n",
      "Saving to: ‘news_category_test.csv’\n",
      "\n",
      "news_category_test. 100%[===================>]   1,43M  2,10MB/s    in 0,7s    \n",
      "\n",
      "2023-02-20 17:39:47 (2,10 MB/s) - ‘news_category_test.csv’ saved [1504408/1504408]\n",
      "\n"
     ]
    }
   ],
   "source": [
    "!wget -O news_category_test.csv https://s3.amazonaws.com/auxdata.johnsnowlabs.com/public/resources/en/classifier-dl/news_Category/news_category_test.csv"
   ]
  },
  {
   "cell_type": "code",
   "execution_count": null,
   "metadata": {},
   "outputs": [
    {
     "name": "stdout",
     "output_type": "stream",
     "text": [
      "category,description\n",
      "Business,\" Short sellers, Wall Street's dwindling band of ultra cynics, are seeing green again.\"\n",
      "Business,\" Private investment firm Carlyle Group, which has a reputation for making well timed and occasionally controversial plays in the defense industry, has quietly placed its bets on another part of the market.\"\n",
      "Business, Soaring crude prices plus worries about the economy and the outlook for earnings are expected to hang over the stock market next week during the depth of the summer doldrums.\n",
      "Business,\" Authorities have halted oil export flows from the main pipeline in southern Iraq after intelligence showed a rebel militia could strike infrastructure, an oil official said on Saturday.\"\n",
      "Business,\" Tearaway world oil prices, toppling records and straining wallets, present a new economic menace barely three months before the US presidential elections.\"\n",
      "Business,\" Stocks ended slightly higher on Friday but stayed near lows for the year as oil prices surged past  #36;46 a barrel, offsetting a positive outlook from computer maker Dell Inc. (DELL.O)\"\n",
      "Business,\" Assets of the nation's retail money market mutual funds fell by  #36;1.17 billion in the latest week to  #36;849.98 trillion, the Investment Company Institute said Thursday.\"\n",
      "Business,\" Retail sales bounced back a bit in July, and new claims for jobless benefits fell last week, the government said Thursday, indicating the economy is improving from a midsummer slump.\"\n",
      "Business,\" After earning a PH.D. in Sociology, Danny Bazil Riley started to work as the general manager at a commercial real estate firm at an annual base salary of  #36;70,000. Soon after, a financial planner stopped by his desk to drop off brochures about insurance benefits available through his employer. But, at 32, \"\"buying insurance was the furthest thing from my mind,\"\" says Riley.\"\n"
     ]
    }
   ],
   "source": [
    "!head news_category_train.csv"
   ]
  },
  {
   "cell_type": "markdown",
   "metadata": {},
   "source": [
    "The content is inside `description` column and the labels are inside `category` column"
   ]
  },
  {
   "cell_type": "code",
   "execution_count": null,
   "metadata": {},
   "outputs": [],
   "source": [
    "trainDataset = spark.read \\\n",
    "      .option(\"header\", True) \\\n",
    "      .csv(\"news_category_train.csv\")"
   ]
  },
  {
   "cell_type": "code",
   "execution_count": null,
   "metadata": {},
   "outputs": [
    {
     "name": "stdout",
     "output_type": "stream",
     "text": [
      "+--------+--------------------+\n",
      "|category|         description|\n",
      "+--------+--------------------+\n",
      "|Business| Short sellers, W...|\n",
      "|Business| Private investme...|\n",
      "|Business| Soaring crude pr...|\n",
      "|Business| Authorities have...|\n",
      "|Business| Tearaway world o...|\n",
      "|Business| Stocks ended sli...|\n",
      "|Business| Assets of the na...|\n",
      "|Business| Retail sales bou...|\n",
      "|Business|\" After earning a...|\n",
      "|Business| Short sellers, W...|\n",
      "|Business| Soaring crude pr...|\n",
      "|Business| OPEC can do noth...|\n",
      "|Business| Non OPEC oil exp...|\n",
      "|Business| WASHINGTON/NEW Y...|\n",
      "|Business| The dollar tumbl...|\n",
      "|Business|If you think you ...|\n",
      "|Business|The purchasing po...|\n",
      "|Business|There is little c...|\n",
      "|Business|The US trade defi...|\n",
      "|Business|Oil giant Shell c...|\n",
      "+--------+--------------------+\n",
      "only showing top 20 rows\n",
      "\n"
     ]
    }
   ],
   "source": [
    "trainDataset.show()"
   ]
  },
  {
   "cell_type": "code",
   "execution_count": null,
   "metadata": {},
   "outputs": [
    {
     "data": {
      "text/plain": [
       "120000"
      ]
     },
     "execution_count": null,
     "metadata": {},
     "output_type": "execute_result"
    }
   ],
   "source": [
    "trainDataset.count()"
   ]
  },
  {
   "cell_type": "code",
   "execution_count": null,
   "metadata": {},
   "outputs": [],
   "source": [
    "from pyspark.ml import Pipeline\n",
    "\n",
    "from sparknlp.annotator import *\n",
    "from sparknlp.common import *\n",
    "from sparknlp.base import *"
   ]
  },
  {
   "cell_type": "code",
   "execution_count": null,
   "metadata": {},
   "outputs": [
    {
     "name": "stdout",
     "output_type": "stream",
     "text": [
      "tfhub_use download started this may take some time.\n",
      "Approximate size to download 923.7 MB\n",
      "[OK!]\n"
     ]
    }
   ],
   "source": [
    "# actual content is inside description column\n",
    "document = DocumentAssembler()\\\n",
    "    .setInputCol(\"description\")\\\n",
    "    .setOutputCol(\"document\")\n",
    "\n",
    "use = UniversalSentenceEncoder.pretrained() \\\n",
    " .setInputCols([\"document\"])\\\n",
    " .setOutputCol(\"sentence_embeddings\")\n",
    "\n",
    "# the classes/labels/categories are in category column\n",
    "classsifierdl = ClassifierDLApproach()\\\n",
    "  .setInputCols([\"sentence_embeddings\"])\\\n",
    "  .setOutputCol(\"class\")\\\n",
    "  .setLabelColumn(\"category\")\\\n",
    "  .setMaxEpochs(5)\\\n",
    "  .setEnableOutputLogs(True)\n",
    "\n",
    "pipeline = Pipeline(\n",
    "    stages = [\n",
    "        document,\n",
    "        use,\n",
    "        classsifierdl\n",
    "    ])"
   ]
  },
  {
   "cell_type": "code",
   "execution_count": null,
   "metadata": {},
   "outputs": [],
   "source": [
    "pipelineModel = pipeline.fit(trainDataset)"
   ]
  },
  {
   "cell_type": "code",
   "execution_count": null,
   "metadata": {},
   "outputs": [
    {
     "name": "stdout",
     "output_type": "stream",
     "text": [
      "total 148\n",
      "-rw-r--r-- 1 root root 456 20. Feb 17:41 ClassifierDLApproach_0375e3a8df00.log\n",
      "-rw-r--r-- 1 root root 918 20. Feb 17:38 ClassifierDLApproach_6fdb8a569309.log\n",
      "-rw-r--r-- 1 root root 446 20. Feb 15:55 ClassifierDLApproach_97ff5c76d735.log\n",
      "-rw-r--r-- 1 root root 438 20. Feb 17:38 ClassifierMetrics_09bd6fa2ecf7.log\n",
      "-rw-r--r-- 1 root root 317 10. Feb 16:54 ClassifierMetrics_17606bbb7d1f.log\n",
      "-rw-r--r-- 1 root root 313 10. Feb 16:54 ClassifierMetrics_1a6c515483ae.log\n",
      "-rw-r--r-- 1 root root 441 20. Feb 17:38 ClassifierMetrics_1e0c8ea78e67.log\n",
      "-rw-r--r-- 1 root root 323 10. Feb 16:54 ClassifierMetrics_2530315112a8.log\n",
      "-rw-r--r-- 1 root root 445 20. Feb 17:38 ClassifierMetrics_2b7b458fc84d.log\n",
      "-rw-r--r-- 1 root root 314 10. Feb 16:54 ClassifierMetrics_3ccf43933a23.log\n",
      "-rw-r--r-- 1 root root 449 20. Feb 17:38 ClassifierMetrics_4a2e4a7dac7c.log\n",
      "-rw-r--r-- 1 root root 325 10. Feb 16:54 ClassifierMetrics_55c7e364bf2b.log\n",
      "-rw-r--r-- 1 root root 426 20. Feb 17:38 ClassifierMetrics_73fa92fe4be8.log\n",
      "-rw-r--r-- 1 root root 433 20. Feb 17:38 ClassifierMetrics_7764aa9b23e3.log\n",
      "-rw-r--r-- 1 root root 445 20. Feb 17:38 ClassifierMetrics_890dcfe0db80.log\n",
      "-rw-r--r-- 1 root root 444 20. Feb 17:38 ClassifierMetrics_8ecc3f83e12d.log\n",
      "-rw-r--r-- 1 root root 325 10. Feb 16:54 ClassifierMetrics_9290b613e8d7.log\n",
      "-rw-r--r-- 1 root root 317 10. Feb 16:54 ClassifierMetrics_aa0e2812a3b9.log\n",
      "-rw-r--r-- 1 root root 318 10. Feb 16:54 ClassifierMetrics_ad4cb4a650fa.log\n",
      "-rw-r--r-- 1 root root 452 20. Feb 17:38 ClassifierMetrics_e0da6952b2c6.log\n",
      "-rw-r--r-- 1 root root 312 10. Feb 16:54 ClassifierMetrics_efc7f6345e79.log\n",
      "-rw-r--r-- 1 root root 319 10. Feb 16:54 ClassifierMetrics_f571876aaa09.log\n",
      "-rw-r--r-- 1 root root 436 20. Feb 17:38 ClassifierMetrics_fdc5fa307baf.log\n",
      "-rw-r--r-- 1 root root 320 26. Okt 09:23 NerDL_0f47f69f09e6.log\n",
      "-rw-r--r-- 1 root root 320  2. Aug 2022  NerDL_10e337c8a3ef.log\n",
      "-rw-r--r-- 1 root root 320 12. Jan 17:31 NerDL_18e7b1673dab.log\n",
      "-rw-r--r-- 1 root root 320  2. Aug 2022  NerDL_27f18f749174.log\n",
      "-rw-r--r-- 1 root root 320  2. Aug 2022  NerDL_3ae0321ce66a.log\n",
      "-rw-r--r-- 1 root root 319 26. Okt 09:13 NerDL_568d747656b8.log\n",
      "-rw-r--r-- 1 root root 320 26. Okt 09:03 NerDL_5970e276422f.log\n",
      "-rw-r--r-- 1 root root 320 16. Jan 11:10 NerDL_759a68c3769d.log\n",
      "-rw-r--r-- 1 root root 320  3. Nov 19:22 NerDL_891f9b941985.log\n",
      "-rw-r--r-- 1 root root 320  2. Feb 2022  NerDL_8e8184f259cb.log\n",
      "-rw-r--r-- 1 root root 320 27. Okt 13:02 NerDL_add5b34b2ecb.log\n",
      "-rw-r--r-- 1 root root 320 21. Okt 19:06 NerDL_bc57a96c68c3.log\n",
      "-rw-r--r-- 1 root root 320 12. Jan 16:47 NerDL_ff0a43f20378.log\n",
      "-rw-r--r-- 1 root root 897 10. Feb 16:54 SentimentDLApproach_98dfd2c1fdee.log\n"
     ]
    }
   ],
   "source": [
    "!cd ~/annotator_logs && ls -l"
   ]
  },
  {
   "cell_type": "code",
   "execution_count": null,
   "metadata": {},
   "outputs": [
    {
     "name": "stdout",
     "output_type": "stream",
     "text": [
      "cat: /home/root/annotator_logs/ClassifierDLApproach_d82e68030034.log: No such file or directory\n"
     ]
    }
   ],
   "source": [
    "!cat ~/annotator_logs/ClassifierDLApproach_d82e68030034.log"
   ]
  },
  {
   "cell_type": "markdown",
   "metadata": {},
   "source": [
    "# How to use already trained ClassifierDL pipeline or its model\n",
    "\n",
    "We have two ways of using what we already trained: pipeline or model.\n",
    "\n",
    "Let's see how we can save the entire pipeline, load it, and do some prediction with that pre-trained pipeline."
   ]
  },
  {
   "cell_type": "markdown",
   "metadata": {},
   "source": [
    "## Save and load pre-trained ClassifierDL pipeline"
   ]
  },
  {
   "cell_type": "code",
   "execution_count": null,
   "metadata": {},
   "outputs": [],
   "source": [
    "# Google Colab is free so it comes with a little memory. \n",
    "# It's not possible to save and load in this notebook. But you can do this locally or in a decent machine!\n",
    "\n",
    "# pipelineModel.save(\"./classifierdl_pipeline\")\n",
    "# loadedPipeline = PipelineModel.load(\"./classifierdl_pipeline\")\n",
    "# loadedPipeline.transform(YOUR_DATAFRAME)"
   ]
  },
  {
   "cell_type": "markdown",
   "metadata": {},
   "source": [
    "# Save and load pre-trained ClassifierDL model"
   ]
  },
  {
   "cell_type": "code",
   "execution_count": null,
   "metadata": {},
   "outputs": [],
   "source": [
    "# dbfs:/ or hdfs:/ if you are saving it on distributed file systems\n",
    "pipelineModel.stages[-1].write().overwrite().save('./tmp_classifierDL_model')\n",
    "\n"
   ]
  },
  {
   "cell_type": "markdown",
   "metadata": {},
   "source": [
    "Let's use our pre-trained ClassifierDLModel in a pipeline: "
   ]
  },
  {
   "cell_type": "code",
   "execution_count": null,
   "metadata": {},
   "outputs": [
    {
     "name": "stdout",
     "output_type": "stream",
     "text": [
      "tfhub_use download started this may take some time.\n",
      "Approximate size to download 923.7 MB\n",
      "[OK!]\n"
     ]
    }
   ],
   "source": [
    "\n",
    "# In a new pipeline you can load it for prediction\n",
    "document = DocumentAssembler()\\\n",
    "    .setInputCol(\"description\")\\\n",
    "    .setOutputCol(\"document\")\n",
    "\n",
    "use = UniversalSentenceEncoder.pretrained() \\\n",
    " .setInputCols([\"document\"])\\\n",
    " .setOutputCol(\"sentence_embeddings\")\n",
    "\n",
    "classsifierdl = ClassifierDLModel.load(\"./tmp_classifierDL_model\") \\\n",
    "  .setInputCols([\"sentence_embeddings\"])\\\n",
    "  .setOutputCol(\"class\")\n",
    "\n",
    "pipeline = Pipeline(\n",
    "    stages = [\n",
    "        document,\n",
    "        use,\n",
    "        classsifierdl\n",
    "    ])\n"
   ]
  },
  {
   "cell_type": "markdown",
   "metadata": {},
   "source": [
    "Now let's load it back so we can have prediction all together with everything in that pipeline:"
   ]
  },
  {
   "cell_type": "code",
   "execution_count": null,
   "metadata": {},
   "outputs": [],
   "source": [
    "from pyspark.sql.types import StringType\n",
    "\n",
    "dfTest = spark.createDataFrame([\n",
    "    \"Unions representing workers at Turner   Newall say they are 'disappointed' after talks with stricken parent firm Federal Mogul.\",\n",
    "    \"Scientists have discovered irregular lumps beneath the icy surface of Jupiter's largest moon, Ganymede. These irregular masses may be rock formations, supported by Ganymede's icy shell for billions of years...\"\n",
    "], StringType()).toDF(\"description\")"
   ]
  },
  {
   "cell_type": "code",
   "execution_count": null,
   "metadata": {},
   "outputs": [],
   "source": [
    "prediction = pipeline.fit(dfTest).transform(dfTest)"
   ]
  },
  {
   "cell_type": "code",
   "execution_count": null,
   "metadata": {},
   "outputs": [
    {
     "name": "stdout",
     "output_type": "stream",
     "text": [
      "+----------+\n",
      "|    result|\n",
      "+----------+\n",
      "|[Business]|\n",
      "|[Sci/Tech]|\n",
      "+----------+\n",
      "\n",
      "+----------------------------------------------------------------------------------------------------------------+\n",
      "|metadata                                                                                                        |\n",
      "+----------------------------------------------------------------------------------------------------------------+\n",
      "|[{Sports -> 9.7500305E-8, Business -> 0.9999994, World -> 3.060714E-7, Sci/Tech -> 1.7089135E-7, sentence -> 0}]|\n",
      "|[{Sports -> 5.5346327E-15, Business -> 1.8843019E-13, World -> 8.666048E-14, Sci/Tech -> 1.0, sentence -> 0}]   |\n",
      "+----------------------------------------------------------------------------------------------------------------+\n",
      "\n"
     ]
    }
   ],
   "source": [
    "prediction.select(\"class.result\").show()\n",
    "\n",
    "prediction.select(\"class.metadata\").show(truncate=False)"
   ]
  },
  {
   "cell_type": "markdown",
   "metadata": {},
   "source": [
    "# Evaluation \n",
    "\n",
    "Let's evaluatte our ClassifierDL model we trained earlier, saved it, and loaded it into a new pipeline by using a test dataset that model has never seen:"
   ]
  },
  {
   "cell_type": "code",
   "execution_count": null,
   "metadata": {},
   "outputs": [],
   "source": [
    "testDataset = spark.read \\\n",
    "      .option(\"header\", True) \\\n",
    "      .csv(\"news_category_test.csv\")"
   ]
  },
  {
   "cell_type": "code",
   "execution_count": null,
   "metadata": {},
   "outputs": [],
   "source": [
    "preds = pipelineModel.transform(testDataset)"
   ]
  },
  {
   "cell_type": "code",
   "execution_count": null,
   "metadata": {},
   "outputs": [
    {
     "name": "stdout",
     "output_type": "stream",
     "text": [
      "+--------+--------------------------------------------------+----------+\n",
      "|category|                                       description|    result|\n",
      "+--------+--------------------------------------------------+----------+\n",
      "|Business|Unions representing workers at Turner   Newall ...|[Business]|\n",
      "|Sci/Tech| TORONTO, Canada    A second team of rocketeers...|[Sci/Tech]|\n",
      "|Sci/Tech| A company founded by a chemistry researcher at...|[Sci/Tech]|\n",
      "|Sci/Tech| It's barely dawn when Mike Fitzpatrick starts ...|[Sci/Tech]|\n",
      "|Sci/Tech| Southern California's smog fighting agency wen...|[Sci/Tech]|\n",
      "|Sci/Tech|\"The British Department for Education and Skill...|   [World]|\n",
      "|Sci/Tech|\"confessed author of the Netsky and Sasser viru...|[Sci/Tech]|\n",
      "|Sci/Tech|\\\\FOAF/LOAF  and bloom filters have a lot of in...|[Sci/Tech]|\n",
      "|Sci/Tech|\"Wiltshire Police warns about \"\"phishing\"\" afte...|[Sci/Tech]|\n",
      "|Sci/Tech|In its first two years, the UK's dedicated card...|[Sci/Tech]|\n",
      "|Sci/Tech| A group of technology companies  including Tex...|[Sci/Tech]|\n",
      "|Sci/Tech| Apple Computer Inc.&lt;AAPL.O&gt; on  Tuesday ...|[Sci/Tech]|\n",
      "|Sci/Tech| Free Record Shop, a Dutch music  retail chain,...|[Sci/Tech]|\n",
      "|Sci/Tech|A giant 100km colony of ants  which has been di...|[Sci/Tech]|\n",
      "|Sci/Tech|                      \"Dolphin groups, or \"\"pods\"\"|[Sci/Tech]|\n",
      "|Sci/Tech|Tyrannosaurus rex achieved its massive size due...|[Sci/Tech]|\n",
      "|Sci/Tech|  Scientists have discovered irregular lumps be...|[Sci/Tech]|\n",
      "|Sci/Tech|  ESAs Mars Express has relayed pictures from o...|[Sci/Tech]|\n",
      "|Sci/Tech|When did life begin? One evidential clue stems ...|[Sci/Tech]|\n",
      "|Sci/Tech|update Earnings per share rise compared with a ...|[Business]|\n",
      "|Sci/Tech|By the end of the year, the computing giant pla...|[Sci/Tech]|\n",
      "|Sci/Tech|Developers get early code for new operating sys...|[Sci/Tech]|\n",
      "|Sci/Tech|New technology applies electrical fuses to help...|[Sci/Tech]|\n",
      "|Sci/Tech|Google has billed its IPO as a way for everyday...|[Business]|\n",
      "|Sci/Tech|By MICHAEL LIEDTKE     SAN FRANCISCO (AP) -- Wi...|[Business]|\n",
      "|Sci/Tech|Industry cyber security standards fail to reach...|[Sci/Tech]|\n",
      "|  Sports|Michael Phelps won the gold medal in the 400 in...|  [Sports]|\n",
      "|  Sports|  Looking at his ridiculously developed upper b...|  [Sports]|\n",
      "|  Sports|With the weeks dwindling until Jason Varitek en...|  [Sports]|\n",
      "|  Sports|Just imagine what David Ortiz could do on a goo...|  [Sports]|\n",
      "|  Sports|In  quot;helping themselves, quot; Ricky Bryant...|  [Sports]|\n",
      "|  Sports|The Cleveland Indians pulled within one game of...|  [Sports]|\n",
      "|   World| VANCOUVER (CP)   The sister of a man who died ...|   [World]|\n",
      "|   World| The man who claims Gov. James E. McGreevey sex...|   [World]|\n",
      "|   World| Explosions and gunfire rattled through the cit...|   [World]|\n",
      "|   World|\" A frail Pope John Paul II, breathing heavily ...|   [World]|\n",
      "|   World|Supporters and rivals warn of possible fraud; g...|[Business]|\n",
      "|   World| A 1994 law strengthened job protections for Na...|   [World]|\n",
      "|   World| A senior Iranian military official said  Sunda...|   [World]|\n",
      "|   World| Government troops intervened in Afghanistan's ...|   [World]|\n",
      "|  Sports| Randy Johnson took a four hitter into the nint...|  [Sports]|\n",
      "|Business| Apparel retailers are hoping their back to sch...|[Business]|\n",
      "|   World| If Hurricane Charley had struck three years ag...|   [World]|\n",
      "|Sci/Tech| Shares in Sohu.com, a leading US listed Chines...|[Sci/Tech]|\n",
      "|  Sports| Darin Erstad doubled in the go ahead run in th...|  [Sports]|\n",
      "|  Sports| Outfielder J.D. Drew missed the Atlanta Braves...|  [Sports]|\n",
      "|   World| CARACAS, Venezuela (Reuters) - Venezuelans vot...|   [World]|\n",
      "|Sci/Tech| Dell Inc. &lt;DELL.O&gt;, the world's  largest...|[Sci/Tech]|\n",
      "|   World| Beijing on Monday accused a  Chinese American ...|   [World]|\n",
      "|  Sports|Another major, another disappointment for Tiger...|  [Sports]|\n",
      "+--------+--------------------------------------------------+----------+\n",
      "only showing top 50 rows\n",
      "\n"
     ]
    }
   ],
   "source": [
    "preds.select('category','description',\"class.result\").show(50, truncate=50)"
   ]
  },
  {
   "cell_type": "code",
   "execution_count": null,
   "metadata": {},
   "outputs": [],
   "source": [
    "preds_df = preds.select('category','description',\"class.result\").toPandas()"
   ]
  },
  {
   "cell_type": "code",
   "execution_count": null,
   "metadata": {},
   "outputs": [],
   "source": [
    "# The result is an array since in Spark NLP you can have multiple sentences.\n",
    "# This means you can add SentenceDetector in the pipeline and feed it into\n",
    "# UniversalSentenceEncoder and you can have prediction based on each sentence.\n",
    "# Let's explode the array and get the item(s) inside of result column out\n",
    "preds_df['result'] = preds_df['result'].apply(lambda x : x[0])"
   ]
  },
  {
   "cell_type": "code",
   "execution_count": null,
   "metadata": {},
   "outputs": [],
   "source": [
    "# We are going to use sklearn to evalute the results on test dataset\n",
    "from sklearn.metrics import classification_report"
   ]
  },
  {
   "cell_type": "markdown",
   "metadata": {},
   "source": [
    "Let's use `classification_report` from `sklearn` to evaluate the final scores. (keep in mind due to limited resources on a free Google Colab we only used 5 Epochs :)"
   ]
  },
  {
   "cell_type": "code",
   "execution_count": null,
   "metadata": {},
   "outputs": [
    {
     "name": "stdout",
     "output_type": "stream",
     "text": [
      "              precision    recall  f1-score   support\n",
      "\n",
      "    Business       0.84      0.85      0.85      1860\n",
      "    Sci/Tech       0.89      0.84      0.87      2001\n",
      "      Sports       0.98      0.96      0.97      1944\n",
      "       World       0.87      0.92      0.90      1795\n",
      "\n",
      "    accuracy                           0.89      7600\n",
      "   macro avg       0.89      0.90      0.89      7600\n",
      "weighted avg       0.90      0.89      0.89      7600\n",
      "\n"
     ]
    }
   ],
   "source": [
    "print (classification_report(preds_df['result'], preds_df['category']))"
   ]
  }
 ],
 "metadata": {
  "colab": {
   "collapsed_sections": [],
   "name": "ClassifierDL_Train_multi_class_news_category_classifier.ipynb",
   "provenance": [],
   "toc_visible": true
  },
  "kernelspec": {
   "display_name": "Python 3",
   "language": "python",
   "name": "python3"
  },
  "language_info": {
   "codemirror_mode": {
    "name": "ipython",
    "version": 3
   },
   "file_extension": ".py",
   "mimetype": "text/x-python",
   "name": "python",
   "nbconvert_exporter": "python",
   "pygments_lexer": "ipython3"
  },
  "nteract": {
   "version": "0.21.0"
  }
 },
 "nbformat": 4,
 "nbformat_minor": 4
}
