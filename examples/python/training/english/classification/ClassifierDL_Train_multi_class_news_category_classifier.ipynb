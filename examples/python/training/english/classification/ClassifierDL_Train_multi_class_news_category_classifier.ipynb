{
 "cells": [
  {
   "cell_type": "markdown",
   "metadata": {
    "colab_type": "text",
    "id": "ph3bDypIEXdd"
   },
   "source": [
    "![JohnSnowLabs](https://nlp.johnsnowlabs.com/assets/images/logo.png)"
   ]
  },
  {
   "cell_type": "markdown",
   "metadata": {
    "colab_type": "text",
    "id": "aaVmDt1TEXdh"
   },
   "source": [
    "# Spark NLP\n",
    "### Multi-class Text Classification\n",
    "#### By using ClassifierDL"
   ]
  },
  {
   "cell_type": "markdown",
   "metadata": {
    "colab_type": "text",
    "id": "jmo3o-b3MF5W"
   },
   "source": [
    "[![Open In Colab](https://colab.research.google.com/assets/colab-badge.svg)](https://colab.research.google.com/github/JohnSnowLabs/spark-nlp-workshop/blob/master/jupyter/training/english/classification/ClassifierDL_Train_multi_class_news_category_classifier.ipynb)"
   ]
  },
  {
   "cell_type": "markdown",
   "metadata": {
    "colab_type": "text",
    "id": "h4fQwZ46x4fu"
   },
   "source": [
    "Only run this block if you are inside Google Colab otherwise skip it"
   ]
  },
  {
   "cell_type": "code",
   "execution_count": 1,
   "metadata": {
    "colab": {
     "base_uri": "https://localhost:8080/",
     "height": 68
    },
    "colab_type": "code",
    "id": "MzishpT-MF5X",
    "outputId": "6fbc0282-277b-4afc-993c-89f3d633c4b4"
   },
   "outputs": [
    {
     "name": "stdout",
     "output_type": "stream",
     "text": [
      "openjdk version \"1.8.0_252\"\n",
      "OpenJDK Runtime Environment (build 1.8.0_252-8u252-b09-1~18.04-b09)\n",
      "OpenJDK 64-Bit Server VM (build 25.252-b09, mixed mode)\n"
     ]
    }
   ],
   "source": [
    "# This is only to setup PySpark and Spark NLP on Colab\n",
    "!wget http://setup.johnsnowlabs.com/colab.sh -O - | bash"
   ]
  },
  {
   "cell_type": "code",
   "execution_count": 4,
   "metadata": {
    "colab": {
     "base_uri": "https://localhost:8080/",
     "height": 68
    },
    "colab_type": "code",
    "id": "Hmvv5Q4jMF5b",
    "outputId": "f4d57658-0eb1-4cf2-d083-45a4e0714470"
   },
   "outputs": [
    {
     "name": "stdout",
     "output_type": "stream",
     "text": [
      "Spark NLP version:  2.5.1\n",
      "Apache Spark version;  2.4.4\n"
     ]
    }
   ],
   "source": [
    "import sparknlp\n",
    "\n",
    "spark = sparknlp.start()\n",
    "\n",
    "print(\"Spark NLP version: \", sparknlp.version())\n",
    "print(\"Apache Spark version; \", spark.version)"
   ]
  },
  {
   "cell_type": "markdown",
   "metadata": {
    "colab_type": "text",
    "id": "xKQcm8R6MF5e"
   },
   "source": [
    "Let's download news category dataset for training our text classifier"
   ]
  },
  {
   "cell_type": "code",
   "execution_count": 3,
   "metadata": {
    "colab": {
     "base_uri": "https://localhost:8080/",
     "height": 204
    },
    "colab_type": "code",
    "id": "W0FkrTb4MF5f",
    "outputId": "948e3dcd-036c-4d4f-8d90-045220ae1c98"
   },
   "outputs": [
    {
     "name": "stdout",
     "output_type": "stream",
     "text": [
      "--2020-06-01 14:03:51--  https://s3.amazonaws.com/auxdata.johnsnowlabs.com/public/resources/en/classifier-dl/news_Category/news_category_train.csv\n",
      "Resolving s3.amazonaws.com (s3.amazonaws.com)... 52.216.108.53\n",
      "Connecting to s3.amazonaws.com (s3.amazonaws.com)|52.216.108.53|:443... connected.\n",
      "HTTP request sent, awaiting response... 200 OK\n",
      "Length: 24032125 (23M) [text/csv]\n",
      "Saving to: ‘news_category_train.csv’\n",
      "\n",
      "news_category_train 100%[===================>]  22.92M  52.0MB/s    in 0.4s    \n",
      "\n",
      "2020-06-01 14:03:52 (52.0 MB/s) - ‘news_category_train.csv’ saved [24032125/24032125]\n",
      "\n"
     ]
    }
   ],
   "source": [
    "!wget -O news_category_train.csv https://s3.amazonaws.com/auxdata.johnsnowlabs.com/public/resources/en/classifier-dl/news_Category/news_category_train.csv"
   ]
  },
  {
   "cell_type": "code",
   "execution_count": 4,
   "metadata": {
    "colab": {
     "base_uri": "https://localhost:8080/",
     "height": 204
    },
    "colab_type": "code",
    "id": "QDIQgMv6tuqu",
    "outputId": "05ac2eba-1bda-4199-e748-e1e5a3c49cc8"
   },
   "outputs": [
    {
     "name": "stdout",
     "output_type": "stream",
     "text": [
      "--2020-06-01 14:03:53--  https://s3.amazonaws.com/auxdata.johnsnowlabs.com/public/resources/en/classifier-dl/news_Category/news_category_test.csv\n",
      "Resolving s3.amazonaws.com (s3.amazonaws.com)... 52.216.171.149\n",
      "Connecting to s3.amazonaws.com (s3.amazonaws.com)|52.216.171.149|:443... connected.\n",
      "HTTP request sent, awaiting response... 200 OK\n",
      "Length: 1504408 (1.4M) [text/csv]\n",
      "Saving to: ‘news_category_test.csv’\n",
      "\n",
      "news_category_test. 100%[===================>]   1.43M  --.-KB/s    in 0.08s   \n",
      "\n",
      "2020-06-01 14:03:53 (18.2 MB/s) - ‘news_category_test.csv’ saved [1504408/1504408]\n",
      "\n"
     ]
    }
   ],
   "source": [
    "!wget -O news_category_test.csv https://s3.amazonaws.com/auxdata.johnsnowlabs.com/public/resources/en/classifier-dl/news_Category/news_category_test.csv"
   ]
  },
  {
   "cell_type": "code",
   "execution_count": 5,
   "metadata": {
    "colab": {
     "base_uri": "https://localhost:8080/",
     "height": 207
    },
    "colab_type": "code",
    "id": "QYolNmBtMF5h",
    "outputId": "833fb436-b15c-4ca4-ba35-064ef9cfba1c"
   },
   "outputs": [
    {
     "name": "stdout",
     "output_type": "stream",
     "text": [
      "category,description\n",
      "Business,\" Short sellers, Wall Street's dwindling band of ultra cynics, are seeing green again.\"\n",
      "Business,\" Private investment firm Carlyle Group, which has a reputation for making well timed and occasionally controversial plays in the defense industry, has quietly placed its bets on another part of the market.\"\n",
      "Business, Soaring crude prices plus worries about the economy and the outlook for earnings are expected to hang over the stock market next week during the depth of the summer doldrums.\n",
      "Business,\" Authorities have halted oil export flows from the main pipeline in southern Iraq after intelligence showed a rebel militia could strike infrastructure, an oil official said on Saturday.\"\n",
      "Business,\" Tearaway world oil prices, toppling records and straining wallets, present a new economic menace barely three months before the US presidential elections.\"\n",
      "Business,\" Stocks ended slightly higher on Friday but stayed near lows for the year as oil prices surged past  #36;46 a barrel, offsetting a positive outlook from computer maker Dell Inc. (DELL.O)\"\n",
      "Business,\" Assets of the nation's retail money market mutual funds fell by  #36;1.17 billion in the latest week to  #36;849.98 trillion, the Investment Company Institute said Thursday.\"\n",
      "Business,\" Retail sales bounced back a bit in July, and new claims for jobless benefits fell last week, the government said Thursday, indicating the economy is improving from a midsummer slump.\"\n",
      "Business,\" After earning a PH.D. in Sociology, Danny Bazil Riley started to work as the general manager at a commercial real estate firm at an annual base salary of  #36;70,000. Soon after, a financial planner stopped by his desk to drop off brochures about insurance benefits available through his employer. But, at 32, \"\"buying insurance was the furthest thing from my mind,\"\" says Riley.\"\n"
     ]
    }
   ],
   "source": [
    "!head news_category_train.csv"
   ]
  },
  {
   "cell_type": "markdown",
   "metadata": {
    "colab_type": "text",
    "id": "zWFUDI6jMF5k"
   },
   "source": [
    "The content is inside `description` column and the labels are inside `category` column"
   ]
  },
  {
   "cell_type": "code",
   "execution_count": null,
   "metadata": {
    "colab": {},
    "colab_type": "code",
    "id": "S9TRr7iAMF5l"
   },
   "outputs": [],
   "source": [
    "trainDataset = spark.read \\\n",
    "      .option(\"header\", True) \\\n",
    "      .csv(\"news_category_train.csv\")"
   ]
  },
  {
   "cell_type": "code",
   "execution_count": 7,
   "metadata": {
    "colab": {
     "base_uri": "https://localhost:8080/",
     "height": 459
    },
    "colab_type": "code",
    "id": "nURzgFJ7MF5o",
    "outputId": "59fb0534-d38c-4a16-dbd5-6a3183ecd679"
   },
   "outputs": [
    {
     "name": "stdout",
     "output_type": "stream",
     "text": [
      "+--------+--------------------+\n",
      "|category|         description|\n",
      "+--------+--------------------+\n",
      "|Business| Short sellers, W...|\n",
      "|Business| Private investme...|\n",
      "|Business| Soaring crude pr...|\n",
      "|Business| Authorities have...|\n",
      "|Business| Tearaway world o...|\n",
      "|Business| Stocks ended sli...|\n",
      "|Business| Assets of the na...|\n",
      "|Business| Retail sales bou...|\n",
      "|Business|\" After earning a...|\n",
      "|Business| Short sellers, W...|\n",
      "|Business| Soaring crude pr...|\n",
      "|Business| OPEC can do noth...|\n",
      "|Business| Non OPEC oil exp...|\n",
      "|Business| WASHINGTON/NEW Y...|\n",
      "|Business| The dollar tumbl...|\n",
      "|Business|If you think you ...|\n",
      "|Business|The purchasing po...|\n",
      "|Business|There is little c...|\n",
      "|Business|The US trade defi...|\n",
      "|Business|Oil giant Shell c...|\n",
      "+--------+--------------------+\n",
      "only showing top 20 rows\n",
      "\n"
     ]
    }
   ],
   "source": [
    "trainDataset.show()"
   ]
  },
  {
   "cell_type": "code",
   "execution_count": 8,
   "metadata": {
    "colab": {
     "base_uri": "https://localhost:8080/",
     "height": 34
    },
    "colab_type": "code",
    "id": "5NIHJuVKx4gk",
    "outputId": "1d75a4d1-1ee5-4411-9c21-b0d9e932bd4e"
   },
   "outputs": [
    {
     "data": {
      "text/plain": [
       "120000"
      ]
     },
     "execution_count": 8,
     "metadata": {
      "tags": []
     },
     "output_type": "execute_result"
    }
   ],
   "source": [
    "trainDataset.count()"
   ]
  },
  {
   "cell_type": "code",
   "execution_count": null,
   "metadata": {
    "colab": {},
    "colab_type": "code",
    "id": "0oKvNZaEMF5q"
   },
   "outputs": [],
   "source": [
    "from pyspark.ml import Pipeline\n",
    "\n",
    "from sparknlp.annotator import *\n",
    "from sparknlp.common import *\n",
    "from sparknlp.base import *"
   ]
  },
  {
   "cell_type": "code",
   "execution_count": 10,
   "metadata": {
    "colab": {
     "base_uri": "https://localhost:8080/",
     "height": 68
    },
    "colab_type": "code",
    "id": "H30A4FgNMF5t",
    "outputId": "d044723f-48ec-40e3-b8cd-c6454e0a02f3"
   },
   "outputs": [
    {
     "name": "stdout",
     "output_type": "stream",
     "text": [
      "tfhub_use download started this may take some time.\n",
      "Approximate size to download 923.7 MB\n",
      "[OK!]\n"
     ]
    }
   ],
   "source": [
    "# actual content is inside description column\n",
    "document = DocumentAssembler()\\\n",
    "    .setInputCol(\"description\")\\\n",
    "    .setOutputCol(\"document\")\n",
    "\n",
    "use = UniversalSentenceEncoder.pretrained() \\\n",
    " .setInputCols([\"document\"])\\\n",
    " .setOutputCol(\"sentence_embeddings\")\n",
    "\n",
    "# the classes/labels/categories are in category column\n",
    "classsifierdl = ClassifierDLApproach()\\\n",
    "  .setInputCols([\"sentence_embeddings\"])\\\n",
    "  .setOutputCol(\"class\")\\\n",
    "  .setLabelColumn(\"category\")\\\n",
    "  .setMaxEpochs(5)\\\n",
    "  .setEnableOutputLogs(True)\n",
    "\n",
    "pipeline = Pipeline(\n",
    "    stages = [\n",
    "        document,\n",
    "        use,\n",
    "        classsifierdl\n",
    "    ])"
   ]
  },
  {
   "cell_type": "code",
   "execution_count": null,
   "metadata": {
    "colab": {},
    "colab_type": "code",
    "id": "kia7NpRJMF5v"
   },
   "outputs": [],
   "source": [
    "pipelineModel = pipeline.fit(trainDataset)"
   ]
  },
  {
   "cell_type": "code",
   "execution_count": 17,
   "metadata": {
    "colab": {
     "base_uri": "https://localhost:8080/",
     "height": 51
    },
    "colab_type": "code",
    "id": "TOLU30ilMF5y",
    "outputId": "74177e85-128f-4ae5-b38e-2e7244fe3b3f"
   },
   "outputs": [
    {
     "name": "stdout",
     "output_type": "stream",
     "text": [
      "total 4\n",
      "-rw-r--r-- 1 root root 529 Jun  1 14:11 ClassifierDLApproach_d82e68030034.log\n"
     ]
    }
   ],
   "source": [
    "!cd ~/annotator_logs && ls -l"
   ]
  },
  {
   "cell_type": "code",
   "execution_count": 18,
   "metadata": {
    "colab": {
     "base_uri": "https://localhost:8080/",
     "height": 119
    },
    "colab_type": "code",
    "id": "c6TAuRqBNs4_",
    "outputId": "527beaf3-30ba-4be5-af35-57aa89963731"
   },
   "outputs": [
    {
     "name": "stdout",
     "output_type": "stream",
     "text": [
      "Training started - total epochs: 5 - learning rate: 0.005 - batch size: 64 - training examples: 120000\n",
      "Epoch 0/5 - 35.876454147%.2fs - loss: 1588.0098 - accuracy: 0.8812917 - batches: 1875\n",
      "Epoch 1/5 - 34.984400619%.2fs - loss: 1569.1891 - accuracy: 0.892 - batches: 1875\n",
      "Epoch 2/5 - 34.980620721%.2fs - loss: 1560.8793 - accuracy: 0.8966333 - batches: 1875\n",
      "Epoch 3/5 - 34.97171791%.2fs - loss: 1556.4751 - accuracy: 0.9005917 - batches: 1875\n",
      "Epoch 4/5 - 35.060583703%.2fs - loss: 1550.6415 - accuracy: 0.90370834 - batches: 1875\n"
     ]
    }
   ],
   "source": [
    "!cat ~/annotator_logs/ClassifierDLApproach_d82e68030034.log"
   ]
  },
  {
   "cell_type": "markdown",
   "metadata": {
    "colab_type": "text",
    "id": "zMLuwQSCB05e"
   },
   "source": [
    "# How to use already trained ClassifierDL pipeline or its model\n",
    "\n",
    "We have two ways of using what we already trained: pipeline or model.\n",
    "\n",
    "Let's see how we can save the entire pipeline, load it, and do some prediction with that pre-trained pipeline."
   ]
  },
  {
   "cell_type": "markdown",
   "metadata": {
    "colab_type": "text",
    "id": "4I7COUCPCPe3"
   },
   "source": [
    "## Save and load pre-trained ClassifierDL pipeline"
   ]
  },
  {
   "cell_type": "code",
   "execution_count": null,
   "metadata": {
    "colab": {},
    "colab_type": "code",
    "id": "QTDQ3riLD-zW"
   },
   "outputs": [],
   "source": [
    "# Google Colab is free so it comes with a little memory. \n",
    "# It's not possible to save and load in this notebook. But you can do this locally or in a decent machine!\n",
    "\n",
    "# pipelineModel.save(\"./classifierdl_pipeline\")\n",
    "# loadedPipeline = PipelineModel.load(\"./classifierdl_pipeline\")\n",
    "# loadedPipeline.transform(YOUR_DATAFRAME)"
   ]
  },
  {
   "cell_type": "markdown",
   "metadata": {
    "colab_type": "text",
    "id": "TI9JR8AoLbW3"
   },
   "source": [
    "# Save and load pre-trained ClassifierDL model"
   ]
  },
  {
   "cell_type": "code",
   "execution_count": null,
   "metadata": {
    "colab": {},
    "colab_type": "code",
    "id": "3r3_q4CJLkZR"
   },
   "outputs": [],
   "source": [
    "# dbfs:/ or hdfs:/ if you are saving it on distributed file systems\n",
    "pipelineModel.stages[-1].write().overwrite().save('./tmp_classifierDL_model')\n",
    "\n"
   ]
  },
  {
   "cell_type": "markdown",
   "metadata": {
    "colab_type": "text",
    "id": "3JaclNFsQJ-X"
   },
   "source": [
    "Let's use our pre-trained ClassifierDLModel in a pipeline: "
   ]
  },
  {
   "cell_type": "code",
   "execution_count": 22,
   "metadata": {
    "colab": {
     "base_uri": "https://localhost:8080/",
     "height": 68
    },
    "colab_type": "code",
    "id": "NTJ53PbYQI-f",
    "outputId": "07177371-a8ed-4cd4-ac9d-8de2058a01fd"
   },
   "outputs": [
    {
     "name": "stdout",
     "output_type": "stream",
     "text": [
      "tfhub_use download started this may take some time.\n",
      "Approximate size to download 923.7 MB\n",
      "[OK!]\n"
     ]
    }
   ],
   "source": [
    "\n",
    "# In a new pipeline you can load it for prediction\n",
    "document = DocumentAssembler()\\\n",
    "    .setInputCol(\"description\")\\\n",
    "    .setOutputCol(\"document\")\n",
    "\n",
    "use = UniversalSentenceEncoder.pretrained() \\\n",
    " .setInputCols([\"document\"])\\\n",
    " .setOutputCol(\"sentence_embeddings\")\n",
    "\n",
    "classsifierdl = ClassifierDLModel.load(\"./tmp_classifierDL_model\") \\\n",
    "  .setInputCols([\"sentence_embeddings\"])\\\n",
    "  .setOutputCol(\"class\")\n",
    "\n",
    "pipeline = Pipeline(\n",
    "    stages = [\n",
    "        document,\n",
    "        use,\n",
    "        classsifierdl\n",
    "    ])\n"
   ]
  },
  {
   "cell_type": "markdown",
   "metadata": {
    "colab_type": "text",
    "id": "VOrjIsKXHea8"
   },
   "source": [
    "Now let's load it back so we can have prediction all together with everything in that pipeline:"
   ]
  },
  {
   "cell_type": "code",
   "execution_count": null,
   "metadata": {
    "colab": {},
    "colab_type": "code",
    "id": "ccy54HeERCZ1"
   },
   "outputs": [],
   "source": [
    "from pyspark.sql.types import StringType\n",
    "\n",
    "dfTest = spark.createDataFrame([\n",
    "    \"Unions representing workers at Turner   Newall say they are 'disappointed' after talks with stricken parent firm Federal Mogul.\",\n",
    "    \"Scientists have discovered irregular lumps beneath the icy surface of Jupiter's largest moon, Ganymede. These irregular masses may be rock formations, supported by Ganymede's icy shell for billions of years...\"\n",
    "], StringType()).toDF(\"description\")"
   ]
  },
  {
   "cell_type": "code",
   "execution_count": null,
   "metadata": {
    "colab": {},
    "colab_type": "code",
    "id": "3BsNAWS4VRkd"
   },
   "outputs": [],
   "source": [
    "prediction = pipeline.fit(dfTest).transform(dfTest)"
   ]
  },
  {
   "cell_type": "code",
   "execution_count": 27,
   "metadata": {
    "colab": {
     "base_uri": "https://localhost:8080/",
     "height": 255
    },
    "colab_type": "code",
    "id": "nz32PDjEVUTk",
    "outputId": "b4c6ad7d-4fca-4e64-e665-1bc918109297"
   },
   "outputs": [
    {
     "name": "stdout",
     "output_type": "stream",
     "text": [
      "+----------+\n",
      "|    result|\n",
      "+----------+\n",
      "|[Business]|\n",
      "|[Sci/Tech]|\n",
      "+----------+\n",
      "\n",
      "+-----------------------------------------------------------------------------------------------------------------+\n",
      "|metadata                                                                                                         |\n",
      "+-----------------------------------------------------------------------------------------------------------------+\n",
      "|[[Sports -> 9.916687E-8, Business -> 0.99999917, World -> 4.8718215E-7, Sci/Tech -> 2.1577937E-7, sentence -> 0]]|\n",
      "|[[Sports -> 9.949142E-13, Business -> 2.2465226E-11, World -> 6.4324095E-11, Sci/Tech -> 1.0, sentence -> 0]]    |\n",
      "+-----------------------------------------------------------------------------------------------------------------+\n",
      "\n"
     ]
    }
   ],
   "source": [
    "prediction.select(\"class.result\").show()\n",
    "\n",
    "prediction.select(\"class.metadata\").show(truncate=False)"
   ]
  },
  {
   "cell_type": "markdown",
   "metadata": {
    "colab_type": "text",
    "id": "UoJH3kA7RJpD"
   },
   "source": [
    "# Evaluation \n",
    "\n",
    "Let's evaluatte our ClassifierDL model we trained earlier, saved it, and loaded it into a new pipeline by using a test dataset that model has never seen:"
   ]
  },
  {
   "cell_type": "code",
   "execution_count": null,
   "metadata": {
    "colab": {},
    "colab_type": "code",
    "id": "5HkV5BAiWPAo"
   },
   "outputs": [],
   "source": [
    "testDataset = spark.read \\\n",
    "      .option(\"header\", True) \\\n",
    "      .csv(\"news_category_test.csv\")"
   ]
  },
  {
   "cell_type": "code",
   "execution_count": null,
   "metadata": {
    "colab": {},
    "colab_type": "code",
    "id": "_aVPZXgst0-V"
   },
   "outputs": [],
   "source": [
    "preds = pipelineModel.transform(testDataset)"
   ]
  },
  {
   "cell_type": "code",
   "execution_count": 30,
   "metadata": {
    "colab": {
     "base_uri": "https://localhost:8080/",
     "height": 969
    },
    "colab_type": "code",
    "id": "-H9UAWO_t-b9",
    "outputId": "eaa3dacb-fbf3-4125-a915-0e6c29c4f59e"
   },
   "outputs": [
    {
     "name": "stdout",
     "output_type": "stream",
     "text": [
      "+--------+--------------------------------------------------+----------+\n",
      "|category|                                       description|    result|\n",
      "+--------+--------------------------------------------------+----------+\n",
      "|Business|Unions representing workers at Turner   Newall ...|[Business]|\n",
      "|Sci/Tech| TORONTO, Canada    A second team of rocketeers...|[Sci/Tech]|\n",
      "|Sci/Tech| A company founded by a chemistry researcher at...|[Sci/Tech]|\n",
      "|Sci/Tech| It's barely dawn when Mike Fitzpatrick starts ...|[Sci/Tech]|\n",
      "|Sci/Tech| Southern California's smog fighting agency wen...|[Sci/Tech]|\n",
      "|Sci/Tech|\"The British Department for Education and Skill...|[Sci/Tech]|\n",
      "|Sci/Tech|\"confessed author of the Netsky and Sasser viru...|[Sci/Tech]|\n",
      "|Sci/Tech|\\\\FOAF/LOAF  and bloom filters have a lot of in...|[Sci/Tech]|\n",
      "|Sci/Tech|\"Wiltshire Police warns about \"\"phishing\"\" afte...|[Sci/Tech]|\n",
      "|Sci/Tech|In its first two years, the UK's dedicated card...|[Sci/Tech]|\n",
      "|Sci/Tech| A group of technology companies  including Tex...|[Sci/Tech]|\n",
      "|Sci/Tech| Apple Computer Inc.&lt;AAPL.O&gt; on  Tuesday ...|[Sci/Tech]|\n",
      "|Sci/Tech| Free Record Shop, a Dutch music  retail chain,...|[Sci/Tech]|\n",
      "|Sci/Tech|A giant 100km colony of ants  which has been di...|[Sci/Tech]|\n",
      "|Sci/Tech|                      \"Dolphin groups, or \"\"pods\"\"|[Sci/Tech]|\n",
      "|Sci/Tech|Tyrannosaurus rex achieved its massive size due...|[Sci/Tech]|\n",
      "|Sci/Tech|  Scientists have discovered irregular lumps be...|[Sci/Tech]|\n",
      "|Sci/Tech|  ESAs Mars Express has relayed pictures from o...|[Sci/Tech]|\n",
      "|Sci/Tech|When did life begin? One evidential clue stems ...|[Sci/Tech]|\n",
      "|Sci/Tech|update Earnings per share rise compared with a ...|[Business]|\n",
      "|Sci/Tech|By the end of the year, the computing giant pla...|[Sci/Tech]|\n",
      "|Sci/Tech|Developers get early code for new operating sys...|[Sci/Tech]|\n",
      "|Sci/Tech|New technology applies electrical fuses to help...|[Sci/Tech]|\n",
      "|Sci/Tech|Google has billed its IPO as a way for everyday...|[Sci/Tech]|\n",
      "|Sci/Tech|By MICHAEL LIEDTKE     SAN FRANCISCO (AP) -- Wi...|[Business]|\n",
      "|Sci/Tech|Industry cyber security standards fail to reach...|[Sci/Tech]|\n",
      "|  Sports|Michael Phelps won the gold medal in the 400 in...|  [Sports]|\n",
      "|  Sports|  Looking at his ridiculously developed upper b...|  [Sports]|\n",
      "|  Sports|With the weeks dwindling until Jason Varitek en...|  [Sports]|\n",
      "|  Sports|Just imagine what David Ortiz could do on a goo...|  [Sports]|\n",
      "|  Sports|In  quot;helping themselves, quot; Ricky Bryant...|  [Sports]|\n",
      "|  Sports|The Cleveland Indians pulled within one game of...|  [Sports]|\n",
      "|   World| VANCOUVER (CP)   The sister of a man who died ...|   [World]|\n",
      "|   World| The man who claims Gov. James E. McGreevey sex...|   [World]|\n",
      "|   World| Explosions and gunfire rattled through the cit...|   [World]|\n",
      "|   World|\" A frail Pope John Paul II, breathing heavily ...|   [World]|\n",
      "|   World|Supporters and rivals warn of possible fraud; g...|[Business]|\n",
      "|   World| A 1994 law strengthened job protections for Na...|   [World]|\n",
      "|   World| A senior Iranian military official said  Sunda...|   [World]|\n",
      "|   World| Government troops intervened in Afghanistan's ...|   [World]|\n",
      "|  Sports| Randy Johnson took a four hitter into the nint...|  [Sports]|\n",
      "|Business| Apparel retailers are hoping their back to sch...|[Business]|\n",
      "|   World| If Hurricane Charley had struck three years ag...|   [World]|\n",
      "|Sci/Tech| Shares in Sohu.com, a leading US listed Chines...|[Sci/Tech]|\n",
      "|  Sports| Darin Erstad doubled in the go ahead run in th...|  [Sports]|\n",
      "|  Sports| Outfielder J.D. Drew missed the Atlanta Braves...|  [Sports]|\n",
      "|   World| CARACAS, Venezuela (Reuters) - Venezuelans vot...|   [World]|\n",
      "|Sci/Tech| Dell Inc. &lt;DELL.O&gt;, the world's  largest...|[Sci/Tech]|\n",
      "|   World| Beijing on Monday accused a  Chinese American ...|   [World]|\n",
      "|  Sports|Another major, another disappointment for Tiger...|  [Sports]|\n",
      "+--------+--------------------------------------------------+----------+\n",
      "only showing top 50 rows\n",
      "\n"
     ]
    }
   ],
   "source": [
    "preds.select('category','description',\"class.result\").show(50, truncate=50)"
   ]
  },
  {
   "cell_type": "code",
   "execution_count": null,
   "metadata": {
    "colab": {},
    "colab_type": "code",
    "id": "8-JF5_Y9uPFj"
   },
   "outputs": [],
   "source": [
    "preds_df = preds.select('category','description',\"class.result\").toPandas()"
   ]
  },
  {
   "cell_type": "code",
   "execution_count": null,
   "metadata": {
    "colab": {},
    "colab_type": "code",
    "id": "CS2q_OajuZyO"
   },
   "outputs": [],
   "source": [
    "# The result is an array since in Spark NLP you can have multiple sentences.\n",
    "# This means you can add SentenceDetector in the pipeline and feed it into\n",
    "# UniversalSentenceEncoder and you can have prediction based on each sentence.\n",
    "# Let's explode the array and get the item(s) inside of result column out\n",
    "preds_df['result'] = preds_df['result'].apply(lambda x : x[0])"
   ]
  },
  {
   "cell_type": "code",
   "execution_count": null,
   "metadata": {
    "colab": {},
    "colab_type": "code",
    "id": "naAHGWV5ugNX"
   },
   "outputs": [],
   "source": [
    "# We are going to use sklearn to evalute the results on test dataset\n",
    "from sklearn.metrics import classification_report"
   ]
  },
  {
   "cell_type": "markdown",
   "metadata": {
    "colab_type": "text",
    "id": "o2BiHF_sR3Cz"
   },
   "source": [
    "Let's use `classification_report` from `sklearn` to evaluate the final scores. (keep in mind due to limited resources on a free Google Colab we only used 5 Epochs :)"
   ]
  },
  {
   "cell_type": "code",
   "execution_count": 34,
   "metadata": {
    "colab": {
     "base_uri": "https://localhost:8080/",
     "height": 204
    },
    "colab_type": "code",
    "id": "kLeO9u1bunPB",
    "outputId": "d72ac4ac-754e-409d-8a99-088fc1838712"
   },
   "outputs": [
    {
     "name": "stdout",
     "output_type": "stream",
     "text": [
      "              precision    recall  f1-score   support\n",
      "\n",
      "    Business       0.82      0.87      0.84      1801\n",
      "    Sci/Tech       0.90      0.84      0.87      2036\n",
      "      Sports       0.98      0.95      0.97      1957\n",
      "       World       0.87      0.92      0.90      1806\n",
      "\n",
      "    accuracy                           0.89      7600\n",
      "   macro avg       0.89      0.89      0.89      7600\n",
      "weighted avg       0.90      0.89      0.89      7600\n",
      "\n"
     ]
    }
   ],
   "source": [
    "print (classification_report(preds_df['result'], preds_df['category']))"
   ]
  },
  {
   "cell_type": "code",
   "execution_count": null,
   "metadata": {
    "colab": {},
    "colab_type": "code",
    "id": "3Zlwshvwx4hu"
   },
   "outputs": [],
   "source": []
  }
 ],
 "metadata": {
  "colab": {
   "collapsed_sections": [],
   "name": "ClassifierDL_Train_multi_class_news_category_classifier.ipynb",
   "provenance": [],
   "toc_visible": true
  },
  "kernelspec": {
   "display_name": "Python 3",
   "language": "python",
   "name": "python3"
  },
  "language_info": {
   "codemirror_mode": {
    "name": "ipython",
    "version": 3
   },
   "file_extension": ".py",
   "mimetype": "text/x-python",
   "name": "python",
   "nbconvert_exporter": "python",
   "pygments_lexer": "ipython3",
   "version": "3.6.9"
  },
  "nteract": {
   "version": "0.21.0"
  }
 },
 "nbformat": 4,
 "nbformat_minor": 4
}
