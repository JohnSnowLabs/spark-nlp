{
 "cells": [
  {
   "cell_type": "markdown",
   "metadata": {
    "id": "ph3bDypIEXdd"
   },
   "source": [
    "![JohnSnowLabs](https://nlp.johnsnowlabs.com/assets/images/logo.png)"
   ]
  },
  {
   "cell_type": "markdown",
   "metadata": {
    "id": "aaVmDt1TEXdh"
   },
   "source": [
    "# Spark NLP\n",
    "### Multi-class Text Classification\n",
    "#### By using ClassifierDL"
   ]
  },
  {
   "cell_type": "markdown",
   "metadata": {
    "id": "jmo3o-b3MF5W"
   },
   "source": [
    "[![Open In Colab](https://colab.research.google.com/assets/colab-badge.svg)](https://colab.research.google.com/github/JohnSnowLabs/spark-nlp-workshop/blob/master/jupyter/training/english/classification/ClassifierDL_Train_and_Evaluate.ipynb)"
   ]
  },
  {
   "cell_type": "markdown",
   "metadata": {
    "id": "h4fQwZ46x4fu"
   },
   "source": [
    "Only run this block if you are inside Google Colab otherwise skip it"
   ]
  },
  {
   "cell_type": "code",
   "execution_count": null,
   "metadata": {},
   "outputs": [],
   "source": [
    "# This is only to setup PySpark and Spark NLP on Colab\n",
    "!wget http://setup.johnsnowlabs.com/colab.sh -O - | bash"
   ]
  },
  {
   "cell_type": "markdown",
   "metadata": {
    "id": "Ti2kwlQNyXCh"
   },
   "source": [
    "In this notebook we are going to check the training logs on the fly. Thus, we start a session with `real_time_output=True`"
   ]
  },
  {
   "cell_type": "code",
   "execution_count": 5,
   "metadata": {
    "colab": {
     "base_uri": "https://localhost:8080/"
    },
    "id": "Hmvv5Q4jMF5b",
    "outputId": "8d427e29-4079-4c79-ea48-4142545d3e66"
   },
   "outputs": [
    {
     "name": "stdout",
     "output_type": "stream",
     "text": [
      "Spark NLP version:  4.1.0\n",
      "Apache Spark version;  3.2.1\n"
     ]
    }
   ],
   "source": [
    "import sparknlp\n",
    "\n",
    "spark = sparknlp.start(real_time_output=True)\n",
    "\n",
    "print(\"Spark NLP version: \", sparknlp.version())\n",
    "print(\"Apache Spark version; \", spark.version)"
   ]
  },
  {
   "cell_type": "markdown",
   "metadata": {
    "id": "xKQcm8R6MF5e"
   },
   "source": [
    "Let's download news category dataset for training our text classifier"
   ]
  },
  {
   "cell_type": "code",
   "execution_count": 6,
   "metadata": {
    "colab": {
     "base_uri": "https://localhost:8080/"
    },
    "id": "W0FkrTb4MF5f",
    "outputId": "284656a9-2f35-4f08-e1b2-8e40b653c1d8"
   },
   "outputs": [
    {
     "name": "stdout",
     "output_type": "stream",
     "text": [
      "--2022-09-23 17:48:38--  https://s3.amazonaws.com/auxdata.johnsnowlabs.com/public/resources/en/classifier-dl/news_Category/news_category_train.csv\n",
      "Resolving s3.amazonaws.com (s3.amazonaws.com)... 52.217.160.208\n",
      "Connecting to s3.amazonaws.com (s3.amazonaws.com)|52.217.160.208|:443... connected.\n",
      "HTTP request sent, awaiting response... 200 OK\n",
      "Length: 24032125 (23M) [text/csv]\n",
      "Saving to: ‘news_category_train.csv’\n",
      "\n",
      "news_category_train 100%[===================>]  22.92M   102MB/s    in 0.2s    \n",
      "\n",
      "2022-09-23 17:48:38 (102 MB/s) - ‘news_category_train.csv’ saved [24032125/24032125]\n",
      "\n"
     ]
    }
   ],
   "source": [
    "!wget -O news_category_train.csv https://s3.amazonaws.com/auxdata.johnsnowlabs.com/public/resources/en/classifier-dl/news_Category/news_category_train.csv"
   ]
  },
  {
   "cell_type": "code",
   "execution_count": 7,
   "metadata": {
    "colab": {
     "base_uri": "https://localhost:8080/"
    },
    "id": "QDIQgMv6tuqu",
    "outputId": "55fc6a77-2858-4fd9-e359-7cea4c6dfc4b"
   },
   "outputs": [
    {
     "name": "stdout",
     "output_type": "stream",
     "text": [
      "--2022-09-23 17:48:38--  https://s3.amazonaws.com/auxdata.johnsnowlabs.com/public/resources/en/classifier-dl/news_Category/news_category_test.csv\n",
      "Resolving s3.amazonaws.com (s3.amazonaws.com)... 52.217.160.208\n",
      "Connecting to s3.amazonaws.com (s3.amazonaws.com)|52.217.160.208|:443... connected.\n",
      "HTTP request sent, awaiting response... 200 OK\n",
      "Length: 1504408 (1.4M) [text/csv]\n",
      "Saving to: ‘news_category_test.csv’\n",
      "\n",
      "news_category_test. 100%[===================>]   1.43M  --.-KB/s    in 0.05s   \n",
      "\n",
      "2022-09-23 17:48:39 (27.1 MB/s) - ‘news_category_test.csv’ saved [1504408/1504408]\n",
      "\n"
     ]
    }
   ],
   "source": [
    "!wget -O news_category_test.csv https://s3.amazonaws.com/auxdata.johnsnowlabs.com/public/resources/en/classifier-dl/news_Category/news_category_test.csv"
   ]
  },
  {
   "cell_type": "code",
   "execution_count": 8,
   "metadata": {
    "colab": {
     "base_uri": "https://localhost:8080/"
    },
    "id": "QYolNmBtMF5h",
    "outputId": "f90d588d-dc3a-4ada-9a38-3d8f41eaed4c"
   },
   "outputs": [
    {
     "name": "stdout",
     "output_type": "stream",
     "text": [
      "category,description\n",
      "Business,\" Short sellers, Wall Street's dwindling band of ultra cynics, are seeing green again.\"\n",
      "Business,\" Private investment firm Carlyle Group, which has a reputation for making well timed and occasionally controversial plays in the defense industry, has quietly placed its bets on another part of the market.\"\n",
      "Business, Soaring crude prices plus worries about the economy and the outlook for earnings are expected to hang over the stock market next week during the depth of the summer doldrums.\n",
      "Business,\" Authorities have halted oil export flows from the main pipeline in southern Iraq after intelligence showed a rebel militia could strike infrastructure, an oil official said on Saturday.\"\n",
      "Business,\" Tearaway world oil prices, toppling records and straining wallets, present a new economic menace barely three months before the US presidential elections.\"\n",
      "Business,\" Stocks ended slightly higher on Friday but stayed near lows for the year as oil prices surged past  #36;46 a barrel, offsetting a positive outlook from computer maker Dell Inc. (DELL.O)\"\n",
      "Business,\" Assets of the nation's retail money market mutual funds fell by  #36;1.17 billion in the latest week to  #36;849.98 trillion, the Investment Company Institute said Thursday.\"\n",
      "Business,\" Retail sales bounced back a bit in July, and new claims for jobless benefits fell last week, the government said Thursday, indicating the economy is improving from a midsummer slump.\"\n",
      "Business,\" After earning a PH.D. in Sociology, Danny Bazil Riley started to work as the general manager at a commercial real estate firm at an annual base salary of  #36;70,000. Soon after, a financial planner stopped by his desk to drop off brochures about insurance benefits available through his employer. But, at 32, \"\"buying insurance was the furthest thing from my mind,\"\" says Riley.\"\n"
     ]
    }
   ],
   "source": [
    "!head news_category_train.csv"
   ]
  },
  {
   "cell_type": "markdown",
   "metadata": {
    "id": "zWFUDI6jMF5k"
   },
   "source": [
    "The content is inside `description` column and the labels are inside `category` column"
   ]
  },
  {
   "cell_type": "code",
   "execution_count": 9,
   "metadata": {
    "id": "S9TRr7iAMF5l"
   },
   "outputs": [],
   "source": [
    "trainDataset = spark.read \\\n",
    "      .option(\"header\", True) \\\n",
    "      .csv(\"news_category_train.csv\")"
   ]
  },
  {
   "cell_type": "code",
   "execution_count": 10,
   "metadata": {
    "colab": {
     "base_uri": "https://localhost:8080/"
    },
    "id": "nURzgFJ7MF5o",
    "outputId": "8c71d015-34ca-45e4-cac5-444fc7389525"
   },
   "outputs": [
    {
     "name": "stdout",
     "output_type": "stream",
     "text": [
      "+--------+--------------------+\n",
      "|category|         description|\n",
      "+--------+--------------------+\n",
      "|Business| Short sellers, W...|\n",
      "|Business| Private investme...|\n",
      "|Business| Soaring crude pr...|\n",
      "|Business| Authorities have...|\n",
      "|Business| Tearaway world o...|\n",
      "|Business| Stocks ended sli...|\n",
      "|Business| Assets of the na...|\n",
      "|Business| Retail sales bou...|\n",
      "|Business|\" After earning a...|\n",
      "|Business| Short sellers, W...|\n",
      "|Business| Soaring crude pr...|\n",
      "|Business| OPEC can do noth...|\n",
      "|Business| Non OPEC oil exp...|\n",
      "|Business| WASHINGTON/NEW Y...|\n",
      "|Business| The dollar tumbl...|\n",
      "|Business|If you think you ...|\n",
      "|Business|The purchasing po...|\n",
      "|Business|There is little c...|\n",
      "|Business|The US trade defi...|\n",
      "|Business|Oil giant Shell c...|\n",
      "+--------+--------------------+\n",
      "only showing top 20 rows\n",
      "\n"
     ]
    }
   ],
   "source": [
    "trainDataset.show()"
   ]
  },
  {
   "cell_type": "code",
   "execution_count": 11,
   "metadata": {
    "colab": {
     "base_uri": "https://localhost:8080/"
    },
    "id": "5NIHJuVKx4gk",
    "outputId": "0707bf0c-3fcd-4071-d41f-18d99f29c8ad"
   },
   "outputs": [
    {
     "data": {
      "text/plain": [
       "120000"
      ]
     },
     "execution_count": 11,
     "metadata": {},
     "output_type": "execute_result"
    }
   ],
   "source": [
    "trainDataset.count()"
   ]
  },
  {
   "cell_type": "code",
   "execution_count": 12,
   "metadata": {
    "id": "0oKvNZaEMF5q"
   },
   "outputs": [],
   "source": [
    "from pyspark.ml import Pipeline\n",
    "\n",
    "from sparknlp.annotator import *\n",
    "from sparknlp.common import *\n",
    "from sparknlp.base import *"
   ]
  },
  {
   "cell_type": "markdown",
   "metadata": {
    "id": "UoJH3kA7RJpD"
   },
   "source": [
    "# Prepare TestDataset for Evaluation \n",
    "\n",
    "Let's evaluate our ClassifierDL model during training, saved it, and loaded it into a new pipeline by using a test dataset that model has never seen. To do this we first need to prepare a test dataset parquet file as shown below:"
   ]
  },
  {
   "cell_type": "code",
   "execution_count": 13,
   "metadata": {
    "id": "E5Tx0-Axarh2"
   },
   "outputs": [],
   "source": [
    "news_test_dataset = spark.read \\\n",
    "      .option(\"header\", True) \\\n",
    "      .csv(\"news_category_test.csv\")"
   ]
  },
  {
   "cell_type": "code",
   "execution_count": 14,
   "metadata": {
    "colab": {
     "base_uri": "https://localhost:8080/"
    },
    "id": "msvqqFHOaL1m",
    "outputId": "28a2c6d5-db54-4d8f-cc3e-91c85c688845"
   },
   "outputs": [
    {
     "name": "stdout",
     "output_type": "stream",
     "text": [
      "tfhub_use download started this may take some time.\n",
      "Approximate size to download 923.7 MB\n",
      "[ | ]tfhub_use download started this may take some time.\n",
      "Approximate size to download 923.7 MB\n",
      "[ | ]Download done! Loading the resource.\n",
      "[OK!]\n"
     ]
    }
   ],
   "source": [
    "document = DocumentAssembler()\\\n",
    "    .setInputCol(\"description\")\\\n",
    "    .setOutputCol(\"document\")\n",
    "\n",
    "use = UniversalSentenceEncoder.pretrained() \\\n",
    " .setInputCols([\"document\"])\\\n",
    " .setOutputCol(\"sentence_embeddings\")\n",
    "\n",
    "pipeline = Pipeline(stages = [document,use])\n",
    "\n",
    "test_dataset = pipeline.fit(news_test_dataset).transform(news_test_dataset)"
   ]
  },
  {
   "cell_type": "code",
   "execution_count": 15,
   "metadata": {
    "colab": {
     "base_uri": "https://localhost:8080/"
    },
    "id": "taJTgrntaz1Z",
    "outputId": "91eac9f2-690e-4b6d-9232-357f026a30e4"
   },
   "outputs": [
    {
     "name": "stdout",
     "output_type": "stream",
     "text": [
      "+--------+--------------------+--------------------+--------------------+\n",
      "|category|         description|            document| sentence_embeddings|\n",
      "+--------+--------------------+--------------------+--------------------+\n",
      "|Business|Unions representi...|[{document, 0, 12...|[{sentence_embedd...|\n",
      "|Sci/Tech| TORONTO, Canada ...|[{document, 0, 22...|[{sentence_embedd...|\n",
      "+--------+--------------------+--------------------+--------------------+\n",
      "only showing top 2 rows\n",
      "\n"
     ]
    }
   ],
   "source": [
    "test_dataset.show(2)"
   ]
  },
  {
   "cell_type": "markdown",
   "metadata": {
    "id": "-MAxy_pVzZh-"
   },
   "source": [
    "Now, that out test dataset has the required embeddings, we save it as parquet and use it while training our ClassifierDL model."
   ]
  },
  {
   "cell_type": "code",
   "execution_count": 16,
   "metadata": {
    "id": "SLDJCelza2Ac"
   },
   "outputs": [],
   "source": [
    "test_dataset.write.parquet(\"./test_news.parquet\")"
   ]
  },
  {
   "cell_type": "markdown",
   "metadata": {
    "id": "f6Dhbj78a7qZ"
   },
   "source": [
    "Now let's train it and use a validation and the test dataset above for evaluation"
   ]
  },
  {
   "cell_type": "code",
   "execution_count": 17,
   "metadata": {
    "id": "H30A4FgNMF5t"
   },
   "outputs": [],
   "source": [
    "classsifierdl = ClassifierDLApproach()\\\n",
    "  .setInputCols([\"sentence_embeddings\"])\\\n",
    "  .setOutputCol(\"class\")\\\n",
    "  .setLabelColumn(\"category\")\\\n",
    "  .setMaxEpochs(5)\\\n",
    "  .setEnableOutputLogs(True) \\\n",
    "  .setEvaluationLogExtended(True) \\\n",
    "  .setValidationSplit(0.2) \\\n",
    "  .setTestDataset(\"./test_news.parquet\")\n",
    "\n",
    "pipeline = Pipeline(\n",
    "    stages = [\n",
    "        document,\n",
    "        use,\n",
    "        classsifierdl\n",
    "    ])"
   ]
  },
  {
   "cell_type": "code",
   "execution_count": 18,
   "metadata": {
    "colab": {
     "base_uri": "https://localhost:8080/"
    },
    "id": "kia7NpRJMF5v",
    "outputId": "5659d234-da46-4da7-8102-693c8225c688"
   },
   "outputs": [
    {
     "name": "stdout",
     "output_type": "stream",
     "text": [
      "Training started - epochs: 5 - learning_rate: 0.005 - batch_size: 64 - training_examples: 96000 - classes: 4\n",
      "Epoch 1/5 - 21.56s - loss: 1294.569 - acc: 0.8790208 - batches: 1500\n",
      "Quality on validation dataset (20.0%), validation examples = 24000\n",
      "time to finish evaluation: 1.38s\n",
      "label      tp\t fp\t fn\t prec\t rec\t f1\n",
      "Sci/Tech   5158\t 945\t 807\t 0.8451581\t 0.8647108\t 0.85482264\n",
      "Business   5003\t 952\t 1004\t 0.8401343\t 0.83286166\t 0.83648217\n",
      "Sports     5901\t 270\t 147\t 0.956247\t 0.9756944\t 0.9658728\n",
      "World      5235\t 536\t 745\t 0.90712184\t 0.87541807\t 0.89098805\n",
      "tp: 21297 fp: 2703 fn: 2703 labels: 4\n",
      "Macro-average\t prec: 0.88716537, rec: 0.88717127, f1: 0.8871684\n",
      "Micro-average\t prec: 0.887375, recall: 0.887375, f1: 0.887375\n",
      "Quality on test dataset: \n",
      "time to finish evaluation: 0.35s\n",
      "label      tp\t fp\t fn\t prec\t rec\t f1\n",
      "Sci/Tech   1658\t 322\t 242\t 0.83737373\t 0.87263155\t 0.8546392\n",
      "Business   1569\t 306\t 331\t 0.8368\t 0.82578945\t 0.8312583\n",
      "Sports     1840\t 81\t 60\t 0.9578345\t 0.96842104\t 0.9630987\n",
      "World      1661\t 163\t 239\t 0.91063595\t 0.87421054\t 0.8920516\n",
      "tp: 6728 fp: 872 fn: 872 labels: 4\n",
      "Macro-average\t prec: 0.885661, rec: 0.88526314, f1: 0.8854621\n",
      "Micro-average\t prec: 0.88526314, recall: 0.88526314, f1: 0.88526314\n",
      "Epoch 2/5 - 25.97s - loss: 1279.9918 - acc: 0.8916354 - batches: 1500\n",
      "Quality on validation dataset (20.0%), validation examples = 24000\n",
      "time to finish evaluation: 1.04s\n",
      "label      tp\t fp\t fn\t prec\t rec\t f1\n",
      "Sci/Tech   5151\t 891\t 814\t 0.85253227\t 0.8635373\t 0.8579995\n",
      "Business   4991\t 899\t 1016\t 0.8473684\t 0.830864\t 0.83903503\n",
      "Sports     5917\t 273\t 131\t 0.9558966\t 0.97833997\t 0.96698815\n",
      "World      5294\t 584\t 686\t 0.9006465\t 0.8852843\t 0.89289933\n",
      "tp: 21353 fp: 2647 fn: 2647 labels: 4\n",
      "Macro-average\t prec: 0.8891109, rec: 0.88950634, f1: 0.88930863\n",
      "Micro-average\t prec: 0.88970834, recall: 0.88970834, f1: 0.88970834\n",
      "Quality on test dataset: \n",
      "time to finish evaluation: 0.35s\n",
      "label      tp\t fp\t fn\t prec\t rec\t f1\n",
      "Sci/Tech   1657\t 290\t 243\t 0.8510529\t 0.87210524\t 0.8614505\n",
      "Business   1573\t 286\t 327\t 0.84615386\t 0.82789475\t 0.83692473\n",
      "Sports     1851\t 87\t 49\t 0.95510834\t 0.9742105\t 0.96456486\n",
      "World      1681\t 175\t 219\t 0.90571123\t 0.88473684\t 0.8951012\n",
      "tp: 6762 fp: 838 fn: 838 labels: 4\n",
      "Macro-average\t prec: 0.8895066, rec: 0.88973683, f1: 0.8896217\n",
      "Micro-average\t prec: 0.88973683, recall: 0.88973683, f1: 0.88973683\n",
      "Epoch 3/5 - 24.51s - loss: 1271.581 - acc: 0.89664584 - batches: 1500\n",
      "Quality on validation dataset (20.0%), validation examples = 24000\n",
      "time to finish evaluation: 1.13s\n",
      "label      tp\t fp\t fn\t prec\t rec\t f1\n",
      "Sci/Tech   5219\t 923\t 746\t 0.8497232\t 0.8749371\t 0.86214584\n",
      "Business   4989\t 863\t 1018\t 0.85252905\t 0.83053106\t 0.84138626\n",
      "Sports     5930\t 280\t 118\t 0.9549114\t 0.98048943\t 0.9675314\n",
      "World      5274\t 522\t 706\t 0.90993786\t 0.8819398\t 0.89572006\n",
      "tp: 21412 fp: 2588 fn: 2588 labels: 4\n",
      "Macro-average\t prec: 0.89177537, rec: 0.8919744, f1: 0.89187485\n",
      "Micro-average\t prec: 0.8921667, recall: 0.8921667, f1: 0.8921667\n",
      "Quality on test dataset: \n",
      "time to finish evaluation: 0.36s\n",
      "label      tp\t fp\t fn\t prec\t rec\t f1\n",
      "Sci/Tech   1673\t 302\t 227\t 0.84708863\t 0.8805263\t 0.8634839\n",
      "Business   1569\t 275\t 331\t 0.8508677\t 0.82578945\t 0.83814096\n",
      "Sports     1855\t 89\t 45\t 0.9542181\t 0.9763158\t 0.9651405\n",
      "World      1673\t 164\t 227\t 0.910724\t 0.8805263\t 0.8953706\n",
      "tp: 6770 fp: 830 fn: 830 labels: 4\n",
      "Macro-average\t prec: 0.8907246, rec: 0.89078945, f1: 0.890757\n",
      "Micro-average\t prec: 0.89078945, recall: 0.89078945, f1: 0.89078945\n",
      "Epoch 4/5 - 24.66s - loss: 1271.1621 - acc: 0.9004167 - batches: 1500\n",
      "Quality on validation dataset (20.0%), validation examples = 24000\n",
      "time to finish evaluation: 1.04s\n",
      "label      tp\t fp\t fn\t prec\t rec\t f1\n",
      "Sci/Tech   5224\t 896\t 741\t 0.8535948\t 0.87577534\t 0.86454284\n",
      "Business   4994\t 851\t 1013\t 0.85440546\t 0.8313634\t 0.84272695\n",
      "Sports     5927\t 271\t 121\t 0.95627624\t 0.9799934\t 0.96798956\n",
      "World      5293\t 544\t 687\t 0.90680146\t 0.88511705\t 0.895828\n",
      "tp: 21438 fp: 2562 fn: 2562 labels: 4\n",
      "Macro-average\t prec: 0.89276946, rec: 0.8930623, f1: 0.89291584\n",
      "Micro-average\t prec: 0.89325, recall: 0.89325, f1: 0.89325\n",
      "Quality on test dataset: \n",
      "time to finish evaluation: 0.34s\n",
      "label      tp\t fp\t fn\t prec\t rec\t f1\n",
      "Sci/Tech   1667\t 291\t 233\t 0.851379\t 0.87736845\t 0.86417836\n",
      "Business   1572\t 278\t 328\t 0.8497297\t 0.82736844\t 0.8384\n",
      "Sports     1854\t 86\t 46\t 0.9556701\t 0.9757895\t 0.965625\n",
      "World      1680\t 172\t 220\t 0.90712744\t 0.8842105\t 0.8955224\n",
      "tp: 6773 fp: 827 fn: 827 labels: 4\n",
      "Macro-average\t prec: 0.89097655, rec: 0.8911843, f1: 0.89108044\n",
      "Micro-average\t prec: 0.8911842, recall: 0.8911842, f1: 0.8911842\n",
      "Epoch 5/5 - 23.62s - loss: 1266.5956 - acc: 0.90358335 - batches: 1500\n",
      "Quality on validation dataset (20.0%), validation examples = 24000\n",
      "time to finish evaluation: 1.07s\n",
      "label      tp\t fp\t fn\t prec\t rec\t f1\n",
      "Sci/Tech   5193\t 864\t 772\t 0.8573551\t 0.87057835\t 0.86391616\n",
      "Business   5052\t 898\t 955\t 0.8490756\t 0.8410188\t 0.845028\n",
      "Sports     5919\t 266\t 129\t 0.95699275\t 0.97867066\t 0.96771026\n",
      "World      5278\t 530\t 702\t 0.90874654\t 0.8826087\t 0.89548695\n",
      "tp: 21442 fp: 2558 fn: 2558 labels: 4\n",
      "Macro-average\t prec: 0.8930425, rec: 0.8932191, f1: 0.89313084\n",
      "Micro-average\t prec: 0.89341664, recall: 0.89341664, f1: 0.89341664\n",
      "Quality on test dataset: \n",
      "time to finish evaluation: 0.34s\n",
      "label      tp\t fp\t fn\t prec\t rec\t f1\n",
      "Sci/Tech   1662\t 283\t 238\t 0.85449874\t 0.87473685\t 0.8644994\n",
      "Business   1591\t 295\t 309\t 0.8435843\t 0.8373684\t 0.84046483\n",
      "Sports     1852\t 83\t 48\t 0.95710593\t 0.97473687\t 0.96584094\n",
      "World      1672\t 162\t 228\t 0.9116685\t 0.88\t 0.8955544\n",
      "tp: 6777 fp: 823 fn: 823 labels: 4\n",
      "Macro-average\t prec: 0.8917144, rec: 0.8917105, f1: 0.8917125\n",
      "Micro-average\t prec: 0.8917105, recall: 0.8917105, f1: 0.8917105\n"
     ]
    }
   ],
   "source": [
    "pipelineModel = pipeline.fit(trainDataset)"
   ]
  },
  {
   "cell_type": "markdown",
   "metadata": {
    "id": "zMLuwQSCB05e"
   },
   "source": [
    "# How to use already trained ClassifierDL pipeline or its model\n",
    "\n",
    "We have two ways of using what we already trained: pipeline or model.\n",
    "\n",
    "Let's see how we can save the entire pipeline, load it, and do some prediction with that pre-trained pipeline."
   ]
  },
  {
   "cell_type": "markdown",
   "metadata": {
    "id": "4I7COUCPCPe3"
   },
   "source": [
    "## Save and load pre-trained ClassifierDL pipeline"
   ]
  },
  {
   "cell_type": "code",
   "execution_count": 19,
   "metadata": {
    "id": "QTDQ3riLD-zW"
   },
   "outputs": [],
   "source": [
    "# Google Colab is free so it comes with a little memory. \n",
    "# It's not possible to save and load in this notebook. But you can do this locally or in a decent machine!\n",
    "\n",
    "# pipelineModel.save(\"./classifierdl_pipeline\")\n",
    "# loadedPipeline = PipelineModel.load(\"./classifierdl_pipeline\")\n",
    "# loadedPipeline.transform(YOUR_DATAFRAME)"
   ]
  },
  {
   "cell_type": "markdown",
   "metadata": {
    "id": "TI9JR8AoLbW3"
   },
   "source": [
    "# Save and load pre-trained ClassifierDL model"
   ]
  },
  {
   "cell_type": "code",
   "execution_count": 20,
   "metadata": {
    "id": "3r3_q4CJLkZR"
   },
   "outputs": [],
   "source": [
    "# dbfs:/ or hdfs:/ if you are saving it on distributed file systems\n",
    "pipelineModel.stages[-1].write().overwrite().save('./tmp_classifierDL_model')\n",
    "\n"
   ]
  },
  {
   "cell_type": "markdown",
   "metadata": {
    "id": "3JaclNFsQJ-X"
   },
   "source": [
    "Let's use our pre-trained ClassifierDLModel in a pipeline: "
   ]
  },
  {
   "cell_type": "code",
   "execution_count": 21,
   "metadata": {
    "colab": {
     "base_uri": "https://localhost:8080/"
    },
    "id": "NTJ53PbYQI-f",
    "outputId": "1d97b123-f050-4b5a-c18f-362578ff6365"
   },
   "outputs": [
    {
     "name": "stdout",
     "output_type": "stream",
     "text": [
      "tfhub_use download started this may take some time.\n",
      "Approximate size to download 923.7 MB\n",
      "[OK!]\n"
     ]
    }
   ],
   "source": [
    "\n",
    "# In a new pipeline you can load it for prediction\n",
    "document = DocumentAssembler()\\\n",
    "    .setInputCol(\"description\")\\\n",
    "    .setOutputCol(\"document\")\n",
    "\n",
    "use = UniversalSentenceEncoder.pretrained() \\\n",
    " .setInputCols([\"document\"])\\\n",
    " .setOutputCol(\"sentence_embeddings\")\n",
    "\n",
    "classsifierdl = ClassifierDLModel.load(\"./tmp_classifierDL_model\") \\\n",
    "  .setInputCols([\"sentence_embeddings\"])\\\n",
    "  .setOutputCol(\"class\")\n",
    "\n",
    "pipeline = Pipeline(\n",
    "    stages = [\n",
    "        document,\n",
    "        use,\n",
    "        classsifierdl\n",
    "    ])\n"
   ]
  },
  {
   "cell_type": "markdown",
   "metadata": {
    "id": "VOrjIsKXHea8"
   },
   "source": [
    "Now let's load it back so we can have prediction all together with everything in that pipeline:"
   ]
  },
  {
   "cell_type": "code",
   "execution_count": 22,
   "metadata": {
    "id": "ccy54HeERCZ1"
   },
   "outputs": [],
   "source": [
    "from pyspark.sql.types import StringType\n",
    "\n",
    "dfTest = spark.createDataFrame([\n",
    "    \"Unions representing workers at Turner   Newall say they are 'disappointed' after talks with stricken parent firm Federal Mogul.\",\n",
    "    \"Scientists have discovered irregular lumps beneath the icy surface of Jupiter's largest moon, Ganymede. These irregular masses may be rock formations, supported by Ganymede's icy shell for billions of years...\"\n",
    "], StringType()).toDF(\"description\")"
   ]
  },
  {
   "cell_type": "code",
   "execution_count": 23,
   "metadata": {
    "id": "3BsNAWS4VRkd"
   },
   "outputs": [],
   "source": [
    "prediction = pipeline.fit(dfTest).transform(dfTest)"
   ]
  },
  {
   "cell_type": "code",
   "execution_count": 24,
   "metadata": {
    "colab": {
     "base_uri": "https://localhost:8080/"
    },
    "id": "nz32PDjEVUTk",
    "outputId": "de3fe9e8-fa6c-4276-c441-918e6f56a960"
   },
   "outputs": [
    {
     "name": "stdout",
     "output_type": "stream",
     "text": [
      "+----------+\n",
      "|    result|\n",
      "+----------+\n",
      "|[Business]|\n",
      "|[Sci/Tech]|\n",
      "+----------+\n",
      "\n",
      "+-----------------------------------------------------------------------------------------------------------------+\n",
      "|metadata                                                                                                         |\n",
      "+-----------------------------------------------------------------------------------------------------------------+\n",
      "|[{Sports -> 2.753349E-6, Business -> 0.99998844, World -> 6.6571633E-6, Sci/Tech -> 2.1566113E-6, sentence -> 0}]|\n",
      "|[{Sports -> 1.4710765E-14, Business -> 1.1435716E-13, World -> 2.8883496E-13, Sci/Tech -> 1.0, sentence -> 0}]   |\n",
      "+-----------------------------------------------------------------------------------------------------------------+\n",
      "\n"
     ]
    }
   ],
   "source": [
    "prediction.select(\"class.result\").show()\n",
    "\n",
    "prediction.select(\"class.metadata\").show(truncate=False)"
   ]
  }
 ],
 "metadata": {
  "colab": {
   "collapsed_sections": [],
   "provenance": [],
   "toc_visible": true
  },
  "kernelspec": {
   "display_name": "Python 3",
   "language": "python",
   "name": "python3"
  },
  "language_info": {
   "codemirror_mode": {
    "name": "ipython",
    "version": 3
   },
   "file_extension": ".py",
   "mimetype": "text/x-python",
   "name": "python",
   "nbconvert_exporter": "python",
   "pygments_lexer": "ipython3",
   "version": "3.8.10"
  },
  "nteract": {
   "version": "0.21.0"
  }
 },
 "nbformat": 4,
 "nbformat_minor": 1
}
