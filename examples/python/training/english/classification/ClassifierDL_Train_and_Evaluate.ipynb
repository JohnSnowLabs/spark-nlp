{
 "cells": [
  {
   "attachments": {},
   "cell_type": "markdown",
   "metadata": {},
   "source": [
    "![JohnSnowLabs](https://sparknlp.org/assets/images/logo.png)\n",
    "\n",
    "[![Open In Colab](https://colab.research.google.com/assets/colab-badge.svg)](https://colab.research.google.com/github/JohnSnowLabs/spark-nlp/blob/master/examples/python/training/english/classification/ClassifierDL_Train_and_Evaluate.ipynb)\n",
    "\n",
    "# Multi-class Text Classification using ClassifierDL"
   ]
  },
  {
   "cell_type": "markdown",
   "metadata": {},
   "source": [
    "Only run this block if you are inside Google Colab otherwise skip it"
   ]
  },
  {
   "cell_type": "code",
   "execution_count": null,
   "metadata": {},
   "outputs": [],
   "source": [
    "# Only run this cell when you are using Spark NLP on Google Colab\n",
    "!wget http://setup.johnsnowlabs.com/colab.sh -O - | bash"
   ]
  },
  {
   "cell_type": "markdown",
   "metadata": {},
   "source": [
    "In this notebook we are going to check the training logs on the fly. Thus, we start a session with `real_time_output=True`"
   ]
  },
  {
   "cell_type": "code",
   "execution_count": null,
   "metadata": {},
   "outputs": [
    {
     "name": "stdout",
     "output_type": "stream",
     "text": [
      "Spark NLP version:  4.3.1\n",
      "Apache Spark version;  3.3.0\n",
      "23/02/20 17:36:52 WARN Utils: Your hostname, duc-manjaro resolves to a loopback address: 127.0.1.1; using 192.168.0.34 instead (on interface enp3s0)\n",
      "23/02/20 17:36:52 WARN Utils: Set SPARK_LOCAL_IP if you need to bind to another address\n"
     ]
    },
    {
     "name": "stdout",
     "output_type": "stream",
     "text": [
      ":: loading settings :: url = jar:file:/home/root/.conda/envs/sparknlp/lib/python3.8/site-packages/pyspark/jars/ivy-2.5.0.jar!/org/apache/ivy/core/settings/ivysettings.xml\n",
      "23/02/20 17:36:54 WARN NativeCodeLoader: Unable to load native-hadoop library for your platform... using builtin-java classes where applicable\n",
      "23/02/20 17:36:55 WARN Utils: Service 'SparkUI' could not bind on port 4040. Attempting port 4041.\n",
      "23/02/20 17:36:55 WARN Utils: Service 'SparkUI' could not bind on port 4041. Attempting port 4042.\n"
     ]
    }
   ],
   "source": [
    "import sparknlp\n",
    "\n",
    "spark = sparknlp.start(real_time_output=True)\n",
    "\n",
    "print(\"Spark NLP version: \", sparknlp.version())\n",
    "print(\"Apache Spark version; \", spark.version)"
   ]
  },
  {
   "cell_type": "markdown",
   "metadata": {},
   "source": [
    "Let's download news category dataset for training our text classifier"
   ]
  },
  {
   "cell_type": "code",
   "execution_count": null,
   "metadata": {},
   "outputs": [
    {
     "name": "stdout",
     "output_type": "stream",
     "text": [
      "--2023-02-20 17:37:03--  https://s3.amazonaws.com/auxdata.johnsnowlabs.com/public/resources/en/classifier-dl/news_Category/news_category_train.csv\n",
      "Loaded CA certificate '/etc/ssl/certs/ca-certificates.crt'\n",
      "Resolving s3.amazonaws.com (s3.amazonaws.com)... 52.217.142.224, 52.216.50.8, 52.216.162.69, ...\n",
      "Connecting to s3.amazonaws.com (s3.amazonaws.com)|52.217.142.224|:443... connected.\n",
      "HTTP request sent, awaiting response... 200 OK\n",
      "Length: 24032125 (23M) [text/csv]\n",
      "Saving to: ‘news_category_train.csv’\n",
      "\n",
      "news_category_train 100%[===================>]  22,92M  13,1MB/s    in 1,7s    \n",
      "\n",
      "2023-02-20 17:37:05 (13,1 MB/s) - ‘news_category_train.csv’ saved [24032125/24032125]\n",
      "\n"
     ]
    }
   ],
   "source": [
    "!wget -O news_category_train.csv https://s3.amazonaws.com/auxdata.johnsnowlabs.com/public/resources/en/classifier-dl/news_Category/news_category_train.csv"
   ]
  },
  {
   "cell_type": "code",
   "execution_count": null,
   "metadata": {},
   "outputs": [
    {
     "name": "stdout",
     "output_type": "stream",
     "text": [
      "--2023-02-20 17:37:06--  https://s3.amazonaws.com/auxdata.johnsnowlabs.com/public/resources/en/classifier-dl/news_Category/news_category_test.csv\n",
      "Loaded CA certificate '/etc/ssl/certs/ca-certificates.crt'\n",
      "Resolving s3.amazonaws.com (s3.amazonaws.com)... 52.216.21.181, 54.231.130.208, 52.217.205.32, ...\n",
      "Connecting to s3.amazonaws.com (s3.amazonaws.com)|52.216.21.181|:443... connected.\n",
      "HTTP request sent, awaiting response... 200 OK\n",
      "Length: 1504408 (1,4M) [text/csv]\n",
      "Saving to: ‘news_category_test.csv’\n",
      "\n",
      "news_category_test. 100%[===================>]   1,43M  2,09MB/s    in 0,7s    \n",
      "\n",
      "2023-02-20 17:37:07 (2,09 MB/s) - ‘news_category_test.csv’ saved [1504408/1504408]\n",
      "\n"
     ]
    }
   ],
   "source": [
    "!wget -O news_category_test.csv https://s3.amazonaws.com/auxdata.johnsnowlabs.com/public/resources/en/classifier-dl/news_Category/news_category_test.csv"
   ]
  },
  {
   "cell_type": "code",
   "execution_count": null,
   "metadata": {},
   "outputs": [
    {
     "name": "stdout",
     "output_type": "stream",
     "text": [
      "category,description\n",
      "Business,\" Short sellers, Wall Street's dwindling band of ultra cynics, are seeing green again.\"\n",
      "Business,\" Private investment firm Carlyle Group, which has a reputation for making well timed and occasionally controversial plays in the defense industry, has quietly placed its bets on another part of the market.\"\n",
      "Business, Soaring crude prices plus worries about the economy and the outlook for earnings are expected to hang over the stock market next week during the depth of the summer doldrums.\n",
      "Business,\" Authorities have halted oil export flows from the main pipeline in southern Iraq after intelligence showed a rebel militia could strike infrastructure, an oil official said on Saturday.\"\n",
      "Business,\" Tearaway world oil prices, toppling records and straining wallets, present a new economic menace barely three months before the US presidential elections.\"\n",
      "Business,\" Stocks ended slightly higher on Friday but stayed near lows for the year as oil prices surged past  #36;46 a barrel, offsetting a positive outlook from computer maker Dell Inc. (DELL.O)\"\n",
      "Business,\" Assets of the nation's retail money market mutual funds fell by  #36;1.17 billion in the latest week to  #36;849.98 trillion, the Investment Company Institute said Thursday.\"\n",
      "Business,\" Retail sales bounced back a bit in July, and new claims for jobless benefits fell last week, the government said Thursday, indicating the economy is improving from a midsummer slump.\"\n",
      "Business,\" After earning a PH.D. in Sociology, Danny Bazil Riley started to work as the general manager at a commercial real estate firm at an annual base salary of  #36;70,000. Soon after, a financial planner stopped by his desk to drop off brochures about insurance benefits available through his employer. But, at 32, \"\"buying insurance was the furthest thing from my mind,\"\" says Riley.\"\n"
     ]
    }
   ],
   "source": [
    "!head news_category_train.csv"
   ]
  },
  {
   "cell_type": "markdown",
   "metadata": {},
   "source": [
    "The content is inside `description` column and the labels are inside `category` column"
   ]
  },
  {
   "cell_type": "code",
   "execution_count": null,
   "metadata": {},
   "outputs": [],
   "source": [
    "trainDataset = spark.read \\\n",
    "      .option(\"header\", True) \\\n",
    "      .csv(\"news_category_train.csv\")"
   ]
  },
  {
   "cell_type": "code",
   "execution_count": null,
   "metadata": {},
   "outputs": [
    {
     "name": "stdout",
     "output_type": "stream",
     "text": [
      "+--------+--------------------+\n",
      "|category|         description|\n",
      "+--------+--------------------+\n",
      "|Business| Short sellers, W...|\n",
      "|Business| Private investme...|\n",
      "|Business| Soaring crude pr...|\n",
      "|Business| Authorities have...|\n",
      "|Business| Tearaway world o...|\n",
      "|Business| Stocks ended sli...|\n",
      "|Business| Assets of the na...|\n",
      "|Business| Retail sales bou...|\n",
      "|Business|\" After earning a...|\n",
      "|Business| Short sellers, W...|\n",
      "|Business| Soaring crude pr...|\n",
      "|Business| OPEC can do noth...|\n",
      "|Business| Non OPEC oil exp...|\n",
      "|Business| WASHINGTON/NEW Y...|\n",
      "|Business| The dollar tumbl...|\n",
      "|Business|If you think you ...|\n",
      "|Business|The purchasing po...|\n",
      "|Business|There is little c...|\n",
      "|Business|The US trade defi...|\n",
      "|Business|Oil giant Shell c...|\n",
      "+--------+--------------------+\n",
      "only showing top 20 rows\n",
      "\n"
     ]
    }
   ],
   "source": [
    "trainDataset.show()"
   ]
  },
  {
   "cell_type": "code",
   "execution_count": null,
   "metadata": {},
   "outputs": [
    {
     "data": {
      "text/plain": [
       "120000"
      ]
     },
     "execution_count": null,
     "metadata": {},
     "output_type": "execute_result"
    }
   ],
   "source": [
    "trainDataset.count()"
   ]
  },
  {
   "cell_type": "code",
   "execution_count": null,
   "metadata": {},
   "outputs": [],
   "source": [
    "from pyspark.ml import Pipeline\n",
    "\n",
    "from sparknlp.annotator import *\n",
    "from sparknlp.common import *\n",
    "from sparknlp.base import *"
   ]
  },
  {
   "cell_type": "markdown",
   "metadata": {},
   "source": [
    "# Prepare TestDataset for Evaluation \n",
    "\n",
    "Let's evaluate our ClassifierDL model during training, saved it, and loaded it into a new pipeline by using a test dataset that model has never seen. To do this we first need to prepare a test dataset parquet file as shown below:"
   ]
  },
  {
   "cell_type": "code",
   "execution_count": null,
   "metadata": {},
   "outputs": [],
   "source": [
    "news_test_dataset = spark.read \\\n",
    "      .option(\"header\", True) \\\n",
    "      .csv(\"news_category_test.csv\")"
   ]
  },
  {
   "cell_type": "code",
   "execution_count": null,
   "metadata": {},
   "outputs": [
    {
     "name": "stdout",
     "output_type": "stream",
     "text": [
      "tfhub_use download started this may take some time.\n",
      "Approximate size to download 923.7 MB\n",
      "[ | ]tfhub_use download started this may take some time.\n",
      "Approximate size to download 923.7 MB\n",
      "[ / ]Download done! Loading the resource.\n",
      "[OK!]\n"
     ]
    }
   ],
   "source": [
    "document = DocumentAssembler()\\\n",
    "    .setInputCol(\"description\")\\\n",
    "    .setOutputCol(\"document\")\n",
    "\n",
    "use = UniversalSentenceEncoder.pretrained() \\\n",
    " .setInputCols([\"document\"])\\\n",
    " .setOutputCol(\"sentence_embeddings\")\n",
    "\n",
    "pipeline = Pipeline(stages = [document,use])\n",
    "\n",
    "test_dataset = pipeline.fit(news_test_dataset).transform(news_test_dataset)"
   ]
  },
  {
   "cell_type": "code",
   "execution_count": null,
   "metadata": {},
   "outputs": [
    {
     "name": "stdout",
     "output_type": "stream",
     "text": [
      "+--------+--------------------+--------------------+--------------------+\n",
      "|category|         description|            document| sentence_embeddings|\n",
      "+--------+--------------------+--------------------+--------------------+\n",
      "|Business|Unions representi...|[{document, 0, 12...|[{sentence_embedd...|\n",
      "|Sci/Tech| TORONTO, Canada ...|[{document, 0, 22...|[{sentence_embedd...|\n",
      "+--------+--------------------+--------------------+--------------------+\n",
      "only showing top 2 rows\n",
      "\n"
     ]
    }
   ],
   "source": [
    "test_dataset.show(2)"
   ]
  },
  {
   "cell_type": "markdown",
   "metadata": {},
   "source": [
    "Now, that out test dataset has the required embeddings, we save it as parquet and use it while training our ClassifierDL model."
   ]
  },
  {
   "cell_type": "code",
   "execution_count": null,
   "metadata": {},
   "outputs": [],
   "source": [
    "test_dataset.write.parquet(\"./test_news.parquet\")"
   ]
  },
  {
   "cell_type": "markdown",
   "metadata": {},
   "source": [
    "Now let's train it and use a validation and the test dataset above for evaluation"
   ]
  },
  {
   "cell_type": "code",
   "execution_count": null,
   "metadata": {},
   "outputs": [],
   "source": [
    "classsifierdl = ClassifierDLApproach()\\\n",
    "  .setInputCols([\"sentence_embeddings\"])\\\n",
    "  .setOutputCol(\"class\")\\\n",
    "  .setLabelColumn(\"category\")\\\n",
    "  .setMaxEpochs(5)\\\n",
    "  .setEnableOutputLogs(True) \\\n",
    "  .setEvaluationLogExtended(True) \\\n",
    "  .setValidationSplit(0.2) \\\n",
    "  .setTestDataset(\"./test_news.parquet\")\n",
    "\n",
    "pipeline = Pipeline(\n",
    "    stages = [\n",
    "        document,\n",
    "        use,\n",
    "        classsifierdl\n",
    "    ])"
   ]
  },
  {
   "cell_type": "code",
   "execution_count": null,
   "metadata": {},
   "outputs": [
    {
     "name": "stdout",
     "output_type": "stream",
     "text": [
      "Training started - epochs: 5 - learning_rate: 0.005 - batch_size: 64 - training_examples: 96000 - classes: 4\n",
      "Epoch 1/5 - 6.34s - loss: 1305.07 - acc: 0.8793854 - batches: 1500\n",
      "Quality on validation dataset (20.0%), validation examples = 24000\n",
      "time to finish evaluation: 0.44s\n",
      "label      tp\t fp\t fn\t prec\t rec\t f1\n",
      "Sci/Tech   4907\t 753\t 1013\t 0.8669611\t 0.82888514\t 0.8474956\n",
      "Business   5201\t 1162\t 806\t 0.81738174\t 0.8658232\t 0.8409054\n",
      "Sports     5891\t 350\t 118\t 0.94391924\t 0.9803628\t 0.96179587\n",
      "World      5272\t 464\t 792\t 0.9191074\t 0.8693931\t 0.8935593\n",
      "tp: 21271 fp: 2729 fn: 2729 labels: 4\n",
      "Macro-average\t prec: 0.88684237, rec: 0.8861161, f1: 0.886479\n",
      "Micro-average\t prec: 0.8862917, recall: 0.8862917, f1: 0.8862917\n",
      "Quality on test dataset: \n",
      "time to finish evaluation: 0.07s\n",
      "label      tp\t fp\t fn\t prec\t rec\t f1\n",
      "Sci/Tech   1579\t 247\t 321\t 0.86473167\t 0.83105266\t 0.84755766\n",
      "Business   1631\t 390\t 269\t 0.8070262\t 0.858421\t 0.83193064\n",
      "Sports     1858\t 100\t 42\t 0.94892746\t 0.9778947\t 0.96319336\n",
      "World      1639\t 156\t 261\t 0.9130919\t 0.86263156\t 0.8871448\n",
      "tp: 6707 fp: 893 fn: 893 labels: 4\n",
      "Macro-average\t prec: 0.8834443, rec: 0.8825, f1: 0.88297194\n",
      "Micro-average\t prec: 0.8825, recall: 0.8825, f1: 0.88249993\n",
      "Epoch 2/5 - 5.87s - loss: 1282.2052 - acc: 0.8911354 - batches: 1500\n",
      "Quality on validation dataset (20.0%), validation examples = 24000\n",
      "time to finish evaluation: 0.23s\n",
      "label      tp\t fp\t fn\t prec\t rec\t f1\n",
      "Sci/Tech   5165\t 975\t 755\t 0.84120524\t 0.8724662\t 0.8565506\n",
      "Business   4938\t 802\t 1069\t 0.8602787\t 0.822041\t 0.84072536\n",
      "Sports     5892\t 355\t 117\t 0.9431727\t 0.9805292\t 0.96148825\n",
      "World      5345\t 528\t 719\t 0.91009706\t 0.8814314\t 0.89553493\n",
      "tp: 21340 fp: 2660 fn: 2660 labels: 4\n",
      "Macro-average\t prec: 0.88868845, rec: 0.88911694, f1: 0.88890266\n",
      "Micro-average\t prec: 0.88916665, recall: 0.88916665, f1: 0.88916665\n",
      "Quality on test dataset: \n",
      "time to finish evaluation: 0.06s\n",
      "label      tp\t fp\t fn\t prec\t rec\t f1\n",
      "Sci/Tech   1671\t 315\t 229\t 0.8413897\t 0.8794737\t 0.8600103\n",
      "Business   1545\t 268\t 355\t 0.8521787\t 0.8131579\t 0.83221114\n",
      "Sports     1860\t 108\t 40\t 0.94512194\t 0.97894734\t 0.9617373\n",
      "World      1667\t 166\t 233\t 0.9094381\t 0.87736845\t 0.89311546\n",
      "tp: 6743 fp: 857 fn: 857 labels: 4\n",
      "Macro-average\t prec: 0.88703215, rec: 0.88723683, f1: 0.88713443\n",
      "Micro-average\t prec: 0.88723683, recall: 0.88723683, f1: 0.88723683\n",
      "Epoch 3/5 - 5.91s - loss: 1276.7024 - acc: 0.8959896 - batches: 1500\n",
      "Quality on validation dataset (20.0%), validation examples = 24000\n",
      "time to finish evaluation: 1.38s\n",
      "label      tp\t fp\t fn\t prec\t rec\t f1\n",
      "Sci/Tech   5278\t 1094\t 642\t 0.8283114\t 0.89155406\t 0.85876995\n",
      "Business   4908\t 762\t 1099\t 0.86560845\t 0.81704676\t 0.8406269\n",
      "Sports     5901\t 364\t 108\t 0.9418994\t 0.98202693\t 0.96154475\n",
      "World      5274\t 419\t 790\t 0.92640084\t 0.86972296\t 0.8971677\n",
      "tp: 21361 fp: 2639 fn: 2639 labels: 4\n",
      "Macro-average\t prec: 0.8905551, rec: 0.8900876, f1: 0.89032125\n",
      "Micro-average\t prec: 0.89004165, recall: 0.89004165, f1: 0.89004165\n",
      "Quality on test dataset: \n",
      "time to finish evaluation: 0.07s\n",
      "label      tp\t fp\t fn\t prec\t rec\t f1\n",
      "Sci/Tech   1695\t 344\t 205\t 0.8312898\t 0.8921053\t 0.86062455\n",
      "Business   1537\t 261\t 363\t 0.8548387\t 0.8089474\t 0.83126014\n",
      "Sports     1862\t 110\t 38\t 0.94421905\t 0.98\t 0.96177685\n",
      "World      1645\t 146\t 255\t 0.9184813\t 0.8657895\t 0.89135736\n",
      "tp: 6739 fp: 861 fn: 861 labels: 4\n",
      "Macro-average\t prec: 0.88720727, rec: 0.8867105, f1: 0.88695884\n",
      "Micro-average\t prec: 0.8867105, recall: 0.8867105, f1: 0.8867105\n",
      "Epoch 4/5 - 5.91s - loss: 1269.6151 - acc: 0.89971876 - batches: 1500\n",
      "Quality on validation dataset (20.0%), validation examples = 24000\n",
      "time to finish evaluation: 0.23s\n",
      "label      tp\t fp\t fn\t prec\t rec\t f1\n",
      "Sci/Tech   5327\t 1144\t 593\t 0.82321125\t 0.89983106\t 0.8598176\n",
      "Business   4927\t 762\t 1080\t 0.8660573\t 0.82020974\t 0.8425102\n",
      "Sports     5890\t 316\t 119\t 0.94908154\t 0.98019636\t 0.9643881\n",
      "World      5261\t 373\t 803\t 0.9337948\t 0.86757916\t 0.89947\n",
      "tp: 21405 fp: 2595 fn: 2595 labels: 4\n",
      "Macro-average\t prec: 0.8930362, rec: 0.8919541, f1: 0.8924948\n",
      "Micro-average\t prec: 0.891875, recall: 0.891875, f1: 0.891875\n",
      "Quality on test dataset: \n",
      "time to finish evaluation: 0.07s\n",
      "label      tp\t fp\t fn\t prec\t rec\t f1\n",
      "Sci/Tech   1704\t 359\t 196\t 0.82598156\t 0.8968421\t 0.8599546\n",
      "Business   1542\t 264\t 358\t 0.8538206\t 0.8115789\t 0.83216405\n",
      "Sports     1860\t 99\t 40\t 0.949464\t 0.97894734\t 0.9639803\n",
      "World      1639\t 133\t 261\t 0.92494357\t 0.86263156\t 0.89270157\n",
      "tp: 6745 fp: 855 fn: 855 labels: 4\n",
      "Macro-average\t prec: 0.8885524, rec: 0.8875, f1: 0.8880258\n",
      "Micro-average\t prec: 0.8875, recall: 0.8875, f1: 0.8875\n",
      "Epoch 5/5 - 5.82s - loss: 1267.1547 - acc: 0.9025625 - batches: 1500\n",
      "Quality on validation dataset (20.0%), validation examples = 24000\n",
      "time to finish evaluation: 0.24s\n",
      "label      tp\t fp\t fn\t prec\t rec\t f1\n",
      "Sci/Tech   5337\t 1168\t 583\t 0.82044584\t 0.90152025\t 0.8590745\n",
      "Business   4907\t 734\t 1100\t 0.8698812\t 0.8168803\t 0.8425481\n",
      "Sports     5891\t 318\t 118\t 0.948784\t 0.9803628\t 0.96431494\n",
      "World      5269\t 376\t 795\t 0.9333924\t 0.8688984\t 0.89999145\n",
      "tp: 21404 fp: 2596 fn: 2596 labels: 4\n",
      "Macro-average\t prec: 0.8931259, rec: 0.89191544, f1: 0.89252025\n",
      "Micro-average\t prec: 0.8918333, recall: 0.8918333, f1: 0.8918333\n",
      "Quality on test dataset: \n",
      "time to finish evaluation: 0.06s\n",
      "label      tp\t fp\t fn\t prec\t rec\t f1\n",
      "Sci/Tech   1711\t 357\t 189\t 0.82736945\t 0.90052634\t 0.8623993\n",
      "Business   1537\t 254\t 363\t 0.8581798\t 0.8089474\t 0.8328367\n",
      "Sports     1862\t 101\t 38\t 0.94854814\t 0.98\t 0.9640176\n",
      "World      1645\t 133\t 255\t 0.9251968\t 0.8657895\t 0.8945079\n",
      "tp: 6755 fp: 845 fn: 845 labels: 4\n",
      "Macro-average\t prec: 0.88982356, rec: 0.88881576, f1: 0.88931936\n",
      "Micro-average\t prec: 0.88881576, recall: 0.88881576, f1: 0.88881576\n"
     ]
    }
   ],
   "source": [
    "pipelineModel = pipeline.fit(trainDataset)"
   ]
  },
  {
   "cell_type": "markdown",
   "metadata": {},
   "source": [
    "# How to use already trained ClassifierDL pipeline or its model\n",
    "\n",
    "We have two ways of using what we already trained: pipeline or model.\n",
    "\n",
    "Let's see how we can save the entire pipeline, load it, and do some prediction with that pre-trained pipeline."
   ]
  },
  {
   "cell_type": "markdown",
   "metadata": {},
   "source": [
    "## Save and load pre-trained ClassifierDL pipeline"
   ]
  },
  {
   "cell_type": "code",
   "execution_count": null,
   "metadata": {},
   "outputs": [],
   "source": [
    "# Google Colab is free so it comes with a little memory. \n",
    "# It's not possible to save and load in this notebook. But you can do this locally or in a decent machine!\n",
    "\n",
    "# pipelineModel.save(\"./classifierdl_pipeline\")\n",
    "# loadedPipeline = PipelineModel.load(\"./classifierdl_pipeline\")\n",
    "# loadedPipeline.transform(YOUR_DATAFRAME)"
   ]
  },
  {
   "cell_type": "markdown",
   "metadata": {},
   "source": [
    "# Save and load pre-trained ClassifierDL model"
   ]
  },
  {
   "cell_type": "code",
   "execution_count": null,
   "metadata": {},
   "outputs": [],
   "source": [
    "# dbfs:/ or hdfs:/ if you are saving it on distributed file systems\n",
    "pipelineModel.stages[-1].write().overwrite().save('./tmp_classifierDL_model')"
   ]
  },
  {
   "cell_type": "markdown",
   "metadata": {},
   "source": [
    "Let's use our pre-trained ClassifierDLModel in a pipeline: "
   ]
  },
  {
   "cell_type": "code",
   "execution_count": null,
   "metadata": {},
   "outputs": [
    {
     "name": "stdout",
     "output_type": "stream",
     "text": [
      "tfhub_use download started this may take some time.\n",
      "Approximate size to download 923.7 MB\n",
      "[OK!]\n"
     ]
    }
   ],
   "source": [
    "\n",
    "# In a new pipeline you can load it for prediction\n",
    "document = DocumentAssembler()\\\n",
    "    .setInputCol(\"description\")\\\n",
    "    .setOutputCol(\"document\")\n",
    "\n",
    "use = UniversalSentenceEncoder.pretrained() \\\n",
    " .setInputCols([\"document\"])\\\n",
    " .setOutputCol(\"sentence_embeddings\")\n",
    "\n",
    "classsifierdl = ClassifierDLModel.load(\"./tmp_classifierDL_model\") \\\n",
    "  .setInputCols([\"sentence_embeddings\"])\\\n",
    "  .setOutputCol(\"class\")\n",
    "\n",
    "pipeline = Pipeline(\n",
    "    stages = [\n",
    "        document,\n",
    "        use,\n",
    "        classsifierdl\n",
    "    ])\n"
   ]
  },
  {
   "cell_type": "markdown",
   "metadata": {},
   "source": [
    "Now let's load it back so we can have prediction all together with everything in that pipeline:"
   ]
  },
  {
   "cell_type": "code",
   "execution_count": null,
   "metadata": {},
   "outputs": [],
   "source": [
    "from pyspark.sql.types import StringType\n",
    "\n",
    "dfTest = spark.createDataFrame([\n",
    "    \"Unions representing workers at Turner   Newall say they are 'disappointed' after talks with stricken parent firm Federal Mogul.\",\n",
    "    \"Scientists have discovered irregular lumps beneath the icy surface of Jupiter's largest moon, Ganymede. These irregular masses may be rock formations, supported by Ganymede's icy shell for billions of years...\"\n",
    "], StringType()).toDF(\"description\")"
   ]
  },
  {
   "cell_type": "code",
   "execution_count": null,
   "metadata": {},
   "outputs": [],
   "source": [
    "prediction = pipeline.fit(dfTest).transform(dfTest)"
   ]
  },
  {
   "cell_type": "code",
   "execution_count": null,
   "metadata": {},
   "outputs": [
    {
     "name": "stdout",
     "output_type": "stream",
     "text": [
      "+----------+\n",
      "|    result|\n",
      "+----------+\n",
      "|[Business]|\n",
      "|[Sci/Tech]|\n",
      "+----------+\n",
      "\n",
      "+------------------------------------------------------------------------------------------------------------------+\n",
      "|metadata                                                                                                          |\n",
      "+------------------------------------------------------------------------------------------------------------------+\n",
      "|[{Sports -> 1.09076216E-4, Business -> 0.9996996, World -> 1.05234445E-4, Sci/Tech -> 8.617702E-5, sentence -> 0}]|\n",
      "|[{Sports -> 8.139581E-19, Business -> 2.8369764E-17, World -> 3.814643E-17, Sci/Tech -> 1.0, sentence -> 0}]      |\n",
      "+------------------------------------------------------------------------------------------------------------------+\n",
      "\n"
     ]
    }
   ],
   "source": [
    "prediction.select(\"class.result\").show()\n",
    "\n",
    "prediction.select(\"class.metadata\").show(truncate=False)"
   ]
  }
 ],
 "metadata": {
  "colab": {
   "collapsed_sections": [],
   "provenance": [],
   "toc_visible": true
  },
  "kernelspec": {
   "display_name": "Python 3",
   "language": "python",
   "name": "python3"
  },
  "language_info": {
   "codemirror_mode": {
    "name": "ipython",
    "version": 3
   },
   "file_extension": ".py",
   "mimetype": "text/x-python",
   "name": "python",
   "nbconvert_exporter": "python",
   "pygments_lexer": "ipython3"
  },
  "nteract": {
   "version": "0.21.0"
  }
 },
 "nbformat": 4,
 "nbformat_minor": 1
}
