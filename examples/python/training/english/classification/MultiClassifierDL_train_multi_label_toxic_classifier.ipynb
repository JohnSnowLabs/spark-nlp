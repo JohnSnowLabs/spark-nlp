{
 "cells": [
  {
   "cell_type": "markdown",
   "metadata": {
    "colab_type": "text",
    "id": "aaVmDt1TEXdh"
   },
   "source": [
    "![JohnSnowLabs](https://nlp.johnsnowlabs.com/assets/images/logo.png)\n",
    "# Spark NLP\n",
    "## Multi-label Text Classification\n",
    "### Toxic Comments\n",
    "#### By using MultiClassifierDL"
   ]
  },
  {
   "cell_type": "markdown",
   "metadata": {
    "colab_type": "text",
    "id": "jSgSzQsusNIQ"
   },
   "source": [
    "[![Open In Colab](https://colab.research.google.com/assets/colab-badge.svg)](https://colab.research.google.com/github/JohnSnowLabs/spark-nlp-workshop/blob/master/jupyter/training/english/classification/MultiClassifierDL_train_multi_label_toxic_classifier.ipynb)"
   ]
  },
  {
   "cell_type": "code",
   "execution_count": 3,
   "metadata": {
    "colab": {
     "base_uri": "https://localhost:8080/",
     "height": 119
    },
    "colab_type": "code",
    "id": "S2XBx14_1tlw",
    "outputId": "7ec141b0-d342-4ce1-f121-cc1e834ed7d8"
   },
   "outputs": [
    {
     "name": "stdout",
     "output_type": "stream",
     "text": [
      "openjdk version \"1.8.0_265\"\n",
      "OpenJDK Runtime Environment (build 1.8.0_265-8u265-b01-0ubuntu2~18.04-b01)\n",
      "OpenJDK 64-Bit Server VM (build 25.265-b01, mixed mode)\n",
      "\u001B[K     |████████████████████████████████| 218.4MB 67kB/s \n",
      "\u001B[K     |████████████████████████████████| 204kB 57.7MB/s \n",
      "\u001B[?25h  Building wheel for pyspark (setup.py) ... \u001B[?25l\u001B[?25hdone\n"
     ]
    }
   ],
   "source": [
    "# This is only to setup PySpark and Spark NLP on Colab\n",
    "!wget http://setup.johnsnowlabs.com/colab.sh -O - | bash"
   ]
  },
  {
   "cell_type": "markdown",
   "metadata": {
    "colab_type": "text",
    "id": "Uuwsnj7VsXm3"
   },
   "source": [
    "Let's download our Toxic comments for tarining and testing:"
   ]
  },
  {
   "cell_type": "code",
   "execution_count": null,
   "metadata": {
    "colab": {
     "base_uri": "https://localhost:8080/",
     "height": 68
    },
    "colab_type": "code",
    "id": "Q7me57t41nSe",
    "outputId": "f9307a55-ed9e-466b-8465-243934345d7a"
   },
   "outputs": [
    {
     "name": "stdout",
     "output_type": "stream",
     "text": [
      "  % Total    % Received % Xferd  Average Speed   Time    Time     Time  Current\n",
      "                                 Dload  Upload   Total   Spent    Left  Speed\n",
      "100 2702k  100 2702k    0     0  3117k      0 --:--:-- --:--:-- --:--:-- 3113k\n"
     ]
    }
   ],
   "source": [
    "!curl -O 'https://s3.amazonaws.com/auxdata.johnsnowlabs.com/public/resources/en/classifier-dl/toxic_comments/toxic_train.snappy.parquet'"
   ]
  },
  {
   "cell_type": "code",
   "execution_count": null,
   "metadata": {
    "colab": {
     "base_uri": "https://localhost:8080/",
     "height": 68
    },
    "colab_type": "code",
    "id": "Dc8yON7W1qAq",
    "outputId": "933c95d8-4a9a-40f3-bb98-84a23bedda7f"
   },
   "outputs": [
    {
     "name": "stdout",
     "output_type": "stream",
     "text": [
      "  % Total    % Received % Xferd  Average Speed   Time    Time     Time  Current\n",
      "                                 Dload  Upload   Total   Spent    Left  Speed\n",
      "100  289k  100  289k    0     0   185k      0  0:00:01  0:00:01 --:--:--  185k\n"
     ]
    }
   ],
   "source": [
    "!curl -O 'https://s3.amazonaws.com/auxdata.johnsnowlabs.com/public/resources/en/classifier-dl/toxic_comments/toxic_test.snappy.parquet'"
   ]
  },
  {
   "cell_type": "code",
   "execution_count": null,
   "metadata": {
    "colab": {
     "base_uri": "https://localhost:8080/",
     "height": 52
    },
    "colab_type": "code",
    "id": "Hmvv5Q4jMF5b",
    "outputId": "4ec222ab-e332-4617-940e-9cfbfc27828b"
   },
   "outputs": [
    {
     "name": "stdout",
     "output_type": "stream",
     "text": [
      "Spark NLP version\n"
     ]
    },
    {
     "data": {
      "application/vnd.google.colaboratory.intrinsic+json": {
       "type": "string"
      },
      "text/plain": [
       "'2.6.0'"
      ]
     },
     "execution_count": 4,
     "metadata": {
      "tags": []
     },
     "output_type": "execute_result"
    }
   ],
   "source": [
    "import sparknlp\n",
    "\n",
    "spark=sparknlp.start()\n",
    "print(\"Spark NLP version\")\n",
    "sparknlp.version()\n"
   ]
  },
  {
   "cell_type": "markdown",
   "metadata": {
    "colab_type": "text",
    "id": "pZUlTYncseVF"
   },
   "source": [
    "Let's read our Toxi comments datasets:"
   ]
  },
  {
   "cell_type": "code",
   "execution_count": null,
   "metadata": {
    "colab": {},
    "colab_type": "code",
    "id": "S9TRr7iAMF5l"
   },
   "outputs": [],
   "source": [
    "trainDataset = spark.read.parquet(\"/content/toxic_train.snappy.parquet\").repartition(120)\n",
    "testDataset = spark.read.parquet(\"/content/toxic_test.snappy.parquet\").repartition(10)"
   ]
  },
  {
   "cell_type": "code",
   "execution_count": null,
   "metadata": {
    "colab": {
     "base_uri": "https://localhost:8080/",
     "height": 170
    },
    "colab_type": "code",
    "id": "nURzgFJ7MF5o",
    "outputId": "4cf99e20-9d9c-48a3-fe01-48ffcefe4fc6"
   },
   "outputs": [
    {
     "name": "stdout",
     "output_type": "stream",
     "text": [
      "+----------------+--------------------+-------+\n",
      "|              id|                text| labels|\n",
      "+----------------+--------------------+-------+\n",
      "|e63f1cc4b0b9959f|EAT SHIT HORSE FA...|[toxic]|\n",
      "|ed58abb40640f983|PN News\n",
      "You mean ...|[toxic]|\n",
      "+----------------+--------------------+-------+\n",
      "only showing top 2 rows\n",
      "\n"
     ]
    }
   ],
   "source": [
    "trainDataset.show(2)"
   ]
  },
  {
   "cell_type": "markdown",
   "metadata": {
    "colab_type": "text",
    "id": "aQa57ITfslQr"
   },
   "source": [
    "As you can see, there are lots of new lines in our comments which we can fix them with `DocumentAssembler`"
   ]
  },
  {
   "cell_type": "code",
   "execution_count": null,
   "metadata": {
    "colab": {
     "base_uri": "https://localhost:8080/",
     "height": 51
    },
    "colab_type": "code",
    "id": "iVHvdF481OCG",
    "outputId": "60f3143c-a992-4e07-9c42-672ff1a8b5ed"
   },
   "outputs": [
    {
     "name": "stdout",
     "output_type": "stream",
     "text": [
      "14620\n",
      "1605\n"
     ]
    }
   ],
   "source": [
    "print(trainDataset.cache().count())\n",
    "print(testDataset.cache().count())"
   ]
  },
  {
   "cell_type": "code",
   "execution_count": null,
   "metadata": {
    "colab": {},
    "colab_type": "code",
    "id": "0oKvNZaEMF5q"
   },
   "outputs": [],
   "source": [
    "from pyspark.ml import Pipeline\n",
    "\n",
    "from sparknlp.annotator import *\n",
    "from sparknlp.common import *\n",
    "from sparknlp.base import *"
   ]
  },
  {
   "cell_type": "code",
   "execution_count": null,
   "metadata": {
    "colab": {
     "base_uri": "https://localhost:8080/",
     "height": 68
    },
    "colab_type": "code",
    "id": "H30A4FgNMF5t",
    "outputId": "de876ba8-cc9f-494b-cc25-f861c2f8716c"
   },
   "outputs": [
    {
     "name": "stdout",
     "output_type": "stream",
     "text": [
      "tfhub_use download started this may take some time.\n",
      "Approximate size to download 923.7 MB\n",
      "[OK!]\n"
     ]
    }
   ],
   "source": [
    "# Let's use shrink to remove new lines in the comments\n",
    "document = DocumentAssembler()\\\n",
    "  .setInputCol(\"text\")\\\n",
    "  .setOutputCol(\"document\")\\\n",
    "  .setCleanupMode(\"shrink\")\n",
    "\n",
    "# Here we use the state-of-the-art Universal Sentence Encoder model from TF Hub\n",
    "embeddings = UniversalSentenceEncoder.pretrained() \\\n",
    "  .setInputCols([\"document\"])\\\n",
    "  .setOutputCol(\"sentence_embeddings\")\n",
    "\n",
    "# We will use MultiClassifierDL built by using Bidirectional GRU and CNNs inside TensorFlow that supports up to 100 classes\n",
    "# We will use only 5 Epochs but feel free to increase it on your own dataset\n",
    "multiClassifier = MultiClassifierDLApproach()\\\n",
    "  .setInputCols(\"sentence_embeddings\")\\\n",
    "  .setOutputCol(\"category\")\\\n",
    "  .setLabelColumn(\"labels\")\\\n",
    "  .setBatchSize(128)\\\n",
    "  .setMaxEpochs(5)\\\n",
    "  .setLr(1e-3)\\\n",
    "  .setThreshold(0.5)\\\n",
    "  .setShufflePerEpoch(False)\\\n",
    "  .setEnableOutputLogs(True)\\\n",
    "  .setValidationSplit(0.1)\n",
    "\n",
    "pipeline = Pipeline(\n",
    "    stages = [\n",
    "        document,\n",
    "        embeddings,\n",
    "        multiClassifier\n",
    "    ])"
   ]
  },
  {
   "cell_type": "code",
   "execution_count": null,
   "metadata": {
    "colab": {},
    "colab_type": "code",
    "id": "kia7NpRJMF5v"
   },
   "outputs": [],
   "source": [
    "pipelineModel = pipeline.fit(trainDataset)"
   ]
  },
  {
   "cell_type": "code",
   "execution_count": null,
   "metadata": {
    "colab": {
     "base_uri": "https://localhost:8080/",
     "height": 51
    },
    "colab_type": "code",
    "id": "RjP_MAc5kNDi",
    "outputId": "43f80e82-f82a-4299-e753-a50dd1d8d2cf"
   },
   "outputs": [
    {
     "name": "stdout",
     "output_type": "stream",
     "text": [
      "total 4\n",
      "-rw-r--r-- 1 root root 885 Sep  2 16:56 MultiClassifierDLApproach_d670b2c2d0df.log\n"
     ]
    }
   ],
   "source": [
    "!ls -l ~/annotator_logs/"
   ]
  },
  {
   "cell_type": "code",
   "execution_count": null,
   "metadata": {
    "colab": {
     "base_uri": "https://localhost:8080/",
     "height": 139
    },
    "colab_type": "code",
    "id": "kHa_D2KFkL5w",
    "outputId": "54f088f1-2e31-4ad8-feb5-260485a326c3"
   },
   "outputs": [
    {
     "name": "stdout",
     "output_type": "stream",
     "text": [
      "Training started - epochs: 5 - learning_rate: 0.001 - batch_size: 128 - training_examples: 13158 - classes: 6\n",
      "Epoch 0/5 - 15.19s - loss: 0.38046357 - acc: 0.848714 - val_loss: 0.30129096 - val_acc: 0.871466 - val_f1: 0.81246215 - val_tpr: 0.77513814 - batches: 103\n",
      "Epoch 1/5 - 5.51s - loss: 0.30138606 - acc: 0.87715614 - val_loss: 0.28858984 - val_acc: 0.8747491 - val_f1: 0.819081 - val_tpr: 0.789548 - batches: 103\n",
      "Epoch 2/5 - 5.37s - loss: 0.29324576 - acc: 0.87968993 - val_loss: 0.28451642 - val_acc: 0.8766811 - val_f1: 0.82239383 - val_tpr: 0.79497665 - batches: 103\n",
      "Epoch 3/5 - 5.38s - loss: 0.28977352 - acc: 0.88131446 - val_loss: 0.2825411 - val_acc: 0.87826157 - val_f1: 0.8243148 - val_tpr: 0.7951459 - batches: 103\n",
      "Epoch 4/5 - 5.38s - loss: 0.2876302 - acc: 0.88208383 - val_loss: 0.28134403 - val_acc: 0.878595 - val_f1: 0.82474065 - val_tpr: 0.79545283 - batches: 103\n"
     ]
    }
   ],
   "source": [
    "!cat ~/annotator_logs/MultiClassifierDLApproach_d670b2c2d0df.log\n"
   ]
  },
  {
   "cell_type": "markdown",
   "metadata": {
    "colab_type": "text",
    "id": "F2x-_A5ZuSIX"
   },
   "source": [
    "Let's save our trained multi-label classifier model to be loaded in our prediction pipeline:"
   ]
  },
  {
   "cell_type": "code",
   "execution_count": null,
   "metadata": {
    "colab": {},
    "colab_type": "code",
    "id": "IWkBcvA_1OCV"
   },
   "outputs": [],
   "source": [
    "pipelineModel.stages[-1].write().overwrite().save('/content/tmp_multi_classifierDL_model')"
   ]
  },
  {
   "cell_type": "markdown",
   "metadata": {
    "colab_type": "text",
    "id": "ppQ211AW1OCg"
   },
   "source": [
    "## load saved pipeline"
   ]
  },
  {
   "cell_type": "code",
   "execution_count": null,
   "metadata": {
    "colab": {
     "base_uri": "https://localhost:8080/",
     "height": 68
    },
    "colab_type": "code",
    "id": "RglS6Ohj1OCi",
    "outputId": "4c685ef1-7d32-424e-dd91-e9987435ccbb"
   },
   "outputs": [
    {
     "name": "stdout",
     "output_type": "stream",
     "text": [
      "tfhub_use download started this may take some time.\n",
      "Approximate size to download 923.7 MB\n",
      "[OK!]\n"
     ]
    }
   ],
   "source": [
    "document = DocumentAssembler()\\\n",
    "    .setInputCol(\"text\")\\\n",
    "    .setOutputCol(\"document\")\n",
    "\n",
    "use = UniversalSentenceEncoder.pretrained() \\\n",
    " .setInputCols([\"document\"])\\\n",
    " .setOutputCol(\"sentence_embeddings\")\n",
    "\n",
    "multiClassifier = MultiClassifierDLModel.load(\"/content/tmp_multi_classifierDL_model\") \\\n",
    "  .setInputCols([\"sentence_embeddings\"])\\\n",
    "  .setOutputCol(\"category\")\\\n",
    "  .setThreshold(0.5)\n",
    "\n",
    "pipeline = Pipeline(\n",
    "    stages = [\n",
    "        document,\n",
    "        use,\n",
    "        multiClassifier\n",
    "    ])"
   ]
  },
  {
   "cell_type": "markdown",
   "metadata": {
    "colab_type": "text",
    "id": "ATJtZgiBwU-_"
   },
   "source": [
    "Let's now use our testing datasets to evaluate our model:"
   ]
  },
  {
   "cell_type": "code",
   "execution_count": null,
   "metadata": {
    "colab": {
     "base_uri": "https://localhost:8080/",
     "height": 34
    },
    "colab_type": "code",
    "id": "NDA_F1SD1OCm",
    "outputId": "47b04e03-9ac3-46b3-88df-12dc887e493c"
   },
   "outputs": [
    {
     "name": "stdout",
     "output_type": "stream",
     "text": [
      "['toxic', 'severe_toxic', 'identity_hate', 'insult', 'obscene', 'threat']\n"
     ]
    }
   ],
   "source": [
    "# let's see our labels:\n",
    "print(pipeline.fit(testDataset).stages[2].getClasses())"
   ]
  },
  {
   "cell_type": "code",
   "execution_count": null,
   "metadata": {
    "colab": {},
    "colab_type": "code",
    "id": "JJYBe_hq1OCo"
   },
   "outputs": [],
   "source": [
    "preds = pipeline.fit(testDataset).transform(testDataset)\n"
   ]
  },
  {
   "cell_type": "code",
   "execution_count": null,
   "metadata": {
    "colab": {
     "base_uri": "https://localhost:8080/",
     "height": 187
    },
    "colab_type": "code",
    "id": "QSdIxWPV1OCq",
    "outputId": "7165c72b-6aa4-4868-8d3c-c57a5acb6a9d"
   },
   "outputs": [
    {
     "name": "stdout",
     "output_type": "stream",
     "text": [
      "+----------------+--------------------+----------------+\n",
      "|          labels|                text|          result|\n",
      "+----------------+--------------------+----------------+\n",
      "|         [toxic]|Vegan \n",
      "\n",
      "What in t...|         [toxic]|\n",
      "|[toxic, obscene]|Fight Club! F**k ...|[toxic, obscene]|\n",
      "+----------------+--------------------+----------------+\n",
      "only showing top 2 rows\n",
      "\n"
     ]
    }
   ],
   "source": [
    "preds.select('labels','text',\"category.result\").show(2)"
   ]
  },
  {
   "cell_type": "code",
   "execution_count": null,
   "metadata": {
    "colab": {
     "base_uri": "https://localhost:8080/",
     "height": 306
    },
    "colab_type": "code",
    "id": "hHh1vMkN1OCs",
    "outputId": "50619054-3488-41cb-e8ca-78dcdd19e233"
   },
   "outputs": [
    {
     "name": "stdout",
     "output_type": "stream",
     "text": [
      "Classification report: \n",
      "               precision    recall  f1-score   support\n",
      "\n",
      "           0       0.53      0.35      0.42       127\n",
      "           1       0.73      0.62      0.67       761\n",
      "           2       0.79      0.67      0.73       824\n",
      "           3       0.50      0.15      0.23       147\n",
      "           4       0.73      0.38      0.50        50\n",
      "           5       0.94      1.00      0.97      1504\n",
      "\n",
      "   micro avg       0.84      0.77      0.80      3413\n",
      "   macro avg       0.70      0.53      0.59      3413\n",
      "weighted avg       0.82      0.77      0.78      3413\n",
      " samples avg       0.86      0.80      0.79      3413\n",
      "\n",
      "F1 micro averaging: 0.802391537636057\n",
      "ROC:  0.8437377009561553\n"
     ]
    }
   ],
   "source": [
    "preds_df = preds.select('labels', 'category.result').toPandas()\n",
    "\n",
    "from sklearn.preprocessing import MultiLabelBinarizer\n",
    "from sklearn.metrics import classification_report\n",
    "from sklearn.metrics import f1_score\n",
    "from sklearn.metrics import roc_auc_score\n",
    "\n",
    "mlb = MultiLabelBinarizer()\n",
    "\n",
    "y_true = mlb.fit_transform(preds_df['labels'])\n",
    "y_pred = mlb.fit_transform(preds_df['result'])\n",
    "\n",
    "\n",
    "print(\"Classification report: \\n\", (classification_report(y_true, y_pred)))\n",
    "print(\"F1 micro averaging:\",(f1_score(y_true, y_pred, average='micro')))\n",
    "print(\"ROC: \",(roc_auc_score(y_true, y_pred, average=\"micro\")))"
   ]
  },
  {
   "cell_type": "code",
   "execution_count": null,
   "metadata": {
    "colab": {
     "base_uri": "https://localhost:8080/",
     "height": 309
    },
    "colab_type": "code",
    "id": "LR7PpSll1OCy",
    "outputId": "9f672c9e-a9a5-402e-f65c-af580cb41cc9"
   },
   "outputs": [
    {
     "name": "stdout",
     "output_type": "stream",
     "text": [
      "+---------------------------------------------------------------------------------------------------------------------------------------------------------------------------------------------------------------------------------------------------------------------------------------------------------------------------------------------------------------------------------------------------------------------------------------------------------------------------------------------------------------------------------------------------------------------------------------------------------------------------------------------------------------------------------------------------------------------------------------------------------------------------------------------------------------------------+\n",
      "|metadata                                                                                                                                                                                                                                                                                                                                                                                                                                                                                                                                                                                                                                                                                                                                                                                                                   |\n",
      "+---------------------------------------------------------------------------------------------------------------------------------------------------------------------------------------------------------------------------------------------------------------------------------------------------------------------------------------------------------------------------------------------------------------------------------------------------------------------------------------------------------------------------------------------------------------------------------------------------------------------------------------------------------------------------------------------------------------------------------------------------------------------------------------------------------------------------+\n",
      "|[[obscene -> 0.07668711, identity_hate -> 0.08003419, toxic -> 0.8547159, insult -> 0.14573382, severe_toxic -> 0.010274827, threat -> 0.0013722687, sentence -> 0]]                                                                                                                                                                                                                                                                                                                                                                                                                                                                                                                                                                                                                                                       |\n",
      "|[[obscene -> 0.74973583, identity_hate -> 0.026573237, toxic -> 0.97452515, insult -> 0.4271415, severe_toxic -> 0.07580829, threat -> 0.012425529, sentence -> 0], [obscene -> 0.74973583, identity_hate -> 0.026573237, toxic -> 0.97452515, insult -> 0.4271415, severe_toxic -> 0.07580829, threat -> 0.012425529, sentence -> 0]]                                                                                                                                                                                                                                                                                                                                                                                                                                                                                     |\n",
      "|[[obscene -> 0.2895946, identity_hate -> 0.017944919, toxic -> 0.88083005, insult -> 0.34860942, severe_toxic -> 0.012507909, threat -> 0.0027540186, sentence -> 0]]                                                                                                                                                                                                                                                                                                                                                                                                                                                                                                                                                                                                                                                      |\n",
      "|[[obscene -> 0.14852583, identity_hate -> 0.13101593, toxic -> 0.93538547, insult -> 0.36898047, severe_toxic -> 0.020003503, threat -> 0.0014350729, sentence -> 0]]                                                                                                                                                                                                                                                                                                                                                                                                                                                                                                                                                                                                                                                      |\n",
      "|[[obscene -> 0.2026581, identity_hate -> 0.0071552373, toxic -> 0.9020695, insult -> 0.20001398, severe_toxic -> 0.014318457, threat -> 0.0016921534, sentence -> 0]]                                                                                                                                                                                                                                                                                                                                                                                                                                                                                                                                                                                                                                                      |\n",
      "|[[obscene -> 0.27696964, identity_hate -> 0.014545166, toxic -> 0.82669973, insult -> 0.26631594, severe_toxic -> 0.041005336, threat -> 0.038255215, sentence -> 0]]                                                                                                                                                                                                                                                                                                                                                                                                                                                                                                                                                                                                                                                      |\n",
      "|[[obscene -> 0.992353, identity_hate -> 0.5780954, toxic -> 0.9924388, insult -> 0.92266214, severe_toxic -> 0.60503715, threat -> 0.058374558, sentence -> 0], [obscene -> 0.992353, identity_hate -> 0.5780954, toxic -> 0.9924388, insult -> 0.92266214, severe_toxic -> 0.60503715, threat -> 0.058374558, sentence -> 0], [obscene -> 0.992353, identity_hate -> 0.5780954, toxic -> 0.9924388, insult -> 0.92266214, severe_toxic -> 0.60503715, threat -> 0.058374558, sentence -> 0], [obscene -> 0.992353, identity_hate -> 0.5780954, toxic -> 0.9924388, insult -> 0.92266214, severe_toxic -> 0.60503715, threat -> 0.058374558, sentence -> 0], [obscene -> 0.992353, identity_hate -> 0.5780954, toxic -> 0.9924388, insult -> 0.92266214, severe_toxic -> 0.60503715, threat -> 0.058374558, sentence -> 0]]|\n",
      "|[[obscene -> 0.11543953, identity_hate -> 0.019395102, toxic -> 0.9097985, insult -> 0.1980844, severe_toxic -> 0.007957691, threat -> 0.007705507, sentence -> 0]]                                                                                                                                                                                                                                                                                                                                                                                                                                                                                                                                                                                                                                                        |\n",
      "|[[obscene -> 0.835811, identity_hate -> 0.0037145552, toxic -> 0.9678078, insult -> 0.55136216, severe_toxic -> 0.03057244, threat -> 3.7179954E-4, sentence -> 0], [obscene -> 0.835811, identity_hate -> 0.0037145552, toxic -> 0.9678078, insult -> 0.55136216, severe_toxic -> 0.03057244, threat -> 3.7179954E-4, sentence -> 0], [obscene -> 0.835811, identity_hate -> 0.0037145552, toxic -> 0.9678078, insult -> 0.55136216, severe_toxic -> 0.03057244, threat -> 3.7179954E-4, sentence -> 0]]                                                                                                                                                                                                                                                                                                                  |\n",
      "|[[obscene -> 0.63264567, identity_hate -> 0.00646477, toxic -> 0.94940895, insult -> 0.5641152, severe_toxic -> 0.032555852, threat -> 0.0070275636, sentence -> 0], [obscene -> 0.63264567, identity_hate -> 0.00646477, toxic -> 0.94940895, insult -> 0.5641152, severe_toxic -> 0.032555852, threat -> 0.0070275636, sentence -> 0], [obscene -> 0.63264567, identity_hate -> 0.00646477, toxic -> 0.94940895, insult -> 0.5641152, severe_toxic -> 0.032555852, threat -> 0.0070275636, sentence -> 0]]                                                                                                                                                                                                                                                                                                               |\n",
      "+---------------------------------------------------------------------------------------------------------------------------------------------------------------------------------------------------------------------------------------------------------------------------------------------------------------------------------------------------------------------------------------------------------------------------------------------------------------------------------------------------------------------------------------------------------------------------------------------------------------------------------------------------------------------------------------------------------------------------------------------------------------------------------------------------------------------------+\n",
      "only showing top 10 rows\n",
      "\n"
     ]
    }
   ],
   "source": [
    "preds.select(\"category.metadata\").show(10, False)"
   ]
  },
  {
   "cell_type": "code",
   "execution_count": null,
   "metadata": {
    "colab": {
     "base_uri": "https://localhost:8080/",
     "height": 119
    },
    "colab_type": "code",
    "id": "73Gm6Rno1OC0",
    "outputId": "6d0934e0-2190-47f7-fa60-7be3e7782465"
   },
   "outputs": [
    {
     "name": "stdout",
     "output_type": "stream",
     "text": [
      "root\n",
      " |-- metadata: array (nullable = true)\n",
      " |    |-- element: map (containsNull = true)\n",
      " |    |    |-- key: string\n",
      " |    |    |-- value: string (valueContainsNull = true)\n",
      "\n"
     ]
    }
   ],
   "source": [
    "preds.select(\"category.metadata\").printSchema()"
   ]
  },
  {
   "cell_type": "code",
   "execution_count": null,
   "metadata": {
    "colab": {},
    "colab_type": "code",
    "id": "A59H3EMd1OC7"
   },
   "outputs": [],
   "source": []
  }
 ],
 "metadata": {
  "accelerator": "GPU",
  "colab": {
   "collapsed_sections": [],
   "name": "MultiClassifierDL_train_multi_label_toxic_classifier.ipynb",
   "provenance": []
  },
  "kernelspec": {
   "display_name": "Python 3",
   "language": "python",
   "name": "python3"
  },
  "language_info": {
   "codemirror_mode": {
    "name": "ipython",
    "version": 3
   },
   "file_extension": ".py",
   "mimetype": "text/x-python",
   "name": "python",
   "nbconvert_exporter": "python",
   "pygments_lexer": "ipython3",
   "version": "3.6.9"
  },
  "name": "MultiClassifierDL_Train_multi_label_toxic_classifier",
  "notebookId": 1952370652427552,
  "nteract": {
   "version": "0.21.0"
  }
 },
 "nbformat": 4,
 "nbformat_minor": 0
}
