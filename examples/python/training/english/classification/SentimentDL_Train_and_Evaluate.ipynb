{
 "cells": [
  {
   "cell_type": "markdown",
   "metadata": {
    "id": "ph3bDypIEXdd"
   },
   "source": [
    "![JohnSnowLabs](https://nlp.johnsnowlabs.com/assets/images/logo.png)"
   ]
  },
  {
   "cell_type": "markdown",
   "metadata": {
    "id": "aaVmDt1TEXdh"
   },
   "source": [
    "# Spark NLP\n",
    "### Multi-class Sentiment Classification\n",
    "#### By using SentimentDL"
   ]
  },
  {
   "cell_type": "markdown",
   "metadata": {
    "id": "jmo3o-b3MF5W"
   },
   "source": [
    "[![Open In Colab](https://colab.research.google.com/assets/colab-badge.svg)](https://colab.research.google.com/github/JohnSnowLabs/spark-nlp-workshop/blob/master/jupyter/training/english/classification/SentimentDL_Train_and_Evaluate.ipynb)"
   ]
  },
  {
   "cell_type": "markdown",
   "metadata": {
    "id": "h4fQwZ46x4fu"
   },
   "source": [
    "Only run this block if you are inside Google Colab otherwise skip it"
   ]
  },
  {
   "cell_type": "code",
   "execution_count": null,
   "metadata": {},
   "outputs": [],
   "source": [
    "# This is only to setup PySpark and Spark NLP on Colab\n",
    "!wget http://setup.johnsnowlabs.com/colab.sh -O - | bash"
   ]
  },
  {
   "cell_type": "markdown",
   "metadata": {
    "id": "-pDX9mP2yqwE"
   },
   "source": [
    "In this notebook we are going to check the training logs on the fly. Thus, we start a session with `real_time_output=True`"
   ]
  },
  {
   "cell_type": "code",
   "execution_count": 5,
   "metadata": {
    "colab": {
     "base_uri": "https://localhost:8080/"
    },
    "id": "Hmvv5Q4jMF5b",
    "outputId": "90c8b6f7-3898-4aa0-8802-22cc01b33a43"
   },
   "outputs": [
    {
     "name": "stdout",
     "output_type": "stream",
     "text": [
      "Spark NLP version:  4.1.0\n",
      "Apache Spark version 3.2.1\n"
     ]
    }
   ],
   "source": [
    "import sparknlp\n",
    "\n",
    "spark = sparknlp.start(real_time_output=True)\n",
    "\n",
    "print(\"Spark NLP version: \", sparknlp.version())\n",
    "print(\"Apache Spark version\", spark.version)\n"
   ]
  },
  {
   "cell_type": "markdown",
   "metadata": {
    "id": "xKQcm8R6MF5e"
   },
   "source": [
    "Let's download IMDB movie reviews dataset for training our multi-class sentiment classifier"
   ]
  },
  {
   "cell_type": "code",
   "execution_count": 6,
   "metadata": {
    "colab": {
     "base_uri": "https://localhost:8080/"
    },
    "id": "W0FkrTb4MF5f",
    "outputId": "1be5081f-fcc9-4355-e839-a4657ff3d600"
   },
   "outputs": [
    {
     "name": "stdout",
     "output_type": "stream",
     "text": [
      "--2022-09-23 19:33:40--  https://s3.amazonaws.com/auxdata.johnsnowlabs.com/public/resources/en/sentiment-corpus/aclimdb/aclimdb_train.csv\n",
      "Resolving s3.amazonaws.com (s3.amazonaws.com)... 54.231.230.64\n",
      "Connecting to s3.amazonaws.com (s3.amazonaws.com)|54.231.230.64|:443... connected.\n",
      "HTTP request sent, awaiting response... 200 OK\n",
      "Length: 33497180 (32M) [text/csv]\n",
      "Saving to: ‘aclimdb_train.csv’\n",
      "\n",
      "aclimdb_train.csv   100%[===================>]  31.95M  20.5MB/s    in 1.6s    \n",
      "\n",
      "2022-09-23 19:33:42 (20.5 MB/s) - ‘aclimdb_train.csv’ saved [33497180/33497180]\n",
      "\n"
     ]
    }
   ],
   "source": [
    "!wget -O aclimdb_train.csv https://s3.amazonaws.com/auxdata.johnsnowlabs.com/public/resources/en/sentiment-corpus/aclimdb/aclimdb_train.csv"
   ]
  },
  {
   "cell_type": "code",
   "execution_count": 7,
   "metadata": {
    "colab": {
     "base_uri": "https://localhost:8080/"
    },
    "id": "QDIQgMv6tuqu",
    "outputId": "ebaa30c0-bdcb-416b-c23c-2fd87b69a9f5"
   },
   "outputs": [
    {
     "name": "stdout",
     "output_type": "stream",
     "text": [
      "--2022-09-23 19:33:42--  https://s3.amazonaws.com/auxdata.johnsnowlabs.com/public/resources/en/sentiment-corpus/aclimdb/aclimdb_test.csv\n",
      "Resolving s3.amazonaws.com (s3.amazonaws.com)... 52.216.81.83\n",
      "Connecting to s3.amazonaws.com (s3.amazonaws.com)|52.216.81.83|:443... connected.\n",
      "HTTP request sent, awaiting response... 200 OK\n",
      "Length: 32715164 (31M) [text/csv]\n",
      "Saving to: ‘aclimdb_test.csv’\n",
      "\n",
      "aclimdb_test.csv    100%[===================>]  31.20M  21.3MB/s    in 1.5s    \n",
      "\n",
      "2022-09-23 19:33:44 (21.3 MB/s) - ‘aclimdb_test.csv’ saved [32715164/32715164]\n",
      "\n"
     ]
    }
   ],
   "source": [
    "!wget -O aclimdb_test.csv https://s3.amazonaws.com/auxdata.johnsnowlabs.com/public/resources/en/sentiment-corpus/aclimdb/aclimdb_test.csv"
   ]
  },
  {
   "cell_type": "code",
   "execution_count": 8,
   "metadata": {
    "colab": {
     "base_uri": "https://localhost:8080/"
    },
    "id": "QYolNmBtMF5h",
    "outputId": "c2bd0784-9c7b-4ea8-904f-8b365b97c6c5"
   },
   "outputs": [
    {
     "name": "stdout",
     "output_type": "stream",
     "text": [
      "text,label\n",
      "\"This is an Excellent little movie! The acting is good and the music is fantastic!! Play it on a 5-1 sound system and enjoy! It will never win any awards but its good clean fun for all!! I recommend this movie to all fans of pretty girls funny and hansom men as well as robot lovers everyone!!1 P.S. It also stars Lisa Rinna! Enjoy!!This is a very hard movie to find, It is out of print. I first saw it on Showtime many years ago but recently found a used VHS copy. Its still a must see for all!!!This is an Excellent little movie! The acting is good and the music is fantastic!! Play it on a 5-1 sound system and enjoy! It will never win any awards but its good clean fun for all!! I recommend this movie to all fans of pretty girls funny and hansom men as well as robot lovers everyone!!1 P.S. It also stars Lisa Rinna! Enjoy!! Dave Engle This is a very hard movie to find, It is out of print. I first saw it on Showtime many years ago but recently found a used VHS copy. Its still a must see for all!!!\",positive\n",
      "\"The Sarah Silverman program is very similar to Sarah's own stand up; It's so over the top with prejudice that you can't possibly take it to heart. The fact is, though, that while most all people will \\\"get it,\\\" it doesn't mean they will all appreciate it. It's a very polarizing and one dimensional show, so if you don't like it after 10 minutes, you may as well give up there. If you do like it after 10 minutes, stay tuned, because every episode thus far has been as good as the last.<br /><br />Like all shows, though, it is not perfect. Personally I love the program, but there are some huge faults with it. Racist songs are funny, but get older a lot faster than Silverman seems to realize--a problem that I had with \\\"Jesus is Magic\\\" as well. It seems as if Silverman gave herself a quota for songs per episode that doesn't need to exist. Not to mention that while the lyrics to the songs she writes are good, the music, well, isn't.<br /><br />Another thing to keep in mind is that while this show will for some reason appeal to fans of Monty Python, Upright Citizens Brigade, etc., it is nothing like those shows. I can watch Monty Python all day, but, as much as I like this show, I can't watch more than the half hour limit at a time. It gets flat very fast. The repeat value for this show is low too--the second time around an episode is fairly funny, and by the third time, in my opinion, it's boring.<br /><br />Still, that first time around is very, very funny. Give it a shot.\",positive\n",
      "\"\\\"Prom Night\\\" is a title-only remake of the 1980 slasher flick that starred Jamie Lee Curtis and Leslie Nielsen. This movie takes place in an Oregon town, where Donna (Brittany Snow) is about to go to her senior prom and let herself have some fun after going through some extremely traumatic events in the past few years. She and her friends arrive at the prom, which is taking place in a grand hotel, and try and enjoy what is supposed to be the most fun night of their lives. Little does anyone know, a man from Donna's past, who has haunted her for years, is also at the prom... and is willing to kill anyone in way of his pursuit of her.<br /><br />I'm a fan of the original \\\"Prom Night\\\", so I tried to maintain a little hope in this movie, but I have to admit I was quite disappointed. \\\"Prom Night\\\" suffers from the worst affliction a horror movie could have, and that is predictability. There are absolutely no surprises here, and I felt I had seen everything in this movie done dozens of times, often better, before. What does this equate to for the audience? Boredom. Unless of course you have never seen any horror movies, or are part of the pre-teen crowd, but the majority of the audience will most likely be able to guess nearly everything that is going to happen. The plot is simplistic, but the entire script is void of any type of surprise, twist, atmosphere, or anything, and this really, really hurts the movie because it never really gives the audience anything to sink their teeth into. It all just seemed very bland.<br /><br />A lot of people seem to complain with the fact that this is a PG-13 slasher movie as well, and I understand what they are saying, but I don't think it's impossible to make a good slasher movie with minimal gore. Take Carpenter's \\\"Halloween\\\" for example - little to no on screen violence, but still an extremely frightening and effective movie. You don't need gore to make a film scary, but even had \\\"Prom Night\\\" been gratuitously violent (which it is not, it is very tame), it still would have added little to the movie because there is not much in the script to build on to begin with. The tension and suspense here is mild at best, and I spent most of the movie predicting the outcome of situations, and was correct about 99% of the time. Our characters aren't well written enough either for the audience to make any connection to them, and their by-the-numbers demises are routine and careless.<br /><br />I will point out a few things I did like about this movie, though, because it wasn't completely useless - the cinematography is really nice, and everything was very well-filmed and fairly stylish. Among the \\\"jump\\\" scares (that are for the most part very predictable), there were a few that were kind of clever. The sets for the movie are nice too and the hotel is a neat place for the plot to unfold, however predictable the unfolding may be. As for the acting, it's mediocre at best. Brittany Snow plays the lead decently, but really the rest of the cast doesn't show off much talent. Johnathan Schaech plays the villain, and is probably the most experienced performer here, but even he isn't that impressive. However, I did like the character he played, which was a nice change from the typical 'masked-stalker' type killer we see a lot. As far as the ending goes, the last fifteen minutes of the film had me bored to my wit's end and it was very anti-climactic.<br /><br />Overall, \\\"Prom Night\\\" was a disappointment. Everything was very by-the-numbers, routine, and predictable, which is somewhat upsetting considering this had the potential to be a decent slasher movie. There were a few neat moments, but the movie lacked any suspense or atmosphere, and had little plot development, nor believable characters. I'd advise seasoned horror fans to save their money and wait till it's out on video, or rent the original instead, because there are absolutely no surprises here. Some may find a little entertainment in it, but it was far too predictable for my tastes. I expected better, and left the theater very disappointed. 3/10.\",negative\n",
      "\"So often a band will get together for a re-union concert only to find that they just can't get it together. Not so here. This concert is just shear brilliance from start to finish. These three musicians obviously got together beforehand and plotted and planned what was needed to ensure this was not just a nostalgic bash to satisfy someone's ego. This is obvious from the start, before they even step on stage. Many faces in the crowd weren't even born when these guys first performed. From the first song they capture that old magic that was Cream, 3 men, 3 instruments, no fuss. Clapton, by his own admission, said he had to stretch himself for this concert because there were no keyboards, synthesizers etc so we get to see him at his best. Ginger Baker demonstrates why so many drummers today, speak of him as some sort of drumming guru. Jack Bruce just great. They really managed to put together a piece of magic that will stand the test of time for many years to come. This one's a 10 for me.\",positive\n"
     ]
    }
   ],
   "source": [
    "!head -n 5 aclimdb_train.csv"
   ]
  },
  {
   "cell_type": "markdown",
   "metadata": {
    "id": "zWFUDI6jMF5k"
   },
   "source": [
    "The content is inside `text` column and the sentiment is inside `label` column"
   ]
  },
  {
   "cell_type": "code",
   "execution_count": 9,
   "metadata": {
    "id": "S9TRr7iAMF5l"
   },
   "outputs": [],
   "source": [
    "trainDataset = spark.read \\\n",
    "      .option(\"header\", True) \\\n",
    "      .csv(\"aclimdb_train.csv\")"
   ]
  },
  {
   "cell_type": "code",
   "execution_count": 10,
   "metadata": {
    "colab": {
     "base_uri": "https://localhost:8080/"
    },
    "id": "nURzgFJ7MF5o",
    "outputId": "5c6e6122-64e5-4dea-cb09-562af61562d3"
   },
   "outputs": [
    {
     "name": "stdout",
     "output_type": "stream",
     "text": [
      "+--------------------+--------+\n",
      "|                text|   label|\n",
      "+--------------------+--------+\n",
      "|This is an Excell...|positive|\n",
      "|The Sarah Silverm...|positive|\n",
      "|\"Prom Night\" is a...|negative|\n",
      "|So often a band w...|positive|\n",
      "|\"Pet Sematary\" is...|positive|\n",
      "|I watched the fil...|negative|\n",
      "|Boy this movie ha...|negative|\n",
      "|Checking the spoi...|negative|\n",
      "|Despite its rathe...|positive|\n",
      "|Absolute masterpi...|positive|\n",
      "|The tweedy profes...|positive|\n",
      "|A movie best summ...|negative|\n",
      "|Take young, prett...|negative|\n",
      "|For months I've b...|negative|\n",
      "|\"Batman: The Myst...|positive|\n",
      "|Well, it was funn...|negative|\n",
      "|I have seen the s...|positive|\n",
      "|Brainless film ab...|negative|\n",
      "|Leave it to geniu...|negative|\n",
      "|Seven Pounds star...|positive|\n",
      "+--------------------+--------+\n",
      "only showing top 20 rows\n",
      "\n"
     ]
    }
   ],
   "source": [
    "trainDataset.show()"
   ]
  },
  {
   "cell_type": "code",
   "execution_count": 11,
   "metadata": {
    "colab": {
     "base_uri": "https://localhost:8080/"
    },
    "id": "5NIHJuVKx4gk",
    "outputId": "051fad87-ea23-4977-9a24-b3892b51f424"
   },
   "outputs": [
    {
     "data": {
      "text/plain": [
       "25000"
      ]
     },
     "execution_count": 11,
     "metadata": {},
     "output_type": "execute_result"
    }
   ],
   "source": [
    "trainDataset.count()"
   ]
  },
  {
   "cell_type": "markdown",
   "metadata": {
    "id": "UoJH3kA7RJpD"
   },
   "source": [
    "# Evaluation \n",
    "\n",
    "Let's evaluate our SentimentDL model during training, saved it, and loaded it into a new pipeline by using a test dataset that model has never seen. To do this we first need to prepare a test dataset parquet file as shown below:"
   ]
  },
  {
   "cell_type": "code",
   "execution_count": 12,
   "metadata": {
    "id": "5HkV5BAiWPAo"
   },
   "outputs": [],
   "source": [
    "imdb_test_dataset = spark.read \\\n",
    "      .option(\"header\", True) \\\n",
    "      .csv(\"aclimdb_test.csv\")"
   ]
  },
  {
   "cell_type": "code",
   "execution_count": 13,
   "metadata": {
    "id": "0oKvNZaEMF5q"
   },
   "outputs": [],
   "source": [
    "from pyspark.ml import Pipeline\n",
    "\n",
    "from sparknlp.annotator import *\n",
    "from sparknlp.common import *\n",
    "from sparknlp.base import *"
   ]
  },
  {
   "cell_type": "code",
   "execution_count": 14,
   "metadata": {
    "colab": {
     "base_uri": "https://localhost:8080/"
    },
    "id": "hg0GqUsIzUBP",
    "outputId": "a9098f37-2e46-48fc-cbeb-1e177f79c8a4"
   },
   "outputs": [
    {
     "name": "stdout",
     "output_type": "stream",
     "text": [
      "tfhub_use download started this may take some time.\n",
      "Approximate size to download 923.7 MB\n",
      "[ | ]tfhub_use download started this may take some time.\n",
      "Approximate size to download 923.7 MB\n",
      "[ \\ ]Download done! Loading the resource.\n",
      "[OK!]\n"
     ]
    }
   ],
   "source": [
    "document = DocumentAssembler()\\\n",
    "    .setInputCol(\"text\")\\\n",
    "    .setOutputCol(\"document\")\n",
    "\n",
    "use = UniversalSentenceEncoder.pretrained() \\\n",
    " .setInputCols([\"document\"])\\\n",
    " .setOutputCol(\"sentence_embeddings\")\n",
    "\n",
    "pipeline = Pipeline(stages = [document,use])\n",
    "\n",
    "test_dataset = pipeline.fit(imdb_test_dataset).transform(imdb_test_dataset)"
   ]
  },
  {
   "cell_type": "code",
   "execution_count": 15,
   "metadata": {
    "colab": {
     "base_uri": "https://localhost:8080/"
    },
    "id": "K3gciy-ezYFh",
    "outputId": "5e27f1ee-2389-4143-b52c-a5de043579e4"
   },
   "outputs": [
    {
     "name": "stdout",
     "output_type": "stream",
     "text": [
      "+--------------------+--------+--------------------+--------------------+\n",
      "|                text|   label|            document| sentence_embeddings|\n",
      "+--------------------+--------+--------------------+--------------------+\n",
      "|The Second Woman ...|negative|[{document, 0, 11...|[{sentence_embedd...|\n",
      "|In my opinion the...|positive|[{document, 0, 14...|[{sentence_embedd...|\n",
      "+--------------------+--------+--------------------+--------------------+\n",
      "only showing top 2 rows\n",
      "\n"
     ]
    }
   ],
   "source": [
    "test_dataset.show(2)"
   ]
  },
  {
   "cell_type": "markdown",
   "metadata": {
    "id": "823lZCT4zost"
   },
   "source": [
    "Now, that out test dataset has the required embeddings, we save it as parquet and use it while training our SentimentDL model."
   ]
  },
  {
   "cell_type": "code",
   "execution_count": 16,
   "metadata": {
    "id": "SVM6Bdw1zwXF"
   },
   "outputs": [],
   "source": [
    "test_dataset.write.parquet(\"./aclimdb_test.parquet\")"
   ]
  },
  {
   "cell_type": "markdown",
   "metadata": {
    "id": "DAUYQlXv0NpJ"
   },
   "source": [
    "Now let's train it and use a validation and the test dataset above for evaluation"
   ]
  },
  {
   "cell_type": "code",
   "execution_count": 17,
   "metadata": {
    "id": "H30A4FgNMF5t"
   },
   "outputs": [],
   "source": [
    "# the classes/labels/categories are in category column\n",
    "sentimentdl = SentimentDLApproach()\\\n",
    "  .setInputCols([\"sentence_embeddings\"])\\\n",
    "  .setOutputCol(\"class\")\\\n",
    "  .setLabelColumn(\"label\")\\\n",
    "  .setMaxEpochs(5)\\\n",
    "  .setEnableOutputLogs(True)\\\n",
    "  .setValidationSplit(0.2) \\\n",
    "  .setEvaluationLogExtended(True) \\\n",
    "  .setTestDataset(\"./aclimdb_test.parquet\")\n",
    "\n",
    "pipeline = Pipeline(\n",
    "    stages = [\n",
    "        document,\n",
    "        use,\n",
    "        sentimentdl\n",
    "    ])"
   ]
  },
  {
   "cell_type": "code",
   "execution_count": 18,
   "metadata": {
    "colab": {
     "base_uri": "https://localhost:8080/"
    },
    "id": "kia7NpRJMF5v",
    "outputId": "4ed55eed-8bac-4cac-d551-d8b90fd71199"
   },
   "outputs": [
    {
     "name": "stdout",
     "output_type": "stream",
     "text": [
      "Training started - epochs: 5 - learning_rate: 0.005 - batch_size: 64 - training_examples: 20000\n",
      "Epoch 1/5 - 4.03s - loss: 152.93646 - acc: 0.8290765 - batches: 313\n",
      "Quality on validation dataset (20.0%), validation examples = 5000\n",
      "time to finish evaluation: 0.34s\n",
      "label        tp\t fp\t fn\t prec\t rec\t f1\n",
      "1            2198\t 477\t 280\t 0.8216822\t 0.8870056\t 0.8530953\n",
      "0            2045\t 280\t 477\t 0.8795699\t 0.8108644\t 0.8438209\n",
      "tp: 4243 fp: 757 fn: 757 labels: 2\n",
      "Macro-average\t prec: 0.85062605, rec: 0.848935, f1: 0.84977967\n",
      "Micro-average\t prec: 0.8486, recall: 0.8486, f1: 0.8486\n",
      "Quality on test dataset: \n",
      "time to finish evaluation: 1.18s\n",
      "label        tp\t fp\t fn\t prec\t rec\t f1\n",
      "1            10943\t 2350\t 1557\t 0.82321525\t 0.87544\t 0.84852475\n",
      "0            10150\t 1557\t 2350\t 0.86700267\t 0.812\t 0.8386004\n",
      "tp: 21093 fp: 3907 fn: 3907 labels: 2\n",
      "Macro-average\t prec: 0.845109, rec: 0.84371996, f1: 0.84441394\n",
      "Micro-average\t prec: 0.84372, recall: 0.84372, f1: 0.84372\n",
      "Epoch 2/5 - 4.63s - loss: 144.18388 - acc: 0.8535156 - batches: 313\n",
      "Quality on validation dataset (20.0%), validation examples = 5000\n",
      "time to finish evaluation: 0.30s\n",
      "label        tp\t fp\t fn\t prec\t rec\t f1\n",
      "1            2139\t 402\t 339\t 0.84179455\t 0.86319613\t 0.852361\n",
      "0            2120\t 339\t 402\t 0.8621391\t 0.8406027\t 0.85123473\n",
      "tp: 4259 fp: 741 fn: 741 labels: 2\n",
      "Macro-average\t prec: 0.85196686, rec: 0.8518994, f1: 0.8519331\n",
      "Micro-average\t prec: 0.8518, recall: 0.8518, f1: 0.8518\n",
      "Quality on test dataset: \n",
      "time to finish evaluation: 0.95s\n",
      "label        tp\t fp\t fn\t prec\t rec\t f1\n",
      "1            10709\t 1976\t 1791\t 0.84422547\t 0.85672\t 0.85042685\n",
      "0            10524\t 1791\t 1976\t 0.8545676\t 0.84192\t 0.8481966\n",
      "tp: 21233 fp: 3767 fn: 3767 labels: 2\n",
      "Macro-average\t prec: 0.8493965, rec: 0.84932, f1: 0.84935826\n",
      "Micro-average\t prec: 0.84932, recall: 0.84932, f1: 0.84932\n",
      "Epoch 3/5 - 3.45s - loss: 141.53355 - acc: 0.8609776 - batches: 313\n",
      "Quality on validation dataset (20.0%), validation examples = 5000\n",
      "time to finish evaluation: 0.29s\n",
      "label        tp\t fp\t fn\t prec\t rec\t f1\n",
      "1            2134\t 393\t 344\t 0.8444796\t 0.8611784\t 0.85274726\n",
      "0            2129\t 344\t 393\t 0.8608977\t 0.8441713\t 0.8524524\n",
      "tp: 4263 fp: 737 fn: 737 labels: 2\n",
      "Macro-average\t prec: 0.85268867, rec: 0.85267484, f1: 0.85268176\n",
      "Micro-average\t prec: 0.8526, recall: 0.8526, f1: 0.8526\n",
      "Quality on test dataset: \n",
      "time to finish evaluation: 0.86s\n",
      "label        tp\t fp\t fn\t prec\t rec\t f1\n",
      "1            10683\t 1872\t 1817\t 0.85089606\t 0.85464\t 0.8527639\n",
      "0            10628\t 1817\t 1872\t 0.8539976\t 0.85024\t 0.8521146\n",
      "tp: 21311 fp: 3689 fn: 3689 labels: 2\n",
      "Macro-average\t prec: 0.8524468, rec: 0.85244, f1: 0.85244346\n",
      "Micro-average\t prec: 0.85244, recall: 0.85244, f1: 0.85244\n",
      "Epoch 4/5 - 3.46s - loss: 139.95955 - acc: 0.8659856 - batches: 313\n",
      "Quality on validation dataset (20.0%), validation examples = 5000\n",
      "time to finish evaluation: 0.25s\n",
      "label        tp\t fp\t fn\t prec\t rec\t f1\n",
      "1            2151\t 399\t 327\t 0.8435294\t 0.8680387\t 0.8556086\n",
      "0            2123\t 327\t 399\t 0.8665306\t 0.8417922\t 0.8539823\n",
      "tp: 4274 fp: 726 fn: 726 labels: 2\n",
      "Macro-average\t prec: 0.85503, rec: 0.8549155, f1: 0.85497284\n",
      "Micro-average\t prec: 0.8548, recall: 0.8548, f1: 0.8548\n",
      "Quality on test dataset: \n",
      "time to finish evaluation: 0.86s\n",
      "label        tp\t fp\t fn\t prec\t rec\t f1\n",
      "1            10728\t 1927\t 1772\t 0.8477282\t 0.85824\t 0.85295177\n",
      "0            10573\t 1772\t 1927\t 0.8564601\t 0.84584\t 0.8511169\n",
      "tp: 21301 fp: 3699 fn: 3699 labels: 2\n",
      "Macro-average\t prec: 0.8520942, rec: 0.85204, f1: 0.85206705\n",
      "Micro-average\t prec: 0.85204, recall: 0.85204, f1: 0.85204005\n",
      "Epoch 5/5 - 3.57s - loss: 138.94417 - acc: 0.87184495 - batches: 313\n",
      "Quality on validation dataset (20.0%), validation examples = 5000\n",
      "time to finish evaluation: 0.27s\n",
      "label        tp\t fp\t fn\t prec\t rec\t f1\n",
      "1            2160\t 400\t 318\t 0.84375\t 0.8716707\t 0.85748315\n",
      "0            2122\t 318\t 400\t 0.8696721\t 0.84139574\t 0.85530025\n",
      "tp: 4282 fp: 718 fn: 718 labels: 2\n",
      "Macro-average\t prec: 0.85671103, rec: 0.8565332, f1: 0.85662216\n",
      "Micro-average\t prec: 0.8564, recall: 0.8564, f1: 0.8564\n",
      "Quality on test dataset: \n",
      "time to finish evaluation: 0.86s\n",
      "label        tp\t fp\t fn\t prec\t rec\t f1\n",
      "1            10769\t 1970\t 1731\t 0.84535676\t 0.86152\t 0.85336185\n",
      "0            10530\t 1731\t 1970\t 0.8588207\t 0.8424\t 0.8505311\n",
      "tp: 21299 fp: 3701 fn: 3701 labels: 2\n",
      "Macro-average\t prec: 0.8520887, rec: 0.85196, f1: 0.8520244\n",
      "Micro-average\t prec: 0.85196, recall: 0.85196, f1: 0.85196\n"
     ]
    }
   ],
   "source": [
    "pipelineModel = pipeline.fit(trainDataset)"
   ]
  },
  {
   "cell_type": "markdown",
   "metadata": {
    "id": "zMLuwQSCB05e"
   },
   "source": [
    "# How to use already trained SentimentDL pipeline or its model\n",
    "\n",
    "We have two ways of using what we already trained: pipeline or model.\n",
    "\n",
    "Let's see how we can save the entire pipeline, load it, and do some prediction with that pre-trained pipeline."
   ]
  },
  {
   "cell_type": "markdown",
   "metadata": {
    "id": "4I7COUCPCPe3"
   },
   "source": [
    "## Save and load pre-trained SentimentDL pipeline"
   ]
  },
  {
   "cell_type": "code",
   "execution_count": 19,
   "metadata": {
    "id": "QTDQ3riLD-zW"
   },
   "outputs": [],
   "source": [
    "# Google Colab is free so it comes with a little memory. \n",
    "# It's not possible to save and load in this notebook. But you can do this locally or in a decent machine!\n",
    "\n",
    "# pipelineModel.save(\"./sentimentdl_pipeline\")\n",
    "# loadedPipeline = PipelineModel.load(\"./sentimentdl_pipeline\")\n",
    "# loadedPipeline.transform(YOUR_DATAFRAME)"
   ]
  },
  {
   "cell_type": "markdown",
   "metadata": {
    "id": "TI9JR8AoLbW3"
   },
   "source": [
    "# Save and load pre-trained SentimentDL model"
   ]
  },
  {
   "cell_type": "code",
   "execution_count": 20,
   "metadata": {
    "id": "3r3_q4CJLkZR"
   },
   "outputs": [],
   "source": [
    "# hdfs:/ if you are saving it on distributed file systems in Hadoop\n",
    "pipelineModel.stages[-1].write().overwrite().save('./tmp_sentimentdl_model')\n",
    "\n"
   ]
  },
  {
   "cell_type": "markdown",
   "metadata": {
    "id": "3JaclNFsQJ-X"
   },
   "source": [
    "Let's use our pre-trained SentimentDLModel in a pipeline: "
   ]
  },
  {
   "cell_type": "code",
   "execution_count": 21,
   "metadata": {
    "colab": {
     "base_uri": "https://localhost:8080/"
    },
    "id": "NTJ53PbYQI-f",
    "outputId": "e235cc7e-5be2-49f0-a1dd-ec362804930e"
   },
   "outputs": [
    {
     "name": "stdout",
     "output_type": "stream",
     "text": [
      "tfhub_use download started this may take some time.\n",
      "Approximate size to download 923.7 MB\n",
      "[OK!]\n"
     ]
    }
   ],
   "source": [
    "\n",
    "# In a new pipeline you can load it for prediction\n",
    "document = DocumentAssembler()\\\n",
    "    .setInputCol(\"text\")\\\n",
    "    .setOutputCol(\"document\")\n",
    "\n",
    "use = UniversalSentenceEncoder.pretrained() \\\n",
    " .setInputCols([\"document\"])\\\n",
    " .setOutputCol(\"sentence_embeddings\")\n",
    "\n",
    "sentimentdl = SentimentDLModel.load(\"./tmp_sentimentdl_model\") \\\n",
    "  .setInputCols([\"sentence_embeddings\"])\\\n",
    "  .setOutputCol(\"class\")\n",
    "\n",
    "pipeline = Pipeline(\n",
    "    stages = [\n",
    "        document,\n",
    "        use,\n",
    "        sentimentdl\n",
    "    ])\n"
   ]
  },
  {
   "cell_type": "markdown",
   "metadata": {
    "id": "VOrjIsKXHea8"
   },
   "source": [
    "Now let's load it back so we can have prediction all together with everything in that pipeline:"
   ]
  },
  {
   "cell_type": "code",
   "execution_count": 22,
   "metadata": {
    "id": "ccy54HeERCZ1"
   },
   "outputs": [],
   "source": [
    "from pyspark.sql.types import StringType\n",
    "\n",
    "dfTest = spark.createDataFrame([\n",
    "    \"This movie is a delight for those of all ages. I have seen it several times and each time I am enchanted by the characters and magic. The cast is outstanding, the special effects delightful, everything most believable.\",\n",
    "    \"This film was to put it simply rubbish. The child actors couldn't act, as can be seen by Harry's supposed surprise on learning he's a wizard. I'm a wizard! is said with such indifference you'd think he's not surprised at all.\"\n",
    "], StringType()).toDF(\"text\")"
   ]
  },
  {
   "cell_type": "code",
   "execution_count": 23,
   "metadata": {
    "id": "3BsNAWS4VRkd"
   },
   "outputs": [],
   "source": [
    "prediction = pipeline.fit(dfTest).transform(dfTest)"
   ]
  },
  {
   "cell_type": "code",
   "execution_count": 24,
   "metadata": {
    "colab": {
     "base_uri": "https://localhost:8080/"
    },
    "id": "nz32PDjEVUTk",
    "outputId": "6700b1cc-08f2-41b0-e334-8505ca630bd8"
   },
   "outputs": [
    {
     "name": "stdout",
     "output_type": "stream",
     "text": [
      "+----------+\n",
      "|    result|\n",
      "+----------+\n",
      "|[positive]|\n",
      "|[negative]|\n",
      "+----------+\n",
      "\n",
      "+------------------------------------------------------------------+\n",
      "|metadata                                                          |\n",
      "+------------------------------------------------------------------+\n",
      "|[{sentence -> 0, positive -> 1.0, negative -> 2.8792261E-8}]      |\n",
      "|[{sentence -> 0, positive -> 1.8572706E-5, negative -> 0.9999814}]|\n",
      "+------------------------------------------------------------------+\n",
      "\n"
     ]
    }
   ],
   "source": [
    "prediction.select(\"class.result\").show()\n",
    "\n",
    "prediction.select(\"class.metadata\").show(truncate=False)"
   ]
  }
 ],
 "metadata": {
  "colab": {
   "collapsed_sections": [],
   "provenance": [],
   "toc_visible": true
  },
  "kernelspec": {
   "display_name": "Python 3",
   "language": "python",
   "name": "python3"
  },
  "language_info": {
   "codemirror_mode": {
    "name": "ipython",
    "version": 3
   },
   "file_extension": ".py",
   "mimetype": "text/x-python",
   "name": "python",
   "nbconvert_exporter": "python",
   "pygments_lexer": "ipython3",
   "version": "3.8.10"
  },
  "nteract": {
   "version": "0.21.0"
  }
 },
 "nbformat": 4,
 "nbformat_minor": 1
}
