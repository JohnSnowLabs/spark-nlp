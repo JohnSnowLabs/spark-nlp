{
 "cells": [
  {
   "cell_type": "markdown",
   "metadata": {
    "id": "tzcU5p2gdak9"
   },
   "source": [
    "# Introducing Partition in SparkNLP\n",
    "This notebook showcases the newly added `Partition` component in Spark NLP\n",
    "providing a streamlined and user-friendly interface for interacting with Spark NLP readers"
   ]
  },
  {
   "cell_type": "markdown",
   "metadata": {
    "id": "RFOFhaEedalB"
   },
   "source": [
    "## Setup and Initialization\n",
    "Let's keep in mind a few things before we start 😊\n",
    "\n",
    "Support for **Partitioning** files was introduced in Spark NLP 6.0.1 Please make sure you have upgraded to the latest Spark NLP release.\n",
    "\n",
    "For local files example we will download different files from Spark NLP Github repo:"
   ]
  },
  {
   "cell_type": "markdown",
   "metadata": {
    "id": "joUGu23jq4m4"
   },
   "source": [
    "**Downloading HTML files**"
   ]
  },
  {
   "cell_type": "code",
   "execution_count": 7,
   "metadata": {
    "colab": {
     "base_uri": "https://localhost:8080/"
    },
    "id": "bo7s-jZVrE7W",
    "outputId": "0aae8d92-e593-4b7a-fe93-603c9f8b7de0"
   },
   "outputs": [
    {
     "name": "stdout",
     "output_type": "stream",
     "text": [
      "--2025-04-30 22:09:44--  https://raw.githubusercontent.com/JohnSnowLabs/spark-nlp/feature/SPARKNLP-1116-Adding-Partitioning-Documents-to-SparkNLP/src/test/resources/reader/html/example-10k.html\n",
      "Resolving raw.githubusercontent.com (raw.githubusercontent.com)... 185.199.108.133, 185.199.109.133, 185.199.110.133, ...\n",
      "Connecting to raw.githubusercontent.com (raw.githubusercontent.com)|185.199.108.133|:443... connected.\n",
      "HTTP request sent, awaiting response... 200 OK\n",
      "Length: 2456707 (2.3M) [text/plain]\n",
      "Saving to: ‘html-files/example-10k.html’\n",
      "\n",
      "\r",
      "example-10k.html      0%[                    ]       0  --.-KB/s               \r",
      "example-10k.html    100%[===================>]   2.34M  --.-KB/s    in 0.01s   \n",
      "\n",
      "2025-04-30 22:09:44 (165 MB/s) - ‘html-files/example-10k.html’ saved [2456707/2456707]\n",
      "\n",
      "--2025-04-30 22:09:45--  https://raw.githubusercontent.com/JohnSnowLabs/spark-nlp/feature/SPARKNLP-1116-Adding-Partitioning-Documents-to-SparkNLP/src/test/resources/reader/html/fake-html.html\n",
      "Resolving raw.githubusercontent.com (raw.githubusercontent.com)... 185.199.108.133, 185.199.109.133, 185.199.110.133, ...\n",
      "Connecting to raw.githubusercontent.com (raw.githubusercontent.com)|185.199.108.133|:443... connected.\n",
      "HTTP request sent, awaiting response... 200 OK\n",
      "Length: 665 [text/plain]\n",
      "Saving to: ‘html-files/fake-html.html’\n",
      "\n",
      "fake-html.html      100%[===================>]     665  --.-KB/s    in 0s      \n",
      "\n",
      "2025-04-30 22:09:45 (29.3 MB/s) - ‘html-files/fake-html.html’ saved [665/665]\n",
      "\n"
     ]
    }
   ],
   "source": [
    "!mkdir html-files\n",
    "!wget https://raw.githubusercontent.com/JohnSnowLabs/spark-nlp/master/src/test/resources/reader/html/example-10k.html -P html-files\n",
    "!wget https://raw.githubusercontent.com/JohnSnowLabs/spark-nlp/master/src/test/resources/reader/html/fake-html.html -P html-files"
   ]
  },
  {
   "cell_type": "markdown",
   "metadata": {
    "id": "CZP7vz-gn6Rl"
   },
   "source": [
    "**Downloading PDF files**"
   ]
  },
  {
   "cell_type": "code",
   "execution_count": 8,
   "metadata": {
    "colab": {
     "base_uri": "https://localhost:8080/"
    },
    "id": "ya8qZe00dalC",
    "outputId": "feb6d043-3c79-4b1b-b786-e8eeb5620dd1"
   },
   "outputs": [
    {
     "name": "stdout",
     "output_type": "stream",
     "text": [
      "--2025-04-30 22:09:45--  https://raw.githubusercontent.com/JohnSnowLabs/spark-nlp/feature/SPARKNLP-1116-Adding-Partitioning-Documents-to-SparkNLP/src/test/resources/reader/pdf/image_3_pages.pdf\n",
      "Resolving raw.githubusercontent.com (raw.githubusercontent.com)... 185.199.109.133, 185.199.111.133, 185.199.108.133, ...\n",
      "Connecting to raw.githubusercontent.com (raw.githubusercontent.com)|185.199.109.133|:443... connected.\n",
      "HTTP request sent, awaiting response... 200 OK\n",
      "Length: 15629 (15K) [application/octet-stream]\n",
      "Saving to: ‘pdf-files/image_3_pages.pdf’\n",
      "\n",
      "\r",
      "image_3_pages.pdf     0%[                    ]       0  --.-KB/s               \r",
      "image_3_pages.pdf   100%[===================>]  15.26K  --.-KB/s    in 0s      \n",
      "\n",
      "2025-04-30 22:09:45 (73.4 MB/s) - ‘pdf-files/image_3_pages.pdf’ saved [15629/15629]\n",
      "\n",
      "--2025-04-30 22:09:45--  https://raw.githubusercontent.com/JohnSnowLabs/spark-nlp/feature/SPARKNLP-1116-Adding-Partitioning-Documents-to-SparkNLP/src/test/resources/reader/pdf/pdf-title.pdf\n",
      "Resolving raw.githubusercontent.com (raw.githubusercontent.com)... 185.199.110.133, 185.199.111.133, 185.199.108.133, ...\n",
      "Connecting to raw.githubusercontent.com (raw.githubusercontent.com)|185.199.110.133|:443... connected.\n",
      "HTTP request sent, awaiting response... 200 OK\n",
      "Length: 25803 (25K) [application/octet-stream]\n",
      "Saving to: ‘pdf-files/pdf-title.pdf’\n",
      "\n",
      "pdf-title.pdf       100%[===================>]  25.20K  --.-KB/s    in 0s      \n",
      "\n",
      "2025-04-30 22:09:46 (85.3 MB/s) - ‘pdf-files/pdf-title.pdf’ saved [25803/25803]\n",
      "\n",
      "--2025-04-30 22:09:46--  https://raw.githubusercontent.com/JohnSnowLabs/spark-nlp/feature/SPARKNLP-1116-Adding-Partitioning-Documents-to-SparkNLP/src/test/resources/reader/pdf/text_3_pages.pdf\n",
      "Resolving raw.githubusercontent.com (raw.githubusercontent.com)... 185.199.110.133, 185.199.108.133, 185.199.109.133, ...\n",
      "Connecting to raw.githubusercontent.com (raw.githubusercontent.com)|185.199.110.133|:443... connected.\n",
      "HTTP request sent, awaiting response... 200 OK\n",
      "Length: 9487 (9.3K) [application/octet-stream]\n",
      "Saving to: ‘pdf-files/text_3_pages.pdf’\n",
      "\n",
      "text_3_pages.pdf    100%[===================>]   9.26K  --.-KB/s    in 0s      \n",
      "\n",
      "2025-04-30 22:09:46 (59.2 MB/s) - ‘pdf-files/text_3_pages.pdf’ saved [9487/9487]\n",
      "\n"
     ]
    }
   ],
   "source": [
    "!mkdir pdf-files\n",
    "!wget https://raw.githubusercontent.com/JohnSnowLabs/spark-nlp/master/src/test/resources/reader/pdf/image_3_pages.pdf -P pdf-files\n",
    "!wget https://raw.githubusercontent.com/JohnSnowLabs/spark-nlp/master/src/test/resources/reader/pdf/pdf-title.pdf -P pdf-files\n",
    "!wget https://raw.githubusercontent.com/JohnSnowLabs/spark-nlp/master/src/test/resources/reader/pdf/text_3_pages.pdf -P pdf-files"
   ]
  },
  {
   "cell_type": "markdown",
   "metadata": {
    "id": "l-uW6gV8pUYM"
   },
   "source": [
    "**Downloading Word files**"
   ]
  },
  {
   "cell_type": "code",
   "execution_count": 9,
   "metadata": {
    "colab": {
     "base_uri": "https://localhost:8080/"
    },
    "id": "zLLEUl3KpYZ6",
    "outputId": "8ce928fc-4879-4f76-dc12-e4c07f1c3a6b"
   },
   "outputs": [
    {
     "name": "stdout",
     "output_type": "stream",
     "text": [
      "--2025-04-30 22:09:46--  https://raw.githubusercontent.com/JohnSnowLabs/spark-nlp/feature/SPARKNLP-1116-Adding-Partitioning-Documents-to-SparkNLP/src/test/resources/reader/doc/contains-pictures.docx\n",
      "Resolving raw.githubusercontent.com (raw.githubusercontent.com)... 185.199.109.133, 185.199.108.133, 185.199.110.133, ...\n",
      "Connecting to raw.githubusercontent.com (raw.githubusercontent.com)|185.199.109.133|:443... connected.\n",
      "HTTP request sent, awaiting response... 200 OK\n",
      "Length: 95087 (93K) [application/octet-stream]\n",
      "Saving to: ‘word-files/contains-pictures.docx’\n",
      "\n",
      "\r",
      "contains-pictures.d   0%[                    ]       0  --.-KB/s               \r",
      "contains-pictures.d 100%[===================>]  92.86K  --.-KB/s    in 0.004s  \n",
      "\n",
      "2025-04-30 22:09:46 (22.7 MB/s) - ‘word-files/contains-pictures.docx’ saved [95087/95087]\n",
      "\n",
      "--2025-04-30 22:09:46--  https://raw.githubusercontent.com/JohnSnowLabs/spark-nlp/feature/SPARKNLP-1116-Adding-Partitioning-Documents-to-SparkNLP/src/test/resources/reader/doc/fake_table.docx\n",
      "Resolving raw.githubusercontent.com (raw.githubusercontent.com)... 185.199.108.133, 185.199.109.133, 185.199.110.133, ...\n",
      "Connecting to raw.githubusercontent.com (raw.githubusercontent.com)|185.199.108.133|:443... connected.\n",
      "HTTP request sent, awaiting response... 200 OK\n",
      "Length: 12392 (12K) [application/octet-stream]\n",
      "Saving to: ‘word-files/fake_table.docx’\n",
      "\n",
      "fake_table.docx     100%[===================>]  12.10K  --.-KB/s    in 0s      \n",
      "\n",
      "2025-04-30 22:09:46 (91.6 MB/s) - ‘word-files/fake_table.docx’ saved [12392/12392]\n",
      "\n",
      "--2025-04-30 22:09:46--  https://raw.githubusercontent.com/JohnSnowLabs/spark-nlp/feature/SPARKNLP-1116-Adding-Partitioning-Documents-to-SparkNLP/src/test/resources/reader/doc/page-breaks.docx\n",
      "Resolving raw.githubusercontent.com (raw.githubusercontent.com)... 185.199.108.133, 185.199.109.133, 185.199.110.133, ...\n",
      "Connecting to raw.githubusercontent.com (raw.githubusercontent.com)|185.199.108.133|:443... connected.\n",
      "HTTP request sent, awaiting response... 200 OK\n",
      "Length: 14584 (14K) [application/octet-stream]\n",
      "Saving to: ‘word-files/page-breaks.docx’\n",
      "\n",
      "page-breaks.docx    100%[===================>]  14.24K  --.-KB/s    in 0s      \n",
      "\n",
      "2025-04-30 22:09:46 (72.6 MB/s) - ‘word-files/page-breaks.docx’ saved [14584/14584]\n",
      "\n"
     ]
    }
   ],
   "source": [
    "!mkdir word-files\n",
    "!wget https://raw.githubusercontent.com/JohnSnowLabs/spark-nlp/master/src/test/resources/reader/doc/contains-pictures.docx -P word-files\n",
    "!wget https://raw.githubusercontent.com/JohnSnowLabs/spark-nlp/master/src/test/resources/reader/doc/fake_table.docx -P word-files\n",
    "!wget https://raw.githubusercontent.com/JohnSnowLabs/spark-nlp/master/src/test/resources/reader/doc/page-breaks.docx -P word-files"
   ]
  },
  {
   "cell_type": "markdown",
   "metadata": {
    "id": "40ts9-MmqNHp"
   },
   "source": [
    "**Downloading Excel files**"
   ]
  },
  {
   "cell_type": "code",
   "execution_count": 10,
   "metadata": {
    "colab": {
     "base_uri": "https://localhost:8080/"
    },
    "id": "G3-BCYP6qQ4x",
    "outputId": "577a5a15-c03e-4e4b-a660-7ed79a5081c1"
   },
   "outputs": [
    {
     "name": "stdout",
     "output_type": "stream",
     "text": [
      "--2025-04-30 22:09:47--  https://raw.githubusercontent.com/JohnSnowLabs/spark-nlp/feature/SPARKNLP-1116-Adding-Partitioning-Documents-to-SparkNLP/src/test/resources/reader/xls/vodafone.xlsx\n",
      "Resolving raw.githubusercontent.com (raw.githubusercontent.com)... 185.199.109.133, 185.199.110.133, 185.199.108.133, ...\n",
      "Connecting to raw.githubusercontent.com (raw.githubusercontent.com)|185.199.109.133|:443... connected.\n",
      "HTTP request sent, awaiting response... 200 OK\n",
      "Length: 12541 (12K) [application/octet-stream]\n",
      "Saving to: ‘excel-files/vodafone.xlsx’\n",
      "\n",
      "\r",
      "vodafone.xlsx         0%[                    ]       0  --.-KB/s               \r",
      "vodafone.xlsx       100%[===================>]  12.25K  --.-KB/s    in 0s      \n",
      "\n",
      "2025-04-30 22:09:47 (74.1 MB/s) - ‘excel-files/vodafone.xlsx’ saved [12541/12541]\n",
      "\n",
      "--2025-04-30 22:09:47--  https://raw.githubusercontent.com/JohnSnowLabs/spark-nlp/feature/SPARKNLP-1116-Adding-Partitioning-Documents-to-SparkNLP/src/test/resources/reader/xls/2023-half-year-analyses-by-segment.xlsx\n",
      "Resolving raw.githubusercontent.com (raw.githubusercontent.com)... 185.199.109.133, 185.199.111.133, 185.199.110.133, ...\n",
      "Connecting to raw.githubusercontent.com (raw.githubusercontent.com)|185.199.109.133|:443... connected.\n",
      "HTTP request sent, awaiting response... 200 OK\n",
      "Length: 38442 (38K) [application/octet-stream]\n",
      "Saving to: ‘excel-files/2023-half-year-analyses-by-segment.xlsx’\n",
      "\n",
      "2023-half-year-anal 100%[===================>]  37.54K  --.-KB/s    in 0.001s  \n",
      "\n",
      "2025-04-30 22:09:47 (28.8 MB/s) - ‘excel-files/2023-half-year-analyses-by-segment.xlsx’ saved [38442/38442]\n",
      "\n",
      "--2025-04-30 22:09:47--  https://raw.githubusercontent.com/JohnSnowLabs/spark-nlp/feature/SPARKNLP-1116-Adding-Partitioning-Documents-to-SparkNLP/src/test/resources/reader/xls/page-break-example.xlsx\n",
      "Resolving raw.githubusercontent.com (raw.githubusercontent.com)... 185.199.108.133, 185.199.109.133, 185.199.110.133, ...\n",
      "Connecting to raw.githubusercontent.com (raw.githubusercontent.com)|185.199.108.133|:443... connected.\n",
      "HTTP request sent, awaiting response... 200 OK\n",
      "Length: 10676 (10K) [application/octet-stream]\n",
      "Saving to: ‘excel-files/page-break-example.xlsx’\n",
      "\n",
      "page-break-example. 100%[===================>]  10.43K  --.-KB/s    in 0s      \n",
      "\n",
      "2025-04-30 22:09:47 (73.5 MB/s) - ‘excel-files/page-break-example.xlsx’ saved [10676/10676]\n",
      "\n",
      "--2025-04-30 22:09:47--  https://raw.githubusercontent.com/JohnSnowLabs/spark-nlp/feature/SPARKNLP-1116-Adding-Partitioning-Documents-to-SparkNLP/src/test/resources/reader/xls/xlsx-subtable-cases.xlsx\n",
      "Resolving raw.githubusercontent.com (raw.githubusercontent.com)... 185.199.108.133, 185.199.109.133, 185.199.110.133, ...\n",
      "Connecting to raw.githubusercontent.com (raw.githubusercontent.com)|185.199.108.133|:443... connected.\n",
      "HTTP request sent, awaiting response... 200 OK\n",
      "Length: 9210 (9.0K) [application/octet-stream]\n",
      "Saving to: ‘excel-files/xlsx-subtable-cases.xlsx’\n",
      "\n",
      "xlsx-subtable-cases 100%[===================>]   8.99K  --.-KB/s    in 0s      \n",
      "\n",
      "2025-04-30 22:09:47 (73.2 MB/s) - ‘excel-files/xlsx-subtable-cases.xlsx’ saved [9210/9210]\n",
      "\n"
     ]
    }
   ],
   "source": [
    "!mkdir excel-files\n",
    "!wget https://raw.githubusercontent.com/JohnSnowLabs/spark-nlp/master/src/test/resources/reader/xls/vodafone.xlsx -P excel-files\n",
    "!wget https://raw.githubusercontent.com/JohnSnowLabs/spark-nlp/master/src/test/resources/reader/xls/2023-half-year-analyses-by-segment.xlsx -P excel-files\n",
    "!wget https://raw.githubusercontent.com/JohnSnowLabs/spark-nlp/master/src/test/resources/reader/xls/page-break-example.xlsx -P excel-files\n",
    "!wget https://raw.githubusercontent.com/JohnSnowLabs/spark-nlp/master/src/test/resources/reader/xls/xlsx-subtable-cases.xlsx -P excel-files"
   ]
  },
  {
   "cell_type": "code",
   "execution_count": 11,
   "metadata": {
    "id": "LcSYn6q7jW9-"
   },
   "outputs": [],
   "source": [
    "!cp drive/MyDrive/JSL/PageBreakExample.xlsx ./excel-files"
   ]
  },
  {
   "cell_type": "markdown",
   "metadata": {
    "id": "A3lF0_7qqlZB"
   },
   "source": [
    "**Downloading PowerPoint files**"
   ]
  },
  {
   "cell_type": "code",
   "execution_count": 12,
   "metadata": {
    "colab": {
     "base_uri": "https://localhost:8080/"
    },
    "id": "1jDRFmcHqpxn",
    "outputId": "31e46ce4-c93d-45a9-cd53-2b0bb0594ce3"
   },
   "outputs": [
    {
     "name": "stdout",
     "output_type": "stream",
     "text": [
      "--2025-04-30 22:09:48--  https://raw.githubusercontent.com/JohnSnowLabs/spark-nlp/feature/SPARKNLP-1116-Adding-Partitioning-Documents-to-SparkNLP/src/test/resources/reader/ppt/fake-power-point.pptx\n",
      "Resolving raw.githubusercontent.com (raw.githubusercontent.com)... 185.199.109.133, 185.199.111.133, 185.199.108.133, ...\n",
      "Connecting to raw.githubusercontent.com (raw.githubusercontent.com)|185.199.109.133|:443... connected.\n",
      "HTTP request sent, awaiting response... 200 OK\n",
      "Length: 38412 (38K) [application/octet-stream]\n",
      "Saving to: ‘ppt-files/fake-power-point.pptx’\n",
      "\n",
      "\r",
      "fake-power-point.pp   0%[                    ]       0  --.-KB/s               \r",
      "fake-power-point.pp 100%[===================>]  37.51K  --.-KB/s    in 0.002s  \n",
      "\n",
      "2025-04-30 22:09:48 (16.0 MB/s) - ‘ppt-files/fake-power-point.pptx’ saved [38412/38412]\n",
      "\n",
      "--2025-04-30 22:09:48--  https://raw.githubusercontent.com/JohnSnowLabs/spark-nlp/feature/SPARKNLP-1116-Adding-Partitioning-Documents-to-SparkNLP/src/test/resources/reader/ppt/fake-power-point-table.pptx\n",
      "Resolving raw.githubusercontent.com (raw.githubusercontent.com)... 185.199.109.133, 185.199.111.133, 185.199.110.133, ...\n",
      "Connecting to raw.githubusercontent.com (raw.githubusercontent.com)|185.199.109.133|:443... connected.\n",
      "HTTP request sent, awaiting response... 200 OK\n",
      "Length: 39894 (39K) [application/octet-stream]\n",
      "Saving to: ‘ppt-files/fake-power-point-table.pptx’\n",
      "\n",
      "fake-power-point-ta 100%[===================>]  38.96K  --.-KB/s    in 0.001s  \n",
      "\n",
      "2025-04-30 22:09:48 (29.2 MB/s) - ‘ppt-files/fake-power-point-table.pptx’ saved [39894/39894]\n",
      "\n",
      "--2025-04-30 22:09:48--  https://raw.githubusercontent.com/JohnSnowLabs/spark-nlp/feature/SPARKNLP-1116-Adding-Partitioning-Documents-to-SparkNLP/src/test/resources/reader/ppt/speaker-notes.pptx\n",
      "Resolving raw.githubusercontent.com (raw.githubusercontent.com)... 185.199.111.133, 185.199.108.133, 185.199.110.133, ...\n",
      "Connecting to raw.githubusercontent.com (raw.githubusercontent.com)|185.199.111.133|:443... connected.\n",
      "HTTP request sent, awaiting response... 200 OK\n",
      "Length: 39414 (38K) [application/octet-stream]\n",
      "Saving to: ‘ppt-files/speaker-notes.pptx’\n",
      "\n",
      "speaker-notes.pptx  100%[===================>]  38.49K  --.-KB/s    in 0.003s  \n",
      "\n",
      "2025-04-30 22:09:49 (12.4 MB/s) - ‘ppt-files/speaker-notes.pptx’ saved [39414/39414]\n",
      "\n"
     ]
    }
   ],
   "source": [
    "!mkdir ppt-files\n",
    "!wget https://raw.githubusercontent.com/JohnSnowLabs/spark-nlp/master/src/test/resources/reader/ppt/fake-power-point.pptx -P ppt-files\n",
    "!wget https://raw.githubusercontent.com/JohnSnowLabs/spark-nlp/master/src/test/resources/reader/ppt/fake-power-point-table.pptx -P ppt-files\n",
    "!wget https://raw.githubusercontent.com/JohnSnowLabs/spark-nlp/master/src/test/resources/reader/ppt/speaker-notes.pptx -P ppt-files"
   ]
  },
  {
   "cell_type": "markdown",
   "metadata": {
    "id": "K3Fyab6wret-"
   },
   "source": [
    "**Downloading Email files**"
   ]
  },
  {
   "cell_type": "code",
   "execution_count": 13,
   "metadata": {
    "colab": {
     "base_uri": "https://localhost:8080/"
    },
    "id": "yYMVpVQurk7G",
    "outputId": "e07b1ecf-ed32-42a5-dfba-273e4a5e6c92"
   },
   "outputs": [
    {
     "name": "stdout",
     "output_type": "stream",
     "text": [
      "--2025-04-30 22:09:49--  https://raw.githubusercontent.com/JohnSnowLabs/spark-nlp/feature/SPARKNLP-1116-Adding-Partitioning-Documents-to-SparkNLP/src/test/resources/reader/email/email-text-attachments.eml\n",
      "Resolving raw.githubusercontent.com (raw.githubusercontent.com)... 185.199.108.133, 185.199.109.133, 185.199.110.133, ...\n",
      "Connecting to raw.githubusercontent.com (raw.githubusercontent.com)|185.199.108.133|:443... connected.\n",
      "HTTP request sent, awaiting response... 200 OK\n",
      "Length: 3175 (3.1K) [text/plain]\n",
      "Saving to: ‘email-files/email-text-attachments.eml’\n",
      "\n",
      "\r",
      "          email-tex   0%[                    ]       0  --.-KB/s               \r",
      "email-text-attachme 100%[===================>]   3.10K  --.-KB/s    in 0s      \n",
      "\n",
      "2025-04-30 22:09:49 (39.7 MB/s) - ‘email-files/email-text-attachments.eml’ saved [3175/3175]\n",
      "\n",
      "--2025-04-30 22:09:49--  https://raw.githubusercontent.com/JohnSnowLabs/spark-nlp/feature/SPARKNLP-1116-Adding-Partitioning-Documents-to-SparkNLP/src/test/resources/reader/email/test-several-attachments.eml\n",
      "Resolving raw.githubusercontent.com (raw.githubusercontent.com)... 185.199.108.133, 185.199.109.133, 185.199.110.133, ...\n",
      "Connecting to raw.githubusercontent.com (raw.githubusercontent.com)|185.199.108.133|:443... connected.\n",
      "HTTP request sent, awaiting response... 200 OK\n",
      "Length: 1324361 (1.3M) [text/plain]\n",
      "Saving to: ‘email-files/test-several-attachments.eml’\n",
      "\n",
      "test-several-attach 100%[===================>]   1.26M  --.-KB/s    in 0.01s   \n",
      "\n",
      "2025-04-30 22:09:49 (102 MB/s) - ‘email-files/test-several-attachments.eml’ saved [1324361/1324361]\n",
      "\n"
     ]
    }
   ],
   "source": [
    "!mkdir email-files\n",
    "!wget https://raw.githubusercontent.com/JohnSnowLabs/spark-nlp/master/src/test/resources/reader/email/email-text-attachments.eml -P email-files\n",
    "!wget https://raw.githubusercontent.com/JohnSnowLabs/spark-nlp/master/src/test/resources/reader/email/test-several-attachments.eml -P email-files"
   ]
  },
  {
   "cell_type": "markdown",
   "metadata": {
    "id": "ATDLz3Gws5ob"
   },
   "source": [
    "**Downloading Text files**"
   ]
  },
  {
   "cell_type": "code",
   "execution_count": 14,
   "metadata": {
    "colab": {
     "base_uri": "https://localhost:8080/"
    },
    "id": "AV-krG6Ps8pq",
    "outputId": "d42779f7-ef56-4a5f-d2e9-d8ae4fe61a70"
   },
   "outputs": [
    {
     "name": "stdout",
     "output_type": "stream",
     "text": [
      "--2025-04-30 22:09:49--  https://raw.githubusercontent.com/JohnSnowLabs/spark-nlp/feature/SPARKNLP-1116-Adding-Partitioning-Documents-to-SparkNLP/src/test/resources/reader/txt/simple-text.txt\n",
      "Resolving raw.githubusercontent.com (raw.githubusercontent.com)... 185.199.108.133, 185.199.109.133, 185.199.110.133, ...\n",
      "Connecting to raw.githubusercontent.com (raw.githubusercontent.com)|185.199.108.133|:443... connected.\n",
      "HTTP request sent, awaiting response... 200 OK\n",
      "Length: 300 [text/plain]\n",
      "Saving to: ‘txt-files/simple-text.txt’\n",
      "\n",
      "\r",
      "simple-text.txt       0%[                    ]       0  --.-KB/s               \r",
      "simple-text.txt     100%[===================>]     300  --.-KB/s    in 0s      \n",
      "\n",
      "2025-04-30 22:09:50 (5.08 MB/s) - ‘txt-files/simple-text.txt’ saved [300/300]\n",
      "\n"
     ]
    }
   ],
   "source": [
    "!mkdir txt-files\n",
    "!wget https://raw.githubusercontent.com/JohnSnowLabs/spark-nlp/master/src/test/resources/reader/txt/simple-text.txt -P txt-files"
   ]
  },
  {
   "cell_type": "markdown",
   "metadata": {
    "id": "EoFI66NAdalE"
   },
   "source": [
    "## Partitioning Documents\n",
    "Use the `Partition` component to parse text content from local directories."
   ]
  },
  {
   "cell_type": "code",
   "execution_count": 16,
   "metadata": {
    "colab": {
     "base_uri": "https://localhost:8080/"
    },
    "id": "bAkMjJ1vdalE",
    "outputId": "7871af58-2404-4bdd-878b-0520ae5477a5"
   },
   "outputs": [
    {
     "name": "stdout",
     "output_type": "stream",
     "text": [
      "Warning::Spark Session already created, some configs may not take.\n",
      "+--------------------+--------------------+\n",
      "|                path|                 txt|\n",
      "+--------------------+--------------------+\n",
      "|file:/content/txt...|[{Title, BIG DATA...|\n",
      "+--------------------+--------------------+\n",
      "\n"
     ]
    }
   ],
   "source": [
    "from sparknlp.partition.partition import Partition\n",
    "\n",
    "partition_df = Partition().partition(\"./txt-files/simple-text.txt\")\n",
    "partition_df.show()"
   ]
  },
  {
   "cell_type": "markdown",
   "metadata": {
    "id": "BK65i2RjJnqv"
   },
   "source": [
    "Partitioning a Word Document"
   ]
  },
  {
   "cell_type": "code",
   "execution_count": 17,
   "metadata": {
    "colab": {
     "base_uri": "https://localhost:8080/"
    },
    "id": "VWbUgoVQrO8m",
    "outputId": "bffaf811-ad2d-4105-8440-a16052085c54"
   },
   "outputs": [
    {
     "name": "stdout",
     "output_type": "stream",
     "text": [
      "Warning::Spark Session already created, some configs may not take.\n",
      "+--------------------+--------------------+\n",
      "|                path|                 doc|\n",
      "+--------------------+--------------------+\n",
      "|file:/content/wor...|[{Table, Header C...|\n",
      "+--------------------+--------------------+\n",
      "\n"
     ]
    }
   ],
   "source": [
    "partition_df = Partition().partition(\"./word-files/fake_table.docx\")\n",
    "partition_df.show()"
   ]
  },
  {
   "cell_type": "markdown",
   "metadata": {
    "id": "opi9m_4aJwLw"
   },
   "source": [
    "Partitioning an Excel Document"
   ]
  },
  {
   "cell_type": "code",
   "execution_count": 18,
   "metadata": {
    "colab": {
     "base_uri": "https://localhost:8080/"
    },
    "id": "YFzeGJJ3ICVM",
    "outputId": "2bef4f82-f43d-40c0-e4f5-c7ba14e1da32"
   },
   "outputs": [
    {
     "name": "stdout",
     "output_type": "stream",
     "text": [
      "Warning::Spark Session already created, some configs may not take.\n",
      "+--------------------+--------------------+\n",
      "|                path|                 doc|\n",
      "+--------------------+--------------------+\n",
      "|file:/content/wor...|[{Table, Header C...|\n",
      "+--------------------+--------------------+\n",
      "\n"
     ]
    }
   ],
   "source": [
    "partition_df = Partition().partition(\"./word-files/fake_table.docx\")\n",
    "partition_df.show()"
   ]
  },
  {
   "cell_type": "markdown",
   "metadata": {
    "id": "3t_tb2x_JxP_"
   },
   "source": [
    "Partitioning a Power Point Document"
   ]
  },
  {
   "cell_type": "code",
   "execution_count": 19,
   "metadata": {
    "colab": {
     "base_uri": "https://localhost:8080/"
    },
    "id": "y_xl0ahaJ0Hy",
    "outputId": "f75d94e7-556d-458d-9d67-9af443554a90"
   },
   "outputs": [
    {
     "name": "stdout",
     "output_type": "stream",
     "text": [
      "Warning::Spark Session already created, some configs may not take.\n",
      "+--------------------+--------------------+\n",
      "|                path|                 ppt|\n",
      "+--------------------+--------------------+\n",
      "|file:/content/ppt...|[{Title, Adding a...|\n",
      "+--------------------+--------------------+\n",
      "\n"
     ]
    }
   ],
   "source": [
    "partition_df = Partition().partition(\"./ppt-files/fake-power-point.pptx\")\n",
    "partition_df.show()"
   ]
  },
  {
   "cell_type": "markdown",
   "metadata": {
    "id": "-NBho92ZKPY6"
   },
   "source": [
    "Partitioning a Email Document"
   ]
  },
  {
   "cell_type": "code",
   "execution_count": 20,
   "metadata": {
    "colab": {
     "base_uri": "https://localhost:8080/"
    },
    "id": "4JnKvFe5KVDf",
    "outputId": "d1138b64-d835-4afd-cafe-c8d99fd226bc"
   },
   "outputs": [
    {
     "name": "stdout",
     "output_type": "stream",
     "text": [
      "Warning::Spark Session already created, some configs may not take.\n",
      "+--------------------+--------------------+\n",
      "|                path|               email|\n",
      "+--------------------+--------------------+\n",
      "|file:/content/ema...|[{Title, Test Sev...|\n",
      "+--------------------+--------------------+\n",
      "\n"
     ]
    }
   ],
   "source": [
    "partition_df = Partition().partition(\"./email-files/test-several-attachments.eml\")\n",
    "partition_df.show()"
   ]
  },
  {
   "cell_type": "markdown",
   "metadata": {
    "id": "w5cPzhzwKRCO"
   },
   "source": [
    "Partitioning an HTML Document"
   ]
  },
  {
   "cell_type": "code",
   "execution_count": 21,
   "metadata": {
    "colab": {
     "base_uri": "https://localhost:8080/"
    },
    "id": "_sldwjppKoPl",
    "outputId": "bf96abf8-738b-44e5-afb1-b776b31e6c2c"
   },
   "outputs": [
    {
     "name": "stdout",
     "output_type": "stream",
     "text": [
      "Warning::Spark Session already created, some configs may not take.\n",
      "+--------------------+--------------------+\n",
      "|                path|                html|\n",
      "+--------------------+--------------------+\n",
      "|file:/content/htm...|[{Title, My First...|\n",
      "+--------------------+--------------------+\n",
      "\n"
     ]
    }
   ],
   "source": [
    "partition_df = Partition().partition(\"./html-files/fake-html.html\")\n",
    "partition_df.show()"
   ]
  },
  {
   "cell_type": "markdown",
   "metadata": {
    "id": "4dtv3MYNKNhe"
   },
   "source": [
    "Partitioning a PDF Document"
   ]
  },
  {
   "cell_type": "code",
   "execution_count": 22,
   "metadata": {
    "colab": {
     "base_uri": "https://localhost:8080/"
    },
    "id": "GltbZAjmKwQs",
    "outputId": "a73de947-daf4-4cf0-c092-452b0ce82300"
   },
   "outputs": [
    {
     "name": "stdout",
     "output_type": "stream",
     "text": [
      "Warning::Spark Session already created, some configs may not take.\n",
      "+--------------------+--------------------+------+--------------------+----------------+---------------+-------+---------+-------+\n",
      "|                path|    modificationTime|length|                text|height_dimension|width_dimension|content|exception|pagenum|\n",
      "+--------------------+--------------------+------+--------------------+----------------+---------------+-------+---------+-------+\n",
      "|file:/content/pdf...|2025-04-30 22:09:...|  9487|This is a page.\\n...|             841|            595|   NULL|     NULL|      0|\n",
      "+--------------------+--------------------+------+--------------------+----------------+---------------+-------+---------+-------+\n",
      "\n"
     ]
    }
   ],
   "source": [
    "partition_df = Partition().partition(\"./pdf-files/text_3_pages.pdf\")\n",
    "partition_df.show()"
   ]
  },
  {
   "cell_type": "markdown",
   "metadata": {
    "id": "BB2FEfegGuxl"
   },
   "source": [
    "You can also use DFS file systems like:\n",
    "- Databricks: `dbfs://`\n",
    "- HDFS: `hdfs://`\n",
    "- Microsoft Fabric OneLake: `abfss://`"
   ]
  },
  {
   "cell_type": "markdown",
   "metadata": {
    "id": "C1KhfLcCPizR"
   },
   "source": [
    "### Configuration Parameters"
   ]
  },
  {
   "cell_type": "markdown",
   "metadata": {
    "id": "OUSSGmjrPnPY"
   },
   "source": [
    "The `Partition` feature allows you to extract content from various file formats while providing flexible customization using keyword arguments e.g. `kwargs`."
   ]
  },
  {
   "cell_type": "markdown",
   "metadata": {
    "id": "69oM1ydiZgiK"
   },
   "source": [
    "| Kwargs Option   | Document Type | Usage                              |\n",
    "|:---------------:|:-------------:|:----------------------------------:|\n",
    "| `content_type`  | All           | Override automatic file detection  |\n",
    "| `timeout` | HTML        | Set max wait time for URL requests     |\n",
    "| `include_page_breaks` | Word | Include HTML of tables |\n",
    "| `group_broken_paragraphs` | Text | Groups paragraphs by processing text that uses blank lines to separate paragraphs |\n",
    "| `include_slide_notes` | PowerPoint | Include speaker notes |\n",
    "| `infer_table_structure` | Excel | Include HTML version of the table |\n",
    "| `append_cells` | Excel | Instead of partitioning by cell returns all the data in one row |"
   ]
  },
  {
   "cell_type": "markdown",
   "metadata": {
    "id": "qH17yHvrcCwE"
   },
   "source": [
    "One important customization is specifying the content type explicitly using the `content_type` parameter. This helps bypass file identification and directly process files following the [MIME](https://developer.mozilla.org/en-US/docs/Web/HTTP/Basics_of_HTTP/MIME_types) specification."
   ]
  },
  {
   "cell_type": "code",
   "execution_count": 23,
   "metadata": {
    "colab": {
     "base_uri": "https://localhost:8080/"
    },
    "id": "gDJyUi_9R4fr",
    "outputId": "da28d288-1368-4971-8c61-7daec1dfcc09"
   },
   "outputs": [
    {
     "name": "stdout",
     "output_type": "stream",
     "text": [
      "Warning::Spark Session already created, some configs may not take.\n",
      "+--------------------+--------------------+\n",
      "|                path|                 doc|\n",
      "+--------------------+--------------------+\n",
      "|file:/content/wor...|[{Header, An inli...|\n",
      "|file:/content/wor...|[{Table, Header C...|\n",
      "|file:/content/wor...|[{NarrativeText, ...|\n",
      "+--------------------+--------------------+\n",
      "\n"
     ]
    }
   ],
   "source": [
    "partition_df = Partition(content_type = \"application/msword\").partition(\"./word-files\")\n",
    "partition_df.show()"
   ]
  },
  {
   "cell_type": "code",
   "execution_count": 24,
   "metadata": {
    "colab": {
     "base_uri": "https://localhost:8080/"
    },
    "id": "3vz48AHQHyON",
    "outputId": "0149cc0b-4bdb-4d67-d568-74a40700ef22"
   },
   "outputs": [
    {
     "name": "stdout",
     "output_type": "stream",
     "text": [
      "Warning::Spark Session already created, some configs may not take.\n",
      "+--------------------+--------------------+------+--------------------+----------------+---------------+-------+---------+-------+\n",
      "|                path|    modificationTime|length|                text|height_dimension|width_dimension|content|exception|pagenum|\n",
      "+--------------------+--------------------+------+--------------------+----------------+---------------+-------+---------+-------+\n",
      "|file:/content/pdf...|2025-04-30 22:09:...| 25803|This is a Title \\...|             842|            596|   NULL|     NULL|      0|\n",
      "|file:/content/pdf...|2025-04-30 22:09:...| 15629|              \\n\\n\\n|             841|            595|   NULL|     NULL|      0|\n",
      "|file:/content/pdf...|2025-04-30 22:09:...|  9487|This is a page.\\n...|             841|            595|   NULL|     NULL|      0|\n",
      "+--------------------+--------------------+------+--------------------+----------------+---------------+-------+---------+-------+\n",
      "\n"
     ]
    }
   ],
   "source": [
    "partition_df = Partition(content_type = \"application/pdf\").partition(\"./pdf-files\")\n",
    "partition_df.show()"
   ]
  },
  {
   "cell_type": "code",
   "execution_count": 25,
   "metadata": {
    "colab": {
     "base_uri": "https://localhost:8080/"
    },
    "id": "S50lqIFskNO3",
    "outputId": "96667ace-7e77-4f4b-d4dc-cea7fc1f40e3"
   },
   "outputs": [
    {
     "name": "stdout",
     "output_type": "stream",
     "text": [
      "Warning::Spark Session already created, some configs may not take.\n",
      "+-----------------------------------------------+--------------------------------------------------------------------------------------------------------------------------------------------------------------------------------------------------------------------------------------------------------------------------------------------------------------------------------------------------------------------------------------------------------------------------------------------------------------------------------------------------------------------------------------------------------------------------------------------------------------------------------+\n",
      "|path                                           |xls                                                                                                                                                                                                                                                                                                                                                                                                                                                                                                                                                                                                                             |\n",
      "+-----------------------------------------------+--------------------------------------------------------------------------------------------------------------------------------------------------------------------------------------------------------------------------------------------------------------------------------------------------------------------------------------------------------------------------------------------------------------------------------------------------------------------------------------------------------------------------------------------------------------------------------------------------------------------------------+\n",
      "|file:/content/excel-files/PageBreakExample.xlsx|[{Title, Date\\tFri Jul 19 00:00:00 UTC 2024, {location -> (0, 1), SheetName -> Sheet1}}, {Title, Assets\\t\\tDebts, {location -> (1, 4), SheetName -> Sheet1}}, {NarrativeText, Bank1\\t5865.43\\tCredit Card1\\t2000.0, {location -> (2, 5), SheetName -> Sheet1}}, {NarrativeText, Bank2\\t10140.19\\tCredit Card2\\t1500.0, {location -> (3, 5), SheetName -> Sheet1}}, {NarrativeText, Bank3\\t1200.0\\tCredit Card3\\t348.0, {location -> (4, 5), SheetName -> Sheet1}}, {Title, Bank4\\t1438.27\\tTotal\\tSUM(F3:F5), {location -> (5, 5), SheetName -> Sheet1}}, {Title, Total\\tSUM(B3:B6), {location -> (6, 1), SheetName -> Sheet1}}]|\n",
      "+-----------------------------------------------+--------------------------------------------------------------------------------------------------------------------------------------------------------------------------------------------------------------------------------------------------------------------------------------------------------------------------------------------------------------------------------------------------------------------------------------------------------------------------------------------------------------------------------------------------------------------------------------------------------------------------------+\n",
      "\n"
     ]
    }
   ],
   "source": [
    "partition_df = Partition(content_type = \"application/vnd.ms-excel\").partition(\"./excel-files/PageBreakExample.xlsx\")\n",
    "partition_df.show(truncate=False)"
   ]
  },
  {
   "cell_type": "markdown",
   "metadata": {
    "id": "b8Tk-kc8GGzx"
   },
   "source": [
    "The `timeout` parameter lets you define how long to wait (in seconds) for a response when fetching HTML content, preventing long stalls on slow or unresponsive sites."
   ]
  },
  {
   "cell_type": "code",
   "execution_count": 26,
   "metadata": {
    "colab": {
     "base_uri": "https://localhost:8080/"
    },
    "id": "_2J0zEmma8jm",
    "outputId": "c3fdbf85-018e-47a6-c6cd-21904cb98580"
   },
   "outputs": [
    {
     "name": "stdout",
     "output_type": "stream",
     "text": [
      "Warning::Spark Session already created, some configs may not take.\n",
      "+------------------------+------------------------------------------------------------------------------------------------------------------------------------------------------------------------------------------------------------------------------------------------------------------------------------------------------------------------------------------------------------------------------------------------------------------------------------------------------------------------------------------------------------------------------------------------------------------------------------------------------------------------------------------------------------------------------------------------------------------------------------------------------------------------------------------------------------------------------------------------------------------------------------------------------------------------------------------------------------------------------------------------------------------------------------------------------------------------------------------------------------------------------------------------------------------------------------------------------------------------------------------------------------------------------------------------------------------------------------------------------------------------------------------------------------------------------------------------------------------------------------------------------------------------------------------------------------------------------------------------------------------------------------------------------------------------------------------------------------------------------------------------------------------------------------------------------------------------------------------------------------------------------------------------------------------------------------------------------------------------------------------------------------------------------------------------------------------------------------------------------------------------------------------------------------------------------------------------------------------------------------------------------------------------------------------------------------------------------------------------------------------------------------------------------------------------------------------------------------------------------------------------------------------------------------------------------------------------------------------------------------------------------------------------------------------------------------------------------------------------------------------------------------------------------------------------------------------------------------------------------------------------------------------------------------------------------------------------------------------------------------------------------------------------------------------------------------------------------------------------------------------------------------------------------------------------------------------------------------------------------------------------------------------------------------------------------------------------------------------------------------------------------------------------------------------------------------------------------------------------------------------------------------------------------------------------------------------------------------------------------------------------------------------------------------------------------------------------------------------------------------------------------------------------------------------------------------------------------------------------------------------------------------------------------------------------------------------------------------------------------------------------------------------------------------------------------------------------------------------------------------------------------------------------------------------------------------------------------------------------------------------------------------------------------------------------------------------------------------------------------------------------------------------------------------------------------------------------------------------------------------------------------------------------------------------------------------------------------------------------------------------------------------------------------------------------------------------------------------------------------------------------------------------------------------------------------------------------------------------------------------------------------------------------------------------------------------------------------------------------------------------------------------------------------------------------------------------------------------------------------------------------------------------------------------------------------------------------------------------------------------------------------------------------------------------------------------------------------------------------------------------------------------------------------------------------------------------------------------------------------------------------------------------------------------------------------------------------------------------------------------------------------------------------------------------------------------------------------------------------------------------------------------------------------------------------------------------------------------------------------------------------------------------------------------------------------------------------------------------------------------------------------------------------------------------------------------------------------------------------------------------------------------------------------------------------------------------------------------------------------------------------------------------------------------------------------------------------------------------------------------------------------------------------------------------------------------------------------------------------------------------------------------------------------------------------------------------------------------------------------------------------------------------------------------------------------------------------------------------------------------------------------------------------------------------------------------------------------------------------------------------------------------------------------------------------------------------------------------------------------------------------------------------------------------------------------------------------------------------------------------------------------------------------------------------------------------------------------------------------------------------------------------------------------------------------------------------------------------------------------------------------------------------------------------------------------------------------------------------------------------------------------------------------------------------------------------------------------------------------------------------------------------------------------------------------------------------------------------------------------------------------------------------------------------------------------------------------------------------------------------------------------------------------------------------------------------------------------------------------------------------------------------------------------------------------------------------------------------------------------------------------------------------------------------------------------------------------------------------------------------------------------------------------------------------------------------------------------------------------------------------------------------------------------------------------------------------------------------------------------------------------------------------------------------------------------------------------------------------------------------------------------------------------------------------------------------------------------------------------------------------------------------------------------------------------------------------------------------------------------------------------------------------------------------------------------------------------------------------------------------------------------------------------------------------------------------------------------------------------------------------------------------------------------------------------------------------------------------------------------------------------------------------------------------------------------------------------------------------------------------------------------------------------------------------------------------------------------------------------------------------------------------------------------------------------------------------------------------------------------------------------------------------------------------------------------------------------------------------------------------------------------------------------------------------------------------------------------------------------------------------------------------------------------------------------------------------------------------------------------------------------------------------------------------------------------------------------------------------------------------------------------------------------------------------------------------------------------------------------------------------------------------------------------------------------------------------------------------------------------------------------------------------------------------------------------------------------------------------------------------------------------------------------------------------------------------------------------------------------------------------------------------------------------------------------------------------------------------------------------------------------------------------------------------------------------------------------------------------------------------------------------------------------------------------------------------------------------------------------------------------------------------------------------------------------------------------------------------------------------------------------------------------------------------------------------------------------------------------------------------------------------------------------------------------------------------------------------------------------------------------------------------------------------------------------------------------------------------------------------------------------------------------------------------------------+\n",
      "|url                     |html                                                                                                                                                                                                                                                                                                                                                                                                                                                                                                                                                                                                                                                                                                                                                                                                                                                                                                                                                                                                                                                                                                                                                                                                                                                                                                                                                                                                                                                                                                                                                                                                                                                                                                                                                                                                                                                                                                                                                                                                                                                                                                                                                                                                                                                                                                                                                                                                                                                                                                                                                                                                                                                                                                                                                                                                                                                                                                                                                                                                                                                                                                                                                                                                                                                                                                                                                                                                                                                                                                                                                                                                                                                                                                                                                                                                                                                                                                                                                                                                                                                                                                                                                                                                                                                                                                                                                                                                                                                                                                                                                                                                                                                                                                                                                                                                                                                                                                                                                                                                                                                                                                                                                                                                                                                                                                                                                                                                                                                                                                                                                                                                                                                                                                                                                                                                                                                                                                                                                                                                                                                                                                                                                                                                                                                                                                                                                                                                                                                                                                                                                                                                                                                                                                                                                                                                                                                                                                                                                                                                                                                                                                                                                                                                                                                                                                                                                                                                                                                                                                                                                                                                                                                                                                                                                                                                                                                                                                                                                                                                                                                                                                                                                                                                                                                                                                                                                                                                                                                                                                                                                                                                                                                                                                                                                                                                                                                                                                                                                                                                                                                                                                                                                                                                                                                                                                                                                                                                                                                                                                                                                                                                                                                                                                                                                                                                                                                                                                                                                                                                                                                                                                                                                                                                                                                                                                                                                                                                                                                                                                                                                                                                                                                                                                                                                                                                                                                                                                                                                                                                                                                                                                                                                                                                                                                                                                                                                                                                                                                                                                                                            |\n",
      "+------------------------+------------------------------------------------------------------------------------------------------------------------------------------------------------------------------------------------------------------------------------------------------------------------------------------------------------------------------------------------------------------------------------------------------------------------------------------------------------------------------------------------------------------------------------------------------------------------------------------------------------------------------------------------------------------------------------------------------------------------------------------------------------------------------------------------------------------------------------------------------------------------------------------------------------------------------------------------------------------------------------------------------------------------------------------------------------------------------------------------------------------------------------------------------------------------------------------------------------------------------------------------------------------------------------------------------------------------------------------------------------------------------------------------------------------------------------------------------------------------------------------------------------------------------------------------------------------------------------------------------------------------------------------------------------------------------------------------------------------------------------------------------------------------------------------------------------------------------------------------------------------------------------------------------------------------------------------------------------------------------------------------------------------------------------------------------------------------------------------------------------------------------------------------------------------------------------------------------------------------------------------------------------------------------------------------------------------------------------------------------------------------------------------------------------------------------------------------------------------------------------------------------------------------------------------------------------------------------------------------------------------------------------------------------------------------------------------------------------------------------------------------------------------------------------------------------------------------------------------------------------------------------------------------------------------------------------------------------------------------------------------------------------------------------------------------------------------------------------------------------------------------------------------------------------------------------------------------------------------------------------------------------------------------------------------------------------------------------------------------------------------------------------------------------------------------------------------------------------------------------------------------------------------------------------------------------------------------------------------------------------------------------------------------------------------------------------------------------------------------------------------------------------------------------------------------------------------------------------------------------------------------------------------------------------------------------------------------------------------------------------------------------------------------------------------------------------------------------------------------------------------------------------------------------------------------------------------------------------------------------------------------------------------------------------------------------------------------------------------------------------------------------------------------------------------------------------------------------------------------------------------------------------------------------------------------------------------------------------------------------------------------------------------------------------------------------------------------------------------------------------------------------------------------------------------------------------------------------------------------------------------------------------------------------------------------------------------------------------------------------------------------------------------------------------------------------------------------------------------------------------------------------------------------------------------------------------------------------------------------------------------------------------------------------------------------------------------------------------------------------------------------------------------------------------------------------------------------------------------------------------------------------------------------------------------------------------------------------------------------------------------------------------------------------------------------------------------------------------------------------------------------------------------------------------------------------------------------------------------------------------------------------------------------------------------------------------------------------------------------------------------------------------------------------------------------------------------------------------------------------------------------------------------------------------------------------------------------------------------------------------------------------------------------------------------------------------------------------------------------------------------------------------------------------------------------------------------------------------------------------------------------------------------------------------------------------------------------------------------------------------------------------------------------------------------------------------------------------------------------------------------------------------------------------------------------------------------------------------------------------------------------------------------------------------------------------------------------------------------------------------------------------------------------------------------------------------------------------------------------------------------------------------------------------------------------------------------------------------------------------------------------------------------------------------------------------------------------------------------------------------------------------------------------------------------------------------------------------------------------------------------------------------------------------------------------------------------------------------------------------------------------------------------------------------------------------------------------------------------------------------------------------------------------------------------------------------------------------------------------------------------------------------------------------------------------------------------------------------------------------------------------------------------------------------------------------------------------------------------------------------------------------------------------------------------------------------------------------------------------------------------------------------------------------------------------------------------------------------------------------------------------------------------------------------------------------------------------------------------------------------------------------------------------------------------------------------------------------------------------------------------------------------------------------------------------------------------------------------------------------------------------------------------------------------------------------------------------------------------------------------------------------------------------------------------------------------------------------------------------------------------------------------------------------------------------------------------------------------------------------------------------------------------------------------------------------------------------------------------------------------------------------------------------------------------------------------------------------------------------------------------------------------------------------------------------------------------------------------------------------------------------------------------------------------------------------------------------------------------------------------------------------------------------------------------------------------------------------------------------------------------------------------------------------------------------------------------------------------------------------------------------------------------------------------------------------------------------------------------------------------------------------------------------------------------------------------------------------------------------------------------------------------------------------------------------------------------------------------------------------------------------------------------------------------------------------------------------------------------------------------------------------------------------------------------------------------------------------------------------------------------------------------------------------------------------------------------------------------------------------------------------------------------------------------------------------------------------------------------------------------------------------------------------------------------------------------------------------------------------------------------------------------------------------------------------------------------------------------------------------------------------------------------------------------------------------------------------------------------------------------------------------------------------------------------------------------------------------------------------------------------------------------------------------------------------------------------------------------------------------------------------------------------------------------------------------------------------------------------------------------------------------------------------------------------------+\n",
      "|https://www.blizzard.com|[{Title, Featured Games, {pageNumber -> 1}}, {Title, World of Warcraft: Mists of Pandaria Classic, {pageNumber -> 1}}, {NarrativeText, MMORPG, {pageNumber -> 1}}, {Title, World of Warcraft: Mists of Pandaria Classic, {pageNumber -> 1}}, {NarrativeText, MMORPG, {pageNumber -> 1}}, {Title, Warcraft I: Remastered, {pageNumber -> 1}}, {NarrativeText, Real-Time Strategy, {pageNumber -> 1}}, {Title, Warcraft I: Remastered, {pageNumber -> 1}}, {NarrativeText, Real-Time Strategy, {pageNumber -> 1}}, {Title, Warcraft II: Remastered, {pageNumber -> 1}}, {NarrativeText, Real-Time Strategy, {pageNumber -> 1}}, {Title, Warcraft II: Remastered, {pageNumber -> 1}}, {NarrativeText, Real-Time Strategy, {pageNumber -> 1}}, {Title, Warcraft III: Reforged, {pageNumber -> 1}}, {NarrativeText, Real-Time Strategy, {pageNumber -> 1}}, {Title, Warcraft III: Reforged, {pageNumber -> 1}}, {NarrativeText, Real-Time Strategy, {pageNumber -> 1}}, {Title, Diablo IV: Vessel of Hatred, {pageNumber -> 1}}, {NarrativeText, Action RPG, {pageNumber -> 1}}, {Title, Diablo IV: Vessel of Hatred, {pageNumber -> 1}}, {NarrativeText, Action RPG, {pageNumber -> 1}}, {Title, World of Warcraft: The War Within, {pageNumber -> 1}}, {NarrativeText, MMORPG, {pageNumber -> 1}}, {Title, World of Warcraft: The War Within, {pageNumber -> 1}}, {NarrativeText, MMORPG, {pageNumber -> 1}}, {Title, Warcraft Rumble, {pageNumber -> 1}}, {NarrativeText, Mobile Action Strategy, {pageNumber -> 1}}, {Title, Warcraft Rumble, {pageNumber -> 1}}, {NarrativeText, Mobile Action Strategy, {pageNumber -> 1}}, {Title, World of Warcraft, {pageNumber -> 1}}, {NarrativeText, MMORPG, {pageNumber -> 1}}, {Title, World of Warcraft, {pageNumber -> 1}}, {NarrativeText, MMORPG, {pageNumber -> 1}}, {Title, Overwatch 2, {pageNumber -> 1}}, {NarrativeText, Team-Based Action, {pageNumber -> 1}}, {Title, Overwatch 2, {pageNumber -> 1}}, {NarrativeText, Team-Based Action, {pageNumber -> 1}}, {Title, Hearthstone, {pageNumber -> 1}}, {NarrativeText, Strategy Card Game, {pageNumber -> 1}}, {Title, Hearthstone, {pageNumber -> 1}}, {NarrativeText, Strategy Card Game, {pageNumber -> 1}}, {Title, World of Warcraft: Mists of Pandaria Classic, {pageNumber -> 1}}, {NarrativeText, MMORPG, {pageNumber -> 1}}, {Title, World of Warcraft: Mists of Pandaria Classic, {pageNumber -> 1}}, {NarrativeText, MMORPG, {pageNumber -> 1}}, {Title, Warcraft II: Remastered, {pageNumber -> 1}}, {NarrativeText, Real-Time Strategy, {pageNumber -> 1}}, {Title, Warcraft II: Remastered, {pageNumber -> 1}}, {NarrativeText, Real-Time Strategy, {pageNumber -> 1}}, {Title, Warcraft I: Remastered, {pageNumber -> 1}}, {NarrativeText, Real-Time Strategy, {pageNumber -> 1}}, {Title, Warcraft I: Remastered, {pageNumber -> 1}}, {NarrativeText, Real-Time Strategy, {pageNumber -> 1}}, {Title, Warcraft III: Reforged, {pageNumber -> 1}}, {NarrativeText, Real-Time Strategy, {pageNumber -> 1}}, {Title, Warcraft III: Reforged, {pageNumber -> 1}}, {NarrativeText, Real-Time Strategy, {pageNumber -> 1}}, {Title, Diablo IV: Vessel of Hatred, {pageNumber -> 1}}, {NarrativeText, Action RPG, {pageNumber -> 1}}, {Title, Diablo IV: Vessel of Hatred, {pageNumber -> 1}}, {NarrativeText, Action RPG, {pageNumber -> 1}}, {Title, Warcraft Rumble, {pageNumber -> 1}}, {NarrativeText, Mobile Action Strategy, {pageNumber -> 1}}, {Title, Warcraft Rumble, {pageNumber -> 1}}, {NarrativeText, Mobile Action Strategy, {pageNumber -> 1}}, {Title, World of Warcraft: The War Within, {pageNumber -> 1}}, {NarrativeText, MMORPG, {pageNumber -> 1}}, {Title, World of Warcraft: The War Within, {pageNumber -> 1}}, {NarrativeText, MMORPG, {pageNumber -> 1}}, {Title, World of Warcraft, {pageNumber -> 1}}, {NarrativeText, MMORPG, {pageNumber -> 1}}, {Title, World of Warcraft, {pageNumber -> 1}}, {NarrativeText, MMORPG, {pageNumber -> 1}}, {Title, Overwatch 2, {pageNumber -> 1}}, {NarrativeText, Team-Based Action, {pageNumber -> 1}}, {Title, Overwatch 2, {pageNumber -> 1}}, {NarrativeText, Team-Based Action, {pageNumber -> 1}}, {Title, Hearthstone, {pageNumber -> 1}}, {NarrativeText, Strategy Card Game, {pageNumber -> 1}}, {Title, Hearthstone, {pageNumber -> 1}}, {NarrativeText, Strategy Card Game, {pageNumber -> 1}}, {Title, World of Warcraft: Mists of Pandaria Classic, {pageNumber -> 1}}, {NarrativeText, MMORPG, {pageNumber -> 1}}, {Title, World of Warcraft: Mists of Pandaria Classic, {pageNumber -> 1}}, {NarrativeText, MMORPG, {pageNumber -> 1}}, {Title, Warcraft I: Remastered, {pageNumber -> 1}}, {NarrativeText, Real-Time Strategy, {pageNumber -> 1}}, {Title, Warcraft I: Remastered, {pageNumber -> 1}}, {NarrativeText, Real-Time Strategy, {pageNumber -> 1}}, {Title, Warcraft II: Remastered, {pageNumber -> 1}}, {NarrativeText, Real-Time Strategy, {pageNumber -> 1}}, {Title, Warcraft II: Remastered, {pageNumber -> 1}}, {NarrativeText, Real-Time Strategy, {pageNumber -> 1}}, {Title, Warcraft III: Reforged, {pageNumber -> 1}}, {NarrativeText, Real-Time Strategy, {pageNumber -> 1}}, {Title, Warcraft III: Reforged, {pageNumber -> 1}}, {NarrativeText, Real-Time Strategy, {pageNumber -> 1}}, {Title, Diablo IV: Vessel of Hatred, {pageNumber -> 1}}, {NarrativeText, Action RPG, {pageNumber -> 1}}, {Title, Diablo IV: Vessel of Hatred, {pageNumber -> 1}}, {NarrativeText, Action RPG, {pageNumber -> 1}}, {Title, World of Warcraft: The War Within, {pageNumber -> 1}}, {NarrativeText, MMORPG, {pageNumber -> 1}}, {Title, World of Warcraft: The War Within, {pageNumber -> 1}}, {NarrativeText, MMORPG, {pageNumber -> 1}}, {Title, Diablo IV, {pageNumber -> 1}}, {NarrativeText, Action RPG, {pageNumber -> 1}}, {Title, Diablo IV, {pageNumber -> 1}}, {NarrativeText, Action RPG, {pageNumber -> 1}}, {Title, Warcraft Rumble, {pageNumber -> 1}}, {NarrativeText, Mobile Action Strategy, {pageNumber -> 1}}, {Title, Warcraft Rumble, {pageNumber -> 1}}, {NarrativeText, Mobile Action Strategy, {pageNumber -> 1}}, {Title, World of Warcraft, {pageNumber -> 1}}, {NarrativeText, MMORPG, {pageNumber -> 1}}, {Title, World of Warcraft, {pageNumber -> 1}}, {NarrativeText, MMORPG, {pageNumber -> 1}}, {Title, Overwatch 2, {pageNumber -> 1}}, {NarrativeText, Team-Based Action, {pageNumber -> 1}}, {Title, Overwatch 2, {pageNumber -> 1}}, {NarrativeText, Team-Based Action, {pageNumber -> 1}}, {Title, World of Warcraft: Mists of Pandaria Classic, {pageNumber -> 1}}, {NarrativeText, MMORPG, {pageNumber -> 1}}, {Title, World of Warcraft: Mists of Pandaria Classic, {pageNumber -> 1}}, {NarrativeText, MMORPG, {pageNumber -> 1}}, {Title, Warcraft II: Remastered, {pageNumber -> 1}}, {NarrativeText, Real-Time Strategy, {pageNumber -> 1}}, {Title, Warcraft II: Remastered, {pageNumber -> 1}}, {NarrativeText, Real-Time Strategy, {pageNumber -> 1}}, {Title, Warcraft I: Remastered, {pageNumber -> 1}}, {NarrativeText, Real-Time Strategy, {pageNumber -> 1}}, {Title, Warcraft I: Remastered, {pageNumber -> 1}}, {NarrativeText, Real-Time Strategy, {pageNumber -> 1}}, {Title, Warcraft III: Reforged, {pageNumber -> 1}}, {NarrativeText, Real-Time Strategy, {pageNumber -> 1}}, {Title, Warcraft III: Reforged, {pageNumber -> 1}}, {NarrativeText, Real-Time Strategy, {pageNumber -> 1}}, {Title, Diablo IV: Vessel of Hatred, {pageNumber -> 1}}, {NarrativeText, Action RPG, {pageNumber -> 1}}, {Title, Diablo IV: Vessel of Hatred, {pageNumber -> 1}}, {NarrativeText, Action RPG, {pageNumber -> 1}}, {Title, Diablo IV, {pageNumber -> 1}}, {NarrativeText, Action RPG, {pageNumber -> 1}}, {Title, Diablo IV, {pageNumber -> 1}}, {NarrativeText, Action RPG, {pageNumber -> 1}}, {Title, World of Warcraft: The War Within, {pageNumber -> 1}}, {NarrativeText, MMORPG, {pageNumber -> 1}}, {Title, World of Warcraft: The War Within, {pageNumber -> 1}}, {NarrativeText, MMORPG, {pageNumber -> 1}}, {Title, Warcraft Rumble, {pageNumber -> 1}}, {NarrativeText, Mobile Action Strategy, {pageNumber -> 1}}, {Title, Warcraft Rumble, {pageNumber -> 1}}, {NarrativeText, Mobile Action Strategy, {pageNumber -> 1}}, {Title, World of Warcraft, {pageNumber -> 1}}, {NarrativeText, MMORPG, {pageNumber -> 1}}, {Title, World of Warcraft, {pageNumber -> 1}}, {NarrativeText, MMORPG, {pageNumber -> 1}}, {Title, Overwatch 2, {pageNumber -> 1}}, {NarrativeText, Team-Based Action, {pageNumber -> 1}}, {Title, Overwatch 2, {pageNumber -> 1}}, {NarrativeText, Team-Based Action, {pageNumber -> 1}}, {Title, Diablo IV: Vessel of Hatred, {pageNumber -> 1}}, {NarrativeText, Action RPG, {pageNumber -> 1}}, {Title, Diablo IV: Vessel of Hatred, {pageNumber -> 1}}, {NarrativeText, Action RPG, {pageNumber -> 1}}, {Title, Diablo IV, {pageNumber -> 1}}, {NarrativeText, Action RPG, {pageNumber -> 1}}, {Title, Diablo IV, {pageNumber -> 1}}, {NarrativeText, Action RPG, {pageNumber -> 1}}, {Title, Overwatch 2, {pageNumber -> 1}}, {NarrativeText, Team-Based Action, {pageNumber -> 1}}, {Title, Overwatch 2, {pageNumber -> 1}}, {NarrativeText, Team-Based Action, {pageNumber -> 1}}, {Title, Diablo II: Resurrected, {pageNumber -> 1}}, {NarrativeText, Action RPG, {pageNumber -> 1}}, {Title, Diablo II: Resurrected, {pageNumber -> 1}}, {NarrativeText, Action RPG, {pageNumber -> 1}}, {Title, Diablo IV: Vessel of Hatred, {pageNumber -> 1}}, {NarrativeText, Action RPG, {pageNumber -> 1}}, {Title, Diablo IV: Vessel of Hatred, {pageNumber -> 1}}, {NarrativeText, Action RPG, {pageNumber -> 1}}, {Title, Diablo IV, {pageNumber -> 1}}, {NarrativeText, Action RPG, {pageNumber -> 1}}, {Title, Diablo IV, {pageNumber -> 1}}, {NarrativeText, Action RPG, {pageNumber -> 1}}, {Title, Overwatch 2, {pageNumber -> 1}}, {NarrativeText, Team-Based Action, {pageNumber -> 1}}, {Title, Overwatch 2, {pageNumber -> 1}}, {NarrativeText, Team-Based Action, {pageNumber -> 1}}, {Title, Diablo II: Resurrected, {pageNumber -> 1}}, {NarrativeText, Action RPG, {pageNumber -> 1}}, {Title, Diablo II: Resurrected, {pageNumber -> 1}}, {NarrativeText, Action RPG, {pageNumber -> 1}}, {Title, Warcraft Rumble, {pageNumber -> 1}}, {NarrativeText, Mobile Action Strategy, {pageNumber -> 1}}, {Title, Warcraft Rumble, {pageNumber -> 1}}, {NarrativeText, Mobile Action Strategy, {pageNumber -> 1}}, {Title, Hearthstone, {pageNumber -> 1}}, {NarrativeText, Strategy Card Game, {pageNumber -> 1}}, {Title, Hearthstone, {pageNumber -> 1}}, {NarrativeText, Strategy Card Game, {pageNumber -> 1}}, {Title, Diablo Immortal, {pageNumber -> 1}}, {NarrativeText, Action RPG, {pageNumber -> 1}}, {Title, Diablo Immortal, {pageNumber -> 1}}, {NarrativeText, Action RPG, {pageNumber -> 1}}, {Title, Warcraft Rumble, {pageNumber -> 1}}, {NarrativeText, Mobile Action Strategy, {pageNumber -> 1}}, {Title, Warcraft Rumble, {pageNumber -> 1}}, {NarrativeText, Mobile Action Strategy, {pageNumber -> 1}}, {Title, Hearthstone, {pageNumber -> 1}}, {NarrativeText, Strategy Card Game, {pageNumber -> 1}}, {Title, Hearthstone, {pageNumber -> 1}}, {NarrativeText, Strategy Card Game, {pageNumber -> 1}}, {Title, Diablo Immortal, {pageNumber -> 1}}, {NarrativeText, Action RPG, {pageNumber -> 1}}, {Title, Diablo Immortal, {pageNumber -> 1}}, {NarrativeText, Action RPG, {pageNumber -> 1}}]|\n",
      "+------------------------+------------------------------------------------------------------------------------------------------------------------------------------------------------------------------------------------------------------------------------------------------------------------------------------------------------------------------------------------------------------------------------------------------------------------------------------------------------------------------------------------------------------------------------------------------------------------------------------------------------------------------------------------------------------------------------------------------------------------------------------------------------------------------------------------------------------------------------------------------------------------------------------------------------------------------------------------------------------------------------------------------------------------------------------------------------------------------------------------------------------------------------------------------------------------------------------------------------------------------------------------------------------------------------------------------------------------------------------------------------------------------------------------------------------------------------------------------------------------------------------------------------------------------------------------------------------------------------------------------------------------------------------------------------------------------------------------------------------------------------------------------------------------------------------------------------------------------------------------------------------------------------------------------------------------------------------------------------------------------------------------------------------------------------------------------------------------------------------------------------------------------------------------------------------------------------------------------------------------------------------------------------------------------------------------------------------------------------------------------------------------------------------------------------------------------------------------------------------------------------------------------------------------------------------------------------------------------------------------------------------------------------------------------------------------------------------------------------------------------------------------------------------------------------------------------------------------------------------------------------------------------------------------------------------------------------------------------------------------------------------------------------------------------------------------------------------------------------------------------------------------------------------------------------------------------------------------------------------------------------------------------------------------------------------------------------------------------------------------------------------------------------------------------------------------------------------------------------------------------------------------------------------------------------------------------------------------------------------------------------------------------------------------------------------------------------------------------------------------------------------------------------------------------------------------------------------------------------------------------------------------------------------------------------------------------------------------------------------------------------------------------------------------------------------------------------------------------------------------------------------------------------------------------------------------------------------------------------------------------------------------------------------------------------------------------------------------------------------------------------------------------------------------------------------------------------------------------------------------------------------------------------------------------------------------------------------------------------------------------------------------------------------------------------------------------------------------------------------------------------------------------------------------------------------------------------------------------------------------------------------------------------------------------------------------------------------------------------------------------------------------------------------------------------------------------------------------------------------------------------------------------------------------------------------------------------------------------------------------------------------------------------------------------------------------------------------------------------------------------------------------------------------------------------------------------------------------------------------------------------------------------------------------------------------------------------------------------------------------------------------------------------------------------------------------------------------------------------------------------------------------------------------------------------------------------------------------------------------------------------------------------------------------------------------------------------------------------------------------------------------------------------------------------------------------------------------------------------------------------------------------------------------------------------------------------------------------------------------------------------------------------------------------------------------------------------------------------------------------------------------------------------------------------------------------------------------------------------------------------------------------------------------------------------------------------------------------------------------------------------------------------------------------------------------------------------------------------------------------------------------------------------------------------------------------------------------------------------------------------------------------------------------------------------------------------------------------------------------------------------------------------------------------------------------------------------------------------------------------------------------------------------------------------------------------------------------------------------------------------------------------------------------------------------------------------------------------------------------------------------------------------------------------------------------------------------------------------------------------------------------------------------------------------------------------------------------------------------------------------------------------------------------------------------------------------------------------------------------------------------------------------------------------------------------------------------------------------------------------------------------------------------------------------------------------------------------------------------------------------------------------------------------------------------------------------------------------------------------------------------------------------------------------------------------------------------------------------------------------------------------------------------------------------------------------------------------------------------------------------------------------------------------------------------------------------------------------------------------------------------------------------------------------------------------------------------------------------------------------------------------------------------------------------------------------------------------------------------------------------------------------------------------------------------------------------------------------------------------------------------------------------------------------------------------------------------------------------------------------------------------------------------------------------------------------------------------------------------------------------------------------------------------------------------------------------------------------------------------------------------------------------------------------------------------------------------------------------------------------------------------------------------------------------------------------------------------------------------------------------------------------------------------------------------------------------------------------------------------------------------------------------------------------------------------------------------------------------------------------------------------------------------------------------------------------------------------------------------------------------------------------------------------------------------------------------------------------------------------------------------------------------------------------------------------------------------------------------------------------------------------------------------------------------------------------------------------------------------------------------------------------------------------------------------------------------------------------------------------------------------------------------------------------------------------------------------------------------------------------------------------------------------------------------------------------------------------------------------------------------------------------------------------------------------------------------------------------------------------------------------------------------------------------------------------------------------------------------------------------------------------------------------------------------------------------------------------------------------------------------------------------------------------------------------------------------------------------------------------------------------------------------------------------------------------------------------------------------------------------------------------------------------------------------------------------------------------------------------------------------------------------------------------------------------------------------------------------------------------------------------------------------------------------------------------------+\n",
      "\n"
     ]
    }
   ],
   "source": [
    "partition_df = Partition(timeout = 1).partition(\"https://www.blizzard.com\")\n",
    "partition_df.show(truncate=False)"
   ]
  },
  {
   "cell_type": "markdown",
   "metadata": {
    "id": "_9dDTCrpGdoN"
   },
   "source": [
    "For Word documents, use `includePageBreaks` to preserve structural information like page boundaries, which are inserted as HTML tables in the output."
   ]
  },
  {
   "cell_type": "code",
   "execution_count": 27,
   "metadata": {
    "colab": {
     "base_uri": "https://localhost:8080/"
    },
    "id": "7ICTZmLGk3Sa",
    "outputId": "be37642a-0be0-4ba8-cfb8-fc5c92ec44ce"
   },
   "outputs": [
    {
     "name": "stdout",
     "output_type": "stream",
     "text": [
      "Warning::Spark Session already created, some configs may not take.\n",
      "+-----------------------------------------------+--------------------------------------------------------------------------------------------------------------------------------------------------------------------------------------------------------------------------------------------------------------------------------------------------------------------------------------------------------------------------------------------------------------------------------------------------------------------------------------------------------------------------------------------------------------------------------------------------------------------------------------------------------------------------------------------------------------------------------------------------------------------------------------------------------------------------------------------------------------------------------------------------------------------------------------------------------------------------------------------------------------------------------------------------------------------------------------------------------------------------+\n",
      "|path                                           |xls                                                                                                                                                                                                                                                                                                                                                                                                                                                                                                                                                                                                                                                                                                                                                                                                                                                                                                                                                                                                                                                                                                                       |\n",
      "+-----------------------------------------------+--------------------------------------------------------------------------------------------------------------------------------------------------------------------------------------------------------------------------------------------------------------------------------------------------------------------------------------------------------------------------------------------------------------------------------------------------------------------------------------------------------------------------------------------------------------------------------------------------------------------------------------------------------------------------------------------------------------------------------------------------------------------------------------------------------------------------------------------------------------------------------------------------------------------------------------------------------------------------------------------------------------------------------------------------------------------------------------------------------------------------+\n",
      "|file:/content/excel-files/PageBreakExample.xlsx|[{Title, Date\\tFri Jul 19 00:00:00 UTC 2024, {location -> (0, 1), SheetName -> Sheet1, pageBreak -> 1}}, {Title, Assets, {location -> (1, 1), SheetName -> Sheet1, pageBreak -> 1}}, {Title, Debts, {location -> (1, 4), SheetName -> Sheet1, pageBreak -> 2}}, {NarrativeText, Bank1\\t5865.43, {location -> (2, 1), SheetName -> Sheet1, pageBreak -> 1}}, {NarrativeText, Credit Card1\\t2000.0, {location -> (2, 5), SheetName -> Sheet1, pageBreak -> 2}}, {NarrativeText, Bank2\\t10140.19, {location -> (3, 1), SheetName -> Sheet1, pageBreak -> 1}}, {NarrativeText, Credit Card2\\t1500.0, {location -> (3, 5), SheetName -> Sheet1, pageBreak -> 2}}, {NarrativeText, Bank3\\t1200.0, {location -> (4, 1), SheetName -> Sheet1, pageBreak -> 1}}, {NarrativeText, Credit Card3\\t348.0, {location -> (4, 5), SheetName -> Sheet1, pageBreak -> 2}}, {Title, Bank4\\t1438.27, {location -> (5, 1), SheetName -> Sheet1, pageBreak -> 1}}, {Title, Total\\tSUM(F3:F5), {location -> (5, 5), SheetName -> Sheet1, pageBreak -> 2}}, {Title, Total\\tSUM(B3:B6), {location -> (6, 1), SheetName -> Sheet1, pageBreak -> 1}}]|\n",
      "+-----------------------------------------------+--------------------------------------------------------------------------------------------------------------------------------------------------------------------------------------------------------------------------------------------------------------------------------------------------------------------------------------------------------------------------------------------------------------------------------------------------------------------------------------------------------------------------------------------------------------------------------------------------------------------------------------------------------------------------------------------------------------------------------------------------------------------------------------------------------------------------------------------------------------------------------------------------------------------------------------------------------------------------------------------------------------------------------------------------------------------------------------------------------------------------+\n",
      "\n"
     ]
    }
   ],
   "source": [
    "partition_df = Partition(content_type = \"application/vnd.ms-excel\", include_page_breaks = True).partition(\"./excel-files/PageBreakExample.xlsx\")\n",
    "partition_df.show(truncate=False)"
   ]
  },
  {
   "cell_type": "code",
   "execution_count": 28,
   "metadata": {
    "colab": {
     "base_uri": "https://localhost:8080/"
    },
    "id": "YId4UG1rOVQq",
    "outputId": "a3210f35-0e54-47cd-de50-2791c2f0af09"
   },
   "outputs": [
    {
     "name": "stdout",
     "output_type": "stream",
     "text": [
      "Warning::Spark Session already created, some configs may not take.\n",
      "+-----------------------------------------------+--------------------------------------------------------------------------------------------------------------------------------------------------------------------------------------------------------------------------------------------------------------------------------------------------------------------------------------------------------------------------------------------------------------------------------------------------------------------------------------------------------------------------------------------------------------------------------------------------------------------------------------------------------------------------------------------------------------------------------------------------------------------------------------------------------------------------------------------------------------------------------------------------------------------------------------------------------------------------------------------------------------------------------------------------------------------------------------------------------------------------+\n",
      "|path                                           |xls                                                                                                                                                                                                                                                                                                                                                                                                                                                                                                                                                                                                                                                                                                                                                                                                                                                                                                                                                                                                                                                                                                                       |\n",
      "+-----------------------------------------------+--------------------------------------------------------------------------------------------------------------------------------------------------------------------------------------------------------------------------------------------------------------------------------------------------------------------------------------------------------------------------------------------------------------------------------------------------------------------------------------------------------------------------------------------------------------------------------------------------------------------------------------------------------------------------------------------------------------------------------------------------------------------------------------------------------------------------------------------------------------------------------------------------------------------------------------------------------------------------------------------------------------------------------------------------------------------------------------------------------------------------+\n",
      "|file:/content/excel-files/PageBreakExample.xlsx|[{Title, Date\\tFri Jul 19 00:00:00 UTC 2024, {location -> (0, 1), SheetName -> Sheet1, pageBreak -> 1}}, {Title, Assets, {location -> (1, 1), SheetName -> Sheet1, pageBreak -> 1}}, {Title, Debts, {location -> (1, 4), SheetName -> Sheet1, pageBreak -> 2}}, {NarrativeText, Bank1\\t5865.43, {location -> (2, 1), SheetName -> Sheet1, pageBreak -> 1}}, {NarrativeText, Credit Card1\\t2000.0, {location -> (2, 5), SheetName -> Sheet1, pageBreak -> 2}}, {NarrativeText, Bank2\\t10140.19, {location -> (3, 1), SheetName -> Sheet1, pageBreak -> 1}}, {NarrativeText, Credit Card2\\t1500.0, {location -> (3, 5), SheetName -> Sheet1, pageBreak -> 2}}, {NarrativeText, Bank3\\t1200.0, {location -> (4, 1), SheetName -> Sheet1, pageBreak -> 1}}, {NarrativeText, Credit Card3\\t348.0, {location -> (4, 5), SheetName -> Sheet1, pageBreak -> 2}}, {Title, Bank4\\t1438.27, {location -> (5, 1), SheetName -> Sheet1, pageBreak -> 1}}, {Title, Total\\tSUM(F3:F5), {location -> (5, 5), SheetName -> Sheet1, pageBreak -> 2}}, {Title, Total\\tSUM(B3:B6), {location -> (6, 1), SheetName -> Sheet1, pageBreak -> 1}}]|\n",
      "+-----------------------------------------------+--------------------------------------------------------------------------------------------------------------------------------------------------------------------------------------------------------------------------------------------------------------------------------------------------------------------------------------------------------------------------------------------------------------------------------------------------------------------------------------------------------------------------------------------------------------------------------------------------------------------------------------------------------------------------------------------------------------------------------------------------------------------------------------------------------------------------------------------------------------------------------------------------------------------------------------------------------------------------------------------------------------------------------------------------------------------------------------------------------------------------+\n",
      "\n"
     ]
    }
   ],
   "source": [
    "partition_df = Partition(content_type = \"application/vnd.ms-excel\", includePageBreaks = True).partition(\"./excel-files/PageBreakExample.xlsx\")\n",
    "partition_df.show(truncate=False)"
   ]
  },
  {
   "cell_type": "markdown",
   "metadata": {
    "id": "jpRmFNPNNqkf"
   },
   "source": [
    "When parsing plain text files, `group_broken_paragraphs` can be enabled to intelligently merge broken paragraphs by interpreting blank lines as true paragraph breaks."
   ]
  },
  {
   "cell_type": "code",
   "execution_count": 29,
   "metadata": {
    "id": "HwnYBQ5l7rDM"
   },
   "outputs": [],
   "source": [
    "text = (\n",
    "            \"The big brown fox\\n\"\n",
    "            \"was walking down the lane.\\n\"\n",
    "            \"\\n\"\n",
    "            \"At the end of the lane,\\n\"\n",
    "            \"the fox met a bear.\"\n",
    "        )"
   ]
  },
  {
   "cell_type": "code",
   "execution_count": 30,
   "metadata": {
    "colab": {
     "base_uri": "https://localhost:8080/"
    },
    "id": "mutwZUFj720X",
    "outputId": "dd7866b1-8d3a-405d-de82-877e107b7dc7"
   },
   "outputs": [
    {
     "name": "stdout",
     "output_type": "stream",
     "text": [
      "Warning::Spark Session already created, some configs may not take.\n",
      "+-----------------------------------------------------------------------------------------------------------------------------------------------------------------+\n",
      "|txt                                                                                                                                                              |\n",
      "+-----------------------------------------------------------------------------------------------------------------------------------------------------------------+\n",
      "|[{NarrativeText, The big brown fox was walking down the lane., {paragraph -> 0}}, {NarrativeText, At the end of the lane, the fox met a bear., {paragraph -> 0}}]|\n",
      "+-----------------------------------------------------------------------------------------------------------------------------------------------------------------+\n",
      "\n"
     ]
    }
   ],
   "source": [
    "text_df = Partition(group_broken_paragraphs=True).partition_text(text = text)\n",
    "text_df.show(truncate=False)"
   ]
  },
  {
   "cell_type": "markdown",
   "metadata": {
    "id": "E8ockED4NxLi"
   },
   "source": [
    "For PowerPoint files, the `include_slide_notes` flag ensures that speaker notes from each slide are extracted and included in the output."
   ]
  },
  {
   "cell_type": "code",
   "execution_count": 31,
   "metadata": {
    "colab": {
     "base_uri": "https://localhost:8080/"
    },
    "id": "fPCpk7RTGRjo",
    "outputId": "fdc6011f-7bd4-484f-9caf-ce84b120224b"
   },
   "outputs": [
    {
     "name": "stdout",
     "output_type": "stream",
     "text": [
      "Warning::Spark Session already created, some configs may not take.\n",
      "+------------------------------------------+-------------------------------------------------------------------------------------------------------------------------------------------------------------------------------------------------------------------------------------------------------------------------------------------------------------------------+\n",
      "|path                                      |ppt                                                                                                                                                                                                                                                                                                                      |\n",
      "+------------------------------------------+-------------------------------------------------------------------------------------------------------------------------------------------------------------------------------------------------------------------------------------------------------------------------------------------------------------------------+\n",
      "|file:/content/ppt-files/speaker-notes.pptx|[{Title, Adding a Bullet Slide, {}}, {ListItem, • Find the bullet slide layout, {}}, {ListItem, – Use _TextFrame.text for first bullet, {}}, {ListItem, • Use _TextFrame.add_paragraph() for subsequent bullets, {}}, {NarrativeText, Here is a lot of text!, {}}, {NarrativeText, Here is some text in a text box!, {}}]|\n",
      "+------------------------------------------+-------------------------------------------------------------------------------------------------------------------------------------------------------------------------------------------------------------------------------------------------------------------------------------------------------------------------+\n",
      "\n"
     ]
    }
   ],
   "source": [
    "partition_df = Partition(include_slide_notes = True).partition(\"./ppt-files/speaker-notes.pptx\")\n",
    "partition_df.show(truncate=False)"
   ]
  },
  {
   "cell_type": "markdown",
   "metadata": {
    "id": "qRfRSGvhN303"
   },
   "source": [
    "In Excel files, enabling `infer_table_structure` allows Partition to generate an HTML representation of table structures, useful for downstream parsing or display."
   ]
  },
  {
   "cell_type": "code",
   "execution_count": 32,
   "metadata": {
    "colab": {
     "base_uri": "https://localhost:8080/"
    },
    "id": "twLdjGxZWiOJ",
    "outputId": "e3a58172-9ac0-4b1e-b189-57a32c0bacc8"
   },
   "outputs": [
    {
     "name": "stdout",
     "output_type": "stream",
     "text": [
      "Warning::Spark Session already created, some configs may not take.\n",
      "+-----------------------------------------------------------------------------------------------------------------------------------------------------------------------------------------------------------------------------------------------------------------------------------------------------------------------------------------------------------------------------------------------------------------------------------------------------------------------------------------------------------------------------------------------------------------------------------------------------------------------------------------------------------------------------------------------------------------------------------------------------------------------------------------------------------------------------------------------------------------------------------------------------------------------------------------------------------------------------------------------------------------------------------------------------------------------------------------------------------------------------------+\n",
      "|xls                                                                                                                                                                                                                                                                                                                                                                                                                                                                                                                                                                                                                                                                                                                                                                                                                                                                                                                                                                                                                                                                                                                                |\n",
      "+-----------------------------------------------------------------------------------------------------------------------------------------------------------------------------------------------------------------------------------------------------------------------------------------------------------------------------------------------------------------------------------------------------------------------------------------------------------------------------------------------------------------------------------------------------------------------------------------------------------------------------------------------------------------------------------------------------------------------------------------------------------------------------------------------------------------------------------------------------------------------------------------------------------------------------------------------------------------------------------------------------------------------------------------------------------------------------------------------------------------------------------+\n",
      "|[{Title, Date\\tFri Jul 19 00:00:00 UTC 2024, {location -> (0, 1), SheetName -> Sheet1}}, {Title, Assets\\t\\tDebts, {location -> (1, 4), SheetName -> Sheet1}}, {NarrativeText, Bank1\\t5865.43\\tCredit Card1\\t2000.0, {location -> (2, 5), SheetName -> Sheet1}}, {NarrativeText, Bank2\\t10140.19\\tCredit Card2\\t1500.0, {location -> (3, 5), SheetName -> Sheet1}}, {NarrativeText, Bank3\\t1200.0\\tCredit Card3\\t348.0, {location -> (4, 5), SheetName -> Sheet1}}, {Title, Bank4\\t1438.27\\tTotal\\tSUM(F3:F5), {location -> (5, 5), SheetName -> Sheet1}}, {Title, Total\\tSUM(B3:B6), {location -> (6, 1), SheetName -> Sheet1}}, {HTML, <table><tr><td>Date</td><td>Fri Jul 19 00:00:00 UTC 2024</td></tr><tr><td>Assets</td><td>Debts</td></tr><tr><td>Bank1</td><td>5865.43</td><td>Credit Card1</td><td>2000.0</td></tr><tr><td>Bank2</td><td>10140.19</td><td>Credit Card2</td><td>1500.0</td></tr><tr><td>Bank3</td><td>1200.0</td><td>Credit Card3</td><td>348.0</td></tr><tr><td>Bank4</td><td>1438.27</td><td>Total</td><td>SUM(F3:F5)</td></tr><tr><td>Total</td><td>SUM(B3:B6)</td></tr></table>, {SheetName -> Sheet1}}]|\n",
      "+-----------------------------------------------------------------------------------------------------------------------------------------------------------------------------------------------------------------------------------------------------------------------------------------------------------------------------------------------------------------------------------------------------------------------------------------------------------------------------------------------------------------------------------------------------------------------------------------------------------------------------------------------------------------------------------------------------------------------------------------------------------------------------------------------------------------------------------------------------------------------------------------------------------------------------------------------------------------------------------------------------------------------------------------------------------------------------------------------------------------------------------+\n",
      "\n"
     ]
    }
   ],
   "source": [
    "partition_df = Partition(infer_table_structure = True).partition(\"./excel-files/page-break-example.xlsx\")\n",
    "partition_df.select(\"xls\").show(truncate=False)"
   ]
  },
  {
   "cell_type": "markdown",
   "metadata": {
    "id": "8txswwbjN8Mg"
   },
   "source": [
    "With Excel inputs, set `append_cells` to concatenate all cell values in a row into a single string instead of separating each cell individually."
   ]
  },
  {
   "cell_type": "code",
   "execution_count": 33,
   "metadata": {
    "colab": {
     "base_uri": "https://localhost:8080/"
    },
    "id": "PQ4MpGw6xCko",
    "outputId": "2fd70e68-6d49-4673-bd9b-9fe02ce562f2"
   },
   "outputs": [
    {
     "name": "stdout",
     "output_type": "stream",
     "text": [
      "Warning::Spark Session already created, some configs may not take.\n",
      "+---------------------------------------------------------------------------------------------------------------------------------------------------------------------------------------------------------------------------------------------------------+\n",
      "|xls                                                                                                                                                                                                                                                      |\n",
      "+---------------------------------------------------------------------------------------------------------------------------------------------------------------------------------------------------------------------------------------------------------+\n",
      "|[{NarrativeText, a\\tb\\nc\\td\\te\\n- f\\na\\nb\\tc\\nd\\te\\na\\nb\\nc\\td\\ne\\tf\\na\\tb\\nc\\td\\n2. e\\na\\tb\\nc\\td\\ne\\nf\\na\\nb\\tc\\nd\\te\\nf\\na\\nb\\nc\\td\\ne\\tf\\ng\\na\\nb\\tc\\nd\\te\\nf\\ng\\na\\nb\\nc\\td\\ne\\tf\\ng\\nh\\na\\tb\\tc\\na\\nb\\tc\\td\\na\\tb\\tc\\nd\\ne, {SheetName -> Sheet1}}]|\n",
      "+---------------------------------------------------------------------------------------------------------------------------------------------------------------------------------------------------------------------------------------------------------+\n",
      "\n"
     ]
    }
   ],
   "source": [
    "partition_df = Partition(append_cells = True).partition(\"./excel-files/xlsx-subtable-cases.xlsx\")\n",
    "partition_df.select(\"xls\").show(truncate=False)"
   ]
  },
  {
   "cell_type": "markdown",
   "metadata": {
    "id": "W7Az_d8sF2On"
   },
   "source": [
    "### Headers for URLs"
   ]
  },
  {
   "cell_type": "markdown",
   "metadata": {
    "id": "KDt97hE0cVRA"
   },
   "source": [
    "Another available parameter is `headers`. This is currently used when a URL is provided, allowing you to set the necessary headers for the request. It can be useful in scenarios such as requesting web pages in a specific language or when authentication is required, for example by passing a Bearer token.\n",
    "\n"
   ]
  },
  {
   "cell_type": "code",
   "execution_count": 34,
   "metadata": {
    "colab": {
     "base_uri": "https://localhost:8080/"
    },
    "id": "4sY2ADN8dusy",
    "outputId": "604b51d1-7f08-44c6-d714-f35eb446e7fa"
   },
   "outputs": [
    {
     "name": "stdout",
     "output_type": "stream",
     "text": [
      "Warning::Spark Session already created, some configs may not take.\n",
      "+------------------------+---------------------------------------------------------------------------------------------------------------------------------------------------------------------------------------------------------------------------------------------------------------------------------------------------------------------------------------------------------------------------------------------------------------------------------------------------------------------------------------------------------------------------------------------------------------------------------------------------------------------------------------------------------------------------------------------------------------------------------------------------------------------------------------------------------------------------------------------------------------------------------------------------------------------------------------------------------------------------------------------------------------------------------------------------------------------------------------------------------------------------------------------------------------------------------------------------------------------------------------------------------------------------------------------------------------------------------------------------------------------------------------------------------------------------------------------------------------------------------------------------------------------------------------------------------------------------------------------------------------------------------------------------------------------------------------------------------------------------------------------------------------------------------------------------------------------------------------------------------------------------------------------------------------------------------------------------------------------------------------------------------------------------------------------------------------------------------------------------------------------------------------------------------------------------------------------------------------------------------------------------------------------------------------------------------------------------------------------------------------------------------------------------------------------------------------------------------------------------------------------------------------------------------------------------------------------------------------------------------------------------------------------------------------------------------------------------------------------------------------------------------------------------------------------------------------------------------------------------------------------------------------------------------------------------------------------------------------------------------------------------------------------------------------------------------------------------------------------------------------------------------------------------------------------------------------------------------------------------------------------------------------------------------------------------------------------------------------------------------------------------------------------------------------------------------------------------------------------------------------------------------------------------------------------------------------------------------------------------------------------------------------------------------------------------------------------------------------------------------------------------------------------------------------------------------------------------------------------------------------------------------------------------------------------------------------------------------------------------------------------------------------------------------------------------------------------------------------------------------------------------------------------------------------------------------------------------------------------------------------------------------------------------------------------------------------------------------------------------------------------------------------------------------------------------------------------------------------------------------------------------------------------------------------------------------------------------------------------------------------------------------------------------------------------------------------------------------------------------------------------------------------------------------------------------------------------------------------------------------------------------------------------------------------------------------------------------------------------------------------------------------------------------------------------------------------------------------------------------------------------------------------------------------------------------------------------------------------------------------------------------------------------------------------------------------------------------------------------------------------------------------------------------------------------------------------------------------------------------------------------------------------------------------------------------------------------------------------------------------------------------------------------------------------------------------------------------------------------------------------------------------------------------------------------------------------------------------------------------------------------------------------------------------------------------------------------------------------------------------------------------------------------------------------------------------------------------------------------------------------------------------------------------------------------------------------------------------------------------------------------------------------------------------------------------------------------------------------------------------------------------------------------------------------------------------------------------------------------------------------------------------------------------------------------------------------------------------------------------------------------------------------------------------------------------------------------------------------------------------------------------------------------------------------------------------------------------------------------------------------------------------------------------------------------------------------------------------------------------------------------------------------------------------------------------------------------------------------------------------------------------------------------------------------------------------------------------------------------------------------------------------------------------------------------------------------------------------------------------------------------------------------------------------------------------------------------------------------------------------------------------------------------------------------------------------------------------------------------------------------------------------------------------------------------------------------------------------------------------------------------------------------------------------------------------------------------------------------------------------------------------------------------------------------------------------------------------------------------------------------------------------------------------------------------------------------------------------------------------------------------------------------------------------------------------------------------------------------------------------------------------------------------------------------------------------------------------------------------------------------------------------------------------------------------------------------------------------------------------------------------------------------------------------------------------------------------------------------------------------------------------------------------------------------------------------------------------------------------------------------------------------------------------------------------------------------------------------------------------------------------------------------------------------------------------------------------------------------------------------------------------------------------------------------------------------------------------------------------------------------------------------------------------------------------------------------------------------------------------------------------------------------------------------------------------------------------------------------------------------------------------------------------------------------------------------------------------------------------------------------------------------------------------------------------------------------------------------------------------------------------------------------------------------------------------------------------------------------------------------------------------------------------------------------------------------------------------------------------------------------------------------------------------------------------------------------------------------------------------------------------------------------------------------------------------------------------------------------------------------------------------------------------------------------------------------------------------------------------------------------------------------------------------------------------------------------------------------------------------------------------------------------------------------------------------------------------------------------------------------------------------------------------------------------------------------------------------------------------------------------------------------------------------------------------------------------------------------------------------------------------------------------------------------------------------------------------------------------------------------------------------------------------------------------------------------------------------------------------------------------------------------------------------------------------------------------------------------------------------------------------------------------------------------------------------------------------------------------------------------------------------------------------------------------------------------------------------------------------------------------------------------------------------------------------------------------------------------------------------------------------------------------------------------------------------------------------------------------------------------------------------------------------------------------------------------------------------------------------------------------------------------------------------------------------------------------------------------------------------------------------------------------------------------------------------------------------------------------------------------------------------+\n",
      "|url                     |html                                                                                                                                                                                                                                                                                                                                                                                                                                                                                                                                                                                                                                                                                                                                                                                                                                                                                                                                                                                                                                                                                                                                                                                                                                                                                                                                                                                                                                                                                                                                                                                                                                                                                                                                                                                                                                                                                                                                                                                                                                                                                                                                                                                                                                                                                                                                                                                                                                                                                                                                                                                                                                                                                                                                                                                                                                                                                                                                                                                                                                                                                                                                                                                                                                                                                                                                                                                                                                                                                                                                                                                                                                                                                                                                                                                                                                                                                                                                                                                                                                                                                                                                                                                                                                                                                                                                                                                                                                                                                                                                                                                                                                                                                                                                                                                                                                                                                                                                                                                                                                                                                                                                                                                                                                                                                                                                                                                                                                                                                                                                                                                                                                                                                                                                                                                                                                                                                                                                                                                                                                                                                                                                                                                                                                                                                                                                                                                                                                                                                                                                                                                                                                                                                                                                                                                                                                                                                                                                                                                                                                                                                                                                                                                                                                                                                                                                                                                                                                                                                                                                                                                                                                                                                                                                                                                                                                                                                                                                                                                                                                                                                                                                                                                                                                                                                                                                                                                                                                                                                                                                                                                                                                                                                                                                                                                                                                                                                                                                                                                                                                                                                                                                                                                                                                                                                                                                                                                                                                                                                                                                                                                                                                                                                                                                                                                                                                                                                                                                                                                                                                                                                                                                                                                                                                                                                                                                                                                                                                                                                                                                                                                                                                                                                                                                                                                                                                                                                                                                                                                                                                                                                                                                                                                                                                                                                                                                                                                                                                                                                                                                                                                                                                                                                                                                                                                                                                                                                                                                                                                               |\n",
      "+------------------------+---------------------------------------------------------------------------------------------------------------------------------------------------------------------------------------------------------------------------------------------------------------------------------------------------------------------------------------------------------------------------------------------------------------------------------------------------------------------------------------------------------------------------------------------------------------------------------------------------------------------------------------------------------------------------------------------------------------------------------------------------------------------------------------------------------------------------------------------------------------------------------------------------------------------------------------------------------------------------------------------------------------------------------------------------------------------------------------------------------------------------------------------------------------------------------------------------------------------------------------------------------------------------------------------------------------------------------------------------------------------------------------------------------------------------------------------------------------------------------------------------------------------------------------------------------------------------------------------------------------------------------------------------------------------------------------------------------------------------------------------------------------------------------------------------------------------------------------------------------------------------------------------------------------------------------------------------------------------------------------------------------------------------------------------------------------------------------------------------------------------------------------------------------------------------------------------------------------------------------------------------------------------------------------------------------------------------------------------------------------------------------------------------------------------------------------------------------------------------------------------------------------------------------------------------------------------------------------------------------------------------------------------------------------------------------------------------------------------------------------------------------------------------------------------------------------------------------------------------------------------------------------------------------------------------------------------------------------------------------------------------------------------------------------------------------------------------------------------------------------------------------------------------------------------------------------------------------------------------------------------------------------------------------------------------------------------------------------------------------------------------------------------------------------------------------------------------------------------------------------------------------------------------------------------------------------------------------------------------------------------------------------------------------------------------------------------------------------------------------------------------------------------------------------------------------------------------------------------------------------------------------------------------------------------------------------------------------------------------------------------------------------------------------------------------------------------------------------------------------------------------------------------------------------------------------------------------------------------------------------------------------------------------------------------------------------------------------------------------------------------------------------------------------------------------------------------------------------------------------------------------------------------------------------------------------------------------------------------------------------------------------------------------------------------------------------------------------------------------------------------------------------------------------------------------------------------------------------------------------------------------------------------------------------------------------------------------------------------------------------------------------------------------------------------------------------------------------------------------------------------------------------------------------------------------------------------------------------------------------------------------------------------------------------------------------------------------------------------------------------------------------------------------------------------------------------------------------------------------------------------------------------------------------------------------------------------------------------------------------------------------------------------------------------------------------------------------------------------------------------------------------------------------------------------------------------------------------------------------------------------------------------------------------------------------------------------------------------------------------------------------------------------------------------------------------------------------------------------------------------------------------------------------------------------------------------------------------------------------------------------------------------------------------------------------------------------------------------------------------------------------------------------------------------------------------------------------------------------------------------------------------------------------------------------------------------------------------------------------------------------------------------------------------------------------------------------------------------------------------------------------------------------------------------------------------------------------------------------------------------------------------------------------------------------------------------------------------------------------------------------------------------------------------------------------------------------------------------------------------------------------------------------------------------------------------------------------------------------------------------------------------------------------------------------------------------------------------------------------------------------------------------------------------------------------------------------------------------------------------------------------------------------------------------------------------------------------------------------------------------------------------------------------------------------------------------------------------------------------------------------------------------------------------------------------------------------------------------------------------------------------------------------------------------------------------------------------------------------------------------------------------------------------------------------------------------------------------------------------------------------------------------------------------------------------------------------------------------------------------------------------------------------------------------------------------------------------------------------------------------------------------------------------------------------------------------------------------------------------------------------------------------------------------------------------------------------------------------------------------------------------------------------------------------------------------------------------------------------------------------------------------------------------------------------------------------------------------------------------------------------------------------------------------------------------------------------------------------------------------------------------------------------------------------------------------------------------------------------------------------------------------------------------------------------------------------------------------------------------------------------------------------------------------------------------------------------------------------------------------------------------------------------------------------------------------------------------------------------------------------------------------------------------------------------------------------------------------------------------------------------------------------------------------------------------------------------------------------------------------------------------------------------------------------------------------------------------------------------------------------------------------------------------------------------------------------------------------------------------------------------------------------------------------------------------------------------------------------------------------------------------------------------------------------------------------------------------------------------------------------------------------------------------------------------------------------------------------------------------------------------------------------------------------------------------------------------------------------------------------------------------------------------------------------------------------------------------------------------------------------------------------------------------------------------------------------------------------------------------------------------------------------------------------------------------------------------------------------------------------------------------------------------------------------------------------------------------------------------------------------------------------------------------------------------------------------------------------------------------------------------------------------------------------------------------------------------------------------------------------------------------------------------------------------------------------------------------------------------------------------------------------------------------------------------------------------------------------------------------------------------------------------------------------------------------------------------------------------------------------------------------------------------------------------------------------------------------------------------------------------------------------------------------------------------------------------------------------------------------------------------------------------------------------------------------------------------------------------------------------------------------+\n",
      "|https://www.blizzard.com|[{Title, Juegos destacados, {pageNumber -> 1}}, {Title, World of Warcraft: Mists of Pandaria Classic, {pageNumber -> 1}}, {NarrativeText, MMORPG, {pageNumber -> 1}}, {Title, World of Warcraft: Mists of Pandaria Classic, {pageNumber -> 1}}, {NarrativeText, MMORPG, {pageNumber -> 1}}, {Title, Warcraft I: Remastered, {pageNumber -> 1}}, {NarrativeText, Estrategia en tiempo real, {pageNumber -> 1}}, {Title, Warcraft I: Remastered, {pageNumber -> 1}}, {NarrativeText, Estrategia en tiempo real, {pageNumber -> 1}}, {Title, Warcraft II: Remastered, {pageNumber -> 1}}, {NarrativeText, Estrategia en tiempo real, {pageNumber -> 1}}, {Title, Warcraft II: Remastered, {pageNumber -> 1}}, {NarrativeText, Estrategia en tiempo real, {pageNumber -> 1}}, {Title, Warcraft III: Reforged, {pageNumber -> 1}}, {NarrativeText, Estrategia en tiempo real, {pageNumber -> 1}}, {Title, Warcraft III: Reforged, {pageNumber -> 1}}, {NarrativeText, Estrategia en tiempo real, {pageNumber -> 1}}, {Title, Diablo IV: Vessel of Hatred, {pageNumber -> 1}}, {NarrativeText, Rol y acción, {pageNumber -> 1}}, {Title, Diablo IV: Vessel of Hatred, {pageNumber -> 1}}, {NarrativeText, Rol y acción, {pageNumber -> 1}}, {Title, World of Warcraft: The War Within, {pageNumber -> 1}}, {NarrativeText, MMORPG, {pageNumber -> 1}}, {Title, World of Warcraft: The War Within, {pageNumber -> 1}}, {NarrativeText, MMORPG, {pageNumber -> 1}}, {Title, Warcraft Rumble, {pageNumber -> 1}}, {NarrativeText, Acción estratégica para móviles, {pageNumber -> 1}}, {Title, Warcraft Rumble, {pageNumber -> 1}}, {NarrativeText, Acción estratégica para móviles, {pageNumber -> 1}}, {Title, World of Warcraft, {pageNumber -> 1}}, {NarrativeText, MMORPG, {pageNumber -> 1}}, {Title, World of Warcraft, {pageNumber -> 1}}, {NarrativeText, MMORPG, {pageNumber -> 1}}, {Title, Overwatch 2, {pageNumber -> 1}}, {NarrativeText, Acción por equipos, {pageNumber -> 1}}, {Title, Overwatch 2, {pageNumber -> 1}}, {NarrativeText, Acción por equipos, {pageNumber -> 1}}, {Title, Hearthstone, {pageNumber -> 1}}, {NarrativeText, Juego de cartas de estrategia, {pageNumber -> 1}}, {Title, Hearthstone, {pageNumber -> 1}}, {NarrativeText, Juego de cartas de estrategia, {pageNumber -> 1}}, {Title, World of Warcraft: Mists of Pandaria Classic, {pageNumber -> 1}}, {NarrativeText, MMORPG, {pageNumber -> 1}}, {Title, World of Warcraft: Mists of Pandaria Classic, {pageNumber -> 1}}, {NarrativeText, MMORPG, {pageNumber -> 1}}, {Title, Warcraft II: Remastered, {pageNumber -> 1}}, {NarrativeText, Estrategia en tiempo real, {pageNumber -> 1}}, {Title, Warcraft II: Remastered, {pageNumber -> 1}}, {NarrativeText, Estrategia en tiempo real, {pageNumber -> 1}}, {Title, Warcraft I: Remastered, {pageNumber -> 1}}, {NarrativeText, Estrategia en tiempo real, {pageNumber -> 1}}, {Title, Warcraft I: Remastered, {pageNumber -> 1}}, {NarrativeText, Estrategia en tiempo real, {pageNumber -> 1}}, {Title, Warcraft III: Reforged, {pageNumber -> 1}}, {NarrativeText, Estrategia en tiempo real, {pageNumber -> 1}}, {Title, Warcraft III: Reforged, {pageNumber -> 1}}, {NarrativeText, Estrategia en tiempo real, {pageNumber -> 1}}, {Title, Diablo IV: Vessel of Hatred, {pageNumber -> 1}}, {NarrativeText, Rol y acción, {pageNumber -> 1}}, {Title, Diablo IV: Vessel of Hatred, {pageNumber -> 1}}, {NarrativeText, Rol y acción, {pageNumber -> 1}}, {Title, Warcraft Rumble, {pageNumber -> 1}}, {NarrativeText, Acción estratégica para móviles, {pageNumber -> 1}}, {Title, Warcraft Rumble, {pageNumber -> 1}}, {NarrativeText, Acción estratégica para móviles, {pageNumber -> 1}}, {Title, World of Warcraft: The War Within, {pageNumber -> 1}}, {NarrativeText, MMORPG, {pageNumber -> 1}}, {Title, World of Warcraft: The War Within, {pageNumber -> 1}}, {NarrativeText, MMORPG, {pageNumber -> 1}}, {Title, World of Warcraft, {pageNumber -> 1}}, {NarrativeText, MMORPG, {pageNumber -> 1}}, {Title, World of Warcraft, {pageNumber -> 1}}, {NarrativeText, MMORPG, {pageNumber -> 1}}, {Title, Overwatch 2, {pageNumber -> 1}}, {NarrativeText, Acción por equipos, {pageNumber -> 1}}, {Title, Overwatch 2, {pageNumber -> 1}}, {NarrativeText, Acción por equipos, {pageNumber -> 1}}, {Title, Hearthstone, {pageNumber -> 1}}, {NarrativeText, Juego de cartas de estrategia, {pageNumber -> 1}}, {Title, Hearthstone, {pageNumber -> 1}}, {NarrativeText, Juego de cartas de estrategia, {pageNumber -> 1}}, {Title, World of Warcraft: Mists of Pandaria Classic, {pageNumber -> 1}}, {NarrativeText, MMORPG, {pageNumber -> 1}}, {Title, World of Warcraft: Mists of Pandaria Classic, {pageNumber -> 1}}, {NarrativeText, MMORPG, {pageNumber -> 1}}, {Title, Warcraft I: Remastered, {pageNumber -> 1}}, {NarrativeText, Estrategia en tiempo real, {pageNumber -> 1}}, {Title, Warcraft I: Remastered, {pageNumber -> 1}}, {NarrativeText, Estrategia en tiempo real, {pageNumber -> 1}}, {Title, Warcraft II: Remastered, {pageNumber -> 1}}, {NarrativeText, Estrategia en tiempo real, {pageNumber -> 1}}, {Title, Warcraft II: Remastered, {pageNumber -> 1}}, {NarrativeText, Estrategia en tiempo real, {pageNumber -> 1}}, {Title, Warcraft III: Reforged, {pageNumber -> 1}}, {NarrativeText, Estrategia en tiempo real, {pageNumber -> 1}}, {Title, Warcraft III: Reforged, {pageNumber -> 1}}, {NarrativeText, Estrategia en tiempo real, {pageNumber -> 1}}, {Title, Diablo IV: Vessel of Hatred, {pageNumber -> 1}}, {NarrativeText, Rol y acción, {pageNumber -> 1}}, {Title, Diablo IV: Vessel of Hatred, {pageNumber -> 1}}, {NarrativeText, Rol y acción, {pageNumber -> 1}}, {Title, World of Warcraft: The War Within, {pageNumber -> 1}}, {NarrativeText, MMORPG, {pageNumber -> 1}}, {Title, World of Warcraft: The War Within, {pageNumber -> 1}}, {NarrativeText, MMORPG, {pageNumber -> 1}}, {Title, Diablo IV, {pageNumber -> 1}}, {NarrativeText, Rol y acción, {pageNumber -> 1}}, {Title, Diablo IV, {pageNumber -> 1}}, {NarrativeText, Rol y acción, {pageNumber -> 1}}, {Title, Warcraft Rumble, {pageNumber -> 1}}, {NarrativeText, Acción estratégica para móviles, {pageNumber -> 1}}, {Title, Warcraft Rumble, {pageNumber -> 1}}, {NarrativeText, Acción estratégica para móviles, {pageNumber -> 1}}, {Title, World of Warcraft, {pageNumber -> 1}}, {NarrativeText, MMORPG, {pageNumber -> 1}}, {Title, World of Warcraft, {pageNumber -> 1}}, {NarrativeText, MMORPG, {pageNumber -> 1}}, {Title, Overwatch 2, {pageNumber -> 1}}, {NarrativeText, Acción por equipos, {pageNumber -> 1}}, {Title, Overwatch 2, {pageNumber -> 1}}, {NarrativeText, Acción por equipos, {pageNumber -> 1}}, {Title, World of Warcraft: Mists of Pandaria Classic, {pageNumber -> 1}}, {NarrativeText, MMORPG, {pageNumber -> 1}}, {Title, World of Warcraft: Mists of Pandaria Classic, {pageNumber -> 1}}, {NarrativeText, MMORPG, {pageNumber -> 1}}, {Title, Warcraft II: Remastered, {pageNumber -> 1}}, {NarrativeText, Estrategia en tiempo real, {pageNumber -> 1}}, {Title, Warcraft II: Remastered, {pageNumber -> 1}}, {NarrativeText, Estrategia en tiempo real, {pageNumber -> 1}}, {Title, Warcraft I: Remastered, {pageNumber -> 1}}, {NarrativeText, Estrategia en tiempo real, {pageNumber -> 1}}, {Title, Warcraft I: Remastered, {pageNumber -> 1}}, {NarrativeText, Estrategia en tiempo real, {pageNumber -> 1}}, {Title, Warcraft III: Reforged, {pageNumber -> 1}}, {NarrativeText, Estrategia en tiempo real, {pageNumber -> 1}}, {Title, Warcraft III: Reforged, {pageNumber -> 1}}, {NarrativeText, Estrategia en tiempo real, {pageNumber -> 1}}, {Title, Diablo IV: Vessel of Hatred, {pageNumber -> 1}}, {NarrativeText, Rol y acción, {pageNumber -> 1}}, {Title, Diablo IV: Vessel of Hatred, {pageNumber -> 1}}, {NarrativeText, Rol y acción, {pageNumber -> 1}}, {Title, Diablo IV, {pageNumber -> 1}}, {NarrativeText, Rol y acción, {pageNumber -> 1}}, {Title, Diablo IV, {pageNumber -> 1}}, {NarrativeText, Rol y acción, {pageNumber -> 1}}, {Title, World of Warcraft: The War Within, {pageNumber -> 1}}, {NarrativeText, MMORPG, {pageNumber -> 1}}, {Title, World of Warcraft: The War Within, {pageNumber -> 1}}, {NarrativeText, MMORPG, {pageNumber -> 1}}, {Title, Warcraft Rumble, {pageNumber -> 1}}, {NarrativeText, Acción estratégica para móviles, {pageNumber -> 1}}, {Title, Warcraft Rumble, {pageNumber -> 1}}, {NarrativeText, Acción estratégica para móviles, {pageNumber -> 1}}, {Title, World of Warcraft, {pageNumber -> 1}}, {NarrativeText, MMORPG, {pageNumber -> 1}}, {Title, World of Warcraft, {pageNumber -> 1}}, {NarrativeText, MMORPG, {pageNumber -> 1}}, {Title, Overwatch 2, {pageNumber -> 1}}, {NarrativeText, Acción por equipos, {pageNumber -> 1}}, {Title, Overwatch 2, {pageNumber -> 1}}, {NarrativeText, Acción por equipos, {pageNumber -> 1}}, {Title, Diablo IV: Vessel of Hatred, {pageNumber -> 1}}, {NarrativeText, Rol y acción, {pageNumber -> 1}}, {Title, Diablo IV: Vessel of Hatred, {pageNumber -> 1}}, {NarrativeText, Rol y acción, {pageNumber -> 1}}, {Title, Diablo IV, {pageNumber -> 1}}, {NarrativeText, Rol y acción, {pageNumber -> 1}}, {Title, Diablo IV, {pageNumber -> 1}}, {NarrativeText, Rol y acción, {pageNumber -> 1}}, {Title, Overwatch 2, {pageNumber -> 1}}, {NarrativeText, Acción por equipos, {pageNumber -> 1}}, {Title, Overwatch 2, {pageNumber -> 1}}, {NarrativeText, Acción por equipos, {pageNumber -> 1}}, {Title, Diablo II: Resurrected, {pageNumber -> 1}}, {NarrativeText, Rol y acción, {pageNumber -> 1}}, {Title, Diablo II: Resurrected, {pageNumber -> 1}}, {NarrativeText, Rol y acción, {pageNumber -> 1}}, {Title, Diablo IV: Vessel of Hatred, {pageNumber -> 1}}, {NarrativeText, Rol y acción, {pageNumber -> 1}}, {Title, Diablo IV: Vessel of Hatred, {pageNumber -> 1}}, {NarrativeText, Rol y acción, {pageNumber -> 1}}, {Title, Diablo IV, {pageNumber -> 1}}, {NarrativeText, Rol y acción, {pageNumber -> 1}}, {Title, Diablo IV, {pageNumber -> 1}}, {NarrativeText, Rol y acción, {pageNumber -> 1}}, {Title, Overwatch 2, {pageNumber -> 1}}, {NarrativeText, Acción por equipos, {pageNumber -> 1}}, {Title, Overwatch 2, {pageNumber -> 1}}, {NarrativeText, Acción por equipos, {pageNumber -> 1}}, {Title, Diablo II: Resurrected, {pageNumber -> 1}}, {NarrativeText, Rol y acción, {pageNumber -> 1}}, {Title, Diablo II: Resurrected, {pageNumber -> 1}}, {NarrativeText, Rol y acción, {pageNumber -> 1}}, {Title, Warcraft Rumble, {pageNumber -> 1}}, {NarrativeText, Acción estratégica para móviles, {pageNumber -> 1}}, {Title, Warcraft Rumble, {pageNumber -> 1}}, {NarrativeText, Acción estratégica para móviles, {pageNumber -> 1}}, {Title, Hearthstone, {pageNumber -> 1}}, {NarrativeText, Juego de cartas de estrategia, {pageNumber -> 1}}, {Title, Hearthstone, {pageNumber -> 1}}, {NarrativeText, Juego de cartas de estrategia, {pageNumber -> 1}}, {Title, Diablo immortal, {pageNumber -> 1}}, {NarrativeText, Rol y acción, {pageNumber -> 1}}, {Title, Diablo immortal, {pageNumber -> 1}}, {NarrativeText, Rol y acción, {pageNumber -> 1}}, {Title, Warcraft Rumble, {pageNumber -> 1}}, {NarrativeText, Acción estratégica para móviles, {pageNumber -> 1}}, {Title, Warcraft Rumble, {pageNumber -> 1}}, {NarrativeText, Acción estratégica para móviles, {pageNumber -> 1}}, {Title, Hearthstone, {pageNumber -> 1}}, {NarrativeText, Juego de cartas de estrategia, {pageNumber -> 1}}, {Title, Hearthstone, {pageNumber -> 1}}, {NarrativeText, Juego de cartas de estrategia, {pageNumber -> 1}}, {Title, Diablo immortal, {pageNumber -> 1}}, {NarrativeText, Rol y acción, {pageNumber -> 1}}, {Title, Diablo immortal, {pageNumber -> 1}}, {NarrativeText, Rol y acción, {pageNumber -> 1}}]|\n",
      "+------------------------+---------------------------------------------------------------------------------------------------------------------------------------------------------------------------------------------------------------------------------------------------------------------------------------------------------------------------------------------------------------------------------------------------------------------------------------------------------------------------------------------------------------------------------------------------------------------------------------------------------------------------------------------------------------------------------------------------------------------------------------------------------------------------------------------------------------------------------------------------------------------------------------------------------------------------------------------------------------------------------------------------------------------------------------------------------------------------------------------------------------------------------------------------------------------------------------------------------------------------------------------------------------------------------------------------------------------------------------------------------------------------------------------------------------------------------------------------------------------------------------------------------------------------------------------------------------------------------------------------------------------------------------------------------------------------------------------------------------------------------------------------------------------------------------------------------------------------------------------------------------------------------------------------------------------------------------------------------------------------------------------------------------------------------------------------------------------------------------------------------------------------------------------------------------------------------------------------------------------------------------------------------------------------------------------------------------------------------------------------------------------------------------------------------------------------------------------------------------------------------------------------------------------------------------------------------------------------------------------------------------------------------------------------------------------------------------------------------------------------------------------------------------------------------------------------------------------------------------------------------------------------------------------------------------------------------------------------------------------------------------------------------------------------------------------------------------------------------------------------------------------------------------------------------------------------------------------------------------------------------------------------------------------------------------------------------------------------------------------------------------------------------------------------------------------------------------------------------------------------------------------------------------------------------------------------------------------------------------------------------------------------------------------------------------------------------------------------------------------------------------------------------------------------------------------------------------------------------------------------------------------------------------------------------------------------------------------------------------------------------------------------------------------------------------------------------------------------------------------------------------------------------------------------------------------------------------------------------------------------------------------------------------------------------------------------------------------------------------------------------------------------------------------------------------------------------------------------------------------------------------------------------------------------------------------------------------------------------------------------------------------------------------------------------------------------------------------------------------------------------------------------------------------------------------------------------------------------------------------------------------------------------------------------------------------------------------------------------------------------------------------------------------------------------------------------------------------------------------------------------------------------------------------------------------------------------------------------------------------------------------------------------------------------------------------------------------------------------------------------------------------------------------------------------------------------------------------------------------------------------------------------------------------------------------------------------------------------------------------------------------------------------------------------------------------------------------------------------------------------------------------------------------------------------------------------------------------------------------------------------------------------------------------------------------------------------------------------------------------------------------------------------------------------------------------------------------------------------------------------------------------------------------------------------------------------------------------------------------------------------------------------------------------------------------------------------------------------------------------------------------------------------------------------------------------------------------------------------------------------------------------------------------------------------------------------------------------------------------------------------------------------------------------------------------------------------------------------------------------------------------------------------------------------------------------------------------------------------------------------------------------------------------------------------------------------------------------------------------------------------------------------------------------------------------------------------------------------------------------------------------------------------------------------------------------------------------------------------------------------------------------------------------------------------------------------------------------------------------------------------------------------------------------------------------------------------------------------------------------------------------------------------------------------------------------------------------------------------------------------------------------------------------------------------------------------------------------------------------------------------------------------------------------------------------------------------------------------------------------------------------------------------------------------------------------------------------------------------------------------------------------------------------------------------------------------------------------------------------------------------------------------------------------------------------------------------------------------------------------------------------------------------------------------------------------------------------------------------------------------------------------------------------------------------------------------------------------------------------------------------------------------------------------------------------------------------------------------------------------------------------------------------------------------------------------------------------------------------------------------------------------------------------------------------------------------------------------------------------------------------------------------------------------------------------------------------------------------------------------------------------------------------------------------------------------------------------------------------------------------------------------------------------------------------------------------------------------------------------------------------------------------------------------------------------------------------------------------------------------------------------------------------------------------------------------------------------------------------------------------------------------------------------------------------------------------------------------------------------------------------------------------------------------------------------------------------------------------------------------------------------------------------------------------------------------------------------------------------------------------------------------------------------------------------------------------------------------------------------------------------------------------------------------------------------------------------------------------------------------------------------------------------------------------------------------------------------------------------------------------------------------------------------------------------------------------------------------------------------------------------------------------------------------------------------------------------------------------------------------------------------------------------------------------------------------------------------------------------------------------------------------------------------------------------------------------------------------------------------------------------------------------------------------------------------------------------------------------------------------------------------------------------------------------------------------------------------------------------------------------------------------------------------------------------------------------------------------------------------------------------------------------------------------------------------------------------------------------------------------------------------------------------------------------------------------------------------------------------------------------------------------------------------------------------------------------------------------------------------------------------------------------------------------------------------------------------------------------------------------------------------------------------------------------------------------------------------------------------------------------------------------------------------------------------------------------------------------------------------------------------------------------------------------------------------------------------------------------------------------------------------------------+\n",
      "\n"
     ]
    }
   ],
   "source": [
    "partition_df = Partition().partition(\"https://www.blizzard.com\", headers = {\"Accept-Language\": \"es-ES\"})\n",
    "partition_df.show(truncate=False)"
   ]
  }
 ],
 "metadata": {
  "colab": {
   "provenance": []
  },
  "kernelspec": {
   "display_name": "Python 3 (ipykernel)",
   "language": "python",
   "name": "python3"
  },
  "language_info": {
   "codemirror_mode": {
    "name": "ipython",
    "version": 3
   },
   "file_extension": ".py",
   "mimetype": "text/x-python",
   "name": "python",
   "nbconvert_exporter": "python",
   "pygments_lexer": "ipython3",
   "version": "3.10.12"
  }
 },
 "nbformat": 4,
 "nbformat_minor": 1
}
