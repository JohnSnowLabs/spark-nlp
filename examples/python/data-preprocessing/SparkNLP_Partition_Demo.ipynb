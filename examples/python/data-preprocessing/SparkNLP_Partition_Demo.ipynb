{
  "cells": [
    {
      "cell_type": "markdown",
      "metadata": {
        "id": "tzcU5p2gdak9"
      },
      "source": [
        "# Introducing Partition in SparkNLP\n",
        "This notebook showcases the newly added `Partition` component in Spark NLP\n",
        "providing a streamlined and user-friendly interface for interacting with Spark NLP readers"
      ]
    },
    {
      "cell_type": "code",
      "execution_count": 1,
      "metadata": {
        "colab": {
          "base_uri": "https://localhost:8080/"
        },
        "id": "xrvHhiTAdfGd",
        "outputId": "daaeefba-2311-47c5-f4fc-637adc83254b"
      },
      "outputs": [
        {
          "output_type": "stream",
          "name": "stdout",
          "text": [
            "Mounted at /content/drive\n"
          ]
        }
      ],
      "source": [
        "from google.colab import drive\n",
        "drive.mount('/content/drive')"
      ]
    },
    {
      "cell_type": "code",
      "execution_count": 2,
      "metadata": {
        "id": "mjV3NcQ8eA52"
      },
      "outputs": [],
      "source": [
        "!cp drive/MyDrive/JSL/sparknlp/sparknlp.jar .\n",
        "!cp drive/MyDrive/JSL/sparknlp/spark_nlp-6.0.1-py2.py3-none-any.whl ."
      ]
    },
    {
      "cell_type": "code",
      "execution_count": 3,
      "metadata": {
        "colab": {
          "base_uri": "https://localhost:8080/"
        },
        "id": "FuWVW6HPXRQw",
        "outputId": "060867fb-fbea-43e5-dfb8-2a4d9f7b6976"
      },
      "outputs": [
        {
          "output_type": "stream",
          "name": "stdout",
          "text": [
            "env: PYSPARK=3.4.0\n"
          ]
        }
      ],
      "source": [
        "%env PYSPARK=3.4.0"
      ]
    },
    {
      "cell_type": "code",
      "execution_count": 4,
      "metadata": {
        "colab": {
          "base_uri": "https://localhost:8080/"
        },
        "id": "pEmutNjReCgc",
        "outputId": "deb17ff3-f2da-43d3-b7c9-93a14fa6330d"
      },
      "outputs": [
        {
          "output_type": "stream",
          "name": "stdout",
          "text": [
            "Requirement already satisfied: PYSPARK in /usr/local/lib/python3.11/dist-packages (3.5.1)\n",
            "Requirement already satisfied: py4j==0.10.9.7 in /usr/local/lib/python3.11/dist-packages (from PYSPARK) (0.10.9.7)\n"
          ]
        }
      ],
      "source": [
        "!pip install PYSPARK"
      ]
    },
    {
      "cell_type": "code",
      "execution_count": 5,
      "metadata": {
        "colab": {
          "base_uri": "https://localhost:8080/"
        },
        "id": "3qjPeDjvfCpA",
        "outputId": "7189ce48-1c21-454e-ea24-b6132de83b58"
      },
      "outputs": [
        {
          "output_type": "stream",
          "name": "stdout",
          "text": [
            "Processing ./spark_nlp-6.0.1-py2.py3-none-any.whl\n",
            "Installing collected packages: spark-nlp\n",
            "Successfully installed spark-nlp-6.0.1\n"
          ]
        }
      ],
      "source": [
        "!pip install spark_nlp-6.0.1-py2.py3-none-any.whl"
      ]
    },
    {
      "cell_type": "code",
      "execution_count": 6,
      "metadata": {
        "colab": {
          "base_uri": "https://localhost:8080/"
        },
        "id": "DczWop6QeE8F",
        "outputId": "109150b0-b679-4aff-e3bf-6c46bea19bcd"
      },
      "outputs": [
        {
          "output_type": "stream",
          "name": "stdout",
          "text": [
            "Apache Spark version: 3.5.1\n"
          ]
        }
      ],
      "source": [
        "# import sparknlp\n",
        "# # let's start Spark with Spark NLP\n",
        "# spark = sparknlp.start()\n",
        "\n",
        "from pyspark.sql import SparkSession\n",
        "\n",
        "spark = SparkSession.builder \\\n",
        "    .appName(\"SparkNLP\") \\\n",
        "    .master(\"local[*]\") \\\n",
        "    .config(\"spark.driver.memory\", \"12G\") \\\n",
        "    .config(\"spark.serializer\", \"org.apache.spark.serializer.KryoSerializer\") \\\n",
        "    .config(\"spark.kryoserializer.buffer.max\", \"2000M\") \\\n",
        "    .config(\"spark.driver.maxResultSize\", \"0\") \\\n",
        "    .config(\"spark.jars\", \"./sparknlp.jar\") \\\n",
        "    .getOrCreate()\n",
        "\n",
        "\n",
        "print(\"Apache Spark version: {}\".format(spark.version))"
      ]
    },
    {
      "cell_type": "markdown",
      "metadata": {
        "id": "RFOFhaEedalB"
      },
      "source": [
        "## Setup and Initialization\n",
        "Let's keep in mind a few things before we start 😊\n",
        "\n",
        "Support for **Partitioning** files was introduced in Spark NLP 6.0.1 Please make sure you have upgraded to the latest Spark NLP release.\n",
        "\n",
        "For local files example we will download different files from Spark NLP Github repo:"
      ]
    },
    {
      "cell_type": "markdown",
      "source": [
        "**Downloading HTML files**"
      ],
      "metadata": {
        "id": "joUGu23jq4m4"
      }
    },
    {
      "cell_type": "code",
      "source": [
        "!mkdir html-files\n",
        "!wget https://raw.githubusercontent.com/JohnSnowLabs/spark-nlp/master/src/test/resources/reader/html/example-10k.html -P html-files\n",
        "!wget https://raw.githubusercontent.com/JohnSnowLabs/spark-nlp/master/src/test/resources/reader/html/fake-html.html -P html-files"
      ],
      "metadata": {
        "colab": {
          "base_uri": "https://localhost:8080/"
        },
        "id": "bo7s-jZVrE7W",
        "outputId": "e7234d36-765e-4a29-f922-02ceab1626dd"
      },
      "execution_count": 7,
      "outputs": [
        {
          "output_type": "stream",
          "name": "stdout",
          "text": [
            "--2025-05-26 23:11:05--  https://raw.githubusercontent.com/JohnSnowLabs/spark-nlp/master/src/test/resources/reader/html/example-10k.html\n",
            "Resolving raw.githubusercontent.com (raw.githubusercontent.com)... 185.199.108.133, 185.199.109.133, 185.199.110.133, ...\n",
            "Connecting to raw.githubusercontent.com (raw.githubusercontent.com)|185.199.108.133|:443... connected.\n",
            "HTTP request sent, awaiting response... 200 OK\n",
            "Length: 2456707 (2.3M) [text/plain]\n",
            "Saving to: ‘html-files/example-10k.html’\n",
            "\n",
            "example-10k.html    100%[===================>]   2.34M  --.-KB/s    in 0.05s   \n",
            "\n",
            "2025-05-26 23:11:06 (45.1 MB/s) - ‘html-files/example-10k.html’ saved [2456707/2456707]\n",
            "\n",
            "--2025-05-26 23:11:06--  https://raw.githubusercontent.com/JohnSnowLabs/spark-nlp/master/src/test/resources/reader/html/fake-html.html\n",
            "Resolving raw.githubusercontent.com (raw.githubusercontent.com)... 185.199.108.133, 185.199.109.133, 185.199.110.133, ...\n",
            "Connecting to raw.githubusercontent.com (raw.githubusercontent.com)|185.199.108.133|:443... connected.\n",
            "HTTP request sent, awaiting response... 200 OK\n",
            "Length: 665 [text/plain]\n",
            "Saving to: ‘html-files/fake-html.html’\n",
            "\n",
            "fake-html.html      100%[===================>]     665  --.-KB/s    in 0s      \n",
            "\n",
            "2025-05-26 23:11:06 (30.2 MB/s) - ‘html-files/fake-html.html’ saved [665/665]\n",
            "\n"
          ]
        }
      ]
    },
    {
      "cell_type": "markdown",
      "source": [
        "**Downloading PDF files**"
      ],
      "metadata": {
        "id": "CZP7vz-gn6Rl"
      }
    },
    {
      "cell_type": "code",
      "execution_count": 8,
      "metadata": {
        "id": "ya8qZe00dalC",
        "colab": {
          "base_uri": "https://localhost:8080/"
        },
        "outputId": "ba520f44-c4b9-45b1-f03c-6a8e3a33320b"
      },
      "outputs": [
        {
          "output_type": "stream",
          "name": "stdout",
          "text": [
            "--2025-05-26 23:11:06--  https://raw.githubusercontent.com/JohnSnowLabs/spark-nlp/master/src/test/resources/reader/pdf/image_3_pages.pdf\n",
            "Resolving raw.githubusercontent.com (raw.githubusercontent.com)... 185.199.109.133, 185.199.111.133, 185.199.110.133, ...\n",
            "Connecting to raw.githubusercontent.com (raw.githubusercontent.com)|185.199.109.133|:443... connected.\n",
            "HTTP request sent, awaiting response... 200 OK\n",
            "Length: 15629 (15K) [application/octet-stream]\n",
            "Saving to: ‘pdf-files/image_3_pages.pdf’\n",
            "\n",
            "\rimage_3_pages.pdf     0%[                    ]       0  --.-KB/s               \rimage_3_pages.pdf   100%[===================>]  15.26K  --.-KB/s    in 0.001s  \n",
            "\n",
            "2025-05-26 23:11:06 (25.5 MB/s) - ‘pdf-files/image_3_pages.pdf’ saved [15629/15629]\n",
            "\n",
            "--2025-05-26 23:11:06--  https://raw.githubusercontent.com/JohnSnowLabs/spark-nlp/master/src/test/resources/reader/pdf/pdf-title.pdf\n",
            "Resolving raw.githubusercontent.com (raw.githubusercontent.com)... 185.199.108.133, 185.199.109.133, 185.199.110.133, ...\n",
            "Connecting to raw.githubusercontent.com (raw.githubusercontent.com)|185.199.108.133|:443... connected.\n",
            "HTTP request sent, awaiting response... 200 OK\n",
            "Length: 25803 (25K) [application/octet-stream]\n",
            "Saving to: ‘pdf-files/pdf-title.pdf’\n",
            "\n",
            "pdf-title.pdf       100%[===================>]  25.20K  --.-KB/s    in 0s      \n",
            "\n",
            "2025-05-26 23:11:06 (58.5 MB/s) - ‘pdf-files/pdf-title.pdf’ saved [25803/25803]\n",
            "\n",
            "--2025-05-26 23:11:07--  https://raw.githubusercontent.com/JohnSnowLabs/spark-nlp/master/src/test/resources/reader/pdf/text_3_pages.pdf\n",
            "Resolving raw.githubusercontent.com (raw.githubusercontent.com)... 185.199.108.133, 185.199.109.133, 185.199.110.133, ...\n",
            "Connecting to raw.githubusercontent.com (raw.githubusercontent.com)|185.199.108.133|:443... connected.\n",
            "HTTP request sent, awaiting response... 200 OK\n",
            "Length: 9487 (9.3K) [application/octet-stream]\n",
            "Saving to: ‘pdf-files/text_3_pages.pdf’\n",
            "\n",
            "text_3_pages.pdf    100%[===================>]   9.26K  --.-KB/s    in 0s      \n",
            "\n",
            "2025-05-26 23:11:07 (79.2 MB/s) - ‘pdf-files/text_3_pages.pdf’ saved [9487/9487]\n",
            "\n"
          ]
        }
      ],
      "source": [
        "!mkdir pdf-files\n",
        "!wget https://raw.githubusercontent.com/JohnSnowLabs/spark-nlp/master/src/test/resources/reader/pdf/image_3_pages.pdf -P pdf-files\n",
        "!wget https://raw.githubusercontent.com/JohnSnowLabs/spark-nlp/master/src/test/resources/reader/pdf/pdf-title.pdf -P pdf-files\n",
        "!wget https://raw.githubusercontent.com/JohnSnowLabs/spark-nlp/master/src/test/resources/reader/pdf/text_3_pages.pdf -P pdf-files"
      ]
    },
    {
      "cell_type": "markdown",
      "source": [
        "**Downloading Word files**"
      ],
      "metadata": {
        "id": "l-uW6gV8pUYM"
      }
    },
    {
      "cell_type": "code",
      "source": [
        "!mkdir word-files\n",
        "!wget https://raw.githubusercontent.com/JohnSnowLabs/spark-nlp/master/src/test/resources/reader/doc/contains-pictures.docx -P word-files\n",
        "!wget https://raw.githubusercontent.com/JohnSnowLabs/spark-nlp/master/src/test/resources/reader/doc/fake_table.docx -P word-files\n",
        "!wget https://raw.githubusercontent.com/JohnSnowLabs/spark-nlp/master/src/test/resources/reader/doc/page-breaks.docx -P word-files"
      ],
      "metadata": {
        "colab": {
          "base_uri": "https://localhost:8080/"
        },
        "id": "zLLEUl3KpYZ6",
        "outputId": "4346e6e1-18ec-47a8-92c0-c8bc588f3441"
      },
      "execution_count": 9,
      "outputs": [
        {
          "output_type": "stream",
          "name": "stdout",
          "text": [
            "--2025-05-26 23:11:07--  https://raw.githubusercontent.com/JohnSnowLabs/spark-nlp/master/src/test/resources/reader/doc/contains-pictures.docx\n",
            "Resolving raw.githubusercontent.com (raw.githubusercontent.com)... 185.199.108.133, 185.199.109.133, 185.199.110.133, ...\n",
            "Connecting to raw.githubusercontent.com (raw.githubusercontent.com)|185.199.108.133|:443... connected.\n",
            "HTTP request sent, awaiting response... 200 OK\n",
            "Length: 95087 (93K) [application/octet-stream]\n",
            "Saving to: ‘word-files/contains-pictures.docx’\n",
            "\n",
            "\rcontains-pictures.d   0%[                    ]       0  --.-KB/s               \rcontains-pictures.d 100%[===================>]  92.86K  --.-KB/s    in 0.01s   \n",
            "\n",
            "2025-05-26 23:11:07 (6.85 MB/s) - ‘word-files/contains-pictures.docx’ saved [95087/95087]\n",
            "\n",
            "--2025-05-26 23:11:07--  https://raw.githubusercontent.com/JohnSnowLabs/spark-nlp/master/src/test/resources/reader/doc/fake_table.docx\n",
            "Resolving raw.githubusercontent.com (raw.githubusercontent.com)... 185.199.108.133, 185.199.109.133, 185.199.110.133, ...\n",
            "Connecting to raw.githubusercontent.com (raw.githubusercontent.com)|185.199.108.133|:443... connected.\n",
            "HTTP request sent, awaiting response... 200 OK\n",
            "Length: 12392 (12K) [application/octet-stream]\n",
            "Saving to: ‘word-files/fake_table.docx’\n",
            "\n",
            "fake_table.docx     100%[===================>]  12.10K  --.-KB/s    in 0.001s  \n",
            "\n",
            "2025-05-26 23:11:07 (17.7 MB/s) - ‘word-files/fake_table.docx’ saved [12392/12392]\n",
            "\n",
            "--2025-05-26 23:11:07--  https://raw.githubusercontent.com/JohnSnowLabs/spark-nlp/master/src/test/resources/reader/doc/page-breaks.docx\n",
            "Resolving raw.githubusercontent.com (raw.githubusercontent.com)... 185.199.108.133, 185.199.109.133, 185.199.110.133, ...\n",
            "Connecting to raw.githubusercontent.com (raw.githubusercontent.com)|185.199.108.133|:443... connected.\n",
            "HTTP request sent, awaiting response... 200 OK\n",
            "Length: 14584 (14K) [application/octet-stream]\n",
            "Saving to: ‘word-files/page-breaks.docx’\n",
            "\n",
            "page-breaks.docx    100%[===================>]  14.24K  --.-KB/s    in 0.001s  \n",
            "\n",
            "2025-05-26 23:11:08 (22.4 MB/s) - ‘word-files/page-breaks.docx’ saved [14584/14584]\n",
            "\n"
          ]
        }
      ]
    },
    {
      "cell_type": "markdown",
      "source": [
        "**Downloading Excel files**"
      ],
      "metadata": {
        "id": "40ts9-MmqNHp"
      }
    },
    {
      "cell_type": "code",
      "source": [
        "!mkdir excel-files\n",
        "!wget https://raw.githubusercontent.com/JohnSnowLabs/spark-nlp/master/src/test/resources/reader/xls/vodafone.xlsx -P excel-files\n",
        "!wget https://raw.githubusercontent.com/JohnSnowLabs/spark-nlp/master/src/test/resources/reader/xls/2023-half-year-analyses-by-segment.xlsx -P excel-files\n",
        "!wget https://raw.githubusercontent.com/JohnSnowLabs/spark-nlp/master/src/test/resources/reader/xls/page-break-example.xlsx -P excel-files\n",
        "!wget https://raw.githubusercontent.com/JohnSnowLabs/spark-nlp/master/src/test/resources/reader/xls/xlsx-subtable-cases.xlsx -P excel-files"
      ],
      "metadata": {
        "colab": {
          "base_uri": "https://localhost:8080/"
        },
        "id": "G3-BCYP6qQ4x",
        "outputId": "38489a6e-588d-4a1b-e319-0c7f66559ca0"
      },
      "execution_count": 10,
      "outputs": [
        {
          "output_type": "stream",
          "name": "stdout",
          "text": [
            "--2025-05-26 23:11:08--  https://raw.githubusercontent.com/JohnSnowLabs/spark-nlp/master/src/test/resources/reader/xls/vodafone.xlsx\n",
            "Resolving raw.githubusercontent.com (raw.githubusercontent.com)... 185.199.108.133, 185.199.109.133, 185.199.110.133, ...\n",
            "Connecting to raw.githubusercontent.com (raw.githubusercontent.com)|185.199.108.133|:443... connected.\n",
            "HTTP request sent, awaiting response... 200 OK\n",
            "Length: 12541 (12K) [application/octet-stream]\n",
            "Saving to: ‘excel-files/vodafone.xlsx’\n",
            "\n",
            "\rvodafone.xlsx         0%[                    ]       0  --.-KB/s               \rvodafone.xlsx       100%[===================>]  12.25K  --.-KB/s    in 0.001s  \n",
            "\n",
            "2025-05-26 23:11:08 (22.2 MB/s) - ‘excel-files/vodafone.xlsx’ saved [12541/12541]\n",
            "\n",
            "--2025-05-26 23:11:08--  https://raw.githubusercontent.com/JohnSnowLabs/spark-nlp/master/src/test/resources/reader/xls/2023-half-year-analyses-by-segment.xlsx\n",
            "Resolving raw.githubusercontent.com (raw.githubusercontent.com)... 185.199.108.133, 185.199.109.133, 185.199.110.133, ...\n",
            "Connecting to raw.githubusercontent.com (raw.githubusercontent.com)|185.199.108.133|:443... connected.\n",
            "HTTP request sent, awaiting response... 200 OK\n",
            "Length: 38442 (38K) [application/octet-stream]\n",
            "Saving to: ‘excel-files/2023-half-year-analyses-by-segment.xlsx’\n",
            "\n",
            "2023-half-year-anal 100%[===================>]  37.54K  --.-KB/s    in 0.007s  \n",
            "\n",
            "2025-05-26 23:11:08 (5.37 MB/s) - ‘excel-files/2023-half-year-analyses-by-segment.xlsx’ saved [38442/38442]\n",
            "\n",
            "--2025-05-26 23:11:08--  https://raw.githubusercontent.com/JohnSnowLabs/spark-nlp/master/src/test/resources/reader/xls/page-break-example.xlsx\n",
            "Resolving raw.githubusercontent.com (raw.githubusercontent.com)... 185.199.108.133, 185.199.109.133, 185.199.110.133, ...\n",
            "Connecting to raw.githubusercontent.com (raw.githubusercontent.com)|185.199.108.133|:443... connected.\n",
            "HTTP request sent, awaiting response... 404 Not Found\n",
            "2025-05-26 23:11:09 ERROR 404: Not Found.\n",
            "\n",
            "--2025-05-26 23:11:09--  https://raw.githubusercontent.com/JohnSnowLabs/spark-nlp/master/src/test/resources/reader/xls/xlsx-subtable-cases.xlsx\n",
            "Resolving raw.githubusercontent.com (raw.githubusercontent.com)... 185.199.108.133, 185.199.109.133, 185.199.110.133, ...\n",
            "Connecting to raw.githubusercontent.com (raw.githubusercontent.com)|185.199.108.133|:443... connected.\n",
            "HTTP request sent, awaiting response... 404 Not Found\n",
            "2025-05-26 23:11:09 ERROR 404: Not Found.\n",
            "\n"
          ]
        }
      ]
    },
    {
      "cell_type": "code",
      "source": [
        "!cp drive/MyDrive/JSL/PageBreakExample.xlsx ./excel-files"
      ],
      "metadata": {
        "id": "LcSYn6q7jW9-"
      },
      "execution_count": 11,
      "outputs": []
    },
    {
      "cell_type": "markdown",
      "source": [
        "**Downloading PowerPoint files**"
      ],
      "metadata": {
        "id": "A3lF0_7qqlZB"
      }
    },
    {
      "cell_type": "code",
      "source": [
        "!mkdir ppt-files\n",
        "!wget https://raw.githubusercontent.com/JohnSnowLabs/spark-nlp/master/src/test/resources/reader/ppt/fake-power-point.pptx -P ppt-files\n",
        "!wget https://raw.githubusercontent.com/JohnSnowLabs/spark-nlp/master/src/test/resources/reader/ppt/fake-power-point-table.pptx -P ppt-files\n",
        "!wget https://raw.githubusercontent.com/JohnSnowLabs/spark-nlp/master/src/test/resources/reader/ppt/speaker-notes.pptx -P ppt-files"
      ],
      "metadata": {
        "colab": {
          "base_uri": "https://localhost:8080/"
        },
        "id": "1jDRFmcHqpxn",
        "outputId": "4d59c445-3764-41a8-c91b-9231d401eac6"
      },
      "execution_count": 12,
      "outputs": [
        {
          "output_type": "stream",
          "name": "stdout",
          "text": [
            "--2025-05-26 23:11:09--  https://raw.githubusercontent.com/JohnSnowLabs/spark-nlp/master/src/test/resources/reader/ppt/fake-power-point.pptx\n",
            "Resolving raw.githubusercontent.com (raw.githubusercontent.com)... 185.199.108.133, 185.199.109.133, 185.199.110.133, ...\n",
            "Connecting to raw.githubusercontent.com (raw.githubusercontent.com)|185.199.108.133|:443... connected.\n",
            "HTTP request sent, awaiting response... 200 OK\n",
            "Length: 38412 (38K) [application/octet-stream]\n",
            "Saving to: ‘ppt-files/fake-power-point.pptx’\n",
            "\n",
            "\rfake-power-point.pp   0%[                    ]       0  --.-KB/s               \rfake-power-point.pp 100%[===================>]  37.51K  --.-KB/s    in 0.007s  \n",
            "\n",
            "2025-05-26 23:11:10 (5.29 MB/s) - ‘ppt-files/fake-power-point.pptx’ saved [38412/38412]\n",
            "\n",
            "--2025-05-26 23:11:10--  https://raw.githubusercontent.com/JohnSnowLabs/spark-nlp/master/src/test/resources/reader/ppt/fake-power-point-table.pptx\n",
            "Resolving raw.githubusercontent.com (raw.githubusercontent.com)... 185.199.108.133, 185.199.109.133, 185.199.110.133, ...\n",
            "Connecting to raw.githubusercontent.com (raw.githubusercontent.com)|185.199.108.133|:443... connected.\n",
            "HTTP request sent, awaiting response... 200 OK\n",
            "Length: 39894 (39K) [application/octet-stream]\n",
            "Saving to: ‘ppt-files/fake-power-point-table.pptx’\n",
            "\n",
            "fake-power-point-ta 100%[===================>]  38.96K  --.-KB/s    in 0.006s  \n",
            "\n",
            "2025-05-26 23:11:10 (6.73 MB/s) - ‘ppt-files/fake-power-point-table.pptx’ saved [39894/39894]\n",
            "\n",
            "--2025-05-26 23:11:10--  https://raw.githubusercontent.com/JohnSnowLabs/spark-nlp/master/src/test/resources/reader/ppt/speaker-notes.pptx\n",
            "Resolving raw.githubusercontent.com (raw.githubusercontent.com)... 185.199.108.133, 185.199.109.133, 185.199.110.133, ...\n",
            "Connecting to raw.githubusercontent.com (raw.githubusercontent.com)|185.199.108.133|:443... connected.\n",
            "HTTP request sent, awaiting response... 404 Not Found\n",
            "2025-05-26 23:11:10 ERROR 404: Not Found.\n",
            "\n"
          ]
        }
      ]
    },
    {
      "cell_type": "markdown",
      "source": [
        "**Downloading Email files**"
      ],
      "metadata": {
        "id": "K3Fyab6wret-"
      }
    },
    {
      "cell_type": "code",
      "source": [
        "!mkdir email-files\n",
        "!wget https://raw.githubusercontent.com/JohnSnowLabs/spark-nlp/master/src/test/resources/reader/email/email-text-attachments.eml -P email-files\n",
        "!wget https://raw.githubusercontent.com/JohnSnowLabs/spark-nlp/master/src/test/resources/reader/email/test-several-attachments.eml -P email-files"
      ],
      "metadata": {
        "colab": {
          "base_uri": "https://localhost:8080/"
        },
        "id": "yYMVpVQurk7G",
        "outputId": "cedb0e39-f137-4759-a158-0b84ed31b282"
      },
      "execution_count": 13,
      "outputs": [
        {
          "output_type": "stream",
          "name": "stdout",
          "text": [
            "--2025-05-26 23:11:10--  https://raw.githubusercontent.com/JohnSnowLabs/spark-nlp/master/src/test/resources/reader/email/email-text-attachments.eml\n",
            "Resolving raw.githubusercontent.com (raw.githubusercontent.com)... 185.199.108.133, 185.199.109.133, 185.199.110.133, ...\n",
            "Connecting to raw.githubusercontent.com (raw.githubusercontent.com)|185.199.108.133|:443... connected.\n",
            "HTTP request sent, awaiting response... 200 OK\n",
            "Length: 3175 (3.1K) [text/plain]\n",
            "Saving to: ‘email-files/email-text-attachments.eml’\n",
            "\n",
            "\r          email-tex   0%[                    ]       0  --.-KB/s               \remail-text-attachme 100%[===================>]   3.10K  --.-KB/s    in 0s      \n",
            "\n",
            "2025-05-26 23:11:11 (49.2 MB/s) - ‘email-files/email-text-attachments.eml’ saved [3175/3175]\n",
            "\n",
            "--2025-05-26 23:11:11--  https://raw.githubusercontent.com/JohnSnowLabs/spark-nlp/master/src/test/resources/reader/email/test-several-attachments.eml\n",
            "Resolving raw.githubusercontent.com (raw.githubusercontent.com)... 185.199.110.133, 185.199.109.133, 185.199.108.133, ...\n",
            "Connecting to raw.githubusercontent.com (raw.githubusercontent.com)|185.199.110.133|:443... connected.\n",
            "HTTP request sent, awaiting response... 200 OK\n",
            "Length: 1324361 (1.3M) [text/plain]\n",
            "Saving to: ‘email-files/test-several-attachments.eml’\n",
            "\n",
            "test-several-attach 100%[===================>]   1.26M  --.-KB/s    in 0.04s   \n",
            "\n",
            "2025-05-26 23:11:11 (32.0 MB/s) - ‘email-files/test-several-attachments.eml’ saved [1324361/1324361]\n",
            "\n"
          ]
        }
      ]
    },
    {
      "cell_type": "markdown",
      "source": [
        "**Downloading Text files**"
      ],
      "metadata": {
        "id": "ATDLz3Gws5ob"
      }
    },
    {
      "cell_type": "code",
      "source": [
        "!mkdir txt-files\n",
        "!wget https://raw.githubusercontent.com/JohnSnowLabs/spark-nlp/master/src/test/resources/reader/txt/simple-text.txt -P txt-files"
      ],
      "metadata": {
        "colab": {
          "base_uri": "https://localhost:8080/"
        },
        "id": "AV-krG6Ps8pq",
        "outputId": "c407a77f-11d5-4a3c-85e0-4abffa48bd12"
      },
      "execution_count": 14,
      "outputs": [
        {
          "output_type": "stream",
          "name": "stdout",
          "text": [
            "--2025-05-26 23:11:11--  https://raw.githubusercontent.com/JohnSnowLabs/spark-nlp/master/src/test/resources/reader/txt/simple-text.txt\n",
            "Resolving raw.githubusercontent.com (raw.githubusercontent.com)... 185.199.108.133, 185.199.109.133, 185.199.110.133, ...\n",
            "Connecting to raw.githubusercontent.com (raw.githubusercontent.com)|185.199.108.133|:443... connected.\n",
            "HTTP request sent, awaiting response... 200 OK\n",
            "Length: 300 [text/plain]\n",
            "Saving to: ‘txt-files/simple-text.txt’\n",
            "\n",
            "\rsimple-text.txt       0%[                    ]       0  --.-KB/s               \rsimple-text.txt     100%[===================>]     300  --.-KB/s    in 0s      \n",
            "\n",
            "2025-05-26 23:11:11 (4.81 MB/s) - ‘txt-files/simple-text.txt’ saved [300/300]\n",
            "\n"
          ]
        }
      ]
    },
    {
      "cell_type": "markdown",
      "metadata": {
        "id": "EoFI66NAdalE"
      },
      "source": [
        "## Partitioning Documents\n",
        "Use the `Partition` component to parse text content from local directories."
      ]
    },
    {
      "cell_type": "code",
      "execution_count": 15,
      "metadata": {
        "id": "bAkMjJ1vdalE",
        "colab": {
          "base_uri": "https://localhost:8080/"
        },
        "outputId": "15401bcc-3cb2-474a-d771-0efed1eaf9cd"
      },
      "outputs": [
        {
          "output_type": "stream",
          "name": "stdout",
          "text": [
            "Warning::Spark Session already created, some configs may not take.\n",
            "+--------------------+--------------------+\n",
            "|                path|                 txt|\n",
            "+--------------------+--------------------+\n",
            "|file:/content/txt...|[{Title, BIG DATA...|\n",
            "+--------------------+--------------------+\n",
            "\n"
          ]
        }
      ],
      "source": [
        "from sparknlp.partition.partition import Partition\n",
        "\n",
        "partition_df = Partition().partition(\"./txt-files/simple-text.txt\")\n",
        "partition_df.show()"
      ]
    },
    {
      "cell_type": "markdown",
      "source": [
        "Partitioning a Word Document"
      ],
      "metadata": {
        "id": "BK65i2RjJnqv"
      }
    },
    {
      "cell_type": "code",
      "source": [
        "partition_df = Partition().partition(\"./word-files/fake_table.docx\")\n",
        "partition_df.show()"
      ],
      "metadata": {
        "colab": {
          "base_uri": "https://localhost:8080/"
        },
        "id": "VWbUgoVQrO8m",
        "outputId": "36bbf310-7ee5-474a-93f2-4d940d3c0547"
      },
      "execution_count": 16,
      "outputs": [
        {
          "output_type": "stream",
          "name": "stdout",
          "text": [
            "Warning::Spark Session already created, some configs may not take.\n",
            "+--------------------+--------------------+\n",
            "|                path|                 doc|\n",
            "+--------------------+--------------------+\n",
            "|file:/content/wor...|[{Table, Header C...|\n",
            "+--------------------+--------------------+\n",
            "\n"
          ]
        }
      ]
    },
    {
      "cell_type": "markdown",
      "source": [
        "Partitioning an Excel Document"
      ],
      "metadata": {
        "id": "opi9m_4aJwLw"
      }
    },
    {
      "cell_type": "code",
      "source": [
        "partition_df = Partition().partition(\"./word-files/fake_table.docx\")\n",
        "partition_df.show()"
      ],
      "metadata": {
        "colab": {
          "base_uri": "https://localhost:8080/"
        },
        "id": "YFzeGJJ3ICVM",
        "outputId": "01c349aa-16d2-4e0d-8a30-11399caf2ef2"
      },
      "execution_count": 17,
      "outputs": [
        {
          "output_type": "stream",
          "name": "stdout",
          "text": [
            "Warning::Spark Session already created, some configs may not take.\n",
            "+--------------------+--------------------+\n",
            "|                path|                 doc|\n",
            "+--------------------+--------------------+\n",
            "|file:/content/wor...|[{Table, Header C...|\n",
            "+--------------------+--------------------+\n",
            "\n"
          ]
        }
      ]
    },
    {
      "cell_type": "markdown",
      "source": [
        "Partitioning a Power Point Document"
      ],
      "metadata": {
        "id": "3t_tb2x_JxP_"
      }
    },
    {
      "cell_type": "code",
      "source": [
        "partition_df = Partition().partition(\"./ppt-files/fake-power-point.pptx\")\n",
        "partition_df.show()"
      ],
      "metadata": {
        "colab": {
          "base_uri": "https://localhost:8080/"
        },
        "id": "y_xl0ahaJ0Hy",
        "outputId": "6040b119-2eca-4c58-f51b-e20fbefeef8d"
      },
      "execution_count": 18,
      "outputs": [
        {
          "output_type": "stream",
          "name": "stdout",
          "text": [
            "Warning::Spark Session already created, some configs may not take.\n",
            "+--------------------+--------------------+\n",
            "|                path|                 ppt|\n",
            "+--------------------+--------------------+\n",
            "|file:/content/ppt...|[{Title, Adding a...|\n",
            "+--------------------+--------------------+\n",
            "\n"
          ]
        }
      ]
    },
    {
      "cell_type": "markdown",
      "source": [
        "Partitioning a Email Document"
      ],
      "metadata": {
        "id": "-NBho92ZKPY6"
      }
    },
    {
      "cell_type": "code",
      "source": [
        "partition_df = Partition().partition(\"./email-files/test-several-attachments.eml\")\n",
        "partition_df.show()"
      ],
      "metadata": {
        "colab": {
          "base_uri": "https://localhost:8080/"
        },
        "id": "4JnKvFe5KVDf",
        "outputId": "d91d1ee5-d4a3-48a1-b40a-d5f6bf997025"
      },
      "execution_count": 19,
      "outputs": [
        {
          "output_type": "stream",
          "name": "stdout",
          "text": [
            "Warning::Spark Session already created, some configs may not take.\n",
            "+--------------------+--------------------+\n",
            "|                path|               email|\n",
            "+--------------------+--------------------+\n",
            "|file:/content/ema...|[{Title, Test Sev...|\n",
            "+--------------------+--------------------+\n",
            "\n"
          ]
        }
      ]
    },
    {
      "cell_type": "markdown",
      "source": [
        "Partitioning an HTML Document"
      ],
      "metadata": {
        "id": "w5cPzhzwKRCO"
      }
    },
    {
      "cell_type": "code",
      "source": [
        "partition_df = Partition().partition(\"./html-files/fake-html.html\")\n",
        "partition_df.show()"
      ],
      "metadata": {
        "colab": {
          "base_uri": "https://localhost:8080/"
        },
        "id": "_sldwjppKoPl",
        "outputId": "467e9085-86dd-43df-f63b-a707b920d3b3"
      },
      "execution_count": 20,
      "outputs": [
        {
          "output_type": "stream",
          "name": "stdout",
          "text": [
            "Warning::Spark Session already created, some configs may not take.\n",
            "+--------------------+--------------------+\n",
            "|                path|                html|\n",
            "+--------------------+--------------------+\n",
            "|file:/content/htm...|[{Title, My First...|\n",
            "+--------------------+--------------------+\n",
            "\n"
          ]
        }
      ]
    },
    {
      "cell_type": "markdown",
      "source": [
        "Partitioning a PDF Document"
      ],
      "metadata": {
        "id": "4dtv3MYNKNhe"
      }
    },
    {
      "cell_type": "code",
      "source": [
        "partition_df = Partition().partition(\"./pdf-files/text_3_pages.pdf\")\n",
        "partition_df.show()"
      ],
      "metadata": {
        "colab": {
          "base_uri": "https://localhost:8080/"
        },
        "id": "GltbZAjmKwQs",
        "outputId": "c3f18b1f-06df-4233-8874-e9702c465e69"
      },
      "execution_count": 21,
      "outputs": [
        {
          "output_type": "stream",
          "name": "stdout",
          "text": [
            "Warning::Spark Session already created, some configs may not take.\n",
            "+--------------------+--------------------+------+--------------------+----------------+---------------+-------+---------+-------+\n",
            "|                path|    modificationTime|length|                text|height_dimension|width_dimension|content|exception|pagenum|\n",
            "+--------------------+--------------------+------+--------------------+----------------+---------------+-------+---------+-------+\n",
            "|file:/content/pdf...|2025-05-26 23:11:...|  9487|   This is a page.\\n|             841|            595|   NULL|     NULL|      0|\n",
            "|file:/content/pdf...|2025-05-26 23:11:...|  9487|This is another p...|             841|            595|   NULL|     NULL|      1|\n",
            "|file:/content/pdf...|2025-05-26 23:11:...|  9487| Yet another page.\\n|             841|            595|   NULL|     NULL|      2|\n",
            "+--------------------+--------------------+------+--------------------+----------------+---------------+-------+---------+-------+\n",
            "\n"
          ]
        }
      ]
    },
    {
      "cell_type": "markdown",
      "source": [
        "You can also use DFS file systems like:\n",
        "- Databricks: `dbfs://`\n",
        "- HDFS: `hdfs://`\n",
        "- Microsoft Fabric OneLake: `abfss://`"
      ],
      "metadata": {
        "id": "BB2FEfegGuxl"
      }
    },
    {
      "cell_type": "markdown",
      "source": [
        "### Configuration Parameters"
      ],
      "metadata": {
        "id": "C1KhfLcCPizR"
      }
    },
    {
      "cell_type": "markdown",
      "source": [
        "The `Partition` feature allows you to extract content from various file formats while providing flexible customization using keyword arguments e.g. `kwargs`."
      ],
      "metadata": {
        "id": "OUSSGmjrPnPY"
      }
    },
    {
      "cell_type": "markdown",
      "source": [
        "| Kwargs Option   | Document Type | Usage                              |\n",
        "|:---------------:|:-------------:|:----------------------------------:|\n",
        "| `content_type`  | All           | Override automatic file detection  |\n",
        "| `store_content`  | All           | Whether to include the raw file content in the output DataFrame as a separate 'content' column, alongside the structured output  |\n",
        "| `timeout` | HTML        | Timeout value in seconds for reading remote HTML resources. Applied when fetching content from URLs     |\n",
        "| `title_font_size` | HTML, Excel        | Minimum font size threshold used as part of heuristic rules to detect title elements based on formatting (e.g., bold, centered, capitalized)|\n",
        "| `include_page_breaks` | Word, Excel | Whether to detect and tag content with page break metadata. In Word documents, this includes manual and section breaks. In Excel files, this includes page breaks based on column boundaries. |\n",
        "| `title_length_size` | Text | Maximum character length used to determine if a text block qualifies as a title during parsing |\n",
        "| `block_split` | Text | Splits the processed text into logical blocks for classification |\n",
        "| `group_broken_paragraphs` | Text | Whether to merge fragmented lines into coherent paragraphs using heuristics based on line length and structure |\n",
        "| `paragraph_split` | Text | Regex pattern used to detect paragraph boundaries when grouping broken paragraphs |\n",
        "| `short_line_word_threshold` | Text | Maximum word count for a line to be considered 'short' during broken paragraph grouping |\n",
        "| `threshold` | Text | Threshold ratio of empty lines used to decide between new line-based or broken-paragraph grouping |\n",
        "| `max_line_count` | Text | Maximum number of lines to evaluate when estimating paragraph layout characteristics |\n",
        "| `include_slide_notes` | PowerPoint | Whether to extract speaker notes from slides. When enabled, notes are included as narrative text elements. |\n",
        "| `infer_table_structure` | Word, Excel, PowerPoint | Whether to generate an HTML table representation from structured table content. When enabled, a full `<table>` element is added alongside cell-level elements, based on row and column layout. |\n",
        "| `append_cells` | Excel | Whether to append all rows into a single content block instead of creating separate elements per row. |\n",
        "| `cell_separator` | Excel | String used to join cell values in a row when assembling textual output |\n",
        "| `add_attachment_content` | Email | Whether to extract and include the textual content of plain-text attachments in the output |"
      ],
      "metadata": {
        "id": "69oM1ydiZgiK"
      }
    },
    {
      "cell_type": "markdown",
      "source": [
        "One important customization is specifying the content type explicitly using the `content_type` parameter. This helps bypass file identification and directly process files following the [MIME](https://developer.mozilla.org/en-US/docs/Web/HTTP/Basics_of_HTTP/MIME_types) specification."
      ],
      "metadata": {
        "id": "qH17yHvrcCwE"
      }
    },
    {
      "cell_type": "code",
      "source": [
        "partition_df = Partition(content_type = \"application/msword\").partition(\"./word-files\")\n",
        "partition_df.show()"
      ],
      "metadata": {
        "colab": {
          "base_uri": "https://localhost:8080/"
        },
        "id": "gDJyUi_9R4fr",
        "outputId": "4aebe625-444d-4161-be23-512708ced1b5"
      },
      "execution_count": 22,
      "outputs": [
        {
          "output_type": "stream",
          "name": "stdout",
          "text": [
            "Warning::Spark Session already created, some configs may not take.\n",
            "+--------------------+--------------------+\n",
            "|                path|                 doc|\n",
            "+--------------------+--------------------+\n",
            "|file:/content/wor...|[{NarrativeText, ...|\n",
            "|file:/content/wor...|[{Header, An inli...|\n",
            "|file:/content/wor...|[{Table, Header C...|\n",
            "+--------------------+--------------------+\n",
            "\n"
          ]
        }
      ]
    },
    {
      "cell_type": "code",
      "source": [
        "partition_df = Partition(content_type = \"application/pdf\").partition(\"./pdf-files\")\n",
        "partition_df.show()"
      ],
      "metadata": {
        "colab": {
          "base_uri": "https://localhost:8080/"
        },
        "id": "3vz48AHQHyON",
        "outputId": "f3ba8c4b-3bfc-453a-d8d4-f86a5fca0a1b"
      },
      "execution_count": 23,
      "outputs": [
        {
          "output_type": "stream",
          "name": "stdout",
          "text": [
            "Warning::Spark Session already created, some configs may not take.\n",
            "+--------------------+--------------------+------+--------------------+----------------+---------------+-------+---------+-------+\n",
            "|                path|    modificationTime|length|                text|height_dimension|width_dimension|content|exception|pagenum|\n",
            "+--------------------+--------------------+------+--------------------+----------------+---------------+-------+---------+-------+\n",
            "|file:/content/pdf...|2025-05-26 23:11:...| 25803|This is a Title \\...|             842|            596|   NULL|     NULL|      0|\n",
            "|file:/content/pdf...|2025-05-26 23:11:...| 15629|                  \\n|             841|            595|   NULL|     NULL|      0|\n",
            "|file:/content/pdf...|2025-05-26 23:11:...| 15629|                  \\n|             841|            595|   NULL|     NULL|      1|\n",
            "|file:/content/pdf...|2025-05-26 23:11:...| 15629|                  \\n|             841|            595|   NULL|     NULL|      2|\n",
            "|file:/content/pdf...|2025-05-26 23:11:...|  9487|   This is a page.\\n|             841|            595|   NULL|     NULL|      0|\n",
            "|file:/content/pdf...|2025-05-26 23:11:...|  9487|This is another p...|             841|            595|   NULL|     NULL|      1|\n",
            "|file:/content/pdf...|2025-05-26 23:11:...|  9487| Yet another page.\\n|             841|            595|   NULL|     NULL|      2|\n",
            "+--------------------+--------------------+------+--------------------+----------------+---------------+-------+---------+-------+\n",
            "\n"
          ]
        }
      ]
    },
    {
      "cell_type": "code",
      "source": [
        "partition_df = Partition(content_type = \"application/vnd.ms-excel\").partition(\"./excel-files/PageBreakExample.xlsx\")\n",
        "partition_df.show(truncate=False)"
      ],
      "metadata": {
        "colab": {
          "base_uri": "https://localhost:8080/"
        },
        "id": "S50lqIFskNO3",
        "outputId": "e52f4cde-cfb9-4a55-d989-6e9fe40a0321"
      },
      "execution_count": 24,
      "outputs": [
        {
          "output_type": "stream",
          "name": "stdout",
          "text": [
            "Warning::Spark Session already created, some configs may not take.\n",
            "+-----------------------------------------------+--------------------------------------------------------------------------------------------------------------------------------------------------------------------------------------------------------------------------------------------------------------------------------------------------------------------------------------------------------------------------------------------------------------------------------------------------------------------------------------------------------------------------------------------------------------------------------------------------------------------------------+\n",
            "|path                                           |xls                                                                                                                                                                                                                                                                                                                                                                                                                                                                                                                                                                                                                             |\n",
            "+-----------------------------------------------+--------------------------------------------------------------------------------------------------------------------------------------------------------------------------------------------------------------------------------------------------------------------------------------------------------------------------------------------------------------------------------------------------------------------------------------------------------------------------------------------------------------------------------------------------------------------------------------------------------------------------------+\n",
            "|file:/content/excel-files/PageBreakExample.xlsx|[{Title, Date\\tFri Jul 19 00:00:00 UTC 2024, {location -> (0, 1), SheetName -> Sheet1}}, {Title, Assets\\t\\tDebts, {location -> (1, 4), SheetName -> Sheet1}}, {NarrativeText, Bank1\\t5865.43\\tCredit Card1\\t2000.0, {location -> (2, 5), SheetName -> Sheet1}}, {NarrativeText, Bank2\\t10140.19\\tCredit Card2\\t1500.0, {location -> (3, 5), SheetName -> Sheet1}}, {NarrativeText, Bank3\\t1200.0\\tCredit Card3\\t348.0, {location -> (4, 5), SheetName -> Sheet1}}, {Title, Bank4\\t1438.27\\tTotal\\tSUM(F3:F5), {location -> (5, 5), SheetName -> Sheet1}}, {Title, Total\\tSUM(B3:B6), {location -> (6, 1), SheetName -> Sheet1}}]|\n",
            "+-----------------------------------------------+--------------------------------------------------------------------------------------------------------------------------------------------------------------------------------------------------------------------------------------------------------------------------------------------------------------------------------------------------------------------------------------------------------------------------------------------------------------------------------------------------------------------------------------------------------------------------------------------------------------------------------+\n",
            "\n"
          ]
        }
      ]
    },
    {
      "cell_type": "markdown",
      "source": [
        "We can use the `store_content` option to include the raw file content in the output DataFrame as a separate 'content' column, alongside the structured output"
      ],
      "metadata": {
        "id": "F0lCz9OyPYYh"
      }
    },
    {
      "cell_type": "code",
      "source": [
        "partition_df = Partition(content_type = \"application/msword\", store_content = True).partition(\"./word-files\")\n",
        "partition_df.show()"
      ],
      "metadata": {
        "id": "qExdRJ2aPsYV",
        "colab": {
          "base_uri": "https://localhost:8080/"
        },
        "outputId": "0284de34-ce6a-4d1e-91bc-268521111015"
      },
      "execution_count": 25,
      "outputs": [
        {
          "output_type": "stream",
          "name": "stdout",
          "text": [
            "Warning::Spark Session already created, some configs may not take.\n",
            "+--------------------+--------------------+--------------------+\n",
            "|                path|                 doc|             content|\n",
            "+--------------------+--------------------+--------------------+\n",
            "|file:/content/wor...|[{NarrativeText, ...|[50 4B 03 04 14 0...|\n",
            "|file:/content/wor...|[{Header, An inli...|[50 4B 03 04 14 0...|\n",
            "|file:/content/wor...|[{Table, Header C...|[50 4B 03 04 14 0...|\n",
            "+--------------------+--------------------+--------------------+\n",
            "\n"
          ]
        }
      ]
    },
    {
      "cell_type": "markdown",
      "source": [
        "## Partitioning HTML documents"
      ],
      "metadata": {
        "id": "02qrQWIWP89R"
      }
    },
    {
      "cell_type": "markdown",
      "source": [
        "The `timeout` parameter lets you define how long to wait (in seconds) for a response when fetching HTML content, preventing long stalls on slow or unresponsive sites."
      ],
      "metadata": {
        "id": "b8Tk-kc8GGzx"
      }
    },
    {
      "cell_type": "code",
      "source": [
        "partition_df = Partition(timeout = 1).partition(\"https://www.blizzard.com\")\n",
        "partition_df.show(truncate=False)"
      ],
      "metadata": {
        "colab": {
          "base_uri": "https://localhost:8080/"
        },
        "id": "_2J0zEmma8jm",
        "outputId": "405391bf-60bf-4632-ef0e-e84496049c71"
      },
      "execution_count": 26,
      "outputs": [
        {
          "output_type": "stream",
          "name": "stdout",
          "text": [
            "Warning::Spark Session already created, some configs may not take.\n",
            "+------------------------+------------------------------------------------------------------------------------------------------------------------------------------------------------------------------------------------------------------------------------------------------------------------------------------------------------------------------------------------------------------------------------------------------------------------------------------------------------------------------------------------------------------------------------------------------------------------------------------------------------------------------------------------------------------------------------------------------------------------------------------------------------------------------------------------------------------------------------------------------------------------------------------------------------------------------------------------------------------------------------------------------------------------------------------------------------------------------------------------------------------------------------------------------------------------------------------------------------------------------------------------------------------------------------------------------------------------------------------------------------------------------------------------------------------------------------------------------------------------------------------------------------------------------------------------------------------------------------------------------------------------------------------------------------------------------------------------------------------------------------------------------------------------------------------------------------------------------------------------------------------------------------------------------------------------------------------------------------------------------------------------------------------------------------------------------------------------------------------------------------------------------------------------------------------------------------------------------------------------------------------------------------------------------------------------------------------------------------------------------------------------------------------------------------------------------------------------------------------------------------------------------------------------------------------------------------------------------------------------------------------------------------------------------------------------------------------------------------------------------------------------------------------------------------------------------------------------------------------------------------------------------------------------------------------------------------------------------------------------------------------------------------------------------------------------------------------------------------------------------------------------------------------------------------------------------------------------------------------------------------------------------------------------------------------------------------------------------------------------------------------------------------------------------------------------------------------------------------------------------------------------------------------------------------------------------------------------------------------------------------------------------------------------------------------------------------------------------------------------------------------------------------------------------------------------------------------------------------------------------------------------------------------------------------------------------------------------------------------------------------------------------------------------------------------------------------------------------------------------------------------------------------------------------------------------------------------------------------------------------------------------------------------------------------------------------------------------------------------------------------------------------------------------------------------------------------------------------------------------------------------------------------------------------------------------------------------------------------------------------------------------------------------------------------------------------------------------------------------------------------------------------------------------------------------------------------------------------------------------------------------------------------------------------------------------------------------------------------------------------------------------------------------------------------------------------------------------------------------------------------------------------------------------------------------------------------------------------------------------------------------------------------------------------------------------------------------------------------------------------------------------------------------------------------------------------------------------------------------------------------------------------------------------------------------------------------------------------------------------------------------------------------------------------------------------------------------------------------------------------------------------------------------------------------------------------------------------------------------------------------------------------------------------------------------------------------------------------------------------------------------------------------------------------------------------------------------------------------------------------------------------------------------------------------------------------------------------------------------------------------------------------------------------------------------------------------------------------------------------------------------------------------------------------------------------------------------------------------------------------------------------------------------------------------------------------------------------------------------------------------------------------------------------------------------------------------------------------------------------------------------------------------------------------------------------------------------------------------------------------------------------------------------------------------------------------------------------------------------------------------------------------------------------------------------------------------------------------------------------------------------------------------------------------------------------------------------------------------------------------------------------------------------------------------------------------------------------------------------------------------------------------------------------------------------------------------------------------------------------------------------------------------------------------------------------------------------------------------------------------------------------------------------------------------------------------------------------------------------------------------------------------------------------------------------------------------------------------------------------------------------------------------------------------------------------------------------------------------------------------------------------------------------------------------------------------------------------------------------------------------------------------------------------------------------------------------------------------------------------------------------------------------------------------------------------------------------------------------------------------------------------------------------------------------------------------------------------------------------------------------------------------------------------------------------------------------------------------------------------------------------------------------------------------------------------------------------------------------------------------------------------------------------------------------------------------------------------------------------------------------------------------------------------------------------------------------------------------------------------------------------------------------------------------------------------------------------------------------------------------------------------------------------------------------------------------------------------------------------------------------------------------------------------------------------------------------------------------------------------------------------------------------------------------------------------------------------------------------------------------------------------------------------------------------------------------------------------------------------------------------------------------------------------------------------------------------------------------------------------------------------------------------------------------------------------------------------------------------------------------------------------------------------------------------------------------------------------------------------------------------------------------------------------------------------------------------------------------------------------------------------------------------------------------------------------------------------------------------------------------------------------------------------------------------------------------------------------------------------------------------------------------------------------------------------------------------------------------------------------------------------------------------------------------------------------------------------------------------------------------------------------------------------------------------------------------------------------------------------------------------------------------------------------------------------------------------------------------------------------------------------------------------------------------------------------------------------------------------------------------------------------------------------------------------------------------------------------------------------------------------------------------------------------------------------------------------------------------------------------------------------------------------------------------------------------------------------------------------------------------------------------------------------------------------------------------------------------------------------------------------------------------------------------------------------------+\n",
            "|url                     |html                                                                                                                                                                                                                                                                                                                                                                                                                                                                                                                                                                                                                                                                                                                                                                                                                                                                                                                                                                                                                                                                                                                                                                                                                                                                                                                                                                                                                                                                                                                                                                                                                                                                                                                                                                                                                                                                                                                                                                                                                                                                                                                                                                                                                                                                                                                                                                                                                                                                                                                                                                                                                                                                                                                                                                                                                                                                                                                                                                                                                                                                                                                                                                                                                                                                                                                                                                                                                                                                                                                                                                                                                                                                                                                                                                                                                                                                                                                                                                                                                                                                                                                                                                                                                                                                                                                                                                                                                                                                                                                                                                                                                                                                                                                                                                                                                                                                                                                                                                                                                                                                                                                                                                                                                                                                                                                                                                                                                                                                                                                                                                                                                                                                                                                                                                                                                                                                                                                                                                                                                                                                                                                                                                                                                                                                                                                                                                                                                                                                                                                                                                                                                                                                                                                                                                                                                                                                                                                                                                                                                                                                                                                                                                                                                                                                                                                                                                                                                                                                                                                                                                                                                                                                                                                                                                                                                                                                                                                                                                                                                                                                                                                                                                                                                                                                                                                                                                                                                                                                                                                                                                                                                                                                                                                                                                                                                                                                                                                                                                                                                                                                                                                                                                                                                                                                                                                                                                                                                                                                                                                                                                                                                                                                                                                                                                                                                                                                                                                                                                                                                                                                                                                                                                                                                                                                                                                                                                                                                                                                                                                                                                                                                                                                                                                                                                                                                                                                                                                                                                                                                                                                                                                                                                                                                                                                                                                                                                                                                                                                                                                                            |\n",
            "+------------------------+------------------------------------------------------------------------------------------------------------------------------------------------------------------------------------------------------------------------------------------------------------------------------------------------------------------------------------------------------------------------------------------------------------------------------------------------------------------------------------------------------------------------------------------------------------------------------------------------------------------------------------------------------------------------------------------------------------------------------------------------------------------------------------------------------------------------------------------------------------------------------------------------------------------------------------------------------------------------------------------------------------------------------------------------------------------------------------------------------------------------------------------------------------------------------------------------------------------------------------------------------------------------------------------------------------------------------------------------------------------------------------------------------------------------------------------------------------------------------------------------------------------------------------------------------------------------------------------------------------------------------------------------------------------------------------------------------------------------------------------------------------------------------------------------------------------------------------------------------------------------------------------------------------------------------------------------------------------------------------------------------------------------------------------------------------------------------------------------------------------------------------------------------------------------------------------------------------------------------------------------------------------------------------------------------------------------------------------------------------------------------------------------------------------------------------------------------------------------------------------------------------------------------------------------------------------------------------------------------------------------------------------------------------------------------------------------------------------------------------------------------------------------------------------------------------------------------------------------------------------------------------------------------------------------------------------------------------------------------------------------------------------------------------------------------------------------------------------------------------------------------------------------------------------------------------------------------------------------------------------------------------------------------------------------------------------------------------------------------------------------------------------------------------------------------------------------------------------------------------------------------------------------------------------------------------------------------------------------------------------------------------------------------------------------------------------------------------------------------------------------------------------------------------------------------------------------------------------------------------------------------------------------------------------------------------------------------------------------------------------------------------------------------------------------------------------------------------------------------------------------------------------------------------------------------------------------------------------------------------------------------------------------------------------------------------------------------------------------------------------------------------------------------------------------------------------------------------------------------------------------------------------------------------------------------------------------------------------------------------------------------------------------------------------------------------------------------------------------------------------------------------------------------------------------------------------------------------------------------------------------------------------------------------------------------------------------------------------------------------------------------------------------------------------------------------------------------------------------------------------------------------------------------------------------------------------------------------------------------------------------------------------------------------------------------------------------------------------------------------------------------------------------------------------------------------------------------------------------------------------------------------------------------------------------------------------------------------------------------------------------------------------------------------------------------------------------------------------------------------------------------------------------------------------------------------------------------------------------------------------------------------------------------------------------------------------------------------------------------------------------------------------------------------------------------------------------------------------------------------------------------------------------------------------------------------------------------------------------------------------------------------------------------------------------------------------------------------------------------------------------------------------------------------------------------------------------------------------------------------------------------------------------------------------------------------------------------------------------------------------------------------------------------------------------------------------------------------------------------------------------------------------------------------------------------------------------------------------------------------------------------------------------------------------------------------------------------------------------------------------------------------------------------------------------------------------------------------------------------------------------------------------------------------------------------------------------------------------------------------------------------------------------------------------------------------------------------------------------------------------------------------------------------------------------------------------------------------------------------------------------------------------------------------------------------------------------------------------------------------------------------------------------------------------------------------------------------------------------------------------------------------------------------------------------------------------------------------------------------------------------------------------------------------------------------------------------------------------------------------------------------------------------------------------------------------------------------------------------------------------------------------------------------------------------------------------------------------------------------------------------------------------------------------------------------------------------------------------------------------------------------------------------------------------------------------------------------------------------------------------------------------------------------------------------------------------------------------------------------------------------------------------------------------------------------------------------------------------------------------------------------------------------------------------------------------------------------------------------------------------------------------------------------------------------------------------------------------------------------------------------------------------------------------------------------------------------------------------------------------------------------------------------------------------------------------------------------------------------------------------------------------------------------------------------------------------------------------------------------------------------------------------------------------------------------------------------------------------------------------------------------------------------------------------------------------------------------------------------------------------------------------------------------------------------------------------------------------------------------------------------------------------------------------------------------------------------------------------------------------------------------------------------------------------------------------------------------------------------------------------------------------------------------------------------------------------------------------------------------------------------------------------------------------------------------------------------------------------------------------------------------------------------------------------------------------------------------------------------------------------------------------------------------------------------------------------------------------------------------------------------------------------------------------------------------------------------------------------------------------------------------------------------------------------------------------------------------------------------------------------------------------------------------------------------------------------------------------------------------------------------------------------------------------------------------------------------------------------------------------------------------------------------------------------------------------------------------------------------------------------------------------------------------------------------------------------------------------------------------------------------------------------------------------------------------------------------------------------------------------------------------------------------------------------------------------------------------------------------------------------------------------------------------------------------+\n",
            "|https://www.blizzard.com|[{Title, Featured Games, {pageNumber -> 1}}, {Title, World of Warcraft: Mists of Pandaria Classic, {pageNumber -> 1}}, {NarrativeText, MMORPG, {pageNumber -> 1}}, {Title, World of Warcraft: Mists of Pandaria Classic, {pageNumber -> 1}}, {NarrativeText, MMORPG, {pageNumber -> 1}}, {Title, Warcraft I: Remastered, {pageNumber -> 1}}, {NarrativeText, Real-Time Strategy, {pageNumber -> 1}}, {Title, Warcraft I: Remastered, {pageNumber -> 1}}, {NarrativeText, Real-Time Strategy, {pageNumber -> 1}}, {Title, Warcraft II: Remastered, {pageNumber -> 1}}, {NarrativeText, Real-Time Strategy, {pageNumber -> 1}}, {Title, Warcraft II: Remastered, {pageNumber -> 1}}, {NarrativeText, Real-Time Strategy, {pageNumber -> 1}}, {Title, Warcraft III: Reforged, {pageNumber -> 1}}, {NarrativeText, Real-Time Strategy, {pageNumber -> 1}}, {Title, Warcraft III: Reforged, {pageNumber -> 1}}, {NarrativeText, Real-Time Strategy, {pageNumber -> 1}}, {Title, Diablo IV: Vessel of Hatred, {pageNumber -> 1}}, {NarrativeText, Action RPG, {pageNumber -> 1}}, {Title, Diablo IV: Vessel of Hatred, {pageNumber -> 1}}, {NarrativeText, Action RPG, {pageNumber -> 1}}, {Title, World of Warcraft: The War Within, {pageNumber -> 1}}, {NarrativeText, MMORPG, {pageNumber -> 1}}, {Title, World of Warcraft: The War Within, {pageNumber -> 1}}, {NarrativeText, MMORPG, {pageNumber -> 1}}, {Title, Warcraft Rumble, {pageNumber -> 1}}, {NarrativeText, Mobile Action Strategy, {pageNumber -> 1}}, {Title, Warcraft Rumble, {pageNumber -> 1}}, {NarrativeText, Mobile Action Strategy, {pageNumber -> 1}}, {Title, World of Warcraft, {pageNumber -> 1}}, {NarrativeText, MMORPG, {pageNumber -> 1}}, {Title, World of Warcraft, {pageNumber -> 1}}, {NarrativeText, MMORPG, {pageNumber -> 1}}, {Title, Overwatch 2, {pageNumber -> 1}}, {NarrativeText, Team-Based Action, {pageNumber -> 1}}, {Title, Overwatch 2, {pageNumber -> 1}}, {NarrativeText, Team-Based Action, {pageNumber -> 1}}, {Title, Hearthstone, {pageNumber -> 1}}, {NarrativeText, Strategy Card Game, {pageNumber -> 1}}, {Title, Hearthstone, {pageNumber -> 1}}, {NarrativeText, Strategy Card Game, {pageNumber -> 1}}, {Title, World of Warcraft: Mists of Pandaria Classic, {pageNumber -> 1}}, {NarrativeText, MMORPG, {pageNumber -> 1}}, {Title, World of Warcraft: Mists of Pandaria Classic, {pageNumber -> 1}}, {NarrativeText, MMORPG, {pageNumber -> 1}}, {Title, Warcraft II: Remastered, {pageNumber -> 1}}, {NarrativeText, Real-Time Strategy, {pageNumber -> 1}}, {Title, Warcraft II: Remastered, {pageNumber -> 1}}, {NarrativeText, Real-Time Strategy, {pageNumber -> 1}}, {Title, Warcraft I: Remastered, {pageNumber -> 1}}, {NarrativeText, Real-Time Strategy, {pageNumber -> 1}}, {Title, Warcraft I: Remastered, {pageNumber -> 1}}, {NarrativeText, Real-Time Strategy, {pageNumber -> 1}}, {Title, Warcraft III: Reforged, {pageNumber -> 1}}, {NarrativeText, Real-Time Strategy, {pageNumber -> 1}}, {Title, Warcraft III: Reforged, {pageNumber -> 1}}, {NarrativeText, Real-Time Strategy, {pageNumber -> 1}}, {Title, Diablo IV: Vessel of Hatred, {pageNumber -> 1}}, {NarrativeText, Action RPG, {pageNumber -> 1}}, {Title, Diablo IV: Vessel of Hatred, {pageNumber -> 1}}, {NarrativeText, Action RPG, {pageNumber -> 1}}, {Title, Warcraft Rumble, {pageNumber -> 1}}, {NarrativeText, Mobile Action Strategy, {pageNumber -> 1}}, {Title, Warcraft Rumble, {pageNumber -> 1}}, {NarrativeText, Mobile Action Strategy, {pageNumber -> 1}}, {Title, World of Warcraft: The War Within, {pageNumber -> 1}}, {NarrativeText, MMORPG, {pageNumber -> 1}}, {Title, World of Warcraft: The War Within, {pageNumber -> 1}}, {NarrativeText, MMORPG, {pageNumber -> 1}}, {Title, World of Warcraft, {pageNumber -> 1}}, {NarrativeText, MMORPG, {pageNumber -> 1}}, {Title, World of Warcraft, {pageNumber -> 1}}, {NarrativeText, MMORPG, {pageNumber -> 1}}, {Title, Overwatch 2, {pageNumber -> 1}}, {NarrativeText, Team-Based Action, {pageNumber -> 1}}, {Title, Overwatch 2, {pageNumber -> 1}}, {NarrativeText, Team-Based Action, {pageNumber -> 1}}, {Title, Hearthstone, {pageNumber -> 1}}, {NarrativeText, Strategy Card Game, {pageNumber -> 1}}, {Title, Hearthstone, {pageNumber -> 1}}, {NarrativeText, Strategy Card Game, {pageNumber -> 1}}, {Title, World of Warcraft: Mists of Pandaria Classic, {pageNumber -> 1}}, {NarrativeText, MMORPG, {pageNumber -> 1}}, {Title, World of Warcraft: Mists of Pandaria Classic, {pageNumber -> 1}}, {NarrativeText, MMORPG, {pageNumber -> 1}}, {Title, Warcraft I: Remastered, {pageNumber -> 1}}, {NarrativeText, Real-Time Strategy, {pageNumber -> 1}}, {Title, Warcraft I: Remastered, {pageNumber -> 1}}, {NarrativeText, Real-Time Strategy, {pageNumber -> 1}}, {Title, Warcraft II: Remastered, {pageNumber -> 1}}, {NarrativeText, Real-Time Strategy, {pageNumber -> 1}}, {Title, Warcraft II: Remastered, {pageNumber -> 1}}, {NarrativeText, Real-Time Strategy, {pageNumber -> 1}}, {Title, Warcraft III: Reforged, {pageNumber -> 1}}, {NarrativeText, Real-Time Strategy, {pageNumber -> 1}}, {Title, Warcraft III: Reforged, {pageNumber -> 1}}, {NarrativeText, Real-Time Strategy, {pageNumber -> 1}}, {Title, Diablo IV: Vessel of Hatred, {pageNumber -> 1}}, {NarrativeText, Action RPG, {pageNumber -> 1}}, {Title, Diablo IV: Vessel of Hatred, {pageNumber -> 1}}, {NarrativeText, Action RPG, {pageNumber -> 1}}, {Title, World of Warcraft: The War Within, {pageNumber -> 1}}, {NarrativeText, MMORPG, {pageNumber -> 1}}, {Title, World of Warcraft: The War Within, {pageNumber -> 1}}, {NarrativeText, MMORPG, {pageNumber -> 1}}, {Title, Diablo IV, {pageNumber -> 1}}, {NarrativeText, Action RPG, {pageNumber -> 1}}, {Title, Diablo IV, {pageNumber -> 1}}, {NarrativeText, Action RPG, {pageNumber -> 1}}, {Title, Warcraft Rumble, {pageNumber -> 1}}, {NarrativeText, Mobile Action Strategy, {pageNumber -> 1}}, {Title, Warcraft Rumble, {pageNumber -> 1}}, {NarrativeText, Mobile Action Strategy, {pageNumber -> 1}}, {Title, World of Warcraft, {pageNumber -> 1}}, {NarrativeText, MMORPG, {pageNumber -> 1}}, {Title, World of Warcraft, {pageNumber -> 1}}, {NarrativeText, MMORPG, {pageNumber -> 1}}, {Title, Overwatch 2, {pageNumber -> 1}}, {NarrativeText, Team-Based Action, {pageNumber -> 1}}, {Title, Overwatch 2, {pageNumber -> 1}}, {NarrativeText, Team-Based Action, {pageNumber -> 1}}, {Title, World of Warcraft: Mists of Pandaria Classic, {pageNumber -> 1}}, {NarrativeText, MMORPG, {pageNumber -> 1}}, {Title, World of Warcraft: Mists of Pandaria Classic, {pageNumber -> 1}}, {NarrativeText, MMORPG, {pageNumber -> 1}}, {Title, Warcraft II: Remastered, {pageNumber -> 1}}, {NarrativeText, Real-Time Strategy, {pageNumber -> 1}}, {Title, Warcraft II: Remastered, {pageNumber -> 1}}, {NarrativeText, Real-Time Strategy, {pageNumber -> 1}}, {Title, Warcraft I: Remastered, {pageNumber -> 1}}, {NarrativeText, Real-Time Strategy, {pageNumber -> 1}}, {Title, Warcraft I: Remastered, {pageNumber -> 1}}, {NarrativeText, Real-Time Strategy, {pageNumber -> 1}}, {Title, Warcraft III: Reforged, {pageNumber -> 1}}, {NarrativeText, Real-Time Strategy, {pageNumber -> 1}}, {Title, Warcraft III: Reforged, {pageNumber -> 1}}, {NarrativeText, Real-Time Strategy, {pageNumber -> 1}}, {Title, Diablo IV: Vessel of Hatred, {pageNumber -> 1}}, {NarrativeText, Action RPG, {pageNumber -> 1}}, {Title, Diablo IV: Vessel of Hatred, {pageNumber -> 1}}, {NarrativeText, Action RPG, {pageNumber -> 1}}, {Title, Diablo IV, {pageNumber -> 1}}, {NarrativeText, Action RPG, {pageNumber -> 1}}, {Title, Diablo IV, {pageNumber -> 1}}, {NarrativeText, Action RPG, {pageNumber -> 1}}, {Title, World of Warcraft: The War Within, {pageNumber -> 1}}, {NarrativeText, MMORPG, {pageNumber -> 1}}, {Title, World of Warcraft: The War Within, {pageNumber -> 1}}, {NarrativeText, MMORPG, {pageNumber -> 1}}, {Title, Warcraft Rumble, {pageNumber -> 1}}, {NarrativeText, Mobile Action Strategy, {pageNumber -> 1}}, {Title, Warcraft Rumble, {pageNumber -> 1}}, {NarrativeText, Mobile Action Strategy, {pageNumber -> 1}}, {Title, World of Warcraft, {pageNumber -> 1}}, {NarrativeText, MMORPG, {pageNumber -> 1}}, {Title, World of Warcraft, {pageNumber -> 1}}, {NarrativeText, MMORPG, {pageNumber -> 1}}, {Title, Overwatch 2, {pageNumber -> 1}}, {NarrativeText, Team-Based Action, {pageNumber -> 1}}, {Title, Overwatch 2, {pageNumber -> 1}}, {NarrativeText, Team-Based Action, {pageNumber -> 1}}, {Title, Diablo IV: Vessel of Hatred, {pageNumber -> 1}}, {NarrativeText, Action RPG, {pageNumber -> 1}}, {Title, Diablo IV: Vessel of Hatred, {pageNumber -> 1}}, {NarrativeText, Action RPG, {pageNumber -> 1}}, {Title, Diablo IV, {pageNumber -> 1}}, {NarrativeText, Action RPG, {pageNumber -> 1}}, {Title, Diablo IV, {pageNumber -> 1}}, {NarrativeText, Action RPG, {pageNumber -> 1}}, {Title, Overwatch 2, {pageNumber -> 1}}, {NarrativeText, Team-Based Action, {pageNumber -> 1}}, {Title, Overwatch 2, {pageNumber -> 1}}, {NarrativeText, Team-Based Action, {pageNumber -> 1}}, {Title, Diablo II: Resurrected, {pageNumber -> 1}}, {NarrativeText, Action RPG, {pageNumber -> 1}}, {Title, Diablo II: Resurrected, {pageNumber -> 1}}, {NarrativeText, Action RPG, {pageNumber -> 1}}, {Title, Diablo IV: Vessel of Hatred, {pageNumber -> 1}}, {NarrativeText, Action RPG, {pageNumber -> 1}}, {Title, Diablo IV: Vessel of Hatred, {pageNumber -> 1}}, {NarrativeText, Action RPG, {pageNumber -> 1}}, {Title, Diablo IV, {pageNumber -> 1}}, {NarrativeText, Action RPG, {pageNumber -> 1}}, {Title, Diablo IV, {pageNumber -> 1}}, {NarrativeText, Action RPG, {pageNumber -> 1}}, {Title, Overwatch 2, {pageNumber -> 1}}, {NarrativeText, Team-Based Action, {pageNumber -> 1}}, {Title, Overwatch 2, {pageNumber -> 1}}, {NarrativeText, Team-Based Action, {pageNumber -> 1}}, {Title, Diablo II: Resurrected, {pageNumber -> 1}}, {NarrativeText, Action RPG, {pageNumber -> 1}}, {Title, Diablo II: Resurrected, {pageNumber -> 1}}, {NarrativeText, Action RPG, {pageNumber -> 1}}, {Title, Warcraft Rumble, {pageNumber -> 1}}, {NarrativeText, Mobile Action Strategy, {pageNumber -> 1}}, {Title, Warcraft Rumble, {pageNumber -> 1}}, {NarrativeText, Mobile Action Strategy, {pageNumber -> 1}}, {Title, Hearthstone, {pageNumber -> 1}}, {NarrativeText, Strategy Card Game, {pageNumber -> 1}}, {Title, Hearthstone, {pageNumber -> 1}}, {NarrativeText, Strategy Card Game, {pageNumber -> 1}}, {Title, Diablo Immortal, {pageNumber -> 1}}, {NarrativeText, Action RPG, {pageNumber -> 1}}, {Title, Diablo Immortal, {pageNumber -> 1}}, {NarrativeText, Action RPG, {pageNumber -> 1}}, {Title, Warcraft Rumble, {pageNumber -> 1}}, {NarrativeText, Mobile Action Strategy, {pageNumber -> 1}}, {Title, Warcraft Rumble, {pageNumber -> 1}}, {NarrativeText, Mobile Action Strategy, {pageNumber -> 1}}, {Title, Hearthstone, {pageNumber -> 1}}, {NarrativeText, Strategy Card Game, {pageNumber -> 1}}, {Title, Hearthstone, {pageNumber -> 1}}, {NarrativeText, Strategy Card Game, {pageNumber -> 1}}, {Title, Diablo Immortal, {pageNumber -> 1}}, {NarrativeText, Action RPG, {pageNumber -> 1}}, {Title, Diablo Immortal, {pageNumber -> 1}}, {NarrativeText, Action RPG, {pageNumber -> 1}}]|\n",
            "+------------------------+------------------------------------------------------------------------------------------------------------------------------------------------------------------------------------------------------------------------------------------------------------------------------------------------------------------------------------------------------------------------------------------------------------------------------------------------------------------------------------------------------------------------------------------------------------------------------------------------------------------------------------------------------------------------------------------------------------------------------------------------------------------------------------------------------------------------------------------------------------------------------------------------------------------------------------------------------------------------------------------------------------------------------------------------------------------------------------------------------------------------------------------------------------------------------------------------------------------------------------------------------------------------------------------------------------------------------------------------------------------------------------------------------------------------------------------------------------------------------------------------------------------------------------------------------------------------------------------------------------------------------------------------------------------------------------------------------------------------------------------------------------------------------------------------------------------------------------------------------------------------------------------------------------------------------------------------------------------------------------------------------------------------------------------------------------------------------------------------------------------------------------------------------------------------------------------------------------------------------------------------------------------------------------------------------------------------------------------------------------------------------------------------------------------------------------------------------------------------------------------------------------------------------------------------------------------------------------------------------------------------------------------------------------------------------------------------------------------------------------------------------------------------------------------------------------------------------------------------------------------------------------------------------------------------------------------------------------------------------------------------------------------------------------------------------------------------------------------------------------------------------------------------------------------------------------------------------------------------------------------------------------------------------------------------------------------------------------------------------------------------------------------------------------------------------------------------------------------------------------------------------------------------------------------------------------------------------------------------------------------------------------------------------------------------------------------------------------------------------------------------------------------------------------------------------------------------------------------------------------------------------------------------------------------------------------------------------------------------------------------------------------------------------------------------------------------------------------------------------------------------------------------------------------------------------------------------------------------------------------------------------------------------------------------------------------------------------------------------------------------------------------------------------------------------------------------------------------------------------------------------------------------------------------------------------------------------------------------------------------------------------------------------------------------------------------------------------------------------------------------------------------------------------------------------------------------------------------------------------------------------------------------------------------------------------------------------------------------------------------------------------------------------------------------------------------------------------------------------------------------------------------------------------------------------------------------------------------------------------------------------------------------------------------------------------------------------------------------------------------------------------------------------------------------------------------------------------------------------------------------------------------------------------------------------------------------------------------------------------------------------------------------------------------------------------------------------------------------------------------------------------------------------------------------------------------------------------------------------------------------------------------------------------------------------------------------------------------------------------------------------------------------------------------------------------------------------------------------------------------------------------------------------------------------------------------------------------------------------------------------------------------------------------------------------------------------------------------------------------------------------------------------------------------------------------------------------------------------------------------------------------------------------------------------------------------------------------------------------------------------------------------------------------------------------------------------------------------------------------------------------------------------------------------------------------------------------------------------------------------------------------------------------------------------------------------------------------------------------------------------------------------------------------------------------------------------------------------------------------------------------------------------------------------------------------------------------------------------------------------------------------------------------------------------------------------------------------------------------------------------------------------------------------------------------------------------------------------------------------------------------------------------------------------------------------------------------------------------------------------------------------------------------------------------------------------------------------------------------------------------------------------------------------------------------------------------------------------------------------------------------------------------------------------------------------------------------------------------------------------------------------------------------------------------------------------------------------------------------------------------------------------------------------------------------------------------------------------------------------------------------------------------------------------------------------------------------------------------------------------------------------------------------------------------------------------------------------------------------------------------------------------------------------------------------------------------------------------------------------------------------------------------------------------------------------------------------------------------------------------------------------------------------------------------------------------------------------------------------------------------------------------------------------------------------------------------------------------------------------------------------------------------------------------------------------------------------------------------------------------------------------------------------------------------------------------------------------------------------------------------------------------------------------------------------------------------------------------------------------------------------------------------------------------------------------------------------------------------------------------------------------------------------------------------------------------------------------------------------------------------------------------------------------------------------------------------------------------------------------------------------------------------------------------------------------------------------------------------------------------------------------------------------------------------------------------------------------------------------------------------------------------------------------------------------------------------------------------------------------------------------------------------------------------------------------------------------------------------------------------------------------------------------------------------------------------------------------------------------------------------------------------------------------------------------------------------------------------------------------------------------------------------------------------------------------------------------------------------------------------------------------------------------------------------------------------------------------------------------------------------------------------------------------------------------------------------------------------------------------------------------------------------------------------------------------------------------------------------------------------------------------------------------------------------------------------------------------------------------------------------------------------------------------------------------------------------------------------------------------------------------------------------------------------------------------------------------------------------------------------------------------------------------------------------------------------------------------------------------------------------------------------------------------------------------+\n",
            "\n"
          ]
        }
      ]
    },
    {
      "cell_type": "markdown",
      "source": [
        "### Headers for URLs"
      ],
      "metadata": {
        "id": "W7Az_d8sF2On"
      }
    },
    {
      "cell_type": "markdown",
      "source": [
        "Another available parameter is `headers`. This is currently used when a URL is provided, allowing you to set the necessary headers for the request. It can be useful in scenarios such as requesting web pages in a specific language or when authentication is required, for example by passing a Bearer token.\n",
        "\n"
      ],
      "metadata": {
        "id": "KDt97hE0cVRA"
      }
    },
    {
      "cell_type": "code",
      "source": [
        "partition_df = Partition().partition(\"https://www.blizzard.com\", headers = {\"Accept-Language\": \"es-ES\"})\n",
        "partition_df.show(truncate=False)"
      ],
      "metadata": {
        "id": "4sY2ADN8dusy",
        "colab": {
          "base_uri": "https://localhost:8080/"
        },
        "outputId": "98af2c82-8a55-46ff-f631-7775431820cb"
      },
      "execution_count": 27,
      "outputs": [
        {
          "output_type": "stream",
          "name": "stdout",
          "text": [
            "Warning::Spark Session already created, some configs may not take.\n",
            "+------------------------+---------------------------------------------------------------------------------------------------------------------------------------------------------------------------------------------------------------------------------------------------------------------------------------------------------------------------------------------------------------------------------------------------------------------------------------------------------------------------------------------------------------------------------------------------------------------------------------------------------------------------------------------------------------------------------------------------------------------------------------------------------------------------------------------------------------------------------------------------------------------------------------------------------------------------------------------------------------------------------------------------------------------------------------------------------------------------------------------------------------------------------------------------------------------------------------------------------------------------------------------------------------------------------------------------------------------------------------------------------------------------------------------------------------------------------------------------------------------------------------------------------------------------------------------------------------------------------------------------------------------------------------------------------------------------------------------------------------------------------------------------------------------------------------------------------------------------------------------------------------------------------------------------------------------------------------------------------------------------------------------------------------------------------------------------------------------------------------------------------------------------------------------------------------------------------------------------------------------------------------------------------------------------------------------------------------------------------------------------------------------------------------------------------------------------------------------------------------------------------------------------------------------------------------------------------------------------------------------------------------------------------------------------------------------------------------------------------------------------------------------------------------------------------------------------------------------------------------------------------------------------------------------------------------------------------------------------------------------------------------------------------------------------------------------------------------------------------------------------------------------------------------------------------------------------------------------------------------------------------------------------------------------------------------------------------------------------------------------------------------------------------------------------------------------------------------------------------------------------------------------------------------------------------------------------------------------------------------------------------------------------------------------------------------------------------------------------------------------------------------------------------------------------------------------------------------------------------------------------------------------------------------------------------------------------------------------------------------------------------------------------------------------------------------------------------------------------------------------------------------------------------------------------------------------------------------------------------------------------------------------------------------------------------------------------------------------------------------------------------------------------------------------------------------------------------------------------------------------------------------------------------------------------------------------------------------------------------------------------------------------------------------------------------------------------------------------------------------------------------------------------------------------------------------------------------------------------------------------------------------------------------------------------------------------------------------------------------------------------------------------------------------------------------------------------------------------------------------------------------------------------------------------------------------------------------------------------------------------------------------------------------------------------------------------------------------------------------------------------------------------------------------------------------------------------------------------------------------------------------------------------------------------------------------------------------------------------------------------------------------------------------------------------------------------------------------------------------------------------------------------------------------------------------------------------------------------------------------------------------------------------------------------------------------------------------------------------------------------------------------------------------------------------------------------------------------------------------------------------------------------------------------------------------------------------------------------------------------------------------------------------------------------------------------------------------------------------------------------------------------------------------------------------------------------------------------------------------------------------------------------------------------------------------------------------------------------------------------------------------------------------------------------------------------------------------------------------------------------------------------------------------------------------------------------------------------------------------------------------------------------------------------------------------------------------------------------------------------------------------------------------------------------------------------------------------------------------------------------------------------------------------------------------------------------------------------------------------------------------------------------------------------------------------------------------------------------------------------------------------------------------------------------------------------------------------------------------------------------------------------------------------------------------------------------------------------------------------------------------------------------------------------------------------------------------------------------------------------------------------------------------------------------------------------------------------------------------------------------------------------------------------------------------------------------------------------------------------------------------------------------------------------------------------------------------------------------------------------------------------------------------------------------------------------------------------------------------------------------------------------------------------------------------------------------------------------------------------------------------------------------------------------------------------------------------------------------------------------------------------------------------------------------------------------------------------------------------------------------------------------------------------------------------------------------------------------------------------------------------------------------------------------------------------------------------------------------------------------------------------------------------------------------------------------------------------------------------------------------------------------------------------------------------------------------------------------------------------------------------------------------------------------------------------------------------------------------------------------------------------------------------------------------------------------------------------------------------------------------------------------------------------------------------------------------------------------------------------------------------------------------------------------------------------------------------------------------------------------------------------------------------------------------------------------------------------------------------------------------------------------------------------------------------------------------------------------------------------------------------------------------------------------------------------------------------------------------------------------------------------------------------------------------------------------------------------------------------------------------------------------------------------------------------------------------------------------------------------------------------------------------------------------------------------------------------------------------------------------------------------------------------------------------------------------------------------------------------------------------------------------------------------------------------------------------------------------------------------------------------------------------------------------------------------------------------------------------------------------------------------------------------------------------------------------------------------------------------------------------------------------------------------------------------------------------------------------------------------------------------------------------------------------------------------------------------------------------------------------------------------------------------------------------------------------------------------------------------------------------------------------------------------------------------------------------------------------------------------------------------------------------------------------------------------------------------------------------------------------------------------------------------------------------------------------------------------------------------------------------------------------------------------------------------------------------------------------------------------------------------------------------------------------------------------------------------------------------------------------------------------------------------------------------------------------------------------------------------------------------------------------------------+\n",
            "|url                     |html                                                                                                                                                                                                                                                                                                                                                                                                                                                                                                                                                                                                                                                                                                                                                                                                                                                                                                                                                                                                                                                                                                                                                                                                                                                                                                                                                                                                                                                                                                                                                                                                                                                                                                                                                                                                                                                                                                                                                                                                                                                                                                                                                                                                                                                                                                                                                                                                                                                                                                                                                                                                                                                                                                                                                                                                                                                                                                                                                                                                                                                                                                                                                                                                                                                                                                                                                                                                                                                                                                                                                                                                                                                                                                                                                                                                                                                                                                                                                                                                                                                                                                                                                                                                                                                                                                                                                                                                                                                                                                                                                                                                                                                                                                                                                                                                                                                                                                                                                                                                                                                                                                                                                                                                                                                                                                                                                                                                                                                                                                                                                                                                                                                                                                                                                                                                                                                                                                                                                                                                                                                                                                                                                                                                                                                                                                                                                                                                                                                                                                                                                                                                                                                                                                                                                                                                                                                                                                                                                                                                                                                                                                                                                                                                                                                                                                                                                                                                                                                                                                                                                                                                                                                                                                                                                                                                                                                                                                                                                                                                                                                                                                                                                                                                                                                                                                                                                                                                                                                                                                                                                                                                                                                                                                                                                                                                                                                                                                                                                                                                                                                                                                                                                                                                                                                                                                                                                                                                                                                                                                                                                                                                                                                                                                                                                                                                                                                                                                                                                                                                                                                                                                                                                                                                                                                                                                                                                                                                                                                                                                                                                                                                                                                                                                                                                                                                                                                                                                                                                                                                                                                                                                                                                                                                                                                                                                                                                                                                                                                                                                                                                                                                                                                                                                                                                                                                                                                                                                                                                                                               |\n",
            "+------------------------+---------------------------------------------------------------------------------------------------------------------------------------------------------------------------------------------------------------------------------------------------------------------------------------------------------------------------------------------------------------------------------------------------------------------------------------------------------------------------------------------------------------------------------------------------------------------------------------------------------------------------------------------------------------------------------------------------------------------------------------------------------------------------------------------------------------------------------------------------------------------------------------------------------------------------------------------------------------------------------------------------------------------------------------------------------------------------------------------------------------------------------------------------------------------------------------------------------------------------------------------------------------------------------------------------------------------------------------------------------------------------------------------------------------------------------------------------------------------------------------------------------------------------------------------------------------------------------------------------------------------------------------------------------------------------------------------------------------------------------------------------------------------------------------------------------------------------------------------------------------------------------------------------------------------------------------------------------------------------------------------------------------------------------------------------------------------------------------------------------------------------------------------------------------------------------------------------------------------------------------------------------------------------------------------------------------------------------------------------------------------------------------------------------------------------------------------------------------------------------------------------------------------------------------------------------------------------------------------------------------------------------------------------------------------------------------------------------------------------------------------------------------------------------------------------------------------------------------------------------------------------------------------------------------------------------------------------------------------------------------------------------------------------------------------------------------------------------------------------------------------------------------------------------------------------------------------------------------------------------------------------------------------------------------------------------------------------------------------------------------------------------------------------------------------------------------------------------------------------------------------------------------------------------------------------------------------------------------------------------------------------------------------------------------------------------------------------------------------------------------------------------------------------------------------------------------------------------------------------------------------------------------------------------------------------------------------------------------------------------------------------------------------------------------------------------------------------------------------------------------------------------------------------------------------------------------------------------------------------------------------------------------------------------------------------------------------------------------------------------------------------------------------------------------------------------------------------------------------------------------------------------------------------------------------------------------------------------------------------------------------------------------------------------------------------------------------------------------------------------------------------------------------------------------------------------------------------------------------------------------------------------------------------------------------------------------------------------------------------------------------------------------------------------------------------------------------------------------------------------------------------------------------------------------------------------------------------------------------------------------------------------------------------------------------------------------------------------------------------------------------------------------------------------------------------------------------------------------------------------------------------------------------------------------------------------------------------------------------------------------------------------------------------------------------------------------------------------------------------------------------------------------------------------------------------------------------------------------------------------------------------------------------------------------------------------------------------------------------------------------------------------------------------------------------------------------------------------------------------------------------------------------------------------------------------------------------------------------------------------------------------------------------------------------------------------------------------------------------------------------------------------------------------------------------------------------------------------------------------------------------------------------------------------------------------------------------------------------------------------------------------------------------------------------------------------------------------------------------------------------------------------------------------------------------------------------------------------------------------------------------------------------------------------------------------------------------------------------------------------------------------------------------------------------------------------------------------------------------------------------------------------------------------------------------------------------------------------------------------------------------------------------------------------------------------------------------------------------------------------------------------------------------------------------------------------------------------------------------------------------------------------------------------------------------------------------------------------------------------------------------------------------------------------------------------------------------------------------------------------------------------------------------------------------------------------------------------------------------------------------------------------------------------------------------------------------------------------------------------------------------------------------------------------------------------------------------------------------------------------------------------------------------------------------------------------------------------------------------------------------------------------------------------------------------------------------------------------------------------------------------------------------------------------------------------------------------------------------------------------------------------------------------------------------------------------------------------------------------------------------------------------------------------------------------------------------------------------------------------------------------------------------------------------------------------------------------------------------------------------------------------------------------------------------------------------------------------------------------------------------------------------------------------------------------------------------------------------------------------------------------------------------------------------------------------------------------------------------------------------------------------------------------------------------------------------------------------------------------------------------------------------------------------------------------------------------------------------------------------------------------------------------------------------------------------------------------------------------------------------------------------------------------------------------------------------------------------------------------------------------------------------------------------------------------------------------------------------------------------------------------------------------------------------------------------------------------------------------------------------------------------------------------------------------------------------------------------------------------------------------------------------------------------------------------------------------------------------------------------------------------------------------------------------------------------------------------------------------------------------------------------------------------------------------------------------------------------------------------------------------------------------------------------------------------------------------------------------------------------------------------------------------------------------------------------------------------------------------------------------------------------------------------------------------------------------------------------------------------------------------------------------------------------------------------------------------------------------------------------------------------------------------------------------------------------------------------------------------------------------------------------------------------------------------------------------------------------------------------------------------------------------------------------------------------------------------------------------------------------------------------------------------------------------------------------------------------------------------------------------------------------------------------------------------------------------------------------------------------------------------------------------------------------------------------------------------------------------------------------------------------------------------------------------------------------------------------------------------------------------------------------------------------------------------------------------------------------------------------------------------------------+\n",
            "|https://www.blizzard.com|[{Title, Juegos destacados, {pageNumber -> 1}}, {Title, World of Warcraft: Mists of Pandaria Classic, {pageNumber -> 1}}, {NarrativeText, MMORPG, {pageNumber -> 1}}, {Title, World of Warcraft: Mists of Pandaria Classic, {pageNumber -> 1}}, {NarrativeText, MMORPG, {pageNumber -> 1}}, {Title, Warcraft I: Remastered, {pageNumber -> 1}}, {NarrativeText, Estrategia en tiempo real, {pageNumber -> 1}}, {Title, Warcraft I: Remastered, {pageNumber -> 1}}, {NarrativeText, Estrategia en tiempo real, {pageNumber -> 1}}, {Title, Warcraft II: Remastered, {pageNumber -> 1}}, {NarrativeText, Estrategia en tiempo real, {pageNumber -> 1}}, {Title, Warcraft II: Remastered, {pageNumber -> 1}}, {NarrativeText, Estrategia en tiempo real, {pageNumber -> 1}}, {Title, Warcraft III: Reforged, {pageNumber -> 1}}, {NarrativeText, Estrategia en tiempo real, {pageNumber -> 1}}, {Title, Warcraft III: Reforged, {pageNumber -> 1}}, {NarrativeText, Estrategia en tiempo real, {pageNumber -> 1}}, {Title, Diablo IV: Vessel of Hatred, {pageNumber -> 1}}, {NarrativeText, Rol y acción, {pageNumber -> 1}}, {Title, Diablo IV: Vessel of Hatred, {pageNumber -> 1}}, {NarrativeText, Rol y acción, {pageNumber -> 1}}, {Title, World of Warcraft: The War Within, {pageNumber -> 1}}, {NarrativeText, MMORPG, {pageNumber -> 1}}, {Title, World of Warcraft: The War Within, {pageNumber -> 1}}, {NarrativeText, MMORPG, {pageNumber -> 1}}, {Title, Warcraft Rumble, {pageNumber -> 1}}, {NarrativeText, Acción estratégica para móviles, {pageNumber -> 1}}, {Title, Warcraft Rumble, {pageNumber -> 1}}, {NarrativeText, Acción estratégica para móviles, {pageNumber -> 1}}, {Title, World of Warcraft, {pageNumber -> 1}}, {NarrativeText, MMORPG, {pageNumber -> 1}}, {Title, World of Warcraft, {pageNumber -> 1}}, {NarrativeText, MMORPG, {pageNumber -> 1}}, {Title, Overwatch 2, {pageNumber -> 1}}, {NarrativeText, Acción por equipos, {pageNumber -> 1}}, {Title, Overwatch 2, {pageNumber -> 1}}, {NarrativeText, Acción por equipos, {pageNumber -> 1}}, {Title, Hearthstone, {pageNumber -> 1}}, {NarrativeText, Juego de cartas de estrategia, {pageNumber -> 1}}, {Title, Hearthstone, {pageNumber -> 1}}, {NarrativeText, Juego de cartas de estrategia, {pageNumber -> 1}}, {Title, World of Warcraft: Mists of Pandaria Classic, {pageNumber -> 1}}, {NarrativeText, MMORPG, {pageNumber -> 1}}, {Title, World of Warcraft: Mists of Pandaria Classic, {pageNumber -> 1}}, {NarrativeText, MMORPG, {pageNumber -> 1}}, {Title, Warcraft II: Remastered, {pageNumber -> 1}}, {NarrativeText, Estrategia en tiempo real, {pageNumber -> 1}}, {Title, Warcraft II: Remastered, {pageNumber -> 1}}, {NarrativeText, Estrategia en tiempo real, {pageNumber -> 1}}, {Title, Warcraft I: Remastered, {pageNumber -> 1}}, {NarrativeText, Estrategia en tiempo real, {pageNumber -> 1}}, {Title, Warcraft I: Remastered, {pageNumber -> 1}}, {NarrativeText, Estrategia en tiempo real, {pageNumber -> 1}}, {Title, Warcraft III: Reforged, {pageNumber -> 1}}, {NarrativeText, Estrategia en tiempo real, {pageNumber -> 1}}, {Title, Warcraft III: Reforged, {pageNumber -> 1}}, {NarrativeText, Estrategia en tiempo real, {pageNumber -> 1}}, {Title, Diablo IV: Vessel of Hatred, {pageNumber -> 1}}, {NarrativeText, Rol y acción, {pageNumber -> 1}}, {Title, Diablo IV: Vessel of Hatred, {pageNumber -> 1}}, {NarrativeText, Rol y acción, {pageNumber -> 1}}, {Title, Warcraft Rumble, {pageNumber -> 1}}, {NarrativeText, Acción estratégica para móviles, {pageNumber -> 1}}, {Title, Warcraft Rumble, {pageNumber -> 1}}, {NarrativeText, Acción estratégica para móviles, {pageNumber -> 1}}, {Title, World of Warcraft: The War Within, {pageNumber -> 1}}, {NarrativeText, MMORPG, {pageNumber -> 1}}, {Title, World of Warcraft: The War Within, {pageNumber -> 1}}, {NarrativeText, MMORPG, {pageNumber -> 1}}, {Title, World of Warcraft, {pageNumber -> 1}}, {NarrativeText, MMORPG, {pageNumber -> 1}}, {Title, World of Warcraft, {pageNumber -> 1}}, {NarrativeText, MMORPG, {pageNumber -> 1}}, {Title, Overwatch 2, {pageNumber -> 1}}, {NarrativeText, Acción por equipos, {pageNumber -> 1}}, {Title, Overwatch 2, {pageNumber -> 1}}, {NarrativeText, Acción por equipos, {pageNumber -> 1}}, {Title, Hearthstone, {pageNumber -> 1}}, {NarrativeText, Juego de cartas de estrategia, {pageNumber -> 1}}, {Title, Hearthstone, {pageNumber -> 1}}, {NarrativeText, Juego de cartas de estrategia, {pageNumber -> 1}}, {Title, World of Warcraft: Mists of Pandaria Classic, {pageNumber -> 1}}, {NarrativeText, MMORPG, {pageNumber -> 1}}, {Title, World of Warcraft: Mists of Pandaria Classic, {pageNumber -> 1}}, {NarrativeText, MMORPG, {pageNumber -> 1}}, {Title, Warcraft I: Remastered, {pageNumber -> 1}}, {NarrativeText, Estrategia en tiempo real, {pageNumber -> 1}}, {Title, Warcraft I: Remastered, {pageNumber -> 1}}, {NarrativeText, Estrategia en tiempo real, {pageNumber -> 1}}, {Title, Warcraft II: Remastered, {pageNumber -> 1}}, {NarrativeText, Estrategia en tiempo real, {pageNumber -> 1}}, {Title, Warcraft II: Remastered, {pageNumber -> 1}}, {NarrativeText, Estrategia en tiempo real, {pageNumber -> 1}}, {Title, Warcraft III: Reforged, {pageNumber -> 1}}, {NarrativeText, Estrategia en tiempo real, {pageNumber -> 1}}, {Title, Warcraft III: Reforged, {pageNumber -> 1}}, {NarrativeText, Estrategia en tiempo real, {pageNumber -> 1}}, {Title, Diablo IV: Vessel of Hatred, {pageNumber -> 1}}, {NarrativeText, Rol y acción, {pageNumber -> 1}}, {Title, Diablo IV: Vessel of Hatred, {pageNumber -> 1}}, {NarrativeText, Rol y acción, {pageNumber -> 1}}, {Title, World of Warcraft: The War Within, {pageNumber -> 1}}, {NarrativeText, MMORPG, {pageNumber -> 1}}, {Title, World of Warcraft: The War Within, {pageNumber -> 1}}, {NarrativeText, MMORPG, {pageNumber -> 1}}, {Title, Diablo IV, {pageNumber -> 1}}, {NarrativeText, Rol y acción, {pageNumber -> 1}}, {Title, Diablo IV, {pageNumber -> 1}}, {NarrativeText, Rol y acción, {pageNumber -> 1}}, {Title, Warcraft Rumble, {pageNumber -> 1}}, {NarrativeText, Acción estratégica para móviles, {pageNumber -> 1}}, {Title, Warcraft Rumble, {pageNumber -> 1}}, {NarrativeText, Acción estratégica para móviles, {pageNumber -> 1}}, {Title, World of Warcraft, {pageNumber -> 1}}, {NarrativeText, MMORPG, {pageNumber -> 1}}, {Title, World of Warcraft, {pageNumber -> 1}}, {NarrativeText, MMORPG, {pageNumber -> 1}}, {Title, Overwatch 2, {pageNumber -> 1}}, {NarrativeText, Acción por equipos, {pageNumber -> 1}}, {Title, Overwatch 2, {pageNumber -> 1}}, {NarrativeText, Acción por equipos, {pageNumber -> 1}}, {Title, World of Warcraft: Mists of Pandaria Classic, {pageNumber -> 1}}, {NarrativeText, MMORPG, {pageNumber -> 1}}, {Title, World of Warcraft: Mists of Pandaria Classic, {pageNumber -> 1}}, {NarrativeText, MMORPG, {pageNumber -> 1}}, {Title, Warcraft II: Remastered, {pageNumber -> 1}}, {NarrativeText, Estrategia en tiempo real, {pageNumber -> 1}}, {Title, Warcraft II: Remastered, {pageNumber -> 1}}, {NarrativeText, Estrategia en tiempo real, {pageNumber -> 1}}, {Title, Warcraft I: Remastered, {pageNumber -> 1}}, {NarrativeText, Estrategia en tiempo real, {pageNumber -> 1}}, {Title, Warcraft I: Remastered, {pageNumber -> 1}}, {NarrativeText, Estrategia en tiempo real, {pageNumber -> 1}}, {Title, Warcraft III: Reforged, {pageNumber -> 1}}, {NarrativeText, Estrategia en tiempo real, {pageNumber -> 1}}, {Title, Warcraft III: Reforged, {pageNumber -> 1}}, {NarrativeText, Estrategia en tiempo real, {pageNumber -> 1}}, {Title, Diablo IV: Vessel of Hatred, {pageNumber -> 1}}, {NarrativeText, Rol y acción, {pageNumber -> 1}}, {Title, Diablo IV: Vessel of Hatred, {pageNumber -> 1}}, {NarrativeText, Rol y acción, {pageNumber -> 1}}, {Title, Diablo IV, {pageNumber -> 1}}, {NarrativeText, Rol y acción, {pageNumber -> 1}}, {Title, Diablo IV, {pageNumber -> 1}}, {NarrativeText, Rol y acción, {pageNumber -> 1}}, {Title, World of Warcraft: The War Within, {pageNumber -> 1}}, {NarrativeText, MMORPG, {pageNumber -> 1}}, {Title, World of Warcraft: The War Within, {pageNumber -> 1}}, {NarrativeText, MMORPG, {pageNumber -> 1}}, {Title, Warcraft Rumble, {pageNumber -> 1}}, {NarrativeText, Acción estratégica para móviles, {pageNumber -> 1}}, {Title, Warcraft Rumble, {pageNumber -> 1}}, {NarrativeText, Acción estratégica para móviles, {pageNumber -> 1}}, {Title, World of Warcraft, {pageNumber -> 1}}, {NarrativeText, MMORPG, {pageNumber -> 1}}, {Title, World of Warcraft, {pageNumber -> 1}}, {NarrativeText, MMORPG, {pageNumber -> 1}}, {Title, Overwatch 2, {pageNumber -> 1}}, {NarrativeText, Acción por equipos, {pageNumber -> 1}}, {Title, Overwatch 2, {pageNumber -> 1}}, {NarrativeText, Acción por equipos, {pageNumber -> 1}}, {Title, Diablo IV: Vessel of Hatred, {pageNumber -> 1}}, {NarrativeText, Rol y acción, {pageNumber -> 1}}, {Title, Diablo IV: Vessel of Hatred, {pageNumber -> 1}}, {NarrativeText, Rol y acción, {pageNumber -> 1}}, {Title, Diablo IV, {pageNumber -> 1}}, {NarrativeText, Rol y acción, {pageNumber -> 1}}, {Title, Diablo IV, {pageNumber -> 1}}, {NarrativeText, Rol y acción, {pageNumber -> 1}}, {Title, Overwatch 2, {pageNumber -> 1}}, {NarrativeText, Acción por equipos, {pageNumber -> 1}}, {Title, Overwatch 2, {pageNumber -> 1}}, {NarrativeText, Acción por equipos, {pageNumber -> 1}}, {Title, Diablo II: Resurrected, {pageNumber -> 1}}, {NarrativeText, Rol y acción, {pageNumber -> 1}}, {Title, Diablo II: Resurrected, {pageNumber -> 1}}, {NarrativeText, Rol y acción, {pageNumber -> 1}}, {Title, Diablo IV: Vessel of Hatred, {pageNumber -> 1}}, {NarrativeText, Rol y acción, {pageNumber -> 1}}, {Title, Diablo IV: Vessel of Hatred, {pageNumber -> 1}}, {NarrativeText, Rol y acción, {pageNumber -> 1}}, {Title, Diablo IV, {pageNumber -> 1}}, {NarrativeText, Rol y acción, {pageNumber -> 1}}, {Title, Diablo IV, {pageNumber -> 1}}, {NarrativeText, Rol y acción, {pageNumber -> 1}}, {Title, Overwatch 2, {pageNumber -> 1}}, {NarrativeText, Acción por equipos, {pageNumber -> 1}}, {Title, Overwatch 2, {pageNumber -> 1}}, {NarrativeText, Acción por equipos, {pageNumber -> 1}}, {Title, Diablo II: Resurrected, {pageNumber -> 1}}, {NarrativeText, Rol y acción, {pageNumber -> 1}}, {Title, Diablo II: Resurrected, {pageNumber -> 1}}, {NarrativeText, Rol y acción, {pageNumber -> 1}}, {Title, Warcraft Rumble, {pageNumber -> 1}}, {NarrativeText, Acción estratégica para móviles, {pageNumber -> 1}}, {Title, Warcraft Rumble, {pageNumber -> 1}}, {NarrativeText, Acción estratégica para móviles, {pageNumber -> 1}}, {Title, Hearthstone, {pageNumber -> 1}}, {NarrativeText, Juego de cartas de estrategia, {pageNumber -> 1}}, {Title, Hearthstone, {pageNumber -> 1}}, {NarrativeText, Juego de cartas de estrategia, {pageNumber -> 1}}, {Title, Diablo immortal, {pageNumber -> 1}}, {NarrativeText, Rol y acción, {pageNumber -> 1}}, {Title, Diablo immortal, {pageNumber -> 1}}, {NarrativeText, Rol y acción, {pageNumber -> 1}}, {Title, Warcraft Rumble, {pageNumber -> 1}}, {NarrativeText, Acción estratégica para móviles, {pageNumber -> 1}}, {Title, Warcraft Rumble, {pageNumber -> 1}}, {NarrativeText, Acción estratégica para móviles, {pageNumber -> 1}}, {Title, Hearthstone, {pageNumber -> 1}}, {NarrativeText, Juego de cartas de estrategia, {pageNumber -> 1}}, {Title, Hearthstone, {pageNumber -> 1}}, {NarrativeText, Juego de cartas de estrategia, {pageNumber -> 1}}, {Title, Diablo immortal, {pageNumber -> 1}}, {NarrativeText, Rol y acción, {pageNumber -> 1}}, {Title, Diablo immortal, {pageNumber -> 1}}, {NarrativeText, Rol y acción, {pageNumber -> 1}}]|\n",
            "+------------------------+---------------------------------------------------------------------------------------------------------------------------------------------------------------------------------------------------------------------------------------------------------------------------------------------------------------------------------------------------------------------------------------------------------------------------------------------------------------------------------------------------------------------------------------------------------------------------------------------------------------------------------------------------------------------------------------------------------------------------------------------------------------------------------------------------------------------------------------------------------------------------------------------------------------------------------------------------------------------------------------------------------------------------------------------------------------------------------------------------------------------------------------------------------------------------------------------------------------------------------------------------------------------------------------------------------------------------------------------------------------------------------------------------------------------------------------------------------------------------------------------------------------------------------------------------------------------------------------------------------------------------------------------------------------------------------------------------------------------------------------------------------------------------------------------------------------------------------------------------------------------------------------------------------------------------------------------------------------------------------------------------------------------------------------------------------------------------------------------------------------------------------------------------------------------------------------------------------------------------------------------------------------------------------------------------------------------------------------------------------------------------------------------------------------------------------------------------------------------------------------------------------------------------------------------------------------------------------------------------------------------------------------------------------------------------------------------------------------------------------------------------------------------------------------------------------------------------------------------------------------------------------------------------------------------------------------------------------------------------------------------------------------------------------------------------------------------------------------------------------------------------------------------------------------------------------------------------------------------------------------------------------------------------------------------------------------------------------------------------------------------------------------------------------------------------------------------------------------------------------------------------------------------------------------------------------------------------------------------------------------------------------------------------------------------------------------------------------------------------------------------------------------------------------------------------------------------------------------------------------------------------------------------------------------------------------------------------------------------------------------------------------------------------------------------------------------------------------------------------------------------------------------------------------------------------------------------------------------------------------------------------------------------------------------------------------------------------------------------------------------------------------------------------------------------------------------------------------------------------------------------------------------------------------------------------------------------------------------------------------------------------------------------------------------------------------------------------------------------------------------------------------------------------------------------------------------------------------------------------------------------------------------------------------------------------------------------------------------------------------------------------------------------------------------------------------------------------------------------------------------------------------------------------------------------------------------------------------------------------------------------------------------------------------------------------------------------------------------------------------------------------------------------------------------------------------------------------------------------------------------------------------------------------------------------------------------------------------------------------------------------------------------------------------------------------------------------------------------------------------------------------------------------------------------------------------------------------------------------------------------------------------------------------------------------------------------------------------------------------------------------------------------------------------------------------------------------------------------------------------------------------------------------------------------------------------------------------------------------------------------------------------------------------------------------------------------------------------------------------------------------------------------------------------------------------------------------------------------------------------------------------------------------------------------------------------------------------------------------------------------------------------------------------------------------------------------------------------------------------------------------------------------------------------------------------------------------------------------------------------------------------------------------------------------------------------------------------------------------------------------------------------------------------------------------------------------------------------------------------------------------------------------------------------------------------------------------------------------------------------------------------------------------------------------------------------------------------------------------------------------------------------------------------------------------------------------------------------------------------------------------------------------------------------------------------------------------------------------------------------------------------------------------------------------------------------------------------------------------------------------------------------------------------------------------------------------------------------------------------------------------------------------------------------------------------------------------------------------------------------------------------------------------------------------------------------------------------------------------------------------------------------------------------------------------------------------------------------------------------------------------------------------------------------------------------------------------------------------------------------------------------------------------------------------------------------------------------------------------------------------------------------------------------------------------------------------------------------------------------------------------------------------------------------------------------------------------------------------------------------------------------------------------------------------------------------------------------------------------------------------------------------------------------------------------------------------------------------------------------------------------------------------------------------------------------------------------------------------------------------------------------------------------------------------------------------------------------------------------------------------------------------------------------------------------------------------------------------------------------------------------------------------------------------------------------------------------------------------------------------------------------------------------------------------------------------------------------------------------------------------------------------------------------------------------------------------------------------------------------------------------------------------------------------------------------------------------------------------------------------------------------------------------------------------------------------------------------------------------------------------------------------------------------------------------------------------------------------------------------------------------------------------------------------------------------------------------------------------------------------------------------------------------------------------------------------------------------------------------------------------------------------------------------------------------------------------------------------------------------------------------------------------------------------------------------------------------------------------------------------------------------------------------------------------------------------------------------------------------------------------------------------------------------------------------------------------------------------------------------------------------------------------------------------------------------------------------------------------------------------------------------------------------------------------------------------------------------------------------------------------------------------------------------------------------------------------------------------------------------------------------------------------------------------------------------------------------------------------------------------------------------------------------------------------------------------------------------------------------------------------------------------------------------------------------------------------------------------------------------------------------------------------------------------------------------------------------------------------------------------------------------------------------------------------------------------------------------------------------------------------------------------------------------------------------------------------------------------------------------------------------------+\n",
            "\n"
          ]
        }
      ]
    },
    {
      "cell_type": "markdown",
      "source": [
        "For Word documents, use `includePageBreaks` to preserve structural information like page boundaries, which are inserted as HTML tables in the output."
      ],
      "metadata": {
        "id": "_9dDTCrpGdoN"
      }
    },
    {
      "cell_type": "code",
      "source": [
        "partition_df = Partition(content_type = \"application/vnd.ms-excel\", include_page_breaks = True).partition(\"./excel-files/PageBreakExample.xlsx\")\n",
        "partition_df.show(truncate=False)"
      ],
      "metadata": {
        "colab": {
          "base_uri": "https://localhost:8080/"
        },
        "id": "7ICTZmLGk3Sa",
        "outputId": "5e31a551-2746-4c45-b933-56f55e4866c9"
      },
      "execution_count": 28,
      "outputs": [
        {
          "output_type": "stream",
          "name": "stdout",
          "text": [
            "Warning::Spark Session already created, some configs may not take.\n",
            "+-----------------------------------------------+--------------------------------------------------------------------------------------------------------------------------------------------------------------------------------------------------------------------------------------------------------------------------------------------------------------------------------------------------------------------------------------------------------------------------------------------------------------------------------------------------------------------------------------------------------------------------------------------------------------------------------------------------------------------------------------------------------------------------------------------------------------------------------------------------------------------------------------------------------------------------------------------------------------------------------------------------------------------------------------------------------------------------------------------------------------------------------------------------------------------------+\n",
            "|path                                           |xls                                                                                                                                                                                                                                                                                                                                                                                                                                                                                                                                                                                                                                                                                                                                                                                                                                                                                                                                                                                                                                                                                                                       |\n",
            "+-----------------------------------------------+--------------------------------------------------------------------------------------------------------------------------------------------------------------------------------------------------------------------------------------------------------------------------------------------------------------------------------------------------------------------------------------------------------------------------------------------------------------------------------------------------------------------------------------------------------------------------------------------------------------------------------------------------------------------------------------------------------------------------------------------------------------------------------------------------------------------------------------------------------------------------------------------------------------------------------------------------------------------------------------------------------------------------------------------------------------------------------------------------------------------------+\n",
            "|file:/content/excel-files/PageBreakExample.xlsx|[{Title, Date\\tFri Jul 19 00:00:00 UTC 2024, {location -> (0, 1), SheetName -> Sheet1, pageBreak -> 1}}, {Title, Assets, {location -> (1, 1), SheetName -> Sheet1, pageBreak -> 1}}, {Title, Debts, {location -> (1, 4), SheetName -> Sheet1, pageBreak -> 2}}, {NarrativeText, Bank1\\t5865.43, {location -> (2, 1), SheetName -> Sheet1, pageBreak -> 1}}, {NarrativeText, Credit Card1\\t2000.0, {location -> (2, 5), SheetName -> Sheet1, pageBreak -> 2}}, {NarrativeText, Bank2\\t10140.19, {location -> (3, 1), SheetName -> Sheet1, pageBreak -> 1}}, {NarrativeText, Credit Card2\\t1500.0, {location -> (3, 5), SheetName -> Sheet1, pageBreak -> 2}}, {NarrativeText, Bank3\\t1200.0, {location -> (4, 1), SheetName -> Sheet1, pageBreak -> 1}}, {NarrativeText, Credit Card3\\t348.0, {location -> (4, 5), SheetName -> Sheet1, pageBreak -> 2}}, {Title, Bank4\\t1438.27, {location -> (5, 1), SheetName -> Sheet1, pageBreak -> 1}}, {Title, Total\\tSUM(F3:F5), {location -> (5, 5), SheetName -> Sheet1, pageBreak -> 2}}, {Title, Total\\tSUM(B3:B6), {location -> (6, 1), SheetName -> Sheet1, pageBreak -> 1}}]|\n",
            "+-----------------------------------------------+--------------------------------------------------------------------------------------------------------------------------------------------------------------------------------------------------------------------------------------------------------------------------------------------------------------------------------------------------------------------------------------------------------------------------------------------------------------------------------------------------------------------------------------------------------------------------------------------------------------------------------------------------------------------------------------------------------------------------------------------------------------------------------------------------------------------------------------------------------------------------------------------------------------------------------------------------------------------------------------------------------------------------------------------------------------------------------------------------------------------------+\n",
            "\n"
          ]
        }
      ]
    },
    {
      "cell_type": "code",
      "source": [
        "partition_df = Partition(content_type = \"application/vnd.ms-excel\", includePageBreaks = True).partition(\"./excel-files/PageBreakExample.xlsx\")\n",
        "partition_df.show(truncate=False)"
      ],
      "metadata": {
        "colab": {
          "base_uri": "https://localhost:8080/"
        },
        "id": "YId4UG1rOVQq",
        "outputId": "7de8b4be-9936-4330-8a0f-019c3a55182a"
      },
      "execution_count": 29,
      "outputs": [
        {
          "output_type": "stream",
          "name": "stdout",
          "text": [
            "Warning::Spark Session already created, some configs may not take.\n",
            "+-----------------------------------------------+--------------------------------------------------------------------------------------------------------------------------------------------------------------------------------------------------------------------------------------------------------------------------------------------------------------------------------------------------------------------------------------------------------------------------------------------------------------------------------------------------------------------------------------------------------------------------------------------------------------------------------------------------------------------------------------------------------------------------------------------------------------------------------------------------------------------------------------------------------------------------------------------------------------------------------------------------------------------------------------------------------------------------------------------------------------------------------------------------------------------------+\n",
            "|path                                           |xls                                                                                                                                                                                                                                                                                                                                                                                                                                                                                                                                                                                                                                                                                                                                                                                                                                                                                                                                                                                                                                                                                                                       |\n",
            "+-----------------------------------------------+--------------------------------------------------------------------------------------------------------------------------------------------------------------------------------------------------------------------------------------------------------------------------------------------------------------------------------------------------------------------------------------------------------------------------------------------------------------------------------------------------------------------------------------------------------------------------------------------------------------------------------------------------------------------------------------------------------------------------------------------------------------------------------------------------------------------------------------------------------------------------------------------------------------------------------------------------------------------------------------------------------------------------------------------------------------------------------------------------------------------------+\n",
            "|file:/content/excel-files/PageBreakExample.xlsx|[{Title, Date\\tFri Jul 19 00:00:00 UTC 2024, {location -> (0, 1), SheetName -> Sheet1, pageBreak -> 1}}, {Title, Assets, {location -> (1, 1), SheetName -> Sheet1, pageBreak -> 1}}, {Title, Debts, {location -> (1, 4), SheetName -> Sheet1, pageBreak -> 2}}, {NarrativeText, Bank1\\t5865.43, {location -> (2, 1), SheetName -> Sheet1, pageBreak -> 1}}, {NarrativeText, Credit Card1\\t2000.0, {location -> (2, 5), SheetName -> Sheet1, pageBreak -> 2}}, {NarrativeText, Bank2\\t10140.19, {location -> (3, 1), SheetName -> Sheet1, pageBreak -> 1}}, {NarrativeText, Credit Card2\\t1500.0, {location -> (3, 5), SheetName -> Sheet1, pageBreak -> 2}}, {NarrativeText, Bank3\\t1200.0, {location -> (4, 1), SheetName -> Sheet1, pageBreak -> 1}}, {NarrativeText, Credit Card3\\t348.0, {location -> (4, 5), SheetName -> Sheet1, pageBreak -> 2}}, {Title, Bank4\\t1438.27, {location -> (5, 1), SheetName -> Sheet1, pageBreak -> 1}}, {Title, Total\\tSUM(F3:F5), {location -> (5, 5), SheetName -> Sheet1, pageBreak -> 2}}, {Title, Total\\tSUM(B3:B6), {location -> (6, 1), SheetName -> Sheet1, pageBreak -> 1}}]|\n",
            "+-----------------------------------------------+--------------------------------------------------------------------------------------------------------------------------------------------------------------------------------------------------------------------------------------------------------------------------------------------------------------------------------------------------------------------------------------------------------------------------------------------------------------------------------------------------------------------------------------------------------------------------------------------------------------------------------------------------------------------------------------------------------------------------------------------------------------------------------------------------------------------------------------------------------------------------------------------------------------------------------------------------------------------------------------------------------------------------------------------------------------------------------------------------------------------------+\n",
            "\n"
          ]
        }
      ]
    },
    {
      "cell_type": "markdown",
      "source": [
        "When parsing plain text files, `group_broken_paragraphs` can be enabled to intelligently merge broken paragraphs by interpreting blank lines as true paragraph breaks."
      ],
      "metadata": {
        "id": "jpRmFNPNNqkf"
      }
    },
    {
      "cell_type": "code",
      "source": [
        "text = (\n",
        "            \"The big brown fox\\n\"\n",
        "            \"was walking down the lane.\\n\"\n",
        "            \"\\n\"\n",
        "            \"At the end of the lane,\\n\"\n",
        "            \"the fox met a bear.\"\n",
        "        )"
      ],
      "metadata": {
        "id": "HwnYBQ5l7rDM"
      },
      "execution_count": 30,
      "outputs": []
    },
    {
      "cell_type": "code",
      "source": [
        "text_df = Partition(group_broken_paragraphs=True).partition_text(text = text)\n",
        "text_df.show(truncate=False)"
      ],
      "metadata": {
        "colab": {
          "base_uri": "https://localhost:8080/"
        },
        "id": "mutwZUFj720X",
        "outputId": "87cd31c5-2f94-4777-9ea5-b6edf8277347"
      },
      "execution_count": 31,
      "outputs": [
        {
          "output_type": "stream",
          "name": "stdout",
          "text": [
            "Warning::Spark Session already created, some configs may not take.\n",
            "+-----------------------------------------------------------------------------------------------------------------------------------------------------------------+\n",
            "|txt                                                                                                                                                              |\n",
            "+-----------------------------------------------------------------------------------------------------------------------------------------------------------------+\n",
            "|[{NarrativeText, The big brown fox was walking down the lane., {paragraph -> 0}}, {NarrativeText, At the end of the lane, the fox met a bear., {paragraph -> 0}}]|\n",
            "+-----------------------------------------------------------------------------------------------------------------------------------------------------------------+\n",
            "\n"
          ]
        }
      ]
    },
    {
      "cell_type": "markdown",
      "source": [
        "For PowerPoint files, the `include_slide_notes` flag ensures that speaker notes from each slide are extracted and included in the output."
      ],
      "metadata": {
        "id": "E8ockED4NxLi"
      }
    },
    {
      "cell_type": "code",
      "source": [
        "!ls ppt-files"
      ],
      "metadata": {
        "colab": {
          "base_uri": "https://localhost:8080/"
        },
        "id": "xF8F-5CP3qWY",
        "outputId": "71b5e0cb-b22a-4774-a7b6-83c4fd67fadb"
      },
      "execution_count": 33,
      "outputs": [
        {
          "output_type": "stream",
          "name": "stdout",
          "text": [
            "fake-power-point.pptx  fake-power-point-table.pptx\n"
          ]
        }
      ]
    },
    {
      "cell_type": "code",
      "source": [
        "partition_df = Partition(include_slide_notes = True).partition(\"./ppt-files/speaker-notes.pptx\")\n",
        "partition_df.show(truncate=False)"
      ],
      "metadata": {
        "colab": {
          "base_uri": "https://localhost:8080/"
        },
        "id": "fPCpk7RTGRjo",
        "outputId": "74144c26-5060-4c99-f291-a097b838e774"
      },
      "execution_count": 35,
      "outputs": [
        {
          "output_type": "stream",
          "name": "stdout",
          "text": [
            "Warning::Spark Session already created, some configs may not take.\n",
            "+------------------------------------------+-------------------------------------------------------------------------------------------------------------------------------------------------------------------------------------------------------------------------------------------------------------------------------------------------------------------------+\n",
            "|path                                      |ppt                                                                                                                                                                                                                                                                                                                      |\n",
            "+------------------------------------------+-------------------------------------------------------------------------------------------------------------------------------------------------------------------------------------------------------------------------------------------------------------------------------------------------------------------------+\n",
            "|file:/content/ppt-files/speaker-notes.pptx|[{Title, Adding a Bullet Slide, {}}, {ListItem, • Find the bullet slide layout, {}}, {ListItem, – Use _TextFrame.text for first bullet, {}}, {ListItem, • Use _TextFrame.add_paragraph() for subsequent bullets, {}}, {NarrativeText, Here is a lot of text!, {}}, {NarrativeText, Here is some text in a text box!, {}}]|\n",
            "+------------------------------------------+-------------------------------------------------------------------------------------------------------------------------------------------------------------------------------------------------------------------------------------------------------------------------------------------------------------------------+\n",
            "\n"
          ]
        }
      ]
    },
    {
      "cell_type": "markdown",
      "source": [
        "In Excel files, enabling `infer_table_structure` allows Partition to generate an HTML representation of table structures, useful for downstream parsing or display."
      ],
      "metadata": {
        "id": "qRfRSGvhN303"
      }
    },
    {
      "cell_type": "code",
      "source": [
        "partition_df = Partition(infer_table_structure = True).partition(\"./excel-files/page-break-example.xlsx\")\n",
        "partition_df.select(\"xls\").show(truncate=False)"
      ],
      "metadata": {
        "colab": {
          "base_uri": "https://localhost:8080/"
        },
        "id": "twLdjGxZWiOJ",
        "outputId": "ec340358-7279-4247-b27c-5a0a25f38ee6"
      },
      "execution_count": 39,
      "outputs": [
        {
          "output_type": "stream",
          "name": "stdout",
          "text": [
            "Warning::Spark Session already created, some configs may not take.\n",
            "+-----------------------------------------------------------------------------------------------------------------------------------------------------------------------------------------------------------------------------------------------------------------------------------------------------------------------------------------------------------------------------------------------------------------------------------------------------------------------------------------------------------------------------------------------------------------------------------------------------------------------------------------------------------------------------------------------------------------------------------------------------------------------------------------------------------------------------------------------------------------------------------------------------------------------------------------------------------------------------------------------------------------------------------------------------------------------------------------------------------------------------------+\n",
            "|xls                                                                                                                                                                                                                                                                                                                                                                                                                                                                                                                                                                                                                                                                                                                                                                                                                                                                                                                                                                                                                                                                                                                                |\n",
            "+-----------------------------------------------------------------------------------------------------------------------------------------------------------------------------------------------------------------------------------------------------------------------------------------------------------------------------------------------------------------------------------------------------------------------------------------------------------------------------------------------------------------------------------------------------------------------------------------------------------------------------------------------------------------------------------------------------------------------------------------------------------------------------------------------------------------------------------------------------------------------------------------------------------------------------------------------------------------------------------------------------------------------------------------------------------------------------------------------------------------------------------+\n",
            "|[{Title, Date\\tFri Jul 19 00:00:00 UTC 2024, {location -> (0, 1), SheetName -> Sheet1}}, {Title, Assets\\t\\tDebts, {location -> (1, 4), SheetName -> Sheet1}}, {NarrativeText, Bank1\\t5865.43\\tCredit Card1\\t2000.0, {location -> (2, 5), SheetName -> Sheet1}}, {NarrativeText, Bank2\\t10140.19\\tCredit Card2\\t1500.0, {location -> (3, 5), SheetName -> Sheet1}}, {NarrativeText, Bank3\\t1200.0\\tCredit Card3\\t348.0, {location -> (4, 5), SheetName -> Sheet1}}, {Title, Bank4\\t1438.27\\tTotal\\tSUM(F3:F5), {location -> (5, 5), SheetName -> Sheet1}}, {Title, Total\\tSUM(B3:B6), {location -> (6, 1), SheetName -> Sheet1}}, {HTML, <table><tr><td>Date</td><td>Fri Jul 19 00:00:00 UTC 2024</td></tr><tr><td>Assets</td><td>Debts</td></tr><tr><td>Bank1</td><td>5865.43</td><td>Credit Card1</td><td>2000.0</td></tr><tr><td>Bank2</td><td>10140.19</td><td>Credit Card2</td><td>1500.0</td></tr><tr><td>Bank3</td><td>1200.0</td><td>Credit Card3</td><td>348.0</td></tr><tr><td>Bank4</td><td>1438.27</td><td>Total</td><td>SUM(F3:F5)</td></tr><tr><td>Total</td><td>SUM(B3:B6)</td></tr></table>, {SheetName -> Sheet1}}]|\n",
            "+-----------------------------------------------------------------------------------------------------------------------------------------------------------------------------------------------------------------------------------------------------------------------------------------------------------------------------------------------------------------------------------------------------------------------------------------------------------------------------------------------------------------------------------------------------------------------------------------------------------------------------------------------------------------------------------------------------------------------------------------------------------------------------------------------------------------------------------------------------------------------------------------------------------------------------------------------------------------------------------------------------------------------------------------------------------------------------------------------------------------------------------+\n",
            "\n"
          ]
        }
      ]
    },
    {
      "cell_type": "markdown",
      "source": [
        "With Excel inputs, set `append_cells` to concatenate all cell values in a row into a single string instead of separating each cell individually."
      ],
      "metadata": {
        "id": "8txswwbjN8Mg"
      }
    },
    {
      "cell_type": "code",
      "source": [
        "partition_df = Partition(append_cells = True).partition(\"./excel-files/xlsx-subtable-cases.xlsx\")\n",
        "partition_df.select(\"xls\").show(truncate=False)"
      ],
      "metadata": {
        "colab": {
          "base_uri": "https://localhost:8080/"
        },
        "id": "PQ4MpGw6xCko",
        "outputId": "808783d2-f15b-45ae-90fb-a623243898f3"
      },
      "execution_count": 40,
      "outputs": [
        {
          "output_type": "stream",
          "name": "stdout",
          "text": [
            "Warning::Spark Session already created, some configs may not take.\n",
            "+---------------------------------------------------------------------------------------------------------------------------------------------------------------------------------------------------------------------------------------------------------+\n",
            "|xls                                                                                                                                                                                                                                                      |\n",
            "+---------------------------------------------------------------------------------------------------------------------------------------------------------------------------------------------------------------------------------------------------------+\n",
            "|[{NarrativeText, a\\tb\\nc\\td\\te\\n- f\\na\\nb\\tc\\nd\\te\\na\\nb\\nc\\td\\ne\\tf\\na\\tb\\nc\\td\\n2. e\\na\\tb\\nc\\td\\ne\\nf\\na\\nb\\tc\\nd\\te\\nf\\na\\nb\\nc\\td\\ne\\tf\\ng\\na\\nb\\tc\\nd\\te\\nf\\ng\\na\\nb\\nc\\td\\ne\\tf\\ng\\nh\\na\\tb\\tc\\na\\nb\\tc\\td\\na\\tb\\tc\\nd\\ne, {SheetName -> Sheet1}}]|\n",
            "+---------------------------------------------------------------------------------------------------------------------------------------------------------------------------------------------------------------------------------------------------------+\n",
            "\n"
          ]
        }
      ]
    }
  ],
  "metadata": {
    "colab": {
      "provenance": [],
      "toc_visible": true
    },
    "kernelspec": {
      "display_name": "Python 3 (ipykernel)",
      "language": "python",
      "name": "python3"
    },
    "language_info": {
      "codemirror_mode": {
        "name": "ipython",
        "version": 3
      },
      "file_extension": ".py",
      "mimetype": "text/x-python",
      "name": "python",
      "nbconvert_exporter": "python",
      "pygments_lexer": "ipython3",
      "version": "3.10.12"
    }
  },
  "nbformat": 4,
  "nbformat_minor": 0
}