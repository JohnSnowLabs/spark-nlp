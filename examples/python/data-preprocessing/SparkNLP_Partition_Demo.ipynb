{
 "cells": [
  {
   "cell_type": "markdown",
   "metadata": {
    "id": "tzcU5p2gdak9"
   },
   "source": [
    "# Introducing Partition in SparkNLP\n",
    "This notebook showcases the newly added `Partition` component in Spark NLP\n",
    "providing a streamlined and user-friendly interface for interacting with Spark NLP readers"
   ]
  },
  {
   "cell_type": "markdown",
   "metadata": {
    "id": "RFOFhaEedalB"
   },
   "source": [
    "## Setup and Initialization\n",
    "Let's keep in mind a few things before we start 😊\n",
    "\n",
    "Support for **Partitioning** files was introduced in Spark NLP 6.0.1 Please make sure you have upgraded to the latest Spark NLP release."
   ]
  },
  {
   "cell_type": "markdown",
   "metadata": {
    "id": "1vLFuCnVnVd8"
   },
   "source": [
    "- Let's install and setup Spark NLP in Google Colab. This part is pretty easy via our simple script"
   ]
  },
  {
   "cell_type": "code",
   "execution_count": null,
   "metadata": {
    "id": "JVUu3mJXnXmm"
   },
   "outputs": [],
   "source": [
    "! wget -q http://setup.johnsnowlabs.com/colab.sh -O - | bash"
   ]
  },
  {
   "cell_type": "markdown",
   "metadata": {
    "id": "ah8RigOanazZ"
   },
   "source": [
    "For local files example we will download different files from Spark NLP Github repo:"
   ]
  },
  {
   "cell_type": "markdown",
   "metadata": {
    "id": "joUGu23jq4m4"
   },
   "source": [
    "**Downloading HTML files**"
   ]
  },
  {
   "cell_type": "code",
   "execution_count": null,
   "metadata": {
    "colab": {
     "base_uri": "https://localhost:8080/"
    },
    "id": "bo7s-jZVrE7W",
    "outputId": "a9a0a241-9810-47b5-9b79-a0c2774bcb1d"
   },
   "outputs": [
    {
     "name": "stdout",
     "output_type": "stream",
     "text": [
      "--2025-07-08 21:17:35--  https://raw.githubusercontent.com/JohnSnowLabs/spark-nlp/master/src/test/resources/reader/html/example-10k.html\n",
      "Resolving raw.githubusercontent.com (raw.githubusercontent.com)... 185.199.108.133, 185.199.109.133, 185.199.110.133, ...\n",
      "Connecting to raw.githubusercontent.com (raw.githubusercontent.com)|185.199.108.133|:443... connected.\n",
      "HTTP request sent, awaiting response... 200 OK\n",
      "Length: 2456707 (2.3M) [text/plain]\n",
      "Saving to: ‘html-files/example-10k.html’\n",
      "\n",
      "example-10k.html    100%[===================>]   2.34M  --.-KB/s    in 0.07s   \n",
      "\n",
      "2025-07-08 21:17:35 (33.2 MB/s) - ‘html-files/example-10k.html’ saved [2456707/2456707]\n",
      "\n",
      "--2025-07-08 21:17:35--  https://raw.githubusercontent.com/JohnSnowLabs/spark-nlp/master/src/test/resources/reader/html/fake-html.html\n",
      "Resolving raw.githubusercontent.com (raw.githubusercontent.com)... 185.199.108.133, 185.199.109.133, 185.199.110.133, ...\n",
      "Connecting to raw.githubusercontent.com (raw.githubusercontent.com)|185.199.108.133|:443... connected.\n",
      "HTTP request sent, awaiting response... 200 OK\n",
      "Length: 665 [text/plain]\n",
      "Saving to: ‘html-files/fake-html.html’\n",
      "\n",
      "fake-html.html      100%[===================>]     665  --.-KB/s    in 0s      \n",
      "\n",
      "2025-07-08 21:17:35 (32.1 MB/s) - ‘html-files/fake-html.html’ saved [665/665]\n",
      "\n"
     ]
    }
   ],
   "source": [
    "!mkdir html-files\n",
    "!wget https://raw.githubusercontent.com/JohnSnowLabs/spark-nlp/master/src/test/resources/reader/html/example-10k.html -P html-files\n",
    "!wget https://raw.githubusercontent.com/JohnSnowLabs/spark-nlp/master/src/test/resources/reader/html/fake-html.html -P html-files"
   ]
  },
  {
   "cell_type": "markdown",
   "metadata": {
    "id": "CZP7vz-gn6Rl"
   },
   "source": [
    "**Downloading PDF files**"
   ]
  },
  {
   "cell_type": "code",
   "execution_count": null,
   "metadata": {
    "colab": {
     "base_uri": "https://localhost:8080/"
    },
    "id": "ya8qZe00dalC",
    "outputId": "6737cfc6-8936-42d7-fd85-538f71ae2380"
   },
   "outputs": [
    {
     "name": "stdout",
     "output_type": "stream",
     "text": [
      "--2025-07-08 21:17:36--  https://raw.githubusercontent.com/JohnSnowLabs/spark-nlp/master/src/test/resources/reader/pdf/image_3_pages.pdf\n",
      "Resolving raw.githubusercontent.com (raw.githubusercontent.com)... 185.199.108.133, 185.199.109.133, 185.199.110.133, ...\n",
      "Connecting to raw.githubusercontent.com (raw.githubusercontent.com)|185.199.108.133|:443... connected.\n",
      "HTTP request sent, awaiting response... 200 OK\n",
      "Length: 15629 (15K) [application/octet-stream]\n",
      "Saving to: ‘pdf-files/image_3_pages.pdf’\n",
      "\n",
      "\r",
      "image_3_pages.pdf     0%[                    ]       0  --.-KB/s               \r",
      "image_3_pages.pdf   100%[===================>]  15.26K  --.-KB/s    in 0.001s  \n",
      "\n",
      "2025-07-08 21:17:36 (28.0 MB/s) - ‘pdf-files/image_3_pages.pdf’ saved [15629/15629]\n",
      "\n",
      "--2025-07-08 21:17:36--  https://raw.githubusercontent.com/JohnSnowLabs/spark-nlp/master/src/test/resources/reader/pdf/pdf-title.pdf\n",
      "Resolving raw.githubusercontent.com (raw.githubusercontent.com)... 185.199.108.133, 185.199.109.133, 185.199.110.133, ...\n",
      "Connecting to raw.githubusercontent.com (raw.githubusercontent.com)|185.199.108.133|:443... connected.\n",
      "HTTP request sent, awaiting response... 200 OK\n",
      "Length: 25803 (25K) [application/octet-stream]\n",
      "Saving to: ‘pdf-files/pdf-title.pdf’\n",
      "\n",
      "pdf-title.pdf       100%[===================>]  25.20K  --.-KB/s    in 0.002s  \n",
      "\n",
      "2025-07-08 21:17:36 (13.9 MB/s) - ‘pdf-files/pdf-title.pdf’ saved [25803/25803]\n",
      "\n",
      "--2025-07-08 21:17:36--  https://raw.githubusercontent.com/JohnSnowLabs/spark-nlp/master/src/test/resources/reader/pdf/text_3_pages.pdf\n",
      "Resolving raw.githubusercontent.com (raw.githubusercontent.com)... 185.199.108.133, 185.199.109.133, 185.199.110.133, ...\n",
      "Connecting to raw.githubusercontent.com (raw.githubusercontent.com)|185.199.108.133|:443... connected.\n",
      "HTTP request sent, awaiting response... 200 OK\n",
      "Length: 9487 (9.3K) [application/octet-stream]\n",
      "Saving to: ‘pdf-files/text_3_pages.pdf’\n",
      "\n",
      "text_3_pages.pdf    100%[===================>]   9.26K  --.-KB/s    in 0s      \n",
      "\n",
      "2025-07-08 21:17:36 (68.2 MB/s) - ‘pdf-files/text_3_pages.pdf’ saved [9487/9487]\n",
      "\n"
     ]
    }
   ],
   "source": [
    "!mkdir pdf-files\n",
    "!wget https://raw.githubusercontent.com/JohnSnowLabs/spark-nlp/master/src/test/resources/reader/pdf/image_3_pages.pdf -P pdf-files\n",
    "!wget https://raw.githubusercontent.com/JohnSnowLabs/spark-nlp/master/src/test/resources/reader/pdf/pdf-title.pdf -P pdf-files\n",
    "!wget https://raw.githubusercontent.com/JohnSnowLabs/spark-nlp/master/src/test/resources/reader/pdf/text_3_pages.pdf -P pdf-files"
   ]
  },
  {
   "cell_type": "markdown",
   "metadata": {
    "id": "l-uW6gV8pUYM"
   },
   "source": [
    "**Downloading Word files**"
   ]
  },
  {
   "cell_type": "code",
   "execution_count": null,
   "metadata": {
    "colab": {
     "base_uri": "https://localhost:8080/"
    },
    "id": "zLLEUl3KpYZ6",
    "outputId": "0658c634-88b5-4296-8211-5d94008ebaf6"
   },
   "outputs": [
    {
     "name": "stdout",
     "output_type": "stream",
     "text": [
      "--2025-07-08 21:17:36--  https://raw.githubusercontent.com/JohnSnowLabs/spark-nlp/master/src/test/resources/reader/doc/contains-pictures.docx\n",
      "Resolving raw.githubusercontent.com (raw.githubusercontent.com)... 185.199.110.133, 185.199.111.133, 185.199.108.133, ...\n",
      "Connecting to raw.githubusercontent.com (raw.githubusercontent.com)|185.199.110.133|:443... connected.\n",
      "HTTP request sent, awaiting response... 200 OK\n",
      "Length: 95087 (93K) [application/octet-stream]\n",
      "Saving to: ‘word-files/contains-pictures.docx’\n",
      "\n",
      "\r",
      "contains-pictures.d   0%[                    ]       0  --.-KB/s               \r",
      "contains-pictures.d 100%[===================>]  92.86K  --.-KB/s    in 0.02s   \n",
      "\n",
      "2025-07-08 21:17:37 (3.90 MB/s) - ‘word-files/contains-pictures.docx’ saved [95087/95087]\n",
      "\n",
      "--2025-07-08 21:17:37--  https://raw.githubusercontent.com/JohnSnowLabs/spark-nlp/master/src/test/resources/reader/doc/fake_table.docx\n",
      "Resolving raw.githubusercontent.com (raw.githubusercontent.com)... 185.199.108.133, 185.199.109.133, 185.199.110.133, ...\n",
      "Connecting to raw.githubusercontent.com (raw.githubusercontent.com)|185.199.108.133|:443... connected.\n",
      "HTTP request sent, awaiting response... 200 OK\n",
      "Length: 12392 (12K) [application/octet-stream]\n",
      "Saving to: ‘word-files/fake_table.docx’\n",
      "\n",
      "fake_table.docx     100%[===================>]  12.10K  --.-KB/s    in 0.001s  \n",
      "\n",
      "2025-07-08 21:17:37 (18.8 MB/s) - ‘word-files/fake_table.docx’ saved [12392/12392]\n",
      "\n",
      "--2025-07-08 21:17:37--  https://raw.githubusercontent.com/JohnSnowLabs/spark-nlp/master/src/test/resources/reader/doc/page-breaks.docx\n",
      "Resolving raw.githubusercontent.com (raw.githubusercontent.com)... 185.199.110.133, 185.199.111.133, 185.199.108.133, ...\n",
      "Connecting to raw.githubusercontent.com (raw.githubusercontent.com)|185.199.110.133|:443... connected.\n",
      "HTTP request sent, awaiting response... 200 OK\n",
      "Length: 14584 (14K) [application/octet-stream]\n",
      "Saving to: ‘word-files/page-breaks.docx’\n",
      "\n",
      "page-breaks.docx    100%[===================>]  14.24K  --.-KB/s    in 0s      \n",
      "\n",
      "2025-07-08 21:17:37 (94.7 MB/s) - ‘word-files/page-breaks.docx’ saved [14584/14584]\n",
      "\n"
     ]
    }
   ],
   "source": [
    "!mkdir word-files\n",
    "!wget https://raw.githubusercontent.com/JohnSnowLabs/spark-nlp/master/src/test/resources/reader/doc/contains-pictures.docx -P word-files\n",
    "!wget https://raw.githubusercontent.com/JohnSnowLabs/spark-nlp/master/src/test/resources/reader/doc/fake_table.docx -P word-files\n",
    "!wget https://raw.githubusercontent.com/JohnSnowLabs/spark-nlp/master/src/test/resources/reader/doc/page-breaks.docx -P word-files"
   ]
  },
  {
   "cell_type": "markdown",
   "metadata": {
    "id": "40ts9-MmqNHp"
   },
   "source": [
    "**Downloading Excel files**"
   ]
  },
  {
   "cell_type": "code",
   "execution_count": null,
   "metadata": {
    "colab": {
     "base_uri": "https://localhost:8080/"
    },
    "id": "G3-BCYP6qQ4x",
    "outputId": "5c61b515-b4c1-40b4-854e-61f472373e5f"
   },
   "outputs": [
    {
     "name": "stdout",
     "output_type": "stream",
     "text": [
      "--2025-07-08 21:17:37--  https://raw.githubusercontent.com/JohnSnowLabs/spark-nlp/master/src/test/resources/reader/xls/vodafone.xlsx\n",
      "Resolving raw.githubusercontent.com (raw.githubusercontent.com)... 185.199.108.133, 185.199.109.133, 185.199.110.133, ...\n",
      "Connecting to raw.githubusercontent.com (raw.githubusercontent.com)|185.199.108.133|:443... connected.\n",
      "HTTP request sent, awaiting response... 200 OK\n",
      "Length: 12541 (12K) [application/octet-stream]\n",
      "Saving to: ‘excel-files/vodafone.xlsx’\n",
      "\n",
      "\r",
      "vodafone.xlsx         0%[                    ]       0  --.-KB/s               \r",
      "vodafone.xlsx       100%[===================>]  12.25K  --.-KB/s    in 0s      \n",
      "\n",
      "2025-07-08 21:17:37 (73.2 MB/s) - ‘excel-files/vodafone.xlsx’ saved [12541/12541]\n",
      "\n",
      "--2025-07-08 21:17:37--  https://raw.githubusercontent.com/JohnSnowLabs/spark-nlp/master/src/test/resources/reader/xls/2023-half-year-analyses-by-segment.xlsx\n",
      "Resolving raw.githubusercontent.com (raw.githubusercontent.com)... 185.199.110.133, 185.199.111.133, 185.199.108.133, ...\n",
      "Connecting to raw.githubusercontent.com (raw.githubusercontent.com)|185.199.110.133|:443... connected.\n",
      "HTTP request sent, awaiting response... 200 OK\n",
      "Length: 38442 (38K) [application/octet-stream]\n",
      "Saving to: ‘excel-files/2023-half-year-analyses-by-segment.xlsx’\n",
      "\n",
      "2023-half-year-anal 100%[===================>]  37.54K  --.-KB/s    in 0.01s   \n",
      "\n",
      "2025-07-08 21:17:38 (3.30 MB/s) - ‘excel-files/2023-half-year-analyses-by-segment.xlsx’ saved [38442/38442]\n",
      "\n",
      "--2025-07-08 21:17:38--  https://raw.githubusercontent.com/JohnSnowLabs/spark-nlp/master/src/test/resources/reader/xls/page-break-example.xlsx\n",
      "Resolving raw.githubusercontent.com (raw.githubusercontent.com)... 185.199.111.133, 185.199.108.133, 185.199.110.133, ...\n",
      "Connecting to raw.githubusercontent.com (raw.githubusercontent.com)|185.199.111.133|:443... connected.\n",
      "HTTP request sent, awaiting response... 200 OK\n",
      "Length: 10676 (10K) [application/octet-stream]\n",
      "Saving to: ‘excel-files/page-break-example.xlsx’\n",
      "\n",
      "page-break-example. 100%[===================>]  10.43K  --.-KB/s    in 0s      \n",
      "\n",
      "2025-07-08 21:17:38 (88.1 MB/s) - ‘excel-files/page-break-example.xlsx’ saved [10676/10676]\n",
      "\n",
      "--2025-07-08 21:17:38--  https://raw.githubusercontent.com/JohnSnowLabs/spark-nlp/master/src/test/resources/reader/xls/xlsx-subtable-cases.xlsx\n",
      "Resolving raw.githubusercontent.com (raw.githubusercontent.com)... 185.199.110.133, 185.199.111.133, 185.199.108.133, ...\n",
      "Connecting to raw.githubusercontent.com (raw.githubusercontent.com)|185.199.110.133|:443... connected.\n",
      "HTTP request sent, awaiting response... 200 OK\n",
      "Length: 9210 (9.0K) [application/octet-stream]\n",
      "Saving to: ‘excel-files/xlsx-subtable-cases.xlsx’\n",
      "\n",
      "xlsx-subtable-cases 100%[===================>]   8.99K  --.-KB/s    in 0s      \n",
      "\n",
      "2025-07-08 21:17:38 (69.8 MB/s) - ‘excel-files/xlsx-subtable-cases.xlsx’ saved [9210/9210]\n",
      "\n"
     ]
    }
   ],
   "source": [
    "!mkdir excel-files\n",
    "!wget https://raw.githubusercontent.com/JohnSnowLabs/spark-nlp/master/src/test/resources/reader/xls/vodafone.xlsx -P excel-files\n",
    "!wget https://raw.githubusercontent.com/JohnSnowLabs/spark-nlp/master/src/test/resources/reader/xls/2023-half-year-analyses-by-segment.xlsx -P excel-files\n",
    "!wget https://raw.githubusercontent.com/JohnSnowLabs/spark-nlp/master/src/test/resources/reader/xls/page-break-example.xlsx -P excel-files\n",
    "!wget https://raw.githubusercontent.com/JohnSnowLabs/spark-nlp/master/src/test/resources/reader/xls/xlsx-subtable-cases.xlsx -P excel-files"
   ]
  },
  {
   "cell_type": "code",
   "execution_count": null,
   "metadata": {
    "id": "LcSYn6q7jW9-"
   },
   "outputs": [],
   "source": [
    "!cp drive/MyDrive/JSL/PageBreakExample.xlsx ./excel-files"
   ]
  },
  {
   "cell_type": "markdown",
   "metadata": {
    "id": "A3lF0_7qqlZB"
   },
   "source": [
    "**Downloading PowerPoint files**"
   ]
  },
  {
   "cell_type": "code",
   "execution_count": null,
   "metadata": {
    "colab": {
     "base_uri": "https://localhost:8080/"
    },
    "id": "1jDRFmcHqpxn",
    "outputId": "62076471-ec88-4f4a-b74f-1ab9eff070e2"
   },
   "outputs": [
    {
     "name": "stdout",
     "output_type": "stream",
     "text": [
      "--2025-07-08 21:17:39--  https://raw.githubusercontent.com/JohnSnowLabs/spark-nlp/master/src/test/resources/reader/ppt/fake-power-point.pptx\n",
      "Resolving raw.githubusercontent.com (raw.githubusercontent.com)... 185.199.111.133, 185.199.110.133, 185.199.108.133, ...\n",
      "Connecting to raw.githubusercontent.com (raw.githubusercontent.com)|185.199.111.133|:443... connected.\n",
      "HTTP request sent, awaiting response... 200 OK\n",
      "Length: 38412 (38K) [application/octet-stream]\n",
      "Saving to: ‘ppt-files/fake-power-point.pptx’\n",
      "\n",
      "\r",
      "fake-power-point.pp   0%[                    ]       0  --.-KB/s               \r",
      "fake-power-point.pp 100%[===================>]  37.51K  --.-KB/s    in 0.01s   \n",
      "\n",
      "2025-07-08 21:17:39 (3.12 MB/s) - ‘ppt-files/fake-power-point.pptx’ saved [38412/38412]\n",
      "\n",
      "--2025-07-08 21:17:39--  https://raw.githubusercontent.com/JohnSnowLabs/spark-nlp/master/src/test/resources/reader/ppt/fake-power-point-table.pptx\n",
      "Resolving raw.githubusercontent.com (raw.githubusercontent.com)... 185.199.110.133, 185.199.111.133, 185.199.108.133, ...\n",
      "Connecting to raw.githubusercontent.com (raw.githubusercontent.com)|185.199.110.133|:443... connected.\n",
      "HTTP request sent, awaiting response... 200 OK\n",
      "Length: 39894 (39K) [application/octet-stream]\n",
      "Saving to: ‘ppt-files/fake-power-point-table.pptx’\n",
      "\n",
      "fake-power-point-ta 100%[===================>]  38.96K  --.-KB/s    in 0.01s   \n",
      "\n",
      "2025-07-08 21:17:39 (3.44 MB/s) - ‘ppt-files/fake-power-point-table.pptx’ saved [39894/39894]\n",
      "\n",
      "--2025-07-08 21:17:39--  https://raw.githubusercontent.com/JohnSnowLabs/spark-nlp/master/src/test/resources/reader/ppt/speaker-notes.pptx\n",
      "Resolving raw.githubusercontent.com (raw.githubusercontent.com)... 185.199.110.133, 185.199.108.133, 185.199.109.133, ...\n",
      "Connecting to raw.githubusercontent.com (raw.githubusercontent.com)|185.199.110.133|:443... connected.\n",
      "HTTP request sent, awaiting response... 200 OK\n",
      "Length: 39414 (38K) [application/octet-stream]\n",
      "Saving to: ‘ppt-files/speaker-notes.pptx’\n",
      "\n",
      "speaker-notes.pptx  100%[===================>]  38.49K  --.-KB/s    in 0.01s   \n",
      "\n",
      "2025-07-08 21:17:39 (3.16 MB/s) - ‘ppt-files/speaker-notes.pptx’ saved [39414/39414]\n",
      "\n"
     ]
    }
   ],
   "source": [
    "!mkdir ppt-files\n",
    "!wget https://raw.githubusercontent.com/JohnSnowLabs/spark-nlp/master/src/test/resources/reader/ppt/fake-power-point.pptx -P ppt-files\n",
    "!wget https://raw.githubusercontent.com/JohnSnowLabs/spark-nlp/master/src/test/resources/reader/ppt/fake-power-point-table.pptx -P ppt-files\n",
    "!wget https://raw.githubusercontent.com/JohnSnowLabs/spark-nlp/master/src/test/resources/reader/ppt/speaker-notes.pptx -P ppt-files"
   ]
  },
  {
   "cell_type": "markdown",
   "metadata": {
    "id": "K3Fyab6wret-"
   },
   "source": [
    "**Downloading Email files**"
   ]
  },
  {
   "cell_type": "code",
   "execution_count": null,
   "metadata": {
    "colab": {
     "base_uri": "https://localhost:8080/"
    },
    "id": "yYMVpVQurk7G",
    "outputId": "1c8e9883-80b5-4f94-d283-96514eb17896"
   },
   "outputs": [
    {
     "name": "stdout",
     "output_type": "stream",
     "text": [
      "--2025-07-08 21:17:39--  https://raw.githubusercontent.com/JohnSnowLabs/spark-nlp/master/src/test/resources/reader/email/email-text-attachments.eml\n",
      "Resolving raw.githubusercontent.com (raw.githubusercontent.com)... 185.199.108.133, 185.199.109.133, 185.199.110.133, ...\n",
      "Connecting to raw.githubusercontent.com (raw.githubusercontent.com)|185.199.108.133|:443... connected.\n",
      "HTTP request sent, awaiting response... 200 OK\n",
      "Length: 3175 (3.1K) [text/plain]\n",
      "Saving to: ‘email-files/email-text-attachments.eml’\n",
      "\n",
      "\r",
      "          email-tex   0%[                    ]       0  --.-KB/s               \r",
      "email-text-attachme 100%[===================>]   3.10K  --.-KB/s    in 0s      \n",
      "\n",
      "2025-07-08 21:17:39 (38.6 MB/s) - ‘email-files/email-text-attachments.eml’ saved [3175/3175]\n",
      "\n",
      "--2025-07-08 21:17:40--  https://raw.githubusercontent.com/JohnSnowLabs/spark-nlp/master/src/test/resources/reader/email/test-several-attachments.eml\n",
      "Resolving raw.githubusercontent.com (raw.githubusercontent.com)... 185.199.111.133, 185.199.109.133, 185.199.108.133, ...\n",
      "Connecting to raw.githubusercontent.com (raw.githubusercontent.com)|185.199.111.133|:443... connected.\n",
      "HTTP request sent, awaiting response... 200 OK\n",
      "Length: 1324361 (1.3M) [text/plain]\n",
      "Saving to: ‘email-files/test-several-attachments.eml’\n",
      "\n",
      "test-several-attach 100%[===================>]   1.26M  --.-KB/s    in 0.06s   \n",
      "\n",
      "2025-07-08 21:17:40 (20.8 MB/s) - ‘email-files/test-several-attachments.eml’ saved [1324361/1324361]\n",
      "\n"
     ]
    }
   ],
   "source": [
    "!mkdir email-files\n",
    "!wget https://raw.githubusercontent.com/JohnSnowLabs/spark-nlp/master/src/test/resources/reader/email/email-text-attachments.eml -P email-files\n",
    "!wget https://raw.githubusercontent.com/JohnSnowLabs/spark-nlp/master/src/test/resources/reader/email/test-several-attachments.eml -P email-files"
   ]
  },
  {
   "cell_type": "markdown",
   "metadata": {
    "id": "ATDLz3Gws5ob"
   },
   "source": [
    "**Downloading Text files**"
   ]
  },
  {
   "cell_type": "code",
   "execution_count": null,
   "metadata": {
    "colab": {
     "base_uri": "https://localhost:8080/"
    },
    "id": "AV-krG6Ps8pq",
    "outputId": "5a661647-193a-4fac-d4ee-4621f42d0584"
   },
   "outputs": [
    {
     "name": "stdout",
     "output_type": "stream",
     "text": [
      "--2025-07-08 21:17:40--  https://raw.githubusercontent.com/JohnSnowLabs/spark-nlp/master/src/test/resources/reader/txt/simple-text.txt\n",
      "Resolving raw.githubusercontent.com (raw.githubusercontent.com)... 185.199.108.133, 185.199.111.133, 185.199.110.133, ...\n",
      "Connecting to raw.githubusercontent.com (raw.githubusercontent.com)|185.199.108.133|:443... connected.\n",
      "HTTP request sent, awaiting response... 200 OK\n",
      "Length: 300 [text/plain]\n",
      "Saving to: ‘txt-files/simple-text.txt’\n",
      "\n",
      "\r",
      "simple-text.txt       0%[                    ]       0  --.-KB/s               \r",
      "simple-text.txt     100%[===================>]     300  --.-KB/s    in 0s      \n",
      "\n",
      "2025-07-08 21:17:40 (16.9 MB/s) - ‘txt-files/simple-text.txt’ saved [300/300]\n",
      "\n"
     ]
    }
   ],
   "source": [
    "!mkdir txt-files\n",
    "!wget https://raw.githubusercontent.com/JohnSnowLabs/spark-nlp/master/src/test/resources/reader/txt/simple-text.txt -P txt-files"
   ]
  },
  {
   "cell_type": "markdown",
   "metadata": {
    "id": "QVq5C0Uqs4wU"
   },
   "source": [
    "**Downloading XML files**"
   ]
  },
  {
   "cell_type": "code",
   "execution_count": null,
   "metadata": {
    "colab": {
     "base_uri": "https://localhost:8080/"
    },
    "id": "Gip5P7Ess63U",
    "outputId": "3a738373-a91b-43b3-c1cf-dd09412f50c9"
   },
   "outputs": [
    {
     "name": "stdout",
     "output_type": "stream",
     "text": [
      "--2025-07-08 21:17:40--  https://raw.githubusercontent.com/JohnSnowLabs/spark-nlp/master/src/test/resources/reader/xml/multi-level.xml\n",
      "Resolving raw.githubusercontent.com (raw.githubusercontent.com)... 185.199.108.133, 185.199.109.133, 185.199.110.133, ...\n",
      "Connecting to raw.githubusercontent.com (raw.githubusercontent.com)|185.199.108.133|:443... connected.\n",
      "HTTP request sent, awaiting response... 200 OK\n",
      "Length: 538 [text/plain]\n",
      "Saving to: ‘xml-files/multi-level.xml’\n",
      "\n",
      "\r",
      "multi-level.xml       0%[                    ]       0  --.-KB/s               \r",
      "multi-level.xml     100%[===================>]     538  --.-KB/s    in 0s      \n",
      "\n",
      "2025-07-08 21:17:41 (30.4 MB/s) - ‘xml-files/multi-level.xml’ saved [538/538]\n",
      "\n"
     ]
    }
   ],
   "source": [
    "!mkdir xml-files\n",
    "!wget https://raw.githubusercontent.com/JohnSnowLabs/spark-nlp/master/src/test/resources/reader/xml/multi-level.xml -P xml-files"
   ]
  },
  {
   "cell_type": "markdown",
   "metadata": {
    "id": "EoFI66NAdalE"
   },
   "source": [
    "## Partitioning Documents\n",
    "Use the `Partition` component to parse text content from local directories."
   ]
  },
  {
   "cell_type": "code",
   "execution_count": null,
   "metadata": {
    "colab": {
     "base_uri": "https://localhost:8080/"
    },
    "id": "bAkMjJ1vdalE",
    "outputId": "33ec0f12-888b-4d11-e67c-eb550e32d3c0"
   },
   "outputs": [
    {
     "name": "stdout",
     "output_type": "stream",
     "text": [
      "Warning::Spark Session already created, some configs may not take.\n",
      "+--------------------+--------------------+\n",
      "|                path|                 txt|\n",
      "+--------------------+--------------------+\n",
      "|file:/content/txt...|[{Title, BIG DATA...|\n",
      "+--------------------+--------------------+\n",
      "\n"
     ]
    }
   ],
   "source": [
    "from sparknlp.partition.partition import Partition\n",
    "\n",
    "partition_df = Partition().partition(\"./txt-files/simple-text.txt\")\n",
    "partition_df.show()"
   ]
  },
  {
   "cell_type": "markdown",
   "metadata": {
    "id": "BK65i2RjJnqv"
   },
   "source": [
    "Partitioning a Word Document"
   ]
  },
  {
   "cell_type": "code",
   "execution_count": null,
   "metadata": {
    "colab": {
     "base_uri": "https://localhost:8080/"
    },
    "id": "VWbUgoVQrO8m",
    "outputId": "f90b0b4c-f365-4049-f554-bf3407b54e29"
   },
   "outputs": [
    {
     "name": "stdout",
     "output_type": "stream",
     "text": [
      "Warning::Spark Session already created, some configs may not take.\n",
      "+--------------------+--------------------+\n",
      "|                path|                 doc|\n",
      "+--------------------+--------------------+\n",
      "|file:/content/wor...|[{Table, Header C...|\n",
      "+--------------------+--------------------+\n",
      "\n"
     ]
    }
   ],
   "source": [
    "partition_df = Partition().partition(\"./word-files/fake_table.docx\")\n",
    "partition_df.show()"
   ]
  },
  {
   "cell_type": "markdown",
   "metadata": {
    "id": "opi9m_4aJwLw"
   },
   "source": [
    "Partitioning an Excel Document"
   ]
  },
  {
   "cell_type": "code",
   "execution_count": null,
   "metadata": {
    "colab": {
     "base_uri": "https://localhost:8080/"
    },
    "id": "YFzeGJJ3ICVM",
    "outputId": "23176ebf-a972-46c3-b1c6-ab47d91ece89"
   },
   "outputs": [
    {
     "name": "stdout",
     "output_type": "stream",
     "text": [
      "Warning::Spark Session already created, some configs may not take.\n",
      "+--------------------+--------------------+\n",
      "|                path|                 doc|\n",
      "+--------------------+--------------------+\n",
      "|file:/content/wor...|[{Table, Header C...|\n",
      "+--------------------+--------------------+\n",
      "\n"
     ]
    }
   ],
   "source": [
    "partition_df = Partition().partition(\"./word-files/fake_table.docx\")\n",
    "partition_df.show()"
   ]
  },
  {
   "cell_type": "markdown",
   "metadata": {
    "id": "3t_tb2x_JxP_"
   },
   "source": [
    "Partitioning a Power Point Document"
   ]
  },
  {
   "cell_type": "code",
   "execution_count": null,
   "metadata": {
    "colab": {
     "base_uri": "https://localhost:8080/"
    },
    "id": "y_xl0ahaJ0Hy",
    "outputId": "8b6d2c5e-63be-481a-eb0e-39425580a3e9"
   },
   "outputs": [
    {
     "name": "stdout",
     "output_type": "stream",
     "text": [
      "Warning::Spark Session already created, some configs may not take.\n",
      "+--------------------+--------------------+\n",
      "|                path|                 ppt|\n",
      "+--------------------+--------------------+\n",
      "|file:/content/ppt...|[{Title, Adding a...|\n",
      "+--------------------+--------------------+\n",
      "\n"
     ]
    }
   ],
   "source": [
    "partition_df = Partition().partition(\"./ppt-files/fake-power-point.pptx\")\n",
    "partition_df.show()"
   ]
  },
  {
   "cell_type": "markdown",
   "metadata": {
    "id": "-NBho92ZKPY6"
   },
   "source": [
    "Partitioning a Email Document"
   ]
  },
  {
   "cell_type": "code",
   "execution_count": null,
   "metadata": {
    "colab": {
     "base_uri": "https://localhost:8080/"
    },
    "id": "4JnKvFe5KVDf",
    "outputId": "26fccc71-38fc-4300-b1fd-231b67598dc1"
   },
   "outputs": [
    {
     "name": "stdout",
     "output_type": "stream",
     "text": [
      "Warning::Spark Session already created, some configs may not take.\n",
      "+--------------------+--------------------+\n",
      "|                path|               email|\n",
      "+--------------------+--------------------+\n",
      "|file:/content/ema...|[{Title, Test Sev...|\n",
      "+--------------------+--------------------+\n",
      "\n"
     ]
    }
   ],
   "source": [
    "partition_df = Partition().partition(\"./email-files/test-several-attachments.eml\")\n",
    "partition_df.show()"
   ]
  },
  {
   "cell_type": "markdown",
   "metadata": {
    "id": "w5cPzhzwKRCO"
   },
   "source": [
    "Partitioning an HTML Document"
   ]
  },
  {
   "cell_type": "code",
   "execution_count": null,
   "metadata": {
    "colab": {
     "base_uri": "https://localhost:8080/"
    },
    "id": "_sldwjppKoPl",
    "outputId": "77c232ec-2bfc-498c-80f4-71fe13afa8ed"
   },
   "outputs": [
    {
     "name": "stdout",
     "output_type": "stream",
     "text": [
      "Warning::Spark Session already created, some configs may not take.\n",
      "+--------------------+--------------------+\n",
      "|                path|                html|\n",
      "+--------------------+--------------------+\n",
      "|file:/content/htm...|[{Title, My First...|\n",
      "+--------------------+--------------------+\n",
      "\n"
     ]
    }
   ],
   "source": [
    "partition_df = Partition().partition(\"./html-files/fake-html.html\")\n",
    "partition_df.show()"
   ]
  },
  {
   "cell_type": "markdown",
   "metadata": {
    "id": "4dtv3MYNKNhe"
   },
   "source": [
    "Partitioning a PDF Document"
   ]
  },
  {
   "cell_type": "code",
   "execution_count": null,
   "metadata": {
    "colab": {
     "base_uri": "https://localhost:8080/"
    },
    "id": "GltbZAjmKwQs",
    "outputId": "317f592b-8c31-404b-9f83-772768627a2d"
   },
   "outputs": [
    {
     "name": "stdout",
     "output_type": "stream",
     "text": [
      "Warning::Spark Session already created, some configs may not take.\n",
      "+--------------------+--------------------+------+--------------------+---------+----------------+---------------+-------+---------+-------+\n",
      "|                path|    modificationTime|length|                text|positions|height_dimension|width_dimension|content|exception|pagenum|\n",
      "+--------------------+--------------------+------+--------------------+---------+----------------+---------------+-------+---------+-------+\n",
      "|file:/content/pdf...|2025-07-08 21:17:...|  9487|   This is a page.\\n|     NULL|             841|            595|   NULL|     NULL|      0|\n",
      "|file:/content/pdf...|2025-07-08 21:17:...|  9487|This is another p...|     NULL|             841|            595|   NULL|     NULL|      1|\n",
      "|file:/content/pdf...|2025-07-08 21:17:...|  9487| Yet another page.\\n|     NULL|             841|            595|   NULL|     NULL|      2|\n",
      "+--------------------+--------------------+------+--------------------+---------+----------------+---------------+-------+---------+-------+\n",
      "\n"
     ]
    }
   ],
   "source": [
    "partition_df = Partition().partition(\"./pdf-files/text_3_pages.pdf\")\n",
    "partition_df.show()"
   ]
  },
  {
   "cell_type": "markdown",
   "metadata": {
    "id": "BB2FEfegGuxl"
   },
   "source": [
    "You can also use DFS file systems like:\n",
    "- Databricks: `dbfs://`\n",
    "- HDFS: `hdfs://`\n",
    "- Microsoft Fabric OneLake: `abfss://`"
   ]
  },
  {
   "cell_type": "markdown",
   "metadata": {
    "id": "C1KhfLcCPizR"
   },
   "source": [
    "### Configuration Parameters"
   ]
  },
  {
   "cell_type": "markdown",
   "metadata": {
    "id": "OUSSGmjrPnPY"
   },
   "source": [
    "The `Partition` feature allows you to extract content from various file formats while providing flexible customization using keyword arguments e.g. `kwargs`."
   ]
  },
  {
   "cell_type": "markdown",
   "metadata": {
    "id": "69oM1ydiZgiK"
   },
   "source": [
    "| Kwargs Option   | Document Type | Usage                              |\n",
    "|:---------------:|:-------------:|:----------------------------------:|\n",
    "| `content_type`  | All           | Override automatic file detection  |\n",
    "| `store_content`  | All           | Whether to include the raw file content in the output DataFrame as a separate 'content' column, alongside the structured output  |\n",
    "| `timeout` | HTML        | Timeout value in seconds for reading remote HTML resources. Applied when fetching content from URLs     |\n",
    "| `title_font_size` | HTML, Excel        | Minimum font size threshold used as part of heuristic rules to detect title elements based on formatting (e.g., bold, centered, capitalized)|\n",
    "| `include_page_breaks` | Word, Excel | Whether to detect and tag content with page break metadata. In Word documents, this includes manual and section breaks. In Excel files, this includes page breaks based on column boundaries. |\n",
    "| `title_length_size` | Text | Maximum character length used to determine if a text block qualifies as a title during parsing |\n",
    "| `block_split` | Text | Splits the processed text into logical blocks for classification |\n",
    "| `group_broken_paragraphs` | Text | Whether to merge fragmented lines into coherent paragraphs using heuristics based on line length and structure |\n",
    "| `paragraph_split` | Text | Regex pattern used to detect paragraph boundaries when grouping broken paragraphs |\n",
    "| `short_line_word_threshold` | Text | Maximum word count for a line to be considered 'short' during broken paragraph grouping |\n",
    "| `threshold` | Text | Threshold ratio of empty lines used to decide between new line-based or broken-paragraph grouping |\n",
    "| `max_line_count` | Text | Maximum number of lines to evaluate when estimating paragraph layout characteristics |\n",
    "| `include_slide_notes` | PowerPoint | Whether to extract speaker notes from slides. When enabled, notes are included as narrative text elements. |\n",
    "| `infer_table_structure` | Word, Excel, PowerPoint | Whether to generate an HTML table representation from structured table content. When enabled, a full `<table>` element is added alongside cell-level elements, based on row and column layout. |\n",
    "| `append_cells` | Excel | Whether to append all rows into a single content block instead of creating separate elements per row. |\n",
    "| `cell_separator` | Excel | String used to join cell values in a row when assembling textual output |\n",
    "| `add_attachment_content` | Email | Whether to extract and include the textual content of plain-text attachments in the output |\n",
    "| `xml_keep_tags` | XML | Whether to retain original XML tag names and include them in the metadata for each extracted element |\n",
    "| `only_leaf_nodes` | XML | If true, only the deepest elements are extracted. If false, all elements are extracted|"
   ]
  },
  {
   "cell_type": "markdown",
   "metadata": {
    "id": "qH17yHvrcCwE"
   },
   "source": [
    "One important customization is specifying the content type explicitly using the `content_type` parameter. This helps bypass file identification and directly process files following the [MIME](https://developer.mozilla.org/en-US/docs/Web/HTTP/Basics_of_HTTP/MIME_types) specification."
   ]
  },
  {
   "cell_type": "code",
   "execution_count": null,
   "metadata": {
    "colab": {
     "base_uri": "https://localhost:8080/"
    },
    "id": "gDJyUi_9R4fr",
    "outputId": "bc54ad85-91f1-4d9c-ff74-5d472e96c41f"
   },
   "outputs": [
    {
     "name": "stdout",
     "output_type": "stream",
     "text": [
      "Warning::Spark Session already created, some configs may not take.\n",
      "+--------------------+--------------------+\n",
      "|                path|                 doc|\n",
      "+--------------------+--------------------+\n",
      "|file:/content/wor...|[{NarrativeText, ...|\n",
      "|file:/content/wor...|[{Table, Header C...|\n",
      "|file:/content/wor...|[{Header, An inli...|\n",
      "+--------------------+--------------------+\n",
      "\n"
     ]
    }
   ],
   "source": [
    "partition_df = Partition(content_type = \"application/msword\").partition(\"./word-files\")\n",
    "partition_df.show()"
   ]
  },
  {
   "cell_type": "markdown",
   "metadata": {
    "id": "F0lCz9OyPYYh"
   },
   "source": [
    "We can use the `store_content` option to include the raw file content in the output DataFrame as a separate 'content' column, alongside the structured output"
   ]
  },
  {
   "cell_type": "code",
   "execution_count": null,
   "metadata": {
    "colab": {
     "base_uri": "https://localhost:8080/"
    },
    "id": "qExdRJ2aPsYV",
    "outputId": "78bdbbdb-0a27-4b0e-ecda-0e567240a32d"
   },
   "outputs": [
    {
     "name": "stdout",
     "output_type": "stream",
     "text": [
      "Warning::Spark Session already created, some configs may not take.\n",
      "+--------------------+--------------------+--------------------+\n",
      "|                path|                 doc|             content|\n",
      "+--------------------+--------------------+--------------------+\n",
      "|file:/content/wor...|[{NarrativeText, ...|[50 4B 03 04 14 0...|\n",
      "|file:/content/wor...|[{Table, Header C...|[50 4B 03 04 14 0...|\n",
      "|file:/content/wor...|[{Header, An inli...|[50 4B 03 04 14 0...|\n",
      "+--------------------+--------------------+--------------------+\n",
      "\n"
     ]
    }
   ],
   "source": [
    "partition_df = Partition(content_type = \"application/msword\", store_content = True).partition(\"./word-files\")\n",
    "partition_df.show()"
   ]
  },
  {
   "cell_type": "markdown",
   "metadata": {
    "id": "E3bCFJZn8TS0"
   },
   "source": [
    "## Partitioning PDF Files"
   ]
  },
  {
   "cell_type": "code",
   "execution_count": null,
   "metadata": {
    "colab": {
     "base_uri": "https://localhost:8080/"
    },
    "id": "3vz48AHQHyON",
    "outputId": "91e20a0f-37a0-4724-f28f-c7e21d86b6b3"
   },
   "outputs": [
    {
     "name": "stdout",
     "output_type": "stream",
     "text": [
      "Warning::Spark Session already created, some configs may not take.\n",
      "+--------------------+--------------------+------+--------------------+---------+----------------+---------------+-------+---------+-------+\n",
      "|                path|    modificationTime|length|                text|positions|height_dimension|width_dimension|content|exception|pagenum|\n",
      "+--------------------+--------------------+------+--------------------+---------+----------------+---------------+-------+---------+-------+\n",
      "|file:/content/pdf...|2025-07-08 21:17:...| 25803|This is a Title \\...|     NULL|             842|            596|   NULL|     NULL|      0|\n",
      "|file:/content/pdf...|2025-07-08 21:17:...| 15629|                  \\n|     NULL|             841|            595|   NULL|     NULL|      0|\n",
      "|file:/content/pdf...|2025-07-08 21:17:...| 15629|                  \\n|     NULL|             841|            595|   NULL|     NULL|      1|\n",
      "|file:/content/pdf...|2025-07-08 21:17:...| 15629|                  \\n|     NULL|             841|            595|   NULL|     NULL|      2|\n",
      "|file:/content/pdf...|2025-07-08 21:17:...|  9487|   This is a page.\\n|     NULL|             841|            595|   NULL|     NULL|      0|\n",
      "|file:/content/pdf...|2025-07-08 21:17:...|  9487|This is another p...|     NULL|             841|            595|   NULL|     NULL|      1|\n",
      "|file:/content/pdf...|2025-07-08 21:17:...|  9487| Yet another page.\\n|     NULL|             841|            595|   NULL|     NULL|      2|\n",
      "+--------------------+--------------------+------+--------------------+---------+----------------+---------------+-------+---------+-------+\n",
      "\n"
     ]
    }
   ],
   "source": [
    "partition_df = Partition(content_type = \"application/pdf\").partition(\"./pdf-files\")\n",
    "partition_df.show()"
   ]
  },
  {
   "cell_type": "markdown",
   "metadata": {
    "id": "02qrQWIWP89R"
   },
   "source": [
    "## Partitioning HTML documents"
   ]
  },
  {
   "cell_type": "markdown",
   "metadata": {
    "id": "b8Tk-kc8GGzx"
   },
   "source": [
    "The `timeout` parameter lets you define how long to wait (in seconds) for a response when fetching HTML content, preventing long stalls on slow or unresponsive sites."
   ]
  },
  {
   "cell_type": "code",
   "execution_count": null,
   "metadata": {
    "colab": {
     "base_uri": "https://localhost:8080/"
    },
    "id": "_2J0zEmma8jm",
    "outputId": "a361c1c4-b4ff-499d-a080-22d9b4f9beef"
   },
   "outputs": [
    {
     "name": "stdout",
     "output_type": "stream",
     "text": [
      "Warning::Spark Session already created, some configs may not take.\n",
      "+------------------------+--------------------------------------------------------------------------------------------------------------------------------------------------------------------------------------------------------------------------------------------------------------------------------------------------------------------------------------------------------------------------------------------------------------------------------------------------------------------------------------------------------------------------------------------------------------------------------------------------------------------------------------------------------------------------------------------------------------------------------------------------------------------------------------------------------------------------------------------------------------------------------------------------------------------------------------------------------------------------------------------------------------------------------------------------------------------------------------------------------------------------------------------------------------------------------------------------------------------------------------------------------------------------------------------------------------------------------------------------------------------------------------------------------------------------------------------------------------------------------------------------------------------------------------------------------------------------------------------------------------------------------------------------------------------------------------------------------------------------------------------------------------------------------------------------------------------------------------------------------------------------------------------------------------------------------------------------------------------------------------------------------------------------------------------------------------------------------------------------------------------------------------------------------------------------------------------------------------------------------------------------------------------------------------------------------------------------------------------------------------------------------------------------------------------------------------------------------------------------------------------------------------------------------------------------------------------------------------------------------------------------------------------------------------------------------------------------------------------------------------------------------------------------------------------------------------------------------------------------------------------------------------------------------------------------------------------------------------------------------------------------------------------------------------------------------------------------------------------------------------------------------------------------------------------------------------------------------------------------------------------------------------------------------------------------------------------------------------------------------------------------------------------------------------------------------------------------------------------------------------------------------------------------------------------------------------------------------------------------------------------------------------------------------------------------------------------------------------------------------------------------------------------------------------------------------------------------------------------------------------------------------------------------------------------------------------------------------------------------------------------------------------------------------------------------------------------------------------------------------------------------------------------------------------------------------------------------------------------------------------------------------------------------------------------------------------------------------------------------------------------------------------------------------------------------------------------------------------------------------------------------------------------------------------------------------------------------------------------------------------------------------------------------------------------------------------------------------------------------------------------------------------------------------------------------------------------------------------------------------------------------------------------------------------------------------------------------------------------------------------------------------------------------------------------------------------------------------------------------------------------------------------------------------------------------------------------------------------------------------------------------------------------------------------------------------------------------------------------------------------------------------------------------------------------------------------------------------------------------------------------------------------------------------------------------------------------------------------------------------------------------------------------------------------------------------------------------------------------------------------------------------------------------------------------------------------------------------------------------------------------------------------------------------------------------------------------------------------------------------------------------------------------------------------------------------------------------------------------------------------------------------------------------------------------------------------------------------------------------------------------------------------------------------------------------------------------------------------------------------------------------------------------------------------------------------------------------------------------------------------------------------------------------------------------------------------------------------------------------------------------------------------------------------------------------------------------------------------------------------------------------------------------------------------------------------------------------------------------------------------------------------------------------------------------------------------------------------------------------------------------------------------------------------------------------------------------------------------------------------------------------------------------------------------------------------------------------------------------------------------------------------------------------------------------------------------------------------------------------------------------------------------------------------------------------------------------------------------------------------------------------------------------------------------------------------------------------------------------------------------------------------------------------------------------------------------------------------------------------------------------------------------------------------------------------------------------------------------------------------------------------------------------------------------------------------------------------------------------------------------------------------------------------------------------------------------------------------------------------------------------------------------------------------------------------------------------------------------------------------------------------------------------------------------------------------------------------------------------------------------------------------------------------------------------------------------------------------------------------------------------------------------------------------------------------------------------------------------------------------------------------------------------------------------------------+\n",
      "|url                     |html                                                                                                                                                                                                                                                                                                                                                                                                                                                                                                                                                                                                                                                                                                                                                                                                                                                                                                                                                                                                                                                                                                                                                                                                                                                                                                                                                                                                                                                                                                                                                                                                                                                                                                                                                                                                                                                                                                                                                                                                                                                                                                                                                                                                                                                                                                                                                                                                                                                                                                                                                                                                                                                                                                                                                                                                                                                                                                                                                                                                                                                                                                                                                                                                                                                                                                                                                                                                                                                                                                                                                                                                                                                                                                                                                                                                                                                                                                                                                                                                                                                                                                                                                                                                                                                                                                                                                                                                                                                                                                                                                                                                                                                                                                                                                                                                                                                                                                                                                                                                                                                                                                                                                                                                                                                                                                                                                                                                                                                                                                                                                                                                                                                                                                                                                                                                                                                                                                                                                                                                                                                                                                                                                                                                                                                                                                                                                                                                                                                                                                                                                                                                                                                                                                                                                                                                                                                                                                                                                                                                                                                                                                                                                                                                                                                                                                                                                                                                                                                                                                                                                                                                                                                                                                                                                                                                                                                                                                                                                                                                                                                                                                                                                                                                                                                                                                                                                                                                                                                                                                                                                                                                                                                                      |\n",
      "+------------------------+--------------------------------------------------------------------------------------------------------------------------------------------------------------------------------------------------------------------------------------------------------------------------------------------------------------------------------------------------------------------------------------------------------------------------------------------------------------------------------------------------------------------------------------------------------------------------------------------------------------------------------------------------------------------------------------------------------------------------------------------------------------------------------------------------------------------------------------------------------------------------------------------------------------------------------------------------------------------------------------------------------------------------------------------------------------------------------------------------------------------------------------------------------------------------------------------------------------------------------------------------------------------------------------------------------------------------------------------------------------------------------------------------------------------------------------------------------------------------------------------------------------------------------------------------------------------------------------------------------------------------------------------------------------------------------------------------------------------------------------------------------------------------------------------------------------------------------------------------------------------------------------------------------------------------------------------------------------------------------------------------------------------------------------------------------------------------------------------------------------------------------------------------------------------------------------------------------------------------------------------------------------------------------------------------------------------------------------------------------------------------------------------------------------------------------------------------------------------------------------------------------------------------------------------------------------------------------------------------------------------------------------------------------------------------------------------------------------------------------------------------------------------------------------------------------------------------------------------------------------------------------------------------------------------------------------------------------------------------------------------------------------------------------------------------------------------------------------------------------------------------------------------------------------------------------------------------------------------------------------------------------------------------------------------------------------------------------------------------------------------------------------------------------------------------------------------------------------------------------------------------------------------------------------------------------------------------------------------------------------------------------------------------------------------------------------------------------------------------------------------------------------------------------------------------------------------------------------------------------------------------------------------------------------------------------------------------------------------------------------------------------------------------------------------------------------------------------------------------------------------------------------------------------------------------------------------------------------------------------------------------------------------------------------------------------------------------------------------------------------------------------------------------------------------------------------------------------------------------------------------------------------------------------------------------------------------------------------------------------------------------------------------------------------------------------------------------------------------------------------------------------------------------------------------------------------------------------------------------------------------------------------------------------------------------------------------------------------------------------------------------------------------------------------------------------------------------------------------------------------------------------------------------------------------------------------------------------------------------------------------------------------------------------------------------------------------------------------------------------------------------------------------------------------------------------------------------------------------------------------------------------------------------------------------------------------------------------------------------------------------------------------------------------------------------------------------------------------------------------------------------------------------------------------------------------------------------------------------------------------------------------------------------------------------------------------------------------------------------------------------------------------------------------------------------------------------------------------------------------------------------------------------------------------------------------------------------------------------------------------------------------------------------------------------------------------------------------------------------------------------------------------------------------------------------------------------------------------------------------------------------------------------------------------------------------------------------------------------------------------------------------------------------------------------------------------------------------------------------------------------------------------------------------------------------------------------------------------------------------------------------------------------------------------------------------------------------------------------------------------------------------------------------------------------------------------------------------------------------------------------------------------------------------------------------------------------------------------------------------------------------------------------------------------------------------------------------------------------------------------------------------------------------------------------------------------------------------------------------------------------------------------------------------------------------------------------------------------------------------------------------------------------------------------------------------------------------------------------------------------------------------------------------------------------------------------------------------------------------------------------------------------------------------------------------------------------------------------------------------------------------------------------------------------------------------------------------------------------------------------------------------------------------------------------------------------------------------------------------------------------------------------------------------------------------------------------------------------------------------------------------------------------------------------------------------------------------------------------------------------------------------------------------------------------------------------------------------------------------------------------------------------------------------------------------+\n",
      "|https://www.blizzard.com|[{ListItem, Learn MoreBuy Now, {pageNumber -> 1}}, {ListItem, Learn More, {pageNumber -> 1}}, {ListItem, Purchase Battle PassLearn More, {pageNumber -> 1}}, {ListItem, Play Free NowLearn More, {pageNumber -> 1}}, {ListItem, Learn MoreBuy Now, {pageNumber -> 1}}, {Title, Featured Games, {pageNumber -> 1}}, {Title, World of Warcraft: Mists of Pandaria Classic, {pageNumber -> 1}}, {NarrativeText, MMORPG, {pageNumber -> 1}}, {Title, World of Warcraft: Mists of Pandaria Classic, {pageNumber -> 1}}, {NarrativeText, MMORPG, {pageNumber -> 1}}, {Title, Warcraft I: Remastered, {pageNumber -> 1}}, {NarrativeText, Real-Time Strategy, {pageNumber -> 1}}, {Title, Warcraft I: Remastered, {pageNumber -> 1}}, {NarrativeText, Real-Time Strategy, {pageNumber -> 1}}, {Title, Warcraft II: Remastered, {pageNumber -> 1}}, {NarrativeText, Real-Time Strategy, {pageNumber -> 1}}, {Title, Warcraft II: Remastered, {pageNumber -> 1}}, {NarrativeText, Real-Time Strategy, {pageNumber -> 1}}, {Title, Warcraft III: Reforged, {pageNumber -> 1}}, {NarrativeText, Real-Time Strategy, {pageNumber -> 1}}, {Title, Warcraft III: Reforged, {pageNumber -> 1}}, {NarrativeText, Real-Time Strategy, {pageNumber -> 1}}, {Title, Diablo IV: Vessel of Hatred, {pageNumber -> 1}}, {NarrativeText, Action RPG, {pageNumber -> 1}}, {Title, Diablo IV: Vessel of Hatred, {pageNumber -> 1}}, {NarrativeText, Action RPG, {pageNumber -> 1}}, {Title, World of Warcraft: The War Within, {pageNumber -> 1}}, {NarrativeText, MMORPG, {pageNumber -> 1}}, {Title, World of Warcraft: The War Within, {pageNumber -> 1}}, {NarrativeText, MMORPG, {pageNumber -> 1}}, {Title, Warcraft Rumble, {pageNumber -> 1}}, {NarrativeText, Mobile Action Strategy, {pageNumber -> 1}}, {Title, Warcraft Rumble, {pageNumber -> 1}}, {NarrativeText, Mobile Action Strategy, {pageNumber -> 1}}, {Title, World of Warcraft, {pageNumber -> 1}}, {NarrativeText, MMORPG, {pageNumber -> 1}}, {Title, World of Warcraft, {pageNumber -> 1}}, {NarrativeText, MMORPG, {pageNumber -> 1}}, {Title, Overwatch 2, {pageNumber -> 1}}, {NarrativeText, Team-Based Action, {pageNumber -> 1}}, {Title, Overwatch 2, {pageNumber -> 1}}, {NarrativeText, Team-Based Action, {pageNumber -> 1}}, {Title, Hearthstone, {pageNumber -> 1}}, {NarrativeText, Strategy Card Game, {pageNumber -> 1}}, {Title, Hearthstone, {pageNumber -> 1}}, {NarrativeText, Strategy Card Game, {pageNumber -> 1}}, {ListItem, World of Warcraft: Mists of Pandaria Classic MMORPG World of Warcraft: Mists of Pandaria Classic MMORPG Warcraft II: Remastered Real-Time Strategy Warcraft II: Remastered Real-Time Strategy, {pageNumber -> 1}}, {ListItem, Warcraft I: Remastered Real-Time Strategy Warcraft I: Remastered Real-Time Strategy Warcraft III: Reforged Real-Time Strategy Warcraft III: Reforged Real-Time Strategy, {pageNumber -> 1}}, {ListItem, Diablo IV: Vessel of Hatred Action RPG Diablo IV: Vessel of Hatred Action RPG Warcraft Rumble Mobile Action Strategy Warcraft Rumble Mobile Action Strategy, {pageNumber -> 1}}, {ListItem, World of Warcraft: The War Within MMORPG World of Warcraft: The War Within MMORPG World of Warcraft MMORPG World of Warcraft MMORPG, {pageNumber -> 1}}, {ListItem, Overwatch 2 Team-Based Action Overwatch 2 Team-Based Action Hearthstone Strategy Card Game Hearthstone Strategy Card Game, {pageNumber -> 1}}, {Title, World of Warcraft: Mists of Pandaria Classic, {pageNumber -> 1}}, {NarrativeText, MMORPG, {pageNumber -> 1}}, {Title, World of Warcraft: Mists of Pandaria Classic, {pageNumber -> 1}}, {NarrativeText, MMORPG, {pageNumber -> 1}}, {Title, Warcraft I: Remastered, {pageNumber -> 1}}, {NarrativeText, Real-Time Strategy, {pageNumber -> 1}}, {Title, Warcraft I: Remastered, {pageNumber -> 1}}, {NarrativeText, Real-Time Strategy, {pageNumber -> 1}}, {Title, Warcraft II: Remastered, {pageNumber -> 1}}, {NarrativeText, Real-Time Strategy, {pageNumber -> 1}}, {Title, Warcraft II: Remastered, {pageNumber -> 1}}, {NarrativeText, Real-Time Strategy, {pageNumber -> 1}}, {Title, Warcraft III: Reforged, {pageNumber -> 1}}, {NarrativeText, Real-Time Strategy, {pageNumber -> 1}}, {Title, Warcraft III: Reforged, {pageNumber -> 1}}, {NarrativeText, Real-Time Strategy, {pageNumber -> 1}}, {Title, Diablo IV: Vessel of Hatred, {pageNumber -> 1}}, {NarrativeText, Action RPG, {pageNumber -> 1}}, {Title, Diablo IV: Vessel of Hatred, {pageNumber -> 1}}, {NarrativeText, Action RPG, {pageNumber -> 1}}, {Title, World of Warcraft: The War Within, {pageNumber -> 1}}, {NarrativeText, MMORPG, {pageNumber -> 1}}, {Title, World of Warcraft: The War Within, {pageNumber -> 1}}, {NarrativeText, MMORPG, {pageNumber -> 1}}, {Title, Diablo IV, {pageNumber -> 1}}, {NarrativeText, Action RPG, {pageNumber -> 1}}, {Title, Diablo IV, {pageNumber -> 1}}, {NarrativeText, Action RPG, {pageNumber -> 1}}, {Title, Warcraft Rumble, {pageNumber -> 1}}, {NarrativeText, Mobile Action Strategy, {pageNumber -> 1}}, {Title, Warcraft Rumble, {pageNumber -> 1}}, {NarrativeText, Mobile Action Strategy, {pageNumber -> 1}}, {Title, World of Warcraft, {pageNumber -> 1}}, {NarrativeText, MMORPG, {pageNumber -> 1}}, {Title, World of Warcraft, {pageNumber -> 1}}, {NarrativeText, MMORPG, {pageNumber -> 1}}, {Title, Overwatch 2, {pageNumber -> 1}}, {NarrativeText, Team-Based Action, {pageNumber -> 1}}, {Title, Overwatch 2, {pageNumber -> 1}}, {NarrativeText, Team-Based Action, {pageNumber -> 1}}, {ListItem, World of Warcraft: Mists of Pandaria Classic MMORPG World of Warcraft: Mists of Pandaria Classic MMORPG Warcraft II: Remastered Real-Time Strategy Warcraft II: Remastered Real-Time Strategy, {pageNumber -> 1}}, {ListItem, Warcraft I: Remastered Real-Time Strategy Warcraft I: Remastered Real-Time Strategy Warcraft III: Reforged Real-Time Strategy Warcraft III: Reforged Real-Time Strategy, {pageNumber -> 1}}, {ListItem, Diablo IV: Vessel of Hatred Action RPG Diablo IV: Vessel of Hatred Action RPG Diablo IV Action RPG Diablo IV Action RPG, {pageNumber -> 1}}, {ListItem, World of Warcraft: The War Within MMORPG World of Warcraft: The War Within MMORPG Warcraft Rumble Mobile Action Strategy Warcraft Rumble Mobile Action Strategy, {pageNumber -> 1}}, {ListItem, World of Warcraft MMORPG World of Warcraft MMORPG Overwatch 2 Team-Based Action Overwatch 2 Team-Based Action, {pageNumber -> 1}}, {Title, Diablo IV: Vessel of Hatred, {pageNumber -> 1}}, {NarrativeText, Action RPG, {pageNumber -> 1}}, {Title, Diablo IV: Vessel of Hatred, {pageNumber -> 1}}, {NarrativeText, Action RPG, {pageNumber -> 1}}, {Title, Diablo IV, {pageNumber -> 1}}, {NarrativeText, Action RPG, {pageNumber -> 1}}, {Title, Diablo IV, {pageNumber -> 1}}, {NarrativeText, Action RPG, {pageNumber -> 1}}, {Title, Overwatch 2, {pageNumber -> 1}}, {NarrativeText, Team-Based Action, {pageNumber -> 1}}, {Title, Overwatch 2, {pageNumber -> 1}}, {NarrativeText, Team-Based Action, {pageNumber -> 1}}, {Title, Diablo II: Resurrected, {pageNumber -> 1}}, {NarrativeText, Action RPG, {pageNumber -> 1}}, {Title, Diablo II: Resurrected, {pageNumber -> 1}}, {NarrativeText, Action RPG, {pageNumber -> 1}}, {ListItem, Diablo IV: Vessel of Hatred Action RPG Diablo IV: Vessel of Hatred Action RPG, {pageNumber -> 1}}, {ListItem, Diablo IV Action RPG Diablo IV Action RPG, {pageNumber -> 1}}, {ListItem, Overwatch 2 Team-Based Action Overwatch 2 Team-Based Action, {pageNumber -> 1}}, {ListItem, Diablo II: Resurrected Action RPG Diablo II: Resurrected Action RPG, {pageNumber -> 1}}, {Title, Warcraft Rumble, {pageNumber -> 1}}, {NarrativeText, Mobile Action Strategy, {pageNumber -> 1}}, {Title, Warcraft Rumble, {pageNumber -> 1}}, {NarrativeText, Mobile Action Strategy, {pageNumber -> 1}}, {Title, Hearthstone, {pageNumber -> 1}}, {NarrativeText, Strategy Card Game, {pageNumber -> 1}}, {Title, Hearthstone, {pageNumber -> 1}}, {NarrativeText, Strategy Card Game, {pageNumber -> 1}}, {Title, Diablo Immortal, {pageNumber -> 1}}, {NarrativeText, Action RPG, {pageNumber -> 1}}, {Title, Diablo Immortal, {pageNumber -> 1}}, {NarrativeText, Action RPG, {pageNumber -> 1}}, {ListItem, Warcraft Rumble Mobile Action Strategy Warcraft Rumble Mobile Action Strategy, {pageNumber -> 1}}, {ListItem, Hearthstone Strategy Card Game Hearthstone Strategy Card Game, {pageNumber -> 1}}, {ListItem, Diablo Immortal Action RPG Diablo Immortal Action RPG, {pageNumber -> 1}}]|\n",
      "+------------------------+--------------------------------------------------------------------------------------------------------------------------------------------------------------------------------------------------------------------------------------------------------------------------------------------------------------------------------------------------------------------------------------------------------------------------------------------------------------------------------------------------------------------------------------------------------------------------------------------------------------------------------------------------------------------------------------------------------------------------------------------------------------------------------------------------------------------------------------------------------------------------------------------------------------------------------------------------------------------------------------------------------------------------------------------------------------------------------------------------------------------------------------------------------------------------------------------------------------------------------------------------------------------------------------------------------------------------------------------------------------------------------------------------------------------------------------------------------------------------------------------------------------------------------------------------------------------------------------------------------------------------------------------------------------------------------------------------------------------------------------------------------------------------------------------------------------------------------------------------------------------------------------------------------------------------------------------------------------------------------------------------------------------------------------------------------------------------------------------------------------------------------------------------------------------------------------------------------------------------------------------------------------------------------------------------------------------------------------------------------------------------------------------------------------------------------------------------------------------------------------------------------------------------------------------------------------------------------------------------------------------------------------------------------------------------------------------------------------------------------------------------------------------------------------------------------------------------------------------------------------------------------------------------------------------------------------------------------------------------------------------------------------------------------------------------------------------------------------------------------------------------------------------------------------------------------------------------------------------------------------------------------------------------------------------------------------------------------------------------------------------------------------------------------------------------------------------------------------------------------------------------------------------------------------------------------------------------------------------------------------------------------------------------------------------------------------------------------------------------------------------------------------------------------------------------------------------------------------------------------------------------------------------------------------------------------------------------------------------------------------------------------------------------------------------------------------------------------------------------------------------------------------------------------------------------------------------------------------------------------------------------------------------------------------------------------------------------------------------------------------------------------------------------------------------------------------------------------------------------------------------------------------------------------------------------------------------------------------------------------------------------------------------------------------------------------------------------------------------------------------------------------------------------------------------------------------------------------------------------------------------------------------------------------------------------------------------------------------------------------------------------------------------------------------------------------------------------------------------------------------------------------------------------------------------------------------------------------------------------------------------------------------------------------------------------------------------------------------------------------------------------------------------------------------------------------------------------------------------------------------------------------------------------------------------------------------------------------------------------------------------------------------------------------------------------------------------------------------------------------------------------------------------------------------------------------------------------------------------------------------------------------------------------------------------------------------------------------------------------------------------------------------------------------------------------------------------------------------------------------------------------------------------------------------------------------------------------------------------------------------------------------------------------------------------------------------------------------------------------------------------------------------------------------------------------------------------------------------------------------------------------------------------------------------------------------------------------------------------------------------------------------------------------------------------------------------------------------------------------------------------------------------------------------------------------------------------------------------------------------------------------------------------------------------------------------------------------------------------------------------------------------------------------------------------------------------------------------------------------------------------------------------------------------------------------------------------------------------------------------------------------------------------------------------------------------------------------------------------------------------------------------------------------------------------------------------------------------------------------------------------------------------------------------------------------------------------------------------------------------------------------------------------------------------------------------------------------------------------------------------------------------------------------------------------------------------------------------------------------------------------------------------------------------------------------------------------------------------------------------------------------------------------------------------------------------------------------------------------------------------------------------------------------------------------------------------------------------------------------------------------------------------------------------------------------------------------------------------------------------------------------------------------------------------------------------------------------------------------------------------------------------------------------------------------------------------------------------------------------------------------------------------------------------------------------+\n",
      "\n"
     ]
    }
   ],
   "source": [
    "partition_df = Partition(content_type = \"text/html\", timeout = 1).partition(url=\"https://www.blizzard.com\")\n",
    "partition_df.show(truncate=False)"
   ]
  },
  {
   "cell_type": "markdown",
   "metadata": {
    "id": "W7Az_d8sF2On"
   },
   "source": [
    "### Headers for URLs"
   ]
  },
  {
   "cell_type": "markdown",
   "metadata": {
    "id": "KDt97hE0cVRA"
   },
   "source": [
    "Another available parameter is `headers`. This is currently used when a URL is provided, allowing you to set the necessary headers for the request. It can be useful in scenarios such as requesting web pages in a specific language or when authentication is required, for example by passing a Bearer token.\n",
    "\n"
   ]
  },
  {
   "cell_type": "code",
   "execution_count": null,
   "metadata": {
    "colab": {
     "base_uri": "https://localhost:8080/"
    },
    "id": "4sY2ADN8dusy",
    "outputId": "003fff88-af6a-498c-b98e-8c6e2668662e"
   },
   "outputs": [
    {
     "name": "stdout",
     "output_type": "stream",
     "text": [
      "Warning::Spark Session already created, some configs may not take.\n",
      "+------------------------+-----------------------------------------------------------------------------------------------------------------------------------------------------------------------------------------------------------------------------------------------------------------------------------------------------------------------------------------------------------------------------------------------------------------------------------------------------------------------------------------------------------------------------------------------------------------------------------------------------------------------------------------------------------------------------------------------------------------------------------------------------------------------------------------------------------------------------------------------------------------------------------------------------------------------------------------------------------------------------------------------------------------------------------------------------------------------------------------------------------------------------------------------------------------------------------------------------------------------------------------------------------------------------------------------------------------------------------------------------------------------------------------------------------------------------------------------------------------------------------------------------------------------------------------------------------------------------------------------------------------------------------------------------------------------------------------------------------------------------------------------------------------------------------------------------------------------------------------------------------------------------------------------------------------------------------------------------------------------------------------------------------------------------------------------------------------------------------------------------------------------------------------------------------------------------------------------------------------------------------------------------------------------------------------------------------------------------------------------------------------------------------------------------------------------------------------------------------------------------------------------------------------------------------------------------------------------------------------------------------------------------------------------------------------------------------------------------------------------------------------------------------------------------------------------------------------------------------------------------------------------------------------------------------------------------------------------------------------------------------------------------------------------------------------------------------------------------------------------------------------------------------------------------------------------------------------------------------------------------------------------------------------------------------------------------------------------------------------------------------------------------------------------------------------------------------------------------------------------------------------------------------------------------------------------------------------------------------------------------------------------------------------------------------------------------------------------------------------------------------------------------------------------------------------------------------------------------------------------------------------------------------------------------------------------------------------------------------------------------------------------------------------------------------------------------------------------------------------------------------------------------------------------------------------------------------------------------------------------------------------------------------------------------------------------------------------------------------------------------------------------------------------------------------------------------------------------------------------------------------------------------------------------------------------------------------------------------------------------------------------------------------------------------------------------------------------------------------------------------------------------------------------------------------------------------------------------------------------------------------------------------------------------------------------------------------------------------------------------------------------------------------------------------------------------------------------------------------------------------------------------------------------------------------------------------------------------------------------------------------------------------------------------------------------------------------------------------------------------------------------------------------------------------------------------------------------------------------------------------------------------------------------------------------------------------------------------------------------------------------------------------------------------------------------------------------------------------------------------------------------------------------------------------------------------------------------------------------------------------------------------------------------------------------------------------------------------------------------------------------------------------------------------------------------------------------------------------------------------------------------------------------------------------------------------------------------------------------------------------------------------------------------------------------------------------------------------------------------------------------------------------------------------------------------------------------------------------------------------------------------------------------------------------------------------------------------------------------------------------------------------------------------------------------------------------------------------------------------------------------------------------------------------------------------------------------------------------------------------------------------------------------------------------------------------------------------------------------------------------------------------------------------------------------------------------------------------------------------------------------------------------------------------------------------------------------------------------------------------------------------------------------------------------------------------------------------------------------------------------------------------------------------------------------------------------------------------------------------------------------------------------------------------------------------------------------------------------------------------------------------------------------------------------------------------------------------------------------------------------------------------------------------------------------------------------------------------------------------------------------------------------------------------------------------------------------------------------------------------------------------------------------------------------------------------------------------------------------------------------------------------------------------------------------------------------------------------------------------------------------------------------------------------------------------------------------------------------------------------------------------------------------------------------------------------------------------------------------------------------------------------------------------------------------------------------------------------------------------------------------------------------------------------------------------------------------------------------------------------------------------------------------------------------------------------------------------------------------------------------------------------------------------------------------------------------------------------------------------------------------------------------------------------------------------------------------------------------------------------------------------------------------------------------------------------+\n",
      "|url                     |html                                                                                                                                                                                                                                                                                                                                                                                                                                                                                                                                                                                                                                                                                                                                                                                                                                                                                                                                                                                                                                                                                                                                                                                                                                                                                                                                                                                                                                                                                                                                                                                                                                                                                                                                                                                                                                                                                                                                                                                                                                                                                                                                                                                                                                                                                                                                                                                                                                                                                                                                                                                                                                                                                                                                                                                                                                                                                                                                                                                                                                                                                                                                                                                                                                                                                                                                                                                                                                                                                                                                                                                                                                                                                                                                                                                                                                                                                                                                                                                                                                                                                                                                                                                                                                                                                                                                                                                                                                                                                                                                                                                                                                                                                                                                                                                                                                                                                                                                                                                                                                                                                                                                                                                                                                                                                                                                                                                                                                                                                                                                                                                                                                                                                                                                                                                                                                                                                                                                                                                                                                                                                                                                                                                                                                                                                                                                                                                                                                                                                                                                                                                                                                                                                                                                                                                                                                                                                                                                                                                                                                                                                                                                                                                                                                                                                                                                                                                                                                                                                                                                                                                                                                                                                                                                                                                                                                                                                                                                                                                                                                                                                                                                                                                                                                                                                                                                                                                                                                                                                                                                                                                                                                                                                                                                                                                                                                                                                                                                                                                                                                                                                                                                                                   |\n",
      "+------------------------+-----------------------------------------------------------------------------------------------------------------------------------------------------------------------------------------------------------------------------------------------------------------------------------------------------------------------------------------------------------------------------------------------------------------------------------------------------------------------------------------------------------------------------------------------------------------------------------------------------------------------------------------------------------------------------------------------------------------------------------------------------------------------------------------------------------------------------------------------------------------------------------------------------------------------------------------------------------------------------------------------------------------------------------------------------------------------------------------------------------------------------------------------------------------------------------------------------------------------------------------------------------------------------------------------------------------------------------------------------------------------------------------------------------------------------------------------------------------------------------------------------------------------------------------------------------------------------------------------------------------------------------------------------------------------------------------------------------------------------------------------------------------------------------------------------------------------------------------------------------------------------------------------------------------------------------------------------------------------------------------------------------------------------------------------------------------------------------------------------------------------------------------------------------------------------------------------------------------------------------------------------------------------------------------------------------------------------------------------------------------------------------------------------------------------------------------------------------------------------------------------------------------------------------------------------------------------------------------------------------------------------------------------------------------------------------------------------------------------------------------------------------------------------------------------------------------------------------------------------------------------------------------------------------------------------------------------------------------------------------------------------------------------------------------------------------------------------------------------------------------------------------------------------------------------------------------------------------------------------------------------------------------------------------------------------------------------------------------------------------------------------------------------------------------------------------------------------------------------------------------------------------------------------------------------------------------------------------------------------------------------------------------------------------------------------------------------------------------------------------------------------------------------------------------------------------------------------------------------------------------------------------------------------------------------------------------------------------------------------------------------------------------------------------------------------------------------------------------------------------------------------------------------------------------------------------------------------------------------------------------------------------------------------------------------------------------------------------------------------------------------------------------------------------------------------------------------------------------------------------------------------------------------------------------------------------------------------------------------------------------------------------------------------------------------------------------------------------------------------------------------------------------------------------------------------------------------------------------------------------------------------------------------------------------------------------------------------------------------------------------------------------------------------------------------------------------------------------------------------------------------------------------------------------------------------------------------------------------------------------------------------------------------------------------------------------------------------------------------------------------------------------------------------------------------------------------------------------------------------------------------------------------------------------------------------------------------------------------------------------------------------------------------------------------------------------------------------------------------------------------------------------------------------------------------------------------------------------------------------------------------------------------------------------------------------------------------------------------------------------------------------------------------------------------------------------------------------------------------------------------------------------------------------------------------------------------------------------------------------------------------------------------------------------------------------------------------------------------------------------------------------------------------------------------------------------------------------------------------------------------------------------------------------------------------------------------------------------------------------------------------------------------------------------------------------------------------------------------------------------------------------------------------------------------------------------------------------------------------------------------------------------------------------------------------------------------------------------------------------------------------------------------------------------------------------------------------------------------------------------------------------------------------------------------------------------------------------------------------------------------------------------------------------------------------------------------------------------------------------------------------------------------------------------------------------------------------------------------------------------------------------------------------------------------------------------------------------------------------------------------------------------------------------------------------------------------------------------------------------------------------------------------------------------------------------------------------------------------------------------------------------------------------------------------------------------------------------------------------------------------------------------------------------------------------------------------------------------------------------------------------------------------------------------------------------------------------------------------------------------------------------------------------------------------------------------------------------------------------------------------------------------------------------------------------------------------------------------------------------------------------------------------------------------------------------------------------------------------------------------------------------------------------------------------------------------------------------------------------------------------------------------------------------------------------------------------------------------------------------------------------------------------------------------------------------------------------------------------------------------------------------------------------------------------------------------------------------------------------------------------------------------------------------------------------+\n",
      "|https://www.blizzard.com|[{ListItem, Más informaciónComprar ahora, {pageNumber -> 1}}, {ListItem, Más información, {pageNumber -> 1}}, {ListItem, Comprar pase de batallaMás información, {pageNumber -> 1}}, {ListItem, Jugar gratis yaMás información, {pageNumber -> 1}}, {ListItem, Más informaciónComprar ahora, {pageNumber -> 1}}, {Title, Juegos destacados, {pageNumber -> 1}}, {Title, World of Warcraft: Mists of Pandaria Classic, {pageNumber -> 1}}, {NarrativeText, MMORPG, {pageNumber -> 1}}, {Title, World of Warcraft: Mists of Pandaria Classic, {pageNumber -> 1}}, {NarrativeText, MMORPG, {pageNumber -> 1}}, {Title, Warcraft I: Remastered, {pageNumber -> 1}}, {NarrativeText, Estrategia en tiempo real, {pageNumber -> 1}}, {Title, Warcraft I: Remastered, {pageNumber -> 1}}, {NarrativeText, Estrategia en tiempo real, {pageNumber -> 1}}, {Title, Warcraft II: Remastered, {pageNumber -> 1}}, {NarrativeText, Estrategia en tiempo real, {pageNumber -> 1}}, {Title, Warcraft II: Remastered, {pageNumber -> 1}}, {NarrativeText, Estrategia en tiempo real, {pageNumber -> 1}}, {Title, Warcraft III: Reforged, {pageNumber -> 1}}, {NarrativeText, Estrategia en tiempo real, {pageNumber -> 1}}, {Title, Warcraft III: Reforged, {pageNumber -> 1}}, {NarrativeText, Estrategia en tiempo real, {pageNumber -> 1}}, {Title, Diablo IV: Vessel of Hatred, {pageNumber -> 1}}, {NarrativeText, Rol y acción, {pageNumber -> 1}}, {Title, Diablo IV: Vessel of Hatred, {pageNumber -> 1}}, {NarrativeText, Rol y acción, {pageNumber -> 1}}, {Title, World of Warcraft: The War Within, {pageNumber -> 1}}, {NarrativeText, MMORPG, {pageNumber -> 1}}, {Title, World of Warcraft: The War Within, {pageNumber -> 1}}, {NarrativeText, MMORPG, {pageNumber -> 1}}, {Title, Warcraft Rumble, {pageNumber -> 1}}, {NarrativeText, Acción estratégica para móviles, {pageNumber -> 1}}, {Title, Warcraft Rumble, {pageNumber -> 1}}, {NarrativeText, Acción estratégica para móviles, {pageNumber -> 1}}, {Title, World of Warcraft, {pageNumber -> 1}}, {NarrativeText, MMORPG, {pageNumber -> 1}}, {Title, World of Warcraft, {pageNumber -> 1}}, {NarrativeText, MMORPG, {pageNumber -> 1}}, {Title, Overwatch 2, {pageNumber -> 1}}, {NarrativeText, Acción por equipos, {pageNumber -> 1}}, {Title, Overwatch 2, {pageNumber -> 1}}, {NarrativeText, Acción por equipos, {pageNumber -> 1}}, {Title, Hearthstone, {pageNumber -> 1}}, {NarrativeText, Juego de cartas de estrategia, {pageNumber -> 1}}, {Title, Hearthstone, {pageNumber -> 1}}, {NarrativeText, Juego de cartas de estrategia, {pageNumber -> 1}}, {ListItem, World of Warcraft: Mists of Pandaria Classic MMORPG World of Warcraft: Mists of Pandaria Classic MMORPG Warcraft II: Remastered Estrategia en tiempo real Warcraft II: Remastered Estrategia en tiempo real, {pageNumber -> 1}}, {ListItem, Warcraft I: Remastered Estrategia en tiempo real Warcraft I: Remastered Estrategia en tiempo real Warcraft III: Reforged Estrategia en tiempo real Warcraft III: Reforged Estrategia en tiempo real, {pageNumber -> 1}}, {ListItem, Diablo IV: Vessel of Hatred Rol y acción Diablo IV: Vessel of Hatred Rol y acción Warcraft Rumble Acción estratégica para móviles Warcraft Rumble Acción estratégica para móviles, {pageNumber -> 1}}, {ListItem, World of Warcraft: The War Within MMORPG World of Warcraft: The War Within MMORPG World of Warcraft MMORPG World of Warcraft MMORPG, {pageNumber -> 1}}, {ListItem, Overwatch 2 Acción por equipos Overwatch 2 Acción por equipos Hearthstone Juego de cartas de estrategia Hearthstone Juego de cartas de estrategia, {pageNumber -> 1}}, {Title, World of Warcraft: Mists of Pandaria Classic, {pageNumber -> 1}}, {NarrativeText, MMORPG, {pageNumber -> 1}}, {Title, World of Warcraft: Mists of Pandaria Classic, {pageNumber -> 1}}, {NarrativeText, MMORPG, {pageNumber -> 1}}, {Title, Warcraft I: Remastered, {pageNumber -> 1}}, {NarrativeText, Estrategia en tiempo real, {pageNumber -> 1}}, {Title, Warcraft I: Remastered, {pageNumber -> 1}}, {NarrativeText, Estrategia en tiempo real, {pageNumber -> 1}}, {Title, Warcraft II: Remastered, {pageNumber -> 1}}, {NarrativeText, Estrategia en tiempo real, {pageNumber -> 1}}, {Title, Warcraft II: Remastered, {pageNumber -> 1}}, {NarrativeText, Estrategia en tiempo real, {pageNumber -> 1}}, {Title, Warcraft III: Reforged, {pageNumber -> 1}}, {NarrativeText, Estrategia en tiempo real, {pageNumber -> 1}}, {Title, Warcraft III: Reforged, {pageNumber -> 1}}, {NarrativeText, Estrategia en tiempo real, {pageNumber -> 1}}, {Title, Diablo IV: Vessel of Hatred, {pageNumber -> 1}}, {NarrativeText, Rol y acción, {pageNumber -> 1}}, {Title, Diablo IV: Vessel of Hatred, {pageNumber -> 1}}, {NarrativeText, Rol y acción, {pageNumber -> 1}}, {Title, World of Warcraft: The War Within, {pageNumber -> 1}}, {NarrativeText, MMORPG, {pageNumber -> 1}}, {Title, World of Warcraft: The War Within, {pageNumber -> 1}}, {NarrativeText, MMORPG, {pageNumber -> 1}}, {Title, Diablo IV, {pageNumber -> 1}}, {NarrativeText, Rol y acción, {pageNumber -> 1}}, {Title, Diablo IV, {pageNumber -> 1}}, {NarrativeText, Rol y acción, {pageNumber -> 1}}, {Title, Warcraft Rumble, {pageNumber -> 1}}, {NarrativeText, Acción estratégica para móviles, {pageNumber -> 1}}, {Title, Warcraft Rumble, {pageNumber -> 1}}, {NarrativeText, Acción estratégica para móviles, {pageNumber -> 1}}, {Title, World of Warcraft, {pageNumber -> 1}}, {NarrativeText, MMORPG, {pageNumber -> 1}}, {Title, World of Warcraft, {pageNumber -> 1}}, {NarrativeText, MMORPG, {pageNumber -> 1}}, {Title, Overwatch 2, {pageNumber -> 1}}, {NarrativeText, Acción por equipos, {pageNumber -> 1}}, {Title, Overwatch 2, {pageNumber -> 1}}, {NarrativeText, Acción por equipos, {pageNumber -> 1}}, {ListItem, World of Warcraft: Mists of Pandaria Classic MMORPG World of Warcraft: Mists of Pandaria Classic MMORPG Warcraft II: Remastered Estrategia en tiempo real Warcraft II: Remastered Estrategia en tiempo real, {pageNumber -> 1}}, {ListItem, Warcraft I: Remastered Estrategia en tiempo real Warcraft I: Remastered Estrategia en tiempo real Warcraft III: Reforged Estrategia en tiempo real Warcraft III: Reforged Estrategia en tiempo real, {pageNumber -> 1}}, {ListItem, Diablo IV: Vessel of Hatred Rol y acción Diablo IV: Vessel of Hatred Rol y acción Diablo IV Rol y acción Diablo IV Rol y acción, {pageNumber -> 1}}, {ListItem, World of Warcraft: The War Within MMORPG World of Warcraft: The War Within MMORPG Warcraft Rumble Acción estratégica para móviles Warcraft Rumble Acción estratégica para móviles, {pageNumber -> 1}}, {ListItem, World of Warcraft MMORPG World of Warcraft MMORPG Overwatch 2 Acción por equipos Overwatch 2 Acción por equipos, {pageNumber -> 1}}, {Title, Diablo IV: Vessel of Hatred, {pageNumber -> 1}}, {NarrativeText, Rol y acción, {pageNumber -> 1}}, {Title, Diablo IV: Vessel of Hatred, {pageNumber -> 1}}, {NarrativeText, Rol y acción, {pageNumber -> 1}}, {Title, Diablo IV, {pageNumber -> 1}}, {NarrativeText, Rol y acción, {pageNumber -> 1}}, {Title, Diablo IV, {pageNumber -> 1}}, {NarrativeText, Rol y acción, {pageNumber -> 1}}, {Title, Overwatch 2, {pageNumber -> 1}}, {NarrativeText, Acción por equipos, {pageNumber -> 1}}, {Title, Overwatch 2, {pageNumber -> 1}}, {NarrativeText, Acción por equipos, {pageNumber -> 1}}, {Title, Diablo II: Resurrected, {pageNumber -> 1}}, {NarrativeText, Rol y acción, {pageNumber -> 1}}, {Title, Diablo II: Resurrected, {pageNumber -> 1}}, {NarrativeText, Rol y acción, {pageNumber -> 1}}, {ListItem, Diablo IV: Vessel of Hatred Rol y acción Diablo IV: Vessel of Hatred Rol y acción, {pageNumber -> 1}}, {ListItem, Diablo IV Rol y acción Diablo IV Rol y acción, {pageNumber -> 1}}, {ListItem, Overwatch 2 Acción por equipos Overwatch 2 Acción por equipos, {pageNumber -> 1}}, {ListItem, Diablo II: Resurrected Rol y acción Diablo II: Resurrected Rol y acción, {pageNumber -> 1}}, {Title, Warcraft Rumble, {pageNumber -> 1}}, {NarrativeText, Acción estratégica para móviles, {pageNumber -> 1}}, {Title, Warcraft Rumble, {pageNumber -> 1}}, {NarrativeText, Acción estratégica para móviles, {pageNumber -> 1}}, {Title, Hearthstone, {pageNumber -> 1}}, {NarrativeText, Juego de cartas de estrategia, {pageNumber -> 1}}, {Title, Hearthstone, {pageNumber -> 1}}, {NarrativeText, Juego de cartas de estrategia, {pageNumber -> 1}}, {Title, Diablo immortal, {pageNumber -> 1}}, {NarrativeText, Rol y acción, {pageNumber -> 1}}, {Title, Diablo immortal, {pageNumber -> 1}}, {NarrativeText, Rol y acción, {pageNumber -> 1}}, {ListItem, Warcraft Rumble Acción estratégica para móviles Warcraft Rumble Acción estratégica para móviles, {pageNumber -> 1}}, {ListItem, Hearthstone Juego de cartas de estrategia Hearthstone Juego de cartas de estrategia, {pageNumber -> 1}}, {ListItem, Diablo immortal Rol y acción Diablo immortal Rol y acción, {pageNumber -> 1}}]|\n",
      "+------------------------+-----------------------------------------------------------------------------------------------------------------------------------------------------------------------------------------------------------------------------------------------------------------------------------------------------------------------------------------------------------------------------------------------------------------------------------------------------------------------------------------------------------------------------------------------------------------------------------------------------------------------------------------------------------------------------------------------------------------------------------------------------------------------------------------------------------------------------------------------------------------------------------------------------------------------------------------------------------------------------------------------------------------------------------------------------------------------------------------------------------------------------------------------------------------------------------------------------------------------------------------------------------------------------------------------------------------------------------------------------------------------------------------------------------------------------------------------------------------------------------------------------------------------------------------------------------------------------------------------------------------------------------------------------------------------------------------------------------------------------------------------------------------------------------------------------------------------------------------------------------------------------------------------------------------------------------------------------------------------------------------------------------------------------------------------------------------------------------------------------------------------------------------------------------------------------------------------------------------------------------------------------------------------------------------------------------------------------------------------------------------------------------------------------------------------------------------------------------------------------------------------------------------------------------------------------------------------------------------------------------------------------------------------------------------------------------------------------------------------------------------------------------------------------------------------------------------------------------------------------------------------------------------------------------------------------------------------------------------------------------------------------------------------------------------------------------------------------------------------------------------------------------------------------------------------------------------------------------------------------------------------------------------------------------------------------------------------------------------------------------------------------------------------------------------------------------------------------------------------------------------------------------------------------------------------------------------------------------------------------------------------------------------------------------------------------------------------------------------------------------------------------------------------------------------------------------------------------------------------------------------------------------------------------------------------------------------------------------------------------------------------------------------------------------------------------------------------------------------------------------------------------------------------------------------------------------------------------------------------------------------------------------------------------------------------------------------------------------------------------------------------------------------------------------------------------------------------------------------------------------------------------------------------------------------------------------------------------------------------------------------------------------------------------------------------------------------------------------------------------------------------------------------------------------------------------------------------------------------------------------------------------------------------------------------------------------------------------------------------------------------------------------------------------------------------------------------------------------------------------------------------------------------------------------------------------------------------------------------------------------------------------------------------------------------------------------------------------------------------------------------------------------------------------------------------------------------------------------------------------------------------------------------------------------------------------------------------------------------------------------------------------------------------------------------------------------------------------------------------------------------------------------------------------------------------------------------------------------------------------------------------------------------------------------------------------------------------------------------------------------------------------------------------------------------------------------------------------------------------------------------------------------------------------------------------------------------------------------------------------------------------------------------------------------------------------------------------------------------------------------------------------------------------------------------------------------------------------------------------------------------------------------------------------------------------------------------------------------------------------------------------------------------------------------------------------------------------------------------------------------------------------------------------------------------------------------------------------------------------------------------------------------------------------------------------------------------------------------------------------------------------------------------------------------------------------------------------------------------------------------------------------------------------------------------------------------------------------------------------------------------------------------------------------------------------------------------------------------------------------------------------------------------------------------------------------------------------------------------------------------------------------------------------------------------------------------------------------------------------------------------------------------------------------------------------------------------------------------------------------------------------------------------------------------------------------------------------------------------------------------------------------------------------------------------------------------------------------------------------------------------------------------------------------------------------------------------------------------------------------------------------------------------------------------------------------------------------------------------------------------------------------------------------------------------------------------------------------------------------------------------------------------------------------------------------------------------------------------------------------------------------------------------------------------------------------------------------------------------------------------------------------------------------------------------------------------------------------------------------------------------------------------------------------------------------------------------------------------------------------------------------------------------------------------------------------------------------------------------------------------------------------------------------------------------------------------------------------------------------------------------------------------------------------------------------+\n",
      "\n"
     ]
    }
   ],
   "source": [
    "partition_df = Partition(content_type = \"text/html\").partition(\"https://www.blizzard.com\", headers = {\"Accept-Language\": \"es-ES\"})\n",
    "partition_df.show(truncate=False)"
   ]
  },
  {
   "cell_type": "markdown",
   "metadata": {
    "id": "uMyqJX-K7dss"
   },
   "source": [
    "## Partitioning MS Office documents"
   ]
  },
  {
   "cell_type": "markdown",
   "metadata": {
    "id": "_9dDTCrpGdoN"
   },
   "source": [
    "For Excel documents, use `includePageBreaks` to preserve structural information like page boundaries, which are inserted as HTML tables in the output."
   ]
  },
  {
   "cell_type": "code",
   "execution_count": null,
   "metadata": {
    "colab": {
     "base_uri": "https://localhost:8080/"
    },
    "id": "7ICTZmLGk3Sa",
    "outputId": "562509f5-4b5f-4855-bcdd-fb945cf9e595"
   },
   "outputs": [
    {
     "name": "stdout",
     "output_type": "stream",
     "text": [
      "Warning::Spark Session already created, some configs may not take.\n",
      "+-----------------------------------------------+--------------------------------------------------------------------------------------------------------------------------------------------------------------------------------------------------------------------------------------------------------------------------------------------------------------------------------------------------------------------------------------------------------------------------------------------------------------------------------------------------------------------------------------------------------------------------------------------------------------------------------------------------------------------------------------------------------------------------------------------------------------------------------------------------------------------------------------------------------------------------------------------------------------------------------------------------------------------------------------------------------------------------------------------------------------------------------------------------------------------------+\n",
      "|path                                           |xls                                                                                                                                                                                                                                                                                                                                                                                                                                                                                                                                                                                                                                                                                                                                                                                                                                                                                                                                                                                                                                                                                                                       |\n",
      "+-----------------------------------------------+--------------------------------------------------------------------------------------------------------------------------------------------------------------------------------------------------------------------------------------------------------------------------------------------------------------------------------------------------------------------------------------------------------------------------------------------------------------------------------------------------------------------------------------------------------------------------------------------------------------------------------------------------------------------------------------------------------------------------------------------------------------------------------------------------------------------------------------------------------------------------------------------------------------------------------------------------------------------------------------------------------------------------------------------------------------------------------------------------------------------------+\n",
      "|file:/content/excel-files/PageBreakExample.xlsx|[{Title, Date\\tFri Jul 19 00:00:00 UTC 2024, {location -> (0, 1), SheetName -> Sheet1, pageBreak -> 1}}, {Title, Assets, {location -> (1, 1), SheetName -> Sheet1, pageBreak -> 1}}, {Title, Debts, {location -> (1, 4), SheetName -> Sheet1, pageBreak -> 2}}, {NarrativeText, Bank1\\t5865.43, {location -> (2, 1), SheetName -> Sheet1, pageBreak -> 1}}, {NarrativeText, Credit Card1\\t2000.0, {location -> (2, 5), SheetName -> Sheet1, pageBreak -> 2}}, {NarrativeText, Bank2\\t10140.19, {location -> (3, 1), SheetName -> Sheet1, pageBreak -> 1}}, {NarrativeText, Credit Card2\\t1500.0, {location -> (3, 5), SheetName -> Sheet1, pageBreak -> 2}}, {NarrativeText, Bank3\\t1200.0, {location -> (4, 1), SheetName -> Sheet1, pageBreak -> 1}}, {NarrativeText, Credit Card3\\t348.0, {location -> (4, 5), SheetName -> Sheet1, pageBreak -> 2}}, {Title, Bank4\\t1438.27, {location -> (5, 1), SheetName -> Sheet1, pageBreak -> 1}}, {Title, Total\\tSUM(F3:F5), {location -> (5, 5), SheetName -> Sheet1, pageBreak -> 2}}, {Title, Total\\tSUM(B3:B6), {location -> (6, 1), SheetName -> Sheet1, pageBreak -> 1}}]|\n",
      "+-----------------------------------------------+--------------------------------------------------------------------------------------------------------------------------------------------------------------------------------------------------------------------------------------------------------------------------------------------------------------------------------------------------------------------------------------------------------------------------------------------------------------------------------------------------------------------------------------------------------------------------------------------------------------------------------------------------------------------------------------------------------------------------------------------------------------------------------------------------------------------------------------------------------------------------------------------------------------------------------------------------------------------------------------------------------------------------------------------------------------------------------------------------------------------------+\n",
      "\n"
     ]
    }
   ],
   "source": [
    "partition_df = Partition(content_type = \"application/vnd.ms-excel\", include_page_breaks = True).partition(\"./excel-files/PageBreakExample.xlsx\")\n",
    "partition_df.show(truncate=False)"
   ]
  },
  {
   "cell_type": "code",
   "execution_count": null,
   "metadata": {
    "colab": {
     "base_uri": "https://localhost:8080/"
    },
    "id": "YId4UG1rOVQq",
    "outputId": "627fb07b-1e63-4fe9-c92e-becb31cc3f8b"
   },
   "outputs": [
    {
     "name": "stdout",
     "output_type": "stream",
     "text": [
      "Warning::Spark Session already created, some configs may not take.\n",
      "+-----------------------------------------------+--------------------------------------------------------------------------------------------------------------------------------------------------------------------------------------------------------------------------------------------------------------------------------------------------------------------------------------------------------------------------------------------------------------------------------------------------------------------------------------------------------------------------------------------------------------------------------------------------------------------------------------------------------------------------------------------------------------------------------------------------------------------------------------------------------------------------------------------------------------------------------------------------------------------------------------------------------------------------------------------------------------------------------------------------------------------------------------------------------------------------+\n",
      "|path                                           |xls                                                                                                                                                                                                                                                                                                                                                                                                                                                                                                                                                                                                                                                                                                                                                                                                                                                                                                                                                                                                                                                                                                                       |\n",
      "+-----------------------------------------------+--------------------------------------------------------------------------------------------------------------------------------------------------------------------------------------------------------------------------------------------------------------------------------------------------------------------------------------------------------------------------------------------------------------------------------------------------------------------------------------------------------------------------------------------------------------------------------------------------------------------------------------------------------------------------------------------------------------------------------------------------------------------------------------------------------------------------------------------------------------------------------------------------------------------------------------------------------------------------------------------------------------------------------------------------------------------------------------------------------------------------+\n",
      "|file:/content/excel-files/PageBreakExample.xlsx|[{Title, Date\\tFri Jul 19 00:00:00 UTC 2024, {location -> (0, 1), SheetName -> Sheet1, pageBreak -> 1}}, {Title, Assets, {location -> (1, 1), SheetName -> Sheet1, pageBreak -> 1}}, {Title, Debts, {location -> (1, 4), SheetName -> Sheet1, pageBreak -> 2}}, {NarrativeText, Bank1\\t5865.43, {location -> (2, 1), SheetName -> Sheet1, pageBreak -> 1}}, {NarrativeText, Credit Card1\\t2000.0, {location -> (2, 5), SheetName -> Sheet1, pageBreak -> 2}}, {NarrativeText, Bank2\\t10140.19, {location -> (3, 1), SheetName -> Sheet1, pageBreak -> 1}}, {NarrativeText, Credit Card2\\t1500.0, {location -> (3, 5), SheetName -> Sheet1, pageBreak -> 2}}, {NarrativeText, Bank3\\t1200.0, {location -> (4, 1), SheetName -> Sheet1, pageBreak -> 1}}, {NarrativeText, Credit Card3\\t348.0, {location -> (4, 5), SheetName -> Sheet1, pageBreak -> 2}}, {Title, Bank4\\t1438.27, {location -> (5, 1), SheetName -> Sheet1, pageBreak -> 1}}, {Title, Total\\tSUM(F3:F5), {location -> (5, 5), SheetName -> Sheet1, pageBreak -> 2}}, {Title, Total\\tSUM(B3:B6), {location -> (6, 1), SheetName -> Sheet1, pageBreak -> 1}}]|\n",
      "+-----------------------------------------------+--------------------------------------------------------------------------------------------------------------------------------------------------------------------------------------------------------------------------------------------------------------------------------------------------------------------------------------------------------------------------------------------------------------------------------------------------------------------------------------------------------------------------------------------------------------------------------------------------------------------------------------------------------------------------------------------------------------------------------------------------------------------------------------------------------------------------------------------------------------------------------------------------------------------------------------------------------------------------------------------------------------------------------------------------------------------------------------------------------------------------+\n",
      "\n"
     ]
    }
   ],
   "source": [
    "partition_df = Partition(content_type = \"application/vnd.ms-excel\", includePageBreaks = True).partition(\"./excel-files/PageBreakExample.xlsx\")\n",
    "partition_df.show(truncate=False)"
   ]
  },
  {
   "cell_type": "markdown",
   "metadata": {
    "id": "E8ockED4NxLi"
   },
   "source": [
    "For PowerPoint files, the `include_slide_notes` flag ensures that speaker notes from each slide are extracted and included in the output."
   ]
  },
  {
   "cell_type": "code",
   "execution_count": null,
   "metadata": {
    "colab": {
     "base_uri": "https://localhost:8080/"
    },
    "id": "fPCpk7RTGRjo",
    "outputId": "865af42c-d12c-4e29-a778-69928e493551"
   },
   "outputs": [
    {
     "name": "stdout",
     "output_type": "stream",
     "text": [
      "Warning::Spark Session already created, some configs may not take.\n",
      "+------------------------------------------+-------------------------------------------------------------------------------------------------------------------------------------------------------------------------------------------------------------------------------------------------------------------------------------------------------------------------+\n",
      "|path                                      |ppt                                                                                                                                                                                                                                                                                                                      |\n",
      "+------------------------------------------+-------------------------------------------------------------------------------------------------------------------------------------------------------------------------------------------------------------------------------------------------------------------------------------------------------------------------+\n",
      "|file:/content/ppt-files/speaker-notes.pptx|[{Title, Adding a Bullet Slide, {}}, {ListItem, • Find the bullet slide layout, {}}, {ListItem, – Use _TextFrame.text for first bullet, {}}, {ListItem, • Use _TextFrame.add_paragraph() for subsequent bullets, {}}, {NarrativeText, Here is a lot of text!, {}}, {NarrativeText, Here is some text in a text box!, {}}]|\n",
      "+------------------------------------------+-------------------------------------------------------------------------------------------------------------------------------------------------------------------------------------------------------------------------------------------------------------------------------------------------------------------------+\n",
      "\n"
     ]
    }
   ],
   "source": [
    "partition_df = Partition(include_slide_notes = True).partition(\"./ppt-files/speaker-notes.pptx\")\n",
    "partition_df.show(truncate=False)"
   ]
  },
  {
   "cell_type": "markdown",
   "metadata": {
    "id": "qRfRSGvhN303"
   },
   "source": [
    "In Excel files, enabling `infer_table_structure` allows Partition to generate an HTML representation of table structures, useful for downstream parsing or display."
   ]
  },
  {
   "cell_type": "code",
   "execution_count": null,
   "metadata": {
    "colab": {
     "base_uri": "https://localhost:8080/"
    },
    "id": "twLdjGxZWiOJ",
    "outputId": "f3374a39-2afc-429e-d567-f547f960f012"
   },
   "outputs": [
    {
     "name": "stdout",
     "output_type": "stream",
     "text": [
      "Warning::Spark Session already created, some configs may not take.\n",
      "+-----------------------------------------------------------------------------------------------------------------------------------------------------------------------------------------------------------------------------------------------------------------------------------------------------------------------------------------------------------------------------------------------------------------------------------------------------------------------------------------------------------------------------------------------------------------------------------------------------------------------------------------------------------------------------------------------------------------------------------------------------------------------------------------------------------------------------------------------------------------------------------------------------------------------------------------------------------------------------------------------------------------------------------------------------------------------------------------------------------------------------------+\n",
      "|xls                                                                                                                                                                                                                                                                                                                                                                                                                                                                                                                                                                                                                                                                                                                                                                                                                                                                                                                                                                                                                                                                                                                                |\n",
      "+-----------------------------------------------------------------------------------------------------------------------------------------------------------------------------------------------------------------------------------------------------------------------------------------------------------------------------------------------------------------------------------------------------------------------------------------------------------------------------------------------------------------------------------------------------------------------------------------------------------------------------------------------------------------------------------------------------------------------------------------------------------------------------------------------------------------------------------------------------------------------------------------------------------------------------------------------------------------------------------------------------------------------------------------------------------------------------------------------------------------------------------+\n",
      "|[{Title, Date\\tFri Jul 19 00:00:00 UTC 2024, {location -> (0, 1), SheetName -> Sheet1}}, {Title, Assets\\t\\tDebts, {location -> (1, 4), SheetName -> Sheet1}}, {NarrativeText, Bank1\\t5865.43\\tCredit Card1\\t2000.0, {location -> (2, 5), SheetName -> Sheet1}}, {NarrativeText, Bank2\\t10140.19\\tCredit Card2\\t1500.0, {location -> (3, 5), SheetName -> Sheet1}}, {NarrativeText, Bank3\\t1200.0\\tCredit Card3\\t348.0, {location -> (4, 5), SheetName -> Sheet1}}, {Title, Bank4\\t1438.27\\tTotal\\tSUM(F3:F5), {location -> (5, 5), SheetName -> Sheet1}}, {Title, Total\\tSUM(B3:B6), {location -> (6, 1), SheetName -> Sheet1}}, {HTML, <table><tr><td>Date</td><td>Fri Jul 19 00:00:00 UTC 2024</td></tr><tr><td>Assets</td><td>Debts</td></tr><tr><td>Bank1</td><td>5865.43</td><td>Credit Card1</td><td>2000.0</td></tr><tr><td>Bank2</td><td>10140.19</td><td>Credit Card2</td><td>1500.0</td></tr><tr><td>Bank3</td><td>1200.0</td><td>Credit Card3</td><td>348.0</td></tr><tr><td>Bank4</td><td>1438.27</td><td>Total</td><td>SUM(F3:F5)</td></tr><tr><td>Total</td><td>SUM(B3:B6)</td></tr></table>, {SheetName -> Sheet1}}]|\n",
      "+-----------------------------------------------------------------------------------------------------------------------------------------------------------------------------------------------------------------------------------------------------------------------------------------------------------------------------------------------------------------------------------------------------------------------------------------------------------------------------------------------------------------------------------------------------------------------------------------------------------------------------------------------------------------------------------------------------------------------------------------------------------------------------------------------------------------------------------------------------------------------------------------------------------------------------------------------------------------------------------------------------------------------------------------------------------------------------------------------------------------------------------+\n",
      "\n"
     ]
    }
   ],
   "source": [
    "partition_df = Partition(infer_table_structure = True).partition(\"./excel-files/page-break-example.xlsx\")\n",
    "partition_df.select(\"xls\").show(truncate=False)"
   ]
  },
  {
   "cell_type": "markdown",
   "metadata": {
    "id": "8txswwbjN8Mg"
   },
   "source": [
    "With Excel inputs, set `append_cells` to concatenate all cell values in a row into a single string instead of separating each cell individually."
   ]
  },
  {
   "cell_type": "code",
   "execution_count": null,
   "metadata": {
    "colab": {
     "base_uri": "https://localhost:8080/"
    },
    "id": "PQ4MpGw6xCko",
    "outputId": "d79ab253-27a7-4d6d-81d4-9065deafc360"
   },
   "outputs": [
    {
     "name": "stdout",
     "output_type": "stream",
     "text": [
      "Warning::Spark Session already created, some configs may not take.\n",
      "+---------------------------------------------------------------------------------------------------------------------------------------------------------------------------------------------------------------------------------------------------------+\n",
      "|xls                                                                                                                                                                                                                                                      |\n",
      "+---------------------------------------------------------------------------------------------------------------------------------------------------------------------------------------------------------------------------------------------------------+\n",
      "|[{NarrativeText, a\\tb\\nc\\td\\te\\n- f\\na\\nb\\tc\\nd\\te\\na\\nb\\nc\\td\\ne\\tf\\na\\tb\\nc\\td\\n2. e\\na\\tb\\nc\\td\\ne\\nf\\na\\nb\\tc\\nd\\te\\nf\\na\\nb\\nc\\td\\ne\\tf\\ng\\na\\nb\\tc\\nd\\te\\nf\\ng\\na\\nb\\nc\\td\\ne\\tf\\ng\\nh\\na\\tb\\tc\\na\\nb\\tc\\td\\na\\tb\\tc\\nd\\ne, {SheetName -> Sheet1}}]|\n",
      "+---------------------------------------------------------------------------------------------------------------------------------------------------------------------------------------------------------------------------------------------------------+\n",
      "\n"
     ]
    }
   ],
   "source": [
    "partition_df = Partition(append_cells = True).partition(\"./excel-files/xlsx-subtable-cases.xlsx\")\n",
    "partition_df.select(\"xls\").show(truncate=False)"
   ]
  },
  {
   "cell_type": "markdown",
   "metadata": {
    "id": "_GyL6D4N75i-"
   },
   "source": [
    "## Partitioning Text Files"
   ]
  },
  {
   "cell_type": "markdown",
   "metadata": {
    "id": "jpRmFNPNNqkf"
   },
   "source": [
    "When parsing plain text files, `group_broken_paragraphs` can be enabled to intelligently merge broken paragraphs by interpreting blank lines as true paragraph breaks."
   ]
  },
  {
   "cell_type": "code",
   "execution_count": null,
   "metadata": {
    "id": "HwnYBQ5l7rDM"
   },
   "outputs": [],
   "source": [
    "text = (\n",
    "            \"The big brown fox\\n\"\n",
    "            \"was walking down the lane.\\n\"\n",
    "            \"\\n\"\n",
    "            \"At the end of the lane,\\n\"\n",
    "            \"the fox met a bear.\"\n",
    "        )"
   ]
  },
  {
   "cell_type": "code",
   "execution_count": null,
   "metadata": {
    "colab": {
     "base_uri": "https://localhost:8080/"
    },
    "id": "mutwZUFj720X",
    "outputId": "798d4f52-328b-4699-ff6e-37eea8599253"
   },
   "outputs": [
    {
     "name": "stdout",
     "output_type": "stream",
     "text": [
      "Warning::Spark Session already created, some configs may not take.\n",
      "+-----------------------------------------------------------------------------------------------------------------------------------------------------------------+\n",
      "|txt                                                                                                                                                              |\n",
      "+-----------------------------------------------------------------------------------------------------------------------------------------------------------------+\n",
      "|[{NarrativeText, The big brown fox was walking down the lane., {paragraph -> 0}}, {NarrativeText, At the end of the lane, the fox met a bear., {paragraph -> 0}}]|\n",
      "+-----------------------------------------------------------------------------------------------------------------------------------------------------------------+\n",
      "\n"
     ]
    }
   ],
   "source": [
    "text_df = Partition(group_broken_paragraphs=True).partition_text(text = text)\n",
    "text_df.show(truncate=False)"
   ]
  },
  {
   "cell_type": "markdown",
   "metadata": {
    "id": "epCp5DnQ8E7o"
   },
   "source": [
    "## Partitioning XML Files"
   ]
  },
  {
   "cell_type": "markdown",
   "metadata": {
    "id": "DWX0nkc4tM7J"
   },
   "source": [
    "In Spark NLP 6.0.3 we added support for XML files"
   ]
  },
  {
   "cell_type": "code",
   "execution_count": null,
   "metadata": {
    "colab": {
     "base_uri": "https://localhost:8080/"
    },
    "id": "AViMSzKQtP-o",
    "outputId": "0e80ee3c-6db1-4419-c3d4-14e7a4355af0"
   },
   "outputs": [
    {
     "name": "stdout",
     "output_type": "stream",
     "text": [
      "Warning::Spark Session already created, some configs may not take.\n",
      "+-----------------------------------------------------------------------------------------------------------------------------------------------------------------------------------------------------------------------------------------------------------------------------------------------------------------------------------------------------------------------------------------------------------------------------------------------------------------------------------------------------------------------------------------------------------------------------------------------------------------------------------------------------------------------------------------------------------------------------------------------------------------------------------------------------------------------------------------------+\n",
      "|xml                                                                                                                                                                                                                                                                                                                                                                                                                                                                                                                                                                                                                                                                                                                                                                                                                                            |\n",
      "+-----------------------------------------------------------------------------------------------------------------------------------------------------------------------------------------------------------------------------------------------------------------------------------------------------------------------------------------------------------------------------------------------------------------------------------------------------------------------------------------------------------------------------------------------------------------------------------------------------------------------------------------------------------------------------------------------------------------------------------------------------------------------------------------------------------------------------------------------+\n",
      "|[{Title, The Alchemist, {elementId -> 3f0b15f67f42de56d13e76244399ff1b, parentId -> 14b03a92e8c7cf57ee62bfcdeadb1e6a, tag -> title}}, {Title, Paulo Coelho, {elementId -> c36286e42e975f08e839ed574509626c, parentId -> 14b03a92e8c7cf57ee62bfcdeadb1e6a, tag -> author}}, {UncategorizedText, 1988, {elementId -> 2337fd4aef45764877639e9363feacd7, parentId -> 14b03a92e8c7cf57ee62bfcdeadb1e6a, tag -> year}}, {Title, A Brief History of Time, {elementId -> 1aa35512b27fd41a8f8f9cf58c10f46e, parentId -> 9708b29025b53d9f54c723ee005b647b, tag -> title}}, {Title, Stephen Hawking, {elementId -> 7877d555703011ffc6f0b9abbf1f8355, parentId -> 9708b29025b53d9f54c723ee005b647b, tag -> author}}, {UncategorizedText, 1988, {elementId -> 2337fd4aef45764877639e9363feacd7, parentId -> 9708b29025b53d9f54c723ee005b647b, tag -> year}}]|\n",
      "+-----------------------------------------------------------------------------------------------------------------------------------------------------------------------------------------------------------------------------------------------------------------------------------------------------------------------------------------------------------------------------------------------------------------------------------------------------------------------------------------------------------------------------------------------------------------------------------------------------------------------------------------------------------------------------------------------------------------------------------------------------------------------------------------------------------------------------------------------+\n",
      "\n"
     ]
    }
   ],
   "source": [
    "partition_df = Partition(xml_keep_tags = True).partition(\"./xml-files/multi-level.xml\")\n",
    "partition_df.select(\"xml\").show(truncate=False)"
   ]
  },
  {
   "cell_type": "markdown",
   "metadata": {
    "id": "8qB4uXOFiqO0"
   },
   "source": [
    "## Partitioning Mardown Files"
   ]
  },
  {
   "cell_type": "code",
   "execution_count": null,
   "metadata": {
    "colab": {
     "base_uri": "https://localhost:8080/"
    },
    "id": "J4OpCThUiriY",
    "outputId": "ce54ea29-fc49-43e6-9888-3de1a485196d"
   },
   "outputs": [
    {
     "name": "stdout",
     "output_type": "stream",
     "text": [
      "--2025-07-08 21:23:35--  https://raw.githubusercontent.com/JohnSnowLabs/spark-nlp/feature/SPARKNLP-1213-Adding-MarkdownReader/src/test/resources/reader/md/simple.md\n",
      "Resolving raw.githubusercontent.com (raw.githubusercontent.com)... 185.199.108.133, 185.199.111.133, 185.199.110.133, ...\n",
      "Connecting to raw.githubusercontent.com (raw.githubusercontent.com)|185.199.108.133|:443... connected.\n",
      "HTTP request sent, awaiting response... 200 OK\n",
      "Length: 184 [text/plain]\n",
      "Saving to: ‘md-files/simple.md’\n",
      "\n",
      "\r",
      "simple.md             0%[                    ]       0  --.-KB/s               \r",
      "simple.md           100%[===================>]     184  --.-KB/s    in 0s      \n",
      "\n",
      "2025-07-08 21:23:35 (7.21 MB/s) - ‘md-files/simple.md’ saved [184/184]\n",
      "\n"
     ]
    }
   ],
   "source": [
    "!mkdir md-files\n",
    "!wget https://raw.githubusercontent.com/JohnSnowLabs/spark-nlp/master/src/test/resources/reader/md/simple.md -P md-files"
   ]
  },
  {
   "cell_type": "code",
   "execution_count": null,
   "metadata": {
    "colab": {
     "base_uri": "https://localhost:8080/"
    },
    "id": "S4M0i_Wti2KK",
    "outputId": "225fcd2f-e19c-4a32-cc22-f9a636759f49"
   },
   "outputs": [
    {
     "name": "stdout",
     "output_type": "stream",
     "text": [
      "Warning::Spark Session already created, some configs may not take.\n",
      "+------------------------------------------------------------------------------------------------------------------------------------------------------------------------------------------------------------------------------------------------------------------------------------------------------------------------------------------------------------------------------------------------------+\n",
      "|md                                                                                                                                                                                                                                                                                                                                                                                                    |\n",
      "+------------------------------------------------------------------------------------------------------------------------------------------------------------------------------------------------------------------------------------------------------------------------------------------------------------------------------------------------------------------------------------------------------+\n",
      "|[{Title, Introduction, {pageNumber -> 1}}, {NarrativeText, This is a basic Markdown file to test headers and paragraph parsing., {pageNumber -> 1}}, {Title, Features, {pageNumber -> 1}}, {ListItem, Simple headers, {pageNumber -> 1}}, {ListItem, Bullet points, {pageNumber -> 1}}, {ListItem, Paragraph text, {pageNumber -> 1}}, {UncategorizedText, val x = 42\\nprintln(x), {pageNumber -> 1}}]|\n",
      "+------------------------------------------------------------------------------------------------------------------------------------------------------------------------------------------------------------------------------------------------------------------------------------------------------------------------------------------------------------------------------------------------------+\n",
      "\n"
     ]
    }
   ],
   "source": [
    "partition_df = Partition().partition(\"./md-files/simple.md\")\n",
    "partition_df.select(\"md\").show(truncate=False)"
   ]
  },
  {
   "cell_type": "code",
   "execution_count": null,
   "metadata": {
    "colab": {
     "base_uri": "https://localhost:8080/"
    },
    "id": "ZjpuIEatz5yt",
    "outputId": "d383d317-a2cf-4364-e227-6767c19d598f"
   },
   "outputs": [
    {
     "name": "stdout",
     "output_type": "stream",
     "text": [
      "Warning::Spark Session already created, some configs may not take.\n",
      "+----------------------------------------------------------------------------------------------------------------------------------------------------------------------------------------------------------------------------------------------------------------------------------------------------------------------------------------------------------------------------------------------------------------------------------------------------------------------------------------------------------------------------------------------------------------------------------------------------------------------------------------------------------------------------------------------------------------------------------------------------------------------------------------------------------------------------------------------------------------------------------------------------------------------------------------------------------------------------------------------------------------------------------------------------------------------------------------------------------------------------------------------------------------------------------------------------------------------------------------------------------------------------------------------------------------------------------------------------------------------------------------------------------------------------------------------------------------------------------------------------------------------------------------------------------------------------------------------------------------------------------------------------------------------------------------------------------------------------------------------------------------------------------------------------------------------------------------------------------------------------------------------------------------------------------------------------------------------------------------------------------------------------------------------------------------------------------------------------------------------------------------------------------------------------------------------------------------------------------------------------------------------------------------------------------------------------------------------------------------------------------------------------------------------------------------------------------------------------------------------------------------------------------------------------------------------------------------------------------------------------------------------------------------------------------------------------------------------------------------------------------------------------------------------------------------+\n",
      "|md                                                                                                                                                                                                                                                                                                                                                                                                                                                                                                                                                                                                                                                                                                                                                                                                                                                                                                                                                                                                                                                                                                                                                                                                                                                                                                                                                                                                                                                                                                                                                                                                                                                                                                                                                                                                                                                                                                                                                                                                                                                                                                                                                                                                                                                                                                                                                                                                                                                                                                                                                                                                                                                                                                                                                                                                              |\n",
      "+----------------------------------------------------------------------------------------------------------------------------------------------------------------------------------------------------------------------------------------------------------------------------------------------------------------------------------------------------------------------------------------------------------------------------------------------------------------------------------------------------------------------------------------------------------------------------------------------------------------------------------------------------------------------------------------------------------------------------------------------------------------------------------------------------------------------------------------------------------------------------------------------------------------------------------------------------------------------------------------------------------------------------------------------------------------------------------------------------------------------------------------------------------------------------------------------------------------------------------------------------------------------------------------------------------------------------------------------------------------------------------------------------------------------------------------------------------------------------------------------------------------------------------------------------------------------------------------------------------------------------------------------------------------------------------------------------------------------------------------------------------------------------------------------------------------------------------------------------------------------------------------------------------------------------------------------------------------------------------------------------------------------------------------------------------------------------------------------------------------------------------------------------------------------------------------------------------------------------------------------------------------------------------------------------------------------------------------------------------------------------------------------------------------------------------------------------------------------------------------------------------------------------------------------------------------------------------------------------------------------------------------------------------------------------------------------------------------------------------------------------------------------------------------------------------------+\n",
      "|[{Title, GitHub Markdown Kitchen Sink, {pageNumber -> 1}}, {NarrativeText, A large collection of code samples which have been tested against GitHub's markdown parser... so you don't have to., {pageNumber -> 1}}, {ListItem, README.md (preview, raw) – this file, {pageNumber -> 1}}, {ListItem, TEST.md (preview, raw) — used to test the examples from this file, which are pre-generated, {pageNumber -> 1}}, {ListItem, Original Markdown Syntax from John Gruber, {pageNumber -> 1}}, {ListItem, GitHub-Flavored Markdown from GitHub, {pageNumber -> 1}}, {Title, Code Examples with Preview, {pageNumber -> 1}}, {Title, Block Elements, {pageNumber -> 1}}, {Table, Code Preview Paragraph This is a paragraph. This is a paragraph. Headers (Sextext-style) Header 1\\n======== Header 2\\n-------- Header 1 Header 2 Headers (Atx-style) # Header 1\\n## Header 2\\n### Header 3\\n#### Header 4\\n##### Header 5\\n###### Header 6 Header 1 Header 2 Header 3 Header 4 Header 5 Header 6 Headers (Atx-style closed) # Header 1 #\\n## Header 2 ##\\n### Header 3 ###\\n#### Header 4 ####\\n##### Header 5 #####\\n###### Header 6 ##### Header 1 Header 2 Header 3 Header 4 Header 5 Header 6 Blockquote > Lorem ipsum dolor sit amet [...] Lorem ipsum dolor sit amet, consectetuer adipiscing elit. Aliquam hendrerit mi posuere lectus. Vestibulum enim wisi, viverra nec, fringilla in, laoreet vitae, risus. Blockquote with nested elements > ## This is a header.\\n> 1. This is the first list item.\\n> 2. This is the second list item.\\n>\\n> Here's some example code:\\n>\\n>     Markdown.generate(); This is a header. This is the first list item. This is the second list item. Here's some example code: Markdown.generate(); List - Red\\n- Green\\n- Blue + Red\\n+ Green\\n+ Blue * Red\\n* Green\\n* Blue Red Green Blue Ordered List 1. Buy flour and salt\\n1. Mix together with water\\n1. Bake Buy flour and salt Mix together with water Bake Code Block Normal paragraph.\\n    Code Normal paragraph. Code Horizontal Rules * * * ---------------------------------------, {pageNumber -> 1}}, {Title, Inline Elements, {pageNumber -> 1}}, {Table, Code Preview Links This is [an example](http://example.com \"Example\") link. has no title attr. This link This is [an example] [id] reference-style link. [id]: http://example.com \"Optional Title\" This is link. an example has no title attr. This link This is reference-style link. an example Emphasis *single asterisks* single underscores double asterisks double underscores single asterisks single underscores double asterisks double underscores Code This paragraph has some `code` in it. This paragraph has some in it. code Image ![Alt Text](https://get.svg.workers.dev/?s=64&f=gray \"Image Title\"), {pageNumber -> 1}}]|\n",
      "+----------------------------------------------------------------------------------------------------------------------------------------------------------------------------------------------------------------------------------------------------------------------------------------------------------------------------------------------------------------------------------------------------------------------------------------------------------------------------------------------------------------------------------------------------------------------------------------------------------------------------------------------------------------------------------------------------------------------------------------------------------------------------------------------------------------------------------------------------------------------------------------------------------------------------------------------------------------------------------------------------------------------------------------------------------------------------------------------------------------------------------------------------------------------------------------------------------------------------------------------------------------------------------------------------------------------------------------------------------------------------------------------------------------------------------------------------------------------------------------------------------------------------------------------------------------------------------------------------------------------------------------------------------------------------------------------------------------------------------------------------------------------------------------------------------------------------------------------------------------------------------------------------------------------------------------------------------------------------------------------------------------------------------------------------------------------------------------------------------------------------------------------------------------------------------------------------------------------------------------------------------------------------------------------------------------------------------------------------------------------------------------------------------------------------------------------------------------------------------------------------------------------------------------------------------------------------------------------------------------------------------------------------------------------------------------------------------------------------------------------------------------------------------------------------------------+\n",
      "\n"
     ]
    }
   ],
   "source": [
    "md_url = \"https://raw.githubusercontent.com/adamschwartz/github-markdown-kitchen-sink/master/README.md\"\n",
    "partition_df = Partition(content_type = \"text/markdown\").partition(url=md_url)\n",
    "partition_df.select(\"md\").show(truncate=False)"
   ]
  }
 ],
 "metadata": {
  "colab": {
   "provenance": [],
   "toc_visible": true
  },
  "kernelspec": {
   "display_name": "Python 3 (ipykernel)",
   "language": "python",
   "name": "python3"
  },
  "language_info": {
   "codemirror_mode": {
    "name": "ipython",
    "version": 3
   },
   "file_extension": ".py",
   "mimetype": "text/x-python",
   "name": "python",
   "nbconvert_exporter": "python",
   "pygments_lexer": "ipython3",
   "version": "3.10.12"
  }
 },
 "nbformat": 4,
 "nbformat_minor": 1
}
