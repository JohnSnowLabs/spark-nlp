{
 "cells": [
  {
   "cell_type": "markdown",
   "metadata": {},
   "source": [
    "![JohnSnowLabs](https://sparknlp.org/assets/images/logo.png)\n",
    "\n",
    "[![Open In Colab](https://colab.research.google.com/assets/colab-badge.svg)](https://colab.research.google.com/github/JohnSnowLabs/spark-nlp/blob/master/examples/python/transformers/SparkNLP_ReaderAssembler_Demo.ipynb)"
   ]
  },
  {
   "cell_type": "markdown",
   "metadata": {
    "id": "quSlGrh2X0Ar"
   },
   "source": [
    "# Introducing ReaderAssembler in SparkNLP\n",
    "\n",
    "This notebook showcases the newly added `ReaderAssembler` annotator in Spark NLP. It provides a unified interface for combining multiple Spark NLP\n",
    "readers (such as Reader2Doc, Reader2Table, and Reader2Image) into a single, configurable component."
   ]
  },
  {
   "cell_type": "code",
   "execution_count": 1,
   "metadata": {
    "colab": {
     "base_uri": "https://localhost:8080/"
    },
    "id": "5ema2j9sODvP",
    "outputId": "1f11421f-6d44-45bd-decb-f895139736ce"
   },
   "outputs": [
    {
     "name": "stdout",
     "output_type": "stream",
     "text": [
      "Mounted at /content/drive\n"
     ]
    }
   ],
   "source": [
    "from google.colab import drive\n",
    "drive.mount('/content/drive')"
   ]
  },
  {
   "cell_type": "code",
   "execution_count": 2,
   "metadata": {
    "id": "XLyy6krEOFLd"
   },
   "outputs": [],
   "source": [
    "!cp drive/MyDrive/JSL/sparknlp/sparknlp.jar .\n",
    "!cp drive/MyDrive/JSL/sparknlp/spark_nlp-6.1.4-py2.py3-none-any.whl ."
   ]
  },
  {
   "cell_type": "code",
   "execution_count": 3,
   "metadata": {
    "colab": {
     "base_uri": "https://localhost:8080/"
    },
    "id": "y0yAjzokOajt",
    "outputId": "721e8c02-bfec-44e5-9d39-92188cc3637f"
   },
   "outputs": [
    {
     "name": "stdout",
     "output_type": "stream",
     "text": [
      "Processing ./spark_nlp-6.1.4-py2.py3-none-any.whl\n",
      "Installing collected packages: spark-nlp\n",
      "Successfully installed spark-nlp-6.1.4\n"
     ]
    }
   ],
   "source": [
    "!pip install spark_nlp-6.1.4-py2.py3-none-any.whl"
   ]
  },
  {
   "cell_type": "code",
   "execution_count": 4,
   "metadata": {
    "colab": {
     "base_uri": "https://localhost:8080/"
    },
    "id": "xvycj4qAObCw",
    "outputId": "b67eee0d-4be7-4ce9-ba5c-058f2557a613"
   },
   "outputs": [
    {
     "name": "stdout",
     "output_type": "stream",
     "text": [
      "Apache Spark version: 3.5.1\n"
     ]
    }
   ],
   "source": [
    "import sparknlp\n",
    "\n",
    "# # let's start Spark with Spark NLP with GPU enabled. If you don't have GPUs available remove this parameter.\n",
    "spark = sparknlp.start()\n",
    "print(sparknlp.version())\n",
    "\n",
    "print(\"Apache Spark version: {}\".format(spark.version))"
   ]
  },
  {
   "cell_type": "markdown",
   "metadata": {
    "id": "iXtXmyJFYfGG"
   },
   "source": [
    "To illustrate the use of this reader, let’s define an HTML document containing image data and display a preview."
   ]
  },
  {
   "cell_type": "code",
   "execution_count": 10,
   "metadata": {
    "colab": {
     "base_uri": "https://localhost:8080/",
     "height": 178
    },
    "id": "6ZUkBA7rZ1lp",
    "outputId": "755d7fa9-f2d8-40d9-8d42-29751eb1a3c6"
   },
   "outputs": [
    {
     "data": {
      "text/html": [
       "\n",
       "<!DOCTYPE html>\n",
       "<html>\n",
       "<head>\n",
       "    <title>Image Parsing Test</title>\n",
       "</head>\n",
       "<body>\n",
       "<p style=\"font-size:12pt;\">This is a normal paragraph.</p>\n",
       "<h1>Test Images</h1>\n",
       "\n",
       "<table>\n",
       "  <tr>\n",
       "    <td>Hello World</td>\n",
       "  </tr>\n",
       "</table>  \n",
       "<!-- Base64 inline PNG -->\n",
       "<img src=\"data:image/png;base64,iVBORw0KGgoAAAANSUhEUgAAAAUA\n",
       "  AAAFCAYAAACNbyblAAAAHElEQVQI12P4\n",
       "  //8/w38GIAXDIBKE0DHxgljNBAAO9TXL0Y4OHwAAAABJRU5ErkJggg==\"\n",
       "     alt=\"Base64 Red Dot\" width=\"5\" height=\"5\">\n",
       "\n",
       "<!-- External image -->\n",
       "<img src=\"https://upload.wikimedia.org/wikipedia/commons/thumb/a/a7/React-icon.svg/1024px-React-icon.svg.png\"\n",
       "     alt=\"React Logo\" width=\"50\" height=\"50\">\n"
      ],
      "text/plain": [
       "<IPython.core.display.HTML object>"
      ]
     },
     "metadata": {},
     "output_type": "display_data"
    }
   ],
   "source": [
    "from IPython.core.display import display, HTML\n",
    "\n",
    "html_code = \"\"\"\n",
    "<!DOCTYPE html>\n",
    "<html>\n",
    "<head>\n",
    "    <title>Image Parsing Test</title>\n",
    "</head>\n",
    "<body>\n",
    "<p style=\"font-size:12pt;\">This is a normal paragraph.</p>\n",
    "<h1>Test Images</h1>\n",
    "\n",
    "<table>\n",
    "  <tr>\n",
    "    <td>Hello World</td>\n",
    "  </tr>\n",
    "</table>\n",
    "<!-- Base64 inline PNG -->\n",
    "<img src=\"data:image/png;base64,iVBORw0KGgoAAAANSUhEUgAAAAUA\n",
    "  AAAFCAYAAACNbyblAAAAHElEQVQI12P4\n",
    "  //8/w38GIAXDIBKE0DHxgljNBAAO9TXL0Y4OHwAAAABJRU5ErkJggg==\"\n",
    "     alt=\"Base64 Red Dot\" width=\"5\" height=\"5\">\n",
    "\n",
    "<!-- External image -->\n",
    "<img src=\"https://upload.wikimedia.org/wikipedia/commons/thumb/a/a7/React-icon.svg/1024px-React-icon.svg.png\"\n",
    "     alt=\"React Logo\" width=\"50\" height=\"50\">\n",
    "\"\"\"\n",
    "\n",
    "display(HTML(html_code))"
   ]
  },
  {
   "cell_type": "markdown",
   "metadata": {
    "id": "_KhznNBIYx0m"
   },
   "source": [
    "As you can see in the image above, we have two files: a small red dot and an atom. We expect a VLM model to generate descriptions of these images for us."
   ]
  },
  {
   "cell_type": "code",
   "execution_count": 11,
   "metadata": {
    "id": "MTnevAlxaXB5"
   },
   "outputs": [],
   "source": [
    "with open(\"example-images.html\", \"w\") as f:\n",
    "    f.write(html_code)"
   ]
  },
  {
   "cell_type": "code",
   "execution_count": 12,
   "metadata": {
    "id": "4JOsiklDVTgd"
   },
   "outputs": [],
   "source": [
    "empty_df = spark.createDataFrame([], \"string\").toDF(\"text\")"
   ]
  },
  {
   "cell_type": "code",
   "execution_count": 16,
   "metadata": {
    "id": "pZwclDzKVVX_"
   },
   "outputs": [],
   "source": [
    "from pyspark.ml import Pipeline\n",
    "from sparknlp.reader.reader_assembler import ReaderAssembler\n",
    "\n",
    "reader = ReaderAssembler() \\\n",
    "    .setContentType(\"text/html\") \\\n",
    "    .setContentPath(\"./example-images.html\") \\\n",
    "    .setOutputCol(\"document\")\n",
    "\n",
    "pipeline = Pipeline(stages=[reader])\n",
    "model = pipeline.fit(empty_df)\n",
    "\n",
    "reader_df = model.transform(empty_df)"
   ]
  },
  {
   "cell_type": "code",
   "execution_count": 17,
   "metadata": {
    "colab": {
     "base_uri": "https://localhost:8080/"
    },
    "id": "V59P4av5s4dR",
    "outputId": "491267e0-d489-4ca8-d7cb-1480c9da7042"
   },
   "outputs": [
    {
     "name": "stdout",
     "output_type": "stream",
     "text": [
      "root\n",
      " |-- fileName: string (nullable = true)\n",
      " |-- document_text: array (nullable = true)\n",
      " |    |-- element: struct (containsNull = true)\n",
      " |    |    |-- annotatorType: string (nullable = true)\n",
      " |    |    |-- begin: integer (nullable = false)\n",
      " |    |    |-- end: integer (nullable = false)\n",
      " |    |    |-- result: string (nullable = true)\n",
      " |    |    |-- metadata: map (nullable = true)\n",
      " |    |    |    |-- key: string\n",
      " |    |    |    |-- value: string (valueContainsNull = true)\n",
      " |    |    |-- embeddings: array (nullable = true)\n",
      " |    |    |    |-- element: float (containsNull = false)\n",
      " |-- document_table: array (nullable = true)\n",
      " |    |-- element: struct (containsNull = true)\n",
      " |    |    |-- annotatorType: string (nullable = true)\n",
      " |    |    |-- begin: integer (nullable = false)\n",
      " |    |    |-- end: integer (nullable = false)\n",
      " |    |    |-- result: string (nullable = true)\n",
      " |    |    |-- metadata: map (nullable = true)\n",
      " |    |    |    |-- key: string\n",
      " |    |    |    |-- value: string (valueContainsNull = true)\n",
      " |    |    |-- embeddings: array (nullable = true)\n",
      " |    |    |    |-- element: float (containsNull = false)\n",
      " |-- document_image: array (nullable = true)\n",
      " |    |-- element: struct (containsNull = true)\n",
      " |    |    |-- annotatorType: string (nullable = true)\n",
      " |    |    |-- origin: string (nullable = true)\n",
      " |    |    |-- height: integer (nullable = false)\n",
      " |    |    |-- width: integer (nullable = false)\n",
      " |    |    |-- nChannels: integer (nullable = false)\n",
      " |    |    |-- mode: integer (nullable = false)\n",
      " |    |    |-- result: binary (nullable = true)\n",
      " |    |    |-- metadata: map (nullable = true)\n",
      " |    |    |    |-- key: string\n",
      " |    |    |    |-- value: string (valueContainsNull = true)\n",
      " |    |    |-- text: string (nullable = true)\n",
      " |-- exception: void (nullable = true)\n",
      "\n"
     ]
    }
   ],
   "source": [
    "reader_df.printSchema()"
   ]
  },
  {
   "cell_type": "code",
   "execution_count": 18,
   "metadata": {
    "colab": {
     "base_uri": "https://localhost:8080/"
    },
    "id": "S68AuJHus87y",
    "outputId": "75cc6139-5bb3-4b0d-99e1-4d4f61b9d144"
   },
   "outputs": [
    {
     "name": "stdout",
     "output_type": "stream",
     "text": [
      "+---------------------------------------------------------------------------------------------------------------------------------------------------------------------------------------------------------+\n",
      "|document_text                                                                                                                                                                                            |\n",
      "+---------------------------------------------------------------------------------------------------------------------------------------------------------------------------------------------------------+\n",
      "|[{document, 0, 26, This is a normal paragraph., {pageNumber -> 1, sentence -> 0, elementType -> Title}, []}, {document, 27, 37, Test Images, {pageNumber -> 1, sentence -> 1, elementType -> Title}, []}]|\n",
      "+---------------------------------------------------------------------------------------------------------------------------------------------------------------------------------------------------------+\n",
      "\n"
     ]
    }
   ],
   "source": [
    "reader_df.select(\"document_text\").show(truncate=False)"
   ]
  },
  {
   "cell_type": "code",
   "execution_count": 19,
   "metadata": {
    "colab": {
     "base_uri": "https://localhost:8080/"
    },
    "id": "z0mpdspftFU7",
    "outputId": "a384416d-2022-42d1-9f8c-070d8058f29a"
   },
   "outputs": [
    {
     "name": "stdout",
     "output_type": "stream",
     "text": [
      "+------------------------------------------------------------------------------------------------------------------------------------+\n",
      "|document_table                                                                                                                      |\n",
      "+------------------------------------------------------------------------------------------------------------------------------------+\n",
      "|[{document, 0, 50, {\"caption\":\"\",\"header\":[],\"rows\":[[\"Hello World\"]]}, {pageNumber -> 1, sentence -> 2, elementType -> Table}, []}]|\n",
      "+------------------------------------------------------------------------------------------------------------------------------------+\n",
      "\n"
     ]
    }
   ],
   "source": [
    "reader_df.select(\"document_table\").show(truncate=False)"
   ]
  },
  {
   "cell_type": "code",
   "execution_count": 20,
   "metadata": {
    "colab": {
     "base_uri": "https://localhost:8080/"
    },
    "id": "Pewp7QFvtHzL",
    "outputId": "05b650f9-88da-4c40-ed01-a9bc1d2aba64"
   },
   "outputs": [
    {
     "name": "stdout",
     "output_type": "stream",
     "text": [
      "+--------------------+\n",
      "|      document_image|\n",
      "+--------------------+\n",
      "|[{image, example-...|\n",
      "+--------------------+\n",
      "\n"
     ]
    }
   ],
   "source": [
    "reader_df.select(\"document_image\").show()"
   ]
  },
  {
   "cell_type": "markdown",
   "metadata": {
    "id": "QwfZCxXsu014"
   },
   "source": [
    "## Integration with SparkNLP VLM models"
   ]
  },
  {
   "cell_type": "code",
   "execution_count": 21,
   "metadata": {
    "colab": {
     "base_uri": "https://localhost:8080/"
    },
    "id": "p3hDYMnyuSG6",
    "outputId": "e0d12ba7-26cd-44c2-a741-a3262a6f0adf"
   },
   "outputs": [
    {
     "name": "stdout",
     "output_type": "stream",
     "text": [
      "qwen2_vl_2b_instruct_int4 download started this may take some time.\n",
      "Approximate size to download 1.4 GB\n",
      "[OK!]\n"
     ]
    }
   ],
   "source": [
    "from sparknlp.annotator import Qwen2VLTransformer\n",
    "\n",
    "visualQAClassifier = (\n",
    "    Qwen2VLTransformer.pretrained()\n",
    "    .setInputCols(\"document_image\")\n",
    "    .setOutputCol(\"answer\")\n",
    ")\n",
    "\n",
    "pipeline = Pipeline().setStages([visualQAClassifier])\n",
    "result_df = pipeline.fit(reader_df).transform(reader_df)"
   ]
  },
  {
   "cell_type": "code",
   "execution_count": 22,
   "metadata": {
    "colab": {
     "base_uri": "https://localhost:8080/"
    },
    "id": "bmFcgB2Sud9t",
    "outputId": "806894f9-3a2e-4915-eadc-f48ba5df810f"
   },
   "outputs": [
    {
     "name": "stdout",
     "output_type": "stream",
     "text": [
      "+------------------------------------------+----------------------------------------------------------------------------------------------------------------------------------------------------------------------------------------------------------------------------------------------------------------------------------------------------+\n",
      "|origin                                    |result                                                                                                                                                                                                                                                                                              |\n",
      "+------------------------------------------+----------------------------------------------------------------------------------------------------------------------------------------------------------------------------------------------------------------------------------------------------------------------------------------------------+\n",
      "|[example-images.html, example-images.html]|[The image is a simple, solid-colored background with a gradient effect. The colors blend smoothly from a lighter yellow at the top to a darker yellow at the bottom. There are no patterns, textures, or any other visual elements present. The image appears to be a plain, unadorned background.]|\n",
      "+------------------------------------------+----------------------------------------------------------------------------------------------------------------------------------------------------------------------------------------------------------------------------------------------------------------------------------------------------+\n",
      "\n"
     ]
    }
   ],
   "source": [
    "result_df.select(\"document_image.origin\", \"answer.result\").show(truncate=False)"
   ]
  }
 ],
 "metadata": {
  "colab": {
   "provenance": []
  },
  "kernelspec": {
   "display_name": "Python 3 (ipykernel)",
   "language": "python",
   "name": "python3"
  },
  "language_info": {
   "codemirror_mode": {
    "name": "ipython",
    "version": 3
   },
   "file_extension": ".py",
   "mimetype": "text/x-python",
   "name": "python",
   "nbconvert_exporter": "python",
   "pygments_lexer": "ipython3",
   "version": "3.12.3"
  }
 },
 "nbformat": 4,
 "nbformat_minor": 4
}
