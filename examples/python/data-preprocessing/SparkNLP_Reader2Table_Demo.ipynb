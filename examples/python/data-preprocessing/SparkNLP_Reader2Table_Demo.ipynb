{
 "cells": [
  {
   "cell_type": "markdown",
   "metadata": {
    "id": "tzcU5p2gdak9"
   },
   "source": [
    "# Introducing Reader2Table in SparkNLP\n",
    "This notebook showcases the newly added `Reader2Table` annotator in Spark NLP, providing a streamlined and user-friendly interface for reading files. It is useful for preprocessing data for NLP pipelines that rely on information inside tables, enhanced by structuring the data as JSON or HTML."
   ]
  },
  {
   "cell_type": "code",
   "execution_count": 6,
   "metadata": {
    "colab": {
     "base_uri": "https://localhost:8080/"
    },
    "id": "DczWop6QeE8F",
    "outputId": "54b0f58e-365b-48d0-eda6-6af36241a51b"
   },
   "outputs": [
    {
     "name": "stdout",
     "output_type": "stream",
     "text": [
      "Apache Spark version: 3.5.1\n"
     ]
    }
   ],
   "source": [
    "import sparknlp\n",
    "# let's start Spark with Spark NLP\n",
    "spark = sparknlp.start()\n",
    "\n",
    "\n",
    "print(\"Apache Spark version: {}\".format(spark.version))"
   ]
  },
  {
   "cell_type": "markdown",
   "metadata": {
    "id": "RFOFhaEedalB"
   },
   "source": [
    "## Setup and Initialization\n",
    "Let's keep in mind a few things before we start 😊\n",
    "\n",
    "Support for **Reader2Table** was introduced in Spark NLP 6.1.1 Please make sure you have upgraded to the latest Spark NLP release."
   ]
  },
  {
   "cell_type": "markdown",
   "metadata": {
    "id": "1vLFuCnVnVd8"
   },
   "source": [
    "- Let's install and setup Spark NLP in Google Colab. This part is pretty easy via our simple script"
   ]
  },
  {
   "cell_type": "code",
   "execution_count": 7,
   "metadata": {
    "id": "JVUu3mJXnXmm"
   },
   "outputs": [],
   "source": [
    "! wget -q http://setup.johnsnowlabs.com/colab.sh -O - | bash"
   ]
  },
  {
   "cell_type": "markdown",
   "metadata": {
    "id": "-QXcOttbnmsI"
   },
   "source": [
    "The output of `Reader2Table` uses the same Annotation schema as other Spark NLP annotators. This means you can seamlessly integrate it into any Spark NLP pipeline or process that expects annotated data."
   ]
  },
  {
   "cell_type": "code",
   "execution_count": 8,
   "metadata": {
    "id": "0WIcptZ7nhp5"
   },
   "outputs": [],
   "source": [
    "from sparknlp.reader.reader2table import Reader2Table\n",
    "from pyspark.ml import Pipeline\n",
    "\n",
    "empty_df = spark.createDataFrame([], \"string\").toDF(\"text\")"
   ]
  },
  {
   "cell_type": "markdown",
   "metadata": {
    "id": "ah8RigOanazZ"
   },
   "source": [
    "For local files example we will download different files from Spark NLP Github repo:"
   ]
  },
  {
   "cell_type": "markdown",
   "metadata": {
    "id": "02qrQWIWP89R"
   },
   "source": [
    "## Reading HTML Documents"
   ]
  },
  {
   "cell_type": "markdown",
   "metadata": {
    "id": "joUGu23jq4m4"
   },
   "source": [
    "**Downloading HTML files**"
   ]
  },
  {
   "cell_type": "code",
   "execution_count": 9,
   "metadata": {
    "colab": {
     "base_uri": "https://localhost:8080/"
    },
    "id": "bo7s-jZVrE7W",
    "outputId": "88956579-ac8e-41a1-a75c-f605914e20cc"
   },
   "outputs": [
    {
     "name": "stdout",
     "output_type": "stream",
     "text": [
      "--2025-07-28 14:54:58--  https://raw.githubusercontent.com/JohnSnowLabs/spark-nlp/feature/SPARKNLP-1260-Implement-Reader2Table-Annotator/src/test/resources/reader/html/example-caption-th.html\n",
      "Resolving raw.githubusercontent.com (raw.githubusercontent.com)... 185.199.108.133, 185.199.109.133, 185.199.110.133, ...\n",
      "Connecting to raw.githubusercontent.com (raw.githubusercontent.com)|185.199.108.133|:443... connected.\n",
      "HTTP request sent, awaiting response... 200 OK\n",
      "Length: 479 [text/plain]\n",
      "Saving to: ‘html-files/example-caption-th.html’\n",
      "\n",
      "example-caption-th. 100%[===================>]     479  --.-KB/s    in 0s      \n",
      "\n",
      "2025-07-28 14:54:58 (33.4 MB/s) - ‘html-files/example-caption-th.html’ saved [479/479]\n",
      "\n"
     ]
    }
   ],
   "source": [
    "!mkdir html-files\n",
    "!wget https://raw.githubusercontent.com/JohnSnowLabs/spark-nlp/master/src/test/resources/reader/html/example-caption-th.html -P html-files"
   ]
  },
  {
   "cell_type": "code",
   "execution_count": 10,
   "metadata": {
    "colab": {
     "base_uri": "https://localhost:8080/"
    },
    "id": "dg13MEz2NDzE",
    "outputId": "1895f6d4-61a7-4b0d-c171-383bb6a42cb9"
   },
   "outputs": [
    {
     "name": "stdout",
     "output_type": "stream",
     "text": [
      "+-----------------------+-------------------------------------------------------------------------------------------------------------------------------------------------------------------------------------------------------+\n",
      "|fileName               |document                                                                                                                                                                                               |\n",
      "+-----------------------+-------------------------------------------------------------------------------------------------------------------------------------------------------------------------------------------------------+\n",
      "|example-caption-th.html|[{document, 0, 116, {\"caption\":\"Student Grades\",\"header\":[\"Name\",\"Subject\",\"Grade\"],\"rows\":[[\"Alice\",\"Math\",\"A\"],[\"Bob\",\"Science\",\"B+\"]]}, {pageNumber -> 1, sentence -> 0, elementType -> Table}, []}]|\n",
      "+-----------------------+-------------------------------------------------------------------------------------------------------------------------------------------------------------------------------------------------------+\n",
      "\n"
     ]
    }
   ],
   "source": [
    "reader2table = Reader2Table() \\\n",
    "    .setContentType(\"text/html\") \\\n",
    "    .setContentPath(\"./html-files\") \\\n",
    "    .setOutputCol(\"document\")\n",
    "\n",
    "pipeline = Pipeline(stages=[reader2table])\n",
    "model = pipeline.fit(empty_df)\n",
    "\n",
    "result_df = model.transform(empty_df)\n",
    "result_df.show(truncate=False)"
   ]
  },
  {
   "cell_type": "markdown",
   "metadata": {
    "id": "uMyqJX-K7dss"
   },
   "source": [
    "## Reading MS Office Documents"
   ]
  },
  {
   "cell_type": "markdown",
   "metadata": {
    "id": "dpYvufV2qgbB"
   },
   "source": [
    "### Reading Word Files"
   ]
  },
  {
   "cell_type": "markdown",
   "metadata": {
    "id": "l-uW6gV8pUYM"
   },
   "source": [
    "**Downloading Word files**"
   ]
  },
  {
   "cell_type": "code",
   "execution_count": 11,
   "metadata": {
    "colab": {
     "base_uri": "https://localhost:8080/"
    },
    "id": "zLLEUl3KpYZ6",
    "outputId": "4dbcf154-bd6e-40a8-efa9-2fe591b1b052"
   },
   "outputs": [
    {
     "name": "stdout",
     "output_type": "stream",
     "text": [
      "--2025-07-28 14:55:09--  https://raw.githubusercontent.com/JohnSnowLabs/spark-nlp/feature/SPARKNLP-1259-Implement-Reader2Doc-Annotator/src/test/resources/reader/doc/contains-pictures.docx\n",
      "Resolving raw.githubusercontent.com (raw.githubusercontent.com)... 185.199.108.133, 185.199.109.133, 185.199.111.133, ...\n",
      "Connecting to raw.githubusercontent.com (raw.githubusercontent.com)|185.199.108.133|:443... connected.\n",
      "HTTP request sent, awaiting response... 200 OK\n",
      "Length: 95087 (93K) [application/octet-stream]\n",
      "Saving to: ‘word-files/contains-pictures.docx’\n",
      "\n",
      "contains-pictures.d 100%[===================>]  92.86K  --.-KB/s    in 0.03s   \n",
      "\n",
      "2025-07-28 14:55:09 (3.62 MB/s) - ‘word-files/contains-pictures.docx’ saved [95087/95087]\n",
      "\n",
      "--2025-07-28 14:55:10--  https://raw.githubusercontent.com/JohnSnowLabs/spark-nlp/feature/SPARKNLP-1259-Implement-Reader2Doc-Annotator/src/test/resources/reader/doc/fake_table.docx\n",
      "Resolving raw.githubusercontent.com (raw.githubusercontent.com)... 185.199.108.133, 185.199.109.133, 185.199.110.133, ...\n",
      "Connecting to raw.githubusercontent.com (raw.githubusercontent.com)|185.199.108.133|:443... connected.\n",
      "HTTP request sent, awaiting response... 200 OK\n",
      "Length: 12392 (12K) [application/octet-stream]\n",
      "Saving to: ‘word-files/fake_table.docx’\n",
      "\n",
      "fake_table.docx     100%[===================>]  12.10K  --.-KB/s    in 0s      \n",
      "\n",
      "2025-07-28 14:55:10 (25.7 MB/s) - ‘word-files/fake_table.docx’ saved [12392/12392]\n",
      "\n",
      "--2025-07-28 14:55:10--  https://raw.githubusercontent.com/JohnSnowLabs/spark-nlp/feature/SPARKNLP-1259-Implement-Reader2Doc-Annotator/src/test/resources/reader/doc/page-breaks.docx\n",
      "Resolving raw.githubusercontent.com (raw.githubusercontent.com)... 185.199.110.133, 185.199.109.133, 185.199.108.133, ...\n",
      "Connecting to raw.githubusercontent.com (raw.githubusercontent.com)|185.199.110.133|:443... connected.\n",
      "HTTP request sent, awaiting response... 200 OK\n",
      "Length: 14584 (14K) [application/octet-stream]\n",
      "Saving to: ‘word-files/page-breaks.docx’\n",
      "\n",
      "page-breaks.docx    100%[===================>]  14.24K  --.-KB/s    in 0s      \n",
      "\n",
      "2025-07-28 14:55:10 (52.3 MB/s) - ‘word-files/page-breaks.docx’ saved [14584/14584]\n",
      "\n"
     ]
    }
   ],
   "source": [
    "!mkdir word-files\n",
    "!wget https://raw.githubusercontent.com/JohnSnowLabs/spark-nlp/master/src/test/resources/reader/doc/contains-pictures.docx -P word-files\n",
    "!wget https://raw.githubusercontent.com/JohnSnowLabs/spark-nlp/master/src/test/resources/reader/doc/fake_table.docx -P word-files\n",
    "!wget https://raw.githubusercontent.com/JohnSnowLabs/spark-nlp/master/src/test/resources/reader/doc/page-breaks.docx -P word-files"
   ]
  },
  {
   "cell_type": "code",
   "execution_count": 12,
   "metadata": {
    "colab": {
     "base_uri": "https://localhost:8080/"
    },
    "id": "YId4UG1rOVQq",
    "outputId": "ce71751e-6e95-4dd6-bbb0-20371dc75089"
   },
   "outputs": [
    {
     "name": "stdout",
     "output_type": "stream",
     "text": [
      "+----------------------+-------------------------------------------------------------------------------------------------------------------------------------------------+\n",
      "|fileName              |document                                                                                                                                         |\n",
      "+----------------------+-------------------------------------------------------------------------------------------------------------------------------------------------+\n",
      "|page-breaks.docx      |[]                                                                                                                                               |\n",
      "|contains-pictures.docx|[]                                                                                                                                               |\n",
      "|fake_table.docx       |[{document, 0, 96, {\"caption\":\"\",\"header\":[\"Header Col 1\",\"Header Col 2\"],\"rows\":[[\"Lorem ipsum\",\"A Link example\"]]}, {elementType -> JSON}, []}]|\n",
      "+----------------------+-------------------------------------------------------------------------------------------------------------------------------------------------+\n",
      "\n"
     ]
    }
   ],
   "source": [
    "reader2table = Reader2Table() \\\n",
    "    .setContentType(\"application/msword\") \\\n",
    "    .setContentPath(\"./word-files\") \\\n",
    "    .setOutputCol(\"document\")\n",
    "\n",
    "pipeline = Pipeline(stages=[reader2table])\n",
    "model = pipeline.fit(empty_df)\n",
    "\n",
    "result_df = model.transform(empty_df)\n",
    "result_df.show(truncate=False)"
   ]
  },
  {
   "cell_type": "markdown",
   "metadata": {
    "id": "E8ockED4NxLi"
   },
   "source": [
    "### Reading PowerPoint Files"
   ]
  },
  {
   "cell_type": "markdown",
   "metadata": {
    "id": "A3lF0_7qqlZB"
   },
   "source": [
    "**Downloading PowerPoint files**"
   ]
  },
  {
   "cell_type": "code",
   "execution_count": 13,
   "metadata": {
    "colab": {
     "base_uri": "https://localhost:8080/"
    },
    "id": "1jDRFmcHqpxn",
    "outputId": "2a2606e4-2391-4305-8226-895f6d70d0c6"
   },
   "outputs": [
    {
     "name": "stdout",
     "output_type": "stream",
     "text": [
      "--2025-07-28 14:55:13--  https://raw.githubusercontent.com/JohnSnowLabs/spark-nlp/master/src/test/resources/reader/ppt/fake-power-point.pptx\n",
      "Resolving raw.githubusercontent.com (raw.githubusercontent.com)... 185.199.108.133, 185.199.109.133, 185.199.110.133, ...\n",
      "Connecting to raw.githubusercontent.com (raw.githubusercontent.com)|185.199.108.133|:443... connected.\n",
      "HTTP request sent, awaiting response... 200 OK\n",
      "Length: 38412 (38K) [application/octet-stream]\n",
      "Saving to: ‘ppt-files/fake-power-point.pptx’\n",
      "\n",
      "\r",
      "fake-power-point.pp   0%[                    ]       0  --.-KB/s               \r",
      "fake-power-point.pp 100%[===================>]  37.51K  --.-KB/s    in 0.01s   \n",
      "\n",
      "2025-07-28 14:55:14 (3.20 MB/s) - ‘ppt-files/fake-power-point.pptx’ saved [38412/38412]\n",
      "\n",
      "--2025-07-28 14:55:14--  https://raw.githubusercontent.com/JohnSnowLabs/spark-nlp/master/src/test/resources/reader/ppt/fake-power-point-table.pptx\n",
      "Resolving raw.githubusercontent.com (raw.githubusercontent.com)... 185.199.108.133, 185.199.111.133, 185.199.109.133, ...\n",
      "Connecting to raw.githubusercontent.com (raw.githubusercontent.com)|185.199.108.133|:443... connected.\n",
      "HTTP request sent, awaiting response... 200 OK\n",
      "Length: 39894 (39K) [application/octet-stream]\n",
      "Saving to: ‘ppt-files/fake-power-point-table.pptx’\n",
      "\n",
      "fake-power-point-ta 100%[===================>]  38.96K  --.-KB/s    in 0.01s   \n",
      "\n",
      "2025-07-28 14:55:14 (2.98 MB/s) - ‘ppt-files/fake-power-point-table.pptx’ saved [39894/39894]\n",
      "\n",
      "--2025-07-28 14:55:14--  https://raw.githubusercontent.com/JohnSnowLabs/spark-nlp/master/src/test/resources/reader/ppt/speaker-notes.pptx\n",
      "Resolving raw.githubusercontent.com (raw.githubusercontent.com)... 185.199.108.133, 185.199.109.133, 185.199.110.133, ...\n",
      "Connecting to raw.githubusercontent.com (raw.githubusercontent.com)|185.199.108.133|:443... connected.\n",
      "HTTP request sent, awaiting response... 200 OK\n",
      "Length: 39414 (38K) [application/octet-stream]\n",
      "Saving to: ‘ppt-files/speaker-notes.pptx’\n",
      "\n",
      "speaker-notes.pptx  100%[===================>]  38.49K  --.-KB/s    in 0.01s   \n",
      "\n",
      "2025-07-28 14:55:14 (3.03 MB/s) - ‘ppt-files/speaker-notes.pptx’ saved [39414/39414]\n",
      "\n"
     ]
    }
   ],
   "source": [
    "!mkdir ppt-files\n",
    "!wget https://raw.githubusercontent.com/JohnSnowLabs/spark-nlp/master/src/test/resources/reader/ppt/fake-power-point.pptx -P ppt-files\n",
    "!wget https://raw.githubusercontent.com/JohnSnowLabs/spark-nlp/master/src/test/resources/reader/ppt/fake-power-point-table.pptx -P ppt-files\n",
    "!wget https://raw.githubusercontent.com/JohnSnowLabs/spark-nlp/master/src/test/resources/reader/ppt/speaker-notes.pptx -P ppt-files"
   ]
  },
  {
   "cell_type": "code",
   "execution_count": 14,
   "metadata": {
    "colab": {
     "base_uri": "https://localhost:8080/"
    },
    "id": "fPCpk7RTGRjo",
    "outputId": "2a2156ce-ac33-4ab6-b34f-012bcc9397c1"
   },
   "outputs": [
    {
     "name": "stdout",
     "output_type": "stream",
     "text": [
      "+---------------------------+--------------------------------------------------------------------------------------------------------------------------------------------------------------------------------------+\n",
      "|fileName                   |document                                                                                                                                                                              |\n",
      "+---------------------------+--------------------------------------------------------------------------------------------------------------------------------------------------------------------------------------+\n",
      "|speaker-notes.pptx         |[]                                                                                                                                                                                    |\n",
      "|fake-power-point-table.pptx|[{document, 0, 114, {\"caption\":\"\",\"header\":[],\"rows\":[[\"Red\",\"Green\",\"Blue\"],[\"Purple\",\"Orange\",\"Yellow\"],[\"Tangerine\",\"Pink\",\"Aqua\"]]}, {element -> table, elementType -> JSON}, []}]|\n",
      "|fake-power-point.pptx      |[]                                                                                                                                                                                    |\n",
      "+---------------------------+--------------------------------------------------------------------------------------------------------------------------------------------------------------------------------------+\n",
      "\n"
     ]
    }
   ],
   "source": [
    "reader2table = Reader2Table() \\\n",
    "    .setContentType(\"application/vnd.ms-powerpoint\") \\\n",
    "    .setContentPath(\"./ppt-files\") \\\n",
    "    .setOutputCol(\"document\")\n",
    "\n",
    "pipeline = Pipeline(stages=[reader2table])\n",
    "model = pipeline.fit(empty_df)\n",
    "\n",
    "result_df = model.transform(empty_df)\n",
    "result_df.show(truncate=False)"
   ]
  },
  {
   "cell_type": "markdown",
   "metadata": {
    "id": "yHsnpNNmrWtR"
   },
   "source": [
    "### Reading Excel Files"
   ]
  },
  {
   "cell_type": "markdown",
   "metadata": {
    "id": "40ts9-MmqNHp"
   },
   "source": [
    "**Downloading Excel files**"
   ]
  },
  {
   "cell_type": "code",
   "execution_count": 15,
   "metadata": {
    "colab": {
     "base_uri": "https://localhost:8080/"
    },
    "id": "cSq9okFynkY8",
    "outputId": "9ab4a095-01b4-4627-81c8-0826afc93a43"
   },
   "outputs": [
    {
     "name": "stdout",
     "output_type": "stream",
     "text": [
      "--2025-07-28 14:55:16--  https://raw.githubusercontent.com/JohnSnowLabs/spark-nlp/master/src/test/resources/reader/xls/vodafone.xlsx\n",
      "Resolving raw.githubusercontent.com (raw.githubusercontent.com)... 185.199.109.133, 185.199.111.133, 185.199.108.133, ...\n",
      "Connecting to raw.githubusercontent.com (raw.githubusercontent.com)|185.199.109.133|:443... connected.\n",
      "HTTP request sent, awaiting response... 200 OK\n",
      "Length: 12541 (12K) [application/octet-stream]\n",
      "Saving to: ‘excel-files/vodafone.xlsx’\n",
      "\n",
      "vodafone.xlsx       100%[===================>]  12.25K  --.-KB/s    in 0.001s  \n",
      "\n",
      "2025-07-28 14:55:16 (19.4 MB/s) - ‘excel-files/vodafone.xlsx’ saved [12541/12541]\n",
      "\n",
      "--2025-07-28 14:55:17--  https://raw.githubusercontent.com/JohnSnowLabs/spark-nlp/master/src/test/resources/reader/xls/2023-half-year-analyses-by-segment.xlsx\n",
      "Resolving raw.githubusercontent.com (raw.githubusercontent.com)... 185.199.108.133, 185.199.110.133, 185.199.109.133, ...\n",
      "Connecting to raw.githubusercontent.com (raw.githubusercontent.com)|185.199.108.133|:443... connected.\n",
      "HTTP request sent, awaiting response... 200 OK\n",
      "Length: 38442 (38K) [application/octet-stream]\n",
      "Saving to: ‘excel-files/2023-half-year-analyses-by-segment.xlsx’\n",
      "\n",
      "2023-half-year-anal 100%[===================>]  37.54K  --.-KB/s    in 0.01s   \n",
      "\n",
      "2025-07-28 14:55:17 (2.92 MB/s) - ‘excel-files/2023-half-year-analyses-by-segment.xlsx’ saved [38442/38442]\n",
      "\n",
      "--2025-07-28 14:55:17--  https://raw.githubusercontent.com/JohnSnowLabs/spark-nlp/master/src/test/resources/reader/xls/page-break-example.xlsx\n",
      "Resolving raw.githubusercontent.com (raw.githubusercontent.com)... 185.199.108.133, 185.199.109.133, 185.199.111.133, ...\n",
      "Connecting to raw.githubusercontent.com (raw.githubusercontent.com)|185.199.108.133|:443... connected.\n",
      "HTTP request sent, awaiting response... 200 OK\n",
      "Length: 10676 (10K) [application/octet-stream]\n",
      "Saving to: ‘excel-files/page-break-example.xlsx’\n",
      "\n",
      "page-break-example. 100%[===================>]  10.43K  --.-KB/s    in 0s      \n",
      "\n",
      "2025-07-28 14:55:17 (20.4 MB/s) - ‘excel-files/page-break-example.xlsx’ saved [10676/10676]\n",
      "\n"
     ]
    }
   ],
   "source": [
    "!mkdir excel-files\n",
    "!wget https://raw.githubusercontent.com/JohnSnowLabs/spark-nlp/master/src/test/resources/reader/xls/vodafone.xlsx -P excel-files\n",
    "!wget https://raw.githubusercontent.com/JohnSnowLabs/spark-nlp/master/src/test/resources/reader/xls/2023-half-year-analyses-by-segment.xlsx -P excel-files\n",
    "!wget https://raw.githubusercontent.com/JohnSnowLabs/spark-nlp/master/src/test/resources/reader/xls/page-break-example.xlsx -P excel-files"
   ]
  },
  {
   "cell_type": "code",
   "execution_count": 16,
   "metadata": {
    "colab": {
     "base_uri": "https://localhost:8080/"
    },
    "id": "PQ4MpGw6xCko",
    "outputId": "9f57bbbc-364b-434f-9014-485fcd4b4afa"
   },
   "outputs": [
    {
     "name": "stdout",
     "output_type": "stream",
     "text": [
      "+---------------------------------------+--------------------------------------------------------------------------------------------------------------------------------------------------------------------------------------------------------------------------------------------------------------------------------------------------------------------------------------------------------------------------------------------------------------------------------------------------------------------------------------------------------------------------------------------------------------------------------------------------------------------------------------------------------------------------------------------------------------------------------------------------------------------------------------------------------------------------------------------------------------------------------------------------------------------------------------------------------------------------------------------------------------------------------------------------------------------------------------------------------------------------------------------------------------------------------------------------------------------------------------------------------------------------------------------------------------------------------------------------------------------------------------------------------------------------------------------------------------------------------------------------------------------------------------------------------------------------------------------------------------------------------------------------------------------------------------------------------------------------------------------------------------------------------------------------------------------------------------------------------------------------------------------------------------------------------------------------------------------------------------------------------------------------------------------------------------------------------------------------------------------------------------------------------------------------------------------------------------------------------------------------------------------------------------------------------------------------------------------------------------------------------------------------------------------------------------------------------------------------------------------------------------------------------------------------------------------------------------------------------------------------------------------------------------------------------------------------------------------------------------------------------------------------------------------------------------------------------------------------------------------------------------------------------------------------------------------------------------------------------------------------------------------------------------------------------------------------------------------------------------------------------------------------------------------------------------------------------------------------------------------------------------------------------------------------------------------------------------------------------------------------------------------------------------------------------------------------------------------------------------------------------------------------------------------------------------------------------------------------------------------------------------------------------------------------------------------------------------------------------------------------------------------------------------------------------------------------------------------------------------------------------------------------------------------------------------------------------------------------------------------------------------------------------------------------------------------------------------------------------------------------------------------------------------------------------------------------------------------------------------------------------------------------------------------------------------------------------------------------------------------------------------------------------------------------------------------------------------------------------------------------------------------------------------------------------------------------------------------------------------------------------------------------------------------------------------------------------------------------------------------------------------------------------------------------------------------------------------------------------------------------------------------------------------------------------------------------------------------------------------------------------------------------------------------------------------------------------------------------------------------------------------------------------------------------------------------------------------------------------------------------------------------------------------------------------------------------------------------------------------------------------------------------------------------------------------------------------------------------------------------------------------------------------------------------------------------------------------------------------------------------------------------------------------------------------------------------------------------------------------------------------------------------------------------------------------------------------------------------------------------------------------------------------------------------------------------------------------------------------------------------------------------------------------------------------------------------------------------------------------------------------------------------------------------------------------------------------------------------------------------------------------------------------------------------------------------------------------------------------------------------------------------------------------------------------------------------------------------------------------------------------------------------------------------------------------------------------------------------------------------------------------------------------------------------------------------------------------------------------------------------------------------------------------------------------------------------------------------------------------------------------------------------------------------------------------------------------------------------------------------------------------------------------------------------------------------------------------------------------------------------------------------------------------------------------------------------------------------------------------------------------------------------------------------------------------------------------------------------------------------------------------------------------------------------------------------------------------------------------------------------------------------------------------------------------------------------------------------------------------------------------------------------------------------------------------------------------------------------------------------------------------------------------------------------------------------------------------------------------------------------------------------------------------------------------------------------------------------------------------------------------------------------------------------------------------------------------------------------------------------------------------------------------------------------------------------------------------------------------------------------------------------------------------------------------------------------------------------+\n",
      "|fileName                               |document                                                                                                                                                                                                                                                                                                                                                                                                                                                                                                                                                                                                                                                                                                                                                                                                                                                                                                                                                                                                                                                                                                                                                                                                                                                                                                                                                                                                                                                                                                                                                                                                                                                                                                                                                                                                                                                                                                                                                                                                                                                                                                                                                                                                                                                                                                                                                                                                                                                                                                                                                                                                                                                                                                                                                                                                                                                                                                                                                                                                                                                                                                                                                                                                                                                                                                                                                                                                                                                                                                                                                                                                                                                                                                                                                                                                                                                                                                                                                                                                                                                                                                                                                                                                                                                                                                                                                                                                                                                                                                                                                                                                                                                                                                                                                                                                                                                                                                                                                                                                                                                                                                                                                                                                                                                                                                                                                                                                                                                                                                                                                                                                                                                                                                                                                                                                                                                                                                                                                                                                                                                                                                                                                                                                                                                                                                                                                                                                                                                                                                                                                                                                                                                                                                                                                                                                                                                                                                                                                                                                                                                                                                                                                                                                                                                                                                                                                                                                                                                                                                                                                                                                                                                                                                                                                                                                                                                                                                                                                                                                                                                                                                                                                                                                                                                                                                                                    |\n",
      "+---------------------------------------+--------------------------------------------------------------------------------------------------------------------------------------------------------------------------------------------------------------------------------------------------------------------------------------------------------------------------------------------------------------------------------------------------------------------------------------------------------------------------------------------------------------------------------------------------------------------------------------------------------------------------------------------------------------------------------------------------------------------------------------------------------------------------------------------------------------------------------------------------------------------------------------------------------------------------------------------------------------------------------------------------------------------------------------------------------------------------------------------------------------------------------------------------------------------------------------------------------------------------------------------------------------------------------------------------------------------------------------------------------------------------------------------------------------------------------------------------------------------------------------------------------------------------------------------------------------------------------------------------------------------------------------------------------------------------------------------------------------------------------------------------------------------------------------------------------------------------------------------------------------------------------------------------------------------------------------------------------------------------------------------------------------------------------------------------------------------------------------------------------------------------------------------------------------------------------------------------------------------------------------------------------------------------------------------------------------------------------------------------------------------------------------------------------------------------------------------------------------------------------------------------------------------------------------------------------------------------------------------------------------------------------------------------------------------------------------------------------------------------------------------------------------------------------------------------------------------------------------------------------------------------------------------------------------------------------------------------------------------------------------------------------------------------------------------------------------------------------------------------------------------------------------------------------------------------------------------------------------------------------------------------------------------------------------------------------------------------------------------------------------------------------------------------------------------------------------------------------------------------------------------------------------------------------------------------------------------------------------------------------------------------------------------------------------------------------------------------------------------------------------------------------------------------------------------------------------------------------------------------------------------------------------------------------------------------------------------------------------------------------------------------------------------------------------------------------------------------------------------------------------------------------------------------------------------------------------------------------------------------------------------------------------------------------------------------------------------------------------------------------------------------------------------------------------------------------------------------------------------------------------------------------------------------------------------------------------------------------------------------------------------------------------------------------------------------------------------------------------------------------------------------------------------------------------------------------------------------------------------------------------------------------------------------------------------------------------------------------------------------------------------------------------------------------------------------------------------------------------------------------------------------------------------------------------------------------------------------------------------------------------------------------------------------------------------------------------------------------------------------------------------------------------------------------------------------------------------------------------------------------------------------------------------------------------------------------------------------------------------------------------------------------------------------------------------------------------------------------------------------------------------------------------------------------------------------------------------------------------------------------------------------------------------------------------------------------------------------------------------------------------------------------------------------------------------------------------------------------------------------------------------------------------------------------------------------------------------------------------------------------------------------------------------------------------------------------------------------------------------------------------------------------------------------------------------------------------------------------------------------------------------------------------------------------------------------------------------------------------------------------------------------------------------------------------------------------------------------------------------------------------------------------------------------------------------------------------------------------------------------------------------------------------------------------------------------------------------------------------------------------------------------------------------------------------------------------------------------------------------------------------------------------------------------------------------------------------------------------------------------------------------------------------------------------------------------------------------------------------------------------------------------------------------------------------------------------------------------------------------------------------------------------------------------------------------------------------------------------------------------------------------------------------------------------------------------------------------------------------------------------------------------------------------------------------------------------------------------------------------------------------------------------------------------------------------------------------------------------------------------------------------------------------------------------------------------------------------------------------------------------------------------------------------------------------------------------------------------------------------------------------------------------------------------------------------------------------------------------------------+\n",
      "|page-break-example.xlsx                |[{document, 0, 248, {\"caption\":\"\",\"header\":[],\"rows\":[[\"Assets\",\"Debts\"],[\"Bank1\",\"5865.43\",\"Credit Card1\",\"2000.0\"],[\"Bank2\",\"10140.19\",\"Credit Card2\",\"1500.0\"],[\"Bank3\",\"1200.0\",\"Credit Card3\",\"348.0\"],[\"Bank4\",\"1438.27\",\"Total\",\"SUM(F3:F5)\"],[\"Total\",\"SUM(B3:B6)\"]]}, {SheetName -> Sheet1, elementType -> JSON}, []}]                                                                                                                                                                                                                                                                                                                                                                                                                                                                                                                                                                                                                                                                                                                                                                                                                                                                                                                                                                                                                                                                                                                                                                                                                                                                                                                                                                                                                                                                                                                                                                                                                                                                                                                                                                                                                                                                                                                                                                                                                                                                                                                                                                                                                                                                                                                                                                                                                                                                                                                                                                                                                                                                                                                                                                                                                                                                                                                                                                                                                                                                                                                                                                                                                                                                                                                                                                                                                                                                                                                                                                                                                                                                                                                                                                                                                                                                                                                                                                                                                                                                                                                                                                                                                                                                                                                                                                                                                                                                                                                                                                                                                                                                                                                                                                                                                                                                                                                                                                                                                                                                                                                                                                                                                                                                                                                                                                                                                                                                                                                                                                                                                                                                                                                                                                                                                                                                                                                                                                                                                                                                                                                                                                                                                                                                                                                                                                                                                                                                                                                                                                                                                                                                                                                                                                                                                                                                                                                                                                                                                                                                                                                                                                                                                                                                                                                                                                                                                                                                                                                                                                                                                                                                                                                                                                                                                                                                                                                                                                                                             |\n",
      "|vodafone.xlsx                          |[{document, 0, 979, {\"caption\":\"\",\"header\":[],\"rows\":[[\"Topic\",\"Period\",\"Page\"],[\"Quarterly revenue\",\"Nine quarters to 30 June 2023\",\"1.0\"],[\"Group financial performance\",\"FY 22\",\"FY 23\",\"2.0\"],[\"Segmental results\",\"FY 22\",\"FY 23\",\"3.0\"],[\"Segmental analysis\",\"FY 22\",\"FY 23\",\"4.0\"],[\"Cash flow\",\"FY 22\",\"FY 23\",\"5.0\"],[\"Operational metrics\"],[\"Topic\",\"Period\",\"Page\"],[\"Mobile customers\",\"Nine quarters to 30 June 2023\",\"6.0\"],[\"Fixed broadband customers\",\"Nine quarters to 30 June 2023\",\"7.0\"],[\"Marketable homes passed\",\"Nine quarters to 30 June 2023\",\"8.0\"],[\"TV customers\",\"Nine quarters to 30 June 2023\",\"9.0\"],[\"Converged customers\",\"Nine quarters to 30 June 2023\",\"10.0\"],[\"Mobile churn\",\"Nine quarters to 30 June 2023\",\"11.0\"],[\"Mobile data usage\",\"Nine quarters to 30 June 2023\",\"12.0\"],[\"Mobile ARPU\",\"Nine quarters to 30 June 2023\",\"13.0\"],[\"Other\"],[\"Topic\",\"Period\",\"Page\"],[\"Average foreign exchange rates\",\"Nine quarters to 30 June 2023\",\"14.0\"],[\"Guidance rates\",\"FY 23/24\",\"14.0\"]]}, {SheetName -> Index, elementType -> JSON}, []}]                                                                                                                                                                                                                                                                                                                                                                                                                                                                                                                                                                                                                                                                                                                                                                                                                                                                                                                                                                                                                                                                                                                                                                                                                                                                                                                                                                                                                                                                                                                                                                                                                                                                                                                                                                                                                                                                                                                                                                                                                                                                                                                                                                                                                                                                                                                                                                                                                                                                                                                                                                                                                                                                                                                                                                                                                                                                                                                                                                                                                                                                                                                                                                                                                                                                                                                                                                                                                                                                                                                                                                                                                                                                                                                                                                                                                                                                                                                                                                                                                                                                                                                                                                                                                                                                                                                                                                                                                                                                                                                                                                                                                                                                                                                                                                                                                                                                                                                                                                                                                                                                                                                                                                                                                                                                                                                                                                                                                                                                                                                                                                                                                                                                                                                                                                                                                                                                                                                                                                                                                                                                                                                                                                                                                                                                                                                                                                                                                                                                                                                                                                                                                                                                                                                                                                                                                                                                                                                                                                                                                                                                                                                                                                                                                                                   |\n",
      "|2023-half-year-analyses-by-segment.xlsx|[{document, 0, 2573, {\"caption\":\"\",\"header\":[],\"rows\":[[\"3.1 Operating segments\"],[\"Revenue and results\"],[\"In millions of CHF\",\"January–June 2023\"],[\"Sales (a)\",\"Underlying Trading operating profit (b)\",\"Trading operating profit\",\"Net other trading income/(expenses) (c)\",\"of which impairment of property, plant and equipment\",\"of which restructuring costs\",\"Depreciation and amortization\"],[\"Zone NA\",\"12553.0\",\"2713.0\",\"2632.0\",\"-81.0\",\"-29.0\",\"-44.0\",\"-337.0\"],[\"Zone EUR\",\"9467.0\",\"1570.0\",\"1373.0\",\"-197.0\",\"-5.0\",\"-140.0\",\"-414.0\"],[\"Zone AOA\",\"9060.0\",\"2068.0\",\"1985.0\",\"-83.0\",\"-49.0\",\"-16.0\",\"-259.0\"],[\"Zone LATAM\",\"6082.0\",\"1202.0\",\"1101.0\",\"-101.0\",\"-4.0\",\"-21.0\",\"-192.0\"],[\"Zone GC\",\"2548.0\",\"422.0\",\"418.0\",\"-4.0\",\"-2.0\",\"-2.0\",\"-83.0\"],[\"Nestlé Health Science\",\"3318.0\",\"432.0\",\"372.0\",\"-60.0\",\"-11.0\",\"-31.0\",\"-152.0\"],[\"Nespresso\",\"3128.0\",\"678.0\",\"672.0\",\"-6.0\",\"-9.0\",\"-1.0\",\"-135.0\"],[\"Other businesses (d)\",\"137.0\",\"-17.0\",\"-17.0\",\"0.0\",\"-1.0\",\"0.0\",\"-19.0\"],[\"Unallocated items (e)\",\"0.0\",\"-1164.0\",\"-1185.0\",\"-21.0\",\"0.0\",\"-7.0\",\"-131.0\"],[\"Total\",\"SUM(B9:B17)\",\"SUM(C9:C17)\",\"SUM(D9:D17)\",\"SUM(F9:F17)\",\"SUM(G9:G17)\",\"SUM(H9:H17)\",\"SUM(J9:J17)\"],[\"In millions of CHF\",\"January–June 2022\"],[\"Sales (a)\",\"Underlying Trading operating profit (b)\",\"Trading operating profit\",\"Net other trading income/(expenses) (c)\",\"of which impairment of property, plant and equipment\",\"of which restructuring costs\",\"Depreciation and amortization\"],[\"Zone NA\",\"12138.0\",\"2284.0\",\"1829.0\",\"-455.0\",\"-33.0\",\"-41.0\",\"-348.0\"],[\"Zone EUR\",\"9283.0\",\"1606.0\",\"1494.0\",\"-112.0\",\"-85.0\",\"-14.0\",\"-411.0\"],[\"Zone AOA\",\"9335.0\",\"2198.0\",\"2170.0\",\"-28.0\",\"-5.0\",\"-10.0\",\"-290.0\"],[\"Zone LATAM\",\"5659.0\",\"1196.0\",\"1160.0\",\"-36.0\",\"-6.0\",\"-4.0\",\"-178.0\"],[\"Zone GC\",\"2677.0\",\"400.0\",\"403.0\",\"3.0\",\"2.0\",\"-6.0\",\"-93.0\"],[\"Nestlé Health Science\",\"3167.0\",\"435.0\",\"101.0\",\"-334.0\",\"-6.0\",\"-8.0\",\"-144.0\"],[\"Nespresso\",\"3190.0\",\"777.0\",\"757.0\",\"-20.0\",\"-8.0\",\"—\",\"-143.0\"],[\"Other businesses (d)\",\"131.0\",\"-5.0\",\"-3.0\",\"2.0\",\"—\",\"—\",\"-20.0\"],[\"Unallocated items (e)\",\"—\",\"-1208.0\",\"-1227.0\",\"-19.0\",\"-1.0\",\"-4.0\",\"-129.0\"],[\"Total\",\"SUM(B24:B32)\",\"SUM(C24:C32)\",\"SUM(D24:D32)\",\"SUM(F24:F32)\",\"SUM(G24:G32)\",\"SUM(H24:H32)\",\"SUM(J24:J32)\"],[\"(a) Inter-segment sales are not significant.\"],[\"(b) Trading operating profit before Net other trading income/(expenses).\"],[\"(c) Included in Trading operating profit.\"],[\"(d) Composed of businesses not under the direct control of the Zones or GMBs and Group procurement activities.\"],[\"(e) Mainly corporate expenses as well as research and development costs.\"]]}, {SheetName -> OS-Rev.and results 30 06 2023, elementType -> JSON}, []}, {document, 2574, 3593, {\"caption\":\"\",\"header\":[],\"rows\":[[\"Other information\"],[\"In millions of CHF\",\"January–June 2023\",\"January–June 2022\"],[\"Impairment of goodwill and non-commercialized intangible assets (c)\",\"Impairment of intangible assets (d)\",\"Impairment of goodwill and non-commercialized intangible assets (c)\",\"Impairment of intangible assets (d)\"],[\"Zone NA\",\"0.0\",\"-9.0\",\"—\",\"-285.0\"],[\"Zone EUR\",\"0.0\",\"-23.0\",\"—\",\"—\"],[\"Zone AOA\",\"0.0\",\"-6.0\",\"—\",\"—\"],[\"Zone LATAM\",\"0.0\",\"-14.0\",\"—\",\"—\"],[\"Zone GC\",\"0.0\",\"0.0\",\"—\",\"—\"],[\"Nestlé Health Science\",\"-16.0\",\"-3.0\",\"—\",\"-314.0\"],[\"Nespresso\",\"0.0\",\"0.0\",\"—\",\"—\"],[\"Other businesses (a)\",\"0.0\",\"0.0\",\"—\",\"—\"],[\"Unallocated items (b)\",\"0.0\",\"0.0\",\"—\",\"—\"],[\"Total\",\"SUM(B9:B17)\",\"SUM(C9:C17)\",\"SUM(E9:E17)\",\"SUM(F9:F17)\"],[\"(a) Composed of businesses not under the direct control of the Zones or GMBs and Group procurement activities.\"],[\"(b) Mainly corporate and research and development assets.\"],[\"(c) Included in Operating profit.\"],[\"(d) Included in Trading operating profit.\"]]}, {SheetName -> OS-Other information 30 06 2023, elementType -> JSON}, []}, {document, 3594, 5755, {\"caption\":\"\",\"header\":[],\"rows\":[[\"3.2 Products\"],[\"Revenue and results\"],[\"In millions of CHF\",\"January–June 2023\"],[\"Sales\",\"Underlying Trading operating profit (a)\",\"Trading operating profit\",\"Net other trading income/(expenses) (b)\",\"of which impairment of property, plant and equipment\",\"of which restructuring costs\"],[\"Powdered and Liquid Beverages\",\"12339.0\",\"2607.0\",\"2506.0\",\"-101.0\",\"-50.0\",\"-32.0\"],[\"Water\",\"1706.0\",\"187.0\",\"57.0\",\"-130.0\",\"-6.0\",\"-94.0\"],[\"Milk products and Ice cream\",\"5418.0\",\"1261.0\",\"1227.0\",\"-34.0\",\"-10.0\",\"-15.0\"],[\"Nutrition and Health Science\",\"7832.0\",\"1529.0\",\"1416.0\",\"-113.0\",\"-34.0\",\"-40.0\"],[\"Prepared dishes and cooking aids\",\"5931.0\",\"989.0\",\"924.0\",\"-65.0\",\"-3.0\",\"-52.0\"],[\"Confectionery\",\"3694.0\",\"536.0\",\"467.0\",\"-69.0\",\"-3.0\",\"-11.0\"],[\"PetCare\",\"9373.0\",\"1959.0\",\"1939.0\",\"-20.0\",\"-4.0\",\"-11.0\"],[\"Unallocated items (c)\",\"0.0\",\"-1164.0\",\"-1185.0\",\"-21.0\",\"0.0\",\"-7.0\"],[\"Total\",\"SUM(B9:B16)\",\"SUM(C9:C16)\",\"SUM(D9:D16)\",\"SUM(F9:F16)\",\"SUM(G9:G16)\",\"SUM(H9:H16)\"],[\"In millions of CHF\",\"January–June 2022\"],[\"Sales\",\"Underlying Trading operating profit (a)\",\"Trading operating profit\",\"Net other trading income/(expenses) (b)\",\"of which impairment of property, plant and equipment\",\"of which restructuring costs\"],[\"Powdered and Liquid Beverages\",\"12335.0\",\"2915.0\",\"2873.0\",\"-42.0\",\"-14.0\",\"-7.0\"],[\"Water\",\"1792.0\",\"175.0\",\"176.0\",\"1.0\",\"1.0\",\"-2.0\"],[\"Milk products and Ice cream\",\"5443.0\",\"1192.0\",\"1174.0\",\"-18.0\",\"-2.0\",\"-2.0\"],[\"Nutrition and Health Science\",\"7689.0\",\"1502.0\",\"1106.0\",\"-396.0\",\"-9.0\",\"-18.0\"],[\"Prepared dishes and cooking aids\",\"6137.0\",\"974.0\",\"599.0\",\"-375.0\",\"-52.0\",\"-10.0\"],[\"Confectionery\",\"3595.0\",\"498.0\",\"464.0\",\"-34.0\",\"-11.0\",\"-6.0\"],[\"PetCare\",\"8589.0\",\"1635.0\",\"1519.0\",\"-116.0\",\"-54.0\",\"-38.0\"],[\"Unallocated items (c)\",\"—\",\"-1208.0\",\"-1227.0\",\"-19.0\",\"-1.0\",\"-4.0\"],[\"Total\",\"SUM(B23:B30)\",\"SUM(C23:C30)\",\"SUM(D23:D30)\",\"SUM(F23:F30)\",\"SUM(G23:G30)\",\"SUM(H23:H30)\"],[\"(a) Trading operating profit before Net other trading income/(expenses).\"],[\"(b) Included in Trading operating profit.\"],[\"(c) Mainly corporate expenses as well as research and development costs.\"]]}, {SheetName -> Prod.Rev.and results 30 06 2023, elementType -> JSON}, []}, {document, 5756, 6687, {\"caption\":\"\",\"header\":[],\"rows\":[[\"Other information\"],[\"In millions of CHF\",\"January–June 2023\",\"January–June 2022\"],[\"Impairment of goodwill and non-commercialized intangible assets (b)\",\"Impairment of intangible assets (c)\",\"Impairment of goodwill and non-commercialized intangible assets (b)\",\"Impairment of intangible assets (c)\"],[\"Powdered and Liquid Beverages\",\"0.0\",\"-2.0\",\"—\",\"—\"],[\"Water\",\"0.0\",\"-21.0\",\"—\",\"—\"],[\"Milk products and Ice cream\",\"0.0\",\"0.0\",\"—\",\"—\"],[\"Nutrition and Health Science\",\"-16.0\",\"-5.0\",\"—\",\"-314.0\"],[\"Prepared dishes and cooking aids\",\"0.0\",\"0.0\",\"—\",\"-285.0\"],[\"Confectionery\",\"0.0\",\"-12.0\",\"—\",\"—\"],[\"PetCare\",\"0.0\",\"-15.0\",\"—\",\"—\"],[\"Unallocated items (a)\",\"0.0\",\"0.0\",\"—\",\"—\"],[\"Total\",\"SUM(B9:B16)\",\"SUM(C9:C16)\",\"SUM(E9:E16)\",\"SUM(F9:F16)\"],[\"(a) Mainly corporate and research and development assets.\"],[\"(b) Included in Operating profit.\"],[\"(c) Included in Trading operating profit.\"]]}, {SheetName -> Prod.-Other inform. 30 06 23, elementType -> JSON}, []}, {document, 6688, 7530, {\"caption\":\"\",\"header\":[],\"rows\":[[\"3.4 Reconciliation from Underlying Trading operating profit to profit before taxes, associates and joint ventures\"],[\"In millions of CHF\",\"January–June 2023\",\"January–June 2022\"],[\"Underlying trading operating profit (a) as per Note 3.1\",\"7904.0\",\"7683.0\"],[\"Net other trading income/(expenses) as per Note 5.1\",\"-553.0\",\"-999.0\"],[\"Trading operating profit as per Note 3.1\",\"SUM(B6:B7)\",\"SUM(C6:C7)\"],[\"Impairment of goodwill and non-commercialized intangible assets\",\"-16.0\",\"0.0\"],[\"Net other operating income/(expenses)\",\"-73.0\",\"-65.0\"],[\"Operating profit\",\"SUM(B8:B10)\",\"SUM(C8:C10)\"],[\"Net financial income/(expense)\",\"-697.0\",\"-434.0\"],[\"Profit before taxes, associates and joint ventures\",\"SUM(B11:B12)\",\"SUM(C11:C12)\"],[\"(a) Trading operating profit before Net other trading income/(expenses).\"]]}, {SheetName -> Reconciliation 30 06 2023, elementType -> JSON}, []}]|\n",
      "+---------------------------------------+--------------------------------------------------------------------------------------------------------------------------------------------------------------------------------------------------------------------------------------------------------------------------------------------------------------------------------------------------------------------------------------------------------------------------------------------------------------------------------------------------------------------------------------------------------------------------------------------------------------------------------------------------------------------------------------------------------------------------------------------------------------------------------------------------------------------------------------------------------------------------------------------------------------------------------------------------------------------------------------------------------------------------------------------------------------------------------------------------------------------------------------------------------------------------------------------------------------------------------------------------------------------------------------------------------------------------------------------------------------------------------------------------------------------------------------------------------------------------------------------------------------------------------------------------------------------------------------------------------------------------------------------------------------------------------------------------------------------------------------------------------------------------------------------------------------------------------------------------------------------------------------------------------------------------------------------------------------------------------------------------------------------------------------------------------------------------------------------------------------------------------------------------------------------------------------------------------------------------------------------------------------------------------------------------------------------------------------------------------------------------------------------------------------------------------------------------------------------------------------------------------------------------------------------------------------------------------------------------------------------------------------------------------------------------------------------------------------------------------------------------------------------------------------------------------------------------------------------------------------------------------------------------------------------------------------------------------------------------------------------------------------------------------------------------------------------------------------------------------------------------------------------------------------------------------------------------------------------------------------------------------------------------------------------------------------------------------------------------------------------------------------------------------------------------------------------------------------------------------------------------------------------------------------------------------------------------------------------------------------------------------------------------------------------------------------------------------------------------------------------------------------------------------------------------------------------------------------------------------------------------------------------------------------------------------------------------------------------------------------------------------------------------------------------------------------------------------------------------------------------------------------------------------------------------------------------------------------------------------------------------------------------------------------------------------------------------------------------------------------------------------------------------------------------------------------------------------------------------------------------------------------------------------------------------------------------------------------------------------------------------------------------------------------------------------------------------------------------------------------------------------------------------------------------------------------------------------------------------------------------------------------------------------------------------------------------------------------------------------------------------------------------------------------------------------------------------------------------------------------------------------------------------------------------------------------------------------------------------------------------------------------------------------------------------------------------------------------------------------------------------------------------------------------------------------------------------------------------------------------------------------------------------------------------------------------------------------------------------------------------------------------------------------------------------------------------------------------------------------------------------------------------------------------------------------------------------------------------------------------------------------------------------------------------------------------------------------------------------------------------------------------------------------------------------------------------------------------------------------------------------------------------------------------------------------------------------------------------------------------------------------------------------------------------------------------------------------------------------------------------------------------------------------------------------------------------------------------------------------------------------------------------------------------------------------------------------------------------------------------------------------------------------------------------------------------------------------------------------------------------------------------------------------------------------------------------------------------------------------------------------------------------------------------------------------------------------------------------------------------------------------------------------------------------------------------------------------------------------------------------------------------------------------------------------------------------------------------------------------------------------------------------------------------------------------------------------------------------------------------------------------------------------------------------------------------------------------------------------------------------------------------------------------------------------------------------------------------------------------------------------------------------------------------------------------------------------------------------------------------------------------------------------------------------------------------------------------------------------------------------------------------------------------------------------------------------------------------------------------------------------------------------------------------------------------------------------------------------------------------------------------------------------------------------------------------------------------------------------------------------------------------------------------------------------------------------------------------------+\n",
      "\n"
     ]
    }
   ],
   "source": [
    "reader2table = Reader2Table() \\\n",
    "    .setContentType(\"application/vnd.ms-excel\") \\\n",
    "    .setContentPath(\"./excel-files\") \\\n",
    "    .setOutputCol(\"document\")\n",
    "\n",
    "pipeline = Pipeline(stages=[reader2table])\n",
    "model = pipeline.fit(empty_df)\n",
    "\n",
    "result_df = model.transform(empty_df)\n",
    "result_df.show(truncate=False)"
   ]
  },
  {
   "cell_type": "markdown",
   "metadata": {
    "id": "8qB4uXOFiqO0"
   },
   "source": [
    "## Reading Mardown Documents"
   ]
  },
  {
   "cell_type": "code",
   "execution_count": 17,
   "metadata": {
    "colab": {
     "base_uri": "https://localhost:8080/"
    },
    "id": "J4OpCThUiriY",
    "outputId": "eac6c095-bdd5-453b-e1f9-2a54735194cd"
   },
   "outputs": [
    {
     "name": "stdout",
     "output_type": "stream",
     "text": [
      "--2025-07-28 14:55:19--  https://raw.githubusercontent.com/JohnSnowLabs/spark-nlp/feature/SPARKNLP-1260-Implement-Reader2Table-Annotator/src/test/resources/reader/md/simple-table.md\n",
      "Resolving raw.githubusercontent.com (raw.githubusercontent.com)... 185.199.108.133, 185.199.109.133, 185.199.110.133, ...\n",
      "Connecting to raw.githubusercontent.com (raw.githubusercontent.com)|185.199.108.133|:443... connected.\n",
      "HTTP request sent, awaiting response... 200 OK\n",
      "Length: 82 [text/plain]\n",
      "Saving to: ‘md-files/simple-table.md’\n",
      "\n",
      "\r",
      "simple-table.md       0%[                    ]       0  --.-KB/s               \r",
      "simple-table.md     100%[===================>]      82  --.-KB/s    in 0s      \n",
      "\n",
      "2025-07-28 14:55:19 (3.63 MB/s) - ‘md-files/simple-table.md’ saved [82/82]\n",
      "\n"
     ]
    }
   ],
   "source": [
    "!mkdir md-files\n",
    "!wget https://raw.githubusercontent.com/JohnSnowLabs/spark-nlp/master/src/test/resources/reader/md/simple-table.md -P md-files"
   ]
  },
  {
   "cell_type": "code",
   "execution_count": 18,
   "metadata": {
    "colab": {
     "base_uri": "https://localhost:8080/"
    },
    "id": "ZjpuIEatz5yt",
    "outputId": "09aa18b2-9917-4e05-f34b-157bdba1dfd3"
   },
   "outputs": [
    {
     "name": "stdout",
     "output_type": "stream",
     "text": [
      "+---------------+-----------------------------------------------------------------------------------------------------------------------------------------------------------------------------------------------------+\n",
      "|fileName       |document                                                                                                                                                                                             |\n",
      "+---------------+-----------------------------------------------------------------------------------------------------------------------------------------------------------------------------------------------------+\n",
      "|simple-table.md|[{document, 0, 114, {\"caption\":\"\",\"header\":[\"Item\",\"Price\",\"# In stock\"],\"rows\":[[\"Juicy Apples\",\"1.99\",\"739\"],[\"Bananas\",\"1.89\",\"6\"]]}, {pageNumber -> 1, sentence -> 0, elementType -> Table}, []}]|\n",
      "+---------------+-----------------------------------------------------------------------------------------------------------------------------------------------------------------------------------------------------+\n",
      "\n"
     ]
    }
   ],
   "source": [
    "reader2table = Reader2Table() \\\n",
    "    .setContentType(\"text/markdown\") \\\n",
    "    .setContentPath(\"./md-files\") \\\n",
    "    .setOutputCol(\"document\")\n",
    "\n",
    "pipeline = Pipeline(stages=[reader2table])\n",
    "model = pipeline.fit(empty_df)\n",
    "\n",
    "result_df = model.transform(empty_df)\n",
    "result_df.show(truncate=False)"
   ]
  },
  {
   "cell_type": "markdown",
   "metadata": {
    "id": "yqRAX3M-L2ss"
   },
   "source": [
    "## Reading CSV Documents"
   ]
  },
  {
   "cell_type": "code",
   "execution_count": 19,
   "metadata": {
    "colab": {
     "base_uri": "https://localhost:8080/"
    },
    "id": "ZhzaltX-L510",
    "outputId": "4c385492-ed7d-4290-809f-338af89c0b31"
   },
   "outputs": [
    {
     "name": "stdout",
     "output_type": "stream",
     "text": [
      "--2025-07-28 14:55:21--  https://raw.githubusercontent.com/JohnSnowLabs/spark-nlp/feature/SPARKNLP-1260-Implement-Reader2Table-Annotator/src/test/resources/reader/csv/stanley-cups.csv\n",
      "Resolving raw.githubusercontent.com (raw.githubusercontent.com)... 185.199.108.133, 185.199.109.133, 185.199.110.133, ...\n",
      "Connecting to raw.githubusercontent.com (raw.githubusercontent.com)|185.199.108.133|:443... connected.\n",
      "HTTP request sent, awaiting response... 200 OK\n",
      "Length: 91 [text/plain]\n",
      "Saving to: ‘csv-files/stanley-cups.csv’\n",
      "\n",
      "\r",
      "stanley-cups.csv      0%[                    ]       0  --.-KB/s               \r",
      "stanley-cups.csv    100%[===================>]      91  --.-KB/s    in 0s      \n",
      "\n",
      "2025-07-28 14:55:21 (1.11 MB/s) - ‘csv-files/stanley-cups.csv’ saved [91/91]\n",
      "\n"
     ]
    }
   ],
   "source": [
    "!mkdir csv-files\n",
    "!wget https://raw.githubusercontent.com/JohnSnowLabs/spark-nlp/master/src/test/resources/reader/csv/stanley-cups.csv -P csv-files"
   ]
  },
  {
   "cell_type": "code",
   "execution_count": 20,
   "metadata": {
    "colab": {
     "base_uri": "https://localhost:8080/"
    },
    "id": "ZsUq3d-ROy9E",
    "outputId": "aa5d9595-1d38-407c-ae10-48fa0ff775ac"
   },
   "outputs": [
    {
     "name": "stdout",
     "output_type": "stream",
     "text": [
      "+----------------+--------------------------------------------------------------------------------------------------------------------------------------------------------------------------------------------+\n",
      "|fileName        |document                                                                                                                                                                                    |\n",
      "+----------------+--------------------------------------------------------------------------------------------------------------------------------------------------------------------------------------------+\n",
      "|stanley-cups.csv|[{document, 0, 137, {\"caption\":\"\",\"header\":[],\"rows\":[[\"Team\",\"Location\",\"Stanley Cups\"],[\"Blues\",\"STL\",\"1\"],[\"Flyers\",\"PHI\",\"2\"],[\"Maple Leafs\",\"TOR\",\"13\"]]}, {elementType -> Table}, []}]|\n",
      "+----------------+--------------------------------------------------------------------------------------------------------------------------------------------------------------------------------------------+\n",
      "\n"
     ]
    }
   ],
   "source": [
    "reader2table = Reader2Table() \\\n",
    "    .setContentType(\"text/csv\") \\\n",
    "    .setContentPath(\"./csv-files\") \\\n",
    "    .setOutputCol(\"document\")\n",
    "\n",
    "pipeline = Pipeline(stages=[reader2table])\n",
    "model = pipeline.fit(empty_df)\n",
    "\n",
    "result_df = model.transform(empty_df)\n",
    "result_df.show(truncate=False)"
   ]
  },
  {
   "cell_type": "markdown",
   "metadata": {
    "id": "GMxLm81mLv_c"
   },
   "source": [
    "## Parameters"
   ]
  },
  {
   "cell_type": "markdown",
   "metadata": {
    "id": "z4YGo70IMA9q"
   },
   "source": [
    "We can explode the output by setting `explodeDocs` to `true`"
   ]
  },
  {
   "cell_type": "code",
   "execution_count": 21,
   "metadata": {
    "colab": {
     "base_uri": "https://localhost:8080/"
    },
    "id": "zFdH0OV2L96F",
    "outputId": "ea666f93-1be6-48a7-d5d9-41cf0e39daf2"
   },
   "outputs": [
    {
     "name": "stdout",
     "output_type": "stream",
     "text": [
      "+---------------------------------------+----------------------------------------------------------------------------------------------------------------------------------------------------------------------------------------------------------------------------------------------------------------------------------------------------------------------------------------------------------------------------------------------------------------------------------------------------------------------------------------------------------------------------------------------------------------------------------------------------------------------------------------------------------------------------------------------------------------------------------------------------------------------------------------------------------------------------------------------------------------------------------------------------------------------------------------------------------------------------------------------------------------------------------------------------------------------------------------------------------------------------------------------------------------------------------------------------------------------------------------------------------------------------------------------------------------------------------------------------------------------------------------------------------------------------------------------------------------------------------------------------------------------------------------------------------------------------------------------------------------------------------------------------------------------------------------------------------------------------------------------------------------------------------------------------------------------------------------------------------------------------------------------------------------------------------------------------------------------------------------------------------------------------------------------------------------------------------------------------------------------------------------------------------------------------------------------------------------------------------------------------------------------------------------------------------------------------------------------------------------------------------------------------------------------------------------------------------------------------------------------------------------------------------------------------------------------------------------------------------------------------------------------------------------------------------------------------------------------------------------------------------------------------+\n",
      "|fileName                               |document                                                                                                                                                                                                                                                                                                                                                                                                                                                                                                                                                                                                                                                                                                                                                                                                                                                                                                                                                                                                                                                                                                                                                                                                                                                                                                                                                                                                                                                                                                                                                                                                                                                                                                                                                                                                                                                                                                                                                                                                                                                                                                                                                                                                                                                                                                                                                                                                                                                                                                                                                                                                                                                                                                                                                                    |\n",
      "+---------------------------------------+----------------------------------------------------------------------------------------------------------------------------------------------------------------------------------------------------------------------------------------------------------------------------------------------------------------------------------------------------------------------------------------------------------------------------------------------------------------------------------------------------------------------------------------------------------------------------------------------------------------------------------------------------------------------------------------------------------------------------------------------------------------------------------------------------------------------------------------------------------------------------------------------------------------------------------------------------------------------------------------------------------------------------------------------------------------------------------------------------------------------------------------------------------------------------------------------------------------------------------------------------------------------------------------------------------------------------------------------------------------------------------------------------------------------------------------------------------------------------------------------------------------------------------------------------------------------------------------------------------------------------------------------------------------------------------------------------------------------------------------------------------------------------------------------------------------------------------------------------------------------------------------------------------------------------------------------------------------------------------------------------------------------------------------------------------------------------------------------------------------------------------------------------------------------------------------------------------------------------------------------------------------------------------------------------------------------------------------------------------------------------------------------------------------------------------------------------------------------------------------------------------------------------------------------------------------------------------------------------------------------------------------------------------------------------------------------------------------------------------------------------------------------------+\n",
      "|page-break-example.xlsx                |[{document, 0, 248, {\"caption\":\"\",\"header\":[],\"rows\":[[\"Assets\",\"Debts\"],[\"Bank1\",\"5865.43\",\"Credit Card1\",\"2000.0\"],[\"Bank2\",\"10140.19\",\"Credit Card2\",\"1500.0\"],[\"Bank3\",\"1200.0\",\"Credit Card3\",\"348.0\"],[\"Bank4\",\"1438.27\",\"Total\",\"SUM(F3:F5)\"],[\"Total\",\"SUM(B3:B6)\"]]}, {SheetName -> Sheet1, elementType -> JSON}, []}]                                                                                                                                                                                                                                                                                                                                                                                                                                                                                                                                                                                                                                                                                                                                                                                                                                                                                                                                                                                                                                                                                                                                                                                                                                                                                                                                                                                                                                                                                                                                                                                                                                                                                                                                                                                                                                                                                                                                                                                                                                                                                                                                                                                                                                                                                                                                                                                                                                             |\n",
      "|vodafone.xlsx                          |[{document, 0, 979, {\"caption\":\"\",\"header\":[],\"rows\":[[\"Topic\",\"Period\",\"Page\"],[\"Quarterly revenue\",\"Nine quarters to 30 June 2023\",\"1.0\"],[\"Group financial performance\",\"FY 22\",\"FY 23\",\"2.0\"],[\"Segmental results\",\"FY 22\",\"FY 23\",\"3.0\"],[\"Segmental analysis\",\"FY 22\",\"FY 23\",\"4.0\"],[\"Cash flow\",\"FY 22\",\"FY 23\",\"5.0\"],[\"Operational metrics\"],[\"Topic\",\"Period\",\"Page\"],[\"Mobile customers\",\"Nine quarters to 30 June 2023\",\"6.0\"],[\"Fixed broadband customers\",\"Nine quarters to 30 June 2023\",\"7.0\"],[\"Marketable homes passed\",\"Nine quarters to 30 June 2023\",\"8.0\"],[\"TV customers\",\"Nine quarters to 30 June 2023\",\"9.0\"],[\"Converged customers\",\"Nine quarters to 30 June 2023\",\"10.0\"],[\"Mobile churn\",\"Nine quarters to 30 June 2023\",\"11.0\"],[\"Mobile data usage\",\"Nine quarters to 30 June 2023\",\"12.0\"],[\"Mobile ARPU\",\"Nine quarters to 30 June 2023\",\"13.0\"],[\"Other\"],[\"Topic\",\"Period\",\"Page\"],[\"Average foreign exchange rates\",\"Nine quarters to 30 June 2023\",\"14.0\"],[\"Guidance rates\",\"FY 23/24\",\"14.0\"]]}, {SheetName -> Index, elementType -> JSON}, []}]                                                                                                                                                                                                                                                                                                                                                                                                                                                                                                                                                                                                                                                                                                                                                                                                                                                                                                                                                                                                                                                                                                                                                                                                                                                                                                                                                                                                                                                                                                                                                                                                                                                                                   |\n",
      "|2023-half-year-analyses-by-segment.xlsx|[{document, 0, 2573, {\"caption\":\"\",\"header\":[],\"rows\":[[\"3.1 Operating segments\"],[\"Revenue and results\"],[\"In millions of CHF\",\"January–June 2023\"],[\"Sales (a)\",\"Underlying Trading operating profit (b)\",\"Trading operating profit\",\"Net other trading income/(expenses) (c)\",\"of which impairment of property, plant and equipment\",\"of which restructuring costs\",\"Depreciation and amortization\"],[\"Zone NA\",\"12553.0\",\"2713.0\",\"2632.0\",\"-81.0\",\"-29.0\",\"-44.0\",\"-337.0\"],[\"Zone EUR\",\"9467.0\",\"1570.0\",\"1373.0\",\"-197.0\",\"-5.0\",\"-140.0\",\"-414.0\"],[\"Zone AOA\",\"9060.0\",\"2068.0\",\"1985.0\",\"-83.0\",\"-49.0\",\"-16.0\",\"-259.0\"],[\"Zone LATAM\",\"6082.0\",\"1202.0\",\"1101.0\",\"-101.0\",\"-4.0\",\"-21.0\",\"-192.0\"],[\"Zone GC\",\"2548.0\",\"422.0\",\"418.0\",\"-4.0\",\"-2.0\",\"-2.0\",\"-83.0\"],[\"Nestlé Health Science\",\"3318.0\",\"432.0\",\"372.0\",\"-60.0\",\"-11.0\",\"-31.0\",\"-152.0\"],[\"Nespresso\",\"3128.0\",\"678.0\",\"672.0\",\"-6.0\",\"-9.0\",\"-1.0\",\"-135.0\"],[\"Other businesses (d)\",\"137.0\",\"-17.0\",\"-17.0\",\"0.0\",\"-1.0\",\"0.0\",\"-19.0\"],[\"Unallocated items (e)\",\"0.0\",\"-1164.0\",\"-1185.0\",\"-21.0\",\"0.0\",\"-7.0\",\"-131.0\"],[\"Total\",\"SUM(B9:B17)\",\"SUM(C9:C17)\",\"SUM(D9:D17)\",\"SUM(F9:F17)\",\"SUM(G9:G17)\",\"SUM(H9:H17)\",\"SUM(J9:J17)\"],[\"In millions of CHF\",\"January–June 2022\"],[\"Sales (a)\",\"Underlying Trading operating profit (b)\",\"Trading operating profit\",\"Net other trading income/(expenses) (c)\",\"of which impairment of property, plant and equipment\",\"of which restructuring costs\",\"Depreciation and amortization\"],[\"Zone NA\",\"12138.0\",\"2284.0\",\"1829.0\",\"-455.0\",\"-33.0\",\"-41.0\",\"-348.0\"],[\"Zone EUR\",\"9283.0\",\"1606.0\",\"1494.0\",\"-112.0\",\"-85.0\",\"-14.0\",\"-411.0\"],[\"Zone AOA\",\"9335.0\",\"2198.0\",\"2170.0\",\"-28.0\",\"-5.0\",\"-10.0\",\"-290.0\"],[\"Zone LATAM\",\"5659.0\",\"1196.0\",\"1160.0\",\"-36.0\",\"-6.0\",\"-4.0\",\"-178.0\"],[\"Zone GC\",\"2677.0\",\"400.0\",\"403.0\",\"3.0\",\"2.0\",\"-6.0\",\"-93.0\"],[\"Nestlé Health Science\",\"3167.0\",\"435.0\",\"101.0\",\"-334.0\",\"-6.0\",\"-8.0\",\"-144.0\"],[\"Nespresso\",\"3190.0\",\"777.0\",\"757.0\",\"-20.0\",\"-8.0\",\"—\",\"-143.0\"],[\"Other businesses (d)\",\"131.0\",\"-5.0\",\"-3.0\",\"2.0\",\"—\",\"—\",\"-20.0\"],[\"Unallocated items (e)\",\"—\",\"-1208.0\",\"-1227.0\",\"-19.0\",\"-1.0\",\"-4.0\",\"-129.0\"],[\"Total\",\"SUM(B24:B32)\",\"SUM(C24:C32)\",\"SUM(D24:D32)\",\"SUM(F24:F32)\",\"SUM(G24:G32)\",\"SUM(H24:H32)\",\"SUM(J24:J32)\"],[\"(a) Inter-segment sales are not significant.\"],[\"(b) Trading operating profit before Net other trading income/(expenses).\"],[\"(c) Included in Trading operating profit.\"],[\"(d) Composed of businesses not under the direct control of the Zones or GMBs and Group procurement activities.\"],[\"(e) Mainly corporate expenses as well as research and development costs.\"]]}, {SheetName -> OS-Rev.and results 30 06 2023, elementType -> JSON}, []}]|\n",
      "|2023-half-year-analyses-by-segment.xlsx|[{document, 2574, 3593, {\"caption\":\"\",\"header\":[],\"rows\":[[\"Other information\"],[\"In millions of CHF\",\"January–June 2023\",\"January–June 2022\"],[\"Impairment of goodwill and non-commercialized intangible assets (c)\",\"Impairment of intangible assets (d)\",\"Impairment of goodwill and non-commercialized intangible assets (c)\",\"Impairment of intangible assets (d)\"],[\"Zone NA\",\"0.0\",\"-9.0\",\"—\",\"-285.0\"],[\"Zone EUR\",\"0.0\",\"-23.0\",\"—\",\"—\"],[\"Zone AOA\",\"0.0\",\"-6.0\",\"—\",\"—\"],[\"Zone LATAM\",\"0.0\",\"-14.0\",\"—\",\"—\"],[\"Zone GC\",\"0.0\",\"0.0\",\"—\",\"—\"],[\"Nestlé Health Science\",\"-16.0\",\"-3.0\",\"—\",\"-314.0\"],[\"Nespresso\",\"0.0\",\"0.0\",\"—\",\"—\"],[\"Other businesses (a)\",\"0.0\",\"0.0\",\"—\",\"—\"],[\"Unallocated items (b)\",\"0.0\",\"0.0\",\"—\",\"—\"],[\"Total\",\"SUM(B9:B17)\",\"SUM(C9:C17)\",\"SUM(E9:E17)\",\"SUM(F9:F17)\"],[\"(a) Composed of businesses not under the direct control of the Zones or GMBs and Group procurement activities.\"],[\"(b) Mainly corporate and research and development assets.\"],[\"(c) Included in Operating profit.\"],[\"(d) Included in Trading operating profit.\"]]}, {SheetName -> OS-Other information 30 06 2023, elementType -> JSON}, []}]                                                                                                                                                                                                                                                                                                                                                                                                                                                                                                                                                                                                                                                                                                                                                                                                                                                                                                                                                                                                                                                                                                                                                                                                                                                                                                                                                                                                                                                                                                                                                                                                             |\n",
      "|2023-half-year-analyses-by-segment.xlsx|[{document, 3594, 5755, {\"caption\":\"\",\"header\":[],\"rows\":[[\"3.2 Products\"],[\"Revenue and results\"],[\"In millions of CHF\",\"January–June 2023\"],[\"Sales\",\"Underlying Trading operating profit (a)\",\"Trading operating profit\",\"Net other trading income/(expenses) (b)\",\"of which impairment of property, plant and equipment\",\"of which restructuring costs\"],[\"Powdered and Liquid Beverages\",\"12339.0\",\"2607.0\",\"2506.0\",\"-101.0\",\"-50.0\",\"-32.0\"],[\"Water\",\"1706.0\",\"187.0\",\"57.0\",\"-130.0\",\"-6.0\",\"-94.0\"],[\"Milk products and Ice cream\",\"5418.0\",\"1261.0\",\"1227.0\",\"-34.0\",\"-10.0\",\"-15.0\"],[\"Nutrition and Health Science\",\"7832.0\",\"1529.0\",\"1416.0\",\"-113.0\",\"-34.0\",\"-40.0\"],[\"Prepared dishes and cooking aids\",\"5931.0\",\"989.0\",\"924.0\",\"-65.0\",\"-3.0\",\"-52.0\"],[\"Confectionery\",\"3694.0\",\"536.0\",\"467.0\",\"-69.0\",\"-3.0\",\"-11.0\"],[\"PetCare\",\"9373.0\",\"1959.0\",\"1939.0\",\"-20.0\",\"-4.0\",\"-11.0\"],[\"Unallocated items (c)\",\"0.0\",\"-1164.0\",\"-1185.0\",\"-21.0\",\"0.0\",\"-7.0\"],[\"Total\",\"SUM(B9:B16)\",\"SUM(C9:C16)\",\"SUM(D9:D16)\",\"SUM(F9:F16)\",\"SUM(G9:G16)\",\"SUM(H9:H16)\"],[\"In millions of CHF\",\"January–June 2022\"],[\"Sales\",\"Underlying Trading operating profit (a)\",\"Trading operating profit\",\"Net other trading income/(expenses) (b)\",\"of which impairment of property, plant and equipment\",\"of which restructuring costs\"],[\"Powdered and Liquid Beverages\",\"12335.0\",\"2915.0\",\"2873.0\",\"-42.0\",\"-14.0\",\"-7.0\"],[\"Water\",\"1792.0\",\"175.0\",\"176.0\",\"1.0\",\"1.0\",\"-2.0\"],[\"Milk products and Ice cream\",\"5443.0\",\"1192.0\",\"1174.0\",\"-18.0\",\"-2.0\",\"-2.0\"],[\"Nutrition and Health Science\",\"7689.0\",\"1502.0\",\"1106.0\",\"-396.0\",\"-9.0\",\"-18.0\"],[\"Prepared dishes and cooking aids\",\"6137.0\",\"974.0\",\"599.0\",\"-375.0\",\"-52.0\",\"-10.0\"],[\"Confectionery\",\"3595.0\",\"498.0\",\"464.0\",\"-34.0\",\"-11.0\",\"-6.0\"],[\"PetCare\",\"8589.0\",\"1635.0\",\"1519.0\",\"-116.0\",\"-54.0\",\"-38.0\"],[\"Unallocated items (c)\",\"—\",\"-1208.0\",\"-1227.0\",\"-19.0\",\"-1.0\",\"-4.0\"],[\"Total\",\"SUM(B23:B30)\",\"SUM(C23:C30)\",\"SUM(D23:D30)\",\"SUM(F23:F30)\",\"SUM(G23:G30)\",\"SUM(H23:H30)\"],[\"(a) Trading operating profit before Net other trading income/(expenses).\"],[\"(b) Included in Trading operating profit.\"],[\"(c) Mainly corporate expenses as well as research and development costs.\"]]}, {SheetName -> Prod.Rev.and results 30 06 2023, elementType -> JSON}, []}]                                                                                                                                                                                                                                                                                                                                                                                                                       |\n",
      "|2023-half-year-analyses-by-segment.xlsx|[{document, 5756, 6687, {\"caption\":\"\",\"header\":[],\"rows\":[[\"Other information\"],[\"In millions of CHF\",\"January–June 2023\",\"January–June 2022\"],[\"Impairment of goodwill and non-commercialized intangible assets (b)\",\"Impairment of intangible assets (c)\",\"Impairment of goodwill and non-commercialized intangible assets (b)\",\"Impairment of intangible assets (c)\"],[\"Powdered and Liquid Beverages\",\"0.0\",\"-2.0\",\"—\",\"—\"],[\"Water\",\"0.0\",\"-21.0\",\"—\",\"—\"],[\"Milk products and Ice cream\",\"0.0\",\"0.0\",\"—\",\"—\"],[\"Nutrition and Health Science\",\"-16.0\",\"-5.0\",\"—\",\"-314.0\"],[\"Prepared dishes and cooking aids\",\"0.0\",\"0.0\",\"—\",\"-285.0\"],[\"Confectionery\",\"0.0\",\"-12.0\",\"—\",\"—\"],[\"PetCare\",\"0.0\",\"-15.0\",\"—\",\"—\"],[\"Unallocated items (a)\",\"0.0\",\"0.0\",\"—\",\"—\"],[\"Total\",\"SUM(B9:B16)\",\"SUM(C9:C16)\",\"SUM(E9:E16)\",\"SUM(F9:F16)\"],[\"(a) Mainly corporate and research and development assets.\"],[\"(b) Included in Operating profit.\"],[\"(c) Included in Trading operating profit.\"]]}, {SheetName -> Prod.-Other inform. 30 06 23, elementType -> JSON}, []}]                                                                                                                                                                                                                                                                                                                                                                                                                                                                                                                                                                                                                                                                                                                                                                                                                                                                                                                                                                                                                                                                                                                                                                                                                                                                                                                                                                                                                                                                                                                                                                                                                                                                                                        |\n",
      "|2023-half-year-analyses-by-segment.xlsx|[{document, 6688, 7530, {\"caption\":\"\",\"header\":[],\"rows\":[[\"3.4 Reconciliation from Underlying Trading operating profit to profit before taxes, associates and joint ventures\"],[\"In millions of CHF\",\"January–June 2023\",\"January–June 2022\"],[\"Underlying trading operating profit (a) as per Note 3.1\",\"7904.0\",\"7683.0\"],[\"Net other trading income/(expenses) as per Note 5.1\",\"-553.0\",\"-999.0\"],[\"Trading operating profit as per Note 3.1\",\"SUM(B6:B7)\",\"SUM(C6:C7)\"],[\"Impairment of goodwill and non-commercialized intangible assets\",\"-16.0\",\"0.0\"],[\"Net other operating income/(expenses)\",\"-73.0\",\"-65.0\"],[\"Operating profit\",\"SUM(B8:B10)\",\"SUM(C8:C10)\"],[\"Net financial income/(expense)\",\"-697.0\",\"-434.0\"],[\"Profit before taxes, associates and joint ventures\",\"SUM(B11:B12)\",\"SUM(C11:C12)\"],[\"(a) Trading operating profit before Net other trading income/(expenses).\"]]}, {SheetName -> Reconciliation 30 06 2023, elementType -> JSON}, []}]                                                                                                                                                                                                                                                                                                                                                                                                                                                                                                                                                                                                                                                                                                                                                                                                                                                                                                                                                                                                                                                                                                                                                                                                                                                                                                                                                                                                                                                                                                                                                                                                                                                                                                                                                                                                    |\n",
      "+---------------------------------------+----------------------------------------------------------------------------------------------------------------------------------------------------------------------------------------------------------------------------------------------------------------------------------------------------------------------------------------------------------------------------------------------------------------------------------------------------------------------------------------------------------------------------------------------------------------------------------------------------------------------------------------------------------------------------------------------------------------------------------------------------------------------------------------------------------------------------------------------------------------------------------------------------------------------------------------------------------------------------------------------------------------------------------------------------------------------------------------------------------------------------------------------------------------------------------------------------------------------------------------------------------------------------------------------------------------------------------------------------------------------------------------------------------------------------------------------------------------------------------------------------------------------------------------------------------------------------------------------------------------------------------------------------------------------------------------------------------------------------------------------------------------------------------------------------------------------------------------------------------------------------------------------------------------------------------------------------------------------------------------------------------------------------------------------------------------------------------------------------------------------------------------------------------------------------------------------------------------------------------------------------------------------------------------------------------------------------------------------------------------------------------------------------------------------------------------------------------------------------------------------------------------------------------------------------------------------------------------------------------------------------------------------------------------------------------------------------------------------------------------------------------------------------+\n",
      "\n"
     ]
    }
   ],
   "source": [
    "reader2table = Reader2Table() \\\n",
    "    .setContentType(\"application/vnd.ms-excel\") \\\n",
    "    .setContentPath(\"./excel-files\") \\\n",
    "    .setExplodeDocs(True) \\\n",
    "    .setOutputCol(\"document\")\n",
    "\n",
    "pipeline = Pipeline(stages=[reader2table])\n",
    "model = pipeline.fit(empty_df)\n",
    "\n",
    "result_df = model.transform(empty_df)\n",
    "result_df.show(truncate=False)"
   ]
  },
  {
   "cell_type": "markdown",
   "metadata": {
    "id": "RAyKKnNHeonj"
   },
   "source": [
    "We can set the output as an HTML representation of the table, setting `outputFormat` to `html-table`"
   ]
  },
  {
   "cell_type": "code",
   "execution_count": 22,
   "metadata": {
    "colab": {
     "base_uri": "https://localhost:8080/"
    },
    "id": "XXyRwV17enQe",
    "outputId": "4422c71e-0c34-418f-b42f-9c1af212b8a3"
   },
   "outputs": [
    {
     "name": "stdout",
     "output_type": "stream",
     "text": [
      "+----------------+----------------------------------------------------------------------------------------------------------------------------------------------------------------------------------------------------------------------------------------------------------------------------------------------------------------------------+\n",
      "|fileName        |document                                                                                                                                                                                                                                                                                                                    |\n",
      "+----------------+----------------------------------------------------------------------------------------------------------------------------------------------------------------------------------------------------------------------------------------------------------------------------------------------------------------------------+\n",
      "|stanley-cups.csv|[{document, 0, 265, <table><tr><td>Stanley Cups</td><td></td><td></td></tr><tr><td>Team</td><td>Location</td><td>Stanley Cups</td></tr><tr><td>Blues</td><td>STL</td><td>1</td></tr><tr><td>Flyers</td><td>PHI</td><td>2</td></tr><tr><td>Maple Leafs</td><td>TOR</td><td>13</td></tr></table>, {elementType -> Table}, []}]|\n",
      "+----------------+----------------------------------------------------------------------------------------------------------------------------------------------------------------------------------------------------------------------------------------------------------------------------------------------------------------------------+\n",
      "\n"
     ]
    }
   ],
   "source": [
    "reader2table = Reader2Table() \\\n",
    "    .setContentType(\"text/csv\") \\\n",
    "    .setContentPath(\"./csv-files\") \\\n",
    "    .setOutputFormat(\"html-table\") \\\n",
    "    .setOutputCol(\"document\")\n",
    "\n",
    "pipeline = Pipeline(stages=[reader2table])\n",
    "model = pipeline.fit(empty_df)\n",
    "\n",
    "result_df = model.transform(empty_df)\n",
    "result_df.show(truncate=False)"
   ]
  },
  {
   "cell_type": "markdown",
   "metadata": {
    "id": "aucJ6Aa9Ne4k"
   },
   "source": [
    "## Pipeline Integration"
   ]
  },
  {
   "cell_type": "markdown",
   "metadata": {
    "id": "4NlyM21qNir5"
   },
   "source": [
    "We can integrate with pipelines. For example, with a simple `Tokenizer`:"
   ]
  },
  {
   "cell_type": "code",
   "execution_count": 23,
   "metadata": {
    "id": "KXkLK7WWNgS4"
   },
   "outputs": [],
   "source": [
    "from sparknlp.annotator import *\n",
    "from sparknlp.base import *\n",
    "\n",
    "empty_df = spark.createDataFrame([], \"string\").toDF(\"text\")\n",
    "\n",
    "regex_tok = RegexTokenizer() \\\n",
    "    .setInputCols([\"document\"]) \\\n",
    "    .setOutputCol(\"regex_token\")\n",
    "\n",
    "pipeline = Pipeline(stages=[reader2table, regex_tok])\n",
    "model = pipeline.fit(empty_df)\n",
    "\n",
    "result_df = model.transform(empty_df)"
   ]
  },
  {
   "cell_type": "code",
   "execution_count": 24,
   "metadata": {
    "colab": {
     "base_uri": "https://localhost:8080/"
    },
    "id": "mc3RPhLROAg8",
    "outputId": "8583e095-ddd9-49db-b1b5-d44e465f7d2f"
   },
   "outputs": [
    {
     "name": "stdout",
     "output_type": "stream",
     "text": [
      "+----------------+--------------------+--------------------+\n",
      "|        fileName|            document|         regex_token|\n",
      "+----------------+--------------------+--------------------+\n",
      "|stanley-cups.csv|[{document, 0, 26...|[{token, 0, 21, <...|\n",
      "+----------------+--------------------+--------------------+\n",
      "\n"
     ]
    }
   ],
   "source": [
    "result_df.show()"
   ]
  }
 ],
 "metadata": {
  "colab": {
   "provenance": [],
   "toc_visible": true
  },
  "kernelspec": {
   "display_name": "Python 3 (ipykernel)",
   "language": "python",
   "name": "python3"
  },
  "language_info": {
   "codemirror_mode": {
    "name": "ipython",
    "version": 3
   },
   "file_extension": ".py",
   "mimetype": "text/x-python",
   "name": "python",
   "nbconvert_exporter": "python",
   "pygments_lexer": "ipython3",
   "version": "3.10.12"
  }
 },
 "nbformat": 4,
 "nbformat_minor": 1
}
