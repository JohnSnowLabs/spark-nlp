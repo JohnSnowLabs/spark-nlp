{
 "cells": [
  {
   "cell_type": "markdown",
   "metadata": {},
   "source": [
    "![JohnSnowLabs](https://sparknlp.org/assets/images/logo.png)\n",
    "\n",
    "[![Open In Colab](https://colab.research.google.com/assets/colab-badge.svg)](https://colab.research.google.com/github/JohnSnowLabs/spark-nlp/blob/master/examples/python/reader/SparkNLP_Email_Data_Preparation.ipynb)"
   ]
  },
  {
   "cell_type": "markdown",
   "metadata": {
    "id": "tzcU5p2gdak9"
   },
   "source": [
    "# Data Preparation with SparkNLP\n",
    "This notebook demonstrates how to leverage the new `read()` component in Spark NLP alongside the `Cleaner` or `Extractor` annotators to efficiently preprocess your data before feeding it into an NLP model.\n",
    "\n",
    "Incorporating this preprocessing step into your pipeline is highly recommended, as it can significantly enhance the quality and performance of your NLP model."
   ]
  },
  {
   "cell_type": "markdown",
   "metadata": {
    "id": "RFOFhaEedalB"
   },
   "source": [
    "## Setup and Initialization\n",
    "Let's keep in mind a few things before we start 😊\n",
    "\n",
    "Support for reading email files was introduced in Spark NLP 5.5.2, while `Cleaner` and `Extractor` annotators was introduced in Spark NLP 6.0.0.\n",
    "Please make sure you have upgraded to the latest Spark NLP release."
   ]
  },
  {
   "cell_type": "markdown",
   "metadata": {
    "id": "tc9FU1dr7RYd"
   },
   "source": [
    "- Let's install and setup Spark NLP in Google Colab\n",
    "- This part is pretty easy via our simple script"
   ]
  },
  {
   "cell_type": "code",
   "execution_count": null,
   "metadata": {
    "id": "iR1g7FYu7cjv"
   },
   "outputs": [],
   "source": [
    "! wget -q http://setup.johnsnowlabs.com/colab.sh -O - | bash"
   ]
  },
  {
   "cell_type": "markdown",
   "metadata": {
    "id": "TDGhekmq7dtF"
   },
   "source": [
    "### Additional Configuration for Databricks"
   ]
  },
  {
   "cell_type": "markdown",
   "metadata": {
    "id": "dtVukFk48DAd"
   },
   "source": [
    "When running on Databricks, it is necessary to include the following Spark configurations to avoid dependency conflicts:\n",
    "\n",
    "- `spark.driver.userClassPathFirst true`\n",
    "- `spark.executor.userClassPathFirst true`\n",
    "\n",
    "These configurations are required because the Databricks runtime environment includes a bundled version of the `com.sun.mail:jakarta.mail` library, which conflicts with `jakarta.activation`. By setting these properties, the application ensures that the user-provided libraries take precedence over those bundled in the Databricks environment, resolving the dependency conflict."
   ]
  },
  {
   "cell_type": "markdown",
   "metadata": {
    "id": "BZS99lKh7T3l"
   },
   "source": [
    "For local files example we will download a couple of email files from Spark NLP Github repo:"
   ]
  },
  {
   "cell_type": "code",
   "execution_count": null,
   "metadata": {
    "colab": {
     "base_uri": "https://localhost:8080/"
    },
    "id": "ya8qZe00dalC",
    "outputId": "3d525daf-047e-4fbf-cf9a-cb7f3f4683f1"
   },
   "outputs": [
    {
     "name": "stdout",
     "output_type": "stream",
     "text": [
      "--2025-02-12 20:07:48--  https://raw.githubusercontent.com/JohnSnowLabs/spark-nlp/feature/SPARKNLP-1093-Adding-support-to-read-Email-files/src/test/resources/reader/email/email-text-attachments.eml\n",
      "Resolving raw.githubusercontent.com (raw.githubusercontent.com)... 185.199.109.133, 185.199.110.133, 185.199.108.133, ...\n",
      "Connecting to raw.githubusercontent.com (raw.githubusercontent.com)|185.199.109.133|:443... connected.\n",
      "HTTP request sent, awaiting response... 200 OK\n",
      "Length: 3175 (3.1K) [text/plain]\n",
      "Saving to: ‘email-files/email-text-attachments.eml’\n",
      "\n",
      "\r",
      "          email-tex   0%[                    ]       0  --.-KB/s               \r",
      "email-text-attachme 100%[===================>]   3.10K  --.-KB/s    in 0s      \n",
      "\n",
      "2025-02-12 20:07:48 (43.7 MB/s) - ‘email-files/email-text-attachments.eml’ saved [3175/3175]\n",
      "\n",
      "--2025-02-12 20:07:48--  https://raw.githubusercontent.com/JohnSnowLabs/spark-nlp/feature/SPARKNLP-1093-Adding-support-to-read-Email-files/src/test/resources/reader/email/test-several-attachments.eml\n",
      "Resolving raw.githubusercontent.com (raw.githubusercontent.com)... 185.199.108.133, 185.199.109.133, 185.199.110.133, ...\n",
      "Connecting to raw.githubusercontent.com (raw.githubusercontent.com)|185.199.108.133|:443... connected.\n",
      "HTTP request sent, awaiting response... 200 OK\n",
      "Length: 1324361 (1.3M) [text/plain]\n",
      "Saving to: ‘email-files/test-several-attachments.eml’\n",
      "\n",
      "test-several-attach 100%[===================>]   1.26M  --.-KB/s    in 0.06s   \n",
      "\n",
      "2025-02-12 20:07:49 (19.6 MB/s) - ‘email-files/test-several-attachments.eml’ saved [1324361/1324361]\n",
      "\n"
     ]
    }
   ],
   "source": [
    "!mkdir email-files\n",
    "!wget https://raw.githubusercontent.com/JohnSnowLabs/spark-nlp/feature/SPARKNLP-1093-Adding-support-to-read-Email-files/src/test/resources/reader/email/email-text-attachments.eml -P email-files\n",
    "!wget https://raw.githubusercontent.com/JohnSnowLabs/spark-nlp/feature/SPARKNLP-1093-Adding-support-to-read-Email-files/src/test/resources/reader/email/test-several-attachments.eml -P email-files"
   ]
  },
  {
   "cell_type": "code",
   "execution_count": null,
   "metadata": {
    "colab": {
     "base_uri": "https://localhost:8080/"
    },
    "id": "3xgGItNbU2DZ",
    "outputId": "b65902f6-345f-477b-d59f-5853ef61a177"
   },
   "outputs": [
    {
     "name": "stdout",
     "output_type": "stream",
     "text": [
      "total 1.3M\n",
      "-rw-r--r-- 1 root root 3.2K Feb 12 20:07 email-text-attachments.eml\n",
      "-rw-r--r-- 1 root root 1.3M Feb 12 20:07 test-several-attachments.eml\n"
     ]
    }
   ],
   "source": [
    "!ls -lh ./email-files"
   ]
  },
  {
   "cell_type": "markdown",
   "metadata": {
    "id": "EoFI66NAdalE"
   },
   "source": [
    "## Parsing Email from Local Files\n",
    "Use the `email()` method to parse email content from local directories."
   ]
  },
  {
   "cell_type": "code",
   "execution_count": null,
   "metadata": {
    "colab": {
     "base_uri": "https://localhost:8080/"
    },
    "id": "bAkMjJ1vdalE",
    "outputId": "f6eefd3e-da98-4636-d93b-052f0dcfe219"
   },
   "outputs": [
    {
     "name": "stdout",
     "output_type": "stream",
     "text": [
      "Warning::Spark Session already created, some configs may not take.\n",
      "+-----------------------------------------------------------------------------------------------------------------------------------------------------------------------------------------------------------------------------------------------------------------------------------------------------------------------------------------------------------------------------------------------------------------------------------------------------------------------------------------------------------------------------------------------------------------------------------------------------------------------------------------------------------------------------------------------------------------------------------------------------------------------------------------------------------------------------------------------------------------------------------------------------------------------------------------------------------------------------------------------------------------------------------------------------------------------------------------------------------------------------------------------------------------------------------------------------------------------------------------------------------------------------------------------------------------------------------------------------------------------------------------------------------------------------------------------------------------------------------------------------------------------------------------------------------------------------------------------------------------------------------------------------------------------------------------------------------------------------------------------------------------------------------------------------------------------------------------------------------------------------------------------------------------------------------------------------------------------------------------------------------------------------------------------------------------------------------------------------------------------------------------------------------------------------------------------------------------------------------------------------------------------------------------------------------------------------------------------------------------------------------------------------------------------------------------------------------------------------------------------------------------------------------------------------------------------------------------------------------------------------------------------------------------------------------------------------------------------------------------------------------------------------------------------------------------------------------------------------------------------------------------------------------------------------------+\n",
      "|email                                                                                                                                                                                                                                                                                                                                                                                                                                                                                                                                                                                                                                                                                                                                                                                                                                                                                                                                                                                                                                                                                                                                                                                                                                                                                                                                                                                                                                                                                                                                                                                                                                                                                                                                                                                                                                                                                                                                                                                                                                                                                                                                                                                                                                                                                                                                                                                                                                                                                                                                                                                                                                                                                                                                                                                                                                                                                                                              |\n",
      "+-----------------------------------------------------------------------------------------------------------------------------------------------------------------------------------------------------------------------------------------------------------------------------------------------------------------------------------------------------------------------------------------------------------------------------------------------------------------------------------------------------------------------------------------------------------------------------------------------------------------------------------------------------------------------------------------------------------------------------------------------------------------------------------------------------------------------------------------------------------------------------------------------------------------------------------------------------------------------------------------------------------------------------------------------------------------------------------------------------------------------------------------------------------------------------------------------------------------------------------------------------------------------------------------------------------------------------------------------------------------------------------------------------------------------------------------------------------------------------------------------------------------------------------------------------------------------------------------------------------------------------------------------------------------------------------------------------------------------------------------------------------------------------------------------------------------------------------------------------------------------------------------------------------------------------------------------------------------------------------------------------------------------------------------------------------------------------------------------------------------------------------------------------------------------------------------------------------------------------------------------------------------------------------------------------------------------------------------------------------------------------------------------------------------------------------------------------------------------------------------------------------------------------------------------------------------------------------------------------------------------------------------------------------------------------------------------------------------------------------------------------------------------------------------------------------------------------------------------------------------------------------------------------------------------------------+\n",
      "|[{Title, Email Text Attachments, {sent_to -> Danilo Burbano <danilo@johnsnowlabs.com>, sent_from -> Danilo Burbano <danilo@johnsnowlabs.com>}}, {NarrativeText, Email  test with two text attachments\\r\\n\\r\\nCheers,\\r\\n\\r\\n, {sent_to -> Danilo Burbano <danilo@johnsnowlabs.com>, sent_from -> Danilo Burbano <danilo@johnsnowlabs.com>, mimeType -> text/plain}}, {NarrativeText, <html>\\r\\n<head>\\r\\n<meta http-equiv=\"Content-Type\" content=\"text/html; charset=iso-8859-1\">\\r\\n<style type=\"text/css\" style=\"display:none;\"> P {margin-top:0;margin-bottom:0;} </style>\\r\\n</head>\\r\\n<body dir=\"ltr\">\\r\\n<span style=\"font-family: Aptos, Aptos_EmbeddedFont, Aptos_MSFontService, Calibri, Helvetica, sans-serif; font-size: 12pt; color: rgb(0, 0, 0);\">Email&nbsp; test with two text attachments</span>\\r\\n<div class=\"elementToProof\" style=\"font-family: Aptos, Aptos_EmbeddedFont, Aptos_MSFontService, Calibri, Helvetica, sans-serif; font-size: 12pt; color: rgb(0, 0, 0);\">\\r\\n<br>\\r\\n</div>\\r\\n<div class=\"elementToProof\" style=\"font-family: Aptos, Aptos_EmbeddedFont, Aptos_MSFontService, Calibri, Helvetica, sans-serif; font-size: 12pt; color: rgb(0, 0, 0);\">\\r\\nCheers,</div>\\r\\n<div class=\"elementToProof\" style=\"font-family: Aptos, Aptos_EmbeddedFont, Aptos_MSFontService, Calibri, Helvetica, sans-serif; font-size: 12pt; color: rgb(0, 0, 0);\">\\r\\n<br>\\r\\n</div>\\r\\n</body>\\r\\n</html>\\r\\n, {sent_to -> Danilo Burbano <danilo@johnsnowlabs.com>, sent_from -> Danilo Burbano <danilo@johnsnowlabs.com>, mimeType -> text/html}}, {Attachment, filename.txt, {sent_to -> Danilo Burbano <danilo@johnsnowlabs.com>, sent_from -> Danilo Burbano <danilo@johnsnowlabs.com>, contentType -> text/plain; name=\"filename.txt\"}}, {Attachment, filename2.txt, {sent_to -> Danilo Burbano <danilo@johnsnowlabs.com>, sent_from -> Danilo Burbano <danilo@johnsnowlabs.com>, contentType -> text/plain; name=\"filename2.txt\"}}]                                                                                                                                                                                                                                                                                                                                                                                                                                                                                                                                                                                                                                                                                                                                                                                                                                                                                                                                                                    |\n",
      "|[{Title, Test Several Attachments, {sent_to -> Maziyar Panahi <maziyar@johnsnowlabs.com>, sent_from -> Danilo Burbano <danilo@johnsnowlabs.com>, cc_to -> Danilo Burbano <danilo@johnsnowlabs.com>}}, {NarrativeText, This is only a test email with attachments to verify EmailReader feature in Spark NLP.\\r\\n\\r\\nYou don't need to reply to this message 🙂\\r\\n\\r\\n\\r\\n, {sent_to -> Maziyar Panahi <maziyar@johnsnowlabs.com>, sent_from -> Danilo Burbano <danilo@johnsnowlabs.com>, mimeType -> text/plain, cc_to -> Danilo Burbano <danilo@johnsnowlabs.com>}}, {NarrativeText, <html>\\r\\n<head>\\r\\n<meta http-equiv=\"Content-Type\" content=\"text/html; charset=utf-8\">\\r\\n<style type=\"text/css\" style=\"display:none;\"> P {margin-top:0;margin-bottom:0;} </style>\\r\\n</head>\\r\\n<body dir=\"ltr\">\\r\\n<div class=\"elementToProof\" style=\"font-family: Aptos, Aptos_EmbeddedFont, Aptos_MSFontService, Calibri, Helvetica, sans-serif; font-size: 12pt; color: rgb(0, 0, 0);\">\\r\\nThis is only a test email with attachments to verify EmailReader feature in Spark NLP.</div>\\r\\n<div class=\"elementToProof\" style=\"font-family: Aptos, Aptos_EmbeddedFont, Aptos_MSFontService, Calibri, Helvetica, sans-serif; font-size: 12pt; color: rgb(0, 0, 0);\">\\r\\n<br>\\r\\n</div>\\r\\n<div class=\"elementToProof\" style=\"font-family: Aptos, Aptos_EmbeddedFont, Aptos_MSFontService, Calibri, Helvetica, sans-serif; font-size: 12pt; color: rgb(0, 0, 0);\">\\r\\nYou don't need to reply to this message 🙂&nbsp;</div>\\r\\n<div class=\"elementToProof\" style=\"font-family: Aptos, Aptos_EmbeddedFont, Aptos_MSFontService, Calibri, Helvetica, sans-serif; font-size: 12pt; color: rgb(0, 0, 0);\">\\r\\n<br>\\r\\n</div>\\r\\n<div class=\"elementToProof\" style=\"font-family: Aptos, Aptos_EmbeddedFont, Aptos_MSFontService, Calibri, Helvetica, sans-serif; font-size: 12pt; color: rgb(0, 0, 0);\">\\r\\n<br>\\r\\n</div>\\r\\n</body>\\r\\n</html>\\r\\n, {sent_to -> Maziyar Panahi <maziyar@johnsnowlabs.com>, sent_from -> Danilo Burbano <danilo@johnsnowlabs.com>, mimeType -> text/html, cc_to -> Danilo Burbano <danilo@johnsnowlabs.com>}}, {Attachment, filename.txt, {sent_to -> Maziyar Panahi <maziyar@johnsnowlabs.com>, sent_from -> Danilo Burbano <danilo@johnsnowlabs.com>, contentType -> text/plain; name=\"filename.txt\", cc_to -> Danilo Burbano <danilo@johnsnowlabs.com>}}, {Attachment, SparkNLP Email Reader.pdf, {sent_to -> Maziyar Panahi <maziyar@johnsnowlabs.com>, sent_from -> Danilo Burbano <danilo@johnsnowlabs.com>, contentType -> application/pdf; name=\"SparkNLP Email Reader.pdf\", cc_to -> Danilo Burbano <danilo@johnsnowlabs.com>}}, {Attachment, SparkNLP 3D Logo v2.png, {sent_to -> Maziyar Panahi <maziyar@johnsnowlabs.com>, sent_from -> Danilo Burbano <danilo@johnsnowlabs.com>, contentType -> image/png; name=\"SparkNLP 3D Logo v2.png\", cc_to -> Danilo Burbano <danilo@johnsnowlabs.com>}}]|\n",
      "+-----------------------------------------------------------------------------------------------------------------------------------------------------------------------------------------------------------------------------------------------------------------------------------------------------------------------------------------------------------------------------------------------------------------------------------------------------------------------------------------------------------------------------------------------------------------------------------------------------------------------------------------------------------------------------------------------------------------------------------------------------------------------------------------------------------------------------------------------------------------------------------------------------------------------------------------------------------------------------------------------------------------------------------------------------------------------------------------------------------------------------------------------------------------------------------------------------------------------------------------------------------------------------------------------------------------------------------------------------------------------------------------------------------------------------------------------------------------------------------------------------------------------------------------------------------------------------------------------------------------------------------------------------------------------------------------------------------------------------------------------------------------------------------------------------------------------------------------------------------------------------------------------------------------------------------------------------------------------------------------------------------------------------------------------------------------------------------------------------------------------------------------------------------------------------------------------------------------------------------------------------------------------------------------------------------------------------------------------------------------------------------------------------------------------------------------------------------------------------------------------------------------------------------------------------------------------------------------------------------------------------------------------------------------------------------------------------------------------------------------------------------------------------------------------------------------------------------------------------------------------------------------------------------------------------------+\n",
      "\n"
     ]
    }
   ],
   "source": [
    "import sparknlp\n",
    "email_df = sparknlp.read().email(\"./email-files\")\n",
    "\n",
    "email_df.select(\"email\").show(truncate=False)"
   ]
  },
  {
   "cell_type": "markdown",
   "metadata": {
    "id": "_5smLr4XmcsY"
   },
   "source": [
    "Let's check the schema for this Dataframe"
   ]
  },
  {
   "cell_type": "code",
   "execution_count": null,
   "metadata": {
    "colab": {
     "base_uri": "https://localhost:8080/"
    },
    "id": "fht7jtiG0A3W",
    "outputId": "f4a63156-ddd0-466f-ed0f-6d98627ff925"
   },
   "outputs": [
    {
     "name": "stdout",
     "output_type": "stream",
     "text": [
      "root\n",
      " |-- path: string (nullable = true)\n",
      " |-- content: binary (nullable = true)\n",
      " |-- email: array (nullable = true)\n",
      " |    |-- element: struct (containsNull = true)\n",
      " |    |    |-- elementType: string (nullable = true)\n",
      " |    |    |-- content: string (nullable = true)\n",
      " |    |    |-- metadata: map (nullable = true)\n",
      " |    |    |    |-- key: string\n",
      " |    |    |    |-- value: string (valueContainsNull = true)\n",
      "\n"
     ]
    }
   ],
   "source": [
    "email_df.printSchema()"
   ]
  },
  {
   "cell_type": "markdown",
   "metadata": {
    "id": "06SvFW1Rl285"
   },
   "source": [
    "As seen in the schema and output, we have the email information along with metadata that can be used to filter and sanitize the data. Let's take a closer look at the metadata for this email data:"
   ]
  },
  {
   "cell_type": "code",
   "execution_count": null,
   "metadata": {
    "colab": {
     "base_uri": "https://localhost:8080/"
    },
    "id": "xH9UqFE00pDe",
    "outputId": "7b6dfe5f-6e4a-4a25-ad6d-69b58e716c2b"
   },
   "outputs": [
    {
     "name": "stdout",
     "output_type": "stream",
     "text": [
      "+----------------------------------------------------------------------------------------------------------------------------------------------------------------------------------------------------------------------------------+\n",
      "|email_exploded                                                                                                                                                                                                                    |\n",
      "+----------------------------------------------------------------------------------------------------------------------------------------------------------------------------------------------------------------------------------+\n",
      "|{sent_to -> Danilo Burbano <danilo@johnsnowlabs.com>, sent_from -> Danilo Burbano <danilo@johnsnowlabs.com>}                                                                                                                      |\n",
      "|{sent_to -> Danilo Burbano <danilo@johnsnowlabs.com>, sent_from -> Danilo Burbano <danilo@johnsnowlabs.com>, mimeType -> text/plain}                                                                                              |\n",
      "|{sent_to -> Danilo Burbano <danilo@johnsnowlabs.com>, sent_from -> Danilo Burbano <danilo@johnsnowlabs.com>, mimeType -> text/html}                                                                                               |\n",
      "|{sent_to -> Danilo Burbano <danilo@johnsnowlabs.com>, sent_from -> Danilo Burbano <danilo@johnsnowlabs.com>, contentType -> text/plain; name=\"filename.txt\"}                                                                      |\n",
      "|{sent_to -> Danilo Burbano <danilo@johnsnowlabs.com>, sent_from -> Danilo Burbano <danilo@johnsnowlabs.com>, contentType -> text/plain; name=\"filename2.txt\"}                                                                     |\n",
      "|{sent_to -> Maziyar Panahi <maziyar@johnsnowlabs.com>, sent_from -> Danilo Burbano <danilo@johnsnowlabs.com>, cc_to -> Danilo Burbano <danilo@johnsnowlabs.com>}                                                                  |\n",
      "|{sent_to -> Maziyar Panahi <maziyar@johnsnowlabs.com>, sent_from -> Danilo Burbano <danilo@johnsnowlabs.com>, mimeType -> text/plain, cc_to -> Danilo Burbano <danilo@johnsnowlabs.com>}                                          |\n",
      "|{sent_to -> Maziyar Panahi <maziyar@johnsnowlabs.com>, sent_from -> Danilo Burbano <danilo@johnsnowlabs.com>, mimeType -> text/html, cc_to -> Danilo Burbano <danilo@johnsnowlabs.com>}                                           |\n",
      "|{sent_to -> Maziyar Panahi <maziyar@johnsnowlabs.com>, sent_from -> Danilo Burbano <danilo@johnsnowlabs.com>, contentType -> text/plain; name=\"filename.txt\", cc_to -> Danilo Burbano <danilo@johnsnowlabs.com>}                  |\n",
      "|{sent_to -> Maziyar Panahi <maziyar@johnsnowlabs.com>, sent_from -> Danilo Burbano <danilo@johnsnowlabs.com>, contentType -> application/pdf; name=\"SparkNLP Email Reader.pdf\", cc_to -> Danilo Burbano <danilo@johnsnowlabs.com>}|\n",
      "|{sent_to -> Maziyar Panahi <maziyar@johnsnowlabs.com>, sent_from -> Danilo Burbano <danilo@johnsnowlabs.com>, contentType -> image/png; name=\"SparkNLP 3D Logo v2.png\", cc_to -> Danilo Burbano <danilo@johnsnowlabs.com>}        |\n",
      "+----------------------------------------------------------------------------------------------------------------------------------------------------------------------------------------------------------------------------------+\n",
      "\n"
     ]
    }
   ],
   "source": [
    "from pyspark.sql.functions import col, explode\n",
    "\n",
    "email_matadata_df = email_df.withColumn(\"email_metadata\", explode(col(\"email.metadata\")))\n",
    "email_matadata_df.select(\"email_metadata\").show(truncate=False)"
   ]
  },
  {
   "cell_type": "markdown",
   "metadata": {
    "id": "6YeiszZSnMZU"
   },
   "source": [
    "In this example, we are not interested in results containing HTML data, so we will focus only on plain text."
   ]
  },
  {
   "cell_type": "code",
   "execution_count": null,
   "metadata": {
    "colab": {
     "base_uri": "https://localhost:8080/"
    },
    "id": "aQqqlUIEXMhF",
    "outputId": "ab47ae69-1c00-4fe4-d5cc-abd762c65d1e"
   },
   "outputs": [
    {
     "name": "stdout",
     "output_type": "stream",
     "text": [
      "+------------------------------------------------------+----------------------------------------------------------------------------------------------------------------------------------------------------+\n",
      "|path                                                  |narrative_text                                                                                                                                      |\n",
      "+------------------------------------------------------+----------------------------------------------------------------------------------------------------------------------------------------------------+\n",
      "|file:/content/email-files/email-text-attachments.eml  |Email  test with two text attachments\\r\\n\\r\\nCheers,\\r\\n\\r\\n                                                                                        |\n",
      "|file:/content/email-files/test-several-attachments.eml|This is only a test email with attachments to verify EmailReader feature in Spark NLP.\\r\\n\\r\\nYou don't need to reply to this message 🙂\\r\\n\\r\\n\\r\\n|\n",
      "+------------------------------------------------------+----------------------------------------------------------------------------------------------------------------------------------------------------+\n",
      "\n"
     ]
    }
   ],
   "source": [
    "from pyspark.sql.functions import col, explode\n",
    "\n",
    "#Filter out only NarrativeText elements and text/plain content from the email array\n",
    "narrative_email_df = email_df.selectExpr(\n",
    "    \"path\",\n",
    "    \"FILTER(email, x -> x.elementType = 'NarrativeText' AND x.metadata['mimeType'] = 'text/plain') AS narrative_email\"\n",
    ")\n",
    "\n",
    "exploded_df = narrative_email_df.withColumn(\"email_exploded\", explode(col(\"narrative_email\")))\n",
    "\n",
    "#Select only the content field from the exploded struct\n",
    "email_content_df = exploded_df.select(\n",
    "    \"path\",\n",
    "    col(\"email_exploded.content\").alias(\"narrative_text\")\n",
    ")\n",
    "\n",
    "email_content_df.show(truncate=False)"
   ]
  },
  {
   "cell_type": "markdown",
   "metadata": {
    "id": "Fno3A-itndVO"
   },
   "source": [
    "Now, we can use `Cleaner` annotator to remove any remaining undesired characters from the data."
   ]
  },
  {
   "cell_type": "code",
   "execution_count": null,
   "metadata": {
    "colab": {
     "base_uri": "https://localhost:8080/"
    },
    "id": "yzLMr8jvT4w4",
    "outputId": "9774f95b-b2e3-48db-947c-30318f3e78bf"
   },
   "outputs": [
    {
     "name": "stdout",
     "output_type": "stream",
     "text": [
      "+------------------------------------------------------------------------------------------------------------------------------------------------------------+\n",
      "|cleaned                                                                                                                                                     |\n",
      "+------------------------------------------------------------------------------------------------------------------------------------------------------------+\n",
      "|[{chunk, 0, 44, Email test with two text attachments Cheers,, {}, []}]                                                                                      |\n",
      "|[{chunk, 0, 129, This is only a test email with attachments to verify EmailReader feature in Spark NLP. You don't need to reply to this message 🙂, {}, []}]|\n",
      "+------------------------------------------------------------------------------------------------------------------------------------------------------------+\n",
      "\n"
     ]
    }
   ],
   "source": [
    "from sparknlp.base import *\n",
    "from sparknlp.annotator.cleaners import *\n",
    "\n",
    "document_assembler = DocumentAssembler() \\\n",
    "  .setInputCol(\"narrative_text\") \\\n",
    "  .setOutputCol(\"document\")\n",
    "\n",
    "cleaner = Cleaner() \\\n",
    "    .setInputCols([\"document\"]) \\\n",
    "    .setOutputCol(\"cleaned\") \\\n",
    "    .setCleanerMode(\"clean\") \\\n",
    "    .setBullets(True) \\\n",
    "    .setExtraWhitespace(True) \\\n",
    "    .setDashes(True)\n",
    "\n",
    "pipeline = Pipeline().setStages([\n",
    "    document_assembler,\n",
    "    cleaner\n",
    "])\n",
    "\n",
    "model = pipeline.fit(email_content_df)\n",
    "clean_email_content_df = model.transform(email_content_df)\n",
    "clean_email_content_df.select(\"cleaned\").show(truncate=False)"
   ]
  },
  {
   "cell_type": "markdown",
   "metadata": {
    "id": "Qtttw-LbC9I5"
   },
   "source": [
    "Now, you have your enhanced text ready to feed into an NLP model for improved performance."
   ]
  }
 ],
 "metadata": {
  "colab": {
   "provenance": []
  },
  "kernelspec": {
   "display_name": "Python 3 (ipykernel)",
   "language": "python",
   "name": "python3"
  },
  "language_info": {
   "codemirror_mode": {
    "name": "ipython",
    "version": 3
   },
   "file_extension": ".py",
   "mimetype": "text/x-python",
   "name": "python",
   "nbconvert_exporter": "python",
   "pygments_lexer": "ipython3",
   "version": "3.10.12"
  }
 },
 "nbformat": 4,
 "nbformat_minor": 1
}
