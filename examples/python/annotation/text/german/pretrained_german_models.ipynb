{
 "cells": [
  {
   "attachments": {},
   "cell_type": "markdown",
   "metadata": {},
   "source": [
    "![JohnSnowLabs](https://nlp.johnsnowlabs.com/assets/images/logo.png)\n",
    "\n",
    "[![Open In Colab](https://colab.research.google.com/assets/colab-badge.svg)](https://colab.research.google.com/github/JohnSnowLabs/spark-nlp/blob/master/examples/python/annotation/text/german/pretrained_german_models.ipynb)\n",
    "\n",
    "# Running Pretrained Pipelines For German Language Texts"
   ]
  },
  {
   "cell_type": "code",
   "execution_count": null,
   "metadata": {},
   "outputs": [],
   "source": [
    "# Only run this cell when you are using Spark NLP on Google Colab\n",
    "!wget http://setup.johnsnowlabs.com/colab.sh -O - | bash"
   ]
  },
  {
   "cell_type": "markdown",
   "metadata": {},
   "source": [
    "### German models specs\n",
    "\n",
    "| Feature   | Description|\n",
    "|:----------|:----------|\n",
    "| **Lemma** | Trained by **Lemmatizer** annotator on **lemmatization-lists** by `Michal Měchura`|\n",
    "| **POS**   | Trained by **PerceptronApproach** annotator on the [Universal Dependencies](https://universaldependencies.org/treebanks/de_hdt/index.html)|\n",
    "| **NER**   | Trained by **NerDLApproach** annotator with **Char CNNs - BiLSTM - CRF** and **GloVe Embeddings** on the **WikiNER** corpus and supports the identification of `PER`, `LOC`, `ORG` and `MISC` entities |"
   ]
  },
  {
   "cell_type": "code",
   "execution_count": null,
   "metadata": {},
   "outputs": [],
   "source": [
    "import sparknlp\n",
    "from sparknlp.annotator import *\n",
    "from sparknlp.base import *\n",
    "from sparknlp.pretrained import PretrainedPipeline\n",
    "\n",
    "from pyspark.sql.types import StringType"
   ]
  },
  {
   "cell_type": "code",
   "execution_count": null,
   "metadata": {},
   "outputs": [
    {
     "name": "stdout",
     "output_type": "stream",
     "text": [
      "Spark NLP version:  4.3.1\n",
      "Apache Spark version:  3.3.0\n"
     ]
    }
   ],
   "source": [
    "spark = sparknlp.start()\n",
    "\n",
    "print(\"Spark NLP version: \", sparknlp.version())\n",
    "print(\"Apache Spark version: \", spark.version)"
   ]
  },
  {
   "cell_type": "code",
   "execution_count": null,
   "metadata": {},
   "outputs": [],
   "source": [
    "dfTest = spark.createDataFrame([\n",
    "    \"Die Anfänge der EU gehen auf die 1950er-Jahre zurück, als zunächst sechs Staaten die Europäische Wirtschaftsgemeinschaft (EWG) gründeten.\",\n",
    "    \"Angela[1] Dorothea Merkel (* 17. Juli 1954 in Hamburg als Angela Dorothea Kasner) ist eine deutsche Politikerin (CDU).\"\n",
    "], StringType()).toDF(\"text\")"
   ]
  },
  {
   "cell_type": "markdown",
   "metadata": {},
   "source": [
    "### Pretrained Pipelines in German\n",
    "#### explain_document_md (glove_6B_300)"
   ]
  },
  {
   "cell_type": "code",
   "execution_count": null,
   "metadata": {},
   "outputs": [
    {
     "name": "stdout",
     "output_type": "stream",
     "text": [
      "explain_document_md download started this may take some time.\n",
      "Approx size to download 452.4 MB\n",
      "[OK!]\n"
     ]
    }
   ],
   "source": [
    "pipeline_exdo_md = PretrainedPipeline('explain_document_md', 'de')"
   ]
  },
  {
   "cell_type": "code",
   "execution_count": null,
   "metadata": {},
   "outputs": [
    {
     "name": "stdout",
     "output_type": "stream",
     "text": [
      "+----------+----------+----------+----------+----------+----------+----------+----------+----------+\n",
      "|      text|  document|  sentence|     token|     lemma|       pos|embeddings|       ner|  entities|\n",
      "+----------+----------+----------+----------+----------+----------+----------+----------+----------+\n",
      "|Die Anf...|[{docum...|[{docum...|[{token...|[{token...|[{pos, ...|[{word_...|[{named...|[{chunk...|\n",
      "|Angela[...|[{docum...|[{docum...|[{token...|[{token...|[{pos, ...|[{word_...|[{named...|[{chunk...|\n",
      "+----------+----------+----------+----------+----------+----------+----------+----------+----------+\n",
      "\n"
     ]
    }
   ],
   "source": [
    "pipeline_exdo_md.transform(dfTest).show(2, truncate=10)"
   ]
  },
  {
   "cell_type": "code",
   "execution_count": null,
   "metadata": {},
   "outputs": [
    {
     "name": "stdout",
     "output_type": "stream",
     "text": [
      "+----------------------------------------------------------------------+\n",
      "|                                                                result|\n",
      "+----------------------------------------------------------------------+\n",
      "|[Die, Anfang, der, EU, gehen, auf, der, 1950er-Jahre, zurück,, als,...|\n",
      "|[Angela[1], Dorothea, Merkel, (*, 17, ., Juli, 1954, in, Hamburg, a...|\n",
      "+----------------------------------------------------------------------+\n",
      "\n",
      "+----------------------------------------------------------------------+\n",
      "|                                                                result|\n",
      "+----------------------------------------------------------------------+\n",
      "|[DET, NOUN, DET, PROPN, VERB, ADP, DET, NOUN, VERB, ADP, ADV, NUM, ...|\n",
      "|[PROPN, PROPN, PROPN, X, NUM, PUNCT, NOUN, NUM, ADP, PROPN, ADP, PR...|\n",
      "+----------------------------------------------------------------------+\n",
      "\n",
      "+----------------------------------------------------------------------+\n",
      "|                                                                result|\n",
      "+----------------------------------------------------------------------+\n",
      "|                                     [EU, Staaten, Europäische, (EWG)]|\n",
      "|[Angela[1] Dorothea Merkel, Hamburg, Angela Dorothea Kasner), deuts...|\n",
      "+----------------------------------------------------------------------+\n",
      "\n"
     ]
    }
   ],
   "source": [
    "pipeline_exdo_md.transform(dfTest).select(\"lemma.result\").show(2, truncate=70)\n",
    "pipeline_exdo_md.transform(dfTest).select(\"pos.result\").show(2, truncate=70)\n",
    "pipeline_exdo_md.transform(dfTest).select(\"entities.result\").show(2, truncate=70)"
   ]
  },
  {
   "cell_type": "markdown",
   "metadata": {},
   "source": [
    "#### entity_recognizer_md (glove_6B_300)"
   ]
  },
  {
   "cell_type": "code",
   "execution_count": null,
   "metadata": {},
   "outputs": [
    {
     "name": "stdout",
     "output_type": "stream",
     "text": [
      "entity_recognizer_md download started this may take some time.\n",
      "Approx size to download 443.7 MB\n",
      "[OK!]\n"
     ]
    }
   ],
   "source": [
    "pipeline_entre_md = PretrainedPipeline('entity_recognizer_md', 'de')"
   ]
  },
  {
   "cell_type": "code",
   "execution_count": null,
   "metadata": {},
   "outputs": [
    {
     "name": "stdout",
     "output_type": "stream",
     "text": [
      "+----------+----------+----------+----------+----------+----------+----------+\n",
      "|      text|  document|  sentence|     token|embeddings|       ner|  entities|\n",
      "+----------+----------+----------+----------+----------+----------+----------+\n",
      "|Die Anf...|[{docum...|[{docum...|[{token...|[{word_...|[{named...|[{chunk...|\n",
      "|Angela[...|[{docum...|[{docum...|[{token...|[{word_...|[{named...|[{chunk...|\n",
      "+----------+----------+----------+----------+----------+----------+----------+\n",
      "\n"
     ]
    }
   ],
   "source": [
    "pipeline_entre_md.transform(dfTest).show(2, truncate=10)"
   ]
  },
  {
   "cell_type": "code",
   "execution_count": null,
   "metadata": {},
   "outputs": [
    {
     "name": "stdout",
     "output_type": "stream",
     "text": [
      "+----------------------------------------------------------------------+\n",
      "|                                                                result|\n",
      "+----------------------------------------------------------------------+\n",
      "|[Die, Anfänge, der, EU, gehen, auf, die, 1950er-Jahre, zurück,, als...|\n",
      "|[Angela[1], Dorothea, Merkel, (*, 17, ., Juli, 1954, in, Hamburg, a...|\n",
      "+----------------------------------------------------------------------+\n",
      "\n",
      "+----------------------------------------------------------------------+\n",
      "|                                                                result|\n",
      "+----------------------------------------------------------------------+\n",
      "|[O, O, O, I-ORG, O, O, O, O, O, O, O, O, I-LOC, O, I-MISC, O, I-LOC...|\n",
      "|[I-LOC, I-PER, I-PER, O, O, O, O, O, O, I-LOC, O, I-PER, I-PER, I-P...|\n",
      "+----------------------------------------------------------------------+\n",
      "\n",
      "+----------------------------------------------------------------------+\n",
      "|                                                                result|\n",
      "+----------------------------------------------------------------------+\n",
      "|                                     [EU, Staaten, Europäische, (EWG)]|\n",
      "|[Angela[1] Dorothea Merkel, Hamburg, Angela Dorothea Kasner), deuts...|\n",
      "+----------------------------------------------------------------------+\n",
      "\n"
     ]
    }
   ],
   "source": [
    "pipeline_entre_md.transform(dfTest).select(\"token.result\").show(2, truncate=70)\n",
    "pipeline_entre_md.transform(dfTest).select(\"ner.result\").show(2, truncate=70)\n",
    "pipeline_entre_md.transform(dfTest).select(\"entities.result\").show(2, truncate=70)"
   ]
  },
  {
   "cell_type": "markdown",
   "metadata": {},
   "source": [
    "#### entity_recognizer_lg (glove_840B_300)"
   ]
  },
  {
   "cell_type": "code",
   "execution_count": null,
   "metadata": {},
   "outputs": [
    {
     "name": "stdout",
     "output_type": "stream",
     "text": [
      "entity_recognizer_lg download started this may take some time.\n",
      "Approx size to download 2.3 GB\n",
      "[OK!]\n"
     ]
    }
   ],
   "source": [
    "pipeline_entre_lg = PretrainedPipeline('entity_recognizer_lg', 'de')"
   ]
  },
  {
   "cell_type": "code",
   "execution_count": null,
   "metadata": {},
   "outputs": [
    {
     "name": "stdout",
     "output_type": "stream",
     "text": [
      "+----------+----------+----------+----------+----------+----------+----------+\n",
      "|      text|  document|  sentence|     token|embeddings|       ner|  entities|\n",
      "+----------+----------+----------+----------+----------+----------+----------+\n",
      "|Die Anf...|[{docum...|[{docum...|[{token...|[{word_...|[{named...|[{chunk...|\n",
      "|Angela[...|[{docum...|[{docum...|[{token...|[{word_...|[{named...|[{chunk...|\n",
      "+----------+----------+----------+----------+----------+----------+----------+\n",
      "\n"
     ]
    }
   ],
   "source": [
    "pipeline_entre_lg.transform(dfTest).show(2, truncate=10)"
   ]
  },
  {
   "cell_type": "code",
   "execution_count": null,
   "metadata": {},
   "outputs": [
    {
     "name": "stdout",
     "output_type": "stream",
     "text": [
      "+----------------------------------------------------------------------+\n",
      "|                                                                result|\n",
      "+----------------------------------------------------------------------+\n",
      "|[Die, Anfänge, der, EU, gehen, auf, die, 1950er-Jahre, zurück,, als...|\n",
      "|[Angela[1], Dorothea, Merkel, (*, 17, ., Juli, 1954, in, Hamburg, a...|\n",
      "+----------------------------------------------------------------------+\n",
      "\n",
      "+----------------------------------------------------------------------+\n",
      "|                                                                result|\n",
      "+----------------------------------------------------------------------+\n",
      "|[O, O, O, I-ORG, O, O, O, O, O, O, O, O, I-ORG, O, I-LOC, I-LOC, I-...|\n",
      "|[O, I-PER, I-PER, O, O, O, O, O, O, I-LOC, O, I-PER, I-PER, I-PER, ...|\n",
      "+----------------------------------------------------------------------+\n",
      "\n",
      "+---------------------------------------------------------------------+\n",
      "|                                                               result|\n",
      "+---------------------------------------------------------------------+\n",
      "|             [EU, Staaten, Europäische Wirtschaftsgemeinschaft (EWG)]|\n",
      "|[Dorothea Merkel, Hamburg, Angela Dorothea Kasner), deutsche, (CDU).]|\n",
      "+---------------------------------------------------------------------+\n",
      "\n"
     ]
    }
   ],
   "source": [
    "pipeline_entre_lg.transform(dfTest).select(\"token.result\").show(2, truncate=70)\n",
    "pipeline_entre_lg.transform(dfTest).select(\"ner.result\").show(2, truncate=70)\n",
    "pipeline_entre_lg.transform(dfTest).select(\"entities.result\").show(2, truncate=70)"
   ]
  },
  {
   "cell_type": "markdown",
   "metadata": {},
   "source": [
    "### Pretrained Models in German"
   ]
  },
  {
   "cell_type": "code",
   "execution_count": null,
   "metadata": {},
   "outputs": [
    {
     "name": "stdout",
     "output_type": "stream",
     "text": [
      "lemma download started this may take some time.\n",
      "Approximate size to download 4 MB\n",
      "[OK!]\n",
      "pos_ud_hdt download started this may take some time.\n",
      "Approximate size to download 4.7 MB\n",
      "[OK!]\n",
      "glove_6B_300 download started this may take some time.\n",
      "Approximate size to download 426.2 MB\n",
      "[OK!]\n",
      "wikiner_6B_300 download started this may take some time.\n",
      "Approximate size to download 14.1 MB\n",
      "[OK!]\n"
     ]
    }
   ],
   "source": [
    "document = DocumentAssembler() \\\n",
    "    .setInputCol(\"text\")\\\n",
    "    .setOutputCol(\"document\")\n",
    "\n",
    "sentence = SentenceDetector()\\\n",
    "    .setInputCols(['document'])\\\n",
    "    .setOutputCol('sentence')\n",
    "\n",
    "token = Tokenizer()\\\n",
    "    .setInputCols(['sentence'])\\\n",
    "    .setOutputCol('token')\n",
    "\n",
    "lemma = LemmatizerModel.pretrained('lemma', 'de')\\\n",
    "    .setInputCols(['token'])\\\n",
    "    .setOutputCol('lemma')\n",
    "\n",
    "pos = PerceptronModel.pretrained('pos_ud_hdt', 'de') \\\n",
    "    .setInputCols(['sentence', 'token'])\\\n",
    "    .setOutputCol('pos')\n",
    "\n",
    "embeddings = WordEmbeddingsModel.pretrained('glove_6B_300', 'xx')\\\n",
    "    .setInputCols(['sentence', 'token'])\\\n",
    "    .setOutputCol('embeddings')\n",
    "\n",
    "ner_model = NerDLModel.pretrained('wikiner_6B_300', 'de')\\\n",
    "    .setInputCols(['sentence', 'token', 'embeddings'])\\\n",
    "    .setOutputCol('ner')\n",
    "\n",
    "\n",
    "prediction_pipeline = Pipeline(stages=[\n",
    "        document,\n",
    "        sentence,\n",
    "        token,\n",
    "        lemma,\n",
    "        pos,\n",
    "        embeddings,\n",
    "        ner_model\n",
    "])"
   ]
  },
  {
   "cell_type": "code",
   "execution_count": null,
   "metadata": {},
   "outputs": [],
   "source": [
    "prediction = prediction_pipeline.fit(dfTest).transform(dfTest)"
   ]
  },
  {
   "cell_type": "code",
   "execution_count": null,
   "metadata": {},
   "outputs": [
    {
     "name": "stdout",
     "output_type": "stream",
     "text": [
      "+----------------------------------------------------------------------+\n",
      "|                                                                result|\n",
      "+----------------------------------------------------------------------+\n",
      "|[Die, Anfang, der, EU, gehen, auf, der, 1950er-Jahre, zurück, ,, al...|\n",
      "|[Angela[1], Dorothea, Merkel, (*, 17, ., Juli, 1954, in, Hamburg, a...|\n",
      "+----------------------------------------------------------------------+\n",
      "\n",
      "+----------------------------------------------------------------------+\n",
      "|                                                                result|\n",
      "+----------------------------------------------------------------------+\n",
      "|[DET, NOUN, DET, PROPN, VERB, ADP, DET, NOUN, ADP, PUNCT, ADP, ADV,...|\n",
      "|[PROPN, PROPN, PROPN, X, NUM, PUNCT, NOUN, NUM, ADP, PROPN, ADP, PR...|\n",
      "+----------------------------------------------------------------------+\n",
      "\n",
      "+----------------------------------------------------------------------+\n",
      "|                                                                result|\n",
      "+----------------------------------------------------------------------+\n",
      "|[O, O, O, I-ORG, O, O, O, O, O, O, O, O, O, I-LOC, O, I-ORG, I-ORG,...|\n",
      "|[I-LOC, I-PER, I-PER, O, O, O, O, O, O, I-LOC, O, I-PER, I-PER, I-P...|\n",
      "+----------------------------------------------------------------------+\n",
      "\n"
     ]
    }
   ],
   "source": [
    "\n",
    "prediction.select(\"lemma.result\").show(2, truncate=70)\n",
    "prediction.select(\"pos.result\").show(2, truncate=70)\n",
    "prediction.select(\"ner.result\").show(2, truncate=70)"
   ]
  }
 ],
 "metadata": {
  "colab": {
   "name": "pretrained-german-models.ipynb",
   "provenance": [],
   "toc_visible": true
  },
  "kernelspec": {
   "display_name": "Python 3",
   "language": "python",
   "name": "python3"
  },
  "language_info": {
   "codemirror_mode": {
    "name": "ipython",
    "version": 3
   },
   "file_extension": ".py",
   "mimetype": "text/x-python",
   "name": "python",
   "nbconvert_exporter": "python",
   "pygments_lexer": "ipython3"
  }
 },
 "nbformat": 4,
 "nbformat_minor": 0
}
