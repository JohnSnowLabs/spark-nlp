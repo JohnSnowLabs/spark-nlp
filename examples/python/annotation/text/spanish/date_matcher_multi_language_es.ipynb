{
 "cells": [
  {
   "cell_type": "markdown",
   "metadata": {
    "id": "K_khQKne9mES"
   },
   "source": [
    "# DateMatcher multi-language\n",
    "\n",
    "#### This annotator allows you to specify a source language that will be used to identify temporal keywords and extract dates."
   ]
  },
  {
   "cell_type": "code",
   "source": [
    "# This is only to setup PySpark and Spark NLP on Colab\n",
    "!wget http://setup.johnsnowlabs.com/colab.sh -O - | bash"
   ],
   "metadata": {
    "id": "kna60wk39n9T",
    "outputId": "229ac371-4d54-4e3b-cc99-ba5050a8e2c9",
    "colab": {
     "base_uri": "https://localhost:8080/"
    }
   },
   "execution_count": 1,
   "outputs": [
    {
     "output_type": "stream",
     "name": "stdout",
     "text": [
      "--2022-12-23 12:30:40--  http://setup.johnsnowlabs.com/colab.sh\n",
      "Resolving setup.johnsnowlabs.com (setup.johnsnowlabs.com)... 51.158.130.125\n",
      "Connecting to setup.johnsnowlabs.com (setup.johnsnowlabs.com)|51.158.130.125|:80... connected.\n",
      "HTTP request sent, awaiting response... 302 Found\n",
      "Location: https://setup.johnsnowlabs.com/colab.sh [following]\n",
      "--2022-12-23 12:30:40--  https://setup.johnsnowlabs.com/colab.sh\n",
      "Connecting to setup.johnsnowlabs.com (setup.johnsnowlabs.com)|51.158.130.125|:443... connected.\n",
      "HTTP request sent, awaiting response... 302 Moved Temporarily\n",
      "Location: https://raw.githubusercontent.com/JohnSnowLabs/spark-nlp/master/scripts/colab_setup.sh [following]\n",
      "--2022-12-23 12:30:41--  https://raw.githubusercontent.com/JohnSnowLabs/spark-nlp/master/scripts/colab_setup.sh\n",
      "Resolving raw.githubusercontent.com (raw.githubusercontent.com)... 185.199.109.133, 185.199.108.133, 185.199.110.133, ...\n",
      "Connecting to raw.githubusercontent.com (raw.githubusercontent.com)|185.199.109.133|:443... connected.\n",
      "HTTP request sent, awaiting response... 200 OK\n",
      "Length: 1191 (1.2K) [text/plain]\n",
      "Saving to: ‘STDOUT’\n",
      "\n",
      "-                   100%[===================>]   1.16K  --.-KB/s    in 0s      \n",
      "\n",
      "2022-12-23 12:30:42 (69.5 MB/s) - written to stdout [1191/1191]\n",
      "\n",
      "Installing PySpark 3.2.3 and Spark NLP 4.2.6\n",
      "setup Colab for PySpark 3.2.3 and Spark NLP 4.2.6\n",
      "\u001B[K     |████████████████████████████████| 281.5 MB 48 kB/s \n",
      "\u001B[K     |████████████████████████████████| 453 kB 53.1 MB/s \n",
      "\u001B[K     |████████████████████████████████| 199 kB 54.2 MB/s \n",
      "\u001B[?25h  Building wheel for pyspark (setup.py) ... \u001B[?25l\u001B[?25hdone\n"
     ]
    }
   ]
  },
  {
   "cell_type": "code",
   "execution_count": 2,
   "metadata": {
    "application/vnd.databricks.v1+cell": {
     "inputWidgets": {},
     "nuid": "943a272c-0686-4e02-a8d9-b2849721c829",
     "showTitle": false,
     "title": ""
    },
    "id": "m08q0Jna9mEU"
   },
   "outputs": [],
   "source": [
    "# Import Spark NLP\n",
    "from sparknlp.base import *\n",
    "from sparknlp.annotator import *\n",
    "from sparknlp.pretrained import PretrainedPipeline\n",
    "import sparknlp\n",
    "\n",
    "# Start Spark Session with Spark NLP\n",
    "# start() functions has two parameters: gpu and spark23\n",
    "# sparknlp.start(gpu=True) will start the session with GPU support\n",
    "# sparknlp.start(spark23=True) is when you have Apache Spark 2.3.x installed\n",
    "spark = sparknlp.start()"
   ]
  },
  {
   "cell_type": "code",
   "execution_count": 3,
   "metadata": {
    "application/vnd.databricks.v1+cell": {
     "inputWidgets": {},
     "nuid": "b200e2aa-6280-4f51-9eb4-e30f660e2ba4",
     "showTitle": false,
     "title": ""
    },
    "id": "-1mg-zCq9mEV",
    "outputId": "8db02807-3285-4d83-cf36-711cc84b6b5b",
    "colab": {
     "base_uri": "https://localhost:8080/",
     "height": 222
    }
   },
   "outputs": [
    {
     "output_type": "execute_result",
     "data": {
      "text/plain": [
       "<pyspark.sql.session.SparkSession at 0x7efc10e63e80>"
      ],
      "text/html": [
       "\n",
       "            <div>\n",
       "                <p><b>SparkSession - in-memory</b></p>\n",
       "                \n",
       "        <div>\n",
       "            <p><b>SparkContext</b></p>\n",
       "\n",
       "            <p><a href=\"http://8602fb51744f:4040\">Spark UI</a></p>\n",
       "\n",
       "            <dl>\n",
       "              <dt>Version</dt>\n",
       "                <dd><code>v3.2.3</code></dd>\n",
       "              <dt>Master</dt>\n",
       "                <dd><code>local[*]</code></dd>\n",
       "              <dt>AppName</dt>\n",
       "                <dd><code>Spark NLP</code></dd>\n",
       "            </dl>\n",
       "        </div>\n",
       "        \n",
       "            </div>\n",
       "        "
      ]
     },
     "metadata": {},
     "execution_count": 3
    }
   ],
   "source": [
    "spark"
   ]
  },
  {
   "cell_type": "code",
   "execution_count": 4,
   "metadata": {
    "application/vnd.databricks.v1+cell": {
     "inputWidgets": {},
     "nuid": "c0b759a0-346f-4d9f-9f01-383124c0aa05",
     "showTitle": false,
     "title": ""
    },
    "id": "KUj_aMEM9mEW",
    "outputId": "67cd481c-130c-47f0-a467-c9dfbe5e0226",
    "colab": {
     "base_uri": "https://localhost:8080/",
     "height": 36
    }
   },
   "outputs": [
    {
     "output_type": "execute_result",
     "data": {
      "text/plain": [
       "'4.2.6'"
      ],
      "application/vnd.google.colaboratory.intrinsic+json": {
       "type": "string"
      }
     },
     "metadata": {},
     "execution_count": 4
    }
   ],
   "source": [
    "sparknlp.version()"
   ]
  },
  {
   "cell_type": "markdown",
   "metadata": {
    "id": "O8Hq95pD9mEW"
   },
   "source": [
    "# Spanish examples"
   ]
  },
  {
   "cell_type": "markdown",
   "metadata": {
    "id": "Q4YkIoS29mEW"
   },
   "source": [
    "### Let's import some articoles sentences from the news where relative dates are present."
   ]
  },
  {
   "cell_type": "code",
   "execution_count": 5,
   "metadata": {
    "application/vnd.databricks.v1+cell": {
     "inputWidgets": {},
     "nuid": "a91c2626-5ef8-4e01-9563-120daf4f63f3",
     "showTitle": false,
     "title": ""
    },
    "id": "eA5kta1I9mEW"
   },
   "outputs": [],
   "source": [
    "es_articles = [\n",
    "  (\"Italia este domingo 11 de julio de 2021 es, por tanto, bicampeona de Europa.\",),\n",
    "  (\"Italia sucede a Portugal, ganador del torneo hace 5 años, como campeón europeo de fútbol tras vencer a Inglaterra en Wembley.\",),\n",
    "]"
   ]
  },
  {
   "cell_type": "markdown",
   "metadata": {
    "id": "k38fqXYb9mEX"
   },
   "source": [
    "### Let's  fill a DataFrame with the text column"
   ]
  },
  {
   "cell_type": "code",
   "execution_count": 6,
   "metadata": {
    "application/vnd.databricks.v1+cell": {
     "inputWidgets": {},
     "nuid": "cfe3f9e0-4a96-44bb-b056-0b4a5407c6dc",
     "showTitle": false,
     "title": ""
    },
    "id": "pblFJojX9mEX",
    "outputId": "7207b85d-06b7-4e19-c81a-384dcc91571e",
    "colab": {
     "base_uri": "https://localhost:8080/"
    }
   },
   "outputs": [
    {
     "output_type": "stream",
     "name": "stdout",
     "text": [
      "root\n",
      " |-- text: string (nullable = true)\n",
      "\n",
      "+--------------------+\n",
      "|                text|\n",
      "+--------------------+\n",
      "|Italia este domin...|\n",
      "|Italia sucede a P...|\n",
      "+--------------------+\n",
      "\n"
     ]
    }
   ],
   "source": [
    "articles_cols = [\"text\"]\n",
    "\n",
    "df = spark.createDataFrame(data=es_articles, schema=articles_cols)\n",
    "\n",
    "df.printSchema()\n",
    "df.show()"
   ]
  },
  {
   "cell_type": "markdown",
   "metadata": {
    "id": "9l9ABguG9mEX"
   },
   "source": [
    "### Now, let's create a simple pipeline to apply the DateMatcher, specifying the source language"
   ]
  },
  {
   "cell_type": "code",
   "execution_count": 8,
   "metadata": {
    "application/vnd.databricks.v1+cell": {
     "inputWidgets": {},
     "nuid": "f4baf2a1-3e75-479e-9e9b-2b071624ee3d",
     "showTitle": false,
     "title": ""
    },
    "id": "jYsqbRuu9mEX"
   },
   "outputs": [],
   "source": [
    "document_assembler = DocumentAssembler() \\\n",
    "            .setInputCol(\"text\") \\\n",
    "            .setOutputCol(\"document\")\n",
    "\n",
    "date_matcher = DateMatcher() \\\n",
    "            .setInputCols(['document']) \\\n",
    "            .setOutputCol(\"date\") \\\n",
    "            .setOutputFormat(\"MM/dd/yyyy\") \\\n",
    "            .setSourceLanguage(\"es\")"
   ]
  },
  {
   "cell_type": "code",
   "execution_count": 9,
   "metadata": {
    "id": "6AxIBpR39mEY"
   },
   "outputs": [],
   "source": [
    "### Let's transform the Data"
   ]
  },
  {
   "cell_type": "code",
   "execution_count": 10,
   "metadata": {
    "application/vnd.databricks.v1+cell": {
     "inputWidgets": {},
     "nuid": "10380fbb-43c1-42c3-b6d0-f02e55d75a24",
     "showTitle": false,
     "title": ""
    },
    "id": "a0Du4hMA9mEY",
    "outputId": "b0749a83-fa83-4c34-d3a3-9b322dcbe6d7",
    "colab": {
     "base_uri": "https://localhost:8080/"
    }
   },
   "outputs": [
    {
     "output_type": "stream",
     "name": "stdout",
     "text": [
      "+-------------------------------------------------+\n",
      "|date                                             |\n",
      "+-------------------------------------------------+\n",
      "|[{date, 19, 36, 07/11/2021, {sentence -> 0}, []}]|\n",
      "|[{date, 45, 55, 12/23/2017, {sentence -> 0}, []}]|\n",
      "+-------------------------------------------------+\n",
      "\n"
     ]
    }
   ],
   "source": [
    "assembled = document_assembler.transform(df)\n",
    "date_matcher.transform(assembled).select('date').show(10, False)"
   ]
  },
  {
   "cell_type": "code",
   "execution_count": null,
   "metadata": {
    "id": "1S_ITHPr9mEY"
   },
   "outputs": [],
   "source": []
  }
 ],
 "metadata": {
  "application/vnd.databricks.v1+notebook": {
   "dashboards": [],
   "language": "python",
   "notebookMetadata": {
    "pythonIndentUnit": 2
   },
   "notebookName": "DateMatcherMultiLanguage_tests",
   "notebookOrigID": 2439167545177012,
   "widgets": {}
  },
  "kernelspec": {
   "display_name": "Python 3",
   "language": "python",
   "name": "python3"
  },
  "language_info": {
   "codemirror_mode": {
    "name": "ipython",
    "version": 3
   },
   "file_extension": ".py",
   "mimetype": "text/x-python",
   "name": "python",
   "nbconvert_exporter": "python",
   "pygments_lexer": "ipython3",
   "version": "3.7.10"
  },
  "colab": {
   "provenance": []
  }
 },
 "nbformat": 4,
 "nbformat_minor": 0
}
