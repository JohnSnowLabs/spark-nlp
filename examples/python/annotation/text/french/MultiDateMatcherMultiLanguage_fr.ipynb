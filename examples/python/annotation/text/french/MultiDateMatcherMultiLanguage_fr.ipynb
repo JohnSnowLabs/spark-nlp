{
 "cells": [
  {
   "attachments": {},
   "cell_type": "markdown",
   "id": "6324b870",
   "metadata": {},
   "source": [
    "![JohnSnowLabs](https://nlp.johnsnowlabs.com/assets/images/logo.png)\n",
    "\n",
    "[![Open In Colab](https://colab.research.google.com/assets/colab-badge.svg)](https://colab.research.google.com/github/JohnSnowLabs/spark-nlp/blob/master/examples/python/annotation/text/french/MultiDateMatcherMultiLanguage_fr.ipynb)\n",
    "\n",
    "# MultiDateMatcher in French"
   ]
  },
  {
   "cell_type": "code",
   "execution_count": null,
   "id": "TysiusM56OOA",
   "metadata": {},
   "outputs": [],
   "source": [
    "# Only run this cell when you are using Spark NLP on Google Colab\n",
    "!wget http://setup.johnsnowlabs.com/colab.sh -O - | bash"
   ]
  },
  {
   "cell_type": "code",
   "execution_count": null,
   "id": "d1a9947b",
   "metadata": {},
   "outputs": [
    {
     "name": "stdout",
     "output_type": "stream",
     "text": [
      "4.3.1\n",
      "3.3.0\n"
     ]
    }
   ],
   "source": [
    "from pyspark import *\n",
    "from pyspark.sql.types import StringType\n",
    "\n",
    "import sparknlp\n",
    "from sparknlp.annotator import *\n",
    "from sparknlp.base import *\n",
    "\n",
    "spark = sparknlp.start()\n",
    "print(sparknlp.version())\n",
    "print(spark.version)"
   ]
  },
  {
   "cell_type": "markdown",
   "id": "bfed9d58",
   "metadata": {},
   "source": [
    "## French formatted dates matching examples"
   ]
  },
  {
   "cell_type": "code",
   "execution_count": null,
   "id": "0eb63b0a",
   "metadata": {},
   "outputs": [
    {
     "name": "stdout",
     "output_type": "stream",
     "text": [
      "+--------------------+\n",
      "|                text|\n",
      "+--------------------+\n",
      "|Nous nous sommes ...|\n",
      "+--------------------+\n",
      "\n"
     ]
    }
   ],
   "source": [
    "df = spark.createDataFrame(\n",
    "  [\"Nous nous sommes rencontrés le 13/05/2018 puis le 18/05/2020.\"],\n",
    "  StringType()).toDF(\"text\")\n",
    "df.show()"
   ]
  },
  {
   "cell_type": "code",
   "execution_count": null,
   "id": "3a13f2b6",
   "metadata": {},
   "outputs": [
    {
     "name": "stdout",
     "output_type": "stream",
     "text": [
      "+--------------------------------------------------------------------------------------------------+\n",
      "|date                                                                                              |\n",
      "+--------------------------------------------------------------------------------------------------+\n",
      "|[{date, 31, 40, 05/13/2018, {sentence -> 0}, []}, {date, 50, 59, 05/18/2020, {sentence -> 0}, []}]|\n",
      "+--------------------------------------------------------------------------------------------------+\n",
      "\n"
     ]
    }
   ],
   "source": [
    "document_assembler = DocumentAssembler() \\\n",
    "            .setInputCol(\"text\") \\\n",
    "            .setOutputCol(\"document\")\n",
    "\n",
    "date_matcher = MultiDateMatcher() \\\n",
    "            .setInputCols(['document']) \\\n",
    "            .setOutputCol(\"date\") \\\n",
    "            .setOutputFormat(\"MM/dd/yyyy\") \\\n",
    "            .setSourceLanguage(\"fr\")\n",
    "\n",
    "assembled = document_assembler.transform(df)\n",
    "date_matcher.transform(assembled).select(\"date\").show(10, False)"
   ]
  },
  {
   "cell_type": "markdown",
   "id": "cd208c73",
   "metadata": {},
   "source": [
    "## French unformatted dates matching examples"
   ]
  },
  {
   "cell_type": "code",
   "execution_count": null,
   "id": "bb2f7595",
   "metadata": {},
   "outputs": [
    {
     "name": "stdout",
     "output_type": "stream",
     "text": [
      "+--------------------+\n",
      "|                text|\n",
      "+--------------------+\n",
      "|Nous nous sommes ...|\n",
      "+--------------------+\n",
      "\n"
     ]
    }
   ],
   "source": [
    "df = spark.createDataFrame(\n",
    "  [\"Nous nous sommes rencontrés il y a 2 jours et il m'a dit qu'il nous rendrait visite la semaine prochaine.\"],\n",
    "  StringType()).toDF(\"text\")\n",
    "df.show()"
   ]
  },
  {
   "cell_type": "code",
   "execution_count": null,
   "id": "14a99318",
   "metadata": {},
   "outputs": [
    {
     "name": "stdout",
     "output_type": "stream",
     "text": [
      "+--------------------------------------------------------------------------------------------------+\n",
      "|date                                                                                              |\n",
      "+--------------------------------------------------------------------------------------------------+\n",
      "|[{date, 28, 37, 02/18/2023, {sentence -> 0}, []}, {date, 80, 88, 02/27/2023, {sentence -> 0}, []}]|\n",
      "+--------------------------------------------------------------------------------------------------+\n",
      "\n"
     ]
    }
   ],
   "source": [
    "document_assembler = DocumentAssembler() \\\n",
    "            .setInputCol(\"text\") \\\n",
    "            .setOutputCol(\"document\")\n",
    "\n",
    "date_matcher = MultiDateMatcher() \\\n",
    "            .setInputCols(['document']) \\\n",
    "            .setOutputCol(\"date\") \\\n",
    "            .setOutputFormat(\"MM/dd/yyyy\") \\\n",
    "            .setSourceLanguage(\"fr\")\n",
    "\n",
    "assembled = document_assembler.transform(df)\n",
    "date_matcher.transform(assembled).select(\"date\").show(10, False)"
   ]
  },
  {
   "cell_type": "markdown",
   "id": "d60d29c5",
   "metadata": {},
   "source": [
    "# A short guide to language support extension\n",
    "\n",
    "## In order to extend the date matchers language support for new languages, please follow the instructions below:\n",
    "\n",
    "1. Add the new dictionary into src/main/resources/date-matcher/translation-dictionaries/dynamic folder of the spark-nlp project\n",
    "2. Add the same dictionary base of the other languages\n",
    "   * Add tests for the dictionary\n",
    "3. Add other eventual specific expressions to the base\n",
    "   * Add tests for those specific expressions to avoid syntactic conflicts in parsing\n",
    "4. Add a notebook like this one to show how to use the language extension\n",
    "\n",
    "Thank you for contributing! :)"
   ]
  }
 ],
 "metadata": {
  "colab": {
   "provenance": []
  },
  "kernelspec": {
   "display_name": "Python 3",
   "language": "python",
   "name": "python3"
  },
  "language_info": {
   "codemirror_mode": {
    "name": "ipython",
    "version": 3
   },
   "file_extension": ".py",
   "mimetype": "text/x-python",
   "name": "python",
   "nbconvert_exporter": "python",
   "pygments_lexer": "ipython3"
  }
 },
 "nbformat": 4,
 "nbformat_minor": 5
}
