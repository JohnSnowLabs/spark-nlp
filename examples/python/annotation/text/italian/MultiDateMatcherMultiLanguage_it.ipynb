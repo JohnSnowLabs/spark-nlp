{
 "cells": [
  {
   "cell_type": "code",
   "source": [
    "# This is only to setup PySpark and Spark NLP on Colab\n",
    "!wget http://setup.johnsnowlabs.com/colab.sh -O - | bash"
   ],
   "metadata": {
    "id": "LtDsLK407X92",
    "outputId": "13bbdd9c-63cc-430f-fe93-aa8e57d941a1",
    "colab": {
     "base_uri": "https://localhost:8080/"
    }
   },
   "id": "LtDsLK407X92",
   "execution_count": 1,
   "outputs": [
    {
     "output_type": "stream",
     "name": "stdout",
     "text": [
      "--2022-12-23 12:22:23--  http://setup.johnsnowlabs.com/colab.sh\n",
      "Resolving setup.johnsnowlabs.com (setup.johnsnowlabs.com)... 51.158.130.125\n",
      "Connecting to setup.johnsnowlabs.com (setup.johnsnowlabs.com)|51.158.130.125|:80... connected.\n",
      "HTTP request sent, awaiting response... 302 Found\n",
      "Location: https://setup.johnsnowlabs.com/colab.sh [following]\n",
      "--2022-12-23 12:22:23--  https://setup.johnsnowlabs.com/colab.sh\n",
      "Connecting to setup.johnsnowlabs.com (setup.johnsnowlabs.com)|51.158.130.125|:443... connected.\n",
      "HTTP request sent, awaiting response... 302 Moved Temporarily\n",
      "Location: https://raw.githubusercontent.com/JohnSnowLabs/spark-nlp/master/scripts/colab_setup.sh [following]\n",
      "--2022-12-23 12:22:24--  https://raw.githubusercontent.com/JohnSnowLabs/spark-nlp/master/scripts/colab_setup.sh\n",
      "Resolving raw.githubusercontent.com (raw.githubusercontent.com)... 185.199.108.133, 185.199.109.133, 185.199.110.133, ...\n",
      "Connecting to raw.githubusercontent.com (raw.githubusercontent.com)|185.199.108.133|:443... connected.\n",
      "HTTP request sent, awaiting response... 200 OK\n",
      "Length: 1191 (1.2K) [text/plain]\n",
      "Saving to: ‘STDOUT’\n",
      "\n",
      "-                   100%[===================>]   1.16K  --.-KB/s    in 0s      \n",
      "\n",
      "2022-12-23 12:22:24 (43.8 MB/s) - written to stdout [1191/1191]\n",
      "\n",
      "Installing PySpark 3.2.3 and Spark NLP 4.2.6\n",
      "setup Colab for PySpark 3.2.3 and Spark NLP 4.2.6\n",
      "\u001B[K     |████████████████████████████████| 281.5 MB 51 kB/s \n",
      "\u001B[K     |████████████████████████████████| 453 kB 45.1 MB/s \n",
      "\u001B[K     |████████████████████████████████| 199 kB 69.3 MB/s \n",
      "\u001B[?25h  Building wheel for pyspark (setup.py) ... \u001B[?25l\u001B[?25hdone\n"
     ]
    }
   ]
  },
  {
   "cell_type": "code",
   "execution_count": 2,
   "id": "d1a9947b",
   "metadata": {
    "id": "d1a9947b"
   },
   "outputs": [],
   "source": [
    "from pyspark import *\n",
    "import sparknlp"
   ]
  },
  {
   "cell_type": "code",
   "execution_count": 3,
   "id": "1d695f9d",
   "metadata": {
    "id": "1d695f9d"
   },
   "outputs": [],
   "source": [
    "spark = sparknlp.start()"
   ]
  },
  {
   "cell_type": "code",
   "execution_count": 4,
   "id": "6edb5c48",
   "metadata": {
    "id": "6edb5c48"
   },
   "outputs": [],
   "source": [
    "from sparknlp.annotator import *\n",
    "from sparknlp.base import *"
   ]
  },
  {
   "cell_type": "code",
   "execution_count": 5,
   "id": "b072abfa",
   "metadata": {
    "id": "b072abfa",
    "outputId": "7d825d81-b240-41de-a451-2f8a7245d05b",
    "colab": {
     "base_uri": "https://localhost:8080/",
     "height": 35
    }
   },
   "outputs": [
    {
     "output_type": "execute_result",
     "data": {
      "text/plain": [
       "'4.2.6'"
      ],
      "application/vnd.google.colaboratory.intrinsic+json": {
       "type": "string"
      }
     },
     "metadata": {},
     "execution_count": 5
    }
   ],
   "source": [
    "sparknlp.version()"
   ]
  },
  {
   "cell_type": "code",
   "execution_count": 6,
   "id": "84dc2c25",
   "metadata": {
    "id": "84dc2c25"
   },
   "outputs": [],
   "source": [
    "from pyspark.sql.types import StringType"
   ]
  },
  {
   "cell_type": "markdown",
   "id": "dab1ddd2",
   "metadata": {
    "id": "dab1ddd2"
   },
   "source": [
    "## Italian formatted dates matching examples"
   ]
  },
  {
   "cell_type": "code",
   "execution_count": 7,
   "id": "6d6b87ad",
   "metadata": {
    "id": "6d6b87ad",
    "outputId": "230f84af-b89f-4a41-a9d3-95ea352c5f76",
    "colab": {
     "base_uri": "https://localhost:8080/"
    }
   },
   "outputs": [
    {
     "output_type": "stream",
     "name": "stdout",
     "text": [
      "+--------------------+\n",
      "|                text|\n",
      "+--------------------+\n",
      "|Ci siamo incontra...|\n",
      "+--------------------+\n",
      "\n"
     ]
    }
   ],
   "source": [
    "df = spark.createDataFrame(\n",
    "  [\"Ci siamo incontrati il 13/5/2018 e poi il 18/5/2020.\"],\n",
    "  StringType()).toDF(\"text\")\n",
    "df.show()"
   ]
  },
  {
   "cell_type": "code",
   "execution_count": 9,
   "id": "6c68565a",
   "metadata": {
    "id": "6c68565a",
    "outputId": "0d05d6d1-782a-4dcc-aa16-9d7589feab9f",
    "colab": {
     "base_uri": "https://localhost:8080/"
    }
   },
   "outputs": [
    {
     "output_type": "stream",
     "name": "stdout",
     "text": [
      "+--------------------------------------------------------------------------------------------------+\n",
      "|date                                                                                              |\n",
      "+--------------------------------------------------------------------------------------------------+\n",
      "|[{date, 23, 31, 05/13/2018, {sentence -> 0}, []}, {date, 42, 50, 05/18/2020, {sentence -> 0}, []}]|\n",
      "+--------------------------------------------------------------------------------------------------+\n",
      "\n"
     ]
    }
   ],
   "source": [
    "document_assembler = DocumentAssembler() \\\n",
    "            .setInputCol(\"text\") \\\n",
    "            .setOutputCol(\"document\")\n",
    "\n",
    "date_matcher = MultiDateMatcher() \\\n",
    "            .setInputCols(['document']) \\\n",
    "            .setOutputCol(\"date\") \\\n",
    "            .setOutputFormat(\"MM/dd/yyyy\") \\\n",
    "            .setSourceLanguage(\"it\")\n",
    "\n",
    "assembled = document_assembler.transform(df)\n",
    "date_matcher.transform(assembled).select(\"date\").show(10, False)"
   ]
  },
  {
   "cell_type": "markdown",
   "id": "f0c2c655",
   "metadata": {
    "id": "f0c2c655"
   },
   "source": [
    "## Italian unformatted dates matching examples"
   ]
  },
  {
   "cell_type": "code",
   "execution_count": 10,
   "id": "20f7f76a",
   "metadata": {
    "id": "20f7f76a",
    "outputId": "e428063a-e653-4ffe-a40b-0790c4dce137",
    "colab": {
     "base_uri": "https://localhost:8080/"
    }
   },
   "outputs": [
    {
     "output_type": "stream",
     "name": "stdout",
     "text": [
      "+--------------------+\n",
      "|                text|\n",
      "+--------------------+\n",
      "|Ci siamo incontra...|\n",
      "+--------------------+\n",
      "\n"
     ]
    }
   ],
   "source": [
    "df = spark.createDataFrame(\n",
    "  [\"Ci siamo incontrati 2 giorni fa e mi disse che ci avrebbe visitato la settimana prossima.\"],\n",
    "  StringType()).toDF(\"text\")\n",
    "df.show()"
   ]
  },
  {
   "cell_type": "code",
   "execution_count": 12,
   "id": "6060220a",
   "metadata": {
    "id": "6060220a",
    "outputId": "de16b3d3-d4b3-46eb-8fcc-e38f325a9ca9",
    "colab": {
     "base_uri": "https://localhost:8080/"
    }
   },
   "outputs": [
    {
     "output_type": "stream",
     "name": "stdout",
     "text": [
      "+--------------------------------------------------------------------------------------------------+\n",
      "|date                                                                                              |\n",
      "+--------------------------------------------------------------------------------------------------+\n",
      "|[{date, 20, 29, 12/21/2022, {sentence -> 0}, []}, {date, 69, 77, 12/30/2022, {sentence -> 0}, []}]|\n",
      "+--------------------------------------------------------------------------------------------------+\n",
      "\n"
     ]
    }
   ],
   "source": [
    "document_assembler = DocumentAssembler() \\\n",
    "            .setInputCol(\"text\") \\\n",
    "            .setOutputCol(\"document\")\n",
    "\n",
    "date_matcher = MultiDateMatcher() \\\n",
    "            .setInputCols(['document']) \\\n",
    "            .setOutputCol(\"date\") \\\n",
    "            .setOutputFormat(\"MM/dd/yyyy\") \\\n",
    "            .setSourceLanguage(\"it\")\n",
    "\n",
    "assembled = document_assembler.transform(df)\n",
    "date_matcher.transform(assembled).select(\"date\").show(10, False)"
   ]
  },
  {
   "cell_type": "markdown",
   "id": "51a37f93",
   "metadata": {
    "id": "51a37f93"
   },
   "source": [
    "# A short guide to language support extension\n",
    "\n",
    "## In order to extend the date matchers language support for new languages, please follow the instructions below:\n",
    "\n",
    "1. Add the new dictionary into src/main/resources/date-matcher/translation-dictionaries/dynamic folder of the spark-nlp project\n",
    "2. Add the same dictionary base of the other languages\n",
    "   * Add tests for the dictionary\n",
    "3. Add other eventual specific expressions to the base\n",
    "   * Add tests for those specific expressions to avoid syntactic conflicts in parsing\n",
    "4. Add a notebook like this one to show how to use the language extension\n",
    "\n",
    "Thank you for contributing! :)"
   ]
  },
  {
   "cell_type": "code",
   "execution_count": null,
   "id": "9f5f0959",
   "metadata": {
    "id": "9f5f0959"
   },
   "outputs": [],
   "source": []
  }
 ],
 "metadata": {
  "kernelspec": {
   "display_name": "Python 3",
   "language": "python",
   "name": "python3"
  },
  "language_info": {
   "codemirror_mode": {
    "name": "ipython",
    "version": 3
   },
   "file_extension": ".py",
   "mimetype": "text/x-python",
   "name": "python",
   "nbconvert_exporter": "python",
   "pygments_lexer": "ipython3",
   "version": "3.7.11"
  },
  "colab": {
   "provenance": []
  }
 },
 "nbformat": 4,
 "nbformat_minor": 5
}
