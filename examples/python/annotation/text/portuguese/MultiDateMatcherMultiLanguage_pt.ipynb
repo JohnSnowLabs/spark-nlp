{
  "cells": [
    {
      "cell_type": "code",
      "source": [
        "# This is only to setup PySpark and Spark NLP on Colab\n",
        "!wget http://setup.johnsnowlabs.com/colab.sh -O - | bash"
      ],
      "metadata": {
        "id": "dFa6j1Lq8bKJ",
        "outputId": "69041a40-6d43-423e-9fd3-9707cade8be6",
        "colab": {
          "base_uri": "https://localhost:8080/"
        }
      },
      "id": "dFa6j1Lq8bKJ",
      "execution_count": 1,
      "outputs": [
        {
          "output_type": "stream",
          "name": "stdout",
          "text": [
            "--2022-12-23 12:25:31--  http://setup.johnsnowlabs.com/colab.sh\n",
            "Resolving setup.johnsnowlabs.com (setup.johnsnowlabs.com)... 51.158.130.125\n",
            "Connecting to setup.johnsnowlabs.com (setup.johnsnowlabs.com)|51.158.130.125|:80... connected.\n",
            "HTTP request sent, awaiting response... 302 Found\n",
            "Location: https://setup.johnsnowlabs.com/colab.sh [following]\n",
            "--2022-12-23 12:25:31--  https://setup.johnsnowlabs.com/colab.sh\n",
            "Connecting to setup.johnsnowlabs.com (setup.johnsnowlabs.com)|51.158.130.125|:443... connected.\n",
            "HTTP request sent, awaiting response... 302 Moved Temporarily\n",
            "Location: https://raw.githubusercontent.com/JohnSnowLabs/spark-nlp/master/scripts/colab_setup.sh [following]\n",
            "--2022-12-23 12:25:32--  https://raw.githubusercontent.com/JohnSnowLabs/spark-nlp/master/scripts/colab_setup.sh\n",
            "Resolving raw.githubusercontent.com (raw.githubusercontent.com)... 185.199.111.133, 185.199.110.133, 185.199.109.133, ...\n",
            "Connecting to raw.githubusercontent.com (raw.githubusercontent.com)|185.199.111.133|:443... connected.\n",
            "HTTP request sent, awaiting response... 200 OK\n",
            "Length: 1191 (1.2K) [text/plain]\n",
            "Saving to: ‘STDOUT’\n",
            "\n",
            "-                   100%[===================>]   1.16K  --.-KB/s    in 0s      \n",
            "\n",
            "2022-12-23 12:25:32 (31.1 MB/s) - written to stdout [1191/1191]\n",
            "\n",
            "Installing PySpark 3.2.3 and Spark NLP 4.2.6\n",
            "setup Colab for PySpark 3.2.3 and Spark NLP 4.2.6\n",
            "\u001b[K     |████████████████████████████████| 281.5 MB 53 kB/s \n",
            "\u001b[K     |████████████████████████████████| 453 kB 50.5 MB/s \n",
            "\u001b[K     |████████████████████████████████| 199 kB 55.6 MB/s \n",
            "\u001b[?25h  Building wheel for pyspark (setup.py) ... \u001b[?25l\u001b[?25hdone\n"
          ]
        }
      ]
    },
    {
      "cell_type": "code",
      "execution_count": 2,
      "id": "d1a9947b",
      "metadata": {
        "id": "d1a9947b"
      },
      "outputs": [],
      "source": [
        "from pyspark import *\n",
        "import sparknlp"
      ]
    },
    {
      "cell_type": "code",
      "execution_count": 13,
      "id": "1d695f9d",
      "metadata": {
        "id": "1d695f9d"
      },
      "outputs": [],
      "source": [
        "spark= sparknlp.start()"
      ]
    },
    {
      "cell_type": "code",
      "execution_count": 14,
      "id": "6edb5c48",
      "metadata": {
        "id": "6edb5c48"
      },
      "outputs": [],
      "source": [
        "from sparknlp.annotator import *\n",
        "from sparknlp.base import *"
      ]
    },
    {
      "cell_type": "code",
      "execution_count": 15,
      "id": "b072abfa",
      "metadata": {
        "id": "b072abfa",
        "outputId": "a1efcdfc-b76a-4fbf-e4c9-06a3877e41be",
        "colab": {
          "base_uri": "https://localhost:8080/",
          "height": 36
        }
      },
      "outputs": [
        {
          "output_type": "execute_result",
          "data": {
            "text/plain": [
              "'4.2.6'"
            ],
            "application/vnd.google.colaboratory.intrinsic+json": {
              "type": "string"
            }
          },
          "metadata": {},
          "execution_count": 15
        }
      ],
      "source": [
        "sparknlp.version()"
      ]
    },
    {
      "cell_type": "code",
      "execution_count": 16,
      "id": "84dc2c25",
      "metadata": {
        "id": "84dc2c25"
      },
      "outputs": [],
      "source": [
        "from pyspark.sql.types import StringType"
      ]
    },
    {
      "cell_type": "markdown",
      "id": "e547708d",
      "metadata": {
        "id": "e547708d"
      },
      "source": [
        "## Portuguese formatted dates matching examples"
      ]
    },
    {
      "cell_type": "code",
      "execution_count": 17,
      "id": "88ca9039",
      "metadata": {
        "id": "88ca9039",
        "outputId": "2e53d440-3b60-4b4b-dac1-a22bbd5c9657",
        "colab": {
          "base_uri": "https://localhost:8080/"
        }
      },
      "outputs": [
        {
          "output_type": "stream",
          "name": "stdout",
          "text": [
            "+--------------------+\n",
            "|                text|\n",
            "+--------------------+\n",
            "|Encontramo-nos no...|\n",
            "+--------------------+\n",
            "\n"
          ]
        }
      ],
      "source": [
        "df = spark.createDataFrame(\n",
        "  [\"Encontramo-nos no dia 13/05/2018 e depois no dia 18/05/2020.\"],\n",
        "  StringType()).toDF(\"text\")\n",
        "df.show()"
      ]
    },
    {
      "cell_type": "code",
      "execution_count": 18,
      "id": "0efc1f05",
      "metadata": {
        "id": "0efc1f05",
        "outputId": "2f3ba70c-c129-455b-d5dc-d7403fdac4dd",
        "colab": {
          "base_uri": "https://localhost:8080/"
        }
      },
      "outputs": [
        {
          "output_type": "stream",
          "name": "stdout",
          "text": [
            "+--------------------------------------------------------------------------------------------------+\n",
            "|date                                                                                              |\n",
            "+--------------------------------------------------------------------------------------------------+\n",
            "|[{date, 23, 32, 05/13/2018, {sentence -> 0}, []}, {date, 51, 60, 05/18/2020, {sentence -> 0}, []}]|\n",
            "+--------------------------------------------------------------------------------------------------+\n",
            "\n"
          ]
        }
      ],
      "source": [
        "document_assembler = DocumentAssembler() \\\n",
        "            .setInputCol(\"text\") \\\n",
        "            .setOutputCol(\"document\")\n",
        "\n",
        "date_matcher = MultiDateMatcher() \\\n",
        "            .setInputCols(['document']) \\\n",
        "            .setOutputCol(\"date\") \\\n",
        "            .setOutputFormat(\"MM/dd/yyyy\") \\\n",
        "            .setSourceLanguage(\"pt\")\n",
        "\n",
        "assembled = document_assembler.transform(df)\n",
        "date_matcher.transform(assembled).select(\"date\").show(10, False)"
      ]
    },
    {
      "cell_type": "markdown",
      "id": "1f7e34f8",
      "metadata": {
        "id": "1f7e34f8"
      },
      "source": [
        "## Portuguese unformatted dates matching examples"
      ]
    },
    {
      "cell_type": "code",
      "execution_count": 19,
      "id": "5258a479",
      "metadata": {
        "id": "5258a479",
        "outputId": "8c8f59c3-6b7c-4e05-e5b4-eaf125546e0d",
        "colab": {
          "base_uri": "https://localhost:8080/"
        }
      },
      "outputs": [
        {
          "output_type": "stream",
          "name": "stdout",
          "text": [
            "+--------------------+\n",
            "|                text|\n",
            "+--------------------+\n",
            "|Nós nos conhecemo...|\n",
            "+--------------------+\n",
            "\n"
          ]
        }
      ],
      "source": [
        "df = spark.createDataFrame(\n",
        "  [\"Nós nos conhecemos há 5 dias e ele me disse que nos visitaria na próxima semana.\"],\n",
        "  StringType()).toDF(\"text\")\n",
        "df.show()"
      ]
    },
    {
      "cell_type": "code",
      "execution_count": 20,
      "id": "ab6f1eb6",
      "metadata": {
        "id": "ab6f1eb6",
        "outputId": "069ae819-9434-4b0b-d2e2-561c507fdee5",
        "colab": {
          "base_uri": "https://localhost:8080/"
        }
      },
      "outputs": [
        {
          "output_type": "stream",
          "name": "stdout",
          "text": [
            "+--------------------------------------------------------------------------------------------------+\n",
            "|date                                                                                              |\n",
            "+--------------------------------------------------------------------------------------------------+\n",
            "|[{date, 19, 28, 12/18/2022, {sentence -> 0}, []}, {date, 66, 74, 12/30/2022, {sentence -> 0}, []}]|\n",
            "+--------------------------------------------------------------------------------------------------+\n",
            "\n"
          ]
        }
      ],
      "source": [
        "document_assembler = DocumentAssembler() \\\n",
        "            .setInputCol(\"text\") \\\n",
        "            .setOutputCol(\"document\")\n",
        "\n",
        "date_matcher = MultiDateMatcher() \\\n",
        "            .setInputCols(['document']) \\\n",
        "            .setOutputCol(\"date\") \\\n",
        "            .setOutputFormat(\"MM/dd/yyyy\") \\\n",
        "            .setSourceLanguage(\"pt\")\n",
        "\n",
        "assembled = document_assembler.transform(df)\n",
        "date_matcher.transform(assembled).select(\"date\").show(10, False)"
      ]
    },
    {
      "cell_type": "markdown",
      "id": "e4e2bb5a",
      "metadata": {
        "id": "e4e2bb5a"
      },
      "source": [
        "# A short guide to language support extension\n",
        "\n",
        "## In order to extend the date matchers language support for new languages, please follow the instructions below:\n",
        "\n",
        "1. Add the new dictionary into src/main/resources/date-matcher/translation-dictionaries/dynamic folder of the spark-nlp project\n",
        "2. Add the same dictionary base of the other languages\n",
        "   * Add tests for the dictionary\n",
        "3. Add other eventual specific expressions to the base\n",
        "   * Add tests for those specific expressions to avoid syntactic conflicts in parsing\n",
        "4. Add a notebook like this one to show how to use the language extension\n",
        "\n",
        "Thank you for contributing! :)"
      ]
    },
    {
      "cell_type": "code",
      "execution_count": null,
      "id": "ce426720",
      "metadata": {
        "id": "ce426720"
      },
      "outputs": [],
      "source": []
    }
  ],
  "metadata": {
    "kernelspec": {
      "display_name": "Python 3",
      "language": "python",
      "name": "python3"
    },
    "language_info": {
      "codemirror_mode": {
        "name": "ipython",
        "version": 3
      },
      "file_extension": ".py",
      "mimetype": "text/x-python",
      "name": "python",
      "nbconvert_exporter": "python",
      "pygments_lexer": "ipython3",
      "version": "3.7.11"
    },
    "colab": {
      "provenance": []
    }
  },
  "nbformat": 4,
  "nbformat_minor": 5
}