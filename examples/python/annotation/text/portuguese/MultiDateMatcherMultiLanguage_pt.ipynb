{
 "cells": [
  {
   "attachments": {},
   "cell_type": "markdown",
   "id": "cfd62825",
   "metadata": {},
   "source": [
    "![JohnSnowLabs](https://sparknlp.org/assets/images/logo.png)\n",
    "\n",
    "[![Open In Colab](https://colab.research.google.com/assets/colab-badge.svg)](https://colab.research.google.com/github/JohnSnowLabs/spark-nlp/blob/master/examples/python/annotation/text/portuguese/MultiDateMatcherMultiLanguage_pt.ipynb)\n",
    "\n",
    "# MultiDateMatcher in Portuguese"
   ]
  },
  {
   "cell_type": "code",
   "execution_count": null,
   "id": "dFa6j1Lq8bKJ",
   "metadata": {},
   "outputs": [],
   "source": [
    "# Only run this cell when you are using Spark NLP on Google Colab\n",
    "!wget http://setup.johnsnowlabs.com/colab.sh -O - | bash"
   ]
  },
  {
   "cell_type": "code",
   "execution_count": null,
   "id": "84dc2c25",
   "metadata": {},
   "outputs": [
    {
     "name": "stdout",
     "output_type": "stream",
     "text": [
      "4.3.1\n",
      "3.3.0\n"
     ]
    }
   ],
   "source": [
    "from pyspark import *\n",
    "from pyspark.sql.types import StringType\n",
    "\n",
    "import sparknlp\n",
    "from sparknlp.annotator import *\n",
    "from sparknlp.base import *\n",
    "\n",
    "spark = sparknlp.start()\n",
    "print(sparknlp.version())\n",
    "print(spark.version)"
   ]
  },
  {
   "cell_type": "markdown",
   "id": "e547708d",
   "metadata": {},
   "source": [
    "## Portuguese formatted dates matching examples"
   ]
  },
  {
   "cell_type": "code",
   "execution_count": null,
   "id": "88ca9039",
   "metadata": {},
   "outputs": [
    {
     "name": "stdout",
     "output_type": "stream",
     "text": [
      "+--------------------+\n",
      "|                text|\n",
      "+--------------------+\n",
      "|Encontramo-nos no...|\n",
      "+--------------------+\n",
      "\n"
     ]
    }
   ],
   "source": [
    "df = spark.createDataFrame(\n",
    "  [\"Encontramo-nos no dia 13/05/2018 e depois no dia 18/05/2020.\"],\n",
    "  StringType()).toDF(\"text\")\n",
    "df.show()"
   ]
  },
  {
   "cell_type": "code",
   "execution_count": null,
   "id": "0efc1f05",
   "metadata": {},
   "outputs": [
    {
     "name": "stdout",
     "output_type": "stream",
     "text": [
      "+--------------------------------------------------------------------------------------------------+\n",
      "|date                                                                                              |\n",
      "+--------------------------------------------------------------------------------------------------+\n",
      "|[{date, 23, 32, 05/13/2018, {sentence -> 0}, []}, {date, 51, 60, 05/18/2020, {sentence -> 0}, []}]|\n",
      "+--------------------------------------------------------------------------------------------------+\n",
      "\n"
     ]
    }
   ],
   "source": [
    "document_assembler = DocumentAssembler() \\\n",
    "            .setInputCol(\"text\") \\\n",
    "            .setOutputCol(\"document\")\n",
    "\n",
    "date_matcher = MultiDateMatcher() \\\n",
    "            .setInputCols(['document']) \\\n",
    "            .setOutputCol(\"date\") \\\n",
    "            .setOutputFormat(\"MM/dd/yyyy\") \\\n",
    "            .setSourceLanguage(\"pt\")\n",
    "\n",
    "assembled = document_assembler.transform(df)\n",
    "date_matcher.transform(assembled).select(\"date\").show(10, False)"
   ]
  },
  {
   "cell_type": "markdown",
   "id": "1f7e34f8",
   "metadata": {},
   "source": [
    "## Portuguese unformatted dates matching examples"
   ]
  },
  {
   "cell_type": "code",
   "execution_count": null,
   "id": "5258a479",
   "metadata": {},
   "outputs": [
    {
     "name": "stdout",
     "output_type": "stream",
     "text": [
      "+--------------------+\n",
      "|                text|\n",
      "+--------------------+\n",
      "|Nós nos conhecemo...|\n",
      "+--------------------+\n",
      "\n"
     ]
    }
   ],
   "source": [
    "df = spark.createDataFrame(\n",
    "  [\"Nós nos conhecemos há 5 dias e ele me disse que nos visitaria na próxima semana.\"],\n",
    "  StringType()).toDF(\"text\")\n",
    "df.show()"
   ]
  },
  {
   "cell_type": "code",
   "execution_count": null,
   "id": "ab6f1eb6",
   "metadata": {},
   "outputs": [
    {
     "name": "stdout",
     "output_type": "stream",
     "text": [
      "+--------------------------------------------------------------------------------------------------+\n",
      "|date                                                                                              |\n",
      "+--------------------------------------------------------------------------------------------------+\n",
      "|[{date, 19, 28, 02/15/2023, {sentence -> 0}, []}, {date, 66, 74, 02/27/2023, {sentence -> 0}, []}]|\n",
      "+--------------------------------------------------------------------------------------------------+\n",
      "\n"
     ]
    }
   ],
   "source": [
    "document_assembler = DocumentAssembler() \\\n",
    "            .setInputCol(\"text\") \\\n",
    "            .setOutputCol(\"document\")\n",
    "\n",
    "date_matcher = MultiDateMatcher() \\\n",
    "            .setInputCols(['document']) \\\n",
    "            .setOutputCol(\"date\") \\\n",
    "            .setOutputFormat(\"MM/dd/yyyy\") \\\n",
    "            .setSourceLanguage(\"pt\")\n",
    "\n",
    "assembled = document_assembler.transform(df)\n",
    "date_matcher.transform(assembled).select(\"date\").show(10, False)"
   ]
  },
  {
   "cell_type": "markdown",
   "id": "e4e2bb5a",
   "metadata": {},
   "source": [
    "# A short guide to language support extension\n",
    "\n",
    "## In order to extend the date matchers language support for new languages, please follow the instructions below:\n",
    "\n",
    "1. Add the new dictionary into src/main/resources/date-matcher/translation-dictionaries/dynamic folder of the spark-nlp project\n",
    "2. Add the same dictionary base of the other languages\n",
    "   * Add tests for the dictionary\n",
    "3. Add other eventual specific expressions to the base\n",
    "   * Add tests for those specific expressions to avoid syntactic conflicts in parsing\n",
    "4. Add a notebook like this one to show how to use the language extension\n",
    "\n",
    "Thank you for contributing! :)"
   ]
  }
 ],
 "metadata": {
  "colab": {
   "provenance": []
  },
  "kernelspec": {
   "display_name": "Python 3",
   "language": "python",
   "name": "python3"
  },
  "language_info": {
   "codemirror_mode": {
    "name": "ipython",
    "version": 3
   },
   "file_extension": ".py",
   "mimetype": "text/x-python",
   "name": "python",
   "nbconvert_exporter": "python",
   "pygments_lexer": "ipython3"
  }
 },
 "nbformat": 4,
 "nbformat_minor": 5
}
