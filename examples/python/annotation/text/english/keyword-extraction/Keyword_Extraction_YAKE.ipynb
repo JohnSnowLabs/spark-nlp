{
 "cells": [
  {
   "cell_type": "markdown",
   "metadata": {},
   "source": [
    "![JohnSnowLabs](https://sparknlp.org/assets/images/logo.png)"
   ]
  },
  {
   "attachments": {},
   "cell_type": "markdown",
   "metadata": {},
   "source": [
    "[![Open In Colab](https://colab.research.google.com/assets/colab-badge.svg)](https://colab.research.google.com/github/JohnSnowLabs/spark-nlp/blob/master/examples/python/annotation/text/english/keyword-extraction/Keyword_Extraction_YAKE.ipynb)"
   ]
  },
  {
   "attachments": {},
   "cell_type": "markdown",
   "metadata": {},
   "source": [
    "# Keyword Extraction with YAKE"
   ]
  },
  {
   "cell_type": "code",
   "execution_count": null,
   "metadata": {},
   "outputs": [],
   "source": [
    "# Only run this cell when you are using Spark NLP on Google Colab\n",
    "!wget http://setup.johnsnowlabs.com/colab.sh -O - | bash"
   ]
  },
  {
   "cell_type": "code",
   "execution_count": null,
   "metadata": {},
   "outputs": [],
   "source": [
    "from pyspark.sql import functions as F\n",
    "from pyspark.sql.functions import lit\n",
    "from pyspark.sql.types import StringType, DataType,ArrayType\n",
    "from pyspark.sql.functions import udf, struct\n",
    "from pyspark.ml import Pipeline\n",
    "from IPython.core.display import display, HTML\n",
    "import re"
   ]
  },
  {
   "cell_type": "code",
   "execution_count": null,
   "metadata": {},
   "outputs": [
    {
     "name": "stdout",
     "output_type": "stream",
     "text": [
      "Spark NLP version 4.3.1\n",
      "Apache Spark version: 3.3.0\n"
     ]
    },
    {
     "data": {
      "text/html": [
       "\n",
       "            <div>\n",
       "                <p><b>SparkSession - in-memory</b></p>\n",
       "                \n",
       "        <div>\n",
       "            <p><b>SparkContext</b></p>\n",
       "\n",
       "            <p><a href=\"http://192.168.0.34:4041\">Spark UI</a></p>\n",
       "\n",
       "            <dl>\n",
       "              <dt>Version</dt>\n",
       "                <dd><code>v3.3.0</code></dd>\n",
       "              <dt>Master</dt>\n",
       "                <dd><code>local[*]</code></dd>\n",
       "              <dt>AppName</dt>\n",
       "                <dd><code>Spark NLP</code></dd>\n",
       "            </dl>\n",
       "        </div>\n",
       "        \n",
       "            </div>\n",
       "        "
      ],
      "text/plain": [
       "<pyspark.sql.session.SparkSession at 0x7fc16b4f1520>"
      ]
     },
     "execution_count": null,
     "metadata": {},
     "output_type": "execute_result"
    }
   ],
   "source": [
    "import sparknlp\n",
    "\n",
    "from pyspark.ml import PipelineModel\n",
    "from sparknlp.annotator import *\n",
    "from sparknlp.base import *\n",
    "\n",
    "spark = sparknlp.start() # for GPU training >> sparknlp.start(gpu = True) # for Spark 2.3 =>> sparknlp.start(spark23 = True)\n",
    "\n",
    "print(\"Spark NLP version\", sparknlp.version())\n",
    "print(\"Apache Spark version:\", spark.version)\n",
    "\n",
    "spark"
   ]
  },
  {
   "cell_type": "code",
   "execution_count": null,
   "metadata": {},
   "outputs": [],
   "source": [
    "stopwords = StopWordsCleaner().getStopWords()"
   ]
  },
  {
   "cell_type": "code",
   "execution_count": null,
   "metadata": {},
   "outputs": [
    {
     "data": {
      "text/plain": [
       "['i', 'me', 'my', 'myself', 'we']"
      ]
     },
     "execution_count": null,
     "metadata": {},
     "output_type": "execute_result"
    }
   ],
   "source": [
    "stopwords[:5]"
   ]
  },
  {
   "cell_type": "markdown",
   "metadata": {},
   "source": [
    "## YAKE Keyword Extractor\n",
    "\n",
    "Yake is an Unsupervised, Corpus-Independent, Domain and Language-Independent and Single-Document keyword extraction algorithm.\n",
    "\n",
    "Extracting keywords from texts has become a challenge for individuals and organizations as the information grows in complexity and size. The need to automate this task so that text can be processed in a timely and adequate manner has led to the emergence of automatic keyword extraction tools. Yake is a novel feature-based system for multi-lingual keyword extraction, which supports texts of different sizes, domain or languages. Unlike other approaches, Yake does not rely on dictionaries nor thesauri, neither is trained against any corpora. Instead, it follows an unsupervised approach which builds upon features extracted from the text, making it thus applicable to documents written in different languages without the need for further knowledge. This can be beneficial for a large number of tasks and a plethora of situations where access to training corpora is either limited or restricted.\n",
    "\n",
    "\n",
    "The algorithm makes use of the position of a sentence and token. Therefore, to use the annotator, the text should be first sent through a Sentence Boundary Detector and then a tokenizer.\n",
    "\n",
    "You can tweak the following parameters to get the best result from the annotator.\n",
    "\n",
    "- *setMinNGrams(int)* Select the minimum length of a extracted keyword\n",
    "- *setMaxNGrams(int)* Select the maximum length of a extracted keyword\n",
    "- *setNKeywords(int)* Extract the top N keywords\n",
    "- *setStopWords(list)* Set the list of stop words\n",
    "- *setThreshold(float)* Each keyword will be given a keyword score greater than 0. (Lower the score better the keyword) Set an upper bound for the keyword score from this method.\n",
    "- *setWindowSize(int)* Yake will construct a co-occurence matrix. You can set the window size for the cooccurence matrix construction from this method. ex: windowSize=2 will look at two words to both left and right of a candidate word.\n",
    "\n",
    "\n",
    "<b>References</b>\n",
    "\n",
    "Campos, R., Mangaravite, V., Pasquali, A., Jatowt, A., Jorge, A., Nunes, C. and Jatowt, A. (2020). YAKE! Keyword Extraction from Single Documents using Multiple Local Features. In Information Sciences Journal. Elsevier, Vol 509, pp 257-289. [pdf](https://doi.org/10.1016/j.ins.2019.09.013)"
   ]
  },
  {
   "cell_type": "code",
   "execution_count": null,
   "metadata": {},
   "outputs": [],
   "source": [
    "document = DocumentAssembler() \\\n",
    "            .setInputCol(\"text\") \\\n",
    "            .setOutputCol(\"document\")\n",
    "\n",
    "sentenceDetector = SentenceDetector() \\\n",
    "            .setInputCols(\"document\") \\\n",
    "            .setOutputCol(\"sentence\")\n",
    "\n",
    "token = Tokenizer() \\\n",
    "            .setInputCols(\"sentence\") \\\n",
    "            .setOutputCol(\"token\") \\\n",
    "            .setContextChars([\"(\", \")\", \"?\", \"!\", \".\", \",\"])\n",
    "\n",
    "keywords = YakeKeywordExtraction() \\\n",
    "            .setInputCols(\"token\") \\\n",
    "            .setOutputCol(\"keywords\") \\\n",
    "            .setMinNGrams(1) \\\n",
    "            .setMaxNGrams(3)\\\n",
    "            .setNKeywords(20)\\\n",
    "            .setStopWords(stopwords)\n",
    "\n",
    "yake_pipeline = Pipeline(stages=[document, sentenceDetector, token, keywords])\n",
    "\n",
    "empty_df = spark.createDataFrame([['']]).toDF(\"text\")\n",
    "\n",
    "yake_Model = yake_pipeline.fit(empty_df)"
   ]
  },
  {
   "cell_type": "code",
   "execution_count": null,
   "metadata": {},
   "outputs": [
    {
     "data": {
      "text/plain": [
       "[('0', 'google is acquiring data science community kaggle.'),\n",
       " ('1',\n",
       "  'Sources tell us that google is acquiring kaggle, a platform that hosts data science and machine learning competitions.'),\n",
       " ('2',\n",
       "  'Details about the transaction remain somewhat vague , but given that google is hosting its Cloud Next conference in san francisco this week, the official announcement could come as early as tomorrow.'),\n",
       " ('3',\n",
       "  'Reached by phone, kaggle co-founder ceo anthony goldbloom declined to deny that the acquisition is happening.'),\n",
       " ('4',\n",
       "  \"google itself declined 'to comment on rumors'. kaggle, which has about half a million data scientists on its platform, was founded by Goldbloom and Ben Hamner in 2010.\"),\n",
       " ('5',\n",
       "  'The service got an early start and even though it has a few competitors like DrivenData, TopCoder and HackerRank, it has managed to stay well ahead of them by focusing on its specific niche.'),\n",
       " ('6',\n",
       "  'The service is basically the de facto home for running data science and machine learning competitions.'),\n",
       " ('7',\n",
       "  'With kaggle, google is buying one of the largest and most active communities for data scientists - and with that, it will get increased mindshare in this community, too (though it already has plenty of that thanks to Tensorflow and other projects).'),\n",
       " ('8',\n",
       "  \"kaggle has a bit of a history with google, too, but that's pretty recent.\"),\n",
       " ('9',\n",
       "  'Earlier this month, google and kaggle teamed up to host a $100,000 machine learning competition around classifying YouTube videos.'),\n",
       " ('10',\n",
       "  'That competition had some deep integrations with the google Cloud platform, too.'),\n",
       " ('11',\n",
       "  'Our understanding is that google will keep the service running - likely under its current name.'),\n",
       " ('12',\n",
       "  \"While the acquisition is probably more about Kaggle's community than technology, kaggle did build some interesting tools for hosting its competition and 'kernels', too.\"),\n",
       " ('13',\n",
       "  \"On kaggle, kernels are basically the source code for analyzing data sets and developers can share this code on the platform (the company previously called them 'scripts').\"),\n",
       " ('14',\n",
       "  'Like similar competition-centric sites, kaggle also runs a job board, too.'),\n",
       " ('15', \"It's unclear what google will do with that part of the service.\"),\n",
       " ('16',\n",
       "  \"According to Crunchbase, kaggle raised $12.5 million (though PitchBook says it's $12.75) since its launch in 2010.\"),\n",
       " ('17',\n",
       "  'Investors in kaggle include Index Ventures, SV Angel, Max Levchin, Naval Ravikant, google chief economist Hal Varian, Khosla Ventures and Yuri Milner')]"
      ]
     },
     "execution_count": null,
     "metadata": {},
     "output_type": "execute_result"
    }
   ],
   "source": [
    "# LightPipeline\n",
    "\n",
    "light_model = LightPipeline(yake_Model)\n",
    "\n",
    "text = '''\n",
    "google is acquiring data science community kaggle. Sources tell us that google is acquiring kaggle, a platform that hosts data science and machine learning competitions. Details about the transaction remain somewhat vague , but given that google is hosting its Cloud Next conference in san francisco this week, the official announcement could come as early as tomorrow. Reached by phone, kaggle co-founder ceo anthony goldbloom declined to deny that the acquisition is happening. google itself declined 'to comment on rumors'. kaggle, which has about half a million data scientists on its platform, was founded by Goldbloom and Ben Hamner in 2010. The service got an early start and even though it has a few competitors like DrivenData, TopCoder and HackerRank, it has managed to stay well ahead of them by focusing on its specific niche. The service is basically the de facto home for running data science and machine learning competitions. With kaggle, google is buying one of the largest and most active communities for data scientists - and with that, it will get increased mindshare in this community, too (though it already has plenty of that thanks to Tensorflow and other projects). kaggle has a bit of a history with google, too, but that's pretty recent. Earlier this month, google and kaggle teamed up to host a $100,000 machine learning competition around classifying YouTube videos. That competition had some deep integrations with the google Cloud platform, too. Our understanding is that google will keep the service running - likely under its current name. While the acquisition is probably more about Kaggle's community than technology, kaggle did build some interesting tools for hosting its competition and 'kernels', too. On kaggle, kernels are basically the source code for analyzing data sets and developers can share this code on the platform (the company previously called them 'scripts'). Like similar competition-centric sites, kaggle also runs a job board, too. It's unclear what google will do with that part of the service. According to Crunchbase, kaggle raised $12.5 million (though PitchBook says it's $12.75) since its launch in 2010. Investors in kaggle include Index Ventures, SV Angel, Max Levchin, Naval Ravikant, google chief economist Hal Varian, Khosla Ventures and Yuri Milner\n",
    "'''\n",
    "\n",
    "light_result = light_model.fullAnnotate(text)[0]\n",
    "\n",
    "[(s.metadata['sentence'], s.result) for s in light_result['sentence']]"
   ]
  },
  {
   "cell_type": "code",
   "execution_count": null,
   "metadata": {},
   "outputs": [
    {
     "data": {
      "text/html": [
       "<div>\n",
       "<style scoped>\n",
       "    .dataframe tbody tr th:only-of-type {\n",
       "        vertical-align: middle;\n",
       "    }\n",
       "\n",
       "    .dataframe tbody tr th {\n",
       "        vertical-align: top;\n",
       "    }\n",
       "\n",
       "    .dataframe thead th {\n",
       "        text-align: right;\n",
       "    }\n",
       "</style>\n",
       "<table border=\"1\" class=\"dataframe\">\n",
       "  <thead>\n",
       "    <tr style=\"text-align: right;\">\n",
       "      <th></th>\n",
       "      <th>keywords</th>\n",
       "      <th>begin</th>\n",
       "      <th>end</th>\n",
       "      <th>score</th>\n",
       "      <th>sentence</th>\n",
       "    </tr>\n",
       "  </thead>\n",
       "  <tbody>\n",
       "    <tr>\n",
       "      <th>5</th>\n",
       "      <td>kaggle</td>\n",
       "      <td>44</td>\n",
       "      <td>49</td>\n",
       "      <td>0.053675</td>\n",
       "      <td>0</td>\n",
       "    </tr>\n",
       "    <tr>\n",
       "      <th>0</th>\n",
       "      <td>google</td>\n",
       "      <td>1</td>\n",
       "      <td>6</td>\n",
       "      <td>0.058287</td>\n",
       "      <td>0</td>\n",
       "    </tr>\n",
       "    <tr>\n",
       "      <th>2</th>\n",
       "      <td>data</td>\n",
       "      <td>21</td>\n",
       "      <td>24</td>\n",
       "      <td>0.107008</td>\n",
       "      <td>0</td>\n",
       "    </tr>\n",
       "    <tr>\n",
       "      <th>3</th>\n",
       "      <td>science</td>\n",
       "      <td>26</td>\n",
       "      <td>32</td>\n",
       "      <td>0.225451</td>\n",
       "      <td>0</td>\n",
       "    </tr>\n",
       "    <tr>\n",
       "      <th>71</th>\n",
       "      <td>data science</td>\n",
       "      <td>21</td>\n",
       "      <td>32</td>\n",
       "      <td>0.255856</td>\n",
       "      <td>0</td>\n",
       "    </tr>\n",
       "    <tr>\n",
       "      <th>4</th>\n",
       "      <td>community</td>\n",
       "      <td>34</td>\n",
       "      <td>42</td>\n",
       "      <td>0.263910</td>\n",
       "      <td>0</td>\n",
       "    </tr>\n",
       "    <tr>\n",
       "      <th>1</th>\n",
       "      <td>acquiring</td>\n",
       "      <td>11</td>\n",
       "      <td>19</td>\n",
       "      <td>0.356494</td>\n",
       "      <td>0</td>\n",
       "    </tr>\n",
       "    <tr>\n",
       "      <th>8</th>\n",
       "      <td>kaggle</td>\n",
       "      <td>93</td>\n",
       "      <td>98</td>\n",
       "      <td>0.053675</td>\n",
       "      <td>1</td>\n",
       "    </tr>\n",
       "    <tr>\n",
       "      <th>6</th>\n",
       "      <td>google</td>\n",
       "      <td>73</td>\n",
       "      <td>78</td>\n",
       "      <td>0.058287</td>\n",
       "      <td>1</td>\n",
       "    </tr>\n",
       "    <tr>\n",
       "      <th>10</th>\n",
       "      <td>data</td>\n",
       "      <td>123</td>\n",
       "      <td>126</td>\n",
       "      <td>0.107008</td>\n",
       "      <td>1</td>\n",
       "    </tr>\n",
       "    <tr>\n",
       "      <th>9</th>\n",
       "      <td>platform</td>\n",
       "      <td>103</td>\n",
       "      <td>110</td>\n",
       "      <td>0.187174</td>\n",
       "      <td>1</td>\n",
       "    </tr>\n",
       "    <tr>\n",
       "      <th>11</th>\n",
       "      <td>science</td>\n",
       "      <td>128</td>\n",
       "      <td>134</td>\n",
       "      <td>0.225451</td>\n",
       "      <td>1</td>\n",
       "    </tr>\n",
       "    <tr>\n",
       "      <th>12</th>\n",
       "      <td>machine</td>\n",
       "      <td>140</td>\n",
       "      <td>146</td>\n",
       "      <td>0.253205</td>\n",
       "      <td>1</td>\n",
       "    </tr>\n",
       "    <tr>\n",
       "      <th>72</th>\n",
       "      <td>data science</td>\n",
       "      <td>123</td>\n",
       "      <td>134</td>\n",
       "      <td>0.255856</td>\n",
       "      <td>1</td>\n",
       "    </tr>\n",
       "    <tr>\n",
       "      <th>13</th>\n",
       "      <td>learning</td>\n",
       "      <td>148</td>\n",
       "      <td>155</td>\n",
       "      <td>0.256034</td>\n",
       "      <td>1</td>\n",
       "    </tr>\n",
       "    <tr>\n",
       "      <th>7</th>\n",
       "      <td>acquiring</td>\n",
       "      <td>83</td>\n",
       "      <td>91</td>\n",
       "      <td>0.356494</td>\n",
       "      <td>1</td>\n",
       "    </tr>\n",
       "    <tr>\n",
       "      <th>14</th>\n",
       "      <td>competitions</td>\n",
       "      <td>157</td>\n",
       "      <td>168</td>\n",
       "      <td>0.393240</td>\n",
       "      <td>1</td>\n",
       "    </tr>\n",
       "    <tr>\n",
       "      <th>51</th>\n",
       "      <td>google</td>\n",
       "      <td>1450</td>\n",
       "      <td>1455</td>\n",
       "      <td>0.058287</td>\n",
       "      <td>10</td>\n",
       "    </tr>\n",
       "    <tr>\n",
       "      <th>53</th>\n",
       "      <td>platform</td>\n",
       "      <td>1463</td>\n",
       "      <td>1470</td>\n",
       "      <td>0.187174</td>\n",
       "      <td>10</td>\n",
       "    </tr>\n",
       "    <tr>\n",
       "      <th>50</th>\n",
       "      <td>competition</td>\n",
       "      <td>1402</td>\n",
       "      <td>1412</td>\n",
       "      <td>0.271576</td>\n",
       "      <td>10</td>\n",
       "    </tr>\n",
       "    <tr>\n",
       "      <th>52</th>\n",
       "      <td>cloud</td>\n",
       "      <td>1457</td>\n",
       "      <td>1461</td>\n",
       "      <td>0.296057</td>\n",
       "      <td>10</td>\n",
       "    </tr>\n",
       "    <tr>\n",
       "      <th>54</th>\n",
       "      <td>google</td>\n",
       "      <td>1504</td>\n",
       "      <td>1509</td>\n",
       "      <td>0.058287</td>\n",
       "      <td>11</td>\n",
       "    </tr>\n",
       "    <tr>\n",
       "      <th>55</th>\n",
       "      <td>service</td>\n",
       "      <td>1525</td>\n",
       "      <td>1531</td>\n",
       "      <td>0.193717</td>\n",
       "      <td>11</td>\n",
       "    </tr>\n",
       "    <tr>\n",
       "      <th>57</th>\n",
       "      <td>kaggle</td>\n",
       "      <td>1655</td>\n",
       "      <td>1660</td>\n",
       "      <td>0.053675</td>\n",
       "      <td>12</td>\n",
       "    </tr>\n",
       "    <tr>\n",
       "      <th>56</th>\n",
       "      <td>community</td>\n",
       "      <td>1628</td>\n",
       "      <td>1636</td>\n",
       "      <td>0.263910</td>\n",
       "      <td>12</td>\n",
       "    </tr>\n",
       "    <tr>\n",
       "      <th>58</th>\n",
       "      <td>competition</td>\n",
       "      <td>1711</td>\n",
       "      <td>1721</td>\n",
       "      <td>0.271576</td>\n",
       "      <td>12</td>\n",
       "    </tr>\n",
       "    <tr>\n",
       "      <th>59</th>\n",
       "      <td>kaggle</td>\n",
       "      <td>1746</td>\n",
       "      <td>1751</td>\n",
       "      <td>0.053675</td>\n",
       "      <td>13</td>\n",
       "    </tr>\n",
       "    <tr>\n",
       "      <th>60</th>\n",
       "      <td>data</td>\n",
       "      <td>1806</td>\n",
       "      <td>1809</td>\n",
       "      <td>0.107008</td>\n",
       "      <td>13</td>\n",
       "    </tr>\n",
       "    <tr>\n",
       "      <th>61</th>\n",
       "      <td>platform</td>\n",
       "      <td>1858</td>\n",
       "      <td>1865</td>\n",
       "      <td>0.187174</td>\n",
       "      <td>13</td>\n",
       "    </tr>\n",
       "    <tr>\n",
       "      <th>62</th>\n",
       "      <td>kaggle</td>\n",
       "      <td>1955</td>\n",
       "      <td>1960</td>\n",
       "      <td>0.053675</td>\n",
       "      <td>14</td>\n",
       "    </tr>\n",
       "  </tbody>\n",
       "</table>\n",
       "</div>"
      ],
      "text/plain": [
       "        keywords  begin   end     score sentence\n",
       "5         kaggle     44    49  0.053675        0\n",
       "0         google      1     6  0.058287        0\n",
       "2           data     21    24  0.107008        0\n",
       "3        science     26    32  0.225451        0\n",
       "71  data science     21    32  0.255856        0\n",
       "4      community     34    42  0.263910        0\n",
       "1      acquiring     11    19  0.356494        0\n",
       "8         kaggle     93    98  0.053675        1\n",
       "6         google     73    78  0.058287        1\n",
       "10          data    123   126  0.107008        1\n",
       "9       platform    103   110  0.187174        1\n",
       "11       science    128   134  0.225451        1\n",
       "12       machine    140   146  0.253205        1\n",
       "72  data science    123   134  0.255856        1\n",
       "13      learning    148   155  0.256034        1\n",
       "7      acquiring     83    91  0.356494        1\n",
       "14  competitions    157   168  0.393240        1\n",
       "51        google   1450  1455  0.058287       10\n",
       "53      platform   1463  1470  0.187174       10\n",
       "50   competition   1402  1412  0.271576       10\n",
       "52         cloud   1457  1461  0.296057       10\n",
       "54        google   1504  1509  0.058287       11\n",
       "55       service   1525  1531  0.193717       11\n",
       "57        kaggle   1655  1660  0.053675       12\n",
       "56     community   1628  1636  0.263910       12\n",
       "58   competition   1711  1721  0.271576       12\n",
       "59        kaggle   1746  1751  0.053675       13\n",
       "60          data   1806  1809  0.107008       13\n",
       "61      platform   1858  1865  0.187174       13\n",
       "62        kaggle   1955  1960  0.053675       14"
      ]
     },
     "execution_count": null,
     "metadata": {},
     "output_type": "execute_result"
    }
   ],
   "source": [
    "import pandas as pd\n",
    "\n",
    "keys_df = pd.DataFrame([(k.result, k.begin, k.end, k.metadata['score'],  k.metadata['sentence']) for k in light_result['keywords']],\n",
    "                       columns = ['keywords','begin','end','score','sentence'])\n",
    "keys_df['score'] = keys_df['score'].astype(float)\n",
    "\n",
    "# ordered by relevance\n",
    "keys_df.sort_values(['sentence','score']).head(30)"
   ]
  },
  {
   "cell_type": "markdown",
   "metadata": {},
   "source": [
    "### Getting keywords from datraframe"
   ]
  },
  {
   "cell_type": "code",
   "execution_count": null,
   "metadata": {},
   "outputs": [
    {
     "name": "stdout",
     "output_type": "stream",
     "text": [
      "+--------------------------------------------------+\n",
      "|                                              text|\n",
      "+--------------------------------------------------+\n",
      "|The human KCNJ9 (Kir 3.3, GIRK3) is a member of...|\n",
      "|BACKGROUND: At present, it is one of the most i...|\n",
      "|OBJECTIVE: To investigate the relationship betw...|\n",
      "|Combined EEG/fMRI recording has been used to lo...|\n",
      "|Kohlschutter syndrome is a rare neurodegenerati...|\n",
      "|Statistical analysis of neuroimages is commonly...|\n",
      "|The synthetic DOX-LNA conjugate was characteriz...|\n",
      "|Our objective was to compare three different me...|\n",
      "|We conducted a phase II study to assess the eff...|\n",
      "|\"\"\"Monomeric sarcosine oxidase (MSOX) is a flav...|\n",
      "|We presented the tachinid fly Exorista japonica...|\n",
      "|The literature dealing with the water conductin...|\n",
      "|A novel approach to synthesize chitosan-O-isopr...|\n",
      "|An HPLC-ESI-MS-MS method has been developed for...|\n",
      "|The localizing and lateralizing values of eye a...|\n",
      "|OBJECTIVE: To evaluate the effectiveness and ac...|\n",
      "|For the construction of new combinatorial libra...|\n",
      "|We report the results of a screen for genetic a...|\n",
      "|Intraparenchymal pericatheter cyst is rarely re...|\n",
      "|It is known that patients with Klinefelter's sy...|\n",
      "+--------------------------------------------------+\n",
      "only showing top 20 rows\n",
      "\n"
     ]
    }
   ],
   "source": [
    "! wget -q https://s3.amazonaws.com/auxdata.johnsnowlabs.com/public/resources/en/pubmed/pubmed_sample_text_small.csv\n",
    "\n",
    "df = spark.read\\\n",
    "                .option(\"header\", \"true\")\\\n",
    "                .csv(\"pubmed_sample_text_small.csv\")\\\n",
    "\n",
    "df.show(truncate=50)"
   ]
  },
  {
   "cell_type": "code",
   "execution_count": null,
   "metadata": {},
   "outputs": [],
   "source": [
    "result = yake_pipeline.fit(df).transform(df)"
   ]
  },
  {
   "cell_type": "code",
   "execution_count": null,
   "metadata": {},
   "outputs": [],
   "source": [
    "result = result.withColumn('unique_keywords', F.array_distinct(\"keywords.result\"))"
   ]
  },
  {
   "cell_type": "code",
   "execution_count": null,
   "metadata": {},
   "outputs": [],
   "source": [
    "def highlight(text, keywords):\n",
    "    for k in keywords:\n",
    "        text = (re.sub(r'(\\b%s\\b)'%k, r'<span style=\"background-color: yellow;\">\\1</span>', text, flags=re.IGNORECASE))\n",
    "    return text"
   ]
  },
  {
   "cell_type": "code",
   "execution_count": null,
   "metadata": {},
   "outputs": [],
   "source": [
    "highlight_udf = udf(highlight, StringType())\n"
   ]
  },
  {
   "cell_type": "code",
   "execution_count": null,
   "metadata": {},
   "outputs": [],
   "source": [
    "result = result.withColumn(\"highlighted_keywords\",highlight_udf('text','unique_keywords'))"
   ]
  },
  {
   "cell_type": "code",
   "execution_count": null,
   "metadata": {},
   "outputs": [
    {
     "data": {
      "text/html": [
       "The human KCNJ9 (<span style=\"background-color: yellow;\">Kir</span> 3.3, GIRK3) is a member of the G-protein-activated <span style=\"background-color: yellow;\">inwardly</span> rectifying potassium (<span style=\"background-color: yellow;\">GIRK</span>) channel family. Here we describe the genomicorganization of the KCNJ9 <span style=\"background-color: yellow;\">locus</span> on chromosome 1q21-23 as a candidate <span style=\"background-color: yellow;\">gene</span> forType <span style=\"background-color: yellow;\">II</span> <span style=\"background-color: yellow;\">diabetes</span> mellitus in the <span style=\"background-color: yellow;\">Pima</span> <span style=\"background-color: yellow;\">Indian</span> population. The <span style=\"background-color: yellow;\">gene</span> spansapproximately 7.6 <span style=\"background-color: yellow;\">kb</span> and contains <span style=\"background-color: yellow;\">one</span> noncoding and <span style=\"background-color: yellow;\">two</span> coding exons separated byapproximately 2.2 and approximately 2.6 <span style=\"background-color: yellow;\">kb</span> introns, respectively. We identified14 single nucleotide polymorphisms (SNPs), <span style=\"background-color: yellow;\">including</span> <span style=\"background-color: yellow;\">one</span> that predicts aVal366Ala substitution, and an 8 base-pair (bp) insertion/deletion. Ourexpression studies revealed the presence of the transcript in various humantissues <span style=\"background-color: yellow;\">including</span> pancreas, and <span style=\"background-color: yellow;\">two</span> major insulin-responsive tissues: fat andskeletal muscle. The characterization of the KCNJ9 <span style=\"background-color: yellow;\">gene</span> should facilitate furtherstudies on the function of the KCNJ9 protein and allow evaluation of thepotential role of the <span style=\"background-color: yellow;\">locus</span> in <span style=\"background-color: yellow;\">Type</span> <span style=\"background-color: yellow;\">II</span> <span style=\"background-color: yellow;\">diabetes</span>."
      ],
      "text/plain": [
       "<IPython.core.display.HTML object>"
      ]
     },
     "metadata": {},
     "output_type": "display_data"
    },
    {
     "name": "stdout",
     "output_type": "stream",
     "text": [
      "\n",
      "\n",
      "\n"
     ]
    },
    {
     "data": {
      "text/html": [
       "BACKGROUND: At present, it is <span style=\"background-color: yellow;\">one</span> of the most important issues for the <span style=\"background-color: yellow;\">treatment</span> of <span style=\"background-color: yellow;\">breast</span> cancer to develop the <span style=\"background-color: yellow;\">standard</span> <span style=\"background-color: yellow;\">therapy</span> for <span style=\"background-color: yellow;\">patients</span> <span style=\"background-color: yellow;\">previously</span> <span style=\"background-color: yellow;\">treated</span> with <span style=\"background-color: yellow;\">anthracyclines</span> and <span style=\"background-color: yellow;\">taxanes</span>. With the objective of determining the usefulnessof <span style=\"background-color: yellow;\">vinorelbine</span> <span style=\"background-color: yellow;\">monotherapy</span> in <span style=\"background-color: yellow;\">patients</span> with <span style=\"background-color: yellow;\">advanced</span> or <span style=\"background-color: yellow;\">recurrent</span> <span style=\"background-color: yellow;\">breast</span> cancerafter <span style=\"background-color: yellow;\">standard</span> <span style=\"background-color: yellow;\">therapy</span>, we evaluated the efficacy and safety of <span style=\"background-color: yellow;\">vinorelbine</span> inpatients <span style=\"background-color: yellow;\">previously</span> <span style=\"background-color: yellow;\">treated</span> with <span style=\"background-color: yellow;\">anthracyclines</span> and <span style=\"background-color: yellow;\">taxanes</span>. METHODS: Vinorelbinewas <span style=\"background-color: yellow;\">administered</span> at a dose level of 25 mg/m(2) intravenously on days 1 and 8 of a3 week cycle. <span style=\"background-color: yellow;\">Patients</span> were given three or more <span style=\"background-color: yellow;\">cycles</span> in the absence of tumorprogression. A maximum of <span style=\"background-color: yellow;\">nine</span> <span style=\"background-color: yellow;\">cycles</span> were <span style=\"background-color: yellow;\">administered</span>. RESULTS: The responserate in 50 evaluable <span style=\"background-color: yellow;\">patients</span> was 20.0% (10 out of 50; 95% confidence interval,10.0-33.7%). Responders plus those who had minor response (<span style=\"background-color: yellow;\">MR</span>) or no change (NC) accounted for 58.0% [10 partial responses (PRs) + <span style=\"background-color: yellow;\">one</span> <span style=\"background-color: yellow;\">MR</span> + 18 NCs out of 50]. TheKaplan-Meier estimate (50% point) of time to progression (TTP) was 115.0 days.The response rate in the visceral organs was 17.3% (<span style=\"background-color: yellow;\">nine</span> PRs out of 52). Themajor toxicity was myelosuppression, which was reversible and did not requirediscontinuation of <span style=\"background-color: yellow;\">treatment</span>. CONCLUSION: The results of this study show thatvinorelbine <span style=\"background-color: yellow;\">monotherapy</span> is useful in <span style=\"background-color: yellow;\">patients</span> with <span style=\"background-color: yellow;\">advanced</span> or <span style=\"background-color: yellow;\">recurrent</span> breastcancer <span style=\"background-color: yellow;\">previously</span> exposed to both <span style=\"background-color: yellow;\">anthracyclines</span> and <span style=\"background-color: yellow;\">taxanes</span>."
      ],
      "text/plain": [
       "<IPython.core.display.HTML object>"
      ]
     },
     "metadata": {},
     "output_type": "display_data"
    },
    {
     "name": "stdout",
     "output_type": "stream",
     "text": [
      "\n",
      "\n",
      "\n"
     ]
    },
    {
     "data": {
      "text/html": [
       "OBJECTIVE: To investigate the relationship between <span style=\"background-color: yellow;\">preoperative</span> atrialfibrillation and early and <span style=\"background-color: yellow;\">late</span> clinical <span style=\"background-color: yellow;\">outcomes</span> following <span style=\"background-color: yellow;\">cardiac</span> <span style=\"background-color: yellow;\">surgery</span>.METHODS: A retrospective cohort including all consecutive coronary artery bypass graft and/or <span style=\"background-color: yellow;\">valve</span> <span style=\"background-color: yellow;\">surgery</span> <span style=\"background-color: yellow;\">patients</span> between 1995 and 2005 was identified (<span style=\"background-color: yellow;\">n</span> =9796). No patient had a concomitant <span style=\"background-color: yellow;\">surgical</span> <span style=\"background-color: yellow;\">AF</span> ablation. The <span style=\"background-color: yellow;\">association</span> betweenpreoperative <span style=\"background-color: yellow;\">atrial</span> <span style=\"background-color: yellow;\">fibrillation</span> and in-hospital <span style=\"background-color: yellow;\">outcomes</span> was examined. We alsodetermined <span style=\"background-color: yellow;\">late</span> death and cardiovascular-related re-hospitalization by linking toadministrative health databases. Median follow-up was 2.9 years (maximum 11years). RESULTS: The prevalence of <span style=\"background-color: yellow;\">preoperative</span> <span style=\"background-color: yellow;\">atrial</span> <span style=\"background-color: yellow;\">fibrillation</span> was 11.3% (<span style=\"background-color: yellow;\">n</span> = 1105), ranging from 7.2% in isolated <span style=\"background-color: yellow;\">CABG</span> to 30% in <span style=\"background-color: yellow;\">valve</span> <span style=\"background-color: yellow;\">surgery</span>. In-hospital <span style=\"background-color: yellow;\">mortality</span>, stroke, and renal failure were more common in <span style=\"background-color: yellow;\">atrial</span> fibrillationpatients (all <span style=\"background-color: yellow;\">p</span> < 0.0001), although the <span style=\"background-color: yellow;\">association</span> between <span style=\"background-color: yellow;\">atrial</span> fibrillationand <span style=\"background-color: yellow;\">mortality</span> was not statistically significant in multivariate logisticregression. Longitudinal analyses showed that <span style=\"background-color: yellow;\">preoperative</span> <span style=\"background-color: yellow;\">atrial</span> fibrillationwas <span style=\"background-color: yellow;\">associated</span> with decreased event-free survival (adjusted hazard ratio 1.55,95% confidence interval 1.42-1.70, <span style=\"background-color: yellow;\">p</span> < 0.0001). CONCLUSIONS: <span style=\"background-color: yellow;\">Preoperative</span> <span style=\"background-color: yellow;\">atrial</span> <span style=\"background-color: yellow;\">fibrillation</span> is <span style=\"background-color: yellow;\">associated</span> with increased <span style=\"background-color: yellow;\">late</span> <span style=\"background-color: yellow;\">mortality</span> and recurrentcardiovascular events post-<span style=\"background-color: yellow;\">cardiac</span> <span style=\"background-color: yellow;\">surgery</span>. Effective management strategies foratrial <span style=\"background-color: yellow;\">fibrillation</span> need to be explored and may provide an opportunity to improvethe long-term <span style=\"background-color: yellow;\">outcomes</span> of <span style=\"background-color: yellow;\">cardiac</span> <span style=\"background-color: yellow;\">surgical</span> <span style=\"background-color: yellow;\">patients</span>."
      ],
      "text/plain": [
       "<IPython.core.display.HTML object>"
      ]
     },
     "metadata": {},
     "output_type": "display_data"
    },
    {
     "name": "stdout",
     "output_type": "stream",
     "text": [
      "\n",
      "\n",
      "\n"
     ]
    },
    {
     "data": {
      "text/html": [
       "Combined <span style=\"background-color: yellow;\">EEG</span>/<span style=\"background-color: yellow;\">fMRI</span> <span style=\"background-color: yellow;\">recording</span> has been used to localize the generators of EEGevents and to identify subject state in cognitive <span style=\"background-color: yellow;\">studies</span> and is of increasinginterest. However, the <span style=\"background-color: yellow;\">large</span> <span style=\"background-color: yellow;\">EEG</span> artifacts induced during <span style=\"background-color: yellow;\">fMRI</span> have precludedsimultaneous <span style=\"background-color: yellow;\">EEG</span> and <span style=\"background-color: yellow;\">fMRI</span> <span style=\"background-color: yellow;\">recording</span>, restricting study design. Removing thisartifact is difficult, as it normally exceeds <span style=\"background-color: yellow;\">EEG</span> significantly and containscomponents in the <span style=\"background-color: yellow;\">EEG</span> frequency <span style=\"background-color: yellow;\">range</span>. We have developed a <span style=\"background-color: yellow;\">recording</span> <span style=\"background-color: yellow;\">system</span> andan <span style=\"background-color: yellow;\">artifact</span> reduction <span style=\"background-color: yellow;\">method</span> that <span style=\"background-color: yellow;\">reduce</span> this <span style=\"background-color: yellow;\">artifact</span> effectively. The recordingsystem has <span style=\"background-color: yellow;\">large</span> dynamic <span style=\"background-color: yellow;\">range</span> to capture both low-amplitude <span style=\"background-color: yellow;\">EEG</span> and largeimaging <span style=\"background-color: yellow;\">artifact</span> <span style=\"background-color: yellow;\">without</span> <span style=\"background-color: yellow;\">distortion</span> (resolution 2 <span style=\"background-color: yellow;\">microV</span>, <span style=\"background-color: yellow;\">range</span> 33.3 mV), 5-kHzsampling, and low-pass filtering prior to the main gain stage. Imaging artifactis reduced by subtracting an averaged <span style=\"background-color: yellow;\">artifact</span> waveform, followed by adaptivenoise cancellation to <span style=\"background-color: yellow;\">reduce</span> any residual <span style=\"background-color: yellow;\">artifact</span>. This <span style=\"background-color: yellow;\">method</span> was validated in <span style=\"background-color: yellow;\">recordings</span> from five subjects <span style=\"background-color: yellow;\">using</span> periodic and continuous <span style=\"background-color: yellow;\">fMRI</span> sequences.Spectral analysis revealed differences of only 10 to 18% between <span style=\"background-color: yellow;\">EEG</span> recorded in the scanner <span style=\"background-color: yellow;\">without</span> <span style=\"background-color: yellow;\">fMRI</span> and the corrected <span style=\"background-color: yellow;\">EEG</span>. Ninety-nine percent of spikewaves (<span style=\"background-color: yellow;\">median</span> 74 <span style=\"background-color: yellow;\">microV</span>) added to the <span style=\"background-color: yellow;\">recordings</span> were identified in the correctedEEG compared to 12% in the uncorrected <span style=\"background-color: yellow;\">EEG</span>. The <span style=\"background-color: yellow;\">median</span> noise after <span style=\"background-color: yellow;\">artifactreduction</span> was 8 <span style=\"background-color: yellow;\">microV</span>. All these measures indicate that most of the <span style=\"background-color: yellow;\">artifact</span> wasremoved, with minimal <span style=\"background-color: yellow;\">EEG</span> <span style=\"background-color: yellow;\">distortion</span>. <span style=\"background-color: yellow;\">Using</span> this <span style=\"background-color: yellow;\">recording</span> <span style=\"background-color: yellow;\">system</span> and <span style=\"background-color: yellow;\">artifactreduction</span> <span style=\"background-color: yellow;\">method</span>, we have demonstrated that simultaneous <span style=\"background-color: yellow;\">EEG</span>/<span style=\"background-color: yellow;\">fMRI</span> <span style=\"background-color: yellow;\">studies</span> are forthe first time possible, extending the scope of <span style=\"background-color: yellow;\">EEG</span>/<span style=\"background-color: yellow;\">fMRI</span> <span style=\"background-color: yellow;\">studies</span> considerably."
      ],
      "text/plain": [
       "<IPython.core.display.HTML object>"
      ]
     },
     "metadata": {},
     "output_type": "display_data"
    },
    {
     "name": "stdout",
     "output_type": "stream",
     "text": [
      "\n",
      "\n",
      "\n"
     ]
    },
    {
     "data": {
      "text/html": [
       "<span style=\"background-color: yellow;\">Kohlschutter</span> syndrome is a <span style=\"background-color: yellow;\">rare</span> <span style=\"background-color: yellow;\">neurodegenerative</span> <span style=\"background-color: yellow;\">disorder</span> <span style=\"background-color: yellow;\">presenting</span> <span style=\"background-color: yellow;\">withintractable</span> <span style=\"background-color: yellow;\">seizures</span>, <span style=\"background-color: yellow;\">developmental</span> <span style=\"background-color: yellow;\">regression</span> and <span style=\"background-color: yellow;\">characteristic</span> <span style=\"background-color: yellow;\">hypoplasticdental</span> <span style=\"background-color: yellow;\">enamel</span> <span style=\"background-color: yellow;\">indicative</span> of <span style=\"background-color: yellow;\">amelogenesis</span> <span style=\"background-color: yellow;\">imperfecta</span>. We report a <span style=\"background-color: yellow;\">new</span> <span style=\"background-color: yellow;\">family</span> with <span style=\"background-color: yellow;\">two</span> <span style=\"background-color: yellow;\">affected</span> <span style=\"background-color: yellow;\">siblings</span>."
      ],
      "text/plain": [
       "<IPython.core.display.HTML object>"
      ]
     },
     "metadata": {},
     "output_type": "display_data"
    },
    {
     "name": "stdout",
     "output_type": "stream",
     "text": [
      "\n",
      "\n",
      "\n"
     ]
    },
    {
     "data": {
      "text/html": [
       "<span style=\"background-color: yellow;\">Statistical</span> <span style=\"background-color: yellow;\">analysis</span> of neuroimages is commonly <span style=\"background-color: yellow;\">approached</span> with <span style=\"background-color: yellow;\">intergroupcomparisons</span> made by <span style=\"background-color: yellow;\">repeated</span> <span style=\"background-color: yellow;\">application</span> of univariate or multivariate testsperformed on the <span style=\"background-color: yellow;\">set</span> of the regions of <span style=\"background-color: yellow;\">interest</span> sampled in the acquired images.The use of such <span style=\"background-color: yellow;\">large</span> <span style=\"background-color: yellow;\">numbers</span> of <span style=\"background-color: yellow;\">tests</span> <span style=\"background-color: yellow;\">requires</span> <span style=\"background-color: yellow;\">application</span> of techniques forcorrection for <span style=\"background-color: yellow;\">multiple</span> comparisons. Standard <span style=\"background-color: yellow;\">multiple</span> comparison adjustments(such as the <span style=\"background-color: yellow;\">Bonferroni</span>) may be overly conservative when <span style=\"background-color: yellow;\">data</span> are correlatedand/or not normally distributed. Resampling-based step-down <span style=\"background-color: yellow;\">procedures</span> thatsuccessfully account for unknown correlation structures in the <span style=\"background-color: yellow;\">data</span> have recentlybeen introduced. We <span style=\"background-color: yellow;\">combined</span> resampling step-down <span style=\"background-color: yellow;\">procedures</span> with the MinimumVariance <span style=\"background-color: yellow;\">Adaptive</span> method, which allows selection of an optimal test statisticfrom a predefined class of statistics for the <span style=\"background-color: yellow;\">data</span> under <span style=\"background-color: yellow;\">analysis</span>. As shown insimulation studies and <span style=\"background-color: yellow;\">analysis</span> of autoradiographic <span style=\"background-color: yellow;\">data</span>, the <span style=\"background-color: yellow;\">combined</span> technique exhibits a significant increase in <span style=\"background-color: yellow;\">statistical</span> power, even for small sample sizes(n = 8, 9, 10)."
      ],
      "text/plain": [
       "<IPython.core.display.HTML object>"
      ]
     },
     "metadata": {},
     "output_type": "display_data"
    },
    {
     "name": "stdout",
     "output_type": "stream",
     "text": [
      "\n",
      "\n",
      "\n"
     ]
    },
    {
     "data": {
      "text/html": [
       "The <span style=\"background-color: yellow;\">synthetic</span> <span style=\"background-color: yellow;\">DOX</span>-LNA <span style=\"background-color: yellow;\">conjugate</span> was <span style=\"background-color: yellow;\">characterized</span> by <span style=\"background-color: yellow;\">proton</span> <span style=\"background-color: yellow;\">nuclear</span> <span style=\"background-color: yellow;\">magneticresonance</span> and <span style=\"background-color: yellow;\">mass</span> <span style=\"background-color: yellow;\">spectrometry</span>. In addition, the <span style=\"background-color: yellow;\">purity</span> of the <span style=\"background-color: yellow;\">conjugate</span> <span style=\"background-color: yellow;\">wasanalyzed</span> by reverse-phase high-performance <span style=\"background-color: yellow;\">liquid</span> <span style=\"background-color: yellow;\">chromatography</span>. The cellularuptake, <span style=\"background-color: yellow;\">intracellular</span> distribution, and <span style=\"background-color: yellow;\">cytotoxicity</span> of <span style=\"background-color: yellow;\">DOX</span>-LNA were assessed by <span style=\"background-color: yellow;\">flow</span> cytometry, fluorescence <span style=\"background-color: yellow;\">microscopy</span>, <span style=\"background-color: yellow;\">liquid</span> <span style=\"background-color: yellow;\">chromatography</span>/electrosprayionization tandem <span style=\"background-color: yellow;\">mass</span> <span style=\"background-color: yellow;\">spectrometry</span>, and the tetrazolium dye assay <span style=\"background-color: yellow;\">using</span> the invitro cell <span style=\"background-color: yellow;\">models</span>. The <span style=\"background-color: yellow;\">DOX</span>-LNA <span style=\"background-color: yellow;\">conjugate</span> showed substantially highertumor-specific <span style=\"background-color: yellow;\">cytotoxicity</span> compared with <span style=\"background-color: yellow;\">DOX</span>."
      ],
      "text/plain": [
       "<IPython.core.display.HTML object>"
      ]
     },
     "metadata": {},
     "output_type": "display_data"
    },
    {
     "name": "stdout",
     "output_type": "stream",
     "text": [
      "\n",
      "\n",
      "\n"
     ]
    },
    {
     "data": {
      "text/html": [
       "Our objective was to compare <span style=\"background-color: yellow;\">three</span> different <span style=\"background-color: yellow;\">methods</span> of <span style=\"background-color: yellow;\">blood</span> pressuremeasurement through the results of a controlled study aimed at comparing theantihypertensive effects of trandolapril and losartan. Two hundred andtwenty-nine hypertensive <span style=\"background-color: yellow;\">patients</span> were randomized in a double-blind parallelgroup study. After a 3-week placebo period, they received either 2 mgtrandolapril or 50 mg losartan once daily for 6 weeks. At the end of both placeboand active <span style=\"background-color: yellow;\">treatment</span> <span style=\"background-color: yellow;\">periods</span>, <span style=\"background-color: yellow;\">three</span> <span style=\"background-color: yellow;\">methods</span> of <span style=\"background-color: yellow;\">blood</span> <span style=\"background-color: yellow;\">pressure</span> measurement wereused: a) <span style=\"background-color: yellow;\">office</span> <span style=\"background-color: yellow;\">blood</span> <span style=\"background-color: yellow;\">pressure</span> (<span style=\"background-color: yellow;\">three</span> <span style=\"background-color: yellow;\">consecutive</span> <span style=\"background-color: yellow;\">measurements</span>); b) home selfblood <span style=\"background-color: yellow;\">pressure</span> <span style=\"background-color: yellow;\">measurements</span> (<span style=\"background-color: yellow;\">SBPM</span>), consisting of <span style=\"background-color: yellow;\">three</span> <span style=\"background-color: yellow;\">consecutive</span> <span style=\"background-color: yellow;\">measurements</span> <span style=\"background-color: yellow;\">performed</span> at home in the morning and in the evening for 7 <span style=\"background-color: yellow;\">consecutive</span> days; andc) ambulatory <span style=\"background-color: yellow;\">blood</span> <span style=\"background-color: yellow;\">pressure</span> <span style=\"background-color: yellow;\">measurements</span> (<span style=\"background-color: yellow;\">ABPM</span>), 24-h BP recordings with threemeasurements per hour. Of the 229 <span style=\"background-color: yellow;\">patients</span>, 199 (87%) <span style=\"background-color: yellow;\">performed</span> at least 12 validSBPM <span style=\"background-color: yellow;\">measurements</span> during both placebo and <span style=\"background-color: yellow;\">treatment</span> <span style=\"background-color: yellow;\">periods</span>, whereas only 160(70%) <span style=\"background-color: yellow;\">performed</span> <span style=\"background-color: yellow;\">good</span> quality 24-h <span style=\"background-color: yellow;\">ABPM</span> recordings during both <span style=\"background-color: yellow;\">periods</span> (P <.0001). One hundred-forty <span style=\"background-color: yellow;\">patients</span> <span style=\"background-color: yellow;\">performed</span> the <span style=\"background-color: yellow;\">three</span> <span style=\"background-color: yellow;\">methods</span> of measurementwell. At <span style=\"background-color: yellow;\">baseline</span> and with <span style=\"background-color: yellow;\">treatment</span>, <span style=\"background-color: yellow;\">agreement</span> between <span style=\"background-color: yellow;\">office</span> <span style=\"background-color: yellow;\">measurements</span> andABPM or <span style=\"background-color: yellow;\">SBPM</span> was weak. Conversely, there was a <span style=\"background-color: yellow;\">good</span> <span style=\"background-color: yellow;\">agreement</span> between <span style=\"background-color: yellow;\">ABPM</span> andSBPM. The mean difference (SBP/DBP) between <span style=\"background-color: yellow;\">ABPM</span> and <span style=\"background-color: yellow;\">SBPM</span> was 4.6 +/- 10.4/3.5+/- 7.1 at <span style=\"background-color: yellow;\">baseline</span> and 3.5 +/- 10.0/4.0 +/- 7.0 at the end of the treatmentperiod. The correlation between <span style=\"background-color: yellow;\">SBPM</span> and <span style=\"background-color: yellow;\">ABPM</span> expressed by the r coefficient and the P values were the following: at <span style=\"background-color: yellow;\">baseline</span> 0.79/0.70 (< 0.001/< .0001), withactive <span style=\"background-color: yellow;\">treatment</span> 0.74/0.69 (0.0001/.0001). <span style=\"background-color: yellow;\">Hourly</span> and 24-h <span style=\"background-color: yellow;\">reproducibility</span> ofblood <span style=\"background-color: yellow;\">pressure</span> response was quantified by the standard deviation of BP response. Compared with <span style=\"background-color: yellow;\">office</span> <span style=\"background-color: yellow;\">blood</span> <span style=\"background-color: yellow;\">pressure</span>, both global and <span style=\"background-color: yellow;\">hourly</span> <span style=\"background-color: yellow;\">SBPM</span> responsesexhibited a lower standard deviation. <span style=\"background-color: yellow;\">Hourly</span> <span style=\"background-color: yellow;\">reproducibility</span> of <span style=\"background-color: yellow;\">SBPM</span> response(10.8 <span style=\"background-color: yellow;\">mm</span> Hg/6.9 <span style=\"background-color: yellow;\">mm</span> Hg) was lower than <span style=\"background-color: yellow;\">hourly</span> <span style=\"background-color: yellow;\">reproducibility</span> of <span style=\"background-color: yellow;\">ABPM</span> response(15.6 <span style=\"background-color: yellow;\">mm</span> Hg/11.9 <span style=\"background-color: yellow;\">mm</span> Hg). In conclusion, <span style=\"background-color: yellow;\">SBPM</span> was easier to perform than <span style=\"background-color: yellow;\">ABPM</span>.There was a <span style=\"background-color: yellow;\">good</span> <span style=\"background-color: yellow;\">agreement</span> between these two <span style=\"background-color: yellow;\">methods</span> whereas concordance between <span style=\"background-color: yellow;\">SBPM</span> or <span style=\"background-color: yellow;\">ABPM</span> and <span style=\"background-color: yellow;\">office</span> <span style=\"background-color: yellow;\">measurements</span> was weak. As <span style=\"background-color: yellow;\">hourly</span> <span style=\"background-color: yellow;\">reproducibility</span> of <span style=\"background-color: yellow;\">SBPM</span> response is better than <span style=\"background-color: yellow;\">reproducibility</span> of both <span style=\"background-color: yellow;\">hourly</span> <span style=\"background-color: yellow;\">ABPM</span> and <span style=\"background-color: yellow;\">office</span> BPresponse, <span style=\"background-color: yellow;\">SBPM</span> seems to be the most appropriate method for evaluating residualantihypertensive effect."
      ],
      "text/plain": [
       "<IPython.core.display.HTML object>"
      ]
     },
     "metadata": {},
     "output_type": "display_data"
    },
    {
     "name": "stdout",
     "output_type": "stream",
     "text": [
      "\n",
      "\n",
      "\n"
     ]
    },
    {
     "data": {
      "text/html": [
       "We conducted a phase <span style=\"background-color: yellow;\">II</span> study to assess the <span style=\"background-color: yellow;\">efficacy</span> and tolerability ofirinotecan and <span style=\"background-color: yellow;\">cisplatin</span> as salvage <span style=\"background-color: yellow;\">chemotherapy</span> in <span style=\"background-color: yellow;\">patients</span> with <span style=\"background-color: yellow;\">advancedgastric</span> <span style=\"background-color: yellow;\">adenocarcinoma</span>, <span style=\"background-color: yellow;\">progressing</span> after both 5-fluorouracil (5-FU)- andtaxane-containing regimen. <span style=\"background-color: yellow;\">Patients</span> with measurable <span style=\"background-color: yellow;\">metastatic</span> gastric cancer,progressive after <span style=\"background-color: yellow;\">previous</span> <span style=\"background-color: yellow;\">chemotherapy</span> that consisted either of a 5-FU-basedregimen followed by second-line <span style=\"background-color: yellow;\">chemotherapy</span> containing <span style=\"background-color: yellow;\">taxanes</span> or a 5-FU andtaxane <span style=\"background-color: yellow;\">combination</span> were treated with <span style=\"background-color: yellow;\">irinotecan</span> and <span style=\"background-color: yellow;\">cisplatin</span>. <span style=\"background-color: yellow;\">Irinotecan</span> 70mg/m(2) was <span style=\"background-color: yellow;\">administered</span> on <span style=\"background-color: yellow;\">day</span> 1 and <span style=\"background-color: yellow;\">day</span> 15; <span style=\"background-color: yellow;\">cisplatin</span> 70 mg/m(2) wasadministered on <span style=\"background-color: yellow;\">day</span> 1. <span style=\"background-color: yellow;\">Treatment</span> was repeated every 4 weeks. For 28 patientsregistered, a total of 94 <span style=\"background-color: yellow;\">chemotherapy</span> cycles were <span style=\"background-color: yellow;\">administered</span>. The <span style=\"background-color: yellow;\">patients</span>'median age was 51 years and 27 (96%) had an <span style=\"background-color: yellow;\">ECOG</span> performance status of 1 orbelow. In an intent-to-treat analysis, seven <span style=\"background-color: yellow;\">patients</span> (25%) achieved a partialresponse, which maintained for 6.3 months (95% confidence interval 6.2-6.4months). The median progression-free and overall survival were 3.5 and 5.6months, respectively. Major toxic effects included nausea, diarrhea andneurotoxicity. Although there was one possible <span style=\"background-color: yellow;\">treatment</span>-related death, toxicity profiles were generally predictable and manageable. We conclude that irinotecanand <span style=\"background-color: yellow;\">cisplatin</span> is an active <span style=\"background-color: yellow;\">combination</span> for <span style=\"background-color: yellow;\">patients</span> with <span style=\"background-color: yellow;\">metastatic</span> gastriccancer in whom <span style=\"background-color: yellow;\">previous</span> <span style=\"background-color: yellow;\">chemotherapy</span> with 5-FU and <span style=\"background-color: yellow;\">taxanes</span> has failed."
      ],
      "text/plain": [
       "<IPython.core.display.HTML object>"
      ]
     },
     "metadata": {},
     "output_type": "display_data"
    },
    {
     "name": "stdout",
     "output_type": "stream",
     "text": [
      "\n",
      "\n",
      "\n"
     ]
    },
    {
     "data": {
      "text/html": [
       "\"\"\"Monomeric <span style=\"background-color: yellow;\">sarcosine</span> <span style=\"background-color: yellow;\">oxidase</span> (<span style=\"background-color: yellow;\">MSOX</span>) is a <span style=\"background-color: yellow;\">flavoenzyme</span> that <span style=\"background-color: yellow;\">catalyzes</span> the <span style=\"background-color: yellow;\">oxidative</span> <span style=\"background-color: yellow;\">demethylation</span> of <span style=\"background-color: yellow;\">sarcosine</span> (N-methylglycine) to <span style=\"background-color: yellow;\">yield</span> <span style=\"background-color: yellow;\">glycine</span>"
      ],
      "text/plain": [
       "<IPython.core.display.HTML object>"
      ]
     },
     "metadata": {},
     "output_type": "display_data"
    },
    {
     "name": "stdout",
     "output_type": "stream",
     "text": [
      "\n",
      "\n",
      "\n"
     ]
    },
    {
     "data": {
      "text/html": [
       "We presented the tachinid <span style=\"background-color: yellow;\">fly</span> Exorista japonica with moving <span style=\"background-color: yellow;\">host</span> <span style=\"background-color: yellow;\">models</span>: afreeze-dried <span style=\"background-color: yellow;\">larva</span> of the common armyworm Mythimna separata, a <span style=\"background-color: yellow;\">black</span> <span style=\"background-color: yellow;\">rubber</span> <span style=\"background-color: yellow;\">tube</span>,and a <span style=\"background-color: yellow;\">black</span> <span style=\"background-color: yellow;\">rubber</span> <span style=\"background-color: yellow;\">sheet</span>, to examine the effects of <span style=\"background-color: yellow;\">size</span>, curvature, and velocityon visual recognition of the <span style=\"background-color: yellow;\">host</span>. The <span style=\"background-color: yellow;\">host</span> <span style=\"background-color: yellow;\">models</span> were moved around the <span style=\"background-color: yellow;\">fly</span> on ametal arm driven by motor. The <span style=\"background-color: yellow;\">size</span> of the <span style=\"background-color: yellow;\">larva</span>, the <span style=\"background-color: yellow;\">velocity</span> of movement, andthe <span style=\"background-color: yellow;\">length</span> and <span style=\"background-color: yellow;\">diameter</span> of the <span style=\"background-color: yellow;\">rubber</span> <span style=\"background-color: yellow;\">tube</span> were varied. During the presentationof the <span style=\"background-color: yellow;\">host</span> model, fixation, <span style=\"background-color: yellow;\">approach</span>, and <span style=\"background-color: yellow;\">examination</span> behaviours of the flieswere recorded. The <span style=\"background-color: yellow;\">fly</span> fixated on, approached, and examined the <span style=\"background-color: yellow;\">black</span> <span style=\"background-color: yellow;\">rubber</span> tubeas well as the freeze-dried <span style=\"background-color: yellow;\">larva</span>. Furthermore, the <span style=\"background-color: yellow;\">fly</span> detected the <span style=\"background-color: yellow;\">black</span> rubbertube at a greater distance than the <span style=\"background-color: yellow;\">larva</span>. The <span style=\"background-color: yellow;\">rubber</span> <span style=\"background-color: yellow;\">tube</span> elicited higher <span style=\"background-color: yellow;\">rates</span> of <span style=\"background-color: yellow;\">approach</span> and <span style=\"background-color: yellow;\">examination</span> <span style=\"background-color: yellow;\">responses</span> than the <span style=\"background-color: yellow;\">rubber</span> <span style=\"background-color: yellow;\">sheet</span>, suggesting thatcurvature affects the <span style=\"background-color: yellow;\">responses</span> of the <span style=\"background-color: yellow;\">flies</span>. The <span style=\"background-color: yellow;\">length</span>, <span style=\"background-color: yellow;\">diameter</span>, and <span style=\"background-color: yellow;\">velocity</span> of <span style=\"background-color: yellow;\">host</span> <span style=\"background-color: yellow;\">models</span> had little effect on response <span style=\"background-color: yellow;\">rates</span> of the <span style=\"background-color: yellow;\">flies</span>. During hostpursuit, the <span style=\"background-color: yellow;\">fly</span> appeared to walk towards the ends of the <span style=\"background-color: yellow;\">tube</span>. These resultssuggest that the <span style=\"background-color: yellow;\">flies</span> respond to the leading or trailing edges of a movingobject and ignore the <span style=\"background-color: yellow;\">length</span> and <span style=\"background-color: yellow;\">diameter</span> of the object."
      ],
      "text/plain": [
       "<IPython.core.display.HTML object>"
      ]
     },
     "metadata": {},
     "output_type": "display_data"
    },
    {
     "name": "stdout",
     "output_type": "stream",
     "text": [
      "\n",
      "\n",
      "\n"
     ]
    },
    {
     "data": {
      "text/html": [
       "The <span style=\"background-color: yellow;\">literature</span> <span style=\"background-color: yellow;\">dealing</span> with the <span style=\"background-color: yellow;\">water</span> conducting properties of <span style=\"background-color: yellow;\">sapwood</span> <span style=\"background-color: yellow;\">xylem</span> <span style=\"background-color: yellow;\">intrees</span> is inconsistent in <span style=\"background-color: yellow;\">terminology</span>, symbols and <span style=\"background-color: yellow;\">units</span>. This has resulted fromconfusion in the use of either an analogy to Ohm's <span style=\"background-color: yellow;\">law</span> or Darcy's <span style=\"background-color: yellow;\">law</span> as thebasis for <span style=\"background-color: yellow;\">nomenclature</span>. Ohm's <span style=\"background-color: yellow;\">law</span> <span style=\"background-color: yellow;\">describes</span> <span style=\"background-color: yellow;\">movement</span> of electricity through aconductor, whereas Darcy's <span style=\"background-color: yellow;\">law</span> <span style=\"background-color: yellow;\">describes</span> <span style=\"background-color: yellow;\">movement</span> of a fluid (liquid or gas)through a <span style=\"background-color: yellow;\">porous</span> medium. However, it is generally not realized that, in theirfull notation, these laws are mathematically equivalent. Despite this, plantphysiologists have failed to agree on a convention for <span style=\"background-color: yellow;\">nomenclature</span>. As a result,the study of <span style=\"background-color: yellow;\">water</span> <span style=\"background-color: yellow;\">movement</span> through <span style=\"background-color: yellow;\">sapwood</span> <span style=\"background-color: yellow;\">xylem</span> is confusing, especially forscientists entering the field. To improve clarity, we <span style=\"background-color: yellow;\">suggest</span> the <span style=\"background-color: yellow;\">adoption</span> of asingle <span style=\"background-color: yellow;\">nomenclature</span> that can be used by all plant physiologists when describingwater <span style=\"background-color: yellow;\">movement</span> in <span style=\"background-color: yellow;\">xylem</span>. Darcy's <span style=\"background-color: yellow;\">law</span> is an explicit hydraulic relationship andthe basis for established theories that describe three-dimensional saturated and unsaturated flow in <span style=\"background-color: yellow;\">porous</span> media. We <span style=\"background-color: yellow;\">suggest</span>, therefore, that Darcy's <span style=\"background-color: yellow;\">law</span> is the more appropriate theoretical framework on which to base <span style=\"background-color: yellow;\">nomenclature</span> describingsapwood hydraulics. Our proposed <span style=\"background-color: yellow;\">nomenclature</span> is summarized in a <span style=\"background-color: yellow;\">table</span> thatdescribes conventional terms, with their formulae, dimensions, <span style=\"background-color: yellow;\">units</span> and symbols;the <span style=\"background-color: yellow;\">table</span> also lists the many synonyms found in recent <span style=\"background-color: yellow;\">literature</span> that describethe same concepts. <span style=\"background-color: yellow;\">Adoption</span> of this proposal will require some changes in the useof <span style=\"background-color: yellow;\">terminology</span>, but a common rigorous <span style=\"background-color: yellow;\">nomenclature</span> is needed for efficient andclear communication among scientists."
      ],
      "text/plain": [
       "<IPython.core.display.HTML object>"
      ]
     },
     "metadata": {},
     "output_type": "display_data"
    },
    {
     "name": "stdout",
     "output_type": "stream",
     "text": [
      "\n",
      "\n",
      "\n"
     ]
    },
    {
     "data": {
      "text/html": [
       "A novel <span style=\"background-color: yellow;\">approach</span> to <span style=\"background-color: yellow;\">synthesize</span> chitosan-O-isopropyl-5'-O-d4T <span style=\"background-color: yellow;\">monophosphateconjugate</span> was <span style=\"background-color: yellow;\">developed</span>. Chitosan-d4T <span style=\"background-color: yellow;\">monophosphate</span> <span style=\"background-color: yellow;\">prodrug</span> with <span style=\"background-color: yellow;\">aphosphoramidate</span> <span style=\"background-color: yellow;\">linkage</span> was <span style=\"background-color: yellow;\">efficiently</span> <span style=\"background-color: yellow;\">synthesized</span> through Atherton-Toddreaction. In vitro <span style=\"background-color: yellow;\">drug</span> <span style=\"background-color: yellow;\">release</span> <span style=\"background-color: yellow;\">studies</span> in <span style=\"background-color: yellow;\">pH</span> 1.1 and 7.4 <span style=\"background-color: yellow;\">indicated</span> thatchitosan-O-isopropyl-5'-O-d4T <span style=\"background-color: yellow;\">monophosphate</span> <span style=\"background-color: yellow;\">conjugate</span> prefers to <span style=\"background-color: yellow;\">release</span> the d4T 5'-(O-isopropyl)<span style=\"background-color: yellow;\">monophosphate</span> than <span style=\"background-color: yellow;\">free</span> d4T for a <span style=\"background-color: yellow;\">prolonged</span> <span style=\"background-color: yellow;\">period</span>. The resultssuggested that chitosan-O-isopropyl-5'-O-d4T <span style=\"background-color: yellow;\">monophosphate</span> <span style=\"background-color: yellow;\">conjugate</span> may be used as a sustained polymeric <span style=\"background-color: yellow;\">prodrug</span> for improving therapy efficacy and reducing sideeffects in antiretroviral treatment."
      ],
      "text/plain": [
       "<IPython.core.display.HTML object>"
      ]
     },
     "metadata": {},
     "output_type": "display_data"
    },
    {
     "name": "stdout",
     "output_type": "stream",
     "text": [
      "\n",
      "\n",
      "\n"
     ]
    },
    {
     "data": {
      "text/html": [
       "An HPLC-ESI-MS-MS <span style=\"background-color: yellow;\">method</span> has been developed for the <span style=\"background-color: yellow;\">quantitative</span> determination offour <span style=\"background-color: yellow;\">diterpenoids</span>, <span style=\"background-color: yellow;\">dihydrotanshinone</span> I, cryptotanshinone, <span style=\"background-color: yellow;\">tanshinone</span> I, andtanshinone <span style=\"background-color: yellow;\">IIA</span> in <span style=\"background-color: yellow;\">Radix</span> <span style=\"background-color: yellow;\">Salviae</span> <span style=\"background-color: yellow;\">Miltiorrhizae</span> (<span style=\"background-color: yellow;\">RSM</span>, the root of <span style=\"background-color: yellow;\">Salviamiltiorrhiza</span> <span style=\"background-color: yellow;\">BGE</span>.). The <span style=\"background-color: yellow;\">diterpenoids</span> were chromatographically separated on a C18 HPLC column, and the quantification of these <span style=\"background-color: yellow;\">diterpenoids</span> was based on thefragments of [M+H]+ under collision-activated conditions and in Selected ReactionMonitoring (SRM) mode. The <span style=\"background-color: yellow;\">quantitative</span> <span style=\"background-color: yellow;\">method</span> was validated, and the meanrecovery rates from fortified <span style=\"background-color: yellow;\">samples</span> (n=5) of <span style=\"background-color: yellow;\">dihydrotanshinone</span> I,cryptotanshinone, <span style=\"background-color: yellow;\">tanshinone</span> I, and <span style=\"background-color: yellow;\">tanshinone</span> <span style=\"background-color: yellow;\">IIA</span> were 95.0%, 97.2%, 93.1%, and 95.9% with variation coefficient of 6.0%, 4.3%, 3.7%, and 4.2%, respectively. Theestablished <span style=\"background-color: yellow;\">method</span> was successfully applied to the quality assessment of sevenbatches of <span style=\"background-color: yellow;\">RSM</span> <span style=\"background-color: yellow;\">samples</span> collected from different regions of China."
      ],
      "text/plain": [
       "<IPython.core.display.HTML object>"
      ]
     },
     "metadata": {},
     "output_type": "display_data"
    },
    {
     "name": "stdout",
     "output_type": "stream",
     "text": [
      "\n",
      "\n",
      "\n"
     ]
    },
    {
     "data": {
      "text/html": [
       "The localizing and <span style=\"background-color: yellow;\">lateralizing</span> <span style=\"background-color: yellow;\">values</span> of <span style=\"background-color: yellow;\">eye</span> and <span style=\"background-color: yellow;\">head</span> <span style=\"background-color: yellow;\">ictal</span> <span style=\"background-color: yellow;\">deviations</span> duringfrontal <span style=\"background-color: yellow;\">lobe</span> <span style=\"background-color: yellow;\">seizures</span> are <span style=\"background-color: yellow;\">still</span> matters of <span style=\"background-color: yellow;\">debate</span>. In particular, no specificdata regarding the <span style=\"background-color: yellow;\">origin</span> of <span style=\"background-color: yellow;\">ipsilateral</span> <span style=\"background-color: yellow;\">head</span> turning in <span style=\"background-color: yellow;\">frontal</span> <span style=\"background-color: yellow;\">lobe</span> seizuresare available. We report a patient with <span style=\"background-color: yellow;\">frontal</span> <span style=\"background-color: yellow;\">lobe</span> <span style=\"background-color: yellow;\">seizures</span> associated withreproducible, <span style=\"background-color: yellow;\">early</span>, <span style=\"background-color: yellow;\">ipsilateral</span> <span style=\"background-color: yellow;\">head</span> <span style=\"background-color: yellow;\">deviation</span>, where imaging andvideo-stereo-electroencephalography data, as well as surgical outcome,demonstrated the fronto-polar and orbito-<span style=\"background-color: yellow;\">frontal</span> <span style=\"background-color: yellow;\">origin</span> of the epilepticdischarge. We conclude that <span style=\"background-color: yellow;\">early</span> <span style=\"background-color: yellow;\">ipsilateral</span> <span style=\"background-color: yellow;\">head</span> <span style=\"background-color: yellow;\">deviation</span>, in the context offrontal <span style=\"background-color: yellow;\">lobe</span> epilepsy, raises the possibility of fronto-polar or orbito-frontalseizure onset.[Published with video sequences]."
      ],
      "text/plain": [
       "<IPython.core.display.HTML object>"
      ]
     },
     "metadata": {},
     "output_type": "display_data"
    },
    {
     "name": "stdout",
     "output_type": "stream",
     "text": [
      "\n",
      "\n",
      "\n"
     ]
    },
    {
     "data": {
      "text/html": [
       "OBJECTIVE: To evaluate the effectiveness and acceptability of <span style=\"background-color: yellow;\">expectantmanagement</span> of <span style=\"background-color: yellow;\">induced</span> and <span style=\"background-color: yellow;\">spontaneous</span> <span style=\"background-color: yellow;\">first</span> <span style=\"background-color: yellow;\">trimester</span> <span style=\"background-color: yellow;\">incomplete</span> <span style=\"background-color: yellow;\">abortion</span>.METHODS: A prospective observational trial, conducted between <span style=\"background-color: yellow;\">June</span> 2006 andNovember 2007, of 2 <span style=\"background-color: yellow;\">groups</span> of <span style=\"background-color: yellow;\">patients</span> diagnosed with an <span style=\"background-color: yellow;\">incomplete</span> <span style=\"background-color: yellow;\">abortion</span>: 66 <span style=\"background-color: yellow;\">patients</span> who had received misoprostol for an <span style=\"background-color: yellow;\">induced</span> <span style=\"background-color: yellow;\">abortion</span> (<span style=\"background-color: yellow;\">group</span> 1) and 30patients who had had a <span style=\"background-color: yellow;\">spontaneous</span> <span style=\"background-color: yellow;\">abortion</span> (<span style=\"background-color: yellow;\">group</span> 2). Transvaginal ultrasoundwas performed weekly. The success <span style=\"background-color: yellow;\">rate</span> (<span style=\"background-color: yellow;\">complete</span> <span style=\"background-color: yellow;\">abortion</span> without surgery), time to resolution, duration of bleeding and pelvic pain, <span style=\"background-color: yellow;\">rate</span> of infection, number ofunscheduled hospital visits, and level of <span style=\"background-color: yellow;\">satisfaction</span> with <span style=\"background-color: yellow;\">expectant</span> management were recorded. RESULTS: The incidence of <span style=\"background-color: yellow;\">complete</span> <span style=\"background-color: yellow;\">abortion</span> was 86.4% and 82.1% ingroups 1 and 2 respectively at day 14 after diagnosis, and 100% in both <span style=\"background-color: yellow;\">groups</span> atday 30 (two <span style=\"background-color: yellow;\">group</span> 2 <span style=\"background-color: yellow;\">patients</span> underwent curettage and were excluded from theanalysis). Both <span style=\"background-color: yellow;\">groups</span> <span style=\"background-color: yellow;\">reported</span> 100% <span style=\"background-color: yellow;\">satisfaction</span> with <span style=\"background-color: yellow;\">expectant</span> management,although over 90% of the women <span style=\"background-color: yellow;\">reported</span> feeling anxious. CONCLUSION: <span style=\"background-color: yellow;\">Expectantmanagement</span> for <span style=\"background-color: yellow;\">incomplete</span> <span style=\"background-color: yellow;\">abortion</span> in the <span style=\"background-color: yellow;\">first</span> <span style=\"background-color: yellow;\">trimester</span> after use ofmisoprostol or after <span style=\"background-color: yellow;\">spontaneous</span> <span style=\"background-color: yellow;\">abortion</span> <span style=\"background-color: yellow;\">may</span> be practical and feasible, althoughit <span style=\"background-color: yellow;\">may</span> increase anxiety associated with the impending <span style=\"background-color: yellow;\">abortion</span>."
      ],
      "text/plain": [
       "<IPython.core.display.HTML object>"
      ]
     },
     "metadata": {},
     "output_type": "display_data"
    },
    {
     "name": "stdout",
     "output_type": "stream",
     "text": [
      "\n",
      "\n",
      "\n"
     ]
    },
    {
     "data": {
      "text/html": [
       "For the <span style=\"background-color: yellow;\">construction</span> of <span style=\"background-color: yellow;\">new</span> <span style=\"background-color: yellow;\">combinatorial</span> <span style=\"background-color: yellow;\">libraries</span>, a <span style=\"background-color: yellow;\">lead</span> <span style=\"background-color: yellow;\">compound</span> was <span style=\"background-color: yellow;\">created</span> by <span style=\"background-color: yellow;\">replacing</span> the <span style=\"background-color: yellow;\">core</span> <span style=\"background-color: yellow;\">structure</span> of a <span style=\"background-color: yellow;\">hit</span> <span style=\"background-color: yellow;\">compound</span> <span style=\"background-color: yellow;\">discovered</span> by <span style=\"background-color: yellow;\">screening</span> <span style=\"background-color: yellow;\">forcytotoxic</span> <span style=\"background-color: yellow;\">agents</span> against a <span style=\"background-color: yellow;\">tumorigenic</span> <span style=\"background-color: yellow;\">cell</span> <span style=\"background-color: yellow;\">line</span>. The newly designed <span style=\"background-color: yellow;\">compoundmaintained</span> biological <span style=\"background-color: yellow;\">activity</span> and allowed alternative library <span style=\"background-color: yellow;\">construction</span> forantitumor drugs."
      ],
      "text/plain": [
       "<IPython.core.display.HTML object>"
      ]
     },
     "metadata": {},
     "output_type": "display_data"
    },
    {
     "name": "stdout",
     "output_type": "stream",
     "text": [
      "\n",
      "\n",
      "\n"
     ]
    },
    {
     "data": {
      "text/html": [
       "We report the results of a screen for <span style=\"background-color: yellow;\">genetic</span> <span style=\"background-color: yellow;\">association</span> with <span style=\"background-color: yellow;\">urinary</span> arsenicmetabolite <span style=\"background-color: yellow;\">levels</span> in three <span style=\"background-color: yellow;\">arsenic</span> <span style=\"background-color: yellow;\">metabolism</span> candidate genes, <span style=\"background-color: yellow;\">PNP</span>, <span style=\"background-color: yellow;\">GSTO</span>, andCYT19, in 135 <span style=\"background-color: yellow;\">arsenic</span>-exposed subjects from the <span style=\"background-color: yellow;\">Yaqui</span> <span style=\"background-color: yellow;\">Valley</span> in Sonora, Mexico,who were exposed to drinking water concentrations ranging from 5.5 to 43.3 ppb.We chose 23 polymorphic <span style=\"background-color: yellow;\">sites</span> to test in the <span style=\"background-color: yellow;\">arsenic</span>-exposed <span style=\"background-color: yellow;\">population</span>. <span style=\"background-color: yellow;\">Initial</span> phenotypes evaluated included the <span style=\"background-color: yellow;\">ratio</span> of <span style=\"background-color: yellow;\">urinary</span> inorganic <span style=\"background-color: yellow;\">arsenic</span>(III) toinorganic <span style=\"background-color: yellow;\">arsenic</span>(V) and the <span style=\"background-color: yellow;\">ratio</span> of <span style=\"background-color: yellow;\">urinary</span> dimethylarsenic(V) tomonomethylarsenic(V) (D:M). In the <span style=\"background-color: yellow;\">initial</span> <span style=\"background-color: yellow;\">association</span> screening, threepolymorphic <span style=\"background-color: yellow;\">sites</span> in the CYT19 gene were significantly associated with D:M ratiosin the total <span style=\"background-color: yellow;\">population</span>. Subsequent <span style=\"background-color: yellow;\">analysis</span> of this <span style=\"background-color: yellow;\">association</span> revealed thatthe <span style=\"background-color: yellow;\">association</span> signal for the entire <span style=\"background-color: yellow;\">population</span> was actually caused by anextremely <span style=\"background-color: yellow;\">strong</span> <span style=\"background-color: yellow;\">association</span> in only the <span style=\"background-color: yellow;\">children</span> (7-11 <span style=\"background-color: yellow;\">years</span> of age) betweenCYT19 genotype and D:M <span style=\"background-color: yellow;\">levels</span>. With <span style=\"background-color: yellow;\">children</span> removed from the <span style=\"background-color: yellow;\">analysis</span>, nosignificant <span style=\"background-color: yellow;\">genetic</span> <span style=\"background-color: yellow;\">association</span> was observed in adults (18-79 <span style=\"background-color: yellow;\">years</span>). Theexistence of a <span style=\"background-color: yellow;\">strong</span>, developmentally regulated <span style=\"background-color: yellow;\">genetic</span> <span style=\"background-color: yellow;\">association</span> betweenCYT19 and <span style=\"background-color: yellow;\">arsenic</span> <span style=\"background-color: yellow;\">metabolism</span> carries import for both <span style=\"background-color: yellow;\">arsenic</span> pharmacogenetics andarsenic toxicology, as well as for public health and governmental regulatoryofficials."
      ],
      "text/plain": [
       "<IPython.core.display.HTML object>"
      ]
     },
     "metadata": {},
     "output_type": "display_data"
    },
    {
     "name": "stdout",
     "output_type": "stream",
     "text": [
      "\n",
      "\n",
      "\n"
     ]
    },
    {
     "data": {
      "text/html": [
       "<span style=\"background-color: yellow;\">Intraparenchymal</span> <span style=\"background-color: yellow;\">pericatheter</span> <span style=\"background-color: yellow;\">cyst</span> is <span style=\"background-color: yellow;\">rarely</span> <span style=\"background-color: yellow;\">reported</span>. <span style=\"background-color: yellow;\">Obstruction</span> in <span style=\"background-color: yellow;\">theventriculoperitoneal</span> <span style=\"background-color: yellow;\">shunt</span> <span style=\"background-color: yellow;\">leads</span> to recurrence of <span style=\"background-color: yellow;\">hydrocephalus</span>, <span style=\"background-color: yellow;\">signs</span> of raised intracranial pressure and <span style=\"background-color: yellow;\">possibly</span> secondary complications. Blockage of thedistal <span style=\"background-color: yellow;\">catheter</span> can result, unusually, in cerebrospinal <span style=\"background-color: yellow;\">fluid</span> <span style=\"background-color: yellow;\">oedema</span> and/orintraparenchymal <span style=\"background-color: yellow;\">cyst</span> around the ventricular <span style=\"background-color: yellow;\">catheter</span> which may produce focalneurological <span style=\"background-color: yellow;\">deficit</span>. We report two cases of <span style=\"background-color: yellow;\">distal</span> <span style=\"background-color: yellow;\">catheter</span> <span style=\"background-color: yellow;\">obstruction</span> withformation of cysts causing local mass effect and neurological <span style=\"background-color: yellow;\">deficit</span>. Bothpatients had their <span style=\"background-color: yellow;\">shunt</span> system replaced, which led to <span style=\"background-color: yellow;\">resolution</span> of the <span style=\"background-color: yellow;\">cyst</span> andclinical improvement. One patient had endoscopic exploration of the <span style=\"background-color: yellow;\">cyst</span> whichconfirmed the diagnosis made on <span style=\"background-color: yellow;\">imaging</span> studies. Magnetic resonance <span style=\"background-color: yellow;\">imaging</span> wasmore helpful than computed tomography in differentiating between <span style=\"background-color: yellow;\">oedema</span> andcollection of cystic <span style=\"background-color: yellow;\">fluid</span>. Early recognition and treatment of <span style=\"background-color: yellow;\">pericatheter</span> <span style=\"background-color: yellow;\">cyst</span> in the presence of <span style=\"background-color: yellow;\">distal</span> <span style=\"background-color: yellow;\">shunt</span> <span style=\"background-color: yellow;\">obstruction</span> can lead to complete <span style=\"background-color: yellow;\">resolution</span> ofsymptoms and <span style=\"background-color: yellow;\">signs</span>."
      ],
      "text/plain": [
       "<IPython.core.display.HTML object>"
      ]
     },
     "metadata": {},
     "output_type": "display_data"
    },
    {
     "name": "stdout",
     "output_type": "stream",
     "text": [
      "\n",
      "\n",
      "\n"
     ]
    },
    {
     "data": {
      "text/html": [
       "It is <span style=\"background-color: yellow;\">known</span> that <span style=\"background-color: yellow;\">patients</span> with Klinefelter's <span style=\"background-color: yellow;\">syndrome</span> are <span style=\"background-color: yellow;\">inclined</span> to <span style=\"background-color: yellow;\">developconcomitant</span> <span style=\"background-color: yellow;\">malignant</span> <span style=\"background-color: yellow;\">tumours</span>, as <span style=\"background-color: yellow;\">well</span> as <span style=\"background-color: yellow;\">extragonadal</span> <span style=\"background-color: yellow;\">germ</span> <span style=\"background-color: yellow;\">cell</span> <span style=\"background-color: yellow;\">tumours</span>. <span style=\"background-color: yellow;\">Theassociation</span> of a <span style=\"background-color: yellow;\">primary</span> <span style=\"background-color: yellow;\">spinal</span> germinoma in a <span style=\"background-color: yellow;\">patient</span> with Klinefelter'ssyndrome is reported for the first time, and the <span style=\"background-color: yellow;\">coincidence</span> of <span style=\"background-color: yellow;\">elevatedgonadotropin</span> <span style=\"background-color: yellow;\">levels</span> and <span style=\"background-color: yellow;\">oncogenesis</span> is <span style=\"background-color: yellow;\">discussed</span>."
      ],
      "text/plain": [
       "<IPython.core.display.HTML object>"
      ]
     },
     "metadata": {},
     "output_type": "display_data"
    },
    {
     "name": "stdout",
     "output_type": "stream",
     "text": [
      "\n",
      "\n",
      "\n"
     ]
    }
   ],
   "source": [
    "for r in result.select(\"highlighted_keywords\").limit(20).collect():\n",
    "    display(HTML(r.highlighted_keywords))\n",
    "    print(\"\\n\\n\")"
   ]
  }
 ],
 "metadata": {
  "colab": {
   "collapsed_sections": [],
   "provenance": []
  },
  "kernelspec": {
   "display_name": "Python 3",
   "language": "python",
   "name": "python3"
  },
  "language_info": {
   "codemirror_mode": {
    "name": "ipython",
    "version": 3
   },
   "file_extension": ".py",
   "mimetype": "text/x-python",
   "name": "python",
   "nbconvert_exporter": "python",
   "pygments_lexer": "ipython3"
  }
 },
 "nbformat": 4,
 "nbformat_minor": 0
}
