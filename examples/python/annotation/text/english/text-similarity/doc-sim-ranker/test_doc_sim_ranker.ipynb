{
 "cells": [
  {
   "attachments": {},
   "cell_type": "markdown",
   "id": "c3dc7ce5",
   "metadata": {},
   "source": [
    "# Document Similarity Ranker for Spark NLP\n",
    "### Efficient approximate nearest neighbor search on top of sentence embeddings"
   ]
  },
  {
   "cell_type": "code",
   "execution_count": 1,
   "id": "1a9dd32e",
   "metadata": {},
   "outputs": [],
   "source": [
    "# Import Spark NLP classes\n",
    "from sparknlp.base import *\n",
    "from sparknlp.annotator import *\n",
    "from sparknlp.pretrained import PretrainedPipeline"
   ]
  },
  {
   "cell_type": "code",
   "execution_count": null,
   "id": "82846deb",
   "metadata": {},
   "outputs": [],
   "source": [
    "# Create the PySpark session\n",
    "from pyspark.sql import SparkSession\n",
    "\n",
    "spark = (SparkSession.builder\n",
    "    .appName(\"Spark NLP\")\n",
    "    .master(\"local[*]\")\n",
    "    .config(\"spark.driver.memory\",\"16G\")\n",
    "    .config(\"spark.driver.maxResultSize\", \"0\") \n",
    "    .config(\"spark.kryoserializer.buffer.max\", \"2000M\")\n",
    "    .config(\"spark.driver.bindAddress\", \"127.0.0.1\")\n",
    "    .config(\"spark.jars.packages\", \"com.johnsnowlabs.nlp:spark-nlp_2.12:5.0.0\")\n",
    "    .getOrCreate()\n",
    ")"
   ]
  },
  {
   "cell_type": "code",
   "execution_count": 3,
   "id": "a3f563d5",
   "metadata": {},
   "outputs": [],
   "source": [
    "# Let's use some dataset where we can visually control similarity\n",
    "# Documents are coupled, as 1-2, 3-4, 5-6, 7-8 and they were voluntarily created similar\n",
    "data = spark.createDataFrame(\n",
    "        [\n",
    "            [\"First document, this is my first sentence. This is my second sentence.\"],\n",
    "            [\"Second document, this is my second sentence. This is my second sentence.\"],\n",
    "            [\"Third document, climate change is arguably one of the most pressing problems of our time.\"],\n",
    "            [\"Fourth document, climate change is definitely one of the most pressing problems of our time.\"],\n",
    "            [\"Fifth document, Florence in Italy, is among the most beautiful cities in Europe.\"],\n",
    "            [\"Sixth document, Florence in Italy, is a very beautiful city in Europe like Lyon in France.\"],\n",
    "            [\"Seventh document, the French Riviera is the Mediterranean coastline of the southeast corner of France.\"],\n",
    "            [\"Eighth document, the warmest place in France is the French Riviera coast in Southern France.\"]\n",
    "        ]\n",
    "    ).toDF(\"text\")"
   ]
  },
  {
   "cell_type": "code",
   "execution_count": 4,
   "id": "34604126",
   "metadata": {},
   "outputs": [
    {
     "name": "stderr",
     "output_type": "stream",
     "text": [
      "                                                                                \r"
     ]
    },
    {
     "name": "stdout",
     "output_type": "stream",
     "text": [
      "+------------------------------------------------------------------------------------------------------+\n",
      "|text                                                                                                  |\n",
      "+------------------------------------------------------------------------------------------------------+\n",
      "|First document, this is my first sentence. This is my second sentence.                                |\n",
      "|Second document, this is my second sentence. This is my second sentence.                              |\n",
      "|Third document, climate change is arguably one of the most pressing problems of our time.             |\n",
      "|Fourth document, climate change is definitely one of the most pressing problems of our time.          |\n",
      "|Fifth document, Florence in Italy, is among the most beautiful cities in Europe.                      |\n",
      "|Sixth document, Florence in Italy, is a very beautiful city in Europe like Lyon in France.            |\n",
      "|Seventh document, the French Riviera is the Mediterranean coastline of the southeast corner of France.|\n",
      "|Eighth document, the warmest place in France is the French Riviera coast in Southern France.          |\n",
      "+------------------------------------------------------------------------------------------------------+\n",
      "\n"
     ]
    }
   ],
   "source": [
    "data.show(10, False)"
   ]
  },
  {
   "attachments": {},
   "cell_type": "markdown",
   "id": "945e787d",
   "metadata": {},
   "source": [
    "## A document similarity ranker pipeline\n",
    "### The document similarity ranker works downstream of other annotators generating sentence embeddings. In this example we'll use RoBertaSentenceEmbeddings.\n",
    "The pipeline will use the following steps:\n",
    "- document_assembler to annotate the documents\n",
    "- sentence_detector to detect sentences\n",
    "- tokenizer to apply tokenization\n",
    "- sentence_embeddings to created the necessary sentence embeddings representation\n",
    "- document_similarity_ranker to extract the simlar documents via annotator configuration\n",
    "- document_similarity_ranker_finisher to extract the column of interest for this new annotator"
   ]
  },
  {
   "attachments": {},
   "cell_type": "markdown",
   "id": "d4d2bd1d",
   "metadata": {},
   "source": [
    "## DocumentSimilarityRankerApproach: input parameter setters overview\n",
    "- setInputCols(\"sentence_embeddings\") : this setter will address input column\n",
    "- setOutputCol(\"doc_similarity_rankings\") : this setter will address ouput column\n",
    "- setSimilarityMethod(\"brp\") : this setter will select the LSH method (lsh|mh) used to apply approximate nearest neigbours search\n",
    "- setNumberOfNeighbours(10) : this setter will address the desired number of similar documents for a given document in the set\n",
    "- setBucketLength(2.0) : LSH parameter used to control the average size of hash buckets and improve recall\n",
    "- setNumHashTables(3) : LSH parameter used to control number of hash tables used in LSH OR-amplification and improve recall\n",
    "- setVisibleDistances(True) : this setter will make distances visible in the result, useful for debugging level information\n",
    "- setIdentityRanking(False) : this setter will make identity distance (0.0) visible, useful for debugging level information"
   ]
  },
  {
   "attachments": {},
   "cell_type": "markdown",
   "id": "0b36d5cd",
   "metadata": {},
   "source": [
    "## DocumentSimilarityRankerFinisher: out parameters overview\n",
    "- setInputCols(\"doc_similarity_rankings\") : this setter will read the result column to extract IDs and distances\n",
    "- setOutputCols(\n",
    "            \"finished_doc_similarity_rankings_id\",\n",
    "            \"finished_doc_similarity_rankings_neighbors\") : this setter selects the column with the document query ID and the neighbors document that results from the search run"
   ]
  },
  {
   "attachments": {},
   "cell_type": "markdown",
   "id": "bf5f3564",
   "metadata": {},
   "source": [
    "# RoBertaSentenceEmbeddings + LSH"
   ]
  },
  {
   "cell_type": "code",
   "execution_count": 5,
   "id": "9a8f9eae",
   "metadata": {},
   "outputs": [
    {
     "name": "stdout",
     "output_type": "stream",
     "text": [
      "sent_roberta_base download started this may take some time.\n",
      "Approximate size to download 284.8 MB\n",
      "[ | ]sent_roberta_base download started this may take some time.\n",
      "Approximate size to download 284.8 MB\n",
      "Download done! Loading the resource.\n",
      "[ / ]"
     ]
    },
    {
     "name": "stderr",
     "output_type": "stream",
     "text": [
      "2023-07-06 20:32:22.526098: I external/org_tensorflow/tensorflow/core/platform/cpu_feature_guard.cc:151] This TensorFlow binary is optimized with oneAPI Deep Neural Network Library (oneDNN) to use the following CPU instructions in performance-critical operations:  AVX2 FMA\n",
      "To enable them in other operations, rebuild TensorFlow with the appropriate compiler flags.\n"
     ]
    },
    {
     "name": "stdout",
     "output_type": "stream",
     "text": [
      "[OK!]\n"
     ]
    },
    {
     "name": "stderr",
     "output_type": "stream",
     "text": [
      "                                                                                \r"
     ]
    },
    {
     "name": "stdout",
     "output_type": "stream",
     "text": [
      "23/07/06 20:32:33 WARN InstanceBuilder$NativeBLAS: Failed to load implementation from:dev.ludovic.netlib.blas.JNIBLAS\n",
      "23/07/06 20:32:33 WARN InstanceBuilder$NativeBLAS: Failed to load implementation from:dev.ludovic.netlib.blas.ForeignLinkerBLAS\n"
     ]
    },
    {
     "name": "stderr",
     "output_type": "stream",
     "text": [
      "                                                                                \r"
     ]
    },
    {
     "name": "stdout",
     "output_type": "stream",
     "text": [
      "+-----------------------------------+------------------------------------------+\n",
      "|finished_doc_similarity_rankings_id|finished_doc_similarity_rankings_neighbors|\n",
      "+-----------------------------------+------------------------------------------+\n",
      "|1510101612                         |[(1634839239,0.12448559273510636)]        |\n",
      "|1634839239                         |[(1510101612,0.12448559273510636)]        |\n",
      "|-612640902                         |[(1274183715,0.12201215887654807)]        |\n",
      "|1274183715                         |[(-612640902,0.12201215887654807)]        |\n",
      "|-1320876223                        |[(1293373212,0.17848861258809434)]        |\n",
      "|1293373212                         |[(-1320876223,0.17848861258809434)]       |\n",
      "|-1548374770                        |[(-1719102856,0.2329717161223739)]        |\n",
      "|-1719102856                        |[(-1548374770,0.2329717161223739)]        |\n",
      "+-----------------------------------+------------------------------------------+\n",
      "\n"
     ]
    }
   ],
   "source": [
    "from sparknlp.annotator.similarity.document_similarity_ranker import *\n",
    "\n",
    "document_assembler = DocumentAssembler() \\\n",
    "            .setInputCol(\"text\") \\\n",
    "            .setOutputCol(\"document\")\n",
    "\n",
    "sentence_embeddings = RoBertaSentenceEmbeddings.pretrained() \\\n",
    "            .setInputCols([\"document\"]) \\\n",
    "            .setOutputCol(\"sentence_embeddings\")\n",
    "\n",
    "document_similarity_ranker = DocumentSimilarityRankerApproach() \\\n",
    "            .setInputCols(\"sentence_embeddings\") \\\n",
    "            .setOutputCol(\"doc_similarity_rankings\") \\\n",
    "            .setSimilarityMethod(\"brp\") \\\n",
    "            .setNumberOfNeighbours(1) \\\n",
    "            .setBucketLength(2.0) \\\n",
    "            .setNumHashTables(3) \\\n",
    "            .setVisibleDistances(True) \\\n",
    "            .setIdentityRanking(False)\n",
    "\n",
    "document_similarity_ranker_finisher = DocumentSimilarityRankerFinisher() \\\n",
    "        .setInputCols(\"doc_similarity_rankings\") \\\n",
    "        .setOutputCols(\n",
    "            \"finished_doc_similarity_rankings_id\",\n",
    "            \"finished_doc_similarity_rankings_neighbors\") \\\n",
    "        .setExtractNearestNeighbor(True)\n",
    "\n",
    "pipeline = Pipeline(stages=[\n",
    "            document_assembler,\n",
    "            sentence_embeddings,\n",
    "            document_similarity_ranker,\n",
    "            document_similarity_ranker_finisher\n",
    "        ])\n",
    "\n",
    "docSimRankerPipeline = pipeline.fit(data).transform(data)\n",
    "\n",
    "(\n",
    "    docSimRankerPipeline\n",
    "        .select(\n",
    "               \"finished_doc_similarity_rankings_id\",\n",
    "               \"finished_doc_similarity_rankings_neighbors\"\n",
    "        ).show(10, False)\n",
    ")"
   ]
  },
  {
   "attachments": {},
   "cell_type": "markdown",
   "id": "54eca293",
   "metadata": {},
   "source": [
    "## Result analysis for consistent result confirmation\n",
    "#### The test is asserting the initial hypothesis. The documents were created similar in pair: 1-2, 3-4, 5-6, 7-8.\n",
    "For instance document 1 and 2 are detected mutually best neighbors at the very same distance respectively:\n",
    "- document ID 1510101612 has his best similar document in (1634839239,0.12448559273510636) at distance 0.12448559273510636\n",
    "- document ID 1634839239 has his best similar document in (1510101612,0.12448559273510636) at distance 0.12448559273510636\n",
    "\n",
    "#### If we set the ranker like so\n",
    "```\n",
    "document_similarity_ranker = DocumentSimilarityRankerApproach() \\\n",
    "            .setInputCols(\"sentence_embeddings\") \\\n",
    "            .setOutputCol(\"doc_similarity_rankings\") \\\n",
    "            .setSimilarityMethod(\"brp\") \\\n",
    "            .setNumberOfNeighbours(1) \\\n",
    "            .setBucketLength(2.0) \\\n",
    "            .setNumHashTables(3) \\\n",
    "            .setVisibleDistances(True) \\\n",
    "            .setIdentityRanking(True)\n",
    "```\n",
    "\n",
    "we can check also that each document is at 0.0 distance from itself:\n",
    "\n",
    "```\n",
    "+-----------------------------------+------------------------------------------+\n",
    "|finished_doc_similarity_rankings_id|finished_doc_similarity_rankings_neighbors|\n",
    "+-----------------------------------+------------------------------------------+\n",
    "|1510101612                         |[(1510101612,0.0)]                        |\n",
    "|1634839239                         |[(1634839239,0.0)]                        |\n",
    "|-612640902                         |[(-612640902,0.0)]                        |\n",
    "|1274183715                         |[(1274183715,0.0)]                        |\n",
    "|-1320876223                        |[(-1320876223,0.0)]                       |\n",
    "|1293373212                         |[(1293373212,0.0)]                        |\n",
    "|-1548374770                        |[(-1548374770,0.0)]                       |\n",
    "|-1719102856                        |[(-1719102856,0.0)]                       |\n",
    "+-----------------------------------+------------------------------------------+\n",
    "```"
   ]
  },
  {
   "attachments": {},
   "cell_type": "markdown",
   "id": "2d5145eb",
   "metadata": {},
   "source": [
    "# E5Embeddings + LSH"
   ]
  },
  {
   "cell_type": "code",
   "execution_count": 6,
   "id": "2cde88af",
   "metadata": {},
   "outputs": [
    {
     "name": "stdout",
     "output_type": "stream",
     "text": [
      "e5_small download started this may take some time.\n",
      "Approximate size to download 77.2 MB\n",
      "[ / ]e5_small download started this may take some time.\n",
      "Approximate size to download 77.2 MB\n",
      "Download done! Loading the resource.\n",
      "[OK!]\n"
     ]
    },
    {
     "name": "stderr",
     "output_type": "stream",
     "text": [
      "                                                                                \r"
     ]
    },
    {
     "name": "stdout",
     "output_type": "stream",
     "text": [
      "+-----------------------------------+------------------------------------------+\n",
      "|finished_doc_similarity_rankings_id|finished_doc_similarity_rankings_neighbors|\n",
      "+-----------------------------------+------------------------------------------+\n",
      "|1510101612                         |[(1634839239,0.20337895037431444)]        |\n",
      "|1634839239                         |[(1510101612,0.20337895037431444)]        |\n",
      "|-612640902                         |[(1274183715,0.14675924477349783)]        |\n",
      "|1274183715                         |[(-612640902,0.14675924477349783)]        |\n",
      "|-1320876223                        |[(1293373212,0.24976781733150447)]        |\n",
      "|1293373212                         |[(-1320876223,0.24976781733150447)]       |\n",
      "|-1548374770                        |[(-1719102856,0.42662995110035284)]       |\n",
      "|-1719102856                        |[(-1548374770,0.42662995110035284)]       |\n",
      "+-----------------------------------+------------------------------------------+\n",
      "\n"
     ]
    }
   ],
   "source": [
    "from sparknlp.annotator.similarity.document_similarity_ranker import *\n",
    "\n",
    "document_assembler = DocumentAssembler() \\\n",
    "            .setInputCol(\"text\") \\\n",
    "            .setOutputCol(\"document\")\n",
    "\n",
    "sentence_embeddings = E5Embeddings.pretrained() \\\n",
    "            .setInputCols([\"document\"]) \\\n",
    "            .setOutputCol(\"sentence_embeddings\")\n",
    "\n",
    "document_similarity_ranker = DocumentSimilarityRankerApproach() \\\n",
    "            .setInputCols(\"sentence_embeddings\") \\\n",
    "            .setOutputCol(\"doc_similarity_rankings\") \\\n",
    "            .setSimilarityMethod(\"brp\") \\\n",
    "            .setNumberOfNeighbours(1) \\\n",
    "            .setBucketLength(2.0) \\\n",
    "            .setNumHashTables(3) \\\n",
    "            .setVisibleDistances(True) \\\n",
    "            .setIdentityRanking(False)\n",
    "\n",
    "document_similarity_ranker_finisher = DocumentSimilarityRankerFinisher() \\\n",
    "        .setInputCols(\"doc_similarity_rankings\") \\\n",
    "        .setOutputCols(\n",
    "            \"finished_doc_similarity_rankings_id\",\n",
    "            \"finished_doc_similarity_rankings_neighbors\") \\\n",
    "        .setExtractNearestNeighbor(True)\n",
    "\n",
    "pipeline = Pipeline(stages=[\n",
    "            document_assembler,\n",
    "            sentence_embeddings,\n",
    "            document_similarity_ranker,\n",
    "            document_similarity_ranker_finisher\n",
    "        ])\n",
    "\n",
    "docSimRankerPipeline = pipeline.fit(data).transform(data)\n",
    "\n",
    "(\n",
    "    docSimRankerPipeline\n",
    "        .select(\n",
    "               \"finished_doc_similarity_rankings_id\",\n",
    "               \"finished_doc_similarity_rankings_neighbors\"\n",
    "        ).show(10, False)\n",
    ")"
   ]
  }
 ],
 "metadata": {
  "kernelspec": {
   "display_name": "Python 3 (ipykernel)",
   "language": "python",
   "name": "python3"
  },
  "language_info": {
   "codemirror_mode": {
    "name": "ipython",
    "version": 3
   },
   "file_extension": ".py",
   "mimetype": "text/x-python",
   "name": "python",
   "nbconvert_exporter": "python",
   "pygments_lexer": "ipython3",
   "version": "3.10.11"
  }
 },
 "nbformat": 4,
 "nbformat_minor": 5
}
