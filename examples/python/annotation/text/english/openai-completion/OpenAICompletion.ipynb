{
  "cells": [
    {
      "cell_type": "markdown",
      "metadata": {
        "id": "fTyNlgUztaq9",
        "outputId": "e36bd296-66e8-4153-e0ff-494028f92fda"
      },
      "source": [
        "![JohnSnowLabs](https://sparknlp.org/assets/images/logo.png)\n",
        "\n",
        "[![Open In Colab](https://colab.research.google.com/assets/colab-badge.svg)](https://colab.research.google.com/github/JohnSnowLabs/spark-nlp/blob/master/examples/python/annotation/text/english/openai-completion/OpenAICompletion.ipynb)"
      ]
    },
    {
      "cell_type": "markdown",
      "metadata": {
        "id": "E81LqDJzJIW7",
        "outputId": "8670b8f9-22e1-4782-f5b0-7c77d0308eca"
      },
      "source": [
        "## OpenAICompletion in SparkNLP"
      ]
    },
    {
      "cell_type": "markdown",
      "metadata": {
        "id": "ZXU_LZZUJI6V"
      },
      "source": [
        "In this notebook, we'll explore the process of utilizing OpenAICompletition within SparkNLP's framework.\n",
        "\n",
        "Spark NLP offers a seamless integration with various OpenAI APIs, presenting a powerful synergy. With the introduction of Spark NLP 5.1.0, leveraging the OpenAICompletition and OpenAIEmbeddings transformers becomes achievable. This integration not only ensures the utilization of OpenAI's capabilities but also capitalizes on Spark's inherent scalability advantages."
      ]
    },
    {
      "cell_type": "markdown",
      "source": [
        "Colab Setup"
      ],
      "metadata": {
        "id": "5gPFiCye1Ivt"
      }
    },
    {
      "cell_type": "code",
      "source": [
        "!wget -q http://setup.johnsnowlabs.com/colab.sh -O - | bash"
      ],
      "metadata": {
        "colab": {
          "base_uri": "https://localhost:8080/"
        },
        "id": "NZLNnNTt1Lys",
        "outputId": "de85bf9b-1002-47e1-c8b8-1cdd00b7976a"
      },
      "execution_count": 3,
      "outputs": [
        {
          "output_type": "stream",
          "name": "stdout",
          "text": [
            "Installing PySpark 3.2.3 and Spark NLP 5.2.3\n",
            "setup Colab for PySpark 3.2.3 and Spark NLP 5.2.3\n",
            "\u001b[2K     \u001b[90m━━━━━━━━━━━━━━━━━━━━━━━━━━━━━━━━━━━━━━━━\u001b[0m \u001b[32m281.5/281.5 MB\u001b[0m \u001b[31m3.1 MB/s\u001b[0m eta \u001b[36m0:00:00\u001b[0m\n",
            "\u001b[?25h  Preparing metadata (setup.py) ... \u001b[?25l\u001b[?25hdone\n",
            "\u001b[2K     \u001b[90m━━━━━━━━━━━━━━━━━━━━━━━━━━━━━━━━━━━━━━━━\u001b[0m \u001b[32m547.6/547.6 kB\u001b[0m \u001b[31m37.8 MB/s\u001b[0m eta \u001b[36m0:00:00\u001b[0m\n",
            "\u001b[2K     \u001b[90m━━━━━━━━━━━━━━━━━━━━━━━━━━━━━━━━━━━━━━━━\u001b[0m \u001b[32m199.7/199.7 kB\u001b[0m \u001b[31m19.7 MB/s\u001b[0m eta \u001b[36m0:00:00\u001b[0m\n",
            "\u001b[?25h  Building wheel for pyspark (setup.py) ... \u001b[?25l\u001b[?25hdone\n"
          ]
        }
      ]
    },
    {
      "cell_type": "markdown",
      "metadata": {
        "id": "k3HjBjIC9b2W"
      },
      "source": [
        "## Spark NLP Settings"
      ]
    },
    {
      "cell_type": "markdown",
      "metadata": {
        "id": "d3o4GxH-9IQk",
        "outputId": "5f9e0ae7-3b44-40fc-f106-b1018f18b994"
      },
      "source": [
        "All you need to do is to setup your [OpenAI API Key](https://platform.openai.com/docs/api-reference/authentication) and add it to Spark properties"
      ]
    },
    {
      "cell_type": "code",
      "execution_count": null,
      "metadata": {
        "id": "DJRZFsAO0s9k"
      },
      "outputs": [],
      "source": [
        "print(\"Enter your OPENAI API Key:\")\n",
        "OPENAI_API_KEY = input()"
      ]
    },
    {
      "cell_type": "code",
      "execution_count": 4,
      "metadata": {
        "id": "XLNO3Z9r6HgR"
      },
      "outputs": [],
      "source": [
        "from sparknlp.annotator import *\n",
        "from pyspark.ml import Pipeline\n",
        "from sparknlp.base import LightPipeline"
      ]
    },
    {
      "cell_type": "code",
      "execution_count": 5,
      "metadata": {
        "id": "ps90YdRr0s9m"
      },
      "outputs": [],
      "source": [
        "import sparknlp\n",
        "# let's start Spark with Spark NLP\n",
        "openai_params = {\"spark.jsl.settings.openai.api.key\": OPENAI_API_KEY}\n",
        "spark = sparknlp.start(params=openai_params)"
      ]
    },
    {
      "cell_type": "code",
      "execution_count": 6,
      "metadata": {
        "id": "_eB72Yzg8_Jx"
      },
      "outputs": [],
      "source": [
        "document_assembler = DocumentAssembler() \\\n",
        "        .setInputCol(\"text\") \\\n",
        "        .setOutputCol(\"document\")\n",
        "\n",
        "openai_completion = OpenAICompletion() \\\n",
        "       .setInputCols(\"document\") \\\n",
        "       .setOutputCol(\"completion\") \\\n",
        "       .setModel(\"gpt-3.5-turbo-instruct\") \\\n",
        "       .setMaxTokens(50)\n",
        "\n",
        "# Define the pipeline\n",
        "pipeline = Pipeline(stages=[\n",
        "    document_assembler, openai_completion\n",
        "])"
      ]
    },
    {
      "cell_type": "code",
      "execution_count": 7,
      "metadata": {
        "colab": {
          "base_uri": "https://localhost:8080/"
        },
        "id": "tRyju8D-6XJ1",
        "outputId": "85cb1b0f-cb43-422b-c025-cb75ef30f45f"
      },
      "outputs": [
        {
          "output_type": "stream",
          "name": "stdout",
          "text": [
            "+--------------------+\n",
            "|                text|\n",
            "+--------------------+\n",
            "|Generate a restau...|\n",
            "|Write a review fo...|\n",
            "|Create a JSON wit...|\n",
            "+--------------------+\n",
            "\n"
          ]
        }
      ],
      "source": [
        "empty_df = spark.createDataFrame([[\"\"]], [\"text\"])\n",
        "sample_text= [[\"Generate a restaurant review.\"], [\"Write a review for a local eatery.\"], [\"Create a JSON with a review of a dining experience.\"]]\n",
        "sample_df= spark.createDataFrame(sample_text).toDF(\"text\")\n",
        "sample_df.show()"
      ]
    },
    {
      "cell_type": "code",
      "execution_count": 8,
      "metadata": {
        "id": "X5G4_BXwOYtC"
      },
      "outputs": [],
      "source": [
        "pipeline_model = pipeline.fit(empty_df)\n",
        "completion_df = pipeline_model.transform(sample_df)"
      ]
    },
    {
      "cell_type": "code",
      "execution_count": 9,
      "metadata": {
        "colab": {
          "base_uri": "https://localhost:8080/"
        },
        "id": "wz7nZpIY4aYh",
        "outputId": "a6d8aacf-0d00-453b-da6d-5734c38f30a0"
      },
      "outputs": [
        {
          "output_type": "stream",
          "name": "stdout",
          "text": [
            "+-----------------------------------------------------------------------------------------------------------------------------------------------------------------------------------------------------------------------------------------------------------------------+\n",
            "|completion                                                                                                                                                                                                                                                             |\n",
            "+-----------------------------------------------------------------------------------------------------------------------------------------------------------------------------------------------------------------------------------------------------------------------+\n",
            "|[{document, 0, 223, \\n\\nI recently had the pleasure of dining at \"Elevate\", a trendy new restaurant nestled in the heart of the city. From the moment I walked in, I was greeted with warmth and hospitality by the friendly staff.\\n\\nAs I perused the, {}, []}]      |\n",
            "|[{document, 0, 229, \\n\\nI recently dined at a local eatery called The Rustic Bistro and I have to say, I was thoroughly impressed with my experience.\\n\\nUpon entering, I was greeted with a warm and inviting atmosphere, with dim lighting and cozy tables., {}, []}]|\n",
            "|[{document, 0, 177, \\n\\n{\\n    \"restaurant\": \"The Olive Tree\",\\n    \"location\": \"New York City, NY\",\\n    \"date\": \"October 15, 2021\",\\n    \"dining_experience\": \"My dining experience at The Olive Tree was, {}, []}]                                                  |\n",
            "+-----------------------------------------------------------------------------------------------------------------------------------------------------------------------------------------------------------------------------------------------------------------------+\n",
            "\n"
          ]
        }
      ],
      "source": [
        "completion_df.select(\"completion\").show(truncate=False)"
      ]
    },
    {
      "cell_type": "markdown",
      "metadata": {
        "id": "5jAaTlBN_lNu"
      },
      "source": [
        "LightPipeline"
      ]
    },
    {
      "cell_type": "code",
      "execution_count": 10,
      "metadata": {
        "id": "roBEvzkz_oQJ"
      },
      "outputs": [],
      "source": [
        "light_pipeline_openai = LightPipeline(pipeline_model)"
      ]
    },
    {
      "cell_type": "code",
      "execution_count": 11,
      "metadata": {
        "colab": {
          "base_uri": "https://localhost:8080/"
        },
        "id": "2Oq7PEFWe5B7",
        "outputId": "418a0ac5-76f8-47af-f351-4502892d9727"
      },
      "outputs": [
        {
          "output_type": "execute_result",
          "data": {
            "text/plain": [
              "[{'document': [Annotation(document, 0, 36, Generate a negative review of a movie, {}, [])],\n",
              "  'completion': [Annotation(document, 0, 215, \n",
              "   \n",
              "   I recently watched the movie \"The Last Dance\" and boy, was I disappointed. To say that this movie was a waste of time would be an understatement. From start to finish, it was an absolute snooze fest.\n",
              "   \n",
              "   First of all, {}, [])]}]"
            ]
          },
          "metadata": {},
          "execution_count": 11
        }
      ],
      "source": [
        "light_pipeline_openai.fullAnnotate(\"Generate a negative review of a movie\")"
      ]
    },
    {
      "cell_type": "code",
      "execution_count": 12,
      "metadata": {
        "colab": {
          "base_uri": "https://localhost:8080/"
        },
        "id": "FhKPEMb09w6a",
        "outputId": "a3464557-96a9-42ad-b2cf-d34b975cdae6"
      },
      "outputs": [
        {
          "output_type": "execute_result",
          "data": {
            "text/plain": [
              "{'document': ['Generate a negative review of a movie'],\n",
              " 'completion': ['\\n\\nThe movie \"Piece of Garbage\" was a complete waste of my time. From start to finish, it was filled with terrible acting, a nonsensical plot, and cheap special effects. I couldn\\'t believe I actually paid money to']}"
            ]
          },
          "metadata": {},
          "execution_count": 12
        }
      ],
      "source": [
        "light_pipeline_openai.annotate(\"Generate a negative review of a movie\")"
      ]
    }
  ],
  "metadata": {
    "colab": {
      "provenance": []
    },
    "kernelspec": {
      "display_name": "Python 3 (ipykernel)",
      "language": "python",
      "name": "python3"
    },
    "language_info": {
      "codemirror_mode": {
        "name": "ipython",
        "version": 3
      },
      "file_extension": ".py",
      "mimetype": "text/x-python",
      "name": "python",
      "nbconvert_exporter": "python",
      "pygments_lexer": "ipython3",
      "version": "3.10.12"
    }
  },
  "nbformat": 4,
  "nbformat_minor": 0
}