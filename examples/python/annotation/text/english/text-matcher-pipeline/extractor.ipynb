{
  "cells": [
    {
      "cell_type": "markdown",
      "metadata": {
        "id": "tYF_5Dmcx1vE"
      },
      "source": [
        "![JohnSnowLabs](https://nlp.johnsnowlabs.com/assets/images/logo.png)\n",
        "\n",
        "[![Open In Colab](https://colab.research.google.com/assets/colab-badge.svg)](https://colab.research.google.com/github/JohnSnowLabs/spark-nlp-workshop/blob/master/jupyter/annotation/english/text-matcher-pipeline/extractor.ipynb)\n",
        "\n",
        "## 0. Colab Setup"
      ]
    },
    {
      "cell_type": "code",
      "execution_count": 1,
      "metadata": {
        "colab": {
          "base_uri": "https://localhost:8080/"
        },
        "id": "Ki5VC3Cvx7Aj",
        "outputId": "81d75603-e597-4577-c93c-c971076e8f0d"
      },
      "outputs": [
        {
          "output_type": "stream",
          "name": "stdout",
          "text": [
            "--2022-12-23 14:46:26--  http://setup.johnsnowlabs.com/colab.sh\n",
            "Resolving setup.johnsnowlabs.com (setup.johnsnowlabs.com)... 51.158.130.125\n",
            "Connecting to setup.johnsnowlabs.com (setup.johnsnowlabs.com)|51.158.130.125|:80... connected.\n",
            "HTTP request sent, awaiting response... 302 Found\n",
            "Location: https://setup.johnsnowlabs.com/colab.sh [following]\n",
            "--2022-12-23 14:46:26--  https://setup.johnsnowlabs.com/colab.sh\n",
            "Connecting to setup.johnsnowlabs.com (setup.johnsnowlabs.com)|51.158.130.125|:443... connected.\n",
            "HTTP request sent, awaiting response... 302 Moved Temporarily\n",
            "Location: https://raw.githubusercontent.com/JohnSnowLabs/spark-nlp/master/scripts/colab_setup.sh [following]\n",
            "--2022-12-23 14:46:26--  https://raw.githubusercontent.com/JohnSnowLabs/spark-nlp/master/scripts/colab_setup.sh\n",
            "Resolving raw.githubusercontent.com (raw.githubusercontent.com)... 185.199.108.133, 185.199.109.133, 185.199.110.133, ...\n",
            "Connecting to raw.githubusercontent.com (raw.githubusercontent.com)|185.199.108.133|:443... connected.\n",
            "HTTP request sent, awaiting response... 200 OK\n",
            "Length: 1191 (1.2K) [text/plain]\n",
            "Saving to: ‘STDOUT’\n",
            "\n",
            "-                     0%[                    ]       0  --.-KB/s               Installing PySpark 3.2.3 and Spark NLP 4.2.6\n",
            "setup Colab for PySpark 3.2.3 and Spark NLP 4.2.6\n",
            "-                   100%[===================>]   1.16K  --.-KB/s    in 0s      \n",
            "\n",
            "2022-12-23 14:46:26 (37.1 MB/s) - written to stdout [1191/1191]\n",
            "\n",
            "\u001b[K     |████████████████████████████████| 281.5 MB 45 kB/s \n",
            "\u001b[K     |████████████████████████████████| 453 kB 49.7 MB/s \n",
            "\u001b[K     |████████████████████████████████| 199 kB 35.5 MB/s \n",
            "\u001b[?25h  Building wheel for pyspark (setup.py) ... \u001b[?25l\u001b[?25hdone\n"
          ]
        }
      ],
      "source": [
        "# This is only to setup PySpark and Spark NLP on Colab\n",
        "!wget http://setup.johnsnowlabs.com/colab.sh -O - | bash"
      ]
    },
    {
      "cell_type": "markdown",
      "metadata": {
        "id": "5wDMa90xx1vF"
      },
      "source": [
        "## Simple Text Matching\n",
        "\n",
        "In the following example, we walk-through our straight forward Text Matcher Annotator.\n",
        "\n",
        "This annotator will take a list of sentences from a text file and look them up in the given target dataset.\n",
        "\n",
        "This annotator is an Annotator Model and hence does not require training. "
      ]
    },
    {
      "cell_type": "markdown",
      "metadata": {
        "id": "6NjQrLZux1vH"
      },
      "source": [
        "#### 1. Call necessary imports and set the resource path to read local data files"
      ]
    },
    {
      "cell_type": "code",
      "execution_count": 2,
      "metadata": {
        "colab": {
          "base_uri": "https://localhost:8080/"
        },
        "id": "Lx0KPGX1x1vI",
        "outputId": "aafdf19b-65cd-4031-dc40-f19bb8b0b129"
      },
      "outputs": [
        {
          "output_type": "stream",
          "name": "stdout",
          "text": [
            "--2022-12-23 14:47:22--  https://github.com/JohnSnowLabs/spark-nlp-workshop/blob/master/jupyter/annotation/english/text-matcher-pipeline/entities.txt\n",
            "Resolving github.com (github.com)... 140.82.113.4\n",
            "Connecting to github.com (github.com)|140.82.113.4|:443... connected.\n",
            "HTTP request sent, awaiting response... 200 OK\n",
            "Length: unspecified [text/html]\n",
            "Saving to: ‘entities.txt’\n",
            "\n",
            "entities.txt            [ <=>                ] 149.13K  --.-KB/s    in 0.04s   \n",
            "\n",
            "Last-modified header missing -- time-stamps turned off.\n",
            "2022-12-23 14:47:22 (3.83 MB/s) - ‘entities.txt’ saved [152712]\n",
            "\n"
          ]
        }
      ],
      "source": [
        "import os\n",
        "import sys\n",
        "\n",
        "from pyspark.sql import SparkSession\n",
        "from pyspark.ml import Pipeline\n",
        "import time\n",
        "\n",
        "import sparknlp\n",
        "from sparknlp.annotator import *\n",
        "from sparknlp.common import *\n",
        "from sparknlp.base import *\n",
        "\n",
        "! wget -N https://github.com/JohnSnowLabs/spark-nlp-workshop/blob/master/jupyter/annotation/english/text-matcher-pipeline/entities.txt "
      ]
    },
    {
      "cell_type": "code",
      "execution_count": 3,
      "metadata": {
        "colab": {
          "base_uri": "https://localhost:8080/"
        },
        "id": "rmMkmM_1x1vP",
        "outputId": "0a9f0c42-4438-4f15-f890-a84c9b1242cb"
      },
      "outputs": [
        {
          "output_type": "stream",
          "name": "stdout",
          "text": [
            "Spark NLP version:  4.2.6\n",
            "Apache Spark version:  3.2.3\n"
          ]
        }
      ],
      "source": [
        "spark = sparknlp.start()\n",
        "\n",
        "print(\"Spark NLP version: \", sparknlp.version())\n",
        "print(\"Apache Spark version: \", spark.version)\n"
      ]
    },
    {
      "cell_type": "markdown",
      "metadata": {
        "id": "P-vYbBJlx1vU"
      },
      "source": [
        "#### 3. Create appropriate annotators. We are using Sentence Detection and Tokenizing the sentence. The Finisher will clean the annotations and exclude the metadata."
      ]
    },
    {
      "cell_type": "code",
      "execution_count": 4,
      "metadata": {
        "id": "9gcfIPUbx1vV"
      },
      "outputs": [],
      "source": [
        "documentAssembler = DocumentAssembler()\\\n",
        "  .setInputCol(\"text\")\\\n",
        "  .setOutputCol(\"document\")\n",
        "\n",
        "sentenceDetector = SentenceDetector()\\\n",
        "  .setInputCols([\"document\"])\\\n",
        "  .setOutputCol(\"sentence\")\n",
        "\n",
        "tokenizer = Tokenizer()\\\n",
        "  .setInputCols([\"document\"])\\\n",
        "  .setOutputCol(\"token\")\n",
        "\n",
        "extractor = TextMatcher()\\\n",
        "  .setEntities(\"entities.txt\")\\\n",
        "  .setInputCols([\"token\", \"sentence\"])\\\n",
        "  .setOutputCol(\"entites\")\n",
        "\n",
        "finisher = Finisher() \\\n",
        "    .setInputCols([\"entites\"]) \\\n",
        "    .setIncludeMetadata(False) \\\n",
        "    .setCleanAnnotations(True)\n",
        "\n",
        "pipeline = Pipeline(\n",
        "    stages = [\n",
        "    documentAssembler,\n",
        "    sentenceDetector,\n",
        "    tokenizer,\n",
        "    extractor,\n",
        "    finisher\n",
        "  ])\n"
      ]
    },
    {
      "cell_type": "markdown",
      "metadata": {
        "id": "O3tM-gQgx1vb"
      },
      "source": [
        "#### 4. Load the input data to be annotated"
      ]
    },
    {
      "cell_type": "code",
      "execution_count": 9,
      "metadata": {
        "colab": {
          "base_uri": "https://localhost:8080/"
        },
        "id": "380SHnKjx1vb",
        "outputId": "b8147bec-633d-4931-9431-00ac204db772"
      },
      "outputs": [
        {
          "output_type": "stream",
          "name": "stdout",
          "text": [
            "rm: cannot remove '/tmp/sentiment.parquet.zip': No such file or directory\n",
            "--2022-12-23 14:53:58--  https://s3.amazonaws.com/auxdata.johnsnowlabs.com/public/resources/en/sentiment.parquet.zip\n",
            "Resolving s3.amazonaws.com (s3.amazonaws.com)... 52.216.134.229, 52.216.37.120, 52.216.226.235, ...\n",
            "Connecting to s3.amazonaws.com (s3.amazonaws.com)|52.216.134.229|:443... connected.\n",
            "HTTP request sent, awaiting response... 304 Not Modified\n",
            "File ‘sentiment.parquet.zip’ not modified on server. Omitting download.\n",
            "\n",
            "Archive:  sentiment.parquet.zip\n",
            "   creating: sentiment.parquet/\n",
            "  inflating: sentiment.parquet/.part-00002-08092d15-dd8c-40f9-a1df-641a1a4b1698.snappy.parquet.crc  \n",
            "  inflating: sentiment.parquet/part-00002-08092d15-dd8c-40f9-a1df-641a1a4b1698.snappy.parquet  \n",
            "  inflating: sentiment.parquet/part-00003-08092d15-dd8c-40f9-a1df-641a1a4b1698.snappy.parquet  \n",
            "  inflating: sentiment.parquet/.part-00000-08092d15-dd8c-40f9-a1df-641a1a4b1698.snappy.parquet.crc  \n",
            "  inflating: sentiment.parquet/part-00001-08092d15-dd8c-40f9-a1df-641a1a4b1698.snappy.parquet  \n",
            " extracting: sentiment.parquet/_SUCCESS  \n",
            "  inflating: sentiment.parquet/.part-00003-08092d15-dd8c-40f9-a1df-641a1a4b1698.snappy.parquet.crc  \n",
            "  inflating: sentiment.parquet/part-00000-08092d15-dd8c-40f9-a1df-641a1a4b1698.snappy.parquet  \n",
            "  inflating: sentiment.parquet/.part-00001-08092d15-dd8c-40f9-a1df-641a1a4b1698.snappy.parquet.crc  \n"
          ]
        }
      ],
      "source": [
        "! rm /tmp/sentiment.parquet.zip\n",
        "! wget -N https://s3.amazonaws.com/auxdata.johnsnowlabs.com/public/resources/en/sentiment.parquet.zip \n",
        "! unzip sentiment.parquet.zip "
      ]
    },
    {
      "cell_type": "code",
      "execution_count": 11,
      "metadata": {
        "colab": {
          "base_uri": "https://localhost:8080/"
        },
        "id": "O4gu_eMYx1vg",
        "outputId": "a33fbdc5-caef-4a13-b345-13eb0538b068"
      },
      "outputs": [
        {
          "output_type": "stream",
          "name": "stdout",
          "text": [
            "+------+---------+--------------------+\n",
            "|itemid|sentiment|                text|\n",
            "+------+---------+--------------------+\n",
            "|     1|        0|                 ...|\n",
            "|     2|        0|                 ...|\n",
            "|     3|        1|              omg...|\n",
            "|     4|        0|          .. Omga...|\n",
            "|     5|        0|         i think ...|\n",
            "|     6|        0|         or i jus...|\n",
            "|     7|        1|       Juuuuuuuuu...|\n",
            "|     8|        0|       Sunny Agai...|\n",
            "|     9|        1|      handed in m...|\n",
            "|    10|        1|      hmmmm.... i...|\n",
            "|    11|        0|      I must thin...|\n",
            "|    12|        1|      thanks to a...|\n",
            "|    13|        0|      this weeken...|\n",
            "|    14|        0|     jb isnt show...|\n",
            "|    15|        0|     ok thats it ...|\n",
            "|    16|        0|    &lt;-------- ...|\n",
            "|    17|        0|    awhhe man.......|\n",
            "|    18|        1|    Feeling stran...|\n",
            "|    19|        0|    HUGE roll of ...|\n",
            "|    20|        0|    I just cut my...|\n",
            "+------+---------+--------------------+\n",
            "only showing top 20 rows\n",
            "\n"
          ]
        }
      ],
      "source": [
        "data = spark. \\\n",
        "        read. \\\n",
        "        parquet(\"/content/sentiment.parquet\"). \\\n",
        "        limit(1000).cache()\n",
        "data.show(20)"
      ]
    },
    {
      "cell_type": "markdown",
      "metadata": {
        "id": "VZeXrk3Yx1vj"
      },
      "source": [
        "#### 5. Running the fit for sentence detection and tokenization."
      ]
    },
    {
      "cell_type": "code",
      "execution_count": 12,
      "metadata": {
        "colab": {
          "base_uri": "https://localhost:8080/"
        },
        "id": "BHqv0yWGx1vk",
        "outputId": "93873fcb-409c-4d41-c972-4049ec12d267"
      },
      "outputs": [
        {
          "output_type": "stream",
          "name": "stdout",
          "text": [
            "Start fitting\n",
            "Fitting is ended\n"
          ]
        }
      ],
      "source": [
        "print(\"Start fitting\")\n",
        "model = pipeline.fit(data)\n",
        "print(\"Fitting is ended\")"
      ]
    },
    {
      "cell_type": "markdown",
      "metadata": {
        "id": "BSUwZM4ux1vp"
      },
      "source": [
        "#### 6. Runing the transform on data to do text matching. It will append a new coloumns with matched entities."
      ]
    },
    {
      "cell_type": "code",
      "execution_count": 13,
      "metadata": {
        "colab": {
          "base_uri": "https://localhost:8080/"
        },
        "id": "CgkYE0V_x1vq",
        "outputId": "eacd08cf-2a74-4fea-df05-be832cbba501"
      },
      "outputs": [
        {
          "output_type": "stream",
          "name": "stdout",
          "text": [
            "+------+---------+--------------------+----------------+\n",
            "|itemid|sentiment|                text|finished_entites|\n",
            "+------+---------+--------------------+----------------+\n",
            "|     1|        0|                 ...|              []|\n",
            "|     2|        0|                 ...|              []|\n",
            "|     3|        1|              omg...|              []|\n",
            "|     4|        0|          .. Omga...|              []|\n",
            "|     5|        0|         i think ...|              []|\n",
            "|     6|        0|         or i jus...|              []|\n",
            "|     7|        1|       Juuuuuuuuu...|              []|\n",
            "|     8|        0|       Sunny Agai...|              []|\n",
            "|     9|        1|      handed in m...|              []|\n",
            "|    10|        1|      hmmmm.... i...|              []|\n",
            "|    11|        0|      I must thin...|              []|\n",
            "|    12|        1|      thanks to a...|              []|\n",
            "|    13|        0|      this weeken...|              []|\n",
            "|    14|        0|     jb isnt show...|              []|\n",
            "|    15|        0|     ok thats it ...|              []|\n",
            "|    16|        0|    &lt;-------- ...|              []|\n",
            "|    17|        0|    awhhe man.......|              []|\n",
            "|    18|        1|    Feeling stran...|              []|\n",
            "|    19|        0|    HUGE roll of ...|              []|\n",
            "|    20|        0|    I just cut my...|              []|\n",
            "+------+---------+--------------------+----------------+\n",
            "only showing top 20 rows\n",
            "\n",
            "+------+---------+----+----------------+\n",
            "|itemid|sentiment|text|finished_entites|\n",
            "+------+---------+----+----------------+\n",
            "+------+---------+----+----------------+\n",
            "\n"
          ]
        }
      ],
      "source": [
        "extracted = model.transform(data)\n",
        "extracted.show()\n",
        "\n",
        "# filter rows with extracted text\n",
        "extracted\\\n",
        ".filter(\"size(finished_entites) != 0\") \\\n",
        ".show()"
      ]
    },
    {
      "cell_type": "markdown",
      "metadata": {
        "id": "hs52YfLwx1vv"
      },
      "source": [
        "#### 7. The model could be saved locally and reloaded to run again"
      ]
    },
    {
      "cell_type": "code",
      "execution_count": 14,
      "metadata": {
        "id": "5_g760_Fx1vw"
      },
      "outputs": [],
      "source": [
        "\n",
        "model.write().overwrite().save(\"./extractor_model\")"
      ]
    },
    {
      "cell_type": "code",
      "execution_count": 15,
      "metadata": {
        "colab": {
          "base_uri": "https://localhost:8080/"
        },
        "id": "hAPuXvl9x1v1",
        "outputId": "cee8b6c7-06f0-45d6-d311-9b4dc558f372"
      },
      "outputs": [
        {
          "output_type": "stream",
          "name": "stdout",
          "text": [
            "+------+---------+----+----------------+\n",
            "|itemid|sentiment|text|finished_entites|\n",
            "+------+---------+----+----------------+\n",
            "+------+---------+----+----------------+\n",
            "\n"
          ]
        }
      ],
      "source": [
        "from pyspark.ml import  Pipeline\n",
        "\n",
        "sameModel = PipelineModel.read().load(\"./extractor_model\")\n",
        "\n",
        "sameModel.transform(data) \\\n",
        ".filter(\"size(finished_entites) != 0\") \\\n",
        ".show()"
      ]
    },
    {
      "cell_type": "code",
      "execution_count": 15,
      "metadata": {
        "id": "05lj_hTdx1v7"
      },
      "outputs": [],
      "source": []
    }
  ],
  "metadata": {
    "anaconda-cloud": {},
    "colab": {
      "name": "extractor.ipynb",
      "provenance": []
    },
    "kernelspec": {
      "display_name": "Python 3",
      "language": "python",
      "name": "python3"
    },
    "language_info": {
      "codemirror_mode": {
        "name": "ipython",
        "version": 3
      },
      "file_extension": ".py",
      "mimetype": "text/x-python",
      "name": "python",
      "nbconvert_exporter": "python",
      "pygments_lexer": "ipython3",
      "version": "3.6.9"
    }
  },
  "nbformat": 4,
  "nbformat_minor": 0
}