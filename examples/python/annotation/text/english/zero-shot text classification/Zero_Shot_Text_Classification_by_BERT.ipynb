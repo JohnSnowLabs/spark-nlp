{
 "cells": [
  {
   "cell_type": "markdown",
   "metadata": {},
   "source": [
    "![JohnSnowLabs](https://sparknlp.org/assets/images/logo.png)\n",
    "\n",
    "[![Open In Colab](https://colab.research.google.com/assets/colab-badge.svg)](https://colab.research.google.com/github/JohnSnowLabs/spark-nlp/blob/master/examples/python/annotation/text/english/zero-shot%20text%20classification/Zero_Shot_Text_Classification_by_BERT.ipynb)"
   ]
  },
  {
   "cell_type": "markdown",
   "metadata": {
    "id": "hQEd60qjN_0t"
   },
   "source": [
    "# Zero-Shot Learning in Modern NLP\n",
    "### State-of-the-art NLP models for text classification without annotated data\n",
    "\n",
    ">Natural language processing is a very exciting field right now. In recent years, the community has begun to figure out some pretty effective methods of learning from the enormous amounts of unlabeled data available on the internet. The success of transfer learning from unsupervised models has allowed us to surpass virtually all existing benchmarks on downstream supervised learning tasks. As we continue to develop new model architectures and unsupervised learning objectives, \"state of the art\" continues to be a rapidly moving target for many tasks where large amounts of labeled data are available.\n",
    "\n"
   ]
  },
  {
   "cell_type": "code",
   "execution_count": null,
   "metadata": {
    "id": "z5EXpkAOFRu9"
   },
   "outputs": [],
   "source": [
    "# This is only to setup PySpark and Spark NLP on Colab\n",
    "!wget https://setup.johnsnowlabs.com/colab.sh -O - | bash"
   ]
  },
  {
   "cell_type": "code",
   "execution_count": null,
   "metadata": {
    "id": "5fyaA76PFZA6"
   },
   "outputs": [],
   "source": [
    "import sparknlp\n",
    "spark = sparknlp.start()"
   ]
  },
  {
   "cell_type": "code",
   "execution_count": 3,
   "metadata": {
    "colab": {
     "base_uri": "https://localhost:8080/"
    },
    "id": "_N2AoLRkFYdZ",
    "outputId": "f1a1e08f-d20d-4efa-e8d4-f38914ab9c69"
   },
   "outputs": [
    {
     "name": "stdout",
     "output_type": "stream",
     "text": [
      "bert_base_cased_zero_shot_classifier_xnli download started this may take some time.\n",
      "Approximate size to download 387.7 MB\n",
      "[OK!]\n"
     ]
    }
   ],
   "source": [
    "from sparknlp.base import *\n",
    "from sparknlp.annotator import *\n",
    "from pyspark.ml import Pipeline, PipelineModel\n",
    "\n",
    "document_assembler = DocumentAssembler() \\\n",
    "    .setInputCol(\"text\") \\\n",
    "    .setOutputCol(\"document\")\n",
    "\n",
    "tokenizer = Tokenizer().setInputCols(\"document\").setOutputCol(\"token\")\n",
    "\n",
    "zero_shot_classifier = BertForZeroShotClassification \\\n",
    "    .pretrained() \\\n",
    "    .setInputCols([\"document\", \"token\"]) \\\n",
    "    .setOutputCol(\"class\") \\\n",
    "    .setCandidateLabels([\"urgent\", \"mobile\", \"travel\", \"movie\", \"music\", \"sport\", \"weather\", \"technology\"])\n",
    "\n",
    "pipeline = Pipeline(stages=[\n",
    "    document_assembler,\n",
    "    tokenizer,\n",
    "    zero_shot_classifier\n",
    "])"
   ]
  },
  {
   "cell_type": "code",
   "execution_count": 4,
   "metadata": {
    "id": "5LKrJRuFNQNs"
   },
   "outputs": [],
   "source": [
    "text = [[\"I have a problem with my iphone that needs to be resolved asap!!\"],\n",
    "        [\"Last week I upgraded my iOS version and ever since then my phone has been overheating whenever I use your app.\"],\n",
    "        [\"I have a phone and I love it!\"],\n",
    "        [\"I really want to visit Germany and I am planning to go there next year.\"],\n",
    "        [\"Let's watch some movies tonight! I am in the mood for a horror movie.\"],\n",
    "        [\"Have you watched the match yesterday? It was a great game!\"],\n",
    "        [\"We need to harry up and get to the airport. We are going to miss our flight!\"]]\n",
    "\n",
    "# create a DataFrame in PySpark\n",
    "inputDataset = spark.createDataFrame(text, [\"text\"])\n",
    "model = pipeline.fit(inputDataset)\n",
    "predictionDF = model.transform(inputDataset)"
   ]
  },
  {
   "cell_type": "code",
   "execution_count": 5,
   "metadata": {
    "colab": {
     "base_uri": "https://localhost:8080/"
    },
    "id": "BCIiOgJtN83v",
    "outputId": "319bc31a-384f-4793-80b3-8e8aa08e159e"
   },
   "outputs": [
    {
     "name": "stdout",
     "output_type": "stream",
     "text": [
      "+----------------------------------------------------------------------------------------------------------------+--------+\n",
      "|result                                                                                                          |result  |\n",
      "+----------------------------------------------------------------------------------------------------------------+--------+\n",
      "|[I have a problem with my iphone that needs to be resolved asap!!]                                              |[mobile]|\n",
      "|[Last week I upgraded my iOS version and ever since then my phone has been overheating whenever I use your app.]|[mobile]|\n",
      "|[I have a phone and I love it!]                                                                                 |[mobile]|\n",
      "|[I really want to visit Germany and I am planning to go there next year.]                                       |[travel]|\n",
      "|[Let's watch some movies tonight! I am in the mood for a horror movie.]                                         |[movie] |\n",
      "|[Have you watched the match yesterday? It was a great game!]                                                    |[sport] |\n",
      "|[We need to harry up and get to the airport. We are going to miss our flight!]                                  |[urgent]|\n",
      "+----------------------------------------------------------------------------------------------------------------+--------+\n",
      "\n"
     ]
    }
   ],
   "source": [
    "predictionDF.select(\"document.result\", \"class.result\").show(10, False)"
   ]
  },
  {
   "cell_type": "code",
   "execution_count": 6,
   "metadata": {
    "colab": {
     "base_uri": "https://localhost:8080/"
    },
    "id": "MaRW4KPGNkjc",
    "outputId": "49c0e99b-da4f-42e2-ba98-960bcdc22cdd"
   },
   "outputs": [
    {
     "data": {
      "text/plain": [
       "{'document': ['Last week I upgraded my iOS version and ever since then my phone has been overheating whenever I use your app.'],\n",
       " 'token': ['Last',\n",
       "  'week',\n",
       "  'I',\n",
       "  'upgraded',\n",
       "  'my',\n",
       "  'iOS',\n",
       "  'version',\n",
       "  'and',\n",
       "  'ever',\n",
       "  'since',\n",
       "  'then',\n",
       "  'my',\n",
       "  'phone',\n",
       "  'has',\n",
       "  'been',\n",
       "  'overheating',\n",
       "  'whenever',\n",
       "  'I',\n",
       "  'use',\n",
       "  'your',\n",
       "  'app',\n",
       "  '.'],\n",
       " 'class': ['mobile']}"
      ]
     },
     "execution_count": 6,
     "metadata": {},
     "output_type": "execute_result"
    }
   ],
   "source": [
    "sample_text = \"Last week I upgraded my iOS version and ever since then my phone has been overheating whenever I use your app.\"\n",
    "\n",
    "light_pipeline = LightPipeline(model)\n",
    "\n",
    "results = light_pipeline.annotate(sample_text)\n",
    "results\n"
   ]
  },
  {
   "cell_type": "code",
   "execution_count": 7,
   "metadata": {
    "colab": {
     "base_uri": "https://localhost:8080/"
    },
    "id": "Vbg44saZRtnw",
    "outputId": "6d16b175-6014-45a3-b7cb-311b840deb72"
   },
   "outputs": [
    {
     "name": "stdout",
     "output_type": "stream",
     "text": [
      "document: ['I have a problem with my iphone that needs to be resolved asap!!'] prediction: ['mobile']\n",
      "document: ['Last week I upgraded my iOS version and ever since then my phone has been overheating whenever I use your app.'] prediction: ['mobile']\n",
      "document: ['I have a phone and I love it!'] prediction: ['mobile']\n",
      "document: ['I really want to visit Germany and I am planning to go there next year.'] prediction: ['travel']\n",
      "document: [\"Let's watch some movies tonight! I am in the mood for a horror movie.\"] prediction: ['movie']\n",
      "document: ['Have you watched the match yesterday? It was a great game!'] prediction: ['sport']\n",
      "document: ['We need to harry up and get to the airport. We are going to miss our flight!'] prediction: ['urgent']\n"
     ]
    }
   ],
   "source": [
    "for tx in text:\n",
    "  res = light_pipeline.annotate(tx[0])\n",
    "  print(f\"document: {res['document']} prediction: {res['class']}\")\n"
   ]
  },
  {
   "cell_type": "markdown",
   "metadata": {
    "id": "RfQrLMxATYyY"
   },
   "source": [
    "## Multi Label vs. Multi Class\n",
    "\n",
    "We can use `activation` parameter to set whether or not the result should be multi-class (the sum of all probabilities is `1.0`) or multi-label (each label has a probability between `0.0` to `1.0`)\n",
    "\n",
    "- multi-class: `softmax` (default)\n",
    "- multi-label: `sigmoid`"
   ]
  },
  {
   "cell_type": "markdown",
   "metadata": {},
   "source": [
    "Since spark-nlp 4.4.3 we added `multilabel` parameter to set whether or not the result should be multi-label\n",
    "\n",
    "- multilabel: `False` (default) i.e. `softmax` activation\n",
    "- multilabel: `True` i.e. `sigmoid` activation\n",
    "\n",
    "Note: `activation` parameter is still available for backward compatibility"
   ]
  },
  {
   "cell_type": "code",
   "execution_count": 15,
   "metadata": {
    "id": "zHB6w1-dTaQC"
   },
   "outputs": [],
   "source": [
    "zero_shot_classifier\\\n",
    "    .setCandidateLabels([\"urgent\", \"mobile\", \"travel\", \"movie\", \"music\", \"sport\", \"weather\", \"technology\"])\\\n",
    "    .setMultilabel(True)\n",
    "\n",
    "pipeline = Pipeline(stages=[\n",
    "    document_assembler,\n",
    "    tokenizer,\n",
    "    zero_shot_classifier\n",
    "])"
   ]
  },
  {
   "cell_type": "code",
   "execution_count": 16,
   "metadata": {
    "id": "F0QgxciuUG4V"
   },
   "outputs": [],
   "source": [
    "text = [[\"I have a problem with my iphone that needs to be resolved asap!!\"],\n",
    "        [\"Last week I upgraded my iOS version and ever since then my phone has been overheating whenever I use your app.\"],\n",
    "        [\"I have a phone and I love it!\"],\n",
    "        [\"I really want to visit Germany and I am planning to go there next year.\"],\n",
    "        [\"Let's watch some movies tonight! I am in the mood for a horror movie.\"],\n",
    "        [\"Have you watched the match yesterday? It was a great game!\"],\n",
    "        [\"We need to harry up and get to the airport. We are going to miss our flight!\"]]\n",
    "\n",
    "# create a DataFrame in PySpark\n",
    "inputDataset = spark.createDataFrame(text, [\"text\"])\n",
    "model = pipeline.fit(inputDataset)\n",
    "predictionDF = model.transform(inputDataset)"
   ]
  },
  {
   "cell_type": "code",
   "execution_count": 17,
   "metadata": {
    "colab": {
     "base_uri": "https://localhost:8080/"
    },
    "id": "VkvAGrbAUJQn",
    "outputId": "902a43eb-8c3e-4d63-9273-455460a7e6a4"
   },
   "outputs": [
    {
     "name": "stdout",
     "output_type": "stream",
     "text": [
      "+----------------------------------------------------------------------------------------------------------------+-----------------------------------+\n",
      "|result                                                                                                          |result                             |\n",
      "+----------------------------------------------------------------------------------------------------------------+-----------------------------------+\n",
      "|[I have a problem with my iphone that needs to be resolved asap!!]                                              |[urgent, mobile, movie, technology]|\n",
      "|[Last week I upgraded my iOS version and ever since then my phone has been overheating whenever I use your app.]|[urgent, technology]               |\n",
      "|[I have a phone and I love it!]                                                                                 |[mobile]                           |\n",
      "|[I really want to visit Germany and I am planning to go there next year.]                                       |[travel]                           |\n",
      "|[Let's watch some movies tonight! I am in the mood for a horror movie.]                                         |[movie]                            |\n",
      "|[Have you watched the match yesterday? It was a great game!]                                                    |[sport]                            |\n",
      "|[We need to harry up and get to the airport. We are going to miss our flight!]                                  |[urgent, travel]                   |\n",
      "+----------------------------------------------------------------------------------------------------------------+-----------------------------------+\n",
      "\n"
     ]
    }
   ],
   "source": [
    "predictionDF.select(\"document.result\", \"class.result\").show(10, False)"
   ]
  },
  {
   "cell_type": "code",
   "execution_count": 18,
   "metadata": {
    "colab": {
     "base_uri": "https://localhost:8080/"
    },
    "id": "DAcVGaBVUJ4a",
    "outputId": "7ffe547b-df85-478f-b214-5e8dde8d5527"
   },
   "outputs": [
    {
     "name": "stdout",
     "output_type": "stream",
     "text": [
      "+--------------------------------------------------------------------------------------------------------------------------------------------------------------------------------------------------------------------------------------------------------------------------------------------------------------------------------------------------------------------------------------------------------------------------------------------------------------------------------------------------------------------------------------------------------------------------------------------------------------------------------------------------------------------------------------------------------------------------------------------------------------------------------------------------------+\n",
      "|metadata                                                                                                                                                                                                                                                                                                                                                                                                                                                                                                                                                                                                                                                                                                                                                                                                |\n",
      "+--------------------------------------------------------------------------------------------------------------------------------------------------------------------------------------------------------------------------------------------------------------------------------------------------------------------------------------------------------------------------------------------------------------------------------------------------------------------------------------------------------------------------------------------------------------------------------------------------------------------------------------------------------------------------------------------------------------------------------------------------------------------------------------------------------+\n",
      "|[{urgent -> 0.94203824, music -> 0.273361, movie -> 0.8155173, technology -> 0.9432713, travel -> 0.19155306, sport -> 7.5020565E-4, weather -> 0.012860995, mobile -> 0.81718224, sentence -> 0}, {urgent -> 0.94203824, music -> 0.273361, movie -> 0.8155173, technology -> 0.9432713, travel -> 0.19155306, sport -> 7.5020565E-4, weather -> 0.012860995, mobile -> 0.81718224, sentence -> 0}, {urgent -> 0.94203824, music -> 0.273361, movie -> 0.8155173, technology -> 0.9432713, travel -> 0.19155306, sport -> 7.5020565E-4, weather -> 0.012860995, mobile -> 0.81718224, sentence -> 0}, {urgent -> 0.94203824, music -> 0.273361, movie -> 0.8155173, technology -> 0.9432713, travel -> 0.19155306, sport -> 7.5020565E-4, weather -> 0.012860995, mobile -> 0.81718224, sentence -> 0}]|\n",
      "|[{urgent -> 0.5989145, music -> 0.009265149, movie -> 0.004853843, technology -> 0.83162993, travel -> 0.2232338, sport -> 0.0011306163, weather -> 0.0057875705, mobile -> 0.39459854, sentence -> 0}, {urgent -> 0.5989145, music -> 0.009265149, movie -> 0.004853843, technology -> 0.83162993, travel -> 0.2232338, sport -> 0.0011306163, weather -> 0.0057875705, mobile -> 0.39459854, sentence -> 0}]                                                                                                                                                                                                                                                                                                                                                                                          |\n",
      "|[{urgent -> 0.0024619207, music -> 0.030493928, movie -> 0.10384921, technology -> 0.01819679, travel -> 0.025316363, sport -> 5.448147E-4, weather -> 5.9901236E-4, mobile -> 0.822738, sentence -> 0}]                                                                                                                                                                                                                                                                                                                                                                                                                                                                                                                                                                                                |\n",
      "|[{urgent -> 0.0074373055, music -> 0.06391685, movie -> 0.009793872, technology -> 0.08052815, travel -> 0.95946944, sport -> 0.0033297893, weather -> 0.11855726, mobile -> 0.011235076, sentence -> 0}]                                                                                                                                                                                                                                                                                                                                                                                                                                                                                                                                                                                               |\n",
      "|[{urgent -> 0.0032734834, music -> 0.00897034, movie -> 0.7762647, technology -> 2.2468095E-4, travel -> 0.0016853365, sport -> 5.059199E-4, weather -> 7.164882E-4, mobile -> 0.0029863138, sentence -> 0}]                                                                                                                                                                                                                                                                                                                                                                                                                                                                                                                                                                                            |\n",
      "|[{urgent -> 6.5108406E-4, music -> 0.0819624, movie -> 0.07504165, technology -> 0.0013726762, travel -> 0.0011811191, sport -> 0.9228904, weather -> 0.003503337, mobile -> 0.0048036124, sentence -> 0}]                                                                                                                                                                                                                                                                                                                                                                                                                                                                                                                                                                                              |\n",
      "|[{urgent -> 0.9887839, music -> 0.13705872, movie -> 0.3061645, technology -> 0.008889678, travel -> 0.8829653, sport -> 0.0101994965, weather -> 0.105074614, mobile -> 0.011163117, sentence -> 0}, {urgent -> 0.9887839, music -> 0.13705872, movie -> 0.3061645, technology -> 0.008889678, travel -> 0.8829653, sport -> 0.0101994965, weather -> 0.105074614, mobile -> 0.011163117, sentence -> 0}]                                                                                                                                                                                                                                                                                                                                                                                              |\n",
      "+--------------------------------------------------------------------------------------------------------------------------------------------------------------------------------------------------------------------------------------------------------------------------------------------------------------------------------------------------------------------------------------------------------------------------------------------------------------------------------------------------------------------------------------------------------------------------------------------------------------------------------------------------------------------------------------------------------------------------------------------------------------------------------------------------------+\n",
      "\n"
     ]
    }
   ],
   "source": [
    "# check the scores\n",
    "predictionDF.select(\"class.metadata\").show(10, False)"
   ]
  },
  {
   "cell_type": "markdown",
   "metadata": {
    "id": "ICDQOrwPOeu4"
   },
   "source": [
    "### Zero-Shot Learning (ZSL)\n",
    "> Traditionally, zero-shot learning (ZSL) most often referred to a fairly specific type of task: learn a classifier on one set of labels and then evaluate on a different set of labels that the classifier has never seen before. Recently, especially in NLP, it's been used much more broadly to mean get a model to do something that it wasn't explicitly trained to do. A well-known example of this is in the [GPT-2 paper](https://pdfs.semanticscholar.org/9405/cc0d6169988371b2755e573cc28650d14dfe.pdf) where the authors evaluate a language model on downstream tasks like machine translation without fine-tuning on these tasks directly.\n",
    "\n",
    "Let's see how easy it is to just use any set of lables our trained model has never seen via `setCandidateLabels()` param:"
   ]
  },
  {
   "cell_type": "code",
   "execution_count": 27,
   "metadata": {
    "colab": {
     "base_uri": "https://localhost:8080/"
    },
    "id": "JnVfw4T9PWyb",
    "outputId": "ee01e459-2a07-4adb-8cf0-625465d4d4c7"
   },
   "outputs": [
    {
     "name": "stdout",
     "output_type": "stream",
     "text": [
      "+---------------------------------------------------------------------------------------------------------------------------------------------------+--------------------------------------+\n",
      "|result                                                                                                                                             |result                                |\n",
      "+---------------------------------------------------------------------------------------------------------------------------------------------------+--------------------------------------+\n",
      "|[Learn about the presidential election process, including the Electoral College, caucuses and primaries, and the national conventions.]            |[politics]                            |\n",
      "|[In a new book, Sean Carroll brings together physics and philosophy while advocating for \"poetic naturalism.\" Ramin Skibba, Contributor. Space ...]|[space & cosmos, scientific discovery]|\n",
      "|[Who are you voting for in 2024?]                                                                                                                  |[politics]                            |\n",
      "+---------------------------------------------------------------------------------------------------------------------------------------------------+--------------------------------------+\n",
      "\n"
     ]
    }
   ],
   "source": [
    "zero_shot_classifier\\\n",
    "    .setCandidateLabels([\"space & cosmos\", \"scientific discovery\", \"microbiology\", \"robots\", \"archeology\", \"politics\"])\\\n",
    "    .setActivation(\"sigmoid\") # multi-label\n",
    "\n",
    "pipeline = Pipeline(stages=[\n",
    "    document_assembler,\n",
    "    tokenizer,\n",
    "    zero_shot_classifier\n",
    "])\n",
    "\n",
    "input_text3 = [\n",
    "    [\"Learn about the presidential election process, including the Electoral College, caucuses and primaries, and the national conventions.\"],\n",
    "    [\"\"\"In a new book, Sean Carroll brings together physics and philosophy while advocating for \"poetic naturalism.\" Ramin Skibba, Contributor. Space ...\"\"\"],\n",
    "    [\"Who are you voting for in 2024?\"]]\n",
    "\n",
    "# create a DataFrame in PySpark\n",
    "inputDataset = spark.createDataFrame(input_text3, [\"text\"])\n",
    "model = pipeline.fit(inputDataset)\n",
    "predictionDF = model.transform(inputDataset)\n",
    "\n",
    "predictionDF.select(\"document.result\", \"class.result\").show(3, False)"
   ]
  },
  {
   "cell_type": "code",
   "execution_count": null,
   "metadata": {
    "id": "pJK49gj_RqOQ"
   },
   "outputs": [],
   "source": []
  }
 ],
 "metadata": {
  "colab": {
   "provenance": []
  },
  "kernelspec": {
   "display_name": "Python 3 (ipykernel)",
   "language": "python",
   "name": "python3"
  },
  "language_info": {
   "codemirror_mode": {
    "name": "ipython",
    "version": 3
   },
   "file_extension": ".py",
   "mimetype": "text/x-python",
   "name": "python",
   "nbconvert_exporter": "python",
   "pygments_lexer": "ipython3",
   "version": "3.10.6"
  }
 },
 "nbformat": 4,
 "nbformat_minor": 1
}
