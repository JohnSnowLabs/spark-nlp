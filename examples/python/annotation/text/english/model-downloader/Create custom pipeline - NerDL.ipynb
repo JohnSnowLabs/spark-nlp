{
 "cells": [
  {
   "cell_type": "markdown",
   "metadata": {
    "colab_type": "text",
    "id": "vRMXlUMptinm"
   },
   "source": [
    "![JohnSnowLabs](https://nlp.johnsnowlabs.com/assets/images/logo.png)\n",
    "\n",
    "[![Open In Colab](https://colab.research.google.com/assets/colab-badge.svg)](https://colab.research.google.com/github/JohnSnowLabs/spark-nlp-workshop/blob/master/jupyter/annotation/english/model-downloader/Create%20custom%20pipeline%20-%20NerDL.ipynb)\n",
    "\n",
    "## 0. Colab Setup"
   ]
  },
  {
   "cell_type": "code",
   "execution_count": null,
   "metadata": {
    "colab": {
     "base_uri": "https://localhost:8080/",
     "height": 136
    },
    "colab_type": "code",
    "executionInfo": {
     "elapsed": 60993,
     "status": "ok",
     "timestamp": 1589250591196,
     "user": {
      "displayName": "Christian Kasim Loan",
      "photoUrl": "",
      "userId": "14469489166467359317"
     },
     "user_tz": -120
    },
    "id": "bbzEH9u7tdxR",
    "outputId": "5f930486-c1a7-4f87-9101-a74486be5855"
   },
   "outputs": [
    {
     "name": "stdout",
     "output_type": "stream",
     "text": [
      "openjdk version \"1.8.0_252\"\n",
      "OpenJDK Runtime Environment (build 1.8.0_252-8u252-b09-1~18.04-b09)\n",
      "OpenJDK 64-Bit Server VM (build 25.252-b09, mixed mode)\n",
      "\u001B[K     |████████████████████████████████| 215.7MB 55kB/s \n",
      "\u001B[K     |████████████████████████████████| 204kB 47.8MB/s \n",
      "\u001B[?25h  Building wheel for pyspark (setup.py) ... \u001B[?25l\u001B[?25hdone\n",
      "\u001B[K     |████████████████████████████████| 122kB 3.4MB/s \n",
      "\u001B[?25h"
     ]
    }
   ],
   "source": [
    "# This is only to setup PySpark and Spark NLP on Colab\n",
    "!wget http://setup.johnsnowlabs.com/colab.sh -O - | bash"
   ]
  },
  {
   "cell_type": "markdown",
   "metadata": {
    "colab_type": "text",
    "id": "BaUA9XiJtWov"
   },
   "source": [
    "Show how to use pretrained assertion status"
   ]
  },
  {
   "cell_type": "code",
   "execution_count": null,
   "metadata": {
    "colab": {},
    "colab_type": "code",
    "id": "h4RPEgjutWox"
   },
   "outputs": [],
   "source": [
    "import sys\n",
    "\n",
    "from pyspark.sql import SparkSession\n",
    "from pyspark.ml import PipelineModel\n",
    "\n",
    "import sparknlp\n",
    "from sparknlp.annotator import *\n",
    "from sparknlp.common import *\n",
    "from sparknlp.base import *\n",
    "from sparknlp.pretrained import ResourceDownloader\n",
    "\n",
    "from pathlib import Path\n",
    "\n",
    "if sys.version_info[0] < 3:\n",
    "    from urllib import urlretrieve\n",
    "else:\n",
    "    from urllib.request import urlretrieve"
   ]
  },
  {
   "cell_type": "code",
   "execution_count": null,
   "metadata": {
    "colab": {
     "base_uri": "https://localhost:8080/",
     "height": 51
    },
    "colab_type": "code",
    "executionInfo": {
     "elapsed": 77953,
     "status": "ok",
     "timestamp": 1589250608173,
     "user": {
      "displayName": "Christian Kasim Loan",
      "photoUrl": "",
      "userId": "14469489166467359317"
     },
     "user_tz": -120
    },
    "id": "6IRitqxOtWo5",
    "outputId": "e2c35cc1-e919-4d1a-b357-e04afb304ab7"
   },
   "outputs": [
    {
     "name": "stdout",
     "output_type": "stream",
     "text": [
      "Spark NLP version:  2.5.0\n",
      "Apache Spark version:  2.4.4\n"
     ]
    }
   ],
   "source": [
    "spark = sparknlp.start()\n",
    "\n",
    "print(\"Spark NLP version: \", sparknlp.version())\n",
    "print(\"Apache Spark version: \", spark.version)\n"
   ]
  },
  {
   "cell_type": "markdown",
   "metadata": {
    "colab_type": "text",
    "id": "4QjmqB7ItWo_"
   },
   "source": [
    "Create some data for testing purposes"
   ]
  },
  {
   "cell_type": "code",
   "execution_count": null,
   "metadata": {
    "colab": {},
    "colab_type": "code",
    "id": "V7IDvZMjtWpA"
   },
   "outputs": [],
   "source": [
    "from pyspark.sql import Row\n",
    "R = Row('sentence', 'start', 'end')\n",
    "test_data = spark.createDataFrame([R('Peter is a good person, and he was working at IBM',0,1)])"
   ]
  },
  {
   "cell_type": "markdown",
   "metadata": {
    "colab_type": "text",
    "id": "IeiOSDYHtWpF"
   },
   "source": [
    "Create a custom pipeline"
   ]
  },
  {
   "cell_type": "code",
   "execution_count": null,
   "metadata": {
    "colab": {
     "base_uri": "https://localhost:8080/",
     "height": 221
    },
    "colab_type": "code",
    "executionInfo": {
     "elapsed": 117752,
     "status": "ok",
     "timestamp": 1589250647984,
     "user": {
      "displayName": "Christian Kasim Loan",
      "photoUrl": "",
      "userId": "14469489166467359317"
     },
     "user_tz": -120
    },
    "id": "4QDHUPNytWpH",
    "outputId": "1d4691a5-4367-42b4-eb5d-22d0bea2b964"
   },
   "outputs": [
    {
     "name": "stdout",
     "output_type": "stream",
     "text": [
      "lemma_antbnc download started this may take some time.\n",
      "Approximate size to download 907.6 KB\n",
      "[OK!]\n",
      "spellcheck_norvig download started this may take some time.\n",
      "Approximate size to download 4.2 MB\n",
      "[OK!]\n",
      "glove_100d download started this may take some time.\n",
      "Approximate size to download 145.3 MB\n",
      "[OK!]\n",
      "ner_dl download started this may take some time.\n",
      "Approximate size to download 13.6 MB\n",
      "[OK!]\n"
     ]
    }
   ],
   "source": [
    "import time\n",
    "\n",
    "documentAssembler = DocumentAssembler() \\\n",
    "    .setInputCol(\"sentence\") \\\n",
    "    .setOutputCol(\"document\")\n",
    "\n",
    "tokenizer = Tokenizer() \\\n",
    "    .setInputCols([\"document\"]) \\\n",
    "    .setOutputCol(\"token\")\n",
    "\n",
    "lemmatizer = LemmatizerModel.pretrained() \\\n",
    "    .setInputCols([\"token\"]) \\\n",
    "    .setOutputCol(\"lemma\")\n",
    "\n",
    "spell = NorvigSweetingModel.pretrained() \\\n",
    "    .setInputCols([\"token\"]) \\\n",
    "    .setOutputCol(\"spell\")\n",
    "\n",
    "embeddings = WordEmbeddingsModel.pretrained() \\\n",
    "    .setInputCols([\"document\", \"token\"]) \\\n",
    "\n",
    "ner_dl = NerDLModel().pretrained() \\\n",
    "    .setInputCols([\"document\", \"token\", \"embeddings\"]) \\\n",
    "    .setOutputCol(\"ner_dl\")\n",
    "\n",
    "finisher = Finisher() \\\n",
    "    .setInputCols([\"ner_dl\", \"lemma\", \"spell\"]) \\\n",
    "    .setIncludeMetadata(True)\n",
    "\n",
    "pipeline_fast_dl = Pipeline(stages = [\n",
    "    documentAssembler, \n",
    "    tokenizer, \n",
    "    lemmatizer, \n",
    "    spell, \n",
    "    embeddings, \n",
    "    ner_dl, \n",
    "    finisher])"
   ]
  },
  {
   "cell_type": "markdown",
   "metadata": {
    "colab_type": "text",
    "id": "f__NmtvstWpO"
   },
   "source": [
    "Now let's use these pipelines and see the results"
   ]
  },
  {
   "cell_type": "code",
   "execution_count": null,
   "metadata": {
    "colab": {
     "base_uri": "https://localhost:8080/",
     "height": 139
    },
    "colab_type": "code",
    "executionInfo": {
     "elapsed": 122838,
     "status": "ok",
     "timestamp": 1589250653083,
     "user": {
      "displayName": "Christian Kasim Loan",
      "photoUrl": "",
      "userId": "14469489166467359317"
     },
     "user_tz": -120
    },
    "id": "uQ4dO_kjtWpQ",
    "outputId": "6a7e05ea-f1f0-435d-c9bd-f32f95e7db20"
   },
   "outputs": [
    {
     "name": "stdout",
     "output_type": "stream",
     "text": [
      "+-------------------------------------------------+-----+---+--------------------------------------------+-----------------------------------------------------------+---------------------------------------------------------------+---------------------------------------------------------------------------------------------------------------------------------------------------------------+------------------------------------------------------------------------------------------------------------------------------------------------------------------------------------+------------------------------------------------------------------------------------------------------------------------------------------------------------------------------------------------------------------------------------------------------------------------------------------------------------------------------------------------------------------------------------------------------------------------+\n",
      "|sentence                                         |start|end|finished_ner_dl                             |finished_lemma                                             |finished_spell                                                 |finished_ner_dl_metadata                                                                                                                                       |finished_lemma_metadata                                                                                                                                                             |finished_spell_metadata                                                                                                                                                                                                                                                                                                                                                                                                 |\n",
      "+-------------------------------------------------+-----+---+--------------------------------------------+-----------------------------------------------------------+---------------------------------------------------------------+---------------------------------------------------------------------------------------------------------------------------------------------------------------+------------------------------------------------------------------------------------------------------------------------------------------------------------------------------------+------------------------------------------------------------------------------------------------------------------------------------------------------------------------------------------------------------------------------------------------------------------------------------------------------------------------------------------------------------------------------------------------------------------------+\n",
      "|Peter is a good person, and he was working at IBM|0    |1  |[B-PER, O, O, O, O, O, O, O, O, O, O, B-ORG]|[Peter, be, a, good, person, ,, and, he, be, work, at, IBM]|[Peter, is, a, good, person, ,, and, he, was, working, at, IBM]|[[word, Peter], [word, is], [word, a], [word, good], [word, person], [word, ,], [word, and], [word, he], [word, was], [word, working], [word, at], [word, IBM]]|[[sentence, 0], [sentence, 0], [sentence, 0], [sentence, 0], [sentence, 0], [sentence, 0], [sentence, 0], [sentence, 0], [sentence, 0], [sentence, 0], [sentence, 0], [sentence, 0]]|[[confidence, 1.0], [sentence, 0], [confidence, 1.0], [sentence, 0], [confidence, 1.0], [sentence, 0], [confidence, 1.0], [sentence, 0], [confidence, 1.0], [sentence, 0], [confidence, 0.0], [sentence, 0], [confidence, 1.0], [sentence, 0], [confidence, 1.0], [sentence, 0], [confidence, 1.0], [sentence, 0], [confidence, 1.0], [sentence, 0], [confidence, 1.0], [sentence, 0], [confidence, 1.0], [sentence, 0]]|\n",
      "+-------------------------------------------------+-----+---+--------------------------------------------+-----------------------------------------------------------+---------------------------------------------------------------+---------------------------------------------------------------------------------------------------------------------------------------------------------------+------------------------------------------------------------------------------------------------------------------------------------------------------------------------------------+------------------------------------------------------------------------------------------------------------------------------------------------------------------------------------------------------------------------------------------------------------------------------------------------------------------------------------------------------------------------------------------------------------------------+\n",
      "\n"
     ]
    }
   ],
   "source": [
    "pipeline_fast_dl.fit(test_data).transform(test_data).show(truncate=False)"
   ]
  },
  {
   "cell_type": "code",
   "execution_count": null,
   "metadata": {
    "colab": {},
    "colab_type": "code",
    "id": "cBbxU2aytWpX"
   },
   "outputs": [],
   "source": []
  }
 ],
 "metadata": {
  "colab": {
   "name": "Create custom pipeline - NerDL.ipynb",
   "provenance": []
  },
  "kernelspec": {
   "display_name": "Python 3",
   "language": "python",
   "name": "python3"
  },
  "language_info": {
   "codemirror_mode": {
    "name": "ipython",
    "version": 3
   },
   "file_extension": ".py",
   "mimetype": "text/x-python",
   "name": "python",
   "nbconvert_exporter": "python",
   "pygments_lexer": "ipython3",
   "version": "3.6.9"
  }
 },
 "nbformat": 4,
 "nbformat_minor": 4
}
