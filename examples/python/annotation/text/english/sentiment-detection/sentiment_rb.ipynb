{
 "cells": [
  {
   "attachments": {},
   "cell_type": "markdown",
   "metadata": {},
   "source": [
    "![JohnSnowLabs](https://nlp.johnsnowlabs.com/assets/images/logo.png)\n",
    "\n",
    "[![Open In Colab](https://colab.research.google.com/assets/colab-badge.svg)](https://colab.research.google.com/github/JohnSnowLabs/spark-nlp/blob/master/examples/python/annotation/text/english/sentiment-detection/sentiment_rb.ipynb)\n",
    "\n",
    "# Sentiment Analysis Pipeline"
   ]
  },
  {
   "cell_type": "code",
   "execution_count": null,
   "metadata": {},
   "outputs": [
    {
     "name": "stdout",
     "output_type": "stream",
     "text": [
      "openjdk version \"1.8.0_252\"\n",
      "OpenJDK Runtime Environment (build 1.8.0_252-8u252-b09-1~18.04-b09)\n",
      "OpenJDK 64-Bit Server VM (build 25.252-b09, mixed mode)\n",
      "\u001b[K     |████████████████████████████████| 215.7MB 54kB/s \n",
      "\u001b[K     |████████████████████████████████| 204kB 49.8MB/s \n",
      "\u001b[?25h  Building wheel for pyspark (setup.py) ... \u001b[?25l\u001b[?25hdone\n",
      "\u001b[K     |████████████████████████████████| 122kB 2.8MB/s \n",
      "\u001b[?25h"
     ]
    }
   ],
   "source": [
    "# Only run this cell when you are using Spark NLP on Google Colab\n",
    "!wget http://setup.johnsnowlabs.com/colab.sh -O - | bash"
   ]
  },
  {
   "attachments": {},
   "cell_type": "markdown",
   "metadata": {},
   "source": [
    "\n",
    "\n",
    "This pipeline will be used to explain a number of important features of the Spark-NLP library; Sentence Detection, Tokenization, Spell Checking, and Sentiment Detection.\n",
    "The idea is to start with natural language as could have been entered by a user, and get sentiment associated to it. Let's walk through each of the stages!\n"
   ]
  },
  {
   "cell_type": "markdown",
   "metadata": {},
   "source": [
    "#### 1. Call necessary imports and set the resource path to read local data files"
   ]
  },
  {
   "cell_type": "code",
   "execution_count": null,
   "metadata": {},
   "outputs": [],
   "source": [
    "#Imports\n",
    "import sys\n",
    "\n",
    "from pyspark.sql import SparkSession\n",
    "from pyspark.ml import Pipeline\n",
    "from pyspark.sql.functions import array_contains\n",
    "from pyspark.ml import Pipeline, PipelineModel\n",
    "\n",
    "from sparknlp.annotator import *\n",
    "from sparknlp.pretrained import PretrainedPipeline"
   ]
  },
  {
   "cell_type": "markdown",
   "metadata": {},
   "source": [
    "#### 2. Load SparkSession if not already there"
   ]
  },
  {
   "cell_type": "code",
   "execution_count": null,
   "metadata": {},
   "outputs": [
    {
     "name": "stdout",
     "output_type": "stream",
     "text": [
      "Spark NLP version:  4.3.1\n",
      "Apache Spark version:  3.0.2\n"
     ]
    }
   ],
   "source": [
    "import sparknlp\n",
    "\n",
    "spark = sparknlp.start()\n",
    "\n",
    "print(\"Spark NLP version: \", sparknlp.version())\n",
    "print(\"Apache Spark version: \", spark.version)"
   ]
  },
  {
   "cell_type": "markdown",
   "metadata": {},
   "source": [
    "#### 3. Load our predefined pipeline containing all the important annotators."
   ]
  },
  {
   "cell_type": "code",
   "execution_count": null,
   "metadata": {},
   "outputs": [
    {
     "name": "stdout",
     "output_type": "stream",
     "text": [
      "analyze_sentiment download started this may take some time.\n",
      "Approx size to download 4.9 MB\n",
      "[OK!]\n"
     ]
    }
   ],
   "source": [
    "pipeline = PretrainedPipeline(\"analyze_sentiment\", lang=\"en\")"
   ]
  },
  {
   "cell_type": "markdown",
   "metadata": {},
   "source": [
    "#### 4. Create some user opinions for some movies, keep an eye on the spelling, we'll get back to that soon."
   ]
  },
  {
   "cell_type": "code",
   "execution_count": null,
   "metadata": {},
   "outputs": [],
   "source": [
    "testDocs = [\n",
    "    \"I felt so disapointed to see this very uninspired film. I recommend others to awoid this movie is not good.\",\n",
    "    \"This was movie was amesome, everything was nice.\"]"
   ]
  },
  {
   "cell_type": "code",
   "execution_count": null,
   "metadata": {},
   "outputs": [
    {
     "data": {
      "text/plain": [
       "[(['I felt so disapointed to see this very uninspired film.',\n",
       "   'I recommend others to awoid this movie is not good.'],\n",
       "  ['positive', 'negative']),\n",
       " (['This was movie was amesome, everything was nice.'], ['negative'])]"
      ]
     },
     "execution_count": null,
     "metadata": {},
     "output_type": "execute_result"
    }
   ],
   "source": [
    "result = pipeline.annotate(testDocs)\n",
    "[(r['sentence'], r['sentiment']) for r in result]"
   ]
  },
  {
   "cell_type": "markdown",
   "metadata": {},
   "source": [
    " #### [Optional] - inspect intermmediate stages - spell checking\n",
    " As you can see, it suggests `avoid` instead of `awoid`"
   ]
  },
  {
   "cell_type": "code",
   "execution_count": null,
   "metadata": {},
   "outputs": [
    {
     "data": {
      "text/plain": [
       "[{'checked': ['I',\n",
       "   'felt',\n",
       "   'so',\n",
       "   'disappointed',\n",
       "   'to',\n",
       "   'see',\n",
       "   'this',\n",
       "   'very',\n",
       "   'uninspired',\n",
       "   'film',\n",
       "   '.',\n",
       "   'I',\n",
       "   'recommend',\n",
       "   'others',\n",
       "   'to',\n",
       "   'avoid',\n",
       "   'this',\n",
       "   'movie',\n",
       "   'is',\n",
       "   'not',\n",
       "   'good',\n",
       "   '.'],\n",
       "  'document': ['I felt so disapointed to see this very uninspired film. I recommend others to awoid this movie is not good.'],\n",
       "  'sentiment': ['positive', 'negative'],\n",
       "  'token': ['I',\n",
       "   'felt',\n",
       "   'so',\n",
       "   'disapointed',\n",
       "   'to',\n",
       "   'see',\n",
       "   'this',\n",
       "   'very',\n",
       "   'uninspired',\n",
       "   'film',\n",
       "   '.',\n",
       "   'I',\n",
       "   'recommend',\n",
       "   'others',\n",
       "   'to',\n",
       "   'awoid',\n",
       "   'this',\n",
       "   'movie',\n",
       "   'is',\n",
       "   'not',\n",
       "   'good',\n",
       "   '.'],\n",
       "  'sentence': ['I felt so disapointed to see this very uninspired film.',\n",
       "   'I recommend others to awoid this movie is not good.']},\n",
       " {'checked': ['This',\n",
       "   'was',\n",
       "   'movie',\n",
       "   'was',\n",
       "   'awesome',\n",
       "   ',',\n",
       "   'everything',\n",
       "   'was',\n",
       "   'nice',\n",
       "   '.'],\n",
       "  'document': ['This was movie was amesome, everything was nice.'],\n",
       "  'sentiment': ['negative'],\n",
       "  'token': ['This',\n",
       "   'was',\n",
       "   'movie',\n",
       "   'was',\n",
       "   'amesome',\n",
       "   ',',\n",
       "   'everything',\n",
       "   'was',\n",
       "   'nice',\n",
       "   '.'],\n",
       "  'sentence': ['This was movie was amesome, everything was nice.']}]"
      ]
     },
     "execution_count": null,
     "metadata": {},
     "output_type": "execute_result"
    }
   ],
   "source": [
    "result"
   ]
  }
 ],
 "metadata": {
  "colab": {
   "collapsed_sections": [],
   "name": "sentiment_rb.ipynb",
   "provenance": []
  },
  "kernelspec": {
   "display_name": "Python 3",
   "language": "python",
   "name": "python3"
  },
  "language_info": {
   "codemirror_mode": {
    "name": "ipython",
    "version": 3
   },
   "file_extension": ".py",
   "mimetype": "text/x-python",
   "name": "python",
   "nbconvert_exporter": "python",
   "pygments_lexer": "ipython3"
  }
 },
 "nbformat": 4,
 "nbformat_minor": 4
}
