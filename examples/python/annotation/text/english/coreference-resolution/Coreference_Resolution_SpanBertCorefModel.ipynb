{
 "cells": [
  {
   "cell_type": "markdown",
   "id": "Dm865JXIqAQ9",
   "metadata": {},
   "source": [
    "[![Open In Colab](https://colab.research.google.com/assets/colab-badge.svg)](https://colab.research.google.com/github/JohnSnowLabs/spark-nlp/blob/master/examples/python/annotation/text/english/coreference-resolution/Coreference_Resolution_SpanBertCorefModel.ipynb)"
   ]
  },
  {
   "cell_type": "markdown",
   "id": "ThzZq5KVsGcw",
   "metadata": {},
   "source": [
    "# Coreference Resolution with SpanBertCorefModel\n",
    "\n",
    "SpanBertCorefModel is a coreference resolution model that identifies expressions which refer to the same entity in a\n",
    "text. For example, given a sentence \"John told Mary he would like to borrow a book from her.\"\n",
    "the model will link \"he\" to \"John\" and \"her\" to \"Mary\".\n",
    "\n",
    "This example will show how to use a pretrained model."
   ]
  },
  {
   "cell_type": "markdown",
   "id": "s5--DnBP3Spa",
   "metadata": {},
   "source": [
    "## 0. Colab Setup\n",
    "\n",
    "The following cell will install Spark NLP in a Colab notebook. If this notebook is run locally it should be skipped."
   ]
  },
  {
   "cell_type": "code",
   "execution_count": null,
   "id": "qrCJxuFts9nF",
   "metadata": {},
   "outputs": [],
   "source": [
    "# Only run this cell when you are using Spark NLP on Google Colab\n",
    "!wget https://setup.johnsnowlabs.com/colab.sh -O - | bash\n",
    "\n",
    "# to process audio files\n",
    "!pip install -q pyspark librosa"
   ]
  },
  {
   "cell_type": "markdown",
   "id": "zQ2JdVlT32iX",
   "metadata": {},
   "source": [
    "Let's start a Spark NLP session:"
   ]
  },
  {
   "cell_type": "code",
   "execution_count": null,
   "id": "n88cWKtEtD0-",
   "metadata": {},
   "outputs": [
    {
     "name": "stdout",
     "output_type": "stream",
     "text": [
      "4.3.1\n"
     ]
    }
   ],
   "source": [
    "import sparknlp\n",
    "# let's start Spark with Spark NLP\n",
    "spark = sparknlp.start()\n",
    "\n",
    "print(sparknlp.version())"
   ]
  },
  {
   "cell_type": "markdown",
   "id": "8dEhKuzb3X3E",
   "metadata": {},
   "source": [
    "## 1. Using a pretrained `SpanBertCorefModel` in a Pipeline"
   ]
  },
  {
   "cell_type": "code",
   "execution_count": null,
   "id": "ee0af780-5560-45fe-8d57-0ff2eb188b0e",
   "metadata": {},
   "outputs": [],
   "source": [
    "import sparknlp\n",
    "from sparknlp.base import *\n",
    "from sparknlp.annotator import *"
   ]
  },
  {
   "cell_type": "markdown",
   "id": "m57FA0xU3_AP",
   "metadata": {},
   "source": [
    "SpanBertCorefModel requires `DOCUMENT` and `TOKEN` type annotations. these are extracted first before being fed to the pretrained model for classification."
   ]
  },
  {
   "cell_type": "code",
   "execution_count": null,
   "id": "8bf4c5ca-fda9-41b9-aaaf-833bde7ffeef",
   "metadata": {},
   "outputs": [
    {
     "name": "stdout",
     "output_type": "stream",
     "text": [
      "spanbert_base_coref download started this may take some time.\n",
      "Approximate size to download 540.1 MB\n",
      "[OK!]\n"
     ]
    }
   ],
   "source": [
    "document_assembler = DocumentAssembler() \\\n",
    "    .setInputCol(\"text\") \\\n",
    "    .setOutputCol(\"document\")\n",
    "\n",
    "sentence_detector = SentenceDetector() \\\n",
    "    .setInputCols([\"document\"]) \\\n",
    "    .setOutputCol(\"sentences\")\n",
    "\n",
    "tokenizer = Tokenizer() \\\n",
    "    .setInputCols([\"sentences\"]) \\\n",
    "    .setOutputCol(\"tokens\")\n",
    "\n",
    "coref = SpanBertCorefModel() \\\n",
    "    .pretrained() \\\n",
    "    .setInputCols([\"sentences\", \"tokens\"]) \\\n",
    "    .setOutputCol(\"corefs\")\n",
    "\n",
    "pipeline = Pipeline(stages=[\n",
    "    document_assembler,\n",
    "    sentence_detector,\n",
    "    tokenizer,\n",
    "    coref\n",
    "])"
   ]
  },
  {
   "cell_type": "markdown",
   "id": "UJTUrmVs4K2R",
   "metadata": {},
   "source": [
    "Let's create some data so we can test the pipeline:"
   ]
  },
  {
   "cell_type": "code",
   "execution_count": null,
   "id": "jid-XQAe39MO",
   "metadata": {},
   "outputs": [],
   "source": [
    "data = spark.createDataFrame([\n",
    "    [\"John loves Mary because she knows how to treat him. She is also fond of him. John said something to Mary but she didn't respond to him.\"],\n",
    "]).toDF(\"text\")"
   ]
  },
  {
   "cell_type": "markdown",
   "id": "0nylNATd4RiE",
   "metadata": {},
   "source": [
    "The data is then fit to the pipeline and we can extract the coreferences with an example query like so"
   ]
  },
  {
   "cell_type": "code",
   "execution_count": null,
   "id": "dcc442a4-98b1-49a3-9c47-62d42f4daa07",
   "metadata": {},
   "outputs": [
    {
     "name": "stdout",
     "output_type": "stream",
     "text": [
      "+-----+------------------------------------------------------------------------------------+\n",
      "|token|metadata                                                                            |\n",
      "+-----+------------------------------------------------------------------------------------+\n",
      "|Mary |{head.sentence -> -1, head -> ROOT, head.begin -> -1, head.end -> -1, sentence -> 0}|\n",
      "|she  |{head.sentence -> 0, head -> Mary, head.begin -> 11, head.end -> 14, sentence -> 0} |\n",
      "|She  |{head.sentence -> 0, head -> Mary, head.begin -> 11, head.end -> 14, sentence -> 1} |\n",
      "|Mary |{head.sentence -> 0, head -> Mary, head.begin -> 11, head.end -> 14, sentence -> 2} |\n",
      "|she  |{head.sentence -> 0, head -> Mary, head.begin -> 11, head.end -> 14, sentence -> 2} |\n",
      "|John |{head.sentence -> -1, head -> ROOT, head.begin -> -1, head.end -> -1, sentence -> 0}|\n",
      "|him  |{head.sentence -> 0, head -> John, head.begin -> 0, head.end -> 3, sentence -> 0}   |\n",
      "|him  |{head.sentence -> 0, head -> John, head.begin -> 0, head.end -> 3, sentence -> 1}   |\n",
      "|John |{head.sentence -> 0, head -> John, head.begin -> 0, head.end -> 3, sentence -> 2}   |\n",
      "|him  |{head.sentence -> 0, head -> John, head.begin -> 0, head.end -> 3, sentence -> 2}   |\n",
      "+-----+------------------------------------------------------------------------------------+\n",
      "\n"
     ]
    }
   ],
   "source": [
    "model = pipeline.fit(data)\n",
    "\n",
    "model.transform(data) \\\n",
    "    .selectExpr(\"explode(corefs) AS coref\") \\\n",
    "    .selectExpr(\"coref.result as token\", \"coref.metadata\") \\\n",
    "    .show(truncate=False)"
   ]
  }
 ],
 "metadata": {
  "colab": {
   "collapsed_sections": [],
   "provenance": []
  },
  "kernelspec": {
   "display_name": "Python 3",
   "language": "python",
   "name": "python3"
  },
  "language_info": {
   "codemirror_mode": {
    "name": "ipython",
    "version": 3
   },
   "file_extension": ".py",
   "mimetype": "text/x-python",
   "name": "python",
   "nbconvert_exporter": "python",
   "pygments_lexer": "ipython3"
  }
 },
 "nbformat": 4,
 "nbformat_minor": 5
}
