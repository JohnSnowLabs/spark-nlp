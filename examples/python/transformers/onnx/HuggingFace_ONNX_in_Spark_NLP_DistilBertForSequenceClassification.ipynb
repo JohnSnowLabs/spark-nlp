{
  "cells": [
    {
      "cell_type": "markdown",
      "metadata": {
        "id": "34tpjgl8ZdSa"
      },
      "source": [
        "![JohnSnowLabs](https://sparknlp.org/assets/images/logo.png)\n",
        "\n",
        "[![Open In Colab](https://colab.research.google.com/assets/colab-badge.svg)](https://colab.research.google.com/github/JohnSnowLabs/spark-nlp/blob/master/examples/python/transformers/onnx/HuggingFace_ONNX_in_Spark_NLP_DistilBertForSequenceClassification.ipynb)"
      ]
    },
    {
      "cell_type": "markdown",
      "metadata": {
        "id": "kSSj9w3KZdSd"
      },
      "source": [
        "## Import ONNX DistlBertForSequenceClassification models from HuggingFace 🤗  into Spark NLP 🚀\n",
        "\n",
        "Let's keep in mind a few things before we start 😊\n",
        "\n",
        "- ONNX support was introduced in  `Spark NLP 5.0.0`, enabling high performance inference for models.\n",
        "- `DistlBertForSequenceClassification` is only available since in `Spark NLP 5.1.3` and after. So please make sure you have upgraded to the latest Spark NLP release\n",
        "- You can import DistilBERT models trained/fine-tuned for token classification via `DistilBertForSequenceClassification` or `TFDistilBertForSequenceClassification`. These models are usually under `Token Classification` category and have `bert` in their labels\n",
        "- Reference: [TFDistilBertForSequenceClassification](https://huggingface.co/transformers/model_doc/distilbert.html#tfdistilbertforsequenceclassification)\n",
        "- Some [example models](https://huggingface.co/models?filter=distilbert&pipeline_tag=text-classification)"
      ]
    },
    {
      "cell_type": "markdown",
      "metadata": {
        "id": "KRRNdAyfZdSe"
      },
      "source": [
        "## Export and Save HuggingFace model"
      ]
    },
    {
      "cell_type": "markdown",
      "metadata": {
        "id": "GUnSrVtCZdSe"
      },
      "source": [
        "- Let's install `transformers` package with the `onnx` extension and it's dependencies. You don't need `onnx` to be installed for Spark NLP, however, we need it to load and save models from HuggingFace.\n",
        "- We lock `transformers` on version `4.48.3`. This doesn't mean it won't work with the future releases, but we wanted you to know which versions have been tested successfully."
      ]
    },
    {
      "cell_type": "code",
      "execution_count": null,
      "metadata": {
        "colab": {
          "base_uri": "https://localhost:8080/"
        },
        "id": "C0Iu19AxZdSf",
        "outputId": "7c5ee2a5-c1f2-4b5a-943b-5da32f455fb1"
      },
      "outputs": [],
      "source": [
        "!pip install -q --upgrade transformers[onnx]==4.48.3 optimum onnx"
      ]
    },
    {
      "cell_type": "markdown",
      "metadata": {
        "id": "A3wv8UQ4ZdSg"
      },
      "source": [
        "- HuggingFace has an extension called Optimum which offers specialized model inference, including ONNX. We can use this to import and export ONNX models with `from_pretrained` and `save_pretrained`.\n",
        "- We'll use [distilbert-base-uncased-finetuned-sst-2-english](https://huggingface.co/distilbert-base-uncased-finetuned-sst-2-english)  model from HuggingFace as an example and load it as a `ORTModelForSequenceClassification`, representing an ONNX model.\n",
        "- In addition to the DistilBERT model, we also need to save the `DistilBertTokenizer`. This is the same for every model, these are assets (saved in `/assets`) needed for tokenization inside Spark NLP."
      ]
    },
    {
      "cell_type": "code",
      "execution_count": 2,
      "metadata": {
        "colab": {
          "base_uri": "https://localhost:8080/",
          "height": 336,
          "referenced_widgets": [
            "bcca3f414240464692adf0e37311f81e",
            "472633ace77c40bbb201d6677454fd36",
            "2cd8c87ead974497899e45a63c77f440",
            "57994daaf32c4935841d719d81abae98",
            "e887711786f041e79f69046bf6e06645",
            "883a0064296f43b6bf870872149ee608",
            "3709976c285e4c28a32524722c60f005",
            "9236bf8722564c74a1daba88305b241a",
            "7d5da1a669b44c1ca0a941ded10b41c8",
            "a743144d75684cb38d1aab5db8007376",
            "1b54fe21e91141ec8e59fdc202bb7138",
            "3346912bd409491a8a73efe24542964a",
            "9f72592c0d76441b812b59c25e52d788",
            "fa1e3f7032624c23a8717814f3e61a14",
            "9c1847638cc542bfae08733e2ed67a4a",
            "95ed000b7ef84738a1c59303a186a415",
            "877589f7ad5c49cfa54b5e51537471b0",
            "671831d6b9f34ba98b03dbfa5a85ffcb",
            "70787d43b36a4ccba1c3667a851ef308",
            "d8f159ed4d7846f2a25505fb1d54c1ce",
            "f1e4b2a1b70941779f1efb4ea2601a45",
            "034e0db9874b4ca69073fde125aef151",
            "9f3ea5cb9e544800937ad72a3b0db30c",
            "290d38c358604aad95d0778cd1979fad",
            "9eb0b4eac4b34cf8a8623acd3fc49b9c",
            "08fb106c9a8546c28d0b1973f044c874",
            "9e0e6ab011624a939e45257a2a4ed990",
            "ee3f898473d14a7cb2791e7d3efd5747",
            "e92d2f983c46406f8c7e28a59420c2ad",
            "358ee7faa5fc428685f106782ffba3fc",
            "7637bfabf6ad46cd87b7aa38d2afccc5",
            "600facf71ed24d4c9ab5f382caa55ac1",
            "230ae02cbbe845d3b42c209dccb70d1b",
            "61a15ab3059a47438aeb02a3bb2a29b5",
            "d2c07fffefba4131934e1e2f1946e2b4",
            "345ad1fbf6244735b670a4aedbc7793f",
            "c6d1e6bc048147a4b57a9f7505acdad3",
            "98bd9a55cf04470b87e9e4f823442956",
            "8acac192af024a25a995d2d822906800",
            "9f722cd1ff224fd1a3ccc49ba2c2eed7",
            "306ce8a989494579a315c082132e6f47",
            "a5db1fa75f69479284c3f35680edbcb1",
            "5ad7594734074263ac0e5781c6d9e36c",
            "f63b7ad97ecc4798a3a27aa60bb097cd"
          ]
        },
        "id": "NbZVENV-wi7j",
        "outputId": "a5a6f100-5fec-46b9-dfb7-ca860a8c4060"
      },
      "outputs": [
        {
          "name": "stderr",
          "output_type": "stream",
          "text": [
            "/usr/local/lib/python3.11/dist-packages/huggingface_hub/utils/_auth.py:94: UserWarning: \n",
            "The secret `HF_TOKEN` does not exist in your Colab secrets.\n",
            "To authenticate with the Hugging Face Hub, create a token in your settings tab (https://huggingface.co/settings/tokens), set it as secret in your Google Colab and restart your session.\n",
            "You will be able to reuse this secret in all of your notebooks.\n",
            "Please note that authentication is recommended but still optional to access public models or datasets.\n",
            "  warnings.warn(\n",
            "The model distilbert-base-uncased-finetuned-sst-2-english was already converted to ONNX but got `export=True`, the model will be converted to ONNX once again. Don't forget to save the resulting model with `.save_pretrained()`\n"
          ]
        },
        {
          "data": {
            "application/vnd.jupyter.widget-view+json": {
              "model_id": "bcca3f414240464692adf0e37311f81e",
              "version_major": 2,
              "version_minor": 0
            },
            "text/plain": [
              "config.json:   0%|          | 0.00/629 [00:00<?, ?B/s]"
            ]
          },
          "metadata": {},
          "output_type": "display_data"
        },
        {
          "data": {
            "application/vnd.jupyter.widget-view+json": {
              "model_id": "3346912bd409491a8a73efe24542964a",
              "version_major": 2,
              "version_minor": 0
            },
            "text/plain": [
              "model.safetensors:   0%|          | 0.00/268M [00:00<?, ?B/s]"
            ]
          },
          "metadata": {},
          "output_type": "display_data"
        },
        {
          "data": {
            "application/vnd.jupyter.widget-view+json": {
              "model_id": "9f3ea5cb9e544800937ad72a3b0db30c",
              "version_major": 2,
              "version_minor": 0
            },
            "text/plain": [
              "tokenizer_config.json:   0%|          | 0.00/48.0 [00:00<?, ?B/s]"
            ]
          },
          "metadata": {},
          "output_type": "display_data"
        },
        {
          "data": {
            "application/vnd.jupyter.widget-view+json": {
              "model_id": "61a15ab3059a47438aeb02a3bb2a29b5",
              "version_major": 2,
              "version_minor": 0
            },
            "text/plain": [
              "vocab.txt:   0%|          | 0.00/232k [00:00<?, ?B/s]"
            ]
          },
          "metadata": {},
          "output_type": "display_data"
        },
        {
          "data": {
            "text/plain": [
              "('onnx_models/distilbert-base-uncased-finetuned-sst-2-english/tokenizer_config.json',\n",
              " 'onnx_models/distilbert-base-uncased-finetuned-sst-2-english/special_tokens_map.json',\n",
              " 'onnx_models/distilbert-base-uncased-finetuned-sst-2-english/vocab.txt',\n",
              " 'onnx_models/distilbert-base-uncased-finetuned-sst-2-english/added_tokens.json')"
            ]
          },
          "execution_count": 2,
          "metadata": {},
          "output_type": "execute_result"
        }
      ],
      "source": [
        "from transformers import DistilBertTokenizer\n",
        "from optimum.onnxruntime import ORTModelForSequenceClassification\n",
        "\n",
        "MODEL_NAME = 'distilbert-base-uncased-finetuned-sst-2-english'\n",
        "ONNX_MODEL = f\"onnx_models/{MODEL_NAME}\"\n",
        "\n",
        "ort_model = ORTModelForSequenceClassification.from_pretrained(MODEL_NAME, export=True)\n",
        "ort_model.save_pretrained(ONNX_MODEL)\n",
        "\n",
        "tokenizer = DistilBertTokenizer.from_pretrained(MODEL_NAME)\n",
        "tokenizer.save_pretrained(ONNX_MODEL)"
      ]
    },
    {
      "cell_type": "markdown",
      "metadata": {
        "id": "BjSiH3BJZdSh"
      },
      "source": [
        "Let's have a look inside these two directories and see what we are dealing with:"
      ]
    },
    {
      "cell_type": "code",
      "execution_count": 3,
      "metadata": {
        "colab": {
          "base_uri": "https://localhost:8080/"
        },
        "id": "xY5OIDogZdSh",
        "outputId": "d164bacc-e158-45a3-eccc-0ed9c001e103"
      },
      "outputs": [
        {
          "name": "stdout",
          "output_type": "stream",
          "text": [
            "total 261924\n",
            "-rw-r--r-- 1 root root       735 Jun 14 00:09 config.json\n",
            "-rw-r--r-- 1 root root 267958137 Jun 14 00:09 model.onnx\n",
            "-rw-r--r-- 1 root root       125 Jun 14 00:09 special_tokens_map.json\n",
            "-rw-r--r-- 1 root root      1278 Jun 14 00:09 tokenizer_config.json\n",
            "-rw-r--r-- 1 root root    231508 Jun 14 00:09 vocab.txt\n"
          ]
        }
      ],
      "source": [
        "!ls -l {ONNX_MODEL}"
      ]
    },
    {
      "cell_type": "markdown",
      "metadata": {
        "id": "DbgoTseNZdSh"
      },
      "source": [
        "- As you can see, we need to move `vocab.txt` to assets folder which Spark NLP will look for\n",
        "- We also need `labels` and their `ids` which is saved inside the model's config. We will save this inside `labels.txt`"
      ]
    },
    {
      "cell_type": "code",
      "execution_count": 4,
      "metadata": {
        "id": "-WZgr_jCZdSi"
      },
      "outputs": [],
      "source": [
        "!mkdir -p {ONNX_MODEL}/assets\n",
        "\n",
        "labels = ort_model.config.id2label\n",
        "labels = [label for _, label in sorted(labels.items())]\n",
        "\n",
        "with open(f\"{ONNX_MODEL}/assets/labels.txt\", \"w\") as f:\n",
        "    f.write(\"\\n\".join(labels))\n",
        "\n",
        "!mv {ONNX_MODEL}/vocab.txt {ONNX_MODEL}/assets/"
      ]
    },
    {
      "cell_type": "code",
      "execution_count": 5,
      "metadata": {
        "colab": {
          "base_uri": "https://localhost:8080/"
        },
        "id": "2Z_L7gG8ZdSi",
        "outputId": "6eaeccee-d74d-414e-ecac-3ce17b517f21"
      },
      "outputs": [
        {
          "name": "stdout",
          "output_type": "stream",
          "text": [
            "onnx_models/distilbert-base-uncased-finetuned-sst-2-english:\n",
            "total 261700\n",
            "drwxr-xr-x 2 root root      4096 Jun 14 00:09 assets\n",
            "-rw-r--r-- 1 root root       735 Jun 14 00:09 config.json\n",
            "-rw-r--r-- 1 root root 267958137 Jun 14 00:09 model.onnx\n",
            "-rw-r--r-- 1 root root       125 Jun 14 00:09 special_tokens_map.json\n",
            "-rw-r--r-- 1 root root      1278 Jun 14 00:09 tokenizer_config.json\n",
            "\n",
            "onnx_models/distilbert-base-uncased-finetuned-sst-2-english/assets:\n",
            "total 232\n",
            "-rw-r--r-- 1 root root     17 Jun 14 00:09 labels.txt\n",
            "-rw-r--r-- 1 root root 231508 Jun 14 00:09 vocab.txt\n"
          ]
        }
      ],
      "source": [
        "!ls -lR {ONNX_MODEL}"
      ]
    },
    {
      "cell_type": "markdown",
      "metadata": {
        "id": "0L_Y-jwpZdSi"
      },
      "source": [
        "Voila! We have our `vocab.txt` and `labels.txt` inside assets directory"
      ]
    },
    {
      "cell_type": "markdown",
      "metadata": {
        "id": "rG9aCnu2ZdSi"
      },
      "source": [
        "## Import and Save DistilBertForSequenceClassification in Spark NLP\n"
      ]
    },
    {
      "cell_type": "markdown",
      "metadata": {
        "id": "j2oLS3TnZdSi"
      },
      "source": [
        "- **Install and set up Spark NLP in Google Colab**\n",
        "  - This example uses specific versions of `pyspark` and `spark-nlp` that have been tested with the transformer model to ensure everything runs smoothly.\n"
      ]
    },
    {
      "cell_type": "code",
      "execution_count": 6,
      "metadata": {
        "colab": {
          "base_uri": "https://localhost:8080/"
        },
        "id": "EHSBPKtIZdSj",
        "outputId": "b0b1ce1b-362f-4ab0-fdeb-4b2795018091"
      },
      "outputs": [
        {
          "name": "stdout",
          "output_type": "stream",
          "text": [
            "\u001b[2K     \u001b[90m━━━━━━━━━━━━━━━━━━━━━━━━━━━━━━━━━━━━━━━\u001b[0m \u001b[32m317.3/317.3 MB\u001b[0m \u001b[31m3.3 MB/s\u001b[0m eta \u001b[36m0:00:00\u001b[0m\n",
            "\u001b[?25h  Preparing metadata (setup.py) ... \u001b[?25l\u001b[?25hdone\n",
            "\u001b[2K   \u001b[90m━━━━━━━━━━━━━━━━━━━━━━━━━━━━━━━━━━━━━━━━\u001b[0m \u001b[32m635.7/635.7 kB\u001b[0m \u001b[31m36.5 MB/s\u001b[0m eta \u001b[36m0:00:00\u001b[0m\n",
            "\u001b[?25h  Building wheel for pyspark (setup.py) ... \u001b[?25l\u001b[?25hdone\n"
          ]
        }
      ],
      "source": [
        "!pip install -q pyspark==3.5.4 spark-nlp==5.5.3"
      ]
    },
    {
      "cell_type": "markdown",
      "metadata": {
        "id": "RCCAAqVaZdSj"
      },
      "source": [
        "Let's start Spark with Spark NLP included via our simple `start()` function"
      ]
    },
    {
      "cell_type": "code",
      "execution_count": 7,
      "metadata": {
        "colab": {
          "base_uri": "https://localhost:8080/"
        },
        "id": "FaAekr1_ZdSj",
        "outputId": "1f213329-5c3a-46d8-fc0d-9db0ab80936c"
      },
      "outputs": [
        {
          "name": "stdout",
          "output_type": "stream",
          "text": [
            "Spark NLP version:  5.5.3\n",
            "Apache Spark version:  3.5.4\n"
          ]
        }
      ],
      "source": [
        "import sparknlp\n",
        "\n",
        "spark = sparknlp.start()\n",
        "\n",
        "print(\"Spark NLP version: \", sparknlp.version())\n",
        "print(\"Apache Spark version: \", spark.version)"
      ]
    },
    {
      "cell_type": "markdown",
      "metadata": {
        "id": "LxuMGheNZdSj"
      },
      "source": [
        "- Let's use `loadSavedModel` functon in `DistilBertForSequenceClassification` which allows us to load TensorFlow model in SavedModel format\n",
        "- Most params can be set later when you are loading this model in `DistilBertForSequenceClassification` in runtime like `setMaxSentenceLength`, so don't worry what you are setting them now\n",
        "- `loadSavedModel` accepts two params, first is the path to the TF SavedModel. The second is the SparkSession that is `spark` variable we previously started via `sparknlp.start()`\n",
        "- NOTE: `loadSavedModel` accepts local paths in addition to distributed file systems such as `HDFS`, `S3`, `DBFS`, etc. This feature was introduced in Spark NLP 4.2.2 release. Keep in mind the best and recommended way to move/share/reuse Spark NLP models is to use `write.save` so you can use `.load()` from any file systems natively.\n",
        "\n"
      ]
    },
    {
      "cell_type": "code",
      "execution_count": 8,
      "metadata": {
        "id": "EL1hWTEiZdSj"
      },
      "outputs": [],
      "source": [
        "from sparknlp.annotator import DistilBertForSequenceClassification\n",
        "\n",
        "sequenceClassifier = DistilBertForSequenceClassification.loadSavedModel(\n",
        "      ONNX_MODEL,\n",
        "      spark\n",
        "      )\\\n",
        "    .setInputCols([\"document\",'token'])\\\n",
        "    .setOutputCol(\"class\")\\\n",
        "    .setCaseSensitive(True)\\\n",
        "    .setMaxSentenceLength(128)"
      ]
    },
    {
      "cell_type": "markdown",
      "metadata": {
        "id": "CON7JCOVZdSk"
      },
      "source": [
        "- Let's save it on disk so it is easier to be moved around and also be used later via `.load` function"
      ]
    },
    {
      "cell_type": "code",
      "execution_count": 9,
      "metadata": {
        "id": "-rK3V8FzZdSk"
      },
      "outputs": [],
      "source": [
        "sequenceClassifier.write().overwrite().save(\"./{}_spark_nlp_onnx\".format(ONNX_MODEL))"
      ]
    },
    {
      "cell_type": "markdown",
      "metadata": {
        "id": "ESeVv3LRZdSk"
      },
      "source": [
        "Let's clean up stuff we don't need anymore"
      ]
    },
    {
      "cell_type": "code",
      "execution_count": null,
      "metadata": {
        "id": "Vs8bsXFeZdSk"
      },
      "outputs": [],
      "source": [
        "!rm -rf {ONNX_MODEL}"
      ]
    },
    {
      "cell_type": "markdown",
      "metadata": {
        "id": "l9_f5WcJZdSk"
      },
      "source": [
        "Awesome 😎  !\n",
        "\n",
        "This is your AlbertForSequenceClassification model from HuggingFace 🤗  loaded and saved by Spark NLP 🚀"
      ]
    },
    {
      "cell_type": "code",
      "execution_count": null,
      "metadata": {
        "id": "YZaTzXCWZdSk"
      },
      "outputs": [],
      "source": [
        "! ls -l {ONNX_MODEL}_spark_nlp_onnx"
      ]
    },
    {
      "cell_type": "markdown",
      "metadata": {
        "id": "0V8lG75xZdSk"
      },
      "source": [
        "Now let's see how we can use it on other machines, clusters, or any place you wish to use your new and shiny AlbertForSequenceClassification model 😊"
      ]
    },
    {
      "cell_type": "code",
      "execution_count": 12,
      "metadata": {
        "id": "X5s9GxEhZdSl"
      },
      "outputs": [],
      "source": [
        "sequenceClassifier_loaded = DistilBertForSequenceClassification.load(\"./{}_spark_nlp_onnx\".format(ONNX_MODEL))\\\n",
        "  .setInputCols([\"document\",'token'])\\\n",
        "  .setOutputCol(\"class\")"
      ]
    },
    {
      "cell_type": "markdown",
      "metadata": {
        "id": "mwAlzqx-ZdSl"
      },
      "source": [
        "You can see what labels were used to train this model via `getClasses` function:"
      ]
    },
    {
      "cell_type": "code",
      "execution_count": 13,
      "metadata": {
        "colab": {
          "base_uri": "https://localhost:8080/"
        },
        "id": "4e4Uvc8tZdSl",
        "outputId": "b79c1425-980f-43e1-d34f-f26ac8d64298"
      },
      "outputs": [
        {
          "data": {
            "text/plain": [
              "['POSITIVE', 'NEGATIVE']"
            ]
          },
          "execution_count": 13,
          "metadata": {},
          "output_type": "execute_result"
        }
      ],
      "source": [
        "sequenceClassifier_loaded.getClasses()"
      ]
    },
    {
      "cell_type": "markdown",
      "metadata": {
        "id": "aHUDF8aMZdSl"
      },
      "source": [
        "This is how you can use your loaded classifier model in Spark NLP 🚀 pipeline:"
      ]
    },
    {
      "cell_type": "code",
      "execution_count": 14,
      "metadata": {
        "colab": {
          "base_uri": "https://localhost:8080/"
        },
        "id": "z070W6onaUja",
        "outputId": "cf886dc9-c196-41d4-db8b-20e3dc90db8f"
      },
      "outputs": [
        {
          "name": "stdout",
          "output_type": "stream",
          "text": [
            "+------------------------+----------+\n",
            "|text                    |result    |\n",
            "+------------------------+----------+\n",
            "|I love you!             |[POSITIVE]|\n",
            "|I feel lucky to be here.|[POSITIVE]|\n",
            "|I hate her!             |[NEGATIVE]|\n",
            "+------------------------+----------+\n",
            "\n"
          ]
        }
      ],
      "source": [
        "from pyspark.ml import Pipeline\n",
        "from sparknlp.base import DocumentAssembler\n",
        "from sparknlp.annotator import Tokenizer\n",
        "\n",
        "document_assembler = DocumentAssembler() \\\n",
        "    .setInputCol('text') \\\n",
        "    .setOutputCol('document')\n",
        "\n",
        "tokenizer = Tokenizer() \\\n",
        "    .setInputCols(['document']) \\\n",
        "    .setOutputCol('token')\n",
        "\n",
        "pipeline = Pipeline(stages=[\n",
        "    document_assembler,\n",
        "    tokenizer,\n",
        "    sequenceClassifier_loaded\n",
        "])\n",
        "\n",
        "example = spark.createDataFrame([\n",
        "    [\"I love you!\"],\n",
        "    [\"I feel lucky to be here.\"],\n",
        "    [\"I hate her!\"]\n",
        "]).toDF(\"text\")\n",
        "\n",
        "result = pipeline.fit(example).transform(example)\n",
        "result.select(\"text\", \"class.result\").show(truncate=False)"
      ]
    },
    {
      "cell_type": "markdown",
      "metadata": {
        "id": "1rBZIlVvZdSl"
      },
      "source": [
        "That's it! You can now go wild and use hundreds of `DistlBertForSequenceClassification` models from HuggingFace 🤗 in Spark NLP 🚀\n"
      ]
    }
  ],
  "metadata": {
    "colab": {
      "provenance": []
    },
    "kernelspec": {
      "display_name": "Python 3 (ipykernel)",
      "language": "python",
      "name": "python3"
    },
    "language_info": {
      "codemirror_mode": {
        "name": "ipython",
        "version": 3
      },
      "file_extension": ".py",
      "mimetype": "text/x-python",
      "name": "python",
      "nbconvert_exporter": "python",
      "pygments_lexer": "ipython3"
    }
  },
  "nbformat": 4,
  "nbformat_minor": 0
}
