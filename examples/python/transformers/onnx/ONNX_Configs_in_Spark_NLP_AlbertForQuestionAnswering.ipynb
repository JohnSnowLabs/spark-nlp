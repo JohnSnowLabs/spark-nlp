{
  "cells": [
    {
      "cell_type": "markdown",
      "metadata": {
        "id": "t7EdsIlSfjwS"
      },
      "source": [
        "![JohnSnowLabs](https://sparknlp.org/assets/images/logo.png)\n",
        "\n",
        "[![Open In Colab](https://colab.research.google.com/assets/colab-badge.svg)](https://colab.research.google.com/github/JohnSnowLabs/spark-nlp/blob/master/examples/python/transformers/onnx/ONNX_Configs_in_Spark_NLP_AlbertForQuestionAnswering.ipynb)"
      ]
    },
    {
      "cell_type": "markdown",
      "metadata": {
        "id": "hEdSqulofjwX"
      },
      "source": [
        "## Setting ONNX configs in SparkNLP"
      ]
    },
    {
      "cell_type": "markdown",
      "metadata": {
        "id": "8R-MTezCfjwY"
      },
      "source": [
        "Starting from Spark NLP 5.1.2, you can configure ONNX-related settings within your Spark session. This allows you to fine-tune the behavior of the ONNX engine for your specific needs."
      ]
    },
    {
      "cell_type": "markdown",
      "metadata": {
        "id": "t4qNlqRbfjwZ"
      },
      "source": [
        "Here are the available options for CPU:\n",
        "\n",
        "- **intraOpNumThreads**: This setting, `spark.jsl.settings.onnx.intraOpNumThreads`, controls the number of threads used for intra-operation parallelism when executing ONNX models. You can set this value to optimize the performance of ONNX execution. To understand how this affects your ONNX tasks, refer to the ONNX documentation.\n",
        "\n",
        "- **optimizationLevel**: Use `spark.jsl.settings.onnx.optimizationLevel` to specify the optimization level for ONNX execution. This setting influences how aggressively Spark NLP optimizes the execution of ONNX models. Explore the available options to determine which level suits your workload best in [this ONNX documentation]((https://onnxruntime.ai/docs/api/java/ai/onnxruntime/OrtSession.SessionOptions.OptLevel.html)).\n",
        "\n",
        "- **executionMode**: With `spark.jsl.settings.onnx.executionMode`, you can choose the execution mode for ONNX models. Different modes may offer trade-offs between performance and resource utilization. Review the available options to select the mode that aligns with your requirements in [this ONNX documentation]((https://onnxruntime.ai/docs/api/java/ai/onnxruntime/OrtSession.SessionOptions.ExecutionMode.html))\n"
      ]
    },
    {
      "cell_type": "markdown",
      "metadata": {
        "id": "RWB5JYTAfjwa"
      },
      "source": [
        "Here are the available options for CUDA:\n",
        "\n",
        "- **gpuDeviceId**: Use `spark.jsl.settings.onnx.gpuDeviceId` to define the GPU device to execute on"
      ]
    },
    {
      "cell_type": "markdown",
      "metadata": {
        "id": "-sL3iNVufjwb"
      },
      "source": [
        "To find more information and detailed usage instructions for these ONNX configuration options, refer to the [ONNX API documentation](https://onnxruntime.ai/docs/api/)."
      ]
    },
    {
      "cell_type": "code",
      "execution_count": 1,
      "metadata": {
        "id": "7kDDuJs5fjwb"
      },
      "outputs": [],
      "source": [
        "# Let's set our config based on our needs:\n",
        "onnx_params = {\n",
        "    \"spark.jsl.settings.onnx.intraOpNumThreads\": \"5\",\n",
        "    \"spark.jsl.settings.onnx.optimizationLevel\": \"BASIC_OPT\",\n",
        "    \"spark.jsl.settings.onnx.executionMode\": \"SEQUENTIAL\"\n",
        "}"
      ]
    },
    {
      "cell_type": "markdown",
      "metadata": {
        "id": "BL8Glgksfjwd"
      },
      "source": [
        "## Import AlbertForQuestionAnswering models from HuggingFace 🤗 into Spark NLP 🚀\n",
        "\n",
        "Let's keep in mind a few things before we start 😊\n",
        "\n",
        "- ONNX support was introduced in  `Spark NLP 5.0.0`, enabling high performance inference for models.\n",
        "- `AlbertForQuestionAnswering` is only available since in `Spark NLP 5.1.1` and after. So please make sure you have upgraded to the latest Spark NLP release\n",
        "- You can import ALBERT models trained/fine-tuned for question answering via `AlbertForQuestionAnswering`. These models are usually under `Question Answering` category and have `albert` in their labels\n",
        "- Reference: [TFAlbertForQuestionAnswering](https://huggingface.co/transformers/model_doc/albert#transformers.TFAlbertForQuestionAnswering)\n",
        "- Some [example models](https://huggingface.co/models?filter=albert&pipeline_tag=question-answering)"
      ]
    },
    {
      "cell_type": "markdown",
      "metadata": {
        "id": "UZlBlukYfjwe"
      },
      "source": [
        "## Export and Save HuggingFace model"
      ]
    },
    {
      "cell_type": "markdown",
      "metadata": {
        "id": "fP0hkH-mfjwf"
      },
      "source": [
        "- Let's install `transformers` package with the `onnx` extension and it's dependencies. You don't need `onnx` to be installed for Spark NLP, however, we need it to load and save models from HuggingFace.\n",
        "- We lock `transformers` on version `4.52.3`. This doesn't mean it won't work with the future releases, but we wanted you to know which versions have been tested successfully.\n",
        "- Albert uses SentencePiece, so we will have to install that as well"
      ]
    },
    {
      "cell_type": "code",
      "execution_count": null,
      "metadata": {
        "colab": {
          "base_uri": "https://localhost:8080/"
        },
        "id": "QgftXgrmfjwf",
        "outputId": "64a48b9d-595d-4e0e-961d-b5ed2a73956e"
      },
      "outputs": [],
      "source": [
        "!pip install -q --upgrade transformers[onnx]==4.52.3 optimum onnx"
      ]
    },
    {
      "cell_type": "markdown",
      "metadata": {
        "id": "LLHQX4k9fjwg"
      },
      "source": [
        "- HuggingFace has an extension called Optimum which offers specialized model inference, including ONNX. We can use this to import and export ONNX models with `from_pretrained` and `save_pretrained`.\n",
        "- We'll use [twmkn9/albert-base-v2-squad2](https://huggingface.co/twmkn9/albert-base-v2-squad2) model from HuggingFace as an example and load it as a `ORTModelForQuestionAnswering`, representing an ONNX model.\n",
        "- In addition to the ALBERT model, we also need to save the `AlbertTokenizer`. This is the same for every model, these are assets (saved in `/assets`) needed for tokenization inside Spark NLP."
      ]
    },
    {
      "cell_type": "code",
      "execution_count": 13,
      "metadata": {
        "colab": {
          "base_uri": "https://localhost:8080/",
          "height": 472,
          "referenced_widgets": [
            "776d49542cbd440a9dc979355c0cac63",
            "9785e006109d4a9a9643e20f3ac278b3",
            "c5e301c497dc42f992d2fd1f820d3b70",
            "e2056ce2defc4d7a80d8dae87db91827",
            "bc2c55820a254d4894f6093445404f86",
            "0082a1a59fde4f698d51050251651dea",
            "c4c7b27221a14d11abc7ef9be6164e55",
            "a79b7fbb4df2451ebf374d700c2aa34b",
            "4c6d1f58e30c4234bd03b2389b1350ef",
            "ed458e3fd92144a4abe03a4e22c1a842",
            "f639eb4b463744feb5c5e12a5ecc9177",
            "889e2694079e4035b33b938b80289586",
            "6210eba080aa419ea979249101f3c8e8",
            "2d8fd64c4d9947d19275fb09f337fa76",
            "dfff81235975489980f34cbc37e7aff3",
            "b0f4f1d3fc8142fe85e4bfd664d97486",
            "ccfde083710c49c3929acf4d1fae18ce",
            "da74dbe151724bff810936a8a4799565",
            "aed540bf730044adad111498919a8fdc",
            "94f24df5d51e490fb12f74b49124cf83",
            "99423864382f4a5bbb34b57e343d6d84",
            "690b9918c3c54115857d5c0f015c998f",
            "8f44f01723534f3b929bde70fec16029",
            "aa72d9206c3b4290be1c5b7c6a4c9b00",
            "27ae7b81389142beafa20e4c10d05a7c",
            "696501a724f0478da2fbbcff3ff71ca6",
            "bfcd688a98604a5f8452663760f5705b",
            "b38b34e7147d42b6b9429be4a012d59e",
            "99b037b855ba4424a38b0787bbba3ccf",
            "e9e6d175a36748b9a0ecc4f896859e31",
            "03988d71ff204eafba845e06ae039f81",
            "9167f6d952fc43b785e187918dce47a8",
            "d3dfb8d63d02441caf3f492de1fbf849",
            "001f3171f3954786bc2d090b56019ce9",
            "df5335d3f75a4ea39f66f5e1e060f9de",
            "0a64fc8a748d447f88decac58534928f",
            "bab3d0a3ea68419d95e11121c730334e",
            "b20d643e393e4ec6a4e05c70560a5a91",
            "68e7b6fde1a945db9731dc198a66f140",
            "f7ec6ba5a9a948b09a458bf135b0b3eb",
            "0e19b7ba52d448fca9e503b6b5a159da",
            "f6ea6b29c85a4dd19e834d3c82e1da30",
            "4818346341b44fdab013ef16a14269cc",
            "c981294561754747b312faeb819b82f9",
            "03f4faff2ce5465ab9bb2d68300efe51",
            "74ded1c640034b35b70dfbcede05f3d5",
            "eb67753bb3294209a78a96d0776cd47f",
            "68e6f9d786b64c4981979aa4aa154c1e",
            "5d16e68050d04f52ba2570a72865bff4",
            "636228838d5842a0b93c5e5010f092af",
            "000ac080efe240408fdd265959d4fb0f",
            "cf3c55518e7541f992769970c2e6f6a8",
            "d39cbed6f0ca4bdca03f40b5feb44f2a",
            "bd94fea096fd4f0db51f4d9411e045a8",
            "c8033b5a2b514d2db93cdb8b5330f75c",
            "89eeae6389cf451f9eb10dbc7347e57d",
            "4ee7896f63cb4b90acf99731865a152c",
            "d18671245d344faeb211f5cd3be3c7b3",
            "cffbacda0c5e456ab0637843dd640321",
            "1a431934880342e2a310a00374d0dbd8",
            "fa14d41765914137bcbbf1691820e376",
            "8e7871607d9a4a4594c956e16b8dd3cb",
            "47e2b5e2ede24c6fa6594cf5571308f3",
            "19b1a547930247e38549699cd1fb5220",
            "8bf75708af7d45bf9a4c3ea6510f0c56",
            "48fbf8cee727427d943a49e782f672b0"
          ]
        },
        "id": "vAnUc6SaA2PE",
        "outputId": "2ac3cb76-1e9c-4b53-af50-8cfc0085641c"
      },
      "outputs": [
        {
          "name": "stderr",
          "output_type": "stream",
          "text": [
            "/usr/local/lib/python3.11/dist-packages/huggingface_hub/utils/_auth.py:94: UserWarning: \n",
            "The secret `HF_TOKEN` does not exist in your Colab secrets.\n",
            "To authenticate with the Hugging Face Hub, create a token in your settings tab (https://huggingface.co/settings/tokens), set it as secret in your Google Colab and restart your session.\n",
            "You will be able to reuse this secret in all of your notebooks.\n",
            "Please note that authentication is recommended but still optional to access public models or datasets.\n",
            "  warnings.warn(\n"
          ]
        },
        {
          "data": {
            "application/vnd.jupyter.widget-view+json": {
              "model_id": "776d49542cbd440a9dc979355c0cac63",
              "version_major": 2,
              "version_minor": 0
            },
            "text/plain": [
              "config.json:   0%|          | 0.00/716 [00:00<?, ?B/s]"
            ]
          },
          "metadata": {},
          "output_type": "display_data"
        },
        {
          "data": {
            "application/vnd.jupyter.widget-view+json": {
              "model_id": "889e2694079e4035b33b938b80289586",
              "version_major": 2,
              "version_minor": 0
            },
            "text/plain": [
              "pytorch_model.bin:   0%|          | 0.00/46.7M [00:00<?, ?B/s]"
            ]
          },
          "metadata": {},
          "output_type": "display_data"
        },
        {
          "name": "stderr",
          "output_type": "stream",
          "text": [
            "Some weights of the model checkpoint at twmkn9/albert-base-v2-squad2 were not used when initializing AlbertForQuestionAnswering: ['albert.pooler.bias', 'albert.pooler.weight']\n",
            "- This IS expected if you are initializing AlbertForQuestionAnswering from the checkpoint of a model trained on another task or with another architecture (e.g. initializing a BertForSequenceClassification model from a BertForPreTraining model).\n",
            "- This IS NOT expected if you are initializing AlbertForQuestionAnswering from the checkpoint of a model that you expect to be exactly identical (initializing a BertForSequenceClassification model from a BertForSequenceClassification model).\n"
          ]
        },
        {
          "data": {
            "application/vnd.jupyter.widget-view+json": {
              "model_id": "8f44f01723534f3b929bde70fec16029",
              "version_major": 2,
              "version_minor": 0
            },
            "text/plain": [
              "tokenizer_config.json:   0%|          | 0.00/39.0 [00:00<?, ?B/s]"
            ]
          },
          "metadata": {},
          "output_type": "display_data"
        },
        {
          "data": {
            "application/vnd.jupyter.widget-view+json": {
              "model_id": "001f3171f3954786bc2d090b56019ce9",
              "version_major": 2,
              "version_minor": 0
            },
            "text/plain": [
              "model.safetensors:   0%|          | 0.00/46.7M [00:00<?, ?B/s]"
            ]
          },
          "metadata": {},
          "output_type": "display_data"
        },
        {
          "data": {
            "application/vnd.jupyter.widget-view+json": {
              "model_id": "03f4faff2ce5465ab9bb2d68300efe51",
              "version_major": 2,
              "version_minor": 0
            },
            "text/plain": [
              "spiece.model:   0%|          | 0.00/760k [00:00<?, ?B/s]"
            ]
          },
          "metadata": {},
          "output_type": "display_data"
        },
        {
          "data": {
            "application/vnd.jupyter.widget-view+json": {
              "model_id": "89eeae6389cf451f9eb10dbc7347e57d",
              "version_major": 2,
              "version_minor": 0
            },
            "text/plain": [
              "special_tokens_map.json:   0%|          | 0.00/156 [00:00<?, ?B/s]"
            ]
          },
          "metadata": {},
          "output_type": "display_data"
        },
        {
          "data": {
            "text/plain": [
              "('onnx_models/twmkn9/albert-base-v2-squad2/tokenizer_config.json',\n",
              " 'onnx_models/twmkn9/albert-base-v2-squad2/special_tokens_map.json',\n",
              " 'onnx_models/twmkn9/albert-base-v2-squad2/spiece.model',\n",
              " 'onnx_models/twmkn9/albert-base-v2-squad2/added_tokens.json',\n",
              " 'onnx_models/twmkn9/albert-base-v2-squad2/tokenizer.json')"
            ]
          },
          "execution_count": 13,
          "metadata": {},
          "output_type": "execute_result"
        }
      ],
      "source": [
        "from transformers import AutoTokenizer\n",
        "from optimum.onnxruntime import ORTModelForQuestionAnswering\n",
        "\n",
        "MODEL_NAME = \"twmkn9/albert-base-v2-squad2\"\n",
        "EXPORT_PATH = f\"onnx_models/{MODEL_NAME}\"\n",
        "\n",
        "ort_model = ORTModelForQuestionAnswering.from_pretrained(MODEL_NAME, export=True)\n",
        "ort_model.save_pretrained(EXPORT_PATH)\n",
        "\n",
        "tokenizer = AutoTokenizer.from_pretrained(MODEL_NAME)\n",
        "tokenizer.save_pretrained(EXPORT_PATH)"
      ]
    },
    {
      "cell_type": "markdown",
      "metadata": {
        "id": "41-0w9Hcfjwh"
      },
      "source": [
        "Let's have a look inside these two directories and see what we are dealing with:"
      ]
    },
    {
      "cell_type": "code",
      "execution_count": 14,
      "metadata": {
        "colab": {
          "base_uri": "https://localhost:8080/"
        },
        "id": "WeZbL4V1fjwh",
        "outputId": "fa533b60-6729-45e0-f450-289684656706"
      },
      "outputs": [
        {
          "name": "stdout",
          "output_type": "stream",
          "text": [
            "total 46752\n",
            "-rw-r--r-- 1 root root      793 Jun 17 22:30 config.json\n",
            "-rw-r--r-- 1 root root 44817937 Jun 17 22:30 model.onnx\n",
            "-rw-r--r-- 1 root root      286 Jun 17 22:30 special_tokens_map.json\n",
            "-rw-r--r-- 1 root root   760289 Jun 17 22:30 spiece.model\n",
            "-rw-r--r-- 1 root root     2616 Jun 17 22:30 tokenizer_config.json\n",
            "-rw-r--r-- 1 root root  2275547 Jun 17 22:30 tokenizer.json\n"
          ]
        }
      ],
      "source": [
        "!ls -l {EXPORT_PATH}"
      ]
    },
    {
      "cell_type": "markdown",
      "metadata": {
        "id": "UpTIOxaYfjwh"
      },
      "source": [
        "- As you can see, we need to move `spiece.model` from the tokenizer to `assets` folder which Spark NLP will look for"
      ]
    },
    {
      "cell_type": "code",
      "execution_count": 15,
      "metadata": {
        "id": "JYG8Co8wfjwh"
      },
      "outputs": [],
      "source": [
        "!mkdir {EXPORT_PATH}/assets"
      ]
    },
    {
      "cell_type": "code",
      "execution_count": 16,
      "metadata": {
        "id": "zDDPq5Sifjwh"
      },
      "outputs": [],
      "source": [
        "!mv {EXPORT_PATH}/spiece.model {EXPORT_PATH}/assets"
      ]
    },
    {
      "cell_type": "markdown",
      "metadata": {
        "id": "8F-svPwRfjwi"
      },
      "source": [
        "Voila! We have our `spiece.model` inside assets directory"
      ]
    },
    {
      "cell_type": "code",
      "execution_count": 17,
      "metadata": {
        "colab": {
          "base_uri": "https://localhost:8080/"
        },
        "id": "yqneczexfjwi",
        "outputId": "cbaace30-f01e-40da-b0ef-aa01414cc37f"
      },
      "outputs": [
        {
          "name": "stdout",
          "output_type": "stream",
          "text": [
            "onnx_models/twmkn9/albert-base-v2-squad2:\n",
            "total 46012\n",
            "drwxr-xr-x 2 root root     4096 Jun 17 22:30 assets\n",
            "-rw-r--r-- 1 root root      793 Jun 17 22:30 config.json\n",
            "-rw-r--r-- 1 root root 44817937 Jun 17 22:30 model.onnx\n",
            "-rw-r--r-- 1 root root      286 Jun 17 22:30 special_tokens_map.json\n",
            "-rw-r--r-- 1 root root     2616 Jun 17 22:30 tokenizer_config.json\n",
            "-rw-r--r-- 1 root root  2275547 Jun 17 22:30 tokenizer.json\n",
            "\n",
            "onnx_models/twmkn9/albert-base-v2-squad2/assets:\n",
            "total 744\n",
            "-rw-r--r-- 1 root root 760289 Jun 17 22:30 spiece.model\n"
          ]
        }
      ],
      "source": [
        "!ls -lR {EXPORT_PATH}"
      ]
    },
    {
      "cell_type": "markdown",
      "metadata": {
        "id": "0oQyv1E4fjwi"
      },
      "source": [
        "## Import and Save AlbertForQuestionAnswering in Spark NLP\n"
      ]
    },
    {
      "cell_type": "markdown",
      "metadata": {
        "id": "oXm_5eyQfjwj"
      },
      "source": [
        "- Install and set up Spark NLP in Google Colab\n",
        "- This example uses specific versions of `pyspark` and `spark-nlp` that have been tested with the transformer model to ensure everything runs smoothly."
      ]
    },
    {
      "cell_type": "code",
      "execution_count": 8,
      "metadata": {
        "colab": {
          "base_uri": "https://localhost:8080/"
        },
        "id": "RtIA6s5nfjwk",
        "outputId": "1e4fd28c-b7ba-4348-b144-b8e89c961768"
      },
      "outputs": [
        {
          "name": "stdout",
          "output_type": "stream",
          "text": [
            "\u001b[2K     \u001b[90m━━━━━━━━━━━━━━━━━━━━━━━━━━━━━━━━━━━━━━━\u001b[0m \u001b[32m317.3/317.3 MB\u001b[0m \u001b[31m5.2 MB/s\u001b[0m eta \u001b[36m0:00:00\u001b[0m\n",
            "\u001b[?25h  Preparing metadata (setup.py) ... \u001b[?25l\u001b[?25hdone\n",
            "\u001b[2K   \u001b[90m━━━━━━━━━━━━━━━━━━━━━━━━━━━━━━━━━━━━━━━━\u001b[0m \u001b[32m635.7/635.7 kB\u001b[0m \u001b[31m40.9 MB/s\u001b[0m eta \u001b[36m0:00:00\u001b[0m\n",
            "\u001b[?25h  Building wheel for pyspark (setup.py) ... \u001b[?25l\u001b[?25hdone\n"
          ]
        }
      ],
      "source": [
        "!pip install -q pyspark==3.5.4 spark-nlp==5.5.3"
      ]
    },
    {
      "cell_type": "markdown",
      "metadata": {
        "id": "vZXhgFiIfjwk"
      },
      "source": [
        "Let's start Spark with Spark NLP included via our simple `start()` function with the ONNX parameters that best fit our needs:"
      ]
    },
    {
      "cell_type": "code",
      "execution_count": 9,
      "metadata": {
        "colab": {
          "base_uri": "https://localhost:8080/"
        },
        "id": "lN5JTYV3fjwk",
        "outputId": "53397e30-74c1-4088-c389-6e7ae169d410"
      },
      "outputs": [
        {
          "name": "stdout",
          "output_type": "stream",
          "text": [
            "Spark NLP version: 5.5.3\n",
            "Apache Spark version: 3.5.4\n"
          ]
        }
      ],
      "source": [
        "import sparknlp\n",
        "\n",
        "spark = sparknlp.start(params=onnx_params)\n",
        "\n",
        "print(\"Spark NLP version: {}\".format(sparknlp.version()))\n",
        "print(\"Apache Spark version: {}\".format(spark.version))"
      ]
    },
    {
      "cell_type": "markdown",
      "metadata": {
        "id": "_ZQjZ7YLfjwk"
      },
      "source": [
        "- Let's use `loadSavedModel` functon in `AlbertForQuestionAnswering` which allows us to load TensorFlow model in SavedModel format\n",
        "- Most params can be set later when you are loading this model in `AlbertForQuestionAnswering` in runtime like `setMaxSentenceLength`, so don't worry what you are setting them now\n",
        "- `loadSavedModel` accepts two params, first is the path to the TF SavedModel. The second is the SparkSession that is `spark` variable we previously started via `sparknlp.start()`\n",
        "- NOTE: `loadSavedModel` accepts local paths in addition to distributed file systems such as `HDFS`, `S3`, `DBFS`, etc. This feature was introduced in Spark NLP 4.2.2 release. Keep in mind the best and recommended way to move/share/reuse Spark NLP models is to use `write.save` so you can use `.load()` from any file systems natively.\n",
        "\n"
      ]
    },
    {
      "cell_type": "code",
      "execution_count": 18,
      "metadata": {
        "id": "wxA83-Bhfjwl"
      },
      "outputs": [],
      "source": [
        "from sparknlp.annotator import AlbertForQuestionAnswering\n",
        "\n",
        "spanClassifier = AlbertForQuestionAnswering.loadSavedModel(\n",
        "     f\"{EXPORT_PATH}\",\n",
        "     spark\n",
        " )\\\n",
        "  .setInputCols([\"document_question\",'document_context'])\\\n",
        "  .setOutputCol(\"answer\")\\\n",
        "  .setCaseSensitive(False)\\\n",
        "  .setMaxSentenceLength(512)"
      ]
    },
    {
      "cell_type": "markdown",
      "metadata": {
        "id": "boIk8cotfjwl"
      },
      "source": [
        "- Let's save it on disk so it is easier to be moved around and also be used later via `.load` function"
      ]
    },
    {
      "cell_type": "code",
      "execution_count": 19,
      "metadata": {
        "id": "64dbEXgJfjwl"
      },
      "outputs": [],
      "source": [
        "spanClassifier.write().overwrite().save(\"./{}_spark_nlp_onnx\".format(MODEL_NAME))"
      ]
    },
    {
      "cell_type": "markdown",
      "metadata": {
        "id": "CIUmeXMQfjwl"
      },
      "source": [
        "Let's clean up stuff we don't need anymore"
      ]
    },
    {
      "cell_type": "code",
      "execution_count": 20,
      "metadata": {
        "id": "RVsoUv-Efjwl"
      },
      "outputs": [],
      "source": [
        "!rm -rf {EXPORT_PATH}"
      ]
    },
    {
      "cell_type": "markdown",
      "metadata": {
        "id": "dybgt0Thfjwl"
      },
      "source": [
        "Awesome 😎  !\n",
        "\n",
        "This is your AlbertForQuestionAnswering model from HuggingFace 🤗  loaded and saved by Spark NLP 🚀"
      ]
    },
    {
      "cell_type": "code",
      "execution_count": 21,
      "metadata": {
        "colab": {
          "base_uri": "https://localhost:8080/"
        },
        "id": "P7ZQUxKMfjwm",
        "outputId": "cbc3743c-f4c3-4e86-b5f4-eddc480469d5"
      },
      "outputs": [
        {
          "name": "stdout",
          "output_type": "stream",
          "text": [
            "total 44524\n",
            "-rw-r--r-- 1 root root 44824911 Jun 17 22:32 albert_classification_onnx\n",
            "-rw-r--r-- 1 root root   760289 Jun 17 22:32 albert_spp\n",
            "drwxr-xr-x 2 root root     4096 Jun 17 22:32 metadata\n"
          ]
        }
      ],
      "source": [
        "! ls -l {MODEL_NAME}_spark_nlp_onnx"
      ]
    },
    {
      "cell_type": "markdown",
      "metadata": {
        "id": "IlHNolfkfjwm"
      },
      "source": [
        "Now let's see how we can use it on other machines, clusters, or any place you wish to use your new and shiny AlbertForQuestionAnswering model in Spark NLP 🚀 pipeline!"
      ]
    },
    {
      "cell_type": "code",
      "execution_count": 22,
      "metadata": {
        "colab": {
          "base_uri": "https://localhost:8080/"
        },
        "id": "vTz1dNvPfjwm",
        "outputId": "34fa6a4b-bf56-442d-c00a-78a0cd3b10b5"
      },
      "outputs": [
        {
          "name": "stdout",
          "output_type": "stream",
          "text": [
            "+-------+\n",
            "|result |\n",
            "+-------+\n",
            "|[clara]|\n",
            "+-------+\n",
            "\n"
          ]
        }
      ],
      "source": [
        "from sparknlp.base import *\n",
        "from sparknlp.annotator import *\n",
        "from pyspark.ml import Pipeline\n",
        "\n",
        "document_assembler = MultiDocumentAssembler() \\\n",
        "    .setInputCols([\"question\", \"context\"]) \\\n",
        "    .setOutputCols([\"document_question\", \"document_context\"])\n",
        "\n",
        "spanClassifier_loaded = AlbertForQuestionAnswering.load(f\"./{MODEL_NAME}_spark_nlp_onnx\") \\\n",
        "    .setInputCols([\"document_question\", \"document_context\"]) \\\n",
        "    .setOutputCol(\"answer\")\n",
        "\n",
        "pipeline = Pipeline().setStages([\n",
        "    document_assembler,\n",
        "    spanClassifier_loaded\n",
        "])\n",
        "\n",
        "example = spark.createDataFrame([[\n",
        "    \"What's my name?\",\n",
        "    \"My name is Clara and I live in Berkeley.\"\n",
        "]]).toDF(\"question\", \"context\")\n",
        "\n",
        "result = pipeline.fit(example).transform(example)\n",
        "result.select(\"answer.result\").show(1, False)"
      ]
    },
    {
      "cell_type": "markdown",
      "metadata": {
        "id": "Z_Bc00GBfjwn"
      },
      "source": [
        "That's it! You can now go wild and use hundreds of `AlbertForQuestionAnswering` models from HuggingFace 🤗 in Spark NLP 🚀\n"
      ]
    }
  ],
  "metadata": {
    "accelerator": "GPU",
    "colab": {
      "gpuType": "T4",
      "provenance": []
    },
    "kernelspec": {
      "display_name": "Python 3",
      "name": "python3"
    },
    "language_info": {
      "codemirror_mode": {
        "name": "ipython",
        "version": 3
      },
      "file_extension": ".py",
      "mimetype": "text/x-python",
      "name": "python",
      "nbconvert_exporter": "python",
      "pygments_lexer": "ipython3"
    }
  },
  "nbformat": 4,
  "nbformat_minor": 0
}
