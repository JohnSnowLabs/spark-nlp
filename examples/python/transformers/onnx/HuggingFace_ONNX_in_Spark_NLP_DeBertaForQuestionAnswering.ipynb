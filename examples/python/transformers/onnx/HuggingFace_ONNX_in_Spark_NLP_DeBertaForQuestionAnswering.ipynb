{
  "cells": [
    {
      "cell_type": "markdown",
      "metadata": {
        "id": "Ny8jd9Dzt9qL"
      },
      "source": [
        "![JohnSnowLabs](https://sparknlp.org/assets/images/logo.png)\n",
        "\n",
        "[![Open In Colab](https://colab.research.google.com/assets/colab-badge.svg)](https://colab.research.google.com/github/JohnSnowLabs/spark-nlp/blob/master/examples/python/transformers/onnx/HuggingFace_ONNX_in_Spark_NLP_DeBertaForQuestionAnswering.ipynb)"
      ]
    },
    {
      "cell_type": "markdown",
      "metadata": {
        "id": "TvG935d8t9qM"
      },
      "source": [
        "## Import ONNX DeBertaForQuestionAnswering models from HuggingFace 🤗 into Spark NLP 🚀\n",
        "\n",
        "Let's keep in mind a few things before we start 😊\n",
        "\n",
        "- ONNX support was introduced in  `Spark NLP 5.0.0`, enabling high performance inference for models.\n",
        "- `DeBertaForQuestionAnswering` is only available since in `Spark NLP 5.2.1` and after. So please make sure you have upgraded to the latest Spark NLP release\n",
        "- You can import DeBerta models trained/fine-tuned for question answering via `DeBertaForQuestionAnswering` or `TFDeBertaForQuestionAnswering`. These models are usually under `Question Answering` category and have `DeBerta` in their labels\n",
        "- Reference: [TFDeBertaForQuestionAnswering](https://huggingface.co/docs/transformers/model_doc/deberta#transformers.TFDebertaForQuestionAnswering)\n",
        "- Some [example models](https://huggingface.co/models?filter=deberta&pipeline_tag=question-answering)"
      ]
    },
    {
      "cell_type": "markdown",
      "metadata": {
        "id": "spmvYFXmt9qN"
      },
      "source": [
        "## Export and Save HuggingFace model"
      ]
    },
    {
      "cell_type": "markdown",
      "metadata": {
        "id": "SG_AVIPBt9qO"
      },
      "source": [
        "- Let's install `transformers` package with the `onnx` extension and it's dependencies. You don't need `onnx` to be installed for Spark NLP, however, we need it to load and save models from HuggingFace.\n",
        "- We lock `transformers` on version `4.51.3`. This doesn't mean it won't work with the future releases, but we wanted you to know which versions have been tested successfully.\n",
        "- Albert uses SentencePiece, so we will have to install that as well"
      ]
    },
    {
      "cell_type": "code",
      "execution_count": null,
      "metadata": {
        "colab": {
          "base_uri": "https://localhost:8080/"
        },
        "id": "NcCJYmU0t9qO",
        "outputId": "facf2ebd-abbb-4e39-c637-343b20b9dc79"
      },
      "outputs": [],
      "source": [
        "!pip install -q transformers[onnx]==4.51.3 optimum onnx"
      ]
    },
    {
      "cell_type": "markdown",
      "metadata": {
        "id": "H74KVLTxt9qP"
      },
      "source": [
        "- HuggingFace has an extension called Optimum which offers specialized model inference, including ONNX. We can use this to import and export ONNX models.\n",
        "- We'll use [nbroad/deberta-v3-xsmall-squad2](https://huggingface.co/nbroad/deberta-v3-xsmall-squad2) model from HuggingFace as an example and load it as a `ORTModelForQuestionAnswering`, representing an ONNX model.\n",
        "- In addition to the DeBERTa model, we also need to save the tokenizer. This is the same for every model, these are assets (saved in `/assets`) needed for tokenization inside Spark NLP."
      ]
    },
    {
      "cell_type": "code",
      "execution_count": 2,
      "metadata": {
        "colab": {
          "base_uri": "https://localhost:8080/",
          "height": 501,
          "referenced_widgets": [
            "406b1fd0360a441a98125cbd0fa776e7",
            "342bdd77d8574809b7d58e34d622f380",
            "a1a9b157aad640e7b9e17450dd923b18",
            "731baba0d33947519bf6eae27425f1d5",
            "e3bab25260ec457597b9e54fe31889f2",
            "58a135d5d2474f3c8b003e91d56033d3",
            "9f40d929bfca4f428268978984fa2e6f",
            "47cc856e3ccd4040b0ded20e231da0de",
            "c2b175224eff408d9ef4db634676b32e",
            "7ea38563abf34df595f2d98e0ae5e752",
            "41a5ee33f5ce4fcc83a1acee34e0ca9c",
            "6fe6afc69ff64472a52469dcc2953f9d",
            "fd19496481ac40b587e98d5cecaaf621",
            "9f8c563507484e9eac1a132c6b8f539e",
            "27cf68398e094cbfad1ad76b671c3cda",
            "9dd2066a20364c2394d8bc57ba5b57d1",
            "537fbce7a15f45f8b2a03f4272fbeef2",
            "2a7256486a1248a8aa201aba3e9b00f6",
            "c3e51dc989c84edb8b3017dc9e05a98c",
            "9fff84f3393e45c1b7a45858e62d5ee1",
            "eeaff5af2cf94fb081c97155c2008eee",
            "6febee08bf16427495e5442be22c0e53",
            "55ee82447ca54f078308ae1eb7440e2d",
            "b76260abad2449b5935ca895568898c0",
            "4eefb744b674479983112ef578405463",
            "67088c2e6b324f3eace4841a3c12f8d9",
            "93b8ecd524b9409491321339109cff53",
            "7f14bcb4910d475eb128f83d88daca03",
            "978da762f1d54fd1b4a4a9954be5734c",
            "5470e16115bb4e87af3ae2a6acbcbd2f",
            "434a937d3f7a437098df9625500bb685",
            "7821537e6ab64284b06c8a4b93d7af67",
            "a9e72aaea60943f8b9a9401aa3f88614",
            "200e24c34a664b58be4d678e0ff3226f",
            "9c74e94cdb7b42e8934f17a5162851f0",
            "4b2a5a843fc34e138e7f7109e1877ceb",
            "fe07b8e890524ad5b0e3ae977fd78c58",
            "cf346bb31a4542329a5e576e44ca4758",
            "2587271cc6564a298db9ef77dba71da2",
            "933ecbf0f9b046598658d1d95654a99f",
            "98795ad5cbe0419d852eb861cf4dd52f",
            "969c9aa3368a4f03a926285f5d00780a",
            "ab8122d66ced4fe69f8b8befd17b19d0",
            "aadb05a2fa63495182d20906fcc37982",
            "daf2986f4054409690e81442821419d0",
            "0a6884a62d2b406789613587f9c7cf74",
            "2e5ceb0a26d548dcbeb9dff7cd537ce1",
            "2a012b59479943d7837253c28be359ee",
            "ebe7f9cf044c4afc933fe68c4d71ba43",
            "03c8fc7e3c8b4379a680435d4d8c6e95",
            "eb36a031eb294cbd9c9df7aead893883",
            "9666ac13ccd94edda35ca01e3658b78b",
            "eff6b95f518b452c9b1b5ca36822385d",
            "a9911ee75122466e82dc17596d8015ad",
            "64b63841da514f20bd092c88c3f81932",
            "8665529dc0b54f8ea8c1a5ff9cc11afd",
            "ca9a692920e14332af6cd6efbaade659",
            "b654dc0bb7f449fab1a76d0ffa5fe781",
            "4ff317287c5d489cbcd61b89fbeed8f5",
            "ec701c93e01b4980801ff94d8178d3d4",
            "c7147018616c47dd8d6496ecb0e25776",
            "bb66a383890b4cce8645462d9e0423e7",
            "5870f99e625a46338110913152df6917",
            "335e9f1b98a24f93b84981d718d98385",
            "82843eaef98b4a609171950433b9813b",
            "725b1b69b75645c39fa074741458a20a",
            "2b1d8fd199c94cd58cac52f55edeae27",
            "4c8c9160acff459f801a28d2d9d43c11",
            "d42c62843e004a7481980e80f3c572b0",
            "4989a01a6d0e42758f3daae6ac7414e3",
            "4019eeb1af5344619385ce5945413e90",
            "ef24e43a903745c2973824659bd63c2c",
            "1edef83e6d6c4958936cb22899889a9e",
            "1178492a1bda422492d434e43ee32db2",
            "ce2d84caf4be4178839fa64b655ed0cb",
            "4915ad4269104e11b7f48d4356454f2b",
            "d8dfbf1284604a84ab7ac81ea4cba97b",
            "c87059e851c04e58b95edb7e1f5b30a2",
            "6bd1bb04cdad4a7f8a7d10126365bfeb",
            "f32226e45cc847dc87b8e163bc6c00a6",
            "aa6c5dc0b3334974973211a43a8d68cd",
            "36cf656712e54d03b71cfd37b86bdc18",
            "5afb8d7c40fb4a8a988a590a2932ec90",
            "eb4e81db5fbe4926986746561f361e1c",
            "4d1ce2d08d3d4878b84a46e1f6c50120",
            "0f58bbc8c99042928ba6dfa3e43988be",
            "38fbb162718b4aa2868e851f7024ed28",
            "c16d06ba92c54b9b8118cf4f597042ee"
          ]
        },
        "id": "HroIC9Cct9qP",
        "outputId": "d7d3f9f5-1f68-4fc5-c6de-c2633e24d865"
      },
      "outputs": [
        {
          "name": "stderr",
          "output_type": "stream",
          "text": [
            "/usr/local/lib/python3.11/dist-packages/huggingface_hub/utils/_auth.py:94: UserWarning: \n",
            "The secret `HF_TOKEN` does not exist in your Colab secrets.\n",
            "To authenticate with the Hugging Face Hub, create a token in your settings tab (https://huggingface.co/settings/tokens), set it as secret in your Google Colab and restart your session.\n",
            "You will be able to reuse this secret in all of your notebooks.\n",
            "Please note that authentication is recommended but still optional to access public models or datasets.\n",
            "  warnings.warn(\n"
          ]
        },
        {
          "data": {
            "application/vnd.jupyter.widget-view+json": {
              "model_id": "406b1fd0360a441a98125cbd0fa776e7",
              "version_major": 2,
              "version_minor": 0
            },
            "text/plain": [
              "config.json:   0%|          | 0.00/884 [00:00<?, ?B/s]"
            ]
          },
          "metadata": {},
          "output_type": "display_data"
        },
        {
          "data": {
            "application/vnd.jupyter.widget-view+json": {
              "model_id": "6fe6afc69ff64472a52469dcc2953f9d",
              "version_major": 2,
              "version_minor": 0
            },
            "text/plain": [
              "pytorch_model.bin:   0%|          | 0.00/283M [00:00<?, ?B/s]"
            ]
          },
          "metadata": {},
          "output_type": "display_data"
        },
        {
          "data": {
            "application/vnd.jupyter.widget-view+json": {
              "model_id": "55ee82447ca54f078308ae1eb7440e2d",
              "version_major": 2,
              "version_minor": 0
            },
            "text/plain": [
              "tokenizer_config.json:   0%|          | 0.00/394 [00:00<?, ?B/s]"
            ]
          },
          "metadata": {},
          "output_type": "display_data"
        },
        {
          "data": {
            "application/vnd.jupyter.widget-view+json": {
              "model_id": "200e24c34a664b58be4d678e0ff3226f",
              "version_major": 2,
              "version_minor": 0
            },
            "text/plain": [
              "spm.model:   0%|          | 0.00/2.46M [00:00<?, ?B/s]"
            ]
          },
          "metadata": {},
          "output_type": "display_data"
        },
        {
          "data": {
            "application/vnd.jupyter.widget-view+json": {
              "model_id": "daf2986f4054409690e81442821419d0",
              "version_major": 2,
              "version_minor": 0
            },
            "text/plain": [
              "tokenizer.json:   0%|          | 0.00/8.66M [00:00<?, ?B/s]"
            ]
          },
          "metadata": {},
          "output_type": "display_data"
        },
        {
          "data": {
            "application/vnd.jupyter.widget-view+json": {
              "model_id": "8665529dc0b54f8ea8c1a5ff9cc11afd",
              "version_major": 2,
              "version_minor": 0
            },
            "text/plain": [
              "model.safetensors:   0%|          | 0.00/283M [00:00<?, ?B/s]"
            ]
          },
          "metadata": {},
          "output_type": "display_data"
        },
        {
          "data": {
            "application/vnd.jupyter.widget-view+json": {
              "model_id": "2b1d8fd199c94cd58cac52f55edeae27",
              "version_major": 2,
              "version_minor": 0
            },
            "text/plain": [
              "added_tokens.json:   0%|          | 0.00/18.0 [00:00<?, ?B/s]"
            ]
          },
          "metadata": {},
          "output_type": "display_data"
        },
        {
          "data": {
            "application/vnd.jupyter.widget-view+json": {
              "model_id": "c87059e851c04e58b95edb7e1f5b30a2",
              "version_major": 2,
              "version_minor": 0
            },
            "text/plain": [
              "special_tokens_map.json:   0%|          | 0.00/156 [00:00<?, ?B/s]"
            ]
          },
          "metadata": {},
          "output_type": "display_data"
        },
        {
          "name": "stderr",
          "output_type": "stream",
          "text": [
            "/usr/local/lib/python3.11/dist-packages/transformers/convert_slow_tokenizer.py:559: UserWarning: The sentencepiece tokenizer that you are converting to a fast tokenizer uses the byte fallback option which is not implemented in the fast tokenizers. In practice this means that the fast version of the tokenizer can produce unknown tokens whereas the sentencepiece version would have converted these unknown tokens into a sequence of byte tokens matching the original piece of text.\n",
            "  warnings.warn(\n"
          ]
        },
        {
          "data": {
            "text/plain": [
              "('onnx_models/nbroad/deberta-v3-xsmall-squad2/tokenizer_config.json',\n",
              " 'onnx_models/nbroad/deberta-v3-xsmall-squad2/special_tokens_map.json',\n",
              " 'onnx_models/nbroad/deberta-v3-xsmall-squad2/spm.model',\n",
              " 'onnx_models/nbroad/deberta-v3-xsmall-squad2/added_tokens.json')"
            ]
          },
          "execution_count": 2,
          "metadata": {},
          "output_type": "execute_result"
        }
      ],
      "source": [
        "from transformers import DebertaV2Tokenizer\n",
        "from optimum.onnxruntime import ORTModelForQuestionAnswering\n",
        "\n",
        "MODEL_NAME = 'nbroad/deberta-v3-xsmall-squad2'\n",
        "ONNX_MODEL = f\"onnx_models/{MODEL_NAME}\"\n",
        "\n",
        "ort_model = ORTModelForQuestionAnswering.from_pretrained(MODEL_NAME, export=True)\n",
        "ort_model.save_pretrained(ONNX_MODEL)\n",
        "\n",
        "tokenizer = DebertaV2Tokenizer.from_pretrained(MODEL_NAME)\n",
        "tokenizer.save_pretrained(ONNX_MODEL)"
      ]
    },
    {
      "cell_type": "markdown",
      "metadata": {
        "id": "TyTY_bvgt9qP"
      },
      "source": [
        "Let's have a look inside these two directories and see what we are dealing with:"
      ]
    },
    {
      "cell_type": "code",
      "execution_count": 3,
      "metadata": {
        "colab": {
          "base_uri": "https://localhost:8080/"
        },
        "id": "JPnKuxxBt9qQ",
        "outputId": "63893c3e-3aa9-4254-a374-65f573b574f9"
      },
      "outputs": [
        {
          "name": "stdout",
          "output_type": "stream",
          "text": [
            "total 279388\n",
            "-rw-r--r-- 1 root root        23 Jun 11 22:39 added_tokens.json\n",
            "-rw-r--r-- 1 root root       844 Jun 11 22:39 config.json\n",
            "-rw-r--r-- 1 root root 283607260 Jun 11 22:39 model.onnx\n",
            "-rw-r--r-- 1 root root       971 Jun 11 22:39 special_tokens_map.json\n",
            "-rw-r--r-- 1 root root   2464616 Jun 11 22:39 spm.model\n",
            "-rw-r--r-- 1 root root      1316 Jun 11 22:39 tokenizer_config.json\n"
          ]
        }
      ],
      "source": [
        "!ls -l {ONNX_MODEL}"
      ]
    },
    {
      "cell_type": "markdown",
      "metadata": {
        "id": "QSRyA2k1t9qQ"
      },
      "source": [
        "- We need to move `spm.model` from the tokenizer to `assets` folder which Spark NLP will look for"
      ]
    },
    {
      "cell_type": "code",
      "execution_count": 4,
      "metadata": {
        "id": "Xz9q9NPWt9qQ"
      },
      "outputs": [],
      "source": [
        "!mkdir {ONNX_MODEL}/assets && mv {ONNX_MODEL}/spm.model {ONNX_MODEL}/assets"
      ]
    },
    {
      "cell_type": "code",
      "execution_count": 5,
      "metadata": {
        "colab": {
          "base_uri": "https://localhost:8080/"
        },
        "id": "ka7bFipCt9qR",
        "outputId": "06c055b2-394f-4120-f4f5-01f95a297d9b"
      },
      "outputs": [
        {
          "name": "stdout",
          "output_type": "stream",
          "text": [
            "onnx_models/nbroad/deberta-v3-xsmall-squad2:\n",
            "total 276984\n",
            "-rw-r--r-- 1 root root        23 Jun 11 22:39 added_tokens.json\n",
            "drwxr-xr-x 2 root root      4096 Jun 11 22:39 assets\n",
            "-rw-r--r-- 1 root root       844 Jun 11 22:39 config.json\n",
            "-rw-r--r-- 1 root root 283607260 Jun 11 22:39 model.onnx\n",
            "-rw-r--r-- 1 root root       971 Jun 11 22:39 special_tokens_map.json\n",
            "-rw-r--r-- 1 root root      1316 Jun 11 22:39 tokenizer_config.json\n",
            "\n",
            "onnx_models/nbroad/deberta-v3-xsmall-squad2/assets:\n",
            "total 2408\n",
            "-rw-r--r-- 1 root root 2464616 Jun 11 22:39 spm.model\n"
          ]
        }
      ],
      "source": [
        "!ls -lR {ONNX_MODEL}"
      ]
    },
    {
      "cell_type": "markdown",
      "metadata": {
        "id": "WEYIo8Fdt9qR"
      },
      "source": [
        "Voila! We have our `spm.model` inside assets directory"
      ]
    },
    {
      "cell_type": "markdown",
      "metadata": {
        "id": "MtiW1qaXt9qR"
      },
      "source": [
        "## Import and Save DeBertaForQuestionAnswering in Spark NLP\n"
      ]
    },
    {
      "cell_type": "markdown",
      "metadata": {
        "id": "uckJUOAyt9qR"
      },
      "source": [
        "- Let's install and setup Spark NLP in Google Colab.\n",
        "- For this example we'll use specific versions of `pyspark` and `spark-nlp` that we've already tested with this transformer model to make sure everything runs smoothly."
      ]
    },
    {
      "cell_type": "code",
      "execution_count": 6,
      "metadata": {
        "colab": {
          "base_uri": "https://localhost:8080/"
        },
        "id": "CH7Y-IICt9qR",
        "outputId": "f7fcacc9-99d1-414c-e86e-73670056cea8"
      },
      "outputs": [
        {
          "name": "stdout",
          "output_type": "stream",
          "text": [
            "\u001b[2K     \u001b[90m━━━━━━━━━━━━━━━━━━━━━━━━━━━━━━━━━━━━━━━\u001b[0m \u001b[32m317.3/317.3 MB\u001b[0m \u001b[31m4.3 MB/s\u001b[0m eta \u001b[36m0:00:00\u001b[0m\n",
            "\u001b[?25h  Preparing metadata (setup.py) ... \u001b[?25l\u001b[?25hdone\n",
            "\u001b[2K   \u001b[90m━━━━━━━━━━━━━━━━━━━━━━━━━━━━━━━━━━━━━━━━\u001b[0m \u001b[32m635.7/635.7 kB\u001b[0m \u001b[31m26.7 MB/s\u001b[0m eta \u001b[36m0:00:00\u001b[0m\n",
            "\u001b[?25h  Building wheel for pyspark (setup.py) ... \u001b[?25l\u001b[?25hdone\n"
          ]
        }
      ],
      "source": [
        "!pip install -q pyspark==3.5.4 spark-nlp==5.5.3"
      ]
    },
    {
      "cell_type": "markdown",
      "metadata": {
        "id": "WpTX2Kj6t9qR"
      },
      "source": [
        "Let's start Spark with Spark NLP included via our simple `start()` function"
      ]
    },
    {
      "cell_type": "code",
      "execution_count": 7,
      "metadata": {
        "colab": {
          "base_uri": "https://localhost:8080/"
        },
        "id": "oMc8PBMLt9qS",
        "outputId": "ea2cab82-831e-4088-c5bb-5dd5731bec80"
      },
      "outputs": [
        {
          "name": "stdout",
          "output_type": "stream",
          "text": [
            "Spark NLP version:  5.5.3\n",
            "Apache Spark version:  3.5.4\n"
          ]
        }
      ],
      "source": [
        "import sparknlp\n",
        "\n",
        "spark = sparknlp.start()\n",
        "\n",
        "print(\"Spark NLP version: \", sparknlp.version())\n",
        "print(\"Apache Spark version: \", spark.version)"
      ]
    },
    {
      "cell_type": "markdown",
      "metadata": {
        "id": "Xakj2s4St9qS"
      },
      "source": [
        "- Let's use `loadSavedModel` functon in `DeBertaForQuestionAnswering` which allows us to load TensorFlow model in SavedModel format\n",
        "- Most params can be set later when you are loading this model in `DeBertaForQuestionAnswering` in runtime like `setMaxSentenceLength`, so don't worry what you are setting them now\n",
        "- `loadSavedModel` accepts two params, first is the path to the TF SavedModel. The second is the SparkSession that is `spark` variable we previously started via `sparknlp.start()`\n",
        "- NOTE: `loadSavedModel` accepts local paths in addition to distributed file systems such as `HDFS`, `S3`, `DBFS`, etc. This feature was introduced in Spark NLP 4.2.2 release. Keep in mind the best and recommended way to move/share/reuse Spark NLP models is to use `write.save` so you can use `.load()` from any file systems natively.\n",
        "\n"
      ]
    },
    {
      "cell_type": "code",
      "execution_count": 8,
      "metadata": {
        "id": "CG4lPoGat9qS"
      },
      "outputs": [],
      "source": [
        "from sparknlp.annotator import DeBertaForQuestionAnswering\n",
        "\n",
        "spanClassifier = DeBertaForQuestionAnswering.loadSavedModel(\n",
        "     ONNX_MODEL,\n",
        "     spark\n",
        " )\\\n",
        "  .setInputCols([\"document_question\",'document_context'])\\\n",
        "  .setOutputCol(\"answer\")\\\n",
        "  .setCaseSensitive(True)\\\n",
        "  .setMaxSentenceLength(512)"
      ]
    },
    {
      "cell_type": "markdown",
      "metadata": {
        "id": "kcYNOqHPt9qS"
      },
      "source": [
        "- Let's save it on disk so it is easier to be moved around and also be used later via `.load` function"
      ]
    },
    {
      "cell_type": "code",
      "execution_count": 9,
      "metadata": {
        "id": "bUsbSMvrt9qS"
      },
      "outputs": [],
      "source": [
        "spanClassifier.write().overwrite().save(\"./{}_spark_nlp_onnx\".format(ONNX_MODEL))"
      ]
    },
    {
      "cell_type": "markdown",
      "metadata": {
        "id": "IbTXATIZt9qS"
      },
      "source": [
        "Let's clean up stuff we don't need anymore"
      ]
    },
    {
      "cell_type": "code",
      "execution_count": 10,
      "metadata": {
        "id": "bIvWvNkjt9qS"
      },
      "outputs": [],
      "source": [
        "!rm -rf {ONNX_MODEL}"
      ]
    },
    {
      "cell_type": "markdown",
      "metadata": {
        "id": "VIRdUTNDt9qS"
      },
      "source": [
        "Awesome 😎  !\n",
        "\n",
        "This is your DeBertaForQuestionAnswering model from HuggingFace 🤗  loaded and saved by Spark NLP 🚀"
      ]
    },
    {
      "cell_type": "code",
      "execution_count": 11,
      "metadata": {
        "colab": {
          "base_uri": "https://localhost:8080/"
        },
        "id": "6wK-bG0zt9qT",
        "outputId": "8525e962-0db0-4363-b906-ecd8a9dcb9bf"
      },
      "outputs": [
        {
          "name": "stdout",
          "output_type": "stream",
          "text": [
            "total 279416\n",
            "-rw-r--r-- 1 root root 283650674 Jun 11 22:42 camembert_classification_onnx\n",
            "-rw-r--r-- 1 root root   2464616 Jun 11 22:42 deberta_spp\n",
            "drwxr-xr-x 2 root root      4096 Jun 11 22:42 metadata\n"
          ]
        }
      ],
      "source": [
        "! ls -l {ONNX_MODEL}_spark_nlp_onnx"
      ]
    },
    {
      "cell_type": "markdown",
      "metadata": {
        "id": "aTwATbA4t9qT"
      },
      "source": [
        "Now let's see how we can use it on other machines, clusters, or any place you wish to use your new and shiny AlbertForQuestionAnswering model in Spark NLP 🚀 pipeline!"
      ]
    },
    {
      "cell_type": "code",
      "execution_count": 12,
      "metadata": {
        "colab": {
          "base_uri": "https://localhost:8080/"
        },
        "id": "bW6DnGc8t9qT",
        "outputId": "0645498b-9055-4c7e-a12f-6164865a7fd2"
      },
      "outputs": [
        {
          "name": "stdout",
          "output_type": "stream",
          "text": [
            "+-------+\n",
            "|result |\n",
            "+-------+\n",
            "|[Clara]|\n",
            "+-------+\n",
            "\n"
          ]
        }
      ],
      "source": [
        "from sparknlp.base import MultiDocumentAssembler\n",
        "from sparknlp.annotator import DeBertaForQuestionAnswering\n",
        "from pyspark.ml import Pipeline\n",
        "\n",
        "document_assembler = MultiDocumentAssembler() \\\n",
        "    .setInputCols([\"question\", \"context\"]) \\\n",
        "    .setOutputCols([\"document_question\", \"document_context\"])\n",
        "\n",
        "span_classifier_loaded = DeBertaForQuestionAnswering.load(f\"./{ONNX_MODEL}_spark_nlp_onnx\") \\\n",
        "    .setInputCols([\"document_question\", \"document_context\"]) \\\n",
        "    .setOutputCol(\"answer\")\n",
        "\n",
        "pipeline = Pipeline(stages=[\n",
        "    document_assembler,\n",
        "    span_classifier_loaded\n",
        "])\n",
        "\n",
        "example = spark.createDataFrame([\n",
        "    [\"What's my name?\", \"My name is Clara and I live in Berkeley.\"]\n",
        "]).toDF(\"question\", \"context\")\n",
        "\n",
        "result = pipeline.fit(example).transform(example)\n",
        "result.select(\"answer.result\").show(1, truncate=False)"
      ]
    },
    {
      "cell_type": "markdown",
      "metadata": {
        "id": "IEPrrGQ0t9qT"
      },
      "source": [
        "That's it! You can now go wild and use hundreds of `DeBertaForQuestionAnswering` models from HuggingFace 🤗 in Spark NLP 🚀\n"
      ]
    }
  ],
  "metadata": {
    "accelerator": "GPU",
    "colab": {
      "gpuType": "T4",
      "provenance": []
    },
    "kernelspec": {
      "display_name": "Python 3",
      "name": "python3"
    },
    "language_info": {
      "codemirror_mode": {
        "name": "ipython",
        "version": 3
      },
      "file_extension": ".py",
      "mimetype": "text/x-python",
      "name": "python",
      "nbconvert_exporter": "python",
      "pygments_lexer": "ipython3"
    }
  },
  "nbformat": 4,
  "nbformat_minor": 0
}
