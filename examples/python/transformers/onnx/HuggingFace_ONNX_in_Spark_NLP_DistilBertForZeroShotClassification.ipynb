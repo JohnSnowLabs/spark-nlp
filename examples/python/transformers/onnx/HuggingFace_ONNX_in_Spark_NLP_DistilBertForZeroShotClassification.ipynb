{
  "cells": [
    {
      "cell_type": "markdown",
      "metadata": {
        "id": "rsxrq7KXmFZ6"
      },
      "source": [
        "![JohnSnowLabs](https://sparknlp.org/assets/images/logo.png)\n",
        "\n",
        "[![Open In Colab](https://colab.research.google.com/assets/colab-badge.svg)](https://colab.research.google.com/github/JohnSnowLabs/spark-nlp/blob/master/examples/python/transformers/onnx/HuggingFace_ONNX_in_Spark_NLP_DistilBertForZeroShotClassification.ipynb)"
      ]
    },
    {
      "cell_type": "markdown",
      "metadata": {
        "id": "K_AYcwmhmFZ8"
      },
      "source": [
        "## Import ONNX DistilBertForZeroShotClassification  models from HuggingFace 🤗  into Spark NLP 🚀\n",
        "\n",
        "Let's keep in mind a few things before we start 😊\n",
        "\n",
        "- ONNX support was introduced in  `Spark NLP 5.0.0`, enabling high performance inference for models.\n",
        "- `DistilBertForZeroShotClassification ` is only available since in `Spark NLP 5.2.4` and after. So please make sure you have upgraded to the latest Spark NLP release\n",
        "- You can import BERT models trained/fine-tuned for zero shot classification via `DistilBertForZeroShotClassification` or `TFDistilBertForZeroShotClassification`. These models are usually under `Zero-Shot Classification` category and have `distilbert` in their labels\n",
        "- Reference: [TFDistilBertForZeroShotClassification](https://huggingface.co/docs/transformers/en/model_doc/distilbert#transformers.TFDistilBertForSequenceClassification)\n",
        "- Some [example models](https://huggingface.co/models?pipeline_tag=zero-shot-classification&sort=downloads&search=distilbert)"
      ]
    },
    {
      "cell_type": "markdown",
      "metadata": {
        "id": "RMg_9r_DmFZ9"
      },
      "source": [
        "## Export and Save HuggingFace model"
      ]
    },
    {
      "cell_type": "markdown",
      "metadata": {
        "id": "4c2wEUPTmFZ9"
      },
      "source": [
        "- Let's install `transformers` package with the `onnx` extension and it's dependencies. You don't need `onnx` to be installed for Spark NLP, however, we need it to load and save models from HuggingFace.\n",
        "- We lock `transformers` on version `4.48.3`. This doesn't mean it won't work with the future releases, but we wanted you to know which versions have been tested successfully.\n",
        "- Albert uses SentencePiece, so we will have to install that as well"
      ]
    },
    {
      "cell_type": "code",
      "execution_count": null,
      "metadata": {
        "colab": {
          "base_uri": "https://localhost:8080/"
        },
        "id": "1Rg-0eCimFZ9",
        "outputId": "6bbaa9eb-f942-4a1f-9882-7aa3a9b66caf"
      },
      "outputs": [],
      "source": [
        "!pip install -q --upgrade transformers[onnx]==4.48.3 optimum onnx"
      ]
    },
    {
      "cell_type": "markdown",
      "metadata": {
        "id": "2lAyt_cFmFZ-"
      },
      "source": [
        "- HuggingFace has an extension called Optimum which offers specialized model inference, including ONNX. We can use this to import and export ONNX models with `from_pretrained` and `save_pretrained`.\n",
        "- We'll use [typeform/distilbert-base-uncased-mnli](https://huggingface.co/typeform/distilbert-base-uncased-mnli) model from HuggingFace as an example and load it as a `ORTModelForSequenceClassification`, representing an ONNX model.\n",
        "- In addition to `TFDistilBertForTokenClassification` we also need to save the `DistilBertTokenizer`. This is the same for every model, these are assets needed for tokenization inside Spark NLP."
      ]
    },
    {
      "cell_type": "code",
      "execution_count": null,
      "metadata": {
        "colab": {
          "base_uri": "https://localhost:8080/"
        },
        "id": "GIj4z8N26tj4",
        "outputId": "10f834bc-2c74-4bd9-dc49-da5fd86adc8a"
      },
      "outputs": [],
      "source": [
        "from transformers import DistilBertTokenizer\n",
        "from optimum.onnxruntime import ORTModelForSequenceClassification\n",
        "\n",
        "MODEL_NAME = 'typeform/distilbert-base-uncased-mnli'\n",
        "EXPORT_PATH = f\"onnx_models/{MODEL_NAME}\"\n",
        "\n",
        "ort_model = ORTModelForSequenceClassification.from_pretrained(MODEL_NAME, export=True)\n",
        "ort_model.save_pretrained(EXPORT_PATH)\n",
        "\n",
        "tokenizer = DistilBertTokenizer.from_pretrained(MODEL_NAME)\n",
        "tokenizer.save_pretrained(EXPORT_PATH)"
      ]
    },
    {
      "cell_type": "markdown",
      "metadata": {
        "id": "BBvD9bCdmFZ-"
      },
      "source": [
        "Let's have a look inside these two directories and see what we are dealing with:"
      ]
    },
    {
      "cell_type": "code",
      "execution_count": 4,
      "metadata": {
        "colab": {
          "base_uri": "https://localhost:8080/"
        },
        "id": "vXDgkyKWmFZ_",
        "outputId": "4174008d-0fd4-4be5-9ab1-81107c1d8e9c"
      },
      "outputs": [
        {
          "name": "stdout",
          "output_type": "stream",
          "text": [
            "total 261928\n",
            "-rw-r--r-- 1 root root       753 Jun 14 00:55 config.json\n",
            "-rw-r--r-- 1 root root 267961213 Jun 14 00:55 model.onnx\n",
            "-rw-r--r-- 1 root root       125 Jun 14 00:55 special_tokens_map.json\n",
            "-rw-r--r-- 1 root root      1278 Jun 14 00:55 tokenizer_config.json\n",
            "-rw-r--r-- 1 root root    231508 Jun 14 00:55 vocab.txt\n"
          ]
        }
      ],
      "source": [
        "!ls -l {EXPORT_PATH}"
      ]
    },
    {
      "cell_type": "markdown",
      "metadata": {
        "id": "iz_dcomfmFZ_"
      },
      "source": [
        "- As you can see, we need to move `vocabs.txt` from the tokenizer to assets folder which Spark NLP will look for\n",
        "- We also need `labels` and their `ids` which is saved inside the model's config. We will save this inside `labels.txt`"
      ]
    },
    {
      "cell_type": "code",
      "execution_count": 5,
      "metadata": {
        "id": "4fQyl_1TmFZ_"
      },
      "outputs": [],
      "source": [
        "!mkdir {EXPORT_PATH}/assets\n",
        "\n",
        "labels = ort_model.config.label2id\n",
        "labels = sorted(labels, key=labels.get)\n",
        "\n",
        "with open(EXPORT_PATH + '/assets/labels.txt', 'w') as f:\n",
        "    f.write('\\n'.join(labels))\n",
        "\n",
        "!mv {EXPORT_PATH}/vocab.txt {EXPORT_PATH}/assets"
      ]
    },
    {
      "cell_type": "code",
      "execution_count": 6,
      "metadata": {
        "colab": {
          "base_uri": "https://localhost:8080/"
        },
        "id": "CgkslqlzmFZ_",
        "outputId": "aaae84e1-f2d5-46c9-ff3c-b53493127499"
      },
      "outputs": [
        {
          "name": "stdout",
          "output_type": "stream",
          "text": [
            "onnx_models/typeform/distilbert-base-uncased-mnli:\n",
            "total 261704\n",
            "drwxr-xr-x 2 root root      4096 Jun 14 00:55 assets\n",
            "-rw-r--r-- 1 root root       753 Jun 14 00:55 config.json\n",
            "-rw-r--r-- 1 root root 267961213 Jun 14 00:55 model.onnx\n",
            "-rw-r--r-- 1 root root       125 Jun 14 00:55 special_tokens_map.json\n",
            "-rw-r--r-- 1 root root      1278 Jun 14 00:55 tokenizer_config.json\n",
            "\n",
            "onnx_models/typeform/distilbert-base-uncased-mnli/assets:\n",
            "total 232\n",
            "-rw-r--r-- 1 root root     32 Jun 14 00:55 labels.txt\n",
            "-rw-r--r-- 1 root root 231508 Jun 14 00:55 vocab.txt\n"
          ]
        }
      ],
      "source": [
        "!ls -lR {EXPORT_PATH}"
      ]
    },
    {
      "cell_type": "code",
      "execution_count": 7,
      "metadata": {
        "colab": {
          "base_uri": "https://localhost:8080/"
        },
        "id": "UIByC_QA68Ci",
        "outputId": "9c8b7100-e3ec-4759-e89a-5da69bc5dbb3"
      },
      "outputs": [
        {
          "name": "stdout",
          "output_type": "stream",
          "text": [
            "ENTAILMENT\n",
            "NEUTRAL\n",
            "CONTRADICTION"
          ]
        }
      ],
      "source": [
        "!cat {EXPORT_PATH}/assets/labels.txt"
      ]
    },
    {
      "cell_type": "markdown",
      "metadata": {
        "id": "i602IlDQmFZ_"
      },
      "source": [
        "Voila! We have our `vocab.txt` and `labels.txt` inside assets directory"
      ]
    },
    {
      "cell_type": "markdown",
      "metadata": {
        "id": "e4DzCZrLmFZ_"
      },
      "source": [
        "## Import and Save DistilBertForZeroShotClassification in Spark NLP\n"
      ]
    },
    {
      "cell_type": "markdown",
      "metadata": {
        "id": "lxSm3P50mFZ_"
      },
      "source": [
        "- **Install and set up Spark NLP in Google Colab**\n",
        "  - This example uses specific versions of `pyspark` and `spark-nlp` that have been tested with the transformer model to ensure everything runs smoothly."
      ]
    },
    {
      "cell_type": "code",
      "execution_count": 8,
      "metadata": {
        "colab": {
          "base_uri": "https://localhost:8080/"
        },
        "id": "dgLcdmtamFZ_",
        "outputId": "13cf8a98-526a-4f78-8478-3558c1abaf58"
      },
      "outputs": [
        {
          "name": "stdout",
          "output_type": "stream",
          "text": [
            "\u001b[2K     \u001b[90m━━━━━━━━━━━━━━━━━━━━━━━━━━━━━━━━━━━━━━━\u001b[0m \u001b[32m317.3/317.3 MB\u001b[0m \u001b[31m4.8 MB/s\u001b[0m eta \u001b[36m0:00:00\u001b[0m\n",
            "\u001b[?25h  Preparing metadata (setup.py) ... \u001b[?25l\u001b[?25hdone\n",
            "\u001b[2K   \u001b[90m━━━━━━━━━━━━━━━━━━━━━━━━━━━━━━━━━━━━━━━━\u001b[0m \u001b[32m635.7/635.7 kB\u001b[0m \u001b[31m47.9 MB/s\u001b[0m eta \u001b[36m0:00:00\u001b[0m\n",
            "\u001b[?25h  Building wheel for pyspark (setup.py) ... \u001b[?25l\u001b[?25hdone\n"
          ]
        }
      ],
      "source": [
        "!pip install -q pyspark==3.5.4 spark-nlp==5.5.3"
      ]
    },
    {
      "cell_type": "markdown",
      "metadata": {
        "id": "MjHnTWAdmFaA"
      },
      "source": [
        "Let's start Spark with Spark NLP included via our simple `start()` function"
      ]
    },
    {
      "cell_type": "code",
      "execution_count": 9,
      "metadata": {
        "colab": {
          "base_uri": "https://localhost:8080/"
        },
        "id": "si6Cnaf6mFaA",
        "outputId": "1a0a5cd7-2f6c-405d-926d-d5d70ee135fe"
      },
      "outputs": [
        {
          "name": "stdout",
          "output_type": "stream",
          "text": [
            "Spark NLP version: 5.5.3\n",
            "Apache Spark version: 3.5.4\n"
          ]
        }
      ],
      "source": [
        "import sparknlp\n",
        "\n",
        "spark = sparknlp.start()\n",
        "\n",
        "print(\"Spark NLP version: {}\".format(sparknlp.version()))\n",
        "print(\"Apache Spark version: {}\".format(spark.version))"
      ]
    },
    {
      "cell_type": "markdown",
      "metadata": {
        "id": "cIH_GPSDmFaA"
      },
      "source": [
        "- Let's use `loadSavedModel` functon in `DistilBertForZeroShotClassification` which allows us to load TensorFlow model in SavedModel format\n",
        "- Most params can be set later when you are loading this model in `DistilBertForZeroShotClassification` in runtime like `setMaxSentenceLength`, so don't worry what you are setting them now\n",
        "- `loadSavedModel` accepts two params, first is the path to the TF SavedModel. The second is the SparkSession that is `spark` variable we previously started via `sparknlp.start()`\n",
        "- NOTE: `loadSavedModel` accepts local paths in addition to distributed file systems such as `HDFS`, `S3`, `DBFS`, etc. This feature was introduced in Spark NLP 4.2.2 release. Keep in mind the best and recommended way to move/share/reuse Spark NLP models is to use `write.save` so you can use `.load()` from any file systems natively.\n"
      ]
    },
    {
      "cell_type": "code",
      "execution_count": 10,
      "metadata": {
        "id": "iFsDyX5KmFaA"
      },
      "outputs": [],
      "source": [
        "from sparknlp.annotator import DistilBertForZeroShotClassification\n",
        "\n",
        "zero_shot_classifier = DistilBertForZeroShotClassification.loadSavedModel(\n",
        "    EXPORT_PATH,\n",
        "    spark\n",
        "    )\\\n",
        "    .setInputCols([\"document\", \"token\"]) \\\n",
        "    .setOutputCol(\"class\") \\\n",
        "    .setCandidateLabels([\"urgent\", \"mobile\", \"travel\", \"movie\", \"music\", \"sport\", \"weather\", \"technology\"])"
      ]
    },
    {
      "cell_type": "markdown",
      "metadata": {
        "id": "PO2ReE57mFaA"
      },
      "source": [
        "- Let's save it on disk so it is easier to be moved around and also be used later via `.load` function"
      ]
    },
    {
      "cell_type": "code",
      "execution_count": 11,
      "metadata": {
        "id": "ejxfdT40mFaA"
      },
      "outputs": [],
      "source": [
        "zero_shot_classifier.write().overwrite().save(\"./{}_spark_nlp_onnx\".format(MODEL_NAME))"
      ]
    },
    {
      "cell_type": "markdown",
      "metadata": {
        "id": "bVdUG0zWmFaA"
      },
      "source": [
        "Let's clean up stuff we don't need anymore"
      ]
    },
    {
      "cell_type": "code",
      "execution_count": 12,
      "metadata": {
        "id": "nhbmRiELmFaA"
      },
      "outputs": [],
      "source": [
        "!rm -rf {EXPORT_PATH}"
      ]
    },
    {
      "cell_type": "markdown",
      "metadata": {
        "id": "rzZ_sbxEmFaA"
      },
      "source": [
        "Awesome 😎  !\n",
        "\n",
        "This is your DistilBertForZeroShotClassification model from HuggingFace 🤗  loaded and saved by Spark NLP 🚀"
      ]
    },
    {
      "cell_type": "code",
      "execution_count": 13,
      "metadata": {
        "colab": {
          "base_uri": "https://localhost:8080/"
        },
        "id": "ljXzasiYmFaA",
        "outputId": "c6c28dd1-6e60-4323-c3a3-8f10e118be28"
      },
      "outputs": [
        {
          "name": "stdout",
          "output_type": "stream",
          "text": [
            "total 261732\n",
            "-rw-r--r-- 1 root root 268002237 Jun 14 00:57 distilbert_classification_onnx\n",
            "drwxr-xr-x 4 root root      4096 Jun 14 00:57 fields\n",
            "drwxr-xr-x 2 root root      4096 Jun 14 00:57 metadata\n"
          ]
        }
      ],
      "source": [
        "! ls -l {MODEL_NAME}_spark_nlp_onnx"
      ]
    },
    {
      "cell_type": "markdown",
      "metadata": {
        "id": "ogk0HISwmFaA"
      },
      "source": [
        "Now let's see how we can use it on other machines, clusters, or any place you wish to use your new and shiny DistilBertForZeroShotClassification model 😊"
      ]
    },
    {
      "cell_type": "code",
      "execution_count": 14,
      "metadata": {
        "id": "DVB6NRXYmFaA"
      },
      "outputs": [],
      "source": [
        "zero_shot_classifier_loaded = DistilBertForZeroShotClassification.load(\"./{}_spark_nlp_onnx\".format(MODEL_NAME))\\\n",
        "  .setInputCols([\"document\",'token'])\\\n",
        "  .setOutputCol(\"class\")"
      ]
    },
    {
      "cell_type": "markdown",
      "metadata": {
        "id": "DzI7nbxCmFaB"
      },
      "source": [
        "You can see what labels were used to train this model via `getClasses` function:"
      ]
    },
    {
      "cell_type": "code",
      "execution_count": 15,
      "metadata": {
        "colab": {
          "base_uri": "https://localhost:8080/"
        },
        "id": "LhHwZePMmFaB",
        "outputId": "dfbff259-d1c4-4d00-8991-82db43979e4a"
      },
      "outputs": [
        {
          "data": {
            "text/plain": [
              "['NEUTRAL', 'CONTRADICTION', 'ENTAILMENT']"
            ]
          },
          "execution_count": 15,
          "metadata": {},
          "output_type": "execute_result"
        }
      ],
      "source": [
        "zero_shot_classifier_loaded.getClasses()"
      ]
    },
    {
      "cell_type": "markdown",
      "metadata": {
        "id": "WmD8DiE_mFaB"
      },
      "source": [
        "This is how you can use your loaded classifier model in Spark NLP 🚀 pipeline:"
      ]
    },
    {
      "cell_type": "code",
      "execution_count": 16,
      "metadata": {
        "colab": {
          "base_uri": "https://localhost:8080/"
        },
        "id": "Y_5KbPfzmFaB",
        "outputId": "0897695c-ce83-4817-b44a-52e7fccb1bbd"
      },
      "outputs": [
        {
          "name": "stdout",
          "output_type": "stream",
          "text": [
            "+--------------------------------------------------------------------------------------------------------------+------------+\n",
            "|text                                                                                                          |result      |\n",
            "+--------------------------------------------------------------------------------------------------------------+------------+\n",
            "|I have a problem with my iphone that needs to be resolved asap!!                                              |[mobile]    |\n",
            "|Last week I upgraded my iOS version and ever since then my phone has been overheating whenever I use your app.|[technology]|\n",
            "|I have a phone and I love it!                                                                                 |[mobile]    |\n",
            "|I really want to visit Germany and I am planning to go there next year.                                       |[travel]    |\n",
            "|Let's watch some movies tonight! I am in the mood for a horror movie.                                         |[weather]   |\n",
            "|Have you watched the match yesterday? It was a great game!                                                    |[sport]     |\n",
            "|We need to harry up and get to the airport. We are going to miss our flight!                                  |[urgent]    |\n",
            "+--------------------------------------------------------------------------------------------------------------+------------+\n",
            "\n"
          ]
        }
      ],
      "source": [
        "from sparknlp.base import DocumentAssembler\n",
        "from sparknlp.annotator import Tokenizer\n",
        "from pyspark.ml import Pipeline\n",
        "\n",
        "document_assembler = DocumentAssembler() \\\n",
        "    .setInputCol(\"text\") \\\n",
        "    .setOutputCol(\"document\")\n",
        "\n",
        "tokenizer = Tokenizer() \\\n",
        "    .setInputCols(\"document\") \\\n",
        "    .setOutputCol(\"token\")\n",
        "\n",
        "pipeline = Pipeline(stages=[\n",
        "    document_assembler,\n",
        "    tokenizer,\n",
        "    zero_shot_classifier_loaded\n",
        "])\n",
        "\n",
        "texts = [\n",
        "    [\"I have a problem with my iphone that needs to be resolved asap!!\"],\n",
        "    [\"Last week I upgraded my iOS version and ever since then my phone has been overheating whenever I use your app.\"],\n",
        "    [\"I have a phone and I love it!\"],\n",
        "    [\"I really want to visit Germany and I am planning to go there next year.\"],\n",
        "    [\"Let's watch some movies tonight! I am in the mood for a horror movie.\"],\n",
        "    [\"Have you watched the match yesterday? It was a great game!\"],\n",
        "    [\"We need to harry up and get to the airport. We are going to miss our flight!\"]\n",
        "]\n",
        "\n",
        "df = spark.createDataFrame(texts, [\"text\"])\n",
        "results = pipeline.fit(df).transform(df)\n",
        "\n",
        "results.select(\"text\", \"class.result\").show(truncate=False)"
      ]
    },
    {
      "cell_type": "markdown",
      "metadata": {
        "id": "BH-V-NpomFaB"
      },
      "source": [
        "That's it! You can now go wild and use hundreds of `DistilBertForZeroShotClassification` models from HuggingFace 🤗 in Spark NLP 🚀\n"
      ]
    }
  ],
  "metadata": {
    "accelerator": "GPU",
    "colab": {
      "gpuType": "T4",
      "provenance": []
    },
    "kernelspec": {
      "display_name": "Python 3",
      "name": "python3"
    },
    "language_info": {
      "codemirror_mode": {
        "name": "ipython",
        "version": 3
      },
      "file_extension": ".py",
      "mimetype": "text/x-python",
      "name": "python",
      "nbconvert_exporter": "python",
      "pygments_lexer": "ipython3"
    }
  },
  "nbformat": 4,
  "nbformat_minor": 0
}
