{
  "cells": [
    {
      "cell_type": "markdown",
      "metadata": {
        "id": "1FVHdFrW0xD9"
      },
      "source": [
        "![JohnSnowLabs](https://sparknlp.org/assets/images/logo.png)\n",
        "\n",
        "[![Open In Colab](https://colab.research.google.com/assets/colab-badge.svg)](https://colab.research.google.com/github/JohnSnowLabs/spark-nlp/blob/master/examples/python/transformers/onnx/HuggingFace_ONNX_in_Spark_NLP_DeBertaForTokenClassification.ipynb)"
      ]
    },
    {
      "cell_type": "markdown",
      "metadata": {
        "id": "Ir9STS0F0xD-"
      },
      "source": [
        "## Import ONNX DeBertaForTokenClassification models from HuggingFace 🤗  into Spark NLP 🚀\n",
        "\n",
        "Let's keep in mind a few things before we start 😊\n",
        "\n",
        "- ONNX support was introduced in  `Spark NLP 5.0.0`, enabling high performance inference for models.\n",
        "- `DeBertaForTokenClassification` is only available since in `Spark NLP 5.1.3` and after. So please make sure you have upgraded to the latest Spark NLP release\n",
        "- You can import DeBerta models trained/fine-tuned for token classification via `DeBertaForTokenClassification` or `TFDeBertaForTokenClassification`. These models are usually under `Token Classification` category and have `bert` in their labels\n",
        "- Reference: [TFDeBertaForTokenClassification](https://huggingface.co/docs/transformers/model_doc/deberta#transformers.TFDebertaForTokenClassification)\n",
        "- Some [example models](https://huggingface.co/models?filter=deberta&pipeline_tag=token-classification)"
      ]
    },
    {
      "cell_type": "markdown",
      "metadata": {
        "id": "1RpALBfX0xD_"
      },
      "source": [
        "## Export and Save HuggingFace model"
      ]
    },
    {
      "cell_type": "markdown",
      "metadata": {
        "id": "sn21rd240xD_"
      },
      "source": [
        "- Let's install `transformers` package with the `onnx` extension and it's dependencies. You don't need `onnx` to be installed for Spark NLP, however, we need it to load and save models from HuggingFace.\n",
        "- We lock `transformers` on version `4.51.3`. This doesn't mean it won't work with the future releases\n",
        "- Albert uses SentencePiece, so we will have to install that as well"
      ]
    },
    {
      "cell_type": "code",
      "execution_count": null,
      "metadata": {
        "colab": {
          "base_uri": "https://localhost:8080/"
        },
        "id": "s-SA89N50xD_",
        "outputId": "dc47637d-ba2d-439a-f0de-3e1b14c2f077"
      },
      "outputs": [],
      "source": [
        "!pip install -q transformers[onnx]==4.51.3 optimum onnx"
      ]
    },
    {
      "cell_type": "markdown",
      "metadata": {
        "id": "9uxZxa3X0xEA"
      },
      "source": [
        "- HuggingFace has an extension called Optimum which offers specialized model inference, including ONNX. We can use this to import and export ONNX models with `from_pretrained` and `save_pretrained`.\n",
        "- We'll use [davanstrien/deberta-v3-base_fine_tuned_food_ner](https://huggingface.co/davanstrien/deberta-v3-base_fine_tuned_food_ner) model from HuggingFace as an example\n",
        "- In addition to the DeBERTa model, we also need to save the tokenizer. This is the same for every model, these are assets (saved in `/assets`) needed for tokenization inside Spark NLP."
      ]
    },
    {
      "cell_type": "code",
      "execution_count": 2,
      "metadata": {
        "colab": {
          "base_uri": "https://localhost:8080/",
          "height": 415,
          "referenced_widgets": [
            "eabc725af4bd4c9f9bf0ff9912e04080",
            "1a56ea4ab093444aa94c1a7e65eabfa3",
            "d2e294c97b0545d6a7b2698464ce68c5",
            "a982f5a847ec4879acf9c5fd2cc69c57",
            "3ba1f310b3054aaab09e875388a5e6d5",
            "924248f7a1744fd2bebf84852a689fc2",
            "82a0579265024d98a4efd5856e876aaa",
            "5a2fbac6147e41e99cf088db1c450084",
            "68560c00ba714231bbd98b4a0453565a",
            "5eaa5073fcc74e1fa02c0927d6824ff1",
            "611a69cd8f1742758d20eb56d031ee9f",
            "a15f07c9934c4dab9e0246a833069445",
            "2265f287f2314a61acaab8245cba6e02",
            "40fa3424bad24f6a8aa162c8d0977dab",
            "572855e580ff45cc8ea1d1ff2187e7ea",
            "116e80570db64b3a89d65423358d047a",
            "14d5f5a818e34ead8b8f2e5afc1d976f",
            "e016e45098f24713afa67cd7a91c81aa",
            "8446df864e444753982e21964530306e",
            "d911ade4e27044ca97bbc90f7c7428f2",
            "dffcb089e25a42a289c2a63d76393ab4",
            "90adbd90d4674291a6c8f2fc9bd46ffa",
            "4e61f478f50f4ce2b82f494e2e0659b8",
            "6683824be92747e1a2fcb14582f300af",
            "6a8485eaad5348d09667f0ffd5b11433",
            "f6f1a4d97a30425fa8de52d583bd9943",
            "6d01166025a74910a05a3aff9941648f",
            "35ae0fb8d9ef43538b9eed3a4045b47f",
            "d572a9f1c0424e0fa3f7cdcf341c8d88",
            "32db2d4e0b0a43e5aa747f273de2b903",
            "9d43adf9a57c4db9b7f8e0243f50998e",
            "aca68a5574144223ac8fff38407474f5",
            "6ac54fa5b6ec4ce79943adf2d269b267",
            "327b351df1ad4defb0baf3e81ffca248",
            "6ea3b538c98e40fcbc6762f96cf579c1",
            "b9f55dad06304c98bf02776623f2a23a",
            "a1e212fc106f4e15b163c41998bc964b",
            "b4f3514335d847a3837f21a735a0841e",
            "03ecd99b7901484a9c5e7592f55fdfa0",
            "d7654b3970fb42fe90405517d50653b4",
            "79764b43a0734b2a8c5feb6e5f5d65d6",
            "a73fe4e224724e23bd2b7eceb33b6f4d",
            "f9548aa76be74d459a343ada17b1558d",
            "5e224cb1f9384b39ae088633554e87f5",
            "1fc72fc755714f0c83a12952f07a9327",
            "1a97991b7df742709f47c84913efaecd",
            "427526abb8bf4d33b9a94da17b9ca6ec",
            "31c5cb593fc1456a82743ec3ea0f7d18",
            "6e914be5c5a94adabad27b410c2a712d",
            "e544d3d1e8584d7ebc8f2e0b275b6050",
            "dd59a00e0f8448089cb85008cc660cc4",
            "592f49243b514355928ff91a9677410f",
            "b246dc4080e64f66bd22e85334ea9d78",
            "c3e782a06a694e289f71a6b01f074e41",
            "140780c929ff404cb36106a248d1dd72",
            "0f43b58bee9a431cbea10230b26f91a9",
            "56c3d9031bc947218f05140029efa92f",
            "17fab060ff874333842477d3e9ebcf1e",
            "88addc0d8d344dcb8c7dfa7fda860460",
            "18a1e91dd3e943628e9426961f5d4826",
            "5f25a7cad65a4b4cae88ff88aee31892",
            "7c2943baa0db4596b12945852a210d73",
            "0abd2f692efb478f8ab324cd893cbcaf",
            "f36f17cec8ab490e8797cd70cc23e974",
            "ddc92460250d402d89ca9f607efecebb",
            "4738478f26974e9796a6da6673e0bfdf",
            "d1c58bd281524be197f366f307ea00a9",
            "c256ded7de724bdb88c122692cff06da",
            "bfa15ea526084b09a06865d89bc321f6",
            "ff1a9006b50c442e9f6640161c981c44",
            "685566620a43434b938a52a9361e24a8",
            "81edbb12a26f43dfbb603caa24f187d7",
            "f7baff77ce944fd8b5b1de79346a7d0a",
            "5e9536a17ea84232b9035d09426d3a7a",
            "b815a80f0e5346029b6c42a2aadd5d99",
            "e166d144719841c88fd5da65b478d2c4",
            "9df164cff507451a910efbf602fb0450"
          ]
        },
        "id": "qQ5FAgDehWJJ",
        "outputId": "e81ae215-d751-48d1-caa0-81efc2defded"
      },
      "outputs": [
        {
          "name": "stderr",
          "output_type": "stream",
          "text": [
            "/usr/local/lib/python3.11/dist-packages/huggingface_hub/utils/_auth.py:94: UserWarning: \n",
            "The secret `HF_TOKEN` does not exist in your Colab secrets.\n",
            "To authenticate with the Hugging Face Hub, create a token in your settings tab (https://huggingface.co/settings/tokens), set it as secret in your Google Colab and restart your session.\n",
            "You will be able to reuse this secret in all of your notebooks.\n",
            "Please note that authentication is recommended but still optional to access public models or datasets.\n",
            "  warnings.warn(\n"
          ]
        },
        {
          "data": {
            "application/vnd.jupyter.widget-view+json": {
              "model_id": "eabc725af4bd4c9f9bf0ff9912e04080",
              "version_major": 2,
              "version_minor": 0
            },
            "text/plain": [
              "config.json:   0%|          | 0.00/1.44k [00:00<?, ?B/s]"
            ]
          },
          "metadata": {},
          "output_type": "display_data"
        },
        {
          "data": {
            "application/vnd.jupyter.widget-view+json": {
              "model_id": "a15f07c9934c4dab9e0246a833069445",
              "version_major": 2,
              "version_minor": 0
            },
            "text/plain": [
              "model.safetensors:   0%|          | 0.00/735M [00:00<?, ?B/s]"
            ]
          },
          "metadata": {},
          "output_type": "display_data"
        },
        {
          "data": {
            "application/vnd.jupyter.widget-view+json": {
              "model_id": "4e61f478f50f4ce2b82f494e2e0659b8",
              "version_major": 2,
              "version_minor": 0
            },
            "text/plain": [
              "tokenizer_config.json:   0%|          | 0.00/1.28k [00:00<?, ?B/s]"
            ]
          },
          "metadata": {},
          "output_type": "display_data"
        },
        {
          "data": {
            "application/vnd.jupyter.widget-view+json": {
              "model_id": "327b351df1ad4defb0baf3e81ffca248",
              "version_major": 2,
              "version_minor": 0
            },
            "text/plain": [
              "spm.model:   0%|          | 0.00/2.46M [00:00<?, ?B/s]"
            ]
          },
          "metadata": {},
          "output_type": "display_data"
        },
        {
          "data": {
            "application/vnd.jupyter.widget-view+json": {
              "model_id": "1fc72fc755714f0c83a12952f07a9327",
              "version_major": 2,
              "version_minor": 0
            },
            "text/plain": [
              "tokenizer.json:   0%|          | 0.00/8.66M [00:00<?, ?B/s]"
            ]
          },
          "metadata": {},
          "output_type": "display_data"
        },
        {
          "data": {
            "application/vnd.jupyter.widget-view+json": {
              "model_id": "0f43b58bee9a431cbea10230b26f91a9",
              "version_major": 2,
              "version_minor": 0
            },
            "text/plain": [
              "added_tokens.json:   0%|          | 0.00/23.0 [00:00<?, ?B/s]"
            ]
          },
          "metadata": {},
          "output_type": "display_data"
        },
        {
          "data": {
            "application/vnd.jupyter.widget-view+json": {
              "model_id": "d1c58bd281524be197f366f307ea00a9",
              "version_major": 2,
              "version_minor": 0
            },
            "text/plain": [
              "special_tokens_map.json:   0%|          | 0.00/286 [00:00<?, ?B/s]"
            ]
          },
          "metadata": {},
          "output_type": "display_data"
        },
        {
          "data": {
            "text/plain": [
              "('onnx_models/Angelakeke/RaTE-NER-Deberta/tokenizer_config.json',\n",
              " 'onnx_models/Angelakeke/RaTE-NER-Deberta/special_tokens_map.json',\n",
              " 'onnx_models/Angelakeke/RaTE-NER-Deberta/spm.model',\n",
              " 'onnx_models/Angelakeke/RaTE-NER-Deberta/added_tokens.json')"
            ]
          },
          "execution_count": 2,
          "metadata": {},
          "output_type": "execute_result"
        }
      ],
      "source": [
        "from transformers import DebertaV2Tokenizer\n",
        "from optimum.onnxruntime import ORTModelForTokenClassification\n",
        "\n",
        "MODEL_NAME = 'Angelakeke/RaTE-NER-Deberta'\n",
        "ONNX_MODEL = f\"onnx_models/{MODEL_NAME}\"\n",
        "\n",
        "ort_model = ORTModelForTokenClassification.from_pretrained(MODEL_NAME, export=True)\n",
        "ort_model.save_pretrained(ONNX_MODEL)\n",
        "\n",
        "tokenizer = DebertaV2Tokenizer.from_pretrained(MODEL_NAME)\n",
        "tokenizer.save_pretrained(ONNX_MODEL)"
      ]
    },
    {
      "cell_type": "markdown",
      "metadata": {
        "id": "8OtfKCiU0xEB"
      },
      "source": [
        "Let's have a look inside these two directories and see what we are dealing with:"
      ]
    },
    {
      "cell_type": "code",
      "execution_count": 3,
      "metadata": {
        "colab": {
          "base_uri": "https://localhost:8080/"
        },
        "id": "OpkWEw-M0xEB",
        "outputId": "b1c0b4e0-90e8-46e1-9111-c0a6d916eaf4"
      },
      "outputs": [
        {
          "name": "stdout",
          "output_type": "stream",
          "text": [
            "total 721412\n",
            "-rw-r--r-- 1 root root        23 Jun 12 00:56 added_tokens.json\n",
            "-rw-r--r-- 1 root root      1399 Jun 12 00:56 config.json\n",
            "-rw-r--r-- 1 root root 736235556 Jun 12 00:56 model.onnx\n",
            "-rw-r--r-- 1 root root       970 Jun 12 00:56 special_tokens_map.json\n",
            "-rw-r--r-- 1 root root   2464616 Jun 12 00:56 spm.model\n",
            "-rw-r--r-- 1 root root      1314 Jun 12 00:56 tokenizer_config.json\n"
          ]
        }
      ],
      "source": [
        "!ls -l {ONNX_MODEL}"
      ]
    },
    {
      "cell_type": "markdown",
      "metadata": {
        "id": "dDbDFZZ90xEC"
      },
      "source": [
        "- As you can see, we need to move `spm.model` from the tokenizer to assets folder which Spark NLP will look for\n",
        "- We also need `labels` and their `ids` which is saved inside the model's config. We will save this inside `labels.txt`"
      ]
    },
    {
      "cell_type": "code",
      "execution_count": 4,
      "metadata": {
        "id": "6nGA4Bev0_8n"
      },
      "outputs": [],
      "source": [
        "!mkdir -p {ONNX_MODEL}/assets && mv {ONNX_MODEL}/spm.model {ONNX_MODEL}/assets/\n",
        "\n",
        "labels = [v for k, v in sorted(ort_model.config.id2label.items())]\n",
        "with open(f\"{ONNX_MODEL}/assets/labels.txt\", \"w\") as f:\n",
        "    f.write(\"\\n\".join(labels))"
      ]
    },
    {
      "cell_type": "code",
      "execution_count": 5,
      "metadata": {
        "colab": {
          "base_uri": "https://localhost:8080/"
        },
        "id": "pF--rNfq0xED",
        "outputId": "77689214-c119-4a4a-df9c-d031b011f172"
      },
      "outputs": [
        {
          "name": "stdout",
          "output_type": "stream",
          "text": [
            "onnx_models/Angelakeke/RaTE-NER-Deberta:\n",
            "total 719008\n",
            "-rw-r--r-- 1 root root        23 Jun 12 00:56 added_tokens.json\n",
            "drwxr-xr-x 2 root root      4096 Jun 12 00:56 assets\n",
            "-rw-r--r-- 1 root root      1399 Jun 12 00:56 config.json\n",
            "-rw-r--r-- 1 root root 736235556 Jun 12 00:56 model.onnx\n",
            "-rw-r--r-- 1 root root       970 Jun 12 00:56 special_tokens_map.json\n",
            "-rw-r--r-- 1 root root      1314 Jun 12 00:56 tokenizer_config.json\n",
            "\n",
            "onnx_models/Angelakeke/RaTE-NER-Deberta/assets:\n",
            "total 2412\n",
            "-rw-r--r-- 1 root root     133 Jun 12 00:56 labels.txt\n",
            "-rw-r--r-- 1 root root 2464616 Jun 12 00:56 spm.model\n"
          ]
        }
      ],
      "source": [
        "!ls -lR {ONNX_MODEL}"
      ]
    },
    {
      "cell_type": "code",
      "execution_count": 6,
      "metadata": {
        "colab": {
          "base_uri": "https://localhost:8080/"
        },
        "id": "oOQUS1CQiL5Q",
        "outputId": "be3f3e8b-126e-4841-f09d-7b3742c29a93"
      },
      "outputs": [
        {
          "name": "stdout",
          "output_type": "stream",
          "text": [
            "B-ABNORMALITY\n",
            "I-ABNORMALITY\n",
            "B-NON-ABNORMALITY\n",
            "I-NON-ABNORMALITY\n",
            "B-DISEASE\n",
            "I-DISEASE\n",
            "B-NON-DISEASE\n",
            "I-NON-DISEASE\n",
            "B-ANATOMY\n",
            "I-ANATOMY\n",
            "O"
          ]
        }
      ],
      "source": [
        "!cat {ONNX_MODEL}/assets/labels.txt"
      ]
    },
    {
      "cell_type": "markdown",
      "metadata": {
        "id": "eWuS_c6Z0xEC"
      },
      "source": [
        "Voila! We have our `spm.model` and `labels.txt` inside assets directory"
      ]
    },
    {
      "cell_type": "markdown",
      "metadata": {
        "id": "cSVgnMt-0xED"
      },
      "source": [
        "## Import and Save DeBertaForTokenClassification in Spark NLP\n"
      ]
    },
    {
      "cell_type": "markdown",
      "metadata": {
        "id": "1_C744Gf0xED"
      },
      "source": [
        "- Let's install and setup Spark NLP in Google Colab.\n",
        "- For this example we'll use specific versions of `pyspark` and `spark-nlp` that we've already tested with this transformer model to make sure everything runs smoothly."
      ]
    },
    {
      "cell_type": "code",
      "execution_count": 7,
      "metadata": {
        "colab": {
          "base_uri": "https://localhost:8080/"
        },
        "id": "cf7y1_zn0xED",
        "outputId": "799a12b5-5f7c-4103-c4e4-0971f912c6c6"
      },
      "outputs": [
        {
          "name": "stdout",
          "output_type": "stream",
          "text": [
            "\u001b[2K     \u001b[90m━━━━━━━━━━━━━━━━━━━━━━━━━━━━━━━━━━━━━━━\u001b[0m \u001b[32m317.3/317.3 MB\u001b[0m \u001b[31m4.6 MB/s\u001b[0m eta \u001b[36m0:00:00\u001b[0m\n",
            "\u001b[?25h  Preparing metadata (setup.py) ... \u001b[?25l\u001b[?25hdone\n",
            "\u001b[2K   \u001b[90m━━━━━━━━━━━━━━━━━━━━━━━━━━━━━━━━━━━━━━━━\u001b[0m \u001b[32m635.7/635.7 kB\u001b[0m \u001b[31m37.2 MB/s\u001b[0m eta \u001b[36m0:00:00\u001b[0m\n",
            "\u001b[?25h  Building wheel for pyspark (setup.py) ... \u001b[?25l\u001b[?25hdone\n"
          ]
        }
      ],
      "source": [
        "!pip install -q pyspark==3.5.4 spark-nlp==5.5.3"
      ]
    },
    {
      "cell_type": "markdown",
      "metadata": {
        "id": "wOE8BrSs0xED"
      },
      "source": [
        "Let's start Spark with Spark NLP included via our simple `start()` function"
      ]
    },
    {
      "cell_type": "code",
      "execution_count": 8,
      "metadata": {
        "colab": {
          "base_uri": "https://localhost:8080/"
        },
        "id": "IJadUik40xEE",
        "outputId": "d02fc628-7706-47e0-a6cf-43de7f8f103b"
      },
      "outputs": [
        {
          "name": "stdout",
          "output_type": "stream",
          "text": [
            "Spark NLP version:  5.5.3\n",
            "Apache Spark version:  3.5.4\n"
          ]
        }
      ],
      "source": [
        "import sparknlp\n",
        "\n",
        "spark = sparknlp.start()\n",
        "\n",
        "print(\"Spark NLP version: \", sparknlp.version())\n",
        "print(\"Apache Spark version: \", spark.version)"
      ]
    },
    {
      "cell_type": "markdown",
      "metadata": {
        "id": "23oKbN800xEE"
      },
      "source": [
        "- Let's use `loadSavedModel` functon in `DeBertaForTokenClassification` which allows us to load TensorFlow model in SavedModel format\n",
        "- Most params can be set later when you are loading this model in `DeBertaForTokenClassification` in runtime like `setMaxSentenceLength`, so don't worry what you are setting them now\n",
        "- `loadSavedModel` accepts two params, first is the path to the TF SavedModel. The second is the SparkSession that is `spark` variable we previously started via `sparknlp.start()`\n",
        "- NOTE: `loadSavedModel` accepts local paths in addition to distributed file systems such as `HDFS`, `S3`, `DBFS`, etc. This feature was introduced in Spark NLP 4.2.2 release. Keep in mind the best and recommended way to move/share/reuse Spark NLP models is to use `write.save` so you can use `.load()` from any file systems natively.st and recommended way to move/share/reuse Spark NLP models is to use `write.save` so you can use `.load()` from any file systems natively.\n",
        "\n"
      ]
    },
    {
      "cell_type": "code",
      "execution_count": 9,
      "metadata": {
        "id": "P2EHy19O0xEE"
      },
      "outputs": [],
      "source": [
        "from sparknlp.annotator import DeBertaForTokenClassification\n",
        "\n",
        "tokenClassifier = DeBertaForTokenClassification.loadSavedModel(\n",
        "      ONNX_MODEL,\n",
        "      spark\n",
        "      )\\\n",
        "    .setInputCols([\"document\",'token'])\\\n",
        "    .setOutputCol(\"ner\")\\\n",
        "    .setCaseSensitive(True)\\\n",
        "    .setMaxSentenceLength(128)"
      ]
    },
    {
      "cell_type": "markdown",
      "metadata": {
        "id": "uBdL0yXr0xEE"
      },
      "source": [
        "- Let's save it on disk so it is easier to be moved around and also be used later via `.load` function"
      ]
    },
    {
      "cell_type": "code",
      "execution_count": 10,
      "metadata": {
        "id": "0QR8tTIX0xEE"
      },
      "outputs": [],
      "source": [
        "tokenClassifier.write().overwrite().save(\"./{}_spark_nlp_onnx\".format(ONNX_MODEL))"
      ]
    },
    {
      "cell_type": "markdown",
      "metadata": {
        "id": "qGrhub1F0xEF"
      },
      "source": [
        "Let's clean up stuff we don't need anymore"
      ]
    },
    {
      "cell_type": "code",
      "execution_count": 11,
      "metadata": {
        "id": "zO4H24-g0xEF"
      },
      "outputs": [],
      "source": [
        "!rm -rf {ONNX_MODEL}"
      ]
    },
    {
      "cell_type": "markdown",
      "metadata": {
        "id": "iUotPrLn0xEF"
      },
      "source": [
        "Awesome 😎  !\n",
        "\n",
        "This is your DeBertaForTokenClassification model from HuggingFace 🤗  loaded and saved by Spark NLP 🚀"
      ]
    },
    {
      "cell_type": "code",
      "execution_count": 12,
      "metadata": {
        "colab": {
          "base_uri": "https://localhost:8080/"
        },
        "id": "IR4j1Ecl0xEF",
        "outputId": "36255283-3fc2-4636-ec82-f127fec37c97"
      },
      "outputs": [
        {
          "name": "stdout",
          "output_type": "stream",
          "text": [
            "total 721512\n",
            "-rw-r--r-- 1 root root 736348035 Jun 12 00:59 deberta_classification_onnx\n",
            "-rw-r--r-- 1 root root   2464616 Jun 12 00:59 deberta_spp\n",
            "drwxr-xr-x 3 root root      4096 Jun 12 00:59 fields\n",
            "drwxr-xr-x 2 root root      4096 Jun 12 00:59 metadata\n"
          ]
        }
      ],
      "source": [
        "! ls -l {ONNX_MODEL}_spark_nlp_onnx"
      ]
    },
    {
      "cell_type": "markdown",
      "metadata": {
        "id": "lgE5Gnsv0xEF"
      },
      "source": [
        "Now let's see how we can use it on other machines, clusters, or any place you wish to use your new and shiny DeBertaForTokenClassification model 😊"
      ]
    },
    {
      "cell_type": "code",
      "execution_count": 13,
      "metadata": {
        "id": "J4IBE82S0xEF"
      },
      "outputs": [],
      "source": [
        "tokenClassifier_loaded = DeBertaForTokenClassification.load(\"./{}_spark_nlp_onnx\".format(ONNX_MODEL))\\\n",
        "  .setInputCols([\"document\",'token'])\\\n",
        "  .setOutputCol(\"ner\")"
      ]
    },
    {
      "cell_type": "markdown",
      "metadata": {
        "id": "O4H6um1v0xEF"
      },
      "source": [
        "You can see what labels were used to train this model via `getClasses` function:"
      ]
    },
    {
      "cell_type": "code",
      "execution_count": 14,
      "metadata": {
        "colab": {
          "base_uri": "https://localhost:8080/"
        },
        "id": "gbE1cEcZ0xEF",
        "outputId": "5c510d58-e388-43ec-947f-ab084f6d44b7"
      },
      "outputs": [
        {
          "data": {
            "text/plain": [
              "['I-ANATOMY',\n",
              " 'B-ABNORMALITY',\n",
              " 'B-DISEASE',\n",
              " 'B-ANATOMY',\n",
              " 'I-NON-ABNORMALITY',\n",
              " 'I-NON-DISEASE',\n",
              " 'I-ABNORMALITY',\n",
              " 'B-NON-DISEASE',\n",
              " 'B-NON-ABNORMALITY',\n",
              " 'I-DISEASE',\n",
              " 'O']"
            ]
          },
          "execution_count": 14,
          "metadata": {},
          "output_type": "execute_result"
        }
      ],
      "source": [
        "tokenClassifier_loaded.getClasses()"
      ]
    },
    {
      "cell_type": "markdown",
      "metadata": {
        "id": "4-Mudhed0xEF"
      },
      "source": [
        "This is how you can use your loaded classifier model in Spark NLP 🚀 pipeline:"
      ]
    },
    {
      "cell_type": "code",
      "execution_count": 18,
      "metadata": {
        "colab": {
          "base_uri": "https://localhost:8080/"
        },
        "id": "nWU4RmSb0xEG",
        "outputId": "8493072d-d582-44f7-ef74-0bc7fc92faaf"
      },
      "outputs": [
        {
          "name": "stdout",
          "output_type": "stream",
          "text": [
            "+------------------------------------------------------------------------------------------------+-------------------------------------------------------------------------------------------------------------------------------------------------------------------------------+\n",
            "|text                                                                                            |result                                                                                                                                                                         |\n",
            "+------------------------------------------------------------------------------------------------+-------------------------------------------------------------------------------------------------------------------------------------------------------------------------------+\n",
            "|The MRI showed a lesion in the left temporal lobe, but no evidence of stroke or tumor was found.|[O, B-ANATOMY, I-ANATOMY, O, O, O, O, O, O, O, O, O, B-ABNORMALITY, I-ABNORMALITY, I-ABNORMALITY, I-ABNORMALITY, I-ABNORMALITY, I-ABNORMALITY, I-ABNORMALITY, I-ABNORMALITY, O]|\n",
            "+------------------------------------------------------------------------------------------------+-------------------------------------------------------------------------------------------------------------------------------------------------------------------------------+\n",
            "\n",
            "+----------------------------------------+-----------+\n",
            "|text                                    |entity     |\n",
            "+----------------------------------------+-----------+\n",
            "|MRI showed                              |ANATOMY    |\n",
            "|no evidence of stroke or tumor was found|ABNORMALITY|\n",
            "+----------------------------------------+-----------+\n",
            "\n"
          ]
        }
      ],
      "source": [
        "from sparknlp.base import DocumentAssembler\n",
        "from sparknlp.annotator import Tokenizer, NerConverter\n",
        "from pyspark.ml import Pipeline\n",
        "\n",
        "document_assembler = DocumentAssembler() \\\n",
        "    .setInputCol(\"text\") \\\n",
        "    .setOutputCol(\"document\")\n",
        "\n",
        "tokenizer = Tokenizer() \\\n",
        "    .setInputCols([\"document\"]) \\\n",
        "    .setOutputCol(\"token\")\n",
        "\n",
        "converter = NerConverter() \\\n",
        "    .setInputCols([\"document\", \"token\", \"ner\"]) \\\n",
        "    .setOutputCol(\"ner_chunk\")\n",
        "\n",
        "pipeline = Pipeline(stages=[\n",
        "    document_assembler,\n",
        "    tokenizer,\n",
        "    tokenClassifier_loaded,\n",
        "    converter\n",
        "])\n",
        "\n",
        "example = spark.createDataFrame([[\"The MRI showed a lesion in the left temporal lobe, but no evidence of stroke or tumor was found.\"],]).toDF(\"text\")\n",
        "result = pipeline.fit(example).transform(example)\n",
        "\n",
        "result.select(\"text\", \"ner.result\").show(truncate=False)\n",
        "result.selectExpr(\"explode(ner_chunk) as chunk\").selectExpr(\n",
        "    \"chunk.result as text\",\n",
        "    \"chunk.metadata['entity'] as entity\"\n",
        ").show(truncate=False)"
      ]
    },
    {
      "cell_type": "markdown",
      "metadata": {
        "id": "kUObZiJ70xEG"
      },
      "source": [
        "That's it! You can now go wild and use hundreds of `DeBertaForTokenClassification` models from HuggingFace 🤗 in Spark NLP 🚀\n"
      ]
    }
  ],
  "metadata": {
    "accelerator": "GPU",
    "colab": {
      "gpuType": "T4",
      "provenance": []
    },
    "kernelspec": {
      "display_name": "Python 3",
      "name": "python3"
    },
    "language_info": {
      "codemirror_mode": {
        "name": "ipython",
        "version": 3
      },
      "file_extension": ".py",
      "mimetype": "text/x-python",
      "name": "python",
      "nbconvert_exporter": "python",
      "pygments_lexer": "ipython3"
    }
  },
  "nbformat": 4,
  "nbformat_minor": 0
}
