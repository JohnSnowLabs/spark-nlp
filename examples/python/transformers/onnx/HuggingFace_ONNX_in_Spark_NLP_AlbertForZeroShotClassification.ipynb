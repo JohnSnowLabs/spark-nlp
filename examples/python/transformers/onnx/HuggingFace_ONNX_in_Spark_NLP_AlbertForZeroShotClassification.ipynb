{
  "cells": [
    {
      "cell_type": "markdown",
      "metadata": {
        "id": "myRLo4DoOXMv"
      },
      "source": [
        "![JohnSnowLabs](https://sparknlp.org/assets/images/logo.png)\n",
        "\n",
        "[![Open In Colab](https://colab.research.google.com/assets/colab-badge.svg)](https://colab.research.google.com/github/JohnSnowLabs/spark-nlp/blob/master/examples/python/transformers/onnx/HuggingFace_ONNX_in_Spark_NLP_AlbertForZeroShotClassification.ipynb)"
      ]
    },
    {
      "cell_type": "markdown",
      "metadata": {
        "id": "kbcLY-vUOXMx"
      },
      "source": [
        "## Import ONNX AlbertForZeroShotClassification models from HuggingFace 🤗  into Spark NLP 🚀\n",
        "\n",
        "Let's keep in mind a few things before we start 😊\n",
        "\n",
        "- ONNX support was introduced in  `Spark NLP 5.0.0`, enabling high performance inference for models.\n",
        "- `AlbertForZeroShotClassification` is only available since in `Spark NLP 5.4.2` and after. So please make sure you have upgraded to the latest Spark NLP release\n",
        "- You can import ALBERT models trained/fine-tuned for sequence classification via `AlbertForSequenceClassification` or `TFAlbertForSequenceClassification`. These models are usually under `Sequence Classification` category and have `camembert` in their labels\n",
        "- Reference: [TFAlbertForSequenceClassification](https://huggingface.co/docs/transformers/model_doc/camembert#transformers.TFCamembertForSequenceClassification)\n",
        "- Some [example models](https://huggingface.co/models?other=camembert&pipeline_tag=token-classification)"
      ]
    },
    {
      "cell_type": "markdown",
      "metadata": {
        "id": "p6AcYDNmOXMy"
      },
      "source": [
        "## Export and Save HuggingFace model"
      ]
    },
    {
      "cell_type": "markdown",
      "metadata": {
        "id": "bdBT4GeOOXMy"
      },
      "source": [
        "- Let's install `transformers` package with the `onnx` extension and it's dependencies. You don't need `onnx` to be installed for Spark NLP, however, we need it to load and save models from HuggingFace.\n",
        "- We lock `transformers` on version `4.48.2`. This doesn't mean it won't work with the future releases, but we wanted you to know which versions have been tested successfully.\n",
        "- CamembertTokenizer requires the `SentencePiece` library, so we install that as well"
      ]
    },
    {
      "cell_type": "code",
      "execution_count": null,
      "metadata": {
        "colab": {
          "base_uri": "https://localhost:8080/"
        },
        "id": "X_2GFHYJOXMz",
        "outputId": "cc18a4e6-926c-4b84-f04e-6208ed6bfbe1"
      },
      "outputs": [],
      "source": [
        "!pip install -q --upgrade transformers[onnx]==4.48.2 optimum==1.24.0 sentencepiece==0.2.0 tensorflow==2.18.0"
      ]
    },
    {
      "cell_type": "markdown",
      "metadata": {
        "id": "KwJwuD8zOXM0"
      },
      "source": [
        "- HuggingFace has an extension called Optimum which offers specialized model inference, including ONNX. We can use this to import and export ONNX models with `from_pretrained` and `save_pretrained`.\n",
        "- We'll use [DAMO-NLP-SG/zero-shot-classify-SSTuning-ALBERT](https://huggingface.co/DAMO-NLP-SG/zero-shot-classify-SSTuning-ALBERT)  model from HuggingFace as an example and load it as a `ORTModelForSequenceClassification`, representing an ONNX model."
      ]
    },
    {
      "cell_type": "code",
      "execution_count": 2,
      "metadata": {
        "id": "OzpLlLVIqsm8"
      },
      "outputs": [],
      "source": [
        "MODEL_NAME = 'DAMO-NLP-SG/zero-shot-classify-SSTuning-ALBERT'\n",
        "ONNX_MODEL = f\"onnx_models/{MODEL_NAME}\""
      ]
    },
    {
      "cell_type": "code",
      "execution_count": 3,
      "metadata": {
        "colab": {
          "base_uri": "https://localhost:8080/"
        },
        "id": "9gE3DvRMqrji",
        "outputId": "8315ed71-3158-45d5-ac90-939c6afd5c46"
      },
      "outputs": [
        {
          "name": "stdout",
          "output_type": "stream",
          "text": [
            "2025-02-03 22:05:32.965016: E external/local_xla/xla/stream_executor/cuda/cuda_fft.cc:477] Unable to register cuFFT factory: Attempting to register factory for plugin cuFFT when one has already been registered\n",
            "WARNING: All log messages before absl::InitializeLog() is called are written to STDERR\n",
            "E0000 00:00:1738620333.309496    1261 cuda_dnn.cc:8310] Unable to register cuDNN factory: Attempting to register factory for plugin cuDNN when one has already been registered\n",
            "E0000 00:00:1738620333.396602    1261 cuda_blas.cc:1418] Unable to register cuBLAS factory: Attempting to register factory for plugin cuBLAS when one has already been registered\n",
            "2025-02-03 22:05:34.062495: I tensorflow/core/platform/cpu_feature_guard.cc:210] This TensorFlow binary is optimized to use available CPU instructions in performance-critical operations.\n",
            "To enable the following instructions: AVX2 FMA, in other operations, rebuild TensorFlow with the appropriate compiler flags.\n",
            "config.json: 100% 1.77k/1.77k [00:00<00:00, 10.5MB/s]\n",
            "pytorch_model.bin: 100% 891M/891M [00:11<00:00, 76.2MB/s]\n",
            "tokenizer_config.json: 100% 486/486 [00:00<00:00, 2.79MB/s]\n",
            "tokenizer.json: 100% 2.27M/2.27M [00:00<00:00, 35.1MB/s]\n",
            "special_tokens_map.json: 100% 245/245 [00:00<00:00, 1.74MB/s]\n",
            "model.safetensors: 100% 891M/891M [01:49<00:00, 8.11MB/s]\n"
          ]
        }
      ],
      "source": [
        "!optimum-cli export onnx --model {MODEL_NAME} {ONNX_MODEL}"
      ]
    },
    {
      "cell_type": "markdown",
      "metadata": {
        "id": "42GXDuPCOXM1"
      },
      "source": [
        "Let's have a look inside this directory and see what we are dealing with:"
      ]
    },
    {
      "cell_type": "code",
      "execution_count": 4,
      "metadata": {
        "colab": {
          "base_uri": "https://localhost:8080/"
        },
        "id": "NTxJiuBoOXM1",
        "outputId": "251b4914-63b5-4eb8-aa2f-8c69d56900cf"
      },
      "outputs": [
        {
          "name": "stdout",
          "output_type": "stream",
          "text": [
            "total 872500\n",
            "-rw-r--r-- 1 root root      1799 Feb  3 22:06 config.json\n",
            "-rw-r--r-- 1 root root 891149939 Feb  3 22:07 model.onnx\n",
            "-rw-r--r-- 1 root root       970 Feb  3 22:06 special_tokens_map.json\n",
            "-rw-r--r-- 1 root root      1252 Feb  3 22:06 tokenizer_config.json\n",
            "-rw-r--r-- 1 root root   2272346 Feb  3 22:06 tokenizer.json\n"
          ]
        }
      ],
      "source": [
        "!ls -l {ONNX_MODEL}"
      ]
    },
    {
      "cell_type": "markdown",
      "metadata": {
        "id": "VU-_uvb9TUL6"
      },
      "source": [
        "We are using based model for the tokenizer because the model `DAMO-NLP-SG/zero-shot-classify-SSTuning-ALBERT` does not have sentencepiece"
      ]
    },
    {
      "cell_type": "code",
      "execution_count": null,
      "metadata": {
        "colab": {
          "base_uri": "https://localhost:8080/",
          "height": 304,
          "referenced_widgets": [
            "c623926ac5b54343ab1a7fde57fe2d4b",
            "f80f0006f6dc441ea6888f65bb95f1d0",
            "40a2b3b4ab1a49cca773279ac7466040",
            "7d15f9d52ab6415abcab5a877a9fd9cb",
            "12c56735fdb04524a3431eadcbd94c58",
            "bfb5a4ef39274d548e6985c88d2838cc",
            "66c451dc5fc54f428bbe36890e9ed7e1",
            "cce212e12f924ef48113da547bd05ee7",
            "4a74447349914ca0ab42e32dd0784f51",
            "0c411d9240944e56bcec1767f2ae8b52",
            "dc5cdb8f340a45219aa9efe1ded82d80",
            "e90e692ee1a14ecfb2c4d949adc74cd8",
            "7693c40c196e490bbaa8f6f0199aa516",
            "e0ebbe9be28143e8addb4bede5c9d250",
            "bc4ea066ed794a949fe7652dd4fd1068",
            "0b8b6b7485be4339b01a09790610a6c7",
            "ba996513d2ad4a8999304e2521e09c89",
            "33e0ad7bf64744028e26b9569498aef4",
            "06e14c37748e4111bf7bbc92c9d1c9f1",
            "ca940d14408d4636ab34821f4438e134",
            "e911b5f57afb4e9da94e392a2fdffb71",
            "682ec769714548cb95b04962d67be876",
            "d03eec63982f4222b76048132c2b8c3a",
            "ca84403ca8374fc4a1d9b335d9da1504",
            "4feb608bfe9c451aa7fc963239b6f353",
            "36a571658d614b5a90a075baae4af9bb",
            "3f04aa9c1bb24afca1dbd85227c15d8d",
            "a0dcb14f41e94f53887e3824bb4e775c",
            "700f99bb11b64b36ac8cf1f89bbfbe0d",
            "2719dc9a78904957be7333724c24238b",
            "737f22b17ab34c2fba9486fac6089ed8",
            "677d78ddbb5340699eb2a905ae3c8f4f",
            "6f455a0aceb54dc890880552fb1204af",
            "cd2a549663b847e2a62c6e7a55302b25",
            "496a2ebd24f44a1ab447049fe2345333",
            "0abd2b383485463bb4a7e7f74f8b232c",
            "7ca21257917542b8a7275edba88760b1",
            "128647db143441adb73c2c6870e22024",
            "c4d97692defc464b830e983ba882db8a",
            "90cb135f709c41ef96054364f0c50f6c",
            "666de204c5ac414c8d925c55b164bab9",
            "ce4f7d7ca61e4d8db860906ea7f57acc",
            "0002be81fb104190a45dc1ca8fc21474",
            "b03d856c15a54596bcb3c39f6ccd90bb"
          ]
        },
        "id": "klcWcbmhTFhC",
        "outputId": "a7a14a50-3ddf-4c19-fad8-14765ef3a8f4"
      },
      "outputs": [
        {
          "name": "stderr",
          "output_type": "stream",
          "text": [
            "/usr/local/lib/python3.11/dist-packages/huggingface_hub/utils/_auth.py:94: UserWarning: \n",
            "The secret `HF_TOKEN` does not exist in your Colab secrets.\n",
            "To authenticate with the Hugging Face Hub, create a token in your settings tab (https://huggingface.co/settings/tokens), set it as secret in your Google Colab and restart your session.\n",
            "You will be able to reuse this secret in all of your notebooks.\n",
            "Please note that authentication is recommended but still optional to access public models or datasets.\n",
            "  warnings.warn(\n"
          ]
        },
        {
          "data": {
            "application/vnd.jupyter.widget-view+json": {
              "model_id": "c623926ac5b54343ab1a7fde57fe2d4b",
              "version_major": 2,
              "version_minor": 0
            },
            "text/plain": [
              "tokenizer_config.json:   0%|          | 0.00/25.0 [00:00<?, ?B/s]"
            ]
          },
          "metadata": {},
          "output_type": "display_data"
        },
        {
          "data": {
            "application/vnd.jupyter.widget-view+json": {
              "model_id": "e90e692ee1a14ecfb2c4d949adc74cd8",
              "version_major": 2,
              "version_minor": 0
            },
            "text/plain": [
              "spiece.model:   0%|          | 0.00/760k [00:00<?, ?B/s]"
            ]
          },
          "metadata": {},
          "output_type": "display_data"
        },
        {
          "data": {
            "application/vnd.jupyter.widget-view+json": {
              "model_id": "d03eec63982f4222b76048132c2b8c3a",
              "version_major": 2,
              "version_minor": 0
            },
            "text/plain": [
              "tokenizer.json:   0%|          | 0.00/1.31M [00:00<?, ?B/s]"
            ]
          },
          "metadata": {},
          "output_type": "display_data"
        },
        {
          "data": {
            "application/vnd.jupyter.widget-view+json": {
              "model_id": "cd2a549663b847e2a62c6e7a55302b25",
              "version_major": 2,
              "version_minor": 0
            },
            "text/plain": [
              "config.json:   0%|          | 0.00/710 [00:00<?, ?B/s]"
            ]
          },
          "metadata": {},
          "output_type": "display_data"
        },
        {
          "name": "stdout",
          "output_type": "stream",
          "text": [
            "Tokenizer loaded successfully!\n",
            "Tokenizer saved successfully!\n"
          ]
        }
      ],
      "source": [
        "from transformers import AlbertTokenizer\n",
        "import tensorflow as tf\n",
        "\n",
        "try:\n",
        "    tokenizer = AlbertTokenizer.from_pretrained('albert-xxlarge-v2')\n",
        "    print(\"Tokenizer loaded successfully!\")\n",
        "except OSError as e:\n",
        "    print(f\"Error loading tokenizer: {e}\")\n",
        "\n",
        "try:\n",
        "    tokenizer.save_pretrained(ONNX_MODEL)\n",
        "    print(\"Tokenizer saved successfully!\")\n",
        "except Exception as e:\n",
        "    print(f\"Error saving tokenizer: {e}\")"
      ]
    },
    {
      "cell_type": "code",
      "execution_count": 6,
      "metadata": {
        "colab": {
          "base_uri": "https://localhost:8080/"
        },
        "id": "rUab53MhT9dj",
        "outputId": "9f9faad5-096f-4f99-9295-59089a3bcd23"
      },
      "outputs": [
        {
          "name": "stdout",
          "output_type": "stream",
          "text": [
            "total 873244\n",
            "-rw-r--r-- 1 root root      1799 Feb  3 22:06 config.json\n",
            "-rw-r--r-- 1 root root 891149939 Feb  3 22:07 model.onnx\n",
            "-rw-r--r-- 1 root root       286 Feb  3 22:24 special_tokens_map.json\n",
            "-rw-r--r-- 1 root root    760289 Feb  3 22:24 spiece.model\n",
            "-rw-r--r-- 1 root root      1277 Feb  3 22:24 tokenizer_config.json\n",
            "-rw-r--r-- 1 root root   2272346 Feb  3 22:06 tokenizer.json\n"
          ]
        }
      ],
      "source": [
        "!ls -l {ONNX_MODEL}"
      ]
    },
    {
      "cell_type": "code",
      "execution_count": 7,
      "metadata": {
        "id": "bx24WfBQOXM1"
      },
      "outputs": [],
      "source": [
        "!mkdir {ONNX_MODEL}/assets"
      ]
    },
    {
      "cell_type": "markdown",
      "metadata": {
        "id": "lUKXGzFYOXM1"
      },
      "source": [
        "- As you can see, we need to move `spiece.model` from the tokenizer to assets folder which Spark NLP will look for\n",
        "- In addition to vocabs, we also need `labels` and their `ids` which is saved inside the model's config. We will save this inside `labels.txt`"
      ]
    },
    {
      "cell_type": "code",
      "execution_count": null,
      "metadata": {
        "id": "StBnaUx68qfE"
      },
      "outputs": [],
      "source": [
        "from transformers import AutoConfig\n",
        "import os\n",
        "\n",
        "human_readable_labels = [\"entailment\", \"contradiction\"]\n",
        "\n",
        "config = AutoConfig.from_pretrained(MODEL_NAME)\n",
        "labels = config.id2label\n",
        "\n",
        "\n",
        "mapped_labels = [human_readable_labels[idx] for idx in sorted(labels.keys()) if idx < len(human_readable_labels)]\n",
        "\n",
        "assets_path = os.path.join(ONNX_MODEL, \"assets\")\n",
        "os.makedirs(assets_path, exist_ok=True)\n",
        "\n",
        "labels_file = os.path.join(assets_path, \"labels.txt\")\n",
        "with open(labels_file, \"w\") as f:\n",
        "    f.write(\"\\n\".join(mapped_labels))\n",
        "\n",
        "print(f\"Labels saved to: {labels_file}\")"
      ]
    },
    {
      "cell_type": "code",
      "execution_count": 9,
      "metadata": {
        "id": "mYD9y9qDOXM2"
      },
      "outputs": [],
      "source": [
        "!mv {ONNX_MODEL}/spiece.model {ONNX_MODEL}/assets"
      ]
    },
    {
      "cell_type": "markdown",
      "metadata": {
        "id": "oTyrVcwPOXM2"
      },
      "source": [
        "Voila! We have our `spiece.model` and `labels.txt` inside assets directory"
      ]
    },
    {
      "cell_type": "code",
      "execution_count": 10,
      "metadata": {
        "colab": {
          "base_uri": "https://localhost:8080/"
        },
        "id": "XTzghoZ9OXM2",
        "outputId": "3d505b4f-d761-4278-d65a-4196e37ef152"
      },
      "outputs": [
        {
          "name": "stdout",
          "output_type": "stream",
          "text": [
            "onnx_models/DAMO-NLP-SG/zero-shot-classify-SSTuning-ALBERT:\n",
            "total 872504\n",
            "drwxr-xr-x 2 root root      4096 Feb  3 22:24 assets\n",
            "-rw-r--r-- 1 root root      1799 Feb  3 22:06 config.json\n",
            "-rw-r--r-- 1 root root 891149939 Feb  3 22:07 model.onnx\n",
            "-rw-r--r-- 1 root root       286 Feb  3 22:24 special_tokens_map.json\n",
            "-rw-r--r-- 1 root root      1277 Feb  3 22:24 tokenizer_config.json\n",
            "-rw-r--r-- 1 root root   2272346 Feb  3 22:06 tokenizer.json\n",
            "\n",
            "onnx_models/DAMO-NLP-SG/zero-shot-classify-SSTuning-ALBERT/assets:\n",
            "total 748\n",
            "-rw-r--r-- 1 root root     21 Feb  3 22:24 labels.txt\n",
            "-rw-r--r-- 1 root root 760289 Feb  3 22:24 spiece.model\n"
          ]
        }
      ],
      "source": [
        "!ls -lR {ONNX_MODEL}"
      ]
    },
    {
      "cell_type": "code",
      "execution_count": 11,
      "metadata": {
        "colab": {
          "base_uri": "https://localhost:8080/"
        },
        "id": "RJTACAHVD_53",
        "outputId": "339bf33d-72b3-441b-bf32-66fc685de5f7"
      },
      "outputs": [
        {
          "name": "stdout",
          "output_type": "stream",
          "text": [
            "entailment\n",
            "contradict"
          ]
        }
      ],
      "source": [
        "!cat {ONNX_MODEL}/assets/labels.txt"
      ]
    },
    {
      "cell_type": "markdown",
      "metadata": {
        "id": "MtZFJ3geOXM2"
      },
      "source": [
        "## Import and Save AlbertForZeroShotClassification in Spark NLP\n"
      ]
    },
    {
      "cell_type": "markdown",
      "metadata": {
        "id": "tKGcJKB_OXM2"
      },
      "source": [
        "- Let's install and setup Spark NLP in Google Colab"
      ]
    },
    {
      "cell_type": "code",
      "execution_count": null,
      "metadata": {
        "colab": {
          "base_uri": "https://localhost:8080/",
          "height": 845
        },
        "id": "r2-9OsKzOXM2",
        "outputId": "e3ab79eb-c290-4332-aafc-3667da0038e0"
      },
      "outputs": [],
      "source": [
        "!pip install -q pyspark==3.5.4 spark-nlp==5.5.3"
      ]
    },
    {
      "cell_type": "markdown",
      "metadata": {
        "id": "uQrimXpqOXM2"
      },
      "source": [
        "Let's start Spark with Spark NLP included via our simple `start()` function"
      ]
    },
    {
      "cell_type": "code",
      "execution_count": null,
      "metadata": {
        "colab": {
          "base_uri": "https://localhost:8080/"
        },
        "id": "Kl2EKK-lOXM3",
        "outputId": "19304449-5d6c-4e96-f145-ea976c32c30a"
      },
      "outputs": [
        {
          "name": "stdout",
          "output_type": "stream",
          "text": [
            "Apache Spark version: 3.5.4\n"
          ]
        }
      ],
      "source": [
        "import sparknlp\n",
        "\n",
        "spark = sparknlp.start()\n",
        "\n",
        "print(\"Spark NLP version: \", sparknlp.version())\n",
        "print(\"Apache Spark version: \", spark.version)"
      ]
    },
    {
      "cell_type": "markdown",
      "metadata": {
        "id": "cIoqa8jpOXM3"
      },
      "source": [
        "- Let's use `loadSavedModel` functon in `AlbertForZeroShotClassification` which allows us to load ONNX model in SavedModel format\n",
        "- Most params can be set later when you are loading this model in `AlbertForZeroShotClassification` in runtime like `setMaxSentenceLength`, so don't worry what you are setting them now\n",
        "- `loadSavedModel` accepts two params, first is the path to the TF SavedModel. The second is the SparkSession that is `spark` variable we previously started via `sparknlp.start()`\n",
        "- NOTE: `loadSavedModel` accepts local paths in addition to distributed file systems such as `HDFS`, `S3`, `DBFS`, etc. This feature was introduced in Spark NLP 4.2.2 release. Keep in mind the best and recommended way to move/share/reuse Spark NLP models is to use `write.save` so you can use `.load()` from any file systems natively."
      ]
    },
    {
      "cell_type": "markdown",
      "metadata": {
        "id": "U--84qnxOXM3"
      },
      "source": [
        "- Let's save it on disk so it is easier to be moved around and also be used later via `.load` function"
      ]
    },
    {
      "cell_type": "code",
      "execution_count": null,
      "metadata": {
        "id": "tdU3Olvg-o6m"
      },
      "outputs": [],
      "source": [
        "from sparknlp.annotator import AlbertForZeroShotClassification\n",
        "\n",
        "zero_shot_classifier = AlbertForZeroShotClassification\\\n",
        "  .loadSavedModel(ONNX_MODEL, spark)\\\n",
        "  .setInputCols([\"document\",'token'])\\\n",
        "  .setOutputCol(\"class\")\\\n",
        "  .setCaseSensitive(False)\\\n",
        "  .setMaxSentenceLength(128)\\\n",
        "  .setCandidateLabels([\"urgent\", \"mobile\", \"technology\"])"
      ]
    },
    {
      "cell_type": "code",
      "execution_count": 17,
      "metadata": {
        "id": "FeL-PyNLOXM3"
      },
      "outputs": [],
      "source": [
        "zero_shot_classifier.write().overwrite().save(\"./{}_spark_nlp_onnx\".format(ONNX_MODEL))"
      ]
    },
    {
      "cell_type": "markdown",
      "metadata": {
        "id": "KiX_wtJzOXM3"
      },
      "source": [
        "Let's clean up stuff we don't need anymore"
      ]
    },
    {
      "cell_type": "code",
      "execution_count": 18,
      "metadata": {
        "id": "-QDg7Y6bOXM3"
      },
      "outputs": [],
      "source": [
        "!rm -rf {ONNX_MODEL}"
      ]
    },
    {
      "cell_type": "markdown",
      "metadata": {
        "id": "Bfk3hT24OXM3"
      },
      "source": [
        "Awesome 😎  !\n",
        "\n",
        "This is your AlbertForZeroShotClassification model from HuggingFace 🤗  loaded and saved by Spark NLP 🚀"
      ]
    },
    {
      "cell_type": "code",
      "execution_count": null,
      "metadata": {
        "id": "IEbYe8JfOXM4"
      },
      "outputs": [],
      "source": [
        "zero_shot_classifier_loaded = AlbertForZeroShotClassification.load(\"./{}_spark_nlp_onnx\".format(ONNX_MODEL))\\\n",
        "  .setInputCols([\"document\",'token'])\\\n",
        "  .setOutputCol(\"multi_class\") \\\n",
        "  .setCandidateLabels([\"urgent\", \"mobile\", \"technology\"])"
      ]
    },
    {
      "cell_type": "code",
      "execution_count": 20,
      "metadata": {
        "colab": {
          "base_uri": "https://localhost:8080/"
        },
        "id": "BQgl3FIvOXM4",
        "outputId": "7a15d982-49c1-435a-8b8a-24c0ab353dc4"
      },
      "outputs": [
        {
          "name": "stdout",
          "output_type": "stream",
          "text": [
            "total 871156\n",
            "-rw-r--r-- 1 root root 891286053 Feb  3 22:29 albert_classification_onnx\n",
            "-rw-r--r-- 1 root root    760289 Feb  3 22:29 albert_spp\n",
            "drwxr-xr-x 3 root root      4096 Feb  3 22:28 fields\n",
            "drwxr-xr-x 2 root root      4096 Feb  3 22:28 metadata\n"
          ]
        }
      ],
      "source": [
        "! ls -l {ONNX_MODEL}_spark_nlp_onnx"
      ]
    },
    {
      "cell_type": "markdown",
      "metadata": {
        "id": "Fz3MtMcUOXM4"
      },
      "source": [
        "Now let's see how we can use it on other machines, clusters, or any place you wish to use your new and shiny AlbertForZeroShotClassification model 😊"
      ]
    },
    {
      "cell_type": "markdown",
      "metadata": {
        "id": "i9DBBy2QOXM4"
      },
      "source": [
        "This is how you can use your loaded classifier model in Spark NLP 🚀 pipeline:"
      ]
    },
    {
      "cell_type": "code",
      "execution_count": null,
      "metadata": {
        "colab": {
          "base_uri": "https://localhost:8080/",
          "height": 356
        },
        "id": "pojxPjIfOXM4",
        "outputId": "32923d70-ca0d-442d-bf52-78894848db32"
      },
      "outputs": [],
      "source": [
        "from sparknlp.base import *\n",
        "from sparknlp.annotator import *\n",
        "from pyspark.ml import Pipeline\n",
        "\n",
        "document_assembler = DocumentAssembler()\\\n",
        "    .setInputCol(\"text\")\\\n",
        "    .setOutputCol(\"document\")\n",
        "\n",
        "tokenizer = Tokenizer()\\\n",
        "    .setInputCols([\"document\"])\\\n",
        "    .setOutputCol(\"token\")\n",
        "\n",
        "pipeline = Pipeline(stages=[\n",
        "    document_assembler,\n",
        "    tokenizer,\n",
        "    zero_shot_classifier_loaded\n",
        "])\n",
        "\n",
        "example = spark.createDataFrame([\n",
        "    [\"I have a problem with my iPhone that needs to be resolved ASAP!\"]\n",
        "]).toDF(\"text\")\n",
        "\n",
        "result = pipeline.fit(example).transform(example)\n",
        "result.select(\"text\", \"multi_class.result\").show()"
      ]
    },
    {
      "cell_type": "markdown",
      "metadata": {
        "id": "MlzWRhQyOXM5"
      },
      "source": [
        "That's it! You can now go wild and use hundreds of `AlbertForZeroShotClassification` models from HuggingFace 🤗 in Spark NLP 🚀\n"
      ]
    }
  ],
  "metadata": {
    "accelerator": "GPU",
    "colab": {
      "gpuType": "L4",
      "machine_shape": "hm",
      "provenance": []
    },
    "kernelspec": {
      "display_name": "Python 3 (ipykernel)",
      "language": "python",
      "name": "python3"
    },
    "language_info": {
      "codemirror_mode": {
        "name": "ipython",
        "version": 3
      },
      "file_extension": ".py",
      "mimetype": "text/x-python",
      "name": "python",
      "nbconvert_exporter": "python",
      "pygments_lexer": "ipython3",
      "version": "3.10.12"
    }
  },
  "nbformat": 4,
  "nbformat_minor": 0
}
