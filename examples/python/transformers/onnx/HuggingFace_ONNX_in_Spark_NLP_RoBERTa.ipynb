{
  "cells": [
    {
      "cell_type": "markdown",
      "metadata": {
        "id": "r3MVxblJOoUo"
      },
      "source": [
        "![JohnSnowLabs](https://sparknlp.org/assets/images/logo.png)\n",
        "\n",
        "[![Open In Colab](https://colab.research.google.com/assets/colab-badge.svg)](https://colab.research.google.com/github/JohnSnowLabs/spark-nlp/blob/master/examples/python/transformers/onnx/HuggingFace_ONNX_in_Spark_NLP_RoBERTa.ipynb)\n",
        "\n",
        "# Import ONNX RoBERTa models from HuggingFace 🤗 into Spark NLP 🚀\n",
        "\n",
        "Let's keep in mind a few things before we start 😊\n",
        "\n",
        "- ONNX support was introduced in  `Spark NLP 5.0.0`, enabling high performance inference for models. Please make sure you have upgraded to the latest Spark NLP release.\n",
        "- You can import models for RoBERTa from HuggingFace and they have to be in `Fill Mask` category. Meaning, you cannot use RoBERTa models trained/fine-tuned on a specific task such as token/sequence classification."
      ]
    },
    {
      "cell_type": "markdown",
      "metadata": {
        "id": "QvbGm6gfOoUr"
      },
      "source": [
        "## Export and Save HuggingFace model"
      ]
    },
    {
      "cell_type": "markdown",
      "metadata": {
        "id": "kePsjYlzOoUr"
      },
      "source": [
        "- Let's install `transformers` package with the `onnx` extension and it's dependencies. You don't need `onnx` to be installed for Spark NLP, however, we need it to load and save models from HuggingFace.\n",
        "- We lock `transformers` on version `4.48.3`. This doesn't mean it won't work with the future releases, but we wanted you to know which versions have been tested successfully."
      ]
    },
    {
      "cell_type": "code",
      "execution_count": null,
      "metadata": {
        "colab": {
          "base_uri": "https://localhost:8080/"
        },
        "id": "dvZnq3dQOoUs",
        "outputId": "33caa5b2-2be5-4e93-c3f7-a206df38ab86"
      },
      "outputs": [],
      "source": [
        "!pip install -q --upgrade transformers[onnx]==4.48.3 optimum onnx"
      ]
    },
    {
      "cell_type": "markdown",
      "metadata": {
        "id": "S3wJGxavOoUt"
      },
      "source": [
        "- HuggingFace has an extension called Optimum which offers specialized model inference, including ONNX. We can use this to import and export ONNX models with `from_pretrained` and `save_pretrained`.\n",
        "- We'll use [roberta-base](https://huggingface.co/roberta-base) model from HuggingFace as an example and load it as a `ORTModelForFeatureExtraction`, representing an ONNX model.\n",
        "- In addition to the RoBERTa model, we also need to save the tokenizer. This is the same for every model, these are assets (saved in `/assets`) needed for tokenization inside Spark NLP."
      ]
    },
    {
      "cell_type": "code",
      "execution_count": 2,
      "metadata": {
        "colab": {
          "base_uri": "https://localhost:8080/",
          "height": 435,
          "referenced_widgets": [
            "2dd93b96d8954480afcde8d396b02a6d",
            "fc629cf4e21a4112bdd8f96ad60d68a8",
            "e722697095c94143ab1a01c255e333c1",
            "29061e6f534a455dbee5710ba134ee79",
            "355e399dcd794203ac87a739f489565b",
            "a8712983fcc64aeea2258718ac4ca187",
            "7233cb59ddfe493b88652661c82308b3",
            "bb5dff315bfd44a381f08d9e5b69de7d",
            "679e59b0cc50412fb0a83ab4ceabcd69",
            "dd03ebed46414754a4cc39f80949470d",
            "e6fc8dbe17054645b7cc698de3793601",
            "d3e80e050cf444f38f3462965a997736",
            "a257f6ac048f4668a9eb28887e2d2460",
            "6769dff461824a6e8e21401dd484bc3d",
            "12cdf03bbbf940dfa7c402991470d386",
            "a4918e5eda224453b55a2d138fdb7823",
            "d288793512784339b212e88e796aecc7",
            "136cef2e20a74490ba019bcac337789f",
            "e87a4999c59549fa848d98bf848374cc",
            "32ad8358f0524fd49f52e74989dfbc12",
            "3927b631c2ff41a8a25de107d46d4d44",
            "4b48ecd8ec0a4febb2ecc5d41cc4376d",
            "2e09db1e23044c7399af4649f585871f",
            "b0ce3fae034c4e5d900f8f3e959b5004",
            "e6aad3c6bd8f4424b1b55931dc10fa11",
            "34881d58ae2e4f688a4a8167921655a4",
            "9b5dd3dced86417ea567a32f83af42ca",
            "fdb20e6c1ed949419f08837bc4d0008c",
            "02062469dbbd4f58b1b05184ded97d23",
            "481c2248c749428c8b648198fbfddcb5",
            "5a0621bed7fb44a79daa966cbe737289",
            "bef8c669a44441db85f95e6d386c9a4a",
            "282f36ae66674264b21848c846df094e",
            "740a511d461948618ed725ac74c58abc",
            "1454ecc1208b41f6924ed7cbeb935200",
            "317ca9aec7154014a171914223c4096f",
            "117ff6ff9f97487295b48add5038a9e2",
            "acfbc020159e49658c6ed03efd757dbe",
            "7c99ffd98bda4426b41b32df4e550f34",
            "5023eb5b9bec4f68ac71777b091c1ee2",
            "dfc37537409c4455ac1a07f3704f9efa",
            "33c0787a5b2e484796a36ab4cfda6f87",
            "251bd44681a74e81a98a4ddbd147f173",
            "701591fff0ee4254bab656dfc5b814d4",
            "29ec28fa64b64ffb8b2bce4726643c9a",
            "e1cd38a7d71441f2be5f9344268e187a",
            "045217b3e34548f8b0e3436eadbdaa9d",
            "85fc9798ba4849aab44ee0394432c660",
            "e3cf42d2feea4c228e08de24b7c8dc05",
            "a52e4c7474fb43da82fd1abf152d45f0",
            "c761f435c08c4066b01d4eedc2f2bfd2",
            "7fa9523e90db46afb14d79696d9cd0f6",
            "30862364617443f9bab6e17b831d2f11",
            "7d8a2adb38b74637a2895c12a99c236c",
            "0603286fbd394b6aa1af022082063416",
            "dacf87a91e094f2cbaac35654367509a",
            "eb08d280c8f440028773b06d49bf9fec",
            "d5f9dbb1b51a4e0b981824e4163eb1a1",
            "d73418bfc2b24db4bbc2a9e261b13514",
            "1c6f48344eb14b69ac2a232480cbfd89",
            "8e367f57d640453ebb75262ab7373fde",
            "ad46f35eb9de4c178bd6089487090867",
            "ecbbb4a4a6964eb99104791235d82e4b",
            "377bad0239f247aeb767ed33795b0b2d",
            "fbf951921bb04d8aafd8c9fece618a9b",
            "5d06fc5fdd3c42b49523acabf6d2f0df"
          ]
        },
        "id": "JLNvBCFgvke4",
        "outputId": "c82c5e62-8811-461a-f997-6048570523c3"
      },
      "outputs": [
        {
          "name": "stderr",
          "output_type": "stream",
          "text": [
            "/usr/local/lib/python3.11/dist-packages/huggingface_hub/utils/_auth.py:94: UserWarning: \n",
            "The secret `HF_TOKEN` does not exist in your Colab secrets.\n",
            "To authenticate with the Hugging Face Hub, create a token in your settings tab (https://huggingface.co/settings/tokens), set it as secret in your Google Colab and restart your session.\n",
            "You will be able to reuse this secret in all of your notebooks.\n",
            "Please note that authentication is recommended but still optional to access public models or datasets.\n",
            "  warnings.warn(\n"
          ]
        },
        {
          "data": {
            "application/vnd.jupyter.widget-view+json": {
              "model_id": "2dd93b96d8954480afcde8d396b02a6d",
              "version_major": 2,
              "version_minor": 0
            },
            "text/plain": [
              "config.json:   0%|          | 0.00/481 [00:00<?, ?B/s]"
            ]
          },
          "metadata": {},
          "output_type": "display_data"
        },
        {
          "data": {
            "application/vnd.jupyter.widget-view+json": {
              "model_id": "d3e80e050cf444f38f3462965a997736",
              "version_major": 2,
              "version_minor": 0
            },
            "text/plain": [
              "model.safetensors:   0%|          | 0.00/499M [00:00<?, ?B/s]"
            ]
          },
          "metadata": {},
          "output_type": "display_data"
        },
        {
          "name": "stderr",
          "output_type": "stream",
          "text": [
            "Some weights of RobertaModel were not initialized from the model checkpoint at roberta-base and are newly initialized: ['roberta.pooler.dense.bias', 'roberta.pooler.dense.weight']\n",
            "You should probably TRAIN this model on a down-stream task to be able to use it for predictions and inference.\n"
          ]
        },
        {
          "data": {
            "application/vnd.jupyter.widget-view+json": {
              "model_id": "2e09db1e23044c7399af4649f585871f",
              "version_major": 2,
              "version_minor": 0
            },
            "text/plain": [
              "tokenizer_config.json:   0%|          | 0.00/25.0 [00:00<?, ?B/s]"
            ]
          },
          "metadata": {},
          "output_type": "display_data"
        },
        {
          "data": {
            "application/vnd.jupyter.widget-view+json": {
              "model_id": "740a511d461948618ed725ac74c58abc",
              "version_major": 2,
              "version_minor": 0
            },
            "text/plain": [
              "vocab.json:   0%|          | 0.00/899k [00:00<?, ?B/s]"
            ]
          },
          "metadata": {},
          "output_type": "display_data"
        },
        {
          "data": {
            "application/vnd.jupyter.widget-view+json": {
              "model_id": "29ec28fa64b64ffb8b2bce4726643c9a",
              "version_major": 2,
              "version_minor": 0
            },
            "text/plain": [
              "merges.txt:   0%|          | 0.00/456k [00:00<?, ?B/s]"
            ]
          },
          "metadata": {},
          "output_type": "display_data"
        },
        {
          "data": {
            "application/vnd.jupyter.widget-view+json": {
              "model_id": "dacf87a91e094f2cbaac35654367509a",
              "version_major": 2,
              "version_minor": 0
            },
            "text/plain": [
              "tokenizer.json:   0%|          | 0.00/1.36M [00:00<?, ?B/s]"
            ]
          },
          "metadata": {},
          "output_type": "display_data"
        },
        {
          "data": {
            "text/plain": [
              "('onnx_models/roberta-base/tokenizer_config.json',\n",
              " 'onnx_models/roberta-base/special_tokens_map.json',\n",
              " 'onnx_models/roberta-base/vocab.json',\n",
              " 'onnx_models/roberta-base/merges.txt',\n",
              " 'onnx_models/roberta-base/added_tokens.json')"
            ]
          },
          "execution_count": 2,
          "metadata": {},
          "output_type": "execute_result"
        }
      ],
      "source": [
        "from transformers import RobertaTokenizer\n",
        "from optimum.onnxruntime import ORTModelForFeatureExtraction\n",
        "\n",
        "MODEL_NAME = \"roberta-base\"\n",
        "EXPORT_PATH = f\"onnx_models/{MODEL_NAME}\"\n",
        "\n",
        "ort_model = ORTModelForFeatureExtraction.from_pretrained(MODEL_NAME, export=True)\n",
        "ort_model.save_pretrained(EXPORT_PATH)\n",
        "\n",
        "tokenizer = RobertaTokenizer.from_pretrained(MODEL_NAME)\n",
        "tokenizer.save_pretrained(EXPORT_PATH)"
      ]
    },
    {
      "cell_type": "markdown",
      "metadata": {
        "id": "U2jEIVfsOoUu"
      },
      "source": [
        "Let's have a look inside these two directories and see what we are dealing with:"
      ]
    },
    {
      "cell_type": "code",
      "execution_count": 3,
      "metadata": {
        "colab": {
          "base_uri": "https://localhost:8080/"
        },
        "id": "yIlFlN2WOoUu",
        "outputId": "795c049d-e196-436e-ab26-41831b460fee"
      },
      "outputs": [
        {
          "name": "stdout",
          "output_type": "stream",
          "text": [
            "total 486304\n",
            "-rw-r--r-- 1 root root       644 Jun 16 03:22 config.json\n",
            "-rw-r--r-- 1 root root    456318 Jun 16 03:22 merges.txt\n",
            "-rw-r--r-- 1 root root 496500406 Jun 16 03:22 model.onnx\n",
            "-rw-r--r-- 1 root root       958 Jun 16 03:22 special_tokens_map.json\n",
            "-rw-r--r-- 1 root root      1222 Jun 16 03:22 tokenizer_config.json\n",
            "-rw-r--r-- 1 root root    999355 Jun 16 03:22 vocab.json\n"
          ]
        }
      ],
      "source": [
        "!ls -l {EXPORT_PATH}"
      ]
    },
    {
      "cell_type": "markdown",
      "metadata": {
        "id": "DQjTd824wzbr"
      },
      "source": [
        "- We need to convert `vocab.json` to `vocab.txt` by extracting and sorting the tokens (one per line), and make sure `merges.txt` is also present.\n",
        "- Move both `vocab.txt` and `merges.tx`t into an `assets/` folder inside your export path, Spark NLP looks for tokenizer files there when loading ONNX models."
      ]
    },
    {
      "cell_type": "code",
      "execution_count": 6,
      "metadata": {
        "id": "vMaW98_XOoUu"
      },
      "outputs": [],
      "source": [
        "import json\n",
        "\n",
        "with open(f'{EXPORT_PATH}/vocab.json') as f, open(f'{EXPORT_PATH}/vocab.txt', 'w') as out:\n",
        "    out.writelines(f\"{k}\\n\" for k in json.load(f).keys())\n",
        "\n",
        "!mkdir -p {EXPORT_PATH}/assets\n",
        "!mv {EXPORT_PATH}/vocab.txt {EXPORT_PATH}/merges.txt {EXPORT_PATH}/assets/"
      ]
    },
    {
      "cell_type": "code",
      "execution_count": 7,
      "metadata": {
        "colab": {
          "base_uri": "https://localhost:8080/"
        },
        "id": "Gd_6crkTOoUu",
        "outputId": "84b2371c-1642-4d1d-e58d-6168f7add735"
      },
      "outputs": [
        {
          "name": "stdout",
          "output_type": "stream",
          "text": [
            "total 848\n",
            "-rw-r--r-- 1 root root 456318 Jun 16 03:22 merges.txt\n",
            "-rw-r--r-- 1 root root 407065 Jun 16 03:26 vocab.txt\n"
          ]
        }
      ],
      "source": [
        "!ls -l {EXPORT_PATH}/assets"
      ]
    },
    {
      "cell_type": "markdown",
      "metadata": {
        "id": "adDXgXKiOoUv"
      },
      "source": [
        "## Import and Save RoBERTa in Spark NLP\n",
        "\n",
        "- **Install and set up Spark NLP in Google Colab**\n",
        "  - This example uses specific versions of `pyspark` and `spark-nlp` that have been tested with the transformer model to ensure everything runs smoothly."
      ]
    },
    {
      "cell_type": "code",
      "execution_count": 8,
      "metadata": {
        "colab": {
          "base_uri": "https://localhost:8080/"
        },
        "id": "7uIqGa_rOoUv",
        "outputId": "2864dcef-98c4-4ac9-b240-abb2e4804715"
      },
      "outputs": [
        {
          "name": "stdout",
          "output_type": "stream",
          "text": [
            "\u001b[2K     \u001b[90m━━━━━━━━━━━━━━━━━━━━━━━━━━━━━━━━━━━━━━━\u001b[0m \u001b[32m317.3/317.3 MB\u001b[0m \u001b[31m1.5 MB/s\u001b[0m eta \u001b[36m0:00:00\u001b[0m\n",
            "\u001b[?25h  Preparing metadata (setup.py) ... \u001b[?25l\u001b[?25hdone\n",
            "\u001b[2K   \u001b[90m━━━━━━━━━━━━━━━━━━━━━━━━━━━━━━━━━━━━━━━━\u001b[0m \u001b[32m635.7/635.7 kB\u001b[0m \u001b[31m26.2 MB/s\u001b[0m eta \u001b[36m0:00:00\u001b[0m\n",
            "\u001b[?25h  Building wheel for pyspark (setup.py) ... \u001b[?25l\u001b[?25hdone\n"
          ]
        }
      ],
      "source": [
        "!pip install -q pyspark==3.5.4 spark-nlp==5.5.3"
      ]
    },
    {
      "cell_type": "markdown",
      "metadata": {
        "id": "QNfnHk34OoUv"
      },
      "source": [
        "Let's start Spark with Spark NLP included via our simple `start()` function"
      ]
    },
    {
      "cell_type": "code",
      "execution_count": 9,
      "metadata": {
        "colab": {
          "base_uri": "https://localhost:8080/"
        },
        "id": "VvOvJGVnOoUv",
        "outputId": "f2e5c356-fb43-4a69-cc67-4870774b6130"
      },
      "outputs": [
        {
          "name": "stdout",
          "output_type": "stream",
          "text": [
            "Spark NLP version:  5.5.3\n",
            "Apache Spark version:  3.5.4\n"
          ]
        }
      ],
      "source": [
        "import sparknlp\n",
        "\n",
        "spark = sparknlp.start()\n",
        "\n",
        "print(\"Spark NLP version: \", sparknlp.version())\n",
        "print(\"Apache Spark version: \", spark.version)"
      ]
    },
    {
      "cell_type": "markdown",
      "metadata": {
        "id": "EfbFoHwXOoUv"
      },
      "source": [
        "- Let's use `loadSavedModel` functon in `BertEmbeddings` which allows us to load the ONNX model\n",
        "- Most params will be set automatically. They can also be set later after loading the model in `BertEmbeddings` during runtime, so don't worry about setting them now\n",
        "- `loadSavedModel` accepts two params, first is the path to the exported model. The second is the SparkSession that is `spark` variable we previously started via `sparknlp.start()`\n",
        "- `setStorageRef` is very important. When you are training a task like NER or any Text Classification, we use this reference to bound the trained model to this specific embeddings so you won't load a different embeddings by mistake and see terrible results 😊\n",
        "- It's up to you what you put in `setStorageRef` but it cannot be changed later on. We usually use the name of the model to be clear, but you can get creative if you want!\n",
        "- NOTE: `loadSavedModel` accepts local paths in addition to distributed file systems such as `HDFS`, `S3`, `DBFS`, etc. This feature was introduced in Spark NLP 4.2.2 release. Keep in mind the best and recommended way to move/share/reuse Spark NLP models is to use `write.save` so you can use `.load()` from any file systems natively.st and recommended way to move/share/reuse Spark NLP models is to use `write.save` so you can use `.load()` from any file systems natively.\n"
      ]
    },
    {
      "cell_type": "code",
      "execution_count": 10,
      "metadata": {
        "id": "8agvy3WlOoUw"
      },
      "outputs": [],
      "source": [
        "from sparknlp.annotator import RoBertaEmbeddings\n",
        "\n",
        "roberta = RoBertaEmbeddings.loadSavedModel(f\"{EXPORT_PATH}\", spark)\\\n",
        "    .setInputCols([\"document\",'token'])\\\n",
        "    .setOutputCol(\"roberta\")\\\n",
        "    .setCaseSensitive(True)\\\n",
        "    .setStorageRef('roberta-base')"
      ]
    },
    {
      "cell_type": "markdown",
      "metadata": {
        "id": "gMP0BvM8OoUw"
      },
      "source": [
        "- Let's save it on disk so it is easier to be moved around and also be used later via `.load` function"
      ]
    },
    {
      "cell_type": "code",
      "execution_count": 11,
      "metadata": {
        "id": "IhJYo_wgOoUw"
      },
      "outputs": [],
      "source": [
        "roberta.write().overwrite().save(f\"{MODEL_NAME}_spark_nlp\")"
      ]
    },
    {
      "cell_type": "markdown",
      "metadata": {
        "id": "1yiCc4yBOoUw"
      },
      "source": [
        "Let's clean up stuff we don't need anymore"
      ]
    },
    {
      "cell_type": "code",
      "execution_count": 12,
      "metadata": {
        "id": "BZsWpQ_3OoUw"
      },
      "outputs": [],
      "source": [
        "!rm -rf {EXPORT_PATH}"
      ]
    },
    {
      "cell_type": "markdown",
      "metadata": {
        "id": "Zxe4LOCsOoUw"
      },
      "source": [
        "Awesome  😎 !\n",
        "\n",
        "This is your ONNX RoBERTa model from HuggingFace 🤗  loaded and saved by Spark NLP 🚀"
      ]
    },
    {
      "cell_type": "code",
      "execution_count": 13,
      "metadata": {
        "colab": {
          "base_uri": "https://localhost:8080/"
        },
        "id": "eesc9HTAOoUw",
        "outputId": "6f6ce5f7-e19f-41fb-8d3f-db39f069e49b"
      },
      "outputs": [
        {
          "name": "stdout",
          "output_type": "stream",
          "text": [
            "total 484952\n",
            "drwxr-xr-x 4 root root      4096 Jun 16 03:31 fields\n",
            "drwxr-xr-x 2 root root      4096 Jun 16 03:31 metadata\n",
            "-rw-r--r-- 1 root root 496576300 Jun 16 03:32 roberta_onnx\n"
          ]
        }
      ],
      "source": [
        "! ls -l {MODEL_NAME}_spark_nlp"
      ]
    },
    {
      "cell_type": "markdown",
      "metadata": {
        "id": "7i4DDi3NOoUx"
      },
      "source": [
        "Now let's see how we can use it on other machines, clusters, or any place you wish to use your new and shiny RoBERTa model 😊"
      ]
    },
    {
      "cell_type": "code",
      "execution_count": 14,
      "metadata": {
        "colab": {
          "base_uri": "https://localhost:8080/"
        },
        "id": "1HfPy3IYOoUx",
        "outputId": "44b8065f-f116-4c26-dc33-e43adb250d2a"
      },
      "outputs": [
        {
          "name": "stdout",
          "output_type": "stream",
          "text": [
            "+--------------------+\n",
            "|           embedding|\n",
            "+--------------------+\n",
            "|[-0.0506, 0.15561...|\n",
            "|[0.01447821, 0.16...|\n",
            "|[-0.09041509, 0.1...|\n",
            "|[-0.20549965, 0.0...|\n",
            "|[-0.021994494, 0....|\n",
            "|[-0.021145232, 0....|\n",
            "|[-0.09210941, 0.0...|\n",
            "|[-0.13212018, 0.0...|\n",
            "|[-0.053157724, 8....|\n",
            "|[0.011122618, 0.1...|\n",
            "|[-0.04751993, 0.0...|\n",
            "|[0.031325795, 0.3...|\n",
            "|[-0.13260539, 0.0...|\n",
            "|[-0.040670298, 0....|\n",
            "|[0.04773803, -0.0...|\n",
            "|[-0.023275442, 0....|\n",
            "|[-0.07809764, 0.1...|\n",
            "|[-0.10586174, 0.0...|\n",
            "|[-0.07914694, 0.0...|\n",
            "|[-0.18737869, 0.0...|\n",
            "+--------------------+\n",
            "only showing top 20 rows\n",
            "\n"
          ]
        }
      ],
      "source": [
        "from pyspark.ml import Pipeline\n",
        "from sparknlp.base import DocumentAssembler\n",
        "from sparknlp.annotator import Tokenizer\n",
        "\n",
        "document_assembler = DocumentAssembler() \\\n",
        "    .setInputCol(\"text\") \\\n",
        "    .setOutputCol(\"document\")\n",
        "\n",
        "tokenizer = Tokenizer() \\\n",
        "    .setInputCols([\"document\"]) \\\n",
        "    .setOutputCol(\"token\")\n",
        "\n",
        "roberta = RoBertaEmbeddings.load(f\"{MODEL_NAME}_spark_nlp\") \\\n",
        "    .setInputCols([\"document\", \"token\"]) \\\n",
        "    .setOutputCol(\"roberta\")\n",
        "\n",
        "pipeline = Pipeline(stages=[\n",
        "    document_assembler,\n",
        "    tokenizer,\n",
        "    roberta\n",
        "])\n",
        "\n",
        "data = spark.createDataFrame([\n",
        "    [\"William Henry Gates III (born October 28, 1955) is an American business magnate, software developer, investor, and philanthropist.\"]\n",
        "]).toDF(\"text\")\n",
        "\n",
        "result = pipeline.fit(data).transform(data)\n",
        "result.selectExpr(\"explode(roberta.embeddings) as embedding\").show()"
      ]
    },
    {
      "cell_type": "markdown",
      "metadata": {
        "id": "TUn2bPleOoUx"
      },
      "source": [
        "That's it! You can now go wild and use hundreds of RoBERTa models from HuggingFace 🤗 in Spark NLP 🚀\n"
      ]
    }
  ],
  "metadata": {
    "colab": {
      "provenance": []
    },
    "kernelspec": {
      "display_name": "Python 3",
      "name": "python3"
    },
    "language_info": {
      "name": "python"
    }
  },
  "nbformat": 4,
  "nbformat_minor": 0
}
