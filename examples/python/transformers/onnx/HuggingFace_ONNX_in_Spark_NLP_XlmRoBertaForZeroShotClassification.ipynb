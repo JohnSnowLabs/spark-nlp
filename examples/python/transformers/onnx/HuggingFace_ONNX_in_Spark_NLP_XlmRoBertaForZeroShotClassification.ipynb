{
 "cells": [
  {
   "cell_type": "markdown",
   "metadata": {
    "id": "Joz3TMJ68YWg"
   },
   "source": [
    "![JohnSnowLabs](https://sparknlp.org/assets/images/logo.png)\n",
    "\n",
    "[![Open In Colab](https://colab.research.google.com/assets/colab-badge.svg)](https://colab.research.google.com/github/JohnSnowLabs/spark-nlp/blob/master/examples/python/transformers/onnx/HuggingFace_ONNX_in_Spark_NLP_XlmRoBertaForZeroShotClassification.ipynb)"
   ]
  },
  {
   "cell_type": "markdown",
   "metadata": {
    "id": "lwj0PoaI8YWi"
   },
   "source": [
    "## Import ONNX XlmRoBertaForZeroShotClassification  models from HuggingFace 🤗  into Spark NLP 🚀\n",
    "\n",
    "Let's keep in mind a few things before we start 😊\n",
    "\n",
    "- ONNX support was introduced in  `Spark NLP 5.0.0`, enabling high performance inference for models.\n",
    "- `XlmRoBertaForZeroShotClassification ` is only available since in `Spark NLP 5.2.4` and after. So please make sure you have upgraded to the latest Spark NLP release\n",
    "- You can import BERT models trained/fine-tuned for zero shot classification via `XlmRoBertaForZeroShotClassification` or `TFXlmRoBertaForZeroShotClassification`. These models are usually under `Zero-Shot Classification` category and have `bert` in their labels\n",
    "- Reference: [TFXlmRoBertaForZeroShotClassification](https://huggingface.co/docs/transformers/en/model_doc/xlm-roberta#transformers.TFXLMRobertaForSequenceClassification)\n",
    "- Some [example models](https://huggingface.co/models?pipeline_tag=zero-shot-classification&sort=downloads&search=xlm-roberta)"
   ]
  },
  {
   "cell_type": "markdown",
   "metadata": {
    "id": "_BKjSMqD8YWi"
   },
   "source": [
    "## Export and Save HuggingFace model"
   ]
  },
  {
   "cell_type": "markdown",
   "metadata": {
    "id": "P0dC4cBl8YWi"
   },
   "source": [
    "- Let's install `transformers` package with the `onnx` extension and it's dependencies. You don't need `onnx` to be installed for Spark NLP, however, we need it to load and save models from HuggingFace.\n",
    "- We lock `transformers` on version `4.52.3`. This doesn't mean it won't work with the future releases, but we wanted you to know which versions have been tested successfully.\n",
    "- Albert uses SentencePiece, so we will have to install that as well"
   ]
  },
  {
   "cell_type": "code",
   "execution_count": null,
   "metadata": {
    "colab": {
     "base_uri": "https://localhost:8080/"
    },
    "id": "DxRYFK-b8YWi",
    "outputId": "1111351a-d6f2-4ee5-db27-13d3838be0b1"
   },
   "outputs": [],
   "source": [
    "!pip install -q --upgrade transformers[onnx]==4.52.3 optimum onnx"
   ]
  },
  {
   "cell_type": "markdown",
   "metadata": {
    "id": "_r11Jhgw8YWj"
   },
   "source": [
    "- HuggingFace has an extension called Optimum which offers specialized model inference, including ONNX. We can use this to import and export ONNX models with `from_pretrained` and `save_pretrained`.\n",
    "- We'll use [symanto/xlm-roberta-base-snli-mnli-anli-xnli](https://huggingface.co/symanto/xlm-roberta-base-snli-mnli-anli-xnli) model from HuggingFace as an example and load it as a `ORTModelForSequenceClassification`, representing an ONNX model.\n",
    "- In addition to the XLM-RoBERTa model, we also need to save the `XLMRobertaTokenizer`. This is the same for every model, these are assets (saved in `/assets`) needed for tokenization inside Spark NLP."
   ]
  },
  {
   "cell_type": "code",
   "execution_count": 2,
   "metadata": {
    "colab": {
     "base_uri": "https://localhost:8080/",
     "height": 415,
     "referenced_widgets": [
      "74e4023f3dd646f296c8c41db7f4066c",
      "975119a3c73f4cd59e03b619cfe52dde",
      "423e01ff0eb3480c86827bdd5ddd55d5",
      "3f89b3c5752e43fda7c597c6bbbade3e",
      "31cb9b61690746ee8097b302423b3c64",
      "90932b671d224fddbedc638f60bd03ef",
      "969b9704a6534c02b40bb56ad8ec3815",
      "f884a6eb3a744dab8120631661dade6a",
      "df5e5f10fe3e4df092e8817f341dc139",
      "53020fec55a2439ca2a9fae45111231e",
      "14a1661a150c4e9493d4e3807bf69717",
      "d7766be4dcc340adb8fc63b0d28da928",
      "0301d2aee4144512b307ecd3d0d934db",
      "46d4c1a151154b93a9007c4da2d77cd2",
      "a89b55be9c534ec99dbe66b251ee034c",
      "f3ab4f420cf641799ea3e7c9bb9ed341",
      "270f35de2b63417e9d6025ff3d8aff11",
      "680ad2070550486b9ef6229be229440c",
      "78de87e320304e1ba1dc31a86505a6e2",
      "9e077b05336d47308dc279eda200e2a5",
      "a40a223ae0d74829aabeeac71de347d7",
      "c23acff834e741ffa685111d44f0557a",
      "c7f080f45a8447b380b39251879339a5",
      "b804a39ce1aa4c0b94921e94ddc5ecdc",
      "72894168bf8744ae9aebeec3f1e950b7",
      "5a73b45165bd42129b43b99eb5f0d1fd",
      "9c744c8fa8fd4532b1111594a416ca97",
      "655439c31a2549f59529ca5a30e2fbcf",
      "8e9a52f26de94fe1be84ca763e179785",
      "959291bc302a4c15b37640bcfb153f8a",
      "5c57e8b5c4884c26955469a1cd1764a7",
      "06537fb6e313465a890989e53ee2fa00",
      "214dc527e4c345fb9892b59f618bd311",
      "e1a830532eee46b58e8fcc3ea2b18c3b",
      "9c23d11241d442eebe894836fdd94d7c",
      "4a16d855437e4840b9911bfadb7f2b3c",
      "10caa0cf35644c4f857d8d6f581b5b0c",
      "5f555a24b95645c8b9dcb9c9382419de",
      "225bc638f4664da0b1679cd1cf5d69f3",
      "977750f4b6844749811f2cf90cfac9ff",
      "5a25cca66d4a43e3819fd36e95d50329",
      "bf81cb8c07a54b40bf7406b37ddebdd7",
      "f0d7721313ce456aac4621425f50a6e3",
      "6f1cd4a622014245a884d94c0b80781b",
      "573de9d4a1c04eb5bf67e2c0b0c42525",
      "8029ddf1bee04e59b3b34e6a8d30c8c4",
      "95bec0f8e32443bb8907c5c279389991",
      "36152582ffa542ba831e99d0e1f86fbb",
      "c4dd00ddc39e4062bddef446f230f06e",
      "aed8484b42dc4f66af2f1002264b96c5",
      "7030ffe1f8a24567a1ab5c84fcbe78be",
      "b44234d08d8443af9a8528d2ae8f5608",
      "f2867c3a6b1c42f699e9639dc2a2131b",
      "632cba5acb964cb184c11a8767d065df",
      "f0be0b6aa9df45c19bc89190c21fe41f",
      "ec2314916d094db99b17afe55dac993c",
      "8f7b029698e24b64ac522e3011c676d9",
      "9e515c734cd441ee8c277a0431186501",
      "0d59a20c180a43c9a6d55937cf365f55",
      "6c1948d7bb6a4142b9ac69ef1dccdc88",
      "07a5a3ff0f9840c881c8c7ef99631784",
      "866bf0637bb54f6aaba0aab013294091",
      "7f553c77262842298d2fee3a849bd9bc",
      "af098a4daa6a4c76a2d01844f85ae5a6",
      "5117eb6906f34c1a87a0a6ccf71e9bf0",
      "f317ac0a472b429ca7dde5067d56c5ab",
      "5fa5f342ee4749748108279576d3aebe",
      "f581e4a2b41e4944b7804206da8cf971",
      "f1343587f28b48f288305ab0c6dacffc",
      "97c8755bdc684aa482b5a72538e89758",
      "2df6704b7e974dc1aaff283dc4060949",
      "7f094136b66a490294869badb76b2ca7",
      "9e78efecb10e4fc4ab297dbd1f680fc8",
      "f06dddd4ffde4c9cb04ef1eca09f2cdd",
      "fc5f02779bdd4067b720247035eae839",
      "eed490b878a44723afbc1ddaa50ebed9",
      "0ea718af35a04b1696fdf205b847aa5e"
     ]
    },
    "id": "ZDHZ3OwZIQcc",
    "outputId": "dd15ea80-4de2-4142-caf1-a482318db1b0"
   },
   "outputs": [
    {
     "name": "stderr",
     "output_type": "stream",
     "text": [
      "/usr/local/lib/python3.11/dist-packages/huggingface_hub/utils/_auth.py:94: UserWarning: \n",
      "The secret `HF_TOKEN` does not exist in your Colab secrets.\n",
      "To authenticate with the Hugging Face Hub, create a token in your settings tab (https://huggingface.co/settings/tokens), set it as secret in your Google Colab and restart your session.\n",
      "You will be able to reuse this secret in all of your notebooks.\n",
      "Please note that authentication is recommended but still optional to access public models or datasets.\n",
      "  warnings.warn(\n"
     ]
    },
    {
     "data": {
      "application/vnd.jupyter.widget-view+json": {
       "model_id": "74e4023f3dd646f296c8c41db7f4066c",
       "version_major": 2,
       "version_minor": 0
      },
      "text/plain": [
       "config.json:   0%|          | 0.00/921 [00:00<?, ?B/s]"
      ]
     },
     "metadata": {},
     "output_type": "display_data"
    },
    {
     "data": {
      "application/vnd.jupyter.widget-view+json": {
       "model_id": "d7766be4dcc340adb8fc63b0d28da928",
       "version_major": 2,
       "version_minor": 0
      },
      "text/plain": [
       "pytorch_model.bin:   0%|          | 0.00/1.11G [00:00<?, ?B/s]"
      ]
     },
     "metadata": {},
     "output_type": "display_data"
    },
    {
     "data": {
      "application/vnd.jupyter.widget-view+json": {
       "model_id": "c7f080f45a8447b380b39251879339a5",
       "version_major": 2,
       "version_minor": 0
      },
      "text/plain": [
       "model.safetensors:   0%|          | 0.00/1.11G [00:00<?, ?B/s]"
      ]
     },
     "metadata": {},
     "output_type": "display_data"
    },
    {
     "data": {
      "application/vnd.jupyter.widget-view+json": {
       "model_id": "e1a830532eee46b58e8fcc3ea2b18c3b",
       "version_major": 2,
       "version_minor": 0
      },
      "text/plain": [
       "tokenizer_config.json:   0%|          | 0.00/398 [00:00<?, ?B/s]"
      ]
     },
     "metadata": {},
     "output_type": "display_data"
    },
    {
     "data": {
      "application/vnd.jupyter.widget-view+json": {
       "model_id": "573de9d4a1c04eb5bf67e2c0b0c42525",
       "version_major": 2,
       "version_minor": 0
      },
      "text/plain": [
       "sentencepiece.bpe.model:   0%|          | 0.00/5.07M [00:00<?, ?B/s]"
      ]
     },
     "metadata": {},
     "output_type": "display_data"
    },
    {
     "data": {
      "application/vnd.jupyter.widget-view+json": {
       "model_id": "ec2314916d094db99b17afe55dac993c",
       "version_major": 2,
       "version_minor": 0
      },
      "text/plain": [
       "tokenizer.json: 0.00B [00:00, ?B/s]"
      ]
     },
     "metadata": {},
     "output_type": "display_data"
    },
    {
     "data": {
      "application/vnd.jupyter.widget-view+json": {
       "model_id": "5fa5f342ee4749748108279576d3aebe",
       "version_major": 2,
       "version_minor": 0
      },
      "text/plain": [
       "special_tokens_map.json:   0%|          | 0.00/239 [00:00<?, ?B/s]"
      ]
     },
     "metadata": {},
     "output_type": "display_data"
    },
    {
     "data": {
      "text/plain": [
       "('onnx_models/symanto/xlm-roberta-base-snli-mnli-anli-xnli/tokenizer_config.json',\n",
       " 'onnx_models/symanto/xlm-roberta-base-snli-mnli-anli-xnli/special_tokens_map.json',\n",
       " 'onnx_models/symanto/xlm-roberta-base-snli-mnli-anli-xnli/sentencepiece.bpe.model',\n",
       " 'onnx_models/symanto/xlm-roberta-base-snli-mnli-anli-xnli/added_tokens.json')"
      ]
     },
     "execution_count": 2,
     "metadata": {},
     "output_type": "execute_result"
    }
   ],
   "source": [
    "from transformers import XLMRobertaTokenizer\n",
    "from optimum.onnxruntime import ORTModelForSequenceClassification\n",
    "\n",
    "MODEL_NAME = 'symanto/xlm-roberta-base-snli-mnli-anli-xnli'\n",
    "EXPORT_PATH = f\"onnx_models/{MODEL_NAME}\"\n",
    "\n",
    "ort_model = ORTModelForSequenceClassification.from_pretrained(MODEL_NAME, export=True)\n",
    "ort_model.save_pretrained(EXPORT_PATH)\n",
    "\n",
    "tokenizer = XLMRobertaTokenizer.from_pretrained(MODEL_NAME)\n",
    "tokenizer.save_pretrained(EXPORT_PATH)"
   ]
  },
  {
   "cell_type": "markdown",
   "metadata": {
    "id": "RA5-AG0z8YWk"
   },
   "source": [
    "Let's have a look inside these two directories and see what we are dealing with:"
   ]
  },
  {
   "cell_type": "code",
   "execution_count": 3,
   "metadata": {
    "colab": {
     "base_uri": "https://localhost:8080/"
    },
    "id": "HRqBxzdG8YWk",
    "outputId": "33d2f575-6787-495a-88a8-77295db6f109"
   },
   "outputs": [
    {
     "name": "stdout",
     "output_type": "stream",
     "text": [
      "total 1091400\n",
      "-rw-r--r-- 1 root root        854 Jun 26 17:11 config.json\n",
      "-rw-r--r-- 1 root root 1112503258 Jun 26 17:11 model.onnx\n",
      "-rw-r--r-- 1 root root    5069051 Jun 26 17:11 sentencepiece.bpe.model\n",
      "-rw-r--r-- 1 root root        964 Jun 26 17:11 special_tokens_map.json\n",
      "-rw-r--r-- 1 root root       1203 Jun 26 17:11 tokenizer_config.json\n"
     ]
    }
   ],
   "source": [
    "!ls -l {EXPORT_PATH}"
   ]
  },
  {
   "cell_type": "markdown",
   "metadata": {
    "id": "qi25yBxb8YWk"
   },
   "source": [
    "- We need to move `sentencepiece.bpe.model` from the tokenizer to `assets` folder which Spark NLP will look for\n",
    "- We also need `labels` and their `ids` which is saved inside the model's config. We will save this inside `labels.txt`"
   ]
  },
  {
   "cell_type": "code",
   "execution_count": 4,
   "metadata": {
    "id": "Xzr9VP6k8YWk"
   },
   "outputs": [],
   "source": [
    "!mkdir {EXPORT_PATH}/assets && mv {EXPORT_PATH}/sentencepiece.bpe.model {EXPORT_PATH}/assets"
   ]
  },
  {
   "cell_type": "code",
   "execution_count": 6,
   "metadata": {
    "id": "gMjHlYKy8YWk"
   },
   "outputs": [],
   "source": [
    "labels = ort_model.config.id2label\n",
    "labels = [value for key,value in sorted(labels.items(), reverse=False)]\n",
    "\n",
    "with open(EXPORT_PATH + '/assets/labels.txt', 'w') as f:\n",
    "    f.write('\\n'.join(labels))"
   ]
  },
  {
   "cell_type": "code",
   "execution_count": 7,
   "metadata": {
    "colab": {
     "base_uri": "https://localhost:8080/"
    },
    "id": "p9RLksXo8YWl",
    "outputId": "d11f2153-c70a-476d-bad3-8c94f4d686ad"
   },
   "outputs": [
    {
     "name": "stdout",
     "output_type": "stream",
     "text": [
      "onnx_models/symanto/xlm-roberta-base-snli-mnli-anli-xnli:\n",
      "total 1086452\n",
      "drwxr-xr-x 2 root root       4096 Jun 26 17:12 assets\n",
      "-rw-r--r-- 1 root root        854 Jun 26 17:11 config.json\n",
      "-rw-r--r-- 1 root root 1112503258 Jun 26 17:11 model.onnx\n",
      "-rw-r--r-- 1 root root        964 Jun 26 17:11 special_tokens_map.json\n",
      "-rw-r--r-- 1 root root       1203 Jun 26 17:11 tokenizer_config.json\n",
      "\n",
      "onnx_models/symanto/xlm-roberta-base-snli-mnli-anli-xnli/assets:\n",
      "total 4956\n",
      "-rw-r--r-- 1 root root      32 Jun 26 17:12 labels.txt\n",
      "-rw-r--r-- 1 root root 5069051 Jun 26 17:11 sentencepiece.bpe.model\n"
     ]
    }
   ],
   "source": [
    "!ls -lR {EXPORT_PATH}"
   ]
  },
  {
   "cell_type": "markdown",
   "metadata": {
    "id": "UMxugWS68YWl"
   },
   "source": [
    "Voila! We have our `sentencepiece.bpe.model` and `labels.txt` inside assets directory"
   ]
  },
  {
   "cell_type": "markdown",
   "metadata": {
    "id": "uh0Flpa08YWl"
   },
   "source": [
    "## Import and Save XlmRoBertaForZeroShotClassification in Spark NLP\n"
   ]
  },
  {
   "cell_type": "markdown",
   "metadata": {
    "id": "AHTFs1uI8YWl"
   },
   "source": [
    "- Install and set up Spark NLP in Google Colab\n",
    "- This example uses specific versions of `pyspark` and `spark-nlp` that have been tested with the transformer model to ensure everything runs smoothly."
   ]
  },
  {
   "cell_type": "code",
   "execution_count": 8,
   "metadata": {
    "colab": {
     "base_uri": "https://localhost:8080/"
    },
    "id": "XuId33bp8YWl",
    "outputId": "d127a54a-3984-47b7-c3f1-3cfb9b6e71a1"
   },
   "outputs": [
    {
     "name": "stdout",
     "output_type": "stream",
     "text": [
      "\u001b[2K     \u001b[90m━━━━━━━━━━━━━━━━━━━━━━━━━━━━━━━━━━━━━━━\u001b[0m \u001b[32m317.3/317.3 MB\u001b[0m \u001b[31m3.2 MB/s\u001b[0m eta \u001b[36m0:00:00\u001b[0m\n",
      "\u001b[?25h  Preparing metadata (setup.py) ... \u001b[?25l\u001b[?25hdone\n",
      "\u001b[2K   \u001b[90m━━━━━━━━━━━━━━━━━━━━━━━━━━━━━━━━━━━━━━━━\u001b[0m \u001b[32m635.7/635.7 kB\u001b[0m \u001b[31m14.5 MB/s\u001b[0m eta \u001b[36m0:00:00\u001b[0m\n",
      "\u001b[?25h  Building wheel for pyspark (setup.py) ... \u001b[?25l\u001b[?25hdone\n"
     ]
    }
   ],
   "source": [
    "!pip install -q pyspark==3.5.4 spark-nlp==5.5.3"
   ]
  },
  {
   "cell_type": "markdown",
   "metadata": {
    "id": "RqGbTFSk8YWl"
   },
   "source": [
    "Let's start Spark with Spark NLP included via our simple `start()` function"
   ]
  },
  {
   "cell_type": "code",
   "execution_count": 9,
   "metadata": {
    "colab": {
     "base_uri": "https://localhost:8080/"
    },
    "id": "kDlHOvA78YWl",
    "outputId": "ac62d83d-b3da-4122-89b4-53822853449f"
   },
   "outputs": [
    {
     "name": "stdout",
     "output_type": "stream",
     "text": [
      "Spark NLP version:  5.5.3\n",
      "Apache Spark version:  3.5.4\n"
     ]
    }
   ],
   "source": [
    "import sparknlp\n",
    "\n",
    "spark = sparknlp.start()\n",
    "\n",
    "print(\"Spark NLP version: \", sparknlp.version())\n",
    "print(\"Apache Spark version: \", spark.version)"
   ]
  },
  {
   "cell_type": "markdown",
   "metadata": {
    "id": "O-JcnCZP8YWl"
   },
   "source": [
    "- Let's use `loadSavedModel` functon in `XlmRoBertaForZeroShotClassification` which allows us to load TensorFlow model in SavedModel format\n",
    "- Most params can be set later when you are loading this model in `XlmRoBertaForZeroShotClassification` in runtime like `setMaxSentenceLength`, so don't worry what you are setting them now\n",
    "- `loadSavedModel` accepts two params, first is the path to the TF SavedModel. The second is the SparkSession that is `spark` variable we previously started via `sparknlp.start()`\n",
    "- NOTE: `loadSavedModel` accepts local paths in addition to distributed file systems such as `HDFS`, `S3`, `DBFS`, etc. This feature was introduced in Spark NLP 4.2.2 release. Keep in mind the best and recommended way to move/share/reuse Spark NLP models is to use `write.save` so you can use `.load()` from any file systems natively.\n"
   ]
  },
  {
   "cell_type": "code",
   "execution_count": 10,
   "metadata": {
    "id": "MbtfwYJe8YWl"
   },
   "outputs": [],
   "source": [
    "from sparknlp.annotator import XlmRoBertaForZeroShotClassification\n",
    "\n",
    "zero_shot_classifier = XlmRoBertaForZeroShotClassification.loadSavedModel(\n",
    "    EXPORT_PATH,\n",
    "    spark\n",
    "  )\\\n",
    "  .setInputCols([\"document\", \"token\"]) \\\n",
    "  .setOutputCol(\"class\") \\\n",
    "  .setCandidateLabels([\"urgent\", \"mobile\", \"travel\", \"movie\", \"music\", \"sport\", \"weather\", \"technology\"])"
   ]
  },
  {
   "cell_type": "markdown",
   "metadata": {
    "id": "0V4s924X8YWl"
   },
   "source": [
    "- Let's save it on disk so it is easier to be moved around and also be used later via `.load` function"
   ]
  },
  {
   "cell_type": "code",
   "execution_count": 11,
   "metadata": {
    "id": "G5wqznjz8YWm"
   },
   "outputs": [],
   "source": [
    "zero_shot_classifier.write().overwrite().save(\"./{}_spark_nlp_onnx\".format(MODEL_NAME))"
   ]
  },
  {
   "cell_type": "markdown",
   "metadata": {
    "id": "8RvPe1Sw8YWm"
   },
   "source": [
    "Let's clean up stuff we don't need anymore"
   ]
  },
  {
   "cell_type": "code",
   "execution_count": 12,
   "metadata": {
    "id": "5cu9v24K8YWm"
   },
   "outputs": [],
   "source": [
    "!rm -rf {EXPORT_PATH}"
   ]
  },
  {
   "cell_type": "markdown",
   "metadata": {
    "id": "Nbkh0nit8YWm"
   },
   "source": [
    "Awesome 😎  !\n",
    "\n",
    "This is your XlmRoBertaForZeroShotClassification model from HuggingFace 🤗  loaded and saved by Spark NLP 🚀"
   ]
  },
  {
   "cell_type": "code",
   "execution_count": 13,
   "metadata": {
    "colab": {
     "base_uri": "https://localhost:8080/"
    },
    "id": "oxxkG14Y8YWm",
    "outputId": "5829e8ac-b010-4556-c20d-a99d68456cfb"
   },
   "outputs": [
    {
     "name": "stdout",
     "output_type": "stream",
     "text": [
      "total 1091560\n",
      "drwxr-xr-x 3 root root       4096 Jun 26 17:16 fields\n",
      "drwxr-xr-x 2 root root       4096 Jun 26 17:16 metadata\n",
      "-rw-r--r-- 1 root root 1112673147 Jun 26 17:16 xlmroberta_classification_onnx\n",
      "-rw-r--r-- 1 root root    5069051 Jun 26 17:16 xlmroberta_spp\n"
     ]
    }
   ],
   "source": [
    "! ls -l {MODEL_NAME}_spark_nlp_onnx"
   ]
  },
  {
   "cell_type": "markdown",
   "metadata": {
    "id": "vyxaBZHc8YWm"
   },
   "source": [
    "Now let's see how we can use it on other machines, clusters, or any place you wish to use your new and shiny XlmRoBertaForZeroShotClassification model 😊"
   ]
  },
  {
   "cell_type": "code",
   "execution_count": 14,
   "metadata": {
    "id": "GWFwDv-x8YWm"
   },
   "outputs": [],
   "source": [
    "zero_shot_classifier_loaded = XlmRoBertaForZeroShotClassification.load(\"./{}_spark_nlp_onnx\".format(MODEL_NAME))\\\n",
    "  .setInputCols([\"document\",'token'])\\\n",
    "  .setOutputCol(\"class\")"
   ]
  },
  {
   "cell_type": "markdown",
   "metadata": {
    "id": "VVdU0uaN8YWm"
   },
   "source": [
    "You can see what labels were used to train this model via `getClasses` function:"
   ]
  },
  {
   "cell_type": "code",
   "execution_count": 15,
   "metadata": {
    "colab": {
     "base_uri": "https://localhost:8080/"
    },
    "id": "JNUA_5wv8YWm",
    "outputId": "1ab24e54-7031-4ff4-aa3d-e3d37fdf7de7"
   },
   "outputs": [
    {
     "data": {
      "text/plain": [
       "['ENTAILMENT', 'NEUTRAL', 'CONTRADICTION']"
      ]
     },
     "execution_count": 15,
     "metadata": {},
     "output_type": "execute_result"
    }
   ],
   "source": [
    "zero_shot_classifier_loaded.getClasses()"
   ]
  },
  {
   "cell_type": "markdown",
   "metadata": {
    "id": "HDqsK7zx8YWm"
   },
   "source": [
    "This is how you can use your loaded classifier model in Spark NLP 🚀 pipeline:"
   ]
  },
  {
   "cell_type": "code",
   "execution_count": 16,
   "metadata": {
    "colab": {
     "base_uri": "https://localhost:8080/"
    },
    "id": "ntej3_WH8YWm",
    "outputId": "b195f9c9-2b8b-423a-a586-4af73a326bb1"
   },
   "outputs": [
    {
     "name": "stdout",
     "output_type": "stream",
     "text": [
      "+--------------------------------------------------------------------------------------------------------------+---------------+\n",
      "|text                                                                                                          |predicted_label|\n",
      "+--------------------------------------------------------------------------------------------------------------+---------------+\n",
      "|I have a problem with my iPhone that needs to be resolved asap!!                                              |urgent         |\n",
      "|Last week I upgraded my iOS version and ever since then my phone has been overheating whenever I use your app.|technology     |\n",
      "|I have a phone and I love it!                                                                                 |mobile         |\n",
      "|I really want to visit Germany and I am planning to go there next year.                                       |travel         |\n",
      "|Let's watch some movies tonight! I am in the mood for a horror movie.                                         |movie          |\n",
      "|Have you watched the match yesterday? It was a great game!                                                    |sport          |\n",
      "|We need to hurry up and get to the airport. We are going to miss our flight!                                  |urgent         |\n",
      "+--------------------------------------------------------------------------------------------------------------+---------------+\n",
      "\n"
     ]
    }
   ],
   "source": [
    "from sparknlp.base import DocumentAssembler\n",
    "from sparknlp.annotator import Tokenizer\n",
    "from pyspark.ml import Pipeline\n",
    "\n",
    "document_assembler = DocumentAssembler() \\\n",
    "    .setInputCol(\"text\") \\\n",
    "    .setOutputCol(\"document\")\n",
    "\n",
    "tokenizer = Tokenizer() \\\n",
    "    .setInputCols([\"document\"]) \\\n",
    "    .setOutputCol(\"token\")\n",
    "\n",
    "pipeline = Pipeline(stages=[\n",
    "    document_assembler,\n",
    "    tokenizer,\n",
    "    zero_shot_classifier_loaded\n",
    "])\n",
    "\n",
    "texts = spark.createDataFrame([\n",
    "    [\"I have a problem with my iPhone that needs to be resolved asap!!\"],\n",
    "    [\"Last week I upgraded my iOS version and ever since then my phone has been overheating whenever I use your app.\"],\n",
    "    [\"I have a phone and I love it!\"],\n",
    "    [\"I really want to visit Germany and I am planning to go there next year.\"],\n",
    "    [\"Let's watch some movies tonight! I am in the mood for a horror movie.\"],\n",
    "    [\"Have you watched the match yesterday? It was a great game!\"],\n",
    "    [\"We need to hurry up and get to the airport. We are going to miss our flight!\"]\n",
    "], [\"text\"])\n",
    "\n",
    "model = pipeline.fit(texts)\n",
    "result = model.transform(texts)\n",
    "\n",
    "result.selectExpr(\"text\", \"class.result[0] as predicted_label\").show(truncate=False)"
   ]
  },
  {
   "cell_type": "markdown",
   "metadata": {
    "id": "COqzet858YWm"
   },
   "source": [
    "That's it! You can now go wild and use hundreds of `XlmRoBertaForZeroShotClassification` models from HuggingFace 🤗 in Spark NLP 🚀\n"
   ]
  }
 ],
 "metadata": {
  "accelerator": "GPU",
  "colab": {
   "gpuType": "T4",
   "provenance": []
  },
  "kernelspec": {
   "display_name": "Python 3",
   "name": "python3"
  },
  "language_info": {
   "codemirror_mode": {
    "name": "ipython",
    "version": 3
   },
   "file_extension": ".py",
   "mimetype": "text/x-python",
   "name": "python",
   "nbconvert_exporter": "python",
   "pygments_lexer": "ipython3"
  }
 },
 "nbformat": 4,
 "nbformat_minor": 0
}
