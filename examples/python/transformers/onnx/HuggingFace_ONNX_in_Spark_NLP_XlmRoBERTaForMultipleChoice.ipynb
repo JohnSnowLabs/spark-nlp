{
 "cells": [
  {
   "cell_type": "markdown",
   "metadata": {
    "id": "PAsu8UVGoLVf"
   },
   "source": [
    "![JohnSnowLabs](https://sparknlp.org/assets/images/logo.png)\n",
    "\n",
    "[![Open In Colab](https://colab.research.google.com/assets/colab-badge.svg)](https://colab.research.google.com/github/JohnSnowLabs/spark-nlp/blob/master/examples/python/transformers/onnx/HuggingFace_ONNX_in_Spark_NLP_XlmRoBERTaForMultipleChoice.ipynb)\n",
    "\n",
    "## Import ONNX XlmRoBERTaForMultipleChoice models from HuggingFace 🤗 into Spark NLP 🚀\n",
    "\n",
    "Let's keep in mind a few things before we start 😊\n",
    "\n",
    "- ONNX support was introduced in  `Spark NLP 5.0.0`, enabling high performance inference for models.\n",
    "- `XlmRoBertaForMultipleChoice` is only available since in `Spark NLP 5.6.0` and after. So please make sure you have upgraded to the latest Spark NLP release\n",
    "- You can import BERT models trained/fine-tuned for question answering via `XlmRoBertaForMultipleChoice` or `TFXlmRobertaForMultipleChoice`. These models are usually under `Multiple Choice` category and have `bert` in their labels\n",
    "- Reference: [XlmRoBertaForMultipleChoice](https://huggingface.co/docs/transformers/en/model_doc/xlm-roberta#transformers.XLMRobertaModel)"
   ]
  },
  {
   "cell_type": "markdown",
   "metadata": {
    "id": "OzijcdtQpOx9"
   },
   "source": [
    "## Export and Save HuggingFace model"
   ]
  },
  {
   "cell_type": "markdown",
   "metadata": {
    "id": "MlgoClMXpSg4"
   },
   "source": [
    "- Let's install `transformers` package with the `onnx` extension and it's dependencies. You don't need `onnx` to be installed for Spark NLP, however, we need it to load and save models from HuggingFace.\n",
    "- We lock `transformers` on version `4.48.3`. This doesn't mean it won't work with the future releases, but we wanted you to know which versions have been tested successfully."
   ]
  },
  {
   "cell_type": "code",
   "execution_count": null,
   "metadata": {
    "colab": {
     "base_uri": "https://localhost:8080/"
    },
    "id": "cJWbob-kHICU",
    "outputId": "5e7f4f8d-c1e5-4b48-d888-4b03542712c6"
   },
   "outputs": [],
   "source": [
    "!pip install -q --upgrade transformers[onnx]==4.48.3 optimum onnx"
   ]
  },
  {
   "cell_type": "markdown",
   "metadata": {
    "id": "-48JF2uo5WcG"
   },
   "source": [
    "- HuggingFace has an extension called Optimum which offers specialized model inference, including ONNX. We can use this to import and export ONNX models with `from_pretrained` and `save_pretrained`.\n",
    "- We'll use [lenatr99/fine_tuned_copa_XLMroberta](https://huggingface.co/lenatr99/fine_tuned_copa_XLMroberta) model from HuggingFace as an example and load it as a `ORTModelForFeatureExtraction`, representing an ONNX model.\n",
    "- In addition to the XLM-RoBERTa model, we also need to save the `XLMRobertaTokenizer`. This is the same for every model, these are assets (saved in `/assets`) needed for tokenization inside Spark NLP."
   ]
  },
  {
   "cell_type": "code",
   "execution_count": 2,
   "metadata": {
    "colab": {
     "base_uri": "https://localhost:8080/",
     "height": 383,
     "referenced_widgets": [
      "ba6a734d6fb1423c89cf9a37469c86e5",
      "0f545fa777f84d658b6dc3ceb3d268b7",
      "9ccac3c7290a40978d5fa1bd27d265ae",
      "0a0bb0ab11ad43cea33b15df9f85acf2",
      "4a0273fa6ea24219ab38d9cc14d8750a",
      "c75bea253c8b479bbb5eeda9275dda34",
      "fffaef069571468da04644f0a4b00a34",
      "6f81140bc0f44cb29cf2c17179469fc0",
      "5f8bcf2de8a64fc2bf14d755be6a38d6",
      "67b4c6f19b784558b29b7bcbba50e100",
      "a51439c835294ae68f5ebd9feffedb00",
      "a445c84fdf6a4e27ac0cccd0820f312f",
      "688de64343504d44ab0ad7d90483bb57",
      "481e75b05b8744598f540559b54d6dca",
      "9be0bdf4d5504a928869e204de6fe74c",
      "b60f6a21070f4a2c8ae2e290be58c193",
      "9a910d496eb84861aec2c17ebe243b21",
      "29090f7a923c4f458775d070042b66b7",
      "5536f848d17045a18e392d8ba98a0022",
      "a27f6c946bff4fca931c00669cd69a7b",
      "7fbd007a16a749688c5ccb7891679ab0",
      "de155276256c4f9f813d949d02873f49",
      "6f56cf4f407b4bff80f76d2526d585ce",
      "47c8bea757c443fead22e59a88bfee84",
      "b4181f2dd0f145b9b3bc89f8aa85732d",
      "e251a572d0fd4fdaa39c61d483e57e62",
      "35cc8e90d83a49e68ac2a0c4244f6ada",
      "a36b96b3f78a4d8b9f62b17e683694df",
      "9aa9be719aa247f5b0bea212a2af39fd",
      "09f13ff17b6a454a8dc1106081b4985b",
      "feedba13301b4dcf8f06cdfea468383e",
      "098fca6043f8487189bb206966414f49",
      "a2dab3ad2e8544df9ff7ca84c18df9f2",
      "6ec097e3f6524268ac58972912930237",
      "1de831d95c2349b1af48022b4a72fedf",
      "d7a8096536794998b6176ece44a40fd3",
      "84cdf46f15dd45aa9458045b41bfa767",
      "85f01039ee5e43b296b07a9fc9fa5401",
      "8dbf05f299424f69bb4d1d95a2c699f1",
      "09766e1e02a34fa2be1fe9e4672a75c2",
      "930cc76b5f4f4dbfbe9e2a809354906f",
      "ecd7b8fd16334187be3e81a19124d290",
      "85a555b588f24c71b913201971dec7e9",
      "8144d360d493406e94107ed81d5afa71",
      "7b4db970baa147559df84a3c99294fab",
      "1ec804d38b8a4734be417ce8b1e2a4b0",
      "58887c052eaf4cd2bc00c834bbe99a16",
      "30404638d53e45a0a10b3abc46e9f214",
      "8877ac2efea341f088e6aa328340cfee",
      "26fb3b63f9244ce1a50200196f14f4a2",
      "7bd2411b269e48e2ad5958298f8991fd",
      "c66e7181a9c94b6f9683fd376a42d755",
      "80a2da3cfafa494b814e11f06c070c0a",
      "e632d1b9fc70489cadbba596b78f76d2",
      "1bfa79dc9f2e4c12b284e3ecbf22d91f",
      "b1510b1cf5fc4fb7a4bc84a61afb90fe",
      "030b696b78c646cb976bd6b78e956d71",
      "47b76ef2154b4e66a69c7b1841d3712c",
      "da0fc70c350e43feafc4be81e9efc3ef",
      "4c33b1e2665247288c41c26369b23588",
      "983911c1539a489cabd81fab818244bc",
      "c112635cd6084fe6a30f63cd256835b2",
      "5b56a76506524f47bddf41f2585d31f3",
      "7d13fb51291d461f9cf64239993c91d4",
      "8cde190be3b24e429d44153498d35364",
      "4a13ff19c27b44fd902b121a4da09c08"
     ]
    },
    "id": "s4NCSguo5Q2d",
    "outputId": "78d80a30-07ac-4414-ba26-ade6dce5016d"
   },
   "outputs": [
    {
     "name": "stderr",
     "output_type": "stream",
     "text": [
      "/usr/local/lib/python3.11/dist-packages/huggingface_hub/utils/_auth.py:94: UserWarning: \n",
      "The secret `HF_TOKEN` does not exist in your Colab secrets.\n",
      "To authenticate with the Hugging Face Hub, create a token in your settings tab (https://huggingface.co/settings/tokens), set it as secret in your Google Colab and restart your session.\n",
      "You will be able to reuse this secret in all of your notebooks.\n",
      "Please note that authentication is recommended but still optional to access public models or datasets.\n",
      "  warnings.warn(\n"
     ]
    },
    {
     "data": {
      "application/vnd.jupyter.widget-view+json": {
       "model_id": "ba6a734d6fb1423c89cf9a37469c86e5",
       "version_major": 2,
       "version_minor": 0
      },
      "text/plain": [
       "config.json:   0%|          | 0.00/714 [00:00<?, ?B/s]"
      ]
     },
     "metadata": {},
     "output_type": "display_data"
    },
    {
     "data": {
      "application/vnd.jupyter.widget-view+json": {
       "model_id": "a445c84fdf6a4e27ac0cccd0820f312f",
       "version_major": 2,
       "version_minor": 0
      },
      "text/plain": [
       "model.safetensors:   0%|          | 0.00/1.11G [00:00<?, ?B/s]"
      ]
     },
     "metadata": {},
     "output_type": "display_data"
    },
    {
     "data": {
      "application/vnd.jupyter.widget-view+json": {
       "model_id": "6f56cf4f407b4bff80f76d2526d585ce",
       "version_major": 2,
       "version_minor": 0
      },
      "text/plain": [
       "tokenizer_config.json: 0.00B [00:00, ?B/s]"
      ]
     },
     "metadata": {},
     "output_type": "display_data"
    },
    {
     "data": {
      "application/vnd.jupyter.widget-view+json": {
       "model_id": "6ec097e3f6524268ac58972912930237",
       "version_major": 2,
       "version_minor": 0
      },
      "text/plain": [
       "sentencepiece.bpe.model:   0%|          | 0.00/5.07M [00:00<?, ?B/s]"
      ]
     },
     "metadata": {},
     "output_type": "display_data"
    },
    {
     "data": {
      "application/vnd.jupyter.widget-view+json": {
       "model_id": "7b4db970baa147559df84a3c99294fab",
       "version_major": 2,
       "version_minor": 0
      },
      "text/plain": [
       "tokenizer.json:   0%|          | 0.00/17.1M [00:00<?, ?B/s]"
      ]
     },
     "metadata": {},
     "output_type": "display_data"
    },
    {
     "data": {
      "application/vnd.jupyter.widget-view+json": {
       "model_id": "b1510b1cf5fc4fb7a4bc84a61afb90fe",
       "version_major": 2,
       "version_minor": 0
      },
      "text/plain": [
       "special_tokens_map.json:   0%|          | 0.00/280 [00:00<?, ?B/s]"
      ]
     },
     "metadata": {},
     "output_type": "display_data"
    },
    {
     "data": {
      "text/plain": [
       "('onnx_models/lenatr99/fine_tuned_copa_XLMroberta/tokenizer_config.json',\n",
       " 'onnx_models/lenatr99/fine_tuned_copa_XLMroberta/special_tokens_map.json',\n",
       " 'onnx_models/lenatr99/fine_tuned_copa_XLMroberta/sentencepiece.bpe.model',\n",
       " 'onnx_models/lenatr99/fine_tuned_copa_XLMroberta/added_tokens.json')"
      ]
     },
     "execution_count": 2,
     "metadata": {},
     "output_type": "execute_result"
    }
   ],
   "source": [
    "from transformers import XLMRobertaTokenizer\n",
    "from optimum.onnxruntime import ORTModelForMultipleChoice\n",
    "\n",
    "MODEL_NAME = \"lenatr99/fine_tuned_copa_XLMroberta\"\n",
    "EXPORT_PATH = f\"onnx_models/{MODEL_NAME}\"\n",
    "\n",
    "ort_model = ORTModelForMultipleChoice.from_pretrained(MODEL_NAME, export=True)\n",
    "ort_model.save_pretrained(EXPORT_PATH)\n",
    "\n",
    "tokenizer = XLMRobertaTokenizer.from_pretrained(MODEL_NAME)\n",
    "tokenizer.save_pretrained(EXPORT_PATH)"
   ]
  },
  {
   "cell_type": "markdown",
   "metadata": {
    "id": "e1696tiVO51u"
   },
   "source": [
    "Let's have a look inside these two directories and see what we are dealing with:"
   ]
  },
  {
   "cell_type": "code",
   "execution_count": 3,
   "metadata": {
    "colab": {
     "base_uri": "https://localhost:8080/"
    },
    "id": "NFamGuT4OJC2",
    "outputId": "2f476343-47d9-40a6-c202-bc70bb58a3be"
   },
   "outputs": [
    {
     "name": "stdout",
     "output_type": "stream",
     "text": [
      "total 1.1G\n",
      "-rw-r--r-- 1 root root  733 Jun 26 15:26 config.json\n",
      "-rw-r--r-- 1 root root 1.1G Jun 26 15:26 model.onnx\n",
      "-rw-r--r-- 1 root root 4.9M Jun 26 15:26 sentencepiece.bpe.model\n",
      "-rw-r--r-- 1 root root  964 Jun 26 15:26 special_tokens_map.json\n",
      "-rw-r--r-- 1 root root 1.2K Jun 26 15:26 tokenizer_config.json\n"
     ]
    }
   ],
   "source": [
    "!ls -lh {EXPORT_PATH}"
   ]
  },
  {
   "cell_type": "markdown",
   "metadata": {
    "id": "THEhUhYRO6-y"
   },
   "source": [
    "We are missing the `sentencepiece.bpe.model` from the tokenizer. Let's move this file to `assets` folder which Spark NLP will look for."
   ]
  },
  {
   "cell_type": "code",
   "execution_count": 4,
   "metadata": {
    "id": "N_-ljjz1PVLD"
   },
   "outputs": [],
   "source": [
    "!mkdir {EXPORT_PATH}/assets && mv {EXPORT_PATH}/sentencepiece.bpe.model {EXPORT_PATH}/assets/"
   ]
  },
  {
   "cell_type": "code",
   "execution_count": 5,
   "metadata": {
    "colab": {
     "base_uri": "https://localhost:8080/"
    },
    "id": "1BcINpaqPmgQ",
    "outputId": "4ae9e739-5ab6-4672-b772-45d746a07a1e"
   },
   "outputs": [
    {
     "name": "stdout",
     "output_type": "stream",
     "text": [
      "onnx_models/lenatr99/fine_tuned_copa_XLMroberta:\n",
      "total 1086448\n",
      "drwxr-xr-x 2 root root       4096 Jun 26 15:26 assets\n",
      "-rw-r--r-- 1 root root        733 Jun 26 15:26 config.json\n",
      "-rw-r--r-- 1 root root 1112499868 Jun 26 15:26 model.onnx\n",
      "-rw-r--r-- 1 root root        964 Jun 26 15:26 special_tokens_map.json\n",
      "-rw-r--r-- 1 root root       1202 Jun 26 15:26 tokenizer_config.json\n",
      "\n",
      "onnx_models/lenatr99/fine_tuned_copa_XLMroberta/assets:\n",
      "total 4952\n",
      "-rw-r--r-- 1 root root 5069051 Jun 26 15:26 sentencepiece.bpe.model\n"
     ]
    }
   ],
   "source": [
    "!ls -lR {EXPORT_PATH}"
   ]
  },
  {
   "cell_type": "markdown",
   "metadata": {
    "id": "rOT64bl9Ppk-"
   },
   "source": [
    "Voila! We have our `sentencepiece.bpe.model` inside assets directory"
   ]
  },
  {
   "cell_type": "markdown",
   "metadata": {
    "id": "3rgd1jHMRC7q"
   },
   "source": [
    "## Import and Save XlmRoBertaForMultipleChoice in Spark NLP"
   ]
  },
  {
   "cell_type": "markdown",
   "metadata": {
    "id": "N0dY2lHcRG5t"
   },
   "source": [
    "- Install and set up Spark NLP in Google Colab\n",
    "- This example uses specific versions of `pyspark` and `spark-nlp` that have been tested with the transformer model to ensure everything runs smoothly."
   ]
  },
  {
   "cell_type": "code",
   "execution_count": 6,
   "metadata": {
    "colab": {
     "base_uri": "https://localhost:8080/"
    },
    "id": "9ld2osF6STCv",
    "outputId": "e74113c2-339a-404e-e13a-ef6f7f865625"
   },
   "outputs": [
    {
     "name": "stdout",
     "output_type": "stream",
     "text": [
      "\u001b[?25l   \u001b[90m━━━━━━━━━━━━━━━━━━━━━━━━━━━━━━━━━━━━━━━━\u001b[0m \u001b[32m0.0/713.0 kB\u001b[0m \u001b[31m?\u001b[0m eta \u001b[36m-:--:--\u001b[0m\r\n",
      "\u001b[2K   \u001b[90m━━━━━━━━━━━━━━━━━━━━━━━━━━━━━━━━━━━━━━━━\u001b[0m \u001b[32m713.0/713.0 kB\u001b[0m \u001b[31m43.5 MB/s\u001b[0m eta \u001b[36m0:00:00\u001b[0m\n",
      "\u001b[?25h"
     ]
    }
   ],
   "source": [
    "!pip install -q spark-nlp==6.0.3 pyspark==3.5.1"
   ]
  },
  {
   "cell_type": "code",
   "execution_count": 7,
   "metadata": {
    "colab": {
     "base_uri": "https://localhost:8080/"
    },
    "id": "u1kTC9LQRHbg",
    "outputId": "5fb12861-1d67-4f9c-f7de-62330eb03630"
   },
   "outputs": [
    {
     "name": "stdout",
     "output_type": "stream",
     "text": [
      "Spark NLP version:  6.0.3\n",
      "Apache Spark version:  3.5.1\n"
     ]
    }
   ],
   "source": [
    "import sparknlp\n",
    "\n",
    "spark = sparknlp.start()\n",
    "\n",
    "print(\"Spark NLP version: \", sparknlp.version())\n",
    "print(\"Apache Spark version: \", spark.version)"
   ]
  },
  {
   "cell_type": "markdown",
   "metadata": {
    "id": "h3lTxyr-R9LH"
   },
   "source": [
    "- Let's use `loadSavedModel` functon in `XlmRoBertaForMultipleChoice` which allows us to load TensorFlow model in SavedModel format\n",
    "- Most params can be set later when you are loading this model in `XlmRoBertaForMultipleChoice` in runtime like `setMaxSentenceLength`, so don't worry what you are setting them now\n",
    "- `loadSavedModel` accepts two params, first is the path to the TF SavedModel. The second is the SparkSession that is `spark` variable we previously started via `sparknlp.start()`\n",
    "- NOTE: `loadSavedModel` accepts local paths in addition to distributed file systems such as `HDFS`, `S3`, `DBFS`, etc. This feature was introduced in Spark NLP 4.2.2 release. Keep in mind the best and recommended way to move/share/reuse Spark NLP models is to use `write.save` so you can use `.load()` from any file systems natively."
   ]
  },
  {
   "cell_type": "code",
   "execution_count": 8,
   "metadata": {
    "id": "6O6v4t3HSFRU"
   },
   "outputs": [],
   "source": [
    "from sparknlp.annotator import XlmRoBertaForMultipleChoice\n",
    "\n",
    "xlmRoBertaMultpleChoiceClassifier = XlmRoBertaForMultipleChoice.loadSavedModel(\n",
    "     f\"{EXPORT_PATH}\",\n",
    "     spark\n",
    " )\\\n",
    "  .setInputCols([\"document_question\", \"document_context\"])\\\n",
    "  .setOutputCol(\"answer\")"
   ]
  },
  {
   "cell_type": "markdown",
   "metadata": {
    "id": "OmxG3UynSxFf"
   },
   "source": [
    "Let's save it on disk so it is easier to be moved around and also be used later via .load function"
   ]
  },
  {
   "cell_type": "code",
   "execution_count": 9,
   "metadata": {
    "id": "dl9v_UCISfbJ"
   },
   "outputs": [],
   "source": [
    "xlmRoBertaMultpleChoiceClassifier.write().overwrite().save(\"./{}_spark_nlp_onnx\".format(MODEL_NAME))"
   ]
  },
  {
   "cell_type": "markdown",
   "metadata": {
    "id": "YPSFjBLuS2Lk"
   },
   "source": [
    "Let's clean up stuff we don't need anymore"
   ]
  },
  {
   "cell_type": "code",
   "execution_count": 10,
   "metadata": {
    "id": "spbp5G5sS2lR"
   },
   "outputs": [],
   "source": [
    "!rm -rf {EXPORT_PATH}"
   ]
  },
  {
   "cell_type": "markdown",
   "metadata": {
    "id": "LxK9WcnJS_XC"
   },
   "source": [
    "Now let's see how we can use it on other machines, clusters, or any place you wish to use your new and shiny `XlmRoBertaForMultipleChoice` model in Spark NLP 🚀 pipeline!"
   ]
  },
  {
   "cell_type": "code",
   "execution_count": 11,
   "metadata": {
    "colab": {
     "base_uri": "https://localhost:8080/"
    },
    "id": "Gs3VQBACg8jm",
    "outputId": "80a4585a-343d-4f3b-a05e-5a51d2b789ca"
   },
   "outputs": [
    {
     "name": "stdout",
     "output_type": "stream",
     "text": [
      "+------------------------------------------------------------------------------------------+------------------------------------------------------------------------+\n",
      "|question                                                                                  |choices                                                                 |\n",
      "+------------------------------------------------------------------------------------------+------------------------------------------------------------------------+\n",
      "|In Italy, pizza served in formal settings, such as at a restaurant, is presented unsliced.|It is eaten with a fork and a knife, It is eaten while held in the hand.|\n",
      "|The Eiffel Tower is located in which country?                                             |Germany, France, Italy                                                  |\n",
      "|Which animal is known as the king of the jungle?                                          |Lion, Elephant, Tiger, Leopard                                          |\n",
      "|Water boils at what temperature?                                                          |90°C, 120°C, 100°C                                                      |\n",
      "|Which planet is known as the Red Planet?                                                  |Jupiter, Mars, Venus                                                    |\n",
      "|Which language is primarily spoken in Brazil?                                             |Spanish, Portuguese, English                                            |\n",
      "|The Great Wall of China was built to protect against invasions from which group?          |The Greeks, The Romans, The Mongols, The Persians                       |\n",
      "|Which chemical element has the symbol 'O'?                                                |Oxygenm, Osmium, Ozone                                                  |\n",
      "|Which continent is the Sahara Desert located in?                                          |Asia, Africa, South America                                             |\n",
      "|Which artist painted the Mona Lisa?                                                       |Vincent van Gogh, Leonardo da Vinci, Pablo Picasso                      |\n",
      "+------------------------------------------------------------------------------------------+------------------------------------------------------------------------+\n",
      "\n"
     ]
    }
   ],
   "source": [
    "data = spark.createDataFrame([\n",
    "    (\"In Italy, pizza served in formal settings, such as at a restaurant, is presented unsliced.\",\n",
    "     \"It is eaten with a fork and a knife, It is eaten while held in the hand.\"),\n",
    "    (\"The Eiffel Tower is located in which country?\", \"Germany, France, Italy\"),\n",
    "    (\"Which animal is known as the king of the jungle?\", \"Lion, Elephant, Tiger, Leopard\"),\n",
    "    (\"Water boils at what temperature?\", \"90°C, 120°C, 100°C\"),\n",
    "    (\"Which planet is known as the Red Planet?\", \"Jupiter, Mars, Venus\"),\n",
    "    (\"Which language is primarily spoken in Brazil?\", \"Spanish, Portuguese, English\"),\n",
    "    (\"The Great Wall of China was built to protect against invasions from which group?\",\n",
    "     \"The Greeks, The Romans, The Mongols, The Persians\"),\n",
    "    (\"Which chemical element has the symbol 'O'?\", \"Oxygenm, Osmium, Ozone\"),\n",
    "    (\"Which continent is the Sahara Desert located in?\", \"Asia, Africa, South America\"),\n",
    "    (\"Which artist painted the Mona Lisa?\", \"Vincent van Gogh, Leonardo da Vinci, Pablo Picasso\")\n",
    "], [\"question\", \"choices\"])\n",
    "\n",
    "data.show(truncate=False)"
   ]
  },
  {
   "cell_type": "code",
   "execution_count": 12,
   "metadata": {
    "colab": {
     "base_uri": "https://localhost:8080/"
    },
    "id": "8IX6B1rHTNwt",
    "outputId": "8ada879f-f663-4de6-f73f-36a61418b186"
   },
   "outputs": [
    {
     "name": "stdout",
     "output_type": "stream",
     "text": [
      "+------------------------------------------------------------------------------------------+------------------------------------------------------------------------+-----------------------------------+\n",
      "|question                                                                                  |choices                                                                 |predicted_answer                   |\n",
      "+------------------------------------------------------------------------------------------+------------------------------------------------------------------------+-----------------------------------+\n",
      "|In Italy, pizza served in formal settings, such as at a restaurant, is presented unsliced.|It is eaten with a fork and a knife, It is eaten while held in the hand.|It is eaten with a fork and a knife|\n",
      "|The Eiffel Tower is located in which country?                                             |Germany, France, Italy                                                  |Germany                            |\n",
      "|Which animal is known as the king of the jungle?                                          |Lion, Elephant, Tiger, Leopard                                          |Lion                               |\n",
      "|Water boils at what temperature?                                                          |90°C, 120°C, 100°C                                                      |90°C                               |\n",
      "|Which planet is known as the Red Planet?                                                  |Jupiter, Mars, Venus                                                    |Jupiter                            |\n",
      "|Which language is primarily spoken in Brazil?                                             |Spanish, Portuguese, English                                            |Spanish                            |\n",
      "|The Great Wall of China was built to protect against invasions from which group?          |The Greeks, The Romans, The Mongols, The Persians                       |The Greeks                         |\n",
      "|Which chemical element has the symbol 'O'?                                                |Oxygenm, Osmium, Ozone                                                  |Oxygenm                            |\n",
      "|Which continent is the Sahara Desert located in?                                          |Asia, Africa, South America                                             |Asia                               |\n",
      "|Which artist painted the Mona Lisa?                                                       |Vincent van Gogh, Leonardo da Vinci, Pablo Picasso                      |Vincent van Gogh                   |\n",
      "+------------------------------------------------------------------------------------------+------------------------------------------------------------------------+-----------------------------------+\n",
      "\n"
     ]
    }
   ],
   "source": [
    "from sparknlp.base import MultiDocumentAssembler\n",
    "from sparknlp.annotator import XlmRoBertaForMultipleChoice\n",
    "from pyspark.ml import Pipeline\n",
    "\n",
    "document_assembler = MultiDocumentAssembler() \\\n",
    "    .setInputCols([\"question\", \"choices\"]) \\\n",
    "    .setOutputCols([\"document_question\", \"document_choices\"])\n",
    "\n",
    "xlm_roberta_model = XlmRoBertaForMultipleChoice() \\\n",
    "    .load(f\"./{MODEL_NAME}_spark_nlp_onnx\") \\\n",
    "    .setInputCols([\"document_question\", \"document_choices\"]) \\\n",
    "    .setOutputCol(\"answer\") \\\n",
    "    .setBatchSize(4)\n",
    "\n",
    "pipeline = Pipeline(stages=[\n",
    "    document_assembler,\n",
    "    xlm_roberta_model\n",
    "])\n",
    "\n",
    "model = pipeline.fit(data)\n",
    "results = model.transform(data)\n",
    "\n",
    "results.selectExpr(\n",
    "    \"question\",\n",
    "    \"choices\",\n",
    "    \"answer.result[0] as predicted_answer\"\n",
    ").show(truncate=False)"
   ]
  }
 ],
 "metadata": {
  "accelerator": "GPU",
  "colab": {
   "gpuType": "T4",
   "provenance": []
  },
  "kernelspec": {
   "display_name": "Python 3 (ipykernel)",
   "language": "python",
   "name": "python3"
  },
  "language_info": {
   "codemirror_mode": {
    "name": "ipython",
    "version": 3
   },
   "file_extension": ".py",
   "mimetype": "text/x-python",
   "name": "python",
   "nbconvert_exporter": "python",
   "pygments_lexer": "ipython3",
   "version": "3.10.12"
  }
 },
 "nbformat": 4,
 "nbformat_minor": 0
}
