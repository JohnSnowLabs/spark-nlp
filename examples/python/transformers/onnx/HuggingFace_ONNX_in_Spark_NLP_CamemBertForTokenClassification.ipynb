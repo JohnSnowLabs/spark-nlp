{
  "cells": [
    {
      "cell_type": "markdown",
      "metadata": {
        "id": "sHzwLZFZ3h7K"
      },
      "source": [
        "![JohnSnowLabs](https://sparknlp.org/assets/images/logo.png)\n",
        "\n",
        "[![Open In Colab](https://colab.research.google.com/assets/colab-badge.svg)](https://colab.research.google.com/github/JohnSnowLabs/spark-nlp/blob/master/examples/python/transformers/onnx/HuggingFace_ONNX_in_Spark_NLP_CamemBertForTokenClassification.ipynb)"
      ]
    },
    {
      "cell_type": "markdown",
      "metadata": {
        "id": "x964JiwL3h7N"
      },
      "source": [
        "## Import ONNX CamemBertForTokenClassification models from HuggingFace 🤗  into Spark NLP 🚀\n",
        "\n",
        "Let's keep in mind a few things before we start 😊\n",
        "\n",
        "- ONNX support was introduced in  `Spark NLP 5.0.0`, enabling high performance inference for models.\n",
        "- `CamemBertForTokenClassification` is only available since in `Spark NLP 5.2.0` and after. So please make sure you have upgraded to the latest Spark NLP release\n",
        "- You can import CamemBERT models trained/fine-tuned for token classification via `CamembertForTokenClassification` or `TFCamembertForTokenClassification`. These models are usually under `Token Classification` category and have `camembert` in their labels\n",
        "- Reference: [TFCamembertForTokenClassification](https://huggingface.co/docs/transformers/model_doc/camembert#transformers.TFCamembertForTokenClassification)\n",
        "- Some [example models](https://huggingface.co/models?other=camembert&pipeline_tag=token-classification)"
      ]
    },
    {
      "cell_type": "markdown",
      "metadata": {
        "id": "oj4YthN93h7O"
      },
      "source": [
        "## Export and Save HuggingFace model"
      ]
    },
    {
      "cell_type": "markdown",
      "metadata": {
        "id": "VKOUuJX73h7O"
      },
      "source": [
        "- Let's install `transformers` package with the `onnx` extension and it's dependencies. You don't need `onnx` to be installed for Spark NLP, however, we need it to load and save models from HuggingFace.\n",
        "- We lock `transformers` on version `4.51.3`. This doesn't mean it won't work with the future releases\n",
        "- CamembertTokenizer requires the `SentencePiece` library, so we install that as well"
      ]
    },
    {
      "cell_type": "code",
      "execution_count": null,
      "metadata": {
        "colab": {
          "base_uri": "https://localhost:8080/"
        },
        "id": "1jrVV-CH3h7O",
        "outputId": "ff2b953c-756f-4865-d908-77b310b3f08f"
      },
      "outputs": [],
      "source": [
        "!pip install -q transformers[onnx]==4.51.3 optimum onnx"
      ]
    },
    {
      "cell_type": "markdown",
      "metadata": {
        "id": "KJvzO9Qt3h7Q"
      },
      "source": [
        "- HuggingFace has an extension called Optimum which offers specialized model inference, including ONNX. We can use this to import and export ONNX models with `from_pretrained` and `save_pretrained`.\n",
        "- We'll use [Jean-Baptiste/camembert-ner](https://huggingface.co/Jean-Baptiste/camembert-ner) model from HuggingFace as an example\n",
        "- In addition to the CamemBERT model, we also need to save the `CamembertTokenizer`. This is the same for every model, these are assets (saved in `/assets`) needed for tokenization inside Spark NLP."
      ]
    },
    {
      "cell_type": "code",
      "execution_count": 2,
      "metadata": {
        "colab": {
          "base_uri": "https://localhost:8080/",
          "height": 368,
          "referenced_widgets": [
            "a36a5ce439ce4590acb5b5fba2d01aec",
            "cbc6d0a18f074c7e93e814e45e9637c0",
            "a9fa6bede1d447478edf9bb7266674c8",
            "592c66d399eb41f8b061f29cbf9d04f3",
            "f28111623ca54550939d80aa728dc5fa",
            "08e38177244e402586b4a35daf4fa732",
            "e395841bcaf14fa3a86cddaca3590f89",
            "cf5d1157024040d8a1b9ad0d6b767f0e",
            "e32ff27a519441cf88cc9eb7b7e446a0",
            "01c36ed184574c8c9925c69771dc7981",
            "cfcb344245784258a6f85e91a9444caa",
            "71224ecd8cc641a7a516791b64fe9229",
            "9ece7afd66124781a368507fbab0ded1",
            "901707e22ea64ec5b51849b4aaa77d86",
            "cc1dbcf3cde04fdcb5aa3de3a4824021",
            "a85c30e60d954b78a02877251985ca9e",
            "2839e9a87ffd4ed9953f8314ced51ac5",
            "920ebaa5752e411bb9fd4d82eba9a0f2",
            "c66ed22852d04e63baf42d442c634a76",
            "304374128cfe4d2f905e59be4b46a86e",
            "f9e61f0209544dde8a2c365284ee9e64",
            "ca458db6ccc04f73a6cfb3250d070870",
            "b6865bdf32784308a88fef69c726b4c4",
            "3454faf468c34dfe8602533cc624f4d6",
            "a3feb20e7b3d4d3cac3a73d44ffb626d",
            "3b33019c641e45ccad66bf0187ef62ff",
            "71a18e7df0154b59a9e6ad24c861cdcb",
            "3511998287934397a42cf2945279e14b",
            "30c450df577f4c6ca14d75ab707d2f20",
            "e0a0fdc6d751415a89e17ac6a467d06f",
            "262775c9dcba4a718c4c2984a3cf29cb",
            "80126cfc97e44053830a8e29fd9e8a1a",
            "79ecd56d075e478c9fb549981d305c1a",
            "6df2c1901f2d4f3aba30f03efe2217d9",
            "c6e8e304435e4358afaa750735355c24",
            "0e54fe02f8a9440ca0cbd9899bfad474",
            "855633ff07434b21a4c6e62c6953f838",
            "d93911626fda41f098413561c01739e4",
            "b92bfcefbafb45248b9966977ac18181",
            "23ac816a689e4ff5b5b58ad865b40aaf",
            "7c26087427a94a9c90978eb398af93bf",
            "1e1fd2a8381640b4bb7af3a4009b1bc0",
            "53c912c6e1964367a19e427c1f0eacac",
            "141d406c961d4147ab780e92bec5a88b",
            "3ee6db22bb154215bc6961971164fa85",
            "9c5c96b16d9f4f0585d58f5bc85e498b",
            "baa91e986c2f4f73b329bc9242d60547",
            "442e6e4a04784f33b5cd442a9016b0d3",
            "0e882fe165984215b82de058d6a61ea5",
            "26d89825f6654d849008ece554ad004f",
            "8f2baad254104ebb9f4fe0cd56ff7cb3",
            "8aff0cd9f95145abb8979f02a0b2d44f",
            "0d11b9df08034a169ab235915142997d",
            "c60d17180a5d437fa1db0ccc50a9a3ae",
            "62cf7ab4e27745a49d12053f25eb8a73"
          ]
        },
        "id": "VDbmLPbM3h7Q",
        "outputId": "74e1a751-a7f7-41c9-90da-6f41ff065369"
      },
      "outputs": [
        {
          "name": "stderr",
          "output_type": "stream",
          "text": [
            "/usr/local/lib/python3.11/dist-packages/huggingface_hub/utils/_auth.py:94: UserWarning: \n",
            "The secret `HF_TOKEN` does not exist in your Colab secrets.\n",
            "To authenticate with the Hugging Face Hub, create a token in your settings tab (https://huggingface.co/settings/tokens), set it as secret in your Google Colab and restart your session.\n",
            "You will be able to reuse this secret in all of your notebooks.\n",
            "Please note that authentication is recommended but still optional to access public models or datasets.\n",
            "  warnings.warn(\n",
            "The model Jean-Baptiste/camembert-ner was already converted to ONNX but got `export=True`, the model will be converted to ONNX once again. Don't forget to save the resulting model with `.save_pretrained()`\n"
          ]
        },
        {
          "data": {
            "application/vnd.jupyter.widget-view+json": {
              "model_id": "a36a5ce439ce4590acb5b5fba2d01aec",
              "version_major": 2,
              "version_minor": 0
            },
            "text/plain": [
              "config.json:   0%|          | 0.00/892 [00:00<?, ?B/s]"
            ]
          },
          "metadata": {},
          "output_type": "display_data"
        },
        {
          "data": {
            "application/vnd.jupyter.widget-view+json": {
              "model_id": "71224ecd8cc641a7a516791b64fe9229",
              "version_major": 2,
              "version_minor": 0
            },
            "text/plain": [
              "model.safetensors:   0%|          | 0.00/440M [00:00<?, ?B/s]"
            ]
          },
          "metadata": {},
          "output_type": "display_data"
        },
        {
          "data": {
            "application/vnd.jupyter.widget-view+json": {
              "model_id": "b6865bdf32784308a88fef69c726b4c4",
              "version_major": 2,
              "version_minor": 0
            },
            "text/plain": [
              "tokenizer_config.json:   0%|          | 0.00/269 [00:00<?, ?B/s]"
            ]
          },
          "metadata": {},
          "output_type": "display_data"
        },
        {
          "data": {
            "application/vnd.jupyter.widget-view+json": {
              "model_id": "6df2c1901f2d4f3aba30f03efe2217d9",
              "version_major": 2,
              "version_minor": 0
            },
            "text/plain": [
              "sentencepiece.bpe.model:   0%|          | 0.00/811k [00:00<?, ?B/s]"
            ]
          },
          "metadata": {},
          "output_type": "display_data"
        },
        {
          "data": {
            "application/vnd.jupyter.widget-view+json": {
              "model_id": "3ee6db22bb154215bc6961971164fa85",
              "version_major": 2,
              "version_minor": 0
            },
            "text/plain": [
              "special_tokens_map.json:   0%|          | 0.00/210 [00:00<?, ?B/s]"
            ]
          },
          "metadata": {},
          "output_type": "display_data"
        },
        {
          "data": {
            "text/plain": [
              "('onnx_models/Jean-Baptiste/camembert-ner/tokenizer_config.json',\n",
              " 'onnx_models/Jean-Baptiste/camembert-ner/special_tokens_map.json',\n",
              " 'onnx_models/Jean-Baptiste/camembert-ner/sentencepiece.bpe.model',\n",
              " 'onnx_models/Jean-Baptiste/camembert-ner/added_tokens.json')"
            ]
          },
          "execution_count": 2,
          "metadata": {},
          "output_type": "execute_result"
        }
      ],
      "source": [
        "from transformers import CamembertTokenizer\n",
        "from optimum.onnxruntime import ORTModelForTokenClassification\n",
        "\n",
        "MODEL_NAME = 'Jean-Baptiste/camembert-ner'\n",
        "ONNX_MODEL = f\"onnx_models/{MODEL_NAME}\"\n",
        "\n",
        "ort_model = ORTModelForTokenClassification.from_pretrained(MODEL_NAME, export=True)\n",
        "ort_model.save_pretrained(ONNX_MODEL)\n",
        "\n",
        "tokenizer = CamembertTokenizer.from_pretrained(MODEL_NAME)\n",
        "tokenizer.save_pretrained(ONNX_MODEL)"
      ]
    },
    {
      "cell_type": "markdown",
      "metadata": {
        "id": "EdmKtad03h7Q"
      },
      "source": [
        "Let's have a look inside these two directories and see what we are dealing with:"
      ]
    },
    {
      "cell_type": "code",
      "execution_count": 3,
      "metadata": {
        "colab": {
          "base_uri": "https://localhost:8080/"
        },
        "id": "EWahK5eU3h7Q",
        "outputId": "3768dea5-b4ae-40c7-f984-462647d0bf06"
      },
      "outputs": [
        {
          "name": "stdout",
          "output_type": "stream",
          "text": [
            "total 430948\n",
            "-rw-r--r-- 1 root root        22 Jun 11 21:33 added_tokens.json\n",
            "-rw-r--r-- 1 root root       886 Jun 11 21:33 config.json\n",
            "-rw-r--r-- 1 root root 440459690 Jun 11 21:33 model.onnx\n",
            "-rw-r--r-- 1 root root    810912 Jun 11 21:33 sentencepiece.bpe.model\n",
            "-rw-r--r-- 1 root root       354 Jun 11 21:33 special_tokens_map.json\n",
            "-rw-r--r-- 1 root root      1794 Jun 11 21:33 tokenizer_config.json\n"
          ]
        }
      ],
      "source": [
        "!ls -l {ONNX_MODEL}"
      ]
    },
    {
      "cell_type": "markdown",
      "metadata": {
        "id": "U8NQh8_c3h7R"
      },
      "source": [
        "- We need to move `spiece.model` from the tokenizer to assets folder which Spark NLP will look for\n",
        "- We also need `labels` and their `ids` which is saved inside the model's config. We will save this inside `labels.txt`"
      ]
    },
    {
      "cell_type": "code",
      "execution_count": 4,
      "metadata": {
        "id": "5xwhLcOq3h7R"
      },
      "outputs": [],
      "source": [
        "!mkdir -p {ONNX_MODEL}/assets\n",
        "\n",
        "with open(f\"{ONNX_MODEL}/assets/labels.txt\", \"w\") as f:\n",
        "    f.write(\"\\n\".join(sorted(ort_model.config.label2id, key=ort_model.config.label2id.get)))\n",
        "\n",
        "!mv {ONNX_MODEL}/sentencepiece.bpe.model {ONNX_MODEL}/assets/"
      ]
    },
    {
      "cell_type": "code",
      "execution_count": 5,
      "metadata": {
        "colab": {
          "base_uri": "https://localhost:8080/"
        },
        "id": "4XeZeIjy3h7S",
        "outputId": "bc23759f-b487-46cf-c94c-ee0d76ae9f38"
      },
      "outputs": [
        {
          "name": "stdout",
          "output_type": "stream",
          "text": [
            "onnx_models/Jean-Baptiste/camembert-ner:\n",
            "total 430160\n",
            "-rw-r--r-- 1 root root        22 Jun 11 21:33 added_tokens.json\n",
            "drwxr-xr-x 2 root root      4096 Jun 11 21:33 assets\n",
            "-rw-r--r-- 1 root root       886 Jun 11 21:33 config.json\n",
            "-rw-r--r-- 1 root root 440459690 Jun 11 21:33 model.onnx\n",
            "-rw-r--r-- 1 root root       354 Jun 11 21:33 special_tokens_map.json\n",
            "-rw-r--r-- 1 root root      1794 Jun 11 21:33 tokenizer_config.json\n",
            "\n",
            "onnx_models/Jean-Baptiste/camembert-ner/assets:\n",
            "total 796\n",
            "-rw-r--r-- 1 root root     26 Jun 11 21:33 labels.txt\n",
            "-rw-r--r-- 1 root root 810912 Jun 11 21:33 sentencepiece.bpe.model\n"
          ]
        }
      ],
      "source": [
        "!ls -lR {ONNX_MODEL}"
      ]
    },
    {
      "cell_type": "code",
      "execution_count": 6,
      "metadata": {
        "colab": {
          "base_uri": "https://localhost:8080/"
        },
        "id": "T1UAdZTW4wig",
        "outputId": "86b3a4e9-f960-4a4e-a78f-ec3a32de7a1e"
      },
      "outputs": [
        {
          "name": "stdout",
          "output_type": "stream",
          "text": [
            "O\n",
            "I-LOC\n",
            "I-PER\n",
            "I-MISC\n",
            "I-ORG"
          ]
        }
      ],
      "source": [
        "!cat {ONNX_MODEL}/assets/labels.txt"
      ]
    },
    {
      "cell_type": "markdown",
      "metadata": {
        "id": "L1jnXfYh3h7S"
      },
      "source": [
        "Voila! We have our `sentencepiece.bpe.model` and `labels.txt` inside assets directory"
      ]
    },
    {
      "cell_type": "markdown",
      "metadata": {
        "id": "FdUS4W7J3h7S"
      },
      "source": [
        "## Import and Save CamemBertForTokenClassification in Spark NLP\n"
      ]
    },
    {
      "cell_type": "markdown",
      "metadata": {
        "id": "Rr3sOSmc3h7S"
      },
      "source": [
        "- Let's install and setup Spark NLP in Google Colab.\n",
        "- For this example we'll use specific versions of `pyspark` and `spark-nlp` that we've already tested with this transformer model to make sure everything runs smoothly."
      ]
    },
    {
      "cell_type": "code",
      "execution_count": 7,
      "metadata": {
        "colab": {
          "base_uri": "https://localhost:8080/"
        },
        "id": "LULE3G463h7S",
        "outputId": "385714f1-69f5-4418-9b32-04c4f71ca2a8"
      },
      "outputs": [
        {
          "name": "stdout",
          "output_type": "stream",
          "text": [
            "\u001b[2K     \u001b[90m━━━━━━━━━━━━━━━━━━━━━━━━━━━━━━━━━━━━━━━\u001b[0m \u001b[32m317.3/317.3 MB\u001b[0m \u001b[31m5.5 MB/s\u001b[0m eta \u001b[36m0:00:00\u001b[0m\n",
            "\u001b[?25h  Preparing metadata (setup.py) ... \u001b[?25l\u001b[?25hdone\n",
            "\u001b[2K   \u001b[90m━━━━━━━━━━━━━━━━━━━━━━━━━━━━━━━━━━━━━━━━\u001b[0m \u001b[32m635.7/635.7 kB\u001b[0m \u001b[31m52.7 MB/s\u001b[0m eta \u001b[36m0:00:00\u001b[0m\n",
            "\u001b[?25h  Building wheel for pyspark (setup.py) ... \u001b[?25l\u001b[?25hdone\n"
          ]
        }
      ],
      "source": [
        "!pip install -q pyspark==3.5.4 spark-nlp==5.5.3"
      ]
    },
    {
      "cell_type": "markdown",
      "metadata": {
        "id": "UFVooh8R3h7S"
      },
      "source": [
        "Let's start Spark with Spark NLP included via our simple `start()` function"
      ]
    },
    {
      "cell_type": "code",
      "execution_count": 8,
      "metadata": {
        "colab": {
          "base_uri": "https://localhost:8080/"
        },
        "id": "e1FVN0rA3h7S",
        "outputId": "a9725fcf-f769-4b6c-cab0-b545fceb606e"
      },
      "outputs": [
        {
          "name": "stdout",
          "output_type": "stream",
          "text": [
            "Spark NLP version:  5.5.3\n",
            "Apache Spark version:  3.5.4\n"
          ]
        }
      ],
      "source": [
        "import sparknlp\n",
        "\n",
        "spark = sparknlp.start()\n",
        "\n",
        "print(\"Spark NLP version: \", sparknlp.version())\n",
        "print(\"Apache Spark version: \", spark.version)"
      ]
    },
    {
      "cell_type": "markdown",
      "metadata": {
        "id": "MfGp2CxP3h7T"
      },
      "source": [
        "- Let's use `loadSavedModel` functon in `CamemBertForTokenClassification` which allows us to load TensorFlow model in SavedModel format\n",
        "- Most params can be set later when you are loading this model in `CamemBertForTokenClassification` in runtime like `setMaxSentenceLength`, so don't worry what you are setting them now\n",
        "- `loadSavedModel` accepts two params, first is the path to the TF SavedModel. The second is the SparkSession that is `spark` variable we previously started via `sparknlp.start()`\n",
        "- NOTE: `loadSavedModel` accepts local paths in addition to distributed file systems such as `HDFS`, `S3`, `DBFS`, etc. This feature was introduced in Spark NLP 4.2.2 release. Keep in mind the best and recommended way to move/share/reuse Spark NLP models is to use `write.save` so you can use `.load()` from any file systems natively."
      ]
    },
    {
      "cell_type": "code",
      "execution_count": 9,
      "metadata": {
        "id": "f5U5i1td3h7T"
      },
      "outputs": [],
      "source": [
        "from sparknlp.annotator import CamemBertForTokenClassification\n",
        "\n",
        "tokenClassifier = CamemBertForTokenClassification.loadSavedModel(\n",
        "        ONNX_MODEL,\n",
        "        spark\n",
        "    ) \\\n",
        "    .setInputCols([\"document\", \"token\"]) \\\n",
        "    .setOutputCol(\"ner\") \\\n",
        "    .setCaseSensitive(True) \\\n",
        "    .setMaxSentenceLength(128)"
      ]
    },
    {
      "cell_type": "markdown",
      "metadata": {
        "id": "2QqOLeMY3h7T"
      },
      "source": [
        "- Let's save it on disk so it is easier to be moved around and also be used later via `.load` function"
      ]
    },
    {
      "cell_type": "code",
      "execution_count": 10,
      "metadata": {
        "id": "zCrQNwZt3h7T"
      },
      "outputs": [],
      "source": [
        "tokenClassifier.write().overwrite().save(\"./{}_spark_nlp_onnx\".format(ONNX_MODEL))"
      ]
    },
    {
      "cell_type": "markdown",
      "metadata": {
        "id": "gPULg0bw3h7T"
      },
      "source": [
        "Let's clean up stuff we don't need anymore"
      ]
    },
    {
      "cell_type": "code",
      "execution_count": 11,
      "metadata": {
        "id": "Yti836t03h7T"
      },
      "outputs": [],
      "source": [
        "!rm -rf {ONNX_MODEL}"
      ]
    },
    {
      "cell_type": "markdown",
      "metadata": {
        "id": "HVuq4Egd3h7U"
      },
      "source": [
        "Awesome 😎  !\n",
        "\n",
        "This is your CamemBertForTokenClassification model from HuggingFace 🤗  loaded and saved by Spark NLP 🚀"
      ]
    },
    {
      "cell_type": "code",
      "execution_count": 12,
      "metadata": {
        "colab": {
          "base_uri": "https://localhost:8080/"
        },
        "id": "1InmUh863h7U",
        "outputId": "991b9a38-089c-4b93-fe18-bbc83cb519b6"
      },
      "outputs": [
        {
          "name": "stdout",
          "output_type": "stream",
          "text": [
            "total 431008\n",
            "-rw-r--r-- 1 root root 440527034 Jun 11 21:37 camembert_classification_onnx\n",
            "-rw-r--r-- 1 root root    810912 Jun 11 21:37 camembert_spp\n",
            "drwxr-xr-x 3 root root      4096 Jun 11 21:37 fields\n",
            "drwxr-xr-x 2 root root      4096 Jun 11 21:37 metadata\n"
          ]
        }
      ],
      "source": [
        "! ls -l {ONNX_MODEL}_spark_nlp_onnx"
      ]
    },
    {
      "cell_type": "markdown",
      "metadata": {
        "id": "3WER1Fs33h7U"
      },
      "source": [
        "Now let's see how we can use it on other machines, clusters, or any place you wish to use your new and shiny CamemBertForTokenClassification model 😊"
      ]
    },
    {
      "cell_type": "code",
      "execution_count": 13,
      "metadata": {
        "id": "LPfLqBxC3h7U"
      },
      "outputs": [],
      "source": [
        "tokenClassifier_loaded = CamemBertForTokenClassification.load(\"./{}_spark_nlp_onnx\".format(ONNX_MODEL))\\\n",
        "    .setInputCols([\"document\",'token'])\\\n",
        "    .setOutputCol(\"ner\")"
      ]
    },
    {
      "cell_type": "markdown",
      "metadata": {
        "id": "FFKIrZJK3h7U"
      },
      "source": [
        "You can see what labels were used to train this model via `getClasses` function:"
      ]
    },
    {
      "cell_type": "code",
      "execution_count": 14,
      "metadata": {
        "colab": {
          "base_uri": "https://localhost:8080/"
        },
        "id": "xYltir1E3h7U",
        "outputId": "0ac80943-7755-46fa-ac14-8b145b666591"
      },
      "outputs": [
        {
          "data": {
            "text/plain": [
              "['I-ORG', 'I-MISC', 'I-LOC', 'I-PER', 'O']"
            ]
          },
          "execution_count": 14,
          "metadata": {},
          "output_type": "execute_result"
        }
      ],
      "source": [
        "tokenClassifier_loaded.getClasses()"
      ]
    },
    {
      "cell_type": "markdown",
      "metadata": {
        "id": "64ZblUQB3h7U"
      },
      "source": [
        "This is how you can use your loaded classifier model in Spark NLP 🚀 pipeline:"
      ]
    },
    {
      "cell_type": "code",
      "execution_count": 15,
      "metadata": {
        "colab": {
          "base_uri": "https://localhost:8080/"
        },
        "id": "Qj9CSfrx3h7V",
        "outputId": "090111d4-29b4-492a-8ec0-a4d223d7ad85"
      },
      "outputs": [
        {
          "name": "stdout",
          "output_type": "stream",
          "text": [
            "+-----------------------------------------------+--------------------------------+\n",
            "|text                                           |result                          |\n",
            "+-----------------------------------------------+--------------------------------+\n",
            "|Je m'appelle jean-baptiste et je vis à montréal|[O, O, I-PER, O, O, O, O, I-LOC]|\n",
            "|george washington est allé à washington        |[I-PER, I-PER, O, O, O, I-LOC]  |\n",
            "+-----------------------------------------------+--------------------------------+\n",
            "\n",
            "+-----------------+------+\n",
            "|text             |entity|\n",
            "+-----------------+------+\n",
            "|jean-baptiste    |PER   |\n",
            "|montréal         |LOC   |\n",
            "|george washington|PER   |\n",
            "|washington       |LOC   |\n",
            "+-----------------+------+\n",
            "\n"
          ]
        }
      ],
      "source": [
        "from pyspark.ml import Pipeline\n",
        "from sparknlp.base import DocumentAssembler\n",
        "from sparknlp.annotator import Tokenizer, NerConverter\n",
        "\n",
        "document_assembler = DocumentAssembler() \\\n",
        "    .setInputCol(\"text\") \\\n",
        "    .setOutputCol(\"document\")\n",
        "\n",
        "tokenizer = Tokenizer() \\\n",
        "    .setInputCols([\"document\"]) \\\n",
        "    .setOutputCol(\"token\")\n",
        "\n",
        "converter = NerConverter() \\\n",
        "    .setInputCols([\"document\", \"token\", \"ner\"]) \\\n",
        "    .setOutputCol(\"ner_chunk\")\n",
        "\n",
        "pipeline = Pipeline(stages=[\n",
        "    document_assembler,\n",
        "    tokenizer,\n",
        "    tokenClassifier_loaded,\n",
        "    converter\n",
        "])\n",
        "\n",
        "example = spark.createDataFrame([\n",
        "    [\"Je m'appelle jean-baptiste et je vis à montréal\"],\n",
        "    [\"george washington est allé à washington\"]\n",
        "], [\"text\"])\n",
        "\n",
        "result = pipeline.fit(example).transform(example)\n",
        "result.select(\"text\", \"ner.result\").show(truncate=False)\n",
        "\n",
        "result.selectExpr(\"explode(ner_chunk) as chunk\").selectExpr(\n",
        "    \"chunk.result as text\",\n",
        "    \"chunk.metadata['entity'] as entity\"\n",
        ").show(truncate=False)"
      ]
    },
    {
      "cell_type": "markdown",
      "metadata": {
        "id": "Q-U_ZRoX3h7V"
      },
      "source": [
        "That's it! You can now go wild and use hundreds of `CamemBertForTokenClassification` models from HuggingFace 🤗 in Spark NLP 🚀\n"
      ]
    }
  ],
  "metadata": {
    "accelerator": "GPU",
    "colab": {
      "gpuType": "T4",
      "provenance": []
    },
    "kernelspec": {
      "display_name": "Python 3 (ipykernel)",
      "language": "python",
      "name": "python3"
    },
    "language_info": {
      "codemirror_mode": {
        "name": "ipython",
        "version": 3
      },
      "file_extension": ".py",
      "mimetype": "text/x-python",
      "name": "python",
      "nbconvert_exporter": "python",
      "pygments_lexer": "ipython3"
    }
  },
  "nbformat": 4,
  "nbformat_minor": 0
}
