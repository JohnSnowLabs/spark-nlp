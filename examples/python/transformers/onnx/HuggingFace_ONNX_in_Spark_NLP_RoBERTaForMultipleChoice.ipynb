{
 "cells": [
  {
   "cell_type": "markdown",
   "metadata": {
    "id": "PAsu8UVGoLVf"
   },
   "source": [
    "![JohnSnowLabs](https://sparknlp.org/assets/images/logo.png)\n",
    "\n",
    "[![Open In Colab](https://colab.research.google.com/assets/colab-badge.svg)](https://colab.research.google.com/github/JohnSnowLabs/spark-nlp/blob/master/examples/python/transformers/onnx/HuggingFace_ONNX_in_Spark_NLP_RoBERTaForMultipleChoice.ipynb)\n",
    "\n",
    "## Import ONNX RoBERTaForMultipleChoice models from HuggingFace 🤗 into Spark NLP 🚀\n",
    "\n",
    "Let's keep in mind a few things before we start 😊\n",
    "\n",
    "- ONNX support was introduced in  `Spark NLP 5.0.0`, enabling high performance inference for models.\n",
    "- `RoBertaForMultipleChoice` is only available since in `Spark NLP 5.6.0` and after. So please make sure you have upgraded to the latest Spark NLP release\n",
    "- You can import BERT models trained/fine-tuned for question answering via `RoBertaForMultipleChoice` or `TFRobertaForMultipleChoice`. These models are usually under `Multiple Choice` category and have `bert` in their labels\n",
    "- Reference: [RoBertaForMultipleChoice](https://huggingface.co/docs/transformers/en/model_doc/roberta#transformers.RobertaForMultipleChoice)"
   ]
  },
  {
   "cell_type": "markdown",
   "metadata": {
    "id": "OzijcdtQpOx9"
   },
   "source": [
    "## Export and Save HuggingFace model"
   ]
  },
  {
   "cell_type": "markdown",
   "metadata": {
    "id": "MlgoClMXpSg4"
   },
   "source": [
    "- Let's install `transformers` package with the `onnx` extension and it's dependencies. You don't need `onnx` to be installed for Spark NLP, however, we need it to load and save models from HuggingFace.\n",
    "- We lock `transformers` on version `4.48.3`. This doesn't mean it won't work with the future releases, but we wanted you to know which versions have been tested successfully."
   ]
  },
  {
   "cell_type": "code",
   "execution_count": null,
   "metadata": {
    "colab": {
     "base_uri": "https://localhost:8080/"
    },
    "id": "cJWbob-kHICU",
    "outputId": "f95c3e23-eb80-468b-bfd9-164b266268b6"
   },
   "outputs": [],
   "source": [
    "!pip install -q --upgrade transformers[onnx]==4.48.3 optimum onnx"
   ]
  },
  {
   "cell_type": "markdown",
   "metadata": {
    "id": "MK77IFvZqxKf"
   },
   "source": [
    "- HuggingFace has an extension called Optimum which offers specialized model inference, including ONNX. We can use this to import and export ONNX models with `from_pretrained` and `save_pretrained`.\n",
    "- We'll use [https://huggingface.co/SyedArsal/roberta-urdu-small-finetuned-news](https://huggingface.co/SyedArsal/roberta-urdu-small-finetuned-news) model from HuggingFace as an example and load it as a `ORTModelForMultipleChoice`, representing an ONNX model.\n",
    "- In addition to the RoBERTa model, we also need to save the tokenizer. This is the same for every model, these are assets (saved in `/assets`) needed for tokenization inside Spark NLP."
   ]
  },
  {
   "cell_type": "code",
   "execution_count": 2,
   "metadata": {
    "colab": {
     "base_uri": "https://localhost:8080/",
     "height": 464,
     "referenced_widgets": [
      "98c9de456d6e42a6a962a226fbdd1020",
      "8501ad8583af499ba99f7a297564d0cd",
      "346db8a50f3542d389e7852e6f8b7fb7",
      "3c59c4d7c1564b0190b258f47161ec04",
      "c0d159c6063b4fd29d4c2be83066610c",
      "5f074cc9486b4732aea35e51a1d97b0d",
      "d5729574a1444066975e50cb431b4f3c",
      "f949b4f857444f3aa92406c1d146ebab",
      "adb355c686bc401883740d0419bf070f",
      "f4c95283945644eba1eb5e43d8631a08",
      "ee3f71ff0fcb45c68a7a644478b077d0",
      "c1a81ff5b10a4e01b53b770d7774e59a",
      "de5cbeab54754558bb6f69770fa1358e",
      "1551e3a57cc446489ad0b18fa8a45203",
      "12e473b8209342a4bfeda2e8c2d10a81",
      "477608728b99485c96eda1cd0f00b370",
      "6578abb7dcf946779b5ae3718bf04635",
      "4d43d434d77a47d9abbd91fd58b8b3b5",
      "7e6344a215ca42b8b573b332ae07b9ee",
      "687a6b49503f4a65aa9dec48514fd7bb",
      "bd0913b1b72140ada64b02828f88c3bf",
      "f655366f494b401ca0462939190fa3b9",
      "8f7ab8d6a2014fce8723e163d7f262a7",
      "13ae094bb77c4615b345f5b486e1d906",
      "093534448d514d9e9fa14d2daefaef81",
      "1718b2d109344f4a91ea3d02c2b3dd05",
      "f688b4e5bec441ac949c2514428ee719",
      "3b29ec032e2a4bbbb8cfe6ad0a6a7f3d",
      "b9bbbba852b84d01967d77e3f9805b81",
      "c7d9770dd7234fa3b613820c17850650",
      "c17a9da01ecb4916be63073e880d3912",
      "b29eab5d039448dbb6e8ea7f65280735",
      "681930083cf3440dbea28876a10cde0d",
      "bea4d7c3844c4c84aa3a71b296f3c028",
      "6d4dd90fdb3e47ee9eaf0c9d7e1f3f40",
      "35abb390d28d40fda779b663ebfcc8e7",
      "698d3f16fee844cebf7afa9282c01fbf",
      "656b4717671b44dca5d6506ca2423526",
      "37d174b0e0b444a395716166cc863ba5",
      "9beff5aa9f5a4b22a8d0eb858bb92c1d",
      "62d522202075429f8a420b64cfb3d03c",
      "2c2c5ec8bd274062af81f11e139e25fb",
      "e55f8461306b4cc3b760f565b031730b",
      "2d4a44c59d67409ca27fd4e7a95613f2",
      "7dd6a87e29554723a6fed2ff5d6641be",
      "41420eb870f3499fb9f8d5cf8a3a75dd",
      "ce7a784bd60b409ba2d8b7f1ffa1076f",
      "b777059d63e74dfbac6d53c300f80616",
      "0025d43cf2aa4b7c85efbd71e1a28a1b",
      "dadc1f46f6974c978b9bd1a6f6e146ae",
      "092d2ce4486a4e3c97618bc5741eca8f",
      "536bbb63226941fda3c68af08213d0f8",
      "91bb16358c8c48d2a68d634a590cc2e2",
      "ea7997ca05464e7fb030c84665ee45c9",
      "9ff9cfd2e25f4ec39a1bbcf14d94a912",
      "cfd3d5e9d17a4110be7512f83780a9d5",
      "4bea77604c044ed2a4b686f5ae92c778",
      "6d705518c4af4816b416af908f4fdefd",
      "77276e62838a4ef0b28e7ead0e1f13a6",
      "3c7165d2ddc84942b9e1c7b29c35141a",
      "7be934ab8b84494d8d75d046cf7a105c",
      "d83fe84a05ad432a8a42ca28dee5e503",
      "3f662b7f021643da96ae4d69d2910291",
      "6d0a021ab9c44a37b0ffec4e607aa6f7",
      "543a2bf2eb5d4013bc60ccb7618f92ca",
      "1999ba0392084d6fbd3990c7b99d4736",
      "e8ca93777aa9403383316d5c5e0d0e3b",
      "98d66a3cd3ee4dd8bd2691dccd43c375",
      "1d30498ac090423a908818426fd88651",
      "336fb40297914a449fb342f5f6653307",
      "fcd9c0bf2644422dbf9c93deb1d18b59",
      "d4aacf9ba9654a0e9249eeca21ac5a9e",
      "39828c48e31945dfbd06856bdb06c1a9",
      "7461eb3a27d8416d9ba0206fb1821bd7",
      "de021bd4965c480a8fe1ac7812b0ab23",
      "387f749f4cd648369c1da4b8b70aad4e",
      "c03ed1eae3ef4c319721d2de36307ee4",
      "95e6e79db43d45a38ed83a9121c5cdd6",
      "424c356922a3472fb9a800730f289842",
      "4aa6c4467a314c9dac4e69cd0a9b0292",
      "c5fbbebecd0d49558663dcb621bf6e2c",
      "d72ed08cce884c019140cc65e9b61aa2",
      "9bf31a19fa784cf2879c60ea3ce95cf4",
      "3391b82466b944898d5698fdbff02caa",
      "a62e13d946f7415b85f4144b855f7529",
      "87c4213b152240eb8a42e884e8b83212",
      "54a1318612aa477b8eea3bb11e48b8d6",
      "a60f9e6d10a94a81852ebf8f3481727f"
     ]
    },
    "id": "mo3nD10uqz0p",
    "outputId": "00b34b2d-9c52-4c9a-cef8-876eb686cc00"
   },
   "outputs": [
    {
     "name": "stderr",
     "output_type": "stream",
     "text": [
      "/usr/local/lib/python3.11/dist-packages/huggingface_hub/utils/_auth.py:94: UserWarning: \n",
      "The secret `HF_TOKEN` does not exist in your Colab secrets.\n",
      "To authenticate with the Hugging Face Hub, create a token in your settings tab (https://huggingface.co/settings/tokens), set it as secret in your Google Colab and restart your session.\n",
      "You will be able to reuse this secret in all of your notebooks.\n",
      "Please note that authentication is recommended but still optional to access public models or datasets.\n",
      "  warnings.warn(\n"
     ]
    },
    {
     "data": {
      "application/vnd.jupyter.widget-view+json": {
       "model_id": "98c9de456d6e42a6a962a226fbdd1020",
       "version_major": 2,
       "version_minor": 0
      },
      "text/plain": [
       "config.json:   0%|          | 0.00/728 [00:00<?, ?B/s]"
      ]
     },
     "metadata": {},
     "output_type": "display_data"
    },
    {
     "data": {
      "application/vnd.jupyter.widget-view+json": {
       "model_id": "c1a81ff5b10a4e01b53b770d7774e59a",
       "version_major": 2,
       "version_minor": 0
      },
      "text/plain": [
       "pytorch_model.bin:   0%|          | 0.00/504M [00:00<?, ?B/s]"
      ]
     },
     "metadata": {},
     "output_type": "display_data"
    },
    {
     "data": {
      "application/vnd.jupyter.widget-view+json": {
       "model_id": "8f7ab8d6a2014fce8723e163d7f262a7",
       "version_major": 2,
       "version_minor": 0
      },
      "text/plain": [
       "tokenizer_config.json: 0.00B [00:00, ?B/s]"
      ]
     },
     "metadata": {},
     "output_type": "display_data"
    },
    {
     "data": {
      "application/vnd.jupyter.widget-view+json": {
       "model_id": "bea4d7c3844c4c84aa3a71b296f3c028",
       "version_major": 2,
       "version_minor": 0
      },
      "text/plain": [
       "vocab.json: 0.00B [00:00, ?B/s]"
      ]
     },
     "metadata": {},
     "output_type": "display_data"
    },
    {
     "data": {
      "application/vnd.jupyter.widget-view+json": {
       "model_id": "7dd6a87e29554723a6fed2ff5d6641be",
       "version_major": 2,
       "version_minor": 0
      },
      "text/plain": [
       "model.safetensors:   0%|          | 0.00/504M [00:00<?, ?B/s]"
      ]
     },
     "metadata": {},
     "output_type": "display_data"
    },
    {
     "data": {
      "application/vnd.jupyter.widget-view+json": {
       "model_id": "cfd3d5e9d17a4110be7512f83780a9d5",
       "version_major": 2,
       "version_minor": 0
      },
      "text/plain": [
       "merges.txt: 0.00B [00:00, ?B/s]"
      ]
     },
     "metadata": {},
     "output_type": "display_data"
    },
    {
     "data": {
      "application/vnd.jupyter.widget-view+json": {
       "model_id": "e8ca93777aa9403383316d5c5e0d0e3b",
       "version_major": 2,
       "version_minor": 0
      },
      "text/plain": [
       "tokenizer.json: 0.00B [00:00, ?B/s]"
      ]
     },
     "metadata": {},
     "output_type": "display_data"
    },
    {
     "data": {
      "application/vnd.jupyter.widget-view+json": {
       "model_id": "95e6e79db43d45a38ed83a9121c5cdd6",
       "version_major": 2,
       "version_minor": 0
      },
      "text/plain": [
       "special_tokens_map.json:   0%|          | 0.00/957 [00:00<?, ?B/s]"
      ]
     },
     "metadata": {},
     "output_type": "display_data"
    },
    {
     "data": {
      "text/plain": [
       "('onnx_models/SyedArsal/roberta-urdu-small-finetuned-news/tokenizer_config.json',\n",
       " 'onnx_models/SyedArsal/roberta-urdu-small-finetuned-news/special_tokens_map.json',\n",
       " 'onnx_models/SyedArsal/roberta-urdu-small-finetuned-news/vocab.json',\n",
       " 'onnx_models/SyedArsal/roberta-urdu-small-finetuned-news/merges.txt',\n",
       " 'onnx_models/SyedArsal/roberta-urdu-small-finetuned-news/added_tokens.json')"
      ]
     },
     "execution_count": 2,
     "metadata": {},
     "output_type": "execute_result"
    }
   ],
   "source": [
    "from transformers import RobertaTokenizer\n",
    "from optimum.onnxruntime import ORTModelForMultipleChoice\n",
    "\n",
    "MODEL_NAME = \"SyedArsal/roberta-urdu-small-finetuned-news\"\n",
    "EXPORT_PATH = f\"onnx_models/{MODEL_NAME}\"\n",
    "\n",
    "ort_model = ORTModelForMultipleChoice.from_pretrained(MODEL_NAME, export=True)\n",
    "ort_model.save_pretrained(EXPORT_PATH)\n",
    "\n",
    "tokenizer = RobertaTokenizer.from_pretrained(MODEL_NAME)\n",
    "tokenizer.save_pretrained(EXPORT_PATH)"
   ]
  },
  {
   "cell_type": "markdown",
   "metadata": {
    "id": "e1696tiVO51u"
   },
   "source": [
    "Let's have a look inside these two directories and see what we are dealing with:"
   ]
  },
  {
   "cell_type": "code",
   "execution_count": 3,
   "metadata": {
    "colab": {
     "base_uri": "https://localhost:8080/"
    },
    "id": "NFamGuT4OJC2",
    "outputId": "91c50642-8085-4e88-c347-742cc9e18d8f"
   },
   "outputs": [
    {
     "name": "stdout",
     "output_type": "stream",
     "text": [
      "total 484M\n",
      "-rw-r--r-- 1 root root  744 Jun 26 05:20 config.json\n",
      "-rw-r--r-- 1 root root 1.1M Jun 26 05:20 merges.txt\n",
      "-rw-r--r-- 1 root root 481M Jun 26 05:20 model.onnx\n",
      "-rw-r--r-- 1 root root  957 Jun 26 05:20 special_tokens_map.json\n",
      "-rw-r--r-- 1 root root 1.3K Jun 26 05:20 tokenizer_config.json\n",
      "-rw-r--r-- 1 root root 1.7M Jun 26 05:20 vocab.json\n"
     ]
    }
   ],
   "source": [
    "!ls -lh {EXPORT_PATH}"
   ]
  },
  {
   "cell_type": "markdown",
   "metadata": {
    "id": "THEhUhYRO6-y"
   },
   "source": [
    "- We need to convert `vocab.json` to `vocab.txt` by extracting and sorting the tokens (one per line), and make sure `merges.txt` is also present.\n",
    "- Move both `vocab.txt` and `merges.tx`t into an `assets/` folder inside your export path, Spark NLP looks for tokenizer files there when loading ONNX models."
   ]
  },
  {
   "cell_type": "code",
   "execution_count": 4,
   "metadata": {
    "id": "TWSmO_cNrL7i"
   },
   "outputs": [],
   "source": [
    "import json\n",
    "\n",
    "with open(f\"{EXPORT_PATH}/vocab.json\", \"r\") as f:\n",
    "    vocab = json.load(f)\n",
    "\n",
    "with open(f\"{EXPORT_PATH}/vocab.txt\", \"w\") as f:\n",
    "    for token in vocab.keys():\n",
    "        f.write(f\"{token}\\n\")\n",
    "\n",
    "!mkdir -p {EXPORT_PATH}/assets\n",
    "!mv {EXPORT_PATH}/vocab.txt {EXPORT_PATH}/assets/\n",
    "!mv {EXPORT_PATH}/merges.txt {EXPORT_PATH}/assets/"
   ]
  },
  {
   "cell_type": "code",
   "execution_count": 5,
   "metadata": {
    "colab": {
     "base_uri": "https://localhost:8080/"
    },
    "id": "1BcINpaqPmgQ",
    "outputId": "772ec9bd-7a33-4c8a-a321-5055463ac2be"
   },
   "outputs": [
    {
     "name": "stdout",
     "output_type": "stream",
     "text": [
      "onnx_models/SyedArsal/roberta-urdu-small-finetuned-news/assets:\n",
      "total 2200\n",
      "-rw-r--r-- 1 root root 1150119 Jun 26 05:20 merges.txt\n",
      "-rw-r--r-- 1 root root 1099068 Jun 26 05:21 vocab.txt\n"
     ]
    }
   ],
   "source": [
    "!ls -lR {EXPORT_PATH}/assets"
   ]
  },
  {
   "cell_type": "markdown",
   "metadata": {
    "id": "rOT64bl9Ppk-"
   },
   "source": [
    "Voila! We have our vocab.txt inside assets directory"
   ]
  },
  {
   "cell_type": "markdown",
   "metadata": {
    "id": "3rgd1jHMRC7q"
   },
   "source": [
    "## Import and Save RobertaForMultipleChoice in Spark NLP"
   ]
  },
  {
   "cell_type": "markdown",
   "metadata": {
    "id": "N0dY2lHcRG5t"
   },
   "source": [
    "- Install and set up Spark NLP in Google Colab\n",
    "- This example uses specific versions of `pyspark` and `spark-nlp` that have been tested with the transformer model to ensure everything runs smoothly."
   ]
  },
  {
   "cell_type": "code",
   "execution_count": 1,
   "metadata": {
    "colab": {
     "base_uri": "https://localhost:8080/"
    },
    "id": "9ld2osF6STCv",
    "outputId": "8b055005-8509-4cc5-d191-83e517287186"
   },
   "outputs": [
    {
     "name": "stdout",
     "output_type": "stream",
     "text": [
      "\u001b[2K     \u001b[90m━━━━━━━━━━━━━━━━━━━━━━━━━━━━━━━━━━━━━━━\u001b[0m \u001b[32m317.0/317.0 MB\u001b[0m \u001b[31m4.2 MB/s\u001b[0m eta \u001b[36m0:00:00\u001b[0m\n",
      "\u001b[?25h  Preparing metadata (setup.py) ... \u001b[?25l\u001b[?25hdone\n",
      "\u001b[2K   \u001b[90m━━━━━━━━━━━━━━━━━━━━━━━━━━━━━━━━━━━━━━━━\u001b[0m \u001b[32m713.0/713.0 kB\u001b[0m \u001b[31m28.6 MB/s\u001b[0m eta \u001b[36m0:00:00\u001b[0m\n",
      "\u001b[?25h  Building wheel for pyspark (setup.py) ... \u001b[?25l\u001b[?25hdone\n"
     ]
    }
   ],
   "source": [
    "!pip install -q spark-nlp==6.0.3 pyspark==3.5.1"
   ]
  },
  {
   "cell_type": "code",
   "execution_count": 2,
   "metadata": {
    "colab": {
     "base_uri": "https://localhost:8080/"
    },
    "id": "u1kTC9LQRHbg",
    "outputId": "0b211520-48d6-450b-af59-3fc8934e9b72"
   },
   "outputs": [
    {
     "name": "stdout",
     "output_type": "stream",
     "text": [
      "Spark NLP version:  6.0.3\n",
      "Apache Spark version:  3.5.1\n"
     ]
    }
   ],
   "source": [
    "import sparknlp\n",
    "\n",
    "spark = sparknlp.start()\n",
    "\n",
    "print(\"Spark NLP version: \", sparknlp.version())\n",
    "print(\"Apache Spark version: \", spark.version)"
   ]
  },
  {
   "cell_type": "markdown",
   "metadata": {
    "id": "h3lTxyr-R9LH"
   },
   "source": [
    "- Let's use `loadSavedModel` functon in `RoBertaForMultipleChoice` which allows us to load TensorFlow model in SavedModel format\n",
    "- Most params can be set later when you are loading this model in `RoBertaForMultipleChoice` in runtime like `setMaxSentenceLength`, so don't worry what you are setting them now\n",
    "- `loadSavedModel` accepts two params, first is the path to the TF SavedModel. The second is the SparkSession that is `spark` variable we previously started via `sparknlp.start()`\n",
    "- NOTE: `loadSavedModel` accepts local paths in addition to distributed file systems such as `HDFS`, `S3`, `DBFS`, etc. This feature was introduced in Spark NLP 4.2.2 release. Keep in mind the best and recommended way to move/share/reuse Spark NLP models is to use `write.save` so you can use `.load()` from any file systems natively."
   ]
  },
  {
   "cell_type": "code",
   "execution_count": 4,
   "metadata": {
    "id": "6O6v4t3HSFRU"
   },
   "outputs": [],
   "source": [
    "from sparknlp.annotator import RoBertaForMultipleChoice\n",
    "\n",
    "roBertaMultpleChoiceClassifier = RoBertaForMultipleChoice.loadSavedModel(\n",
    "     f\"{EXPORT_PATH}\",\n",
    "     spark\n",
    " )\\\n",
    "  .setInputCols([\"document_question\", \"document_context\"])\\\n",
    "  .setOutputCol(\"answer\")"
   ]
  },
  {
   "cell_type": "markdown",
   "metadata": {
    "id": "OmxG3UynSxFf"
   },
   "source": [
    "Let's save it on disk so it is easier to be moved around and also be used later via .load function"
   ]
  },
  {
   "cell_type": "code",
   "execution_count": 5,
   "metadata": {
    "id": "dl9v_UCISfbJ"
   },
   "outputs": [],
   "source": [
    "roBertaMultpleChoiceClassifier.write().overwrite().save(\"./{}_spark_nlp_onnx\".format(MODEL_NAME))"
   ]
  },
  {
   "cell_type": "markdown",
   "metadata": {
    "id": "YPSFjBLuS2Lk"
   },
   "source": [
    "Let's clean up stuff we don't need anymore"
   ]
  },
  {
   "cell_type": "code",
   "execution_count": 6,
   "metadata": {
    "id": "spbp5G5sS2lR"
   },
   "outputs": [],
   "source": [
    "!rm -rf {EXPORT_PATH}"
   ]
  },
  {
   "cell_type": "markdown",
   "metadata": {
    "id": "LxK9WcnJS_XC"
   },
   "source": [
    "Now let's see how we can use it on other machines, clusters, or any place you wish to use your new and shiny `RoBertaForMultipleChoice` model in Spark NLP 🚀 pipeline!"
   ]
  },
  {
   "cell_type": "code",
   "execution_count": 7,
   "metadata": {
    "colab": {
     "base_uri": "https://localhost:8080/"
    },
    "id": "Gs3VQBACg8jm",
    "outputId": "4f302fae-8a76-4bf3-9c64-dc14bc97ad6c"
   },
   "outputs": [
    {
     "name": "stdout",
     "output_type": "stream",
     "text": [
      "+------------------------------------------------------------------------------------------+------------------------------------------------------------------------+\n",
      "|question                                                                                  |choices                                                                 |\n",
      "+------------------------------------------------------------------------------------------+------------------------------------------------------------------------+\n",
      "|In Italy, pizza served in formal settings, such as at a restaurant, is presented unsliced.|It is eaten with a fork and a knife, It is eaten while held in the hand.|\n",
      "|The Eiffel Tower is located in which country?                                             |Germany, France, Italy                                                  |\n",
      "|Which animal is known as the king of the jungle?                                          |Lion, Elephant, Tiger, Leopard                                          |\n",
      "|Water boils at what temperature?                                                          |90°C, 120°C, 100°C                                                      |\n",
      "|Which planet is known as the Red Planet?                                                  |Jupiter, Mars, Venus                                                    |\n",
      "|Which language is primarily spoken in Brazil?                                             |Spanish, Portuguese, English                                            |\n",
      "|The Great Wall of China was built to protect against invasions from which group?          |The Greeks, The Romans, The Mongols, The Persians                       |\n",
      "|Which chemical element has the symbol 'O'?                                                |Oxygenm, Osmium, Ozone                                                  |\n",
      "|Which continent is the Sahara Desert located in?                                          |Asia, Africa, South America                                             |\n",
      "|Which artist painted the Mona Lisa?                                                       |Vincent van Gogh, Leonardo da Vinci, Pablo Picasso                      |\n",
      "+------------------------------------------------------------------------------------------+------------------------------------------------------------------------+\n",
      "\n"
     ]
    }
   ],
   "source": [
    "data = spark.createDataFrame([\n",
    "    (\"In Italy, pizza served in formal settings, such as at a restaurant, is presented unsliced.\",\n",
    "     \"It is eaten with a fork and a knife, It is eaten while held in the hand.\"),\n",
    "    (\"The Eiffel Tower is located in which country?\", \"Germany, France, Italy\"),\n",
    "    (\"Which animal is known as the king of the jungle?\", \"Lion, Elephant, Tiger, Leopard\"),\n",
    "    (\"Water boils at what temperature?\", \"90°C, 120°C, 100°C\"),\n",
    "    (\"Which planet is known as the Red Planet?\", \"Jupiter, Mars, Venus\"),\n",
    "    (\"Which language is primarily spoken in Brazil?\", \"Spanish, Portuguese, English\"),\n",
    "    (\"The Great Wall of China was built to protect against invasions from which group?\",\n",
    "     \"The Greeks, The Romans, The Mongols, The Persians\"),\n",
    "    (\"Which chemical element has the symbol 'O'?\", \"Oxygenm, Osmium, Ozone\"),\n",
    "    (\"Which continent is the Sahara Desert located in?\", \"Asia, Africa, South America\"),\n",
    "    (\"Which artist painted the Mona Lisa?\", \"Vincent van Gogh, Leonardo da Vinci, Pablo Picasso\")\n",
    "], [\"question\", \"choices\"])\n",
    "\n",
    "data.show(truncate=False)"
   ]
  },
  {
   "cell_type": "code",
   "execution_count": 8,
   "metadata": {
    "colab": {
     "base_uri": "https://localhost:8080/"
    },
    "id": "8IX6B1rHTNwt",
    "outputId": "1cf26d0b-e3a5-41bf-b99d-3c8d11f2e126"
   },
   "outputs": [
    {
     "name": "stdout",
     "output_type": "stream",
     "text": [
      "+------------------------------------------------------------------------------------------+------------------------------------------------------------------------+------------------------------------+\n",
      "|question                                                                                  |choices                                                                 |predicted_answer                    |\n",
      "+------------------------------------------------------------------------------------------+------------------------------------------------------------------------+------------------------------------+\n",
      "|In Italy, pizza served in formal settings, such as at a restaurant, is presented unsliced.|It is eaten with a fork and a knife, It is eaten while held in the hand.| It is eaten while held in the hand.|\n",
      "|The Eiffel Tower is located in which country?                                             |Germany, France, Italy                                                  |Germany                             |\n",
      "|Which animal is known as the king of the jungle?                                          |Lion, Elephant, Tiger, Leopard                                          | Elephant                           |\n",
      "|Water boils at what temperature?                                                          |90°C, 120°C, 100°C                                                      | 120°C                              |\n",
      "|Which planet is known as the Red Planet?                                                  |Jupiter, Mars, Venus                                                    | Mars                               |\n",
      "|Which language is primarily spoken in Brazil?                                             |Spanish, Portuguese, English                                            | Portuguese                         |\n",
      "|The Great Wall of China was built to protect against invasions from which group?          |The Greeks, The Romans, The Mongols, The Persians                       |The Greeks                          |\n",
      "|Which chemical element has the symbol 'O'?                                                |Oxygenm, Osmium, Ozone                                                  | Ozone                              |\n",
      "|Which continent is the Sahara Desert located in?                                          |Asia, Africa, South America                                             | South America                      |\n",
      "|Which artist painted the Mona Lisa?                                                       |Vincent van Gogh, Leonardo da Vinci, Pablo Picasso                      | Leonardo da Vinci                  |\n",
      "+------------------------------------------------------------------------------------------+------------------------------------------------------------------------+------------------------------------+\n",
      "\n"
     ]
    }
   ],
   "source": [
    "from sparknlp.base import MultiDocumentAssembler\n",
    "from sparknlp.annotator import RoBertaForMultipleChoice\n",
    "from pyspark.ml import Pipeline\n",
    "\n",
    "document_assembler = MultiDocumentAssembler() \\\n",
    "    .setInputCols([\"question\", \"choices\"]) \\\n",
    "    .setOutputCols([\"document_question\", \"document_choices\"])\n",
    "\n",
    "roberta_model = RoBertaForMultipleChoice() \\\n",
    "    .load(f\"./{MODEL_NAME}_spark_nlp_onnx\") \\\n",
    "    .setInputCols([\"document_question\", \"document_choices\"]) \\\n",
    "    .setOutputCol(\"answer\") \\\n",
    "    .setBatchSize(4)\n",
    "\n",
    "pipeline = Pipeline(stages=[\n",
    "    document_assembler,\n",
    "    roberta_model\n",
    "])\n",
    "\n",
    "model = pipeline.fit(data)\n",
    "results = model.transform(data)\n",
    "\n",
    "results.selectExpr(\"question\", \"choices\", \"answer.result[0] as predicted_answer\").show(truncate=False)"
   ]
  }
 ],
 "metadata": {
  "accelerator": "GPU",
  "colab": {
   "gpuType": "T4",
   "machine_shape": "hm",
   "provenance": []
  },
  "kernelspec": {
   "display_name": "Python 3 (ipykernel)",
   "language": "python",
   "name": "python3"
  },
  "language_info": {
   "codemirror_mode": {
    "name": "ipython",
    "version": 3
   },
   "file_extension": ".py",
   "mimetype": "text/x-python",
   "name": "python",
   "nbconvert_exporter": "python",
   "pygments_lexer": "ipython3",
   "version": "3.10.12"
  }
 },
 "nbformat": 4,
 "nbformat_minor": 0
}
