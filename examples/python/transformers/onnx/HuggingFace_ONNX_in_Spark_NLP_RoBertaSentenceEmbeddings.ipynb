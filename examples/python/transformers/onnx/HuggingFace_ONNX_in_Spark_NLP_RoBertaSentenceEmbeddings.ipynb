{
  "cells": [
    {
      "cell_type": "markdown",
      "metadata": {
        "id": "yqZC6rH83afM"
      },
      "source": [
        "![JohnSnowLabs](https://sparknlp.org/assets/images/logo.png)\n",
        "\n",
        "[![Open In Colab](https://colab.research.google.com/assets/colab-badge.svg)](https://colab.research.google.com/github/JohnSnowLabs/spark-nlp/blob/master/examples/python/transformers/HuggingFace_ONNX_in_Spark_NLP_RoBertaSentenceEmbeddings.ipynb)"
      ]
    },
    {
      "cell_type": "markdown",
      "metadata": {
        "id": "_8feCb2R3afP"
      },
      "source": [
        "## Import RoBertaSentenceEmbeddings models from HuggingFace 🤗  into Spark NLP 🚀\n",
        "\n",
        "Let's keep in mind a few things before we start 😊\n",
        "\n",
        "- This feature is only in `Spark NLP 3.1.x` and after. So please make sure you have upgraded to the latest Spark NLP release\n",
        "- You can import models for RoBertaSentenceEmbeddings from HuggingFace but they have to be compatible with `Onnx` and they have to be in `Fill Mask` category. Meaning, you cannot use RoBertaSentenceEmbeddings models trained/fine-tuned on a specific task such as token/sequence classification."
      ]
    },
    {
      "cell_type": "markdown",
      "metadata": {
        "id": "lwxhdFrD3afQ"
      },
      "source": [
        "## Export and Save HuggingFace model"
      ]
    },
    {
      "cell_type": "markdown",
      "metadata": {
        "id": "bj8gLaZo3afR"
      },
      "source": [
        "- Let's install `transformers` package with the `onnx` extension and it's dependencies. You don't need `onnx` to be installed for Spark NLP, however, we need it to load and save models from HuggingFace.\n",
        "- We lock `transformers` on version `4.52.4`. This doesn't mean it won't work with the future releases, but we wanted you to know which versions have been tested successfully."
      ]
    },
    {
      "cell_type": "code",
      "execution_count": null,
      "metadata": {
        "colab": {
          "base_uri": "https://localhost:8080/"
        },
        "id": "9LFuMcZ23afS",
        "outputId": "92abb05b-97c3-47eb-84e0-dac0c07c094f"
      },
      "outputs": [],
      "source": [
        "!pip install -q --upgrade transformers[onnx]==4.52.4 optimum onnx"
      ]
    },
    {
      "cell_type": "markdown",
      "metadata": {
        "id": "8AjMwcuB3afU"
      },
      "source": [
        "- HuggingFace has an extension called Optimum which offers specialized model inference, including ONNX. We can use this to import and export ONNX models with `from_pretrained` and `save_pretrained`.\n",
        "- We'll use [FacebookAI/roberta-base](https://huggingface.co/FacebookAI/roberta-base) model from HuggingFace as an example\n",
        "- In addition to the RoBERTa model, we also need to save the tokenizer. This is the same for every model, these are assets (saved in `/assets`) needed for tokenization inside Spark NLP."
      ]
    },
    {
      "cell_type": "code",
      "execution_count": 2,
      "metadata": {
        "colab": {
          "base_uri": "https://localhost:8080/",
          "height": 435,
          "referenced_widgets": [
            "de6a2a5f7a4a43a8b1dd1a5014921a76",
            "77de770a5ec74c61971d3f7961d745fa",
            "ba8d5b70259a415c85d7957ce6b2f229",
            "1256a984db7f44239f4bd8592d9d5a1b",
            "e80a308454234e2fb8432518278193b9",
            "3887c29c0c8c43e380d109200c1114e6",
            "1eefefa8f895485d84089e01a42b9aa8",
            "324b0e578f884f5ba0781a462146f26b",
            "10409e75c7bf4440b2bf05a11bad8d53",
            "776184f1f18b46cd90db6b052e841631",
            "8d14c76888eb478eaa41a4e9c21843fc",
            "063145f96c73413bbfeec7ba0f8bdb52",
            "79dabc6d42a743e2888181e831e6c872",
            "ed1b280d712b455e8f630a591ff2473c",
            "6f4001aa87aa4b2a8b10787480de1318",
            "eafe69985b8e421db7f11b3ac3cda4a8",
            "c401425a19954b2dbc91862cd406a5d0",
            "9e655e4a96df4bae8098126e06f66d81",
            "130e475c00214425a55618470c1113e9",
            "8815827e8e75467281d37db397793f9b",
            "d2ea049c607e44fea74a56dc3020c283",
            "c96d3278ce2141a0ae6244c8d1b21ece",
            "d18e28227cf5438fb63871fedba265ed",
            "5fc3ad2c4af24b9bb55707946456cca6",
            "20921ef4cfa34578826a537691697b49",
            "4133963776f14ddda547ea317e02f3ba",
            "ac73696626f2442c87d04f567b6c3c2f",
            "143b4686d25f492194a6a66bf14d6888",
            "d0d242e1b4654b4a95cf271e885132e9",
            "07e0861cfd2744b8b0ccf47eef84c690",
            "3ed5541ff43a4e71a4377e0a4a5ede2c",
            "824f2ac64e7641559463bc74438dda4f",
            "d7fae0a9f7b042cfba9b048dc012fbb3",
            "b83d6ba2cbfa4ff2bfec95bd80166b5a",
            "dffb761d75074e8897f9e08039e2204a",
            "b26807dc0fb14cd6b26a60d08131755e",
            "8a49e30a2300442bab2c9c726b17d67b",
            "c348ad27303f4a41affbb5c6ebf28207",
            "629d7cae94a74cb6975cdcb4e77bb04e",
            "77922a7fdf89407f8b85b1d689d14633",
            "605c6b7be7bd43d18a2829f44ad746b8",
            "e426337abeca4bf2b942a06a7f09e403",
            "b0b6eba141374145b66cf67540192edc",
            "ad1fc404ff2a45c8bec5aa5b0b69347f",
            "6e5a7f1db5e94c8b966cf4123efc87b0",
            "ccf76e229047495fbf338d35ffa1c6e3",
            "306934b3a9114b5b85f8f1d1c4ffddad",
            "5f864a970ff34ad99ea3e1180e865459",
            "217a63f559314e7797c228fcec4966a2",
            "25f9e8c242ac4cd481ef84107e483a30",
            "61bce849d2a34ab4ba3e553c7cb6ba4a",
            "bf6d976d2a8a44a5a171a40a21d65e42",
            "25dcc625964f4788941bc80d40661414",
            "f967232faef449cea87f74e18994722e",
            "f899d6ecc0884679a3bf78e502498274",
            "0e69128028904a45acdd1875b292b0be",
            "71f2e9b9231041929935b62bac0b5bab",
            "63e6d418f6ba4483b315a42aa8906d37",
            "72519df6a05b409e938f322a4c569a5f",
            "9a5129c684c4438ba5ef360238ec6af4",
            "d5eb8f03ed2d4df9bfb18d01a345a586",
            "0ced6c39d9da4a07ad9468db768d6c76",
            "7e595b65326c4bb4ba6b2cc36a8f5ced",
            "2b7c197e5ff7405aaafbf29d347fe332",
            "ef4375f8607946e29fb27d6ff6f3aed1",
            "a1d36ebb83bf4d6f8cd6bf26c732e8e7"
          ]
        },
        "id": "__H4F9zd3afV",
        "outputId": "becb9e81-d913-465f-a566-61c7ba55ab85"
      },
      "outputs": [
        {
          "name": "stderr",
          "output_type": "stream",
          "text": [
            "/usr/local/lib/python3.11/dist-packages/huggingface_hub/utils/_auth.py:94: UserWarning: \n",
            "The secret `HF_TOKEN` does not exist in your Colab secrets.\n",
            "To authenticate with the Hugging Face Hub, create a token in your settings tab (https://huggingface.co/settings/tokens), set it as secret in your Google Colab and restart your session.\n",
            "You will be able to reuse this secret in all of your notebooks.\n",
            "Please note that authentication is recommended but still optional to access public models or datasets.\n",
            "  warnings.warn(\n"
          ]
        },
        {
          "data": {
            "application/vnd.jupyter.widget-view+json": {
              "model_id": "de6a2a5f7a4a43a8b1dd1a5014921a76",
              "version_major": 2,
              "version_minor": 0
            },
            "text/plain": [
              "config.json:   0%|          | 0.00/481 [00:00<?, ?B/s]"
            ]
          },
          "metadata": {},
          "output_type": "display_data"
        },
        {
          "data": {
            "application/vnd.jupyter.widget-view+json": {
              "model_id": "063145f96c73413bbfeec7ba0f8bdb52",
              "version_major": 2,
              "version_minor": 0
            },
            "text/plain": [
              "model.safetensors:   0%|          | 0.00/499M [00:00<?, ?B/s]"
            ]
          },
          "metadata": {},
          "output_type": "display_data"
        },
        {
          "name": "stderr",
          "output_type": "stream",
          "text": [
            "Some weights of RobertaModel were not initialized from the model checkpoint at FacebookAI/roberta-base and are newly initialized: ['pooler.dense.bias', 'pooler.dense.weight']\n",
            "You should probably TRAIN this model on a down-stream task to be able to use it for predictions and inference.\n"
          ]
        },
        {
          "data": {
            "application/vnd.jupyter.widget-view+json": {
              "model_id": "d18e28227cf5438fb63871fedba265ed",
              "version_major": 2,
              "version_minor": 0
            },
            "text/plain": [
              "tokenizer_config.json:   0%|          | 0.00/25.0 [00:00<?, ?B/s]"
            ]
          },
          "metadata": {},
          "output_type": "display_data"
        },
        {
          "data": {
            "application/vnd.jupyter.widget-view+json": {
              "model_id": "b83d6ba2cbfa4ff2bfec95bd80166b5a",
              "version_major": 2,
              "version_minor": 0
            },
            "text/plain": [
              "vocab.json:   0%|          | 0.00/899k [00:00<?, ?B/s]"
            ]
          },
          "metadata": {},
          "output_type": "display_data"
        },
        {
          "data": {
            "application/vnd.jupyter.widget-view+json": {
              "model_id": "6e5a7f1db5e94c8b966cf4123efc87b0",
              "version_major": 2,
              "version_minor": 0
            },
            "text/plain": [
              "merges.txt:   0%|          | 0.00/456k [00:00<?, ?B/s]"
            ]
          },
          "metadata": {},
          "output_type": "display_data"
        },
        {
          "data": {
            "application/vnd.jupyter.widget-view+json": {
              "model_id": "0e69128028904a45acdd1875b292b0be",
              "version_major": 2,
              "version_minor": 0
            },
            "text/plain": [
              "tokenizer.json:   0%|          | 0.00/1.36M [00:00<?, ?B/s]"
            ]
          },
          "metadata": {},
          "output_type": "display_data"
        },
        {
          "data": {
            "text/plain": [
              "('onnx_models/FacebookAI/roberta-base/tokenizer_config.json',\n",
              " 'onnx_models/FacebookAI/roberta-base/special_tokens_map.json',\n",
              " 'onnx_models/FacebookAI/roberta-base/vocab.json',\n",
              " 'onnx_models/FacebookAI/roberta-base/merges.txt',\n",
              " 'onnx_models/FacebookAI/roberta-base/added_tokens.json')"
            ]
          },
          "execution_count": 2,
          "metadata": {},
          "output_type": "execute_result"
        }
      ],
      "source": [
        "from transformers import RobertaTokenizer\n",
        "from optimum.onnxruntime import ORTModelForFeatureExtraction\n",
        "\n",
        "MODEL_NAME = \"FacebookAI/roberta-base\"\n",
        "EXPORT_PATH = f\"onnx_models/{MODEL_NAME}\"\n",
        "\n",
        "ort_model = ORTModelForFeatureExtraction.from_pretrained(MODEL_NAME, export=True)\n",
        "ort_model.save_pretrained(EXPORT_PATH)\n",
        "\n",
        "tokenizer = RobertaTokenizer.from_pretrained(MODEL_NAME)\n",
        "tokenizer.save_pretrained(EXPORT_PATH)"
      ]
    },
    {
      "cell_type": "markdown",
      "metadata": {
        "id": "CvKbuiiP3afX"
      },
      "source": [
        "Let's have a look inside these two directories and see what we are dealing with:"
      ]
    },
    {
      "cell_type": "code",
      "execution_count": 3,
      "metadata": {
        "colab": {
          "base_uri": "https://localhost:8080/"
        },
        "id": "2E3hurXy3afY",
        "outputId": "e26827be-6d49-49e1-9ed2-4bb9121cb1dc"
      },
      "outputs": [
        {
          "name": "stdout",
          "output_type": "stream",
          "text": [
            "total 486304\n",
            "-rw-r--r-- 1 root root       609 Jun 16 20:58 config.json\n",
            "-rw-r--r-- 1 root root    456318 Jun 16 20:58 merges.txt\n",
            "-rw-r--r-- 1 root root 496500406 Jun 16 20:58 model.onnx\n",
            "-rw-r--r-- 1 root root       958 Jun 16 20:58 special_tokens_map.json\n",
            "-rw-r--r-- 1 root root      1222 Jun 16 20:58 tokenizer_config.json\n",
            "-rw-r--r-- 1 root root    999355 Jun 16 20:58 vocab.json\n"
          ]
        }
      ],
      "source": [
        "!ls -l onnx_models/{MODEL_NAME}"
      ]
    },
    {
      "cell_type": "markdown",
      "metadata": {
        "id": "vVygxQaO0EBT"
      },
      "source": [
        "- We need to move `vocab.txt` and `merges.txt` from the tokenizer into an `assets` folder, which is where Spark NLP expects to find them. However, before doing that, we first need to convert Hugging Face’s `vocab.json` into a plain `vocab.txt` format, as Spark NLP does not support the JSON format.\n",
        "- Additionally, we need to extract the `labels` and their corresponding `ids` from the model's config. This mapping will be saved as `labels.txt` inside the same `assets` folder."
      ]
    },
    {
      "cell_type": "code",
      "execution_count": 4,
      "metadata": {
        "id": "9_WihTU73afc"
      },
      "outputs": [],
      "source": [
        "import json\n",
        "\n",
        "!mkdir -p {EXPORT_PATH}/assets && mv {EXPORT_PATH}/merges.txt {EXPORT_PATH}/assets/\n",
        "\n",
        "with open(f\"{EXPORT_PATH}/vocab.json\") as f, open(f\"{EXPORT_PATH}/assets/vocab.txt\", \"w\") as out:\n",
        "    out.write(\"\\n\".join(json.load(f)))\n",
        "\n",
        "with open(f\"{EXPORT_PATH}/assets/labels.txt\", \"w\") as f:\n",
        "    f.write(\"\\n\".join(ort_model.config.id2label[k] for k in sorted(ort_model.config.id2label)))"
      ]
    },
    {
      "cell_type": "markdown",
      "metadata": {
        "id": "oSrYzPb-3ST7"
      },
      "source": [
        "## Import and Save RoBertaSentenceEmbeddings in Spark NLP\n",
        "\n",
        "- Install and set up Spark NLP in Google Colab\n",
        "- This example uses specific versions of `pyspark` and `spark-nlp` that have been tested with the transformer model to ensure everything runs smoothly."
      ]
    },
    {
      "cell_type": "code",
      "execution_count": 5,
      "metadata": {
        "colab": {
          "base_uri": "https://localhost:8080/"
        },
        "id": "TPsUE4cX3ST8",
        "outputId": "13743f98-46f8-4970-ef5d-f1b00cf911d2"
      },
      "outputs": [
        {
          "name": "stdout",
          "output_type": "stream",
          "text": [
            "\u001b[2K     \u001b[90m━━━━━━━━━━━━━━━━━━━━━━━━━━━━━━━━━━━━━━━\u001b[0m \u001b[32m317.3/317.3 MB\u001b[0m \u001b[31m5.0 MB/s\u001b[0m eta \u001b[36m0:00:00\u001b[0m\n",
            "\u001b[?25h  Preparing metadata (setup.py) ... \u001b[?25l\u001b[?25hdone\n",
            "\u001b[2K   \u001b[90m━━━━━━━━━━━━━━━━━━━━━━━━━━━━━━━━━━━━━━━━\u001b[0m \u001b[32m635.7/635.7 kB\u001b[0m \u001b[31m20.0 MB/s\u001b[0m eta \u001b[36m0:00:00\u001b[0m\n",
            "\u001b[?25h  Building wheel for pyspark (setup.py) ... \u001b[?25l\u001b[?25hdone\n"
          ]
        }
      ],
      "source": [
        "!pip install -q pyspark==3.5.4 spark-nlp==5.5.3"
      ]
    },
    {
      "cell_type": "markdown",
      "metadata": {
        "id": "wCjIM3zd3ST_"
      },
      "source": [
        "Let's start Spark with Spark NLP included via our simple `start()` function"
      ]
    },
    {
      "cell_type": "code",
      "execution_count": 6,
      "metadata": {
        "colab": {
          "base_uri": "https://localhost:8080/"
        },
        "id": "dBlpCTyV3ST_",
        "outputId": "bef119c5-46c4-4074-8fe7-c902111427c1"
      },
      "outputs": [
        {
          "name": "stdout",
          "output_type": "stream",
          "text": [
            "Spark NLP version:  5.5.3\n",
            "Apache Spark version:  3.5.4\n"
          ]
        }
      ],
      "source": [
        "import sparknlp\n",
        "\n",
        "spark = sparknlp.start()\n",
        "\n",
        "print(\"Spark NLP version: \", sparknlp.version())\n",
        "print(\"Apache Spark version: \", spark.version)"
      ]
    },
    {
      "cell_type": "markdown",
      "metadata": {
        "id": "6wRcYV6N3SUA"
      },
      "source": [
        "- Let's use `loadSavedModel` functon in `RoBertaSentenceEmbeddings` which allows us to load the ONNX model\n",
        "- Most params will be set automatically. They can also be set later after loading the model in `RoBertaSentenceEmbeddings` during runtime, so don't worry about setting them now\n",
        "- `loadSavedModel` accepts two params, first is the path to the exported model. The second is the SparkSession that is `spark` variable we previously started via `sparknlp.start()`\n",
        "- `setStorageRef` is very important. When you are training a task like NER or any Text Classification, we use this reference to bound the trained model to this specific embeddings so you won't load a different embeddings by mistake and see terrible results 😊\n",
        "- It's up to you what you put in `setStorageRef` but it cannot be changed later on. We usually use the name of the model to be clear, but you can get creative if you want!\n",
        "- The `dimension` param is is purely cosmetic and won't change anything. It's mostly for you to know later via `.getDimension` what is the dimension of your model. So set this accordingly.\n",
        "- NOTE: `loadSavedModel` accepts local paths in addition to distributed file systems such as `HDFS`, `S3`, `DBFS`, etc. This feature was introduced in Spark NLP 4.2.2 release. Keep in mind the best and recommended way to move/share/reuse Spark NLP models is to use `write.save` so you can use `.load()` from any file systems natively.st and recommended way to move/share/reuse Spark NLP models is to use `write.save` so you can use `.load()` from any file systems natively."
      ]
    },
    {
      "cell_type": "code",
      "execution_count": 7,
      "metadata": {
        "id": "lAZqOIZ03SUB"
      },
      "outputs": [],
      "source": [
        "from sparknlp.annotator import RoBertaSentenceEmbeddings\n",
        "\n",
        "roberta = RoBertaSentenceEmbeddings.loadSavedModel(f\"onnx_models/{MODEL_NAME}\", spark)\\\n",
        "    .setInputCols([\"sentence\"])\\\n",
        "    .setOutputCol(\"roberta\")\\\n",
        "    .setCaseSensitive(True)"
      ]
    },
    {
      "cell_type": "markdown",
      "metadata": {
        "id": "PAKYu0WK3SUB"
      },
      "source": [
        "- Let's save it on disk so it is easier to be moved around and also be used later via `.load` function"
      ]
    },
    {
      "cell_type": "code",
      "execution_count": 8,
      "metadata": {
        "id": "5_4pVa5Z3SUC"
      },
      "outputs": [],
      "source": [
        "roberta.write().overwrite().save(f\"{MODEL_NAME}_spark_nlp\")"
      ]
    },
    {
      "cell_type": "markdown",
      "metadata": {
        "id": "oVpKUSWI3SUD"
      },
      "source": [
        "Let's clean up stuff we don't need anymore"
      ]
    },
    {
      "cell_type": "code",
      "execution_count": 9,
      "metadata": {
        "id": "rYh9UTQX3SUD"
      },
      "outputs": [],
      "source": [
        "!rm -rf {EXPORT_PATH}"
      ]
    },
    {
      "cell_type": "markdown",
      "metadata": {
        "id": "2WEtJmNO3SUE"
      },
      "source": [
        "Awesome  😎 !\n",
        "\n",
        "This is your ONNX RoBertaSentenceEmbeddings model from HuggingFace 🤗  loaded and saved by Spark NLP 🚀"
      ]
    },
    {
      "cell_type": "code",
      "execution_count": 10,
      "metadata": {
        "colab": {
          "base_uri": "https://localhost:8080/"
        },
        "id": "QSdgCy9J3SUE",
        "outputId": "f46925e6-8d4c-4c15-916e-9a835a71f814"
      },
      "outputs": [
        {
          "name": "stdout",
          "output_type": "stream",
          "text": [
            "total 484952\n",
            "drwxr-xr-x 4 root root      4096 Jun 16 21:04 fields\n",
            "drwxr-xr-x 2 root root      4096 Jun 16 21:04 metadata\n",
            "-rw-r--r-- 1 root root 496576300 Jun 16 21:04 roberta_onnx\n"
          ]
        }
      ],
      "source": [
        "! ls -l {MODEL_NAME}_spark_nlp"
      ]
    },
    {
      "cell_type": "markdown",
      "metadata": {
        "id": "txpZyLO73SUF"
      },
      "source": [
        "Now let's see how we can use it on other machines, clusters, or any place you wish to use your new and shiny RoBertaSentenceEmbeddings model 😊"
      ]
    },
    {
      "cell_type": "code",
      "execution_count": 11,
      "metadata": {
        "colab": {
          "base_uri": "https://localhost:8080/"
        },
        "id": "A-nlnIr83SUF",
        "outputId": "12072945-0cae-46e4-f3f9-aeedca35e67e"
      },
      "outputs": [
        {
          "name": "stdout",
          "output_type": "stream",
          "text": [
            "sentence_detector_dl download started this may take some time.\n",
            "Approximate size to download 514.9 KB\n",
            "[OK!]\n",
            "+-------------+\n",
            "|   embeddings|\n",
            "+-------------+\n",
            "|-0.0064373845|\n",
            "| 1.1743068E-4|\n",
            "| 0.0012736885|\n",
            "| -0.004747964|\n",
            "| 0.0071578906|\n",
            "| -0.012505115|\n",
            "| -0.004461373|\n",
            "|  0.004919375|\n",
            "| 0.0075282366|\n",
            "| 8.4523397E-4|\n",
            "|-0.0043041506|\n",
            "|  0.011945481|\n",
            "| -0.002451635|\n",
            "|-0.0014557999|\n",
            "|  0.006214544|\n",
            "|-0.0051567056|\n",
            "|  -0.00794371|\n",
            "|-0.0021585438|\n",
            "| 0.0060420455|\n",
            "|-0.0017529879|\n",
            "+-------------+\n",
            "only showing top 20 rows\n",
            "\n"
          ]
        }
      ],
      "source": [
        "from sparknlp.base import DocumentAssembler\n",
        "from sparknlp.annotator import SentenceDetectorDLModel\n",
        "from pyspark.ml import Pipeline\n",
        "\n",
        "document_assembler = DocumentAssembler() \\\n",
        "    .setInputCol(\"text\") \\\n",
        "    .setOutputCol(\"document\")\n",
        "\n",
        "sentence_detector = SentenceDetectorDLModel.pretrained(\"sentence_detector_dl\", \"xx\") \\\n",
        "    .setInputCols([\"document\"]) \\\n",
        "    .setOutputCol(\"sentence\")\n",
        "\n",
        "embeddings = RoBertaSentenceEmbeddings.load(f\"{MODEL_NAME}_spark_nlp\") \\\n",
        "    .setInputCols([\"sentence\"]) \\\n",
        "    .setOutputCol(\"roberta\")\n",
        "\n",
        "pipeline = Pipeline(stages=[\n",
        "    document_assembler,\n",
        "    sentence_detector,\n",
        "    embeddings\n",
        "])\n",
        "\n",
        "data = spark.createDataFrame([[\n",
        "    \"William Henry Gates III (born October 28, 1955) is an American business magnate, software developer, investor, and philanthropist.\"\n",
        "]]).toDF(\"text\")\n",
        "\n",
        "model = pipeline.fit(data)\n",
        "result = model.transform(data)\n",
        "\n",
        "result.selectExpr(\"explode(roberta.embeddings[0]) as embeddings\").show()"
      ]
    },
    {
      "cell_type": "markdown",
      "metadata": {
        "id": "4VR-5Q903SUG"
      },
      "source": [
        "That's it! You can now go wild and use hundreds of RoBertaSentenceEmbeddings models from HuggingFace 🤗 in Spark NLP 🚀\n"
      ]
    }
  ],
  "metadata": {
    "colab": {
      "provenance": []
    },
    "kernelspec": {
      "display_name": "transformers",
      "language": "python",
      "name": "python3"
    },
    "language_info": {
      "codemirror_mode": {
        "name": "ipython",
        "version": 3
      },
      "file_extension": ".py",
      "mimetype": "text/x-python",
      "name": "python",
      "nbconvert_exporter": "python",
      "pygments_lexer": "ipython3"
    }
  },
  "nbformat": 4,
  "nbformat_minor": 0
}
