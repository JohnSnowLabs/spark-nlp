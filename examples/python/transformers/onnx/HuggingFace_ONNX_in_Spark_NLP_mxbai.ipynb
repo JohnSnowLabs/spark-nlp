{
  "cells": [
    {
      "cell_type": "markdown",
      "metadata": {
        "id": "8uaoXS8d-LBQ"
      },
      "source": [
        "![JohnSnowLabs](https://sparknlp.org/assets/images/logo.png)\n",
        "\n",
        "[![Open In Colab](https://colab.research.google.com/assets/colab-badge.svg)](https://colab.research.google.com/github/JohnSnowLabs/spark-nlp/blob/master/examples/python/transformers/onnx/HuggingFace_ONNX_in_Spark_NLP_mxbai.ipynb)\n",
        "\n",
        "# Import ONNX mxbai models from HuggingFace 🤗 into Spark NLP 🚀\n",
        "\n",
        "Let's keep in mind a few things before we start 😊\n",
        "\n",
        "- ONNX support was introduced in  `Spark NLP 5.0.0`, enabling high performance inference for models. Please make sure you have upgraded to the latest Spark NLP release.\n",
        "- You can import models for mxbai from HuggingFace and they have to be in `Fill Mask` category. Meaning, you cannot use mxbai models trained/fine-tuned on a specific task such as token/sequence classification."
      ]
    },
    {
      "cell_type": "markdown",
      "metadata": {
        "id": "NkxaTXf3-LBT"
      },
      "source": [
        "## Export and Save HuggingFace model"
      ]
    },
    {
      "cell_type": "markdown",
      "metadata": {
        "id": "FY9M7_Cs-LBU"
      },
      "source": [
        "- Let's install `transformers` package with the `onnx` extension and it's dependencies. You don't need `onnx` to be installed for Spark NLP, however, we need it to load and save models from HuggingFace.\n",
        "- We lock `transformers` on version `4.52.4`. This doesn't mean it won't work with the future releases, but we wanted you to know which versions have been tested successfully."
      ]
    },
    {
      "cell_type": "code",
      "execution_count": null,
      "metadata": {
        "colab": {
          "base_uri": "https://localhost:8080/"
        },
        "id": "faBcByOA-LBV",
        "outputId": "e3730a62-3d05-4b7c-cddc-249529f9d6b6"
      },
      "outputs": [],
      "source": [
        "!pip install -q --upgrade transformers[onnx]==4.52.4 optimum onnx"
      ]
    },
    {
      "cell_type": "markdown",
      "metadata": {
        "id": "m5hRR7Xl-LBW"
      },
      "source": [
        "- HuggingFace has an extension called Optimum which offers specialized model inference, including ONNX. We can use this to import and export ONNX models with `from_pretrained` and `save_pretrained`.\n",
        "- We'll use [mixedbread-ai/mxbai-embed-large-v1](https://huggingface.co/mixedbread-ai/mxbai-embed-large-v1) model from HuggingFace as an example and load it as a `ORTModelForFeatureExtraction`, representing an ONNX model.\n",
        "- In addition to the mxbai model, we also need to save the Tokenizer. This is the same for every model, these are assets (saved in `/assets`) needed for tokenization inside Spark NLP."
      ]
    },
    {
      "cell_type": "code",
      "execution_count": 2,
      "metadata": {
        "colab": {
          "base_uri": "https://localhost:8080/",
          "height": 437,
          "referenced_widgets": [
            "a780e9de29c24abe9630bb32f8429497",
            "822a962703f44aa9ad68789b9b327834",
            "5c16f7bc0ed0490585b094d82934348e",
            "90ea3926d2564912b64ef2b7616699a1",
            "81d7df9e99c9451e95b37049de50968b",
            "4dc5f07a18ab447faf073c60c5316a55",
            "71c39979516048e38081fc83d8af2474",
            "578b4d22664445e68e6e6bc014f35ba0",
            "72fd53ef9ec64abbb693c0ab3c300949",
            "80174c1d396741b2ad51af70f6f35be7",
            "8390e8810770418d95d2c8af799b694a",
            "70b645392ddb4e70ba6e19ec69711fd7",
            "1baf041fc2364018b78d3ae1f2872e6b",
            "965d206e3dae411ea8516c6edf78c1fe",
            "4d523221a6154666be72e491737d5304",
            "b10017ebc922473bb5e5ad9d28a5ee94",
            "190193134922432bae0a1f56a3738deb",
            "ae4ab4813d73441b92c6dcb22d29c200",
            "5f9edf122d3d4672bb5b95b9296cb0e3",
            "1155254c42fc453c9929a0af9cb0ba9e",
            "706d77e2ed554f7aa4a4b699b0c40f7a",
            "64e0658177df487a8c12fb530fbf5d46",
            "c49ca7b1bb2448d391b2b250bf076264",
            "7dc1d826af6343899a7d0c43502d5205",
            "f23fcda451c54a3eafe5195f123d337b",
            "8ae1203d155442f78f39e6b5a5742470",
            "cf38b0dc9d164160b29ff8e650e08866",
            "84dd6f2e6ef84034aee5c999e490a103",
            "c3f35736433241d2b0aa0baaa7d8fe84",
            "208101905d984274aa3c0612d7066342",
            "6c1a930467bd481e83997ae6c1523c20",
            "0e56bb51d04042f1958222f541b2c6b5",
            "eb28203aec914ed69cf1bc6bcb5c0685",
            "de033318b5cb4fdc8b0b5ca2adb2aeed",
            "0f0448961bd04b198bcb33486fa3bc65",
            "e390ed3bb71442b6a84d76e66b34ea0f",
            "7ac1c4919d5d46128348bdf80d45a205",
            "29ae86c450f446ef831408cd176d823d",
            "501d75b79fe44cf7b2850af1d8345059",
            "3938d0403e74414a8867b0a6ed62e990",
            "d7f97f4bc4b74f19b8c63c792f2ae41f",
            "08c637c8793f45698ba788bf839b5509",
            "ac0ea3455f8945569d89e5e4a3207b63",
            "0402d04822884bd4ae791dd753864e75",
            "0677ec7e59184a6ea6bfe2dac91104c3",
            "a2d0e829a0ff43bd9d52de05f16689d5",
            "1c5c3491feed4496972323f5cbfebdda",
            "71c1ea190c474f63b2453c5d1b758cfc",
            "479ce7fd2462499fa3c34324c83a0886",
            "9a2c9847603f4f51abe2ff7aa1ad16e4",
            "e583441991c94dbbac59fb7e92ea848d",
            "5a629e28b06d4ead8d994c8e9eafe1ac",
            "391bb152d0c84b11a9889d847d14086e",
            "8f7acafc7aba4622b7fa9a958f1e852b",
            "f876548ce6c545f490e95f4aff0ceaf0",
            "c8e977d56def43ffa885b18bb8ce0a1c",
            "ffc5cd3f7d014324b26507e6ce8ff9fc",
            "363c513063104f5297ad0bc1f94059de",
            "711d2eaf49eb45af8fd2fa91f0c39c01",
            "9e85162937fc44a0a32832eba068d097",
            "f2f496c4273042a2aae9c7e1aac00def",
            "2d020abe8a2f40c0b0aaef652299d897",
            "d3056e3e6c444220808beb640ae9aff3",
            "6bbb6da304c7496597e2ab2b6ad6725d",
            "c6af136288df4061827acaea7d03b93b",
            "5386c5d583a74dddbd07e436037f970b"
          ]
        },
        "id": "bk4lXGUIfYS6",
        "outputId": "0b20d4fd-8d26-4ad5-f37b-313c04e8369d"
      },
      "outputs": [
        {
          "name": "stderr",
          "output_type": "stream",
          "text": [
            "/usr/local/lib/python3.11/dist-packages/huggingface_hub/utils/_auth.py:94: UserWarning: \n",
            "The secret `HF_TOKEN` does not exist in your Colab secrets.\n",
            "To authenticate with the Hugging Face Hub, create a token in your settings tab (https://huggingface.co/settings/tokens), set it as secret in your Google Colab and restart your session.\n",
            "You will be able to reuse this secret in all of your notebooks.\n",
            "Please note that authentication is recommended but still optional to access public models or datasets.\n",
            "  warnings.warn(\n"
          ]
        },
        {
          "data": {
            "application/vnd.jupyter.widget-view+json": {
              "model_id": "a780e9de29c24abe9630bb32f8429497",
              "version_major": 2,
              "version_minor": 0
            },
            "text/plain": [
              "config.json:   0%|          | 0.00/677 [00:00<?, ?B/s]"
            ]
          },
          "metadata": {},
          "output_type": "display_data"
        },
        {
          "name": "stderr",
          "output_type": "stream",
          "text": [
            "Too many ONNX model files were found in onnx/model.onnx ,onnx/model_fp16.onnx ,onnx/model_quantized.onnx. specify which one to load by using the `file_name` and/or the `subfolder` arguments. Loading the file model.onnx in the subfolder onnx.\n"
          ]
        },
        {
          "data": {
            "application/vnd.jupyter.widget-view+json": {
              "model_id": "70b645392ddb4e70ba6e19ec69711fd7",
              "version_major": 2,
              "version_minor": 0
            },
            "text/plain": [
              "onnx/model.onnx:   0%|          | 0.00/1.34G [00:00<?, ?B/s]"
            ]
          },
          "metadata": {},
          "output_type": "display_data"
        },
        {
          "data": {
            "application/vnd.jupyter.widget-view+json": {
              "model_id": "c49ca7b1bb2448d391b2b250bf076264",
              "version_major": 2,
              "version_minor": 0
            },
            "text/plain": [
              "tokenizer_config.json:   0%|          | 0.00/1.24k [00:00<?, ?B/s]"
            ]
          },
          "metadata": {},
          "output_type": "display_data"
        },
        {
          "data": {
            "application/vnd.jupyter.widget-view+json": {
              "model_id": "de033318b5cb4fdc8b0b5ca2adb2aeed",
              "version_major": 2,
              "version_minor": 0
            },
            "text/plain": [
              "vocab.txt:   0%|          | 0.00/232k [00:00<?, ?B/s]"
            ]
          },
          "metadata": {},
          "output_type": "display_data"
        },
        {
          "data": {
            "application/vnd.jupyter.widget-view+json": {
              "model_id": "0677ec7e59184a6ea6bfe2dac91104c3",
              "version_major": 2,
              "version_minor": 0
            },
            "text/plain": [
              "tokenizer.json:   0%|          | 0.00/711k [00:00<?, ?B/s]"
            ]
          },
          "metadata": {},
          "output_type": "display_data"
        },
        {
          "data": {
            "application/vnd.jupyter.widget-view+json": {
              "model_id": "c8e977d56def43ffa885b18bb8ce0a1c",
              "version_major": 2,
              "version_minor": 0
            },
            "text/plain": [
              "special_tokens_map.json:   0%|          | 0.00/695 [00:00<?, ?B/s]"
            ]
          },
          "metadata": {},
          "output_type": "display_data"
        },
        {
          "data": {
            "text/plain": [
              "('onnx_models/mixedbread-ai/mxbai-embed-large-v1/tokenizer_config.json',\n",
              " 'onnx_models/mixedbread-ai/mxbai-embed-large-v1/special_tokens_map.json',\n",
              " 'onnx_models/mixedbread-ai/mxbai-embed-large-v1/vocab.txt',\n",
              " 'onnx_models/mixedbread-ai/mxbai-embed-large-v1/added_tokens.json',\n",
              " 'onnx_models/mixedbread-ai/mxbai-embed-large-v1/tokenizer.json')"
            ]
          },
          "execution_count": 2,
          "metadata": {},
          "output_type": "execute_result"
        }
      ],
      "source": [
        "from transformers import AutoTokenizer\n",
        "from optimum.onnxruntime import ORTModelForFeatureExtraction\n",
        "\n",
        "MODEL_NAME = \"mixedbread-ai/mxbai-embed-large-v1\"\n",
        "EXPORT_PATH = f\"onnx_models/{MODEL_NAME}\"\n",
        "\n",
        "ort_model = ORTModelForFeatureExtraction.from_pretrained(MODEL_NAME)\n",
        "ort_model.save_pretrained(EXPORT_PATH)\n",
        "\n",
        "tokenizer = AutoTokenizer.from_pretrained(MODEL_NAME, trust_remote_code=True)\n",
        "tokenizer.save_pretrained(EXPORT_PATH)"
      ]
    },
    {
      "cell_type": "markdown",
      "metadata": {
        "id": "7dolgHbD-LBX"
      },
      "source": [
        "Let's have a look inside these two directories and see what we are dealing with:"
      ]
    },
    {
      "cell_type": "code",
      "execution_count": 3,
      "metadata": {
        "colab": {
          "base_uri": "https://localhost:8080/"
        },
        "id": "o2wua50w-LBY",
        "outputId": "a1355358-9d0d-4043-9242-5e2e341fa784"
      },
      "outputs": [
        {
          "name": "stdout",
          "output_type": "stream",
          "text": [
            "total 1306464\n",
            "-rw-r--r-- 1 root root        620 Jun 16 03:17 config.json\n",
            "-rw-r--r-- 1 root root 1336854282 Jun 16 03:17 model.onnx\n",
            "-rw-r--r-- 1 root root        695 Jun 16 03:17 special_tokens_map.json\n",
            "-rw-r--r-- 1 root root       1272 Jun 16 03:17 tokenizer_config.json\n",
            "-rw-r--r-- 1 root root     711396 Jun 16 03:17 tokenizer.json\n",
            "-rw-r--r-- 1 root root     231508 Jun 16 03:17 vocab.txt\n"
          ]
        }
      ],
      "source": [
        "!ls -l {EXPORT_PATH}"
      ]
    },
    {
      "cell_type": "markdown",
      "metadata": {
        "id": "2UrzmcK2JWab"
      },
      "source": [
        "- Now we need to move `vocab.txt` from the tokenizer into an `assets` folder, which is where Spark NLP expects to find it."
      ]
    },
    {
      "cell_type": "code",
      "execution_count": 4,
      "metadata": {
        "id": "TnPVZEOiJRCR"
      },
      "outputs": [],
      "source": [
        "!mkdir -p {EXPORT_PATH}/assets && mv {EXPORT_PATH}/vocab.txt {EXPORT_PATH}/assets/"
      ]
    },
    {
      "cell_type": "code",
      "execution_count": 5,
      "metadata": {
        "colab": {
          "base_uri": "https://localhost:8080/"
        },
        "id": "97ScuGul-LBY",
        "outputId": "3e7db0f1-33eb-4874-c056-d89744bf7bb3"
      },
      "outputs": [
        {
          "name": "stdout",
          "output_type": "stream",
          "text": [
            "total 228\n",
            "-rw-r--r-- 1 root root 231508 Jun 16 03:17 vocab.txt\n"
          ]
        }
      ],
      "source": [
        "!ls -l {EXPORT_PATH}/assets"
      ]
    },
    {
      "cell_type": "markdown",
      "metadata": {
        "id": "qMmRh4SqKhon"
      },
      "source": [
        "Voila! We have our `vocab.txt` inside assets directory"
      ]
    },
    {
      "cell_type": "markdown",
      "metadata": {
        "id": "CFLnQ4vm-LBZ"
      },
      "source": [
        "## Import and Save mxbai in Spark NLP\n",
        "\n",
        "- **Install and set up Spark NLP in Google Colab**\n",
        "  - This example uses specific versions of `pyspark` and `spark-nlp` that have been tested with the transformer model to ensure everything runs smoothly."
      ]
    },
    {
      "cell_type": "code",
      "execution_count": 6,
      "metadata": {
        "colab": {
          "base_uri": "https://localhost:8080/"
        },
        "id": "dxCEAixU-LBZ",
        "outputId": "b2faf6a4-5d8f-4dc0-c3b9-328268de80fb"
      },
      "outputs": [
        {
          "name": "stdout",
          "output_type": "stream",
          "text": [
            "\u001b[2K     \u001b[90m━━━━━━━━━━━━━━━━━━━━━━━━━━━━━━━━━━━━━━━\u001b[0m \u001b[32m317.3/317.3 MB\u001b[0m \u001b[31m4.9 MB/s\u001b[0m eta \u001b[36m0:00:00\u001b[0m\n",
            "\u001b[?25h  Preparing metadata (setup.py) ... \u001b[?25l\u001b[?25hdone\n",
            "\u001b[2K   \u001b[90m━━━━━━━━━━━━━━━━━━━━━━━━━━━━━━━━━━━━━━━━\u001b[0m \u001b[32m635.7/635.7 kB\u001b[0m \u001b[31m42.5 MB/s\u001b[0m eta \u001b[36m0:00:00\u001b[0m\n",
            "\u001b[?25h  Building wheel for pyspark (setup.py) ... \u001b[?25l\u001b[?25hdone\n"
          ]
        }
      ],
      "source": [
        "!pip install -q pyspark==3.5.4 spark-nlp==5.5.3"
      ]
    },
    {
      "cell_type": "markdown",
      "metadata": {
        "id": "QyeZdo61-LBa"
      },
      "source": [
        "Let's start Spark with Spark NLP included via our simple `start()` function"
      ]
    },
    {
      "cell_type": "code",
      "execution_count": 7,
      "metadata": {
        "colab": {
          "base_uri": "https://localhost:8080/"
        },
        "id": "tWzqJOSe-LBb",
        "outputId": "fc2d1a6c-18a9-4397-b29d-6667a1d444fb"
      },
      "outputs": [
        {
          "name": "stdout",
          "output_type": "stream",
          "text": [
            "Spark NLP version:  5.5.3\n",
            "Apache Spark version:  3.5.4\n"
          ]
        }
      ],
      "source": [
        "import sparknlp\n",
        "\n",
        "spark = sparknlp.start()\n",
        "\n",
        "print(\"Spark NLP version: \", sparknlp.version())\n",
        "print(\"Apache Spark version: \", spark.version)"
      ]
    },
    {
      "cell_type": "markdown",
      "metadata": {
        "id": "5X61x34a-LBb"
      },
      "source": [
        "- Let's use `loadSavedModel` functon in `mxbaiEmbeddings` which allows us to load the ONNX model\n",
        "- Most params will be set automatically. They can also be set later after loading the model in `mxbaiEmbeddings` during runtime, so don't worry about setting them now\n",
        "- `loadSavedModel` accepts two params, first is the path to the exported model. The second is the SparkSession that is `spark` variable we previously started via `sparknlp.start()`\n",
        "- `setStorageRef` is very important. When you are training a task like NER or any Text Classification, we use this reference to bound the trained model to this specific embeddings so you won't load a different embeddings by mistake and see terrible results 😊\n",
        "- It's up to you what you put in `setStorageRef` but it cannot be changed later on. We usually use the name of the model to be clear, but you can get creative if you want!\n",
        "- The `dimension` param is is purely cosmetic and won't change anything. It's mostly for you to know later via `.getDimension` what is the dimension of your model. So set this accordingly.\n",
        "- NOTE: `loadSavedModel` accepts local paths in addition to distributed file systems such as `HDFS`, `S3`, `DBFS`, etc. This feature was introduced in Spark NLP 4.2.2 release. Keep in mind the best and recommended way to move/share/reuse Spark NLP models is to use `write.save` so you can use `.load()` from any file systems natively.st and recommended way to move/share/reuse Spark NLP models is to use `write.save` so you can use `.load()` from any file systems natively.\n"
      ]
    },
    {
      "cell_type": "code",
      "execution_count": 8,
      "metadata": {
        "id": "ZfRgnm5V-LBc"
      },
      "outputs": [],
      "source": [
        "from sparknlp.annotator import MxbaiEmbeddings\n",
        "\n",
        "mxbai = MxbaiEmbeddings.loadSavedModel(f\"{EXPORT_PATH}\", spark)\\\n",
        "    .setInputCols([\"document\"])\\\n",
        "    .setOutputCol(\"mxbai\")\\\n",
        "    .setCaseSensitive(True)\\\n",
        "    .setDimension(768)"
      ]
    },
    {
      "cell_type": "markdown",
      "metadata": {
        "id": "YklsGumf-LBc"
      },
      "source": [
        "- Let's save it on disk so it is easier to be moved around and also be used later via `.load` function"
      ]
    },
    {
      "cell_type": "code",
      "execution_count": 9,
      "metadata": {
        "id": "thmPSatB-LBc"
      },
      "outputs": [],
      "source": [
        "mxbai.write().overwrite().save(f\"{MODEL_NAME}_spark_nlp\")"
      ]
    },
    {
      "cell_type": "markdown",
      "metadata": {
        "id": "F9nJj6Fs-LBc"
      },
      "source": [
        "Let's clean up stuff we don't need anymore"
      ]
    },
    {
      "cell_type": "code",
      "execution_count": 10,
      "metadata": {
        "id": "-GbJfqzE-LBc"
      },
      "outputs": [],
      "source": [
        "!rm -rf {EXPORT_PATH}"
      ]
    },
    {
      "cell_type": "markdown",
      "metadata": {
        "id": "CfhLgj1U-LBd"
      },
      "source": [
        "Awesome  😎 !\n",
        "\n",
        "This is your ONNX mxbai model from HuggingFace 🤗  loaded and saved by Spark NLP 🚀"
      ]
    },
    {
      "cell_type": "code",
      "execution_count": 11,
      "metadata": {
        "colab": {
          "base_uri": "https://localhost:8080/"
        },
        "id": "9irc4X-h-LBe",
        "outputId": "ee0de99b-f00c-43f7-853a-81dde3eede0d"
      },
      "outputs": [
        {
          "name": "stdout",
          "output_type": "stream",
          "text": [
            "total 1305736\n",
            "drwxr-xr-x 3 root root       4096 Jun 16 03:20 fields\n",
            "drwxr-xr-x 2 root root       4096 Jun 16 03:20 metadata\n",
            "-rw-r--r-- 1 root root 1337058406 Jun 16 03:20 Mxbai_onnx\n"
          ]
        }
      ],
      "source": [
        "! ls -l {MODEL_NAME}_spark_nlp"
      ]
    },
    {
      "cell_type": "markdown",
      "metadata": {
        "id": "q6kMLGGM-LBe"
      },
      "source": [
        "Now let's see how we can use it on other machines, clusters, or any place you wish to use your new and shiny mxbai model 😊"
      ]
    },
    {
      "cell_type": "code",
      "execution_count": 12,
      "metadata": {
        "colab": {
          "base_uri": "https://localhost:8080/"
        },
        "id": "EuxOV23j-LBf",
        "outputId": "7d71a447-561d-4a24-f67c-49740dd828df"
      },
      "outputs": [
        {
          "name": "stdout",
          "output_type": "stream",
          "text": [
            "+--------------------+\n",
            "|           embedding|\n",
            "+--------------------+\n",
            "|[0.23349075, -0.3...|\n",
            "+--------------------+\n",
            "\n"
          ]
        }
      ],
      "source": [
        "from sparknlp.base import DocumentAssembler\n",
        "from sparknlp.annotator import MxbaiEmbeddings\n",
        "from pyspark.ml import Pipeline\n",
        "\n",
        "document_assembler = DocumentAssembler()\\\n",
        "    .setInputCol(\"text\")\\\n",
        "    .setOutputCol(\"document\")\n",
        "\n",
        "mxbai_embeddings = MxbaiEmbeddings.load(f\"{MODEL_NAME}_spark_nlp\")\\\n",
        "    .setInputCols([\"document\"])\\\n",
        "    .setOutputCol(\"embeddings\")\n",
        "\n",
        "pipeline = Pipeline(stages=[\n",
        "    document_assembler,\n",
        "    mxbai_embeddings\n",
        "])\n",
        "\n",
        "data = spark.createDataFrame([\n",
        "    [\"William Henry Gates III (born October 28, 1955) is an American business magnate, software developer, investor, and philanthropist.\"]\n",
        "]).toDF(\"text\")\n",
        "\n",
        "result = pipeline.fit(data).transform(data)\n",
        "result.selectExpr(\"explode(embeddings.embeddings) as embedding\").show()"
      ]
    },
    {
      "cell_type": "markdown",
      "metadata": {
        "id": "5YWVcqLf-LBf"
      },
      "source": [
        "That's it! You can now go wild and use hundreds of mxbai models from HuggingFace 🤗 in Spark NLP 🚀\n"
      ]
    }
  ],
  "metadata": {
    "colab": {
      "provenance": []
    },
    "kernelspec": {
      "display_name": "Python 3 (ipykernel)",
      "language": "python",
      "name": "python3"
    },
    "language_info": {
      "codemirror_mode": {
        "name": "ipython",
        "version": 3
      },
      "file_extension": ".py",
      "mimetype": "text/x-python",
      "name": "python",
      "nbconvert_exporter": "python",
      "pygments_lexer": "ipython3"
    }
  },
  "nbformat": 4,
  "nbformat_minor": 0
}
