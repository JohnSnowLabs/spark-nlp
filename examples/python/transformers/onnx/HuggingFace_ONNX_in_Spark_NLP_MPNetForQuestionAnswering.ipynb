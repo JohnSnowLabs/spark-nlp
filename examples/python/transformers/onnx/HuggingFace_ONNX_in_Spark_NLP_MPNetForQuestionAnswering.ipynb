{
  "cells": [
    {
      "cell_type": "markdown",
      "metadata": {
        "id": "ViUNbV_VAtcW"
      },
      "source": [
        "![JohnSnowLabs](https://sparknlp.org/assets/images/logo.png)\n",
        "\n",
        "[![Open In Colab](https://colab.research.google.com/assets/colab-badge.svg)](https://colab.research.google.com/github/JohnSnowLabs/spark-nlp/blob/master/examples/python/transformers/onnx/HuggingFace_ONNX_in_Spark_NLP_MPNetForQuestionAnswering.ipynb)\n",
        "\n",
        "# Import ONNX MPNet models from HuggingFace 🤗 into Spark NLP 🚀\n",
        "\n",
        "Let's keep in mind a few things before we start 😊\n",
        "\n",
        "- ONNX support was introduced in `Spark NLP 5.0.0`, enabling high performance inference for models. Please make sure you have upgraded to the latest Spark NLP release.\n",
        "- The MPNetForQuestionAnswering model was introduced in `Spark NLP 5.2.4`"
      ]
    },
    {
      "cell_type": "markdown",
      "metadata": {
        "id": "QgC58_WbAtcb"
      },
      "source": [
        "## Export and Save HuggingFace model"
      ]
    },
    {
      "cell_type": "markdown",
      "metadata": {
        "id": "wMHj3t5zAtcb"
      },
      "source": [
        "- Let's install `transformers` package with the `onnx` extension and it's dependencies. You don't need `onnx` to be installed for Spark NLP, however, we need it to load and save models from HuggingFace.\n",
        "- We lock `transformers` on version `4.48.3`. This doesn't mean it won't work with the future releases, but we wanted you to know which versions have been tested successfully."
      ]
    },
    {
      "cell_type": "code",
      "execution_count": null,
      "metadata": {
        "colab": {
          "base_uri": "https://localhost:8080/"
        },
        "id": "sMBhLuxYAtcc",
        "outputId": "ba1feb78-fd45-4517-e47c-ed018075e0f5"
      },
      "outputs": [],
      "source": [
        "!pip install -q --upgrade transformers[onnx]==4.48.3 optimum onnx"
      ]
    },
    {
      "cell_type": "markdown",
      "metadata": {
        "id": "O0Hb89yqAtcd"
      },
      "source": [
        "- HuggingFace has an extension called Optimum which offers specialized model inference, including ONNX. We can use this to import and export ONNX models with `from_pretrained` and `save_pretrained`.\n",
        "- We'll use the [shaina/covid_qa_mpnet](https://huggingface.co/shaina/covid_qa_mpnet) model from HuggingFace as an example and export it.\n",
        "- In addition to the MPNet model, we also need to save the tokenizer. This is the same for every model, these are assets (saved in `/assets`) needed for tokenization inside Spark NLP."
      ]
    },
    {
      "cell_type": "code",
      "execution_count": 2,
      "metadata": {
        "colab": {
          "base_uri": "https://localhost:8080/",
          "height": 415,
          "referenced_widgets": [
            "fed00c40744e42f4b71026048aca85a6",
            "dbd0f79e2fea4feb9f1d926735decfe4",
            "b98e0a0d9d8f4056af0bd704415cf57d",
            "d6a0939b224d459fb64df18a2141aa2e",
            "c2a1f77c90524cc4b9aed1e4177e6074",
            "522d13bc8a524c3ea19c74e5874b4b50",
            "7b77682da6ef435c8758f0fc85eb26d5",
            "600f2dc4d4e34fa388f11409195facca",
            "3cd0f4a522324e9f80edf0b5d222797c",
            "b025f259efd2436bbd1136cb62b06809",
            "a633b4110ba549239939d9e86ad925a2",
            "fae93ae4961e40c298240d88deae81ea",
            "a50cd4c964304caeb5b575c93c3d78a5",
            "d38006f7818847ea8fea2d7b02af2a94",
            "4968ec0adad543feb2539571b79c4414",
            "40a6c567bc4f4df9aa4617292e9360f9",
            "a363610e7176403bb826e132b3a8e838",
            "5a977d64bf6c4409a0360cff19fcbc3d",
            "0122c13e5bec4d94b35b2bc6eb47877c",
            "53cd4930fd2340b1b43c0e9574973673",
            "768ba8bf8a7b4e97a116964280dc8d61",
            "58eeac2a3b144f88a17c4436066021ab",
            "7e616d0f3b514c86a253087fe2da47ab",
            "7e93ef2333984571968be4fe64fd28af",
            "77009e0497594cc691d77d09204e704e",
            "2503f58fe11a4f1aac670cadf8b80c1b",
            "8307e80f7b424c2b89217f4d0cf72d54",
            "c2c3d7fcae0a4eb4bd2bc094fad0b9d7",
            "61a8ceda666e4d099eb1bd13453435f0",
            "16e8ed986edd4dca9f209579105cd35a",
            "ed5dd4da433c49fe8cf5d25f3f5c7dcb",
            "14fdafa9196b413d874067263dc2acdf",
            "91565951f88a4bbdaa3f9aa5aa570067",
            "ab4ff83250504f93bb9543450d48271f",
            "873b3e2ef9cd4cae98f573d6c6347e7b",
            "df0630676d8a4f9ab4ab4b20c04f3459",
            "030bf997ea1048eb97f7441f7883adc3",
            "6c1578643a3f41bebd57d055993f6016",
            "8f58824eab77458eb6e798486428d672",
            "baac3597d8ef4f66a3ee03d271032881",
            "7b70dba551f74291b46303b81fe91a88",
            "72ab7a5d07064a318e70ed57b6ad002c",
            "14ab176e27e946ff8651d3965fd1c9ab",
            "8d4b7ef07c3242c0b490ed6635da5b93",
            "3ede2c009f1f46e5860836bf635fb38d",
            "4ed1b0f93bfd4d68bbb775d0a33f8d36",
            "1a7e943e49024995844c7d641c4861c8",
            "a5f83c57f9a6484a92c6c0effeb1d190",
            "10194d1b616b4f9cafc14ba315875702",
            "29fadd6741d2421296b93d149f1aa98e",
            "21ea035839fb42d7aac8038c8fe20b81",
            "b98bf0e627e24920928ba65aa9ee9ceb",
            "fe7a51e5183045a3bd7f3b056604ac46",
            "dfe97e6b0b40480abdb3daaa5533e5d0",
            "f91d32c3013d4723858c6ce85c5068e2",
            "9419a40fbe0f4557b4728708d25209d0",
            "7a7e83a6ecb6456387ffd12333011186",
            "d18bd07c681348e89951b05b0b29d77a",
            "caa540dd99c049caaf0e4b244c21a86c",
            "0063426ce6724fcc8b0ed20d449b0d79",
            "13ff90dfcf6f4299800ad51e211ecf53",
            "4aadd684a1e4407595f89a3719c73136",
            "53629c6b18f7487e8a9fd48e8d5f29c8",
            "c1293fc29dcb4a908d794c3817dc1b25",
            "df0209f7c9ca46ffa47d52f01256dc07",
            "f029a5b36f964348859bde96b97f0ec1",
            "4335d4b88dca4226a45532255c3af316",
            "5a6a349e0b9a4cbea6fda149b1b9df5b",
            "88be641cd319407d80aa136169924517",
            "f53c85f78a9641e1b59267ed634926ce",
            "860a344c2eb14c03ad7693f1271efd0b",
            "3aa425b4b06743a7a1ae12b383bd285f",
            "ef876222b2574cb48c5041bacfb1c70b",
            "ed93d30e498c46aba012bfb823c06f33",
            "239625dbdd6e46fdb6a0ef76e3560a47",
            "0a1e6b0d60ac434b9fa7a1f576641219",
            "966a4286a9794ec89bc52875a048f3ff"
          ]
        },
        "id": "ytuh6Pmc2Pl_",
        "outputId": "8cef06c3-6fcb-4eb2-b88e-07f0b4cd403f"
      },
      "outputs": [
        {
          "name": "stderr",
          "output_type": "stream",
          "text": [
            "/usr/local/lib/python3.11/dist-packages/huggingface_hub/utils/_auth.py:94: UserWarning: \n",
            "The secret `HF_TOKEN` does not exist in your Colab secrets.\n",
            "To authenticate with the Hugging Face Hub, create a token in your settings tab (https://huggingface.co/settings/tokens), set it as secret in your Google Colab and restart your session.\n",
            "You will be able to reuse this secret in all of your notebooks.\n",
            "Please note that authentication is recommended but still optional to access public models or datasets.\n",
            "  warnings.warn(\n"
          ]
        },
        {
          "data": {
            "application/vnd.jupyter.widget-view+json": {
              "model_id": "fed00c40744e42f4b71026048aca85a6",
              "version_major": 2,
              "version_minor": 0
            },
            "text/plain": [
              "config.json:   0%|          | 0.00/637 [00:00<?, ?B/s]"
            ]
          },
          "metadata": {},
          "output_type": "display_data"
        },
        {
          "data": {
            "application/vnd.jupyter.widget-view+json": {
              "model_id": "fae93ae4961e40c298240d88deae81ea",
              "version_major": 2,
              "version_minor": 0
            },
            "text/plain": [
              "pytorch_model.bin:   0%|          | 0.00/436M [00:00<?, ?B/s]"
            ]
          },
          "metadata": {},
          "output_type": "display_data"
        },
        {
          "data": {
            "application/vnd.jupyter.widget-view+json": {
              "model_id": "7e616d0f3b514c86a253087fe2da47ab",
              "version_major": 2,
              "version_minor": 0
            },
            "text/plain": [
              "tokenizer_config.json:   0%|          | 0.00/357 [00:00<?, ?B/s]"
            ]
          },
          "metadata": {},
          "output_type": "display_data"
        },
        {
          "data": {
            "application/vnd.jupyter.widget-view+json": {
              "model_id": "ab4ff83250504f93bb9543450d48271f",
              "version_major": 2,
              "version_minor": 0
            },
            "text/plain": [
              "vocab.txt:   0%|          | 0.00/232k [00:00<?, ?B/s]"
            ]
          },
          "metadata": {},
          "output_type": "display_data"
        },
        {
          "data": {
            "application/vnd.jupyter.widget-view+json": {
              "model_id": "3ede2c009f1f46e5860836bf635fb38d",
              "version_major": 2,
              "version_minor": 0
            },
            "text/plain": [
              "tokenizer.json:   0%|          | 0.00/711k [00:00<?, ?B/s]"
            ]
          },
          "metadata": {},
          "output_type": "display_data"
        },
        {
          "data": {
            "application/vnd.jupyter.widget-view+json": {
              "model_id": "9419a40fbe0f4557b4728708d25209d0",
              "version_major": 2,
              "version_minor": 0
            },
            "text/plain": [
              "model.safetensors:   0%|          | 0.00/436M [00:00<?, ?B/s]"
            ]
          },
          "metadata": {},
          "output_type": "display_data"
        },
        {
          "data": {
            "application/vnd.jupyter.widget-view+json": {
              "model_id": "4335d4b88dca4226a45532255c3af316",
              "version_major": 2,
              "version_minor": 0
            },
            "text/plain": [
              "special_tokens_map.json:   0%|          | 0.00/280 [00:00<?, ?B/s]"
            ]
          },
          "metadata": {},
          "output_type": "display_data"
        },
        {
          "data": {
            "text/plain": [
              "('onnx_models/haddadalwi/multi-qa-mpnet-base-dot-v1-finetuned-squad2-all/tokenizer_config.json',\n",
              " 'onnx_models/haddadalwi/multi-qa-mpnet-base-dot-v1-finetuned-squad2-all/special_tokens_map.json',\n",
              " 'onnx_models/haddadalwi/multi-qa-mpnet-base-dot-v1-finetuned-squad2-all/vocab.txt',\n",
              " 'onnx_models/haddadalwi/multi-qa-mpnet-base-dot-v1-finetuned-squad2-all/added_tokens.json')"
            ]
          },
          "execution_count": 2,
          "metadata": {},
          "output_type": "execute_result"
        }
      ],
      "source": [
        "from transformers import MPNetTokenizer\n",
        "from optimum.onnxruntime import ORTModelForQuestionAnswering\n",
        "\n",
        "MODEL_NAME = \"haddadalwi/multi-qa-mpnet-base-dot-v1-finetuned-squad2-all\"\n",
        "EXPORT_PATH = f\"onnx_models/{MODEL_NAME}\"\n",
        "\n",
        "ort_model = ORTModelForQuestionAnswering.from_pretrained(MODEL_NAME, export=True)\n",
        "ort_model.save_pretrained(EXPORT_PATH)\n",
        "\n",
        "tokenizer = MPNetTokenizer.from_pretrained(MODEL_NAME)\n",
        "tokenizer.save_pretrained(EXPORT_PATH)"
      ]
    },
    {
      "cell_type": "markdown",
      "metadata": {
        "id": "792x8adjAtcg"
      },
      "source": [
        "Let's have a look inside these two directories and see what we are dealing with:"
      ]
    },
    {
      "cell_type": "code",
      "execution_count": 3,
      "metadata": {
        "colab": {
          "base_uri": "https://localhost:8080/"
        },
        "id": "LZ433sDTAtcg",
        "outputId": "0b8ea844-2dba-43fb-8fa6-736a38e9e065"
      },
      "outputs": [
        {
          "name": "stdout",
          "output_type": "stream",
          "text": [
            "total 425888\n",
            "-rw-r--r-- 1 root root       647 Jun 15 23:43 config.json\n",
            "-rw-r--r-- 1 root root 435859895 Jun 15 23:43 model.onnx\n",
            "-rw-r--r-- 1 root root       964 Jun 15 23:43 special_tokens_map.json\n",
            "-rw-r--r-- 1 root root      1475 Jun 15 23:43 tokenizer_config.json\n",
            "-rw-r--r-- 1 root root    231536 Jun 15 23:43 vocab.txt\n"
          ]
        }
      ],
      "source": [
        "!ls -l {EXPORT_PATH}"
      ]
    },
    {
      "cell_type": "markdown",
      "metadata": {
        "id": "oxu5cqzBAtce"
      },
      "source": [
        "We have to move additional model assets (tokenizer vocabulary and configs) into a separate folder, so that Spark NLP can load it properly."
      ]
    },
    {
      "cell_type": "code",
      "execution_count": 4,
      "metadata": {
        "id": "TlfgPg-iAtcf"
      },
      "outputs": [],
      "source": [
        "!mkdir -p {EXPORT_PATH}/assets && mv -t {EXPORT_PATH}/assets {EXPORT_PATH}/*.json {EXPORT_PATH}/*.txt"
      ]
    },
    {
      "cell_type": "code",
      "execution_count": 5,
      "metadata": {
        "colab": {
          "base_uri": "https://localhost:8080/"
        },
        "id": "0T8yexh2Atcg",
        "outputId": "f20f56ae-f5d4-40fd-bb13-35119c1fb54b"
      },
      "outputs": [
        {
          "name": "stdout",
          "output_type": "stream",
          "text": [
            "total 240\n",
            "-rw-r--r-- 1 root root    647 Jun 15 23:43 config.json\n",
            "-rw-r--r-- 1 root root    964 Jun 15 23:43 special_tokens_map.json\n",
            "-rw-r--r-- 1 root root   1475 Jun 15 23:43 tokenizer_config.json\n",
            "-rw-r--r-- 1 root root 231536 Jun 15 23:43 vocab.txt\n"
          ]
        }
      ],
      "source": [
        "!ls -l {EXPORT_PATH}/assets"
      ]
    },
    {
      "cell_type": "markdown",
      "metadata": {
        "id": "v2MQbBGtAtcg"
      },
      "source": [
        "## Import and Save MPNet in Spark NLP"
      ]
    },
    {
      "cell_type": "markdown",
      "metadata": {
        "id": "8CwVt6uu2evm"
      },
      "source": [
        "- **Install and set up Spark NLP in Google Colab**\n",
        "  - This example uses specific versions of `pyspark` and `spark-nlp` that have been tested with the transformer model to ensure everything runs smoothly."
      ]
    },
    {
      "cell_type": "code",
      "execution_count": 6,
      "metadata": {
        "colab": {
          "base_uri": "https://localhost:8080/"
        },
        "id": "SPxgDybFAtch",
        "outputId": "d678c87b-7ee2-4d5a-e072-7a31bfdf94db"
      },
      "outputs": [
        {
          "name": "stdout",
          "output_type": "stream",
          "text": [
            "\u001b[2K     \u001b[90m━━━━━━━━━━━━━━━━━━━━━━━━━━━━━━━━━━━━━━━\u001b[0m \u001b[32m317.3/317.3 MB\u001b[0m \u001b[31m5.0 MB/s\u001b[0m eta \u001b[36m0:00:00\u001b[0m\n",
            "\u001b[?25h  Preparing metadata (setup.py) ... \u001b[?25l\u001b[?25hdone\n",
            "\u001b[2K   \u001b[90m━━━━━━━━━━━━━━━━━━━━━━━━━━━━━━━━━━━━━━━━\u001b[0m \u001b[32m635.7/635.7 kB\u001b[0m \u001b[31m32.2 MB/s\u001b[0m eta \u001b[36m0:00:00\u001b[0m\n",
            "\u001b[?25h  Building wheel for pyspark (setup.py) ... \u001b[?25l\u001b[?25hdone\n"
          ]
        }
      ],
      "source": [
        "!pip install -q pyspark==3.5.4 spark-nlp==5.5.3"
      ]
    },
    {
      "cell_type": "markdown",
      "metadata": {
        "id": "FU3PhUdBAtch"
      },
      "source": [
        "Let's start Spark with Spark NLP included via our simple `start()` function"
      ]
    },
    {
      "cell_type": "code",
      "execution_count": 7,
      "metadata": {
        "colab": {
          "base_uri": "https://localhost:8080/"
        },
        "id": "H_1-jYBSAtch",
        "outputId": "703d55d9-cd68-4dc3-9fca-3688a221e36f"
      },
      "outputs": [
        {
          "name": "stdout",
          "output_type": "stream",
          "text": [
            "Spark NLP version:  5.5.3\n",
            "Apache Spark version:  3.5.4\n"
          ]
        }
      ],
      "source": [
        "import sparknlp\n",
        "\n",
        "spark = sparknlp.start()\n",
        "\n",
        "print(\"Spark NLP version: \", sparknlp.version())\n",
        "print(\"Apache Spark version: \", spark.version)"
      ]
    },
    {
      "cell_type": "markdown",
      "metadata": {
        "id": "mFlgulAoAtch"
      },
      "source": [
        "- Let's use `loadSavedModel` functon in `MPNetForQuestionAnswering` which allows us to load the ONNX model\n",
        "- Most params will be set automatically. They can also be set later after loading the model in `MPNetForQuestionAnswering` during runtime, so don't worry about setting them now\n",
        "- `loadSavedModel` accepts two params, first is the path to the exported model. The second is the SparkSession that is `spark` variable we previously started via `sparknlp.start()`\n",
        "- NOTE: `loadSavedModel` accepts local paths in addition to distributed file systems such as `HDFS`, `S3`, `DBFS`, etc. This feature was introduced in Spark NLP 4.2.2 release. Keep in mind the best and recommended way to move/share/reuse Spark NLP models is to use `write.save` so you can use `.load()` from any file systems natively.st and recommended way to move/share/reuse Spark NLP models is to use `write.save` so you can use `.load()` from any file systems natively."
      ]
    },
    {
      "cell_type": "code",
      "execution_count": 8,
      "metadata": {
        "id": "IQPLGQP4Atch"
      },
      "outputs": [],
      "source": [
        "from sparknlp.annotator import MPNetForQuestionAnswering\n",
        "\n",
        "question_answering = (\n",
        "    MPNetForQuestionAnswering.loadSavedModel(f\"{EXPORT_PATH}\", spark)\n",
        "    .setInputCols(\"document_question\", \"document_context\")\n",
        "    .setOutputCol(\"answer\")\n",
        ")"
      ]
    },
    {
      "cell_type": "markdown",
      "metadata": {
        "id": "ocbY6OkGAtci"
      },
      "source": [
        "- Let's save it on disk so it is easier to be moved around and also be used later via `.load` function"
      ]
    },
    {
      "cell_type": "code",
      "execution_count": 9,
      "metadata": {
        "id": "Ou_oCuRkAtci"
      },
      "outputs": [],
      "source": [
        "question_answering.write().overwrite().save(f\"{MODEL_NAME}_spark_nlp\")"
      ]
    },
    {
      "cell_type": "markdown",
      "metadata": {
        "id": "E93AN2ggAtci"
      },
      "source": [
        "Let's clean up stuff we don't need anymore"
      ]
    },
    {
      "cell_type": "code",
      "execution_count": 10,
      "metadata": {
        "id": "xh_VOH02Atci"
      },
      "outputs": [],
      "source": [
        "!rm -rf {EXPORT_PATH}"
      ]
    },
    {
      "cell_type": "markdown",
      "metadata": {
        "id": "mFoYMAT4Atci"
      },
      "source": [
        "Awesome  😎 !\n",
        "\n",
        "This is your ONNX MPNet model from HuggingFace 🤗  loaded and saved by Spark NLP 🚀"
      ]
    },
    {
      "cell_type": "code",
      "execution_count": 11,
      "metadata": {
        "colab": {
          "base_uri": "https://localhost:8080/"
        },
        "id": "p_cMyeUAAtcj",
        "outputId": "e5a24d21-29d8-4dbf-9821-0d2c9f0f89f3"
      },
      "outputs": [
        {
          "name": "stdout",
          "output_type": "stream",
          "text": [
            "total 425724\n",
            "drwxr-xr-x 3 root root      4096 Jun 15 23:45 fields\n",
            "drwxr-xr-x 2 root root      4096 Jun 15 23:45 metadata\n",
            "-rw-r--r-- 1 root root 435926539 Jun 15 23:45 mpnet_question_answering_onnx\n"
          ]
        }
      ],
      "source": [
        "! ls -l {MODEL_NAME}_spark_nlp"
      ]
    },
    {
      "cell_type": "markdown",
      "metadata": {
        "id": "uG2wj5vFAtcj"
      },
      "source": [
        "Now let's see how we can use it on other machines, clusters, or any place you wish to use your new and shiny MPNet model 😊"
      ]
    },
    {
      "cell_type": "code",
      "execution_count": 18,
      "metadata": {
        "colab": {
          "base_uri": "https://localhost:8080/"
        },
        "id": "D8yTXuQ-QlRg",
        "outputId": "3cf51384-f61a-4c7e-f2d6-49f79e1a2eeb"
      },
      "outputs": [
        {
          "name": "stdout",
          "output_type": "stream",
          "text": [
            "+-----------------------------------+---------------------+\n",
            "|question                           |result               |\n",
            "+-----------------------------------+---------------------+\n",
            "|What is the boiling point of water?|[100 degrees Celsius]|\n",
            "|Who is the president of the USA?   |[Joe Biden]          |\n",
            "|What color is the sky?             |[blue]               |\n",
            "+-----------------------------------+---------------------+\n",
            "\n"
          ]
        }
      ],
      "source": [
        "from sparknlp.base import MultiDocumentAssembler\n",
        "from sparknlp.annotator import MPNetForQuestionAnswering\n",
        "from pyspark.ml import Pipeline\n",
        "\n",
        "document_assembler = MultiDocumentAssembler() \\\n",
        "    .setInputCols([\"question\", \"context\"]) \\\n",
        "    .setOutputCols([\"document_question\", \"document_context\"])\n",
        "\n",
        "question_answering = MPNetForQuestionAnswering.load(f\"{MODEL_NAME}_spark_nlp\") \\\n",
        "    .setInputCols([\"document_question\", \"document_context\"]) \\\n",
        "    .setOutputCol(\"answer\") \\\n",
        "    .setCaseSensitive(False)\n",
        "\n",
        "pipeline = Pipeline().setStages([\n",
        "    document_assembler,\n",
        "    question_answering\n",
        "])\n",
        "\n",
        "data = [\n",
        "    (\"What is the boiling point of water?\", \"Water boils at 100 degrees Celsius.\"),\n",
        "    (\"Who is the president of the USA?\", \"The president of the USA is Joe Biden.\"),\n",
        "    (\"What color is the sky?\", \"The sky is blue on a clear day.\"),\n",
        "]\n",
        "df = spark.createDataFrame(data, [\"question\", \"context\"])\n",
        "\n",
        "result = pipeline.fit(df).transform(df)\n",
        "result.select(\"question\", \"answer.result\").show(truncate=False)"
      ]
    },
    {
      "cell_type": "markdown",
      "metadata": {
        "id": "O9VC_NFDAtcj"
      },
      "source": [
        "That's it! You can now go wild and use hundreds of MPNet models from HuggingFace 🤗 in Spark NLP 🚀\n"
      ]
    }
  ],
  "metadata": {
    "colab": {
      "provenance": []
    },
    "kernelspec": {
      "display_name": "Python 3",
      "name": "python3"
    },
    "language_info": {
      "codemirror_mode": {
        "name": "ipython",
        "version": 3
      },
      "file_extension": ".py",
      "mimetype": "text/x-python",
      "name": "python",
      "nbconvert_exporter": "python",
      "pygments_lexer": "ipython3"
    }
  },
  "nbformat": 4,
  "nbformat_minor": 0
}
