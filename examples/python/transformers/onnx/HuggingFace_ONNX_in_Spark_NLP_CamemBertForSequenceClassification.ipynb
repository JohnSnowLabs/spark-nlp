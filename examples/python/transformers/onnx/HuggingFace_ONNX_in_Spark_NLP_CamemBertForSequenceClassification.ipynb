{
  "cells": [
    {
      "cell_type": "markdown",
      "metadata": {
        "id": "xXWAxmqtmdup"
      },
      "source": [
        "![JohnSnowLabs](https://sparknlp.org/assets/images/logo.png)\n",
        "\n",
        "[![Open In Colab](https://colab.research.google.com/assets/colab-badge.svg)](https://colab.research.google.com/github/JohnSnowLabs/spark-nlp/blob/master/examples/python/transformers/onnx/HuggingFace_ONNX_in_Spark_NLP_CamemBertForSequenceClassification.ipynb)"
      ]
    },
    {
      "cell_type": "markdown",
      "metadata": {
        "id": "afExOY_Smdus"
      },
      "source": [
        "## Import ONNX CamemBertForSequenceClassification models from HuggingFace 🤗  into Spark NLP 🚀\n",
        "\n",
        "Let's keep in mind a few things before we start 😊\n",
        "\n",
        "- ONNX support was introduced in  `Spark NLP 5.0.0`, enabling high performance inference for models.\n",
        "- `CamemBertForSequenceClassification` is only available since in `Spark NLP 5.2.0` and after. So please make sure you have upgraded to the latest Spark NLP release\n",
        "- You can import CamemBERT models trained/fine-tuned for sequence classification via `CamembertForSequenceClassification` or `TFCamembertForSequenceClassification`. These models are usually under `Sequence Classification` category and have `camembert` in their labels\n",
        "- Reference: [TFCamembertForSequenceClassification](https://huggingface.co/docs/transformers/model_doc/camembert#transformers.TFCamembertForSequenceClassification)\n",
        "- Some [example models](https://huggingface.co/models?other=camembert&pipeline_tag=token-classification)"
      ]
    },
    {
      "cell_type": "markdown",
      "metadata": {
        "id": "Thh5cDBomdut"
      },
      "source": [
        "## Export and Save HuggingFace model"
      ]
    },
    {
      "cell_type": "markdown",
      "metadata": {
        "id": "XVw-tJTKmdut"
      },
      "source": [
        "- Let's install `transformers` package with the `onnx` extension and it's dependencies. You don't need `onnx` to be installed for Spark NLP, however, we need it to load and save models from HuggingFace.\n",
        "- We lock `transformers` on version `4.52.4`. This doesn't mean it won't work with the future releases, but we wanted you to know which versions have been tested successfully.\n",
        "- CamembertTokenizer requires the `SentencePiece` library, so we install that as well"
      ]
    },
    {
      "cell_type": "code",
      "execution_count": null,
      "metadata": {
        "colab": {
          "base_uri": "https://localhost:8080/"
        },
        "id": "MebybPf_tOQH",
        "outputId": "682bbc4e-dedf-4f60-a113-4d2688f72f9f"
      },
      "outputs": [],
      "source": [
        "!pip install -q --upgrade transformers[onnx]==4.52.4 optimum onnx"
      ]
    },
    {
      "cell_type": "markdown",
      "metadata": {
        "id": "qHvXPPTrmduv"
      },
      "source": [
        "- HuggingFace has an extension called Optimum which offers specialized model inference, including ONNX. We can use this to import and export ONNX models with `from_pretrained` and `save_pretrained`.\n",
        "- We'll use [tblard/tf-allocine](https://huggingface.co/tblard/tf-allocine)  model from HuggingFace as an example and load it as a `ORTModelForSequenceClassification`, representing an ONNX model.\n",
        "- In addition to the CamemBERT model, we also need to save the `CamembertTokenizer`. This is the same for every model, these are assets (saved in `/assets`) needed for tokenization inside Spark NLP."
      ]
    },
    {
      "cell_type": "code",
      "execution_count": 2,
      "metadata": {
        "colab": {
          "base_uri": "https://localhost:8080/",
          "height": 383,
          "referenced_widgets": [
            "880eff8340c64b1caf3a7114ca904554",
            "bb70a8c6fcd14684bcd848db85d6d0e7",
            "be21d9ef6bfe43779e6002b3e1f80bbe",
            "0bebd1ade6fe4701bd49b24b70d5e6f4",
            "44ad0851f38f4fdf86877cca926e623f",
            "47ad56a93ee54990884589951497be55",
            "4b3bcb39fb6546a689ab91e2a29da3d3",
            "1f31e8e44b304aa193d85bf63c272305",
            "3777186b29df42348e6b1285c1e17896",
            "9741cc6771594a279accf029eca4ed95",
            "d69bfc01de1a4dada8afc3f7e6f60b55",
            "061b0c87b4b34cf1abf67c9105f76f16",
            "934155f652814b419c86bfdd4a903a3f",
            "fb65c8c7e22f4e02a58bd4932a3e2fb1",
            "14731cf0e62b44ec85a124108b5400da",
            "75e3e08c86d84e478791618baad91b82",
            "9d7b8dbd71794d57ba512c2a01c2f9cb",
            "2ba7d7c145eb466eb6704e64f0b4e21f",
            "443ec927eeb845a0be54203f149b9c60",
            "e045657709664646b6abec4cb566f445",
            "0d337156891c4a968192974b33f17ea6",
            "5cf4fcb636074739a6365e5f1eea9751",
            "889a546a2efc4c39bdebf497d6ce2aa0",
            "cc786cb243604e5a95f27ce4a0c3df9a",
            "250523b9f0c24925b84cd2702ec4b7e6",
            "ec78b9db577b4238b2f5ed89f7883585",
            "5955e76fa9fd4ba18d137f53d4d32bdb",
            "abca8d52fa0f4976b9e335de9d040a34",
            "f1f491a12cdc4752ae64e3fbb4d0f4ce",
            "44db266ead9c448fbcfe456e0a081dea",
            "571d2d3b44e94820af7b72ebc4db5745",
            "c5018820406b4623b1b06ca7ed010880",
            "b3985f9032f6418b85559fa977ea671f",
            "778ce4189ba541f6aad4887150a1213d",
            "04662f8c3da04800b49ae279c1a2f9da",
            "5de020139e43483582b57cdf102d8a38",
            "2eabd8e50deb48e683a0f0e249203fd3",
            "2c669769d87048ca960711c406693d78",
            "73b9115f97d641b19e3aee7d22c06d98",
            "93edd04faf414c5188aaf3d3c64295f0",
            "db34e91b57e24a8b9905d496ae4b1c20",
            "d28ca3fa356b46a08ab217ae3ee7e026",
            "cb77fcda749a47afabb49add1513ebda",
            "969a5271699447f79512dcf8fc7e5205",
            "b0083cf87ebc45fd80282f3983b89c52",
            "71c79dd43c4d46a89b79a8278eae9cb9",
            "21819cb2d69c4b1e98c3c8a94161c399",
            "799d10b055744afe98370d08031e91e9",
            "efbe00c1172d42e4ad37abe75efe5093",
            "964b0e47bd8e47b79698f700567c08ff",
            "fe073dca13804715bf1b4699782b4290",
            "21a1e8d2884d4022b086c14edd3f21e4",
            "67a581ee579f4cb6af13e214d296488b",
            "8efb9fe33cf44732b93bd8d676d35c17",
            "ef649ef5cd2240ce8d5f53935edd658b",
            "6762f6bd9b1d4b5497a23a2cca86450e",
            "13ad240a16f645f7a7a9f5f8ed73ee9a",
            "7dd63eca2cbe4128ac92ac7c0d85fff7",
            "788c43b4cc33428fa28d97d559a8466a",
            "c4059da9937947c085854de76db9b197",
            "9ba134c4e2ac4c53a382ebf2aa24686c",
            "3f3c4d1ae33443c281467008e4e2e1a2",
            "e9b46aa1887b4eacbe44c06730a12910",
            "3e6aee68e95042c391b454cde0c7fade",
            "592d3409851c44e7b645e2d423cb91ad",
            "d0c8acaaba7d49c3adef4c2bc16f79b7"
          ]
        },
        "id": "0nFUgc-vmduv",
        "outputId": "7e304ce4-4756-4e3b-ae83-3ca13ca40bb6"
      },
      "outputs": [
        {
          "name": "stderr",
          "output_type": "stream",
          "text": [
            "/usr/local/lib/python3.11/dist-packages/huggingface_hub/utils/_auth.py:94: UserWarning: \n",
            "The secret `HF_TOKEN` does not exist in your Colab secrets.\n",
            "To authenticate with the Hugging Face Hub, create a token in your settings tab (https://huggingface.co/settings/tokens), set it as secret in your Google Colab and restart your session.\n",
            "You will be able to reuse this secret in all of your notebooks.\n",
            "Please note that authentication is recommended but still optional to access public models or datasets.\n",
            "  warnings.warn(\n"
          ]
        },
        {
          "data": {
            "application/vnd.jupyter.widget-view+json": {
              "model_id": "880eff8340c64b1caf3a7114ca904554",
              "version_major": 2,
              "version_minor": 0
            },
            "text/plain": [
              "config.json:   0%|          | 0.00/1.01k [00:00<?, ?B/s]"
            ]
          },
          "metadata": {},
          "output_type": "display_data"
        },
        {
          "data": {
            "application/vnd.jupyter.widget-view+json": {
              "model_id": "061b0c87b4b34cf1abf67c9105f76f16",
              "version_major": 2,
              "version_minor": 0
            },
            "text/plain": [
              "model.safetensors:   0%|          | 0.00/443M [00:00<?, ?B/s]"
            ]
          },
          "metadata": {},
          "output_type": "display_data"
        },
        {
          "data": {
            "application/vnd.jupyter.widget-view+json": {
              "model_id": "889a546a2efc4c39bdebf497d6ce2aa0",
              "version_major": 2,
              "version_minor": 0
            },
            "text/plain": [
              "tokenizer_config.json:   0%|          | 0.00/1.78k [00:00<?, ?B/s]"
            ]
          },
          "metadata": {},
          "output_type": "display_data"
        },
        {
          "data": {
            "application/vnd.jupyter.widget-view+json": {
              "model_id": "778ce4189ba541f6aad4887150a1213d",
              "version_major": 2,
              "version_minor": 0
            },
            "text/plain": [
              "sentencepiece.bpe.model:   0%|          | 0.00/811k [00:00<?, ?B/s]"
            ]
          },
          "metadata": {},
          "output_type": "display_data"
        },
        {
          "data": {
            "application/vnd.jupyter.widget-view+json": {
              "model_id": "b0083cf87ebc45fd80282f3983b89c52",
              "version_major": 2,
              "version_minor": 0
            },
            "text/plain": [
              "added_tokens.json:   0%|          | 0.00/22.0 [00:00<?, ?B/s]"
            ]
          },
          "metadata": {},
          "output_type": "display_data"
        },
        {
          "data": {
            "application/vnd.jupyter.widget-view+json": {
              "model_id": "6762f6bd9b1d4b5497a23a2cca86450e",
              "version_major": 2,
              "version_minor": 0
            },
            "text/plain": [
              "special_tokens_map.json:   0%|          | 0.00/374 [00:00<?, ?B/s]"
            ]
          },
          "metadata": {},
          "output_type": "display_data"
        },
        {
          "data": {
            "text/plain": [
              "('onnx_models/astrosbd/french_emotion_camembert/tokenizer_config.json',\n",
              " 'onnx_models/astrosbd/french_emotion_camembert/special_tokens_map.json',\n",
              " 'onnx_models/astrosbd/french_emotion_camembert/sentencepiece.bpe.model',\n",
              " 'onnx_models/astrosbd/french_emotion_camembert/added_tokens.json')"
            ]
          },
          "execution_count": 2,
          "metadata": {},
          "output_type": "execute_result"
        }
      ],
      "source": [
        "from transformers import CamembertTokenizer\n",
        "from optimum.onnxruntime import ORTModelForSequenceClassification\n",
        "\n",
        "MODEL_NAME = \"astrosbd/french_emotion_camembert\"\n",
        "ONNX_MODEL = f\"onnx_models/{MODEL_NAME}\"\n",
        "\n",
        "ort_model = ORTModelForSequenceClassification.from_pretrained(MODEL_NAME, export=True)\n",
        "ort_model.save_pretrained(ONNX_MODEL)\n",
        "\n",
        "tokenizer = CamembertTokenizer.from_pretrained(MODEL_NAME)\n",
        "tokenizer.save_pretrained(ONNX_MODEL)"
      ]
    },
    {
      "cell_type": "markdown",
      "metadata": {
        "id": "7DzME1j2mduv"
      },
      "source": [
        "Let's have a look inside these two directories and see what we are dealing with:"
      ]
    },
    {
      "cell_type": "code",
      "execution_count": 3,
      "metadata": {
        "colab": {
          "base_uri": "https://localhost:8080/"
        },
        "id": "jpR8ekq_mduw",
        "outputId": "e78cfa53-a70c-4238-915e-04c11ec1e8f6"
      },
      "outputs": [
        {
          "name": "stdout",
          "output_type": "stream",
          "text": [
            "total 433260\n",
            "-rw-r--r-- 1 root root        22 Jun 11 21:26 added_tokens.json\n",
            "-rw-r--r-- 1 root root       971 Jun 11 21:26 config.json\n",
            "-rw-r--r-- 1 root root 442825702 Jun 11 21:26 model.onnx\n",
            "-rw-r--r-- 1 root root    810912 Jun 11 21:26 sentencepiece.bpe.model\n",
            "-rw-r--r-- 1 root root      1058 Jun 11 21:26 special_tokens_map.json\n",
            "-rw-r--r-- 1 root root      1813 Jun 11 21:26 tokenizer_config.json\n"
          ]
        }
      ],
      "source": [
        "!ls -l {ONNX_MODEL}"
      ]
    },
    {
      "cell_type": "markdown",
      "metadata": {
        "id": "zGwceZwQmduw"
      },
      "source": [
        "- We need to move `sentencepiece.bpe.model` from the tokenizer to assets folder which Spark NLP will look for\n",
        "- In addition to vocabs, we also need `labels` and their `ids` which is saved inside the model's config. We will save this inside `labels.txt`"
      ]
    },
    {
      "cell_type": "code",
      "execution_count": 4,
      "metadata": {
        "id": "sVHvB6-7mduw"
      },
      "outputs": [],
      "source": [
        "!mkdir -p {ONNX_MODEL}/assets && mv {ONNX_MODEL}/sentencepiece.bpe.model {ONNX_MODEL}/assets/\n",
        "\n",
        "with open(f\"{ONNX_MODEL}/assets/labels.txt\", \"w\") as f:\n",
        "    f.write(\"\\n\".join([v for _, v in sorted(ort_model.config.id2label.items())]))"
      ]
    },
    {
      "cell_type": "code",
      "execution_count": 5,
      "metadata": {
        "colab": {
          "base_uri": "https://localhost:8080/"
        },
        "id": "NQsu6zPimdux",
        "outputId": "1e7e5595-0214-495a-ffd9-d71474e5a7ff"
      },
      "outputs": [
        {
          "name": "stdout",
          "output_type": "stream",
          "text": [
            "onnx_models/astrosbd/french_emotion_camembert:\n",
            "total 432472\n",
            "-rw-r--r-- 1 root root        22 Jun 11 21:26 added_tokens.json\n",
            "drwxr-xr-x 2 root root      4096 Jun 11 21:26 assets\n",
            "-rw-r--r-- 1 root root       971 Jun 11 21:26 config.json\n",
            "-rw-r--r-- 1 root root 442825702 Jun 11 21:26 model.onnx\n",
            "-rw-r--r-- 1 root root      1058 Jun 11 21:26 special_tokens_map.json\n",
            "-rw-r--r-- 1 root root      1813 Jun 11 21:26 tokenizer_config.json\n",
            "\n",
            "onnx_models/astrosbd/french_emotion_camembert/assets:\n",
            "total 796\n",
            "-rw-r--r-- 1 root root     35 Jun 11 21:26 labels.txt\n",
            "-rw-r--r-- 1 root root 810912 Jun 11 21:26 sentencepiece.bpe.model\n"
          ]
        }
      ],
      "source": [
        "!ls -lR {ONNX_MODEL}"
      ]
    },
    {
      "cell_type": "code",
      "execution_count": 6,
      "metadata": {
        "colab": {
          "base_uri": "https://localhost:8080/"
        },
        "id": "izMzGk9P35y-",
        "outputId": "d21c8e6c-ede3-41e3-8e23-b2bfaa9973c4"
      },
      "outputs": [
        {
          "name": "stdout",
          "output_type": "stream",
          "text": [
            "sad\n",
            "fear\n",
            "anger\n",
            "neutral\n",
            "surprise\n",
            "joy"
          ]
        }
      ],
      "source": [
        "!cat {ONNX_MODEL}/assets/labels.txt"
      ]
    },
    {
      "cell_type": "markdown",
      "metadata": {
        "id": "qVeEKDx5mdux"
      },
      "source": [
        "Voila! We have our `sentencepiece.bpe.model` and `labels.txt` inside assets directory"
      ]
    },
    {
      "cell_type": "markdown",
      "metadata": {
        "id": "Y4Sbi_81mdux"
      },
      "source": [
        "## Import and Save CamemBertForSequenceClassification in Spark NLP\n"
      ]
    },
    {
      "cell_type": "markdown",
      "metadata": {
        "id": "6L0Xp_EZmdux"
      },
      "source": [
        "- Let's install and setup Spark NLP in Google Colab.\n",
        "- For this example we'll use specific versions of `pyspark` and `spark-nlp` that we've already tested with this transformer model to make sure everything runs smoothly."
      ]
    },
    {
      "cell_type": "code",
      "execution_count": 7,
      "metadata": {
        "colab": {
          "base_uri": "https://localhost:8080/"
        },
        "id": "CvrJ6ltYmdux",
        "outputId": "ac139e6e-7115-4cd5-d5a9-e1f399df9acc"
      },
      "outputs": [
        {
          "name": "stdout",
          "output_type": "stream",
          "text": [
            "\u001b[2K     \u001b[90m━━━━━━━━━━━━━━━━━━━━━━━━━━━━━━━━━━━━━━━\u001b[0m \u001b[32m317.3/317.3 MB\u001b[0m \u001b[31m1.8 MB/s\u001b[0m eta \u001b[36m0:00:00\u001b[0m\n",
            "\u001b[?25h  Preparing metadata (setup.py) ... \u001b[?25l\u001b[?25hdone\n",
            "\u001b[2K   \u001b[90m━━━━━━━━━━━━━━━━━━━━━━━━━━━━━━━━━━━━━━━━\u001b[0m \u001b[32m635.7/635.7 kB\u001b[0m \u001b[31m41.0 MB/s\u001b[0m eta \u001b[36m0:00:00\u001b[0m\n",
            "\u001b[?25h  Building wheel for pyspark (setup.py) ... \u001b[?25l\u001b[?25hdone\n"
          ]
        }
      ],
      "source": [
        "!pip install -q pyspark==3.5.4 spark-nlp==5.5.3"
      ]
    },
    {
      "cell_type": "markdown",
      "metadata": {
        "id": "HuhQohDSmdux"
      },
      "source": [
        "Let's start Spark with Spark NLP included via our simple `start()` function"
      ]
    },
    {
      "cell_type": "code",
      "execution_count": 8,
      "metadata": {
        "colab": {
          "base_uri": "https://localhost:8080/"
        },
        "id": "805mC4Cqmdux",
        "outputId": "71c09943-df3d-4464-ebd9-2d31b99f6746"
      },
      "outputs": [
        {
          "name": "stdout",
          "output_type": "stream",
          "text": [
            "Spark NLP version: 5.5.3\n",
            "Apache Spark version: 3.5.4\n"
          ]
        }
      ],
      "source": [
        "import sparknlp\n",
        "\n",
        "spark = sparknlp.start()\n",
        "\n",
        "print(\"Spark NLP version: {}\".format(sparknlp.version()))\n",
        "print(\"Apache Spark version: {}\".format(spark.version))"
      ]
    },
    {
      "cell_type": "markdown",
      "metadata": {
        "id": "ivQ0dpF9mduy"
      },
      "source": [
        "- Let's use `loadSavedModel` functon in `CamemBertForSequenceClassification` which allows us to load TensorFlow model in SavedModel format\n",
        "- Most params can be set later when you are loading this model in `CamemBertForSequenceClassification` in runtime like `setMaxSentenceLength`, so don't worry what you are setting them now\n",
        "- `loadSavedModel` accepts two params, first is the path to the TF SavedModel. The second is the SparkSession that is `spark` variable we previously started via `sparknlp.start()`\n",
        "- NOTE: `loadSavedModel` accepts local paths in addition to distributed file systems such as `HDFS`, `S3`, `DBFS`, etc. This feature was introduced in Spark NLP 4.2.2 release. Keep in mind the best and recommended way to move/share/reuse Spark NLP models is to use `write.save` so you can use `.load()` from any file systems natively."
      ]
    },
    {
      "cell_type": "code",
      "execution_count": 9,
      "metadata": {
        "id": "eSVkiYMMmduy"
      },
      "outputs": [],
      "source": [
        "from sparknlp.annotator import CamemBertForSequenceClassification\n",
        "\n",
        "sequenceClassifier = CamemBertForSequenceClassification.loadSavedModel(\n",
        "     f\"{ONNX_MODEL}\",\n",
        "     spark\n",
        " )\\\n",
        "  .setInputCols([\"document\",'token'])\\\n",
        "  .setOutputCol(\"class\")\\\n",
        "  .setCaseSensitive(True)\\\n",
        "  .setMaxSentenceLength(128)"
      ]
    },
    {
      "cell_type": "markdown",
      "metadata": {
        "id": "dwdvcXMCmduy"
      },
      "source": [
        "- Let's save it on disk so it is easier to be moved around and also be used later via `.load` function"
      ]
    },
    {
      "cell_type": "code",
      "execution_count": 10,
      "metadata": {
        "id": "1ZGgjUi7mduy"
      },
      "outputs": [],
      "source": [
        "sequenceClassifier.write().overwrite().save(\"./{}_spark_nlp_onnx\".format(ONNX_MODEL))"
      ]
    },
    {
      "cell_type": "markdown",
      "metadata": {
        "id": "I06ohxwVmduy"
      },
      "source": [
        "Let's clean up stuff we don't need anymore"
      ]
    },
    {
      "cell_type": "code",
      "execution_count": 11,
      "metadata": {
        "id": "C8bOG8sFmduy"
      },
      "outputs": [],
      "source": [
        "!rm -rf {ONNX_MODEL}"
      ]
    },
    {
      "cell_type": "markdown",
      "metadata": {
        "id": "Bqgn0dWLmduy"
      },
      "source": [
        "Awesome 😎  !\n",
        "\n",
        "This is your CamemBertForSequenceClassification model from HuggingFace 🤗  loaded and saved by Spark NLP 🚀"
      ]
    },
    {
      "cell_type": "code",
      "execution_count": 12,
      "metadata": {
        "colab": {
          "base_uri": "https://localhost:8080/"
        },
        "id": "OyXsF9LQmduy",
        "outputId": "5ed1f0c6-e6ac-4605-d5ae-195745dbf8cd"
      },
      "outputs": [
        {
          "name": "stdout",
          "output_type": "stream",
          "text": [
            "total 433320\n",
            "-rw-r--r-- 1 root root 442893406 Jun 11 21:28 camembert_classification_onnx\n",
            "-rw-r--r-- 1 root root    810912 Jun 11 21:28 camembert_spp\n",
            "drwxr-xr-x 3 root root      4096 Jun 11 21:28 fields\n",
            "drwxr-xr-x 2 root root      4096 Jun 11 21:28 metadata\n"
          ]
        }
      ],
      "source": [
        "! ls -l {ONNX_MODEL}_spark_nlp_onnx"
      ]
    },
    {
      "cell_type": "markdown",
      "metadata": {
        "id": "L9WVRiqhmduy"
      },
      "source": [
        "Now let's see how we can use it on other machines, clusters, or any place you wish to use your new and shiny CamemBertForSequenceClassification model 😊"
      ]
    },
    {
      "cell_type": "code",
      "execution_count": 13,
      "metadata": {
        "id": "kNgZBMSYmduz"
      },
      "outputs": [],
      "source": [
        "sequenceClassifier_loaded = CamemBertForSequenceClassification.load(\"./{}_spark_nlp_onnx\".format(ONNX_MODEL))\\\n",
        "  .setInputCols([\"document\",'token'])\\\n",
        "  .setOutputCol(\"class\")"
      ]
    },
    {
      "cell_type": "markdown",
      "metadata": {
        "id": "kjbkIf_Smduz"
      },
      "source": [
        "You can see what labels were used to train this model via `getClasses` function:"
      ]
    },
    {
      "cell_type": "code",
      "execution_count": 14,
      "metadata": {
        "colab": {
          "base_uri": "https://localhost:8080/"
        },
        "id": "xKYVBZ5Imduz",
        "outputId": "5d6b3513-2d6b-4951-c071-a4dcdfece6bd"
      },
      "outputs": [
        {
          "data": {
            "text/plain": [
              "['surprise', 'joy', 'anger', 'neutral', 'sad', 'fear']"
            ]
          },
          "execution_count": 14,
          "metadata": {},
          "output_type": "execute_result"
        }
      ],
      "source": [
        "sequenceClassifier_loaded.getClasses()"
      ]
    },
    {
      "cell_type": "markdown",
      "metadata": {
        "id": "tq0zrtNnmduz"
      },
      "source": [
        "This is how you can use your loaded classifier model in Spark NLP 🚀 pipeline:"
      ]
    },
    {
      "cell_type": "code",
      "execution_count": 15,
      "metadata": {
        "colab": {
          "base_uri": "https://localhost:8080/"
        },
        "id": "TpikfwKP2tAE",
        "outputId": "943e9906-e0fa-453c-90d9-aa61244a9da1"
      },
      "outputs": [
        {
          "name": "stdout",
          "output_type": "stream",
          "text": [
            "+--------------------------------------------------+----------------+\n",
            "|text                                              |expected_emotion|\n",
            "+--------------------------------------------------+----------------+\n",
            "|Je me sens seul et personne ne me comprend.       |sad             |\n",
            "|Je ne sais pas ce qui va se passer, ça m'inquiète.|fear            |\n",
            "|Tu m'as vraiment déçu, je suis furieux.           |anger           |\n",
            "|Je n'ai pas d'opinion particulière sur ce sujet.  |neutral         |\n",
            "|Quoi ? Tu as gagné à la loterie ?                 |surprise        |\n",
            "|Je suis tellement content de te revoir !          |joy             |\n",
            "+--------------------------------------------------+----------------+\n",
            "\n"
          ]
        }
      ],
      "source": [
        "example = spark.createDataFrame([\n",
        "    [\"Je me sens seul et personne ne me comprend.\", \"sad\"],\n",
        "    [\"Je ne sais pas ce qui va se passer, ça m'inquiète.\", \"fear\"],\n",
        "    [\"Tu m'as vraiment déçu, je suis furieux.\", \"anger\"],\n",
        "    [\"Je n'ai pas d'opinion particulière sur ce sujet.\", \"neutral\"],\n",
        "    [\"Quoi ? Tu as gagné à la loterie ?\", \"surprise\"],\n",
        "    [\"Je suis tellement content de te revoir !\", \"joy\"]\n",
        "], [\"text\", \"expected_emotion\"])\n",
        "\n",
        "example.show(truncate=False)"
      ]
    },
    {
      "cell_type": "code",
      "execution_count": 16,
      "metadata": {
        "colab": {
          "base_uri": "https://localhost:8080/"
        },
        "id": "54YKy3mXmduz",
        "outputId": "7509ab35-b3f2-4b16-9bc2-1ca9afe60f6b"
      },
      "outputs": [
        {
          "name": "stdout",
          "output_type": "stream",
          "text": [
            "+--------------------------------------------------+----------------+-----------------+\n",
            "|text                                              |expected_emotion|predicted_emotion|\n",
            "+--------------------------------------------------+----------------+-----------------+\n",
            "|Je me sens seul et personne ne me comprend.       |sad             |sad              |\n",
            "|Je ne sais pas ce qui va se passer, ça m'inquiète.|fear            |fear             |\n",
            "|Tu m'as vraiment déçu, je suis furieux.           |anger           |anger            |\n",
            "|Je n'ai pas d'opinion particulière sur ce sujet.  |neutral         |neutral          |\n",
            "|Quoi ? Tu as gagné à la loterie ?                 |surprise        |sad              |\n",
            "|Je suis tellement content de te revoir !          |joy             |joy              |\n",
            "+--------------------------------------------------+----------------+-----------------+\n",
            "\n"
          ]
        }
      ],
      "source": [
        "from pyspark.ml import Pipeline\n",
        "from sparknlp.base import DocumentAssembler\n",
        "from sparknlp.annotator import Tokenizer\n",
        "from pyspark.sql.functions import col\n",
        "\n",
        "document_assembler = DocumentAssembler() \\\n",
        "    .setInputCol(\"text\") \\\n",
        "    .setOutputCol(\"document\")\n",
        "\n",
        "tokenizer = Tokenizer() \\\n",
        "    .setInputCols([\"document\"]) \\\n",
        "    .setOutputCol(\"token\")\n",
        "\n",
        "pipeline = Pipeline(stages=[\n",
        "    document_assembler,\n",
        "    tokenizer,\n",
        "    sequenceClassifier_loaded\n",
        "])\n",
        "\n",
        "result = pipeline.fit(example).transform(example)\n",
        "result.withColumn(\"predicted_emotion\", col(\"class.result\")[0]) \\\n",
        "    .select(\"text\", \"expected_emotion\", \"predicted_emotion\") \\\n",
        "    .show(truncate=False)"
      ]
    },
    {
      "cell_type": "markdown",
      "metadata": {
        "id": "RelVQm9Nmduz"
      },
      "source": [
        "That's it! You can now go wild and use hundreds of `CamemBertForSequenceClassification` models from HuggingFace 🤗 in Spark NLP 🚀\n"
      ]
    }
  ],
  "metadata": {
    "accelerator": "GPU",
    "colab": {
      "gpuType": "T4",
      "provenance": []
    },
    "kernelspec": {
      "display_name": "Python 3 (ipykernel)",
      "language": "python",
      "name": "python3"
    },
    "language_info": {
      "codemirror_mode": {
        "name": "ipython",
        "version": 3
      },
      "file_extension": ".py",
      "mimetype": "text/x-python",
      "name": "python",
      "nbconvert_exporter": "python",
      "pygments_lexer": "ipython3"
    }
  },
  "nbformat": 4,
  "nbformat_minor": 0
}
