{
  "cells": [
    {
      "cell_type": "markdown",
      "metadata": {
        "id": "VUAm7hPfuggk"
      },
      "source": [
        "![JohnSnowLabs](https://sparknlp.org/assets/images/logo.png)\n",
        "\n",
        "[![Open In Colab](https://colab.research.google.com/assets/colab-badge.svg)](https://colab.research.google.com/github/JohnSnowLabs/spark-nlp/blob/master/examples/python/transformers/onnx/HuggingFace_ONNX_in_Spark_NLP_MPNet.ipynb)\n",
        "\n",
        "# Import ONNX MPNet models from HuggingFace 🤗 into Spark NLP 🚀\n",
        "\n",
        "Let's keep in mind a few things before we start 😊\n",
        "\n",
        "- ONNX support for this annotator was introduced in `Spark NLP 5.1.1`, enabling high performance inference for models. Please make sure you have upgraded to the latest Spark NLP release.\n",
        "- You can import models for MPNet from HuggingFace and they have to be in `Sentence Similarity` category. Meaning, you cannot use MPNet models trained/fine-tuned on a specific task such as token/sequence classification."
      ]
    },
    {
      "cell_type": "markdown",
      "metadata": {
        "id": "iUdOfv3buggn"
      },
      "source": [
        "## Export and Save HuggingFace model"
      ]
    },
    {
      "cell_type": "markdown",
      "metadata": {
        "id": "WhEZFPk2uggo"
      },
      "source": [
        "- Let's install `transformers` package with the `onnx` extension and it's dependencies. You don't need `onnx` to be installed for Spark NLP, however, we need it to load and save models from HuggingFace.\n",
        "- We lock `transformers` on version `4.48.3`. This doesn't mean it won't work with the future releases, but we wanted you to know which versions have been tested successfully."
      ]
    },
    {
      "cell_type": "code",
      "execution_count": null,
      "metadata": {
        "colab": {
          "base_uri": "https://localhost:8080/",
          "height": 0
        },
        "id": "lL74aSvUuggo",
        "outputId": "a31a3107-5063-481d-bc5e-24ecb3181782"
      },
      "outputs": [],
      "source": [
        "!pip install -q --upgrade transformers[onnx]==4.48.3 optimum==1.24.0 onnx"
      ]
    },
    {
      "cell_type": "markdown",
      "metadata": {
        "id": "6Vj0OKeMuggq"
      },
      "source": [
        "- HuggingFace has an extension called Optimum which offers specialized model inference, including ONNX. We can use this to import and export ONNX models with `from_pretrained` and `save_pretrained`.\n",
        "- We'll use [sentence-transformers/all-mpnet-base-v2](https://huggingface.co/sentence-transformers/all-mpnet-base-v2) model from HuggingFace as an example and load it as a `ORTModelForFeatureExtraction`, representing an ONNX model.\n",
        "- In addition to the MPNet model, we also need to save the tokenizer. This is the same for every model, these are assets (saved in `/assets`) needed for tokenization inside Spark NLP."
      ]
    },
    {
      "cell_type": "code",
      "execution_count": 2,
      "metadata": {
        "colab": {
          "base_uri": "https://localhost:8080/",
          "height": 383,
          "referenced_widgets": [
            "124ffa54bc23417faa96720660346fc5",
            "f37159208ed74b7b8fac20866041ab53",
            "2770453123ec4e66a1ceb6b3032c379a",
            "cb2ccaa699314924b609b1dd491c7dcf",
            "6b4b04bdfbf541cda99af46791897d98",
            "ef84b8681c234dd2872d8ee904318817",
            "4d2625f148cb4cb9a35257a3593cc153",
            "d9eba3fb89014e18aff521934b5e5f7c",
            "45a21ee00bbc4c7d8a71c49b6e59072a",
            "3ff51f00586443b693e8c496fe869a0f",
            "ff534bfc1b9d4acc931ce5a4d085ebf2",
            "e27d6942a05f4c21a4288b04648f984b",
            "5b3056a514d945c3bd66f5cf849eef6a",
            "82a274d6f058466189ade7bc423325c6",
            "b6106f7dc1ad4268b31290511411f172",
            "4bce523a633f48e88820798b0ac5ab1a",
            "43c3c67a21c840dc85fa07b320a5b977",
            "3879627338604ab9a4440d328c434512",
            "0a319a9e08c849b191df53e49d9537c1",
            "bc603bb8a63343fb9427b96843b3804d",
            "4c1439b01b8b486ba954d8cfda1074e9",
            "9dcd19581bde40f3b33ca8ca9fa3f7e4",
            "2c0e161aa86640b3820408f19bf8577a",
            "01f61c2aa35946fcbd6ccbc3f7f780eb",
            "fc98357f051d45fba1d0cbb696427964",
            "130a706569384d33a1f318547a6ca293",
            "b53128835f884b8a828bbf1acf1a8192",
            "7b97265a65e741ccbc1cfa44bce5664f",
            "7787ff60d255468dae53cab20cd4323a",
            "74eae942e0574980850abf24d1b19fba",
            "45eb9845279f4fddbfda617398472653",
            "5f7266a88d9d42e597af95a8fd057a48",
            "1da15fb7823844eba34befec9e210c38",
            "817adf2e51e34963aa5ddb859850ddf2",
            "03d322b0781b4ef889ae1d2cf99b67bb",
            "41cf420c9f38441db599d687dbecaa8d",
            "f6320113dee143a7a0bddade0c3408f1",
            "adec3b4c38174013943616e69e700fde",
            "12bab8359e5c470db10d2fac1176ab86",
            "da9dca2db5f04011a3d16c578f01a8b0",
            "6d3a4bfff1054bbeb208fec793e9ef2e",
            "41380c76d687437c98bd60b55b7e06bf",
            "a312adc2da36428883e6ea6ef7e8871f",
            "24f1e09209a14e14a001cb3b2d4f6ea5",
            "befef10b1407416c85efe8874cb1df48",
            "692aefd7d23842be96190355d81893d2",
            "e40adc9336a043798f0d6159ad79d090",
            "0ebe86d6baca44cf8f4e62c7804e0192",
            "cb032c2e77724660a3d29345b250c6fc",
            "4a14a14992da4a73bc8136635d5b4966",
            "a966464ea72d4be0a4aa7b4c9db01575",
            "f0a705dc59e54b1bb46df986329d241c",
            "17e0d2ef49dc4c73b7dd12bcc0ec39d4",
            "57ddb493d0314b09a76630d1c2ff3ce7",
            "c6d9e1942316455f8cd413b464a01d16",
            "095ebc0c515d4c02b246b6145267b1de",
            "b348b96822a64ec081773771c303f76c",
            "004c48ab93ae4ec094a63583537d76b3",
            "2f1ee7f40b35444b9e5482718d5b12b4",
            "5e46dc0ce71a410084f8bf0187a28601",
            "c8cebed5361c4352b793940c6e00522e",
            "1008bc7039a94257b0c2a082747e03ea",
            "ecc4927b31094ce2ba0d968683c45a37",
            "3f99f14939544b94a8fe0e16be50c770",
            "504c82f72ec7461386dae3dfc4d7a8b0",
            "1923bbd18a234bd59d2f502a5dafaaa0"
          ]
        },
        "id": "6lj7L3iFuggq",
        "outputId": "0b552dfd-11e4-4dd1-b875-09367e5f8033"
      },
      "outputs": [
        {
          "name": "stderr",
          "output_type": "stream",
          "text": [
            "/usr/local/lib/python3.11/dist-packages/huggingface_hub/utils/_auth.py:94: UserWarning: \n",
            "The secret `HF_TOKEN` does not exist in your Colab secrets.\n",
            "To authenticate with the Hugging Face Hub, create a token in your settings tab (https://huggingface.co/settings/tokens), set it as secret in your Google Colab and restart your session.\n",
            "You will be able to reuse this secret in all of your notebooks.\n",
            "Please note that authentication is recommended but still optional to access public models or datasets.\n",
            "  warnings.warn(\n"
          ]
        },
        {
          "data": {
            "application/vnd.jupyter.widget-view+json": {
              "model_id": "124ffa54bc23417faa96720660346fc5",
              "version_major": 2,
              "version_minor": 0
            },
            "text/plain": [
              "config.json:   0%|          | 0.00/571 [00:00<?, ?B/s]"
            ]
          },
          "metadata": {},
          "output_type": "display_data"
        },
        {
          "data": {
            "application/vnd.jupyter.widget-view+json": {
              "model_id": "e27d6942a05f4c21a4288b04648f984b",
              "version_major": 2,
              "version_minor": 0
            },
            "text/plain": [
              "model.safetensors:   0%|          | 0.00/438M [00:00<?, ?B/s]"
            ]
          },
          "metadata": {},
          "output_type": "display_data"
        },
        {
          "data": {
            "application/vnd.jupyter.widget-view+json": {
              "model_id": "2c0e161aa86640b3820408f19bf8577a",
              "version_major": 2,
              "version_minor": 0
            },
            "text/plain": [
              "tokenizer_config.json:   0%|          | 0.00/363 [00:00<?, ?B/s]"
            ]
          },
          "metadata": {},
          "output_type": "display_data"
        },
        {
          "data": {
            "application/vnd.jupyter.widget-view+json": {
              "model_id": "817adf2e51e34963aa5ddb859850ddf2",
              "version_major": 2,
              "version_minor": 0
            },
            "text/plain": [
              "vocab.txt:   0%|          | 0.00/232k [00:00<?, ?B/s]"
            ]
          },
          "metadata": {},
          "output_type": "display_data"
        },
        {
          "data": {
            "application/vnd.jupyter.widget-view+json": {
              "model_id": "befef10b1407416c85efe8874cb1df48",
              "version_major": 2,
              "version_minor": 0
            },
            "text/plain": [
              "tokenizer.json:   0%|          | 0.00/466k [00:00<?, ?B/s]"
            ]
          },
          "metadata": {},
          "output_type": "display_data"
        },
        {
          "data": {
            "application/vnd.jupyter.widget-view+json": {
              "model_id": "095ebc0c515d4c02b246b6145267b1de",
              "version_major": 2,
              "version_minor": 0
            },
            "text/plain": [
              "special_tokens_map.json:   0%|          | 0.00/239 [00:00<?, ?B/s]"
            ]
          },
          "metadata": {},
          "output_type": "display_data"
        },
        {
          "data": {
            "text/plain": [
              "('onnx_models/sentence-transformers/all-mpnet-base-v2/tokenizer_config.json',\n",
              " 'onnx_models/sentence-transformers/all-mpnet-base-v2/special_tokens_map.json',\n",
              " 'onnx_models/sentence-transformers/all-mpnet-base-v2/vocab.txt',\n",
              " 'onnx_models/sentence-transformers/all-mpnet-base-v2/added_tokens.json')"
            ]
          },
          "execution_count": 2,
          "metadata": {},
          "output_type": "execute_result"
        }
      ],
      "source": [
        "from transformers import MPNetTokenizer\n",
        "from optimum.onnxruntime import ORTModelForFeatureExtraction\n",
        "\n",
        "MODEL_NAME = \"sentence-transformers/all-mpnet-base-v2\"\n",
        "EXPORT_PATH = f\"onnx_models/{MODEL_NAME}\"\n",
        "\n",
        "ort_model = ORTModelForFeatureExtraction.from_pretrained(MODEL_NAME, export=True)\n",
        "ort_model.save_pretrained(EXPORT_PATH)\n",
        "\n",
        "tokenizer = MPNetTokenizer.from_pretrained(MODEL_NAME)\n",
        "tokenizer.save_pretrained(EXPORT_PATH)"
      ]
    },
    {
      "cell_type": "markdown",
      "metadata": {
        "id": "oWb8t-Owuggq"
      },
      "source": [
        "Let's have a look inside these two directories and see what we are dealing with:"
      ]
    },
    {
      "cell_type": "code",
      "execution_count": 3,
      "metadata": {
        "colab": {
          "base_uri": "https://localhost:8080/",
          "height": 0
        },
        "id": "0bS8CHMOuggr",
        "outputId": "3b6c1822-6d4c-4916-dc92-de612c80cff8"
      },
      "outputs": [
        {
          "name": "stdout",
          "output_type": "stream",
          "text": [
            "total 426552\n",
            "-rw-r--r-- 1 root root       591 Jun 15 23:00 config.json\n",
            "-rw-r--r-- 1 root root 435826548 Jun 15 23:00 model.onnx\n",
            "-rw-r--r-- 1 root root       964 Jun 15 23:00 special_tokens_map.json\n",
            "-rw-r--r-- 1 root root      1475 Jun 15 23:00 tokenizer_config.json\n",
            "-rw-r--r-- 1 root root    710944 Jun 15 23:00 tokenizer.json\n",
            "-rw-r--r-- 1 root root    231536 Jun 15 23:00 vocab.txt\n"
          ]
        }
      ],
      "source": [
        "!ls -l {EXPORT_PATH}"
      ]
    },
    {
      "cell_type": "markdown",
      "metadata": {
        "id": "-kjkHqVB1g33"
      },
      "source": [
        "- Now we need to move `vocab.txt` from the tokenizer into an `assets` folder, which is where Spark NLP expects to find it."
      ]
    },
    {
      "cell_type": "code",
      "execution_count": 4,
      "metadata": {
        "id": "YvofHuncvXbZ"
      },
      "outputs": [],
      "source": [
        "!mkdir -p {EXPORT_PATH}/assets && mv {EXPORT_PATH}/vocab.txt {EXPORT_PATH}/assets/"
      ]
    },
    {
      "cell_type": "code",
      "execution_count": 5,
      "metadata": {
        "colab": {
          "base_uri": "https://localhost:8080/",
          "height": 0
        },
        "id": "2d91Wf_wuggr",
        "outputId": "73f3d082-8099-4d99-b2b9-68710e2e72f4"
      },
      "outputs": [
        {
          "name": "stdout",
          "output_type": "stream",
          "text": [
            "total 228\n",
            "-rw-r--r-- 1 root root 231536 Jun 15 23:00 vocab.txt\n"
          ]
        }
      ],
      "source": [
        "!ls -l {EXPORT_PATH}/assets"
      ]
    },
    {
      "cell_type": "markdown",
      "metadata": {
        "id": "m96ZW-nauLgK"
      },
      "source": [
        "Voila! We have our `vocab.txt` inside assets directory"
      ]
    },
    {
      "cell_type": "markdown",
      "metadata": {
        "id": "s-RDRJoSuggr"
      },
      "source": [
        "## Import and Save MPNet in Spark NLP\n",
        "\n",
        "- **Install and set up Spark NLP in Google Colab**\n",
        "  - This example uses specific versions of `pyspark` and `spark-nlp` that have been tested with the transformer model to ensure everything runs smoothly."
      ]
    },
    {
      "cell_type": "code",
      "execution_count": null,
      "metadata": {
        "id": "5RGNazJYuggr"
      },
      "outputs": [],
      "source": [
        "!pip install -q pyspark==3.5.4 spark-nlp==5.5.3"
      ]
    },
    {
      "cell_type": "markdown",
      "metadata": {
        "id": "eWKB06iyuggs"
      },
      "source": [
        "Let's start Spark with Spark NLP included via our simple `start()` function"
      ]
    },
    {
      "cell_type": "code",
      "execution_count": 7,
      "metadata": {
        "colab": {
          "base_uri": "https://localhost:8080/",
          "height": 0
        },
        "id": "ZhJq0HqNuggs",
        "outputId": "feefcda5-531d-4bf0-cc71-ea1ffe8a12b5"
      },
      "outputs": [
        {
          "name": "stdout",
          "output_type": "stream",
          "text": [
            "Spark NLP version:  5.5.3\n",
            "Apache Spark version:  3.5.4\n"
          ]
        }
      ],
      "source": [
        "import sparknlp\n",
        "\n",
        "spark = sparknlp.start()\n",
        "\n",
        "print(\"Spark NLP version: \", sparknlp.version())\n",
        "print(\"Apache Spark version: \", spark.version)"
      ]
    },
    {
      "cell_type": "markdown",
      "metadata": {
        "id": "ObZqmPfyuggs"
      },
      "source": [
        "- Let's use `loadSavedModel` functon in `MPNetEmbeddings` which allows us to load the ONNX model\n",
        "- Most params will be set automatically. They can also be set later after loading the model in `MPNetEmbeddings` during runtime, so don't worry about setting them now\n",
        "- `loadSavedModel` accepts two params, first is the path to the exported model. The second is the SparkSession that is `spark` variable we previously started via `sparknlp.start()`\n",
        "- NOTE: `loadSavedModel` accepts local paths in addition to distributed file systems such as `HDFS`, `S3`, `DBFS`, etc. This feature was introduced in Spark NLP 4.2.2 release. Keep in mind the best and recommended way to move/share/reuse Spark NLP models is to use `write.save` so you can use `.load()` from any file systems natively.st and recommended way to move/share/reuse Spark NLP models is to use `write.save` so you can use `.load()` from any file systems natively.\n"
      ]
    },
    {
      "cell_type": "code",
      "execution_count": 8,
      "metadata": {
        "id": "dx4ukpUnuggs"
      },
      "outputs": [],
      "source": [
        "from sparknlp.annotator import MPNetEmbeddings\n",
        "\n",
        "MPNet = MPNetEmbeddings.loadSavedModel(f\"{EXPORT_PATH}\", spark)\\\n",
        "    .setInputCols([\"document\"])\\\n",
        "    .setOutputCol(\"MPNet\")"
      ]
    },
    {
      "cell_type": "markdown",
      "metadata": {
        "id": "Hkk77j0Kuggs"
      },
      "source": [
        "- Let's save it on disk so it is easier to be moved around and also be used later via `.load` function"
      ]
    },
    {
      "cell_type": "code",
      "execution_count": 9,
      "metadata": {
        "id": "RDcr4yw3uggs"
      },
      "outputs": [],
      "source": [
        "MPNet.write().overwrite().save(f\"{MODEL_NAME}_spark_nlp\")"
      ]
    },
    {
      "cell_type": "markdown",
      "metadata": {
        "id": "IrTCBiwJuggs"
      },
      "source": [
        "Let's clean up stuff we don't need anymore"
      ]
    },
    {
      "cell_type": "code",
      "execution_count": 10,
      "metadata": {
        "id": "kQ3E7jkvuggt"
      },
      "outputs": [],
      "source": [
        "!rm -rf {EXPORT_PATH}"
      ]
    },
    {
      "cell_type": "markdown",
      "metadata": {
        "id": "He1YmONmuggt"
      },
      "source": [
        "Awesome  😎 !\n",
        "\n",
        "This is your ONNX MPNet model from HuggingFace 🤗  loaded and saved by Spark NLP 🚀"
      ]
    },
    {
      "cell_type": "code",
      "execution_count": 11,
      "metadata": {
        "colab": {
          "base_uri": "https://localhost:8080/",
          "height": 0
        },
        "id": "9C9uJbOduggt",
        "outputId": "86cabc43-63f1-40fd-8101-eb806d760255"
      },
      "outputs": [
        {
          "name": "stdout",
          "output_type": "stream",
          "text": [
            "total 425692\n",
            "drwxr-xr-x 3 root root      4096 Jun 15 23:03 fields\n",
            "drwxr-xr-x 2 root root      4096 Jun 15 23:03 metadata\n",
            "-rw-r--r-- 1 root root 435893187 Jun 15 23:03 mpnet_onnx\n"
          ]
        }
      ],
      "source": [
        "! ls -l {MODEL_NAME}_spark_nlp"
      ]
    },
    {
      "cell_type": "markdown",
      "metadata": {
        "id": "-2zN8oh-uggt"
      },
      "source": [
        "Now let's see how we can use it on other machines, clusters, or any place you wish to use your new and shiny MPNet model 😊"
      ]
    },
    {
      "cell_type": "code",
      "execution_count": 12,
      "metadata": {
        "colab": {
          "base_uri": "https://localhost:8080/",
          "height": 0
        },
        "id": "4bvlRuYpuggt",
        "outputId": "c75ea566-27b4-4af0-df7b-3fe6adca24f1"
      },
      "outputs": [
        {
          "name": "stdout",
          "output_type": "stream",
          "text": [
            "+--------------------+\n",
            "|          embeddings|\n",
            "+--------------------+\n",
            "|[-0.020282406, 0....|\n",
            "+--------------------+\n",
            "\n"
          ]
        }
      ],
      "source": [
        "from sparknlp.base import DocumentAssembler\n",
        "from sparknlp.annotator import MPNetEmbeddings\n",
        "from pyspark.ml import Pipeline\n",
        "\n",
        "document_assembler = DocumentAssembler() \\\n",
        "    .setInputCol(\"text\") \\\n",
        "    .setOutputCol(\"document\")\n",
        "\n",
        "MPNet_loaded = MPNetEmbeddings.load(f\"{MODEL_NAME}_spark_nlp\") \\\n",
        "    .setInputCols([\"document\"]) \\\n",
        "    .setOutputCol(\"MPNet\")\n",
        "\n",
        "pipeline = Pipeline(stages=[\n",
        "    document_assembler,\n",
        "    MPNet_loaded\n",
        "])\n",
        "\n",
        "data = spark.createDataFrame([[\n",
        "    \"William Henry Gates III (born October 28, 1955) is an American business magnate, software developer, investor, and philanthropist.\"\n",
        "]]).toDF(\"text\")\n",
        "\n",
        "model = pipeline.fit(data)\n",
        "result = model.transform(data)\n",
        "\n",
        "result.selectExpr(\"explode(MPNet.embeddings) as embeddings\").show()"
      ]
    },
    {
      "cell_type": "markdown",
      "metadata": {
        "id": "ZgPES1A5uggt"
      },
      "source": [
        "That's it! You can now go wild and use hundreds of MPNet models from HuggingFace 🤗 in Spark NLP 🚀\n"
      ]
    }
  ],
  "metadata": {
    "colab": {
      "provenance": []
    },
    "kernelspec": {
      "display_name": "Python 3 (ipykernel)",
      "language": "python",
      "name": "python3"
    },
    "language_info": {
      "codemirror_mode": {
        "name": "ipython",
        "version": 3
      },
      "file_extension": ".py",
      "mimetype": "text/x-python",
      "name": "python",
      "nbconvert_exporter": "python",
      "pygments_lexer": "ipython3"
    }
  },
  "nbformat": 4,
  "nbformat_minor": 0
}
