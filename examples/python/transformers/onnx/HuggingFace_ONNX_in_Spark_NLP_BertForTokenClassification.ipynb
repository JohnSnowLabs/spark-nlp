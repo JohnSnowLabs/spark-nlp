{
  "cells": [
    {
      "cell_type": "markdown",
      "metadata": {
        "id": "wge9neaHcUAZ"
      },
      "source": [
        "![JohnSnowLabs](https://sparknlp.org/assets/images/logo.png)\n",
        "\n",
        "[![Open In Colab](https://colab.research.google.com/assets/colab-badge.svg)](https://colab.research.google.com/github/JohnSnowLabs/spark-nlp/blob/master/examples/python/transformers/onnx/HuggingFace_ONNX_in_Spark_NLP_BertForTokenClassification.ipynb)\n"
      ]
    },
    {
      "cell_type": "markdown",
      "metadata": {
        "id": "k_1_PsdkcUAa"
      },
      "source": [
        "## Import ONNX BertForTokenClassification models from HuggingFace 🤗  into Spark NLP 🚀\n",
        "\n",
        "Let's keep in mind a few things before we start 😊\n",
        "\n",
        "- ONNX support was introduced in  `Spark NLP 5.0.0`, enabling high performance inference for models.\n",
        "- `BertForTokenClassification` is only available since in `Spark NLP 5.1.3` and after. So please make sure you have upgraded to the latest Spark NLP release\n",
        "- You can import BERT models trained/fine-tuned for token classification via `BertForTokenClassification` or `TFBertForTokenClassification`. These models are usually under `Token Classification` category and have `bert` in their labels\n",
        "- Reference: [TFBertForTokenClassification](https://huggingface.co/transformers/model_doc/bert.html#tfbertfortokenclassification)\n",
        "- Some [example models](https://huggingface.co/models?filter=bert&pipeline_tag=token-classification)"
      ]
    },
    {
      "cell_type": "markdown",
      "metadata": {
        "id": "dM9HTGIdcUAb"
      },
      "source": [
        "## Export and Save HuggingFace model"
      ]
    },
    {
      "cell_type": "markdown",
      "metadata": {
        "id": "bbMnWuqicUAc"
      },
      "source": [
        "- Let's install `transformers` package with the `onnx` extension and it's dependencies. You don't need `onnx` to be installed for Spark NLP, however, we need it to load and save models from HuggingFace.\n",
        "- We lock `transformers` on version `4.48.2`. This doesn't mean it won't work with the future releases\n",
        "- Albert uses SentencePiece, so we will have to install that as well"
      ]
    },
    {
      "cell_type": "code",
      "execution_count": null,
      "metadata": {
        "colab": {
          "base_uri": "https://localhost:8080/"
        },
        "id": "k2NlpZO0cUAc",
        "outputId": "83671c22-8b8a-47f0-f16f-5e9965ce7d50"
      },
      "outputs": [],
      "source": [
        "!pip install -q --upgrade transformers[onnx]==4.48.2 optimum onnx"
      ]
    },
    {
      "cell_type": "markdown",
      "metadata": {
        "id": "zi606bpzcUAd"
      },
      "source": [
        "- HuggingFace has an extension called Optimum which offers specialized model inference, including ONNX. We can use this to import and export ONNX models with `from_pretrained` and `save_pretrained`.\n",
        "- We'll use [dslim/bert-base-NER](https://huggingface.co/dslim/bert-base-NER) model from HuggingFace as an example\n",
        "- In addition to the BERT model, we also need to save the `BertTokenizer`. This is the same for every model, these are assets (saved in `/assets`) needed for tokenization inside Spark NLP."
      ]
    },
    {
      "cell_type": "code",
      "execution_count": null,
      "metadata": {
        "colab": {
          "base_uri": "https://localhost:8080/",
          "height": 452,
          "referenced_widgets": [
            "b5cf8b70fbc2490bb4b3072e531ec510",
            "7cfe498e87b9498291c19d043f28e083",
            "e107e238806945c894124041fab69735",
            "30118163f45d4c0fa98207a4dd4f1678",
            "b23fb53980b34dbb820c8bf4bf6cef2b",
            "f6298c60ca5640ea9e98058b17221dfa",
            "616d69a510ae4744bbbb91999a421981",
            "e53653c25fdc4641a70dc91507932fea",
            "9aab7cc151e34308a0578b39613ed7ba",
            "5b4d91d3c1c64e959f529502a810eb7a",
            "844e708a7df141c8acbed36a7445a40b",
            "ceb1752029e44f5e961817e43b9eb8e1",
            "0b841bc2453c40e385cd6d12061b2eac",
            "80c6f270800a4011970be5e4c01aa462",
            "8fd5b32b7ded4be9b7fc643debed1a2d",
            "b2bd0269b8c54c2da2c64bfc3ac16198",
            "d33639df5f264166963f2002cc70f51c",
            "2adc666da06e4ec2ba797b76389d0a10",
            "b02347c1e5e64631bf09c145538b059b",
            "6edb9fcff4e14b4daf6081cb1c441492",
            "ba3dc918e38f4748b3cd51a4fc57d946",
            "5f5ab2932e284e26ba1c77660a4d31ac",
            "3d1dbbbf99c64a8fb94ddbc8eddeaa66",
            "273dc5422bc549df8025458d070433b8",
            "9efd6fbe4e2744499ca767f381984683",
            "e79c725e9773414089bc84e11c04a7ac",
            "8a3de2adb14942eba512c37c086b2270",
            "509c5bb8455a452f94eba91f77294de6",
            "9318fcb26cb14e42adf6d4d9db76719e",
            "20d1aaa2ab9547ca98be92f13eb43c36",
            "41c4a56f9e3b474189ddcffc3a5db7f9",
            "b36f2b298bce40a3a96c0870daf755fa",
            "a0976d47a42844db9248bdea61d124c2",
            "9eaffd9fb5bb4e85aa0eaacefe54d95a",
            "525684dd5b934429b07077b49fa5fb64",
            "0ad781ca52124851bf3f9b68e63c9f1e",
            "42cf5a322f2c491991103228d5a49852",
            "c1c0f04b64d9497b811dc024a08146c1",
            "b4c2aa222e6d4bd798ca9c67081ae1fe",
            "60fe13d6d9e44fba88dc4cf2b20cde58",
            "e16f9b60b7e542eb8b96b5f747a69897",
            "8b91e25f574445869f1f9a584045fbdc",
            "7f95dcb5047d47f58f42080fd88a5b39",
            "17015657b86e43ecaac3274ed2080a71",
            "d3486c1537f549b8aec7dd116cdaea96",
            "b8659c8d16854e5c87b9f1530f78fe12",
            "a1fb10c1e203496dab279b24543da3d0",
            "8bb78cd98735494091076799302a70a4",
            "cb1f47a4421f4087a39ce8671dd80d39",
            "797dfd8a8bd749389d23b3afe6eeace0",
            "7693f9f8c16644d7a1bd294006549718",
            "50eba42185634faa9b545c7134df08bc",
            "189998ed3270438ebd2e3f3284e43cae",
            "dabf6fc95c344ae9b328f66701da4ea5",
            "6aea039196704308ac01c549bc6fd2fa",
            "b2b3b58f34434c46a1aa08550994c089",
            "fc2c0c2e85bb445ab66a305aa6f410e7",
            "4a8e846d3f7344d38517fe518fbed19f",
            "2b7275bf4b4b4e70b8f57a433c203b96",
            "4aebfc2ee60e4d72b216ac940a53e67a",
            "0f1d9c4575b44092b8d8dd5f3b7f45c9",
            "36af5ef3fffd4e188f174a0f9028d490",
            "e0313b2a620f4daba70c5b8a148478cf",
            "c3f3ed9317634849b709223cb08b60ea",
            "e9b888e971b844e59d95d02a18d23782",
            "534e6af23a784c09b84af6d1fb39b3cd"
          ]
        },
        "id": "lCu9w4lPcUAd",
        "outputId": "bd0541b6-68c5-479f-d4cc-361603b597cd"
      },
      "outputs": [
        {
          "name": "stderr",
          "output_type": "stream",
          "text": [
            "/usr/local/lib/python3.11/dist-packages/huggingface_hub/utils/_auth.py:94: UserWarning: \n",
            "The secret `HF_TOKEN` does not exist in your Colab secrets.\n",
            "To authenticate with the Hugging Face Hub, create a token in your settings tab (https://huggingface.co/settings/tokens), set it as secret in your Google Colab and restart your session.\n",
            "You will be able to reuse this secret in all of your notebooks.\n",
            "Please note that authentication is recommended but still optional to access public models or datasets.\n",
            "  warnings.warn(\n",
            "The model dslim/bert-base-NER was already converted to ONNX but got `export=True`, the model will be converted to ONNX once again. Don't forget to save the resulting model with `.save_pretrained()`\n"
          ]
        },
        {
          "data": {
            "application/vnd.jupyter.widget-view+json": {
              "model_id": "b5cf8b70fbc2490bb4b3072e531ec510",
              "version_major": 2,
              "version_minor": 0
            },
            "text/plain": [
              "config.json:   0%|          | 0.00/829 [00:00<?, ?B/s]"
            ]
          },
          "metadata": {},
          "output_type": "display_data"
        },
        {
          "data": {
            "application/vnd.jupyter.widget-view+json": {
              "model_id": "ceb1752029e44f5e961817e43b9eb8e1",
              "version_major": 2,
              "version_minor": 0
            },
            "text/plain": [
              "model.safetensors:   0%|          | 0.00/433M [00:00<?, ?B/s]"
            ]
          },
          "metadata": {},
          "output_type": "display_data"
        },
        {
          "name": "stderr",
          "output_type": "stream",
          "text": [
            "Some weights of the model checkpoint at dslim/bert-base-NER were not used when initializing BertForTokenClassification: ['bert.pooler.dense.bias', 'bert.pooler.dense.weight']\n",
            "- This IS expected if you are initializing BertForTokenClassification from the checkpoint of a model trained on another task or with another architecture (e.g. initializing a BertForSequenceClassification model from a BertForPreTraining model).\n",
            "- This IS NOT expected if you are initializing BertForTokenClassification from the checkpoint of a model that you expect to be exactly identical (initializing a BertForSequenceClassification model from a BertForSequenceClassification model).\n"
          ]
        },
        {
          "data": {
            "application/vnd.jupyter.widget-view+json": {
              "model_id": "3d1dbbbf99c64a8fb94ddbc8eddeaa66",
              "version_major": 2,
              "version_minor": 0
            },
            "text/plain": [
              "tokenizer_config.json:   0%|          | 0.00/59.0 [00:00<?, ?B/s]"
            ]
          },
          "metadata": {},
          "output_type": "display_data"
        },
        {
          "data": {
            "application/vnd.jupyter.widget-view+json": {
              "model_id": "9eaffd9fb5bb4e85aa0eaacefe54d95a",
              "version_major": 2,
              "version_minor": 0
            },
            "text/plain": [
              "vocab.txt:   0%|          | 0.00/213k [00:00<?, ?B/s]"
            ]
          },
          "metadata": {},
          "output_type": "display_data"
        },
        {
          "data": {
            "application/vnd.jupyter.widget-view+json": {
              "model_id": "d3486c1537f549b8aec7dd116cdaea96",
              "version_major": 2,
              "version_minor": 0
            },
            "text/plain": [
              "added_tokens.json:   0%|          | 0.00/2.00 [00:00<?, ?B/s]"
            ]
          },
          "metadata": {},
          "output_type": "display_data"
        },
        {
          "data": {
            "application/vnd.jupyter.widget-view+json": {
              "model_id": "b2b3b58f34434c46a1aa08550994c089",
              "version_major": 2,
              "version_minor": 0
            },
            "text/plain": [
              "special_tokens_map.json:   0%|          | 0.00/112 [00:00<?, ?B/s]"
            ]
          },
          "metadata": {},
          "output_type": "display_data"
        },
        {
          "data": {
            "text/plain": [
              "('onnx_models/dslim/bert-base-NER/tokenizer_config.json',\n",
              " 'onnx_models/dslim/bert-base-NER/special_tokens_map.json',\n",
              " 'onnx_models/dslim/bert-base-NER/vocab.txt',\n",
              " 'onnx_models/dslim/bert-base-NER/added_tokens.json')"
            ]
          },
          "execution_count": 2,
          "metadata": {},
          "output_type": "execute_result"
        }
      ],
      "source": [
        "from transformers import BertTokenizer\n",
        "from optimum.onnxruntime import ORTModelForTokenClassification\n",
        "\n",
        "MODEL_NAME = \"dslim/bert-base-NER\"\n",
        "EXPORT_PATH = f\"onnx_models/{MODEL_NAME}\"\n",
        "\n",
        "ort_model = ORTModelForTokenClassification.from_pretrained(MODEL_NAME, export=True)\n",
        "ort_model.save_pretrained(EXPORT_PATH)\n",
        "\n",
        "tokenizer = BertTokenizer.from_pretrained(MODEL_NAME)\n",
        "tokenizer.save_pretrained(EXPORT_PATH)"
      ]
    },
    {
      "cell_type": "markdown",
      "metadata": {
        "id": "iyHTpy3BcUAd"
      },
      "source": [
        "Let's have a look inside these two directories and see what we are dealing with:"
      ]
    },
    {
      "cell_type": "code",
      "execution_count": null,
      "metadata": {
        "colab": {
          "base_uri": "https://localhost:8080/"
        },
        "id": "j1abPD6ncUAe",
        "outputId": "21a2cf1a-ea77-483b-a5db-3e7ea2074ea5"
      },
      "outputs": [
        {
          "name": "stdout",
          "output_type": "stream",
          "text": [
            "total 421332\n",
            "-rw-r--r-- 1 root root       999 Jun  9 21:32 config.json\n",
            "-rw-r--r-- 1 root root 431208242 Jun  9 21:32 model.onnx\n",
            "-rw-r--r-- 1 root root       125 Jun  9 21:32 special_tokens_map.json\n",
            "-rw-r--r-- 1 root root      1291 Jun  9 21:32 tokenizer_config.json\n",
            "-rw-r--r-- 1 root root    213450 Jun  9 21:32 vocab.txt\n"
          ]
        }
      ],
      "source": [
        "!ls -l {EXPORT_PATH}"
      ]
    },
    {
      "cell_type": "markdown",
      "metadata": {
        "id": "2c6KuKDPcUAf"
      },
      "source": [
        "- We need to move `vocabs.txt` from the tokenizer to assets folder which Spark NLP will look for\n",
        "- We also need `labels` and their `ids` which is saved inside the model's config. We will save this inside `labels.txt`"
      ]
    },
    {
      "cell_type": "code",
      "execution_count": null,
      "metadata": {
        "id": "VL5fpNBscUAe"
      },
      "outputs": [],
      "source": [
        "!mkdir {EXPORT_PATH}/assets\n",
        "\n",
        "labels = ort_model.config.label2id\n",
        "labels = sorted(labels, key=labels.get)\n",
        "\n",
        "with open(EXPORT_PATH +'/assets/labels.txt', 'w') as f:\n",
        "    f.write('\\n'.join(labels))\n",
        "\n",
        "!mv {EXPORT_PATH}/vocab.txt {EXPORT_PATH}/assets"
      ]
    },
    {
      "cell_type": "code",
      "execution_count": null,
      "metadata": {
        "colab": {
          "base_uri": "https://localhost:8080/"
        },
        "id": "CZAboQ7gcUAf",
        "outputId": "03a1cdc5-d05b-4374-90d2-f207f5a2de08"
      },
      "outputs": [
        {
          "name": "stdout",
          "output_type": "stream",
          "text": [
            "onnx_models/dslim/bert-base-NER:\n",
            "total 421124\n",
            "drwxr-xr-x 2 root root      4096 Jun  9 21:32 assets\n",
            "-rw-r--r-- 1 root root       999 Jun  9 21:32 config.json\n",
            "-rw-r--r-- 1 root root 431208242 Jun  9 21:32 model.onnx\n",
            "-rw-r--r-- 1 root root       125 Jun  9 21:32 special_tokens_map.json\n",
            "-rw-r--r-- 1 root root      1291 Jun  9 21:32 tokenizer_config.json\n",
            "\n",
            "onnx_models/dslim/bert-base-NER/assets:\n",
            "total 216\n",
            "-rw-r--r-- 1 root root     51 Jun  9 21:32 labels.txt\n",
            "-rw-r--r-- 1 root root 213450 Jun  9 21:32 vocab.txt\n"
          ]
        }
      ],
      "source": [
        "!ls -lR {EXPORT_PATH}"
      ]
    },
    {
      "cell_type": "code",
      "execution_count": null,
      "metadata": {
        "colab": {
          "base_uri": "https://localhost:8080/"
        },
        "id": "505Jg4dbmPYb",
        "outputId": "846b9d4c-7f81-4e28-e6a9-f191ee627cd1"
      },
      "outputs": [
        {
          "name": "stdout",
          "output_type": "stream",
          "text": [
            "O\n",
            "B-MISC\n",
            "I-MISC\n",
            "B-PER\n",
            "I-PER\n",
            "B-ORG\n",
            "I-ORG\n",
            "B-LOC\n",
            "I-LOC"
          ]
        }
      ],
      "source": [
        "!cat {EXPORT_PATH}/assets/labels.txt"
      ]
    },
    {
      "cell_type": "markdown",
      "metadata": {
        "id": "2xxMOy5pcUAf"
      },
      "source": [
        "Voila! We have our `vocab.txt` and `labels.txt` inside assets directory"
      ]
    },
    {
      "cell_type": "markdown",
      "metadata": {
        "id": "QYpHWC0PcUAg"
      },
      "source": [
        "## Import and Save BertForTokenClassification in Spark NLP\n"
      ]
    },
    {
      "cell_type": "markdown",
      "metadata": {
        "id": "ggAkiWrHcUAg"
      },
      "source": [
        "Let's install and setup Spark NLP in Google Colab. For this example, we'll use specific versions of `pyspark` and `spark-nlp` that we've already tested with this transformer model to make sure everything runs smoothly:\n",
        "\n",
        "If you prefer to use the latest versions, feel free to run:\n",
        "\n",
        "`!pip install -q pyspark spark-nlp`\n",
        "\n",
        "Just keep in mind that newer versions might have some changes, so you may need to tweak your code a bit if anything breaks."
      ]
    },
    {
      "cell_type": "code",
      "execution_count": null,
      "metadata": {
        "colab": {
          "base_uri": "https://localhost:8080/"
        },
        "id": "2WziPR0jcUAg",
        "outputId": "7b238d88-ab3a-48c7-cf08-dc5b51e85f3e"
      },
      "outputs": [
        {
          "name": "stdout",
          "output_type": "stream",
          "text": [
            "\u001b[2K     \u001b[90m━━━━━━━━━━━━━━━━━━━━━━━━━━━━━━━━━━━━━━━\u001b[0m \u001b[32m317.3/317.3 MB\u001b[0m \u001b[31m4.7 MB/s\u001b[0m eta \u001b[36m0:00:00\u001b[0m\n",
            "\u001b[?25h  Preparing metadata (setup.py) ... \u001b[?25l\u001b[?25hdone\n",
            "\u001b[2K   \u001b[90m━━━━━━━━━━━━━━━━━━━━━━━━━━━━━━━━━━━━━━━━\u001b[0m \u001b[32m635.7/635.7 kB\u001b[0m \u001b[31m28.5 MB/s\u001b[0m eta \u001b[36m0:00:00\u001b[0m\n",
            "\u001b[?25h  Building wheel for pyspark (setup.py) ... \u001b[?25l\u001b[?25hdone\n"
          ]
        }
      ],
      "source": [
        "!pip install -q pyspark==3.5.4 spark-nlp==5.5.3"
      ]
    },
    {
      "cell_type": "markdown",
      "metadata": {
        "id": "bNieyHrGcUAg"
      },
      "source": [
        "Let's start Spark with Spark NLP included via our simple `start()` function"
      ]
    },
    {
      "cell_type": "code",
      "execution_count": null,
      "metadata": {
        "colab": {
          "base_uri": "https://localhost:8080/"
        },
        "id": "-8B48Bp5cUAg",
        "outputId": "0b758a97-df23-4ef8-e8ea-c63ec93d6345"
      },
      "outputs": [
        {
          "name": "stdout",
          "output_type": "stream",
          "text": [
            "Spark NLP version:  5.5.3\n",
            "Apache Spark version:  3.5.4\n"
          ]
        }
      ],
      "source": [
        "import sparknlp\n",
        "\n",
        "spark = sparknlp.start()\n",
        "\n",
        "print(\"Spark NLP version: \", sparknlp.version())\n",
        "print(\"Apache Spark version: \", spark.version)"
      ]
    },
    {
      "cell_type": "markdown",
      "metadata": {
        "id": "egGK2S6OcUAg"
      },
      "source": [
        "- Let's use `loadSavedModel` functon in `BertForTokenClassification` which allows us to load TensorFlow model in SavedModel format\n",
        "- Most params can be set later when you are loading this model in `BertForTokenClassification` in runtime like `setMaxSentenceLength`, so don't worry what you are setting them now\n",
        "- `loadSavedModel` accepts two params, first is the path to the TF SavedModel. The second is the SparkSession that is `spark` variable we previously started via `sparknlp.start()`\n",
        "- NOTE: `loadSavedModel` accepts local paths in addition to distributed file systems such as `HDFS`, `S3`, `DBFS`, etc. This feature was introduced in Spark NLP 4.2.2 release. Keep in mind the best and recommended way to move/share/reuse Spark NLP models is to use `write.save` so you can use `.load()` from any file systems natively.\n",
        "\n",
        "\n"
      ]
    },
    {
      "cell_type": "code",
      "execution_count": null,
      "metadata": {
        "id": "BRJpOGuFcUAh"
      },
      "outputs": [],
      "source": [
        "from sparknlp.annotator import BertForTokenClassification\n",
        "\n",
        "tokenClassifier = BertForTokenClassification\\\n",
        "  .loadSavedModel(EXPORT_PATH, spark)\\\n",
        "  .setInputCols([\"document\",'token'])\\\n",
        "  .setOutputCol(\"ner\")\\\n",
        "  .setCaseSensitive(True)\\\n",
        "  .setMaxSentenceLength(128)"
      ]
    },
    {
      "cell_type": "markdown",
      "metadata": {
        "id": "tcAqsEKacUAh"
      },
      "source": [
        "- Let's save it on disk so it is easier to be moved around and also be used later via `.load` function"
      ]
    },
    {
      "cell_type": "code",
      "execution_count": null,
      "metadata": {
        "id": "086c4SCicUAh"
      },
      "outputs": [],
      "source": [
        "tokenClassifier.write().overwrite().save(\"./{}_spark_nlp_onnx\".format(MODEL_NAME))"
      ]
    },
    {
      "cell_type": "markdown",
      "metadata": {
        "id": "8RDVBHOtcUAh"
      },
      "source": [
        "Let's clean up stuff we don't need anymore"
      ]
    },
    {
      "cell_type": "code",
      "execution_count": null,
      "metadata": {
        "id": "cY1hOCehcUAh"
      },
      "outputs": [],
      "source": [
        "!rm -rf {EXPORT_PATH}"
      ]
    },
    {
      "cell_type": "markdown",
      "metadata": {
        "id": "X9R0uYV0cUAh"
      },
      "source": [
        "Awesome 😎  !\n",
        "\n",
        "This is your BertForTokenClassification model from HuggingFace 🤗  loaded and saved by Spark NLP 🚀"
      ]
    },
    {
      "cell_type": "code",
      "execution_count": null,
      "metadata": {
        "colab": {
          "base_uri": "https://localhost:8080/"
        },
        "id": "5uQBQezscUAi",
        "outputId": "23677112-0ff1-482b-cc6f-2895f6fa2cdc"
      },
      "outputs": [
        {
          "name": "stdout",
          "output_type": "stream",
          "text": [
            "total 421180\n",
            "-rw-r--r-- 1 root root 431274176 Jun  9 21:35 bert_classification_onnx\n",
            "drwxr-xr-x 4 root root      4096 Jun  9 21:35 fields\n",
            "drwxr-xr-x 2 root root      4096 Jun  9 21:35 metadata\n"
          ]
        }
      ],
      "source": [
        "! ls -l {MODEL_NAME}_spark_nlp_onnx"
      ]
    },
    {
      "cell_type": "markdown",
      "metadata": {
        "id": "gkSK-1a9cUAi"
      },
      "source": [
        "Now let's see how we can use it on other machines, clusters, or any place you wish to use your new and shiny BertForTokenClassification model 😊"
      ]
    },
    {
      "cell_type": "code",
      "execution_count": null,
      "metadata": {
        "id": "GdEAygg4cUAi"
      },
      "outputs": [],
      "source": [
        "tokenClassifier_loaded = BertForTokenClassification.load(\"./{}_spark_nlp_onnx\".format(MODEL_NAME))\\\n",
        "  .setInputCols([\"document\",'token'])\\\n",
        "  .setOutputCol(\"ner\")"
      ]
    },
    {
      "cell_type": "markdown",
      "metadata": {
        "id": "PJ7w1Lp2cUAi"
      },
      "source": [
        "You can see what labels were used to train this model via `getClasses` function:"
      ]
    },
    {
      "cell_type": "code",
      "execution_count": null,
      "metadata": {
        "colab": {
          "base_uri": "https://localhost:8080/"
        },
        "id": "QoKswM30cUAi",
        "outputId": "dfa41358-5e82-4ede-d90f-dbe891726a51"
      },
      "outputs": [
        {
          "data": {
            "text/plain": [
              "['B-LOC', 'I-ORG', 'I-MISC', 'I-LOC', 'I-PER', 'B-MISC', 'B-ORG', 'O', 'B-PER']"
            ]
          },
          "execution_count": 16,
          "metadata": {},
          "output_type": "execute_result"
        }
      ],
      "source": [
        "tokenClassifier_loaded.getClasses()"
      ]
    },
    {
      "cell_type": "markdown",
      "metadata": {
        "id": "Rl2LdkXbcUAi"
      },
      "source": [
        "This is how you can use your loaded classifier model in Spark NLP 🚀 pipeline:"
      ]
    },
    {
      "cell_type": "code",
      "execution_count": null,
      "metadata": {
        "colab": {
          "base_uri": "https://localhost:8080/"
        },
        "id": "pIfZ3jfzcUAj",
        "outputId": "3b1b74d8-f8b4-4517-8653-12b53ccc41b4"
      },
      "outputs": [
        {
          "name": "stdout",
          "output_type": "stream",
          "text": [
            "+--------------------------------------------------------------------------------------+-----------------------------------------------------------------------+\n",
            "|text                                                                                  |result                                                                 |\n",
            "+--------------------------------------------------------------------------------------+-----------------------------------------------------------------------+\n",
            "|Barack Obama was born in Hawaii and served as the 44th President of the United States.|[B-PER, I-PER, O, O, O, B-LOC, O, O, O, O, O, O, O, O, B-LOC, I-LOC, O]|\n",
            "|Google was founded in September 1998 by Larry Page and Sergey Brin in California.     |[B-ORG, O, O, O, O, O, O, B-PER, I-PER, O, B-PER, I-PER, O, B-LOC, O]  |\n",
            "|The Eiffel Tower is located in Paris and was completed in 1889.                       |[O, B-LOC, I-LOC, O, O, O, B-LOC, O, O, O, O, O, O]                    |\n",
            "+--------------------------------------------------------------------------------------+-----------------------------------------------------------------------+\n",
            "\n",
            "+-------------+------+\n",
            "|text         |entity|\n",
            "+-------------+------+\n",
            "|Barack Obama |PER   |\n",
            "|Hawaii       |LOC   |\n",
            "|United States|LOC   |\n",
            "|Google       |ORG   |\n",
            "|Larry Page   |PER   |\n",
            "|Sergey Brin  |PER   |\n",
            "|California   |LOC   |\n",
            "|Eiffel Tower |LOC   |\n",
            "|Paris        |LOC   |\n",
            "+-------------+------+\n",
            "\n"
          ]
        }
      ],
      "source": [
        "from sparknlp.base import DocumentAssembler\n",
        "from sparknlp.annotator import Tokenizer, NerConverter\n",
        "from pyspark.ml import Pipeline\n",
        "\n",
        "document_assembler = DocumentAssembler() \\\n",
        "    .setInputCol(\"text\") \\\n",
        "    .setOutputCol(\"document\")\n",
        "\n",
        "tokenizer = Tokenizer() \\\n",
        "    .setInputCols([\"document\"]) \\\n",
        "    .setOutputCol(\"token\")\n",
        "\n",
        "converter = NerConverter() \\\n",
        "    .setInputCols([\"document\", \"token\", \"ner\"]) \\\n",
        "    .setOutputCol(\"ner_chunk\")\n",
        "\n",
        "pipeline = Pipeline(stages=[\n",
        "    document_assembler,\n",
        "    tokenizer,\n",
        "    tokenClassifier_loaded,\n",
        "    converter\n",
        "])\n",
        "\n",
        "example = spark.createDataFrame([\n",
        "    [\"Barack Obama was born in Hawaii and served as the 44th President of the United States.\"],\n",
        "    [\"Google was founded in September 1998 by Larry Page and Sergey Brin in California.\"],\n",
        "    [\"The Eiffel Tower is located in Paris and was completed in 1889.\"],\n",
        "]).toDF(\"text\")\n",
        "\n",
        "result = pipeline.fit(example).transform(example)\n",
        "result.select(\"text\", \"ner.result\").show(truncate=False)\n",
        "\n",
        "result.selectExpr(\"explode(ner_chunk) as chunk\").selectExpr(\n",
        "    \"chunk.result as text\",\n",
        "    \"chunk.metadata['entity'] as entity\"\n",
        ").show(truncate=False)"
      ]
    },
    {
      "cell_type": "markdown",
      "metadata": {
        "id": "0kKV2puNcUAj"
      },
      "source": [
        "That's it! You can now go wild and use hundreds of `BertForTokenClassification` models from HuggingFace 🤗 in Spark NLP 🚀\n"
      ]
    }
  ],
  "metadata": {
    "colab": {
      "provenance": []
    },
    "kernelspec": {
      "display_name": "Python 3 (ipykernel)",
      "language": "python",
      "name": "python3"
    },
    "language_info": {
      "codemirror_mode": {
        "name": "ipython",
        "version": 3
      },
      "file_extension": ".py",
      "mimetype": "text/x-python",
      "name": "python",
      "nbconvert_exporter": "python",
      "pygments_lexer": "ipython3"
    }
  },
  "nbformat": 4,
  "nbformat_minor": 0
}
