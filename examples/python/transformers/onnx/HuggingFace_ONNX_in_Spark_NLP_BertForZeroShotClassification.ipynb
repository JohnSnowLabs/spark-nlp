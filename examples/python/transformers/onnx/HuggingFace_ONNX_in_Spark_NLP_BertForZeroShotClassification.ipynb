{
  "cells": [
    {
      "cell_type": "markdown",
      "metadata": {
        "id": "--cKevCoIa-H"
      },
      "source": [
        "![JohnSnowLabs](https://sparknlp.org/assets/images/logo.png)\n",
        "\n",
        "[![Open In Colab](https://colab.research.google.com/assets/colab-badge.svg)](https://colab.research.google.com/github/JohnSnowLabs/spark-nlp/blob/master/examples/python/transformers/onnx/HuggingFace_ONNX_in_Spark_NLP_BertForZeroShotClassification.ipynb)"
      ]
    },
    {
      "cell_type": "markdown",
      "metadata": {
        "id": "TRHZqs3_Ia-K"
      },
      "source": [
        "## Import ONNX BertForZeroShotClassification  models from HuggingFace 🤗  into Spark NLP 🚀\n",
        "\n",
        "Let's keep in mind a few things before we start 😊\n",
        "\n",
        "- ONNX support was introduced in  `Spark NLP 5.0.0`, enabling high performance inference for models.\n",
        "- `BertForZeroShotClassification ` is only available since in `Spark NLP 5.2.4` and after. So please make sure you have upgraded to the latest Spark NLP release\n",
        "- You can import BERT models trained/fine-tuned for zero shot classification via `BertForSequenceClassification` or `TFBertForSequenceClassification`. These models are usually under `Zero-Shot Classification` category and have `bert` in their labels\n",
        "- Reference: [TFBertForSequenceClassification](https://huggingface.co/transformers/model_doc/bert.html#tfbertforsequenceclassification)\n",
        "- Some [example models](https://huggingface.co/models?pipeline_tag=zero-shot-classification&sort=downloads&search=bert)"
      ]
    },
    {
      "cell_type": "markdown",
      "metadata": {
        "id": "8LCRIr5CIa-L"
      },
      "source": [
        "## Export and Save HuggingFace model"
      ]
    },
    {
      "cell_type": "markdown",
      "metadata": {
        "id": "7BVIcWgIIa-L"
      },
      "source": [
        "- Let's install `transformers` package with the `onnx` extension and it's dependencies. You don't need `onnx` to be installed for Spark NLP, however, we need it to load and save models from HuggingFace.\n",
        "- We lock `transformers` on version `4.51.3`. This doesn't mean it won't work with the future releases, but we wanted you to know which versions have been tested successfully.\n",
        "- Albert uses SentencePiece, so we will have to install that as well"
      ]
    },
    {
      "cell_type": "code",
      "execution_count": null,
      "metadata": {
        "colab": {
          "base_uri": "https://localhost:8080/"
        },
        "id": "JWq3jKsZIa-M",
        "outputId": "a75f3eeb-15c5-4009-c067-92ec55ed7661"
      },
      "outputs": [],
      "source": [
        "!pip install -q --upgrade transformers[onnx]==4.51.3 optimum onnx"
      ]
    },
    {
      "cell_type": "markdown",
      "metadata": {
        "id": "ZUcSvXHOIa-N"
      },
      "source": [
        "- HuggingFace has an extension called Optimum which offers specialized model inference, including ONNX. We can use this to import and export ONNX models with `from_pretrained` and `save_pretrained`.\n",
        "- We'll use [NbAiLab/nb-bert-base-mnli](https://huggingface.co/NbAiLab/nb-bert-base-mnli) model from HuggingFace as an example and load it as a `ORTModelForSequenceClassification`, representing an ONNX model.\n",
        "- In addition to the BERT model, we also need to save the `BertTokenizer`. This is the same for every model, these are assets (saved in `/assets`) needed for tokenization inside Spark NLP."
      ]
    },
    {
      "cell_type": "code",
      "execution_count": 9,
      "metadata": {
        "colab": {
          "base_uri": "https://localhost:8080/"
        },
        "id": "TFRXvXDaIa-N",
        "outputId": "459e3e49-74bf-45ff-f507-1d6a3c1f66b2"
      },
      "outputs": [
        {
          "data": {
            "text/plain": [
              "('onnx_models/aloxatel/bert-base-mnli/tokenizer_config.json',\n",
              " 'onnx_models/aloxatel/bert-base-mnli/special_tokens_map.json',\n",
              " 'onnx_models/aloxatel/bert-base-mnli/vocab.txt',\n",
              " 'onnx_models/aloxatel/bert-base-mnli/added_tokens.json')"
            ]
          },
          "execution_count": 9,
          "metadata": {},
          "output_type": "execute_result"
        }
      ],
      "source": [
        "from transformers import BertTokenizer\n",
        "from optimum.onnxruntime import ORTModelForSequenceClassification\n",
        "\n",
        "MODEL_NAME = \"aloxatel/bert-base-mnli\"\n",
        "EXPORT_PATH = f\"onnx_models/{MODEL_NAME}\"\n",
        "\n",
        "ort_model = ORTModelForSequenceClassification.from_pretrained(MODEL_NAME, export=True)\n",
        "ort_model.save_pretrained(EXPORT_PATH)\n",
        "\n",
        "tokenizer = BertTokenizer.from_pretrained(MODEL_NAME)\n",
        "tokenizer.save_pretrained(EXPORT_PATH)"
      ]
    },
    {
      "cell_type": "markdown",
      "metadata": {
        "id": "S0eUgEVWIa-N"
      },
      "source": [
        "Let's have a look inside these two directories and see what we are dealing with:"
      ]
    },
    {
      "cell_type": "code",
      "execution_count": 3,
      "metadata": {
        "colab": {
          "base_uri": "https://localhost:8080/"
        },
        "id": "iB88CBsFIa-O",
        "outputId": "d7a1aebd-8382-4202-8bec-ef5807f55ca2"
      },
      "outputs": [
        {
          "name": "stdout",
          "output_type": "stream",
          "text": [
            "total 427980\n",
            "-rw-r--r-- 1 root root       767 Jun 10 19:18 config.json\n",
            "-rw-r--r-- 1 root root 438240610 Jun 10 19:18 model.onnx\n"
          ]
        }
      ],
      "source": [
        "!ls -l {EXPORT_PATH}"
      ]
    },
    {
      "cell_type": "markdown",
      "metadata": {
        "id": "0xJv_Ym6Ia-O"
      },
      "source": [
        "- We need to move `vocabs.txt` from the tokenizer to assets folder which Spark NLP will look for\n",
        "- We also need `labels` and their `ids` which is saved inside the model's config. We will save this inside `labels.txt`"
      ]
    },
    {
      "cell_type": "code",
      "execution_count": 10,
      "metadata": {
        "id": "zW3B_6NpIa-O"
      },
      "outputs": [],
      "source": [
        "!mkdir -p {EXPORT_PATH}/assets\n",
        "\n",
        "labels = ort_model.config.id2label\n",
        "sorted_labels = [label for _, label in sorted(labels.items())]\n",
        "\n",
        "with open(f\"{EXPORT_PATH}/assets/labels.txt\", \"w\") as f:\n",
        "    f.write(\"\\n\".join(sorted_labels))\n",
        "\n",
        "!mv {EXPORT_PATH}/vocab.txt {EXPORT_PATH}/assets/"
      ]
    },
    {
      "cell_type": "code",
      "execution_count": 11,
      "metadata": {
        "colab": {
          "base_uri": "https://localhost:8080/"
        },
        "id": "zljnvO-sRICe",
        "outputId": "62ee043a-b1e1-4ee1-ea20-40dc3df3ea6e"
      },
      "outputs": [
        {
          "name": "stdout",
          "output_type": "stream",
          "text": [
            "contradiction\n",
            "entailment\n",
            "neutral"
          ]
        }
      ],
      "source": [
        "!cat {EXPORT_PATH}/assets/labels.txt"
      ]
    },
    {
      "cell_type": "code",
      "execution_count": 12,
      "metadata": {
        "colab": {
          "base_uri": "https://localhost:8080/"
        },
        "id": "0pFiGs-JIa-P",
        "outputId": "75075398-155e-4335-f883-f06e772a846d"
      },
      "outputs": [
        {
          "name": "stdout",
          "output_type": "stream",
          "text": [
            "onnx_models/aloxatel/bert-base-mnli:\n",
            "total 427988\n",
            "drwxr-xr-x 2 root root      4096 Jun 10 19:27 assets\n",
            "-rw-r--r-- 1 root root       767 Jun 10 19:24 config.json\n",
            "-rw-r--r-- 1 root root 438240610 Jun 10 19:24 model.onnx\n",
            "-rw-r--r-- 1 root root       125 Jun 10 19:24 special_tokens_map.json\n",
            "-rw-r--r-- 1 root root      1272 Jun 10 19:24 tokenizer_config.json\n",
            "\n",
            "onnx_models/aloxatel/bert-base-mnli/assets:\n",
            "total 232\n",
            "-rw-r--r-- 1 root root     32 Jun 10 19:27 labels.txt\n",
            "-rw-r--r-- 1 root root 231508 Jun 10 19:24 vocab.txt\n"
          ]
        }
      ],
      "source": [
        "!ls -lR {EXPORT_PATH}"
      ]
    },
    {
      "cell_type": "markdown",
      "metadata": {
        "id": "x62NBcHGIa-P"
      },
      "source": [
        "Voila! We have our `vocab.txt` and `labels.txt` inside assets directory"
      ]
    },
    {
      "cell_type": "markdown",
      "metadata": {
        "id": "l-C852aXIa-P"
      },
      "source": [
        "## Import and Save BertForZeroShotClassification in Spark NLP\n"
      ]
    },
    {
      "cell_type": "markdown",
      "metadata": {
        "id": "7hz_kca2Ia-P"
      },
      "source": [
        "Let's install and setup Spark NLP in Google Colab. For this example, we'll use specific versions of `pyspark` and `spark-nlp` that we've already tested with this transformer model to make sure everything runs smoothly:\n",
        "\n",
        "If you prefer to use the latest versions, feel free to run:\n",
        "\n",
        "`!pip install -q pyspark spark-nlp`\n",
        "\n",
        "Just keep in mind that newer versions might have some changes, so you may need to tweak your code a bit if anything breaks."
      ]
    },
    {
      "cell_type": "code",
      "execution_count": 6,
      "metadata": {
        "colab": {
          "base_uri": "https://localhost:8080/"
        },
        "id": "kpp5CCPFIa-P",
        "outputId": "b6d1d46e-7203-4b3f-a7e9-dc30db122d37"
      },
      "outputs": [
        {
          "name": "stdout",
          "output_type": "stream",
          "text": [
            "\u001b[2K     \u001b[90m━━━━━━━━━━━━━━━━━━━━━━━━━━━━━━━━━━━━━━━\u001b[0m \u001b[32m317.3/317.3 MB\u001b[0m \u001b[31m5.2 MB/s\u001b[0m eta \u001b[36m0:00:00\u001b[0m\n",
            "\u001b[?25h  Preparing metadata (setup.py) ... \u001b[?25l\u001b[?25hdone\n",
            "\u001b[2K   \u001b[90m━━━━━━━━━━━━━━━━━━━━━━━━━━━━━━━━━━━━━━━━\u001b[0m \u001b[32m635.7/635.7 kB\u001b[0m \u001b[31m49.0 MB/s\u001b[0m eta \u001b[36m0:00:00\u001b[0m\n",
            "\u001b[?25h  Building wheel for pyspark (setup.py) ... \u001b[?25l\u001b[?25hdone\n"
          ]
        }
      ],
      "source": [
        "!pip install -q pyspark==3.5.4 spark-nlp==5.5.3"
      ]
    },
    {
      "cell_type": "markdown",
      "metadata": {
        "id": "hx1JiEQpIa-P"
      },
      "source": [
        "Let's start Spark with Spark NLP included via our simple `start()` function"
      ]
    },
    {
      "cell_type": "code",
      "execution_count": 7,
      "metadata": {
        "colab": {
          "base_uri": "https://localhost:8080/"
        },
        "id": "YN0G4e8zIa-Q",
        "outputId": "80f6d5b8-8093-4960-c2df-b9511d12d7ae"
      },
      "outputs": [
        {
          "name": "stdout",
          "output_type": "stream",
          "text": [
            "Spark NLP version:  5.5.3\n",
            "Apache Spark version:  3.5.4\n"
          ]
        }
      ],
      "source": [
        "import sparknlp\n",
        "\n",
        "spark = sparknlp.start()\n",
        "\n",
        "print(\"Spark NLP version: \", sparknlp.version())\n",
        "print(\"Apache Spark version: \", spark.version)"
      ]
    },
    {
      "cell_type": "markdown",
      "metadata": {
        "id": "olspzeUzIa-Q"
      },
      "source": [
        "- Let's use `loadSavedModel` functon in `BertForZeroShotClassification` which allows us to load TensorFlow model in SavedModel format\n",
        "- Most params can be set later when you are loading this model in `BertForZeroShotClassification` in runtime like `setMaxSentenceLength`, so don't worry what you are setting them now\n",
        "- `loadSavedModel` accepts two params, first is the path to the TF SavedModel. The second is the SparkSession that is `spark` variable we previously started via `sparknlp.start()`\n",
        "- NOTE: `loadSavedModel` accepts local paths in addition to distributed file systems such as `HDFS`, `S3`, `DBFS`, etc. This feature was introduced in Spark NLP 4.2.2 release. Keep in mind the best and recommended way to move/share/reuse Spark NLP models is to use `write.save` so you can use `.load()` from any file systems natively.\n"
      ]
    },
    {
      "cell_type": "code",
      "execution_count": 13,
      "metadata": {
        "id": "x_OPX_LwIa-Q"
      },
      "outputs": [],
      "source": [
        "from sparknlp.annotator import BertForZeroShotClassification\n",
        "\n",
        "zero_shot_classifier = BertForZeroShotClassification.loadSavedModel(\n",
        "      EXPORT_PATH,\n",
        "      spark\n",
        "      )\\\n",
        "    .setInputCols([\"document\", \"token\"]) \\\n",
        "    .setOutputCol(\"class\") \\\n",
        "    .setCandidateLabels([\"urgent\", \"mobile\", \"travel\", \"movie\", \"music\", \"sport\", \"weather\", \"technology\"])"
      ]
    },
    {
      "cell_type": "markdown",
      "metadata": {
        "id": "6z3535oxIa-Q"
      },
      "source": [
        "- Let's save it on disk so it is easier to be moved around and also be used later via `.load` function"
      ]
    },
    {
      "cell_type": "code",
      "execution_count": 14,
      "metadata": {
        "id": "fAnOsogWIa-Q"
      },
      "outputs": [],
      "source": [
        "zero_shot_classifier.write().overwrite().save(\"./{}_spark_nlp_onnx\".format(MODEL_NAME))"
      ]
    },
    {
      "cell_type": "markdown",
      "metadata": {
        "id": "MHv90c2gIa-Q"
      },
      "source": [
        "Let's clean up stuff we don't need anymore"
      ]
    },
    {
      "cell_type": "code",
      "execution_count": 15,
      "metadata": {
        "id": "pj1rmC0oIa-Q"
      },
      "outputs": [],
      "source": [
        "!rm -rf {EXPORT_PATH}"
      ]
    },
    {
      "cell_type": "markdown",
      "metadata": {
        "id": "ZQkeSHABIa-Q"
      },
      "source": [
        "Awesome 😎  !\n",
        "\n",
        "This is your BertForZeroShotClassification model from HuggingFace 🤗  loaded and saved by Spark NLP 🚀"
      ]
    },
    {
      "cell_type": "code",
      "execution_count": 16,
      "metadata": {
        "colab": {
          "base_uri": "https://localhost:8080/"
        },
        "id": "IlQgFzOVIa-R",
        "outputId": "faee0d95-e147-4aeb-e2c0-fcdd39400fcb"
      },
      "outputs": [
        {
          "name": "stdout",
          "output_type": "stream",
          "text": [
            "total 428048\n",
            "-rw-r--r-- 1 root root 438307619 Jun 10 19:28 bert_classification_onnx\n",
            "drwxr-xr-x 4 root root      4096 Jun 10 19:28 fields\n",
            "drwxr-xr-x 2 root root      4096 Jun 10 19:28 metadata\n"
          ]
        }
      ],
      "source": [
        "! ls -l {MODEL_NAME}_spark_nlp_onnx"
      ]
    },
    {
      "cell_type": "markdown",
      "metadata": {
        "id": "ZOWEwUgIIa-R"
      },
      "source": [
        "Now let's see how we can use it on other machines, clusters, or any place you wish to use your new and shiny BertForZeroShotClassification model 😊"
      ]
    },
    {
      "cell_type": "code",
      "execution_count": 17,
      "metadata": {
        "id": "pjY6sJg4Ia-R"
      },
      "outputs": [],
      "source": [
        "zero_shot_classifier_loaded = BertForZeroShotClassification.load(\"./{}_spark_nlp_onnx\".format(MODEL_NAME))\\\n",
        "  .setInputCols([\"document\",'token'])\\\n",
        "  .setOutputCol(\"class\")"
      ]
    },
    {
      "cell_type": "markdown",
      "metadata": {
        "id": "LZBSoWZ2Ia-R"
      },
      "source": [
        "You can see what labels were used to train this model via `getClasses` function:"
      ]
    },
    {
      "cell_type": "code",
      "execution_count": 18,
      "metadata": {
        "colab": {
          "base_uri": "https://localhost:8080/"
        },
        "id": "0Ajr2D7_Ia-R",
        "outputId": "4f942a09-f8b0-4a79-dd88-f6d8e55754f4"
      },
      "outputs": [
        {
          "data": {
            "text/plain": [
              "['contradiction', 'entailment', 'neutral']"
            ]
          },
          "execution_count": 18,
          "metadata": {},
          "output_type": "execute_result"
        }
      ],
      "source": [
        "zero_shot_classifier_loaded.getClasses()"
      ]
    },
    {
      "cell_type": "markdown",
      "metadata": {
        "id": "FOXmXmJ0Ia-R"
      },
      "source": [
        "This is how you can use your loaded classifier model in Spark NLP 🚀 pipeline:"
      ]
    },
    {
      "cell_type": "code",
      "execution_count": 19,
      "metadata": {
        "colab": {
          "base_uri": "https://localhost:8080/"
        },
        "id": "TnVWgWVdIa-R",
        "outputId": "65660a1f-b97a-4378-d0a9-03eeacbbcdfe"
      },
      "outputs": [
        {
          "name": "stdout",
          "output_type": "stream",
          "text": [
            "+--------------------------------------------------------------------------------------------------------------+------------+\n",
            "|text                                                                                                          |result      |\n",
            "+--------------------------------------------------------------------------------------------------------------+------------+\n",
            "|I have a problem with my iPhone that needs to be resolved ASAP!!                                              |[urgent]    |\n",
            "|Last week I upgraded my iOS version and ever since then my phone has been overheating whenever I use your app.|[technology]|\n",
            "|I have a phone and I love it!                                                                                 |[mobile]    |\n",
            "|I really want to visit Germany and I am planning to go there next year.                                       |[travel]    |\n",
            "|Let's watch some movies tonight! I am in the mood for a horror movie.                                         |[movie]     |\n",
            "|Have you watched the match yesterday? It was a great game!                                                    |[sport]     |\n",
            "|We need to hurry up and get to the airport. We are going to miss our flight!                                  |[urgent]    |\n",
            "+--------------------------------------------------------------------------------------------------------------+------------+\n",
            "\n"
          ]
        }
      ],
      "source": [
        "from sparknlp.base import DocumentAssembler\n",
        "from sparknlp.annotator import Tokenizer\n",
        "from pyspark.ml import Pipeline\n",
        "\n",
        "document_assembler = DocumentAssembler() \\\n",
        "    .setInputCol(\"text\") \\\n",
        "    .setOutputCol(\"document\")\n",
        "\n",
        "tokenizer = Tokenizer() \\\n",
        "    .setInputCols([\"document\"]) \\\n",
        "    .setOutputCol(\"token\")\n",
        "\n",
        "pipeline = Pipeline(stages=[\n",
        "    document_assembler,\n",
        "    tokenizer,\n",
        "    zero_shot_classifier_loaded\n",
        "])\n",
        "\n",
        "sample_texts = [\n",
        "    [\"I have a problem with my iPhone that needs to be resolved ASAP!!\"],\n",
        "    [\"Last week I upgraded my iOS version and ever since then my phone has been overheating whenever I use your app.\"],\n",
        "    [\"I have a phone and I love it!\"],\n",
        "    [\"I really want to visit Germany and I am planning to go there next year.\"],\n",
        "    [\"Let's watch some movies tonight! I am in the mood for a horror movie.\"],\n",
        "    [\"Have you watched the match yesterday? It was a great game!\"],\n",
        "    [\"We need to hurry up and get to the airport. We are going to miss our flight!\"]\n",
        "]\n",
        "\n",
        "input_df = spark.createDataFrame(sample_texts, [\"text\"])\n",
        "\n",
        "model = pipeline.fit(input_df)\n",
        "results = model.transform(input_df)\n",
        "\n",
        "results.select(\"text\", \"class.result\").show(truncate=False)"
      ]
    },
    {
      "cell_type": "markdown",
      "metadata": {
        "id": "tqYx355VIa-S"
      },
      "source": [
        "That's it! You can now go wild and use hundreds of `BertForSequenceClassification` models from HuggingFace 🤗 in Spark NLP 🚀\n"
      ]
    }
  ],
  "metadata": {
    "accelerator": "GPU",
    "colab": {
      "gpuType": "T4",
      "provenance": []
    },
    "kernelspec": {
      "display_name": "Python 3",
      "name": "python3"
    },
    "language_info": {
      "codemirror_mode": {
        "name": "ipython",
        "version": 3
      },
      "file_extension": ".py",
      "mimetype": "text/x-python",
      "name": "python",
      "nbconvert_exporter": "python",
      "pygments_lexer": "ipython3"
    }
  },
  "nbformat": 4,
  "nbformat_minor": 0
}
