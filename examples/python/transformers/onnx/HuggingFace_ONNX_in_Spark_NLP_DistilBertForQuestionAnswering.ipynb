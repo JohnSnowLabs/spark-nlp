{
  "cells": [
    {
      "cell_type": "markdown",
      "metadata": {
        "id": "fo8vF8tvVR7z"
      },
      "source": [
        "![JohnSnowLabs](https://sparknlp.org/assets/images/logo.png)\n",
        "\n",
        "[![Open In Colab](https://colab.research.google.com/assets/colab-badge.svg)](https://colab.research.google.com/github/JohnSnowLabs/spark-nlp/blob/master/examples/python/transformers/onnx/HuggingFace_ONNX_in_Spark_NLP_DistilBertForQuestionAnswering.ipynb)"
      ]
    },
    {
      "cell_type": "markdown",
      "metadata": {
        "id": "OZzk3ekfVR73"
      },
      "source": [
        "## Import ONNX DistilBertForQuestionAnswering models from HuggingFace 🤗 into Spark NLP 🚀\n",
        "\n",
        "Let's keep in mind a few things before we start 😊\n",
        "\n",
        "- ONNX support was introduced in  `Spark NLP 5.0.0`, enabling high performance inference for models.\n",
        "- `DistilBertForQuestionAnswering` is only available since in `Spark NLP 5.1.3` and after. So please make sure you have upgraded to the latest Spark NLP release\n",
        "- You can import DistilBERT models trained/fine-tuned for question answering via `DistilBertForQuestionAnswering` or `TFDistilBertForQuestionAnswering`. These models are usually under `Question Answering` category and have `distilbert` in their labels\n",
        "- Reference: [TFDistilBertForQuestionAnswering](https://huggingface.co/transformers/model_doc/distilbert#transformers.TFDistilBertForQuestionAnswering)\n",
        "- Some [example models](https://huggingface.co/models?filter=distilbert&pipeline_tag=question-answering)"
      ]
    },
    {
      "cell_type": "markdown",
      "metadata": {
        "id": "nHtt4e0hVR74"
      },
      "source": [
        "## Export and Save HuggingFace model"
      ]
    },
    {
      "cell_type": "markdown",
      "metadata": {
        "id": "dIBxlzpEVR74"
      },
      "source": [
        "- Let's install `transformers` package with the `onnx` extension and it's dependencies. You don't need `onnx` to be installed for Spark NLP, however, we need it to load and save models from HuggingFace.\n",
        "- We lock `transformers` on version `4.48.3`. This doesn't mean it won't work with the future releases, but we wanted you to know which versions have been tested successfully.\n",
        "- Albert uses SentencePiece, so we will have to install that as well"
      ]
    },
    {
      "cell_type": "code",
      "execution_count": null,
      "metadata": {
        "colab": {
          "base_uri": "https://localhost:8080/"
        },
        "id": "9SOlfR0CVR75",
        "outputId": "c60ae9dd-9e0b-434f-ab0a-effef33b2da3"
      },
      "outputs": [],
      "source": [
        "!pip install -q --upgrade transformers[onnx]==4.48.3 optimum onnx"
      ]
    },
    {
      "cell_type": "markdown",
      "metadata": {
        "id": "JV4eESq5VR77"
      },
      "source": [
        "- HuggingFace has an extension called Optimum which offers specialized model inference, including ONNX. We can use this to import and export ONNX models with `from_pretrained` and `save_pretrained`.\n",
        "- We'll use [distilbert-base-cased-distilled-squad](https://huggingface.co/distilbert-base-cased-distilled-squad) model from HuggingFace as an example and load it as a `ORTModelForQuestionAnswering`, representing an ONNX model.\n",
        "- In addition to the DistilBERT model, we also need to save the `DistilBertTokenizer`. This is the same for every model, these are assets (saved in `/assets`) needed for tokenization inside Spark NLP."
      ]
    },
    {
      "cell_type": "code",
      "execution_count": 2,
      "metadata": {
        "colab": {
          "base_uri": "https://localhost:8080/",
          "height": 351,
          "referenced_widgets": [
            "33a75d7c0a5443cbac4b822e97d7c97d",
            "7a598568e562440080187099b132b0ec",
            "83ea57dd14fc40349d33a2ca51b7c7c6",
            "45223f8ed05748588716fc4498d59f49",
            "5557c6dc9f3946e48341999e31dd7424",
            "f292627c6bb44951acd448331cfe6fbf",
            "a765c46ac2f4470fb61e631fcab38269",
            "fdf91c741e21431298a28ff04d8b18cf",
            "b57bc2b6b2cc4840a1788595b91e97b8",
            "7a9d0abb69d247d9a55da8c24aa6a74e",
            "616115016b124a05bc7ac59df4d5bbe5",
            "bf689d7a07064e8487b8cf09d2d0d6f4",
            "6c6e3baef9cd475798a60a7370000e74",
            "cbfabeb71d5e4b8aaeb35ee6dec4bbe9",
            "0a291ad12514470c94adcb7e06e1324b",
            "3c195eb7ec85433b988dcbf4621795a8",
            "95c899aa07b54d9bb8f21a3e172b1818",
            "9b584b67ebc544e296d5f43af50f5278",
            "a7b1311cdde74030bf98a49205b6ba9f",
            "b9fe17e65fff42ab9188a21809984d00",
            "5e9332cf5b2f4e6d98e90fc6927c28e0",
            "08b5bad1db6044729112b7fe168e9258",
            "e79ffdbbbd0e42649d47a27c32e1794e",
            "69524b653d3b42eaa8a67f2b0ae6ddc4",
            "73d52e64c8e0488bbb1c3d9573b85364",
            "e79d685748474333982c7f504eb2263e",
            "da548d43325a4446a8f622e47a2768f8",
            "94715cc70bc94231b79e21b02220e02e",
            "a844ca53004a42de9e28c484cf0c9513",
            "e397771de40244948ea0b54ddb32cab3",
            "8bdb77718ad8415282ccd40e8497eb7c",
            "5f69dc0e7f6e4dfe8290e9a31e0e5715",
            "fc7a97fff6274d5498e31e0d4d640653",
            "1c068405665b4207beba7826a2fa4d1f",
            "22669af104ad49529d31a0769c746e99",
            "ac5130aeb2c14ed3b3be8112973ba417",
            "2e09eb9465354bc1ad2fc3aef39aa761",
            "d3040295ee204216b4f5d4380c701808",
            "e704f419ec324e3ea43318dc5b2cebee",
            "958318a4746449c5915db7b2953d10ce",
            "63aec3f1035a4c42a7124bb091ec90b0",
            "9a9ba9695550415ba53c723b04f8d346",
            "57e38605fa5b4d26ad4e1cb2747370b1",
            "610bad1242734f1f883fde8a774aad61",
            "c05e4df62d45493db4d26276f6c1c039",
            "7fc3e4aefa0c42ceb548e791554f3f36",
            "05abfb8d3f6a41858db563bb80c2e95e",
            "80893d56a2ee41489f40dddf4e7a5bc6",
            "ac74d8c740574399bf230ca549409ff2",
            "37619df7801840c2a3fe8d18a2aa1833",
            "50f55094d4e242e1b9a627b1fd27050b",
            "c030a834b95a47b6948c2c3ec2470c75",
            "e74c1f20069d45b386dfe5e153b9af81",
            "a3045a2a555f49c49ec02727872383e2",
            "c86ff1da028c462c843830d78881164b"
          ]
        },
        "id": "ZtxI3A2rXOf8",
        "outputId": "06ec9df6-f8b0-40e7-a774-ffc2d211d65a"
      },
      "outputs": [
        {
          "name": "stderr",
          "output_type": "stream",
          "text": [
            "/usr/local/lib/python3.11/dist-packages/huggingface_hub/utils/_auth.py:94: UserWarning: \n",
            "The secret `HF_TOKEN` does not exist in your Colab secrets.\n",
            "To authenticate with the Hugging Face Hub, create a token in your settings tab (https://huggingface.co/settings/tokens), set it as secret in your Google Colab and restart your session.\n",
            "You will be able to reuse this secret in all of your notebooks.\n",
            "Please note that authentication is recommended but still optional to access public models or datasets.\n",
            "  warnings.warn(\n"
          ]
        },
        {
          "data": {
            "application/vnd.jupyter.widget-view+json": {
              "model_id": "33a75d7c0a5443cbac4b822e97d7c97d",
              "version_major": 2,
              "version_minor": 0
            },
            "text/plain": [
              "config.json:   0%|          | 0.00/473 [00:00<?, ?B/s]"
            ]
          },
          "metadata": {},
          "output_type": "display_data"
        },
        {
          "data": {
            "application/vnd.jupyter.widget-view+json": {
              "model_id": "bf689d7a07064e8487b8cf09d2d0d6f4",
              "version_major": 2,
              "version_minor": 0
            },
            "text/plain": [
              "model.safetensors:   0%|          | 0.00/261M [00:00<?, ?B/s]"
            ]
          },
          "metadata": {},
          "output_type": "display_data"
        },
        {
          "data": {
            "application/vnd.jupyter.widget-view+json": {
              "model_id": "e79ffdbbbd0e42649d47a27c32e1794e",
              "version_major": 2,
              "version_minor": 0
            },
            "text/plain": [
              "tokenizer_config.json:   0%|          | 0.00/49.0 [00:00<?, ?B/s]"
            ]
          },
          "metadata": {},
          "output_type": "display_data"
        },
        {
          "data": {
            "application/vnd.jupyter.widget-view+json": {
              "model_id": "1c068405665b4207beba7826a2fa4d1f",
              "version_major": 2,
              "version_minor": 0
            },
            "text/plain": [
              "vocab.txt:   0%|          | 0.00/213k [00:00<?, ?B/s]"
            ]
          },
          "metadata": {},
          "output_type": "display_data"
        },
        {
          "data": {
            "application/vnd.jupyter.widget-view+json": {
              "model_id": "c05e4df62d45493db4d26276f6c1c039",
              "version_major": 2,
              "version_minor": 0
            },
            "text/plain": [
              "tokenizer.json:   0%|          | 0.00/436k [00:00<?, ?B/s]"
            ]
          },
          "metadata": {},
          "output_type": "display_data"
        },
        {
          "data": {
            "text/plain": [
              "('onnx_models/distilbert-base-cased-distilled-squad/tokenizer_config.json',\n",
              " 'onnx_models/distilbert-base-cased-distilled-squad/special_tokens_map.json',\n",
              " 'onnx_models/distilbert-base-cased-distilled-squad/vocab.txt',\n",
              " 'onnx_models/distilbert-base-cased-distilled-squad/added_tokens.json')"
            ]
          },
          "execution_count": 2,
          "metadata": {},
          "output_type": "execute_result"
        }
      ],
      "source": [
        "from transformers import DistilBertTokenizer\n",
        "from optimum.onnxruntime import ORTModelForQuestionAnswering\n",
        "\n",
        "MODEL_NAME = 'distilbert-base-cased-distilled-squad'\n",
        "ONNX_MODEL = f\"onnx_models/{MODEL_NAME}\"\n",
        "\n",
        "ort_model = ORTModelForQuestionAnswering.from_pretrained(MODEL_NAME, export=True)\n",
        "ort_model.save_pretrained(ONNX_MODEL)\n",
        "\n",
        "tokenizer = DistilBertTokenizer.from_pretrained(MODEL_NAME)\n",
        "tokenizer.save_pretrained(ONNX_MODEL)"
      ]
    },
    {
      "cell_type": "markdown",
      "metadata": {
        "id": "uQAX-pQmVR77"
      },
      "source": [
        "Let's have a look inside these two directories and see what we are dealing with:"
      ]
    },
    {
      "cell_type": "code",
      "execution_count": 3,
      "metadata": {
        "colab": {
          "base_uri": "https://localhost:8080/"
        },
        "id": "LmkGDoTsVR78",
        "outputId": "ebe7eca2-4ee4-4b1e-ec54-b4fbb1ce7d5e"
      },
      "outputs": [
        {
          "name": "stdout",
          "output_type": "stream",
          "text": [
            "total 255024\n",
            "-rw-r--r-- 1 root root       569 Jun 13 03:42 config.json\n",
            "-rw-r--r-- 1 root root 260907945 Jun 13 03:42 model.onnx\n",
            "-rw-r--r-- 1 root root       125 Jun 13 03:42 special_tokens_map.json\n",
            "-rw-r--r-- 1 root root      1279 Jun 13 03:42 tokenizer_config.json\n",
            "-rw-r--r-- 1 root root    213450 Jun 13 03:42 vocab.txt\n"
          ]
        }
      ],
      "source": [
        "!ls -l {ONNX_MODEL}"
      ]
    },
    {
      "cell_type": "markdown",
      "metadata": {
        "id": "0jBX4KbaVR78"
      },
      "source": [
        "- As you can see, we need to move `vocab.txt` from the tokenizer to `assets` folder which Spark NLP will look for"
      ]
    },
    {
      "cell_type": "code",
      "execution_count": 4,
      "metadata": {
        "id": "k2AamJRaVR78"
      },
      "outputs": [],
      "source": [
        "!mkdir {ONNX_MODEL}/assets && mv {ONNX_MODEL}/vocab.txt {ONNX_MODEL}/assets"
      ]
    },
    {
      "cell_type": "code",
      "execution_count": 5,
      "metadata": {
        "colab": {
          "base_uri": "https://localhost:8080/"
        },
        "id": "ri4EcQMLVR79",
        "outputId": "77ad60f0-6e13-41f4-a0b5-545966b7630b"
      },
      "outputs": [
        {
          "name": "stdout",
          "output_type": "stream",
          "text": [
            "onnx_models/distilbert-base-cased-distilled-squad:\n",
            "total 254816\n",
            "drwxr-xr-x 2 root root      4096 Jun 13 03:42 assets\n",
            "-rw-r--r-- 1 root root       569 Jun 13 03:42 config.json\n",
            "-rw-r--r-- 1 root root 260907945 Jun 13 03:42 model.onnx\n",
            "-rw-r--r-- 1 root root       125 Jun 13 03:42 special_tokens_map.json\n",
            "-rw-r--r-- 1 root root      1279 Jun 13 03:42 tokenizer_config.json\n",
            "\n",
            "onnx_models/distilbert-base-cased-distilled-squad/assets:\n",
            "total 212\n",
            "-rw-r--r-- 1 root root 213450 Jun 13 03:42 vocab.txt\n"
          ]
        }
      ],
      "source": [
        "!ls -lR {ONNX_MODEL}"
      ]
    },
    {
      "cell_type": "markdown",
      "metadata": {
        "id": "pQ1RDIk-VR79"
      },
      "source": [
        "Voila! We have our `vocab.txt` inside assets directory"
      ]
    },
    {
      "cell_type": "markdown",
      "metadata": {
        "id": "lAgBvbjxVR79"
      },
      "source": [
        "## Import and Save DistilBertForQuestionAnswering in Spark NLP\n"
      ]
    },
    {
      "cell_type": "markdown",
      "metadata": {
        "id": "WCrWgILDVR79"
      },
      "source": [
        "- **Install and set up Spark NLP in Google Colab**\n",
        "  - This example uses specific versions of `pyspark` and `spark-nlp` that have been tested with the transformer model to ensure everything runs smoothly.\n",
        "\n",
        "- **Optional: Use the latest versions**\n",
        "  - If you prefer to use the latest versions instead, you can install them with:\n",
        "    ```bash\n",
        "    !wget http://setup.johnsnowlabs.com/colab.sh -O - | bash\n",
        "    ```\n",
        "  - Note: The latest versions may introduce breaking changes, so you might need to adjust the code accordingly.\n"
      ]
    },
    {
      "cell_type": "code",
      "execution_count": 6,
      "metadata": {
        "colab": {
          "base_uri": "https://localhost:8080/"
        },
        "id": "InkDDgJpVR7-",
        "outputId": "f1eaa2af-383d-4d64-8b35-8b654ef248e5"
      },
      "outputs": [
        {
          "name": "stdout",
          "output_type": "stream",
          "text": [
            "\u001b[2K     \u001b[90m━━━━━━━━━━━━━━━━━━━━━━━━━━━━━━━━━━━━━━━\u001b[0m \u001b[32m317.3/317.3 MB\u001b[0m \u001b[31m4.9 MB/s\u001b[0m eta \u001b[36m0:00:00\u001b[0m\n",
            "\u001b[?25h  Preparing metadata (setup.py) ... \u001b[?25l\u001b[?25hdone\n",
            "\u001b[2K   \u001b[90m━━━━━━━━━━━━━━━━━━━━━━━━━━━━━━━━━━━━━━━━\u001b[0m \u001b[32m635.7/635.7 kB\u001b[0m \u001b[31m28.4 MB/s\u001b[0m eta \u001b[36m0:00:00\u001b[0m\n",
            "\u001b[?25h  Building wheel for pyspark (setup.py) ... \u001b[?25l\u001b[?25hdone\n"
          ]
        }
      ],
      "source": [
        "!pip install -q pyspark==3.5.4 spark-nlp==5.5.3"
      ]
    },
    {
      "cell_type": "markdown",
      "metadata": {
        "id": "31oGoln-VR7-"
      },
      "source": [
        "Let's start Spark with Spark NLP included via our simple `start()` function"
      ]
    },
    {
      "cell_type": "code",
      "execution_count": 7,
      "metadata": {
        "colab": {
          "base_uri": "https://localhost:8080/"
        },
        "id": "_LhErwMaVR7-",
        "outputId": "b67609d7-2cdd-4c39-e909-e23406c74649"
      },
      "outputs": [
        {
          "name": "stdout",
          "output_type": "stream",
          "text": [
            "Spark NLP version:  5.5.3\n",
            "Apache Spark version:  3.5.4\n"
          ]
        }
      ],
      "source": [
        "import sparknlp\n",
        "\n",
        "spark = sparknlp.start()\n",
        "\n",
        "print(\"Spark NLP version: \", sparknlp.version())\n",
        "print(\"Apache Spark version: \", spark.version)"
      ]
    },
    {
      "cell_type": "markdown",
      "metadata": {
        "id": "j9HhJg4xVR7-"
      },
      "source": [
        "- Let's use `loadSavedModel` functon in `DistilBertForQuestionAnswering` which allows us to load TensorFlow model in SavedModel format\n",
        "- Most params can be set later when you are loading this model in `DistilBertForQuestionAnswering` in runtime like `setMaxSentenceLength`, so don't worry what you are setting them now\n",
        "- `loadSavedModel` accepts two params, first is the path to the TF SavedModel. The second is the SparkSession that is `spark` variable we previously started via `sparknlp.start()`\n",
        "- NOTE: `loadSavedModel` accepts local paths in addition to distributed file systems such as `HDFS`, `S3`, `DBFS`, etc. This feature was introduced in Spark NLP 4.2.2 release. Keep in mind the best and recommended way to move/share/reuse Spark NLP models is to use `write.save` so you can use `.load()` from any file systems natively.\n",
        "\n"
      ]
    },
    {
      "cell_type": "code",
      "execution_count": 8,
      "metadata": {
        "id": "gK8SSoxwVR7-"
      },
      "outputs": [],
      "source": [
        "from sparknlp.annotator import DistilBertForQuestionAnswering\n",
        "\n",
        "spanClassifier = DistilBertForQuestionAnswering.loadSavedModel(\n",
        "      ONNX_MODEL,\n",
        "      spark\n",
        "      )\\\n",
        "    .setInputCols([\"document_question\",'document_context'])\\\n",
        "    .setOutputCol(\"answer\")\\\n",
        "    .setCaseSensitive(True)\\\n",
        "    .setMaxSentenceLength(512)"
      ]
    },
    {
      "cell_type": "markdown",
      "metadata": {
        "id": "VEv_eNy3VR7_"
      },
      "source": [
        "- Let's save it on disk so it is easier to be moved around and also be used later via `.load` function"
      ]
    },
    {
      "cell_type": "code",
      "execution_count": 9,
      "metadata": {
        "id": "ADxKWbXXVR7_"
      },
      "outputs": [],
      "source": [
        "spanClassifier.write().overwrite().save(\"./{}_spark_nlp_onnx\".format(ONNX_MODEL))"
      ]
    },
    {
      "cell_type": "markdown",
      "metadata": {
        "id": "cLoKthxEVR7_"
      },
      "source": [
        "Let's clean up stuff we don't need anymore"
      ]
    },
    {
      "cell_type": "code",
      "execution_count": 10,
      "metadata": {
        "id": "M8A2yDiDVR7_"
      },
      "outputs": [],
      "source": [
        "!rm -rf {ONNX_MODEL}"
      ]
    },
    {
      "cell_type": "markdown",
      "metadata": {
        "id": "_cb5Xb9hVR7_"
      },
      "source": [
        "Awesome 😎  !\n",
        "\n",
        "This is your DistlBertForQuestionAnswering model from HuggingFace 🤗  loaded and saved by Spark NLP 🚀"
      ]
    },
    {
      "cell_type": "code",
      "execution_count": 11,
      "metadata": {
        "colab": {
          "base_uri": "https://localhost:8080/"
        },
        "id": "kd1xDsyDVR7_",
        "outputId": "930832a6-9f9f-4b55-e43a-64c06a87edf8"
      },
      "outputs": [
        {
          "name": "stdout",
          "output_type": "stream",
          "text": [
            "total 254840\n",
            "-rw-r--r-- 1 root root 260947894 Jun 13 03:46 distilbert_classification_onnx\n",
            "drwxr-xr-x 3 root root      4096 Jun 13 03:46 fields\n",
            "drwxr-xr-x 2 root root      4096 Jun 13 03:46 metadata\n"
          ]
        }
      ],
      "source": [
        "! ls -l {ONNX_MODEL}_spark_nlp_onnx"
      ]
    },
    {
      "cell_type": "markdown",
      "metadata": {
        "id": "lfyUiWfBVR8A"
      },
      "source": [
        "Now let's see how we can use it on other machines, clusters, or any place you wish to use your new and shiny AlbertForQuestionAnswering model in Spark NLP 🚀 pipeline!"
      ]
    },
    {
      "cell_type": "code",
      "execution_count": null,
      "metadata": {
        "colab": {
          "base_uri": "https://localhost:8080/"
        },
        "id": "iEKZ9yRzVR8A",
        "outputId": "57c45e31-fef6-4465-d52d-41a66e343290"
      },
      "outputs": [
        {
          "name": "stdout",
          "output_type": "stream",
          "text": [
            "+-------+\n",
            "|result |\n",
            "+-------+\n",
            "|[Clara]|\n",
            "+-------+\n",
            "\n"
          ]
        }
      ],
      "source": [
        "from sparknlp.base import MultiDocumentAssembler\n",
        "from sparknlp.annotator import DistilBertForQuestionAnswering\n",
        "from pyspark.ml import Pipeline\n",
        "\n",
        "document_assembler = MultiDocumentAssembler() \\\n",
        "    .setInputCols([\"question\", \"context\"]) \\\n",
        "    .setOutputCols([\"document_question\", \"document_context\"])\n",
        "\n",
        "spanClassifier_loaded = DistilBertForQuestionAnswering.load(\n",
        "    f\"./{ONNX_MODEL}_spark_nlp_onnx\"\n",
        ").setInputCols([\"document_question\", \"document_context\"]) \\\n",
        " .setOutputCol(\"answer\")\n",
        "\n",
        "pipeline = Pipeline().setStages([\n",
        "    document_assembler,\n",
        "    spanClassifier_loaded\n",
        "])\n",
        "\n",
        "example = spark.createDataFrame([\n",
        "    [\"What's my name?\", \"My name is Clara and I live in Berkeley.\"]\n",
        "]).toDF(\"question\", \"context\")\n",
        "\n",
        "result = pipeline.fit(example).transform(example)\n",
        "result.select(\"answer.result\").show(1, False)"
      ]
    },
    {
      "cell_type": "markdown",
      "metadata": {
        "id": "X9J4hHIYVR8A"
      },
      "source": [
        "That's it! You can now go wild and use hundreds of `DistilBertForQuestionAnswering` models from HuggingFace 🤗 in Spark NLP 🚀\n"
      ]
    }
  ],
  "metadata": {
    "colab": {
      "provenance": []
    },
    "kernelspec": {
      "display_name": "Python 3 (ipykernel)",
      "language": "python",
      "name": "python3"
    },
    "language_info": {
      "codemirror_mode": {
        "name": "ipython",
        "version": 3
      },
      "file_extension": ".py",
      "mimetype": "text/x-python",
      "name": "python",
      "nbconvert_exporter": "python",
      "pygments_lexer": "ipython3"
    }
  },
  "nbformat": 4,
  "nbformat_minor": 0
}
