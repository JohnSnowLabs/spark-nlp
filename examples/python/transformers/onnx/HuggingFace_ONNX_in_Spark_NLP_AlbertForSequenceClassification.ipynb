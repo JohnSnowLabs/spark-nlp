{
  "cells": [
    {
      "cell_type": "markdown",
      "metadata": {
        "id": "-VGPnjiH3rNz"
      },
      "source": [
        "![JohnSnowLabs](https://sparknlp.org/assets/images/logo.png)\n",
        "\n",
        "[![Open In Colab](https://colab.research.google.com/assets/colab-badge.svg)](https://colab.research.google.com/github/JohnSnowLabs/spark-nlp/blob/master/examples/python/transformers/onnx/HuggingFace_ONNX_in_Spark_NLP_AlbertForSequenceClassification.ipynb)"
      ]
    },
    {
      "cell_type": "markdown",
      "metadata": {
        "id": "wP_eKkw83rN0"
      },
      "source": [
        "## Import ONNX AlbertForSequenceClassification models from HuggingFace 🤗  into Spark NLP 🚀\n",
        "\n",
        "Let's keep in mind a few things before we start 😊\n",
        "\n",
        "- ONNX support was introduced in  `Spark NLP 5.0.0`, enabling high performance inference for models.\n",
        "- `AlbertForSequenceClassification` is only available since in `Spark NLP 5.1.1` and after. So please make sure you have upgraded to the latest Spark NLP release\n",
        "- You can import ALBERT models trained/fine-tuned for sequence classification via `AlbertForSequenceClassification`. These models are usually under `Text Classification` category and have `albert` in their labels\n",
        "- Reference: [TFAlbertForSequenceClassification](https://huggingface.co/docs/transformers/model_doc/albert#transformers.TFAlbertForSequenceClassification)\n",
        "- Some [example models](https://huggingface.co/models?filter=albert&pipeline_tag=text-classification)"
      ]
    },
    {
      "cell_type": "markdown",
      "metadata": {
        "id": "h6KWjMwf3rN1"
      },
      "source": [
        "## Export and Save HuggingFace model"
      ]
    },
    {
      "cell_type": "markdown",
      "metadata": {
        "id": "xjWCKoKM3rN1"
      },
      "source": [
        "- Let's install `transformers` package with the `onnx` extension and it's dependencies. You don't need `onnx` to be installed for Spark NLP, however, we need it to load and save models from HuggingFace.\n",
        "- We lock `transformers` on version `4.48.2`. This doesn't mean it won't work with the future releases, but we wanted you to know which versions have been tested successfully.\n",
        "- Albert uses SentencePiece, so we will have to install that as well"
      ]
    },
    {
      "cell_type": "code",
      "execution_count": null,
      "metadata": {
        "colab": {
          "base_uri": "https://localhost:8080/"
        },
        "id": "vtDfUbmy3rN1",
        "outputId": "3585c271-8a23-4b2c-d1d9-a432f11fde57"
      },
      "outputs": [],
      "source": [
        "!pip install -q --upgrade transformers[onnx]==4.48.2 optimum onnx"
      ]
    },
    {
      "cell_type": "markdown",
      "metadata": {
        "id": "R0M73WEw3rN2"
      },
      "source": [
        "- HuggingFace has an extension called Optimum which offers specialized model inference, including ONNX. We can use this to import and export ONNX models with `from_pretrained` and `save_pretrained`.\n",
        "- We'll use [mohsenfayyaz/albert-base-v2-toxicity](https://huggingface.co/mohsenfayyaz/albert-base-v2-toxicity) model from HuggingFace as an example and load it as a `ORTModelForSequenceClassification`, representing an ONNX model.\n",
        "- In addition to the ALBERT model, we also need to save the `AlbertTokenizer`. This is the same for every model, these are assets (saved in `/assets`) needed for tokenization inside Spark NLP."
      ]
    },
    {
      "cell_type": "code",
      "execution_count": 2,
      "metadata": {
        "colab": {
          "base_uri": "https://localhost:8080/",
          "height": 400,
          "referenced_widgets": [
            "9b280bbdf7c141b7893dd54c0ed2b0de",
            "22c7520a43d54f47a29348912a24df61",
            "111e00e401ff4f1cb4e061e0f1e570f3",
            "a62e81e54bb944b0acfec3a8b7620292",
            "266b761d650342d48781cf50128882bf",
            "97fe73e1a8e543f9ae19c385e8568e69",
            "eb1a493f615c410295560ae9af472d1c",
            "cf0a318c2fa84d0c90249568d6265c00",
            "b7f889e0a3b548728d8609a6b1459667",
            "298edcc10ffd4e45bcb80c39fb711b2d",
            "4029ac54c8934c84b23821d3b746f60c",
            "db8ed59b6f054ed595ef619932cbca4b",
            "ded8dd468c4b43f496f05166156db4e5",
            "b4814403c9e3458b8b84d4a0a2b3b1ba",
            "13fd3d2cb40741a2bbed8313a7c28e5b",
            "01654edb8d2a46ff9e4d5f026900e914",
            "368eae99f2e442b69f3e6b8b8c77312c",
            "90c946d4dee748609391c9d25ad92818",
            "4a470595388c4306a1c070dbafa51bbf",
            "014fb4e3029048cb86a86ae3473af5b3",
            "36c4b18a533d43db886b126e986e9862",
            "40b9cb97aab846239948a519c2bcaf16",
            "8b5d356ef0a248d187943c6151d83f17",
            "5714111ecf074f45be7b06d1937dcbaf",
            "eb3e28ae8a7b4c86af212dcfed72d939",
            "7aaff3240fc04958b502e9d3021551a1",
            "79575edf22894ccab251cdde8942cb90",
            "ed6a2bf9c88544fc8ea0bc5e954e6460",
            "e59edc62be4c4247aa4dc1d8ccf97d27",
            "1983ce3ce3dc4a8486bf428ab7788c64",
            "d9fe9e8349b64a0bb586d645b0a3e13b",
            "6f93ae9ee28a4187b3327422ae0ad46d",
            "091492745b314df1a70e82638da8f6d7",
            "c01f68f042c94737bccb660591ea14e6",
            "e25e2bd94a4f4c439d363cfe52bf93bd",
            "0694fa83b35743c5a472e5d9f62f6c39",
            "e8f86c835eb84a45bf7cdf8b4c9aa191",
            "53f8630dd7aa4103945584e3a0ea19e5",
            "553c9177096c40949796901bf1dce629",
            "6aeb1a4de02f4d16a9d22921d6476279",
            "814371db43be4c598f422f53008e76a6",
            "96c19e123ba347a1a03134352e00c4b7",
            "579b43da507e43dd8b84b6c61a38876e",
            "3eb94c8ceece485da219dc8011ad54e9",
            "d718358d610b4c4fb1117b389f01efb4",
            "8efa45cb8fc544888ff535e6f62f08d3",
            "a2fa4a98124c4950b6db35ca65ff0623",
            "9aaa84027d9f46ce947a23349915fc58",
            "aab5deb48e504a15a7095192e626570d",
            "d743203be48942c883c472f1664d8c7c",
            "8265f2e7073d49d6b945234e1765ed90",
            "a3219e40207c4643bd428d82a07bcbf1",
            "0740cc14ac5c4a56b0116bafed6bb829",
            "567e75631e014826a0a9bfe99f3b7ab6",
            "d0ca03af1d07428bb98917fe212af0c4",
            "d759abffa45c4956a9a8ead1ab6c7d97",
            "6238d68ec5e344ec84d526cc90b9e3c0",
            "cb664043109c4bb7bec52c10a6206e44",
            "753c2a5981b44e5fbe9c5021b5a7ca9a",
            "9ba9fe78bd7a4b1e9ecdae0d5546cdc5",
            "b0b9c9a7adf04ab490e0508b44356c19",
            "31e2648505c247609a8075c885fca907",
            "47959fb187f8428d975220e1bd5a3ec0",
            "5b27eef06a564bd8841ed6e2f77697e2",
            "22b2e9ba1cf94742b8cf5833de6a8761",
            "f35421115fda482db513bc904c5b91d5"
          ]
        },
        "id": "2Z4Htjn33rN2",
        "outputId": "e956619d-5850-445b-f580-e7a52fb4736c"
      },
      "outputs": [
        {
          "name": "stderr",
          "output_type": "stream",
          "text": [
            "/usr/local/lib/python3.11/dist-packages/huggingface_hub/utils/_auth.py:94: UserWarning: \n",
            "The secret `HF_TOKEN` does not exist in your Colab secrets.\n",
            "To authenticate with the Hugging Face Hub, create a token in your settings tab (https://huggingface.co/settings/tokens), set it as secret in your Google Colab and restart your session.\n",
            "You will be able to reuse this secret in all of your notebooks.\n",
            "Please note that authentication is recommended but still optional to access public models or datasets.\n",
            "  warnings.warn(\n"
          ]
        },
        {
          "data": {
            "application/vnd.jupyter.widget-view+json": {
              "model_id": "9b280bbdf7c141b7893dd54c0ed2b0de",
              "version_major": 2,
              "version_minor": 0
            },
            "text/plain": [
              "config.json:   0%|          | 0.00/871 [00:00<?, ?B/s]"
            ]
          },
          "metadata": {},
          "output_type": "display_data"
        },
        {
          "data": {
            "application/vnd.jupyter.widget-view+json": {
              "model_id": "db8ed59b6f054ed595ef619932cbca4b",
              "version_major": 2,
              "version_minor": 0
            },
            "text/plain": [
              "pytorch_model.bin:   0%|          | 0.00/46.8M [00:00<?, ?B/s]"
            ]
          },
          "metadata": {},
          "output_type": "display_data"
        },
        {
          "data": {
            "application/vnd.jupyter.widget-view+json": {
              "model_id": "8b5d356ef0a248d187943c6151d83f17",
              "version_major": 2,
              "version_minor": 0
            },
            "text/plain": [
              "tokenizer_config.json:   0%|          | 0.00/428 [00:00<?, ?B/s]"
            ]
          },
          "metadata": {},
          "output_type": "display_data"
        },
        {
          "data": {
            "application/vnd.jupyter.widget-view+json": {
              "model_id": "c01f68f042c94737bccb660591ea14e6",
              "version_major": 2,
              "version_minor": 0
            },
            "text/plain": [
              "spiece.model:   0%|          | 0.00/760k [00:00<?, ?B/s]"
            ]
          },
          "metadata": {},
          "output_type": "display_data"
        },
        {
          "data": {
            "application/vnd.jupyter.widget-view+json": {
              "model_id": "d718358d610b4c4fb1117b389f01efb4",
              "version_major": 2,
              "version_minor": 0
            },
            "text/plain": [
              "special_tokens_map.json:   0%|          | 0.00/245 [00:00<?, ?B/s]"
            ]
          },
          "metadata": {},
          "output_type": "display_data"
        },
        {
          "data": {
            "application/vnd.jupyter.widget-view+json": {
              "model_id": "d759abffa45c4956a9a8ead1ab6c7d97",
              "version_major": 2,
              "version_minor": 0
            },
            "text/plain": [
              "model.safetensors:   0%|          | 0.00/46.7M [00:00<?, ?B/s]"
            ]
          },
          "metadata": {},
          "output_type": "display_data"
        },
        {
          "data": {
            "text/plain": [
              "('onnx_models/mohsenfayyaz/albert-base-v2-toxicity/tokenizer_config.json',\n",
              " 'onnx_models/mohsenfayyaz/albert-base-v2-toxicity/special_tokens_map.json',\n",
              " 'onnx_models/mohsenfayyaz/albert-base-v2-toxicity/spiece.model',\n",
              " 'onnx_models/mohsenfayyaz/albert-base-v2-toxicity/added_tokens.json',\n",
              " 'onnx_models/mohsenfayyaz/albert-base-v2-toxicity/tokenizer.json')"
            ]
          },
          "execution_count": 2,
          "metadata": {},
          "output_type": "execute_result"
        }
      ],
      "source": [
        "from transformers import AutoTokenizer\n",
        "from optimum.onnxruntime import ORTModelForSequenceClassification\n",
        "\n",
        "MODEL_NAME = 'mohsenfayyaz/albert-base-v2-toxicity'\n",
        "EXPORT_PATH = f\"onnx_models/{MODEL_NAME}\"\n",
        "\n",
        "ort_model = ORTModelForSequenceClassification.from_pretrained(MODEL_NAME, export=True)\n",
        "ort_model.save_pretrained(EXPORT_PATH)\n",
        "\n",
        "tokenizer = AutoTokenizer.from_pretrained(MODEL_NAME)\n",
        "tokenizer.save_pretrained(EXPORT_PATH)"
      ]
    },
    {
      "cell_type": "markdown",
      "metadata": {
        "id": "7JKOBBIw3rN2"
      },
      "source": [
        "Let's have a look inside these two directories and see what we are dealing with:"
      ]
    },
    {
      "cell_type": "code",
      "execution_count": 3,
      "metadata": {
        "colab": {
          "base_uri": "https://localhost:8080/"
        },
        "id": "35k1QtWl3rN2",
        "outputId": "5c76aa01-82d9-49f8-85f7-be69a1366b00"
      },
      "outputs": [
        {
          "name": "stdout",
          "output_type": "stream",
          "text": [
            "total 49060\n",
            "-rw-r--r-- 1 root root      914 Jun  7 05:51 config.json\n",
            "-rw-r--r-- 1 root root 47180295 Jun  7 05:51 model.onnx\n",
            "-rw-r--r-- 1 root root      286 Jun  7 05:51 special_tokens_map.json\n",
            "-rw-r--r-- 1 root root   760289 Jun  7 05:51 spiece.model\n",
            "-rw-r--r-- 1 root root     2598 Jun  7 05:51 tokenizer_config.json\n",
            "-rw-r--r-- 1 root root  2275547 Jun  7 05:51 tokenizer.json\n"
          ]
        }
      ],
      "source": [
        "!ls -l {EXPORT_PATH}"
      ]
    },
    {
      "cell_type": "markdown",
      "metadata": {
        "id": "eSqsP5SN3rN2"
      },
      "source": [
        "- We need to move the `spiece.model` file from the tokenizer into an assets folder, as this is where Spark NLP looks for it when working with models like Albert or other SentencePiece-based tokenizers.\n",
        "- Additionally, we need to extract the `labels` and their corresponding `ids` from the model's config. This mapping will be saved as `labels.txt` inside the same `assets` folder."
      ]
    },
    {
      "cell_type": "code",
      "execution_count": 4,
      "metadata": {
        "id": "p1j9qQBm3rN3"
      },
      "outputs": [],
      "source": [
        "!mkdir {EXPORT_PATH}/assets\n",
        "\n",
        "labels = ort_model.config.id2label\n",
        "labels = [value for key, value in sorted(labels.items(), reverse=False)]\n",
        "\n",
        "with open(EXPORT_PATH + '/assets/labels.txt', 'w') as f:\n",
        "    f.write('\\n'.join(labels))\n",
        "\n",
        "!mv {EXPORT_PATH}/spiece.model {EXPORT_PATH}/assets"
      ]
    },
    {
      "cell_type": "code",
      "execution_count": 6,
      "metadata": {
        "colab": {
          "base_uri": "https://localhost:8080/"
        },
        "id": "pjvHmmNL3rN3",
        "outputId": "3eba9307-6fb3-4dfd-d158-55d35b25f7a7"
      },
      "outputs": [
        {
          "name": "stdout",
          "output_type": "stream",
          "text": [
            "onnx_models/mohsenfayyaz/albert-base-v2-toxicity:\n",
            "total 48320\n",
            "drwxr-xr-x 2 root root     4096 Jun  7 05:52 assets\n",
            "-rw-r--r-- 1 root root      914 Jun  7 05:51 config.json\n",
            "-rw-r--r-- 1 root root 47180295 Jun  7 05:51 model.onnx\n",
            "-rw-r--r-- 1 root root      286 Jun  7 05:51 special_tokens_map.json\n",
            "-rw-r--r-- 1 root root     2598 Jun  7 05:51 tokenizer_config.json\n",
            "-rw-r--r-- 1 root root  2275547 Jun  7 05:51 tokenizer.json\n",
            "\n",
            "onnx_models/mohsenfayyaz/albert-base-v2-toxicity/assets:\n",
            "total 748\n",
            "-rw-r--r-- 1 root root     15 Jun  7 05:52 labels.txt\n",
            "-rw-r--r-- 1 root root 760289 Jun  7 05:51 spiece.model\n"
          ]
        }
      ],
      "source": [
        "!ls -lR {EXPORT_PATH}"
      ]
    },
    {
      "cell_type": "code",
      "execution_count": 5,
      "metadata": {
        "colab": {
          "base_uri": "https://localhost:8080/"
        },
        "id": "UpRnq06P89O2",
        "outputId": "faf29e6a-4b5b-46eb-b811-b385c5d85776"
      },
      "outputs": [
        {
          "name": "stdout",
          "output_type": "stream",
          "text": [
            "Non-Toxic\n",
            "Toxic"
          ]
        }
      ],
      "source": [
        "!cat {EXPORT_PATH}/assets/labels.txt"
      ]
    },
    {
      "cell_type": "markdown",
      "metadata": {
        "id": "fWkxX28t8sqX"
      },
      "source": [
        "Voila! We have our `spiece.model` inside assets directory and the extracted labels inside `labels.txt`"
      ]
    },
    {
      "cell_type": "markdown",
      "metadata": {
        "id": "Vh4o8AXN3rN3"
      },
      "source": [
        "## Import and Save AlbertForSequenceClassification in Spark NLP\n"
      ]
    },
    {
      "cell_type": "markdown",
      "metadata": {
        "id": "kKnnnf3N3rN3"
      },
      "source": [
        "Let's install and setup Spark NLP in Google Colab. For this example, we'll use specific versions of `pyspark` and `spark-nlp` that we've already tested with this transformer model to make sure everything runs smoothly:\n",
        "\n",
        "If you prefer to use the latest versions, feel free to run:\n",
        "\n",
        "`!pip install -q pyspark spark-nlp`\n",
        "\n",
        "Just keep in mind that newer versions might have some changes, so you may need to tweak your code a bit if anything breaks."
      ]
    },
    {
      "cell_type": "code",
      "execution_count": 7,
      "metadata": {
        "colab": {
          "base_uri": "https://localhost:8080/"
        },
        "id": "Rv8Wti3o6uX_",
        "outputId": "a21aa90e-b54d-48c0-a3a0-d0db2622b871"
      },
      "outputs": [
        {
          "name": "stdout",
          "output_type": "stream",
          "text": [
            "\u001b[2K     \u001b[90m━━━━━━━━━━━━━━━━━━━━━━━━━━━━━━━━━━━━━━━\u001b[0m \u001b[32m317.3/317.3 MB\u001b[0m \u001b[31m5.3 MB/s\u001b[0m eta \u001b[36m0:00:00\u001b[0m\n",
            "\u001b[?25h  Preparing metadata (setup.py) ... \u001b[?25l\u001b[?25hdone\n",
            "\u001b[2K   \u001b[90m━━━━━━━━━━━━━━━━━━━━━━━━━━━━━━━━━━━━━━━━\u001b[0m \u001b[32m635.7/635.7 kB\u001b[0m \u001b[31m32.8 MB/s\u001b[0m eta \u001b[36m0:00:00\u001b[0m\n",
            "\u001b[?25h  Building wheel for pyspark (setup.py) ... \u001b[?25l\u001b[?25hdone\n"
          ]
        }
      ],
      "source": [
        "!pip install -q pyspark==3.5.4 spark-nlp==5.5.3"
      ]
    },
    {
      "cell_type": "markdown",
      "metadata": {
        "id": "20H6ad8g3rN3"
      },
      "source": [
        "Let's start Spark with Spark NLP included via our simple `start()` function"
      ]
    },
    {
      "cell_type": "code",
      "execution_count": 8,
      "metadata": {
        "colab": {
          "base_uri": "https://localhost:8080/"
        },
        "id": "hoshgLsO3rN3",
        "outputId": "e657f71b-eff0-4a2d-8286-aad26279d8ca"
      },
      "outputs": [
        {
          "name": "stdout",
          "output_type": "stream",
          "text": [
            "Spark NLP version:  5.5.3\n",
            "Apache Spark version:  3.5.4\n"
          ]
        }
      ],
      "source": [
        "import sparknlp\n",
        "\n",
        "spark = sparknlp.start()\n",
        "\n",
        "print(\"Spark NLP version: \", sparknlp.version())\n",
        "print(\"Apache Spark version: \", spark.version)"
      ]
    },
    {
      "cell_type": "markdown",
      "metadata": {
        "id": "dHJ59u2e3rN3"
      },
      "source": [
        "- Let's use `loadSavedModel` functon in `AlbertForSequenceClassification` which allows us to load TensorFlow model in SavedModel format\n",
        "- Most params can be set later when you are loading this model in `AlbertForSequenceClassification` in runtime like `setMaxSentenceLength`, so don't worry what you are setting them now\n",
        "- `loadSavedModel` accepts two params, first is the path to the TF SavedModel. The second is the SparkSession that is `spark` variable we previously started via `sparknlp.start()`\n",
        "- NOTE: `loadSavedModel` accepts local paths in addition to distributed file systems such as `HDFS`, `S3`, `DBFS`, etc. This feature was introduced in Spark NLP 4.2.2 release. Keep in mind the best and recommended way to move/share/reuse Spark NLP models is to use `write.save` so you can use `.load()` from any file systems natively.\n",
        "\n"
      ]
    },
    {
      "cell_type": "code",
      "execution_count": 9,
      "metadata": {
        "id": "m1FWOcNv3rN3"
      },
      "outputs": [],
      "source": [
        "from sparknlp.annotator import AlbertForSequenceClassification\n",
        "\n",
        "sequenceClassifier = AlbertForSequenceClassification\\\n",
        "  .loadSavedModel(EXPORT_PATH, spark)\\\n",
        "  .setInputCols([\"document\",'token'])\\\n",
        "  .setOutputCol(\"class\")\\\n",
        "  .setCaseSensitive(False)\\\n",
        "  .setMaxSentenceLength(128)"
      ]
    },
    {
      "cell_type": "markdown",
      "metadata": {
        "id": "IBYLdcg03rN3"
      },
      "source": [
        "- Let's save it on disk so it is easier to be moved around and also be used later via `.load` function"
      ]
    },
    {
      "cell_type": "code",
      "execution_count": 10,
      "metadata": {
        "id": "ONo4fqJ73rN3"
      },
      "outputs": [],
      "source": [
        "sequenceClassifier.write().overwrite().save(\"./{}_spark_nlp_onnx\".format(MODEL_NAME))"
      ]
    },
    {
      "cell_type": "markdown",
      "metadata": {
        "id": "I6-FT_w_3rN3"
      },
      "source": [
        "Let's clean up stuff we don't need anymore"
      ]
    },
    {
      "cell_type": "code",
      "execution_count": 11,
      "metadata": {
        "id": "MaWSKkIM3rN3"
      },
      "outputs": [],
      "source": [
        "!rm -rf {EXPORT_PATH}"
      ]
    },
    {
      "cell_type": "markdown",
      "metadata": {
        "id": "mdwc90Bl3rN3"
      },
      "source": [
        "Awesome 😎  !\n",
        "\n",
        "This is your AlbertForSequenceClassification model from HuggingFace 🤗  loaded and saved by Spark NLP 🚀"
      ]
    },
    {
      "cell_type": "code",
      "execution_count": 12,
      "metadata": {
        "colab": {
          "base_uri": "https://localhost:8080/"
        },
        "id": "kUhVsxcA3rN4",
        "outputId": "8dc93155-4b06-456e-8f22-f5068099db81"
      },
      "outputs": [
        {
          "name": "stdout",
          "output_type": "stream",
          "text": [
            "total 46836\n",
            "-rw-r--r-- 1 root root 47187629 Jun  7 05:57 albert_classification_onnx\n",
            "-rw-r--r-- 1 root root   760289 Jun  7 05:57 albert_spp\n",
            "drwxr-xr-x 3 root root     4096 Jun  7 05:57 fields\n",
            "drwxr-xr-x 2 root root     4096 Jun  7 05:57 metadata\n"
          ]
        }
      ],
      "source": [
        "! ls -l {MODEL_NAME}_spark_nlp_onnx"
      ]
    },
    {
      "cell_type": "markdown",
      "metadata": {
        "id": "BEX_SMoE3rN4"
      },
      "source": [
        "Now let's see how we can use it on other machines, clusters, or any place you wish to use your new and shiny AlbertForSequenceClassification model 😊"
      ]
    },
    {
      "cell_type": "code",
      "execution_count": 13,
      "metadata": {
        "id": "pcVpJ2nm3rN4"
      },
      "outputs": [],
      "source": [
        "sequenceClassifier_loaded = AlbertForSequenceClassification.load(\"./{}_spark_nlp_onnx\".format(MODEL_NAME))\\\n",
        "  .setInputCols([\"document\",'token'])\\\n",
        "  .setOutputCol(\"class\")"
      ]
    },
    {
      "cell_type": "markdown",
      "metadata": {
        "id": "nN6KZhqZ3rN4"
      },
      "source": [
        "You can see what labels were used to train this model via `getClasses` function:"
      ]
    },
    {
      "cell_type": "code",
      "execution_count": 14,
      "metadata": {
        "colab": {
          "base_uri": "https://localhost:8080/"
        },
        "id": "731gUEwc3rN4",
        "outputId": "0168858d-acc8-4d40-c131-70b8644969e0"
      },
      "outputs": [
        {
          "data": {
            "text/plain": [
              "['Non-Toxic', 'Toxic']"
            ]
          },
          "execution_count": 14,
          "metadata": {},
          "output_type": "execute_result"
        }
      ],
      "source": [
        "sequenceClassifier_loaded.getClasses()"
      ]
    },
    {
      "cell_type": "markdown",
      "metadata": {
        "id": "efwG-TTo3rN4"
      },
      "source": [
        "This is how you can use your loaded classifier model in Spark NLP 🚀 pipeline:"
      ]
    },
    {
      "cell_type": "code",
      "execution_count": null,
      "metadata": {
        "colab": {
          "base_uri": "https://localhost:8080/"
        },
        "id": "--JT_ACV3rN4",
        "outputId": "9fecd043-026f-4a10-cc0e-19d81a5df79a"
      },
      "outputs": [
        {
          "name": "stdout",
          "output_type": "stream",
          "text": [
            "+--------------------+-----------+\n",
            "|                text|     result|\n",
            "+--------------------+-----------+\n",
            "|         I love you!|[Non-Toxic]|\n",
            "|I feel lucky to b...|[Non-Toxic]|\n",
            "|         I hate her!|    [Toxic]|\n",
            "+--------------------+-----------+\n",
            "\n"
          ]
        }
      ],
      "source": [
        "from sparknlp.base import DocumentAssembler\n",
        "from sparknlp.annotator import Tokenizer\n",
        "from pyspark.ml import Pipeline\n",
        "\n",
        "document_assembler = DocumentAssembler() \\\n",
        "    .setInputCol(\"text\") \\\n",
        "    .setOutputCol(\"document\")\n",
        "\n",
        "tokenizer = Tokenizer() \\\n",
        "    .setInputCols(\"document\") \\\n",
        "    .setOutputCol(\"token\")\n",
        "\n",
        "pipeline = Pipeline(stages=[\n",
        "    document_assembler,\n",
        "    tokenizer,\n",
        "    sequenceClassifier_loaded\n",
        "])\n",
        "\n",
        "example = spark.createDataFrame([\n",
        "    [\"I love you!\"],\n",
        "    [\"I feel lucky to be here.\"],\n",
        "    [\"I hate her!\"]\n",
        "], [\"text\"])\n",
        "\n",
        "result = pipeline.fit(example).transform(example)\n",
        "result.select(\"text\", \"class.result\").show(truncate=False)"
      ]
    },
    {
      "cell_type": "markdown",
      "metadata": {
        "id": "raEkVXp83rN4"
      },
      "source": [
        "That's it! You can now go wild and use hundreds of `AlbertForSequenceClassification` models from HuggingFace 🤗 in Spark NLP 🚀\n"
      ]
    }
  ],
  "metadata": {
    "colab": {
      "provenance": []
    },
    "kernelspec": {
      "display_name": "Python 3 (ipykernel)",
      "language": "python",
      "name": "python3"
    },
    "language_info": {
      "codemirror_mode": {
        "name": "ipython",
        "version": 3
      },
      "file_extension": ".py",
      "mimetype": "text/x-python",
      "name": "python",
      "nbconvert_exporter": "python",
      "pygments_lexer": "ipython3"
    }
  },
  "nbformat": 4,
  "nbformat_minor": 0
}
