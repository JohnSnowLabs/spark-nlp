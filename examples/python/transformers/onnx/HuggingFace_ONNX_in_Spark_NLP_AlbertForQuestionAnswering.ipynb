{
  "cells": [
    {
      "cell_type": "markdown",
      "metadata": {
        "id": "Wg97jHBvyIfb"
      },
      "source": [
        "![JohnSnowLabs](https://sparknlp.org/assets/images/logo.png)\n",
        "\n",
        "[![Open In Colab](https://colab.research.google.com/assets/colab-badge.svg)](https://colab.research.google.com/github/JohnSnowLabs/spark-nlp/blob/master/examples/python/transformers/onnx/HuggingFace_ONNX_in_Spark_NLP_AlbertForQuestionAnswering.ipynb)"
      ]
    },
    {
      "cell_type": "markdown",
      "metadata": {
        "id": "zknbDOywyIfc"
      },
      "source": [
        "## Import ONNX AlbertForQuestionAnswering models from HuggingFace 🤗 into Spark NLP 🚀\n",
        "\n",
        "Let's keep in mind a few things before we start 😊\n",
        "\n",
        "- ONNX support was introduced in  `Spark NLP 5.0.0`, enabling high performance inference for models.\n",
        "- `AlbertForQuestionAnswering` is only available since in `Spark NLP 5.1.1` and after. So please make sure you have upgraded to the latest Spark NLP release\n",
        "- You can import ALBERT models trained/fine-tuned for question answering via `AlbertForQuestionAnswering`. These models are usually under `Question Answering` category and have `albert` in their labels\n",
        "- Reference: [TFAlbertForQuestionAnswering](https://huggingface.co/transformers/model_doc/albert#transformers.TFAlbertForQuestionAnswering)\n",
        "- Some [example models](https://huggingface.co/models?filter=albert&pipeline_tag=question-answering)"
      ]
    },
    {
      "cell_type": "markdown",
      "metadata": {
        "id": "zKi2MjsVyIfd"
      },
      "source": [
        "## Export and Save HuggingFace model"
      ]
    },
    {
      "cell_type": "markdown",
      "metadata": {
        "id": "NR-JYb3ByIfd"
      },
      "source": [
        "- Let's install `transformers` package with the `onnx` extension and it's dependencies. You don't need `onnx` to be installed for Spark NLP, however, we need it to load and save models from HuggingFace.\n",
        "- We lock `transformers` on version `4.48.2`. This doesn't mean it won't work with the future releases, but we wanted you to know which versions have been tested successfully.\n",
        "- Albert uses SentencePiece, so we will have to install that as well"
      ]
    },
    {
      "cell_type": "code",
      "execution_count": null,
      "metadata": {
        "colab": {
          "base_uri": "https://localhost:8080/"
        },
        "id": "XT8f9sZ5yIfd",
        "outputId": "bef4a16c-9902-415c-cafb-211a54fc5a82"
      },
      "outputs": [],
      "source": [
        "!pip install -q --upgrade transformers[onnx]==4.48.2 optimum onnx"
      ]
    },
    {
      "cell_type": "markdown",
      "metadata": {
        "id": "caEMQWjnyIfe"
      },
      "source": [
        "- HuggingFace has an extension called Optimum which offers specialized model inference, including ONNX. We can use this to import and export ONNX models with `from_pretrained` and `save_pretrained`.\n",
        "- We'll use [twmkn9/albert-base-v2-squad2](https://huggingface.co/twmkn9/albert-base-v2-squad2) model from HuggingFace as an example and load it as a `ORTModelForQuestionAnswering`, representing an ONNX model.\n",
        "- In addition to the ALBERT model, we also need to save the `AlbertTokenizer`. This is the same for every model, these are assets (saved in `/assets`) needed for tokenization inside Spark NLP."
      ]
    },
    {
      "cell_type": "code",
      "execution_count": 4,
      "metadata": {
        "colab": {
          "base_uri": "https://localhost:8080/"
        },
        "id": "j0BiBBJryIfe",
        "outputId": "81c3141c-6cf2-4871-ad73-6807f2c2d8a7"
      },
      "outputs": [
        {
          "name": "stderr",
          "output_type": "stream",
          "text": [
            "Some weights of the model checkpoint at twmkn9/albert-base-v2-squad2 were not used when initializing AlbertForQuestionAnswering: ['albert.pooler.bias', 'albert.pooler.weight']\n",
            "- This IS expected if you are initializing AlbertForQuestionAnswering from the checkpoint of a model trained on another task or with another architecture (e.g. initializing a BertForSequenceClassification model from a BertForPreTraining model).\n",
            "- This IS NOT expected if you are initializing AlbertForQuestionAnswering from the checkpoint of a model that you expect to be exactly identical (initializing a BertForSequenceClassification model from a BertForSequenceClassification model).\n"
          ]
        },
        {
          "data": {
            "text/plain": [
              "('onnx_models/twmkn9/albert-base-v2-squad2/tokenizer_config.json',\n",
              " 'onnx_models/twmkn9/albert-base-v2-squad2/special_tokens_map.json',\n",
              " 'onnx_models/twmkn9/albert-base-v2-squad2/spiece.model',\n",
              " 'onnx_models/twmkn9/albert-base-v2-squad2/added_tokens.json',\n",
              " 'onnx_models/twmkn9/albert-base-v2-squad2/tokenizer.json')"
            ]
          },
          "execution_count": 4,
          "metadata": {},
          "output_type": "execute_result"
        }
      ],
      "source": [
        "from transformers import AutoTokenizer\n",
        "from optimum.onnxruntime import ORTModelForQuestionAnswering\n",
        "\n",
        "MODEL_NAME = \"twmkn9/albert-base-v2-squad2\"\n",
        "EXPORT_PATH = f\"onnx_models/{MODEL_NAME}\"\n",
        "\n",
        "ort_model = ORTModelForQuestionAnswering.from_pretrained(MODEL_NAME, export=True)\n",
        "ort_model.save_pretrained(EXPORT_PATH)\n",
        "\n",
        "tokenizer = AutoTokenizer.from_pretrained(MODEL_NAME)\n",
        "tokenizer.save_pretrained(EXPORT_PATH)"
      ]
    },
    {
      "cell_type": "markdown",
      "metadata": {
        "id": "NXHCnd_kyIff"
      },
      "source": [
        "Let's have a look inside these two directories and see what we are dealing with:"
      ]
    },
    {
      "cell_type": "code",
      "execution_count": 5,
      "metadata": {
        "colab": {
          "base_uri": "https://localhost:8080/"
        },
        "id": "2bsML1DcyIff",
        "outputId": "04a7e064-9557-44b5-8493-055035ca9a13"
      },
      "outputs": [
        {
          "name": "stdout",
          "output_type": "stream",
          "text": [
            "total 46748\n",
            "-rw-r--r-- 1 root root      844 Jun  7 05:40 config.json\n",
            "-rw-r--r-- 1 root root 44817937 Jun  7 05:40 model.onnx\n",
            "-rw-r--r-- 1 root root      286 Jun  7 05:40 special_tokens_map.json\n",
            "-rw-r--r-- 1 root root   760289 Jun  7 05:40 spiece.model\n",
            "-rw-r--r-- 1 root root     2616 Jun  7 05:40 tokenizer_config.json\n",
            "-rw-r--r-- 1 root root  2275547 Jun  7 05:40 tokenizer.json\n"
          ]
        }
      ],
      "source": [
        "!ls -l {EXPORT_PATH}"
      ]
    },
    {
      "cell_type": "markdown",
      "metadata": {
        "id": "nZlxURHRyIff"
      },
      "source": [
        "- We need to move the `spiece.model` file from the tokenizer into an assets folder, as this is where Spark NLP looks for it when working with models like Albert or other SentencePiece-based tokenizers."
      ]
    },
    {
      "cell_type": "code",
      "execution_count": 6,
      "metadata": {
        "id": "oJyf0q2SyIff"
      },
      "outputs": [],
      "source": [
        "!mkdir {EXPORT_PATH}/assets && mv {EXPORT_PATH}/spiece.model {EXPORT_PATH}/assets"
      ]
    },
    {
      "cell_type": "code",
      "execution_count": 7,
      "metadata": {
        "colab": {
          "base_uri": "https://localhost:8080/"
        },
        "id": "xcE_3zTxyIff",
        "outputId": "fb71a025-07af-4780-eef3-5abc8883c0df"
      },
      "outputs": [
        {
          "name": "stdout",
          "output_type": "stream",
          "text": [
            "onnx_models/twmkn9/albert-base-v2-squad2:\n",
            "total 46008\n",
            "drwxr-xr-x 2 root root     4096 Jun  7 05:41 assets\n",
            "-rw-r--r-- 1 root root      844 Jun  7 05:40 config.json\n",
            "-rw-r--r-- 1 root root 44817937 Jun  7 05:40 model.onnx\n",
            "-rw-r--r-- 1 root root      286 Jun  7 05:40 special_tokens_map.json\n",
            "-rw-r--r-- 1 root root     2616 Jun  7 05:40 tokenizer_config.json\n",
            "-rw-r--r-- 1 root root  2275547 Jun  7 05:40 tokenizer.json\n",
            "\n",
            "onnx_models/twmkn9/albert-base-v2-squad2/assets:\n",
            "total 744\n",
            "-rw-r--r-- 1 root root 760289 Jun  7 05:40 spiece.model\n"
          ]
        }
      ],
      "source": [
        "!ls -lR {EXPORT_PATH}"
      ]
    },
    {
      "cell_type": "markdown",
      "metadata": {
        "id": "kix0rMe4yIff"
      },
      "source": [
        "Voila! We have our `spiece.model` inside assets directory"
      ]
    },
    {
      "cell_type": "markdown",
      "metadata": {
        "id": "RIXiYyuHyIff"
      },
      "source": [
        "## Import and Save AlbertForQuestionAnswering in Spark NLP\n"
      ]
    },
    {
      "cell_type": "markdown",
      "metadata": {
        "id": "xPYjEyytyIff"
      },
      "source": [
        "Let's install and setup Spark NLP in Google Colab. For this example, we'll use specific versions of `pyspark` and `spark-nlp` that we've already tested with this transformer model to make sure everything runs smoothly:\n",
        "\n",
        "If you prefer to use the latest versions, feel free to run:\n",
        "\n",
        "`!pip install -q pyspark spark-nlp`\n",
        "\n",
        "Just keep in mind that newer versions might have some changes, so you may need to tweak your code a bit if anything breaks."
      ]
    },
    {
      "cell_type": "code",
      "execution_count": 8,
      "metadata": {
        "colab": {
          "base_uri": "https://localhost:8080/"
        },
        "id": "EAdZYYaEuXj8",
        "outputId": "49971db8-fc14-4c7b-aa3d-fa3129f96602"
      },
      "outputs": [
        {
          "name": "stdout",
          "output_type": "stream",
          "text": [
            "\u001b[2K     \u001b[90m━━━━━━━━━━━━━━━━━━━━━━━━━━━━━━━━━━━━━━━\u001b[0m \u001b[32m317.3/317.3 MB\u001b[0m \u001b[31m5.9 MB/s\u001b[0m eta \u001b[36m0:00:00\u001b[0m\n",
            "\u001b[?25h  Preparing metadata (setup.py) ... \u001b[?25l\u001b[?25hdone\n",
            "\u001b[2K   \u001b[90m━━━━━━━━━━━━━━━━━━━━━━━━━━━━━━━━━━━━━━━━\u001b[0m \u001b[32m635.7/635.7 kB\u001b[0m \u001b[31m45.8 MB/s\u001b[0m eta \u001b[36m0:00:00\u001b[0m\n",
            "\u001b[?25h  Building wheel for pyspark (setup.py) ... \u001b[?25l\u001b[?25hdone\n"
          ]
        }
      ],
      "source": [
        "!pip install -q pyspark==3.5.4 spark-nlp==5.5.3"
      ]
    },
    {
      "cell_type": "markdown",
      "metadata": {
        "id": "ppAUoFUpyIfg"
      },
      "source": [
        "Let's start Spark with Spark NLP included via our simple `start()` function"
      ]
    },
    {
      "cell_type": "code",
      "execution_count": 9,
      "metadata": {
        "colab": {
          "base_uri": "https://localhost:8080/"
        },
        "id": "YQJ4LNnTyIfg",
        "outputId": "4497129c-91da-4eec-a76f-3dcbeb839ef5"
      },
      "outputs": [
        {
          "name": "stdout",
          "output_type": "stream",
          "text": [
            "Spark NLP version:  5.5.3\n",
            "Apache Spark version:  3.5.4\n"
          ]
        }
      ],
      "source": [
        "import sparknlp\n",
        "\n",
        "spark = sparknlp.start()\n",
        "\n",
        "print(\"Spark NLP version: \", sparknlp.version())\n",
        "print(\"Apache Spark version: \", spark.version)"
      ]
    },
    {
      "cell_type": "markdown",
      "metadata": {
        "id": "DyiecrWcyIfg"
      },
      "source": [
        "- Let's use `loadSavedModel` functon in `AlbertForQuestionAnswering` which allows us to load TensorFlow model in SavedModel format\n",
        "- Most params can be set later when you are loading this model in `AlbertForQuestionAnswering` in runtime like `setMaxSentenceLength`, so don't worry what you are setting them now\n",
        "- `loadSavedModel` accepts two params, first is the path to the TF SavedModel. The second is the SparkSession that is `spark` variable we previously started via `sparknlp.start()`\n",
        "- NOTE: `loadSavedModel` accepts local paths in addition to distributed file systems such as `HDFS`, `S3`, `DBFS`, etc. This feature was introduced in Spark NLP 4.2.2 release. Keep in mind the best and recommended way to move/share/reuse Spark NLP models is to use `write.save` so you can use `.load()` from any file systems natively.\n",
        "\n"
      ]
    },
    {
      "cell_type": "code",
      "execution_count": 10,
      "metadata": {
        "id": "0EPLu2c4yIfg"
      },
      "outputs": [],
      "source": [
        "from sparknlp.annotator import AlbertForQuestionAnswering\n",
        "\n",
        "spanClassifier = AlbertForQuestionAnswering.loadSavedModel(\n",
        "     f\"{EXPORT_PATH}\",\n",
        "     spark\n",
        " )\\\n",
        "  .setInputCols([\"document_question\",'document_context'])\\\n",
        "  .setOutputCol(\"answer\")\\\n",
        "  .setCaseSensitive(False)\\\n",
        "  .setMaxSentenceLength(512)"
      ]
    },
    {
      "cell_type": "markdown",
      "metadata": {
        "id": "x3jXNcqlyIfg"
      },
      "source": [
        "- Let's save it on disk so it is easier to be moved around and also be used later via `.load` function"
      ]
    },
    {
      "cell_type": "code",
      "execution_count": 11,
      "metadata": {
        "id": "nLwxxwZoyIfg"
      },
      "outputs": [],
      "source": [
        "spanClassifier.write().overwrite().save(\"./{}_spark_nlp_onnx\".format(MODEL_NAME))"
      ]
    },
    {
      "cell_type": "markdown",
      "metadata": {
        "id": "MOql0ZonyIfg"
      },
      "source": [
        "Let's clean up stuff we don't need anymore"
      ]
    },
    {
      "cell_type": "code",
      "execution_count": 12,
      "metadata": {
        "id": "oOw5xdiyyIfg"
      },
      "outputs": [],
      "source": [
        "!rm -rf {EXPORT_PATH}"
      ]
    },
    {
      "cell_type": "markdown",
      "metadata": {
        "id": "mu1oCGp0yIfg"
      },
      "source": [
        "Awesome 😎  !\n",
        "\n",
        "This is your AlbertForQuestionAnswering model from HuggingFace 🤗  loaded and saved by Spark NLP 🚀"
      ]
    },
    {
      "cell_type": "code",
      "execution_count": 13,
      "metadata": {
        "colab": {
          "base_uri": "https://localhost:8080/"
        },
        "id": "djB-VGGUyIfg",
        "outputId": "212ec8c7-4739-42c9-d7dc-1817ca9caf52"
      },
      "outputs": [
        {
          "name": "stdout",
          "output_type": "stream",
          "text": [
            "total 44524\n",
            "-rw-r--r-- 1 root root 44824911 Jun  7 05:44 albert_classification_onnx\n",
            "-rw-r--r-- 1 root root   760289 Jun  7 05:44 albert_spp\n",
            "drwxr-xr-x 2 root root     4096 Jun  7 05:44 metadata\n"
          ]
        }
      ],
      "source": [
        "! ls -l {MODEL_NAME}_spark_nlp_onnx"
      ]
    },
    {
      "cell_type": "markdown",
      "metadata": {
        "id": "WcFZS_dHyIfg"
      },
      "source": [
        "Now let's see how we can use it on other machines, clusters, or any place you wish to use your new and shiny AlbertForQuestionAnswering model in Spark NLP 🚀 pipeline!"
      ]
    },
    {
      "cell_type": "code",
      "execution_count": 14,
      "metadata": {
        "colab": {
          "base_uri": "https://localhost:8080/"
        },
        "id": "tCIZAE87yIfg",
        "outputId": "6cac69b5-4e05-429a-cf93-f1e34f2e3049"
      },
      "outputs": [
        {
          "name": "stdout",
          "output_type": "stream",
          "text": [
            "+-------+\n",
            "|result |\n",
            "+-------+\n",
            "|[clara]|\n",
            "+-------+\n",
            "\n"
          ]
        }
      ],
      "source": [
        "from sparknlp.base import MultiDocumentAssembler\n",
        "from sparknlp.annotator import AlbertForQuestionAnswering\n",
        "from pyspark.ml import Pipeline\n",
        "\n",
        "document_assembler = MultiDocumentAssembler() \\\n",
        "    .setInputCols([\"question\", \"context\"]) \\\n",
        "    .setOutputCols([\"document_question\", \"document_context\"])\n",
        "\n",
        "qa_model = AlbertForQuestionAnswering.load(f\"{MODEL_NAME}_spark_nlp_onnx\") \\\n",
        "    .setInputCols([\"document_question\", \"document_context\"]) \\\n",
        "    .setOutputCol(\"answer\")\n",
        "\n",
        "pipeline = Pipeline(stages=[\n",
        "    document_assembler,\n",
        "    qa_model\n",
        "])\n",
        "\n",
        "example = spark.createDataFrame([\n",
        "    [\"What's my name?\", \"My name is Clara and I live in Berkeley.\"]\n",
        "], [\"question\", \"context\"])\n",
        "\n",
        "result = pipeline.fit(example).transform(example)\n",
        "result.select(\"answer.result\").show(1, False)"
      ]
    },
    {
      "cell_type": "markdown",
      "metadata": {
        "id": "tvyzhMJvyIfh"
      },
      "source": [
        "That's it! You can now go wild and use hundreds of `AlbertForQuestionAnswering` models from HuggingFace 🤗 in Spark NLP 🚀\n"
      ]
    }
  ],
  "metadata": {
    "colab": {
      "provenance": []
    },
    "kernelspec": {
      "display_name": "Python 3 (ipykernel)",
      "language": "python",
      "name": "python3"
    },
    "language_info": {
      "codemirror_mode": {
        "name": "ipython",
        "version": 3
      },
      "file_extension": ".py",
      "mimetype": "text/x-python",
      "name": "python",
      "nbconvert_exporter": "python",
      "pygments_lexer": "ipython3"
    }
  },
  "nbformat": 4,
  "nbformat_minor": 0
}
