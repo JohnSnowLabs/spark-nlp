{
  "cells": [
    {
      "cell_type": "markdown",
      "metadata": {
        "id": "jII20gVcQvlF"
      },
      "source": [
        "![JohnSnowLabs](https://sparknlp.org/assets/images/logo.png)\n",
        "\n",
        "[![Open In Colab](https://colab.research.google.com/assets/colab-badge.svg)](https://colab.research.google.com/github/JohnSnowLabs/spark-nlp/blob/master/examples/python/transformers/onnx/HuggingFace_ONNX_in_Spark_NLP_XLM_RoBERTa.ipynb)\n",
        "\n",
        "# Import ONNX XLM-RoBERTa models from HuggingFace 🤗 into Spark NLP 🚀\n",
        "\n",
        "Let's keep in mind a few things before we start 😊\n",
        "\n",
        "- ONNX support was introduced in  `Spark NLP 5.0.0`, enabling high performance inference for models. Please make sure you have upgraded to the latest Spark NLP release.\n",
        "- You can import models for XLM-RoBERTa from HuggingFace and they have to be in `Fill Mask` category. Meaning, you cannot use XLM-RoBERTa models trained/fine-tuned on a specific task such as token/sequence classification."
      ]
    },
    {
      "cell_type": "markdown",
      "metadata": {
        "id": "0f4xsCnSQvlH"
      },
      "source": [
        "## Export and Save HuggingFace model"
      ]
    },
    {
      "cell_type": "markdown",
      "metadata": {
        "id": "DlCOxEiEQvlH"
      },
      "source": [
        "- We install the `transformers` package (version ≥ 4.36.0) along with `optimum[onnxruntime]` (version ≥ 1.12.0), `torch`, `torchvision`, and `onnxruntime`.\n",
        "- These are required for exporting and running Hugging Face models in ONNX format. While Spark NLP doesn't require ONNX, these tools are essential for preparing models before integration.\n",
        "- The specified versions have been tested, but newer versions may also work.\n"
      ]
    },
    {
      "cell_type": "code",
      "execution_count": null,
      "metadata": {
        "colab": {
          "base_uri": "https://localhost:8080/"
        },
        "id": "GYj40XnnQvlI",
        "outputId": "718cd086-81ad-4933-e9a6-be5cad805e73"
      },
      "outputs": [],
      "source": [
        "!pip install --quiet --upgrade \\\n",
        "    torch torchvision \\\n",
        "    \"transformers>=4.36.0\" \\\n",
        "    \"optimum[onnxruntime]>=1.12.0\" \\\n",
        "    onnxruntime"
      ]
    },
    {
      "cell_type": "markdown",
      "metadata": {
        "id": "I7W8ErJYQvlI"
      },
      "source": [
        "- HuggingFace has an extension called Optimum which offers specialized model inference, including ONNX. We can use this to import and export ONNX models with `from_pretrained` and `save_pretrained`.\n",
        "- We'll use [xlm-roberta-base](https://huggingface.co/xlm-roberta-base) model from HuggingFace as an example and load it as a `ORTModelForFeatureExtraction`, representing an ONNX model.\n",
        "- In addition to the XLM-RoBERTa model, we also need to save the `XLMRobertaTokenizer`. This is the same for every model, these are assets (saved in `/assets`) needed for tokenization inside Spark NLP."
      ]
    },
    {
      "cell_type": "code",
      "execution_count": 2,
      "metadata": {
        "colab": {
          "base_uri": "https://localhost:8080/",
          "height": 368,
          "referenced_widgets": [
            "485c342b6b934140815710df9727552e",
            "b5aabef38daf4df797dfe26f904f9f2b",
            "35a4682fc7f34c45822f698e3fd9f6c5",
            "5e67433acd234d7d85d1403fc144746a",
            "954d0f83044640bbbd3e81c71972cce9",
            "3a7df243906c46ea93afcd8523551e20",
            "aa43fe0a74744f22bd1cea4fd1fe1678",
            "62a93c6df48d441382ce93434c67af9c",
            "7bce161b302b426abe7fa0f82a32c8f2",
            "8bbc98479071454787ee381e2aa6a07c",
            "ff0a149b38f44c179e899129e7a99037",
            "b4524b311273486b9586ed3d63957f3b",
            "e7cbdc3e15844a99bbfc58ded220c66e",
            "4c994782d0c341e490c2069e564ec4f8",
            "3a24dd029d04421696aea9af4893c6b7",
            "f973d81002374f9f8dbfb48861f18a79",
            "73ad44ae4e3547b08e17100cde91076a",
            "ca4171bd69fd4ed0bea9806b1b120f0b",
            "a0a2f93b87d94ca9858e01e39e83b55c",
            "34c2c953ce694f88a829eab54fa28145",
            "c2395ad563d945bea00d3053b6c9225e",
            "53ef259aab744e38bb1f4bbc99a6b890",
            "76103e75d9064a959190f2aa783b25f4",
            "4aebb374e8c8490cb8ffe31d2c735348",
            "aee50f264c434b649a4a630a0905610b",
            "27909c4a06be429d8e1f3ba009f7ad75",
            "88d960cb9b8b41d08f23804271278265",
            "125ff1ec30f24353b2dde35bcd38d28f",
            "9ca0dc9d3e914b04a1c3894c9fa1baf3",
            "c4e32e5e68f74e0aad00343d2a5f6b2c",
            "d0942e06f3c54e0dbb3abd3c214e15ab",
            "427e311d27ef4f7a99bb856ed8a9bfaa",
            "d7a71511fc7b4238830fdcaac81f50d5",
            "f4da8eacbe604eee98cb53695f25bb74",
            "a95d8467241d413cbee358bc49fb2482",
            "4204cf1b6495456095b0421cc73b0fba",
            "3db8e25659ca4150b297d9d3fa7b10ee",
            "e53b86ab35cc4d73ae492e067e61a1e3",
            "06ccf202572e4dd8b7cdd51a78b867bf",
            "c468108a415f4372b2b4fdb97c35ccef",
            "12a82c4a395a4a2a8f318c0327360dce",
            "2f55d6cc1feb41a7930bef47cb4e98fd",
            "df5be1b2a06740af8abef90a58bc7b95",
            "9dabe606bf2d47a9957fb3bec23f8eb5",
            "d0b666025fe649fab474e173ffabc4d5",
            "4cc3bb37b41044a299f0db597f1c1e07",
            "36490d3894a0449685eadb6dad88c712",
            "fb06832434ad4e75ae6cb02c689617ab",
            "b169493643be4f6f90289af050d58782",
            "a37d3890b79d4bb79e7ae3e7b3802605",
            "f9bdff4cb65e4aeba9f2fbd4988dcbeb",
            "24a16502e5e4478fb135d496455ffe96",
            "5be4550231aa428b86173cc677a23cf3",
            "6c96f1c7f8fc4d5b9565761cb91bbcad",
            "14188b0fd21540639603b2e77a5e7cac"
          ]
        },
        "id": "cuDN9QERO2Ij",
        "outputId": "867ce0c6-bf84-436d-89c7-e663fd365c72"
      },
      "outputs": [
        {
          "name": "stderr",
          "output_type": "stream",
          "text": [
            "/usr/local/lib/python3.11/dist-packages/huggingface_hub/utils/_auth.py:94: UserWarning: \n",
            "The secret `HF_TOKEN` does not exist in your Colab secrets.\n",
            "To authenticate with the Hugging Face Hub, create a token in your settings tab (https://huggingface.co/settings/tokens), set it as secret in your Google Colab and restart your session.\n",
            "You will be able to reuse this secret in all of your notebooks.\n",
            "Please note that authentication is recommended but still optional to access public models or datasets.\n",
            "  warnings.warn(\n",
            "The model xlm-roberta-base was already converted to ONNX but got `export=True`, the model will be converted to ONNX once again. Don't forget to save the resulting model with `.save_pretrained()`\n"
          ]
        },
        {
          "data": {
            "application/vnd.jupyter.widget-view+json": {
              "model_id": "485c342b6b934140815710df9727552e",
              "version_major": 2,
              "version_minor": 0
            },
            "text/plain": [
              "config.json:   0%|          | 0.00/615 [00:00<?, ?B/s]"
            ]
          },
          "metadata": {},
          "output_type": "display_data"
        },
        {
          "data": {
            "application/vnd.jupyter.widget-view+json": {
              "model_id": "b4524b311273486b9586ed3d63957f3b",
              "version_major": 2,
              "version_minor": 0
            },
            "text/plain": [
              "model.safetensors:   0%|          | 0.00/1.12G [00:00<?, ?B/s]"
            ]
          },
          "metadata": {},
          "output_type": "display_data"
        },
        {
          "data": {
            "application/vnd.jupyter.widget-view+json": {
              "model_id": "76103e75d9064a959190f2aa783b25f4",
              "version_major": 2,
              "version_minor": 0
            },
            "text/plain": [
              "tokenizer_config.json:   0%|          | 0.00/25.0 [00:00<?, ?B/s]"
            ]
          },
          "metadata": {},
          "output_type": "display_data"
        },
        {
          "data": {
            "application/vnd.jupyter.widget-view+json": {
              "model_id": "f4da8eacbe604eee98cb53695f25bb74",
              "version_major": 2,
              "version_minor": 0
            },
            "text/plain": [
              "sentencepiece.bpe.model:   0%|          | 0.00/5.07M [00:00<?, ?B/s]"
            ]
          },
          "metadata": {},
          "output_type": "display_data"
        },
        {
          "data": {
            "application/vnd.jupyter.widget-view+json": {
              "model_id": "d0b666025fe649fab474e173ffabc4d5",
              "version_major": 2,
              "version_minor": 0
            },
            "text/plain": [
              "tokenizer.json:   0%|          | 0.00/9.10M [00:00<?, ?B/s]"
            ]
          },
          "metadata": {},
          "output_type": "display_data"
        },
        {
          "data": {
            "text/plain": [
              "('onnx_models/xlm-roberta-base/tokenizer_config.json',\n",
              " 'onnx_models/xlm-roberta-base/special_tokens_map.json',\n",
              " 'onnx_models/xlm-roberta-base/sentencepiece.bpe.model',\n",
              " 'onnx_models/xlm-roberta-base/added_tokens.json')"
            ]
          },
          "execution_count": 2,
          "metadata": {},
          "output_type": "execute_result"
        }
      ],
      "source": [
        "from transformers import XLMRobertaTokenizer\n",
        "from optimum.onnxruntime import ORTModelForFeatureExtraction\n",
        "\n",
        "MODEL_NAME = \"xlm-roberta-base\"\n",
        "EXPORT_PATH = f\"onnx_models/{MODEL_NAME}\"\n",
        "\n",
        "ort_model = ORTModelForFeatureExtraction.from_pretrained(MODEL_NAME, export=True)\n",
        "ort_model.save_pretrained(EXPORT_PATH)\n",
        "\n",
        "tokenizer = XLMRobertaTokenizer.from_pretrained(MODEL_NAME)\n",
        "tokenizer.save_pretrained(EXPORT_PATH)"
      ]
    },
    {
      "cell_type": "markdown",
      "metadata": {
        "id": "aRT0wQ5wQvlJ"
      },
      "source": [
        "Let's have a look inside these two directories and see what we are dealing with:"
      ]
    },
    {
      "cell_type": "code",
      "execution_count": 3,
      "metadata": {
        "colab": {
          "base_uri": "https://localhost:8080/"
        },
        "id": "-9EeUZQjQvlJ",
        "outputId": "55a77098-1564-41f0-9991-2c520f2881af"
      },
      "outputs": [
        {
          "name": "stdout",
          "output_type": "stream",
          "text": [
            "total 1089044\n",
            "-rw-r--r-- 1 root root        640 Jun 17 01:42 config.json\n",
            "-rw-r--r-- 1 root root 1110092472 Jun 17 01:43 model.onnx\n",
            "-rw-r--r-- 1 root root    5069051 Jun 17 01:43 sentencepiece.bpe.model\n",
            "-rw-r--r-- 1 root root        280 Jun 17 01:43 special_tokens_map.json\n",
            "-rw-r--r-- 1 root root       1203 Jun 17 01:43 tokenizer_config.json\n"
          ]
        }
      ],
      "source": [
        "!ls -l {EXPORT_PATH}"
      ]
    },
    {
      "cell_type": "markdown",
      "metadata": {
        "id": "7GWzLB38PBV4"
      },
      "source": [
        "- We need to move the `sentencepiece.bpe.model` file from the tokenizer into an assets folder, as this is where Spark NLP looks for it when working with models with SentencePiece-based tokenizers."
      ]
    },
    {
      "cell_type": "code",
      "execution_count": 4,
      "metadata": {
        "id": "fTdVhtDdO9mQ"
      },
      "outputs": [],
      "source": [
        "!mkdir {EXPORT_PATH}/assets && mv {EXPORT_PATH}/sentencepiece.bpe.model {EXPORT_PATH}/assets/"
      ]
    },
    {
      "cell_type": "code",
      "execution_count": 5,
      "metadata": {
        "colab": {
          "base_uri": "https://localhost:8080/"
        },
        "id": "cMWrYbWUQvlK",
        "outputId": "6186599f-5690-4b94-defd-7ba30c0ca318"
      },
      "outputs": [
        {
          "name": "stdout",
          "output_type": "stream",
          "text": [
            "total 4952\n",
            "-rw-r--r-- 1 root root 5069051 Jun 17 01:43 sentencepiece.bpe.model\n"
          ]
        }
      ],
      "source": [
        "!ls -l {EXPORT_PATH}/assets"
      ]
    },
    {
      "cell_type": "markdown",
      "metadata": {
        "id": "zQJUQ3kmmW4c"
      },
      "source": [
        "Voila! We have our `spiece.model` inside assets directory"
      ]
    },
    {
      "cell_type": "markdown",
      "metadata": {
        "id": "XtDLytM3QvlK"
      },
      "source": [
        "## Import and Save XLM-RoBERTa in Spark NLP\n",
        "\n",
        "- **Install and set up Spark NLP in Google Colab**\n",
        "  - This example uses specific versions of `pyspark` and `spark-nlp` that have been tested with the transformer model to ensure everything runs smoothly."
      ]
    },
    {
      "cell_type": "code",
      "execution_count": 6,
      "metadata": {
        "colab": {
          "base_uri": "https://localhost:8080/"
        },
        "id": "s2omK6X5QvlK",
        "outputId": "1b432428-9e64-4f6a-e961-d3aaf7b673e3"
      },
      "outputs": [
        {
          "name": "stdout",
          "output_type": "stream",
          "text": [
            "\u001b[2K     \u001b[90m━━━━━━━━━━━━━━━━━━━━━━━━━━━━━━━━━━━━━\u001b[0m \u001b[32m317.3/317.3 MB\u001b[0m \u001b[31m747.3 kB/s\u001b[0m eta \u001b[36m0:00:00\u001b[0m\n",
            "\u001b[?25h  Preparing metadata (setup.py) ... \u001b[?25l\u001b[?25hdone\n",
            "\u001b[2K   \u001b[90m━━━━━━━━━━━━━━━━━━━━━━━━━━━━━━━━━━━━━━━━\u001b[0m \u001b[32m635.7/635.7 kB\u001b[0m \u001b[31m27.4 MB/s\u001b[0m eta \u001b[36m0:00:00\u001b[0m\n",
            "\u001b[?25h  Building wheel for pyspark (setup.py) ... \u001b[?25l\u001b[?25hdone\n"
          ]
        }
      ],
      "source": [
        "!pip install -q pyspark==3.5.4 spark-nlp==5.5.3"
      ]
    },
    {
      "cell_type": "markdown",
      "metadata": {
        "id": "mAnelm3IQvlK"
      },
      "source": [
        "Let's start Spark with Spark NLP included via our simple `start()` function"
      ]
    },
    {
      "cell_type": "code",
      "execution_count": 7,
      "metadata": {
        "colab": {
          "base_uri": "https://localhost:8080/"
        },
        "id": "dJ6vlgHoQvlL",
        "outputId": "1008e335-61a0-479f-ac17-410de71e8b7b"
      },
      "outputs": [
        {
          "name": "stdout",
          "output_type": "stream",
          "text": [
            "Spark NLP version:  5.5.3\n",
            "Apache Spark version:  3.5.4\n"
          ]
        }
      ],
      "source": [
        "import sparknlp\n",
        "\n",
        "spark = sparknlp.start()\n",
        "\n",
        "print(\"Spark NLP version: \", sparknlp.version())\n",
        "print(\"Apache Spark version: \", spark.version)"
      ]
    },
    {
      "cell_type": "markdown",
      "metadata": {
        "id": "i6BboCIgQvlL"
      },
      "source": [
        "- Let's use `loadSavedModel` functon in `XlmRoBertaEmbeddings` which allows us to load the ONNX model\n",
        "- Most params will be set automatically. They can also be set later after loading the model in `XlmRoBertaEmbeddings` during runtime, so don't worry about setting them now\n",
        "- `loadSavedModel` accepts two params, first is the path to the exported model. The second is the SparkSession that is `spark` variable we previously started via `sparknlp.start()`\n",
        "- `setStorageRef` is very important. When you are training a task like NER or any Text Classification, we use this reference to bound the trained model to this specific embeddings so you won't load a different embeddings by mistake and see terrible results 😊\n",
        "- It's up to you what you put in `setStorageRef` but it cannot be changed later on. We usually use the name of the model to be clear, but you can get creative if you want!\n",
        "- The `dimension` param is is purely cosmetic and won't change anything. It's mostly for you to know later via `.getDimension` what is the dimension of your model. So set this accordingly.\n",
        "- NOTE: `loadSavedModel` accepts local paths in addition to distributed file systems such as `HDFS`, `S3`, `DBFS`, etc. This feature was introduced in Spark NLP 4.2.2 release. Keep in mind the best and recommended way to move/share/reuse Spark NLP models is to use `write.save` so you can use `.load()` from any file systems natively.st and recommended way to move/share/reuse Spark NLP models is to use `write.save` so you can use `.load()` from any file systems natively.\n"
      ]
    },
    {
      "cell_type": "code",
      "execution_count": 8,
      "metadata": {
        "id": "uvZs5VrFQvlL"
      },
      "outputs": [],
      "source": [
        "from sparknlp.annotator import XlmRoBertaEmbeddings\n",
        "\n",
        "xlm_roberta = XlmRoBertaEmbeddings.loadSavedModel(f\"{EXPORT_PATH}\", spark)\\\n",
        "    .setInputCols([\"document\",'token'])\\\n",
        "    .setOutputCol(\"xlm_roberta\")\\\n",
        "    .setCaseSensitive(True)\\\n",
        "    .setDimension(768)\\\n",
        "    .setStorageRef('xlm_roberta_base')"
      ]
    },
    {
      "cell_type": "markdown",
      "metadata": {
        "id": "6PcRmtW3QvlL"
      },
      "source": [
        "- Let's save it on disk so it is easier to be moved around and also be used later via `.load` function"
      ]
    },
    {
      "cell_type": "code",
      "execution_count": 9,
      "metadata": {
        "id": "fBD2DgelQvlM"
      },
      "outputs": [],
      "source": [
        "xlm_roberta.write().overwrite().save(f\"{MODEL_NAME}_spark_nlp\")"
      ]
    },
    {
      "cell_type": "markdown",
      "metadata": {
        "id": "q3AZ9Ul_QvlM"
      },
      "source": [
        "Let's clean up stuff we don't need anymore"
      ]
    },
    {
      "cell_type": "code",
      "execution_count": 10,
      "metadata": {
        "id": "1QHfmtaGQvlM"
      },
      "outputs": [],
      "source": [
        "!rm -rf {EXPORT_PATH}"
      ]
    },
    {
      "cell_type": "markdown",
      "metadata": {
        "id": "M5RnAFgtQvlM"
      },
      "source": [
        "Awesome  😎 !\n",
        "\n",
        "This is your ONNX XLM-RoBERTa model from HuggingFace 🤗  loaded and saved by Spark NLP 🚀"
      ]
    },
    {
      "cell_type": "code",
      "execution_count": 11,
      "metadata": {
        "colab": {
          "base_uri": "https://localhost:8080/"
        },
        "id": "W9AkqY13QvlM",
        "outputId": "567b4ecb-22cb-49e7-f04b-5121ccd342f5"
      },
      "outputs": [
        {
          "name": "stdout",
          "output_type": "stream",
          "text": [
            "total 1089204\n",
            "drwxr-xr-x 2 root root       4096 Jun 17 01:59 metadata\n",
            "-rw-r--r-- 1 root root 1110261996 Jun 17 02:00 xlmroberta_onnx\n",
            "-rw-r--r-- 1 root root    5069051 Jun 17 02:00 xlmroberta_spp\n"
          ]
        }
      ],
      "source": [
        "! ls -l {MODEL_NAME}_spark_nlp"
      ]
    },
    {
      "cell_type": "markdown",
      "metadata": {
        "id": "M_hgegmNQvlM"
      },
      "source": [
        "Now let's see how we can use it on other machines, clusters, or any place you wish to use your new and shiny XLM-RoBERTa model 😊"
      ]
    },
    {
      "cell_type": "code",
      "execution_count": 12,
      "metadata": {
        "colab": {
          "base_uri": "https://localhost:8080/"
        },
        "id": "t05hpQFvQvlN",
        "outputId": "1e80a214-921b-4620-8bbb-44c5831e3498"
      },
      "outputs": [
        {
          "name": "stdout",
          "output_type": "stream",
          "text": [
            "+--------------------+\n",
            "|          embeddings|\n",
            "+--------------------+\n",
            "|[0.09555595, 0.21...|\n",
            "|[0.08841043, 0.18...|\n",
            "|[0.0464, 0.122910...|\n",
            "|[0.034001112, 0.1...|\n",
            "|[-0.03272612, 0.0...|\n",
            "|[-0.024419192, 0....|\n",
            "|[0.01732055, 0.11...|\n",
            "|[-0.08084225, 0.0...|\n",
            "|[0.0010092389, 0....|\n",
            "|[-0.00622857, 0.1...|\n",
            "|[-0.051159456, 0....|\n",
            "|[-0.073909596, 0....|\n",
            "|[-0.040206, 0.061...|\n",
            "|[0.017141085, 0.2...|\n",
            "|[0.102552906, 0.2...|\n",
            "|[0.08336049, 0.53...|\n",
            "|[0.087454535, 0.2...|\n",
            "|[0.037222322, 0.2...|\n",
            "|[-0.028664015, 0....|\n",
            "|[0.03084144, 0.20...|\n",
            "+--------------------+\n",
            "only showing top 20 rows\n",
            "\n"
          ]
        }
      ],
      "source": [
        "from sparknlp.base import DocumentAssembler\n",
        "from sparknlp.annotator import Tokenizer\n",
        "from pyspark.ml import Pipeline\n",
        "\n",
        "document_assembler = DocumentAssembler() \\\n",
        "    .setInputCol(\"text\") \\\n",
        "    .setOutputCol(\"document\")\n",
        "\n",
        "tokenizer = Tokenizer() \\\n",
        "    .setInputCols([\"document\"]) \\\n",
        "    .setOutputCol(\"token\")\n",
        "\n",
        "embeddings = XlmRoBertaEmbeddings.load(f\"{MODEL_NAME}_spark_nlp\") \\\n",
        "    .setInputCols([\"document\", \"token\"]) \\\n",
        "    .setOutputCol(\"xlm_roberta\")\n",
        "\n",
        "pipeline = Pipeline(stages=[\n",
        "    document_assembler,\n",
        "    tokenizer,\n",
        "    embeddings\n",
        "])\n",
        "\n",
        "data = spark.createDataFrame([[\n",
        "    \"William Henry Gates III (born October 28, 1955) is an American business magnate, software developer, investor, and philanthropist.\"\n",
        "]]).toDF(\"text\")\n",
        "\n",
        "model = pipeline.fit(data)\n",
        "result = model.transform(data)\n",
        "\n",
        "result.selectExpr(\"explode(xlm_roberta.embeddings) as embeddings\").show()"
      ]
    },
    {
      "cell_type": "markdown",
      "metadata": {
        "id": "chE7ilhmQvlN"
      },
      "source": [
        "That's it! You can now go wild and use hundreds of XLM-RoBERTa models from HuggingFace 🤗 in Spark NLP 🚀\n"
      ]
    }
  ],
  "metadata": {
    "colab": {
      "provenance": []
    },
    "kernelspec": {
      "display_name": "Python 3 (ipykernel)",
      "language": "python",
      "name": "python3"
    },
    "language_info": {
      "codemirror_mode": {
        "name": "ipython",
        "version": 3
      },
      "file_extension": ".py",
      "mimetype": "text/x-python",
      "name": "python",
      "nbconvert_exporter": "python",
      "pygments_lexer": "ipython3"
    }
  },
  "nbformat": 4,
  "nbformat_minor": 0
}
