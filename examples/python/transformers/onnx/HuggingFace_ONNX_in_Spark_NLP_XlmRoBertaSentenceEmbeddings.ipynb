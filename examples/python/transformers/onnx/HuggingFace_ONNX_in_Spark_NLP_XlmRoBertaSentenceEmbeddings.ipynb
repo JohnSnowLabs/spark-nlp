{
 "cells": [
  {
   "cell_type": "markdown",
   "metadata": {
    "id": "xYalWkBzQDQe"
   },
   "source": [
    "![JohnSnowLabs](https://sparknlp.org/assets/images/logo.png)\n",
    "\n",
    "[![Open In Colab](https://colab.research.google.com/assets/colab-badge.svg)](https://colab.research.google.com/github/JohnSnowLabs/spark-nlp/blob/master/examples/python/transformers/onnx/HuggingFace_ONNX_in_Spark_NLP_XlmRoBertaSentenceEmbeddings.ipynb)\n",
    "\n",
    "# Import ONNX XlmRoBertaSentenceEmbeddings models from HuggingFace 🤗 into Spark NLP 🚀\n",
    "\n",
    "Let's keep in mind a few things before we start 😊\n",
    "\n",
    "- ONNX support was introduced in  `Spark NLP 5.0.0`, enabling high performance inference for models. Please make sure you have upgraded to the latest Spark NLP release.\n",
    "- You can import models for XlmRoBertaSentenceEmbeddings from HuggingFace and they have to be in `Fill Mask` category. Meaning, you cannot use XlmRoBertaSentenceEmbeddings models trained/fine-tuned on a specific task such as token/sequence classification."
   ]
  },
  {
   "cell_type": "markdown",
   "metadata": {
    "id": "3hpl4LLNQDQg"
   },
   "source": [
    "## Export and Save HuggingFace model"
   ]
  },
  {
   "cell_type": "markdown",
   "metadata": {
    "id": "chaZSC_RQDQg"
   },
   "source": [
    "- Let's install `transformers` package with the `onnx` extension and it's dependencies. You don't need `onnx` to be installed for Spark NLP, however, we need it to load and save models from HuggingFace.\n",
    "- We lock `transformers` on version `4.34.1`. This doesn't mean it won't work with the future releases, but we wanted you to know which versions have been tested successfully."
   ]
  },
  {
   "cell_type": "code",
   "execution_count": null,
   "metadata": {
    "colab": {
     "base_uri": "https://localhost:8080/"
    },
    "id": "Ge8QXqiQQDQg",
    "outputId": "9e2103ba-81c7-4cca-a5dc-08d59f47a0da"
   },
   "outputs": [],
   "source": [
    "!pip install -q --upgrade transformers[onnx]==4.52.3 optimum"
   ]
  },
  {
   "cell_type": "markdown",
   "metadata": {
    "id": "rkvuW7sfQDQi"
   },
   "source": [
    "- HuggingFace has an extension called Optimum which offers specialized model inference, including ONNX. We can use this to import and export ONNX models with `from_pretrained` and `save_pretrained`.\n",
    "- We'll use [xlm-roberta-base](https://huggingface.co/xlm-roberta-base) model from HuggingFace as an example and load it as a `ORTModelForFeatureExtraction`, representing an ONNX model.\n",
    "- In addition to the XLM-RoBERTa model, we also need to save the `XLMRobertaTokenizer`. This is the same for every model, these are assets (saved in `/assets`) needed for tokenization inside Spark NLP."
   ]
  },
  {
   "cell_type": "code",
   "execution_count": 2,
   "metadata": {
    "colab": {
     "base_uri": "https://localhost:8080/",
     "height": 368,
     "referenced_widgets": [
      "c915f7d96cd842158f84e37a771ec407",
      "8bd9340b597441f1875bce92cfca618c",
      "91deb591057d45068f91f8de250fe275",
      "9afa593a264d41f891485a2fe811e3d3",
      "d723a56643e84d22ae234831162a8474",
      "55ac8642052b4d12b956d8a089edfce1",
      "caf10f7d7cb248fda4898a8fcb876aa3",
      "8c0d6e3897ab4d91a22b70c1cd78b45f",
      "584345998c6d4c4caa43599d68349f3b",
      "f03844ec60464a4392f9b99749483b84",
      "d1011807166748f5b12990d1b821f0af",
      "0a2676a50611440caf8ecb88099d02e0",
      "e6ec433db08e498d9cf25a114a89834b",
      "15739d5f42a04392845d38fbac392b65",
      "57cdee1c981f4a71bcfce2fbd2402be3",
      "535dead58e0548e7bd1f2c2810d32558",
      "06b4936540f0437bbadcbcec621024d9",
      "92d4586bf6774db0830188f729950cdf",
      "820e714de3fd439ba3fa8f7c6f80c5e5",
      "3c4faaf6292b40108460bd2412e874e9",
      "b6999384ce5e4fd3acd861cb09dbe00a",
      "8d1e3f7d7ad946ee87f573d2799290a4",
      "9131e00fa00d47fb855ab3ea287304b9",
      "1f7aec6056514ef48d9e972ce5b6d1e9",
      "58fb55d048f04c13ae522e593a0f5248",
      "c4b140baeab64b9480d9413d8e3e80bd",
      "6caf42c2775746149ced25de3b894193",
      "4fe1890da42742ee8331db2ca2ee239f",
      "e7c21cedcff9408da61877a916dad4d0",
      "2324258caa80450db1fd0c1b3dbbf8cb",
      "dc8defd8203e4845b8b6a3a8bed4a21f",
      "29ac78d870d24bcead98933bcc993305",
      "4315721828674a409ef9baefdd9dd4d8",
      "3d635ea8e42c4c61aa7d7ec62014e06e",
      "3f46ef919c3240f7a4628bf37371cea3",
      "69064d0f503d4f41ae9ab90f176c51b9",
      "994c68a814b3461fb9fc3c3f96879481",
      "ba698332aead42d59d89f43f6238aa4e",
      "3df303b1f2aa42349ddb89c18c0a4a68",
      "037cff7d5d9548d48205631a88138042",
      "cb7c9556dd2447e392314d321d16b783",
      "38baa0b003ec4671963ccd3e72683c93",
      "6c71b16a7a6a442e8b8833ceb5e5ab9d",
      "75d5d1a62d974e0db02a43d1a07e57f4",
      "b5bf8d7adf4f4f3cb1480ab96a9bc763",
      "91c0e9df46a847caada92e7d9ecf0bb6",
      "214dbd63e3bb42e7a7d4fce3c724b212",
      "02fe1e2a0c964cf8b42aad32e1ffd658",
      "19363205c4af4b3782058d8c98f0a77c",
      "5cff25429f364ae38d0090200cd13028",
      "35f77eca9a3349ab9b55fc3a2a60a6b3",
      "e8518f317d214e8b85580b12a5ab5e8f",
      "4b10db06aaeb4791ae0d7fea4769f2af",
      "95c4f7b0dd15483d96fa9b974e1a0368",
      "4d8a47e4cb7745adb9e99413a9bb3bfa"
     ]
    },
    "id": "gWKykektfwbJ",
    "outputId": "4fb74711-0005-462f-83da-b190a9e09890"
   },
   "outputs": [
    {
     "name": "stderr",
     "output_type": "stream",
     "text": [
      "/usr/local/lib/python3.11/dist-packages/huggingface_hub/utils/_auth.py:94: UserWarning: \n",
      "The secret `HF_TOKEN` does not exist in your Colab secrets.\n",
      "To authenticate with the Hugging Face Hub, create a token in your settings tab (https://huggingface.co/settings/tokens), set it as secret in your Google Colab and restart your session.\n",
      "You will be able to reuse this secret in all of your notebooks.\n",
      "Please note that authentication is recommended but still optional to access public models or datasets.\n",
      "  warnings.warn(\n",
      "The model xlm-roberta-base was already converted to ONNX but got `export=True`, the model will be converted to ONNX once again. Don't forget to save the resulting model with `.save_pretrained()`\n"
     ]
    },
    {
     "data": {
      "application/vnd.jupyter.widget-view+json": {
       "model_id": "c915f7d96cd842158f84e37a771ec407",
       "version_major": 2,
       "version_minor": 0
      },
      "text/plain": [
       "config.json:   0%|          | 0.00/615 [00:00<?, ?B/s]"
      ]
     },
     "metadata": {},
     "output_type": "display_data"
    },
    {
     "data": {
      "application/vnd.jupyter.widget-view+json": {
       "model_id": "0a2676a50611440caf8ecb88099d02e0",
       "version_major": 2,
       "version_minor": 0
      },
      "text/plain": [
       "model.safetensors:   0%|          | 0.00/1.12G [00:00<?, ?B/s]"
      ]
     },
     "metadata": {},
     "output_type": "display_data"
    },
    {
     "data": {
      "application/vnd.jupyter.widget-view+json": {
       "model_id": "9131e00fa00d47fb855ab3ea287304b9",
       "version_major": 2,
       "version_minor": 0
      },
      "text/plain": [
       "tokenizer_config.json:   0%|          | 0.00/25.0 [00:00<?, ?B/s]"
      ]
     },
     "metadata": {},
     "output_type": "display_data"
    },
    {
     "data": {
      "application/vnd.jupyter.widget-view+json": {
       "model_id": "3d635ea8e42c4c61aa7d7ec62014e06e",
       "version_major": 2,
       "version_minor": 0
      },
      "text/plain": [
       "sentencepiece.bpe.model:   0%|          | 0.00/5.07M [00:00<?, ?B/s]"
      ]
     },
     "metadata": {},
     "output_type": "display_data"
    },
    {
     "data": {
      "application/vnd.jupyter.widget-view+json": {
       "model_id": "b5bf8d7adf4f4f3cb1480ab96a9bc763",
       "version_major": 2,
       "version_minor": 0
      },
      "text/plain": [
       "tokenizer.json:   0%|          | 0.00/9.10M [00:00<?, ?B/s]"
      ]
     },
     "metadata": {},
     "output_type": "display_data"
    },
    {
     "data": {
      "text/plain": [
       "('onnx_models/xlm-roberta-base/tokenizer_config.json',\n",
       " 'onnx_models/xlm-roberta-base/special_tokens_map.json',\n",
       " 'onnx_models/xlm-roberta-base/sentencepiece.bpe.model',\n",
       " 'onnx_models/xlm-roberta-base/added_tokens.json')"
      ]
     },
     "execution_count": 2,
     "metadata": {},
     "output_type": "execute_result"
    }
   ],
   "source": [
    "from transformers import XLMRobertaTokenizer\n",
    "from optimum.onnxruntime import ORTModelForFeatureExtraction\n",
    "\n",
    "MODEL_NAME = \"xlm-roberta-base\"\n",
    "EXPORT_PATH = f\"onnx_models/{MODEL_NAME}\"\n",
    "\n",
    "ort_model = ORTModelForFeatureExtraction.from_pretrained(MODEL_NAME, export=True)\n",
    "ort_model.save_pretrained(EXPORT_PATH)\n",
    "\n",
    "tokenizer = XLMRobertaTokenizer.from_pretrained(MODEL_NAME)\n",
    "tokenizer.save_pretrained(EXPORT_PATH)"
   ]
  },
  {
   "cell_type": "markdown",
   "metadata": {
    "id": "-6XU4vbuQDQi"
   },
   "source": [
    "Let's have a look inside these two directories and see what we are dealing with:"
   ]
  },
  {
   "cell_type": "code",
   "execution_count": 3,
   "metadata": {
    "colab": {
     "base_uri": "https://localhost:8080/"
    },
    "id": "hhPzqr5QQDQi",
    "outputId": "18e08b6c-9eb2-492c-bb25-06ca8fc9e20f"
   },
   "outputs": [
    {
     "name": "stdout",
     "output_type": "stream",
     "text": [
      "total 1089044\n",
      "-rw-r--r-- 1 root root        640 Jun 27 03:58 config.json\n",
      "-rw-r--r-- 1 root root 1110092472 Jun 27 03:58 model.onnx\n",
      "-rw-r--r-- 1 root root    5069051 Jun 27 03:58 sentencepiece.bpe.model\n",
      "-rw-r--r-- 1 root root        280 Jun 27 03:58 special_tokens_map.json\n",
      "-rw-r--r-- 1 root root       1203 Jun 27 03:58 tokenizer_config.json\n"
     ]
    }
   ],
   "source": [
    "!ls -l {EXPORT_PATH}"
   ]
  },
  {
   "cell_type": "markdown",
   "metadata": {
    "id": "L2wniLQvf4fR"
   },
   "source": [
    "We need to move `sentencepiece.bpe.model` from the tokenizer to `assets` folder which Spark NLP will look for"
   ]
  },
  {
   "cell_type": "code",
   "execution_count": 4,
   "metadata": {
    "id": "6rQTx22Mf5lx"
   },
   "outputs": [],
   "source": [
    "!mkdir {EXPORT_PATH}/assets && mv {EXPORT_PATH}/sentencepiece.bpe.model {EXPORT_PATH}/assets"
   ]
  },
  {
   "cell_type": "markdown",
   "metadata": {
    "id": "VlmBu4HfQDQj"
   },
   "source": [
    "## Import and Save XlmRoBertaSentenceEmbeddings in Spark NLP"
   ]
  },
  {
   "cell_type": "markdown",
   "metadata": {
    "id": "QpPY4l19gHER"
   },
   "source": [
    "- Install and set up Spark NLP in Google Colab\n",
    "- This example uses specific versions of `pyspark` and `spark-nlp` that have been tested with the transformer model to ensure everything runs smoothly."
   ]
  },
  {
   "cell_type": "code",
   "execution_count": 5,
   "metadata": {
    "colab": {
     "base_uri": "https://localhost:8080/"
    },
    "id": "XA83jt0AQDQj",
    "outputId": "d1f8c2c9-5215-4f48-c5b6-7276f508d390"
   },
   "outputs": [
    {
     "name": "stdout",
     "output_type": "stream",
     "text": [
      "\u001b[2K     \u001b[90m━━━━━━━━━━━━━━━━━━━━━━━━━━━━━━━━━━━━━━━\u001b[0m \u001b[32m317.3/317.3 MB\u001b[0m \u001b[31m5.0 MB/s\u001b[0m eta \u001b[36m0:00:00\u001b[0m\n",
      "\u001b[?25h  Preparing metadata (setup.py) ... \u001b[?25l\u001b[?25hdone\n",
      "\u001b[2K   \u001b[90m━━━━━━━━━━━━━━━━━━━━━━━━━━━━━━━━━━━━━━━━\u001b[0m \u001b[32m635.7/635.7 kB\u001b[0m \u001b[31m36.5 MB/s\u001b[0m eta \u001b[36m0:00:00\u001b[0m\n",
      "\u001b[?25h  Building wheel for pyspark (setup.py) ... \u001b[?25l\u001b[?25hdone\n"
     ]
    }
   ],
   "source": [
    "!pip install -q pyspark==3.5.4 spark-nlp==5.5.3"
   ]
  },
  {
   "cell_type": "markdown",
   "metadata": {
    "id": "0SD82___QDQk"
   },
   "source": [
    "Let's start Spark with Spark NLP included via our simple `start()` function"
   ]
  },
  {
   "cell_type": "code",
   "execution_count": 6,
   "metadata": {
    "colab": {
     "base_uri": "https://localhost:8080/"
    },
    "id": "rm8NgspJQDQk",
    "outputId": "7ad532bb-3a1e-497b-af86-721a9ae9dd46"
   },
   "outputs": [
    {
     "name": "stdout",
     "output_type": "stream",
     "text": [
      "Spark NLP version:  5.5.3\n",
      "Apache Spark version:  3.5.4\n"
     ]
    }
   ],
   "source": [
    "import sparknlp\n",
    "\n",
    "spark = sparknlp.start()\n",
    "\n",
    "print(\"Spark NLP version: \", sparknlp.version())\n",
    "print(\"Apache Spark version: \", spark.version)"
   ]
  },
  {
   "cell_type": "markdown",
   "metadata": {
    "id": "JcXve9PAQDQk"
   },
   "source": [
    "- Let's use `loadSavedModel` functon in `XlmRoBertaSentenceEmbeddings` which allows us to load the ONNX model\n",
    "- Most params will be set automatically. They can also be set later after loading the model in `XlmRoBertaSentenceEmbeddings` during runtime, so don't worry about setting them now\n",
    "- `loadSavedModel` accepts two params, first is the path to the exported model. The second is the SparkSession that is `spark` variable we previously started via `sparknlp.start()`\n",
    "- `setStorageRef` is very important. When you are training a task like NER or any Text Classification, we use this reference to bound the trained model to this specific embeddings so you won't load a different embeddings by mistake and see terrible results 😊\n",
    "- It's up to you what you put in `setStorageRef` but it cannot be changed later on. We usually use the name of the model to be clear, but you can get creative if you want!\n",
    "- The `dimension` param is is purely cosmetic and won't change anything. It's mostly for you to know later via `.getDimension` what is the dimension of your model. So set this accordingly.\n",
    "- NOTE: `loadSavedModel` accepts local paths in addition to distributed file systems such as `HDFS`, `S3`, `DBFS`, etc. This feature was introduced in Spark NLP 4.2.2 release. Keep in mind the best and recommended way to move/share/reuse Spark NLP models is to use `write.save` so you can use `.load()` from any file systems natively.st and recommended way to move/share/reuse Spark NLP models is to use `write.save` so you can use `.load()` from any file systems natively."
   ]
  },
  {
   "cell_type": "code",
   "execution_count": 7,
   "metadata": {
    "id": "ZExCq8AXQDQk"
   },
   "outputs": [],
   "source": [
    "from sparknlp.annotator import XlmRoBertaSentenceEmbeddings\n",
    "\n",
    "bert = XlmRoBertaSentenceEmbeddings.loadSavedModel(f\"{EXPORT_PATH}\", spark)\\\n",
    "    .setInputCols([\"document\"])\\\n",
    "    .setOutputCol(\"bert\")\\\n",
    "    .setCaseSensitive(True)"
   ]
  },
  {
   "cell_type": "markdown",
   "metadata": {
    "id": "qLcAnOxfQDQk"
   },
   "source": [
    "- Let's save it on disk so it is easier to be moved around and also be used later via `.load` function"
   ]
  },
  {
   "cell_type": "code",
   "execution_count": 8,
   "metadata": {
    "id": "E8mSMxd7QDQl"
   },
   "outputs": [],
   "source": [
    "bert.write().overwrite().save(f\"{MODEL_NAME}_spark_nlp\")"
   ]
  },
  {
   "cell_type": "markdown",
   "metadata": {
    "id": "6aww4Br3QDQl"
   },
   "source": [
    "Let's clean up stuff we don't need anymore"
   ]
  },
  {
   "cell_type": "code",
   "execution_count": 9,
   "metadata": {
    "id": "EDcpaYfsQDQl"
   },
   "outputs": [],
   "source": [
    "!rm -rf {EXPORT_PATH}"
   ]
  },
  {
   "cell_type": "markdown",
   "metadata": {
    "id": "hThC4DFoQDQl"
   },
   "source": [
    "Awesome  😎 !\n",
    "\n",
    "This is your ONNX XlmRoBertaSentenceEmbeddings model from HuggingFace 🤗  loaded and saved by Spark NLP 🚀"
   ]
  },
  {
   "cell_type": "code",
   "execution_count": 10,
   "metadata": {
    "colab": {
     "base_uri": "https://localhost:8080/"
    },
    "id": "ssEzmdMWQDQl",
    "outputId": "ed003943-9548-4d00-982d-dc3791ca4dee"
   },
   "outputs": [
    {
     "name": "stdout",
     "output_type": "stream",
     "text": [
      "total 1089204\n",
      "drwxr-xr-x 2 root root       4096 Jun 27 04:03 metadata\n",
      "-rw-r--r-- 1 root root 1110261996 Jun 27 04:04 xlmroberta_sentence_onnx\n",
      "-rw-r--r-- 1 root root    5069051 Jun 27 04:03 xlmroberta_spp\n"
     ]
    }
   ],
   "source": [
    "! ls -l {MODEL_NAME}_spark_nlp"
   ]
  },
  {
   "cell_type": "markdown",
   "metadata": {
    "id": "16BJW8ZTQDQl"
   },
   "source": [
    "Now let's see how we can use it on other machines, clusters, or any place you wish to use your new and shiny XlmRoBertaSentenceEmbeddings model 😊"
   ]
  },
  {
   "cell_type": "code",
   "execution_count": 14,
   "metadata": {
    "colab": {
     "base_uri": "https://localhost:8080/"
    },
    "id": "5NS4vgXZQDQl",
    "outputId": "26f72440-cfda-4f9c-f9a6-caacc1e57200"
   },
   "outputs": [
    {
     "name": "stdout",
     "output_type": "stream",
     "text": [
      "+-------------+\n",
      "|    embedding|\n",
      "+-------------+\n",
      "| 4.0072636E-4|\n",
      "|   0.00312963|\n",
      "| 0.0013518634|\n",
      "|-0.0014537025|\n",
      "|-0.0015880099|\n",
      "| -0.009523226|\n",
      "| 0.0016372511|\n",
      "|  0.006321915|\n",
      "|-1.6188821E-4|\n",
      "| -0.008094354|\n",
      "|  0.005312449|\n",
      "| 0.0035219616|\n",
      "|  0.007570335|\n",
      "| -2.236374E-4|\n",
      "|  0.001648069|\n",
      "|-0.0011625341|\n",
      "| 0.0012606808|\n",
      "|-0.0021722228|\n",
      "| 0.0032363958|\n",
      "| 0.0029782664|\n",
      "+-------------+\n",
      "only showing top 20 rows\n",
      "\n"
     ]
    }
   ],
   "source": [
    "from sparknlp.base import DocumentAssembler\n",
    "from sparknlp.annotator import Tokenizer\n",
    "from pyspark.ml import Pipeline\n",
    "\n",
    "document_assembler = DocumentAssembler() \\\n",
    "    .setInputCol(\"text\") \\\n",
    "    .setOutputCol(\"document\")\n",
    "\n",
    "tokenizer = Tokenizer() \\\n",
    "    .setInputCols([\"document\"]) \\\n",
    "    .setOutputCol(\"token\")\n",
    "\n",
    "bert_loaded = XlmRoBertaSentenceEmbeddings.load(f\"{MODEL_NAME}_spark_nlp\") \\\n",
    "    .setInputCols([\"document\"]) \\\n",
    "    .setOutputCol(\"bert\")\n",
    "\n",
    "pipeline = Pipeline(stages=[\n",
    "    document_assembler,\n",
    "    tokenizer,\n",
    "    bert_loaded\n",
    "])\n",
    "\n",
    "data = spark.createDataFrame([[\n",
    "    \"William Henry Gates III (born October 28, 1955) is an American business magnate, software developer, investor, and philanthropist.\"\n",
    "]], [\"text\"])\n",
    "\n",
    "model = pipeline.fit(data)\n",
    "result = model.transform(data)\n",
    "\n",
    "result.selectExpr(\"explode(bert.embeddings[0]) as embedding\").show()"
   ]
  },
  {
   "cell_type": "markdown",
   "metadata": {
    "id": "DnCmzIGfQDQm"
   },
   "source": [
    "That's it! You can now go wild and use hundreds of XlmRoBertaSentenceEmbeddings models from HuggingFace 🤗 in Spark NLP 🚀\n"
   ]
  }
 ],
 "metadata": {
  "accelerator": "GPU",
  "colab": {
   "gpuType": "T4",
   "provenance": []
  },
  "kernelspec": {
   "display_name": "Python 3",
   "name": "python3"
  },
  "language_info": {
   "codemirror_mode": {
    "name": "ipython",
    "version": 3
   },
   "file_extension": ".py",
   "mimetype": "text/x-python",
   "name": "python",
   "nbconvert_exporter": "python",
   "pygments_lexer": "ipython3"
  }
 },
 "nbformat": 4,
 "nbformat_minor": 0
}
