{
  "cells": [
    {
      "cell_type": "markdown",
      "metadata": {
        "id": "r58NM_Tl40bZ"
      },
      "source": [
        "![JohnSnowLabs](https://sparknlp.org/assets/images/logo.png)\n",
        "\n",
        "[![Open In Colab](https://colab.research.google.com/assets/colab-badge.svg)](https://colab.research.google.com/github/JohnSnowLabs/spark-nlp/blob/master/examples/python/transformers/onnx/HuggingFace_ONNX_in_Spark_NLP_BERT.ipynb)\n",
        "\n",
        "# Import ONNX BERT models from HuggingFace 🤗 into Spark NLP 🚀\n",
        "\n",
        "Let's keep in mind a few things before we start 😊\n",
        "\n",
        "- ONNX support was introduced in  `Spark NLP 5.0.0`, enabling high performance inference for models. Please make sure you have upgraded to the latest Spark NLP release.\n",
        "- You can import models for BERT from HuggingFace and they have to be in `Fill Mask` category. Meaning, you cannot use BERT models trained/fine-tuned on a specific task such as token/sequence classification."
      ]
    },
    {
      "cell_type": "markdown",
      "metadata": {
        "id": "PYEc-H4L40bb"
      },
      "source": [
        "## Export and Save HuggingFace model"
      ]
    },
    {
      "cell_type": "markdown",
      "metadata": {
        "id": "pkZ-B-ft40bc"
      },
      "source": [
        "- Let's install `transformers` package with the `onnx` extension and it's dependencies. You don't need `onnx` to be installed for Spark NLP, however, we need it to load and save models from HuggingFace.\n",
        "- We lock `transformers` on version `4.48.2`. This doesn't mean it won't work with the future releases, but we wanted you to know which versions have been tested successfully."
      ]
    },
    {
      "cell_type": "code",
      "execution_count": null,
      "metadata": {
        "colab": {
          "base_uri": "https://localhost:8080/"
        },
        "id": "cL23dxoY40bc",
        "outputId": "f776d073-2a3d-44fe-e8aa-4593cacd2b98"
      },
      "outputs": [],
      "source": [
        "!pip install -q --upgrade transformers[onnx]==4.48.2 optimum onnx"
      ]
    },
    {
      "cell_type": "markdown",
      "metadata": {
        "id": "2fF7HGR-40bd"
      },
      "source": [
        "- HuggingFace has an extension called Optimum which offers specialized model inference, including ONNX. We can use this to import and export ONNX models with `from_pretrained` and `save_pretrained`.\n",
        "- We'll use [bert-base-cased](https://huggingface.co/bert-base-cased) model from HuggingFace as an example and load it as a `ORTModelForFeatureExtraction`, representing an ONNX model.\n",
        "- In addition to the BERT model, we also need to save the `BertTokenizer`. This is the same for every model, these are assets (saved in `/assets`) needed for tokenization inside Spark NLP."
      ]
    },
    {
      "cell_type": "code",
      "execution_count": 2,
      "metadata": {
        "colab": {
          "base_uri": "https://localhost:8080/",
          "height": 351,
          "referenced_widgets": [
            "86db521945ac4d4c812de0172e35838e",
            "1f1b19ad4375483a9467e3f6af69e160",
            "2b7a857d1eef4d209c8caf92058a0cb9",
            "85ca1ea22b5c42d0b2b234fd4d8a41f7",
            "2bbc35f48a784149a94c5cd6bccdad67",
            "7203c282d53441fdab4cdff7a7dbfaf2",
            "39807e7050b948f6aa2159f983f8828b",
            "d6f652c7be144399ad7ecd17dbb25d19",
            "3a92c9e4dc1247218f797771965ba1a8",
            "bedae042520d489aa5c061a5658311d2",
            "ff0e5ecad79945ce899b3e5969cc386e",
            "e18f385942314569832ba18e1ce52386",
            "86d25605eccb4efa9e17bf9a1a094955",
            "92671d95d6e74094927ea9086d50a95e",
            "16ceda3a25684e10bd1a8f482de3ceba",
            "6ba16b1f8b9e48afbff019c8a3b80e74",
            "25954f9e6ac64b129c7116f34e314e59",
            "a5d9e41416de4e2185d15bf18e776573",
            "51359fc34960459e979fccfa7a8b0bf8",
            "644eb23a58354afbb698e7c3a3171c7c",
            "bc4370346285439db84e789c18af501f",
            "463ff2eb077d4619a7c5171a545f0bed",
            "b5ddcc1c04944b6f8be3b2aaaa88aaac",
            "0512a92c1415440db731d5a781fb9985",
            "1f568d0763f9491fb6e59de44e04181b",
            "226e7c8a8f1144ceab7d2c16de7903c4",
            "6324f68f867a4e36898b3d7997baacd4",
            "12e279b63e5d40f8b233a19528e05179",
            "efea3729cd394ab78b8faa6aed665acd",
            "c2e80e61df6f4f6e879d391c962639b3",
            "d4d457485f954481ac89456f8c6a4359",
            "176ba40e55a942d6b36505bebf5ed8e6",
            "6985ef68fdec4334b935ddcd4fbc5679",
            "d158c0f2b23547188059c4409609fcb7",
            "a25ac83cc48849a188cbde5135d971d2",
            "b0bcf78831b94411a94c679a9e8a2b0b",
            "ed2f72a17aa442ea8bd45ed06f8bdfd9",
            "4782dfb7030c44668dadeb2ed330ee4d",
            "62b4323112fe46e88204202641028e0e",
            "843fa9ac10aa4edf990b5ffdfaa3a6bb",
            "44121e56c4eb46f2b41926777cdb8395",
            "bf5863d69d9c4c1fa2051ac98afeac03",
            "d31a38e63d724188834e335b094efd1d",
            "cf7db86e613d4ff88f1a7e1f40c828b0",
            "69b2d0618eec44ecb2c91ed781839333",
            "173896899de5488d91f73a4c2ec7b375",
            "4c69b08adaad4dcaa492f8a3a3f3f9b6",
            "34d0352013664ba68af07ce83b8c35f9",
            "56b6ec8612754c1abadb4778726d5b93",
            "a6c03a5d021d4a3eafd263c1959bb62b",
            "8b10b09e68cb447990bee5bba1e3695a",
            "b92fbfee17f942f7aaa7751776169b6d",
            "a3429e0a4417466fba6adc0134c226c6",
            "fcb2f8740be84acf958afced27789389",
            "a7c54f64fe6c44d28df8752c16f3b5fd"
          ]
        },
        "id": "3pb83ZtU40bd",
        "outputId": "9ee77403-1ed1-4812-cc91-2988f6ba4385"
      },
      "outputs": [
        {
          "name": "stderr",
          "output_type": "stream",
          "text": [
            "/usr/local/lib/python3.11/dist-packages/huggingface_hub/utils/_auth.py:104: UserWarning: \n",
            "Error while fetching `HF_TOKEN` secret value from your vault: 'Requesting secret HF_TOKEN timed out. Secrets can only be fetched when running from the Colab UI.'.\n",
            "You are not authenticated with the Hugging Face Hub in this notebook.\n",
            "If the error persists, please let us know by opening an issue on GitHub (https://github.com/huggingface/huggingface_hub/issues/new).\n",
            "  warnings.warn(\n"
          ]
        },
        {
          "data": {
            "application/vnd.jupyter.widget-view+json": {
              "model_id": "86db521945ac4d4c812de0172e35838e",
              "version_major": 2,
              "version_minor": 0
            },
            "text/plain": [
              "config.json:   0%|          | 0.00/570 [00:00<?, ?B/s]"
            ]
          },
          "metadata": {},
          "output_type": "display_data"
        },
        {
          "data": {
            "application/vnd.jupyter.widget-view+json": {
              "model_id": "e18f385942314569832ba18e1ce52386",
              "version_major": 2,
              "version_minor": 0
            },
            "text/plain": [
              "model.safetensors:   0%|          | 0.00/436M [00:00<?, ?B/s]"
            ]
          },
          "metadata": {},
          "output_type": "display_data"
        },
        {
          "data": {
            "application/vnd.jupyter.widget-view+json": {
              "model_id": "b5ddcc1c04944b6f8be3b2aaaa88aaac",
              "version_major": 2,
              "version_minor": 0
            },
            "text/plain": [
              "tokenizer_config.json:   0%|          | 0.00/49.0 [00:00<?, ?B/s]"
            ]
          },
          "metadata": {},
          "output_type": "display_data"
        },
        {
          "data": {
            "application/vnd.jupyter.widget-view+json": {
              "model_id": "d158c0f2b23547188059c4409609fcb7",
              "version_major": 2,
              "version_minor": 0
            },
            "text/plain": [
              "vocab.txt:   0%|          | 0.00/213k [00:00<?, ?B/s]"
            ]
          },
          "metadata": {},
          "output_type": "display_data"
        },
        {
          "data": {
            "application/vnd.jupyter.widget-view+json": {
              "model_id": "69b2d0618eec44ecb2c91ed781839333",
              "version_major": 2,
              "version_minor": 0
            },
            "text/plain": [
              "tokenizer.json:   0%|          | 0.00/436k [00:00<?, ?B/s]"
            ]
          },
          "metadata": {},
          "output_type": "display_data"
        },
        {
          "data": {
            "text/plain": [
              "('onnx_models/bert-base-cased/tokenizer_config.json',\n",
              " 'onnx_models/bert-base-cased/special_tokens_map.json',\n",
              " 'onnx_models/bert-base-cased/vocab.txt',\n",
              " 'onnx_models/bert-base-cased/added_tokens.json',\n",
              " 'onnx_models/bert-base-cased/tokenizer.json')"
            ]
          },
          "execution_count": 2,
          "metadata": {},
          "output_type": "execute_result"
        }
      ],
      "source": [
        "from transformers import AutoTokenizer\n",
        "from optimum.onnxruntime import ORTModelForFeatureExtraction\n",
        "\n",
        "MODEL_NAME = \"bert-base-cased\"\n",
        "EXPORT_PATH = f\"onnx_models/{MODEL_NAME}\"\n",
        "\n",
        "ort_model = ORTModelForFeatureExtraction.from_pretrained(MODEL_NAME, export=True)\n",
        "ort_model.save_pretrained(EXPORT_PATH)\n",
        "\n",
        "tokenizer = AutoTokenizer.from_pretrained(MODEL_NAME)\n",
        "tokenizer.save_pretrained(EXPORT_PATH)"
      ]
    },
    {
      "cell_type": "markdown",
      "metadata": {
        "id": "dWGjBT6740be"
      },
      "source": [
        "Let's have a look inside these two directories and see what we are dealing with:"
      ]
    },
    {
      "cell_type": "code",
      "execution_count": null,
      "metadata": {
        "id": "PI4bH4o340be"
      },
      "outputs": [],
      "source": [
        "!ls -l {EXPORT_PATH}"
      ]
    },
    {
      "cell_type": "markdown",
      "metadata": {
        "id": "lewz141-BnHZ"
      },
      "source": [
        "Create assets directory and move tokenizer files (required for Spark NLP)"
      ]
    },
    {
      "cell_type": "code",
      "execution_count": 4,
      "metadata": {
        "id": "R4eH-_NH4X4G"
      },
      "outputs": [],
      "source": [
        "!mkdir -p {EXPORT_PATH}/assets && mv {EXPORT_PATH}/vocab.txt {EXPORT_PATH}/assets/"
      ]
    },
    {
      "cell_type": "code",
      "execution_count": 5,
      "metadata": {
        "colab": {
          "base_uri": "https://localhost:8080/"
        },
        "id": "qWBA_I8140bf",
        "outputId": "d3d48895-abb0-41ef-c63e-b91b0e927f6a"
      },
      "outputs": [
        {
          "name": "stdout",
          "output_type": "stream",
          "text": [
            "total 212\n",
            "-rw-r--r-- 1 root root 213450 Jun  9 20:27 vocab.txt\n"
          ]
        }
      ],
      "source": [
        "!ls -l {EXPORT_PATH}/assets"
      ]
    },
    {
      "cell_type": "markdown",
      "metadata": {
        "id": "CU1OiAXa40bf"
      },
      "source": [
        "## Import and Save BERT in Spark NLP\n",
        "\n",
        "Let's install and setup Spark NLP in Google Colab. For this example, we'll use specific versions of `pyspark` and `spark-nlp` that we've already tested with this transformer model to make sure everything runs smoothly:\n",
        "\n",
        "If you prefer to use the latest versions, feel free to run:\n",
        "\n",
        "`!pip install -q pyspark spark-nlp`\n",
        "\n",
        "Just keep in mind that newer versions might have some changes, so you may need to tweak your code a bit if anything breaks."
      ]
    },
    {
      "cell_type": "code",
      "execution_count": 6,
      "metadata": {
        "colab": {
          "base_uri": "https://localhost:8080/"
        },
        "id": "yz-aBGOa40bf",
        "outputId": "834fec43-b015-4fdd-be84-6d5b9c69fc87"
      },
      "outputs": [
        {
          "name": "stdout",
          "output_type": "stream",
          "text": [
            "\u001b[2K     \u001b[90m━━━━━━━━━━━━━━━━━━━━━━━━━━━━━━━━━━━━━━━\u001b[0m \u001b[32m317.3/317.3 MB\u001b[0m \u001b[31m2.6 MB/s\u001b[0m eta \u001b[36m0:00:00\u001b[0m\n",
            "\u001b[?25h  Preparing metadata (setup.py) ... \u001b[?25l\u001b[?25hdone\n",
            "\u001b[2K   \u001b[90m━━━━━━━━━━━━━━━━━━━━━━━━━━━━━━━━━━━━━━━━\u001b[0m \u001b[32m635.7/635.7 kB\u001b[0m \u001b[31m22.3 MB/s\u001b[0m eta \u001b[36m0:00:00\u001b[0m\n",
            "\u001b[?25h  Building wheel for pyspark (setup.py) ... \u001b[?25l\u001b[?25hdone\n"
          ]
        }
      ],
      "source": [
        "!pip install -q pyspark==3.5.4 spark-nlp==5.5.3"
      ]
    },
    {
      "cell_type": "markdown",
      "metadata": {
        "id": "DjwyW2ay40bf"
      },
      "source": [
        "Let's start Spark with Spark NLP included via our simple `start()` function"
      ]
    },
    {
      "cell_type": "code",
      "execution_count": null,
      "metadata": {
        "id": "F8VBWB0W40bf"
      },
      "outputs": [],
      "source": [
        "import sparknlp\n",
        "\n",
        "spark = sparknlp.start()\n",
        "\n",
        "print(\"Spark NLP version: \", sparknlp.version())\n",
        "print(\"Apache Spark version: \", spark.version)"
      ]
    },
    {
      "cell_type": "markdown",
      "metadata": {
        "id": "ugSthcTL40bg"
      },
      "source": [
        "- Let's use `loadSavedModel` functon in `BertEmbeddings` which allows us to load the ONNX model\n",
        "- Most params will be set automatically. They can also be set later after loading the model in `BertEmbeddings` during runtime, so don't worry about setting them now\n",
        "- `loadSavedModel` accepts two params, first is the path to the exported model. The second is the SparkSession that is `spark` variable we previously started via `sparknlp.start()`\n",
        "- `setStorageRef` is very important. When you are training a task like NER or any Text Classification, we use this reference to bound the trained model to this specific embeddings so you won't load a different embeddings by mistake and see terrible results 😊\n",
        "- It's up to you what you put in `setStorageRef` but it cannot be changed later on. We usually use the name of the model to be clear, but you can get creative if you want!\n",
        "- The `dimension` param is is purely cosmetic and won't change anything. It's mostly for you to know later via `.getDimension` what is the dimension of your model. So set this accordingly.\n",
        "- NOTE: `loadSavedModel` accepts local paths in addition to distributed file systems such as `HDFS`, `S3`, `DBFS`, etc. This feature was introduced in Spark NLP 4.2.2 release. Keep in mind the best and recommended way to move/share/reuse Spark NLP models is to use `write.save` so you can use `.load()` from any file systems natively.st and recommended way to move/share/reuse Spark NLP models is to use `write.save` so you can use `.load()` from any file systems natively.\n"
      ]
    },
    {
      "cell_type": "code",
      "execution_count": null,
      "metadata": {
        "id": "TcmnSSGW40bg"
      },
      "outputs": [],
      "source": [
        "from sparknlp.annotator import BertEmbeddings\n",
        "\n",
        "bert = BertEmbeddings.loadSavedModel(f\"{EXPORT_PATH}\", spark)\\\n",
        "    .setInputCols([\"document\",'token'])\\\n",
        "    .setOutputCol(\"bert\")\\\n",
        "    .setCaseSensitive(True)\\\n",
        "    .setDimension(768)\\\n",
        "    .setStorageRef('bert_base_cased')"
      ]
    },
    {
      "cell_type": "markdown",
      "metadata": {
        "id": "Y5EHVR-640bg"
      },
      "source": [
        "- Let's save it on disk so it is easier to be moved around and also be used later via `.load` function"
      ]
    },
    {
      "cell_type": "code",
      "execution_count": null,
      "metadata": {
        "id": "DFlrrL-f40bg"
      },
      "outputs": [],
      "source": [
        "bert.write().overwrite().save(f\"{MODEL_NAME}_spark_nlp\")"
      ]
    },
    {
      "cell_type": "markdown",
      "metadata": {
        "id": "DnXbtSOS40bg"
      },
      "source": [
        "Let's clean up stuff we don't need anymore"
      ]
    },
    {
      "cell_type": "code",
      "execution_count": null,
      "metadata": {
        "id": "eYCpuneg40bg"
      },
      "outputs": [],
      "source": [
        "!rm -rf {EXPORT_PATH}"
      ]
    },
    {
      "cell_type": "markdown",
      "metadata": {
        "id": "-skp9aMu40bg"
      },
      "source": [
        "Awesome  😎 !\n",
        "\n",
        "This is your ONNX BERT model from HuggingFace 🤗  loaded and saved by Spark NLP 🚀"
      ]
    },
    {
      "cell_type": "code",
      "execution_count": 11,
      "metadata": {
        "colab": {
          "base_uri": "https://localhost:8080/"
        },
        "id": "kbfZtPcO40bh",
        "outputId": "cd2d8eec-e023-43f3-b001-befe3e68cb9a"
      },
      "outputs": [
        {
          "name": "stdout",
          "output_type": "stream",
          "text": [
            "total 421128\n",
            "-rw-r--r-- 1 root root 431222668 Jun  9 20:30 bert_onnx\n",
            "drwxr-xr-x 3 root root      4096 Jun  9 20:30 fields\n",
            "drwxr-xr-x 2 root root      4096 Jun  9 20:30 metadata\n"
          ]
        }
      ],
      "source": [
        "! ls -l {MODEL_NAME}_spark_nlp"
      ]
    },
    {
      "cell_type": "markdown",
      "metadata": {
        "id": "_7Kuqax040bh"
      },
      "source": [
        "Now let's see how we can use it on other machines, clusters, or any place you wish to use your new and shiny BERT model 😊"
      ]
    },
    {
      "cell_type": "code",
      "execution_count": 12,
      "metadata": {
        "colab": {
          "base_uri": "https://localhost:8080/"
        },
        "id": "H5p4SBIM40bh",
        "outputId": "1f7c7a08-be00-46e2-d646-d48a5cd585c9"
      },
      "outputs": [
        {
          "name": "stdout",
          "output_type": "stream",
          "text": [
            "+--------------------+\n",
            "|          embeddings|\n",
            "+--------------------+\n",
            "|[0.43608022, -0.3...|\n",
            "|[-0.03752298, -0....|\n",
            "|[0.39480713, 0.08...|\n",
            "|[-0.1536405, 0.25...|\n",
            "|[-0.4585169, 0.05...|\n",
            "|[-0.1452622, 0.21...|\n",
            "|[0.033441983, -0....|\n",
            "|[-0.10169142, -1....|\n",
            "|[0.2431291, 0.245...|\n",
            "|[-0.60287976, -0....|\n",
            "|[0.21975526, 0.30...|\n",
            "|[0.028660335, 0.2...|\n",
            "|[0.046369076, 0.0...|\n",
            "|[0.104312494, 0.2...|\n",
            "|[1.0041336, 0.126...|\n",
            "|[0.6564506, -0.18...|\n",
            "|[0.13401364, 0.60...|\n",
            "|[0.5020251, 0.230...|\n",
            "|[0.41032273, -0.1...|\n",
            "|[0.09692268, 0.28...|\n",
            "+--------------------+\n",
            "only showing top 20 rows\n",
            "\n"
          ]
        }
      ],
      "source": [
        "from sparknlp.base import DocumentAssembler\n",
        "from sparknlp.annotator import Tokenizer, BertEmbeddings\n",
        "from pyspark.ml import Pipeline\n",
        "\n",
        "document_assembler = DocumentAssembler() \\\n",
        "    .setInputCol(\"text\") \\\n",
        "    .setOutputCol(\"document\")\n",
        "\n",
        "tokenizer = Tokenizer() \\\n",
        "    .setInputCols([\"document\"]) \\\n",
        "    .setOutputCol(\"token\")\n",
        "\n",
        "bert_loaded = BertEmbeddings.load(f\"{MODEL_NAME}_spark_nlp\") \\\n",
        "    .setInputCols([\"document\", \"token\"]) \\\n",
        "    .setOutputCol(\"bert\")\n",
        "\n",
        "pipeline = Pipeline(stages=[\n",
        "    document_assembler,\n",
        "    tokenizer,\n",
        "    bert_loaded\n",
        "])\n",
        "\n",
        "data = spark.createDataFrame([\n",
        "    [\"William Henry Gates III (born October 28, 1955) is an American business magnate, software developer, investor, and philanthropist.\"]\n",
        "]).toDF(\"text\")\n",
        "\n",
        "model = pipeline.fit(data)\n",
        "result = model.transform(data)\n",
        "\n",
        "result.selectExpr(\"explode(bert.embeddings) as embeddings\").show()"
      ]
    },
    {
      "cell_type": "markdown",
      "metadata": {
        "id": "Gh8IvH2H40bh"
      },
      "source": [
        "That's it! You can now go wild and use hundreds of BERT models from HuggingFace 🤗 in Spark NLP 🚀\n"
      ]
    }
  ],
  "metadata": {
    "colab": {
      "provenance": []
    },
    "kernelspec": {
      "display_name": "Python 3 (ipykernel)",
      "language": "python",
      "name": "python3"
    },
    "language_info": {
      "codemirror_mode": {
        "name": "ipython",
        "version": 3
      },
      "file_extension": ".py",
      "mimetype": "text/x-python",
      "name": "python",
      "nbconvert_exporter": "python",
      "pygments_lexer": "ipython3"
    }
  },
  "nbformat": 4,
  "nbformat_minor": 0
}
