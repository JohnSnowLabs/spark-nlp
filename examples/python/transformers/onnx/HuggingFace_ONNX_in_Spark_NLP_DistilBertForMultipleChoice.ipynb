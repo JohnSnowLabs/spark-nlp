{
 "cells": [
  {
   "cell_type": "markdown",
   "metadata": {
    "id": "PAsu8UVGoLVf"
   },
   "source": [
    "![JohnSnowLabs](https://sparknlp.org/assets/images/logo.png)\n",
    "\n",
    "[![Open In Colab](https://colab.research.google.com/assets/colab-badge.svg)](https://colab.research.google.com/github/JohnSnowLabs/spark-nlp/blob/master/examples/python/transformers/onnx/HuggingFace_ONNX_in_Spark_NLP_DistilBertForMultipleChoice.ipynb)\n",
    "\n",
    "## Import ONNX DistilBertForMultipleChoice models from HuggingFace 🤗 into Spark NLP 🚀\n",
    "\n",
    "Let's keep in mind a few things before we start 😊\n",
    "\n",
    "- ONNX support was introduced in  `Spark NLP 5.0.0`, enabling high performance inference for models.\n",
    "- `DistilBertForMultipleChoice` is only available since in `Spark NLP 5.6.0` and after. So please make sure you have upgraded to the latest Spark NLP release\n",
    "- You can import BERT models trained/fine-tuned for question answering via `DistilBertForMultipleChoice` or `TFDistilBertForMultipleChoice`. These models are usually under `Multiple Choice` category and have `bert` in their labels\n",
    "- Reference: [DistilBertForMultipleChoice](https://huggingface.co/docs/transformers/main/en/model_doc/distilbert#transformers.DistilBertForMultipleChoice)"
   ]
  },
  {
   "cell_type": "markdown",
   "metadata": {
    "id": "OzijcdtQpOx9"
   },
   "source": [
    "## Export and Save HuggingFace model"
   ]
  },
  {
   "cell_type": "markdown",
   "metadata": {
    "id": "MlgoClMXpSg4"
   },
   "source": [
    "- Let's install `transformers` package with the `onnx` extension and it's dependencies. You don't need `onnx` to be installed for Spark NLP, however, we need it to load and save models from HuggingFace.\n",
    "- We lock `transformers` on version `4.48.2`. This doesn't mean it won't work with the future releases, but we wanted you to know which versions have been tested successfully."
   ]
  },
  {
   "cell_type": "code",
   "execution_count": null,
   "metadata": {
    "colab": {
     "base_uri": "https://localhost:8080/"
    },
    "id": "cJWbob-kHICU",
    "outputId": "9ace6dee-fb2b-4245-acec-abf688efb6f0"
   },
   "outputs": [],
   "source": [
    "!pip install -q --upgrade transformers[onnx]==4.48.2 optimum onnx"
   ]
  },
  {
   "cell_type": "markdown",
   "metadata": {
    "id": "5JjkoEbJpUgZ"
   },
   "source": [
    "- HuggingFace has an extension called Optimum which offers specialized model inference, including ONNX. We can use this to import and export ONNX models with `from_pretrained` and `save_pretrained`.\n",
    "- We'll use [distilbert-base-cased](https://huggingface.co/distilbert-base-cased) model from HuggingFace as an example and load it as a `ORTModelForMultipleChoice`, representing an ONNX model.\n",
    "- In addition to the DistilBERT model, we also need to save the `DistilBertTokenizer`. This is the same for every model, these are assets (saved in `/assets`) needed for tokenization inside Spark NLP."
   ]
  },
  {
   "cell_type": "code",
   "execution_count": 2,
   "metadata": {
    "colab": {
     "base_uri": "https://localhost:8080/",
     "height": 415,
     "referenced_widgets": [
      "2ec535d08c694b2397758b736bee5b73",
      "d352924e0a684434970ec418fb91152e",
      "eacc6529d8de404cb8b45e7ea76ac46e",
      "1f22d148c45d45b5adcf88f0dfe723a1",
      "c72639208cd747c284824e31c0f9de4b",
      "e7cce0f06d144bbcaa34b39d410c747c",
      "474de80fc5b14c6291c5b6cf6b221e2f",
      "113ec21ec85a4d80b5008a6da7042791",
      "9f3f4612baa64e21add496fd20c09150",
      "45bae8f3a6364bdca6b9f7235153b2ca",
      "7cb19bb860f54ec3883e2920db519800",
      "6d496cf9864d4d0b9a6d7d216644d9ae",
      "66511a5d1b7943ea9f2f18b28cf9be5e",
      "8e2623802ab14907ba285241715f7dad",
      "0fe58060bf1f4d2eaf0e5554214ff9b8",
      "00f9646a83fd4b78b492496a7f7f4c0f",
      "cb393de33c7b4bfaa716328b6e8d72d1",
      "690cd635df90420f9afe2032417b51fc",
      "4a3e6190dea04825bde267648f497aa3",
      "8d8f48ceb82c49c29914550129a79d36",
      "c15f892336c74901ab59f3c43be3d110",
      "418ef0b02e514075ab3b1eadeae522ef",
      "1dfd94730bb844c6bcd5ceb276bfa355",
      "44a81eac677a430da5093a7a2164bcc2",
      "17318aab811641019bb7b0d429c5891b",
      "50dbac18b7034670beea52c5df93f41d",
      "8f7a167bbea24c209169dfd895ed17ef",
      "5761b79e22134e45a596f6cefa5eb761",
      "75bc20203f4348ecb63cc6c41a220781",
      "5e925f2ed03046e0b9fa9fa17b9ee830",
      "29bc485dec0a4e47bea0828f2c5b09d3",
      "b7e5596399ec4a96bfe71a7405090a7f",
      "295bf1d1832b48a2aa8f03eeccff6154",
      "9cb3251322044d15a07e0a99017cce3f",
      "de17060433814f4a83e2df45812fa610",
      "2c2b3fe8a7714ddb807416a96963a6a1",
      "43849995bef74471afc12402c1368979",
      "a19df1b801574cd4b7eb6023b7158ee0",
      "e4a81ec0495b4f9cbaf6d4275a68dfb5",
      "8589f5356f674baba42688260e258206",
      "0c1d43e178d249a787590175d69a5abb",
      "51662ebc21444e46892ac060d215aa53",
      "fd58812f01c1421b82cfab2fd067f497",
      "f43026ad4c2f4e2ba08f85e0fcf37eaf",
      "4a5dfba3849a4f4c8d2a346521c73c8b",
      "f77b9633eaaa4547b8458a649fa156a2",
      "853a64ede1a34563838b0b08996ce5b6",
      "bf63e5b798514f90a2b5e440c7318b5b",
      "9d4600a939564fa38aa4e77f5ac598b6",
      "c3644893336a402db2ce5cedddcfad3b",
      "a3267ffd05b54f359305b7977aa702e5",
      "e7b71e6139bb4628b7275f48806d7c6a",
      "f0c6ee55a8404d0ba7384f6613ff1ec9",
      "69cdca449a974a9492d0ab6e1a8dc35a",
      "979fa647852a49edb2ee48dd03613976",
      "5d9ff2060281496f91e963f74ef76e8d",
      "2b451e8a959a43d38b5c205a336edda9",
      "5e91d790282747a99969cdabfa38724d",
      "99f33417b9d94d849c8e6e7a37b9f066",
      "1aaf7c9e902c4821817e644a1d91d79f",
      "a5f2d0174b814e8f956017003dfe26a8",
      "5672cb0d0f37486bbe6f3d336694ec22",
      "9ecd6a74c9f74554a228e69bc4e739df",
      "3bd5b6b6ca124a6dbbfbd05331dea63d",
      "58de62f6ff8842949201052714a81cde",
      "e13a7889cd11425f9a8c6eee87ea6ade",
      "0ec20e1ae0964e1dbd8c594b5a5dab86",
      "0af9783fbf9c48618a0fdfe8ca2f9a07",
      "0a239ba97cee4b69b8d3607f3ec395fb",
      "c029174ee79b420c9ae61d0850e170a8",
      "dabd2a32a85241e2b35f64d378958e6d",
      "b46bf9d2a95f4aa5a7e373bdcd8bb0da",
      "4656425d8ea94bbd8c2b90285a8596cf",
      "7c1101a1121844938394f6908d66b75b",
      "6c80a548b39b4145a402c9713761fa38",
      "aa89d8691fda4cbaa48e849a13230bda",
      "1912fe3dcb744646849eb3177067920b"
     ]
    },
    "id": "JobDSF6mqBcV",
    "outputId": "62d1acd9-a430-4fdc-b5fb-73b297a3396a"
   },
   "outputs": [
    {
     "name": "stderr",
     "output_type": "stream",
     "text": [
      "/usr/local/lib/python3.11/dist-packages/huggingface_hub/utils/_auth.py:94: UserWarning: \n",
      "The secret `HF_TOKEN` does not exist in your Colab secrets.\n",
      "To authenticate with the Hugging Face Hub, create a token in your settings tab (https://huggingface.co/settings/tokens), set it as secret in your Google Colab and restart your session.\n",
      "You will be able to reuse this secret in all of your notebooks.\n",
      "Please note that authentication is recommended but still optional to access public models or datasets.\n",
      "  warnings.warn(\n"
     ]
    },
    {
     "data": {
      "application/vnd.jupyter.widget-view+json": {
       "model_id": "2ec535d08c694b2397758b736bee5b73",
       "version_major": 2,
       "version_minor": 0
      },
      "text/plain": [
       "config.json:   0%|          | 0.00/558 [00:00<?, ?B/s]"
      ]
     },
     "metadata": {},
     "output_type": "display_data"
    },
    {
     "data": {
      "application/vnd.jupyter.widget-view+json": {
       "model_id": "6d496cf9864d4d0b9a6d7d216644d9ae",
       "version_major": 2,
       "version_minor": 0
      },
      "text/plain": [
       "pytorch_model.bin:   0%|          | 0.00/268M [00:00<?, ?B/s]"
      ]
     },
     "metadata": {},
     "output_type": "display_data"
    },
    {
     "data": {
      "application/vnd.jupyter.widget-view+json": {
       "model_id": "1dfd94730bb844c6bcd5ceb276bfa355",
       "version_major": 2,
       "version_minor": 0
      },
      "text/plain": [
       "tokenizer_config.json:   0%|          | 0.00/360 [00:00<?, ?B/s]"
      ]
     },
     "metadata": {},
     "output_type": "display_data"
    },
    {
     "data": {
      "application/vnd.jupyter.widget-view+json": {
       "model_id": "9cb3251322044d15a07e0a99017cce3f",
       "version_major": 2,
       "version_minor": 0
      },
      "text/plain": [
       "vocab.txt:   0%|          | 0.00/232k [00:00<?, ?B/s]"
      ]
     },
     "metadata": {},
     "output_type": "display_data"
    },
    {
     "data": {
      "application/vnd.jupyter.widget-view+json": {
       "model_id": "4a5dfba3849a4f4c8d2a346521c73c8b",
       "version_major": 2,
       "version_minor": 0
      },
      "text/plain": [
       "tokenizer.json:   0%|          | 0.00/711k [00:00<?, ?B/s]"
      ]
     },
     "metadata": {},
     "output_type": "display_data"
    },
    {
     "data": {
      "application/vnd.jupyter.widget-view+json": {
       "model_id": "5d9ff2060281496f91e963f74ef76e8d",
       "version_major": 2,
       "version_minor": 0
      },
      "text/plain": [
       "model.safetensors:   0%|          | 0.00/268M [00:00<?, ?B/s]"
      ]
     },
     "metadata": {},
     "output_type": "display_data"
    },
    {
     "data": {
      "application/vnd.jupyter.widget-view+json": {
       "model_id": "0ec20e1ae0964e1dbd8c594b5a5dab86",
       "version_major": 2,
       "version_minor": 0
      },
      "text/plain": [
       "special_tokens_map.json:   0%|          | 0.00/125 [00:00<?, ?B/s]"
      ]
     },
     "metadata": {},
     "output_type": "display_data"
    },
    {
     "data": {
      "text/plain": [
       "('onnx_models/Gladiator/distilbert-base-uncased_swag_mqa/tokenizer_config.json',\n",
       " 'onnx_models/Gladiator/distilbert-base-uncased_swag_mqa/special_tokens_map.json',\n",
       " 'onnx_models/Gladiator/distilbert-base-uncased_swag_mqa/vocab.txt',\n",
       " 'onnx_models/Gladiator/distilbert-base-uncased_swag_mqa/added_tokens.json')"
      ]
     },
     "execution_count": 2,
     "metadata": {},
     "output_type": "execute_result"
    }
   ],
   "source": [
    "from transformers import DistilBertTokenizer\n",
    "from optimum.onnxruntime import ORTModelForMultipleChoice\n",
    "\n",
    "MODEL_NAME = \"Gladiator/distilbert-base-uncased_swag_mqa\"\n",
    "EXPORT_PATH = f\"onnx_models/{MODEL_NAME}\"\n",
    "\n",
    "ort_model = ORTModelForMultipleChoice.from_pretrained(MODEL_NAME, export=True)\n",
    "ort_model.save_pretrained(EXPORT_PATH)\n",
    "\n",
    "tokenizer = DistilBertTokenizer.from_pretrained(MODEL_NAME)\n",
    "tokenizer.save_pretrained(EXPORT_PATH)"
   ]
  },
  {
   "cell_type": "markdown",
   "metadata": {
    "id": "THEhUhYRO6-y"
   },
   "source": [
    "We are missing the `vocab.txt` from the tokenizer. Let's save the tokenizer and move this file to `assets` folder which Spark NLP will look for"
   ]
  },
  {
   "cell_type": "code",
   "execution_count": 3,
   "metadata": {
    "id": "N_-ljjz1PVLD"
   },
   "outputs": [],
   "source": [
    "!mkdir {EXPORT_PATH}/assets && mv {EXPORT_PATH}/vocab.txt {EXPORT_PATH}/assets/"
   ]
  },
  {
   "cell_type": "code",
   "execution_count": 4,
   "metadata": {
    "colab": {
     "base_uri": "https://localhost:8080/"
    },
    "id": "1BcINpaqPmgQ",
    "outputId": "c108bd23-a616-4f8e-8d6d-6588549ba34c"
   },
   "outputs": [
    {
     "name": "stdout",
     "output_type": "stream",
     "text": [
      "onnx_models/Gladiator/distilbert-base-uncased_swag_mqa:\n",
      "total 261700\n",
      "drwxr-xr-x 2 root root      4096 Jun 25 10:36 assets\n",
      "-rw-r--r-- 1 root root       577 Jun 25 10:36 config.json\n",
      "-rw-r--r-- 1 root root 267957763 Jun 25 10:36 model.onnx\n",
      "-rw-r--r-- 1 root root       695 Jun 25 10:36 special_tokens_map.json\n",
      "-rw-r--r-- 1 root root      1278 Jun 25 10:36 tokenizer_config.json\n",
      "\n",
      "onnx_models/Gladiator/distilbert-base-uncased_swag_mqa/assets:\n",
      "total 228\n",
      "-rw-r--r-- 1 root root 231508 Jun 25 10:36 vocab.txt\n"
     ]
    }
   ],
   "source": [
    "!ls -lR {EXPORT_PATH}"
   ]
  },
  {
   "cell_type": "markdown",
   "metadata": {
    "id": "rOT64bl9Ppk-"
   },
   "source": [
    "Voila! We have our vocab.txt inside assets directory"
   ]
  },
  {
   "cell_type": "markdown",
   "metadata": {
    "id": "3rgd1jHMRC7q"
   },
   "source": [
    "## Import and Save DistilBertForMultipleChoice in Spark NLP"
   ]
  },
  {
   "cell_type": "markdown",
   "metadata": {
    "id": "N0dY2lHcRG5t"
   },
   "source": [
    "- Install and set up Spark NLP in Google Colab\n",
    "- This example uses specific versions of `pyspark` and `spark-nlp` that have been tested with the transformer model to ensure everything runs smoothly."
   ]
  },
  {
   "cell_type": "code",
   "execution_count": 5,
   "metadata": {
    "colab": {
     "base_uri": "https://localhost:8080/"
    },
    "id": "9ld2osF6STCv",
    "outputId": "1051cee3-7bb6-4b03-d021-0de8e1e0ed5f"
   },
   "outputs": [
    {
     "name": "stdout",
     "output_type": "stream",
     "text": [
      "\u001b[?25l   \u001b[90m━━━━━━━━━━━━━━━━━━━━━━━━━━━━━━━━━━━━━━━━\u001b[0m \u001b[32m0.0/713.0 kB\u001b[0m \u001b[31m?\u001b[0m eta \u001b[36m-:--:--\u001b[0m\r\n",
      "\u001b[2K   \u001b[91m━━━━━━━━━━━━━━━━━━━━━━━━━━━━━━━━━━━━━\u001b[0m\u001b[90m╺\u001b[0m\u001b[90m━━\u001b[0m \u001b[32m665.6/713.0 kB\u001b[0m \u001b[31m20.1 MB/s\u001b[0m eta \u001b[36m0:00:01\u001b[0m\r\n",
      "\u001b[2K   \u001b[90m━━━━━━━━━━━━━━━━━━━━━━━━━━━━━━━━━━━━━━━━\u001b[0m \u001b[32m713.0/713.0 kB\u001b[0m \u001b[31m15.0 MB/s\u001b[0m eta \u001b[36m0:00:00\u001b[0m\n",
      "\u001b[?25h"
     ]
    }
   ],
   "source": [
    "!pip install -q spark-nlp==6.0.3 pyspark==3.5.1"
   ]
  },
  {
   "cell_type": "code",
   "execution_count": 6,
   "metadata": {
    "colab": {
     "base_uri": "https://localhost:8080/"
    },
    "id": "u1kTC9LQRHbg",
    "outputId": "c31238e9-56cb-4f85-de3d-9cafd0b00663"
   },
   "outputs": [
    {
     "name": "stdout",
     "output_type": "stream",
     "text": [
      "Spark NLP version:  6.0.3\n",
      "Apache Spark version:  3.5.1\n"
     ]
    }
   ],
   "source": [
    "import sparknlp\n",
    "\n",
    "spark = sparknlp.start()\n",
    "\n",
    "print(\"Spark NLP version: \", sparknlp.version())\n",
    "print(\"Apache Spark version: \", spark.version)"
   ]
  },
  {
   "cell_type": "markdown",
   "metadata": {
    "id": "h3lTxyr-R9LH"
   },
   "source": [
    "- Let's use `loadSavedModel` functon in `DistilBertForMultipleChoice` which allows us to load TensorFlow model in SavedModel format\n",
    "- Most params can be set later when you are loading this model in `DistilBertForMultipleChoice` in runtime like `setMaxSentenceLength`, so don't worry what you are setting them now\n",
    "- `loadSavedModel` accepts two params, first is the path to the TF SavedModel. The second is the SparkSession that is `spark` variable we previously started via `sparknlp.start()`\n",
    "- NOTE: `loadSavedModel` accepts local paths in addition to distributed file systems such as `HDFS`, `S3`, `DBFS`, etc. This feature was introduced in Spark NLP 4.2.2 release. Keep in mind the best and recommended way to move/share/reuse Spark NLP models is to use `write.save` so you can use `.load()` from any file systems natively."
   ]
  },
  {
   "cell_type": "code",
   "execution_count": 7,
   "metadata": {
    "id": "6O6v4t3HSFRU"
   },
   "outputs": [],
   "source": [
    "from sparknlp.annotator import DistilBertForMultipleChoice\n",
    "\n",
    "distilBertMultpleChoiceClassifier = DistilBertForMultipleChoice.loadSavedModel(\n",
    "     f\"{EXPORT_PATH}\",\n",
    "     spark\n",
    " )\\\n",
    "  .setInputCols([\"document_question\", \"document_context\"])\\\n",
    "  .setOutputCol(\"answer\")"
   ]
  },
  {
   "cell_type": "markdown",
   "metadata": {
    "id": "OmxG3UynSxFf"
   },
   "source": [
    "Let's save it on disk so it is easier to be moved around and also be used later via .load function"
   ]
  },
  {
   "cell_type": "code",
   "execution_count": 8,
   "metadata": {
    "id": "dl9v_UCISfbJ"
   },
   "outputs": [],
   "source": [
    "distilBertMultpleChoiceClassifier.write().overwrite().save(\"./{}_spark_nlp_onnx\".format(MODEL_NAME))"
   ]
  },
  {
   "cell_type": "markdown",
   "metadata": {
    "id": "YPSFjBLuS2Lk"
   },
   "source": [
    "Let's clean up stuff we don't need anymore"
   ]
  },
  {
   "cell_type": "code",
   "execution_count": 9,
   "metadata": {
    "id": "spbp5G5sS2lR"
   },
   "outputs": [],
   "source": [
    "!rm -rf {EXPORT_PATH}"
   ]
  },
  {
   "cell_type": "markdown",
   "metadata": {
    "id": "LxK9WcnJS_XC"
   },
   "source": [
    "Now let's see how we can use it on other machines, clusters, or any place you wish to use your new and shiny `DistilBertForMultipleChoice` model in Spark NLP 🚀 pipeline!"
   ]
  },
  {
   "cell_type": "code",
   "execution_count": 10,
   "metadata": {
    "colab": {
     "base_uri": "https://localhost:8080/"
    },
    "id": "H0BviT1Wqueg",
    "outputId": "009a4500-2aac-4aa7-8507-f6e09f422992"
   },
   "outputs": [
    {
     "name": "stdout",
     "output_type": "stream",
     "text": [
      "+------------------------------------------------------------------------------------------+------------------------------------------------------------------------+\n",
      "|question                                                                                  |choices                                                                 |\n",
      "+------------------------------------------------------------------------------------------+------------------------------------------------------------------------+\n",
      "|In Italy, pizza served in formal settings, such as at a restaurant, is presented unsliced.|It is eaten with a fork and a knife, It is eaten while held in the hand.|\n",
      "|The Eiffel Tower is located in which country?                                             |Germany, France, Italy                                                  |\n",
      "|Which animal is known as the king of the jungle?                                          |Lion, Elephant, Tiger, Leopard                                          |\n",
      "|Water boils at what temperature?                                                          |90°C, 120°C, 100°C                                                      |\n",
      "|Which planet is known as the Red Planet?                                                  |Jupiter, Mars, Venus                                                    |\n",
      "|Which language is primarily spoken in Brazil?                                             |Spanish, Portuguese, English                                            |\n",
      "|The Great Wall of China was built to protect against invasions from which group?          |The Greeks, The Romans, The Mongols, The Persians                       |\n",
      "|Which chemical element has the symbol 'O'?                                                |Oxygenm, Osmium, Ozone                                                  |\n",
      "|Which continent is the Sahara Desert located in?                                          |Asia, Africa, South America                                             |\n",
      "|Which artist painted the Mona Lisa?                                                       |Vincent van Gogh, Leonardo da Vinci, Pablo Picasso                      |\n",
      "+------------------------------------------------------------------------------------------+------------------------------------------------------------------------+\n",
      "\n"
     ]
    }
   ],
   "source": [
    "data = spark.createDataFrame([\n",
    "    (\"In Italy, pizza served in formal settings, such as at a restaurant, is presented unsliced.\",\n",
    "     \"It is eaten with a fork and a knife, It is eaten while held in the hand.\"),\n",
    "    (\"The Eiffel Tower is located in which country?\", \"Germany, France, Italy\"),\n",
    "    (\"Which animal is known as the king of the jungle?\", \"Lion, Elephant, Tiger, Leopard\"),\n",
    "    (\"Water boils at what temperature?\", \"90°C, 120°C, 100°C\"),\n",
    "    (\"Which planet is known as the Red Planet?\", \"Jupiter, Mars, Venus\"),\n",
    "    (\"Which language is primarily spoken in Brazil?\", \"Spanish, Portuguese, English\"),\n",
    "    (\"The Great Wall of China was built to protect against invasions from which group?\",\n",
    "     \"The Greeks, The Romans, The Mongols, The Persians\"),\n",
    "    (\"Which chemical element has the symbol 'O'?\", \"Oxygenm, Osmium, Ozone\"),\n",
    "    (\"Which continent is the Sahara Desert located in?\", \"Asia, Africa, South America\"),\n",
    "    (\"Which artist painted the Mona Lisa?\", \"Vincent van Gogh, Leonardo da Vinci, Pablo Picasso\")\n",
    "], [\"question\", \"choices\"])\n",
    "\n",
    "data.show(truncate=False)"
   ]
  },
  {
   "cell_type": "code",
   "execution_count": 11,
   "metadata": {
    "colab": {
     "base_uri": "https://localhost:8080/"
    },
    "id": "Gs3VQBACg8jm",
    "outputId": "6c7944f2-6ac1-45db-93a1-a446e317b3bc"
   },
   "outputs": [
    {
     "name": "stdout",
     "output_type": "stream",
     "text": [
      "+------------------------------------------------------------------------------------------+------------------------------------------------------------------------+-----------------------------------+\n",
      "|question                                                                                  |choices                                                                 |predicted_answer                   |\n",
      "+------------------------------------------------------------------------------------------+------------------------------------------------------------------------+-----------------------------------+\n",
      "|In Italy, pizza served in formal settings, such as at a restaurant, is presented unsliced.|It is eaten with a fork and a knife, It is eaten while held in the hand.|It is eaten with a fork and a knife|\n",
      "|The Eiffel Tower is located in which country?                                             |Germany, France, Italy                                                  |Germany                            |\n",
      "|Which animal is known as the king of the jungle?                                          |Lion, Elephant, Tiger, Leopard                                          | Leopard                           |\n",
      "|Water boils at what temperature?                                                          |90°C, 120°C, 100°C                                                      | 120°C                             |\n",
      "|Which planet is known as the Red Planet?                                                  |Jupiter, Mars, Venus                                                    |Jupiter                            |\n",
      "|Which language is primarily spoken in Brazil?                                             |Spanish, Portuguese, English                                            | Portuguese                        |\n",
      "|The Great Wall of China was built to protect against invasions from which group?          |The Greeks, The Romans, The Mongols, The Persians                       | The Mongols                       |\n",
      "|Which chemical element has the symbol 'O'?                                                |Oxygenm, Osmium, Ozone                                                  | Osmium                            |\n",
      "|Which continent is the Sahara Desert located in?                                          |Asia, Africa, South America                                             | South America                     |\n",
      "|Which artist painted the Mona Lisa?                                                       |Vincent van Gogh, Leonardo da Vinci, Pablo Picasso                      | Leonardo da Vinci                 |\n",
      "+------------------------------------------------------------------------------------------+------------------------------------------------------------------------+-----------------------------------+\n",
      "\n"
     ]
    }
   ],
   "source": [
    "from sparknlp.base import MultiDocumentAssembler\n",
    "from sparknlp.annotator import DistilBertForMultipleChoice\n",
    "from pyspark.ml import Pipeline\n",
    "\n",
    "document_assembler = MultiDocumentAssembler() \\\n",
    "    .setInputCols([\"question\", \"choices\"]) \\\n",
    "    .setOutputCols([\"document_question\", \"document_choices\"])\n",
    "\n",
    "distilbert_model = DistilBertForMultipleChoice() \\\n",
    "    .load(f\"./{MODEL_NAME}_spark_nlp_onnx\") \\\n",
    "    .setInputCols([\"document_question\", \"document_choices\"]) \\\n",
    "    .setOutputCol(\"answer\") \\\n",
    "    .setBatchSize(4)\n",
    "\n",
    "pipeline = Pipeline(stages=[\n",
    "    document_assembler,\n",
    "    distilbert_model\n",
    "])\n",
    "\n",
    "model = pipeline.fit(data)\n",
    "results = model.transform(data)\n",
    "\n",
    "results.selectExpr(\"question\", \"choices\", \"answer.result[0] as predicted_answer\").show(truncate=False)"
   ]
  }
 ],
 "metadata": {
  "accelerator": "GPU",
  "colab": {
   "gpuType": "T4",
   "machine_shape": "hm",
   "provenance": []
  },
  "kernelspec": {
   "display_name": "Python 3 (ipykernel)",
   "language": "python",
   "name": "python3"
  },
  "language_info": {
   "codemirror_mode": {
    "name": "ipython",
    "version": 3
   },
   "file_extension": ".py",
   "mimetype": "text/x-python",
   "name": "python",
   "nbconvert_exporter": "python",
   "pygments_lexer": "ipython3",
   "version": "3.10.12"
  }
 },
 "nbformat": 4,
 "nbformat_minor": 0
}
