{
  "cells": [
    {
      "cell_type": "markdown",
      "metadata": {
        "id": "-XBpoIZ0vGN4"
      },
      "source": [
        "![JohnSnowLabs](https://sparknlp.org/assets/images/logo.png)\n",
        "\n",
        "[![Open In Colab](https://colab.research.google.com/assets/colab-badge.svg)](https://colab.research.google.com/github/JohnSnowLabs/spark-nlp/blob/master/examples/python/transformers/onnx/HuggingFace_ONNX_in_Spark_NLP_XlmRoBertaForSequenceClassification.ipynb)"
      ]
    },
    {
      "cell_type": "markdown",
      "metadata": {
        "id": "IdQdaJoRvGN8"
      },
      "source": [
        "## Import ONNX XlmRoBertaForSequenceClassification models from HuggingFace 🤗  into Spark NLP 🚀\n",
        "\n",
        "Let's keep in mind a few things before we start 😊\n",
        "\n",
        "- ONNX support was introduced in  `Spark NLP 5.0.0`, enabling high performance inference for models.\n",
        "- `XlmRoBertaForSequenceClassification` is only available since in `Spark NLP 5.2.3` and after. So please make sure you have upgraded to the latest Spark NLP release\n",
        "- You can import XLM-RoBERTa models trained/fine-tuned for sequence classification via `XlmRoBertaForSequenceClassification` or `TFXlmRoBertaForSequenceClassification`. These models are usually under `Text Classification` category and have `xlm-roberta` in their labels\n",
        "- Reference: [TFXlmRoBertaForSequenceClassification](https://huggingface.co/docs/transformers/model_doc/xlm-roberta#transformers.TFXLMRobertaForSequenceClassification)\n",
        "- Some [example models](https://huggingface.co/models?filter=xlm-roberta&pipeline_tag=text-classification)"
      ]
    },
    {
      "cell_type": "markdown",
      "metadata": {
        "id": "H5XzNn9HvGN9"
      },
      "source": [
        "## Export and Save HuggingFace model"
      ]
    },
    {
      "cell_type": "markdown",
      "metadata": {
        "id": "2nJYv3F7vGN9"
      },
      "source": [
        "- Let's install `transformers` package with the `onnx` extension and it's dependencies. You don't need `onnx` to be installed for Spark NLP, however, we need it to load and save models from HuggingFace.\n",
        "- We lock `transformers` on version `4.52.3`. This doesn't mean it won't work with the future releases, but we wanted you to know which versions have been tested successfully."
      ]
    },
    {
      "cell_type": "code",
      "execution_count": null,
      "metadata": {
        "colab": {
          "base_uri": "https://localhost:8080/"
        },
        "id": "hLHzG-TEvGN-",
        "outputId": "65356dfd-3745-4305-b681-b61f9bd14519"
      },
      "outputs": [],
      "source": [
        "!pip install -q --upgrade transformers[onnx]==4.52.3 optimum onnx"
      ]
    },
    {
      "cell_type": "markdown",
      "metadata": {
        "id": "LckRasAzvGN_"
      },
      "source": [
        "- Hugging Face has an extension called Optimum which offers specialized model inference, including ONNX. We can use this to import and export ONNX models with `from_pretrained` and `save_pretrained`.\n",
        "- We'll use [cardiffnlp/twitter-xlm-roberta-base-sentiment](https://huggingface.co/cardiffnlp/twitter-xlm-roberta-base-sentiment) model from HuggingFace as an example and load it as a `ORTModelForSequenceClassification`, representing an ONNX model.\n",
        "- In addition to the XLM-RoBERTa model, we also need to save the `XLMRobertaTokenizer`. This is the same for every model, these are assets (saved in `/assets`) needed for tokenization inside Spark NLP."
      ]
    },
    {
      "cell_type": "code",
      "execution_count": 5,
      "metadata": {
        "colab": {
          "base_uri": "https://localhost:8080/"
        },
        "id": "g5YyxdPiTAxl",
        "outputId": "9ec4054e-956d-43e9-953c-30755cf463e1"
      },
      "outputs": [
        {
          "data": {
            "text/plain": [
              "('onnx_models/cardiffnlp/twitter-xlm-roberta-base-sentiment/tokenizer_config.json',\n",
              " 'onnx_models/cardiffnlp/twitter-xlm-roberta-base-sentiment/special_tokens_map.json',\n",
              " 'onnx_models/cardiffnlp/twitter-xlm-roberta-base-sentiment/sentencepiece.bpe.model',\n",
              " 'onnx_models/cardiffnlp/twitter-xlm-roberta-base-sentiment/added_tokens.json')"
            ]
          },
          "execution_count": 5,
          "metadata": {},
          "output_type": "execute_result"
        }
      ],
      "source": [
        "from transformers import XLMRobertaTokenizer\n",
        "from optimum.onnxruntime import ORTModelForSequenceClassification\n",
        "\n",
        "MODEL_NAME = \"cardiffnlp/twitter-xlm-roberta-base-sentiment\"\n",
        "ONNX_MODEL = f\"onnx_models/{MODEL_NAME}\"\n",
        "\n",
        "ort_model = ORTModelForSequenceClassification.from_pretrained(MODEL_NAME, export=True)\n",
        "ort_model.save_pretrained(ONNX_MODEL)\n",
        "\n",
        "tokenizer = XLMRobertaTokenizer.from_pretrained(MODEL_NAME)\n",
        "tokenizer.save_pretrained(ONNX_MODEL)"
      ]
    },
    {
      "cell_type": "markdown",
      "metadata": {
        "id": "aRQgn0NsvGOA"
      },
      "source": [
        "Let's have a look inside this and see what we are dealing with:"
      ]
    },
    {
      "cell_type": "code",
      "execution_count": 6,
      "metadata": {
        "colab": {
          "base_uri": "https://localhost:8080/"
        },
        "id": "hotcksAovGOA",
        "outputId": "1038cd30-6eb0-4d2e-9d11-e597bd58e8a8"
      },
      "outputs": [
        {
          "name": "stdout",
          "output_type": "stream",
          "text": [
            "total 1091400\n",
            "-rw-r--r-- 1 root root        847 Jun 17 05:15 config.json\n",
            "-rw-r--r-- 1 root root 1112503258 Jun 17 05:15 model.onnx\n",
            "-rw-r--r-- 1 root root    5069051 Jun 17 05:16 sentencepiece.bpe.model\n",
            "-rw-r--r-- 1 root root        280 Jun 17 05:16 special_tokens_map.json\n",
            "-rw-r--r-- 1 root root       1231 Jun 17 05:16 tokenizer_config.json\n"
          ]
        }
      ],
      "source": [
        "!ls -l {ONNX_MODEL}"
      ]
    },
    {
      "cell_type": "markdown",
      "metadata": {
        "id": "hAbrTL5nvGOB"
      },
      "source": [
        "- As you can see, we need to move `sentencepiece.bpe.model` from the tokenizer to `assets` folder which Spark NLP will look for\n",
        "- We also need `labels` and their `ids` which is saved inside the model's config. We will save this inside `labels.txt`"
      ]
    },
    {
      "cell_type": "code",
      "execution_count": 7,
      "metadata": {
        "id": "GjODDtCuVx_5"
      },
      "outputs": [],
      "source": [
        "from transformers import AutoConfig\n",
        "\n",
        "!mkdir -p {ONNX_MODEL}/assets\n",
        "\n",
        "config = AutoConfig.from_pretrained(MODEL_NAME)\n",
        "with open(f\"{ONNX_MODEL}/assets/labels.txt\", 'w') as f:\n",
        "    f.write('\\n'.join([v for k, v in sorted(config.id2label.items())]))\n",
        "\n",
        "!mv {ONNX_MODEL}/sentencepiece.bpe.model {ONNX_MODEL}/assets/"
      ]
    },
    {
      "cell_type": "code",
      "execution_count": 8,
      "metadata": {
        "colab": {
          "base_uri": "https://localhost:8080/"
        },
        "id": "F6nS5oZXvGOB",
        "outputId": "cf256a1c-4dbf-4d7a-f228-8f6293b209a9"
      },
      "outputs": [
        {
          "name": "stdout",
          "output_type": "stream",
          "text": [
            "onnx_models/cardiffnlp/twitter-xlm-roberta-base-sentiment:\n",
            "total 1086452\n",
            "drwxr-xr-x 2 root root       4096 Jun 17 05:16 assets\n",
            "-rw-r--r-- 1 root root        847 Jun 17 05:15 config.json\n",
            "-rw-r--r-- 1 root root 1112503258 Jun 17 05:15 model.onnx\n",
            "-rw-r--r-- 1 root root        280 Jun 17 05:16 special_tokens_map.json\n",
            "-rw-r--r-- 1 root root       1231 Jun 17 05:16 tokenizer_config.json\n",
            "\n",
            "onnx_models/cardiffnlp/twitter-xlm-roberta-base-sentiment/assets:\n",
            "total 4956\n",
            "-rw-r--r-- 1 root root      25 Jun 17 05:16 labels.txt\n",
            "-rw-r--r-- 1 root root 5069051 Jun 17 05:16 sentencepiece.bpe.model\n"
          ]
        }
      ],
      "source": [
        "!ls -lR {ONNX_MODEL}"
      ]
    },
    {
      "cell_type": "code",
      "execution_count": 9,
      "metadata": {
        "colab": {
          "base_uri": "https://localhost:8080/"
        },
        "id": "VicaiCSaUSqi",
        "outputId": "1acd2973-ae44-44b5-e979-ac1fb0a12310"
      },
      "outputs": [
        {
          "name": "stdout",
          "output_type": "stream",
          "text": [
            "negative\n",
            "neutral\n",
            "positive"
          ]
        }
      ],
      "source": [
        "!cat {ONNX_MODEL}/assets/labels.txt"
      ]
    },
    {
      "cell_type": "markdown",
      "metadata": {
        "id": "Yv8nHS-FvGOB"
      },
      "source": [
        "Voila! We have our `sentencepiece.bpe.model` and `labels.txt` inside assets directory"
      ]
    },
    {
      "cell_type": "markdown",
      "metadata": {
        "id": "EAtKBUe7vGOC"
      },
      "source": [
        "## Import and Save RoBertaForSequenceClassification in Spark NLP\n"
      ]
    },
    {
      "cell_type": "markdown",
      "metadata": {
        "id": "-2_Fr1jtvGOC"
      },
      "source": [
        "- **Install and set up Spark NLP in Google Colab**\n",
        "  - This example uses specific versions of `pyspark` and `spark-nlp` that have been tested with the transformer model to ensure everything runs smoothly."
      ]
    },
    {
      "cell_type": "code",
      "execution_count": 10,
      "metadata": {
        "colab": {
          "base_uri": "https://localhost:8080/"
        },
        "id": "pKQJ7rg9vGOC",
        "outputId": "cc00a71d-f1f1-4d32-eb0a-5ac4ac362074"
      },
      "outputs": [
        {
          "name": "stdout",
          "output_type": "stream",
          "text": [
            "\u001b[2K     \u001b[90m━━━━━━━━━━━━━━━━━━━━━━━━━━━━━━━━━━━━━━━\u001b[0m \u001b[32m317.3/317.3 MB\u001b[0m \u001b[31m1.3 MB/s\u001b[0m eta \u001b[36m0:00:00\u001b[0m\n",
            "\u001b[?25h  Preparing metadata (setup.py) ... \u001b[?25l\u001b[?25hdone\n",
            "\u001b[2K   \u001b[90m━━━━━━━━━━━━━━━━━━━━━━━━━━━━━━━━━━━━━━━━\u001b[0m \u001b[32m635.7/635.7 kB\u001b[0m \u001b[31m19.2 MB/s\u001b[0m eta \u001b[36m0:00:00\u001b[0m\n",
            "\u001b[?25h  Building wheel for pyspark (setup.py) ... \u001b[?25l\u001b[?25hdone\n"
          ]
        }
      ],
      "source": [
        "!pip install -q pyspark==3.5.4 spark-nlp==5.5.3"
      ]
    },
    {
      "cell_type": "markdown",
      "metadata": {
        "id": "6cniRaWUvGOC"
      },
      "source": [
        "Let's start Spark with Spark NLP included via our simple `start()` function"
      ]
    },
    {
      "cell_type": "code",
      "execution_count": 11,
      "metadata": {
        "colab": {
          "base_uri": "https://localhost:8080/"
        },
        "id": "Saw9UtUZvGOC",
        "outputId": "3092260f-32f0-4070-e0c0-34550a051363"
      },
      "outputs": [
        {
          "name": "stdout",
          "output_type": "stream",
          "text": [
            "Spark NLP version: 5.5.3\n",
            "Apache Spark version: 3.5.4\n"
          ]
        }
      ],
      "source": [
        "import sparknlp\n",
        "\n",
        "spark = sparknlp.start()\n",
        "\n",
        "print(\"Spark NLP version: {}\".format(sparknlp.version()))\n",
        "print(\"Apache Spark version: {}\".format(spark.version))"
      ]
    },
    {
      "cell_type": "markdown",
      "metadata": {
        "id": "G-19MdzWvGOD"
      },
      "source": [
        "- Let's use `loadSavedModel` functon in `XlmRoBertaForSequenceClassification` which allows us to load TensorFlow model in SavedModel format\n",
        "- Most params can be set later when you are loading this model in `XlmRoBertaForSequenceClassification` in runtime like `setMaxSentenceLength`, so don't worry what you are setting them now\n",
        "- `loadSavedModel` accepts two params, first is the path to the TF SavedModel. The second is the SparkSession that is `spark` variable we previously started via `sparknlp.start()`\n",
        "- NOTE: `loadSavedModel` accepts local paths in addition to distributed file systems such as `HDFS`, `S3`, `DBFS`, etc. This feature was introduced in Spark NLP 4.2.2 release. Keep in mind the best and recommended way to move/share/reuse Spark NLP models is to use `write.save` so you can use `.load()` from any file systems natively.st and recommended way to move/share/reuse Spark NLP models is to use `write.save` so you can use `.load()` from any file systems natively."
      ]
    },
    {
      "cell_type": "code",
      "execution_count": 12,
      "metadata": {
        "id": "BgaOCF2UvGOD"
      },
      "outputs": [],
      "source": [
        "from sparknlp.annotator import XlmRoBertaForSequenceClassification\n",
        "\n",
        "sequenceClassifier = XlmRoBertaForSequenceClassification.loadSavedModel(\n",
        "     ONNX_MODEL,\n",
        "     spark\n",
        " )\\\n",
        "  .setInputCols([\"document\",'token'])\\\n",
        "  .setOutputCol(\"class\")\\\n",
        "  .setCaseSensitive(True)\\\n",
        "  .setMaxSentenceLength(128)"
      ]
    },
    {
      "cell_type": "markdown",
      "metadata": {
        "id": "XLO81gi4vGOD"
      },
      "source": [
        "- Let's save it on disk so it is easier to be moved around and also be used later via `.load` function"
      ]
    },
    {
      "cell_type": "code",
      "execution_count": 13,
      "metadata": {
        "id": "8uy9TeL7vGOD"
      },
      "outputs": [],
      "source": [
        "sequenceClassifier.write().overwrite().save(\"./{}_spark_nlp_onnx\".format(ONNX_MODEL))"
      ]
    },
    {
      "cell_type": "markdown",
      "metadata": {
        "id": "mXkVSAL8vGOD"
      },
      "source": [
        "Let's clean up stuff we don't need anymore"
      ]
    },
    {
      "cell_type": "code",
      "execution_count": 14,
      "metadata": {
        "id": "VJzE0mKqvGOD"
      },
      "outputs": [],
      "source": [
        "!rm -rf {ONNX_MODEL}"
      ]
    },
    {
      "cell_type": "markdown",
      "metadata": {
        "id": "KIrYPzkVvGOD"
      },
      "source": [
        "Awesome 😎  !\n",
        "\n",
        "This is your XlmRoBertaForSequenceClassification model from HuggingFace 🤗  loaded and saved by Spark NLP 🚀"
      ]
    },
    {
      "cell_type": "code",
      "execution_count": 15,
      "metadata": {
        "colab": {
          "base_uri": "https://localhost:8080/"
        },
        "id": "VGIVMW3_vGOD",
        "outputId": "f085ffc2-c01f-422f-cd7b-20dfa167b2c6"
      },
      "outputs": [
        {
          "name": "stdout",
          "output_type": "stream",
          "text": [
            "total 1091560\n",
            "drwxr-xr-x 3 root root       4096 Jun 17 05:19 fields\n",
            "drwxr-xr-x 2 root root       4096 Jun 17 05:19 metadata\n",
            "-rw-r--r-- 1 root root 1112673147 Jun 17 05:20 xlm_roberta_classification_onnx\n",
            "-rw-r--r-- 1 root root    5069051 Jun 17 05:19 xlmroberta_spp\n"
          ]
        }
      ],
      "source": [
        "! ls -l {ONNX_MODEL}_spark_nlp_onnx"
      ]
    },
    {
      "cell_type": "markdown",
      "metadata": {
        "id": "w0qs1L7EvGOE"
      },
      "source": [
        "Now let's see how we can use it on other machines, clusters, or any place you wish to use your new and shiny RoBertaForSequenceClassification model 😊"
      ]
    },
    {
      "cell_type": "code",
      "execution_count": 16,
      "metadata": {
        "id": "74KKpimkvGOE"
      },
      "outputs": [],
      "source": [
        "sequenceClassifier_loaded = XlmRoBertaForSequenceClassification.load(\"./{}_spark_nlp_onnx\".format(ONNX_MODEL))\\\n",
        "  .setInputCols([\"document\",'token'])\\\n",
        "  .setOutputCol(\"class\")"
      ]
    },
    {
      "cell_type": "markdown",
      "metadata": {
        "id": "CmsvMfXYvGOE"
      },
      "source": [
        "You can see what labels were used to train this model via `getClasses` function:"
      ]
    },
    {
      "cell_type": "code",
      "execution_count": 17,
      "metadata": {
        "colab": {
          "base_uri": "https://localhost:8080/"
        },
        "id": "fTMTDIZhvGOE",
        "outputId": "9282abae-61a5-49fb-8a56-c6d455315eab"
      },
      "outputs": [
        {
          "data": {
            "text/plain": [
              "['neutral', 'positive', 'negative']"
            ]
          },
          "execution_count": 17,
          "metadata": {},
          "output_type": "execute_result"
        }
      ],
      "source": [
        "sequenceClassifier_loaded.getClasses()"
      ]
    },
    {
      "cell_type": "markdown",
      "metadata": {
        "id": "mJSLPjJMvGOE"
      },
      "source": [
        "This is how you can use your loaded classifier model in Spark NLP 🚀 pipeline:"
      ]
    },
    {
      "cell_type": "code",
      "execution_count": 19,
      "metadata": {
        "colab": {
          "base_uri": "https://localhost:8080/"
        },
        "id": "M1ILJm_vvGOE",
        "outputId": "e8896bd4-79d4-46ce-af37-fc3be895117b"
      },
      "outputs": [
        {
          "name": "stdout",
          "output_type": "stream",
          "text": [
            "+-----------------------+----------+\n",
            "|text                   |result    |\n",
            "+-----------------------+----------+\n",
            "|I love you!            |[positive]|\n",
            "|I feel fine to be here.|[positive]|\n",
            "|I hate you             |[negative]|\n",
            "+-----------------------+----------+\n",
            "\n"
          ]
        }
      ],
      "source": [
        "from sparknlp.base import DocumentAssembler\n",
        "from sparknlp.annotator import Tokenizer\n",
        "from pyspark.ml import Pipeline\n",
        "\n",
        "document_assembler = DocumentAssembler() \\\n",
        "    .setInputCol(\"text\") \\\n",
        "    .setOutputCol(\"document\")\n",
        "\n",
        "tokenizer = Tokenizer() \\\n",
        "    .setInputCols([\"document\"]) \\\n",
        "    .setOutputCol(\"token\")\n",
        "\n",
        "pipeline = Pipeline(stages=[\n",
        "    document_assembler,\n",
        "    tokenizer,\n",
        "    sequenceClassifier_loaded\n",
        "])\n",
        "\n",
        "example = spark.createDataFrame([\n",
        "    [\"I love you!\"],\n",
        "    [\"I feel fine to be here.\"],\n",
        "    [\"I hate you\"]\n",
        "]).toDF(\"text\")\n",
        "\n",
        "result = pipeline.fit(example).transform(example)\n",
        "result.select(\"text\", \"class.result\").show(truncate=False)"
      ]
    },
    {
      "cell_type": "markdown",
      "metadata": {
        "id": "X_-9PPTlvGOE"
      },
      "source": [
        "That's it! You can now go wild and use hundreds of `XlmRoBertaForSequenceClassification` models from HuggingFace 🤗 in Spark NLP 🚀\n"
      ]
    }
  ],
  "metadata": {
    "accelerator": "GPU",
    "colab": {
      "gpuType": "T4",
      "provenance": []
    },
    "kernelspec": {
      "display_name": "Python 3 (ipykernel)",
      "language": "python",
      "name": "python3"
    },
    "language_info": {
      "codemirror_mode": {
        "name": "ipython",
        "version": 3
      },
      "file_extension": ".py",
      "mimetype": "text/x-python",
      "name": "python",
      "nbconvert_exporter": "python",
      "pygments_lexer": "ipython3"
    }
  },
  "nbformat": 4,
  "nbformat_minor": 0
}
