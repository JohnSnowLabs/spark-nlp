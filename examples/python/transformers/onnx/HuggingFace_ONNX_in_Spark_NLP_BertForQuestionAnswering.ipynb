{
  "cells": [
    {
      "cell_type": "markdown",
      "metadata": {
        "id": "0678EEEH_E_9"
      },
      "source": [
        "![JohnSnowLabs](https://sparknlp.org/assets/images/logo.png)\n",
        "\n",
        "[![Open In Colab](https://colab.research.google.com/assets/colab-badge.svg)](https://colab.research.google.com/github/JohnSnowLabs/spark-nlp/blob/master/examples/python/transformers/onnx/HuggingFace_ONNX_in_Spark_NLP_BertForQuestionAnswering.ipynb)"
      ]
    },
    {
      "cell_type": "markdown",
      "metadata": {
        "id": "4VqZKvCY_FAA"
      },
      "source": [
        "## Import ONNX BertForQuestionAnswering models from HuggingFace 🤗 into Spark NLP 🚀\n",
        "\n",
        "Let's keep in mind a few things before we start 😊\n",
        "\n",
        "- ONNX support was introduced in  `Spark NLP 5.0.0`, enabling high performance inference for models.\n",
        "- `BertForQuestionAnswering` is only available since in `Spark NLP 5.1.3` and after. So please make sure you have upgraded to the latest Spark NLP release\n",
        "- You can import BERT models trained/fine-tuned for question answering via `BertForQuestionAnswering` or `TFBertForQuestionAnswering`. These models are usually under `Question Answering` category and have `bert` in their labels\n",
        "- Reference: [TFBertForQuestionAnswering](https://huggingface.co/transformers/model_doc/bert#transformers.TFBertForQuestionAnswering)\n",
        "- Some [example models](https://huggingface.co/models?filter=bert&pipeline_tag=question-answering)"
      ]
    },
    {
      "cell_type": "markdown",
      "metadata": {
        "id": "D04I-3Hm_FAB"
      },
      "source": [
        "## Export and Save HuggingFace model"
      ]
    },
    {
      "cell_type": "markdown",
      "metadata": {
        "id": "LpfKAgN3_FAB"
      },
      "source": [
        "- Let's install `transformers` package with the `onnx` extension and it's dependencies. You don't need `onnx` to be installed for Spark NLP, however, we need it to load and save models from HuggingFace.\n",
        "- We lock `transformers` on version `4.48.2`. This doesn't mean it won't work with the future releases, but we wanted you to know which versions have been tested successfully.\n",
        "- Albert uses SentencePiece, so we will have to install that as well"
      ]
    },
    {
      "cell_type": "code",
      "execution_count": null,
      "metadata": {
        "colab": {
          "base_uri": "https://localhost:8080/"
        },
        "id": "28poKVBQ_FAC",
        "outputId": "29422824-992a-4be1-9a50-0d0e0b40b706"
      },
      "outputs": [],
      "source": [
        "!pip install -q --upgrade transformers[onnx]==4.48.2 optimum onnx"
      ]
    },
    {
      "cell_type": "markdown",
      "metadata": {
        "id": "QtZVX0Bw_FAD"
      },
      "source": [
        "- HuggingFace has an extension called Optimum which offers specialized model inference, including ONNX. We can use this to import and export ONNX models with `from_pretrained` and `save_pretrained`.\n",
        "- We'll use [FardinSaboori/bert-finetuned-squad](https://huggingface.co/FardinSaboori/bert-finetuned-squad) model from HuggingFace as an example and load it as a `ORTModelForQuestionAnswering`, representing an ONNX model.\n",
        "- In addition to the BERT model, we also need to save the `bertTokenizer`. This is the same for every model, these are assets (saved in `/assets`) needed for tokenization inside Spark NLP."
      ]
    },
    {
      "cell_type": "code",
      "execution_count": 2,
      "metadata": {
        "colab": {
          "base_uri": "https://localhost:8080/",
          "height": 415,
          "referenced_widgets": [
            "3e3c620a60e94deaa16226c81db3f5d9",
            "4d9412e4f8e247a48c00c19a1d343558",
            "8ea1304d187942478b97a624b584d702",
            "48bb360965bf48d182cd988f677f0ff2",
            "f212ed1f1cfb4aa6928146133f442e7b",
            "4617c35ec0d64485a0bd1afd1a918546",
            "06daee9ab73e4e3a834f149a960c133b",
            "2836085a898748219f9d83c072eac3e2",
            "aedb5ef543304d2cbc11a6f55d4eb696",
            "79cf4ef475ad46b69b0c4c690197424e",
            "08c62eabb17a446dbfff07b5ac89c714",
            "caa64a3d716f42d393a34486645b0599",
            "aefb9f35a5be40298c777b5e2f3835a9",
            "93fda51e92c54657b5365be17e171794",
            "b4d9f1f31f864eb4a2de3330b6ea26b8",
            "728641f50fb04cdda33de7436b634936",
            "4b39ff77e5c6468ca5590cca7d678ab3",
            "52ae0228f73347568f7da91bc3a044f9",
            "f3cf451839874983bc5d3fb8a3741ddc",
            "f0ad2e01155f410d8d0dba04d75ef0ea",
            "216acdc06a964b28b0741ee978b52bf2",
            "8fb04d9c27244a6583a1fd639941d469",
            "887b9261da54448f88b43a66baa139e8",
            "1c0285cd8dd2409d908d8924f19863dc",
            "77e0abd4fc1e46f1891fe6e42ed8a043",
            "21fd19c4320c4b7fa5f32c4e253867eb",
            "b4007e57052a4b92972432603d998151",
            "be421d192e314d8f9d5c6bfb2373de5c",
            "97670c02dd9f470584b8cb7fe87c1d8d",
            "73ae20432b694782aa527c9e1f8e3e6e",
            "c62f5dc3aada4d05a87a57acf14a440d",
            "320647f69ede4ba9a78fe162d05cdeba",
            "a677245e27c946d4a8a97ad4c49a1f2d",
            "5898b2d82bf24dab9e8ab36f7167276d",
            "7fa2e556e0604d3991466a26e4366b46",
            "5fb53566ab734df4ae63b0553e6f6f24",
            "749dc4214ed44ff5acf1d478ca645ff7",
            "dad83f0cdd72412489861a853fd62266",
            "46a73522afba4ccc98abbdff7df1ead3",
            "37dda681f15d4fbbb3fd8f4a53510625",
            "17f922aed9874e6bb414ee7513b8a8a3",
            "26029a757dcd45bdb316b5c26fce0867",
            "caa5072eb2924582881367efa456f8a7",
            "345639773d8c4525afa025aefe4ceaa5",
            "acb501cb426240349710a2ba13f1658c",
            "8d5e1d876971433abd8b6534d948287b",
            "87956a8633974ef9bf8a913fad4b5ac3",
            "50ca25e0d1394bee8cba871b11126306",
            "965636546bc148b69ad8e4cb028acf31",
            "c376ab0049d84b46a75cae15a4c02ef6",
            "7c00e42a2ff3406faeedf173e80e9f3f",
            "8844837158b345f48368607345c65438",
            "62573e33412b490681e3ea464f821b39",
            "faeb84edbab1409e94d632ac15b80d64",
            "1ca48b4017e24b0d960a02017af9f6df",
            "7c4d13b4e94b4b2e8bbbf16b75b63b79",
            "f9c1057957794c29abe4273a974a7f74",
            "e1e2ef7b14e4472a884d026cfd44086f",
            "a23e814b7be142adaf62a7c781551278",
            "73ac8431089845bb8b5dc8d881c8bd22",
            "360b65a84cf142ff8dd72c1a5cd3217f",
            "f2a38ef2815542859384e87e9f48f79f",
            "b85a0994cb134c63840e7ea62a5a3ca8",
            "f82839ce440d4c2aa27a6b8459eefdc2",
            "08645421b7434840b59a118b97f7e166",
            "a73fc55d32f24ca2b7c2fbe8e007f23f",
            "42cb55af7bd74efbae27e85558fb7957",
            "296e3969abce48659520c58dd3f3fe2d",
            "357ede9140404f14a7bf9ac5c26ec87d",
            "63bafbc6fb0c4876af15808483c16255",
            "d8d1d9c89c8f4b929cf6e767d212b5e4",
            "aa9f2cd31355453487a90344bd73dad3",
            "399cbf42654f4838854ae9d503fe4c7f",
            "3a35aa390b254268851b50c3f0b16254",
            "2234509a488244628e64f1a0d071e5ea",
            "33d5f3eeda7941b5bbbce3998c93206f",
            "4890bda20cae4687af1a935048ba0109"
          ]
        },
        "id": "JWSIUMNv_FAE",
        "outputId": "b5ee9594-e6e6-4d12-c93b-1e5a1cac33bf"
      },
      "outputs": [
        {
          "name": "stderr",
          "output_type": "stream",
          "text": [
            "/usr/local/lib/python3.11/dist-packages/huggingface_hub/utils/_auth.py:94: UserWarning: \n",
            "The secret `HF_TOKEN` does not exist in your Colab secrets.\n",
            "To authenticate with the Hugging Face Hub, create a token in your settings tab (https://huggingface.co/settings/tokens), set it as secret in your Google Colab and restart your session.\n",
            "You will be able to reuse this secret in all of your notebooks.\n",
            "Please note that authentication is recommended but still optional to access public models or datasets.\n",
            "  warnings.warn(\n"
          ]
        },
        {
          "data": {
            "application/vnd.jupyter.widget-view+json": {
              "model_id": "3e3c620a60e94deaa16226c81db3f5d9",
              "version_major": 2,
              "version_minor": 0
            },
            "text/plain": [
              "config.json:   0%|          | 0.00/671 [00:00<?, ?B/s]"
            ]
          },
          "metadata": {},
          "output_type": "display_data"
        },
        {
          "data": {
            "application/vnd.jupyter.widget-view+json": {
              "model_id": "caa64a3d716f42d393a34486645b0599",
              "version_major": 2,
              "version_minor": 0
            },
            "text/plain": [
              "pytorch_model.bin:   0%|          | 0.00/431M [00:00<?, ?B/s]"
            ]
          },
          "metadata": {},
          "output_type": "display_data"
        },
        {
          "data": {
            "application/vnd.jupyter.widget-view+json": {
              "model_id": "887b9261da54448f88b43a66baa139e8",
              "version_major": 2,
              "version_minor": 0
            },
            "text/plain": [
              "tokenizer_config.json:   0%|          | 0.00/320 [00:00<?, ?B/s]"
            ]
          },
          "metadata": {},
          "output_type": "display_data"
        },
        {
          "data": {
            "application/vnd.jupyter.widget-view+json": {
              "model_id": "5898b2d82bf24dab9e8ab36f7167276d",
              "version_major": 2,
              "version_minor": 0
            },
            "text/plain": [
              "vocab.txt:   0%|          | 0.00/213k [00:00<?, ?B/s]"
            ]
          },
          "metadata": {},
          "output_type": "display_data"
        },
        {
          "data": {
            "application/vnd.jupyter.widget-view+json": {
              "model_id": "acb501cb426240349710a2ba13f1658c",
              "version_major": 2,
              "version_minor": 0
            },
            "text/plain": [
              "tokenizer.json:   0%|          | 0.00/669k [00:00<?, ?B/s]"
            ]
          },
          "metadata": {},
          "output_type": "display_data"
        },
        {
          "data": {
            "application/vnd.jupyter.widget-view+json": {
              "model_id": "7c4d13b4e94b4b2e8bbbf16b75b63b79",
              "version_major": 2,
              "version_minor": 0
            },
            "text/plain": [
              "model.safetensors:   0%|          | 0.00/431M [00:00<?, ?B/s]"
            ]
          },
          "metadata": {},
          "output_type": "display_data"
        },
        {
          "data": {
            "application/vnd.jupyter.widget-view+json": {
              "model_id": "42cb55af7bd74efbae27e85558fb7957",
              "version_major": 2,
              "version_minor": 0
            },
            "text/plain": [
              "special_tokens_map.json:   0%|          | 0.00/112 [00:00<?, ?B/s]"
            ]
          },
          "metadata": {},
          "output_type": "display_data"
        },
        {
          "data": {
            "text/plain": [
              "('onnx_models/FardinSaboori/bert-finetuned-squad/tokenizer_config.json',\n",
              " 'onnx_models/FardinSaboori/bert-finetuned-squad/special_tokens_map.json',\n",
              " 'onnx_models/FardinSaboori/bert-finetuned-squad/vocab.txt',\n",
              " 'onnx_models/FardinSaboori/bert-finetuned-squad/added_tokens.json')"
            ]
          },
          "execution_count": 2,
          "metadata": {},
          "output_type": "execute_result"
        }
      ],
      "source": [
        "from transformers import BertTokenizer\n",
        "from optimum.onnxruntime import ORTModelForQuestionAnswering\n",
        "\n",
        "MODEL_NAME = \"FardinSaboori/bert-finetuned-squad\"\n",
        "EXPORT_PATH = f\"onnx_models/{MODEL_NAME}\"\n",
        "\n",
        "ort_model = ORTModelForQuestionAnswering.from_pretrained(MODEL_NAME, export=True)\n",
        "ort_model.save_pretrained(EXPORT_PATH)\n",
        "\n",
        "tokenizer = BertTokenizer.from_pretrained(MODEL_NAME)\n",
        "tokenizer.save_pretrained(EXPORT_PATH)"
      ]
    },
    {
      "cell_type": "markdown",
      "metadata": {
        "id": "QTwaqTFc_FAE"
      },
      "source": [
        "Let's have a look inside these two directories and see what we are dealing with:"
      ]
    },
    {
      "cell_type": "code",
      "execution_count": 3,
      "metadata": {
        "colab": {
          "base_uri": "https://localhost:8080/"
        },
        "id": "OH6OxWQ1_FAE",
        "outputId": "9ad85ca1-755a-4c83-9763-633084b49445"
      },
      "outputs": [
        {
          "name": "stdout",
          "output_type": "stream",
          "text": [
            "total 421312\n",
            "-rw-r--r-- 1 root root       690 Jun  9 20:14 config.json\n",
            "-rw-r--r-- 1 root root 431187279 Jun  9 20:14 model.onnx\n",
            "-rw-r--r-- 1 root root       695 Jun  9 20:14 special_tokens_map.json\n",
            "-rw-r--r-- 1 root root      1273 Jun  9 20:14 tokenizer_config.json\n",
            "-rw-r--r-- 1 root root    213450 Jun  9 20:14 vocab.txt\n"
          ]
        }
      ],
      "source": [
        "!ls -l {EXPORT_PATH}"
      ]
    },
    {
      "cell_type": "markdown",
      "metadata": {
        "id": "HhUfneQD_FAF"
      },
      "source": [
        "- Now we need to move `vocab.txt` from the tokenizer into an `assets` folder, which is where Spark NLP expects to find it."
      ]
    },
    {
      "cell_type": "code",
      "execution_count": 4,
      "metadata": {
        "id": "4acXgYRu_FAF"
      },
      "outputs": [],
      "source": [
        "!mkdir {EXPORT_PATH}/assets && mv {EXPORT_PATH}/vocab.txt {EXPORT_PATH}/assets"
      ]
    },
    {
      "cell_type": "code",
      "execution_count": 5,
      "metadata": {
        "colab": {
          "base_uri": "https://localhost:8080/"
        },
        "id": "KnFsjhMq_FAG",
        "outputId": "49b2af3a-1554-4c3b-a1dd-baf058ecb1bd"
      },
      "outputs": [
        {
          "name": "stdout",
          "output_type": "stream",
          "text": [
            "onnx_models/FardinSaboori/bert-finetuned-squad:\n",
            "total 421104\n",
            "drwxr-xr-x 2 root root      4096 Jun  9 20:14 assets\n",
            "-rw-r--r-- 1 root root       690 Jun  9 20:14 config.json\n",
            "-rw-r--r-- 1 root root 431187279 Jun  9 20:14 model.onnx\n",
            "-rw-r--r-- 1 root root       695 Jun  9 20:14 special_tokens_map.json\n",
            "-rw-r--r-- 1 root root      1273 Jun  9 20:14 tokenizer_config.json\n",
            "\n",
            "onnx_models/FardinSaboori/bert-finetuned-squad/assets:\n",
            "total 212\n",
            "-rw-r--r-- 1 root root 213450 Jun  9 20:14 vocab.txt\n"
          ]
        }
      ],
      "source": [
        "!ls -lR {EXPORT_PATH}"
      ]
    },
    {
      "cell_type": "markdown",
      "metadata": {
        "id": "WhoIZZSI_FAG"
      },
      "source": [
        "Voila! We have our `vocab.txt` inside assets directory"
      ]
    },
    {
      "cell_type": "markdown",
      "metadata": {
        "id": "swiVhhgV_FAG"
      },
      "source": [
        "## Import and Save BertForQuestionAnswering in Spark NLP\n"
      ]
    },
    {
      "cell_type": "markdown",
      "metadata": {
        "id": "fDDA4NKp_FAG"
      },
      "source": [
        "Let's install and setup Spark NLP in Google Colab. For this example, we'll use specific versions of `pyspark` and `spark-nlp` that we've already tested with this transformer model to make sure everything runs smoothly:\n",
        "\n",
        "If you prefer to use the latest versions, feel free to run:\n",
        "\n",
        "`!pip install -q pyspark spark-nlp`\n",
        "\n",
        "Just keep in mind that newer versions might have some changes, so you may need to tweak your code a bit if anything breaks."
      ]
    },
    {
      "cell_type": "code",
      "execution_count": 6,
      "metadata": {
        "colab": {
          "base_uri": "https://localhost:8080/"
        },
        "id": "ZJTjPWa3_FAG",
        "outputId": "5bfb8eb9-8f84-423e-b57d-a866596200b6"
      },
      "outputs": [
        {
          "name": "stdout",
          "output_type": "stream",
          "text": [
            "\u001b[2K     \u001b[90m━━━━━━━━━━━━━━━━━━━━━━━━━━━━━━━━━━━━━━━\u001b[0m \u001b[32m317.3/317.3 MB\u001b[0m \u001b[31m4.5 MB/s\u001b[0m eta \u001b[36m0:00:00\u001b[0m\n",
            "\u001b[?25h  Preparing metadata (setup.py) ... \u001b[?25l\u001b[?25hdone\n",
            "\u001b[2K   \u001b[90m━━━━━━━━━━━━━━━━━━━━━━━━━━━━━━━━━━━━━━━━\u001b[0m \u001b[32m635.7/635.7 kB\u001b[0m \u001b[31m24.0 MB/s\u001b[0m eta \u001b[36m0:00:00\u001b[0m\n",
            "\u001b[?25h  Building wheel for pyspark (setup.py) ... \u001b[?25l\u001b[?25hdone\n"
          ]
        }
      ],
      "source": [
        "!pip install -q pyspark==3.5.4 spark-nlp==5.5.3"
      ]
    },
    {
      "cell_type": "markdown",
      "metadata": {
        "id": "UjAflvZf_FAH"
      },
      "source": [
        "Let's start Spark with Spark NLP included via our simple `start()` function"
      ]
    },
    {
      "cell_type": "code",
      "execution_count": 7,
      "metadata": {
        "colab": {
          "base_uri": "https://localhost:8080/"
        },
        "id": "75LiKlh__FAH",
        "outputId": "e4c6453a-5d4d-4a40-f369-9675af4a0710"
      },
      "outputs": [
        {
          "name": "stdout",
          "output_type": "stream",
          "text": [
            "Spark NLP version:  5.5.3\n",
            "Apache Spark version:  3.5.4\n"
          ]
        }
      ],
      "source": [
        "import sparknlp\n",
        "\n",
        "spark = sparknlp.start()\n",
        "\n",
        "print(\"Spark NLP version: \", sparknlp.version())\n",
        "print(\"Apache Spark version: \", spark.version)"
      ]
    },
    {
      "cell_type": "markdown",
      "metadata": {
        "id": "Mu5a0_6T_FAH"
      },
      "source": [
        "- Let's use `loadSavedModel` functon in `BertForQuestionAnswering` which allows us to load TensorFlow model in SavedModel format\n",
        "- Most params can be set later when you are loading this model in `BertForQuestionAnswering` in runtime like `setMaxSentenceLength`, so don't worry what you are setting them now\n",
        "- `loadSavedModel` accepts two params, first is the path to the TF SavedModel. The second is the SparkSession that is `spark` variable we previously started via `sparknlp.start()`\n",
        "- NOTE: `loadSavedModel` accepts local paths in addition to distributed file systems such as `HDFS`, `S3`, `DBFS`, etc. This feature was introduced in Spark NLP 4.2.2 release. Keep in mind the best and recommended way to move/share/reuse Spark NLP models is to use `write.save` so you can use `.load()` from any file systems natively."
      ]
    },
    {
      "cell_type": "code",
      "execution_count": 8,
      "metadata": {
        "id": "ZY1Z696h_FAH"
      },
      "outputs": [],
      "source": [
        "from sparknlp.annotator import BertForQuestionAnswering\n",
        "\n",
        "spanClassifier = BertForQuestionAnswering.loadSavedModel(\n",
        "     f\"{EXPORT_PATH}\",\n",
        "     spark\n",
        " )\\\n",
        "  .setInputCols([\"document_question\",'document_context'])\\\n",
        "  .setOutputCol(\"answer\")\\\n",
        "  .setCaseSensitive(False)\\\n",
        "  .setMaxSentenceLength(512)"
      ]
    },
    {
      "cell_type": "markdown",
      "metadata": {
        "id": "LliL-JRE_FAH"
      },
      "source": [
        "- Let's save it on disk so it is easier to be moved around and also be used later via `.load` function"
      ]
    },
    {
      "cell_type": "code",
      "execution_count": 9,
      "metadata": {
        "id": "fshnAjl3_FAH"
      },
      "outputs": [],
      "source": [
        "spanClassifier.write().overwrite().save(\"./{}_spark_nlp_onnx\".format(MODEL_NAME))"
      ]
    },
    {
      "cell_type": "markdown",
      "metadata": {
        "id": "2iYbDIlx_FAH"
      },
      "source": [
        "Let's clean up stuff we don't need anymore"
      ]
    },
    {
      "cell_type": "code",
      "execution_count": 10,
      "metadata": {
        "id": "9de9cDBA_FAI"
      },
      "outputs": [],
      "source": [
        "!rm -rf {EXPORT_PATH}"
      ]
    },
    {
      "cell_type": "markdown",
      "metadata": {
        "id": "BzdwPyeS_FAI"
      },
      "source": [
        "Awesome 😎  !\n",
        "\n",
        "This is your BertForQuestionAnswering model from HuggingFace 🤗  loaded and saved by Spark NLP 🚀"
      ]
    },
    {
      "cell_type": "code",
      "execution_count": 11,
      "metadata": {
        "colab": {
          "base_uri": "https://localhost:8080/"
        },
        "id": "G-NP0jP1_FAI",
        "outputId": "e07eaf2b-639f-41c1-8132-cb8c43a69950"
      },
      "outputs": [
        {
          "name": "stdout",
          "output_type": "stream",
          "text": [
            "total 421156\n",
            "-rw-r--r-- 1 root root 431253208 Jun  9 20:16 bert_classification_onnx\n",
            "drwxr-xr-x 3 root root      4096 Jun  9 20:16 fields\n",
            "drwxr-xr-x 2 root root      4096 Jun  9 20:16 metadata\n"
          ]
        }
      ],
      "source": [
        "! ls -l {MODEL_NAME}_spark_nlp_onnx"
      ]
    },
    {
      "cell_type": "markdown",
      "metadata": {
        "id": "mr4eKTow_FAI"
      },
      "source": [
        "Now let's see how we can use it on other machines, clusters, or any place you wish to use your new and shiny BertForQuestionAnswering model in Spark NLP 🚀 pipeline!"
      ]
    },
    {
      "cell_type": "code",
      "execution_count": 12,
      "metadata": {
        "colab": {
          "base_uri": "https://localhost:8080/"
        },
        "id": "MXEsvctB_FAI",
        "outputId": "41813b21-c9ce-43ef-fd18-a2434cf418bd"
      },
      "outputs": [
        {
          "name": "stdout",
          "output_type": "stream",
          "text": [
            "+-------+\n",
            "|result |\n",
            "+-------+\n",
            "|[clara]|\n",
            "+-------+\n",
            "\n"
          ]
        }
      ],
      "source": [
        "from sparknlp.base import MultiDocumentAssembler\n",
        "from sparknlp.annotator import BertForQuestionAnswering\n",
        "from pyspark.ml import Pipeline\n",
        "\n",
        "document_assembler = MultiDocumentAssembler() \\\n",
        "    .setInputCols([\"question\", \"context\"]) \\\n",
        "    .setOutputCols([\"document_question\", \"document_context\"])\n",
        "\n",
        "spanClassifier_loaded = BertForQuestionAnswering.load(f\"./{MODEL_NAME}_spark_nlp_onnx\") \\\n",
        "    .setInputCols([\"document_question\", \"document_context\"]) \\\n",
        "    .setOutputCol(\"answer\")\n",
        "\n",
        "pipeline = Pipeline().setStages([\n",
        "    document_assembler,\n",
        "    spanClassifier_loaded\n",
        "])\n",
        "\n",
        "example = spark.createDataFrame([\n",
        "    [\"What's my name?\", \"My name is Clara and I live in Berkeley.\"]\n",
        "]).toDF(\"question\", \"context\")\n",
        "\n",
        "result = pipeline.fit(example).transform(example)\n",
        "result.select(\"answer.result\").show(1, truncate=False)"
      ]
    },
    {
      "cell_type": "markdown",
      "metadata": {
        "id": "YDxsMKY5_FAI"
      },
      "source": [
        "That's it! You can now go wild and use hundreds of `BertForQuestionAnswering` models from HuggingFace 🤗 in Spark NLP 🚀\n"
      ]
    }
  ],
  "metadata": {
    "colab": {
      "provenance": []
    },
    "kernelspec": {
      "display_name": "Python 3 (ipykernel)",
      "language": "python",
      "name": "python3"
    },
    "language_info": {
      "codemirror_mode": {
        "name": "ipython",
        "version": 3
      },
      "file_extension": ".py",
      "mimetype": "text/x-python",
      "name": "python",
      "nbconvert_exporter": "python",
      "pygments_lexer": "ipython3"
    }
  },
  "nbformat": 4,
  "nbformat_minor": 0
}
