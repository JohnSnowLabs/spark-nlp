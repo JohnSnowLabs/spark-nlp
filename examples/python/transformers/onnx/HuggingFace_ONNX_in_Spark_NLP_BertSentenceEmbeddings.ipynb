{
  "cells": [
    {
      "cell_type": "markdown",
      "metadata": {
        "id": "V6Mxw7grNEw8"
      },
      "source": [
        "![JohnSnowLabs](https://sparknlp.org/assets/images/logo.png)\n",
        "\n",
        "[![Open In Colab](https://colab.research.google.com/assets/colab-badge.svg)](https://colab.research.google.com/github/JohnSnowLabs/spark-nlp/blob/master/examples/python/transformers/onnx/HuggingFace_ONNX_in_Spark_NLP_BertSentenceEmbeddings.ipynb)\n",
        "\n",
        "# Import ONNX BertSentenceEmbeddings models from HuggingFace 🤗 into Spark NLP 🚀\n",
        "\n",
        "Let's keep in mind a few things before we start 😊\n",
        "\n",
        "- ONNX support was introduced in  `Spark NLP 5.0.0`, enabling high performance inference for models. Please make sure you have upgraded to the latest Spark NLP release.\n",
        "- You can import models for BertSentenceEmbeddings from HuggingFace and they have to be in `Fill Mask` category. Meaning, you cannot use BertSentenceEmbeddings models trained/fine-tuned on a specific task such as token/sequence classification."
      ]
    },
    {
      "cell_type": "markdown",
      "metadata": {
        "id": "p4uFRPacNExA"
      },
      "source": [
        "## Export and Save HuggingFace model"
      ]
    },
    {
      "cell_type": "markdown",
      "metadata": {
        "id": "ad8ia9zpNExB"
      },
      "source": [
        "- Let's install `transformers` package with the `onnx` extension and it's dependencies. You don't need `onnx` to be installed for Spark NLP, however, we need it to load and save models from HuggingFace.\n",
        "- We lock `transformers` on version `4.34.1`. This doesn't mean it won't work with the future releases, but we wanted you to know which versions have been tested successfully."
      ]
    },
    {
      "cell_type": "code",
      "execution_count": null,
      "metadata": {
        "colab": {
          "base_uri": "https://localhost:8080/"
        },
        "id": "8FEdvRT5NExC",
        "outputId": "8dc20761-80d5-4b2e-d2c0-47861e865d0a"
      },
      "outputs": [],
      "source": [
        "!pip install -q transformers[onnx]==4.51.3 optimum onnx"
      ]
    },
    {
      "cell_type": "markdown",
      "metadata": {
        "id": "GGUC4uVnNExE"
      },
      "source": [
        "- HuggingFace has an extension called Optimum which offers specialized model inference, including ONNX. We can use this to import and export ONNX models with `from_pretrained` and `save_pretrained`.\n",
        "- We'll use [bert-base-cased](https://huggingface.co/bert-base-cased) model from HuggingFace as an example and load it as a `ORTModelForFeatureExtraction`, representing an ONNX model.\n",
        "- In addition to the BERT model, we also need to save the `BertTokenizer`. This is the same for every model, these are assets (saved in `/assets`) needed for tokenization inside Spark NLP."
      ]
    },
    {
      "cell_type": "code",
      "execution_count": 2,
      "metadata": {
        "colab": {
          "base_uri": "https://localhost:8080/",
          "height": 351,
          "referenced_widgets": [
            "29820c88c76f4636b3b1746d26030308",
            "080c4c2bcbdb4edab24e54ac37f6d7fd",
            "8a1e083ae7744297a4391c6e789a6069",
            "214addf79e2442f2873da18f8e3b0c1b",
            "7d21bf9a5cde49c097967e77a6be1b1f",
            "9923593c706f4ff8b2817b276595a519",
            "f637348704234f87a475d6895ed1661c",
            "dd5bcb40784f43f6bb8563af0250904a",
            "30929ffa082a4836bf22f3fc14a56754",
            "04dd2bb735504cd8a200490961c5edbd",
            "f868935e02844c9c9716a75f77a990d4",
            "61612d7a75b34a5d96fd18d40446840c",
            "148ad86747aa4d65941a9da5cdbcda83",
            "3df3307b14794daaa18d59a134ea18a4",
            "14885ab8b01d47f2a0fc09a5de13a3ff",
            "2e1cb3c8731a401aaa7d02d1da0b7130",
            "84a1c9446c0b4af6b72c2a1accaaab68",
            "ec82525b333a477ab0024af375447e8b",
            "e60f7e1c1271440da8472f1061421e19",
            "73df7ef8f0024fccb1a41d238dce2d20",
            "d3dad6c79e7f4656ad65b7991b153417",
            "5f36ca49efc34b57ae576bec007e3093",
            "9816e41f95bd4f19a8a98ac0ac9524c2",
            "7ebda086478049a080f52c7a8b2cd193",
            "3bae86b6ca3542369a21b7a7db74a26a",
            "9ceb87717dac4a6da9a15b20809cdfb5",
            "29ef08cdc6f64333bc830e03cd00cf2f",
            "98d5f5d0965443618d7c37ca079900a4",
            "7cc5e8f3963843d3a08cf031c8cfaa54",
            "842ff78ca26b4facb8ea5033e97093f6",
            "fb8dc45adf7a40de9820d47464b91e6c",
            "57e743e6584b4ccab39916e401999b64",
            "2a26ab23e4f942f88337bf337f7bd6a3",
            "d46a82ccba76475093f03491da7e8adf",
            "48404c00c6c343849cec3ee605fe1d02",
            "fa7f16728e8343e5ac592e3320230ed0",
            "b5db80d5374b4df29d4762ae7d0e30f6",
            "edb6b53628da4f72b22313242a465a57",
            "63d51e6498624dc790834648d418147b",
            "b00dc93ec8b949e8afef04c8b9c962e9",
            "e85381051c08449e99baaff3d27af1f6",
            "973cf429de99421f95af74308f24ae39",
            "b93eafaf17204554abab447b1cbb5634",
            "b3809cc0816648869b88bcc1ad9492f5",
            "b01a249e95bc4b9aa5f56eb6858f8963",
            "20b2b44c8b0d4c89b453c84fb21af188",
            "d20f04ad4b134eb395c70e33dbe38b64",
            "dcaeeefd5db6491d980425fd71bb20e3",
            "d6be4a943d8c4a429bb4e1b36c0fdb32",
            "04459643776546b8a8d3aaef8a6289b3",
            "866237ffa7ff4cf48b641fd52294ce65",
            "98d79e24cde440cfa0f08572e44ef13f",
            "9153166c42d6492aa311b1302d420a54",
            "443409de25c844ed95bffa718c12b0d5",
            "5c2948fd072147e8901343121fcc1e2c"
          ]
        },
        "id": "GoESIf-rNExE",
        "outputId": "ef87c62a-9138-4d4c-91a3-61f303b1a6df"
      },
      "outputs": [
        {
          "name": "stderr",
          "output_type": "stream",
          "text": [
            "/usr/local/lib/python3.11/dist-packages/huggingface_hub/utils/_auth.py:94: UserWarning: \n",
            "The secret `HF_TOKEN` does not exist in your Colab secrets.\n",
            "To authenticate with the Hugging Face Hub, create a token in your settings tab (https://huggingface.co/settings/tokens), set it as secret in your Google Colab and restart your session.\n",
            "You will be able to reuse this secret in all of your notebooks.\n",
            "Please note that authentication is recommended but still optional to access public models or datasets.\n",
            "  warnings.warn(\n"
          ]
        },
        {
          "data": {
            "application/vnd.jupyter.widget-view+json": {
              "model_id": "29820c88c76f4636b3b1746d26030308",
              "version_major": 2,
              "version_minor": 0
            },
            "text/plain": [
              "config.json:   0%|          | 0.00/570 [00:00<?, ?B/s]"
            ]
          },
          "metadata": {},
          "output_type": "display_data"
        },
        {
          "data": {
            "application/vnd.jupyter.widget-view+json": {
              "model_id": "61612d7a75b34a5d96fd18d40446840c",
              "version_major": 2,
              "version_minor": 0
            },
            "text/plain": [
              "model.safetensors:   0%|          | 0.00/436M [00:00<?, ?B/s]"
            ]
          },
          "metadata": {},
          "output_type": "display_data"
        },
        {
          "data": {
            "application/vnd.jupyter.widget-view+json": {
              "model_id": "9816e41f95bd4f19a8a98ac0ac9524c2",
              "version_major": 2,
              "version_minor": 0
            },
            "text/plain": [
              "tokenizer_config.json:   0%|          | 0.00/49.0 [00:00<?, ?B/s]"
            ]
          },
          "metadata": {},
          "output_type": "display_data"
        },
        {
          "data": {
            "application/vnd.jupyter.widget-view+json": {
              "model_id": "d46a82ccba76475093f03491da7e8adf",
              "version_major": 2,
              "version_minor": 0
            },
            "text/plain": [
              "vocab.txt:   0%|          | 0.00/213k [00:00<?, ?B/s]"
            ]
          },
          "metadata": {},
          "output_type": "display_data"
        },
        {
          "data": {
            "application/vnd.jupyter.widget-view+json": {
              "model_id": "b01a249e95bc4b9aa5f56eb6858f8963",
              "version_major": 2,
              "version_minor": 0
            },
            "text/plain": [
              "tokenizer.json:   0%|          | 0.00/436k [00:00<?, ?B/s]"
            ]
          },
          "metadata": {},
          "output_type": "display_data"
        },
        {
          "data": {
            "text/plain": [
              "('onnx_models/bert-base-cased/tokenizer_config.json',\n",
              " 'onnx_models/bert-base-cased/special_tokens_map.json',\n",
              " 'onnx_models/bert-base-cased/vocab.txt',\n",
              " 'onnx_models/bert-base-cased/added_tokens.json')"
            ]
          },
          "execution_count": 2,
          "metadata": {},
          "output_type": "execute_result"
        }
      ],
      "source": [
        "from transformers import BertTokenizer\n",
        "from optimum.onnxruntime import ORTModelForFeatureExtraction\n",
        "\n",
        "MODEL_NAME = \"bert-base-cased\"\n",
        "EXPORT_PATH = f\"onnx_models/{MODEL_NAME}\"\n",
        "\n",
        "ort_model = ORTModelForFeatureExtraction.from_pretrained(MODEL_NAME, export=True)\n",
        "ort_model.save_pretrained(EXPORT_PATH)\n",
        "\n",
        "tokenizer = BertTokenizer.from_pretrained(MODEL_NAME)\n",
        "tokenizer.save_pretrained(EXPORT_PATH)"
      ]
    },
    {
      "cell_type": "markdown",
      "metadata": {
        "id": "FI3tfq1zNExF"
      },
      "source": [
        "Let's have a look inside these two directories and see what we are dealing with:"
      ]
    },
    {
      "cell_type": "code",
      "execution_count": 3,
      "metadata": {
        "colab": {
          "base_uri": "https://localhost:8080/"
        },
        "id": "fHsJY3KZNExF",
        "outputId": "03ed780c-22af-414c-dc67-63793b2813cf"
      },
      "outputs": [
        {
          "name": "stdout",
          "output_type": "stream",
          "text": [
            "total 421280\n",
            "-rw-r--r-- 1 root root       596 Jun 10 19:46 config.json\n",
            "-rw-r--r-- 1 root root 431156744 Jun 10 19:46 model.onnx\n",
            "-rw-r--r-- 1 root root       125 Jun 10 19:46 special_tokens_map.json\n",
            "-rw-r--r-- 1 root root      1273 Jun 10 19:46 tokenizer_config.json\n",
            "-rw-r--r-- 1 root root    213450 Jun 10 19:46 vocab.txt\n"
          ]
        }
      ],
      "source": [
        "!ls -l {EXPORT_PATH}"
      ]
    },
    {
      "cell_type": "markdown",
      "metadata": {
        "id": "NGMlhrr3ObCV"
      },
      "source": [
        "- We need to move `vocabs.txt` from the tokenizer to assets folder which Spark NLP will look for\n"
      ]
    },
    {
      "cell_type": "code",
      "execution_count": 4,
      "metadata": {
        "id": "2yIxXTjXOXFB"
      },
      "outputs": [],
      "source": [
        "!mkdir -p {EXPORT_PATH}/assets && mv {EXPORT_PATH}/vocab.txt {EXPORT_PATH}/assets/"
      ]
    },
    {
      "cell_type": "code",
      "execution_count": 5,
      "metadata": {
        "colab": {
          "base_uri": "https://localhost:8080/"
        },
        "id": "fX5gNnJhYJFF",
        "outputId": "98e22625-d516-4c40-dd4c-37b096ecf532"
      },
      "outputs": [
        {
          "name": "stdout",
          "output_type": "stream",
          "text": [
            "onnx_models/bert-base-cased:\n",
            "total 421072\n",
            "drwxr-xr-x 2 root root      4096 Jun 10 19:46 assets\n",
            "-rw-r--r-- 1 root root       596 Jun 10 19:46 config.json\n",
            "-rw-r--r-- 1 root root 431156744 Jun 10 19:46 model.onnx\n",
            "-rw-r--r-- 1 root root       125 Jun 10 19:46 special_tokens_map.json\n",
            "-rw-r--r-- 1 root root      1273 Jun 10 19:46 tokenizer_config.json\n",
            "\n",
            "onnx_models/bert-base-cased/assets:\n",
            "total 212\n",
            "-rw-r--r-- 1 root root 213450 Jun 10 19:46 vocab.txt\n"
          ]
        }
      ],
      "source": [
        "!ls -lR {EXPORT_PATH}"
      ]
    },
    {
      "cell_type": "markdown",
      "metadata": {
        "id": "QryCJx3GYJUg"
      },
      "source": [
        "Voila! We have our `vocab.txt` inside assets directory"
      ]
    },
    {
      "cell_type": "markdown",
      "metadata": {
        "id": "GhcpVSPHNExG"
      },
      "source": [
        "## Import and Save BertSentenceEmbeddings in Spark NLP\n",
        "\n",
        "Let's install and setup Spark NLP in Google Colab. For this example, we'll use specific versions of `pyspark` and `spark-nlp` that we've already tested with this transformer model to make sure everything runs smoothly."
      ]
    },
    {
      "cell_type": "code",
      "execution_count": 6,
      "metadata": {
        "colab": {
          "base_uri": "https://localhost:8080/"
        },
        "id": "Vxd3y11ENExG",
        "outputId": "5df35e24-425a-456c-b525-b076063acb0b"
      },
      "outputs": [
        {
          "name": "stdout",
          "output_type": "stream",
          "text": [
            "\u001b[2K     \u001b[90m━━━━━━━━━━━━━━━━━━━━━━━━━━━━━━━━━━━━━━━━\u001b[0m \u001b[32m317.3/317.3 MB\u001b[0m \u001b[31m4.4 MB/s\u001b[0m eta \u001b[36m0:00:00\u001b[0m\n",
            "\u001b[?25h  Preparing metadata (setup.py) ... \u001b[?25l\u001b[?25hdone\n",
            "\u001b[2K   \u001b[90m━━━━━━━━━━━━━━━━━━━━━━━━━━━━━━━━━━━━━━━━\u001b[0m \u001b[32m635.7/635.7 kB\u001b[0m \u001b[31m29.5 MB/s\u001b[0m eta \u001b[36m0:00:00\u001b[0m\n",
            "\u001b[?25h  Building wheel for pyspark (setup.py) ... \u001b[?25l\u001b[?25hdone\n"
          ]
        }
      ],
      "source": [
        "!pip install -q pyspark==3.5.4 spark-nlp==5.5.3"
      ]
    },
    {
      "cell_type": "markdown",
      "metadata": {
        "id": "gXP028BFNExH"
      },
      "source": [
        "Let's start Spark with Spark NLP included via our simple `start()` function"
      ]
    },
    {
      "cell_type": "code",
      "execution_count": 7,
      "metadata": {
        "colab": {
          "base_uri": "https://localhost:8080/"
        },
        "id": "iR8Dv32SNExH",
        "outputId": "7c904bc2-b885-42f9-d18e-152f6b809391"
      },
      "outputs": [
        {
          "name": "stdout",
          "output_type": "stream",
          "text": [
            "Spark NLP version:  5.5.3\n",
            "Apache Spark version:  3.5.4\n"
          ]
        }
      ],
      "source": [
        "import sparknlp\n",
        "\n",
        "spark = sparknlp.start()\n",
        "\n",
        "print(\"Spark NLP version: \", sparknlp.version())\n",
        "print(\"Apache Spark version: \", spark.version)"
      ]
    },
    {
      "cell_type": "markdown",
      "metadata": {
        "id": "Z5Egv_0CNExH"
      },
      "source": [
        "- Let's use `loadSavedModel` functon in `BertSentenceEmbeddings` which allows us to load the ONNX model\n",
        "- Most params will be set automatically. They can also be set later after loading the model in `BertSentenceEmbeddings` during runtime, so don't worry about setting them now\n",
        "- `loadSavedModel` accepts two params, first is the path to the exported model. The second is the SparkSession that is `spark` variable we previously started via `sparknlp.start()`\n",
        "- `setStorageRef` is very important. When you are training a task like NER or any Text Classification, we use this reference to bound the trained model to this specific embeddings so you won't load a different embeddings by mistake and see terrible results 😊\n",
        "- It's up to you what you put in `setStorageRef` but it cannot be changed later on. We usually use the name of the model to be clear, but you can get creative if you want!\n",
        "- The `dimension` param is is purely cosmetic and won't change anything. It's mostly for you to know later via `.getDimension` what is the dimension of your model. So set this accordingly.\n",
        "- NOTE: `loadSavedModel` accepts local paths in addition to distributed file systems such as `HDFS`, `S3`, `DBFS`, etc. This feature was introduced in Spark NLP 4.2.2 release. Keep in mind the best and recommended way to move/share/reuse Spark NLP models is to use `write.save` so you can use `.load()` from any file systems natively.st and recommended way to move/share/reuse Spark NLP models is to use `write.save` so you can use `.load()` from any file systems natively."
      ]
    },
    {
      "cell_type": "code",
      "execution_count": 8,
      "metadata": {
        "id": "K729llwrNExI"
      },
      "outputs": [],
      "source": [
        "from sparknlp.annotator import BertSentenceEmbeddings\n",
        "\n",
        "bert = BertSentenceEmbeddings.loadSavedModel(f\"{EXPORT_PATH}\", spark)\\\n",
        "    .setInputCols([\"document\"])\\\n",
        "    .setOutputCol(\"bert\")\\\n",
        "    .setCaseSensitive(True)"
      ]
    },
    {
      "cell_type": "markdown",
      "metadata": {
        "id": "0P5TdxuDNExI"
      },
      "source": [
        "- Let's save it on disk so it is easier to be moved around and also be used later via `.load` function"
      ]
    },
    {
      "cell_type": "code",
      "execution_count": 9,
      "metadata": {
        "id": "ej27iI-nNExI"
      },
      "outputs": [],
      "source": [
        "bert.write().overwrite().save(f\"{MODEL_NAME}_spark_nlp\")"
      ]
    },
    {
      "cell_type": "markdown",
      "metadata": {
        "id": "y1iMTFNENExI"
      },
      "source": [
        "Let's clean up stuff we don't need anymore"
      ]
    },
    {
      "cell_type": "code",
      "execution_count": 10,
      "metadata": {
        "id": "X8FifGZJNExI"
      },
      "outputs": [],
      "source": [
        "!rm -rf {EXPORT_PATH}"
      ]
    },
    {
      "cell_type": "markdown",
      "metadata": {
        "id": "p4o5KRhjNExI"
      },
      "source": [
        "Awesome  😎 !\n",
        "\n",
        "This is your ONNX BertSentenceEmbeddings model from HuggingFace 🤗  loaded and saved by Spark NLP 🚀"
      ]
    },
    {
      "cell_type": "code",
      "execution_count": 11,
      "metadata": {
        "colab": {
          "base_uri": "https://localhost:8080/"
        },
        "id": "jFJe6KkjNExJ",
        "outputId": "4313a505-0f4e-4bba-9994-2d91c2e171c4"
      },
      "outputs": [
        {
          "name": "stdout",
          "output_type": "stream",
          "text": [
            "total 421128\n",
            "-rw-r--r-- 1 root root 431222668 Jun 10 19:50 bert_sentence_onnx\n",
            "drwxr-xr-x 3 root root      4096 Jun 10 19:50 fields\n",
            "drwxr-xr-x 2 root root      4096 Jun 10 19:50 metadata\n"
          ]
        }
      ],
      "source": [
        "! ls -l {MODEL_NAME}_spark_nlp"
      ]
    },
    {
      "cell_type": "markdown",
      "metadata": {
        "id": "l_d4wUXINExJ"
      },
      "source": [
        "Now let's see how we can use it on other machines, clusters, or any place you wish to use your new and shiny BertSentenceEmbeddings model 😊"
      ]
    },
    {
      "cell_type": "code",
      "execution_count": 13,
      "metadata": {
        "colab": {
          "base_uri": "https://localhost:8080/"
        },
        "id": "9ATfCq2JNExJ",
        "outputId": "632ef4ba-026c-42e1-f982-6150594c6395"
      },
      "outputs": [
        {
          "name": "stdout",
          "output_type": "stream",
          "text": [
            "+------------+\n",
            "|  embeddings|\n",
            "+------------+\n",
            "|   0.4014014|\n",
            "|  -0.2502496|\n",
            "|-0.087666936|\n",
            "|-0.112141505|\n",
            "| -0.46228683|\n",
            "|  0.11020669|\n",
            "|  0.03700032|\n",
            "|-0.037721958|\n",
            "|   0.4324831|\n",
            "|  -1.2738127|\n",
            "| -0.14227971|\n",
            "| -0.08648764|\n",
            "| -0.22528413|\n",
            "| -0.14531906|\n",
            "| -0.39585862|\n",
            "| 0.090407304|\n",
            "| -0.22631755|\n",
            "|  0.16501199|\n",
            "|-0.109524935|\n",
            "| -0.36324707|\n",
            "+------------+\n",
            "only showing top 20 rows\n",
            "\n"
          ]
        }
      ],
      "source": [
        "from sparknlp.base import DocumentAssembler\n",
        "from sparknlp.annotator import Tokenizer\n",
        "from pyspark.ml import Pipeline\n",
        "\n",
        "document_assembler = DocumentAssembler() \\\n",
        "    .setInputCol(\"text\") \\\n",
        "    .setOutputCol(\"document\")\n",
        "\n",
        "tokenizer = Tokenizer() \\\n",
        "    .setInputCols([\"document\"]) \\\n",
        "    .setOutputCol(\"token\")\n",
        "\n",
        "bert_loaded = BertSentenceEmbeddings.load(f\"{MODEL_NAME}_spark_nlp\") \\\n",
        "    .setInputCols([\"document\"]) \\\n",
        "    .setOutputCol(\"bert\")\n",
        "\n",
        "pipeline = Pipeline(stages=[\n",
        "    document_assembler,\n",
        "    tokenizer,\n",
        "    bert_loaded\n",
        "])\n",
        "\n",
        "data = spark.createDataFrame([[\n",
        "    \"William Henry Gates III (born October 28, 1955) is an American business magnate, software developer, investor, and philanthropist.\"\n",
        "]]).toDF(\"text\")\n",
        "\n",
        "model = pipeline.fit(data)\n",
        "result = model.transform(data)\n",
        "\n",
        "result.selectExpr(\"explode(bert.embeddings[0]) as embeddings\").show()"
      ]
    },
    {
      "cell_type": "markdown",
      "metadata": {
        "id": "6VfQQ31cNExJ"
      },
      "source": [
        "That's it! You can now go wild and use hundreds of BertSentenceEmbeddings models from HuggingFace 🤗 in Spark NLP 🚀\n"
      ]
    }
  ],
  "metadata": {
    "accelerator": "GPU",
    "colab": {
      "gpuType": "T4",
      "provenance": []
    },
    "kernelspec": {
      "display_name": "Python 3",
      "name": "python3"
    },
    "language_info": {
      "codemirror_mode": {
        "name": "ipython",
        "version": 3
      },
      "file_extension": ".py",
      "mimetype": "text/x-python",
      "name": "python",
      "nbconvert_exporter": "python",
      "pygments_lexer": "ipython3"
    }
  },
  "nbformat": 4,
  "nbformat_minor": 0
}
