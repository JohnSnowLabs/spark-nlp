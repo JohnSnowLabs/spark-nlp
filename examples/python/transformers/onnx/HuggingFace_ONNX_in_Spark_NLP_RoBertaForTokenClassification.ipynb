{
  "cells": [
    {
      "cell_type": "markdown",
      "metadata": {
        "id": "JfHX1y3TuWEB"
      },
      "source": [
        "![JohnSnowLabs](https://sparknlp.org/assets/images/logo.png)\n",
        "\n",
        "[![Open In Colab](https://colab.research.google.com/assets/colab-badge.svg)](https://colab.research.google.com/github/JohnSnowLabs/spark-nlp/blob/master/examples/python/transformers/onnx/HuggingFace_ONNX_in_Spark_NLP_RoBertaForTokenClassification.ipynb)"
      ]
    },
    {
      "cell_type": "markdown",
      "metadata": {
        "id": "b6GxUZ81uWEE"
      },
      "source": [
        "## Import ONNX RoBertaForTokenClassification models from HuggingFace 🤗  into Spark NLP 🚀\n",
        "\n",
        "Let's keep in mind a few things before we start 😊\n",
        "\n",
        "- ONNX support was introduced in  `Spark NLP 5.0.0`, enabling high performance inference for models.\n",
        "- `RoBertaForTokenClassification` is only available since in `Spark NLP 5.1.4` and after. So please make sure you have upgraded to the latest Spark NLP release\n",
        "- You can import RoBERTa models trained/fine-tuned for token classification via `RobertaForTokenClassification` or `TFRobertaForTokenClassification`. These models are usually under `Token Classification` category and have `roberta` in their labels\n",
        "- Reference: [TFRobertaForTokenClassification](https://huggingface.co/transformers/model_doc/roberta.html#tfrobertafortokenclassification)\n",
        "- Some [example models](https://huggingface.co/models?filter=roberta&pipeline_tag=token-classification)"
      ]
    },
    {
      "cell_type": "markdown",
      "metadata": {
        "id": "nQFpTe0EuWEF"
      },
      "source": [
        "## Export and Save HuggingFace model"
      ]
    },
    {
      "cell_type": "markdown",
      "metadata": {
        "id": "eJ6hr8DOuWEF"
      },
      "source": [
        "- Let's install `transformers` package with the `onnx` extension and it's dependencies. You don't need `onnx` to be installed for Spark NLP, however, we need it to load and save models from HuggingFace.\n",
        "- We lock `transformers` on version `4.52.3`. This doesn't mean it won't work with the future releases\n",
        "- Albert uses SentencePiece, so we will have to install that as well"
      ]
    },
    {
      "cell_type": "code",
      "execution_count": null,
      "metadata": {
        "colab": {
          "base_uri": "https://localhost:8080/"
        },
        "id": "Ss1sIVtSuWEF",
        "outputId": "5b4d77d0-c64f-4c25-d6a3-ab7ee5da9f23"
      },
      "outputs": [],
      "source": [
        "!pip install -q --upgrade transformers[onnx]==4.52.3 optimum onnx"
      ]
    },
    {
      "cell_type": "markdown",
      "metadata": {
        "id": "WSwx6vFYuWEH"
      },
      "source": [
        "- HuggingFace has an extension called Optimum which offers specialized model inference, including ONNX. We can use this to import and export ONNX models with `from_pretrained` and `save_pretrained`.\n",
        "- We'll use [philschmid/distilroberta-base-ner-wikiann-conll2003-3-class](https://huggingface.co/philschmid/distilroberta-base-ner-wikiann-conll2003-3-class) model from HuggingFace as an example and load it as a `ORTModelForTokenClassification`, representing an ONNX model.\n",
        "- In addition to the RoBERTa model, we also need to save the tokenizer. This is the same for every model, these are assets (saved in `/assets`) needed for tokenization inside Spark NLP."
      ]
    },
    {
      "cell_type": "code",
      "execution_count": 4,
      "metadata": {
        "colab": {
          "base_uri": "https://localhost:8080/"
        },
        "id": "T0OF_5vrtcSb",
        "outputId": "f98374b8-ab6b-4a12-d8f1-c062c8763221"
      },
      "outputs": [
        {
          "name": "stderr",
          "output_type": "stream",
          "text": [
            "/usr/local/lib/python3.11/dist-packages/huggingface_hub/utils/_auth.py:94: UserWarning: \n",
            "The secret `HF_TOKEN` does not exist in your Colab secrets.\n",
            "To authenticate with the Hugging Face Hub, create a token in your settings tab (https://huggingface.co/settings/tokens), set it as secret in your Google Colab and restart your session.\n",
            "You will be able to reuse this secret in all of your notebooks.\n",
            "Please note that authentication is recommended but still optional to access public models or datasets.\n",
            "  warnings.warn(\n",
            "No ONNX files were found for w11wo/indonesian-roberta-base-posp-tagger, setting `export=True` to convert the model to ONNX. Don't forget to save the resulting model with `.save_pretrained()`\n"
          ]
        },
        {
          "data": {
            "text/plain": [
              "('onnx_models/w11wo/indonesian-roberta-base-posp-tagger/tokenizer_config.json',\n",
              " 'onnx_models/w11wo/indonesian-roberta-base-posp-tagger/special_tokens_map.json',\n",
              " 'onnx_models/w11wo/indonesian-roberta-base-posp-tagger/vocab.json',\n",
              " 'onnx_models/w11wo/indonesian-roberta-base-posp-tagger/merges.txt',\n",
              " 'onnx_models/w11wo/indonesian-roberta-base-posp-tagger/added_tokens.json')"
            ]
          },
          "execution_count": 4,
          "metadata": {},
          "output_type": "execute_result"
        }
      ],
      "source": [
        "from transformers import RobertaTokenizer\n",
        "from optimum.onnxruntime import ORTModelForTokenClassification\n",
        "\n",
        "MODEL_NAME = 'w11wo/indonesian-roberta-base-posp-tagger'\n",
        "ONNX_MODEL = f\"onnx_models/{MODEL_NAME}\"\n",
        "\n",
        "ort_model = ORTModelForTokenClassification.from_pretrained(MODEL_NAME)\n",
        "ort_model.save_pretrained(ONNX_MODEL)\n",
        "\n",
        "tokenizer = RobertaTokenizer.from_pretrained(MODEL_NAME)\n",
        "tokenizer.save_pretrained(ONNX_MODEL)"
      ]
    },
    {
      "cell_type": "markdown",
      "metadata": {
        "id": "sM2GbuxsuWEI"
      },
      "source": [
        "Let's have a look inside these two directories and see what we are dealing with:"
      ]
    },
    {
      "cell_type": "code",
      "execution_count": 5,
      "metadata": {
        "colab": {
          "base_uri": "https://localhost:8080/"
        },
        "id": "wyMcoU2PuWEI",
        "outputId": "9be29480-427e-49a5-a08f-358273fa3bf9"
      },
      "outputs": [
        {
          "name": "stdout",
          "output_type": "stream",
          "text": [
            "total 486440\n",
            "-rw-r--r-- 1 root root      1639 Jun 16 17:08 config.json\n",
            "-rw-r--r-- 1 root root    466674 Jun 16 17:08 merges.txt\n",
            "-rw-r--r-- 1 root root 496619008 Jun 16 17:08 model.onnx\n",
            "-rw-r--r-- 1 root root       964 Jun 16 17:08 special_tokens_map.json\n",
            "-rw-r--r-- 1 root root      1272 Jun 16 17:08 tokenizer_config.json\n",
            "-rw-r--r-- 1 root root   1009470 Jun 16 17:08 vocab.json\n"
          ]
        }
      ],
      "source": [
        "!ls -l {ONNX_MODEL}"
      ]
    },
    {
      "cell_type": "markdown",
      "metadata": {
        "id": "8vJjb0aAfsQL"
      },
      "source": [
        "- We need to convert `vocab.json` to a plain `vocab.txt` format, as required by Spark NLP.\n",
        "- Move both `vocab.txt` and `merges.txt` into the assets folder.\n",
        "- Additionally, we need to extract label-to-ID mappings from the model config and save them as `labels.txt` in the same folder for Spark NLP to use during inference."
      ]
    },
    {
      "cell_type": "code",
      "execution_count": 6,
      "metadata": {
        "id": "LOwFARzPuWEH"
      },
      "outputs": [],
      "source": [
        "import json\n",
        "\n",
        "!mkdir -p {ONNX_MODEL}/assets && mv {ONNX_MODEL}/merges.txt {ONNX_MODEL}/assets/\n",
        "\n",
        "with open(f\"{ONNX_MODEL}/vocab.json\") as f, open(f\"{ONNX_MODEL}/assets/vocab.txt\", \"w\") as out:\n",
        "    out.write(\"\\n\".join(json.load(f)))\n",
        "\n",
        "with open(f\"{ONNX_MODEL}/assets/labels.txt\", \"w\") as f:\n",
        "    f.write(\"\\n\".join(ort_model.config.id2label[k] for k in sorted(ort_model.config.id2label)))"
      ]
    },
    {
      "cell_type": "code",
      "execution_count": 7,
      "metadata": {
        "colab": {
          "base_uri": "https://localhost:8080/"
        },
        "id": "TKGRbvYuuWEJ",
        "outputId": "ac8c5eff-3661-4328-911c-37f3f5e9ed2d"
      },
      "outputs": [
        {
          "name": "stdout",
          "output_type": "stream",
          "text": [
            "onnx_models/w11wo/indonesian-roberta-base-posp-tagger:\n",
            "total 485988\n",
            "drwxr-xr-x 2 root root      4096 Jun 16 17:09 assets\n",
            "-rw-r--r-- 1 root root      1639 Jun 16 17:08 config.json\n",
            "-rw-r--r-- 1 root root 496619008 Jun 16 17:08 model.onnx\n",
            "-rw-r--r-- 1 root root       964 Jun 16 17:08 special_tokens_map.json\n",
            "-rw-r--r-- 1 root root      1272 Jun 16 17:08 tokenizer_config.json\n",
            "-rw-r--r-- 1 root root   1009470 Jun 16 17:08 vocab.json\n",
            "\n",
            "onnx_models/w11wo/indonesian-roberta-base-posp-tagger/assets:\n",
            "total 868\n",
            "-rw-r--r-- 1 root root    155 Jun 16 17:09 labels.txt\n",
            "-rw-r--r-- 1 root root 466674 Jun 16 17:08 merges.txt\n",
            "-rw-r--r-- 1 root root 417357 Jun 16 17:09 vocab.txt\n"
          ]
        }
      ],
      "source": [
        "!ls -lR {ONNX_MODEL}"
      ]
    },
    {
      "cell_type": "code",
      "execution_count": 8,
      "metadata": {
        "colab": {
          "base_uri": "https://localhost:8080/"
        },
        "id": "eJdvr5DPai6v",
        "outputId": "0b7af707-f9f5-4b52-ee6d-caccaaf5907c"
      },
      "outputs": [
        {
          "name": "stdout",
          "output_type": "stream",
          "text": [
            "B-PPO\n",
            "B-KUA\n",
            "B-ADV\n",
            "B-PRN\n",
            "B-VBI\n",
            "B-PAR\n",
            "B-VBP\n",
            "B-NNP\n",
            "B-UNS\n",
            "B-VBT\n",
            "B-VBL\n",
            "B-NNO\n",
            "B-ADJ\n",
            "B-PRR\n",
            "B-PRK\n",
            "B-CCN\n",
            "B-$$$\n",
            "B-ADK\n",
            "B-ART\n",
            "B-CSN\n",
            "B-NUM\n",
            "B-SYM\n",
            "B-INT\n",
            "B-NEG\n",
            "B-PRI\n",
            "B-VBE"
          ]
        }
      ],
      "source": [
        "!cat {ONNX_MODEL}/assets/labels.txt"
      ]
    },
    {
      "cell_type": "markdown",
      "metadata": {
        "id": "8-zXrUenuWEJ"
      },
      "source": [
        "Voila! We have our `vocab.txt` and `merges.txt` inside assets directory, along with the extracted labels saved in `labels.txt`."
      ]
    },
    {
      "cell_type": "markdown",
      "metadata": {
        "id": "rKASSQxuuWEK"
      },
      "source": [
        "## Import and Save RoBertaForTokenClassification in Spark NLP\n"
      ]
    },
    {
      "cell_type": "markdown",
      "metadata": {
        "id": "5fL332eLuWEK"
      },
      "source": [
        "- **Install and set up Spark NLP in Google Colab**\n",
        "  - This example uses specific versions of `pyspark` and `spark-nlp` that have been tested with the transformer model to ensure everything runs smoothly."
      ]
    },
    {
      "cell_type": "code",
      "execution_count": 9,
      "metadata": {
        "colab": {
          "base_uri": "https://localhost:8080/"
        },
        "id": "PqzKjz4SuWEK",
        "outputId": "380915d9-16e6-42a7-c5b7-0560cf05b778"
      },
      "outputs": [
        {
          "name": "stdout",
          "output_type": "stream",
          "text": [
            "\u001b[2K     \u001b[90m━━━━━━━━━━━━━━━━━━━━━━━━━━━━━━━━━━━━━━━\u001b[0m \u001b[32m317.3/317.3 MB\u001b[0m \u001b[31m2.0 MB/s\u001b[0m eta \u001b[36m0:00:00\u001b[0m\n",
            "\u001b[?25h  Preparing metadata (setup.py) ... \u001b[?25l\u001b[?25hdone\n",
            "\u001b[2K   \u001b[90m━━━━━━━━━━━━━━━━━━━━━━━━━━━━━━━━━━━━━━━━\u001b[0m \u001b[32m635.7/635.7 kB\u001b[0m \u001b[31m48.8 MB/s\u001b[0m eta \u001b[36m0:00:00\u001b[0m\n",
            "\u001b[?25h  Building wheel for pyspark (setup.py) ... \u001b[?25l\u001b[?25hdone\n"
          ]
        }
      ],
      "source": [
        "!pip install -q pyspark==3.5.4 spark-nlp==5.5.3"
      ]
    },
    {
      "cell_type": "markdown",
      "metadata": {
        "id": "hnz05pKLuWEK"
      },
      "source": [
        "Let's start Spark with Spark NLP included via our simple `start()` function"
      ]
    },
    {
      "cell_type": "code",
      "execution_count": 10,
      "metadata": {
        "colab": {
          "base_uri": "https://localhost:8080/"
        },
        "id": "dkblLTqBuWEK",
        "outputId": "f08c08b8-c38f-4ca6-e820-192f436332e9"
      },
      "outputs": [
        {
          "name": "stdout",
          "output_type": "stream",
          "text": [
            "Spark NLP version: 5.5.3\n",
            "Apache Spark version: 3.5.4\n"
          ]
        }
      ],
      "source": [
        "import sparknlp\n",
        "\n",
        "spark = sparknlp.start()\n",
        "\n",
        "print(\"Spark NLP version: {}\".format(sparknlp.version()))\n",
        "print(\"Apache Spark version: {}\".format(spark.version))"
      ]
    },
    {
      "cell_type": "markdown",
      "metadata": {
        "id": "tv9JSLhquWEL"
      },
      "source": [
        "- Let's use `loadSavedModel` functon in `RoBertaForTokenClassification` which allows us to load TensorFlow model in SavedModel format\n",
        "- Most params can be set later when you are loading this model in `RoBertaForTokenClassification` in runtime like `setMaxSentenceLength`, so don't worry what you are setting them now\n",
        "- `loadSavedModel` accepts two params, first is the path to the TF SavedModel. The second is the SparkSession that is `spark` variable we previously started via `sparknlp.start()`\n",
        "- NOTE: `loadSavedModel` accepts local paths in addition to distributed file systems such as `HDFS`, `S3`, `DBFS`, etc. This feature was introduced in Spark NLP 4.2.2 release. Keep in mind the best and recommended way to move/share/reuse Spark NLP models is to use `write.save` so you can use `.load()` from any file systems natively.st and recommended way to move/share/reuse Spark NLP models is to use `write.save` so you can use `.load()` from any file systems natively."
      ]
    },
    {
      "cell_type": "code",
      "execution_count": 11,
      "metadata": {
        "id": "ZmMJaNWquWEL"
      },
      "outputs": [],
      "source": [
        "from sparknlp.annotator import RoBertaForTokenClassification\n",
        "\n",
        "tokenClassifier = RoBertaForTokenClassification\\\n",
        "  .loadSavedModel(ONNX_MODEL, spark)\\\n",
        "  .setInputCols([\"document\",'token'])\\\n",
        "  .setOutputCol(\"ner\")\\\n",
        "  .setCaseSensitive(True)\\\n",
        "  .setMaxSentenceLength(128)"
      ]
    },
    {
      "cell_type": "markdown",
      "metadata": {
        "id": "9TydH6L5uWEL"
      },
      "source": [
        "- Let's save it on disk so it is easier to be moved around and also be used later via `.load` function"
      ]
    },
    {
      "cell_type": "code",
      "execution_count": 12,
      "metadata": {
        "id": "Uc7XQW1CuWEL"
      },
      "outputs": [],
      "source": [
        "tokenClassifier.write().overwrite().save(\"./{}_spark_nlp_onnx\".format(ONNX_MODEL))"
      ]
    },
    {
      "cell_type": "markdown",
      "metadata": {
        "id": "hkXiL-iPuWEL"
      },
      "source": [
        "Let's clean up stuff we don't need anymore"
      ]
    },
    {
      "cell_type": "code",
      "execution_count": 13,
      "metadata": {
        "id": "B5vFZeBnuWEL"
      },
      "outputs": [],
      "source": [
        "!rm -rf {ONNX_MODEL}"
      ]
    },
    {
      "cell_type": "markdown",
      "metadata": {
        "id": "Lqt2uzXiuWEM"
      },
      "source": [
        "Awesome 😎  !\n",
        "\n",
        "This is your RoBertaForTokenClassification model from HuggingFace 🤗  loaded and saved by Spark NLP 🚀"
      ]
    },
    {
      "cell_type": "code",
      "execution_count": 14,
      "metadata": {
        "colab": {
          "base_uri": "https://localhost:8080/"
        },
        "id": "30SFw38duWEM",
        "outputId": "3b10551d-e68d-464c-eb97-5ac3a3d93bf8"
      },
      "outputs": [
        {
          "name": "stdout",
          "output_type": "stream",
          "text": [
            "total 485068\n",
            "drwxr-xr-x 5 root root      4096 Jun 16 17:12 fields\n",
            "drwxr-xr-x 2 root root      4096 Jun 16 17:12 metadata\n",
            "-rw-r--r-- 1 root root 496694922 Jun 16 17:12 roberta_classification_onnx\n"
          ]
        }
      ],
      "source": [
        "! ls -l {ONNX_MODEL}_spark_nlp_onnx"
      ]
    },
    {
      "cell_type": "markdown",
      "metadata": {
        "id": "JXWN56X7uWEM"
      },
      "source": [
        "Now let's see how we can use it on other machines, clusters, or any place you wish to use your new and shiny RoBertaForTokenClassification model 😊"
      ]
    },
    {
      "cell_type": "code",
      "execution_count": 15,
      "metadata": {
        "id": "HuEHXgdvuWEM"
      },
      "outputs": [],
      "source": [
        "tokenClassifier_loaded = RoBertaForTokenClassification.load(\"./{}_spark_nlp_onnx\".format(ONNX_MODEL))\\\n",
        "  .setInputCols([\"document\",'token'])\\\n",
        "  .setOutputCol(\"ner\")"
      ]
    },
    {
      "cell_type": "markdown",
      "metadata": {
        "id": "QsGPBGRXuWEM"
      },
      "source": [
        "You can see what labels were used to train this model via `getClasses` function:"
      ]
    },
    {
      "cell_type": "code",
      "execution_count": 16,
      "metadata": {
        "colab": {
          "base_uri": "https://localhost:8080/"
        },
        "id": "tVEatuyCuWEN",
        "outputId": "79983f6f-78ea-4220-ba97-f37d4a6d991b"
      },
      "outputs": [
        {
          "data": {
            "text/plain": [
              "['B-NEG',\n",
              " 'B-VBL',\n",
              " 'B-ADK',\n",
              " 'B-PRI',\n",
              " 'B-$$$',\n",
              " 'B-PRN',\n",
              " 'B-VBI',\n",
              " 'B-NNP',\n",
              " 'B-ADV',\n",
              " 'B-UNS',\n",
              " 'B-ADJ',\n",
              " 'B-PRR',\n",
              " 'B-SYM',\n",
              " 'B-NUM',\n",
              " 'B-KUA',\n",
              " 'B-PAR',\n",
              " 'B-NNO',\n",
              " 'B-VBP',\n",
              " 'B-PPO',\n",
              " 'B-INT',\n",
              " 'B-CSN',\n",
              " 'B-VBE',\n",
              " 'B-VBT',\n",
              " 'B-PRK',\n",
              " 'B-CCN',\n",
              " 'B-ART']"
            ]
          },
          "execution_count": 16,
          "metadata": {},
          "output_type": "execute_result"
        }
      ],
      "source": [
        "tokenClassifier_loaded.getClasses()"
      ]
    },
    {
      "cell_type": "markdown",
      "metadata": {
        "id": "cd34IZzIuWEN"
      },
      "source": [
        "This is how you can use your loaded classifier model in Spark NLP 🚀 pipeline:"
      ]
    },
    {
      "cell_type": "code",
      "execution_count": 17,
      "metadata": {
        "colab": {
          "base_uri": "https://localhost:8080/"
        },
        "id": "AQiHxuGtuWEN",
        "outputId": "dd403ae8-fb5d-4f17-925e-9649a44f26b0"
      },
      "outputs": [
        {
          "name": "stdout",
          "output_type": "stream",
          "text": [
            "+--------------------------------------------------------------------------------------------------------------------------------------------------------------------------------------------------------------+--------------------------------------------------------------------------------------------------------------------------------------------------------------------------------------------------------------------------------+\n",
            "|text                                                                                                                                                                                                          |result                                                                                                                                                                                                                          |\n",
            "+--------------------------------------------------------------------------------------------------------------------------------------------------------------------------------------------------------------+--------------------------------------------------------------------------------------------------------------------------------------------------------------------------------------------------------------------------------+\n",
            "|Presiden Joko Widodo menghadiri pertemuan penting di Jakarta pada tanggal 17 Agustus 2023, pukul 10:00 WIB, bersama menteri-menteri dan LSM terkait. Mereka membahas strategi baru untuk mengatasi kemiskinan.|[B-NNP, B-NNP, B-NNP, B-NNP, B-NNP, B-NNP, B-NNP, B-NNP, B-NNP, B-NNP, B-NNP, B-NNP, B-NNP, B-NNP, B-NNP, B-NNP, B-NNP, B-NNP, B-NNP, B-NNP, B-NNP, B-NNP, B-NNP, B-NNP, B-NNP, B-NNP, B-NNP, B-NNP, B-NNP, B-NNP, B-NUM, B-NNP]|\n",
            "+--------------------------------------------------------------------------------------------------------------------------------------------------------------------------------------------------------------+--------------------------------------------------------------------------------------------------------------------------------------------------------------------------------------------------------------------------------+\n",
            "\n",
            "+---------------+------+\n",
            "|text           |entity|\n",
            "+---------------+------+\n",
            "|Presiden       |NNP   |\n",
            "|Joko           |NNP   |\n",
            "|Widodo         |NNP   |\n",
            "|menghadiri     |NNP   |\n",
            "|pertemuan      |NNP   |\n",
            "|penting        |NNP   |\n",
            "|di             |NNP   |\n",
            "|Jakarta        |NNP   |\n",
            "|pada           |NNP   |\n",
            "|tanggal        |NNP   |\n",
            "|17             |NNP   |\n",
            "|Agustus        |NNP   |\n",
            "|2023           |NNP   |\n",
            "|,              |NNP   |\n",
            "|pukul          |NNP   |\n",
            "|10:00          |NNP   |\n",
            "|WIB            |NNP   |\n",
            "|,              |NNP   |\n",
            "|bersama        |NNP   |\n",
            "|menteri-menteri|NNP   |\n",
            "+---------------+------+\n",
            "only showing top 20 rows\n",
            "\n"
          ]
        }
      ],
      "source": [
        "from sparknlp.base import DocumentAssembler\n",
        "from sparknlp.annotator import Tokenizer, NerConverter\n",
        "from pyspark.ml import Pipeline\n",
        "\n",
        "document_assembler = DocumentAssembler() \\\n",
        "    .setInputCol(\"text\") \\\n",
        "    .setOutputCol(\"document\")\n",
        "\n",
        "tokenizer = Tokenizer() \\\n",
        "    .setInputCols([\"document\"]) \\\n",
        "    .setOutputCol(\"token\")\n",
        "\n",
        "converter = NerConverter() \\\n",
        "    .setInputCols([\"document\", \"token\", \"ner\"]) \\\n",
        "    .setOutputCol(\"ner_chunk\")\n",
        "\n",
        "pipeline = Pipeline(stages=[\n",
        "    document_assembler,\n",
        "    tokenizer,\n",
        "    tokenClassifier_loaded,\n",
        "    converter\n",
        "])\n",
        "\n",
        "example_text = (\n",
        "    \"Presiden Joko Widodo menghadiri pertemuan penting di Jakarta pada tanggal \"\n",
        "    \"17 Agustus 2023, pukul 10:00 WIB, bersama menteri-menteri dan LSM terkait. \"\n",
        "    \"Mereka membahas strategi baru untuk mengatasi kemiskinan.\"\n",
        ")\n",
        "data = spark.createDataFrame([[example_text]], [\"text\"])\n",
        "\n",
        "result = pipeline.fit(data).transform(data)\n",
        "result.select(\"text\", \"ner.result\").show(truncate=False)\n",
        "\n",
        "result.selectExpr(\"explode(ner_chunk) as chunk\").selectExpr(\n",
        "    \"chunk.result as text\",\n",
        "    \"chunk.metadata['entity'] as entity\"\n",
        ").show(truncate=False)"
      ]
    },
    {
      "cell_type": "markdown",
      "metadata": {
        "id": "otQW3TgUuWEN"
      },
      "source": [
        "That's it! You can now go wild and use hundreds of `RoBertaForTokenClassification` models from HuggingFace 🤗 in Spark NLP 🚀\n"
      ]
    }
  ],
  "metadata": {
    "accelerator": "GPU",
    "colab": {
      "gpuType": "T4",
      "provenance": []
    },
    "kernelspec": {
      "display_name": "Python 3 (ipykernel)",
      "language": "python",
      "name": "python3"
    },
    "language_info": {
      "codemirror_mode": {
        "name": "ipython",
        "version": 3
      },
      "file_extension": ".py",
      "mimetype": "text/x-python",
      "name": "python",
      "nbconvert_exporter": "python",
      "pygments_lexer": "ipython3"
    }
  },
  "nbformat": 4,
  "nbformat_minor": 0
}
