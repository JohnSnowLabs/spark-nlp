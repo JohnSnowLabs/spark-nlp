{
  "cells": [
    {
      "cell_type": "markdown",
      "metadata": {
        "id": "RF86wJPoK7sz"
      },
      "source": [
        "![JohnSnowLabs](https://sparknlp.org/assets/images/logo.png)\n",
        "\n",
        "[![Open In Colab](https://colab.research.google.com/assets/colab-badge.svg)](https://colab.research.google.com/github/JohnSnowLabs/spark-nlp/blob/master/examples/python/transformers/onnx/HuggingFace_ONNX_in_Spark_NLP_BertForSequenceClassification.ipynb)"
      ]
    },
    {
      "cell_type": "markdown",
      "metadata": {
        "id": "6Remq4v-K7s2"
      },
      "source": [
        "## Import ONNX BertForSequenceClassification models from HuggingFace 🤗  into Spark NLP 🚀\n",
        "\n",
        "Let's keep in mind a few things before we start 😊\n",
        "\n",
        "- ONNX support was introduced in  `Spark NLP 5.0.0`, enabling high performance inference for models.\n",
        "- `BertForSequenceClassification` is only available since in `Spark NLP 5.1.3` and after. So please make sure you have upgraded to the latest Spark NLP release\n",
        "- You can import BERT models trained/fine-tuned for token classification via `BertForSequenceClassification` or `TFBertForSequenceClassification`. These models are usually under `Token Classification` category and have `bert` in their labels\n",
        "- Reference: [TFBertForSequenceClassification](https://huggingface.co/transformers/model_doc/bert.html#tfbertforsequenceclassification)\n",
        "- Some [example models](https://huggingface.co/models?filter=bert&pipeline_tag=text-classification)"
      ]
    },
    {
      "cell_type": "markdown",
      "metadata": {
        "id": "GA_QxeKYK7s3"
      },
      "source": [
        "## Export and Save HuggingFace model"
      ]
    },
    {
      "cell_type": "markdown",
      "metadata": {
        "id": "G1FX6mPQK7s4"
      },
      "source": [
        "- Let's install `transformers` package with the `onnx` extension and it's dependencies. You don't need `onnx` to be installed for Spark NLP, however, we need it to load and save models from HuggingFace.\n",
        "- We lock `transformers` on version `4.51.3`. This doesn't mean it won't work with the future releases, but we wanted you to know which versions have been tested successfully.\n",
        "- Albert uses SentencePiece, so we will have to install that as well"
      ]
    },
    {
      "cell_type": "code",
      "execution_count": null,
      "metadata": {
        "colab": {
          "base_uri": "https://localhost:8080/"
        },
        "id": "I3vcV4J_K7s4",
        "outputId": "eb7393a4-52a9-4521-c142-e4f60ba55bcf"
      },
      "outputs": [],
      "source": [
        "!pip install -q --upgrade transformers[onnx]==4.51.3 optimum onnx"
      ]
    },
    {
      "cell_type": "markdown",
      "metadata": {
        "id": "PQIETUd6K7s6"
      },
      "source": [
        "- HuggingFace has an extension called Optimum which offers specialized model inference, including ONNX. We can use this to import and export ONNX models with `from_pretrained` and `save_pretrained`.\n",
        "- We'll use [finiteautomata/beto-sentiment-analysis](https://huggingface.co/finiteautomata/beto-sentiment-analysis) model from HuggingFace as an example and load it as a `ORTModelForSequenceClassification`, representing an ONNX model.\n",
        "- In addition to the BERT model, we also need to save the `BertTokenizer`. This is the same for every model, these are assets (saved in `/assets`) needed for tokenization inside Spark NLP."
      ]
    },
    {
      "cell_type": "code",
      "execution_count": 2,
      "metadata": {
        "colab": {
          "base_uri": "https://localhost:8080/",
          "height": 351,
          "referenced_widgets": [
            "281b25897d324458b14138769774cc6d",
            "1712a333734e40b8a217284bdad88ecf",
            "380f73876be54043bfbb3b489b133c6d",
            "ea104607e0b2441da65b697208cbe03a",
            "754b87131399417ba004faabcd6cf1b9",
            "f623eaa5e04a4c5cbbe1f6e6b324d634",
            "d1b8038af592421a83b0169ef11f1095",
            "6b84f71770e34445812656b79d1b4814",
            "0ab54f9c743c4b62880b83f9b50cccb0",
            "51d4f9d0a747418c8d0dd2bba65fa273",
            "53a61e23dc6449e9a207c681858fcaad",
            "06a9613aee89414fa65244a69096e357",
            "486909b1fab349e1bb03bffc44961fa2",
            "a6ea12b8179647dda25055d3a1f113d8",
            "a47aa9d253e14770aa9a83a247453d29",
            "be8f509efd894f1c98625e898e00fe98",
            "37eb4b962e5643109262cfa501a02a4b",
            "463a45478420428b83525dac105cd919",
            "8922503b5d4248cfa630de7abc794f90",
            "17c4ff7922814e6e821d11b2f1cd55a3",
            "5bf008c9cd2c410e881c35df20624b9c",
            "eaa3f1cefcf547f0913348513d7ab809",
            "ba4fca20bd714c62b8072090087da7fd",
            "72f0164b35be44f58ad6f2321da59c35",
            "d2384b7323d54202acc2919ab2b39099",
            "0d9c03787f0d40aa85d12e95074d86e2",
            "0aa35211d5394c77a1680a80253db039",
            "21230b9946b9453ab80fe491ced353cb",
            "ad9f5b414bca40448b22b362f6dd6282",
            "67439a283a8449cd85261dbbcc6ceadf",
            "d595f76a6e20410ea6fd4b71d0445b8e",
            "5aec6507410d450fa6f118c14eddd092",
            "709098e625ff4bc8ac5da838e12e42b4",
            "a3e14042ce6b468e9c9dd6d19a07fcbb",
            "71c2db8e402443fca8ea1d0ae3cffee5",
            "46b472b9815e4aef9dc2122f3fb542ec",
            "0f9170f7a8f64cf7a085e86a771b70dc",
            "5c4d2f1b223a47e6bee8911964557f33",
            "be7e41871de844b7b48b7382d34286ec",
            "ddd04059800e405f90002b5d94fe508c",
            "cd5c1c4250cd4612acefef7f686448e0",
            "1bdfd97bb72d4d15b1605ce625b1bd02",
            "23e4ce7c8c494578a511a7d9b75ac93b",
            "535e63e5aae8416ca349d5bf7d338fd7",
            "aefe02420589479a85c937cb840208bc",
            "123c233ed5cf403bb72bbbd8d3490f03",
            "3172f353003a470389a80734e57c2218",
            "ef9d0cf4002444a2b06604ccfe5e3b05",
            "19592969d7d148b7a3d0f132a206683e",
            "17ff541431fd4d7d8bccfe7d9be5f28d",
            "7610be7a32264a9b826d3cd16a91093f",
            "5309207f441b48b0aa9fa758500a4462",
            "51e281a330154c5b87686842d282cf7e",
            "aa8ed537999449a28e4e431055d2ec92",
            "dd2f3cf1b2004d5492c2e97b4181826f"
          ]
        },
        "id": "f5hYIh9WK7s6",
        "outputId": "eb8768db-7ce0-4508-c086-bf34c91a16d3"
      },
      "outputs": [
        {
          "name": "stderr",
          "output_type": "stream",
          "text": [
            "/usr/local/lib/python3.11/dist-packages/huggingface_hub/utils/_auth.py:94: UserWarning: \n",
            "The secret `HF_TOKEN` does not exist in your Colab secrets.\n",
            "To authenticate with the Hugging Face Hub, create a token in your settings tab (https://huggingface.co/settings/tokens), set it as secret in your Google Colab and restart your session.\n",
            "You will be able to reuse this secret in all of your notebooks.\n",
            "Please note that authentication is recommended but still optional to access public models or datasets.\n",
            "  warnings.warn(\n"
          ]
        },
        {
          "data": {
            "application/vnd.jupyter.widget-view+json": {
              "model_id": "281b25897d324458b14138769774cc6d",
              "version_major": 2,
              "version_minor": 0
            },
            "text/plain": [
              "config.json:   0%|          | 0.00/953 [00:00<?, ?B/s]"
            ]
          },
          "metadata": {},
          "output_type": "display_data"
        },
        {
          "data": {
            "application/vnd.jupyter.widget-view+json": {
              "model_id": "06a9613aee89414fa65244a69096e357",
              "version_major": 2,
              "version_minor": 0
            },
            "text/plain": [
              "model.safetensors:   0%|          | 0.00/669M [00:00<?, ?B/s]"
            ]
          },
          "metadata": {},
          "output_type": "display_data"
        },
        {
          "data": {
            "application/vnd.jupyter.widget-view+json": {
              "model_id": "ba4fca20bd714c62b8072090087da7fd",
              "version_major": 2,
              "version_minor": 0
            },
            "text/plain": [
              "tokenizer_config.json:   0%|          | 0.00/39.0 [00:00<?, ?B/s]"
            ]
          },
          "metadata": {},
          "output_type": "display_data"
        },
        {
          "data": {
            "application/vnd.jupyter.widget-view+json": {
              "model_id": "a3e14042ce6b468e9c9dd6d19a07fcbb",
              "version_major": 2,
              "version_minor": 0
            },
            "text/plain": [
              "vocab.txt:   0%|          | 0.00/872k [00:00<?, ?B/s]"
            ]
          },
          "metadata": {},
          "output_type": "display_data"
        },
        {
          "data": {
            "application/vnd.jupyter.widget-view+json": {
              "model_id": "aefe02420589479a85c937cb840208bc",
              "version_major": 2,
              "version_minor": 0
            },
            "text/plain": [
              "special_tokens_map.json:   0%|          | 0.00/112 [00:00<?, ?B/s]"
            ]
          },
          "metadata": {},
          "output_type": "display_data"
        },
        {
          "data": {
            "text/plain": [
              "('onnx_models/nlptown/bert-base-multilingual-uncased-sentiment/tokenizer_config.json',\n",
              " 'onnx_models/nlptown/bert-base-multilingual-uncased-sentiment/special_tokens_map.json',\n",
              " 'onnx_models/nlptown/bert-base-multilingual-uncased-sentiment/vocab.txt',\n",
              " 'onnx_models/nlptown/bert-base-multilingual-uncased-sentiment/added_tokens.json')"
            ]
          },
          "execution_count": 2,
          "metadata": {},
          "output_type": "execute_result"
        }
      ],
      "source": [
        "from transformers import BertTokenizer\n",
        "from optimum.onnxruntime import ORTModelForSequenceClassification\n",
        "\n",
        "MODEL_NAME = \"nlptown/bert-base-multilingual-uncased-sentiment\"\n",
        "EXPORT_PATH = f\"onnx_models/{MODEL_NAME}\"\n",
        "\n",
        "ort_model = ORTModelForSequenceClassification.from_pretrained(MODEL_NAME, export=True)\n",
        "ort_model.save_pretrained(EXPORT_PATH)\n",
        "\n",
        "tokenizer = BertTokenizer.from_pretrained(MODEL_NAME)\n",
        "tokenizer.save_pretrained(EXPORT_PATH)"
      ]
    },
    {
      "cell_type": "markdown",
      "metadata": {
        "id": "RSzamYdMK7s7"
      },
      "source": [
        "Let's have a look inside these two directories and see what we are dealing with:"
      ]
    },
    {
      "cell_type": "code",
      "execution_count": 3,
      "metadata": {
        "colab": {
          "base_uri": "https://localhost:8080/"
        },
        "id": "2zc26rA5K7s7",
        "outputId": "7e8ce9ca-dc0d-4c2e-cbdf-cbde906fe1fe"
      },
      "outputs": [
        {
          "name": "stdout",
          "output_type": "stream",
          "text": [
            "total 654916\n",
            "-rw-r--r-- 1 root root      1081 Jun  9 21:05 config.json\n",
            "-rw-r--r-- 1 root root 669743468 Jun  9 21:05 model.onnx\n",
            "-rw-r--r-- 1 root root       125 Jun  9 21:05 special_tokens_map.json\n",
            "-rw-r--r-- 1 root root      1290 Jun  9 21:05 tokenizer_config.json\n",
            "-rw-r--r-- 1 root root    871891 Jun  9 21:05 vocab.txt\n"
          ]
        }
      ],
      "source": [
        "!ls -l {EXPORT_PATH}"
      ]
    },
    {
      "cell_type": "markdown",
      "metadata": {
        "id": "rzkm5Uw6K7s7"
      },
      "source": [
        "- We need to move `vocabs.txt` from the tokenizer to assets folder which Spark NLP will look for\n",
        "- We also need `labels` and their `ids` which is saved inside the model's config. We will save this inside `labels.txt`"
      ]
    },
    {
      "cell_type": "code",
      "execution_count": 4,
      "metadata": {
        "id": "arJFZZWIrELg"
      },
      "outputs": [],
      "source": [
        "!mkdir -p {EXPORT_PATH}/assets\n",
        "\n",
        "labels = ort_model.config.id2label\n",
        "sorted_labels = [label for _, label in sorted(labels.items())]\n",
        "\n",
        "with open(f\"{EXPORT_PATH}/assets/labels.txt\", \"w\") as f:\n",
        "    f.write(\"\\n\".join(sorted_labels))\n",
        "\n",
        "!mv {EXPORT_PATH}/vocab.txt {EXPORT_PATH}/assets/"
      ]
    },
    {
      "cell_type": "code",
      "execution_count": 5,
      "metadata": {
        "colab": {
          "base_uri": "https://localhost:8080/"
        },
        "id": "65eAdOFoK7s9",
        "outputId": "b61899a6-6bb5-4180-e686-a19fdbb2bd3d"
      },
      "outputs": [
        {
          "name": "stdout",
          "output_type": "stream",
          "text": [
            "onnx_models/nlptown/bert-base-multilingual-uncased-sentiment:\n",
            "total 654068\n",
            "drwxr-xr-x 2 root root      4096 Jun  9 21:06 assets\n",
            "-rw-r--r-- 1 root root      1081 Jun  9 21:05 config.json\n",
            "-rw-r--r-- 1 root root 669743468 Jun  9 21:05 model.onnx\n",
            "-rw-r--r-- 1 root root       125 Jun  9 21:05 special_tokens_map.json\n",
            "-rw-r--r-- 1 root root      1290 Jun  9 21:05 tokenizer_config.json\n",
            "\n",
            "onnx_models/nlptown/bert-base-multilingual-uncased-sentiment/assets:\n",
            "total 856\n",
            "-rw-r--r-- 1 root root     38 Jun  9 21:06 labels.txt\n",
            "-rw-r--r-- 1 root root 871891 Jun  9 21:05 vocab.txt\n"
          ]
        }
      ],
      "source": [
        "!ls -lR {EXPORT_PATH}"
      ]
    },
    {
      "cell_type": "code",
      "execution_count": 6,
      "metadata": {
        "colab": {
          "base_uri": "https://localhost:8080/"
        },
        "id": "LPoRSpOibwMi",
        "outputId": "3b311d01-420e-4ea5-85f9-17465de42806"
      },
      "outputs": [
        {
          "name": "stdout",
          "output_type": "stream",
          "text": [
            "1 star\n",
            "2 stars\n",
            "3 stars\n",
            "4 stars\n",
            "5 stars"
          ]
        }
      ],
      "source": [
        "!cat /content/onnx_models/nlptown/bert-base-multilingual-uncased-sentiment/assets/labels.txt"
      ]
    },
    {
      "cell_type": "markdown",
      "metadata": {
        "id": "KHUyhe-pK7s9"
      },
      "source": [
        "Voila! We have our `vocab.txt` and `labels.txt` inside assets directory"
      ]
    },
    {
      "cell_type": "markdown",
      "metadata": {
        "id": "JZB3rNdVK7s9"
      },
      "source": [
        "## Import and Save BertForSequenceClassification in Spark NLP\n"
      ]
    },
    {
      "cell_type": "markdown",
      "metadata": {
        "id": "G6h-_aRXK7s9"
      },
      "source": [
        "Let's install and setup Spark NLP in Google Colab. For this example, we'll use specific versions of `pyspark` and `spark-nlp` that we've already tested with this transformer model to make sure everything runs smoothly:\n",
        "\n",
        "If you prefer to use the latest versions, feel free to run:\n",
        "\n",
        "`!pip install -q pyspark spark-nlp`\n",
        "\n",
        "Just keep in mind that newer versions might have some changes, so you may need to tweak your code a bit if anything breaks."
      ]
    },
    {
      "cell_type": "code",
      "execution_count": 7,
      "metadata": {
        "colab": {
          "base_uri": "https://localhost:8080/"
        },
        "id": "dvNcxx1uK7s9",
        "outputId": "c3bc1a8f-97d0-4e00-a145-11dd8460fb60"
      },
      "outputs": [
        {
          "name": "stdout",
          "output_type": "stream",
          "text": [
            "\u001b[2K     \u001b[90m━━━━━━━━━━━━━━━━━━━━━━━━━━━━━━━━━━━━━━━\u001b[0m \u001b[32m317.3/317.3 MB\u001b[0m \u001b[31m4.1 MB/s\u001b[0m eta \u001b[36m0:00:00\u001b[0m\n",
            "\u001b[?25h  Preparing metadata (setup.py) ... \u001b[?25l\u001b[?25hdone\n",
            "\u001b[2K   \u001b[90m━━━━━━━━━━━━━━━━━━━━━━━━━━━━━━━━━━━━━━━━\u001b[0m \u001b[32m635.7/635.7 kB\u001b[0m \u001b[31m46.3 MB/s\u001b[0m eta \u001b[36m0:00:00\u001b[0m\n",
            "\u001b[?25h  Building wheel for pyspark (setup.py) ... \u001b[?25l\u001b[?25hdone\n"
          ]
        }
      ],
      "source": [
        "!pip install -q pyspark==3.5.4 spark-nlp==5.5.3"
      ]
    },
    {
      "cell_type": "markdown",
      "metadata": {
        "id": "hQ1CUTZbK7s9"
      },
      "source": [
        "Let's start Spark with Spark NLP included via our simple `start()` function"
      ]
    },
    {
      "cell_type": "code",
      "execution_count": 8,
      "metadata": {
        "colab": {
          "base_uri": "https://localhost:8080/"
        },
        "id": "iF1blQTOK7s-",
        "outputId": "5f3b485a-4549-4adc-effb-0b96c0a6cde3"
      },
      "outputs": [
        {
          "name": "stdout",
          "output_type": "stream",
          "text": [
            "Spark NLP version:  5.5.3\n",
            "Apache Spark version:  3.5.4\n"
          ]
        }
      ],
      "source": [
        "import sparknlp\n",
        "\n",
        "spark = sparknlp.start()\n",
        "\n",
        "print(\"Spark NLP version: \", sparknlp.version())\n",
        "print(\"Apache Spark version: \", spark.version)"
      ]
    },
    {
      "cell_type": "markdown",
      "metadata": {
        "id": "vEcY2OG4K7s-"
      },
      "source": [
        "- Let's use `loadSavedModel` functon in `BertForSequenceClassification` which allows us to load TensorFlow model in SavedModel format\n",
        "- Most params can be set later when you are loading this model in `BertForSequenceClassification` in runtime like `setMaxSentenceLength`, so don't worry what you are setting them now\n",
        "- `loadSavedModel` accepts two params, first is the path to the TF SavedModel. The second is the SparkSession that is `spark` variable we previously started via `sparknlp.start()`\n",
        "- NOTE: `loadSavedModel` accepts local paths in addition to distributed file systems such as `HDFS`, `S3`, `DBFS`, etc. This feature was introduced in Spark NLP 4.2.2 release. Keep in mind the best and recommended way to move/share/reuse Spark NLP models is to use `write.save` so you can use `.load()` from any file systems natively.\n"
      ]
    },
    {
      "cell_type": "code",
      "execution_count": 9,
      "metadata": {
        "id": "f-g_-cr8K7s-"
      },
      "outputs": [],
      "source": [
        "from sparknlp.annotator import BertForSequenceClassification\n",
        "\n",
        "sequenceClassifier = BertForSequenceClassification\\\n",
        "  .loadSavedModel(EXPORT_PATH, spark)\\\n",
        "  .setInputCols([\"document\",'token'])\\\n",
        "  .setOutputCol(\"class\")\\\n",
        "  .setCaseSensitive(False)\\\n",
        "  .setMaxSentenceLength(128)"
      ]
    },
    {
      "cell_type": "markdown",
      "metadata": {
        "id": "AyXBvtoIK7s-"
      },
      "source": [
        "- Let's save it on disk so it is easier to be moved around and also be used later via `.load` function"
      ]
    },
    {
      "cell_type": "code",
      "execution_count": 10,
      "metadata": {
        "id": "TWHfLw44K7s-"
      },
      "outputs": [],
      "source": [
        "sequenceClassifier.write().overwrite().save(\"./{}_spark_nlp_onnx\".format(MODEL_NAME))"
      ]
    },
    {
      "cell_type": "markdown",
      "metadata": {
        "id": "E94pWlVQK7s-"
      },
      "source": [
        "Let's clean up stuff we don't need anymore"
      ]
    },
    {
      "cell_type": "code",
      "execution_count": 11,
      "metadata": {
        "id": "9otlKBUGK7s-"
      },
      "outputs": [],
      "source": [
        "!rm -rf {EXPORT_PATH}"
      ]
    },
    {
      "cell_type": "markdown",
      "metadata": {
        "id": "yRxcZGUCK7s-"
      },
      "source": [
        "Awesome 😎  !\n",
        "\n",
        "This is your BertForSequenceClassification model from HuggingFace 🤗  loaded and saved by Spark NLP 🚀"
      ]
    },
    {
      "cell_type": "code",
      "execution_count": 12,
      "metadata": {
        "colab": {
          "base_uri": "https://localhost:8080/"
        },
        "id": "KGx5TpbOK7s_",
        "outputId": "d6969ec2-f26d-47e7-cb01-9085c8a5920d"
      },
      "outputs": [
        {
          "name": "stdout",
          "output_type": "stream",
          "text": [
            "total 654160\n",
            "-rw-r--r-- 1 root root 669845797 Jun  9 21:09 bert_classification_onnx\n",
            "drwxr-xr-x 4 root root      4096 Jun  9 21:09 fields\n",
            "drwxr-xr-x 2 root root      4096 Jun  9 21:09 metadata\n"
          ]
        }
      ],
      "source": [
        "! ls -l {MODEL_NAME}_spark_nlp_onnx"
      ]
    },
    {
      "cell_type": "markdown",
      "metadata": {
        "id": "z5sRn9KKK7s_"
      },
      "source": [
        "Now let's see how we can use it on other machines, clusters, or any place you wish to use your new and shiny BertForSequenceClassification model 😊"
      ]
    },
    {
      "cell_type": "code",
      "execution_count": 13,
      "metadata": {
        "id": "kpNSqq70K7s_"
      },
      "outputs": [],
      "source": [
        "sequenceClassifier_loaded = BertForSequenceClassification.load(\"./{}_spark_nlp_onnx\".format(MODEL_NAME))\\\n",
        "  .setInputCols([\"document\",'token'])\\\n",
        "  .setOutputCol(\"class\")"
      ]
    },
    {
      "cell_type": "markdown",
      "metadata": {
        "id": "nKGistcsK7s_"
      },
      "source": [
        "You can see what labels were used to train this model via `getClasses` function:"
      ]
    },
    {
      "cell_type": "code",
      "execution_count": 14,
      "metadata": {
        "colab": {
          "base_uri": "https://localhost:8080/"
        },
        "id": "p5y3YpPEK7s_",
        "outputId": "9ca50dbd-2885-413a-d46e-2c7a2bf2882d"
      },
      "outputs": [
        {
          "data": {
            "text/plain": [
              "['4 stars', '3 stars', '1 star', '2 stars', '5 stars']"
            ]
          },
          "execution_count": 14,
          "metadata": {},
          "output_type": "execute_result"
        }
      ],
      "source": [
        "sequenceClassifier_loaded.getClasses()"
      ]
    },
    {
      "cell_type": "markdown",
      "metadata": {
        "id": "Wqa3_ApmK7s_"
      },
      "source": [
        "This is how you can use your loaded classifier model in Spark NLP 🚀 pipeline:"
      ]
    },
    {
      "cell_type": "code",
      "execution_count": 19,
      "metadata": {
        "colab": {
          "base_uri": "https://localhost:8080/"
        },
        "id": "Nw23e7DOi-NX",
        "outputId": "eba60fab-65ef-4a7e-e957-6614454cef18"
      },
      "outputs": [
        {
          "name": "stdout",
          "output_type": "stream",
          "text": [
            "+-----------------------------------------------------+--------+---------------+\n",
            "|text                                                 |language|expected_rating|\n",
            "+-----------------------------------------------------+--------+---------------+\n",
            "|Absolutely terrible. The product broke after one day.|English |1 star         |\n",
            "|Matige kwaliteit, ik had meer verwacht.              |Dutch   |2 stars        |\n",
            "|Ist in Ordnung, aber nichts Besonderes.              |German  |3 stars        |\n",
            "|Bon produit, je suis satisfait.                      |French  |4 stars        |\n",
            "|¡Fantástico! Totalmente recomendado.                 |Spanish |5 stars        |\n",
            "|Qualità scarsa, non soddisfatto.                     |Italian |2 stars        |\n",
            "+-----------------------------------------------------+--------+---------------+\n",
            "\n"
          ]
        }
      ],
      "source": [
        "example = spark.createDataFrame([\n",
        "    [\"Absolutely terrible. The product broke after one day.\", \"English\", \"1 star\"],\n",
        "    [\"Matige kwaliteit, ik had meer verwacht.\", \"Dutch\", \"2 stars\"],\n",
        "    [\"Ist in Ordnung, aber nichts Besonderes.\", \"German\", \"3 stars\"],\n",
        "    [\"Bon produit, je suis satisfait.\", \"French\", \"4 stars\"],\n",
        "    [\"¡Fantástico! Totalmente recomendado.\", \"Spanish\", \"5 stars\"],\n",
        "    [\"Qualità scarsa, non soddisfatto.\", \"Italian\", \"2 stars\"],\n",
        "], [\"text\", \"language\", \"expected_rating\"])\n",
        "\n",
        "example.show(truncate=False)"
      ]
    },
    {
      "cell_type": "code",
      "execution_count": 23,
      "metadata": {
        "colab": {
          "base_uri": "https://localhost:8080/"
        },
        "id": "jLw5uKikK7s_",
        "outputId": "11355281-36f1-4e73-9e21-b804732e294d"
      },
      "outputs": [
        {
          "name": "stdout",
          "output_type": "stream",
          "text": [
            "+-----------------------------------------------------+--------+---------------+----------------+\n",
            "|text                                                 |language|expected_rating|predicted_rating|\n",
            "+-----------------------------------------------------+--------+---------------+----------------+\n",
            "|Absolutely terrible. The product broke after one day.|English |1 star         |1 star          |\n",
            "|Matige kwaliteit, ik had meer verwacht.              |Dutch   |2 stars        |2 stars         |\n",
            "|Ist in Ordnung, aber nichts Besonderes.              |German  |3 stars        |3 stars         |\n",
            "|Bon produit, je suis satisfait.                      |French  |4 stars        |4 stars         |\n",
            "|¡Fantástico! Totalmente recomendado.                 |Spanish |5 stars        |5 stars         |\n",
            "|Qualità scarsa, non soddisfatto.                     |Italian |2 stars        |2 stars         |\n",
            "+-----------------------------------------------------+--------+---------------+----------------+\n",
            "\n"
          ]
        }
      ],
      "source": [
        "from pyspark.ml import Pipeline\n",
        "from sparknlp.base import DocumentAssembler\n",
        "from sparknlp.annotator import Tokenizer\n",
        "from pyspark.sql.functions import col\n",
        "\n",
        "document_assembler = DocumentAssembler() \\\n",
        "    .setInputCol(\"text\") \\\n",
        "    .setOutputCol(\"document\")\n",
        "\n",
        "tokenizer = Tokenizer() \\\n",
        "    .setInputCols([\"document\"]) \\\n",
        "    .setOutputCol(\"token\")\n",
        "\n",
        "pipeline = Pipeline(stages=[\n",
        "    document_assembler,\n",
        "    tokenizer,\n",
        "    sequenceClassifier_loaded\n",
        "])\n",
        "\n",
        "result = pipeline.fit(example).transform(example)\n",
        "result.withColumn(\"predicted_rating\", col(\"class.result\")[0]) \\\n",
        "    .select(\"text\", \"language\", \"expected_rating\", \"predicted_rating\") \\\n",
        "    .show(truncate=False)"
      ]
    },
    {
      "cell_type": "markdown",
      "metadata": {
        "id": "7v5dOQuEK7s_"
      },
      "source": [
        "That's it! You can now go wild and use hundreds of `BertForSequenceClassification` models from HuggingFace 🤗 in Spark NLP 🚀\n"
      ]
    }
  ],
  "metadata": {
    "colab": {
      "provenance": []
    },
    "kernelspec": {
      "display_name": "Python 3 (ipykernel)",
      "language": "python",
      "name": "python3"
    },
    "language_info": {
      "codemirror_mode": {
        "name": "ipython",
        "version": 3
      },
      "file_extension": ".py",
      "mimetype": "text/x-python",
      "name": "python",
      "nbconvert_exporter": "python",
      "pygments_lexer": "ipython3"
    }
  },
  "nbformat": 4,
  "nbformat_minor": 0
}
