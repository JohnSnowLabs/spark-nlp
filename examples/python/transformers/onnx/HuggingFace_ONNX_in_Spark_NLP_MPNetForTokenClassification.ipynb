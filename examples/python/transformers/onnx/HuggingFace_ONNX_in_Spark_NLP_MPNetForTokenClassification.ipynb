{
 "cells": [
  {
   "cell_type": "markdown",
   "metadata": {
    "id": "HMDvz8L8edjT"
   },
   "source": [
    "![JohnSnowLabs](https://sparknlp.org/assets/images/logo.png)\n",
    "\n",
    "[![Open In Colab](https://colab.research.google.com/assets/colab-badge.svg)](https://colab.research.google.com/github/JohnSnowLabs/spark-nlp/blob/master/examples/python/transformers/onnx/HuggingFace_ONNX_in_Spark_NLP_MPNetForTokenClassification.ipynb)"
   ]
  },
  {
   "cell_type": "markdown",
   "metadata": {
    "id": "rllRrPX5edjW"
   },
   "source": [
    "## Import ONNX MPNetForTokenClassification models from HuggingFace 🤗  into Spark NLP 🚀\n",
    "\n",
    "Let's keep in mind a few things before we start 😊\n",
    "\n",
    "- ONNX support was introduced in  `Spark NLP 5.0.0`, enabling high performance inference for models.\n",
    "- `MPNetForTokenClassification` is only available since in `Spark NLP 5.3.1` and after. So please make sure you have upgraded to the latest Spark NLP release\n",
    "- You can import MPNet models trained/fine-tuned for token classification via `MPNetForTokenClassification` or `TFMPNetForTokenClassification`. These models are usually under `Token Classification` category and have `mpnet` in their labels\n",
    "- Reference: [TFMPNetForTokenClassification](https://huggingface.co/docs/transformers/en/model_doc/mpnet#transformers.TFMPNetForTokenClassification)\n",
    "- Some [example models](https://huggingface.co/models?filter=mpnet&pipeline_tag=token-classification)"
   ]
  },
  {
   "cell_type": "markdown",
   "metadata": {
    "id": "BxfHE_l9edjW"
   },
   "source": [
    "## Export and Save HuggingFace model"
   ]
  },
  {
   "cell_type": "markdown",
   "metadata": {
    "id": "QailgffhedjX"
   },
   "source": [
    "- Let's install `transformers` package with the `onnx` extension and it's dependencies. You don't need `onnx` to be installed for Spark NLP, however, we need it to load and save models from HuggingFace.\n",
    "- We lock `transformers` on version `4.52.4`. This doesn't mean it won't work with the future releases\n",
    "- Albert uses SentencePiece, so we will have to install that as well"
   ]
  },
  {
   "cell_type": "code",
   "execution_count": null,
   "metadata": {
    "colab": {
     "base_uri": "https://localhost:8080/"
    },
    "id": "JXSYOIbeedjX",
    "outputId": "d5209f14-f3db-4de3-9233-70059b2f8c1b"
   },
   "outputs": [],
   "source": [
    "!pip install -q --upgrade transformers[onnx]==4.52.4 optimum onnx"
   ]
  },
  {
   "cell_type": "markdown",
   "metadata": {
    "id": "cK405Yo9edjY"
   },
   "source": [
    "- HuggingFace has an extension called Optimum which offers specialized model inference, including ONNX. We can use this to import and export ONNX models with `from_pretrained` and `save_pretrained`.\n",
    "- We'll use [hf-tiny-model-private/tiny-random-MPNetForTokenClassification](https://huggingface.co/hf-tiny-model-private/tiny-random-MPNetForTokenClassification) model from HuggingFace as an example\n",
    "- In addition to `TFMPNetForTokenClassification` we also need to save the `MPNetTokenizer`. This is the same for every model, these are assets needed for tokenization inside Spark NLP."
   ]
  },
  {
   "cell_type": "code",
   "execution_count": 2,
   "metadata": {
    "colab": {
     "base_uri": "https://localhost:8080/",
     "height": 435,
     "referenced_widgets": [
      "035394666b6c43639e0f99a0cac42e85",
      "276a7711384b45df98abf9b23a8e7580",
      "557b70ce97984685accc3ef845c2a786",
      "e0893de8ca224ccab281025e4a48bcfb",
      "e8881ef06deb434d9d8a2697b5690b97",
      "15f32f823a8845f0b0faa00d125eb136",
      "d34564a3289444c496eca724fb92a36b",
      "38b10ea89d7f44ddbbcb5a3a8aabd15b",
      "cdf46a1ef62647d2972e8438ca6a896e",
      "f17e38bacc7543c98649b45fab448455",
      "a6cf01da577f402d887ef3093e3816f5",
      "e2098073e9d145aa948b54de80ece5e3",
      "f8af3f2d41e54170b6016a4bff0971d5",
      "75b5a44deda74aa0ab5a32086168b2a9",
      "5d237a7cfc1344e685fc148f786a916c",
      "687fec26159146c1952c10a4857bffd8",
      "5ef35fd5cca942edaab225a7066c4481",
      "b20f56f6721341e0908c83487e577023",
      "7f1394fe23074caf8085e13df59604cd",
      "b47acdd68f32408fb904ef30663bfae3",
      "a68f5a45b0ad4c7eb09d1fb1ff27a445",
      "0e515e79849049ab96f32bcafd512e9d",
      "9d2f03619ec34051bccdb6ff0e6d65e9",
      "eca16f7bf6e147fa98cb21bd71b4fb3e",
      "bf2ddad889f04807a20c6d0d71c85db0",
      "bf2155ca6677437daca41eda5c9b7243",
      "5106b2662ae44da99dbfd85f1bb50b00",
      "6b5a1eee3e04474bb82b74b48e111b79",
      "ee69c2d7ab124a94bd1d3c191b3c15e2",
      "812fb145438a482da9f020ac3f7348fe",
      "02ac617f0cde433995e92edadd841b0f",
      "4bb98aacecd24d0ab641504f83542606",
      "61b9e7435d6c4b24886b6105f21c815c",
      "db786a913adf4febbad0454a7e3bc3fb",
      "b7bd2bc740a84f97951b03afd190eee9",
      "7856223353e74a66ae71bf11865cc84c",
      "50f1cb9fedf645e99cf7c54eade56814",
      "a37e57a1345340fd95b922a8622b34aa",
      "d88fcab5487e4eea86433ea8ac2216d4",
      "ea1aff5f79e4474a823e21f80f72e0bb",
      "c8c596daed0a4a61a2c88f0879e7572c",
      "6f9a5f6aa7204048afe2a819f5541557",
      "b5f381eae772403dbb7060be08fb2cfb",
      "8872190af3854668bef3286bc807e555",
      "1a1d95e7291a45fda2a1f9f87b981f99",
      "b0a70e892ce44663b2fbb5844c324fc7",
      "6c1da57b30ea4d0785682359b4468838",
      "d2c64d70de1e438eb96210c0afe03399",
      "dd1fdcb516d543c0879edeac41276583",
      "b6fdbca9f4cc475a843728696541163a",
      "de0ddd8eaad64f6389b0ee6e755b36ef",
      "8e49698c77b1437887f585d0f113b1ba",
      "e4705311f20e43e180a2bcab828e5058",
      "edf3b9179b334afc94dc692cb3a59078",
      "65edc74483954afe9f0b71dfbea2a36a",
      "2e4fcd384edb4e219c514666c5994068",
      "7ddf257ed8fd4c0990f717aa558d35cb",
      "af35e36b9750496486e01cb8ae8f2c20",
      "8fe91caea80947298ea04c11b958318c",
      "f1e6ac5586b542c68e1bf8f7c0213a00",
      "b840ad65a4f24f29a83f87659f26747b",
      "576c2468b60e4d18a9d7adf91391503e",
      "3575bb7399f34ee39a83168d3a52b082",
      "36146e6df0e442759df04d7e947a31d5",
      "358373cd621c4ee19eb83c006d40d95c",
      "c7e1be8a6c3a4bb3a952769d3afa2959",
      "6f8c777430ae4448ab73352d12831063",
      "ddabea43e98e4fe48165d65bf4c90c5a",
      "4fa0c8d009e840128cba47fefc5d9687",
      "c4408057ce214d9eb7c9106f999ad04a",
      "f72f521547bc43f99b79a753ebd831c2",
      "882bc1f8e7b94a2cb23aaa5885ae4bb8",
      "6c39598399d84d7393c29d6e5a76f85f",
      "9d34a3e06e54462c964eeef1f7eee2b6",
      "1b8c6b81f16a40339f47548e026380fd",
      "bed9ec0c1ea14c0284d2d30c1cea0574",
      "2954e0468d3a454ab3b8e72fb6fc5182"
     ]
    },
    "id": "7LuyOngDxChL",
    "outputId": "7d26923c-8dab-4d05-9fdf-749ee90ef2f1"
   },
   "outputs": [
    {
     "name": "stderr",
     "output_type": "stream",
     "text": [
      "/usr/local/lib/python3.11/dist-packages/huggingface_hub/utils/_auth.py:94: UserWarning: \n",
      "The secret `HF_TOKEN` does not exist in your Colab secrets.\n",
      "To authenticate with the Hugging Face Hub, create a token in your settings tab (https://huggingface.co/settings/tokens), set it as secret in your Google Colab and restart your session.\n",
      "You will be able to reuse this secret in all of your notebooks.\n",
      "Please note that authentication is recommended but still optional to access public models or datasets.\n",
      "  warnings.warn(\n"
     ]
    },
    {
     "data": {
      "application/vnd.jupyter.widget-view+json": {
       "model_id": "035394666b6c43639e0f99a0cac42e85",
       "version_major": 2,
       "version_minor": 0
      },
      "text/plain": [
       "config.json:   0%|          | 0.00/635 [00:00<?, ?B/s]"
      ]
     },
     "metadata": {},
     "output_type": "display_data"
    },
    {
     "data": {
      "application/vnd.jupyter.widget-view+json": {
       "model_id": "e2098073e9d145aa948b54de80ece5e3",
       "version_major": 2,
       "version_minor": 0
      },
      "text/plain": [
       "pytorch_model.bin:   0%|          | 0.00/957k [00:00<?, ?B/s]"
      ]
     },
     "metadata": {},
     "output_type": "display_data"
    },
    {
     "data": {
      "application/vnd.jupyter.widget-view+json": {
       "model_id": "9d2f03619ec34051bccdb6ff0e6d65e9",
       "version_major": 2,
       "version_minor": 0
      },
      "text/plain": [
       "tokenizer_config.json:   0%|          | 0.00/1.43k [00:00<?, ?B/s]"
      ]
     },
     "metadata": {},
     "output_type": "display_data"
    },
    {
     "data": {
      "application/vnd.jupyter.widget-view+json": {
       "model_id": "db786a913adf4febbad0454a7e3bc3fb",
       "version_major": 2,
       "version_minor": 0
      },
      "text/plain": [
       "vocab.txt:   0%|          | 0.00/4.68k [00:00<?, ?B/s]"
      ]
     },
     "metadata": {},
     "output_type": "display_data"
    },
    {
     "data": {
      "application/vnd.jupyter.widget-view+json": {
       "model_id": "1a1d95e7291a45fda2a1f9f87b981f99",
       "version_major": 2,
       "version_minor": 0
      },
      "text/plain": [
       "tokenizer.json:   0%|          | 0.00/22.3k [00:00<?, ?B/s]"
      ]
     },
     "metadata": {},
     "output_type": "display_data"
    },
    {
     "data": {
      "application/vnd.jupyter.widget-view+json": {
       "model_id": "2e4fcd384edb4e219c514666c5994068",
       "version_major": 2,
       "version_minor": 0
      },
      "text/plain": [
       "model.safetensors:   0%|          | 0.00/938k [00:00<?, ?B/s]"
      ]
     },
     "metadata": {},
     "output_type": "display_data"
    },
    {
     "data": {
      "application/vnd.jupyter.widget-view+json": {
       "model_id": "6f8c777430ae4448ab73352d12831063",
       "version_major": 2,
       "version_minor": 0
      },
      "text/plain": [
       "special_tokens_map.json:   0%|          | 0.00/280 [00:00<?, ?B/s]"
      ]
     },
     "metadata": {},
     "output_type": "display_data"
    },
    {
     "data": {
      "text/plain": [
       "('onnx_models/hf-tiny-model-private/tiny-random-MPNetForTokenClassification/tokenizer_config.json',\n",
       " 'onnx_models/hf-tiny-model-private/tiny-random-MPNetForTokenClassification/special_tokens_map.json',\n",
       " 'onnx_models/hf-tiny-model-private/tiny-random-MPNetForTokenClassification/vocab.txt',\n",
       " 'onnx_models/hf-tiny-model-private/tiny-random-MPNetForTokenClassification/added_tokens.json')"
      ]
     },
     "execution_count": 2,
     "metadata": {},
     "output_type": "execute_result"
    }
   ],
   "source": [
    "from transformers import MPNetTokenizer\n",
    "from optimum.onnxruntime import ORTModelForTokenClassification\n",
    "\n",
    "MODEL_NAME = 'hf-tiny-model-private/tiny-random-MPNetForTokenClassification'\n",
    "EXPORT_PATH = f\"onnx_models/{MODEL_NAME}\"\n",
    "\n",
    "ort_model = ORTModelForTokenClassification.from_pretrained(MODEL_NAME, export=True)\n",
    "ort_model.save_pretrained(EXPORT_PATH)\n",
    "\n",
    "tokenizer = MPNetTokenizer.from_pretrained(MODEL_NAME)\n",
    "tokenizer.save_pretrained(EXPORT_PATH)"
   ]
  },
  {
   "cell_type": "markdown",
   "metadata": {
    "id": "awSrdgUtedjY"
   },
   "source": [
    "Let's have a look inside these two directories and see what we are dealing with:"
   ]
  },
  {
   "cell_type": "code",
   "execution_count": 4,
   "metadata": {
    "colab": {
     "base_uri": "https://localhost:8080/"
    },
    "id": "DbaWlsRQedjZ",
    "outputId": "99b0101c-8be8-4690-fa85-d0b5d5a32d58"
   },
   "outputs": [
    {
     "name": "stdout",
     "output_type": "stream",
     "text": [
      "total 1032\n",
      "-rw-r--r-- 1 root root     562 Jun 25 11:09 config.json\n",
      "-rw-r--r-- 1 root root 1033389 Jun 25 11:09 model.onnx\n",
      "-rw-r--r-- 1 root root     964 Jun 25 11:09 special_tokens_map.json\n",
      "-rw-r--r-- 1 root root    1469 Jun 25 11:09 tokenizer_config.json\n",
      "-rw-r--r-- 1 root root    4682 Jun 25 11:09 vocab.txt\n"
     ]
    }
   ],
   "source": [
    "!ls -l {EXPORT_PATH}"
   ]
  },
  {
   "cell_type": "markdown",
   "metadata": {
    "id": "Y3nnzvo9r-8U"
   },
   "source": [
    "- We need to convert `vocab.json` to a plain `vocab.txt` format, as required by Spark NLP, then move it to an `assets` folder.\n",
    "- We also need `labels` and their `ids` which is saved inside the model's config. We will save this inside `labels.txt`"
   ]
  },
  {
   "cell_type": "code",
   "execution_count": 10,
   "metadata": {
    "id": "XE6E5QcVedjZ"
   },
   "outputs": [],
   "source": [
    "import json\n",
    "\n",
    "!mkdir -p {EXPORT_PATH}/assets && mv {EXPORT_PATH}/vocab.txt {EXPORT_PATH}/assets\n",
    "\n",
    "with open(f\"{EXPORT_PATH}/assets/labels.txt\", \"w\") as f:\n",
    "    f.write(\"\\n\".join(ort_model.config.id2label[k] for k in sorted(ort_model.config.id2label)))"
   ]
  },
  {
   "cell_type": "code",
   "execution_count": 13,
   "metadata": {
    "colab": {
     "base_uri": "https://localhost:8080/"
    },
    "id": "8ulfThXDedjZ",
    "outputId": "cdfb3d26-cc96-4ff5-c9eb-46e4944102d1"
   },
   "outputs": [
    {
     "name": "stdout",
     "output_type": "stream",
     "text": [
      "onnx_models/hf-tiny-model-private/tiny-random-MPNetForTokenClassification:\n",
      "total 1028\n",
      "drwxr-xr-x 2 root root    4096 Jun 25 11:11 assets\n",
      "-rw-r--r-- 1 root root     562 Jun 25 11:09 config.json\n",
      "-rw-r--r-- 1 root root 1033389 Jun 25 11:09 model.onnx\n",
      "-rw-r--r-- 1 root root     964 Jun 25 11:09 special_tokens_map.json\n",
      "-rw-r--r-- 1 root root    1469 Jun 25 11:09 tokenizer_config.json\n",
      "\n",
      "onnx_models/hf-tiny-model-private/tiny-random-MPNetForTokenClassification/assets:\n",
      "total 12\n",
      "-rw-r--r-- 1 root root   15 Jun 25 11:11 labels.txt\n",
      "-rw-r--r-- 1 root root 4682 Jun 25 11:09 vocab.txt\n"
     ]
    }
   ],
   "source": [
    "!ls -lR {EXPORT_PATH}"
   ]
  },
  {
   "cell_type": "markdown",
   "metadata": {
    "id": "xQrrcEhsedjZ"
   },
   "source": [
    "Voila! We have our `vocab.txt` and `labels.txt` inside assets directory"
   ]
  },
  {
   "cell_type": "markdown",
   "metadata": {
    "id": "4uh4zFfcedja"
   },
   "source": [
    "## Import and Save DeBertaForTokenClassification in Spark NLP\n"
   ]
  },
  {
   "cell_type": "markdown",
   "metadata": {
    "id": "_f6ZMFdEedja"
   },
   "source": [
    "- Install and set up Spark NLP in Google Colab\n",
    "- This example uses specific versions of `pyspark` and `spark-nlp` that have been tested with the transformer model to ensure everything runs smoothly."
   ]
  },
  {
   "cell_type": "code",
   "execution_count": 14,
   "metadata": {
    "colab": {
     "base_uri": "https://localhost:8080/"
    },
    "id": "x9mEl8tfedja",
    "outputId": "6bed805f-d9dc-4831-8935-1d2926c098dd"
   },
   "outputs": [
    {
     "name": "stdout",
     "output_type": "stream",
     "text": [
      "\u001b[2K     \u001b[90m━━━━━━━━━━━━━━━━━━━━━━━━━━━━━━━━━━━━━━━\u001b[0m \u001b[32m317.3/317.3 MB\u001b[0m \u001b[31m4.7 MB/s\u001b[0m eta \u001b[36m0:00:00\u001b[0m\n",
      "\u001b[?25h  Preparing metadata (setup.py) ... \u001b[?25l\u001b[?25hdone\n",
      "\u001b[2K   \u001b[90m━━━━━━━━━━━━━━━━━━━━━━━━━━━━━━━━━━━━━━━━\u001b[0m \u001b[32m635.7/635.7 kB\u001b[0m \u001b[31m46.1 MB/s\u001b[0m eta \u001b[36m0:00:00\u001b[0m\n",
      "\u001b[?25h  Building wheel for pyspark (setup.py) ... \u001b[?25l\u001b[?25hdone\n"
     ]
    }
   ],
   "source": [
    "!pip install -q pyspark==3.5.4 spark-nlp==5.5.3"
   ]
  },
  {
   "cell_type": "markdown",
   "metadata": {
    "id": "cIpIKaFVedja"
   },
   "source": [
    "Let's start Spark with Spark NLP included via our simple `start()` function"
   ]
  },
  {
   "cell_type": "code",
   "execution_count": 15,
   "metadata": {
    "colab": {
     "base_uri": "https://localhost:8080/"
    },
    "id": "tQf83Yqaedja",
    "outputId": "82eae6d8-2415-41e5-f461-5662be0ae080"
   },
   "outputs": [
    {
     "name": "stdout",
     "output_type": "stream",
     "text": [
      "Spark NLP version:  5.5.3\n",
      "Apache Spark version:  3.5.4\n"
     ]
    }
   ],
   "source": [
    "import sparknlp\n",
    "\n",
    "spark = sparknlp.start()\n",
    "\n",
    "print(\"Spark NLP version: \", sparknlp.version())\n",
    "print(\"Apache Spark version: \", spark.version)"
   ]
  },
  {
   "cell_type": "markdown",
   "metadata": {
    "id": "APhVtcuMedja"
   },
   "source": [
    "- Let's use `loadSavedModel` functon in `MPNetForTokenClassification` which allows us to load TensorFlow model in SavedModel format\n",
    "- Most params can be set later when you are loading this model in `MPNetForTokenClassification` in runtime like `setMaxSentenceLength`, so don't worry what you are setting them now\n",
    "- `loadSavedModel` accepts two params, first is the path to the TF SavedModel. The second is the SparkSession that is `spark` variable we previously started via `sparknlp.start()`\n",
    "- NOTE: `loadSavedModel` accepts local paths in addition to distributed file systems such as `HDFS`, `S3`, `DBFS`, etc. This feature was introduced in Spark NLP 4.2.2 release. Keep in mind the best and recommended way to move/share/reuse Spark NLP models is to use `write.save` so you can use `.load()` from any file systems natively.st and recommended way to move/share/reuse Spark NLP models is to use `write.save` so you can use `.load()` from any file systems natively.\n",
    "\n"
   ]
  },
  {
   "cell_type": "code",
   "execution_count": 17,
   "metadata": {
    "id": "DfnMEXnoedja"
   },
   "outputs": [],
   "source": [
    "from sparknlp.annotator import MPNetForTokenClassification\n",
    "\n",
    "tokenClassifier = MPNetForTokenClassification.loadSavedModel(\n",
    "     EXPORT_PATH,\n",
    "     spark\n",
    " )\\\n",
    " .setInputCols([\"document\",'token'])\\\n",
    " .setOutputCol(\"ner\")\\\n",
    " .setCaseSensitive(True)\\\n",
    " .setMaxSentenceLength(128)"
   ]
  },
  {
   "cell_type": "markdown",
   "metadata": {
    "id": "jDEIO_ogedja"
   },
   "source": [
    "- Let's save it on disk so it is easier to be moved around and also be used later via `.load` function"
   ]
  },
  {
   "cell_type": "code",
   "execution_count": 18,
   "metadata": {
    "id": "RD9apQL1edja"
   },
   "outputs": [],
   "source": [
    "tokenClassifier.write().overwrite().save(\"./{}_spark_nlp_onnx\".format(EXPORT_PATH))"
   ]
  },
  {
   "cell_type": "markdown",
   "metadata": {
    "id": "1Q13X5yXedja"
   },
   "source": [
    "Let's clean up stuff we don't need anymore"
   ]
  },
  {
   "cell_type": "code",
   "execution_count": 19,
   "metadata": {
    "id": "YOTQAE82edja"
   },
   "outputs": [],
   "source": [
    "!rm -rf {EXPORT_PATH}"
   ]
  },
  {
   "cell_type": "markdown",
   "metadata": {
    "id": "3Y06tv9pedjb"
   },
   "source": [
    "Awesome 😎  !\n",
    "\n",
    "This is your MPNetForTokenClassification model from HuggingFace 🤗  loaded and saved by Spark NLP 🚀"
   ]
  },
  {
   "cell_type": "code",
   "execution_count": 20,
   "metadata": {
    "colab": {
     "base_uri": "https://localhost:8080/"
    },
    "id": "mjwgkfu_edjb",
    "outputId": "a861ffe6-9568-4367-eb13-531500009ef0"
   },
   "outputs": [
    {
     "name": "stdout",
     "output_type": "stream",
     "text": [
      "total 1020\n",
      "drwxr-xr-x 4 root root    4096 Jun 25 11:14 fields\n",
      "drwxr-xr-x 2 root root    4096 Jun 25 11:14 metadata\n",
      "-rw-r--r-- 1 root root 1033683 Jun 25 11:14 mpnet_classification_onnx\n"
     ]
    }
   ],
   "source": [
    "! ls -l {EXPORT_PATH}_spark_nlp_onnx"
   ]
  },
  {
   "cell_type": "markdown",
   "metadata": {
    "id": "XnyJFndHedjb"
   },
   "source": [
    "Now let's see how we can use it on other machines, clusters, or any place you wish to use your new and shiny DeBertaForTokenClassification model 😊"
   ]
  },
  {
   "cell_type": "code",
   "execution_count": 21,
   "metadata": {
    "id": "bddFxDRgedjb"
   },
   "outputs": [],
   "source": [
    "tokenClassifier_loaded = MPNetForTokenClassification.load(\"./{}_spark_nlp_onnx\".format(EXPORT_PATH))\\\n",
    "  .setInputCols([\"document\",'token'])\\\n",
    "  .setOutputCol(\"ner\")"
   ]
  },
  {
   "cell_type": "markdown",
   "metadata": {
    "id": "S9Z4h8zxedjb"
   },
   "source": [
    "You can see what labels were used to train this model via `getClasses` function:"
   ]
  },
  {
   "cell_type": "code",
   "execution_count": 22,
   "metadata": {
    "colab": {
     "base_uri": "https://localhost:8080/"
    },
    "id": "X3yaUh2hedjb",
    "outputId": "467b6220-cc84-4faa-bed5-de8139852919"
   },
   "outputs": [
    {
     "data": {
      "text/plain": [
       "['LABEL_1', 'LABEL_0']"
      ]
     },
     "execution_count": 22,
     "metadata": {},
     "output_type": "execute_result"
    }
   ],
   "source": [
    "tokenClassifier_loaded.getClasses()"
   ]
  },
  {
   "cell_type": "markdown",
   "metadata": {
    "id": "snpOu1wyedjb"
   },
   "source": [
    "This is how you can use your loaded classifier model in Spark NLP 🚀 pipeline:"
   ]
  },
  {
   "cell_type": "code",
   "execution_count": 23,
   "metadata": {
    "colab": {
     "base_uri": "https://localhost:8080/"
    },
    "id": "sGJzYyeledjb",
    "outputId": "7364030c-a1b6-4cf5-f257-ab26145802fa"
   },
   "outputs": [
    {
     "name": "stdout",
     "output_type": "stream",
     "text": [
      "+-----------------+------------------------------------+\n",
      "|text             |result                              |\n",
      "+-----------------+------------------------------------+\n",
      "|I love spicy food|[LABEL_0, LABEL_0, LABEL_0, LABEL_1]|\n",
      "+-----------------+------------------------------------+\n",
      "\n"
     ]
    }
   ],
   "source": [
    "from sparknlp.base import DocumentAssembler\n",
    "from sparknlp.annotator import Tokenizer\n",
    "from pyspark.ml import Pipeline\n",
    "\n",
    "document_assembler = DocumentAssembler() \\\n",
    "    .setInputCol('text') \\\n",
    "    .setOutputCol('document')\n",
    "\n",
    "tokenizer = Tokenizer() \\\n",
    "    .setInputCols(['document']) \\\n",
    "    .setOutputCol('token')\n",
    "\n",
    "pipeline = Pipeline(stages=[\n",
    "    document_assembler,\n",
    "    tokenizer,\n",
    "    tokenClassifier_loaded\n",
    "])\n",
    "\n",
    "example = spark.createDataFrame([[\"I love spicy food\"]]).toDF(\"text\")\n",
    "\n",
    "model = pipeline.fit(example)\n",
    "result = model.transform(example)\n",
    "\n",
    "result.select(\"text\", \"ner.result\").show(truncate=False)"
   ]
  },
  {
   "cell_type": "markdown",
   "metadata": {
    "id": "5pRDDJxqedjb"
   },
   "source": [
    "That's it! You can now go wild and use hundreds of `MPNetForTokenClassification` models from HuggingFace 🤗 in Spark NLP 🚀\n"
   ]
  }
 ],
 "metadata": {
  "accelerator": "GPU",
  "colab": {
   "gpuType": "T4",
   "provenance": []
  },
  "kernelspec": {
   "display_name": "Python 3",
   "name": "python3"
  },
  "language_info": {
   "codemirror_mode": {
    "name": "ipython",
    "version": 3
   },
   "file_extension": ".py",
   "mimetype": "text/x-python",
   "name": "python",
   "nbconvert_exporter": "python",
   "pygments_lexer": "ipython3"
  }
 },
 "nbformat": 4,
 "nbformat_minor": 0
}
