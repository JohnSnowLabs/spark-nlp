{
 "cells": [
  {
   "cell_type": "markdown",
   "metadata": {
    "id": "PAsu8UVGoLVf"
   },
   "source": [
    "![JohnSnowLabs](https://sparknlp.org/assets/images/logo.png)\n",
    "\n",
    "[![Open In Colab](https://colab.research.google.com/assets/colab-badge.svg)](https://colab.research.google.com/github/JohnSnowLabs/spark-nlp/blob/master/examples/python/transformers/onnx/HuggingFace_ONNX_in_Spark_NLP_AlbertForMultipleChoice.ipynb)\n",
    "\n",
    "## Import ONNX AlbertForMultipleChoice models from HuggingFace 🤗 into Spark NLP 🚀\n",
    "\n",
    "Let's keep in mind a few things before we start 😊\n",
    "\n",
    "- ONNX support was introduced in  `Spark NLP 5.0.0`, enabling high performance inference for models.\n",
    "- `AlbertForMultipleChoice` is only available since in `Spark NLP 5.6.0` and after. So please make sure you have upgraded to the latest Spark NLP release\n",
    "- You can import ALBERT models trained/fine-tuned for question answering via `AlbertForMultipleChoice` or `AlbertForMultipleChoice`. These models are usually under `Multiple Choice` category and have `bert` in their labels\n",
    "- Reference: [AlbertForMultipleChoice](https://huggingface.co/docs/transformers/main/en/model_doc/albert#transformers.AlbertForMultipleChoice)"
   ]
  },
  {
   "cell_type": "markdown",
   "metadata": {
    "id": "OzijcdtQpOx9"
   },
   "source": [
    "## Export and Save HuggingFace model"
   ]
  },
  {
   "cell_type": "markdown",
   "metadata": {
    "id": "MlgoClMXpSg4"
   },
   "source": [
    "- Let's install `transformers` package with the `onnx` extension and it's dependencies. You don't need `onnx` to be installed for Spark NLP, however, we need it to load and save models from HuggingFace.\n",
    "- We lock `transformers` on version `4.48.2`. This doesn't mean it won't work with the future releases, but we wanted you to know which versions have been tested successfully."
   ]
  },
  {
   "cell_type": "code",
   "execution_count": null,
   "metadata": {
    "colab": {
     "base_uri": "https://localhost:8080/"
    },
    "id": "cJWbob-kHICU",
    "outputId": "d94bfc38-282f-44cc-d451-16d406af0632"
   },
   "outputs": [],
   "source": [
    "!pip install -q --upgrade transformers[onnx]==4.48.2 optimum onnx"
   ]
  },
  {
   "cell_type": "markdown",
   "metadata": {
    "id": "hcyIV-5UjtfQ"
   },
   "source": [
    "- HuggingFace has an extension called Optimum which offers specialized model inference, including ONNX. We can use this to import and export ONNX models with `from_pretrained` and `save_pretrained`.\n",
    "- We'll use [albert-base-v2](https://huggingface.co/albert-base-v2 ) model from HuggingFace as an example and load it as a `ORTModelForMultipleChoice`, representing an ONNX model.\n",
    "- In addition to the ALBERT model, we also need to save the `AlbertTokenizer`. This is the same for every model, these are assets (saved in `/assets`) needed for tokenization inside Spark NLP."
   ]
  },
  {
   "cell_type": "code",
   "execution_count": 2,
   "metadata": {
    "colab": {
     "base_uri": "https://localhost:8080/",
     "height": 400,
     "referenced_widgets": [
      "5702b6df37a64119925baebdf8267e6e",
      "e5e897afec944ad68219dfce8871ca99",
      "64fffcf779504e73b437714dbcbebb77",
      "d824910b585c424789ec262dbceb1d2c",
      "bbdd3c9e431d4c35b887f7a231d463f5",
      "651298252e254f3fb4ba706e2fd7398a",
      "1b61f65765b548d1a4b2255d38461db7",
      "34fe83059e82418290c2296517054e83",
      "79f7a9c759334d88ade05196138f640f",
      "7eb0d8739c5d4a6e9b64bdb90313c5bc",
      "c72dab9a17354469ba18724aa5e09ba1",
      "476e6aa0a8cb42c897429dccca8abed9",
      "38104fb0aa434ed1b01ddc3651eb1901",
      "e7c699e149da4652bb6edd0f7ddd74c2",
      "1103c896285546c2b5d250db103e508b",
      "087d970933364c09a7faafb011e75e23",
      "5dd891a4c83248e5a2c2c037bc58e3e0",
      "f350246bd4e745a487b625e708deb597",
      "bcc08e94c3f4411cb5ffae82684d0d86",
      "647a1773dde848aa867241f1791b7025",
      "a2c739ce4bd44538bd4cb5fe54dccc70",
      "4a04be180f96410b817d2dc59aee397f",
      "33471443da1142eb8989397217227c27",
      "f7171d6353844251a34646bcc22e0c5b",
      "4daa8364a57f4b58b3c1d4fe345c09bc",
      "b19891aaa4fc49a1ba01c3844171cb06",
      "98695f61e1ca452090c8b04c118416a5",
      "13b34d3c19344051b80cb56fe695b505",
      "822733f796624f42b7b71a861effe33e",
      "ead05fdd01bc4c80a838df678ffaaa69",
      "375476dc92a54e4a89aa472a8ba018c3",
      "3b011969d2af4908b7a4fa9f10051aab",
      "53066756a4d04c40a91253a56940a385",
      "ae9fbdd63043499192f1d8b53064fbdc",
      "f0ccea15ce124fdfbfaa48042fee434b",
      "f456718a801a46898f91db9e1a18f880",
      "d4deb87c27244b38ba05dca4ffe40f1c",
      "2a67bda844ae4a3fa4bb26bc0817e7bd",
      "bf3d9673e9c046c3bddd57e810dd670d",
      "a00c35a415da4c17a9fe057d05900b1d",
      "302ccf85f0164642af4d6d0d54506639",
      "0192ce7705df444499ce38bfbfb20f53",
      "d66f88a18ff843d181c0441df3a1df57",
      "da0a636202ea42bea57c90eef2ec4a3f",
      "7879c550f40946b3ac6dc908230c132b",
      "fe5440a31101463a80c5a0e4524f8e22",
      "ba1d390c7f6442049bd7966285c2d124",
      "403f7f64ea6140deabc3871072231978",
      "7458abf6df4547bb971b6d2a8064e388",
      "67a7ab5bfb504e13a82d4931f2bffa06",
      "00893baf050c4a7f91a924c336a9b7a0",
      "40051d67c889474faa6d8a86a8bd5df1",
      "e1f3e3d3156f49f7afc4aa6f02fb5a62",
      "2a4e02a0382a4929bd35fab930bf9651",
      "7f169a3b94194354be8058a60bbd0c44",
      "bad273878e754635b9c2a3730bb691f4",
      "45eac3de1ef5446eb3ff1a350814e3a8",
      "d8f2dce845be4660af313b0a00db90b9",
      "4e49cb4127ad46ba80d90f5ab5f685a6",
      "f077c3b6b63047d7bad40df1f744772b",
      "2fa53e10b8e14874ac6b66dd7bfeb5c6",
      "30a751ebeb084ea7be4993e57e2f0d2c",
      "e06fd187e9f94a5ca4c73ce331d3b301",
      "c37f92366cab4f03914999eaf0bbbe7e",
      "5d37e9af96334745a3f13424d5b3954c",
      "fcd4e2b458b34a0f8e7a3dc6ac15b64a"
     ]
    },
    "id": "f_BqjCTej4pN",
    "outputId": "1f13d401-9548-4cef-8915-46685c204eb8"
   },
   "outputs": [
    {
     "name": "stderr",
     "output_type": "stream",
     "text": [
      "/usr/local/lib/python3.11/dist-packages/huggingface_hub/utils/_auth.py:94: UserWarning: \n",
      "The secret `HF_TOKEN` does not exist in your Colab secrets.\n",
      "To authenticate with the Hugging Face Hub, create a token in your settings tab (https://huggingface.co/settings/tokens), set it as secret in your Google Colab and restart your session.\n",
      "You will be able to reuse this secret in all of your notebooks.\n",
      "Please note that authentication is recommended but still optional to access public models or datasets.\n",
      "  warnings.warn(\n"
     ]
    },
    {
     "data": {
      "application/vnd.jupyter.widget-view+json": {
       "model_id": "5702b6df37a64119925baebdf8267e6e",
       "version_major": 2,
       "version_minor": 0
      },
      "text/plain": [
       "config.json:   0%|          | 0.00/866 [00:00<?, ?B/s]"
      ]
     },
     "metadata": {},
     "output_type": "display_data"
    },
    {
     "data": {
      "application/vnd.jupyter.widget-view+json": {
       "model_id": "476e6aa0a8cb42c897429dccca8abed9",
       "version_major": 2,
       "version_minor": 0
      },
      "text/plain": [
       "model.safetensors:   0%|          | 0.00/46.7M [00:00<?, ?B/s]"
      ]
     },
     "metadata": {},
     "output_type": "display_data"
    },
    {
     "data": {
      "application/vnd.jupyter.widget-view+json": {
       "model_id": "33471443da1142eb8989397217227c27",
       "version_major": 2,
       "version_minor": 0
      },
      "text/plain": [
       "tokenizer_config.json:   0%|          | 0.00/1.41k [00:00<?, ?B/s]"
      ]
     },
     "metadata": {},
     "output_type": "display_data"
    },
    {
     "data": {
      "application/vnd.jupyter.widget-view+json": {
       "model_id": "ae9fbdd63043499192f1d8b53064fbdc",
       "version_major": 2,
       "version_minor": 0
      },
      "text/plain": [
       "spiece.model:   0%|          | 0.00/760k [00:00<?, ?B/s]"
      ]
     },
     "metadata": {},
     "output_type": "display_data"
    },
    {
     "data": {
      "application/vnd.jupyter.widget-view+json": {
       "model_id": "7879c550f40946b3ac6dc908230c132b",
       "version_major": 2,
       "version_minor": 0
      },
      "text/plain": [
       "tokenizer.json:   0%|          | 0.00/2.27M [00:00<?, ?B/s]"
      ]
     },
     "metadata": {},
     "output_type": "display_data"
    },
    {
     "data": {
      "application/vnd.jupyter.widget-view+json": {
       "model_id": "bad273878e754635b9c2a3730bb691f4",
       "version_major": 2,
       "version_minor": 0
      },
      "text/plain": [
       "special_tokens_map.json:   0%|          | 0.00/970 [00:00<?, ?B/s]"
      ]
     },
     "metadata": {},
     "output_type": "display_data"
    },
    {
     "data": {
      "text/plain": [
       "('onnx_models/Ariffiq99/CRAB_COPA_KUCI_e_care_albert_Base_Finetuned/tokenizer_config.json',\n",
       " 'onnx_models/Ariffiq99/CRAB_COPA_KUCI_e_care_albert_Base_Finetuned/special_tokens_map.json',\n",
       " 'onnx_models/Ariffiq99/CRAB_COPA_KUCI_e_care_albert_Base_Finetuned/spiece.model',\n",
       " 'onnx_models/Ariffiq99/CRAB_COPA_KUCI_e_care_albert_Base_Finetuned/added_tokens.json',\n",
       " 'onnx_models/Ariffiq99/CRAB_COPA_KUCI_e_care_albert_Base_Finetuned/tokenizer.json')"
      ]
     },
     "execution_count": 2,
     "metadata": {},
     "output_type": "execute_result"
    }
   ],
   "source": [
    "from transformers import AutoTokenizer\n",
    "from optimum.onnxruntime import ORTModelForMultipleChoice\n",
    "\n",
    "MODEL_NAME = \"Ariffiq99/CRAB_COPA_KUCI_e_care_albert_Base_Finetuned\"\n",
    "EXPORT_PATH = f\"onnx_models/{MODEL_NAME}\"\n",
    "\n",
    "ort_model = ORTModelForMultipleChoice.from_pretrained(MODEL_NAME, export=True)\n",
    "ort_model.save_pretrained(EXPORT_PATH)\n",
    "\n",
    "tokenizer = AutoTokenizer.from_pretrained(MODEL_NAME)\n",
    "tokenizer.save_pretrained(EXPORT_PATH)"
   ]
  },
  {
   "cell_type": "markdown",
   "metadata": {
    "id": "e1696tiVO51u"
   },
   "source": [
    "Let's have a look inside these two directories and see what we are dealing with:"
   ]
  },
  {
   "cell_type": "code",
   "execution_count": 3,
   "metadata": {
    "colab": {
     "base_uri": "https://localhost:8080/"
    },
    "id": "NFamGuT4OJC2",
    "outputId": "b2505f6c-5faf-48da-93ce-1aac79958eb6"
   },
   "outputs": [
    {
     "name": "stdout",
     "output_type": "stream",
     "text": [
      "total 48M\n",
      "-rw-r--r-- 1 root root  871 Jun 25 10:23 config.json\n",
      "-rw-r--r-- 1 root root  45M Jun 25 10:23 model.onnx\n",
      "-rw-r--r-- 1 root root  970 Jun 25 10:23 special_tokens_map.json\n",
      "-rw-r--r-- 1 root root 743K Jun 25 10:23 spiece.model\n",
      "-rw-r--r-- 1 root root 1.5K Jun 25 10:23 tokenizer_config.json\n",
      "-rw-r--r-- 1 root root 2.2M Jun 25 10:23 tokenizer.json\n"
     ]
    }
   ],
   "source": [
    "!ls -lh {EXPORT_PATH}"
   ]
  },
  {
   "cell_type": "markdown",
   "metadata": {
    "id": "THEhUhYRO6-y"
   },
   "source": [
    "We need the `spiece.model` for the Tokenizer. This is the same for every model, these are assets (saved in /assets) needed for tokenization inside Spark NLP."
   ]
  },
  {
   "cell_type": "code",
   "execution_count": 4,
   "metadata": {
    "id": "N_-ljjz1PVLD"
   },
   "outputs": [],
   "source": [
    "!mkdir {EXPORT_PATH}/assets && mv {EXPORT_PATH}/spiece.model {EXPORT_PATH}/assets/"
   ]
  },
  {
   "cell_type": "code",
   "execution_count": 5,
   "metadata": {
    "colab": {
     "base_uri": "https://localhost:8080/"
    },
    "id": "1BcINpaqPmgQ",
    "outputId": "8eeb9e59-cfbb-4601-ae5d-48cf8105b6cc"
   },
   "outputs": [
    {
     "name": "stdout",
     "output_type": "stream",
     "text": [
      "onnx_models/Ariffiq99/CRAB_COPA_KUCI_e_care_albert_Base_Finetuned:\n",
      "total 48312\n",
      "drwxr-xr-x 2 root root     4096 Jun 25 10:23 assets\n",
      "-rw-r--r-- 1 root root      871 Jun 25 10:23 config.json\n",
      "-rw-r--r-- 1 root root 47180962 Jun 25 10:23 model.onnx\n",
      "-rw-r--r-- 1 root root      970 Jun 25 10:23 special_tokens_map.json\n",
      "-rw-r--r-- 1 root root     1442 Jun 25 10:23 tokenizer_config.json\n",
      "-rw-r--r-- 1 root root  2272611 Jun 25 10:23 tokenizer.json\n",
      "\n",
      "onnx_models/Ariffiq99/CRAB_COPA_KUCI_e_care_albert_Base_Finetuned/assets:\n",
      "total 744\n",
      "-rw-r--r-- 1 root root 760289 Jun 25 10:23 spiece.model\n"
     ]
    }
   ],
   "source": [
    "!ls -lR {EXPORT_PATH}"
   ]
  },
  {
   "cell_type": "markdown",
   "metadata": {
    "id": "rOT64bl9Ppk-"
   },
   "source": [
    "Voila! We have our vocab.txt inside assets directory"
   ]
  },
  {
   "cell_type": "markdown",
   "metadata": {
    "id": "3rgd1jHMRC7q"
   },
   "source": [
    "## Import and Save AlbertForMultipleChoice in Spark NLP"
   ]
  },
  {
   "cell_type": "markdown",
   "metadata": {
    "id": "N0dY2lHcRG5t"
   },
   "source": [
    "- Install and set up Spark NLP in Google Colab\n",
    "- This example uses specific versions of `pyspark` and `spark-nlp` that have been tested with the transformer model to ensure everything runs smoothly."
   ]
  },
  {
   "cell_type": "code",
   "execution_count": 6,
   "metadata": {
    "colab": {
     "base_uri": "https://localhost:8080/"
    },
    "id": "9ld2osF6STCv",
    "outputId": "8ef9a41b-3f6e-4e02-bf6e-fbc7aa593bf0"
   },
   "outputs": [
    {
     "name": "stdout",
     "output_type": "stream",
     "text": [
      "\u001b[?25l   \u001b[90m━━━━━━━━━━━━━━━━━━━━━━━━━━━━━━━━━━━━━━━━\u001b[0m \u001b[32m0.0/713.0 kB\u001b[0m \u001b[31m?\u001b[0m eta \u001b[36m-:--:--\u001b[0m\r\n",
      "\u001b[2K   \u001b[90m━━━━━━━━━━━━━━━━━━━━━━━━━━━━━━━━━━━━━━━━\u001b[0m \u001b[32m713.0/713.0 kB\u001b[0m \u001b[31m24.6 MB/s\u001b[0m eta \u001b[36m0:00:00\u001b[0m\n",
      "\u001b[?25h"
     ]
    }
   ],
   "source": [
    "!pip install -q spark-nlp==6.0.3 pyspark==3.5.1"
   ]
  },
  {
   "cell_type": "code",
   "execution_count": 7,
   "metadata": {
    "colab": {
     "base_uri": "https://localhost:8080/"
    },
    "id": "u1kTC9LQRHbg",
    "outputId": "d60abbb1-99c4-4f77-da91-06c6fa5a4489"
   },
   "outputs": [
    {
     "name": "stdout",
     "output_type": "stream",
     "text": [
      "Spark NLP version:  6.0.3\n",
      "Apache Spark version:  3.5.1\n"
     ]
    }
   ],
   "source": [
    "import sparknlp\n",
    "\n",
    "spark = sparknlp.start()\n",
    "\n",
    "print(\"Spark NLP version: \", sparknlp.version())\n",
    "print(\"Apache Spark version: \", spark.version)"
   ]
  },
  {
   "cell_type": "markdown",
   "metadata": {
    "id": "h3lTxyr-R9LH"
   },
   "source": [
    "- Let's use `loadSavedModel` functon in `AlbertForMultipleChoice` which allows us to load TensorFlow model in SavedModel format\n",
    "- Most params can be set later when you are loading this model in `AlbertForMultipleChoice` in runtime like `setMaxSentenceLength`, so don't worry what you are setting them now\n",
    "- `loadSavedModel` accepts two params, first is the path to the TF SavedModel. The second is the SparkSession that is `spark` variable we previously started via `sparknlp.start()`\n",
    "- NOTE: `loadSavedModel` accepts local paths in addition to distributed file systems such as `HDFS`, `S3`, `DBFS`, etc. This feature was introduced in Spark NLP 4.2.2 release. Keep in mind the best and recommended way to move/share/reuse Spark NLP models is to use `write.save` so you can use `.load()` from any file systems natively."
   ]
  },
  {
   "cell_type": "code",
   "execution_count": 8,
   "metadata": {
    "id": "6O6v4t3HSFRU"
   },
   "outputs": [],
   "source": [
    "from sparknlp.annotator import AlbertForMultipleChoice\n",
    "\n",
    "albertMultpleChoiceClassifier = AlbertForMultipleChoice.loadSavedModel(\n",
    "     f\"{EXPORT_PATH}\",\n",
    "     spark\n",
    " )\\\n",
    "  .setInputCols([\"document_question\", \"document_context\"])\\\n",
    "  .setOutputCol(\"answer\")"
   ]
  },
  {
   "cell_type": "markdown",
   "metadata": {
    "id": "OmxG3UynSxFf"
   },
   "source": [
    "Let's save it on disk so it is easier to be moved around and also be used later via .load function"
   ]
  },
  {
   "cell_type": "code",
   "execution_count": 9,
   "metadata": {
    "id": "dl9v_UCISfbJ"
   },
   "outputs": [],
   "source": [
    "albertMultpleChoiceClassifier.write().overwrite().save(\"./{}_spark_nlp_onnx\".format(MODEL_NAME))"
   ]
  },
  {
   "cell_type": "markdown",
   "metadata": {
    "id": "YPSFjBLuS2Lk"
   },
   "source": [
    "Let's clean up stuff we don't need anymore"
   ]
  },
  {
   "cell_type": "code",
   "execution_count": 10,
   "metadata": {
    "id": "spbp5G5sS2lR"
   },
   "outputs": [],
   "source": [
    "!rm -rf {EXPORT_PATH}"
   ]
  },
  {
   "cell_type": "markdown",
   "metadata": {
    "id": "LxK9WcnJS_XC"
   },
   "source": [
    "Now let's see how we can use it on other machines, clusters, or any place you wish to use your new and shiny `AlbertForMultipleChoice` model in Spark NLP 🚀 pipeline!"
   ]
  },
  {
   "cell_type": "code",
   "execution_count": 11,
   "metadata": {
    "colab": {
     "base_uri": "https://localhost:8080/"
    },
    "id": "pdfTaPAAkp-o",
    "outputId": "5e0a9dfb-26e4-4953-ea04-58b6833057b6"
   },
   "outputs": [
    {
     "name": "stdout",
     "output_type": "stream",
     "text": [
      "+------------------------------------------------------------------------------------------+------------------------------------------------------------------------+\n",
      "|question                                                                                  |choices                                                                 |\n",
      "+------------------------------------------------------------------------------------------+------------------------------------------------------------------------+\n",
      "|In Italy, pizza served in formal settings, such as at a restaurant, is presented unsliced.|It is eaten with a fork and a knife, It is eaten while held in the hand.|\n",
      "|The Eiffel Tower is located in which country?                                             |Germany, France, Italy                                                  |\n",
      "|Which animal is known as the king of the jungle?                                          |Lion, Elephant, Tiger, Leopard                                          |\n",
      "|Water boils at what temperature?                                                          |90°C, 120°C, 100°C                                                      |\n",
      "|Which planet is known as the Red Planet?                                                  |Jupiter, Mars, Venus                                                    |\n",
      "|Which language is primarily spoken in Brazil?                                             |Spanish, Portuguese, English                                            |\n",
      "|The Great Wall of China was built to protect against invasions from which group?          |The Greeks, The Romans, The Mongols, The Persians                       |\n",
      "|Which chemical element has the symbol 'O'?                                                |Oxygenm, Osmium, Ozone                                                  |\n",
      "|Which continent is the Sahara Desert located in?                                          |Asia, Africa, South America                                             |\n",
      "|Which artist painted the Mona Lisa?                                                       |Vincent van Gogh, Leonardo da Vinci, Pablo Picasso                      |\n",
      "+------------------------------------------------------------------------------------------+------------------------------------------------------------------------+\n",
      "\n"
     ]
    }
   ],
   "source": [
    "data = spark.createDataFrame([\n",
    "    (\"In Italy, pizza served in formal settings, such as at a restaurant, is presented unsliced.\",\n",
    "     \"It is eaten with a fork and a knife, It is eaten while held in the hand.\"),\n",
    "    (\"The Eiffel Tower is located in which country?\", \"Germany, France, Italy\"),\n",
    "    (\"Which animal is known as the king of the jungle?\", \"Lion, Elephant, Tiger, Leopard\"),\n",
    "    (\"Water boils at what temperature?\", \"90°C, 120°C, 100°C\"),\n",
    "    (\"Which planet is known as the Red Planet?\", \"Jupiter, Mars, Venus\"),\n",
    "    (\"Which language is primarily spoken in Brazil?\", \"Spanish, Portuguese, English\"),\n",
    "    (\"The Great Wall of China was built to protect against invasions from which group?\",\n",
    "     \"The Greeks, The Romans, The Mongols, The Persians\"),\n",
    "    (\"Which chemical element has the symbol 'O'?\", \"Oxygenm, Osmium, Ozone\"),\n",
    "    (\"Which continent is the Sahara Desert located in?\", \"Asia, Africa, South America\"),\n",
    "    (\"Which artist painted the Mona Lisa?\", \"Vincent van Gogh, Leonardo da Vinci, Pablo Picasso\")\n",
    "], [\"question\", \"choices\"])\n",
    "\n",
    "data.show(truncate=False)"
   ]
  },
  {
   "cell_type": "code",
   "execution_count": 12,
   "metadata": {
    "colab": {
     "base_uri": "https://localhost:8080/"
    },
    "id": "-089n4K2lIbg",
    "outputId": "7b1bd029-783d-409e-fc77-eb5da750de6d"
   },
   "outputs": [
    {
     "name": "stdout",
     "output_type": "stream",
     "text": [
      "+------------------------------------------------------------------------------------------+------------------------------------------------------------------------+--------------------------------------+\n",
      "|question                                                                                  |choices                                                                 |result                                |\n",
      "+------------------------------------------------------------------------------------------+------------------------------------------------------------------------+--------------------------------------+\n",
      "|In Italy, pizza served in formal settings, such as at a restaurant, is presented unsliced.|It is eaten with a fork and a knife, It is eaten while held in the hand.|[ It is eaten while held in the hand.]|\n",
      "|The Eiffel Tower is located in which country?                                             |Germany, France, Italy                                                  |[ Italy]                              |\n",
      "|Which animal is known as the king of the jungle?                                          |Lion, Elephant, Tiger, Leopard                                          |[ Elephant]                           |\n",
      "|Water boils at what temperature?                                                          |90°C, 120°C, 100°C                                                      |[ 100°C]                              |\n",
      "|Which planet is known as the Red Planet?                                                  |Jupiter, Mars, Venus                                                    |[ Mars]                               |\n",
      "|Which language is primarily spoken in Brazil?                                             |Spanish, Portuguese, English                                            |[ Portuguese]                         |\n",
      "|The Great Wall of China was built to protect against invasions from which group?          |The Greeks, The Romans, The Mongols, The Persians                       |[ The Mongols]                        |\n",
      "|Which chemical element has the symbol 'O'?                                                |Oxygenm, Osmium, Ozone                                                  |[ Osmium]                             |\n",
      "|Which continent is the Sahara Desert located in?                                          |Asia, Africa, South America                                             |[ South America]                      |\n",
      "|Which artist painted the Mona Lisa?                                                       |Vincent van Gogh, Leonardo da Vinci, Pablo Picasso                      |[ Pablo Picasso]                      |\n",
      "+------------------------------------------------------------------------------------------+------------------------------------------------------------------------+--------------------------------------+\n",
      "\n"
     ]
    }
   ],
   "source": [
    "from sparknlp.base import MultiDocumentAssembler\n",
    "from sparknlp.annotator import AlbertForMultipleChoice\n",
    "from pyspark.ml import Pipeline\n",
    "\n",
    "document_assembler = MultiDocumentAssembler() \\\n",
    "    .setInputCols([\"question\", \"choices\"]) \\\n",
    "    .setOutputCols([\"document_question\", \"document_choices\"])\n",
    "\n",
    "albert_for_multiple_choice = AlbertForMultipleChoice() \\\n",
    "    .load(f\"./{MODEL_NAME}_spark_nlp_onnx\") \\\n",
    "    .setInputCols([\"document_question\", \"document_choices\"]) \\\n",
    "    .setOutputCol(\"answer\") \\\n",
    "    .setBatchSize(4)\n",
    "\n",
    "pipeline = Pipeline(stages=[\n",
    "    document_assembler,\n",
    "    albert_for_multiple_choice\n",
    "])\n",
    "\n",
    "model = pipeline.fit(data)\n",
    "results = model.transform(data)\n",
    "\n",
    "results.select(\"question\", \"choices\", \"answer.result\").show(truncate=False)"
   ]
  }
 ],
 "metadata": {
  "accelerator": "GPU",
  "colab": {
   "gpuType": "T4",
   "machine_shape": "hm",
   "provenance": []
  },
  "kernelspec": {
   "display_name": "Python 3 (ipykernel)",
   "language": "python",
   "name": "python3"
  },
  "language_info": {
   "codemirror_mode": {
    "name": "ipython",
    "version": 3
   },
   "file_extension": ".py",
   "mimetype": "text/x-python",
   "name": "python",
   "nbconvert_exporter": "python",
   "pygments_lexer": "ipython3",
   "version": "3.10.12"
  }
 },
 "nbformat": 4,
 "nbformat_minor": 0
}
