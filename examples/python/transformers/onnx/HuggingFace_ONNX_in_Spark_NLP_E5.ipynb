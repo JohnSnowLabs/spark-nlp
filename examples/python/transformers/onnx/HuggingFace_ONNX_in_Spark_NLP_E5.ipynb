{
  "cells": [
    {
      "cell_type": "markdown",
      "metadata": {
        "id": "inxS_UuG7k1K"
      },
      "source": [
        "![JohnSnowLabs](https://sparknlp.org/assets/images/logo.png)\n",
        "\n",
        "[![Open In Colab](https://colab.research.google.com/assets/colab-badge.svg)](https://colab.research.google.com/github/JohnSnowLabs/spark-nlp/blob/master/examples/python/transformers/onnx/HuggingFace_ONNX_in_Spark_NLP_E5.ipynb)\n",
        "\n",
        "# Import ONNX E5 models from HuggingFace 🤗 into Spark NLP 🚀\n",
        "\n",
        "Let's keep in mind a few things before we start 😊\n",
        "\n",
        "- ONNX support for this annotator was introduced in  `Spark NLP 5.1.0`, enabling high performance inference for models. Please make sure you have upgraded to the latest Spark NLP release.\n",
        "- You can import models for E5 from HuggingFace and they have to be in `Sentence Similarity` category. Meaning, you cannot use E5 models trained/fine-tuned on a specific task such as token/sequence classification."
      ]
    },
    {
      "cell_type": "markdown",
      "metadata": {
        "id": "rES2GQnL7k1L"
      },
      "source": [
        "## Export and Save HuggingFace model"
      ]
    },
    {
      "cell_type": "markdown",
      "metadata": {
        "id": "_J-t5wW37k1M"
      },
      "source": [
        "- Let's install `transformers` package with the `onnx` extension and it's dependencies. You don't need `onnx` to be installed for Spark NLP, however, we need it to load and save models from HuggingFace.\n",
        "- We lock `transformers` on version `4.48.3`. This doesn't mean it won't work with the future releases, but we wanted you to know which versions have been tested successfully."
      ]
    },
    {
      "cell_type": "code",
      "execution_count": null,
      "metadata": {
        "colab": {
          "base_uri": "https://localhost:8080/"
        },
        "id": "0OBtmDTB7k1M",
        "outputId": "05376460-a6c4-4f3a-8c74-903a5fdb799c"
      },
      "outputs": [],
      "source": [
        "!pip install -q --upgrade transformers[onnx]==4.48.3 optimum==1.24.0 sentencepiece==0.2.0 tensorflow==2.18.0"
      ]
    },
    {
      "cell_type": "markdown",
      "metadata": {
        "id": "M6DKNctk7k1N"
      },
      "source": [
        "- HuggingFace has an extension called Optimum which offers specialized model inference, including ONNX. We can use this to import and export ONNX models with `from_pretrained` and `save_pretrained`.\n",
        "- We'll use [intfloat/e5-small-v2](https://huggingface.co/intfloat/e5-small-v2) model from HuggingFace as an example and load it as a `ORTModelForFeatureExtraction`, representing an ONNX model.\n"
      ]
    },
    {
      "cell_type": "code",
      "execution_count": 2,
      "metadata": {
        "colab": {
          "base_uri": "https://localhost:8080/",
          "height": 313,
          "referenced_widgets": [
            "eed815e2c36145a5a42ea049c267e8cf",
            "2c69b5ff9790419185806e0bd9cc58fd",
            "b01958b758eb4bceb9690ab5a5517cf1",
            "04c878968980401d9a0796a0d6c5f29a",
            "1972ff160f3f43958b108a4e5b0da8d4",
            "e5d77e97472f44889ad05cf808ae6941",
            "04957ab85e1f4c3483dc406d116fdeea",
            "7da804abcd414ac18213b2e4b3654585",
            "cf5970127c3c4834a735d5744f055415",
            "d35b8794ef984c9aae7233d50e6cc2a0",
            "7c2a589f4101490ab76179d36afa4c6f",
            "ab932c946fc44683b2ed5127e6966ef8",
            "c3ffa68b7a1647a68dbe9cc134c3c2a2",
            "45cab204672c4712abc10bb72c412870",
            "ddb4f4f273ed4b6b8f8f8b5c57c76283",
            "fe9fb4ff2c4647ca9978cffe3d6674df",
            "af45bb6135a24b2084f280f0f8bd3aa2",
            "429af2f9cf47471597b770c202a965b6",
            "49ba76c03c484d2a8944ac7bbee80144",
            "215a60b7294b4b2fb79d3870a28e75ed",
            "bf6ed94323f046ce8bc7a3a275648d65",
            "2803e1e1e7ce4c02883049c05685fc5b",
            "993d76f9227443dbadef8adf9830b25a",
            "18dc818b04f6459f82561f52aafc05ca",
            "a7cddc32de7d4c34add5f4652ee7a759",
            "2bc35343f7944ab1ac19ff2f5ff99766",
            "0e7c16ca914f418f9d4f8aca0be7830b",
            "c9d1b3a081ac4791b0aa35c14e7abcf6",
            "faf399ee997a482796589a6c77e8dbed",
            "0b9d06c0ea484c5c88d805e480ae65c3",
            "c299ac3b6fe6414695b9fbcd20d708d5",
            "c7d3845e67864c77b04099df009720bb",
            "7c83067994fd4ac683394791b6a1c730",
            "ca13f7ab581b4b76b3a8c6a98fac47c3",
            "1d86bad3dfe94c66a825babc223a974b",
            "04d00194f85d40f8822ed98751d5306e",
            "204d76c128ba4e5fadba470a1baa7998",
            "360974ec195a4f24a7d262866f2ca555",
            "c2d8977b2e5c4f05bc94a730b4e8d613",
            "7f7528ce2d05422ab31a68a75e431630",
            "da2df5f4f4b4425ba6bd9dbb1d418ccc",
            "b525c006f8dd40a5b72121a9747419d4",
            "4057db1facac43e18e60bb1cb0c8a54c",
            "cb4b41ed4a09400f902452641ea7cd57",
            "b247ab714eb749459c6bc514ab566108",
            "7bea1cd1021b4f41b33231a5bb00adc2",
            "239af98549ec4e4983d063e271118f3e",
            "2b828906a5864860af004d292c8633f6",
            "e13ddc025a3349afbedb6078a1a1ffd3",
            "994117b40c8647949898b0902a313081",
            "854213b5b856472c875c15de7467d168",
            "4c7a7f6930eb429f855ba6365dd492f6",
            "373f2153dc3440bfb79234463bfbca82",
            "9399d99c2274495a823453e470721ed4",
            "4f624dbefcb04307af4d019bd8ff8049",
            "a8be16953623425eb8de9191ee6533fb",
            "433be6b5215045a4b27901109a3868c4",
            "2f5195b0274a4b61b76b2806fbb9183b",
            "ed8a8d29f0e946f9ae52f736cb36fc1e",
            "6939c4d163d9452a97bbee90e4bc1738",
            "996b4dc524a744cf9e353eb32cc40da4",
            "009ab4da6ac04943a14a3314fd275b6b",
            "4858ed2301b5415b95fdf362f348925b",
            "947b8b2c576b4949bce2567d2671b77a",
            "5793b19398034003a4acad8b5d3e00f2",
            "2d103ee6bc4d4527b450aaaa251e6aef"
          ]
        },
        "id": "Nrcm1-V-7k1N",
        "outputId": "dc4df420-bddf-41f4-e6ba-8535b70e2755"
      },
      "outputs": [
        {
          "name": "stderr",
          "output_type": "stream",
          "text": [
            "/usr/local/lib/python3.11/dist-packages/huggingface_hub/utils/_auth.py:94: UserWarning: \n",
            "The secret `HF_TOKEN` does not exist in your Colab secrets.\n",
            "To authenticate with the Hugging Face Hub, create a token in your settings tab (https://huggingface.co/settings/tokens), set it as secret in your Google Colab and restart your session.\n",
            "You will be able to reuse this secret in all of your notebooks.\n",
            "Please note that authentication is recommended but still optional to access public models or datasets.\n",
            "  warnings.warn(\n"
          ]
        },
        {
          "data": {
            "application/vnd.jupyter.widget-view+json": {
              "model_id": "eed815e2c36145a5a42ea049c267e8cf",
              "version_major": 2,
              "version_minor": 0
            },
            "text/plain": [
              "config.json:   0%|          | 0.00/615 [00:00<?, ?B/s]"
            ]
          },
          "metadata": {},
          "output_type": "display_data"
        },
        {
          "data": {
            "application/vnd.jupyter.widget-view+json": {
              "model_id": "ab932c946fc44683b2ed5127e6966ef8",
              "version_major": 2,
              "version_minor": 0
            },
            "text/plain": [
              "model.safetensors:   0%|          | 0.00/133M [00:00<?, ?B/s]"
            ]
          },
          "metadata": {},
          "output_type": "display_data"
        },
        {
          "data": {
            "application/vnd.jupyter.widget-view+json": {
              "model_id": "993d76f9227443dbadef8adf9830b25a",
              "version_major": 2,
              "version_minor": 0
            },
            "text/plain": [
              "tokenizer_config.json:   0%|          | 0.00/314 [00:00<?, ?B/s]"
            ]
          },
          "metadata": {},
          "output_type": "display_data"
        },
        {
          "data": {
            "application/vnd.jupyter.widget-view+json": {
              "model_id": "ca13f7ab581b4b76b3a8c6a98fac47c3",
              "version_major": 2,
              "version_minor": 0
            },
            "text/plain": [
              "vocab.txt:   0%|          | 0.00/232k [00:00<?, ?B/s]"
            ]
          },
          "metadata": {},
          "output_type": "display_data"
        },
        {
          "data": {
            "application/vnd.jupyter.widget-view+json": {
              "model_id": "b247ab714eb749459c6bc514ab566108",
              "version_major": 2,
              "version_minor": 0
            },
            "text/plain": [
              "tokenizer.json:   0%|          | 0.00/711k [00:00<?, ?B/s]"
            ]
          },
          "metadata": {},
          "output_type": "display_data"
        },
        {
          "data": {
            "application/vnd.jupyter.widget-view+json": {
              "model_id": "a8be16953623425eb8de9191ee6533fb",
              "version_major": 2,
              "version_minor": 0
            },
            "text/plain": [
              "special_tokens_map.json:   0%|          | 0.00/125 [00:00<?, ?B/s]"
            ]
          },
          "metadata": {},
          "output_type": "display_data"
        }
      ],
      "source": [
        "from optimum.onnxruntime import ORTModelForFeatureExtraction\n",
        "\n",
        "MODEL_NAME = \"intfloat/e5-small-v2\"\n",
        "EXPORT_PATH = f\"onnx_models/{MODEL_NAME}\"\n",
        "\n",
        "ort_model = ORTModelForFeatureExtraction.from_pretrained(MODEL_NAME, export=True)\n",
        "ort_model.save_pretrained(EXPORT_PATH)"
      ]
    },
    {
      "cell_type": "markdown",
      "metadata": {
        "id": "EbR3_SbG7k1O"
      },
      "source": [
        "Let's have a look inside these two directories and see what we are dealing with:"
      ]
    },
    {
      "cell_type": "code",
      "execution_count": 3,
      "metadata": {
        "colab": {
          "base_uri": "https://localhost:8080/"
        },
        "id": "cosFNNCM7k1P",
        "outputId": "1d5aa93d-a4e0-4d38-974c-f2709aa10620"
      },
      "outputs": [
        {
          "name": "stdout",
          "output_type": "stream",
          "text": [
            "total 130948\n",
            "-rw-r--r-- 1 root root       626 Jun 14 02:47 config.json\n",
            "-rw-r--r-- 1 root root 133126567 Jun 14 02:47 model.onnx\n",
            "-rw-r--r-- 1 root root       695 Jun 14 02:47 special_tokens_map.json\n",
            "-rw-r--r-- 1 root root      1220 Jun 14 02:47 tokenizer_config.json\n",
            "-rw-r--r-- 1 root root    711396 Jun 14 02:47 tokenizer.json\n",
            "-rw-r--r-- 1 root root    231508 Jun 14 02:47 vocab.txt\n"
          ]
        }
      ],
      "source": [
        "!ls -l {EXPORT_PATH}"
      ]
    },
    {
      "cell_type": "markdown",
      "metadata": {
        "id": "798b38QCdyZ3"
      },
      "source": [
        "Spark NLP requires auxiliary model files, such as the tokenizer vocabulary, to be placed in a dedicated `assets` directory for proper loading and compatibility."
      ]
    },
    {
      "cell_type": "code",
      "execution_count": 4,
      "metadata": {
        "id": "NEZFlNVrdmPR"
      },
      "outputs": [],
      "source": [
        "!mkdir -p {EXPORT_PATH}/assets && mv {EXPORT_PATH}/vocab.txt {EXPORT_PATH}/assets/"
      ]
    },
    {
      "cell_type": "code",
      "execution_count": 5,
      "metadata": {
        "colab": {
          "base_uri": "https://localhost:8080/"
        },
        "id": "FmE_V8JI7k1P",
        "outputId": "d015a068-9514-4c2a-c9d7-6eba98d9f472"
      },
      "outputs": [
        {
          "name": "stdout",
          "output_type": "stream",
          "text": [
            "total 228\n",
            "-rw-r--r-- 1 root root 231508 Jun 14 02:47 vocab.txt\n"
          ]
        }
      ],
      "source": [
        "!ls -l {EXPORT_PATH}/assets"
      ]
    },
    {
      "cell_type": "markdown",
      "metadata": {
        "id": "l13211A1eFip"
      },
      "source": [
        "Voilà! We've successfully organized all the necessary assets into their designated directory."
      ]
    },
    {
      "cell_type": "markdown",
      "metadata": {
        "id": "jFxCu5FZ7k1R"
      },
      "source": [
        "## Import and Save E5 in Spark NLP\n",
        "\n",
        "- **Install and set up Spark NLP in Google Colab**\n",
        "- This example uses specific versions of `pyspark` and `spark-nlp` that have been tested with the transformer model to ensure everything runs smoothly."
      ]
    },
    {
      "cell_type": "code",
      "execution_count": 6,
      "metadata": {
        "colab": {
          "base_uri": "https://localhost:8080/"
        },
        "id": "IND1Fqp07k1R",
        "outputId": "f0ab101a-63ee-4ec7-83de-fc3b26886955"
      },
      "outputs": [
        {
          "name": "stdout",
          "output_type": "stream",
          "text": [
            "\u001b[2K     \u001b[90m━━━━━━━━━━━━━━━━━━━━━━━━━━━━━━━━━━━━━━━━\u001b[0m \u001b[32m317.3/317.3 MB\u001b[0m \u001b[31m4.0 MB/s\u001b[0m eta \u001b[36m0:00:00\u001b[0m\n",
            "\u001b[?25h  Preparing metadata (setup.py) ... \u001b[?25l\u001b[?25hdone\n",
            "\u001b[2K   \u001b[90m━━━━━━━━━━━━━━━━━━━━━━━━━━━━━━━━━━━━━━━━\u001b[0m \u001b[32m635.7/635.7 kB\u001b[0m \u001b[31m33.7 MB/s\u001b[0m eta \u001b[36m0:00:00\u001b[0m\n",
            "\u001b[?25h  Building wheel for pyspark (setup.py) ... \u001b[?25l\u001b[?25hdone\n"
          ]
        }
      ],
      "source": [
        "!pip install -q pyspark==3.5.4 spark-nlp==5.5.3"
      ]
    },
    {
      "cell_type": "markdown",
      "metadata": {
        "id": "2hAdyHc_7k1R"
      },
      "source": [
        "Let's start Spark with Spark NLP included via our simple `start()` function"
      ]
    },
    {
      "cell_type": "code",
      "execution_count": 7,
      "metadata": {
        "colab": {
          "base_uri": "https://localhost:8080/"
        },
        "id": "ViVKUlqj7k1S",
        "outputId": "a464144b-f2b0-4279-d156-844b0f44f45b"
      },
      "outputs": [
        {
          "name": "stdout",
          "output_type": "stream",
          "text": [
            "Spark NLP version:  5.5.3\n",
            "Apache Spark version:  3.5.4\n"
          ]
        }
      ],
      "source": [
        "import sparknlp\n",
        "\n",
        "spark = sparknlp.start()\n",
        "\n",
        "print(\"Spark NLP version: \", sparknlp.version())\n",
        "print(\"Apache Spark version: \", spark.version)"
      ]
    },
    {
      "cell_type": "markdown",
      "metadata": {
        "id": "fazfE9lb7k1S"
      },
      "source": [
        "- Let's use `loadSavedModel` functon in `E5Embeddings` which allows us to load the ONNX model\n",
        "- Most params will be set automatically. They can also be set later after loading the model in `E5Embeddings` during runtime, so don't worry about setting them now\n",
        "- `loadSavedModel` accepts two params, first is the path to the exported model. The second is the SparkSession that is `spark` variable we previously started via `sparknlp.start()`\n",
        "- NOTE: `loadSavedModel` accepts local paths in addition to distributed file systems such as `HDFS`, `S3`, `DBFS`, etc. This feature was introduced in Spark NLP 4.2.2 release. Keep in mind the best and recommended way to move/share/reuse Spark NLP models is to use `write.save` so you can use `.load()` from any file systems natively.st and recommended way to move/share/reuse Spark NLP models is to use `write.save` so you can use `.load()` from any file systems natively.\n"
      ]
    },
    {
      "cell_type": "code",
      "execution_count": 8,
      "metadata": {
        "id": "-soDJIu-7k1S"
      },
      "outputs": [],
      "source": [
        "from sparknlp.annotator import E5Embeddings\n",
        "\n",
        "E5 = E5Embeddings.loadSavedModel(f\"{EXPORT_PATH}\", spark)\\\n",
        "    .setInputCols([\"document\"])\\\n",
        "    .setOutputCol(\"E5\")"
      ]
    },
    {
      "cell_type": "markdown",
      "metadata": {
        "id": "0BU5PjTc7k1S"
      },
      "source": [
        "- Let's save it on disk so it is easier to be moved around and also be used later via `.load` function"
      ]
    },
    {
      "cell_type": "code",
      "execution_count": 9,
      "metadata": {
        "id": "jpUjHNk67k1T"
      },
      "outputs": [],
      "source": [
        "E5.write().overwrite().save(f\"{MODEL_NAME}_spark_nlp\")"
      ]
    },
    {
      "cell_type": "markdown",
      "metadata": {
        "id": "AbK6dSr37k1T"
      },
      "source": [
        "Let's clean up stuff we don't need anymore"
      ]
    },
    {
      "cell_type": "code",
      "execution_count": 10,
      "metadata": {
        "id": "A-RW-l_87k1T"
      },
      "outputs": [],
      "source": [
        "!rm -rf {EXPORT_PATH}"
      ]
    },
    {
      "cell_type": "markdown",
      "metadata": {
        "id": "hjuhoNym7k1U"
      },
      "source": [
        "Awesome  😎 !\n",
        "\n",
        "This is your ONNX E5 model from HuggingFace 🤗  loaded and saved by Spark NLP 🚀"
      ]
    },
    {
      "cell_type": "code",
      "execution_count": 11,
      "metadata": {
        "colab": {
          "base_uri": "https://localhost:8080/"
        },
        "id": "t8WxTSsS7k1U",
        "outputId": "cff4c2b2-3fcb-461f-e462-01d2139e458a"
      },
      "outputs": [
        {
          "name": "stdout",
          "output_type": "stream",
          "text": [
            "total 130036\n",
            "-rw-r--r-- 1 root root 133147016 Jun 14 02:50 e5_onnx\n",
            "drwxr-xr-x 3 root root      4096 Jun 14 02:50 fields\n",
            "drwxr-xr-x 2 root root      4096 Jun 14 02:50 metadata\n"
          ]
        }
      ],
      "source": [
        "! ls -l {MODEL_NAME}_spark_nlp"
      ]
    },
    {
      "cell_type": "markdown",
      "metadata": {
        "id": "qMb-ejgJ7k1U"
      },
      "source": [
        "Now let's see how we can use it on other machines, clusters, or any place you wish to use your new and shiny E5 model 😊"
      ]
    },
    {
      "cell_type": "code",
      "execution_count": 12,
      "metadata": {
        "colab": {
          "base_uri": "https://localhost:8080/"
        },
        "id": "YXy8sgat7k1U",
        "outputId": "5adca126-9cd1-4f1e-ee24-956ff542b59d"
      },
      "outputs": [
        {
          "name": "stdout",
          "output_type": "stream",
          "text": [
            "+--------------------+\n",
            "|          embeddings|\n",
            "+--------------------+\n",
            "|[-0.04292837, 0.0...|\n",
            "+--------------------+\n",
            "\n"
          ]
        }
      ],
      "source": [
        "from sparknlp.base import DocumentAssembler\n",
        "from sparknlp.annotator import E5Embeddings\n",
        "from pyspark.ml import Pipeline\n",
        "\n",
        "document_assembler = DocumentAssembler()\\\n",
        "    .setInputCol(\"text\")\\\n",
        "    .setOutputCol(\"document\")\n",
        "\n",
        "E5_loaded = E5Embeddings.load(f\"{MODEL_NAME}_spark_nlp\")\\\n",
        "    .setInputCols([\"document\"])\\\n",
        "    .setOutputCol(\"E5\")\n",
        "\n",
        "pipeline = Pipeline(stages=[\n",
        "    document_assembler,\n",
        "    E5_loaded\n",
        "])\n",
        "\n",
        "data = spark.createDataFrame([\n",
        "    [\"William Henry Gates III (born October 28, 1955) is an American business magnate, software developer, investor, and philanthropist.\"]\n",
        "]).toDF(\"text\")\n",
        "\n",
        "model = pipeline.fit(data)\n",
        "result = model.transform(data)\n",
        "result.selectExpr(\"explode(E5.embeddings) as embeddings\").show()"
      ]
    },
    {
      "cell_type": "markdown",
      "metadata": {
        "id": "sJqE6o8m7k1Z"
      },
      "source": [
        "That's it! You can now go wild and use hundreds of E5 models from HuggingFace 🤗 in Spark NLP 🚀\n"
      ]
    }
  ],
  "metadata": {
    "colab": {
      "provenance": []
    },
    "kernelspec": {
      "display_name": "Python 3 (ipykernel)",
      "language": "python",
      "name": "python3"
    },
    "language_info": {
      "codemirror_mode": {
        "name": "ipython",
        "version": 3
      },
      "file_extension": ".py",
      "mimetype": "text/x-python",
      "name": "python",
      "nbconvert_exporter": "python",
      "pygments_lexer": "ipython3"
    }
  },
  "nbformat": 4,
  "nbformat_minor": 0
}
