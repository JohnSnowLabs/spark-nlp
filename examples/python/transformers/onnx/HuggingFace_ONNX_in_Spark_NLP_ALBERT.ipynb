{
  "cells": [
    {
      "cell_type": "markdown",
      "metadata": {
        "id": "7UU9V11OLROu"
      },
      "source": [
        "![JohnSnowLabs](https://sparknlp.org/assets/images/logo.png)\n",
        "\n",
        "[![Open In Colab](https://colab.research.google.com/assets/colab-badge.svg)](https://colab.research.google.com/github/JohnSnowLabs/spark-nlp/blob/master/examples/python/transformers/onnx/HuggingFace_ONNX_in_Spark_NLP_ALBERT.ipynb)\n",
        "\n",
        "# Import ONNX ALBERT models from HuggingFace 🤗 into Spark NLP 🚀\n",
        "\n",
        "Let's keep in mind a few things before we start 😊\n",
        "\n",
        "- ONNX support was introduced in  `Spark NLP 5.0.0`, enabling high performance inference for models. Please make sure you have upgraded to the latest Spark NLP release.\n",
        "- You can import models for ALBERT from HuggingFace and they have to be in `Fill Mask` category. Meaning, you cannot use ALBERT models trained/fine-tuned on a specific task such as token/sequence classification."
      ]
    },
    {
      "cell_type": "markdown",
      "metadata": {
        "id": "1H0AfRJfLROy"
      },
      "source": [
        "## Export and Save HuggingFace model"
      ]
    },
    {
      "cell_type": "markdown",
      "metadata": {
        "id": "c7jWt__sLROz"
      },
      "source": [
        "- Let's install `transformers` package with the `onnx` extension and it's dependencies. You don't need `onnx` to be installed for Spark NLP, however, we need it to load and save models from HuggingFace.\n",
        "- We lock `transformers` on version `4.48.2`. This doesn't mean it won't work with the future releases, but we wanted you to know which versions have been tested successfully."
      ]
    },
    {
      "cell_type": "code",
      "execution_count": null,
      "metadata": {
        "colab": {
          "base_uri": "https://localhost:8080/"
        },
        "id": "bgAl5Z8JLROz",
        "outputId": "4a472f54-138c-4618-bc6d-2885ddfb5733"
      },
      "outputs": [],
      "source": [
        "!pip install -q --upgrade transformers[onnx]==4.48.2 optimum onnx"
      ]
    },
    {
      "cell_type": "markdown",
      "metadata": {
        "id": "v6vNRSueLRO1"
      },
      "source": [
        "- HuggingFace has an extension called Optimum which offers specialized model inference, including ONNX. We can use this to import and export ONNX models with `from_pretrained` and `save_pretrained`.\n",
        "- We'll use [albert-base-v2](https://huggingface.co/albert-base-v2 ) model from HuggingFace as an example and load it as a `ORTModelForFeatureExtraction`, representing an ONNX model.\n",
        "- In addition to the ALBERT model, we also need to save the `AlbertTokenizer`. This is the same for every model, these are assets (saved in `/assets`) needed for tokenization inside Spark NLP."
      ]
    },
    {
      "cell_type": "code",
      "execution_count": 2,
      "metadata": {
        "colab": {
          "base_uri": "https://localhost:8080/",
          "height": 368,
          "referenced_widgets": [
            "cc138e30f8c3432395b6f4cb34a2e926",
            "f455551906674e61bb4afceba97b2707",
            "ad3d075e77ea47fea582ff5351f44d61",
            "e21f6379d8844f9d855fef268bb5371e",
            "004db7be2de3479faaaf3a292ef7db55",
            "8a6d118ab60f443e9a8bcd211ee13f22",
            "65a250f73d77482788be813101604a4f",
            "002c42bb19ee4666a80cef6315dc2b13",
            "82ffa6488ccc4a919415565f9e39bc1e",
            "f807fdf26b27460f899330a2c214356f",
            "8b44963a9d574b32b2de65364b53096c",
            "aa831ea5d8df40b7a7e59ebcb72d83b1",
            "ea17161b15c548559fb4b6b7d304fdf8",
            "1d797c5c82c440408521daa49b8b1568",
            "3a627992d9074ba6919fc2552410a4f6",
            "1869949108634e749115daa00630e82a",
            "1c5ac3b4d29443689b215161b7c8ff83",
            "249e4d3286d34419a9342f9c18bce5ea",
            "f8f5ae2bfc334b469f3e2a08b94f3015",
            "6a75bb2eabc44d13a50d77dbc0ec23b0",
            "8d6d3e36a3874c39b723ef10ff02797e",
            "63a6d3ec3374452caf7c3618acbd5cea",
            "face48ab0b1848b28ab0742507fbf690",
            "b157fb7d410445dabbb6ae725c94d748",
            "3c2078edb97b4751800490b97c55e91b",
            "6ce2d97bde584994a6435a6bf6b9cf2f",
            "f83388fa40574516970fe9fa80d70a1d",
            "9e2ae326785640f59fa002b35538ec8c",
            "8c83066e0c16470dbf58edf19f319e58",
            "1a8fbdee0a674b3a91bd65fd93171b7b",
            "2dabb7b08d6a45a69d94e8ac84cedefe",
            "77dda792c166469389ece7e9d40d88ad",
            "7ff0e66026e445c0aea98c9f8448c867",
            "b8232ef2ddc1434fa6e2a47bb3a0320c",
            "0091a49858664a509d6ce18223696e8d",
            "058a5f4ed01f468c927762b59e45fa51",
            "ebf0f54023c4438bb07af60006cd46ef",
            "a607ffb9e83d40c4b548a42bee0a50c8",
            "d505528ca79641d1b09e8b4e306aee1d",
            "da0125733bd3409399e8b127145c7d17",
            "64a0128b84d746e08b762c194117bc39",
            "146c5ec49914422bafefd1988f6aeade",
            "34edb3c7527a4b96a7de9e22e265a152",
            "331dc01348154eb584bf959aa921887d",
            "a6cbc917913a4be399ac4210630a8cae",
            "8e218805950046c48ac3a776f607c0b0",
            "06bbade816834cd9b8aa65e502289c46",
            "4147d07cfde14175a8247e7882701e5c",
            "c408c23946ac4804b1bb575458fa5af0",
            "ecaf1de54b034ba497eacc6c02a4ca25",
            "3abd1a4e1a3b4fcfb2242a470f08d42b",
            "ffdc1a1183044b84925d0d9d7e3aefd5",
            "d5638fa479424d1d90bd033028e0a44f",
            "41b20ce1e6b44124bb6f34ed6f397d8d",
            "de863eaf21e84fb29582e95c2ef4ad02"
          ]
        },
        "id": "zPdyQEDWzxBp",
        "outputId": "20daf8de-d7ea-4ceb-9602-31f5afbd7981"
      },
      "outputs": [
        {
          "name": "stderr",
          "output_type": "stream",
          "text": [
            "/usr/local/lib/python3.11/dist-packages/huggingface_hub/utils/_auth.py:94: UserWarning: \n",
            "The secret `HF_TOKEN` does not exist in your Colab secrets.\n",
            "To authenticate with the Hugging Face Hub, create a token in your settings tab (https://huggingface.co/settings/tokens), set it as secret in your Google Colab and restart your session.\n",
            "You will be able to reuse this secret in all of your notebooks.\n",
            "Please note that authentication is recommended but still optional to access public models or datasets.\n",
            "  warnings.warn(\n"
          ]
        },
        {
          "data": {
            "application/vnd.jupyter.widget-view+json": {
              "model_id": "cc138e30f8c3432395b6f4cb34a2e926",
              "version_major": 2,
              "version_minor": 0
            },
            "text/plain": [
              "config.json:   0%|          | 0.00/684 [00:00<?, ?B/s]"
            ]
          },
          "metadata": {},
          "output_type": "display_data"
        },
        {
          "data": {
            "application/vnd.jupyter.widget-view+json": {
              "model_id": "aa831ea5d8df40b7a7e59ebcb72d83b1",
              "version_major": 2,
              "version_minor": 0
            },
            "text/plain": [
              "model.safetensors:   0%|          | 0.00/47.4M [00:00<?, ?B/s]"
            ]
          },
          "metadata": {},
          "output_type": "display_data"
        },
        {
          "data": {
            "application/vnd.jupyter.widget-view+json": {
              "model_id": "face48ab0b1848b28ab0742507fbf690",
              "version_major": 2,
              "version_minor": 0
            },
            "text/plain": [
              "tokenizer_config.json:   0%|          | 0.00/25.0 [00:00<?, ?B/s]"
            ]
          },
          "metadata": {},
          "output_type": "display_data"
        },
        {
          "data": {
            "application/vnd.jupyter.widget-view+json": {
              "model_id": "b8232ef2ddc1434fa6e2a47bb3a0320c",
              "version_major": 2,
              "version_minor": 0
            },
            "text/plain": [
              "spiece.model:   0%|          | 0.00/760k [00:00<?, ?B/s]"
            ]
          },
          "metadata": {},
          "output_type": "display_data"
        },
        {
          "data": {
            "application/vnd.jupyter.widget-view+json": {
              "model_id": "a6cbc917913a4be399ac4210630a8cae",
              "version_major": 2,
              "version_minor": 0
            },
            "text/plain": [
              "tokenizer.json:   0%|          | 0.00/1.31M [00:00<?, ?B/s]"
            ]
          },
          "metadata": {},
          "output_type": "display_data"
        },
        {
          "data": {
            "text/plain": [
              "('onnx_models/albert-base-v2/tokenizer_config.json',\n",
              " 'onnx_models/albert-base-v2/special_tokens_map.json',\n",
              " 'onnx_models/albert-base-v2/spiece.model',\n",
              " 'onnx_models/albert-base-v2/added_tokens.json',\n",
              " 'onnx_models/albert-base-v2/tokenizer.json')"
            ]
          },
          "execution_count": 2,
          "metadata": {},
          "output_type": "execute_result"
        }
      ],
      "source": [
        "from transformers import AutoTokenizer\n",
        "from optimum.onnxruntime import ORTModelForFeatureExtraction\n",
        "\n",
        "MODEL_NAME = \"albert-base-v2\"\n",
        "EXPORT_PATH = f\"onnx_models/{MODEL_NAME}\"\n",
        "\n",
        "ort_model = ORTModelForFeatureExtraction.from_pretrained(MODEL_NAME, export=True)\n",
        "ort_model.save_pretrained(EXPORT_PATH)\n",
        "\n",
        "tokenizer = AutoTokenizer.from_pretrained(MODEL_NAME)\n",
        "tokenizer.save_pretrained(EXPORT_PATH)"
      ]
    },
    {
      "cell_type": "markdown",
      "metadata": {
        "id": "23XAMeKyLRO4"
      },
      "source": [
        "Let's have a look inside these two directories and see what we are dealing with:"
      ]
    },
    {
      "cell_type": "code",
      "execution_count": 3,
      "metadata": {
        "colab": {
          "base_uri": "https://localhost:8080/"
        },
        "id": "iUmHRgbvLRO4",
        "outputId": "9d78c5e7-1c2d-47b3-dc24-2001b3cc0cb8"
      },
      "outputs": [
        {
          "name": "stdout",
          "output_type": "stream",
          "text": [
            "total 46704\n",
            "-rw-r--r-- 1 root root      798 Jun  7 05:26 config.json\n",
            "-rw-r--r-- 1 root root 44777285 Jun  7 05:26 model.onnx\n",
            "-rw-r--r-- 1 root root      286 Jun  7 05:26 special_tokens_map.json\n",
            "-rw-r--r-- 1 root root   760289 Jun  7 05:26 spiece.model\n",
            "-rw-r--r-- 1 root root     1252 Jun  7 05:26 tokenizer_config.json\n",
            "-rw-r--r-- 1 root root  2272346 Jun  7 05:26 tokenizer.json\n"
          ]
        }
      ],
      "source": [
        "!ls -l {EXPORT_PATH}"
      ]
    },
    {
      "cell_type": "markdown",
      "metadata": {
        "id": "83XkpgvBwyZ_"
      },
      "source": [
        "- We need to move the `spiece.model` file from the tokenizer into an assets folder, as this is where Spark NLP looks for it when working with models like Albert or other SentencePiece-based tokenizers."
      ]
    },
    {
      "cell_type": "code",
      "execution_count": 4,
      "metadata": {
        "id": "fVb2lVkkwyZ_"
      },
      "outputs": [],
      "source": [
        "!mkdir -p {EXPORT_PATH}/assets && mv {EXPORT_PATH}/spiece.model {EXPORT_PATH}/assets/"
      ]
    },
    {
      "cell_type": "code",
      "execution_count": 5,
      "metadata": {
        "colab": {
          "base_uri": "https://localhost:8080/"
        },
        "id": "AcV5pbwGLRO5",
        "outputId": "57189c5f-e982-4d2d-a5ec-fb1ec296b94c"
      },
      "outputs": [
        {
          "name": "stdout",
          "output_type": "stream",
          "text": [
            "total 744\n",
            "-rw-r--r-- 1 root root 760289 Jun  7 05:26 spiece.model\n"
          ]
        }
      ],
      "source": [
        "!ls -l {EXPORT_PATH}/assets"
      ]
    },
    {
      "cell_type": "markdown",
      "metadata": {
        "id": "Q-wGbJbqLRO9"
      },
      "source": [
        "## Import and Save ALBERT in Spark NLP\n",
        "\n",
        "Let's install and setup Spark NLP in Google Colab. For this example, we'll use specific versions of `pyspark` and `spark-nlp` that we've already tested with this transformer model to make sure everything runs smoothly:\n",
        "\n",
        "If you prefer to use the latest versions, feel free to run:\n",
        "\n",
        "`!pip install -q pyspark spark-nlp`\n",
        "\n",
        "Just keep in mind that newer versions might have some changes, so you may need to tweak your code a bit if anything breaks."
      ]
    },
    {
      "cell_type": "code",
      "execution_count": 6,
      "metadata": {
        "colab": {
          "base_uri": "https://localhost:8080/"
        },
        "id": "9lUIFUekmcDW",
        "outputId": "45577535-e6b9-404b-a50e-7e9a9d1a8ab8"
      },
      "outputs": [
        {
          "name": "stdout",
          "output_type": "stream",
          "text": [
            "\u001b[2K     \u001b[90m━━━━━━━━━━━━━━━━━━━━━━━━━━━━━━━━━━━━━━━\u001b[0m \u001b[32m317.3/317.3 MB\u001b[0m \u001b[31m5.1 MB/s\u001b[0m eta \u001b[36m0:00:00\u001b[0m\n",
            "\u001b[?25h  Preparing metadata (setup.py) ... \u001b[?25l\u001b[?25hdone\n",
            "\u001b[2K   \u001b[90m━━━━━━━━━━━━━━━━━━━━━━━━━━━━━━━━━━━━━━━━\u001b[0m \u001b[32m635.7/635.7 kB\u001b[0m \u001b[31m31.5 MB/s\u001b[0m eta \u001b[36m0:00:00\u001b[0m\n",
            "\u001b[?25h  Building wheel for pyspark (setup.py) ... \u001b[?25l\u001b[?25hdone\n"
          ]
        }
      ],
      "source": [
        "!pip install -q pyspark==3.5.4 spark-nlp==5.5.3"
      ]
    },
    {
      "cell_type": "markdown",
      "metadata": {
        "id": "YhI-BPgdLRPE"
      },
      "source": [
        "Let's start Spark with Spark NLP included via our simple `start()` function"
      ]
    },
    {
      "cell_type": "code",
      "execution_count": 7,
      "metadata": {
        "colab": {
          "base_uri": "https://localhost:8080/"
        },
        "id": "Ps2e45cfLRPE",
        "outputId": "669a7f05-62eb-4ca0-9a8a-473f75fca153"
      },
      "outputs": [
        {
          "name": "stdout",
          "output_type": "stream",
          "text": [
            "Spark NLP version:  5.5.3\n",
            "Apache Spark version:  3.5.4\n"
          ]
        }
      ],
      "source": [
        "import sparknlp\n",
        "\n",
        "spark = sparknlp.start()\n",
        "\n",
        "print(\"Spark NLP version: \", sparknlp.version())\n",
        "print(\"Apache Spark version: \", spark.version)"
      ]
    },
    {
      "cell_type": "markdown",
      "metadata": {
        "id": "MRHtJMqdLRPF"
      },
      "source": [
        "- Let's use `loadSavedModel` functon in `AlbertEmbeddings` which allows us to load the ONNX model\n",
        "- Most params will be set automatically. They can also be set later after loading the model in `AlbertEmbeddings` during runtime, so don't worry about setting them now\n",
        "- `loadSavedModel` accepts two params, first is the path to the exported model. The second is the SparkSession that is `spark` variable we previously started via `sparknlp.start()`\n",
        "- `setStorageRef` is very important. When you are training a task like NER or any Text Classification, we use this reference to bound the trained model to this specific embeddings so you won't load a different embeddings by mistake and see terrible results 😊\n",
        "- It's up to you what you put in `setStorageRef` but it cannot be changed later on. We usually use the name of the model to be clear, but you can get creative if you want!\n",
        "- The `dimension` param is is purely cosmetic and won't change anything. It's mostly for you to know later via `.getDimension` what is the dimension of your model. So set this accordingly.\n",
        "- NOTE: `loadSavedModel` accepts local paths in addition to distributed file systems such as `HDFS`, `S3`, `DBFS`, etc. This feature was introduced in Spark NLP 4.2.2 release. Keep in mind the best and recommended way to move/share/reuse Spark NLP models is to use `write.save` so you can use `.load()` from any file systems natively.st and recommended way to move/share/reuse Spark NLP models is to use `write.save` so you can use `.load()` from any file systems natively.\n"
      ]
    },
    {
      "cell_type": "code",
      "execution_count": 8,
      "metadata": {
        "id": "-vmj2onWLRPF"
      },
      "outputs": [],
      "source": [
        "from sparknlp.annotator import AlbertEmbeddings\n",
        "\n",
        "albert = AlbertEmbeddings.loadSavedModel(f\"{EXPORT_PATH}\", spark)\\\n",
        "    .setInputCols([\"sentence\",'token'])\\\n",
        "    .setOutputCol(\"albert\")\\\n",
        "    .setCaseSensitive(True)\\\n",
        "    .setDimension(768)\\\n",
        "    .setStorageRef('albert_base_uncased')"
      ]
    },
    {
      "cell_type": "markdown",
      "metadata": {
        "id": "j2ywuVYLLRPF"
      },
      "source": [
        "- Let's save it on disk so it is easier to be moved around and also be used later via `.load` function"
      ]
    },
    {
      "cell_type": "code",
      "execution_count": 9,
      "metadata": {
        "id": "YbaKGbNeLRPF"
      },
      "outputs": [],
      "source": [
        "albert.write().overwrite().save(f\"{MODEL_NAME}_spark_nlp\")"
      ]
    },
    {
      "cell_type": "markdown",
      "metadata": {
        "id": "bhsYw1B8LRPG"
      },
      "source": [
        "Let's clean up stuff we don't need anymore"
      ]
    },
    {
      "cell_type": "code",
      "execution_count": 10,
      "metadata": {
        "id": "96uh1qWyLRPG"
      },
      "outputs": [],
      "source": [
        "!rm -rf {EXPORT_PATH}"
      ]
    },
    {
      "cell_type": "markdown",
      "metadata": {
        "id": "Jrc9W7VQLRPG"
      },
      "source": [
        "Awesome  😎 !\n",
        "\n",
        "This is your ONNX ALBERT model from HuggingFace 🤗  loaded and saved by Spark NLP 🚀"
      ]
    },
    {
      "cell_type": "code",
      "execution_count": 11,
      "metadata": {
        "colab": {
          "base_uri": "https://localhost:8080/"
        },
        "id": "yBcjQkDHLRPG",
        "outputId": "491d5dfe-44e8-4fb7-9037-7d1a39918277"
      },
      "outputs": [
        {
          "name": "stdout",
          "output_type": "stream",
          "text": [
            "total 44484\n",
            "-rw-r--r-- 1 root root 44784254 Jun  7 05:32 albert_onnx\n",
            "-rw-r--r-- 1 root root   760289 Jun  7 05:32 albert_spp\n",
            "drwxr-xr-x 2 root root     4096 Jun  7 05:32 metadata\n"
          ]
        }
      ],
      "source": [
        "! ls -l {MODEL_NAME}_spark_nlp"
      ]
    },
    {
      "cell_type": "markdown",
      "metadata": {
        "id": "Lnn2nTC1LRPH"
      },
      "source": [
        "Now let's see how we can use it on other machines, clusters, or any place you wish to use your new and shiny ALBERT model 😊"
      ]
    },
    {
      "cell_type": "code",
      "execution_count": 12,
      "metadata": {
        "colab": {
          "base_uri": "https://localhost:8080/"
        },
        "id": "DYeNEL7ixpWq",
        "outputId": "9a6ecea8-444b-450e-f25d-f3a9f4ef5180"
      },
      "outputs": [
        {
          "name": "stdout",
          "output_type": "stream",
          "text": [
            "+--------------------+\n",
            "|          embeddings|\n",
            "+--------------------+\n",
            "|[-0.6758107, -0.3...|\n",
            "|[-0.8178196, -1.7...|\n",
            "|[-0.8304708, -1.7...|\n",
            "|[-0.6008072, -1.0...|\n",
            "|[0.059836745, -1....|\n",
            "|[-0.70512545, -0....|\n",
            "|[-0.5015387, -1.0...|\n",
            "|[1.5703614, -0.66...|\n",
            "|[0.41954327, -1.0...|\n",
            "|[0.17391497, -1.7...|\n",
            "|[0.92069304, -0.3...|\n",
            "|[1.0872071, -0.07...|\n",
            "|[1.0310556, 0.092...|\n",
            "|[-1.115605, -1.20...|\n",
            "|[-1.4810971, 0.36...|\n",
            "|[-1.194795, -0.21...|\n",
            "|[1.3548697, -1.10...|\n",
            "|[-0.5084445, 0.03...|\n",
            "|[-1.2231891, -0.7...|\n",
            "|[0.6835313, -1.15...|\n",
            "+--------------------+\n",
            "only showing top 20 rows\n",
            "\n"
          ]
        }
      ],
      "source": [
        "from sparknlp.base import DocumentAssembler\n",
        "from sparknlp.annotator import Tokenizer, AlbertEmbeddings\n",
        "from pyspark.ml import Pipeline\n",
        "\n",
        "document_assembler = DocumentAssembler() \\\n",
        "    .setInputCol(\"text\") \\\n",
        "    .setOutputCol(\"document\")\n",
        "\n",
        "tokenizer = Tokenizer() \\\n",
        "    .setInputCols(\"document\") \\\n",
        "    .setOutputCol(\"token\")\n",
        "\n",
        "albert = AlbertEmbeddings.load(f\"{MODEL_NAME}_spark_nlp\") \\\n",
        "    .setInputCols([\"document\", \"token\"]) \\\n",
        "    .setOutputCol(\"albert\")\n",
        "\n",
        "pipeline = Pipeline(stages=[\n",
        "    document_assembler,\n",
        "    tokenizer,\n",
        "    albert\n",
        "])\n",
        "\n",
        "data = spark.createDataFrame([[\"William Henry Gates III (born October 28, 1955) is an American business magnate, software developer, investor, and philanthropist.\"]], [\"text\"])\n",
        "\n",
        "model = pipeline.fit(data)\n",
        "result = model.transform(data)\n",
        "\n",
        "result.selectExpr(\"explode(albert.embeddings) as embeddings\").show()"
      ]
    },
    {
      "cell_type": "markdown",
      "metadata": {
        "id": "PW6Qc0TcLRPH"
      },
      "source": [
        "That's it! You can now go wild and use hundreds of ALBERT models from HuggingFace 🤗 in Spark NLP 🚀\n"
      ]
    }
  ],
  "metadata": {
    "accelerator": "GPU",
    "colab": {
      "gpuType": "T4",
      "provenance": []
    },
    "kernelspec": {
      "display_name": "Python 3",
      "name": "python3"
    },
    "language_info": {
      "codemirror_mode": {
        "name": "ipython",
        "version": 3
      },
      "file_extension": ".py",
      "mimetype": "text/x-python",
      "name": "python",
      "nbconvert_exporter": "python",
      "pygments_lexer": "ipython3",
      "version": "3.10.12"
    }
  },
  "nbformat": 4,
  "nbformat_minor": 0
}
