{
  "cells": [
    {
      "cell_type": "markdown",
      "metadata": {
        "id": "BB3Xon8eTR5_"
      },
      "source": [
        "![JohnSnowLabs](https://sparknlp.org/assets/images/logo.png)\n",
        "\n",
        "[![Open In Colab](https://colab.research.google.com/assets/colab-badge.svg)](https://colab.research.google.com/github/JohnSnowLabs/spark-nlp/blob/master/examples/python/transformers/onnx/HuggingFace_ONNX_in_Spark_NLP_XlmRoBertaForQuestionAnswering.ipynb)"
      ]
    },
    {
      "cell_type": "markdown",
      "metadata": {
        "id": "SiU520HzTR6A"
      },
      "source": [
        "## Import ONNX XlmRoBertaForQuestionAnswering models from HuggingFace 🤗 into Spark NLP 🚀\n",
        "\n",
        "Let's keep in mind a few things before we start 😊\n",
        "\n",
        "- ONNX support was introduced in  `Spark NLP 5.0.0`, enabling high performance inference for models.\n",
        "- `XlmRoBertaForQuestionAnswering` is only available since in `Spark NLP 5.2.3` and after. So please make sure you have upgraded to the latest Spark NLP release\n",
        "- You can import XLM-RoBERTa models trained/fine-tuned for question answering via `XlmRoBertaForQuestionAnswering` or `TFXlmRoBertaForQuestionAnswering`. These models are usually under `Question Answering` category and have `xlm-roberta` in their labels\n",
        "- Reference: [TFXlmRoBertaForQuestionAnswering](https://huggingface.co/docs/transformers/model_doc/xlm-roberta#transformers.TFXLMRobertaForQuestionAnswering)\n",
        "- Some [example models](https://huggingface.co/models?filter=xlm-roberta&pipeline_tag=question-answering)"
      ]
    },
    {
      "cell_type": "markdown",
      "metadata": {
        "id": "6DzJ5C4eTR6B"
      },
      "source": [
        "## Export and Save HuggingFace model"
      ]
    },
    {
      "cell_type": "markdown",
      "metadata": {
        "id": "JQQGm6DcTR6B"
      },
      "source": [
        "- Let's install `transformers` package with the `onnx` extension and it's dependencies. You don't need `onnx` to be installed for Spark NLP, however, we need it to load and save models from HuggingFace.\n",
        "- We lock `transformers` on version `4.52.3`. This doesn't mean it won't work with the future releases, but we wanted you to know which versions have been tested successfully.\n",
        "- Albert uses SentencePiece, so we will have to install that as well"
      ]
    },
    {
      "cell_type": "code",
      "execution_count": null,
      "metadata": {
        "colab": {
          "base_uri": "https://localhost:8080/"
        },
        "id": "km2FTtNVTR6C",
        "outputId": "d197c701-e8a7-49a9-a312-a8d683a81560"
      },
      "outputs": [],
      "source": [
        "!pip install -q --upgrade transformers[onnx]==4.52.3 optimum onnx"
      ]
    },
    {
      "cell_type": "markdown",
      "metadata": {
        "id": "uF-jXQ83TR6D"
      },
      "source": [
        "- HuggingFace has an extension called Optimum which offers specialized model inference, including ONNX. We can use this to import and export ONNX models with `from_pretrained` and `save_pretrained`.\n",
        "- We'll use ['deepset/xlm-roberta-base-squad2'](https://huggingface.co/'deepset/xlm-roberta-base-squad2') model from HuggingFace as an example as an example and load it as a `ORTModelForQuestionAnswering`, representing an ONNX model.\n",
        "- In addition to the XLM-RoBERTa model, we also need to save the `XLMRobertaTokenizer`. This is the same for every model, these are assets (saved in `/assets`) needed for tokenization inside Spark NLP."
      ]
    },
    {
      "cell_type": "code",
      "execution_count": 2,
      "metadata": {
        "colab": {
          "base_uri": "https://localhost:8080/",
          "height": 351,
          "referenced_widgets": [
            "1f2b5058b81a4965a1857db181abeba5",
            "09508431f09b4951a5e4b675e97c46c3",
            "86352e9343af4a62924438e9fc4dd564",
            "ab11a8c27eec4fb49a6d05c7dffa02ff",
            "c7df406fc26a4dc89944497b6112dcbc",
            "afade476e9c1441781cddf133b69f75b",
            "a9d2c25ea3904159930580bc42df10ef",
            "2fe5846fde0f46ba95f39c74b39c3a12",
            "761370fd292b416dbee0c99f1df86f5c",
            "f7814884f6f544688a9371861b974b9f",
            "564acbd498f942c798f7279f3c9d0c4d",
            "26c7ce14d535477894127dfb6c77aa36",
            "ab42260cfc9240f6815df96131e13d4f",
            "dca6c5c1aa834782928de7980676c3b2",
            "e374d7048387472697019c46b15f8b1f",
            "a99b149010fb44dca572bdc613d3768e",
            "26620db1f765484d80f3bc4409f6f123",
            "d31f582e430e4e548ee93109e8bbf1f2",
            "685f90a83ec84f60946a7b52a51c6331",
            "556a56273aae428ab15446b01912a8d8",
            "9d8a580ac3c24a82a1aa0cbf7b54475d",
            "c03feddaa8a54fcda4dd34c5c3ac5bbd",
            "1d4af758673e4f2d85fa07e9d6c24f3e",
            "8c72fd9465244d5497cc593ea8a7a113",
            "2b3555dc7ef841aa9aa93c60b254cbf5",
            "7992fcc7acf741f3a404b8ca266654cf",
            "47510386a5ea4955a026fb4fe11e1c59",
            "6eb6a192714e4e68851d14660621bfa1",
            "be77bb3b2fcb4073bf0d199fa79468c8",
            "cf8e40a23ee646d3bf70450c124cb84a",
            "9dfbda6c78854943ac0c02bf075f8497",
            "bcbf095818ba46658ab78cfc39a01c47",
            "171d3a3d304d48989c01bdfbf7771d37",
            "49c20aac8b9f41838559ae876f5aeb7e",
            "c229190c41cf48c0b2deab0b2181af27",
            "3d07db4591c14fa0afecd8c2ebe9f012",
            "30b67b32b57d4198bb073f49ee0afbaa",
            "77e8edf72f574ec5a2e4b0eab2eca25a",
            "39688c062e404862937268d0dac3694a",
            "f0aa8ff8892042e5b91650950216acda",
            "0fe2c59203ab42439add84c9480c9353",
            "1d9c6e546c854fd29c8ffe29eb6dc96d",
            "a899dd69dc364c05bdcb627dcdb9f202",
            "f8ebda2b72374740ae416a087f704467",
            "67b6a713977d4c179ee3cf8cd1e046be",
            "1048570682e94b96bd6021de053ed846",
            "130d2bb1670b47e4a25857483611d57a",
            "f2c8017db90541b78204072885a41ca6",
            "25155d7c280249888901b527483f4355",
            "b2452188e5a04b24bc6cbd9f7981363d",
            "d393b7039f4544bc8b697a47cdd2470a",
            "80abc87eac3e44a484da25309f8f1aa7",
            "462c0c464a0a4ceab66a47cc3365798f",
            "baff6b088730433393e201ce511abf53",
            "3626363735414ab49b2491781c3d0f9b"
          ]
        },
        "id": "mtjXEG1xMqxx",
        "outputId": "0e3aaa38-fe72-4156-845b-68aca5727e25"
      },
      "outputs": [
        {
          "name": "stderr",
          "output_type": "stream",
          "text": [
            "/usr/local/lib/python3.11/dist-packages/huggingface_hub/utils/_auth.py:94: UserWarning: \n",
            "The secret `HF_TOKEN` does not exist in your Colab secrets.\n",
            "To authenticate with the Hugging Face Hub, create a token in your settings tab (https://huggingface.co/settings/tokens), set it as secret in your Google Colab and restart your session.\n",
            "You will be able to reuse this secret in all of your notebooks.\n",
            "Please note that authentication is recommended but still optional to access public models or datasets.\n",
            "  warnings.warn(\n"
          ]
        },
        {
          "data": {
            "application/vnd.jupyter.widget-view+json": {
              "model_id": "1f2b5058b81a4965a1857db181abeba5",
              "version_major": 2,
              "version_minor": 0
            },
            "text/plain": [
              "config.json:   0%|          | 0.00/605 [00:00<?, ?B/s]"
            ]
          },
          "metadata": {},
          "output_type": "display_data"
        },
        {
          "data": {
            "application/vnd.jupyter.widget-view+json": {
              "model_id": "26c7ce14d535477894127dfb6c77aa36",
              "version_major": 2,
              "version_minor": 0
            },
            "text/plain": [
              "model.safetensors:   0%|          | 0.00/1.11G [00:00<?, ?B/s]"
            ]
          },
          "metadata": {},
          "output_type": "display_data"
        },
        {
          "data": {
            "application/vnd.jupyter.widget-view+json": {
              "model_id": "1d4af758673e4f2d85fa07e9d6c24f3e",
              "version_major": 2,
              "version_minor": 0
            },
            "text/plain": [
              "tokenizer_config.json:   0%|          | 0.00/79.0 [00:00<?, ?B/s]"
            ]
          },
          "metadata": {},
          "output_type": "display_data"
        },
        {
          "data": {
            "application/vnd.jupyter.widget-view+json": {
              "model_id": "49c20aac8b9f41838559ae876f5aeb7e",
              "version_major": 2,
              "version_minor": 0
            },
            "text/plain": [
              "sentencepiece.bpe.model:   0%|          | 0.00/5.07M [00:00<?, ?B/s]"
            ]
          },
          "metadata": {},
          "output_type": "display_data"
        },
        {
          "data": {
            "application/vnd.jupyter.widget-view+json": {
              "model_id": "67b6a713977d4c179ee3cf8cd1e046be",
              "version_major": 2,
              "version_minor": 0
            },
            "text/plain": [
              "special_tokens_map.json:   0%|          | 0.00/150 [00:00<?, ?B/s]"
            ]
          },
          "metadata": {},
          "output_type": "display_data"
        },
        {
          "data": {
            "text/plain": [
              "('onnx_models/deepset/xlm-roberta-base-squad2/tokenizer_config.json',\n",
              " 'onnx_models/deepset/xlm-roberta-base-squad2/special_tokens_map.json',\n",
              " 'onnx_models/deepset/xlm-roberta-base-squad2/sentencepiece.bpe.model',\n",
              " 'onnx_models/deepset/xlm-roberta-base-squad2/added_tokens.json')"
            ]
          },
          "execution_count": 2,
          "metadata": {},
          "output_type": "execute_result"
        }
      ],
      "source": [
        "from transformers import XLMRobertaTokenizer\n",
        "from optimum.onnxruntime import ORTModelForQuestionAnswering\n",
        "\n",
        "MODEL_NAME = 'deepset/xlm-roberta-base-squad2'\n",
        "EXPORT_PATH = f\"onnx_models/{MODEL_NAME}\"\n",
        "\n",
        "ort_model = ORTModelForQuestionAnswering.from_pretrained(MODEL_NAME, export=True)\n",
        "ort_model.save_pretrained(EXPORT_PATH)\n",
        "\n",
        "tokenizer = XLMRobertaTokenizer.from_pretrained(MODEL_NAME)\n",
        "tokenizer.save_pretrained(EXPORT_PATH)"
      ]
    },
    {
      "cell_type": "markdown",
      "metadata": {
        "id": "Lh0cF-cBTR6E"
      },
      "source": [
        "Let's have a look inside this directory and see what we are dealing with:"
      ]
    },
    {
      "cell_type": "code",
      "execution_count": 3,
      "metadata": {
        "colab": {
          "base_uri": "https://localhost:8080/"
        },
        "id": "fOKynuzITR6E",
        "outputId": "121e5623-b1bb-4d77-ceae-d0994123616c"
      },
      "outputs": [
        {
          "name": "stdout",
          "output_type": "stream",
          "text": [
            "total 1089088\n",
            "-rw-r--r-- 1 root root        733 Jun 17 04:47 config.json\n",
            "-rw-r--r-- 1 root root 1110137819 Jun 17 04:47 model.onnx\n",
            "-rw-r--r-- 1 root root    5069051 Jun 17 04:47 sentencepiece.bpe.model\n",
            "-rw-r--r-- 1 root root        280 Jun 17 04:47 special_tokens_map.json\n",
            "-rw-r--r-- 1 root root       1260 Jun 17 04:47 tokenizer_config.json\n"
          ]
        }
      ],
      "source": [
        "!ls -l {EXPORT_PATH}"
      ]
    },
    {
      "cell_type": "markdown",
      "metadata": {
        "id": "EQk_6C6uTR6E"
      },
      "source": [
        "- As you can see, we need to move `sentencepiece.bpe.model` from the tokenizer to `assets` folder which Spark NLP will look for"
      ]
    },
    {
      "cell_type": "code",
      "execution_count": 4,
      "metadata": {
        "id": "6MG2A2gUTR6F"
      },
      "outputs": [],
      "source": [
        "!mkdir {EXPORT_PATH}/assets && mv {EXPORT_PATH}/sentencepiece.bpe.model {EXPORT_PATH}/assets"
      ]
    },
    {
      "cell_type": "code",
      "execution_count": 5,
      "metadata": {
        "colab": {
          "base_uri": "https://localhost:8080/"
        },
        "id": "a-TQGZqxTR6F",
        "outputId": "44080ab2-ae54-4ca3-a44a-e7bc54b41bce"
      },
      "outputs": [
        {
          "name": "stdout",
          "output_type": "stream",
          "text": [
            "onnx_models/deepset/xlm-roberta-base-squad2:\n",
            "total 1084140\n",
            "drwxr-xr-x 2 root root       4096 Jun 17 04:47 assets\n",
            "-rw-r--r-- 1 root root        733 Jun 17 04:47 config.json\n",
            "-rw-r--r-- 1 root root 1110137819 Jun 17 04:47 model.onnx\n",
            "-rw-r--r-- 1 root root        280 Jun 17 04:47 special_tokens_map.json\n",
            "-rw-r--r-- 1 root root       1260 Jun 17 04:47 tokenizer_config.json\n",
            "\n",
            "onnx_models/deepset/xlm-roberta-base-squad2/assets:\n",
            "total 4952\n",
            "-rw-r--r-- 1 root root 5069051 Jun 17 04:47 sentencepiece.bpe.model\n"
          ]
        }
      ],
      "source": [
        "!ls -lR {EXPORT_PATH}"
      ]
    },
    {
      "cell_type": "markdown",
      "metadata": {
        "id": "2tYq22p5TR6F"
      },
      "source": [
        "Voila! We have our `sentencepiece.bpe.model` inside assets directory"
      ]
    },
    {
      "cell_type": "markdown",
      "metadata": {
        "id": "x05x_9tKTR6G"
      },
      "source": [
        "## Import and Save XlmRoBertaForQuestionAnswering in Spark NLP\n"
      ]
    },
    {
      "cell_type": "markdown",
      "metadata": {
        "id": "XDjroPvfTR6G"
      },
      "source": [
        "- Install and set up Spark NLP in Google Colab\n",
        "- This example uses specific versions of `pyspark` and `spark-nlp` that have been tested with the transformer model to ensure everything runs smoothly."
      ]
    },
    {
      "cell_type": "code",
      "execution_count": 6,
      "metadata": {
        "colab": {
          "base_uri": "https://localhost:8080/"
        },
        "id": "cFvaWKJCTR6G",
        "outputId": "444a022c-3a76-4655-c8e3-338ddc394581"
      },
      "outputs": [
        {
          "name": "stdout",
          "output_type": "stream",
          "text": [
            "\u001b[2K     \u001b[90m━━━━━━━━━━━━━━━━━━━━━━━━━━━━━━━━━━━━━━━\u001b[0m \u001b[32m317.3/317.3 MB\u001b[0m \u001b[31m3.0 MB/s\u001b[0m eta \u001b[36m0:00:00\u001b[0m\n",
            "\u001b[?25h  Preparing metadata (setup.py) ... \u001b[?25l\u001b[?25hdone\n",
            "\u001b[2K   \u001b[90m━━━━━━━━━━━━━━━━━━━━━━━━━━━━━━━━━━━━━━━━\u001b[0m \u001b[32m635.7/635.7 kB\u001b[0m \u001b[31m41.0 MB/s\u001b[0m eta \u001b[36m0:00:00\u001b[0m\n",
            "\u001b[?25h  Building wheel for pyspark (setup.py) ... \u001b[?25l\u001b[?25hdone\n"
          ]
        }
      ],
      "source": [
        "!pip install -q pyspark==3.5.4 spark-nlp==5.5.3"
      ]
    },
    {
      "cell_type": "markdown",
      "metadata": {
        "id": "W_l5yRBrTR6G"
      },
      "source": [
        "Let's start Spark with Spark NLP included via our simple `start()` function"
      ]
    },
    {
      "cell_type": "code",
      "execution_count": 7,
      "metadata": {
        "colab": {
          "base_uri": "https://localhost:8080/"
        },
        "id": "iGReFEJCTR6G",
        "outputId": "88d34dbe-7292-4ec6-b2dc-297aa2551991"
      },
      "outputs": [
        {
          "name": "stdout",
          "output_type": "stream",
          "text": [
            "Spark NLP version: 5.5.3\n",
            "Apache Spark version: 3.5.4\n"
          ]
        }
      ],
      "source": [
        "import sparknlp\n",
        "\n",
        "spark = sparknlp.start()\n",
        "\n",
        "print(\"Spark NLP version: {}\".format(sparknlp.version()))\n",
        "print(\"Apache Spark version: {}\".format(spark.version))"
      ]
    },
    {
      "cell_type": "markdown",
      "metadata": {
        "id": "fKvpWH0QTR6H"
      },
      "source": [
        "- Let's use `loadSavedModel` functon in `RoBertaForQuestionAnswering` which allows us to load TensorFlow model in SavedModel format\n",
        "- Most params can be set later when you are loading this model in `RoBertaForQuestionAnswering` in runtime like `setMaxSentenceLength`, so don't worry what you are setting them now\n",
        "- `loadSavedModel` accepts two params, first is the path to the TF SavedModel. The second is the SparkSession that is `spark` variable we previously started via `sparknlp.start()`\n",
        "- NOTE: `loadSavedModel` accepts local paths in addition to distributed file systems such as `HDFS`, `S3`, `DBFS`, etc. This feature was introduced in Spark NLP 4.2.2 release. Keep in mind the best and recommended way to move/share/reuse Spark NLP models is to use `write.save` so you can use `.load()` from any file systems natively.\n",
        "\n"
      ]
    },
    {
      "cell_type": "code",
      "execution_count": 8,
      "metadata": {
        "id": "Q-adREaaTR6H"
      },
      "outputs": [],
      "source": [
        "from sparknlp.annotator import XlmRoBertaForQuestionAnswering\n",
        "\n",
        "spanClassifier = XlmRoBertaForQuestionAnswering.loadSavedModel(\n",
        "     EXPORT_PATH,\n",
        "     spark\n",
        " )\\\n",
        "  .setInputCols([\"document_question\",'document_context'])\\\n",
        "  .setOutputCol(\"answer\")\\\n",
        "  .setCaseSensitive(True)\\\n",
        "  .setMaxSentenceLength(512)"
      ]
    },
    {
      "cell_type": "markdown",
      "metadata": {
        "id": "4_KXLSD1TR6H"
      },
      "source": [
        "- Let's save it on disk so it is easier to be moved around and also be used later via `.load` function"
      ]
    },
    {
      "cell_type": "code",
      "execution_count": 9,
      "metadata": {
        "id": "fcNFjAIFTR6H"
      },
      "outputs": [],
      "source": [
        "spanClassifier.write().overwrite().save(\"./{}_spark_nlp_onnx\".format(EXPORT_PATH))"
      ]
    },
    {
      "cell_type": "markdown",
      "metadata": {
        "id": "Zt88wusmTR6H"
      },
      "source": [
        "Let's clean up stuff we don't need anymore"
      ]
    },
    {
      "cell_type": "code",
      "execution_count": 10,
      "metadata": {
        "id": "jAzQqK15TR6H"
      },
      "outputs": [],
      "source": [
        "!rm -rf {EXPORT_PATH}"
      ]
    },
    {
      "cell_type": "markdown",
      "metadata": {
        "id": "qMZp7y5iTR6H"
      },
      "source": [
        "Awesome 😎  !\n",
        "\n",
        "This is your XlmRoBertaForQuestionAnswering model from HuggingFace 🤗  loaded and saved by Spark NLP 🚀"
      ]
    },
    {
      "cell_type": "code",
      "execution_count": 11,
      "metadata": {
        "colab": {
          "base_uri": "https://localhost:8080/"
        },
        "id": "zIA92OyITR6I",
        "outputId": "7c2e9dfc-49ee-4768-de71-da113d526c46"
      },
      "outputs": [
        {
          "name": "stdout",
          "output_type": "stream",
          "text": [
            "total 1089248\n",
            "drwxr-xr-x 2 root root       4096 Jun 17 04:52 metadata\n",
            "-rw-r--r-- 1 root root 1110307348 Jun 17 04:53 xlm_roberta_classification_onnx\n",
            "-rw-r--r-- 1 root root    5069051 Jun 17 04:52 xlmroberta_spp\n"
          ]
        }
      ],
      "source": [
        "! ls -l {EXPORT_PATH}_spark_nlp_onnx"
      ]
    },
    {
      "cell_type": "markdown",
      "metadata": {
        "id": "W9H0dYfrTR6I"
      },
      "source": [
        "Now let's see how we can use it on other machines, clusters, or any place you wish to use your new and shiny XlmRoBertaForQuestionAnswering model in Spark NLP 🚀 pipeline!"
      ]
    },
    {
      "cell_type": "code",
      "execution_count": 14,
      "metadata": {
        "colab": {
          "base_uri": "https://localhost:8080/"
        },
        "id": "NLcT2Cd9vEyx",
        "outputId": "1448fa00-c894-459c-e361-4180cd94f88e"
      },
      "outputs": [
        {
          "name": "stdout",
          "output_type": "stream",
          "text": [
            "+---------------------------+\n",
            "|result                     |\n",
            "+---------------------------+\n",
            "|[What is the boiling point]|\n",
            "|[is Joe Bi]                |\n",
            "|[]                         |\n",
            "+---------------------------+\n",
            "\n"
          ]
        }
      ],
      "source": [
        "from sparknlp.base import *\n",
        "from sparknlp.annotator import *\n",
        "from pyspark.ml import Pipeline\n",
        "\n",
        "document_assembler = MultiDocumentAssembler() \\\n",
        "    .setInputCols([\"question\", \"context\"]) \\\n",
        "    .setOutputCols([\"document_question\", \"document_context\"])\n",
        "\n",
        "spanClassifier_loaded = XlmRoBertaForQuestionAnswering.load(f\"./{EXPORT_PATH}_spark_nlp_onnx\") \\\n",
        "    .setInputCols([\"document_question\", \"document_context\"]) \\\n",
        "    .setOutputCol(\"answer\")\n",
        "\n",
        "pipeline = Pipeline().setStages([\n",
        "    document_assembler,\n",
        "    spanClassifier_loaded\n",
        "])\n",
        "\n",
        "data = [\n",
        "    (\"What is the boiling point of water?\", \"Water boils at 100 degrees Celsius.\"),\n",
        "    (\"Who is the president of the USA?\", \"The president of the USA is Joe Biden.\"),\n",
        "    (\"What color is the sky?\", \"The sky is blue on a clear day.\"),\n",
        "]\n",
        "df = spark.createDataFrame(data, [\"question\", \"context\"])\n",
        "\n",
        "result = pipeline.fit(df).transform(df)\n",
        "result.select(\"answer.result\").show(3, truncate=False)"
      ]
    },
    {
      "cell_type": "markdown",
      "metadata": {
        "id": "bbXFML49TR6I"
      },
      "source": [
        "That's it! You can now go wild and use hundreds of `RoBertaForQuestionAnswering` models from HuggingFace 🤗 in Spark NLP 🚀\n"
      ]
    }
  ],
  "metadata": {
    "accelerator": "GPU",
    "colab": {
      "gpuType": "T4",
      "provenance": []
    },
    "kernelspec": {
      "display_name": "Python 3 (ipykernel)",
      "language": "python",
      "name": "python3"
    },
    "language_info": {
      "codemirror_mode": {
        "name": "ipython",
        "version": 3
      },
      "file_extension": ".py",
      "mimetype": "text/x-python",
      "name": "python",
      "nbconvert_exporter": "python",
      "pygments_lexer": "ipython3"
    }
  },
  "nbformat": 4,
  "nbformat_minor": 0
}
