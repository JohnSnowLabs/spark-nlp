{
  "cells": [
    {
      "cell_type": "markdown",
      "metadata": {
        "id": "8uaoXS8d-LBQ"
      },
      "source": [
        "![JohnSnowLabs](https://sparknlp.org/assets/images/logo.png)\n",
        "\n",
        "[![Open In Colab](https://colab.research.google.com/assets/colab-badge.svg)](https://colab.research.google.com/github/JohnSnowLabs/spark-nlp/blob/master/examples/python/transformers/onnx/HuggingFace_ONNX_in_Spark_NLP_snowflake.ipynb)\n",
        "\n",
        "# Import ONNX snowflake models from HuggingFace 🤗 into Spark NLP 🚀\n",
        "\n",
        "Let's keep in mind a few things before we start 😊\n",
        "\n",
        "- ONNX support was introduced in  `Spark NLP 5.0.0`, enabling high performance inference for models. Please make sure you have upgraded to the latest Spark NLP release.\n",
        "- You can import models for snowflake from HuggingFace and they have to be in `Fill Mask` category. Meaning, you cannot use snowflake models trained/fine-tuned on a specific task such as token/sequence classification."
      ]
    },
    {
      "cell_type": "markdown",
      "metadata": {
        "id": "NkxaTXf3-LBT"
      },
      "source": [
        "## Export and Save HuggingFace model"
      ]
    },
    {
      "cell_type": "markdown",
      "metadata": {
        "id": "FY9M7_Cs-LBU"
      },
      "source": [
        "- Let's install `transformers` package with the `onnx` extension and it's dependencies. You don't need `onnx` to be installed for Spark NLP, however, we need it to load and save models from HuggingFace.\n",
        "- We lock `transformers` on version `4.52.3`. This doesn't mean it won't work with the future releases, but we wanted you to know which versions have been tested successfully."
      ]
    },
    {
      "cell_type": "code",
      "execution_count": null,
      "metadata": {
        "colab": {
          "base_uri": "https://localhost:8080/"
        },
        "id": "faBcByOA-LBV",
        "outputId": "ca326da6-a0a6-4c5c-d3cb-33918f11232d"
      },
      "outputs": [],
      "source": [
        "!pip install -q --upgrade transformers[onnx]==4.52.3 optimum onnx"
      ]
    },
    {
      "cell_type": "markdown",
      "metadata": {
        "id": "m5hRR7Xl-LBW"
      },
      "source": [
        "- HuggingFace has an extension called Optimum which offers specialized model inference, including ONNX. We can use this to import and export ONNX models with `from_pretrained` and `save_pretrained`.\n",
        "- We'll use [Snowflake/snowflake-arctic-embed-m](https://huggingface.co/Snowflake/snowflake-arctic-embed-m) model from HuggingFace as an example and load it as a `ORTModelForFeatureExtraction`, representing an ONNX model.\n",
        "- In addition to the snowflake model, we also need to save the Tokenizer. This is the same for every model, these are assets (saved in `/assets`) needed for tokenization inside Spark NLP."
      ]
    },
    {
      "cell_type": "code",
      "execution_count": 2,
      "metadata": {
        "colab": {
          "base_uri": "https://localhost:8080/",
          "height": 368,
          "referenced_widgets": [
            "2c6fd572506b4e7eb1143d47e21a018c",
            "97a7b946c4de4393ba985bfaa45a2878",
            "f7195826e5bc412fb8272e3cba2a8c34",
            "be1f3f82d7934ce7bc62a5e82eba381e",
            "2c57dfb0321342998c1895d88f5067f7",
            "11aab1294ede4c79bda835246906cd6d",
            "a4aaaaef785c4049b8f23a4c7b5c1d0b",
            "e1285c8d7dc3406b9a3cb8cf18086ac2",
            "85087b141adf49be8517c993a6c69818",
            "c9d8a51b22f2453a89fb422035d995e2",
            "956ae8a20cc34ad49680a4a86840b32b",
            "e2c7b31e75bf4f1c96f1274a85b4018a",
            "8a1da91b1c5d4ea9afd230807929b216",
            "bc933931c29b47ff8db22697fe883fc2",
            "2a606df5141b4b1893e2a7ed3642f4ee",
            "f27969fc6a8645d8a24129d3c74d0bff",
            "234a458a5cdf430fb0b242bdd5992d31",
            "1d1f6b3586ee4bf68fcb824b8081f1c3",
            "07b8c5bef527499d951e8987e56955ff",
            "1b2185e9fc0e4fa6ab570b143a204b5a",
            "564bd03e65f641dbbdc56b4c42fce6f4",
            "8ad4f0bd87b94192be3d5af0885e13c9",
            "82b82cfbd0b24cb187bcbd51061062f4",
            "e59cd1a93bff47d291a212c7c15b4e02",
            "722538a61c974da986c8a19bc00bc4bd",
            "f3edf3ecf1dd4d7780ba0c8c7d8be5c2",
            "8a1c88fe5fb6413b90725bc8edc15eeb",
            "09b8a099d20e4c1693c19daafb11d5ba",
            "a1fdea0751c046e59b97a0b256810816",
            "d84514824b21442aaecc4637082d15a4",
            "9285af33b940431b80c281c352792f06",
            "403760c5345345139df3b7d06919b2a0",
            "6b31d2f9e0174645b223255b53f76795",
            "8ea8ee158b8f4095b78e45beb5919539",
            "de0129bb3f8f4bf6a2b95c629afe75bd",
            "41f9ce5ac1fc44619e32bd412b7446cf",
            "ba63ca6335de4b9eb6057f781345705d",
            "2503847b9fcf46299be58b4c9e5cc5e9",
            "701023f0ab104b75b942a70004f840ff",
            "e9e99db4b1cb49c598aa20c9a3cea435",
            "33837d9a3bb54a69976ea0a212a6199e",
            "faf167ce3815459faed8dd60787a3b4a",
            "424a2addc9054d4fbac72baadd0f2394",
            "7bac33c86b814812adbeca8bc81f81e6",
            "a016d635853c48ba87323c8f902753da",
            "fef30f2305d642c981d970fb9a55a4e1",
            "34097578d5fa4febab42d729218b78c0",
            "28ab2fb2be064794b893646a2de8da34",
            "6348e6b896cc47d7a24de751b80e014d",
            "eb577d5cb6634e34b0ddd247abf705c1",
            "c77337ceba124d40bdd89eed2b7374e3",
            "3b7801b99211459bac270355d9c746af",
            "f71f022928c14fd3bd87168abf995b5c",
            "a70f6c91ca4641ad9c92b37e1868c9a4",
            "18314f5942554e7b919e97466f98c4f8"
          ]
        },
        "id": "rp15hUY9keHG",
        "outputId": "c6f569b9-d5cd-4070-a5aa-5d55390f4a73"
      },
      "outputs": [
        {
          "name": "stderr",
          "output_type": "stream",
          "text": [
            "/usr/local/lib/python3.11/dist-packages/huggingface_hub/utils/_auth.py:94: UserWarning: \n",
            "The secret `HF_TOKEN` does not exist in your Colab secrets.\n",
            "To authenticate with the Hugging Face Hub, create a token in your settings tab (https://huggingface.co/settings/tokens), set it as secret in your Google Colab and restart your session.\n",
            "You will be able to reuse this secret in all of your notebooks.\n",
            "Please note that authentication is recommended but still optional to access public models or datasets.\n",
            "  warnings.warn(\n"
          ]
        },
        {
          "data": {
            "application/vnd.jupyter.widget-view+json": {
              "model_id": "2c6fd572506b4e7eb1143d47e21a018c",
              "version_major": 2,
              "version_minor": 0
            },
            "text/plain": [
              "config.json:   0%|          | 0.00/617 [00:00<?, ?B/s]"
            ]
          },
          "metadata": {},
          "output_type": "display_data"
        },
        {
          "data": {
            "application/vnd.jupyter.widget-view+json": {
              "model_id": "e2c7b31e75bf4f1c96f1274a85b4018a",
              "version_major": 2,
              "version_minor": 0
            },
            "text/plain": [
              "model.safetensors:   0%|          | 0.00/219M [00:00<?, ?B/s]"
            ]
          },
          "metadata": {},
          "output_type": "display_data"
        },
        {
          "data": {
            "application/vnd.jupyter.widget-view+json": {
              "model_id": "82b82cfbd0b24cb187bcbd51061062f4",
              "version_major": 2,
              "version_minor": 0
            },
            "text/plain": [
              "tokenizer_config.json:   0%|          | 0.00/1.43k [00:00<?, ?B/s]"
            ]
          },
          "metadata": {},
          "output_type": "display_data"
        },
        {
          "data": {
            "application/vnd.jupyter.widget-view+json": {
              "model_id": "8ea8ee158b8f4095b78e45beb5919539",
              "version_major": 2,
              "version_minor": 0
            },
            "text/plain": [
              "vocab.txt:   0%|          | 0.00/232k [00:00<?, ?B/s]"
            ]
          },
          "metadata": {},
          "output_type": "display_data"
        },
        {
          "data": {
            "application/vnd.jupyter.widget-view+json": {
              "model_id": "a016d635853c48ba87323c8f902753da",
              "version_major": 2,
              "version_minor": 0
            },
            "text/plain": [
              "special_tokens_map.json:   0%|          | 0.00/695 [00:00<?, ?B/s]"
            ]
          },
          "metadata": {},
          "output_type": "display_data"
        },
        {
          "data": {
            "text/plain": [
              "('onnx_models/silvainrichou/snowflake-arctic-embed-m/tokenizer_config.json',\n",
              " 'onnx_models/silvainrichou/snowflake-arctic-embed-m/special_tokens_map.json',\n",
              " 'onnx_models/silvainrichou/snowflake-arctic-embed-m/vocab.txt',\n",
              " 'onnx_models/silvainrichou/snowflake-arctic-embed-m/added_tokens.json',\n",
              " 'onnx_models/silvainrichou/snowflake-arctic-embed-m/tokenizer.json')"
            ]
          },
          "execution_count": 2,
          "metadata": {},
          "output_type": "execute_result"
        }
      ],
      "source": [
        "from transformers import AutoTokenizer\n",
        "from optimum.onnxruntime import ORTModelForFeatureExtraction\n",
        "\n",
        "MODEL_NAME = \"silvainrichou/snowflake-arctic-embed-m\"\n",
        "EXPORT_PATH = f\"onnx_models/{MODEL_NAME}\"\n",
        "\n",
        "ort_model = ORTModelForFeatureExtraction.from_pretrained(MODEL_NAME, export=True)\n",
        "ort_model.save_pretrained(EXPORT_PATH)\n",
        "\n",
        "tokenizer = AutoTokenizer.from_pretrained(MODEL_NAME)\n",
        "tokenizer.save_pretrained(EXPORT_PATH)"
      ]
    },
    {
      "cell_type": "markdown",
      "metadata": {
        "id": "7dolgHbD-LBX"
      },
      "source": [
        "Let's have a look inside these two directories and see what we are dealing with:"
      ]
    },
    {
      "cell_type": "code",
      "execution_count": 9,
      "metadata": {
        "colab": {
          "base_uri": "https://localhost:8080/"
        },
        "id": "o2wua50w-LBY",
        "outputId": "de3acb16-9d60-43df-a9dd-cb9ea1b2e027"
      },
      "outputs": [
        {
          "name": "stdout",
          "output_type": "stream",
          "text": [
            "total 426572\n",
            "-rw-r--r-- 1 root root       590 Jun 16 21:11 config.json\n",
            "-rw-r--r-- 1 root root 435844616 Jun 16 21:12 model.onnx\n",
            "-rw-r--r-- 1 root root       695 Jun 16 21:12 special_tokens_map.json\n",
            "-rw-r--r-- 1 root root      1463 Jun 16 21:12 tokenizer_config.json\n",
            "-rw-r--r-- 1 root root    711396 Jun 16 21:12 tokenizer.json\n",
            "-rw-r--r-- 1 root root    231508 Jun 16 21:12 vocab.txt\n"
          ]
        }
      ],
      "source": [
        "!ls -l {EXPORT_PATH}"
      ]
    },
    {
      "cell_type": "markdown",
      "metadata": {
        "id": "5G3v-lerqevV"
      },
      "source": [
        "- We need to move `vocab.txt` from the tokenizer into an `assets` folder, which is where Spark NLP expects to find it.\n"
      ]
    },
    {
      "cell_type": "code",
      "execution_count": 11,
      "metadata": {
        "id": "P1BDYh3UClLQ"
      },
      "outputs": [],
      "source": [
        "!mkdir {EXPORT_PATH}/assets && mv {EXPORT_PATH}/vocab.txt {EXPORT_PATH}/assets/"
      ]
    },
    {
      "cell_type": "code",
      "execution_count": 12,
      "metadata": {
        "colab": {
          "base_uri": "https://localhost:8080/"
        },
        "id": "-vwWzZkrktam",
        "outputId": "b1bafc8b-b670-46c0-ee72-429f69a4afb6"
      },
      "outputs": [
        {
          "name": "stdout",
          "output_type": "stream",
          "text": [
            "total 426348\n",
            "drwxr-xr-x 2 root root      4096 Jun 16 21:17 assets\n",
            "-rw-r--r-- 1 root root       590 Jun 16 21:11 config.json\n",
            "-rw-r--r-- 1 root root 435844616 Jun 16 21:12 model.onnx\n",
            "-rw-r--r-- 1 root root       695 Jun 16 21:12 special_tokens_map.json\n",
            "-rw-r--r-- 1 root root      1463 Jun 16 21:12 tokenizer_config.json\n",
            "-rw-r--r-- 1 root root    711396 Jun 16 21:12 tokenizer.json\n"
          ]
        }
      ],
      "source": [
        "!ls -l {EXPORT_PATH}"
      ]
    },
    {
      "cell_type": "markdown",
      "metadata": {
        "id": "x1EGNEIPkuWX"
      },
      "source": [
        "Voila! We have our `vocab.txt` inside assets directory"
      ]
    },
    {
      "cell_type": "markdown",
      "metadata": {
        "id": "CFLnQ4vm-LBZ"
      },
      "source": [
        "## Import and Save snowflake in Spark NLP\n",
        "\n",
        "- **Install and set up Spark NLP in Google Colab**\n",
        "  - This example uses specific versions of `pyspark` and `spark-nlp` that have been tested with the transformer model to ensure everything runs smoothly."
      ]
    },
    {
      "cell_type": "code",
      "execution_count": 6,
      "metadata": {
        "colab": {
          "base_uri": "https://localhost:8080/"
        },
        "id": "dxCEAixU-LBZ",
        "outputId": "7ca739cb-e743-4245-804c-f248a07e7635"
      },
      "outputs": [
        {
          "name": "stdout",
          "output_type": "stream",
          "text": [
            "\u001b[2K     \u001b[90m━━━━━━━━━━━━━━━━━━━━━━━━━━━━━━━━━━━━━━━\u001b[0m \u001b[32m317.3/317.3 MB\u001b[0m \u001b[31m4.3 MB/s\u001b[0m eta \u001b[36m0:00:00\u001b[0m\n",
            "\u001b[?25h  Preparing metadata (setup.py) ... \u001b[?25l\u001b[?25hdone\n",
            "\u001b[2K   \u001b[90m━━━━━━━━━━━━━━━━━━━━━━━━━━━━━━━━━━━━━━━━\u001b[0m \u001b[32m635.7/635.7 kB\u001b[0m \u001b[31m31.4 MB/s\u001b[0m eta \u001b[36m0:00:00\u001b[0m\n",
            "\u001b[?25h  Building wheel for pyspark (setup.py) ... \u001b[?25l\u001b[?25hdone\n"
          ]
        }
      ],
      "source": [
        "!pip install -q pyspark==3.5.4 spark-nlp==5.5.3"
      ]
    },
    {
      "cell_type": "markdown",
      "metadata": {
        "id": "QyeZdo61-LBa"
      },
      "source": [
        "Let's start Spark with Spark NLP included via our simple `start()` function"
      ]
    },
    {
      "cell_type": "code",
      "execution_count": 7,
      "metadata": {
        "colab": {
          "base_uri": "https://localhost:8080/"
        },
        "id": "tWzqJOSe-LBb",
        "outputId": "47e11eaf-4616-4261-ffd9-8bf049468f7f"
      },
      "outputs": [
        {
          "name": "stdout",
          "output_type": "stream",
          "text": [
            "Spark NLP version:  5.5.3\n",
            "Apache Spark version:  3.5.4\n"
          ]
        }
      ],
      "source": [
        "import sparknlp\n",
        "\n",
        "spark = sparknlp.start()\n",
        "\n",
        "print(\"Spark NLP version: \", sparknlp.version())\n",
        "print(\"Apache Spark version: \", spark.version)"
      ]
    },
    {
      "cell_type": "markdown",
      "metadata": {
        "id": "5X61x34a-LBb"
      },
      "source": [
        "- Let's use `loadSavedModel` functon in `SnowFlakeEmbeddings` which allows us to load the ONNX model\n",
        "- Most params will be set automatically. They can also be set later after loading the model in `SnowFlakeEmbeddings` during runtime, so don't worry about setting them now\n",
        "- `loadSavedModel` accepts two params, first is the path to the exported model. The second is the SparkSession that is `spark` variable we previously started via `sparknlp.start()`\n",
        "- `setStorageRef` is very important. When you are training a task like NER or any Text Classification, we use this reference to bound the trained model to this specific embeddings so you won't load a different embeddings by mistake and see terrible results 😊\n",
        "- It's up to you what you put in `setStorageRef` but it cannot be changed later on. We usually use the name of the model to be clear, but you can get creative if you want!\n",
        "- The `dimension` param is is purely cosmetic and won't change anything. It's mostly for you to know later via `.getDimension` what is the dimension of your model. So set this accordingly.\n",
        "- NOTE: `loadSavedModel` accepts local paths in addition to distributed file systems such as `HDFS`, `S3`, `DBFS`, etc. This feature was introduced in Spark NLP 4.2.2 release. Keep in mind the best and recommended way to move/share/reuse Spark NLP models is to use `write.save` so you can use `.load()` from any file systems natively.st and recommended way to move/share/reuse Spark NLP models is to use `write.save` so you can use `.load()` from any file systems natively.\n"
      ]
    },
    {
      "cell_type": "code",
      "execution_count": 13,
      "metadata": {
        "id": "ZfRgnm5V-LBc"
      },
      "outputs": [],
      "source": [
        "from sparknlp.annotator import SnowFlakeEmbeddings\n",
        "\n",
        "snowflake = SnowFlakeEmbeddings.loadSavedModel(EXPORT_PATH, spark)\\\n",
        "    .setInputCols([\"document\"])\\\n",
        "    .setOutputCol(\"snowflake\")\\\n",
        "    .setCaseSensitive(True)\\\n",
        "    .setDimension(768)"
      ]
    },
    {
      "cell_type": "markdown",
      "metadata": {
        "id": "YklsGumf-LBc"
      },
      "source": [
        "- Let's save it on disk so it is easier to be moved around and also be used later via `.load` function"
      ]
    },
    {
      "cell_type": "code",
      "execution_count": 14,
      "metadata": {
        "id": "thmPSatB-LBc"
      },
      "outputs": [],
      "source": [
        "snowflake.write().overwrite().save(f\"{MODEL_NAME}_spark_nlp\")"
      ]
    },
    {
      "cell_type": "markdown",
      "metadata": {
        "id": "F9nJj6Fs-LBc"
      },
      "source": [
        "Let's clean up stuff we don't need anymore"
      ]
    },
    {
      "cell_type": "code",
      "execution_count": 15,
      "metadata": {
        "id": "-GbJfqzE-LBc"
      },
      "outputs": [],
      "source": [
        "!rm -rf {EXPORT_PATH}"
      ]
    },
    {
      "cell_type": "markdown",
      "metadata": {
        "id": "CfhLgj1U-LBd"
      },
      "source": [
        "Awesome  😎 !\n",
        "\n",
        "This is your ONNX snowflake model from HuggingFace 🤗  loaded and saved by Spark NLP 🚀"
      ]
    },
    {
      "cell_type": "code",
      "execution_count": 16,
      "metadata": {
        "colab": {
          "base_uri": "https://localhost:8080/"
        },
        "id": "9irc4X-h-LBe",
        "outputId": "73091a6d-9a0d-44b1-fc6f-a250e067d8b7"
      },
      "outputs": [
        {
          "name": "stdout",
          "output_type": "stream",
          "text": [
            "total 425708\n",
            "drwxr-xr-x 3 root root      4096 Jun 16 21:18 fields\n",
            "drwxr-xr-x 2 root root      4096 Jun 16 21:18 metadata\n",
            "-rw-r--r-- 1 root root 435911255 Jun 16 21:18 SnowFlake_onnx\n"
          ]
        }
      ],
      "source": [
        "! ls -l {MODEL_NAME}_spark_nlp"
      ]
    },
    {
      "cell_type": "markdown",
      "metadata": {
        "id": "q6kMLGGM-LBe"
      },
      "source": [
        "Now let's see how we can use it on other machines, clusters, or any place you wish to use your new and shiny snowflake model 😊"
      ]
    },
    {
      "cell_type": "code",
      "execution_count": 17,
      "metadata": {
        "colab": {
          "base_uri": "https://localhost:8080/"
        },
        "id": "EuxOV23j-LBf",
        "outputId": "ce6a4573-a514-4556-df93-4507ea04ca3e"
      },
      "outputs": [
        {
          "name": "stdout",
          "output_type": "stream",
          "text": [
            "+--------------------+\n",
            "|           embedding|\n",
            "+--------------------+\n",
            "|[-0.60493106, 0.5...|\n",
            "+--------------------+\n",
            "\n"
          ]
        }
      ],
      "source": [
        "from sparknlp.base import DocumentAssembler\n",
        "from sparknlp.annotator import SnowFlakeEmbeddings\n",
        "from pyspark.ml import Pipeline\n",
        "\n",
        "document_assembler = DocumentAssembler() \\\n",
        "    .setInputCol(\"text\") \\\n",
        "    .setOutputCol(\"document\")\n",
        "\n",
        "snowflake_embeddings = SnowFlakeEmbeddings.load(f\"{MODEL_NAME}_spark_nlp\") \\\n",
        "    .setInputCols([\"document\"]) \\\n",
        "    .setOutputCol(\"snowflake\")\n",
        "\n",
        "pipeline = Pipeline(stages=[\n",
        "    document_assembler,\n",
        "    snowflake_embeddings\n",
        "])\n",
        "\n",
        "data = spark.createDataFrame([\n",
        "    [\"William Henry Gates III (born October 28, 1955) is an American business magnate, software developer, investor, and philanthropist.\"]\n",
        "], [\"text\"])\n",
        "\n",
        "model = pipeline.fit(data)\n",
        "result = model.transform(data)\n",
        "\n",
        "result.selectExpr(\"explode(snowflake.embeddings) as embedding\").show()"
      ]
    },
    {
      "cell_type": "markdown",
      "metadata": {
        "id": "5YWVcqLf-LBf"
      },
      "source": [
        "That's it! You can now go wild and use hundreds of snowflake models from HuggingFace 🤗 in Spark NLP 🚀\n"
      ]
    }
  ],
  "metadata": {
    "colab": {
      "provenance": []
    },
    "kernelspec": {
      "display_name": "Python 3 (ipykernel)",
      "language": "python",
      "name": "python3"
    },
    "language_info": {
      "codemirror_mode": {
        "name": "ipython",
        "version": 3
      },
      "file_extension": ".py",
      "mimetype": "text/x-python",
      "name": "python",
      "nbconvert_exporter": "python",
      "pygments_lexer": "ipython3"
    }
  },
  "nbformat": 4,
  "nbformat_minor": 0
}
