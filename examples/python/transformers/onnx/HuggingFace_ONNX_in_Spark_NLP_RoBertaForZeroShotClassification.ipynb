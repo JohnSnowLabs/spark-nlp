{
  "cells": [
    {
      "cell_type": "markdown",
      "metadata": {
        "id": "MaSKCq-f-K6O"
      },
      "source": [
        "![JohnSnowLabs](https://sparknlp.org/assets/images/logo.png)\n",
        "\n",
        "[![Open In Colab](https://colab.research.google.com/assets/colab-badge.svg)](https://colab.research.google.com/github/JohnSnowLabs/spark-nlp/blob/master/examples/python/transformers/onnx/HuggingFace_ONNX_in_Spark_NLP_BertForZeroShotClassification.ipynb)"
      ]
    },
    {
      "cell_type": "markdown",
      "metadata": {
        "id": "l0PPD6ns-K6T"
      },
      "source": [
        "## Import ONNX RoBertaForZeroShotClassification  models from HuggingFace 🤗  into Spark NLP 🚀\n",
        "\n",
        "Let's keep in mind a few things before we start 😊\n",
        "\n",
        "- ONNX support was introduced in  `Spark NLP 5.0.0`, enabling high performance inference for models.\n",
        "- `RoBertaForZeroShotClassification ` is only available since in `Spark NLP 5.2.4` and after. So please make sure you have upgraded to the latest Spark NLP release\n",
        "- You can import BERT models trained/fine-tuned for zero shot classification via `RoBertaForZeroShotClassification` or `TFRoBertaForZeroShotClassification`. These models are usually under `Zero-Shot Classification` category and have `roberta` in their labels\n",
        "- Reference: [TFRoBertaForZeroShotClassification](https://huggingface.co/docs/transformers/en/model_doc/roberta#transformers.TFRobertaForSequenceClassification)\n",
        "- Some [example models](https://huggingface.co/models?pipeline_tag=zero-shot-classification&sort=downloads&search=roberta)"
      ]
    },
    {
      "cell_type": "markdown",
      "metadata": {
        "id": "xq80nWHn-K6V"
      },
      "source": [
        "## Export and Save HuggingFace model"
      ]
    },
    {
      "cell_type": "markdown",
      "metadata": {
        "id": "eX6lOjby-K6W"
      },
      "source": [
        "- Let's install `transformers` package with the `onnx` extension and it's dependencies. You don't need `onnx` to be installed for Spark NLP, however, we need it to load and save models from HuggingFace.\n",
        "- We lock `transformers` on version `4.52.3`. This doesn't mean it won't work with the future releases, but we wanted you to know which versions have been tested successfully.\n",
        "- Albert uses SentencePiece, so we will have to install that as well"
      ]
    },
    {
      "cell_type": "code",
      "execution_count": null,
      "metadata": {
        "colab": {
          "base_uri": "https://localhost:8080/"
        },
        "id": "4Sxf-Di--K6X",
        "outputId": "e04324c1-8e09-4315-c541-fb9cd8ac0302"
      },
      "outputs": [],
      "source": [
        "!pip install -q --upgrade transformers[onnx]==4.52.3 optimum onnx"
      ]
    },
    {
      "cell_type": "markdown",
      "metadata": {
        "id": "hB0V6igV-K6Z"
      },
      "source": [
        "- HuggingFace has an extension called Optimum which offers specialized model inference, including ONNX. We can use this to import and export ONNX models with `from_pretrained` and `save_pretrained`.\n",
        "- We'll use [cross-encoder/nli-roberta-base](https://huggingface.co/cross-encoder/nli-roberta-base) model from HuggingFace as an example and load it as a `ORTModelForSequenceClassification`, representing an ONNX model.\n",
        "- In addition to the RoBERTa model, we also need to save the tokenizer. This is the same for every model, these are assets (saved in `/assets`) needed for tokenization inside Spark NLP."
      ]
    },
    {
      "cell_type": "code",
      "execution_count": 2,
      "metadata": {
        "colab": {
          "base_uri": "https://localhost:8080/",
          "height": 469,
          "referenced_widgets": [
            "4bd73942b87a4f8381f6856a2e986389",
            "be42b5123f8a4864afd32a61b329b112",
            "bbc01b28669b45939a568576b02dac6e",
            "b9191a7d39ca40bf8a7b79d4fcc085d1",
            "04f206a9ca834858b3d652a883b05a82",
            "61f7c34fb94643248e8b10d5e67b3652",
            "b93f5eb7e31e41768d63f91b14c7b798",
            "04376b387a964c9bab0af8fe762044a3",
            "884b0a203be14c9c8e2ee92cbbf952dd",
            "3281f49e05df4151b9392fcb7e914b87",
            "89ebc9ba1bba402cba1741a7d0373713",
            "f53a794fdeba417e932b28e91585d1c1",
            "27fec050932044e68220f0d631fee635",
            "b9a4374a0a6d4ca78d3cc71453fd00fa",
            "74d234f586fd4fafad4f2b931d1a92ae",
            "41625b4d78df45d092763ab64c72d79f",
            "ce60ed5c0aa94580b0da765ec553eabf",
            "3648b3d652b04b2d8fd1e5ef0deb0014",
            "efda83f83d344704808055a40212d0cf",
            "3245619a0a6442dfb2249dde53cd4bdd",
            "4d3ab6b3a370433dae9d59f744ba1c1e",
            "9016571842e847fbac313ef8e1c9cb9e",
            "cee13200a8ea4e0fa10456a6e961c0fc",
            "7f1cd01453224ce88d08ead4756af094",
            "ae767c344c3b4ddf979c3910c1ee3b0a",
            "88688138ddc84cef9b4c600c63ad1cbe",
            "f14319f7f06b42e39822004bb087f7e3",
            "8c17c770824c403b8e06d1834fa67ab2",
            "cc38674344b2472db3d3ea6dde040e7d",
            "0f8c43dc54fe4c288dabce9f81e61277",
            "cf1a5b5549ab48e898ae467925af350b",
            "492e798d4b3d41a280e539143c07e564",
            "b0941a1d69b74f01a004103de35abf90",
            "2624679925f14f7d85e4495fb3ed9c5d",
            "dedf05cdb1064d879d15c0c74769c15f",
            "0db017a6604c4ea6820f49a5f96fda1c",
            "bbc55dd994e746c2b25c7afeba5cd8d4",
            "e6a3d99fc6c9420d809a9b2854c808db",
            "3895c8f0f31242c786dd43f47b0cda05",
            "18e72f44ae3e4a48b2ef9f65bd7168f3",
            "42b32cd6dc804b949857d464ef4fbc1e",
            "bbd04545db054de3b307cb5e7e8fd967",
            "c6c0d3e9a5e8454c8faf375c86ef9779",
            "8301cdb49eb04bd28c626529a2457f97",
            "a24d565d78e44d6db4e4992568892660",
            "bb0cb1d867d54cb1b35201ebf5eb68d8",
            "33864a1687fb4524ba619a982473756c",
            "c78df04cc254476fb19ed91b093d366b",
            "fe9750a659df4c3fab50971541c22da6",
            "dbed558534d9446089e77a2edbdc70e2",
            "6711c3b779f542109bddc5c8a8fa581e",
            "c5137c3f8b624afab847cf6ecb9e9601",
            "832c8edd778c4b5d9675de6dabb84583",
            "1dffe79b074a444aac4eb07f5a9baede",
            "81f6e6bb24fd4ee9a112e7b10e09296a",
            "d57a7a041cd7496f8a15467b0477ea29",
            "e8e63bb005a844cfbed4a7feb87200db",
            "b2d03fff79fa4d8d8956ede956e274b6",
            "e945f50c5b74430db9b4360c72e7c12a",
            "eb0b8e762ea440bf8b6fa15ab807d371",
            "f8aa55aa58eb4bd1908fcec3b7a6aced",
            "6d4286ba39704d84bbc73a5314281ec0",
            "6bfba77b22984430a1dd50d9bd910c78",
            "ea89b6365e114d79a18a3c0b530770b5",
            "eab3b0ec3c524a6cabbbb965b26c8331",
            "bc44a85fa6cd44b880bf598789894d2b",
            "0728f486fedc4264ac43e9e49d8642dd",
            "088e03bb6e0e4bf6a9e8312897720f73",
            "75c7a3f4598d4def9a5afd589d720692",
            "3827766cf1d244058ed8f30211ff0ae6",
            "2659e3b14fe04937aade80dc701d1692",
            "6cb716c8da9b47089772c42a77d10a0e",
            "2074b2228f6842009208a2084ee1ca4b",
            "a56494ce35a34c32905ddfee970ffb29",
            "7a194d41321847fa853e1a91014a17b1",
            "7a51f04e01724ae7b37addd17ebb76b7",
            "f6ecd6fe55be4f859e0b0faffd128194"
          ]
        },
        "id": "sjAKmhPbustM",
        "outputId": "b47dadba-d431-408f-f020-f5f2b3b25d85"
      },
      "outputs": [
        {
          "name": "stderr",
          "output_type": "stream",
          "text": [
            "/usr/local/lib/python3.11/dist-packages/huggingface_hub/utils/_auth.py:94: UserWarning: \n",
            "The secret `HF_TOKEN` does not exist in your Colab secrets.\n",
            "To authenticate with the Hugging Face Hub, create a token in your settings tab (https://huggingface.co/settings/tokens), set it as secret in your Google Colab and restart your session.\n",
            "You will be able to reuse this secret in all of your notebooks.\n",
            "Please note that authentication is recommended but still optional to access public models or datasets.\n",
            "  warnings.warn(\n"
          ]
        },
        {
          "data": {
            "application/vnd.jupyter.widget-view+json": {
              "model_id": "4bd73942b87a4f8381f6856a2e986389",
              "version_major": 2,
              "version_minor": 0
            },
            "text/plain": [
              "config.json:   0%|          | 0.00/702 [00:00<?, ?B/s]"
            ]
          },
          "metadata": {},
          "output_type": "display_data"
        },
        {
          "name": "stderr",
          "output_type": "stream",
          "text": [
            "Too many ONNX model files were found in onnx/model.onnx ,onnx/model_O1.onnx ,onnx/model_O2.onnx ,onnx/model_O3.onnx ,onnx/model_O4.onnx ,onnx/model_qint8_arm64.onnx ,onnx/model_qint8_avx512.onnx ,onnx/model_qint8_avx512_vnni.onnx ,onnx/model_quint8_avx2.onnx. specify which one to load by using the `file_name` and/or the `subfolder` arguments. Loading the file model.onnx in the subfolder onnx.\n"
          ]
        },
        {
          "data": {
            "application/vnd.jupyter.widget-view+json": {
              "model_id": "f53a794fdeba417e932b28e91585d1c1",
              "version_major": 2,
              "version_minor": 0
            },
            "text/plain": [
              "onnx/model.onnx:   0%|          | 0.00/499M [00:00<?, ?B/s]"
            ]
          },
          "metadata": {},
          "output_type": "display_data"
        },
        {
          "data": {
            "application/vnd.jupyter.widget-view+json": {
              "model_id": "cee13200a8ea4e0fa10456a6e961c0fc",
              "version_major": 2,
              "version_minor": 0
            },
            "text/plain": [
              "tokenizer_config.json:   0%|          | 0.00/1.30k [00:00<?, ?B/s]"
            ]
          },
          "metadata": {},
          "output_type": "display_data"
        },
        {
          "data": {
            "application/vnd.jupyter.widget-view+json": {
              "model_id": "2624679925f14f7d85e4495fb3ed9c5d",
              "version_major": 2,
              "version_minor": 0
            },
            "text/plain": [
              "vocab.json:   0%|          | 0.00/798k [00:00<?, ?B/s]"
            ]
          },
          "metadata": {},
          "output_type": "display_data"
        },
        {
          "data": {
            "application/vnd.jupyter.widget-view+json": {
              "model_id": "a24d565d78e44d6db4e4992568892660",
              "version_major": 2,
              "version_minor": 0
            },
            "text/plain": [
              "merges.txt:   0%|          | 0.00/456k [00:00<?, ?B/s]"
            ]
          },
          "metadata": {},
          "output_type": "display_data"
        },
        {
          "data": {
            "application/vnd.jupyter.widget-view+json": {
              "model_id": "d57a7a041cd7496f8a15467b0477ea29",
              "version_major": 2,
              "version_minor": 0
            },
            "text/plain": [
              "special_tokens_map.json:   0%|          | 0.00/1.01k [00:00<?, ?B/s]"
            ]
          },
          "metadata": {},
          "output_type": "display_data"
        },
        {
          "data": {
            "application/vnd.jupyter.widget-view+json": {
              "model_id": "0728f486fedc4264ac43e9e49d8642dd",
              "version_major": 2,
              "version_minor": 0
            },
            "text/plain": [
              "tokenizer.json:   0%|          | 0.00/3.56M [00:00<?, ?B/s]"
            ]
          },
          "metadata": {},
          "output_type": "display_data"
        },
        {
          "data": {
            "text/plain": [
              "('onnx_models/cross-encoder/nli-roberta-base/tokenizer_config.json',\n",
              " 'onnx_models/cross-encoder/nli-roberta-base/special_tokens_map.json',\n",
              " 'onnx_models/cross-encoder/nli-roberta-base/vocab.json',\n",
              " 'onnx_models/cross-encoder/nli-roberta-base/merges.txt',\n",
              " 'onnx_models/cross-encoder/nli-roberta-base/added_tokens.json')"
            ]
          },
          "execution_count": 2,
          "metadata": {},
          "output_type": "execute_result"
        }
      ],
      "source": [
        "from transformers import RobertaTokenizer\n",
        "from optimum.onnxruntime import ORTModelForSequenceClassification\n",
        "\n",
        "MODEL_NAME = 'cross-encoder/nli-roberta-base'\n",
        "ONNX_MODEL = f\"onnx_models/{MODEL_NAME}\"\n",
        "\n",
        "ort_model = ORTModelForSequenceClassification.from_pretrained(MODEL_NAME)\n",
        "ort_model.save_pretrained(ONNX_MODEL)\n",
        "\n",
        "tokenizer = RobertaTokenizer.from_pretrained(MODEL_NAME)\n",
        "tokenizer.save_pretrained(ONNX_MODEL)"
      ]
    },
    {
      "cell_type": "markdown",
      "metadata": {
        "id": "WJ5Be8Xz-K6a"
      },
      "source": [
        "Let's have a look inside these two directories and see what we are dealing with:"
      ]
    },
    {
      "cell_type": "code",
      "execution_count": 3,
      "metadata": {
        "colab": {
          "base_uri": "https://localhost:8080/"
        },
        "id": "vLAXKLmU-K6b",
        "outputId": "01a687d1-d307-40d7-82ef-533924293a4c"
      },
      "outputs": [
        {
          "name": "stdout",
          "output_type": "stream",
          "text": [
            "total 488660\n",
            "-rw-r--r-- 1 root root       830 Jun 16 17:26 config.json\n",
            "-rw-r--r-- 1 root root    456318 Jun 16 17:27 merges.txt\n",
            "-rw-r--r-- 1 root root 498911192 Jun 16 17:26 model.onnx\n",
            "-rw-r--r-- 1 root root       957 Jun 16 17:26 special_tokens_map.json\n",
            "-rw-r--r-- 1 root root      1245 Jun 16 17:26 tokenizer_config.json\n",
            "-rw-r--r-- 1 root root    999355 Jun 16 17:27 vocab.json\n"
          ]
        }
      ],
      "source": [
        "!ls -l {ONNX_MODEL}"
      ]
    },
    {
      "cell_type": "markdown",
      "metadata": {
        "id": "W0YtJ-MH-K6b"
      },
      "source": [
        "- We need to move `vocab.txt` and `merges.txt` from the tokenizer into an `assets` folder, which is where Spark NLP expects to find them. However, before doing that, we first need to convert Hugging Face’s `vocab.json` into a plain `vocab.txt` format, as Spark NLP does not support the JSON format.\n",
        "- Additionally, we need to extract the `labels` and their corresponding `ids` from the model's config. This mapping will be saved as `labels.txt` inside the same `assets` folder."
      ]
    },
    {
      "cell_type": "code",
      "execution_count": 4,
      "metadata": {
        "id": "jOun6oV9-K6d"
      },
      "outputs": [],
      "source": [
        "import json\n",
        "\n",
        "!mkdir -p {ONNX_MODEL}/assets && mv {ONNX_MODEL}/merges.txt {ONNX_MODEL}/assets/\n",
        "\n",
        "with open(f\"{ONNX_MODEL}/vocab.json\") as f, open(f\"{ONNX_MODEL}/assets/vocab.txt\", \"w\") as out:\n",
        "    out.write(\"\\n\".join(json.load(f)))\n",
        "\n",
        "with open(f\"{ONNX_MODEL}/assets/labels.txt\", \"w\") as f:\n",
        "    f.write(\"\\n\".join(ort_model.config.id2label[k] for k in sorted(ort_model.config.id2label)))"
      ]
    },
    {
      "cell_type": "code",
      "execution_count": 5,
      "metadata": {
        "colab": {
          "base_uri": "https://localhost:8080/"
        },
        "id": "GvFbNFca-K6e",
        "outputId": "f2e0fdd1-c2fc-4164-8516-0b3e4796d385"
      },
      "outputs": [
        {
          "name": "stdout",
          "output_type": "stream",
          "text": [
            "onnx_models/cross-encoder/nli-roberta-base:\n",
            "total 488216\n",
            "drwxr-xr-x 2 root root      4096 Jun 16 17:27 assets\n",
            "-rw-r--r-- 1 root root       830 Jun 16 17:26 config.json\n",
            "-rw-r--r-- 1 root root 498911192 Jun 16 17:26 model.onnx\n",
            "-rw-r--r-- 1 root root       957 Jun 16 17:26 special_tokens_map.json\n",
            "-rw-r--r-- 1 root root      1245 Jun 16 17:26 tokenizer_config.json\n",
            "-rw-r--r-- 1 root root    999355 Jun 16 17:27 vocab.json\n",
            "\n",
            "onnx_models/cross-encoder/nli-roberta-base/assets:\n",
            "total 852\n",
            "-rw-r--r-- 1 root root     32 Jun 16 17:27 labels.txt\n",
            "-rw-r--r-- 1 root root 456318 Jun 16 17:27 merges.txt\n",
            "-rw-r--r-- 1 root root 407064 Jun 16 17:27 vocab.txt\n"
          ]
        }
      ],
      "source": [
        "!ls -lR {ONNX_MODEL}"
      ]
    },
    {
      "cell_type": "code",
      "execution_count": 6,
      "metadata": {
        "colab": {
          "base_uri": "https://localhost:8080/"
        },
        "id": "nNnZrBwwIFOY",
        "outputId": "6a2a5c31-9181-48cf-d8bf-28de8356490c"
      },
      "outputs": [
        {
          "name": "stdout",
          "output_type": "stream",
          "text": [
            "contradiction\n",
            "entailment\n",
            "neutral"
          ]
        }
      ],
      "source": [
        "!cat {ONNX_MODEL}/assets/labels.txt"
      ]
    },
    {
      "cell_type": "markdown",
      "metadata": {
        "id": "hOKkz0Uy-K6e"
      },
      "source": [
        "Voila! We have our `vocab.txt` and `merges.txt` inside assets directory, along with the extracted labels saved in `labels.txt`."
      ]
    },
    {
      "cell_type": "markdown",
      "metadata": {
        "id": "pIgKUX09-K6f"
      },
      "source": [
        "## Import and Save RoBertaForZeroShotClassification in Spark NLP\n"
      ]
    },
    {
      "cell_type": "markdown",
      "metadata": {
        "id": "YEeI8rQJ-K6f"
      },
      "source": [
        "- **Install and set up Spark NLP in Google Colab**\n",
        "  - This example uses specific versions of `pyspark` and `spark-nlp` that have been tested with the transformer model to ensure everything runs smoothly."
      ]
    },
    {
      "cell_type": "code",
      "execution_count": 7,
      "metadata": {
        "colab": {
          "base_uri": "https://localhost:8080/"
        },
        "id": "AVL5nzqn-K6f",
        "outputId": "58aeacbd-f86e-4fa1-a0c0-15856be497b4"
      },
      "outputs": [
        {
          "name": "stdout",
          "output_type": "stream",
          "text": [
            "\u001b[2K     \u001b[90m━━━━━━━━━━━━━━━━━━━━━━━━━━━━━━━━━━━━━━━\u001b[0m \u001b[32m317.3/317.3 MB\u001b[0m \u001b[31m1.6 MB/s\u001b[0m eta \u001b[36m0:00:00\u001b[0m\n",
            "\u001b[?25h  Preparing metadata (setup.py) ... \u001b[?25l\u001b[?25hdone\n",
            "\u001b[2K   \u001b[90m━━━━━━━━━━━━━━━━━━━━━━━━━━━━━━━━━━━━━━━━\u001b[0m \u001b[32m635.7/635.7 kB\u001b[0m \u001b[31m12.5 MB/s\u001b[0m eta \u001b[36m0:00:00\u001b[0m\n",
            "\u001b[?25h  Building wheel for pyspark (setup.py) ... \u001b[?25l\u001b[?25hdone\n"
          ]
        }
      ],
      "source": [
        "!pip install -q pyspark==3.5.4 spark-nlp==5.5.3"
      ]
    },
    {
      "cell_type": "markdown",
      "metadata": {
        "id": "c9KCqpER-K6f"
      },
      "source": [
        "Let's start Spark with Spark NLP included via our simple `start()` function"
      ]
    },
    {
      "cell_type": "code",
      "execution_count": 8,
      "metadata": {
        "colab": {
          "base_uri": "https://localhost:8080/"
        },
        "id": "35vpe6h8-K6f",
        "outputId": "22c8a179-a50f-41bd-9a88-9633e7b2ab28"
      },
      "outputs": [
        {
          "name": "stdout",
          "output_type": "stream",
          "text": [
            "Spark NLP version: 5.5.3\n",
            "Apache Spark version: 3.5.4\n"
          ]
        }
      ],
      "source": [
        "import sparknlp\n",
        "\n",
        "spark = sparknlp.start()\n",
        "\n",
        "print(\"Spark NLP version: {}\".format(sparknlp.version()))\n",
        "print(\"Apache Spark version: {}\".format(spark.version))"
      ]
    },
    {
      "cell_type": "markdown",
      "metadata": {
        "id": "IPu018qd-K6g"
      },
      "source": [
        "- Let's use `loadSavedModel` functon in `RoBertaForZeroShotClassification` which allows us to load TensorFlow model in SavedModel format\n",
        "- Most params can be set later when you are loading this model in `RoBertaForZeroShotClassification` in runtime like `setMaxSentenceLength`, so don't worry what you are setting them now\n",
        "- `loadSavedModel` accepts two params, first is the path to the TF SavedModel. The second is the SparkSession that is `spark` variable we previously started via `sparknlp.start()`\n",
        "- NOTE: `loadSavedModel` accepts local paths in addition to distributed file systems such as `HDFS`, `S3`, `DBFS`, etc. This feature was introduced in Spark NLP 4.2.2 release. Keep in mind the best and recommended way to move/share/reuse Spark NLP models is to use `write.save` so you can use `.load()` from any file systems natively.\n"
      ]
    },
    {
      "cell_type": "code",
      "execution_count": 9,
      "metadata": {
        "id": "Nu-I-aJw-K6g"
      },
      "outputs": [],
      "source": [
        "from sparknlp.annotator import RoBertaForZeroShotClassification\n",
        "\n",
        "zero_shot_classifier = RoBertaForZeroShotClassification.loadSavedModel(\n",
        "      ONNX_MODEL,\n",
        "      spark\n",
        "    )\\\n",
        "    .setInputCols([\"document\", \"token\"]) \\\n",
        "    .setOutputCol(\"class\") \\\n",
        "    .setCandidateLabels([\"urgent\", \"mobile\", \"travel\", \"movie\", \"music\", \"sport\", \"weather\", \"technology\"])"
      ]
    },
    {
      "cell_type": "markdown",
      "metadata": {
        "id": "-Phva_6h-K6g"
      },
      "source": [
        "- Let's save it on disk so it is easier to be moved around and also be used later via `.load` function"
      ]
    },
    {
      "cell_type": "code",
      "execution_count": 10,
      "metadata": {
        "id": "BGj2h9XU-K6h"
      },
      "outputs": [],
      "source": [
        "zero_shot_classifier.write().overwrite().save(\"./{}_spark_nlp_onnx\".format(MODEL_NAME))"
      ]
    },
    {
      "cell_type": "markdown",
      "metadata": {
        "id": "2_FC7Dtd-K6h"
      },
      "source": [
        "Let's clean up stuff we don't need anymore"
      ]
    },
    {
      "cell_type": "code",
      "execution_count": 11,
      "metadata": {
        "id": "ulva6h5B-K6h"
      },
      "outputs": [],
      "source": [
        "!rm -rf {MODEL_NAME}"
      ]
    },
    {
      "cell_type": "markdown",
      "metadata": {
        "id": "KFbsmXFt-K6h"
      },
      "source": [
        "Awesome 😎  !\n",
        "\n",
        "This is your RoBertaForZeroShotClassification model from HuggingFace 🤗  loaded and saved by Spark NLP 🚀"
      ]
    },
    {
      "cell_type": "code",
      "execution_count": 12,
      "metadata": {
        "colab": {
          "base_uri": "https://localhost:8080/"
        },
        "id": "PUBZPRVY-K6h",
        "outputId": "307b9f88-b7ae-4332-9d54-fcfbd3549520"
      },
      "outputs": [
        {
          "name": "stdout",
          "output_type": "stream",
          "text": [
            "total 487308\n",
            "drwxr-xr-x 5 root root      4096 Jun 16 17:30 fields\n",
            "drwxr-xr-x 2 root root      4096 Jun 16 17:30 metadata\n",
            "-rw-r--r-- 1 root root 498987456 Jun 16 17:30 roberta_classification_onnx\n"
          ]
        }
      ],
      "source": [
        "! ls -l {MODEL_NAME}_spark_nlp_onnx"
      ]
    },
    {
      "cell_type": "markdown",
      "metadata": {
        "id": "16es70YX-K6i"
      },
      "source": [
        "Now let's see how we can use it on other machines, clusters, or any place you wish to use your new and shiny BertForZeroShotClassification model 😊"
      ]
    },
    {
      "cell_type": "code",
      "execution_count": 13,
      "metadata": {
        "id": "0uyeaCQ0-K6i"
      },
      "outputs": [],
      "source": [
        "zero_shot_classifier_loaded = RoBertaForZeroShotClassification.load(\"./{}_spark_nlp_onnx\".format(MODEL_NAME))\\\n",
        "  .setInputCols([\"document\",'token'])\\\n",
        "  .setOutputCol(\"class\")"
      ]
    },
    {
      "cell_type": "markdown",
      "metadata": {
        "id": "dKBBm5h7-K6i"
      },
      "source": [
        "You can see what labels were used to train this model via `getClasses` function:"
      ]
    },
    {
      "cell_type": "code",
      "execution_count": 14,
      "metadata": {
        "colab": {
          "base_uri": "https://localhost:8080/"
        },
        "id": "yqIKDSle-K6i",
        "outputId": "02b4809d-ea25-4d59-de91-fe87262b3aa4"
      },
      "outputs": [
        {
          "data": {
            "text/plain": [
              "['entailment', 'neutral', 'contradiction']"
            ]
          },
          "execution_count": 14,
          "metadata": {},
          "output_type": "execute_result"
        }
      ],
      "source": [
        "zero_shot_classifier_loaded.getClasses()"
      ]
    },
    {
      "cell_type": "markdown",
      "metadata": {
        "id": "JoPHIT0W-K6j"
      },
      "source": [
        "This is how you can use your loaded classifier model in Spark NLP 🚀 pipeline:"
      ]
    },
    {
      "cell_type": "code",
      "execution_count": 15,
      "metadata": {
        "colab": {
          "base_uri": "https://localhost:8080/"
        },
        "id": "-aXlE9w_-K6j",
        "outputId": "688371af-9dce-4bdd-d70f-dfe5b8f67df8"
      },
      "outputs": [
        {
          "name": "stdout",
          "output_type": "stream",
          "text": [
            "+--------------------------------------------------------------------------------------------------------------+------------+\n",
            "|text                                                                                                          |result      |\n",
            "+--------------------------------------------------------------------------------------------------------------+------------+\n",
            "|I have a problem with my iPhone that needs to be resolved asap!!                                              |[weather]   |\n",
            "|Last week I upgraded my iOS version and ever since then my phone has been overheating whenever I use your app.|[weather]   |\n",
            "|I have a phone and I love it!                                                                                 |[weather]   |\n",
            "|I really want to visit Germany and I am planning to go there next year.                                       |[technology]|\n",
            "|Let's watch some movies tonight! I am in the mood for a horror movie.                                         |[mobile]    |\n",
            "|Have you watched the match yesterday? It was a great game!                                                    |[mobile]    |\n",
            "|We need to hurry up and get to the airport. We are going to miss our flight!                                  |[weather]   |\n",
            "+--------------------------------------------------------------------------------------------------------------+------------+\n",
            "\n"
          ]
        }
      ],
      "source": [
        "from sparknlp.base import DocumentAssembler\n",
        "from sparknlp.annotator import Tokenizer\n",
        "from pyspark.ml import Pipeline\n",
        "\n",
        "document_assembler = (\n",
        "    DocumentAssembler()\n",
        "    .setInputCol(\"text\")\n",
        "    .setOutputCol(\"document\")\n",
        ")\n",
        "\n",
        "tokenizer = (\n",
        "    Tokenizer()\n",
        "    .setInputCols(\"document\")\n",
        "    .setOutputCol(\"token\")\n",
        ")\n",
        "\n",
        "pipeline = Pipeline(stages=[\n",
        "    document_assembler,\n",
        "    tokenizer,\n",
        "    zero_shot_classifier_loaded\n",
        "])\n",
        "\n",
        "texts = [\n",
        "    [\"I have a problem with my iPhone that needs to be resolved asap!!\"],\n",
        "    [\"Last week I upgraded my iOS version and ever since then my phone has been overheating whenever I use your app.\"],\n",
        "    [\"I have a phone and I love it!\"],\n",
        "    [\"I really want to visit Germany and I am planning to go there next year.\"],\n",
        "    [\"Let's watch some movies tonight! I am in the mood for a horror movie.\"],\n",
        "    [\"Have you watched the match yesterday? It was a great game!\"],\n",
        "    [\"We need to hurry up and get to the airport. We are going to miss our flight!\"]\n",
        "]\n",
        "input_df = spark.createDataFrame(texts, [\"text\"])\n",
        "\n",
        "model = pipeline.fit(input_df)\n",
        "results = model.transform(input_df)\n",
        "\n",
        "results.select(\"text\", \"class.result\").show(truncate=False)"
      ]
    },
    {
      "cell_type": "markdown",
      "metadata": {
        "id": "TcauWbd9-K6l"
      },
      "source": [
        "That's it! You can now go wild and use hundreds of `RoBertaForZeroShotClassification` models from HuggingFace 🤗 in Spark NLP 🚀\n"
      ]
    }
  ],
  "metadata": {
    "accelerator": "GPU",
    "colab": {
      "gpuType": "T4",
      "provenance": []
    },
    "kernelspec": {
      "display_name": "Python 3",
      "name": "python3"
    },
    "language_info": {
      "codemirror_mode": {
        "name": "ipython",
        "version": 3
      },
      "file_extension": ".py",
      "mimetype": "text/x-python",
      "name": "python",
      "nbconvert_exporter": "python",
      "pygments_lexer": "ipython3"
    }
  },
  "nbformat": 4,
  "nbformat_minor": 0
}
