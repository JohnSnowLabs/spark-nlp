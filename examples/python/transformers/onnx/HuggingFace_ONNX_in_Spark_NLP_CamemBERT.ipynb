{
  "cells": [
    {
      "cell_type": "markdown",
      "metadata": {
        "id": "rjwzIrX8DryG"
      },
      "source": [
        "![JohnSnowLabs](https://sparknlp.org/assets/images/logo.png)\n",
        "\n",
        "[![Open In Colab](https://colab.research.google.com/assets/colab-badge.svg)](https://colab.research.google.com/github/JohnSnowLabs/spark-nlp/blob/master/examples/python/transformers/onnx/HuggingFace_ONNX_in_Spark_NLP_CamemBERT.ipynb)\n",
        "\n",
        "# Import ONNX CamemBERT models from HuggingFace 🤗 into Spark NLP 🚀\n",
        "\n",
        "Let's keep in mind a few things before we start 😊\n",
        "\n",
        "- ONNX support was introduced in  `Spark NLP 5.0.0`, enabling high performance inference for models. Please make sure you have upgraded to the latest Spark NLP release.\n",
        "- You can import models for CamemBERT from HuggingFace and they have to be in `Fill Mask` category. Meaning, you cannot use CamemBERT models trained/fine-tuned on a specific task such as token/sequence classification."
      ]
    },
    {
      "cell_type": "markdown",
      "metadata": {
        "id": "o3z1oElkDryJ"
      },
      "source": [
        "## Export and Save HuggingFace model"
      ]
    },
    {
      "cell_type": "markdown",
      "metadata": {
        "id": "peVXW8auDryK"
      },
      "source": [
        "- Let's install `transformers` package with the `onnx` extension and it's dependencies. You don't need `onnx` to be installed for Spark NLP, however, we need it to load and save models from HuggingFace.\n",
        "- We lock `transformers` on version `4.51.3`. This doesn't mean it won't work with the future releases, but we wanted you to know which versions have been tested successfully."
      ]
    },
    {
      "cell_type": "code",
      "execution_count": null,
      "metadata": {
        "colab": {
          "base_uri": "https://localhost:8080/"
        },
        "id": "BhdOCgKQDryK",
        "outputId": "e4ed22b4-c03a-4051-8eda-01859c4f97e0"
      },
      "outputs": [],
      "source": [
        "!pip install -q transformers[onnx]==4.51.3 optimum onnx"
      ]
    },
    {
      "cell_type": "markdown",
      "metadata": {
        "id": "SsQiq7DCDryL"
      },
      "source": [
        "- HuggingFace has an extension called Optimum which offers specialized model inference, including ONNX. We can use this to import and export ONNX models with `from_pretrained` and `save_pretrained`.\n",
        "- We'll use [camembert-base](https://huggingface.co/camembert-base) model from HuggingFace as an example and load it as a `ORTModelForFeatureExtraction`, representing an ONNX model.\n",
        "- In addition to the CamemBERT model, we also need to save the `CamembertTokenizer`. This is the same for every model, these are assets (saved in `/assets`) needed for tokenization inside Spark NLP."
      ]
    },
    {
      "cell_type": "code",
      "execution_count": 2,
      "metadata": {
        "colab": {
          "base_uri": "https://localhost:8080/",
          "height": 351,
          "referenced_widgets": [
            "0a184c3bfd0e4879a01bac42ae9bb4c7",
            "f2b529b0ca2a4df098462b401c251124",
            "75d4767d9f274316862057573652e4ae",
            "c1774612ab984b5f90ffec975d0c8a67",
            "e20f638ce85c493a8c59273aa9fabd5d",
            "b131bff6e2fd410ab1bde3207f924358",
            "89244b6b884a45f4a187353a1948878e",
            "e590ef5c5f45440797e2bcbb0b1ff27a",
            "4f6dab467b5a48e5b89d266260bdffe4",
            "68070271696a41ca89cb83ba3e50b9ae",
            "da146bdcaa0048c69812b6dc729a9fdb",
            "7e7ceb57c9f5496b9811dc7772d2502e",
            "e596818574814441b12d76e6791bff67",
            "3f8f252b2c2449d291d180c8e46dbbc0",
            "bb14b76b03264c3f9945db77733e321e",
            "a2a53227d61b4e2fb504ed53c8abc2b9",
            "dced9d54b7fe4272a10ca882c4c4bd43",
            "088c82c8546a4c9f99cd6194732cd779",
            "02cf16ddb9d14f5c9029e6e5d332e256",
            "fd41bc7e6a6e4438809341057a9c45ff",
            "00805d3fed5c442abbf6a4a160a31330",
            "4f877ecd74d44c4485b68a7fae44c647",
            "22a4db24c75d4e0ab50a5617f125ffea",
            "4da7de2f48584921b762cb4b2f1352f2",
            "82a136f6d54e4fc7bf0cca1055bea80d",
            "8431cee6f99f4c35acb7749e57419952",
            "d91a3492068b4ffaa43cf459f21fed47",
            "fe2be0f3676b40b5b0b96486848d1ddf",
            "15877ade2b704c8d949389bfdbeb26c9",
            "43e7489799a74c5e8ead4e0552ec348f",
            "b737459ef9bb4e1fa93a122c69d990a3",
            "916cbcb95dcd45cbabf01fd5110b7dea",
            "210f004ce4cf44f1ac8f99bc6ae62519",
            "48022f0883364fbc882d05932592172c",
            "2cddfbe7ab27464dac6e4500ea320efd",
            "8027affa0ca9408095235c6ebdff79c4",
            "d086a172425d425caa15939359c6cf8c",
            "cc336ab66ca749ec910418dfe201a572",
            "00235d6104c0495896cf875143e17de5",
            "7db31c79738e422b93a0dfb5630acd20",
            "22cba656640d41f59dc9b117ea2d4e9e",
            "d23f774284d94cfe87b88f82f139252f",
            "5ca2f1180a004b2db7859430aace3ab7",
            "7f2ce37a3f434762bd7cbeb631ae3f9d",
            "69e59fbe1c25446a9708e595a9c17d8e",
            "5d5588f437594bffb749b016dba22b3f",
            "b2aaaf1f26924a3ca2297144f4f4ab43",
            "1fc6ae2f2eca47fbba9c96c5a2607803",
            "f4ad92624b834ec9a014a04db45d4e7f",
            "d3d3730dd02040d4a64cdfe99fc0b176",
            "af9280af0317465a9bfc924218b3b969",
            "b81feb05829d403fb46f0422a42df6f3",
            "502c787eda244634bdc588ab1f67cf0c",
            "46f45067a114442d9ed6fe753262ab56",
            "b94d812e4f614af5b19fb6b93bed7606"
          ]
        },
        "id": "z0ORgkC1DryM",
        "outputId": "0c22f64a-8b62-4e1c-a339-6d430f2541a7"
      },
      "outputs": [
        {
          "name": "stderr",
          "output_type": "stream",
          "text": [
            "/usr/local/lib/python3.11/dist-packages/huggingface_hub/utils/_auth.py:94: UserWarning: \n",
            "The secret `HF_TOKEN` does not exist in your Colab secrets.\n",
            "To authenticate with the Hugging Face Hub, create a token in your settings tab (https://huggingface.co/settings/tokens), set it as secret in your Google Colab and restart your session.\n",
            "You will be able to reuse this secret in all of your notebooks.\n",
            "Please note that authentication is recommended but still optional to access public models or datasets.\n",
            "  warnings.warn(\n"
          ]
        },
        {
          "data": {
            "application/vnd.jupyter.widget-view+json": {
              "model_id": "0a184c3bfd0e4879a01bac42ae9bb4c7",
              "version_major": 2,
              "version_minor": 0
            },
            "text/plain": [
              "config.json:   0%|          | 0.00/508 [00:00<?, ?B/s]"
            ]
          },
          "metadata": {},
          "output_type": "display_data"
        },
        {
          "data": {
            "application/vnd.jupyter.widget-view+json": {
              "model_id": "7e7ceb57c9f5496b9811dc7772d2502e",
              "version_major": 2,
              "version_minor": 0
            },
            "text/plain": [
              "model.safetensors:   0%|          | 0.00/445M [00:00<?, ?B/s]"
            ]
          },
          "metadata": {},
          "output_type": "display_data"
        },
        {
          "data": {
            "application/vnd.jupyter.widget-view+json": {
              "model_id": "22a4db24c75d4e0ab50a5617f125ffea",
              "version_major": 2,
              "version_minor": 0
            },
            "text/plain": [
              "tokenizer_config.json:   0%|          | 0.00/25.0 [00:00<?, ?B/s]"
            ]
          },
          "metadata": {},
          "output_type": "display_data"
        },
        {
          "data": {
            "application/vnd.jupyter.widget-view+json": {
              "model_id": "48022f0883364fbc882d05932592172c",
              "version_major": 2,
              "version_minor": 0
            },
            "text/plain": [
              "sentencepiece.bpe.model:   0%|          | 0.00/811k [00:00<?, ?B/s]"
            ]
          },
          "metadata": {},
          "output_type": "display_data"
        },
        {
          "data": {
            "application/vnd.jupyter.widget-view+json": {
              "model_id": "69e59fbe1c25446a9708e595a9c17d8e",
              "version_major": 2,
              "version_minor": 0
            },
            "text/plain": [
              "tokenizer.json:   0%|          | 0.00/1.40M [00:00<?, ?B/s]"
            ]
          },
          "metadata": {},
          "output_type": "display_data"
        },
        {
          "data": {
            "text/plain": [
              "('onnx_models/camembert-base/tokenizer_config.json',\n",
              " 'onnx_models/camembert-base/special_tokens_map.json',\n",
              " 'onnx_models/camembert-base/sentencepiece.bpe.model',\n",
              " 'onnx_models/camembert-base/added_tokens.json')"
            ]
          },
          "execution_count": 2,
          "metadata": {},
          "output_type": "execute_result"
        }
      ],
      "source": [
        "from transformers import CamembertTokenizer\n",
        "from optimum.onnxruntime import ORTModelForFeatureExtraction\n",
        "\n",
        "MODEL_NAME = \"camembert-base\"\n",
        "EXPORT_PATH = f\"onnx_models/{MODEL_NAME}\"\n",
        "\n",
        "ort_model = ORTModelForFeatureExtraction.from_pretrained(MODEL_NAME, export=True)\n",
        "ort_model.save_pretrained(EXPORT_PATH)\n",
        "\n",
        "tokenizer = CamembertTokenizer.from_pretrained(MODEL_NAME)\n",
        "tokenizer.save_pretrained(EXPORT_PATH)"
      ]
    },
    {
      "cell_type": "markdown",
      "metadata": {
        "id": "-QTJsnsMDryN"
      },
      "source": [
        "Let's have a look inside these two directories and see what we are dealing with:"
      ]
    },
    {
      "cell_type": "code",
      "execution_count": 3,
      "metadata": {
        "colab": {
          "base_uri": "https://localhost:8080/"
        },
        "id": "wGazmGlGDryN",
        "outputId": "8b835497-cb49-4bb2-93ea-abc236abbdb9"
      },
      "outputs": [
        {
          "name": "stdout",
          "output_type": "stream",
          "text": [
            "total 430892\n",
            "-rw-r--r-- 1 root root        22 Jun 10 20:15 added_tokens.json\n",
            "-rw-r--r-- 1 root root       636 Jun 10 20:15 config.json\n",
            "-rw-r--r-- 1 root root 440405686 Jun 10 20:15 model.onnx\n",
            "-rw-r--r-- 1 root root    810912 Jun 10 20:15 sentencepiece.bpe.model\n",
            "-rw-r--r-- 1 root root       374 Jun 10 20:15 special_tokens_map.json\n",
            "-rw-r--r-- 1 root root      1814 Jun 10 20:15 tokenizer_config.json\n"
          ]
        }
      ],
      "source": [
        "!ls -l {EXPORT_PATH}"
      ]
    },
    {
      "cell_type": "markdown",
      "metadata": {
        "id": "C5CaON-ZyB5Q"
      },
      "source": [
        "- We need to move the `sentencepiece.bpe.model` file from the tokenizer into an assets folder, as this is where Spark NLP looks for it when working with models like Camembert or other SentencePiece-based tokenizers."
      ]
    },
    {
      "cell_type": "code",
      "execution_count": 4,
      "metadata": {
        "id": "2FD2RXWEx0p4"
      },
      "outputs": [],
      "source": [
        "!mkdir -p {EXPORT_PATH}/assets & mv {EXPORT_PATH}/sentencepiece.bpe.model {EXPORT_PATH}/assets/"
      ]
    },
    {
      "cell_type": "code",
      "execution_count": 5,
      "metadata": {
        "colab": {
          "base_uri": "https://localhost:8080/"
        },
        "id": "11C8xg7VDryO",
        "outputId": "38e6eb15-5d37-4447-8205-eb4696b9575d"
      },
      "outputs": [
        {
          "name": "stdout",
          "output_type": "stream",
          "text": [
            "total 792\n",
            "-rw-r--r-- 1 root root 810912 Jun 10 20:15 sentencepiece.bpe.model\n"
          ]
        }
      ],
      "source": [
        "!ls -l {EXPORT_PATH}/assets"
      ]
    },
    {
      "cell_type": "markdown",
      "metadata": {
        "id": "ZUl5EWIjemSz"
      },
      "source": [
        "Voila! We have our `sentencepiece.bpe.model` inside assets directory"
      ]
    },
    {
      "cell_type": "markdown",
      "metadata": {
        "id": "ufGdY6IwDryO"
      },
      "source": [
        "## Import and Save CamemBERT in Spark NLP"
      ]
    },
    {
      "cell_type": "markdown",
      "metadata": {
        "id": "plgeCcHnetGu"
      },
      "source": [
        "- Let's install and setup Spark NLP in Google Colab. For this example, we'll use specific versions of `pyspark` and `spark-nlp` that we've already tested with this transformer model to make sure everything runs smoothly."
      ]
    },
    {
      "cell_type": "code",
      "execution_count": 6,
      "metadata": {
        "colab": {
          "base_uri": "https://localhost:8080/"
        },
        "id": "dAD6AU0pDryO",
        "outputId": "cf8fad0c-e8b1-4eea-978f-a77a06e461fa"
      },
      "outputs": [
        {
          "name": "stdout",
          "output_type": "stream",
          "text": [
            "\u001b[2K     \u001b[90m━━━━━━━━━━━━━━━━━━━━━━━━━━━━━━━━━━━━━━━\u001b[0m \u001b[32m317.3/317.3 MB\u001b[0m \u001b[31m5.4 MB/s\u001b[0m eta \u001b[36m0:00:00\u001b[0m\n",
            "\u001b[?25h  Preparing metadata (setup.py) ... \u001b[?25l\u001b[?25hdone\n",
            "\u001b[2K   \u001b[90m━━━━━━━━━━━━━━━━━━━━━━━━━━━━━━━━━━━━━━━━\u001b[0m \u001b[32m635.7/635.7 kB\u001b[0m \u001b[31m47.2 MB/s\u001b[0m eta \u001b[36m0:00:00\u001b[0m\n",
            "\u001b[?25h  Building wheel for pyspark (setup.py) ... \u001b[?25l\u001b[?25hdone\n"
          ]
        }
      ],
      "source": [
        "!pip install -q pyspark==3.5.4 spark-nlp==5.5.3"
      ]
    },
    {
      "cell_type": "markdown",
      "metadata": {
        "id": "G30SPZ6ODryP"
      },
      "source": [
        "Let's start Spark with Spark NLP included via our simple `start()` function"
      ]
    },
    {
      "cell_type": "code",
      "execution_count": 7,
      "metadata": {
        "colab": {
          "base_uri": "https://localhost:8080/"
        },
        "id": "M8q1MmWzDryP",
        "outputId": "17263104-dbd2-4429-ca60-82f62823da41"
      },
      "outputs": [
        {
          "name": "stdout",
          "output_type": "stream",
          "text": [
            "Spark NLP version:  5.5.3\n",
            "Apache Spark version:  3.5.4\n"
          ]
        }
      ],
      "source": [
        "import sparknlp\n",
        "\n",
        "spark = sparknlp.start()\n",
        "\n",
        "print(\"Spark NLP version: \", sparknlp.version())\n",
        "print(\"Apache Spark version: \", spark.version)"
      ]
    },
    {
      "cell_type": "markdown",
      "metadata": {
        "id": "ds_ExaOzDryP"
      },
      "source": [
        "- Let's use `loadSavedModel` functon in `CamemBertEmbeddings` which allows us to load the ONNX model\n",
        "- Most params will be set automatically. They can also be set later after loading the model in `CamemBertEmbeddings` during runtime, so don't worry about setting them now\n",
        "- `loadSavedModel` accepts two params, first is the path to the exported model. The second is the SparkSession that is `spark` variable we previously started via `sparknlp.start()`\n",
        "- `setStorageRef` is very important. When you are training a task like NER or any Text Classification, we use this reference to bound the trained model to this specific embeddings so you won't load a different embeddings by mistake and see terrible results 😊\n",
        "- It's up to you what you put in `setStorageRef` but it cannot be changed later on. We usually use the name of the model to be clear, but you can get creative if you want!\n",
        "- The `dimension` param is is purely cosmetic and won't change anything. It's mostly for you to know later via `.getDimension` what is the dimension of your model. So set this accordingly.\n",
        "- NOTE: `loadSavedModel` accepts local paths in addition to distributed file systems such as `HDFS`, `S3`, `DBFS`, etc. This feature was introduced in Spark NLP 4.2.2 release. Keep in mind the best and recommended way to move/share/reuse Spark NLP models is to use `write.save` so you can use `.load()` from any file systems natively.st and recommended way to move/share/reuse Spark NLP models is to use `write.save` so you can use `.load()` from any file systems natively.\n"
      ]
    },
    {
      "cell_type": "code",
      "execution_count": 8,
      "metadata": {
        "id": "4Jq3iEPnDryP"
      },
      "outputs": [],
      "source": [
        "from sparknlp.annotator import CamemBertEmbeddings\n",
        "\n",
        "camembert = CamemBertEmbeddings.loadSavedModel(f\"{EXPORT_PATH}\", spark)\\\n",
        "    .setInputCols([\"document\",'token'])\\\n",
        "    .setOutputCol(\"camembert\")\\\n",
        "    .setCaseSensitive(True)\\\n",
        "    .setDimension(768)\\\n",
        "    .setStorageRef('camembert_base')"
      ]
    },
    {
      "cell_type": "markdown",
      "metadata": {
        "id": "VV2byG6nDryQ"
      },
      "source": [
        "- Let's save it on disk so it is easier to be moved around and also be used later via `.load` function"
      ]
    },
    {
      "cell_type": "code",
      "execution_count": 9,
      "metadata": {
        "id": "IJg_m3_XDryQ"
      },
      "outputs": [],
      "source": [
        "camembert.write().overwrite().save(f\"{MODEL_NAME}_spark_nlp\")"
      ]
    },
    {
      "cell_type": "markdown",
      "metadata": {
        "id": "Kh-tb9_fDryQ"
      },
      "source": [
        "Let's clean up stuff we don't need anymore"
      ]
    },
    {
      "cell_type": "code",
      "execution_count": 10,
      "metadata": {
        "id": "MgrrUEHGDryQ"
      },
      "outputs": [],
      "source": [
        "!rm -rf {EXPORT_PATH}"
      ]
    },
    {
      "cell_type": "markdown",
      "metadata": {
        "id": "z8YdT_ktDryQ"
      },
      "source": [
        "Awesome  😎 !\n",
        "\n",
        "This is your ONNX CamemBERT model from HuggingFace 🤗  loaded and saved by Spark NLP 🚀"
      ]
    },
    {
      "cell_type": "code",
      "execution_count": 11,
      "metadata": {
        "colab": {
          "base_uri": "https://localhost:8080/"
        },
        "id": "7rbX2SeoDryQ",
        "outputId": "d6c561b8-7df4-4aee-aaf9-65d8bc82011e"
      },
      "outputs": [
        {
          "name": "stdout",
          "output_type": "stream",
          "text": [
            "total 430952\n",
            "-rw-r--r-- 1 root root 440473025 Jun 10 20:19 camembert_onnx\n",
            "-rw-r--r-- 1 root root    810912 Jun 10 20:19 camembert_spp\n",
            "drwxr-xr-x 2 root root      4096 Jun 10 20:19 metadata\n"
          ]
        }
      ],
      "source": [
        "! ls -l {MODEL_NAME}_spark_nlp"
      ]
    },
    {
      "cell_type": "markdown",
      "metadata": {
        "id": "D_1AlWt5DryQ"
      },
      "source": [
        "Now let's see how we can use it on other machines, clusters, or any place you wish to use your new and shiny CamemBERT model 😊"
      ]
    },
    {
      "cell_type": "code",
      "execution_count": 12,
      "metadata": {
        "colab": {
          "base_uri": "https://localhost:8080/"
        },
        "id": "aPODwxbqDryR",
        "outputId": "511a65fc-7a14-46e9-a87b-ed0afbeaab25"
      },
      "outputs": [
        {
          "name": "stdout",
          "output_type": "stream",
          "text": [
            "+----------------------------------------------------------------------------------------------------+\n",
            "|                                                                                          embeddings|\n",
            "+----------------------------------------------------------------------------------------------------+\n",
            "|[-0.048798718, 0.13934422, 0.17626338, 0.15536329, -0.016455, -0.012065249, -0.13586293, 0.042687...|\n",
            "|[0.007033877, 0.15960854, 0.11289671, 0.12562779, -0.015402641, -0.21577366, -0.07879828, 0.09592...|\n",
            "|[-0.021704827, -0.1526426, -0.068746425, 0.19136184, -0.10606898, -0.08022556, -0.171636, -0.0090...|\n",
            "|[0.045735035, 0.09138474, -0.19595747, 0.024617488, 0.0609179, 0.06903413, -0.104803, -0.05503395...|\n",
            "|[0.092956275, 0.07005064, -0.1215685, 0.1707416, 0.06562891, 0.12712705, -0.05587231, -0.05288334...|\n",
            "|[0.06815244, 0.22697632, -0.12149057, 0.01782827, 0.05155113, 0.021605168, -0.13541833, -0.232393...|\n",
            "|[0.08471602, -0.33922884, -0.07471369, 0.23726627, -0.03673842, -0.17772703, -0.19488484, -0.1531...|\n",
            "|[0.19377176, 0.50193655, -0.014785895, 0.124498874, -0.055001974, -0.07219544, -0.24496433, -0.15...|\n",
            "|[0.1104356, -0.07546057, 0.01936775, 0.13302772, -0.12563704, 0.08490218, -0.14329606, -0.0477172...|\n",
            "|[0.2018031, 0.09729192, -0.19936368, 0.107990034, -0.07429128, -0.13043994, -0.12899666, -0.02668...|\n",
            "|[0.08674741, 0.23608454, 0.08607179, 0.37361318, -0.08688769, 0.13517007, -0.20897385, -0.0675311...|\n",
            "|[0.10806343, 0.4091234, -0.06193972, 0.119472876, -0.05353898, -0.1581316, -0.055312414, -0.06774...|\n",
            "|[0.116159484, 0.42323792, -0.07620558, 0.11525394, -0.03299405, 0.009939689, -0.11275734, 0.11377...|\n",
            "|[0.029693548, -0.15914086, 0.082976244, 0.0481621, -0.16789888, 0.045958836, -0.2851254, 0.097100...|\n",
            "|[0.0307067, 0.17325723, 0.20595792, 0.010765235, -0.062286407, 0.113284364, -0.21401231, 0.162533...|\n",
            "|[-0.019459367, 0.29331863, 0.22603717, 0.14956093, 0.03273697, 0.08779226, -0.15586926, 0.0235469...|\n",
            "|[0.08347607, -0.09255792, 0.022254966, 0.06633968, -0.19996223, 0.12578046, 0.00573837, 0.0361147...|\n",
            "|[-0.012706382, 0.28216064, -0.16357505, -0.0473808, -0.07168662, 0.12297603, -0.23742932, 0.12925...|\n",
            "|[-0.055337973, 0.28444278, -0.10695444, 0.026886292, 0.07118607, 0.09344981, 0.0052329563, 0.1805...|\n",
            "|[0.071561605, -0.11088726, 0.025918059, 0.06098475, -0.21998392, 0.16976617, 0.01822197, 0.022704...|\n",
            "+----------------------------------------------------------------------------------------------------+\n",
            "only showing top 20 rows\n",
            "\n"
          ]
        }
      ],
      "source": [
        "from sparknlp.base import DocumentAssembler\n",
        "from sparknlp.annotator import Tokenizer\n",
        "from pyspark.ml import Pipeline\n",
        "\n",
        "document_assembler = DocumentAssembler() \\\n",
        "    .setInputCol(\"text\") \\\n",
        "    .setOutputCol(\"document\")\n",
        "\n",
        "tokenizer = Tokenizer() \\\n",
        "    .setInputCols([\"document\"]) \\\n",
        "    .setOutputCol(\"token\")\n",
        "\n",
        "camembert_loaded = CamemBertEmbeddings.load(f\"{MODEL_NAME}_spark_nlp\") \\\n",
        "    .setInputCols([\"document\", \"token\"]) \\\n",
        "    .setOutputCol(\"camembert\")\n",
        "\n",
        "pipeline = Pipeline(stages=[\n",
        "    document_assembler,\n",
        "    tokenizer,\n",
        "    camembert_loaded\n",
        "])\n",
        "\n",
        "data = spark.createDataFrame([\n",
        "    [\"William Henry Gates III (born October 28, 1955) is an American business magnate, software developer, investor, and philanthropist.\"]\n",
        "]).toDF(\"text\")\n",
        "\n",
        "model = pipeline.fit(data)\n",
        "result = model.transform(data)\n",
        "result.selectExpr(\"explode(camembert.embeddings) as embeddings\").show(truncate=100)"
      ]
    },
    {
      "cell_type": "markdown",
      "metadata": {
        "id": "Ppx1SlrADryR"
      },
      "source": [
        "That's it! You can now go wild and use hundreds of CamemBERT models from HuggingFace 🤗 in Spark NLP 🚀\n"
      ]
    }
  ],
  "metadata": {
    "accelerator": "GPU",
    "colab": {
      "gpuType": "T4",
      "provenance": []
    },
    "kernelspec": {
      "display_name": "Python 3",
      "name": "python3"
    },
    "language_info": {
      "codemirror_mode": {
        "name": "ipython",
        "version": 3
      },
      "file_extension": ".py",
      "mimetype": "text/x-python",
      "name": "python",
      "nbconvert_exporter": "python",
      "pygments_lexer": "ipython3"
    }
  },
  "nbformat": 4,
  "nbformat_minor": 0
}
