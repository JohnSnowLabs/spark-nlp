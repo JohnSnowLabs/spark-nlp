{
  "cells": [
    {
      "cell_type": "markdown",
      "metadata": {
        "id": "wrAnFX6x-PrC"
      },
      "source": [
        "![JohnSnowLabs](https://sparknlp.org/assets/images/logo.png)\n",
        "\n",
        "[![Open In Colab](https://colab.research.google.com/assets/colab-badge.svg)](https://colab.research.google.com/github/JohnSnowLabs/spark-nlp/blob/master/examples/python/transformers/onnx/HuggingFace_ONNX_in_Spark_NLP_DeBertaForZeroShotClassification.ipynb)"
      ]
    },
    {
      "cell_type": "markdown",
      "metadata": {
        "id": "gpdE2rnv-PrG"
      },
      "source": [
        "## Import ONNX BertForZeroShotClassification  models from HuggingFace 🤗  into Spark NLP 🚀\n",
        "\n",
        "Let's keep in mind a few things before we start 😊\n",
        "\n",
        "- ONNX support was introduced in  `Spark NLP 5.0.0`, enabling high performance inference for models.\n",
        "- `BertForZeroShotClassification ` is only available since in `Spark NLP 5.2.4` and after. So please make sure you have upgraded to the latest Spark NLP release\n",
        "- You can import Deberta models trained/fine-tuned for zero shot classification via `DebertaV2ForSequenceClassification` or `TFDebertaV2ForSequenceClassification`. These models are usually under `Zero-Shot Classification` category and have `bert` in their labels\n",
        "- Reference: [TFDebertaV2ForSequenceClassification](https://huggingface.co/docs/transformers/en/model_doc/deberta-v2#transformers.TFDebertaV2ForSequenceClassification)\n",
        "- Some [example models](https://huggingface.co/models?pipeline_tag=zero-shot-classification&sort=downloads&search=deberta)"
      ]
    },
    {
      "cell_type": "markdown",
      "metadata": {
        "id": "KP2QmjFQ-PrH"
      },
      "source": [
        "## Export and Save HuggingFace model"
      ]
    },
    {
      "cell_type": "markdown",
      "metadata": {
        "id": "hw97GKMe-PrI"
      },
      "source": [
        "- Let's install `transformers` package with the `onnx` extension and it's dependencies. You don't need `onnx` to be installed for Spark NLP, however, we need it to load and save models from HuggingFace.\n",
        "- We lock `transformers` on version `4.51.3`. This doesn't mean it won't work with the future releases, but we wanted you to know which versions have been tested successfully.\n",
        "- Albert uses SentencePiece, so we will have to install that as well"
      ]
    },
    {
      "cell_type": "code",
      "execution_count": null,
      "metadata": {
        "colab": {
          "base_uri": "https://localhost:8080/"
        },
        "id": "r0MabEvQ-PrJ",
        "outputId": "551a3d79-ae6c-4c58-81b4-951bda0987d9"
      },
      "outputs": [],
      "source": [
        "!pip install -q transformers[onnx]==4.51.3 optimum onnx"
      ]
    },
    {
      "cell_type": "markdown",
      "metadata": {
        "id": "x9Pcezd3-PrK"
      },
      "source": [
        "- HuggingFace has an extension called Optimum which offers specialized model inference, including ONNX. We can use this to import and export ONNX models with `from_pretrained` and `save_pretrained`.\n",
        "- We'll use [MoritzLaurer/DeBERTa-v3-base-mnli-fever-anli](https://huggingface.co/MoritzLaurer/DeBERTa-v3-base-mnli-fever-anli) model from HuggingFace as an example and load it as a `ORTModelForSequenceClassification`, representing an ONNX model.\n",
        "- In addition to the DeBERTa model, we also need to save the tokenizer. This is the same for every model, these are assets (saved in `/assets`) needed for tokenization inside Spark NLP."
      ]
    },
    {
      "cell_type": "code",
      "execution_count": 2,
      "metadata": {
        "colab": {
          "base_uri": "https://localhost:8080/",
          "height": 415,
          "referenced_widgets": [
            "e3503d9ac9a647c5ac6e0b9bfbec775c",
            "9e191e1a1b874eabbfdc0e957b36574e",
            "eb09115bd2c040c6b15a386096098228",
            "4c2a25bf4a3a47aba775bbe7333574b7",
            "0c84af1b0eb1411e9cb73ebd546450d1",
            "58d34c9031c04d609709147ed5262820",
            "f45d22096ceb43cbada77ece49962034",
            "e5ac78b4ad884103bf8b4628c86d88c0",
            "0d04954c66a04e428718b0c534550141",
            "e2621ef0a36a4d5c8288b11ba8b16126",
            "ed97971bc24a4f3e9b55e92a4d7649f0",
            "56d70a7c3b694c858815e16335b60f79",
            "b7abc3fb352c4affa6dcd608f5ca6571",
            "a6a1c599482f4de2bac7813e8ef01774",
            "9dd5130d55e0414a87eef56b7a803cdb",
            "2620b326395d44da9254e223b2ae33d7",
            "873ec21f87d5476aab1e98212b98af4f",
            "01be694516e24430aa052c9e64ef1147",
            "67d25053e96840d183f15ecaf38054d9",
            "684e08bd879c4c17965dff1821676760",
            "3efedc7a26d74c089f4d9d14ae04e4b3",
            "ece4a0c0eff6425fb13476943f99bafd",
            "5e99844628ef424fae6f88b047d7d847",
            "f73bc37b3d10402f89e817849951e284",
            "af6729c578df471584f3838a2af85d31",
            "d0cc5f5b26b44866804801fb982657d1",
            "9cf5de70b73643bf8bad95547ec7d7d9",
            "a24db713462943afb8515a9419ba55f0",
            "8b68c693dd114d9db44d0182df2507ea",
            "5d10608839bf4ba097a78ca462a4d191",
            "a9eb6a0a9d6b4114a4314a30088793f5",
            "6146bf100e7b400584324e2a6531edd2",
            "0f0293191e4d42a7829836f5e85ea909",
            "d7151239e4ee43c39df116c7c0bb8328",
            "88cf5a9dd1174caea605b9253ab47571",
            "0561a0be8887467e89f6d7b2fb65a52d",
            "87c735f9ee6644629de6c6812e2570a1",
            "df09358954144323847233ad6abf2348",
            "0441a72aa3ed4707b2acd194b6edbd5b",
            "1fcb9b95dff442178fcbaa8eb1dd9c80",
            "7997967976174eb2840a4d2b0a218014",
            "a58152d6d6d64976a6b5f65f059a446f",
            "0bf86939bed9437e83d05d0d0b621b11",
            "d492c8869cb649c5b69aad3f7d9f7b27",
            "9a216ac1508f44b3b53b6507438ae781",
            "032632dddcc4476f8ae4ce67a214bd5b",
            "8163a29b86314367bb75c73e1128dad2",
            "92ec7a0a9e2f46a39edd7d81d947bdaa",
            "14442bd8519b4163bf3da10a70a48224",
            "86cbd9047c1646ba8dbf1d715e0b4dfa",
            "776dffa8e973413582a7671be1eecb02",
            "f5e416f1ec944b1492cf1624c143a07f",
            "ca8c78465b2a47f3ab7339dfa045173a",
            "210e16006b6140b5bae51b918cb3ab4a",
            "5f32ce498c2647edac7a5b9ed6042f51",
            "509f613af0b946c586f5a6e27fffa4d8",
            "f56c15c303e445c2a5d51b1a4d7e650d",
            "a9725c91ef774793ad0172303fdfc030",
            "92ac357342cf463c8195a75db00284b2",
            "b5c0b07a27214ecc827ffb3354f8e5a0",
            "67b96db23c8844f383d0a70f373594a3",
            "fb299518a4ca45d3a430ca2a3f059fba",
            "dc795cb4a8634bbbb7f4b8aebab7043a",
            "b7de79a4a65f49c0a4724264cb448cef",
            "14c30a70f6334e3cbce09c3d293a28cc",
            "9fca024285c74210bea10dbaf50c1937",
            "f628748ffdf941a08e781bcfb28e9fdd",
            "5341c165860741beb0bf1e46ee3a2e7e",
            "f5d29961730e41b0887712cedb1410b4",
            "71c4c7688dcc4b619d40f2e1db29c39f",
            "762a2ad1cbdf4db08020d4ad0af838bd",
            "baa4a82c742140149c376d5e4a8870fd",
            "8757e0db35cf40e1ac317d6912c2aa4c",
            "95eb9159389940ee980f72df1f26c971",
            "8fd5988e886e4f0baf47d62d26666464",
            "07d96ef0a47642b3a7e81fb8919aa13e",
            "0a2351d3a1e04c6d84e3cc89d14aa6c0"
          ]
        },
        "id": "OmEDhFxrq-dQ",
        "outputId": "10cad849-c6b4-46e9-9b01-3d5ba2410cde"
      },
      "outputs": [
        {
          "name": "stderr",
          "output_type": "stream",
          "text": [
            "/usr/local/lib/python3.11/dist-packages/huggingface_hub/utils/_auth.py:94: UserWarning: \n",
            "The secret `HF_TOKEN` does not exist in your Colab secrets.\n",
            "To authenticate with the Hugging Face Hub, create a token in your settings tab (https://huggingface.co/settings/tokens), set it as secret in your Google Colab and restart your session.\n",
            "You will be able to reuse this secret in all of your notebooks.\n",
            "Please note that authentication is recommended but still optional to access public models or datasets.\n",
            "  warnings.warn(\n"
          ]
        },
        {
          "data": {
            "application/vnd.jupyter.widget-view+json": {
              "model_id": "e3503d9ac9a647c5ac6e0b9bfbec775c",
              "version_major": 2,
              "version_minor": 0
            },
            "text/plain": [
              "config.json:   0%|          | 0.00/1.09k [00:00<?, ?B/s]"
            ]
          },
          "metadata": {},
          "output_type": "display_data"
        },
        {
          "data": {
            "application/vnd.jupyter.widget-view+json": {
              "model_id": "56d70a7c3b694c858815e16335b60f79",
              "version_major": 2,
              "version_minor": 0
            },
            "text/plain": [
              "model.safetensors:   0%|          | 0.00/369M [00:00<?, ?B/s]"
            ]
          },
          "metadata": {},
          "output_type": "display_data"
        },
        {
          "data": {
            "application/vnd.jupyter.widget-view+json": {
              "model_id": "5e99844628ef424fae6f88b047d7d847",
              "version_major": 2,
              "version_minor": 0
            },
            "text/plain": [
              "tokenizer_config.json:   0%|          | 0.00/1.28k [00:00<?, ?B/s]"
            ]
          },
          "metadata": {},
          "output_type": "display_data"
        },
        {
          "data": {
            "application/vnd.jupyter.widget-view+json": {
              "model_id": "d7151239e4ee43c39df116c7c0bb8328",
              "version_major": 2,
              "version_minor": 0
            },
            "text/plain": [
              "spm.model:   0%|          | 0.00/2.46M [00:00<?, ?B/s]"
            ]
          },
          "metadata": {},
          "output_type": "display_data"
        },
        {
          "data": {
            "application/vnd.jupyter.widget-view+json": {
              "model_id": "9a216ac1508f44b3b53b6507438ae781",
              "version_major": 2,
              "version_minor": 0
            },
            "text/plain": [
              "tokenizer.json:   0%|          | 0.00/8.66M [00:00<?, ?B/s]"
            ]
          },
          "metadata": {},
          "output_type": "display_data"
        },
        {
          "data": {
            "application/vnd.jupyter.widget-view+json": {
              "model_id": "509f613af0b946c586f5a6e27fffa4d8",
              "version_major": 2,
              "version_minor": 0
            },
            "text/plain": [
              "added_tokens.json:   0%|          | 0.00/23.0 [00:00<?, ?B/s]"
            ]
          },
          "metadata": {},
          "output_type": "display_data"
        },
        {
          "data": {
            "application/vnd.jupyter.widget-view+json": {
              "model_id": "f628748ffdf941a08e781bcfb28e9fdd",
              "version_major": 2,
              "version_minor": 0
            },
            "text/plain": [
              "special_tokens_map.json:   0%|          | 0.00/286 [00:00<?, ?B/s]"
            ]
          },
          "metadata": {},
          "output_type": "display_data"
        },
        {
          "data": {
            "text/plain": [
              "('onnx_models/MoritzLaurer/DeBERTa-v3-base-mnli-fever-anli/tokenizer_config.json',\n",
              " 'onnx_models/MoritzLaurer/DeBERTa-v3-base-mnli-fever-anli/special_tokens_map.json',\n",
              " 'onnx_models/MoritzLaurer/DeBERTa-v3-base-mnli-fever-anli/spm.model',\n",
              " 'onnx_models/MoritzLaurer/DeBERTa-v3-base-mnli-fever-anli/added_tokens.json')"
            ]
          },
          "execution_count": 2,
          "metadata": {},
          "output_type": "execute_result"
        }
      ],
      "source": [
        "from transformers import DebertaV2Tokenizer\n",
        "from optimum.onnxruntime import ORTModelForSequenceClassification\n",
        "\n",
        "MODEL_NAME = 'MoritzLaurer/DeBERTa-v3-base-mnli-fever-anli'\n",
        "ONNX_MODEL = f\"onnx_models/{MODEL_NAME}\"\n",
        "\n",
        "ort_model = ORTModelForSequenceClassification.from_pretrained(MODEL_NAME, export=True)\n",
        "ort_model.save_pretrained(ONNX_MODEL)\n",
        "\n",
        "tokenizer = DebertaV2Tokenizer.from_pretrained(MODEL_NAME)\n",
        "tokenizer.save_pretrained(ONNX_MODEL)"
      ]
    },
    {
      "cell_type": "markdown",
      "metadata": {
        "id": "onxZhPWj-PrM"
      },
      "source": [
        "Let's have a look inside these two directories and see what we are dealing with:"
      ]
    },
    {
      "cell_type": "code",
      "execution_count": 3,
      "metadata": {
        "colab": {
          "base_uri": "https://localhost:8080/"
        },
        "id": "YdZWYKuNsQQK",
        "outputId": "77163980-5600-43da-af88-49c3e9ee1e57"
      },
      "outputs": [
        {
          "name": "stdout",
          "output_type": "stream",
          "text": [
            "total 723692\n",
            "-rw-r--r-- 1 root root        23 Jun 12 01:16 added_tokens.json\n",
            "-rw-r--r-- 1 root root      1022 Jun 12 01:16 config.json\n",
            "-rw-r--r-- 1 root root 738574335 Jun 12 01:16 model.onnx\n",
            "-rw-r--r-- 1 root root       970 Jun 12 01:16 special_tokens_map.json\n",
            "-rw-r--r-- 1 root root   2464616 Jun 12 01:16 spm.model\n",
            "-rw-r--r-- 1 root root      1314 Jun 12 01:16 tokenizer_config.json\n"
          ]
        }
      ],
      "source": [
        "!ls -l {ONNX_MODEL}"
      ]
    },
    {
      "cell_type": "markdown",
      "metadata": {
        "id": "OLucONAz-PrN"
      },
      "source": [
        "- As you can see, we need to move `vocabs.txt` from the tokenizer to assets folder which Spark NLP will look for\n",
        "- We also need `labels` and their `ids` which is saved inside the model's config. We will save this inside `labels.txt`"
      ]
    },
    {
      "cell_type": "code",
      "execution_count": 4,
      "metadata": {
        "id": "JBUn0WUv-PrN"
      },
      "outputs": [],
      "source": [
        "!mkdir {ONNX_MODEL}/assets\n",
        "\n",
        "labels = ort_model.config.id2label\n",
        "labels = [value for key, value in sorted(labels.items())]\n",
        "\n",
        "with open(f\"{ONNX_MODEL}/assets/labels.txt\", 'w') as f:\n",
        "    f.write('\\n'.join(labels))\n",
        "\n",
        "!mv {ONNX_MODEL}/spm.model  {ONNX_MODEL}/assets"
      ]
    },
    {
      "cell_type": "code",
      "execution_count": 9,
      "metadata": {
        "colab": {
          "base_uri": "https://localhost:8080/"
        },
        "id": "rUzdowSy-PrR",
        "outputId": "f2ed6673-6334-4a72-e579-825af2b95902"
      },
      "outputs": [
        {
          "name": "stdout",
          "output_type": "stream",
          "text": [
            "onnx_models/MoritzLaurer/DeBERTa-v3-base-mnli-fever-anli:\n",
            "total 721288\n",
            "-rw-r--r-- 1 root root        23 Jun 12 01:16 added_tokens.json\n",
            "drwxr-xr-x 2 root root      4096 Jun 12 01:16 assets\n",
            "-rw-r--r-- 1 root root      1022 Jun 12 01:16 config.json\n",
            "-rw-r--r-- 1 root root 738574335 Jun 12 01:16 model.onnx\n",
            "-rw-r--r-- 1 root root       970 Jun 12 01:16 special_tokens_map.json\n",
            "-rw-r--r-- 1 root root      1314 Jun 12 01:16 tokenizer_config.json\n",
            "\n",
            "onnx_models/MoritzLaurer/DeBERTa-v3-base-mnli-fever-anli/assets:\n",
            "total 2412\n",
            "-rw-r--r-- 1 root root      32 Jun 12 01:16 labels.txt\n",
            "-rw-r--r-- 1 root root 2464616 Jun 12 01:16 spm.model\n"
          ]
        }
      ],
      "source": [
        "!ls -lR {ONNX_MODEL}"
      ]
    },
    {
      "cell_type": "code",
      "execution_count": 8,
      "metadata": {
        "colab": {
          "base_uri": "https://localhost:8080/"
        },
        "id": "kk8PyP9Cvbig",
        "outputId": "9938ebe9-412b-4e96-8306-2ab989303895"
      },
      "outputs": [
        {
          "name": "stdout",
          "output_type": "stream",
          "text": [
            "entailment\n",
            "neutral\n",
            "contradiction"
          ]
        }
      ],
      "source": [
        "!cat {ONNX_MODEL}/assets/labels.txt"
      ]
    },
    {
      "cell_type": "markdown",
      "metadata": {
        "id": "WjdO_Z2f-PrO"
      },
      "source": [
        "Voila! We have our `vocab.txt` and `labels.txt` inside assets directory"
      ]
    },
    {
      "cell_type": "markdown",
      "metadata": {
        "id": "zk28iNof8WR5"
      },
      "source": [
        "## Import and Save DeBertaForZeroShotClassification in Spark NLP\n"
      ]
    },
    {
      "cell_type": "markdown",
      "metadata": {
        "id": "J__aVVu48WR5"
      },
      "source": [
        "- **Install and set up Spark NLP in Google Colab**\n",
        "  - This example uses specific versions of `pyspark` and `spark-nlp` that have been tested with the transformer model to ensure everything runs smoothly.\n",
        "\n",
        "- **Optional: Use the latest versions**\n",
        "  - If you prefer to use the latest versions instead, you can install them with:\n",
        "    ```bash\n",
        "    !wget http://setup.johnsnowlabs.com/colab.sh -O - | bash\n",
        "    ```\n",
        "  - Note: The latest versions may introduce breaking changes, so you might need to adjust the code accordingly.\n"
      ]
    },
    {
      "cell_type": "code",
      "execution_count": 6,
      "metadata": {
        "colab": {
          "base_uri": "https://localhost:8080/"
        },
        "id": "udnbTHNj8WR6",
        "outputId": "5a96e5f9-46e5-4e60-f816-493607cb7a96"
      },
      "outputs": [
        {
          "name": "stdout",
          "output_type": "stream",
          "text": [
            "\u001b[2K     \u001b[90m━━━━━━━━━━━━━━━━━━━━━━━━━━━━━━━━━━━━━━━\u001b[0m \u001b[32m317.3/317.3 MB\u001b[0m \u001b[31m1.5 MB/s\u001b[0m eta \u001b[36m0:00:00\u001b[0m\n",
            "\u001b[?25h  Preparing metadata (setup.py) ... \u001b[?25l\u001b[?25hdone\n",
            "\u001b[2K   \u001b[90m━━━━━━━━━━━━━━━━━━━━━━━━━━━━━━━━━━━━━━━━\u001b[0m \u001b[32m635.7/635.7 kB\u001b[0m \u001b[31m40.6 MB/s\u001b[0m eta \u001b[36m0:00:00\u001b[0m\n",
            "\u001b[?25h  Building wheel for pyspark (setup.py) ... \u001b[?25l\u001b[?25hdone\n"
          ]
        }
      ],
      "source": [
        "!pip install -q pyspark==3.5.4 spark-nlp==5.5.3"
      ]
    },
    {
      "cell_type": "markdown",
      "metadata": {
        "id": "5u9B2ldj8WR6"
      },
      "source": [
        "Let's start Spark with Spark NLP included via our simple `start()` function"
      ]
    },
    {
      "cell_type": "code",
      "execution_count": 7,
      "metadata": {
        "colab": {
          "base_uri": "https://localhost:8080/"
        },
        "id": "twQ6BHyo8WR6",
        "outputId": "1465e802-d742-401c-fc13-5f4596ded290"
      },
      "outputs": [
        {
          "name": "stdout",
          "output_type": "stream",
          "text": [
            "Spark NLP version:  5.5.3\n",
            "Apache Spark version:  3.5.4\n"
          ]
        }
      ],
      "source": [
        "import sparknlp\n",
        "\n",
        "spark = sparknlp.start()\n",
        "\n",
        "print(\"Spark NLP version: \", sparknlp.version())\n",
        "print(\"Apache Spark version: \", spark.version)"
      ]
    },
    {
      "cell_type": "markdown",
      "metadata": {
        "id": "rOEy0EXR8WR7"
      },
      "source": [
        "- Let's use `loadSavedModel` functon in `DeBertaForZeroShotClassification` which allows us to load TensorFlow model in SavedModel format\n",
        "- Most params can be set later when you are loading this model in `DeBertaForZeroShotClassification` in runtime like `setMaxSentenceLength`, so don't worry what you are setting them now\n",
        "- `loadSavedModel` accepts two params, first is the path to the TF SavedModel. The second is the SparkSession that is `spark` variable we previously started via `sparknlp.start()`\n",
        "- NOTE: `loadSavedModel` accepts local paths in addition to distributed file systems such as `HDFS`, `S3`, `DBFS`, etc. This feature was introduced in Spark NLP 4.2.2 release. Keep in mind the best and recommended way to move/share/reuse Spark NLP models is to use `write.save` so you can use `.load()` from any file systems natively."
      ]
    },
    {
      "cell_type": "code",
      "execution_count": 10,
      "metadata": {
        "id": "lcqReFJO8WR7"
      },
      "outputs": [],
      "source": [
        "from sparknlp.annotator import DeBertaForZeroShotClassification\n",
        "\n",
        "zero_shot_classifier = DeBertaForZeroShotClassification.loadSavedModel(\n",
        "      ONNX_MODEL,\n",
        "      spark\n",
        "      )\\\n",
        "    .setInputCols([\"document\", \"token\"]) \\\n",
        "    .setOutputCol(\"class\") \\\n",
        "    .setCandidateLabels([\"urgent\", \"mobile\", \"travel\", \"movie\", \"music\", \"sport\", \"weather\", \"technology\"])"
      ]
    },
    {
      "cell_type": "markdown",
      "metadata": {
        "id": "VmHVmBCo8WR9"
      },
      "source": [
        "- Let's save it on disk so it is easier to be moved around and also be used later via `.load` function"
      ]
    },
    {
      "cell_type": "code",
      "execution_count": 11,
      "metadata": {
        "id": "9RBvw6p58WR9"
      },
      "outputs": [],
      "source": [
        "zero_shot_classifier.write().overwrite().save(\"./{}_spark_nlp\".format(ONNX_MODEL))"
      ]
    },
    {
      "cell_type": "markdown",
      "metadata": {
        "id": "DgUg2p0v8WR9"
      },
      "source": [
        "Let's clean up stuff we don't need anymore"
      ]
    },
    {
      "cell_type": "code",
      "execution_count": 12,
      "metadata": {
        "id": "cdBziZhw8WR-"
      },
      "outputs": [],
      "source": [
        "!rm -rf {MODEL_NAME}_tokenizer {MODEL_NAME}"
      ]
    },
    {
      "cell_type": "markdown",
      "metadata": {
        "id": "_iwYIQ6U8WR-"
      },
      "source": [
        "Awesome 😎  !\n",
        "\n",
        "This is your DebertaV2ForSequenceClassification model from HuggingFace 🤗  loaded and saved by Spark NLP 🚀"
      ]
    },
    {
      "cell_type": "code",
      "execution_count": 13,
      "metadata": {
        "colab": {
          "base_uri": "https://localhost:8080/"
        },
        "id": "8JAkr3438WR-",
        "outputId": "91f90d3b-ca82-4eb4-a157-544beb9b67ec"
      },
      "outputs": [
        {
          "name": "stdout",
          "output_type": "stream",
          "text": [
            "ls: cannot access 'MoritzLaurer/DeBERTa-v3-base-mnli-fever-anli_spark_nlp': No such file or directory\n"
          ]
        }
      ],
      "source": [
        "! ls -l {MODEL_NAME}_spark_nlp"
      ]
    },
    {
      "cell_type": "markdown",
      "metadata": {
        "id": "D5c2xWtt8WR-"
      },
      "source": [
        "Now let's see how we can use it on other machines, clusters, or any place you wish to use your new and shiny DeBertaForZeroShotClassification model 😊"
      ]
    },
    {
      "cell_type": "code",
      "execution_count": 14,
      "metadata": {
        "id": "JjxWoPhW8WR_"
      },
      "outputs": [],
      "source": [
        "zero_shot_classifier_loaded = DeBertaForZeroShotClassification.load(\"./{}_spark_nlp\".format(ONNX_MODEL))\\\n",
        "  .setInputCols([\"document\",'token'])\\\n",
        "  .setOutputCol(\"class\")"
      ]
    },
    {
      "cell_type": "markdown",
      "metadata": {
        "id": "rAITDhUg8WSA"
      },
      "source": [
        "This is how you can use your loaded classifier model in Spark NLP 🚀 pipeline:"
      ]
    },
    {
      "cell_type": "code",
      "execution_count": 15,
      "metadata": {
        "colab": {
          "base_uri": "https://localhost:8080/"
        },
        "id": "b4svOlV88WSA",
        "outputId": "896bdf76-f768-42f9-80ca-caab1b5bce80"
      },
      "outputs": [
        {
          "name": "stdout",
          "output_type": "stream",
          "text": [
            "+--------------------------------------------------------------------------------------------------------------+---------+\n",
            "|text                                                                                                          |result   |\n",
            "+--------------------------------------------------------------------------------------------------------------+---------+\n",
            "|I have a problem with my iphone that needs to be resolved asap!!                                              |[music]  |\n",
            "|Last week I upgraded my iOS version and ever since then my phone has been overheating whenever I use your app.|[weather]|\n",
            "|I have a phone and I love it!                                                                                 |[sport]  |\n",
            "|I really want to visit Germany and I am planning to go there next year.                                       |[sport]  |\n",
            "|Let's watch some movies tonight! I am in the mood for a horror movie.                                         |[music]  |\n",
            "|Have you watched the match yesterday? It was a great game!                                                    |[sport]  |\n",
            "|We need to hurry up and get to the airport. We are going to miss our flight!                                  |[mobile] |\n",
            "+--------------------------------------------------------------------------------------------------------------+---------+\n",
            "\n"
          ]
        }
      ],
      "source": [
        "from pyspark.ml import Pipeline\n",
        "from sparknlp.base import DocumentAssembler\n",
        "from sparknlp.annotator import Tokenizer\n",
        "\n",
        "document_assembler = DocumentAssembler() \\\n",
        "    .setInputCol(\"text\") \\\n",
        "    .setOutputCol(\"document\")\n",
        "\n",
        "tokenizer = Tokenizer() \\\n",
        "    .setInputCols(\"document\") \\\n",
        "    .setOutputCol(\"token\")\n",
        "\n",
        "pipeline = Pipeline(stages=[\n",
        "    document_assembler,\n",
        "    tokenizer,\n",
        "    zero_shot_classifier_loaded\n",
        "])\n",
        "\n",
        "text = [\n",
        "    [\"I have a problem with my iphone that needs to be resolved asap!!\"],\n",
        "    [\"Last week I upgraded my iOS version and ever since then my phone has been overheating whenever I use your app.\"],\n",
        "    [\"I have a phone and I love it!\"],\n",
        "    [\"I really want to visit Germany and I am planning to go there next year.\"],\n",
        "    [\"Let's watch some movies tonight! I am in the mood for a horror movie.\"],\n",
        "    [\"Have you watched the match yesterday? It was a great game!\"],\n",
        "    [\"We need to hurry up and get to the airport. We are going to miss our flight!\"]\n",
        "]\n",
        "\n",
        "inputDataset = spark.createDataFrame(text, [\"text\"])\n",
        "\n",
        "model = pipeline.fit(inputDataset)\n",
        "result = model.transform(inputDataset)\n",
        "\n",
        "result.select(\"text\", \"class.result\").show(truncate=False)"
      ]
    },
    {
      "cell_type": "markdown",
      "metadata": {
        "id": "26gEdXR28WSB"
      },
      "source": [
        "That's it! You can now go wild and use hundreds of `DebertaV2ForSequenceClassification` models as zero-shot classifiers from HuggingFace 🤗 in Spark NLP 🚀"
      ]
    }
  ],
  "metadata": {
    "accelerator": "GPU",
    "colab": {
      "gpuType": "T4",
      "provenance": []
    },
    "kernelspec": {
      "display_name": "Python 3",
      "name": "python3"
    },
    "language_info": {
      "codemirror_mode": {
        "name": "ipython",
        "version": 3
      },
      "file_extension": ".py",
      "mimetype": "text/x-python",
      "name": "python",
      "nbconvert_exporter": "python",
      "pygments_lexer": "ipython3"
    }
  },
  "nbformat": 4,
  "nbformat_minor": 0
}
