{
  "cells": [
    {
      "cell_type": "markdown",
      "metadata": {
        "id": "myRLo4DoOXMv"
      },
      "source": [
        "![JohnSnowLabs](https://sparknlp.org/assets/images/logo.png)\n",
        "\n",
        "[![Open In Colab](https://colab.research.google.com/assets/colab-badge.svg)](https://colab.research.google.com/github/JohnSnowLabs/spark-nlp/blob/master/examples/python/transformers/onnx/HuggingFace_ONNX_in_Spark_NLP_CamemBertForZeroShotClassification.ipynb)"
      ]
    },
    {
      "cell_type": "markdown",
      "metadata": {
        "id": "kbcLY-vUOXMx"
      },
      "source": [
        "## Import ONNX CamemBertForZeroShotClassification models from HuggingFace 🤗  into Spark NLP 🚀\n",
        "\n",
        "Let's keep in mind a few things before we start 😊\n",
        "\n",
        "- ONNX support was introduced in  `Spark NLP 5.0.0`, enabling high performance inference for models.\n",
        "- `CamemBertForZeroShotClassification` is only available since in `Spark NLP 5.4.2` and after. So please make sure you have upgraded to the latest Spark NLP release\n",
        "- You can import CamemBERT models trained/fine-tuned for sequence classification via `CamembertForSequenceClassification` or `TFCamembertForSequenceClassification`. These models are usually under `Sequence Classification` category and have `camembert` in their labels\n",
        "- Reference: [TFCamembertForSequenceClassification](https://huggingface.co/docs/transformers/model_doc/camembert#transformers.TFCamembertForSequenceClassification)\n",
        "- Some [example models](https://huggingface.co/models?other=camembert&pipeline_tag=token-classification)"
      ]
    },
    {
      "cell_type": "markdown",
      "metadata": {
        "id": "p6AcYDNmOXMy"
      },
      "source": [
        "## Export and Save HuggingFace model"
      ]
    },
    {
      "cell_type": "markdown",
      "metadata": {
        "id": "bdBT4GeOOXMy"
      },
      "source": [
        "- Let's install `transformers` package with the `onnx` extension and it's dependencies. You don't need `onnx` to be installed for Spark NLP, however, we need it to load and save models from HuggingFace.\n",
        "- We lock `transformers` on version `4.51.3`. This doesn't mean it won't work with the future releases, but we wanted you to know which versions have been tested successfully.\n",
        "- CamembertTokenizer requires the `SentencePiece` library, so we install that as well"
      ]
    },
    {
      "cell_type": "code",
      "execution_count": null,
      "metadata": {
        "colab": {
          "base_uri": "https://localhost:8080/"
        },
        "id": "X_2GFHYJOXMz",
        "outputId": "cfab7db2-f9c0-4ffe-f619-2d63b1a49603"
      },
      "outputs": [],
      "source": [
        "!pip install -q transformers[onnx]==4.51.3 optimum onnx"
      ]
    },
    {
      "cell_type": "markdown",
      "metadata": {
        "id": "KwJwuD8zOXM0"
      },
      "source": [
        "- HuggingFace has an extension called Optimum which offers specialized model inference, including ONNX. We can use this to import and export ONNX models with `from_pretrained` and `save_pretrained`.\n",
        "- We'll use [tblard/tf-allocine](https://huggingface.co/tblard/tf-allocine)  model from HuggingFace as an example and load it as a `ORTModelForSequenceClassification`, representing an ONNX model.\n",
        "- In addition to the CamemBERT model, we also need to save the `CamembertTokenizer`. This is the same for every model, these are assets (saved in `/assets`) needed for tokenization inside Spark NLP."
      ]
    },
    {
      "cell_type": "code",
      "execution_count": 3,
      "metadata": {
        "colab": {
          "base_uri": "https://localhost:8080/"
        },
        "id": "xm2lRUOxOXM0",
        "outputId": "43c3bba9-7274-4aec-ae38-8bbf0bb9a558"
      },
      "outputs": [
        {
          "data": {
            "text/plain": [
              "('onnx_models/mtheo/camembert-base-xnli/tokenizer_config.json',\n",
              " 'onnx_models/mtheo/camembert-base-xnli/special_tokens_map.json',\n",
              " 'onnx_models/mtheo/camembert-base-xnli/sentencepiece.bpe.model',\n",
              " 'onnx_models/mtheo/camembert-base-xnli/added_tokens.json')"
            ]
          },
          "execution_count": 3,
          "metadata": {},
          "output_type": "execute_result"
        }
      ],
      "source": [
        "from transformers import CamembertTokenizer\n",
        "from optimum.onnxruntime import ORTModelForSequenceClassification\n",
        "\n",
        "MODEL_NAME = 'mtheo/camembert-base-xnli'\n",
        "ONNX_MODEL = f\"onnx_models/{MODEL_NAME}\"\n",
        "\n",
        "ort_model = ORTModelForSequenceClassification.from_pretrained(MODEL_NAME, export=True)\n",
        "ort_model.save_pretrained(ONNX_MODEL)\n",
        "\n",
        "tokenizer = CamembertTokenizer.from_pretrained('camembert-base')\n",
        "tokenizer.save_pretrained(ONNX_MODEL)"
      ]
    },
    {
      "cell_type": "markdown",
      "metadata": {
        "id": "42GXDuPCOXM1"
      },
      "source": [
        "Let's have a look inside these two directories and see what we are dealing with:"
      ]
    },
    {
      "cell_type": "code",
      "execution_count": 5,
      "metadata": {
        "colab": {
          "base_uri": "https://localhost:8080/"
        },
        "id": "rUab53MhT9dj",
        "outputId": "36b43124-a5aa-4837-bc2b-7ce92ea62c83"
      },
      "outputs": [
        {
          "name": "stdout",
          "output_type": "stream",
          "text": [
            "total 433252\n",
            "-rw-r--r-- 1 root root        22 Jun 11 21:49 added_tokens.json\n",
            "-rw-r--r-- 1 root root       885 Jun 11 21:49 config.json\n",
            "-rw-r--r-- 1 root root 442816472 Jun 11 21:49 model.onnx\n",
            "-rw-r--r-- 1 root root    810912 Jun 11 21:49 sentencepiece.bpe.model\n",
            "-rw-r--r-- 1 root root       374 Jun 11 21:49 special_tokens_map.json\n",
            "-rw-r--r-- 1 root root      1814 Jun 11 21:49 tokenizer_config.json\n"
          ]
        }
      ],
      "source": [
        "!ls -l {ONNX_MODEL}"
      ]
    },
    {
      "cell_type": "markdown",
      "metadata": {
        "id": "lUKXGzFYOXM1"
      },
      "source": [
        "- As you can see, we need to move `sentencepiece.bpe.model` from the tokenizer to assets folder which Spark NLP will look for\n",
        "- In addition to vocabs, we also need `labels` and their `ids` which is saved inside the model's config. We will save this inside `labels.txt`"
      ]
    },
    {
      "cell_type": "code",
      "execution_count": 6,
      "metadata": {
        "id": "GT-EioRiOXM1"
      },
      "outputs": [],
      "source": [
        "!mkdir -p {ONNX_MODEL}/assets\n",
        "\n",
        "labels = ort_model.config.id2label\n",
        "sorted_labels = [label for _, label in sorted(labels.items())]\n",
        "\n",
        "with open(f\"{ONNX_MODEL}/assets/labels.txt\", 'w') as f:\n",
        "    f.write('\\n'.join(sorted_labels))\n",
        "\n",
        "!mv {ONNX_MODEL}/sentencepiece.bpe.model {ONNX_MODEL}/assets/"
      ]
    },
    {
      "cell_type": "code",
      "execution_count": 8,
      "metadata": {
        "colab": {
          "base_uri": "https://localhost:8080/"
        },
        "id": "XTzghoZ9OXM2",
        "outputId": "78bd5690-6fbd-4770-c547-ed5fd50f3512"
      },
      "outputs": [
        {
          "name": "stdout",
          "output_type": "stream",
          "text": [
            "onnx_models/mtheo/camembert-base-xnli:\n",
            "total 432464\n",
            "-rw-r--r-- 1 root root        22 Jun 11 21:49 added_tokens.json\n",
            "drwxr-xr-x 2 root root      4096 Jun 11 21:50 assets\n",
            "-rw-r--r-- 1 root root       885 Jun 11 21:49 config.json\n",
            "-rw-r--r-- 1 root root 442816472 Jun 11 21:49 model.onnx\n",
            "-rw-r--r-- 1 root root       374 Jun 11 21:49 special_tokens_map.json\n",
            "-rw-r--r-- 1 root root      1814 Jun 11 21:49 tokenizer_config.json\n",
            "\n",
            "onnx_models/mtheo/camembert-base-xnli/assets:\n",
            "total 796\n",
            "-rw-r--r-- 1 root root     32 Jun 11 21:50 labels.txt\n",
            "-rw-r--r-- 1 root root 810912 Jun 11 21:49 sentencepiece.bpe.model\n"
          ]
        }
      ],
      "source": [
        "!ls -lR {ONNX_MODEL}"
      ]
    },
    {
      "cell_type": "markdown",
      "metadata": {
        "id": "oTyrVcwPOXM2"
      },
      "source": [
        "Voila! We have our `sentencepiece.bpe.model` and `labels.txt` inside assets directory"
      ]
    },
    {
      "cell_type": "markdown",
      "metadata": {
        "id": "MtZFJ3geOXM2"
      },
      "source": [
        "## Import and Save CamemBertForZeroShotClassification in Spark NLP\n"
      ]
    },
    {
      "cell_type": "markdown",
      "metadata": {
        "id": "tKGcJKB_OXM2"
      },
      "source": [
        "- Let's install and setup Spark NLP in Google Colab.\n",
        "- For this example we'll use specific versions of `pyspark` and `spark-nlp` that we've already tested with this transformer model to make sure everything runs smoothly."
      ]
    },
    {
      "cell_type": "code",
      "execution_count": 9,
      "metadata": {
        "colab": {
          "base_uri": "https://localhost:8080/"
        },
        "id": "r2-9OsKzOXM2",
        "outputId": "8062cac9-0f54-43a8-8a05-56db9310976b"
      },
      "outputs": [
        {
          "name": "stdout",
          "output_type": "stream",
          "text": [
            "\u001b[2K     \u001b[90m━━━━━━━━━━━━━━━━━━━━━━━━━━━━━━━━━━━━━━━\u001b[0m \u001b[32m317.3/317.3 MB\u001b[0m \u001b[31m5.8 MB/s\u001b[0m eta \u001b[36m0:00:00\u001b[0m\n",
            "\u001b[?25h  Preparing metadata (setup.py) ... \u001b[?25l\u001b[?25hdone\n",
            "\u001b[2K   \u001b[90m━━━━━━━━━━━━━━━━━━━━━━━━━━━━━━━━━━━━━━━━\u001b[0m \u001b[32m635.7/635.7 kB\u001b[0m \u001b[31m31.8 MB/s\u001b[0m eta \u001b[36m0:00:00\u001b[0m\n",
            "\u001b[?25h  Building wheel for pyspark (setup.py) ... \u001b[?25l\u001b[?25hdone\n"
          ]
        }
      ],
      "source": [
        "!pip install -q pyspark==3.5.4 spark-nlp==5.5.3"
      ]
    },
    {
      "cell_type": "markdown",
      "metadata": {
        "id": "uQrimXpqOXM2"
      },
      "source": [
        "Let's start Spark with Spark NLP included via our simple `start()` function"
      ]
    },
    {
      "cell_type": "code",
      "execution_count": 10,
      "metadata": {
        "colab": {
          "base_uri": "https://localhost:8080/"
        },
        "id": "Kl2EKK-lOXM3",
        "outputId": "1ed2d6d8-ad42-4aeb-f652-448735f31a1f"
      },
      "outputs": [
        {
          "name": "stdout",
          "output_type": "stream",
          "text": [
            "Spark NLP version:  5.5.3\n",
            "Apache Spark version:  3.5.4\n"
          ]
        }
      ],
      "source": [
        "import sparknlp\n",
        "\n",
        "spark = sparknlp.start()\n",
        "\n",
        "print(\"Spark NLP version: \", sparknlp.version())\n",
        "print(\"Apache Spark version: \", spark.version)"
      ]
    },
    {
      "cell_type": "markdown",
      "metadata": {
        "id": "cIoqa8jpOXM3"
      },
      "source": [
        "- Let's use `loadSavedModel` functon in `CamemBertForSequenceClassification` which allows us to load TensorFlow model in SavedModel format\n",
        "- Most params can be set later when you are loading this model in `CamemBertForSequenceClassification` in runtime like `setMaxSentenceLength`, so don't worry what you are setting them now\n",
        "- `loadSavedModel` accepts two params, first is the path to the TF SavedModel. The second is the SparkSession that is `spark` variable we previously started via `sparknlp.start()`\n",
        "- NOTE: `loadSavedModel` accepts local paths in addition to distributed file systems such as `HDFS`, `S3`, `DBFS`, etc. This feature was introduced in Spark NLP 4.2.2 release. Keep in mind the best and recommended way to move/share/reuse Spark NLP models is to use `write.save` so you can use `.load()` from any file systems natively."
      ]
    },
    {
      "cell_type": "code",
      "execution_count": 11,
      "metadata": {
        "id": "K6W_LZSLOXM3"
      },
      "outputs": [],
      "source": [
        "from sparknlp.annotator import CamemBertForZeroShotClassification\n",
        "\n",
        "zero_shot_classifier = CamemBertForZeroShotClassification.loadSavedModel(\n",
        "      f\"{ONNX_MODEL}\",\n",
        "      spark\n",
        "  )\\\n",
        "    .setInputCols([\"document\",'token'])\\\n",
        "    .setOutputCol(\"class\")\\\n",
        "    .setCaseSensitive(True)\\\n",
        "    .setMaxSentenceLength(128)"
      ]
    },
    {
      "cell_type": "markdown",
      "metadata": {
        "id": "U--84qnxOXM3"
      },
      "source": [
        "- Let's save it on disk so it is easier to be moved around and also be used later via `.load` function"
      ]
    },
    {
      "cell_type": "code",
      "execution_count": 12,
      "metadata": {
        "id": "FeL-PyNLOXM3"
      },
      "outputs": [],
      "source": [
        "zero_shot_classifier.write().overwrite().save(\"./{}_spark_nlp_onnx\".format(ONNX_MODEL))"
      ]
    },
    {
      "cell_type": "markdown",
      "metadata": {
        "id": "KiX_wtJzOXM3"
      },
      "source": [
        "Let's clean up stuff we don't need anymore"
      ]
    },
    {
      "cell_type": "code",
      "execution_count": 13,
      "metadata": {
        "id": "-QDg7Y6bOXM3"
      },
      "outputs": [],
      "source": [
        "!rm -rf {ONNX_MODEL}"
      ]
    },
    {
      "cell_type": "markdown",
      "metadata": {
        "id": "Bfk3hT24OXM3"
      },
      "source": [
        "Awesome 😎  !\n",
        "\n",
        "This is your CamemBertForZeroShotClassification model from HuggingFace 🤗  loaded and saved by Spark NLP 🚀"
      ]
    },
    {
      "cell_type": "code",
      "execution_count": 14,
      "metadata": {
        "colab": {
          "base_uri": "https://localhost:8080/"
        },
        "id": "BQgl3FIvOXM4",
        "outputId": "15d0ac0f-b4d0-4bb3-a599-4f227e144dc4"
      },
      "outputs": [
        {
          "name": "stdout",
          "output_type": "stream",
          "text": [
            "total 433312\n",
            "-rw-r--r-- 1 root root 442884176 Jun 11 21:52 camembert_classification_onnx\n",
            "-rw-r--r-- 1 root root    810912 Jun 11 21:52 camembert_spp\n",
            "drwxr-xr-x 3 root root      4096 Jun 11 21:52 fields\n",
            "drwxr-xr-x 2 root root      4096 Jun 11 21:52 metadata\n"
          ]
        }
      ],
      "source": [
        "! ls -l {ONNX_MODEL}_spark_nlp_onnx"
      ]
    },
    {
      "cell_type": "markdown",
      "metadata": {
        "id": "Fz3MtMcUOXM4"
      },
      "source": [
        "Now let's see how we can use it on other machines, clusters, or any place you wish to use your new and shiny CamemBertForZeroShotClassification model 😊"
      ]
    },
    {
      "cell_type": "code",
      "execution_count": 15,
      "metadata": {
        "id": "IEbYe8JfOXM4"
      },
      "outputs": [],
      "source": [
        "zero_shot_classifier_loaded = CamemBertForZeroShotClassification.load(\n",
        "    f\"./{ONNX_MODEL}_spark_nlp_onnx\"\n",
        ") \\\n",
        ".setInputCols([\"document\", \"token\"]) \\\n",
        ".setOutputCol(\"class\") \\\n",
        ".setCandidateLabels([\"sport\", \"politique\", \"science\"])"
      ]
    },
    {
      "cell_type": "markdown",
      "metadata": {
        "id": "OiGTom7aOXM4"
      },
      "source": [
        "You can see what labels were used to train this model via `getClasses` function:"
      ]
    },
    {
      "cell_type": "code",
      "execution_count": 19,
      "metadata": {
        "colab": {
          "base_uri": "https://localhost:8080/"
        },
        "id": "33b5pv9KOXM4",
        "outputId": "07cfef17-9c9a-491b-9db0-367bba63ee06"
      },
      "outputs": [
        {
          "data": {
            "text/plain": [
              "['entailment', 'neutral', 'contradiction']"
            ]
          },
          "execution_count": 19,
          "metadata": {},
          "output_type": "execute_result"
        }
      ],
      "source": [
        "zero_shot_classifier_loaded.getClasses()"
      ]
    },
    {
      "cell_type": "markdown",
      "metadata": {
        "id": "i9DBBy2QOXM4"
      },
      "source": [
        "This is how you can use your loaded classifier model in Spark NLP 🚀 pipeline:"
      ]
    },
    {
      "cell_type": "code",
      "execution_count": 17,
      "metadata": {
        "colab": {
          "base_uri": "https://localhost:8080/"
        },
        "id": "pojxPjIfOXM4",
        "outputId": "5c38cfde-148b-4769-bbb7-2a4d52975b16"
      },
      "outputs": [
        {
          "name": "stdout",
          "output_type": "stream",
          "text": [
            "+-------------------------------------------------------+-----------+\n",
            "|text                                                   |result     |\n",
            "+-------------------------------------------------------+-----------+\n",
            "|Alad'2 est clairement le meilleur film de l'année 2018.|[politique]|\n",
            "|Je m'attendais à mieux de la part de Franck Dubosc !   |[politique]|\n",
            "+-------------------------------------------------------+-----------+\n",
            "\n"
          ]
        }
      ],
      "source": [
        "from pyspark.ml import Pipeline\n",
        "from sparknlp.base import DocumentAssembler\n",
        "from sparknlp.annotator import Tokenizer\n",
        "\n",
        "document_assembler = DocumentAssembler() \\\n",
        "    .setInputCol(\"text\") \\\n",
        "    .setOutputCol(\"document\")\n",
        "\n",
        "tokenizer = Tokenizer() \\\n",
        "    .setInputCols([\"document\"]) \\\n",
        "    .setOutputCol(\"token\")\n",
        "\n",
        "pipeline = Pipeline(stages=[\n",
        "    document_assembler,\n",
        "    tokenizer,\n",
        "    zero_shot_classifier_loaded\n",
        "])\n",
        "\n",
        "example = spark.createDataFrame([\n",
        "    [\"Alad'2 est clairement le meilleur film de l'année 2018.\"],\n",
        "    [\"Je m'attendais à mieux de la part de Franck Dubosc !\"]\n",
        "], [\"text\"])\n",
        "\n",
        "result = pipeline.fit(example).transform(example)\n",
        "result.select(\"text\", \"class.result\").show(truncate=False)"
      ]
    },
    {
      "cell_type": "markdown",
      "metadata": {
        "id": "MlzWRhQyOXM5"
      },
      "source": [
        "That's it! You can now go wild and use hundreds of `CamemBertForZeroShotClassification` models from HuggingFace 🤗 in Spark NLP 🚀\n"
      ]
    }
  ],
  "metadata": {
    "accelerator": "GPU",
    "colab": {
      "gpuType": "T4",
      "machine_shape": "hm",
      "provenance": []
    },
    "kernelspec": {
      "display_name": "Python 3 (ipykernel)",
      "language": "python",
      "name": "python3"
    },
    "language_info": {
      "codemirror_mode": {
        "name": "ipython",
        "version": 3
      },
      "file_extension": ".py",
      "mimetype": "text/x-python",
      "name": "python",
      "nbconvert_exporter": "python",
      "pygments_lexer": "ipython3",
      "version": "3.10.12"
    }
  },
  "nbformat": 4,
  "nbformat_minor": 0
}
