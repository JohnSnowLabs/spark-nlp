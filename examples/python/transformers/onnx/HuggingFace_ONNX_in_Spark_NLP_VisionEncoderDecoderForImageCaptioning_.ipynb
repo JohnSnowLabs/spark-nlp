{
  "cells": [
    {
      "cell_type": "markdown",
      "metadata": {
        "id": "LjQoSZTMUH_5"
      },
      "source": [
        "![JohnSnowLabs](https://sparknlp.org/assets/images/logo.png)\n",
        "\n",
        "[![Open In Colab](https://colab.research.google.com/assets/colab-badge.svg)](https://colab.research.google.com/github/JohnSnowLabs/spark-nlp/blob/master/examples/python/transformers/onnx/HuggingFace_ONNX_in_Spark_NLP_VisionEncoderDecoderForImageCaptioning.ipynb)\n",
        "\n",
        "# Import ONNX VisionEncoderDecoderForImageCaptioning  models from HuggingFace 🤗 into Spark NLP 🚀\n",
        "\n",
        "Let's keep in mind a few things before we start 😊\n",
        "\n",
        "- ONNX support was introduced in `Spark NLP 5.1.0`, enabling high performance inference for models. Please make sure you have upgraded to the latest Spark NLP release.\n"
      ]
    },
    {
      "cell_type": "markdown",
      "metadata": {
        "id": "an8-RiT0UH_8"
      },
      "source": [
        "## Export and Save HuggingFace model"
      ]
    },
    {
      "cell_type": "markdown",
      "metadata": {
        "id": "oCNlrbMWUH_8"
      },
      "source": [
        "- Let's install `transformers` package with the `onnx` extension and it's dependencies. You don't need `onnx` to be installed for Spark NLP, however, we need it to load and save models from HuggingFace.\n",
        "- We lock `transformers` on version `4.31.0`. This doesn't mean it won't work with the future releases, but we wanted you to know which versions have been tested successfully."
      ]
    },
    {
      "cell_type": "code",
      "execution_count": 1,
      "metadata": {
        "colab": {
          "base_uri": "https://localhost:8080/"
        },
        "id": "XezgP-k2UH_8",
        "outputId": "ee92aff7-7d19-4853-8c89-cb58c1a7d675"
      },
      "outputs": [
        {
          "output_type": "stream",
          "name": "stdout",
          "text": [
            "\u001b[2K     \u001b[90m━━━━━━━━━━━━━━━━━━━━━━━━━━━━━━━━━━━━━━━━\u001b[0m \u001b[32m116.9/116.9 kB\u001b[0m \u001b[31m2.1 MB/s\u001b[0m eta \u001b[36m0:00:00\u001b[0m\n",
            "\u001b[2K   \u001b[90m━━━━━━━━━━━━━━━━━━━━━━━━━━━━━━━━━━━━━━━━\u001b[0m \u001b[32m7.4/7.4 MB\u001b[0m \u001b[31m31.2 MB/s\u001b[0m eta \u001b[36m0:00:00\u001b[0m\n",
            "\u001b[2K   \u001b[90m━━━━━━━━━━━━━━━━━━━━━━━━━━━━━━━━━━━━━━━━\u001b[0m \u001b[32m424.7/424.7 kB\u001b[0m \u001b[31m13.3 MB/s\u001b[0m eta \u001b[36m0:00:00\u001b[0m\n",
            "\u001b[2K   \u001b[90m━━━━━━━━━━━━━━━━━━━━━━━━━━━━━━━━━━━━━━━━\u001b[0m \u001b[32m6.8/6.8 MB\u001b[0m \u001b[31m28.7 MB/s\u001b[0m eta \u001b[36m0:00:00\u001b[0m\n",
            "\u001b[2K   \u001b[90m━━━━━━━━━━━━━━━━━━━━━━━━━━━━━━━━━━━━━━━━\u001b[0m \u001b[32m212.7/212.7 kB\u001b[0m \u001b[31m6.7 MB/s\u001b[0m eta \u001b[36m0:00:00\u001b[0m\n",
            "\u001b[2K   \u001b[90m━━━━━━━━━━━━━━━━━━━━━━━━━━━━━━━━━━━━━━━━\u001b[0m \u001b[32m7.8/7.8 MB\u001b[0m \u001b[31m31.6 MB/s\u001b[0m eta \u001b[36m0:00:00\u001b[0m\n",
            "\u001b[2K   \u001b[90m━━━━━━━━━━━━━━━━━━━━━━━━━━━━━━━━━━━━━━━━\u001b[0m \u001b[32m46.0/46.0 kB\u001b[0m \u001b[31m69.0 kB/s\u001b[0m eta \u001b[36m0:00:00\u001b[0m\n",
            "\u001b[2K   \u001b[90m━━━━━━━━━━━━━━━━━━━━━━━━━━━━━━━━━━━━━━━━\u001b[0m \u001b[32m547.8/547.8 kB\u001b[0m \u001b[31m14.9 MB/s\u001b[0m eta \u001b[36m0:00:00\u001b[0m\n",
            "\u001b[2K   \u001b[90m━━━━━━━━━━━━━━━━━━━━━━━━━━━━━━━━━━━━━━━━\u001b[0m \u001b[32m64.9/64.9 kB\u001b[0m \u001b[31m3.6 MB/s\u001b[0m eta \u001b[36m0:00:00\u001b[0m\n",
            "\u001b[2K   \u001b[90m━━━━━━━━━━━━━━━━━━━━━━━━━━━━━━━━━━━━━━━━\u001b[0m \u001b[32m84.5/84.5 kB\u001b[0m \u001b[31m5.0 MB/s\u001b[0m eta \u001b[36m0:00:00\u001b[0m\n",
            "\u001b[2K   \u001b[90m━━━━━━━━━━━━━━━━━━━━━━━━━━━━━━━━━━━━━━━━\u001b[0m \u001b[32m1.1/1.1 MB\u001b[0m \u001b[31m27.7 MB/s\u001b[0m eta \u001b[36m0:00:00\u001b[0m\n",
            "\u001b[2K   \u001b[90m━━━━━━━━━━━━━━━━━━━━━━━━━━━━━━━━━━━━━━━━\u001b[0m \u001b[32m455.8/455.8 kB\u001b[0m \u001b[31m14.2 MB/s\u001b[0m eta \u001b[36m0:00:00\u001b[0m\n",
            "\u001b[2K   \u001b[90m━━━━━━━━━━━━━━━━━━━━━━━━━━━━━━━━━━━━━━━━\u001b[0m \u001b[32m116.3/116.3 kB\u001b[0m \u001b[31m3.6 MB/s\u001b[0m eta \u001b[36m0:00:00\u001b[0m\n",
            "\u001b[2K   \u001b[90m━━━━━━━━━━━━━━━━━━━━━━━━━━━━━━━━━━━━━━━━\u001b[0m \u001b[32m316.1/316.1 kB\u001b[0m \u001b[31m17.9 MB/s\u001b[0m eta \u001b[36m0:00:00\u001b[0m\n",
            "\u001b[2K   \u001b[90m━━━━━━━━━━━━━━━━━━━━━━━━━━━━━━━━━━━━━━━━\u001b[0m \u001b[32m86.8/86.8 kB\u001b[0m \u001b[31m4.7 MB/s\u001b[0m eta \u001b[36m0:00:00\u001b[0m\n",
            "\u001b[2K   \u001b[90m━━━━━━━━━━━━━━━━━━━━━━━━━━━━━━━━━━━━━━━━\u001b[0m \u001b[32m15.9/15.9 MB\u001b[0m \u001b[31m48.8 MB/s\u001b[0m eta \u001b[36m0:00:00\u001b[0m\n",
            "\u001b[2K   \u001b[90m━━━━━━━━━━━━━━━━━━━━━━━━━━━━━━━━━━━━━━━━\u001b[0m \u001b[32m39.9/39.9 MB\u001b[0m \u001b[31m15.0 MB/s\u001b[0m eta \u001b[36m0:00:00\u001b[0m\n",
            "\u001b[2K   \u001b[90m━━━━━━━━━━━━━━━━━━━━━━━━━━━━━━━━━━━━━━━━\u001b[0m \u001b[32m134.8/134.8 kB\u001b[0m \u001b[31m9.0 MB/s\u001b[0m eta \u001b[36m0:00:00\u001b[0m\n",
            "\u001b[2K   \u001b[90m━━━━━━━━━━━━━━━━━━━━━━━━━━━━━━━━━━━━━━━━\u001b[0m \u001b[32m55.5/55.5 kB\u001b[0m \u001b[31m4.1 MB/s\u001b[0m eta \u001b[36m0:00:00\u001b[0m\n",
            "\u001b[2K   \u001b[90m━━━━━━━━━━━━━━━━━━━━━━━━━━━━━━━━━━━━━━━━\u001b[0m \u001b[32m194.1/194.1 kB\u001b[0m \u001b[31m15.1 MB/s\u001b[0m eta \u001b[36m0:00:00\u001b[0m\n",
            "\u001b[2K   \u001b[90m━━━━━━━━━━━━━━━━━━━━━━━━━━━━━━━━━━━━━━━━\u001b[0m \u001b[32m21.3/21.3 MB\u001b[0m \u001b[31m50.9 MB/s\u001b[0m eta \u001b[36m0:00:00\u001b[0m\n",
            "\u001b[?25h\u001b[31mERROR: pip's dependency resolver does not currently take into account all the packages that are installed. This behaviour is the source of the following dependency conflicts.\n",
            "cudf-cu12 24.4.1 requires pyarrow<15.0.0a0,>=14.0.1, but you have pyarrow 17.0.0 which is incompatible.\n",
            "gcsfs 2024.6.1 requires fsspec==2024.6.1, but you have fsspec 2024.5.0 which is incompatible.\n",
            "google-colab 1.0.0 requires requests==2.31.0, but you have requests 2.32.3 which is incompatible.\n",
            "ibis-framework 8.0.0 requires pyarrow<16,>=2, but you have pyarrow 17.0.0 which is incompatible.\n",
            "tensorflow 2.15.0 requires protobuf!=4.21.0,!=4.21.1,!=4.21.2,!=4.21.3,!=4.21.4,!=4.21.5,<5.0.0dev,>=3.20.3, but you have protobuf 3.20.2 which is incompatible.\n",
            "tensorflow-metadata 1.15.0 requires protobuf<4.21,>=3.20.3; python_version < \"3.11\", but you have protobuf 3.20.2 which is incompatible.\u001b[0m\u001b[31m\n",
            "\u001b[0m"
          ]
        }
      ],
      "source": [
        "!pip install -q --upgrade \"transformers[onnx]==4.31.0\" optimum"
      ]
    },
    {
      "cell_type": "markdown",
      "metadata": {
        "id": "UqoI5yIUUH_9"
      },
      "source": [
        "- HuggingFace has an extension called Optimum which offers specialized model inference, including ONNX. We can use this to import and export ONNX models with `from_pretrained` and `save_pretrained`.\n",
        "- We'll use the [nlpconnect/vit-gpt2-image-captioning](https://huggingface.co/nlpconnect/vit-gpt2-image-captioning) model from HuggingFace as an example and export it with the `optimum-cli`."
      ]
    },
    {
      "cell_type": "code",
      "execution_count": 2,
      "metadata": {
        "id": "XwylSoFOUH_9"
      },
      "outputs": [],
      "source": [
        "MODEL_NAME = \"nlpconnect/vit-gpt2-image-captioning\"\n",
        "EXPORT_PATH = f\"export_onnx/{MODEL_NAME}\""
      ]
    },
    {
      "cell_type": "code",
      "execution_count": 3,
      "metadata": {
        "colab": {
          "base_uri": "https://localhost:8080/"
        },
        "id": "OTr9oYDwUH_-",
        "outputId": "ff4b9dd8-7198-4373-859d-a9fe7595d201"
      },
      "outputs": [
        {
          "output_type": "stream",
          "name": "stdout",
          "text": [
            "2024-07-30 10:43:01.658251: E external/local_xla/xla/stream_executor/cuda/cuda_dnn.cc:9261] Unable to register cuDNN factory: Attempting to register factory for plugin cuDNN when one has already been registered\n",
            "2024-07-30 10:43:01.658332: E external/local_xla/xla/stream_executor/cuda/cuda_fft.cc:607] Unable to register cuFFT factory: Attempting to register factory for plugin cuFFT when one has already been registered\n",
            "2024-07-30 10:43:01.741181: E external/local_xla/xla/stream_executor/cuda/cuda_blas.cc:1515] Unable to register cuBLAS factory: Attempting to register factory for plugin cuBLAS when one has already been registered\n",
            "2024-07-30 10:43:03.588057: W tensorflow/compiler/tf2tensorrt/utils/py_utils.cc:38] TF-TRT Warning: Could not find TensorRT\n",
            "Framework not specified. Using pt to export the model.\n",
            "/usr/local/lib/python3.10/dist-packages/huggingface_hub/file_download.py:1132: FutureWarning: `resume_download` is deprecated and will be removed in version 1.0.0. Downloads always resume when possible. If you want to force a new download, use `force_download=True`.\n",
            "  warnings.warn(\n",
            "config.json: 100% 4.61k/4.61k [00:00<00:00, 18.4MB/s]\n",
            "pytorch_model.bin: 100% 982M/982M [00:10<00:00, 95.9MB/s]\n",
            "Automatic task detection to image-to-text-with-past.\n",
            "tokenizer_config.json: 100% 241/241 [00:00<00:00, 1.20MB/s]\n",
            "vocab.json: 100% 798k/798k [00:00<00:00, 4.53MB/s]\n",
            "merges.txt: 100% 456k/456k [00:00<00:00, 2.41MB/s]\n",
            "tokenizer.json: 100% 1.36M/1.36M [00:00<00:00, 26.2MB/s]\n",
            "special_tokens_map.json: 100% 120/120 [00:00<00:00, 510kB/s]\n",
            "preprocessor_config.json: 100% 228/228 [00:00<00:00, 1.11MB/s]\n",
            "/usr/local/lib/python3.10/dist-packages/transformers/models/vit/feature_extraction_vit.py:28: FutureWarning: The class ViTFeatureExtractor is deprecated and will be removed in version 5 of Transformers. Please use ViTImageProcessor instead.\n",
            "  warnings.warn(\n",
            "Using the export variant default. Available variants are:\n",
            "    - default: The default ONNX variant.\n",
            "\n",
            "***** Exporting submodel 1/3: ViTModel *****\n",
            "Using framework PyTorch: 2.3.1+cu121\n",
            "Overriding 1 configuration item(s)\n",
            "\t- use_cache -> False\n",
            "/usr/local/lib/python3.10/dist-packages/transformers/models/vit/modeling_vit.py:170: TracerWarning: Converting a tensor to a Python boolean might cause the trace to be incorrect. We can't record the data flow of Python values, so this value will be treated as a constant in the future. This means that the trace might not generalize to other inputs!\n",
            "  if num_channels != self.num_channels:\n",
            "/usr/local/lib/python3.10/dist-packages/transformers/models/vit/modeling_vit.py:176: TracerWarning: Converting a tensor to a Python boolean might cause the trace to be incorrect. We can't record the data flow of Python values, so this value will be treated as a constant in the future. This means that the trace might not generalize to other inputs!\n",
            "  if height != self.image_size[0] or width != self.image_size[1]:\n",
            "\n",
            "***** Exporting submodel 2/3: VisionEncoderDecoderModel *****\n",
            "Using framework PyTorch: 2.3.1+cu121\n",
            "Overriding 1 configuration item(s)\n",
            "\t- use_cache -> True\n",
            "\n",
            "***** Exporting submodel 3/3: VisionEncoderDecoderModel *****\n",
            "Using framework PyTorch: 2.3.1+cu121\n",
            "Overriding 1 configuration item(s)\n",
            "\t- use_cache -> True\n",
            "Post-processing the exported models...\n",
            "Deduplicating shared (tied) weights...\n",
            "Found different candidate ONNX initializers (likely duplicate) for the tied weights:\n",
            "\tdecoder.lm_head.weight: {'onnx::MatMul_5246'}\n",
            "\tdecoder.transformer.wte.weight: {'decoder.transformer.wte.weight'}\n",
            "Removing duplicate initializer onnx::MatMul_5246...\n",
            "Found different candidate ONNX initializers (likely duplicate) for the tied weights:\n",
            "\tdecoder.lm_head.weight: {'onnx::MatMul_5245'}\n",
            "\tdecoder.transformer.wte.weight: {'decoder.transformer.wte.weight'}\n",
            "Removing duplicate initializer onnx::MatMul_5245...\n",
            "\n",
            "Validating ONNX model export_onnx/nlpconnect/vit-gpt2-image-captioning/encoder_model.onnx...\n",
            "\t-[✓] ONNX model output names match reference model (last_hidden_state)\n",
            "\t- Validating ONNX Model output \"last_hidden_state\":\n",
            "\t\t-[✓] (2, 197, 768) matches (2, 197, 768)\n",
            "\t\t-[✓] all values close (atol: 0.001)\n",
            "\n",
            "Validating ONNX model export_onnx/nlpconnect/vit-gpt2-image-captioning/decoder_model_merged.onnx...\n",
            "\t-[✓] ONNX model output names match reference model (present.2.value, present.8.key, present.5.key, present.4.value, present.6.value, present.10.value, present.1.value, present.11.value, present.9.key, present.3.key, present.6.key, present.10.key, present.11.key, present.0.value, present.3.value, present.1.key, logits, present.2.key, present.5.value, present.7.key, present.0.key, present.7.value, present.4.key, present.8.value, present.9.value)\n",
            "\t- Validating ONNX Model output \"logits\":\n",
            "\t\t-[✓] (2, 16, 50257) matches (2, 16, 50257)\n",
            "\t\t-[✓] all values close (atol: 0.001)\n",
            "\t- Validating ONNX Model output \"present.0.key\":\n",
            "\t\t-[✓] (2, 12, 16, 64) matches (2, 12, 16, 64)\n",
            "\t\t-[✓] all values close (atol: 0.001)\n",
            "\t- Validating ONNX Model output \"present.0.value\":\n",
            "\t\t-[✓] (2, 12, 16, 64) matches (2, 12, 16, 64)\n",
            "\t\t-[✓] all values close (atol: 0.001)\n",
            "\t- Validating ONNX Model output \"present.1.key\":\n",
            "\t\t-[✓] (2, 12, 16, 64) matches (2, 12, 16, 64)\n",
            "\t\t-[✓] all values close (atol: 0.001)\n",
            "\t- Validating ONNX Model output \"present.1.value\":\n",
            "\t\t-[✓] (2, 12, 16, 64) matches (2, 12, 16, 64)\n",
            "\t\t-[✓] all values close (atol: 0.001)\n",
            "\t- Validating ONNX Model output \"present.2.key\":\n",
            "\t\t-[✓] (2, 12, 16, 64) matches (2, 12, 16, 64)\n",
            "\t\t-[✓] all values close (atol: 0.001)\n",
            "\t- Validating ONNX Model output \"present.2.value\":\n",
            "\t\t-[✓] (2, 12, 16, 64) matches (2, 12, 16, 64)\n",
            "\t\t-[✓] all values close (atol: 0.001)\n",
            "\t- Validating ONNX Model output \"present.3.key\":\n",
            "\t\t-[✓] (2, 12, 16, 64) matches (2, 12, 16, 64)\n",
            "\t\t-[✓] all values close (atol: 0.001)\n",
            "\t- Validating ONNX Model output \"present.3.value\":\n",
            "\t\t-[✓] (2, 12, 16, 64) matches (2, 12, 16, 64)\n",
            "\t\t-[✓] all values close (atol: 0.001)\n",
            "\t- Validating ONNX Model output \"present.4.key\":\n",
            "\t\t-[✓] (2, 12, 16, 64) matches (2, 12, 16, 64)\n",
            "\t\t-[✓] all values close (atol: 0.001)\n",
            "\t- Validating ONNX Model output \"present.4.value\":\n",
            "\t\t-[✓] (2, 12, 16, 64) matches (2, 12, 16, 64)\n",
            "\t\t-[✓] all values close (atol: 0.001)\n",
            "\t- Validating ONNX Model output \"present.5.key\":\n",
            "\t\t-[✓] (2, 12, 16, 64) matches (2, 12, 16, 64)\n",
            "\t\t-[✓] all values close (atol: 0.001)\n",
            "\t- Validating ONNX Model output \"present.5.value\":\n",
            "\t\t-[✓] (2, 12, 16, 64) matches (2, 12, 16, 64)\n",
            "\t\t-[✓] all values close (atol: 0.001)\n",
            "\t- Validating ONNX Model output \"present.6.key\":\n",
            "\t\t-[✓] (2, 12, 16, 64) matches (2, 12, 16, 64)\n",
            "\t\t-[✓] all values close (atol: 0.001)\n",
            "\t- Validating ONNX Model output \"present.6.value\":\n",
            "\t\t-[✓] (2, 12, 16, 64) matches (2, 12, 16, 64)\n",
            "\t\t-[✓] all values close (atol: 0.001)\n",
            "\t- Validating ONNX Model output \"present.7.key\":\n",
            "\t\t-[✓] (2, 12, 16, 64) matches (2, 12, 16, 64)\n",
            "\t\t-[✓] all values close (atol: 0.001)\n",
            "\t- Validating ONNX Model output \"present.7.value\":\n",
            "\t\t-[✓] (2, 12, 16, 64) matches (2, 12, 16, 64)\n",
            "\t\t-[✓] all values close (atol: 0.001)\n",
            "\t- Validating ONNX Model output \"present.8.key\":\n",
            "\t\t-[✓] (2, 12, 16, 64) matches (2, 12, 16, 64)\n",
            "\t\t-[✓] all values close (atol: 0.001)\n",
            "\t- Validating ONNX Model output \"present.8.value\":\n",
            "\t\t-[✓] (2, 12, 16, 64) matches (2, 12, 16, 64)\n",
            "\t\t-[✓] all values close (atol: 0.001)\n",
            "\t- Validating ONNX Model output \"present.9.key\":\n",
            "\t\t-[✓] (2, 12, 16, 64) matches (2, 12, 16, 64)\n",
            "\t\t-[✓] all values close (atol: 0.001)\n",
            "\t- Validating ONNX Model output \"present.9.value\":\n",
            "\t\t-[✓] (2, 12, 16, 64) matches (2, 12, 16, 64)\n",
            "\t\t-[✓] all values close (atol: 0.001)\n",
            "\t- Validating ONNX Model output \"present.10.key\":\n",
            "\t\t-[✓] (2, 12, 16, 64) matches (2, 12, 16, 64)\n",
            "\t\t-[✓] all values close (atol: 0.001)\n",
            "\t- Validating ONNX Model output \"present.10.value\":\n",
            "\t\t-[✓] (2, 12, 16, 64) matches (2, 12, 16, 64)\n",
            "\t\t-[✓] all values close (atol: 0.001)\n",
            "\t- Validating ONNX Model output \"present.11.key\":\n",
            "\t\t-[✓] (2, 12, 16, 64) matches (2, 12, 16, 64)\n",
            "\t\t-[✓] all values close (atol: 0.001)\n",
            "\t- Validating ONNX Model output \"present.11.value\":\n",
            "\t\t-[✓] (2, 12, 16, 64) matches (2, 12, 16, 64)\n",
            "\t\t-[✓] all values close (atol: 0.001)\n",
            "\n",
            "Validating ONNX model export_onnx/nlpconnect/vit-gpt2-image-captioning/decoder_model_merged.onnx...\n",
            "\t-[✓] ONNX model output names match reference model (present.2.value, present.8.key, present.5.key, present.4.value, present.6.value, present.10.value, present.1.value, present.11.value, present.9.key, present.3.key, present.6.key, present.10.key, present.11.key, present.0.value, present.3.value, present.1.key, logits, present.2.key, present.5.value, present.7.key, present.0.key, present.7.value, present.4.key, present.8.value, present.9.value)\n",
            "\t- Validating ONNX Model output \"logits\":\n",
            "\t\t-[✓] (2, 1, 50257) matches (2, 1, 50257)\n",
            "\t\t-[✓] all values close (atol: 0.001)\n",
            "\t- Validating ONNX Model output \"present.0.key\":\n",
            "\t\t-[✓] (2, 12, 17, 64) matches (2, 12, 17, 64)\n",
            "\t\t-[✓] all values close (atol: 0.001)\n",
            "\t- Validating ONNX Model output \"present.0.value\":\n",
            "\t\t-[✓] (2, 12, 17, 64) matches (2, 12, 17, 64)\n",
            "\t\t-[✓] all values close (atol: 0.001)\n",
            "\t- Validating ONNX Model output \"present.1.key\":\n",
            "\t\t-[✓] (2, 12, 17, 64) matches (2, 12, 17, 64)\n",
            "\t\t-[✓] all values close (atol: 0.001)\n",
            "\t- Validating ONNX Model output \"present.1.value\":\n",
            "\t\t-[✓] (2, 12, 17, 64) matches (2, 12, 17, 64)\n",
            "\t\t-[✓] all values close (atol: 0.001)\n",
            "\t- Validating ONNX Model output \"present.2.key\":\n",
            "\t\t-[✓] (2, 12, 17, 64) matches (2, 12, 17, 64)\n",
            "\t\t-[✓] all values close (atol: 0.001)\n",
            "\t- Validating ONNX Model output \"present.2.value\":\n",
            "\t\t-[✓] (2, 12, 17, 64) matches (2, 12, 17, 64)\n",
            "\t\t-[✓] all values close (atol: 0.001)\n",
            "\t- Validating ONNX Model output \"present.3.key\":\n",
            "\t\t-[✓] (2, 12, 17, 64) matches (2, 12, 17, 64)\n",
            "\t\t-[✓] all values close (atol: 0.001)\n",
            "\t- Validating ONNX Model output \"present.3.value\":\n",
            "\t\t-[✓] (2, 12, 17, 64) matches (2, 12, 17, 64)\n",
            "\t\t-[✓] all values close (atol: 0.001)\n",
            "\t- Validating ONNX Model output \"present.4.key\":\n",
            "\t\t-[✓] (2, 12, 17, 64) matches (2, 12, 17, 64)\n",
            "\t\t-[✓] all values close (atol: 0.001)\n",
            "\t- Validating ONNX Model output \"present.4.value\":\n",
            "\t\t-[✓] (2, 12, 17, 64) matches (2, 12, 17, 64)\n",
            "\t\t-[✓] all values close (atol: 0.001)\n",
            "\t- Validating ONNX Model output \"present.5.key\":\n",
            "\t\t-[✓] (2, 12, 17, 64) matches (2, 12, 17, 64)\n",
            "\t\t-[✓] all values close (atol: 0.001)\n",
            "\t- Validating ONNX Model output \"present.5.value\":\n",
            "\t\t-[✓] (2, 12, 17, 64) matches (2, 12, 17, 64)\n",
            "\t\t-[✓] all values close (atol: 0.001)\n",
            "\t- Validating ONNX Model output \"present.6.key\":\n",
            "\t\t-[✓] (2, 12, 17, 64) matches (2, 12, 17, 64)\n",
            "\t\t-[✓] all values close (atol: 0.001)\n",
            "\t- Validating ONNX Model output \"present.6.value\":\n",
            "\t\t-[✓] (2, 12, 17, 64) matches (2, 12, 17, 64)\n",
            "\t\t-[✓] all values close (atol: 0.001)\n",
            "\t- Validating ONNX Model output \"present.7.key\":\n",
            "\t\t-[✓] (2, 12, 17, 64) matches (2, 12, 17, 64)\n",
            "\t\t-[✓] all values close (atol: 0.001)\n",
            "\t- Validating ONNX Model output \"present.7.value\":\n",
            "\t\t-[✓] (2, 12, 17, 64) matches (2, 12, 17, 64)\n",
            "\t\t-[✓] all values close (atol: 0.001)\n",
            "\t- Validating ONNX Model output \"present.8.key\":\n",
            "\t\t-[✓] (2, 12, 17, 64) matches (2, 12, 17, 64)\n",
            "\t\t-[✓] all values close (atol: 0.001)\n",
            "\t- Validating ONNX Model output \"present.8.value\":\n",
            "\t\t-[✓] (2, 12, 17, 64) matches (2, 12, 17, 64)\n",
            "\t\t-[✓] all values close (atol: 0.001)\n",
            "\t- Validating ONNX Model output \"present.9.key\":\n",
            "\t\t-[✓] (2, 12, 17, 64) matches (2, 12, 17, 64)\n",
            "\t\t-[✓] all values close (atol: 0.001)\n",
            "\t- Validating ONNX Model output \"present.9.value\":\n",
            "\t\t-[✓] (2, 12, 17, 64) matches (2, 12, 17, 64)\n",
            "\t\t-[✓] all values close (atol: 0.001)\n",
            "\t- Validating ONNX Model output \"present.10.key\":\n",
            "\t\t-[✓] (2, 12, 17, 64) matches (2, 12, 17, 64)\n",
            "\t\t-[✓] all values close (atol: 0.001)\n",
            "\t- Validating ONNX Model output \"present.10.value\":\n",
            "\t\t-[✓] (2, 12, 17, 64) matches (2, 12, 17, 64)\n",
            "\t\t-[✓] all values close (atol: 0.001)\n",
            "\t- Validating ONNX Model output \"present.11.key\":\n",
            "\t\t-[✓] (2, 12, 17, 64) matches (2, 12, 17, 64)\n",
            "\t\t-[✓] all values close (atol: 0.001)\n",
            "\t- Validating ONNX Model output \"present.11.value\":\n",
            "\t\t-[✓] (2, 12, 17, 64) matches (2, 12, 17, 64)\n",
            "\t\t-[✓] all values close (atol: 0.001)\n",
            "The ONNX export succeeded and the exported model was saved at: export_onnx/nlpconnect/vit-gpt2-image-captioning\n"
          ]
        }
      ],
      "source": [
        "! optimum-cli export onnx --model {MODEL_NAME} {EXPORT_PATH}"
      ]
    },
    {
      "cell_type": "markdown",
      "metadata": {
        "id": "FV4pziK4UH_-"
      },
      "source": [
        "We have to move additional model assets into a seperate folder, so that Spark NLP can load it properly."
      ]
    },
    {
      "cell_type": "code",
      "execution_count": 4,
      "metadata": {
        "id": "Ar_o_tJIUH_-"
      },
      "outputs": [],
      "source": [
        "! mkdir -p {EXPORT_PATH}/assets\n",
        "! mv -t {EXPORT_PATH}/assets {EXPORT_PATH}/*.json {EXPORT_PATH}/*.txt"
      ]
    },
    {
      "cell_type": "markdown",
      "metadata": {
        "id": "f6GW8l2fUH_-"
      },
      "source": [
        "Let's have a look inside these two directories and see what we are dealing with:"
      ]
    },
    {
      "cell_type": "code",
      "execution_count": 5,
      "metadata": {
        "colab": {
          "base_uri": "https://localhost:8080/"
        },
        "id": "-WYraOCfUH_-",
        "outputId": "4203c965-b031-4d4a-9631-2eb1408e5158"
      },
      "outputs": [
        {
          "output_type": "stream",
          "name": "stdout",
          "text": [
            "total 2133548\n",
            "drwxr-xr-x 2 root root      4096 Jul 30 10:45 assets\n",
            "-rw-r--r-- 1 root root 615029740 Jul 30 10:45 decoder_model_merged.onnx\n",
            "-rw-r--r-- 1 root root 613132137 Jul 30 10:44 decoder_model.onnx\n",
            "-rw-r--r-- 1 root root 613129445 Jul 30 10:44 decoder_with_past_model.onnx\n",
            "-rw-r--r-- 1 root root 343440610 Jul 30 10:43 encoder_model.onnx\n"
          ]
        }
      ],
      "source": [
        "!ls -l {EXPORT_PATH}"
      ]
    },
    {
      "cell_type": "code",
      "execution_count": 6,
      "metadata": {
        "colab": {
          "base_uri": "https://localhost:8080/"
        },
        "id": "ukZxhGpWUH_-",
        "outputId": "02984684-8d25-43df-fc31-ad6a8d7bcf7c"
      },
      "outputs": [
        {
          "output_type": "stream",
          "name": "stdout",
          "text": [
            "total 3312\n",
            "-rw-r--r-- 1 root root    5038 Jul 30 10:43 config.json\n",
            "-rw-r--r-- 1 root root     179 Jul 30 10:43 generation_config.json\n",
            "-rw-r--r-- 1 root root  456318 Jul 30 10:43 merges.txt\n",
            "-rw-r--r-- 1 root root     378 Jul 30 10:43 preprocessor_config.json\n",
            "-rw-r--r-- 1 root root     131 Jul 30 10:43 special_tokens_map.json\n",
            "-rw-r--r-- 1 root root     234 Jul 30 10:43 tokenizer_config.json\n",
            "-rw-r--r-- 1 root root 2107928 Jul 30 10:43 tokenizer.json\n",
            "-rw-r--r-- 1 root root  798156 Jul 30 10:43 vocab.json\n"
          ]
        }
      ],
      "source": [
        "!ls -l {EXPORT_PATH}/assets"
      ]
    },
    {
      "cell_type": "markdown",
      "metadata": {
        "id": "pr7NE5DBUH__"
      },
      "source": [
        "## Import and Save VisionEncoderDecoderForImageCaptioning  in Spark NLP\n",
        "\n",
        "- Let's install and setup Spark NLP in Google Colab\n",
        "- This part is pretty easy via our simple script\n",
        "- Additionally, we need to upgrade Spark to version 3.4.1."
      ]
    },
    {
      "cell_type": "code",
      "execution_count": null,
      "metadata": {
        "id": "acU9SZq-UH__"
      },
      "outputs": [],
      "source": [
        "! wget -q http://setup.johnsnowlabs.com/colab.sh -O - | bash\n",
        "! pip install -U pyspark==3.4.1"
      ]
    },
    {
      "cell_type": "markdown",
      "metadata": {
        "id": "yRUJ0CtfUH__"
      },
      "source": [
        "Let's start Spark with Spark NLP included via our simple `start()` function"
      ]
    },
    {
      "cell_type": "code",
      "execution_count": null,
      "metadata": {
        "id": "4kQTKjcWUH__"
      },
      "outputs": [],
      "source": [
        "import sparknlp\n",
        "\n",
        "# let's start Spark with Spark NLP\n",
        "spark = sparknlp.start()"
      ]
    },
    {
      "cell_type": "markdown",
      "metadata": {
        "id": "1FIOCiZxUH__"
      },
      "source": [
        "- Let's use `loadSavedModel` functon in `VisionEncoderDecoderForImageCaptioning ` which allows us to load the ONNX model\n",
        "- Most params will be set automatically. They can also be set later after loading the model in `VisionEncoderDecoderForImageCaptioning ` during runtime, so don't worry about setting them now\n",
        "- `loadSavedModel` accepts two params, first is the path to the exported model. The second is the SparkSession that is `spark` variable we previously started via `sparknlp.start()`\n",
        "- NOTE: `loadSavedModel` accepts local paths in addition to distributed file systems such as `HDFS`, `S3`, `DBFS`, etc. This feature was introduced in Spark NLP 4.2.2 release. Keep in mind the best and recommended way to move/share/reuse Spark NLP models is to use `write.save` so you can use `.load()` from any file systems natively.st and recommended way to move/share/reuse Spark NLP models is to use `write.save` so you can use `.load()` from any file systems natively."
      ]
    },
    {
      "cell_type": "code",
      "execution_count": null,
      "metadata": {
        "id": "3wJClaqyUH__"
      },
      "outputs": [],
      "source": [
        "from sparknlp.annotator import *\n",
        "from sparknlp.base import *\n",
        "\n",
        "imageClassifier = VisionEncoderDecoderForImageCaptioning .loadSavedModel(\n",
        "     '{}/saved_model/1'.format(MODEL_NAME),\n",
        "     spark\n",
        " )\\\n",
        "  .setInputCols([\"image_assembler\"])\\\n",
        "  .setOutputCol(\"caption\")"
      ]
    },
    {
      "cell_type": "markdown",
      "metadata": {
        "id": "T8cNjLgcUH__"
      },
      "source": [
        "- Let's save it on disk so it is easier to be moved around and also be used later via `.load` function"
      ]
    },
    {
      "cell_type": "code",
      "execution_count": null,
      "metadata": {
        "id": "zqhebAObUH__"
      },
      "outputs": [],
      "source": [
        "imageClassifier.write().overwrite().save(\"./{}_spark_nlp\".format(MODEL_NAME))"
      ]
    },
    {
      "cell_type": "markdown",
      "metadata": {
        "id": "yJ-9XXh7UH__"
      },
      "source": [
        "Let's clean up stuff we don't need anymore"
      ]
    },
    {
      "cell_type": "code",
      "execution_count": null,
      "metadata": {
        "id": "CiBlRajlUIAA"
      },
      "outputs": [],
      "source": [
        "!rm -rf {EXPORT_PATH}"
      ]
    },
    {
      "cell_type": "markdown",
      "metadata": {
        "id": "ReTnXz5pUIAA"
      },
      "source": [
        "Awesome  😎 !\n",
        "\n",
        "This is your ONNX VisionEncoderDecoderForImageCaptioning  model from HuggingFace 🤗  loaded and saved by Spark NLP 🚀"
      ]
    },
    {
      "cell_type": "code",
      "execution_count": null,
      "metadata": {
        "id": "qRG-oxWnUIAA"
      },
      "outputs": [],
      "source": [
        "! ls -l {MODEL_NAME}_spark_nlp"
      ]
    },
    {
      "cell_type": "markdown",
      "metadata": {
        "id": "cxvpC-hSUIAA"
      },
      "source": [
        "Now let's see how we can use it on other machines, clusters, or any place you wish to use your new and shiny VisionEncoderDecoderForImageCaptioning  model 😊"
      ]
    },
    {
      "cell_type": "code",
      "execution_count": null,
      "metadata": {
        "id": "4_jlf5l8UIAA"
      },
      "outputs": [],
      "source": [
        "!wget https://raw.githubusercontent.com/JohnSnowLabs/spark-nlp/master/src/test/resources/image/hippopotamus.JPEG\n",
        "from IPython.display import Image, display\n",
        "display(Image(\"hippopotamus.JPEG\"))"
      ]
    },
    {
      "cell_type": "code",
      "execution_count": null,
      "metadata": {
        "id": "eglLGKeJUIAA"
      },
      "outputs": [],
      "source": [
        "document_assembler = ImageAssembler() \\\n",
        "    .setInputCol(\"image\") \\\n",
        "    .setOutputCol(\"image_assembler\")\n",
        "\n",
        "imageClassifier_loaded = ConvNextForImageClassification\\\n",
        "  .setInputCols([\"image_assembler\"])\\\n",
        "  .setOutputCol(\"class\")\n",
        "\n",
        "imageCaptioning = VisionEncoderDecoderForImageCaptioning.load(\"./{}_spark_nlp\".format(MODEL_NAME))\\\n",
        "    .setBeamSize(2) \\\n",
        "    .setDoSample(False) \\\n",
        "    .setInputCols([\"image_assembler\"]) \\\n",
        "    .setOutputCol(\"caption\")\n",
        "\n",
        "pipeline = Pipeline().setStages([\n",
        "    document_assembler,\n",
        "    imageCaptioning\n",
        "])\n",
        "\n",
        "test_image = spark.read\\\n",
        "    .format(\"image\")\\\n",
        "    .option(\"dropInvalid\", value = True)\\\n",
        "    .load(\"./hippopotamus.JPEG\")\n",
        "\n",
        "result = pipeline.fit(test_image).transform(test_image)\n",
        "result \\\n",
        "    .selectExpr(\"reverse(split(image.origin, '/'))[0] as image_name\", \"caption.result\") \\\n",
        "    .show(truncate = False)"
      ]
    },
    {
      "cell_type": "markdown",
      "metadata": {
        "id": "D65GZokYUIAA"
      },
      "source": [
        "That's it! You can now go wild and use hundreds of VisionEncoderDecoderForImageCaptioning  models from HuggingFace 🤗 in Spark NLP 🚀\n"
      ]
    }
  ],
  "metadata": {
    "colab": {
      "provenance": []
    },
    "kernelspec": {
      "display_name": "Python 3 (ipykernel)",
      "language": "python",
      "name": "python3"
    },
    "language_info": {
      "codemirror_mode": {
        "name": "ipython",
        "version": 3
      },
      "file_extension": ".py",
      "mimetype": "text/x-python",
      "name": "python",
      "nbconvert_exporter": "python",
      "pygments_lexer": "ipython3"
    }
  },
  "nbformat": 4,
  "nbformat_minor": 0
}