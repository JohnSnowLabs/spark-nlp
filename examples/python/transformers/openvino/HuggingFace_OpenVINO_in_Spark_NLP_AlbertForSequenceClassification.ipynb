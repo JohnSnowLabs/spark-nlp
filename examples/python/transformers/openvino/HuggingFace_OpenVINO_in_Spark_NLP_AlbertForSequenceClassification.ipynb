{
  "cells": [
    {
      "cell_type": "markdown",
      "metadata": {
        "id": "_V5XcDCnVgSi"
      },
      "source": [
        "![JohnSnowLabs](https://sparknlp.org/assets/images/logo.png)\n",
        "\n",
        "[![Open In Colab](https://colab.research.google.com/assets/colab-badge.svg)](https://colab.research.google.com/github/JohnSnowLabs/spark-nlp/blob/master/examples/python/transformers/openvino/HuggingFace_OpenVINO_in_Spark_NLP_AlbertForSequenceClassification.ipynb)\n",
        "\n",
        "# Import OpenVINO AlbertForSequenceClassification  models from HuggingFace 🤗 into Spark NLP 🚀\n",
        "\n",
        "This notebook provides a detailed walkthrough on optimizing and exporting AlbertForSequenceClassification  models from HuggingFace for use in Spark NLP, leveraging the various tools provided in the [Intel OpenVINO toolkit](https://www.intel.com/content/www/us/en/developer/tools/openvino-toolkit/overview.html) ecosystem.\n",
        "\n",
        "Let's keep in mind a few things before we start 😊\n",
        "\n",
        "- OpenVINO support was introduced in  `Spark NLP 5.4.0`, enabling high performance inference for models. Please make sure you have upgraded to the latest Spark NLP release.\n",
        "- You can import models for AlbertForSequenceClassification  from AlbertForSequenceClassification  and they have to be in `Text Classification` category."
      ]
    },
    {
      "cell_type": "markdown",
      "metadata": {
        "id": "aghasVppVgSk"
      },
      "source": [
        "## 1. Export and Save the HuggingFace model"
      ]
    },
    {
      "cell_type": "markdown",
      "metadata": {
        "id": "be4HsTDMVgSk"
      },
      "source": [
        "- Let's install `transformers` and `openvino` packages with other dependencies. You don't need `openvino` to be installed for Spark NLP, however, we need it to load and save models from HuggingFace.\n",
        "- We lock `transformers` on version `4.48.3`. This doesn't mean it won't work with the future releases, but we wanted you to know which versions have been tested successfully."
      ]
    },
    {
      "cell_type": "code",
      "execution_count": null,
      "metadata": {
        "colab": {
          "base_uri": "https://localhost:8080/"
        },
        "id": "NHJ6kdyHOSNA",
        "outputId": "9bf1faaf-49d5-4f29-d414-82575c4f851b"
      },
      "outputs": [],
      "source": [
        "!pip install -q --upgrade transformers==4.48.3 optimum[openvino]"
      ]
    },
    {
      "cell_type": "markdown",
      "metadata": {
        "id": "vI7uz_6hVgSl"
      },
      "source": [
        "[Optimum Intel](https://github.com/huggingface/optimum-intel?tab=readme-ov-file#openvino) is the interface between the Transformers library and the various model optimization and acceleration tools provided by Intel. HuggingFace models loaded with optimum-intel are automatically optimized for OpenVINO, while being compatible with the Transformers API.\n",
        "- To load a HuggingFace model directly for inference/export, just replace the `AutoModelForXxx` class with the corresponding `OVModelForXxx` class. We can use this to import and export OpenVINO models with `from_pretrained` and `save_pretrained`.\n",
        "- By setting `export=True`, the source model is converted to OpenVINO IR format on the fly.\n",
        "- We'll use [mohsenfayyaz/albert-base-v2-toxicity](https://huggingface.co/mohsenfayyaz/albert-base-v2-toxicity) model from HuggingFace as an example and load it as a `OVModelForSequenceClassification`, representing an OpenVINO model.\n",
        "- In addition to the AlbertForSequenceClassification  model, we also need to save the `AlbertTokenizer`. This is the same for every model, these are assets (saved in `/assets`) needed for tokenization inside Spark NLP."
      ]
    },
    {
      "cell_type": "code",
      "execution_count": null,
      "metadata": {
        "colab": {
          "base_uri": "https://localhost:8080/",
          "height": 435,
          "referenced_widgets": [
            "1183b34121174292a1c5298ff7490d6b",
            "90a97a8140b64bf49050f6617a14c690",
            "1b9c1d72ab2c4ed499c4e7892d4e2a9d",
            "a5b0ceafac9c4f2aae32711ca6bae12b",
            "34909fd3bfa04570840ffd01774e2cc2",
            "b23c78b23b8c40a7b6bd9e29f998fd07",
            "aa743ac2e24e45b6aa4cb750f85016a4",
            "a0fcc9d29cd94826b7050aeb79a82213",
            "aa5d692bd7a846f5b694695c7bcec0e6",
            "112e6a5eae8949a3b18bef7401941e22",
            "c81251051614466884516ee22b1073fe",
            "2d02e20a6ffd4c1192e213666d76c2bc",
            "c7d7ede3a8734f2aa21988762c183ad7",
            "9e0f917a106c4297a92c65e27c0fee88",
            "b4ec9e0904ac4a82ac3448af16a351fd",
            "8128be8ed6f74783879e7aa489a90141",
            "594cb8a8640a475e916a161cfc17b345",
            "22e08d160abb456aa37fea3c1b7b3efd",
            "93d63e41fdc94dd69108e30f2296e23c",
            "4eb16e0fb88749269cdbe28b31f78d72",
            "b16d3dcae22147f79fc977ba93fb122c",
            "c9cc15d4b52949edb8db55d56c06f359",
            "23e66632a8be4b20a02dc6175f085918",
            "225a2621f2804dd796a92562562bcd78",
            "4618cdd4c0dc44f4a214bb3343f5a6c0",
            "11a73a1e265b409e9927fcce127e3f5e",
            "505c42ac890c4780a26b7c18f4bc788a",
            "4b7f8071ad954e9db32bc06745ea6c49",
            "2abbe205ac8c40c78083f485fda1d68a",
            "8d830c24489749b49cf4b337f0bd9372",
            "f075133c72a44dfb85ccc88b576ee872",
            "8801d528d0a04c2db399b1efb1283403",
            "3f98588f23d24b01a864cb48b54314be",
            "f99408c1a05f45bf9141311613a74015",
            "1be585fb963f424eaf561a43652e5c8e",
            "6719b8250ac34cc78f482d9cbbc98218",
            "1aa30094888d4c1485c75f96a82bf02d",
            "b6444ac97c984ba89d4b2852f21ab50e",
            "378a20dd740240b190b22b8e5e1a03b2",
            "d94ed80e2c2b4a3bb1607a767eba81ba",
            "86ff660ffe0b4419a8587aa8ab245299",
            "3d64839458a94186aecdc663a6e906c4",
            "f2a44e2493fe4dd1bc8003e42d979ee6",
            "4a13a7ba3bd54a818fd478ded6232814",
            "756ca6bde3b04fb78306ca455350f28f",
            "ed91fd15a9014be6a4e8471155014663",
            "cb995c815c1e4e6ea0fbee8253855c96",
            "36da6d3a400f4ae5a13bf06432ff2b4b",
            "f1b9ed41584e4383b80ba15b5d812671",
            "29019f66952b4821ab9e14682093e29f",
            "cc9ddc3ec6f646e9a7df885fe3b967aa",
            "2ced2a07652c4a20b5466151ce9e59ef",
            "fcd4158b8aab4ebfad0d366bab7ea4b6",
            "ae2358de76ab4357a59a5f06e4415ed1",
            "50bb89482a1e4747b0f55b74b42198ab",
            "37fd1dce6b8c4f5fa25320e16119c5ca",
            "f50ac179812c45fca1e0dc3b29107f62",
            "41473a41bafe4cfca8960e1dbea8fe10",
            "d5dacf913a244fa091f3113c845c204b",
            "03506d6484244bab81a6e00fac09261a",
            "24fb781c56234f38aa23eb2c34268c1e",
            "3e0ab13ff44441fea1421c4bcb72cec3",
            "640e8adf47e446c398fbdcbba20ba3e2",
            "c7548bf5735b45a2a15805285537c968",
            "2e72720dd1324044a80b85a3d6b65d09",
            "ef6a0cc35762415799e78da6e4e46ddc"
          ]
        },
        "id": "z9nkHmwMibWu",
        "outputId": "c2d9af9c-3e67-4a5b-9473-49fef0c5fcac"
      },
      "outputs": [
        {
          "name": "stderr",
          "output_type": "stream",
          "text": [
            "No CUDA runtime is found, using CUDA_HOME='/usr/local/cuda'\n",
            "/usr/local/lib/python3.11/dist-packages/huggingface_hub/utils/_auth.py:94: UserWarning: \n",
            "The secret `HF_TOKEN` does not exist in your Colab secrets.\n",
            "To authenticate with the Hugging Face Hub, create a token in your settings tab (https://huggingface.co/settings/tokens), set it as secret in your Google Colab and restart your session.\n",
            "You will be able to reuse this secret in all of your notebooks.\n",
            "Please note that authentication is recommended but still optional to access public models or datasets.\n",
            "  warnings.warn(\n"
          ]
        },
        {
          "data": {
            "application/vnd.jupyter.widget-view+json": {
              "model_id": "1183b34121174292a1c5298ff7490d6b",
              "version_major": 2,
              "version_minor": 0
            },
            "text/plain": [
              "config.json:   0%|          | 0.00/871 [00:00<?, ?B/s]"
            ]
          },
          "metadata": {},
          "output_type": "display_data"
        },
        {
          "data": {
            "application/vnd.jupyter.widget-view+json": {
              "model_id": "2d02e20a6ffd4c1192e213666d76c2bc",
              "version_major": 2,
              "version_minor": 0
            },
            "text/plain": [
              "pytorch_model.bin:   0%|          | 0.00/46.8M [00:00<?, ?B/s]"
            ]
          },
          "metadata": {},
          "output_type": "display_data"
        },
        {
          "data": {
            "application/vnd.jupyter.widget-view+json": {
              "model_id": "23e66632a8be4b20a02dc6175f085918",
              "version_major": 2,
              "version_minor": 0
            },
            "text/plain": [
              "tokenizer_config.json:   0%|          | 0.00/428 [00:00<?, ?B/s]"
            ]
          },
          "metadata": {},
          "output_type": "display_data"
        },
        {
          "data": {
            "application/vnd.jupyter.widget-view+json": {
              "model_id": "f99408c1a05f45bf9141311613a74015",
              "version_major": 2,
              "version_minor": 0
            },
            "text/plain": [
              "spiece.model:   0%|          | 0.00/760k [00:00<?, ?B/s]"
            ]
          },
          "metadata": {},
          "output_type": "display_data"
        },
        {
          "data": {
            "application/vnd.jupyter.widget-view+json": {
              "model_id": "756ca6bde3b04fb78306ca455350f28f",
              "version_major": 2,
              "version_minor": 0
            },
            "text/plain": [
              "special_tokens_map.json:   0%|          | 0.00/245 [00:00<?, ?B/s]"
            ]
          },
          "metadata": {},
          "output_type": "display_data"
        },
        {
          "data": {
            "application/vnd.jupyter.widget-view+json": {
              "model_id": "37fd1dce6b8c4f5fa25320e16119c5ca",
              "version_major": 2,
              "version_minor": 0
            },
            "text/plain": [
              "model.safetensors:   0%|          | 0.00/46.7M [00:00<?, ?B/s]"
            ]
          },
          "metadata": {},
          "output_type": "display_data"
        },
        {
          "name": "stderr",
          "output_type": "stream",
          "text": [
            "`loss_type=None` was set in the config but it is unrecognised.Using the default loss: `ForCausalLMLoss`.\n"
          ]
        },
        {
          "data": {
            "text/plain": [
              "('onnx_models/mohsenfayyaz/albert-base-v2-toxicity/tokenizer_config.json',\n",
              " 'onnx_models/mohsenfayyaz/albert-base-v2-toxicity/special_tokens_map.json',\n",
              " 'onnx_models/mohsenfayyaz/albert-base-v2-toxicity/spiece.model',\n",
              " 'onnx_models/mohsenfayyaz/albert-base-v2-toxicity/added_tokens.json',\n",
              " 'onnx_models/mohsenfayyaz/albert-base-v2-toxicity/tokenizer.json')"
            ]
          },
          "execution_count": 2,
          "metadata": {},
          "output_type": "execute_result"
        }
      ],
      "source": [
        "from transformers import AutoTokenizer\n",
        "from optimum.intel import OVModelForSequenceClassification\n",
        "\n",
        "MODEL_NAME = \"mohsenfayyaz/albert-base-v2-toxicity\"\n",
        "EXPORT_PATH = f\"ov_models/{MODEL_NAME}\"\n",
        "\n",
        "ort_model = OVModelForSequenceClassification.from_pretrained(MODEL_NAME, export=True)\n",
        "ort_model.save_pretrained(EXPORT_PATH)\n",
        "\n",
        "tokenizer = AutoTokenizer.from_pretrained(MODEL_NAME)\n",
        "tokenizer.save_pretrained(EXPORT_PATH)"
      ]
    },
    {
      "cell_type": "markdown",
      "metadata": {
        "id": "BAs-wq_wVgSn"
      },
      "source": [
        "Let's have a look inside these two directories and see what we are dealing with:"
      ]
    },
    {
      "cell_type": "code",
      "execution_count": 8,
      "metadata": {
        "colab": {
          "base_uri": "https://localhost:8080/"
        },
        "id": "daFkGhN-VgSn",
        "outputId": "e1880c65-df9a-47e8-9e69-fd6f1b415824"
      },
      "outputs": [
        {
          "name": "stdout",
          "output_type": "stream",
          "text": [
            "total 48244\n",
            "drwxr-xr-x 2 root root     4096 Jun 18 01:01 assets\n",
            "-rw-r--r-- 1 root root      914 Jun 18 01:01 config.json\n",
            "-rw-r--r-- 1 root root 46744744 Jun 18 01:01 openvino_model.bin\n",
            "-rw-r--r-- 1 root root   360269 Jun 18 01:01 openvino_model.xml\n",
            "-rw-r--r-- 1 root root      286 Jun 18 01:01 special_tokens_map.json\n",
            "-rw-r--r-- 1 root root     2598 Jun 18 01:01 tokenizer_config.json\n",
            "-rw-r--r-- 1 root root  2275547 Jun 18 01:01 tokenizer.json\n"
          ]
        }
      ],
      "source": [
        "!ls -l {EXPORT_PATH}"
      ]
    },
    {
      "cell_type": "markdown",
      "metadata": {
        "id": "uOwiICV5ipqH"
      },
      "source": [
        "- We need to move the `spiece.model` file from the tokenizer into an assets folder, as this is where Spark NLP looks for it when working with models like Albert or other SentencePiece-based tokenizers.\n",
        "- Additionally, we need to extract the `labels` and their corresponding `ids` from the model's config. This mapping will be saved as `labels.txt` inside the same `assets` folder."
      ]
    },
    {
      "cell_type": "code",
      "execution_count": 3,
      "metadata": {
        "id": "q8lhKy3GkPeR"
      },
      "outputs": [],
      "source": [
        "!mkdir {EXPORT_PATH}/assets\n",
        "\n",
        "labels = ort_model.config.id2label\n",
        "labels = [value for key, value in sorted(labels.items(), reverse=False)]\n",
        "\n",
        "with open(EXPORT_PATH + '/assets/labels.txt', 'w') as f:\n",
        "    f.write('\\n'.join(labels))\n",
        "\n",
        "!mv {EXPORT_PATH}/spiece.model {EXPORT_PATH}/assets"
      ]
    },
    {
      "cell_type": "code",
      "execution_count": 4,
      "metadata": {
        "colab": {
          "base_uri": "https://localhost:8080/"
        },
        "id": "qNSZey1Ki1_L",
        "outputId": "8cb68ccf-4e68-422a-a035-8d62fee65373"
      },
      "outputs": [
        {
          "name": "stdout",
          "output_type": "stream",
          "text": [
            "total 748\n",
            "-rw-r--r-- 1 root root     15 Jun 18 01:01 labels.txt\n",
            "-rw-r--r-- 1 root root 760289 Jun 18 01:01 spiece.model\n"
          ]
        }
      ],
      "source": [
        "!ls -l {EXPORT_PATH}/assets"
      ]
    },
    {
      "cell_type": "code",
      "execution_count": 5,
      "metadata": {
        "colab": {
          "base_uri": "https://localhost:8080/"
        },
        "id": "DmpNYyyli4FH",
        "outputId": "bfae21a7-d13c-4a97-85f1-382de170b7d7"
      },
      "outputs": [
        {
          "name": "stdout",
          "output_type": "stream",
          "text": [
            "Non-Toxic\n",
            "Toxic"
          ]
        }
      ],
      "source": [
        "!cat {EXPORT_PATH}/assets/labels.txt"
      ]
    },
    {
      "cell_type": "markdown",
      "metadata": {
        "id": "Xlc-iHtVitzG"
      },
      "source": [
        "Voila! We have our `spiece.model` inside assets directory and the extracted labels inside `labels.txt`"
      ]
    },
    {
      "cell_type": "markdown",
      "metadata": {
        "id": "wOUCFUjwN3xn"
      },
      "source": [
        "## Import and Save AlbertForSequenceClassification in Spark NLP\n"
      ]
    },
    {
      "cell_type": "markdown",
      "metadata": {
        "id": "qs1eoKAvN3xn"
      },
      "source": [
        "- Install and set up Spark NLP in Google Colab\n",
        "- This example uses specific versions of `pyspark` and `spark-nlp` that have been tested with the transformer model to ensure everything runs smoothly."
      ]
    },
    {
      "cell_type": "code",
      "execution_count": 10,
      "metadata": {
        "colab": {
          "base_uri": "https://localhost:8080/"
        },
        "id": "eayHES7XN3xn",
        "outputId": "65685b42-c723-4417-aaa4-8941d735617e"
      },
      "outputs": [
        {
          "name": "stdout",
          "output_type": "stream",
          "text": [
            "  Preparing metadata (setup.py) ... \u001b[?25l\u001b[?25hdone\n",
            "  Building wheel for pyspark (setup.py) ... \u001b[?25l\u001b[?25hdone\n"
          ]
        }
      ],
      "source": [
        "!pip install -q pyspark==3.5.4 spark-nlp==5.5.3"
      ]
    },
    {
      "cell_type": "markdown",
      "metadata": {
        "id": "k7VqvgjiN3xn"
      },
      "source": [
        "Let's start Spark with Spark NLP included via our simple `start()` function"
      ]
    },
    {
      "cell_type": "code",
      "execution_count": 11,
      "metadata": {
        "colab": {
          "base_uri": "https://localhost:8080/"
        },
        "id": "IGJVB0X8N3xn",
        "outputId": "727f7697-e685-417a-de6c-348cdce510b1"
      },
      "outputs": [
        {
          "name": "stdout",
          "output_type": "stream",
          "text": [
            "Spark NLP version:  5.5.3\n",
            "Apache Spark version:  3.5.4\n"
          ]
        }
      ],
      "source": [
        "import sparknlp\n",
        "\n",
        "spark = sparknlp.start()\n",
        "\n",
        "print(\"Spark NLP version: \", sparknlp.version())\n",
        "print(\"Apache Spark version: \", spark.version)"
      ]
    },
    {
      "cell_type": "markdown",
      "metadata": {
        "id": "rSHrTI5lN3xn"
      },
      "source": [
        "- Let's use `loadSavedModel` functon in `AlbertForSequenceClassification` which allows us to load TensorFlow model in SavedModel format\n",
        "- Most params can be set later when you are loading this model in `AlbertForSequenceClassification` in runtime like `setMaxSentenceLength`, so don't worry what you are setting them now\n",
        "- `loadSavedModel` accepts two params, first is the path to the TF SavedModel. The second is the SparkSession that is `spark` variable we previously started via `sparknlp.start()`\n",
        "- NOTE: `loadSavedModel` accepts local paths in addition to distributed file systems such as `HDFS`, `S3`, `DBFS`, etc. This feature was introduced in Spark NLP 4.2.2 release. Keep in mind the best and recommended way to move/share/reuse Spark NLP models is to use `write.save` so you can use `.load()` from any file systems natively.\n",
        "\n"
      ]
    },
    {
      "cell_type": "code",
      "execution_count": 12,
      "metadata": {
        "id": "clNYKce5N3xo"
      },
      "outputs": [],
      "source": [
        "from sparknlp.annotator import AlbertForSequenceClassification\n",
        "\n",
        "sequenceClassifier = AlbertForSequenceClassification\\\n",
        "  .loadSavedModel(EXPORT_PATH, spark)\\\n",
        "  .setInputCols([\"document\",'token'])\\\n",
        "  .setOutputCol(\"class\")\\\n",
        "  .setCaseSensitive(False)\\\n",
        "  .setMaxSentenceLength(128)"
      ]
    },
    {
      "cell_type": "markdown",
      "metadata": {
        "id": "85t-OnYGN3xo"
      },
      "source": [
        "- Let's save it on disk so it is easier to be moved around and also be used later via `.load` function"
      ]
    },
    {
      "cell_type": "code",
      "execution_count": 13,
      "metadata": {
        "id": "-dfsFviKN3xo"
      },
      "outputs": [],
      "source": [
        "sequenceClassifier.write().overwrite().save(\"./{}_spark_nlp_openvino\".format(MODEL_NAME))"
      ]
    },
    {
      "cell_type": "markdown",
      "metadata": {
        "id": "s-o3b5WGN3xo"
      },
      "source": [
        "Let's clean up stuff we don't need anymore"
      ]
    },
    {
      "cell_type": "code",
      "execution_count": 14,
      "metadata": {
        "id": "scZ0yARFN3xo"
      },
      "outputs": [],
      "source": [
        "!rm -rf {EXPORT_PATH}"
      ]
    },
    {
      "cell_type": "markdown",
      "metadata": {
        "id": "IVbO6rvPN3xo"
      },
      "source": [
        "Awesome 😎  !\n",
        "\n",
        "This is your AlbertForSequenceClassification model from HuggingFace 🤗  loaded and saved by Spark NLP 🚀"
      ]
    },
    {
      "cell_type": "code",
      "execution_count": 15,
      "metadata": {
        "colab": {
          "base_uri": "https://localhost:8080/"
        },
        "id": "sHVo1Nz1N3xo",
        "outputId": "92dc8a4e-fd82-40d9-9b43-b547b1a0f4ce"
      },
      "outputs": [
        {
          "name": "stdout",
          "output_type": "stream",
          "text": [
            "total 46768\n",
            "-rw-r--r-- 1 root root 47112481 Jun 18 01:05 albert_classification_openvino\n",
            "-rw-r--r-- 1 root root   760289 Jun 18 01:05 albert_spp\n",
            "drwxr-xr-x 3 root root     4096 Jun 18 01:05 fields\n",
            "drwxr-xr-x 2 root root     4096 Jun 18 01:05 metadata\n"
          ]
        }
      ],
      "source": [
        "! ls -l {MODEL_NAME}_spark_nlp_openvino"
      ]
    },
    {
      "cell_type": "markdown",
      "metadata": {
        "id": "hzD1bqT9N3xo"
      },
      "source": [
        "Now let's see how we can use it on other machines, clusters, or any place you wish to use your new and shiny AlbertForSequenceClassification model 😊"
      ]
    },
    {
      "cell_type": "code",
      "execution_count": 16,
      "metadata": {
        "id": "xF9ZV583N3xo"
      },
      "outputs": [],
      "source": [
        "sequenceClassifier_loaded = AlbertForSequenceClassification.load(\"./{}_spark_nlp_openvino\".format(MODEL_NAME))\\\n",
        "  .setInputCols([\"document\",'token'])\\\n",
        "  .setOutputCol(\"class\")"
      ]
    },
    {
      "cell_type": "markdown",
      "metadata": {
        "id": "-5tqwU3GN3xo"
      },
      "source": [
        "You can see what labels were used to train this model via `getClasses` function:"
      ]
    },
    {
      "cell_type": "code",
      "execution_count": 17,
      "metadata": {
        "colab": {
          "base_uri": "https://localhost:8080/"
        },
        "id": "pefXN3JnN3xo",
        "outputId": "a28e8793-42b8-40d0-9280-98fc81bee818"
      },
      "outputs": [
        {
          "data": {
            "text/plain": [
              "['Non-Toxic', 'Toxic']"
            ]
          },
          "execution_count": 17,
          "metadata": {},
          "output_type": "execute_result"
        }
      ],
      "source": [
        "sequenceClassifier_loaded.getClasses()"
      ]
    },
    {
      "cell_type": "markdown",
      "metadata": {
        "id": "T3COlXkvN3xo"
      },
      "source": [
        "This is how you can use your loaded classifier model in Spark NLP 🚀 pipeline:"
      ]
    },
    {
      "cell_type": "code",
      "execution_count": 18,
      "metadata": {
        "colab": {
          "base_uri": "https://localhost:8080/"
        },
        "id": "FrxDXGXuN3xp",
        "outputId": "5e9e3ade-ed65-422f-d4d7-669571d0b290"
      },
      "outputs": [
        {
          "name": "stdout",
          "output_type": "stream",
          "text": [
            "+-----------+-----------+\n",
            "|text       |result     |\n",
            "+-----------+-----------+\n",
            "|I love you!|[Non-Toxic]|\n",
            "|I hate her!|[Toxic]    |\n",
            "+-----------+-----------+\n",
            "\n"
          ]
        }
      ],
      "source": [
        "from sparknlp.base import DocumentAssembler\n",
        "from sparknlp.annotator import Tokenizer\n",
        "from pyspark.ml import Pipeline\n",
        "\n",
        "document_assembler = DocumentAssembler()\\\n",
        "    .setInputCol(\"text\")\\\n",
        "    .setOutputCol(\"document\")\n",
        "\n",
        "tokenizer = Tokenizer()\\\n",
        "    .setInputCols([\"document\"])\\\n",
        "    .setOutputCol(\"token\")\n",
        "\n",
        "pipeline = Pipeline(stages=[\n",
        "    document_assembler,\n",
        "    tokenizer,\n",
        "    sequenceClassifier_loaded\n",
        "])\n",
        "\n",
        "example = spark.createDataFrame([\n",
        "    [\"I love you!\"],\n",
        "    [\"I hate her!\"]\n",
        "]).toDF(\"text\")\n",
        "\n",
        "result = pipeline.fit(example).transform(example)\n",
        "result.select(\"text\", \"class.result\").show(truncate=False)"
      ]
    },
    {
      "cell_type": "markdown",
      "metadata": {
        "id": "AA9KTNurN3xp"
      },
      "source": [
        "That's it! You can now go wild and use hundreds of `AlbertForSequenceClassification` models from HuggingFace 🤗 in Spark NLP 🚀\n"
      ]
    }
  ],
  "metadata": {
    "colab": {
      "provenance": []
    },
    "kernelspec": {
      "display_name": "Python 3",
      "language": "python",
      "name": "python3"
    },
    "language_info": {
      "codemirror_mode": {
        "name": "ipython",
        "version": 3
      },
      "file_extension": ".py",
      "mimetype": "text/x-python",
      "name": "python",
      "nbconvert_exporter": "python",
      "pygments_lexer": "ipython3",
      "version": "3.10.12"
    }
  },
  "nbformat": 4,
  "nbformat_minor": 0
}
