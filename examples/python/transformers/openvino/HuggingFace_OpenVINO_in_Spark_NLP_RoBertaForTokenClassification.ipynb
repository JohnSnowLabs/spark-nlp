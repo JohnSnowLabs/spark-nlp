{
 "cells": [
  {
   "cell_type": "markdown",
   "metadata": {
    "id": "_V5XcDCnVgSi"
   },
   "source": [
    "![JohnSnowLabs](https://sparknlp.org/assets/images/logo.png)\n",
    "\n",
    "[![Open In Colab](https://colab.research.google.com/assets/colab-badge.svg)](https://colab.research.google.com/github/JohnSnowLabs/spark-nlp/blob/master/examples/python/transformers/openvino/HuggingFace_OpenVINO_in_Spark_NLP_RoBertaForTokenClassification.ipynb)\n",
    "\n",
    "# Import OpenVINO RoBertaForTokenClassification models from HuggingFace 🤗 into Spark NLP 🚀\n",
    "\n",
    "This notebook provides a detailed walkthrough on optimizing and exporting RoBertaForTokenClassification models from HuggingFace for use in Spark NLP, leveraging the various tools provided in the [Intel OpenVINO toolkit](https://www.intel.com/content/www/us/en/developer/tools/openvino-toolkit/overview.html) ecosystem.\n",
    "\n",
    "Let's keep in mind a few things before we start 😊\n",
    "\n",
    "- OpenVINO support was introduced in  `Spark NLP 5.4.0`, enabling high performance inference for models. Please make sure you have upgraded to the latest Spark NLP release.\n",
    "- You can import models for RoBertaForTokenClassification from RoBertaForTokenClassification   and they have to be in `Token Classification` category."
   ]
  },
  {
   "cell_type": "markdown",
   "metadata": {
    "id": "aghasVppVgSk"
   },
   "source": [
    "## 1. Export and Save the HuggingFace model"
   ]
  },
  {
   "cell_type": "markdown",
   "metadata": {
    "id": "be4HsTDMVgSk"
   },
   "source": [
    "- Let's install `transformers` and `openvino` packages with other dependencies. You don't need `openvino` to be installed for Spark NLP, however, we need it to load and save models from HuggingFace.\n",
    "- We lock `transformers` on version `4.48.3`. This doesn't mean it won't work with the future releases, but we wanted you to know which versions have been tested successfully."
   ]
  },
  {
   "cell_type": "code",
   "execution_count": null,
   "metadata": {
    "colab": {
     "base_uri": "https://localhost:8080/"
    },
    "id": "e9uk8gkL1tvg",
    "outputId": "0243de5a-ad67-4939-bbb7-56df55577f3c"
   },
   "outputs": [],
   "source": [
    "!pip install -q --upgrade transformers==4.48.3 optimum[openvino]"
   ]
  },
  {
   "cell_type": "markdown",
   "metadata": {
    "id": "vI7uz_6hVgSl"
   },
   "source": [
    "[Optimum Intel](https://github.com/huggingface/optimum-intel?tab=readme-ov-file#openvino) is the interface between the Transformers library and the various model optimization and acceleration tools provided by Intel. HuggingFace models loaded with optimum-intel are automatically optimized for OpenVINO, while being compatible with the Transformers API.\n",
    "- To load a HuggingFace model directly for inference/export, just replace the `AutoModelForXxx` class with the corresponding `OVModelForXxx` class. We can use this to import and export OpenVINO models with `from_pretrained` and `save_pretrained`.\n",
    "- By setting `export=True`, the source model is converted to OpenVINO IR format on the fly.\n",
    "- We'll use [obi/deid_roberta_i2b2](https://huggingface.co/obi/deid_roberta_i2b2) model from HuggingFace as an example and load it as a `OVModelForTokenClassification`, representing an OpenVINO model.\n",
    "- In addition to the OVModelForTokenClassification model, we also need to save the `AutoTokenizer`. This is the same for every model, these are assets (saved in `/assets`) needed for tokenization inside Spark NLP."
   ]
  },
  {
   "cell_type": "code",
   "execution_count": 2,
   "metadata": {
    "colab": {
     "base_uri": "https://localhost:8080/",
     "height": 484,
     "referenced_widgets": [
      "80166f7a0acc40daa475732fafc167ed",
      "747eb9f0ecb240d38be025a4368cacdd",
      "9dc64cd2345a4f909257e97709486ec1",
      "63ba707ccc3247b184d7b42cc065a8d8",
      "ba4fbed9e85140ff8e1e2bf092b31d04",
      "ff38ed66f7f2476d8d43b9f558d1f91d",
      "605ccd75ec41416da335f85e422f14a0",
      "bed5d307b2b840a090f947c71da7d10a",
      "944d76ed9ed94cc9864f6402ed3a36f5",
      "f5e5fb0e147d40788a833f82dbd41959",
      "19f20d2828db465bb1a177738e8e181f",
      "46b15e2938d44561b463ad1c04d8e27e",
      "faafdbc9627049718df78972e81e2e5e",
      "9e32441bf3694d8e947e88fe97b6ce56",
      "e377d306525d47e5b84ce70aa43fae6b",
      "ba01d0a5b9204fe7a87da26fb220879a",
      "6e6a71cb5697452baad141bedd444c6e",
      "9ae882fc544f4c4b80fc03351db46a74",
      "95813bb47e044af398d2791013c2e52a",
      "2be42ba6bf274a20b5ccab16127141d8",
      "ab61bbcec41f437a8eb974fbac6d498b",
      "b6c598713edf4310b0ead88595c20f26",
      "0f9ea3e7db6448e48fa1b5b22d044a30",
      "05ce094ae057490aa259cb6cf7165f0f",
      "3878759905084cf9a7be2b21a59afd12",
      "0a40f4a4ab994244b2189ea5d5effaeb",
      "bc336627373e494ba3c7d22babb6f8cd",
      "f37c15101b324093b4877e6032a12172",
      "ddd7f00da0fd4f27a0cdde129bebeccc",
      "cc36e7ea38184517ba393c3a8affa085",
      "346593adabcc46f0ab80b0cf3037fa6f",
      "7328c2ae0a044d01a42d303de9efb735",
      "d2b2cc77d5d547c7ab5707a9653f2da0",
      "7f4c45093549497baaef8d2551f33342",
      "caad82b07bd0487f8c0c3a2930b516a3",
      "5d859b314f7f4804af6bed5dc5dc0194",
      "9151a8615ec245bcb972d1d225d7ca00",
      "67a62e0fcd814acd850034f64d5706b4",
      "b6eeb8cbdcf04ca58545a33403e4bbc4",
      "3ad9a925cea94b3a9daa6a59b7295f1a",
      "8917bb0539ae470a82b620276b808428",
      "622840858c2c46efbe75f7e066439bc7",
      "a8aeb1d6ff014c528e35402a41c55015",
      "832b17e11a7f4c5aaa1a43bccf1efdd2",
      "0fd3510fbd5e4610baeb843d3655768a",
      "307d8817ef3d406b89a969aa694c2b24",
      "eddb02cf968741b58d471265ebff6e99",
      "b8841eb1a5084fc8bd42057429b048b5",
      "8fc621534c794f8b86dded1e11ec847c",
      "190a238acdf24355ad3582b17104bb6f",
      "e896c7d19069468c9ec7c626005dc977",
      "79333569537949519e60847f70d906a9",
      "84313e173d5f465fac78d5c601656451",
      "983ca9a0bd1e4f23a199f51b97da7a4b",
      "651a29dbe0a241a18d58da579b7e36d9",
      "82bfeb723973410692fa162cbd4cf4f6",
      "048fb8b597d749a187a6402e50b2ee70",
      "ec3c7e8b61bc4a839cb9613e432cd044",
      "7f840cce15b84615bc126b17abdc744c",
      "433c6a64c80a4791b55cf070c75e0843",
      "f7723375b4554775bf66c08286e559aa",
      "84caf5296fbe45f4be5306a1f3ee48d2",
      "e8bae1750b1846d6a47a2075abe3d800",
      "bb75c0136112454e99028070bf7ddb52",
      "409d77cb6b524771be30c680a0182593",
      "ea124dc27c65437d89d9e676c5dde4b6",
      "af3346e846d14139bd49f28e49fc4a11",
      "7b89e94e0364454a9be35b40b4c971c8",
      "3dcbc73c984741cea8df136d7b4d9b89",
      "66206b4d1d46486894ee05f67e45d0e9",
      "9c8ac53834a0429490e0c3cabff43be1",
      "cfa4dca373b74ad19710d88f007ceed5",
      "11002223ef924ee6a4309c04dab37e47",
      "21053d99e15b4f4e9e02ddff9e2831bb",
      "23f9b2fdd0e34948a6942af1915b2777",
      "3184047d5c6e48f385575a92f28a5571",
      "fa075b77fbbd440b8080f2b0a7f0ed8f"
     ]
    },
    "id": "qF5Pp3DuVgSm",
    "outputId": "7085a106-fffc-42d3-da42-51c9413648d1"
   },
   "outputs": [
    {
     "name": "stderr",
     "output_type": "stream",
     "text": [
      "No CUDA runtime is found, using CUDA_HOME='/usr/local/cuda'\n",
      "/usr/local/lib/python3.11/dist-packages/huggingface_hub/utils/_auth.py:94: UserWarning: \n",
      "The secret `HF_TOKEN` does not exist in your Colab secrets.\n",
      "To authenticate with the Hugging Face Hub, create a token in your settings tab (https://huggingface.co/settings/tokens), set it as secret in your Google Colab and restart your session.\n",
      "You will be able to reuse this secret in all of your notebooks.\n",
      "Please note that authentication is recommended but still optional to access public models or datasets.\n",
      "  warnings.warn(\n"
     ]
    },
    {
     "data": {
      "application/vnd.jupyter.widget-view+json": {
       "model_id": "80166f7a0acc40daa475732fafc167ed",
       "version_major": 2,
       "version_minor": 0
      },
      "text/plain": [
       "config.json:   0%|          | 0.00/2.50k [00:00<?, ?B/s]"
      ]
     },
     "metadata": {},
     "output_type": "display_data"
    },
    {
     "data": {
      "application/vnd.jupyter.widget-view+json": {
       "model_id": "46b15e2938d44561b463ad1c04d8e27e",
       "version_major": 2,
       "version_minor": 0
      },
      "text/plain": [
       "model.safetensors:   0%|          | 0.00/1.42G [00:00<?, ?B/s]"
      ]
     },
     "metadata": {},
     "output_type": "display_data"
    },
    {
     "data": {
      "application/vnd.jupyter.widget-view+json": {
       "model_id": "0f9ea3e7db6448e48fa1b5b22d044a30",
       "version_major": 2,
       "version_minor": 0
      },
      "text/plain": [
       "tokenizer_config.json:   0%|          | 0.00/351 [00:00<?, ?B/s]"
      ]
     },
     "metadata": {},
     "output_type": "display_data"
    },
    {
     "data": {
      "application/vnd.jupyter.widget-view+json": {
       "model_id": "7f4c45093549497baaef8d2551f33342",
       "version_major": 2,
       "version_minor": 0
      },
      "text/plain": [
       "vocab.json:   0%|          | 0.00/798k [00:00<?, ?B/s]"
      ]
     },
     "metadata": {},
     "output_type": "display_data"
    },
    {
     "data": {
      "application/vnd.jupyter.widget-view+json": {
       "model_id": "0fd3510fbd5e4610baeb843d3655768a",
       "version_major": 2,
       "version_minor": 0
      },
      "text/plain": [
       "merges.txt:   0%|          | 0.00/456k [00:00<?, ?B/s]"
      ]
     },
     "metadata": {},
     "output_type": "display_data"
    },
    {
     "data": {
      "application/vnd.jupyter.widget-view+json": {
       "model_id": "82bfeb723973410692fa162cbd4cf4f6",
       "version_major": 2,
       "version_minor": 0
      },
      "text/plain": [
       "tokenizer.json:   0%|          | 0.00/1.36M [00:00<?, ?B/s]"
      ]
     },
     "metadata": {},
     "output_type": "display_data"
    },
    {
     "data": {
      "application/vnd.jupyter.widget-view+json": {
       "model_id": "af3346e846d14139bd49f28e49fc4a11",
       "version_major": 2,
       "version_minor": 0
      },
      "text/plain": [
       "special_tokens_map.json:   0%|          | 0.00/239 [00:00<?, ?B/s]"
      ]
     },
     "metadata": {},
     "output_type": "display_data"
    },
    {
     "name": "stderr",
     "output_type": "stream",
     "text": [
      "`loss_type=None` was set in the config but it is unrecognised.Using the default loss: `ForCausalLMLoss`.\n"
     ]
    },
    {
     "data": {
      "text/plain": [
       "('ov_models/obi/deid_roberta_i2b2/tokenizer_config.json',\n",
       " 'ov_models/obi/deid_roberta_i2b2/special_tokens_map.json',\n",
       " 'ov_models/obi/deid_roberta_i2b2/vocab.json',\n",
       " 'ov_models/obi/deid_roberta_i2b2/merges.txt',\n",
       " 'ov_models/obi/deid_roberta_i2b2/added_tokens.json',\n",
       " 'ov_models/obi/deid_roberta_i2b2/tokenizer.json')"
      ]
     },
     "execution_count": 2,
     "metadata": {},
     "output_type": "execute_result"
    }
   ],
   "source": [
    "from optimum.intel import OVModelForTokenClassification\n",
    "from transformers import AutoTokenizer\n",
    "\n",
    "MODEL_NAME = \"obi/deid_roberta_i2b2\"\n",
    "EXPORT_PATH = f\"ov_models/{MODEL_NAME}\"\n",
    "\n",
    "ov_model = OVModelForTokenClassification.from_pretrained(MODEL_NAME, export=True)\n",
    "tokenizer = AutoTokenizer.from_pretrained(MODEL_NAME)\n",
    "\n",
    "ov_model.save_pretrained(EXPORT_PATH)\n",
    "tokenizer.save_pretrained(EXPORT_PATH)"
   ]
  },
  {
   "cell_type": "markdown",
   "metadata": {
    "id": "IF-642t12Mkf"
   },
   "source": [
    "Let's have a look inside these two directories and see what we are dealing with:"
   ]
  },
  {
   "cell_type": "code",
   "execution_count": 5,
   "metadata": {
    "colab": {
     "base_uri": "https://localhost:8080/"
    },
    "id": "73A3DRwf2M2C",
    "outputId": "a579f143-5981-4ff1-b3b9-6087f32f1559"
   },
   "outputs": [
    {
     "name": "stdout",
     "output_type": "stream",
     "text": [
      "total 1389640\n",
      "-rw-r--r-- 1 root root       2505 Jun 24 12:13 config.json\n",
      "-rw-r--r-- 1 root root     456318 Jun 24 12:13 merges.txt\n",
      "-rw-r--r-- 1 root root 1417429348 Jun 24 12:13 openvino_model.bin\n",
      "-rw-r--r-- 1 root root     724181 Jun 24 12:13 openvino_model.xml\n",
      "-rw-r--r-- 1 root root        964 Jun 24 12:13 special_tokens_map.json\n",
      "-rw-r--r-- 1 root root       1383 Jun 24 12:13 tokenizer_config.json\n",
      "-rw-r--r-- 1 root root    3558743 Jun 24 12:13 tokenizer.json\n",
      "-rw-r--r-- 1 root root     798293 Jun 24 12:13 vocab.json\n"
     ]
    }
   ],
   "source": [
    "!ls -l {EXPORT_PATH}"
   ]
  },
  {
   "cell_type": "markdown",
   "metadata": {
    "id": "KqWPziO02PAh"
   },
   "source": [
    "- We need to convert `vocab.json` to a plain `vocab.txt` format, as required by Spark NLP.\n",
    "- Move both `vocab.txt` and `merges.txt` into the assets folder.\n",
    "- Additionally, we need to extract label-to-ID mappings from the model config and save them as `labels.txt` in the same folder for Spark NLP to use during inference."
   ]
  },
  {
   "cell_type": "code",
   "execution_count": 6,
   "metadata": {
    "id": "A9Drw_I12QoR"
   },
   "outputs": [],
   "source": [
    "import json\n",
    "\n",
    "!mkdir -p {EXPORT_PATH}/assets && mv {EXPORT_PATH}/merges.txt {EXPORT_PATH}/assets/\n",
    "\n",
    "with open(f\"{EXPORT_PATH}/vocab.json\") as f, open(f\"{EXPORT_PATH}/assets/vocab.txt\", \"w\") as out:\n",
    "    out.write(\"\\n\".join(json.load(f)))\n",
    "\n",
    "with open(f\"{EXPORT_PATH}/assets/labels.txt\", \"w\") as f:\n",
    "    f.write(\"\\n\".join(ov_model.config.id2label[k] for k in sorted(ov_model.config.id2label)))"
   ]
  },
  {
   "cell_type": "code",
   "execution_count": 7,
   "metadata": {
    "colab": {
     "base_uri": "https://localhost:8080/"
    },
    "id": "TBjgbbIo2T0N",
    "outputId": "39f78263-992c-42b7-fc5b-a7786b45030b"
   },
   "outputs": [
    {
     "name": "stdout",
     "output_type": "stream",
     "text": [
      "ov_models/obi/deid_roberta_i2b2:\n",
      "total 1389196\n",
      "drwxr-xr-x 2 root root       4096 Jun 24 12:15 assets\n",
      "-rw-r--r-- 1 root root       2505 Jun 24 12:13 config.json\n",
      "-rw-r--r-- 1 root root 1417429348 Jun 24 12:13 openvino_model.bin\n",
      "-rw-r--r-- 1 root root     724181 Jun 24 12:13 openvino_model.xml\n",
      "-rw-r--r-- 1 root root        964 Jun 24 12:13 special_tokens_map.json\n",
      "-rw-r--r-- 1 root root       1383 Jun 24 12:13 tokenizer_config.json\n",
      "-rw-r--r-- 1 root root    3558743 Jun 24 12:13 tokenizer.json\n",
      "-rw-r--r-- 1 root root     798293 Jun 24 12:13 vocab.json\n",
      "\n",
      "ov_models/obi/deid_roberta_i2b2/assets:\n",
      "total 852\n",
      "-rw-r--r-- 1 root root    341 Jun 24 12:15 labels.txt\n",
      "-rw-r--r-- 1 root root 456318 Jun 24 12:13 merges.txt\n",
      "-rw-r--r-- 1 root root 407064 Jun 24 12:15 vocab.txt\n"
     ]
    }
   ],
   "source": [
    "!ls -lR {EXPORT_PATH}"
   ]
  },
  {
   "cell_type": "markdown",
   "metadata": {
    "id": "zyImh3aJ2VMv"
   },
   "source": [
    "Voila! We have our `vocab.txt` and `merges.txt` inside assets directory, along with the extracted labels saved in `labels.txt`."
   ]
  },
  {
   "cell_type": "markdown",
   "metadata": {
    "id": "7QFZW3U_540E"
   },
   "source": [
    "## Import and Save RoBertaForTokenClassification in Spark NLP\n"
   ]
  },
  {
   "cell_type": "markdown",
   "metadata": {
    "id": "a04jZvj4540E"
   },
   "source": [
    "- Install and set up Spark NLP in Google Colab\n",
    "- This example uses specific versions of `pyspark` and `spark-nlp` that have been tested with the transformer model to ensure everything runs smoothly."
   ]
  },
  {
   "cell_type": "code",
   "execution_count": 3,
   "metadata": {
    "colab": {
     "base_uri": "https://localhost:8080/"
    },
    "id": "ghA18frg540E",
    "outputId": "6d892088-7ab6-433a-9ce2-deff38369323"
   },
   "outputs": [
    {
     "name": "stdout",
     "output_type": "stream",
     "text": [
      "\u001b[2K     \u001b[90m━━━━━━━━━━━━━━━━━━━━━━━━━━━━━━━━━━━━━━━\u001b[0m \u001b[32m317.3/317.3 MB\u001b[0m \u001b[31m3.7 MB/s\u001b[0m eta \u001b[36m0:00:00\u001b[0m\n",
      "\u001b[?25h  Preparing metadata (setup.py) ... \u001b[?25l\u001b[?25hdone\n",
      "\u001b[2K   \u001b[90m━━━━━━━━━━━━━━━━━━━━━━━━━━━━━━━━━━━━━━━━\u001b[0m \u001b[32m635.7/635.7 kB\u001b[0m \u001b[31m30.1 MB/s\u001b[0m eta \u001b[36m0:00:00\u001b[0m\n",
      "\u001b[?25h  Building wheel for pyspark (setup.py) ... \u001b[?25l\u001b[?25hdone\n"
     ]
    }
   ],
   "source": [
    "!pip install -q pyspark==3.5.4 spark-nlp==5.5.3"
   ]
  },
  {
   "cell_type": "markdown",
   "metadata": {
    "id": "yRvFqLVm540E"
   },
   "source": [
    "Let's start Spark with Spark NLP included via our simple `start()` function"
   ]
  },
  {
   "cell_type": "code",
   "execution_count": 4,
   "metadata": {
    "colab": {
     "base_uri": "https://localhost:8080/"
    },
    "id": "sIY21XP0540E",
    "outputId": "f1be0781-879e-41fb-b76e-5b5b653501a7"
   },
   "outputs": [
    {
     "name": "stdout",
     "output_type": "stream",
     "text": [
      "Spark NLP version: 5.5.3\n",
      "Apache Spark version: 3.5.4\n"
     ]
    }
   ],
   "source": [
    "import sparknlp\n",
    "\n",
    "spark = sparknlp.start()\n",
    "\n",
    "print(\"Spark NLP version: {}\".format(sparknlp.version()))\n",
    "print(\"Apache Spark version: {}\".format(spark.version))"
   ]
  },
  {
   "cell_type": "markdown",
   "metadata": {
    "id": "3GZJuigE540E"
   },
   "source": [
    "- Let's use `loadSavedModel` functon in `RoBertaForTokenClassification` which allows us to load TensorFlow model in SavedModel format\n",
    "- Most params can be set later when you are loading this model in `RoBertaForTokenClassification` in runtime like `setMaxSentenceLength`, so don't worry what you are setting them now\n",
    "- `loadSavedModel` accepts two params, first is the path to the TF SavedModel. The second is the SparkSession that is `spark` variable we previously started via `sparknlp.start()`\n",
    "- NOTE: `loadSavedModel` accepts local paths in addition to distributed file systems such as `HDFS`, `S3`, `DBFS`, etc. This feature was introduced in Spark NLP 4.2.2 release. Keep in mind the best and recommended way to move/share/reuse Spark NLP models is to use `write.save` so you can use `.load()` from any file systems natively.st and recommended way to move/share/reuse Spark NLP models is to use `write.save` so you can use `.load()` from any file systems natively."
   ]
  },
  {
   "cell_type": "code",
   "execution_count": 8,
   "metadata": {
    "id": "rTj4h_1C540E"
   },
   "outputs": [],
   "source": [
    "from sparknlp.annotator import RoBertaForTokenClassification\n",
    "\n",
    "tokenClassifier = RoBertaForTokenClassification\\\n",
    "  .loadSavedModel(EXPORT_PATH, spark)\\\n",
    "  .setInputCols([\"document\",'token'])\\\n",
    "  .setOutputCol(\"ner\")\\\n",
    "  .setCaseSensitive(True)\\\n",
    "  .setMaxSentenceLength(128)"
   ]
  },
  {
   "cell_type": "markdown",
   "metadata": {
    "id": "mNbEVlBt540E"
   },
   "source": [
    "- Let's save it on disk so it is easier to be moved around and also be used later via `.load` function"
   ]
  },
  {
   "cell_type": "code",
   "execution_count": 9,
   "metadata": {
    "id": "QB9DvDDc540E"
   },
   "outputs": [],
   "source": [
    "tokenClassifier.write().overwrite().save(\"./{}_spark_nlp_openvino\".format(EXPORT_PATH))"
   ]
  },
  {
   "cell_type": "markdown",
   "metadata": {
    "id": "o0nN-RKP540E"
   },
   "source": [
    "Let's clean up stuff we don't need anymore"
   ]
  },
  {
   "cell_type": "code",
   "execution_count": 10,
   "metadata": {
    "id": "EdH4FO7B540E"
   },
   "outputs": [],
   "source": [
    "!rm -rf {EXPORT_PATH}"
   ]
  },
  {
   "cell_type": "markdown",
   "metadata": {
    "id": "-xmiZpQy540E"
   },
   "source": [
    "Awesome 😎  !\n",
    "\n",
    "This is your RoBertaForTokenClassification model from HuggingFace 🤗  loaded and saved by Spark NLP 🚀"
   ]
  },
  {
   "cell_type": "code",
   "execution_count": 11,
   "metadata": {
    "colab": {
     "base_uri": "https://localhost:8080/"
    },
    "id": "HPp3UOIR540E",
    "outputId": "17498bef-e694-4dee-daa8-8ad29391da00"
   },
   "outputs": [
    {
     "name": "stdout",
     "output_type": "stream",
     "text": [
      "total 1385140\n",
      "drwxr-xr-x 5 root root       4096 Jun 24 12:16 fields\n",
      "drwxr-xr-x 2 root root       4096 Jun 24 12:16 metadata\n",
      "-rw-r--r-- 1 root root 1418370207 Jun 24 12:17 roberta_classification_openvino\n"
     ]
    }
   ],
   "source": [
    "! ls -l {EXPORT_PATH}_spark_nlp_openvino"
   ]
  },
  {
   "cell_type": "markdown",
   "metadata": {
    "id": "NdYFth1e540E"
   },
   "source": [
    "Now let's see how we can use it on other machines, clusters, or any place you wish to use your new and shiny RoBertaForTokenClassification model 😊"
   ]
  },
  {
   "cell_type": "code",
   "execution_count": 12,
   "metadata": {
    "id": "koiLQWUN540E"
   },
   "outputs": [],
   "source": [
    "tokenClassifier_loaded = RoBertaForTokenClassification.load(\"./{}_spark_nlp_openvino\".format(EXPORT_PATH))\\\n",
    "  .setInputCols([\"document\",'token'])\\\n",
    "  .setOutputCol(\"ner\")"
   ]
  },
  {
   "cell_type": "markdown",
   "metadata": {
    "id": "gOstWYh7540F"
   },
   "source": [
    "You can see what labels were used to train this model via `getClasses` function: introduced in `spark-nlp==3.4.0`"
   ]
  },
  {
   "cell_type": "code",
   "execution_count": 13,
   "metadata": {
    "colab": {
     "base_uri": "https://localhost:8080/"
    },
    "id": "E2rKrDqM540F",
    "outputId": "1e617e61-2d34-4037-b150-9c35c430c45c"
   },
   "outputs": [
    {
     "data": {
      "text/plain": [
       "['L-HOSP',\n",
       " 'U-LOC',\n",
       " 'I-AGE',\n",
       " 'B-STAFF',\n",
       " 'U-AGE',\n",
       " 'B-LOC',\n",
       " 'L-AGE',\n",
       " 'B-DATE',\n",
       " 'L-OTHERPHI',\n",
       " 'U-ID',\n",
       " 'U-PATORG',\n",
       " 'I-DATE',\n",
       " 'U-OTHERPHI',\n",
       " 'B-PHONE',\n",
       " 'I-HOSP',\n",
       " 'U-EMAIL',\n",
       " 'L-ID',\n",
       " 'L-PATIENT',\n",
       " 'L-PATORG',\n",
       " 'L-STAFF',\n",
       " 'U-PHONE',\n",
       " 'I-PHONE',\n",
       " 'I-EMAIL',\n",
       " 'B-AGE',\n",
       " 'B-ID',\n",
       " 'L-LOC',\n",
       " 'B-PATORG',\n",
       " 'B-EMAIL',\n",
       " 'L-EMAIL',\n",
       " 'U-DATE',\n",
       " 'I-OTHERPHI',\n",
       " 'I-LOC',\n",
       " 'B-OTHERPHI',\n",
       " 'I-STAFF',\n",
       " 'I-PATIENT',\n",
       " 'U-STAFF',\n",
       " 'I-PATORG',\n",
       " 'L-PHONE',\n",
       " 'U-PATIENT',\n",
       " 'U-HOSP',\n",
       " 'B-HOSP',\n",
       " 'B-PATIENT',\n",
       " 'O',\n",
       " 'I-ID',\n",
       " 'L-DATE']"
      ]
     },
     "execution_count": 13,
     "metadata": {},
     "output_type": "execute_result"
    }
   ],
   "source": [
    "tokenClassifier_loaded.getClasses()"
   ]
  },
  {
   "cell_type": "markdown",
   "metadata": {
    "id": "J84S9AGk540F"
   },
   "source": [
    "This is how you can use your loaded classifier model in Spark NLP 🚀 pipeline:"
   ]
  },
  {
   "cell_type": "code",
   "execution_count": 14,
   "metadata": {
    "colab": {
     "base_uri": "https://localhost:8080/"
    },
    "id": "QmYZPH6nxDlL",
    "outputId": "828378db-dc99-4d7c-b9d5-fb5ff05a838d"
   },
   "outputs": [
    {
     "name": "stdout",
     "output_type": "stream",
     "text": [
      "+------------------------+-------+\n",
      "|text                    |entity |\n",
      "+------------------------+-------+\n",
      "|John Doe                |PATIENT|\n",
      "|New York Hospital       |HOSP   |\n",
      "|Emily Smith             |STAFF  |\n",
      "|Boston Medical Center on|HOSP   |\n",
      "+------------------------+-------+\n",
      "\n"
     ]
    }
   ],
   "source": [
    "from sparknlp.base import DocumentAssembler\n",
    "from sparknlp.annotator import Tokenizer, NerConverter\n",
    "from pyspark.ml import Pipeline\n",
    "\n",
    "document_assembler = DocumentAssembler() \\\n",
    "    .setInputCol(\"text\") \\\n",
    "    .setOutputCol(\"document\")\n",
    "\n",
    "tokenizer = Tokenizer() \\\n",
    "    .setInputCols([\"document\"]) \\\n",
    "    .setOutputCol(\"token\")\n",
    "\n",
    "ner_converter = NerConverter() \\\n",
    "    .setInputCols([\"document\", \"token\", \"ner\"]) \\\n",
    "    .setOutputCol(\"ner_chunk\")\n",
    "\n",
    "pipeline = Pipeline(stages=[\n",
    "    document_assembler,\n",
    "    tokenizer,\n",
    "    tokenClassifier_loaded,\n",
    "    ner_converter\n",
    "])\n",
    "\n",
    "example_data = spark.createDataFrame([\n",
    "    [\"Patient John Doe was admitted to New York Hospital on 12/05/2022 for chest pain.\"],\n",
    "    [\"Dr. Emily Smith prescribed Aspirin to the patient at Boston Medical Center on 03-15-2023.\"]\n",
    "], [\"text\"])\n",
    "\n",
    "model = pipeline.fit(example_data)\n",
    "result = model.transform(example_data)\n",
    "\n",
    "result.selectExpr(\"explode(ner_chunk) as chunk\").selectExpr(\n",
    "    \"chunk.result as text\",\n",
    "    \"chunk.metadata['entity'] as entity\"\n",
    ").show(truncate=False)"
   ]
  },
  {
   "cell_type": "markdown",
   "metadata": {
    "id": "8-koiJKO540F"
   },
   "source": [
    "That's it! You can now go wild and use hundreds of `RoBertaForTokenClassification` models from HuggingFace 🤗 in Spark NLP 🚀\n"
   ]
  }
 ],
 "metadata": {
  "colab": {
   "provenance": []
  },
  "kernelspec": {
   "display_name": "Python 3",
   "language": "python",
   "name": "python3"
  },
  "language_info": {
   "codemirror_mode": {
    "name": "ipython",
    "version": 3
   },
   "file_extension": ".py",
   "mimetype": "text/x-python",
   "name": "python",
   "nbconvert_exporter": "python",
   "pygments_lexer": "ipython3",
   "version": "3.10.12"
  }
 },
 "nbformat": 4,
 "nbformat_minor": 0
}
