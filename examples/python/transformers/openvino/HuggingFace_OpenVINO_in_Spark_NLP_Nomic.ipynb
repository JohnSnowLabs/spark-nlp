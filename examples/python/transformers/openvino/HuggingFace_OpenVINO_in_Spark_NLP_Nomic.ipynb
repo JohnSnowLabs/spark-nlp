{
  "cells": [
    {
      "cell_type": "markdown",
      "metadata": {
        "id": "FvX_yCcI4W7D"
      },
      "source": [
        "![JohnSnowLabs](https://sparknlp.org/assets/images/logo.png)\n",
        "\n",
        "[![Open In Colab](https://colab.research.google.com/assets/colab-badge.svg)](https://colab.research.google.com/github/JohnSnowLabs/spark-nlp/blob/master/examples/python/transformers/openvino/HuggingFace_OpenVINO_in_Spark_NLP_Nomic.ipynb)"
      ]
    },
    {
      "cell_type": "markdown",
      "metadata": {
        "id": "8J48sFcb4W7G"
      },
      "source": [
        "# Import OpenVINO Nomic models from HuggingFace 🤗 into Spark NLP 🚀\n",
        "\n",
        "This notebook provides a detailed walkthrough on optimizing and importing Nomic models from HuggingFace  for use in Spark NLP, with [Intel OpenVINO toolkit](https://www.intel.com/content/www/us/en/developer/tools/openvino-toolkit/overview.html). The focus is on converting the model to the OpenVINO format and applying precision optimizations (INT8 and INT4), to enhance the performance and efficiency on CPU platforms using [Optimum Intel](https://huggingface.co/docs/optimum/main/en/intel/inference).\n",
        "\n",
        "Let's keep in mind a few things before we start 😊\n",
        "\n",
        "- OpenVINO support was introduced in  `Spark NLP 5.4.0`, enabling high performance CPU inference for models. So please make sure you have upgraded to the latest Spark NLP release.\n",
        "- Model quantization is a computationally expensive process, so it is recommended to use a runtime with more than 32GB memory for exporting the quantized model from HuggingFace.\n",
        "- You can import Nomic models via `NomicModel`. These models are usually under `Text Generation` category and have `Nomic` in their labels.\n",
        "- Some [example models](https://huggingface.co/models?search=Nomic)"
      ]
    },
    {
      "cell_type": "markdown",
      "metadata": {
        "id": "Ko24PkTd4W7H"
      },
      "source": [
        "## 1. Export and Save the HuggingFace model\n",
        "\n",
        "- Let's install `transformers` and `openvino` packages with other dependencies. You don't need `openvino` to be installed for Spark NLP, however, we need it to load and save models from HuggingFace.\n",
        "- We lock `transformers` on version `4.43.4`. This doesn't mean it won't work with the future release, but we wanted you to know which versions have been tested successfully."
      ]
    },
    {
      "cell_type": "code",
      "execution_count": 2,
      "metadata": {
        "colab": {
          "base_uri": "https://localhost:8080/"
        },
        "id": "2rOdslOi4W7H",
        "outputId": "0fe0d124-f09d-4fc0-b822-655d7b616125"
      },
      "outputs": [
        {
          "name": "stdout",
          "output_type": "stream",
          "text": [
            "\u001b[31mERROR: pip's dependency resolver does not currently take into account all the packages that are installed. This behaviour is the source of the following dependency conflicts.\n",
            "torchaudio 2.2.0.dev20240118+cu121 requires torch==2.3.0.dev20240118, but you have torch 2.3.0 which is incompatible.\n",
            "torchvision 0.18.1 requires torch==2.3.1, but you have torch 2.3.0 which is incompatible.\u001b[0m\u001b[31m\n",
            "\u001b[0m"
          ]
        }
      ],
      "source": [
        "!pip install -q --upgrade transformers==4.43.4\n",
        "!pip install -q --upgrade openvino==2024.3\n",
        "!pip install -q --upgrade openvino-dev\n",
        "!pip install -q --upgrade optimum-intel\n",
        "!pip install -q --upgrade nncf\n",
        "!pip install -q --upgrade huggingface_hub\n",
        "!pip install -q --upgrade onnx==1.15.0\n",
        "!pip install -q --upgrade torch"
      ]
    },
    {
      "cell_type": "code",
      "execution_count": null,
      "metadata": {
        "colab": {
          "base_uri": "https://localhost:8080/",
          "height": 145,
          "referenced_widgets": [
            "8420c288f5e44084af6589d767899664",
            "a03258e8bcb241b2be89ac5c03fba9fe",
            "0540ea7b02994fa1a8318a7d2f38c12c",
            "4f57921b6c234eabae3f424afe3c04b5",
            "97bca2fe9b06436ab7174a8e0b921fcf",
            "529731f33fb242d9a1d283931beaa70f",
            "1b76dafe2da64c1fa55e52a5f83715c9",
            "8087b4ffd55b450ca453fd4c5ffd21f9",
            "ee6313eca4be4f6b9d386b2c27624452",
            "e23e8b6170294d4999b90a293da45b19",
            "452dbb332660410ca9b94d11017075c0",
            "f15d2dd70cee40899a34443cd1589e21",
            "b20f5c394c9b4c7e9a7d68c1c1dd89ba",
            "374c8537fa7443d4aa6f6b8047fc090b",
            "8cecf94197a040e88791faddd5df7698",
            "d52ee940ddd64d44aa8d08ad032f4225",
            "65686043fcb4475baa17734312cc7f7d",
            "6d4a762cf1f847a59c5e2acf27d3780b",
            "cb0cf954d70d4a20b45b6a7a5508d05d",
            "174693aa52194cae9bde419572ac117e",
            "ec830e5068ef40a7b596fef9908e9c0b",
            "9f994a6df3b94907a6da46c63209dac2",
            "1ca22e25121b4d36a7a8bd88c6d39efe",
            "3154cd7ba0b841bf909030a40dba671a",
            "68b4590ad1bf4eebb05be97c3445bf11",
            "90ac8ccbb2c447b79064050316b4fa1e",
            "446c4a71c2574673b4f54d06ff24a4ba",
            "12e23151dcc74313be8c7e02b0f4ea05",
            "613ffc0f9ac74c0fab8f3cb05f9deb43",
            "8cf69353a540492a8f81795d635e9069",
            "9802c5078cb245a793c8ab8a97e370ca",
            "4fed2ab467c94954b8b463b96c751715"
          ]
        },
        "id": "bYxXi0Gr4W7J",
        "outputId": "a421b770-6287-439a-c892-816448fc23f5"
      },
      "outputs": [],
      "source": [
        "from huggingface_hub import notebook_login\n",
        "notebook_login()"
      ]
    },
    {
      "cell_type": "markdown",
      "metadata": {
        "id": "ix0eFHLu4W7J"
      },
      "source": [
        "[Optimum Intel](https://github.com/huggingface/optimum-intel?tab=readme-ov-file#openvino) is the interface between the Transformers library and the various model optimization and acceleration tools provided by Intel. HuggingFace models loaded with optimum-intel are automatically optimized for OpenVINO, while being compatible with the Transformers API. It also offers the ability to perform weight compression during export.\n",
        "- To load a HuggingFace model directly for inference/export, just replace the `AutoModelForXxx` class with the corresponding `OVModelForXxx` class. We can use this to import and export OpenVINO models with `from_pretrained` and `save_pretrained`.\n",
        "- By setting `export=True`, the source model is converted to OpenVINO IR format on the fly.\n",
        "- We'll use [openbmb/Nomic-2B-dpo-bf16](https://huggingface.co/openbmb/Nomic-2B-dpo-bf16) model from HuggingFace as an example.\n",
        "- In addition to `NomicModel` we also need to save the tokenizer. This is the same for every model, these are assets needed for tokenization inside Spark NLP."
      ]
    },
    {
      "cell_type": "markdown",
      "metadata": {},
      "source": [
        "### First Convert the model to ONNX format"
      ]
    },
    {
      "cell_type": "code",
      "execution_count": 3,
      "metadata": {},
      "outputs": [
        {
          "name": "stdout",
          "output_type": "stream",
          "text": [
            "/mnt/research/Dreambooth/diffusers/src/diffusers/models/transformers/transformer_2d.py:34: FutureWarning: `Transformer2DModelOutput` is deprecated and will be removed in version 1.0.0. Importing `Transformer2DModelOutput` from `diffusers.models.transformer_2d` is deprecated and this will be removed in a future version. Please use `from diffusers.models.modeling_outputs import Transformer2DModelOutput`, instead.\n",
            "  deprecate(\"Transformer2DModelOutput\", \"1.0.0\", deprecation_message)\n",
            "/mnt/research/Dreambooth/diffusers/src/diffusers/models/vq_model.py:20: FutureWarning: `VQEncoderOutput` is deprecated and will be removed in version 0.31. Importing `VQEncoderOutput` from `diffusers.models.vq_model` is deprecated and this will be removed in a future version. Please use `from diffusers.models.autoencoders.vq_model import VQEncoderOutput`, instead.\n",
            "  deprecate(\"VQEncoderOutput\", \"0.31\", deprecation_message)\n",
            "/mnt/research/Dreambooth/diffusers/src/diffusers/models/vq_model.py:25: FutureWarning: `VQModel` is deprecated and will be removed in version 0.31. Importing `VQModel` from `diffusers.models.vq_model` is deprecated and this will be removed in a future version. Please use `from diffusers.models.autoencoders.vq_model import VQModel`, instead.\n",
            "  deprecate(\"VQModel\", \"0.31\", deprecation_message)\n",
            "Framework not specified. Using pt to export the model.\n",
            "<All keys matched successfully>\n",
            "Using the export variant default. Available variants are:\n",
            "    - default: The default ONNX variant.\n",
            "\n",
            "***** Exporting submodel 1/1: SentenceTransformer *****\n",
            "Using framework PyTorch: 2.3.0+cu121\n",
            "Overriding 1 configuration item(s)\n",
            "\t- use_cache -> False\n",
            "/mnt/research/.cache/modules/transformers_modules/nomic-ai/nomic-bert-2048/4bb68f63016e88e53e48df904c6ab4e6f718e198/modeling_hf_nomic_bert.py:1203: TracerWarning: Converting a tensor to a Python boolean might cause the trace to be incorrect. We can't record the data flow of Python values, so this value will be treated as a constant in the future. This means that the trace might not generalize to other inputs!\n",
            "  if seqlen > self._seq_len_cached:\n",
            "/mnt/research/.cache/modules/transformers_modules/nomic-ai/nomic-bert-2048/4bb68f63016e88e53e48df904c6ab4e6f718e198/modeling_hf_nomic_bert.py:1230: TracerWarning: Converting a tensor to a Python boolean might cause the trace to be incorrect. We can't record the data flow of Python values, so this value will be treated as a constant in the future. This means that the trace might not generalize to other inputs!\n",
            "  if seqlen > self.max_position_embeddings:\n",
            "/mnt/research/.cache/modules/transformers_modules/nomic-ai/nomic-bert-2048/4bb68f63016e88e53e48df904c6ab4e6f718e198/modeling_hf_nomic_bert.py:1237: TracerWarning: Converting a tensor to a Python boolean might cause the trace to be incorrect. We can't record the data flow of Python values, so this value will be treated as a constant in the future. This means that the trace might not generalize to other inputs!\n",
            "  if (\n",
            "/mnt/research/.cache/modules/transformers_modules/nomic-ai/nomic-bert-2048/4bb68f63016e88e53e48df904c6ab4e6f718e198/modeling_hf_nomic_bert.py:1089: TracerWarning: Converting a tensor to a Python boolean might cause the trace to be incorrect. We can't record the data flow of Python values, so this value will be treated as a constant in the future. This means that the trace might not generalize to other inputs!\n",
            "  assert ro_dim <= x.shape[-1]\n",
            "Post-processing the exported models...\n",
            "Deduplicating shared (tied) weights...\n",
            "\n",
            "Validating ONNX model onnx_models/nomic-ai/nomic-embed-text-v1/model.onnx...\n",
            "\t-[✓] ONNX model output names match reference model (sentence_embedding, token_embeddings)\n",
            "\t- Validating ONNX Model output \"token_embeddings\":\n",
            "\t\t-[✓] (2, 16, 768) matches (2, 16, 768)\n",
            "\t\t-[x] values not close enough, max diff: 0.0001239776611328125 (atol: 1e-05)\n",
            "\t- Validating ONNX Model output \"sentence_embedding\":\n",
            "\t\t-[✓] (2, 768) matches (2, 768)\n",
            "\t\t-[✓] all values close (atol: 1e-05)\n",
            "The ONNX export succeeded with the warning: The maximum absolute difference between the output of the reference model and the ONNX exported model is not within the set tolerance 1e-05:\n",
            "- token_embeddings: max diff = 0.0001239776611328125.\n",
            " The exported model was saved at: onnx_models/nomic-ai/nomic-embed-text-v1\n"
          ]
        }
      ],
      "source": [
        "!optimum-cli export onnx --trust-remote-code --task feature-extraction --model nomic-ai/nomic-embed-text-v1 ./onnx_models/nomic-ai/nomic-embed-text-v1"
      ]
    },
    {
      "cell_type": "markdown",
      "metadata": {},
      "source": [
        "### Convert the model to OpenVINO format"
      ]
    },
    {
      "cell_type": "code",
      "execution_count": 13,
      "metadata": {},
      "outputs": [],
      "source": [
        "import openvino as ov\n",
        "import os\n",
        "\n",
        "MODEL_NAME = \"nomic-ai/nomic-embed-text-v1\"\n",
        "\n",
        "ov_model = ov.convert_model(f\"./onnx_models/{MODEL_NAME}/model.onnx\")\n",
        "\n",
        "# Save the model\n",
        "# create the directory if it does not exist\n",
        "os.makedirs(f\"models/{MODEL_NAME}\", exist_ok=True)\n",
        "ov.save_model(ov_model, f\"models/{MODEL_NAME}/openvino_model.xml\", compress_to_fp16=True)\n",
        "\n",
        "EXPORT_PATH = f\"models/{MODEL_NAME}\""
      ]
    },
    {
      "cell_type": "markdown",
      "metadata": {},
      "source": [
        "### Save the model and tokenizer"
      ]
    },
    {
      "cell_type": "code",
      "execution_count": 14,
      "metadata": {},
      "outputs": [
        {
          "data": {
            "text/plain": [
              "('./models/nomic-ai/nomic-embed-text-v1/assets/vocab.txt',)"
            ]
          },
          "execution_count": 14,
          "metadata": {},
          "output_type": "execute_result"
        }
      ],
      "source": [
        "from transformers import AutoTokenizer, AutoModel\n",
        "\n",
        "ASSETS_PATH = f\"./models/{MODEL_NAME}/assets\"\n",
        "\n",
        "os.makedirs(ASSETS_PATH, exist_ok=True)\n",
        "\n",
        "tokenizer = AutoTokenizer.from_pretrained(f\"bert-base-uncased\")\n",
        "\n",
        "tokenizer.save_vocabulary(ASSETS_PATH)"
      ]
    },
    {
      "cell_type": "markdown",
      "metadata": {
        "id": "n4_STbc7kJji"
      },
      "source": [
        "Once the model export and quantization is complete, move the model assets needed for tokenization in Spark NLP to the `assets` directory."
      ]
    },
    {
      "cell_type": "markdown",
      "metadata": {
        "id": "PP6xDXDC4W7K"
      },
      "source": [
        "Let's have a look inside these two directories and see what we are dealing with:"
      ]
    },
    {
      "cell_type": "code",
      "execution_count": 15,
      "metadata": {
        "colab": {
          "base_uri": "https://localhost:8080/"
        },
        "id": "EOLmL1S14W7K",
        "outputId": "32f9bf09-3b78-43b8-e250-9bc24aa4d4ad"
      },
      "outputs": [
        {
          "name": "stdout",
          "output_type": "stream",
          "text": [
            "total 267996\n",
            "drwxrwxr-x 2 prabod prabod      4096 Sep  5 06:09 assets\n",
            "-rw-rw-r-- 1 prabod prabod 273463642 Sep  5 06:24 openvino_model.bin\n",
            "-rw-rw-r-- 1 prabod prabod    957222 Sep  5 06:24 openvino_model.xml\n"
          ]
        }
      ],
      "source": [
        "!ls -l {EXPORT_PATH}"
      ]
    },
    {
      "cell_type": "code",
      "execution_count": 16,
      "metadata": {
        "colab": {
          "base_uri": "https://localhost:8080/"
        },
        "id": "zQ1SbNAc4W7K",
        "outputId": "bbb93961-3dbf-459f-d3c0-bdca7965bf53"
      },
      "outputs": [
        {
          "name": "stdout",
          "output_type": "stream",
          "text": [
            "total 228\n",
            "-rw-rw-r-- 1 prabod prabod 231508 Sep  5 06:24 vocab.txt\n"
          ]
        }
      ],
      "source": [
        "!ls -l {EXPORT_PATH}/assets"
      ]
    },
    {
      "cell_type": "markdown",
      "metadata": {
        "id": "svbT3OG24W7L"
      },
      "source": [
        "## 2. Import and Save Nomic in Spark NLP\n",
        "\n",
        "- Let's install and setup Spark NLP in Google Colab\n",
        "- This part is pretty easy via our simple script"
      ]
    },
    {
      "cell_type": "code",
      "execution_count": null,
      "metadata": {
        "id": "z6TWf2r14W7L"
      },
      "outputs": [],
      "source": [
        "! wget -q http://setup.johnsnowlabs.com/colab.sh -O - | bash"
      ]
    },
    {
      "cell_type": "markdown",
      "metadata": {
        "id": "OYI03iqp4W7L"
      },
      "source": [
        "Let's start Spark with Spark NLP included via our simple `start()` function"
      ]
    },
    {
      "cell_type": "code",
      "execution_count": null,
      "metadata": {
        "id": "7_Oy0zMi4W7L"
      },
      "outputs": [],
      "source": [
        "import sparknlp\n",
        "\n",
        "# let's start Spark with Spark NLP\n",
        "spark = sparknlp.start()"
      ]
    },
    {
      "cell_type": "markdown",
      "metadata": {
        "id": "aXCJqb9i4W7M"
      },
      "source": [
        "- Let's use `loadSavedModel` functon in `NomicEmbeddings` which allows us to load the OpenVINO model.\n",
        "- Most params will be set automatically. They can also be set later after loading the model in `NomicEmbeddings` during runtime, so don't worry about setting them now.\n",
        "- `loadSavedModel` accepts two params, first is the path to the exported model. The second is the SparkSession that is `spark` variable we previously started via `sparknlp.start()`\n",
        "- NOTE: `loadSavedModel` accepts local paths in addition to distributed file systems such as `HDFS`, `S3`, `DBFS`, etc. This feature was introduced in Spark NLP 4.2.2 release. Keep in mind the best and recommended way to move/share/reuse Spark NLP models is to use `write.save` so you can use `.load()` from any file systems natively.st and recommended way to move/share/reuse Spark NLP models is to use `write.save` so you can use `.load()` from any file systems natively."
      ]
    },
    {
      "cell_type": "code",
      "execution_count": 3,
      "metadata": {},
      "outputs": [],
      "source": [
        "EXPORT_PATH = f\"models/nomic-ai/nomic-embed-text-v1\""
      ]
    },
    {
      "cell_type": "code",
      "execution_count": null,
      "metadata": {
        "id": "T3591W9R4W7M"
      },
      "outputs": [],
      "source": [
        "from sparknlp.annotator import *\n",
        "\n",
        "Nomic = NomicEmbeddings \\\n",
        "    .loadSavedModel(EXPORT_PATH, spark) \\\n",
        "    .setInputCols([\"documents\"]) \\\n",
        "    .setOutputCol(\"generation\")"
      ]
    },
    {
      "cell_type": "markdown",
      "metadata": {
        "id": "9X3RphM-4W7M"
      },
      "source": [
        "Let's save it on disk so it is easier to be moved around and also be used later via `.load` function"
      ]
    },
    {
      "cell_type": "code",
      "execution_count": null,
      "metadata": {
        "id": "T6GaugQa4W7M"
      },
      "outputs": [],
      "source": [
        "Nomic.write().overwrite().save(f\"{MODEL_NAME}_spark_nlp\")"
      ]
    },
    {
      "cell_type": "markdown",
      "metadata": {
        "id": "o0kroa6u4W7M"
      },
      "source": [
        "Let's clean up stuff we don't need anymore"
      ]
    },
    {
      "cell_type": "code",
      "execution_count": null,
      "metadata": {
        "id": "BHvWriCn4W7M"
      },
      "outputs": [],
      "source": [
        "!rm -rf {EXPORT_PATH}"
      ]
    },
    {
      "cell_type": "markdown",
      "metadata": {
        "id": "Gz4cU4Q54W7N"
      },
      "source": [
        "Awesome  😎 !\n",
        "\n",
        "This is your OpenVINO Nomic model from HuggingFace 🤗  loaded and saved by Spark NLP 🚀"
      ]
    },
    {
      "cell_type": "code",
      "execution_count": null,
      "metadata": {
        "colab": {
          "base_uri": "https://localhost:8080/"
        },
        "id": "17klLp1M4W7N",
        "outputId": "eccfaaba-5b98-4914-dcfc-aedb8de3d285"
      },
      "outputs": [],
      "source": [
        "! ls -l {MODEL_NAME}_spark_nlp"
      ]
    },
    {
      "cell_type": "markdown",
      "metadata": {
        "id": "3R_rS8Fj4W7N"
      },
      "source": [
        "Now let's see how we can use it on other machines, clusters, or any place you wish to use your new and shiny Nomic model 😊"
      ]
    },
    {
      "cell_type": "code",
      "execution_count": 5,
      "metadata": {},
      "outputs": [
        {
          "name": "stdout",
          "output_type": "stream",
          "text": [
            "24/09/05 06:28:25 WARN SparkContext: The path /mnt/research/Projects/ModelZoo/Nomic/models/nomic-ai/nomic-embed-text-v1/openvino_model.xml has been added already. Overwriting of added paths is not supported in the current version.\n",
            "24/09/05 06:28:25 WARN SparkContext: The path /mnt/research/Projects/ModelZoo/Nomic/models/nomic-ai/nomic-embed-text-v1/openvino_model.bin has been added already. Overwriting of added paths is not supported in the current version.\n"
          ]
        },
        {
          "name": "stderr",
          "output_type": "stream",
          "text": [
            "                                                                                \r"
          ]
        },
        {
          "name": "stdout",
          "output_type": "stream",
          "text": [
            "+--------------------------------------------------------------------------------------------------------------------------------------------------------------------------------------------------------------------------------------------------------------------------------------------------------------------------------------------------------------------------------------------------------------------------------------------------------------------------------------------------------------------------------------------------------------------------------------------------------------------------------------------------------------------------------------------------------------------------------------------------------------------------------------------------------------------------------------------------------------------------------------------------------------------------------------------------------------------------------------------------------------------------------------------------------------------------------------------------------------------------------------------------------------------------------------------------------------------------------------------------------------------------------------------------------------------------------------------------------------------------------------------------------------------------------------------------------------------------------------------------------------------------------------------------------------------------------------------------------------------------------------------------------------------------------------------------------------------------------------------------------------------------------------------------------------------------------------------------------------------------------------------------------------------------------------------------------------------------------------------------------------------------------------------------------------------------------------------------------------------------------------------------------------------------------------------------------------------------------------------------------------------------------------------------------------------------------------------------------------------------------------------------------------------------------------------------------------------------------------------------------------------------------------------------------------------------------------------------------------------------------------------------------------------------------------------------------------------------------------------------------------------------------------------------------------------------------------------------------------------------------------------------------------------------------------------------------------------------------------------------------------------------------------------------------------------------------------------------------------------------------------------------------------------------------------------------------------------------------------------------------------------------------------------------------------------------------------------------------------------------------------------------------------------------------------------------------------------------------------------------------------------------------------------------------------------------------------------------------------------------------------------------------------------------------------------------------------------------------------------------------------------------------------------------------------------------------------------------------------------------------------------------------------------------------------------------------------------------------------------------------------------------------------------------------------------------------------------------------------------------------------------------------------------------------------------------------------------------------------------------------------------------------------------------------------------------------------------------------------------------------------------------------------------------------------------------------------------------------------------------------------------------------------------------------------------------------------------------------------------------------------------------------------------------------------------------------------------------------------------------------------------------------------------------------------------------------------------------------------------------------------------------------------------------------------------------------------------------------------------------------------------------------------------------------------------------------------------------------------------------------------------------------------------------------------------------------------------------------------------------------------------------------------------------------------------------------------------------------------------------------------------------------------------------------------------------------------------------------------------------------------------------------------------------------------------------------------------------------------------------------------------------------------------------------------------------------------------------------------------------------------------------------------------------------------------------------------------------------------------------------------------------------------------------------------------------------------------------------------------------------------------------------------------------------------------------------------------------------------------------------------------------------------------------------------------------------------------------------------------------------------------------------------------------------------------------------------------------------------------------------------------------------------------------------------------------------------------------------------------------------------------------------------------------------------------------------------------------------------------------------------------------------------------------------------------------------------------------------------------------------------------------------------------------------------------------------------------------------------------------------------------------------------------------------------------------------------------------------------------------------------------------------------------------------------------------------------------------------------------------------------------------------------------------------------------------------------------------------------------------------------------------------------------------------------------------------------------------------------------------------------------------------------------------------------------------------------------------------------------------------------------------------------------------------------------------------------------------------------------------------------------------------------------------------------------------------------------------------------------------------------------------------------------------------------------------------------------------------------------------------------------------------------------------------------------------------------------------------------------------------------------------------------------------------------------------------------------------------------------------------------------------------------------------------------------------------------------------------------------------------------------------------------------------------------------------------------------------------------------------------------------------------------------------------------------------------------------------------------------------------------------------------------------------------------------------------------------------------------------------------------------------------------------------------------------------------------------------------------------------------------------------------------------------------------------------------------------------------------------------------------------------------------------------------------------------------------------------------------------------------------------------------------------------------------------------------------------------------------------------------------------------------------------------------------------------------------------------------------------------------------------------------------------------------------------------------------------------------------------------------------------------------------------------------------------------------------------------------------------------------------------------------------------------------------------------------------------------------------------------------------------------------------------------------------------------------------------------------------------------------------------------------------------------------------------------------------------------------------------------------------------------------------------------------------------------------------------------------------------------------------------------------------------------------------------------------------------------------------------------------------------------------------------------------------------------------------------------------------------------------------------------------------------------------------------------------------------------------------------------------------------------------------------------------------------------------------------------------------------------------------------------------------------------------------------------------------------------------------------------------------------------------------------------------------------------+\n",
            "|embeddings                                                                                                                                                                                                                                                                                                                                                                                                                                                                                                                                                                                                                                                                                                                                                                                                                                                                                                                                                                                                                                                                                                                                                                                                                                                                                                                                                                                                                                                                                                                                                                                                                                                                                                                                                                                                                                                                                                                                                                                                                                                                                                                                                                                                                                                                                                                                                                                                                                                                                                                                                                                                                                                                                                                                                                                                                                                                                                                                                                                                                                                                                                                                                                                                                                                                                                                                                                                                                                                                                                                                                                                                                                                                                                                                                                                                                                                                                                                                                                                                                                                                                                                                                                                                                                                                                                                                                                                                                                                                                                                                                                                                                                                                                                                                                                                                                                                                                                                                                                                                                                                                                                                                                                                                                                                                                                                                                                                                                                                                                                                                                                                                                                                                                                                                                                                                                                                                                                                                                                                                                                                                                                                                                                                                                                                                                                                                                                                                                                                                                                                                                                                                                                                                                                                                                                                                                                                                                                                                                                                                                                                                                                                                                                                                                                                                                                                                                                                                                                                                                                                                                                                                                                                                                                                                                                                                                                                                                                                                                                                                                                                                                                                                                                                                                                                                                                                                                                                                                                                                                                                                                                                                                                                                                                                                                                                                                                                                                                                                                                                                                                                                                                                                                                                                                                                                                                                                                                                                                                                                                                                                                                                                                                                                                                                                                                                                                                                                                                                                                                                                                                                                                                                                                                                                                                                                                                                                                                                                                                                                                                                                                                                                                                                                                        |\n",
            "+--------------------------------------------------------------------------------------------------------------------------------------------------------------------------------------------------------------------------------------------------------------------------------------------------------------------------------------------------------------------------------------------------------------------------------------------------------------------------------------------------------------------------------------------------------------------------------------------------------------------------------------------------------------------------------------------------------------------------------------------------------------------------------------------------------------------------------------------------------------------------------------------------------------------------------------------------------------------------------------------------------------------------------------------------------------------------------------------------------------------------------------------------------------------------------------------------------------------------------------------------------------------------------------------------------------------------------------------------------------------------------------------------------------------------------------------------------------------------------------------------------------------------------------------------------------------------------------------------------------------------------------------------------------------------------------------------------------------------------------------------------------------------------------------------------------------------------------------------------------------------------------------------------------------------------------------------------------------------------------------------------------------------------------------------------------------------------------------------------------------------------------------------------------------------------------------------------------------------------------------------------------------------------------------------------------------------------------------------------------------------------------------------------------------------------------------------------------------------------------------------------------------------------------------------------------------------------------------------------------------------------------------------------------------------------------------------------------------------------------------------------------------------------------------------------------------------------------------------------------------------------------------------------------------------------------------------------------------------------------------------------------------------------------------------------------------------------------------------------------------------------------------------------------------------------------------------------------------------------------------------------------------------------------------------------------------------------------------------------------------------------------------------------------------------------------------------------------------------------------------------------------------------------------------------------------------------------------------------------------------------------------------------------------------------------------------------------------------------------------------------------------------------------------------------------------------------------------------------------------------------------------------------------------------------------------------------------------------------------------------------------------------------------------------------------------------------------------------------------------------------------------------------------------------------------------------------------------------------------------------------------------------------------------------------------------------------------------------------------------------------------------------------------------------------------------------------------------------------------------------------------------------------------------------------------------------------------------------------------------------------------------------------------------------------------------------------------------------------------------------------------------------------------------------------------------------------------------------------------------------------------------------------------------------------------------------------------------------------------------------------------------------------------------------------------------------------------------------------------------------------------------------------------------------------------------------------------------------------------------------------------------------------------------------------------------------------------------------------------------------------------------------------------------------------------------------------------------------------------------------------------------------------------------------------------------------------------------------------------------------------------------------------------------------------------------------------------------------------------------------------------------------------------------------------------------------------------------------------------------------------------------------------------------------------------------------------------------------------------------------------------------------------------------------------------------------------------------------------------------------------------------------------------------------------------------------------------------------------------------------------------------------------------------------------------------------------------------------------------------------------------------------------------------------------------------------------------------------------------------------------------------------------------------------------------------------------------------------------------------------------------------------------------------------------------------------------------------------------------------------------------------------------------------------------------------------------------------------------------------------------------------------------------------------------------------------------------------------------------------------------------------------------------------------------------------------------------------------------------------------------------------------------------------------------------------------------------------------------------------------------------------------------------------------------------------------------------------------------------------------------------------------------------------------------------------------------------------------------------------------------------------------------------------------------------------------------------------------------------------------------------------------------------------------------------------------------------------------------------------------------------------------------------------------------------------------------------------------------------------------------------------------------------------------------------------------------------------------------------------------------------------------------------------------------------------------------------------------------------------------------------------------------------------------------------------------------------------------------------------------------------------------------------------------------------------------------------------------------------------------------------------------------------------------------------------------------------------------------------------------------------------------------------------------------------------------------------------------------------------------------------------------------------------------------------------------------------------------------------------------------------------------------------------------------------------------------------------------------------------------------------------------------------------------------------------------------------------------------------------------------------------------------------------------------------------------------------------------------------------------------------------------------------------------------------------------------------------------------------------------------------------------------------------------------------------------------------------------------------------------------------------------------------------------------------------------------------------------------------------------------------------------------------------------------------------------------------------------------------------------------------------------------------------------------------------------------------------------------------------------------------------------------------------------------------------------------------------------------------------------------------------------------------------------------------------------------------------------------------------------------------------------------------------------------------------------------------------------------------------------------------------------------------------------------------------------------------------------------------------------------------------------------------------------------------------------------------------------------------------------------------------------------------------------------------------------------------------------------------------------------------------------------------------------------------------------------------------------------------------------------------------------------------------------------------------------------+\n",
            "|[[0.055686954, 0.07156899, -5.395309E-4, -0.016792849, 0.0044190655, 0.0106617045, -0.073502414, -0.013385907, -0.08157445, 0.017048523, -0.072769865, 0.010170531, 0.030267809, 0.0121829985, 0.013203059, 0.018338475, 0.0057605715, -0.011161218, -0.02593356, 0.026559642, -0.036032896, -0.009538022, -5.5582257E-4, -0.008811678, 0.056353986, 0.06155657, 0.016596803, 0.035275146, -0.056010224, 0.04379695, -0.007367511, -0.05732648, -0.03242445, -0.016902069, 0.029202117, -0.029121308, 0.047576997, -0.013565949, 0.0028810648, 0.007478056, 0.03266634, -0.022893967, 0.08653954, -0.018198987, -0.019780453, 0.023539858, 0.034156293, -0.03258071, 0.0153201725, 0.007629111, -0.034726948, 0.0230079, 0.009634575, -0.016045652, 0.017254919, 0.032780454, -0.0019557043, -0.05492139, 0.025858479, 0.0020843735, 0.059065297, 1.0198206E-4, -0.07323224, -0.0156298, -0.019595634, -0.045570727, -0.04643568, 0.08344432, -0.021111228, 5.6239933E-4, -0.016789021, -0.03539167, 0.005527921, 0.0012012976, -0.028825197, -0.053991206, -0.07139166, -0.015850497, 0.018788604, 0.033893604, -0.022495484, -0.015351232, -0.018285742, 0.0337841, 0.022329187, -0.008642503, 0.04339346, -0.05361697, -0.008643602, 0.0032415327, 0.017065115, 0.053432424, 0.044900045, 0.014601366, 0.031731922, 0.013956029, -0.007537029, -0.013909294, 0.0055193, 0.003136525, 0.010903932, 0.022188237, 0.03165335, -0.0060165096, 0.013011618, -0.0015831845, 0.068727046, 0.008275956, 0.02427102, 0.013994337, -0.0065849517, -0.021286368, 0.026009474, -0.06689123, -0.06603024, -0.048719086, 0.076478675, -0.0688275, 0.037001364, 0.061195917, -0.028212605, -0.011331223, 0.043075323, 0.04767073, -0.0018890928, -0.02981091, -0.06589418, 0.01913886, 0.005523134, -0.010493124, -0.026095182, -0.008327417, -0.070011996, -0.06011185, 0.041725494, 0.052086134, -0.039702572, -0.011993588, -0.017864536, 0.01400227, 0.011439801, 0.007220987, 0.019932745, -0.024744105, -0.01913053, -0.014257314, 0.0438146, 0.0013036672, 6.144364E-4, 0.03153081, 1.9760289E-4, 5.12384E-4, 0.018695155, 0.014347675, 0.0011297008, -0.021893125, -0.013156953, -0.042240757, 0.02469574, -0.001932995, 0.028755834, 0.05118857, -0.035297044, 0.02924867, -0.04375778, 0.039590478, 0.00938847, 0.024097873, -0.019475453, 0.076942585, 0.018160755, -0.020296993, -0.009469704, -0.05418006, -0.0624715, 0.008738385, -0.019403534, -0.051656846, 0.04992392, 0.019554388, 0.061167367, 4.734346E-4, 0.003312213, -0.0070781102, -0.009224277, -0.041463047, 0.018791934, -0.010221274, -0.06311433, 0.04978818, -0.049888987, -0.010325115, -0.024537532, -0.038078547, -0.035921067, 0.05715626, 0.064910844, -0.017514808, 0.020370219, -0.032550015, -0.040124092, -0.041189987, -0.044203624, 0.022401867, 0.019532125, 0.010622766, 0.0048986548, -0.0013146505, 0.04023989, -0.030595856, 0.034609843, 0.03689811, -0.011692793, 0.033740982, -0.026166683, -0.018915776, 0.025779132, -0.0036886064, -0.03750122, 0.045635644, 0.021799453, -0.019294031, 0.009985134, -0.02810745, -0.0139059415, -0.004382254, -0.010825373, -0.05966759, -0.011114571, -0.07438212, 0.007907711, -0.04709946, 0.015929569, -0.056094296, -0.043418087, -0.036114592, -0.046850916, 0.02704044, 0.035286, -0.022813736, 0.044510573, -0.008453667, 0.020983126, 0.016052881, -0.0028929603, 0.054255355, 0.09068212, 0.0029315527, 0.0038028304, 0.026534395, -0.046799656, -0.040073536, 0.04565831, 0.052389156, 0.016567156, 0.009080222, -0.0072733853, 0.023360517, -0.02871364, -0.028946673, 0.055269167, -0.086561315, -0.0046055233, -0.00494469, -0.012759919, 0.07267782, -0.08859354, -0.008634626, -0.018023787, -0.020859024, 0.061988533, 0.0038778197, 0.0022963323, 0.010603284, 0.030559702, 0.021004237, -0.012312166, -0.023257129, 0.010577992, -0.0038607619, -0.071634084, -0.03952374, -0.0037013404, 0.030162873, -0.0135938935, 0.04397723, 0.024927929, -0.06990969, 0.009460436, 0.030575197, -0.02761487, -0.0045104213, -0.028855424, 0.10845818, 0.068917625, 0.03513252, 0.059192467, -0.0122184325, -0.042602744, 0.01949776, 0.0039032747, 0.02536501, -0.050811943, 0.0075538144, -0.06265709, 0.0141666075, -5.9773255E-4, -0.0055866293, 0.05171119, -0.044247586, -0.030394513, 0.012725225, 0.033784367, -0.017306704, -0.016424153, 0.038416125, 0.03568489, -0.027372979, 0.019205073, -0.02370071, 0.05225325, -0.012891631, 0.04204944, -0.049305826, -0.06844446, 0.04198965, 0.030995464, 0.0019355689, -0.032221403, 0.027463263, 0.0462958, 0.02994618, -0.06855784, -0.0031593435, 0.012938066, 0.04765007, -0.003545033, 0.063289665, 0.0037238211, 0.03466814, -0.06385713, -0.005335871, 0.0492443, -0.06417596, 0.032647066, 0.007930229, -0.039781053, 0.030103352, 0.03896215, -0.0052953763, -0.045549553, 0.025125746, 0.007227105, 0.006482209, -0.008954428, 0.01999828, -0.015502547, 0.03717501, 0.0021060128, 0.047673598, 0.04600849, 0.0052126497, 0.015457778, 0.01677678, 0.021649687, 0.039537273, -0.048595387, 0.009511966, 0.044445075, -0.015031899, -0.018757466, -0.08216715, 0.022418557, 0.025892535, -0.014866167, 0.019798739, -0.060327675, 0.009113656, 0.019722207, -0.008699415, 0.010190471, 0.022301918, -0.048827205, -0.0157124, -0.017116698, -0.07155947, -0.029398216, 0.007828332, 0.004748897, -0.016145816, 0.048983913, -0.07412425, -1.6184815E-4, 9.212556E-4, 0.034987714, -0.020411875, 0.06547462, 0.0051108175, -0.018150223, 0.05103404, -0.0177994, 0.007291255, 4.030228E-4, -0.031050371, -0.012465991, 0.0019991982, -9.711878E-4, -0.03287537, 0.043512512, 0.012186297, 0.032322332, 0.022121161, -0.03006784, 0.024649201, -0.051433574, 0.009669234, 0.0030900473, -0.07237268, 0.014220741, -0.028763339, 0.012095859, 0.065319456, 0.007858949, -0.032507252, -0.028872782, 0.017435849, -0.01793499, -0.053647377, -0.03353356, -0.025221545, 0.061062176, -0.025921766, 0.009332624, 0.06019855, -0.031567805, 0.011169394, 0.08417337, 0.0077994387, -0.023787845, 0.05465915, -0.0012031199, -0.07683392, 0.0029234437, -0.042809315, -0.0014909358, 0.064760685, 0.049068492, 0.007630024, 0.002469355, -0.0016635648, 0.03459582, -0.009827768, -0.0131597975, -0.019954637, 0.036278743, -0.028611125, 0.025652133, -0.03925571, 0.03679811, 0.052715644, 0.022765627, -0.017666984, -0.015565249, 0.016488062, -0.0160838, -0.0038685668, 0.0275745, 0.024021382, 0.01766812, -8.2792883E-4, -0.015233149, -0.062207535, 0.033926938, 0.0469336, 0.039191507, 0.006515285, 7.5518596E-4, -0.047665082, -3.34986E-5, 0.013805989, 0.042311247, -0.004179558, 0.052488066, -4.488314E-5, 0.011259367, 0.004731249, -0.0035850524, 0.038086787, 0.036502015, -0.055230957, -0.050876457, 0.04993287, 0.0132764, -0.008710491, -0.032347184, -0.0055216425, -0.0055440776, -0.021822887, 0.01679813, -0.021422304, -0.04152149, 0.030328177, 0.027438475, -0.016655922, -0.0373961, 0.019035902, -0.08847296, -0.07745586, -0.039122786, -0.007309454, 0.022097303, 0.024898283, 0.07213685, -0.014925672, -0.037103973, -0.04507671, 0.034430914, 0.048717275, -0.043633334, 0.027568443, 0.017689066, -0.0030192893, 0.019819768, 0.009358636, -0.0567846, -0.00681774, -0.01737754, -0.015095278, 0.027108997, -0.07524987, 0.039745808, -0.043832704, -0.02178365, -0.014687461, -0.07777245, -0.012274734, 0.0070234695, 0.035490017, -0.025330996, 0.0022827922, -0.01819133, 0.044442337, 0.019688303, 0.043883335, -0.0076064155, -0.09857177, -0.05738923, -0.027801821, -0.06528763, -0.011370811, 0.045009997, -0.057418, 0.030768, -0.038434267, 0.07615486, 0.02915714, 0.042244304, -0.0064878217, -0.020838307, -0.02812881, -0.019033438, 0.033052165, 0.0012010874, -0.07949262, 0.016362306, -0.057756666, 0.0039743604, -0.03930702, 0.028054401, -0.023877267, -0.0148719195, -0.008056388, 0.010367368, 0.045294743, -0.027859028, 0.0071837353, 0.01914698, -0.031231517, -0.008463023, -0.0077215754, 0.019288553, -0.06278263, -0.06723062, 0.06442542, 0.018854735, 0.06081657, 0.007406572, -0.060322165, 0.08596645, -0.051292177, 0.0029071015, -0.019275881, -0.025581218, 0.018867387, 0.028006097, 0.021748843, -0.0063938797, -0.040337168, -0.019929254, -0.020895047, 0.040302046, -0.013131741, -0.010149229, -0.06792505, -0.011816564, 0.029799197, -0.015426917, 0.027201887, -0.06848755, 0.024746524, 0.0030400613, -0.01478047, -0.011721722, -0.0050974307, -0.022078525, 0.021481404, 0.059290864, 0.0125253545, -0.0036290213, 0.04396751, 4.135591E-5, -0.024603043, 0.058603752, -0.05974751, 0.07860432, -6.569191E-4, 0.014476109, 0.029451683, -0.014396507, 0.06459959, -0.012764543, 0.013528723, -0.0396628, 0.021697234, -0.03528996, -0.030606516, -0.030192912, 0.01933362, 0.035356212, 0.0053341314, -0.0042461245, -0.06536346, -0.02499093, 0.020588351, 0.031933006, 0.024284117, -0.014343921, -0.0011546285, 0.021828245, -0.017364725, 0.047174525, 0.039956275, -0.04630952, 0.021061031, 0.033206712, 6.829361E-4, 0.03242544, 0.008046915, 0.058094926, -0.023721201, -0.021376478, -0.013340543, 0.044341978, -0.024733825, 0.010756253, -0.039595034, 0.0025163358, -0.0035977482, -0.07789865, -0.023644611, 0.020364603, -0.023219997, -0.056818735, 0.015674256, 0.0012646568, 0.0047498285, 0.014403223, -0.052569684, 0.012800218, -0.05260764, 0.06845592, -0.028682338, -0.0045292648, -0.0045442265, 0.013079377, 0.02764666, -0.01188593, -0.05202242, 0.03396863, 0.029188206, 0.0038984735, -0.035928953, 0.018712994, -0.08628472, -0.011580894, -0.0046581435, 0.044143032, 0.02679364, 0.043424588, 0.05277119, 0.030490158, 0.046238776, -0.009296059, -0.005945113, -0.037510134, 0.018459702, -0.011834252, -0.015950134, 0.0153900795, -0.024659453, -0.0013625532, -0.04120304, 0.02552575, 0.047223445, 0.07557165, -0.0021266947, -0.010757494, -0.06554097, 0.043404948, -0.011524734, 0.004705539, 0.05970323, -0.04351554, 0.035543576, 0.021447321, -0.02966058, 2.9222498E-4, -0.036215268, 0.090221934, -0.0150905885, -0.022117125, -0.050296355, 0.0016521232, 0.021971343, -0.011713193, -0.013978579, 0.017387431, 0.06790841, -0.09900278, 0.026814356, 0.0548702, -4.8239942E-4, 0.027052224, 0.01230242, 0.01832138, 0.034808934, -0.027734818, 0.080749266, 0.10746449, -0.0069478666, -0.0757963, -0.010461209, -0.021663202, 0.012361687, -0.048133153, -0.04915622, 0.013099112, 0.0152693605, 0.018835304, 0.0013028168, 0.044636685, -0.06547366, 0.031108595, 0.024520323, -0.01882037, 0.05409673, -0.013728666, 5.892853E-4]]                             |\n",
            "|[[-0.003633613, 0.059601318, -0.03851346, 0.003037027, -0.044047184, 0.01047602, -0.033341963, -0.0013280138, -0.03715323, 0.017213317, -0.037312824, 0.006493608, 0.054389562, 0.006973954, 0.050567027, -0.059868846, 0.03351102, -0.042838126, -0.02157456, -0.022640774, -0.036711913, -0.0020624208, -0.026689818, -0.0021353262, 0.0385987, -0.010974758, -0.00611988, 0.02086815, 0.0030771054, -0.011901738, 0.001221577, -0.0568151, 0.028588362, 0.029981622, -0.0041644946, 2.0349506E-4, 0.0035099294, 0.052323017, 0.00410083, -0.053457726, 0.018711848, -0.025082786, -0.017635442, -0.06612725, -0.0059494036, -0.004800325, 0.0016359608, -0.0342138, 0.048803147, -0.042800527, 0.022765346, 0.033884518, 0.045779955, -0.058121044, -0.034160815, -0.0039737374, 0.02607117, 0.016860915, -0.0012281719, -0.02737761, 0.056202862, -0.029488541, 0.016490791, -0.0076846024, 0.06873337, -0.038170416, -0.04009091, 0.073556766, 0.00594186, -0.041969545, 0.045724753, -0.013357663, 0.03601437, 0.064602345, -0.05979718, -1.3672332E-4, 0.026726445, -0.04049663, -0.04542524, 0.0067318636, -0.013930963, -0.015337936, 0.04397017, 0.04168613, 0.03734902, 0.013656271, 0.09195407, 0.07282085, 0.0025841855, 0.020119907, 0.018340483, 0.04122201, 0.013068205, 0.027826441, -0.079635255, 0.004715468, 0.0051635983, -0.0124107525, -0.022035437, 0.098269954, -0.019598287, 0.013013584, 0.0014050432, -0.02999877, 0.054867517, 0.040928774, 0.033652313, -0.011622524, 0.06609807, -0.02698269, -0.019748405, 0.03807162, -0.0093563255, 0.0056401114, -0.038603295, -0.07715045, 0.019463185, -0.06694008, -0.026927171, 0.005840452, 0.06749965, -0.061906267, -0.022068385, 0.035115156, -5.6638604E-4, 0.0031638858, -0.024393225, -0.009474145, -0.0026719328, -0.02807956, 0.02571736, -0.017282858, -0.032707136, -0.009187163, 0.052381646, 0.044262335, -0.012914115, -0.057124466, 6.874129E-4, -0.04610296, 0.0012743557, 0.023832543, -0.015279139, -0.041573413, 0.024460154, -0.05407114, 0.050464865, -0.041178077, -0.02711564, -0.05095854, 0.04425739, 0.07239464, -0.02290895, -0.022473872, -0.03986493, -0.040587317, -0.015015028, -0.009392322, 0.020209786, 0.0043978356, -0.019275395, 0.015069875, -0.0347853, 0.021595543, -0.01967708, 0.0040652878, 0.036038004, 0.07091641, 0.034530163, 0.07362687, 0.014244327, 0.008527498, -0.03162653, 0.014030253, 0.035295412, 0.04141116, 0.027966488, 0.007032609, 0.010215373, 0.02402304, 0.014907384, 0.04092223, -0.027368221, 0.028789295, 0.017467357, 0.052638594, 0.044674177, -0.003467676, -0.015197552, 0.0076769223, -0.015089952, -0.017888516, -0.015573649, -0.05338142, 0.0027536128, -0.064234465, 0.041414253, -0.03730776, -0.043700133, -0.055854063, 0.0019480756, -0.016585266, -0.039041195, 0.020725014, -0.060905024, 0.03426659, -0.025722628, 0.0077525075, -0.016307237, 0.008703815, 0.01616266, -0.018629013, 0.062415056, 0.0100484025, -0.02075318, -0.004966747, 0.0070935, -0.004200274, 0.031817153, -9.0639375E-4, -0.025289658, 0.025978455, -0.017683221, 0.011406243, 0.07349114, -0.047082625, 0.0059437035, -0.080396876, -0.036784977, -0.012365751, -0.031205133, 0.002433381, 0.0279437, -0.009960687, -0.047354896, 0.001841442, 0.015388439, 0.030789578, 0.0027654632, 0.041663304, -0.035838626, -0.05083009, -0.026980571, -0.057780836, -0.04763052, 0.092221186, -0.05483777, 0.043443713, -0.036941085, -0.01738604, 0.014372426, -0.0076892353, 0.020917395, -0.004271791, 0.0074121696, -0.02506318, -0.032031085, 0.03499562, -0.036831737, -0.071319014, 0.030648677, -0.024156714, 0.02017449, -0.04110766, -0.010255701, 0.03926183, -0.009505605, -0.027433928, 0.013178079, -0.021837883, 0.0050062854, 0.026176482, 0.12013993, 0.07882066, -0.04458103, -9.3930046E-4, 0.0053457357, -0.047855183, 0.008507543, -0.020789634, -0.07516983, 0.001155385, 0.005903638, 0.047120996, -0.045035154, 0.011872426, 0.062103074, 0.04779962, 0.020288618, 0.00808458, -0.015460901, -0.07116552, -0.014368133, 0.052864783, 0.028636688, 0.011609967, 0.043610968, -0.026261711, -0.034604188, 0.020482397, 0.04119805, -0.034134913, -0.005431053, -0.03074278, 0.014831108, 0.011739765, 0.069013074, -0.013731398, 0.017099064, -0.04726545, -0.04308394, 0.020370658, 0.015206443, 0.021906974, -0.06251865, 0.093817614, 0.061723847, 0.034321524, 0.042341217, -0.0140592465, -0.04768344, 0.0137238195, 0.03499402, 0.045965783, -0.018463051, 0.067783155, -0.013089802, 0.054215074, -0.016484398, -0.036847018, -0.027173413, 0.02357775, -0.027938731, -0.01247343, 0.041739684, -0.021416342, 0.050674308, -0.043267563, -0.014985448, 0.063715644, -0.012122554, -0.037618946, 0.024741767, -0.07224697, 0.059219096, 0.014921479, -0.013619437, -0.052125216, 0.04265007, -0.018494552, 0.013905752, 0.017192436, -0.0075539616, -0.05182955, 0.01311589, 0.07891278, 0.060483206, -0.05344586, 0.00308696, 0.021282615, 0.041342672, 0.016134558, 0.045115516, 0.022347987, 0.014597706, -0.038000982, 0.0014805592, 0.027793413, 0.007411545, 0.045383178, 0.021159608, 0.028852226, 0.0074459277, 0.03687617, 0.0030135615, 0.039118644, -0.026415365, -0.035851754, -0.025504759, -0.011968736, 0.058031444, -0.01793797, 0.056051, 0.0041512526, -0.024862232, 0.017464522, -0.03159661, 0.0031103806, 0.024942348, 0.05228589, -0.05189602, -0.082524374, 0.008921577, 0.07312183, -0.020601958, -0.023131566, -0.037200093, -0.02730747, -0.0437585, 0.013634983, 0.060633674, -0.077474624, 0.007906748, 0.018405614, 0.015459563, 0.07572243, 0.010409911, -0.009031732, 0.023344804, 0.03023896, 0.025393037, 0.01582764, -0.028472345, 0.026314203, 0.042134024, -0.013916611, 0.07398484, -0.0043455204, -0.03511684, 0.036802307, -0.091992706, 0.030889817, 0.023260456, -0.03932399, 0.018031249, -0.020482697, 0.01826519, 0.057727087, -0.055154584, -0.013933074, -0.03580965, -0.0067363465, 0.006454554, -0.03608666, -0.0044364706, -0.026104424, -0.021406285, -0.018064963, -0.02468108, 0.007662668, 0.002270515, 6.267395E-5, -0.025893552, 0.059067298, 0.044208616, 0.044788897, 0.013237348, -0.024059707, -0.04811934, 0.03811994, -0.0027373089, -0.002106629, 7.8036764E-4, 0.024610568, 0.044566162, 0.030868748, 0.04796097, -0.030197006, 0.026747176, -0.032994308, 0.012731464, -0.0064515015, 0.009965333, -0.013652026, 0.0034531034, 0.008480129, -0.046596374, -0.008738238, 0.0025593578, 0.046997476, -0.004885578, -0.019185351, 0.036330678, 0.05152093, -0.043132566, -0.020021487, 0.061506204, -0.04476656, 0.0668734, 0.0038076406, 0.05105397, 0.009619467, -0.05231882, -0.04316184, -0.038555216, 0.060210537, -0.028445978, -0.01409775, 0.0011156867, -0.014020763, -0.00500026, -0.051350076, -0.045897737, 0.012379768, 0.005620104, -0.05638073, -0.024278052, -0.012827293, 0.05844516, -0.0023270205, 0.02118777, -0.012246929, 0.022506205, 0.036278725, 0.0032553747, 7.9439854E-4, 0.04634384, -0.02645343, -0.006851113, 0.033846375, 0.01635949, -0.01840501, 0.060901467, 0.030773912, 0.0077309203, -0.047346573, 0.058213767, -0.013045267, -0.014069906, 0.04201831, 0.053046074, -0.058770716, -0.024935571, 0.023500394, -0.007695835, 0.025800822, -0.0644456, -0.0019448902, 0.009054059, -0.01266015, 0.013801668, 5.017142E-4, -0.03558607, -0.016830387, -0.032061268, -0.05102097, -0.065252125, 0.015958738, -0.027517632, 3.0791602E-4, -0.055093545, -0.030489022, 0.009122312, -0.053921115, 0.010413319, -0.05981159, -0.046515074, 0.024004936, -0.008233328, 0.0026422958, 0.027368994, -0.056279242, 0.030636022, -0.04799763, 0.014766469, -0.034328323, 0.039596174, -0.025140096, -0.0365266, -0.058403995, 0.0059496765, 0.013220087, -0.0067827436, 0.024579143, -0.038081292, -0.04378325, -0.03673969, 0.0029533198, -0.012986822, -0.055058803, 0.020598063, 0.0053620804, 0.04098751, -0.027337871, -0.0073732417, 0.015970781, 0.04488308, 0.015074948, 0.040758383, -0.025939863, -0.003632793, 0.00790983, -0.0024016588, -0.051849984, -0.0031691287, -0.030672865, -0.09305825, -0.01887842, 0.0299068, 0.036143422, 0.05508897, 0.011143155, -0.08108867, 0.014771595, -0.029002279, 0.03121498, -0.04219022, 0.016357278, -0.011218621, 0.020160617, -0.0063516265, 0.030746391, -0.008999675, -1.0776897E-4, 0.030199075, 0.11192029, 0.07491508, -0.04009605, -0.018500362, -0.03194195, 0.009751647, 0.039983686, -0.004491859, -0.021288807, -0.029748416, 0.005175061, 0.079107665, -0.080523446, -0.012294969, -0.104851924, 0.08869296, -0.047483683, 0.056916796, -0.0055132415, 0.041645918, 0.0076201973, 0.030997163, 0.05801482, 0.043979924, 0.061364617, -0.0449033, 0.026521213, -0.06127368, -0.06895415, -0.0816296, 0.005551452, 0.0040900973, -0.020202383, 0.011146431, -0.034996383, 0.008410249, 0.016543392, -0.025576996, -0.007245692, 0.057318263, 0.0066530597, -0.03125883, 0.01245115, 0.015419682, 0.020475209, 0.020195752, 0.037274834, -0.0045540384, 0.026869508, 0.036505453, 0.015625736, -0.025347065, -0.015833098, 0.001630676, 0.011091459, -0.041810904, 0.036832724, -0.0168648, -0.0037668403, -0.049080923, -0.006620986, -0.002635232, -0.026492147, -0.023822488, -0.04325062, 0.00960566, -0.004038955, -0.06339924, -0.057824958, -0.05748925, 0.011445412, 0.002787782, 0.017111316, -0.026922306, 0.0071631214, 0.021727882, 0.0070993407, 0.021952026, -0.09179763, 0.039806258, -0.018331613, 4.2360154E-4, -0.015023253, 0.047900148, -0.019620784, 0.009965684, -0.015498311, 0.027404752, -0.029830787, 0.018459003, -0.013980869, -0.027976707, -0.03606957, -0.05644383, 0.038597994, 0.0036086652, 0.011903031, -0.0059547126, 0.007409976, -0.054732118, -0.031635854, 0.046770472, 0.024873417, -0.0052412217, 0.06947629, -0.004593378, -0.011465591, 0.026102995, 0.001749254, -0.007685599, 0.001061684, 0.026497409, -0.030031532, -0.024935901, -0.037916344, 0.011669242, 0.017267466, -0.05607076, 0.004222706, -0.023795454, 0.025056278, -0.06434399, -0.022775976, 0.08212805, 0.012663425, 0.01556136, 0.021252926, 0.046950657, 0.029023234, -0.013331864, 0.0015569031, 0.001864064, 0.03849466, -0.03598752, -0.040521674, -0.055554327, -0.05170219, 0.019126449, 0.010933279, -0.0076220436, 0.071426734, 0.0011574804, 0.0338957, 0.011499197, 0.004522394, 0.0034842682, 0.029793194, -0.012395042, 0.0065368796, -0.010678632, 0.005618626, -0.036857203, 0.039029896, 0.01204845, -0.0027727901, -0.0591336, -0.019647328, 0.01832283, 0.013836678, 0.018699698, 0.040879574, -0.0012836795, -0.061812237]]                           |\n",
            "|[[0.0040188064, 0.04635539, -0.0027565102, -0.013581707, -0.02872824, -4.4362154E-4, -6.601607E-5, -0.00890873, -0.063580245, -0.0159167, -0.03867488, 0.017280076, 0.028181637, 5.8879243E-5, 0.018140268, 0.0022178607, 0.022923844, -0.013744389, -0.0039044858, 0.014131242, -0.044918332, -0.012600373, -0.0013716734, -0.017038822, 0.06971565, 0.024672475, -0.014922632, 0.012495715, -0.0643411, 0.046344668, 0.05436639, -0.06165327, -0.012287613, -0.03657894, -0.017608687, -0.0013811135, 0.042950943, -0.01721102, 0.0044076205, 0.012015576, 0.07665046, 0.034599192, -0.0010990533, -0.017006649, -0.038444538, 0.03439295, 0.009504552, -0.04028633, 0.0027191807, 0.013252763, -0.013400611, 0.01894789, 0.0061401925, -0.010955, -0.009382564, -0.0053209937, -0.012003458, -0.016458714, -0.022031885, -0.026447035, 0.075945996, 0.0016701345, -0.050654836, -0.043454114, 0.06553653, -0.088138714, -0.036501933, 0.056785453, -0.0021036614, 0.013519548, 3.1058793E-5, -0.01569345, 0.011434502, 0.01429721, -4.1900025E-4, -0.018858207, -0.005286251, 0.033286445, 0.013619647, 0.071022876, -0.031915195, 0.038276713, 0.047088597, 0.009606807, 0.06701955, 0.019139165, 0.035064824, -0.033244573, -0.016280865, 0.09617886, 0.017737234, 0.041025013, 0.054620575, 0.060885526, 0.02576639, -0.0044709984, 0.012580115, -0.014041764, 0.009760505, -0.018815517, -0.02605757, 0.006341397, 0.019401638, 0.021226892, 7.276926E-5, 0.037750993, 0.08206523, 0.030118583, 0.021251041, -0.022806633, -0.05905897, 0.016399028, 0.002279771, -0.050316814, -0.053823292, 0.0050676516, 0.074718066, -0.08363014, 0.017885225, 0.03419262, 0.012196112, -0.0045806933, 0.030251151, 0.07653118, 0.017581513, 0.021810377, -0.09048987, 0.014036137, 0.005279361, -0.017545627, 0.0016517888, 0.00155933, -0.044060774, 0.0038492205, -0.0068018595, 0.031567223, -0.044971887, -0.01606047, -0.021719173, -0.005288138, -0.016558295, -0.021626055, 0.04552069, -0.02514534, -6.0474937E-4, -0.011787372, 0.01274739, -0.020890903, 0.0027475397, 0.017650189, -0.01834103, 0.0274309, 0.016107839, 0.067463264, 0.010303507, -0.02712572, 0.0011238271, 0.030853089, -0.010466704, 0.040342674, 0.024961146, 0.06420842, -0.047080845, 0.059396382, -0.054568134, -0.015108173, 0.032848664, 0.077038, -0.012384888, 0.11769361, 0.019601028, -0.0754918, -0.033726793, -0.013315688, -0.074291654, 0.013364224, 0.02301637, -0.061805595, 0.03251853, -0.0026294838, 0.081187725, 0.02796725, 0.036264345, -0.0033390482, -0.017834403, -0.044574253, 0.015224534, -0.05204889, -0.046654005, -0.018205976, -0.0704107, -0.0018151922, -0.055602398, -0.028336573, -0.03516029, 0.004410761, 0.05507938, -0.09070009, -0.01697573, -0.051055014, 0.0043526297, -0.044327907, -0.08359479, 0.009710952, -0.035887726, 0.038081944, -0.020458432, 0.0063492595, 0.02163505, -0.030084796, 0.04920252, 0.019485105, -0.019848624, -8.614136E-4, -0.013281092, -0.05182541, 0.021157147, 0.012887961, -0.031187396, 0.02333303, 0.0022122313, -0.05602906, 0.0023779294, 0.005159949, 0.021661827, -0.015044677, -0.045510568, -0.05383945, -0.040818386, -0.048315875, -0.01710805, -0.06530168, -0.022195304, -0.03473902, -0.03442431, -0.014731445, -0.025023883, 0.038981237, 0.05217744, 0.022960037, 0.07183705, -0.01899177, 0.026899695, 0.024916327, -0.044711232, 0.06115233, 0.028061816, -0.019029532, 0.001544924, 0.051620975, 0.0140763875, -0.044976886, 0.049032208, 0.022272322, 0.023076113, -0.017343706, -0.02916492, -0.0029935045, -0.054754302, 0.00783496, 0.042781148, -0.0982043, 0.0017296516, 0.041285418, -0.013227778, 0.07044467, -0.030687487, -0.014082031, -0.0367058, -0.02151711, 0.0059447247, -0.0022215473, 0.028699242, 0.05252095, -0.009252762, -5.978002E-4, 0.013543429, 0.015409864, -0.010199258, -0.012937138, -0.054263007, -0.06115707, -0.012695697, 0.020173403, -0.027157692, 0.028345315, 0.05426592, -0.033583388, -0.001908371, 0.035646513, 0.00988208, 0.0032011333, -0.0053243865, 0.08951037, 0.06177394, 0.028255625, 0.09999957, 0.0016316029, -0.036208577, -0.008354407, -0.008884219, 0.020096948, -0.0057967007, 0.0064523793, -6.6470355E-4, -0.030134156, -0.03190702, -0.03642384, 0.033621125, -0.020086048, 0.013184688, -0.03479009, 5.484986E-4, -0.007213512, 0.0045463373, 0.030889826, 0.012143927, 0.009515496, 0.06637988, -0.0063821157, 0.042757444, -0.024244769, 0.0382036, -0.06271837, -0.06452301, -5.9781317E-4, 0.017102169, 0.0012414826, -0.0037360312, 0.037862077, 0.052363705, 0.050260942, -0.015928326, 0.002051345, -0.004314148, 0.028033426, 0.020378388, 0.05091148, 1.6426471E-4, -0.03329158, -0.020501563, -0.03746597, 0.0043545146, -0.051915433, 0.046785504, -0.035924736, -0.030996447, 0.016345417, 0.027602768, -0.012700664, -0.0352721, -0.0029774392, -0.017950615, -0.034424223, -0.03286845, 0.008684026, 0.035636827, 0.010971541, 0.012852996, -0.020786166, 0.02269651, -0.031559814, -0.020207979, 0.02237482, 0.024360415, 0.053007852, 0.024716856, 0.04338555, 0.071183436, 0.0076836427, -0.049594797, -0.057509806, 0.041640665, 0.0532669, 0.044494167, -4.466341E-4, -0.068779714, -0.022737134, 0.020339062, -0.041456077, 0.037275746, 0.013127699, -0.009658812, -0.027962511, -0.0059099114, -0.034298286, -0.061680574, 0.030403418, -0.018373212, -0.040974084, 0.017276851, -0.0894924, -0.004640107, 0.02240856, 0.044118006, -0.021329006, 0.01705475, 0.018235022, -0.0013996878, 0.05729113, -0.058041394, 0.024794515, -0.0064659896, -9.057671E-4, -0.0027857258, 0.031135032, 0.012293293, -0.03744673, 0.031033073, 0.0077750064, 0.015249254, 0.03336218, -0.027501363, -0.025083847, 0.016452603, 0.023726184, 0.013294393, -0.05650392, -0.026063211, 0.009534764, 0.007941773, 0.036672022, -0.012735457, -0.014052164, 0.022530379, 0.049686763, -0.001441806, -0.024247155, -0.013709815, -0.02679587, 0.03668609, 0.012168053, 0.0070896125, 0.070438035, -0.027947845, 0.027842514, 0.0882076, -0.024316857, 0.030302161, -0.009217433, -0.041113067, -0.06952605, -0.0025288353, -0.03175502, 0.0015061122, 0.082634725, 0.07214841, -0.025109705, 0.017478378, 0.035217095, 0.07096805, 0.0078455685, 0.033936314, 0.014233988, 0.058831446, -0.081075735, 0.018764313, -0.02667686, 0.053202577, 0.08632619, 0.015032037, 0.017888198, -0.005614539, 0.007740782, -0.0045235, -0.0062526255, 0.06881827, 0.044413157, -0.018988589, 0.055945423, -0.031072808, -0.03356137, -0.019053478, -0.015069733, -0.025929421, 0.006467809, 0.033647187, -0.012912349, 0.02129552, 0.0077470695, 0.005741682, 0.0024868294, 0.023883738, -0.008571195, 0.018773215, 0.01265582, -0.0011699647, 0.027009768, -0.01397132, -0.022523627, -0.04573725, 0.009901268, 0.0083079375, 0.010048271, -0.06350959, -5.572129E-4, 0.040370807, -0.017259173, 0.043152243, -0.008898277, -0.0014708831, 0.009402315, 0.011152186, -0.022280442, -0.0013921806, 0.003340322, -0.019031193, -0.040956747, -0.035617743, 0.02587834, 0.03798462, 0.029594798, 0.109200776, 0.018581402, 0.01065095, -0.035270687, 0.022170437, 0.050095275, -0.010456777, 0.008113536, 0.012659655, -0.0023636746, 0.027601331, 0.070311524, -0.10748527, 0.012956776, -0.054221608, -0.029327733, 0.03597856, -0.06472974, -0.0088273175, 0.010614055, -0.053502876, -0.01491292, -0.018356038, -0.047492478, -0.027761297, 0.021816272, -0.0043673213, 0.0056316704, -0.015889533, 0.018265424, -8.9775975E-4, 0.057781138, 0.012145545, -0.06513338, -0.01702528, -0.018165076, -0.06817686, -0.03371279, 0.03696111, -0.04003929, 0.027526814, -0.059768107, 0.020550177, 0.020069627, 0.095423415, 0.023177542, -0.041670773, -0.005590949, -0.048974358, 0.0026011358, 7.444741E-4, -0.016103186, 0.056245968, -0.051897585, -0.02395931, -0.049630933, 0.024181968, -0.04017711, -0.0012492461, -0.035021763, 0.0056932787, 0.023441274, -0.03118703, -0.0063726148, -0.0056175403, -0.013294424, -0.01310451, -0.03934711, -0.028688464, -0.022373099, -0.0027446863, 0.013047909, 0.014685456, 0.06311369, -0.07068517, -0.011304596, 0.0427634, -0.0479584, 0.021114457, -0.051338006, -0.0151081635, -0.019444268, -0.03822701, 0.020793334, 0.023723185, -0.0395839, -0.040539507, -0.036253586, -0.012166395, 0.039298583, 9.086605E-4, -0.08691022, 0.025735311, 0.07639582, -0.029402507, -0.026297199, -0.035767596, -0.041662335, 0.027214259, -0.023151418, 0.015002837, -0.0076914206, 9.892604E-4, -0.017557468, 0.016073264, 0.03830361, 0.024379717, 0.02567361, -0.0072545167, -0.022411693, 0.04258296, -0.07205539, 0.035088345, 0.010660706, -0.00517607, 0.022368606, -0.007181433, 0.052947763, -0.016760789, 0.0062498343, -0.07759697, -0.036198076, -0.00431305, -0.019338695, -0.0152930375, 0.00860881, 0.016034437, 0.0024086456, 0.013703472, -0.115972064, -0.03489737, 0.0066147693, 0.026663488, 0.011751965, 0.016375665, 0.034441266, 0.02062253, -0.009875412, 0.066873126, 0.039996643, -0.040120017, 0.008691084, 0.06729658, 0.006448496, 0.04670015, -0.022875043, 0.03153462, -0.020473791, -3.3470802E-4, -0.017359491, 0.048127543, -0.022450317, 0.0020381964, -0.041033868, 0.017829629, -0.012787516, -0.040616825, -0.02161312, 0.015859291, -0.0150432335, -5.288035E-4, -0.00740094, 0.016797436, 0.0043963017, -0.013176986, -0.0050563198, 0.029852057, -0.08393492, 0.040848274, -0.004801073, 0.011385211, 0.0153328525, 0.024163358, 0.00866187, -0.020360366, -0.063193046, 0.022031453, 0.05535499, -0.018389825, -0.018212922, 0.007964342, -0.050407775, 0.0049121436, -0.036280785, 0.0036498674, -0.01938908, 0.03688937, 0.014221668, 0.03645944, 0.058379382, -0.019309625, -0.01710653, -0.0029965395, 0.016352333, -0.0074257525, 0.013257242, -0.010864909, -0.05216156, -0.044432238, -0.040156957, -5.553557E-4, 0.048702322, 0.026458552, 0.021481575, 0.013760061, -0.07905813, 0.04841153, -0.025043815, 0.012588471, 0.011315619, -0.06746448, 0.025417611, 0.0037304552, -0.08102732, 0.012917518, 0.0058341296, 0.06972767, -0.026445722, -0.011071966, -0.011738386, -0.034633834, -0.007920893, -0.041949127, -4.0367641E-4, -0.036803376, 0.088918686, -0.084487356, 0.0113680605, 0.029009398, -0.019977799, -0.01201806, 0.0041663945, 0.0018047517, 0.024062876, -0.044193074, 0.007997805, 0.110744245, 0.027958624, -0.055631734, -0.04356296, -0.032280482, 0.0012969571, -0.046516623, 0.0020608928, 0.005005771, 0.07266243, 0.03363927, -0.015140389, 0.016908612, -0.025059272, 0.04890195, 0.005065081, -0.031498563, 0.016516142, -0.03711911, 0.0040583787]]|\n",
            "|[[-0.018702855, 0.035435747, -0.0017237068, 0.012759349, 0.021165278, -3.8922165E-4, -0.0062849615, 0.022475356, -0.05703872, 0.014425143, -0.05417933, 0.03216641, 0.022020455, 0.024046207, 0.037733868, -0.0022736, 0.090686314, -0.012312518, 0.011568907, 0.03214525, -0.03710294, 0.048122924, -0.029286228, 0.011785575, 0.049331512, -0.009333952, 0.0043881293, 0.010654675, -0.036657613, -0.04501139, 0.03622937, -0.06963329, -0.002993421, 0.00611245, -0.030602194, -0.00936447, 0.08224704, 0.023130294, -0.02755071, -0.03478172, 0.06206023, -0.025409425, -0.01560513, -0.039086685, -0.0061284187, -0.002983008, 0.019532528, -0.033300433, 0.051005285, -0.026009014, 0.019559314, 0.0417266, 0.0366931, -0.016528182, -0.04276472, 0.00967906, 0.03867714, 0.01812088, -0.002814127, 0.020026008, 0.07283273, -0.028781561, -3.63141E-4, -0.015805995, 0.045850713, -0.03896587, -0.06940706, 0.06398392, 0.022378163, -0.023673477, 0.07073992, -0.01327684, -0.0052201767, 0.022338875, -0.091792256, -0.033173177, 0.066059195, 0.0025331588, 0.011487862, 0.053539, -0.010194615, -0.03336495, 0.097723514, -0.023237983, 0.06397719, 0.04451036, 0.036014054, 0.009411268, -0.038840346, 0.077509604, -1.1473749E-4, 0.02932917, 0.09026238, 0.02490656, -0.041937944, -0.026640639, 0.023483707, -0.014969634, -0.017005688, -0.018791592, -0.02530194, 0.006006313, 0.024138821, 0.008384791, 0.03489184, 0.05610571, 0.05147196, 0.004389516, 0.010708741, -0.017220229, -0.07886443, 0.04000806, 0.0107476795, 0.0022705523, -0.045725916, -0.014345576, 0.05611579, -0.074688375, 0.019494882, 0.051882032, 0.04466247, -0.03436972, -0.004648438, 0.005388344, -0.005436107, 0.0059505864, -0.029913917, -0.028989526, 0.0011526325, -0.040788777, 0.04190011, 0.0016002302, -0.02377522, 0.044829655, 0.018474238, 0.04903799, -0.010144827, -0.061324965, -5.5343757E-4, -0.042414214, -0.0072765797, -0.032016575, 0.005790107, -0.06294575, 0.026840055, -0.04068842, 0.045810048, -0.037227314, -0.03700038, -0.011098671, 0.013121185, 0.027323535, 0.003642582, 0.01771257, -0.007528686, -0.025045207, -0.005828716, 0.029186612, -0.011891554, 0.043875497, -0.013698061, 0.034723364, -0.07256249, 0.049755517, -0.029602822, -0.017372688, 0.058545955, 0.029038224, 0.019485453, 0.08219432, -0.010923852, -0.04395585, -0.04926282, -0.0029568472, 0.0046938066, 4.2136813E-5, 0.047344454, -0.057014924, -0.024299677, 0.032938555, 0.045942523, 0.035364147, 0.01543984, 0.037349228, 0.0036960929, -0.0085355295, 0.02868928, -0.039197557, 6.617683E-4, 0.011484015, -0.078085795, -0.0077589722, -0.009236323, -0.04427952, -0.025982266, -0.047723494, 0.021456493, -0.058390457, -0.04238946, -0.087610684, -0.0058077, -0.041949388, -0.062980935, -0.027751582, -0.059855554, 0.03274801, -0.028619038, 0.040720534, -0.02445772, 0.018319655, 0.051393017, -0.0058227, -0.010477037, -0.021130394, -0.018222993, -0.036179975, 0.0205312, -0.0092762485, -0.010656207, 0.012023163, -0.040940475, -0.0051718466, -0.0031803402, -0.01012459, 0.057308998, -0.01751448, -0.03889057, -0.07689311, -0.057796482, -0.018514099, -0.04231306, -0.040013455, -0.0028068984, -0.012939382, -0.05971039, 0.0140296705, 0.01799873, 0.041760325, 0.049963143, 0.026175821, 0.023395093, -0.026278935, 0.0024844678, -0.018501263, -0.035767727, 0.057930663, -0.03376403, 0.018786086, 0.0011826343, 0.025686083, -0.009197069, -0.024726164, 0.03675435, 0.032407414, 1.6787655E-4, -0.055543166, 0.0019362957, 0.0076793088, -0.029587312, 0.0504084, 0.031415693, -0.08834766, 0.03861295, -0.057978183, -0.034004148, 0.0241318, 0.007897921, -0.01167386, 0.0030884333, -0.01652402, -0.013095899, 0.017472709, 0.10513339, 0.075672574, -0.0701218, -0.028821368, -4.3922957E-4, -0.022658605, -0.002042857, 0.001397348, -0.0348854, -0.017348368, -0.01064658, -0.023668323, 0.018991483, -0.0028731492, 0.05094221, 0.061628513, 0.0126717985, -0.008733079, 0.028480012, -0.026325542, 0.0107155545, 0.05876968, 0.03711704, 0.040423222, 0.061503217, -0.021728221, -0.0038607933, -0.0050950693, 0.02408426, 0.025186472, -0.0043127593, 0.016699255, 0.007861902, 0.0016949584, 0.03316369, 0.0011399242, 0.0044931034, -0.017834289, -0.07527176, -0.01793182, 0.0064731264, 0.0069595464, -0.048302446, 0.05158015, -0.013514871, 0.030238226, 0.025525063, 0.005930616, -0.055431765, -0.050833162, 0.041423053, -0.030942539, -0.018840995, 0.041691367, -0.03431052, 0.008240704, 0.0052655945, -0.012496108, -0.015794935, 0.032882277, -0.0037195086, -0.018248668, 0.004928523, 0.019126063, 0.078343265, -0.014683318, -0.0014151462, -0.027765004, 0.018758843, -0.023778532, -0.010300848, -0.05271225, 0.08970504, -0.025879087, -0.055124123, -0.03212669, 0.03411698, -0.0020485243, -0.034826547, 0.015342312, -0.030069966, -0.039576247, 0.007697254, 0.04001121, 0.07615429, -0.02789391, -0.01986511, -0.011699656, 0.072819546, -0.0076375953, 0.0014981972, 0.021584159, -0.00942438, -6.85763E-4, 0.02790926, 0.06807463, 0.03500766, 0.046632387, 0.0056173326, -0.01859782, 0.0023816691, 0.051095076, 0.070163056, -0.015875468, -0.040333815, -0.025841167, -0.02522916, -0.030164866, 0.026551738, 0.01560112, 0.0033243473, 0.014640208, -0.012851426, -0.02798844, -0.064495444, 0.021881424, 0.022579663, 0.026948342, 0.0038787993, -0.07176053, -0.014773398, 0.067309044, -0.0030222856, -0.0026174418, -0.015646348, -0.0016277086, -0.022116987, 0.018649833, -0.00669232, -0.052121986, 0.008938894, 0.024055548, 0.012250008, 0.0026063656, 0.06374799, -0.06364739, 0.014637596, 0.022233548, 0.022569528, 0.092528366, -0.004391899, -0.022051023, 0.042892992, -0.004232564, 0.037416954, -0.031690624, -0.05436274, 0.0068417387, -0.0017024706, -0.0039667445, -0.012740646, -0.032118153, 0.053134874, -0.001587949, -0.008357475, 0.044612806, -0.043382667, 0.034583896, -0.002753777, 0.011280233, 0.026346128, 0.013153558, -0.05935718, -0.0015748192, 0.032736674, -0.034795012, 0.022498714, -0.021949824, -0.046060227, -0.03174131, -0.025841061, 0.04562379, 0.023946706, 0.06828208, 0.05014618, -0.07193574, -0.021273818, 0.033580247, 0.06251527, 0.023660058, -0.009414402, 0.04505483, 0.068959266, -0.05614791, 0.013578856, -0.028432125, 0.05554049, 0.016386932, 0.0090935845, 7.2444294E-4, -0.05501128, -0.0017067179, 0.0076691373, -0.010730048, -0.0067988443, -0.0057486133, -0.036873993, 0.0630654, -0.008017874, -0.04193124, 0.00585195, -0.026499337, -0.06813486, 0.02128698, 0.03674092, -0.003159363, 0.03898929, -0.0076806154, 0.046099138, -0.017152036, -0.057452764, -0.017646594, -0.020961387, 0.021257725, -0.0055655735, -0.043122098, -0.05856401, 0.0015724791, -0.012055211, -0.020212397, -0.04475372, 0.012968343, -0.03146907, -0.00952292, 0.01566473, 0.04074225, 0.11662645, 0.03833861, 0.041123576, -0.0033517145, -0.01288594, 0.038535696, 0.0051768767, 0.004921676, 0.040885914, -0.03237159, 0.004265092, 0.034544818, 0.027752701, 0.009138292, 0.07514201, 0.05082435, 0.059532356, -0.010671366, 0.034079596, 0.047947224, -0.021576138, 0.07822468, 0.02285505, -0.012132199, 0.026237028, 0.029182317, -0.058367576, 0.05584715, -0.023212155, -0.060200017, 0.033524647, -0.012823348, -0.035142027, 0.018902326, -0.019290147, -0.053024925, 0.021678472, -0.073933385, -0.059144735, -0.034020305, -0.0045006317, 0.017943837, 0.008221159, -0.03999119, -0.019394165, -0.0123692425, 0.028412824, -0.033783786, 0.0049024643, 0.032398436, 2.2428535E-4, 8.3773246E-4, 0.015480535, -0.087407134, 0.029459953, -0.089353, -0.015067773, 0.0048940983, 0.046721157, 0.0036768396, -0.028196964, -0.035169423, 0.02954732, 0.012843866, 0.0026046894, 0.044396408, -0.0059708166, -0.056103375, -0.046625156, -0.010964702, -0.010187353, -0.0671057, 0.0031702376, -0.027453905, 0.032679796, 0.018462544, 0.008677526, -0.009731188, 0.02061081, 0.012862906, -0.01130117, -0.04926563, -0.0378131, 0.008220733, 0.036763344, -0.06205174, -0.003227374, 0.025571948, -0.0716974, -0.0059771854, -0.0073486962, -0.0049615037, 0.060990166, -0.0673495, -0.024043122, 2.380562E-4, -0.024324397, 0.029352764, 0.040021412, -0.013134632, -0.06359764, -0.00950491, 0.006006589, 0.054254122, -0.008272462, -0.06971542, 0.075615324, 0.10938163, 0.006436528, -0.06894045, -0.028073931, -0.062154744, 0.019593008, 0.030648954, 0.024613755, 0.014791152, 0.018894674, -0.022494469, 0.06596394, -0.02590038, 0.02433586, -0.07043845, 0.015609587, -0.03874435, 0.047164876, -0.04480616, 0.023353484, 0.031710442, -0.0064832466, -0.0013366786, -0.00345881, 0.05717598, -0.034937095, 0.021442374, -0.036054928, -0.07142438, -0.064291246, -0.012147822, 0.012535017, -0.061388485, -0.02565536, 0.0010974515, -0.00825501, -0.039894775, -0.021889895, -0.012797096, 0.036487512, -0.023674568, -0.030610062, 0.018520754, 0.015793737, -0.02481092, 0.050778866, 0.03628779, -0.0033914119, 0.035444617, 0.056769654, -0.04189888, 0.031761996, -0.018082125, 0.024713907, -0.0056892396, 0.0150954295, 0.03539866, 0.023766229, -0.032945737, -0.04123077, -0.029834367, 0.0019107653, -0.024031354, -0.032062657, -0.04146036, -0.0015736992, 0.021921871, 0.0010966088, -0.03944023, -0.07116477, -0.0022710871, -0.016318452, 0.029870315, 0.019551905, -0.026922839, 0.018942358, -0.008381138, 0.028088477, -0.07015787, 0.022613203, -0.08970605, -0.0068832203, -0.012598341, -8.3189417E-4, 0.024981553, -0.005470336, 0.009305549, 0.016388215, -0.051535506, 0.0069893324, -0.022448298, -0.010731828, -0.04897332, 0.007366673, 0.018091546, 0.0025088124, 0.06507112, 0.004726791, 0.0016129904, -0.015756622, -0.056615565, 0.03944899, 0.04539225, -0.0021522294, 0.028802767, -0.009196535, 0.018512892, -0.0013497621, 0.02642179, 0.022055542, 0.012249835, 0.007629265, -0.03524304, -0.011741537, -0.027680986, 0.033300165, 0.01562534, -0.032748073, 0.0040376326, -0.029311191, -0.02493836, -0.0049786298, -0.018660242, 0.07395918, 9.480119E-4, 0.02766707, 0.009054819, -0.045106452, 0.005751744, -0.03985677, 0.0060910527, -0.003955403, 0.08347979, -0.04371535, -0.008435926, -0.032266237, -0.040099166, -0.007947007, 0.02895277, -0.024368418, -0.022500452, -0.0074873557, 0.014053596, 0.07591871, -7.511432E-4, -0.022369301, 0.014863006, -0.021449002, 0.006466107, -0.013943978, 0.069275446, -0.022578187, 0.049666166, 0.044176526, 0.0083592795, -0.03780593, -0.017648866, 0.04303759, -0.028143805, -0.0070717, 0.030622885, -0.030240586, -0.014751919]]        |\n",
            "+--------------------------------------------------------------------------------------------------------------------------------------------------------------------------------------------------------------------------------------------------------------------------------------------------------------------------------------------------------------------------------------------------------------------------------------------------------------------------------------------------------------------------------------------------------------------------------------------------------------------------------------------------------------------------------------------------------------------------------------------------------------------------------------------------------------------------------------------------------------------------------------------------------------------------------------------------------------------------------------------------------------------------------------------------------------------------------------------------------------------------------------------------------------------------------------------------------------------------------------------------------------------------------------------------------------------------------------------------------------------------------------------------------------------------------------------------------------------------------------------------------------------------------------------------------------------------------------------------------------------------------------------------------------------------------------------------------------------------------------------------------------------------------------------------------------------------------------------------------------------------------------------------------------------------------------------------------------------------------------------------------------------------------------------------------------------------------------------------------------------------------------------------------------------------------------------------------------------------------------------------------------------------------------------------------------------------------------------------------------------------------------------------------------------------------------------------------------------------------------------------------------------------------------------------------------------------------------------------------------------------------------------------------------------------------------------------------------------------------------------------------------------------------------------------------------------------------------------------------------------------------------------------------------------------------------------------------------------------------------------------------------------------------------------------------------------------------------------------------------------------------------------------------------------------------------------------------------------------------------------------------------------------------------------------------------------------------------------------------------------------------------------------------------------------------------------------------------------------------------------------------------------------------------------------------------------------------------------------------------------------------------------------------------------------------------------------------------------------------------------------------------------------------------------------------------------------------------------------------------------------------------------------------------------------------------------------------------------------------------------------------------------------------------------------------------------------------------------------------------------------------------------------------------------------------------------------------------------------------------------------------------------------------------------------------------------------------------------------------------------------------------------------------------------------------------------------------------------------------------------------------------------------------------------------------------------------------------------------------------------------------------------------------------------------------------------------------------------------------------------------------------------------------------------------------------------------------------------------------------------------------------------------------------------------------------------------------------------------------------------------------------------------------------------------------------------------------------------------------------------------------------------------------------------------------------------------------------------------------------------------------------------------------------------------------------------------------------------------------------------------------------------------------------------------------------------------------------------------------------------------------------------------------------------------------------------------------------------------------------------------------------------------------------------------------------------------------------------------------------------------------------------------------------------------------------------------------------------------------------------------------------------------------------------------------------------------------------------------------------------------------------------------------------------------------------------------------------------------------------------------------------------------------------------------------------------------------------------------------------------------------------------------------------------------------------------------------------------------------------------------------------------------------------------------------------------------------------------------------------------------------------------------------------------------------------------------------------------------------------------------------------------------------------------------------------------------------------------------------------------------------------------------------------------------------------------------------------------------------------------------------------------------------------------------------------------------------------------------------------------------------------------------------------------------------------------------------------------------------------------------------------------------------------------------------------------------------------------------------------------------------------------------------------------------------------------------------------------------------------------------------------------------------------------------------------------------------------------------------------------------------------------------------------------------------------------------------------------------------------------------------------------------------------------------------------------------------------------------------------------------------------------------------------------------------------------------------------------------------------------------------------------------------------------------------------------------------------------------------------------------------------------------------------------------------------------------------------------------------------------------------------------------------------------------------------------------------------------------------------------------------------------------------------------------------------------------------------------------------------------------------------------------------------------------------------------------------------------------------------------------------------------------------------------------------------------------------------------------------------------------------------------------------------------------------------------------------------------------------------------------------------------------------------------------------------------------------------------------------------------------------------------------------------------------------------------------------------------------------------------------------------------------------------------------------------------------------------------------------------------------------------------------------------------------------------------------------------------------------------------------------------------------------------------------------------------------------------------------------------------------------------------------------------------------------------------------------------------------------------------------------------------------------------------------------------------------------------------------------------------------------------------------------------------------------------------------------------------------------------------------------------------------------------------------------------------------------------------------------------------------------------------------------------------------------------------------------------------------------------------------------------------------------------------------------------------------------------------------------------------------------------------------------------------------------------------------------------------------------------------------------------------------------------------------------------------------------------------------------------------------------------------------------------------------------------------------------------------------------------------------------------------------------------------------------------------------------------------------------------------------------------------------------------------------------------------------+\n",
            "\n"
          ]
        }
      ],
      "source": [
        "import sparknlp\n",
        "from sparknlp.base import *\n",
        "from sparknlp.annotator import *\n",
        "from pyspark.ml import Pipeline\n",
        "\n",
        "test_data = spark.createDataFrame([\n",
        "            [1, \"query: how much protein should a female eat\"],\n",
        "            [2, \"query: summit define\"],\n",
        "            [3, \"passage: As a general guideline, the CDC's average requirement of protein for women ages 19 to 70 \"\n",
        "                \"is 46 grams per day. But, as you can see from this chart, you'll need to increase that if you're \"\n",
        "                \"expecting or training for a marathon. Check out the chart below to see how much protein you should \"\n",
        "                \"be eating each day.\", ],\n",
        "            [4, \"passage: Definition of summit for English Language Learners. : 1  the highest point of a mountain :\"\n",
        "                \" the top of a mountain. : 2  the highest level. : 3  a meeting or series of meetings between the \"\n",
        "                \"leaders of two or more governments.\"]\n",
        "        ]).toDF(\"id\", \"text\")\n",
        "\n",
        "document_assembler = DocumentAssembler() \\\n",
        "    .setInputCol(\"text\") \\\n",
        "    .setOutputCol(\"documents\")\n",
        "\n",
        "nomic = NomicEmbeddings \\\n",
        "            .load(f\"{MODEL_NAME}_spark_nlp\") \\\n",
        "            .setInputCols([\"documents\"]) \\\n",
        "            .setOutputCol(\"nomic\")\n",
        "\n",
        "pipeline = Pipeline().setStages([document_assembler, nomic])\n",
        "results = pipeline.fit(test_data).transform(test_data)\n",
        "\n",
        "results.select(\"nomic.embeddings\").show(truncate=False)"
      ]
    },
    {
      "cell_type": "markdown",
      "metadata": {
        "id": "PdvQAAfo4W7N"
      },
      "source": [
        "That's it! You can now go wild and use hundreds of Nomic models from HuggingFace 🤗 in Spark NLP 🚀\n"
      ]
    }
  ],
  "metadata": {
    "colab": {
      "provenance": []
    },
    "kernelspec": {
      "display_name": "Python 3",
      "name": "python3"
    },
    "language_info": {
      "codemirror_mode": {
        "name": "ipython",
        "version": 3
      },
      "file_extension": ".py",
      "mimetype": "text/x-python",
      "name": "python",
      "nbconvert_exporter": "python",
      "pygments_lexer": "ipython3",
      "version": "3.8.16"
    },
    "widgets": {
      "application/vnd.jupyter.widget-state+json": {
        "0340296c8770497d84982352c35708ea": {
          "model_module": "@jupyter-widgets/controls",
          "model_module_version": "1.5.0",
          "model_name": "HTMLModel",
          "state": {
            "_dom_classes": [],
            "_model_module": "@jupyter-widgets/controls",
            "_model_module_version": "1.5.0",
            "_model_name": "HTMLModel",
            "_view_count": null,
            "_view_module": "@jupyter-widgets/controls",
            "_view_module_version": "1.5.0",
            "_view_name": "HTMLView",
            "description": "",
            "description_tooltip": null,
            "layout": "IPY_MODEL_13f85f42ec2941998d4e4f241e15d88a",
            "placeholder": "​",
            "style": "IPY_MODEL_7cac4aa1adf84d338e7de9f3ac91bd47",
            "value": " 2/2 [00:39&lt;00:00, 18.11s/it]"
          }
        },
        "0540ea7b02994fa1a8318a7d2f38c12c": {
          "model_module": "@jupyter-widgets/controls",
          "model_module_version": "1.5.0",
          "model_name": "PasswordModel",
          "state": {
            "_dom_classes": [],
            "_model_module": "@jupyter-widgets/controls",
            "_model_module_version": "1.5.0",
            "_model_name": "PasswordModel",
            "_view_count": null,
            "_view_module": "@jupyter-widgets/controls",
            "_view_module_version": "1.5.0",
            "_view_name": "PasswordView",
            "continuous_update": true,
            "description": "Token:",
            "description_tooltip": null,
            "disabled": false,
            "layout": "IPY_MODEL_e23e8b6170294d4999b90a293da45b19",
            "placeholder": "​",
            "style": "IPY_MODEL_452dbb332660410ca9b94d11017075c0",
            "value": ""
          }
        },
        "09dd4d814d1a43719a4dfd145ffe5d1d": {
          "model_module": "@jupyter-widgets/controls",
          "model_module_version": "1.5.0",
          "model_name": "HTMLModel",
          "state": {
            "_dom_classes": [],
            "_model_module": "@jupyter-widgets/controls",
            "_model_module_version": "1.5.0",
            "_model_name": "HTMLModel",
            "_view_count": null,
            "_view_module": "@jupyter-widgets/controls",
            "_view_module_version": "1.5.0",
            "_view_name": "HTMLView",
            "description": "",
            "description_tooltip": null,
            "layout": "IPY_MODEL_dccf73bd549b4e25ae1da68d0f3931fc",
            "placeholder": "​",
            "style": "IPY_MODEL_a0f81e62e3f74e418fae0c9e08830f2a",
            "value": "Loading checkpoint shards: 100%"
          }
        },
        "12e23151dcc74313be8c7e02b0f4ea05": {
          "model_module": "@jupyter-widgets/controls",
          "model_module_version": "1.5.0",
          "model_name": "DescriptionStyleModel",
          "state": {
            "_model_module": "@jupyter-widgets/controls",
            "_model_module_version": "1.5.0",
            "_model_name": "DescriptionStyleModel",
            "_view_count": null,
            "_view_module": "@jupyter-widgets/base",
            "_view_module_version": "1.2.0",
            "_view_name": "StyleView",
            "description_width": ""
          }
        },
        "13f85f42ec2941998d4e4f241e15d88a": {
          "model_module": "@jupyter-widgets/base",
          "model_module_version": "1.2.0",
          "model_name": "LayoutModel",
          "state": {
            "_model_module": "@jupyter-widgets/base",
            "_model_module_version": "1.2.0",
            "_model_name": "LayoutModel",
            "_view_count": null,
            "_view_module": "@jupyter-widgets/base",
            "_view_module_version": "1.2.0",
            "_view_name": "LayoutView",
            "align_content": null,
            "align_items": null,
            "align_self": null,
            "border": null,
            "bottom": null,
            "display": null,
            "flex": null,
            "flex_flow": null,
            "grid_area": null,
            "grid_auto_columns": null,
            "grid_auto_flow": null,
            "grid_auto_rows": null,
            "grid_column": null,
            "grid_gap": null,
            "grid_row": null,
            "grid_template_areas": null,
            "grid_template_columns": null,
            "grid_template_rows": null,
            "height": null,
            "justify_content": null,
            "justify_items": null,
            "left": null,
            "margin": null,
            "max_height": null,
            "max_width": null,
            "min_height": null,
            "min_width": null,
            "object_fit": null,
            "object_position": null,
            "order": null,
            "overflow": null,
            "overflow_x": null,
            "overflow_y": null,
            "padding": null,
            "right": null,
            "top": null,
            "visibility": null,
            "width": null
          }
        },
        "174693aa52194cae9bde419572ac117e": {
          "model_module": "@jupyter-widgets/controls",
          "model_module_version": "1.5.0",
          "model_name": "DescriptionStyleModel",
          "state": {
            "_model_module": "@jupyter-widgets/controls",
            "_model_module_version": "1.5.0",
            "_model_name": "DescriptionStyleModel",
            "_view_count": null,
            "_view_module": "@jupyter-widgets/base",
            "_view_module_version": "1.2.0",
            "_view_name": "StyleView",
            "description_width": ""
          }
        },
        "1b76dafe2da64c1fa55e52a5f83715c9": {
          "model_module": "@jupyter-widgets/base",
          "model_module_version": "1.2.0",
          "model_name": "LayoutModel",
          "state": {
            "_model_module": "@jupyter-widgets/base",
            "_model_module_version": "1.2.0",
            "_model_name": "LayoutModel",
            "_view_count": null,
            "_view_module": "@jupyter-widgets/base",
            "_view_module_version": "1.2.0",
            "_view_name": "LayoutView",
            "align_content": null,
            "align_items": "center",
            "align_self": null,
            "border": null,
            "bottom": null,
            "display": "flex",
            "flex": null,
            "flex_flow": "column",
            "grid_area": null,
            "grid_auto_columns": null,
            "grid_auto_flow": null,
            "grid_auto_rows": null,
            "grid_column": null,
            "grid_gap": null,
            "grid_row": null,
            "grid_template_areas": null,
            "grid_template_columns": null,
            "grid_template_rows": null,
            "height": null,
            "justify_content": null,
            "justify_items": null,
            "left": null,
            "margin": null,
            "max_height": null,
            "max_width": null,
            "min_height": null,
            "min_width": null,
            "object_fit": null,
            "object_position": null,
            "order": null,
            "overflow": null,
            "overflow_x": null,
            "overflow_y": null,
            "padding": null,
            "right": null,
            "top": null,
            "visibility": null,
            "width": "50%"
          }
        },
        "1ca22e25121b4d36a7a8bd88c6d39efe": {
          "model_module": "@jupyter-widgets/controls",
          "model_module_version": "1.5.0",
          "model_name": "LabelModel",
          "state": {
            "_dom_classes": [],
            "_model_module": "@jupyter-widgets/controls",
            "_model_module_version": "1.5.0",
            "_model_name": "LabelModel",
            "_view_count": null,
            "_view_module": "@jupyter-widgets/controls",
            "_view_module_version": "1.5.0",
            "_view_name": "LabelView",
            "description": "",
            "description_tooltip": null,
            "layout": "IPY_MODEL_613ffc0f9ac74c0fab8f3cb05f9deb43",
            "placeholder": "​",
            "style": "IPY_MODEL_8cf69353a540492a8f81795d635e9069",
            "value": "Your token has been saved to /root/.cache/huggingface/token"
          }
        },
        "3154cd7ba0b841bf909030a40dba671a": {
          "model_module": "@jupyter-widgets/controls",
          "model_module_version": "1.5.0",
          "model_name": "LabelModel",
          "state": {
            "_dom_classes": [],
            "_model_module": "@jupyter-widgets/controls",
            "_model_module_version": "1.5.0",
            "_model_name": "LabelModel",
            "_view_count": null,
            "_view_module": "@jupyter-widgets/controls",
            "_view_module_version": "1.5.0",
            "_view_name": "LabelView",
            "description": "",
            "description_tooltip": null,
            "layout": "IPY_MODEL_9802c5078cb245a793c8ab8a97e370ca",
            "placeholder": "​",
            "style": "IPY_MODEL_4fed2ab467c94954b8b463b96c751715",
            "value": "Login successful"
          }
        },
        "36adb757251e475b9d854456b6a59a60": {
          "model_module": "@jupyter-widgets/controls",
          "model_module_version": "1.5.0",
          "model_name": "HTMLModel",
          "state": {
            "_dom_classes": [],
            "_model_module": "@jupyter-widgets/controls",
            "_model_module_version": "1.5.0",
            "_model_name": "HTMLModel",
            "_view_count": null,
            "_view_module": "@jupyter-widgets/controls",
            "_view_module_version": "1.5.0",
            "_view_name": "HTMLView",
            "description": "",
            "description_tooltip": null,
            "layout": "IPY_MODEL_8291ca2579ee4c3bbaf3bf34614e865f",
            "placeholder": "​",
            "style": "IPY_MODEL_5ae825fa761a4cdab40831ec71624dfa",
            "value": "Loading checkpoint shards:  25%"
          }
        },
        "374c8537fa7443d4aa6f6b8047fc090b": {
          "model_module": "@jupyter-widgets/base",
          "model_module_version": "1.2.0",
          "model_name": "LayoutModel",
          "state": {
            "_model_module": "@jupyter-widgets/base",
            "_model_module_version": "1.2.0",
            "_model_name": "LayoutModel",
            "_view_count": null,
            "_view_module": "@jupyter-widgets/base",
            "_view_module_version": "1.2.0",
            "_view_name": "LayoutView",
            "align_content": null,
            "align_items": null,
            "align_self": null,
            "border": null,
            "bottom": null,
            "display": null,
            "flex": null,
            "flex_flow": null,
            "grid_area": null,
            "grid_auto_columns": null,
            "grid_auto_flow": null,
            "grid_auto_rows": null,
            "grid_column": null,
            "grid_gap": null,
            "grid_row": null,
            "grid_template_areas": null,
            "grid_template_columns": null,
            "grid_template_rows": null,
            "height": null,
            "justify_content": null,
            "justify_items": null,
            "left": null,
            "margin": null,
            "max_height": null,
            "max_width": null,
            "min_height": null,
            "min_width": null,
            "object_fit": null,
            "object_position": null,
            "order": null,
            "overflow": null,
            "overflow_x": null,
            "overflow_y": null,
            "padding": null,
            "right": null,
            "top": null,
            "visibility": null,
            "width": null
          }
        },
        "446c4a71c2574673b4f54d06ff24a4ba": {
          "model_module": "@jupyter-widgets/base",
          "model_module_version": "1.2.0",
          "model_name": "LayoutModel",
          "state": {
            "_model_module": "@jupyter-widgets/base",
            "_model_module_version": "1.2.0",
            "_model_name": "LayoutModel",
            "_view_count": null,
            "_view_module": "@jupyter-widgets/base",
            "_view_module_version": "1.2.0",
            "_view_name": "LayoutView",
            "align_content": null,
            "align_items": null,
            "align_self": null,
            "border": null,
            "bottom": null,
            "display": null,
            "flex": null,
            "flex_flow": null,
            "grid_area": null,
            "grid_auto_columns": null,
            "grid_auto_flow": null,
            "grid_auto_rows": null,
            "grid_column": null,
            "grid_gap": null,
            "grid_row": null,
            "grid_template_areas": null,
            "grid_template_columns": null,
            "grid_template_rows": null,
            "height": null,
            "justify_content": null,
            "justify_items": null,
            "left": null,
            "margin": null,
            "max_height": null,
            "max_width": null,
            "min_height": null,
            "min_width": null,
            "object_fit": null,
            "object_position": null,
            "order": null,
            "overflow": null,
            "overflow_x": null,
            "overflow_y": null,
            "padding": null,
            "right": null,
            "top": null,
            "visibility": null,
            "width": null
          }
        },
        "452dbb332660410ca9b94d11017075c0": {
          "model_module": "@jupyter-widgets/controls",
          "model_module_version": "1.5.0",
          "model_name": "DescriptionStyleModel",
          "state": {
            "_model_module": "@jupyter-widgets/controls",
            "_model_module_version": "1.5.0",
            "_model_name": "DescriptionStyleModel",
            "_view_count": null,
            "_view_module": "@jupyter-widgets/base",
            "_view_module_version": "1.2.0",
            "_view_name": "StyleView",
            "description_width": ""
          }
        },
        "48199a26cd8047acbe897c6600919b67": {
          "model_module": "@jupyter-widgets/base",
          "model_module_version": "1.2.0",
          "model_name": "LayoutModel",
          "state": {
            "_model_module": "@jupyter-widgets/base",
            "_model_module_version": "1.2.0",
            "_model_name": "LayoutModel",
            "_view_count": null,
            "_view_module": "@jupyter-widgets/base",
            "_view_module_version": "1.2.0",
            "_view_name": "LayoutView",
            "align_content": null,
            "align_items": null,
            "align_self": null,
            "border": null,
            "bottom": null,
            "display": null,
            "flex": null,
            "flex_flow": null,
            "grid_area": null,
            "grid_auto_columns": null,
            "grid_auto_flow": null,
            "grid_auto_rows": null,
            "grid_column": null,
            "grid_gap": null,
            "grid_row": null,
            "grid_template_areas": null,
            "grid_template_columns": null,
            "grid_template_rows": null,
            "height": null,
            "justify_content": null,
            "justify_items": null,
            "left": null,
            "margin": null,
            "max_height": null,
            "max_width": null,
            "min_height": null,
            "min_width": null,
            "object_fit": null,
            "object_position": null,
            "order": null,
            "overflow": null,
            "overflow_x": null,
            "overflow_y": null,
            "padding": null,
            "right": null,
            "top": null,
            "visibility": null,
            "width": null
          }
        },
        "4f57921b6c234eabae3f424afe3c04b5": {
          "model_module": "@jupyter-widgets/controls",
          "model_module_version": "1.5.0",
          "model_name": "CheckboxModel",
          "state": {
            "_dom_classes": [],
            "_model_module": "@jupyter-widgets/controls",
            "_model_module_version": "1.5.0",
            "_model_name": "CheckboxModel",
            "_view_count": null,
            "_view_module": "@jupyter-widgets/controls",
            "_view_module_version": "1.5.0",
            "_view_name": "CheckboxView",
            "description": "Add token as git credential?",
            "description_tooltip": null,
            "disabled": false,
            "indent": true,
            "layout": "IPY_MODEL_f15d2dd70cee40899a34443cd1589e21",
            "style": "IPY_MODEL_b20f5c394c9b4c7e9a7d68c1c1dd89ba",
            "value": true
          }
        },
        "4fed2ab467c94954b8b463b96c751715": {
          "model_module": "@jupyter-widgets/controls",
          "model_module_version": "1.5.0",
          "model_name": "DescriptionStyleModel",
          "state": {
            "_model_module": "@jupyter-widgets/controls",
            "_model_module_version": "1.5.0",
            "_model_name": "DescriptionStyleModel",
            "_view_count": null,
            "_view_module": "@jupyter-widgets/base",
            "_view_module_version": "1.2.0",
            "_view_name": "StyleView",
            "description_width": ""
          }
        },
        "529731f33fb242d9a1d283931beaa70f": {
          "model_module": "@jupyter-widgets/controls",
          "model_module_version": "1.5.0",
          "model_name": "HTMLModel",
          "state": {
            "_dom_classes": [],
            "_model_module": "@jupyter-widgets/controls",
            "_model_module_version": "1.5.0",
            "_model_name": "HTMLModel",
            "_view_count": null,
            "_view_module": "@jupyter-widgets/controls",
            "_view_module_version": "1.5.0",
            "_view_name": "HTMLView",
            "description": "",
            "description_tooltip": null,
            "layout": "IPY_MODEL_d52ee940ddd64d44aa8d08ad032f4225",
            "placeholder": "​",
            "style": "IPY_MODEL_65686043fcb4475baa17734312cc7f7d",
            "value": "\n<b>Pro Tip:</b> If you don't already have one, you can create a dedicated\n'notebooks' token with 'write' access, that you can then easily reuse for all\nnotebooks. </center>"
          }
        },
        "5ae825fa761a4cdab40831ec71624dfa": {
          "model_module": "@jupyter-widgets/controls",
          "model_module_version": "1.5.0",
          "model_name": "DescriptionStyleModel",
          "state": {
            "_model_module": "@jupyter-widgets/controls",
            "_model_module_version": "1.5.0",
            "_model_name": "DescriptionStyleModel",
            "_view_count": null,
            "_view_module": "@jupyter-widgets/base",
            "_view_module_version": "1.2.0",
            "_view_name": "StyleView",
            "description_width": ""
          }
        },
        "613ffc0f9ac74c0fab8f3cb05f9deb43": {
          "model_module": "@jupyter-widgets/base",
          "model_module_version": "1.2.0",
          "model_name": "LayoutModel",
          "state": {
            "_model_module": "@jupyter-widgets/base",
            "_model_module_version": "1.2.0",
            "_model_name": "LayoutModel",
            "_view_count": null,
            "_view_module": "@jupyter-widgets/base",
            "_view_module_version": "1.2.0",
            "_view_name": "LayoutView",
            "align_content": null,
            "align_items": null,
            "align_self": null,
            "border": null,
            "bottom": null,
            "display": null,
            "flex": null,
            "flex_flow": null,
            "grid_area": null,
            "grid_auto_columns": null,
            "grid_auto_flow": null,
            "grid_auto_rows": null,
            "grid_column": null,
            "grid_gap": null,
            "grid_row": null,
            "grid_template_areas": null,
            "grid_template_columns": null,
            "grid_template_rows": null,
            "height": null,
            "justify_content": null,
            "justify_items": null,
            "left": null,
            "margin": null,
            "max_height": null,
            "max_width": null,
            "min_height": null,
            "min_width": null,
            "object_fit": null,
            "object_position": null,
            "order": null,
            "overflow": null,
            "overflow_x": null,
            "overflow_y": null,
            "padding": null,
            "right": null,
            "top": null,
            "visibility": null,
            "width": null
          }
        },
        "65686043fcb4475baa17734312cc7f7d": {
          "model_module": "@jupyter-widgets/controls",
          "model_module_version": "1.5.0",
          "model_name": "DescriptionStyleModel",
          "state": {
            "_model_module": "@jupyter-widgets/controls",
            "_model_module_version": "1.5.0",
            "_model_name": "DescriptionStyleModel",
            "_view_count": null,
            "_view_module": "@jupyter-widgets/base",
            "_view_module_version": "1.2.0",
            "_view_name": "StyleView",
            "description_width": ""
          }
        },
        "68b4590ad1bf4eebb05be97c3445bf11": {
          "model_module": "@jupyter-widgets/base",
          "model_module_version": "1.2.0",
          "model_name": "LayoutModel",
          "state": {
            "_model_module": "@jupyter-widgets/base",
            "_model_module_version": "1.2.0",
            "_model_name": "LayoutModel",
            "_view_count": null,
            "_view_module": "@jupyter-widgets/base",
            "_view_module_version": "1.2.0",
            "_view_name": "LayoutView",
            "align_content": null,
            "align_items": null,
            "align_self": null,
            "border": null,
            "bottom": null,
            "display": null,
            "flex": null,
            "flex_flow": null,
            "grid_area": null,
            "grid_auto_columns": null,
            "grid_auto_flow": null,
            "grid_auto_rows": null,
            "grid_column": null,
            "grid_gap": null,
            "grid_row": null,
            "grid_template_areas": null,
            "grid_template_columns": null,
            "grid_template_rows": null,
            "height": null,
            "justify_content": null,
            "justify_items": null,
            "left": null,
            "margin": null,
            "max_height": null,
            "max_width": null,
            "min_height": null,
            "min_width": null,
            "object_fit": null,
            "object_position": null,
            "order": null,
            "overflow": null,
            "overflow_x": null,
            "overflow_y": null,
            "padding": null,
            "right": null,
            "top": null,
            "visibility": null,
            "width": null
          }
        },
        "6d4a762cf1f847a59c5e2acf27d3780b": {
          "model_module": "@jupyter-widgets/controls",
          "model_module_version": "1.5.0",
          "model_name": "LabelModel",
          "state": {
            "_dom_classes": [],
            "_model_module": "@jupyter-widgets/controls",
            "_model_module_version": "1.5.0",
            "_model_name": "LabelModel",
            "_view_count": null,
            "_view_module": "@jupyter-widgets/controls",
            "_view_module_version": "1.5.0",
            "_view_name": "LabelView",
            "description": "",
            "description_tooltip": null,
            "layout": "IPY_MODEL_cb0cf954d70d4a20b45b6a7a5508d05d",
            "placeholder": "​",
            "style": "IPY_MODEL_174693aa52194cae9bde419572ac117e",
            "value": "Connecting..."
          }
        },
        "6e7be2d51b3b4bd4967a0d0193078629": {
          "model_module": "@jupyter-widgets/base",
          "model_module_version": "1.2.0",
          "model_name": "LayoutModel",
          "state": {
            "_model_module": "@jupyter-widgets/base",
            "_model_module_version": "1.2.0",
            "_model_name": "LayoutModel",
            "_view_count": null,
            "_view_module": "@jupyter-widgets/base",
            "_view_module_version": "1.2.0",
            "_view_name": "LayoutView",
            "align_content": null,
            "align_items": null,
            "align_self": null,
            "border": null,
            "bottom": null,
            "display": null,
            "flex": null,
            "flex_flow": null,
            "grid_area": null,
            "grid_auto_columns": null,
            "grid_auto_flow": null,
            "grid_auto_rows": null,
            "grid_column": null,
            "grid_gap": null,
            "grid_row": null,
            "grid_template_areas": null,
            "grid_template_columns": null,
            "grid_template_rows": null,
            "height": null,
            "justify_content": null,
            "justify_items": null,
            "left": null,
            "margin": null,
            "max_height": null,
            "max_width": null,
            "min_height": null,
            "min_width": null,
            "object_fit": null,
            "object_position": null,
            "order": null,
            "overflow": null,
            "overflow_x": null,
            "overflow_y": null,
            "padding": null,
            "right": null,
            "top": null,
            "visibility": null,
            "width": null
          }
        },
        "7cac4aa1adf84d338e7de9f3ac91bd47": {
          "model_module": "@jupyter-widgets/controls",
          "model_module_version": "1.5.0",
          "model_name": "DescriptionStyleModel",
          "state": {
            "_model_module": "@jupyter-widgets/controls",
            "_model_module_version": "1.5.0",
            "_model_name": "DescriptionStyleModel",
            "_view_count": null,
            "_view_module": "@jupyter-widgets/base",
            "_view_module_version": "1.2.0",
            "_view_name": "StyleView",
            "description_width": ""
          }
        },
        "8087b4ffd55b450ca453fd4c5ffd21f9": {
          "model_module": "@jupyter-widgets/base",
          "model_module_version": "1.2.0",
          "model_name": "LayoutModel",
          "state": {
            "_model_module": "@jupyter-widgets/base",
            "_model_module_version": "1.2.0",
            "_model_name": "LayoutModel",
            "_view_count": null,
            "_view_module": "@jupyter-widgets/base",
            "_view_module_version": "1.2.0",
            "_view_name": "LayoutView",
            "align_content": null,
            "align_items": null,
            "align_self": null,
            "border": null,
            "bottom": null,
            "display": null,
            "flex": null,
            "flex_flow": null,
            "grid_area": null,
            "grid_auto_columns": null,
            "grid_auto_flow": null,
            "grid_auto_rows": null,
            "grid_column": null,
            "grid_gap": null,
            "grid_row": null,
            "grid_template_areas": null,
            "grid_template_columns": null,
            "grid_template_rows": null,
            "height": null,
            "justify_content": null,
            "justify_items": null,
            "left": null,
            "margin": null,
            "max_height": null,
            "max_width": null,
            "min_height": null,
            "min_width": null,
            "object_fit": null,
            "object_position": null,
            "order": null,
            "overflow": null,
            "overflow_x": null,
            "overflow_y": null,
            "padding": null,
            "right": null,
            "top": null,
            "visibility": null,
            "width": null
          }
        },
        "80a1163781ca4b76952de9b2dc3b6fb1": {
          "model_module": "@jupyter-widgets/controls",
          "model_module_version": "1.5.0",
          "model_name": "HBoxModel",
          "state": {
            "_dom_classes": [],
            "_model_module": "@jupyter-widgets/controls",
            "_model_module_version": "1.5.0",
            "_model_name": "HBoxModel",
            "_view_count": null,
            "_view_module": "@jupyter-widgets/controls",
            "_view_module_version": "1.5.0",
            "_view_name": "HBoxView",
            "box_style": "",
            "children": [
              "IPY_MODEL_36adb757251e475b9d854456b6a59a60",
              "IPY_MODEL_cb7635efbf78425e82caafc51e05588d",
              "IPY_MODEL_fadeed4224c44883942b67fee7691241"
            ],
            "layout": "IPY_MODEL_a959a396bdeb4d51b5819ba8ee12be03"
          }
        },
        "8291ca2579ee4c3bbaf3bf34614e865f": {
          "model_module": "@jupyter-widgets/base",
          "model_module_version": "1.2.0",
          "model_name": "LayoutModel",
          "state": {
            "_model_module": "@jupyter-widgets/base",
            "_model_module_version": "1.2.0",
            "_model_name": "LayoutModel",
            "_view_count": null,
            "_view_module": "@jupyter-widgets/base",
            "_view_module_version": "1.2.0",
            "_view_name": "LayoutView",
            "align_content": null,
            "align_items": null,
            "align_self": null,
            "border": null,
            "bottom": null,
            "display": null,
            "flex": null,
            "flex_flow": null,
            "grid_area": null,
            "grid_auto_columns": null,
            "grid_auto_flow": null,
            "grid_auto_rows": null,
            "grid_column": null,
            "grid_gap": null,
            "grid_row": null,
            "grid_template_areas": null,
            "grid_template_columns": null,
            "grid_template_rows": null,
            "height": null,
            "justify_content": null,
            "justify_items": null,
            "left": null,
            "margin": null,
            "max_height": null,
            "max_width": null,
            "min_height": null,
            "min_width": null,
            "object_fit": null,
            "object_position": null,
            "order": null,
            "overflow": null,
            "overflow_x": null,
            "overflow_y": null,
            "padding": null,
            "right": null,
            "top": null,
            "visibility": null,
            "width": null
          }
        },
        "830590bf17d7419c915bfd27aff3b9c3": {
          "model_module": "@jupyter-widgets/base",
          "model_module_version": "1.2.0",
          "model_name": "LayoutModel",
          "state": {
            "_model_module": "@jupyter-widgets/base",
            "_model_module_version": "1.2.0",
            "_model_name": "LayoutModel",
            "_view_count": null,
            "_view_module": "@jupyter-widgets/base",
            "_view_module_version": "1.2.0",
            "_view_name": "LayoutView",
            "align_content": null,
            "align_items": null,
            "align_self": null,
            "border": null,
            "bottom": null,
            "display": null,
            "flex": null,
            "flex_flow": null,
            "grid_area": null,
            "grid_auto_columns": null,
            "grid_auto_flow": null,
            "grid_auto_rows": null,
            "grid_column": null,
            "grid_gap": null,
            "grid_row": null,
            "grid_template_areas": null,
            "grid_template_columns": null,
            "grid_template_rows": null,
            "height": null,
            "justify_content": null,
            "justify_items": null,
            "left": null,
            "margin": null,
            "max_height": null,
            "max_width": null,
            "min_height": null,
            "min_width": null,
            "object_fit": null,
            "object_position": null,
            "order": null,
            "overflow": null,
            "overflow_x": null,
            "overflow_y": null,
            "padding": null,
            "right": null,
            "top": null,
            "visibility": null,
            "width": null
          }
        },
        "8420c288f5e44084af6589d767899664": {
          "model_module": "@jupyter-widgets/controls",
          "model_module_version": "1.5.0",
          "model_name": "VBoxModel",
          "state": {
            "_dom_classes": [],
            "_model_module": "@jupyter-widgets/controls",
            "_model_module_version": "1.5.0",
            "_model_name": "VBoxModel",
            "_view_count": null,
            "_view_module": "@jupyter-widgets/controls",
            "_view_module_version": "1.5.0",
            "_view_name": "VBoxView",
            "box_style": "",
            "children": [
              "IPY_MODEL_ec830e5068ef40a7b596fef9908e9c0b",
              "IPY_MODEL_9f994a6df3b94907a6da46c63209dac2",
              "IPY_MODEL_1ca22e25121b4d36a7a8bd88c6d39efe",
              "IPY_MODEL_3154cd7ba0b841bf909030a40dba671a"
            ],
            "layout": "IPY_MODEL_1b76dafe2da64c1fa55e52a5f83715c9"
          }
        },
        "84fd5763774748eeb36f33dcb4bbe83f": {
          "model_module": "@jupyter-widgets/base",
          "model_module_version": "1.2.0",
          "model_name": "LayoutModel",
          "state": {
            "_model_module": "@jupyter-widgets/base",
            "_model_module_version": "1.2.0",
            "_model_name": "LayoutModel",
            "_view_count": null,
            "_view_module": "@jupyter-widgets/base",
            "_view_module_version": "1.2.0",
            "_view_name": "LayoutView",
            "align_content": null,
            "align_items": null,
            "align_self": null,
            "border": null,
            "bottom": null,
            "display": null,
            "flex": null,
            "flex_flow": null,
            "grid_area": null,
            "grid_auto_columns": null,
            "grid_auto_flow": null,
            "grid_auto_rows": null,
            "grid_column": null,
            "grid_gap": null,
            "grid_row": null,
            "grid_template_areas": null,
            "grid_template_columns": null,
            "grid_template_rows": null,
            "height": null,
            "justify_content": null,
            "justify_items": null,
            "left": null,
            "margin": null,
            "max_height": null,
            "max_width": null,
            "min_height": null,
            "min_width": null,
            "object_fit": null,
            "object_position": null,
            "order": null,
            "overflow": null,
            "overflow_x": null,
            "overflow_y": null,
            "padding": null,
            "right": null,
            "top": null,
            "visibility": null,
            "width": null
          }
        },
        "89582782ab634fd1a59994272f817d00": {
          "model_module": "@jupyter-widgets/controls",
          "model_module_version": "1.5.0",
          "model_name": "ProgressStyleModel",
          "state": {
            "_model_module": "@jupyter-widgets/controls",
            "_model_module_version": "1.5.0",
            "_model_name": "ProgressStyleModel",
            "_view_count": null,
            "_view_module": "@jupyter-widgets/base",
            "_view_module_version": "1.2.0",
            "_view_name": "StyleView",
            "bar_color": null,
            "description_width": ""
          }
        },
        "8cecf94197a040e88791faddd5df7698": {
          "model_module": "@jupyter-widgets/controls",
          "model_module_version": "1.5.0",
          "model_name": "ButtonStyleModel",
          "state": {
            "_model_module": "@jupyter-widgets/controls",
            "_model_module_version": "1.5.0",
            "_model_name": "ButtonStyleModel",
            "_view_count": null,
            "_view_module": "@jupyter-widgets/base",
            "_view_module_version": "1.2.0",
            "_view_name": "StyleView",
            "button_color": null,
            "font_weight": ""
          }
        },
        "8cf69353a540492a8f81795d635e9069": {
          "model_module": "@jupyter-widgets/controls",
          "model_module_version": "1.5.0",
          "model_name": "DescriptionStyleModel",
          "state": {
            "_model_module": "@jupyter-widgets/controls",
            "_model_module_version": "1.5.0",
            "_model_name": "DescriptionStyleModel",
            "_view_count": null,
            "_view_module": "@jupyter-widgets/base",
            "_view_module_version": "1.2.0",
            "_view_name": "StyleView",
            "description_width": ""
          }
        },
        "90ac8ccbb2c447b79064050316b4fa1e": {
          "model_module": "@jupyter-widgets/controls",
          "model_module_version": "1.5.0",
          "model_name": "DescriptionStyleModel",
          "state": {
            "_model_module": "@jupyter-widgets/controls",
            "_model_module_version": "1.5.0",
            "_model_name": "DescriptionStyleModel",
            "_view_count": null,
            "_view_module": "@jupyter-widgets/base",
            "_view_module_version": "1.2.0",
            "_view_name": "StyleView",
            "description_width": ""
          }
        },
        "95828bd4ddd54be4bf441952d22ae080": {
          "model_module": "@jupyter-widgets/base",
          "model_module_version": "1.2.0",
          "model_name": "LayoutModel",
          "state": {
            "_model_module": "@jupyter-widgets/base",
            "_model_module_version": "1.2.0",
            "_model_name": "LayoutModel",
            "_view_count": null,
            "_view_module": "@jupyter-widgets/base",
            "_view_module_version": "1.2.0",
            "_view_name": "LayoutView",
            "align_content": null,
            "align_items": null,
            "align_self": null,
            "border": null,
            "bottom": null,
            "display": null,
            "flex": null,
            "flex_flow": null,
            "grid_area": null,
            "grid_auto_columns": null,
            "grid_auto_flow": null,
            "grid_auto_rows": null,
            "grid_column": null,
            "grid_gap": null,
            "grid_row": null,
            "grid_template_areas": null,
            "grid_template_columns": null,
            "grid_template_rows": null,
            "height": null,
            "justify_content": null,
            "justify_items": null,
            "left": null,
            "margin": null,
            "max_height": null,
            "max_width": null,
            "min_height": null,
            "min_width": null,
            "object_fit": null,
            "object_position": null,
            "order": null,
            "overflow": null,
            "overflow_x": null,
            "overflow_y": null,
            "padding": null,
            "right": null,
            "top": null,
            "visibility": null,
            "width": null
          }
        },
        "97aba788d25a48bb9aed50f0802d76f0": {
          "model_module": "@jupyter-widgets/controls",
          "model_module_version": "1.5.0",
          "model_name": "FloatProgressModel",
          "state": {
            "_dom_classes": [],
            "_model_module": "@jupyter-widgets/controls",
            "_model_module_version": "1.5.0",
            "_model_name": "FloatProgressModel",
            "_view_count": null,
            "_view_module": "@jupyter-widgets/controls",
            "_view_module_version": "1.5.0",
            "_view_name": "ProgressView",
            "bar_style": "success",
            "description": "",
            "description_tooltip": null,
            "layout": "IPY_MODEL_84fd5763774748eeb36f33dcb4bbe83f",
            "max": 2,
            "min": 0,
            "orientation": "horizontal",
            "style": "IPY_MODEL_89582782ab634fd1a59994272f817d00",
            "value": 2
          }
        },
        "97bca2fe9b06436ab7174a8e0b921fcf": {
          "model_module": "@jupyter-widgets/controls",
          "model_module_version": "1.5.0",
          "model_name": "ButtonModel",
          "state": {
            "_dom_classes": [],
            "_model_module": "@jupyter-widgets/controls",
            "_model_module_version": "1.5.0",
            "_model_name": "ButtonModel",
            "_view_count": null,
            "_view_module": "@jupyter-widgets/controls",
            "_view_module_version": "1.5.0",
            "_view_name": "ButtonView",
            "button_style": "",
            "description": "Login",
            "disabled": false,
            "icon": "",
            "layout": "IPY_MODEL_374c8537fa7443d4aa6f6b8047fc090b",
            "style": "IPY_MODEL_8cecf94197a040e88791faddd5df7698",
            "tooltip": ""
          }
        },
        "9802c5078cb245a793c8ab8a97e370ca": {
          "model_module": "@jupyter-widgets/base",
          "model_module_version": "1.2.0",
          "model_name": "LayoutModel",
          "state": {
            "_model_module": "@jupyter-widgets/base",
            "_model_module_version": "1.2.0",
            "_model_name": "LayoutModel",
            "_view_count": null,
            "_view_module": "@jupyter-widgets/base",
            "_view_module_version": "1.2.0",
            "_view_name": "LayoutView",
            "align_content": null,
            "align_items": null,
            "align_self": null,
            "border": null,
            "bottom": null,
            "display": null,
            "flex": null,
            "flex_flow": null,
            "grid_area": null,
            "grid_auto_columns": null,
            "grid_auto_flow": null,
            "grid_auto_rows": null,
            "grid_column": null,
            "grid_gap": null,
            "grid_row": null,
            "grid_template_areas": null,
            "grid_template_columns": null,
            "grid_template_rows": null,
            "height": null,
            "justify_content": null,
            "justify_items": null,
            "left": null,
            "margin": null,
            "max_height": null,
            "max_width": null,
            "min_height": null,
            "min_width": null,
            "object_fit": null,
            "object_position": null,
            "order": null,
            "overflow": null,
            "overflow_x": null,
            "overflow_y": null,
            "padding": null,
            "right": null,
            "top": null,
            "visibility": null,
            "width": null
          }
        },
        "9a504923ea28417897157cc07065fe26": {
          "model_module": "@jupyter-widgets/controls",
          "model_module_version": "1.5.0",
          "model_name": "HBoxModel",
          "state": {
            "_dom_classes": [],
            "_model_module": "@jupyter-widgets/controls",
            "_model_module_version": "1.5.0",
            "_model_name": "HBoxModel",
            "_view_count": null,
            "_view_module": "@jupyter-widgets/controls",
            "_view_module_version": "1.5.0",
            "_view_name": "HBoxView",
            "box_style": "",
            "children": [
              "IPY_MODEL_09dd4d814d1a43719a4dfd145ffe5d1d",
              "IPY_MODEL_97aba788d25a48bb9aed50f0802d76f0",
              "IPY_MODEL_0340296c8770497d84982352c35708ea"
            ],
            "layout": "IPY_MODEL_830590bf17d7419c915bfd27aff3b9c3"
          }
        },
        "9b2f731950544dc1be7a5671fc1efe63": {
          "model_module": "@jupyter-widgets/output",
          "model_module_version": "1.0.0",
          "model_name": "OutputModel",
          "state": {
            "_dom_classes": [],
            "_model_module": "@jupyter-widgets/output",
            "_model_module_version": "1.0.0",
            "_model_name": "OutputModel",
            "_view_count": null,
            "_view_module": "@jupyter-widgets/output",
            "_view_module_version": "1.0.0",
            "_view_name": "OutputView",
            "layout": "IPY_MODEL_95828bd4ddd54be4bf441952d22ae080",
            "msg_id": "",
            "outputs": [
              {
                "data": {
                  "text/html": "<pre style=\"white-space:pre;overflow-x:auto;line-height:normal;font-family:Menlo,'DejaVu Sans Mono',consolas,'Courier New',monospace\">Applying Weight Compression <span style=\"color: #729c1f; text-decoration-color: #729c1f\">━━━━━━━━━━━━━━━━━━━━━━━━━━━━━━━━━━━━━━━━━━━━━━━━━━━━━━</span> <span style=\"color: #800080; text-decoration-color: #800080\">100%</span> <span style=\"color: #0068b5; text-decoration-color: #0068b5\">226/226</span> • <span style=\"color: #0068b5; text-decoration-color: #0068b5\">0:03:46</span> • <span style=\"color: #0068b5; text-decoration-color: #0068b5\">0:00:00</span>\n</pre>\n",
                  "text/plain": "Applying Weight Compression \u001b[38;2;114;156;31m━━━━━━━━━━━━━━━━━━━━━━━━━━━━━━━━━━━━━━━━━━━━━━━━━━━━━━\u001b[0m \u001b[35m100%\u001b[0m \u001b[38;2;0;104;181m226/226\u001b[0m • \u001b[38;2;0;104;181m0:03:46\u001b[0m • \u001b[38;2;0;104;181m0:00:00\u001b[0m\n"
                },
                "metadata": {},
                "output_type": "display_data"
              }
            ]
          }
        },
        "9e5afb290c1b4320a95d328c74566123": {
          "model_module": "@jupyter-widgets/output",
          "model_module_version": "1.0.0",
          "model_name": "OutputModel",
          "state": {
            "_dom_classes": [],
            "_model_module": "@jupyter-widgets/output",
            "_model_module_version": "1.0.0",
            "_model_name": "OutputModel",
            "_view_count": null,
            "_view_module": "@jupyter-widgets/output",
            "_view_module_version": "1.0.0",
            "_view_name": "OutputView",
            "layout": "IPY_MODEL_df213f2f24d347a1aedf121c8d071345",
            "msg_id": "",
            "outputs": [
              {
                "data": {
                  "text/html": "<pre style=\"white-space:pre;overflow-x:auto;line-height:normal;font-family:Menlo,'DejaVu Sans Mono',consolas,'Courier New',monospace\">Mixed-Precision assignment <span style=\"color: #729c1f; text-decoration-color: #729c1f\">━━━━━━━━━━━━━━━━━━━━━━━━━━━━━━━━━━━━━━━━━━━━━━━━━━━━━━━</span> <span style=\"color: #800080; text-decoration-color: #800080\">100%</span> <span style=\"color: #0068b5; text-decoration-color: #0068b5\">224/224</span> • <span style=\"color: #0068b5; text-decoration-color: #0068b5\">0:04:06</span> • <span style=\"color: #0068b5; text-decoration-color: #0068b5\">0:00:00</span>\n</pre>\n",
                  "text/plain": "Mixed-Precision assignment \u001b[38;2;114;156;31m━━━━━━━━━━━━━━━━━━━━━━━━━━━━━━━━━━━━━━━━━━━━━━━━━━━━━━━\u001b[0m \u001b[35m100%\u001b[0m \u001b[38;2;0;104;181m224/224\u001b[0m • \u001b[38;2;0;104;181m0:04:06\u001b[0m • \u001b[38;2;0;104;181m0:00:00\u001b[0m\n"
                },
                "metadata": {},
                "output_type": "display_data"
              }
            ]
          }
        },
        "9f994a6df3b94907a6da46c63209dac2": {
          "model_module": "@jupyter-widgets/controls",
          "model_module_version": "1.5.0",
          "model_name": "LabelModel",
          "state": {
            "_dom_classes": [],
            "_model_module": "@jupyter-widgets/controls",
            "_model_module_version": "1.5.0",
            "_model_name": "LabelModel",
            "_view_count": null,
            "_view_module": "@jupyter-widgets/controls",
            "_view_module_version": "1.5.0",
            "_view_name": "LabelView",
            "description": "",
            "description_tooltip": null,
            "layout": "IPY_MODEL_446c4a71c2574673b4f54d06ff24a4ba",
            "placeholder": "​",
            "style": "IPY_MODEL_12e23151dcc74313be8c7e02b0f4ea05",
            "value": "Your token has been saved in your configured git credential helpers (store)."
          }
        },
        "a03258e8bcb241b2be89ac5c03fba9fe": {
          "model_module": "@jupyter-widgets/controls",
          "model_module_version": "1.5.0",
          "model_name": "HTMLModel",
          "state": {
            "_dom_classes": [],
            "_model_module": "@jupyter-widgets/controls",
            "_model_module_version": "1.5.0",
            "_model_name": "HTMLModel",
            "_view_count": null,
            "_view_module": "@jupyter-widgets/controls",
            "_view_module_version": "1.5.0",
            "_view_name": "HTMLView",
            "description": "",
            "description_tooltip": null,
            "layout": "IPY_MODEL_8087b4ffd55b450ca453fd4c5ffd21f9",
            "placeholder": "​",
            "style": "IPY_MODEL_ee6313eca4be4f6b9d386b2c27624452",
            "value": "<center> <img\nsrc=https://huggingface.co/front/assets/huggingface_logo-noborder.svg\nalt='Hugging Face'> <br> Copy a token from <a\nhref=\"https://huggingface.co/settings/tokens\" target=\"_blank\">your Hugging Face\ntokens page</a> and paste it below. <br> Immediately click login after copying\nyour token or it might be stored in plain text in this notebook file. </center>"
          }
        },
        "a0f81e62e3f74e418fae0c9e08830f2a": {
          "model_module": "@jupyter-widgets/controls",
          "model_module_version": "1.5.0",
          "model_name": "DescriptionStyleModel",
          "state": {
            "_model_module": "@jupyter-widgets/controls",
            "_model_module_version": "1.5.0",
            "_model_name": "DescriptionStyleModel",
            "_view_count": null,
            "_view_module": "@jupyter-widgets/base",
            "_view_module_version": "1.2.0",
            "_view_name": "StyleView",
            "description_width": ""
          }
        },
        "a959a396bdeb4d51b5819ba8ee12be03": {
          "model_module": "@jupyter-widgets/base",
          "model_module_version": "1.2.0",
          "model_name": "LayoutModel",
          "state": {
            "_model_module": "@jupyter-widgets/base",
            "_model_module_version": "1.2.0",
            "_model_name": "LayoutModel",
            "_view_count": null,
            "_view_module": "@jupyter-widgets/base",
            "_view_module_version": "1.2.0",
            "_view_name": "LayoutView",
            "align_content": null,
            "align_items": null,
            "align_self": null,
            "border": null,
            "bottom": null,
            "display": null,
            "flex": null,
            "flex_flow": null,
            "grid_area": null,
            "grid_auto_columns": null,
            "grid_auto_flow": null,
            "grid_auto_rows": null,
            "grid_column": null,
            "grid_gap": null,
            "grid_row": null,
            "grid_template_areas": null,
            "grid_template_columns": null,
            "grid_template_rows": null,
            "height": null,
            "justify_content": null,
            "justify_items": null,
            "left": null,
            "margin": null,
            "max_height": null,
            "max_width": null,
            "min_height": null,
            "min_width": null,
            "object_fit": null,
            "object_position": null,
            "order": null,
            "overflow": null,
            "overflow_x": null,
            "overflow_y": null,
            "padding": null,
            "right": null,
            "top": null,
            "visibility": null,
            "width": null
          }
        },
        "b20f5c394c9b4c7e9a7d68c1c1dd89ba": {
          "model_module": "@jupyter-widgets/controls",
          "model_module_version": "1.5.0",
          "model_name": "DescriptionStyleModel",
          "state": {
            "_model_module": "@jupyter-widgets/controls",
            "_model_module_version": "1.5.0",
            "_model_name": "DescriptionStyleModel",
            "_view_count": null,
            "_view_module": "@jupyter-widgets/base",
            "_view_module_version": "1.2.0",
            "_view_name": "StyleView",
            "description_width": ""
          }
        },
        "c0c8f56586684c95a71f5926b1ecc4fb": {
          "model_module": "@jupyter-widgets/controls",
          "model_module_version": "1.5.0",
          "model_name": "DescriptionStyleModel",
          "state": {
            "_model_module": "@jupyter-widgets/controls",
            "_model_module_version": "1.5.0",
            "_model_name": "DescriptionStyleModel",
            "_view_count": null,
            "_view_module": "@jupyter-widgets/base",
            "_view_module_version": "1.2.0",
            "_view_name": "StyleView",
            "description_width": ""
          }
        },
        "c354400f56d84c19ab16fd9533bc4abf": {
          "model_module": "@jupyter-widgets/controls",
          "model_module_version": "1.5.0",
          "model_name": "ProgressStyleModel",
          "state": {
            "_model_module": "@jupyter-widgets/controls",
            "_model_module_version": "1.5.0",
            "_model_name": "ProgressStyleModel",
            "_view_count": null,
            "_view_module": "@jupyter-widgets/base",
            "_view_module_version": "1.2.0",
            "_view_name": "StyleView",
            "bar_color": null,
            "description_width": ""
          }
        },
        "cb0cf954d70d4a20b45b6a7a5508d05d": {
          "model_module": "@jupyter-widgets/base",
          "model_module_version": "1.2.0",
          "model_name": "LayoutModel",
          "state": {
            "_model_module": "@jupyter-widgets/base",
            "_model_module_version": "1.2.0",
            "_model_name": "LayoutModel",
            "_view_count": null,
            "_view_module": "@jupyter-widgets/base",
            "_view_module_version": "1.2.0",
            "_view_name": "LayoutView",
            "align_content": null,
            "align_items": null,
            "align_self": null,
            "border": null,
            "bottom": null,
            "display": null,
            "flex": null,
            "flex_flow": null,
            "grid_area": null,
            "grid_auto_columns": null,
            "grid_auto_flow": null,
            "grid_auto_rows": null,
            "grid_column": null,
            "grid_gap": null,
            "grid_row": null,
            "grid_template_areas": null,
            "grid_template_columns": null,
            "grid_template_rows": null,
            "height": null,
            "justify_content": null,
            "justify_items": null,
            "left": null,
            "margin": null,
            "max_height": null,
            "max_width": null,
            "min_height": null,
            "min_width": null,
            "object_fit": null,
            "object_position": null,
            "order": null,
            "overflow": null,
            "overflow_x": null,
            "overflow_y": null,
            "padding": null,
            "right": null,
            "top": null,
            "visibility": null,
            "width": null
          }
        },
        "cb7635efbf78425e82caafc51e05588d": {
          "model_module": "@jupyter-widgets/controls",
          "model_module_version": "1.5.0",
          "model_name": "FloatProgressModel",
          "state": {
            "_dom_classes": [],
            "_model_module": "@jupyter-widgets/controls",
            "_model_module_version": "1.5.0",
            "_model_name": "FloatProgressModel",
            "_view_count": null,
            "_view_module": "@jupyter-widgets/controls",
            "_view_module_version": "1.5.0",
            "_view_name": "ProgressView",
            "bar_style": "",
            "description": "",
            "description_tooltip": null,
            "layout": "IPY_MODEL_48199a26cd8047acbe897c6600919b67",
            "max": 4,
            "min": 0,
            "orientation": "horizontal",
            "style": "IPY_MODEL_c354400f56d84c19ab16fd9533bc4abf",
            "value": 1
          }
        },
        "d52ee940ddd64d44aa8d08ad032f4225": {
          "model_module": "@jupyter-widgets/base",
          "model_module_version": "1.2.0",
          "model_name": "LayoutModel",
          "state": {
            "_model_module": "@jupyter-widgets/base",
            "_model_module_version": "1.2.0",
            "_model_name": "LayoutModel",
            "_view_count": null,
            "_view_module": "@jupyter-widgets/base",
            "_view_module_version": "1.2.0",
            "_view_name": "LayoutView",
            "align_content": null,
            "align_items": null,
            "align_self": null,
            "border": null,
            "bottom": null,
            "display": null,
            "flex": null,
            "flex_flow": null,
            "grid_area": null,
            "grid_auto_columns": null,
            "grid_auto_flow": null,
            "grid_auto_rows": null,
            "grid_column": null,
            "grid_gap": null,
            "grid_row": null,
            "grid_template_areas": null,
            "grid_template_columns": null,
            "grid_template_rows": null,
            "height": null,
            "justify_content": null,
            "justify_items": null,
            "left": null,
            "margin": null,
            "max_height": null,
            "max_width": null,
            "min_height": null,
            "min_width": null,
            "object_fit": null,
            "object_position": null,
            "order": null,
            "overflow": null,
            "overflow_x": null,
            "overflow_y": null,
            "padding": null,
            "right": null,
            "top": null,
            "visibility": null,
            "width": null
          }
        },
        "dccf73bd549b4e25ae1da68d0f3931fc": {
          "model_module": "@jupyter-widgets/base",
          "model_module_version": "1.2.0",
          "model_name": "LayoutModel",
          "state": {
            "_model_module": "@jupyter-widgets/base",
            "_model_module_version": "1.2.0",
            "_model_name": "LayoutModel",
            "_view_count": null,
            "_view_module": "@jupyter-widgets/base",
            "_view_module_version": "1.2.0",
            "_view_name": "LayoutView",
            "align_content": null,
            "align_items": null,
            "align_self": null,
            "border": null,
            "bottom": null,
            "display": null,
            "flex": null,
            "flex_flow": null,
            "grid_area": null,
            "grid_auto_columns": null,
            "grid_auto_flow": null,
            "grid_auto_rows": null,
            "grid_column": null,
            "grid_gap": null,
            "grid_row": null,
            "grid_template_areas": null,
            "grid_template_columns": null,
            "grid_template_rows": null,
            "height": null,
            "justify_content": null,
            "justify_items": null,
            "left": null,
            "margin": null,
            "max_height": null,
            "max_width": null,
            "min_height": null,
            "min_width": null,
            "object_fit": null,
            "object_position": null,
            "order": null,
            "overflow": null,
            "overflow_x": null,
            "overflow_y": null,
            "padding": null,
            "right": null,
            "top": null,
            "visibility": null,
            "width": null
          }
        },
        "df213f2f24d347a1aedf121c8d071345": {
          "model_module": "@jupyter-widgets/base",
          "model_module_version": "1.2.0",
          "model_name": "LayoutModel",
          "state": {
            "_model_module": "@jupyter-widgets/base",
            "_model_module_version": "1.2.0",
            "_model_name": "LayoutModel",
            "_view_count": null,
            "_view_module": "@jupyter-widgets/base",
            "_view_module_version": "1.2.0",
            "_view_name": "LayoutView",
            "align_content": null,
            "align_items": null,
            "align_self": null,
            "border": null,
            "bottom": null,
            "display": null,
            "flex": null,
            "flex_flow": null,
            "grid_area": null,
            "grid_auto_columns": null,
            "grid_auto_flow": null,
            "grid_auto_rows": null,
            "grid_column": null,
            "grid_gap": null,
            "grid_row": null,
            "grid_template_areas": null,
            "grid_template_columns": null,
            "grid_template_rows": null,
            "height": null,
            "justify_content": null,
            "justify_items": null,
            "left": null,
            "margin": null,
            "max_height": null,
            "max_width": null,
            "min_height": null,
            "min_width": null,
            "object_fit": null,
            "object_position": null,
            "order": null,
            "overflow": null,
            "overflow_x": null,
            "overflow_y": null,
            "padding": null,
            "right": null,
            "top": null,
            "visibility": null,
            "width": null
          }
        },
        "e23e8b6170294d4999b90a293da45b19": {
          "model_module": "@jupyter-widgets/base",
          "model_module_version": "1.2.0",
          "model_name": "LayoutModel",
          "state": {
            "_model_module": "@jupyter-widgets/base",
            "_model_module_version": "1.2.0",
            "_model_name": "LayoutModel",
            "_view_count": null,
            "_view_module": "@jupyter-widgets/base",
            "_view_module_version": "1.2.0",
            "_view_name": "LayoutView",
            "align_content": null,
            "align_items": null,
            "align_self": null,
            "border": null,
            "bottom": null,
            "display": null,
            "flex": null,
            "flex_flow": null,
            "grid_area": null,
            "grid_auto_columns": null,
            "grid_auto_flow": null,
            "grid_auto_rows": null,
            "grid_column": null,
            "grid_gap": null,
            "grid_row": null,
            "grid_template_areas": null,
            "grid_template_columns": null,
            "grid_template_rows": null,
            "height": null,
            "justify_content": null,
            "justify_items": null,
            "left": null,
            "margin": null,
            "max_height": null,
            "max_width": null,
            "min_height": null,
            "min_width": null,
            "object_fit": null,
            "object_position": null,
            "order": null,
            "overflow": null,
            "overflow_x": null,
            "overflow_y": null,
            "padding": null,
            "right": null,
            "top": null,
            "visibility": null,
            "width": null
          }
        },
        "ec830e5068ef40a7b596fef9908e9c0b": {
          "model_module": "@jupyter-widgets/controls",
          "model_module_version": "1.5.0",
          "model_name": "LabelModel",
          "state": {
            "_dom_classes": [],
            "_model_module": "@jupyter-widgets/controls",
            "_model_module_version": "1.5.0",
            "_model_name": "LabelModel",
            "_view_count": null,
            "_view_module": "@jupyter-widgets/controls",
            "_view_module_version": "1.5.0",
            "_view_name": "LabelView",
            "description": "",
            "description_tooltip": null,
            "layout": "IPY_MODEL_68b4590ad1bf4eebb05be97c3445bf11",
            "placeholder": "​",
            "style": "IPY_MODEL_90ac8ccbb2c447b79064050316b4fa1e",
            "value": "Token is valid (permission: write)."
          }
        },
        "ee6313eca4be4f6b9d386b2c27624452": {
          "model_module": "@jupyter-widgets/controls",
          "model_module_version": "1.5.0",
          "model_name": "DescriptionStyleModel",
          "state": {
            "_model_module": "@jupyter-widgets/controls",
            "_model_module_version": "1.5.0",
            "_model_name": "DescriptionStyleModel",
            "_view_count": null,
            "_view_module": "@jupyter-widgets/base",
            "_view_module_version": "1.2.0",
            "_view_name": "StyleView",
            "description_width": ""
          }
        },
        "f15d2dd70cee40899a34443cd1589e21": {
          "model_module": "@jupyter-widgets/base",
          "model_module_version": "1.2.0",
          "model_name": "LayoutModel",
          "state": {
            "_model_module": "@jupyter-widgets/base",
            "_model_module_version": "1.2.0",
            "_model_name": "LayoutModel",
            "_view_count": null,
            "_view_module": "@jupyter-widgets/base",
            "_view_module_version": "1.2.0",
            "_view_name": "LayoutView",
            "align_content": null,
            "align_items": null,
            "align_self": null,
            "border": null,
            "bottom": null,
            "display": null,
            "flex": null,
            "flex_flow": null,
            "grid_area": null,
            "grid_auto_columns": null,
            "grid_auto_flow": null,
            "grid_auto_rows": null,
            "grid_column": null,
            "grid_gap": null,
            "grid_row": null,
            "grid_template_areas": null,
            "grid_template_columns": null,
            "grid_template_rows": null,
            "height": null,
            "justify_content": null,
            "justify_items": null,
            "left": null,
            "margin": null,
            "max_height": null,
            "max_width": null,
            "min_height": null,
            "min_width": null,
            "object_fit": null,
            "object_position": null,
            "order": null,
            "overflow": null,
            "overflow_x": null,
            "overflow_y": null,
            "padding": null,
            "right": null,
            "top": null,
            "visibility": null,
            "width": null
          }
        },
        "fadeed4224c44883942b67fee7691241": {
          "model_module": "@jupyter-widgets/controls",
          "model_module_version": "1.5.0",
          "model_name": "HTMLModel",
          "state": {
            "_dom_classes": [],
            "_model_module": "@jupyter-widgets/controls",
            "_model_module_version": "1.5.0",
            "_model_name": "HTMLModel",
            "_view_count": null,
            "_view_module": "@jupyter-widgets/controls",
            "_view_module_version": "1.5.0",
            "_view_name": "HTMLView",
            "description": "",
            "description_tooltip": null,
            "layout": "IPY_MODEL_6e7be2d51b3b4bd4967a0d0193078629",
            "placeholder": "​",
            "style": "IPY_MODEL_c0c8f56586684c95a71f5926b1ecc4fb",
            "value": " 1/4 [00:27&lt;01:22, 27.51s/it]"
          }
        }
      }
    }
  },
  "nbformat": 4,
  "nbformat_minor": 0
}
