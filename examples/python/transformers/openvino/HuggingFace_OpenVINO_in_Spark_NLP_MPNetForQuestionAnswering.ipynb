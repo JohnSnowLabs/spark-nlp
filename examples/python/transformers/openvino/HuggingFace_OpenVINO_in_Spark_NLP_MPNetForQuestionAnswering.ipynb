{
 "cells": [
  {
   "cell_type": "markdown",
   "metadata": {
    "id": "_V5XcDCnVgSi"
   },
   "source": [
    "![JohnSnowLabs](https://sparknlp.org/assets/images/logo.png)\n",
    "\n",
    "[![Open In Colab](https://colab.research.google.com/assets/colab-badge.svg)](https://colab.research.google.com/github/JohnSnowLabs/spark-nlp/blob/master/examples/python/transformers/openvino/HuggingFace_OpenVINO_in_Spark_NLP_MPNetForQuestionAnswering.ipynb)\n",
    "\n",
    "# Import OpenVINO MPNetForQuestionAnswering models from HuggingFace 🤗 into Spark NLP 🚀\n",
    "\n",
    "This notebook provides a detailed walkthrough on optimizing and exporting MPNetForQuestionAnswering models from HuggingFace for use in Spark NLP, leveraging the various tools provided in the [Intel OpenVINO toolkit](https://www.intel.com/content/www/us/en/developer/tools/openvino-toolkit/overview.html) ecosystem.\n",
    "\n",
    "Let's keep in mind a few things before we start 😊\n",
    "\n",
    "- OpenVINO support was introduced in  `Spark NLP 5.4.0`, enabling high performance inference for models. Please make sure you have upgraded to the latest Spark NLP release.\n",
    "- You can import models for MPNetForQuestionAnswering from MPNetForQuestionAnswering   and they have to be in `Question Answering` category."
   ]
  },
  {
   "cell_type": "markdown",
   "metadata": {
    "id": "aghasVppVgSk"
   },
   "source": [
    "## 1. Export and Save the HuggingFace model"
   ]
  },
  {
   "cell_type": "markdown",
   "metadata": {
    "id": "be4HsTDMVgSk"
   },
   "source": [
    "- Let's install `transformers` and `openvino` packages with other dependencies. You don't need `openvino` to be installed for Spark NLP, however, we need it to load and save models from HuggingFace.\n",
    "- We lock `transformers` on version `4.48.3`. This doesn't mean it won't work with the future releases, but we wanted you to know which versions have been tested successfully."
   ]
  },
  {
   "cell_type": "code",
   "execution_count": null,
   "metadata": {
    "colab": {
     "base_uri": "https://localhost:8080/"
    },
    "id": "-7L-2ZWUVgSl",
    "outputId": "8f9a60d8-fbac-4190-9a62-878827e60bad"
   },
   "outputs": [],
   "source": [
    "!pip install -q --upgrade transformers==4.48.3 optimum[openvino]"
   ]
  },
  {
   "cell_type": "markdown",
   "metadata": {
    "id": "vI7uz_6hVgSl"
   },
   "source": [
    "[Optimum Intel](https://github.com/huggingface/optimum-intel?tab=readme-ov-file#openvino) is the interface between the Transformers library and the various model optimization and acceleration tools provided by Intel. HuggingFace models loaded with optimum-intel are automatically optimized for OpenVINO, while being compatible with the Transformers API.\n",
    "- To load a HuggingFace model directly for inference/export, just replace the `AutoModelForXxx` class with the corresponding `OVModelForXxx` class. We can use this to import and export OpenVINO models with `from_pretrained` and `save_pretrained`.\n",
    "- By setting `export=True`, the source model is converted to OpenVINO IR format on the fly.\n",
    "- We'll use [haddadalwi/multi-qa-mpnet-base-dot-v1-finetuned-squad2-all](https://huggingface.co/haddadalwi/multi-qa-mpnet-base-dot-v1-finetuned-squad2-all) model from HuggingFace as an example and load it as a `OVModelForQuestionAnswering`, representing an OpenVINO model.\n",
    "- In addition to the OVModelForQuestionAnswering model, we also need to save the `AutoTokenizer`. This is the same for every model, these are assets (saved in `/assets`) needed for tokenization inside Spark NLP."
   ]
  },
  {
   "cell_type": "code",
   "execution_count": 2,
   "metadata": {
    "colab": {
     "base_uri": "https://localhost:8080/",
     "height": 467,
     "referenced_widgets": [
      "e0fdc06972434573bc83da9dff719b2a",
      "357f6ec52b444656b53eb204c9f1c632",
      "52bf66f5b44d44f98071ce4ec44d2f90",
      "aa66b32c7f6042ef9158495467e5a6d2",
      "3fe08cd145224317bd57c53347358ea9",
      "90146914d40c416fb83d55938fc17aba",
      "fa46410197a74808aedb88c4252c6701",
      "cbb701a4c1af46a89c62bf611cd00912",
      "0c190e0047ae40ef88ac9bf202d1f789",
      "c970b410f0c9453982217e8cd7f3faa3",
      "20a3801ed76c4c76bc95cc84132f50f2",
      "f7bf257a9c44491aaa141f2142db5a32",
      "74291c8182f24261886b4e7346e04d3c",
      "00b6515c5bc241389ce03591b5edc814",
      "c2291962ae724a0393570a99ab08026b",
      "56ba0dc9ec3244a5a1eaa4bd246af1fb",
      "d69f6602b8d34c7886bf16d93cffe764",
      "4cba56de85ba4cd0978caec222b32ed2",
      "3e25a051fd9149d4af23bafae18683fd",
      "b716a49f7c87425b9cf2238ceb251358",
      "c6cec9a546f9455ca9cab783de6f3085",
      "a2cf671860d84d4da791fca89abb33d3",
      "c9ef322cc9274b71860a673cbc165040",
      "650b8a9f8d5e4a998d0492a74f04013a",
      "fd077a86d3a94e33b39dfff3bbc60d17",
      "27d7f2078840481193f81dc46a1904d6",
      "fe455adeb5af480e96dda411f870a19f",
      "b0602be1307b487db37818baa62883a6",
      "c98458c0115845a3af329488ce7e3446",
      "f93da10a6ab64418ad8bac5df4ec447a",
      "89a95c7260ff4fd98328760094389e6e",
      "f445701e31be4616993588968eb6ebe7",
      "1d0a1913d7c149438df8eba5a1295ff8",
      "54117c8f6a2b45059f53a211609f9fa2",
      "2f6ac54f78094f51be7d3af96d5dacab",
      "6ea1174abe544aaaba4bc95535c4f1d0",
      "f3ce84f16c5a4f3ba23d8d5cf2bddd69",
      "3faabf7f3ca64e4ab4b148fac53270de",
      "2d8e719ec36c41ea98e13458879d845c",
      "69fb4639e046498f8349b79c0bf55238",
      "227c3888e7c2449c8fde05b852ae8594",
      "6ba661fa15214deebd409855628515e4",
      "f47f77b2a6264b5894254b87a9172e9a",
      "5a370dc5fb214350ae8b3edc632128de",
      "5128c68468af4c8893cee8bf21772b4b",
      "44c9fa608344402ab38f8c0931a3c910",
      "2bf322d85817476882d5ed0d247e37e0",
      "66a9a79f0b65443bb106e81300a74d55",
      "d2643114161849f389eae07af6fa322e",
      "f87ea4f0ea81492b9a49f0a865bfa416",
      "eae8e1d80d2e49c7b371af659e0e3687",
      "056f740bb9034f22808568f83494ef5d",
      "8be01af1703f48bd999edabe5034dc53",
      "c87b9838473d4a74b14d7954e94a65e5",
      "5cd18c17ddad4012832e36a5c5786439",
      "75d6d4f8870a4b7e88f8085aaccccf07",
      "f7a643de9f4a445bb962a3924b678825",
      "b426b0c6e5d140bd97faff6981b7c4ec",
      "14b6d850809140278d11f52a7702b871",
      "9e44cdd6fb27433eacbd6bb29c1aed6b",
      "e63a2dbdf5494d999d571cf984ec1b03",
      "f1e09a4b820244b095673704bc572a4f",
      "b10415979e554822bd18a44112b6069f",
      "489d26a5776d493bb6f9aa3b384112e4",
      "8766ccb35ddd4b5dbed2c4df63b156ea",
      "48f5154482c44b2bb7aed8585a0209e5",
      "b5eda46e2b6f4e22bbbf6212443d01b1",
      "d44c851a520d4fd8bbf71921f10b4ec3",
      "c49f87f033df4736a365e127cb2df862",
      "7041d28e2e3443318d9a1b8e5d7f317c",
      "8ea70c20cdd64b5f80da7ed86bdcb846",
      "1add07bea36f4fdf82206c0671f58251",
      "9afe0414e81e433d9a9a22d5c9b4f630",
      "7c0fad63ae2a4fab858fd3243ec90cc1",
      "e33884d7bda34337946e10ac1d6928e5",
      "b4f48bd3fae04f0aa750aff9fcc6ebd6",
      "6a3fac11bd1b47aba537d3de0fab0ded"
     ]
    },
    "id": "qF5Pp3DuVgSm",
    "outputId": "05e7d84a-8864-4c90-ac67-9d191b3472c4"
   },
   "outputs": [
    {
     "name": "stderr",
     "output_type": "stream",
     "text": [
      "No CUDA runtime is found, using CUDA_HOME='/usr/local/cuda'\n",
      "/usr/local/lib/python3.11/dist-packages/huggingface_hub/utils/_auth.py:94: UserWarning: \n",
      "The secret `HF_TOKEN` does not exist in your Colab secrets.\n",
      "To authenticate with the Hugging Face Hub, create a token in your settings tab (https://huggingface.co/settings/tokens), set it as secret in your Google Colab and restart your session.\n",
      "You will be able to reuse this secret in all of your notebooks.\n",
      "Please note that authentication is recommended but still optional to access public models or datasets.\n",
      "  warnings.warn(\n"
     ]
    },
    {
     "data": {
      "application/vnd.jupyter.widget-view+json": {
       "model_id": "e0fdc06972434573bc83da9dff719b2a",
       "version_major": 2,
       "version_minor": 0
      },
      "text/plain": [
       "config.json:   0%|          | 0.00/637 [00:00<?, ?B/s]"
      ]
     },
     "metadata": {},
     "output_type": "display_data"
    },
    {
     "data": {
      "application/vnd.jupyter.widget-view+json": {
       "model_id": "f7bf257a9c44491aaa141f2142db5a32",
       "version_major": 2,
       "version_minor": 0
      },
      "text/plain": [
       "pytorch_model.bin:   0%|          | 0.00/436M [00:00<?, ?B/s]"
      ]
     },
     "metadata": {},
     "output_type": "display_data"
    },
    {
     "data": {
      "application/vnd.jupyter.widget-view+json": {
       "model_id": "c9ef322cc9274b71860a673cbc165040",
       "version_major": 2,
       "version_minor": 0
      },
      "text/plain": [
       "tokenizer_config.json:   0%|          | 0.00/357 [00:00<?, ?B/s]"
      ]
     },
     "metadata": {},
     "output_type": "display_data"
    },
    {
     "data": {
      "application/vnd.jupyter.widget-view+json": {
       "model_id": "54117c8f6a2b45059f53a211609f9fa2",
       "version_major": 2,
       "version_minor": 0
      },
      "text/plain": [
       "vocab.txt:   0%|          | 0.00/232k [00:00<?, ?B/s]"
      ]
     },
     "metadata": {},
     "output_type": "display_data"
    },
    {
     "data": {
      "application/vnd.jupyter.widget-view+json": {
       "model_id": "5128c68468af4c8893cee8bf21772b4b",
       "version_major": 2,
       "version_minor": 0
      },
      "text/plain": [
       "model.safetensors:   0%|          | 0.00/436M [00:00<?, ?B/s]"
      ]
     },
     "metadata": {},
     "output_type": "display_data"
    },
    {
     "data": {
      "application/vnd.jupyter.widget-view+json": {
       "model_id": "75d6d4f8870a4b7e88f8085aaccccf07",
       "version_major": 2,
       "version_minor": 0
      },
      "text/plain": [
       "tokenizer.json:   0%|          | 0.00/711k [00:00<?, ?B/s]"
      ]
     },
     "metadata": {},
     "output_type": "display_data"
    },
    {
     "data": {
      "application/vnd.jupyter.widget-view+json": {
       "model_id": "b5eda46e2b6f4e22bbbf6212443d01b1",
       "version_major": 2,
       "version_minor": 0
      },
      "text/plain": [
       "special_tokens_map.json:   0%|          | 0.00/280 [00:00<?, ?B/s]"
      ]
     },
     "metadata": {},
     "output_type": "display_data"
    },
    {
     "name": "stderr",
     "output_type": "stream",
     "text": [
      "`loss_type=None` was set in the config but it is unrecognised.Using the default loss: `ForCausalLMLoss`.\n"
     ]
    },
    {
     "data": {
      "text/plain": [
       "('ov_models/haddadalwi/multi-qa-mpnet-base-dot-v1-finetuned-squad2-all/tokenizer_config.json',\n",
       " 'ov_models/haddadalwi/multi-qa-mpnet-base-dot-v1-finetuned-squad2-all/special_tokens_map.json',\n",
       " 'ov_models/haddadalwi/multi-qa-mpnet-base-dot-v1-finetuned-squad2-all/vocab.txt',\n",
       " 'ov_models/haddadalwi/multi-qa-mpnet-base-dot-v1-finetuned-squad2-all/added_tokens.json',\n",
       " 'ov_models/haddadalwi/multi-qa-mpnet-base-dot-v1-finetuned-squad2-all/tokenizer.json')"
      ]
     },
     "execution_count": 2,
     "metadata": {},
     "output_type": "execute_result"
    }
   ],
   "source": [
    "from optimum.intel import OVModelForQuestionAnswering\n",
    "from transformers import AutoTokenizer\n",
    "\n",
    "MODEL_NAME = \"haddadalwi/multi-qa-mpnet-base-dot-v1-finetuned-squad2-all\"\n",
    "EXPORT_PATH = f\"ov_models/{MODEL_NAME}\"\n",
    "\n",
    "ov_model = OVModelForQuestionAnswering.from_pretrained(MODEL_NAME, export=True)\n",
    "tokenizer = AutoTokenizer.from_pretrained(MODEL_NAME)\n",
    "\n",
    "ov_model.save_pretrained(EXPORT_PATH)\n",
    "tokenizer.save_pretrained(EXPORT_PATH)"
   ]
  },
  {
   "cell_type": "markdown",
   "metadata": {
    "id": "WBkY3PcUAJ9b"
   },
   "source": [
    "- Create an `assets` directory and move the `vocab.txt` file there as required for Spark NLP compatibility"
   ]
  },
  {
   "cell_type": "code",
   "execution_count": 3,
   "metadata": {
    "id": "RQekMk3_82M8"
   },
   "outputs": [],
   "source": [
    "!mkdir {EXPORT_PATH}/assets && mv {EXPORT_PATH}/vocab.txt {EXPORT_PATH}/assets"
   ]
  },
  {
   "cell_type": "code",
   "execution_count": 4,
   "metadata": {
    "colab": {
     "base_uri": "https://localhost:8080/"
    },
    "id": "svDc7hgWbYsZ",
    "outputId": "08a48e7b-3df9-4c79-9b66-f2ade97b2ef2"
   },
   "outputs": [
    {
     "name": "stdout",
     "output_type": "stream",
     "text": [
      "total 228\n",
      "-rw-r--r-- 1 root root 231536 Jun 23 02:32 vocab.txt\n"
     ]
    }
   ],
   "source": [
    "!ls -l {EXPORT_PATH}/assets"
   ]
  },
  {
   "cell_type": "markdown",
   "metadata": {
    "id": "VkP_qVqsbZJh"
   },
   "source": [
    "- All done!"
   ]
  },
  {
   "cell_type": "markdown",
   "metadata": {
    "id": "e4DzCZrLmFZ_"
   },
   "source": [
    "## Import and Save MPNetForQuestionAnswering in Spark NLP\n"
   ]
  },
  {
   "cell_type": "markdown",
   "metadata": {
    "id": "lxSm3P50mFZ_"
   },
   "source": [
    "- Install and set up Spark NLP in Google Colab\n",
    "- This example uses specific versions of `pyspark` and `spark-nlp` that have been tested with the transformer model to ensure everything runs smoothly."
   ]
  },
  {
   "cell_type": "code",
   "execution_count": 5,
   "metadata": {
    "colab": {
     "base_uri": "https://localhost:8080/"
    },
    "id": "dgLcdmtamFZ_",
    "outputId": "4f837b79-72eb-4052-c70a-8193c9f0e3cb"
   },
   "outputs": [
    {
     "name": "stdout",
     "output_type": "stream",
     "text": [
      "\u001b[2K     \u001b[90m━━━━━━━━━━━━━━━━━━━━━━━━━━━━━━━━━━━━━━━\u001b[0m \u001b[32m317.3/317.3 MB\u001b[0m \u001b[31m3.8 MB/s\u001b[0m eta \u001b[36m0:00:00\u001b[0m\n",
      "\u001b[?25h  Preparing metadata (setup.py) ... \u001b[?25l\u001b[?25hdone\n",
      "\u001b[2K   \u001b[90m━━━━━━━━━━━━━━━━━━━━━━━━━━━━━━━━━━━━━━━━\u001b[0m \u001b[32m635.7/635.7 kB\u001b[0m \u001b[31m22.6 MB/s\u001b[0m eta \u001b[36m0:00:00\u001b[0m\n",
      "\u001b[?25h  Building wheel for pyspark (setup.py) ... \u001b[?25l\u001b[?25hdone\n"
     ]
    }
   ],
   "source": [
    "!pip install -q pyspark==3.5.4 spark-nlp==5.5.3"
   ]
  },
  {
   "cell_type": "markdown",
   "metadata": {
    "id": "MjHnTWAdmFaA"
   },
   "source": [
    "Let's start Spark with Spark NLP included via our simple `start()` function"
   ]
  },
  {
   "cell_type": "code",
   "execution_count": 6,
   "metadata": {
    "colab": {
     "base_uri": "https://localhost:8080/"
    },
    "id": "si6Cnaf6mFaA",
    "outputId": "c5e0fabb-b462-405b-a902-92ac8a0aef8b"
   },
   "outputs": [
    {
     "name": "stdout",
     "output_type": "stream",
     "text": [
      "Spark NLP version:  5.5.3\n",
      "Apache Spark version:  3.5.4\n"
     ]
    }
   ],
   "source": [
    "import sparknlp\n",
    "\n",
    "spark = sparknlp.start()\n",
    "\n",
    "print(\"Spark NLP version: \", sparknlp.version())\n",
    "print(\"Apache Spark version: \", spark.version)"
   ]
  },
  {
   "cell_type": "markdown",
   "metadata": {
    "id": "cIH_GPSDmFaA"
   },
   "source": [
    "- Let's use `loadSavedModel` functon in `MPNetForQuestionAnswering` which allows us to load TensorFlow model in SavedModel format\n",
    "- Most params can be set later when you are loading this model in `MPNetForQuestionAnswering` in runtime like `setMaxSentenceLength`, so don't worry what you are setting them now\n",
    "- `loadSavedModel` accepts two params, first is the path to the TF SavedModel. The second is the SparkSession that is `spark` variable we previously started via `sparknlp.start()`\n",
    "- NOTE: `loadSavedModel` accepts local paths in addition to distributed file systems such as `HDFS`, `S3`, `DBFS`, etc. This feature was introduced in Spark NLP 4.2.2 release. Keep in mind the best and recommended way to move/share/reuse Spark NLP models is to use `write.save` so you can use `.load()` from any file systems natively.\n"
   ]
  },
  {
   "cell_type": "code",
   "execution_count": 7,
   "metadata": {
    "id": "iFsDyX5KmFaA"
   },
   "outputs": [],
   "source": [
    "from sparknlp.annotator import MPNetForQuestionAnswering\n",
    "\n",
    "spanClassifier = MPNetForQuestionAnswering.loadSavedModel(\n",
    "     f\"{EXPORT_PATH}\",\n",
    "     spark\n",
    " )\\\n",
    "  .setInputCols([\"document_question\",'document_context'])\\\n",
    "  .setOutputCol(\"answer\")\\\n",
    "  .setCaseSensitive(False)\\\n",
    "  .setMaxSentenceLength(512)"
   ]
  },
  {
   "cell_type": "markdown",
   "metadata": {
    "id": "PO2ReE57mFaA"
   },
   "source": [
    "- Let's save it on disk so it is easier to be moved around and also be used later via `.load` function"
   ]
  },
  {
   "cell_type": "code",
   "execution_count": 8,
   "metadata": {
    "id": "ejxfdT40mFaA"
   },
   "outputs": [],
   "source": [
    "spanClassifier.write().overwrite().save(\"./{}_spark_nlp_openvino\".format(EXPORT_PATH))"
   ]
  },
  {
   "cell_type": "markdown",
   "metadata": {
    "id": "rzZ_sbxEmFaA"
   },
   "source": [
    "Awesome 😎  !\n",
    "\n",
    "This is your MPNetForQuestionAnswering model from HuggingFace 🤗  loaded and saved by Spark NLP 🚀"
   ]
  },
  {
   "cell_type": "code",
   "execution_count": 9,
   "metadata": {
    "colab": {
     "base_uri": "https://localhost:8080/"
    },
    "id": "ljXzasiYmFaA",
    "outputId": "6c0bd81b-16c2-4895-e5a4-533aedf0b98a"
   },
   "outputs": [
    {
     "name": "stdout",
     "output_type": "stream",
     "text": [
      "total 425876\n",
      "drwxr-xr-x 3 root root      4096 Jun 23 02:35 fields\n",
      "drwxr-xr-x 2 root root      4096 Jun 23 02:35 metadata\n",
      "-rw-r--r-- 1 root root 436084168 Jun 23 02:35 mpnet_question_answering_openvino\n"
     ]
    }
   ],
   "source": [
    "! ls -l {EXPORT_PATH}_spark_nlp_openvino"
   ]
  },
  {
   "cell_type": "markdown",
   "metadata": {
    "id": "ogk0HISwmFaA"
   },
   "source": [
    "Now let's see how we can use it on other machines, clusters, or any place you wish to use your new and shiny DistilBertForZeroShotClassification model 😊"
   ]
  },
  {
   "cell_type": "markdown",
   "metadata": {
    "id": "WmD8DiE_mFaB"
   },
   "source": [
    "This is how you can use your loaded classifier model in Spark NLP 🚀 pipeline:"
   ]
  },
  {
   "cell_type": "code",
   "execution_count": 10,
   "metadata": {
    "colab": {
     "base_uri": "https://localhost:8080/"
    },
    "id": "Y_5KbPfzmFaB",
    "outputId": "b8c595df-50ae-43cb-be94-6ef8bac9cbf0"
   },
   "outputs": [
    {
     "name": "stdout",
     "output_type": "stream",
     "text": [
      "+-------+\n",
      "|result |\n",
      "+-------+\n",
      "|[Clara]|\n",
      "+-------+\n",
      "\n"
     ]
    }
   ],
   "source": [
    "from sparknlp.base import MultiDocumentAssembler\n",
    "from sparknlp.annotator import MPNetForQuestionAnswering\n",
    "from pyspark.ml import Pipeline\n",
    "\n",
    "document_assembler = MultiDocumentAssembler() \\\n",
    "    .setInputCols([\"question\", \"context\"]) \\\n",
    "    .setOutputCols([\"document_question\", \"document_context\"])\n",
    "\n",
    "spanClassifier_loaded = MPNetForQuestionAnswering.load(\"./{}_spark_nlp_openvino\".format(EXPORT_PATH))\\\n",
    "  .setInputCols([\"document_question\", \"document_context\"])\\\n",
    "  .setOutputCol(\"answer\")\n",
    "\n",
    "pipeline = Pipeline().setStages([\n",
    "    document_assembler,\n",
    "    spanClassifier_loaded\n",
    "])\n",
    "\n",
    "example = spark.createDataFrame([\n",
    "    [\"What's my name?\", \"My name is Clara and I live in Berkeley.\"]\n",
    "]).toDF(\"question\", \"context\")\n",
    "\n",
    "model = pipeline.fit(example)\n",
    "result = model.transform(example)\n",
    "\n",
    "result.select(\"answer.result\").show(1, False)"
   ]
  },
  {
   "cell_type": "markdown",
   "metadata": {
    "id": "BH-V-NpomFaB"
   },
   "source": [
    "That's it! You can now go wild and use hundreds of `DistilBertForZeroShotClassification` models from HuggingFace 🤗 in Spark NLP 🚀\n"
   ]
  }
 ],
 "metadata": {
  "colab": {
   "provenance": []
  },
  "kernelspec": {
   "display_name": "Python 3",
   "language": "python",
   "name": "python3"
  },
  "language_info": {
   "codemirror_mode": {
    "name": "ipython",
    "version": 3
   },
   "file_extension": ".py",
   "mimetype": "text/x-python",
   "name": "python",
   "nbconvert_exporter": "python",
   "pygments_lexer": "ipython3",
   "version": "3.10.12"
  }
 },
 "nbformat": 4,
 "nbformat_minor": 0
}
