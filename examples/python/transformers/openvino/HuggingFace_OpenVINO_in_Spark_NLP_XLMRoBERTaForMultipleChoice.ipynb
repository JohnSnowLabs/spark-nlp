{
 "cells": [
  {
   "cell_type": "markdown",
   "metadata": {
    "id": "_V5XcDCnVgSi"
   },
   "source": [
    "![JohnSnowLabs](https://sparknlp.org/assets/images/logo.png)\n",
    "\n",
    "[![Open In Colab](https://colab.research.google.com/assets/colab-badge.svg)](https://colab.research.google.com/github/JohnSnowLabs/spark-nlp/blob/master/examples/python/transformers/openvino/HuggingFace_OpenVINO_in_Spark_NLP_XLMRoBERTaForMultipleChoice.ipynb)\n",
    "\n",
    "# Import OpenVINO XlmRoBertaForMultipleChoice models from HuggingFace 🤗 into Spark NLP 🚀\n",
    "\n",
    "This notebook provides a detailed walkthrough on optimizing and exporting XlmRoBertaForMultipleChoice  models from HuggingFace for use in Spark NLP, leveraging the various tools provided in the [Intel OpenVINO toolkit](https://www.intel.com/content/www/us/en/developer/tools/openvino-toolkit/overview.html) ecosystem.\n",
    "\n",
    "Let's keep in mind a few things before we start 😊\n",
    "\n",
    "- OpenVINO support was introduced in  `Spark NLP 5.4.0`, enabling high performance inference for models. Please make sure you have upgraded to the latest Spark NLP release.\n",
    "- You can import models for XlmRoBertaForMultipleChoice from XlmRoBertaForMultipleChoice  and they have to be in `Multiple Choice` category."
   ]
  },
  {
   "cell_type": "markdown",
   "metadata": {
    "id": "aghasVppVgSk"
   },
   "source": [
    "## 1. Export and Save the HuggingFace model"
   ]
  },
  {
   "cell_type": "markdown",
   "metadata": {
    "id": "be4HsTDMVgSk"
   },
   "source": [
    "- Let's install `transformers` and `openvino` packages with other dependencies. You don't need `openvino` to be installed for Spark NLP, however, we need it to load and save models from HuggingFace.\n",
    "- We lock `transformers` on version `4.48.3`. This doesn't mean it won't work with the future releases, but we wanted you to know which versions have been tested successfully."
   ]
  },
  {
   "cell_type": "code",
   "execution_count": null,
   "metadata": {
    "colab": {
     "base_uri": "https://localhost:8080/"
    },
    "id": "TDapJ_09nqXQ",
    "outputId": "0f284548-a132-4106-f760-c5ec42ab408b"
   },
   "outputs": [],
   "source": [
    "!pip install -q --upgrade transformers[onnx]==4.48.3 optimum-intel openvino"
   ]
  },
  {
   "cell_type": "markdown",
   "metadata": {
    "id": "-f6FUtPwJLa4"
   },
   "source": [
    "[Optimum Intel](https://github.com/huggingface/optimum-intel?tab=readme-ov-file#openvino) is the interface between the Transformers library and the various model optimization and acceleration tools provided by Intel. HuggingFace models loaded with optimum-intel are automatically optimized for OpenVINO, while being compatible with the Transformers API.\n",
    "- Normally, to load a HuggingFace model directly for inference/export, just replace the `AutoModelForXxx` class with the corresponding `OVModelForXxx` class. However, ForMultipleChoice is not yet available so we will use `openvino.convert_model()` after exporting ONNX model\n",
    "- We'll use [lenatr99/fine_tuned_copa_XLMroberta](https://huggingface.co/lenatr99/fine_tuned_copa_XLMroberta) model from HuggingFace as an example\n",
    "- In addition to the RoBERTa model, we also need to save the tokenizer. This is the same for every model, these are assets (saved in `/assets`) needed for tokenization inside Spark NLP."
   ]
  },
  {
   "cell_type": "code",
   "execution_count": 2,
   "metadata": {
    "colab": {
     "base_uri": "https://localhost:8080/",
     "height": 350,
     "referenced_widgets": [
      "a34e4c4299c942b7a60edf172485d733",
      "20a7071712e24bdb986f0d5a747b94de",
      "2ef7f7226d914f55acbc61e55496bc74",
      "de4e2f6532b947db96026fadac293841",
      "8370fe8494c14db78aed7df9b3ddcb21",
      "da1593c958f84909bbc35f211e48e957",
      "aad9aa0fdd024a41b8ac547d472a7c8e",
      "71b3154403b0458ead4b4a396452bc5b",
      "c3f9b763a0f74c7f95e83c22ad0a6a7f",
      "95a4c516740240bcbb3e6d4e6648b108",
      "f9ca33c345f94da78aea08b943a515f2",
      "afdca4f5d9f44201874ee754c136ac3b",
      "16f60911ba7a4040a8c01d747dfc8007",
      "4681ff9d92af45e6bc06564a7c8a44ce",
      "80aa99431b2e44e79e55bcb2e07d1869",
      "5c18aae83c1a4326b1642c158ab7bc63",
      "7f5077714f144e3185b6a0e71f6be662",
      "a6377b9d904941ba81302f764c233387",
      "320bbb530d0849cebb2c3b6f57010a77",
      "e348776ac61f4f8a8b160684390761b3",
      "8a29d39617bc453fa60478a35e788029",
      "d0c9098148644e98bc23912f30a9eeed",
      "4d39d3ae7c154b2eb275b5cb7e2f8552",
      "1b6abc8a4ec240d98f20eb1d60357eb8",
      "908fe82515bb4ff4a6acf0feeb934a73",
      "2b565834ee774b93b531180425994587",
      "3d3b7eedafe14644a015b521808fa405",
      "075574591c2f429d835cad292e63231a",
      "516ef61a119040eeaed118a01fdc25c5",
      "46550f7fad14425e9572313c5a3c6bbe",
      "d846ac57af464bd0b40da74720e0d5d2",
      "adb28fae8701434f93abf6fd14ba0cfa",
      "0e1063afbbd545c6b744e1028c8babf6",
      "7ddcc052d3b14b4ca62f62cf39f92bc2",
      "016438650e3345659437a011fc03bfb2",
      "1551156893d54942957c0568a663bad2",
      "8f650ce34e124cad9beda094ad5a661d",
      "dc63da7b9d3b4636b412021b78b9e0d8",
      "67e23258897a4ac389678322686c4301",
      "d9d026ec1360458c8bb7c7ce29d26657",
      "72b3189c3b924c6aa30bc243d3b856f8",
      "e9369257ad894d139bcb6d24b6b5d653",
      "eb506f4cfa9f468e8f264cb920ee549c",
      "075a984e25e34bc39d62c8da468c958f",
      "337ba51664dd4b948ed1200854bc81d4",
      "3039876d628d46ad82c20d56ff77ca23",
      "d93802eb61cd4bf7987e4c12ca2338d6",
      "e2490994aa264eae843bc041b66746ab",
      "a3b454d30a5d49e7af218b3cf2d553f5",
      "bac900b7f1344b4f9ae9dfbcdeab0e5b",
      "77601be55aab4f62b0c3f3201d0efba3",
      "884de56f98e14f36b83070ac67f65680",
      "f81025ec7fb84882986c7e92e0b20dc5",
      "ffd6635a76a04e9aa5348769dda0610e",
      "c69b0d0627a7466481d75ed0abe03849",
      "31c245d14cb44e1bb51e2635e893d7d6",
      "0e54644d69bc426ea2eef8cc65dcc158",
      "ae4bdcb6632244c99007f786dadb9a46",
      "f672fdb1b4e24d4eacfc49e77f9d67a7",
      "b95a945912c14d9ea77601138ecb1a6e",
      "406ef2fb64ce4338a4b7fb1618d1ce78",
      "5b2167a6e7c84037bb858b56db7fb24b",
      "b0504e15893340698bb444d198a08e1c",
      "934777888f3e43198ed2273ba7bed24b",
      "50f6e585f02d4b8eaa9a1b9687b57bdd",
      "65f3315d399d4c798b8e2b558231e4f3"
     ]
    },
    "id": "6fqfe1gdJNfB",
    "outputId": "f1ce0cf1-f4e5-4f79-ef1e-92be6f15d27f"
   },
   "outputs": [
    {
     "name": "stderr",
     "output_type": "stream",
     "text": [
      "Multiple distributions found for package optimum. Picked distribution: optimum-intel\n",
      "/usr/local/lib/python3.11/dist-packages/huggingface_hub/utils/_auth.py:94: UserWarning: \n",
      "The secret `HF_TOKEN` does not exist in your Colab secrets.\n",
      "To authenticate with the Hugging Face Hub, create a token in your settings tab (https://huggingface.co/settings/tokens), set it as secret in your Google Colab and restart your session.\n",
      "You will be able to reuse this secret in all of your notebooks.\n",
      "Please note that authentication is recommended but still optional to access public models or datasets.\n",
      "  warnings.warn(\n"
     ]
    },
    {
     "data": {
      "application/vnd.jupyter.widget-view+json": {
       "model_id": "a34e4c4299c942b7a60edf172485d733",
       "version_major": 2,
       "version_minor": 0
      },
      "text/plain": [
       "config.json:   0%|          | 0.00/714 [00:00<?, ?B/s]"
      ]
     },
     "metadata": {},
     "output_type": "display_data"
    },
    {
     "data": {
      "application/vnd.jupyter.widget-view+json": {
       "model_id": "afdca4f5d9f44201874ee754c136ac3b",
       "version_major": 2,
       "version_minor": 0
      },
      "text/plain": [
       "model.safetensors:   0%|          | 0.00/1.11G [00:00<?, ?B/s]"
      ]
     },
     "metadata": {},
     "output_type": "display_data"
    },
    {
     "data": {
      "application/vnd.jupyter.widget-view+json": {
       "model_id": "4d39d3ae7c154b2eb275b5cb7e2f8552",
       "version_major": 2,
       "version_minor": 0
      },
      "text/plain": [
       "tokenizer_config.json: 0.00B [00:00, ?B/s]"
      ]
     },
     "metadata": {},
     "output_type": "display_data"
    },
    {
     "data": {
      "application/vnd.jupyter.widget-view+json": {
       "model_id": "7ddcc052d3b14b4ca62f62cf39f92bc2",
       "version_major": 2,
       "version_minor": 0
      },
      "text/plain": [
       "sentencepiece.bpe.model:   0%|          | 0.00/5.07M [00:00<?, ?B/s]"
      ]
     },
     "metadata": {},
     "output_type": "display_data"
    },
    {
     "data": {
      "application/vnd.jupyter.widget-view+json": {
       "model_id": "337ba51664dd4b948ed1200854bc81d4",
       "version_major": 2,
       "version_minor": 0
      },
      "text/plain": [
       "tokenizer.json:   0%|          | 0.00/17.1M [00:00<?, ?B/s]"
      ]
     },
     "metadata": {},
     "output_type": "display_data"
    },
    {
     "data": {
      "application/vnd.jupyter.widget-view+json": {
       "model_id": "31c245d14cb44e1bb51e2635e893d7d6",
       "version_major": 2,
       "version_minor": 0
      },
      "text/plain": [
       "special_tokens_map.json:   0%|          | 0.00/280 [00:00<?, ?B/s]"
      ]
     },
     "metadata": {},
     "output_type": "display_data"
    }
   ],
   "source": [
    "from optimum.onnxruntime import ORTModelForMultipleChoice\n",
    "\n",
    "MODEL_NAME = \"lenatr99/fine_tuned_copa_XLMroberta\"\n",
    "ONNX_MODEL_PATH = f\"onnx_models/{MODEL_NAME}\"\n",
    "\n",
    "ort_model = ORTModelForMultipleChoice.from_pretrained(MODEL_NAME, export=True)\n",
    "ort_model.save_pretrained(ONNX_MODEL_PATH)"
   ]
  },
  {
   "cell_type": "markdown",
   "metadata": {
    "id": "G6EgFIznJdSj"
   },
   "source": [
    "Save Tokenizer for OpenVINO"
   ]
  },
  {
   "cell_type": "code",
   "execution_count": 10,
   "metadata": {
    "colab": {
     "base_uri": "https://localhost:8080/"
    },
    "id": "R8cYzOYbJdGx",
    "outputId": "400120da-4761-4036-e736-2481651c8dd8"
   },
   "outputs": [
    {
     "data": {
      "text/plain": [
       "('openvino_models/tokenizer_config.json',\n",
       " 'openvino_models/special_tokens_map.json',\n",
       " 'openvino_models/sentencepiece.bpe.model',\n",
       " 'openvino_models/added_tokens.json',\n",
       " 'openvino_models/tokenizer.json')"
      ]
     },
     "execution_count": 10,
     "metadata": {},
     "output_type": "execute_result"
    }
   ],
   "source": [
    "from transformers import AutoTokenizer\n",
    "\n",
    "OPENVINO_MODEL_PATH = \"openvino_models\"\n",
    "\n",
    "tokenizer = AutoTokenizer.from_pretrained(MODEL_NAME)\n",
    "tokenizer.save_pretrained(OPENVINO_MODEL_PATH)"
   ]
  },
  {
   "cell_type": "markdown",
   "metadata": {
    "id": "Dk_oF-N4JfV6"
   },
   "source": [
    "Convert ONNX to OpenVINO IR Format"
   ]
  },
  {
   "cell_type": "code",
   "execution_count": 4,
   "metadata": {
    "id": "JW5S4YZSJg8X"
   },
   "outputs": [],
   "source": [
    "import openvino as ov\n",
    "\n",
    "ov_model = ov.convert_model(f\"{ONNX_MODEL_PATH}/model.onnx\")\n",
    "ov.save_model(ov_model, f\"{OPENVINO_MODEL_PATH}/openvino_model.xml\")"
   ]
  },
  {
   "cell_type": "markdown",
   "metadata": {
    "id": "QCrWYS8OJilZ"
   },
   "source": [
    "Organize Assets"
   ]
  },
  {
   "cell_type": "code",
   "execution_count": 11,
   "metadata": {
    "id": "GpUL9WWiM9Lt"
   },
   "outputs": [],
   "source": [
    "!mkdir {OPENVINO_MODEL_PATH}/assets"
   ]
  },
  {
   "cell_type": "code",
   "execution_count": 12,
   "metadata": {
    "id": "VWczV2_eJ1mA"
   },
   "outputs": [],
   "source": [
    "!mv {OPENVINO_MODEL_PATH}/sentencepiece.bpe.model {OPENVINO_MODEL_PATH}/assets"
   ]
  },
  {
   "cell_type": "code",
   "execution_count": 13,
   "metadata": {
    "colab": {
     "base_uri": "https://localhost:8080/"
    },
    "id": "hrk1xaP0Jlfj",
    "outputId": "31b2a1ab-f73f-48dc-c63f-ec633d2f462d"
   },
   "outputs": [
    {
     "name": "stdout",
     "output_type": "stream",
     "text": [
      "total 4952\n",
      "-rw-r--r-- 1 root root 5069051 Jul  2 17:33 sentencepiece.bpe.model\n"
     ]
    }
   ],
   "source": [
    "!ls -l {OPENVINO_MODEL_PATH}/assets"
   ]
  },
  {
   "cell_type": "markdown",
   "metadata": {
    "id": "1dnTQ5lOoj6Y"
   },
   "source": [
    "## Import and Save XlmRoBertaForMultipleChoice in Spark NLP\n"
   ]
  },
  {
   "cell_type": "markdown",
   "metadata": {
    "id": "sJNgA5Lsoj6Y"
   },
   "source": [
    "- Install and set up Spark NLP in Google Colab\n",
    "- This example uses specific versions of `pyspark` and `spark-nlp` that have been tested with the transformer model to ensure everything runs smoothly."
   ]
  },
  {
   "cell_type": "code",
   "execution_count": 7,
   "metadata": {
    "colab": {
     "base_uri": "https://localhost:8080/"
    },
    "id": "_akaW4XQoj6Y",
    "outputId": "cf20627e-7ee0-4dcb-f18c-7d6b17395fe6"
   },
   "outputs": [
    {
     "name": "stdout",
     "output_type": "stream",
     "text": [
      "\u001b[?25l   \u001b[90m━━━━━━━━━━━━━━━━━━━━━━━━━━━━━━━━━━━━━━━━\u001b[0m \u001b[32m0.0/713.0 kB\u001b[0m \u001b[31m?\u001b[0m eta \u001b[36m-:--:--\u001b[0m\r\n",
      "\u001b[2K   \u001b[91m━━━━━━━━━━━━━━━━━━━━━━━━━━━━━━━━━━━━━━━\u001b[0m\u001b[91m╸\u001b[0m \u001b[32m706.6/713.0 kB\u001b[0m \u001b[31m25.9 MB/s\u001b[0m eta \u001b[36m0:00:01\u001b[0m\r\n",
      "\u001b[2K   \u001b[90m━━━━━━━━━━━━━━━━━━━━━━━━━━━━━━━━━━━━━━━━\u001b[0m \u001b[32m713.0/713.0 kB\u001b[0m \u001b[31m17.6 MB/s\u001b[0m eta \u001b[36m0:00:00\u001b[0m\n",
      "\u001b[?25h"
     ]
    }
   ],
   "source": [
    "!pip install -q spark-nlp==6.0.3 pyspark==3.5.1"
   ]
  },
  {
   "cell_type": "markdown",
   "metadata": {
    "id": "cPbYCJX3oj6Z"
   },
   "source": [
    "Let's start Spark with Spark NLP included via our simple `start()` function"
   ]
  },
  {
   "cell_type": "code",
   "execution_count": 8,
   "metadata": {
    "colab": {
     "base_uri": "https://localhost:8080/"
    },
    "id": "iPCXqJVUIGwQ",
    "outputId": "420f25d8-59a5-45c2-b0bc-97b1820e9ebf"
   },
   "outputs": [
    {
     "name": "stdout",
     "output_type": "stream",
     "text": [
      "Spark NLP version:  6.0.3\n",
      "Apache Spark version:  3.5.1\n"
     ]
    }
   ],
   "source": [
    "import sparknlp\n",
    "\n",
    "spark = sparknlp.start()\n",
    "\n",
    "print(\"Spark NLP version: \", sparknlp.version())\n",
    "print(\"Apache Spark version: \", spark.version)"
   ]
  },
  {
   "cell_type": "markdown",
   "metadata": {
    "id": "V4StW27Soj6Z"
   },
   "source": [
    "- Let's use `loadSavedModel` functon in `XlmRoBertaForMultipleChoice` which allows us to load TensorFlow model in SavedModel format\n",
    "- Most params can be set later when you are loading this model in `XlmRoBertaForMultipleChoice` in runtime, so don't worry what you are setting them now\n",
    "- `loadSavedModel` accepts two params, first is the path to the TF SavedModel. The second is the SparkSession that is `spark` variable we previously started via `sparknlp.start()`\n",
    "- NOTE: `loadSavedModel` accepts local paths in addition to distributed file systems such as `HDFS`, `S3`, `DBFS`, etc. This feature was introduced in Spark NLP 4.2.2 release. Keep in mind the best and recommended way to move/share/reuse Spark NLP models is to use `write.save` so you can use `.load()` from any file systems natively.\n"
   ]
  },
  {
   "cell_type": "code",
   "execution_count": 14,
   "metadata": {
    "id": "ynBhuIHYvRsT"
   },
   "outputs": [],
   "source": [
    "from sparknlp.annotator import XlmRoBertaForMultipleChoice\n",
    "\n",
    "xlmRoBertaMultpleChoiceClassifier = XlmRoBertaForMultipleChoice.loadSavedModel(\n",
    "     f\"{OPENVINO_MODEL_PATH}\",\n",
    "     spark\n",
    " )\\\n",
    "  .setInputCols([\"document_question\", \"document_context\"])\\\n",
    "  .setOutputCol(\"answer\")"
   ]
  },
  {
   "cell_type": "markdown",
   "metadata": {
    "id": "i43GhTAboj6a"
   },
   "source": [
    "- Let's save it on disk so it is easier to be moved around and also be used later via `.load` function"
   ]
  },
  {
   "cell_type": "code",
   "execution_count": 15,
   "metadata": {
    "id": "R8wNk77eoj6a"
   },
   "outputs": [],
   "source": [
    "xlmRoBertaMultpleChoiceClassifier.write().overwrite().save(\"./{}_spark_nlp_openvino\".format(MODEL_NAME))"
   ]
  },
  {
   "cell_type": "markdown",
   "metadata": {
    "id": "x6ouvaGcoj6a"
   },
   "source": [
    "Let's clean up stuff we don't need anymore"
   ]
  },
  {
   "cell_type": "code",
   "execution_count": 16,
   "metadata": {
    "id": "y_tcguNFoj6a"
   },
   "outputs": [],
   "source": [
    "!rm -rf {ONNX_MODEL_PATH}\n",
    "!rm -rf {OPENVINO_MODEL_PATH}"
   ]
  },
  {
   "cell_type": "markdown",
   "metadata": {
    "id": "WA8W1mRvoj6a"
   },
   "source": [
    "Awesome 😎  !\n",
    "\n",
    "This is your `XlmRoBertaForMultipleChoice` model from HuggingFace 🤗  loaded and saved by Spark NLP 🚀"
   ]
  },
  {
   "cell_type": "code",
   "execution_count": 17,
   "metadata": {
    "colab": {
     "base_uri": "https://localhost:8080/"
    },
    "id": "Rmhv_0aDoj6a",
    "outputId": "c9693ba5-a7d8-411d-b94c-0c6015c220af"
   },
   "outputs": [
    {
     "name": "stdout",
     "output_type": "stream",
     "text": [
      "total 548692\n",
      "drwxr-xr-x 2 root root      4096 Jul  2 17:34 metadata\n",
      "-rw-r--r-- 1 root root 556777491 Jul  2 17:35 xlm_roberta_mc_classification_openvino\n",
      "-rw-r--r-- 1 root root   5069051 Jul  2 17:34 xlmroberta_spp\n"
     ]
    }
   ],
   "source": [
    "! ls -l {MODEL_NAME}_spark_nlp_openvino"
   ]
  },
  {
   "cell_type": "markdown",
   "metadata": {
    "id": "byPNuWVUoj6a"
   },
   "source": [
    "Now let's see how we can use it on other machines, clusters, or any place you wish to use your new and shiny `XlmRoBertaForMultipleChoice` model 😊"
   ]
  },
  {
   "cell_type": "code",
   "execution_count": 18,
   "metadata": {
    "colab": {
     "base_uri": "https://localhost:8080/"
    },
    "id": "yA_7rFpBwFJ-",
    "outputId": "54a61880-90a6-4157-d71b-1654644064a5"
   },
   "outputs": [
    {
     "name": "stdout",
     "output_type": "stream",
     "text": [
      "+------------------------------------------------------------------------------------------+------------------------------------------------------------------------+\n",
      "|question                                                                                  |choices                                                                 |\n",
      "+------------------------------------------------------------------------------------------+------------------------------------------------------------------------+\n",
      "|In Italy, pizza served in formal settings, such as at a restaurant, is presented unsliced.|It is eaten with a fork and a knife, It is eaten while held in the hand.|\n",
      "|The Eiffel Tower is located in which country?                                             |Germany, France, Italy                                                  |\n",
      "|Which animal is known as the king of the jungle?                                          |Lion, Elephant, Tiger, Leopard                                          |\n",
      "|Water boils at what temperature?                                                          |90°C, 120°C, 100°C                                                      |\n",
      "|Which planet is known as the Red Planet?                                                  |Jupiter, Mars, Venus                                                    |\n",
      "|Which language is primarily spoken in Brazil?                                             |Spanish, Portuguese, English                                            |\n",
      "|The Great Wall of China was built to protect against invasions from which group?          |The Greeks, The Romans, The Mongols, The Persians                       |\n",
      "|Which chemical element has the symbol 'O'?                                                |Oxygenm, Osmium, Ozone                                                  |\n",
      "|Which continent is the Sahara Desert located in?                                          |Asia, Africa, South America                                             |\n",
      "|Which artist painted the Mona Lisa?                                                       |Vincent van Gogh, Leonardo da Vinci, Pablo Picasso                      |\n",
      "+------------------------------------------------------------------------------------------+------------------------------------------------------------------------+\n",
      "\n"
     ]
    }
   ],
   "source": [
    "testing_data = spark.createDataFrame([\n",
    "    (\"In Italy, pizza served in formal settings, such as at a restaurant, is presented unsliced.\", \"It is eaten with a fork and a knife, It is eaten while held in the hand.\"),\n",
    "    (\"The Eiffel Tower is located in which country?\", \"Germany, France, Italy\"),\n",
    "    (\"Which animal is known as the king of the jungle?\", \"Lion, Elephant, Tiger, Leopard\"),\n",
    "    (\"Water boils at what temperature?\", \"90°C, 120°C, 100°C\"),\n",
    "    (\"Which planet is known as the Red Planet?\", \"Jupiter, Mars, Venus\"),\n",
    "    (\"Which language is primarily spoken in Brazil?\", \"Spanish, Portuguese, English\"),\n",
    "    (\"The Great Wall of China was built to protect against invasions from which group?\", \"The Greeks, The Romans, The Mongols, The Persians\"),\n",
    "    (\"Which chemical element has the symbol 'O'?\", \"Oxygenm, Osmium, Ozone\"),\n",
    "    (\"Which continent is the Sahara Desert located in?\", \"Asia, Africa, South America\"),\n",
    "    (\"Which artist painted the Mona Lisa?\", \"Vincent van Gogh, Leonardo da Vinci, Pablo Picasso\")\n",
    "], [\"question\", \"choices\"])\n",
    "\n",
    "testing_data.show(truncate=False)"
   ]
  },
  {
   "cell_type": "markdown",
   "metadata": {
    "id": "_pVOjQYEoj6b"
   },
   "source": [
    "This is how you can use your loaded classifier model in Spark NLP 🚀 pipeline:"
   ]
  },
  {
   "cell_type": "code",
   "execution_count": 21,
   "metadata": {
    "colab": {
     "base_uri": "https://localhost:8080/"
    },
    "id": "lbahT9lfNLeJ",
    "outputId": "1f62182c-6e9c-492c-b53d-cc535722348d"
   },
   "outputs": [
    {
     "name": "stdout",
     "output_type": "stream",
     "text": [
      "+------------------------------------------------------------------------------------------+------------------------------------------------------------------------+-----------------------------------+\n",
      "|question                                                                                  |choices                                                                 |predicted_answer                   |\n",
      "+------------------------------------------------------------------------------------------+------------------------------------------------------------------------+-----------------------------------+\n",
      "|In Italy, pizza served in formal settings, such as at a restaurant, is presented unsliced.|It is eaten with a fork and a knife, It is eaten while held in the hand.|It is eaten with a fork and a knife|\n",
      "|The Eiffel Tower is located in which country?                                             |Germany, France, Italy                                                  |Germany                            |\n",
      "|Which animal is known as the king of the jungle?                                          |Lion, Elephant, Tiger, Leopard                                          |Lion                               |\n",
      "|Water boils at what temperature?                                                          |90°C, 120°C, 100°C                                                      |90°C                               |\n",
      "|Which planet is known as the Red Planet?                                                  |Jupiter, Mars, Venus                                                    |Jupiter                            |\n",
      "|Which language is primarily spoken in Brazil?                                             |Spanish, Portuguese, English                                            |Spanish                            |\n",
      "|The Great Wall of China was built to protect against invasions from which group?          |The Greeks, The Romans, The Mongols, The Persians                       |The Greeks                         |\n",
      "|Which chemical element has the symbol 'O'?                                                |Oxygenm, Osmium, Ozone                                                  |Oxygenm                            |\n",
      "|Which continent is the Sahara Desert located in?                                          |Asia, Africa, South America                                             |Asia                               |\n",
      "|Which artist painted the Mona Lisa?                                                       |Vincent van Gogh, Leonardo da Vinci, Pablo Picasso                      |Vincent van Gogh                   |\n",
      "+------------------------------------------------------------------------------------------+------------------------------------------------------------------------+-----------------------------------+\n",
      "\n"
     ]
    }
   ],
   "source": [
    "from sparknlp.base import MultiDocumentAssembler\n",
    "from sparknlp.annotator import XlmRoBertaForMultipleChoice\n",
    "from pyspark.ml import Pipeline\n",
    "\n",
    "assembler = MultiDocumentAssembler()\\\n",
    "    .setInputCols([\"question\", \"choices\"])\\\n",
    "    .setOutputCols([\"document_question\", \"document_choices\"])\n",
    "\n",
    "XlmRoBerta_model = XlmRoBertaForMultipleChoice()\\\n",
    "    .load(f\"{MODEL_NAME}_spark_nlp_openvino\")\\\n",
    "    .setInputCols([\"document_question\", \"document_choices\"])\\\n",
    "    .setOutputCol(\"answer\")\\\n",
    "    .setBatchSize(4)\n",
    "\n",
    "pipeline = Pipeline(stages=[\n",
    "    assembler,\n",
    "    XlmRoBerta_model\n",
    "])\n",
    "\n",
    "model = pipeline.fit(testing_data)\n",
    "result = model.transform(testing_data)\n",
    "\n",
    "result.selectExpr(\"question\", \"choices\", \"answer.result[0] as predicted_answer\").show(truncate=False)"
   ]
  },
  {
   "cell_type": "markdown",
   "metadata": {
    "id": "lpxiq1igoj6c"
   },
   "source": [
    "That's it! You can now go wild and use hundreds of `XlmRoBertaForMultipleChoice` models from HuggingFace 🤗 in Spark NLP 🚀\n"
   ]
  }
 ],
 "metadata": {
  "accelerator": "GPU",
  "colab": {
   "gpuType": "T4",
   "provenance": []
  },
  "kernelspec": {
   "display_name": "Python 3 (ipykernel)",
   "language": "python",
   "name": "python3"
  },
  "language_info": {
   "codemirror_mode": {
    "name": "ipython",
    "version": 3
   },
   "file_extension": ".py",
   "mimetype": "text/x-python",
   "name": "python",
   "nbconvert_exporter": "python",
   "pygments_lexer": "ipython3",
   "version": "3.10.12"
  }
 },
 "nbformat": 4,
 "nbformat_minor": 0
}
