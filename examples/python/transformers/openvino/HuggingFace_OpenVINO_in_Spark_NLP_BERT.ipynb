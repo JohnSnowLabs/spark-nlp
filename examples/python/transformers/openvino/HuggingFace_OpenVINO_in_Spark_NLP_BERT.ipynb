{
 "cells": [
  {
   "cell_type": "markdown",
   "metadata": {
    "id": "_V5XcDCnVgSi"
   },
   "source": [
    "![JohnSnowLabs](https://sparknlp.org/assets/images/logo.png)\n",
    "\n",
    "[![Open In Colab](https://colab.research.google.com/assets/colab-badge.svg)](https://colab.research.google.com/github/JohnSnowLabs/spark-nlp/blob/master/examples/python/transformers/openvino/HuggingFace_OpenVINO_in_Spark_NLP_BERT.ipynb)\n",
    "\n",
    "# Import OpenVINO BERT models from HuggingFace 🤗 into Spark NLP 🚀\n",
    "\n",
    "This notebook provides a detailed walkthrough on optimizing and exporting BERT models from HuggingFace for use in Spark NLP, leveraging the various tools provided in the [Intel OpenVINO toolkit](https://www.intel.com/content/www/us/en/developer/tools/openvino-toolkit/overview.html) ecosystem.\n",
    "\n",
    "Let's keep in mind a few things before we start 😊\n",
    "\n",
    "- OpenVINO support was introduced in  `Spark NLP 5.4.0`, enabling high performance inference for models. Please make sure you have upgraded to the latest Spark NLP release.\n",
    "- You can import models for BERT from HuggingFace and they have to be in `Fill Mask` category. Meaning, you cannot use BERT models trained/fine-tuned on a specific task such as token/sequence classification."
   ]
  },
  {
   "cell_type": "markdown",
   "metadata": {
    "id": "aghasVppVgSk"
   },
   "source": [
    "## 1. Export and Save the HuggingFace model"
   ]
  },
  {
   "cell_type": "markdown",
   "metadata": {
    "id": "be4HsTDMVgSk"
   },
   "source": [
    "- Let's install `transformers` and `openvino` packages with other dependencies. You don't need `openvino` to be installed for Spark NLP, however, we need it to load and save models from HuggingFace.\n",
    "- We lock `transformers` on version `4.48.3`. This doesn't mean it won't work with the future releases, but we wanted you to know which versions have been tested successfully."
   ]
  },
  {
   "cell_type": "code",
   "execution_count": null,
   "metadata": {
    "colab": {
     "base_uri": "https://localhost:8080/"
    },
    "id": "nE_h4sb0gKUZ",
    "outputId": "1bdc3de2-2993-49ed-9845-94d6162f838a"
   },
   "outputs": [],
   "source": [
    "!pip install -q --upgrade transformers==4.48.3 optimum[openvino]"
   ]
  },
  {
   "cell_type": "markdown",
   "metadata": {
    "id": "vI7uz_6hVgSl"
   },
   "source": [
    "[Optimum Intel](https://github.com/huggingface/optimum-intel?tab=readme-ov-file#openvino) is the interface between the Transformers library and the various model optimization and acceleration tools provided by Intel. HuggingFace models loaded with optimum-intel are automatically optimized for OpenVINO, while being compatible with the Transformers API.\n",
    "- To load a HuggingFace model directly for inference/export, just replace the `AutoModelForXxx` class with the corresponding `OVModelForXxx` class. We can use this to import and export OpenVINO models with `from_pretrained` and `save_pretrained`.\n",
    "- By setting `export=True`, the source model is converted to OpenVINO IR format on the fly.\n",
    "- We'll use [bert-base-cased](https://huggingface.co/bert-base-cased) model from HuggingFace as an example and load it as a `OVModelForFeatureExtraction`, representing an OpenVINO model.\n",
    "- In addition to the BERT model, we also need to save the `BertTokenizer`. This is the same for every model, these are assets (saved in `/assets`) needed for tokenization inside Spark NLP."
   ]
  },
  {
   "cell_type": "code",
   "execution_count": null,
   "metadata": {
    "colab": {
     "base_uri": "https://localhost:8080/",
     "height": 385,
     "referenced_widgets": [
      "e7c7b68d04cf46508e9d29e8cb58876c",
      "1a723985f9734860ba094919426d7f3a",
      "2c5203d2efa64af28e1eedb43dc82d06",
      "e5023bc9c0544cbfa6046f3369b53a8c",
      "aafec7f103cb4954b9483bdee35c9098",
      "c4cbfe36ceba4a3d89fac1771abcffb0",
      "e0a6c2ee9e4f4c848a5fccee99f47477",
      "598623a255374cf78228e199c9013ae2",
      "584c84b702d747858ac676e81ea10be5",
      "ed88e20a9e2a499d8935333663efbeee",
      "7b8cc408d01d440faeb4917f149ac776",
      "ae7f687bec6a429aa1611f1d9924dd61",
      "1b15f4b93b254f249d752f065960e581",
      "3610376c92514bdbb7192c0b840b22f2",
      "b519cc2f95bd46d4b2701d270cbb4a72",
      "def8b17ab41f4e4aadae0ceede7c8b5e",
      "709203a0079348188d9ca7cf18674c6d",
      "c0719240ff9d4855bd05caafa3410cd7",
      "e336a6dbc15040f0b4728205d2c2d129",
      "ece759bf351143f1b9bc795b65cb1de9",
      "d197eac7f18c4e0f9f64abc140a57224",
      "9b38efd240d54d7b9e8ca6f7b97a0328",
      "59602c54d9014844a6f6152e74f8a6d0",
      "10ea520daeab4556a6318ebe7d2ee4b0",
      "ec0f80ab263144c399a133a8202fe8af",
      "48765dd21f1b4f0ea3433f39dd3f2ea0",
      "2072ed8f4d5644efb063a9fbf18b3295",
      "6294f5eeaf86499291a2575a1724eb2d",
      "0bb767a71c8b496fbf03c8dbf1621a38",
      "ccffded775824e3ca07d1e0c94c71f0f",
      "cf8bed9030e24f60bd6051b3eb57e97b",
      "24c98eaeab0846dc962ef3ba66d75f5e",
      "4145a4d22fdc48e9b8be0cf1a64bedbb",
      "ed0e38d5457b4b44ace597f59219f5f9",
      "3494c7ec451b4c25b223784862d00c47",
      "f5fa7f47eef24238b72b494ca31d26d8",
      "913ad7d703244336b373272af596cc0e",
      "0cd7a50ceca84406a7b49f0a0a1719b1",
      "b2f41b0528384e9183ddbdbb5969ab8c",
      "500cc3ae3b5849179e180dc3bfefcc12",
      "9eff556427014c56af306cce4fdbba30",
      "fff9ca432dfc4db785f2f80f23d3cdeb",
      "c019484cf335440da199d2982880692a",
      "dcba3eb92ba3487dbe8f6cb0d5907190",
      "55918a82cb9648a6a9277290b4a25bd2",
      "c69ab8722393471786f1605ce3c5287d",
      "2c58bbbfb1474a38b6dd290eaefaeed7",
      "18425ac3d7284b978c6cb5c4a864ca0b",
      "c3dec1b61c984fbfaace3a1294f18667",
      "5603b916b0ed4f70aa5c23e751f62e2d",
      "d3eddc5e3db2468ba1177dca6ae91b2b",
      "27ac2a48db0d4adebd3c3a0f82ea0008",
      "10e17483528d4365aea80b9c00d5a8b3",
      "c83dee3ab2cc4d0bb3d7fe37c4ffc7b8",
      "2efe56d927f643b48aee0b808737ef21"
     ]
    },
    "id": "Bq1rx_5QNdje",
    "outputId": "13683867-65d7-4d92-ead8-8d33a9dc76e2"
   },
   "outputs": [
    {
     "name": "stderr",
     "output_type": "stream",
     "text": [
      "No CUDA runtime is found, using CUDA_HOME='/usr/local/cuda'\n",
      "/usr/local/lib/python3.11/dist-packages/huggingface_hub/utils/_auth.py:94: UserWarning: \n",
      "The secret `HF_TOKEN` does not exist in your Colab secrets.\n",
      "To authenticate with the Hugging Face Hub, create a token in your settings tab (https://huggingface.co/settings/tokens), set it as secret in your Google Colab and restart your session.\n",
      "You will be able to reuse this secret in all of your notebooks.\n",
      "Please note that authentication is recommended but still optional to access public models or datasets.\n",
      "  warnings.warn(\n"
     ]
    },
    {
     "data": {
      "application/vnd.jupyter.widget-view+json": {
       "model_id": "e7c7b68d04cf46508e9d29e8cb58876c",
       "version_major": 2,
       "version_minor": 0
      },
      "text/plain": [
       "config.json:   0%|          | 0.00/570 [00:00<?, ?B/s]"
      ]
     },
     "metadata": {},
     "output_type": "display_data"
    },
    {
     "data": {
      "application/vnd.jupyter.widget-view+json": {
       "model_id": "ae7f687bec6a429aa1611f1d9924dd61",
       "version_major": 2,
       "version_minor": 0
      },
      "text/plain": [
       "model.safetensors:   0%|          | 0.00/436M [00:00<?, ?B/s]"
      ]
     },
     "metadata": {},
     "output_type": "display_data"
    },
    {
     "data": {
      "application/vnd.jupyter.widget-view+json": {
       "model_id": "59602c54d9014844a6f6152e74f8a6d0",
       "version_major": 2,
       "version_minor": 0
      },
      "text/plain": [
       "tokenizer_config.json:   0%|          | 0.00/49.0 [00:00<?, ?B/s]"
      ]
     },
     "metadata": {},
     "output_type": "display_data"
    },
    {
     "data": {
      "application/vnd.jupyter.widget-view+json": {
       "model_id": "ed0e38d5457b4b44ace597f59219f5f9",
       "version_major": 2,
       "version_minor": 0
      },
      "text/plain": [
       "vocab.txt:   0%|          | 0.00/213k [00:00<?, ?B/s]"
      ]
     },
     "metadata": {},
     "output_type": "display_data"
    },
    {
     "data": {
      "application/vnd.jupyter.widget-view+json": {
       "model_id": "55918a82cb9648a6a9277290b4a25bd2",
       "version_major": 2,
       "version_minor": 0
      },
      "text/plain": [
       "tokenizer.json:   0%|          | 0.00/436k [00:00<?, ?B/s]"
      ]
     },
     "metadata": {},
     "output_type": "display_data"
    },
    {
     "name": "stderr",
     "output_type": "stream",
     "text": [
      "`loss_type=None` was set in the config but it is unrecognised.Using the default loss: `ForCausalLMLoss`.\n"
     ]
    },
    {
     "data": {
      "text/plain": [
       "('onnx_models/bert-base-cased/tokenizer_config.json',\n",
       " 'onnx_models/bert-base-cased/special_tokens_map.json',\n",
       " 'onnx_models/bert-base-cased/vocab.txt',\n",
       " 'onnx_models/bert-base-cased/added_tokens.json')"
      ]
     },
     "execution_count": 2,
     "metadata": {},
     "output_type": "execute_result"
    }
   ],
   "source": [
    "from transformers import BertTokenizer\n",
    "from optimum.intel import OVModelForFeatureExtraction\n",
    "\n",
    "MODEL_NAME = \"bert-base-cased\"\n",
    "EXPORT_PATH = f\"ov_models/{MODEL_NAME}\"\n",
    "\n",
    "ort_model = OVModelForFeatureExtraction.from_pretrained(MODEL_NAME, export=True)\n",
    "ort_model.save_pretrained(EXPORT_PATH)\n",
    "\n",
    "tokenizer = BertTokenizer.from_pretrained(MODEL_NAME)\n",
    "tokenizer.save_pretrained(EXPORT_PATH)"
   ]
  },
  {
   "cell_type": "markdown",
   "metadata": {
    "id": "BAs-wq_wVgSn"
   },
   "source": [
    "Let's have a look inside these two directories and see what we are dealing with:"
   ]
  },
  {
   "cell_type": "code",
   "execution_count": 3,
   "metadata": {
    "colab": {
     "base_uri": "https://localhost:8080/"
    },
    "id": "VKQESNCsVgSn",
    "outputId": "19416f0a-69ea-489b-f270-ff3f928b6e47"
   },
   "outputs": [
    {
     "name": "stdout",
     "output_type": "stream",
     "text": [
      "total 421368\n",
      "-rw-r--r-- 1 root root       634 Jun 18 18:07 config.json\n",
      "-rw-r--r-- 1 root root 430882976 Jun 18 18:07 openvino_model.bin\n",
      "-rw-r--r-- 1 root root    363433 Jun 18 18:07 openvino_model.xml\n",
      "-rw-r--r-- 1 root root       125 Jun 18 18:07 special_tokens_map.json\n",
      "-rw-r--r-- 1 root root      1273 Jun 18 18:07 tokenizer_config.json\n",
      "-rw-r--r-- 1 root root    213450 Jun 18 18:07 vocab.txt\n"
     ]
    }
   ],
   "source": [
    "!ls -l {EXPORT_PATH}"
   ]
  },
  {
   "cell_type": "markdown",
   "metadata": {
    "id": "_St1B6HJNlv6"
   },
   "source": [
    "- We need to move `vocab.txt` from the tokenizer to `assets` folder which Spark NLP will look for"
   ]
  },
  {
   "cell_type": "code",
   "execution_count": 5,
   "metadata": {
    "id": "pUAZartRNl__"
   },
   "outputs": [],
   "source": [
    "!mkdir -p {EXPORT_PATH}/assets && mv {EXPORT_PATH}/vocab.txt {EXPORT_PATH}/assets/"
   ]
  },
  {
   "cell_type": "code",
   "execution_count": 8,
   "metadata": {
    "colab": {
     "base_uri": "https://localhost:8080/"
    },
    "id": "daFkGhN-VgSn",
    "outputId": "90e85490-89da-49f2-fce0-1681a5f80188"
   },
   "outputs": [
    {
     "name": "stdout",
     "output_type": "stream",
     "text": [
      "total 212\n",
      "-rw-r--r-- 1 root root 213450 Jun 18 18:07 vocab.txt\n"
     ]
    }
   ],
   "source": [
    "!ls -l {EXPORT_PATH}/assets"
   ]
  },
  {
   "cell_type": "markdown",
   "metadata": {
    "id": "Mb_lbQxPNyPP"
   },
   "source": [
    "- Voila! We have our `vocab.txt` inside assets directory"
   ]
  },
  {
   "cell_type": "markdown",
   "metadata": {
    "id": "Wu9SELxrVgSo"
   },
   "source": [
    "## 2. Import and Save BERT in Spark NLP\n",
    "\n",
    "- Install and set up Spark NLP in Google Colab\n",
    "- This example uses specific versions of `pyspark` and `spark-nlp` that have been tested with the transformer model to ensure everything runs smoothly."
   ]
  },
  {
   "cell_type": "code",
   "execution_count": 7,
   "metadata": {
    "colab": {
     "base_uri": "https://localhost:8080/"
    },
    "id": "qGFNUdx-VgSo",
    "outputId": "91f607d5-7f46-436c-b30c-3d852bc98230"
   },
   "outputs": [
    {
     "name": "stdout",
     "output_type": "stream",
     "text": [
      "\u001b[2K     \u001b[90m━━━━━━━━━━━━━━━━━━━━━━━━━━━━━━━━━━━━━━━\u001b[0m \u001b[32m317.3/317.3 MB\u001b[0m \u001b[31m4.4 MB/s\u001b[0m eta \u001b[36m0:00:00\u001b[0m\n",
      "\u001b[?25h  Preparing metadata (setup.py) ... \u001b[?25l\u001b[?25hdone\n",
      "\u001b[2K   \u001b[90m━━━━━━━━━━━━━━━━━━━━━━━━━━━━━━━━━━━━━━━━\u001b[0m \u001b[32m635.7/635.7 kB\u001b[0m \u001b[31m39.6 MB/s\u001b[0m eta \u001b[36m0:00:00\u001b[0m\n",
      "\u001b[?25h  Building wheel for pyspark (setup.py) ... \u001b[?25l\u001b[?25hdone\n"
     ]
    }
   ],
   "source": [
    "!pip install -q pyspark==3.5.4 spark-nlp==5.5.3"
   ]
  },
  {
   "cell_type": "markdown",
   "metadata": {
    "id": "OjSBCMJ8VgSo"
   },
   "source": [
    "Let's start Spark with Spark NLP included via our simple `start()` function"
   ]
  },
  {
   "cell_type": "code",
   "execution_count": 9,
   "metadata": {
    "colab": {
     "base_uri": "https://localhost:8080/"
    },
    "id": "O_-C6N41VgSo",
    "outputId": "6bd4cde7-07e9-4859-fc5f-b248c65ca43d"
   },
   "outputs": [
    {
     "name": "stdout",
     "output_type": "stream",
     "text": [
      "Spark NLP version:  5.5.3\n",
      "Apache Spark version:  3.5.4\n"
     ]
    }
   ],
   "source": [
    "import sparknlp\n",
    "\n",
    "spark = sparknlp.start()\n",
    "\n",
    "print(\"Spark NLP version: \", sparknlp.version())\n",
    "print(\"Apache Spark version: \", spark.version)"
   ]
  },
  {
   "cell_type": "markdown",
   "metadata": {
    "id": "vSkOj2TbVgSo"
   },
   "source": [
    "- Let's use `loadSavedModel` functon in `BertEmbeddings` which allows us to load the OpenVINO model.\n",
    "- Most params will be set automatically. They can also be set later after loading the model in `BertEmbeddings` during runtime, so don't worry about setting them now.\n",
    "- `loadSavedModel` accepts two params, first is the path to the exported model. The second is the SparkSession that is `spark` variable we previously started via `sparknlp.start()`\n",
    "- `setStorageRef` is very important. When you are training a task like NER or any Text Classification, we use this reference to bound the trained model to this specific embeddings so you won't load a different embeddings by mistake and see terrible results. 😊\n",
    "- It's up to you what you put in `setStorageRef` but it cannot be changed later on. We usually use the name of the model to be clear, but you can get creative if you want!\n",
    "- The `dimension` param is is purely cosmetic and won't change anything. It's mostly for you to know later via `.getDimension` what is the dimension of your model. So set this accordingly.\n",
    "- NOTE: `loadSavedModel` accepts local paths in addition to distributed file systems such as `HDFS`, `S3`, `DBFS`, etc. This feature was introduced in Spark NLP 4.2.2 release. Keep in mind the best and recommended way to move/share/reuse Spark NLP models is to use `write.save` so you can use `.load()` from any file systems natively.st and recommended way to move/share/reuse Spark NLP models is to use `write.save` so you can use `.load()` from any file systems natively.\n"
   ]
  },
  {
   "cell_type": "code",
   "execution_count": 10,
   "metadata": {
    "id": "gm2YeA5SVgSo"
   },
   "outputs": [],
   "source": [
    "from sparknlp.annotator import BertEmbeddings\n",
    "\n",
    "bert = BertEmbeddings.loadSavedModel(f\"{EXPORT_PATH}\", spark)\\\n",
    "    .setInputCols([\"document\",'token'])\\\n",
    "    .setOutputCol(\"bert\")\\\n",
    "    .setCaseSensitive(True)\\\n",
    "    .setDimension(768)\\\n",
    "    .setStorageRef('bert_base_cased')"
   ]
  },
  {
   "cell_type": "markdown",
   "metadata": {
    "id": "Vc1qgzeRVgSp"
   },
   "source": [
    "- Let's save it on disk so it is easier to be moved around and also be used later via `.load` function"
   ]
  },
  {
   "cell_type": "code",
   "execution_count": 11,
   "metadata": {
    "id": "MPojDIHIVgSp"
   },
   "outputs": [],
   "source": [
    "bert.write().overwrite().save(f\"{MODEL_NAME}_spark_nlp\")"
   ]
  },
  {
   "cell_type": "markdown",
   "metadata": {
    "id": "9T5asBeAVgSp"
   },
   "source": [
    "Let's clean up stuff we don't need anymore"
   ]
  },
  {
   "cell_type": "code",
   "execution_count": 12,
   "metadata": {
    "id": "bTP2aEHwVgSp"
   },
   "outputs": [],
   "source": [
    "!rm -rf {EXPORT_PATH}"
   ]
  },
  {
   "cell_type": "markdown",
   "metadata": {
    "id": "cHSqqOFdVgSp"
   },
   "source": [
    "Awesome  😎 !\n",
    "\n",
    "This is your OpenVINO BERT model from HuggingFace 🤗  loaded and saved by Spark NLP 🚀"
   ]
  },
  {
   "cell_type": "code",
   "execution_count": 13,
   "metadata": {
    "colab": {
     "base_uri": "https://localhost:8080/"
    },
    "id": "1RlH-qyWVgSp",
    "outputId": "6b2c83d0-ffb5-423b-a517-3f0a99dd2914"
   },
   "outputs": [
    {
     "name": "stdout",
     "output_type": "stream",
     "text": [
      "total 421212\n",
      "-rw-r--r-- 1 root root 431312497 Jun 18 18:14 bert_openvino\n",
      "drwxr-xr-x 3 root root      4096 Jun 18 18:14 fields\n",
      "drwxr-xr-x 2 root root      4096 Jun 18 18:14 metadata\n"
     ]
    }
   ],
   "source": [
    "! ls -l {MODEL_NAME}_spark_nlp"
   ]
  },
  {
   "cell_type": "markdown",
   "metadata": {
    "id": "7EJHHhjkVgSp"
   },
   "source": [
    "Now let's see how we can use it on other machines, clusters, or any place you wish to use your new and shiny BERT model 😊"
   ]
  },
  {
   "cell_type": "code",
   "execution_count": 14,
   "metadata": {
    "colab": {
     "base_uri": "https://localhost:8080/"
    },
    "id": "2sDJ42WhVgSp",
    "outputId": "9bd19e26-8ff6-43e5-b169-495f61e479fd"
   },
   "outputs": [
    {
     "name": "stdout",
     "output_type": "stream",
     "text": [
      "+--------------------+\n",
      "|          embeddings|\n",
      "+--------------------+\n",
      "|[0.43426424, -0.3...|\n",
      "|[-0.033401597, -0...|\n",
      "|[0.38291305, 0.11...|\n",
      "|[-0.11996282, 0.2...|\n",
      "|[-0.4832556, 0.05...|\n",
      "|[-0.17415498, 0.2...|\n",
      "|[0.030411722, -0....|\n",
      "|[-0.09456845, -1....|\n",
      "|[0.20999405, 0.27...|\n",
      "|[-0.61759734, -0....|\n",
      "|[0.2620508, 0.319...|\n",
      "|[0.07179723, 0.31...|\n",
      "|[0.11466871, 0.16...|\n",
      "|[0.11231382, 0.22...|\n",
      "|[0.9711217, 0.130...|\n",
      "|[0.6206649, -0.10...|\n",
      "|[0.21066141, 0.42...|\n",
      "|[0.45186955, 0.24...|\n",
      "|[0.33472046, -0.1...|\n",
      "|[0.10000806, -0.3...|\n",
      "+--------------------+\n",
      "only showing top 20 rows\n",
      "\n"
     ]
    }
   ],
   "source": [
    "from pyspark.ml import Pipeline\n",
    "from sparknlp.annotator import Tokenizer\n",
    "from sparknlp.base import DocumentAssembler\n",
    "\n",
    "document_assembler = DocumentAssembler()\\\n",
    "    .setInputCol(\"text\")\\\n",
    "    .setOutputCol(\"document\")\n",
    "\n",
    "tokenizer = Tokenizer()\\\n",
    "    .setInputCols([\"document\"])\\\n",
    "    .setOutputCol(\"token\")\n",
    "\n",
    "bert_loaded = BertEmbeddings.load(f\"{MODEL_NAME}_spark_nlp\")\\\n",
    "    .setInputCols([\"document\",'token'])\\\n",
    "    .setOutputCol(\"bert\")\\\n",
    "\n",
    "pipeline = Pipeline(\n",
    "    stages = [\n",
    "        document_assembler,\n",
    "        tokenizer,\n",
    "        bert_loaded\n",
    "  ])\n",
    "\n",
    "data = spark.createDataFrame([\n",
    "    ['William Henry Gates III (born October 28, 1955) is an American business magnate, software developer, investor,and philanthropist.']\n",
    "]).toDF(\"text\")\n",
    "\n",
    "model = pipeline.fit(data)\n",
    "result = model.transform(data)\n",
    "\n",
    "result.selectExpr(\"explode(bert.embeddings) as embeddings\").show()"
   ]
  },
  {
   "cell_type": "markdown",
   "metadata": {
    "id": "Siac4rcNVgSp"
   },
   "source": [
    "That's it! You can now go wild and use hundreds of BERT models from HuggingFace 🤗 in Spark NLP 🚀\n"
   ]
  }
 ],
 "metadata": {
  "colab": {
   "provenance": []
  },
  "kernelspec": {
   "display_name": "Python 3",
   "language": "python",
   "name": "python3"
  },
  "language_info": {
   "codemirror_mode": {
    "name": "ipython",
    "version": 3
   },
   "file_extension": ".py",
   "mimetype": "text/x-python",
   "name": "python",
   "nbconvert_exporter": "python",
   "pygments_lexer": "ipython3",
   "version": "3.10.12"
  }
 },
 "nbformat": 4,
 "nbformat_minor": 0
}
