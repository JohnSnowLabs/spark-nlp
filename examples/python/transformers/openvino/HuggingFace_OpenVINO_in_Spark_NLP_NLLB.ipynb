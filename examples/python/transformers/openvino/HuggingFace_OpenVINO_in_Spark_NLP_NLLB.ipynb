{
 "cells": [
  {
   "cell_type": "markdown",
   "metadata": {
    "id": "FvX_yCcI4W7D"
   },
   "source": [
    "![JohnSnowLabs](https://sparknlp.org/assets/images/logo.png)\n",
    "\n",
    "[![Open In Colab](https://colab.research.google.com/assets/colab-badge.svg)](https://colab.research.google.com/github/JohnSnowLabs/spark-nlp/blob/master/examples/python/transformers/openvino/HuggingFace_OpenVINO_in_Spark_NLP_NLLB.ipynb)"
   ]
  },
  {
   "cell_type": "markdown",
   "metadata": {
    "id": "8J48sFcb4W7G"
   },
   "source": [
    "# Import OpenVINO NLLB models from HuggingFace 🤗 into Spark NLP 🚀\n",
    "\n",
    "This notebook provides a detailed walkthrough on optimizing and importing NLLB models from HuggingFace  for use in Spark NLP, with [Intel OpenVINO toolkit](https://www.intel.com/content/www/us/en/developer/tools/openvino-toolkit/overview.html). The focus is on converting the model to the OpenVINO format and applying precision optimizations (INT8 and INT4), to enhance the performance and efficiency on CPU platforms using [Optimum Intel](https://huggingface.co/docs/optimum/main/en/intel/inference).\n",
    "\n",
    "Let's keep in mind a few things before we start 😊\n",
    "\n",
    "- OpenVINO support was introduced in  `Spark NLP 5.4.0`, enabling high performance CPU inference for models. So please make sure you have upgraded to the latest Spark NLP release.\n",
    "- Model quantization is a computationally expensive process, so it is recommended to use a runtime with more than 32GB memory for exporting the quantized model from HuggingFace.\n",
    "- You can import NLLB models via `NLLBModel`. These models are usually under `Text Generation` category and have `NLLB` in their labels.\n",
    "- Some [example models](https://huggingface.co/models?search=NLLB)"
   ]
  },
  {
   "cell_type": "markdown",
   "metadata": {
    "id": "Ko24PkTd4W7H"
   },
   "source": [
    "## 1. Export and Save the HuggingFace model\n",
    "\n",
    "- Let's install `transformers` and `openvino` packages with other dependencies. You don't need `openvino` to be installed for Spark NLP, however, we need it to load and save models from HuggingFace.\n",
    "- We lock `transformers` on version `4.48.3`. This doesn't mean it won't work with the future release, but we wanted you to know which versions have been tested successfully."
   ]
  },
  {
   "cell_type": "code",
   "execution_count": null,
   "metadata": {
    "colab": {
     "base_uri": "https://localhost:8080/"
    },
    "id": "2rOdslOi4W7H",
    "outputId": "a3f8aff3-bde9-4a27-b3ac-212e44291887"
   },
   "outputs": [],
   "source": [
    "!pip install -q --upgrade transformers==4.48.3 optimum[openvino]"
   ]
  },
  {
   "cell_type": "markdown",
   "metadata": {
    "id": "ix0eFHLu4W7J"
   },
   "source": [
    "[Optimum Intel](https://github.com/huggingface/optimum-intel?tab=readme-ov-file#openvino) is the interface between the Transformers library and the various model optimization and acceleration tools provided by Intel. HuggingFace models loaded with optimum-intel are automatically optimized for OpenVINO, while being compatible with the Transformers API. It also offers the ability to perform weight compression during export.\n",
    "- To load a HuggingFace model directly for inference/export, just replace the `AutoModelForXxx` class with the corresponding `OVModelForXxx` class. We can use this to import and export OpenVINO models with `from_pretrained` and `save_pretrained`.\n",
    "- By setting `export=True`, the source model is converted to OpenVINO IR format on the fly.\n",
    "- We'll use [openbmb/NLLB-2B-dpo-bf16](https://huggingface.co/openbmb/NLLB-2B-dpo-bf16) model from HuggingFace as an example.\n",
    "- In addition to `NLLBModel` we also need to save the tokenizer. This is the same for every model, these are assets needed for tokenization inside Spark NLP."
   ]
  },
  {
   "cell_type": "markdown",
   "metadata": {
    "id": "8nuLKzS8F1vt"
   },
   "source": [
    "### Option 1: Exporting to OpenVINO IR in INT8 Precision\n",
    "\n",
    "Passing the `load_in_8bit` parameter applies 8-bit quantization on the model weights."
   ]
  },
  {
   "cell_type": "code",
   "execution_count": 2,
   "metadata": {
    "colab": {
     "base_uri": "https://localhost:8080/",
     "height": 1000,
     "referenced_widgets": [
      "cfdda3866b9e462aa8e8f86046eef51b",
      "0b72b458b3624dfeade67cfa921ed497",
      "be0065c3b04d44178dbbcc9b47dedf64",
      "32da95f263064334bc7911e024a40819",
      "561fd78c13624ebeaaa90c916758ad4e",
      "a1caf1453394486f8a6236f861146c4b",
      "da9f20a2f4d24faf80d765cce553f4c1",
      "9cc9d031f8974d1a85300482217c7114",
      "be618f5e06f1423e9c9db61a8343b0cb",
      "b8385c5e2c6d4bc78dfa94a37fd0a337",
      "d8d38fa22e2a46289d08b8b801fb45e1",
      "eb5a5fc92b014206be8ed485323dbd02",
      "15950d4bb1d64843a2b2678c6db2560b",
      "07c4c3482f49449ba1e6b51555d225ca",
      "6d997ad873e84a1dad620aae1553690a",
      "ddc5ee284471468da301af4c47f119ee",
      "36cdfa22c29947ce995b83e6570c7469",
      "7c41a7a0f2674d0bb201d0eede2fda2d",
      "c06159bd12c1473382d19c825b3f4e34",
      "aaecc69da9054c3f953f923afdb1ec9f",
      "4b49469a5b3e4d53a3798436fd40d57e",
      "434222b50bc74951b3cff4ed539a3794",
      "88c6626daad44485b554b92985be0a48",
      "bb7e1b7ca5bd490bb732e779f42fba74",
      "cd504f6b56aa4e2aa9714f9017cccd6e",
      "d918c3d8a3984c5ba5c1992f49558a68",
      "a0f99961edad4c27819c9e8839b1c249",
      "15a8abee8eef4f10ab5b74c14c08b3ba",
      "3103fcf755fe46ce851a194910f29942",
      "7c1ecedc522a45ca981bbabae6fe809c",
      "278f6a4536d1404f836d8f9a61bfc15b",
      "b8a690b00b87478990acc14cc0056e0e",
      "86f93df476994f91a0a59186bcc40213",
      "d513150730b042578f57d02e5e7d2859",
      "637ecc623de1468b8a7bd785619562a8",
      "4eca2bf6f78146d18ef96a8e5a9e7b95",
      "b3cfc35756d14abcb0d17b713943f358",
      "23c1d0f0f9324644ac6832555f9628ea",
      "4cd79a72c1ba4151b774f210d7a27b4b",
      "1e6eb84056d5483ba9cbb82b0008ba63",
      "556f3f75101948c4afc337cc36d64f00",
      "63e271a30dc04c15badbbec3046e3b38",
      "a097b7960c394f56b7d5d8485fcdd160",
      "f30c05c8b5b5461b8efa7604913f455e",
      "fa73c6e4ab634c0f944e0b76787c349e",
      "6f0ec3d7eb85487ea0d4783eb3886384",
      "0b7855269870453ea006f7aa3885c3e3",
      "deacc884fedb4f9c8067d37da6fd1bda",
      "7500ef90f298452982301695a6ce1f37",
      "eec45a7a3fde492b9af197e575feef1b",
      "2f4551d8c0814cbf884f1eb8ba2e41d9",
      "a84d8c969c0146a79f330f47e5bec457",
      "f68be84965ec42a28d8acdba4d158794",
      "c21b6041689f45929eb1dded2de6c05c",
      "803374af2d8a41a995c9c0f6828a26a3",
      "39b1ef1e0de94c51be524bf039239fe1",
      "43c3827d5e7b484eb927dae31821f285",
      "b8a77340fb69402ab18dea5a6d6ab0fc",
      "e96cf58f0f9b4ec9995d3bb1bb222438",
      "a1075b1f7efa4682913024dbad552b9b",
      "1a56a080e9d148d08bde681666cd3ac9",
      "35733b86f64a466a8a1d91e027b0b6de",
      "241585fa50a8443fb9f8c19fb238d338",
      "6914a31025e54cb3a616442b76635949",
      "b04a671aac234dadae34014a9f03f12a",
      "e6d26d2c5bc54bc9a0eef9d6343eec1e",
      "fa37352864ab4cbbbb7fac721b2b3514",
      "fec5184efd5b4ceab1af63d09c622030",
      "c0bf85dbc6b24d40bd231f533f885eee",
      "a86f5f6f57524dea83a7153bfa2a2d9a",
      "da3fc8174eba40c683a8b2014871dd05",
      "a1f30cffe0644d49847a2edfec0553c2",
      "d5efcf0d4848468e8d968a9e09dba033",
      "e4e75deda7b64d7ca675f347aca8c21b",
      "b54ebbc24de941e08cf843cdba73701a",
      "c2303f66a9eb4bb1b3908bef371bc27a",
      "1e9df9516dec4582b7cc77c83754b45e",
      "7398fd5a81e24f0b983c16f11e3f3fdf",
      "d8a2b8f0d7d640d9a14909b9a79f559d",
      "fa18da9190aa47ac9186a6e73985b0eb",
      "1153c9c18929438aa15e4b2ff7c72d9c",
      "536ee403018a4649b401c709b0244807",
      "36b02c9f681f4d4b9534f0b4b19d2c76",
      "c394564077c44ff6a115b9ddcf22e62a",
      "f4e0bb1224c64ee09c88ab70a2cddba4",
      "586e8925c98b4cb8bd8a55cce6ddf665",
      "76d4010100594b4db7735c74011bf811",
      "b868bc15abc14154a356f6f37831d992",
      "a594a5369fa34797a719297e538662b8",
      "6d78c4200d624619938e854f65d3ad72",
      "407324711b914082ae93a6d028d5c2a7",
      "923ab57f963e460ea8574d54c5ae79a8",
      "9bb73e810e1e43f7998255c7a086f344",
      "c5a353b42061488c901ee20137f55792"
     ]
    },
    "id": "A2Riwnrhpc7n",
    "outputId": "ab069559-e163-4a61-a784-4b44a5d6aed6"
   },
   "outputs": [
    {
     "name": "stderr",
     "output_type": "stream",
     "text": [
      "No CUDA runtime is found, using CUDA_HOME='/usr/local/cuda'\n",
      "/usr/local/lib/python3.11/dist-packages/huggingface_hub/utils/_auth.py:94: UserWarning: \n",
      "The secret `HF_TOKEN` does not exist in your Colab secrets.\n",
      "To authenticate with the Hugging Face Hub, create a token in your settings tab (https://huggingface.co/settings/tokens), set it as secret in your Google Colab and restart your session.\n",
      "You will be able to reuse this secret in all of your notebooks.\n",
      "Please note that authentication is recommended but still optional to access public models or datasets.\n",
      "  warnings.warn(\n"
     ]
    },
    {
     "data": {
      "application/vnd.jupyter.widget-view+json": {
       "model_id": "cfdda3866b9e462aa8e8f86046eef51b",
       "version_major": 2,
       "version_minor": 0
      },
      "text/plain": [
       "config.json:   0%|          | 0.00/846 [00:00<?, ?B/s]"
      ]
     },
     "metadata": {},
     "output_type": "display_data"
    },
    {
     "data": {
      "application/vnd.jupyter.widget-view+json": {
       "model_id": "eb5a5fc92b014206be8ed485323dbd02",
       "version_major": 2,
       "version_minor": 0
      },
      "text/plain": [
       "pytorch_model.bin:   0%|          | 0.00/2.46G [00:00<?, ?B/s]"
      ]
     },
     "metadata": {},
     "output_type": "display_data"
    },
    {
     "data": {
      "application/vnd.jupyter.widget-view+json": {
       "model_id": "88c6626daad44485b554b92985be0a48",
       "version_major": 2,
       "version_minor": 0
      },
      "text/plain": [
       "generation_config.json:   0%|          | 0.00/189 [00:00<?, ?B/s]"
      ]
     },
     "metadata": {},
     "output_type": "display_data"
    },
    {
     "data": {
      "application/vnd.jupyter.widget-view+json": {
       "model_id": "d513150730b042578f57d02e5e7d2859",
       "version_major": 2,
       "version_minor": 0
      },
      "text/plain": [
       "model.safetensors:   0%|          | 0.00/2.46G [00:00<?, ?B/s]"
      ]
     },
     "metadata": {},
     "output_type": "display_data"
    },
    {
     "data": {
      "application/vnd.jupyter.widget-view+json": {
       "model_id": "fa73c6e4ab634c0f944e0b76787c349e",
       "version_major": 2,
       "version_minor": 0
      },
      "text/plain": [
       "tokenizer_config.json:   0%|          | 0.00/564 [00:00<?, ?B/s]"
      ]
     },
     "metadata": {},
     "output_type": "display_data"
    },
    {
     "data": {
      "application/vnd.jupyter.widget-view+json": {
       "model_id": "39b1ef1e0de94c51be524bf039239fe1",
       "version_major": 2,
       "version_minor": 0
      },
      "text/plain": [
       "sentencepiece.bpe.model:   0%|          | 0.00/4.85M [00:00<?, ?B/s]"
      ]
     },
     "metadata": {},
     "output_type": "display_data"
    },
    {
     "data": {
      "application/vnd.jupyter.widget-view+json": {
       "model_id": "fa37352864ab4cbbbb7fac721b2b3514",
       "version_major": 2,
       "version_minor": 0
      },
      "text/plain": [
       "tokenizer.json:   0%|          | 0.00/17.3M [00:00<?, ?B/s]"
      ]
     },
     "metadata": {},
     "output_type": "display_data"
    },
    {
     "data": {
      "application/vnd.jupyter.widget-view+json": {
       "model_id": "7398fd5a81e24f0b983c16f11e3f3fdf",
       "version_major": 2,
       "version_minor": 0
      },
      "text/plain": [
       "special_tokens_map.json:   0%|          | 0.00/3.55k [00:00<?, ?B/s]"
      ]
     },
     "metadata": {},
     "output_type": "display_data"
    },
    {
     "name": "stderr",
     "output_type": "stream",
     "text": [
      "Moving the following attributes in the config to the generation config: {'max_length': 200}. You are seeing this warning because you've set generation parameters in the model config, as opposed to in the generation config.\n",
      "`loss_type=None` was set in the config but it is unrecognised.Using the default loss: `ForCausalLMLoss`.\n",
      "/usr/local/lib/python3.11/dist-packages/transformers/models/m2m_100/modeling_m2m_100.py:161: TracerWarning: Converting a tensor to a Python boolean might cause the trace to be incorrect. We can't record the data flow of Python values, so this value will be treated as a constant in the future. This means that the trace might not generalize to other inputs!\n",
      "  if max_pos > self.weights.size(0):\n",
      "/usr/local/lib/python3.11/dist-packages/transformers/models/m2m_100/modeling_m2m_100.py:560: TracerWarning: Converting a tensor to a Python boolean might cause the trace to be incorrect. We can't record the data flow of Python values, so this value will be treated as a constant in the future. This means that the trace might not generalize to other inputs!\n",
      "  if attn_output.size() != (bsz, self.num_heads, tgt_len, self.head_dim):\n",
      "/usr/local/lib/python3.11/dist-packages/transformers/modeling_attn_mask_utils.py:88: TracerWarning: Converting a tensor to a Python boolean might cause the trace to be incorrect. We can't record the data flow of Python values, so this value will be treated as a constant in the future. This means that the trace might not generalize to other inputs!\n",
      "  if input_shape[-1] > 1 or self.sliding_window is not None:\n",
      "/usr/local/lib/python3.11/dist-packages/transformers/modeling_attn_mask_utils.py:164: TracerWarning: Converting a tensor to a Python boolean might cause the trace to be incorrect. We can't record the data flow of Python values, so this value will be treated as a constant in the future. This means that the trace might not generalize to other inputs!\n",
      "  if past_key_values_length > 0:\n",
      "/usr/local/lib/python3.11/dist-packages/transformers/models/m2m_100/modeling_m2m_100.py:547: TracerWarning: Converting a tensor to a Python boolean might cause the trace to be incorrect. We can't record the data flow of Python values, so this value will be treated as a constant in the future. This means that the trace might not generalize to other inputs!\n",
      "  is_causal = True if self.is_causal and attention_mask is None and tgt_len > 1 else False\n",
      "/usr/local/lib/python3.11/dist-packages/transformers/models/m2m_100/modeling_m2m_100.py:512: TracerWarning: Converting a tensor to a Python boolean might cause the trace to be incorrect. We can't record the data flow of Python values, so this value will be treated as a constant in the future. This means that the trace might not generalize to other inputs!\n",
      "  and past_key_value[0].shape[2] == key_value_states.shape[1]\n"
     ]
    },
    {
     "name": "stdout",
     "output_type": "stream",
     "text": [
      "INFO:nncf:Statistics of the bitwidth distribution:\n",
      "┍━━━━━━━━━━━━━━━━━━━━━━━━━━━┯━━━━━━━━━━━━━━━━━━━━━━━━━━━━━┯━━━━━━━━━━━━━━━━━━━━━━━━━━━━━━━━━━━━━━━━┑\n",
      "│ Weight compression mode   │ % all parameters (layers)   │ % ratio-defining parameters (layers)   │\n",
      "┝━━━━━━━━━━━━━━━━━━━━━━━━━━━┿━━━━━━━━━━━━━━━━━━━━━━━━━━━━━┿━━━━━━━━━━━━━━━━━━━━━━━━━━━━━━━━━━━━━━━━┥\n",
      "│ int8_asym                 │ 100% (74 / 74)              │ 100% (74 / 74)                         │\n",
      "┕━━━━━━━━━━━━━━━━━━━━━━━━━━━┷━━━━━━━━━━━━━━━━━━━━━━━━━━━━━┷━━━━━━━━━━━━━━━━━━━━━━━━━━━━━━━━━━━━━━━━┙\n"
     ]
    },
    {
     "data": {
      "application/vnd.jupyter.widget-view+json": {
       "model_id": "a594a5369fa34797a719297e538662b8",
       "version_major": 2,
       "version_minor": 0
      },
      "text/plain": [
       "Output()"
      ]
     },
     "metadata": {},
     "output_type": "display_data"
    },
    {
     "data": {
      "text/html": [
       "<pre style=\"white-space:pre;overflow-x:auto;line-height:normal;font-family:Menlo,'DejaVu Sans Mono',consolas,'Courier New',monospace\"></pre>\n"
      ],
      "text/plain": []
     },
     "metadata": {},
     "output_type": "display_data"
    },
    {
     "name": "stdout",
     "output_type": "stream",
     "text": [
      "INFO:nncf:Statistics of the bitwidth distribution:\n",
      "┍━━━━━━━━━━━━━━━━━━━━━━━━━━━┯━━━━━━━━━━━━━━━━━━━━━━━━━━━━━┯━━━━━━━━━━━━━━━━━━━━━━━━━━━━━━━━━━━━━━━━┑\n",
      "│ Weight compression mode   │ % all parameters (layers)   │ % ratio-defining parameters (layers)   │\n",
      "┝━━━━━━━━━━━━━━━━━━━━━━━━━━━┿━━━━━━━━━━━━━━━━━━━━━━━━━━━━━┿━━━━━━━━━━━━━━━━━━━━━━━━━━━━━━━━━━━━━━━━┥\n",
      "│ int8_asym                 │ 100% (122 / 122)            │ 100% (122 / 122)                       │\n",
      "┕━━━━━━━━━━━━━━━━━━━━━━━━━━━┷━━━━━━━━━━━━━━━━━━━━━━━━━━━━━┷━━━━━━━━━━━━━━━━━━━━━━━━━━━━━━━━━━━━━━━━┙\n"
     ]
    },
    {
     "data": {
      "application/vnd.jupyter.widget-view+json": {
       "model_id": "407324711b914082ae93a6d028d5c2a7",
       "version_major": 2,
       "version_minor": 0
      },
      "text/plain": [
       "Output()"
      ]
     },
     "metadata": {},
     "output_type": "display_data"
    },
    {
     "data": {
      "text/html": [
       "<pre style=\"white-space:pre;overflow-x:auto;line-height:normal;font-family:Menlo,'DejaVu Sans Mono',consolas,'Courier New',monospace\"></pre>\n"
      ],
      "text/plain": []
     },
     "metadata": {},
     "output_type": "display_data"
    },
    {
     "name": "stdout",
     "output_type": "stream",
     "text": [
      "INFO:nncf:Statistics of the bitwidth distribution:\n",
      "┍━━━━━━━━━━━━━━━━━━━━━━━━━━━┯━━━━━━━━━━━━━━━━━━━━━━━━━━━━━┯━━━━━━━━━━━━━━━━━━━━━━━━━━━━━━━━━━━━━━━━┑\n",
      "│ Weight compression mode   │ % all parameters (layers)   │ % ratio-defining parameters (layers)   │\n",
      "┝━━━━━━━━━━━━━━━━━━━━━━━━━━━┿━━━━━━━━━━━━━━━━━━━━━━━━━━━━━┿━━━━━━━━━━━━━━━━━━━━━━━━━━━━━━━━━━━━━━━━┥\n",
      "│ int8_asym                 │ 100% (98 / 98)              │ 100% (98 / 98)                         │\n",
      "┕━━━━━━━━━━━━━━━━━━━━━━━━━━━┷━━━━━━━━━━━━━━━━━━━━━━━━━━━━━┷━━━━━━━━━━━━━━━━━━━━━━━━━━━━━━━━━━━━━━━━┙\n"
     ]
    },
    {
     "data": {
      "application/vnd.jupyter.widget-view+json": {
       "model_id": "9bb73e810e1e43f7998255c7a086f344",
       "version_major": 2,
       "version_minor": 0
      },
      "text/plain": [
       "Output()"
      ]
     },
     "metadata": {},
     "output_type": "display_data"
    },
    {
     "data": {
      "text/html": [
       "<pre style=\"white-space:pre;overflow-x:auto;line-height:normal;font-family:Menlo,'DejaVu Sans Mono',consolas,'Courier New',monospace\"></pre>\n"
      ],
      "text/plain": []
     },
     "metadata": {},
     "output_type": "display_data"
    },
    {
     "name": "stderr",
     "output_type": "stream",
     "text": [
      "Moving the following attributes in the config to the generation config: {'max_length': 200}. You are seeing this warning because you've set generation parameters in the model config, as opposed to in the generation config.\n",
      "/usr/local/lib/python3.11/dist-packages/transformers/configuration_utils.py:394: UserWarning: Some non-default generation parameters are set in the model config. These should go into either a) `model.generation_config` (as opposed to `model.config`); OR b) a GenerationConfig file (https://huggingface.co/docs/transformers/generation_strategies#save-a-custom-decoding-strategy-with-your-model).This warning will become an exception in the future.\n",
      "Non-default generation parameters: {'max_length': 200}\n",
      "  warnings.warn(\n"
     ]
    }
   ],
   "source": [
    "from optimum.intel.openvino import OVQuantizer, OVModelForCausalLM, OVModelForSeq2SeqLM\n",
    "from transformers import AutoTokenizer, AutoConfig\n",
    "\n",
    "MODEL_NAME = \"facebook/nllb-200-distilled-600M\"\n",
    "EXPORT_PATH = f\"./models/int8/{MODEL_NAME}\"\n",
    "\n",
    "model = OVModelForSeq2SeqLM.from_pretrained(\n",
    "    MODEL_NAME, export=True, load_in_8bit=True, trust_remote_code=True\n",
    ")\n",
    "\n",
    "tokenizer = AutoTokenizer.from_pretrained(MODEL_NAME)\n",
    "config = AutoConfig.from_pretrained(MODEL_NAME)\n",
    "\n",
    "model.save_pretrained(f\"./models/int8/{MODEL_NAME}\")\n",
    "tokenizer.save_pretrained(f\"./models/int8/{MODEL_NAME}/assets\")\n",
    "config.save_pretrained(f\"./models/int8/{MODEL_NAME}/assets\")"
   ]
  },
  {
   "cell_type": "code",
   "execution_count": 3,
   "metadata": {
    "id": "sIMMISKYl206"
   },
   "outputs": [],
   "source": [
    "import json\n",
    "import os\n",
    "\n",
    "vocab = tokenizer.get_vocab()\n",
    "vocab_path = os.path.join(\"models\", \"int8\", MODEL_NAME, \"assets\", \"vocab.json\")\n",
    "\n",
    "with open(vocab_path, \"w\") as f:\n",
    "    json.dump(vocab, f)"
   ]
  },
  {
   "cell_type": "markdown",
   "metadata": {
    "id": "U5mMBxUEF6Z9"
   },
   "source": [
    "### Option 2: Exporting to OpenVINO IR in INT4 Precision\n",
    "\n",
    "Alternately, Optimum Intel also provides [4-bit weight compression](https://huggingface.co/docs/optimum/intel/optimization_ov#4-bit) with `OVWeightQuantizationConfig` class to control weight quantization parameters. The `ratio` parameter controls the ratio between 4-bit and 8-bit quantization. If set to 0.8, it means that 80% of the layers will be quantized to int4 while the remaining 20% will be quantized to int8."
   ]
  },
  {
   "cell_type": "code",
   "execution_count": 2,
   "metadata": {
    "colab": {
     "base_uri": "https://localhost:8080/",
     "height": 1000,
     "referenced_widgets": [
      "716ef64d8d33442e9ee2b896b67a12e8",
      "66590c7b0d8343c4baef66a51ddd9c99",
      "b872bbada8484ed180ed8b036921881d",
      "1744d68da88f41ee93dc48344e7ca4ca",
      "2c80586289e94696a7b8872ea439a138",
      "2c6b6980861b4af180243ae97306626c",
      "cc9e6320b15d44928506f260f79517f7",
      "c9157d022d5248aa9647935584698ff9",
      "c720cd4e2ac34439ac2bf404c4a43cd1",
      "cc8c49ef303344bbba4562c46dbf4f7d",
      "17c8ad9a912442deaa8e6d404b21c24d",
      "3237e2c63a0845009b9a648c1b55a0b0",
      "4c6e9735d7f64d8d8ed37245b837bba6",
      "4c267c7915ff4473a35465092935bfcc",
      "c392da597301471299e03bf12c95e436",
      "cacf20984a784675915513bcb7d1ca16",
      "15c2ae725d8c446688af78e129d23b94",
      "59b1678640814192b87d37a7b9abed81",
      "c914d28b7ac4485896fa0f59c9a0fdfa",
      "65d83598c0b6448696eee14bdee6c68b",
      "9cb32781dfd94a388763ef3bdb7cb746",
      "5e30887ec38b4aa284523800e8d9a595",
      "a87eee8c09c3420a92b8280fd03f3d7e",
      "0668839a77574f8a93af107f81d01b73",
      "6ed3460e84664dd5904a38ec7662e5f2",
      "f82eaeb4f5884fe9974d11b3fcc91248",
      "feb34575c5bb43c893212c985d700595",
      "75ea40807be64cb5a950fb1dbd9da1f4",
      "d27c82762b434fc48b52ddb7f1cb6694",
      "0e3ee7d38cb24886a6a7524089dbe4b9",
      "a053fae95f7e4af4a2e4e0eb9c660800",
      "607affcb18884c77a4543bfc383d1eea",
      "6bba533109244ef89aa5502e5a9b9219",
      "ecedb3a04227454791ac2e75f25cfe86",
      "8a11175e367b4cf192788bbb7886fac7",
      "0889422897ab43c39f5438437ef84bf0",
      "ccfb3940a3ef4c64808f4d54936eb1cb",
      "3436302585b440a7acfbb30a169fb849",
      "dca9352d402c44738ca2460342ff85de",
      "aba21ada1d084573b7affa52ee6e0399",
      "1948e36e4c6a48a6b5594426b4990d82",
      "38ab5698b5de48d59b9e64d386c01119",
      "0ecf4760f1f1467999f307078f86cdbe",
      "4c08bcf55fc94ee983fc8950c8d20c42",
      "6d6ea922351a4889a38d04142777e193",
      "249c62ac87e94471b738831ecc127799",
      "b851828600404fc7b9d67b3415718a94",
      "d9dd4dfb2a504e2cbaded628efeca8b1",
      "304f40de0b874da198f60e883cbf28d6",
      "b5aee462362141e880efbc2f03af06e8",
      "b5b5e473e9cf4f429f789163e4eab4b7",
      "b819e36d88044a33a110fd9ffd6544c6",
      "6e6536481fb94f1a96f164bc3e372ce8",
      "d5dca06e37b44929aac514cba8ae8340",
      "e9f8b01296494ec381e4f2e2f4794801",
      "19716ac6ab574be1870cd42bf8b1acaf",
      "b08367fd0e0f40b48cd814d419cdc9ca",
      "4a9f1553b89443afb0e1368acd4a9f85",
      "d3e20e4c458f409d93f4c621a3158df7",
      "6214deedc30940faa795879fb09cd791",
      "ce117dc4d81444639cd5127f3a461733",
      "44e93df9acd047f1927063d400161c3a",
      "4558fbc4f90041cd990cf5a3bcfeeeea",
      "c67bb4f5244f46bab5d167c6d43becf8",
      "1c9251acd22340a49fbf05bfe588f6f7",
      "65ef711802fc49908d10de0a23b2e0a1",
      "074f761200834497a87775258588b23c",
      "7dcd8e960f72443fb66285ea4d719dae",
      "f9d64f1b82bd4c2ebc12be0d2926a47e",
      "bb8b215003c446f0b87f49908ade4089",
      "d478e6e2bc9f4b939b18a7d72c884b3a",
      "77498276227346f7ae5b4006e6790bad",
      "04b5a45c31b1426bb717b4d9c73e0380",
      "81f52f2b859f4ea8abd65665814fc71b",
      "0a3f89fec616401c8caa684d443f1a1a",
      "43238310999448f5945c39df515f89f0",
      "12baf8a4ddd14573941bd7c2e54a56ef",
      "69129b5a15bd4559a7632b5449794c3f",
      "cf9a0a77022e45d699c042aa790205a7",
      "907edf401d044d99832dc9e7cdd132d6",
      "854ee59b078b4474986d76a8c4242346",
      "848d23f3abbc438281a02c287a359ebe",
      "7dce816c696b4221b7f5514f1be0af1c",
      "e5cf277d00df44d69928ab9c0025ec97",
      "e147754e65214d3f840282f9d1cccb22",
      "3cbfb3c1e3e94c4380de4f9517bdca0b",
      "4501b9be9a8943169dc4733a8c6f8b00",
      "2247d76848984eed8246de050bfb6148",
      "da1470ebf334438eac42b728643b024d",
      "2bd7b4d4844d4d7da47c41a4ea54cd66",
      "562dcbd4f6464c7788341001155dbcd5",
      "1d954a86faae492a8732d568cf17ece7",
      "f3dcc7b2c7ed4368a3a1f5d1d40fcf79",
      "d11f4d792501482cbc4203e7c548d10a",
      "256cd2fd79de4f2b8515e44fd3c92705",
      "773efeb4b0ca44489cec4d93bb0993d6",
      "c8b0822ba5234bec953cc05aec846ec8",
      "e50a480c68be49978c8c9a44b97ce804",
      "937dfcf2b1564714aec6d471f245b06c",
      "7370bbc4332a47a292c71ec24a976a24"
     ]
    },
    "id": "KOOEcU0kpc7o",
    "outputId": "0e61c953-34e9-44db-f48a-f6d5feb3fdf8"
   },
   "outputs": [
    {
     "name": "stderr",
     "output_type": "stream",
     "text": [
      "No CUDA runtime is found, using CUDA_HOME='/usr/local/cuda'\n",
      "/usr/local/lib/python3.11/dist-packages/huggingface_hub/utils/_auth.py:94: UserWarning: \n",
      "The secret `HF_TOKEN` does not exist in your Colab secrets.\n",
      "To authenticate with the Hugging Face Hub, create a token in your settings tab (https://huggingface.co/settings/tokens), set it as secret in your Google Colab and restart your session.\n",
      "You will be able to reuse this secret in all of your notebooks.\n",
      "Please note that authentication is recommended but still optional to access public models or datasets.\n",
      "  warnings.warn(\n"
     ]
    },
    {
     "data": {
      "application/vnd.jupyter.widget-view+json": {
       "model_id": "716ef64d8d33442e9ee2b896b67a12e8",
       "version_major": 2,
       "version_minor": 0
      },
      "text/plain": [
       "config.json:   0%|          | 0.00/846 [00:00<?, ?B/s]"
      ]
     },
     "metadata": {},
     "output_type": "display_data"
    },
    {
     "data": {
      "application/vnd.jupyter.widget-view+json": {
       "model_id": "3237e2c63a0845009b9a648c1b55a0b0",
       "version_major": 2,
       "version_minor": 0
      },
      "text/plain": [
       "pytorch_model.bin:   0%|          | 0.00/2.46G [00:00<?, ?B/s]"
      ]
     },
     "metadata": {},
     "output_type": "display_data"
    },
    {
     "data": {
      "application/vnd.jupyter.widget-view+json": {
       "model_id": "a87eee8c09c3420a92b8280fd03f3d7e",
       "version_major": 2,
       "version_minor": 0
      },
      "text/plain": [
       "model.safetensors:   0%|          | 0.00/2.46G [00:00<?, ?B/s]"
      ]
     },
     "metadata": {},
     "output_type": "display_data"
    },
    {
     "data": {
      "application/vnd.jupyter.widget-view+json": {
       "model_id": "ecedb3a04227454791ac2e75f25cfe86",
       "version_major": 2,
       "version_minor": 0
      },
      "text/plain": [
       "generation_config.json:   0%|          | 0.00/189 [00:00<?, ?B/s]"
      ]
     },
     "metadata": {},
     "output_type": "display_data"
    },
    {
     "data": {
      "application/vnd.jupyter.widget-view+json": {
       "model_id": "6d6ea922351a4889a38d04142777e193",
       "version_major": 2,
       "version_minor": 0
      },
      "text/plain": [
       "tokenizer_config.json:   0%|          | 0.00/564 [00:00<?, ?B/s]"
      ]
     },
     "metadata": {},
     "output_type": "display_data"
    },
    {
     "data": {
      "application/vnd.jupyter.widget-view+json": {
       "model_id": "19716ac6ab574be1870cd42bf8b1acaf",
       "version_major": 2,
       "version_minor": 0
      },
      "text/plain": [
       "sentencepiece.bpe.model:   0%|          | 0.00/4.85M [00:00<?, ?B/s]"
      ]
     },
     "metadata": {},
     "output_type": "display_data"
    },
    {
     "data": {
      "application/vnd.jupyter.widget-view+json": {
       "model_id": "074f761200834497a87775258588b23c",
       "version_major": 2,
       "version_minor": 0
      },
      "text/plain": [
       "tokenizer.json:   0%|          | 0.00/17.3M [00:00<?, ?B/s]"
      ]
     },
     "metadata": {},
     "output_type": "display_data"
    },
    {
     "data": {
      "application/vnd.jupyter.widget-view+json": {
       "model_id": "69129b5a15bd4559a7632b5449794c3f",
       "version_major": 2,
       "version_minor": 0
      },
      "text/plain": [
       "special_tokens_map.json:   0%|          | 0.00/3.55k [00:00<?, ?B/s]"
      ]
     },
     "metadata": {},
     "output_type": "display_data"
    },
    {
     "name": "stderr",
     "output_type": "stream",
     "text": [
      "Moving the following attributes in the config to the generation config: {'max_length': 200}. You are seeing this warning because you've set generation parameters in the model config, as opposed to in the generation config.\n",
      "`loss_type=None` was set in the config but it is unrecognised.Using the default loss: `ForCausalLMLoss`.\n",
      "/usr/local/lib/python3.11/dist-packages/transformers/models/m2m_100/modeling_m2m_100.py:161: TracerWarning: Converting a tensor to a Python boolean might cause the trace to be incorrect. We can't record the data flow of Python values, so this value will be treated as a constant in the future. This means that the trace might not generalize to other inputs!\n",
      "  if max_pos > self.weights.size(0):\n",
      "/usr/local/lib/python3.11/dist-packages/transformers/models/m2m_100/modeling_m2m_100.py:560: TracerWarning: Converting a tensor to a Python boolean might cause the trace to be incorrect. We can't record the data flow of Python values, so this value will be treated as a constant in the future. This means that the trace might not generalize to other inputs!\n",
      "  if attn_output.size() != (bsz, self.num_heads, tgt_len, self.head_dim):\n",
      "/usr/local/lib/python3.11/dist-packages/transformers/modeling_attn_mask_utils.py:88: TracerWarning: Converting a tensor to a Python boolean might cause the trace to be incorrect. We can't record the data flow of Python values, so this value will be treated as a constant in the future. This means that the trace might not generalize to other inputs!\n",
      "  if input_shape[-1] > 1 or self.sliding_window is not None:\n",
      "/usr/local/lib/python3.11/dist-packages/transformers/modeling_attn_mask_utils.py:164: TracerWarning: Converting a tensor to a Python boolean might cause the trace to be incorrect. We can't record the data flow of Python values, so this value will be treated as a constant in the future. This means that the trace might not generalize to other inputs!\n",
      "  if past_key_values_length > 0:\n",
      "/usr/local/lib/python3.11/dist-packages/transformers/models/m2m_100/modeling_m2m_100.py:547: TracerWarning: Converting a tensor to a Python boolean might cause the trace to be incorrect. We can't record the data flow of Python values, so this value will be treated as a constant in the future. This means that the trace might not generalize to other inputs!\n",
      "  is_causal = True if self.is_causal and attention_mask is None and tgt_len > 1 else False\n",
      "/usr/local/lib/python3.11/dist-packages/transformers/models/m2m_100/modeling_m2m_100.py:512: TracerWarning: Converting a tensor to a Python boolean might cause the trace to be incorrect. We can't record the data flow of Python values, so this value will be treated as a constant in the future. This means that the trace might not generalize to other inputs!\n",
      "  and past_key_value[0].shape[2] == key_value_states.shape[1]\n"
     ]
    },
    {
     "data": {
      "application/vnd.jupyter.widget-view+json": {
       "model_id": "da1470ebf334438eac42b728643b024d",
       "version_major": 2,
       "version_minor": 0
      },
      "text/plain": [
       "Output()"
      ]
     },
     "metadata": {},
     "output_type": "display_data"
    },
    {
     "data": {
      "text/html": [
       "<pre style=\"white-space:pre;overflow-x:auto;line-height:normal;font-family:Menlo,'DejaVu Sans Mono',consolas,'Courier New',monospace\"></pre>\n"
      ],
      "text/plain": []
     },
     "metadata": {},
     "output_type": "display_data"
    },
    {
     "name": "stdout",
     "output_type": "stream",
     "text": [
      "INFO:nncf:Statistics of the bitwidth distribution:\n",
      "┍━━━━━━━━━━━━━━━━━━━━━━━━━━━┯━━━━━━━━━━━━━━━━━━━━━━━━━━━━━┯━━━━━━━━━━━━━━━━━━━━━━━━━━━━━━━━━━━━━━━━┑\n",
      "│ Weight compression mode   │ % all parameters (layers)   │ % ratio-defining parameters (layers)   │\n",
      "┝━━━━━━━━━━━━━━━━━━━━━━━━━━━┿━━━━━━━━━━━━━━━━━━━━━━━━━━━━━┿━━━━━━━━━━━━━━━━━━━━━━━━━━━━━━━━━━━━━━━━┥\n",
      "│ int8_asym                 │ 72% (32 / 74)               │ 21% (29 / 71)                          │\n",
      "├───────────────────────────┼─────────────────────────────┼────────────────────────────────────────┤\n",
      "│ int4_sym                  │ 28% (42 / 74)               │ 79% (42 / 71)                          │\n",
      "┕━━━━━━━━━━━━━━━━━━━━━━━━━━━┷━━━━━━━━━━━━━━━━━━━━━━━━━━━━━┷━━━━━━━━━━━━━━━━━━━━━━━━━━━━━━━━━━━━━━━━┙\n"
     ]
    },
    {
     "data": {
      "application/vnd.jupyter.widget-view+json": {
       "model_id": "562dcbd4f6464c7788341001155dbcd5",
       "version_major": 2,
       "version_minor": 0
      },
      "text/plain": [
       "Output()"
      ]
     },
     "metadata": {},
     "output_type": "display_data"
    },
    {
     "data": {
      "text/html": [
       "<pre style=\"white-space:pre;overflow-x:auto;line-height:normal;font-family:Menlo,'DejaVu Sans Mono',consolas,'Courier New',monospace\"></pre>\n"
      ],
      "text/plain": []
     },
     "metadata": {},
     "output_type": "display_data"
    },
    {
     "data": {
      "application/vnd.jupyter.widget-view+json": {
       "model_id": "f3dcc7b2c7ed4368a3a1f5d1d40fcf79",
       "version_major": 2,
       "version_minor": 0
      },
      "text/plain": [
       "Output()"
      ]
     },
     "metadata": {},
     "output_type": "display_data"
    },
    {
     "data": {
      "text/html": [
       "<pre style=\"white-space:pre;overflow-x:auto;line-height:normal;font-family:Menlo,'DejaVu Sans Mono',consolas,'Courier New',monospace\"></pre>\n"
      ],
      "text/plain": []
     },
     "metadata": {},
     "output_type": "display_data"
    },
    {
     "name": "stdout",
     "output_type": "stream",
     "text": [
      "INFO:nncf:Statistics of the bitwidth distribution:\n",
      "┍━━━━━━━━━━━━━━━━━━━━━━━━━━━┯━━━━━━━━━━━━━━━━━━━━━━━━━━━━━┯━━━━━━━━━━━━━━━━━━━━━━━━━━━━━━━━━━━━━━━━┑\n",
      "│ Weight compression mode   │ % all parameters (layers)   │ % ratio-defining parameters (layers)   │\n",
      "┝━━━━━━━━━━━━━━━━━━━━━━━━━━━┿━━━━━━━━━━━━━━━━━━━━━━━━━━━━━┿━━━━━━━━━━━━━━━━━━━━━━━━━━━━━━━━━━━━━━━━┥\n",
      "│ int8_asym                 │ 65% (41 / 122)              │ 20% (39 / 120)                         │\n",
      "├───────────────────────────┼─────────────────────────────┼────────────────────────────────────────┤\n",
      "│ int4_sym                  │ 35% (81 / 122)              │ 80% (81 / 120)                         │\n",
      "┕━━━━━━━━━━━━━━━━━━━━━━━━━━━┷━━━━━━━━━━━━━━━━━━━━━━━━━━━━━┷━━━━━━━━━━━━━━━━━━━━━━━━━━━━━━━━━━━━━━━━┙\n"
     ]
    },
    {
     "data": {
      "application/vnd.jupyter.widget-view+json": {
       "model_id": "256cd2fd79de4f2b8515e44fd3c92705",
       "version_major": 2,
       "version_minor": 0
      },
      "text/plain": [
       "Output()"
      ]
     },
     "metadata": {},
     "output_type": "display_data"
    },
    {
     "data": {
      "text/html": [
       "<pre style=\"white-space:pre;overflow-x:auto;line-height:normal;font-family:Menlo,'DejaVu Sans Mono',consolas,'Courier New',monospace\"></pre>\n"
      ],
      "text/plain": []
     },
     "metadata": {},
     "output_type": "display_data"
    },
    {
     "data": {
      "application/vnd.jupyter.widget-view+json": {
       "model_id": "c8b0822ba5234bec953cc05aec846ec8",
       "version_major": 2,
       "version_minor": 0
      },
      "text/plain": [
       "Output()"
      ]
     },
     "metadata": {},
     "output_type": "display_data"
    },
    {
     "data": {
      "text/html": [
       "<pre style=\"white-space:pre;overflow-x:auto;line-height:normal;font-family:Menlo,'DejaVu Sans Mono',consolas,'Courier New',monospace\"></pre>\n"
      ],
      "text/plain": []
     },
     "metadata": {},
     "output_type": "display_data"
    },
    {
     "name": "stdout",
     "output_type": "stream",
     "text": [
      "INFO:nncf:Statistics of the bitwidth distribution:\n",
      "┍━━━━━━━━━━━━━━━━━━━━━━━━━━━┯━━━━━━━━━━━━━━━━━━━━━━━━━━━━━┯━━━━━━━━━━━━━━━━━━━━━━━━━━━━━━━━━━━━━━━━┑\n",
      "│ Weight compression mode   │ % all parameters (layers)   │ % ratio-defining parameters (layers)   │\n",
      "┝━━━━━━━━━━━━━━━━━━━━━━━━━━━┿━━━━━━━━━━━━━━━━━━━━━━━━━━━━━┿━━━━━━━━━━━━━━━━━━━━━━━━━━━━━━━━━━━━━━━━┥\n",
      "│ int8_asym                 │ 68% (36 / 98)               │ 20% (34 / 96)                          │\n",
      "├───────────────────────────┼─────────────────────────────┼────────────────────────────────────────┤\n",
      "│ int4_sym                  │ 32% (62 / 98)               │ 80% (62 / 96)                          │\n",
      "┕━━━━━━━━━━━━━━━━━━━━━━━━━━━┷━━━━━━━━━━━━━━━━━━━━━━━━━━━━━┷━━━━━━━━━━━━━━━━━━━━━━━━━━━━━━━━━━━━━━━━┙\n"
     ]
    },
    {
     "data": {
      "application/vnd.jupyter.widget-view+json": {
       "model_id": "937dfcf2b1564714aec6d471f245b06c",
       "version_major": 2,
       "version_minor": 0
      },
      "text/plain": [
       "Output()"
      ]
     },
     "metadata": {},
     "output_type": "display_data"
    },
    {
     "data": {
      "text/html": [
       "<pre style=\"white-space:pre;overflow-x:auto;line-height:normal;font-family:Menlo,'DejaVu Sans Mono',consolas,'Courier New',monospace\"></pre>\n"
      ],
      "text/plain": []
     },
     "metadata": {},
     "output_type": "display_data"
    },
    {
     "name": "stderr",
     "output_type": "stream",
     "text": [
      "Moving the following attributes in the config to the generation config: {'max_length': 200}. You are seeing this warning because you've set generation parameters in the model config, as opposed to in the generation config.\n",
      "/usr/local/lib/python3.11/dist-packages/transformers/configuration_utils.py:394: UserWarning: Some non-default generation parameters are set in the model config. These should go into either a) `model.generation_config` (as opposed to `model.config`); OR b) a GenerationConfig file (https://huggingface.co/docs/transformers/generation_strategies#save-a-custom-decoding-strategy-with-your-model).This warning will become an exception in the future.\n",
      "Non-default generation parameters: {'max_length': 200}\n",
      "  warnings.warn(\n"
     ]
    }
   ],
   "source": [
    "from optimum.intel.openvino import OVWeightQuantizationConfig, OVModelForSeq2SeqLM\n",
    "from transformers import AutoTokenizer, AutoConfig\n",
    "\n",
    "MODEL_NAME = \"facebook/nllb-200-distilled-600M\"\n",
    "EXPORT_PATH = f\"./models/int4/{MODEL_NAME}\"\n",
    "\n",
    "\n",
    "q_config = OVWeightQuantizationConfig(bits=4, sym=True, group_size=128, ratio=0.8)\n",
    "\n",
    "model = OVModelForSeq2SeqLM.from_pretrained(\n",
    "    MODEL_NAME, export=True, quantization_config=q_config, trust_remote_code=True\n",
    ")\n",
    "\n",
    "tokenizer = AutoTokenizer.from_pretrained(MODEL_NAME, trust_remote_code=True)\n",
    "config = AutoConfig.from_pretrained(MODEL_NAME, trust_remote_code=True)\n",
    "\n",
    "model.save_pretrained(f\"./models/int4/{MODEL_NAME}\")\n",
    "tokenizer.save_pretrained(f\"./models/int4/{MODEL_NAME}/assets\")\n",
    "config.save_pretrained(f\"./models/int4/{MODEL_NAME}/assets\")\n"
   ]
  },
  {
   "cell_type": "code",
   "execution_count": 3,
   "metadata": {
    "id": "5oafaBOgl207"
   },
   "outputs": [],
   "source": [
    "import json\n",
    "import os\n",
    "\n",
    "vocab = tokenizer.get_vocab()\n",
    "vocab_path = os.path.join(\"models\", \"int4\", MODEL_NAME, \"assets\", \"vocab.json\")\n",
    "\n",
    "with open(vocab_path, \"w\") as f:\n",
    "    json.dump(vocab, f)"
   ]
  },
  {
   "cell_type": "markdown",
   "metadata": {
    "id": "g05RMoZ7qpVK"
   },
   "source": [
    "### Prepare assests"
   ]
  },
  {
   "cell_type": "markdown",
   "metadata": {
    "id": "n4_STbc7kJji"
   },
   "source": [
    "Once the model export and quantization is complete, move the model assets needed for tokenization in Spark NLP to the `assets` directory."
   ]
  },
  {
   "cell_type": "markdown",
   "metadata": {
    "id": "PP6xDXDC4W7K"
   },
   "source": [
    "Let's have a look inside these two directories and see what we are dealing with:"
   ]
  },
  {
   "cell_type": "code",
   "execution_count": 4,
   "metadata": {
    "colab": {
     "base_uri": "https://localhost:8080/"
    },
    "id": "EOLmL1S14W7K",
    "outputId": "8ed09a14-3033-4962-b503-379609ebc14b"
   },
   "outputs": [
    {
     "name": "stdout",
     "output_type": "stream",
     "text": [
      "total 1097708\n",
      "drwxr-xr-x 2 root root      4096 Jun 23 03:22 assets\n",
      "-rw-r--r-- 1 root root       897 Jun 23 03:22 config.json\n",
      "-rw-r--r-- 1 root root       184 Jun 23 03:22 generation_config.json\n",
      "-rw-r--r-- 1 root root       609 Jun 23 03:22 openvino_config.json\n",
      "-rw-r--r-- 1 root root 388856668 Jun 23 03:22 openvino_decoder_model.bin\n",
      "-rw-r--r-- 1 root root    994890 Jun 23 03:22 openvino_decoder_model.xml\n",
      "-rw-r--r-- 1 root root 373227316 Jun 23 03:22 openvino_decoder_with_past_model.bin\n",
      "-rw-r--r-- 1 root root    850931 Jun 23 03:22 openvino_decoder_with_past_model.xml\n",
      "-rw-r--r-- 1 root root 359534404 Jun 23 03:22 openvino_encoder_model.bin\n",
      "-rw-r--r-- 1 root root    568461 Jun 23 03:22 openvino_encoder_model.xml\n"
     ]
    }
   ],
   "source": [
    "!ls -l {EXPORT_PATH}"
   ]
  },
  {
   "cell_type": "code",
   "execution_count": 5,
   "metadata": {
    "colab": {
     "base_uri": "https://localhost:8080/"
    },
    "id": "zQ1SbNAc4W7K",
    "outputId": "1ef85c6f-095b-4958-c43c-418bb911e78c"
   },
   "outputs": [
    {
     "name": "stdout",
     "output_type": "stream",
     "text": [
      "total 43456\n",
      "-rw-r--r-- 1 root root      896 Jun 23 03:22 config.json\n",
      "-rw-r--r-- 1 root root  4852054 Jun 23 03:22 sentencepiece.bpe.model\n",
      "-rw-r--r-- 1 root root     4232 Jun 23 03:22 special_tokens_map.json\n",
      "-rw-r--r-- 1 root root    39891 Jun 23 03:22 tokenizer_config.json\n",
      "-rw-r--r-- 1 root root 32240136 Jun 23 03:22 tokenizer.json\n",
      "-rw-r--r-- 1 root root  7347254 Jun 23 03:22 vocab.json\n"
     ]
    }
   ],
   "source": [
    "!ls -l {EXPORT_PATH}/assets"
   ]
  },
  {
   "cell_type": "markdown",
   "metadata": {
    "id": "svbT3OG24W7L"
   },
   "source": [
    "## 2. Import and Save NLLB in Spark NLP\n",
    "\n",
    "- Install and set up Spark NLP in Google Colab\n",
    "- This example uses specific versions of `pyspark` and `spark-nlp` that have been tested with the transformer model to ensure everything runs smoothly."
   ]
  },
  {
   "cell_type": "code",
   "execution_count": 6,
   "metadata": {
    "colab": {
     "base_uri": "https://localhost:8080/"
    },
    "id": "z6TWf2r14W7L",
    "outputId": "c88f9c09-7f08-41bd-fb43-16852cde473d"
   },
   "outputs": [
    {
     "name": "stdout",
     "output_type": "stream",
     "text": [
      "\u001b[2K     \u001b[90m━━━━━━━━━━━━━━━━━━━━━━━━━━━━━━━━━━━━━━━\u001b[0m \u001b[32m317.3/317.3 MB\u001b[0m \u001b[31m5.0 MB/s\u001b[0m eta \u001b[36m0:00:00\u001b[0m\n",
      "\u001b[?25h  Preparing metadata (setup.py) ... \u001b[?25l\u001b[?25hdone\n",
      "\u001b[2K   \u001b[90m━━━━━━━━━━━━━━━━━━━━━━━━━━━━━━━━━━━━━━━━\u001b[0m \u001b[32m635.7/635.7 kB\u001b[0m \u001b[31m23.4 MB/s\u001b[0m eta \u001b[36m0:00:00\u001b[0m\n",
      "\u001b[?25h  Building wheel for pyspark (setup.py) ... \u001b[?25l\u001b[?25hdone\n"
     ]
    }
   ],
   "source": [
    "!pip install -q pyspark==3.5.4 spark-nlp==5.5.3"
   ]
  },
  {
   "cell_type": "markdown",
   "metadata": {
    "id": "OYI03iqp4W7L"
   },
   "source": [
    "Let's start Spark with Spark NLP included via our simple `start()` function"
   ]
  },
  {
   "cell_type": "code",
   "execution_count": 7,
   "metadata": {
    "colab": {
     "base_uri": "https://localhost:8080/"
    },
    "id": "7_Oy0zMi4W7L",
    "outputId": "e759e4b2-644c-4046-90b6-1f8b44c0a3db"
   },
   "outputs": [
    {
     "name": "stdout",
     "output_type": "stream",
     "text": [
      "Spark NLP version:  5.5.3\n",
      "Apache Spark version:  3.5.4\n"
     ]
    }
   ],
   "source": [
    "import sparknlp\n",
    "\n",
    "spark = sparknlp.start()\n",
    "\n",
    "print(\"Spark NLP version: \", sparknlp.version())\n",
    "print(\"Apache Spark version: \", spark.version)"
   ]
  },
  {
   "cell_type": "markdown",
   "metadata": {
    "id": "aXCJqb9i4W7M"
   },
   "source": [
    "- Let's use `loadSavedModel` functon in `NLLBTransformer` which allows us to load the OpenVINO model.\n",
    "- Most params will be set automatically. They can also be set later after loading the model in `NLLBTransformer` during runtime, so don't worry about setting them now.\n",
    "- `loadSavedModel` accepts two params, first is the path to the exported model. The second is the SparkSession that is `spark` variable we previously started via `sparknlp.start()`\n",
    "- NOTE: `loadSavedModel` accepts local paths in addition to distributed file systems such as `HDFS`, `S3`, `DBFS`, etc. This feature was introduced in Spark NLP 4.2.2 release. Keep in mind the best and recommended way to move/share/reuse Spark NLP models is to use `write.save` so you can use `.load()` from any file systems natively.st and recommended way to move/share/reuse Spark NLP models is to use `write.save` so you can use `.load()` from any file systems natively."
   ]
  },
  {
   "cell_type": "markdown",
   "metadata": {
    "id": "hcFmog4K3cr0"
   },
   "source": [
    "let's load the int4 model"
   ]
  },
  {
   "cell_type": "code",
   "execution_count": 8,
   "metadata": {
    "id": "T3591W9R4W7M"
   },
   "outputs": [],
   "source": [
    "from sparknlp.annotator import NLLBTransformer\n",
    "\n",
    "NLLB = NLLBTransformer \\\n",
    "    .loadSavedModel(EXPORT_PATH, spark) \\\n",
    "    .setMaxOutputLength(50) \\\n",
    "    .setInputCols([\"documents\"]) \\\n",
    "    .setOutputCol(\"generation\")"
   ]
  },
  {
   "cell_type": "markdown",
   "metadata": {
    "id": "9X3RphM-4W7M"
   },
   "source": [
    "Let's save it on disk so it is easier to be moved around and also be used later via `.load` function"
   ]
  },
  {
   "cell_type": "code",
   "execution_count": 9,
   "metadata": {
    "id": "T6GaugQa4W7M"
   },
   "outputs": [],
   "source": [
    "NLLB.write().overwrite().save(f\"{MODEL_NAME}_spark_nlp\")"
   ]
  },
  {
   "cell_type": "markdown",
   "metadata": {
    "id": "o0kroa6u4W7M"
   },
   "source": [
    "Let's clean up stuff we don't need anymore"
   ]
  },
  {
   "cell_type": "code",
   "execution_count": 10,
   "metadata": {
    "id": "ukICTutH7Lw4"
   },
   "outputs": [],
   "source": [
    "!rm -rf {EXPORT_PATH}"
   ]
  },
  {
   "cell_type": "markdown",
   "metadata": {
    "id": "Gz4cU4Q54W7N"
   },
   "source": [
    "Awesome  😎 !\n",
    "\n",
    "This is your OpenVINO NLLB model from HuggingFace 🤗  loaded and saved by Spark NLP 🚀"
   ]
  },
  {
   "cell_type": "code",
   "execution_count": 11,
   "metadata": {
    "colab": {
     "base_uri": "https://localhost:8080/"
    },
    "id": "17klLp1M4W7N",
    "outputId": "71344bf1-44bf-4e41-cbaf-729b71cb3fe2"
   },
   "outputs": [
    {
     "name": "stdout",
     "output_type": "stream",
     "text": [
      "total 737248\n",
      "drwxr-xr-x 4 root root      4096 Jun 23 03:25 fields\n",
      "drwxr-xr-x 2 root root      4096 Jun 23 03:25 metadata\n",
      "-rw-r--r-- 1 root root   4852054 Jun 23 03:26 nllb_spp\n",
      "-rw-r--r-- 1 root root 389911358 Jun 23 03:26 openvino_decoder_model.xml\n",
      "-rw-r--r-- 1 root root 360158130 Jun 23 03:26 openvino_encoder_model.xml\n"
     ]
    }
   ],
   "source": [
    "! ls -l {MODEL_NAME}_spark_nlp"
   ]
  },
  {
   "cell_type": "markdown",
   "metadata": {
    "id": "3R_rS8Fj4W7N"
   },
   "source": [
    "Now let's see how we can use it on other machines, clusters, or any place you wish to use your new and shiny NLLB model 😊"
   ]
  },
  {
   "cell_type": "code",
   "execution_count": 12,
   "metadata": {
    "colab": {
     "base_uri": "https://localhost:8080/"
    },
    "id": "MAAjv8Rql20_",
    "outputId": "f5857076-257a-4799-fcc9-4ca42ec1971e"
   },
   "outputs": [
    {
     "name": "stdout",
     "output_type": "stream",
     "text": [
      "+---------------------------------+\n",
      "|result                           |\n",
      "+---------------------------------+\n",
      "|[Life is like a box of chocolate]|\n",
      "+---------------------------------+\n",
      "\n"
     ]
    }
   ],
   "source": [
    "from sparknlp.base import DocumentAssembler\n",
    "from sparknlp.annotator import NLLBTransformer\n",
    "from pyspark.ml import Pipeline\n",
    "\n",
    "test_data = spark.createDataFrame([\n",
    "    [1, \"\"\"生活就像一盒巧克力\"\"\".strip().replace(\"\\n\", \" \")]\n",
    "]).toDF(\"id\", \"text\")\n",
    "\n",
    "document_assembler = DocumentAssembler() \\\n",
    "    .setInputCol(\"text\") \\\n",
    "    .setOutputCol(\"documents\")\n",
    "\n",
    "NLLB = NLLBTransformer \\\n",
    "    .load(f\"{MODEL_NAME}_spark_nlp\") \\\n",
    "    .setInputCols([\"documents\"]) \\\n",
    "    .setMaxOutputLength(50) \\\n",
    "    .setOutputCol(\"generation\") \\\n",
    "    .setSrcLang(\"zho_Hans\") \\\n",
    "    .setTgtLang(\"eng_Latn\")\n",
    "\n",
    "pipeline = Pipeline().setStages([\n",
    "    document_assembler,\n",
    "    NLLB\n",
    "])\n",
    "\n",
    "model = pipeline.fit(test_data)\n",
    "results = model.transform(test_data)\n",
    "\n",
    "results.select(\"generation.result\").show(truncate=False)"
   ]
  },
  {
   "cell_type": "markdown",
   "metadata": {
    "id": "PdvQAAfo4W7N"
   },
   "source": [
    "That's it! You can now go wild and use hundreds of NLLB models from HuggingFace 🤗 in Spark NLP 🚀\n"
   ]
  }
 ],
 "metadata": {
  "colab": {
   "provenance": []
  },
  "kernelspec": {
   "display_name": "Python 3",
   "name": "python3"
  },
  "language_info": {
   "codemirror_mode": {
    "name": "ipython",
    "version": 3
   },
   "file_extension": ".py",
   "mimetype": "text/x-python",
   "name": "python",
   "nbconvert_exporter": "python",
   "pygments_lexer": "ipython3",
   "version": "3.8.16"
  }
 },
 "nbformat": 4,
 "nbformat_minor": 0
}
