{
 "cells": [
  {
   "cell_type": "markdown",
   "metadata": {
    "id": "_V5XcDCnVgSi"
   },
   "source": [
    "![JohnSnowLabs](https://sparknlp.org/assets/images/logo.png)\n",
    "\n",
    "[![Open In Colab](https://colab.research.google.com/assets/colab-badge.svg)](https://colab.research.google.com/github/JohnSnowLabs/spark-nlp/blob/master/examples/python/transformers/openvino/HuggingFace_OpenVINO_in_Spark_NLP_RoBertaForQuestionAnswering.ipynb)\n",
    "\n",
    "# Import OpenVINO RoBertaForQuestionAnswering models from HuggingFace 🤗 into Spark NLP 🚀\n",
    "\n",
    "This notebook provides a detailed walkthrough on optimizing and exporting RoBertaForQuestionAnswering models from HuggingFace for use in Spark NLP, leveraging the various tools provided in the [Intel OpenVINO toolkit](https://www.intel.com/content/www/us/en/developer/tools/openvino-toolkit/overview.html) ecosystem.\n",
    "\n",
    "Let's keep in mind a few things before we start 😊\n",
    "\n",
    "- OpenVINO support was introduced in  `Spark NLP 5.4.0`, enabling high performance inference for models. Please make sure you have upgraded to the latest Spark NLP release.\n",
    "- You can import models for RoBertaForQuestionAnswering from RoBertaForQuestionAnswering   and they have to be in `Question Answering` category."
   ]
  },
  {
   "cell_type": "markdown",
   "metadata": {
    "id": "aghasVppVgSk"
   },
   "source": [
    "## 1. Export and Save the HuggingFace model"
   ]
  },
  {
   "cell_type": "markdown",
   "metadata": {
    "id": "be4HsTDMVgSk"
   },
   "source": [
    "- Let's install `transformers` and `openvino` packages with other dependencies. You don't need `openvino` to be installed for Spark NLP, however, we need it to load and save models from HuggingFace.\n",
    "- We lock `transformers` on version `4.41.2`. This doesn't mean it won't work with the future releases, but we wanted you to know which versions have been tested successfully."
   ]
  },
  {
   "cell_type": "code",
   "execution_count": null,
   "metadata": {
    "colab": {
     "base_uri": "https://localhost:8080/"
    },
    "id": "-7L-2ZWUVgSl",
    "outputId": "d197d940-1f5a-4e0f-9bde-23106f7ef801"
   },
   "outputs": [],
   "source": [
    "!pip install -q --upgrade transformers==4.48.3 optimum[openvino]"
   ]
  },
  {
   "cell_type": "markdown",
   "metadata": {
    "id": "vI7uz_6hVgSl"
   },
   "source": [
    "[Optimum Intel](https://github.com/huggingface/optimum-intel?tab=readme-ov-file#openvino) is the interface between the Transformers library and the various model optimization and acceleration tools provided by Intel. HuggingFace models loaded with optimum-intel are automatically optimized for OpenVINO, while being compatible with the Transformers API.\n",
    "- To load a HuggingFace model directly for inference/export, just replace the `AutoModelForXxx` class with the corresponding `OVModelForXxx` class. We can use this to import and export OpenVINO models with `from_pretrained` and `save_pretrained`.\n",
    "- By setting `export=True`, the source model is converted to OpenVINO IR format on the fly.\n",
    "- We'll use [deepset/roberta-base-squad2](https://huggingface.co/deepset/roberta-base-squad2) model from HuggingFace as an example and load it as a `OVModelForQuestionAnswering`, representing an OpenVINO model.\n",
    "- In addition to the OVModelForQuestionAnswering model, we also need to save the `AutoTokenizer`. This is the same for every model, these are assets (saved in `/assets`) needed for tokenization inside Spark NLP."
   ]
  },
  {
   "cell_type": "code",
   "execution_count": 2,
   "metadata": {
    "colab": {
     "base_uri": "https://localhost:8080/",
     "height": 452,
     "referenced_widgets": [
      "e822a28d862542c09414576d2ce94755",
      "d4db26b388a04a64ad5cc913ad83d6e3",
      "ee901f1d49894754ba2e6c757aa8f618",
      "5a949f690b694010bf395fec3522fcd1",
      "c57f71a3cb2d4ccb97ebe73131cc0f6d",
      "39a3ceef7da94953b9be4e2ff1d5147a",
      "292fe132945e49bc92dd8614c42b457f",
      "ee7614c9bf364cb6a2eafe5975eab71a",
      "07e61b9bb12d4a95b9415611f5b3a075",
      "e05a377ef9aa4f30a9f2d21374f74624",
      "b654e96de317443a9a01b75634f8e6c8",
      "7b227e8f27eb453985363864b28bd92d",
      "9794acf6b65940fab6317b413896c98d",
      "c89f0a425bd648f78383fbcefe808ca2",
      "db1d79ec46f6495ca9bd33135bef9858",
      "9182a95ceae3417ba2139d2acfef55b6",
      "1adaee6fb42f46c89241fbf178179a08",
      "ee6aca8df00e45c8965a48790960c28f",
      "5e5192d54d654dd6a36714b4e5f32e5d",
      "b3e8a4ae997c4f0480c810a3721d2f33",
      "46be145d50574d879bf6eab32179d77f",
      "d64b9c18be9048798bcbef9ad49ee158",
      "d5d61071447e4ecaa0cdc22de23a9ca1",
      "0896125f33bd4d99afd7bc93eab02674",
      "69ba037bee68488ab75a9b59cc88b2b2",
      "f858e0f358d642958da9bf6fc5e537a5",
      "3a3ce17d98ba41cbb010f3d4cdd79a17",
      "b96d3c4cd31e4e48abf05666bd213112",
      "8801712830fc4eefb3fff928463b3549",
      "24c6a0941e334d9d838939c061bdc8e7",
      "b69419a5d50b497dbdc107f96f99e558",
      "c8537e98d36f40c5b1c7e25fa52c9e38",
      "7ef9afee7904465a9f997b200ffb7996",
      "213e7c6114904ac9ac8c1a41e49d8120",
      "5a33b8dde2734ed1bac26af071663e86",
      "3544466d9939403ca2dff0cc2353d38a",
      "b99df60225fd4260a0e4bb81583e5d86",
      "054c075ac1be45cb8d8fb6a512c7e052",
      "efefc65a94164544bb3b6187a19976e1",
      "c731f45e224f49a28b6787d6720a2824",
      "3c335d3f4c27411dad0249d908f36199",
      "0e248e90ac0b405ebc3d48b9acb2e421",
      "d5ad9b55f0f94117a227d1c29bb59194",
      "4ca4f3106370473ca1cf69733c41576e",
      "4b771c432e9d4e27a00c75c0d151558e",
      "2b19623809484cbdbf7ef50c1b4dcb0b",
      "f1c405c16c454f558517591cdfde08a2",
      "e361367cbf0444df89c1d4bfec0711d6",
      "7037bc80ecbe40dc8a77ff412f0d6cc7",
      "a977f4c89f534df98677adec207ac05d",
      "fb376718fd774760966c06e11216ac15",
      "f01a475ba2354a4b9ac6ad43f0b64a59",
      "6f1527bd0b2f458cb6fb66ce41d2d317",
      "ccba08e544fe4794b0f89f0d1c13bba6",
      "78aecbbeb5df49e6b56e54f314b5f5b8",
      "07ce329f08034a318faf39559c2bec44",
      "486bb01a8645463cb53fbd4a52a2497c",
      "750e80facdaf4e58820f7ec4665b56e1",
      "c3de3bf54f484ce180d02b078916292c",
      "353bb68c83c042878bd1f0e5ea03d99d",
      "92b4a17d95e54bdf8bd8bd5a9390c718",
      "19ca18db7f054142b0a47303c0f3be98",
      "190542cfdf2f4b64a5b66299a0034a3b",
      "e2b6377b4f7a47ba9b926c3a692ef756",
      "e5ada2940a894cd6b433b3dc82b57e13",
      "105f42ceba1b40e599cf3b21e4bfa3c9"
     ]
    },
    "id": "qF5Pp3DuVgSm",
    "outputId": "3294c731-57d8-43b5-e7ff-a6761eb421a3"
   },
   "outputs": [
    {
     "name": "stderr",
     "output_type": "stream",
     "text": [
      "No CUDA runtime is found, using CUDA_HOME='/usr/local/cuda'\n",
      "/usr/local/lib/python3.11/dist-packages/huggingface_hub/utils/_auth.py:94: UserWarning: \n",
      "The secret `HF_TOKEN` does not exist in your Colab secrets.\n",
      "To authenticate with the Hugging Face Hub, create a token in your settings tab (https://huggingface.co/settings/tokens), set it as secret in your Google Colab and restart your session.\n",
      "You will be able to reuse this secret in all of your notebooks.\n",
      "Please note that authentication is recommended but still optional to access public models or datasets.\n",
      "  warnings.warn(\n"
     ]
    },
    {
     "data": {
      "application/vnd.jupyter.widget-view+json": {
       "model_id": "e822a28d862542c09414576d2ce94755",
       "version_major": 2,
       "version_minor": 0
      },
      "text/plain": [
       "config.json:   0%|          | 0.00/571 [00:00<?, ?B/s]"
      ]
     },
     "metadata": {},
     "output_type": "display_data"
    },
    {
     "data": {
      "application/vnd.jupyter.widget-view+json": {
       "model_id": "7b227e8f27eb453985363864b28bd92d",
       "version_major": 2,
       "version_minor": 0
      },
      "text/plain": [
       "model.safetensors:   0%|          | 0.00/496M [00:00<?, ?B/s]"
      ]
     },
     "metadata": {},
     "output_type": "display_data"
    },
    {
     "data": {
      "application/vnd.jupyter.widget-view+json": {
       "model_id": "d5d61071447e4ecaa0cdc22de23a9ca1",
       "version_major": 2,
       "version_minor": 0
      },
      "text/plain": [
       "tokenizer_config.json:   0%|          | 0.00/79.0 [00:00<?, ?B/s]"
      ]
     },
     "metadata": {},
     "output_type": "display_data"
    },
    {
     "data": {
      "application/vnd.jupyter.widget-view+json": {
       "model_id": "213e7c6114904ac9ac8c1a41e49d8120",
       "version_major": 2,
       "version_minor": 0
      },
      "text/plain": [
       "vocab.json:   0%|          | 0.00/899k [00:00<?, ?B/s]"
      ]
     },
     "metadata": {},
     "output_type": "display_data"
    },
    {
     "data": {
      "application/vnd.jupyter.widget-view+json": {
       "model_id": "4b771c432e9d4e27a00c75c0d151558e",
       "version_major": 2,
       "version_minor": 0
      },
      "text/plain": [
       "merges.txt:   0%|          | 0.00/456k [00:00<?, ?B/s]"
      ]
     },
     "metadata": {},
     "output_type": "display_data"
    },
    {
     "data": {
      "application/vnd.jupyter.widget-view+json": {
       "model_id": "07ce329f08034a318faf39559c2bec44",
       "version_major": 2,
       "version_minor": 0
      },
      "text/plain": [
       "special_tokens_map.json:   0%|          | 0.00/772 [00:00<?, ?B/s]"
      ]
     },
     "metadata": {},
     "output_type": "display_data"
    },
    {
     "name": "stderr",
     "output_type": "stream",
     "text": [
      "`loss_type=None` was set in the config but it is unrecognised.Using the default loss: `ForCausalLMLoss`.\n"
     ]
    },
    {
     "data": {
      "text/plain": [
       "('ov_models/deepset/roberta-base-squad2/tokenizer_config.json',\n",
       " 'ov_models/deepset/roberta-base-squad2/special_tokens_map.json',\n",
       " 'ov_models/deepset/roberta-base-squad2/vocab.json',\n",
       " 'ov_models/deepset/roberta-base-squad2/merges.txt',\n",
       " 'ov_models/deepset/roberta-base-squad2/added_tokens.json',\n",
       " 'ov_models/deepset/roberta-base-squad2/tokenizer.json')"
      ]
     },
     "execution_count": 2,
     "metadata": {},
     "output_type": "execute_result"
    }
   ],
   "source": [
    "from optimum.intel import OVModelForQuestionAnswering\n",
    "from transformers import AutoTokenizer\n",
    "\n",
    "MODEL_NAME = \"deepset/roberta-base-squad2\"\n",
    "EXPORT_PATH = f\"ov_models/{MODEL_NAME}\"\n",
    "\n",
    "ov_model = OVModelForQuestionAnswering.from_pretrained(MODEL_NAME, export=True)\n",
    "tokenizer = AutoTokenizer.from_pretrained(MODEL_NAME)\n",
    "\n",
    "ov_model.save_pretrained(EXPORT_PATH)\n",
    "tokenizer.save_pretrained(EXPORT_PATH)"
   ]
  },
  {
   "cell_type": "markdown",
   "metadata": {
    "id": "SJuITzsrx853"
   },
   "source": [
    "Let's have a look inside these two directories and see what we are dealing with:"
   ]
  },
  {
   "cell_type": "code",
   "execution_count": 3,
   "metadata": {
    "colab": {
     "base_uri": "https://localhost:8080/"
    },
    "id": "n1cFWzCjx-60",
    "outputId": "b149d4a4-83ae-426a-beca-15d82a649d86"
   },
   "outputs": [
    {
     "name": "stdout",
     "output_type": "stream",
     "text": [
      "total 489696\n",
      "-rw-r--r-- 1 root root       749 Jun 24 12:05 config.json\n",
      "-rw-r--r-- 1 root root    456318 Jun 24 12:05 merges.txt\n",
      "-rw-r--r-- 1 root root 496230608 Jun 24 12:05 openvino_model.bin\n",
      "-rw-r--r-- 1 root root    377542 Jun 24 12:05 openvino_model.xml\n",
      "-rw-r--r-- 1 root root       957 Jun 24 12:05 special_tokens_map.json\n",
      "-rw-r--r-- 1 root root      1302 Jun 24 12:05 tokenizer_config.json\n",
      "-rw-r--r-- 1 root root   3558642 Jun 24 12:05 tokenizer.json\n",
      "-rw-r--r-- 1 root root    798293 Jun 24 12:05 vocab.json\n"
     ]
    }
   ],
   "source": [
    "!ls -l {EXPORT_PATH}"
   ]
  },
  {
   "cell_type": "markdown",
   "metadata": {
    "id": "vYFdoSL5yA5M"
   },
   "source": [
    "- We need to convert `vocab.json` to `vocab.txt` by extracting and sorting the tokens (one per line), and make sure `merges.txt` is also present.\n",
    "- Move both `vocab.txt` and `merges.tx`t into an `assets/` folder inside your export path, Spark NLP looks for tokenizer files there when loading ONNX models."
   ]
  },
  {
   "cell_type": "code",
   "execution_count": 4,
   "metadata": {
    "id": "o5YXepEUyCxs"
   },
   "outputs": [],
   "source": [
    "import json\n",
    "\n",
    "with open(f'{EXPORT_PATH}/vocab.json') as f, open(f'{EXPORT_PATH}/vocab.txt', 'w') as out:\n",
    "    out.writelines(f\"{k}\\n\" for k in json.load(f).keys())\n",
    "\n",
    "!mkdir -p {EXPORT_PATH}/assets\n",
    "!mv {EXPORT_PATH}/vocab.txt {EXPORT_PATH}/merges.txt {EXPORT_PATH}/assets/"
   ]
  },
  {
   "cell_type": "code",
   "execution_count": 5,
   "metadata": {
    "colab": {
     "base_uri": "https://localhost:8080/"
    },
    "id": "TjWE3ru8yFMH",
    "outputId": "111bec4e-36de-401e-e059-c8052c62a81c"
   },
   "outputs": [
    {
     "name": "stdout",
     "output_type": "stream",
     "text": [
      "total 848\n",
      "-rw-r--r-- 1 root root 456318 Jun 24 12:05 merges.txt\n",
      "-rw-r--r-- 1 root root 407065 Jun 24 12:05 vocab.txt\n"
     ]
    }
   ],
   "source": [
    "!ls -l {EXPORT_PATH}/assets"
   ]
  },
  {
   "cell_type": "markdown",
   "metadata": {
    "id": "QN5GJr9PyVkX"
   },
   "source": [
    "Voila! We have our `vocab.txt` and `merges.txt` inside assets directory"
   ]
  },
  {
   "cell_type": "markdown",
   "metadata": {
    "id": "zlwzugtT2Tvv"
   },
   "source": [
    "## Import and Save RoBertaForQuestionAnswering in Spark NLP\n"
   ]
  },
  {
   "cell_type": "markdown",
   "metadata": {
    "id": "Lqh8vWYh2Tvv"
   },
   "source": [
    "- Install and set up Spark NLP in Google Colab\n",
    "- This example uses specific versions of `pyspark` and `spark-nlp` that have been tested with the transformer model to ensure everything runs smoothly."
   ]
  },
  {
   "cell_type": "code",
   "execution_count": 6,
   "metadata": {
    "colab": {
     "base_uri": "https://localhost:8080/"
    },
    "id": "JbXUvw6i2Tvv",
    "outputId": "df5a23a2-8740-462b-94af-15176f62fd1f"
   },
   "outputs": [
    {
     "name": "stdout",
     "output_type": "stream",
     "text": [
      "\u001b[2K     \u001b[90m━━━━━━━━━━━━━━━━━━━━━━━━━━━━━━━━━━━━━━━\u001b[0m \u001b[32m317.3/317.3 MB\u001b[0m \u001b[31m4.5 MB/s\u001b[0m eta \u001b[36m0:00:00\u001b[0m\n",
      "\u001b[?25h  Preparing metadata (setup.py) ... \u001b[?25l\u001b[?25hdone\n",
      "\u001b[2K   \u001b[90m━━━━━━━━━━━━━━━━━━━━━━━━━━━━━━━━━━━━━━━━\u001b[0m \u001b[32m635.7/635.7 kB\u001b[0m \u001b[31m33.6 MB/s\u001b[0m eta \u001b[36m0:00:00\u001b[0m\n",
      "\u001b[?25h  Building wheel for pyspark (setup.py) ... \u001b[?25l\u001b[?25hdone\n"
     ]
    }
   ],
   "source": [
    "!pip install -q pyspark==3.5.4 spark-nlp==5.5.3"
   ]
  },
  {
   "cell_type": "markdown",
   "metadata": {
    "id": "AcF_0qjh2Tvv"
   },
   "source": [
    "Let's start Spark with Spark NLP included via our simple `start()` function"
   ]
  },
  {
   "cell_type": "code",
   "execution_count": 7,
   "metadata": {
    "colab": {
     "base_uri": "https://localhost:8080/"
    },
    "id": "UEBNSFdk2Tvv",
    "outputId": "439b6e81-6273-4553-e1c6-edd51399ae28"
   },
   "outputs": [
    {
     "name": "stdout",
     "output_type": "stream",
     "text": [
      "Spark NLP version: 5.5.3\n",
      "Apache Spark version: 3.5.4\n"
     ]
    }
   ],
   "source": [
    "import sparknlp\n",
    "\n",
    "spark = sparknlp.start()\n",
    "\n",
    "print(\"Spark NLP version: {}\".format(sparknlp.version()))\n",
    "print(\"Apache Spark version: {}\".format(spark.version))"
   ]
  },
  {
   "cell_type": "markdown",
   "metadata": {
    "id": "CYCvAj5e2Tvw"
   },
   "source": [
    "- Let's use `loadSavedModel` functon in `RoBertaForQuestionAnswering` which allows us to load TensorFlow model in SavedModel format\n",
    "- Most params can be set later when you are loading this model in `RoBertaForQuestionAnswering` in runtime like `setMaxSentenceLength`, so don't worry what you are setting them now\n",
    "- `loadSavedModel` accepts two params, first is the path to the TF SavedModel. The second is the SparkSession that is `spark` variable we previously started via `sparknlp.start()`\n",
    "- NOTE: `loadSavedModel` accepts local paths in addition to distributed file systems such as `HDFS`, `S3`, `DBFS`, etc. This feature was introduced in Spark NLP 4.2.2 release. Keep in mind the best and recommended way to move/share/reuse Spark NLP models is to use `write.save` so you can use `.load()` from any file systems natively.\n",
    "\n"
   ]
  },
  {
   "cell_type": "code",
   "execution_count": 8,
   "metadata": {
    "id": "680abLVh2Tvw"
   },
   "outputs": [],
   "source": [
    "from sparknlp.annotator import RoBertaForQuestionAnswering\n",
    "\n",
    "spanClassifier = RoBertaForQuestionAnswering.loadSavedModel(\n",
    "     EXPORT_PATH,\n",
    "     spark\n",
    " )\\\n",
    "  .setInputCols([\"document_question\",'document_context'])\\\n",
    "  .setOutputCol(\"answer\")\\\n",
    "  .setCaseSensitive(True)\\\n",
    "  .setMaxSentenceLength(512)"
   ]
  },
  {
   "cell_type": "markdown",
   "metadata": {
    "id": "3XJSkqB32Tvw"
   },
   "source": [
    "- Let's save it on disk so it is easier to be moved around and also be used later via `.load` function"
   ]
  },
  {
   "cell_type": "code",
   "execution_count": 9,
   "metadata": {
    "id": "yZX3chN_2Tvw"
   },
   "outputs": [],
   "source": [
    "spanClassifier.write().overwrite().save(\"./{}_spark_nlp_openvino\".format(EXPORT_PATH))"
   ]
  },
  {
   "cell_type": "markdown",
   "metadata": {
    "id": "k7xC0dXi2Tvw"
   },
   "source": [
    "Let's clean up stuff we don't need anymore"
   ]
  },
  {
   "cell_type": "code",
   "execution_count": 10,
   "metadata": {
    "id": "Z1P3IwLA2Tvw"
   },
   "outputs": [],
   "source": [
    "!rm -rf {EXPORT_PATH}"
   ]
  },
  {
   "cell_type": "markdown",
   "metadata": {
    "id": "bJTV8mxA2Tvw"
   },
   "source": [
    "Awesome 😎  !\n",
    "\n",
    "This is your RoBertaForQuestionAnswering model from HuggingFace 🤗  loaded and saved by Spark NLP 🚀"
   ]
  },
  {
   "cell_type": "code",
   "execution_count": 11,
   "metadata": {
    "colab": {
     "base_uri": "https://localhost:8080/"
    },
    "id": "JNmkhSA-2Tvx",
    "outputId": "85cc26a1-74d5-45c2-da41-ea157db642d2"
   },
   "outputs": [
    {
     "name": "stdout",
     "output_type": "stream",
     "text": [
      "ls: cannot access 'ov_models/deepset/roberta-base-squad2_spark_nlp_onnx': No such file or directory\n"
     ]
    }
   ],
   "source": [
    "! ls -l {EXPORT_PATH}_spark_nlp_onnx"
   ]
  },
  {
   "cell_type": "markdown",
   "metadata": {
    "id": "U5Qhz9rZ2Tvx"
   },
   "source": [
    "Now let's see how we can use it on other machines, clusters, or any place you wish to use your new and shiny RoBertaForQuestionAnswering model in Spark NLP 🚀 pipeline!"
   ]
  },
  {
   "cell_type": "code",
   "execution_count": 14,
   "metadata": {
    "colab": {
     "base_uri": "https://localhost:8080/"
    },
    "id": "i34B_Y0a2Tvx",
    "outputId": "46f2dbb8-3d04-4e06-c30e-b18ff50d07df"
   },
   "outputs": [
    {
     "name": "stdout",
     "output_type": "stream",
     "text": [
      "+-----------------------+\n",
      "|result                 |\n",
      "+-----------------------+\n",
      "|[100 degrees Celsius .]|\n",
      "|[Joe Biden]            |\n",
      "|[blue]                 |\n",
      "+-----------------------+\n",
      "\n"
     ]
    }
   ],
   "source": [
    "from sparknlp.base import MultiDocumentAssembler\n",
    "from sparknlp.annotator import RoBertaForQuestionAnswering\n",
    "from pyspark.ml import Pipeline\n",
    "\n",
    "document_assembler = MultiDocumentAssembler() \\\n",
    "    .setInputCols([\"question\", \"context\"]) \\\n",
    "    .setOutputCols([\"document_question\", \"document_context\"])\n",
    "\n",
    "spanClassifier_loaded = RoBertaForQuestionAnswering.load(\"./{}_spark_nlp_openvino\".format(EXPORT_PATH))\\\n",
    "    .setInputCols([\"document_question\", \"document_context\"])\\\n",
    "    .setOutputCol(\"answer\")\n",
    "\n",
    "pipeline = Pipeline().setStages([\n",
    "    document_assembler,\n",
    "    spanClassifier_loaded\n",
    "])\n",
    "\n",
    "df = spark.createDataFrame([\n",
    "    (\"What is the boiling point of water?\", \"Water boils at 100 degrees Celsius.\"),\n",
    "    (\"Who is the president of the USA?\", \"The president of the USA is Joe Biden.\"),\n",
    "    (\"What color is the sky?\", \"The sky is blue on a clear day.\"),\n",
    "], [\"question\", \"context\"])\n",
    "\n",
    "model = pipeline.fit(df)\n",
    "result = model.transform(df)\n",
    "\n",
    "result.select(\"answer.result\").show(3, False)"
   ]
  },
  {
   "cell_type": "markdown",
   "metadata": {
    "id": "zgsoGJeJ2Tvx"
   },
   "source": [
    "That's it! You can now go wild and use hundreds of `RoBertaForQuestionAnswering` models from HuggingFace 🤗 in Spark NLP 🚀\n"
   ]
  }
 ],
 "metadata": {
  "colab": {
   "provenance": []
  },
  "kernelspec": {
   "display_name": "Python 3",
   "language": "python",
   "name": "python3"
  },
  "language_info": {
   "codemirror_mode": {
    "name": "ipython",
    "version": 3
   },
   "file_extension": ".py",
   "mimetype": "text/x-python",
   "name": "python",
   "nbconvert_exporter": "python",
   "pygments_lexer": "ipython3",
   "version": "3.10.12"
  }
 },
 "nbformat": 4,
 "nbformat_minor": 0
}
