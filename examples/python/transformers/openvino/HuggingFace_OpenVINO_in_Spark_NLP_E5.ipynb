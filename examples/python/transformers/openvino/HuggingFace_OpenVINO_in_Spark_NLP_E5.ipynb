{
 "cells": [
  {
   "cell_type": "markdown",
   "metadata": {
    "id": "t3of8INfq5JR"
   },
   "source": [
    "![JohnSnowLabs](https://sparknlp.org/assets/images/logo.png)\n",
    "\n",
    "[![Open In Colab](https://colab.research.google.com/assets/colab-badge.svg)](https://colab.research.google.com/github/JohnSnowLabs/spark-nlp/blob/master/examples/python/transformers/openvino/HuggingFace_OpenVINO_in_Spark_NLP_E5.ipynb)\n",
    "\n",
    "# Import OpenVINO E5 models from HuggingFace 🤗 into Spark NLP 🚀\n",
    "\n",
    "This notebook provides a detailed walkthrough on optimizing and exporting E5 models from HuggingFace for use in Spark NLP, leveraging the various tools provided in the [Intel OpenVINO toolkit](https://www.intel.com/content/www/us/en/developer/tools/openvino-toolkit/overview.html) ecosystem.\n",
    "\n",
    "Let's keep in mind a few things before we start 😊\n",
    "\n",
    "- OpenVINO support for this annotator was introduced in  `Spark NLP 5.4.0`, enabling high performance inference for models. Please make sure you have upgraded to the latest Spark NLP release.\n",
    "- You can import models for E5 from HuggingFace and they have to be in `Sentence Similarity` category. Meaning, you cannot use E5 models trained/fine-tuned on a specific task such as token/sequence classification."
   ]
  },
  {
   "cell_type": "markdown",
   "metadata": {
    "id": "Offrpi_nq5JU"
   },
   "source": [
    "## 1. Export and Save HuggingFace model"
   ]
  },
  {
   "cell_type": "markdown",
   "metadata": {
    "id": "AYros5kRq5JU"
   },
   "source": [
    "- Let's install `transformers` and `openvino` packages with other dependencies. You don't need `openvino` to be installed for Spark NLP, however, we need it to load and save models from HuggingFace.\n",
    "\n",
    "- We lock `transformers` on version `4.48.3`. This doesn't mean it won't work with the future releases, but we wanted you to know which versions have been tested successfully."
   ]
  },
  {
   "cell_type": "code",
   "execution_count": null,
   "metadata": {
    "colab": {
     "base_uri": "https://localhost:8080/"
    },
    "id": "9lOvsVAIoddt",
    "outputId": "2c92b304-1d94-4737-b687-f05665c3afae"
   },
   "outputs": [],
   "source": [
    "!pip install -q --upgrade transformers==4.48.3 optimum[openvino]"
   ]
  },
  {
   "cell_type": "markdown",
   "metadata": {
    "id": "_DkxL8Raq5JW"
   },
   "source": [
    "[Optimum Intel](https://github.com/huggingface/optimum-intel?tab=readme-ov-file#openvino) is the interface between the Transformers library and the various model optimization and acceleration tools provided by Intel. HuggingFace models loaded with optimum-intel are automatically optimized for OpenVINO, while being compatible with the Transformers API.\n",
    "- To load a HuggingFace model directly for inference/export, just replace the `AutoModelForXxx` class with the corresponding `OVModelForXxx` class. We can use this to import and export OpenVINO models with `from_pretrained` and `save_pretrained`.\n",
    "- By setting `export=True`, the source model is converted to OpenVINO IR format on the fly.\n",
    "- We'll use [intfloat/e5-small-v2](https://huggingface.co/intfloat/e5-small-v2) model from HuggingFace as an example and load it as a `OVModelForFeatureExtraction`, representing an OpenVINO model.\n"
   ]
  },
  {
   "cell_type": "code",
   "execution_count": 2,
   "metadata": {
    "colab": {
     "base_uri": "https://localhost:8080/",
     "height": 852,
     "referenced_widgets": [
      "828ef10393eb4d70afad0875d302b9cf",
      "16bb92d149774eafaf2f1946f1c7d9bd",
      "cb4050555c1a405399f08422bbb956b3",
      "6b1a6d2f9e244466a435385340dee0ba",
      "7fe63bd624644d7c9883f9a56dea0068",
      "c2507ad35c9b43958c9aa1b49ebefcb9",
      "34a86de89fea4ce2873b2d8882cdf734",
      "3333410059df4b788b9cdf6a57b0878a",
      "a74022780b894b5ba2c4921bd936db47",
      "8f19858c375e49cd9c31285cc2718a4a",
      "5221801a96a8490894670139a9ecc99b",
      "5269126803fb478db47c58f4a0156a1e",
      "aadd9a6b9adc4c57885c958f95c6d544",
      "25088820114945e4862ebbf643b562e7",
      "f736e8a05f99435584fe3da2f07036b6",
      "8d36dab4fde549b5a21264fc72355ab3",
      "cbfaa71a36d747a3b754f598d32a91b0",
      "aac80579438d4e3b8dc50c11f579c0ce",
      "168d7f816605469795c5ad934c38678f",
      "af9683d0217048d8aa31ade92b46ffde",
      "6c90af82f38845ff89a9b6af07478a5d",
      "d54cc61971bf43bd8e0f37e0ec70c92c",
      "ddc6fb78f1544695a671874f029a6da4",
      "04f06092279046f4a15a34d8d2a5f817",
      "9031653dda724dfa9ffcf693eb99d5de",
      "f334c85a9f904c9caf65e1bd8a7c956a",
      "65b48edf3b7549669f961d8b1fbc0d84",
      "070f5bb45ccd4376ac6a8dfcd75e6842",
      "9a4189b1a9424d50a5ff0a65ad0779ed",
      "6893607bdf3949f88e7309f72d2f4317",
      "fd8c251d5abe4fec94169b043946542f",
      "472b71e66ff74ec592d72c3432376dbb",
      "143469d2a58d4d05a355bb8fcc269952",
      "d63d257e22f0486d9ce593ea11a47927",
      "675c40bbbe5c4e658e917cbbb668e6e0",
      "20c69e45046b406b97b5aba4e3aed3d5",
      "36251c1e4e684c4ea673d870d04c75f7",
      "020c6c35693041ef9d6ae788932a68d0",
      "d00f143c7e4f404b909ce75dd5ac070d",
      "97022b9511ef413eb8d7a0160988a95c",
      "dd5672fcd5524b83b60401d45a208d66",
      "8a655287cbff42458675ffe83ed01dab",
      "71877547caad4224883073d0b812184d",
      "3729cddbd19549e481e41285ec583c5b",
      "2ff0219d3fd54420957bb0cc15dbd22a",
      "a0872bf444384e12a3b47c9cf09e2059",
      "f6f143b43eed4b4daa0f625092236220",
      "228c1f3c0cf64ae0aaddbdcb3a9e3fe7",
      "7c27de5374ad41b794edd66750fca3ef",
      "f641b0d369d2452d91c27768b7b014db",
      "4e780f6c7f0442858f49c85157a0fff7",
      "3675626a21e44d0d899ceffd08a48674",
      "3d94179d687f42eab2a1e93e577452b9",
      "72ab42cb93b94889a0630779e9af3897",
      "f87c9e253f524c6cb4f016e044ceb7b0",
      "f3587b14c97e469586d2a78de6ba178b",
      "1b01a9d2af354afd85b5415a28cc0e83",
      "c3a871a780d14048a420ca5e6f6ada48",
      "41ef8e8973dc412ebb70488a36f98c54",
      "30019c6067774e3ab5bdd69f595f6616",
      "22ac7f36f4ae44c99d2f72f7517f42c1",
      "35cc1842d1fd465b99f13e156b8f110c",
      "2534d9e2a56349eda45dbc9ef5da8305",
      "e5ab0227e4ef4d6186163774053e96c5",
      "ee14860142fb4ee394f47d7ea740b318",
      "0cbd1972264a4f21923ec706fcbcce64"
     ]
    },
    "id": "eEDvpru4q5JW",
    "outputId": "f457e012-acb2-4ce3-a872-19f57be911d4"
   },
   "outputs": [
    {
     "name": "stderr",
     "output_type": "stream",
     "text": [
      "No CUDA runtime is found, using CUDA_HOME='/usr/local/cuda'\n",
      "No CUDA runtime is found, using CUDA_HOME='/usr/local/cuda'\n",
      "/usr/local/lib/python3.11/dist-packages/huggingface_hub/utils/_auth.py:94: UserWarning: \n",
      "The secret `HF_TOKEN` does not exist in your Colab secrets.\n",
      "To authenticate with the Hugging Face Hub, create a token in your settings tab (https://huggingface.co/settings/tokens), set it as secret in your Google Colab and restart your session.\n",
      "You will be able to reuse this secret in all of your notebooks.\n",
      "Please note that authentication is recommended but still optional to access public models or datasets.\n",
      "  warnings.warn(\n",
      "/usr/local/lib/python3.11/dist-packages/huggingface_hub/utils/_auth.py:94: UserWarning: \n",
      "The secret `HF_TOKEN` does not exist in your Colab secrets.\n",
      "To authenticate with the Hugging Face Hub, create a token in your settings tab (https://huggingface.co/settings/tokens), set it as secret in your Google Colab and restart your session.\n",
      "You will be able to reuse this secret in all of your notebooks.\n",
      "Please note that authentication is recommended but still optional to access public models or datasets.\n",
      "  warnings.warn(\n"
     ]
    },
    {
     "data": {
      "application/vnd.jupyter.widget-view+json": {
       "model_id": "828ef10393eb4d70afad0875d302b9cf",
       "version_major": 2,
       "version_minor": 0
      },
      "text/plain": [
       "config.json:   0%|          | 0.00/615 [00:00<?, ?B/s]"
      ]
     },
     "metadata": {},
     "output_type": "display_data"
    },
    {
     "data": {
      "application/vnd.jupyter.widget-view+json": {
       "model_id": "828ef10393eb4d70afad0875d302b9cf",
       "version_major": 2,
       "version_minor": 0
      },
      "text/plain": [
       "config.json:   0%|          | 0.00/615 [00:00<?, ?B/s]"
      ]
     },
     "metadata": {},
     "output_type": "display_data"
    },
    {
     "data": {
      "application/vnd.jupyter.widget-view+json": {
       "model_id": "5269126803fb478db47c58f4a0156a1e",
       "version_major": 2,
       "version_minor": 0
      },
      "text/plain": [
       "model.safetensors:   0%|          | 0.00/133M [00:00<?, ?B/s]"
      ]
     },
     "metadata": {},
     "output_type": "display_data"
    },
    {
     "data": {
      "application/vnd.jupyter.widget-view+json": {
       "model_id": "5269126803fb478db47c58f4a0156a1e",
       "version_major": 2,
       "version_minor": 0
      },
      "text/plain": [
       "model.safetensors:   0%|          | 0.00/133M [00:00<?, ?B/s]"
      ]
     },
     "metadata": {},
     "output_type": "display_data"
    },
    {
     "data": {
      "application/vnd.jupyter.widget-view+json": {
       "model_id": "ddc6fb78f1544695a671874f029a6da4",
       "version_major": 2,
       "version_minor": 0
      },
      "text/plain": [
       "tokenizer_config.json:   0%|          | 0.00/314 [00:00<?, ?B/s]"
      ]
     },
     "metadata": {},
     "output_type": "display_data"
    },
    {
     "data": {
      "application/vnd.jupyter.widget-view+json": {
       "model_id": "ddc6fb78f1544695a671874f029a6da4",
       "version_major": 2,
       "version_minor": 0
      },
      "text/plain": [
       "tokenizer_config.json:   0%|          | 0.00/314 [00:00<?, ?B/s]"
      ]
     },
     "metadata": {},
     "output_type": "display_data"
    },
    {
     "data": {
      "application/vnd.jupyter.widget-view+json": {
       "model_id": "d63d257e22f0486d9ce593ea11a47927",
       "version_major": 2,
       "version_minor": 0
      },
      "text/plain": [
       "vocab.txt:   0%|          | 0.00/232k [00:00<?, ?B/s]"
      ]
     },
     "metadata": {},
     "output_type": "display_data"
    },
    {
     "data": {
      "application/vnd.jupyter.widget-view+json": {
       "model_id": "d63d257e22f0486d9ce593ea11a47927",
       "version_major": 2,
       "version_minor": 0
      },
      "text/plain": [
       "vocab.txt:   0%|          | 0.00/232k [00:00<?, ?B/s]"
      ]
     },
     "metadata": {},
     "output_type": "display_data"
    },
    {
     "data": {
      "application/vnd.jupyter.widget-view+json": {
       "model_id": "2ff0219d3fd54420957bb0cc15dbd22a",
       "version_major": 2,
       "version_minor": 0
      },
      "text/plain": [
       "tokenizer.json:   0%|          | 0.00/711k [00:00<?, ?B/s]"
      ]
     },
     "metadata": {},
     "output_type": "display_data"
    },
    {
     "data": {
      "application/vnd.jupyter.widget-view+json": {
       "model_id": "2ff0219d3fd54420957bb0cc15dbd22a",
       "version_major": 2,
       "version_minor": 0
      },
      "text/plain": [
       "tokenizer.json:   0%|          | 0.00/711k [00:00<?, ?B/s]"
      ]
     },
     "metadata": {},
     "output_type": "display_data"
    },
    {
     "data": {
      "application/vnd.jupyter.widget-view+json": {
       "model_id": "f3587b14c97e469586d2a78de6ba178b",
       "version_major": 2,
       "version_minor": 0
      },
      "text/plain": [
       "special_tokens_map.json:   0%|          | 0.00/125 [00:00<?, ?B/s]"
      ]
     },
     "metadata": {},
     "output_type": "display_data"
    },
    {
     "data": {
      "application/vnd.jupyter.widget-view+json": {
       "model_id": "f3587b14c97e469586d2a78de6ba178b",
       "version_major": 2,
       "version_minor": 0
      },
      "text/plain": [
       "special_tokens_map.json:   0%|          | 0.00/125 [00:00<?, ?B/s]"
      ]
     },
     "metadata": {},
     "output_type": "display_data"
    },
    {
     "name": "stderr",
     "output_type": "stream",
     "text": [
      "`loss_type=None` was set in the config but it is unrecognised.Using the default loss: `ForCausalLMLoss`.\n",
      "`loss_type=None` was set in the config but it is unrecognised.Using the default loss: `ForCausalLMLoss`.\n"
     ]
    },
    {
     "data": {
      "text/plain": [
       "('ov_models/intfloat/e5-small-v2/tokenizer_config.json',\n",
       " 'ov_models/intfloat/e5-small-v2/special_tokens_map.json',\n",
       " 'ov_models/intfloat/e5-small-v2/vocab.txt',\n",
       " 'ov_models/intfloat/e5-small-v2/added_tokens.json',\n",
       " 'ov_models/intfloat/e5-small-v2/tokenizer.json')"
      ]
     },
     "execution_count": 2,
     "metadata": {},
     "output_type": "execute_result"
    },
    {
     "data": {
      "text/plain": [
       "('ov_models/intfloat/e5-small-v2/tokenizer_config.json',\n",
       " 'ov_models/intfloat/e5-small-v2/special_tokens_map.json',\n",
       " 'ov_models/intfloat/e5-small-v2/vocab.txt',\n",
       " 'ov_models/intfloat/e5-small-v2/added_tokens.json',\n",
       " 'ov_models/intfloat/e5-small-v2/tokenizer.json')"
      ]
     },
     "execution_count": 2,
     "metadata": {},
     "output_type": "execute_result"
    }
   ],
   "source": [
    "from optimum.intel import OVModelForFeatureExtraction\n",
    "from transformers import AutoTokenizer\n",
    "\n",
    "MODEL_NAME = \"intfloat/e5-small-v2\"\n",
    "EXPORT_PATH = f\"ov_models/{MODEL_NAME}\"\n",
    "\n",
    "ov_model = OVModelForFeatureExtraction.from_pretrained(MODEL_NAME, export=True)\n",
    "tokenizer = AutoTokenizer.from_pretrained(MODEL_NAME)\n",
    "\n",
    "ov_model.save_pretrained(EXPORT_PATH)\n",
    "tokenizer.save_pretrained(EXPORT_PATH)"
   ]
  },
  {
   "cell_type": "markdown",
   "metadata": {
    "id": "UkKcnZSWq5JX"
   },
   "source": [
    "Let's have a look inside these two directories and see what we are dealing with:"
   ]
  },
  {
   "cell_type": "code",
   "execution_count": 3,
   "metadata": {
    "colab": {
     "base_uri": "https://localhost:8080/"
    },
    "id": "s0KHaXKaq5JX",
    "outputId": "653403cf-84b1-463f-e2e6-881d30fe3468"
   },
   "outputs": [
    {
     "name": "stdout",
     "output_type": "stream",
     "text": [
      "total 131036\n",
      "-rw-r--r-- 1 root root       626 Jun 21 22:39 config.json\n",
      "-rw-r--r-- 1 root root 132852896 Jun 21 22:39 openvino_model.bin\n",
      "-rw-r--r-- 1 root root    363256 Jun 21 22:39 openvino_model.xml\n",
      "-rw-r--r-- 1 root root       695 Jun 21 22:39 special_tokens_map.json\n",
      "-rw-r--r-- 1 root root      1220 Jun 21 22:39 tokenizer_config.json\n",
      "-rw-r--r-- 1 root root    711396 Jun 21 22:39 tokenizer.json\n",
      "-rw-r--r-- 1 root root    231508 Jun 21 22:39 vocab.txt\n"
     ]
    }
   ],
   "source": [
    "!ls -l {EXPORT_PATH}"
   ]
  },
  {
   "cell_type": "markdown",
   "metadata": {
    "id": "VaXPwXx4qc66"
   },
   "source": [
    "We need to move `vocabs.txt` from the tokenizer to assets folder which Spark NLP will look for"
   ]
  },
  {
   "cell_type": "code",
   "execution_count": 4,
   "metadata": {
    "id": "3J2hh4qCq9Fr"
   },
   "outputs": [],
   "source": [
    "!mkdir {EXPORT_PATH}/assets && mv {EXPORT_PATH}/vocab.txt {EXPORT_PATH}/assets/"
   ]
  },
  {
   "cell_type": "code",
   "execution_count": 5,
   "metadata": {
    "colab": {
     "base_uri": "https://localhost:8080/"
    },
    "id": "_jMj2zvjq5JX",
    "outputId": "1142cfaf-b4db-4d2b-8351-2c7492479573"
   },
   "outputs": [
    {
     "name": "stdout",
     "output_type": "stream",
     "text": [
      "total 228\n",
      "-rw-r--r-- 1 root root 231508 Jun 21 22:39 vocab.txt\n"
     ]
    }
   ],
   "source": [
    "!ls -l {EXPORT_PATH}/assets"
   ]
  },
  {
   "cell_type": "markdown",
   "metadata": {
    "id": "rbe3ooViq5JX"
   },
   "source": [
    "## 2. Import and Save E5 in Spark NLP\n",
    "\n",
    "- Install and set up Spark NLP in Google Colab\n",
    "- This example uses specific versions of `pyspark` and `spark-nlp` that have been tested with the transformer model to ensure everything runs smoothly."
   ]
  },
  {
   "cell_type": "code",
   "execution_count": 6,
   "metadata": {
    "colab": {
     "base_uri": "https://localhost:8080/"
    },
    "id": "F8oT1HVzq5JY",
    "outputId": "5548f644-c65c-4d20-a07d-14dcbde855d4"
   },
   "outputs": [
    {
     "name": "stdout",
     "output_type": "stream",
     "text": [
      "\u001b[2K     \u001b[90m━━━━━━━━━━━━━━━━━━━━━━━━━━━━━━━━━━━━━━━━\u001b[0m \u001b[32m317.3/317.3 MB\u001b[0m \u001b[31m1.1 MB/s\u001b[0m eta \u001b[36m0:00:00\u001b[0m\n",
      "\u001b[?25h  Preparing metadata (setup.py) ... \u001b[?25l\u001b[?25hdone\n",
      "\u001b[2K   \u001b[90m━━━━━━━━━━━━━━━━━━━━━━━━━━━━━━━━━━━━━━━━\u001b[0m \u001b[32m635.7/635.7 kB\u001b[0m \u001b[31m36.1 MB/s\u001b[0m eta \u001b[36m0:00:00\u001b[0m\n",
      "\u001b[?25h  Building wheel for pyspark (setup.py) ... \u001b[?25l\u001b[?25hdone\n"
     ]
    }
   ],
   "source": [
    "!pip install -q pyspark==3.5.4 spark-nlp==5.5.3"
   ]
  },
  {
   "cell_type": "markdown",
   "metadata": {
    "id": "kQymyk4pq5JY"
   },
   "source": [
    "Let's start Spark with Spark NLP included via our simple `start()` function"
   ]
  },
  {
   "cell_type": "code",
   "execution_count": 7,
   "metadata": {
    "colab": {
     "base_uri": "https://localhost:8080/"
    },
    "id": "jxRFJUwSq5JY",
    "outputId": "b6802665-71ec-4c45-fe5f-4655a4a2c119"
   },
   "outputs": [
    {
     "name": "stdout",
     "output_type": "stream",
     "text": [
      "Spark NLP version:  5.5.3\n",
      "Apache Spark version:  3.5.4\n"
     ]
    }
   ],
   "source": [
    "import sparknlp\n",
    "\n",
    "spark = sparknlp.start()\n",
    "\n",
    "print(\"Spark NLP version: \", sparknlp.version())\n",
    "print(\"Apache Spark version: \", spark.version)"
   ]
  },
  {
   "cell_type": "markdown",
   "metadata": {
    "id": "hQYlhzBQq5JY"
   },
   "source": [
    "- Let's use `loadSavedModel` functon in `E5Embeddings` which allows us to load the OpenVINO model.\n",
    "- Most params will be set automatically. They can also be set later after loading the model in `E5Embeddings` during runtime, so don't worry about setting them now.\n",
    "- `loadSavedModel` accepts two params, first is the path to the exported model. The second is the SparkSession that is `spark` variable we previously started via `sparknlp.start()`\n",
    "- NOTE: `loadSavedModel` accepts local paths in addition to distributed file systems such as `HDFS`, `S3`, `DBFS`, etc. This feature was introduced in Spark NLP 4.2.2 release. Keep in mind the best and recommended way to move/share/reuse Spark NLP models is to use `write.save` so you can use `.load()` from any file systems natively.st and recommended way to move/share/reuse Spark NLP models is to use `write.save` so you can use `.load()` from any file systems natively.\n"
   ]
  },
  {
   "cell_type": "code",
   "execution_count": 8,
   "metadata": {
    "id": "VEcJXVo4q5JY"
   },
   "outputs": [],
   "source": [
    "from sparknlp.annotator import E5Embeddings\n",
    "\n",
    "E5 = E5Embeddings.loadSavedModel(f\"{EXPORT_PATH}\", spark)\\\n",
    "    .setInputCols([\"document\"])\\\n",
    "    .setOutputCol(\"E5\")"
   ]
  },
  {
   "cell_type": "markdown",
   "metadata": {
    "id": "AXGuTDwvq5JZ"
   },
   "source": [
    "- Let's save it on disk so it is easier to be moved around and also be used later via `.load` function"
   ]
  },
  {
   "cell_type": "code",
   "execution_count": 9,
   "metadata": {
    "id": "jP_DX--7q5JZ"
   },
   "outputs": [],
   "source": [
    "E5.write().overwrite().save(f\"{MODEL_NAME}_spark_nlp\")"
   ]
  },
  {
   "cell_type": "markdown",
   "metadata": {
    "id": "2lmz96_9q5JZ"
   },
   "source": [
    "Let's clean up stuff we don't need anymore"
   ]
  },
  {
   "cell_type": "code",
   "execution_count": 10,
   "metadata": {
    "id": "Tw7Huu33q5JZ"
   },
   "outputs": [],
   "source": [
    "!rm -rf {EXPORT_PATH}"
   ]
  },
  {
   "cell_type": "markdown",
   "metadata": {
    "id": "P4gj2XhAq5JZ"
   },
   "source": [
    "Awesome  😎 !\n",
    "\n",
    "This is your OpenVINO E5 model from HuggingFace 🤗  loaded and saved by Spark NLP 🚀"
   ]
  },
  {
   "cell_type": "code",
   "execution_count": 11,
   "metadata": {
    "colab": {
     "base_uri": "https://localhost:8080/"
    },
    "id": "fcmE8oY1q5JZ",
    "outputId": "ba20e2e3-26dd-420d-d3e2-74301de3795c"
   },
   "outputs": [
    {
     "name": "stdout",
     "output_type": "stream",
     "text": [
      "total 130124\n",
      "-rw-r--r-- 1 root root 133236765 Jun 21 22:49 e5_openvino\n",
      "drwxr-xr-x 3 root root      4096 Jun 21 22:49 fields\n",
      "drwxr-xr-x 2 root root      4096 Jun 21 22:49 metadata\n"
     ]
    }
   ],
   "source": [
    "! ls -l {MODEL_NAME}_spark_nlp"
   ]
  },
  {
   "cell_type": "markdown",
   "metadata": {
    "id": "dIV7AGvUq5JZ"
   },
   "source": [
    "Now let's see how we can use it on other machines, clusters, or any place you wish to use your new and shiny E5 model 😊"
   ]
  },
  {
   "cell_type": "code",
   "execution_count": 12,
   "metadata": {
    "colab": {
     "base_uri": "https://localhost:8080/"
    },
    "id": "90epOB2vq5JZ",
    "outputId": "ec35ec4c-98f1-4f15-b0f3-ad4db93a7723"
   },
   "outputs": [
    {
     "name": "stdout",
     "output_type": "stream",
     "text": [
      "+--------------------+\n",
      "|          embeddings|\n",
      "+--------------------+\n",
      "|[-0.042928334, 0....|\n",
      "+--------------------+\n",
      "\n"
     ]
    }
   ],
   "source": [
    "from sparknlp.base import DocumentAssembler\n",
    "from sparknlp.annotator import E5Embeddings\n",
    "from pyspark.ml import Pipeline\n",
    "\n",
    "document_assembler = DocumentAssembler()\\\n",
    "    .setInputCol(\"text\")\\\n",
    "    .setOutputCol(\"document\")\n",
    "\n",
    "E5_loaded = E5Embeddings.load(f\"{MODEL_NAME}_spark_nlp\")\\\n",
    "    .setInputCols([\"document\"])\\\n",
    "    .setOutputCol(\"E5\")\n",
    "\n",
    "pipeline = Pipeline(stages=[\n",
    "    document_assembler,\n",
    "    E5_loaded\n",
    "])\n",
    "\n",
    "data = spark.createDataFrame([[\n",
    "    'William Henry Gates III (born October 28, 1955) is an American business magnate, software developer, investor, and philanthropist.'\n",
    "]]).toDF(\"text\")\n",
    "\n",
    "model = pipeline.fit(data)\n",
    "result = model.transform(data)\n",
    "\n",
    "result.selectExpr(\"explode(E5.embeddings) as embeddings\").show()"
   ]
  },
  {
   "cell_type": "markdown",
   "metadata": {
    "id": "E8l-5MELq5Ja"
   },
   "source": [
    "That's it! You can now go wild and use hundreds of E5 models from HuggingFace 🤗 in Spark NLP 🚀\n"
   ]
  }
 ],
 "metadata": {
  "colab": {
   "provenance": []
  },
  "kernelspec": {
   "display_name": "Python 3",
   "language": "python",
   "name": "python3"
  },
  "language_info": {
   "codemirror_mode": {
    "name": "ipython",
    "version": 3
   },
   "file_extension": ".py",
   "mimetype": "text/x-python",
   "name": "python",
   "nbconvert_exporter": "python",
   "pygments_lexer": "ipython3"
  }
 },
 "nbformat": 4,
 "nbformat_minor": 0
}
