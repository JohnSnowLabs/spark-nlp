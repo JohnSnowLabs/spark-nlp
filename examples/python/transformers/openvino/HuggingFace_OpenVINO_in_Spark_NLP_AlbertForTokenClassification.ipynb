{
 "cells": [
  {
   "cell_type": "markdown",
   "metadata": {
    "id": "_V5XcDCnVgSi"
   },
   "source": [
    "![JohnSnowLabs](https://sparknlp.org/assets/images/logo.png)\n",
    "\n",
    "[![Open In Colab](https://colab.research.google.com/assets/colab-badge.svg)](https://colab.research.google.com/github/JohnSnowLabs/spark-nlp/blob/master/examples/python/transformers/openvino/HuggingFace_OpenVINO_in_Spark_NLP_AlbertForTokenClassification.ipynb)\n",
    "\n",
    "# Import OpenVINO AlbertForTokenClassification   models from HuggingFace 🤗 into Spark NLP 🚀\n",
    "\n",
    "This notebook provides a detailed walkthrough on optimizing and exporting AlbertForTokenClassification   models from HuggingFace for use in Spark NLP, leveraging the various tools provided in the [Intel OpenVINO toolkit](https://www.intel.com/content/www/us/en/developer/tools/openvino-toolkit/overview.html) ecosystem.\n",
    "\n",
    "Let's keep in mind a few things before we start 😊\n",
    "\n",
    "- OpenVINO support was introduced in  `Spark NLP 5.4.0`, enabling high performance inference for models. Please make sure you have upgraded to the latest Spark NLP release.\n",
    "- You can import models for AlbertForTokenClassification   from AlbertForTokenClassification   and they have to be in `Token Classification` category."
   ]
  },
  {
   "cell_type": "markdown",
   "metadata": {
    "id": "aghasVppVgSk"
   },
   "source": [
    "## 1. Export and Save the HuggingFace model"
   ]
  },
  {
   "cell_type": "markdown",
   "metadata": {
    "id": "be4HsTDMVgSk"
   },
   "source": [
    "- Let's install `transformers` and `openvino` packages with other dependencies. You don't need `openvino` to be installed for Spark NLP, however, we need it to load and save models from HuggingFace.\n",
    "- We lock `transformers` on version `4.48.3`. This doesn't mean it won't work with the future releases, but we wanted you to know which versions have been tested successfully."
   ]
  },
  {
   "cell_type": "code",
   "execution_count": null,
   "metadata": {
    "colab": {
     "base_uri": "https://localhost:8080/"
    },
    "id": "AnjuSe1xQv0S",
    "outputId": "900b7599-3763-4425-d782-cc9ec18df678"
   },
   "outputs": [],
   "source": [
    "!pip install -q --upgrade transformers==4.48.3 optimum[openvino]"
   ]
  },
  {
   "cell_type": "markdown",
   "metadata": {
    "id": "vI7uz_6hVgSl"
   },
   "source": [
    "[Optimum Intel](https://github.com/huggingface/optimum-intel?tab=readme-ov-file#openvino) is the interface between the Transformers library and the various model optimization and acceleration tools provided by Intel. HuggingFace models loaded with optimum-intel are automatically optimized for OpenVINO, while being compatible with the Transformers API.\n",
    "- To load a HuggingFace model directly for inference/export, just replace the `AutoModelForXxx` class with the corresponding `OVModelForXxx` class. We can use this to import and export OpenVINO models with `from_pretrained` and `save_pretrained`.\n",
    "- By setting `export=True`, the source model is converted to OpenVINO IR format on the fly.\n",
    "- We'll use [HooshvareLab/albert-fa-zwnj-base-v2-ner](https://huggingface.co/HooshvareLab/albert-fa-zwnj-base-v2-ner) model from HuggingFace as an example and load it as a `OVModelForTokenClassification`, representing an OpenVINO model.\n",
    "- In addition to the AlbertForTokenClassification   model, we also need to save the `AlbertTokenizer`. This is the same for every model, these are assets (saved in `/assets`) needed for tokenization inside Spark NLP."
   ]
  },
  {
   "cell_type": "code",
   "execution_count": null,
   "metadata": {
    "colab": {
     "base_uri": "https://localhost:8080/",
     "height": 467,
     "referenced_widgets": [
      "257e79e2cef6429b87ad85c4d6920ac7",
      "d42919dea187453aad825d56aa5d94ac",
      "be5f89e07d5b4823915ba9f917710ba3",
      "f4fa14a36a9845cf81f10f5daa2cccf2",
      "72b797f8d25f4944869eaf09e90ff5d2",
      "88bc3e412f2c4f7caff1a4fa45c16c9a",
      "5c0ef37d9d30489ba4b6abb37ef2269f",
      "deb003fd5dc7442c9a0b4429c29244ef",
      "858ac4995de5428a9333d2cd1e945dd3",
      "98077677f61f453c86218348aaef647a",
      "30d24a4e098e47d6894cf47e8faa7315",
      "722d1b3ab51d47819a8375715b484388",
      "e40e929f81614d7bb9271d8093dc8da1",
      "a7314672529a42abac9647d50d2f8222",
      "7f895abc46ba42b09b2c5a829572b6ee",
      "bb3cc097654242ec929f2ff9951d0a6c",
      "b3d0c8ec92c94c29a8c578eeb77bce3f",
      "daca981a729947dd92a72242c855d8f0",
      "06bfd929d9d741ba8aaa5496275a1f0e",
      "b2249f954fbd4d88a67a81a4a0465b09",
      "d484b62acf3b4e47a4f42902bc75eb01",
      "846f7e302e57411bb8e2a1aba3fd66a9",
      "297d621190224a30bbafa883cf31d179",
      "5beed0fa6a434613829f3706655bd609",
      "66eb1233526a435d8e751137cf4b8581",
      "8c1b3ccad3c9466dbc7fb4976ceca63e",
      "621745e27cbc4729b1fbd6686be53044",
      "69c07204c4db4c5b879b2be33edc7655",
      "e4385c5c58e14555a0f06aec832de1d6",
      "e2816db4baaf4f14ad2606bc63a6662b",
      "65b31aee86264039aa216072b6e3f16f",
      "faf16a61cb2b43e686643c32e4623065",
      "2c5b867ab7364d06af71a7a27fbcd9f5",
      "439e446860ef41fdb033f071e73facea",
      "0f1a4437a32e4fddb33e681b33e2f35f",
      "86566bf1121b40fe845870595f249313",
      "09c8431cd5684cd19bb4d6001c05c348",
      "1660bb692ef9463997d5f82e03a2dac2",
      "316885e645184f47aeda5ead66c546fb",
      "e41a2e7b48e5425a8afddcffcad893c4",
      "b7b99a9f576b4262868de0ca1211d108",
      "b4d60e782ea249b183e12662c1b1e3a7",
      "42f2ae79db49441e8534628d86a1c039",
      "fe6dbbd7d6c94182a8e35c688107dde8",
      "ea9c38d8faea4acbbffb8db2a2941fee",
      "82206255888c4ecfae951d0f9c4ae404",
      "d91d91f28247422faf2b0d0083a8c133",
      "c7bee42f6a504fada3100994223c8672",
      "cc418741fe6e4168ab73dae39bae8139",
      "85b9cb0670a5449081d026fc573f5cf5",
      "9eb6a6e682b54c07a29dbdc370532489",
      "ba17e13dad83480bace4c3eb5d808a65",
      "40d9ce0ad5f1489b94e5256141a922b4",
      "1199a3e3dda54388b32eeac572b214b1",
      "03177f8de5be4ce99bdf4b1c38906dab",
      "367e05c74f51422bbe0552da88bba86f",
      "16a83fef0fee42318ebffcd5098ad471",
      "00498b21f23b44d88a384ccd8b6aaec5",
      "9e222d78cd6c4dfa8430dc2fe2eb9384",
      "c97e8c1ac40f4b69b6f80749b539b138",
      "80cbf3db3b4149bdbaf806428359987c",
      "da26ba763ce042489a163ff7e7853264",
      "3f4bde1bafbd4f7fa3a991cc50ed5289",
      "53225416998443159863bc4a6bf1fe8f",
      "6e895d70dd9e45228413507f31140106",
      "230b7a665dd147798d5f7b28ad7e969f",
      "47a3d9d5c9e54b88b202b100db9dd715",
      "e563fbf6c4da4e1e8a98f53b440009d0",
      "7feb6f9ad214459dadb9c7d654b0f58c",
      "ec77714f7e2f436c8faf707c44201dbb",
      "b3276c9dc6a84153a8f7c9f45cb40bc8",
      "b06f7029ce4040828028d410f228d294",
      "f956e576f080487ca206396ae808bd9f",
      "c9b38f43fd004b80b9abf2e4be101900",
      "f9e59142b17f4ea181b40949d2116521",
      "1c128f915c31430498dfdf336b713155",
      "fb9a6c547cad4fa1849756777928e571"
     ]
    },
    "id": "oroJa4dZlf-a",
    "outputId": "1c890612-14d5-4409-ca6e-27da21131f31"
   },
   "outputs": [
    {
     "name": "stderr",
     "output_type": "stream",
     "text": [
      "No CUDA runtime is found, using CUDA_HOME='/usr/local/cuda'\n",
      "/usr/local/lib/python3.11/dist-packages/huggingface_hub/utils/_auth.py:94: UserWarning: \n",
      "The secret `HF_TOKEN` does not exist in your Colab secrets.\n",
      "To authenticate with the Hugging Face Hub, create a token in your settings tab (https://huggingface.co/settings/tokens), set it as secret in your Google Colab and restart your session.\n",
      "You will be able to reuse this secret in all of your notebooks.\n",
      "Please note that authentication is recommended but still optional to access public models or datasets.\n",
      "  warnings.warn(\n"
     ]
    },
    {
     "data": {
      "application/vnd.jupyter.widget-view+json": {
       "model_id": "257e79e2cef6429b87ad85c4d6920ac7",
       "version_major": 2,
       "version_minor": 0
      },
      "text/plain": [
       "config.json:   0%|          | 0.00/1.57k [00:00<?, ?B/s]"
      ]
     },
     "metadata": {},
     "output_type": "display_data"
    },
    {
     "data": {
      "application/vnd.jupyter.widget-view+json": {
       "model_id": "722d1b3ab51d47819a8375715b484388",
       "version_major": 2,
       "version_minor": 0
      },
      "text/plain": [
       "pytorch_model.bin:   0%|          | 0.00/44.5M [00:00<?, ?B/s]"
      ]
     },
     "metadata": {},
     "output_type": "display_data"
    },
    {
     "data": {
      "application/vnd.jupyter.widget-view+json": {
       "model_id": "297d621190224a30bbafa883cf31d179",
       "version_major": 2,
       "version_minor": 0
      },
      "text/plain": [
       "tokenizer_config.json:   0%|          | 0.00/499 [00:00<?, ?B/s]"
      ]
     },
     "metadata": {},
     "output_type": "display_data"
    },
    {
     "data": {
      "application/vnd.jupyter.widget-view+json": {
       "model_id": "439e446860ef41fdb033f071e73facea",
       "version_major": 2,
       "version_minor": 0
      },
      "text/plain": [
       "spiece.model:   0%|          | 0.00/857k [00:00<?, ?B/s]"
      ]
     },
     "metadata": {},
     "output_type": "display_data"
    },
    {
     "data": {
      "application/vnd.jupyter.widget-view+json": {
       "model_id": "ea9c38d8faea4acbbffb8db2a2941fee",
       "version_major": 2,
       "version_minor": 0
      },
      "text/plain": [
       "tokenizer.json:   0%|          | 0.00/3.23M [00:00<?, ?B/s]"
      ]
     },
     "metadata": {},
     "output_type": "display_data"
    },
    {
     "data": {
      "application/vnd.jupyter.widget-view+json": {
       "model_id": "367e05c74f51422bbe0552da88bba86f",
       "version_major": 2,
       "version_minor": 0
      },
      "text/plain": [
       "special_tokens_map.json:   0%|          | 0.00/186 [00:00<?, ?B/s]"
      ]
     },
     "metadata": {},
     "output_type": "display_data"
    },
    {
     "data": {
      "application/vnd.jupyter.widget-view+json": {
       "model_id": "47a3d9d5c9e54b88b202b100db9dd715",
       "version_major": 2,
       "version_minor": 0
      },
      "text/plain": [
       "model.safetensors:   0%|          | 0.00/44.4M [00:00<?, ?B/s]"
      ]
     },
     "metadata": {},
     "output_type": "display_data"
    },
    {
     "name": "stderr",
     "output_type": "stream",
     "text": [
      "`loss_type=None` was set in the config but it is unrecognised.Using the default loss: `ForCausalLMLoss`.\n"
     ]
    },
    {
     "data": {
      "text/plain": [
       "('onnx_models/HooshvareLab/albert-fa-zwnj-base-v2-ner/tokenizer_config.json',\n",
       " 'onnx_models/HooshvareLab/albert-fa-zwnj-base-v2-ner/special_tokens_map.json',\n",
       " 'onnx_models/HooshvareLab/albert-fa-zwnj-base-v2-ner/spiece.model',\n",
       " 'onnx_models/HooshvareLab/albert-fa-zwnj-base-v2-ner/added_tokens.json',\n",
       " 'onnx_models/HooshvareLab/albert-fa-zwnj-base-v2-ner/tokenizer.json')"
      ]
     },
     "execution_count": 3,
     "metadata": {},
     "output_type": "execute_result"
    }
   ],
   "source": [
    "from transformers import AutoTokenizer\n",
    "from optimum.intel import OVModelForTokenClassification\n",
    "\n",
    "MODEL_NAME = \"HooshvareLab/albert-fa-zwnj-base-v2-ner\"\n",
    "EXPORT_PATH = f\"ov_models/{MODEL_NAME}\"\n",
    "\n",
    "ort_model = OVModelForTokenClassification.from_pretrained(MODEL_NAME, export=True)\n",
    "ort_model.save_pretrained(EXPORT_PATH)\n",
    "\n",
    "tokenizer = AutoTokenizer.from_pretrained(MODEL_NAME)\n",
    "tokenizer.save_pretrained(EXPORT_PATH)"
   ]
  },
  {
   "cell_type": "markdown",
   "metadata": {
    "id": "uGv1hH3llrcA"
   },
   "source": [
    "Let's have a look inside these two directories and see what we are dealing with:"
   ]
  },
  {
   "cell_type": "code",
   "execution_count": 4,
   "metadata": {
    "colab": {
     "base_uri": "https://localhost:8080/"
    },
    "id": "pllTr-7TlpCA",
    "outputId": "3a8f09fb-c48e-4f96-a843-b8d0d05b950d"
   },
   "outputs": [
    {
     "name": "stdout",
     "output_type": "stream",
     "text": [
      "total 46948\n",
      "-rw-r--r-- 1 root root     1630 Jun 18 01:15 config.json\n",
      "-rw-r--r-- 1 root root 44440820 Jun 18 01:15 openvino_model.bin\n",
      "-rw-r--r-- 1 root root   357319 Jun 18 01:15 openvino_model.xml\n",
      "-rw-r--r-- 1 root root      971 Jun 18 01:15 special_tokens_map.json\n",
      "-rw-r--r-- 1 root root   857476 Jun 18 01:15 spiece.model\n",
      "-rw-r--r-- 1 root root    19227 Jun 18 01:15 tokenizer_config.json\n",
      "-rw-r--r-- 1 root root  2381031 Jun 18 01:15 tokenizer.json\n"
     ]
    }
   ],
   "source": [
    "!ls -l {EXPORT_PATH}"
   ]
  },
  {
   "cell_type": "markdown",
   "metadata": {
    "id": "1KHZVVHQlnap"
   },
   "source": [
    "- We need to move the `spiece.model` file from the tokenizer into an assets folder, as this is where Spark NLP looks for it when working with models like Albert or other SentencePiece-based tokenizers.\n",
    "- Additionally, we need to extract the `labels` and their corresponding `ids` from the model's config. This mapping will be saved as `labels.txt` inside the same `assets` folder."
   ]
  },
  {
   "cell_type": "code",
   "execution_count": 5,
   "metadata": {
    "id": "q8lhKy3GkPeR"
   },
   "outputs": [],
   "source": [
    "!mkdir {EXPORT_PATH}/assets\n",
    "\n",
    "labels = ort_model.config.label2id\n",
    "labels = sorted(labels, key=labels.get)\n",
    "\n",
    "with open(EXPORT_PATH + '/assets/labels.txt', 'w') as f:\n",
    "    f.write('\\n'.join(labels))\n",
    "\n",
    "!mv {EXPORT_PATH}/spiece.model {EXPORT_PATH}/assets"
   ]
  },
  {
   "cell_type": "markdown",
   "metadata": {
    "id": "BAs-wq_wVgSn"
   },
   "source": [
    "Let's have a look inside these two directories and see what we are dealing with:"
   ]
  },
  {
   "cell_type": "code",
   "execution_count": 6,
   "metadata": {
    "colab": {
     "base_uri": "https://localhost:8080/"
    },
    "id": "daFkGhN-VgSn",
    "outputId": "03785647-6a5b-47a6-ec9f-a0ed9afb1fa2"
   },
   "outputs": [
    {
     "name": "stdout",
     "output_type": "stream",
     "text": [
      "total 844\n",
      "-rw-r--r-- 1 root root    121 Jun 18 01:15 labels.txt\n",
      "-rw-r--r-- 1 root root 857476 Jun 18 01:15 spiece.model\n"
     ]
    }
   ],
   "source": [
    "!ls -l {EXPORT_PATH}/assets"
   ]
  },
  {
   "cell_type": "markdown",
   "metadata": {
    "id": "ic8DMZ8xlykr"
   },
   "source": [
    "Voila! We have our `spiece.model` and `labels.txt` inside assets directory"
   ]
  },
  {
   "cell_type": "markdown",
   "metadata": {
    "id": "T1RxrV2CcRsC"
   },
   "source": [
    "## Import and Save AlbertForTokenClassification in Spark NLP\n"
   ]
  },
  {
   "cell_type": "markdown",
   "metadata": {
    "id": "IPwfGRpucRsC"
   },
   "source": [
    "- Install and set up Spark NLP in Google Colab\n",
    "- This example uses specific versions of `pyspark` and `spark-nlp` that have been tested with the transformer model to ensure everything runs smoothly."
   ]
  },
  {
   "cell_type": "code",
   "execution_count": 7,
   "metadata": {
    "colab": {
     "base_uri": "https://localhost:8080/"
    },
    "id": "g-XkOdHccRsC",
    "outputId": "907d77f6-66f3-456e-c347-5f042bfddade"
   },
   "outputs": [
    {
     "name": "stdout",
     "output_type": "stream",
     "text": [
      "\u001b[2K     \u001b[90m━━━━━━━━━━━━━━━━━━━━━━━━━━━━━━━━━━━━━━━\u001b[0m \u001b[32m317.3/317.3 MB\u001b[0m \u001b[31m5.1 MB/s\u001b[0m eta \u001b[36m0:00:00\u001b[0m\n",
      "\u001b[?25h  Preparing metadata (setup.py) ... \u001b[?25l\u001b[?25hdone\n",
      "\u001b[2K   \u001b[90m━━━━━━━━━━━━━━━━━━━━━━━━━━━━━━━━━━━━━━━━\u001b[0m \u001b[32m635.7/635.7 kB\u001b[0m \u001b[31m36.0 MB/s\u001b[0m eta \u001b[36m0:00:00\u001b[0m\n",
      "\u001b[?25h  Building wheel for pyspark (setup.py) ... \u001b[?25l\u001b[?25hdone\n"
     ]
    }
   ],
   "source": [
    "!pip install -q pyspark==3.5.4 spark-nlp==5.5.3"
   ]
  },
  {
   "cell_type": "markdown",
   "metadata": {
    "id": "QaAcFRZccRsC"
   },
   "source": [
    "Let's start Spark with Spark NLP included via our simple `start()` function"
   ]
  },
  {
   "cell_type": "code",
   "execution_count": 8,
   "metadata": {
    "colab": {
     "base_uri": "https://localhost:8080/"
    },
    "id": "xlEnhLOncRsC",
    "outputId": "3f0356ee-aac3-461b-f82d-d4e870994cb7"
   },
   "outputs": [
    {
     "name": "stdout",
     "output_type": "stream",
     "text": [
      "Spark NLP version:  5.5.3\n",
      "Apache Spark version:  3.5.4\n"
     ]
    }
   ],
   "source": [
    "import sparknlp\n",
    "\n",
    "spark = sparknlp.start()\n",
    "\n",
    "print(\"Spark NLP version: \", sparknlp.version())\n",
    "print(\"Apache Spark version: \", spark.version)"
   ]
  },
  {
   "cell_type": "markdown",
   "metadata": {
    "id": "6Ny1t7kRcRsC"
   },
   "source": [
    "- Let's use `loadSavedModel` functon in `AlbertForTokenClassification` which allows us to load TensorFlow model in SavedModel format\n",
    "- Most params can be set later when you are loading this model in `AlbertForTokenClassification` in runtime like `setMaxSentenceLength`, so don't worry what you are setting them now\n",
    "- `loadSavedModel` accepts two params, first is the path to the TF SavedModel. The second is the SparkSession that is `spark` variable we previously started via `sparknlp.start()`\n",
    "- NOTE: `loadSavedModel` accepts local paths in addition to distributed file systems such as `HDFS`, `S3`, `DBFS`, etc. This feature was introduced in Spark NLP 4.2.2 release. Keep in mind the best and recommended way to move/share/reuse Spark NLP models is to use `write.save` so you can use `.load()` from any file systems natively.st and recommended way to move/share/reuse Spark NLP models is to use `write.save` so you can use `.load()` from any file systems natively\n",
    "\n"
   ]
  },
  {
   "cell_type": "code",
   "execution_count": 9,
   "metadata": {
    "id": "ETP2-f5KRG7g"
   },
   "outputs": [],
   "source": [
    "from sparknlp.annotator import AlbertForTokenClassification\n",
    "\n",
    "tokenClassifier = AlbertForTokenClassification\\\n",
    "  .loadSavedModel(EXPORT_PATH, spark)\\\n",
    "  .setInputCols([\"document\",'token'])\\\n",
    "  .setOutputCol(\"ner\")\\\n",
    "  .setCaseSensitive(False)\\\n",
    "  .setMaxSentenceLength(128)"
   ]
  },
  {
   "cell_type": "markdown",
   "metadata": {
    "id": "Es-SFzvXcRsC"
   },
   "source": [
    "- Let's save it on disk so it is easier to be moved around and also be used later via `.load` function"
   ]
  },
  {
   "cell_type": "code",
   "execution_count": 10,
   "metadata": {
    "id": "HQpQPH9HcRsC"
   },
   "outputs": [],
   "source": [
    "tokenClassifier.write().overwrite().save(\"./{}_spark_nlp_openvino\".format(MODEL_NAME))"
   ]
  },
  {
   "cell_type": "markdown",
   "metadata": {
    "id": "BYk6bNBocRsC"
   },
   "source": [
    "Let's clean up stuff we don't need anymore"
   ]
  },
  {
   "cell_type": "code",
   "execution_count": 11,
   "metadata": {
    "id": "hSbuY02ucRsC"
   },
   "outputs": [],
   "source": [
    "!rm -rf {EXPORT_PATH}"
   ]
  },
  {
   "cell_type": "markdown",
   "metadata": {
    "id": "KFWMvOmhcRsC"
   },
   "source": [
    "Awesome 😎  !\n",
    "\n",
    "This is your AlbertForTokenClassification model from HuggingFace 🤗  loaded and saved by Spark NLP 🚀"
   ]
  },
  {
   "cell_type": "code",
   "execution_count": 12,
   "metadata": {
    "colab": {
     "base_uri": "https://localhost:8080/"
    },
    "id": "FGTOThM8cRsD",
    "outputId": "60fc41f1-56e1-488d-8b05-541c519ba26f"
   },
   "outputs": [
    {
     "name": "stdout",
     "output_type": "stream",
     "text": [
      "total 44604\n",
      "-rw-r--r-- 1 root root 44805257 Jun 18 01:17 albert_classification_openvino\n",
      "-rw-r--r-- 1 root root   857476 Jun 18 01:17 albert_spp\n",
      "drwxr-xr-x 3 root root     4096 Jun 18 01:17 fields\n",
      "drwxr-xr-x 2 root root     4096 Jun 18 01:17 metadata\n"
     ]
    }
   ],
   "source": [
    "! ls -l {MODEL_NAME}_spark_nlp_openvino"
   ]
  },
  {
   "cell_type": "markdown",
   "metadata": {
    "id": "Gab_QbvdcRsD"
   },
   "source": [
    "Now let's see how we can use it on other machines, clusters, or any place you wish to use your new and shiny AlbertForTokenClassification model 😊"
   ]
  },
  {
   "cell_type": "code",
   "execution_count": 13,
   "metadata": {
    "id": "yWvZdpB2cRsD"
   },
   "outputs": [],
   "source": [
    "tokenClassifier_loaded = AlbertForTokenClassification.load(\"./{}_spark_nlp_openvino\".format(MODEL_NAME))\\\n",
    "  .setInputCols([\"document\",'token'])\\\n",
    "  .setOutputCol(\"ner\")"
   ]
  },
  {
   "cell_type": "markdown",
   "metadata": {
    "id": "vrcYYEw7cRsD"
   },
   "source": [
    "You can see what labels were used to train this model via `getClasses` function:"
   ]
  },
  {
   "cell_type": "code",
   "execution_count": 14,
   "metadata": {
    "colab": {
     "base_uri": "https://localhost:8080/"
    },
    "id": "rgjvAgF4cRsD",
    "outputId": "d49c62a2-e273-498c-cdd4-00643236147c"
   },
   "outputs": [
    {
     "data": {
      "text/plain": [
       "['I-PCT',\n",
       " 'B-PRO',\n",
       " 'I-EVE',\n",
       " 'B-LOC',\n",
       " 'I-ORG',\n",
       " 'B-FAC',\n",
       " 'B-EVE',\n",
       " 'B-TIM',\n",
       " 'I-DAT',\n",
       " 'B-MON',\n",
       " 'B-PCT',\n",
       " 'I-MON',\n",
       " 'I-LOC',\n",
       " 'I-FAC',\n",
       " 'I-PRO',\n",
       " 'I-TIM',\n",
       " 'I-PER',\n",
       " 'B-DAT',\n",
       " 'B-ORG',\n",
       " 'O',\n",
       " 'B-PER']"
      ]
     },
     "execution_count": 14,
     "metadata": {},
     "output_type": "execute_result"
    }
   ],
   "source": [
    "tokenClassifier_loaded.getClasses()"
   ]
  },
  {
   "cell_type": "markdown",
   "metadata": {
    "id": "e-Ze6crXcRsD"
   },
   "source": [
    "This is how you can use your loaded classifier model in Spark NLP 🚀 pipeline:"
   ]
  },
  {
   "cell_type": "code",
   "execution_count": 16,
   "metadata": {
    "colab": {
     "base_uri": "https://localhost:8080/"
    },
    "id": "WNYsE362cRsD",
    "outputId": "93938d07-40e7-4a98-af9a-81882d8eaedf"
   },
   "outputs": [
    {
     "name": "stdout",
     "output_type": "stream",
     "text": [
      "+----------------------------------------------------------------------------+--------------------------------------------------------------+\n",
      "|text                                                                        |result                                                        |\n",
      "+----------------------------------------------------------------------------+--------------------------------------------------------------+\n",
      "|این سریال به صورت رسمی در تاریخ دهم می ۲۰۱۱ توسط شبکه فاکس برای پخش رزرو شد.|[O, O, O, O, O, O, O, O, O, O, O, B-ORG, I-ORG, O, O, O, O, O]|\n",
      "|دفتر مرکزی شرکت کامیکو در شهر ساسکاتون ساسکاچوان قرار دارد.                 |[O, O, B-ORG, I-ORG, O, B-LOC, I-LOC, I-LOC, O, O, O]         |\n",
      "|در سال ۲۰۱۳ درگذشت و آندرتیکر و کین برای او مراسم یادبود گرفتند.            |[O, B-DAT, I-DAT, O, O, B-LOC, O, B-PER, O, O, O, O, O, O]    |\n",
      "+----------------------------------------------------------------------------+--------------------------------------------------------------+\n",
      "\n"
     ]
    }
   ],
   "source": [
    "from pyspark.ml import Pipeline\n",
    "from sparknlp.annotator import Tokenizer\n",
    "from sparknlp.base import DocumentAssembler\n",
    "\n",
    "document_assembler = DocumentAssembler() \\\n",
    "    .setInputCol('text') \\\n",
    "    .setOutputCol('document')\n",
    "\n",
    "tokenizer = Tokenizer() \\\n",
    "    .setInputCols(['document']) \\\n",
    "    .setOutputCol('token')\n",
    "\n",
    "pipeline = Pipeline(stages=[\n",
    "    document_assembler,\n",
    "    tokenizer,\n",
    "    tokenClassifier_loaded\n",
    "])\n",
    "\n",
    "example = spark.createDataFrame([\n",
    "    [\"این سریال به صورت رسمی در تاریخ دهم می ۲۰۱۱ توسط شبکه فاکس برای پخش رزرو شد.\"],\n",
    "    ['دفتر مرکزی شرکت کامیکو در شهر ساسکاتون ساسکاچوان قرار دارد.'],\n",
    "    ['در سال ۲۰۱۳ درگذشت و آندرتیکر و کین برای او مراسم یادبود گرفتند.']\n",
    "]).toDF(\"text\")\n",
    "\n",
    "result = pipeline.fit(example).transform(example)\n",
    "result.select(\"text\", \"ner.result\").show(truncate=False)"
   ]
  },
  {
   "cell_type": "markdown",
   "metadata": {
    "id": "_PlZjDWYcRsD"
   },
   "source": [
    "That's it! You can now go wild and use hundreds of `AlbertForTokenClassification` models from HuggingFace 🤗 in Spark NLP 🚀\n"
   ]
  }
 ],
 "metadata": {
  "colab": {
   "provenance": []
  },
  "kernelspec": {
   "display_name": "Python 3",
   "language": "python",
   "name": "python3"
  },
  "language_info": {
   "codemirror_mode": {
    "name": "ipython",
    "version": 3
   },
   "file_extension": ".py",
   "mimetype": "text/x-python",
   "name": "python",
   "nbconvert_exporter": "python",
   "pygments_lexer": "ipython3",
   "version": "3.10.12"
  }
 },
 "nbformat": 4,
 "nbformat_minor": 0
}
