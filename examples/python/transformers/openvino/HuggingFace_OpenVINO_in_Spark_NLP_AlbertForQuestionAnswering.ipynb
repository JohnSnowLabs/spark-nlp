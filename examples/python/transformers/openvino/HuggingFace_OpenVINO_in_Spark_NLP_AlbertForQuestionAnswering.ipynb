{
  "cells": [
    {
      "cell_type": "markdown",
      "metadata": {
        "id": "_V5XcDCnVgSi"
      },
      "source": [
        "![JohnSnowLabs](https://sparknlp.org/assets/images/logo.png)\n",
        "\n",
        "[![Open In Colab](https://colab.research.google.com/assets/colab-badge.svg)](https://colab.research.google.com/github/JohnSnowLabs/spark-nlp/blob/master/examples/python/transformers/openvino/HuggingFace_OpenVINO_in_Spark_NLP_AlbertForQuestionAnswering.ipynb)\n",
        "\n",
        "# Import OpenVINO AlbertForQuestionAnswering models from HuggingFace 🤗 into Spark NLP 🚀\n",
        "\n",
        "This notebook provides a detailed walkthrough on optimizing and exporting AlbertForQuestionAnswering models from HuggingFace for use in Spark NLP, leveraging the various tools provided in the [Intel OpenVINO toolkit](https://www.intel.com/content/www/us/en/developer/tools/openvino-toolkit/overview.html) ecosystem.\n",
        "\n",
        "Let's keep in mind a few things before we start 😊\n",
        "\n",
        "- OpenVINO support was introduced in  `Spark NLP 5.4.0`, enabling high performance inference for models. Please make sure you have upgraded to the latest Spark NLP release.\n",
        "- You can import models for AlbertForQuestionAnswering from AlbertForQuestionAnswering and they have to be in `Question Answering` category."
      ]
    },
    {
      "cell_type": "markdown",
      "metadata": {
        "id": "aghasVppVgSk"
      },
      "source": [
        "## 1. Export and Save the HuggingFace model"
      ]
    },
    {
      "cell_type": "markdown",
      "metadata": {
        "id": "be4HsTDMVgSk"
      },
      "source": [
        "- Let's install `transformers` and `openvino` packages with other dependencies. You don't need `openvino` to be installed for Spark NLP, however, we need it to load and save models from HuggingFace.\n",
        "- We lock `transformers` on version `4.48.3`. This doesn't mean it won't work with the future releases, but we wanted you to know which versions have been tested successfully."
      ]
    },
    {
      "cell_type": "code",
      "execution_count": null,
      "metadata": {
        "colab": {
          "base_uri": "https://localhost:8080/"
        },
        "id": "qSWycuAU-cdw",
        "outputId": "7537b62e-b171-41a4-8edf-3b6ab89c7d4a"
      },
      "outputs": [],
      "source": [
        "!pip install -q --upgrade transformers==4.48.3 optimum[openvino]"
      ]
    },
    {
      "cell_type": "markdown",
      "metadata": {
        "id": "vI7uz_6hVgSl"
      },
      "source": [
        "[Optimum Intel](https://github.com/huggingface/optimum-intel?tab=readme-ov-file#openvino) is the interface between the Transformers library and the various model optimization and acceleration tools provided by Intel. HuggingFace models loaded with optimum-intel are automatically optimized for OpenVINO, while being compatible with the Transformers API.\n",
        "- To load a HuggingFace model directly for inference/export, just replace the `AutoModelForXxx` class with the corresponding `OVModelForXxx` class. We can use this to import and export OpenVINO models with `from_pretrained` and `save_pretrained`.\n",
        "- By setting `export=True`, the source model is converted to OpenVINO IR format on the fly.\n",
        "- We'll use [twmkn9/albert-base-v2-squad2](https://huggingface.co/twmkn9/albert-base-v2-squad2) model from HuggingFace as an example and load it as a `OVModelForQuestionAnswering`, representing an OpenVINO model.\n",
        "- In addition to the AlbertForQuestionAnswering model, we also need to save the `AlbertTokenizer`. This is the same for every model, these are assets (saved in `/assets`) needed for tokenization inside Spark NLP."
      ]
    },
    {
      "cell_type": "code",
      "execution_count": null,
      "metadata": {
        "colab": {
          "base_uri": "https://localhost:8080/",
          "height": 487,
          "referenced_widgets": [
            "07bb16cf3341406daf566883ad75a704",
            "e02ba5baa9e540bfa5ea98a0ee4cdd90",
            "fc10af45fe4a4a79a96345a5271bba88",
            "b4bf294b16864f2f95ab742c6b7c7b81",
            "09b8c114f4e34422a73baa9d58ab4a89",
            "406c9694f0a447ffb3672d90a097a96c",
            "15621ccbacce45e28e8ba53528d59381",
            "8904ca4fd8474c8ca365704c3e5d380a",
            "819c86721fc64c649424fc3a6e030325",
            "3b405ff36cc440c9bbee6a7ecb9b401c",
            "ab968ad9cb334d86ad8902d11822b425",
            "28979bd8802b4780a38c615d508e6466",
            "e6e13247c7bb440cbd3cba7d64c04e06",
            "8ae0e3c77cc441febdb0336ae264f3e7",
            "3888631bfbdd4e078e1062b6afe832f7",
            "da65b4b74096443cada0d493c35792e5",
            "62c5e5a9021048b49ba49fc0025ef451",
            "b92914640cba43c3aa202bbf5dc998d0",
            "d879f58cd56041498d132e8b3bfd0ac6",
            "ed646e51932a4b6b9200c7e17ff99977",
            "82589a75202f4821b95b582488095094",
            "cd6afeda9e974249acc5bf85d212a0ed",
            "4724b92ab6734e90bcb252734ae95dd1",
            "868b53da756943ca85cd73c5e8edc010",
            "2209539fb60f49ec8c93a1a0b0041b8e",
            "17b404a63c5148e2a8c22d2d424c5a19",
            "fe86cefda9c24f3a935475bd60118190",
            "58b2565451e44e27aec587f0e218cfba",
            "174b693ec671432f9a575050c4a8c252",
            "bc8778430de648f9aad55c7c0a553a3f",
            "83eb610c2f7a4298a6831840a79bc0a9",
            "92ce628431b2442f8f33e4a811f26b1a",
            "1a48b34e4ba8411ca46e0fa0143d2947",
            "1399586cf59049a08cf18a13dda8fb64",
            "3d5a966e875d46779ede2d002fcec2be",
            "ef08cbf5fd6944dfbc79d85501801cdd",
            "099b524d00674745bdd1144ef238503c",
            "1644024abd5f4e85ba4b1579312112c1",
            "0e218eb2a8fe4606a50cc058be426edd",
            "4d6466182776450fa38a9f174539cab1",
            "748c35df17b04d48a835c5102c89493d",
            "469035a4eab34d4d8ea7f4398e60a56e",
            "d6e40271afa544879546545c6bf70e2a",
            "dc5d8c5e20444928a0844b43509621b6",
            "dade7e70e2904f769460905e1e3f1ee1",
            "77d60efc494a4348b55fd956c6a9247f",
            "1ef336d430264c7095a46097a3c277e9",
            "a28a6bf455b64c0e9c1bbf46ea2549f7",
            "b3312a3d495b4d88b73aa4935732a585",
            "1f9a01af9edf4f619d0f107f042f1a8c",
            "98ae11d5a5de4550b21f5f8970ef4632",
            "3cf9f68accf848269c7c900c4726e13a",
            "8486533bfb18499090dbf4b9b247e17d",
            "f087dec45afc4ddfb530f21f4f6eefa9",
            "85ac95c6a1ab443abe1226e9c35e980a",
            "02c6ef3908d647a89086537369736587",
            "f682ea4b862443c5a904453c84f9dde7",
            "e0af5669e23241b39cfb0e52ed3000da",
            "50f8f63bbc374e14b30a7adfd81de0cf",
            "dc0658e22ae9439da4d8d8ff0a676848",
            "d3ab538383c54250be88da9586da8213",
            "4bfb770e8d2c48269507617e897615b1",
            "5ec682c03c8c4d808cfc57194c62d0ff",
            "ffff9bc4ecce4ea08e4059c1cb0720b2",
            "e6e41db7947f4904a707fb94d58b85da",
            "3575bb389f52417a80368251a582b26d"
          ]
        },
        "id": "pvS5_LIvgWQw",
        "outputId": "21df44ba-5f72-4253-a216-6bacd8dde57b"
      },
      "outputs": [
        {
          "name": "stderr",
          "output_type": "stream",
          "text": [
            "No CUDA runtime is found, using CUDA_HOME='/usr/local/cuda'\n",
            "/usr/local/lib/python3.11/dist-packages/huggingface_hub/utils/_auth.py:94: UserWarning: \n",
            "The secret `HF_TOKEN` does not exist in your Colab secrets.\n",
            "To authenticate with the Hugging Face Hub, create a token in your settings tab (https://huggingface.co/settings/tokens), set it as secret in your Google Colab and restart your session.\n",
            "You will be able to reuse this secret in all of your notebooks.\n",
            "Please note that authentication is recommended but still optional to access public models or datasets.\n",
            "  warnings.warn(\n"
          ]
        },
        {
          "data": {
            "application/vnd.jupyter.widget-view+json": {
              "model_id": "07bb16cf3341406daf566883ad75a704",
              "version_major": 2,
              "version_minor": 0
            },
            "text/plain": [
              "config.json:   0%|          | 0.00/716 [00:00<?, ?B/s]"
            ]
          },
          "metadata": {},
          "output_type": "display_data"
        },
        {
          "data": {
            "application/vnd.jupyter.widget-view+json": {
              "model_id": "28979bd8802b4780a38c615d508e6466",
              "version_major": 2,
              "version_minor": 0
            },
            "text/plain": [
              "pytorch_model.bin:   0%|          | 0.00/46.7M [00:00<?, ?B/s]"
            ]
          },
          "metadata": {},
          "output_type": "display_data"
        },
        {
          "name": "stderr",
          "output_type": "stream",
          "text": [
            "Some weights of the model checkpoint at twmkn9/albert-base-v2-squad2 were not used when initializing AlbertForQuestionAnswering: ['albert.pooler.bias', 'albert.pooler.weight']\n",
            "- This IS expected if you are initializing AlbertForQuestionAnswering from the checkpoint of a model trained on another task or with another architecture (e.g. initializing a BertForSequenceClassification model from a BertForPreTraining model).\n",
            "- This IS NOT expected if you are initializing AlbertForQuestionAnswering from the checkpoint of a model that you expect to be exactly identical (initializing a BertForSequenceClassification model from a BertForSequenceClassification model).\n"
          ]
        },
        {
          "data": {
            "application/vnd.jupyter.widget-view+json": {
              "model_id": "4724b92ab6734e90bcb252734ae95dd1",
              "version_major": 2,
              "version_minor": 0
            },
            "text/plain": [
              "tokenizer_config.json:   0%|          | 0.00/39.0 [00:00<?, ?B/s]"
            ]
          },
          "metadata": {},
          "output_type": "display_data"
        },
        {
          "data": {
            "application/vnd.jupyter.widget-view+json": {
              "model_id": "1399586cf59049a08cf18a13dda8fb64",
              "version_major": 2,
              "version_minor": 0
            },
            "text/plain": [
              "spiece.model:   0%|          | 0.00/760k [00:00<?, ?B/s]"
            ]
          },
          "metadata": {},
          "output_type": "display_data"
        },
        {
          "data": {
            "application/vnd.jupyter.widget-view+json": {
              "model_id": "dade7e70e2904f769460905e1e3f1ee1",
              "version_major": 2,
              "version_minor": 0
            },
            "text/plain": [
              "special_tokens_map.json:   0%|          | 0.00/156 [00:00<?, ?B/s]"
            ]
          },
          "metadata": {},
          "output_type": "display_data"
        },
        {
          "data": {
            "application/vnd.jupyter.widget-view+json": {
              "model_id": "02c6ef3908d647a89086537369736587",
              "version_major": 2,
              "version_minor": 0
            },
            "text/plain": [
              "model.safetensors:   0%|          | 0.00/46.7M [00:00<?, ?B/s]"
            ]
          },
          "metadata": {},
          "output_type": "display_data"
        },
        {
          "name": "stderr",
          "output_type": "stream",
          "text": [
            "`loss_type=None` was set in the config but it is unrecognised.Using the default loss: `ForCausalLMLoss`.\n"
          ]
        },
        {
          "data": {
            "text/plain": [
              "('onnx_models/twmkn9/albert-base-v2-squad2/tokenizer_config.json',\n",
              " 'onnx_models/twmkn9/albert-base-v2-squad2/special_tokens_map.json',\n",
              " 'onnx_models/twmkn9/albert-base-v2-squad2/spiece.model',\n",
              " 'onnx_models/twmkn9/albert-base-v2-squad2/added_tokens.json',\n",
              " 'onnx_models/twmkn9/albert-base-v2-squad2/tokenizer.json')"
            ]
          },
          "execution_count": 2,
          "metadata": {},
          "output_type": "execute_result"
        }
      ],
      "source": [
        "from transformers import AutoTokenizer\n",
        "from optimum.intel import OVModelForQuestionAnswering\n",
        "\n",
        "MODEL_NAME = \"twmkn9/albert-base-v2-squad2\"\n",
        "EXPORT_PATH = f\"ov_models/{MODEL_NAME}\"\n",
        "\n",
        "ort_model = OVModelForQuestionAnswering.from_pretrained(MODEL_NAME, export=True)\n",
        "ort_model.save_pretrained(EXPORT_PATH)\n",
        "\n",
        "tokenizer = AutoTokenizer.from_pretrained(MODEL_NAME)\n",
        "tokenizer.save_pretrained(EXPORT_PATH)"
      ]
    },
    {
      "cell_type": "markdown",
      "metadata": {
        "id": "BAs-wq_wVgSn"
      },
      "source": [
        "Let's have a look inside these two directories and see what we are dealing with:"
      ]
    },
    {
      "cell_type": "code",
      "execution_count": 3,
      "metadata": {
        "colab": {
          "base_uri": "https://localhost:8080/"
        },
        "id": "VKQESNCsVgSn",
        "outputId": "c38bbb01-ff70-4073-b0d7-d4bf13c0abc5"
      },
      "outputs": [
        {
          "name": "stdout",
          "output_type": "stream",
          "text": [
            "total 46676\n",
            "-rw-r--r-- 1 root root      844 Jun 18 00:51 config.json\n",
            "-rw-r--r-- 1 root root 44382400 Jun 18 00:51 openvino_model.bin\n",
            "-rw-r--r-- 1 root root   360305 Jun 18 00:51 openvino_model.xml\n",
            "-rw-r--r-- 1 root root      286 Jun 18 00:51 special_tokens_map.json\n",
            "-rw-r--r-- 1 root root   760289 Jun 18 00:51 spiece.model\n",
            "-rw-r--r-- 1 root root     2616 Jun 18 00:51 tokenizer_config.json\n",
            "-rw-r--r-- 1 root root  2275547 Jun 18 00:51 tokenizer.json\n"
          ]
        }
      ],
      "source": [
        "!ls -l {EXPORT_PATH}"
      ]
    },
    {
      "cell_type": "markdown",
      "metadata": {
        "id": "iOM2dA5mgkz2"
      },
      "source": [
        "- As you can see, we need to move `spiece.model` from the tokenizer to `assets` folder which Spark NLP will look for"
      ]
    },
    {
      "cell_type": "code",
      "execution_count": 4,
      "metadata": {
        "id": "tgdLPwmAgeT-"
      },
      "outputs": [],
      "source": [
        "!mkdir {EXPORT_PATH}/assets && mv {EXPORT_PATH}/spiece.model  {EXPORT_PATH}/assets"
      ]
    },
    {
      "cell_type": "code",
      "execution_count": 5,
      "metadata": {
        "colab": {
          "base_uri": "https://localhost:8080/"
        },
        "id": "daFkGhN-VgSn",
        "outputId": "764d0c3f-7f5c-46ee-91e2-718dd29b0749"
      },
      "outputs": [
        {
          "name": "stdout",
          "output_type": "stream",
          "text": [
            "total 744\n",
            "-rw-r--r-- 1 root root 760289 Jun 18 00:51 spiece.model\n"
          ]
        }
      ],
      "source": [
        "!ls -l {EXPORT_PATH}/assets"
      ]
    },
    {
      "cell_type": "markdown",
      "metadata": {
        "id": "iFGBScd4ghoY"
      },
      "source": [
        "Voila! We have our `spiece.model` inside assets directory"
      ]
    },
    {
      "cell_type": "markdown",
      "metadata": {
        "id": "I1eoSEozTDmy"
      },
      "source": [
        "## Import and Save AlbertForQuestionAnswering in Spark NLP\n"
      ]
    },
    {
      "cell_type": "markdown",
      "metadata": {
        "id": "EDy7wsR4TDmy"
      },
      "source": [
        "- Install and set up Spark NLP in Google Colab\n",
        "- This example uses specific versions of `pyspark` and `spark-nlp` that have been tested with the transformer model to ensure everything runs smoothly."
      ]
    },
    {
      "cell_type": "code",
      "execution_count": 6,
      "metadata": {
        "colab": {
          "base_uri": "https://localhost:8080/"
        },
        "id": "kHacSj_sTDmy",
        "outputId": "25e05a47-5a22-447e-ac59-0e1b179ad9ca"
      },
      "outputs": [
        {
          "name": "stdout",
          "output_type": "stream",
          "text": [
            "\u001b[2K     \u001b[90m━━━━━━━━━━━━━━━━━━━━━━━━━━━━━━━━━━━━━━━\u001b[0m \u001b[32m317.3/317.3 MB\u001b[0m \u001b[31m3.6 MB/s\u001b[0m eta \u001b[36m0:00:00\u001b[0m\n",
            "\u001b[?25h  Preparing metadata (setup.py) ... \u001b[?25l\u001b[?25hdone\n",
            "\u001b[2K   \u001b[90m━━━━━━━━━━━━━━━━━━━━━━━━━━━━━━━━━━━━━━━━\u001b[0m \u001b[32m635.7/635.7 kB\u001b[0m \u001b[31m32.6 MB/s\u001b[0m eta \u001b[36m0:00:00\u001b[0m\n",
            "\u001b[?25h  Building wheel for pyspark (setup.py) ... \u001b[?25l\u001b[?25hdone\n"
          ]
        }
      ],
      "source": [
        "!pip install -q pyspark==3.5.4 spark-nlp==5.5.3"
      ]
    },
    {
      "cell_type": "markdown",
      "metadata": {
        "id": "m1p71S6gTDmy"
      },
      "source": [
        "Let's start Spark with Spark NLP included via our simple `start()` function"
      ]
    },
    {
      "cell_type": "code",
      "execution_count": 7,
      "metadata": {
        "colab": {
          "base_uri": "https://localhost:8080/"
        },
        "id": "jAYgBkotTDmy",
        "outputId": "5d385a8c-15f0-4461-f639-7e0d18e8b7dd"
      },
      "outputs": [
        {
          "name": "stdout",
          "output_type": "stream",
          "text": [
            "Spark NLP version:  5.5.3\n",
            "Apache Spark version:  3.5.4\n"
          ]
        }
      ],
      "source": [
        "import sparknlp\n",
        "\n",
        "spark = sparknlp.start()\n",
        "\n",
        "print(\"Spark NLP version: \", sparknlp.version())\n",
        "print(\"Apache Spark version: \", spark.version)"
      ]
    },
    {
      "cell_type": "markdown",
      "metadata": {
        "id": "R0auYU6tTDmy"
      },
      "source": [
        "- Let's use `loadSavedModel` functon in `AlbertForQuestionAnswering` which allows us to load TensorFlow model in SavedModel format\n",
        "- Most params can be set later when you are loading this model in `AlbertForQuestionAnswering` in runtime like `setMaxSentenceLength`, so don't worry what you are setting them now\n",
        "- `loadSavedModel` accepts two params, first is the path to the TF SavedModel. The second is the SparkSession that is `spark` variable we previously started via `sparknlp.start()`\n",
        "- NOTE: `loadSavedModel` accepts local paths in addition to distributed file systems such as `HDFS`, `S3`, `DBFS`, etc. This feature was introduced in Spark NLP 4.2.2 release. Keep in mind the best and recommended way to move/share/reuse Spark NLP models is to use `write.save` so you can use `.load()` from any file systems natively.\n",
        "\n"
      ]
    },
    {
      "cell_type": "code",
      "execution_count": 8,
      "metadata": {
        "id": "v3IEWYNGTDmy"
      },
      "outputs": [],
      "source": [
        "from sparknlp.annotator import AlbertForQuestionAnswering\n",
        "\n",
        "spanClassifier = AlbertForQuestionAnswering.loadSavedModel(\n",
        "     f\"{EXPORT_PATH}\",\n",
        "     spark\n",
        " )\\\n",
        "  .setInputCols([\"document_question\",'document_context'])\\\n",
        "  .setOutputCol(\"answer\")\\\n",
        "  .setCaseSensitive(False)\\\n",
        "  .setMaxSentenceLength(512)"
      ]
    },
    {
      "cell_type": "markdown",
      "metadata": {
        "id": "_MGWhSTYTDmy"
      },
      "source": [
        "- Let's save it on disk so it is easier to be moved around and also be used later via `.load` function"
      ]
    },
    {
      "cell_type": "code",
      "execution_count": 9,
      "metadata": {
        "id": "-DNAFuO1TDmz"
      },
      "outputs": [],
      "source": [
        "spanClassifier.write().overwrite().save(\"./{}_spark_nlp_openvino\".format(MODEL_NAME))"
      ]
    },
    {
      "cell_type": "markdown",
      "metadata": {
        "id": "keScuLD_TDmz"
      },
      "source": [
        "Let's clean up stuff we don't need anymore"
      ]
    },
    {
      "cell_type": "code",
      "execution_count": 10,
      "metadata": {
        "id": "MrV-hpJ0TDmz"
      },
      "outputs": [],
      "source": [
        "!rm -rf {EXPORT_PATH}"
      ]
    },
    {
      "cell_type": "markdown",
      "metadata": {
        "id": "Tm4Ljm1lTDmz"
      },
      "source": [
        "Awesome 😎  !\n",
        "\n",
        "This is your AlbertForQuestionAnswering model from HuggingFace 🤗  loaded and saved by Spark NLP 🚀"
      ]
    },
    {
      "cell_type": "code",
      "execution_count": 11,
      "metadata": {
        "colab": {
          "base_uri": "https://localhost:8080/"
        },
        "id": "6bLWaY5BTDmz",
        "outputId": "e8047eff-41c9-4612-baa8-dc596d8c4f72"
      },
      "outputs": [
        {
          "name": "stdout",
          "output_type": "stream",
          "text": [
            "total 44452\n",
            "-rw-r--r-- 1 root root 44749813 Jun 18 00:53 albert_classification_openvino\n",
            "-rw-r--r-- 1 root root   760289 Jun 18 00:53 albert_spp\n",
            "drwxr-xr-x 2 root root     4096 Jun 18 00:53 metadata\n"
          ]
        }
      ],
      "source": [
        "! ls -l {MODEL_NAME}_spark_nlp_openvino"
      ]
    },
    {
      "cell_type": "markdown",
      "metadata": {
        "id": "3N7D5b2tTDmz"
      },
      "source": [
        "Now let's see how we can use it on other machines, clusters, or any place you wish to use your new and shiny AlbertForQuestionAnswering model in Spark NLP 🚀 pipeline!"
      ]
    },
    {
      "cell_type": "code",
      "execution_count": 12,
      "metadata": {
        "colab": {
          "base_uri": "https://localhost:8080/"
        },
        "id": "bRvgaCW7TDmz",
        "outputId": "7ec41047-37dc-48aa-8e12-4fcc9d37aab9"
      },
      "outputs": [
        {
          "name": "stdout",
          "output_type": "stream",
          "text": [
            "+-------+\n",
            "|result |\n",
            "+-------+\n",
            "|[clara]|\n",
            "+-------+\n",
            "\n"
          ]
        }
      ],
      "source": [
        "from sparknlp.base import MultiDocumentAssembler\n",
        "from sparknlp.annotator import AlbertForQuestionAnswering\n",
        "from pyspark.ml import Pipeline\n",
        "\n",
        "document_assembler = MultiDocumentAssembler()\\\n",
        "    .setInputCols([\"question\", \"context\"])\\\n",
        "    .setOutputCols([\"document_question\", \"document_context\"])\n",
        "\n",
        "spanClassifier_loaded = AlbertForQuestionAnswering.load(f\"./{MODEL_NAME}_spark_nlp_openvino\")\\\n",
        "    .setInputCols([\"document_question\", \"document_context\"])\\\n",
        "    .setOutputCol(\"answer\")\n",
        "\n",
        "pipeline = Pipeline().setStages([\n",
        "    document_assembler,\n",
        "    spanClassifier_loaded\n",
        "])\n",
        "\n",
        "example = spark.createDataFrame([[\n",
        "    \"What's my name?\",\n",
        "    \"My name is Clara and I live in Berkeley.\"\n",
        "]]).toDF(\"question\", \"context\")\n",
        "\n",
        "result = pipeline.fit(example).transform(example)\n",
        "result.select(\"answer.result\").show(1, False)"
      ]
    },
    {
      "cell_type": "markdown",
      "metadata": {
        "id": "jtNpTt78TDmz"
      },
      "source": [
        "That's it! You can now go wild and use hundreds of `AlbertForQuestionAnswering` models from HuggingFace 🤗 in Spark NLP 🚀\n"
      ]
    }
  ],
  "metadata": {
    "colab": {
      "provenance": []
    },
    "kernelspec": {
      "display_name": "Python 3",
      "language": "python",
      "name": "python3"
    },
    "language_info": {
      "codemirror_mode": {
        "name": "ipython",
        "version": 3
      },
      "file_extension": ".py",
      "mimetype": "text/x-python",
      "name": "python",
      "nbconvert_exporter": "python",
      "pygments_lexer": "ipython3",
      "version": "3.10.12"
    }
  },
  "nbformat": 4,
  "nbformat_minor": 0
}
