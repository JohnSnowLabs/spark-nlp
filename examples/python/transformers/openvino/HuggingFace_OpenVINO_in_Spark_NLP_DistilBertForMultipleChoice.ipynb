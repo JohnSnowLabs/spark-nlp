{
 "cells": [
  {
   "cell_type": "markdown",
   "metadata": {
    "id": "_V5XcDCnVgSi"
   },
   "source": [
    "![JohnSnowLabs](https://sparknlp.org/assets/images/logo.png)\n",
    "\n",
    "[![Open In Colab](https://colab.research.google.com/assets/colab-badge.svg)](https://colab.research.google.com/github/JohnSnowLabs/spark-nlp/blob/master/examples/python/transformers/openvino/HuggingFace_OpenVINO_in_Spark_NLP_DistilBertForMultipleChoice.ipynb)\n",
    "\n",
    "# Import OpenVINO DistilBertForMultipleChoice models from HuggingFace 🤗 into Spark NLP 🚀\n",
    "\n",
    "This notebook provides a detailed walkthrough on optimizing and exporting DistilBertForMultipleChoice  models from HuggingFace for use in Spark NLP, leveraging the various tools provided in the [Intel OpenVINO toolkit](https://www.intel.com/content/www/us/en/developer/tools/openvino-toolkit/overview.html) ecosystem.\n",
    "\n",
    "Let's keep in mind a few things before we start 😊\n",
    "\n",
    "- OpenVINO support was introduced in  `Spark NLP 5.4.0`, enabling high performance inference for models. Please make sure you have upgraded to the latest Spark NLP release.\n",
    "- You can import models for DistilBertForMultipleChoice from DistilBertForMultipleChoice  and they have to be in `Multiple Choice` category."
   ]
  },
  {
   "cell_type": "markdown",
   "metadata": {
    "id": "aghasVppVgSk"
   },
   "source": [
    "## 1. Export and Save the HuggingFace model"
   ]
  },
  {
   "cell_type": "markdown",
   "metadata": {
    "id": "be4HsTDMVgSk"
   },
   "source": [
    "- Let's install `transformers` and `openvino` packages with other dependencies. You don't need `openvino` to be installed for Spark NLP, however, we need it to load and save models from HuggingFace.\n",
    "- We lock `transformers` on version `4.48.3`. This doesn't mean it won't work with the future releases, but we wanted you to know which versions have been tested successfully."
   ]
  },
  {
   "cell_type": "code",
   "execution_count": null,
   "metadata": {
    "colab": {
     "base_uri": "https://localhost:8080/"
    },
    "id": "TDapJ_09nqXQ",
    "outputId": "e5412665-9bb3-44b9-85b2-1ce16cd3c1a3"
   },
   "outputs": [],
   "source": [
    "!pip install -q --upgrade transformers[onnx]==4.48.3 optimum-intel openvino"
   ]
  },
  {
   "cell_type": "markdown",
   "metadata": {
    "id": "vI7uz_6hVgSl"
   },
   "source": [
    "[Optimum Intel](https://github.com/huggingface/optimum-intel?tab=readme-ov-file#openvino) is the interface between the Transformers library and the various model optimization and acceleration tools provided by Intel. HuggingFace models loaded with optimum-intel are automatically optimized for OpenVINO, while being compatible with the Transformers API.\n",
    "- Normally, to load a HuggingFace model directly for inference/export, just replace the `AutoModelForXxx` class with the corresponding `OVModelForXxx` class. However, ForMultipleChoice is not yet available so we will use `openvino.convert_model()` after exporting ONNX model\n",
    "- We'll use [irfanamal/bert_multiple_choice](https://huggingface.co/irfanamal/bert_multiple_choice) model from HuggingFace as an example\n",
    "- We also need the `vocab.txt` saved from `AutoTokenizer`. This is the same for every model, these are assets (saved in `/assets`) needed for tokenization inside Spark NLP."
   ]
  },
  {
   "cell_type": "code",
   "execution_count": null,
   "metadata": {
    "colab": {
     "base_uri": "https://localhost:8080/",
     "height": 330,
     "referenced_widgets": [
      "26164ee5e83f49b397fa82e978723591",
      "2cef5830b15a458aac10344618d15959",
      "8edf7071c65e437da0e7979660b662d6",
      "3470a21f3dc74491a27418f93d9544d3",
      "d4972ead051d413eb1947d9d513f6747",
      "9afbeb2061f54f268bc1bc13c54eb5cb",
      "1094aaa00623441cb81723322d9c8d1f",
      "20be71394f2a4896b693c20eb1921258",
      "60e3ab274d734a6683855fb9260484d4",
      "92ca9cca6e3a45f583140fe7175ac8b7",
      "f1d5f3c55e3848ed971df56e3c63ffeb",
      "b49c7ae76275482396f18301e6f82635",
      "e6c21be250024271a56c283e59c7b562",
      "5e940c151e314a80abfce97a34e89c4e",
      "cd20b3544bb34d3192c1a8141acd3517",
      "2cf9b43b667948e4bfd8fea6d2c525dd",
      "df82b14526d143dc96f20a3aff003f9f",
      "188a7fbea0cc4cc09e2253cf361ab2f7",
      "b5c6c128870848f89d39a2273e301198",
      "6c6a17d7b90a476088fef2d12b93396d",
      "ea0f939c86d4496db9ca214f8f4b8cc7",
      "726a64a8f4454a4c88d36134af726e6c",
      "e6507fb2fccb4ef58e33439296f10e93",
      "2d126546d4414244a7e5d99144057e0c",
      "fda83df6e3f141099c4250bf94b9b1d8",
      "bef608e283924356b17a20e0069f8f83",
      "e096b7e8109f4974a68e23f6a54e43aa",
      "8b2eeb08234d493a9a7de2d1273d56fd",
      "a8fc263254cb4cbcb02617512dcfad1f",
      "ed1ec0c2478d46cfa04c6f1683e3e1ee",
      "d1ff01eed27b47e394fff0ccea614aa3",
      "66daa615d9724daba23b9fb4bc7fd3a9",
      "a1d1038f07d746f1b4c46391b0264a24",
      "5675838c9744488596081739d0179c74",
      "7a6baf4251004bed8f57c7e4d83f1a49",
      "2a22fce903b344b8bdb46697c69fd034",
      "d632e00d3dcc42b4ae85fb5d8f65f368",
      "0785d7dd75d349fd97076a51c211719d",
      "858ba885963a4d4db7ed30151b8476d0",
      "9ae43f4313284091b458641f6366dc87",
      "9d10e36487a54c37b81c022b9473366f",
      "6dd0b52461f04611bc0f7a797493cbc3",
      "ed95063a3c9e44518fec1df0969ab69b",
      "bb6814b9c6cb4a01bd8e91c3454f24d2",
      "d1f1084f28e54547b8e7754b61f71c5d",
      "87a7125b371b477b9d4a09b35760de4c",
      "f8df0a0cbdfc4a188cdd40808115465c",
      "eb94b603c4bf493f98e46a28a40415cb",
      "d3ffd03ae8e54f13b94da85976b3b687",
      "ac82d0945af54a54bfaf0fd279989b9e",
      "896d5d47001a45a7b85114317e3d4ffc",
      "ea2bca666d394ac780f255557814fc48",
      "62ded2b33c8140e7b524f8fe1b122191",
      "05aeba52917249ddadcadd01727df802",
      "24469a63c94941fa93571208a9569060",
      "5eed511fc37a4c6faa2fa3004ca186dc",
      "0b296f2e4f534ba0a0493937b1e633e5",
      "d9dd759c880b4cca836940c07a49f3a8",
      "268ba9a03a534c6086ff3eb5ad4411da",
      "02bce0272db14d1cb2711c260de7e65c",
      "596cca5e82df490780a5bd3dd6bcd9ab",
      "a04434e1f0904815b876a48102789cd1",
      "f32232046e7040708b9760348a0a249c",
      "fc0b1f51e5cd47dc98ba7259f552fc1d",
      "c474c57e416044c9b17d32d90b1fdf3d",
      "32007597a32c416eb67b3a1e9d834bfc"
     ]
    },
    "id": "kJxAVIchUuUD",
    "outputId": "e5dfede6-fe5a-4283-d953-5e7d1641c9b1"
   },
   "outputs": [
    {
     "name": "stderr",
     "output_type": "stream",
     "text": [
      "Multiple distributions found for package optimum. Picked distribution: optimum\n",
      "/usr/local/lib/python3.11/dist-packages/huggingface_hub/utils/_auth.py:94: UserWarning: \n",
      "The secret `HF_TOKEN` does not exist in your Colab secrets.\n",
      "To authenticate with the Hugging Face Hub, create a token in your settings tab (https://huggingface.co/settings/tokens), set it as secret in your Google Colab and restart your session.\n",
      "You will be able to reuse this secret in all of your notebooks.\n",
      "Please note that authentication is recommended but still optional to access public models or datasets.\n",
      "  warnings.warn(\n"
     ]
    },
    {
     "data": {
      "application/vnd.jupyter.widget-view+json": {
       "model_id": "26164ee5e83f49b397fa82e978723591",
       "version_major": 2,
       "version_minor": 0
      },
      "text/plain": [
       "config.json:   0%|          | 0.00/574 [00:00<?, ?B/s]"
      ]
     },
     "metadata": {},
     "output_type": "display_data"
    },
    {
     "data": {
      "application/vnd.jupyter.widget-view+json": {
       "model_id": "b49c7ae76275482396f18301e6f82635",
       "version_major": 2,
       "version_minor": 0
      },
      "text/plain": [
       "model.safetensors:   0%|          | 0.00/268M [00:00<?, ?B/s]"
      ]
     },
     "metadata": {},
     "output_type": "display_data"
    },
    {
     "data": {
      "application/vnd.jupyter.widget-view+json": {
       "model_id": "e6507fb2fccb4ef58e33439296f10e93",
       "version_major": 2,
       "version_minor": 0
      },
      "text/plain": [
       "tokenizer_config.json: 0.00B [00:00, ?B/s]"
      ]
     },
     "metadata": {},
     "output_type": "display_data"
    },
    {
     "data": {
      "application/vnd.jupyter.widget-view+json": {
       "model_id": "5675838c9744488596081739d0179c74",
       "version_major": 2,
       "version_minor": 0
      },
      "text/plain": [
       "vocab.txt: 0.00B [00:00, ?B/s]"
      ]
     },
     "metadata": {},
     "output_type": "display_data"
    },
    {
     "data": {
      "application/vnd.jupyter.widget-view+json": {
       "model_id": "d1f1084f28e54547b8e7754b61f71c5d",
       "version_major": 2,
       "version_minor": 0
      },
      "text/plain": [
       "tokenizer.json: 0.00B [00:00, ?B/s]"
      ]
     },
     "metadata": {},
     "output_type": "display_data"
    },
    {
     "data": {
      "application/vnd.jupyter.widget-view+json": {
       "model_id": "5eed511fc37a4c6faa2fa3004ca186dc",
       "version_major": 2,
       "version_minor": 0
      },
      "text/plain": [
       "special_tokens_map.json:   0%|          | 0.00/125 [00:00<?, ?B/s]"
      ]
     },
     "metadata": {},
     "output_type": "display_data"
    }
   ],
   "source": [
    "from optimum.onnxruntime import ORTModelForMultipleChoice\n",
    "\n",
    "MODEL_NAME = \"daze-unlv/distilbert-distilbert-base-uncased\"\n",
    "ONNX_MODEL_PATH = \"onnx_models/distilbert_multiple_choice\"\n",
    "\n",
    "ort_model = ORTModelForMultipleChoice.from_pretrained(MODEL_NAME, export=True)\n",
    "ort_model.save_pretrained(ONNX_MODEL_PATH)"
   ]
  },
  {
   "cell_type": "markdown",
   "metadata": {
    "id": "Zg14TOqxVCFh"
   },
   "source": [
    "Save Tokenizer for OpenVINO"
   ]
  },
  {
   "cell_type": "code",
   "execution_count": null,
   "metadata": {
    "colab": {
     "base_uri": "https://localhost:8080/"
    },
    "id": "qfup7nlRUWgH",
    "outputId": "b5ace880-0ebd-492d-8a96-9f70096f2a85"
   },
   "outputs": [
    {
     "data": {
      "text/plain": [
       "('openvino_models/tokenizer_config.json',\n",
       " 'openvino_models/special_tokens_map.json',\n",
       " 'openvino_models/vocab.txt',\n",
       " 'openvino_models/added_tokens.json')"
      ]
     },
     "execution_count": 3,
     "metadata": {},
     "output_type": "execute_result"
    }
   ],
   "source": [
    "from transformers import DistilBertTokenizer\n",
    "\n",
    "OPENVINO_MODEL_PATH = \"openvino_models\"\n",
    "\n",
    "tokenizer = DistilBertTokenizer.from_pretrained(MODEL_NAME)\n",
    "tokenizer.save_pretrained(OPENVINO_MODEL_PATH)"
   ]
  },
  {
   "cell_type": "markdown",
   "metadata": {
    "id": "1rb5pkelVENJ"
   },
   "source": [
    "Convert ONNX to OpenVINO IR Format"
   ]
  },
  {
   "cell_type": "code",
   "execution_count": 4,
   "metadata": {
    "id": "oNnPRf6ZrRQa"
   },
   "outputs": [],
   "source": [
    "import openvino as ov\n",
    "\n",
    "ov_model = ov.convert_model(f\"{ONNX_MODEL_PATH}/model.onnx\")\n",
    "ov.save_model(ov_model, f\"{OPENVINO_MODEL_PATH}/openvino_model.xml\")"
   ]
  },
  {
   "cell_type": "markdown",
   "metadata": {
    "id": "uATZZj-lVF8-"
   },
   "source": [
    "Organize Assets"
   ]
  },
  {
   "cell_type": "code",
   "execution_count": 5,
   "metadata": {
    "id": "0Rw7Hk2bu3t9"
   },
   "outputs": [],
   "source": [
    "!mkdir -p {OPENVINO_MODEL_PATH}/assets\n",
    "!mv {OPENVINO_MODEL_PATH}/vocab.txt {OPENVINO_MODEL_PATH}/assets/"
   ]
  },
  {
   "cell_type": "markdown",
   "metadata": {
    "id": "1dnTQ5lOoj6Y"
   },
   "source": [
    "## Import and Save DistilBertForMultipleChoice in Spark NLP\n"
   ]
  },
  {
   "cell_type": "markdown",
   "metadata": {
    "id": "sJNgA5Lsoj6Y"
   },
   "source": [
    "- Install and set up Spark NLP in Google Colab\n",
    "- This example uses specific versions of `pyspark` and `spark-nlp` that have been tested with the transformer model to ensure everything runs smoothly."
   ]
  },
  {
   "cell_type": "code",
   "execution_count": 6,
   "metadata": {
    "colab": {
     "base_uri": "https://localhost:8080/"
    },
    "id": "_akaW4XQoj6Y",
    "outputId": "56d9018c-9607-448a-d522-29c29ec6f7f8"
   },
   "outputs": [
    {
     "name": "stdout",
     "output_type": "stream",
     "text": [
      "\u001b[?25l   \u001b[90m━━━━━━━━━━━━━━━━━━━━━━━━━━━━━━━━━━━━━━━━\u001b[0m \u001b[32m0.0/713.0 kB\u001b[0m \u001b[31m?\u001b[0m eta \u001b[36m-:--:--\u001b[0m\r\n",
      "\u001b[2K   \u001b[91m━━━━━━━━━━━━━━━━━━━━━━━━━━━━━━━━━━━━━━━\u001b[0m\u001b[91m╸\u001b[0m \u001b[32m706.6/713.0 kB\u001b[0m \u001b[31m23.0 MB/s\u001b[0m eta \u001b[36m0:00:01\u001b[0m\r\n",
      "\u001b[2K   \u001b[90m━━━━━━━━━━━━━━━━━━━━━━━━━━━━━━━━━━━━━━━━\u001b[0m \u001b[32m713.0/713.0 kB\u001b[0m \u001b[31m14.6 MB/s\u001b[0m eta \u001b[36m0:00:00\u001b[0m\n",
      "\u001b[?25h"
     ]
    }
   ],
   "source": [
    "!pip install -q pyspark spark-nlp"
   ]
  },
  {
   "cell_type": "markdown",
   "metadata": {
    "id": "cPbYCJX3oj6Z"
   },
   "source": [
    "Let's start Spark with Spark NLP included via our simple `start()` function"
   ]
  },
  {
   "cell_type": "code",
   "execution_count": 7,
   "metadata": {
    "colab": {
     "base_uri": "https://localhost:8080/"
    },
    "id": "DgFKwbh1Q5F1",
    "outputId": "3e48b066-a7a1-4522-be8d-382bb2a8374b"
   },
   "outputs": [
    {
     "name": "stdout",
     "output_type": "stream",
     "text": [
      "Spark NLP version:  6.0.3\n",
      "Apache Spark version:  3.5.1\n"
     ]
    }
   ],
   "source": [
    "import sparknlp\n",
    "\n",
    "spark = sparknlp.start()\n",
    "\n",
    "print(\"Spark NLP version: \", sparknlp.version())\n",
    "print(\"Apache Spark version: \", spark.version)"
   ]
  },
  {
   "cell_type": "markdown",
   "metadata": {
    "id": "V4StW27Soj6Z"
   },
   "source": [
    "- Let's use `loadSavedModel` functon in `DistilBertForMultipleChoice` which allows us to load TensorFlow model in SavedModel format\n",
    "- Most params can be set later when you are loading this model in `DistilBertForMultipleChoice` in runtime, so don't worry what you are setting them now\n",
    "- `loadSavedModel` accepts two params, first is the path to the TF SavedModel. The second is the SparkSession that is `spark` variable we previously started via `sparknlp.start()`\n",
    "- NOTE: `loadSavedModel` accepts local paths in addition to distributed file systems such as `HDFS`, `S3`, `DBFS`, etc. This feature was introduced in Spark NLP 4.2.2 release. Keep in mind the best and recommended way to move/share/reuse Spark NLP models is to use `write.save` so you can use `.load()` from any file systems natively.\n"
   ]
  },
  {
   "cell_type": "code",
   "execution_count": 8,
   "metadata": {
    "id": "ynBhuIHYvRsT"
   },
   "outputs": [],
   "source": [
    "from sparknlp.annotator import DistilBertForMultipleChoice\n",
    "\n",
    "distilBertMultpleChoiceClassifier = DistilBertForMultipleChoice.loadSavedModel(\n",
    "     f\"{OPENVINO_MODEL_PATH}\",\n",
    "     spark\n",
    " )\\\n",
    "  .setInputCols([\"document_question\", \"document_context\"])\\\n",
    "  .setOutputCol(\"answer\")"
   ]
  },
  {
   "cell_type": "markdown",
   "metadata": {
    "id": "i43GhTAboj6a"
   },
   "source": [
    "- Let's save it on disk so it is easier to be moved around and also be used later via `.load` function"
   ]
  },
  {
   "cell_type": "code",
   "execution_count": 9,
   "metadata": {
    "id": "R8wNk77eoj6a"
   },
   "outputs": [],
   "source": [
    "distilBertMultpleChoiceClassifier.write().overwrite().save(\"./{}_spark_nlp_openvino\".format(MODEL_NAME))"
   ]
  },
  {
   "cell_type": "markdown",
   "metadata": {
    "id": "x6ouvaGcoj6a"
   },
   "source": [
    "Let's clean up stuff we don't need anymore"
   ]
  },
  {
   "cell_type": "code",
   "execution_count": 10,
   "metadata": {
    "id": "y_tcguNFoj6a"
   },
   "outputs": [],
   "source": [
    "!rm -rf {ONNX_MODEL_PATH}\n",
    "!rm -rf {OPENVINO_MODEL_PATH}"
   ]
  },
  {
   "cell_type": "markdown",
   "metadata": {
    "id": "WA8W1mRvoj6a"
   },
   "source": [
    "Awesome 😎  !\n",
    "\n",
    "This is your`DistilBertForMultipleChoice` model from HuggingFace 🤗  loaded and saved by Spark NLP 🚀"
   ]
  },
  {
   "cell_type": "code",
   "execution_count": 11,
   "metadata": {
    "colab": {
     "base_uri": "https://localhost:8080/"
    },
    "id": "Rmhv_0aDoj6a",
    "outputId": "f2e223af-2c66-42ed-d5ea-761f9a845d34"
   },
   "outputs": [
    {
     "name": "stdout",
     "output_type": "stream",
     "text": [
      "total 131116\n",
      "-rw-r--r-- 1 root root 134250762 Jun 28 07:07 distilbert_mc_classification_openvino\n",
      "drwxr-xr-x 3 root root      4096 Jun 28 07:07 fields\n",
      "drwxr-xr-x 2 root root      4096 Jun 28 07:07 metadata\n"
     ]
    }
   ],
   "source": [
    "! ls -l {MODEL_NAME}_spark_nlp_openvino"
   ]
  },
  {
   "cell_type": "markdown",
   "metadata": {
    "id": "byPNuWVUoj6a"
   },
   "source": [
    "Now let's see how we can use it on other machines, clusters, or any place you wish to use your new and shiny `DistilBertForMultipleChoice` model 😊"
   ]
  },
  {
   "cell_type": "code",
   "execution_count": 12,
   "metadata": {
    "colab": {
     "base_uri": "https://localhost:8080/"
    },
    "id": "yA_7rFpBwFJ-",
    "outputId": "b518607c-435b-4065-b4d0-481ef2353f83"
   },
   "outputs": [
    {
     "name": "stdout",
     "output_type": "stream",
     "text": [
      "+------------------------------------------------------------------------------------------+------------------------------------------------------------------------+\n",
      "|question                                                                                  |choices                                                                 |\n",
      "+------------------------------------------------------------------------------------------+------------------------------------------------------------------------+\n",
      "|In Italy, pizza served in formal settings, such as at a restaurant, is presented unsliced.|It is eaten with a fork and a knife, It is eaten while held in the hand.|\n",
      "|The Eiffel Tower is located in which country?                                             |Germany, France, Italy                                                  |\n",
      "|Which animal is known as the king of the jungle?                                          |Lion, Elephant, Tiger, Leopard                                          |\n",
      "|Water boils at what temperature?                                                          |90°C, 120°C, 100°C                                                      |\n",
      "|Which planet is known as the Red Planet?                                                  |Jupiter, Mars, Venus                                                    |\n",
      "|Which language is primarily spoken in Brazil?                                             |Spanish, Portuguese, English                                            |\n",
      "|The Great Wall of China was built to protect against invasions from which group?          |The Greeks, The Romans, The Mongols, The Persians                       |\n",
      "|Which chemical element has the symbol 'O'?                                                |Oxygenm, Osmium, Ozone                                                  |\n",
      "|Which continent is the Sahara Desert located in?                                          |Asia, Africa, South America                                             |\n",
      "|Which artist painted the Mona Lisa?                                                       |Vincent van Gogh, Leonardo da Vinci, Pablo Picasso                      |\n",
      "+------------------------------------------------------------------------------------------+------------------------------------------------------------------------+\n",
      "\n"
     ]
    }
   ],
   "source": [
    "testing_data = spark.createDataFrame([\n",
    "    (\"In Italy, pizza served in formal settings, such as at a restaurant, is presented unsliced.\", \"It is eaten with a fork and a knife, It is eaten while held in the hand.\"),\n",
    "    (\"The Eiffel Tower is located in which country?\", \"Germany, France, Italy\"),\n",
    "    (\"Which animal is known as the king of the jungle?\", \"Lion, Elephant, Tiger, Leopard\"),\n",
    "    (\"Water boils at what temperature?\", \"90°C, 120°C, 100°C\"),\n",
    "    (\"Which planet is known as the Red Planet?\", \"Jupiter, Mars, Venus\"),\n",
    "    (\"Which language is primarily spoken in Brazil?\", \"Spanish, Portuguese, English\"),\n",
    "    (\"The Great Wall of China was built to protect against invasions from which group?\", \"The Greeks, The Romans, The Mongols, The Persians\"),\n",
    "    (\"Which chemical element has the symbol 'O'?\", \"Oxygenm, Osmium, Ozone\"),\n",
    "    (\"Which continent is the Sahara Desert located in?\", \"Asia, Africa, South America\"),\n",
    "    (\"Which artist painted the Mona Lisa?\", \"Vincent van Gogh, Leonardo da Vinci, Pablo Picasso\")\n",
    "], [\"question\", \"choices\"])\n",
    "\n",
    "testing_data.show(truncate=False)"
   ]
  },
  {
   "cell_type": "markdown",
   "metadata": {
    "id": "_pVOjQYEoj6b"
   },
   "source": [
    "This is how you can use your loaded classifier model in Spark NLP 🚀 pipeline:"
   ]
  },
  {
   "cell_type": "code",
   "execution_count": 13,
   "metadata": {
    "colab": {
     "base_uri": "https://localhost:8080/"
    },
    "id": "P9AYiYtPoj6b",
    "outputId": "1be7ed35-b4b0-4ef2-e4bf-b4e471937fae"
   },
   "outputs": [
    {
     "name": "stdout",
     "output_type": "stream",
     "text": [
      "+------------------------------------------------------------------------------------------+------------------------------------------------------------------------+-----------------------------------+\n",
      "|question                                                                                  |choices                                                                 |predicted_answer                   |\n",
      "+------------------------------------------------------------------------------------------+------------------------------------------------------------------------+-----------------------------------+\n",
      "|In Italy, pizza served in formal settings, such as at a restaurant, is presented unsliced.|It is eaten with a fork and a knife, It is eaten while held in the hand.|It is eaten with a fork and a knife|\n",
      "|The Eiffel Tower is located in which country?                                             |Germany, France, Italy                                                  |Germany                            |\n",
      "|Which animal is known as the king of the jungle?                                          |Lion, Elephant, Tiger, Leopard                                          | Tiger                             |\n",
      "|Water boils at what temperature?                                                          |90°C, 120°C, 100°C                                                      |90°C                               |\n",
      "|Which planet is known as the Red Planet?                                                  |Jupiter, Mars, Venus                                                    |Jupiter                            |\n",
      "|Which language is primarily spoken in Brazil?                                             |Spanish, Portuguese, English                                            | English                           |\n",
      "|The Great Wall of China was built to protect against invasions from which group?          |The Greeks, The Romans, The Mongols, The Persians                       | The Mongols                       |\n",
      "|Which chemical element has the symbol 'O'?                                                |Oxygenm, Osmium, Ozone                                                  | Osmium                            |\n",
      "|Which continent is the Sahara Desert located in?                                          |Asia, Africa, South America                                             | South America                     |\n",
      "|Which artist painted the Mona Lisa?                                                       |Vincent van Gogh, Leonardo da Vinci, Pablo Picasso                      | Pablo Picasso                     |\n",
      "+------------------------------------------------------------------------------------------+------------------------------------------------------------------------+-----------------------------------+\n",
      "\n"
     ]
    }
   ],
   "source": [
    "from sparknlp.base import MultiDocumentAssembler\n",
    "from sparknlp.annotator import DistilBertForMultipleChoice\n",
    "from pyspark.ml import Pipeline\n",
    "\n",
    "assembler = MultiDocumentAssembler()\\\n",
    "    .setInputCols([\"question\", \"choices\"])\\\n",
    "    .setOutputCols([\"document_question\", \"document_choices\"])\n",
    "\n",
    "distilbert_model = DistilBertForMultipleChoice()\\\n",
    "    .load(f\"{MODEL_NAME}_spark_nlp_openvino\")\\\n",
    "    .setInputCols([\"document_question\", \"document_choices\"])\\\n",
    "    .setOutputCol(\"answer\")\\\n",
    "    .setBatchSize(4)\n",
    "\n",
    "pipeline = Pipeline(stages=[\n",
    "    assembler,\n",
    "    distilbert_model\n",
    "])\n",
    "\n",
    "model = pipeline.fit(testing_data)\n",
    "result = model.transform(testing_data)\n",
    "\n",
    "result.selectExpr(\"question\", \"choices\", \"answer.result[0] as predicted_answer\").show(truncate=False)"
   ]
  },
  {
   "cell_type": "markdown",
   "metadata": {
    "id": "lpxiq1igoj6c"
   },
   "source": [
    "That's it! You can now go wild and use hundreds of `DistilBertForMultipleChoice` models from HuggingFace 🤗 in Spark NLP 🚀\n"
   ]
  }
 ],
 "metadata": {
  "accelerator": "GPU",
  "colab": {
   "gpuType": "T4",
   "machine_shape": "hm",
   "provenance": []
  },
  "kernelspec": {
   "display_name": "Python 3 (ipykernel)",
   "language": "python",
   "name": "python3"
  },
  "language_info": {
   "codemirror_mode": {
    "name": "ipython",
    "version": 3
   },
   "file_extension": ".py",
   "mimetype": "text/x-python",
   "name": "python",
   "nbconvert_exporter": "python",
   "pygments_lexer": "ipython3",
   "version": "3.10.12"
  }
 },
 "nbformat": 4,
 "nbformat_minor": 0
}
