{
 "cells": [
  {
   "cell_type": "markdown",
   "metadata": {
    "id": "_V5XcDCnVgSi"
   },
   "source": [
    "![JohnSnowLabs](https://sparknlp.org/assets/images/logo.png)\n",
    "\n",
    "[![Open In Colab](https://colab.research.google.com/assets/colab-badge.svg)](https://colab.research.google.com/github/JohnSnowLabs/spark-nlp/blob/master/examples/python/transformers/openvino/HuggingFace_OpenVINO_in_Spark_NLP_XlmRoBertaForSequenceClassification.ipynb)\n",
    "\n",
    "# Import OpenVINO XlmRoBertaForSequenceClassification models from HuggingFace 🤗 into Spark NLP 🚀\n",
    "\n",
    "This notebook provides a detailed walkthrough on optimizing and exporting XlmRoBertaForSequenceClassification models from HuggingFace for use in Spark NLP, leveraging the various tools provided in the [Intel OpenVINO toolkit](https://www.intel.com/content/www/us/en/developer/tools/openvino-toolkit/overview.html) ecosystem.\n",
    "\n",
    "Let's keep in mind a few things before we start 😊\n",
    "\n",
    "- OpenVINO support was introduced in  `Spark NLP 5.4.0`, enabling high performance inference for models. Please make sure you have upgraded to the latest Spark NLP release.\n",
    "- You can import models for XlmRoBertaForSequenceClassification from XlmRoBertaForSequenceClassification   and they have to be in `Text Classification` category."
   ]
  },
  {
   "cell_type": "markdown",
   "metadata": {
    "id": "aghasVppVgSk"
   },
   "source": [
    "## 1. Export and Save the HuggingFace model"
   ]
  },
  {
   "cell_type": "markdown",
   "metadata": {
    "id": "be4HsTDMVgSk"
   },
   "source": [
    "- Let's install `transformers` and `openvino` packages with other dependencies. You don't need `openvino` to be installed for Spark NLP, however, we need it to load and save models from HuggingFace.\n",
    "- We lock `transformers` on version `4.48.3`. This doesn't mean it won't work with the future releases, but we wanted you to know which versions have been tested successfully."
   ]
  },
  {
   "cell_type": "code",
   "execution_count": null,
   "metadata": {
    "colab": {
     "base_uri": "https://localhost:8080/"
    },
    "id": "-7L-2ZWUVgSl",
    "outputId": "6d95603b-58b6-414c-d7f1-708180f278d1"
   },
   "outputs": [],
   "source": [
    "!pip install -q --upgrade transformers==4.48.3 optimum[openvino]"
   ]
  },
  {
   "cell_type": "markdown",
   "metadata": {
    "id": "vI7uz_6hVgSl"
   },
   "source": [
    "[Optimum Intel](https://github.com/huggingface/optimum-intel?tab=readme-ov-file#openvino) is the interface between the Transformers library and the various model optimization and acceleration tools provided by Intel. HuggingFace models loaded with optimum-intel are automatically optimized for OpenVINO, while being compatible with the Transformers API.\n",
    "- To load a HuggingFace model directly for inference/export, just replace the `AutoModelForXxx` class with the corresponding `OVModelForXxx` class. We can use this to import and export OpenVINO models with `from_pretrained` and `save_pretrained`.\n",
    "- By setting `export=True`, the source model is converted to OpenVINO IR format on the fly.\n",
    "- We'll use [papluca/xlm-roberta-base-language-detection](https://huggingface.co/papluca/xlm-roberta-base-language-detection) model from HuggingFace as an example and load it as a `OVModelForSequenceClassification`, representing an OpenVINO model.\n",
    "- In addition to the OVModelForSequenceClassification model, we also need to save the `AutoTokenizer`. This is the same for every model, these are assets (saved in `/assets`) needed for tokenization inside Spark NLP."
   ]
  },
  {
   "cell_type": "code",
   "execution_count": 2,
   "metadata": {
    "colab": {
     "base_uri": "https://localhost:8080/",
     "height": 454,
     "referenced_widgets": [
      "4b648b1fc816411c97c57614e7c17dec",
      "72e6175e67d348348629656a132b0776",
      "e212dd3f05694eb28db38e3c0125e1b9",
      "382edd7dcd7c4252b15f8306d2df4e14",
      "43eb3bfcf09d4b0380ea84a1fd9d68fb",
      "121093905194478bb107c5ab0d716f5c",
      "a88971853e564ea28f7fc59f01b968f4",
      "2f7843656e4345ca933a55739cc06fc3",
      "93c057bb02844af1ac554fc1d85d5596",
      "47fc90e04e7846a0a880e8a4fb971fa8",
      "c5ddc149ed7942b296b79b124acbe175",
      "5d61ccac14c248feaf474a6ae0ca0d54",
      "1aa81b63610942a592586cd5ff7e20d4",
      "f9e9069de96d469ca2057681c77fc3e1",
      "a33a0fcc8649481581c6038c974703ef",
      "82926cdfe5a1477db7d6d27cef763a36",
      "bdfa105c4bf4485299feff55a1f77fbc",
      "cb4abe1e9751444284ab2b3a42c185cb",
      "cf1ec2fa17d64f2c85e53ff2a56b2b53",
      "00df2e98a51943ff84453fa56eccb37e",
      "4aad2e82ffeb4ebebca5f592c3517538",
      "cb081929bf8c410fb74b563d1f0300cf",
      "343be072785a4a958fe958180867881a",
      "3226e55c89224c65a4e983685c716639",
      "a777a430401e4053b2387827979fb458",
      "623a93800ef9498689ee907cee51d8b6",
      "ee0adfdaa62849af8b1c293b3557545f",
      "aba863f5f81749bfac96a27a1e29de29",
      "43f6b7c39b684d4c8439c848ba497d3d",
      "51dce52952db49d5825828303f1698d2",
      "5a96d73f5dc74c21b9256d30dce6c15d",
      "aaf3e794dc39471595a0b2d6d3872c70",
      "f6f848bfc54f47a9ad58b37611a4ab1c",
      "ac68660080aa4c5aa3771f630b17749e",
      "5f31ec58fa73402191cfc65e8e95e485",
      "509e12a598514cb385e820d2c8b3e8a8",
      "30d285e0ec644c82b5173fb1ae2441e8",
      "cf92a2f6463c4f188963299dcbb0af67",
      "7deeb82e3da74ed9ad99aa9d622d2426",
      "2a30844602d448d7be88c07553c4cae4",
      "18102c0cb308435cb32234d605f16dc3",
      "37f6056e01954195821fe756e649b776",
      "f2ebf0a4301747aa94953ecd984fbdf4",
      "ce6d829703644dc391ebc5861c5d7bb6",
      "c06f42f58a104696aaa3c93f3e0fc044",
      "cfeaeca1cdd3418bbed73cde7613192c",
      "9621a460fbe244f19267955460fbad6d",
      "6d52e2a283ad4c188cc9b65da1499e49",
      "71a28ca0a5c940e183dea2b22c5fa6ea",
      "e9dd5c42fbb44ed3a8e056725a2cb64b",
      "e6c5c24a261c42a3875886d1032cb051",
      "741924b891e843f28f0daa96504c1841",
      "718e19158e4f48729e467083122a4aaa",
      "44f55d34e32446d488e47310966ea31d",
      "53fc8a02bd774406a3d38902873d5593",
      "0861d04a3bea4ae991c43ae6e06693ab",
      "5e498e2cdac443918839c1532762ca63",
      "2c92909610234106bcfff29294442cba",
      "921b476808f84e898c0538b7044dd5d6",
      "919cca83ab4d494a81d14a4d9fd3d6d6",
      "193278871c5c4621b0e0fd6d025cbcb1",
      "c6225694481240159872abcd92e5ed13",
      "5178030ab46342648c4b12822890823c",
      "49f693fe47f743b193e08d16a6ac7ccb",
      "27cf55eb64174b1fba881a303e9a148d",
      "26621e6b9fab40b1be9c042aeb5c0db1"
     ]
    },
    "id": "TKOJvxHdxMWE",
    "outputId": "0cb7dd8e-ff93-444d-8127-ffc0731fc8b0"
   },
   "outputs": [
    {
     "name": "stderr",
     "output_type": "stream",
     "text": [
      "No CUDA runtime is found, using CUDA_HOME='/usr/local/cuda'\n",
      "Multiple distributions found for package optimum. Picked distribution: optimum\n",
      "/usr/local/lib/python3.11/dist-packages/huggingface_hub/utils/_auth.py:94: UserWarning: \n",
      "The secret `HF_TOKEN` does not exist in your Colab secrets.\n",
      "To authenticate with the Hugging Face Hub, create a token in your settings tab (https://huggingface.co/settings/tokens), set it as secret in your Google Colab and restart your session.\n",
      "You will be able to reuse this secret in all of your notebooks.\n",
      "Please note that authentication is recommended but still optional to access public models or datasets.\n",
      "  warnings.warn(\n"
     ]
    },
    {
     "data": {
      "application/vnd.jupyter.widget-view+json": {
       "model_id": "4b648b1fc816411c97c57614e7c17dec",
       "version_major": 2,
       "version_minor": 0
      },
      "text/plain": [
       "config.json: 0.00B [00:00, ?B/s]"
      ]
     },
     "metadata": {},
     "output_type": "display_data"
    },
    {
     "data": {
      "application/vnd.jupyter.widget-view+json": {
       "model_id": "5d61ccac14c248feaf474a6ae0ca0d54",
       "version_major": 2,
       "version_minor": 0
      },
      "text/plain": [
       "model.safetensors:   0%|          | 0.00/1.11G [00:00<?, ?B/s]"
      ]
     },
     "metadata": {},
     "output_type": "display_data"
    },
    {
     "data": {
      "application/vnd.jupyter.widget-view+json": {
       "model_id": "343be072785a4a958fe958180867881a",
       "version_major": 2,
       "version_minor": 0
      },
      "text/plain": [
       "tokenizer_config.json:   0%|          | 0.00/502 [00:00<?, ?B/s]"
      ]
     },
     "metadata": {},
     "output_type": "display_data"
    },
    {
     "data": {
      "application/vnd.jupyter.widget-view+json": {
       "model_id": "ac68660080aa4c5aa3771f630b17749e",
       "version_major": 2,
       "version_minor": 0
      },
      "text/plain": [
       "sentencepiece.bpe.model:   0%|          | 0.00/5.07M [00:00<?, ?B/s]"
      ]
     },
     "metadata": {},
     "output_type": "display_data"
    },
    {
     "data": {
      "application/vnd.jupyter.widget-view+json": {
       "model_id": "c06f42f58a104696aaa3c93f3e0fc044",
       "version_major": 2,
       "version_minor": 0
      },
      "text/plain": [
       "tokenizer.json: 0.00B [00:00, ?B/s]"
      ]
     },
     "metadata": {},
     "output_type": "display_data"
    },
    {
     "data": {
      "application/vnd.jupyter.widget-view+json": {
       "model_id": "0861d04a3bea4ae991c43ae6e06693ab",
       "version_major": 2,
       "version_minor": 0
      },
      "text/plain": [
       "special_tokens_map.json:   0%|          | 0.00/239 [00:00<?, ?B/s]"
      ]
     },
     "metadata": {},
     "output_type": "display_data"
    },
    {
     "name": "stderr",
     "output_type": "stream",
     "text": [
      "`loss_type=None` was set in the config but it is unrecognised.Using the default loss: `ForCausalLMLoss`.\n"
     ]
    },
    {
     "data": {
      "text/plain": [
       "('ov_models/papluca/xlm-roberta-base-language-detection/tokenizer_config.json',\n",
       " 'ov_models/papluca/xlm-roberta-base-language-detection/special_tokens_map.json',\n",
       " 'ov_models/papluca/xlm-roberta-base-language-detection/sentencepiece.bpe.model',\n",
       " 'ov_models/papluca/xlm-roberta-base-language-detection/added_tokens.json')"
      ]
     },
     "execution_count": 2,
     "metadata": {},
     "output_type": "execute_result"
    }
   ],
   "source": [
    "from optimum.intel import OVModelForSequenceClassification\n",
    "from transformers import XLMRobertaTokenizer\n",
    "\n",
    "MODEL_NAME = \"papluca/xlm-roberta-base-language-detection\"\n",
    "EXPORT_PATH = f\"ov_models/{MODEL_NAME}\"\n",
    "\n",
    "ov_model = OVModelForSequenceClassification.from_pretrained(MODEL_NAME, export=True)\n",
    "tokenizer = XLMRobertaTokenizer.from_pretrained(MODEL_NAME)\n",
    "\n",
    "ov_model.save_pretrained(EXPORT_PATH)\n",
    "tokenizer.save_pretrained(EXPORT_PATH)"
   ]
  },
  {
   "cell_type": "markdown",
   "metadata": {
    "id": "UnZ4G1lX4N5w"
   },
   "source": [
    "Let's have a look inside this and see what we are dealing with:"
   ]
  },
  {
   "cell_type": "code",
   "execution_count": 3,
   "metadata": {
    "colab": {
     "base_uri": "https://localhost:8080/"
    },
    "id": "0JBd38754PLd",
    "outputId": "6a687a44-b69f-4d1e-9476-53443f7f3b7f"
   },
   "outputs": [
    {
     "name": "stdout",
     "output_type": "stream",
     "text": [
      "ls: cannot access '{ONNX_MODEL}': No such file or directory\n"
     ]
    }
   ],
   "source": [
    "!ls -l {ONNX_MODEL}"
   ]
  },
  {
   "cell_type": "markdown",
   "metadata": {
    "id": "ZJleNdv54Mdv"
   },
   "source": [
    "- As you can see, we need to move `sentencepiece.bpe.model` from the tokenizer to `assets` folder which Spark NLP will look for\n",
    "- We also need `labels` and their `ids` which is saved inside the model's config. We will save this inside `labels.txt`"
   ]
  },
  {
   "cell_type": "code",
   "execution_count": 4,
   "metadata": {
    "id": "yCR5jcLU6NCT"
   },
   "outputs": [],
   "source": [
    "!mkdir {EXPORT_PATH}/assets\n",
    "\n",
    "labels = ov_model.config.id2label\n",
    "labels = [value for key,value in sorted(labels.items(), reverse=False)]\n",
    "\n",
    "with open(EXPORT_PATH + '/assets/labels.txt', 'w') as f:\n",
    "    f.write('\\n'.join(labels))\n",
    "\n",
    "!mv {EXPORT_PATH}/sentencepiece.bpe.model  {EXPORT_PATH}/assets"
   ]
  },
  {
   "cell_type": "code",
   "execution_count": 5,
   "metadata": {
    "colab": {
     "base_uri": "https://localhost:8080/"
    },
    "id": "PRSIM73bb3M_",
    "outputId": "abe4326c-3e8f-402c-85dc-4e3bec18910c"
   },
   "outputs": [
    {
     "name": "stdout",
     "output_type": "stream",
     "text": [
      "total 4956\n",
      "-rw-r--r-- 1 root root      59 Jul  3 06:07 labels.txt\n",
      "-rw-r--r-- 1 root root 5069051 Jul  3 06:07 sentencepiece.bpe.model\n"
     ]
    }
   ],
   "source": [
    "!ls -l {EXPORT_PATH}/assets"
   ]
  },
  {
   "cell_type": "markdown",
   "metadata": {
    "id": "uTG8hX9l4TX1"
   },
   "source": [
    "Voila! We have our `sentencepiece.bpe.model` and `labels.txt` inside assets directory"
   ]
  },
  {
   "cell_type": "markdown",
   "metadata": {
    "id": "3G-L_IFxOnlo"
   },
   "source": [
    "## Import and Save RoBertaForSequenceClassification in Spark NLP\n"
   ]
  },
  {
   "cell_type": "markdown",
   "metadata": {
    "id": "gBbbLRo3Onlo"
   },
   "source": [
    "- Install and set up Spark NLP in Google Colab\n",
    "- This example uses specific versions of `pyspark` and `spark-nlp` that have been tested with the transformer model to ensure everything runs smoothly."
   ]
  },
  {
   "cell_type": "code",
   "execution_count": 6,
   "metadata": {
    "colab": {
     "base_uri": "https://localhost:8080/"
    },
    "id": "HpAr_vCfOnlo",
    "outputId": "330d903a-b286-4b33-d873-ab00ef98527f"
   },
   "outputs": [
    {
     "name": "stdout",
     "output_type": "stream",
     "text": [
      "\u001b[2K     \u001b[90m━━━━━━━━━━━━━━━━━━━━━━━━━━━━━━━━━━━━━━━\u001b[0m \u001b[32m317.3/317.3 MB\u001b[0m \u001b[31m1.3 MB/s\u001b[0m eta \u001b[36m0:00:00\u001b[0m\n",
      "\u001b[?25h  Preparing metadata (setup.py) ... \u001b[?25l\u001b[?25hdone\n",
      "\u001b[2K   \u001b[90m━━━━━━━━━━━━━━━━━━━━━━━━━━━━━━━━━━━━━━━━\u001b[0m \u001b[32m635.7/635.7 kB\u001b[0m \u001b[31m35.4 MB/s\u001b[0m eta \u001b[36m0:00:00\u001b[0m\n",
      "\u001b[?25h  Building wheel for pyspark (setup.py) ... \u001b[?25l\u001b[?25hdone\n"
     ]
    }
   ],
   "source": [
    "!pip install -q pyspark==3.5.4 spark-nlp==5.5.3"
   ]
  },
  {
   "cell_type": "markdown",
   "metadata": {
    "id": "g5DbYGydOnlo"
   },
   "source": [
    "Let's start Spark with Spark NLP included via our simple `start()` function"
   ]
  },
  {
   "cell_type": "code",
   "execution_count": 7,
   "metadata": {
    "colab": {
     "base_uri": "https://localhost:8080/"
    },
    "id": "D7vHpxPxOnlo",
    "outputId": "df15a7ca-4d54-4f91-ccaa-e5260cb54902"
   },
   "outputs": [
    {
     "name": "stdout",
     "output_type": "stream",
     "text": [
      "Spark NLP version:  5.5.3\n",
      "Apache Spark version:  3.5.4\n"
     ]
    }
   ],
   "source": [
    "import sparknlp\n",
    "\n",
    "spark = sparknlp.start()\n",
    "\n",
    "print(\"Spark NLP version: \", sparknlp.version())\n",
    "print(\"Apache Spark version: \", spark.version)"
   ]
  },
  {
   "cell_type": "markdown",
   "metadata": {
    "id": "NmSyFea-Onlp"
   },
   "source": [
    "- Let's use `loadSavedModel` functon in `XlmRoBertaForSequenceClassification` which allows us to load TensorFlow model in SavedModel format\n",
    "- Most params can be set later when you are loading this model in `XlmRoBertaForSequenceClassification` in runtime like `setMaxSentenceLength`, so don't worry what you are setting them now\n",
    "- `loadSavedModel` accepts two params, first is the path to the TF SavedModel. The second is the SparkSession that is `spark` variable we previously started via `sparknlp.start()`\n",
    "- NOTE: `loadSavedModel` accepts local paths in addition to distributed file systems such as `HDFS`, `S3`, `DBFS`, etc. This feature was introduced in Spark NLP 4.2.2 release. Keep in mind the best and recommended way to move/share/reuse Spark NLP models is to use `write.save` so you can use `.load()` from any file systems natively.st and recommended way to move/share/reuse Spark NLP models is to use `write.save` so you can use `.load()` from any file systems natively."
   ]
  },
  {
   "cell_type": "code",
   "execution_count": 8,
   "metadata": {
    "id": "6p3Pem4vOnlp"
   },
   "outputs": [],
   "source": [
    "from sparknlp.annotator import XlmRoBertaForSequenceClassification\n",
    "\n",
    "sequenceClassifier = XlmRoBertaForSequenceClassification.loadSavedModel(\n",
    "     EXPORT_PATH,\n",
    "     spark\n",
    " )\\\n",
    "  .setInputCols([\"document\",'token'])\\\n",
    "  .setOutputCol(\"class\")\\\n",
    "  .setCaseSensitive(True)\\\n",
    "  .setMaxSentenceLength(128)"
   ]
  },
  {
   "cell_type": "markdown",
   "metadata": {
    "id": "EUAWYDOJOnlp"
   },
   "source": [
    "- Let's save it on disk so it is easier to be moved around and also be used later via `.load` function"
   ]
  },
  {
   "cell_type": "code",
   "execution_count": 9,
   "metadata": {
    "id": "jIMXFsj7Onlp"
   },
   "outputs": [],
   "source": [
    "sequenceClassifier.write().overwrite().save(\"./{}_spark_nlp_openvino\".format(EXPORT_PATH))"
   ]
  },
  {
   "cell_type": "markdown",
   "metadata": {
    "id": "NxhPcToxOnlp"
   },
   "source": [
    "Let's clean up stuff we don't need anymore"
   ]
  },
  {
   "cell_type": "code",
   "execution_count": 10,
   "metadata": {
    "id": "-RNzssfiOnlr"
   },
   "outputs": [],
   "source": [
    "!rm -rf {EXPORT_PATH}"
   ]
  },
  {
   "cell_type": "markdown",
   "metadata": {
    "id": "buvDNn6AOnlr"
   },
   "source": [
    "Awesome 😎  !\n",
    "\n",
    "This is your XlmRoBertaForSequenceClassification model from HuggingFace 🤗  loaded and saved by Spark NLP 🚀"
   ]
  },
  {
   "cell_type": "code",
   "execution_count": 11,
   "metadata": {
    "colab": {
     "base_uri": "https://localhost:8080/"
    },
    "id": "DieEtujoOnlr",
    "outputId": "752bec10-5fde-414e-ef4c-789c1e20e209"
   },
   "outputs": [
    {
     "name": "stdout",
     "output_type": "stream",
     "text": [
      "total 1091672\n",
      "drwxr-xr-x 3 root root       4096 Jul  3 06:11 fields\n",
      "drwxr-xr-x 2 root root       4096 Jul  3 06:11 metadata\n",
      "-rw-r--r-- 1 root root 1112788284 Jul  3 06:11 xlm_roberta_classification_openvino\n",
      "-rw-r--r-- 1 root root    5069051 Jul  3 06:11 xlmroberta_spp\n"
     ]
    }
   ],
   "source": [
    "! ls -l {EXPORT_PATH}_spark_nlp_openvino"
   ]
  },
  {
   "cell_type": "markdown",
   "metadata": {
    "id": "JoKp_5wqOnls"
   },
   "source": [
    "Now let's see how we can use it on other machines, clusters, or any place you wish to use your new and shiny RoBertaForSequenceClassification model 😊"
   ]
  },
  {
   "cell_type": "code",
   "execution_count": 12,
   "metadata": {
    "id": "W7SHimCBOnls"
   },
   "outputs": [],
   "source": [
    "sequenceClassifier_loaded = XlmRoBertaForSequenceClassification.load(\"./{}_spark_nlp_openvino\".format(EXPORT_PATH))\\\n",
    "  .setInputCols([\"document\",'token'])\\\n",
    "  .setOutputCol(\"class\")"
   ]
  },
  {
   "cell_type": "markdown",
   "metadata": {
    "id": "cJR6B5O7Onls"
   },
   "source": [
    "You can see what labels were used to train this model via `getClasses` function:"
   ]
  },
  {
   "cell_type": "code",
   "execution_count": 13,
   "metadata": {
    "colab": {
     "base_uri": "https://localhost:8080/"
    },
    "id": "abKF8v_BOnls",
    "outputId": "c73cb3a6-580c-4377-8f0e-25d388528023"
   },
   "outputs": [
    {
     "data": {
      "text/plain": [
       "['ar',\n",
       " 'fr',\n",
       " 'pt',\n",
       " 'el',\n",
       " 'it',\n",
       " 'vi',\n",
       " 'nl',\n",
       " 'bg',\n",
       " 'de',\n",
       " 'ur',\n",
       " 'ru',\n",
       " 'th',\n",
       " 'tr',\n",
       " 'en',\n",
       " 'es',\n",
       " 'hi',\n",
       " 'sw',\n",
       " 'ja',\n",
       " 'zh',\n",
       " 'pl']"
      ]
     },
     "execution_count": 13,
     "metadata": {},
     "output_type": "execute_result"
    }
   ],
   "source": [
    "sequenceClassifier_loaded.getClasses()"
   ]
  },
  {
   "cell_type": "markdown",
   "metadata": {
    "id": "xbcWFXdHOnls"
   },
   "source": [
    "This is how you can use your loaded classifier model in Spark NLP 🚀 pipeline:"
   ]
  },
  {
   "cell_type": "code",
   "execution_count": 15,
   "metadata": {
    "colab": {
     "base_uri": "https://localhost:8080/"
    },
    "id": "oSW_X50sOnls",
    "outputId": "58cca514-042c-4152-f6d5-52499896b507"
   },
   "outputs": [
    {
     "name": "stdout",
     "output_type": "stream",
     "text": [
      "+----------------------------+------+\n",
      "|text                        |result|\n",
      "+----------------------------+------+\n",
      "|Hello, how are you?         |[en]  |\n",
      "|Bonjour, comment ça va?     |[fr]  |\n",
      "|Hola, ¿cómo estás?          |[es]  |\n",
      "|Hallo, wie geht es dir?     |[de]  |\n",
      "|Ciao, come stai?            |[it]  |\n",
      "|こんにちは、お元気ですか？  |[ja]  |\n",
      "|안녕하세요, 어떻게 지내세요?|[ja]  |\n",
      "|Привет, как дела?           |[ru]  |\n",
      "|مرحبا كيف حالك؟             |[ar]  |\n",
      "|हैलो, आप कैसे हैं?          |[hi]  |\n",
      "+----------------------------+------+\n",
      "\n"
     ]
    }
   ],
   "source": [
    "from sparknlp.base import DocumentAssembler\n",
    "from sparknlp.annotator import Tokenizer\n",
    "from pyspark.ml import Pipeline\n",
    "\n",
    "document_assembler = DocumentAssembler() \\\n",
    "    .setInputCol(\"text\") \\\n",
    "    .setOutputCol(\"document\")\n",
    "\n",
    "tokenizer = Tokenizer() \\\n",
    "    .setInputCols([\"document\"]) \\\n",
    "    .setOutputCol(\"token\")\n",
    "\n",
    "pipeline = Pipeline(stages=[\n",
    "    document_assembler,\n",
    "    tokenizer,\n",
    "    sequenceClassifier_loaded\n",
    "])\n",
    "\n",
    "example = spark.createDataFrame([\n",
    "    [\"Hello, how are you?\"],\n",
    "    [\"Bonjour, comment ça va?\"],\n",
    "    [\"Hola, ¿cómo estás?\"],\n",
    "    [\"Hallo, wie geht es dir?\"],\n",
    "    [\"Ciao, come stai?\"],\n",
    "    [\"こんにちは、お元気ですか？\"],\n",
    "    [\"안녕하세요, 어떻게 지내세요?\"],\n",
    "    [\"Привет, как дела?\"],\n",
    "    [\"مرحبا كيف حالك؟\"],\n",
    "    [\"हैलो, आप कैसे हैं?\"]\n",
    "]).toDF(\"text\")\n",
    "\n",
    "result = pipeline.fit(example).transform(example)\n",
    "result.select(\"text\", \"class.result\").show(truncate=False)"
   ]
  },
  {
   "cell_type": "markdown",
   "metadata": {
    "id": "-N0LqmsoOnlt"
   },
   "source": [
    "That's it! You can now go wild and use hundreds of `XlmRoBertaForSequenceClassification` models from HuggingFace 🤗 in Spark NLP 🚀\n"
   ]
  }
 ],
 "metadata": {
  "colab": {
   "provenance": []
  },
  "kernelspec": {
   "display_name": "Python 3",
   "language": "python",
   "name": "python3"
  },
  "language_info": {
   "codemirror_mode": {
    "name": "ipython",
    "version": 3
   },
   "file_extension": ".py",
   "mimetype": "text/x-python",
   "name": "python",
   "nbconvert_exporter": "python",
   "pygments_lexer": "ipython3",
   "version": "3.10.12"
  }
 },
 "nbformat": 4,
 "nbformat_minor": 0
}
