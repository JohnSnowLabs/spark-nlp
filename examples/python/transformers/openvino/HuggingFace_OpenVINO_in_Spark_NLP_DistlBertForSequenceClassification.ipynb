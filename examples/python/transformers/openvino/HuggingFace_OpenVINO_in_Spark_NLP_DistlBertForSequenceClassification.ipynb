{
 "cells": [
  {
   "cell_type": "markdown",
   "metadata": {
    "id": "_V5XcDCnVgSi"
   },
   "source": [
    "![JohnSnowLabs](https://sparknlp.org/assets/images/logo.png)\n",
    "\n",
    "[![Open In Colab](https://colab.research.google.com/assets/colab-badge.svg)](https://colab.research.google.com/github/JohnSnowLabs/spark-nlp/blob/master/examples/python/transformers/openvino/HuggingFace_OpenVINO_in_Spark_NLP_DistlBertForSequenceClassification.ipynb)\n",
    "\n",
    "# Import OpenVINO DistlBertForSequenceClassification   models from HuggingFace 🤗 into Spark NLP 🚀\n",
    "\n",
    "This notebook provides a detailed walkthrough on optimizing and exporting DistlBertForSequenceClassification   models from HuggingFace for use in Spark NLP, leveraging the various tools provided in the [Intel OpenVINO toolkit](https://www.intel.com/content/www/us/en/developer/tools/openvino-toolkit/overview.html) ecosystem.\n",
    "\n",
    "Let's keep in mind a few things before we start 😊\n",
    "\n",
    "- OpenVINO support was introduced in  `Spark NLP 5.4.0`, enabling high performance inference for models. Please make sure you have upgraded to the latest Spark NLP release.\n",
    "- You can import models for DistlBertForSequenceClassification  from DistlBertForSequenceClassification  and they have to be in `Text Classification\n",
    "` category."
   ]
  },
  {
   "cell_type": "markdown",
   "metadata": {
    "id": "aghasVppVgSk"
   },
   "source": [
    "## 1. Export and Save the HuggingFace model"
   ]
  },
  {
   "cell_type": "markdown",
   "metadata": {
    "id": "be4HsTDMVgSk"
   },
   "source": [
    "- Let's install `transformers` and `openvino` packages with other dependencies. You don't need `openvino` to be installed for Spark NLP, however, we need it to load and save models from HuggingFace.\n",
    "- We lock `transformers` on version `4.41.2`. This doesn't mean it won't work with the future releases, but we wanted you to know which versions have been tested successfully."
   ]
  },
  {
   "cell_type": "code",
   "execution_count": null,
   "metadata": {
    "colab": {
     "base_uri": "https://localhost:8080/"
    },
    "id": "dmqVhKDplFQf",
    "outputId": "0eea23d2-896d-4a80-ad91-3123a241bdb0"
   },
   "outputs": [],
   "source": [
    "!pip install -q --upgrade transformers==4.48.3 optimum[openvino]"
   ]
  },
  {
   "cell_type": "markdown",
   "metadata": {
    "id": "vI7uz_6hVgSl"
   },
   "source": [
    "[Optimum Intel](https://github.com/huggingface/optimum-intel?tab=readme-ov-file#openvino) is the interface between the Transformers library and the various model optimization and acceleration tools provided by Intel. HuggingFace models loaded with optimum-intel are automatically optimized for OpenVINO, while being compatible with the Transformers API.\n",
    "- To load a HuggingFace model directly for inference/export, just replace the `AutoModelForXxx` class with the corresponding `OVModelForXxx` class. We can use this to import and export OpenVINO models with `from_pretrained` and `save_pretrained`.\n",
    "- By setting `export=True`, the source model is converted to OpenVINO IR format on the fly.\n",
    "- We'll use [distilbert/distilbert-base-uncased-finetuned-sst-2-english](https://huggingface.co/distilbert/distilbert-base-uncased-finetuned-sst-2-english) model from HuggingFace as an example and load it as a `OVModelForSequenceClassification`, representing an OpenVINO model.\n",
    "- In addition to the OVModelForSequenceClassification model, we also need to save the `AutoTokenizer`. This is the same for every model, these are assets (saved in `/assets`) needed for tokenization inside Spark NLP."
   ]
  },
  {
   "cell_type": "code",
   "execution_count": 2,
   "metadata": {
    "colab": {
     "base_uri": "https://localhost:8080/",
     "height": 371,
     "referenced_widgets": [
      "4ef9046249454b67984a7b8df006ed83",
      "8b6a3badb21b4d81ad790f7eccf35f1b",
      "403a3e57cbeb4062bdabb307a5267fd2",
      "2817c55e0f7f4898b0e1de9ecc8fde14",
      "200d56192bad4da681dd19e56e6883a4",
      "9c09d8dca862420db55bb3903de9204e",
      "8c9a8ecd60114a039b2ce6d9059c07f8",
      "ddf5dd749a684a5cab3580d6a49a9a8b",
      "58bee993e1de49608ab83d03d43bc383",
      "7cba4f0cccfd46ef9a101d4ed592a638",
      "a48024bc2c614bdeae6be1fa0c573c36",
      "93aa940a44a3495da482a7b57cd1c57b",
      "65e5f4d9d2d246f19e48a208c892fdd3",
      "23f9b3270a53473b90fd59b93567de67",
      "cf6b4f504a924a3c99dd6804da147a43",
      "4f9092788c7547bb8aaf1e99bf35a11d",
      "bb7f5cd977a748268b4be93226b92ba9",
      "8e458fb820dd4e898da1ed9c9db30a78",
      "7eb1441c6e874d6298f578cbd3be5b57",
      "cecf21f233404506bf7740f21db40159",
      "63a03e8df58244efaf51d944c0d18081",
      "943ddcb6fad6423c88edc5977252ca22",
      "10da0fdf6a1c43cfa58914728055804a",
      "931d3289ae7e4f50b5929be25706b191",
      "d1d0226213e34101b3055d7eb8733320",
      "150d9041fd8948eabbdf00c01acfbdde",
      "6a29299cc30949e0a22207ac1ada2388",
      "7e35005131a84ac88e59ac665f861b38",
      "f2dbc9939e0f45f4a15499663fbbef15",
      "319e3126484546a6a674e03e41b9b565",
      "0ea085277f664e8cb556c25ed5db6939",
      "61dccd21bc0c49c0a5b3801e396f2cef",
      "e512dd3cd7cb414780be52fc12484c39",
      "8ec196af0fb74b89888ef01b16af2b5b",
      "9ae7f88c4c6a4b84bdc9b224de05da06",
      "4b51b277fa0c4335b40b5a2a958b1523",
      "edce796698484ef3b6d8a55df1af42c1",
      "03b60df906c547a69c0ff0ada3ad706a",
      "2f3100293ced441d86ef3971327b97b1",
      "4bcc24411cf54316b1a1b447e9480386",
      "47451baca20f4ce3aad7db2d27285a65",
      "78b3655257b54e11843e38c8bf30324f",
      "257251669b484edcb2e622b08a1092d3",
      "e2e9c52ff1c04ff89a81ed2ca1125ab9"
     ]
    },
    "id": "qF5Pp3DuVgSm",
    "outputId": "085f52cc-07a6-4ad1-b3e8-bfa9bd597003"
   },
   "outputs": [
    {
     "name": "stderr",
     "output_type": "stream",
     "text": [
      "No CUDA runtime is found, using CUDA_HOME='/usr/local/cuda'\n",
      "/usr/local/lib/python3.11/dist-packages/huggingface_hub/utils/_auth.py:94: UserWarning: \n",
      "The secret `HF_TOKEN` does not exist in your Colab secrets.\n",
      "To authenticate with the Hugging Face Hub, create a token in your settings tab (https://huggingface.co/settings/tokens), set it as secret in your Google Colab and restart your session.\n",
      "You will be able to reuse this secret in all of your notebooks.\n",
      "Please note that authentication is recommended but still optional to access public models or datasets.\n",
      "  warnings.warn(\n"
     ]
    },
    {
     "data": {
      "application/vnd.jupyter.widget-view+json": {
       "model_id": "4ef9046249454b67984a7b8df006ed83",
       "version_major": 2,
       "version_minor": 0
      },
      "text/plain": [
       "config.json:   0%|          | 0.00/629 [00:00<?, ?B/s]"
      ]
     },
     "metadata": {},
     "output_type": "display_data"
    },
    {
     "data": {
      "application/vnd.jupyter.widget-view+json": {
       "model_id": "93aa940a44a3495da482a7b57cd1c57b",
       "version_major": 2,
       "version_minor": 0
      },
      "text/plain": [
       "model.safetensors:   0%|          | 0.00/268M [00:00<?, ?B/s]"
      ]
     },
     "metadata": {},
     "output_type": "display_data"
    },
    {
     "data": {
      "application/vnd.jupyter.widget-view+json": {
       "model_id": "10da0fdf6a1c43cfa58914728055804a",
       "version_major": 2,
       "version_minor": 0
      },
      "text/plain": [
       "tokenizer_config.json:   0%|          | 0.00/48.0 [00:00<?, ?B/s]"
      ]
     },
     "metadata": {},
     "output_type": "display_data"
    },
    {
     "data": {
      "application/vnd.jupyter.widget-view+json": {
       "model_id": "8ec196af0fb74b89888ef01b16af2b5b",
       "version_major": 2,
       "version_minor": 0
      },
      "text/plain": [
       "vocab.txt:   0%|          | 0.00/232k [00:00<?, ?B/s]"
      ]
     },
     "metadata": {},
     "output_type": "display_data"
    },
    {
     "name": "stderr",
     "output_type": "stream",
     "text": [
      "`loss_type=None` was set in the config but it is unrecognised.Using the default loss: `ForCausalLMLoss`.\n"
     ]
    },
    {
     "data": {
      "text/plain": [
       "('ov_models/distilbert/distilbert-base-uncased-finetuned-sst-2-english/tokenizer_config.json',\n",
       " 'ov_models/distilbert/distilbert-base-uncased-finetuned-sst-2-english/special_tokens_map.json',\n",
       " 'ov_models/distilbert/distilbert-base-uncased-finetuned-sst-2-english/vocab.txt',\n",
       " 'ov_models/distilbert/distilbert-base-uncased-finetuned-sst-2-english/added_tokens.json',\n",
       " 'ov_models/distilbert/distilbert-base-uncased-finetuned-sst-2-english/tokenizer.json')"
      ]
     },
     "execution_count": 2,
     "metadata": {},
     "output_type": "execute_result"
    }
   ],
   "source": [
    "from optimum.intel import OVModelForSequenceClassification\n",
    "from transformers import AutoTokenizer\n",
    "\n",
    "MODEL_NAME = \"distilbert/distilbert-base-uncased-finetuned-sst-2-english\"\n",
    "EXPORT_PATH = f\"ov_models/{MODEL_NAME}\"\n",
    "\n",
    "ov_model = OVModelForSequenceClassification.from_pretrained(MODEL_NAME, export=True)\n",
    "tokenizer = AutoTokenizer.from_pretrained(MODEL_NAME)\n",
    "\n",
    "ov_model.save_pretrained(EXPORT_PATH)\n",
    "tokenizer.save_pretrained(EXPORT_PATH)"
   ]
  },
  {
   "cell_type": "markdown",
   "metadata": {
    "id": "0kVrXOUXmoS0"
   },
   "source": [
    "Let's have a look inside these two directories and see what we are dealing with:"
   ]
  },
  {
   "cell_type": "code",
   "execution_count": 3,
   "metadata": {
    "colab": {
     "base_uri": "https://localhost:8080/"
    },
    "id": "3zXFzAjnmqCd",
    "outputId": "04e888e4-381e-4d32-a5cc-2f18b1bc4533"
   },
   "outputs": [
    {
     "name": "stdout",
     "output_type": "stream",
     "text": [
      "total 262684\n",
      "-rw-r--r-- 1 root root       746 Jun 21 22:31 config.json\n",
      "-rw-r--r-- 1 root root 267824264 Jun 21 22:31 openvino_model.bin\n",
      "-rw-r--r-- 1 root root    197980 Jun 21 22:31 openvino_model.xml\n",
      "-rw-r--r-- 1 root root       125 Jun 21 22:31 special_tokens_map.json\n",
      "-rw-r--r-- 1 root root      1278 Jun 21 22:31 tokenizer_config.json\n",
      "-rw-r--r-- 1 root root    711396 Jun 21 22:31 tokenizer.json\n",
      "-rw-r--r-- 1 root root    231508 Jun 21 22:31 vocab.txt\n"
     ]
    }
   ],
   "source": [
    "!ls -l {EXPORT_PATH}"
   ]
  },
  {
   "cell_type": "markdown",
   "metadata": {
    "id": "LCrBaJz_mqSi"
   },
   "source": [
    "- As you can see, we need to move `vocab.txt` to assets folder which Spark NLP will look for\n",
    "- We also need `labels` and their `ids` which is saved inside the model's config. We will save this inside `labels.txt`"
   ]
  },
  {
   "cell_type": "code",
   "execution_count": 4,
   "metadata": {
    "id": "qTEw3QoAmuM3"
   },
   "outputs": [],
   "source": [
    "!mkdir -p {EXPORT_PATH}/assets\n",
    "\n",
    "labels = ov_model.config.id2label\n",
    "labels = [label for _, label in sorted(labels.items())]\n",
    "\n",
    "with open(f\"{EXPORT_PATH}/assets/labels.txt\", \"w\") as f:\n",
    "    f.write(\"\\n\".join(labels))\n",
    "\n",
    "!mv {EXPORT_PATH}/vocab.txt {EXPORT_PATH}/assets/"
   ]
  },
  {
   "cell_type": "code",
   "execution_count": 5,
   "metadata": {
    "colab": {
     "base_uri": "https://localhost:8080/"
    },
    "id": "xnv0oI6Tmugd",
    "outputId": "982f4276-a4bf-4c78-ecbf-82e37a210705"
   },
   "outputs": [
    {
     "name": "stdout",
     "output_type": "stream",
     "text": [
      "ov_models/distilbert/distilbert-base-uncased-finetuned-sst-2-english:\n",
      "total 262460\n",
      "drwxr-xr-x 2 root root      4096 Jun 21 22:31 assets\n",
      "-rw-r--r-- 1 root root       746 Jun 21 22:31 config.json\n",
      "-rw-r--r-- 1 root root 267824264 Jun 21 22:31 openvino_model.bin\n",
      "-rw-r--r-- 1 root root    197980 Jun 21 22:31 openvino_model.xml\n",
      "-rw-r--r-- 1 root root       125 Jun 21 22:31 special_tokens_map.json\n",
      "-rw-r--r-- 1 root root      1278 Jun 21 22:31 tokenizer_config.json\n",
      "-rw-r--r-- 1 root root    711396 Jun 21 22:31 tokenizer.json\n",
      "\n",
      "ov_models/distilbert/distilbert-base-uncased-finetuned-sst-2-english/assets:\n",
      "total 232\n",
      "-rw-r--r-- 1 root root     17 Jun 21 22:31 labels.txt\n",
      "-rw-r--r-- 1 root root 231508 Jun 21 22:31 vocab.txt\n"
     ]
    }
   ],
   "source": [
    "!ls -lR {EXPORT_PATH}"
   ]
  },
  {
   "cell_type": "markdown",
   "metadata": {
    "id": "l0qeMU8cmwIx"
   },
   "source": [
    "Voila! We have our `vocab.txt` and `labels.txt` inside assets directory"
   ]
  },
  {
   "cell_type": "markdown",
   "metadata": {
    "id": "kfqsTHEp_61T"
   },
   "source": [
    "## Import and Save DistilBertForSequenceClassification in Spark NLP\n"
   ]
  },
  {
   "cell_type": "markdown",
   "metadata": {
    "id": "jNy5IwPI_61T"
   },
   "source": [
    "- Install and set up Spark NLP in Google Colab\n",
    "- This example uses specific versions of `pyspark` and `spark-nlp` that have been tested with the transformer model to ensure everything runs smoothly."
   ]
  },
  {
   "cell_type": "code",
   "execution_count": 6,
   "metadata": {
    "colab": {
     "base_uri": "https://localhost:8080/"
    },
    "id": "bYgvZwsj_61T",
    "outputId": "fc77371b-17b8-4e22-85e1-a97671f9e6af"
   },
   "outputs": [
    {
     "name": "stdout",
     "output_type": "stream",
     "text": [
      "\u001b[2K     \u001b[90m━━━━━━━━━━━━━━━━━━━━━━━━━━━━━━━━━━━━━━━\u001b[0m \u001b[32m317.3/317.3 MB\u001b[0m \u001b[31m4.9 MB/s\u001b[0m eta \u001b[36m0:00:00\u001b[0m\n",
      "\u001b[?25h  Preparing metadata (setup.py) ... \u001b[?25l\u001b[?25hdone\n",
      "\u001b[2K   \u001b[90m━━━━━━━━━━━━━━━━━━━━━━━━━━━━━━━━━━━━━━━━\u001b[0m \u001b[32m635.7/635.7 kB\u001b[0m \u001b[31m44.5 MB/s\u001b[0m eta \u001b[36m0:00:00\u001b[0m\n",
      "\u001b[?25h  Building wheel for pyspark (setup.py) ... \u001b[?25l\u001b[?25hdone\n"
     ]
    }
   ],
   "source": [
    "!pip install -q pyspark==3.5.4 spark-nlp==5.5.3"
   ]
  },
  {
   "cell_type": "markdown",
   "metadata": {
    "id": "EphsvXvc_61T"
   },
   "source": [
    "Let's start Spark with Spark NLP included via our simple `start()` function"
   ]
  },
  {
   "cell_type": "code",
   "execution_count": 7,
   "metadata": {
    "colab": {
     "base_uri": "https://localhost:8080/"
    },
    "id": "sxFyMN4f_61T",
    "outputId": "b915184b-4c47-4ebc-cb07-66d8e1eb0cc4"
   },
   "outputs": [
    {
     "name": "stdout",
     "output_type": "stream",
     "text": [
      "Spark NLP version: 5.5.3\n",
      "Apache Spark version: 3.5.4\n"
     ]
    }
   ],
   "source": [
    "import sparknlp\n",
    "\n",
    "spark = sparknlp.start()\n",
    "\n",
    "print(\"Spark NLP version: {}\".format(sparknlp.version()))\n",
    "print(\"Apache Spark version: {}\".format(spark.version))"
   ]
  },
  {
   "cell_type": "markdown",
   "metadata": {
    "id": "akm76Pvt_61T"
   },
   "source": [
    "- Let's use `loadSavedModel` functon in `DistilBertForSequenceClassification` which allows us to load TensorFlow model in SavedModel format\n",
    "- Most params can be set later when you are loading this model in `DistilBertForSequenceClassification` in runtime like `setMaxSentenceLength`, so don't worry what you are setting them now\n",
    "- `loadSavedModel` accepts two params, first is the path to the TF SavedModel. The second is the SparkSession that is `spark` variable we previously started via `sparknlp.start()`\n",
    "- NOTE: `loadSavedModel` accepts local paths in addition to distributed file systems such as `HDFS`, `S3`, `DBFS`, etc. This feature was introduced in Spark NLP 4.2.2 release. Keep in mind the best and recommended way to move/share/reuse Spark NLP models is to use `write.save` so you can use `.load()` from any file systems natively.\n",
    "\n"
   ]
  },
  {
   "cell_type": "code",
   "execution_count": 8,
   "metadata": {
    "id": "chww42Bz_61U"
   },
   "outputs": [],
   "source": [
    "from sparknlp.annotator import DistilBertForSequenceClassification\n",
    "\n",
    "sequenceClassifier = DistilBertForSequenceClassification.loadSavedModel(\n",
    "     EXPORT_PATH,\n",
    "     spark\n",
    " )\\\n",
    "  .setInputCols([\"document\",'token'])\\\n",
    "  .setOutputCol(\"class\")\\\n",
    "  .setCaseSensitive(True)\\\n",
    "  .setMaxSentenceLength(128)"
   ]
  },
  {
   "cell_type": "markdown",
   "metadata": {
    "id": "BXzKhvVS_61U"
   },
   "source": [
    "- Let's save it on disk so it is easier to be moved around and also be used later via `.load` function"
   ]
  },
  {
   "cell_type": "code",
   "execution_count": 9,
   "metadata": {
    "id": "cUSnNW5t_61U"
   },
   "outputs": [],
   "source": [
    "sequenceClassifier.write().overwrite().save(\"./{}_spark_nlp_openvino\".format(EXPORT_PATH))"
   ]
  },
  {
   "cell_type": "markdown",
   "metadata": {
    "id": "3ntQDfwE_61U"
   },
   "source": [
    "Let's clean up stuff we don't need anymore"
   ]
  },
  {
   "cell_type": "code",
   "execution_count": 10,
   "metadata": {
    "id": "pKOWaOcd_61U"
   },
   "outputs": [],
   "source": [
    "!rm -rf {EXPORT_PATH}"
   ]
  },
  {
   "cell_type": "markdown",
   "metadata": {
    "id": "GtqVu3We_61U"
   },
   "source": [
    "Awesome 😎  !\n",
    "\n",
    "This is your AlbertForSequenceClassification model from HuggingFace 🤗  loaded and saved by Spark NLP 🚀"
   ]
  },
  {
   "cell_type": "code",
   "execution_count": 11,
   "metadata": {
    "colab": {
     "base_uri": "https://localhost:8080/"
    },
    "id": "TPetkf1g_61U",
    "outputId": "1791d400-c312-4cdd-8c89-177a0efd300b"
   },
   "outputs": [
    {
     "name": "stdout",
     "output_type": "stream",
     "text": [
      "total 261792\n",
      "-rw-r--r-- 1 root root 268063427 Jun 21 22:33 distilbert_classification_openvino\n",
      "drwxr-xr-x 4 root root      4096 Jun 21 22:33 fields\n",
      "drwxr-xr-x 2 root root      4096 Jun 21 22:33 metadata\n"
     ]
    }
   ],
   "source": [
    "! ls -l {EXPORT_PATH}_spark_nlp_openvino"
   ]
  },
  {
   "cell_type": "markdown",
   "metadata": {
    "id": "R4atRUeU_61U"
   },
   "source": [
    "Now let's see how we can use it on other machines, clusters, or any place you wish to use your new and shiny AlbertForSequenceClassification model 😊"
   ]
  },
  {
   "cell_type": "code",
   "execution_count": 12,
   "metadata": {
    "id": "Fo_xmAxe_61U"
   },
   "outputs": [],
   "source": [
    "sequenceClassifier_loaded = DistilBertForSequenceClassification.load(\"./{}_spark_nlp_openvino\".format(EXPORT_PATH))\\\n",
    "  .setInputCols([\"document\",'token'])\\\n",
    "  .setOutputCol(\"class\")"
   ]
  },
  {
   "cell_type": "markdown",
   "metadata": {
    "id": "2s7Ub04P_61V"
   },
   "source": [
    "You can see what labels were used to train this model via `getClasses` function:"
   ]
  },
  {
   "cell_type": "code",
   "execution_count": 13,
   "metadata": {
    "colab": {
     "base_uri": "https://localhost:8080/"
    },
    "id": "2xLHU54t_61V",
    "outputId": "73c238ef-2972-46ae-b191-aed0e03bfd68"
   },
   "outputs": [
    {
     "data": {
      "text/plain": [
       "['POSITIVE', 'NEGATIVE']"
      ]
     },
     "execution_count": 13,
     "metadata": {},
     "output_type": "execute_result"
    }
   ],
   "source": [
    "sequenceClassifier_loaded.getClasses()"
   ]
  },
  {
   "cell_type": "markdown",
   "metadata": {
    "id": "0TQkuqXn_61V"
   },
   "source": [
    "This is how you can use your loaded classifier model in Spark NLP 🚀 pipeline:"
   ]
  },
  {
   "cell_type": "code",
   "execution_count": 14,
   "metadata": {
    "colab": {
     "base_uri": "https://localhost:8080/"
    },
    "id": "ZHOe8iyU_61W",
    "outputId": "6f340e71-9fcf-4b2e-e214-6769be2a8037"
   },
   "outputs": [
    {
     "name": "stdout",
     "output_type": "stream",
     "text": [
      "+-----------------------------------------------------------------+----------+\n",
      "|text                                                             |result    |\n",
      "+-----------------------------------------------------------------+----------+\n",
      "|I absolutely love this product! It exceeded all my expectations. |[POSITIVE]|\n",
      "|This is the worst experience I've ever had with customer service.|[NEGATIVE]|\n",
      "|I'm so happy with how smoothly everything went.                  |[POSITIVE]|\n",
      "|The food was cold and tasteless. Very disappointed.              |[NEGATIVE]|\n",
      "+-----------------------------------------------------------------+----------+\n",
      "\n"
     ]
    }
   ],
   "source": [
    "from sparknlp.base import DocumentAssembler\n",
    "from sparknlp.annotator import Tokenizer\n",
    "from pyspark.ml import Pipeline\n",
    "\n",
    "document_assembler = DocumentAssembler() \\\n",
    "    .setInputCol('text') \\\n",
    "    .setOutputCol('document')\n",
    "\n",
    "tokenizer = Tokenizer() \\\n",
    "    .setInputCols(['document']) \\\n",
    "    .setOutputCol('token')\n",
    "\n",
    "pipeline = Pipeline(stages=[\n",
    "    document_assembler,\n",
    "    tokenizer,\n",
    "    sequenceClassifier_loaded\n",
    "])\n",
    "\n",
    "example = spark.createDataFrame([\n",
    "    [\"I absolutely love this product! It exceeded all my expectations.\"],\n",
    "    [\"This is the worst experience I've ever had with customer service.\"],\n",
    "    [\"I'm so happy with how smoothly everything went.\"],\n",
    "    [\"The food was cold and tasteless. Very disappointed.\"],\n",
    "]).toDF(\"text\")\n",
    "\n",
    "model = pipeline.fit(example)\n",
    "result = model.transform(example)\n",
    "\n",
    "result.select(\"text\", \"class.result\").show(truncate=False)"
   ]
  },
  {
   "cell_type": "markdown",
   "metadata": {
    "id": "In4II3h2_61W"
   },
   "source": [
    "That's it! You can now go wild and use hundreds of `DistlBertForSequenceClassification` models from HuggingFace 🤗 in Spark NLP 🚀\n"
   ]
  }
 ],
 "metadata": {
  "colab": {
   "provenance": []
  },
  "kernelspec": {
   "display_name": "Python 3",
   "language": "python",
   "name": "python3"
  },
  "language_info": {
   "codemirror_mode": {
    "name": "ipython",
    "version": 3
   },
   "file_extension": ".py",
   "mimetype": "text/x-python",
   "name": "python",
   "nbconvert_exporter": "python",
   "pygments_lexer": "ipython3",
   "version": "3.10.12"
  }
 },
 "nbformat": 4,
 "nbformat_minor": 0
}
