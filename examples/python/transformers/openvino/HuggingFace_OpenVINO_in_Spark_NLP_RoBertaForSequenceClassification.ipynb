{
 "cells": [
  {
   "cell_type": "markdown",
   "metadata": {
    "id": "_V5XcDCnVgSi"
   },
   "source": [
    "![JohnSnowLabs](https://sparknlp.org/assets/images/logo.png)\n",
    "\n",
    "[![Open In Colab](https://colab.research.google.com/assets/colab-badge.svg)](https://colab.research.google.com/github/JohnSnowLabs/spark-nlp/blob/master/examples/python/transformers/openvino/HuggingFace_OpenVINO_in_Spark_NLP_RoBertaForSequenceClassification.ipynb)\n",
    "\n",
    "# Import OpenVINO RoBertaForSequenceClassification models from HuggingFace 🤗 into Spark NLP 🚀\n",
    "\n",
    "This notebook provides a detailed walkthrough on optimizing and exporting RoBertaForSequenceClassification models from HuggingFace for use in Spark NLP, leveraging the various tools provided in the [Intel OpenVINO toolkit](https://www.intel.com/content/www/us/en/developer/tools/openvino-toolkit/overview.html) ecosystem.\n",
    "\n",
    "Let's keep in mind a few things before we start 😊\n",
    "\n",
    "- OpenVINO support was introduced in  `Spark NLP 5.4.0`, enabling high performance inference for models. Please make sure you have upgraded to the latest Spark NLP release.\n",
    "- You can import models for RoBertaForSequenceClassification from RoBertaForSequenceClassification   and they have to be in `Text Classification` category."
   ]
  },
  {
   "cell_type": "markdown",
   "metadata": {
    "id": "aghasVppVgSk"
   },
   "source": [
    "## 1. Export and Save the HuggingFace model"
   ]
  },
  {
   "cell_type": "markdown",
   "metadata": {
    "id": "be4HsTDMVgSk"
   },
   "source": [
    "- Let's install `transformers` and `openvino` packages with other dependencies. You don't need `openvino` to be installed for Spark NLP, however, we need it to load and save models from HuggingFace.\n",
    "- We lock `transformers` on version `4.48.3`. This doesn't mean it won't work with the future releases, but we wanted you to know which versions have been tested successfully."
   ]
  },
  {
   "cell_type": "code",
   "execution_count": null,
   "metadata": {
    "colab": {
     "base_uri": "https://localhost:8080/"
    },
    "id": "-7L-2ZWUVgSl",
    "outputId": "d5371903-f07f-444d-9aba-60587cac75ad"
   },
   "outputs": [],
   "source": [
    "!pip install -q --upgrade transformers==4.48.3 optimum[openvino]"
   ]
  },
  {
   "cell_type": "markdown",
   "metadata": {
    "id": "vI7uz_6hVgSl"
   },
   "source": [
    "[Optimum Intel](https://github.com/huggingface/optimum-intel?tab=readme-ov-file#openvino) is the interface between the Transformers library and the various model optimization and acceleration tools provided by Intel. HuggingFace models loaded with optimum-intel are automatically optimized for OpenVINO, while being compatible with the Transformers API.\n",
    "- To load a HuggingFace model directly for inference/export, just replace the `AutoModelForXxx` class with the corresponding `OVModelForXxx` class. We can use this to import and export OpenVINO models with `from_pretrained` and `save_pretrained`.\n",
    "- By setting `export=True`, the source model is converted to OpenVINO IR format on the fly.\n",
    "- We'll use [deepset/roberta-base-squad2](https://huggingface.co/deepset/roberta-base-squad2) model from HuggingFace as an example and load it as a `OVModelForQuestionAnswering`, representing an OpenVINO model.\n",
    "- In addition to the OVModelForQuestionAnswering model, we also need to save the `AutoTokenizer`. This is the same for every model, these are assets (saved in `/assets`) needed for tokenization inside Spark NLP."
   ]
  },
  {
   "cell_type": "code",
   "execution_count": 2,
   "metadata": {
    "colab": {
     "base_uri": "https://localhost:8080/",
     "height": 524,
     "referenced_widgets": [
      "decaf1aa445642468bf6437959a9fbb6",
      "b39401c04a754cf3bb58c84611714f05",
      "513eab1c56fa472580e1f27633e00c8f",
      "10fbad8e76e94e88a84eb1e1495b867a",
      "c78b671b542e4391b792c095afadbb60",
      "8fdc066998ca400da62b6d78946a0b56",
      "bec8099f2ef94dddba56e7630ef2a968",
      "d03ae55e2dd348af9f6dfe4e4c393e2e",
      "cef15d35d47d431392737126228fd6a0",
      "7f54d810150349c9a25129fde988b142",
      "3987b24192244a029bbc0979f16f0e35",
      "19692d7441604202a2207986d6037658",
      "92249c9aea704016963a62be9ae1fadf",
      "dbdeee37e6a3484da1c470b2185cc673",
      "3a8e5de71b484ebc9c30ba43c184ad26",
      "2c0103c9a6fc44fdb6edb14b0cd3fa33",
      "b036053a373c4ca390e73cb656175385",
      "16044fe0365b4fc2b7233411fee14c24",
      "0e33fdf7aa2e4742b80006c09f643182",
      "3bf8506c8d554043b66ae6be672e4b59",
      "7fd1df481c9440828f0543c86de083d5",
      "87fbb7a8257e428d833f8f27252ed777",
      "eac1c40cd4c34c7db62bdb9a8ce18ba9",
      "de16acfe7b9845ac9782ed83e700043e",
      "4a360428bf6c41b2a7e8602bbbe93bfc",
      "4a785d99e7834e718c2c81e2cd2b287a",
      "79556322359c40ecaf0829b6adbffe3c",
      "3dd8e640e7674cd2b75ddcc856b172ec",
      "8713e12f51544d599dda4312ec7ee0fe",
      "1002ccd17a254d2cb9c94f8e746ca085",
      "e66738b981764d00804c51a6a64fc395",
      "03db8c15a6c34fbe9ef3277d64870a19",
      "55205680c6aa49148f206928b6b48af8",
      "cc0816ce31a84d7f89819e9b15253c6b",
      "62a4f9de9d0742f885a06fe1762a58fb",
      "6b11bc0e99684830bb7cdd43eb951597",
      "c181a20a95d849fbbdc01b704a4a5945",
      "8e83019336324065b90b9788cdd427ee",
      "a0bb27de756e4cc8ae4b90a1f085612b",
      "90bf952b286d436db90c1d745d980880",
      "28953cfd4be84c2ca1a0c6464f9b435c",
      "22f8a54cdbb74ef490dd1fe6e0c1d080",
      "6ed1f01ba8d541158d5a8052fff07bdc",
      "3ac25bb335be47578f8cf07a42251dac",
      "701372d2b3a94c60a8ad9c687f623334",
      "83058ce437d848f98e005685eca47179",
      "d4ac18fa4288451db2a412cfd05112e0",
      "f8614be3a7e141fba0dca8618ef62c83",
      "7af1592b1fcb4a5190a2a461215b4c4b",
      "8735f03b07f5455d980b6135b67c1806",
      "fed1c668be6c480b8465f03154b58d9b",
      "84a49ec4aa3c44a9b2a47e5cbff50399",
      "9bc9ef11fe804dc187b6723f43d78eff",
      "936af5f5c00d4cd696e127663231c88c",
      "1208f76233a24eeaa99002490e49988f",
      "1049e4a46cfb439ea17ee8f785eba319",
      "2eeb4ef6cb504dbabb01585bc6a2276b",
      "0671ac74ffec4696bf4e809b412caed1",
      "fb48d8e07758466abc29c523d3f82d80",
      "5ab6992a0832441ca26f084ddb7e82cc",
      "5987c88897764b0ea8ec39a7ee728faf",
      "e884e0cb30f64481959fd9466569ef61",
      "b0d067f085514384abd551f68e808f5a",
      "e0f5e1979a724792a0930b9702184d4d",
      "eed8afaaffe34bc18606c0ae9d0ec6a9",
      "3d8a457ef92544dd852b34f0d23bb6f6"
     ]
    },
    "id": "qF5Pp3DuVgSm",
    "outputId": "c75381be-82c3-491e-f397-4c692df97872"
   },
   "outputs": [
    {
     "name": "stderr",
     "output_type": "stream",
     "text": [
      "No CUDA runtime is found, using CUDA_HOME='/usr/local/cuda'\n",
      "/usr/local/lib/python3.11/dist-packages/huggingface_hub/utils/_auth.py:94: UserWarning: \n",
      "The secret `HF_TOKEN` does not exist in your Colab secrets.\n",
      "To authenticate with the Hugging Face Hub, create a token in your settings tab (https://huggingface.co/settings/tokens), set it as secret in your Google Colab and restart your session.\n",
      "You will be able to reuse this secret in all of your notebooks.\n",
      "Please note that authentication is recommended but still optional to access public models or datasets.\n",
      "  warnings.warn(\n"
     ]
    },
    {
     "data": {
      "application/vnd.jupyter.widget-view+json": {
       "model_id": "decaf1aa445642468bf6437959a9fbb6",
       "version_major": 2,
       "version_minor": 0
      },
      "text/plain": [
       "config.json:   0%|          | 0.00/929 [00:00<?, ?B/s]"
      ]
     },
     "metadata": {},
     "output_type": "display_data"
    },
    {
     "data": {
      "application/vnd.jupyter.widget-view+json": {
       "model_id": "19692d7441604202a2207986d6037658",
       "version_major": 2,
       "version_minor": 0
      },
      "text/plain": [
       "pytorch_model.bin:   0%|          | 0.00/501M [00:00<?, ?B/s]"
      ]
     },
     "metadata": {},
     "output_type": "display_data"
    },
    {
     "name": "stderr",
     "output_type": "stream",
     "text": [
      "Some weights of the model checkpoint at cardiffnlp/twitter-roberta-base-sentiment-latest were not used when initializing RobertaForSequenceClassification: ['roberta.pooler.dense.bias', 'roberta.pooler.dense.weight']\n",
      "- This IS expected if you are initializing RobertaForSequenceClassification from the checkpoint of a model trained on another task or with another architecture (e.g. initializing a BertForSequenceClassification model from a BertForPreTraining model).\n",
      "- This IS NOT expected if you are initializing RobertaForSequenceClassification from the checkpoint of a model that you expect to be exactly identical (initializing a BertForSequenceClassification model from a BertForSequenceClassification model).\n"
     ]
    },
    {
     "data": {
      "application/vnd.jupyter.widget-view+json": {
       "model_id": "eac1c40cd4c34c7db62bdb9a8ce18ba9",
       "version_major": 2,
       "version_minor": 0
      },
      "text/plain": [
       "vocab.json:   0%|          | 0.00/899k [00:00<?, ?B/s]"
      ]
     },
     "metadata": {},
     "output_type": "display_data"
    },
    {
     "data": {
      "application/vnd.jupyter.widget-view+json": {
       "model_id": "cc0816ce31a84d7f89819e9b15253c6b",
       "version_major": 2,
       "version_minor": 0
      },
      "text/plain": [
       "model.safetensors:   0%|          | 0.00/501M [00:00<?, ?B/s]"
      ]
     },
     "metadata": {},
     "output_type": "display_data"
    },
    {
     "data": {
      "application/vnd.jupyter.widget-view+json": {
       "model_id": "701372d2b3a94c60a8ad9c687f623334",
       "version_major": 2,
       "version_minor": 0
      },
      "text/plain": [
       "merges.txt:   0%|          | 0.00/456k [00:00<?, ?B/s]"
      ]
     },
     "metadata": {},
     "output_type": "display_data"
    },
    {
     "data": {
      "application/vnd.jupyter.widget-view+json": {
       "model_id": "1049e4a46cfb439ea17ee8f785eba319",
       "version_major": 2,
       "version_minor": 0
      },
      "text/plain": [
       "special_tokens_map.json:   0%|          | 0.00/239 [00:00<?, ?B/s]"
      ]
     },
     "metadata": {},
     "output_type": "display_data"
    },
    {
     "name": "stderr",
     "output_type": "stream",
     "text": [
      "`loss_type=None` was set in the config but it is unrecognised.Using the default loss: `ForCausalLMLoss`.\n"
     ]
    },
    {
     "data": {
      "text/plain": [
       "('ov_models/cardiffnlp/twitter-roberta-base-sentiment-latest/tokenizer_config.json',\n",
       " 'ov_models/cardiffnlp/twitter-roberta-base-sentiment-latest/special_tokens_map.json',\n",
       " 'ov_models/cardiffnlp/twitter-roberta-base-sentiment-latest/vocab.json',\n",
       " 'ov_models/cardiffnlp/twitter-roberta-base-sentiment-latest/merges.txt',\n",
       " 'ov_models/cardiffnlp/twitter-roberta-base-sentiment-latest/added_tokens.json',\n",
       " 'ov_models/cardiffnlp/twitter-roberta-base-sentiment-latest/tokenizer.json')"
      ]
     },
     "execution_count": 2,
     "metadata": {},
     "output_type": "execute_result"
    }
   ],
   "source": [
    "from optimum.intel import OVModelForSequenceClassification\n",
    "from transformers import AutoTokenizer\n",
    "\n",
    "MODEL_NAME = \"cardiffnlp/twitter-roberta-base-sentiment-latest\"\n",
    "EXPORT_PATH = f\"ov_models/{MODEL_NAME}\"\n",
    "\n",
    "ov_model = OVModelForSequenceClassification.from_pretrained(MODEL_NAME, export=True)\n",
    "tokenizer = AutoTokenizer.from_pretrained(MODEL_NAME)\n",
    "\n",
    "ov_model.save_pretrained(EXPORT_PATH)\n",
    "tokenizer.save_pretrained(EXPORT_PATH)"
   ]
  },
  {
   "cell_type": "markdown",
   "metadata": {
    "id": "J7Rlq3trztmW"
   },
   "source": [
    "Let's have a look inside these two directories and see what we are dealing with:"
   ]
  },
  {
   "cell_type": "code",
   "execution_count": null,
   "metadata": {
    "id": "Ztrk4joDzt6h"
   },
   "outputs": [],
   "source": [
    "!ls -lR {EXPORT_PATH}"
   ]
  },
  {
   "cell_type": "markdown",
   "metadata": {
    "id": "yYKTFxI7zjG4"
   },
   "source": [
    "- We need to convert `vocab.json` to a plain `vocab.txt` format, as required by Spark NLP.\n",
    "- Move both `vocab.txt` and `merges.txt` into the assets folder.\n",
    "- Additionally, we need to extract label-to-ID mappings from the model config and save them as `labels.txt` in the same folder for Spark NLP to use during inference."
   ]
  },
  {
   "cell_type": "code",
   "execution_count": 5,
   "metadata": {
    "id": "GIH6BeBkzknJ"
   },
   "outputs": [],
   "source": [
    "import json\n",
    "\n",
    "!mkdir -p {EXPORT_PATH}/assets && mv {EXPORT_PATH}/merges.txt {EXPORT_PATH}/assets/\n",
    "\n",
    "with open(f\"{EXPORT_PATH}/vocab.json\") as f, open(f\"{EXPORT_PATH}/assets/vocab.txt\", \"w\") as out:\n",
    "    out.write(\"\\n\".join(json.load(f)))\n",
    "\n",
    "with open(f\"{EXPORT_PATH}/assets/labels.txt\", \"w\") as f:\n",
    "    f.write(\"\\n\".join(ov_model.config.id2label[k] for k in sorted(ov_model.config.id2label)))"
   ]
  },
  {
   "cell_type": "code",
   "execution_count": 6,
   "metadata": {
    "colab": {
     "base_uri": "https://localhost:8080/"
    },
    "id": "0PacN6o4zmqd",
    "outputId": "9a67095b-69d0-488a-de98-46bc7478b10d"
   },
   "outputs": [
    {
     "name": "stdout",
     "output_type": "stream",
     "text": [
      "ov_models/cardiffnlp/twitter-roberta-base-sentiment-latest:\n",
      "total 491560\n",
      "drwxr-xr-x 2 root root      4096 Jun 24 12:03 assets\n",
      "-rw-r--r-- 1 root root       915 Jun 24 12:03 config.json\n",
      "-rw-r--r-- 1 root root 498596028 Jun 24 12:03 openvino_model.bin\n",
      "-rw-r--r-- 1 root root    377768 Jun 24 12:03 openvino_model.xml\n",
      "-rw-r--r-- 1 root root       958 Jun 24 12:03 special_tokens_map.json\n",
      "-rw-r--r-- 1 root root      1274 Jun 24 12:03 tokenizer_config.json\n",
      "-rw-r--r-- 1 root root   3558643 Jun 24 12:03 tokenizer.json\n",
      "-rw-r--r-- 1 root root    798293 Jun 24 12:03 vocab.json\n",
      "\n",
      "ov_models/cardiffnlp/twitter-roberta-base-sentiment-latest/assets:\n",
      "total 852\n",
      "-rw-r--r-- 1 root root     25 Jun 24 12:03 labels.txt\n",
      "-rw-r--r-- 1 root root 456318 Jun 24 12:03 merges.txt\n",
      "-rw-r--r-- 1 root root 407064 Jun 24 12:03 vocab.txt\n"
     ]
    }
   ],
   "source": [
    "!ls -lR {EXPORT_PATH}"
   ]
  },
  {
   "cell_type": "code",
   "execution_count": 7,
   "metadata": {
    "colab": {
     "base_uri": "https://localhost:8080/"
    },
    "id": "ZH7PFmJ9zm23",
    "outputId": "2309da88-6ae4-4718-e5b2-d47e69a50756"
   },
   "outputs": [
    {
     "name": "stdout",
     "output_type": "stream",
     "text": [
      "negative\n",
      "neutral\n",
      "positive"
     ]
    }
   ],
   "source": [
    "!cat {EXPORT_PATH}/assets/labels.txt"
   ]
  },
  {
   "cell_type": "markdown",
   "metadata": {
    "id": "GTy_cIMhzpVi"
   },
   "source": [
    "Voila! We have our `vocab.txt`, `merges.txt` and `labels.txt` inside assets directory"
   ]
  },
  {
   "cell_type": "markdown",
   "metadata": {
    "id": "5NeYga3uGF6y"
   },
   "source": [
    "## Import and Save RoBertaForSequenceClassification in Spark NLP\n"
   ]
  },
  {
   "cell_type": "markdown",
   "metadata": {
    "id": "W7Vge53iGF6y"
   },
   "source": [
    "- Install and set up Spark NLP in Google Colab\n",
    "- This example uses specific versions of `pyspark` and `spark-nlp` that have been tested with the transformer model to ensure everything runs smoothly."
   ]
  },
  {
   "cell_type": "code",
   "execution_count": 8,
   "metadata": {
    "colab": {
     "base_uri": "https://localhost:8080/"
    },
    "id": "0mZC1fSinFBZ",
    "outputId": "894f0587-11b1-4a12-8f3b-1cdb60033af9"
   },
   "outputs": [
    {
     "name": "stdout",
     "output_type": "stream",
     "text": [
      "\u001b[2K     \u001b[90m━━━━━━━━━━━━━━━━━━━━━━━━━━━━━━━━━━━━━━━\u001b[0m \u001b[32m317.3/317.3 MB\u001b[0m \u001b[31m4.8 MB/s\u001b[0m eta \u001b[36m0:00:00\u001b[0m\n",
      "\u001b[?25h  Preparing metadata (setup.py) ... \u001b[?25l\u001b[?25hdone\n",
      "\u001b[2K   \u001b[90m━━━━━━━━━━━━━━━━━━━━━━━━━━━━━━━━━━━━━━━━\u001b[0m \u001b[32m635.7/635.7 kB\u001b[0m \u001b[31m24.9 MB/s\u001b[0m eta \u001b[36m0:00:00\u001b[0m\n",
      "\u001b[?25h  Building wheel for pyspark (setup.py) ... \u001b[?25l\u001b[?25hdone\n"
     ]
    }
   ],
   "source": [
    "!pip install -q pyspark==3.5.4 spark-nlp==5.5.3"
   ]
  },
  {
   "cell_type": "markdown",
   "metadata": {
    "id": "LfonC1EuGF6y"
   },
   "source": [
    "Let's start Spark with Spark NLP included via our simple `start()` function"
   ]
  },
  {
   "cell_type": "code",
   "execution_count": 9,
   "metadata": {
    "colab": {
     "base_uri": "https://localhost:8080/"
    },
    "id": "v4d4oYcDGF6y",
    "outputId": "02b6319e-65b7-4a33-8c3d-b236fef3f095"
   },
   "outputs": [
    {
     "name": "stdout",
     "output_type": "stream",
     "text": [
      "Spark NLP version: 5.5.3\n",
      "Apache Spark version: 3.5.4\n"
     ]
    }
   ],
   "source": [
    "import sparknlp\n",
    "\n",
    "spark = sparknlp.start()\n",
    "\n",
    "print(\"Spark NLP version: {}\".format(sparknlp.version()))\n",
    "print(\"Apache Spark version: {}\".format(spark.version))"
   ]
  },
  {
   "cell_type": "markdown",
   "metadata": {
    "id": "0cL3XXsQGF6y"
   },
   "source": [
    "- Let's use `loadSavedModel` functon in `RoBertaForSequenceClassification` which allows us to load TensorFlow model in SavedModel format\n",
    "- Most params can be set later when you are loading this model in `RoBertaForSequenceClassification` in runtime like `setMaxSentenceLength`, so don't worry what you are setting them now\n",
    "- `loadSavedModel` accepts two params, first is the path to the TF SavedModel. The second is the SparkSession that is `spark` variable we previously started via `sparknlp.start()`\n",
    "- NOTE: `loadSavedModel` accepts local paths in addition to distributed file systems such as `HDFS`, `S3`, `DBFS`, etc. This feature was introduced in Spark NLP 4.2.2 release. Keep in mind the best and recommended way to move/share/reuse Spark NLP models is to use `write.save` so you can use `.load()` from any file systems natively.st and recommended way to move/share/reuse Spark NLP models is to use `write.save` so you can use `.load()` from any file systems natively."
   ]
  },
  {
   "cell_type": "code",
   "execution_count": 10,
   "metadata": {
    "id": "R3NqzUQ0GF6y"
   },
   "outputs": [],
   "source": [
    "from sparknlp.annotator import RoBertaForSequenceClassification\n",
    "\n",
    "sequenceClassifier = RoBertaForSequenceClassification.loadSavedModel(\n",
    "     EXPORT_PATH,\n",
    "     spark\n",
    " )\\\n",
    "  .setInputCols([\"document\",'token'])\\\n",
    "  .setOutputCol(\"class\")\\\n",
    "  .setCaseSensitive(True)\\\n",
    "  .setMaxSentenceLength(128)"
   ]
  },
  {
   "cell_type": "markdown",
   "metadata": {
    "id": "vsYxoqQxGF6y"
   },
   "source": [
    "- Let's save it on disk so it is easier to be moved around and also be used later via `.load` function"
   ]
  },
  {
   "cell_type": "code",
   "execution_count": 11,
   "metadata": {
    "id": "H0cEpgTlGF6y"
   },
   "outputs": [],
   "source": [
    "sequenceClassifier.write().overwrite().save(\"./{}_spark_nlp_openvino\".format(EXPORT_PATH))"
   ]
  },
  {
   "cell_type": "markdown",
   "metadata": {
    "id": "GZo7A-LAGF6z"
   },
   "source": [
    "Let's clean up stuff we don't need anymore"
   ]
  },
  {
   "cell_type": "code",
   "execution_count": 12,
   "metadata": {
    "id": "3bfApfnPGF6z"
   },
   "outputs": [],
   "source": [
    "!rm -rf {EXPORT_PATH}"
   ]
  },
  {
   "cell_type": "markdown",
   "metadata": {
    "id": "RU4X6A69GF6z"
   },
   "source": [
    "Awesome 😎  !\n",
    "\n",
    "This is your RoBertaForSequenceClassification model from HuggingFace 🤗  loaded and saved by Spark NLP 🚀"
   ]
  },
  {
   "cell_type": "code",
   "execution_count": 13,
   "metadata": {
    "colab": {
     "base_uri": "https://localhost:8080/"
    },
    "id": "T4XJGPU6GF6z",
    "outputId": "df8b081c-74f2-4c05-df96-12ed09b839f8"
   },
   "outputs": [
    {
     "name": "stdout",
     "output_type": "stream",
     "text": [
      "total 487368\n",
      "drwxr-xr-x 5 root root      4096 Jun 24 12:06 fields\n",
      "drwxr-xr-x 2 root root      4096 Jun 24 12:06 metadata\n",
      "-rw-r--r-- 1 root root 499050214 Jun 24 12:06 roberta_classification_openvino\n"
     ]
    }
   ],
   "source": [
    "! ls -l {EXPORT_PATH}_spark_nlp_openvino"
   ]
  },
  {
   "cell_type": "markdown",
   "metadata": {
    "id": "iO21_66HGF6z"
   },
   "source": [
    "Now let's see how we can use it on other machines, clusters, or any place you wish to use your new and shiny RoBertaForSequenceClassification model 😊"
   ]
  },
  {
   "cell_type": "code",
   "execution_count": 14,
   "metadata": {
    "id": "nC5_vErUGF6z"
   },
   "outputs": [],
   "source": [
    "sequenceClassifier_loaded = RoBertaForSequenceClassification.load(\"./{}_spark_nlp_openvino\".format(EXPORT_PATH))\\\n",
    "  .setInputCols([\"document\",'token'])\\\n",
    "  .setOutputCol(\"class\")"
   ]
  },
  {
   "cell_type": "markdown",
   "metadata": {
    "id": "s4x6bdUnGF6z"
   },
   "source": [
    "You can see what labels were used to train this model via `getClasses` function:"
   ]
  },
  {
   "cell_type": "code",
   "execution_count": 15,
   "metadata": {
    "colab": {
     "base_uri": "https://localhost:8080/"
    },
    "id": "c14IVj5aGF6z",
    "outputId": "27314545-e273-4178-d567-cd9542c3470f"
   },
   "outputs": [
    {
     "data": {
      "text/plain": [
       "['negative', 'neutral', 'positive']"
      ]
     },
     "execution_count": 15,
     "metadata": {},
     "output_type": "execute_result"
    }
   ],
   "source": [
    "sequenceClassifier_loaded.getClasses()"
   ]
  },
  {
   "cell_type": "markdown",
   "metadata": {
    "id": "Wg26stUlGF6z"
   },
   "source": [
    "This is how you can use your loaded classifier model in Spark NLP 🚀 pipeline:"
   ]
  },
  {
   "cell_type": "code",
   "execution_count": 16,
   "metadata": {
    "colab": {
     "base_uri": "https://localhost:8080/"
    },
    "id": "FSutdDQ_GF6z",
    "outputId": "d90e2516-9f76-4e41-85a6-238bc651e995"
   },
   "outputs": [
    {
     "name": "stdout",
     "output_type": "stream",
     "text": [
      "+-------------+----------+\n",
      "|text         |result    |\n",
      "+-------------+----------+\n",
      "|I love you!  |[positive]|\n",
      "|Kill yourself|[negative]|\n",
      "+-------------+----------+\n",
      "\n"
     ]
    }
   ],
   "source": [
    "from sparknlp.base import DocumentAssembler\n",
    "from sparknlp.annotator import Tokenizer\n",
    "from pyspark.ml import Pipeline\n",
    "\n",
    "document_assembler = DocumentAssembler() \\\n",
    "    .setInputCol(\"text\") \\\n",
    "    .setOutputCol(\"document\")\n",
    "\n",
    "tokenizer = Tokenizer() \\\n",
    "    .setInputCols([\"document\"]) \\\n",
    "    .setOutputCol(\"token\")\n",
    "\n",
    "pipeline = Pipeline(stages=[\n",
    "    document_assembler,\n",
    "    tokenizer,\n",
    "    sequenceClassifier_loaded\n",
    "])\n",
    "\n",
    "data = spark.createDataFrame([\n",
    "    [\"I love you!\"],\n",
    "    [\"Kill yourself\"]\n",
    "], [\"text\"])\n",
    "\n",
    "model = pipeline.fit(data)\n",
    "result = model.transform(data)\n",
    "\n",
    "result.select(\"text\", \"class.result\").show(truncate=False)"
   ]
  },
  {
   "cell_type": "markdown",
   "metadata": {
    "id": "3WBfvMEPGF6z"
   },
   "source": [
    "That's it! You can now go wild and use hundreds of `RoBertaForSequenceClassification` models from HuggingFace 🤗 in Spark NLP 🚀\n"
   ]
  }
 ],
 "metadata": {
  "colab": {
   "provenance": []
  },
  "kernelspec": {
   "display_name": "Python 3",
   "language": "python",
   "name": "python3"
  },
  "language_info": {
   "codemirror_mode": {
    "name": "ipython",
    "version": 3
   },
   "file_extension": ".py",
   "mimetype": "text/x-python",
   "name": "python",
   "nbconvert_exporter": "python",
   "pygments_lexer": "ipython3",
   "version": "3.10.12"
  }
 },
 "nbformat": 4,
 "nbformat_minor": 0
}
