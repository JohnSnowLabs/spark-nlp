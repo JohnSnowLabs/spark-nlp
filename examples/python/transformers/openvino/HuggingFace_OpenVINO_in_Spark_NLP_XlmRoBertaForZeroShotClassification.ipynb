{
 "cells": [
  {
   "cell_type": "markdown",
   "metadata": {
    "id": "_V5XcDCnVgSi"
   },
   "source": [
    "![JohnSnowLabs](https://sparknlp.org/assets/images/logo.png)\n",
    "\n",
    "[![Open In Colab](https://colab.research.google.com/assets/colab-badge.svg)](https://colab.research.google.com/github/JohnSnowLabs/spark-nlp/blob/master/examples/python/transformers/openvino/HuggingFace_OpenVINO_in_Spark_NLP_XlmRoBertaForZeroShotClassification.ipynb)\n",
    "\n",
    "# Import OpenVINO XlmRoBertaForZeroShotClassification models from HuggingFace 🤗 into Spark NLP 🚀\n",
    "\n",
    "This notebook provides a detailed walkthrough on optimizing and exporting XlmRoBertaForZeroShotClassification models from HuggingFace for use in Spark NLP, leveraging the various tools provided in the [Intel OpenVINO toolkit](https://www.intel.com/content/www/us/en/developer/tools/openvino-toolkit/overview.html) ecosystem.\n",
    "\n",
    "Let's keep in mind a few things before we start 😊\n",
    "\n",
    "- OpenVINO support was introduced in  `Spark NLP 5.4.0`, enabling high performance inference for models. Please make sure you have upgraded to the latest Spark NLP release.\n",
    "- You can import models for XlmRoBertaForZeroShotClassification from XlmRoBertaForZeroShotClassification   and they have to be in `Zero-Shot Classification` category."
   ]
  },
  {
   "cell_type": "markdown",
   "metadata": {
    "id": "aghasVppVgSk"
   },
   "source": [
    "## 1. Export and Save the HuggingFace model"
   ]
  },
  {
   "cell_type": "markdown",
   "metadata": {
    "id": "be4HsTDMVgSk"
   },
   "source": [
    "- Let's install `transformers` and `openvino` packages with other dependencies. You don't need `openvino` to be installed for Spark NLP, however, we need it to load and save models from HuggingFace.\n",
    "- We lock `transformers` on version `4.48.3`. This doesn't mean it won't work with the future releases, but we wanted you to know which versions have been tested successfully."
   ]
  },
  {
   "cell_type": "code",
   "execution_count": null,
   "metadata": {
    "colab": {
     "base_uri": "https://localhost:8080/"
    },
    "id": "-7L-2ZWUVgSl",
    "outputId": "56ffff7b-7d83-4b22-8da8-f52916cac466"
   },
   "outputs": [],
   "source": [
    "!pip install -q --upgrade transformers==4.48.3 optimum[openvino]"
   ]
  },
  {
   "cell_type": "markdown",
   "metadata": {
    "id": "vI7uz_6hVgSl"
   },
   "source": [
    "[Optimum Intel](https://github.com/huggingface/optimum-intel?tab=readme-ov-file#openvino) is the interface between the Transformers library and the various model optimization and acceleration tools provided by Intel. HuggingFace models loaded with optimum-intel are automatically optimized for OpenVINO, while being compatible with the Transformers API.\n",
    "- To load a HuggingFace model directly for inference/export, just replace the `AutoModelForXxx` class with the corresponding `OVModelForXxx` class. We can use this to import and export OpenVINO models with `from_pretrained` and `save_pretrained`.\n",
    "- By setting `export=True`, the source model is converted to OpenVINO IR format on the fly.\n",
    "- We'll use [symanto/xlm-roberta-base-snli-mnli-anli-xnli](https://huggingface.co/symanto/xlm-roberta-base-snli-mnli-anli-xnli) model from HuggingFace as an example and load it as a `OVModelForSequenceClassification`, representing an OpenVINO model.\n",
    "- In addition to the OVModelForSequenceClassification model, we also need to save the `AutoTokenizer`. This is the same for every model, these are assets (saved in `/assets`) needed for tokenization inside Spark NLP."
   ]
  },
  {
   "cell_type": "code",
   "execution_count": null,
   "metadata": {
    "colab": {
     "base_uri": "https://localhost:8080/",
     "height": 505,
     "referenced_widgets": [
      "690e580372204e1ba7b5e1643c2d5de7",
      "e0685f4b3e9d409e9be9f7a0cd366abc",
      "735bb4b7ef6b46b289229bcd6dd4b5e7",
      "7e029418bbcf42b8949a7eba42f65ed7",
      "c927c7ac4a494561a69f184156c2134b",
      "e184b4d710e34233b27d70c9b7240546",
      "90d536010e9e480ebf77f7a7fcb7c0f2",
      "dfe5cc257c264b8e8e871e93ae12dc9e",
      "602cf659a7aa464db52feee7495b4b0a",
      "281c317c75a243de9ffb45d07b8a9066",
      "e08c3f9146e34ecdabcca771ed454270",
      "1c31a29e84234d1b96a69e50afc8f75e",
      "e212c8900c004998911cee8eea91fc06",
      "1217d4f17bdf417787f09378c5e45ca6",
      "515a1f3999bc4c4997913752cb6ca0eb",
      "87038ad12c004750a4ff4350230e37e7",
      "ad98893057184917bd237002f3442c55",
      "ae4ca07e46474805a1c4f95241f44f10",
      "543508d1f5be4c319289718d52bd593a",
      "7c34762d99024ad0badcfb3df1ce68e9",
      "cc78d7c1b37b49a78f63c834b5163478",
      "48cee1032ed744dc8b897e9730379019",
      "3e07d726eaa84baf82151f73e7dd541f",
      "04ac92b98a0e40728ac97e901cbc46b4",
      "76b0631ebc034fb8bf8de55d9398c112",
      "efe871dbe9c0446aa244cbae8c69eca1",
      "6b8d1643b98145c388097d38c11b2c4c",
      "72be0e00126c44c0bfdbae63857ab19f",
      "1c5a1bad2c794315b1af01db1fda3ccb",
      "fd9a842224994871aef4d9d3217908bd",
      "9b95998ec417492aa611c15e81c14ac0",
      "74a96c3eca9f44e9b01d338e8eb83fa1",
      "d9f45e95bee84f5898e077d643bf2c89",
      "b30d8d5d5af34d3f9412bfde4312f982",
      "96733ffb16c74a7d8869b231dd0c21e4",
      "ce98794c9e5f4da78c941b208e51429c",
      "7c634a2b1cd44784811959570ea6af81",
      "8e329976812249b4b956804c6355f102",
      "241e319da0de491d8e26a3a102105bf1",
      "4a878582a5e54a6e947bf3b6f0151bec",
      "75c0b4c75eae402aa7200f41c46eecc9",
      "0f16fdd871e34c2ab91c9adc89a04759",
      "4a1c18ea112d4b6da707c47764527670",
      "70003479eb96418fac92e2c91b7735bb",
      "a9d41a76b5e144dc804714b151149054",
      "5a42227843c749baa9b767f606c4d932",
      "d7ec695512364bcc835f5df19532fb5b",
      "76bf1ec794fe45619c5ef003899287a4",
      "28ad8dffafa84c6f9e804226182091cc",
      "92d226bf735a451485728a9dca49c37b",
      "6d6aa7f77eba4b05a0eba85a70226005",
      "85efe3f3dab749d183e3d4c5b62ad78e",
      "9ef310face3847bcb6574bb101a1a537",
      "eaf74d1fed1a44c9822be07d17780fcb",
      "c6c8447e78f44886b07a57ba1944b28c",
      "becac55e72654e9c938ecbb00dd2af7d",
      "83dfda30964c41c29dd375554bbedbc6",
      "73017539e7f2454a83e2b0db848b7b56",
      "de75b6b70ada46f3885393293e225414",
      "3fced2cdee4042b69724e0372e1c7ba4",
      "b77fceabc6c2467694ce91c15db3a48c",
      "b8afc2c0479d45818ebe055c8441409a",
      "f396a069d01a45689bbed1f616e817e1",
      "eccc1c73b91f4c119368cf2fee05bd51",
      "69d2839c4be8496cb4b89ceee43d4828",
      "d5c054b80f80476ea15a3653339b6b50",
      "d1a983a7f8404a349ed85f4d6f0e3eb2",
      "a40ae645960244de8f53b720eb50e0ce",
      "40f0ee157056468d95f2215af662c8d0",
      "8dfb09f4aa4f4ce78572a220bfa5eae5",
      "1ff6c8fe3b3d4e3da966ef28e8be0754",
      "5fc385fdd5b74c3183db6acea7478965",
      "ceddcaf977214c4d8452ee3b6cb27926",
      "7d6246a30e2146ebbf38e1babb45fec8",
      "b58824a8e7fa4f3698dab99652263992",
      "f8a59b5f264a465a80ea70362a498e66",
      "197d3c6010b74dbcb2f2448440fe7955"
     ]
    },
    "id": "qF5Pp3DuVgSm",
    "outputId": "c238c168-bb6d-40ff-b5b9-aee04be7c7e5"
   },
   "outputs": [
    {
     "name": "stderr",
     "output_type": "stream",
     "text": [
      "No CUDA runtime is found, using CUDA_HOME='/usr/local/cuda'\n",
      "Multiple distributions found for package optimum. Picked distribution: optimum\n",
      "/usr/local/lib/python3.11/dist-packages/huggingface_hub/utils/_auth.py:94: UserWarning: \n",
      "The secret `HF_TOKEN` does not exist in your Colab secrets.\n",
      "To authenticate with the Hugging Face Hub, create a token in your settings tab (https://huggingface.co/settings/tokens), set it as secret in your Google Colab and restart your session.\n",
      "You will be able to reuse this secret in all of your notebooks.\n",
      "Please note that authentication is recommended but still optional to access public models or datasets.\n",
      "  warnings.warn(\n"
     ]
    },
    {
     "data": {
      "application/vnd.jupyter.widget-view+json": {
       "model_id": "690e580372204e1ba7b5e1643c2d5de7",
       "version_major": 2,
       "version_minor": 0
      },
      "text/plain": [
       "config.json:   0%|          | 0.00/921 [00:00<?, ?B/s]"
      ]
     },
     "metadata": {},
     "output_type": "display_data"
    },
    {
     "data": {
      "application/vnd.jupyter.widget-view+json": {
       "model_id": "1c31a29e84234d1b96a69e50afc8f75e",
       "version_major": 2,
       "version_minor": 0
      },
      "text/plain": [
       "pytorch_model.bin:   0%|          | 0.00/1.11G [00:00<?, ?B/s]"
      ]
     },
     "metadata": {},
     "output_type": "display_data"
    },
    {
     "data": {
      "application/vnd.jupyter.widget-view+json": {
       "model_id": "3e07d726eaa84baf82151f73e7dd541f",
       "version_major": 2,
       "version_minor": 0
      },
      "text/plain": [
       "tokenizer_config.json:   0%|          | 0.00/398 [00:00<?, ?B/s]"
      ]
     },
     "metadata": {},
     "output_type": "display_data"
    },
    {
     "data": {
      "application/vnd.jupyter.widget-view+json": {
       "model_id": "b30d8d5d5af34d3f9412bfde4312f982",
       "version_major": 2,
       "version_minor": 0
      },
      "text/plain": [
       "sentencepiece.bpe.model:   0%|          | 0.00/5.07M [00:00<?, ?B/s]"
      ]
     },
     "metadata": {},
     "output_type": "display_data"
    },
    {
     "data": {
      "application/vnd.jupyter.widget-view+json": {
       "model_id": "a9d41a76b5e144dc804714b151149054",
       "version_major": 2,
       "version_minor": 0
      },
      "text/plain": [
       "model.safetensors:   0%|          | 0.00/1.11G [00:00<?, ?B/s]"
      ]
     },
     "metadata": {},
     "output_type": "display_data"
    },
    {
     "data": {
      "application/vnd.jupyter.widget-view+json": {
       "model_id": "becac55e72654e9c938ecbb00dd2af7d",
       "version_major": 2,
       "version_minor": 0
      },
      "text/plain": [
       "tokenizer.json: 0.00B [00:00, ?B/s]"
      ]
     },
     "metadata": {},
     "output_type": "display_data"
    },
    {
     "data": {
      "application/vnd.jupyter.widget-view+json": {
       "model_id": "d1a983a7f8404a349ed85f4d6f0e3eb2",
       "version_major": 2,
       "version_minor": 0
      },
      "text/plain": [
       "special_tokens_map.json:   0%|          | 0.00/239 [00:00<?, ?B/s]"
      ]
     },
     "metadata": {},
     "output_type": "display_data"
    },
    {
     "name": "stderr",
     "output_type": "stream",
     "text": [
      "`loss_type=None` was set in the config but it is unrecognised.Using the default loss: `ForCausalLMLoss`.\n"
     ]
    },
    {
     "data": {
      "text/plain": [
       "('ov_models/symanto/xlm-roberta-base-snli-mnli-anli-xnli/tokenizer_config.json',\n",
       " 'ov_models/symanto/xlm-roberta-base-snli-mnli-anli-xnli/special_tokens_map.json',\n",
       " 'ov_models/symanto/xlm-roberta-base-snli-mnli-anli-xnli/sentencepiece.bpe.model',\n",
       " 'ov_models/symanto/xlm-roberta-base-snli-mnli-anli-xnli/added_tokens.json',\n",
       " 'ov_models/symanto/xlm-roberta-base-snli-mnli-anli-xnli/tokenizer.json')"
      ]
     },
     "execution_count": 2,
     "metadata": {},
     "output_type": "execute_result"
    }
   ],
   "source": [
    "from optimum.intel import OVModelForSequenceClassification\n",
    "from transformers import AutoTokenizer\n",
    "\n",
    "MODEL_NAME = \"symanto/xlm-roberta-base-snli-mnli-anli-xnli\"\n",
    "EXPORT_PATH = f\"ov_models/{MODEL_NAME}\"\n",
    "\n",
    "ov_model = OVModelForSequenceClassification.from_pretrained(MODEL_NAME, export=True)\n",
    "tokenizer = AutoTokenizer.from_pretrained(MODEL_NAME)\n",
    "\n",
    "ov_model.save_pretrained(EXPORT_PATH)\n",
    "tokenizer.save_pretrained(EXPORT_PATH)"
   ]
  },
  {
   "cell_type": "markdown",
   "metadata": {
    "id": "ILSKeMakEzkJ"
   },
   "source": [
    "Let's have a look inside this and see what we are dealing with:"
   ]
  },
  {
   "cell_type": "code",
   "execution_count": null,
   "metadata": {
    "colab": {
     "base_uri": "https://localhost:8080/"
    },
    "id": "pLyvZqebEzxU",
    "outputId": "c9ce586c-5518-4bc7-a899-247a19ecd152"
   },
   "outputs": [
    {
     "name": "stdout",
     "output_type": "stream",
     "text": [
      "total 1108152\n",
      "-rw-r--r-- 1 root root        921 Jul  3 07:02 config.json\n",
      "-rw-r--r-- 1 root root 1112188092 Jul  3 07:02 openvino_model.bin\n",
      "-rw-r--r-- 1 root root     377836 Jul  3 07:02 openvino_model.xml\n",
      "-rw-r--r-- 1 root root    5069051 Jul  3 07:02 sentencepiece.bpe.model\n",
      "-rw-r--r-- 1 root root        964 Jul  3 07:02 special_tokens_map.json\n",
      "-rw-r--r-- 1 root root       1178 Jul  3 07:02 tokenizer_config.json\n",
      "-rw-r--r-- 1 root root   17082734 Jul  3 07:02 tokenizer.json\n"
     ]
    }
   ],
   "source": [
    "!ls -l {EXPORT_PATH}"
   ]
  },
  {
   "cell_type": "markdown",
   "metadata": {
    "id": "dznFi8ajE2Rv"
   },
   "source": [
    "- As you can see, we need to move `sentencepiece.bpe.model` from the tokenizer to `assets` folder which Spark NLP will look for\n",
    "- We also need `labels` and their `ids` which is saved inside the model's config. We will save this inside `labels.txt`"
   ]
  },
  {
   "cell_type": "code",
   "execution_count": null,
   "metadata": {
    "id": "EIdZYIYlE3iC"
   },
   "outputs": [],
   "source": [
    "!mkdir {EXPORT_PATH}/assets\n",
    "\n",
    "labels = ov_model.config.id2label\n",
    "labels = [value for key,value in sorted(labels.items(), reverse=False)]\n",
    "\n",
    "with open(EXPORT_PATH + '/assets/labels.txt', 'w') as f:\n",
    "    f.write('\\n'.join(labels))\n",
    "\n",
    "!mv {EXPORT_PATH}/sentencepiece.bpe.model  {EXPORT_PATH}/assets"
   ]
  },
  {
   "cell_type": "code",
   "execution_count": null,
   "metadata": {
    "colab": {
     "base_uri": "https://localhost:8080/"
    },
    "id": "O9L13rjcE5EP",
    "outputId": "6b076988-b56e-444d-9909-aad91bad0daf"
   },
   "outputs": [
    {
     "name": "stdout",
     "output_type": "stream",
     "text": [
      "total 4956\n",
      "-rw-r--r-- 1 root root      32 Jul  3 07:02 labels.txt\n",
      "-rw-r--r-- 1 root root 5069051 Jul  3 07:02 sentencepiece.bpe.model\n"
     ]
    }
   ],
   "source": [
    "!ls -l {EXPORT_PATH}/assets"
   ]
  },
  {
   "cell_type": "markdown",
   "metadata": {
    "id": "8iHMlyRME6m0"
   },
   "source": [
    "Voila! We have our `sentencepiece.bpe.model` and `labels.txt` inside assets directory"
   ]
  },
  {
   "cell_type": "markdown",
   "metadata": {
    "id": "uh0Flpa08YWl"
   },
   "source": [
    "## Import and Save XlmRoBertaForZeroShotClassification in Spark NLP\n"
   ]
  },
  {
   "cell_type": "markdown",
   "metadata": {
    "id": "AHTFs1uI8YWl"
   },
   "source": [
    "- Install and set up Spark NLP in Google Colab\n",
    "- This example uses specific versions of `pyspark` and `spark-nlp` that have been tested with the transformer model to ensure everything runs smoothly."
   ]
  },
  {
   "cell_type": "code",
   "execution_count": null,
   "metadata": {
    "colab": {
     "base_uri": "https://localhost:8080/",
     "height": 92
    },
    "id": "XuId33bp8YWl",
    "outputId": "bbaf46f2-bdd0-403f-bd58-029ad54b6e05"
   },
   "outputs": [
    {
     "name": "stdout",
     "output_type": "stream",
     "text": [
      "\u001b[2K     \u001b[90m━━━━━━━━━━━━━━━━━━━━━━━━━━━━━━━━━━━━━━━\u001b[0m \u001b[32m317.3/317.3 MB\u001b[0m \u001b[31m3.5 MB/s\u001b[0m eta \u001b[36m0:00:00\u001b[0m\n",
      "\u001b[?25h  Preparing metadata (setup.py) ... \u001b[?25l\u001b[?25hdone\n",
      "\u001b[2K   \u001b[90m━━━━━━━━━━━━━━━━━━━━━━━━━━━━━━━━━━━━━━━━\u001b[0m \u001b[32m635.7/635.7 kB\u001b[0m \u001b[31m38.6 MB/s\u001b[0m eta \u001b[36m0:00:00\u001b[0m\n",
      "\u001b[?25h  Building wheel for pyspark (setup.py) ... \u001b[?25l\u001b[?25hdone\n"
     ]
    }
   ],
   "source": [
    "!pip install -q pyspark==3.5.4 spark-nlp==5.5.3"
   ]
  },
  {
   "cell_type": "markdown",
   "metadata": {
    "id": "RqGbTFSk8YWl"
   },
   "source": [
    "Let's start Spark with Spark NLP included via our simple `start()` function"
   ]
  },
  {
   "cell_type": "code",
   "execution_count": null,
   "metadata": {
    "id": "kDlHOvA78YWl"
   },
   "outputs": [],
   "source": [
    "import sparknlp\n",
    "\n",
    "spark = sparknlp.start()\n",
    "\n",
    "print(\"Spark NLP version: \", sparknlp.version())\n",
    "print(\"Apache Spark version: \", spark.version)"
   ]
  },
  {
   "cell_type": "markdown",
   "metadata": {
    "id": "O-JcnCZP8YWl"
   },
   "source": [
    "- Let's use `loadSavedModel` functon in `XlmRoBertaForZeroShotClassification` which allows us to load TensorFlow model in SavedModel format\n",
    "- Most params can be set later when you are loading this model in `XlmRoBertaForZeroShotClassification` in runtime like `setMaxSentenceLength`, so don't worry what you are setting them now\n",
    "- `loadSavedModel` accepts two params, first is the path to the TF SavedModel. The second is the SparkSession that is `spark` variable we previously started via `sparknlp.start()`\n",
    "- NOTE: `loadSavedModel` accepts local paths in addition to distributed file systems such as `HDFS`, `S3`, `DBFS`, etc. This feature was introduced in Spark NLP 4.2.2 release. Keep in mind the best and recommended way to move/share/reuse Spark NLP models is to use `write.save` so you can use `.load()` from any file systems natively.\n"
   ]
  },
  {
   "cell_type": "code",
   "execution_count": null,
   "metadata": {
    "colab": {
     "background_save": true
    },
    "id": "MbtfwYJe8YWl"
   },
   "outputs": [],
   "source": [
    "from sparknlp.annotator import XlmRoBertaForZeroShotClassification\n",
    "\n",
    "zero_shot_classifier = XlmRoBertaForZeroShotClassification.loadSavedModel(\n",
    "    EXPORT_PATH,\n",
    "    spark\n",
    "    )\\\n",
    "    .setInputCols([\"document\", \"token\"]) \\\n",
    "    .setOutputCol(\"class\") \\\n",
    "    .setCandidateLabels([\"urgent\", \"mobile\", \"travel\", \"movie\", \"music\", \"sport\", \"weather\", \"technology\"])"
   ]
  },
  {
   "cell_type": "markdown",
   "metadata": {
    "id": "0V4s924X8YWl"
   },
   "source": [
    "- Let's save it on disk so it is easier to be moved around and also be used later via `.load` function"
   ]
  },
  {
   "cell_type": "code",
   "execution_count": null,
   "metadata": {
    "colab": {
     "background_save": true
    },
    "id": "G5wqznjz8YWm"
   },
   "outputs": [],
   "source": [
    "zero_shot_classifier.write().overwrite().save(\"./{}_spark_nlp_openvino\".format(EXPORT_PATH))"
   ]
  },
  {
   "cell_type": "markdown",
   "metadata": {
    "id": "Nbkh0nit8YWm"
   },
   "source": [
    "Awesome 😎  !\n",
    "\n",
    "This is your XlmRoBertaForZeroShotClassification model from HuggingFace 🤗  loaded and saved by Spark NLP 🚀"
   ]
  },
  {
   "cell_type": "code",
   "execution_count": null,
   "metadata": {
    "colab": {
     "background_save": true
    },
    "id": "oxxkG14Y8YWm",
    "outputId": "39990c76-92ad-4210-b8c0-42f99ef6a85c"
   },
   "outputs": [
    {
     "name": "stdout",
     "output_type": "stream",
     "text": [
      "ls: cannot access 'symanto/xlm-roberta-base-snli-mnli-anli-xnli_spark_nlp_openvino': No such file or directory\n"
     ]
    }
   ],
   "source": [
    "! ls -l {MODEL_NAME}_spark_nlp_openvino"
   ]
  },
  {
   "cell_type": "markdown",
   "metadata": {
    "id": "vyxaBZHc8YWm"
   },
   "source": [
    "Now let's see how we can use it on other machines, clusters, or any place you wish to use your new and shiny XlmRoBertaForZeroShotClassification model 😊"
   ]
  },
  {
   "cell_type": "code",
   "execution_count": null,
   "metadata": {
    "colab": {
     "background_save": true
    },
    "id": "GWFwDv-x8YWm"
   },
   "outputs": [],
   "source": [
    "zero_shot_classifier_loaded = XlmRoBertaForZeroShotClassification.load(\"./{}_spark_nlp_openvino\".format(EXPORT_PATH))\\\n",
    "  .setInputCols([\"document\",'token'])\\\n",
    "  .setOutputCol(\"class\")"
   ]
  },
  {
   "cell_type": "markdown",
   "metadata": {
    "id": "VVdU0uaN8YWm"
   },
   "source": [
    "You can see what labels were used to train this model via `getClasses` function:"
   ]
  },
  {
   "cell_type": "code",
   "execution_count": null,
   "metadata": {
    "colab": {
     "background_save": true
    },
    "id": "JNUA_5wv8YWm",
    "outputId": "4e3f3d49-fe83-4081-d1b9-7fd3d15b6775"
   },
   "outputs": [
    {
     "data": {
      "text/plain": [
       "['NEUTRAL', 'CONTRADICTION', 'ENTAILMENT']"
      ]
     },
     "execution_count": 12,
     "metadata": {},
     "output_type": "execute_result"
    }
   ],
   "source": [
    "zero_shot_classifier_loaded.getClasses()"
   ]
  },
  {
   "cell_type": "markdown",
   "metadata": {
    "id": "HDqsK7zx8YWm"
   },
   "source": [
    "This is how you can use your loaded classifier model in Spark NLP 🚀 pipeline:"
   ]
  },
  {
   "cell_type": "code",
   "execution_count": null,
   "metadata": {
    "colab": {
     "background_save": true
    },
    "id": "ntej3_WH8YWm",
    "outputId": "24bca112-0c99-43d0-ca1f-a285a9046399"
   },
   "outputs": [
    {
     "name": "stdout",
     "output_type": "stream",
     "text": [
      "+--------------------------------------------------------------------------------------------------------------+---------------+\n",
      "|text                                                                                                          |predicted_label|\n",
      "+--------------------------------------------------------------------------------------------------------------+---------------+\n",
      "|I have a problem with my iPhone that needs to be resolved asap!!                                              |urgent         |\n",
      "|Last week I upgraded my iOS version and ever since then my phone has been overheating whenever I use your app.|technology     |\n",
      "|I have a phone and I love it!                                                                                 |mobile         |\n",
      "|I really want to visit Germany and I am planning to go there next year.                                       |travel         |\n",
      "|Let's watch some movies tonight! I am in the mood for a horror movie.                                         |movie          |\n",
      "|Have you watched the match yesterday? It was a great game!                                                    |sport          |\n",
      "|We need to hurry up and get to the airport. We are going to miss our flight!                                  |urgent         |\n",
      "+--------------------------------------------------------------------------------------------------------------+---------------+\n",
      "\n"
     ]
    }
   ],
   "source": [
    "from sparknlp.base import DocumentAssembler\n",
    "from sparknlp.annotator import Tokenizer\n",
    "from pyspark.ml import Pipeline\n",
    "\n",
    "document_assembler = DocumentAssembler() \\\n",
    "    .setInputCol(\"text\") \\\n",
    "    .setOutputCol(\"document\")\n",
    "\n",
    "tokenizer = Tokenizer() \\\n",
    "    .setInputCols([\"document\"]) \\\n",
    "    .setOutputCol(\"token\")\n",
    "\n",
    "pipeline = Pipeline(stages=[\n",
    "    document_assembler,\n",
    "    tokenizer,\n",
    "    zero_shot_classifier_loaded\n",
    "])\n",
    "\n",
    "texts = spark.createDataFrame([\n",
    "    [\"I have a problem with my iPhone that needs to be resolved asap!!\"],\n",
    "    [\"Last week I upgraded my iOS version and ever since then my phone has been overheating whenever I use your app.\"],\n",
    "    [\"I have a phone and I love it!\"],\n",
    "    [\"I really want to visit Germany and I am planning to go there next year.\"],\n",
    "    [\"Let's watch some movies tonight! I am in the mood for a horror movie.\"],\n",
    "    [\"Have you watched the match yesterday? It was a great game!\"],\n",
    "    [\"We need to hurry up and get to the airport. We are going to miss our flight!\"]\n",
    "], [\"text\"])\n",
    "\n",
    "model = pipeline.fit(texts)\n",
    "result = model.transform(texts)\n",
    "\n",
    "result.selectExpr(\"text\", \"class.result[0] as predicted_label\").show(truncate=False)"
   ]
  },
  {
   "cell_type": "markdown",
   "metadata": {
    "id": "COqzet858YWm"
   },
   "source": [
    "That's it! You can now go wild and use hundreds of `XlmRoBertaForZeroShotClassification` models from HuggingFace 🤗 in Spark NLP 🚀\n"
   ]
  }
 ],
 "metadata": {
  "colab": {
   "provenance": []
  },
  "kernelspec": {
   "display_name": "Python 3",
   "language": "python",
   "name": "python3"
  },
  "language_info": {
   "codemirror_mode": {
    "name": "ipython",
    "version": 3
   },
   "file_extension": ".py",
   "mimetype": "text/x-python",
   "name": "python",
   "nbconvert_exporter": "python",
   "pygments_lexer": "ipython3",
   "version": "3.10.12"
  }
 },
 "nbformat": 4,
 "nbformat_minor": 0
}
