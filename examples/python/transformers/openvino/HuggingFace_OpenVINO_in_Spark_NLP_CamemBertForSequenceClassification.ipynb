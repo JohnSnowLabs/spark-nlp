{
 "cells": [
  {
   "cell_type": "markdown",
   "metadata": {
    "id": "_V5XcDCnVgSi"
   },
   "source": [
    "![JohnSnowLabs](https://sparknlp.org/assets/images/logo.png)\n",
    "\n",
    "[![Open In Colab](https://colab.research.google.com/assets/colab-badge.svg)](https://colab.research.google.com/github/JohnSnowLabs/spark-nlp/blob/master/examples/python/transformers/openvino/HuggingFace_OpenVINO_in_Spark_NLP_CamemBertForSequenceClassification.ipynb)\n",
    "\n",
    "# Import OpenVINO CamemBertForSequenceClassification models from HuggingFace 🤗 into Spark NLP 🚀\n",
    "\n",
    "This notebook provides a detailed walkthrough on optimizing and exporting CamemBertForSequenceClassification models from HuggingFace for use in Spark NLP, leveraging the various tools provided in the [Intel OpenVINO toolkit](https://www.intel.com/content/www/us/en/developer/tools/openvino-toolkit/overview.html) ecosystem.\n",
    "\n",
    "Let's keep in mind a few things before we start 😊\n",
    "\n",
    "- OpenVINO support was introduced in  `Spark NLP 5.4.0`, enabling high performance inference for models. Please make sure you have upgraded to the latest Spark NLP release.\n",
    "- You can import models for CamemBertForSequenceClassification from CamemBertForSequenceClassification and they have to be in `Text Classification` category."
   ]
  },
  {
   "cell_type": "markdown",
   "metadata": {
    "id": "aghasVppVgSk"
   },
   "source": [
    "## 1. Export and Save the HuggingFace model"
   ]
  },
  {
   "cell_type": "markdown",
   "metadata": {
    "id": "be4HsTDMVgSk"
   },
   "source": [
    "- Let's install `transformers` and `openvino` packages with other dependencies. You don't need `openvino` to be installed for Spark NLP, however, we need it to load and save models from HuggingFace.\n",
    "- We lock `transformers` on version `4.48.3`. This doesn't mean it won't work with the future releases, but we wanted you to know which versions have been tested successfully."
   ]
  },
  {
   "cell_type": "code",
   "execution_count": null,
   "metadata": {
    "colab": {
     "base_uri": "https://localhost:8080/"
    },
    "id": "u_Bhvs3puncG",
    "outputId": "b609b77e-63b1-41ec-9720-a9445c7c60c3"
   },
   "outputs": [],
   "source": [
    "!pip install -q --upgrade transformers==4.48.3 optimum[openvino]"
   ]
  },
  {
   "cell_type": "markdown",
   "metadata": {
    "id": "vI7uz_6hVgSl"
   },
   "source": [
    "[Optimum Intel](https://github.com/huggingface/optimum-intel?tab=readme-ov-file#openvino) is the interface between the Transformers library and the various model optimization and acceleration tools provided by Intel. HuggingFace models loaded with optimum-intel are automatically optimized for OpenVINO, while being compatible with the Transformers API.\n",
    "- To load a HuggingFace model directly for inference/export, just replace the `AutoModelForXxx` class with the corresponding `OVModelForXxx` class. We can use this to import and export OpenVINO models with `from_pretrained` and `save_pretrained`.\n",
    "- By setting `export=True`, the source model is converted to OpenVINO IR format on the fly.\n",
    "- We'll use [antoinelouis/crossencoder-camembert-large-mmarcoFR](https://huggingface.co/antoinelouis/crossencoder-camembert-large-mmarcoFR) model from HuggingFace as an example and load it as a `OVModelForSequenceClassification`, representing an OpenVINO model.\n",
    "- In addition to the OVModelForSequenceClassification model, we also need to save the `AutoTokenizer`. This is the same for every model, these are assets (saved in `/assets`) needed for tokenization inside Spark NLP."
   ]
  },
  {
   "cell_type": "code",
   "execution_count": null,
   "metadata": {
    "colab": {
     "base_uri": "https://localhost:8080/",
     "height": 435,
     "referenced_widgets": [
      "9f0c018e221a4fc2b484dc8857627c1a",
      "53e5b5cba7ab4a62b7a34e0739aa866e",
      "5d9a6bf2e45048478d63993fcc96a679",
      "78763a8311084e8aa6181be42b99e03b",
      "04796aedd31240a9aadde465566d215f",
      "f11a361f106142359b734732a4b9821b",
      "b1415959a6e248a48f1c5e8297aafc01",
      "98553c5ed20542eea726b69f6c014dde",
      "f50af9ea298a4ed3bdeed6092c8010a7",
      "d5f2de56bccc44709f2ce1354ac851c8",
      "75357b57244948e3abd27138fb0be1a6",
      "44dc422cf8ba4e3fae77cabf91ae997e",
      "9c3dc95948084017a025b668a4316dba",
      "cfd35c079c464d07a3b1eb8e6ba21679",
      "27d595168527471db122a8a5966b7af2",
      "69c747f1da224506ac12b417761d1286",
      "3ff48ce2e33f45e4935c35a52cc57732",
      "ff69771bced6474e85f07f8c28b85dfb",
      "7d8319c6378540d9a0ce61824f537db5",
      "2c96d645af654dcf90d5f3a5ddcc0ab7",
      "b51ebea9dc2a4a2596252ae7220a20ce",
      "46f8405a7ae44ae4b9348d48db93fd3e",
      "8ea6f52dd8e84322b08c9c5a8294e98a",
      "159dcbf3e6494a7b9548ea75f0cc93a6",
      "7717a0670c8d4f309ca33410868538bf",
      "83f0bc73f4d7469cab6e76d24e8cb07a",
      "b79ad17f15fd4310be4f6ef1c42a0a28",
      "6ed11f99d41f41e8b3effe22b5ced493",
      "a01a0653c11746679b3f5b4a7241bfed",
      "88e4174269eb45b69facaa1b0d285ffc",
      "93a26ad04c0f41ddb451fa0980750acf",
      "b18ab25d12014b1b9c27709e2e95db63",
      "ffab8f4233ec412597aae3c243d1d4c5",
      "765e8def860e42fdbe929192ce748c0e",
      "92df52dc434e4944b1f33299cd025bc2",
      "84e9190a4fab495fae337da623e31d85",
      "fa7a5dfeed7f43ab98b6a9886d1d4683",
      "e93c4d0518a74f43851b1d25f647261a",
      "6fbf3cce7c43435b87756e621d8ccac0",
      "59b676a65d27494c9edf29022bcd523b",
      "315001412d7d4d80adc0cf0942e201d4",
      "9296d51aed53475b9f78b9c4b1bd586b",
      "52eddac059984f6ca003c9b7f55671e1",
      "cb1f8c08c70e420fb4baa67fc04094df",
      "f7031f68f8e446d3b4dcf91bd52d6f64",
      "b7684afb307a4dfda7ae3a844e453fe5",
      "4cc6bb98c41d43e08d64b67e721f5cf9",
      "20e3f40faf2d4d9d9d9569d9cede049a",
      "19319502611f40858918447331c2da52",
      "5404dcea72d74233a2fa822ef2c09530",
      "c8a9575baf664f579bd5d0f144b1bd89",
      "fc3d53f40ad54848bf0a554ba55c5797",
      "2f1f5939825e4521b93ce2f49ae5083c",
      "5972c7c3fe7b493b96aabf1744dd57e0",
      "d332b4e510ef4ddabb06915dba111fb1",
      "33b34e1e506a4de9a72d79c83ddab3b0",
      "1e001bb05cdb49ce9c8837f0111a896d",
      "33e0942cb78c4bf381c5894e5bb6ba9e",
      "af672380fd2c49e19b032e2e8c342990",
      "fad8d286ca274a4898226353bcc57dc1",
      "1be4a5899cae42fa929cf25d20f92d98",
      "4e1d519f2d854e7aabedd20bddbebe43",
      "11d67a024a0047798decc677f170dcd2",
      "b0107916b6e140e88947b8c0aea548ab",
      "4aef109a0874416296786f1427bcc539",
      "c90a7f6b06a54314bd85d2bf394e214b"
     ]
    },
    "id": "V6MQ7BzIVLhg",
    "outputId": "a566807c-c9a0-4d36-ac27-07d472aac6b5"
   },
   "outputs": [
    {
     "name": "stderr",
     "output_type": "stream",
     "text": [
      "No CUDA runtime is found, using CUDA_HOME='/usr/local/cuda'\n",
      "/usr/local/lib/python3.11/dist-packages/huggingface_hub/utils/_auth.py:94: UserWarning: \n",
      "The secret `HF_TOKEN` does not exist in your Colab secrets.\n",
      "To authenticate with the Hugging Face Hub, create a token in your settings tab (https://huggingface.co/settings/tokens), set it as secret in your Google Colab and restart your session.\n",
      "You will be able to reuse this secret in all of your notebooks.\n",
      "Please note that authentication is recommended but still optional to access public models or datasets.\n",
      "  warnings.warn(\n"
     ]
    },
    {
     "data": {
      "application/vnd.jupyter.widget-view+json": {
       "model_id": "9f0c018e221a4fc2b484dc8857627c1a",
       "version_major": 2,
       "version_minor": 0
      },
      "text/plain": [
       "config.json:   0%|          | 0.00/1.01k [00:00<?, ?B/s]"
      ]
     },
     "metadata": {},
     "output_type": "display_data"
    },
    {
     "data": {
      "application/vnd.jupyter.widget-view+json": {
       "model_id": "44dc422cf8ba4e3fae77cabf91ae997e",
       "version_major": 2,
       "version_minor": 0
      },
      "text/plain": [
       "model.safetensors:   0%|          | 0.00/443M [00:00<?, ?B/s]"
      ]
     },
     "metadata": {},
     "output_type": "display_data"
    },
    {
     "data": {
      "application/vnd.jupyter.widget-view+json": {
       "model_id": "8ea6f52dd8e84322b08c9c5a8294e98a",
       "version_major": 2,
       "version_minor": 0
      },
      "text/plain": [
       "tokenizer_config.json:   0%|          | 0.00/1.78k [00:00<?, ?B/s]"
      ]
     },
     "metadata": {},
     "output_type": "display_data"
    },
    {
     "data": {
      "application/vnd.jupyter.widget-view+json": {
       "model_id": "765e8def860e42fdbe929192ce748c0e",
       "version_major": 2,
       "version_minor": 0
      },
      "text/plain": [
       "sentencepiece.bpe.model:   0%|          | 0.00/811k [00:00<?, ?B/s]"
      ]
     },
     "metadata": {},
     "output_type": "display_data"
    },
    {
     "data": {
      "application/vnd.jupyter.widget-view+json": {
       "model_id": "f7031f68f8e446d3b4dcf91bd52d6f64",
       "version_major": 2,
       "version_minor": 0
      },
      "text/plain": [
       "added_tokens.json:   0%|          | 0.00/22.0 [00:00<?, ?B/s]"
      ]
     },
     "metadata": {},
     "output_type": "display_data"
    },
    {
     "data": {
      "application/vnd.jupyter.widget-view+json": {
       "model_id": "33b34e1e506a4de9a72d79c83ddab3b0",
       "version_major": 2,
       "version_minor": 0
      },
      "text/plain": [
       "special_tokens_map.json:   0%|          | 0.00/374 [00:00<?, ?B/s]"
      ]
     },
     "metadata": {},
     "output_type": "display_data"
    },
    {
     "name": "stderr",
     "output_type": "stream",
     "text": [
      "`loss_type=None` was set in the config but it is unrecognised.Using the default loss: `ForCausalLMLoss`.\n"
     ]
    },
    {
     "data": {
      "text/plain": [
       "('ov_models/astrosbd/french_emotion_camembert/tokenizer_config.json',\n",
       " 'ov_models/astrosbd/french_emotion_camembert/special_tokens_map.json',\n",
       " 'ov_models/astrosbd/french_emotion_camembert/sentencepiece.bpe.model',\n",
       " 'ov_models/astrosbd/french_emotion_camembert/added_tokens.json',\n",
       " 'ov_models/astrosbd/french_emotion_camembert/tokenizer.json')"
      ]
     },
     "execution_count": 2,
     "metadata": {},
     "output_type": "execute_result"
    }
   ],
   "source": [
    "from optimum.intel import OVModelForSequenceClassification\n",
    "from transformers import AutoTokenizer\n",
    "\n",
    "MODEL_NAME = \"astrosbd/french_emotion_camembert\"\n",
    "EXPORT_PATH = f\"ov_models/{MODEL_NAME}\"\n",
    "\n",
    "ov_model = OVModelForSequenceClassification.from_pretrained(MODEL_NAME, export=True)\n",
    "tokenizer = AutoTokenizer.from_pretrained(MODEL_NAME)\n",
    "\n",
    "ov_model.save_pretrained(EXPORT_PATH)\n",
    "tokenizer.save_pretrained(EXPORT_PATH)"
   ]
  },
  {
   "cell_type": "markdown",
   "metadata": {
    "id": "j-iZ9-NWVh6R"
   },
   "source": [
    "Let's have a look inside these two directories and see what we are dealing with:"
   ]
  },
  {
   "cell_type": "code",
   "execution_count": 4,
   "metadata": {
    "colab": {
     "base_uri": "https://localhost:8080/"
    },
    "id": "HsiUGyL2ViKp",
    "outputId": "26f0243e-256e-4559-e0e5-852c71bcb636"
   },
   "outputs": [
    {
     "name": "stdout",
     "output_type": "stream",
     "text": [
      "total 435688\n",
      "-rw-r--r-- 1 root root      1027 Jun 21 02:37 config.json\n",
      "-rw-r--r-- 1 root root 442510536 Jun 21 02:37 openvino_model.bin\n",
      "-rw-r--r-- 1 root root    377720 Jun 21 02:37 openvino_model.xml\n",
      "-rw-r--r-- 1 root root    810912 Jun 21 02:37 sentencepiece.bpe.model\n",
      "-rw-r--r-- 1 root root      1058 Jun 21 02:37 special_tokens_map.json\n",
      "-rw-r--r-- 1 root root      1813 Jun 21 02:37 tokenizer_config.json\n",
      "-rw-r--r-- 1 root root   2421253 Jun 21 02:37 tokenizer.json\n"
     ]
    }
   ],
   "source": [
    "!ls -l {EXPORT_PATH}"
   ]
  },
  {
   "cell_type": "markdown",
   "metadata": {
    "id": "Xl652g0KVmEF"
   },
   "source": [
    "- We need to move `sentencepiece.bpe.model` from the tokenizer to assets folder which Spark NLP will look for\n",
    "- In addition to vocabs, we also need `labels` and their `ids` which is saved inside the model's config. We will save this inside `labels.txt`"
   ]
  },
  {
   "cell_type": "code",
   "execution_count": 5,
   "metadata": {
    "id": "ZMviD_oNVoZb"
   },
   "outputs": [],
   "source": [
    "!mkdir -p {EXPORT_PATH}/assets\n",
    "\n",
    "labels = ov_model.config.id2label\n",
    "labels = [value for key,value in sorted(labels.items(), reverse=False)]\n",
    "\n",
    "with open(EXPORT_PATH + '/assets/labels.txt', 'w') as f:\n",
    "    f.write('\\n'.join(labels))\n",
    "\n",
    "!mv {EXPORT_PATH}/sentencepiece.bpe.model {EXPORT_PATH}/assets/"
   ]
  },
  {
   "cell_type": "code",
   "execution_count": 7,
   "metadata": {
    "colab": {
     "base_uri": "https://localhost:8080/"
    },
    "id": "D84yDzevVtVE",
    "outputId": "9cb25aff-33ac-4e9e-819a-c7105e77a601"
   },
   "outputs": [
    {
     "name": "stdout",
     "output_type": "stream",
     "text": [
      "ov_models/astrosbd/french_emotion_camembert:\n",
      "total 434900\n",
      "drwxr-xr-x 2 root root      4096 Jun 21 02:42 assets\n",
      "-rw-r--r-- 1 root root      1027 Jun 21 02:37 config.json\n",
      "-rw-r--r-- 1 root root 442510536 Jun 21 02:37 openvino_model.bin\n",
      "-rw-r--r-- 1 root root    377720 Jun 21 02:37 openvino_model.xml\n",
      "-rw-r--r-- 1 root root      1058 Jun 21 02:37 special_tokens_map.json\n",
      "-rw-r--r-- 1 root root      1813 Jun 21 02:37 tokenizer_config.json\n",
      "-rw-r--r-- 1 root root   2421253 Jun 21 02:37 tokenizer.json\n",
      "\n",
      "ov_models/astrosbd/french_emotion_camembert/assets:\n",
      "total 796\n",
      "-rw-r--r-- 1 root root     35 Jun 21 02:42 labels.txt\n",
      "-rw-r--r-- 1 root root 810912 Jun 21 02:37 sentencepiece.bpe.model\n"
     ]
    }
   ],
   "source": [
    "!ls -lR {EXPORT_PATH}"
   ]
  },
  {
   "cell_type": "markdown",
   "metadata": {
    "id": "CGNQ98xeVzME"
   },
   "source": [
    "- Voila! We have our `sentencepiece.bpe.model` and `labels.txt` inside assets directory"
   ]
  },
  {
   "cell_type": "markdown",
   "metadata": {
    "id": "MklXFA9IgYGw"
   },
   "source": [
    "## Import and Save CamemBertForSequenceClassification in Spark NLP\n"
   ]
  },
  {
   "cell_type": "markdown",
   "metadata": {
    "id": "YWxaWzPwgYGx"
   },
   "source": [
    "- Let's install and setup Spark NLP in Google Colab.\n",
    "- For this example, we'll use specific versions of `pyspark` and `spark-nlp` that we've already tested with this transformer model to make sure everything runs smoothly."
   ]
  },
  {
   "cell_type": "code",
   "execution_count": 8,
   "metadata": {
    "colab": {
     "base_uri": "https://localhost:8080/"
    },
    "id": "wIWlyDh2gYGx",
    "outputId": "89b6ed5b-9888-48da-b694-1a9b64a5f665"
   },
   "outputs": [
    {
     "name": "stdout",
     "output_type": "stream",
     "text": [
      "\u001b[2K     \u001b[90m━━━━━━━━━━━━━━━━━━━━━━━━━━━━━━━━━━━━━━━\u001b[0m \u001b[32m317.3/317.3 MB\u001b[0m \u001b[31m2.1 MB/s\u001b[0m eta \u001b[36m0:00:00\u001b[0m\n",
      "\u001b[?25h  Preparing metadata (setup.py) ... \u001b[?25l\u001b[?25hdone\n",
      "\u001b[2K   \u001b[90m━━━━━━━━━━━━━━━━━━━━━━━━━━━━━━━━━━━━━━━━\u001b[0m \u001b[32m635.7/635.7 kB\u001b[0m \u001b[31m38.3 MB/s\u001b[0m eta \u001b[36m0:00:00\u001b[0m\n",
      "\u001b[?25h  Building wheel for pyspark (setup.py) ... \u001b[?25l\u001b[?25hdone\n"
     ]
    }
   ],
   "source": [
    "!pip install -q pyspark==3.5.4 spark-nlp==5.5.3"
   ]
  },
  {
   "cell_type": "markdown",
   "metadata": {
    "id": "y_Zap7VmgYG0"
   },
   "source": [
    "Let's start Spark with Spark NLP included via our simple `start()` function"
   ]
  },
  {
   "cell_type": "code",
   "execution_count": 9,
   "metadata": {
    "colab": {
     "base_uri": "https://localhost:8080/"
    },
    "id": "VEQMY5l9gYG0",
    "outputId": "377bc78f-f0a2-4e1e-dcc9-b5b50acc35cd"
   },
   "outputs": [
    {
     "name": "stdout",
     "output_type": "stream",
     "text": [
      "Spark NLP version: 5.5.3\n",
      "Apache Spark version: 3.5.4\n"
     ]
    }
   ],
   "source": [
    "import sparknlp\n",
    "\n",
    "spark = sparknlp.start()\n",
    "\n",
    "print(\"Spark NLP version: {}\".format(sparknlp.version()))\n",
    "print(\"Apache Spark version: {}\".format(spark.version))"
   ]
  },
  {
   "cell_type": "markdown",
   "metadata": {
    "id": "bBkc1p8hgYG0"
   },
   "source": [
    "- Let's use `loadSavedModel` functon in `CamemBertForSequenceClassification` which allows us to load TensorFlow model in SavedModel format\n",
    "- Most params can be set later when you are loading this model in `CamemBertForSequenceClassification` in runtime like `setMaxSentenceLength`, so don't worry what you are setting them now\n",
    "- `loadSavedModel` accepts two params, first is the path to the TF SavedModel. The second is the SparkSession that is `spark` variable we previously started via `sparknlp.start()`\n",
    "- NOTE: `loadSavedModel` accepts local paths in addition to distributed file systems such as `HDFS`, `S3`, `DBFS`, etc. This feature was introduced in Spark NLP 4.2.2 release. Keep in mind the best and recommended way to move/share/reuse Spark NLP models is to use `write.save` so you can use `.load()` from any file systems natively."
   ]
  },
  {
   "cell_type": "code",
   "execution_count": 10,
   "metadata": {
    "id": "9B1TdMOqgYG1"
   },
   "outputs": [],
   "source": [
    "from sparknlp.annotator import CamemBertForSequenceClassification\n",
    "\n",
    "sequenceClassifier = CamemBertForSequenceClassification.loadSavedModel(\n",
    "     f\"{EXPORT_PATH}\",\n",
    "     spark\n",
    " )\\\n",
    "  .setInputCols([\"document\",'token'])\\\n",
    "  .setOutputCol(\"class\")\\\n",
    "  .setCaseSensitive(True)\\\n",
    "  .setMaxSentenceLength(128)"
   ]
  },
  {
   "cell_type": "markdown",
   "metadata": {
    "id": "oqpVT29ugYG1"
   },
   "source": [
    "- Let's save it on disk so it is easier to be moved around and also be used later via `.load` function"
   ]
  },
  {
   "cell_type": "code",
   "execution_count": 11,
   "metadata": {
    "id": "tDZ3NElngYG1"
   },
   "outputs": [],
   "source": [
    "sequenceClassifier.write().overwrite().save(\"./{}_spark_nlp_onnx\".format(EXPORT_PATH))"
   ]
  },
  {
   "cell_type": "markdown",
   "metadata": {
    "id": "P9Xd5_ETgYG1"
   },
   "source": [
    "Let's clean up stuff we don't need anymore"
   ]
  },
  {
   "cell_type": "code",
   "execution_count": 12,
   "metadata": {
    "id": "F_8UN6AdgYG1"
   },
   "outputs": [],
   "source": [
    "!rm -rf {EXPORT_PATH}"
   ]
  },
  {
   "cell_type": "markdown",
   "metadata": {
    "id": "XmMOnfb9gYG1"
   },
   "source": [
    "Awesome 😎  !\n",
    "\n",
    "This is your CamemBertForSequenceClassification model from HuggingFace 🤗  loaded and saved by Spark NLP 🚀"
   ]
  },
  {
   "cell_type": "code",
   "execution_count": 13,
   "metadata": {
    "colab": {
     "base_uri": "https://localhost:8080/"
    },
    "id": "aM2k8S7mgYG1",
    "outputId": "dcf94c10-443f-4ca3-a262-72021b4684e4"
   },
   "outputs": [
    {
     "name": "stdout",
     "output_type": "stream",
     "text": [
      "total 433380\n",
      "-rw-r--r-- 1 root root 442956119 Jun 21 02:46 camembert_classification_openvino\n",
      "-rw-r--r-- 1 root root    810912 Jun 21 02:46 camembert_spp\n",
      "drwxr-xr-x 3 root root      4096 Jun 21 02:45 fields\n",
      "drwxr-xr-x 2 root root      4096 Jun 21 02:45 metadata\n"
     ]
    }
   ],
   "source": [
    "! ls -l {EXPORT_PATH}_spark_nlp_onnx"
   ]
  },
  {
   "cell_type": "markdown",
   "metadata": {
    "id": "b4arm8CUgYG2"
   },
   "source": [
    "Now let's see how we can use it on other machines, clusters, or any place you wish to use your new and shiny CamemBertForSequenceClassification model 😊"
   ]
  },
  {
   "cell_type": "code",
   "execution_count": 14,
   "metadata": {
    "id": "K2GL0-SZgYG2"
   },
   "outputs": [],
   "source": [
    "sequenceClassifier_loaded = CamemBertForSequenceClassification.load(f\"./{EXPORT_PATH}_spark_nlp_onnx\") \\\n",
    "    .setInputCols([\"document\", \"token\"]) \\\n",
    "    .setOutputCol(\"class\")"
   ]
  },
  {
   "cell_type": "markdown",
   "metadata": {
    "id": "17f2GUpIgYG2"
   },
   "source": [
    "You can see what labels were used to train this model via `getClasses` function:"
   ]
  },
  {
   "cell_type": "code",
   "execution_count": 15,
   "metadata": {
    "colab": {
     "base_uri": "https://localhost:8080/"
    },
    "id": "1bdTgvvfgYG2",
    "outputId": "85015ecf-de23-46da-f465-d93ffcde7438"
   },
   "outputs": [
    {
     "data": {
      "text/plain": [
       "['surprise', 'joy', 'anger', 'neutral', 'sad', 'fear']"
      ]
     },
     "execution_count": 15,
     "metadata": {},
     "output_type": "execute_result"
    }
   ],
   "source": [
    "sequenceClassifier_loaded.getClasses()"
   ]
  },
  {
   "cell_type": "markdown",
   "metadata": {
    "id": "7tlb_MaogYG2"
   },
   "source": [
    "This is how you can use your loaded classifier model in Spark NLP 🚀 pipeline:"
   ]
  },
  {
   "cell_type": "code",
   "execution_count": 16,
   "metadata": {
    "colab": {
     "base_uri": "https://localhost:8080/"
    },
    "id": "iyLVgsgWgYG2",
    "outputId": "22554f0f-6f34-4ff4-ba85-df3d96dca802"
   },
   "outputs": [
    {
     "name": "stdout",
     "output_type": "stream",
     "text": [
      "+--------------------------------------------------------------+----------+\n",
      "|text                                                          |result    |\n",
      "+--------------------------------------------------------------+----------+\n",
      "|Je n'arrive pas à croire ce qui vient de se passer !          |[surprise]|\n",
      "|Je suis tellement heureux aujourd’hui !                       |[joy]     |\n",
      "|Ça m’énerve vraiment quand on me parle comme ça !             |[anger]   |\n",
      "|Aujourd’hui est un jour comme un autre.                       |[neutral] |\n",
      "|Je me sens tellement triste en ce moment...                   |[sad]     |\n",
      "|J’ai peur de ce qui pourrait arriver demain.                  |[fear]    |\n",
      "|C’était incroyable, je ne m’y attendais pas du tout !         |[surprise]|\n",
      "|J’adore écouter de la musique, ça me rend heureux.            |[joy]     |\n",
      "|Je ne supporte pas d’être ignoré !                            |[anger]   |\n",
      "|Rien de spécial aujourd’hui, juste une journée normale.       |[neutral] |\n",
      "|Mon chat est mort hier, je suis dévasté.                      |[sad]     |\n",
      "|J’ai entendu un bruit étrange dans la maison, ça me fait peur.|[fear]    |\n",
      "+--------------------------------------------------------------+----------+\n",
      "\n"
     ]
    }
   ],
   "source": [
    "from pyspark.ml import Pipeline\n",
    "from sparknlp.base import DocumentAssembler\n",
    "from sparknlp.annotator import Tokenizer\n",
    "\n",
    "document_assembler = DocumentAssembler() \\\n",
    "    .setInputCol('text') \\\n",
    "    .setOutputCol('document')\n",
    "\n",
    "tokenizer = Tokenizer() \\\n",
    "    .setInputCols(['document']) \\\n",
    "    .setOutputCol('token')\n",
    "\n",
    "pipeline = Pipeline(stages=[\n",
    "    document_assembler,\n",
    "    tokenizer,\n",
    "    sequenceClassifier_loaded\n",
    "])\n",
    "\n",
    "example = spark.createDataFrame([\n",
    "    [\"Je n'arrive pas à croire ce qui vient de se passer !\"],\n",
    "    [\"Je suis tellement heureux aujourd’hui !\"],\n",
    "    [\"Ça m’énerve vraiment quand on me parle comme ça !\"],\n",
    "    [\"Aujourd’hui est un jour comme un autre.\"],\n",
    "    [\"Je me sens tellement triste en ce moment...\"],\n",
    "    [\"J’ai peur de ce qui pourrait arriver demain.\"],\n",
    "    [\"C’était incroyable, je ne m’y attendais pas du tout !\"],\n",
    "    [\"J’adore écouter de la musique, ça me rend heureux.\"],\n",
    "    [\"Je ne supporte pas d’être ignoré !\"],\n",
    "    [\"Rien de spécial aujourd’hui, juste une journée normale.\"],\n",
    "    [\"Mon chat est mort hier, je suis dévasté.\"],\n",
    "    [\"J’ai entendu un bruit étrange dans la maison, ça me fait peur.\"]\n",
    "]).toDF(\"text\")\n",
    "\n",
    "model = pipeline.fit(example)\n",
    "result = model.transform(example)\n",
    "\n",
    "result.select(\"text\", \"class.result\").show(truncate=False)"
   ]
  },
  {
   "cell_type": "markdown",
   "metadata": {
    "id": "u8j_SE0dgYG3"
   },
   "source": [
    "That's it! You can now go wild and use hundreds of `CamemBertForSequenceClassification` models from HuggingFace 🤗 in Spark NLP 🚀\n"
   ]
  }
 ],
 "metadata": {
  "colab": {
   "provenance": []
  },
  "kernelspec": {
   "display_name": "Python 3",
   "language": "python",
   "name": "python3"
  },
  "language_info": {
   "codemirror_mode": {
    "name": "ipython",
    "version": 3
   },
   "file_extension": ".py",
   "mimetype": "text/x-python",
   "name": "python",
   "nbconvert_exporter": "python",
   "pygments_lexer": "ipython3",
   "version": "3.10.12"
  }
 },
 "nbformat": 4,
 "nbformat_minor": 0
}
