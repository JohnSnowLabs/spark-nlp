{
 "cells": [
  {
   "cell_type": "markdown",
   "metadata": {
    "id": "_V5XcDCnVgSi"
   },
   "source": [
    "![JohnSnowLabs](https://sparknlp.org/assets/images/logo.png)\n",
    "\n",
    "[![Open In Colab](https://colab.research.google.com/assets/colab-badge.svg)](https://colab.research.google.com/github/JohnSnowLabs/spark-nlp/blob/master/examples/python/transformers/openvino/HuggingFace_OpenVINO_in_Spark_NLP_BertForSequenceClassification.ipynb)\n",
    "\n",
    "# Import OpenVINO BertForSequenceClassification   models from HuggingFace 🤗 into Spark NLP 🚀\n",
    "\n",
    "This notebook provides a detailed walkthrough on optimizing and exporting BertForSequenceClassification   models from HuggingFace for use in Spark NLP, leveraging the various tools provided in the [Intel OpenVINO toolkit](https://www.intel.com/content/www/us/en/developer/tools/openvino-toolkit/overview.html) ecosystem.\n",
    "\n",
    "Let's keep in mind a few things before we start 😊\n",
    "\n",
    "- OpenVINO support was introduced in  `Spark NLP 5.4.0`, enabling high performance inference for models. Please make sure you have upgraded to the latest Spark NLP release.\n",
    "- You can import models for BertForSequenceClassification   from BertForSequenceClassification   and they have to be in `Text Classification` category."
   ]
  },
  {
   "cell_type": "markdown",
   "metadata": {
    "id": "aghasVppVgSk"
   },
   "source": [
    "## 1. Export and Save the HuggingFace model"
   ]
  },
  {
   "cell_type": "markdown",
   "metadata": {
    "id": "be4HsTDMVgSk"
   },
   "source": [
    "- Let's install `transformers` and `openvino` packages with other dependencies. You don't need `openvino` to be installed for Spark NLP, however, we need it to load and save models from HuggingFace.\n",
    "- We lock `transformers` on version `4.48.3`. This doesn't mean it won't work with the future releases, but we wanted you to know which versions have been tested successfully."
   ]
  },
  {
   "cell_type": "code",
   "execution_count": null,
   "metadata": {
    "colab": {
     "base_uri": "https://localhost:8080/"
    },
    "id": "nMvJGEgRNKZw",
    "outputId": "0b645ee6-d4d7-4ab3-ed46-f770544550fd"
   },
   "outputs": [],
   "source": [
    "!pip install -q --upgrade transformers==4.48.3 optimum[openvino]"
   ]
  },
  {
   "cell_type": "markdown",
   "metadata": {
    "id": "vI7uz_6hVgSl"
   },
   "source": [
    "[Optimum Intel](https://github.com/huggingface/optimum-intel?tab=readme-ov-file#openvino) is the interface between the Transformers library and the various model optimization and acceleration tools provided by Intel. HuggingFace models loaded with optimum-intel are automatically optimized for OpenVINO, while being compatible with the Transformers API.\n",
    "- To load a HuggingFace model directly for inference/export, just replace the `AutoModelForXxx` class with the corresponding `OVModelForXxx` class. We can use this to import and export OpenVINO models with `from_pretrained` and `save_pretrained`.\n",
    "- By setting `export=True`, the source model is converted to OpenVINO IR format on the fly.\n",
    "- We'll use [nlptown/bert-base-multilingual-uncased-sentiment](https://huggingface.co/nlptown/bert-base-multilingual-uncased-sentiment) model from HuggingFace as an example and load it as a `OVModelForSequenceClassification`, representing an OpenVINO model.\n",
    "- In addition to the OVModelForSequenceClassification model, we also need to save the `AutoTokenizer`. This is the same for every model, these are assets (saved in `/assets`) needed for tokenization inside Spark NLP."
   ]
  },
  {
   "cell_type": "code",
   "execution_count": null,
   "metadata": {
    "colab": {
     "base_uri": "https://localhost:8080/",
     "height": 403,
     "referenced_widgets": [
      "a0483816f4e94188aeaf45ce28b27049",
      "4687243d7cb049498ee6e9d3378ac500",
      "270b5c7caacb4d2aad73504e5aef6235",
      "54d270358ecb496ebd07ce69c754b071",
      "3aa7749154f241cd9d0522031038ecc0",
      "3087e96dbad243668fd9724cfeb141a0",
      "7d14fd04881e4b7a9a9d88472ffbacf7",
      "ccde4d143df74d8a9624d1c46860e2b1",
      "4b4e3faa00e847aebf6467af0c5e4cd4",
      "7c5fb7682e914f7e958ebc53571fc361",
      "187aa7a63f194707a9a05c6cf50bb379",
      "34fd8e721c2e41a6891ce6360f8b1f5a",
      "67fc849d005046e8b891a7509f466c68",
      "a4db4b12a5934174899d0a88518b2dae",
      "0a09777cc56341368ef0b553ab45e2dc",
      "4b6c1bf8241248d7ae53e91dcfa2e054",
      "ef7b50b581a94665a54cfb7a6414194e",
      "4ef832601a4b45c6b56046bfcbcf0586",
      "6d35f44d88f14ed78dc4b8edb85e4afe",
      "1d5dfc5577774133be52583f46789290",
      "19c344ce2fb14dcc902c6498abe72576",
      "b509e637f69d43f8af8111b0d3c3f21e",
      "ce01ed2371b34c2895b6b420d6c691bc",
      "96855f4dfd1648129d4ed5f1361dc2f0",
      "898e1a25242f45728a945b58ec7982a9",
      "8446b8ed9d894c298d420e7fe6d2015d",
      "f718de2321734406bd8b8faf7e12ed43",
      "2874eb9483494280a0324d779888810c",
      "b690dd742a7e44048a7980635be09d63",
      "c5b8a73e04f9464ba12014106b63c94a",
      "3753551279724df7af6ce923faa65171",
      "c575420797a54c16be9231faeb0ca224",
      "edce3f2bf8d94bf3add5ece5fbd90fae",
      "f9943c7db523441193c0d6874d911dd5",
      "45a1fd04dcf64dbf9c6c7a1605d836e1",
      "3c89b4758e9347ca8618956f7b433635",
      "192b7a59f31945dd81457dccf1c5f340",
      "fc3a42b280b44e1f8497abc105b48025",
      "dd63f17d136c4a16b62705a26ca7b8fb",
      "dbc69c6847b24e0ba0d1ac2194f6de5c",
      "9b6761c118ca4b14b21ea599305f5581",
      "e659d331ef5e419c80d047b3ab81472d",
      "52022f17b0d945b2af1966e1bedfe0a0",
      "53d86daba7dd42a2988d9ef80aa962ac",
      "baec274f4941474f87bc7f9fc2ed6572",
      "9c5225c90d4040cbb6823d0e8675a6dd",
      "2ad5f56f34f8414ab872e3da068610b6",
      "05d51837a19244c997b3c7e4c9f1c325",
      "b16f93afc2014352962bdd6853b4ab88",
      "eb98e2599f5746eab1bca5b106a8ceac",
      "9e757011581d4eddabd819c14dffed63",
      "2428816d581146bcb27db59e47e83235",
      "821a0db2ac8d49ec80873dd090f824db",
      "03d8307bff5a49bc8352ead42ef93e29",
      "21eb0737b7c24a239834639d583523c5"
     ]
    },
    "id": "qF5Pp3DuVgSm",
    "outputId": "879741cf-feb9-4ce8-8493-59c4dce3b28e"
   },
   "outputs": [
    {
     "name": "stderr",
     "output_type": "stream",
     "text": [
      "No CUDA runtime is found, using CUDA_HOME='/usr/local/cuda'\n",
      "/usr/local/lib/python3.11/dist-packages/huggingface_hub/utils/_auth.py:94: UserWarning: \n",
      "The secret `HF_TOKEN` does not exist in your Colab secrets.\n",
      "To authenticate with the Hugging Face Hub, create a token in your settings tab (https://huggingface.co/settings/tokens), set it as secret in your Google Colab and restart your session.\n",
      "You will be able to reuse this secret in all of your notebooks.\n",
      "Please note that authentication is recommended but still optional to access public models or datasets.\n",
      "  warnings.warn(\n"
     ]
    },
    {
     "data": {
      "application/vnd.jupyter.widget-view+json": {
       "model_id": "a0483816f4e94188aeaf45ce28b27049",
       "version_major": 2,
       "version_minor": 0
      },
      "text/plain": [
       "config.json:   0%|          | 0.00/953 [00:00<?, ?B/s]"
      ]
     },
     "metadata": {},
     "output_type": "display_data"
    },
    {
     "data": {
      "application/vnd.jupyter.widget-view+json": {
       "model_id": "34fd8e721c2e41a6891ce6360f8b1f5a",
       "version_major": 2,
       "version_minor": 0
      },
      "text/plain": [
       "model.safetensors:   0%|          | 0.00/669M [00:00<?, ?B/s]"
      ]
     },
     "metadata": {},
     "output_type": "display_data"
    },
    {
     "data": {
      "application/vnd.jupyter.widget-view+json": {
       "model_id": "ce01ed2371b34c2895b6b420d6c691bc",
       "version_major": 2,
       "version_minor": 0
      },
      "text/plain": [
       "tokenizer_config.json:   0%|          | 0.00/39.0 [00:00<?, ?B/s]"
      ]
     },
     "metadata": {},
     "output_type": "display_data"
    },
    {
     "data": {
      "application/vnd.jupyter.widget-view+json": {
       "model_id": "f9943c7db523441193c0d6874d911dd5",
       "version_major": 2,
       "version_minor": 0
      },
      "text/plain": [
       "vocab.txt:   0%|          | 0.00/872k [00:00<?, ?B/s]"
      ]
     },
     "metadata": {},
     "output_type": "display_data"
    },
    {
     "data": {
      "application/vnd.jupyter.widget-view+json": {
       "model_id": "baec274f4941474f87bc7f9fc2ed6572",
       "version_major": 2,
       "version_minor": 0
      },
      "text/plain": [
       "special_tokens_map.json:   0%|          | 0.00/112 [00:00<?, ?B/s]"
      ]
     },
     "metadata": {},
     "output_type": "display_data"
    },
    {
     "name": "stderr",
     "output_type": "stream",
     "text": [
      "`loss_type=None` was set in the config but it is unrecognised.Using the default loss: `ForCausalLMLoss`.\n"
     ]
    },
    {
     "data": {
      "text/plain": [
       "('ov_models/nlptown/bert-base-multilingual-uncased-sentiment/tokenizer_config.json',\n",
       " 'ov_models/nlptown/bert-base-multilingual-uncased-sentiment/special_tokens_map.json',\n",
       " 'ov_models/nlptown/bert-base-multilingual-uncased-sentiment/vocab.txt',\n",
       " 'ov_models/nlptown/bert-base-multilingual-uncased-sentiment/added_tokens.json',\n",
       " 'ov_models/nlptown/bert-base-multilingual-uncased-sentiment/tokenizer.json')"
      ]
     },
     "execution_count": 2,
     "metadata": {},
     "output_type": "execute_result"
    }
   ],
   "source": [
    "from optimum.intel import OVModelForSequenceClassification\n",
    "from transformers import AutoTokenizer\n",
    "\n",
    "MODEL_NAME = \"nlptown/bert-base-multilingual-uncased-sentiment\"\n",
    "EXPORT_PATH = f\"ov_models/{MODEL_NAME}\"\n",
    "\n",
    "ov_model = OVModelForSequenceClassification.from_pretrained(MODEL_NAME, export=True)\n",
    "tokenizer = AutoTokenizer.from_pretrained(MODEL_NAME)\n",
    "\n",
    "ov_model.save_pretrained(EXPORT_PATH)\n",
    "tokenizer.save_pretrained(EXPORT_PATH)"
   ]
  },
  {
   "cell_type": "markdown",
   "metadata": {
    "id": "HDqBrWW04b8e"
   },
   "source": [
    "- We need to move `vocabs.txt` from the tokenizer to assets folder which Spark NLP will look for\n",
    "- We also need `labels` and their `ids` which is saved inside the model's config. We will save this inside `labels.txt`"
   ]
  },
  {
   "cell_type": "code",
   "execution_count": 3,
   "metadata": {
    "id": "Sx2v7JQtzDj4"
   },
   "outputs": [],
   "source": [
    "!mkdir {EXPORT_PATH}/assets\n",
    "\n",
    "labels = ov_model.config.id2label\n",
    "labels = [value for key,value in sorted(labels.items(), reverse=False)]\n",
    "\n",
    "with open(EXPORT_PATH + '/assets/labels.txt', 'w') as f:\n",
    "    f.write('\\n'.join(labels))\n",
    "\n",
    "!mv {EXPORT_PATH}/vocab.txt {EXPORT_PATH}/assets"
   ]
  },
  {
   "cell_type": "code",
   "execution_count": 6,
   "metadata": {
    "colab": {
     "base_uri": "https://localhost:8080/"
    },
    "id": "sKuwIZRN4hx5",
    "outputId": "2ce88911-dc6d-4820-8513-62ee689b725e"
   },
   "outputs": [
    {
     "name": "stdout",
     "output_type": "stream",
     "text": [
      "total 856\n",
      "-rw-r--r-- 1 root root     38 Jun 20 01:18 labels.txt\n",
      "-rw-r--r-- 1 root root 871891 Jun 20 01:16 vocab.txt\n"
     ]
    }
   ],
   "source": [
    "!ls -l {EXPORT_PATH}/assets"
   ]
  },
  {
   "cell_type": "markdown",
   "metadata": {
    "id": "W_uRVdWE4fYB"
   },
   "source": [
    "- Voila! We have our `vocab.txt` and `labels.txt` inside assets directory"
   ]
  },
  {
   "cell_type": "markdown",
   "metadata": {
    "id": "uCTbLIbMGlbg"
   },
   "source": [
    "## Import and Save BertForSequenceClassification in Spark NLP\n"
   ]
  },
  {
   "cell_type": "markdown",
   "metadata": {
    "id": "M8GBrdo7Glbg"
   },
   "source": [
    "- Install and set up Spark NLP in Google Colab\n",
    "- This example uses specific versions of `pyspark` and `spark-nlp` that have been tested with the transformer model to ensure everything runs smoothly."
   ]
  },
  {
   "cell_type": "code",
   "execution_count": 7,
   "metadata": {
    "colab": {
     "base_uri": "https://localhost:8080/"
    },
    "id": "PNwAdpB1Glbh",
    "outputId": "62d60196-0338-473a-9caa-8f2896634eaa"
   },
   "outputs": [
    {
     "name": "stdout",
     "output_type": "stream",
     "text": [
      "\u001b[2K     \u001b[90m━━━━━━━━━━━━━━━━━━━━━━━━━━━━━━━━━━━━━━━\u001b[0m \u001b[32m317.3/317.3 MB\u001b[0m \u001b[31m5.1 MB/s\u001b[0m eta \u001b[36m0:00:00\u001b[0m\n",
      "\u001b[?25h  Preparing metadata (setup.py) ... \u001b[?25l\u001b[?25hdone\n",
      "\u001b[2K   \u001b[90m━━━━━━━━━━━━━━━━━━━━━━━━━━━━━━━━━━━━━━━━\u001b[0m \u001b[32m635.7/635.7 kB\u001b[0m \u001b[31m29.6 MB/s\u001b[0m eta \u001b[36m0:00:00\u001b[0m\n",
      "\u001b[?25h  Building wheel for pyspark (setup.py) ... \u001b[?25l\u001b[?25hdone\n"
     ]
    }
   ],
   "source": [
    "!pip install -q pyspark==3.5.4 spark-nlp==5.5.3"
   ]
  },
  {
   "cell_type": "markdown",
   "metadata": {
    "id": "sNmBD9L-Glbh"
   },
   "source": [
    "Let's start Spark with Spark NLP included via our simple `start()` function"
   ]
  },
  {
   "cell_type": "code",
   "execution_count": 8,
   "metadata": {
    "colab": {
     "base_uri": "https://localhost:8080/"
    },
    "id": "2LahhdLuGlbh",
    "outputId": "573b5957-0afa-432d-c9b3-e1563e689793"
   },
   "outputs": [
    {
     "name": "stdout",
     "output_type": "stream",
     "text": [
      "Spark NLP version:  5.5.3\n",
      "Apache Spark version:  3.5.4\n"
     ]
    }
   ],
   "source": [
    "import sparknlp\n",
    "\n",
    "spark = sparknlp.start()\n",
    "\n",
    "print(\"Spark NLP version: \", sparknlp.version())\n",
    "print(\"Apache Spark version: \", spark.version)"
   ]
  },
  {
   "cell_type": "markdown",
   "metadata": {
    "id": "ZvThz8ANGlbh"
   },
   "source": [
    "- Let's use `loadSavedModel` functon in `BertForSequenceClassification` which allows us to load TensorFlow model in SavedModel format\n",
    "- Most params can be set later when you are loading this model in `BertForSequenceClassification` in runtime like `setMaxSentenceLength`, so don't worry what you are setting them now\n",
    "- `loadSavedModel` accepts two params, first is the path to the TF SavedModel. The second is the SparkSession that is `spark` variable we previously started via `sparknlp.start()`\n",
    "- NOTE: `loadSavedModel` accepts local paths in addition to distributed file systems such as `HDFS`, `S3`, `DBFS`, etc. This feature was introduced in Spark NLP 4.2.2 release. Keep in mind the best and recommended way to move/share/reuse Spark NLP models is to use `write.save` so you can use `.load()` from any file systems natively.\n"
   ]
  },
  {
   "cell_type": "code",
   "execution_count": 9,
   "metadata": {
    "id": "ZkcYV97tGlbi"
   },
   "outputs": [],
   "source": [
    "from sparknlp.annotator import BertForSequenceClassification\n",
    "\n",
    "sequenceClassifier = BertForSequenceClassification\\\n",
    "  .loadSavedModel(EXPORT_PATH, spark)\\\n",
    "  .setInputCols([\"document\",'token'])\\\n",
    "  .setOutputCol(\"class\")\\\n",
    "  .setCaseSensitive(False)\\\n",
    "  .setMaxSentenceLength(128)"
   ]
  },
  {
   "cell_type": "markdown",
   "metadata": {
    "id": "rWBkEoXBGlbi"
   },
   "source": [
    "- Let's save it on disk so it is easier to be moved around and also be used later via `.load` function"
   ]
  },
  {
   "cell_type": "code",
   "execution_count": 10,
   "metadata": {
    "id": "0YxLZ-N8Glbi"
   },
   "outputs": [],
   "source": [
    "sequenceClassifier.write().overwrite().save(\"./{}_spark_nlp_openvino\".format(MODEL_NAME))"
   ]
  },
  {
   "cell_type": "markdown",
   "metadata": {
    "id": "JWXo74wOGlbi"
   },
   "source": [
    "Let's clean up stuff we don't need anymore"
   ]
  },
  {
   "cell_type": "code",
   "execution_count": 11,
   "metadata": {
    "id": "UJ4VPjW_Glbi"
   },
   "outputs": [],
   "source": [
    "!rm -rf {EXPORT_PATH}"
   ]
  },
  {
   "cell_type": "markdown",
   "metadata": {
    "id": "nOsk67kHGlbi"
   },
   "source": [
    "Awesome 😎  !\n",
    "\n",
    "This is your BertForSequenceClassification model from HuggingFace 🤗  loaded and saved by Spark NLP 🚀"
   ]
  },
  {
   "cell_type": "code",
   "execution_count": 12,
   "metadata": {
    "colab": {
     "base_uri": "https://localhost:8080/"
    },
    "id": "DQ8WUr_fGlbj",
    "outputId": "21328aeb-b085-48cc-c276-f54a200448b3"
   },
   "outputs": [
    {
     "name": "stdout",
     "output_type": "stream",
     "text": [
      "total 654232\n",
      "-rw-r--r-- 1 root root 669919362 Jun 20 01:21 bert_classification_openvino\n",
      "drwxr-xr-x 4 root root      4096 Jun 20 01:21 fields\n",
      "drwxr-xr-x 2 root root      4096 Jun 20 01:21 metadata\n"
     ]
    }
   ],
   "source": [
    "! ls -l {MODEL_NAME}_spark_nlp_openvino"
   ]
  },
  {
   "cell_type": "markdown",
   "metadata": {
    "id": "0k5fjz9AGlbj"
   },
   "source": [
    "Now let's see how we can use it on other machines, clusters, or any place you wish to use your new and shiny BertForSequenceClassification model 😊"
   ]
  },
  {
   "cell_type": "code",
   "execution_count": 13,
   "metadata": {
    "id": "ZP5wmXkxGlbj"
   },
   "outputs": [],
   "source": [
    "sequenceClassifier_loaded = BertForSequenceClassification.load(\"./{}_spark_nlp_openvino\".format(MODEL_NAME))\\\n",
    "  .setInputCols([\"document\",'token'])\\\n",
    "  .setOutputCol(\"class\")"
   ]
  },
  {
   "cell_type": "markdown",
   "metadata": {
    "id": "BW5o88KXGlbj"
   },
   "source": [
    "You can see what labels were used to train this model via `getClasses` function:"
   ]
  },
  {
   "cell_type": "code",
   "execution_count": 14,
   "metadata": {
    "colab": {
     "base_uri": "https://localhost:8080/"
    },
    "id": "zDUrMbgGGlbj",
    "outputId": "dbad75e6-dbed-43bf-a8f1-ba0f99090fd6"
   },
   "outputs": [
    {
     "data": {
      "text/plain": [
       "['4 stars', '3 stars', '1 star', '2 stars', '5 stars']"
      ]
     },
     "execution_count": 14,
     "metadata": {},
     "output_type": "execute_result"
    }
   ],
   "source": [
    "sequenceClassifier_loaded.getClasses()"
   ]
  },
  {
   "cell_type": "markdown",
   "metadata": {
    "id": "dHvUDdZ8Glbj"
   },
   "source": [
    "This is how you can use your loaded classifier model in Spark NLP 🚀 pipeline:"
   ]
  },
  {
   "cell_type": "code",
   "execution_count": 17,
   "metadata": {
    "colab": {
     "base_uri": "https://localhost:8080/"
    },
    "id": "PDZ4J338Glbj",
    "outputId": "3ef83761-a4bb-418d-8f71-15c4a90f4b2e"
   },
   "outputs": [
    {
     "name": "stdout",
     "output_type": "stream",
     "text": [
      "+-----------------------------------------------------+--------+---------------+----------------+\n",
      "|text                                                 |language|expected_rating|predicted_rating|\n",
      "+-----------------------------------------------------+--------+---------------+----------------+\n",
      "|Absolutely terrible. The product broke after one day.|English |1 star         |1 star          |\n",
      "|Matige kwaliteit, ik had meer verwacht.              |Dutch   |2 stars        |2 stars         |\n",
      "|Ist in Ordnung, aber nichts Besonderes.              |German  |3 stars        |3 stars         |\n",
      "|Bon produit, je suis satisfait.                      |French  |4 stars        |4 stars         |\n",
      "|¡Fantástico! Totalmente recomendado.                 |Spanish |5 stars        |5 stars         |\n",
      "|Qualità scarsa, non soddisfatto.                     |Italian |2 stars        |2 stars         |\n",
      "+-----------------------------------------------------+--------+---------------+----------------+\n",
      "\n"
     ]
    }
   ],
   "source": [
    "from pyspark.ml import Pipeline\n",
    "from sparknlp.annotator import Tokenizer\n",
    "from sparknlp.base import DocumentAssembler\n",
    "from pyspark.sql.functions import col\n",
    "\n",
    "document_assembler = DocumentAssembler() \\\n",
    "    .setInputCol('text') \\\n",
    "    .setOutputCol('document')\n",
    "\n",
    "tokenizer = Tokenizer() \\\n",
    "    .setInputCols(['document']) \\\n",
    "    .setOutputCol('token')\n",
    "\n",
    "pipeline = Pipeline(stages=[\n",
    "    document_assembler,\n",
    "    tokenizer,\n",
    "    sequenceClassifier_loaded\n",
    "])\n",
    "\n",
    "example = spark.createDataFrame([\n",
    "    [\"Absolutely terrible. The product broke after one day.\", \"English\", \"1 star\"],\n",
    "    [\"Matige kwaliteit, ik had meer verwacht.\", \"Dutch\", \"2 stars\"],\n",
    "    [\"Ist in Ordnung, aber nichts Besonderes.\", \"German\", \"3 stars\"],\n",
    "    [\"Bon produit, je suis satisfait.\", \"French\", \"4 stars\"],\n",
    "    [\"¡Fantástico! Totalmente recomendado.\", \"Spanish\", \"5 stars\"],\n",
    "    [\"Qualità scarsa, non soddisfatto.\", \"Italian\", \"2 stars\"],\n",
    "], [\"text\", \"language\", \"expected_rating\"])\n",
    "\n",
    "model = pipeline.fit(example)\n",
    "result = model.transform(example)\n",
    "\n",
    "result.withColumn(\"predicted_rating\", col(\"class.result\")[0]) \\\n",
    "    .select(\"text\", \"language\", \"expected_rating\", \"predicted_rating\") \\\n",
    "    .show(truncate=False)"
   ]
  },
  {
   "cell_type": "markdown",
   "metadata": {
    "id": "V-FMlCwjGlbk"
   },
   "source": [
    "That's it! You can now go wild and use hundreds of `BertForSequenceClassification` models from HuggingFace 🤗 in Spark NLP 🚀\n"
   ]
  }
 ],
 "metadata": {
  "colab": {
   "provenance": []
  },
  "kernelspec": {
   "display_name": "Python 3",
   "language": "python",
   "name": "python3"
  },
  "language_info": {
   "codemirror_mode": {
    "name": "ipython",
    "version": 3
   },
   "file_extension": ".py",
   "mimetype": "text/x-python",
   "name": "python",
   "nbconvert_exporter": "python",
   "pygments_lexer": "ipython3",
   "version": "3.10.12"
  }
 },
 "nbformat": 4,
 "nbformat_minor": 0
}
