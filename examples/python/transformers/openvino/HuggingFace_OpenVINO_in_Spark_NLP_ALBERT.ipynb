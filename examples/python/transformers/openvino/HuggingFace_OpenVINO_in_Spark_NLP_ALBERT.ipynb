{
  "cells": [
    {
      "cell_type": "markdown",
      "metadata": {
        "id": "_V5XcDCnVgSi"
      },
      "source": [
        "![JohnSnowLabs](https://sparknlp.org/assets/images/logo.png)\n",
        "\n",
        "[![Open In Colab](https://colab.research.google.com/assets/colab-badge.svg)](https://colab.research.google.com/github/JohnSnowLabs/spark-nlp/blob/master/examples/python/transformers/openvino/HuggingFace_OpenVINO_in_Spark_NLP_ALBERT.ipynb)\n",
        "\n",
        "# Import OpenVINO ALBERT models from HuggingFace 🤗 into Spark NLP 🚀\n",
        "\n",
        "This notebook provides a detailed walkthrough on optimizing and exporting ALBERT models from HuggingFace for use in Spark NLP, leveraging the various tools provided in the [Intel OpenVINO toolkit](https://www.intel.com/content/www/us/en/developer/tools/openvino-toolkit/overview.html) ecosystem.\n",
        "\n",
        "Let's keep in mind a few things before we start 😊\n",
        "\n",
        "- OpenVINO support was introduced in  `Spark NLP 5.4.0`, enabling high performance inference for models. Please make sure you have upgraded to the latest Spark NLP release.\n",
        "- You can import models for ALBERT from ALBERT   and they have to be in `Fill Mask` category."
      ]
    },
    {
      "cell_type": "markdown",
      "metadata": {
        "id": "aghasVppVgSk"
      },
      "source": [
        "## 1. Export and Save the HuggingFace model"
      ]
    },
    {
      "cell_type": "markdown",
      "metadata": {
        "id": "be4HsTDMVgSk"
      },
      "source": [
        "- Let's install `transformers` and `openvino` packages with other dependencies. You don't need `openvino` to be installed for Spark NLP, however, we need it to load and save models from HuggingFace.\n",
        "- We lock `transformers` on version `4.48.3`. This doesn't mean it won't work with the future releases, but we wanted you to know which versions have been tested successfully."
      ]
    },
    {
      "cell_type": "code",
      "execution_count": null,
      "metadata": {
        "colab": {
          "base_uri": "https://localhost:8080/"
        },
        "id": "5f5lJxrO10te",
        "outputId": "06a25aaa-f4f0-4a7e-c314-a4b1981dbe98"
      },
      "outputs": [],
      "source": [
        "!pip install -q --upgrade transformers==4.48.3 optimum[openvino]"
      ]
    },
    {
      "cell_type": "markdown",
      "metadata": {
        "id": "vI7uz_6hVgSl"
      },
      "source": [
        "[Optimum Intel](https://github.com/huggingface/optimum-intel?tab=readme-ov-file#openvino) is the interface between the Transformers library and the various model optimization and acceleration tools provided by Intel. HuggingFace models loaded with optimum-intel are automatically optimized for OpenVINO, while being compatible with the Transformers API.\n",
        "- To load a HuggingFace model directly for inference/export, just replace the `AutoModelForXxx` class with the corresponding `OVModelForXxx` class. We can use this to import and export OpenVINO models with `from_pretrained` and `save_pretrained`.\n",
        "- By setting `export=True`, the source model is converted to OpenVINO IR format on the fly.\n",
        "- We'll use [albert-base-v2](https://huggingface.co/symanto/albert-base-v2) model from HuggingFace as an example and load it as a `OVModelForFeatureExtraction`, representing an OpenVINO model.\n",
        "- In addition to the OVModelForFeatureExtraction model, we also need to save the `AutoTokenizer`. This is the same for every model, these are assets (saved in `/assets`) needed for tokenization inside Spark NLP."
      ]
    },
    {
      "cell_type": "code",
      "execution_count": null,
      "metadata": {
        "colab": {
          "base_uri": "https://localhost:8080/",
          "height": 403,
          "referenced_widgets": [
            "05fa1fcd001848449ba373adee8ab077",
            "758f6672cb3b4a1ebd9d67bdf8fd0781",
            "9f44c02b664c4ed3956dcf6fe31a8879",
            "a9ca5ebc723341b2b81021ff239509fe",
            "d1f55d915fee4f54a5a6b1dfdd09f7d4",
            "3f20cc025dce4c28adcb5ed0f6fd7fd7",
            "cd8e3c5a265e4d85a6a2364c72ecea54",
            "4e837150d5134a7f9c9e3d41b244958e",
            "ef2ca4c34f8e42418a7c52ebb89e4bcf",
            "f827ccab0a4b4894b7f8a111f8208f57",
            "79fa306323304b7fa498008fa0ece935",
            "8ece322f9117427e840b8e1fa9fea8a2",
            "1b3cc7913790447189ca4adf89ef5cdf",
            "f073d2903f7749dd978dfbbb366d2a9c",
            "dcaa38c98f8e44c48476e84805828eb5",
            "95038592c3e344089a68e323386f052a",
            "0569c67bf25144a6bdb5d89beeb67624",
            "af34f704de3e48b095781c3b4a6a27c7",
            "21fa43aed54140008238fcb900fc1bf4",
            "ce5bff140f31438099bf8ea8dfb5abc8",
            "5e8c1992ebb94e4d9a0b6f027bd5e1da",
            "5d0fcc5b16504ee69da9575ad7eb1bd1",
            "3c16943d82e34fd9b0acaa4fc6037676",
            "d6d15f76d40149c092e4ee51757b214d",
            "2b1363f4c9f945cc991e8d6cfa6b0e75",
            "0966df47d61a4d0aa98a91462dc55fb1",
            "375485494fd946848f2a7207da955fda",
            "e38e1018347b44e080c2642847eab0b4",
            "6b6083f9947d4c359b287c9ac3459007",
            "d7a97b7d1f67412190097d0193d7e876",
            "6c0566c1e4ba4d0ba738609d3ff5c89a",
            "ed72b81a031943e9aa73e017eedcc88b",
            "a944f531d91849ebb819f83d9838cab5",
            "c2822c10be7044b9a8251db31cd1c379",
            "d6925c6103254e369f016746c9d4cab1",
            "d71f2a9333e545c49912a7931cc1578e",
            "62fff104d67944ebb9276135cea6e99f",
            "0c560e61c07a49aebaf33467010242fa",
            "560ae3373e184ab9b0314c3562f384ad",
            "a8ebd8cce68049f48a8f9dd6a9cd87ab",
            "061f8d4b373b45b7aa84bbdb68e09831",
            "d89bff3c9f1940e9be96157473d33d21",
            "03a64c5ee8154ad382bbc8bf2afa65c1",
            "cc57c1ece3644bafa6f5083e6543bf63",
            "959178df992f4eb0a2da73ac23fd63f8",
            "0412ba5e3342477ca3970aabd53b3aa2",
            "be697f69131b4709be8e6f9c1101a1ea",
            "a83188aaf1e94a3590db8e718d9393ff",
            "8034014ad5084cd0862360aa3571d0f0",
            "f8f7db2174954d07a1f4033d0e799562",
            "3800a0e31cea43579928abd5249edf05",
            "051fcf070bed4c638c6c8d906b601559",
            "f211ff979724435da30c3471c8d337c1",
            "5905d1c0321f49e7bdf14a669e47a4cd",
            "ab4e1b88f69242a3a6c10bef9a3bc004"
          ]
        },
        "id": "xVZ74xS9X5o-",
        "outputId": "c8d87278-341b-45de-8926-00fa91c9ccea"
      },
      "outputs": [
        {
          "name": "stderr",
          "output_type": "stream",
          "text": [
            "No CUDA runtime is found, using CUDA_HOME='/usr/local/cuda'\n",
            "/usr/local/lib/python3.11/dist-packages/huggingface_hub/utils/_auth.py:94: UserWarning: \n",
            "The secret `HF_TOKEN` does not exist in your Colab secrets.\n",
            "To authenticate with the Hugging Face Hub, create a token in your settings tab (https://huggingface.co/settings/tokens), set it as secret in your Google Colab and restart your session.\n",
            "You will be able to reuse this secret in all of your notebooks.\n",
            "Please note that authentication is recommended but still optional to access public models or datasets.\n",
            "  warnings.warn(\n"
          ]
        },
        {
          "data": {
            "application/vnd.jupyter.widget-view+json": {
              "model_id": "05fa1fcd001848449ba373adee8ab077",
              "version_major": 2,
              "version_minor": 0
            },
            "text/plain": [
              "config.json:   0%|          | 0.00/684 [00:00<?, ?B/s]"
            ]
          },
          "metadata": {},
          "output_type": "display_data"
        },
        {
          "data": {
            "application/vnd.jupyter.widget-view+json": {
              "model_id": "8ece322f9117427e840b8e1fa9fea8a2",
              "version_major": 2,
              "version_minor": 0
            },
            "text/plain": [
              "model.safetensors:   0%|          | 0.00/47.4M [00:00<?, ?B/s]"
            ]
          },
          "metadata": {},
          "output_type": "display_data"
        },
        {
          "data": {
            "application/vnd.jupyter.widget-view+json": {
              "model_id": "3c16943d82e34fd9b0acaa4fc6037676",
              "version_major": 2,
              "version_minor": 0
            },
            "text/plain": [
              "tokenizer_config.json:   0%|          | 0.00/25.0 [00:00<?, ?B/s]"
            ]
          },
          "metadata": {},
          "output_type": "display_data"
        },
        {
          "data": {
            "application/vnd.jupyter.widget-view+json": {
              "model_id": "c2822c10be7044b9a8251db31cd1c379",
              "version_major": 2,
              "version_minor": 0
            },
            "text/plain": [
              "spiece.model:   0%|          | 0.00/760k [00:00<?, ?B/s]"
            ]
          },
          "metadata": {},
          "output_type": "display_data"
        },
        {
          "data": {
            "application/vnd.jupyter.widget-view+json": {
              "model_id": "959178df992f4eb0a2da73ac23fd63f8",
              "version_major": 2,
              "version_minor": 0
            },
            "text/plain": [
              "tokenizer.json:   0%|          | 0.00/1.31M [00:00<?, ?B/s]"
            ]
          },
          "metadata": {},
          "output_type": "display_data"
        },
        {
          "name": "stderr",
          "output_type": "stream",
          "text": [
            "`loss_type=None` was set in the config but it is unrecognised.Using the default loss: `ForCausalLMLoss`.\n"
          ]
        },
        {
          "data": {
            "text/plain": [
              "('onnx_models/albert/albert-base-v2/tokenizer_config.json',\n",
              " 'onnx_models/albert/albert-base-v2/special_tokens_map.json',\n",
              " 'onnx_models/albert/albert-base-v2/spiece.model',\n",
              " 'onnx_models/albert/albert-base-v2/added_tokens.json',\n",
              " 'onnx_models/albert/albert-base-v2/tokenizer.json')"
            ]
          },
          "execution_count": 2,
          "metadata": {},
          "output_type": "execute_result"
        }
      ],
      "source": [
        "from transformers import AutoTokenizer\n",
        "from optimum.intel import OVModelForFeatureExtraction\n",
        "\n",
        "MODEL_NAME = \"albert/albert-base-v2\"\n",
        "EXPORT_PATH = f\"ov_models/{MODEL_NAME}\"\n",
        "\n",
        "ort_model = OVModelForFeatureExtraction.from_pretrained(MODEL_NAME, export=True)\n",
        "ort_model.save_pretrained(EXPORT_PATH)\n",
        "\n",
        "tokenizer = AutoTokenizer.from_pretrained(MODEL_NAME)\n",
        "tokenizer.save_pretrained(EXPORT_PATH)"
      ]
    },
    {
      "cell_type": "markdown",
      "metadata": {
        "id": "GE_pP4IAewEB"
      },
      "source": [
        "- As you can see, we need to move `spiece.model` from the tokenizer to `assets` folder which Spark NLP will look for"
      ]
    },
    {
      "cell_type": "code",
      "execution_count": 3,
      "metadata": {
        "id": "PRSIM73bb3M_"
      },
      "outputs": [],
      "source": [
        "!mkdir {EXPORT_PATH}/assets && mv {EXPORT_PATH}/spiece.model  {EXPORT_PATH}/assets"
      ]
    },
    {
      "cell_type": "markdown",
      "metadata": {
        "id": "SErh0mhoeyqu"
      },
      "source": [
        "Voila! We have our `spiece.model` inside assets directory"
      ]
    },
    {
      "cell_type": "markdown",
      "metadata": {
        "id": "Q-wGbJbqLRO9"
      },
      "source": [
        "## Import and Save ALBERT in Spark NLP\n",
        "\n",
        "- Install and set up Spark NLP in Google Colab\n",
        "- This example uses specific versions of `pyspark` and `spark-nlp` that have been tested with the transformer model to ensure everything runs smoothly."
      ]
    },
    {
      "cell_type": "code",
      "execution_count": 4,
      "metadata": {
        "colab": {
          "base_uri": "https://localhost:8080/"
        },
        "id": "bRAvyXTlLRO-",
        "outputId": "9ff28316-67d7-48b2-b08f-eed9fd34d08e"
      },
      "outputs": [
        {
          "name": "stdout",
          "output_type": "stream",
          "text": [
            "\u001b[2K     \u001b[90m━━━━━━━━━━━━━━━━━━━━━━━━━━━━━━━━━━━━━━━\u001b[0m \u001b[32m317.3/317.3 MB\u001b[0m \u001b[31m1.7 MB/s\u001b[0m eta \u001b[36m0:00:00\u001b[0m\n",
            "\u001b[?25h  Preparing metadata (setup.py) ... \u001b[?25l\u001b[?25hdone\n",
            "\u001b[2K   \u001b[90m━━━━━━━━━━━━━━━━━━━━━━━━━━━━━━━━━━━━━━━━\u001b[0m \u001b[32m635.7/635.7 kB\u001b[0m \u001b[31m29.2 MB/s\u001b[0m eta \u001b[36m0:00:00\u001b[0m\n",
            "\u001b[?25h  Building wheel for pyspark (setup.py) ... \u001b[?25l\u001b[?25hdone\n"
          ]
        }
      ],
      "source": [
        "!pip install -q pyspark==3.5.4 spark-nlp==5.5.3"
      ]
    },
    {
      "cell_type": "markdown",
      "metadata": {
        "id": "YhI-BPgdLRPE"
      },
      "source": [
        "Let's start Spark with Spark NLP included via our simple `start()` function"
      ]
    },
    {
      "cell_type": "code",
      "execution_count": 5,
      "metadata": {
        "colab": {
          "base_uri": "https://localhost:8080/"
        },
        "id": "Ps2e45cfLRPE",
        "outputId": "2441fb0c-73f2-4d8d-ed74-35f2e34aff30"
      },
      "outputs": [
        {
          "name": "stdout",
          "output_type": "stream",
          "text": [
            "Spark NLP version:  5.5.3\n",
            "Apache Spark version:  3.5.4\n"
          ]
        }
      ],
      "source": [
        "import sparknlp\n",
        "\n",
        "spark = sparknlp.start()\n",
        "\n",
        "print(\"Spark NLP version: \", sparknlp.version())\n",
        "print(\"Apache Spark version: \", spark.version)"
      ]
    },
    {
      "cell_type": "markdown",
      "metadata": {
        "id": "MRHtJMqdLRPF"
      },
      "source": [
        "- Let's use `loadSavedModel` functon in `AlbertEmbeddings` which allows us to load the ONNX model\n",
        "- Most params will be set automatically. They can also be set later after loading the model in `AlbertEmbeddings` during runtime, so don't worry about setting them now\n",
        "- `loadSavedModel` accepts two params, first is the path to the exported model. The second is the SparkSession that is `spark` variable we previously started via `sparknlp.start()`\n",
        "- `setStorageRef` is very important. When you are training a task like NER or any Text Classification, we use this reference to bound the trained model to this specific embeddings so you won't load a different embeddings by mistake and see terrible results 😊\n",
        "- It's up to you what you put in `setStorageRef` but it cannot be changed later on. We usually use the name of the model to be clear, but you can get creative if you want!\n",
        "- The `dimension` param is is purely cosmetic and won't change anything. It's mostly for you to know later via `.getDimension` what is the dimension of your model. So set this accordingly.\n",
        "- NOTE: `loadSavedModel` accepts local paths in addition to distributed file systems such as `HDFS`, `S3`, `DBFS`, etc. This feature was introduced in Spark NLP 4.2.2 release. Keep in mind the best and recommended way to move/share/reuse Spark NLP models is to use `write.save` so you can use `.load()` from any file systems natively.st and recommended way to move/share/reuse Spark NLP models is to use `write.save` so you can use `.load()` from any file systems natively.\n"
      ]
    },
    {
      "cell_type": "code",
      "execution_count": 6,
      "metadata": {
        "id": "-vmj2onWLRPF"
      },
      "outputs": [],
      "source": [
        "from sparknlp.annotator import AlbertEmbeddings\n",
        "\n",
        "albert = AlbertEmbeddings.loadSavedModel(f\"{EXPORT_PATH}\", spark)\\\n",
        "    .setInputCols([\"sentence\",'token'])\\\n",
        "    .setOutputCol(\"albert\")\\\n",
        "    .setCaseSensitive(True)\\\n",
        "    .setDimension(768)\\\n",
        "    .setStorageRef('albert_base_uncased')"
      ]
    },
    {
      "cell_type": "markdown",
      "metadata": {
        "id": "j2ywuVYLLRPF"
      },
      "source": [
        "- Let's save it on disk so it is easier to be moved around and also be used later via `.load` function"
      ]
    },
    {
      "cell_type": "code",
      "execution_count": 7,
      "metadata": {
        "id": "YbaKGbNeLRPF"
      },
      "outputs": [],
      "source": [
        "albert.write().overwrite().save(f\"{MODEL_NAME}_spark_nlp\")"
      ]
    },
    {
      "cell_type": "markdown",
      "metadata": {
        "id": "bhsYw1B8LRPG"
      },
      "source": [
        "Let's clean up stuff we don't need anymore"
      ]
    },
    {
      "cell_type": "code",
      "execution_count": 8,
      "metadata": {
        "id": "96uh1qWyLRPG"
      },
      "outputs": [],
      "source": [
        "!rm -rf {EXPORT_PATH}"
      ]
    },
    {
      "cell_type": "markdown",
      "metadata": {
        "id": "Jrc9W7VQLRPG"
      },
      "source": [
        "Awesome  😎 !\n",
        "\n",
        "This is your ONNX ALBERT model from HuggingFace 🤗  loaded and saved by Spark NLP 🚀"
      ]
    },
    {
      "cell_type": "code",
      "execution_count": 9,
      "metadata": {
        "colab": {
          "base_uri": "https://localhost:8080/"
        },
        "id": "yBcjQkDHLRPG",
        "outputId": "436104db-7d28-49f6-9116-a8c546cf34b5"
      },
      "outputs": [
        {
          "name": "stdout",
          "output_type": "stream",
          "text": [
            "total 44436\n",
            "-rw-r--r-- 1 root root 44735339 Jun 18 00:43 albert_openvino\n",
            "-rw-r--r-- 1 root root   760289 Jun 18 00:43 albert_spp\n",
            "drwxr-xr-x 2 root root     4096 Jun 18 00:43 metadata\n"
          ]
        }
      ],
      "source": [
        "! ls -l {MODEL_NAME}_spark_nlp"
      ]
    },
    {
      "cell_type": "markdown",
      "metadata": {
        "id": "Lnn2nTC1LRPH"
      },
      "source": [
        "Now let's see how we can use it on other machines, clusters, or any place you wish to use your new and shiny ALBERT model 😊"
      ]
    },
    {
      "cell_type": "code",
      "execution_count": 12,
      "metadata": {
        "colab": {
          "base_uri": "https://localhost:8080/"
        },
        "id": "ZuBXuPXMLRPH",
        "outputId": "c29dc855-66ef-44b5-fee2-39b9d6435397"
      },
      "outputs": [
        {
          "name": "stdout",
          "output_type": "stream",
          "text": [
            "+--------------------+\n",
            "|          embeddings|\n",
            "+--------------------+\n",
            "|[-0.67581135, -0....|\n",
            "|[-0.8178223, -1.7...|\n",
            "|[-0.83047134, -1....|\n",
            "|[-0.60080826, -1....|\n",
            "|[0.059837665, -1....|\n",
            "|[-0.7051269, -0.8...|\n",
            "|[-0.5015423, -1.0...|\n",
            "|[1.5703655, -0.66...|\n",
            "|[0.4195422, -1.00...|\n",
            "|[0.17391062, -1.7...|\n",
            "|[0.9206914, -0.32...|\n",
            "|[1.087201, -0.070...|\n",
            "|[1.0310594, 0.092...|\n",
            "|[-1.1156062, -1.2...|\n",
            "|[-1.4811015, 0.36...|\n",
            "|[-1.1947972, -0.2...|\n",
            "|[1.3548716, -1.10...|\n",
            "|[-0.5084473, 0.03...|\n",
            "|[-1.2231883, -0.7...|\n",
            "|[0.6835329, -1.15...|\n",
            "+--------------------+\n",
            "only showing top 20 rows\n",
            "\n"
          ]
        }
      ],
      "source": [
        "from sparknlp.base import DocumentAssembler\n",
        "from sparknlp.annotator import Tokenizer\n",
        "from pyspark.ml import Pipeline\n",
        "\n",
        "document_assembler = DocumentAssembler()\\\n",
        "    .setInputCol(\"text\")\\\n",
        "    .setOutputCol(\"document\")\n",
        "\n",
        "tokenizer = Tokenizer()\\\n",
        "    .setInputCols([\"document\"])\\\n",
        "    .setOutputCol(\"token\")\n",
        "\n",
        "albert_loaded = AlbertEmbeddings.load(f\"{MODEL_NAME}_spark_nlp\")\\\n",
        "    .setInputCols([\"document\", \"token\"])\\\n",
        "    .setOutputCol(\"albert\")\n",
        "\n",
        "pipeline = Pipeline(stages=[\n",
        "    document_assembler,\n",
        "    tokenizer,\n",
        "    albert_loaded\n",
        "])\n",
        "\n",
        "data = spark.createDataFrame([[\n",
        "    \"William Henry Gates III (born October 28, 1955) is an American business magnate, software developer, investor, and philanthropist.\"\n",
        "]]).toDF(\"text\")\n",
        "\n",
        "model = pipeline.fit(data)\n",
        "result = model.transform(data)\n",
        "\n",
        "result.selectExpr(\"explode(albert.embeddings) as embeddings\").show()"
      ]
    },
    {
      "cell_type": "markdown",
      "metadata": {
        "id": "PW6Qc0TcLRPH"
      },
      "source": [
        "That's it! You can now go wild and use hundreds of ALBERT models from HuggingFace 🤗 in Spark NLP 🚀\n"
      ]
    }
  ],
  "metadata": {
    "colab": {
      "provenance": []
    },
    "kernelspec": {
      "display_name": "Python 3",
      "language": "python",
      "name": "python3"
    },
    "language_info": {
      "codemirror_mode": {
        "name": "ipython",
        "version": 3
      },
      "file_extension": ".py",
      "mimetype": "text/x-python",
      "name": "python",
      "nbconvert_exporter": "python",
      "pygments_lexer": "ipython3",
      "version": "3.10.12"
    }
  },
  "nbformat": 4,
  "nbformat_minor": 0
}
