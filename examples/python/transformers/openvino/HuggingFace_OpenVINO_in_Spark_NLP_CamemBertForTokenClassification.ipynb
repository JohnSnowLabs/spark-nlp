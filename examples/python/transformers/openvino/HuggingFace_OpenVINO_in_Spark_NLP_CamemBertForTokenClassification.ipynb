{
 "cells": [
  {
   "cell_type": "markdown",
   "metadata": {
    "id": "_V5XcDCnVgSi"
   },
   "source": [
    "![JohnSnowLabs](https://sparknlp.org/assets/images/logo.png)\n",
    "\n",
    "[![Open In Colab](https://colab.research.google.com/assets/colab-badge.svg)](https://colab.research.google.com/github/JohnSnowLabs/spark-nlp/blob/master/examples/python/transformers/openvino/HuggingFace_OpenVINO_in_Spark_NLP_CamemBertForTokenClassification.ipynb)\n",
    "\n",
    "# Import OpenVINO CamemBertForTokenClassification  models from HuggingFace 🤗 into Spark NLP 🚀\n",
    "\n",
    "This notebook provides a detailed walkthrough on optimizing and exporting CamemBertForTokenClassification  models from HuggingFace for use in Spark NLP, leveraging the various tools provided in the [Intel OpenVINO toolkit](https://www.intel.com/content/www/us/en/developer/tools/openvino-toolkit/overview.html) ecosystem.\n",
    "\n",
    "Let's keep in mind a few things before we start 😊\n",
    "\n",
    "- OpenVINO support was introduced in  `Spark NLP 5.4.0`, enabling high performance inference for models. Please make sure you have upgraded to the latest Spark NLP release.\n",
    "- You can import models for CamemBertForTokenClassification from CamemBertForTokenClassification and they have to be in `Token Classification` category."
   ]
  },
  {
   "cell_type": "markdown",
   "metadata": {
    "id": "aghasVppVgSk"
   },
   "source": [
    "## 1. Export and Save the HuggingFace model"
   ]
  },
  {
   "cell_type": "markdown",
   "metadata": {
    "id": "be4HsTDMVgSk"
   },
   "source": [
    "- Let's install `transformers` and `openvino` packages with other dependencies. You don't need `openvino` to be installed for Spark NLP, however, we need it to load and save models from HuggingFace.\n",
    "- We lock `transformers` on version `4.48.3`. This doesn't mean it won't work with the future releases, but we wanted you to know which versions have been tested successfully."
   ]
  },
  {
   "cell_type": "code",
   "execution_count": null,
   "metadata": {
    "colab": {
     "base_uri": "https://localhost:8080/"
    },
    "id": "PhNJZd2ST22F",
    "outputId": "49c95f9c-8af7-4b3d-8906-116607872d82"
   },
   "outputs": [],
   "source": [
    "!pip install -q --upgrade transformers==4.48.3 optimum[openvino]"
   ]
  },
  {
   "cell_type": "markdown",
   "metadata": {
    "id": "vI7uz_6hVgSl"
   },
   "source": [
    "[Optimum Intel](https://github.com/huggingface/optimum-intel?tab=readme-ov-file#openvino) is the interface between the Transformers library and the various model optimization and acceleration tools provided by Intel. HuggingFace models loaded with optimum-intel are automatically optimized for OpenVINO, while being compatible with the Transformers API.\n",
    "- To load a HuggingFace model directly for inference/export, just replace the `AutoModelForXxx` class with the corresponding `OVModelForXxx` class. We can use this to import and export OpenVINO models with `from_pretrained` and `save_pretrained`.\n",
    "- By setting `export=True`, the source model is converted to OpenVINO IR format on the fly.\n",
    "- We'll use [Jean-Baptiste/camembert-ner](https://huggingface.co/Jean-Baptiste/camembert-ner) model from HuggingFace as an example and load it as a `OVModelForTokenClassification`, representing an OpenVINO model.\n",
    "- In addition to the OVModelForTokenClassification model, we also need to save the `AutoTokenizer`. This is the same for every model, these are assets (saved in `/assets`) needed for tokenization inside Spark NLP."
   ]
  },
  {
   "cell_type": "code",
   "execution_count": null,
   "metadata": {
    "colab": {
     "base_uri": "https://localhost:8080/",
     "height": 385,
     "referenced_widgets": [
      "49f1bf795b324df8adfa129d61887d5d",
      "00e5d83d390a494693d7e389c83da677",
      "ccb74ad75b7a431c88464ac427fc724b",
      "fb327653bb5e402d84cf324ebfd39177",
      "5f491e807fc04630baf0fb9b20771c52",
      "8448a45f63054edc8cceef6c1ae2780c",
      "b953989401d94e4f964c0f1e2889c2d5",
      "46ec8d52685c4534959444889f6b201a",
      "4c05f4f6f61c41988c5e0a55ee2ace46",
      "5b004cbfef22415a9a5381287f68f8ee",
      "b0005b8e855e449c9783eac50fe612f5",
      "563194ff1e4e416ab454b5a33b6fff6b",
      "87ab8d311908478390ae94ce326be9a8",
      "62979e96a37c4ba9b19964b3251460f3",
      "6205ef6a7a944bfdb83395e8ca071c7d",
      "c6e431279b65476db37b8730d3f54fc9",
      "e34aa7b32e0a4776b696c689d1125c0f",
      "52ffbccb6ff24297a98aad2485893d63",
      "f1ff73d8694449828aa9bd7142c6b9ff",
      "7d0a1df824c64099b778da32a2a26c26",
      "1015496a8ae24b5280670b1ac625c140",
      "5bd4ae1d71514761bb5074284373c7ff",
      "c92acec597c14a97b2867a92c77b5233",
      "f293d49c52a648cda6e6bb7565151919",
      "d4ae09d9759948729e166e4f33de70b0",
      "2d49a08e68e44d77bd896ec50319cbb1",
      "c53bcd907beb420b83a5549cf1111eca",
      "9ebdc8dafe2943d8a8de1ea81c9c65f9",
      "0166f2f938a64c3ebb0d54fc020b0d70",
      "767d2c4ba09742389a9eda34c42d4433",
      "dd8481ac8cc14ad0a85014ec6526dedc",
      "d7899799dcf74280a0ecaf8fc27434b1",
      "7888bb2f4bed47d6a43c5fc03e3f9383",
      "0b1b08c8425340978012fc861332b7a7",
      "27bfbf40a0ae40cdbd995ce08879c29d",
      "d2d1cee041de4ac3bc7c5badc982172a",
      "a242fb43945749f0a7d7f3c0ef1d05c9",
      "debcea94a13d410fa43f3322fe7c07dd",
      "e20865b111264a62a743e0b56a62e886",
      "4fbb0810123d4feb9caddcea74796b29",
      "6b161251b24d4b85ab26cc6e854eec01",
      "6d75eeda688a4485b26593772b5a67af",
      "321b82270af14bccb6cc54da586e8f33",
      "1abe5dbbb05c44c18026524b2f4d7640",
      "4e908bfda12f4ccfb831b51c629b9145",
      "d4e6f89aba2841f694fe54810d2c9c61",
      "2cdcd1e372ef43a6ae5c2d2af2924714",
      "04295319fc484b4094ac75ef491ff98e",
      "95bb58e188f74f31822beadc60146733",
      "6049369384444630ba1c7231b54a0f0f",
      "4bd00063851a4d7a846ce66cc3ec7853",
      "5d983fc0f4694c029c61182f7fb759a7",
      "c45410f464a2425f9810f04231f290c3",
      "93210198811446d48bb488be1fef8408",
      "62a024dfcff84496bfec912f69b0e041"
     ]
    },
    "id": "-KTK29xyZEZy",
    "outputId": "4cef4efe-fbca-4730-cf98-5b858a443f4b"
   },
   "outputs": [
    {
     "name": "stderr",
     "output_type": "stream",
     "text": [
      "No CUDA runtime is found, using CUDA_HOME='/usr/local/cuda'\n",
      "/usr/local/lib/python3.11/dist-packages/huggingface_hub/utils/_auth.py:94: UserWarning: \n",
      "The secret `HF_TOKEN` does not exist in your Colab secrets.\n",
      "To authenticate with the Hugging Face Hub, create a token in your settings tab (https://huggingface.co/settings/tokens), set it as secret in your Google Colab and restart your session.\n",
      "You will be able to reuse this secret in all of your notebooks.\n",
      "Please note that authentication is recommended but still optional to access public models or datasets.\n",
      "  warnings.warn(\n"
     ]
    },
    {
     "data": {
      "application/vnd.jupyter.widget-view+json": {
       "model_id": "49f1bf795b324df8adfa129d61887d5d",
       "version_major": 2,
       "version_minor": 0
      },
      "text/plain": [
       "config.json:   0%|          | 0.00/892 [00:00<?, ?B/s]"
      ]
     },
     "metadata": {},
     "output_type": "display_data"
    },
    {
     "data": {
      "application/vnd.jupyter.widget-view+json": {
       "model_id": "563194ff1e4e416ab454b5a33b6fff6b",
       "version_major": 2,
       "version_minor": 0
      },
      "text/plain": [
       "model.safetensors:   0%|          | 0.00/440M [00:00<?, ?B/s]"
      ]
     },
     "metadata": {},
     "output_type": "display_data"
    },
    {
     "data": {
      "application/vnd.jupyter.widget-view+json": {
       "model_id": "c92acec597c14a97b2867a92c77b5233",
       "version_major": 2,
       "version_minor": 0
      },
      "text/plain": [
       "tokenizer_config.json:   0%|          | 0.00/269 [00:00<?, ?B/s]"
      ]
     },
     "metadata": {},
     "output_type": "display_data"
    },
    {
     "data": {
      "application/vnd.jupyter.widget-view+json": {
       "model_id": "0b1b08c8425340978012fc861332b7a7",
       "version_major": 2,
       "version_minor": 0
      },
      "text/plain": [
       "sentencepiece.bpe.model:   0%|          | 0.00/811k [00:00<?, ?B/s]"
      ]
     },
     "metadata": {},
     "output_type": "display_data"
    },
    {
     "data": {
      "application/vnd.jupyter.widget-view+json": {
       "model_id": "4e908bfda12f4ccfb831b51c629b9145",
       "version_major": 2,
       "version_minor": 0
      },
      "text/plain": [
       "special_tokens_map.json:   0%|          | 0.00/210 [00:00<?, ?B/s]"
      ]
     },
     "metadata": {},
     "output_type": "display_data"
    },
    {
     "name": "stderr",
     "output_type": "stream",
     "text": [
      "`loss_type=None` was set in the config but it is unrecognised.Using the default loss: `ForCausalLMLoss`.\n"
     ]
    },
    {
     "data": {
      "text/plain": [
       "('onnx_models/Jean-Baptiste/camembert-ner/tokenizer_config.json',\n",
       " 'onnx_models/Jean-Baptiste/camembert-ner/special_tokens_map.json',\n",
       " 'onnx_models/Jean-Baptiste/camembert-ner/sentencepiece.bpe.model',\n",
       " 'onnx_models/Jean-Baptiste/camembert-ner/added_tokens.json')"
      ]
     },
     "execution_count": 4,
     "metadata": {},
     "output_type": "execute_result"
    }
   ],
   "source": [
    "from transformers import CamembertTokenizer\n",
    "from optimum.intel import OVModelForTokenClassification\n",
    "\n",
    "MODEL_NAME = 'Jean-Baptiste/camembert-ner'\n",
    "EXPORT_PATH = f\"ov_models/{MODEL_NAME}\"\n",
    "\n",
    "ov_model = OVModelForTokenClassification.from_pretrained(MODEL_NAME, export=True)\n",
    "ov_model.save_pretrained(EXPORT_PATH)\n",
    "\n",
    "tokenizer = CamembertTokenizer.from_pretrained(MODEL_NAME)\n",
    "tokenizer.save_pretrained(EXPORT_PATH)"
   ]
  },
  {
   "cell_type": "markdown",
   "metadata": {
    "id": "6q01_1AjZ81y"
   },
   "source": [
    "Let's have a look inside these two directories and see what we are dealing with:"
   ]
  },
  {
   "cell_type": "code",
   "execution_count": 6,
   "metadata": {
    "colab": {
     "base_uri": "https://localhost:8080/"
    },
    "id": "EJotOH3TZ12n",
    "outputId": "f31f980b-d15b-4f16-db78-4d4dd62a553d"
   },
   "outputs": [
    {
     "name": "stdout",
     "output_type": "stream",
     "text": [
      "total 430220\n",
      "-rw-r--r-- 1 root root        22 Jun 21 02:52 added_tokens.json\n",
      "drwxr-xr-x 2 root root      4096 Jun 21 02:52 assets\n",
      "-rw-r--r-- 1 root root       936 Jun 21 02:52 config.json\n",
      "-rw-r--r-- 1 root root 440145092 Jun 21 02:52 openvino_model.bin\n",
      "-rw-r--r-- 1 root root    374491 Jun 21 02:52 openvino_model.xml\n",
      "-rw-r--r-- 1 root root       354 Jun 21 02:52 special_tokens_map.json\n",
      "-rw-r--r-- 1 root root      1794 Jun 21 02:52 tokenizer_config.json\n"
     ]
    }
   ],
   "source": [
    "!ls -l {EXPORT_PATH}"
   ]
  },
  {
   "cell_type": "markdown",
   "metadata": {
    "id": "wlqyL6iwZ6kh"
   },
   "source": [
    "- We need to move `sentencepiece.bpe.model` from the tokenizer to assets folder which Spark NLP will look for\n",
    "- In addition to vocabs, we also need `labels` and their `ids` which is saved inside the model's config. We will save this inside `labels.txt`"
   ]
  },
  {
   "cell_type": "code",
   "execution_count": 5,
   "metadata": {
    "id": "hGCAqmK7Y-9e"
   },
   "outputs": [],
   "source": [
    "!mkdir -p {EXPORT_PATH}/assets\n",
    "\n",
    "labels = ov_model.config.id2label\n",
    "labels = [value for key,value in sorted(labels.items(), reverse=False)]\n",
    "\n",
    "with open(EXPORT_PATH + '/assets/labels.txt', 'w') as f:\n",
    "    f.write('\\n'.join(labels))\n",
    "\n",
    "!mv {EXPORT_PATH}/sentencepiece.bpe.model {EXPORT_PATH}/assets/"
   ]
  },
  {
   "cell_type": "code",
   "execution_count": 7,
   "metadata": {
    "colab": {
     "base_uri": "https://localhost:8080/"
    },
    "id": "8C6SSjNBZ4BA",
    "outputId": "0707f79c-f173-48fc-8a14-c92e15fd531a"
   },
   "outputs": [
    {
     "name": "stdout",
     "output_type": "stream",
     "text": [
      "onnx_models/Jean-Baptiste/camembert-ner:\n",
      "total 430220\n",
      "-rw-r--r-- 1 root root        22 Jun 21 02:52 added_tokens.json\n",
      "drwxr-xr-x 2 root root      4096 Jun 21 02:52 assets\n",
      "-rw-r--r-- 1 root root       936 Jun 21 02:52 config.json\n",
      "-rw-r--r-- 1 root root 440145092 Jun 21 02:52 openvino_model.bin\n",
      "-rw-r--r-- 1 root root    374491 Jun 21 02:52 openvino_model.xml\n",
      "-rw-r--r-- 1 root root       354 Jun 21 02:52 special_tokens_map.json\n",
      "-rw-r--r-- 1 root root      1794 Jun 21 02:52 tokenizer_config.json\n",
      "\n",
      "onnx_models/Jean-Baptiste/camembert-ner/assets:\n",
      "total 796\n",
      "-rw-r--r-- 1 root root     26 Jun 21 02:52 labels.txt\n",
      "-rw-r--r-- 1 root root 810912 Jun 21 02:52 sentencepiece.bpe.model\n"
     ]
    }
   ],
   "source": [
    "!ls -lR {EXPORT_PATH}"
   ]
  },
  {
   "cell_type": "markdown",
   "metadata": {
    "id": "j32xo8NvaAKP"
   },
   "source": [
    "- Voila! We have our `sentencepiece.bpe.model` and `labels.txt` inside assets directory"
   ]
  },
  {
   "cell_type": "markdown",
   "metadata": {
    "id": "NySQijMkijcf"
   },
   "source": [
    "## Import and Save CamemBertForTokenClassification in Spark NLP\n"
   ]
  },
  {
   "cell_type": "markdown",
   "metadata": {
    "id": "_oOaqmCtijcf"
   },
   "source": [
    "- Let's install and setup Spark NLP in Google Colab.\n",
    "- For this example, we'll use specific versions of `pyspark` and `spark-nlp` that we've already tested with this transformer model to make sure everything runs smoothly."
   ]
  },
  {
   "cell_type": "code",
   "execution_count": 8,
   "metadata": {
    "colab": {
     "base_uri": "https://localhost:8080/"
    },
    "id": "_tFWz1H1ijcf",
    "outputId": "405e337a-e92e-40c2-d6c9-40235f621e53"
   },
   "outputs": [
    {
     "name": "stdout",
     "output_type": "stream",
     "text": [
      "\u001b[2K     \u001b[90m━━━━━━━━━━━━━━━━━━━━━━━━━━━━━━━━━━━━━━━\u001b[0m \u001b[32m317.3/317.3 MB\u001b[0m \u001b[31m1.5 MB/s\u001b[0m eta \u001b[36m0:00:00\u001b[0m\n",
      "\u001b[?25h  Preparing metadata (setup.py) ... \u001b[?25l\u001b[?25hdone\n",
      "\u001b[2K   \u001b[90m━━━━━━━━━━━━━━━━━━━━━━━━━━━━━━━━━━━━━━━━\u001b[0m \u001b[32m635.7/635.7 kB\u001b[0m \u001b[31m5.5 MB/s\u001b[0m eta \u001b[36m0:00:00\u001b[0m\n",
      "\u001b[?25h  Building wheel for pyspark (setup.py) ... \u001b[?25l\u001b[?25hdone\n"
     ]
    }
   ],
   "source": [
    "!pip install -q pyspark==3.5.4 spark-nlp==5.5.3"
   ]
  },
  {
   "cell_type": "markdown",
   "metadata": {
    "id": "egViPt5dijcf"
   },
   "source": [
    "Let's start Spark with Spark NLP included via our simple `start()` function"
   ]
  },
  {
   "cell_type": "code",
   "execution_count": 9,
   "metadata": {
    "colab": {
     "base_uri": "https://localhost:8080/"
    },
    "id": "YHdsyve1ijcf",
    "outputId": "d988301c-ca2c-40fc-c6ca-a7114f6947ae"
   },
   "outputs": [
    {
     "name": "stdout",
     "output_type": "stream",
     "text": [
      "Spark NLP version: 5.5.3\n",
      "Apache Spark version: 3.5.4\n"
     ]
    }
   ],
   "source": [
    "import sparknlp\n",
    "\n",
    "spark = sparknlp.start()\n",
    "\n",
    "print(\"Spark NLP version: {}\".format(sparknlp.version()))\n",
    "print(\"Apache Spark version: {}\".format(spark.version))"
   ]
  },
  {
   "cell_type": "markdown",
   "metadata": {
    "id": "_i0jnw_fijcf"
   },
   "source": [
    "- Let's use `loadSavedModel` functon in `CamemBertForTokenClassification` which allows us to load TensorFlow model in SavedModel format\n",
    "- Most params can be set later when you are loading this model in `CamemBertForTokenClassification` in runtime like `setMaxSentenceLength`, so don't worry what you are setting them now\n",
    "- `loadSavedModel` accepts two params, first is the path to the TF SavedModel. The second is the SparkSession that is `spark` variable we previously started via `sparknlp.start()`\n",
    "- NOTE: `loadSavedModel` accepts local paths in addition to distributed file systems such as `HDFS`, `S3`, `DBFS`, etc. This feature was introduced in Spark NLP 4.2.2 release. Keep in mind the best and recommended way to move/share/reuse Spark NLP models is to use `write.save` so you can use `.load()` from any file systems natively."
   ]
  },
  {
   "cell_type": "code",
   "execution_count": 10,
   "metadata": {
    "id": "YPdiwbZ_ijcf"
   },
   "outputs": [],
   "source": [
    "from sparknlp.annotator import CamemBertForTokenClassification\n",
    "\n",
    "tokenClassifier = CamemBertForTokenClassification.loadSavedModel(\n",
    "     f\"{EXPORT_PATH}\",\n",
    "     spark\n",
    " )\\\n",
    "  .setInputCols([\"document\",'token'])\\\n",
    "  .setOutputCol(\"ner\")\\\n",
    "  .setCaseSensitive(True)\\\n",
    "  .setMaxSentenceLength(128)"
   ]
  },
  {
   "cell_type": "markdown",
   "metadata": {
    "id": "ebJdNwT5ijcg"
   },
   "source": [
    "- Let's save it on disk so it is easier to be moved around and also be used later via `.load` function"
   ]
  },
  {
   "cell_type": "code",
   "execution_count": 11,
   "metadata": {
    "id": "JMw8tLgZijcg"
   },
   "outputs": [],
   "source": [
    "tokenClassifier.write().overwrite().save(\"./{}_spark_nlp_openvino\".format(EXPORT_PATH))"
   ]
  },
  {
   "cell_type": "markdown",
   "metadata": {
    "id": "em7Gd4kNijcg"
   },
   "source": [
    "Let's clean up stuff we don't need anymore"
   ]
  },
  {
   "cell_type": "code",
   "execution_count": 12,
   "metadata": {
    "id": "Dqn4EeDnijcg"
   },
   "outputs": [],
   "source": [
    "!rm -rf {EXPORT_PATH}"
   ]
  },
  {
   "cell_type": "markdown",
   "metadata": {
    "id": "JGhE77gBijcg"
   },
   "source": [
    "Awesome 😎  !\n",
    "\n",
    "This is your CamemBertForTokenClassification model from HuggingFace 🤗  loaded and saved by Spark NLP 🚀"
   ]
  },
  {
   "cell_type": "code",
   "execution_count": 13,
   "metadata": {
    "colab": {
     "base_uri": "https://localhost:8080/"
    },
    "id": "G5M56aTNijcg",
    "outputId": "feb66587-9bce-45a6-dabd-62b75af84176"
   },
   "outputs": [
    {
     "name": "stdout",
     "output_type": "stream",
     "text": [
      "total 431068\n",
      "-rw-r--r-- 1 root root 440587086 Jun 21 02:57 camembert_classification_openvino\n",
      "-rw-r--r-- 1 root root    810912 Jun 21 02:57 camembert_spp\n",
      "drwxr-xr-x 3 root root      4096 Jun 21 02:57 fields\n",
      "drwxr-xr-x 2 root root      4096 Jun 21 02:57 metadata\n"
     ]
    }
   ],
   "source": [
    "! ls -l {EXPORT_PATH}_spark_nlp_openvino"
   ]
  },
  {
   "cell_type": "markdown",
   "metadata": {
    "id": "D_7AEXz5ijcg"
   },
   "source": [
    "Now let's see how we can use it on other machines, clusters, or any place you wish to use your new and shiny CamemBertForTokenClassification model 😊"
   ]
  },
  {
   "cell_type": "code",
   "execution_count": 14,
   "metadata": {
    "id": "yxbihT8MUmyb"
   },
   "outputs": [],
   "source": [
    "tokenClassifier_loaded = CamemBertForTokenClassification.load(\"./{}_spark_nlp_openvino\".format(EXPORT_PATH))\\\n",
    "  .setInputCols([\"document\",'token'])\\\n",
    "  .setOutputCol(\"ner\")"
   ]
  },
  {
   "cell_type": "markdown",
   "metadata": {
    "id": "Y3XfhGEcijcg"
   },
   "source": [
    "You can see what labels were used to train this model via `getClasses` function:"
   ]
  },
  {
   "cell_type": "code",
   "execution_count": 15,
   "metadata": {
    "colab": {
     "base_uri": "https://localhost:8080/"
    },
    "id": "iiC0T624ijcg",
    "outputId": "385d6362-f49c-4dcb-ded1-9571b9f263e3"
   },
   "outputs": [
    {
     "data": {
      "text/plain": [
       "['I-ORG', 'I-MISC', 'I-LOC', 'I-PER', 'O']"
      ]
     },
     "execution_count": 15,
     "metadata": {},
     "output_type": "execute_result"
    }
   ],
   "source": [
    "tokenClassifier_loaded.getClasses()"
   ]
  },
  {
   "cell_type": "markdown",
   "metadata": {
    "id": "REIqYCyMijcg"
   },
   "source": [
    "This is how you can use your loaded classifier model in Spark NLP 🚀 pipeline:"
   ]
  },
  {
   "cell_type": "code",
   "execution_count": 16,
   "metadata": {
    "colab": {
     "base_uri": "https://localhost:8080/"
    },
    "id": "MToQcW1JU70V",
    "outputId": "36c3a87e-aeda-45b9-94f0-003d62415e77"
   },
   "outputs": [
    {
     "name": "stdout",
     "output_type": "stream",
     "text": [
      "+---------------------+------+\n",
      "|text                 |entity|\n",
      "+---------------------+------+\n",
      "|Emmanuel Macron      |PER   |\n",
      "|Angela Merkel        |PER   |\n",
      "|Berlin               |LOC   |\n",
      "|Européenne           |ORG   |\n",
      "|Bundestag            |ORG   |\n",
      "|Commission Européenne|ORG   |\n",
      "|Airbus               |ORG   |\n",
      "|Renault              |ORG   |\n",
      "|Kylian Mbappé        |PER   |\n",
      "|Ligue 1              |ORG   |\n",
      "|PSG                  |ORG   |\n",
      "|Zinédine Zidane      |PER   |\n",
      "|L'Équipe             |ORG   |\n",
      "|NASA                 |ORG   |\n",
      "|SpaceX               |ORG   |\n",
      "|Mars                 |LOC   |\n",
      "|Musk                 |PER   |\n",
      "|CNES                 |ORG   |\n",
      "|Toulouse             |LOC   |\n",
      "|Jean-Pierre Jeunet   |PER   |\n",
      "+---------------------+------+\n",
      "only showing top 20 rows\n",
      "\n"
     ]
    }
   ],
   "source": [
    "from sparknlp.base import DocumentAssembler\n",
    "from sparknlp.annotator import Tokenizer, NerConverter\n",
    "from pyspark.ml import Pipeline\n",
    "\n",
    "document_assembler = DocumentAssembler() \\\n",
    "    .setInputCol('text') \\\n",
    "    .setOutputCol('document')\n",
    "\n",
    "tokenizer = Tokenizer() \\\n",
    "    .setInputCols(['document']) \\\n",
    "    .setOutputCol('token')\n",
    "\n",
    "converter = NerConverter() \\\n",
    "    .setInputCols([\"document\", \"token\", \"ner\"]) \\\n",
    "    .setOutputCol(\"ner_chunk\")\n",
    "\n",
    "pipeline = Pipeline(stages=[\n",
    "    document_assembler,\n",
    "    tokenizer,\n",
    "    tokenClassifier_loaded,\n",
    "    converter\n",
    "])\n",
    "\n",
    "example = spark.createDataFrame([\n",
    "    [\"\"\"Emmanuel Macron a rencontré Angela Merkel à Berlin pour parler de l'Union Européenne.\n",
    "    Le sommet s'est tenu au Bundestag avec la Commission Européenne.\n",
    "    Airbus et Renault ont été mentionnés pour leur rôle économique.\n",
    "    Kylian Mbappé a brillé en Ligue 1 avec le PSG.\n",
    "    Zinédine Zidane s'est confié à L'Équipe.\n",
    "    La NASA et SpaceX préparent une mission sur Mars avec le soutien d’Elon Musk.\n",
    "    Le CNES, basé à Toulouse, y participe.\n",
    "    Jean-Pierre Jeunet adapte Victor Hugo au cinéma.\n",
    "    Christine and the Queens chantera bientôt au Zénith de Paris.\"\"\"]\n",
    "], [\"text\"])\n",
    "\n",
    "model = pipeline.fit(example)\n",
    "result = model.transform(example)\n",
    "\n",
    "result.selectExpr(\"explode(ner_chunk) as chunk\").selectExpr(\n",
    "    \"chunk.result as text\",\n",
    "    \"chunk.metadata['entity'] as entity\"\n",
    ").show(truncate=False)"
   ]
  },
  {
   "cell_type": "markdown",
   "metadata": {
    "id": "1dl_Ju77ijcg"
   },
   "source": [
    "That's it! You can now go wild and use hundreds of `CamemBertForTokenClassification` models from HuggingFace 🤗 in Spark NLP 🚀\n"
   ]
  }
 ],
 "metadata": {
  "colab": {
   "provenance": []
  },
  "kernelspec": {
   "display_name": "Python 3",
   "language": "python",
   "name": "python3"
  },
  "language_info": {
   "codemirror_mode": {
    "name": "ipython",
    "version": 3
   },
   "file_extension": ".py",
   "mimetype": "text/x-python",
   "name": "python",
   "nbconvert_exporter": "python",
   "pygments_lexer": "ipython3",
   "version": "3.10.12"
  }
 },
 "nbformat": 4,
 "nbformat_minor": 0
}
