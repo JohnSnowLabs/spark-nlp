{
 "cells": [
  {
   "cell_type": "markdown",
   "metadata": {
    "id": "_V5XcDCnVgSi"
   },
   "source": [
    "![JohnSnowLabs](https://sparknlp.org/assets/images/logo.png)\n",
    "\n",
    "[![Open In Colab](https://colab.research.google.com/assets/colab-badge.svg)](https://colab.research.google.com/github/JohnSnowLabs/spark-nlp/blob/master/examples/python/transformers/openvino/HuggingFace_OpenVINO_in_Spark_NLP_snowflake.ipynb)\n",
    "\n",
    "# Import OpenVINO snowflake  models from HuggingFace 🤗 into Spark NLP 🚀\n",
    "\n",
    "This notebook provides a detailed walkthrough on optimizing and exporting BGE models from HuggingFace for use in Spark NLP, leveraging the various tools provided in the [Intel OpenVINO toolkit](https://www.intel.com/content/www/us/en/developer/tools/openvino-toolkit/overview.html) ecosystem.\n",
    "\n",
    "Let's keep in mind a few things before we start 😊\n",
    "\n",
    "- OpenVINO support was introduced in  `Spark NLP 5.4.0`, enabling high performance inference for models. Please make sure you have upgraded to the latest Spark NLP release.\n",
    "- You can import models for snowflake  from snowflake  and they have to be in `Fill Mask` category."
   ]
  },
  {
   "cell_type": "markdown",
   "metadata": {
    "id": "aghasVppVgSk"
   },
   "source": [
    "## 1. Export and Save the HuggingFace model"
   ]
  },
  {
   "cell_type": "markdown",
   "metadata": {
    "id": "be4HsTDMVgSk"
   },
   "source": [
    "- Let's install `transformers` and `openvino` packages with other dependencies. You don't need `openvino` to be installed for Spark NLP, however, we need it to load and save models from HuggingFace.\n",
    "- We lock `transformers` on version `4.48.3`. This doesn't mean it won't work with the future releases, but we wanted you to know which versions have been tested successfully."
   ]
  },
  {
   "cell_type": "code",
   "execution_count": null,
   "metadata": {
    "colab": {
     "base_uri": "https://localhost:8080/"
    },
    "id": "ivu9WLBFx5SX",
    "outputId": "d56d66d8-73d7-40cb-b372-3c2b64b4504a"
   },
   "outputs": [],
   "source": [
    "!pip install -q --upgrade transformers==4.48.3 optimum[openvino]"
   ]
  },
  {
   "cell_type": "markdown",
   "metadata": {
    "id": "vI7uz_6hVgSl"
   },
   "source": [
    "[Optimum Intel](https://github.com/huggingface/optimum-intel?tab=readme-ov-file#openvino) is the interface between the Transformers library and the various model optimization and acceleration tools provided by Intel. HuggingFace models loaded with optimum-intel are automatically optimized for OpenVINO, while being compatible with the Transformers API.\n",
    "- To load a HuggingFace model directly for inference/export, just replace the `AutoModelForXxx` class with the corresponding `OVModelForXxx` class. We can use this to import and export OpenVINO models with `from_pretrained` and `save_pretrained`.\n",
    "- By setting `export=True`, the source model is converted to OpenVINO IR format on the fly.\n",
    "- We'll use [Snowflake/snowflake-arctic-embed-m](https://huggingface.co/Snowflake/snowflake-arctic-embed-m) model from HuggingFace as an example and load it as a `OVModelForFeatureExtraction`, representing an OpenVINO model.\n",
    "- In addition to the OVModelForFeatureExtraction model, we also need to save the `AutoTokenizer`. This is the same for every model, these are assets (saved in `/assets`) needed for tokenization inside Spark NLP."
   ]
  },
  {
   "cell_type": "code",
   "execution_count": 2,
   "metadata": {
    "colab": {
     "base_uri": "https://localhost:8080/",
     "height": 469,
     "referenced_widgets": [
      "bdd344a3fd12421cb97774e580d11fd8",
      "d2d0e630aa7041dfb6fc3112631431bd",
      "958111f508e148ba9c52ccf6d396f3c5",
      "132f8935dabe4e0bb48a18e0d7089af6",
      "b37039f65e614c1398e4a51c8753d734",
      "bf74502b78b64ec88fb741aad43f9cca",
      "b5b5688b1be74faea78b24d99f309e4e",
      "248659e145554d47a498f2e6dab0a585",
      "9e0a04075e90409daaf76f8deac369eb",
      "6b4aec550f104c48a1fe2bd664bf90fd",
      "bae58f18d6f24626b5201d92b3aba915",
      "c821ef1c9878481087217b357e13d889",
      "2e8716b1c3c84506be04e812a37ff79b",
      "0da132cd02154cba8a3b96703d74bee3",
      "52c451e73aed4d278c782428c59a9043",
      "05d4b12c2adc4a5f9bd58c210f941295",
      "9bb7af809c994f6aaf0f2d90aa8f5108",
      "a08688f199cb4d098583e25d8d77e438",
      "31346f8880f849c8b715370ddca2168d",
      "8d3f3c9c3fc74eb8b34eda958e1cd73e",
      "97fb5e8f9e574b1293e3bdfb5eb440fe",
      "c7bfcd2b87bc47aeb76092d8858f6683",
      "75718e327c2e45cfa7bca17c184d7baf",
      "953595581262477fad950a046a716e8c",
      "d65b7d7877ca40c3aa8d4ef2b5df10c8",
      "f63b684cea1342c1b05dca8b1539f2e6",
      "197b261fbe01433fbbb7cfd97565a30d",
      "5101788fe40141b98c32902dee408123",
      "47945944b7be4f8eb19fc2812f5641f1",
      "99266a5297de4733a4e49bc54af8d365",
      "5c5886aef0fd4333834afce42b4295a9",
      "d1d8bef68724489da2311f4498f8f3b4",
      "6e42163662f74d3093013a57c46addbe",
      "3e44f664cc6f4bf48b9d9a45aa11c582",
      "454f9ff10fc44466b7dbb4381feb55e2",
      "5745d695a37c42119a10e4ca7fe3d515",
      "21366b239ce54464ba044c05e3aa540d",
      "c3a0bfb8c8a94256b3e169beabf77ecc",
      "5f612b5a685a4eaea985f2cd1454c6a0",
      "36a9adb006a24518b305e268ec907c29",
      "8e1c6a390aed4c9fafc446ca18768172",
      "ce9e7226518545e5abb1715ef3ea8827",
      "af0c67d924e84ddca62866ec03b7a79f",
      "87f36db6f132426d90dea6f1ad48e921",
      "38fa6a77fe904bcda0e4c2f6ce768d89",
      "40adce753f0d4a8588252821acfcc7ca",
      "f5fa9299a34b466aa2832abc43828785",
      "5af5e32f66a34a6a81e216975fa9f73d",
      "b0a258ef94c545e39219d683ebeabb5f",
      "a4373c5adb4944dd90a33ec7fabb1747",
      "02fee5d7e04346ddbc1c5cf7624fd00b",
      "782a1609dc99484cbac6914bb9a89301",
      "311eccc261ca49c58d4daa81728f1cac",
      "98bfdebe528c45a4984ad853eca9b76d",
      "128eaef3c00e4be4b6c0d75525c9ab28",
      "4bd2dc035b624d72bd94a6cdda0fb537",
      "33065fbbefe14ad993cd969ee579df98",
      "fcc05ff50c6e4c8aaeeff9ae8cc662e9",
      "dfc73ed463f34f01a2f37b10340b41a4",
      "d4443c68e8934e83abb127676bb6d228",
      "88c1a9276896434bb611f7e8a2ff8492",
      "89a53de20a4347e5a20227b816cd6cc7",
      "0b7ec51475d744e9a75b0460cf3d7971",
      "fb78642c86694d209cf77114cc1d972a",
      "b28798fa49a64da0bfbe722a35f58282",
      "61bce75d54b64bfaa912b32cf1de791f"
     ]
    },
    "id": "qF5Pp3DuVgSm",
    "outputId": "92e2ead7-58c2-4abe-b3da-dc57fa697778"
   },
   "outputs": [
    {
     "name": "stderr",
     "output_type": "stream",
     "text": [
      "No CUDA runtime is found, using CUDA_HOME='/usr/local/cuda'\n",
      "/usr/local/lib/python3.11/dist-packages/huggingface_hub/utils/_auth.py:94: UserWarning: \n",
      "The secret `HF_TOKEN` does not exist in your Colab secrets.\n",
      "To authenticate with the Hugging Face Hub, create a token in your settings tab (https://huggingface.co/settings/tokens), set it as secret in your Google Colab and restart your session.\n",
      "You will be able to reuse this secret in all of your notebooks.\n",
      "Please note that authentication is recommended but still optional to access public models or datasets.\n",
      "  warnings.warn(\n"
     ]
    },
    {
     "data": {
      "application/vnd.jupyter.widget-view+json": {
       "model_id": "bdd344a3fd12421cb97774e580d11fd8",
       "version_major": 2,
       "version_minor": 0
      },
      "text/plain": [
       "config.json:   0%|          | 0.00/738 [00:00<?, ?B/s]"
      ]
     },
     "metadata": {},
     "output_type": "display_data"
    },
    {
     "data": {
      "application/vnd.jupyter.widget-view+json": {
       "model_id": "c821ef1c9878481087217b357e13d889",
       "version_major": 2,
       "version_minor": 0
      },
      "text/plain": [
       "model.safetensors:   0%|          | 0.00/436M [00:00<?, ?B/s]"
      ]
     },
     "metadata": {},
     "output_type": "display_data"
    },
    {
     "name": "stderr",
     "output_type": "stream",
     "text": [
      "Some weights of BertModel were not initialized from the model checkpoint at Snowflake/snowflake-arctic-embed-m and are newly initialized: ['pooler.dense.bias', 'pooler.dense.weight']\n",
      "You should probably TRAIN this model on a down-stream task to be able to use it for predictions and inference.\n"
     ]
    },
    {
     "data": {
      "application/vnd.jupyter.widget-view+json": {
       "model_id": "75718e327c2e45cfa7bca17c184d7baf",
       "version_major": 2,
       "version_minor": 0
      },
      "text/plain": [
       "tokenizer_config.json:   0%|          | 0.00/1.38k [00:00<?, ?B/s]"
      ]
     },
     "metadata": {},
     "output_type": "display_data"
    },
    {
     "data": {
      "application/vnd.jupyter.widget-view+json": {
       "model_id": "3e44f664cc6f4bf48b9d9a45aa11c582",
       "version_major": 2,
       "version_minor": 0
      },
      "text/plain": [
       "vocab.txt:   0%|          | 0.00/232k [00:00<?, ?B/s]"
      ]
     },
     "metadata": {},
     "output_type": "display_data"
    },
    {
     "data": {
      "application/vnd.jupyter.widget-view+json": {
       "model_id": "38fa6a77fe904bcda0e4c2f6ce768d89",
       "version_major": 2,
       "version_minor": 0
      },
      "text/plain": [
       "tokenizer.json:   0%|          | 0.00/712k [00:00<?, ?B/s]"
      ]
     },
     "metadata": {},
     "output_type": "display_data"
    },
    {
     "data": {
      "application/vnd.jupyter.widget-view+json": {
       "model_id": "4bd2dc035b624d72bd94a6cdda0fb537",
       "version_major": 2,
       "version_minor": 0
      },
      "text/plain": [
       "special_tokens_map.json:   0%|          | 0.00/695 [00:00<?, ?B/s]"
      ]
     },
     "metadata": {},
     "output_type": "display_data"
    },
    {
     "name": "stderr",
     "output_type": "stream",
     "text": [
      "`loss_type=None` was set in the config but it is unrecognised.Using the default loss: `ForCausalLMLoss`.\n"
     ]
    },
    {
     "data": {
      "text/plain": [
       "('ov_models/Snowflake/snowflake-arctic-embed-m/tokenizer_config.json',\n",
       " 'ov_models/Snowflake/snowflake-arctic-embed-m/special_tokens_map.json',\n",
       " 'ov_models/Snowflake/snowflake-arctic-embed-m/vocab.txt',\n",
       " 'ov_models/Snowflake/snowflake-arctic-embed-m/added_tokens.json',\n",
       " 'ov_models/Snowflake/snowflake-arctic-embed-m/tokenizer.json')"
      ]
     },
     "execution_count": 2,
     "metadata": {},
     "output_type": "execute_result"
    }
   ],
   "source": [
    "from optimum.intel import OVModelForFeatureExtraction\n",
    "from transformers import AutoTokenizer\n",
    "\n",
    "MODEL_NAME = \"Snowflake/snowflake-arctic-embed-m\"\n",
    "EXPORT_PATH = f\"ov_models/{MODEL_NAME}\"\n",
    "\n",
    "ov_model = OVModelForFeatureExtraction.from_pretrained(MODEL_NAME, export=True, trust_remote_code=True)\n",
    "tokenizer = AutoTokenizer.from_pretrained(MODEL_NAME)\n",
    "\n",
    "ov_model.save_pretrained(EXPORT_PATH)\n",
    "tokenizer.save_pretrained(EXPORT_PATH)"
   ]
  },
  {
   "cell_type": "markdown",
   "metadata": {
    "id": "klKD1EBH3NCv"
   },
   "source": [
    "Let's have a look inside these two directories and see what we are dealing with:"
   ]
  },
  {
   "cell_type": "code",
   "execution_count": 3,
   "metadata": {
    "colab": {
     "base_uri": "https://localhost:8080/"
    },
    "id": "YRb6jbsd3NXa",
    "outputId": "ca081364-feb7-42ae-ce73-bd06930d9c98"
   },
   "outputs": [
    {
     "name": "stdout",
     "output_type": "stream",
     "text": [
      "total 426660\n",
      "-rw-r--r-- 1 root root       675 Jun 24 12:18 config.json\n",
      "-rw-r--r-- 1 root root 435570848 Jun 24 12:18 openvino_model.bin\n",
      "-rw-r--r-- 1 root root    363466 Jun 24 12:18 openvino_model.xml\n",
      "-rw-r--r-- 1 root root       695 Jun 24 12:18 special_tokens_map.json\n",
      "-rw-r--r-- 1 root root      1411 Jun 24 12:18 tokenizer_config.json\n",
      "-rw-r--r-- 1 root root    711649 Jun 24 12:18 tokenizer.json\n",
      "-rw-r--r-- 1 root root    231508 Jun 24 12:18 vocab.txt\n"
     ]
    }
   ],
   "source": [
    "!ls -l {EXPORT_PATH}"
   ]
  },
  {
   "cell_type": "markdown",
   "metadata": {
    "id": "GAtFCG303QlT"
   },
   "source": [
    "We need to move `vocab.txt` from the tokenizer into an `assets` folder, which is where Spark NLP expects to find it.\n"
   ]
  },
  {
   "cell_type": "code",
   "execution_count": 4,
   "metadata": {
    "id": "eRMjDdjp3Rdy"
   },
   "outputs": [],
   "source": [
    "!mkdir {EXPORT_PATH}/assets && mv {EXPORT_PATH}/vocab.txt {EXPORT_PATH}/assets/"
   ]
  },
  {
   "cell_type": "code",
   "execution_count": 5,
   "metadata": {
    "colab": {
     "base_uri": "https://localhost:8080/"
    },
    "id": "Ck-MBnfM3S44",
    "outputId": "4828c2f5-edec-44e7-af0d-0c392395d847"
   },
   "outputs": [
    {
     "name": "stdout",
     "output_type": "stream",
     "text": [
      "total 426436\n",
      "drwxr-xr-x 2 root root      4096 Jun 24 12:18 assets\n",
      "-rw-r--r-- 1 root root       675 Jun 24 12:18 config.json\n",
      "-rw-r--r-- 1 root root 435570848 Jun 24 12:18 openvino_model.bin\n",
      "-rw-r--r-- 1 root root    363466 Jun 24 12:18 openvino_model.xml\n",
      "-rw-r--r-- 1 root root       695 Jun 24 12:18 special_tokens_map.json\n",
      "-rw-r--r-- 1 root root      1411 Jun 24 12:18 tokenizer_config.json\n",
      "-rw-r--r-- 1 root root    711649 Jun 24 12:18 tokenizer.json\n"
     ]
    }
   ],
   "source": [
    "!ls -l {EXPORT_PATH}"
   ]
  },
  {
   "cell_type": "markdown",
   "metadata": {
    "id": "hEIpBOGA3VIi"
   },
   "source": [
    "Voila! We have our `vocab.txt` inside assets directory"
   ]
  },
  {
   "cell_type": "markdown",
   "metadata": {
    "id": "CFLnQ4vm-LBZ"
   },
   "source": [
    "## Import and Save snowflake in Spark NLP\n"
   ]
  },
  {
   "cell_type": "markdown",
   "metadata": {
    "id": "0ADxpxIc3Cnr"
   },
   "source": [
    "- Install and set up Spark NLP in Google Colab\n",
    "- This example uses specific versions of `pyspark` and `spark-nlp` that have been tested with the transformer model to ensure everything runs smoothly."
   ]
  },
  {
   "cell_type": "code",
   "execution_count": 6,
   "metadata": {
    "colab": {
     "base_uri": "https://localhost:8080/"
    },
    "id": "dxCEAixU-LBZ",
    "outputId": "93b13181-d93d-4248-b766-96360fbc4724"
   },
   "outputs": [
    {
     "name": "stdout",
     "output_type": "stream",
     "text": [
      "\u001b[2K     \u001b[90m━━━━━━━━━━━━━━━━━━━━━━━━━━━━━━━━━━━━━━━\u001b[0m \u001b[32m317.2/317.2 MB\u001b[0m \u001b[31m5.0 MB/s\u001b[0m eta \u001b[36m0:00:00\u001b[0m\n",
      "\u001b[?25h  Preparing metadata (setup.py) ... \u001b[?25l\u001b[?25hdone\n",
      "\u001b[2K   \u001b[90m━━━━━━━━━━━━━━━━━━━━━━━━━━━━━━━━━━━━━━━━\u001b[0m \u001b[32m635.7/635.7 kB\u001b[0m \u001b[31m34.2 MB/s\u001b[0m eta \u001b[36m0:00:00\u001b[0m\n",
      "\u001b[?25h  Building wheel for pyspark (setup.py) ... \u001b[?25l\u001b[?25hdone\n"
     ]
    }
   ],
   "source": [
    "!pip install -q pyspark==3.5.5  spark-nlp==5.5.3"
   ]
  },
  {
   "cell_type": "markdown",
   "metadata": {
    "id": "QyeZdo61-LBa"
   },
   "source": [
    "Let's start Spark with Spark NLP included via our simple `start()` function"
   ]
  },
  {
   "cell_type": "code",
   "execution_count": 7,
   "metadata": {
    "colab": {
     "base_uri": "https://localhost:8080/"
    },
    "id": "tWzqJOSe-LBb",
    "outputId": "7515355d-5461-4982-c598-5fb679b27eee"
   },
   "outputs": [
    {
     "name": "stdout",
     "output_type": "stream",
     "text": [
      "Spark NLP version:  5.5.3\n",
      "Apache Spark version:  3.5.5\n"
     ]
    }
   ],
   "source": [
    "import sparknlp\n",
    "\n",
    "spark = sparknlp.start()\n",
    "\n",
    "print(\"Spark NLP version: \", sparknlp.version())\n",
    "print(\"Apache Spark version: \", spark.version)"
   ]
  },
  {
   "cell_type": "markdown",
   "metadata": {
    "id": "5X61x34a-LBb"
   },
   "source": [
    "- Let's use `loadSavedModel` functon in `SnowFlakeEmbeddings` which allows us to load the Openvino model\n",
    "- Most params will be set automatically. They can also be set later after loading the model in `SnowFlakeEmbeddings` during runtime, so don't worry about setting them now\n",
    "- `loadSavedModel` accepts two params, first is the path to the exported model. The second is the SparkSession that is `spark` variable we previously started via `sparknlp.start()`\n",
    "- `setStorageRef` is very important. When you are training a task like NER or any Text Classification, we use this reference to bound the trained model to this specific embeddings so you won't load a different embeddings by mistake and see terrible results 😊\n",
    "- It's up to you what you put in `setStorageRef` but it cannot be changed later on. We usually use the name of the model to be clear, but you can get creative if you want!\n",
    "- The `dimension` param is is purely cosmetic and won't change anything. It's mostly for you to know later via `.getDimension` what is the dimension of your model. So set this accordingly.\n",
    "- NOTE: `loadSavedModel` accepts local paths in addition to distributed file systems such as `HDFS`, `S3`, `DBFS`, etc. This feature was introduced in Spark NLP 4.2.2 release. Keep in mind the best and recommended way to move/share/reuse Spark NLP models is to use `write.save` so you can use `.load()` from any file systems natively.st and recommended way to move/share/reuse Spark NLP models is to use `write.save` so you can use `.load()` from any file systems natively.\n"
   ]
  },
  {
   "cell_type": "code",
   "execution_count": 8,
   "metadata": {
    "id": "ZfRgnm5V-LBc"
   },
   "outputs": [],
   "source": [
    "from sparknlp.annotator import SnowFlakeEmbeddings\n",
    "\n",
    "snowflake = SnowFlakeEmbeddings.loadSavedModel(f\"{EXPORT_PATH}\", spark)\\\n",
    "    .setInputCols([\"document\"])\\\n",
    "    .setOutputCol(\"snowflake\")\\\n",
    "    .setCaseSensitive(True)\\\n",
    "    .setDimension(768)"
   ]
  },
  {
   "cell_type": "markdown",
   "metadata": {
    "id": "YklsGumf-LBc"
   },
   "source": [
    "- Let's save it on disk so it is easier to be moved around and also be used later via `.load` function"
   ]
  },
  {
   "cell_type": "code",
   "execution_count": 9,
   "metadata": {
    "id": "thmPSatB-LBc"
   },
   "outputs": [],
   "source": [
    "snowflake.write().overwrite().save(f\"{MODEL_NAME}_spark_nlp\")"
   ]
  },
  {
   "cell_type": "markdown",
   "metadata": {
    "id": "F9nJj6Fs-LBc"
   },
   "source": [
    "Let's clean up stuff we don't need anymore"
   ]
  },
  {
   "cell_type": "code",
   "execution_count": 10,
   "metadata": {
    "id": "-GbJfqzE-LBc"
   },
   "outputs": [],
   "source": [
    "!rm -rf {EXPORT_PATH}"
   ]
  },
  {
   "cell_type": "markdown",
   "metadata": {
    "id": "CfhLgj1U-LBd"
   },
   "source": [
    "Awesome  😎 !\n",
    "\n",
    "This is your Openvino snowflake model from HuggingFace 🤗  loaded and saved by Spark NLP 🚀"
   ]
  },
  {
   "cell_type": "code",
   "execution_count": 11,
   "metadata": {
    "colab": {
     "base_uri": "https://localhost:8080/"
    },
    "id": "9irc4X-h-LBe",
    "outputId": "2daad2a4-3dce-4bff-eeac-fe301b2ec9c2"
   },
   "outputs": [
    {
     "name": "stdout",
     "output_type": "stream",
     "text": [
      "total 425796\n",
      "drwxr-xr-x 3 root root      4096 Jun 24 12:20 fields\n",
      "drwxr-xr-x 2 root root      4096 Jun 24 12:20 metadata\n",
      "-rw-r--r-- 1 root root 436001117 Jun 24 12:20 snowFlake_openvino\n"
     ]
    }
   ],
   "source": [
    "! ls -l {MODEL_NAME}_spark_nlp"
   ]
  },
  {
   "cell_type": "markdown",
   "metadata": {
    "id": "q6kMLGGM-LBe"
   },
   "source": [
    "Now let's see how we can use it on other machines, clusters, or any place you wish to use your new and shiny snowflake model 😊"
   ]
  },
  {
   "cell_type": "code",
   "execution_count": 12,
   "metadata": {
    "colab": {
     "base_uri": "https://localhost:8080/"
    },
    "id": "EuxOV23j-LBf",
    "outputId": "051756f2-c88f-474f-acd4-cdc1a48aa72b"
   },
   "outputs": [
    {
     "name": "stdout",
     "output_type": "stream",
     "text": [
      "+--------------------+\n",
      "|          embeddings|\n",
      "+--------------------+\n",
      "|[-0.60515916, 0.5...|\n",
      "+--------------------+\n",
      "\n"
     ]
    }
   ],
   "source": [
    "from sparknlp.base import DocumentAssembler\n",
    "from sparknlp.annotator import SnowFlakeEmbeddings\n",
    "from pyspark.ml import Pipeline\n",
    "\n",
    "document_assembler = DocumentAssembler() \\\n",
    "    .setInputCol(\"text\") \\\n",
    "    .setOutputCol(\"document\")\n",
    "\n",
    "snowflake_loaded = SnowFlakeEmbeddings.load(f\"{MODEL_NAME}_spark_nlp\") \\\n",
    "    .setInputCols([\"document\"]) \\\n",
    "    .setOutputCol(\"snowflake\")\n",
    "\n",
    "pipeline = Pipeline(stages=[\n",
    "    document_assembler,\n",
    "    snowflake_loaded\n",
    "])\n",
    "\n",
    "data = spark.createDataFrame([\n",
    "    [\"William Henry Gates III (born October 28, 1955) is an American business magnate, software developer, investor, and philanthropist.\"]\n",
    "]).toDF(\"text\")\n",
    "\n",
    "model = pipeline.fit(data)\n",
    "result = model.transform(data)\n",
    "\n",
    "result.selectExpr(\"explode(snowflake.embeddings) as embeddings\").show()"
   ]
  },
  {
   "cell_type": "markdown",
   "metadata": {
    "id": "5YWVcqLf-LBf"
   },
   "source": [
    "That's it! You can now go wild and use hundreds of snowflake models from HuggingFace 🤗 in Spark NLP 🚀\n"
   ]
  }
 ],
 "metadata": {
  "colab": {
   "provenance": []
  },
  "kernelspec": {
   "display_name": "Python 3",
   "language": "python",
   "name": "python3"
  },
  "language_info": {
   "codemirror_mode": {
    "name": "ipython",
    "version": 3
   },
   "file_extension": ".py",
   "mimetype": "text/x-python",
   "name": "python",
   "nbconvert_exporter": "python",
   "pygments_lexer": "ipython3",
   "version": "3.10.12"
  }
 },
 "nbformat": 4,
 "nbformat_minor": 0
}
