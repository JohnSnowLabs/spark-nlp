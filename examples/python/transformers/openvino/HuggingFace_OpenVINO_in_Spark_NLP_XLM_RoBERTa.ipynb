{
 "cells": [
  {
   "cell_type": "markdown",
   "metadata": {
    "id": "tGk3flXBkgA1"
   },
   "source": [
    "![JohnSnowLabs](https://sparknlp.org/assets/images/logo.png)\n",
    "\n",
    "[![Open In Colab](https://colab.research.google.com/assets/colab-badge.svg)](https://colab.research.google.com/github/JohnSnowLabs/spark-nlp/blob/master/examples/python/transformers/openvino/HuggingFace_OpenVINO_in_Spark_NLP_XLM-RoBERTa.ipynb)\n",
    "\n",
    "# Import OpenVINO XLM-RoBERTa models from HuggingFace 🤗 into Spark NLP 🚀\n",
    "\n",
    "This notebook provides a detailed walkthrough on optimizing and exporting XlmRoBerta models from HuggingFace for use in Spark NLP, leveraging the various tools provided in the [Intel OpenVINO toolkit](https://www.intel.com/content/www/us/en/developer/tools/openvino-toolkit/overview.html) ecosystem.\n",
    "\n",
    "Let's keep in mind a few things before we start 😊\n",
    "\n",
    "- OpenVINO support was introduced in  `Spark NLP 5.4.0`, enabling high performance inference for models. Please make sure you have upgraded to the latest Spark NLP release.\n",
    "- You can import models for XLM-RoBERTa from HuggingFace and they have to be in `Fill Mask` category. Meaning, you cannot use XLM-RoBERTa models trained/fine-tuned on a specific task such as token/sequence classification."
   ]
  },
  {
   "cell_type": "markdown",
   "metadata": {
    "id": "xwUb8_YgkgA3"
   },
   "source": [
    "## 1. Export and Save HuggingFace model"
   ]
  },
  {
   "cell_type": "markdown",
   "metadata": {
    "id": "1btkdcgDkgA4"
   },
   "source": [
    "- Let's install `transformers` and `openvino` packages with other dependencies. You don't need `openvino` to be installed for Spark NLP, however, we need it to load and save models from HuggingFace.\n",
    "- We lock `transformers` on version `4.48.3`. This doesn't mean it won't work with the future releases, but we wanted you to know which versions have been tested successfully."
   ]
  },
  {
   "cell_type": "code",
   "execution_count": null,
   "metadata": {
    "colab": {
     "base_uri": "https://localhost:8080/"
    },
    "id": "Ob-7qVD7kgA4",
    "outputId": "6a775743-3e2c-4952-8baf-e4ebdcc35dae"
   },
   "outputs": [],
   "source": [
    "!pip install -q --upgrade transformers==4.48.3 optimum[openvino]"
   ]
  },
  {
   "cell_type": "markdown",
   "metadata": {
    "id": "B4_lpbejkgA6"
   },
   "source": [
    "[Optimum Intel](https://github.com/huggingface/optimum-intel?tab=readme-ov-file#openvino) is the interface between the Transformers library and the various model optimization and acceleration tools provided by Intel. HuggingFace models loaded with optimum-intel are automatically optimized for OpenVINO, while being compatible with the Transformers API.\n",
    "- To load a HuggingFace model directly for inference/export, just replace the `AutoModelForXxx` class with the corresponding `OVModelForXxx` class. We can use this to import and export OpenVINO models with `from_pretrained` and `save_pretrained`.\n",
    "- By setting `export=True`, the source model is converted to OpenVINO IR format on the fly.\n",
    "- We'll use [xlm-roberta-base](https://huggingface.co/xlm-roberta-base) model from HuggingFace as an example and load it directly as an `OVModelForFeatureExtraction`, representing an OpenVINO model. By setting `export=True`, the available source model is converted to the OpenVINO IR format on the fly.\n",
    "- In addition to the XLM-RoBERTa model, we also need to save the `XLMRobertaTokenizer`. This is the same for every model, these are assets (saved in `/assets`) needed for tokenization inside Spark NLP."
   ]
  },
  {
   "cell_type": "code",
   "execution_count": 2,
   "metadata": {
    "colab": {
     "base_uri": "https://localhost:8080/",
     "height": 385,
     "referenced_widgets": [
      "6d2769491dc240668bec06f208c86abb",
      "ea2e11dc39f742ebaea06dfbc97c34c1",
      "4c941038a7e441eaa1c4768fe5571176",
      "be4daf0f53ce4b3bb9d12ef94d8117a5",
      "7a4d395f5f094c0ca2a733d4057b9aee",
      "4055290696ab41b285aa74d298f27442",
      "887deb807fe24aedaff40a5cfc4e0ffb",
      "8abaf5135b754b4f8a7368ba76ca5772",
      "a32386d8297041bd95cab7d815ddd702",
      "1f5bdad2d9b94deb8e0f52343dfccef4",
      "5c53664abd9044419c8dff2a70dc8386",
      "1ea809e9345d4a32a8906ca80f3cafbd",
      "ca56a5b137b04674b0d5b53888bc5284",
      "6966f27302e2415aa3f8969884c2852b",
      "9b60a11750d842bd940070d5fb6ef414",
      "ea30004b22b8486da0e2e19ccce71e6d",
      "a6b978a626214193828fb834d73ab015",
      "30c88cf3986c4f3e95b36087018837d1",
      "a52aa556dd4845a69fd3eb26c0116c3a",
      "0ea7dae8be7848f6a0c3f7a4197bda05",
      "7a4b6a4da2534728bf58d22940845a15",
      "fdb84b70a67040ab88372e28cda659a3",
      "7479b2d8d94e4ebd900bcc3f8e58fc49",
      "1b851243322543b1a7258ee7ea1518e2",
      "c71586f27d604ef0ab4689eaccdaf73b",
      "8579a42739904fc08599e437cdcb512f",
      "50be1359a16d4a96a51d45bf6611b21f",
      "bdc51ba0c8254187ac1d52b3a22064d8",
      "bdd944d18965419c9a43df45b4af7265",
      "92ee73811d6144beabf739052f952a15",
      "bda7722add5240a38c618b782b0c8ec2",
      "817698d5e0484e66b672607ce27786c7",
      "1848fa4f007042d1a254b9f0568e9bc9",
      "d2663deb782f4b4c92822c3e11e6ebd5",
      "fee9ed10fb984ecebb40a02da498a755",
      "7c2aa3abf2234b9fa3234df729663a08",
      "bdae28d750364fb8a972fc239b713b0a",
      "1092db4afa4a4f3e8e4f2bbbe1a3747f",
      "3161ff6f4d73424fb415e2bbda7d9340",
      "d4ff8b9819d0409bb45b65106a59029f",
      "093e10d6d62b42e1942092c041ca7e9a",
      "dc50d744134343c98fb38f5fd5691291",
      "af2f5b70a29f426aa269df5c23a39861",
      "ee64c982d90c4f3b947288d800c605b2",
      "0a66014d73694e16b27c4993f6f71a1e",
      "a216e907029d476e9eac002270bb3593",
      "fbc0f99e8a66462ca190496b9b2e36e4",
      "ebc18ee2ac4940ffafdb9f5e5d6285e0",
      "d791079c13014555afb85587facabcd1",
      "981864500e0149a49576e461de6318bb",
      "c06d55c4a6ae4f78a7fd9de8581aa683",
      "972594e1990c47c2a12f1f0b6a02a00c",
      "3f39f5ac3d76424f9013e9320b9abbd5",
      "94719dbc81884a89b38b998fab837319",
      "db984cde00f2450aac0bd72b080180d8"
     ]
    },
    "id": "Hq1EcGX4kgA6",
    "outputId": "d2b56486-3d65-423d-abaa-40485572677a"
   },
   "outputs": [
    {
     "name": "stderr",
     "output_type": "stream",
     "text": [
      "No CUDA runtime is found, using CUDA_HOME='/usr/local/cuda'\n",
      "/usr/local/lib/python3.11/dist-packages/huggingface_hub/utils/_auth.py:94: UserWarning: \n",
      "The secret `HF_TOKEN` does not exist in your Colab secrets.\n",
      "To authenticate with the Hugging Face Hub, create a token in your settings tab (https://huggingface.co/settings/tokens), set it as secret in your Google Colab and restart your session.\n",
      "You will be able to reuse this secret in all of your notebooks.\n",
      "Please note that authentication is recommended but still optional to access public models or datasets.\n",
      "  warnings.warn(\n"
     ]
    },
    {
     "data": {
      "application/vnd.jupyter.widget-view+json": {
       "model_id": "6d2769491dc240668bec06f208c86abb",
       "version_major": 2,
       "version_minor": 0
      },
      "text/plain": [
       "config.json:   0%|          | 0.00/615 [00:00<?, ?B/s]"
      ]
     },
     "metadata": {},
     "output_type": "display_data"
    },
    {
     "data": {
      "application/vnd.jupyter.widget-view+json": {
       "model_id": "1ea809e9345d4a32a8906ca80f3cafbd",
       "version_major": 2,
       "version_minor": 0
      },
      "text/plain": [
       "model.safetensors:   0%|          | 0.00/1.12G [00:00<?, ?B/s]"
      ]
     },
     "metadata": {},
     "output_type": "display_data"
    },
    {
     "data": {
      "application/vnd.jupyter.widget-view+json": {
       "model_id": "7479b2d8d94e4ebd900bcc3f8e58fc49",
       "version_major": 2,
       "version_minor": 0
      },
      "text/plain": [
       "tokenizer_config.json:   0%|          | 0.00/25.0 [00:00<?, ?B/s]"
      ]
     },
     "metadata": {},
     "output_type": "display_data"
    },
    {
     "data": {
      "application/vnd.jupyter.widget-view+json": {
       "model_id": "d2663deb782f4b4c92822c3e11e6ebd5",
       "version_major": 2,
       "version_minor": 0
      },
      "text/plain": [
       "sentencepiece.bpe.model:   0%|          | 0.00/5.07M [00:00<?, ?B/s]"
      ]
     },
     "metadata": {},
     "output_type": "display_data"
    },
    {
     "data": {
      "application/vnd.jupyter.widget-view+json": {
       "model_id": "0a66014d73694e16b27c4993f6f71a1e",
       "version_major": 2,
       "version_minor": 0
      },
      "text/plain": [
       "tokenizer.json:   0%|          | 0.00/9.10M [00:00<?, ?B/s]"
      ]
     },
     "metadata": {},
     "output_type": "display_data"
    },
    {
     "name": "stderr",
     "output_type": "stream",
     "text": [
      "`loss_type=None` was set in the config but it is unrecognised.Using the default loss: `ForCausalLMLoss`.\n"
     ]
    },
    {
     "data": {
      "text/plain": [
       "('ov_models/xlm-roberta-base/tokenizer_config.json',\n",
       " 'ov_models/xlm-roberta-base/special_tokens_map.json',\n",
       " 'ov_models/xlm-roberta-base/sentencepiece.bpe.model',\n",
       " 'ov_models/xlm-roberta-base/added_tokens.json')"
      ]
     },
     "execution_count": 2,
     "metadata": {},
     "output_type": "execute_result"
    }
   ],
   "source": [
    "from optimum.intel import OVModelForFeatureExtraction\n",
    "from transformers import XLMRobertaTokenizer\n",
    "\n",
    "MODEL_NAME = \"xlm-roberta-base\"\n",
    "EXPORT_PATH = f\"ov_models/{MODEL_NAME}\"\n",
    "\n",
    "ov_model = OVModelForFeatureExtraction.from_pretrained(MODEL_NAME, export=True)\n",
    "tokenizer = XLMRobertaTokenizer.from_pretrained(MODEL_NAME)\n",
    "\n",
    "ov_model.save_pretrained(EXPORT_PATH)\n",
    "tokenizer.save_pretrained(EXPORT_PATH)"
   ]
  },
  {
   "cell_type": "markdown",
   "metadata": {
    "id": "0hX7uJlKX37L"
   },
   "source": [
    "Now we need to create a dedicated directory for storing asset files and move the `sentencepiece.bpe.model` file to it. This is necessary for compatibility with Spark NLP.  \n"
   ]
  },
  {
   "cell_type": "code",
   "execution_count": 3,
   "metadata": {
    "id": "p5OcP6tJXO20"
   },
   "outputs": [],
   "source": [
    "!mkdir {EXPORT_PATH}/assets && mv {EXPORT_PATH}/sentencepiece.bpe.model {EXPORT_PATH}/assets/"
   ]
  },
  {
   "cell_type": "code",
   "execution_count": 4,
   "metadata": {
    "colab": {
     "base_uri": "https://localhost:8080/"
    },
    "id": "4G0_E6kqkgA8",
    "outputId": "42a0d186-98ec-479f-ddd9-c4ada5b6b7df"
   },
   "outputs": [
    {
     "name": "stdout",
     "output_type": "stream",
     "text": [
      "total 4952\n",
      "-rw-r--r-- 1 root root 5069051 Jun 24 12:51 sentencepiece.bpe.model\n"
     ]
    }
   ],
   "source": [
    "!ls -l {EXPORT_PATH}/assets"
   ]
  },
  {
   "cell_type": "markdown",
   "metadata": {
    "id": "zRN-_0wpkgA8"
   },
   "source": [
    "## 2. Import and Save XLM-RoBERTa in Spark NLP"
   ]
  },
  {
   "cell_type": "markdown",
   "metadata": {
    "id": "7uYCns8Z-a03"
   },
   "source": [
    "- Install and set up Spark NLP in Google Colab\n",
    "- This example uses specific versions of `pyspark` and `spark-nlp` that have been tested with the transformer model to ensure everything runs smoothly."
   ]
  },
  {
   "cell_type": "code",
   "execution_count": 5,
   "metadata": {
    "colab": {
     "base_uri": "https://localhost:8080/"
    },
    "id": "D0yO3TmwkgA8",
    "outputId": "0b553194-a4be-471a-d773-9b0ae49c74b8"
   },
   "outputs": [
    {
     "name": "stdout",
     "output_type": "stream",
     "text": [
      "\u001b[2K     \u001b[90m━━━━━━━━━━━━━━━━━━━━━━━━━━━━━━━━━━━━━━━\u001b[0m \u001b[32m317.3/317.3 MB\u001b[0m \u001b[31m1.4 MB/s\u001b[0m eta \u001b[36m0:00:00\u001b[0m\n",
      "\u001b[?25h  Preparing metadata (setup.py) ... \u001b[?25l\u001b[?25hdone\n",
      "\u001b[2K   \u001b[90m━━━━━━━━━━━━━━━━━━━━━━━━━━━━━━━━━━━━━━━━\u001b[0m \u001b[32m635.7/635.7 kB\u001b[0m \u001b[31m35.8 MB/s\u001b[0m eta \u001b[36m0:00:00\u001b[0m\n",
      "\u001b[?25h  Building wheel for pyspark (setup.py) ... \u001b[?25l\u001b[?25hdone\n"
     ]
    }
   ],
   "source": [
    "!pip install -q pyspark==3.5.4 spark-nlp==5.5.3"
   ]
  },
  {
   "cell_type": "markdown",
   "metadata": {
    "id": "7slGi8nrkgA9"
   },
   "source": [
    "Let's start Spark with Spark NLP included via our simple `start()` function"
   ]
  },
  {
   "cell_type": "code",
   "execution_count": 6,
   "metadata": {
    "colab": {
     "base_uri": "https://localhost:8080/"
    },
    "id": "Z_Pnd_W8kgA9",
    "outputId": "75453f21-2a95-4b0d-d24a-e2889a761dea"
   },
   "outputs": [
    {
     "name": "stdout",
     "output_type": "stream",
     "text": [
      "Spark NLP version:  5.5.3\n",
      "Apache Spark version:  3.5.4\n"
     ]
    }
   ],
   "source": [
    "import sparknlp\n",
    "\n",
    "spark = sparknlp.start()\n",
    "\n",
    "print(\"Spark NLP version: \", sparknlp.version())\n",
    "print(\"Apache Spark version: \", spark.version)"
   ]
  },
  {
   "cell_type": "markdown",
   "metadata": {
    "id": "qfwqBV67kgA9"
   },
   "source": [
    "- Let's use `loadSavedModel` functon in `XlmRoBertaEmbeddings` which allows us to load the OpenVINO model\n",
    "- Most params will be set automatically. They can also be set later after loading the model in `XlmRoBertaEmbeddings` during runtime, so don't worry about setting them now\n",
    "- `loadSavedModel` accepts two params, first is the path to the exported model. The second is the SparkSession that is `spark` variable we previously started via `sparknlp.start()`\n",
    "- `setStorageRef` is very important. When you are training a task like NER or any Text Classification, we use this reference to bound the trained model to this specific embeddings so you won't load a different embeddings by mistake and see terrible results 😊\n",
    "- It's up to you what you put in `setStorageRef` but it cannot be changed later on. We usually use the name of the model to be clear, but you can get creative if you want!\n",
    "- The `dimension` param is is purely cosmetic and won't change anything. It's mostly for you to know later via `.getDimension` what is the dimension of your model. So set this accordingly.\n",
    "- NOTE: `loadSavedModel` accepts local paths in addition to distributed file systems such as `HDFS`, `S3`, `DBFS`, etc. This feature was introduced in Spark NLP 4.2.2 release. Keep in mind the best and recommended way to move/share/reuse Spark NLP models is to use `write.save` so you can use `.load()` from any file systems natively.st and recommended way to move/share/reuse Spark NLP models is to use `write.save` so you can use `.load()` from any file systems natively.\n"
   ]
  },
  {
   "cell_type": "code",
   "execution_count": 7,
   "metadata": {
    "id": "8CqvC6sJkgA9"
   },
   "outputs": [],
   "source": [
    "from sparknlp.annotator import XlmRoBertaEmbeddings\n",
    "\n",
    "xlm_roberta = XlmRoBertaEmbeddings.loadSavedModel(f\"{EXPORT_PATH}\", spark)\\\n",
    "    .setInputCols([\"document\",'token'])\\\n",
    "    .setOutputCol(\"xlm_roberta\")\\\n",
    "    .setCaseSensitive(True)\\\n",
    "    .setDimension(768)\\\n",
    "    .setStorageRef('xlm_roberta_base')"
   ]
  },
  {
   "cell_type": "markdown",
   "metadata": {
    "id": "8GWj_urkkgA9"
   },
   "source": [
    "- Let's save it on disk so it is easier to be moved around and also be used later via `.load` function"
   ]
  },
  {
   "cell_type": "code",
   "execution_count": 8,
   "metadata": {
    "id": "ZmiaXQXKkgA-"
   },
   "outputs": [],
   "source": [
    "xlm_roberta.write().overwrite().save(f\"{MODEL_NAME}_spark_nlp\")"
   ]
  },
  {
   "cell_type": "markdown",
   "metadata": {
    "id": "Z0aGPBmVkgA-"
   },
   "source": [
    "Let's clean up stuff we don't need anymore"
   ]
  },
  {
   "cell_type": "code",
   "execution_count": 9,
   "metadata": {
    "id": "k2yCZptPkgA-"
   },
   "outputs": [],
   "source": [
    "!rm -rf {EXPORT_PATH}"
   ]
  },
  {
   "cell_type": "markdown",
   "metadata": {
    "id": "XPsHMXy4kgA-"
   },
   "source": [
    "Awesome  😎 !\n",
    "\n",
    "This is your OpenVINO XLM-RoBERTa model from HuggingFace 🤗  loaded and saved by Spark NLP 🚀"
   ]
  },
  {
   "cell_type": "code",
   "execution_count": 10,
   "metadata": {
    "colab": {
     "base_uri": "https://localhost:8080/"
    },
    "id": "Iajnc2gekgA-",
    "outputId": "b71a8310-52a5-4c50-d248-312d8ee434e5"
   },
   "outputs": [
    {
     "name": "stdout",
     "output_type": "stream",
     "text": [
      "total 1089292\n",
      "drwxr-xr-x 2 root root       4096 Jun 24 12:54 metadata\n",
      "-rw-r--r-- 1 root root 1110354112 Jun 24 12:54 xlmroberta_openvino\n",
      "-rw-r--r-- 1 root root    5069051 Jun 24 12:54 xlmroberta_spp\n"
     ]
    }
   ],
   "source": [
    "! ls -l {MODEL_NAME}_spark_nlp"
   ]
  },
  {
   "cell_type": "markdown",
   "metadata": {
    "id": "o71ap_SXkgA-"
   },
   "source": [
    "Now let's see how we can use it on other machines, clusters, or any place you wish to use your new and shiny XLM-RoBERTa model 😊"
   ]
  },
  {
   "cell_type": "code",
   "execution_count": 11,
   "metadata": {
    "colab": {
     "base_uri": "https://localhost:8080/"
    },
    "id": "eIlcw7nnkgA-",
    "outputId": "3622480e-31f9-4bb0-a15c-e886c9e7e0f4"
   },
   "outputs": [
    {
     "name": "stdout",
     "output_type": "stream",
     "text": [
      "+--------------------+\n",
      "|          embeddings|\n",
      "+--------------------+\n",
      "|[0.09555596, 0.21...|\n",
      "|[0.08841053, 0.18...|\n",
      "|[0.046400625, 0.1...|\n",
      "|[0.034001183, 0.1...|\n",
      "|[-0.032725316, 0....|\n",
      "|[-0.024418235, 0....|\n",
      "|[0.017320579, 0.1...|\n",
      "|[-0.08084097, 0.0...|\n",
      "|[0.0010095268, 0....|\n",
      "|[-0.0062280274, 0...|\n",
      "|[-0.051159162, 0....|\n",
      "|[-0.07390947, 0.0...|\n",
      "|[-0.04020553, 0.0...|\n",
      "|[0.01714119, 0.21...|\n",
      "|[0.102553345, 0.2...|\n",
      "|[0.083361454, 0.5...|\n",
      "|[0.08745364, 0.25...|\n",
      "|[0.037221704, 0.2...|\n",
      "|[-0.028663384, 0....|\n",
      "|[0.030840937, 0.2...|\n",
      "+--------------------+\n",
      "only showing top 20 rows\n",
      "\n"
     ]
    }
   ],
   "source": [
    "from sparknlp.base import DocumentAssembler\n",
    "from sparknlp.annotator import Tokenizer, XlmRoBertaEmbeddings\n",
    "from pyspark.ml import Pipeline\n",
    "\n",
    "document_assembler = DocumentAssembler()\\\n",
    "    .setInputCol(\"text\")\\\n",
    "    .setOutputCol(\"document\")\n",
    "\n",
    "tokenizer = Tokenizer()\\\n",
    "    .setInputCols([\"document\"])\\\n",
    "    .setOutputCol(\"token\")\n",
    "\n",
    "xlm_roberta_loaded = XlmRoBertaEmbeddings.load(f\"{MODEL_NAME}_spark_nlp\")\\\n",
    "    .setInputCols([\"document\", \"token\"])\\\n",
    "    .setOutputCol(\"xlm_roberta\")\n",
    "\n",
    "pipeline = Pipeline(stages=[\n",
    "    document_assembler,\n",
    "    tokenizer,\n",
    "    xlm_roberta_loaded\n",
    "])\n",
    "\n",
    "data = spark.createDataFrame([\n",
    "    ['William Henry Gates III (born October 28, 1955) is an American business magnate, '\n",
    "     'software developer, investor, and philanthropist.']\n",
    "]).toDF(\"text\")\n",
    "\n",
    "model = pipeline.fit(data)\n",
    "result = model.transform(data)\n",
    "\n",
    "result.selectExpr(\"explode(xlm_roberta.embeddings) as embeddings\").show()"
   ]
  },
  {
   "cell_type": "markdown",
   "metadata": {
    "id": "SMP8yiKhkgA_"
   },
   "source": [
    "That's it! You can now go wild and use hundreds of XLM-RoBERTa models from HuggingFace 🤗 in Spark NLP 🚀\n"
   ]
  }
 ],
 "metadata": {
  "colab": {
   "provenance": []
  },
  "kernelspec": {
   "display_name": "Python 3",
   "language": "python",
   "name": "python3"
  },
  "language_info": {
   "codemirror_mode": {
    "name": "ipython",
    "version": 3
   },
   "file_extension": ".py",
   "mimetype": "text/x-python",
   "name": "python",
   "nbconvert_exporter": "python",
   "pygments_lexer": "ipython3",
   "version": "3.10.12"
  }
 },
 "nbformat": 4,
 "nbformat_minor": 0
}
