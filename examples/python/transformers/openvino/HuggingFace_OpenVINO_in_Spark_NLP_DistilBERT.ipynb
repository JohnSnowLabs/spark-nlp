{
 "cells": [
  {
   "cell_type": "markdown",
   "metadata": {
    "id": "_V5XcDCnVgSi"
   },
   "source": [
    "![JohnSnowLabs](https://sparknlp.org/assets/images/logo.png)\n",
    "\n",
    "[![Open In Colab](https://colab.research.google.com/assets/colab-badge.svg)](https://colab.research.google.com/github/JohnSnowLabs/spark-nlp/blob/master/examples/python/transformers/openvino/HuggingFace_OpenVINO_in_Spark_NLP_DistilBERT.ipynb)\n",
    "\n",
    "# Import OpenVINO DistilBERT models from HuggingFace 🤗 into Spark NLP 🚀\n",
    "\n",
    "This notebook provides a detailed walkthrough on optimizing and exporting BGE models from HuggingFace for use in Spark NLP, leveraging the various tools provided in the [Intel OpenVINO toolkit](https://www.intel.com/content/www/us/en/developer/tools/openvino-toolkit/overview.html) ecosystem.\n",
    "\n",
    "Let's keep in mind a few things before we start 😊\n",
    "\n",
    "- OpenVINO support was introduced in  `Spark NLP 5.4.0`, enabling high performance inference for models. Please make sure you have upgraded to the latest Spark NLP release.\n",
    "- You can import models for DeBERTa from DeBERTa and they have to be in `Fill Mask` category."
   ]
  },
  {
   "cell_type": "markdown",
   "metadata": {
    "id": "aghasVppVgSk"
   },
   "source": [
    "## 1. Export and Save the HuggingFace model"
   ]
  },
  {
   "cell_type": "markdown",
   "metadata": {
    "id": "be4HsTDMVgSk"
   },
   "source": [
    "- Let's install `transformers` and `openvino` packages with other dependencies. You don't need `openvino` to be installed for Spark NLP, however, we need it to load and save models from HuggingFace.\n",
    "- We lock `transformers` on version `4.34.1`. This doesn't mean it won't work with the future releases, but we wanted you to know which versions have been tested successfully."
   ]
  },
  {
   "cell_type": "code",
   "execution_count": null,
   "metadata": {
    "colab": {
     "base_uri": "https://localhost:8080/"
    },
    "id": "dzKiCVtYhZLQ",
    "outputId": "32aa5d2d-8137-4d47-9720-244e607c0380"
   },
   "outputs": [],
   "source": [
    "!pip install -q --upgrade transformers==4.48.3 optimum[openvino]"
   ]
  },
  {
   "cell_type": "markdown",
   "metadata": {
    "id": "vI7uz_6hVgSl"
   },
   "source": [
    "[Optimum Intel](https://github.com/huggingface/optimum-intel?tab=readme-ov-file#openvino) is the interface between the Transformers library and the various model optimization and acceleration tools provided by Intel. HuggingFace models loaded with optimum-intel are automatically optimized for OpenVINO, while being compatible with the Transformers API.\n",
    "- To load a HuggingFace model directly for inference/export, just replace the `AutoModelForXxx` class with the corresponding `OVModelForXxx` class. We can use this to import and export OpenVINO models with `from_pretrained` and `save_pretrained`.\n",
    "- By setting `export=True`, the source model is converted to OpenVINO IR format on the fly.\n",
    "- We'll use [distilbert/distilbert-base-cased](https://huggingface.co/distilbert/distilbert-base-cased) model from HuggingFace as an example and load it as a `OVModelForFeatureExtraction`, representing an OpenVINO model.\n",
    "- In addition to the OVModelForFeatureExtraction model, we also need to save the `AutoTokenizer`. This is the same for every model, these are assets (saved in `/assets`) needed for tokenization inside Spark NLP."
   ]
  },
  {
   "cell_type": "code",
   "execution_count": null,
   "metadata": {
    "colab": {
     "base_uri": "https://localhost:8080/",
     "height": 385,
     "referenced_widgets": [
      "5d14528367b94bd0a1317f0c26cda276",
      "89d8cdba836f4012b4a6c67e37a51c32",
      "393cdfc7c6f04d1f8c621af8a10e2b4a",
      "d1426d75ba3c4457978ad038d590bf0a",
      "14c80d6ad84b48c2b2d91d9659c20929",
      "5b6100decc324722820fce43e4f558d0",
      "ee3e33e0d8024ec1b324f7a3e34b239c",
      "84d1a0808ea8480b8d42c6000c9de52e",
      "3b0422ebb3b945eba3142b33028f6748",
      "75cad38e2ff74300af89979ccd412ee2",
      "37aa17e05bd546bda7272d5d464ba507",
      "4fa6687d36e44d139609d7b2c0f6309f",
      "abb2a2e513014b9e9569cd391afd3044",
      "5197a38dcfc8409d9921fc24c8cf70c0",
      "7f66fd73c8884cf8aa588e0508593f04",
      "c0653a9c43ad4e62bfddb9ef153a5bf9",
      "af77a202f1f845af9c3458adef1f83f4",
      "2230334d4d0c4596b7c25d93f16c8ca4",
      "f5b62087afcd48ecbb0973e2b35eb19a",
      "ea85e0852c7c4aada1696a3c8cb92525",
      "a3b99540d30f483f857836e145a24255",
      "5dc053b6947c4b7c9927fd2b0d88b344",
      "3956caaf68f5494e84f7b9533b323169",
      "057a70e32e4648728dda90b1eff7b064",
      "fceead5d48bf444dae49bfac4a4bedb4",
      "21a3acacd8c24edaa445750b37d8c771",
      "63806d36b2d54097821d7bd5af9a36cb",
      "2bac0958bcf341fc9af38cce918925b7",
      "569cc17e88724e1da71912955ae2f6ad",
      "d39c5516be9f4f27b3a4b369c784cbe2",
      "790c7abf83734fc8979009d0209d6951",
      "95e8b91653be4cd39772cc7d2c000f28",
      "bdc3033d50e64b3780f27a9363a941c4",
      "9c3a2f2805824850ad32080187807390",
      "537108e6d3ef42d8916a90f47752755f",
      "aaa1e16d48cb4bd8a405f7d84743ebd1",
      "5a6185e1683a47939cdcd1ac38b40c95",
      "6cedbd270bb840a58b843da8e7852a3f",
      "146beef31cec4f479e9af897fff09c57",
      "eda7eaf2c6e444c5862a192dc51d5a03",
      "bbe878d8bbf94af7a8c6e5d1ecbbffa2",
      "019f5d09e15349f8bb2f0a578a7c084f",
      "6e6d747e9fb5433b8046c2f57d1dee6b",
      "5b7fdbb7b50e40a596f1de47fb8458ef",
      "77385c4e66a94274a27e7f9017c13e49",
      "96fba0cb362145eba1c67563dcf246c2",
      "7f7d777d556548c2914687ee9640b5aa",
      "91a61f35cbfd4b9f8324537b6285f8d2",
      "41a0f477646d44758b4da29e2e01e78a",
      "fd3ba3e35ccb42afad5ffdd6823c9bb1",
      "2003d4c84a414d29afaaa1b02e70171c",
      "26e080804b354904bb5d0cbf7d233d9e",
      "587441dc099345dd93f11bf20f5a523b",
      "ea374b7f3b524a219393bb2c044ef121",
      "75c1cfdd7f71478bb3b1a75dfb715620"
     ]
    },
    "id": "Nd7X5tsbiJKR",
    "outputId": "fea51bab-6c1c-4060-9d81-cbf4a354f9b0"
   },
   "outputs": [
    {
     "name": "stderr",
     "output_type": "stream",
     "text": [
      "No CUDA runtime is found, using CUDA_HOME='/usr/local/cuda'\n",
      "/usr/local/lib/python3.11/dist-packages/huggingface_hub/utils/_auth.py:94: UserWarning: \n",
      "The secret `HF_TOKEN` does not exist in your Colab secrets.\n",
      "To authenticate with the Hugging Face Hub, create a token in your settings tab (https://huggingface.co/settings/tokens), set it as secret in your Google Colab and restart your session.\n",
      "You will be able to reuse this secret in all of your notebooks.\n",
      "Please note that authentication is recommended but still optional to access public models or datasets.\n",
      "  warnings.warn(\n"
     ]
    },
    {
     "data": {
      "application/vnd.jupyter.widget-view+json": {
       "model_id": "5d14528367b94bd0a1317f0c26cda276",
       "version_major": 2,
       "version_minor": 0
      },
      "text/plain": [
       "config.json:   0%|          | 0.00/465 [00:00<?, ?B/s]"
      ]
     },
     "metadata": {},
     "output_type": "display_data"
    },
    {
     "data": {
      "application/vnd.jupyter.widget-view+json": {
       "model_id": "4fa6687d36e44d139609d7b2c0f6309f",
       "version_major": 2,
       "version_minor": 0
      },
      "text/plain": [
       "model.safetensors:   0%|          | 0.00/263M [00:00<?, ?B/s]"
      ]
     },
     "metadata": {},
     "output_type": "display_data"
    },
    {
     "data": {
      "application/vnd.jupyter.widget-view+json": {
       "model_id": "3956caaf68f5494e84f7b9533b323169",
       "version_major": 2,
       "version_minor": 0
      },
      "text/plain": [
       "tokenizer_config.json:   0%|          | 0.00/49.0 [00:00<?, ?B/s]"
      ]
     },
     "metadata": {},
     "output_type": "display_data"
    },
    {
     "data": {
      "application/vnd.jupyter.widget-view+json": {
       "model_id": "9c3a2f2805824850ad32080187807390",
       "version_major": 2,
       "version_minor": 0
      },
      "text/plain": [
       "vocab.txt:   0%|          | 0.00/213k [00:00<?, ?B/s]"
      ]
     },
     "metadata": {},
     "output_type": "display_data"
    },
    {
     "data": {
      "application/vnd.jupyter.widget-view+json": {
       "model_id": "77385c4e66a94274a27e7f9017c13e49",
       "version_major": 2,
       "version_minor": 0
      },
      "text/plain": [
       "tokenizer.json:   0%|          | 0.00/436k [00:00<?, ?B/s]"
      ]
     },
     "metadata": {},
     "output_type": "display_data"
    },
    {
     "name": "stderr",
     "output_type": "stream",
     "text": [
      "`loss_type=None` was set in the config but it is unrecognised.Using the default loss: `ForCausalLMLoss`.\n"
     ]
    },
    {
     "data": {
      "text/plain": [
       "('onnx_models/distilbert-base-cased/tokenizer_config.json',\n",
       " 'onnx_models/distilbert-base-cased/special_tokens_map.json',\n",
       " 'onnx_models/distilbert-base-cased/vocab.txt',\n",
       " 'onnx_models/distilbert-base-cased/added_tokens.json')"
      ]
     },
     "execution_count": 2,
     "metadata": {},
     "output_type": "execute_result"
    }
   ],
   "source": [
    "from transformers import DistilBertTokenizer\n",
    "from optimum.intel import OVModelForFeatureExtraction\n",
    "\n",
    "MODEL_NAME = \"distilbert-base-cased\"\n",
    "EXPORT_PATH = f\"ov_models/{MODEL_NAME}\"\n",
    "\n",
    "ort_model = OVModelForFeatureExtraction.from_pretrained(MODEL_NAME, export=True)\n",
    "ort_model.save_pretrained(EXPORT_PATH)\n",
    "\n",
    "tokenizer = DistilBertTokenizer.from_pretrained(MODEL_NAME)\n",
    "tokenizer.save_pretrained(EXPORT_PATH)"
   ]
  },
  {
   "cell_type": "markdown",
   "metadata": {
    "id": "2jeb_RXYlIkW"
   },
   "source": [
    "Let's have a look inside these two directories and see what we are dealing with:"
   ]
  },
  {
   "cell_type": "code",
   "execution_count": 5,
   "metadata": {
    "colab": {
     "base_uri": "https://localhost:8080/"
    },
    "id": "QqzP3VpnlKiF",
    "outputId": "aa427018-dc75-49c8-cbe8-7e05e4c995dc"
   },
   "outputs": [
    {
     "name": "stdout",
     "output_type": "stream",
     "text": [
      "total 255072\n",
      "-rw-r--r-- 1 root root       545 Jun 21 08:10 config.json\n",
      "-rw-r--r-- 1 root root 260767872 Jun 21 08:10 openvino_model.bin\n",
      "-rw-r--r-- 1 root root    189424 Jun 21 08:10 openvino_model.xml\n",
      "-rw-r--r-- 1 root root       125 Jun 21 08:10 special_tokens_map.json\n",
      "-rw-r--r-- 1 root root      1279 Jun 21 08:10 tokenizer_config.json\n",
      "-rw-r--r-- 1 root root    213450 Jun 21 08:10 vocab.txt\n"
     ]
    }
   ],
   "source": [
    "!ls -l {EXPORT_PATH}"
   ]
  },
  {
   "cell_type": "markdown",
   "metadata": {
    "id": "j8LqlGzPlOLM"
   },
   "source": [
    "We need to move the `vocab.txt` file from the tokenizer into an assets folder"
   ]
  },
  {
   "cell_type": "code",
   "execution_count": 6,
   "metadata": {
    "id": "ZY6zfVR0lNWS"
   },
   "outputs": [],
   "source": [
    "!mkdir {EXPORT_PATH}/assets && mv {EXPORT_PATH}/vocab.txt {EXPORT_PATH}/assets/"
   ]
  },
  {
   "cell_type": "code",
   "execution_count": 7,
   "metadata": {
    "colab": {
     "base_uri": "https://localhost:8080/"
    },
    "id": "QDkFx6XylQRC",
    "outputId": "436d6c81-fc18-4906-a991-03ac655b1c20"
   },
   "outputs": [
    {
     "name": "stdout",
     "output_type": "stream",
     "text": [
      "total 212\n",
      "-rw-r--r-- 1 root root 213450 Jun 21 08:10 vocab.txt\n"
     ]
    }
   ],
   "source": [
    "!ls -l {EXPORT_PATH}/assets"
   ]
  },
  {
   "cell_type": "markdown",
   "metadata": {
    "id": "Q7z8_-qNlYbC"
   },
   "source": [
    "Voila! We have our `vocab.txt` inside assets directory"
   ]
  },
  {
   "cell_type": "markdown",
   "metadata": {
    "id": "FluWeTofR2Bp"
   },
   "source": [
    "## Import and Save DistilBERT in Spark NLP\n"
   ]
  },
  {
   "cell_type": "markdown",
   "metadata": {
    "id": "ikL-jc1okPWU"
   },
   "source": [
    "- Install and set up Spark NLP in Google Colab\n",
    "- This example uses specific versions of `pyspark` and `spark-nlp` that have been tested with the transformer model to ensure everything runs smoothly."
   ]
  },
  {
   "cell_type": "code",
   "execution_count": 3,
   "metadata": {
    "colab": {
     "base_uri": "https://localhost:8080/"
    },
    "id": "xEQHTQELR2Bp",
    "outputId": "3801f6b2-5e97-48bc-b100-ad51fb7f0833"
   },
   "outputs": [
    {
     "name": "stdout",
     "output_type": "stream",
     "text": [
      "\u001b[2K     \u001b[90m━━━━━━━━━━━━━━━━━━━━━━━━━━━━━━━━━━━━━━━━\u001b[0m \u001b[32m317.3/317.3 MB\u001b[0m \u001b[31m3.2 MB/s\u001b[0m eta \u001b[36m0:00:00\u001b[0m\n",
      "\u001b[?25h  Preparing metadata (setup.py) ... \u001b[?25l\u001b[?25hdone\n",
      "\u001b[2K   \u001b[90m━━━━━━━━━━━━━━━━━━━━━━━━━━━━━━━━━━━━━━━━\u001b[0m \u001b[32m635.7/635.7 kB\u001b[0m \u001b[31m35.5 MB/s\u001b[0m eta \u001b[36m0:00:00\u001b[0m\n",
      "\u001b[?25h  Building wheel for pyspark (setup.py) ... \u001b[?25l\u001b[?25hdone\n"
     ]
    }
   ],
   "source": [
    "!pip install -q pyspark==3.5.4 spark-nlp==5.5.3"
   ]
  },
  {
   "cell_type": "markdown",
   "metadata": {
    "id": "YvuvGyjoR2Bp"
   },
   "source": [
    "Let's start Spark with Spark NLP included via our simple `start()` function"
   ]
  },
  {
   "cell_type": "code",
   "execution_count": 4,
   "metadata": {
    "colab": {
     "base_uri": "https://localhost:8080/"
    },
    "id": "uu1wEhyXR2Bp",
    "outputId": "ddcac013-d95c-435a-f91a-beaad0150415"
   },
   "outputs": [
    {
     "name": "stdout",
     "output_type": "stream",
     "text": [
      "Spark NLP version:  5.5.3\n",
      "Apache Spark version:  3.5.4\n"
     ]
    }
   ],
   "source": [
    "import sparknlp\n",
    "\n",
    "spark = sparknlp.start()\n",
    "\n",
    "print(\"Spark NLP version: \", sparknlp.version())\n",
    "print(\"Apache Spark version: \", spark.version)"
   ]
  },
  {
   "cell_type": "markdown",
   "metadata": {
    "id": "HSLY1T57R2Bq"
   },
   "source": [
    "- Let's use `loadSavedModel` functon in `BertEmbeddings` which allows us to load the ONNX model\n",
    "- Most params will be set automatically. They can also be set later after loading the model in `BertEmbeddings` during runtime, so don't worry about setting them now\n",
    "- `loadSavedModel` accepts two params, first is the path to the exported model. The second is the SparkSession that is `spark` variable we previously started via `sparknlp.start()`\n",
    "- `setStorageRef` is very important. When you are training a task like NER or any Text Classification, we use this reference to bound the trained model to this specific embeddings so you won't load a different embeddings by mistake and see terrible results 😊\n",
    "- It's up to you what you put in `setStorageRef` but it cannot be changed later on. We usually use the name of the model to be clear, but you can get creative if you want!\n",
    "- NOTE: `loadSavedModel` accepts local paths in addition to distributed file systems such as `HDFS`, `S3`, `DBFS`, etc. This feature was introduced in Spark NLP 4.2.2 release. Keep in mind the best and recommended way to move/share/reuse Spark NLP models is to use `write.save` so you can use `.load()` from any file systems natively.st and recommended way to move/share/reuse Spark NLP models is to use `write.save` so you can use `.load()` from any file systems natively.\n"
   ]
  },
  {
   "cell_type": "code",
   "execution_count": 8,
   "metadata": {
    "id": "SRlTWPjSR2Bq"
   },
   "outputs": [],
   "source": [
    "from sparknlp.annotator import DistilBertEmbeddings\n",
    "\n",
    "distilbert = DistilBertEmbeddings.loadSavedModel(f\"{EXPORT_PATH}\", spark)\\\n",
    "    .setInputCols([\"document\",'token'])\\\n",
    "    .setOutputCol(\"distilbert\")\\\n",
    "    .setCaseSensitive(True)\\\n",
    "    .setStorageRef('distilbert_base_cased')"
   ]
  },
  {
   "cell_type": "markdown",
   "metadata": {
    "id": "9WY9xuqBR2Bq"
   },
   "source": [
    "- Let's save it on disk so it is easier to be moved around and also be used later via `.load` function"
   ]
  },
  {
   "cell_type": "code",
   "execution_count": 9,
   "metadata": {
    "id": "Zd6hYRlHR2Bq"
   },
   "outputs": [],
   "source": [
    "distilbert.write().overwrite().save(f\"{MODEL_NAME}_spark_nlp\")"
   ]
  },
  {
   "cell_type": "markdown",
   "metadata": {
    "id": "S1wXaq4TR2Bq"
   },
   "source": [
    "Let's clean up stuff we don't need anymore"
   ]
  },
  {
   "cell_type": "code",
   "execution_count": 10,
   "metadata": {
    "id": "mGNIWIbGR2Bq"
   },
   "outputs": [],
   "source": [
    "!rm -rf {EXPORT_PATH}"
   ]
  },
  {
   "cell_type": "markdown",
   "metadata": {
    "id": "yIO1KhDAR2Bq"
   },
   "source": [
    "Awesome  😎 !\n",
    "\n",
    "This is your ONNX DistilBERT model from HuggingFace 🤗  loaded and saved by Spark NLP 🚀"
   ]
  },
  {
   "cell_type": "code",
   "execution_count": 11,
   "metadata": {
    "colab": {
     "base_uri": "https://localhost:8080/"
    },
    "id": "Jh4P7eL3R2Bq",
    "outputId": "b1702e80-e69f-40e7-b50d-004bbdea8722"
   },
   "outputs": [
    {
     "name": "stdout",
     "output_type": "stream",
     "text": [
      "total 254896\n",
      "-rw-r--r-- 1 root root 260997399 Jun 21 08:23 distilbert_openvino\n",
      "drwxr-xr-x 3 root root      4096 Jun 21 08:23 fields\n",
      "drwxr-xr-x 2 root root      4096 Jun 21 08:23 metadata\n"
     ]
    }
   ],
   "source": [
    "! ls -l {MODEL_NAME}_spark_nlp"
   ]
  },
  {
   "cell_type": "markdown",
   "metadata": {
    "id": "cERMLhZHR2Bq"
   },
   "source": [
    "Now let's see how we can use it on other machines, clusters, or any place you wish to use your new and shiny DistilBERT model 😊"
   ]
  },
  {
   "cell_type": "code",
   "execution_count": 12,
   "metadata": {
    "colab": {
     "base_uri": "https://localhost:8080/"
    },
    "id": "UqWKxfo_R2Bq",
    "outputId": "00d1f1ed-a09c-45ba-8ab3-5aeb1d8a9540"
   },
   "outputs": [
    {
     "name": "stdout",
     "output_type": "stream",
     "text": [
      "+--------------------+\n",
      "|          embeddings|\n",
      "+--------------------+\n",
      "|[-0.079204805, -0...|\n",
      "|[-0.00852473, -0....|\n",
      "|[0.068600506, -0....|\n",
      "|[-0.05461663, -0....|\n",
      "|[-0.299742, -0.01...|\n",
      "|[0.0888025, -0.20...|\n",
      "|[0.34601, -0.4901...|\n",
      "|[-0.003246847, -1...|\n",
      "|[0.6970489, -0.12...|\n",
      "|[-0.45469972, 0.2...|\n",
      "|[0.41657725, 0.18...|\n",
      "|[0.097180314, 0.1...|\n",
      "|[0.1975819, 0.163...|\n",
      "|[0.20108256, -0.1...|\n",
      "|[0.64482355, 0.12...|\n",
      "|[0.28228003, -0.2...|\n",
      "|[0.045200173, 0.4...|\n",
      "|[0.4543019, 0.238...|\n",
      "|[0.14045073, 0.05...|\n",
      "|[0.057169624, 0.2...|\n",
      "+--------------------+\n",
      "only showing top 20 rows\n",
      "\n"
     ]
    }
   ],
   "source": [
    "from sparknlp.base import DocumentAssembler\n",
    "from sparknlp.annotator import Tokenizer\n",
    "from pyspark.ml import Pipeline\n",
    "\n",
    "document_assembler = DocumentAssembler()\\\n",
    "    .setInputCol(\"text\")\\\n",
    "    .setOutputCol(\"document\")\n",
    "\n",
    "tokenizer = Tokenizer()\\\n",
    "    .setInputCols([\"document\"])\\\n",
    "    .setOutputCol(\"token\")\n",
    "\n",
    "distilbert_loaded = DistilBertEmbeddings.load(f\"{MODEL_NAME}_spark_nlp\")\\\n",
    "    .setInputCols([\"document\", \"token\"])\\\n",
    "    .setOutputCol(\"distilbert\")\n",
    "\n",
    "pipeline = Pipeline(stages=[\n",
    "    document_assembler,\n",
    "    tokenizer,\n",
    "    distilbert_loaded\n",
    "])\n",
    "\n",
    "data = spark.createDataFrame([\n",
    "    ['William Henry Gates III (born October 28, 1955) is an American business magnate, software developer, investor, and philanthropist.']\n",
    "]).toDF(\"text\")\n",
    "\n",
    "model = pipeline.fit(data)\n",
    "result = model.transform(data)\n",
    "\n",
    "result.selectExpr(\"explode(distilbert.embeddings) as embeddings\").show()"
   ]
  },
  {
   "cell_type": "markdown",
   "metadata": {
    "id": "c-tEJYHTR2Bq"
   },
   "source": [
    "That's it! You can now go wild and use hundreds of DistilBERT models from HuggingFace 🤗 in Spark NLP 🚀\n"
   ]
  }
 ],
 "metadata": {
  "colab": {
   "provenance": []
  },
  "kernelspec": {
   "display_name": "Python 3",
   "language": "python",
   "name": "python3"
  },
  "language_info": {
   "codemirror_mode": {
    "name": "ipython",
    "version": 3
   },
   "file_extension": ".py",
   "mimetype": "text/x-python",
   "name": "python",
   "nbconvert_exporter": "python",
   "pygments_lexer": "ipython3",
   "version": "3.10.12"
  }
 },
 "nbformat": 4,
 "nbformat_minor": 0
}
