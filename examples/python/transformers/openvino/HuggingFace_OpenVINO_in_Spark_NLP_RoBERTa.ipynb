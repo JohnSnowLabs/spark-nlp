{
 "cells": [
  {
   "cell_type": "markdown",
   "metadata": {
    "id": "wVAlZxT4kyVZ"
   },
   "source": [
    "![JohnSnowLabs](https://sparknlp.org/assets/images/logo.png)\n",
    "\n",
    "[![Open In Colab](https://colab.research.google.com/assets/colab-badge.svg)](https://colab.research.google.com/github/JohnSnowLabs/spark-nlp/blob/master/examples/python/transformers/openvino/HuggingFace_OpenVINO_in_Spark_NLP_RoBERTa.ipynb)\n",
    "\n",
    "# Import OpenVINO RoBERTa models from HuggingFace 🤗 into Spark NLP 🚀\n",
    "\n",
    "This notebook provides a detailed walkthrough on optimizing and exporting RoBerta models from HuggingFace for use in Spark NLP, leveraging the various tools provided in the [Intel OpenVINO toolkit](https://www.intel.com/content/www/us/en/developer/tools/openvino-toolkit/overview.html) ecosystem.\n",
    "\n",
    "Let's keep in mind a few things before we start 😊\n",
    "\n",
    "- OpenVINO support was introduced in  `Spark NLP 5.4.0`, enabling high performance inference for models. Please make sure you have upgraded to the latest Spark NLP release.\n",
    "- You can import models for RoBERTa from HuggingFace and they have to be in `Fill Mask` category. Meaning, you cannot use RoBERTa models trained/fine-tuned on a specific task such as token/sequence classification."
   ]
  },
  {
   "cell_type": "markdown",
   "metadata": {
    "id": "wwk95X-XkyVc"
   },
   "source": [
    "## 1. Export and Save HuggingFace model"
   ]
  },
  {
   "cell_type": "markdown",
   "metadata": {
    "id": "Ok7Vdy7_kyVd"
   },
   "source": [
    "- Let's install `transformers` and `openvino` packages with other dependencies. You don't need `openvino` to be installed for Spark NLP, however, we need it to load and save models from HuggingFace.\n",
    "- We lock `transformers` on version `4.48.3`. This doesn't mean it won't work with the future releases, but we wanted you to know which versions have been tested successfully."
   ]
  },
  {
   "cell_type": "code",
   "execution_count": null,
   "metadata": {
    "colab": {
     "base_uri": "https://localhost:8080/"
    },
    "id": "sOkBNCFckyVd",
    "outputId": "aa065adc-1f03-4170-d3ff-48e1dc1d48af"
   },
   "outputs": [],
   "source": [
    "!pip install -q --upgrade transformers==4.48.3 optimum[openvino]"
   ]
  },
  {
   "cell_type": "markdown",
   "metadata": {
    "id": "NI2ytaUXkyVe"
   },
   "source": [
    "[Optimum Intel](https://github.com/huggingface/optimum-intel?tab=readme-ov-file#openvino) is the interface between the Transformers library and the various model optimization and acceleration tools provided by Intel. HuggingFace models loaded with optimum-intel are automatically optimized for OpenVINO, while being compatible with the Transformers API.\n",
    "- To load a HuggingFace model directly for inference/export, just replace the `AutoModelForXxx` class with the corresponding `OVModelForXxx` class. We can use this to import and export OpenVINO models with `from_pretrained` and `save_pretrained`.\n",
    "- By setting `export=True`, the source model is converted to OpenVINO IR format on the fly.\n",
    "- We'll use [roberta-base](https://huggingface.co/roberta-base) model from HuggingFace as an example and load it as a `OVModelForFeatureExtraction`, representing an OpenVINO model.\n",
    "- In addition to the RoBERTa model, we also need to save the tokenizer. This is the same for every model, these are assets (saved in `/assets`) needed for tokenization inside Spark NLP."
   ]
  },
  {
   "cell_type": "code",
   "execution_count": 2,
   "metadata": {
    "colab": {
     "base_uri": "https://localhost:8080/",
     "height": 487,
     "referenced_widgets": [
      "90ea9a0bec294ecba51976fe01d6b5f6",
      "e21dc848e0e549e8aaaa4d2d0b15cac7",
      "1a86f5bbf65446ecb983df05dbc54b49",
      "967847ac89144a159a44ff8da8937a9e",
      "829bf89a858a45a5bd34c375608706c6",
      "d4591049b28a45fcba2ccf16d6a3f5b7",
      "4b22b6e7da3c4012ac6fb5653b735cd5",
      "c67c078c3c344c118c8ebb7063a2c315",
      "13d6619979494fb999ad47f91dbabb2f",
      "452a5b7fedca4be4b444483e00cae299",
      "38deeadc4a354acf9430244b4cd58d09",
      "00f940f2f1e34331acc5d6689558d36b",
      "d333a8ddf62e45c991b91a08eff0f20e",
      "f5b9c21bd22a48da9f30ed303bb497a6",
      "4a31b4f26bef42b289a4af0118719489",
      "d4837bac80fd4d54b93c5533e056b92d",
      "4c80391a0f064e41a5a3e97db3a31d13",
      "992673a817a54971aea6cc073fb81019",
      "2ef1dd553a924d4bb5bde9cbd6d057cd",
      "f9c8657734344a00b03614f43c0b682c",
      "a9506d36b05145bdb2063974381af928",
      "79607506e853450089d8f6bf5b093de3",
      "bcc0bead80e244bb929a73d93b89e59f",
      "b17249bc1f1849dbb55c2a7570b97e2d",
      "98e25626dcb24ceaa8a713dba230dad9",
      "77e9b393884d4a68a92ca047e8fe5d70",
      "e684edacdb1e4e1c9131de2521d5f9d2",
      "fca1b268edc44c6d84515f4241844b01",
      "b1346949b5f0435fb9317777b0c41dfc",
      "e33ec487476f4cd5abe51f37eb24c8b1",
      "c9ae54d8a8af41e88be156c009347b3d",
      "ff3c9e353b344a548db8a31c1416fd1d",
      "70e6d46ae55c4a008984e83da6ca6fef",
      "627d1dac8ce24edbbd2a1332ae406c17",
      "0abf602e88e043fdb79d52753a7bdbc2",
      "4d41fd8535dc4110bbc45daacde93721",
      "3ce3f10f3b8346f1a22a069250fbe75f",
      "189d5451f93546eca324788af49e53c5",
      "225d53e3f59a42d6aec65c48d114d454",
      "dea4f7f412004f8b90dafe60601228a5",
      "f6f7196a5bd049f7a52591cb0fdb1d76",
      "1eafc84a44eb4df9872eeaafc8736cbf",
      "7200e07305c7436b9b893fb2495e58d7",
      "1550846f81d544968bafa7cf492b372a",
      "40290542184448f4a11a5f64e06a1d66",
      "b6b1790c95e2489f8be8f713f71f4c0f",
      "af2651d234874586be2e86c6ba931a15",
      "701f51a058e843cab99260772aff686e",
      "17e33c3980fe44ad8675376ee5f597a0",
      "524920ecb2ef4dd0a9ef2af86e268077",
      "4b6bab83bb814e239766aab2ddf1b942",
      "0337a6c7cc354706a36f0418fb18835d",
      "1eb0010ab7384e77a57e1f8daee35525",
      "294348f7bb614fa69518a792c2dd916e",
      "7881633ded7142779d37bec077725053",
      "0ef3339881bd4b4ea7c191ec904792ba",
      "9c40dd3af115435c8b19b5722767bcec",
      "34a1510309c24af4bee829cf1838a83e",
      "6a16971f476b4c8cb8e9f6c00568c421",
      "f08ef66972a046e5bee8666692ea2aab",
      "c1e7773d9e29481db31c57c3ad1f076d",
      "c65d0ce47a884ea5aba1989265e76faf",
      "16ea106521a84fd1a738765b56307a1f",
      "b7cbe26808594f8c8eb27ceedf4460a7",
      "e7047b5d5bd240f496bee3d61a800be0",
      "a25a678a585e41a4bfe3529a01c90295"
     ]
    },
    "id": "lilDAJaWkyVf",
    "outputId": "115105e3-95d6-4f59-fbe7-2f525837e678"
   },
   "outputs": [
    {
     "name": "stderr",
     "output_type": "stream",
     "text": [
      "No CUDA runtime is found, using CUDA_HOME='/usr/local/cuda'\n",
      "/usr/local/lib/python3.11/dist-packages/huggingface_hub/utils/_auth.py:94: UserWarning: \n",
      "The secret `HF_TOKEN` does not exist in your Colab secrets.\n",
      "To authenticate with the Hugging Face Hub, create a token in your settings tab (https://huggingface.co/settings/tokens), set it as secret in your Google Colab and restart your session.\n",
      "You will be able to reuse this secret in all of your notebooks.\n",
      "Please note that authentication is recommended but still optional to access public models or datasets.\n",
      "  warnings.warn(\n"
     ]
    },
    {
     "data": {
      "application/vnd.jupyter.widget-view+json": {
       "model_id": "90ea9a0bec294ecba51976fe01d6b5f6",
       "version_major": 2,
       "version_minor": 0
      },
      "text/plain": [
       "config.json:   0%|          | 0.00/481 [00:00<?, ?B/s]"
      ]
     },
     "metadata": {},
     "output_type": "display_data"
    },
    {
     "data": {
      "application/vnd.jupyter.widget-view+json": {
       "model_id": "00f940f2f1e34331acc5d6689558d36b",
       "version_major": 2,
       "version_minor": 0
      },
      "text/plain": [
       "model.safetensors:   0%|          | 0.00/499M [00:00<?, ?B/s]"
      ]
     },
     "metadata": {},
     "output_type": "display_data"
    },
    {
     "name": "stderr",
     "output_type": "stream",
     "text": [
      "Some weights of RobertaModel were not initialized from the model checkpoint at roberta-base and are newly initialized: ['roberta.pooler.dense.bias', 'roberta.pooler.dense.weight']\n",
      "You should probably TRAIN this model on a down-stream task to be able to use it for predictions and inference.\n"
     ]
    },
    {
     "data": {
      "application/vnd.jupyter.widget-view+json": {
       "model_id": "bcc0bead80e244bb929a73d93b89e59f",
       "version_major": 2,
       "version_minor": 0
      },
      "text/plain": [
       "tokenizer_config.json:   0%|          | 0.00/25.0 [00:00<?, ?B/s]"
      ]
     },
     "metadata": {},
     "output_type": "display_data"
    },
    {
     "data": {
      "application/vnd.jupyter.widget-view+json": {
       "model_id": "627d1dac8ce24edbbd2a1332ae406c17",
       "version_major": 2,
       "version_minor": 0
      },
      "text/plain": [
       "vocab.json:   0%|          | 0.00/899k [00:00<?, ?B/s]"
      ]
     },
     "metadata": {},
     "output_type": "display_data"
    },
    {
     "data": {
      "application/vnd.jupyter.widget-view+json": {
       "model_id": "40290542184448f4a11a5f64e06a1d66",
       "version_major": 2,
       "version_minor": 0
      },
      "text/plain": [
       "merges.txt:   0%|          | 0.00/456k [00:00<?, ?B/s]"
      ]
     },
     "metadata": {},
     "output_type": "display_data"
    },
    {
     "data": {
      "application/vnd.jupyter.widget-view+json": {
       "model_id": "0ef3339881bd4b4ea7c191ec904792ba",
       "version_major": 2,
       "version_minor": 0
      },
      "text/plain": [
       "tokenizer.json:   0%|          | 0.00/1.36M [00:00<?, ?B/s]"
      ]
     },
     "metadata": {},
     "output_type": "display_data"
    },
    {
     "name": "stderr",
     "output_type": "stream",
     "text": [
      "`loss_type=None` was set in the config but it is unrecognised.Using the default loss: `ForCausalLMLoss`.\n"
     ]
    },
    {
     "data": {
      "text/plain": [
       "('ov_models/roberta-base/tokenizer_config.json',\n",
       " 'ov_models/roberta-base/special_tokens_map.json',\n",
       " 'ov_models/roberta-base/vocab.json',\n",
       " 'ov_models/roberta-base/merges.txt',\n",
       " 'ov_models/roberta-base/added_tokens.json',\n",
       " 'ov_models/roberta-base/tokenizer.json')"
      ]
     },
     "execution_count": 2,
     "metadata": {},
     "output_type": "execute_result"
    }
   ],
   "source": [
    "from optimum.intel import OVModelForFeatureExtraction\n",
    "from transformers import AutoTokenizer\n",
    "\n",
    "MODEL_NAME = \"roberta-base\"\n",
    "EXPORT_PATH = f\"ov_models/{MODEL_NAME}\"\n",
    "\n",
    "ov_model = OVModelForFeatureExtraction.from_pretrained(MODEL_NAME, export=True)\n",
    "tokenizer = AutoTokenizer.from_pretrained(MODEL_NAME)\n",
    "\n",
    "ov_model.save_pretrained(EXPORT_PATH)\n",
    "tokenizer.save_pretrained(EXPORT_PATH)"
   ]
  },
  {
   "cell_type": "markdown",
   "metadata": {
    "id": "AoSTUezAkyVg"
   },
   "source": [
    "Let's have a look inside these two directories and see what we are dealing with:"
   ]
  },
  {
   "cell_type": "code",
   "execution_count": 3,
   "metadata": {
    "colab": {
     "base_uri": "https://localhost:8080/"
    },
    "id": "UkdPiEZAkyVh",
    "outputId": "05b68f38-0fb8-449a-d022-90798c769d92"
   },
   "outputs": [
    {
     "name": "stdout",
     "output_type": "stream",
     "text": [
      "total 489676\n",
      "-rw-r--r-- 1 root root       644 Jun 24 11:31 config.json\n",
      "-rw-r--r-- 1 root root    456318 Jun 24 11:31 merges.txt\n",
      "-rw-r--r-- 1 root root 496224432 Jun 24 11:31 openvino_model.bin\n",
      "-rw-r--r-- 1 root root    367869 Jun 24 11:31 openvino_model.xml\n",
      "-rw-r--r-- 1 root root       280 Jun 24 11:31 special_tokens_map.json\n",
      "-rw-r--r-- 1 root root      1246 Jun 24 11:31 tokenizer_config.json\n",
      "-rw-r--r-- 1 root root   3558643 Jun 24 11:31 tokenizer.json\n",
      "-rw-r--r-- 1 root root    798293 Jun 24 11:31 vocab.json\n"
     ]
    }
   ],
   "source": [
    "!ls -l {EXPORT_PATH}"
   ]
  },
  {
   "cell_type": "markdown",
   "metadata": {
    "id": "WS4qn2IawRvS"
   },
   "source": [
    "- We need to convert `vocab.json` to `vocab.txt` by extracting and sorting the tokens (one per line), and make sure `merges.txt` is also present.\n",
    "- Move both `vocab.txt` and `merges.tx`t into an `assets/` folder inside your export path, Spark NLP looks for tokenizer files there when loading ONNX models."
   ]
  },
  {
   "cell_type": "code",
   "execution_count": 4,
   "metadata": {
    "id": "gLvTb3InkyVf"
   },
   "outputs": [],
   "source": [
    "import json\n",
    "\n",
    "with open(f'{EXPORT_PATH}/vocab.json') as f, open(f'{EXPORT_PATH}/vocab.txt', 'w') as out:\n",
    "    out.writelines(f\"{k}\\n\" for k in json.load(f).keys())\n",
    "\n",
    "!mkdir -p {EXPORT_PATH}/assets\n",
    "!mv {EXPORT_PATH}/vocab.txt {EXPORT_PATH}/merges.txt {EXPORT_PATH}/assets/"
   ]
  },
  {
   "cell_type": "code",
   "execution_count": null,
   "metadata": {
    "colab": {
     "base_uri": "https://localhost:8080/"
    },
    "id": "V93BPbnOkyVh",
    "outputId": "a29e4b8f-d979-44e9-f3b5-1ef8fc795e65"
   },
   "outputs": [
    {
     "name": "stdout",
     "output_type": "stream",
     "text": [
      "total 848\n",
      "-rw-r--r-- 1 root root 456318 Jun 24 11:31 merges.txt\n",
      "-rw-r--r-- 1 root root 407065 Jun 24 11:44 vocab.txt\n"
     ]
    }
   ],
   "source": [
    "!ls -l {EXPORT_PATH}/assets"
   ]
  },
  {
   "cell_type": "markdown",
   "metadata": {
    "id": "wMkTaUXnkyVh"
   },
   "source": [
    "## 2. Import and Save RoBERTa in Spark NLP\n",
    "\n"
   ]
  },
  {
   "cell_type": "markdown",
   "metadata": {
    "id": "O5jXkBSnwcQw"
   },
   "source": [
    "- Install and set up Spark NLP in Google Colab\n",
    "- This example uses specific versions of `pyspark` and `spark-nlp` that have been tested with the transformer model to ensure everything runs smoothly."
   ]
  },
  {
   "cell_type": "code",
   "execution_count": 6,
   "metadata": {
    "colab": {
     "base_uri": "https://localhost:8080/"
    },
    "id": "nBELsKiWkyVi",
    "outputId": "b7f69461-2b25-4fe4-c7b6-6f76623afaa4"
   },
   "outputs": [
    {
     "name": "stdout",
     "output_type": "stream",
     "text": [
      "\u001b[2K     \u001b[90m━━━━━━━━━━━━━━━━━━━━━━━━━━━━━━━━━━━━━━━\u001b[0m \u001b[32m317.3/317.3 MB\u001b[0m \u001b[31m1.6 MB/s\u001b[0m eta \u001b[36m0:00:00\u001b[0m\n",
      "\u001b[?25h  Preparing metadata (setup.py) ... \u001b[?25l\u001b[?25hdone\n",
      "\u001b[2K   \u001b[90m━━━━━━━━━━━━━━━━━━━━━━━━━━━━━━━━━━━━━━━━\u001b[0m \u001b[32m635.7/635.7 kB\u001b[0m \u001b[31m24.1 MB/s\u001b[0m eta \u001b[36m0:00:00\u001b[0m\n",
      "\u001b[?25h  Building wheel for pyspark (setup.py) ... \u001b[?25l\u001b[?25hdone\n"
     ]
    }
   ],
   "source": [
    "!pip install -q pyspark==3.5.4 spark-nlp==5.5.3"
   ]
  },
  {
   "cell_type": "markdown",
   "metadata": {
    "id": "N8K2kUeGkyVi"
   },
   "source": [
    "Let's start Spark with Spark NLP included via our simple `start()` function"
   ]
  },
  {
   "cell_type": "code",
   "execution_count": 7,
   "metadata": {
    "colab": {
     "base_uri": "https://localhost:8080/"
    },
    "id": "I7U1YwcUkyVi",
    "outputId": "6f23aa8b-52cd-443f-d23d-aa050f53ae31"
   },
   "outputs": [
    {
     "name": "stdout",
     "output_type": "stream",
     "text": [
      "Spark NLP version:  5.5.3\n",
      "Apache Spark version:  3.5.4\n"
     ]
    }
   ],
   "source": [
    "import sparknlp\n",
    "\n",
    "spark = sparknlp.start()\n",
    "\n",
    "print(\"Spark NLP version: \", sparknlp.version())\n",
    "print(\"Apache Spark version: \", spark.version)"
   ]
  },
  {
   "cell_type": "markdown",
   "metadata": {
    "id": "eB5AXJwHkyVj"
   },
   "source": [
    "- Let's use `loadSavedModel` functon in `RoBertaEmbeddings` which allows us to load the OpenVINO model.\n",
    "- Most params will be set automatically. They can also be set later after loading the model in `RoBertaEmbeddings` during runtime, so don't worry about setting them now.\n",
    "- `loadSavedModel` accepts two params, first is the path to the exported model. The second is the SparkSession that is `spark` variable we previously started via `sparknlp.start()`\n",
    "- `setStorageRef` is very important. When you are training a task like NER or any Text Classification, we use this reference to bound the trained model to this specific embeddings so you won't load a different embeddings by mistake and see terrible results. 😊\n",
    "- It's up to you what you put in `setStorageRef` but it cannot be changed later on. We usually use the name of the model to be clear, but you can get creative if you want!\n",
    "- NOTE: `loadSavedModel` accepts local paths in addition to distributed file systems such as `HDFS`, `S3`, `DBFS`, etc. This feature was introduced in Spark NLP 4.2.2 release. Keep in mind the best and recommended way to move/share/reuse Spark NLP models is to use `write.save` so you can use `.load()` from any file systems natively.st and recommended way to move/share/reuse Spark NLP models is to use `write.save` so you can use `.load()` from any file systems natively.\n"
   ]
  },
  {
   "cell_type": "code",
   "execution_count": 8,
   "metadata": {
    "id": "1B83tQtAkyVj"
   },
   "outputs": [],
   "source": [
    "from sparknlp.annotator import RoBertaEmbeddings\n",
    "\n",
    "roberta = RoBertaEmbeddings.loadSavedModel(f\"{EXPORT_PATH}\", spark)\\\n",
    "    .setInputCols([\"document\",'token'])\\\n",
    "    .setOutputCol(\"roberta\")\\\n",
    "    .setCaseSensitive(True)\\\n",
    "    .setStorageRef('roberta-base')"
   ]
  },
  {
   "cell_type": "markdown",
   "metadata": {
    "id": "Y4ipccMHkyVk"
   },
   "source": [
    "- Let's save it on disk so it is easier to be moved around and also be used later via `.load` function"
   ]
  },
  {
   "cell_type": "code",
   "execution_count": 9,
   "metadata": {
    "id": "jiTgV72mkyVk"
   },
   "outputs": [],
   "source": [
    "roberta.write().overwrite().save(f\"{MODEL_NAME}_spark_nlp\")"
   ]
  },
  {
   "cell_type": "markdown",
   "metadata": {
    "id": "HBaDgFkTkyVk"
   },
   "source": [
    "Let's clean up stuff we don't need anymore"
   ]
  },
  {
   "cell_type": "code",
   "execution_count": 10,
   "metadata": {
    "id": "M4n3_6h1kyVk"
   },
   "outputs": [],
   "source": [
    "!rm -rf {EXPORT_PATH}"
   ]
  },
  {
   "cell_type": "markdown",
   "metadata": {
    "id": "xrakj_JKkyVl"
   },
   "source": [
    "Awesome  😎 !\n",
    "\n",
    "This is your OpenVINO RoBERTa model from HuggingFace 🤗  loaded and saved by Spark NLP 🚀"
   ]
  },
  {
   "cell_type": "code",
   "execution_count": 11,
   "metadata": {
    "colab": {
     "base_uri": "https://localhost:8080/"
    },
    "id": "E1EsiWbSkyVm",
    "outputId": "43d37d7d-8ba3-4d3d-a52b-0183b74f5d45"
   },
   "outputs": [
    {
     "name": "stdout",
     "output_type": "stream",
     "text": [
      "total 485040\n",
      "drwxr-xr-x 4 root root      4096 Jun 24 11:49 fields\n",
      "drwxr-xr-x 2 root root      4096 Jun 24 11:48 metadata\n",
      "-rw-r--r-- 1 root root 496668359 Jun 24 11:49 roberta_openvino\n"
     ]
    }
   ],
   "source": [
    "! ls -l {MODEL_NAME}_spark_nlp"
   ]
  },
  {
   "cell_type": "markdown",
   "metadata": {
    "id": "TpqJXnW7kyVm"
   },
   "source": [
    "Now let's see how we can use it on other machines, clusters, or any place you wish to use your new and shiny RoBERTa model 😊"
   ]
  },
  {
   "cell_type": "code",
   "execution_count": 12,
   "metadata": {
    "colab": {
     "base_uri": "https://localhost:8080/"
    },
    "id": "oLpo6d7okyVm",
    "outputId": "ab91d546-27f4-4242-f62b-acd480c7f957"
   },
   "outputs": [
    {
     "name": "stdout",
     "output_type": "stream",
     "text": [
      "+--------------------+\n",
      "|          embeddings|\n",
      "+--------------------+\n",
      "|[0.055684462, 0.1...|\n",
      "|[0.009679583, 0.0...|\n",
      "|[-0.008716347, 0....|\n",
      "|[-0.0010398456, -...|\n",
      "|[-0.15558729, -0....|\n",
      "|[-0.21086597, -0....|\n",
      "|[-0.09392089, -0....|\n",
      "|[-0.20284075, 0.0...|\n",
      "|[0.023448352, -0....|\n",
      "|[0.0034487683, -0...|\n",
      "|[0.14245465, -0.4...|\n",
      "|[0.22900558, 0.05...|\n",
      "|[0.14881347, 0.20...|\n",
      "|[-0.027211191, 0....|\n",
      "|[0.082329124, 0.1...|\n",
      "|[-0.02205111, 0.2...|\n",
      "|[0.22593242, -0.3...|\n",
      "|[0.20709008, 8.44...|\n",
      "|[0.042079117, -0....|\n",
      "|[0.21155761, -0.2...|\n",
      "+--------------------+\n",
      "only showing top 20 rows\n",
      "\n"
     ]
    }
   ],
   "source": [
    "from pyspark.ml import Pipeline\n",
    "from sparknlp.base import DocumentAssembler\n",
    "from sparknlp.annotator import Tokenizer\n",
    "\n",
    "document_assembler = DocumentAssembler()\\\n",
    "    .setInputCol(\"text\")\\\n",
    "    .setOutputCol(\"document\")\n",
    "\n",
    "tokenizer = Tokenizer()\\\n",
    "    .setInputCols([\"document\"])\\\n",
    "    .setOutputCol(\"token\")\n",
    "\n",
    "roberta_loaded = RoBertaEmbeddings.load(f\"{MODEL_NAME}_spark_nlp\")\\\n",
    "    .setInputCols([\"document\", \"token\"])\\\n",
    "    .setOutputCol(\"roberta\")\n",
    "\n",
    "pipeline = Pipeline(stages=[\n",
    "    document_assembler,\n",
    "    tokenizer,\n",
    "    roberta_loaded\n",
    "])\n",
    "\n",
    "data = spark.createDataFrame([\n",
    "    [\"William Henry Gates III (born October 28, 1955) is an American business magnate, software developer, investor, and philanthropist.\"]\n",
    "]).toDF(\"text\")\n",
    "\n",
    "model = pipeline.fit(data)\n",
    "result = model.transform(data)\n",
    "\n",
    "result.selectExpr(\"explode(roberta.embeddings) as embeddings\").show()"
   ]
  },
  {
   "cell_type": "markdown",
   "metadata": {
    "id": "57MdRjgHkyVm"
   },
   "source": [
    "That's it! You can now go wild and use hundreds of RoBERTa models from HuggingFace 🤗 in Spark NLP 🚀\n"
   ]
  }
 ],
 "metadata": {
  "colab": {
   "provenance": []
  },
  "kernelspec": {
   "display_name": "Python 3",
   "name": "python3"
  },
  "language_info": {
   "name": "python"
  }
 },
 "nbformat": 4,
 "nbformat_minor": 0
}
