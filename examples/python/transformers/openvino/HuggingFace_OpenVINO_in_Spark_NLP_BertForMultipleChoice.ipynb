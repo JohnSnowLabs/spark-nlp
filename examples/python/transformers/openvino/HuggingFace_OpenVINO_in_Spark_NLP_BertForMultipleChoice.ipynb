{
 "cells": [
  {
   "cell_type": "markdown",
   "metadata": {
    "id": "_V5XcDCnVgSi"
   },
   "source": [
    "![JohnSnowLabs](https://sparknlp.org/assets/images/logo.png)\n",
    "\n",
    "[![Open In Colab](https://colab.research.google.com/assets/colab-badge.svg)](https://colab.research.google.com/github/JohnSnowLabs/spark-nlp/blob/master/examples/python/transformers/openvino/HuggingFace_OpenVINO_in_Spark_NLP_BertForMultipleChoice.ipynb)\n",
    "\n",
    "# Import OpenVINO BertForMultipleChoice models from HuggingFace 🤗 into Spark NLP 🚀\n",
    "\n",
    "This notebook provides a detailed walkthrough on optimizing and exporting BertForMultipleChoice  models from HuggingFace for use in Spark NLP, leveraging the various tools provided in the [Intel OpenVINO toolkit](https://www.intel.com/content/www/us/en/developer/tools/openvino-toolkit/overview.html) ecosystem.\n",
    "\n",
    "Let's keep in mind a few things before we start 😊\n",
    "\n",
    "- OpenVINO support was introduced in  `Spark NLP 5.4.0`, enabling high performance inference for models. Please make sure you have upgraded to the latest Spark NLP release.\n",
    "- You can import models for BertForMultipleChoice from BertForMultipleChoice  and they have to be in `For Multiple Choice` category."
   ]
  },
  {
   "cell_type": "markdown",
   "metadata": {
    "id": "aghasVppVgSk"
   },
   "source": [
    "## 1. Export and Save the HuggingFace model"
   ]
  },
  {
   "cell_type": "markdown",
   "metadata": {
    "id": "VMxZ_LbQOs8p"
   },
   "source": [
    "- Install required packages for ONNX export and OpenVINO conversion:\n",
    "\n",
    "\n"
   ]
  },
  {
   "cell_type": "code",
   "execution_count": null,
   "metadata": {
    "colab": {
     "base_uri": "https://localhost:8080/"
    },
    "id": "MAPPLOzq2huU",
    "outputId": "8dd81857-f586-4a70-e56e-c924a21b6ec8"
   },
   "outputs": [],
   "source": [
    "!pip install --quiet onnx==1.18.0 onnxruntime==1.22.0 optimum[onnxruntime]==1.26.1 openvino==2025.2.0"
   ]
  },
  {
   "cell_type": "markdown",
   "metadata": {
    "id": "fMi63gWbOxq_"
   },
   "source": [
    "- Locked versions to avoid breaking changes.\n",
    "- These work together for exporting Hugging Face models to ONNX and converting to OpenVINO IR."
   ]
  },
  {
   "cell_type": "markdown",
   "metadata": {
    "id": "vI7uz_6hVgSl"
   },
   "source": [
    "[Optimum Intel](https://github.com/huggingface/optimum-intel?tab=readme-ov-file#openvino) is the interface between the Transformers library and the various model optimization and acceleration tools provided by Intel. HuggingFace models loaded with optimum-intel are automatically optimized for OpenVINO, while being compatible with the Transformers API.\n",
    "- Normally, to load a HuggingFace model directly for inference/export, just replace the `AutoModelForXxx` class with the corresponding `OVModelForXxx` class. However, ForMultipleChoice is not yet available so we will use `openvino.convert_model()` after exporting ONNX model\n",
    "- We'll use [irfanamal/bert_multiple_choice](https://huggingface.co/irfanamal/bert_multiple_choice) model from HuggingFace as an example\n",
    "- We also need the `vocab.txt` saved from `AutoTokenizer`. This is the same for every model, these are assets (saved in `/assets`) needed for tokenization inside Spark NLP."
   ]
  },
  {
   "cell_type": "code",
   "execution_count": null,
   "metadata": {
    "colab": {
     "base_uri": "https://localhost:8080/",
     "height": 345,
     "referenced_widgets": [
      "476c2a089f4140f3beac46c058db844a",
      "5e324ee26fdb4728b009b271ce03d92a",
      "8571c6f0b6b74ad59b5b6c3d511bdc28",
      "0e76b301dd4943acaec40d564cb43640",
      "3320814eafa64960962e2ef24ee6952d",
      "e61466c25e9649bcb2d6c403c3ad09a9",
      "06634b27375a44328e3c70f71bd7793b",
      "a8226b911bb646d38f7b33f2acb5fbfc",
      "601438b1923b4e29a233a2fe68484dfb",
      "64c50be2a08a415dad943a29e35cce76",
      "d953d4f0db8b4c09aa4d91b519133a57",
      "d66f2d39f6784e3b91d4db7d753e4c28",
      "3c1f5c4954794af0985232e5175153cb",
      "59ac8f012f624b27aa88c3396d92bff4",
      "1d3421e5546e49e7a1a04728c7b2d624",
      "a7fe1ddd5bce4e55b2c7cd0762648db1",
      "2ca5aa64e1ac4fffb6d175a62cd2d7d1",
      "51d7f1207baf4b258ab0a227882a1b3d",
      "bae835e9b96b42ef8e1e8968a0812281",
      "bff50bf1e15f45309094c011d255e39c",
      "6bf636c59d9b40f5b8bc182f28cd9e15",
      "5f52f245cfcd4d3a98aa1a24f3b52b48",
      "1b04ddb2d09247a2a0db7bfac2d33068",
      "fa477084cc3f4ad1826c16d0793c7dce",
      "9e603b95e82e4042b95793aecb2245fd",
      "ddd7c68936314d94bdbe38e5c2a1dfbf",
      "c3c80cc6ebdd4fedbfba3402f210baa5",
      "4edc84dd9b0843408e1b7af062f05790",
      "5ff76867f7b9418b83a328e392418faa",
      "a734ff7df5834f32a1dd4a94ab52f3cd",
      "ad0912b4150147cda6c7008c14ffca59",
      "d193fa0ba9604bf289d0c0491b23f803",
      "f8579fa6f3c84a77b0d81fe73fd1e1cf",
      "de5fa7eb3748449a802eca94a04354ca",
      "07a2f575d2cb45fcb2556a1bdff700f9",
      "32274b154d2d4a3e9837d0d14622b15c",
      "3a6988a46417403eb398f017e6cd55af",
      "28d13f00b9ee461299df4d75c21e7406",
      "65f781c93b6e4631b54302e761af7786",
      "d76018be6da045f1a61093e09605c025",
      "1fc03a4e01a04334a2e4ca387907b806",
      "5fad5b329d984c56883091bd5cf1ae44",
      "b26406e8c0614b41ae3f39c5d1367dea",
      "8c2872dca1a448e6bd0cb6ac1944f202",
      "156fdf0307f54dc8859115cbb39c4ad0",
      "d76023387a3a4daf91f0dd20958a64b8",
      "126eee89d9d14b469e746d5cb66424f2",
      "6d6a4dd7ebd34c58884527bd4cf00636",
      "02bbc884df984edabefde0a06c11b667",
      "b68f6dfc0ab649e68042b2ffef8eb674",
      "c24c3dad1c594107b59462657c2aa0bd",
      "e6bd2ce25363407280b2606640fb0e55",
      "94de789633e94afab3e6710f81c42823",
      "9e72bb25ddd643798d4b4efa7adb07cc",
      "d3989083f3804cba89ec6bb52dc91fc7",
      "fd456e423c124176a91bfb24e2f2eb02",
      "3c68fa38fb0c41238c2f06fe6c04e0ae",
      "7c6d45890dbf4b1a809a1770bc4616a1",
      "207ee4410a9546f4af74bdaf1e5686b2",
      "f65dbbcc35374bd89cdfb7ba5ef1c1b1",
      "1aaf239dc05e4b33bd4e3a253ea3aba8",
      "29841d8957bb44c3ab61913b9caae49f",
      "60761aee57ea40aa9d4d53df841d1f4e",
      "1f66ffd31e6d47748bea43d79cbf9893",
      "3f52ad52369845dc850114619919c9e9",
      "721ba88c72fb48e894a3d8da699b59bb",
      "2bb3cac377144b04a5aa348b026a48c1",
      "710e4f598acb44849574c1a4971f1b1f",
      "f53681f1a16f47568aa6066bf2c1531d",
      "ebd175c2a189475e90751a667e1b12a0",
      "f05eaabd918c4d6ca210448c3c492f21",
      "552039a1e9584e9a9484c5ec957e5303",
      "cd6831754a134ca9b94f57547c2b86cc",
      "0194e826961941f2bebc7bbbfebda31f",
      "e765474f10264804a60d33b43a70a873",
      "52e81862eb9f4549aee46489c28fda04",
      "0c2410c4ea1c494c9a76aa49cfd729cf"
     ]
    },
    "id": "_b89GvQKosA0",
    "outputId": "97565acd-0cb8-4fca-f556-703171193dc5"
   },
   "outputs": [
    {
     "name": "stderr",
     "output_type": "stream",
     "text": [
      "/usr/local/lib/python3.11/dist-packages/huggingface_hub/utils/_auth.py:94: UserWarning: \n",
      "The secret `HF_TOKEN` does not exist in your Colab secrets.\n",
      "To authenticate with the Hugging Face Hub, create a token in your settings tab (https://huggingface.co/settings/tokens), set it as secret in your Google Colab and restart your session.\n",
      "You will be able to reuse this secret in all of your notebooks.\n",
      "Please note that authentication is recommended but still optional to access public models or datasets.\n",
      "  warnings.warn(\n"
     ]
    },
    {
     "data": {
      "application/vnd.jupyter.widget-view+json": {
       "model_id": "476c2a089f4140f3beac46c058db844a",
       "version_major": 2,
       "version_minor": 0
      },
      "text/plain": [
       "config.json:   0%|          | 0.00/670 [00:00<?, ?B/s]"
      ]
     },
     "metadata": {},
     "output_type": "display_data"
    },
    {
     "data": {
      "application/vnd.jupyter.widget-view+json": {
       "model_id": "d66f2d39f6784e3b91d4db7d753e4c28",
       "version_major": 2,
       "version_minor": 0
      },
      "text/plain": [
       "pytorch_model.bin:   0%|          | 0.00/438M [00:00<?, ?B/s]"
      ]
     },
     "metadata": {},
     "output_type": "display_data"
    },
    {
     "data": {
      "application/vnd.jupyter.widget-view+json": {
       "model_id": "1b04ddb2d09247a2a0db7bfac2d33068",
       "version_major": 2,
       "version_minor": 0
      },
      "text/plain": [
       "tokenizer_config.json:   0%|          | 0.00/314 [00:00<?, ?B/s]"
      ]
     },
     "metadata": {},
     "output_type": "display_data"
    },
    {
     "data": {
      "application/vnd.jupyter.widget-view+json": {
       "model_id": "de5fa7eb3748449a802eca94a04354ca",
       "version_major": 2,
       "version_minor": 0
      },
      "text/plain": [
       "vocab.txt:   0%|          | 0.00/232k [00:00<?, ?B/s]"
      ]
     },
     "metadata": {},
     "output_type": "display_data"
    },
    {
     "data": {
      "application/vnd.jupyter.widget-view+json": {
       "model_id": "156fdf0307f54dc8859115cbb39c4ad0",
       "version_major": 2,
       "version_minor": 0
      },
      "text/plain": [
       "tokenizer.json:   0%|          | 0.00/711k [00:00<?, ?B/s]"
      ]
     },
     "metadata": {},
     "output_type": "display_data"
    },
    {
     "data": {
      "application/vnd.jupyter.widget-view+json": {
       "model_id": "fd456e423c124176a91bfb24e2f2eb02",
       "version_major": 2,
       "version_minor": 0
      },
      "text/plain": [
       "special_tokens_map.json:   0%|          | 0.00/125 [00:00<?, ?B/s]"
      ]
     },
     "metadata": {},
     "output_type": "display_data"
    },
    {
     "data": {
      "application/vnd.jupyter.widget-view+json": {
       "model_id": "2bb3cac377144b04a5aa348b026a48c1",
       "version_major": 2,
       "version_minor": 0
      },
      "text/plain": [
       "model.safetensors:   0%|          | 0.00/438M [00:00<?, ?B/s]"
      ]
     },
     "metadata": {},
     "output_type": "display_data"
    }
   ],
   "source": [
    "from optimum.onnxruntime import ORTModelForMultipleChoice\n",
    "from transformers import BertTokenizer\n",
    "import openvino as ov\n",
    "\n",
    "MODEL_NAME = \"irfanamal/bert_multiple_choice\"\n",
    "ONNX_MODEL_PATH = \"ov_models/bert_multiple_choice\"\n",
    "OPENVINO_MODEL_PATH = \"openvino_models\"\n",
    "\n",
    "ort_model = ORTModelForMultipleChoice.from_pretrained(MODEL_NAME, export=True)\n",
    "ort_model.save_pretrained(ONNX_MODEL_PATH)"
   ]
  },
  {
   "cell_type": "code",
   "execution_count": 4,
   "metadata": {
    "colab": {
     "base_uri": "https://localhost:8080/"
    },
    "id": "Y9aOfQ68QIeI",
    "outputId": "f64261df-cab1-4616-b2ea-42fd43852f0f"
   },
   "outputs": [
    {
     "data": {
      "text/plain": [
       "('openvino_models/tokenizer_config.json',\n",
       " 'openvino_models/special_tokens_map.json',\n",
       " 'openvino_models/vocab.txt',\n",
       " 'openvino_models/added_tokens.json')"
      ]
     },
     "execution_count": 4,
     "metadata": {},
     "output_type": "execute_result"
    }
   ],
   "source": [
    "ov_model = ov.convert_model(\"onnx_models/bert_multiple_choice/model.onnx\")\n",
    "ov.save_model(ov_model, \"openvino_models/openvino_model.xml\")\n",
    "\n",
    "tokenizer = BertTokenizer.from_pretrained(MODEL_NAME)\n",
    "tokenizer.save_pretrained(\"openvino_models\")"
   ]
  },
  {
   "cell_type": "markdown",
   "metadata": {
    "id": "nPJOedUc12SV"
   },
   "source": [
    "Let's have a look inside these two directories and see what we are dealing with:"
   ]
  },
  {
   "cell_type": "code",
   "execution_count": 5,
   "metadata": {
    "colab": {
     "base_uri": "https://localhost:8080/"
    },
    "id": "W_8BbitHRlX-",
    "outputId": "af9ebb87-7c01-4882-a5e8-ccb821cf7ce1"
   },
   "outputs": [
    {
     "name": "stdout",
     "output_type": "stream",
     "text": [
      "onnx_models/bert_multiple_choice:\n",
      "total 427972\n",
      "-rw-r--r-- 1 root root       630 Jun 19 22:31 config.json\n",
      "-rw-r--r-- 1 root root 438238205 Jun 19 22:31 model.onnx\n"
     ]
    }
   ],
   "source": [
    "!ls -lR {ONNX_MODEL_PATH}"
   ]
  },
  {
   "cell_type": "code",
   "execution_count": 6,
   "metadata": {
    "colab": {
     "base_uri": "https://localhost:8080/"
    },
    "id": "uaEtJwH32n2X",
    "outputId": "e0f74f43-d619-44ca-913a-11664af013e8"
   },
   "outputs": [
    {
     "name": "stdout",
     "output_type": "stream",
     "text": [
      "openvino_models:\n",
      "total 214656\n",
      "-rw-r--r-- 1 root root 218970320 Jun 19 22:31 openvino_model.bin\n",
      "-rw-r--r-- 1 root root    591013 Jun 19 22:31 openvino_model.xml\n",
      "-rw-r--r-- 1 root root       695 Jun 19 22:31 special_tokens_map.json\n",
      "-rw-r--r-- 1 root root      1272 Jun 19 22:31 tokenizer_config.json\n",
      "-rw-r--r-- 1 root root    231508 Jun 19 22:31 vocab.txt\n"
     ]
    }
   ],
   "source": [
    "!ls -lR {OPENVINO_MODEL_PATH}"
   ]
  },
  {
   "cell_type": "markdown",
   "metadata": {
    "id": "iesukw_ORvvs"
   },
   "source": [
    "- We need to move `vocab.txt` from the tokenizer to `assets` folder which Spark NLP will look for"
   ]
  },
  {
   "cell_type": "code",
   "execution_count": 7,
   "metadata": {
    "id": "0Rw7Hk2bu3t9"
   },
   "outputs": [],
   "source": [
    "!mkdir {OPENVINO_MODEL_PATH}/assets && mv {OPENVINO_MODEL_PATH}/vocab.txt {OPENVINO_MODEL_PATH}/assets"
   ]
  },
  {
   "cell_type": "markdown",
   "metadata": {
    "id": "m1dBeKlmRzyb"
   },
   "source": [
    "- Voila! We have our `vocab.txt` inside assets directory"
   ]
  },
  {
   "cell_type": "markdown",
   "metadata": {
    "id": "1dnTQ5lOoj6Y"
   },
   "source": [
    "## Import and Save BertForMultipleChoice in Spark NLP\n"
   ]
  },
  {
   "cell_type": "markdown",
   "metadata": {
    "id": "sJNgA5Lsoj6Y"
   },
   "source": [
    "- Install and set up Spark NLP in Google Colab\n",
    "- This example uses specific versions of `pyspark` and `spark-nlp` that have been tested with the transformer model to ensure everything runs smoothly."
   ]
  },
  {
   "cell_type": "code",
   "execution_count": 8,
   "metadata": {
    "colab": {
     "base_uri": "https://localhost:8080/"
    },
    "id": "_akaW4XQoj6Y",
    "outputId": "82636854-6238-4ff4-f808-120db0119d41"
   },
   "outputs": [
    {
     "name": "stdout",
     "output_type": "stream",
     "text": [
      "\u001b[2K     \u001b[90m━━━━━━━━━━━━━━━━━━━━━━━━━━━━━━━━━━━━━━━\u001b[0m \u001b[32m317.3/317.3 MB\u001b[0m \u001b[31m4.2 MB/s\u001b[0m eta \u001b[36m0:00:00\u001b[0m\n",
      "\u001b[?25h  Preparing metadata (setup.py) ... \u001b[?25l\u001b[?25hdone\n",
      "\u001b[2K   \u001b[90m━━━━━━━━━━━━━━━━━━━━━━━━━━━━━━━━━━━━━━━━\u001b[0m \u001b[32m635.7/635.7 kB\u001b[0m \u001b[31m36.4 MB/s\u001b[0m eta \u001b[36m0:00:00\u001b[0m\n",
      "\u001b[?25h  Building wheel for pyspark (setup.py) ... \u001b[?25l\u001b[?25hdone\n"
     ]
    }
   ],
   "source": [
    "!pip install -q pyspark==3.5.4 spark-nlp==5.5.3"
   ]
  },
  {
   "cell_type": "markdown",
   "metadata": {
    "id": "cPbYCJX3oj6Z"
   },
   "source": [
    "Let's start Spark with Spark NLP included via our simple `start()` function"
   ]
  },
  {
   "cell_type": "code",
   "execution_count": 9,
   "metadata": {
    "colab": {
     "base_uri": "https://localhost:8080/"
    },
    "id": "DKDNatX0oj6Z",
    "outputId": "574f7647-f748-40d4-eb7b-712941c8d480"
   },
   "outputs": [
    {
     "name": "stdout",
     "output_type": "stream",
     "text": [
      "Spark NLP version:  5.5.3\n",
      "Apache Spark version:  3.5.4\n"
     ]
    }
   ],
   "source": [
    "import sparknlp\n",
    "\n",
    "spark = sparknlp.start()\n",
    "\n",
    "print(\"Spark NLP version: \", sparknlp.version())\n",
    "print(\"Apache Spark version: \", spark.version)"
   ]
  },
  {
   "cell_type": "markdown",
   "metadata": {
    "id": "V4StW27Soj6Z"
   },
   "source": [
    "- Let's use `loadSavedModel` functon in `BertForMultipleChoice` which allows us to load TensorFlow model in SavedModel format\n",
    "- Most params can be set later when you are loading this model in `BertForMultipleChoice` in runtime, so don't worry what you are setting them now\n",
    "- `loadSavedModel` accepts two params, first is the path to the TF SavedModel. The second is the SparkSession that is `spark` variable we previously started via `sparknlp.start()`\n",
    "- NOTE: `loadSavedModel` accepts local paths in addition to distributed file systems such as `HDFS`, `S3`, `DBFS`, etc. This feature was introduced in Spark NLP 4.2.2 release. Keep in mind the best and recommended way to move/share/reuse Spark NLP models is to use `write.save` so you can use `.load()` from any file systems natively.\n"
   ]
  },
  {
   "cell_type": "code",
   "execution_count": 10,
   "metadata": {
    "id": "ynBhuIHYvRsT"
   },
   "outputs": [],
   "source": [
    "from sparknlp.annotator import BertForMultipleChoice\n",
    "\n",
    "bertMultpleChoiceClassifier = BertForMultipleChoice.loadSavedModel(\n",
    "     f\"{OPENVINO_MODEL_PATH}\",\n",
    "     spark\n",
    " )\\\n",
    "  .setInputCols([\"document_question\", \"document_context\"])\\\n",
    "  .setOutputCol(\"answer\")"
   ]
  },
  {
   "cell_type": "markdown",
   "metadata": {
    "id": "i43GhTAboj6a"
   },
   "source": [
    "- Let's save it on disk so it is easier to be moved around and also be used later via `.load` function"
   ]
  },
  {
   "cell_type": "code",
   "execution_count": 11,
   "metadata": {
    "id": "R8wNk77eoj6a"
   },
   "outputs": [],
   "source": [
    "bertMultpleChoiceClassifier.write().overwrite().save(\"./{}_spark_nlp_openvino\".format(MODEL_NAME))"
   ]
  },
  {
   "cell_type": "markdown",
   "metadata": {
    "id": "x6ouvaGcoj6a"
   },
   "source": [
    "Let's clean up stuff we don't need anymore"
   ]
  },
  {
   "cell_type": "code",
   "execution_count": 12,
   "metadata": {
    "id": "y_tcguNFoj6a"
   },
   "outputs": [],
   "source": [
    "!rm -rf {ONNX_MODEL_PATH}\n",
    "!rm -rf {OPENVINO_MODEL_PATH}"
   ]
  },
  {
   "cell_type": "markdown",
   "metadata": {
    "id": "WA8W1mRvoj6a"
   },
   "source": [
    "Awesome 😎  !\n",
    "\n",
    "This is your`BertForMultipleChoice` model from HuggingFace 🤗  loaded and saved by Spark NLP 🚀"
   ]
  },
  {
   "cell_type": "code",
   "execution_count": 13,
   "metadata": {
    "colab": {
     "base_uri": "https://localhost:8080/"
    },
    "id": "Rmhv_0aDoj6a",
    "outputId": "c9a83ba9-c881-4ae2-f2fe-fd156483d590"
   },
   "outputs": [
    {
     "name": "stdout",
     "output_type": "stream",
     "text": [
      "total 214464\n",
      "-rw-r--r-- 1 root root 219595121 Jun 19 22:33 bert_mc_classification_openvino\n",
      "drwxr-xr-x 3 root root      4096 Jun 19 22:33 fields\n",
      "drwxr-xr-x 2 root root      4096 Jun 19 22:33 metadata\n"
     ]
    }
   ],
   "source": [
    "! ls -l {MODEL_NAME}_spark_nlp_openvino"
   ]
  },
  {
   "cell_type": "markdown",
   "metadata": {
    "id": "byPNuWVUoj6a"
   },
   "source": [
    "Now let's see how we can use it on other machines, clusters, or any place you wish to use your new and shiny `BertForMultipleChoice` model 😊"
   ]
  },
  {
   "cell_type": "code",
   "execution_count": 14,
   "metadata": {
    "id": "yA_7rFpBwFJ-"
   },
   "outputs": [],
   "source": [
    "testing_data = [\n",
    "    (\"In Italy, pizza in formal settings is served unsliced.\", \"With fork and knife, In hand.\"),\n",
    "    (\"The Eiffel Tower is in which country?\", \"Germany, France, Italy\"),\n",
    "    (\"Which animal is the king of the jungle?\", \"Lion, Elephant, Tiger, Leopard\"),\n",
    "    (\"Water boils at what temperature?\", \"90°C, 120°C, 100°C\"),\n",
    "    (\"Which planet is the Red Planet?\", \"Jupiter, Mars, Venus\"),\n",
    "    (\"Primary language in Brazil?\", \"Spanish, Portuguese, English\"),\n",
    "    (\"The Great Wall of China was built to defend against?\", \"Greeks, Romans, Mongols, Persians\"),\n",
    "    (\"Element with symbol 'O'?\", \"Oxygen, Osmium, Ozone\"),\n",
    "    (\"Sahara Desert is in which continent?\", \"Asia, Africa, South America\"),\n",
    "    (\"Who painted the Mona Lisa?\", \"Van Gogh, Da Vinci, Picasso\")\n",
    "]"
   ]
  },
  {
   "cell_type": "code",
   "execution_count": 15,
   "metadata": {
    "colab": {
     "base_uri": "https://localhost:8080/"
    },
    "id": "bHDg4DWL59Mg",
    "outputId": "f4a318a9-bd81-4344-c9f7-8ac0195ccd4b"
   },
   "outputs": [
    {
     "name": "stdout",
     "output_type": "stream",
     "text": [
      "+------------------------------------------------------+---------------------------------+\n",
      "|question                                              |choices                          |\n",
      "+------------------------------------------------------+---------------------------------+\n",
      "|In Italy, pizza in formal settings is served unsliced.|With fork and knife, In hand.    |\n",
      "|The Eiffel Tower is in which country?                 |Germany, France, Italy           |\n",
      "|Which animal is the king of the jungle?               |Lion, Elephant, Tiger, Leopard   |\n",
      "|Water boils at what temperature?                      |90°C, 120°C, 100°C               |\n",
      "|Which planet is the Red Planet?                       |Jupiter, Mars, Venus             |\n",
      "|Primary language in Brazil?                           |Spanish, Portuguese, English     |\n",
      "|The Great Wall of China was built to defend against?  |Greeks, Romans, Mongols, Persians|\n",
      "|Element with symbol 'O'?                              |Oxygen, Osmium, Ozone            |\n",
      "|Sahara Desert is in which continent?                  |Asia, Africa, South America      |\n",
      "|Who painted the Mona Lisa?                            |Van Gogh, Da Vinci, Picasso      |\n",
      "+------------------------------------------------------+---------------------------------+\n",
      "\n"
     ]
    }
   ],
   "source": [
    "testing_df = spark.createDataFrame(testing_data, [\"question\", \"choices\"])\n",
    "testing_df.show(truncate=False)"
   ]
  },
  {
   "cell_type": "markdown",
   "metadata": {
    "id": "_pVOjQYEoj6b"
   },
   "source": [
    "This is how you can use your loaded classifier model in Spark NLP 🚀 pipeline:"
   ]
  },
  {
   "cell_type": "code",
   "execution_count": 16,
   "metadata": {
    "colab": {
     "base_uri": "https://localhost:8080/"
    },
    "id": "NQpD9sRoK62O",
    "outputId": "43536519-fe21-4ae4-be90-8278427fb6f8"
   },
   "outputs": [
    {
     "name": "stdout",
     "output_type": "stream",
     "text": [
      "+------------------------------------------------------+---------------------------------+---------------------+\n",
      "|question                                              |choices                          |result               |\n",
      "+------------------------------------------------------+---------------------------------+---------------------+\n",
      "|In Italy, pizza in formal settings is served unsliced.|With fork and knife, In hand.    |[With fork and knife]|\n",
      "|The Eiffel Tower is in which country?                 |Germany, France, Italy           |[ France]            |\n",
      "|Which animal is the king of the jungle?               |Lion, Elephant, Tiger, Leopard   |[Lion]               |\n",
      "|Water boils at what temperature?                      |90°C, 120°C, 100°C               |[90°C]               |\n",
      "|Which planet is the Red Planet?                       |Jupiter, Mars, Venus             |[ Mars]              |\n",
      "|Primary language in Brazil?                           |Spanish, Portuguese, English     |[ English]           |\n",
      "|The Great Wall of China was built to defend against?  |Greeks, Romans, Mongols, Persians|[ Mongols]           |\n",
      "|Element with symbol 'O'?                              |Oxygen, Osmium, Ozone            |[Oxygen]             |\n",
      "|Sahara Desert is in which continent?                  |Asia, Africa, South America      |[ Africa]            |\n",
      "|Who painted the Mona Lisa?                            |Van Gogh, Da Vinci, Picasso      |[Van Gogh]           |\n",
      "+------------------------------------------------------+---------------------------------+---------------------+\n",
      "\n"
     ]
    }
   ],
   "source": [
    "from pyspark.ml import Pipeline\n",
    "from sparknlp.annotator import BertForMultipleChoice\n",
    "from sparknlp.base import MultiDocumentAssembler\n",
    "\n",
    "document_assembler = MultiDocumentAssembler() \\\n",
    "    .setInputCols([\"question\", \"choices\"]) \\\n",
    "    .setOutputCols([\"document_question\", \"document_choices\"])\n",
    "\n",
    "bert_model = BertForMultipleChoice() \\\n",
    "    .load(f\"{MODEL_NAME}_spark_nlp_openvino\") \\\n",
    "    .setInputCols([\"document_question\", \"document_choices\"]) \\\n",
    "    .setOutputCol(\"answer\") \\\n",
    "    .setBatchSize(4)\n",
    "\n",
    "pipeline = Pipeline(stages=[\n",
    "    document_assembler,\n",
    "    bert_model\n",
    "])\n",
    "\n",
    "pipeline_model = pipeline.fit(testing_df)\n",
    "result_df = pipeline_model.transform(testing_df)\n",
    "\n",
    "result_df.select(\"question\", \"choices\", \"answer.result\").show(truncate=False)"
   ]
  },
  {
   "cell_type": "markdown",
   "metadata": {
    "id": "lpxiq1igoj6c"
   },
   "source": [
    "That's it! You can now go wild and use hundreds of `BertForMultipleChoice` models from HuggingFace 🤗 in Spark NLP 🚀\n"
   ]
  }
 ],
 "metadata": {
  "colab": {
   "provenance": []
  },
  "kernelspec": {
   "display_name": "Python 3",
   "name": "python3"
  },
  "language_info": {
   "codemirror_mode": {
    "name": "ipython",
    "version": 3
   },
   "file_extension": ".py",
   "mimetype": "text/x-python",
   "name": "python",
   "nbconvert_exporter": "python",
   "pygments_lexer": "ipython3",
   "version": "3.10.12"
  }
 },
 "nbformat": 4,
 "nbformat_minor": 0
}
