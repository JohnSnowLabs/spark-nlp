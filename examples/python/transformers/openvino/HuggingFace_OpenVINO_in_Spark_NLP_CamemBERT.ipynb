{
 "cells": [
  {
   "cell_type": "markdown",
   "metadata": {
    "id": "_V5XcDCnVgSi"
   },
   "source": [
    "![JohnSnowLabs](https://sparknlp.org/assets/images/logo.png)\n",
    "\n",
    "[![Open In Colab](https://colab.research.google.com/assets/colab-badge.svg)](https://colab.research.google.com/github/JohnSnowLabs/spark-nlp/blob/master/examples/python/transformers/openvino/HuggingFace_OpenVINO_in_Spark_NLP_CamemBERT.ipynb)\n",
    "\n",
    "# Import OpenVINO CamemBERT models from HuggingFace 🤗 into Spark NLP 🚀\n",
    "\n",
    "This notebook provides a detailed walkthrough on optimizing and exporting BGE models from HuggingFace for use in Spark NLP, leveraging the various tools provided in the [Intel OpenVINO toolkit](https://www.intel.com/content/www/us/en/developer/tools/openvino-toolkit/overview.html) ecosystem.\n",
    "\n",
    "Let's keep in mind a few things before we start 😊\n",
    "\n",
    "- OpenVINO support was introduced in  `Spark NLP 5.4.0`, enabling high performance inference for models. Please make sure you have upgraded to the latest Spark NLP release.\n",
    "- You can import models for CamemBERT from CamemBERT and they have to be in `Fill Mask` category."
   ]
  },
  {
   "cell_type": "markdown",
   "metadata": {
    "id": "aghasVppVgSk"
   },
   "source": [
    "## 1. Export and Save the HuggingFace model"
   ]
  },
  {
   "cell_type": "markdown",
   "metadata": {
    "id": "be4HsTDMVgSk"
   },
   "source": [
    "- Let's install `transformers` and `openvino` packages with other dependencies. You don't need `openvino` to be installed for Spark NLP, however, we need it to load and save models from HuggingFace.\n",
    "- We lock `transformers` on version `4.48.3`. This doesn't mean it won't work with the future releases, but we wanted you to know which versions have been tested successfully."
   ]
  },
  {
   "cell_type": "code",
   "execution_count": null,
   "metadata": {
    "colab": {
     "base_uri": "https://localhost:8080/"
    },
    "id": "fCcqmO9HF2CS",
    "outputId": "47a979da-2c4b-4c18-ed13-cb8150260410"
   },
   "outputs": [],
   "source": [
    "!pip install -q --upgrade transformers==4.48.3 optimum[openvino]"
   ]
  },
  {
   "cell_type": "markdown",
   "metadata": {
    "id": "vI7uz_6hVgSl"
   },
   "source": [
    "[Optimum Intel](https://github.com/huggingface/optimum-intel?tab=readme-ov-file#openvino) is the interface between the Transformers library and the various model optimization and acceleration tools provided by Intel. HuggingFace models loaded with optimum-intel are automatically optimized for OpenVINO, while being compatible with the Transformers API.\n",
    "- To load a HuggingFace model directly for inference/export, just replace the `AutoModelForXxx` class with the corresponding `OVModelForXxx` class. We can use this to import and export OpenVINO models with `from_pretrained` and `save_pretrained`.\n",
    "- By setting `export=True`, the source model is converted to OpenVINO IR format on the fly.\n",
    "- We'll use [camembert-base](https://huggingface.co/camembert-base) model from HuggingFace as an example and load it as a `OVModelForFeatureExtraction`, representing an OpenVINO model.\n",
    "- In addition to the OVModelForFeatureExtraction model, we also need to save the `AutoTokenizer`. This is the same for every model, these are assets (saved in `/assets`) needed for tokenization inside Spark NLP."
   ]
  },
  {
   "cell_type": "code",
   "execution_count": 2,
   "metadata": {
    "colab": {
     "base_uri": "https://localhost:8080/",
     "height": 403,
     "referenced_widgets": [
      "fb8a9d22b57d42e7bd689f81edbd63e0",
      "22f42d8f5eb44759893a4d8e9b36c177",
      "31efbe3155dc459a8fc25cfe0dc0e406",
      "1c811b4bced3482f9fe3e58df75c3567",
      "1c2e64641f6f473b89f86595ae2e7ab9",
      "90c92c87bb1242f39a642501a24fa10b",
      "8d4ae7e1968c4e359890748919c45a78",
      "bb671c77331f4dd68b2fa6afbe793d6d",
      "681645a9f3ab42f58c25f2fbb24692a9",
      "4b942cf051344e898ce7edf33fd4a128",
      "d30d82412c694061bc496c9e36d9f545",
      "cc20c54c59b74ac8bd2303321b961e60",
      "b96e9021d5614f18908fe6155819205c",
      "de75263dda0c443baa7dabe5838a5afb",
      "0fc84365d6fb44dd84d21f4bee471bb7",
      "1e56fc2458f74e518112198413b4d20e",
      "d54c20fc25ca4d82b3ffa2c2016711a9",
      "6c733edf145c409882ec06496373d7f6",
      "db742ed864ae4456a912949fe302c5b0",
      "eba4a614b439466f819d593d69a5e3ab",
      "4c58a4980b9d43c6ab247d7040e91868",
      "cba6c64343e74559a04418c1ee3b7e69",
      "a7715832367e43998f3c97dc06d54920",
      "a86f6b025d874cde89baa0d1f157d769",
      "53806d24d97d44f19305238502412590",
      "69eca3ec8c094891891c3b72ba114e0a",
      "2f71d1474142467fab474101a160a5f7",
      "c32f9050279844a2889482c485aad226",
      "e242d32e1da341b68f8691c5b6b898d3",
      "703668214bcd46aa80ec55744250d269",
      "411b2943c2354e449b124dc7d4482d9c",
      "ae03a02d2b184d4184f53973bbad4c8b",
      "570ba50b954f4bff83c6fcec92654aa3",
      "aab86ddad56c43759302a83b39f71326",
      "ced04844e91043148792a942f55d2573",
      "09aebc6b42054defbd987b866cb4500f",
      "3cdafc17ad264bcb8437c4e7aef52976",
      "6ba3857fc4a24d2db435b6b700fe26f3",
      "c3902949ea4b4efbaba639eb5e88a8d3",
      "146b3ff45de545a79a6ac507db9d6892",
      "09563955e25f44dba11a1bc95ea7275b",
      "7a1f0dc4ac0449489689e3449377d4ee",
      "a28a74c01a6549fca6de1f177d6a5d6b",
      "6fa1b3002e1b487aafdd5e52236efc20",
      "b3f5da4fc8d542f79c785ac41d8cdf13",
      "e9459783ec4441c69cf6c4acbf85d238",
      "a94f425ec92b41acaac78950c48c7b52",
      "8502896fc82d419aa5881a4d811d88d6",
      "feeddab49f0b438780653a5bf321be73",
      "52397af2817b445d91e74fb5fd50ee14",
      "2689e173b782440cb03aa1db427b31a2",
      "fe3a574f58da4bc382c11f6f6bce1d28",
      "a49a589425fb42ff8bbe7d8c7ff7427d",
      "25a46be74fa74c6a9f835d65119650f9",
      "3ad18a48a16f4d38be3df8e017ff41fa"
     ]
    },
    "id": "qF5Pp3DuVgSm",
    "outputId": "b48daa11-cdab-48bf-8d35-1c52d1be4d79"
   },
   "outputs": [
    {
     "name": "stderr",
     "output_type": "stream",
     "text": [
      "No CUDA runtime is found, using CUDA_HOME='/usr/local/cuda'\n",
      "/usr/local/lib/python3.11/dist-packages/huggingface_hub/utils/_auth.py:94: UserWarning: \n",
      "The secret `HF_TOKEN` does not exist in your Colab secrets.\n",
      "To authenticate with the Hugging Face Hub, create a token in your settings tab (https://huggingface.co/settings/tokens), set it as secret in your Google Colab and restart your session.\n",
      "You will be able to reuse this secret in all of your notebooks.\n",
      "Please note that authentication is recommended but still optional to access public models or datasets.\n",
      "  warnings.warn(\n"
     ]
    },
    {
     "data": {
      "application/vnd.jupyter.widget-view+json": {
       "model_id": "fb8a9d22b57d42e7bd689f81edbd63e0",
       "version_major": 2,
       "version_minor": 0
      },
      "text/plain": [
       "config.json:   0%|          | 0.00/508 [00:00<?, ?B/s]"
      ]
     },
     "metadata": {},
     "output_type": "display_data"
    },
    {
     "data": {
      "application/vnd.jupyter.widget-view+json": {
       "model_id": "cc20c54c59b74ac8bd2303321b961e60",
       "version_major": 2,
       "version_minor": 0
      },
      "text/plain": [
       "model.safetensors:   0%|          | 0.00/445M [00:00<?, ?B/s]"
      ]
     },
     "metadata": {},
     "output_type": "display_data"
    },
    {
     "data": {
      "application/vnd.jupyter.widget-view+json": {
       "model_id": "a7715832367e43998f3c97dc06d54920",
       "version_major": 2,
       "version_minor": 0
      },
      "text/plain": [
       "tokenizer_config.json:   0%|          | 0.00/25.0 [00:00<?, ?B/s]"
      ]
     },
     "metadata": {},
     "output_type": "display_data"
    },
    {
     "data": {
      "application/vnd.jupyter.widget-view+json": {
       "model_id": "aab86ddad56c43759302a83b39f71326",
       "version_major": 2,
       "version_minor": 0
      },
      "text/plain": [
       "sentencepiece.bpe.model:   0%|          | 0.00/811k [00:00<?, ?B/s]"
      ]
     },
     "metadata": {},
     "output_type": "display_data"
    },
    {
     "data": {
      "application/vnd.jupyter.widget-view+json": {
       "model_id": "b3f5da4fc8d542f79c785ac41d8cdf13",
       "version_major": 2,
       "version_minor": 0
      },
      "text/plain": [
       "tokenizer.json:   0%|          | 0.00/1.40M [00:00<?, ?B/s]"
      ]
     },
     "metadata": {},
     "output_type": "display_data"
    },
    {
     "name": "stderr",
     "output_type": "stream",
     "text": [
      "`loss_type=None` was set in the config but it is unrecognised.Using the default loss: `ForCausalLMLoss`.\n"
     ]
    },
    {
     "data": {
      "text/plain": [
       "('ov_models/camembert-base/tokenizer_config.json',\n",
       " 'ov_models/camembert-base/special_tokens_map.json',\n",
       " 'ov_models/camembert-base/sentencepiece.bpe.model',\n",
       " 'ov_models/camembert-base/added_tokens.json',\n",
       " 'ov_models/camembert-base/tokenizer.json')"
      ]
     },
     "execution_count": 2,
     "metadata": {},
     "output_type": "execute_result"
    }
   ],
   "source": [
    "from optimum.intel import OVModelForFeatureExtraction\n",
    "from transformers import AutoTokenizer\n",
    "\n",
    "MODEL_NAME = \"camembert-base\"\n",
    "EXPORT_PATH = f\"ov_models/{MODEL_NAME}\"\n",
    "\n",
    "ov_model = OVModelForFeatureExtraction.from_pretrained(MODEL_NAME, export=True)\n",
    "tokenizer = AutoTokenizer.from_pretrained(MODEL_NAME)\n",
    "\n",
    "ov_model.save_pretrained(EXPORT_PATH)\n",
    "tokenizer.save_pretrained(EXPORT_PATH)"
   ]
  },
  {
   "cell_type": "markdown",
   "metadata": {
    "id": "h_sLncT2Izzj"
   },
   "source": [
    "- Let's have a look inside these two directories and see what we are dealing with:"
   ]
  },
  {
   "cell_type": "code",
   "execution_count": 3,
   "metadata": {
    "colab": {
     "base_uri": "https://localhost:8080/"
    },
    "id": "nsF1DlA9I2S-",
    "outputId": "f0bfb953-822a-400a-8f1e-6f985eacc134"
   },
   "outputs": [
    {
     "name": "stdout",
     "output_type": "stream",
     "text": [
      "total 433348\n",
      "-rw-r--r-- 1 root root        28 Jun 20 02:23 added_tokens.json\n",
      "-rw-r--r-- 1 root root       673 Jun 20 02:23 config.json\n",
      "-rw-r--r-- 1 root root 440129712 Jun 20 02:23 openvino_model.bin\n",
      "-rw-r--r-- 1 root root    367821 Jun 20 02:23 openvino_model.xml\n",
      "-rw-r--r-- 1 root root    810912 Jun 20 02:23 sentencepiece.bpe.model\n",
      "-rw-r--r-- 1 root root       374 Jun 20 02:23 special_tokens_map.json\n",
      "-rw-r--r-- 1 root root      1793 Jun 20 02:23 tokenizer_config.json\n",
      "-rw-r--r-- 1 root root   2419062 Jun 20 02:23 tokenizer.json\n"
     ]
    }
   ],
   "source": [
    "!ls -l {EXPORT_PATH}"
   ]
  },
  {
   "cell_type": "markdown",
   "metadata": {
    "id": "fBNQpHMWIsz3"
   },
   "source": [
    "- We need to move the `sentencepiece.bpe.model` file from the tokenizer into an assets folder, as this is where Spark NLP looks for it when working with models like Camembert or other SentencePiece-based tokenizers."
   ]
  },
  {
   "cell_type": "code",
   "execution_count": 4,
   "metadata": {
    "id": "JjuxeO8sC7ry"
   },
   "outputs": [],
   "source": [
    "!mkdir -p {EXPORT_PATH}/assets & mv {EXPORT_PATH}/sentencepiece.bpe.model {EXPORT_PATH}/assets/"
   ]
  },
  {
   "cell_type": "code",
   "execution_count": 5,
   "metadata": {
    "colab": {
     "base_uri": "https://localhost:8080/"
    },
    "id": "4jXaSNo8I4Fj",
    "outputId": "b1526f58-fd43-42e4-ae06-57fd9ed398d0"
   },
   "outputs": [
    {
     "name": "stdout",
     "output_type": "stream",
     "text": [
      "total 792\n",
      "-rw-r--r-- 1 root root 810912 Jun 20 02:23 sentencepiece.bpe.model\n"
     ]
    }
   ],
   "source": [
    "!ls -l {EXPORT_PATH}/assets"
   ]
  },
  {
   "cell_type": "markdown",
   "metadata": {
    "id": "a7ER6llMIvSU"
   },
   "source": [
    "- Voila! We have our `sentencepiece.bpe.model` inside assets directory"
   ]
  },
  {
   "cell_type": "markdown",
   "metadata": {
    "id": "LLHpTqbkqz6d"
   },
   "source": [
    "## Import and Save CamemBERT in Spark NLP\n",
    "\n",
    "- Let's install and setup Spark NLP in Google Colab.\n",
    "- For this example, we'll use specific versions of `pyspark` and `spark-nlp` that we've already tested with this transformer model to make sure everything runs smoothly."
   ]
  },
  {
   "cell_type": "code",
   "execution_count": 6,
   "metadata": {
    "colab": {
     "base_uri": "https://localhost:8080/"
    },
    "id": "cAFpcH2Cqz6d",
    "outputId": "1c22f516-629c-4c9e-902b-c8f8dd9b3799"
   },
   "outputs": [
    {
     "name": "stdout",
     "output_type": "stream",
     "text": [
      "\u001b[2K     \u001b[90m━━━━━━━━━━━━━━━━━━━━━━━━━━━━━━━━━━━━━━━━\u001b[0m \u001b[32m317.3/317.3 MB\u001b[0m \u001b[31m3.8 MB/s\u001b[0m eta \u001b[36m0:00:00\u001b[0m\n",
      "\u001b[?25h  Preparing metadata (setup.py) ... \u001b[?25l\u001b[?25hdone\n",
      "\u001b[2K   \u001b[90m━━━━━━━━━━━━━━━━━━━━━━━━━━━━━━━━━━━━━━━━\u001b[0m \u001b[32m635.7/635.7 kB\u001b[0m \u001b[31m22.3 MB/s\u001b[0m eta \u001b[36m0:00:00\u001b[0m\n",
      "\u001b[?25h  Building wheel for pyspark (setup.py) ... \u001b[?25l\u001b[?25hdone\n"
     ]
    }
   ],
   "source": [
    "!pip install -q pyspark==3.5.4 spark-nlp==5.5.3"
   ]
  },
  {
   "cell_type": "markdown",
   "metadata": {
    "id": "tXnPOV7Oqz6e"
   },
   "source": [
    "Let's start Spark with Spark NLP included via our simple `start()` function"
   ]
  },
  {
   "cell_type": "code",
   "execution_count": 7,
   "metadata": {
    "colab": {
     "base_uri": "https://localhost:8080/"
    },
    "id": "Eih6iW1Bqz6e",
    "outputId": "c72834e3-c382-40fa-f83c-ccf045a02a63"
   },
   "outputs": [
    {
     "name": "stdout",
     "output_type": "stream",
     "text": [
      "Spark NLP version:  5.5.3\n",
      "Apache Spark version:  3.5.4\n"
     ]
    }
   ],
   "source": [
    "import sparknlp\n",
    "\n",
    "spark = sparknlp.start()\n",
    "\n",
    "print(\"Spark NLP version: \", sparknlp.version())\n",
    "print(\"Apache Spark version: \", spark.version)"
   ]
  },
  {
   "cell_type": "markdown",
   "metadata": {
    "id": "08HwqSB6qz6e"
   },
   "source": [
    "- Let's use `loadSavedModel` functon in `CamemBertEmbeddings` which allows us to load the ONNX model\n",
    "- Most params will be set automatically. They can also be set later after loading the model in `CamemBertEmbeddings` during runtime, so don't worry about setting them now\n",
    "- `loadSavedModel` accepts two params, first is the path to the exported model. The second is the SparkSession that is `spark` variable we previously started via `sparknlp.start()`\n",
    "- `setStorageRef` is very important. When you are training a task like NER or any Text Classification, we use this reference to bound the trained model to this specific embeddings so you won't load a different embeddings by mistake and see terrible results 😊\n",
    "- It's up to you what you put in `setStorageRef` but it cannot be changed later on. We usually use the name of the model to be clear, but you can get creative if you want!\n",
    "- The `dimension` param is is purely cosmetic and won't change anything. It's mostly for you to know later via `.getDimension` what is the dimension of your model. So set this accordingly.\n",
    "- NOTE: `loadSavedModel` accepts local paths in addition to distributed file systems such as `HDFS`, `S3`, `DBFS`, etc. This feature was introduced in Spark NLP 4.2.2 release. Keep in mind the best and recommended way to move/share/reuse Spark NLP models is to use `write.save` so you can use `.load()` from any file systems natively.st and recommended way to move/share/reuse Spark NLP models is to use `write.save` so you can use `.load()` from any file systems natively.\n"
   ]
  },
  {
   "cell_type": "code",
   "execution_count": 8,
   "metadata": {
    "id": "yo0FZZQ4qz6f"
   },
   "outputs": [],
   "source": [
    "from sparknlp.annotator import CamemBertEmbeddings\n",
    "\n",
    "camembert = CamemBertEmbeddings.loadSavedModel(f\"{EXPORT_PATH}\", spark)\\\n",
    "    .setInputCols([\"document\",'token'])\\\n",
    "    .setOutputCol(\"camembert\")\\\n",
    "    .setCaseSensitive(True)\\\n",
    "    .setDimension(768)\\\n",
    "    .setStorageRef('camembert_base')"
   ]
  },
  {
   "cell_type": "markdown",
   "metadata": {
    "id": "FySj4Pp-qz6f"
   },
   "source": [
    "- Let's save it on disk so it is easier to be moved around and also be used later via `.load` function"
   ]
  },
  {
   "cell_type": "code",
   "execution_count": 9,
   "metadata": {
    "id": "ip1wmQ7Yqz6f"
   },
   "outputs": [],
   "source": [
    "camembert.write().overwrite().save(f\"{MODEL_NAME}_spark_nlp\")"
   ]
  },
  {
   "cell_type": "markdown",
   "metadata": {
    "id": "-YtYGiGoqz6f"
   },
   "source": [
    "Let's clean up stuff we don't need anymore"
   ]
  },
  {
   "cell_type": "code",
   "execution_count": 10,
   "metadata": {
    "id": "BdfutZInqz6f"
   },
   "outputs": [],
   "source": [
    "!rm -rf {EXPORT_PATH}"
   ]
  },
  {
   "cell_type": "markdown",
   "metadata": {
    "id": "9zAbFXVPqz6g"
   },
   "source": [
    "Awesome  😎 !\n",
    "\n",
    "This is your ONNX CamemBERT model from HuggingFace 🤗  loaded and saved by Spark NLP 🚀"
   ]
  },
  {
   "cell_type": "code",
   "execution_count": 11,
   "metadata": {
    "colab": {
     "base_uri": "https://localhost:8080/"
    },
    "id": "_ErcZEdqqz6g",
    "outputId": "ffef45c9-0183-4e0a-d45a-bb47b9b218d5"
   },
   "outputs": [
    {
     "name": "stdout",
     "output_type": "stream",
     "text": [
      "total 431040\n",
      "-rw-r--r-- 1 root root 440565031 Jun 20 02:26 camembert_openvino\n",
      "-rw-r--r-- 1 root root    810912 Jun 20 02:26 camembert_spp\n",
      "drwxr-xr-x 2 root root      4096 Jun 20 02:26 metadata\n"
     ]
    }
   ],
   "source": [
    "! ls -l {MODEL_NAME}_spark_nlp"
   ]
  },
  {
   "cell_type": "markdown",
   "metadata": {
    "id": "vL9Q5lYsqz6g"
   },
   "source": [
    "Now let's see how we can use it on other machines, clusters, or any place you wish to use your new and shiny CamemBERT model 😊"
   ]
  },
  {
   "cell_type": "code",
   "execution_count": 12,
   "metadata": {
    "colab": {
     "base_uri": "https://localhost:8080/"
    },
    "id": "65kTPugsHeAg",
    "outputId": "955d853c-b424-4474-a440-1356df6a1ef3"
   },
   "outputs": [
    {
     "name": "stdout",
     "output_type": "stream",
     "text": [
      "+--------------------+\n",
      "|          embeddings|\n",
      "+--------------------+\n",
      "|[-0.04879852, 0.1...|\n",
      "|[0.0070337676, 0....|\n",
      "|[-0.021704692, -0...|\n",
      "|[0.045735065, 0.0...|\n",
      "|[0.09295651, 0.07...|\n",
      "|[0.06815264, 0.22...|\n",
      "|[0.084715754, -0....|\n",
      "|[0.19377197, 0.50...|\n",
      "|[0.110435516, -0....|\n",
      "|[0.2018031, 0.097...|\n",
      "|[0.0867472, 0.236...|\n",
      "|[0.108063236, 0.4...|\n",
      "|[0.11615941, 0.42...|\n",
      "|[0.029693928, -0....|\n",
      "|[0.030706853, 0.1...|\n",
      "|[-0.019459227, 0....|\n",
      "|[0.083475836, -0....|\n",
      "|[-0.012706244, 0....|\n",
      "|[-0.055338055, 0....|\n",
      "|[0.07156172, -0.1...|\n",
      "+--------------------+\n",
      "only showing top 20 rows\n",
      "\n"
     ]
    }
   ],
   "source": [
    "from pyspark.ml import Pipeline\n",
    "from sparknlp.annotator import Tokenizer\n",
    "from sparknlp.base import DocumentAssembler\n",
    "\n",
    "document_assembler = DocumentAssembler() \\\n",
    "    .setInputCol(\"text\") \\\n",
    "    .setOutputCol(\"document\")\n",
    "\n",
    "tokenizer = Tokenizer() \\\n",
    "    .setInputCols([\"document\"]) \\\n",
    "    .setOutputCol(\"token\")\n",
    "\n",
    "camembert_loaded = CamemBertEmbeddings.load(f\"{MODEL_NAME}_spark_nlp\") \\\n",
    "    .setInputCols([\"document\", \"token\"]) \\\n",
    "    .setOutputCol(\"camembert\")\n",
    "\n",
    "pipeline = Pipeline(stages=[\n",
    "    document_assembler,\n",
    "    tokenizer,\n",
    "    camembert_loaded\n",
    "])\n",
    "\n",
    "data = spark.createDataFrame([\n",
    "    [\"William Henry Gates III (born October 28, 1955) is an American business magnate, software developer, investor, and philanthropist.\"]\n",
    "]).toDF(\"text\")\n",
    "\n",
    "model = pipeline.fit(data)\n",
    "result = model.transform(data)\n",
    "\n",
    "result.selectExpr(\"explode(camembert.embeddings) as embeddings\").show()"
   ]
  },
  {
   "cell_type": "markdown",
   "metadata": {
    "id": "mBTrU5Pvqz6h"
   },
   "source": [
    "That's it! You can now go wild and use hundreds of CamemBERT models from HuggingFace 🤗 in Spark NLP 🚀\n"
   ]
  }
 ],
 "metadata": {
  "colab": {
   "provenance": []
  },
  "kernelspec": {
   "display_name": "Python 3",
   "language": "python",
   "name": "python3"
  },
  "language_info": {
   "codemirror_mode": {
    "name": "ipython",
    "version": 3
   },
   "file_extension": ".py",
   "mimetype": "text/x-python",
   "name": "python",
   "nbconvert_exporter": "python",
   "pygments_lexer": "ipython3",
   "version": "3.10.12"
  }
 },
 "nbformat": 4,
 "nbformat_minor": 0
}
