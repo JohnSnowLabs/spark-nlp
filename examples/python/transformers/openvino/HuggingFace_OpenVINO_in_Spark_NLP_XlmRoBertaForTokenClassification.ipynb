{
 "cells": [
  {
   "cell_type": "markdown",
   "metadata": {
    "id": "_V5XcDCnVgSi"
   },
   "source": [
    "![JohnSnowLabs](https://sparknlp.org/assets/images/logo.png)\n",
    "\n",
    "[![Open In Colab](https://colab.research.google.com/assets/colab-badge.svg)](https://colab.research.google.com/github/JohnSnowLabs/spark-nlp/blob/master/examples/python/transformers/openvino/HuggingFace_OpenVINO_in_Spark_NLP_XlmRoBertaForTokenClassification.ipynb)\n",
    "\n",
    "# Import OpenVINO XlmRoBertaForTokenClassification models from HuggingFace 🤗 into Spark NLP 🚀\n",
    "\n",
    "This notebook provides a detailed walkthrough on optimizing and exporting XlmRoBertaForTokenClassification models from HuggingFace for use in Spark NLP, leveraging the various tools provided in the [Intel OpenVINO toolkit](https://www.intel.com/content/www/us/en/developer/tools/openvino-toolkit/overview.html) ecosystem.\n",
    "\n",
    "Let's keep in mind a few things before we start 😊\n",
    "\n",
    "- OpenVINO support was introduced in  `Spark NLP 5.4.0`, enabling high performance inference for models. Please make sure you have upgraded to the latest Spark NLP release.\n",
    "- You can import models for XlmRoBertaForTokenClassification from XlmRoBertaForTokenClassification   and they have to be in `Token Classification` category."
   ]
  },
  {
   "cell_type": "markdown",
   "metadata": {
    "id": "aghasVppVgSk"
   },
   "source": [
    "## 1. Export and Save the HuggingFace model"
   ]
  },
  {
   "cell_type": "markdown",
   "metadata": {
    "id": "be4HsTDMVgSk"
   },
   "source": [
    "- Let's install `transformers` and `openvino` packages with other dependencies. You don't need `openvino` to be installed for Spark NLP, however, we need it to load and save models from HuggingFace.\n",
    "- We lock `transformers` on version `4.48.3`. This doesn't mean it won't work with the future releases, but we wanted you to know which versions have been tested successfully."
   ]
  },
  {
   "cell_type": "code",
   "execution_count": null,
   "metadata": {
    "colab": {
     "base_uri": "https://localhost:8080/"
    },
    "id": "-7L-2ZWUVgSl",
    "outputId": "c33dcd8f-d14b-46cd-9158-540cf7a7d785"
   },
   "outputs": [],
   "source": [
    "!pip install -q --upgrade transformers==4.48.3 optimum[openvino]"
   ]
  },
  {
   "cell_type": "markdown",
   "metadata": {
    "id": "vI7uz_6hVgSl"
   },
   "source": [
    "[Optimum Intel](https://github.com/huggingface/optimum-intel?tab=readme-ov-file#openvino) is the interface between the Transformers library and the various model optimization and acceleration tools provided by Intel. HuggingFace models loaded with optimum-intel are automatically optimized for OpenVINO, while being compatible with the Transformers API.\n",
    "- To load a HuggingFace model directly for inference/export, just replace the `AutoModelForXxx` class with the corresponding `OVModelForXxx` class. We can use this to import and export OpenVINO models with `from_pretrained` and `save_pretrained`.\n",
    "- By setting `export=True`, the source model is converted to OpenVINO IR format on the fly.\n",
    "- We'll use [FacebookAI/xlm-roberta-large-finetuned-conll03-english](https://huggingface.co/FacebookAI/xlm-roberta-large-finetuned-conll03-english) model from HuggingFace as an example and load it as a `OVModelForTokenClassification`, representing an OpenVINO model.\n",
    "- In addition to the OVModelForTokenClassification model, we also need to save the `AutoTokenizer`. This is the same for every model, these are assets (saved in `/assets`) needed for tokenization inside Spark NLP."
   ]
  },
  {
   "cell_type": "code",
   "execution_count": 2,
   "metadata": {
    "colab": {
     "base_uri": "https://localhost:8080/",
     "height": 498,
     "referenced_widgets": [
      "6d6b9688028f48a68c344800922b6f49",
      "c1b793c4fa094f50a522252e884cf1be",
      "ee60a1fb205b4e79afcf2d4173eb4c98",
      "7a3d9e67c1874f7ca365104f179e6c85",
      "400abc27dfb144338a98a174e46e9e24",
      "fe616ee8c93e44398499c8df4e2a438f",
      "a8be2968535b49e8b7f132d35a285034",
      "c89aa2ef757c4a5b9ff6795fbf51445b",
      "c585513db3304ef88d38578668c8db81",
      "69efeec322cd43ba90a0bc74114d75c5",
      "518edf1540e147db937968c00bc5bccd",
      "ac3b2507b5c3475c9ccc6918be20a6b8",
      "a9e3eab8e42b4ee8b2a98448d9ce7956",
      "225eeadb6ba848bf8081d63a2044d02b",
      "f048f6edc1cb4a47a46b1cbce5175abc",
      "202e8995157641179f12d18d057a0b08",
      "bc5f59d2d0de49b5acafdb873bf5458b",
      "4858797e3e9b41c9bc58632695f4bd7c",
      "e86364e79dff4674a3d8c006ea23dd82",
      "c7f9eb6dc7ee43f3badb9d934c61e9fa",
      "eb0ea6c1a9e84baf84051ff5abe7020c",
      "cf96d82faff84b7a9986e01da2ed79b1",
      "75c2d48771df4476bcec8f54e4e539a9",
      "6fa9c7bdf7de43afb5d2b9586b5148ab",
      "99b206e600ee48b0a0066f5c5b4ff04c",
      "4d33c5da59304708a1a834114083fc61",
      "bd6efaa188a44f0b905f0d8d3b715f15",
      "84425ac8ac3d4851a8068eec4ebba6c5",
      "0fb8a21e1ed0499d9aa0965cd4ae6fc2",
      "37ba6c7f544d4ff0b18411f12eda56e3",
      "e70602bcce614706bba499e4cfc7cf80",
      "551f57d41db04608a2587b548fbb7801",
      "18e9bac5a7d44f739ab9d765b4e50d5d",
      "00590de144204c9684f786a8ad415886",
      "1bf121e97fc248e6b96dd19412b55343",
      "943edeed06f44692b639c2b2136113e5",
      "28651ce86bcd4689892e3fd850ad08b8",
      "8470960cd10f46c79577d67afec5278f",
      "8e18c92ee2d54740aee041f4410b3770",
      "ebd1223e56be4c7397d0379de9793fad",
      "4e7fe6c2a41c4e1e92d6d3e140c50011",
      "8b6823c2e0e34bd2bff9766110de1ecb",
      "477dede318df4b05b33faa91557cc10c",
      "37ccb64ac83a41fbb5990985f89757b6",
      "731049d08c9546fea28843814a8f7a71",
      "8d8ada4616514abea7a5a75ccffb0cdb",
      "7303c762c4c74eda83cace8db461b3b9",
      "aeb036b54ad74688b037647e03c451ae",
      "811466f27e3e4e94aaa0795dd789f807",
      "85662bd5cf12409a8fb9db7fc5a4a5ab",
      "6a3cb23012d6487c8fb40581bf78b02f",
      "790312c8fe924ea6b25e2db9ff7eebeb",
      "27d286354a224e298b394af9ef89d06c",
      "bc64ba8211794b3498f6e3cfb3887aa9",
      "d7bce111ea7a42369b1ffdc07fd74117"
     ]
    },
    "id": "LP7DGCqd9vE6",
    "outputId": "ddb85a32-6648-4885-df01-2bba40585ff9"
   },
   "outputs": [
    {
     "name": "stderr",
     "output_type": "stream",
     "text": [
      "No CUDA runtime is found, using CUDA_HOME='/usr/local/cuda'\n",
      "Multiple distributions found for package optimum. Picked distribution: optimum\n",
      "/usr/local/lib/python3.11/dist-packages/huggingface_hub/utils/_auth.py:94: UserWarning: \n",
      "The secret `HF_TOKEN` does not exist in your Colab secrets.\n",
      "To authenticate with the Hugging Face Hub, create a token in your settings tab (https://huggingface.co/settings/tokens), set it as secret in your Google Colab and restart your session.\n",
      "You will be able to reuse this secret in all of your notebooks.\n",
      "Please note that authentication is recommended but still optional to access public models or datasets.\n",
      "  warnings.warn(\n"
     ]
    },
    {
     "data": {
      "application/vnd.jupyter.widget-view+json": {
       "model_id": "6d6b9688028f48a68c344800922b6f49",
       "version_major": 2,
       "version_minor": 0
      },
      "text/plain": [
       "config.json:   0%|          | 0.00/852 [00:00<?, ?B/s]"
      ]
     },
     "metadata": {},
     "output_type": "display_data"
    },
    {
     "data": {
      "application/vnd.jupyter.widget-view+json": {
       "model_id": "ac3b2507b5c3475c9ccc6918be20a6b8",
       "version_major": 2,
       "version_minor": 0
      },
      "text/plain": [
       "model.safetensors:   0%|          | 0.00/2.24G [00:00<?, ?B/s]"
      ]
     },
     "metadata": {},
     "output_type": "display_data"
    },
    {
     "name": "stderr",
     "output_type": "stream",
     "text": [
      "Some weights of the model checkpoint at FacebookAI/xlm-roberta-large-finetuned-conll03-english were not used when initializing XLMRobertaForTokenClassification: ['roberta.pooler.dense.bias', 'roberta.pooler.dense.weight']\n",
      "- This IS expected if you are initializing XLMRobertaForTokenClassification from the checkpoint of a model trained on another task or with another architecture (e.g. initializing a BertForSequenceClassification model from a BertForPreTraining model).\n",
      "- This IS NOT expected if you are initializing XLMRobertaForTokenClassification from the checkpoint of a model that you expect to be exactly identical (initializing a BertForSequenceClassification model from a BertForSequenceClassification model).\n"
     ]
    },
    {
     "data": {
      "application/vnd.jupyter.widget-view+json": {
       "model_id": "75c2d48771df4476bcec8f54e4e539a9",
       "version_major": 2,
       "version_minor": 0
      },
      "text/plain": [
       "tokenizer_config.json:   0%|          | 0.00/25.0 [00:00<?, ?B/s]"
      ]
     },
     "metadata": {},
     "output_type": "display_data"
    },
    {
     "data": {
      "application/vnd.jupyter.widget-view+json": {
       "model_id": "00590de144204c9684f786a8ad415886",
       "version_major": 2,
       "version_minor": 0
      },
      "text/plain": [
       "sentencepiece.bpe.model:   0%|          | 0.00/5.07M [00:00<?, ?B/s]"
      ]
     },
     "metadata": {},
     "output_type": "display_data"
    },
    {
     "data": {
      "application/vnd.jupyter.widget-view+json": {
       "model_id": "731049d08c9546fea28843814a8f7a71",
       "version_major": 2,
       "version_minor": 0
      },
      "text/plain": [
       "tokenizer.json: 0.00B [00:00, ?B/s]"
      ]
     },
     "metadata": {},
     "output_type": "display_data"
    },
    {
     "name": "stderr",
     "output_type": "stream",
     "text": [
      "`loss_type=None` was set in the config but it is unrecognised.Using the default loss: `ForCausalLMLoss`.\n"
     ]
    },
    {
     "data": {
      "text/plain": [
       "('ov_models/FacebookAI/xlm-roberta-large-finetuned-conll03-english/tokenizer_config.json',\n",
       " 'ov_models/FacebookAI/xlm-roberta-large-finetuned-conll03-english/special_tokens_map.json',\n",
       " 'ov_models/FacebookAI/xlm-roberta-large-finetuned-conll03-english/sentencepiece.bpe.model',\n",
       " 'ov_models/FacebookAI/xlm-roberta-large-finetuned-conll03-english/added_tokens.json')"
      ]
     },
     "execution_count": 2,
     "metadata": {},
     "output_type": "execute_result"
    }
   ],
   "source": [
    "from optimum.intel import OVModelForTokenClassification\n",
    "from transformers import XLMRobertaTokenizer\n",
    "\n",
    "MODEL_NAME = \"FacebookAI/xlm-roberta-large-finetuned-conll03-english\"\n",
    "EXPORT_PATH = f\"ov_models/{MODEL_NAME}\"\n",
    "\n",
    "ov_model = OVModelForTokenClassification.from_pretrained(MODEL_NAME, export=True)\n",
    "tokenizer = XLMRobertaTokenizer.from_pretrained(MODEL_NAME)\n",
    "\n",
    "ov_model.save_pretrained(EXPORT_PATH)\n",
    "tokenizer.save_pretrained(EXPORT_PATH)"
   ]
  },
  {
   "cell_type": "markdown",
   "metadata": {
    "id": "P03FhmjG98Xl"
   },
   "source": [
    "Let's have a look inside this and see what we are dealing with:"
   ]
  },
  {
   "cell_type": "code",
   "execution_count": 3,
   "metadata": {
    "colab": {
     "base_uri": "https://localhost:8080/"
    },
    "id": "xxSmC4nn98lX",
    "outputId": "748ecf76-42cf-4444-e33f-c7ab92e39df9"
   },
   "outputs": [
    {
     "name": "stdout",
     "output_type": "stream",
     "text": [
      "total 2188692\n",
      "-rw-r--r-- 1 root root       1057 Jul  3 06:34 config.json\n",
      "-rw-r--r-- 1 root root 2235400400 Jul  3 06:34 openvino_model.bin\n",
      "-rw-r--r-- 1 root root     724692 Jul  3 06:34 openvino_model.xml\n",
      "-rw-r--r-- 1 root root    5069051 Jul  3 06:34 sentencepiece.bpe.model\n",
      "-rw-r--r-- 1 root root        280 Jul  3 06:34 special_tokens_map.json\n",
      "-rw-r--r-- 1 root root       1203 Jul  3 06:34 tokenizer_config.json\n"
     ]
    }
   ],
   "source": [
    "!ls -l {EXPORT_PATH}"
   ]
  },
  {
   "cell_type": "markdown",
   "metadata": {
    "id": "MrpKKiqZ97BL"
   },
   "source": [
    "- As you can see, we need to move `sentencepiece.bpe.model` from the tokenizer to `assets` folder which Spark NLP will look for\n",
    "- We also need `labels` and their `ids` which is saved inside the model's config. We will save this inside `labels.txt`"
   ]
  },
  {
   "cell_type": "code",
   "execution_count": 4,
   "metadata": {
    "id": "yCR5jcLU6NCT"
   },
   "outputs": [],
   "source": [
    "!mkdir {EXPORT_PATH}/assets\n",
    "\n",
    "labels = ov_model.config.id2label\n",
    "labels = [value for key,value in sorted(labels.items(), reverse=False)]\n",
    "\n",
    "with open(EXPORT_PATH + '/assets/labels.txt', 'w') as f:\n",
    "    f.write('\\n'.join(labels))\n",
    "\n",
    "!mv {EXPORT_PATH}/sentencepiece.bpe.model  {EXPORT_PATH}/assets"
   ]
  },
  {
   "cell_type": "code",
   "execution_count": 5,
   "metadata": {
    "colab": {
     "base_uri": "https://localhost:8080/"
    },
    "id": "lOMFSKcg-A83",
    "outputId": "47c0a220-995c-4949-e088-7177309a43a3"
   },
   "outputs": [
    {
     "name": "stdout",
     "output_type": "stream",
     "text": [
      "total 4956\n",
      "-rw-r--r-- 1 root root      45 Jul  3 06:34 labels.txt\n",
      "-rw-r--r-- 1 root root 5069051 Jul  3 06:34 sentencepiece.bpe.model\n"
     ]
    }
   ],
   "source": [
    "!ls -l {EXPORT_PATH}/assets"
   ]
  },
  {
   "cell_type": "markdown",
   "metadata": {
    "id": "zsnbA1uH-BhF"
   },
   "source": [
    "Voila! We have our `sentencepiece.bpe.model` and `labels.txt` inside assets directory"
   ]
  },
  {
   "cell_type": "markdown",
   "metadata": {
    "id": "OrG2Ces_DZej"
   },
   "source": [
    "## Import and Save XlmRoBertaForTokenClassification in Spark NLP\n"
   ]
  },
  {
   "cell_type": "markdown",
   "metadata": {
    "id": "aGXRMhL2DZej"
   },
   "source": [
    "- Install and set up Spark NLP in Google Colab\n",
    "- This example uses specific versions of `pyspark` and `spark-nlp` that have been tested with the transformer model to ensure everything runs smoothly."
   ]
  },
  {
   "cell_type": "code",
   "execution_count": 6,
   "metadata": {
    "colab": {
     "base_uri": "https://localhost:8080/"
    },
    "id": "z7MxZzGyDZej",
    "outputId": "336cf8f5-0858-4d1e-a377-4ddc9a6984b8"
   },
   "outputs": [
    {
     "name": "stdout",
     "output_type": "stream",
     "text": [
      "\u001b[2K     \u001b[90m━━━━━━━━━━━━━━━━━━━━━━━━━━━━━━━━━━━━━━━\u001b[0m \u001b[32m317.3/317.3 MB\u001b[0m \u001b[31m3.5 MB/s\u001b[0m eta \u001b[36m0:00:00\u001b[0m\n",
      "\u001b[?25h  Preparing metadata (setup.py) ... \u001b[?25l\u001b[?25hdone\n",
      "\u001b[2K   \u001b[90m━━━━━━━━━━━━━━━━━━━━━━━━━━━━━━━━━━━━━━━━\u001b[0m \u001b[32m635.7/635.7 kB\u001b[0m \u001b[31m33.5 MB/s\u001b[0m eta \u001b[36m0:00:00\u001b[0m\n",
      "\u001b[?25h  Building wheel for pyspark (setup.py) ... \u001b[?25l\u001b[?25hdone\n"
     ]
    }
   ],
   "source": [
    "!pip install -q pyspark==3.5.4 spark-nlp==5.5.3"
   ]
  },
  {
   "cell_type": "markdown",
   "metadata": {
    "id": "JyytZWaKDZel"
   },
   "source": [
    "Let's start Spark with Spark NLP included via our simple `start()` function"
   ]
  },
  {
   "cell_type": "code",
   "execution_count": 7,
   "metadata": {
    "colab": {
     "base_uri": "https://localhost:8080/"
    },
    "id": "bHInsIdUDZel",
    "outputId": "6754d78f-3a5e-4013-8296-410b29cebaf5"
   },
   "outputs": [
    {
     "name": "stdout",
     "output_type": "stream",
     "text": [
      "Spark NLP version:  5.5.3\n",
      "Apache Spark version:  3.5.4\n"
     ]
    }
   ],
   "source": [
    "import sparknlp\n",
    "\n",
    "spark = sparknlp.start()\n",
    "\n",
    "print(\"Spark NLP version: \", sparknlp.version())\n",
    "print(\"Apache Spark version: \", spark.version)"
   ]
  },
  {
   "cell_type": "markdown",
   "metadata": {
    "id": "S84aqIGPDZem"
   },
   "source": [
    "- Let's use `loadSavedModel` functon in `RoBertaForTokenClassification` which allows us to load TensorFlow model in SavedModel format\n",
    "- Most params can be set later when you are loading this model in `RoBertaForTokenClassification` in runtime like `setMaxSentenceLength`, so don't worry what you are setting them now\n",
    "- `loadSavedModel` accepts two params, first is the path to the TF SavedModel. The second is the SparkSession that is `spark` variable we previously started via `sparknlp.start()`\n",
    "- NOTE: `loadSavedModel` accepts local paths in addition to distributed file systems such as `HDFS`, `S3`, `DBFS`, etc. This feature was introduced in Spark NLP 4.2.2 release. Keep in mind the best and recommended way to move/share/reuse Spark NLP models is to use `write.save` so you can use `.load()` from any file systems natively.st and recommended way to move/share/reuse Spark NLP models is to use `write.save` so you can use `.load()` from any file systems natively."
   ]
  },
  {
   "cell_type": "code",
   "execution_count": 8,
   "metadata": {
    "id": "o6KmeDFHDZem"
   },
   "outputs": [],
   "source": [
    "from sparknlp.annotator import XlmRoBertaForTokenClassification\n",
    "\n",
    "tokenClassifier = XlmRoBertaForTokenClassification\\\n",
    "  .loadSavedModel(EXPORT_PATH, spark)\\\n",
    "  .setInputCols([\"document\",'token'])\\\n",
    "  .setOutputCol(\"ner\")\\\n",
    "  .setCaseSensitive(True)\\\n",
    "  .setMaxSentenceLength(128)"
   ]
  },
  {
   "cell_type": "markdown",
   "metadata": {
    "id": "-7DdkjohDZen"
   },
   "source": [
    "- Let's save it on disk so it is easier to be moved around and also be used later via `.load` function"
   ]
  },
  {
   "cell_type": "code",
   "execution_count": 9,
   "metadata": {
    "id": "x7g7o1aHDZen"
   },
   "outputs": [],
   "source": [
    "tokenClassifier.write().overwrite().save(\"./{}_spark_nlp_openvino\".format(EXPORT_PATH))"
   ]
  },
  {
   "cell_type": "markdown",
   "metadata": {
    "id": "A47q67jtDZen"
   },
   "source": [
    "Let's clean up stuff we don't need anymore"
   ]
  },
  {
   "cell_type": "code",
   "execution_count": 10,
   "metadata": {
    "id": "y4JuMMvXDZen"
   },
   "outputs": [],
   "source": [
    "!rm -rf {EXPORT_PATH}"
   ]
  },
  {
   "cell_type": "markdown",
   "metadata": {
    "id": "z75d0CsEDZen"
   },
   "source": [
    "Awesome 😎  !\n",
    "\n",
    "This is your XlmRoBertaForTokenClassification model from HuggingFace 🤗  loaded and saved by Spark NLP 🚀"
   ]
  },
  {
   "cell_type": "code",
   "execution_count": 11,
   "metadata": {
    "colab": {
     "base_uri": "https://localhost:8080/"
    },
    "id": "91WP7FRJDZeo",
    "outputId": "9113240a-8d4d-446d-907f-2eeeca05ef7a"
   },
   "outputs": [
    {
     "name": "stdout",
     "output_type": "stream",
     "text": [
      "total 2189016\n",
      "drwxr-xr-x 3 root root       4096 Jul  3 06:39 fields\n",
      "drwxr-xr-x 2 root root       4096 Jul  3 06:39 metadata\n",
      "-rw-r--r-- 1 root root 2236466585 Jul  3 06:41 xlm_roberta_classification_openvino\n",
      "-rw-r--r-- 1 root root    5069051 Jul  3 06:39 xlmroberta_spp\n"
     ]
    }
   ],
   "source": [
    "! ls -l {EXPORT_PATH}_spark_nlp_openvino"
   ]
  },
  {
   "cell_type": "markdown",
   "metadata": {
    "id": "0FSeqEcPDZeo"
   },
   "source": [
    "Now let's see how we can use it on other machines, clusters, or any place you wish to use your new and shiny XlmRoBertaForTokenClassification model 😊"
   ]
  },
  {
   "cell_type": "code",
   "execution_count": 12,
   "metadata": {
    "id": "v83ADlzRDZeo"
   },
   "outputs": [],
   "source": [
    "tokenClassifier_loaded = XlmRoBertaForTokenClassification.load(\"./{}_spark_nlp_openvino\".format(EXPORT_PATH))\\\n",
    "  .setInputCols([\"document\",'token'])\\\n",
    "  .setOutputCol(\"ner\")"
   ]
  },
  {
   "cell_type": "markdown",
   "metadata": {
    "id": "66rRYQNSDZep"
   },
   "source": [
    "You can see what labels were used to train this model via `getClasses` function:"
   ]
  },
  {
   "cell_type": "code",
   "execution_count": 13,
   "metadata": {
    "colab": {
     "base_uri": "https://localhost:8080/"
    },
    "id": "9GWZGHzbDZep",
    "outputId": "f7e557f1-52c0-4781-d76c-a24831f7d00b"
   },
   "outputs": [
    {
     "data": {
      "text/plain": [
       "['B-LOC', 'I-ORG', 'I-MISC', 'I-LOC', 'I-PER', 'B-MISC', 'B-ORG', 'O']"
      ]
     },
     "execution_count": 13,
     "metadata": {},
     "output_type": "execute_result"
    }
   ],
   "source": [
    "tokenClassifier_loaded.getClasses()"
   ]
  },
  {
   "cell_type": "markdown",
   "metadata": {
    "id": "CnvSKR9kDZep"
   },
   "source": [
    "This is how you can use your loaded classifier model in Spark NLP 🚀 pipeline:"
   ]
  },
  {
   "cell_type": "code",
   "execution_count": 14,
   "metadata": {
    "colab": {
     "base_uri": "https://localhost:8080/"
    },
    "id": "rifzHM_DDZeq",
    "outputId": "d7514ec0-f346-4d3c-8b6d-03d1ad156970"
   },
   "outputs": [
    {
     "name": "stdout",
     "output_type": "stream",
     "text": [
      "+----------------------------------------------------+------------------------------------------------+\n",
      "|text                                                |result                                          |\n",
      "+----------------------------------------------------+------------------------------------------------+\n",
      "|My name is Clara and I live in Berkeley, California.|[O, O, O, I-PER, O, O, O, O, I-LOC, O, I-LOC, O]|\n",
      "+----------------------------------------------------+------------------------------------------------+\n",
      "\n"
     ]
    }
   ],
   "source": [
    "from sparknlp.base import DocumentAssembler\n",
    "from sparknlp.annotator import Tokenizer\n",
    "from pyspark.ml import Pipeline\n",
    "\n",
    "document_assembler = DocumentAssembler() \\\n",
    "    .setInputCol(\"text\") \\\n",
    "    .setOutputCol(\"document\")\n",
    "\n",
    "tokenizer = Tokenizer() \\\n",
    "    .setInputCols([\"document\"]) \\\n",
    "    .setOutputCol(\"token\")\n",
    "\n",
    "pipeline = Pipeline(stages=[\n",
    "    document_assembler,\n",
    "    tokenizer,\n",
    "    tokenClassifier_loaded\n",
    "])\n",
    "\n",
    "example = spark.createDataFrame([\n",
    "    [\"My name is Clara and I live in Berkeley, California.\"]\n",
    "]).toDF(\"text\")\n",
    "\n",
    "model = pipeline.fit(example)\n",
    "result = model.transform(example)\n",
    "\n",
    "result.select(\"text\", \"ner.result\").show(truncate=False)"
   ]
  },
  {
   "cell_type": "markdown",
   "metadata": {
    "id": "Y25g6zHlDZeq"
   },
   "source": [
    "That's it! You can now go wild and use hundreds of `XlmRoBertaForTokenClassification` models from HuggingFace 🤗 in Spark NLP 🚀\n"
   ]
  }
 ],
 "metadata": {
  "colab": {
   "provenance": []
  },
  "kernelspec": {
   "display_name": "Python 3",
   "language": "python",
   "name": "python3"
  },
  "language_info": {
   "codemirror_mode": {
    "name": "ipython",
    "version": 3
   },
   "file_extension": ".py",
   "mimetype": "text/x-python",
   "name": "python",
   "nbconvert_exporter": "python",
   "pygments_lexer": "ipython3",
   "version": "3.10.12"
  }
 },
 "nbformat": 4,
 "nbformat_minor": 0
}
