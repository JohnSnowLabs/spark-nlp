{
 "cells": [
  {
   "cell_type": "markdown",
   "metadata": {
    "id": "_V5XcDCnVgSi"
   },
   "source": [
    "![JohnSnowLabs](https://sparknlp.org/assets/images/logo.png)\n",
    "\n",
    "[![Open In Colab](https://colab.research.google.com/assets/colab-badge.svg)](https://colab.research.google.com/github/JohnSnowLabs/spark-nlp/blob/master/examples/python/transformers/openvino/HuggingFace_OpenVINO_in_Spark_NLP_CamemBertForQuestionAnswering.ipynb)\n",
    "\n",
    "# Import OpenVINO CamemBertForQuestionAnswering models from HuggingFace 🤗 into Spark NLP 🚀\n",
    "\n",
    "This notebook provides a detailed walkthrough on optimizing and exporting CamemBertForQuestionAnswering models from HuggingFace for use in Spark NLP, leveraging the various tools provided in the [Intel OpenVINO toolkit](https://www.intel.com/content/www/us/en/developer/tools/openvino-toolkit/overview.html) ecosystem.\n",
    "\n",
    "Let's keep in mind a few things before we start 😊\n",
    "\n",
    "- OpenVINO support was introduced in  `Spark NLP 5.4.0`, enabling high performance inference for models. Please make sure you have upgraded to the latest Spark NLP release.\n",
    "- You can import models for CamemBertForQuestionAnswering from CamemBertForQuestionAnswering and they have to be in `Question Answering` category."
   ]
  },
  {
   "cell_type": "markdown",
   "metadata": {
    "id": "aghasVppVgSk"
   },
   "source": [
    "## 1. Export and Save the HuggingFace model"
   ]
  },
  {
   "cell_type": "markdown",
   "metadata": {
    "id": "be4HsTDMVgSk"
   },
   "source": [
    "- Let's install `transformers` and `openvino` packages with other dependencies. You don't need `openvino` to be installed for Spark NLP, however, we need it to load and save models from HuggingFace.\n",
    "- We lock `transformers` on version `4.48.3`. This doesn't mean it won't work with the future releases, but we wanted you to know which versions have been tested successfully."
   ]
  },
  {
   "cell_type": "code",
   "execution_count": null,
   "metadata": {
    "colab": {
     "base_uri": "https://localhost:8080/"
    },
    "id": "DeK7v0WUq1R_",
    "outputId": "91b7bb0b-f70d-4ec5-db81-4a9237545a45"
   },
   "outputs": [],
   "source": [
    "!pip install -q --upgrade transformers==4.48.3 optimum[openvino]"
   ]
  },
  {
   "cell_type": "markdown",
   "metadata": {
    "id": "vI7uz_6hVgSl"
   },
   "source": [
    "[Optimum Intel](https://github.com/huggingface/optimum-intel?tab=readme-ov-file#openvino) is the interface between the Transformers library and the various model optimization and acceleration tools provided by Intel. HuggingFace models loaded with optimum-intel are automatically optimized for OpenVINO, while being compatible with the Transformers API.\n",
    "- To load a HuggingFace model directly for inference/export, just replace the `AutoModelForXxx` class with the corresponding `OVModelForXxx` class. We can use this to import and export OpenVINO models with `from_pretrained` and `save_pretrained`.\n",
    "- By setting `export=True`, the source model is converted to OpenVINO IR format on the fly.\n",
    "- We'll use [etalab-ia/camembert-base-squadFR-fquad-piaf](https://huggingface.co/etalab-ia/camembert-base-squadFR-fquad-piaf) model from HuggingFace as an example and load it as a `OVModelForQuestionAnswering`, representing an OpenVINO model.\n",
    "- In addition to the OVModelForQuestionAnswering model, we also need to save the `AutoTokenizer`. This is the same for every model, these are assets (saved in `/assets`) needed for tokenization inside Spark NLP."
   ]
  },
  {
   "cell_type": "code",
   "execution_count": null,
   "metadata": {
    "colab": {
     "base_uri": "https://localhost:8080/",
     "height": 403,
     "referenced_widgets": [
      "0f501532ec724cb687995febfe822a2c",
      "5a17da2f94d2486697259fc47a510b92",
      "a52f240f2a0a4f76a44973ad62e7a8a6",
      "29a30f77f4ae43c8b57ae556724fb226",
      "ee415f83ac864bf1941b7ce0982c7da8",
      "e82b30c272574b0f878f719fc6de4568",
      "ba502531097e4716bca939eed5774632",
      "cb1465650ac54d8db6515cfaecac73b7",
      "40f64e9680ba46bbbc7b0cfb26bbd62a",
      "1925473e8b824fa4b08130f436b3144d",
      "1ef64162cabe465eae40b04b348a6aff",
      "0b7592e954d54fd6af4f814ef8e46194",
      "44a0cba0a902443e9a0ef1cf67c8fcec",
      "23d5a1d02d7c49c79381583c9b977f79",
      "f0e6b5572edc4630bee944dee8d50f0f",
      "bcba070e66224f95b63c6ab7a78aa9ee",
      "7644f4cfc3a942c4a2a8519d04b53a4b",
      "07bc42482b2e4605b1b2de812d33fa3e",
      "edc71db7c91f44f9a58d1e780983a6c4",
      "5da671db533f43e5a25e153a272dd5f0",
      "f7434e9f159347b0a3638e81c30dff2d",
      "085d2f0192f043b8a435cce11075edee",
      "cd06bf3c5933411da3a6e5ae2c23e2dc",
      "c9df52ab5b1b4182bd4a324433cd4e27",
      "b8e5c0de536b48cc905e79afd97661b9",
      "52766f0eba3d4df59abdb75b44cb45b2",
      "22827ce02e464f998d23c25c521701d3",
      "0ec3c0ed6da1435a9edb8422d19b4534",
      "fe68da178cbb4a529b518768f04e30bf",
      "75fbafa8f3e34369b948ff3e0dadc0f5",
      "63d07f1886cd419797030dd1f069ef95",
      "f15fb3a2a6b347b99174d9f3abccdfc4",
      "d2c04f2ce769433296c16f22bad815a7",
      "45dcc574e94640f8ae886d7315e9b9ae",
      "37f2696baaed4b3bbe51ab8f6ecf49b5",
      "ef530fc5d74749059feb7c8e91636a68",
      "8fea1e4a2c3a45b28d6a975f7e3182e5",
      "97a0ed1e83264be2b8814f1930819e50",
      "f931c4b168664ad9a0ddc872f889e960",
      "5384c25002f5444991081affee1302a8",
      "0df4d5b1c9154c8d8dcf6e3f73ef92c6",
      "08cc8cc5213747a894143fee8a10b7f9",
      "c7f4c8cdf6ac4408aff86e7497fcd561",
      "67ce122c49d2447fa6c4a71414eee009",
      "ee49150906454d5bac9d694682326d03",
      "085e8b98c488411ab73839f3510cf6d5",
      "5e6d011c0c704ba284d51464f990f018",
      "13474f516e7e4414940fd03794b8eac1",
      "8aa928ef6a7148959825c6fe21d230c0",
      "e9428da74a9a48549f9625b695685f41",
      "f1613a9cfd98425f9168271c0c8f2cfc",
      "3c4f71e52e544272a2c9aa9b05de94b8",
      "52ce9e822afd4098b84b7c4f5bdf514c",
      "095a6aa2433c4d948fa722a12b2fb242",
      "3bf8128bab784804b0589738c7225e5e"
     ]
    },
    "id": "qF5Pp3DuVgSm",
    "outputId": "874be4a1-a8e3-484d-b752-efdb542386aa"
   },
   "outputs": [
    {
     "name": "stderr",
     "output_type": "stream",
     "text": [
      "No CUDA runtime is found, using CUDA_HOME='/usr/local/cuda'\n",
      "/usr/local/lib/python3.11/dist-packages/huggingface_hub/utils/_auth.py:94: UserWarning: \n",
      "The secret `HF_TOKEN` does not exist in your Colab secrets.\n",
      "To authenticate with the Hugging Face Hub, create a token in your settings tab (https://huggingface.co/settings/tokens), set it as secret in your Google Colab and restart your session.\n",
      "You will be able to reuse this secret in all of your notebooks.\n",
      "Please note that authentication is recommended but still optional to access public models or datasets.\n",
      "  warnings.warn(\n"
     ]
    },
    {
     "data": {
      "application/vnd.jupyter.widget-view+json": {
       "model_id": "0f501532ec724cb687995febfe822a2c",
       "version_major": 2,
       "version_minor": 0
      },
      "text/plain": [
       "config.json:   0%|          | 0.00/515 [00:00<?, ?B/s]"
      ]
     },
     "metadata": {},
     "output_type": "display_data"
    },
    {
     "data": {
      "application/vnd.jupyter.widget-view+json": {
       "model_id": "0b7592e954d54fd6af4f814ef8e46194",
       "version_major": 2,
       "version_minor": 0
      },
      "text/plain": [
       "model.safetensors:   0%|          | 0.00/443M [00:00<?, ?B/s]"
      ]
     },
     "metadata": {},
     "output_type": "display_data"
    },
    {
     "data": {
      "application/vnd.jupyter.widget-view+json": {
       "model_id": "cd06bf3c5933411da3a6e5ae2c23e2dc",
       "version_major": 2,
       "version_minor": 0
      },
      "text/plain": [
       "tokenizer_config.json:   0%|          | 0.00/24.0 [00:00<?, ?B/s]"
      ]
     },
     "metadata": {},
     "output_type": "display_data"
    },
    {
     "data": {
      "application/vnd.jupyter.widget-view+json": {
       "model_id": "45dcc574e94640f8ae886d7315e9b9ae",
       "version_major": 2,
       "version_minor": 0
      },
      "text/plain": [
       "sentencepiece.bpe.model:   0%|          | 0.00/811k [00:00<?, ?B/s]"
      ]
     },
     "metadata": {},
     "output_type": "display_data"
    },
    {
     "data": {
      "application/vnd.jupyter.widget-view+json": {
       "model_id": "ee49150906454d5bac9d694682326d03",
       "version_major": 2,
       "version_minor": 0
      },
      "text/plain": [
       "special_tokens_map.json:   0%|          | 0.00/210 [00:00<?, ?B/s]"
      ]
     },
     "metadata": {},
     "output_type": "display_data"
    },
    {
     "name": "stderr",
     "output_type": "stream",
     "text": [
      "`loss_type=None` was set in the config but it is unrecognised.Using the default loss: `ForCausalLMLoss`.\n"
     ]
    },
    {
     "data": {
      "text/plain": [
       "('ov_models/etalab-ia/camembert-base-squadFR-fquad-piaf/tokenizer_config.json',\n",
       " 'ov_models/etalab-ia/camembert-base-squadFR-fquad-piaf/special_tokens_map.json',\n",
       " 'ov_models/etalab-ia/camembert-base-squadFR-fquad-piaf/sentencepiece.bpe.model',\n",
       " 'ov_models/etalab-ia/camembert-base-squadFR-fquad-piaf/added_tokens.json',\n",
       " 'ov_models/etalab-ia/camembert-base-squadFR-fquad-piaf/tokenizer.json')"
      ]
     },
     "execution_count": 2,
     "metadata": {},
     "output_type": "execute_result"
    }
   ],
   "source": [
    "from optimum.intel import OVModelForQuestionAnswering\n",
    "from transformers import AutoTokenizer\n",
    "\n",
    "MODEL_NAME = \"etalab-ia/camembert-base-squadFR-fquad-piaf\"\n",
    "EXPORT_PATH = f\"ov_models/{MODEL_NAME}\"\n",
    "\n",
    "ov_model = OVModelForQuestionAnswering.from_pretrained(MODEL_NAME, export=True)\n",
    "tokenizer = AutoTokenizer.from_pretrained(MODEL_NAME)\n",
    "\n",
    "ov_model.save_pretrained(EXPORT_PATH)\n",
    "tokenizer.save_pretrained(EXPORT_PATH)"
   ]
  },
  {
   "cell_type": "markdown",
   "metadata": {
    "id": "PxGPfPXjK_9O"
   },
   "source": [
    "- Let's have a look inside these two directories and see what we are dealing with:"
   ]
  },
  {
   "cell_type": "code",
   "execution_count": null,
   "metadata": {
    "colab": {
     "base_uri": "https://localhost:8080/"
    },
    "id": "fRtrEMSzLB_e",
    "outputId": "9b256858-7c86-44f3-89fc-d69edf9c0632"
   },
   "outputs": [
    {
     "name": "stdout",
     "output_type": "stream",
     "text": [
      "total 433368\n",
      "-rw-r--r-- 1 root root       709 Jun 20 02:34 config.json\n",
      "-rw-r--r-- 1 root root 440135888 Jun 20 02:34 openvino_model.bin\n",
      "-rw-r--r-- 1 root root    377495 Jun 20 02:34 openvino_model.xml\n",
      "-rw-r--r-- 1 root root    810912 Jun 20 02:34 sentencepiece.bpe.model\n",
      "-rw-r--r-- 1 root root       354 Jun 20 02:34 special_tokens_map.json\n",
      "-rw-r--r-- 1 root root      1674 Jun 20 02:34 tokenizer_config.json\n",
      "-rw-r--r-- 1 root root   2421069 Jun 20 02:34 tokenizer.json\n"
     ]
    }
   ],
   "source": [
    "!ls -l {EXPORT_PATH}"
   ]
  },
  {
   "cell_type": "markdown",
   "metadata": {
    "id": "uhe0iULJLCbo"
   },
   "source": [
    "- We need to move the `sentencepiece.bpe.model` file from the tokenizer into an assets folder, as this is where Spark NLP looks for it when working with models like Camembert or other SentencePiece-based tokenizers."
   ]
  },
  {
   "cell_type": "code",
   "execution_count": null,
   "metadata": {
    "id": "gr-ZNkm-LFWS"
   },
   "outputs": [],
   "source": [
    "!mkdir -p {EXPORT_PATH}/assets & mv {EXPORT_PATH}/sentencepiece.bpe.model {EXPORT_PATH}/assets/"
   ]
  },
  {
   "cell_type": "code",
   "execution_count": null,
   "metadata": {
    "colab": {
     "base_uri": "https://localhost:8080/"
    },
    "id": "6isFQMZgLHGt",
    "outputId": "06c5686f-92f9-4d54-b32a-e4ca8c1a2573"
   },
   "outputs": [
    {
     "name": "stdout",
     "output_type": "stream",
     "text": [
      "total 792\n",
      "-rw-r--r-- 1 root root 810912 Jun 20 02:34 sentencepiece.bpe.model\n"
     ]
    }
   ],
   "source": [
    "!ls -l {EXPORT_PATH}/assets"
   ]
  },
  {
   "cell_type": "markdown",
   "metadata": {
    "id": "21zj6J0jLJ-c"
   },
   "source": [
    "- Voila! We have our `sentencepiece.bpe.model` inside assets directory"
   ]
  },
  {
   "cell_type": "markdown",
   "metadata": {
    "id": "pOw43Yc1IOIk"
   },
   "source": [
    "## Import and Save CamemBertForQuestionAnswering in Spark NLP\n"
   ]
  },
  {
   "cell_type": "markdown",
   "metadata": {
    "id": "88JjaGLRIOIl"
   },
   "source": [
    "- Let's install and setup Spark NLP in Google Colab.\n",
    "- For this example, we'll use specific versions of `pyspark` and `spark-nlp` that we've already tested with this transformer model to make sure everything runs smoothly."
   ]
  },
  {
   "cell_type": "code",
   "execution_count": null,
   "metadata": {
    "colab": {
     "base_uri": "https://localhost:8080/"
    },
    "id": "tIT4s8QWIOIl",
    "outputId": "a340a98f-5353-4d03-b115-894968d67ed9"
   },
   "outputs": [
    {
     "name": "stdout",
     "output_type": "stream",
     "text": [
      "\u001b[2K     \u001b[90m━━━━━━━━━━━━━━━━━━━━━━━━━━━━━━━━━━━━━━━\u001b[0m \u001b[32m317.3/317.3 MB\u001b[0m \u001b[31m4.9 MB/s\u001b[0m eta \u001b[36m0:00:00\u001b[0m\n",
      "\u001b[?25h  Preparing metadata (setup.py) ... \u001b[?25l\u001b[?25hdone\n",
      "\u001b[2K   \u001b[90m━━━━━━━━━━━━━━━━━━━━━━━━━━━━━━━━━━━━━━━━\u001b[0m \u001b[32m635.7/635.7 kB\u001b[0m \u001b[31m27.0 MB/s\u001b[0m eta \u001b[36m0:00:00\u001b[0m\n",
      "\u001b[?25h  Building wheel for pyspark (setup.py) ... \u001b[?25l\u001b[?25hdone\n"
     ]
    }
   ],
   "source": [
    "!pip install -q pyspark==3.5.4 spark-nlp==5.5.3"
   ]
  },
  {
   "cell_type": "markdown",
   "metadata": {
    "id": "OlfoFLR5IOIl"
   },
   "source": [
    "Let's start Spark with Spark NLP included via our simple `start()` function"
   ]
  },
  {
   "cell_type": "code",
   "execution_count": null,
   "metadata": {
    "colab": {
     "background_save": true
    },
    "id": "bqi2I04RIOIl",
    "outputId": "a8eaa2fb-b759-4817-8214-1c0becfce470"
   },
   "outputs": [
    {
     "name": "stdout",
     "output_type": "stream",
     "text": [
      "Spark NLP version: 5.5.3\n",
      "Apache Spark version: 3.5.4\n"
     ]
    }
   ],
   "source": [
    "import sparknlp\n",
    "\n",
    "spark = sparknlp.start()\n",
    "\n",
    "print(\"Spark NLP version: {}\".format(sparknlp.version()))\n",
    "print(\"Apache Spark version: {}\".format(spark.version))"
   ]
  },
  {
   "cell_type": "markdown",
   "metadata": {
    "id": "IUhzyzQCIOIl"
   },
   "source": [
    "- Let's use `loadSavedModel` functon in `CamemBertForQuestionAnswering` which allows us to load TensorFlow model in SavedModel format\n",
    "- Most params can be set later when you are loading this model in `CamemBertForQuestionAnswering` in runtime like `setMaxSentenceLength`, so don't worry what you are setting them now\n",
    "- `loadSavedModel` accepts two params, first is the path to the TF SavedModel. The second is the SparkSession that is `spark` variable we previously started via `sparknlp.start()`\n",
    "- NOTE: `loadSavedModel` accepts local paths in addition to distributed file systems such as `HDFS`, `S3`, `DBFS`, etc. This feature was introduced in Spark NLP 4.2.2 release. Keep in mind the best and recommended way to move/share/reuse Spark NLP models is to use `write.save` so you can use `.load()` from any file systems natively.\n"
   ]
  },
  {
   "cell_type": "code",
   "execution_count": null,
   "metadata": {
    "colab": {
     "background_save": true
    },
    "id": "cZ3W4Su6IOIm"
   },
   "outputs": [],
   "source": [
    "from sparknlp.annotator import CamemBertForQuestionAnswering\n",
    "\n",
    "spanClassifier = CamemBertForQuestionAnswering.loadSavedModel(\n",
    "     f\"{EXPORT_PATH}\",\n",
    "     spark\n",
    " )\\\n",
    "  .setInputCols([\"document_question\",'document_context'])\\\n",
    "  .setOutputCol(\"answer\")\\\n",
    "  .setCaseSensitive(False)\\\n",
    "  .setMaxSentenceLength(512)"
   ]
  },
  {
   "cell_type": "markdown",
   "metadata": {
    "id": "1yxcMiRvIOIm"
   },
   "source": [
    "- Let's save it on disk so it is easier to be moved around and also be used later via `.load` function"
   ]
  },
  {
   "cell_type": "code",
   "execution_count": null,
   "metadata": {
    "colab": {
     "background_save": true
    },
    "id": "FlTdYTxAIOIm"
   },
   "outputs": [],
   "source": [
    "spanClassifier.write().overwrite().save(\"./{}_spark_nlp_openvino\".format(EXPORT_PATH))"
   ]
  },
  {
   "cell_type": "markdown",
   "metadata": {
    "id": "92lNkNGnIOIm"
   },
   "source": [
    "Let's clean up stuff we don't need anymore"
   ]
  },
  {
   "cell_type": "code",
   "execution_count": null,
   "metadata": {
    "colab": {
     "background_save": true
    },
    "id": "sdQI3F4oIOIm"
   },
   "outputs": [],
   "source": [
    "!rm -rf {EXPORT_PATH}"
   ]
  },
  {
   "cell_type": "markdown",
   "metadata": {
    "id": "jUN-57PfIOIm"
   },
   "source": [
    "Awesome 😎  !\n",
    "\n",
    "This is your CamemBertForQuestionAnswering model from HuggingFace 🤗  loaded and saved by Spark NLP 🚀"
   ]
  },
  {
   "cell_type": "code",
   "execution_count": null,
   "metadata": {
    "colab": {
     "background_save": true
    },
    "id": "1QUDETlIIOIn",
    "outputId": "79ed6b6c-d77f-4174-9a40-ee272c0d287b"
   },
   "outputs": [
    {
     "name": "stdout",
     "output_type": "stream",
     "text": [
      "total 431056\n",
      "-rw-r--r-- 1 root root 440580881 Jun 20 02:37 camembert_classification_openvino\n",
      "-rw-r--r-- 1 root root    810912 Jun 20 02:37 camembert_spp\n",
      "drwxr-xr-x 2 root root      4096 Jun 20 02:37 metadata\n"
     ]
    }
   ],
   "source": [
    "! ls -l {EXPORT_PATH}_spark_nlp_openvino"
   ]
  },
  {
   "cell_type": "markdown",
   "metadata": {
    "id": "gjGhPpjLIOIn"
   },
   "source": [
    "Now let's see how we can use it on other machines, clusters, or any place you wish to use your new and shiny CamemBertForQuestionAnswering model in Spark NLP 🚀 pipeline!"
   ]
  },
  {
   "cell_type": "code",
   "execution_count": null,
   "metadata": {
    "colab": {
     "background_save": true
    },
    "id": "QWhvhet3rlfM",
    "outputId": "0e065ef8-d602-45df-d127-25e8dde58473"
   },
   "outputs": [
    {
     "name": "stdout",
     "output_type": "stream",
     "text": [
      "+---------------------+---------------------------------------+--------+\n",
      "|question             |context                                |result  |\n",
      "+---------------------+---------------------------------------+--------+\n",
      "|Où est-ce que je vis?|Mon nom est Wolfgang et je vis à Berlin|[berlin]|\n",
      "+---------------------+---------------------------------------+--------+\n",
      "\n"
     ]
    }
   ],
   "source": [
    "from sparknlp.base import MultiDocumentAssembler\n",
    "from sparknlp.annotator import CamemBertForQuestionAnswering\n",
    "from pyspark.ml import Pipeline\n",
    "\n",
    "document_assembler = MultiDocumentAssembler() \\\n",
    "    .setInputCols([\"question\", \"context\"]) \\\n",
    "    .setOutputCols([\"document_question\", \"document_context\"])\n",
    "\n",
    "spanClassifier_loaded = CamemBertForQuestionAnswering.load(f\"./{EXPORT_PATH}_spark_nlp_openvino\") \\\n",
    "    .setInputCols([\"document_question\", \"document_context\"]) \\\n",
    "    .setOutputCol(\"answer\")\n",
    "\n",
    "pipeline = Pipeline(stages=[\n",
    "    document_assembler,\n",
    "    spanClassifier_loaded\n",
    "])\n",
    "\n",
    "example = spark.createDataFrame([\n",
    "    [\"Où est-ce que je vis?\", \"Mon nom est Wolfgang et je vis à Berlin\"]\n",
    "]).toDF(\"question\", \"context\")\n",
    "\n",
    "model = pipeline.fit(example)\n",
    "result = model.transform(example)\n",
    "\n",
    "result.select(\"question\", \"context\", \"answer.result\").show(truncate=False)"
   ]
  },
  {
   "cell_type": "markdown",
   "metadata": {
    "id": "FWPCPTnWIOIn"
   },
   "source": [
    "That's it! You can now go wild and use hundreds of `CamemBertForQuestionAnswering` models from HuggingFace 🤗 in Spark NLP 🚀\n"
   ]
  }
 ],
 "metadata": {
  "colab": {
   "provenance": []
  },
  "kernelspec": {
   "display_name": "Python 3",
   "language": "python",
   "name": "python3"
  },
  "language_info": {
   "codemirror_mode": {
    "name": "ipython",
    "version": 3
   },
   "file_extension": ".py",
   "mimetype": "text/x-python",
   "name": "python",
   "nbconvert_exporter": "python",
   "pygments_lexer": "ipython3",
   "version": "3.10.12"
  }
 },
 "nbformat": 4,
 "nbformat_minor": 0
}
