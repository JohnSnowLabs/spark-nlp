{
 "cells": [
  {
   "cell_type": "markdown",
   "metadata": {
    "id": "_V5XcDCnVgSi"
   },
   "source": [
    "![JohnSnowLabs](https://sparknlp.org/assets/images/logo.png)\n",
    "\n",
    "[![Open In Colab](https://colab.research.google.com/assets/colab-badge.svg)](https://colab.research.google.com/github/JohnSnowLabs/spark-nlp/blob/master/examples/python/transformers/openvino/HuggingFace_OpenVINO_in_Spark_NLP_RoBERTaForMultipleChoice.ipynb)\n",
    "\n",
    "# Import OpenVINO RoBertaForMultipleChoice models from HuggingFace 🤗 into Spark NLP 🚀\n",
    "\n",
    "This notebook provides a detailed walkthrough on optimizing and exporting RoBertaForMultipleChoice  models from HuggingFace for use in Spark NLP, leveraging the various tools provided in the [Intel OpenVINO toolkit](https://www.intel.com/content/www/us/en/developer/tools/openvino-toolkit/overview.html) ecosystem.\n",
    "\n",
    "Let's keep in mind a few things before we start 😊\n",
    "\n",
    "- OpenVINO support was introduced in  `Spark NLP 5.4.0`, enabling high performance inference for models. Please make sure you have upgraded to the latest Spark NLP release.\n",
    "- You can import models for RoBertaForMultipleChoice from RoBertaForMultipleChoice  and they have to be in `Multiple Choice` category."
   ]
  },
  {
   "cell_type": "markdown",
   "metadata": {
    "id": "aghasVppVgSk"
   },
   "source": [
    "## 1. Export and Save the HuggingFace model"
   ]
  },
  {
   "cell_type": "markdown",
   "metadata": {
    "id": "be4HsTDMVgSk"
   },
   "source": [
    "- Let's install `transformers` and `openvino` packages with other dependencies. You don't need `openvino` to be installed for Spark NLP, however, we need it to load and save models from HuggingFace.\n",
    "- We lock `transformers` on version `4.41.2`. This doesn't mean it won't work with the future releases, but we wanted you to know which versions have been tested successfully."
   ]
  },
  {
   "cell_type": "code",
   "execution_count": null,
   "metadata": {
    "colab": {
     "base_uri": "https://localhost:8080/"
    },
    "id": "TDapJ_09nqXQ",
    "outputId": "98ce6f15-7d5f-483b-a689-4ed5729366d5"
   },
   "outputs": [],
   "source": [
    "!pip install -q --upgrade transformers[onnx]==4.48.3 optimum-intel openvino"
   ]
  },
  {
   "cell_type": "markdown",
   "metadata": {
    "id": "vI7uz_6hVgSl"
   },
   "source": [
    "[Optimum Intel](https://github.com/huggingface/optimum-intel?tab=readme-ov-file#openvino) is the interface between the Transformers library and the various model optimization and acceleration tools provided by Intel. HuggingFace models loaded with optimum-intel are automatically optimized for OpenVINO, while being compatible with the Transformers API.\n",
    "- Normally, to load a HuggingFace model directly for inference/export, just replace the `AutoModelForXxx` class with the corresponding `OVModelForXxx` class. However, ForMultipleChoice is not yet available so we will use `openvino.convert_model()` after exporting ONNX model\n",
    "- We'll use [SyedArsal/roberta-urdu-small-finetuned-news](https://huggingface.co/SyedArsal/roberta-urdu-small-finetuned-news) model from HuggingFace as an example\n",
    "- In addition to the RoBERTa model, we also need to save the tokenizer. This is the same for every model, these are assets (saved in `/assets`) needed for tokenization inside Spark NLP."
   ]
  },
  {
   "cell_type": "code",
   "execution_count": 3,
   "metadata": {
    "colab": {
     "base_uri": "https://localhost:8080/",
     "height": 394,
     "referenced_widgets": [
      "500bb328b96a40bbb2fea23055e7eb0a",
      "d12b04f175f544d28ba65ff9ad6d56bf",
      "c309aa8437fe4ac98cc8084d28c08749",
      "0cc9c5ad9a6649329439a3e17b56c634",
      "cfa1433cc292466491f52fccc09d1854",
      "0f6df904f755468098936116dd3ab008",
      "71fd497473a04c95b02a128b8b5ac469",
      "dcece27b3dd94c6281eaba01fdea500c",
      "02168ce2a1a04c4c95063fdd6d96df6f",
      "12a8cb9a0ee94523805cd079ae3465d1",
      "113d0632edbc4dcea7d12ff61397efb6",
      "ac263932a4f644c1b24f195b7a1fd27b",
      "46103563cad64e9bac85a9d4a847526e",
      "d616b22dcc5f49c2b4019894ad26f03f",
      "272f7f60161d44d8bda9d8d7af23024b",
      "bce29c169fb6458388a0eb7da7cfdae8",
      "eb4189c4c3014af7b0606af38950fcd0",
      "d0326d5b68114c71aacc23ca80842ea4",
      "ef5a9197caad4160929c7652e6ca5573",
      "814e7571f6544c4bb59be75fdd936d01",
      "97a2eb33a5174a678468398ce4eb7c58",
      "e0758418fed44bec824fc42a89527869",
      "9a49916101614fbeb72877c6a65c3b3c",
      "c9839b0994b449928ebaae0e989321fe",
      "756b122c782e41cfae74b1e1ba3e0ae1",
      "0359a63675c8449988b9fa1281345a2f",
      "70a66a9545b347f398a82cb2427bace2",
      "16a5d4253f324e458c3e513e6dd7406c",
      "bc62b61976da461289234a39852b2704",
      "3cdee617492049dca2acc439cf315196",
      "124ee16c2fdd4063b930fbb69edd0f10",
      "7fa27846cfde49218e6a8e14a75dc9ed",
      "6b39df0be1c74c69807ef451f6e10b35",
      "43b3b379b45c42cbbc05920055f2c674",
      "efc64b9a81bd4e7aa91c0bd5be13f5e1",
      "5c32a94aa99f4a9d8942f328e7a0206f",
      "6a5d96c4ced8465e87bc0caa3d9e6c54",
      "fbfc5dc76b1a47eb9457b39cb66d133a",
      "fcead46ccc8f428aa4f95647985c8d6b",
      "64a4fdc2722d4c6a9476306cff417f05",
      "c20fad6251984f48ad6eefea3779db16",
      "9ab58f947462459cbb70683bbd5425ff",
      "f348d45585ef4f5d88ee5151f067fbd2",
      "809c48815f494083a9edfe2acefa2e6b",
      "7c909ff8ac7c4a9cabe9a52873560436",
      "5dc5f8c23a1943af8ad249d7af3d1f4c",
      "cf2dc0ae2cc549ae9708611c60a702a4",
      "29cac60b2a02489dbd02e447caf228a6",
      "a4a983379e7c465e9e836961469e09d6",
      "92ba05d5923e465cadd0d74fa5bad1f8",
      "867b8316678e47f3b0580553c5060115",
      "bace80b67fb44829ad68a282423371d9",
      "1e2bdce4381e4e5aa2c3aadf26b7fa52",
      "82fa123d3ec54e27838b6d9e0cc46f84",
      "c7b81bf7fc6346cb89e63fb70d09e40e",
      "a5417e4edd4341ee941fe5962dcd43ce",
      "165d028ea3d3493d82fd3eeeae9391af",
      "2d4122b96aa2490e9d58f2857d3d0230",
      "51fd25c372ba42f2bc5af9982b3922c0",
      "211ae6e31a4b4755824be1ba3080e974",
      "a2a0623b9dfc4f059dd013430e3f6105",
      "3563a951410e4a2480148fea76267142",
      "5cff59ea6fd3405db5c0169be46b4bd4",
      "b37c6593b8db4a8db46cf7d00cd63ede",
      "34a5b7240c644230b326dc3c56ea136d",
      "3e3aab93273e45cabfe0019392445e6f",
      "9d28a43e331044d19c31bfc12c75574b",
      "186d792376b14152a7d745bc83602c00",
      "ed17b53a91db40af8817240bf8231331",
      "1e60f629dd744f8da0733f8766db269c",
      "c7c4487593a54878952b225164dc84c4",
      "9862ecdd18614570975c6dc766df5b9a",
      "56434b6c4214441495ace236d499c9b8",
      "e3e6c4cb2d1945c2992262ef9b18be40",
      "b7e74d565d404ce08e838aac4405456e",
      "67cdbeac9e1b45b08c765b9a15e5339e",
      "936aede108fa49638153c070f698f09e",
      "a420da058f874bcab5ddf5c19a237549",
      "e0ce598e77ce457d85ba74f13329d9e6",
      "d8233da4e8294beab567c900b4ded39f",
      "912e8ece1a7a498fae67afae61cdfa9f",
      "80c6da3dbb0b4fd0b72227fb1fd14d1a",
      "2fe98a9cd7d647b6af56a041e5a47c3b",
      "af9c4f572a074d558975d11fd43f58c7",
      "0251885e895c4afdae15427a127c6c9c",
      "e96536bf045345c68cf5c3a7fb00d271",
      "3247605085054032b318170ca632ee31",
      "05d031f2c8c644de91748ca553e61c54"
     ]
    },
    "id": "_b89GvQKosA0",
    "outputId": "69bc5cf4-aa6b-4d40-cae8-cd6fd6c19802"
   },
   "outputs": [
    {
     "name": "stderr",
     "output_type": "stream",
     "text": [
      "Multiple distributions found for package optimum. Picked distribution: optimum\n",
      "/usr/local/lib/python3.11/dist-packages/huggingface_hub/utils/_auth.py:94: UserWarning: \n",
      "The secret `HF_TOKEN` does not exist in your Colab secrets.\n",
      "To authenticate with the Hugging Face Hub, create a token in your settings tab (https://huggingface.co/settings/tokens), set it as secret in your Google Colab and restart your session.\n",
      "You will be able to reuse this secret in all of your notebooks.\n",
      "Please note that authentication is recommended but still optional to access public models or datasets.\n",
      "  warnings.warn(\n"
     ]
    },
    {
     "data": {
      "application/vnd.jupyter.widget-view+json": {
       "model_id": "500bb328b96a40bbb2fea23055e7eb0a",
       "version_major": 2,
       "version_minor": 0
      },
      "text/plain": [
       "config.json:   0%|          | 0.00/728 [00:00<?, ?B/s]"
      ]
     },
     "metadata": {},
     "output_type": "display_data"
    },
    {
     "data": {
      "application/vnd.jupyter.widget-view+json": {
       "model_id": "ac263932a4f644c1b24f195b7a1fd27b",
       "version_major": 2,
       "version_minor": 0
      },
      "text/plain": [
       "pytorch_model.bin:   0%|          | 0.00/504M [00:00<?, ?B/s]"
      ]
     },
     "metadata": {},
     "output_type": "display_data"
    },
    {
     "data": {
      "application/vnd.jupyter.widget-view+json": {
       "model_id": "9a49916101614fbeb72877c6a65c3b3c",
       "version_major": 2,
       "version_minor": 0
      },
      "text/plain": [
       "tokenizer_config.json: 0.00B [00:00, ?B/s]"
      ]
     },
     "metadata": {},
     "output_type": "display_data"
    },
    {
     "data": {
      "application/vnd.jupyter.widget-view+json": {
       "model_id": "43b3b379b45c42cbbc05920055f2c674",
       "version_major": 2,
       "version_minor": 0
      },
      "text/plain": [
       "vocab.json: 0.00B [00:00, ?B/s]"
      ]
     },
     "metadata": {},
     "output_type": "display_data"
    },
    {
     "data": {
      "application/vnd.jupyter.widget-view+json": {
       "model_id": "7c909ff8ac7c4a9cabe9a52873560436",
       "version_major": 2,
       "version_minor": 0
      },
      "text/plain": [
       "model.safetensors:   0%|          | 0.00/504M [00:00<?, ?B/s]"
      ]
     },
     "metadata": {},
     "output_type": "display_data"
    },
    {
     "data": {
      "application/vnd.jupyter.widget-view+json": {
       "model_id": "a5417e4edd4341ee941fe5962dcd43ce",
       "version_major": 2,
       "version_minor": 0
      },
      "text/plain": [
       "merges.txt: 0.00B [00:00, ?B/s]"
      ]
     },
     "metadata": {},
     "output_type": "display_data"
    },
    {
     "data": {
      "application/vnd.jupyter.widget-view+json": {
       "model_id": "9d28a43e331044d19c31bfc12c75574b",
       "version_major": 2,
       "version_minor": 0
      },
      "text/plain": [
       "tokenizer.json: 0.00B [00:00, ?B/s]"
      ]
     },
     "metadata": {},
     "output_type": "display_data"
    },
    {
     "data": {
      "application/vnd.jupyter.widget-view+json": {
       "model_id": "a420da058f874bcab5ddf5c19a237549",
       "version_major": 2,
       "version_minor": 0
      },
      "text/plain": [
       "special_tokens_map.json:   0%|          | 0.00/957 [00:00<?, ?B/s]"
      ]
     },
     "metadata": {},
     "output_type": "display_data"
    }
   ],
   "source": [
    "from optimum.onnxruntime import ORTModelForMultipleChoice\n",
    "\n",
    "MODEL_NAME = \"SyedArsal/roberta-urdu-small-finetuned-news\"\n",
    "ONNX_MODEL_PATH = f\"onnx_models/roberta_multiple_choice\"\n",
    "\n",
    "ort_model = ORTModelForMultipleChoice.from_pretrained(MODEL_NAME, export=True)\n",
    "ort_model.save_pretrained(ONNX_MODEL_PATH)"
   ]
  },
  {
   "cell_type": "markdown",
   "metadata": {
    "id": "LlYWaBP2iRvL"
   },
   "source": [
    "Save Tokenizer for OpenVINO"
   ]
  },
  {
   "cell_type": "code",
   "execution_count": 4,
   "metadata": {
    "colab": {
     "base_uri": "https://localhost:8080/"
    },
    "id": "oy7kumoCiBuK",
    "outputId": "ecde1fbf-06c1-4dae-e797-3dec677ebbf6"
   },
   "outputs": [
    {
     "data": {
      "text/plain": [
       "('openvino_models/tokenizer_config.json',\n",
       " 'openvino_models/special_tokens_map.json',\n",
       " 'openvino_models/vocab.json',\n",
       " 'openvino_models/merges.txt',\n",
       " 'openvino_models/added_tokens.json',\n",
       " 'openvino_models/tokenizer.json')"
      ]
     },
     "execution_count": 4,
     "metadata": {},
     "output_type": "execute_result"
    }
   ],
   "source": [
    "from transformers import AutoTokenizer\n",
    "\n",
    "OPENVINO_MODEL_PATH = \"openvino_models\"\n",
    "\n",
    "tokenizer = AutoTokenizer.from_pretrained(MODEL_NAME)\n",
    "tokenizer.save_pretrained(OPENVINO_MODEL_PATH)"
   ]
  },
  {
   "cell_type": "markdown",
   "metadata": {
    "id": "FTZ6VkaqiTD5"
   },
   "source": [
    "Convert ONNX to OpenVINO IR Format"
   ]
  },
  {
   "cell_type": "code",
   "execution_count": 5,
   "metadata": {
    "id": "9Mk_dKO9iOnW"
   },
   "outputs": [],
   "source": [
    "import openvino as ov\n",
    "\n",
    "ov_model = ov.convert_model(f\"{ONNX_MODEL_PATH}/model.onnx\")\n",
    "ov.save_model(ov_model, f\"{OPENVINO_MODEL_PATH}/openvino_model.xml\")"
   ]
  },
  {
   "cell_type": "markdown",
   "metadata": {
    "id": "K9-IvNGbiVWI"
   },
   "source": [
    "Organize Assets"
   ]
  },
  {
   "cell_type": "code",
   "execution_count": 6,
   "metadata": {
    "id": "vDAvetDCihfn"
   },
   "outputs": [],
   "source": [
    "import json\n",
    "\n",
    "with open(f'{OPENVINO_MODEL_PATH}/vocab.json') as f, open(f'{OPENVINO_MODEL_PATH}/vocab.txt', 'w') as out:\n",
    "    out.writelines(f\"{k}\\n\" for k in json.load(f).keys())\n",
    "\n",
    "!mkdir -p {OPENVINO_MODEL_PATH}/assets\n",
    "!mv {OPENVINO_MODEL_PATH}/vocab.txt {OPENVINO_MODEL_PATH}/merges.txt {OPENVINO_MODEL_PATH}/assets/"
   ]
  },
  {
   "cell_type": "code",
   "execution_count": 7,
   "metadata": {
    "colab": {
     "base_uri": "https://localhost:8080/"
    },
    "id": "a6TJHTQsijR-",
    "outputId": "baea6ad3-2b2a-4538-8479-312144657f6c"
   },
   "outputs": [
    {
     "name": "stdout",
     "output_type": "stream",
     "text": [
      "total 2200\n",
      "-rw-r--r-- 1 root root 1150119 Jun 28 08:00 merges.txt\n",
      "-rw-r--r-- 1 root root 1099068 Jun 28 08:00 vocab.txt\n"
     ]
    }
   ],
   "source": [
    "!ls -l {OPENVINO_MODEL_PATH}/assets"
   ]
  },
  {
   "cell_type": "markdown",
   "metadata": {
    "id": "1dnTQ5lOoj6Y"
   },
   "source": [
    "## Import and Save RoBertaForMultipleChoice in Spark NLP\n"
   ]
  },
  {
   "cell_type": "markdown",
   "metadata": {
    "id": "sJNgA5Lsoj6Y"
   },
   "source": [
    "- Install and set up Spark NLP in Google Colab\n",
    "- This example uses specific versions of `pyspark` and `spark-nlp` that have been tested with the transformer model to ensure everything runs smoothly."
   ]
  },
  {
   "cell_type": "code",
   "execution_count": 1,
   "metadata": {
    "colab": {
     "base_uri": "https://localhost:8080/"
    },
    "id": "_akaW4XQoj6Y",
    "outputId": "14ea14dc-6247-462c-b632-933cd5732a35"
   },
   "outputs": [
    {
     "name": "stdout",
     "output_type": "stream",
     "text": [
      "\u001b[2K     \u001b[90m━━━━━━━━━━━━━━━━━━━━━━━━━━━━━━━━━━━━━━━\u001b[0m \u001b[32m317.0/317.0 MB\u001b[0m \u001b[31m2.6 MB/s\u001b[0m eta \u001b[36m0:00:00\u001b[0m\n",
      "\u001b[?25h  Preparing metadata (setup.py) ... \u001b[?25l\u001b[?25hdone\n",
      "\u001b[2K   \u001b[90m━━━━━━━━━━━━━━━━━━━━━━━━━━━━━━━━━━━━━━━━\u001b[0m \u001b[32m200.5/200.5 kB\u001b[0m \u001b[31m6.5 MB/s\u001b[0m eta \u001b[36m0:00:00\u001b[0m\n",
      "\u001b[?25h  Building wheel for pyspark (setup.py) ... \u001b[?25l\u001b[?25hdone\n"
     ]
    }
   ],
   "source": [
    "!pip install -q spark-nlp==6.0.3 pyspark==3.5.1"
   ]
  },
  {
   "cell_type": "markdown",
   "metadata": {
    "id": "cPbYCJX3oj6Z"
   },
   "source": [
    "Let's start Spark with Spark NLP included via our simple `start()` function"
   ]
  },
  {
   "cell_type": "code",
   "execution_count": 2,
   "metadata": {
    "colab": {
     "base_uri": "https://localhost:8080/"
    },
    "id": "DKDNatX0oj6Z",
    "outputId": "07688e9c-24bc-458b-eb28-342dda9ec1b3"
   },
   "outputs": [
    {
     "name": "stdout",
     "output_type": "stream",
     "text": [
      "Spark NLP version:  6.0.3\n",
      "Apache Spark version:  3.5.1\n"
     ]
    }
   ],
   "source": [
    "import sparknlp\n",
    "\n",
    "spark = sparknlp.start()\n",
    "\n",
    "print(\"Spark NLP version: \", sparknlp.version())\n",
    "print(\"Apache Spark version: \", spark.version)"
   ]
  },
  {
   "cell_type": "markdown",
   "metadata": {
    "id": "V4StW27Soj6Z"
   },
   "source": [
    "- Let's use `loadSavedModel` functon in `RoBertaForMultipleChoice` which allows us to load TensorFlow model in SavedModel format\n",
    "- Most params can be set later when you are loading this model in `RoBertaForMultipleChoice` in runtime, so don't worry what you are setting them now\n",
    "- `loadSavedModel` accepts two params, first is the path to the TF SavedModel. The second is the SparkSession that is `spark` variable we previously started via `sparknlp.start()`\n",
    "- NOTE: `loadSavedModel` accepts local paths in addition to distributed file systems such as `HDFS`, `S3`, `DBFS`, etc. This feature was introduced in Spark NLP 4.2.2 release. Keep in mind the best and recommended way to move/share/reuse Spark NLP models is to use `write.save` so you can use `.load()` from any file systems natively.\n"
   ]
  },
  {
   "cell_type": "code",
   "execution_count": 4,
   "metadata": {
    "id": "ynBhuIHYvRsT"
   },
   "outputs": [],
   "source": [
    "from sparknlp.annotator import RoBertaForMultipleChoice\n",
    "\n",
    "roBertaMultpleChoiceClassifier = RoBertaForMultipleChoice.loadSavedModel(\n",
    "     f\"{OPENVINO_MODEL_PATH}\",\n",
    "     spark\n",
    " )\\\n",
    "  .setInputCols([\"document_question\", \"document_context\"])\\\n",
    "  .setOutputCol(\"answer\")"
   ]
  },
  {
   "cell_type": "markdown",
   "metadata": {
    "id": "i43GhTAboj6a"
   },
   "source": [
    "- Let's save it on disk so it is easier to be moved around and also be used later via `.load` function"
   ]
  },
  {
   "cell_type": "code",
   "execution_count": 5,
   "metadata": {
    "id": "R8wNk77eoj6a"
   },
   "outputs": [],
   "source": [
    "roBertaMultpleChoiceClassifier.write().overwrite().save(\"./{}_spark_nlp_openvino\".format(MODEL_NAME))"
   ]
  },
  {
   "cell_type": "markdown",
   "metadata": {
    "id": "x6ouvaGcoj6a"
   },
   "source": [
    "Let's clean up stuff we don't need anymore"
   ]
  },
  {
   "cell_type": "code",
   "execution_count": 6,
   "metadata": {
    "id": "y_tcguNFoj6a"
   },
   "outputs": [],
   "source": [
    "!rm -rf {ONNX_MODEL_PATH}\n",
    "!rm -rf {OPENVINO_MODEL_PATH}"
   ]
  },
  {
   "cell_type": "markdown",
   "metadata": {
    "id": "WA8W1mRvoj6a"
   },
   "source": [
    "Awesome 😎  !\n",
    "\n",
    "This is your `RoBertaForMultipleChoice` model from HuggingFace 🤗  loaded and saved by Spark NLP 🚀"
   ]
  },
  {
   "cell_type": "code",
   "execution_count": 7,
   "metadata": {
    "colab": {
     "base_uri": "https://localhost:8080/"
    },
    "id": "Rmhv_0aDoj6a",
    "outputId": "fa8c6a59-955b-4acc-aff1-b79c7a82e851"
   },
   "outputs": [
    {
     "name": "stdout",
     "output_type": "stream",
     "text": [
      "total 246688\n",
      "drwxr-xr-x 4 root root      4096 Jun 28 08:17 fields\n",
      "drwxr-xr-x 2 root root      4096 Jun 28 08:17 metadata\n",
      "-rw-r--r-- 1 root root 252599782 Jun 28 08:17 roberta_mc_classification_openvino\n"
     ]
    }
   ],
   "source": [
    "! ls -l {MODEL_NAME}_spark_nlp_openvino"
   ]
  },
  {
   "cell_type": "markdown",
   "metadata": {
    "id": "byPNuWVUoj6a"
   },
   "source": [
    "Now let's see how we can use it on other machines, clusters, or any place you wish to use your new and shiny `RoBertaForMultipleChoice` model 😊"
   ]
  },
  {
   "cell_type": "code",
   "execution_count": 8,
   "metadata": {
    "colab": {
     "base_uri": "https://localhost:8080/"
    },
    "id": "yA_7rFpBwFJ-",
    "outputId": "57eded01-a10e-43ec-9c9d-cdd956cc4d34"
   },
   "outputs": [
    {
     "name": "stdout",
     "output_type": "stream",
     "text": [
      "+------------------------------------------------------------------------------------------+------------------------------------------------------------------------+\n",
      "|question                                                                                  |choices                                                                 |\n",
      "+------------------------------------------------------------------------------------------+------------------------------------------------------------------------+\n",
      "|In Italy, pizza served in formal settings, such as at a restaurant, is presented unsliced.|It is eaten with a fork and a knife, It is eaten while held in the hand.|\n",
      "|The Eiffel Tower is located in which country?                                             |Germany, France, Italy                                                  |\n",
      "|Which animal is known as the king of the jungle?                                          |Lion, Elephant, Tiger, Leopard                                          |\n",
      "|Water boils at what temperature?                                                          |90°C, 120°C, 100°C                                                      |\n",
      "|Which planet is known as the Red Planet?                                                  |Jupiter, Mars, Venus                                                    |\n",
      "|Which language is primarily spoken in Brazil?                                             |Spanish, Portuguese, English                                            |\n",
      "|The Great Wall of China was built to protect against invasions from which group?          |The Greeks, The Romans, The Mongols, The Persians                       |\n",
      "|Which chemical element has the symbol 'O'?                                                |Oxygenm, Osmium, Ozone                                                  |\n",
      "|Which continent is the Sahara Desert located in?                                          |Asia, Africa, South America                                             |\n",
      "|Which artist painted the Mona Lisa?                                                       |Vincent van Gogh, Leonardo da Vinci, Pablo Picasso                      |\n",
      "+------------------------------------------------------------------------------------------+------------------------------------------------------------------------+\n",
      "\n"
     ]
    }
   ],
   "source": [
    "testing_data = spark.createDataFrame([\n",
    "    (\"In Italy, pizza served in formal settings, such as at a restaurant, is presented unsliced.\", \"It is eaten with a fork and a knife, It is eaten while held in the hand.\"),\n",
    "    (\"The Eiffel Tower is located in which country?\", \"Germany, France, Italy\"),\n",
    "    (\"Which animal is known as the king of the jungle?\", \"Lion, Elephant, Tiger, Leopard\"),\n",
    "    (\"Water boils at what temperature?\", \"90°C, 120°C, 100°C\"),\n",
    "    (\"Which planet is known as the Red Planet?\", \"Jupiter, Mars, Venus\"),\n",
    "    (\"Which language is primarily spoken in Brazil?\", \"Spanish, Portuguese, English\"),\n",
    "    (\"The Great Wall of China was built to protect against invasions from which group?\", \"The Greeks, The Romans, The Mongols, The Persians\"),\n",
    "    (\"Which chemical element has the symbol 'O'?\", \"Oxygenm, Osmium, Ozone\"),\n",
    "    (\"Which continent is the Sahara Desert located in?\", \"Asia, Africa, South America\"),\n",
    "    (\"Which artist painted the Mona Lisa?\", \"Vincent van Gogh, Leonardo da Vinci, Pablo Picasso\")\n",
    "], [\"question\", \"choices\"])\n",
    "\n",
    "testing_data.show(truncate=False)"
   ]
  },
  {
   "cell_type": "markdown",
   "metadata": {
    "id": "_pVOjQYEoj6b"
   },
   "source": [
    "This is how you can use your loaded classifier model in Spark NLP 🚀 pipeline:"
   ]
  },
  {
   "cell_type": "code",
   "execution_count": 9,
   "metadata": {
    "colab": {
     "base_uri": "https://localhost:8080/"
    },
    "id": "P9AYiYtPoj6b",
    "outputId": "bd59f9c5-9efd-45bc-efc1-1a67663ea2f1"
   },
   "outputs": [
    {
     "name": "stdout",
     "output_type": "stream",
     "text": [
      "+------------------------------------------------------------------------------------------+------------------------------------------------------------------------+-----------------------------------+\n",
      "|question                                                                                  |choices                                                                 |predicted_answer                   |\n",
      "+------------------------------------------------------------------------------------------+------------------------------------------------------------------------+-----------------------------------+\n",
      "|In Italy, pizza served in formal settings, such as at a restaurant, is presented unsliced.|It is eaten with a fork and a knife, It is eaten while held in the hand.|It is eaten with a fork and a knife|\n",
      "|The Eiffel Tower is located in which country?                                             |Germany, France, Italy                                                  |Germany                            |\n",
      "|Which animal is known as the king of the jungle?                                          |Lion, Elephant, Tiger, Leopard                                          | Tiger                             |\n",
      "|Water boils at what temperature?                                                          |90°C, 120°C, 100°C                                                      |90°C                               |\n",
      "|Which planet is known as the Red Planet?                                                  |Jupiter, Mars, Venus                                                    |Jupiter                            |\n",
      "|Which language is primarily spoken in Brazil?                                             |Spanish, Portuguese, English                                            | English                           |\n",
      "|The Great Wall of China was built to protect against invasions from which group?          |The Greeks, The Romans, The Mongols, The Persians                       |The Greeks                         |\n",
      "|Which chemical element has the symbol 'O'?                                                |Oxygenm, Osmium, Ozone                                                  | Ozone                             |\n",
      "|Which continent is the Sahara Desert located in?                                          |Asia, Africa, South America                                             | Africa                            |\n",
      "|Which artist painted the Mona Lisa?                                                       |Vincent van Gogh, Leonardo da Vinci, Pablo Picasso                      | Pablo Picasso                     |\n",
      "+------------------------------------------------------------------------------------------+------------------------------------------------------------------------+-----------------------------------+\n",
      "\n"
     ]
    }
   ],
   "source": [
    "from sparknlp.base import MultiDocumentAssembler\n",
    "from sparknlp.annotator import RoBertaForMultipleChoice\n",
    "from pyspark.ml import Pipeline\n",
    "\n",
    "assembler = MultiDocumentAssembler()\\\n",
    "    .setInputCols([\"question\", \"choices\"])\\\n",
    "    .setOutputCols([\"document_question\", \"document_choices\"])\n",
    "\n",
    "distilbert_model = RoBertaForMultipleChoice()\\\n",
    "    .load(f\"{MODEL_NAME}_spark_nlp_openvino\")\\\n",
    "    .setInputCols([\"document_question\", \"document_choices\"])\\\n",
    "    .setOutputCol(\"answer\")\\\n",
    "    .setBatchSize(4)\n",
    "\n",
    "pipeline = Pipeline(stages=[\n",
    "    assembler,\n",
    "    distilbert_model\n",
    "])\n",
    "\n",
    "model = pipeline.fit(testing_data)\n",
    "result = model.transform(testing_data)\n",
    "\n",
    "result.selectExpr(\"question\", \"choices\", \"answer.result[0] as predicted_answer\").show(truncate=False)"
   ]
  },
  {
   "cell_type": "markdown",
   "metadata": {
    "id": "lpxiq1igoj6c"
   },
   "source": [
    "That's it! You can now go wild and use hundreds of `RoBertaForMultipleChoice` models from HuggingFace 🤗 in Spark NLP 🚀\n"
   ]
  }
 ],
 "metadata": {
  "accelerator": "GPU",
  "colab": {
   "gpuType": "A100",
   "machine_shape": "hm",
   "provenance": []
  },
  "kernelspec": {
   "display_name": "Python 3 (ipykernel)",
   "language": "python",
   "name": "python3"
  },
  "language_info": {
   "codemirror_mode": {
    "name": "ipython",
    "version": 3
   },
   "file_extension": ".py",
   "mimetype": "text/x-python",
   "name": "python",
   "nbconvert_exporter": "python",
   "pygments_lexer": "ipython3",
   "version": "3.10.12"
  }
 },
 "nbformat": 4,
 "nbformat_minor": 0
}
