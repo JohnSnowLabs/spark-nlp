{
 "cells": [
  {
   "cell_type": "markdown",
   "metadata": {
    "id": "FvX_yCcI4W7D"
   },
   "source": [
    "![JohnSnowLabs](https://sparknlp.org/assets/images/logo.png)\n",
    "\n",
    "[![Open In Colab](https://colab.research.google.com/assets/colab-badge.svg)](https://colab.research.google.com/github/JohnSnowLabs/spark-nlp/blob/master/examples/python/transformers/openvino/HuggingFace_OpenVINO_in_Spark_NLP_Phi3.ipynb)"
   ]
  },
  {
   "cell_type": "markdown",
   "metadata": {
    "id": "8J48sFcb4W7G"
   },
   "source": [
    "# Import OpenVINO Phi3 models from HuggingFace 🤗 into Spark NLP 🚀\n",
    "\n",
    "This notebook provides a detailed walkthrough on optimizing and importing Phi3 models from HuggingFace  for use in Spark NLP, with [Intel OpenVINO toolkit](https://www.intel.com/content/www/us/en/developer/tools/openvino-toolkit/overview.html). The focus is on converting the model to the OpenVINO format and applying precision optimizations (INT8 and INT4), to enhance the performance and efficiency on CPU platforms using [Optimum Intel](https://huggingface.co/docs/optimum/main/en/intel/inference).\n",
    "\n",
    "Let's keep in mind a few things before we start 😊\n",
    "\n",
    "- OpenVINO support was introduced in  `Spark NLP 5.4.0`, enabling high performance CPU inference for models. So please make sure you have upgraded to the latest Spark NLP release.\n",
    "- Model quantization is a computationally expensive process, so it is recommended to use a runtime with more than 32GB memory for exporting the quantized model from HuggingFace.\n",
    "- You can import LLama models via `Phi3Model`. These models are usually under `Text Generation` category and have `Phi3` in their labels.\n",
    "- Some [example models](https://huggingface.co/models?search=Phi3)"
   ]
  },
  {
   "cell_type": "markdown",
   "metadata": {
    "id": "Ko24PkTd4W7H"
   },
   "source": [
    "## 1. Export and Save the HuggingFace model\n",
    "\n",
    "- Let's install `transformers` and `openvino` packages with other dependencies. You don't need `openvino` to be installed for Spark NLP, however, we need it to load and save models from HuggingFace.\n",
    "- We lock `transformers` on version `4.48.3`. This doesn't mean it won't work with the future release, but we wanted you to know which versions have been tested successfully."
   ]
  },
  {
   "cell_type": "code",
   "execution_count": null,
   "metadata": {
    "colab": {
     "base_uri": "https://localhost:8080/"
    },
    "id": "2rOdslOi4W7H",
    "outputId": "81dd6689-3c33-4964-a2ee-02259f6b1759"
   },
   "outputs": [],
   "source": [
    "!pip install -q --upgrade transformers==4.48.3 optimum[openvino]"
   ]
  },
  {
   "cell_type": "markdown",
   "metadata": {
    "id": "ix0eFHLu4W7J"
   },
   "source": [
    "[Optimum Intel](https://github.com/huggingface/optimum-intel?tab=readme-ov-file#openvino) is the interface between the Transformers library and the various model optimization and acceleration tools provided by Intel. HuggingFace models loaded with optimum-intel are automatically optimized for OpenVINO, while being compatible with the Transformers API. It also offers the ability to perform weight compression during export.\n",
    "- To load a HuggingFace model directly for inference/export, just replace the `AutoModelForXxx` class with the corresponding `OVModelForXxx` class. We can use this to import and export OpenVINO models with `from_pretrained` and `save_pretrained`.\n",
    "- By setting `export=True`, the source model is converted to OpenVINO IR format on the fly.\n",
    "- We'll use [Phi3/Phi31.5-7B-Chat](https://huggingface.co/Phi3/Phi31.5-7B-Chat) model from HuggingFace as an example.\n",
    "- In addition to `Phi3Model` we also need to save the tokenizer. This is the same for every model, these are assets needed for tokenization inside Spark NLP."
   ]
  },
  {
   "cell_type": "markdown",
   "metadata": {
    "id": "8nuLKzS8F1vt"
   },
   "source": [
    "### Option 1: Exporting to OpenVINO IR in INT8 Precision\n",
    "\n",
    "Passing the `load_in_8bit` parameter applies 8-bit quantization on the model weights."
   ]
  },
  {
   "cell_type": "code",
   "execution_count": 2,
   "metadata": {
    "colab": {
     "base_uri": "https://localhost:8080/",
     "height": 785,
     "referenced_widgets": [
      "19d578586cbc4adf9c142e866713d884",
      "7d6eb1dc213c4177a37fba49942537b7",
      "54104ea2ed974265b4fc4ba6f5fe1333",
      "a89eab0269f34b8ab062cde85497c772",
      "3fddc161fb3b420581de1f12ac7bcae8",
      "ca43e20a9ba44c5981d702ea2332c519",
      "dce890ade4374a59906af2ce6491a55d",
      "80e77e94004d460fbeaf8ad6ba35262b",
      "0da4f2e7585847bda5cb89d921d71388",
      "08303e2baa1a4fffaf186e9198c0b2f3",
      "a1dfe1ef4e7a4b08aa0a6b0c0a95e265",
      "9bae32590d784048b89f64e6ffdedb40",
      "1f03abf25e4c497facc04b40220ca5c7",
      "9ae80094585348f9890fe363c9923eab",
      "f0b3f29abc004ff68a70a171cd837b9c",
      "a889ebf7759d460e8e84ee99849d8dad",
      "d9bdf8caaddc465cb9cf31fa57f76be6",
      "ae278cb7243f4e3e89e4b913ddd2bf19",
      "d722a3770c4b4fcda0a790bb88df92be",
      "d44c67a755944f579339a242613a8f87",
      "9e19051bc3c34e178b741811049be7c2",
      "c860096a683c49219abf0778062be5bc",
      "aaa552001a644d40acbcbd6f098d5c06",
      "c7fc8b6d3e9c4c569e8f927f0b356c33",
      "1bbef192855e4640a8a7053519290ed5",
      "798f3d0aded64c218c36636ed2c48374",
      "dac48ad65c514e6791e63ab6fb5ce982",
      "d407952097f74e299668048a2d506a74",
      "12899a4937f84b9bbcd99190c2e3e7c5",
      "dfe0ad6c7f384235bf5211c04a4cd686",
      "37cd3873763b405c92039165cec35a4f",
      "273be89469e94904bb6316cfe71e55e0",
      "417ed18b12834d72895e21e4418bbbd7",
      "c50b780e35bb41e2ba451ca50323ef14",
      "e328d2fab9c74727b4ce19d9e8389484",
      "422fb876fbd2448d8912e2e0b9bc50da",
      "f2841272c49349a480edaefdeb189874",
      "64467e537cf9481cbdc6b4f7602d6d54",
      "f59ca871c0384dd78355bc8a93ad50b7",
      "87ec5d14e2464d1389374b08262f13f0",
      "e0771b4441f045cba5c2eec2cedb20ff",
      "03a21494882f4740934ed45407f53684",
      "c2a1d6baa8a14faabfd8ef19c8e01464",
      "443c30f2ec2640fd9a1a4b67d56dba02",
      "1535752f463a4775bb6e84fe7087b6b6",
      "62da49651910423e91ffa0da9ac622f5",
      "2e0f1cf4724d4129aa64644dc79782c7",
      "908cf6be2e0049c7951344d21da46b83",
      "5033eeaa1b8345008cf10ab8540a58f5",
      "b4062c1edd7f4be3aa287a0e99d1fd10",
      "cf71a1b2b23045aa8f3bbf780501a1c7",
      "07a1dc4e89e745baa47ea0af33a4886d",
      "99d93f5e0d994a98a963c9a86c3c26b1",
      "f5325b0715b24fce950fa9b800323d8c",
      "52bd2a88982d4a6c9659e7293a628dda",
      "24221f041a6e4a2cae5abc65095fb069",
      "8486968f251949569fb52c3ff0ecfbb4",
      "3777cf802c974dc7a92d2a88053386de",
      "5f2195f87c8f44c4922502208c7fb4e6",
      "b9b93e4a93d544a893e873aeb943072c",
      "1cad45c9d8bd441086abe069536a5704",
      "ab24849c740a4d9ead6521b076fcaacb",
      "bb79019e558343ccaa3ccc057936f609",
      "0639a4d990c147669c4ab4fed3a0503d",
      "772aeb4aca1c480c9b73564e11a7f2a6",
      "3473470536b642ae882de14caf204f02",
      "acb3deaf63f641428551624e9a81a8d7",
      "e318aeee1a3248da9a9b56b28b9a0220",
      "86e578c63cd5488f894e093e21b8058a",
      "2c9e3ed3615c499abe1d5f671ba639a4",
      "f08911b350ef4732aa9d9dbd312a3441",
      "1d227403bf7449ceab8baf08c8f7b0ec",
      "4f5ec73c4c0f422caa6bf1c2d83b4bed",
      "06f0ac1a60b34249991335c1bede16ac",
      "25bc8c6cab3a427cb634ba8b486635b4",
      "6c339bbd937743abb550ad8febc621f9",
      "a426100984364a50835864cf8ab4904b",
      "cc2b45cdcbf2426d8ba1bdf6a693f9d2",
      "446df33793cc4900a1774d99c45832d2",
      "ad3bcbd289df4dc2b7757af6ef102aee",
      "cb3301c7a50a4421b44c098f9aac2a2b",
      "27f80c466bc04a99b25bac14a707f10f",
      "013bdf215b4244b9ad9cfc11856999fe",
      "8afefdc9433d4e09a531272d951c843f",
      "3ec339d197ed4801a967ded32045a12d",
      "a9ac6ff8648e47d2b6332f4cc46f0ba6",
      "9a0298f94bfa4cb98d614b6becd2ffc5",
      "b110107b900c4a71ae0039b09cb13afd",
      "4d598d68039646c19fd47f024625a9c8",
      "94b507bbf61a480fa2bdd37c3ae2806c",
      "784b17240b9c4f59bc12f1384e177217",
      "76643c5ad8eb4ecf8f6ea957c2e0fdf5",
      "faae557316184855959acf05e2ff65ee",
      "950db6e919ac457a837a92a863a87110",
      "7ac2a2c42ea540088e22ddd91a89b10e",
      "e653c7f2c75c499dabb9a380c6a97cd6",
      "f39c8fa80d434a8cbc6dbf517035853c",
      "c3a7db920e80446d9420e75cf3d86e7f",
      "0bbce5f156294fb89b6c8dcb38932bc3",
      "6db7f359f8e9445c89fd5cd5c555209c",
      "51b1e581cb41456e947955ca155693da",
      "77a19300be7a46b2acb0941d17939b6e",
      "65a8865790bc4e7ca6213933c36c77a2",
      "db87d77e780047419147486c72947f83",
      "e7f1dc4fc6004d3ca9858bd96aa308e6",
      "3071cd073d624272a2649de9c3ab9e51",
      "d7116ecee7324c678ef3443fb8c0b748",
      "85b0d78169c44a6da93a5309e4076108",
      "439e564785dc4c1d95d583569ebe8a64",
      "ec7465c133ae49c99e83b9729d1fd445",
      "8ec5cc4ee6184cfbaaac993bbc901510",
      "7b5978638f4842bfba93ecd253a4343e",
      "87809ff630df400bb89acadd2cea442e",
      "fb917b4c4fa54062bf3a3229463630a0",
      "0770c411298144318dfea20155c7a7f3",
      "4d03abae95334593b274fed48169fa23",
      "b040f389ae214f36895af89dcf1dfd14",
      "5ece1f31ee884e928ef0bb3d12bf003e",
      "4f71dc6f84484f5285cba51808c636cd",
      "48e38e8ec7334f099230a5e6ec97638a",
      "219e7a82153c4531bc3fac2704179ef1",
      "2c5ef1d30f6a40c2995cce113494d5da",
      "88c702650714481c9f21746d25bc158f",
      "08093a7976744e678e3510e83667d281",
      "52c5ce219c2842bcb6c8e2e29ef950f1",
      "e71d272aaf5a45af9211d8adf23b1653",
      "127c797d1b2748f0a547c7be2c5bedce",
      "d5a6df8c47d64345b43b34d1328c978c",
      "b6d4f54319f8489193848aca415c835b",
      "cf64859883ab4f95bbe31e9771b88ce6",
      "dfd0c3fdc0314ca79899b467e192fa4c",
      "621fb0227e6a4ef595ebf085bf56c68f",
      "36801cb0fb1041d0ae3869d3fe362fd8",
      "78cc3ddcc1a9428384c1a819547992c3"
     ]
    },
    "collapsed": true,
    "id": "HekcHRGGGBUE",
    "outputId": "4e75637f-34c5-4345-8db6-e4af0e013447"
   },
   "outputs": [
    {
     "name": "stderr",
     "output_type": "stream",
     "text": [
      "No CUDA runtime is found, using CUDA_HOME='/usr/local/cuda'\n",
      "/usr/local/lib/python3.11/dist-packages/huggingface_hub/utils/_auth.py:94: UserWarning: \n",
      "The secret `HF_TOKEN` does not exist in your Colab secrets.\n",
      "To authenticate with the Hugging Face Hub, create a token in your settings tab (https://huggingface.co/settings/tokens), set it as secret in your Google Colab and restart your session.\n",
      "You will be able to reuse this secret in all of your notebooks.\n",
      "Please note that authentication is recommended but still optional to access public models or datasets.\n",
      "  warnings.warn(\n"
     ]
    },
    {
     "data": {
      "application/vnd.jupyter.widget-view+json": {
       "model_id": "19d578586cbc4adf9c142e866713d884",
       "version_major": 2,
       "version_minor": 0
      },
      "text/plain": [
       "config.json:   0%|          | 0.00/3.48k [00:00<?, ?B/s]"
      ]
     },
     "metadata": {},
     "output_type": "display_data"
    },
    {
     "data": {
      "application/vnd.jupyter.widget-view+json": {
       "model_id": "9bae32590d784048b89f64e6ffdedb40",
       "version_major": 2,
       "version_minor": 0
      },
      "text/plain": [
       "model.safetensors.index.json:   0%|          | 0.00/16.3k [00:00<?, ?B/s]"
      ]
     },
     "metadata": {},
     "output_type": "display_data"
    },
    {
     "data": {
      "application/vnd.jupyter.widget-view+json": {
       "model_id": "aaa552001a644d40acbcbd6f098d5c06",
       "version_major": 2,
       "version_minor": 0
      },
      "text/plain": [
       "Downloading shards:   0%|          | 0/2 [00:00<?, ?it/s]"
      ]
     },
     "metadata": {},
     "output_type": "display_data"
    },
    {
     "data": {
      "application/vnd.jupyter.widget-view+json": {
       "model_id": "c50b780e35bb41e2ba451ca50323ef14",
       "version_major": 2,
       "version_minor": 0
      },
      "text/plain": [
       "model-00001-of-00002.safetensors:   0%|          | 0.00/4.97G [00:00<?, ?B/s]"
      ]
     },
     "metadata": {},
     "output_type": "display_data"
    },
    {
     "data": {
      "application/vnd.jupyter.widget-view+json": {
       "model_id": "1535752f463a4775bb6e84fe7087b6b6",
       "version_major": 2,
       "version_minor": 0
      },
      "text/plain": [
       "model-00002-of-00002.safetensors:   0%|          | 0.00/2.67G [00:00<?, ?B/s]"
      ]
     },
     "metadata": {},
     "output_type": "display_data"
    },
    {
     "data": {
      "application/vnd.jupyter.widget-view+json": {
       "model_id": "24221f041a6e4a2cae5abc65095fb069",
       "version_major": 2,
       "version_minor": 0
      },
      "text/plain": [
       "Loading checkpoint shards:   0%|          | 0/2 [00:00<?, ?it/s]"
      ]
     },
     "metadata": {},
     "output_type": "display_data"
    },
    {
     "data": {
      "application/vnd.jupyter.widget-view+json": {
       "model_id": "acb3deaf63f641428551624e9a81a8d7",
       "version_major": 2,
       "version_minor": 0
      },
      "text/plain": [
       "generation_config.json:   0%|          | 0.00/181 [00:00<?, ?B/s]"
      ]
     },
     "metadata": {},
     "output_type": "display_data"
    },
    {
     "data": {
      "application/vnd.jupyter.widget-view+json": {
       "model_id": "cc2b45cdcbf2426d8ba1bdf6a693f9d2",
       "version_major": 2,
       "version_minor": 0
      },
      "text/plain": [
       "tokenizer_config.json:   0%|          | 0.00/3.44k [00:00<?, ?B/s]"
      ]
     },
     "metadata": {},
     "output_type": "display_data"
    },
    {
     "data": {
      "application/vnd.jupyter.widget-view+json": {
       "model_id": "4d598d68039646c19fd47f024625a9c8",
       "version_major": 2,
       "version_minor": 0
      },
      "text/plain": [
       "tokenizer.model:   0%|          | 0.00/500k [00:00<?, ?B/s]"
      ]
     },
     "metadata": {},
     "output_type": "display_data"
    },
    {
     "data": {
      "application/vnd.jupyter.widget-view+json": {
       "model_id": "6db7f359f8e9445c89fd5cd5c555209c",
       "version_major": 2,
       "version_minor": 0
      },
      "text/plain": [
       "tokenizer.json:   0%|          | 0.00/1.94M [00:00<?, ?B/s]"
      ]
     },
     "metadata": {},
     "output_type": "display_data"
    },
    {
     "data": {
      "application/vnd.jupyter.widget-view+json": {
       "model_id": "8ec5cc4ee6184cfbaaac993bbc901510",
       "version_major": 2,
       "version_minor": 0
      },
      "text/plain": [
       "added_tokens.json:   0%|          | 0.00/306 [00:00<?, ?B/s]"
      ]
     },
     "metadata": {},
     "output_type": "display_data"
    },
    {
     "data": {
      "application/vnd.jupyter.widget-view+json": {
       "model_id": "2c5ef1d30f6a40c2995cce113494d5da",
       "version_major": 2,
       "version_minor": 0
      },
      "text/plain": [
       "special_tokens_map.json:   0%|          | 0.00/599 [00:00<?, ?B/s]"
      ]
     },
     "metadata": {},
     "output_type": "display_data"
    },
    {
     "name": "stderr",
     "output_type": "stream",
     "text": [
      "`loss_type=None` was set in the config but it is unrecognised.Using the default loss: `ForCausalLMLoss`.\n",
      "/usr/local/lib/python3.11/dist-packages/transformers/modeling_attn_mask_utils.py:285: TracerWarning: Converting a tensor to a Python boolean might cause the trace to be incorrect. We can't record the data flow of Python values, so this value will be treated as a constant in the future. This means that the trace might not generalize to other inputs!\n",
      "  elif sliding_window is None or key_value_length < sliding_window:\n",
      "/usr/local/lib/python3.11/dist-packages/transformers/models/phi3/modeling_phi3.py:805: TracerWarning: Converting a tensor to a Python boolean might cause the trace to be incorrect. We can't record the data flow of Python values, so this value will be treated as a constant in the future. This means that the trace might not generalize to other inputs!\n",
      "  if attention_mask.shape[-1] > target_length:\n",
      "/usr/local/lib/python3.11/dist-packages/transformers/models/phi3/modeling_phi3.py:389: TracerWarning: Converting a tensor to a Python boolean might cause the trace to be incorrect. We can't record the data flow of Python values, so this value will be treated as a constant in the future. This means that the trace might not generalize to other inputs!\n",
      "  if seq_len > original_max_position_embeddings:\n"
     ]
    },
    {
     "name": "stdout",
     "output_type": "stream",
     "text": [
      "INFO:nncf:Statistics of the bitwidth distribution:\n",
      "┍━━━━━━━━━━━━━━━━━━━━━━━━━━━┯━━━━━━━━━━━━━━━━━━━━━━━━━━━━━┯━━━━━━━━━━━━━━━━━━━━━━━━━━━━━━━━━━━━━━━━┑\n",
      "│ Weight compression mode   │ % all parameters (layers)   │ % ratio-defining parameters (layers)   │\n",
      "┝━━━━━━━━━━━━━━━━━━━━━━━━━━━┿━━━━━━━━━━━━━━━━━━━━━━━━━━━━━┿━━━━━━━━━━━━━━━━━━━━━━━━━━━━━━━━━━━━━━━━┥\n",
      "│ int8_asym                 │ 100% (130 / 130)            │ 100% (130 / 130)                       │\n",
      "┕━━━━━━━━━━━━━━━━━━━━━━━━━━━┷━━━━━━━━━━━━━━━━━━━━━━━━━━━━━┷━━━━━━━━━━━━━━━━━━━━━━━━━━━━━━━━━━━━━━━━┙\n"
     ]
    },
    {
     "data": {
      "application/vnd.jupyter.widget-view+json": {
       "model_id": "36801cb0fb1041d0ae3869d3fe362fd8",
       "version_major": 2,
       "version_minor": 0
      },
      "text/plain": [
       "Output()"
      ]
     },
     "metadata": {},
     "output_type": "display_data"
    },
    {
     "data": {
      "text/html": [
       "<pre style=\"white-space:pre;overflow-x:auto;line-height:normal;font-family:Menlo,'DejaVu Sans Mono',consolas,'Courier New',monospace\"></pre>\n"
      ],
      "text/plain": []
     },
     "metadata": {},
     "output_type": "display_data"
    }
   ],
   "source": [
    "from optimum.intel.openvino import OVQuantizer, OVModelForCausalLM\n",
    "from transformers import AutoTokenizer, AutoConfig\n",
    "\n",
    "\n",
    "MODEL_NAME = \"microsoft/Phi-3-mini-128k-instruct\"\n",
    "EXPORT_PATH = f\"./models/int8/{MODEL_NAME}\"\n",
    "ASSETS_PATH = f\"{EXPORT_PATH}/assets\"\n",
    "\n",
    "model = OVModelForCausalLM.from_pretrained(MODEL_NAME, export=True, load_in_8bit=True)\n",
    "model.save_pretrained(EXPORT_PATH)\n",
    "\n",
    "tokenizer = AutoTokenizer.from_pretrained(MODEL_NAME)\n",
    "tokenizer.save_pretrained(ASSETS_PATH)\n",
    "\n",
    "config = AutoConfig.from_pretrained(MODEL_NAME)\n",
    "config.save_pretrained(ASSETS_PATH)"
   ]
  },
  {
   "cell_type": "markdown",
   "metadata": {
    "id": "s3FzxkINBlkG"
   },
   "source": [
    "Once the model export and quantization is complete, move the model assets needed for tokenization in Spark NLP to the `assets` directory."
   ]
  },
  {
   "cell_type": "code",
   "execution_count": 3,
   "metadata": {
    "colab": {
     "base_uri": "https://localhost:8080/"
    },
    "id": "9rrSD0GZhwpZ",
    "outputId": "54c86060-8269-4c05-b0db-26253fb2e41a"
   },
   "outputs": [
    {
     "name": "stdout",
     "output_type": "stream",
     "text": [
      "total 3737512\n",
      "drwxr-xr-x 2 root root       4096 Jun 24 08:30 assets\n",
      "-rw-r--r-- 1 root root       3424 Jun 24 08:28 config.json\n",
      "-rw-r--r-- 1 root root        172 Jun 24 08:30 generation_config.json\n",
      "-rw-r--r-- 1 root root        609 Jun 24 08:30 openvino_config.json\n",
      "-rw-r--r-- 1 root root 3824918800 Jun 24 08:30 openvino_model.bin\n",
      "-rw-r--r-- 1 root root    2266797 Jun 24 08:30 openvino_model.xml\n"
     ]
    }
   ],
   "source": [
    "!ls -l {EXPORT_PATH}"
   ]
  },
  {
   "cell_type": "code",
   "execution_count": 5,
   "metadata": {
    "id": "KVumUr0-hwpZ"
   },
   "outputs": [],
   "source": [
    "import json\n",
    "\n",
    "# Load tokenizer JSON\n",
    "with open(f\"{ASSETS_PATH}/tokenizer.json\") as f:\n",
    "    tokenizer = json.load(f)\n",
    "    vocab_json = tokenizer[\"model\"][\"vocab\"]\n",
    "    merges = tokenizer[\"model\"][\"merges\"]\n",
    "    special_tokens = tokenizer.get(\"added_tokens\", [])\n",
    "\n",
    "# Reconstruct vocab list\n",
    "vocab_size = len(vocab_json) + len(special_tokens)\n",
    "vocab = [\"\"] * vocab_size\n",
    "for token, idx in vocab_json.items():\n",
    "    vocab[idx] = token\n",
    "for token in special_tokens:\n",
    "    vocab[token[\"id\"]] = token[\"content\"]\n",
    "\n",
    "# Save vocab.txt\n",
    "with open(f\"{ASSETS_PATH}/vocab.txt\", \"w\") as f:\n",
    "    f.write(\"\\n\".join(vocab))\n",
    "\n",
    "# Save merges.txt\n",
    "with open(f\"{ASSETS_PATH}/merges.txt\", \"w\") as f:\n",
    "    f.write(\"\\n\".join([\" \".join(pair) for pair in merges]))"
   ]
  },
  {
   "cell_type": "code",
   "execution_count": 6,
   "metadata": {
    "colab": {
     "base_uri": "https://localhost:8080/"
    },
    "id": "aK3HfJEahwpa",
    "outputId": "e54293c2-359c-4996-b8de-4e8f46661883"
   },
   "outputs": [
    {
     "name": "stdout",
     "output_type": "stream",
     "text": [
      "total 4816\n",
      "-rw-r--r-- 1 root root     293 Jun 24 08:30 added_tokens.json\n",
      "-rw-r--r-- 1 root root    3426 Jun 24 08:30 config.json\n",
      "-rw-r--r-- 1 root root  544426 Jun 24 08:31 merges.txt\n",
      "-rw-r--r-- 1 root root     569 Jun 24 08:30 special_tokens_map.json\n",
      "-rw-r--r-- 1 root root    3371 Jun 24 08:30 tokenizer_config.json\n",
      "-rw-r--r-- 1 root root 3620657 Jun 24 08:30 tokenizer.json\n",
      "-rw-r--r-- 1 root root  499723 Jun 24 08:30 tokenizer.model\n",
      "-rw-r--r-- 1 root root  243079 Jun 24 08:31 vocab.txt\n"
     ]
    }
   ],
   "source": [
    "!ls -l {EXPORT_PATH}/assets"
   ]
  },
  {
   "cell_type": "markdown",
   "metadata": {
    "id": "U5mMBxUEF6Z9"
   },
   "source": [
    "### Option 2: Exporting to OpenVINO IR in INT4 Precision\n",
    "\n",
    "Alternately, Optimum Intel also provides [4-bit weight compression](https://huggingface.co/docs/optimum/intel/optimization_ov#4-bit) with `OVWeightQuantizationConfig` class to control weight quantization parameters. The `ratio` parameter controls the ratio between 4-bit and 8-bit quantization. If set to 0.8, it means that 80% of the layers will be quantized to int4 while the remaining 20% will be quantized to int8."
   ]
  },
  {
   "cell_type": "code",
   "execution_count": null,
   "metadata": {
    "collapsed": true,
    "id": "n1_ZhEJ_4W7J"
   },
   "outputs": [],
   "source": [
    "from optimum.intel.openvino import OVWeightQuantizationConfig, OVModelForCausalLM\n",
    "from transformers import AutoTokenizer, AutoConfig\n",
    "\n",
    "MODEL_NAME = \"microsoft/Phi-3-mini-128k-instruct\"\n",
    "EXPORT_PATH = f\"./models/int4/{MODEL_NAME}\"\n",
    "\n",
    "q_config = OVWeightQuantizationConfig(bits=4, sym=True, group_size=128, ratio=0.8)\n",
    "\n",
    "model = OVModelForCausalLM.from_pretrained(MODEL_NAME, export=True, quantization_config=q_config)\n",
    "model.save_pretrained(EXPORT_PATH)\n",
    "\n",
    "tokenizer = AutoTokenizer.from_pretrained(MODEL_NAME)\n",
    "tokenizer.save_pretrained(f\"{EXPORT_PATH}/assets\")\n",
    "\n",
    "config = AutoConfig.from_pretrained(MODEL_NAME)\n",
    "config.save_pretrained(f\"{EXPORT_PATH}/assets\")"
   ]
  },
  {
   "cell_type": "markdown",
   "metadata": {
    "id": "n4_STbc7kJji"
   },
   "source": [
    "Once the model export and quantization is complete, move the model assets needed for tokenization in Spark NLP to the `assets` directory."
   ]
  },
  {
   "cell_type": "code",
   "execution_count": null,
   "metadata": {
    "colab": {
     "base_uri": "https://localhost:8080/"
    },
    "id": "EOLmL1S14W7K",
    "outputId": "98cdf92c-7d75-42bb-d0cf-7c50200ea97c"
   },
   "outputs": [
    {
     "name": "stdout",
     "output_type": "stream",
     "text": [
      "total 2366164\n",
      "drwxr-xr-x 2 root root       4096 Mar 17 19:36 assets\n",
      "-rw-r--r-- 1 root root       3424 Mar 17 19:36 config.json\n",
      "-rw-r--r-- 1 root root        172 Mar 17 19:36 generation_config.json\n",
      "-rw-r--r-- 1 root root        640 Mar 17 19:36 openvino_config.json\n",
      "-rw-r--r-- 1 root root 2420769108 Mar 17 19:36 openvino_model.bin\n",
      "-rw-r--r-- 1 root root    2157175 Mar 17 19:36 openvino_model.xml\n"
     ]
    }
   ],
   "source": [
    "!ls -l {EXPORT_PATH}"
   ]
  },
  {
   "cell_type": "code",
   "execution_count": null,
   "metadata": {
    "id": "-YEwaJVEhwpc"
   },
   "outputs": [],
   "source": [
    "import json\n",
    "\n",
    "# Load tokenizer JSON\n",
    "with open(f\"{ASSETS_PATH}/tokenizer.json\") as f:\n",
    "    tokenizer = json.load(f)\n",
    "    vocab_json = tokenizer[\"model\"][\"vocab\"]\n",
    "    merges = tokenizer[\"model\"][\"merges\"]\n",
    "    special_tokens = tokenizer.get(\"added_tokens\", [])\n",
    "\n",
    "# Reconstruct vocab list\n",
    "vocab_size = len(vocab_json) + len(special_tokens)\n",
    "vocab = [\"\"] * vocab_size\n",
    "for token, idx in vocab_json.items():\n",
    "    vocab[idx] = token\n",
    "for token in special_tokens:\n",
    "    vocab[token[\"id\"]] = token[\"content\"]\n",
    "\n",
    "# Save vocab.txt\n",
    "with open(f\"{ASSETS_PATH}/vocab.txt\", \"w\") as f:\n",
    "    f.write(\"\\n\".join(vocab))\n",
    "\n",
    "# Save merges.txt\n",
    "with open(f\"{ASSETS_PATH}/merges.txt\", \"w\") as f:\n",
    "    f.write(\"\\n\".join([\" \".join(pair) for pair in merges]))"
   ]
  },
  {
   "cell_type": "code",
   "execution_count": null,
   "metadata": {
    "colab": {
     "base_uri": "https://localhost:8080/"
    },
    "id": "zQ1SbNAc4W7K",
    "outputId": "10039329-b09e-4268-8fd4-26efb673c233"
   },
   "outputs": [
    {
     "name": "stdout",
     "output_type": "stream",
     "text": [
      "total 4044\n",
      "-rw-r--r-- 1 root root     293 Mar 17 19:36 added_tokens.json\n",
      "-rw-r--r-- 1 root root    3426 Mar 17 19:36 config.json\n",
      "-rw-r--r-- 1 root root     569 Mar 17 19:36 special_tokens_map.json\n",
      "-rw-r--r-- 1 root root    3371 Mar 17 19:36 tokenizer_config.json\n",
      "-rw-r--r-- 1 root root 3620657 Mar 17 19:36 tokenizer.json\n",
      "-rw-r--r-- 1 root root  499723 Mar 17 19:36 tokenizer.model\n"
     ]
    }
   ],
   "source": [
    "!ls -l {EXPORT_PATH}/assets"
   ]
  },
  {
   "cell_type": "markdown",
   "metadata": {
    "id": "WcCIkzbUBPve"
   },
   "source": [
    "All done! the model's ready to be loaded into Spark NLP"
   ]
  },
  {
   "cell_type": "markdown",
   "metadata": {
    "id": "svbT3OG24W7L"
   },
   "source": [
    "## 2. Import and Save Llama2 in Spark NLP\n",
    "\n"
   ]
  },
  {
   "cell_type": "markdown",
   "metadata": {
    "id": "TW0ycUcRBxJ2"
   },
   "source": [
    "- Install and set up Spark NLP in Google Colab\n",
    "- This example uses specific versions of `pyspark` and `spark-nlp` that have been tested with the transformer model to ensure everything runs smoothly."
   ]
  },
  {
   "cell_type": "code",
   "execution_count": 7,
   "metadata": {
    "colab": {
     "base_uri": "https://localhost:8080/"
    },
    "id": "z6TWf2r14W7L",
    "outputId": "cc46ed57-2fe9-4aee-be93-5ab468befac7"
   },
   "outputs": [
    {
     "name": "stdout",
     "output_type": "stream",
     "text": [
      "\u001b[2K     \u001b[90m━━━━━━━━━━━━━━━━━━━━━━━━━━━━━━━━━━━━━━━\u001b[0m \u001b[32m317.3/317.3 MB\u001b[0m \u001b[31m1.3 MB/s\u001b[0m eta \u001b[36m0:00:00\u001b[0m\n",
      "\u001b[?25h  Preparing metadata (setup.py) ... \u001b[?25l\u001b[?25hdone\n",
      "\u001b[2K   \u001b[90m━━━━━━━━━━━━━━━━━━━━━━━━━━━━━━━━━━━━━━━━\u001b[0m \u001b[32m635.7/635.7 kB\u001b[0m \u001b[31m35.4 MB/s\u001b[0m eta \u001b[36m0:00:00\u001b[0m\n",
      "\u001b[?25h  Building wheel for pyspark (setup.py) ... \u001b[?25l\u001b[?25hdone\n"
     ]
    }
   ],
   "source": [
    "!pip install -q pyspark==3.5.4 spark-nlp==5.5.3"
   ]
  },
  {
   "cell_type": "markdown",
   "metadata": {
    "id": "OYI03iqp4W7L"
   },
   "source": [
    "Let's start Spark with Spark NLP included via our simple `start()` function"
   ]
  },
  {
   "cell_type": "code",
   "execution_count": 8,
   "metadata": {
    "colab": {
     "base_uri": "https://localhost:8080/"
    },
    "id": "7_Oy0zMi4W7L",
    "outputId": "3f4d0b0a-f97d-4291-9140-197b953ba79b"
   },
   "outputs": [
    {
     "name": "stdout",
     "output_type": "stream",
     "text": [
      "Spark NLP version:  5.5.3\n",
      "Apache Spark version:  3.5.4\n"
     ]
    }
   ],
   "source": [
    "import sparknlp\n",
    "\n",
    "spark = sparknlp.start()\n",
    "\n",
    "print(\"Spark NLP version: \", sparknlp.version())\n",
    "print(\"Apache Spark version: \", spark.version)"
   ]
  },
  {
   "cell_type": "markdown",
   "metadata": {
    "id": "aXCJqb9i4W7M"
   },
   "source": [
    "- Let's use `loadSavedModel` functon in `LLAMA2Transformer` which allows us to load the OpenVINO model.\n",
    "- Most params will be set automatically. They can also be set later after loading the model in `LLAMA2Transformer` during runtime, so don't worry about setting them now.\n",
    "- `loadSavedModel` accepts two params, first is the path to the exported model. The second is the SparkSession that is `spark` variable we previously started via `sparknlp.start()`\n",
    "- NOTE: `loadSavedModel` accepts local paths in addition to distributed file systems such as `HDFS`, `S3`, `DBFS`, etc. This feature was introduced in Spark NLP 4.2.2 release. Keep in mind the best and recommended way to move/share/reuse Spark NLP models is to use `write.save` so you can use `.load()` from any file systems natively.st and recommended way to move/share/reuse Spark NLP models is to use `write.save` so you can use `.load()` from any file systems natively."
   ]
  },
  {
   "cell_type": "code",
   "execution_count": 9,
   "metadata": {
    "id": "T3591W9R4W7M"
   },
   "outputs": [],
   "source": [
    "from sparknlp.annotator import Phi3Transformer\n",
    "\n",
    "Phi3 = Phi3Transformer \\\n",
    "    .loadSavedModel(EXPORT_PATH, spark) \\\n",
    "    .setMaxOutputLength(50) \\\n",
    "    .setDoSample(True) \\\n",
    "    .setInputCols([\"documents\"]) \\\n",
    "    .setOutputCol(\"generation\")"
   ]
  },
  {
   "cell_type": "markdown",
   "metadata": {
    "id": "9X3RphM-4W7M"
   },
   "source": [
    "Let's save it on disk so it is easier to be moved around and also be used later via `.load` function"
   ]
  },
  {
   "cell_type": "code",
   "execution_count": 10,
   "metadata": {
    "id": "T6GaugQa4W7M"
   },
   "outputs": [],
   "source": [
    "Phi3.write().overwrite().save(f\"{MODEL_NAME}_spark_nlp\")"
   ]
  },
  {
   "cell_type": "markdown",
   "metadata": {
    "id": "o0kroa6u4W7M"
   },
   "source": [
    "Let's clean up stuff we don't need anymore"
   ]
  },
  {
   "cell_type": "code",
   "execution_count": 11,
   "metadata": {
    "id": "BHvWriCn4W7M"
   },
   "outputs": [],
   "source": [
    "!rm -rf {EXPORT_PATH}"
   ]
  },
  {
   "cell_type": "markdown",
   "metadata": {
    "id": "Gz4cU4Q54W7N"
   },
   "source": [
    "Awesome  😎 !\n",
    "\n",
    "This is your OpenVINO Phi3 model from HuggingFace 🤗  loaded and saved by Spark NLP 🚀"
   ]
  },
  {
   "cell_type": "code",
   "execution_count": 12,
   "metadata": {
    "colab": {
     "base_uri": "https://localhost:8080/"
    },
    "id": "17klLp1M4W7N",
    "outputId": "999ab605-a1e5-4bd7-a945-804be454b7a9"
   },
   "outputs": [
    {
     "name": "stdout",
     "output_type": "stream",
     "text": [
      "total 3738564\n",
      "drwxr-xr-x 3 root root       4096 Jun 24 08:37 fields\n",
      "drwxr-xr-x 2 root root       4096 Jun 24 08:37 metadata\n",
      "-rw-r--r-- 1 root root 3827769865 Jun 24 08:41 phi3_openvino\n",
      "-rw-r--r-- 1 root root     499723 Jun 24 08:41 phi3_spp\n"
     ]
    }
   ],
   "source": [
    "! ls -l {MODEL_NAME}_spark_nlp"
   ]
  },
  {
   "cell_type": "markdown",
   "metadata": {
    "id": "3R_rS8Fj4W7N"
   },
   "source": [
    "Now let's see how we can use it on other machines, clusters, or any place you wish to use your new and shiny Llama2 model 😊"
   ]
  },
  {
   "cell_type": "code",
   "execution_count": 13,
   "metadata": {
    "colab": {
     "base_uri": "https://localhost:8080/"
    },
    "id": "EJYBjHB_1BrY",
    "outputId": "184b4ef4-7f5e-4905-e7bf-b1a60cc19659"
   },
   "outputs": [
    {
     "name": "stdout",
     "output_type": "stream",
     "text": [
      "+-----------------------------------------------------------------------------------------------------------------------------------------------------------------------------------------------------------------------------------------------------------------------------------------------------------------------------------------------+\n",
      "|result                                                                                                                                                                                                                                                                                                                                         |\n",
      "+-----------------------------------------------------------------------------------------------------------------------------------------------------------------------------------------------------------------------------------------------------------------------------------------------------------------------------------------------+\n",
      "|[<|system|> You are a helpful assistant.<|end|> <|user|> How to explain Internet for a medieval knight?<|end|> <|assistant|> Ah, imagine, my good sir, the Internet as a grand library, a vast marketplace, and a faithful messenger, all held within the confines of a stronghold called the \"Net.\" This Net reaches across the kingdom, seas]|\n",
      "+-----------------------------------------------------------------------------------------------------------------------------------------------------------------------------------------------------------------------------------------------------------------------------------------------------------------------------------------------+\n",
      "\n"
     ]
    }
   ],
   "source": [
    "from sparknlp.base import DocumentAssembler\n",
    "from sparknlp.annotator import Phi3Transformer\n",
    "from pyspark.ml import Pipeline\n",
    "\n",
    "document_assembler = DocumentAssembler() \\\n",
    "    .setInputCol(\"text\") \\\n",
    "    .setOutputCol(\"documents\")\n",
    "\n",
    "phi3 = Phi3Transformer.load(f\"{MODEL_NAME}_spark_nlp\") \\\n",
    "    .setMaxOutputLength(50) \\\n",
    "    .setInputCols([\"documents\"]) \\\n",
    "    .setOutputCol(\"generation\")\n",
    "\n",
    "pipeline = Pipeline().setStages([\n",
    "    document_assembler,\n",
    "    phi3\n",
    "])\n",
    "\n",
    "test_data = spark.createDataFrame([\n",
    "    [1, \"<|system|> You are a helpful assistant.<|end|> <|user|> How to explain Internet for a medieval knight?<|end|> <|assistant|>\"]\n",
    "], [\"id\", \"text\"])\n",
    "\n",
    "model = pipeline.fit(test_data)\n",
    "results = model.transform(test_data)\n",
    "\n",
    "results.select(\"generation.result\").show(truncate=False)"
   ]
  },
  {
   "cell_type": "markdown",
   "metadata": {
    "id": "PdvQAAfo4W7N"
   },
   "source": [
    "That's it! You can now go wild and use hundreds of Phi3 models from HuggingFace 🤗 in Spark NLP 🚀\n"
   ]
  },
  {
   "cell_type": "markdown",
   "metadata": {
    "id": "2FQ8tdPWhwpj"
   },
   "source": []
  }
 ],
 "metadata": {
  "colab": {
   "provenance": []
  },
  "kernelspec": {
   "display_name": "Python 3",
   "name": "python3"
  },
  "language_info": {
   "codemirror_mode": {
    "name": "ipython",
    "version": 3
   },
   "file_extension": ".py",
   "mimetype": "text/x-python",
   "name": "python",
   "nbconvert_exporter": "python",
   "pygments_lexer": "ipython3",
   "version": "3.8.16"
  }
 },
 "nbformat": 4,
 "nbformat_minor": 0
}
