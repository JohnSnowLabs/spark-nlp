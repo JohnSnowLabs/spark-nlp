{
 "cells": [
  {
   "cell_type": "markdown",
   "metadata": {
    "id": "_V5XcDCnVgSi"
   },
   "source": [
    "![JohnSnowLabs](https://sparknlp.org/assets/images/logo.png)\n",
    "\n",
    "[![Open In Colab](https://colab.research.google.com/assets/colab-badge.svg)](https://colab.research.google.com/github/JohnSnowLabs/spark-nlp/blob/master/examples/python/transformers/openvino/HuggingFace_OpenVINO_in_Spark_NLP_DistilBertForZeroShotClassification.ipynb)\n",
    "\n",
    "# Import OpenVINO DistilBertForZeroShotClassification models from HuggingFace 🤗 into Spark NLP 🚀\n",
    "\n",
    "This notebook provides a detailed walkthrough on optimizing and exporting DistilBertForZeroShotClassification models from HuggingFace for use in Spark NLP, leveraging the various tools provided in the [Intel OpenVINO toolkit](https://www.intel.com/content/www/us/en/developer/tools/openvino-toolkit/overview.html) ecosystem.\n",
    "\n",
    "Let's keep in mind a few things before we start 😊\n",
    "\n",
    "- OpenVINO support was introduced in  `Spark NLP 5.4.0`, enabling high performance inference for models. Please make sure you have upgraded to the latest Spark NLP release.\n",
    "- You can import models for DistilBertForZeroShotClassification from DistilBertForZeroShotClassification   and they have to be in `Zero Shot Classification\n",
    "` category."
   ]
  },
  {
   "cell_type": "markdown",
   "metadata": {
    "id": "aghasVppVgSk"
   },
   "source": [
    "## 1. Export and Save the HuggingFace model"
   ]
  },
  {
   "cell_type": "markdown",
   "metadata": {
    "id": "be4HsTDMVgSk"
   },
   "source": [
    "- Let's install `transformers` and `openvino` packages with other dependencies. You don't need `openvino` to be installed for Spark NLP, however, we need it to load and save models from HuggingFace.\n",
    "- We lock `transformers` on version `4.48.3`. This doesn't mean it won't work with the future releases, but we wanted you to know which versions have been tested successfully."
   ]
  },
  {
   "cell_type": "code",
   "execution_count": null,
   "metadata": {
    "colab": {
     "base_uri": "https://localhost:8080/"
    },
    "id": "65c6Yt1OygaM",
    "outputId": "de6529c1-5aab-4df7-a836-cd12f8c542ad"
   },
   "outputs": [],
   "source": [
    "!pip install -q --upgrade transformers==4.48.3 optimum[openvino]"
   ]
  },
  {
   "cell_type": "markdown",
   "metadata": {
    "id": "vI7uz_6hVgSl"
   },
   "source": [
    "[Optimum Intel](https://github.com/huggingface/optimum-intel?tab=readme-ov-file#openvino) is the interface between the Transformers library and the various model optimization and acceleration tools provided by Intel. HuggingFace models loaded with optimum-intel are automatically optimized for OpenVINO, while being compatible with the Transformers API.\n",
    "- To load a HuggingFace model directly for inference/export, just replace the `AutoModelForXxx` class with the corresponding `OVModelForXxx` class. We can use this to import and export OpenVINO models with `from_pretrained` and `save_pretrained`.\n",
    "- By setting `export=True`, the source model is converted to OpenVINO IR format on the fly.\n",
    "- We'll use [typeform/distilbert-base-uncased-mnli](https://huggingface.co/typeform/distilbert-base-uncased-mnli) model from HuggingFace as an example and load it as a `OVModelForSequenceClassification`, representing an OpenVINO model.\n",
    "- In addition to the OVModelForSequenceClassification model, we also need to save the `AutoTokenizer`. This is the same for every model, these are assets (saved in `/assets`) needed for tokenization inside Spark NLP."
   ]
  },
  {
   "cell_type": "code",
   "execution_count": 2,
   "metadata": {
    "colab": {
     "base_uri": "https://localhost:8080/",
     "height": 700,
     "referenced_widgets": [
      "31329d8c9bb149ce831c6124f6eec30c",
      "8a0bc7cc0f554cf9998ed5bab1fc0b50",
      "7f7199e4e571420dbfdc65141a3c5ead",
      "249ebd1ebe904df0937cdb670656fe51",
      "3cec38ed4e9a4cffb0d8139c2efee97d",
      "a9362ed6c5d144e4a896fe5bffecfe1b",
      "896609cd934d4dc4b8802ace1a57edba",
      "0068ca38561442358e093746cd3e1572",
      "bac2542508324d38bb98e539b7534ad6",
      "50d1705f638e4eba831947ab209b2eb1",
      "2aa74ef79fe04b3bb5e40dd08f9f4f94",
      "675e162079774450bc9b11a8b9d72190",
      "88be72302931429fb7c2bf267ad420e8",
      "017176666fa5482bbb9f375264c454a7",
      "42d798d247974eaaa3ee8694a285e260",
      "4c30be12288841e1a6e6218d1127d556",
      "ff5c563dac3f4a00b09099a11777f790",
      "c3531e533181485d82ee69e8eb46c5c5",
      "2f882dfb98594247a22b505bfe66492a",
      "7a31b9184a784aafadcdaa96739c183b",
      "5dee5cc98dc9484aa8c8650f4cc6a234",
      "adccf161771b4e52afb6d0c58c8ce125",
      "f5cfc901e862452693dedfa6d78c1929",
      "50d5d94cf076450eaf6488e972d0cff1",
      "8ff4467e2a2245c5b49110bc4e69fe4f",
      "0d8c41e65d3a42ab8dd68f2d2885b873",
      "e440014c90c44b3794ec749a6f484554",
      "06c9ce08267a435c9d9c111f6360db7f",
      "439c7591e1f14297a3ff2573a3b73d85",
      "3fa315f0fad0471cbcabffb118e9da48",
      "07dda20b602940dd82d13db3110b6c71",
      "7f4169353ebb48ff9a8b4986cb86bae9",
      "227efe3fea104a429f53ec8bd72d2094",
      "5a80293073d647848212deac622dfbf7",
      "53544293cf9c4064b40ed8f8c18ed686",
      "fdc28c67ac034953a1659b906eb19781",
      "8a5a3881d09a426dbe4caf3964307613",
      "3a36e5986b6b4b3485b4b65fc9843dba",
      "5240c6eaf1b245bf920501a09ca5c32f",
      "aacf8427463f4eaea79a516001560463",
      "ca22e8785f8449bfa3c14f40df59929e",
      "8b42f73e3f61443097be5c69d9793e90",
      "91172a62357a421bb2f4401ee578e3af",
      "766a524969f74b0f8864cc3a0ef988f9",
      "514c406938724220b86af870789bec10",
      "16b5c4c644cf4271affd39460d34472b",
      "6057414470674b5287fccaea8469d7c7",
      "735336e6f101425eafbe8bfc7d4056c8",
      "831c56f87d4e46a7a08500215358f224",
      "3b6b19ac91a14e77a4af5f24576d1844",
      "6c24072322bf4f6da39a18f4f3eed9b6",
      "5824b2721f144cf9a51af962b9160cbd",
      "a50b65e0767e429985ccfe862f278496",
      "25ab43712c8d420080594cfada06b4dc",
      "c7fe0d8cba5246fda6754b687481c94d"
     ]
    },
    "id": "hIiOTHu9cVww",
    "outputId": "b14f8a50-a6a1-4c1f-a829-66646afc41f7"
   },
   "outputs": [
    {
     "name": "stderr",
     "output_type": "stream",
     "text": [
      "No CUDA runtime is found, using CUDA_HOME='/usr/local/cuda'\n",
      "/usr/local/lib/python3.11/dist-packages/huggingface_hub/utils/_auth.py:94: UserWarning: \n",
      "The secret `HF_TOKEN` does not exist in your Colab secrets.\n",
      "To authenticate with the Hugging Face Hub, create a token in your settings tab (https://huggingface.co/settings/tokens), set it as secret in your Google Colab and restart your session.\n",
      "You will be able to reuse this secret in all of your notebooks.\n",
      "Please note that authentication is recommended but still optional to access public models or datasets.\n",
      "  warnings.warn(\n"
     ]
    },
    {
     "data": {
      "application/vnd.jupyter.widget-view+json": {
       "model_id": "31329d8c9bb149ce831c6124f6eec30c",
       "version_major": 2,
       "version_minor": 0
      },
      "text/plain": [
       "config.json:   0%|          | 0.00/776 [00:00<?, ?B/s]"
      ]
     },
     "metadata": {},
     "output_type": "display_data"
    },
    {
     "name": "stderr",
     "output_type": "stream",
     "text": [
      "The `xla_device` argument has been deprecated in v4.4.0 of Transformers. It is ignored and you can safely remove it from your `config.json` file.\n",
      "The `xla_device` argument has been deprecated in v4.4.0 of Transformers. It is ignored and you can safely remove it from your `config.json` file.\n",
      "The `xla_device` argument has been deprecated in v4.4.0 of Transformers. It is ignored and you can safely remove it from your `config.json` file.\n",
      "The `xla_device` argument has been deprecated in v4.4.0 of Transformers. It is ignored and you can safely remove it from your `config.json` file.\n",
      "The `xla_device` argument has been deprecated in v4.4.0 of Transformers. It is ignored and you can safely remove it from your `config.json` file.\n",
      "The `xla_device` argument has been deprecated in v4.4.0 of Transformers. It is ignored and you can safely remove it from your `config.json` file.\n"
     ]
    },
    {
     "data": {
      "application/vnd.jupyter.widget-view+json": {
       "model_id": "675e162079774450bc9b11a8b9d72190",
       "version_major": 2,
       "version_minor": 0
      },
      "text/plain": [
       "model.safetensors:   0%|          | 0.00/268M [00:00<?, ?B/s]"
      ]
     },
     "metadata": {},
     "output_type": "display_data"
    },
    {
     "data": {
      "application/vnd.jupyter.widget-view+json": {
       "model_id": "f5cfc901e862452693dedfa6d78c1929",
       "version_major": 2,
       "version_minor": 0
      },
      "text/plain": [
       "tokenizer_config.json:   0%|          | 0.00/258 [00:00<?, ?B/s]"
      ]
     },
     "metadata": {},
     "output_type": "display_data"
    },
    {
     "name": "stderr",
     "output_type": "stream",
     "text": [
      "The `xla_device` argument has been deprecated in v4.4.0 of Transformers. It is ignored and you can safely remove it from your `config.json` file.\n"
     ]
    },
    {
     "data": {
      "application/vnd.jupyter.widget-view+json": {
       "model_id": "5a80293073d647848212deac622dfbf7",
       "version_major": 2,
       "version_minor": 0
      },
      "text/plain": [
       "vocab.txt:   0%|          | 0.00/232k [00:00<?, ?B/s]"
      ]
     },
     "metadata": {},
     "output_type": "display_data"
    },
    {
     "data": {
      "application/vnd.jupyter.widget-view+json": {
       "model_id": "514c406938724220b86af870789bec10",
       "version_major": 2,
       "version_minor": 0
      },
      "text/plain": [
       "special_tokens_map.json:   0%|          | 0.00/112 [00:00<?, ?B/s]"
      ]
     },
     "metadata": {},
     "output_type": "display_data"
    },
    {
     "name": "stderr",
     "output_type": "stream",
     "text": [
      "The `xla_device` argument has been deprecated in v4.4.0 of Transformers. It is ignored and you can safely remove it from your `config.json` file.\n",
      "The `xla_device` argument has been deprecated in v4.4.0 of Transformers. It is ignored and you can safely remove it from your `config.json` file.\n",
      "The `xla_device` argument has been deprecated in v4.4.0 of Transformers. It is ignored and you can safely remove it from your `config.json` file.\n",
      "The `xla_device` argument has been deprecated in v4.4.0 of Transformers. It is ignored and you can safely remove it from your `config.json` file.\n",
      "The `xla_device` argument has been deprecated in v4.4.0 of Transformers. It is ignored and you can safely remove it from your `config.json` file.\n",
      "The `xla_device` argument has been deprecated in v4.4.0 of Transformers. It is ignored and you can safely remove it from your `config.json` file.\n",
      "`loss_type=None` was set in the config but it is unrecognised.Using the default loss: `ForCausalLMLoss`.\n",
      "The `xla_device` argument has been deprecated in v4.4.0 of Transformers. It is ignored and you can safely remove it from your `config.json` file.\n",
      "The `xla_device` argument has been deprecated in v4.4.0 of Transformers. It is ignored and you can safely remove it from your `config.json` file.\n",
      "The `xla_device` argument has been deprecated in v4.4.0 of Transformers. It is ignored and you can safely remove it from your `config.json` file.\n"
     ]
    },
    {
     "data": {
      "text/plain": [
       "('ov_models/typeform/distilbert-base-uncased-mnli/tokenizer_config.json',\n",
       " 'ov_models/typeform/distilbert-base-uncased-mnli/special_tokens_map.json',\n",
       " 'ov_models/typeform/distilbert-base-uncased-mnli/vocab.txt',\n",
       " 'ov_models/typeform/distilbert-base-uncased-mnli/added_tokens.json',\n",
       " 'ov_models/typeform/distilbert-base-uncased-mnli/tokenizer.json')"
      ]
     },
     "execution_count": 2,
     "metadata": {},
     "output_type": "execute_result"
    }
   ],
   "source": [
    "from optimum.intel import OVModelForSequenceClassification\n",
    "from transformers import AutoTokenizer\n",
    "\n",
    "MODEL_NAME = \"typeform/distilbert-base-uncased-mnli\"\n",
    "EXPORT_PATH = f\"ov_models/{MODEL_NAME}\"\n",
    "\n",
    "ov_model = OVModelForSequenceClassification.from_pretrained(MODEL_NAME, export=True)\n",
    "tokenizer = AutoTokenizer.from_pretrained(MODEL_NAME)\n",
    "\n",
    "ov_model.save_pretrained(EXPORT_PATH)\n",
    "tokenizer.save_pretrained(EXPORT_PATH)"
   ]
  },
  {
   "cell_type": "markdown",
   "metadata": {
    "id": "ddDJVgFecp6F"
   },
   "source": [
    "Let's have a look inside these two directories and see what we are dealing with:"
   ]
  },
  {
   "cell_type": "code",
   "execution_count": 3,
   "metadata": {
    "colab": {
     "base_uri": "https://localhost:8080/"
    },
    "id": "-d4lLDxZcrpx",
    "outputId": "5e83dfdc-c5c4-43c7-811f-0c2c57e25466"
   },
   "outputs": [
    {
     "name": "stdout",
     "output_type": "stream",
     "text": [
      "total 262688\n",
      "-rw-r--r-- 1 root root       753 Jun 21 21:47 config.json\n",
      "-rw-r--r-- 1 root root 267827340 Jun 21 21:47 openvino_model.bin\n",
      "-rw-r--r-- 1 root root    197981 Jun 21 21:47 openvino_model.xml\n",
      "-rw-r--r-- 1 root root       125 Jun 21 21:47 special_tokens_map.json\n",
      "-rw-r--r-- 1 root root      1278 Jun 21 21:47 tokenizer_config.json\n",
      "-rw-r--r-- 1 root root    711396 Jun 21 21:47 tokenizer.json\n",
      "-rw-r--r-- 1 root root    231508 Jun 21 21:47 vocab.txt\n"
     ]
    }
   ],
   "source": [
    "!ls -l {EXPORT_PATH}"
   ]
  },
  {
   "cell_type": "markdown",
   "metadata": {
    "id": "2bTlu4X8cr7U"
   },
   "source": [
    "- As you can see, we need to move `vocabs.txt` from the tokenizer to assets folder which Spark NLP will look for\n",
    "- We also need `labels` and their `ids` which is saved inside the model's config. We will save this inside `labels.txt`"
   ]
  },
  {
   "cell_type": "code",
   "execution_count": null,
   "metadata": {
    "id": "iCXDOGomcvtS"
   },
   "outputs": [],
   "source": [
    "!mkdir {EXPORT_PATH}/assets\n",
    "\n",
    "labels = ov_model.config.label2id\n",
    "labels = sorted(labels, key=labels.get)\n",
    "\n",
    "with open(EXPORT_PATH + '/assets/labels.txt', 'w') as f:\n",
    "    f.write('\\n'.join(labels))\n",
    "\n",
    "!mv {EXPORT_PATH}/vocab.txt {EXPORT_PATH}/assets"
   ]
  },
  {
   "cell_type": "code",
   "execution_count": 6,
   "metadata": {
    "colab": {
     "base_uri": "https://localhost:8080/"
    },
    "id": "yIb6Z5CPcy3V",
    "outputId": "e2877eb9-6003-4c9a-df9e-0464dc0ff2b8"
   },
   "outputs": [
    {
     "name": "stdout",
     "output_type": "stream",
     "text": [
      "ov_models/typeform/distilbert-base-uncased-mnli:\n",
      "total 262464\n",
      "drwxr-xr-x 2 root root      4096 Jun 21 21:47 assets\n",
      "-rw-r--r-- 1 root root       753 Jun 21 21:47 config.json\n",
      "-rw-r--r-- 1 root root 267827340 Jun 21 21:47 openvino_model.bin\n",
      "-rw-r--r-- 1 root root    197981 Jun 21 21:47 openvino_model.xml\n",
      "-rw-r--r-- 1 root root       125 Jun 21 21:47 special_tokens_map.json\n",
      "-rw-r--r-- 1 root root      1278 Jun 21 21:47 tokenizer_config.json\n",
      "-rw-r--r-- 1 root root    711396 Jun 21 21:47 tokenizer.json\n",
      "\n",
      "ov_models/typeform/distilbert-base-uncased-mnli/assets:\n",
      "total 232\n",
      "-rw-r--r-- 1 root root     32 Jun 21 21:47 labels.txt\n",
      "-rw-r--r-- 1 root root 231508 Jun 21 21:47 vocab.txt\n"
     ]
    }
   ],
   "source": [
    "!ls -lR {EXPORT_PATH}"
   ]
  },
  {
   "cell_type": "code",
   "execution_count": 7,
   "metadata": {
    "colab": {
     "base_uri": "https://localhost:8080/"
    },
    "id": "Vi4-BruEc1Rx",
    "outputId": "dab484a6-2f7d-42d8-88e8-c213e9830a09"
   },
   "outputs": [
    {
     "name": "stdout",
     "output_type": "stream",
     "text": [
      "ENTAILMENT\n",
      "NEUTRAL\n",
      "CONTRADICTION"
     ]
    }
   ],
   "source": [
    "!cat {EXPORT_PATH}/assets/labels.txt"
   ]
  },
  {
   "cell_type": "markdown",
   "metadata": {
    "id": "_ELF1YZVc3aC"
   },
   "source": [
    "Voila! We have our `vocab.txt` and `labels.txt` inside assets directory"
   ]
  },
  {
   "cell_type": "markdown",
   "metadata": {
    "id": "e4DzCZrLmFZ_"
   },
   "source": [
    "## Import and Save DistilBertForZeroShotClassification in Spark NLP\n"
   ]
  },
  {
   "cell_type": "markdown",
   "metadata": {
    "id": "lxSm3P50mFZ_"
   },
   "source": [
    "- Install and set up Spark NLP in Google Colab\n",
    "- This example uses specific versions of `pyspark` and `spark-nlp` that have been tested with the transformer model to ensure everything runs smoothly."
   ]
  },
  {
   "cell_type": "code",
   "execution_count": 8,
   "metadata": {
    "colab": {
     "base_uri": "https://localhost:8080/"
    },
    "id": "dgLcdmtamFZ_",
    "outputId": "20fb2039-44b2-4e75-b80b-72a999505315"
   },
   "outputs": [
    {
     "name": "stdout",
     "output_type": "stream",
     "text": [
      "\u001b[2K     \u001b[90m━━━━━━━━━━━━━━━━━━━━━━━━━━━━━━━━━━━━━━━\u001b[0m \u001b[32m317.3/317.3 MB\u001b[0m \u001b[31m4.6 MB/s\u001b[0m eta \u001b[36m0:00:00\u001b[0m\n",
      "\u001b[?25h  Preparing metadata (setup.py) ... \u001b[?25l\u001b[?25hdone\n",
      "\u001b[2K   \u001b[90m━━━━━━━━━━━━━━━━━━━━━━━━━━━━━━━━━━━━━━━━\u001b[0m \u001b[32m635.7/635.7 kB\u001b[0m \u001b[31m29.7 MB/s\u001b[0m eta \u001b[36m0:00:00\u001b[0m\n",
      "\u001b[?25h  Building wheel for pyspark (setup.py) ... \u001b[?25l\u001b[?25hdone\n"
     ]
    }
   ],
   "source": [
    "!pip install -q pyspark==3.5.4 spark-nlp==5.5.3"
   ]
  },
  {
   "cell_type": "markdown",
   "metadata": {
    "id": "MjHnTWAdmFaA"
   },
   "source": [
    "Let's start Spark with Spark NLP included via our simple `start()` function"
   ]
  },
  {
   "cell_type": "code",
   "execution_count": 9,
   "metadata": {
    "colab": {
     "base_uri": "https://localhost:8080/"
    },
    "id": "si6Cnaf6mFaA",
    "outputId": "36d0285a-4319-409f-ba93-0364f933dcfc"
   },
   "outputs": [
    {
     "name": "stdout",
     "output_type": "stream",
     "text": [
      "Spark NLP version:  5.5.3\n",
      "Apache Spark version:  3.5.4\n"
     ]
    }
   ],
   "source": [
    "import sparknlp\n",
    "\n",
    "spark = sparknlp.start()\n",
    "\n",
    "print(\"Spark NLP version: \", sparknlp.version())\n",
    "print(\"Apache Spark version: \", spark.version)"
   ]
  },
  {
   "cell_type": "markdown",
   "metadata": {
    "id": "cIH_GPSDmFaA"
   },
   "source": [
    "- Let's use `loadSavedModel` functon in `DistilBertForZeroShotClassification` which allows us to load TensorFlow model in SavedModel format\n",
    "- Most params can be set later when you are loading this model in `DistilBertForZeroShotClassification` in runtime like `setMaxSentenceLength`, so don't worry what you are setting them now\n",
    "- `loadSavedModel` accepts two params, first is the path to the TF SavedModel. The second is the SparkSession that is `spark` variable we previously started via `sparknlp.start()`\n",
    "- NOTE: `loadSavedModel` accepts local paths in addition to distributed file systems such as `HDFS`, `S3`, `DBFS`, etc. This feature was introduced in Spark NLP 4.2.2 release. Keep in mind the best and recommended way to move/share/reuse Spark NLP models is to use `write.save` so you can use `.load()` from any file systems natively.\n"
   ]
  },
  {
   "cell_type": "code",
   "execution_count": 10,
   "metadata": {
    "id": "iFsDyX5KmFaA"
   },
   "outputs": [],
   "source": [
    "from sparknlp.annotator import DistilBertForZeroShotClassification\n",
    "\n",
    "zero_shot_classifier = DistilBertForZeroShotClassification.loadSavedModel(\n",
    "    EXPORT_PATH,\n",
    "    spark\n",
    "    )\\\n",
    "    .setInputCols([\"document\", \"token\"]) \\\n",
    "    .setOutputCol(\"class\") \\\n",
    "    .setCandidateLabels([\"urgent\", \"mobile\", \"travel\", \"movie\", \"music\", \"sport\", \"weather\", \"technology\"])"
   ]
  },
  {
   "cell_type": "markdown",
   "metadata": {
    "id": "PO2ReE57mFaA"
   },
   "source": [
    "- Let's save it on disk so it is easier to be moved around and also be used later via `.load` function"
   ]
  },
  {
   "cell_type": "code",
   "execution_count": 11,
   "metadata": {
    "id": "ejxfdT40mFaA"
   },
   "outputs": [],
   "source": [
    "zero_shot_classifier.write().overwrite().save(\"./{}_spark_nlp_openvino\".format(MODEL_NAME))"
   ]
  },
  {
   "cell_type": "markdown",
   "metadata": {
    "id": "bVdUG0zWmFaA"
   },
   "source": [
    "Let's clean up stuff we don't need anymore"
   ]
  },
  {
   "cell_type": "code",
   "execution_count": 12,
   "metadata": {
    "id": "nhbmRiELmFaA"
   },
   "outputs": [],
   "source": [
    "!rm -rf {EXPORT_PATH}"
   ]
  },
  {
   "cell_type": "markdown",
   "metadata": {
    "id": "rzZ_sbxEmFaA"
   },
   "source": [
    "Awesome 😎  !\n",
    "\n",
    "This is your DistilBertForZeroShotClassification model from HuggingFace 🤗  loaded and saved by Spark NLP 🚀"
   ]
  },
  {
   "cell_type": "code",
   "execution_count": 13,
   "metadata": {
    "colab": {
     "base_uri": "https://localhost:8080/"
    },
    "id": "ljXzasiYmFaA",
    "outputId": "caa11965-49d4-42f5-844d-a2421778346b"
   },
   "outputs": [
    {
     "name": "stdout",
     "output_type": "stream",
     "text": [
      "total 261792\n",
      "-rw-r--r-- 1 root root 268066504 Jun 21 21:50 distilbert_classification_openvino\n",
      "drwxr-xr-x 4 root root      4096 Jun 21 21:50 fields\n",
      "drwxr-xr-x 2 root root      4096 Jun 21 21:50 metadata\n"
     ]
    }
   ],
   "source": [
    "! ls -l {MODEL_NAME}_spark_nlp_openvino"
   ]
  },
  {
   "cell_type": "markdown",
   "metadata": {
    "id": "ogk0HISwmFaA"
   },
   "source": [
    "Now let's see how we can use it on other machines, clusters, or any place you wish to use your new and shiny DistilBertForZeroShotClassification model 😊"
   ]
  },
  {
   "cell_type": "code",
   "execution_count": 14,
   "metadata": {
    "id": "DVB6NRXYmFaA"
   },
   "outputs": [],
   "source": [
    "zero_shot_classifier_loaded = DistilBertForZeroShotClassification.load(\"./{}_spark_nlp_openvino\".format(MODEL_NAME))\\\n",
    "  .setInputCols([\"document\",'token'])\\\n",
    "  .setOutputCol(\"class\")"
   ]
  },
  {
   "cell_type": "markdown",
   "metadata": {
    "id": "DzI7nbxCmFaB"
   },
   "source": [
    "You can see what labels were used to train this model via `getClasses` function:"
   ]
  },
  {
   "cell_type": "code",
   "execution_count": 15,
   "metadata": {
    "colab": {
     "base_uri": "https://localhost:8080/"
    },
    "id": "LhHwZePMmFaB",
    "outputId": "32f08d0b-1d43-4ed2-a02e-3723f99a44ae"
   },
   "outputs": [
    {
     "data": {
      "text/plain": [
       "['NEUTRAL', 'CONTRADICTION', 'ENTAILMENT']"
      ]
     },
     "execution_count": 15,
     "metadata": {},
     "output_type": "execute_result"
    }
   ],
   "source": [
    "zero_shot_classifier_loaded.getClasses()"
   ]
  },
  {
   "cell_type": "markdown",
   "metadata": {
    "id": "WmD8DiE_mFaB"
   },
   "source": [
    "This is how you can use your loaded classifier model in Spark NLP 🚀 pipeline:"
   ]
  },
  {
   "cell_type": "code",
   "execution_count": 17,
   "metadata": {
    "colab": {
     "base_uri": "https://localhost:8080/"
    },
    "id": "3MrCLgeD2dPn",
    "outputId": "bca84851-49bf-4b03-b4c3-fb9be53f5349"
   },
   "outputs": [
    {
     "name": "stdout",
     "output_type": "stream",
     "text": [
      "+--------------------------------------------------------------------+------------+\n",
      "|text                                                                |result      |\n",
      "+--------------------------------------------------------------------+------------+\n",
      "|I need help resetting my password as soon as possible.              |[sport]     |\n",
      "|The latest update completely broke the app on my Android device.    |[mobile]    |\n",
      "|I'm extremely satisfied with your customer service. Thank you!      |[technology]|\n",
      "|Planning a trip to Italy next summer, any recommendations?          |[travel]    |\n",
      "|Just watched a documentary about climate change. It was eye-opening.|[weather]   |\n",
      "|Are there any discounts available on your premium subscription?     |[weather]   |\n",
      "|The delivery of my order is delayed, and I would like to know why.  |[weather]   |\n",
      "|Looking forward to the concert next weekend!                        |[music]     |\n",
      "|My laptop keeps overheating after the recent software patch.        |[technology]|\n",
      "|What's the best way to learn Python for data science?               |[technology]|\n",
      "+--------------------------------------------------------------------+------------+\n",
      "\n"
     ]
    }
   ],
   "source": [
    "from sparknlp.base import DocumentAssembler\n",
    "from sparknlp.annotator import Tokenizer\n",
    "from pyspark.ml import Pipeline\n",
    "\n",
    "document_assembler = DocumentAssembler() \\\n",
    "    .setInputCol(\"text\") \\\n",
    "    .setOutputCol(\"document\")\n",
    "\n",
    "tokenizer = Tokenizer() \\\n",
    "    .setInputCols(\"document\") \\\n",
    "    .setOutputCol(\"token\")\n",
    "\n",
    "pipeline = Pipeline(stages=[\n",
    "    document_assembler,\n",
    "    tokenizer,\n",
    "    zero_shot_classifier_loaded\n",
    "])\n",
    "\n",
    "examples = spark.createDataFrame([\n",
    "    [\"I need help resetting my password as soon as possible.\"],\n",
    "    [\"The latest update completely broke the app on my Android device.\"],\n",
    "    [\"I'm extremely satisfied with your customer service. Thank you!\"],\n",
    "    [\"Planning a trip to Italy next summer, any recommendations?\"],\n",
    "    [\"Just watched a documentary about climate change. It was eye-opening.\"],\n",
    "    [\"Are there any discounts available on your premium subscription?\"],\n",
    "    [\"The delivery of my order is delayed, and I would like to know why.\"],\n",
    "    [\"Looking forward to the concert next weekend!\"],\n",
    "    [\"My laptop keeps overheating after the recent software patch.\"],\n",
    "    [\"What's the best way to learn Python for data science?\"]], [\"text\"])\n",
    "\n",
    "model = pipeline.fit(examples)\n",
    "result = model.transform(examples)\n",
    "\n",
    "result.select(\"text\", \"class.result\").show(truncate=False)"
   ]
  },
  {
   "cell_type": "markdown",
   "metadata": {
    "id": "BH-V-NpomFaB"
   },
   "source": [
    "That's it! You can now go wild and use hundreds of `DistilBertForZeroShotClassification` models from HuggingFace 🤗 in Spark NLP 🚀\n"
   ]
  }
 ],
 "metadata": {
  "colab": {
   "provenance": []
  },
  "kernelspec": {
   "display_name": "Python 3",
   "language": "python",
   "name": "python3"
  },
  "language_info": {
   "codemirror_mode": {
    "name": "ipython",
    "version": 3
   },
   "file_extension": ".py",
   "mimetype": "text/x-python",
   "name": "python",
   "nbconvert_exporter": "python",
   "pygments_lexer": "ipython3",
   "version": "3.10.12"
  }
 },
 "nbformat": 4,
 "nbformat_minor": 0
}
