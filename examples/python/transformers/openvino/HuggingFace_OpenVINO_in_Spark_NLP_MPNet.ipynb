{
 "cells": [
  {
   "cell_type": "markdown",
   "metadata": {
    "id": "_V5XcDCnVgSi"
   },
   "source": [
    "![JohnSnowLabs](https://sparknlp.org/assets/images/logo.png)\n",
    "\n",
    "[![Open In Colab](https://colab.research.google.com/assets/colab-badge.svg)](https://colab.research.google.com/github/JohnSnowLabs/spark-nlp/blob/master/examples/python/transformers/openvino/HuggingFace_OpenVINO_in_Spark_NLP_MPNet.ipynb)\n",
    "\n",
    "# Import OpenVINO MPNet  models from HuggingFace 🤗 into Spark NLP 🚀\n",
    "\n",
    "This notebook provides a detailed walkthrough on optimizing and exporting BGE models from HuggingFace for use in Spark NLP, leveraging the various tools provided in the [Intel OpenVINO toolkit](https://www.intel.com/content/www/us/en/developer/tools/openvino-toolkit/overview.html) ecosystem.\n",
    "\n",
    "Let's keep in mind a few things before we start 😊\n",
    "\n",
    "- OpenVINO support was introduced in  `Spark NLP 5.4.0`, enabling high performance inference for models. Please make sure you have upgraded to the latest Spark NLP release.\n",
    "- You can import models for MPNet  from MPNet  and they have to be in `Fill Mask` category."
   ]
  },
  {
   "cell_type": "markdown",
   "metadata": {
    "id": "aghasVppVgSk"
   },
   "source": [
    "## 1. Export and Save the HuggingFace model"
   ]
  },
  {
   "cell_type": "markdown",
   "metadata": {
    "id": "be4HsTDMVgSk"
   },
   "source": [
    "- Let's install `transformers` and `openvino` packages with other dependencies. You don't need `openvino` to be installed for Spark NLP, however, we need it to load and save models from HuggingFace.\n",
    "- We lock `transformers` on version `4.48.3`. This doesn't mean it won't work with the future releases, but we wanted you to know which versions have been tested successfully."
   ]
  },
  {
   "cell_type": "code",
   "execution_count": null,
   "metadata": {
    "colab": {
     "base_uri": "https://localhost:8080/"
    },
    "id": "-7L-2ZWUVgSl",
    "outputId": "51948c61-034a-46c2-8ab0-b3888d98b98e"
   },
   "outputs": [],
   "source": [
    "!pip install -q --upgrade transformers==4.48.3 optimum[openvino]"
   ]
  },
  {
   "cell_type": "markdown",
   "metadata": {
    "id": "vI7uz_6hVgSl"
   },
   "source": [
    "[Optimum Intel](https://github.com/huggingface/optimum-intel?tab=readme-ov-file#openvino) is the interface between the Transformers library and the various model optimization and acceleration tools provided by Intel. HuggingFace models loaded with optimum-intel are automatically optimized for OpenVINO, while being compatible with the Transformers API.\n",
    "- To load a HuggingFace model directly for inference/export, just replace the `AutoModelForXxx` class with the corresponding `OVModelForXxx` class. We can use this to import and export OpenVINO models with `from_pretrained` and `save_pretrained`.\n",
    "- By setting `export=True`, the source model is converted to OpenVINO IR format on the fly.\n",
    "- We'll use [sentence-transformers/all-mpnet-base-v2](https://huggingface.co/sentence-transformers/all-mpnet-base-v2) model from HuggingFace as an example and load it as a `OVModelForFeatureExtraction`, representing an OpenVINO model.\n",
    "- In addition to the OVModelForFeatureExtraction model, we also need to save the `AutoTokenizer`. This is the same for every model, these are assets (saved in `/assets`) needed for tokenization inside Spark NLP."
   ]
  },
  {
   "cell_type": "code",
   "execution_count": 2,
   "metadata": {
    "colab": {
     "base_uri": "https://localhost:8080/",
     "height": 435,
     "referenced_widgets": [
      "e7f7f4e6bfe243d99fcf80dfdaee8480",
      "624ab153604141568b0bef2f96884f2a",
      "47d9ab016cf3471587ea2d0d8a74e305",
      "29a10464e16348268e953cc7f94a59eb",
      "710f9c1685c34379886aa7d7a46357e5",
      "6b10abb1a4684f70a3b3a35d6b00b752",
      "39ec79f788bc45278d51be5efec98ee5",
      "92f110fec8c147a9877132cc5dc5b72a",
      "fca6a0eb03244c1dab9864d4cda49e88",
      "d30eed9ba8d1406abfd8450911539603",
      "2373513b5cf247c0afbe90b2626d3c55",
      "376f1edf5558496696f6a75fcfc45156",
      "0f31deb265ab46238a92bd9f15d9f747",
      "be542891daac484382d5df97cbfa4e34",
      "be086e5fc6c645deab2e6b89298ba744",
      "5be0b9906ef044738e28ea5cdbcd17f9",
      "e2daf06b00b043d2b0390b15a8b00f2a",
      "4245e7133300440e982f20f84fc65e8a",
      "b498242ab4f745db9ef713dbca3bbf19",
      "88682ee4c3534da9a58810cebaa0bc79",
      "52ba6db4c08547c2bd6bde8844134727",
      "0aa9628332e141d686b06745d10eed0e",
      "7c8f7f5b48994dc3915c4f86363b74b1",
      "19d5863f240f49c6b0f09e3e2cd5d22b",
      "8822b58fdeca422385992e238feec73d",
      "ec4493f7a55c4e929ba43b469e704dc4",
      "c2306228c5754b4890061293a1d54d3d",
      "84f8db10a82b428581b9b80e50b0dc3f",
      "31123f6dddfd44ef9689321cb0d2030f",
      "81e3492c35cc476ea328c8ead8f8ab65",
      "19f3168bc40c4c20bdc204ebc5fde4d7",
      "9368ab10cca644b7958c00b74a2913ae",
      "322f309d3df8475cbfbb408d8414d665",
      "7eb4c7ba621847a7b701ad67d87e76d0",
      "a4c65d3dfaf44f478a6d3b95b13339b8",
      "872756a249b54e519957b5dafbde5e05",
      "53b8924690b0469698204a72e7e1d670",
      "3929c6b2f6ad40c195547dd24841bc13",
      "039847fa002c49d4bdd9ad5fbdeabb9a",
      "9f1d70ddfc5744d3b59446667a790e28",
      "4c67aaf2555a4330b9e18b551215b8d5",
      "ce8df5cf48484b11873b2c532b83ac3a",
      "36c4ed4811c74a76bd732f425ccbf977",
      "8bb5da41ab4d4f9694b94e5b6331dcc0",
      "1da5ce4900c7432c854764ae6e2ac446",
      "a8fee52fee7c49c4b91d27de200f4770",
      "d2cc8e0c731a42dbb8ed6a28bf773d79",
      "19b976052c8b4634a1ae870571b45e4b",
      "c174305385d043a69d4331de14c346c0",
      "b941f629fbb046e9932db35cbaeac969",
      "ff95539457f24f92a39c943f7f204dc7",
      "f7bcb9217d5e4b5a9a31372276bfb537",
      "0cb829339c6f48738b72941173dfc7b5",
      "ac5cc78db31a4c6a82f5aeffbe662604",
      "ca0ee6dd496a481aaf47423bc9ee1816",
      "c5980308bce9489ea9958d9a346033ce",
      "49ceb8431fda4d34a0421bbf6d437fee",
      "506e69b59daf4728800b230a9c359cc7",
      "afe48ac82786404f973a46c9da7c885a",
      "8ae966cd96d94db9b34395cfd73e4f49",
      "7260ceca4ed044ce9dc51075004079c1",
      "a2a5e73debe84f45a5e54d030b46d759",
      "c0f5d7c05f6f4975acaa59ce3061e9ed",
      "0d9e9701c6a845b7a62ee35b02c8e88f",
      "faca2dbab33a4ee9a45c96beb7504f95",
      "00913c3d0e4b4875b53200b040681948"
     ]
    },
    "id": "qF5Pp3DuVgSm",
    "outputId": "4f08ced9-f7e4-4fd3-b8d2-b77cb56a5dcc"
   },
   "outputs": [
    {
     "name": "stderr",
     "output_type": "stream",
     "text": [
      "No CUDA runtime is found, using CUDA_HOME='/usr/local/cuda'\n",
      "/usr/local/lib/python3.11/dist-packages/huggingface_hub/utils/_auth.py:94: UserWarning: \n",
      "The secret `HF_TOKEN` does not exist in your Colab secrets.\n",
      "To authenticate with the Hugging Face Hub, create a token in your settings tab (https://huggingface.co/settings/tokens), set it as secret in your Google Colab and restart your session.\n",
      "You will be able to reuse this secret in all of your notebooks.\n",
      "Please note that authentication is recommended but still optional to access public models or datasets.\n",
      "  warnings.warn(\n"
     ]
    },
    {
     "data": {
      "application/vnd.jupyter.widget-view+json": {
       "model_id": "e7f7f4e6bfe243d99fcf80dfdaee8480",
       "version_major": 2,
       "version_minor": 0
      },
      "text/plain": [
       "config.json:   0%|          | 0.00/571 [00:00<?, ?B/s]"
      ]
     },
     "metadata": {},
     "output_type": "display_data"
    },
    {
     "data": {
      "application/vnd.jupyter.widget-view+json": {
       "model_id": "376f1edf5558496696f6a75fcfc45156",
       "version_major": 2,
       "version_minor": 0
      },
      "text/plain": [
       "model.safetensors:   0%|          | 0.00/438M [00:00<?, ?B/s]"
      ]
     },
     "metadata": {},
     "output_type": "display_data"
    },
    {
     "data": {
      "application/vnd.jupyter.widget-view+json": {
       "model_id": "7c8f7f5b48994dc3915c4f86363b74b1",
       "version_major": 2,
       "version_minor": 0
      },
      "text/plain": [
       "tokenizer_config.json:   0%|          | 0.00/363 [00:00<?, ?B/s]"
      ]
     },
     "metadata": {},
     "output_type": "display_data"
    },
    {
     "data": {
      "application/vnd.jupyter.widget-view+json": {
       "model_id": "7eb4c7ba621847a7b701ad67d87e76d0",
       "version_major": 2,
       "version_minor": 0
      },
      "text/plain": [
       "vocab.txt:   0%|          | 0.00/232k [00:00<?, ?B/s]"
      ]
     },
     "metadata": {},
     "output_type": "display_data"
    },
    {
     "data": {
      "application/vnd.jupyter.widget-view+json": {
       "model_id": "1da5ce4900c7432c854764ae6e2ac446",
       "version_major": 2,
       "version_minor": 0
      },
      "text/plain": [
       "tokenizer.json:   0%|          | 0.00/466k [00:00<?, ?B/s]"
      ]
     },
     "metadata": {},
     "output_type": "display_data"
    },
    {
     "data": {
      "application/vnd.jupyter.widget-view+json": {
       "model_id": "c5980308bce9489ea9958d9a346033ce",
       "version_major": 2,
       "version_minor": 0
      },
      "text/plain": [
       "special_tokens_map.json:   0%|          | 0.00/239 [00:00<?, ?B/s]"
      ]
     },
     "metadata": {},
     "output_type": "display_data"
    },
    {
     "name": "stderr",
     "output_type": "stream",
     "text": [
      "`loss_type=None` was set in the config but it is unrecognised.Using the default loss: `ForCausalLMLoss`.\n"
     ]
    },
    {
     "data": {
      "text/plain": [
       "('ov_models/sentence-transformers/all-mpnet-base-v2/tokenizer_config.json',\n",
       " 'ov_models/sentence-transformers/all-mpnet-base-v2/special_tokens_map.json',\n",
       " 'ov_models/sentence-transformers/all-mpnet-base-v2/vocab.txt',\n",
       " 'ov_models/sentence-transformers/all-mpnet-base-v2/added_tokens.json',\n",
       " 'ov_models/sentence-transformers/all-mpnet-base-v2/tokenizer.json')"
      ]
     },
     "execution_count": 2,
     "metadata": {},
     "output_type": "execute_result"
    }
   ],
   "source": [
    "from optimum.intel import OVModelForFeatureExtraction\n",
    "from transformers import AutoTokenizer\n",
    "\n",
    "MODEL_NAME = \"sentence-transformers/all-mpnet-base-v2\"\n",
    "EXPORT_PATH = f\"ov_models/{MODEL_NAME}\"\n",
    "\n",
    "ov_model = OVModelForFeatureExtraction.from_pretrained(MODEL_NAME, export=True)\n",
    "tokenizer = AutoTokenizer.from_pretrained(MODEL_NAME)\n",
    "\n",
    "ov_model.save_pretrained(EXPORT_PATH)\n",
    "tokenizer.save_pretrained(EXPORT_PATH)"
   ]
  },
  {
   "cell_type": "markdown",
   "metadata": {
    "id": "6jXaZWiiVyK4"
   },
   "source": [
    "- We need to move `vocab.txt` from the tokenizer to `assets` folder which Spark NLP will look for"
   ]
  },
  {
   "cell_type": "code",
   "execution_count": 3,
   "metadata": {
    "id": "3XE2Y_LHVyK5"
   },
   "outputs": [],
   "source": [
    "!mkdir {EXPORT_PATH}/assets && mv {EXPORT_PATH}/vocab.txt {EXPORT_PATH}/assets/"
   ]
  },
  {
   "cell_type": "code",
   "execution_count": 6,
   "metadata": {
    "colab": {
     "base_uri": "https://localhost:8080/"
    },
    "id": "1h4-MMN5W6MW",
    "outputId": "00ebdd9e-ba63-4c35-9eaa-3d25a758ddf9"
   },
   "outputs": [
    {
     "name": "stdout",
     "output_type": "stream",
     "text": [
      "total 228\n",
      "-rw-r--r-- 1 root root 231536 Jun 23 01:19 vocab.txt\n"
     ]
    }
   ],
   "source": [
    "!ls -l {EXPORT_PATH}/assets"
   ]
  },
  {
   "cell_type": "markdown",
   "metadata": {
    "id": "IGi7s9RoW2Gv"
   },
   "source": [
    "- All done!"
   ]
  },
  {
   "cell_type": "markdown",
   "metadata": {
    "id": "UuFa4b1G4AJZ"
   },
   "source": [
    "## Import and Save MPNet in Spark NLP\n",
    "\n",
    "- Install and set up Spark NLP in Google Colab\n",
    "- This example uses specific versions of `pyspark` and `spark-nlp` that have been tested with the transformer model to ensure everything runs smoothly."
   ]
  },
  {
   "cell_type": "code",
   "execution_count": 7,
   "metadata": {
    "id": "ABGzONZ44AJZ"
   },
   "outputs": [],
   "source": [
    "!pip install -q pyspark==3.5.4 spark-nlp==5.5.3"
   ]
  },
  {
   "cell_type": "markdown",
   "metadata": {
    "id": "9Npql-AY4AJa"
   },
   "source": [
    "Let's start Spark with Spark NLP included via our simple `start()` function"
   ]
  },
  {
   "cell_type": "code",
   "execution_count": 8,
   "metadata": {
    "colab": {
     "base_uri": "https://localhost:8080/"
    },
    "id": "LB_QetE-4AJa",
    "outputId": "dd2c27e6-7fce-4287-f597-9c179d91b680"
   },
   "outputs": [
    {
     "name": "stdout",
     "output_type": "stream",
     "text": [
      "Spark NLP version: 5.5.3\n",
      "Apache Spark version: 3.5.4\n"
     ]
    }
   ],
   "source": [
    "import sparknlp\n",
    "\n",
    "spark = sparknlp.start()\n",
    "\n",
    "print(\"Spark NLP version: {}\".format(sparknlp.version()))\n",
    "print(\"Apache Spark version: {}\".format(spark.version))"
   ]
  },
  {
   "cell_type": "markdown",
   "metadata": {
    "id": "iWnGEsZx4AJa"
   },
   "source": [
    "- Let's use `loadSavedModel` functon in `MPNetEmbeddings` which allows us to load the ONNX model\n",
    "- Most params will be set automatically. They can also be set later after loading the model in `MPNetEmbeddings` during runtime, so don't worry about setting them now\n",
    "- `loadSavedModel` accepts two params, first is the path to the exported model. The second is the SparkSession that is `spark` variable we previously started via `sparknlp.start()`\n",
    "- NOTE: `loadSavedModel` accepts local paths in addition to distributed file systems such as `HDFS`, `S3`, `DBFS`, etc. This feature was introduced in Spark NLP 4.2.2 release. Keep in mind the best and recommended way to move/share/reuse Spark NLP models is to use `write.save` so you can use `.load()` from any file systems natively.st and recommended way to move/share/reuse Spark NLP models is to use `write.save` so you can use `.load()` from any file systems natively.\n"
   ]
  },
  {
   "cell_type": "code",
   "execution_count": 9,
   "metadata": {
    "id": "cvX3hWMW4AJa"
   },
   "outputs": [],
   "source": [
    "from sparknlp.annotator import MPNetEmbeddings\n",
    "\n",
    "MPNet = MPNetEmbeddings.loadSavedModel(f\"{EXPORT_PATH}\", spark)\\\n",
    "    .setInputCols([\"document\"])\\\n",
    "    .setOutputCol(\"MPNet\")"
   ]
  },
  {
   "cell_type": "markdown",
   "metadata": {
    "id": "RXLb769d4AJa"
   },
   "source": [
    "- Let's save it on disk so it is easier to be moved around and also be used later via `.load` function"
   ]
  },
  {
   "cell_type": "code",
   "execution_count": 10,
   "metadata": {
    "id": "0cXt3cL14AJa"
   },
   "outputs": [],
   "source": [
    "MPNet.write().overwrite().save(f\"{MODEL_NAME}_spark_nlp\")"
   ]
  },
  {
   "cell_type": "markdown",
   "metadata": {
    "id": "PK8k5RBE4AJa"
   },
   "source": [
    "Let's clean up stuff we don't need anymore"
   ]
  },
  {
   "cell_type": "code",
   "execution_count": 11,
   "metadata": {
    "id": "-Alpg1de4AJa"
   },
   "outputs": [],
   "source": [
    "!rm -rf {EXPORT_PATH}"
   ]
  },
  {
   "cell_type": "markdown",
   "metadata": {
    "id": "ojXafyyO4AJa"
   },
   "source": [
    "Awesome  😎 !\n",
    "\n",
    "This is your ONNX MPNet model from HuggingFace 🤗  loaded and saved by Spark NLP 🚀"
   ]
  },
  {
   "cell_type": "code",
   "execution_count": 12,
   "metadata": {
    "colab": {
     "base_uri": "https://localhost:8080/"
    },
    "id": "TNHUNsTD4AJa",
    "outputId": "976477e5-676b-4087-b8b9-b3a1989bc9c7"
   },
   "outputs": [
    {
     "name": "stdout",
     "output_type": "stream",
     "text": [
      "total 425864\n",
      "drwxr-xr-x 3 root root      4096 Jun 23 01:22 fields\n",
      "drwxr-xr-x 2 root root      4096 Jun 23 01:22 metadata\n",
      "-rw-r--r-- 1 root root 436069322 Jun 23 01:22 mpnet_openvino\n"
     ]
    }
   ],
   "source": [
    "! ls -l {MODEL_NAME}_spark_nlp"
   ]
  },
  {
   "cell_type": "markdown",
   "metadata": {
    "id": "5pv3OifF4AJa"
   },
   "source": [
    "Now let's see how we can use it on other machines, clusters, or any place you wish to use your new and shiny MPNet model 😊"
   ]
  },
  {
   "cell_type": "code",
   "execution_count": 13,
   "metadata": {
    "colab": {
     "base_uri": "https://localhost:8080/"
    },
    "id": "q-9_4KJn4AJa",
    "outputId": "beb18215-0b38-4bfe-d677-f5018003cd89"
   },
   "outputs": [
    {
     "name": "stdout",
     "output_type": "stream",
     "text": [
      "+--------------------+\n",
      "|          embeddings|\n",
      "+--------------------+\n",
      "|[-0.020282388, 0....|\n",
      "+--------------------+\n",
      "\n"
     ]
    }
   ],
   "source": [
    "from sparknlp.base import DocumentAssembler\n",
    "from sparknlp.annotator import MPNetEmbeddings\n",
    "from pyspark.ml import Pipeline\n",
    "\n",
    "document_assembler = DocumentAssembler() \\\n",
    "    .setInputCol(\"text\") \\\n",
    "    .setOutputCol(\"document\")\n",
    "\n",
    "MPNet_loaded = MPNetEmbeddings.load(f\"{MODEL_NAME}_spark_nlp\") \\\n",
    "    .setInputCols([\"document\"]) \\\n",
    "    .setOutputCol(\"MPNet\")\n",
    "\n",
    "pipeline = Pipeline(stages=[\n",
    "    document_assembler,\n",
    "    MPNet_loaded\n",
    "])\n",
    "\n",
    "data = spark.createDataFrame([[\n",
    "    \"William Henry Gates III (born October 28, 1955) is an American business magnate, \"\n",
    "    \"software developer, investor, and philanthropist.\"\n",
    "]]).toDF(\"text\")\n",
    "\n",
    "model = pipeline.fit(data)\n",
    "result = model.transform(data)\n",
    "\n",
    "result.selectExpr(\"explode(MPNet.embeddings) as embeddings\").show()"
   ]
  },
  {
   "cell_type": "markdown",
   "metadata": {
    "id": "vkf-Ea-Z4AJb"
   },
   "source": [
    "That's it! You can now go wild and use hundreds of MPNet models from HuggingFace 🤗 in Spark NLP 🚀\n"
   ]
  }
 ],
 "metadata": {
  "colab": {
   "provenance": []
  },
  "kernelspec": {
   "display_name": "Python 3",
   "language": "python",
   "name": "python3"
  },
  "language_info": {
   "codemirror_mode": {
    "name": "ipython",
    "version": 3
   },
   "file_extension": ".py",
   "mimetype": "text/x-python",
   "name": "python",
   "nbconvert_exporter": "python",
   "pygments_lexer": "ipython3",
   "version": "3.10.12"
  }
 },
 "nbformat": 4,
 "nbformat_minor": 0
}
