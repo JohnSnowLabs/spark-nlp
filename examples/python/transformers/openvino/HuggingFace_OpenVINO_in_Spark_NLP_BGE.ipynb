{
 "cells": [
  {
   "cell_type": "markdown",
   "metadata": {
    "id": "_V5XcDCnVgSi"
   },
   "source": [
    "![JohnSnowLabs](https://sparknlp.org/assets/images/logo.png)\n",
    "\n",
    "[![Open In Colab](https://colab.research.google.com/assets/colab-badge.svg)](https://colab.research.google.com/github/JohnSnowLabs/spark-nlp/blob/master/examples/python/transformers/openvino/HuggingFace_OpenVINO_in_Spark_NLP_BGE.ipynb)\n",
    "\n",
    "# Import OpenVINO BGE models from HuggingFace 🤗 into Spark NLP 🚀\n",
    "\n",
    "This notebook provides a detailed walkthrough on optimizing and exporting BGE models from HuggingFace for use in Spark NLP, leveraging the various tools provided in the [Intel OpenVINO toolkit](https://www.intel.com/content/www/us/en/developer/tools/openvino-toolkit/overview.html) ecosystem.\n",
    "\n",
    "Let's keep in mind a few things before we start 😊\n",
    "\n",
    "- OpenVINO support was introduced in  `Spark NLP 5.4.0`, enabling high performance inference for models. Please make sure you have upgraded to the latest Spark NLP release.\n",
    "- You can import models for BGE from BGE and they have to be in `Sentence Similarity` category."
   ]
  },
  {
   "cell_type": "markdown",
   "metadata": {
    "id": "aghasVppVgSk"
   },
   "source": [
    "## 1. Export and Save the HuggingFace model"
   ]
  },
  {
   "cell_type": "markdown",
   "metadata": {
    "id": "be4HsTDMVgSk"
   },
   "source": [
    "- Let's install `transformers` and `openvino` packages with other dependencies. You don't need `openvino` to be installed for Spark NLP, however, we need it to load and save models from HuggingFace.\n",
    "- We lock `transformers` on version `4.48.3`. This doesn't mean it won't work with the future releases, but we wanted you to know which versions have been tested successfully."
   ]
  },
  {
   "cell_type": "code",
   "execution_count": null,
   "metadata": {
    "colab": {
     "base_uri": "https://localhost:8080/"
    },
    "id": "-zODJiiajVjj",
    "outputId": "1622fb21-ee67-46c2-8c40-4138121a6e65"
   },
   "outputs": [],
   "source": [
    "!pip install -q --upgrade transformers==4.48.3 optimum[openvino]"
   ]
  },
  {
   "cell_type": "markdown",
   "metadata": {
    "id": "vI7uz_6hVgSl"
   },
   "source": [
    "[Optimum Intel](https://github.com/huggingface/optimum-intel?tab=readme-ov-file#openvino) is the interface between the Transformers library and the various model optimization and acceleration tools provided by Intel. HuggingFace models loaded with optimum-intel are automatically optimized for OpenVINO, while being compatible with the Transformers API.\n",
    "- To load a HuggingFace model directly for inference/export, just replace the `AutoModelForXxx` class with the corresponding `OVModelForXxx` class. We can use this to import and export OpenVINO models with `from_pretrained` and `save_pretrained`.\n",
    "- By setting `export=True`, the source model is converted to OpenVINO IR format on the fly.\n",
    "- We'll use [BAAI/bge-base-en](https://huggingface.co/BAAI/bge-base-en) model from HuggingFace as an example and load it as a `OVModelForFeatureExtraction`, representing an OpenVINO model.\n",
    "- In addition to the OVModelForFeatureExtraction model, we also need to save the `AutoTokenizer`. This is the same for every model, these are assets (saved in `/assets`) needed for tokenization inside Spark NLP."
   ]
  },
  {
   "cell_type": "code",
   "execution_count": 2,
   "metadata": {
    "colab": {
     "base_uri": "https://localhost:8080/",
     "height": 435,
     "referenced_widgets": [
      "7c64d0fb942b4b93b18bb2e32cae297b",
      "a15e0e01eed849b2b02bb410264f94d6",
      "30a4ed5eecd7420d9b107cd9f1c06518",
      "3c8ce71caab8497aa07b233c79d9fa56",
      "51747ce6f7f740588b52919109158bad",
      "b3290868eb80497f8d92ffc3a7784781",
      "f5d13d5ff8a145b4a6fe946850d697e9",
      "734d9f86d97c41b29acab3753dc4d695",
      "62e6030067244bb48dac382d77b0b24c",
      "e5495356dbd44db5837153d1b7a3add2",
      "01b5eba9241b4025b24df34bbd6899a1",
      "1a0cfad79b634d86b28bcee13ac8e500",
      "a2e27aea78e943cd8b7f5c85bf1e0c06",
      "95ca70dccc134077b280f9041862d814",
      "576600ccc6ea4cd7b3dcfb63fb3ae1d5",
      "2b1f4cbcfa59439aa3361752fa2dc729",
      "dde491fcf5324b62be0b193bc009bc3f",
      "ea92acd1d50d4a4992145d4743acd18e",
      "d87574d2302443d0a9d1b720e9dd3b14",
      "655d5218167e4b5a807ad276c2bef167",
      "4c03d7c89c8d494fb396697b45b14212",
      "759626a5de7b4cefb303340e6ee7b7b1",
      "e6dee61777e24ea387704bc7f93cf278",
      "d0d7f5cc467942ab8248253812febf36",
      "30598e4122ba4fc58c441769e79c7571",
      "2209349a9b6b4d929b0aca137572c5a7",
      "9b493b7ab8c9436ebbf5af1b1f6b4980",
      "b725e0ae9f5a427cae3dc6009937e286",
      "fc2ae80438514c5d80fac72ad1ff6270",
      "73704349c1a54ad4a7130c40c1ab17f9",
      "24115561a8264e27be3cb50ebeb715ca",
      "f1ae543344b84e58a705764a8d23c2ad",
      "84e7f76890904a4fa4655270db0c7004",
      "e2b93a43991749db8b159c5d2bb80130",
      "796165d8311f49edb1cd702fc5e53201",
      "0ba0ffed61374b0dabba6ec161085844",
      "a8f5d70ddd384a2b86abe8b4f5efe069",
      "63df801545be4c85b4ad89b3ab7e77ec",
      "99d6dcb0a4a64941b5aca95d467c5a86",
      "ea23e517523b47f18b64d9499152317e",
      "66cfef7be3674b1ea276fb006e9424cf",
      "813a415c76714d1c9edddac0a2dd6336",
      "2e1a093262f94bfa8a528c6d11242799",
      "25d0e581d1c449709ff46f2f5e41d2ee",
      "93ececcaca394ada9765921f0be0f4bd",
      "af48249b2b664da98a6c7c870bc92781",
      "4af816c4c3bc49daab9b63512b6c7add",
      "65750ef9332e410e9b21c30a3975593e",
      "dee572171ce74274acd4e9eae91c87cb",
      "159b6a60457d424fb613b096c80bb8dd",
      "cbb73c6d348d4e70bd955784cdede1c2",
      "7f31645630064fec9cf5ace98448d2ab",
      "f4e47ffd94f34887ba559bb0750c99f6",
      "c8cd72a05f744e8dadaaa6acdc886b82",
      "de255e7edddf4cfca5ad1aa511581a1f",
      "177cb2db345b46eb8a52a2e89a69a790",
      "d6ba370013264b0dbf4933cbe4f8ea2b",
      "5616510806d54448ba5f697c135949ba",
      "cc27e6008b4e48f998426e09de8f4c74",
      "1be8635e80aa4677818d9077ffb85eb1",
      "451d9978b50b47c2878e4120be7d8211",
      "01080410801641fd84f73eebf7a875d4",
      "dc6be40c988e456983076e74761a18ad",
      "ad313ee77b7b49f4948c59cd1987ea4d",
      "ee4c475cab184b738208f7968b277acc",
      "8f12bedc19ef4e44ad69553d13f52be5"
     ]
    },
    "id": "qF5Pp3DuVgSm",
    "outputId": "29553eeb-dec5-42f3-9daa-b8cc3411350a"
   },
   "outputs": [
    {
     "name": "stderr",
     "output_type": "stream",
     "text": [
      "No CUDA runtime is found, using CUDA_HOME='/usr/local/cuda'\n",
      "/usr/local/lib/python3.11/dist-packages/huggingface_hub/utils/_auth.py:94: UserWarning: \n",
      "The secret `HF_TOKEN` does not exist in your Colab secrets.\n",
      "To authenticate with the Hugging Face Hub, create a token in your settings tab (https://huggingface.co/settings/tokens), set it as secret in your Google Colab and restart your session.\n",
      "You will be able to reuse this secret in all of your notebooks.\n",
      "Please note that authentication is recommended but still optional to access public models or datasets.\n",
      "  warnings.warn(\n"
     ]
    },
    {
     "data": {
      "application/vnd.jupyter.widget-view+json": {
       "model_id": "7c64d0fb942b4b93b18bb2e32cae297b",
       "version_major": 2,
       "version_minor": 0
      },
      "text/plain": [
       "config.json:   0%|          | 0.00/719 [00:00<?, ?B/s]"
      ]
     },
     "metadata": {},
     "output_type": "display_data"
    },
    {
     "data": {
      "application/vnd.jupyter.widget-view+json": {
       "model_id": "1a0cfad79b634d86b28bcee13ac8e500",
       "version_major": 2,
       "version_minor": 0
      },
      "text/plain": [
       "model.safetensors:   0%|          | 0.00/438M [00:00<?, ?B/s]"
      ]
     },
     "metadata": {},
     "output_type": "display_data"
    },
    {
     "data": {
      "application/vnd.jupyter.widget-view+json": {
       "model_id": "e6dee61777e24ea387704bc7f93cf278",
       "version_major": 2,
       "version_minor": 0
      },
      "text/plain": [
       "tokenizer_config.json:   0%|          | 0.00/366 [00:00<?, ?B/s]"
      ]
     },
     "metadata": {},
     "output_type": "display_data"
    },
    {
     "data": {
      "application/vnd.jupyter.widget-view+json": {
       "model_id": "e2b93a43991749db8b159c5d2bb80130",
       "version_major": 2,
       "version_minor": 0
      },
      "text/plain": [
       "vocab.txt:   0%|          | 0.00/232k [00:00<?, ?B/s]"
      ]
     },
     "metadata": {},
     "output_type": "display_data"
    },
    {
     "data": {
      "application/vnd.jupyter.widget-view+json": {
       "model_id": "93ececcaca394ada9765921f0be0f4bd",
       "version_major": 2,
       "version_minor": 0
      },
      "text/plain": [
       "tokenizer.json:   0%|          | 0.00/711k [00:00<?, ?B/s]"
      ]
     },
     "metadata": {},
     "output_type": "display_data"
    },
    {
     "data": {
      "application/vnd.jupyter.widget-view+json": {
       "model_id": "177cb2db345b46eb8a52a2e89a69a790",
       "version_major": 2,
       "version_minor": 0
      },
      "text/plain": [
       "special_tokens_map.json:   0%|          | 0.00/125 [00:00<?, ?B/s]"
      ]
     },
     "metadata": {},
     "output_type": "display_data"
    },
    {
     "name": "stderr",
     "output_type": "stream",
     "text": [
      "`loss_type=None` was set in the config but it is unrecognised.Using the default loss: `ForCausalLMLoss`.\n"
     ]
    },
    {
     "data": {
      "text/plain": [
       "('ov_models/BAAI/bge-base-en/tokenizer_config.json',\n",
       " 'ov_models/BAAI/bge-base-en/special_tokens_map.json',\n",
       " 'ov_models/BAAI/bge-base-en/vocab.txt',\n",
       " 'ov_models/BAAI/bge-base-en/added_tokens.json',\n",
       " 'ov_models/BAAI/bge-base-en/tokenizer.json')"
      ]
     },
     "execution_count": 2,
     "metadata": {},
     "output_type": "execute_result"
    }
   ],
   "source": [
    "from transformers import AutoTokenizer\n",
    "from optimum.intel import OVModelForFeatureExtraction\n",
    "\n",
    "MODEL_NAME = \"BAAI/bge-base-en\"\n",
    "EXPORT_PATH = f\"ov_models/{MODEL_NAME}\"\n",
    "\n",
    "ov_model = OVModelForFeatureExtraction.from_pretrained(MODEL_NAME, export=True)\n",
    "tokenizer = AutoTokenizer.from_pretrained(MODEL_NAME)\n",
    "\n",
    "ov_model.save_pretrained(EXPORT_PATH)\n",
    "tokenizer.save_pretrained(EXPORT_PATH)"
   ]
  },
  {
   "cell_type": "markdown",
   "metadata": {
    "id": "EJxQnRLRnIqp"
   },
   "source": [
    "Let's have a look inside these two directories and see what we are dealing with:"
   ]
  },
  {
   "cell_type": "code",
   "execution_count": 3,
   "metadata": {
    "colab": {
     "base_uri": "https://localhost:8080/"
    },
    "id": "vgEQeTm7nGvn",
    "outputId": "9f862c07-8b6b-4854-94c1-77871909e4ab"
   },
   "outputs": [
    {
     "name": "stdout",
     "output_type": "stream",
     "text": [
      "total 426660\n",
      "-rw-r--r-- 1 root root       735 Jun 20 01:50 config.json\n",
      "-rw-r--r-- 1 root root 435570848 Jun 20 01:50 openvino_model.bin\n",
      "-rw-r--r-- 1 root root    363466 Jun 20 01:50 openvino_model.xml\n",
      "-rw-r--r-- 1 root root       695 Jun 20 01:50 special_tokens_map.json\n",
      "-rw-r--r-- 1 root root      1272 Jun 20 01:50 tokenizer_config.json\n",
      "-rw-r--r-- 1 root root    711396 Jun 20 01:50 tokenizer.json\n",
      "-rw-r--r-- 1 root root    231508 Jun 20 01:50 vocab.txt\n"
     ]
    }
   ],
   "source": [
    "!ls -l {EXPORT_PATH}"
   ]
  },
  {
   "cell_type": "markdown",
   "metadata": {
    "id": "ChFjXMqkBIY1"
   },
   "source": [
    "- We need to move `vocabs.txt` from the tokenizer to assets folder which Spark NLP will look for"
   ]
  },
  {
   "cell_type": "code",
   "execution_count": 5,
   "metadata": {
    "id": "4Zio8PJfBIpv"
   },
   "outputs": [],
   "source": [
    "!mkdir {EXPORT_PATH}/assets & mv {EXPORT_PATH}/vocab.txt {EXPORT_PATH}/assets/"
   ]
  },
  {
   "cell_type": "code",
   "execution_count": 6,
   "metadata": {
    "colab": {
     "base_uri": "https://localhost:8080/"
    },
    "id": "tG0UagwOnLuR",
    "outputId": "902fbca6-18af-4cd8-b364-cf292f52f571"
   },
   "outputs": [
    {
     "name": "stdout",
     "output_type": "stream",
     "text": [
      "total 228\n",
      "-rw-r--r-- 1 root root 231508 Jun 20 01:50 vocab.txt\n"
     ]
    }
   ],
   "source": [
    "!ls -l {EXPORT_PATH}/assets"
   ]
  },
  {
   "cell_type": "markdown",
   "metadata": {
    "id": "E_G-rX2JBT42"
   },
   "source": [
    "- Voila! We have our `vocab.txt` inside assets directory"
   ]
  },
  {
   "cell_type": "markdown",
   "metadata": {
    "id": "067GFSs630kP"
   },
   "source": [
    "## Import and Save BGE in Spark NLP\n",
    "\n",
    "- Install and set up Spark NLP in Google Colab\n",
    "- This example uses specific versions of `pyspark` and `spark-nlp` that have been tested with the transformer model to ensure everything runs smoothly."
   ]
  },
  {
   "cell_type": "code",
   "execution_count": 7,
   "metadata": {
    "colab": {
     "base_uri": "https://localhost:8080/"
    },
    "id": "AgT0J70b30kQ",
    "outputId": "412bba9b-0021-4156-a41a-f2a311807a2c"
   },
   "outputs": [
    {
     "name": "stdout",
     "output_type": "stream",
     "text": [
      "\u001b[2K     \u001b[90m━━━━━━━━━━━━━━━━━━━━━━━━━━━━━━━━━━━━━━━\u001b[0m \u001b[32m317.3/317.3 MB\u001b[0m \u001b[31m1.5 MB/s\u001b[0m eta \u001b[36m0:00:00\u001b[0m\n",
      "\u001b[?25h  Preparing metadata (setup.py) ... \u001b[?25l\u001b[?25hdone\n",
      "\u001b[2K   \u001b[90m━━━━━━━━━━━━━━━━━━━━━━━━━━━━━━━━━━━━━━━━\u001b[0m \u001b[32m635.7/635.7 kB\u001b[0m \u001b[31m30.9 MB/s\u001b[0m eta \u001b[36m0:00:00\u001b[0m\n",
      "\u001b[?25h  Building wheel for pyspark (setup.py) ... \u001b[?25l\u001b[?25hdone\n"
     ]
    }
   ],
   "source": [
    "!pip install -q pyspark==3.5.4 spark-nlp==5.5.3"
   ]
  },
  {
   "cell_type": "markdown",
   "metadata": {
    "id": "BvAI0TfW30kQ"
   },
   "source": [
    "Let's start Spark with Spark NLP included via our simple `start()` function"
   ]
  },
  {
   "cell_type": "code",
   "execution_count": 8,
   "metadata": {
    "colab": {
     "base_uri": "https://localhost:8080/"
    },
    "id": "J2Qtnspt30kQ",
    "outputId": "47a18093-9e5a-4131-8156-8e1b99fca06f"
   },
   "outputs": [
    {
     "name": "stdout",
     "output_type": "stream",
     "text": [
      "Spark NLP version:  5.5.3\n",
      "Apache Spark version:  3.5.4\n"
     ]
    }
   ],
   "source": [
    "import sparknlp\n",
    "\n",
    "spark = sparknlp.start()\n",
    "\n",
    "print(\"Spark NLP version: \", sparknlp.version())\n",
    "print(\"Apache Spark version: \", spark.version)"
   ]
  },
  {
   "cell_type": "markdown",
   "metadata": {
    "id": "FQ5iSkCx30kQ"
   },
   "source": [
    "- Let's use `loadSavedModel` functon in `E5Embeddings` which allows us to load the ONNX model\n",
    "- Most params will be set automatically. They can also be set later after loading the model in `E5Embeddings` during runtime, so don't worry about setting them now\n",
    "- `loadSavedModel` accepts two params, first is the path to the exported model. The second is the SparkSession that is `spark` variable we previously started via `sparknlp.start()`\n",
    "- NOTE: `loadSavedModel` accepts local paths in addition to distributed file systems such as `HDFS`, `S3`, `DBFS`, etc. This feature was introduced in Spark NLP 4.2.2 release. Keep in mind the best and recommended way to move/share/reuse Spark NLP models is to use `write.save` so you can use `.load()` from any file systems natively.st and recommended way to move/share/reuse Spark NLP models is to use `write.save` so you can use `.load()` from any file systems natively.\n"
   ]
  },
  {
   "cell_type": "code",
   "execution_count": 9,
   "metadata": {
    "id": "w1k2tbz930kQ"
   },
   "outputs": [],
   "source": [
    "from sparknlp.annotator import BGEEmbeddings\n",
    "\n",
    "BGE = BGEEmbeddings.loadSavedModel(f\"{EXPORT_PATH}\", spark)\\\n",
    "    .setInputCols([\"document\"])\\\n",
    "    .setOutputCol(\"bge\")"
   ]
  },
  {
   "cell_type": "markdown",
   "metadata": {
    "id": "2M69Q1-O30kQ"
   },
   "source": [
    "- Let's save it on disk so it is easier to be moved around and also be used later via `.load` function"
   ]
  },
  {
   "cell_type": "code",
   "execution_count": 10,
   "metadata": {
    "id": "EiZMf0zR30kQ"
   },
   "outputs": [],
   "source": [
    "BGE.write().overwrite().save(f\"{MODEL_NAME}_spark_nlp\")"
   ]
  },
  {
   "cell_type": "markdown",
   "metadata": {
    "id": "a330qpwM30kQ"
   },
   "source": [
    "Let's clean up stuff we don't need anymore"
   ]
  },
  {
   "cell_type": "code",
   "execution_count": 11,
   "metadata": {
    "id": "0nDCmxxY30kQ"
   },
   "outputs": [],
   "source": [
    "!rm -rf {EXPORT_PATH}"
   ]
  },
  {
   "cell_type": "markdown",
   "metadata": {
    "id": "988iwOYW30kR"
   },
   "source": [
    "Awesome  😎 !\n",
    "\n",
    "This is your ONNX BGE model from HuggingFace 🤗  loaded and saved by Spark NLP 🚀"
   ]
  },
  {
   "cell_type": "code",
   "execution_count": 12,
   "metadata": {
    "colab": {
     "base_uri": "https://localhost:8080/"
    },
    "id": "M2uut6ZY30kR",
    "outputId": "01e558c0-fcae-4f10-f03e-59fa96f89ac7"
   },
   "outputs": [
    {
     "name": "stdout",
     "output_type": "stream",
     "text": [
      "total 425796\n",
      "-rw-r--r-- 1 root root 436001117 Jun 20 01:56 bge_openvino\n",
      "drwxr-xr-x 3 root root      4096 Jun 20 01:56 fields\n",
      "drwxr-xr-x 2 root root      4096 Jun 20 01:56 metadata\n"
     ]
    }
   ],
   "source": [
    "! ls -l {MODEL_NAME}_spark_nlp"
   ]
  },
  {
   "cell_type": "markdown",
   "metadata": {
    "id": "DCxE9SPk30kR"
   },
   "source": [
    "Now let's see how we can use it on other machines, clusters, or any place you wish to use your new and shiny E5 model 😊"
   ]
  },
  {
   "cell_type": "code",
   "execution_count": 16,
   "metadata": {
    "colab": {
     "base_uri": "https://localhost:8080/"
    },
    "id": "mbgSes6c30kR",
    "outputId": "b5b78ac1-f36b-437a-8730-3b0029740a6b"
   },
   "outputs": [
    {
     "name": "stdout",
     "output_type": "stream",
     "text": [
      "+--------------------+\n",
      "|          embeddings|\n",
      "+--------------------+\n",
      "|[-0.037625276, 0....|\n",
      "+--------------------+\n",
      "\n"
     ]
    }
   ],
   "source": [
    "from pyspark.ml import Pipeline\n",
    "from sparknlp.base import DocumentAssembler\n",
    "from sparknlp.annotator import BGEEmbeddings\n",
    "\n",
    "document_assembler = DocumentAssembler() \\\n",
    "    .setInputCol(\"text\") \\\n",
    "    .setOutputCol(\"document\")\n",
    "\n",
    "BGE_loaded = BGEEmbeddings.load(f\"{MODEL_NAME}_spark_nlp\") \\\n",
    "    .setInputCols([\"document\"]) \\\n",
    "    .setOutputCol(\"bge\")\n",
    "\n",
    "pipeline = Pipeline(stages=[\n",
    "    document_assembler,\n",
    "    BGE_loaded\n",
    "])\n",
    "\n",
    "data = spark.createDataFrame([\n",
    "    [\"William Henry Gates III (born October 28, 1955) is an American business magnate, software developer, investor, and philanthropist.\"]\n",
    "], [\"text\"])\n",
    "\n",
    "model = pipeline.fit(data)\n",
    "result = model.transform(data)\n",
    "\n",
    "result.selectExpr(\"explode(bge.embeddings) as embeddings\").show()"
   ]
  },
  {
   "cell_type": "markdown",
   "metadata": {
    "id": "hjsjSFR730kR"
   },
   "source": [
    "That's it! You can now go wild and use hundreds of E5 models from HuggingFace 🤗 in Spark NLP 🚀\n"
   ]
  }
 ],
 "metadata": {
  "colab": {
   "provenance": []
  },
  "kernelspec": {
   "display_name": "Python 3",
   "language": "python",
   "name": "python3"
  },
  "language_info": {
   "codemirror_mode": {
    "name": "ipython",
    "version": 3
   },
   "file_extension": ".py",
   "mimetype": "text/x-python",
   "name": "python",
   "nbconvert_exporter": "python",
   "pygments_lexer": "ipython3",
   "version": "3.10.12"
  }
 },
 "nbformat": 4,
 "nbformat_minor": 0
}
