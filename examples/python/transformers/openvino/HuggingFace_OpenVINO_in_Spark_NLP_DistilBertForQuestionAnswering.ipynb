{
 "cells": [
  {
   "cell_type": "markdown",
   "metadata": {
    "id": "_V5XcDCnVgSi"
   },
   "source": [
    "![JohnSnowLabs](https://sparknlp.org/assets/images/logo.png)\n",
    "\n",
    "[![Open In Colab](https://colab.research.google.com/assets/colab-badge.svg)](https://colab.research.google.com/github/JohnSnowLabs/spark-nlp/blob/master/examples/python/transformers/openvino/HuggingFace_OpenVINO_in_Spark_NLP_DistilBertForQuestionAnswering.ipynb)\n",
    "\n",
    "# Import OpenVINO DistilBertForQuestionAnswering  models from HuggingFace 🤗 into Spark NLP 🚀\n",
    "\n",
    "This notebook provides a detailed walkthrough on optimizing and exporting DistilBertForQuestionAnswering  models from HuggingFace for use in Spark NLP, leveraging the various tools provided in the [Intel OpenVINO toolkit](https://www.intel.com/content/www/us/en/developer/tools/openvino-toolkit/overview.html) ecosystem.\n",
    "\n",
    "Let's keep in mind a few things before we start 😊\n",
    "\n",
    "- OpenVINO support was introduced in  `Spark NLP 5.4.0`, enabling high performance inference for models. Please make sure you have upgraded to the latest Spark NLP release.\n",
    "- You can import models for DistilBertForQuestionAnswering from DistilBertForQuestionAnswering and they have to be in `Question Answering` category."
   ]
  },
  {
   "cell_type": "markdown",
   "metadata": {
    "id": "aghasVppVgSk"
   },
   "source": [
    "## 1. Export and Save the HuggingFace model"
   ]
  },
  {
   "cell_type": "markdown",
   "metadata": {
    "id": "be4HsTDMVgSk"
   },
   "source": [
    "- Let's install `transformers` and `openvino` packages with other dependencies. You don't need `openvino` to be installed for Spark NLP, however, we need it to load and save models from HuggingFace.\n",
    "- We lock `transformers` on version `4.48.3`. This doesn't mean it won't work with the future releases, but we wanted you to know which versions have been tested successfully."
   ]
  },
  {
   "cell_type": "code",
   "execution_count": null,
   "metadata": {
    "colab": {
     "base_uri": "https://localhost:8080/"
    },
    "id": "-7L-2ZWUVgSl",
    "outputId": "8f4dd99a-5a85-4192-b37c-65ad6a0caa03"
   },
   "outputs": [],
   "source": [
    "!pip install -q --upgrade transformers==4.48.3 optimum[openvino]"
   ]
  },
  {
   "cell_type": "markdown",
   "metadata": {
    "id": "vI7uz_6hVgSl"
   },
   "source": [
    "[Optimum Intel](https://github.com/huggingface/optimum-intel?tab=readme-ov-file#openvino) is the interface between the Transformers library and the various model optimization and acceleration tools provided by Intel. HuggingFace models loaded with optimum-intel are automatically optimized for OpenVINO, while being compatible with the Transformers API.\n",
    "- To load a HuggingFace model directly for inference/export, just replace the `AutoModelForXxx` class with the corresponding `OVModelForXxx` class. We can use this to import and export OpenVINO models with `from_pretrained` and `save_pretrained`.\n",
    "- By setting `export=True`, the source model is converted to OpenVINO IR format on the fly.\n",
    "- We'll use [distilbert/distilbert-base-cased-distilled-squad](https://huggingface.co/distilbert/distilbert-base-cased-distilled-squad) model from HuggingFace as an example and load it as a `OVModelForQuestionAnswering`, representing an OpenVINO model.\n",
    "- In addition to the OVModelForQuestionAnswering model, we also need to save the `AutoTokenizer`. This is the same for every model, these are assets (saved in `/assets`) needed for tokenization inside Spark NLP."
   ]
  },
  {
   "cell_type": "code",
   "execution_count": 2,
   "metadata": {
    "colab": {
     "base_uri": "https://localhost:8080/",
     "height": 423,
     "referenced_widgets": [
      "dcaf43b17fdc4ff2b4ef12b7a734dfc7",
      "5a94bb5ec1eb499785d5be6f9c14af25",
      "dac4499412f14e36923eb20bb8ca76d6",
      "2e4f54fc0fbe47189a92a0a1224bcb75",
      "e31b7fc1a34d420786392cbf73a7fc53",
      "133681e6c29a40f78c6fb4424fe70925",
      "54f833ba180844dbacaf158611c9a50b",
      "c1bd71f4a74b45bfabaf8bf61ef190e1",
      "5c0e36fbe2854879ab97d84f1b97a28e",
      "cd1f47bc8a1747da92f34c62987c4586",
      "10bb48854fb14ee3809e2abfc458d80c",
      "5dd4fec0bad74b03a77f38aca7346be2",
      "69648c4b234546048bdaeb4d472c3b0d",
      "d8b36d6b42344516a13e36bfef83c515",
      "6aff4aa6da884b8298a858910fd4c672",
      "92e467d806034769945c3eaf88c10757",
      "ad208d388ce44ea1b8f1587a4cdfa61a",
      "baf7f7a3aff944d99cd3685c0d1fb510",
      "12f472687f3b4367b05c0a49e7a25f7f",
      "9ef80547465845d0bd5eb68a712d7c45",
      "24f849b1f9684019a5b352c7b06f0c12",
      "29e359aa43544c46a9273e31ccf15aba",
      "786060531e1444ec9940890ecd1d9e0a",
      "973bdd11878f4524a93802480eff3df4",
      "852abad330694fc892afda3cd35d2051",
      "cf9d1bfd17b245b7b4254a9ad7f50291",
      "ce7a3360e0804ebeaba2d91abcbe53be",
      "116a384437bb485f8e24c1a435fa3988",
      "30e1b473c0f94ea38b905552626ae772",
      "0786e36f15a34f56b28bd695d5b3dc16",
      "942cfa80a1fe4ae09baa7aaaa095ca6b",
      "606f5abb8fcd4b16977a74679246c285",
      "15b52afa75194641ba94bc59bec9f786",
      "5989cc935a2f4a7fab7e7ea09df4b00d",
      "38f35e8fe44747d7910bac16640aabe5",
      "f91e9e9b9294491c93182e2817d45c1a",
      "c9212546a3334d93bd9b6cf3827d6db6",
      "344aa6d5119e444d8713e4ce41e56939",
      "23067a3f67a64cb5beed262ae27ce123",
      "9ed1be18fc474b1faa20f380a902af8a",
      "9303282f3b6b49949b6c9d3a02d9f504",
      "89da45f609904bc496f13587742b3ecd",
      "91cadb1bf7904b5f9ab1b2d3468b4975",
      "c4913c290c7b4ba295cae508fbe94b8f",
      "97d5df58b2d74a9fa4bca9a93e558f00",
      "12554579d8894e5eaa6aeac69e74d59d",
      "0fbde81b1583405c9e43f531fad1d3a2",
      "4dd3aa285e124b0fbdee6874e47c6da9",
      "55f21fd098fe43b0a38ca5f8512eae6b",
      "0458c277b9b44df6a0b04275913ae4ff",
      "1607ea10470d4f718e1df46ae06c05c7",
      "d5c2c43e3e55447681597333702c83ef",
      "a7acc8521d4d45a481dd0eef25315b14",
      "b0c418e138694616ac1ee4a547a6d9d7",
      "ba278702cfbd49a8921d744a8a57cf9d"
     ]
    },
    "id": "dKN_nQotCd3W",
    "outputId": "50ee4d8a-be77-4666-d42e-659e91613599"
   },
   "outputs": [
    {
     "name": "stderr",
     "output_type": "stream",
     "text": [
      "No CUDA runtime is found, using CUDA_HOME='/usr/local/cuda'\n",
      "/usr/local/lib/python3.11/dist-packages/huggingface_hub/utils/_auth.py:94: UserWarning: \n",
      "The secret `HF_TOKEN` does not exist in your Colab secrets.\n",
      "To authenticate with the Hugging Face Hub, create a token in your settings tab (https://huggingface.co/settings/tokens), set it as secret in your Google Colab and restart your session.\n",
      "You will be able to reuse this secret in all of your notebooks.\n",
      "Please note that authentication is recommended but still optional to access public models or datasets.\n",
      "  warnings.warn(\n"
     ]
    },
    {
     "data": {
      "application/vnd.jupyter.widget-view+json": {
       "model_id": "dcaf43b17fdc4ff2b4ef12b7a734dfc7",
       "version_major": 2,
       "version_minor": 0
      },
      "text/plain": [
       "config.json:   0%|          | 0.00/473 [00:00<?, ?B/s]"
      ]
     },
     "metadata": {},
     "output_type": "display_data"
    },
    {
     "name": "stderr",
     "output_type": "stream",
     "text": [
      "The model distilbert/distilbert-base-cased-distilled-squad was already converted to the OpenVINO IR but got `export=True`, the model will be converted to OpenVINO once again. Don't forget to save the resulting model with `.save_pretrained()`\n"
     ]
    },
    {
     "data": {
      "application/vnd.jupyter.widget-view+json": {
       "model_id": "5dd4fec0bad74b03a77f38aca7346be2",
       "version_major": 2,
       "version_minor": 0
      },
      "text/plain": [
       "model.safetensors:   0%|          | 0.00/261M [00:00<?, ?B/s]"
      ]
     },
     "metadata": {},
     "output_type": "display_data"
    },
    {
     "data": {
      "application/vnd.jupyter.widget-view+json": {
       "model_id": "786060531e1444ec9940890ecd1d9e0a",
       "version_major": 2,
       "version_minor": 0
      },
      "text/plain": [
       "tokenizer_config.json:   0%|          | 0.00/49.0 [00:00<?, ?B/s]"
      ]
     },
     "metadata": {},
     "output_type": "display_data"
    },
    {
     "data": {
      "application/vnd.jupyter.widget-view+json": {
       "model_id": "5989cc935a2f4a7fab7e7ea09df4b00d",
       "version_major": 2,
       "version_minor": 0
      },
      "text/plain": [
       "vocab.txt:   0%|          | 0.00/213k [00:00<?, ?B/s]"
      ]
     },
     "metadata": {},
     "output_type": "display_data"
    },
    {
     "data": {
      "application/vnd.jupyter.widget-view+json": {
       "model_id": "97d5df58b2d74a9fa4bca9a93e558f00",
       "version_major": 2,
       "version_minor": 0
      },
      "text/plain": [
       "tokenizer.json:   0%|          | 0.00/436k [00:00<?, ?B/s]"
      ]
     },
     "metadata": {},
     "output_type": "display_data"
    },
    {
     "name": "stderr",
     "output_type": "stream",
     "text": [
      "`loss_type=None` was set in the config but it is unrecognised.Using the default loss: `ForCausalLMLoss`.\n"
     ]
    },
    {
     "data": {
      "text/plain": [
       "('ov_models/distilbert/distilbert-base-cased-distilled-squad/tokenizer_config.json',\n",
       " 'ov_models/distilbert/distilbert-base-cased-distilled-squad/special_tokens_map.json',\n",
       " 'ov_models/distilbert/distilbert-base-cased-distilled-squad/vocab.txt',\n",
       " 'ov_models/distilbert/distilbert-base-cased-distilled-squad/added_tokens.json')"
      ]
     },
     "execution_count": 2,
     "metadata": {},
     "output_type": "execute_result"
    }
   ],
   "source": [
    "from transformers import DistilBertTokenizer\n",
    "from optimum.intel import OVModelForQuestionAnswering\n",
    "\n",
    "MODEL_NAME = \"distilbert/distilbert-base-cased-distilled-squad\"\n",
    "EXPORT_PATH = f\"ov_models/{MODEL_NAME}\"\n",
    "\n",
    "ort_model = OVModelForQuestionAnswering.from_pretrained(MODEL_NAME, export=True)\n",
    "ort_model.save_pretrained(EXPORT_PATH)\n",
    "\n",
    "tokenizer = DistilBertTokenizer.from_pretrained(MODEL_NAME)\n",
    "tokenizer.save_pretrained(EXPORT_PATH)"
   ]
  },
  {
   "cell_type": "markdown",
   "metadata": {
    "id": "H69sp4d4DNZH"
   },
   "source": [
    "Let's have a look inside these two directories and see what we are dealing with:"
   ]
  },
  {
   "cell_type": "code",
   "execution_count": 9,
   "metadata": {
    "colab": {
     "base_uri": "https://localhost:8080/"
    },
    "id": "8yRpJEZiDPap",
    "outputId": "5dac7e0a-cf3e-40df-cf34-5add64810f5c"
   },
   "outputs": [
    {
     "name": "stdout",
     "output_type": "stream",
     "text": [
      "total 255084\n",
      "-rw-r--r-- 1 root root       580 Jun 21 19:56 config.json\n",
      "-rw-r--r-- 1 root root 260774048 Jun 21 19:56 openvino_model.bin\n",
      "-rw-r--r-- 1 root root    197840 Jun 21 19:56 openvino_model.xml\n",
      "-rw-r--r-- 1 root root       125 Jun 21 19:56 special_tokens_map.json\n",
      "-rw-r--r-- 1 root root      1279 Jun 21 19:56 tokenizer_config.json\n",
      "-rw-r--r-- 1 root root    213450 Jun 21 19:56 vocab.txt\n"
     ]
    }
   ],
   "source": [
    "!ls -l {EXPORT_PATH}"
   ]
  },
  {
   "cell_type": "markdown",
   "metadata": {
    "id": "wf_lDiELDR3n"
   },
   "source": [
    "As you can see, we need to move `vocab.txt` from the tokenizer to `assets` folder which Spark NLP will look for"
   ]
  },
  {
   "cell_type": "code",
   "execution_count": 10,
   "metadata": {
    "id": "Kh5x76CiDUSm"
   },
   "outputs": [],
   "source": [
    "!mkdir {EXPORT_PATH}/assets && mv {EXPORT_PATH}/vocab.txt {EXPORT_PATH}/assets"
   ]
  },
  {
   "cell_type": "code",
   "execution_count": 11,
   "metadata": {
    "colab": {
     "base_uri": "https://localhost:8080/"
    },
    "id": "77tpJID3DWPy",
    "outputId": "00e02618-8194-44fd-b65a-2121dbe3a917"
   },
   "outputs": [
    {
     "name": "stdout",
     "output_type": "stream",
     "text": [
      "ov_models/distilbert/distilbert-base-cased-distilled-squad:\n",
      "total 254876\n",
      "drwxr-xr-x 2 root root      4096 Jun 21 20:32 assets\n",
      "-rw-r--r-- 1 root root       580 Jun 21 19:56 config.json\n",
      "-rw-r--r-- 1 root root 260774048 Jun 21 19:56 openvino_model.bin\n",
      "-rw-r--r-- 1 root root    197840 Jun 21 19:56 openvino_model.xml\n",
      "-rw-r--r-- 1 root root       125 Jun 21 19:56 special_tokens_map.json\n",
      "-rw-r--r-- 1 root root      1279 Jun 21 19:56 tokenizer_config.json\n",
      "\n",
      "ov_models/distilbert/distilbert-base-cased-distilled-squad/assets:\n",
      "total 212\n",
      "-rw-r--r-- 1 root root 213450 Jun 21 19:56 vocab.txt\n"
     ]
    }
   ],
   "source": [
    "!ls -lR {EXPORT_PATH}"
   ]
  },
  {
   "cell_type": "markdown",
   "metadata": {
    "id": "Epw_qevQDYf6"
   },
   "source": [
    "Voila! We have our `vocab.txt` inside assets directory"
   ]
  },
  {
   "cell_type": "markdown",
   "metadata": {
    "id": "1ongk0_nbmF5"
   },
   "source": [
    "## Import and Save DistilBertForQuestionAnswering in Spark NLP\n"
   ]
  },
  {
   "cell_type": "markdown",
   "metadata": {
    "id": "9l5NBkctbmF5"
   },
   "source": [
    "- Install and set up Spark NLP in Google Colab\n",
    "- This example uses specific versions of `pyspark` and `spark-nlp` that have been tested with the transformer model to ensure everything runs smoothly."
   ]
  },
  {
   "cell_type": "code",
   "execution_count": 6,
   "metadata": {
    "colab": {
     "base_uri": "https://localhost:8080/"
    },
    "id": "-5js_bV-bmF5",
    "outputId": "d2c922dd-3d54-4799-af02-ee949e7657aa"
   },
   "outputs": [
    {
     "name": "stdout",
     "output_type": "stream",
     "text": [
      "\u001b[2K     \u001b[90m━━━━━━━━━━━━━━━━━━━━━━━━━━━━━━━━━━━━━━━\u001b[0m \u001b[32m317.3/317.3 MB\u001b[0m \u001b[31m2.2 MB/s\u001b[0m eta \u001b[36m0:00:00\u001b[0m\n",
      "\u001b[?25h  Preparing metadata (setup.py) ... \u001b[?25l\u001b[?25hdone\n",
      "\u001b[2K   \u001b[90m━━━━━━━━━━━━━━━━━━━━━━━━━━━━━━━━━━━━━━━━\u001b[0m \u001b[32m635.7/635.7 kB\u001b[0m \u001b[31m19.6 MB/s\u001b[0m eta \u001b[36m0:00:00\u001b[0m\n",
      "\u001b[?25h  Building wheel for pyspark (setup.py) ... \u001b[?25l\u001b[?25hdone\n"
     ]
    }
   ],
   "source": [
    "!pip install -q pyspark==3.5.4 spark-nlp==5.5.3"
   ]
  },
  {
   "cell_type": "markdown",
   "metadata": {
    "id": "wf9QW_QqbmF5"
   },
   "source": [
    "Let's start Spark with Spark NLP included via our simple `start()` function"
   ]
  },
  {
   "cell_type": "code",
   "execution_count": 7,
   "metadata": {
    "colab": {
     "base_uri": "https://localhost:8080/"
    },
    "id": "KpXZyT1ubmF5",
    "outputId": "b35ed1e8-eea1-44f0-bc72-6f19fa5c894f"
   },
   "outputs": [
    {
     "name": "stdout",
     "output_type": "stream",
     "text": [
      "Spark NLP version: 5.5.3\n",
      "Apache Spark version: 3.5.4\n"
     ]
    }
   ],
   "source": [
    "import sparknlp\n",
    "\n",
    "spark = sparknlp.start()\n",
    "\n",
    "print(\"Spark NLP version: {}\".format(sparknlp.version()))\n",
    "print(\"Apache Spark version: {}\".format(spark.version))"
   ]
  },
  {
   "cell_type": "markdown",
   "metadata": {
    "id": "ZAzdYyribmF5"
   },
   "source": [
    "- Let's use `loadSavedModel` functon in `DistilBertForQuestionAnswering` which allows us to load TensorFlow model in SavedModel format\n",
    "- Most params can be set later when you are loading this model in `DistilBertForQuestionAnswering` in runtime like `setMaxSentenceLength`, so don't worry what you are setting them now\n",
    "- `loadSavedModel` accepts two params, first is the path to the TF SavedModel. The second is the SparkSession that is `spark` variable we previously started via `sparknlp.start()`\n",
    "- NOTE: `loadSavedModel` accepts local paths in addition to distributed file systems such as `HDFS`, `S3`, `DBFS`, etc. This feature was introduced in Spark NLP 4.2.2 release. Keep in mind the best and recommended way to move/share/reuse Spark NLP models is to use `write.save` so you can use `.load()` from any file systems natively.\n",
    "\n"
   ]
  },
  {
   "cell_type": "code",
   "execution_count": 12,
   "metadata": {
    "id": "vo6eC6kIbmF5"
   },
   "outputs": [],
   "source": [
    "from sparknlp.annotator import DistilBertForQuestionAnswering\n",
    "\n",
    "spanClassifier = DistilBertForQuestionAnswering.loadSavedModel(\n",
    "     EXPORT_PATH,\n",
    "     spark\n",
    " )\\\n",
    "  .setInputCols([\"document_question\",'document_context'])\\\n",
    "  .setOutputCol(\"answer\")\\\n",
    "  .setCaseSensitive(True)\\\n",
    "  .setMaxSentenceLength(512)"
   ]
  },
  {
   "cell_type": "markdown",
   "metadata": {
    "id": "mI0oy8xFbmF5"
   },
   "source": [
    "- Let's save it on disk so it is easier to be moved around and also be used later via `.load` function"
   ]
  },
  {
   "cell_type": "code",
   "execution_count": 13,
   "metadata": {
    "id": "Ok8M9TMqbmF5"
   },
   "outputs": [],
   "source": [
    "spanClassifier.write().overwrite().save(\"./{}_spark_nlp_openvino\".format(EXPORT_PATH))"
   ]
  },
  {
   "cell_type": "markdown",
   "metadata": {
    "id": "yXUfzjEIbmF5"
   },
   "source": [
    "Let's clean up stuff we don't need anymore"
   ]
  },
  {
   "cell_type": "code",
   "execution_count": 14,
   "metadata": {
    "id": "hjJQCQh-bmF6"
   },
   "outputs": [],
   "source": [
    "!rm -rf {EXPORT_PATH}"
   ]
  },
  {
   "cell_type": "markdown",
   "metadata": {
    "id": "XR982ZaybmF6"
   },
   "source": [
    "Awesome 😎  !\n",
    "\n",
    "This is your DistlBertForQuestionAnswering model from HuggingFace 🤗  loaded and saved by Spark NLP 🚀"
   ]
  },
  {
   "cell_type": "code",
   "execution_count": 15,
   "metadata": {
    "colab": {
     "base_uri": "https://localhost:8080/"
    },
    "id": "sLFXp6y6bmF6",
    "outputId": "0d7acb64-1fff-47de-f926-d1d2e275d358"
   },
   "outputs": [
    {
     "name": "stdout",
     "output_type": "stream",
     "text": [
      "total 254908\n",
      "-rw-r--r-- 1 root root 261011996 Jun 21 20:33 distilbert_classification_openvino\n",
      "drwxr-xr-x 3 root root      4096 Jun 21 20:33 fields\n",
      "drwxr-xr-x 2 root root      4096 Jun 21 20:33 metadata\n"
     ]
    }
   ],
   "source": [
    "! ls -l {EXPORT_PATH}_spark_nlp_openvino"
   ]
  },
  {
   "cell_type": "markdown",
   "metadata": {
    "id": "OwaNrcMUbmF6"
   },
   "source": [
    "Now let's see how we can use it on other machines, clusters, or any place you wish to use your new and shiny AlbertForQuestionAnswering model in Spark NLP 🚀 pipeline!"
   ]
  },
  {
   "cell_type": "code",
   "execution_count": 16,
   "metadata": {
    "colab": {
     "base_uri": "https://localhost:8080/"
    },
    "id": "y4YpR4F_bmF6",
    "outputId": "58d3d140-6f14-49e6-d05b-5c99988e407c"
   },
   "outputs": [
    {
     "name": "stdout",
     "output_type": "stream",
     "text": [
      "+-------+\n",
      "|result |\n",
      "+-------+\n",
      "|[Clara]|\n",
      "+-------+\n",
      "\n"
     ]
    }
   ],
   "source": [
    "from sparknlp.base import MultiDocumentAssembler\n",
    "from sparknlp.annotator import DistilBertForQuestionAnswering\n",
    "from pyspark.ml import Pipeline\n",
    "\n",
    "document_assembler = MultiDocumentAssembler() \\\n",
    "    .setInputCols([\"question\", \"context\"]) \\\n",
    "    .setOutputCols([\"document_question\", \"document_context\"])\n",
    "\n",
    "spanClassifier_loaded = DistilBertForQuestionAnswering.load(\"./{}_spark_nlp_openvino\".format(EXPORT_PATH))\\\n",
    "    .setInputCols([\"document_question\", \"document_context\"])\\\n",
    "    .setOutputCol(\"answer\")\n",
    "\n",
    "pipeline = Pipeline(stages=[\n",
    "    document_assembler,\n",
    "    spanClassifier_loaded\n",
    "])\n",
    "\n",
    "example = spark.createDataFrame([\n",
    "    [\"What's my name?\", \"My name is Clara and I live in Berkeley.\"]\n",
    "]).toDF(\"question\", \"context\")\n",
    "\n",
    "model = pipeline.fit(example)\n",
    "result = model.transform(example)\n",
    "\n",
    "result.select(\"answer.result\").show(1, False)"
   ]
  },
  {
   "cell_type": "markdown",
   "metadata": {
    "id": "uqZOKMvSbmF6"
   },
   "source": [
    "That's it! You can now go wild and use hundreds of `DistilBertForQuestionAnswering` models from HuggingFace 🤗 in Spark NLP 🚀\n"
   ]
  }
 ],
 "metadata": {
  "colab": {
   "provenance": []
  },
  "kernelspec": {
   "display_name": "Python 3",
   "language": "python",
   "name": "python3"
  },
  "language_info": {
   "codemirror_mode": {
    "name": "ipython",
    "version": 3
   },
   "file_extension": ".py",
   "mimetype": "text/x-python",
   "name": "python",
   "nbconvert_exporter": "python",
   "pygments_lexer": "ipython3",
   "version": "3.10.12"
  }
 },
 "nbformat": 4,
 "nbformat_minor": 0
}
