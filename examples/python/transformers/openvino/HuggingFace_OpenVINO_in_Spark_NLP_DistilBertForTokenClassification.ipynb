{
 "cells": [
  {
   "cell_type": "markdown",
   "metadata": {
    "id": "_V5XcDCnVgSi"
   },
   "source": [
    "![JohnSnowLabs](https://sparknlp.org/assets/images/logo.png)\n",
    "\n",
    "[![Open In Colab](https://colab.research.google.com/assets/colab-badge.svg)](https://colab.research.google.com/github/JohnSnowLabs/spark-nlp/blob/master/examples/python/transformers/openvino/HuggingFace_OpenVINO_in_Spark_NLP_DistilBertForTokenClassification.ipynb)\n",
    "\n",
    "# Import OpenVINO DistilBertForTokenClassification models from HuggingFace 🤗 into Spark NLP 🚀\n",
    "\n",
    "This notebook provides a detailed walkthrough on optimizing and exporting DistilBertForTokenClassification models from HuggingFace for use in Spark NLP, leveraging the various tools provided in the [Intel OpenVINO toolkit](https://www.intel.com/content/www/us/en/developer/tools/openvino-toolkit/overview.html) ecosystem.\n",
    "\n",
    "Let's keep in mind a few things before we start 😊\n",
    "\n",
    "- OpenVINO support was introduced in  `Spark NLP 5.4.0`, enabling high performance inference for models. Please make sure you have upgraded to the latest Spark NLP release.\n",
    "- You can import models for DistilBertForTokenClassification from DistilBertForTokenClassification   and they have to be in `Token Classification\n",
    "` category."
   ]
  },
  {
   "cell_type": "markdown",
   "metadata": {
    "id": "aghasVppVgSk"
   },
   "source": [
    "## 1. Export and Save the HuggingFace model"
   ]
  },
  {
   "cell_type": "markdown",
   "metadata": {
    "id": "be4HsTDMVgSk"
   },
   "source": [
    "- Let's install `transformers` and `openvino` packages with other dependencies. You don't need `openvino` to be installed for Spark NLP, however, we need it to load and save models from HuggingFace.\n",
    "- We lock `transformers` on version `4.48.3`. This doesn't mean it won't work with the future releases, but we wanted you to know which versions have been tested successfully."
   ]
  },
  {
   "cell_type": "code",
   "execution_count": null,
   "metadata": {
    "colab": {
     "base_uri": "https://localhost:8080/"
    },
    "id": "-7L-2ZWUVgSl",
    "outputId": "33db22d2-a3fe-470e-e31b-aefead40dd9f"
   },
   "outputs": [],
   "source": [
    "!pip install -q --upgrade transformers==4.48.3 optimum[openvino]"
   ]
  },
  {
   "cell_type": "markdown",
   "metadata": {
    "id": "vI7uz_6hVgSl"
   },
   "source": [
    "[Optimum Intel](https://github.com/huggingface/optimum-intel?tab=readme-ov-file#openvino) is the interface between the Transformers library and the various model optimization and acceleration tools provided by Intel. HuggingFace models loaded with optimum-intel are automatically optimized for OpenVINO, while being compatible with the Transformers API.\n",
    "- To load a HuggingFace model directly for inference/export, just replace the `AutoModelForXxx` class with the corresponding `OVModelForXxx` class. We can use this to import and export OpenVINO models with `from_pretrained` and `save_pretrained`.\n",
    "- By setting `export=True`, the source model is converted to OpenVINO IR format on the fly.\n",
    "- We'll use [elastic/distilbert-base-cased-finetuned-conll03-english](https://huggingface.co/elastic/distilbert-base-cased-finetuned-conll03-english) model from HuggingFace as an example and load it as a `OVModelForTokenClassification`, representing an OpenVINO model.\n",
    "- In addition to the OVModelForTokenClassification model, we also need to save the `AutoTokenizer`. This is the same for every model, these are assets (saved in `/assets`) needed for tokenization inside Spark NLP."
   ]
  },
  {
   "cell_type": "code",
   "execution_count": 2,
   "metadata": {
    "colab": {
     "base_uri": "https://localhost:8080/",
     "height": 423,
     "referenced_widgets": [
      "9a6fe04d71d748429a6c1cd96e3d45c2",
      "9d9354f617014bef9dd71f0c2e40e5ef",
      "16d570f8cc5a4fb5968e7ca65b464b6e",
      "12f833d539434e8ba700224bc14dfa3f",
      "454e1b1aed1e43d6a6e3c33f4379bc22",
      "8654bc842b844eff8e9a5098dc21d1f4",
      "dfbf3e197cf141b4879fa931a8cf681b",
      "25d8799295744165a8ed0807efde3bf8",
      "1dabd897b809418a9edc7bc65782dcba",
      "cc261b7731444515afdbf41abd6ea1db",
      "c2d0a6acab564903996df6e1d65d7c1a",
      "6100ae347a2a4464a6b54735c4e915cc",
      "4d3c0920840244a8a82c5c07f7f832ab",
      "82ac5f9cad4d4a92a8e780a265c73b3b",
      "6c48173d650545eb95cb9fb194b65a0b",
      "d1c82500605548efbbfad3056f5cd138",
      "0934d7c3ef9647f1ac0d1312984498fb",
      "6a21540ae8d54b6e9d1de55d2bc151c0",
      "ddd025c82c59480bbfa19578e8bc9c42",
      "e947f1b8701a4044b88f63b68768798c",
      "dfe41438792e42b79ca6e69782f8d710",
      "7e6d503e46254f45819bdd704de527d3",
      "f6255aca2d5f402cbce04c72a27cdb19",
      "e970028d35a148c28e625418446d4ed3",
      "d5121d3a0a00406c9fbb77fa31eab947",
      "fca654deb31e41f2b759552a1869f584",
      "e4abb0d572564605933a70f1216fd95f",
      "fa27e7a1f8e04398a256b5e2dfec478b",
      "b7e2d75df45f4b478c53e407e285781c",
      "9eebc5ab2b3f4129b74adb173ce3ef88",
      "5f4c3793a3304858a1bad890a19148e5",
      "1c1e4cc54455469488b247dac4d5bd50",
      "26e84f35577d4fa49c6d9f209b35d046",
      "5cddb2e312734fa39451b866f1193241",
      "56922f3f4d3d42468d57020f1e5b6a2b",
      "9da6d161dc0840858505ebf6f29bcdb3",
      "018a37e5bcda44759a5977f9cc62e86e",
      "810aef334f38493887b5587e44b84574",
      "2f5026bbc7b94417acc3dfc955166a1e",
      "0a24a424db9a49fa9b47e30a311d1e70",
      "8fc77a04d3ef4ab5af4035b716722e68",
      "7e45eb78a2fc412c8230fb48aef2bdfb",
      "fdefd223504f4a83afe2d34d930fc623",
      "acb879ef0a5c4ad1958b0bc0b48ce8f3",
      "feb01617219844779ef2e365627012d9",
      "f5cacc818b964224aca6c3841136f5dc",
      "1f22133eacd245b29d482c44a9967c59",
      "02bbbcbbc3274dfd9ea931a74c501e01",
      "170a79d10ad44c20ab338f7e3edca756",
      "be9f2836fd1946538f429b1931bc6e5e",
      "8ff8b7b6ab35460e87399c12de9e2b24",
      "50f4064379114f4eb89a7904eb850dc9",
      "1fe5ddcf78d949e49d7cef86cf757e76",
      "a1a41c38d43d4ad8ab9db969a13757bc",
      "d2a652015fe143ff87c3e9065a7e6227"
     ]
    },
    "id": "-rb-OWvVPVR3",
    "outputId": "6b7f1a4c-b92e-4d0a-dbed-593331d683ad"
   },
   "outputs": [
    {
     "name": "stderr",
     "output_type": "stream",
     "text": [
      "No CUDA runtime is found, using CUDA_HOME='/usr/local/cuda'\n",
      "/usr/local/lib/python3.11/dist-packages/huggingface_hub/utils/_auth.py:94: UserWarning: \n",
      "The secret `HF_TOKEN` does not exist in your Colab secrets.\n",
      "To authenticate with the Hugging Face Hub, create a token in your settings tab (https://huggingface.co/settings/tokens), set it as secret in your Google Colab and restart your session.\n",
      "You will be able to reuse this secret in all of your notebooks.\n",
      "Please note that authentication is recommended but still optional to access public models or datasets.\n",
      "  warnings.warn(\n"
     ]
    },
    {
     "data": {
      "application/vnd.jupyter.widget-view+json": {
       "model_id": "9a6fe04d71d748429a6c1cd96e3d45c2",
       "version_major": 2,
       "version_minor": 0
      },
      "text/plain": [
       "config.json:   0%|          | 0.00/954 [00:00<?, ?B/s]"
      ]
     },
     "metadata": {},
     "output_type": "display_data"
    },
    {
     "data": {
      "application/vnd.jupyter.widget-view+json": {
       "model_id": "6100ae347a2a4464a6b54735c4e915cc",
       "version_major": 2,
       "version_minor": 0
      },
      "text/plain": [
       "model.safetensors:   0%|          | 0.00/261M [00:00<?, ?B/s]"
      ]
     },
     "metadata": {},
     "output_type": "display_data"
    },
    {
     "data": {
      "application/vnd.jupyter.widget-view+json": {
       "model_id": "f6255aca2d5f402cbce04c72a27cdb19",
       "version_major": 2,
       "version_minor": 0
      },
      "text/plain": [
       "tokenizer_config.json:   0%|          | 0.00/257 [00:00<?, ?B/s]"
      ]
     },
     "metadata": {},
     "output_type": "display_data"
    },
    {
     "data": {
      "application/vnd.jupyter.widget-view+json": {
       "model_id": "5cddb2e312734fa39451b866f1193241",
       "version_major": 2,
       "version_minor": 0
      },
      "text/plain": [
       "vocab.txt:   0%|          | 0.00/213k [00:00<?, ?B/s]"
      ]
     },
     "metadata": {},
     "output_type": "display_data"
    },
    {
     "data": {
      "application/vnd.jupyter.widget-view+json": {
       "model_id": "feb01617219844779ef2e365627012d9",
       "version_major": 2,
       "version_minor": 0
      },
      "text/plain": [
       "special_tokens_map.json:   0%|          | 0.00/112 [00:00<?, ?B/s]"
      ]
     },
     "metadata": {},
     "output_type": "display_data"
    },
    {
     "name": "stderr",
     "output_type": "stream",
     "text": [
      "`loss_type=None` was set in the config but it is unrecognised.Using the default loss: `ForCausalLMLoss`.\n"
     ]
    },
    {
     "data": {
      "text/plain": [
       "('ov_models/elastic/distilbert-base-cased-finetuned-conll03-english/tokenizer_config.json',\n",
       " 'ov_models/elastic/distilbert-base-cased-finetuned-conll03-english/special_tokens_map.json',\n",
       " 'ov_models/elastic/distilbert-base-cased-finetuned-conll03-english/vocab.txt',\n",
       " 'ov_models/elastic/distilbert-base-cased-finetuned-conll03-english/added_tokens.json',\n",
       " 'ov_models/elastic/distilbert-base-cased-finetuned-conll03-english/tokenizer.json')"
      ]
     },
     "execution_count": 2,
     "metadata": {},
     "output_type": "execute_result"
    }
   ],
   "source": [
    "from optimum.intel import OVModelForTokenClassification\n",
    "from transformers import AutoTokenizer\n",
    "\n",
    "MODEL_NAME = \"elastic/distilbert-base-cased-finetuned-conll03-english\"\n",
    "EXPORT_PATH = f\"ov_models/{MODEL_NAME}\"\n",
    "\n",
    "ov_model = OVModelForTokenClassification.from_pretrained(MODEL_NAME, export=True)\n",
    "tokenizer = AutoTokenizer.from_pretrained(MODEL_NAME)\n",
    "\n",
    "ov_model.save_pretrained(EXPORT_PATH)\n",
    "tokenizer.save_pretrained(EXPORT_PATH)"
   ]
  },
  {
   "cell_type": "markdown",
   "metadata": {
    "id": "9x9V80PeYMBq"
   },
   "source": [
    "Let's have a look inside these two directories and see what we are dealing with:"
   ]
  },
  {
   "cell_type": "code",
   "execution_count": 6,
   "metadata": {
    "colab": {
     "base_uri": "https://localhost:8080/"
    },
    "id": "1GnV9nJ_YN-B",
    "outputId": "82017e0f-297f-4f15-c275-9a4c797126a7"
   },
   "outputs": [
    {
     "name": "stdout",
     "output_type": "stream",
     "text": [
      "total 255756\n",
      "-rw-r--r-- 1 root root       960 Jun 21 20:43 config.json\n",
      "-rw-r--r-- 1 root root 260795556 Jun 21 20:43 openvino_model.bin\n",
      "-rw-r--r-- 1 root root    194823 Jun 21 20:43 openvino_model.xml\n",
      "-rw-r--r-- 1 root root       125 Jun 21 20:43 special_tokens_map.json\n",
      "-rw-r--r-- 1 root root      1279 Jun 21 20:43 tokenizer_config.json\n",
      "-rw-r--r-- 1 root root    668923 Jun 21 20:43 tokenizer.json\n",
      "-rw-r--r-- 1 root root    213450 Jun 21 20:43 vocab.txt\n"
     ]
    }
   ],
   "source": [
    "!ls -l {EXPORT_PATH}"
   ]
  },
  {
   "cell_type": "markdown",
   "metadata": {
    "id": "lELrpIMPYP5y"
   },
   "source": [
    "- As you can see, we need to move `vocab.txt` from the tokenizer to assets folder which Spark NLP will look for\n",
    "- We also need `labels` and their `ids` which is saved inside the model's config. We will save this inside `labels.txt`"
   ]
  },
  {
   "cell_type": "code",
   "execution_count": 7,
   "metadata": {
    "id": "HSf7yLszYRoK"
   },
   "outputs": [],
   "source": [
    "!mkdir -p {EXPORT_PATH}/assets\n",
    "\n",
    "labels = ov_model.config.label2id\n",
    "labels = sorted(labels, key=labels.get)\n",
    "\n",
    "with open(f\"{EXPORT_PATH}/assets/labels.txt\", \"w\") as f:\n",
    "    f.write(\"\\n\".join(labels))\n",
    "\n",
    "!mv {EXPORT_PATH}/vocab.txt {EXPORT_PATH}/assets"
   ]
  },
  {
   "cell_type": "code",
   "execution_count": 9,
   "metadata": {
    "colab": {
     "base_uri": "https://localhost:8080/"
    },
    "id": "Guvn5W_HYUi_",
    "outputId": "7294a475-e861-4d83-ed82-b125296ba44c"
   },
   "outputs": [
    {
     "name": "stdout",
     "output_type": "stream",
     "text": [
      "ov_models/elastic/distilbert-base-cased-finetuned-conll03-english:\n",
      "total 255548\n",
      "drwxr-xr-x 2 root root      4096 Jun 21 21:25 assets\n",
      "-rw-r--r-- 1 root root       960 Jun 21 20:43 config.json\n",
      "-rw-r--r-- 1 root root 260795556 Jun 21 20:43 openvino_model.bin\n",
      "-rw-r--r-- 1 root root    194823 Jun 21 20:43 openvino_model.xml\n",
      "-rw-r--r-- 1 root root       125 Jun 21 20:43 special_tokens_map.json\n",
      "-rw-r--r-- 1 root root      1279 Jun 21 20:43 tokenizer_config.json\n",
      "-rw-r--r-- 1 root root    668923 Jun 21 20:43 tokenizer.json\n",
      "\n",
      "ov_models/elastic/distilbert-base-cased-finetuned-conll03-english/assets:\n",
      "total 216\n",
      "-rw-r--r-- 1 root root     51 Jun 21 21:25 labels.txt\n",
      "-rw-r--r-- 1 root root 213450 Jun 21 20:43 vocab.txt\n"
     ]
    }
   ],
   "source": [
    "!ls -lR {EXPORT_PATH}"
   ]
  },
  {
   "cell_type": "code",
   "execution_count": 8,
   "metadata": {
    "colab": {
     "base_uri": "https://localhost:8080/"
    },
    "id": "_o10-ckhYY1d",
    "outputId": "2564bb6f-0869-467b-d67f-e7215e8b2a0a"
   },
   "outputs": [
    {
     "name": "stdout",
     "output_type": "stream",
     "text": [
      "O\n",
      "B-PER\n",
      "I-PER\n",
      "B-ORG\n",
      "I-ORG\n",
      "B-LOC\n",
      "I-LOC\n",
      "B-MISC\n",
      "I-MISC"
     ]
    }
   ],
   "source": [
    "!cat {EXPORT_PATH}/assets/labels.txt"
   ]
  },
  {
   "cell_type": "markdown",
   "metadata": {
    "id": "NvW0qWPoYW6m"
   },
   "source": [
    "Voila! We have our `vocab.txt` and `labels.txt` inside assets directory"
   ]
  },
  {
   "cell_type": "markdown",
   "metadata": {
    "id": "DrwxYd4RHYp2"
   },
   "source": [
    "## Import and Save DistilBertForTokenClassification in Spark NLP\n"
   ]
  },
  {
   "cell_type": "markdown",
   "metadata": {
    "id": "cC_TyguzHYp2"
   },
   "source": [
    "- Install and set up Spark NLP in Google Colab\n",
    "- This example uses specific versions of `pyspark` and `spark-nlp` that have been tested with the transformer model to ensure everything runs smoothly."
   ]
  },
  {
   "cell_type": "code",
   "execution_count": 3,
   "metadata": {
    "colab": {
     "base_uri": "https://localhost:8080/"
    },
    "id": "JVMWV_Q7HYp2",
    "outputId": "6e7a4f7c-ee5e-47b4-ed6d-a4ba2f653f0c"
   },
   "outputs": [
    {
     "name": "stdout",
     "output_type": "stream",
     "text": [
      "\u001b[2K     \u001b[90m━━━━━━━━━━━━━━━━━━━━━━━━━━━━━━━━━━━━━━━\u001b[0m \u001b[32m317.3/317.3 MB\u001b[0m \u001b[31m2.6 MB/s\u001b[0m eta \u001b[36m0:00:00\u001b[0m\n",
      "\u001b[?25h  Preparing metadata (setup.py) ... \u001b[?25l\u001b[?25hdone\n",
      "\u001b[2K   \u001b[90m━━━━━━━━━━━━━━━━━━━━━━━━━━━━━━━━━━━━━━━━\u001b[0m \u001b[32m635.7/635.7 kB\u001b[0m \u001b[31m31.4 MB/s\u001b[0m eta \u001b[36m0:00:00\u001b[0m\n",
      "\u001b[?25h  Building wheel for pyspark (setup.py) ... \u001b[?25l\u001b[?25hdone\n"
     ]
    }
   ],
   "source": [
    "!pip install -q pyspark==3.5.4 spark-nlp==5.5.3"
   ]
  },
  {
   "cell_type": "markdown",
   "metadata": {
    "id": "RxUUwTnIHYp2"
   },
   "source": [
    "Let's start Spark with Spark NLP included via our simple `start()` function"
   ]
  },
  {
   "cell_type": "code",
   "execution_count": 4,
   "metadata": {
    "colab": {
     "base_uri": "https://localhost:8080/"
    },
    "id": "FdRVsJXgHYp2",
    "outputId": "699ffae5-3109-4aea-c086-a574415ff36e"
   },
   "outputs": [
    {
     "name": "stdout",
     "output_type": "stream",
     "text": [
      "Spark NLP version: 5.5.3\n",
      "Apache Spark version: 3.5.4\n"
     ]
    }
   ],
   "source": [
    "import sparknlp\n",
    "\n",
    "spark = sparknlp.start()\n",
    "\n",
    "print(\"Spark NLP version: {}\".format(sparknlp.version()))\n",
    "print(\"Apache Spark version: {}\".format(spark.version))"
   ]
  },
  {
   "cell_type": "markdown",
   "metadata": {
    "id": "0lQLoMVOHYp2"
   },
   "source": [
    "- Let's use `loadSavedModel` functon in `DistilBertForTokenClassification` which allows us to load TensorFlow model in SavedModel format\n",
    "- Most params can be set later when you are loading this model in `DistilBertForTokenClassification` in runtime like `setMaxSentenceLength`, so don't worry what you are setting them now\n",
    "- `loadSavedModel` accepts two params, first is the path to the TF SavedModel. The second is the SparkSession that is `spark` variable we previously started via `sparknlp.start()`\n",
    "- NOTE: `loadSavedModel` accepts local paths in addition to distributed file systems such as `HDFS`, `S3`, `DBFS`, etc. This feature was introduced in Spark NLP 4.2.2 release. Keep in mind the best and recommended way to move/share/reuse Spark NLP models is to use `write.save` so you can use `.load()` from any file systems natively.st and recommended way to move/share/reuse Spark NLP models is to use `write.save` so you can use `.load()` from any file systems natively.\n",
    "\n"
   ]
  },
  {
   "cell_type": "code",
   "execution_count": 10,
   "metadata": {
    "id": "rR-rrKb4HYp2"
   },
   "outputs": [],
   "source": [
    "from sparknlp.annotator import DistilBertForTokenClassification\n",
    "\n",
    "tokenClassifier = DistilBertForTokenClassification.loadSavedModel(\n",
    "     EXPORT_PATH,\n",
    "     spark\n",
    " )\\\n",
    " .setInputCols([\"document\",'token'])\\\n",
    " .setOutputCol(\"ner\")\\\n",
    " .setCaseSensitive(True)\\\n",
    " .setMaxSentenceLength(128)"
   ]
  },
  {
   "cell_type": "markdown",
   "metadata": {
    "id": "zdy8WefiHYp2"
   },
   "source": [
    "- Let's save it on disk so it is easier to be moved around and also be used later via `.load` function"
   ]
  },
  {
   "cell_type": "code",
   "execution_count": 11,
   "metadata": {
    "id": "md6t6o_iHYp2"
   },
   "outputs": [],
   "source": [
    "tokenClassifier.write().overwrite().save(\"./{}_spark_nlp_openvino\".format(EXPORT_PATH))"
   ]
  },
  {
   "cell_type": "markdown",
   "metadata": {
    "id": "eKvq9ksMHYp2"
   },
   "source": [
    "Let's clean up stuff we don't need anymore"
   ]
  },
  {
   "cell_type": "code",
   "execution_count": 12,
   "metadata": {
    "id": "kiEuvbjLHYp2"
   },
   "outputs": [],
   "source": [
    "!rm -rf {EXPORT_PATH}"
   ]
  },
  {
   "cell_type": "markdown",
   "metadata": {
    "id": "myriIS3SHYp2"
   },
   "source": [
    "Awesome 😎  !\n",
    "\n",
    "This is your DistilBertForTokenClassification model from HuggingFace 🤗  loaded and saved by Spark NLP 🚀"
   ]
  },
  {
   "cell_type": "code",
   "execution_count": 13,
   "metadata": {
    "colab": {
     "base_uri": "https://localhost:8080/"
    },
    "id": "DbwbRMZFHYp2",
    "outputId": "9694a368-aae6-4907-e920-6ccc48134115"
   },
   "outputs": [
    {
     "name": "stdout",
     "output_type": "stream",
     "text": [
      "total 254924\n",
      "-rw-r--r-- 1 root root 261030482 Jun 21 21:27 distilbert_classification_openvino\n",
      "drwxr-xr-x 4 root root      4096 Jun 21 21:27 fields\n",
      "drwxr-xr-x 2 root root      4096 Jun 21 21:27 metadata\n"
     ]
    }
   ],
   "source": [
    "! ls -l {EXPORT_PATH}_spark_nlp_openvino"
   ]
  },
  {
   "cell_type": "markdown",
   "metadata": {
    "id": "G1rfb-3NHYp2"
   },
   "source": [
    "Now let's see how we can use it on other machines, clusters, or any place you wish to use your new and shiny DitilBertForTokenClassification model 😊"
   ]
  },
  {
   "cell_type": "code",
   "execution_count": 14,
   "metadata": {
    "id": "Ocqbt1KHHYp2"
   },
   "outputs": [],
   "source": [
    "tokenClassifier_loaded = DistilBertForTokenClassification.load(\"./{}_spark_nlp_openvino\".format(EXPORT_PATH))\\\n",
    "  .setInputCols([\"document\",'token'])\\\n",
    "  .setOutputCol(\"ner\")"
   ]
  },
  {
   "cell_type": "markdown",
   "metadata": {
    "id": "MkNRVG2HHYp3"
   },
   "source": [
    "You can see what labels were used to train this model via `getClasses` function:"
   ]
  },
  {
   "cell_type": "code",
   "execution_count": 15,
   "metadata": {
    "colab": {
     "base_uri": "https://localhost:8080/"
    },
    "id": "jB0CH821HYp3",
    "outputId": "183d18be-27f8-4103-9bfc-8de5d6da416e"
   },
   "outputs": [
    {
     "data": {
      "text/plain": [
       "['B-LOC', 'I-ORG', 'I-MISC', 'I-LOC', 'I-PER', 'B-MISC', 'B-ORG', 'O', 'B-PER']"
      ]
     },
     "execution_count": 15,
     "metadata": {},
     "output_type": "execute_result"
    }
   ],
   "source": [
    "tokenClassifier_loaded.getClasses()"
   ]
  },
  {
   "cell_type": "markdown",
   "metadata": {
    "id": "QzPhsmf6HYp3"
   },
   "source": [
    "This is how you can use your loaded classifier model in Spark NLP 🚀 pipeline:"
   ]
  },
  {
   "cell_type": "code",
   "execution_count": 16,
   "metadata": {
    "colab": {
     "base_uri": "https://localhost:8080/"
    },
    "id": "kYwq0_1lHYp3",
    "outputId": "2edf61ff-4972-4102-f7a6-a348130a9c2c"
   },
   "outputs": [
    {
     "name": "stdout",
     "output_type": "stream",
     "text": [
      "+--------------------------------------------------------------------------------------+-----------------------------------------------------------------------+\n",
      "|text                                                                                  |result                                                                 |\n",
      "+--------------------------------------------------------------------------------------+-----------------------------------------------------------------------+\n",
      "|Barack Obama was born in Hawaii and served as the 44th President of the United States.|[B-PER, I-PER, O, O, O, B-LOC, O, O, O, O, O, O, O, O, B-LOC, I-LOC, O]|\n",
      "|Google was founded in September 1998 by Larry Page and Sergey Brin in California.     |[B-ORG, O, O, O, O, O, O, B-PER, I-PER, O, B-PER, I-PER, O, B-LOC, O]  |\n",
      "|The Eiffel Tower is located in Paris and was completed in 1889.                       |[O, B-ORG, I-LOC, O, O, O, B-LOC, O, O, O, O, O, O]                    |\n",
      "+--------------------------------------------------------------------------------------+-----------------------------------------------------------------------+\n",
      "\n",
      "+-------------+------+\n",
      "|text         |entity|\n",
      "+-------------+------+\n",
      "|Barack Obama |PER   |\n",
      "|Hawaii       |LOC   |\n",
      "|United States|LOC   |\n",
      "|Google       |ORG   |\n",
      "|Larry Page   |PER   |\n",
      "|Sergey Brin  |PER   |\n",
      "|California   |LOC   |\n",
      "|Eiffel Tower |ORG   |\n",
      "|Paris        |LOC   |\n",
      "+-------------+------+\n",
      "\n"
     ]
    }
   ],
   "source": [
    "from sparknlp.base import DocumentAssembler\n",
    "from sparknlp.annotator import Tokenizer, NerConverter\n",
    "from pyspark.ml import Pipeline\n",
    "\n",
    "document_assembler = DocumentAssembler() \\\n",
    "    .setInputCol('text') \\\n",
    "    .setOutputCol('document')\n",
    "\n",
    "tokenizer = Tokenizer() \\\n",
    "    .setInputCols(['document']) \\\n",
    "    .setOutputCol('token')\n",
    "\n",
    "converter = NerConverter() \\\n",
    "    .setInputCols([\"document\", \"token\", \"ner\"]) \\\n",
    "    .setOutputCol(\"ner_chunk\")\n",
    "\n",
    "pipeline = Pipeline(stages=[\n",
    "    document_assembler,\n",
    "    tokenizer,\n",
    "    tokenClassifier_loaded,\n",
    "    converter\n",
    "])\n",
    "\n",
    "example = spark.createDataFrame([\n",
    "    [\"Barack Obama was born in Hawaii and served as the 44th President of the United States.\"],\n",
    "    [\"Google was founded in September 1998 by Larry Page and Sergey Brin in California.\"],\n",
    "    [\"The Eiffel Tower is located in Paris and was completed in 1889.\"],\n",
    "]).toDF(\"text\")\n",
    "\n",
    "model = pipeline.fit(example)\n",
    "result = model.transform(example)\n",
    "\n",
    "result.select(\"text\", \"ner.result\").show(truncate=False)\n",
    "\n",
    "result.selectExpr(\"explode(ner_chunk) as chunk\").selectExpr(\n",
    "    \"chunk.result as text\",\n",
    "    \"chunk.metadata['entity'] as entity\"\n",
    ").show(truncate=False)"
   ]
  },
  {
   "cell_type": "markdown",
   "metadata": {
    "id": "ZsO7aM8QHYp3"
   },
   "source": [
    "That's it! You can now go wild and use hundreds of `DistlBertForTokenClassification` models from HuggingFace 🤗 in Spark NLP 🚀\n"
   ]
  }
 ],
 "metadata": {
  "colab": {
   "provenance": []
  },
  "kernelspec": {
   "display_name": "Python 3",
   "language": "python",
   "name": "python3"
  },
  "language_info": {
   "codemirror_mode": {
    "name": "ipython",
    "version": 3
   },
   "file_extension": ".py",
   "mimetype": "text/x-python",
   "name": "python",
   "nbconvert_exporter": "python",
   "pygments_lexer": "ipython3",
   "version": "3.10.12"
  }
 },
 "nbformat": 4,
 "nbformat_minor": 0
}
