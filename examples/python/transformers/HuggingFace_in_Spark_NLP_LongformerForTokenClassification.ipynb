{
 "cells": [
  {
   "cell_type": "markdown",
   "metadata": {
    "id": "1PWUFrpZgHKD"
   },
   "source": [
    "![JohnSnowLabs](https://sparknlp.org/assets/images/logo.png)\n",
    "\n",
    "[![Open In Colab](https://colab.research.google.com/assets/colab-badge.svg)](https://colab.research.google.com/github/JohnSnowLabs/spark-nlp/blob/master/examples/python/transformers/HuggingFace_in_Spark_NLP_LongformerForTokenClassification.ipynb)"
   ]
  },
  {
   "cell_type": "markdown",
   "metadata": {
    "id": "6bz7VCimgHKI"
   },
   "source": [
    "## Import LongformerForTokenClassification models from HuggingFace 🤗 into Spark NLP 🚀\n",
    "\n",
    "Let's keep in mind a few things before we start 😊\n",
    "\n",
    "- This feature is only in `Spark NLP 4.0.0` and after. So please make sure you have upgraded to the latest Spark NLP release\n",
    "- You can import Longformer models trained/fine-tuned for token classification via `LongformerForTokenClassification` or `TFLongformerForTokenClassification`. These models are usually under `Token Clasification` category and have `longformer` in their labels\n",
    "- Reference: [TFLongformerForTokenClassification](https://huggingface.co/docs/transformers/model_doc/longformer#transformers.TFLongformerForTokenClassification)\n",
    "- Some [example models](https://huggingface.co/models?filter=longformer&pipeline_tag=token-classification)"
   ]
  },
  {
   "cell_type": "markdown",
   "metadata": {
    "id": "BgkpHv7ygHKJ"
   },
   "source": [
    "## Export and Save HuggingFace model"
   ]
  },
  {
   "cell_type": "markdown",
   "metadata": {
    "id": "x9eVu0AegHKK"
   },
   "source": [
    "- Let's install `HuggingFace` and `TensorFlow`. You don't need `TensorFlow` to be installed for Spark NLP, however, we need it to load and save models from HuggingFace.\n",
    "- We lock TensorFlow on `2.7.1` version and Transformers on `4.39.3`. This doesn't mean it won't work with the future releases, but we wanted you to know which versions have been tested successfully.\n",
    "- DeBERTa v2&v3 use SentencePiece, so we will have to install that as well\n"
   ]
  },
  {
   "cell_type": "code",
   "execution_count": 1,
   "metadata": {
    "colab": {
     "base_uri": "https://localhost:8080/"
    },
    "id": "aA2LO6UDgHKK",
    "outputId": "822c5ddd-4404-4408-8eed-3045dbedcb2e"
   },
   "outputs": [
    {
     "name": "stdout",
     "output_type": "stream",
     "text": [
      "\u001b[2K     \u001b[90m━━━━━━━━━━━━━━━━━━━━━━━━━━━━━━━━━━━━━━━━\u001b[0m \u001b[32m8.8/8.8 MB\u001b[0m \u001b[31m15.1 MB/s\u001b[0m eta \u001b[36m0:00:00\u001b[0m\n",
      "\u001b[2K     \u001b[90m━━━━━━━━━━━━━━━━━━━━━━━━━━━━━━━━━━━━━━━━\u001b[0m \u001b[32m588.3/588.3 MB\u001b[0m \u001b[31m1.3 MB/s\u001b[0m eta \u001b[36m0:00:00\u001b[0m\n",
      "\u001b[2K     \u001b[90m━━━━━━━━━━━━━━━━━━━━━━━━━━━━━━━━━━━━━━━━\u001b[0m \u001b[32m1.7/1.7 MB\u001b[0m \u001b[31m34.0 MB/s\u001b[0m eta \u001b[36m0:00:00\u001b[0m\n",
      "\u001b[2K     \u001b[90m━━━━━━━━━━━━━━━━━━━━━━━━━━━━━━━━━━━━━━━━\u001b[0m \u001b[32m1.1/1.1 MB\u001b[0m \u001b[31m39.4 MB/s\u001b[0m eta \u001b[36m0:00:00\u001b[0m\n",
      "\u001b[2K     \u001b[90m━━━━━━━━━━━━━━━━━━━━━━━━━━━━━━━━━━━━━━━━\u001b[0m \u001b[32m6.0/6.0 MB\u001b[0m \u001b[31m49.5 MB/s\u001b[0m eta \u001b[36m0:00:00\u001b[0m\n",
      "\u001b[2K     \u001b[90m━━━━━━━━━━━━━━━━━━━━━━━━━━━━━━━━━━━━━━━━\u001b[0m \u001b[32m439.2/439.2 kB\u001b[0m \u001b[31m18.9 MB/s\u001b[0m eta \u001b[36m0:00:00\u001b[0m\n",
      "\u001b[2K     \u001b[90m━━━━━━━━━━━━━━━━━━━━━━━━━━━━━━━━━━━━━━━━\u001b[0m \u001b[32m4.9/4.9 MB\u001b[0m \u001b[31m58.8 MB/s\u001b[0m eta \u001b[36m0:00:00\u001b[0m\n",
      "\u001b[2K     \u001b[90m━━━━━━━━━━━━━━━━━━━━━━━━━━━━━━━━━━━━━━━━\u001b[0m \u001b[32m781.3/781.3 kB\u001b[0m \u001b[31m30.9 MB/s\u001b[0m eta \u001b[36m0:00:00\u001b[0m\n",
      "\u001b[?25h\u001b[31mERROR: pip's dependency resolver does not currently take into account all the packages that are installed. This behaviour is the source of the following dependency conflicts.\n",
      "pandas-gbq 0.19.2 requires google-auth-oauthlib>=0.7.0, but you have google-auth-oauthlib 0.4.6 which is incompatible.\n",
      "tensorflow-datasets 4.9.4 requires protobuf>=3.20, but you have protobuf 3.19.6 which is incompatible.\n",
      "tensorflow-metadata 1.14.0 requires protobuf<4.21,>=3.20.3, but you have protobuf 3.19.6 which is incompatible.\n",
      "tf-keras 2.15.1 requires tensorflow<2.16,>=2.15, but you have tensorflow 2.11.0 which is incompatible.\u001b[0m\u001b[31m\n",
      "\u001b[0m"
     ]
    }
   ],
   "source": [
    "!pip install -q transformers==4.39.3 tensorflow==2.11.0 sentencepiece"
   ]
  },
  {
   "cell_type": "markdown",
   "metadata": {
    "id": "jhhVzN8lgHKM"
   },
   "source": [
    "- HuggingFace comes with a native `saved_model` feature inside `save_pretrained` function for TensorFlow based models. We will use that to save it as TF `SavedModel`.\n",
    "- We'll use [hewonty/longformer-ner-finetuned-pii](https://huggingface.co/valhalla/hewonty/longformer-ner-finetuned-pii) model from HuggingFace as an example\n",
    "- In addition to `TFLongformerForTokenClassification` we also need to save the `LongformerTokenizer`. This is the same for every model, these are assets needed for tokenization inside Spark NLP."
   ]
  },
  {
   "cell_type": "code",
   "execution_count": 2,
   "metadata": {
    "colab": {
     "base_uri": "https://localhost:8080/",
     "height": 660,
     "referenced_widgets": [
      "f299e5bb8c9942c9b345017e147f76cb",
      "410c3ccb725a46a685bc03c6bd08431d",
      "b3c7b4a79d0f47ea97228924074ef539",
      "58b9ba53cebb4f1fa1a67bc4a2ef8f02",
      "d25097353f7946c799e9b842b6ddcd23",
      "8fc235ae7f934d97ba5180efa576c174",
      "27b36770223d44c9a1151338265e5061",
      "6bbb113e3d4244a58bdbfecfafe159c5",
      "4c472d196edb4388ab420324e877ee1d",
      "55959bed2b234ca094248ea907be12da",
      "9859113906f54397b2bf587d8c6597e8",
      "13382dc2608742a5bcadef7fefe55588",
      "9f5e986d1f454a8bbbeaf73fc93b049f",
      "c14e8b9a83e24133a4c6b5e4d734f902",
      "73f0b3190c09478d92a3077f48766251",
      "626029e108064daa8c4898547770fabd",
      "d7b617037d6a438ea143cbe816b76acb",
      "802ed13326eb4be0b0a77edaeb45b8a6",
      "bc94d16aba624ff9b2346fdc7c0d0e9c",
      "1f14a711d77e498280f068831cf75fbc",
      "410ce08903744063b13b0a2fd85104f4",
      "96a480005a0443188318f04243e60bfc",
      "582dfa67998641c4b3cb76131767992a",
      "61e358c301924c22a199073708c622a1",
      "56deb73083984e8995c09e0460a28e05",
      "fd7354fc175c4563831bb63c5ef543db",
      "9e0606910ba34fec9d2cdb871f5062f5",
      "db3c1be6f2cf4468860ff31c3795721d",
      "cda829b7b11a4a80a903bc067b6ebcf9",
      "42e93d274eff454fa3d361dd64c3ea9e",
      "e2c62eb055c44ebea114735ee3850a13",
      "fce08e7909ca496d8a55986091e2290d",
      "f23d21db75bf43249af0d2368255a0a3",
      "f1cdced7212b43c69ccdc98a904a757e",
      "2bf03dcc37ce41e693c947baeb324246",
      "ad096592b35d4d1d81298fbdd51b7ce7",
      "6f1b626f67894ac087004d73e45e3f47",
      "0f51cbdbb20b41eaa946864af6f7eb22",
      "e42383623f4f4b71bdb82e494f1d19ca",
      "1a6a9438273b482a973a9a54e319c454",
      "8fc133b3f0254e93a7e8f802bf008206",
      "1080192805ac4d4c8a8add4697ee1932",
      "9f261849545e4633901155801b9a2e66",
      "682287e915e245c5883a8761c10c0f01",
      "7c43b0b212d9434c9d474eb530c025a3",
      "7fd164be6e7a41ef821df910473ecb3a",
      "2ab2f5be6d3e48189541f6de671c955f",
      "9c55c7524b41413196dde3006d2d74b7",
      "adf7228e748b4bd9bd14729f2dc27b73",
      "7f9e5ea543c045bc99982328cf3b52b8",
      "613ab0a1f3a04ef8893ffe03655bc080",
      "3ac30bdc97cd41809df6b7139bd3f637",
      "56d368169590499bb692543d84dd8daf",
      "e8f4c5bc92f24b8cb164565b7633b7c8",
      "de59c170b16b4951a326a9713876dc37",
      "124f177220a7423e96b97b2bb602f21a",
      "ab3dd2147c7e44ba842c26be2ef7e146",
      "2bca782a14e549c29a27070c2e16ec33",
      "dbe6549d534046d494245110bfb5e44a",
      "145e86a81af44228be34587f055068f0",
      "b31205e5c59643bb9dc547acff05e3eb",
      "d741bcb54e75493ebea28cd77d64dffa",
      "6911a030032b4dce82a1dc9f4e00ddfd",
      "dc562fa3d9ae4c28a0251087f754d66e",
      "cca05d6baa17447bb2cd394b3b9e191d",
      "16f119a84b8342419b6bcb27bb750b90",
      "ab66363e3fa547a7bae18ff85942c932",
      "617f10ca771e4ef591fab132470e8cb4",
      "805375209de34d8ab966c642ec42eb19",
      "5e51949b406c4024afe6268dcd7f2637",
      "f23a479896724f0fa86630b7c23f664e",
      "9d42973ed33f412a83f507e86a39eb4b",
      "0d53df5e3a27446d9199adf56ad7c552",
      "9406b06b48b44aa8901fb3630a7154e4",
      "d1aebded3cc6495fbc98be116224eda0",
      "8ed8ab96862c4c06b46bd795f49ed48c",
      "812e4c4028964088bb81f4bd6866704e"
     ]
    },
    "id": "v9eCTlVSgHKM",
    "outputId": "2d312add-15e4-4a23-bf07-928a30776ce3"
   },
   "outputs": [
    {
     "name": "stderr",
     "output_type": "stream",
     "text": [
      "/usr/local/lib/python3.10/dist-packages/huggingface_hub/utils/_token.py:88: UserWarning: \n",
      "The secret `HF_TOKEN` does not exist in your Colab secrets.\n",
      "To authenticate with the Hugging Face Hub, create a token in your settings tab (https://huggingface.co/settings/tokens), set it as secret in your Google Colab and restart your session.\n",
      "You will be able to reuse this secret in all of your notebooks.\n",
      "Please note that authentication is recommended but still optional to access public models or datasets.\n",
      "  warnings.warn(\n"
     ]
    },
    {
     "data": {
      "application/vnd.jupyter.widget-view+json": {
       "model_id": "f299e5bb8c9942c9b345017e147f76cb",
       "version_major": 2,
       "version_minor": 0
      },
      "text/plain": [
       "tokenizer_config.json:   0%|          | 0.00/1.22k [00:00<?, ?B/s]"
      ]
     },
     "metadata": {},
     "output_type": "display_data"
    },
    {
     "data": {
      "application/vnd.jupyter.widget-view+json": {
       "model_id": "13382dc2608742a5bcadef7fefe55588",
       "version_major": 2,
       "version_minor": 0
      },
      "text/plain": [
       "vocab.json:   0%|          | 0.00/798k [00:00<?, ?B/s]"
      ]
     },
     "metadata": {},
     "output_type": "display_data"
    },
    {
     "data": {
      "application/vnd.jupyter.widget-view+json": {
       "model_id": "582dfa67998641c4b3cb76131767992a",
       "version_major": 2,
       "version_minor": 0
      },
      "text/plain": [
       "merges.txt:   0%|          | 0.00/456k [00:00<?, ?B/s]"
      ]
     },
     "metadata": {},
     "output_type": "display_data"
    },
    {
     "data": {
      "application/vnd.jupyter.widget-view+json": {
       "model_id": "f1cdced7212b43c69ccdc98a904a757e",
       "version_major": 2,
       "version_minor": 0
      },
      "text/plain": [
       "special_tokens_map.json:   0%|          | 0.00/280 [00:00<?, ?B/s]"
      ]
     },
     "metadata": {},
     "output_type": "display_data"
    },
    {
     "data": {
      "application/vnd.jupyter.widget-view+json": {
       "model_id": "7c43b0b212d9434c9d474eb530c025a3",
       "version_major": 2,
       "version_minor": 0
      },
      "text/plain": [
       "tokenizer.json:   0%|          | 0.00/2.11M [00:00<?, ?B/s]"
      ]
     },
     "metadata": {},
     "output_type": "display_data"
    },
    {
     "data": {
      "application/vnd.jupyter.widget-view+json": {
       "model_id": "124f177220a7423e96b97b2bb602f21a",
       "version_major": 2,
       "version_minor": 0
      },
      "text/plain": [
       "config.json:   0%|          | 0.00/1.54k [00:00<?, ?B/s]"
      ]
     },
     "metadata": {},
     "output_type": "display_data"
    },
    {
     "data": {
      "application/vnd.jupyter.widget-view+json": {
       "model_id": "ab66363e3fa547a7bae18ff85942c932",
       "version_major": 2,
       "version_minor": 0
      },
      "text/plain": [
       "model.safetensors:   0%|          | 0.00/592M [00:00<?, ?B/s]"
      ]
     },
     "metadata": {},
     "output_type": "display_data"
    },
    {
     "name": "stderr",
     "output_type": "stream",
     "text": [
      "/usr/local/lib/python3.10/dist-packages/keras/initializers/initializers_v2.py:120: UserWarning: The initializer TruncatedNormal is unseeded and being called multiple times, which will return identical values  each time (even if the initializer is unseeded). Please update your code to provide a seed to the initializer, or avoid using the same initalizer instance more than once.\n",
      "  warnings.warn(\n",
      "/usr/local/lib/python3.10/dist-packages/keras/initializers/initializers_v2.py:120: UserWarning: The initializer TruncatedNormal is unseeded and being called multiple times, which will return identical values  each time (even if the initializer is unseeded). Please update your code to provide a seed to the initializer, or avoid using the same initalizer instance more than once.\n",
      "  warnings.warn(\n",
      "/usr/local/lib/python3.10/dist-packages/keras/initializers/initializers_v2.py:120: UserWarning: The initializer TruncatedNormal is unseeded and being called multiple times, which will return identical values  each time (even if the initializer is unseeded). Please update your code to provide a seed to the initializer, or avoid using the same initalizer instance more than once.\n",
      "  warnings.warn(\n",
      "/usr/local/lib/python3.10/dist-packages/keras/initializers/initializers_v2.py:120: UserWarning: The initializer TruncatedNormal is unseeded and being called multiple times, which will return identical values  each time (even if the initializer is unseeded). Please update your code to provide a seed to the initializer, or avoid using the same initalizer instance more than once.\n",
      "  warnings.warn(\n",
      "/usr/local/lib/python3.10/dist-packages/keras/initializers/initializers_v2.py:120: UserWarning: The initializer TruncatedNormal is unseeded and being called multiple times, which will return identical values  each time (even if the initializer is unseeded). Please update your code to provide a seed to the initializer, or avoid using the same initalizer instance more than once.\n",
      "  warnings.warn(\n",
      "/usr/local/lib/python3.10/dist-packages/keras/initializers/initializers_v2.py:120: UserWarning: The initializer TruncatedNormal is unseeded and being called multiple times, which will return identical values  each time (even if the initializer is unseeded). Please update your code to provide a seed to the initializer, or avoid using the same initalizer instance more than once.\n",
      "  warnings.warn(\n",
      "All PyTorch model weights were used when initializing TFLongformerForTokenClassification.\n",
      "\n",
      "All the weights of TFLongformerForTokenClassification were initialized from the PyTorch model.\n",
      "If your task is similar to the task the model of the checkpoint was trained on, you can already use TFLongformerForTokenClassification for predictions without further training.\n",
      "WARNING:absl:Found untraced functions such as serving, embeddings_layer_call_fn, embeddings_layer_call_and_return_conditional_losses, encoder_layer_call_fn, encoder_layer_call_and_return_conditional_losses while saving (showing 5 of 513). These functions will not be directly callable after loading.\n"
     ]
    }
   ],
   "source": [
    "from transformers import TFLongformerForTokenClassification, LongformerTokenizer\n",
    "import tensorflow as tf\n",
    "\n",
    "MODEL_NAME = 'hewonty/longformer-ner-finetuned-pii'\n",
    "\n",
    "tokenizer = LongformerTokenizer.from_pretrained(MODEL_NAME)\n",
    "tokenizer.save_pretrained('./{}_tokenizer/'.format(MODEL_NAME))\n",
    "\n",
    "try:\n",
    "  model = TFLongformerForTokenClassification.from_pretrained(MODEL_NAME)\n",
    "except:\n",
    "  model = TFLongformerForTokenClassification.from_pretrained(MODEL_NAME, from_pt=True)\n",
    "\n",
    "# Define TF Signature\n",
    "@tf.function(\n",
    "  input_signature=[\n",
    "      {\n",
    "          \"input_ids\": tf.TensorSpec((None, None), tf.int32, name=\"input_ids\"),\n",
    "          \"attention_mask\": tf.TensorSpec((None, None), tf.int32, name=\"attention_mask\")\n",
    "      }\n",
    "  ]\n",
    ")\n",
    "def serving_fn(input):\n",
    "    return model(input)\n",
    "\n",
    "model.save_pretrained(\"./{}\".format(MODEL_NAME), saved_model=True, signatures={\"serving_default\": serving_fn})"
   ]
  },
  {
   "cell_type": "markdown",
   "metadata": {
    "id": "IaiaDsdsgHKN"
   },
   "source": [
    "Let's have a look inside these two directories and see what we are dealing with:"
   ]
  },
  {
   "cell_type": "code",
   "execution_count": 3,
   "metadata": {
    "colab": {
     "base_uri": "https://localhost:8080/"
    },
    "id": "fjfPlttegHKN",
    "outputId": "3e8732e4-5dc9-405c-ee28-64ea8e165569"
   },
   "outputs": [
    {
     "name": "stdout",
     "output_type": "stream",
     "text": [
      "total 578784\n",
      "-rw-r--r-- 1 root root      1552 Apr 12 12:01 config.json\n",
      "drwxr-xr-x 3 root root      4096 Apr 12 12:01 saved_model\n",
      "-rw-r--r-- 1 root root 592662032 Apr 12 12:01 tf_model.h5\n"
     ]
    }
   ],
   "source": [
    "!ls -l {MODEL_NAME}"
   ]
  },
  {
   "cell_type": "code",
   "execution_count": 4,
   "metadata": {
    "colab": {
     "base_uri": "https://localhost:8080/"
    },
    "id": "xSolx0OZgHKN",
    "outputId": "83bd9b3f-35e1-4af2-b037-e24bc22629cc"
   },
   "outputs": [
    {
     "name": "stdout",
     "output_type": "stream",
     "text": [
      "total 74340\n",
      "drwxr-xr-x 2 root root     4096 Apr 12 12:01 assets\n",
      "-rw-r--r-- 1 root root       53 Apr 12 12:01 fingerprint.pb\n",
      "-rw-r--r-- 1 root root   201740 Apr 12 12:01 keras_metadata.pb\n",
      "-rw-r--r-- 1 root root 75906237 Apr 12 12:01 saved_model.pb\n",
      "drwxr-xr-x 2 root root     4096 Apr 12 12:01 variables\n"
     ]
    }
   ],
   "source": [
    "!ls -l {MODEL_NAME}/saved_model/1"
   ]
  },
  {
   "cell_type": "code",
   "execution_count": 5,
   "metadata": {
    "colab": {
     "base_uri": "https://localhost:8080/"
    },
    "id": "KkZWkMJHgHKO",
    "outputId": "f36f6e08-f9e2-4d27-8b20-d0b360a2e5f9"
   },
   "outputs": [
    {
     "name": "stdout",
     "output_type": "stream",
     "text": [
      "total 1432\n",
      "-rw-r--r-- 1 root root 456318 Apr 12 11:54 merges.txt\n",
      "-rw-r--r-- 1 root root    958 Apr 12 11:54 special_tokens_map.json\n",
      "-rw-r--r-- 1 root root   1218 Apr 12 11:54 tokenizer_config.json\n",
      "-rw-r--r-- 1 root root 999355 Apr 12 11:54 vocab.json\n"
     ]
    }
   ],
   "source": [
    "!ls -l {MODEL_NAME}_tokenizer"
   ]
  },
  {
   "cell_type": "markdown",
   "metadata": {
    "id": "4-ZSOxzogHKO"
   },
   "source": [
    "- As you can see, we need the SavedModel from `saved_model/1/` path\n",
    "- We also be needing `vocab.json` and `merges.txt` files from the tokenizer\n",
    "- All we need is to first convert vocab.json to `vocab.txt` and copy both `vocab.txt` and `merges.txt` into saved_model/1/assets which Spark NLP will look for"
   ]
  },
  {
   "cell_type": "code",
   "execution_count": 6,
   "metadata": {
    "colab": {
     "base_uri": "https://localhost:8080/"
    },
    "id": "TdPWuOFngHKO",
    "outputId": "74a0c15e-3a1d-4164-cfbf-237f98bea11f"
   },
   "outputs": [
    {
     "name": "stdout",
     "output_type": "stream",
     "text": [
      "['B-EMAIL', 'B-ID_NUM', 'B-NAME_STUDENT', 'B-PHONE_NUM', 'B-STREET_ADDRESS', 'B-URL_PERSONAL', 'B-USERNAME', 'I-ID_NUM', 'I-NAME_STUDENT', 'I-PHONE_NUM', 'I-STREET_ADDRESS', 'I-URL_PERSONAL', 'O']\n"
     ]
    }
   ],
   "source": [
    "asset_path = '{}/saved_model/1/assets'.format(MODEL_NAME)\n",
    "\n",
    "# let's save the vocab as txt file\n",
    "with open('{}_tokenizer/vocab.txt'.format(MODEL_NAME), 'w') as f:\n",
    "    for item in tokenizer.get_vocab().keys():\n",
    "        f.write(\"%s\\n\" % item)\n",
    "\n",
    "\n",
    "# get label strings\n",
    "labels = [model.config.id2label[l] for l, v in model.config.id2label.items()]\n",
    "print(labels)\n",
    "\n",
    "with open(asset_path+'/labels.txt', 'w') as f:\n",
    "    f.write('\\n'.join(labels))\n",
    "\n",
    "# let's copy both vocab.txt and merges.txt files to saved_model/1/assets\n",
    "!cp {MODEL_NAME}_tokenizer/merges.txt {asset_path}\n",
    "!cp {MODEL_NAME}_tokenizer/vocab.txt {asset_path}"
   ]
  },
  {
   "cell_type": "markdown",
   "metadata": {
    "id": "rAENENn5gHKP"
   },
   "source": [
    "Voila! We have our `vocab.txt`, `merges.txt` and `labels.txt` inside assets directory"
   ]
  },
  {
   "cell_type": "code",
   "execution_count": 7,
   "metadata": {
    "colab": {
     "base_uri": "https://localhost:8080/"
    },
    "id": "ok7caZFZgHKP",
    "outputId": "a3edd63b-255f-43c7-9ec9-3145801f8351"
   },
   "outputs": [
    {
     "name": "stdout",
     "output_type": "stream",
     "text": [
      "total 852\n",
      "-rw-r--r-- 1 root root    156 Apr 12 12:01 labels.txt\n",
      "-rw-r--r-- 1 root root 456318 Apr 12 12:01 merges.txt\n",
      "-rw-r--r-- 1 root root 407065 Apr 12 12:01 vocab.txt\n"
     ]
    }
   ],
   "source": [
    "!ls -l {MODEL_NAME}/saved_model/1/assets"
   ]
  },
  {
   "cell_type": "markdown",
   "metadata": {
    "id": "gih-ri5EgHKP"
   },
   "source": [
    "## Import and Save LongformerForTokenClassification in Spark NLP\n"
   ]
  },
  {
   "cell_type": "markdown",
   "metadata": {
    "id": "siinxlHCgHKP"
   },
   "source": [
    "- Let's install and setup Spark NLP in Google Colab\n",
    "- This part is pretty easy via our simple script"
   ]
  },
  {
   "cell_type": "code",
   "execution_count": 8,
   "metadata": {
    "colab": {
     "base_uri": "https://localhost:8080/",
     "height": 193
    },
    "id": "B2uE3LOyn5l8",
    "outputId": "de94a8d0-4be3-4a24-9bde-a5063964aec5"
   },
   "outputs": [
    {
     "name": "stdout",
     "output_type": "stream",
     "text": [
      "Restrt here\n"
     ]
    },
    {
     "ename": "KeyboardInterrupt",
     "evalue": "",
     "output_type": "error",
     "traceback": [
      "\u001b[0;31m---------------------------------------------------------------------------\u001b[0m",
      "\u001b[0;31mKeyboardInterrupt\u001b[0m                         Traceback (most recent call last)",
      "\u001b[0;32m<ipython-input-8-1f3dc116d1fe>\u001b[0m in \u001b[0;36m<cell line: 2>\u001b[0;34m()\u001b[0m\n\u001b[1;32m      1\u001b[0m \u001b[0mprint\u001b[0m\u001b[0;34m(\u001b[0m\u001b[0;34m'Restrt here'\u001b[0m\u001b[0;34m)\u001b[0m\u001b[0;34m\u001b[0m\u001b[0;34m\u001b[0m\u001b[0m\n\u001b[0;32m----> 2\u001b[0;31m \u001b[0;32mwhile\u001b[0m \u001b[0;32mTrue\u001b[0m\u001b[0;34m:\u001b[0m\u001b[0;34m\u001b[0m\u001b[0;34m\u001b[0m\u001b[0m\n\u001b[0m\u001b[1;32m      3\u001b[0m   \u001b[0;32mpass\u001b[0m\u001b[0;34m\u001b[0m\u001b[0;34m\u001b[0m\u001b[0m\n",
      "\u001b[0;31mKeyboardInterrupt\u001b[0m: "
     ]
    }
   ],
   "source": [
    "print('Restrt here')\n",
    "while True:\n",
    "  pass"
   ]
  },
  {
   "cell_type": "code",
   "execution_count": 1,
   "metadata": {
    "colab": {
     "base_uri": "https://localhost:8080/"
    },
    "id": "9Dwjq4mkgHKP",
    "outputId": "95f60490-0897-41ef-87d9-06de3a4bde8f"
   },
   "outputs": [
    {
     "name": "stdout",
     "output_type": "stream",
     "text": [
      "--2024-04-12 12:07:02--  http://setup.johnsnowlabs.com/colab.sh\n",
      "Resolving setup.johnsnowlabs.com (setup.johnsnowlabs.com)... 51.158.130.125\n",
      "Connecting to setup.johnsnowlabs.com (setup.johnsnowlabs.com)|51.158.130.125|:80... connected.\n",
      "HTTP request sent, awaiting response... 302 Moved Temporarily\n",
      "Location: https://raw.githubusercontent.com/JohnSnowLabs/spark-nlp/master/scripts/colab_setup.sh [following]\n",
      "--2024-04-12 12:07:02--  https://raw.githubusercontent.com/JohnSnowLabs/spark-nlp/master/scripts/colab_setup.sh\n",
      "Resolving raw.githubusercontent.com (raw.githubusercontent.com)... 185.199.109.133, 185.199.110.133, 185.199.111.133, ...\n",
      "Connecting to raw.githubusercontent.com (raw.githubusercontent.com)|185.199.109.133|:443... connected.\n",
      "HTTP request sent, awaiting response... 200 OK\n",
      "Length: 1191 (1.2K) [text/plain]\n",
      "Saving to: ‘STDOUT’\n",
      "\n",
      "-                   100%[===================>]   1.16K  --.-KB/s    in 0s      \n",
      "\n",
      "2024-04-12 12:07:02 (44.0 MB/s) - written to stdout [1191/1191]\n",
      "\n",
      "Installing PySpark 3.2.3 and Spark NLP 5.3.3\n",
      "setup Colab for PySpark 3.2.3 and Spark NLP 5.3.3\n",
      "\u001b[2K     \u001b[90m━━━━━━━━━━━━━━━━━━━━━━━━━━━━━━━━━━━━━━━━\u001b[0m \u001b[32m281.5/281.5 MB\u001b[0m \u001b[31m2.3 MB/s\u001b[0m eta \u001b[36m0:00:00\u001b[0m\n",
      "\u001b[?25h  Preparing metadata (setup.py) ... \u001b[?25l\u001b[?25hdone\n",
      "\u001b[2K     \u001b[90m━━━━━━━━━━━━━━━━━━━━━━━━━━━━━━━━━━━━━━━━\u001b[0m \u001b[32m568.4/568.4 kB\u001b[0m \u001b[31m25.4 MB/s\u001b[0m eta \u001b[36m0:00:00\u001b[0m\n",
      "\u001b[2K     \u001b[90m━━━━━━━━━━━━━━━━━━━━━━━━━━━━━━━━━━━━━━━━\u001b[0m \u001b[32m199.7/199.7 kB\u001b[0m \u001b[31m17.2 MB/s\u001b[0m eta \u001b[36m0:00:00\u001b[0m\n",
      "\u001b[?25h  Building wheel for pyspark (setup.py) ... \u001b[?25l\u001b[?25hdone\n"
     ]
    }
   ],
   "source": [
    "! wget http://setup.johnsnowlabs.com/colab.sh -O - | bash"
   ]
  },
  {
   "cell_type": "markdown",
   "metadata": {
    "id": "rxkMpJtSgHKQ"
   },
   "source": [
    "Let's start Spark with Spark NLP included via our simple `start()` function"
   ]
  },
  {
   "cell_type": "code",
   "execution_count": 2,
   "metadata": {
    "id": "bUwC8FcpgHKQ"
   },
   "outputs": [],
   "source": [
    "import sparknlp\n",
    "# let's start Spark with Spark NLP\n",
    "spark = sparknlp.start()"
   ]
  },
  {
   "cell_type": "markdown",
   "metadata": {
    "id": "mWYSLLbbgHKQ"
   },
   "source": [
    "- Let's use `loadSavedModel` functon in `LongformerForTokenClassification` which allows us to load TensorFlow model in SavedModel format\n",
    "- Most params can be set later when you are loading this model in `LongformerForTokenClassification` in runtime like `setMaxSentenceLength`, so don't worry what you are setting them now\n",
    "- `loadSavedModel` accepts two params, first is the path to the TF SavedModel. The second is the SparkSession that is `spark` variable we previously started via `sparknlp.start()`\n",
    "- NOTE: `loadSavedModel` accepts local paths in addition to distributed file systems such as `HDFS`, `S3`, `DBFS`, etc. This feature was introduced in Spark NLP 4.2.2 release. Keep in mind the best and recommended way to move/share/reuse Spark NLP models is to use `write.save` so you can use `.load()` from any file systems natively.st and recommended way to move/share/reuse Spark NLP models is to use `write.save` so you can use `.load()` from any file systems natively.st and recommended way to move/share/reuse Spark NLP models is to use `write.save` so you can use `.load()` from any file systems natively.st and recommended way to move/share/reuse Spark NLP models is to use `write.save` so you can use `.load()` from any file systems natively.\n",
    "\n"
   ]
  },
  {
   "cell_type": "code",
   "execution_count": 3,
   "metadata": {
    "id": "bCAB34EFgHKQ"
   },
   "outputs": [],
   "source": [
    "from sparknlp.annotator import *\n",
    "from sparknlp.base import *\n",
    "\n",
    "MODEL_NAME = 'hewonty/longformer-ner-finetuned-pii'\n",
    "\n",
    "tokenClassifier = LongformerForTokenClassification.loadSavedModel(\n",
    "     '{}/saved_model/1'.format(MODEL_NAME),\n",
    "     spark\n",
    " )\\\n",
    ".setInputCols(['token', 'document']) \\\n",
    ".setOutputCol('ner') \\\n",
    ".setCaseSensitive(True) \\\n",
    ".setMaxSentenceLength(512)"
   ]
  },
  {
   "cell_type": "markdown",
   "metadata": {
    "id": "4-OfWb29gHKR"
   },
   "source": [
    "- Let's save it on disk so it is easier to be moved around and also be used later via `.load` function"
   ]
  },
  {
   "cell_type": "code",
   "execution_count": 4,
   "metadata": {
    "id": "puAOYrpwgHKR"
   },
   "outputs": [],
   "source": [
    "tokenClassifier.write().overwrite().save(\"./{}_spark_nlp\".format(MODEL_NAME))"
   ]
  },
  {
   "cell_type": "markdown",
   "metadata": {
    "id": "sQnJhAFygHKR"
   },
   "source": [
    "Let's clean up stuff we don't need anymore"
   ]
  },
  {
   "cell_type": "code",
   "execution_count": 5,
   "metadata": {
    "id": "futWLtLHgHKR"
   },
   "outputs": [],
   "source": [
    "!rm -rf {MODEL_NAME}_tokenizer {MODEL_NAME}"
   ]
  },
  {
   "cell_type": "markdown",
   "metadata": {
    "id": "gCfdt8wZgHKR"
   },
   "source": [
    "Awesome 😎  !\n",
    "\n",
    "This is your LongformerForTokenClassification model from HuggingFace 🤗  loaded and saved by Spark NLP 🚀"
   ]
  },
  {
   "cell_type": "code",
   "execution_count": 6,
   "metadata": {
    "colab": {
     "base_uri": "https://localhost:8080/"
    },
    "id": "FKsQOq9JgHKS",
    "outputId": "13ef014b-7510-47e0-df85-36a00ef183f2"
   },
   "outputs": [
    {
     "name": "stdout",
     "output_type": "stream",
     "text": [
      "total 652504\n",
      "drwxr-xr-x 6 root root      4096 Apr 12 12:10 fields\n",
      "-rw-r--r-- 1 root root 668148377 Apr 12 12:12 longformer_classification_tensorflow\n",
      "drwxr-xr-x 2 root root      4096 Apr 12 12:10 metadata\n"
     ]
    }
   ],
   "source": [
    "! ls -l {MODEL_NAME}_spark_nlp"
   ]
  },
  {
   "cell_type": "markdown",
   "metadata": {
    "id": "kkZX2NlVgHKS"
   },
   "source": [
    "Now let's see how we can use it on other machines, clusters, or any place you wish to use your new and shiny LongformerForTokenClassification model in Spark NLP 🚀 pipeline!"
   ]
  },
  {
   "cell_type": "code",
   "execution_count": 7,
   "metadata": {
    "colab": {
     "base_uri": "https://localhost:8080/"
    },
    "id": "zKRoBpg8gHKS",
    "outputId": "66d2ec98-66c9-42d4-ec42-ce7b9903c8d7"
   },
   "outputs": [
    {
     "name": "stdout",
     "output_type": "stream",
     "text": [
      "+----------------------------------------+---------------------------+\n",
      "|text                                    |result                     |\n",
      "+----------------------------------------+---------------------------+\n",
      "|My name is Wolfgang and I live in Berlin|[O, O, O, O, O, O, O, O, O]|\n",
      "+----------------------------------------+---------------------------+\n",
      "\n"
     ]
    }
   ],
   "source": [
    "from pyspark.ml import Pipeline\n",
    "\n",
    "document_assembler = DocumentAssembler() \\\n",
    "    .setInputCol('text') \\\n",
    "    .setOutputCol('document')\n",
    "\n",
    "tokenizer = Tokenizer() \\\n",
    "    .setInputCols(['document']) \\\n",
    "    .setOutputCol('token')\n",
    "\n",
    "pipeline = Pipeline(stages=[\n",
    "    document_assembler,\n",
    "    tokenizer,\n",
    "    tokenClassifier\n",
    "])\n",
    "\n",
    "# couple of simple examples\n",
    "example = spark.createDataFrame([[\"My name is Wolfgang and I live in Berlin\"]]).toDF(\"text\")\n",
    "\n",
    "result = pipeline.fit(example).transform(example)\n",
    "\n",
    "# result is a DataFrame\n",
    "result.select(\"text\", \"ner.result\").show(truncate=False)"
   ]
  },
  {
   "cell_type": "markdown",
   "metadata": {
    "id": "cBwwuFz4gHKS"
   },
   "source": [
    "That's it! You can now go wild and use hundreds of `LongformerForTokenClassification` models from HuggingFace 🤗 in Spark NLP 🚀\n"
   ]
  }
 ],
 "metadata": {
  "colab": {
   "name": "HuggingFace in Spark NLP - LongformerForQuestionAnswering.ipynb",
   "provenance": []
  },
  "interpreter": {
   "hash": "87a0babc161b66fece47f6635e3fb5206fb435f3149fb144acff789d447c8452"
  },
  "kernelspec": {
   "display_name": "Python 3.6.9 ('sparknlp_py')",
   "language": "python",
   "name": "python3"
  },
  "language_info": {
   "name": "python"
  }
 },
 "nbformat": 4,
 "nbformat_minor": 0
}
