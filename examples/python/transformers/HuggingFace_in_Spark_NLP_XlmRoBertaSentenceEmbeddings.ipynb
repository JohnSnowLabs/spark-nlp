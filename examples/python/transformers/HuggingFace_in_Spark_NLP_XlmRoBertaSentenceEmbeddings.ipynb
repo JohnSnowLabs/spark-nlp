{
 "cells": [
  {
   "cell_type": "markdown",
   "metadata": {
    "id": "yqZC6rH83afM"
   },
   "source": [
    "![JohnSnowLabs](https://sparknlp.org/assets/images/logo.png)\n",
    "\n",
    "[![Open In Colab](https://colab.research.google.com/assets/colab-badge.svg)](https://colab.research.google.com/github/JohnSnowLabs/spark-nlp/blob/master/examples/python/transformers/HuggingFace_in_Spark_NLP_XlmRoBertaSentenceEmbeddings.ipynb)"
   ]
  },
  {
   "cell_type": "markdown",
   "metadata": {
    "id": "_8feCb2R3afP"
   },
   "source": [
    "## Import XlmRoBertaSentenceEmbeddings models from HuggingFace 🤗  into Spark NLP 🚀\n",
    "\n",
    "Let's keep in mind a few things before we start 😊\n",
    "\n",
    "- This feature is only in `Spark NLP 3.1.x` and after. So please make sure you have upgraded to the latest Spark NLP release\n",
    "- You can import models for XlmRoBertaSentenceEmbeddings from HuggingFace but they have to be compatible with `TensorFlow` and they have to be in `Fill Mask` category. Meaning, you cannot use XlmRoBertaSentenceEmbeddings models trained/fine-tuned on a specific task such as token/sequence classification."
   ]
  },
  {
   "cell_type": "markdown",
   "metadata": {
    "id": "lwxhdFrD3afQ"
   },
   "source": [
    "## Export and Save HuggingFace model"
   ]
  },
  {
   "cell_type": "markdown",
   "metadata": {
    "id": "bj8gLaZo3afR"
   },
   "source": [
    "- Let's install `HuggingFace` and `TensorFlow`. You don't need `TensorFlow` to be installed for Spark NLP, however, we need it to load and save models from HuggingFace.\n",
    "- We lock TensorFlow on `2.11.0` version and Transformers on `2.11.0`. This doesn't mean it won't work with the future releases, but we wanted you to know which versions have been tested successfully.\n",
    "- XLMRobertaTokenizer requires the `SentencePiece` library, so we install that as well"
   ]
  },
  {
   "cell_type": "code",
   "execution_count": 1,
   "metadata": {
    "colab": {
     "base_uri": "https://localhost:8080/"
    },
    "id": "9LFuMcZ23afS",
    "outputId": "42365400-963e-4dff-fccd-8efc8fa35349"
   },
   "outputs": [
    {
     "name": "stdout",
     "output_type": "stream",
     "text": [
      "\u001b[2K     \u001b[90m━━━━━━━━━━━━━━━━━━━━━━━━━━━━━━━━━━━━━━━━\u001b[0m \u001b[32m8.8/8.8 MB\u001b[0m \u001b[31m23.0 MB/s\u001b[0m eta \u001b[36m0:00:00\u001b[0m\n",
      "\u001b[2K     \u001b[90m━━━━━━━━━━━━━━━━━━━━━━━━━━━━━━━━━━━━━━━━\u001b[0m \u001b[32m588.3/588.3 MB\u001b[0m \u001b[31m1.3 MB/s\u001b[0m eta \u001b[36m0:00:00\u001b[0m\n",
      "\u001b[2K     \u001b[90m━━━━━━━━━━━━━━━━━━━━━━━━━━━━━━━━━━━━━━━━\u001b[0m \u001b[32m1.7/1.7 MB\u001b[0m \u001b[31m45.1 MB/s\u001b[0m eta \u001b[36m0:00:00\u001b[0m\n",
      "\u001b[2K     \u001b[90m━━━━━━━━━━━━━━━━━━━━━━━━━━━━━━━━━━━━━━━━\u001b[0m \u001b[32m1.1/1.1 MB\u001b[0m \u001b[31m21.2 MB/s\u001b[0m eta \u001b[36m0:00:00\u001b[0m\n",
      "\u001b[2K     \u001b[90m━━━━━━━━━━━━━━━━━━━━━━━━━━━━━━━━━━━━━━━━\u001b[0m \u001b[32m6.0/6.0 MB\u001b[0m \u001b[31m32.7 MB/s\u001b[0m eta \u001b[36m0:00:00\u001b[0m\n",
      "\u001b[2K     \u001b[90m━━━━━━━━━━━━━━━━━━━━━━━━━━━━━━━━━━━━━━━━\u001b[0m \u001b[32m439.2/439.2 kB\u001b[0m \u001b[31m25.5 MB/s\u001b[0m eta \u001b[36m0:00:00\u001b[0m\n",
      "\u001b[2K     \u001b[90m━━━━━━━━━━━━━━━━━━━━━━━━━━━━━━━━━━━━━━━━\u001b[0m \u001b[32m4.9/4.9 MB\u001b[0m \u001b[31m39.0 MB/s\u001b[0m eta \u001b[36m0:00:00\u001b[0m\n",
      "\u001b[2K     \u001b[90m━━━━━━━━━━━━━━━━━━━━━━━━━━━━━━━━━━━━━━━━\u001b[0m \u001b[32m781.3/781.3 kB\u001b[0m \u001b[31m24.9 MB/s\u001b[0m eta \u001b[36m0:00:00\u001b[0m\n",
      "\u001b[?25h\u001b[31mERROR: pip's dependency resolver does not currently take into account all the packages that are installed. This behaviour is the source of the following dependency conflicts.\n",
      "pandas-gbq 0.19.2 requires google-auth-oauthlib>=0.7.0, but you have google-auth-oauthlib 0.4.6 which is incompatible.\n",
      "tensorflow-datasets 4.9.4 requires protobuf>=3.20, but you have protobuf 3.19.6 which is incompatible.\n",
      "tensorflow-metadata 1.14.0 requires protobuf<4.21,>=3.20.3, but you have protobuf 3.19.6 which is incompatible.\n",
      "tf-keras 2.15.1 requires tensorflow<2.16,>=2.15, but you have tensorflow 2.11.0 which is incompatible.\u001b[0m\u001b[31m\n",
      "\u001b[0m"
     ]
    }
   ],
   "source": [
    "!pip install -q transformers==4.39.3  tensorflow==2.11.0 sentencepiece"
   ]
  },
  {
   "cell_type": "markdown",
   "metadata": {
    "id": "8AjMwcuB3afU"
   },
   "source": [
    "- HuggingFace comes with a native `saved_model` feature inside `save_pretrained` function for TensorFlow based models. We will use that to save it as TF `SavedModel`.\n",
    "- We'll use [xlm-roberta-base](https://huggingface.co/xlm-roberta-base) model from HuggingFace as an example\n",
    "- In addition to `TFXLMRobertaModel` we also need to save the `XLMRobertaTokenizer`. This is the same for every model, these are assets needed for tokenization inside Spark NLP.\n",
    "- Since `xlm-roberta-base` model is PyTorch we will use `from_pt=True` param to convert it to TensorFlow"
   ]
  },
  {
   "cell_type": "code",
   "execution_count": 2,
   "metadata": {
    "colab": {
     "base_uri": "https://localhost:8080/",
     "height": 423,
     "referenced_widgets": [
      "46da434347694e3081d7b019a16d7e7e",
      "facb2c76357f4695a15a340bedd620f5",
      "d38e347c24474919968143a32638ec3e",
      "3ab2247df6c1401082e87062e273856d",
      "30bf247616cc4aa6889c0a1b82624ec4",
      "1f4573ee1c3b47d2afd6e16e6e089738",
      "1c7d18723f1943378a8a8172947bc8b3",
      "362f172c948f41f3bcdfbc14106f33e7",
      "3945b010a0324f29b6efc15215bb6c30",
      "776a4532c2924031adb5b6360e4059b7",
      "ccc623cbc1d84133b967e59af6b45f2c",
      "5379a52bcaaf47cbacec9f09096b907d",
      "d4f2bd693b4d4d57a3c3db9ca7bd01bd",
      "e59d0454d22842f3940581a6e702bce6",
      "156601bfe3c04d8eb82cda306abd350f",
      "b247b58848374b5b8925a2232e06e767",
      "971ba325732a4d499b71af672afb09c5",
      "c0bbde10d60e413eaeeb0523ccd1eca3",
      "4aee16dcd23843d8a16fe35b5555cf2e",
      "e3034c4112f042449b20a35adc1c07ee",
      "397a8284dece43789286a998577fc182",
      "72cb7d09e6be4b8a9364e44430975445",
      "e7595020d0e84b8e93e3b250bdbcefda",
      "0def7cc0ff624c73b596047a1cb6c83c",
      "9b73dc84d1e544cba54b89b9b4530ee6",
      "8edcaa08f8b4413fb48afa5cf35ee0fa",
      "fec3ca66f9e941ddbcdf604bf1d17e06",
      "b73719bea17e48df960c7a67845ed698",
      "a3059970e62e45a28ec844ef6fa50894",
      "5387e38975174dd49b21d565aa8edafd",
      "68edc1ddb9a54ba4b09e7ebae27d223d",
      "224340d4e5544ceda7a6fadb4ed98b9a",
      "0f7d518c1f6c4837943740c2114b46dc",
      "8a8178f4b106489d807caee700b62201",
      "d5c46e490d6d47d5a43f2aba90e86bce",
      "1c5db528265847249355995185c47060",
      "cda0a5f570eb4fbd8295b3afaa51aca0",
      "35c08f9b70c548268aaad21a68f2984b",
      "1e42f753ef444eabb8e417f1e11d925f",
      "03c80a904cd04e2bbb8c3aba74003c47",
      "8e98d812ecb04109bbd3d572edb6bc27",
      "124dc9d3acd34a958dcb0da81e472d61",
      "0ac3a704ffc743fb951585dd422e91c6",
      "99909f01499b423fa5e36fad7c4a2890",
      "44746a0d465046ebb3bba28519b5b676",
      "9d23f3a8ee0a45e18c518d46847b9575",
      "ff962fa4fe2646f5bc938096d0526ac0",
      "48c77319e8bf483a8d94c094753ba94b",
      "725269616bab49b4b617a02bdd185d56",
      "4159b16c236a403c973401ec4fe7cf36",
      "ea88c5bedc4e43698f6a5957eb025ed0",
      "2c1f1efa5ea2448aae34919fcb32e4f1",
      "fe7b488b927d49c1a09e29d0d93e0bb8",
      "cdc93787dcdf408c9fcc2378092be3c2",
      "0b51ed68a2e84ad7bb1410d5316bd194"
     ]
    },
    "id": "__H4F9zd3afV",
    "outputId": "e632a0ec-0a1e-4e85-b286-e0155946fd2a"
   },
   "outputs": [
    {
     "name": "stderr",
     "output_type": "stream",
     "text": [
      "/usr/local/lib/python3.10/dist-packages/huggingface_hub/utils/_token.py:88: UserWarning: \n",
      "The secret `HF_TOKEN` does not exist in your Colab secrets.\n",
      "To authenticate with the Hugging Face Hub, create a token in your settings tab (https://huggingface.co/settings/tokens), set it as secret in your Google Colab and restart your session.\n",
      "You will be able to reuse this secret in all of your notebooks.\n",
      "Please note that authentication is recommended but still optional to access public models or datasets.\n",
      "  warnings.warn(\n"
     ]
    },
    {
     "data": {
      "application/vnd.jupyter.widget-view+json": {
       "model_id": "46da434347694e3081d7b019a16d7e7e",
       "version_major": 2,
       "version_minor": 0
      },
      "text/plain": [
       "tokenizer_config.json:   0%|          | 0.00/25.0 [00:00<?, ?B/s]"
      ]
     },
     "metadata": {},
     "output_type": "display_data"
    },
    {
     "data": {
      "application/vnd.jupyter.widget-view+json": {
       "model_id": "5379a52bcaaf47cbacec9f09096b907d",
       "version_major": 2,
       "version_minor": 0
      },
      "text/plain": [
       "sentencepiece.bpe.model:   0%|          | 0.00/5.07M [00:00<?, ?B/s]"
      ]
     },
     "metadata": {},
     "output_type": "display_data"
    },
    {
     "data": {
      "application/vnd.jupyter.widget-view+json": {
       "model_id": "e7595020d0e84b8e93e3b250bdbcefda",
       "version_major": 2,
       "version_minor": 0
      },
      "text/plain": [
       "tokenizer.json:   0%|          | 0.00/9.10M [00:00<?, ?B/s]"
      ]
     },
     "metadata": {},
     "output_type": "display_data"
    },
    {
     "data": {
      "application/vnd.jupyter.widget-view+json": {
       "model_id": "8a8178f4b106489d807caee700b62201",
       "version_major": 2,
       "version_minor": 0
      },
      "text/plain": [
       "config.json:   0%|          | 0.00/615 [00:00<?, ?B/s]"
      ]
     },
     "metadata": {},
     "output_type": "display_data"
    },
    {
     "name": "stdout",
     "output_type": "stream",
     "text": [
      "try downloading TF weights\n"
     ]
    },
    {
     "data": {
      "application/vnd.jupyter.widget-view+json": {
       "model_id": "44746a0d465046ebb3bba28519b5b676",
       "version_major": 2,
       "version_minor": 0
      },
      "text/plain": [
       "model.safetensors:   0%|          | 0.00/1.12G [00:00<?, ?B/s]"
      ]
     },
     "metadata": {},
     "output_type": "display_data"
    },
    {
     "name": "stderr",
     "output_type": "stream",
     "text": [
      "Some weights of the PyTorch model were not used when initializing the TF 2.0 model TFXLMRobertaModel: ['lm_head.layer_norm.bias', 'lm_head.bias', 'lm_head.layer_norm.weight', 'lm_head.dense.weight', 'lm_head.dense.bias']\n",
      "- This IS expected if you are initializing TFXLMRobertaModel from a PyTorch model trained on another task or with another architecture (e.g. initializing a TFBertForSequenceClassification model from a BertForPreTraining model).\n",
      "- This IS NOT expected if you are initializing TFXLMRobertaModel from a PyTorch model that you expect to be exactly identical (e.g. initializing a TFBertForSequenceClassification model from a BertForSequenceClassification model).\n",
      "All the weights of TFXLMRobertaModel were initialized from the PyTorch model.\n",
      "If your task is similar to the task the model of the checkpoint was trained on, you can already use TFXLMRobertaModel for predictions without further training.\n",
      "WARNING:absl:Found untraced functions such as serving, encoder_layer_call_fn, encoder_layer_call_and_return_conditional_losses, pooler_layer_call_fn, pooler_layer_call_and_return_conditional_losses while saving (showing 5 of 421). These functions will not be directly callable after loading.\n"
     ]
    }
   ],
   "source": [
    "from transformers import XLMRobertaTokenizer, TFXLMRobertaModel\n",
    "import tensorflow as tf\n",
    "\n",
    "# xlm-roberta-base\n",
    "MODEL_NAME = 'xlm-roberta-base'\n",
    "\n",
    "XLMRobertaTokenizer.from_pretrained(MODEL_NAME, return_tensors=\"pt\").save_pretrained(\"./{}_tokenizer\".format(MODEL_NAME))\n",
    "\n",
    "# just in case if there is no TF/Keras file provided in the model\n",
    "# we can just use `from_pt` and convert PyTorch to TensorFlow\n",
    "try:\n",
    "  print('try downloading TF weights')\n",
    "  model = TFXLMRobertaModel.from_pretrained(MODEL_NAME)\n",
    "except:\n",
    "  print('try downloading PyTorch weights')\n",
    "  model = TFXLMRobertaModel.from_pretrained(MODEL_NAME, from_pt=True)\n",
    "\n",
    "# Define TF Signature\n",
    "@tf.function(\n",
    "  input_signature=[\n",
    "      {\n",
    "          \"input_ids\": tf.TensorSpec((None, None), tf.int32, name=\"input_ids\"),\n",
    "          \"attention_mask\": tf.TensorSpec((None, None), tf.int32, name=\"attention_mask\")\n",
    "      }\n",
    "  ]\n",
    ")\n",
    "def serving_fn(input):\n",
    "    return model(input)\n",
    "\n",
    "model.save_pretrained(\"./{}\".format(MODEL_NAME), saved_model=True, signatures={\"serving_default\": serving_fn})"
   ]
  },
  {
   "cell_type": "markdown",
   "metadata": {
    "id": "CvKbuiiP3afX"
   },
   "source": [
    "Let's have a look inside these two directories and see what we are dealing with:"
   ]
  },
  {
   "cell_type": "code",
   "execution_count": 3,
   "metadata": {
    "colab": {
     "base_uri": "https://localhost:8080/"
    },
    "id": "2E3hurXy3afY",
    "outputId": "372fa771-efa3-45a2-f318-1d93371dad9c"
   },
   "outputs": [
    {
     "name": "stdout",
     "output_type": "stream",
     "text": [
      "total 1086384\n",
      "-rw-r--r-- 1 root root        673 Apr  9 11:32 config.json\n",
      "drwxr-xr-x 3 root root       4096 Apr  9 11:32 saved_model\n",
      "-rw-r--r-- 1 root root 1112441536 Apr  9 11:32 tf_model.h5\n"
     ]
    }
   ],
   "source": [
    "!ls -l {MODEL_NAME}"
   ]
  },
  {
   "cell_type": "code",
   "execution_count": 4,
   "metadata": {
    "colab": {
     "base_uri": "https://localhost:8080/"
    },
    "id": "9GOdl9-63afa",
    "outputId": "3337cf83-8b98-4deb-f9b5-96b961a7bf1f"
   },
   "outputs": [
    {
     "name": "stdout",
     "output_type": "stream",
     "text": [
      "total 8364\n",
      "drwxr-xr-x 2 root root    4096 Apr  9 11:32 assets\n",
      "-rw-r--r-- 1 root root      55 Apr  9 11:32 fingerprint.pb\n",
      "-rw-r--r-- 1 root root  153482 Apr  9 11:32 keras_metadata.pb\n",
      "-rw-r--r-- 1 root root 8392843 Apr  9 11:32 saved_model.pb\n",
      "drwxr-xr-x 2 root root    4096 Apr  9 11:32 variables\n"
     ]
    }
   ],
   "source": [
    "!ls -l {MODEL_NAME}/saved_model/1"
   ]
  },
  {
   "cell_type": "code",
   "execution_count": 5,
   "metadata": {
    "colab": {
     "base_uri": "https://localhost:8080/"
    },
    "id": "ThqHIQ793afb",
    "outputId": "e6c477b8-d203-4480-8cc3-4887c5bccae8"
   },
   "outputs": [
    {
     "name": "stdout",
     "output_type": "stream",
     "text": [
      "total 4960\n",
      "-rw-r--r-- 1 root root 5069051 Apr  9 11:30 sentencepiece.bpe.model\n",
      "-rw-r--r-- 1 root root     280 Apr  9 11:30 special_tokens_map.json\n",
      "-rw-r--r-- 1 root root    1198 Apr  9 11:30 tokenizer_config.json\n"
     ]
    }
   ],
   "source": [
    "!ls -l {MODEL_NAME}_tokenizer"
   ]
  },
  {
   "cell_type": "markdown",
   "metadata": {
    "id": "flNE_7ds3afc"
   },
   "source": [
    "- as you can see, we need the SavedModel from `saved_model/1/` path\n",
    "- we also be needing `sentencepiece.bpe.model` file from the tokenizer\n",
    "- all we need is to copy `sentencepiece.bpe.model` file into `saved_model/1/assets` which Spark NLP will look for"
   ]
  },
  {
   "cell_type": "code",
   "execution_count": 6,
   "metadata": {
    "id": "9_WihTU73afc"
   },
   "outputs": [],
   "source": [
    "# let's copy sentencepiece.bpe.model file to saved_model/1/assets\n",
    "!cp {MODEL_NAME}_tokenizer/sentencepiece.bpe.model {MODEL_NAME}/saved_model/1/assets"
   ]
  },
  {
   "cell_type": "markdown",
   "metadata": {
    "id": "oSrYzPb-3ST7"
   },
   "source": [
    "## Import and Save XlmRoBertaSentenceEmbeddings in Spark NLP\n",
    "\n",
    "- Let's install and setup Spark NLP in Google Colab\n",
    "- This part is pretty easy via our simple script"
   ]
  },
  {
   "cell_type": "code",
   "execution_count": 7,
   "metadata": {
    "colab": {
     "base_uri": "https://localhost:8080/",
     "height": 176
    },
    "id": "PNGtgXuyHWuk",
    "outputId": "d29395f4-e5ba-405a-cd2d-b19132deeeb5"
   },
   "outputs": [
    {
     "ename": "KeyboardInterrupt",
     "evalue": "",
     "output_type": "error",
     "traceback": [
      "\u001b[0;31m---------------------------------------------------------------------------\u001b[0m",
      "\u001b[0;31mKeyboardInterrupt\u001b[0m                         Traceback (most recent call last)",
      "\u001b[0;32m<ipython-input-7-a398a1c0619e>\u001b[0m in \u001b[0;36m<cell line: 2>\u001b[0;34m()\u001b[0m\n\u001b[1;32m      1\u001b[0m \u001b[0;31m#please Restart here to clear up RAM\u001b[0m\u001b[0;34m\u001b[0m\u001b[0;34m\u001b[0m\u001b[0m\n\u001b[0;32m----> 2\u001b[0;31m \u001b[0;32mwhile\u001b[0m \u001b[0;32mTrue\u001b[0m\u001b[0;34m:\u001b[0m\u001b[0;34m\u001b[0m\u001b[0;34m\u001b[0m\u001b[0m\n\u001b[0m\u001b[1;32m      3\u001b[0m   \u001b[0;32mpass\u001b[0m\u001b[0;34m\u001b[0m\u001b[0;34m\u001b[0m\u001b[0m\n",
      "\u001b[0;31mKeyboardInterrupt\u001b[0m: "
     ]
    }
   ],
   "source": [
    "#please Restart here to clear up RAM\n",
    "while True:\n",
    "  pass\n"
   ]
  },
  {
   "cell_type": "code",
   "execution_count": 1,
   "metadata": {
    "colab": {
     "base_uri": "https://localhost:8080/"
    },
    "id": "TPsUE4cX3ST8",
    "outputId": "62d8e47c-9fb8-412f-95e7-eb0fa35f02f0"
   },
   "outputs": [
    {
     "name": "stdout",
     "output_type": "stream",
     "text": [
      "Installing PySpark 3.2.3 and Spark NLP 5.3.3\n",
      "setup Colab for PySpark 3.2.3 and Spark NLP 5.3.3\n",
      "\u001b[2K     \u001b[90m━━━━━━━━━━━━━━━━━━━━━━━━━━━━━━━━━━━━━━━━\u001b[0m \u001b[32m281.5/281.5 MB\u001b[0m \u001b[31m2.8 MB/s\u001b[0m eta \u001b[36m0:00:00\u001b[0m\n",
      "\u001b[?25h  Preparing metadata (setup.py) ... \u001b[?25l\u001b[?25hdone\n",
      "\u001b[2K     \u001b[90m━━━━━━━━━━━━━━━━━━━━━━━━━━━━━━━━━━━━━━━━\u001b[0m \u001b[32m568.4/568.4 kB\u001b[0m \u001b[31m26.9 MB/s\u001b[0m eta \u001b[36m0:00:00\u001b[0m\n",
      "\u001b[2K     \u001b[90m━━━━━━━━━━━━━━━━━━━━━━━━━━━━━━━━━━━━━━━━\u001b[0m \u001b[32m199.7/199.7 kB\u001b[0m \u001b[31m15.3 MB/s\u001b[0m eta \u001b[36m0:00:00\u001b[0m\n",
      "\u001b[?25h  Building wheel for pyspark (setup.py) ... \u001b[?25l\u001b[?25hdone\n"
     ]
    }
   ],
   "source": [
    "! wget -q http://setup.johnsnowlabs.com/colab.sh -O - | bash"
   ]
  },
  {
   "cell_type": "markdown",
   "metadata": {
    "id": "wCjIM3zd3ST_"
   },
   "source": [
    "Let's start Spark with Spark NLP included via our simple `start()` function"
   ]
  },
  {
   "cell_type": "code",
   "execution_count": 2,
   "metadata": {
    "id": "dBlpCTyV3ST_"
   },
   "outputs": [],
   "source": [
    "import sparknlp\n",
    "# let's start Spark with Spark NLP\n",
    "spark = sparknlp.start()"
   ]
  },
  {
   "cell_type": "markdown",
   "metadata": {
    "id": "6wRcYV6N3SUA"
   },
   "source": [
    "- Let's use `loadSavedModel` functon in `XlmRoBertaSentenceEmbeddings` which allows us to load the ONNX model\n",
    "- Most params will be set automatically. They can also be set later after loading the model in `XlmRoBertaSentenceEmbeddings` during runtime, so don't worry about setting them now\n",
    "- `loadSavedModel` accepts two params, first is the path to the exported model. The second is the SparkSession that is `spark` variable we previously started via `sparknlp.start()`\n",
    "- `setStorageRef` is very important. When you are training a task like NER or any Text Classification, we use this reference to bound the trained model to this specific embeddings so you won't load a different embeddings by mistake and see terrible results 😊\n",
    "- It's up to you what you put in `setStorageRef` but it cannot be changed later on. We usually use the name of the model to be clear, but you can get creative if you want!\n",
    "- The `dimension` param is is purely cosmetic and won't change anything. It's mostly for you to know later via `.getDimension` what is the dimension of your model. So set this accordingly.\n",
    "- NOTE: `loadSavedModel` accepts local paths in addition to distributed file systems such as `HDFS`, `S3`, `DBFS`, etc. This feature was introduced in Spark NLP 4.2.2 release. Keep in mind the best and recommended way to move/share/reuse Spark NLP models is to use `write.save` so you can use `.load()` from any file systems natively.st and recommended way to move/share/reuse Spark NLP models is to use `write.save` so you can use `.load()` from any file systems natively."
   ]
  },
  {
   "cell_type": "code",
   "execution_count": 3,
   "metadata": {
    "id": "lAZqOIZ03SUB"
   },
   "outputs": [],
   "source": [
    "from sparknlp.annotator import *\n",
    "\n",
    "MODEL_NAME = 'xlm-roberta-base'\n",
    "\n",
    "# All these params should be identical to the original ONNX model\n",
    "xlm_roberta = XlmRoBertaSentenceEmbeddings.loadSavedModel(f\"{MODEL_NAME}/saved_model/1\", spark)\\\n",
    "    .setInputCols([\"sentence\"])\\\n",
    "    .setOutputCol(\"xlm_roberta\")\\\n",
    "    .setCaseSensitive(True)"
   ]
  },
  {
   "cell_type": "markdown",
   "metadata": {
    "id": "PAKYu0WK3SUB"
   },
   "source": [
    "- Let's save it on disk so it is easier to be moved around and also be used later via `.load` function"
   ]
  },
  {
   "cell_type": "code",
   "execution_count": 4,
   "metadata": {
    "id": "5_4pVa5Z3SUC"
   },
   "outputs": [],
   "source": [
    "xlm_roberta.write().overwrite().save(f\"{MODEL_NAME}_spark_nlp\")"
   ]
  },
  {
   "cell_type": "markdown",
   "metadata": {
    "id": "oVpKUSWI3SUD"
   },
   "source": [
    "Let's clean up stuff we don't need anymore"
   ]
  },
  {
   "cell_type": "code",
   "execution_count": 5,
   "metadata": {
    "id": "rYh9UTQX3SUD"
   },
   "outputs": [],
   "source": [
    "!rm -rf {EXPORT_PATH}"
   ]
  },
  {
   "cell_type": "markdown",
   "metadata": {
    "id": "2WEtJmNO3SUE"
   },
   "source": [
    "Awesome  😎 !\n",
    "\n",
    "This is your ONNX XlmRoBertaSentenceEmbeddings model from HuggingFace 🤗  loaded and saved by Spark NLP 🚀"
   ]
  },
  {
   "cell_type": "code",
   "execution_count": 6,
   "metadata": {
    "colab": {
     "base_uri": "https://localhost:8080/"
    },
    "id": "QSdgCy9J3SUE",
    "outputId": "74807c3b-e7fe-4817-aaa0-6e635c88b01f"
   },
   "outputs": [
    {
     "name": "stdout",
     "output_type": "stream",
     "text": [
      "total 1099288\n",
      "drwxr-xr-x 3 root root       4096 Apr  9 11:46 fields\n",
      "drwxr-xr-x 2 root root       4096 Apr  9 11:46 metadata\n",
      "-rw-r--r-- 1 root root    5069051 Apr  9 11:46 xlmroberta_spp\n",
      "-rw-r--r-- 1 root root 1120584252 Apr  9 11:47 xlmroberta_tensorflow\n"
     ]
    }
   ],
   "source": [
    "! ls -l {MODEL_NAME}_spark_nlp"
   ]
  },
  {
   "cell_type": "markdown",
   "metadata": {
    "id": "txpZyLO73SUF"
   },
   "source": [
    "Now let's see how we can use it on other machines, clusters, or any place you wish to use your new and shiny XlmRoBertaSentenceEmbeddings model 😊"
   ]
  },
  {
   "cell_type": "code",
   "execution_count": 7,
   "metadata": {
    "colab": {
     "base_uri": "https://localhost:8080/"
    },
    "id": "A-nlnIr83SUF",
    "outputId": "9ba24dd4-691a-4167-90e2-0549fc3c4925"
   },
   "outputs": [
    {
     "name": "stdout",
     "output_type": "stream",
     "text": [
      "sentence_detector_dl download started this may take some time.\n",
      "Approximate size to download 514.9 KB\n",
      "[OK!]\n"
     ]
    }
   ],
   "source": [
    "import sparknlp\n",
    "\n",
    "from sparknlp.base import *\n",
    "from sparknlp.annotator import *\n",
    "\n",
    "document_assembler = DocumentAssembler()\\\n",
    "    .setInputCol(\"text\")\\\n",
    "    .setOutputCol(\"document\")\n",
    "\n",
    "sentencerDL = SentenceDetectorDLModel.pretrained(\"sentence_detector_dl\", \"xx\")\\\n",
    "    .setInputCols([\"document\"])\\\n",
    "    .setOutputCol(\"sentence\")\n",
    "\n",
    "xlm_roberta_loaded = XlmRoBertaSentenceEmbeddings.load(f\"{MODEL_NAME}_spark_nlp\")\\\n",
    "    .setInputCols([\"sentence\"])\\\n",
    "    .setOutputCol(\"xlm_roberta\")\n",
    "\n",
    "pipeline = Pipeline(\n",
    "    stages = [\n",
    "        document_assembler,\n",
    "        sentencerDL,\n",
    "        xlm_roberta_loaded\n",
    "  ])\n",
    "\n",
    "data = spark.createDataFrame([['William Henry Gates III (born October 28, 1955) is an American business magnate, software developer, investor,and philanthropist.']]).toDF(\"text\")\n",
    "model = pipeline.fit(data)\n",
    "result = model.transform(data)"
   ]
  },
  {
   "cell_type": "code",
   "execution_count": 8,
   "metadata": {
    "colab": {
     "base_uri": "https://localhost:8080/"
    },
    "id": "VwxgRD163SUG",
    "outputId": "2e605918-23e6-4c17-ad02-a7ed0d043b86"
   },
   "outputs": [
    {
     "name": "stdout",
     "output_type": "stream",
     "text": [
      "+------------+\n",
      "|  embeddings|\n",
      "+------------+\n",
      "| -0.05523606|\n",
      "|  0.21861903|\n",
      "| 0.079868846|\n",
      "|   0.5373767|\n",
      "|  0.08400798|\n",
      "|  0.38843948|\n",
      "|  0.38681212|\n",
      "| -0.36239216|\n",
      "|  0.21800546|\n",
      "|  -0.1326824|\n",
      "|-0.039364785|\n",
      "|  0.13006476|\n",
      "|  0.31846768|\n",
      "|   0.3994937|\n",
      "| -0.40145183|\n",
      "| -0.20561102|\n",
      "|  0.35796887|\n",
      "|  0.33135167|\n",
      "| 0.014850351|\n",
      "| -0.21051204|\n",
      "+------------+\n",
      "only showing top 20 rows\n",
      "\n"
     ]
    }
   ],
   "source": [
    "result.selectExpr(\"explode(xlm_roberta.embeddings[0]) as embeddings\").show()"
   ]
  },
  {
   "cell_type": "markdown",
   "metadata": {
    "id": "4VR-5Q903SUG"
   },
   "source": [
    "That's it! You can now go wild and use hundreds of XlmRoBertaSentenceEmbeddings models from HuggingFace 🤗 in Spark NLP 🚀\n"
   ]
  }
 ],
 "metadata": {
  "colab": {
   "provenance": []
  },
  "kernelspec": {
   "display_name": "transformers",
   "language": "python",
   "name": "python3"
  },
  "language_info": {
   "codemirror_mode": {
    "name": "ipython",
    "version": 3
   },
   "file_extension": ".py",
   "mimetype": "text/x-python",
   "name": "python",
   "nbconvert_exporter": "python",
   "pygments_lexer": "ipython3"
  }
 },
 "nbformat": 4,
 "nbformat_minor": 0
}
