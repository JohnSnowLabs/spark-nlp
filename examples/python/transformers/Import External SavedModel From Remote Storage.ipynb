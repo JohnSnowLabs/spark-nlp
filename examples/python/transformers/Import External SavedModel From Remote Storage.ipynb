{
 "cells": [
  {
   "attachments": {},
   "cell_type": "markdown",
   "metadata": {},
   "source": [
    "![JohnSnowLabs](https://sparknlp.org/assets/images/logo.png)\n",
    "\n",
    "[![Open In Colab](https://colab.research.google.com/assets/colab-badge.svg)](https://colab.research.google.com/github/JohnSnowLabs/spark-nlp/blob/master/examples/python/transformers/Import%20External%20SavedModel%20From%20Remote%20Storage.ipynb)"
   ]
  },
  {
   "cell_type": "code",
   "execution_count": null,
   "metadata": {},
   "outputs": [],
   "source": [
    "# This is only needed to setup PySpark and Spark NLP on Colab\n",
    "!wget http://setup.johnsnowlabs.com/colab.sh -O - | bash"
   ]
  },
  {
   "cell_type": "markdown",
   "metadata": {},
   "source": [
    "# Import External SavedModel From Remote Storage\n",
    "\n",
    "This feature is available for `Spark NLP 4.2.2` and above. So please make sure you have upgraded to the latest Spark NLP release!\n",
    "\n",
    "This feature allows you to load external models (for example exported models from the transfomers library) from various remote locations. These include dbfs, hdfs and s3.\n",
    "\n",
    "For this example we will load an ALBERT model from the transformers library. On how to prepare the model and to export it properly, see the tutorials for the respective transformer at the [following discussion](https://github.com/JohnSnowLabs/spark-nlp/discussions/5669)!"
   ]
  },
  {
   "cell_type": "markdown",
   "metadata": {},
   "source": [
    "## Loading Models from the Databricks File System (DBFS)\n",
    "First, make sure you have Spark NLP installed on your cluster.\n",
    "\n",
    "You can load models from a directory on DBFS by providing a path with the `dbfs:/` protocol."
   ]
  },
  {
   "cell_type": "code",
   "execution_count": null,
   "metadata": {},
   "outputs": [],
   "source": [
    "import sparknlp\n",
    "from sparknlp.annotator import *\n",
    "\n",
    "spark = sparknlp.start()\n",
    "\n",
    "albert = AlbertEmbeddings.loadSavedModel(\n",
    "     'dbfs:/FileStore/tables/johnsnow/albert-base-v2/',\n",
    "     spark\n",
    " )\\\n",
    "    .setInputCols([\"sentence\",'token'])\\\n",
    "    .setOutputCol(\"embeddings\")\\\n",
    "    .setCaseSensitive(False)\\\n",
    "    .setDimension(768)\\\n",
    "    .setStorageRef('albert_base_uncased') \n"
   ]
  },
  {
   "cell_type": "markdown",
   "metadata": {},
   "source": [
    "If the file is on local file storage, it is asvisable to append the `file:/` protocol so that the correct path is resolved."
   ]
  },
  {
   "cell_type": "code",
   "execution_count": null,
   "metadata": {},
   "outputs": [],
   "source": [
    "import sparknlp\n",
    "from sparknlp.annotator import *\n",
    "\n",
    "spark = sparknlp.start()\n",
    "\n",
    "albert = AlbertEmbeddings.loadSavedModel(\n",
    "     'file:/databricks/driver/johnsnow/albert-base-v2/',\n",
    "     spark\n",
    " )\\\n",
    "    .setInputCols([\"sentence\",'token'])\\\n",
    "    .setOutputCol(\"embeddings\")\\\n",
    "    .setCaseSensitive(False)\\\n",
    "    .setDimension(768)\\\n",
    "    .setStorageRef('albert_base_uncased') \n"
   ]
  },
  {
   "cell_type": "markdown",
   "metadata": {},
   "source": [
    "## Loading Models from the Hadoop File System (HDFS)\n",
    "You can load models from a directory on HDFS by providing a path with the `hdfs:/` protocol. \n",
    "\n",
    "Here, the hdfs endpoint is reachable under `localhost:9000`."
   ]
  },
  {
   "cell_type": "code",
   "execution_count": null,
   "metadata": {},
   "outputs": [],
   "source": [
    "import sparknlp\n",
    "from sparknlp.annotator import *\n",
    "\n",
    "spark = sparknlp.start()\n",
    "\n",
    "albert = AlbertEmbeddings.loadSavedModel(\n",
    "     'hdfs://localhost:9000/johnsnow/albert-base-v2/',\n",
    "     spark\n",
    " )\\\n",
    "    .setInputCols([\"sentence\",'token'])\\\n",
    "    .setOutputCol(\"embeddings\")\\\n",
    "    .setCaseSensitive(False)\\\n",
    "    .setDimension(768)\\\n",
    "    .setStorageRef('albert_base_uncased') \n"
   ]
  },
  {
   "cell_type": "markdown",
   "metadata": {},
   "source": [
    "## Loading Models from S3\n",
    "You can load models from a directory on S3 by providing a path with the `s3:/` protocol. \n",
    "\n",
    "You will need to create a custom Spark session with the proper credentials and permissions to access a directory on the s3 bucket. To see an example on how to set up access with temporary credentials see [Load Model From S3 from the SparkNLP Workshop](https://github.com/JohnSnowLabs/spark-nlp-workshop/blob/master/examples/prediction/english/Load_Model_From_S3.ipynb).\n",
    "\n",
    "In this example, the bucket that will be used is called `johnsnow` and its region is `us-east-1`."
   ]
  },
  {
   "cell_type": "markdown",
   "metadata": {},
   "source": [
    "### Anonymous Access\n",
    "If the bucket is publicly accesible, then a Spark session with s3 support can be created like this to load the model from the bucket:"
   ]
  },
  {
   "cell_type": "code",
   "execution_count": null,
   "metadata": {},
   "outputs": [],
   "source": [
    "from pyspark.sql import SparkSession\n",
    "from sparknlp.annotator import *\n",
    "\n",
    "spark = SparkSession.builder \\\n",
    "    .master('local[*]') \\\n",
    "    .appName('Spark NLP') \\\n",
    "    .config(\"spark.driver.memory\", \"8g\") \\\n",
    "    .config(\"spark.driver.maxResultSize\", \"2G\") \\\n",
    "    .config(\"spark.serializer\", \"org.apache.spark.serializer.KryoSerializer\") \\\n",
    "    .config(\"spark.kryoserializer.buffer.max\", \"200M\") \\\n",
    "    .config(\"spark.jsl.settings.aws.region\", \"us-east-1\") \\\n",
    "    .config(\"spark.jars.packages\", \"com.johnsnowlabs.nlp:spark-nlp_2.12:4.2.2\") \\\n",
    "    .getOrCreate()\n",
    "\n",
    "\n",
    "albert = AlbertEmbeddings.loadSavedModel(\n",
    "     's3://johnsnow/models/albert-base-v2/',\n",
    "     spark\n",
    " )\\\n",
    "    .setInputCols([\"sentence\",'token'])\\\n",
    "    .setOutputCol(\"embeddings\")\\\n",
    "    .setCaseSensitive(False)\\\n",
    "    .setDimension(768)\\\n",
    "    .setStorageRef('albert_base_uncased') \n"
   ]
  },
  {
   "cell_type": "markdown",
   "metadata": {},
   "source": [
    "### Restricted Access\n",
    "If the bucket needs credentials, then a Spark session with s3 support can be created like this to load the model from the bucket (taken from the workshop example).\n",
    "\n",
    "Note that `MY_ACCESS_KEY`, `MY_SECRET_KEY`, `MY_SESSION_KEY` need to be set for this example to work."
   ]
  },
  {
   "cell_type": "code",
   "execution_count": null,
   "metadata": {},
   "outputs": [],
   "source": [
    "print(\"Enter your AWS Access Key:\")\n",
    "MY_ACCESS_KEY = input()"
   ]
  },
  {
   "cell_type": "code",
   "execution_count": null,
   "metadata": {},
   "outputs": [],
   "source": [
    "print(\"Enter your AWS Secret Key:\")\n",
    "MY_SECRET_KEY = input()"
   ]
  },
  {
   "cell_type": "code",
   "execution_count": null,
   "metadata": {},
   "outputs": [],
   "source": [
    "print(\"Enter your AWS Session Key:\")\n",
    "MY_SESSION_KEY = input()"
   ]
  },
  {
   "cell_type": "code",
   "execution_count": null,
   "metadata": {},
   "outputs": [],
   "source": [
    "from pyspark.sql import SparkSession\n",
    "from sparknlp.annotator import *\n",
    "\n",
    "\n",
    "spark = SparkSession.builder \\\n",
    "    .appName(\"SparkNLP\") \\\n",
    "    .master(\"local[*]\") \\\n",
    "    .config(\"spark.driver.memory\", \"8G\") \\\n",
    "    .config(\"spark.serializer\", \"org.apache.spark.serializer.KryoSerializer\") \\\n",
    "    .config(\"spark.kryoserializer.buffer.max\", \"2000M\") \\\n",
    "    .config(\"spark.driver.maxResultSize\", \"2G\") \\\n",
    "    .config(\"spark.hadoop.fs.s3a.access.key\", MY_ACCESS_KEY) \\\n",
    "    .config(\"spark.hadoop.fs.s3a.secret.key\", MY_SECRET_KEY) \\\n",
    "    .config(\"spark.hadoop.fs.s3a.session.token\", MY_SESSION_KEY) \\\n",
    "    .config(\"spark.hadoop.fs.s3a.aws.credentials.provider\", \"org.apache.hadoop.fs.s3a.TemporaryAWSCredentialsProvider\") \\\n",
    "    .config(\"spark.hadoop.fs.s3a.path.style.access\", \"true\") \\\n",
    "    .config(\"spark.jsl.settings.aws.region\", \"us-east-1\") \\\n",
    "    .getOrCreate()\n",
    "\n",
    "\n",
    "albert = AlbertEmbeddings.loadSavedModel(\n",
    "     's3://johnsnow/models/albert-base-v2/',\n",
    "     spark\n",
    " )\\\n",
    "    .setInputCols([\"sentence\",'token'])\\\n",
    "    .setOutputCol(\"embeddings\")\\\n",
    "    .setCaseSensitive(False)\\\n",
    "    .setDimension(768)\\\n",
    "    .setStorageRef('albert_base_uncased') \n"
   ]
  }
 ],
 "metadata": {
  "application/vnd.databricks.v1+notebook": {
   "dashboards": [],
   "language": "python",
   "notebookMetadata": {
    "pythonIndentUnit": 2
   },
   "notebookName": "Import External SavedModel From Remote Storage",
   "notebookOrigID": 3917489032437656,
   "widgets": {}
  },
  "colab": {
   "collapsed_sections": [],
   "provenance": []
  },
  "kernelspec": {
   "display_name": "Python 3 (ipykernel)",
   "language": "python",
   "name": "python3"
  },
  "language_info": {
   "codemirror_mode": {
    "name": "ipython",
    "version": 3
   },
   "file_extension": ".py",
   "mimetype": "text/x-python",
   "name": "python",
   "nbconvert_exporter": "python",
   "pygments_lexer": "ipython3"
  },
  "nteract": {
   "version": "0.28.0"
  }
 },
 "nbformat": 4,
 "nbformat_minor": 0
}
