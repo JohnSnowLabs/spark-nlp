{
 "cells": [
  {
   "cell_type": "markdown",
   "metadata": {
    "id": "7QqJ45DfGwht"
   },
   "source": [
    "![JohnSnowLabs](https://sparknlp.org/assets/images/logo.png)\n",
    "\n",
    "[![Open In Colab](https://colab.research.google.com/assets/colab-badge.svg)](https://colab.research.google.com/github/JohnSnowLabs/spark-nlp/blob/master/examples/python/transformers/HuggingFace_in_Spark_NLP_Longformer.ipynb)"
   ]
  },
  {
   "cell_type": "markdown",
   "metadata": {
    "id": "fvJpkVxwGwhw"
   },
   "source": [
    "## Import Longformer models from HuggingFace 🤗  into Spark NLP 🚀\n",
    "\n",
    "Let's keep in mind a few things before we start 😊\n",
    "\n",
    "- This feature is only in `Spark NLP 3.2.x` and after. So please make sure you have upgraded to the latest Spark NLP release\n",
    "- You can import models for Longformer from HuggingFace but they have to be compatible with `TensorFlow` and they have to be in `Fill Mask` category. Meaning, you cannot use Longformer models trained/fine-tuned on a specific task such as token/sequence classification."
   ]
  },
  {
   "cell_type": "markdown",
   "metadata": {
    "id": "8tYI5ShkGwhw"
   },
   "source": [
    "## Export and Save HuggingFace model"
   ]
  },
  {
   "cell_type": "markdown",
   "metadata": {
    "id": "_29iLVp4Gwhx"
   },
   "source": [
    "- Let's install `HuggingFace` and `TensorFlow`. You don't need `TensorFlow` to be installed for Spark NLP, however, we need it to load and save models from HuggingFace.\n",
    "- We lock TensorFlow on `2.11.0` version and Transformers on `4.39.3`. This doesn't mean it won't work with the future releases, but we wanted you to know which versions have been tested successfully."
   ]
  },
  {
   "cell_type": "code",
   "execution_count": 1,
   "metadata": {
    "colab": {
     "base_uri": "https://localhost:8080/"
    },
    "id": "yLzAUrE3Gwhx",
    "outputId": "6e00f0b6-05f5-4c9e-b543-1c82ad89d5b7"
   },
   "outputs": [
    {
     "name": "stdout",
     "output_type": "stream",
     "text": [
      "\u001b[2K     \u001b[90m━━━━━━━━━━━━━━━━━━━━━━━━━━━━━━━━━━━━━━━━\u001b[0m \u001b[32m8.8/8.8 MB\u001b[0m \u001b[31m35.8 MB/s\u001b[0m eta \u001b[36m0:00:00\u001b[0m\n",
      "\u001b[2K     \u001b[90m━━━━━━━━━━━━━━━━━━━━━━━━━━━━━━━━━━━━━━━━\u001b[0m \u001b[32m588.3/588.3 MB\u001b[0m \u001b[31m1.5 MB/s\u001b[0m eta \u001b[36m0:00:00\u001b[0m\n",
      "\u001b[2K     \u001b[90m━━━━━━━━━━━━━━━━━━━━━━━━━━━━━━━━━━━━━━━━\u001b[0m \u001b[32m3.6/3.6 MB\u001b[0m \u001b[31m36.7 MB/s\u001b[0m eta \u001b[36m0:00:00\u001b[0m\n",
      "\u001b[2K     \u001b[90m━━━━━━━━━━━━━━━━━━━━━━━━━━━━━━━━━━━━━━━━\u001b[0m \u001b[32m1.7/1.7 MB\u001b[0m \u001b[31m35.5 MB/s\u001b[0m eta \u001b[36m0:00:00\u001b[0m\n",
      "\u001b[2K     \u001b[90m━━━━━━━━━━━━━━━━━━━━━━━━━━━━━━━━━━━━━━━━\u001b[0m \u001b[32m1.1/1.1 MB\u001b[0m \u001b[31m19.3 MB/s\u001b[0m eta \u001b[36m0:00:00\u001b[0m\n",
      "\u001b[2K     \u001b[90m━━━━━━━━━━━━━━━━━━━━━━━━━━━━━━━━━━━━━━━━\u001b[0m \u001b[32m6.0/6.0 MB\u001b[0m \u001b[31m53.0 MB/s\u001b[0m eta \u001b[36m0:00:00\u001b[0m\n",
      "\u001b[2K     \u001b[90m━━━━━━━━━━━━━━━━━━━━━━━━━━━━━━━━━━━━━━━━\u001b[0m \u001b[32m439.2/439.2 kB\u001b[0m \u001b[31m15.9 MB/s\u001b[0m eta \u001b[36m0:00:00\u001b[0m\n",
      "\u001b[2K     \u001b[90m━━━━━━━━━━━━━━━━━━━━━━━━━━━━━━━━━━━━━━━━\u001b[0m \u001b[32m4.9/4.9 MB\u001b[0m \u001b[31m53.5 MB/s\u001b[0m eta \u001b[36m0:00:00\u001b[0m\n",
      "\u001b[2K     \u001b[90m━━━━━━━━━━━━━━━━━━━━━━━━━━━━━━━━━━━━━━━━\u001b[0m \u001b[32m781.3/781.3 kB\u001b[0m \u001b[31m19.0 MB/s\u001b[0m eta \u001b[36m0:00:00\u001b[0m\n",
      "\u001b[?25h\u001b[31mERROR: pip's dependency resolver does not currently take into account all the packages that are installed. This behaviour is the source of the following dependency conflicts.\n",
      "cudf-cu12 24.4.1 requires protobuf<5,>=3.20, but you have protobuf 3.19.6 which is incompatible.\n",
      "pandas-gbq 0.19.2 requires google-auth-oauthlib>=0.7.0, but you have google-auth-oauthlib 0.4.6 which is incompatible.\n",
      "tensorflow-datasets 4.9.4 requires protobuf>=3.20, but you have protobuf 3.19.6 which is incompatible.\n",
      "tensorflow-metadata 1.15.0 requires protobuf<4.21,>=3.20.3; python_version < \"3.11\", but you have protobuf 3.19.6 which is incompatible.\n",
      "tf-keras 2.15.1 requires tensorflow<2.16,>=2.15, but you have tensorflow 2.11.0 which is incompatible.\u001b[0m\u001b[31m\n",
      "\u001b[0m"
     ]
    }
   ],
   "source": [
    "!pip install -q transformers==4.39.3 tensorflow==2.11.0"
   ]
  },
  {
   "cell_type": "markdown",
   "metadata": {
    "id": "m5W6WK_6Gwhy"
   },
   "source": [
    "- HuggingFace comes with a native `saved_model` feature inside `save_pretrained` function for TensorFlow based models. We will use that to save it as TF `SavedModel`.\n",
    "- We'll use [fxmarty/tiny-random-longformer-onnxtrue](https://huggingface.co/allenai/fxmarty/tiny-random-longformer-onnxtrue) model from HuggingFace as an example\n",
    "- In addition to `TFLongformerModel` we also need to save the `LongformerTokenizer`. This is the same for every model, these are assets needed for tokenization inside Spark NLP."
   ]
  },
  {
   "cell_type": "code",
   "execution_count": 5,
   "metadata": {
    "colab": {
     "base_uri": "https://localhost:8080/",
     "height": 385,
     "referenced_widgets": [
      "18c899d70e15402085c6703fe9dcfb20",
      "677409952b5043f1a17238615199d9e7",
      "4928c04ec0fa498884d94dca31500ad9",
      "4fd13c74246a4cc7a21af2bfafb6c9bb",
      "42cd919d2807456082352e7205837748",
      "5de7748e61de4ec984e5f24266388276",
      "484ee49fa9bf4c03bef85e834af4e662",
      "eeb1f002d4904ace9b4eb7a71c335af8",
      "21d399523ada4d299b0d0dea62da8d98",
      "f6e00a1da3c745038abfcc123e941814",
      "5bd41adf79c84375be82e8d1afa0ff7e",
      "4bfd4e42a05d41849f410c76a08770f6",
      "165c057036e94ca7845b6ca22adce1d7",
      "6b536f5800fc4006823937ce3fca4bf5",
      "f5ad7f63b0ad49298def6b86bc8ad8be",
      "0c086f200f5f4f8289f7ef19587d01b1",
      "441522463e7a4c2dad24a48efb1794c4",
      "157bb4a42cd34ed1929f90c26722018a",
      "eff1368a36e44e8797fb287bcb6b072a",
      "74a1a683b235461c91e98a5ab3a3e483",
      "8c88864315d94f7fab9847d3fba33037",
      "a416efd21cf14b02a21078ed2c4fdfed",
      "0a6f6aede3e0468dae4160f1eefdefbb",
      "13d83da452ed4e2eafc1a637188213ba",
      "4ecdb7f29efa4c4f83470abc682e156f",
      "6cb2d4a800d14622a068c6eaf34399f8",
      "1f8c5144dd2a432f89f39b4cd6e7eb27",
      "8e827b449caa4cfeb33fbfe0fad14dcd",
      "b150ab151dc14e43bfdc01c4eb1a58ca",
      "54f14717d3ea4149a70eab8f355fe7d9",
      "3ccb92043e634e2989980157327cd5e2",
      "b176ee4f56574c029b9e9a97562c5ce3",
      "cbf237484188498dab46ae834714399a",
      "9cf819d4e20c43ddb506210a8c8edf59",
      "de3e717c86bd40ffa1b7c31ed9d7efb4",
      "e3fd910097934efe94f17208f1352321",
      "b7e4d07f72644f2896feed1893f64c3c",
      "9697880330494b95a3d9249e13beb245",
      "387bab30298b4006a362fecf2df61f79",
      "f754039411a94c84b760c0e9f0321974",
      "aac7f86e03c34f1b8f1a2c8382221bf5",
      "62a9bbbbb9bc4a998d52bb265d0acc7d",
      "89b6eae3b72442058f26f2b05724f735",
      "e5c92e5434264404ab2169e960c4ae5a",
      "48dd2b3ae0f7459884d6d6d8cb716698",
      "d1103c68f2ab494abd1708e04cb3b732",
      "d776e5c752c34ba7970e170bcc0ca0cd",
      "3a0599373bc5465f9ba4080325fd6185",
      "3b67347c008a4bc79a26c522edc30da9",
      "b2aa3a75f3b84dc8948d24ef2e1b7a1a",
      "df3b6626cf2c4bb0a450c65c82862366",
      "8ddc136a45d44c6b9009351eb95b1c0c",
      "7c97a88423794854a4e5a07e752e33d8",
      "40dfb7a6bf414b43873bec68d4b22876",
      "326c865379694eb7b83a222456fa5fb0",
      "4fd351f9d3c042d39d3023e4c7443ad8",
      "4808995cf87a4464b2b8d7f7df14159f",
      "029540669b304b498a549edf90a5f8dc",
      "e2910132626e42f1b5808de57675b78c",
      "0c6ae4ba357548dcb5ada18cfe72e297",
      "ce86cf2f2fbc41c2920af8f2b8626969",
      "fded8eb056804bca81a8505a27104a41",
      "1ab1ec058652449c9e7e250104874654",
      "0a9d147952f244fa9e2d98ef4d82d3f2",
      "cf09bab4671e4169884e44912bc1a499",
      "e2dd2328043b4fd588f4284cd01b7d1b"
     ]
    },
    "id": "RiSiCdn2Gwhy",
    "outputId": "e33a7822-effe-4f21-c3dc-50b0acbbce96"
   },
   "outputs": [
    {
     "data": {
      "application/vnd.jupyter.widget-view+json": {
       "model_id": "18c899d70e15402085c6703fe9dcfb20",
       "version_major": 2,
       "version_minor": 0
      },
      "text/plain": [
       "tokenizer_config.json:   0%|          | 0.00/1.28k [00:00<?, ?B/s]"
      ]
     },
     "metadata": {},
     "output_type": "display_data"
    },
    {
     "data": {
      "application/vnd.jupyter.widget-view+json": {
       "model_id": "4bfd4e42a05d41849f410c76a08770f6",
       "version_major": 2,
       "version_minor": 0
      },
      "text/plain": [
       "vocab.json:   0%|          | 0.00/999k [00:00<?, ?B/s]"
      ]
     },
     "metadata": {},
     "output_type": "display_data"
    },
    {
     "data": {
      "application/vnd.jupyter.widget-view+json": {
       "model_id": "0a6f6aede3e0468dae4160f1eefdefbb",
       "version_major": 2,
       "version_minor": 0
      },
      "text/plain": [
       "merges.txt:   0%|          | 0.00/456k [00:00<?, ?B/s]"
      ]
     },
     "metadata": {},
     "output_type": "display_data"
    },
    {
     "data": {
      "application/vnd.jupyter.widget-view+json": {
       "model_id": "9cf819d4e20c43ddb506210a8c8edf59",
       "version_major": 2,
       "version_minor": 0
      },
      "text/plain": [
       "special_tokens_map.json:   0%|          | 0.00/957 [00:00<?, ?B/s]"
      ]
     },
     "metadata": {},
     "output_type": "display_data"
    },
    {
     "name": "stdout",
     "output_type": "stream",
     "text": [
      "try downloading TF weights\n"
     ]
    },
    {
     "data": {
      "application/vnd.jupyter.widget-view+json": {
       "model_id": "48dd2b3ae0f7459884d6d6d8cb716698",
       "version_major": 2,
       "version_minor": 0
      },
      "text/plain": [
       "config.json:   0%|          | 0.00/726 [00:00<?, ?B/s]"
      ]
     },
     "metadata": {},
     "output_type": "display_data"
    },
    {
     "name": "stdout",
     "output_type": "stream",
     "text": [
      "try downloading PyTorch weights\n"
     ]
    },
    {
     "data": {
      "application/vnd.jupyter.widget-view+json": {
       "model_id": "4fd351f9d3c042d39d3023e4c7443ad8",
       "version_major": 2,
       "version_minor": 0
      },
      "text/plain": [
       "pytorch_model.bin:   0%|          | 0.00/3.52M [00:00<?, ?B/s]"
      ]
     },
     "metadata": {},
     "output_type": "display_data"
    },
    {
     "name": "stderr",
     "output_type": "stream",
     "text": [
      "/usr/local/lib/python3.10/dist-packages/keras/initializers/initializers_v2.py:120: UserWarning: The initializer TruncatedNormal is unseeded and being called multiple times, which will return identical values  each time (even if the initializer is unseeded). Please update your code to provide a seed to the initializer, or avoid using the same initalizer instance more than once.\n",
      "  warnings.warn(\n",
      "All PyTorch model weights were used when initializing TFLongformerModel.\n",
      "\n",
      "All the weights of TFLongformerModel were initialized from the PyTorch model.\n",
      "If your task is similar to the task the model of the checkpoint was trained on, you can already use TFLongformerModel for predictions without further training.\n",
      "WARNING:absl:Found untraced functions such as serving, embeddings_layer_call_fn, embeddings_layer_call_and_return_conditional_losses, encoder_layer_call_fn, encoder_layer_call_and_return_conditional_losses while saving (showing 5 of 97). These functions will not be directly callable after loading.\n"
     ]
    }
   ],
   "source": [
    "from transformers import LongformerTokenizer, TFLongformerModel\n",
    "import tensorflow as tf\n",
    "\n",
    "MODEL_NAME = 'fxmarty/tiny-random-longformer-onnxtrue'\n",
    "\n",
    "# let's keep the tokenizer variable, we need it later\n",
    "tokenizer = LongformerTokenizer.from_pretrained(MODEL_NAME)\n",
    "# let's save the tokenizer\n",
    "tokenizer.save_pretrained('./{}_tokenizer/'.format(MODEL_NAME))\n",
    "\n",
    "# just in case if there is no TF/Keras file provided in the model\n",
    "# we can just use `from_pt` and convert PyTorch to TensorFlow\n",
    "try:\n",
    "  print('try downloading TF weights')\n",
    "  model = TFLongformerModel.from_pretrained(MODEL_NAME)\n",
    "except:\n",
    "  print('try downloading PyTorch weights')\n",
    "  model = TFLongformerModel.from_pretrained(MODEL_NAME, from_pt=True)\n",
    "\n",
    "@tf.function(\n",
    "  input_signature=[\n",
    "      {\n",
    "          \"input_ids\": tf.TensorSpec((None, None), tf.int32, name=\"input_ids\"),\n",
    "          \"attention_mask\": tf.TensorSpec((None, None), tf.int32, name=\"attention_mask\")\n",
    "      }\n",
    "  ]\n",
    ")\n",
    "def serving_fn(input):\n",
    "    return model(input)\n",
    "\n",
    "model.save_pretrained(\"./{}\".format(MODEL_NAME), saved_model=True, signatures={\"serving_default\": serving_fn})"
   ]
  },
  {
   "cell_type": "markdown",
   "metadata": {
    "id": "fH6_-IXNGwhz"
   },
   "source": [
    "Let's have a look inside these two directories and see what we are dealing with:"
   ]
  },
  {
   "cell_type": "code",
   "execution_count": 6,
   "metadata": {
    "colab": {
     "base_uri": "https://localhost:8080/"
    },
    "id": "s4gsX53ZGwhz",
    "outputId": "ba7eb778-d780-481a-c38d-b226157efa9c"
   },
   "outputs": [
    {
     "name": "stdout",
     "output_type": "stream",
     "text": [
      "total 3504\n",
      "-rw-r--r-- 1 root root     783 May 16 02:00 config.json\n",
      "drwxr-xr-x 3 root root    4096 May 16 02:00 saved_model\n",
      "-rw-r--r-- 1 root root 3577624 May 16 02:00 tf_model.h5\n"
     ]
    }
   ],
   "source": [
    "!ls -l {MODEL_NAME}"
   ]
  },
  {
   "cell_type": "code",
   "execution_count": 7,
   "metadata": {
    "colab": {
     "base_uri": "https://localhost:8080/"
    },
    "id": "8J7HOUsdGwhz",
    "outputId": "c148e61e-242a-4f95-8191-2363a857f844"
   },
   "outputs": [
    {
     "name": "stdout",
     "output_type": "stream",
     "text": [
      "total 12164\n",
      "drwxr-xr-x 2 root root     4096 May 16 02:00 assets\n",
      "-rw-r--r-- 1 root root       53 May 16 02:00 fingerprint.pb\n",
      "-rw-r--r-- 1 root root    43109 May 16 02:00 keras_metadata.pb\n",
      "-rw-r--r-- 1 root root 12395300 May 16 02:00 saved_model.pb\n",
      "drwxr-xr-x 2 root root     4096 May 16 02:00 variables\n"
     ]
    }
   ],
   "source": [
    "!ls -l {MODEL_NAME}/saved_model/1"
   ]
  },
  {
   "cell_type": "code",
   "execution_count": 8,
   "metadata": {
    "colab": {
     "base_uri": "https://localhost:8080/"
    },
    "id": "gJsGwCZyGwhz",
    "outputId": "d823a5ca-6272-44ae-fda6-45e631c5308e"
   },
   "outputs": [
    {
     "name": "stdout",
     "output_type": "stream",
     "text": [
      "total 1432\n",
      "-rw-r--r-- 1 root root 456318 May 16 01:59 merges.txt\n",
      "-rw-r--r-- 1 root root    957 May 16 01:59 special_tokens_map.json\n",
      "-rw-r--r-- 1 root root   1194 May 16 01:59 tokenizer_config.json\n",
      "-rw-r--r-- 1 root root 999355 May 16 01:59 vocab.json\n"
     ]
    }
   ],
   "source": [
    "!ls -l {MODEL_NAME}_tokenizer"
   ]
  },
  {
   "cell_type": "markdown",
   "metadata": {
    "id": "x4R5fi9LGwh0"
   },
   "source": [
    "- as you can see, we need the SavedModel from `saved_model/1/` path\n",
    "- we also be needing `vocab.json` and `merges.txt` files from the tokenizer\n",
    "- all we need is to first convert `vocab.json` to `vocab.txt` and copy both `vocab.txt` and `merges.txt` into `saved_model/1/assets` which Spark NLP will look for"
   ]
  },
  {
   "cell_type": "code",
   "execution_count": 9,
   "metadata": {
    "id": "PDeJzZy1Gwh0"
   },
   "outputs": [],
   "source": [
    "# let's save the vocab as txt file\n",
    "with open('{}_tokenizer/vocab.txt'.format(MODEL_NAME), 'w') as f:\n",
    "    for item in tokenizer.get_vocab().keys():\n",
    "        f.write(\"%s\\n\" % item)\n",
    "\n",
    "# let's copy both vocab.txt and merges.txt files to saved_model/1/assets\n",
    "!cp {MODEL_NAME}_tokenizer/vocab.txt {MODEL_NAME}/saved_model/1/assets\n",
    "!cp {MODEL_NAME}_tokenizer/merges.txt {MODEL_NAME}/saved_model/1/assets"
   ]
  },
  {
   "cell_type": "markdown",
   "metadata": {
    "id": "4xfmSO9dGwh0"
   },
   "source": [
    "## Import and Save Longformer in Spark NLP\n"
   ]
  },
  {
   "cell_type": "markdown",
   "metadata": {
    "id": "K6iE7m19Gwh0"
   },
   "source": [
    "- Let's install and setup Spark NLP in Google Colab\n",
    "- This part is pretty easy via our simple script"
   ]
  },
  {
   "cell_type": "code",
   "execution_count": 10,
   "metadata": {
    "colab": {
     "base_uri": "https://localhost:8080/"
    },
    "id": "zN-YpJv1Gwh0",
    "outputId": "f5576c6f-86d6-4102-802f-59d6a22e8117"
   },
   "outputs": [
    {
     "name": "stdout",
     "output_type": "stream",
     "text": [
      "--2024-05-16 02:00:55--  http://setup.johnsnowlabs.com/colab.sh\n",
      "Resolving setup.johnsnowlabs.com (setup.johnsnowlabs.com)... 51.158.130.125\n",
      "Connecting to setup.johnsnowlabs.com (setup.johnsnowlabs.com)|51.158.130.125|:80... connected.\n",
      "HTTP request sent, awaiting response... 302 Moved Temporarily\n",
      "Location: https://raw.githubusercontent.com/JohnSnowLabs/spark-nlp/master/scripts/colab_setup.sh [following]\n",
      "--2024-05-16 02:00:55--  https://raw.githubusercontent.com/JohnSnowLabs/spark-nlp/master/scripts/colab_setup.sh\n",
      "Resolving raw.githubusercontent.com (raw.githubusercontent.com)... 185.199.109.133, 185.199.108.133, 185.199.110.133, ...\n",
      "Connecting to raw.githubusercontent.com (raw.githubusercontent.com)|185.199.109.133|:443... connected.\n",
      "HTTP request sent, awaiting response... 200 OK\n",
      "Length: 1191 (1.2K) [text/plain]\n",
      "Saving to: ‘STDOUT’\n",
      "\n",
      "-                   100%[===================>]   1.16K  --.-KB/s    in 0s      \n",
      "\n",
      "2024-05-16 02:00:55 (60.5 MB/s) - written to stdout [1191/1191]\n",
      "\n",
      "Installing PySpark 3.2.3 and Spark NLP 5.3.3\n",
      "setup Colab for PySpark 3.2.3 and Spark NLP 5.3.3\n",
      "\u001b[2K     \u001b[90m━━━━━━━━━━━━━━━━━━━━━━━━━━━━━━━━━━━━━━━━\u001b[0m \u001b[32m281.5/281.5 MB\u001b[0m \u001b[31m5.2 MB/s\u001b[0m eta \u001b[36m0:00:00\u001b[0m\n",
      "\u001b[?25h  Preparing metadata (setup.py) ... \u001b[?25l\u001b[?25hdone\n",
      "\u001b[2K     \u001b[90m━━━━━━━━━━━━━━━━━━━━━━━━━━━━━━━━━━━━━━━━\u001b[0m \u001b[32m568.4/568.4 kB\u001b[0m \u001b[31m39.7 MB/s\u001b[0m eta \u001b[36m0:00:00\u001b[0m\n",
      "\u001b[2K     \u001b[90m━━━━━━━━━━━━━━━━━━━━━━━━━━━━━━━━━━━━━━━━\u001b[0m \u001b[32m199.7/199.7 kB\u001b[0m \u001b[31m18.0 MB/s\u001b[0m eta \u001b[36m0:00:00\u001b[0m\n",
      "\u001b[?25h  Building wheel for pyspark (setup.py) ... \u001b[?25l\u001b[?25hdone\n"
     ]
    }
   ],
   "source": [
    "! wget http://setup.johnsnowlabs.com/colab.sh -O - | bash"
   ]
  },
  {
   "cell_type": "markdown",
   "metadata": {
    "id": "jqA08v_dGwh0"
   },
   "source": [
    "Let's start Spark with Spark NLP included via our simple `start()` function"
   ]
  },
  {
   "cell_type": "code",
   "execution_count": 11,
   "metadata": {
    "colab": {
     "base_uri": "https://localhost:8080/"
    },
    "id": "Q-qPfpoXGwh0",
    "outputId": "a0b0eace-e9c3-4f4b-cf62-e6c990a31eec"
   },
   "outputs": [
    {
     "name": "stderr",
     "output_type": "stream",
     "text": [
      "/usr/lib/python3.10/subprocess.py:1796: RuntimeWarning: os.fork() was called. os.fork() is incompatible with multithreaded code, and JAX is multithreaded, so this will likely lead to a deadlock.\n",
      "  self.pid = _posixsubprocess.fork_exec(\n"
     ]
    }
   ],
   "source": [
    "import sparknlp\n",
    "# let's start Spark with Spark NLP\n",
    "spark = sparknlp.start()"
   ]
  },
  {
   "cell_type": "markdown",
   "metadata": {
    "id": "qaBcOUzOGwh0"
   },
   "source": [
    "- Let's use `loadSavedModel` functon in `LongformerEmbeddings` which allows us to load TensorFlow model in SavedModel format\n",
    "- Most params can be set later when you are loading this model in `LongformerEmbeddings` in runtime, so don't worry what you are setting them now\n",
    "- `loadSavedModel` accepts two params, first is the path to the TF SavedModel. The second is the SparkSession that is `spark` variable we previously started via `sparknlp.start()`\n",
    "- `setStorageRef` is very important. When you are training a task like NER or any Text Classification, we use this reference to bound the trained model to this specific embeddings so you won't load a different embeddings by mistake and see terrible results 😊\n",
    "- It's up to you what you put in `setStorageRef` but it cannot be changed later on. We usually use the name of the model to be clear, but you can get creative if you want!\n",
    "- The `dimension` param is is purely cosmetic and won't change anything. It's mostly for you to know later via `.getDimension` what is the dimension of your model. So set this accordingly.\n",
    "- NOTE: `loadSavedModel` only accepts local paths and not distributed file systems such as `HDFS`, `S3`, `DBFS`, etc. That is why we use `write.save` so we can use `.load()` from any file systems.\n",
    "\n"
   ]
  },
  {
   "cell_type": "code",
   "execution_count": 12,
   "metadata": {
    "id": "_5hVLCRIGwh0"
   },
   "outputs": [],
   "source": [
    "from sparknlp.annotator import *\n",
    "\n",
    "longformer = LongformerEmbeddings.loadSavedModel(\n",
    "     '{}/saved_model/1'.format(MODEL_NAME),\n",
    "     spark\n",
    " )\\\n",
    " .setInputCols([\"sentence\",'token'])\\\n",
    " .setOutputCol(\"embeddings\")\\\n",
    " .setCaseSensitive(True)\\\n",
    " .setDimension(768)\\\n",
    " .setMaxSentenceLength(4096)\\\n",
    " .setStorageRef('longformer_base_4096')\n"
   ]
  },
  {
   "cell_type": "markdown",
   "metadata": {
    "id": "Vx09fDZNGwh0"
   },
   "source": [
    "- Let's save it on disk so it is easier to be moved around and also be used later via `.load` function"
   ]
  },
  {
   "cell_type": "code",
   "execution_count": 13,
   "metadata": {
    "id": "IE6qtUVlGwh0"
   },
   "outputs": [],
   "source": [
    "longformer.write().overwrite().save(\"./{}_spark_nlp\".format(MODEL_NAME))"
   ]
  },
  {
   "cell_type": "markdown",
   "metadata": {
    "id": "Utd3M2aiGwh0"
   },
   "source": [
    "Let's clean up stuff we don't need anymore"
   ]
  },
  {
   "cell_type": "code",
   "execution_count": 14,
   "metadata": {
    "id": "SPI_XLBhGwh0"
   },
   "outputs": [],
   "source": [
    "!rm -rf {MODEL_NAME}_tokenizer {MODEL_NAME}"
   ]
  },
  {
   "cell_type": "markdown",
   "metadata": {
    "id": "TsV8kkzOGwh0"
   },
   "source": [
    "Awesome 😎  !\n",
    "\n",
    "This is your Longformer model from HuggingFace 🤗 loaded and saved by Spark NLP 🚀"
   ]
  },
  {
   "cell_type": "code",
   "execution_count": 15,
   "metadata": {
    "colab": {
     "base_uri": "https://localhost:8080/"
    },
    "id": "8-C2kf2sGwh0",
    "outputId": "69997e59-8255-4230-81d3-386d08da64a7"
   },
   "outputs": [
    {
     "name": "stdout",
     "output_type": "stream",
     "text": [
      "total 15488\n",
      "drwxr-xr-x 5 root root     4096 May 16 02:03 fields\n",
      "-rw-r--r-- 1 root root 15850073 May 16 02:03 longformer_tensorflow\n",
      "drwxr-xr-x 2 root root     4096 May 16 02:03 metadata\n"
     ]
    }
   ],
   "source": [
    "! ls -l {MODEL_NAME}_spark_nlp"
   ]
  },
  {
   "cell_type": "markdown",
   "metadata": {
    "id": "IsSrk0qfGwh1"
   },
   "source": [
    "Now let's see how we can use it on other machines, clusters, or any place you wish to use your new and shiny Longformer model 😊"
   ]
  },
  {
   "cell_type": "code",
   "execution_count": 16,
   "metadata": {
    "id": "P-2RX6X6Gwh1"
   },
   "outputs": [],
   "source": [
    "longformer_loaded = LongformerEmbeddings.load(\"./{}_spark_nlp\".format(MODEL_NAME))\\\n",
    "  .setInputCols([\"sentence\",'token'])\\\n",
    "  .setOutputCol(\"embeddings\")"
   ]
  },
  {
   "cell_type": "code",
   "execution_count": 17,
   "metadata": {
    "colab": {
     "base_uri": "https://localhost:8080/",
     "height": 35
    },
    "id": "FyIdwO2vGwh1",
    "outputId": "6809f4c9-db3e-4159-8070-d793502370b6"
   },
   "outputs": [
    {
     "data": {
      "application/vnd.google.colaboratory.intrinsic+json": {
       "type": "string"
      },
      "text/plain": [
       "'longformer_base_4096'"
      ]
     },
     "execution_count": 17,
     "metadata": {},
     "output_type": "execute_result"
    }
   ],
   "source": [
    "longformer_loaded.getStorageRef()"
   ]
  },
  {
   "cell_type": "markdown",
   "metadata": {
    "id": "mTRS47F3Gwh1"
   },
   "source": [
    "That's it! You can now go wild and use hundreds of Longformer models from HuggingFace 🤗 in Spark NLP 🚀\n"
   ]
  }
 ],
 "metadata": {
  "colab": {
   "name": "HuggingFace in Spark NLP - Longformer.ipynb",
   "provenance": []
  },
  "kernelspec": {
   "display_name": "Python 3",
   "name": "python3"
  },
  "language_info": {
   "name": "python"
  }
 },
 "nbformat": 4,
 "nbformat_minor": 0
}
