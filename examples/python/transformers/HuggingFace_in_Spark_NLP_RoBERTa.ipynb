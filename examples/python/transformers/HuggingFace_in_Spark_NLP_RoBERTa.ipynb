{
 "cells": [
  {
   "cell_type": "markdown",
   "metadata": {
    "id": "hdcHr3wbObYL"
   },
   "source": [
    "![JohnSnowLabs](https://sparknlp.org/assets/images/logo.png)\n",
    "\n",
    "[![Open In Colab](https://colab.research.google.com/assets/colab-badge.svg)](https://colab.research.google.com/github/JohnSnowLabs/spark-nlp/blob/master/examples/python/transformers/HuggingFace_in_Spark_NLP_RoBERTa.ipynb)"
   ]
  },
  {
   "cell_type": "markdown",
   "metadata": {
    "id": "mBdJnND5ObYP"
   },
   "source": [
    "## Import RoBERTa models from HuggingFace 🤗  into Spark NLP 🚀\n",
    "\n",
    "Let's keep in mind a few things before we start 😊\n",
    "\n",
    "- This feature is only in `Spark NLP 3.1.x` and after. So please make sure you have upgraded to the latest Spark NLP release\n",
    "- You can import models for RoBERTa from HuggingFace but they have to be compatible with `TensorFlow` and they have to be in `Fill Mask` category. Meaning, you cannot use RoBERTa models trained/fine-tuned on a specific task such as token/sequence classification."
   ]
  },
  {
   "cell_type": "markdown",
   "metadata": {
    "id": "RaczVu2aObYQ"
   },
   "source": [
    "## Export and Save HuggingFace model"
   ]
  },
  {
   "cell_type": "markdown",
   "metadata": {
    "id": "K5i4iGHbObYQ"
   },
   "source": [
    "- Let's install `HuggingFace` and `TensorFlow`. You don't need `TensorFlow` to be installed for Spark NLP, however, we need it to load and save models from HuggingFace.\n",
    "- We lock TensorFlow on `2.11.0` version and Transformers on `4.39.3`. This doesn't mean it won't work with the future releases, but we wanted you to know which versions have been tested successfully.\n"
   ]
  },
  {
   "cell_type": "code",
   "execution_count": 1,
   "metadata": {
    "colab": {
     "base_uri": "https://localhost:8080/"
    },
    "id": "XM-rhdxrObYR",
    "outputId": "b39f3ba4-335d-4cb7-e4a0-91035959095b"
   },
   "outputs": [
    {
     "name": "stdout",
     "output_type": "stream",
     "text": [
      "\u001b[2K     \u001b[90m━━━━━━━━━━━━━━━━━━━━━━━━━━━━━━━━━━━━━━━━\u001b[0m \u001b[32m8.8/8.8 MB\u001b[0m \u001b[31m30.2 MB/s\u001b[0m eta \u001b[36m0:00:00\u001b[0m\n",
      "\u001b[2K     \u001b[90m━━━━━━━━━━━━━━━━━━━━━━━━━━━━━━━━━━━━━━━━\u001b[0m \u001b[32m588.3/588.3 MB\u001b[0m \u001b[31m821.5 kB/s\u001b[0m eta \u001b[36m0:00:00\u001b[0m\n",
      "\u001b[2K     \u001b[90m━━━━━━━━━━━━━━━━━━━━━━━━━━━━━━━━━━━━━━━━\u001b[0m \u001b[32m1.7/1.7 MB\u001b[0m \u001b[31m77.7 MB/s\u001b[0m eta \u001b[36m0:00:00\u001b[0m\n",
      "\u001b[2K     \u001b[90m━━━━━━━━━━━━━━━━━━━━━━━━━━━━━━━━━━━━━━━━\u001b[0m \u001b[32m1.1/1.1 MB\u001b[0m \u001b[31m66.0 MB/s\u001b[0m eta \u001b[36m0:00:00\u001b[0m\n",
      "\u001b[2K     \u001b[90m━━━━━━━━━━━━━━━━━━━━━━━━━━━━━━━━━━━━━━━━\u001b[0m \u001b[32m6.0/6.0 MB\u001b[0m \u001b[31m92.4 MB/s\u001b[0m eta \u001b[36m0:00:00\u001b[0m\n",
      "\u001b[2K     \u001b[90m━━━━━━━━━━━━━━━━━━━━━━━━━━━━━━━━━━━━━━━━\u001b[0m \u001b[32m439.2/439.2 kB\u001b[0m \u001b[31m35.2 MB/s\u001b[0m eta \u001b[36m0:00:00\u001b[0m\n",
      "\u001b[2K     \u001b[90m━━━━━━━━━━━━━━━━━━━━━━━━━━━━━━━━━━━━━━━━\u001b[0m \u001b[32m4.9/4.9 MB\u001b[0m \u001b[31m90.6 MB/s\u001b[0m eta \u001b[36m0:00:00\u001b[0m\n",
      "\u001b[2K     \u001b[90m━━━━━━━━━━━━━━━━━━━━━━━━━━━━━━━━━━━━━━━━\u001b[0m \u001b[32m781.3/781.3 kB\u001b[0m \u001b[31m53.6 MB/s\u001b[0m eta \u001b[36m0:00:00\u001b[0m\n",
      "\u001b[?25h\u001b[31mERROR: pip's dependency resolver does not currently take into account all the packages that are installed. This behaviour is the source of the following dependency conflicts.\n",
      "pandas-gbq 0.19.2 requires google-auth-oauthlib>=0.7.0, but you have google-auth-oauthlib 0.4.6 which is incompatible.\n",
      "tensorflow-datasets 4.9.4 requires protobuf>=3.20, but you have protobuf 3.19.6 which is incompatible.\n",
      "tensorflow-metadata 1.14.0 requires protobuf<4.21,>=3.20.3, but you have protobuf 3.19.6 which is incompatible.\n",
      "tf-keras 2.15.1 requires tensorflow<2.16,>=2.15, but you have tensorflow 2.11.0 which is incompatible.\u001b[0m\u001b[31m\n",
      "\u001b[0m"
     ]
    }
   ],
   "source": [
    "!pip install -q transformers==4.39.3 tensorflow==2.11.0"
   ]
  },
  {
   "cell_type": "markdown",
   "metadata": {
    "id": "D4ZTCIbSObYS"
   },
   "source": [
    "- HuggingFace comes with a native `saved_model` feature inside `save_pretrained` function for TensorFlow based models. We will use that to save it as TF `SavedModel`.\n",
    "- We'll use [roberta-base](https://huggingface.co/roberta-base) model from HuggingFace as an example\n",
    "- In addition to `TFRobertaModel` we also need to save the `RobertaTokenizer`. This is the same for every model, these are assets needed for tokenization inside Spark NLP."
   ]
  },
  {
   "cell_type": "code",
   "execution_count": 2,
   "metadata": {
    "colab": {
     "base_uri": "https://localhost:8080/",
     "height": 455,
     "referenced_widgets": [
      "db76f7feb20c4676b381ae3e147842d7",
      "4aa1c8f111614e8f878ed8e47fa417c9",
      "d98ad83c7ae941bcad42639615b63943",
      "eb3bd2038d414546b80c7409454669b4",
      "69cb661224d24e98b6460560ede97e8a",
      "c14ab131fd54437297625a594bfbe169",
      "51ce99fe7634445096b05a97a7ea20a5",
      "64961fb36aba4cc18bb86d2c9f01d5a3",
      "266228a9aef341c794d86495241e5648",
      "f436a343ee27432e8a5c1484db4de4a6",
      "e327f2bc243f43249a73df001fb6ff9a",
      "4b79edf8f4b540af96c079b373dc5e29",
      "48be55a5819e4dfea01feb1b47be6e78",
      "d4a98e3e6d4e4a4ea31878406a20b54c",
      "fac170a4f8c5407aa7756f11027a1bb9",
      "88a97b25946b480aa38fd3c7c969938f",
      "674f7c56252e4357b35a4a4d43ff461f",
      "0cb409572a5941a8899e3c7891b30db1",
      "5ea9b37952584e7ca9f2ff2a79a0f79a",
      "9d334d65a6384378a2ae46edd80e4649",
      "1ebe647ad8534a6aba662d2bdd1ad47e",
      "e92d184120a84eb0ab636b91319396a2",
      "8dc5a63a6ce1401da87b6c20ce147142",
      "5011b0b944514867beef27030a29d44e",
      "e80a838e272a48ec9ce698864d01123b",
      "e0991a98330d40bca701fdd05e73fd85",
      "6328ff33e4b04267b026375283a6af68",
      "7c5afc951e454f32a734d4745cd4b023",
      "38650d0ab5ee408c845455ecc49b1daa",
      "44550e4da53e4ace98a808b7ae3da962",
      "f1281aadc5764af09ec79fe03e4493b0",
      "48ca0f18b00e4850bbbbd09a4358ea08",
      "d2e23d8834e8434492889afd1ad53c3c",
      "0c96e6ab94194afb9c6d63afb813cc62",
      "4febd8208ea5441b90dc414dfe78fdf6",
      "833427b1a01f464bbd0fe566e303925e",
      "137129ab9dc84d5cb546b103a9f18a46",
      "3ed92f65ca6b4846b4e01f179e6bab1e",
      "83d14d989edb4d99aae98d552a3bdea9",
      "969e078582524e799e8e5cc3d91a20ca",
      "cbf5fb7c935b4f4a977531ff6bf6e39d",
      "114bd1da949e494a831d0e22363cd15a",
      "f5ebbf2af1f14f969d15d2856832f757",
      "21de70fff5884d0e82c2aff71844dd5e",
      "d995e025a824430092b30172dc59d323",
      "948db23d61674ea688c3ba52e5f5117f",
      "a7664906378b466bbcea55fcf137954e",
      "99cb64aa26cd496683b26a11f7d16708",
      "7151f8c6206b4b788b46be1a6b6f5b4a",
      "c64ddfe3b55a4268b0c21aa55eddacf8",
      "28bc2e6d9a8d4007a0ad29d98194083b",
      "b741bcdf0bbc4342bca9d59a7886f52b",
      "eda43c61034945afbfce223d13dd5548",
      "9aa2bda21ab540528fbd6e67a7ed5d2b",
      "705e40e2f7194befa41140253b0ece88",
      "b454920ff0964d62a44f73d3ee7affcb",
      "3538c62bc7344f849e1f3aee0ead7760",
      "9a0818b40c4d4d34aef6badf89b995ca",
      "e29e891d67cc43468a61a49c9e6fdc61",
      "21fe5d1db2794c43b59e5866a49ddfca",
      "eb9bf1afb2964587aa5015dff030b3d1",
      "7c0be15ec97547939af051a212f7bfdd",
      "c026a5e45d314e13b7dc2cb83385a0fd",
      "a19893498098435ea7b4d25d38b49626",
      "6eb3b8a422b641f783dfa8bcb1d6792c",
      "8ac6f737963644dbabb71b3de988906d"
     ]
    },
    "id": "lZDatIvHObYS",
    "outputId": "b972c8dc-ebce-4339-a221-4e10ed8edf4a"
   },
   "outputs": [
    {
     "name": "stderr",
     "output_type": "stream",
     "text": [
      "/usr/local/lib/python3.10/dist-packages/huggingface_hub/utils/_token.py:88: UserWarning: \n",
      "The secret `HF_TOKEN` does not exist in your Colab secrets.\n",
      "To authenticate with the Hugging Face Hub, create a token in your settings tab (https://huggingface.co/settings/tokens), set it as secret in your Google Colab and restart your session.\n",
      "You will be able to reuse this secret in all of your notebooks.\n",
      "Please note that authentication is recommended but still optional to access public models or datasets.\n",
      "  warnings.warn(\n"
     ]
    },
    {
     "data": {
      "application/vnd.jupyter.widget-view+json": {
       "model_id": "db76f7feb20c4676b381ae3e147842d7",
       "version_major": 2,
       "version_minor": 0
      },
      "text/plain": [
       "tokenizer_config.json:   0%|          | 0.00/25.0 [00:00<?, ?B/s]"
      ]
     },
     "metadata": {},
     "output_type": "display_data"
    },
    {
     "data": {
      "application/vnd.jupyter.widget-view+json": {
       "model_id": "4b79edf8f4b540af96c079b373dc5e29",
       "version_major": 2,
       "version_minor": 0
      },
      "text/plain": [
       "vocab.json:   0%|          | 0.00/899k [00:00<?, ?B/s]"
      ]
     },
     "metadata": {},
     "output_type": "display_data"
    },
    {
     "data": {
      "application/vnd.jupyter.widget-view+json": {
       "model_id": "8dc5a63a6ce1401da87b6c20ce147142",
       "version_major": 2,
       "version_minor": 0
      },
      "text/plain": [
       "merges.txt:   0%|          | 0.00/456k [00:00<?, ?B/s]"
      ]
     },
     "metadata": {},
     "output_type": "display_data"
    },
    {
     "data": {
      "application/vnd.jupyter.widget-view+json": {
       "model_id": "0c96e6ab94194afb9c6d63afb813cc62",
       "version_major": 2,
       "version_minor": 0
      },
      "text/plain": [
       "tokenizer.json:   0%|          | 0.00/1.36M [00:00<?, ?B/s]"
      ]
     },
     "metadata": {},
     "output_type": "display_data"
    },
    {
     "data": {
      "application/vnd.jupyter.widget-view+json": {
       "model_id": "d995e025a824430092b30172dc59d323",
       "version_major": 2,
       "version_minor": 0
      },
      "text/plain": [
       "config.json:   0%|          | 0.00/481 [00:00<?, ?B/s]"
      ]
     },
     "metadata": {},
     "output_type": "display_data"
    },
    {
     "name": "stdout",
     "output_type": "stream",
     "text": [
      "try downloading TF weights\n"
     ]
    },
    {
     "data": {
      "application/vnd.jupyter.widget-view+json": {
       "model_id": "b454920ff0964d62a44f73d3ee7affcb",
       "version_major": 2,
       "version_minor": 0
      },
      "text/plain": [
       "model.safetensors:   0%|          | 0.00/499M [00:00<?, ?B/s]"
      ]
     },
     "metadata": {},
     "output_type": "display_data"
    },
    {
     "name": "stderr",
     "output_type": "stream",
     "text": [
      "Some weights of the PyTorch model were not used when initializing the TF 2.0 model TFRobertaModel: ['roberta.embeddings.position_ids', 'lm_head.bias', 'lm_head.dense.bias', 'lm_head.layer_norm.weight', 'lm_head.dense.weight', 'lm_head.layer_norm.bias']\n",
      "- This IS expected if you are initializing TFRobertaModel from a PyTorch model trained on another task or with another architecture (e.g. initializing a TFBertForSequenceClassification model from a BertForPreTraining model).\n",
      "- This IS NOT expected if you are initializing TFRobertaModel from a PyTorch model that you expect to be exactly identical (e.g. initializing a TFBertForSequenceClassification model from a BertForSequenceClassification model).\n",
      "Some weights or buffers of the TF 2.0 model TFRobertaModel were not initialized from the PyTorch model and are newly initialized: ['roberta.pooler.dense.weight', 'roberta.pooler.dense.bias']\n",
      "You should probably TRAIN this model on a down-stream task to be able to use it for predictions and inference.\n",
      "WARNING:absl:Found untraced functions such as serving, encoder_layer_call_fn, encoder_layer_call_and_return_conditional_losses, pooler_layer_call_fn, pooler_layer_call_and_return_conditional_losses while saving (showing 5 of 421). These functions will not be directly callable after loading.\n"
     ]
    }
   ],
   "source": [
    "from transformers import RobertaTokenizer, TFRobertaModel\n",
    "import tensorflow as tf\n",
    "\n",
    "MODEL_NAME = 'roberta-base'\n",
    "\n",
    "# let's keep the tokenizer variable, we need it later\n",
    "tokenizer = RobertaTokenizer.from_pretrained(MODEL_NAME)\n",
    "# let's save the tokenizer\n",
    "tokenizer.save_pretrained('./{}_tokenizer/'.format(MODEL_NAME))\n",
    "\n",
    "# just in case if there is no TF/Keras file provided in the model\n",
    "# we can just use `from_pt` and convert PyTorch to TensorFlow\n",
    "try:\n",
    "  print('try downloading TF weights')\n",
    "  model = TFRobertaModel.from_pretrained(MODEL_NAME)\n",
    "except:\n",
    "  print('try downloading PyTorch weights')\n",
    "  model = TFRobertaModel.from_pretrained(MODEL_NAME, from_pt=True)\n",
    "\n",
    "# Define TF Signature\n",
    "@tf.function(\n",
    "  input_signature=[\n",
    "      {\n",
    "          \"input_ids\": tf.TensorSpec((None, None), tf.int32, name=\"input_ids\"),\n",
    "          \"attention_mask\": tf.TensorSpec((None, None), tf.int32, name=\"attention_mask\")\n",
    "      }\n",
    "  ]\n",
    ")\n",
    "def serving_fn(input):\n",
    "    return model(input)\n",
    "\n",
    "model.save_pretrained(\"./{}\".format(MODEL_NAME), saved_model=True, signatures={\"serving_default\": serving_fn})"
   ]
  },
  {
   "cell_type": "markdown",
   "metadata": {
    "id": "8ePKH0vyObYT"
   },
   "source": [
    "Let's have a look inside these two directories and see what we are dealing with:"
   ]
  },
  {
   "cell_type": "code",
   "execution_count": 3,
   "metadata": {
    "colab": {
     "base_uri": "https://localhost:8080/"
    },
    "id": "SV3KOdXdObYT",
    "outputId": "1044ca85-5e4f-4d02-e6e3-652b1a9b2df2"
   },
   "outputs": [
    {
     "name": "stdout",
     "output_type": "stream",
     "text": [
      "total 487172\n",
      "-rw-r--r-- 1 root root       638 Apr 13 11:34 config.json\n",
      "drwxr-xr-x 3 root root      4096 Apr 13 11:34 saved_model\n",
      "-rw-r--r-- 1 root root 498849472 Apr 13 11:34 tf_model.h5\n"
     ]
    }
   ],
   "source": [
    "!ls -l {MODEL_NAME}"
   ]
  },
  {
   "cell_type": "code",
   "execution_count": 4,
   "metadata": {
    "colab": {
     "base_uri": "https://localhost:8080/"
    },
    "id": "vKj_SsphObYU",
    "outputId": "a41b3dc2-cc21-40e9-dd0f-07bac5f29b2a"
   },
   "outputs": [
    {
     "name": "stdout",
     "output_type": "stream",
     "text": [
      "total 8312\n",
      "drwxr-xr-x 2 root root    4096 Apr 13 11:34 assets\n",
      "-rw-r--r-- 1 root root      56 Apr 13 11:34 fingerprint.pb\n",
      "-rw-r--r-- 1 root root  153146 Apr 13 11:34 keras_metadata.pb\n",
      "-rw-r--r-- 1 root root 8339458 Apr 13 11:34 saved_model.pb\n",
      "drwxr-xr-x 2 root root    4096 Apr 13 11:34 variables\n"
     ]
    }
   ],
   "source": [
    "!ls -l {MODEL_NAME}/saved_model/1"
   ]
  },
  {
   "cell_type": "code",
   "execution_count": 5,
   "metadata": {
    "colab": {
     "base_uri": "https://localhost:8080/"
    },
    "id": "77Z8xUZ6ObYU",
    "outputId": "c40691b4-4c62-46da-fdae-ef501db5c9aa"
   },
   "outputs": [
    {
     "name": "stdout",
     "output_type": "stream",
     "text": [
      "total 1432\n",
      "-rw-r--r-- 1 root root 456318 Apr 13 11:33 merges.txt\n",
      "-rw-r--r-- 1 root root    958 Apr 13 11:33 special_tokens_map.json\n",
      "-rw-r--r-- 1 root root   1191 Apr 13 11:33 tokenizer_config.json\n",
      "-rw-r--r-- 1 root root 999355 Apr 13 11:33 vocab.json\n"
     ]
    }
   ],
   "source": [
    "!ls -l {MODEL_NAME}_tokenizer"
   ]
  },
  {
   "cell_type": "markdown",
   "metadata": {
    "id": "sgUHDBajObYU"
   },
   "source": [
    "- as you can see, we need the SavedModel from `saved_model/1/` path\n",
    "- we also be needing `vocab.json` and `merges.txt` files from the tokenizer\n",
    "- all we need is to first convert `vocab.json` to `vocab.txt` and copy both `vocab.txt` and `merges.txt` into `saved_model/1/assets` which Spark NLP will look for"
   ]
  },
  {
   "cell_type": "code",
   "execution_count": 6,
   "metadata": {
    "id": "CPbTm8ePObYV"
   },
   "outputs": [],
   "source": [
    "\n",
    "# let's make sure we sort the vocabs based on their ids first\n",
    "vocabs = tokenizer.get_vocab()\n",
    "vocabs = sorted(vocabs, key=vocabs.get)\n",
    "\n",
    "# let's save the vocab as txt file\n",
    "with open('{}_tokenizer/vocab.txt'.format(MODEL_NAME), 'w') as f:\n",
    "    for item in vocabs:\n",
    "        f.write(\"%s\\n\" % item)\n",
    "\n",
    "# let's copy both vocab.txt and merges.txt files to saved_model/1/assets\n",
    "!cp {MODEL_NAME}_tokenizer/vocab.txt {MODEL_NAME}/saved_model/1/assets\n",
    "!cp {MODEL_NAME}_tokenizer/merges.txt {MODEL_NAME}/saved_model/1/assets"
   ]
  },
  {
   "cell_type": "markdown",
   "metadata": {
    "id": "YmImkeHaObYV"
   },
   "source": [
    "## Import and Save RoBERTa in Spark NLP\n"
   ]
  },
  {
   "cell_type": "markdown",
   "metadata": {
    "id": "M6p8hXlJObYV"
   },
   "source": [
    "- Let's install and setup Spark NLP in Google Colab\n",
    "- This part is pretty easy via our simple script"
   ]
  },
  {
   "cell_type": "code",
   "execution_count": 7,
   "metadata": {
    "colab": {
     "base_uri": "https://localhost:8080/"
    },
    "id": "EzcJH-faObYV",
    "outputId": "eb71b020-5f19-40d2-9bb6-4f53a8a6baee"
   },
   "outputs": [
    {
     "name": "stdout",
     "output_type": "stream",
     "text": [
      "Installing PySpark 3.2.3 and Spark NLP 5.3.3\n",
      "setup Colab for PySpark 3.2.3 and Spark NLP 5.3.3\n",
      "\u001b[2K     \u001b[90m━━━━━━━━━━━━━━━━━━━━━━━━━━━━━━━━━━━━━━━━\u001b[0m \u001b[32m281.5/281.5 MB\u001b[0m \u001b[31m3.3 MB/s\u001b[0m eta \u001b[36m0:00:00\u001b[0m\n",
      "\u001b[?25h  Preparing metadata (setup.py) ... \u001b[?25l\u001b[?25hdone\n",
      "\u001b[2K     \u001b[90m━━━━━━━━━━━━━━━━━━━━━━━━━━━━━━━━━━━━━━━━\u001b[0m \u001b[32m568.4/568.4 kB\u001b[0m \u001b[31m34.8 MB/s\u001b[0m eta \u001b[36m0:00:00\u001b[0m\n",
      "\u001b[2K     \u001b[90m━━━━━━━━━━━━━━━━━━━━━━━━━━━━━━━━━━━━━━━━\u001b[0m \u001b[32m199.7/199.7 kB\u001b[0m \u001b[31m18.7 MB/s\u001b[0m eta \u001b[36m0:00:00\u001b[0m\n",
      "\u001b[?25h  Building wheel for pyspark (setup.py) ... \u001b[?25l\u001b[?25hdone\n"
     ]
    }
   ],
   "source": [
    "! wget -q http://setup.johnsnowlabs.com/colab.sh -O - | bash"
   ]
  },
  {
   "cell_type": "markdown",
   "metadata": {
    "id": "WD5MLLPFObYV"
   },
   "source": [
    "Let's start Spark with Spark NLP included via our simple `start()` function"
   ]
  },
  {
   "cell_type": "code",
   "execution_count": 8,
   "metadata": {
    "colab": {
     "base_uri": "https://localhost:8080/"
    },
    "id": "9EFZWhzvObYV",
    "outputId": "77f8cbbf-42d6-4f33-84b5-e33df0fe44db"
   },
   "outputs": [
    {
     "name": "stderr",
     "output_type": "stream",
     "text": [
      "/usr/lib/python3.10/subprocess.py:1796: RuntimeWarning: os.fork() was called. os.fork() is incompatible with multithreaded code, and JAX is multithreaded, so this will likely lead to a deadlock.\n",
      "  self.pid = _posixsubprocess.fork_exec(\n"
     ]
    }
   ],
   "source": [
    "import sparknlp\n",
    "# let's start Spark with Spark NLP\n",
    "spark = sparknlp.start()"
   ]
  },
  {
   "cell_type": "markdown",
   "metadata": {
    "id": "YROji3afObYW"
   },
   "source": [
    "- Let's use `loadSavedModel` functon in `RoBertaEmbeddings` which allows us to load TensorFlow model in SavedModel format\n",
    "- Most params can be set later when you are loading this model in `RoBertaEmbeddings` in runtime, so don't worry what you are setting them now\n",
    "- `loadSavedModel` accepts two params, first is the path to the TF SavedModel. The second is the SparkSession that is `spark` variable we previously started via `sparknlp.start()`\n",
    "- `setStorageRef` is very important. When you are training a task like NER or any Text Classification, we use this reference to bound the trained model to this specific embeddings so you won't load a different embeddings by mistake and see terrible results 😊\n",
    "- It's up to you what you put in `setStorageRef` but it cannot be changed later on. We usually use the name of the model to be clear, but you can get creative if you want!\n",
    "- The `dimension` param is is purely cosmetic and won't change anything. It's mostly for you to know later via `.getDimension` what is the dimension of your model. So set this accordingly.\n",
    "- NOTE: `loadSavedModel` accepts local paths in addition to distributed file systems such as `HDFS`, `S3`, `DBFS`, etc. This feature was introduced in Spark NLP 4.2.2 release. Keep in mind the best and recommended way to move/share/reuse Spark NLP models is to use `write.save` so you can use `.load()` from any file systems natively.st and recommended way to move/share/reuse Spark NLP models is to use `write.save` so you can use `.load()` from any file systems natively.st and recommended way to move/share/reuse Spark NLP models is to use `write.save` so you can use `.load()` from any file systems natively.st and recommended way to move/share/reuse Spark NLP models is to use `write.save` so you can use `.load()` from any file systems natively.st and recommended way to move/share/reuse Spark NLP models is to use `write.save` so you can use `.load()` from any file systems natively.st and recommended way to move/share/reuse Spark NLP models is to use `write.save` so you can use `.load()` from any file systems natively.st and recommended way to move/share/reuse Spark NLP models is to use `write.save` so you can use `.load()` from any file systems natively..\n"
   ]
  },
  {
   "cell_type": "code",
   "execution_count": 9,
   "metadata": {
    "id": "ALr7PgopObYW"
   },
   "outputs": [],
   "source": [
    "from sparknlp.annotator import *\n",
    "\n",
    "roberta = RoBertaEmbeddings.loadSavedModel(\n",
    "     '{}/saved_model/1'.format(MODEL_NAME),\n",
    "     spark\n",
    " )\\\n",
    " .setInputCols([\"sentence\",'token'])\\\n",
    " .setOutputCol(\"embeddings\")\\\n",
    " .setCaseSensitive(True)\\\n",
    " .setDimension(768)\\\n",
    " .setStorageRef('roberta_base')"
   ]
  },
  {
   "cell_type": "markdown",
   "metadata": {
    "id": "QtRHVaOmObYW"
   },
   "source": [
    "- Let's save it on disk so it is easier to be moved around and also be used later via `.load` function"
   ]
  },
  {
   "cell_type": "code",
   "execution_count": 10,
   "metadata": {
    "id": "TqeLG8P7ObYW"
   },
   "outputs": [],
   "source": [
    "roberta.write().overwrite().save(\"./{}_spark_nlp\".format(MODEL_NAME))"
   ]
  },
  {
   "cell_type": "markdown",
   "metadata": {
    "id": "EqWqrZ65ObYW"
   },
   "source": [
    "Let's clean up stuff we don't need anymore"
   ]
  },
  {
   "cell_type": "code",
   "execution_count": 11,
   "metadata": {
    "id": "PoZnY8scObYW"
   },
   "outputs": [],
   "source": [
    "!rm -rf {MODEL_NAME}_tokenizer {MODEL_NAME}"
   ]
  },
  {
   "cell_type": "markdown",
   "metadata": {
    "id": "m9ZnpBf1ObYX"
   },
   "source": [
    "Awesome 😎  !\n",
    "\n",
    "This is your RoBERTa model from HuggingFace 🤗 loaded and saved by Spark NLP 🚀"
   ]
  },
  {
   "cell_type": "code",
   "execution_count": 12,
   "metadata": {
    "colab": {
     "base_uri": "https://localhost:8080/"
    },
    "id": "i1t8ZlxhObYX",
    "outputId": "6c88033f-7648-4f5e-9f48-e74d85d212b6"
   },
   "outputs": [
    {
     "name": "stdout",
     "output_type": "stream",
     "text": [
      "total 494980\n",
      "drwxr-xr-x 5 root root      4096 Apr 13 11:36 fields\n",
      "drwxr-xr-x 2 root root      4096 Apr 13 11:36 metadata\n",
      "-rw-r--r-- 1 root root 506845163 Apr 13 11:37 roberta_tensorflow\n"
     ]
    }
   ],
   "source": [
    "! ls -l {MODEL_NAME}_spark_nlp"
   ]
  },
  {
   "cell_type": "markdown",
   "metadata": {
    "id": "vgvGXJ_TObYX"
   },
   "source": [
    "Now let's see how we can use it on other machines, clusters, or any place you wish to use your new and shiny RoBERTa model 😊"
   ]
  },
  {
   "cell_type": "code",
   "execution_count": 13,
   "metadata": {
    "id": "_Ecef1dyObYX"
   },
   "outputs": [],
   "source": [
    "roberta_loaded = RoBertaEmbeddings.load(\"./{}_spark_nlp\".format(MODEL_NAME))\\\n",
    "  .setInputCols([\"sentence\",'token'])\\\n",
    "  .setOutputCol(\"embeddings\")\\\n",
    "  .setCaseSensitive(True)"
   ]
  },
  {
   "cell_type": "code",
   "execution_count": 14,
   "metadata": {
    "colab": {
     "base_uri": "https://localhost:8080/",
     "height": 35
    },
    "id": "-8fPF-nYObYX",
    "outputId": "d71e803e-bebd-4d75-c19b-b805ea76938a"
   },
   "outputs": [
    {
     "data": {
      "application/vnd.google.colaboratory.intrinsic+json": {
       "type": "string"
      },
      "text/plain": [
       "'roberta_base'"
      ]
     },
     "execution_count": 14,
     "metadata": {},
     "output_type": "execute_result"
    }
   ],
   "source": [
    "roberta_loaded.getStorageRef()"
   ]
  },
  {
   "cell_type": "markdown",
   "metadata": {
    "id": "T-e7rxrgObYX"
   },
   "source": [
    "That's it! You can now go wild and use hundreds of RoBERTa models from HuggingFace 🤗 in Spark NLP 🚀\n"
   ]
  }
 ],
 "metadata": {
  "colab": {
   "name": "HuggingFace in Spark NLP - RoBERTa.ipynb",
   "provenance": [],
   "toc_visible": true
  },
  "kernelspec": {
   "display_name": "transformers",
   "language": "python",
   "name": "python3"
  },
  "language_info": {
   "codemirror_mode": {
    "name": "ipython",
    "version": 3
   },
   "file_extension": ".py",
   "mimetype": "text/x-python",
   "name": "python",
   "nbconvert_exporter": "python",
   "pygments_lexer": "ipython3"
  },
  "nteract": {
   "version": "0.28.0"
  }
 },
 "nbformat": 4,
 "nbformat_minor": 0
}
