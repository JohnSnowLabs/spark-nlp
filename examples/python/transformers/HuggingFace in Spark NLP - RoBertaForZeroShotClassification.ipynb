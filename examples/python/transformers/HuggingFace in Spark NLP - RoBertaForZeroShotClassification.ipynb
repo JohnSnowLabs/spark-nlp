{
 "cells": [
  {
   "attachments": {},
   "cell_type": "markdown",
   "metadata": {
    "id": "8IXf_Q668WRo"
   },
   "source": [
    "![JohnSnowLabs](https://sparknlp.org/assets/images/logo.png)\n",
    "\n",
    "[![Open In Colab](https://colab.research.google.com/assets/colab-badge.svg)](https://colab.research.google.com/github/JohnSnowLabs/spark-nlp/blob/master/examples/python/transformers/HuggingFace%20in%20Spark%20NLP%20-%20RoBertaForZeroShotClassification.ipynb)"
   ]
  },
  {
   "attachments": {},
   "cell_type": "markdown",
   "metadata": {
    "id": "fDfihUkE8WRr"
   },
   "source": [
    "## Import RoBertaForZeroShotClassification models from HuggingFace 🤗  into Spark NLP 🚀 \n",
    "\n",
    "Let's keep in mind a few things before we start 😊 \n",
    "\n",
    "- This feature is only in `Spark NLP 4.4.2` and after. So please make sure you have upgraded to the latest Spark NLP release\n",
    "- You can import RoBerta models trained/fine-tuned for sequence classification via `RobertaForSequenceClassification` or `TFRobertaForSequenceClassification`. We can use these models for zero-shot classification.\n",
    "  - These models are usually under `Sequence Classification` category and have `roberta` in their labels\n",
    "  - For zero-shot classification, We will usually use models trained on the nli data sets for best performance.\n",
    "- Reference: [TFRobertaForSequenceClassification](https://huggingface.co/docs/transformers/v4.29.1/en/model_doc/roberta#transformers.TFRobertaForSequenceClassification)"
   ]
  },
  {
   "attachments": {},
   "cell_type": "markdown",
   "metadata": {
    "id": "vMg3NbLo8WRs"
   },
   "source": [
    "## Export and Save HuggingFace model"
   ]
  },
  {
   "attachments": {},
   "cell_type": "markdown",
   "metadata": {
    "id": "Ykej1XKH8WRu"
   },
   "source": [
    "- Let's install `HuggingFace` and `TensorFlow`. You don't need `TensorFlow` to be installed for Spark NLP, however, we need it to load and save models from HuggingFace.\n",
    "- We lock TensorFlow on `2.11.0` version and Transformers on `4.25.1`. This doesn't mean it won't work with the future releases, but we wanted you to know which versions have been tested successfully."
   ]
  },
  {
   "cell_type": "code",
   "execution_count": 1,
   "metadata": {
    "colab": {
     "base_uri": "https://localhost:8080/"
    },
    "id": "yn28bSQi8WRu",
    "outputId": "ca6816ea-232a-4d44-8526-d14948561b0a"
   },
   "outputs": [
    {
     "name": "stdout",
     "output_type": "stream",
     "text": [
      "\u001b[2K     \u001b[90m━━━━━━━━━━━━━━━━━━━━━━━━━━━━━━━━━━━━━━━━\u001b[0m \u001b[32m5.8/5.8 MB\u001b[0m \u001b[31m51.5 MB/s\u001b[0m eta \u001b[36m0:00:00\u001b[0m\n",
      "\u001b[2K     \u001b[90m━━━━━━━━━━━━━━━━━━━━━━━━━━━━━━━━━━━━━━━\u001b[0m \u001b[32m588.3/588.3 MB\u001b[0m \u001b[31m2.4 MB/s\u001b[0m eta \u001b[36m0:00:00\u001b[0m\n",
      "\u001b[2K     \u001b[90m━━━━━━━━━━━━━━━━━━━━━━━━━━━━━━━━━━━━━━\u001b[0m \u001b[32m236.8/236.8 kB\u001b[0m \u001b[31m21.5 MB/s\u001b[0m eta \u001b[36m0:00:00\u001b[0m\n",
      "\u001b[2K     \u001b[90m━━━━━━━━━━━━━━━━━━━━━━━━━━━━━━━━━━━━━━━━\u001b[0m \u001b[32m7.8/7.8 MB\u001b[0m \u001b[31m95.6 MB/s\u001b[0m eta \u001b[36m0:00:00\u001b[0m\n",
      "\u001b[2K     \u001b[90m━━━━━━━━━━━━━━━━━━━━━━━━━━━━━━━━━━━━━━━━\u001b[0m \u001b[32m1.7/1.7 MB\u001b[0m \u001b[31m68.4 MB/s\u001b[0m eta \u001b[36m0:00:00\u001b[0m\n",
      "\u001b[2K     \u001b[90m━━━━━━━━━━━━━━━━━━━━━━━━━━━━━━━━━━━━━━━━\u001b[0m \u001b[32m1.1/1.1 MB\u001b[0m \u001b[31m58.7 MB/s\u001b[0m eta \u001b[36m0:00:00\u001b[0m\n",
      "\u001b[2K     \u001b[90m━━━━━━━━━━━━━━━━━━━━━━━━━━━━━━━━━━━━━━━━\u001b[0m \u001b[32m6.0/6.0 MB\u001b[0m \u001b[31m88.4 MB/s\u001b[0m eta \u001b[36m0:00:00\u001b[0m\n",
      "\u001b[2K     \u001b[90m━━━━━━━━━━━━━━━━━━━━━━━━━━━━━━━━━━━━━━\u001b[0m \u001b[32m439.2/439.2 kB\u001b[0m \u001b[31m38.9 MB/s\u001b[0m eta \u001b[36m0:00:00\u001b[0m\n",
      "\u001b[2K     \u001b[90m━━━━━━━━━━━━━━━━━━━━━━━━━━━━━━━━━━━━━━━━\u001b[0m \u001b[32m4.9/4.9 MB\u001b[0m \u001b[31m104.2 MB/s\u001b[0m eta \u001b[36m0:00:00\u001b[0m\n",
      "\u001b[?25h\u001b[31mERROR: pip's dependency resolver does not currently take into account all the packages that are installed. This behaviour is the source of the following dependency conflicts.\n",
      "tensorflow-datasets 4.9.2 requires protobuf>=3.20, but you have protobuf 3.19.6 which is incompatible.\n",
      "tensorflow-metadata 1.13.1 requires protobuf<5,>=3.20.3, but you have protobuf 3.19.6 which is incompatible.\u001b[0m\u001b[31m\n",
      "\u001b[0m"
     ]
    }
   ],
   "source": [
    "!pip install -q transformers==4.25.1 tensorflow==2.11.0"
   ]
  },
  {
   "attachments": {},
   "cell_type": "markdown",
   "metadata": {
    "id": "ehfCmKt98WRw"
   },
   "source": [
    "- HuggingFace comes with a native `saved_model` feature inside `save_pretrained` function for TensorFlow based models. We will use that to save it as TF `SavedModel`.\n",
    "- We'll use [cross-encoder/nli-roberta-base](cross-encoder/nli-roberta-base) model from HuggingFace as an example\n",
    "  - For zero-shot classification, We will usually use models trained on the (m)nli data set for best performance.\n",
    "- In addition to `TFRobertaForSequenceClassification` we also need to save the `RobertaTokenizer`. This is the same for every model, these are assets needed for tokenization inside Spark NLP."
   ]
  },
  {
   "cell_type": "code",
   "execution_count": 2,
   "metadata": {
    "colab": {
     "base_uri": "https://localhost:8080/",
     "height": 333,
     "referenced_widgets": [
      "13304044c4d74d14af90338c5f3d5493",
      "8bf57ab59ef7430298a33e893a6b6743",
      "a7bc950c63434a4ea756b0689e69c0fb",
      "fe6473dcaecc4bba8d4c5b1d24b56dde",
      "1777d601c93842d7a8d6439671ffc4b6",
      "a2a74759f3544822911bb9d208e19398",
      "3f2f0b73ebb845c3be7bb024abcc168c",
      "1f7796c027b247808ff57f0bc959c037",
      "20c79f8d5e68453c961f8bc758b9cc05",
      "b6302a2a129743f981b659778eb11605",
      "eed2c7f332f247d9b794ae800c1e2604",
      "7683b71b597340f9be1fd0df61d2e26e",
      "7d61763ef4324825ac49027c0c503a41",
      "317c2bd80fe34fc5beee20f741abe120",
      "776446051c914eadb326d288dd25260e",
      "bb9dcee68fc240a1863665efc8ac8798",
      "4e83111b26c547329461050650b88ca5",
      "ce5514402f6141ef8f958447036ff6d7",
      "27db9b81b53141719d6916e8d90e43f1",
      "f0432c9b017b46acab7bdb2f5839ea3f",
      "95a6d8a45782463d90667e58acd39e8f",
      "4b1ba2442b554cb9b127b86762211c5c",
      "f46f7c60e06347bf8571060e0e33316d",
      "8551ac2036b344b7a7c92ee4298aeb0c",
      "e906ec85e3894643a6e3b16761600e9f",
      "b1e94dce806f4a1bb6fdd780eec5d80e",
      "05148ad940fc43b19ec9b4d7af0b339b",
      "f397c9ef82fc410187f6e1efe3fc9775",
      "9e557261a3c444a79e97cbedf0dd3d0b",
      "85720396966f498db2975248ca100c6b",
      "5b56199e5e7c447c98bb97b60c4241f5",
      "a45f190ad5df4a6b9d058ea1162cfb03",
      "aafe8988f20f47afb773dd31a8233ce7",
      "9687bb7a41ef4e0d815f33b986d700e6",
      "9268ee6bcfdc475c8af00fd363727531",
      "66f2971ea05549768a5527a52f397305",
      "6e4a2f12e3d34ee491d887d515842d98",
      "8a7ac648178c40eb8caf767560e33eb0",
      "b5e67cb55e624666ac086f4adc970959",
      "2e8660d4bbaa46079abd448d8b628d18",
      "df40d99ce76140019b8b47b2c75e752b",
      "4a987727e9de47988c5ac0bf8b9e57dc",
      "8d8a1992e90e4521bb6b9094540fd4e0",
      "b4b8b11edb5043b89921d68d250603d5",
      "d44690bc2a8c4466916e71a4c13cf0e1",
      "5a9db27686e044c9bb299bcca53ec9e7",
      "d7bef74ee03545968ea1cc559006d046",
      "7d7007c1b14a40479479868563d26f9a",
      "a85c3bdc21e2487b8a0e13bf212e2929",
      "957865dabc1044249459439aae39c75d",
      "e1ca1239d791483ba4b4300a9742fa36",
      "5814640904e44dc8a28a3ff280c3ce9f",
      "55a1233a0555432db42f32f37033c8e5",
      "96c1b3c4c139440b87742a06ba7f16d8",
      "d6f2944954564fed9819ae9cd63cb885",
      "7475900bacdd41a185d080c62ad91a12",
      "966f7d7fe6084c7d9c2a0c6668a106e5",
      "091f5a1c52c24e9fb046e5da680b644f",
      "ad95e9b538a24b2ca1f7163852d927bc",
      "960d2088d5314f4986fa46a5338f02b7",
      "fce6cd5893e64bf59fc4fd579a49a006",
      "224f786d7cf1427a85150cde9f8eb09b",
      "027552ca8e8c47d3ab477aebd8b53e03",
      "c95275785ae441b186a887bbbbf38611",
      "2a84bfe6579f47dea24d804b1671334c",
      "4c08c4c39642458d96ed17d99943fcc3"
     ]
    },
    "id": "oCOSyDn88WRx",
    "outputId": "3d224291-7e2a-4f8e-d5fd-3c045ec14bc3"
   },
   "outputs": [
    {
     "data": {
      "application/vnd.jupyter.widget-view+json": {
       "model_id": "13304044c4d74d14af90338c5f3d5493",
       "version_major": 2,
       "version_minor": 0
      },
      "text/plain": [
       "Downloading (…)olve/main/vocab.json:   0%|          | 0.00/899k [00:00<?, ?B/s]"
      ]
     },
     "metadata": {},
     "output_type": "display_data"
    },
    {
     "data": {
      "application/vnd.jupyter.widget-view+json": {
       "model_id": "7683b71b597340f9be1fd0df61d2e26e",
       "version_major": 2,
       "version_minor": 0
      },
      "text/plain": [
       "Downloading (…)olve/main/merges.txt:   0%|          | 0.00/456k [00:00<?, ?B/s]"
      ]
     },
     "metadata": {},
     "output_type": "display_data"
    },
    {
     "data": {
      "application/vnd.jupyter.widget-view+json": {
       "model_id": "f46f7c60e06347bf8571060e0e33316d",
       "version_major": 2,
       "version_minor": 0
      },
      "text/plain": [
       "Downloading (…)cial_tokens_map.json:   0%|          | 0.00/772 [00:00<?, ?B/s]"
      ]
     },
     "metadata": {},
     "output_type": "display_data"
    },
    {
     "data": {
      "application/vnd.jupyter.widget-view+json": {
       "model_id": "9687bb7a41ef4e0d815f33b986d700e6",
       "version_major": 2,
       "version_minor": 0
      },
      "text/plain": [
       "Downloading (…)okenizer_config.json:   0%|          | 0.00/25.0 [00:00<?, ?B/s]"
      ]
     },
     "metadata": {},
     "output_type": "display_data"
    },
    {
     "data": {
      "application/vnd.jupyter.widget-view+json": {
       "model_id": "d44690bc2a8c4466916e71a4c13cf0e1",
       "version_major": 2,
       "version_minor": 0
      },
      "text/plain": [
       "Downloading (…)lve/main/config.json:   0%|          | 0.00/702 [00:00<?, ?B/s]"
      ]
     },
     "metadata": {},
     "output_type": "display_data"
    },
    {
     "data": {
      "application/vnd.jupyter.widget-view+json": {
       "model_id": "7475900bacdd41a185d080c62ad91a12",
       "version_major": 2,
       "version_minor": 0
      },
      "text/plain": [
       "Downloading pytorch_model.bin:   0%|          | 0.00/499M [00:00<?, ?B/s]"
      ]
     },
     "metadata": {},
     "output_type": "display_data"
    },
    {
     "name": "stderr",
     "output_type": "stream",
     "text": [
      "Some weights of the PyTorch model were not used when initializing the TF 2.0 model TFRobertaForSequenceClassification: ['roberta.embeddings.position_ids']\n",
      "- This IS expected if you are initializing TFRobertaForSequenceClassification from a PyTorch model trained on another task or with another architecture (e.g. initializing a TFBertForSequenceClassification model from a BertForPreTraining model).\n",
      "- This IS NOT expected if you are initializing TFRobertaForSequenceClassification from a PyTorch model that you expect to be exactly identical (e.g. initializing a TFBertForSequenceClassification model from a BertForSequenceClassification model).\n",
      "All the weights of TFRobertaForSequenceClassification were initialized from the PyTorch model.\n",
      "If your task is similar to the task the model of the checkpoint was trained on, you can already use TFRobertaForSequenceClassification for predictions without further training.\n",
      "WARNING:absl:Found untraced functions such as encoder_layer_call_fn, encoder_layer_call_and_return_conditional_losses, embeddings_layer_call_fn, embeddings_layer_call_and_return_conditional_losses, dense_layer_call_fn while saving (showing 5 of 422). These functions will not be directly callable after loading.\n"
     ]
    }
   ],
   "source": [
    "from transformers import TFRobertaForSequenceClassification, RobertaTokenizer \n",
    "import tensorflow as tf\n",
    "\n",
    "MODEL_NAME = 'cross-encoder/nli-roberta-base'\n",
    "\n",
    "tokenizer = RobertaTokenizer.from_pretrained(MODEL_NAME)\n",
    "tokenizer.save_pretrained('./{}_tokenizer/'.format(MODEL_NAME))\n",
    "\n",
    "try:\n",
    "  model = TFRobertaForSequenceClassification.from_pretrained(MODEL_NAME)\n",
    "except:\n",
    "  model = TFRobertaForSequenceClassification.from_pretrained(MODEL_NAME, from_pt=True)\n",
    "    \n",
    "# Define TF Signature\n",
    "@tf.function(\n",
    "  input_signature=[\n",
    "      {\n",
    "          \"input_ids\": tf.TensorSpec((None, None), tf.int32, name=\"input_ids\"),\n",
    "          \"attention_mask\": tf.TensorSpec((None, None), tf.int32, name=\"attention_mask\")       \n",
    "      }\n",
    "  ]\n",
    ")\n",
    "def serving_fn(input):\n",
    "    return model(input)\n",
    "\n",
    "model.save_pretrained(\"./{}\".format(MODEL_NAME), saved_model=True, signatures={\"serving_default\": serving_fn})\n"
   ]
  },
  {
   "attachments": {},
   "cell_type": "markdown",
   "metadata": {
    "id": "eDjo0QGq8WRy"
   },
   "source": [
    "Let's have a look inside these two directories and see what we are dealing with:"
   ]
  },
  {
   "cell_type": "code",
   "execution_count": 6,
   "metadata": {
    "colab": {
     "base_uri": "https://localhost:8080/"
    },
    "id": "daGPGUdz8WRz",
    "outputId": "ea57bf17-8e61-4117-932e-b8bab05c2cd7"
   },
   "outputs": [
    {
     "name": "stdout",
     "output_type": "stream",
     "text": [
      "total 487204\n",
      "-rw-r--r-- 1 root root       883 Jun  6 12:50 config.json\n",
      "drwxr-xr-x 3 root root      4096 Jun  6 12:50 saved_model\n",
      "-rw-r--r-- 1 root root 498881344 Jun  6 12:50 tf_model.h5\n"
     ]
    }
   ],
   "source": [
    "!ls -l {MODEL_NAME}"
   ]
  },
  {
   "cell_type": "code",
   "execution_count": 7,
   "metadata": {
    "colab": {
     "base_uri": "https://localhost:8080/"
    },
    "id": "CwQH0R7h8WR1",
    "outputId": "8b62b614-9729-4fe2-8cef-e7e8dec8beaf"
   },
   "outputs": [
    {
     "name": "stdout",
     "output_type": "stream",
     "text": [
      "total 9436\n",
      "drwxr-xr-x 2 root root    4096 Jun  6 12:50 assets\n",
      "-rw-r--r-- 1 root root      55 Jun  6 12:50 fingerprint.pb\n",
      "-rw-r--r-- 1 root root  167553 Jun  6 12:50 keras_metadata.pb\n",
      "-rw-r--r-- 1 root root 9481842 Jun  6 12:50 saved_model.pb\n",
      "drwxr-xr-x 2 root root    4096 Jun  6 12:50 variables\n"
     ]
    }
   ],
   "source": [
    "!ls -l {MODEL_NAME}/saved_model/1"
   ]
  },
  {
   "cell_type": "code",
   "execution_count": 8,
   "metadata": {
    "colab": {
     "base_uri": "https://localhost:8080/"
    },
    "id": "IPztfyM38WR2",
    "outputId": "cb26098f-8def-4c27-e299-aaca007c617a"
   },
   "outputs": [
    {
     "name": "stdout",
     "output_type": "stream",
     "text": [
      "total 1432\n",
      "-rw-r--r-- 1 root root 456318 Jun  6 12:48 merges.txt\n",
      "-rw-r--r-- 1 root root    957 Jun  6 12:48 special_tokens_map.json\n",
      "-rw-r--r-- 1 root root   1501 Jun  6 12:48 tokenizer_config.json\n",
      "-rw-r--r-- 1 root root 999355 Jun  6 12:48 vocab.json\n"
     ]
    }
   ],
   "source": [
    "!ls -l {MODEL_NAME}_tokenizer"
   ]
  },
  {
   "attachments": {},
   "cell_type": "markdown",
   "metadata": {
    "id": "gjrYDipS8WR2"
   },
   "source": [
    "- As you can see, we need the SavedModel from `saved_model/1/` path\n",
    "- We also be needing to convert `vocab.json` to `vocab.txt` from the tokenizer\n",
    "- All we need is to just copy the `vocab.txt` to `saved_model/1/assets` which Spark NLP will look for\n",
    "- In addition to vocabs, we also need `labels` and their `ids` which is saved inside the model's config. We will save this inside `labels.txt`"
   ]
  },
  {
   "cell_type": "code",
   "execution_count": 9,
   "metadata": {
    "id": "QnQ0jke38WR3"
   },
   "outputs": [],
   "source": [
    "asset_path = '{}/saved_model/1/assets'.format(MODEL_NAME)\n",
    "\n",
    "# let's save the vocab as txt file\n",
    "with open('{}_tokenizer/vocab.txt'.format(MODEL_NAME), 'w') as f:\n",
    "    for item in tokenizer.get_vocab().keys():\n",
    "        f.write(\"%s\\n\" % item)\n",
    "\n",
    "# let's copy both vocab.txt and merges.txt files to saved_model/1/assets\n",
    "!cp {MODEL_NAME}_tokenizer/vocab.txt {asset_path}\n",
    "!cp {MODEL_NAME}_tokenizer/merges.txt {asset_path}"
   ]
  },
  {
   "cell_type": "code",
   "execution_count": 10,
   "metadata": {
    "id": "WPvOXbeZ8WR4"
   },
   "outputs": [],
   "source": [
    "# get label2id dictionary \n",
    "labels = model.config.label2id\n",
    "# sort the dictionary based on the id\n",
    "labels = sorted(labels, key=labels.get)\n",
    "\n",
    "with open(asset_path+'/labels.txt', 'w') as f:\n",
    "    f.write('\\n'.join(labels))"
   ]
  },
  {
   "attachments": {},
   "cell_type": "markdown",
   "metadata": {
    "id": "UzQ650AZ8WR4"
   },
   "source": [
    "Voila! We have our `vocab.txt` and `labels.txt` inside assets directory"
   ]
  },
  {
   "cell_type": "code",
   "execution_count": 11,
   "metadata": {
    "colab": {
     "base_uri": "https://localhost:8080/"
    },
    "id": "QcBOfJ918WR4",
    "outputId": "9a91263a-83aa-48ef-ed63-bcbda42baf4a"
   },
   "outputs": [
    {
     "name": "stdout",
     "output_type": "stream",
     "text": [
      "total 852\n",
      "-rw-r--r-- 1 root root     32 Jun  6 13:07 labels.txt\n",
      "-rw-r--r-- 1 root root 456318 Jun  6 13:07 merges.txt\n",
      "-rw-r--r-- 1 root root 407065 Jun  6 13:07 vocab.txt\n"
     ]
    }
   ],
   "source": [
    "!ls -l {MODEL_NAME}/saved_model/1/assets"
   ]
  },
  {
   "attachments": {},
   "cell_type": "markdown",
   "metadata": {
    "id": "zk28iNof8WR5"
   },
   "source": [
    "## Import and Save RoBertaForZeroShotClassification in Spark NLP\n"
   ]
  },
  {
   "attachments": {},
   "cell_type": "markdown",
   "metadata": {
    "id": "J__aVVu48WR5"
   },
   "source": [
    "- Let's install and setup Spark NLP in Google Colab\n",
    "- This part is pretty easy via our simple script"
   ]
  },
  {
   "cell_type": "code",
   "execution_count": null,
   "metadata": {
    "colab": {
     "base_uri": "https://localhost:8080/"
    },
    "id": "udnbTHNj8WR6",
    "outputId": "e962a951-b4f1-487a-a1ba-0d8f51e6f61b"
   },
   "outputs": [],
   "source": [
    "! wget -q http://setup.johnsnowlabs.com/colab.sh -O - | bash"
   ]
  },
  {
   "attachments": {},
   "cell_type": "markdown",
   "metadata": {
    "id": "5u9B2ldj8WR6"
   },
   "source": [
    "Let's start Spark with Spark NLP included via our simple `start()` function"
   ]
  },
  {
   "cell_type": "code",
   "execution_count": 15,
   "metadata": {
    "id": "twQ6BHyo8WR6"
   },
   "outputs": [],
   "source": [
    "import sparknlp\n",
    "# let's start Spark with Spark NLP\n",
    "spark = sparknlp.start()"
   ]
  },
  {
   "attachments": {},
   "cell_type": "markdown",
   "metadata": {
    "id": "rOEy0EXR8WR7"
   },
   "source": [
    "- Let's use `loadSavedModel` functon in `RoBertaForZeroShotClassification` which allows us to load TensorFlow model in SavedModel format\n",
    "- Most params can be set later when you are loading this model in `RoBertaForZeroShotClassification` in runtime like `setMaxSentenceLength`, so don't worry what you are setting them now\n",
    "- `loadSavedModel` accepts two params, first is the path to the TF SavedModel. The second is the SparkSession that is `spark` variable we previously started via `sparknlp.start()`\n",
    "- NOTE: `loadSavedModel` accepts local paths in addition to distributed file systems such as `HDFS`, `S3`, `DBFS`, etc. This feature was introduced in Spark NLP 4.2.2 release. Keep in mind the best and recommended way to move/share/reuse Spark NLP models is to use `write.save` so you can use `.load()` from any file systems natively."
   ]
  },
  {
   "cell_type": "code",
   "execution_count": 16,
   "metadata": {
    "id": "lcqReFJO8WR7"
   },
   "outputs": [],
   "source": [
    "from sparknlp.annotator import *\n",
    "from sparknlp.base import *\n",
    "\n",
    "zero_shot_classifier = RoBertaForZeroShotClassification.loadSavedModel(\n",
    "    '{}/saved_model/1'.format(MODEL_NAME),\n",
    "    spark\n",
    "    )\\\n",
    "    .setInputCols([\"document\", \"token\"]) \\\n",
    "    .setOutputCol(\"class\") \\\n",
    "    .setCandidateLabels([\"urgent\", \"not urgent\", \"phone\", \"tablet\", \"computer\"])"
   ]
  },
  {
   "attachments": {},
   "cell_type": "markdown",
   "metadata": {
    "id": "VmHVmBCo8WR9"
   },
   "source": [
    "- Let's save it on disk so it is easier to be moved around and also be used later via `.load` function"
   ]
  },
  {
   "cell_type": "code",
   "execution_count": 17,
   "metadata": {
    "id": "9RBvw6p58WR9"
   },
   "outputs": [],
   "source": [
    "zero_shot_classifier.write().overwrite().save(\"./{}_spark_nlp\".format(MODEL_NAME))"
   ]
  },
  {
   "attachments": {},
   "cell_type": "markdown",
   "metadata": {
    "id": "DgUg2p0v8WR9"
   },
   "source": [
    "Let's clean up stuff we don't need anymore"
   ]
  },
  {
   "cell_type": "code",
   "execution_count": null,
   "metadata": {
    "id": "cdBziZhw8WR-"
   },
   "outputs": [],
   "source": [
    "!rm -rf {MODEL_NAME}_tokenizer {MODEL_NAME}"
   ]
  },
  {
   "attachments": {},
   "cell_type": "markdown",
   "metadata": {
    "id": "_iwYIQ6U8WR-"
   },
   "source": [
    "Awesome 😎  !\n",
    "\n",
    "This is your RoBertaForSequenceClassification model from HuggingFace 🤗  loaded and saved by Spark NLP 🚀 "
   ]
  },
  {
   "cell_type": "code",
   "execution_count": 18,
   "metadata": {
    "colab": {
     "base_uri": "https://localhost:8080/"
    },
    "id": "8JAkr3438WR-",
    "outputId": "cf2c039e-1a71-46d0-b27c-59a21b897be0"
   },
   "outputs": [
    {
     "name": "stdout",
     "output_type": "stream",
     "text": [
      "total 496104\n",
      "drwxr-xr-x 6 root root      4096 Jun  6 13:12 fields\n",
      "drwxr-xr-x 2 root root      4096 Jun  6 13:12 metadata\n",
      "-rw-r--r-- 1 root root 507995708 Jun  6 13:12 roberta_classification_tensorflow\n"
     ]
    }
   ],
   "source": [
    "! ls -l {MODEL_NAME}_spark_nlp"
   ]
  },
  {
   "attachments": {},
   "cell_type": "markdown",
   "metadata": {
    "id": "D5c2xWtt8WR-"
   },
   "source": [
    "Now let's see how we can use it on other machines, clusters, or any place you wish to use your new and shiny BertForSequenceClassification model 😊 "
   ]
  },
  {
   "cell_type": "code",
   "execution_count": 23,
   "metadata": {
    "id": "JjxWoPhW8WR_"
   },
   "outputs": [],
   "source": [
    "zero_shot_classifier_loaded = RoBertaForZeroShotClassification.load(\"./{}_spark_nlp\".format(MODEL_NAME))\\\n",
    "  .setInputCols([\"document\",'token'])\\\n",
    "  .setOutputCol(\"class\")\\\n",
    "  .setCandidateLabels([\"urgent\", \"not urgent\", \"phone\", \"tablet\", \"computer\"])"
   ]
  },
  {
   "attachments": {},
   "cell_type": "markdown",
   "metadata": {
    "id": "rAITDhUg8WSA"
   },
   "source": [
    "This is how you can use your loaded classifier model in Spark NLP 🚀 pipeline:"
   ]
  },
  {
   "cell_type": "code",
   "execution_count": 24,
   "metadata": {
    "colab": {
     "base_uri": "https://localhost:8080/"
    },
    "id": "b4svOlV88WSA",
    "outputId": "ccaaf557-f828-4692-b947-c004bc89969d"
   },
   "outputs": [
    {
     "name": "stdout",
     "output_type": "stream",
     "text": [
      "+------------+\n",
      "|      result|\n",
      "+------------+\n",
      "|  [computer]|\n",
      "|     [phone]|\n",
      "|  [computer]|\n",
      "|     [phone]|\n",
      "|     [phone]|\n",
      "|[not urgent]|\n",
      "|     [phone]|\n",
      "+------------+\n",
      "\n"
     ]
    }
   ],
   "source": [
    "from sparknlp.base import *\n",
    "from sparknlp.annotator import *\n",
    "from pyspark.ml import Pipeline, PipelineModel\n",
    "\n",
    "document_assembler = DocumentAssembler() \\\n",
    "    .setInputCol(\"text\") \\\n",
    "    .setOutputCol(\"document\")\n",
    "\n",
    "tokenizer = Tokenizer().setInputCols(\"document\").setOutputCol(\"token\")\n",
    "\n",
    "pipeline = Pipeline(stages=[\n",
    "    document_assembler,\n",
    "    tokenizer,\n",
    "    zero_shot_classifier_loaded\n",
    "])\n",
    "\n",
    "text = [[\"I have a problem with my iphone that needs to be resolved asap!!\"],\n",
    "        [\"Last week I upgraded my iOS version and ever since then my phone has been overheating whenever I use your app.\"],\n",
    "        [\"I have a phone and I love it!\"],\n",
    "        [\"I really want to visit Germany and I am planning to go there next year.\"],\n",
    "        [\"Let's watch some movies tonight! I am in the mood for a horror movie.\"],\n",
    "        [\"Have you watched the match yesterday? It was a great game!\"],\n",
    "        [\"We need to harry up and get to the airport. We are going to miss our flight!\"]]\n",
    "\n",
    "# create a DataFrame in PySpark\n",
    "inputDataset = spark.createDataFrame(text, [\"text\"])\n",
    "model = pipeline.fit(inputDataset)\n",
    "model.transform(inputDataset).select(\"class.result\").show()"
   ]
  },
  {
   "attachments": {},
   "cell_type": "markdown",
   "metadata": {
    "id": "26gEdXR28WSB"
   },
   "source": [
    "That's it! You can now go wild and use hundreds of `RoBertaForSequenceClassification` models as zero-shot classifiers from HuggingFace 🤗 in Spark NLP 🚀 "
   ]
  }
 ],
 "metadata": {
  "colab": {
   "provenance": []
  },
  "kernelspec": {
   "display_name": "Python [conda env:nlpdev]",
   "language": "python",
   "name": "conda-env-nlpdev-py"
  },
  "language_info": {
   "codemirror_mode": {
    "name": "ipython",
    "version": 3
   },
   "file_extension": ".py",
   "mimetype": "text/x-python",
   "name": "python",
   "nbconvert_exporter": "python",
   "pygments_lexer": "ipython3",
   "version": "3.8.16"
  }
 },
 "nbformat": 4,
 "nbformat_minor": 0
}
