{
 "cells": [
  {
   "cell_type": "markdown",
   "metadata": {
    "id": "FhgFc9Q8EV5I"
   },
   "source": [
    "![JohnSnowLabs](https://sparknlp.org/assets/images/logo.png)\n",
    "\n",
    "[![Open In Colab](https://colab.research.google.com/assets/colab-badge.svg)](https://colab.research.google.com/github/JohnSnowLabs/spark-nlp/blob/master/examples/python/transformers/HuggingFace_in_Spark_NLP_CamemBertForQuestionAnswering.ipynb)"
   ]
  },
  {
   "cell_type": "markdown",
   "metadata": {
    "id": "-4hoNMJkEV5O"
   },
   "source": [
    "## Import CamemBertForQuestionAnswering models from HuggingFace 🤗 into Spark NLP 🚀\n",
    "\n",
    "Let's keep in mind a few things before we start 😊\n",
    "\n",
    "- This feature is only in `Spark NLP 4.2.7` and after. So please make sure you have upgraded to the latest Spark NLP release\n",
    "- You can import CamemBERT models trained/fine-tuned for question answering via `CamembertForQuestionAnswering` or `TFCamembertForQuestionAnswering`. These models are usually under `Question Answering` category and have `camembert` in their labels\n",
    "- Reference: [TFCamembertForQuestionAnswering](https://huggingface.co/docs/transformers/model_doc/camembert#transformers.TFCamembertForQuestionAnswering)\n",
    "- Some [example models](https://huggingface.co/models?other=camembert&pipeline_tag=question-answering&sort=downloads)"
   ]
  },
  {
   "cell_type": "markdown",
   "metadata": {
    "id": "n_4gw4IXEV5O"
   },
   "source": [
    "## Export and Save HuggingFace model"
   ]
  },
  {
   "cell_type": "markdown",
   "metadata": {
    "id": "ObXxePJ1EV5P"
   },
   "source": [
    "- Let's install `HuggingFace` and `TensorFlow`. You don't need `TensorFlow` to be installed for Spark NLP, however, we need it to load and save models from HuggingFace.\n",
    "- We lock TensorFlow on `2.11.0` version and Transformers on `4.39.3`. This doesn't mean it won't work with the future releases, but we wanted you to know which versions have been tested successfully.\n",
    "- CamemBERT uses SentencePiece, so we will have to install that as well\n"
   ]
  },
  {
   "cell_type": "code",
   "execution_count": 1,
   "metadata": {
    "colab": {
     "base_uri": "https://localhost:8080/"
    },
    "id": "YCht9Q9PEV5Q",
    "outputId": "24de9509-56aa-4158-d64d-b7e6aefcb995"
   },
   "outputs": [
    {
     "name": "stdout",
     "output_type": "stream",
     "text": [
      "\u001b[2K     \u001b[90m━━━━━━━━━━━━━━━━━━━━━━━━━━━━━━━━━━━━━━━━\u001b[0m \u001b[32m8.8/8.8 MB\u001b[0m \u001b[31m21.4 MB/s\u001b[0m eta \u001b[36m0:00:00\u001b[0m\n",
      "\u001b[2K     \u001b[90m━━━━━━━━━━━━━━━━━━━━━━━━━━━━━━━━━━━━━━━━\u001b[0m \u001b[32m588.3/588.3 MB\u001b[0m \u001b[31m771.6 kB/s\u001b[0m eta \u001b[36m0:00:00\u001b[0m\n",
      "\u001b[2K     \u001b[90m━━━━━━━━━━━━━━━━━━━━━━━━━━━━━━━━━━━━━━━━\u001b[0m \u001b[32m1.7/1.7 MB\u001b[0m \u001b[31m42.3 MB/s\u001b[0m eta \u001b[36m0:00:00\u001b[0m\n",
      "\u001b[2K     \u001b[90m━━━━━━━━━━━━━━━━━━━━━━━━━━━━━━━━━━━━━━━━\u001b[0m \u001b[32m1.1/1.1 MB\u001b[0m \u001b[31m15.2 MB/s\u001b[0m eta \u001b[36m0:00:00\u001b[0m\n",
      "\u001b[2K     \u001b[90m━━━━━━━━━━━━━━━━━━━━━━━━━━━━━━━━━━━━━━━━\u001b[0m \u001b[32m6.0/6.0 MB\u001b[0m \u001b[31m27.8 MB/s\u001b[0m eta \u001b[36m0:00:00\u001b[0m\n",
      "\u001b[2K     \u001b[90m━━━━━━━━━━━━━━━━━━━━━━━━━━━━━━━━━━━━━━━━\u001b[0m \u001b[32m439.2/439.2 kB\u001b[0m \u001b[31m23.4 MB/s\u001b[0m eta \u001b[36m0:00:00\u001b[0m\n",
      "\u001b[2K     \u001b[90m━━━━━━━━━━━━━━━━━━━━━━━━━━━━━━━━━━━━━━━━\u001b[0m \u001b[32m4.9/4.9 MB\u001b[0m \u001b[31m41.8 MB/s\u001b[0m eta \u001b[36m0:00:00\u001b[0m\n",
      "\u001b[2K     \u001b[90m━━━━━━━━━━━━━━━━━━━━━━━━━━━━━━━━━━━━━━━━\u001b[0m \u001b[32m781.3/781.3 kB\u001b[0m \u001b[31m23.4 MB/s\u001b[0m eta \u001b[36m0:00:00\u001b[0m\n",
      "\u001b[?25h\u001b[31mERROR: pip's dependency resolver does not currently take into account all the packages that are installed. This behaviour is the source of the following dependency conflicts.\n",
      "pandas-gbq 0.19.2 requires google-auth-oauthlib>=0.7.0, but you have google-auth-oauthlib 0.4.6 which is incompatible.\n",
      "tensorflow-datasets 4.9.4 requires protobuf>=3.20, but you have protobuf 3.19.6 which is incompatible.\n",
      "tensorflow-metadata 1.14.0 requires protobuf<4.21,>=3.20.3, but you have protobuf 3.19.6 which is incompatible.\n",
      "tf-keras 2.15.1 requires tensorflow<2.16,>=2.15, but you have tensorflow 2.11.0 which is incompatible.\u001b[0m\u001b[31m\n",
      "\u001b[0m"
     ]
    }
   ],
   "source": [
    "!pip install -q transformers==4.39.3 tensorflow==2.11.0 sentencepiece"
   ]
  },
  {
   "cell_type": "markdown",
   "metadata": {
    "id": "ml3lllrVEV5R"
   },
   "source": [
    "- HuggingFace comes with a native `saved_model` feature inside `save_pretrained` function for TensorFlow based models. We will use that to save it as TF `SavedModel`.\n",
    "- We'll use [etalab-ia/camembert-base-squadFR-fquad-piaf](https://huggingface.co/etalab-ia/camembert-base-squadFR-fquad-piaf) model from HuggingFace as an example\n",
    "- In addition to `TFCamembertForQuestionAnswering` we also need to save the `CamembertTokenizer`. This is the same for every model, these are assets needed for tokenization inside Spark NLP."
   ]
  },
  {
   "cell_type": "code",
   "execution_count": 2,
   "metadata": {
    "colab": {
     "base_uri": "https://localhost:8080/",
     "height": 388,
     "referenced_widgets": [
      "463dec0108904e06b8080c7afcaca7c6",
      "0a6d1663e8d5423489a4ca09a05f77c5",
      "259d3bb5be634fcd9639a4cd825e72b6",
      "0742f038720f4498a9e3919b2bc9abc4",
      "bc0e2f15eb2d47e699c8219119ed83f4",
      "753d9082e0db4f12a1b88d3fbc481409",
      "f2b4e583f0684f6cae796864691058ee",
      "dc78fa562514495e83d02f520661d638",
      "71d386b281694d65b72649c7fab1b7ea",
      "2c1a3497c5a94c36b4c0fe058a949e3e",
      "1885a5865233450b9086d50e1c485e65",
      "2156430ec5a74e3dbd2eed6272c80089",
      "d15c65a8905d47198ea11aea128a2037",
      "726d1a2ada1244a39ae4a93ab53f1260",
      "f49a2f85f94743fdb2261f9e825347e1",
      "82ab0a46e7b94edd89320acce62d1a3f",
      "e9d3c079f3b141359d5e5a299ced46f3",
      "706fb5b31307432fa99b75201a669257",
      "0148d40747f44f3992ec50b0488c3da0",
      "a56c6a9d0d28475ea9d32ad57d08798e",
      "034e547d93e34604ad3c61b72646b8a2",
      "68ecd0b7013d4869af8a4f7332660dfa",
      "bd3252a295f943dab2173e736a0809f7",
      "934e8d1f4fe74b619f482a9b2ea14071",
      "ae2568ab246044ae8e8d2399736e2cc9",
      "aca093404d0b4824aee2fcf3240db797",
      "db549c2560c64a9daa809b1609724ef0",
      "35bfcf3d98674630b83c98e22ad0df90",
      "77124bcb38534174ab7a3bd0949861fe",
      "955f1a3aa7d84219b899b6c5fc0a8cac",
      "4a64a2384a444be081d0f3fc1e11274f",
      "85590bebb8d94028a2799b2b2c4eeecd",
      "1f2f7d30584b478aa36a25ad9deb50f4",
      "fcaea989e6ff402aa2e981a1054c740b",
      "e49d04bb58064ef88b7152e224bcbe08",
      "678bc42d6bfb411da0ed9d4778ba03c2",
      "c295cc6e60e5415f981790bda6672bb5",
      "6910e84a2cc243ec87ef96e4d6a226c0",
      "f18fe1a625464f568df09b695b8fefba",
      "598a87a0bea249b897823e0f60dca19f",
      "d1b03b0d8cc14846a37ad50b5269a58c",
      "47b865c161de40fbb3c2a225a3a7ab8b",
      "d00940610cf84d8e9599bcc7382ec688",
      "b377e83faca645d3bc2cb7fba81fe167",
      "7cdb5780ad48479c994f3905631821dc",
      "85080bfe916c44488bf3247489608b7a",
      "d3caeffb68284814b8c4e1bbe528023f",
      "6aebb768f51740a2adf33965c673671f",
      "4839c4fc5d5e400d9ba547dddabfffa3",
      "ebc99a80069e43dcb2ae1127b7c9c9af",
      "b742bc32c71b4ee688a726828c166ee3",
      "cfe08ad6971442588c0e2304d30a19ed",
      "0850551b26d94042b99ec36730d653fb",
      "6220e17b5e49443cbca84d17bc1a3cbb",
      "16ce8ce509344e90ac298ec84b1e2467"
     ]
    },
    "id": "jCQWajsnEV5R",
    "outputId": "c4493e57-1d2d-4a9c-f2eb-96ed144d9597"
   },
   "outputs": [
    {
     "name": "stderr",
     "output_type": "stream",
     "text": [
      "/usr/local/lib/python3.10/dist-packages/huggingface_hub/utils/_token.py:88: UserWarning: \n",
      "The secret `HF_TOKEN` does not exist in your Colab secrets.\n",
      "To authenticate with the Hugging Face Hub, create a token in your settings tab (https://huggingface.co/settings/tokens), set it as secret in your Google Colab and restart your session.\n",
      "You will be able to reuse this secret in all of your notebooks.\n",
      "Please note that authentication is recommended but still optional to access public models or datasets.\n",
      "  warnings.warn(\n"
     ]
    },
    {
     "data": {
      "application/vnd.jupyter.widget-view+json": {
       "model_id": "463dec0108904e06b8080c7afcaca7c6",
       "version_major": 2,
       "version_minor": 0
      },
      "text/plain": [
       "tokenizer_config.json:   0%|          | 0.00/23.0 [00:00<?, ?B/s]"
      ]
     },
     "metadata": {},
     "output_type": "display_data"
    },
    {
     "data": {
      "application/vnd.jupyter.widget-view+json": {
       "model_id": "2156430ec5a74e3dbd2eed6272c80089",
       "version_major": 2,
       "version_minor": 0
      },
      "text/plain": [
       "sentencepiece.bpe.model:   0%|          | 0.00/811k [00:00<?, ?B/s]"
      ]
     },
     "metadata": {},
     "output_type": "display_data"
    },
    {
     "data": {
      "application/vnd.jupyter.widget-view+json": {
       "model_id": "bd3252a295f943dab2173e736a0809f7",
       "version_major": 2,
       "version_minor": 0
      },
      "text/plain": [
       "special_tokens_map.json:   0%|          | 0.00/210 [00:00<?, ?B/s]"
      ]
     },
     "metadata": {},
     "output_type": "display_data"
    },
    {
     "data": {
      "application/vnd.jupyter.widget-view+json": {
       "model_id": "fcaea989e6ff402aa2e981a1054c740b",
       "version_major": 2,
       "version_minor": 0
      },
      "text/plain": [
       "config.json:   0%|          | 0.00/1.05k [00:00<?, ?B/s]"
      ]
     },
     "metadata": {},
     "output_type": "display_data"
    },
    {
     "data": {
      "application/vnd.jupyter.widget-view+json": {
       "model_id": "7cdb5780ad48479c994f3905631821dc",
       "version_major": 2,
       "version_minor": 0
      },
      "text/plain": [
       "pytorch_model.bin:   0%|          | 0.00/443M [00:00<?, ?B/s]"
      ]
     },
     "metadata": {},
     "output_type": "display_data"
    },
    {
     "name": "stderr",
     "output_type": "stream",
     "text": [
      "All PyTorch model weights were used when initializing TFCamembertForQuestionAnswering.\n",
      "\n",
      "All the weights of TFCamembertForQuestionAnswering were initialized from the PyTorch model.\n",
      "If your task is similar to the task the model of the checkpoint was trained on, you can already use TFCamembertForQuestionAnswering for predictions without further training.\n",
      "WARNING:absl:Found untraced functions such as serving, encoder_layer_call_fn, encoder_layer_call_and_return_conditional_losses, embeddings_layer_call_fn, embeddings_layer_call_and_return_conditional_losses while saving (showing 5 of 417). These functions will not be directly callable after loading.\n"
     ]
    }
   ],
   "source": [
    "from transformers import TFCamembertForQuestionAnswering, CamembertTokenizer\n",
    "import tensorflow as tf\n",
    "\n",
    "MODEL_NAME = 'illuin/camembert-base-fquad'\n",
    "\n",
    "tokenizer = CamembertTokenizer.from_pretrained(MODEL_NAME)\n",
    "tokenizer.save_pretrained('./{}_tokenizer/'.format(MODEL_NAME))\n",
    "\n",
    "try:\n",
    "  model = TFCamembertForQuestionAnswering.from_pretrained(MODEL_NAME)\n",
    "except:\n",
    "  model = TFCamembertForQuestionAnswering.from_pretrained(MODEL_NAME, from_pt=True)\n",
    "\n",
    "# Define TF Signature\n",
    "@tf.function(\n",
    "  input_signature=[\n",
    "      {\n",
    "          \"input_ids\": tf.TensorSpec((None, None), tf.int64, name=\"input_ids\"),\n",
    "          \"attention_mask\": tf.TensorSpec((None, None), tf.int64, name=\"attention_mask\")\n",
    "      }\n",
    "  ]\n",
    ")\n",
    "def serving_fn(input):\n",
    "    return model(input)\n",
    "\n",
    "model.save_pretrained(\"./{}\".format(MODEL_NAME), saved_model=True, signatures={\"serving_default\": serving_fn})"
   ]
  },
  {
   "cell_type": "markdown",
   "metadata": {
    "id": "hmxvarqaEV5T"
   },
   "source": [
    "Let's have a look inside these two directories and see what we are dealing with:"
   ]
  },
  {
   "cell_type": "code",
   "execution_count": 3,
   "metadata": {
    "colab": {
     "base_uri": "https://localhost:8080/"
    },
    "id": "Ilgy7Z5mEV5U",
    "outputId": "a6c89ad1-a012-4bbc-87d7-1022dd8c225a"
   },
   "outputs": [
    {
     "name": "stdout",
     "output_type": "stream",
     "text": [
      "total 430112\n",
      "-rw-r--r-- 1 root root       717 Apr 13 20:10 config.json\n",
      "drwxr-xr-x 3 root root      4096 Apr 13 20:10 saved_model\n",
      "-rw-r--r-- 1 root root 440418536 Apr 13 20:10 tf_model.h5\n"
     ]
    }
   ],
   "source": [
    "!ls -l {MODEL_NAME}"
   ]
  },
  {
   "cell_type": "code",
   "execution_count": 4,
   "metadata": {
    "colab": {
     "base_uri": "https://localhost:8080/"
    },
    "id": "e13rhgHCEV5U",
    "outputId": "2891f438-5460-4002-9c9d-5cb6a5239906"
   },
   "outputs": [
    {
     "name": "stdout",
     "output_type": "stream",
     "text": [
      "total 8660\n",
      "drwxr-xr-x 2 root root    4096 Apr 13 20:10 assets\n",
      "-rw-r--r-- 1 root root      53 Apr 13 20:10 fingerprint.pb\n",
      "-rw-r--r-- 1 root root  153171 Apr 13 20:10 keras_metadata.pb\n",
      "-rw-r--r-- 1 root root 8696156 Apr 13 20:10 saved_model.pb\n",
      "drwxr-xr-x 2 root root    4096 Apr 13 20:10 variables\n"
     ]
    }
   ],
   "source": [
    "!ls -l {MODEL_NAME}/saved_model/1"
   ]
  },
  {
   "cell_type": "code",
   "execution_count": 5,
   "metadata": {
    "colab": {
     "base_uri": "https://localhost:8080/"
    },
    "id": "pxj3T8afEV5V",
    "outputId": "91151cb5-1f5b-4e7a-bd27-04eef39b2a51"
   },
   "outputs": [
    {
     "name": "stdout",
     "output_type": "stream",
     "text": [
      "total 804\n",
      "-rw-r--r-- 1 root root     22 Apr 13 20:09 added_tokens.json\n",
      "-rw-r--r-- 1 root root 810912 Apr 13 20:09 sentencepiece.bpe.model\n",
      "-rw-r--r-- 1 root root    354 Apr 13 20:09 special_tokens_map.json\n",
      "-rw-r--r-- 1 root root   1816 Apr 13 20:09 tokenizer_config.json\n"
     ]
    }
   ],
   "source": [
    "!ls -l {MODEL_NAME}_tokenizer"
   ]
  },
  {
   "cell_type": "markdown",
   "metadata": {
    "id": "T4n6kB8DEV5W"
   },
   "source": [
    "- As you can see, we need the SavedModel from `saved_model/1/` path\n",
    "- We also be needing `sentencepiece.bpe.model` from the tokenizer\n",
    "- All we need is to just copy the `sentencepiece.bpe.model` to `saved_model/1/assets` which Spark NLP will look for"
   ]
  },
  {
   "cell_type": "code",
   "execution_count": 6,
   "metadata": {
    "id": "IUOt9z6UEV5W"
   },
   "outputs": [],
   "source": [
    "asset_path = '{}/saved_model/1/assets'.format(MODEL_NAME)\n",
    "\n",
    "# let's copy sentencepiece.bpe.model file to saved_model/1/assets\n",
    "!cp {MODEL_NAME}_tokenizer/sentencepiece.bpe.model {asset_path}"
   ]
  },
  {
   "cell_type": "markdown",
   "metadata": {
    "id": "qYjgtbikEV5W"
   },
   "source": [
    "Voila! We have our `sentencepiece.bpe.model` inside assets directory"
   ]
  },
  {
   "cell_type": "code",
   "execution_count": 7,
   "metadata": {
    "colab": {
     "base_uri": "https://localhost:8080/"
    },
    "id": "svK9XzIuEV5W",
    "outputId": "8a2157ef-69fb-4638-bc4f-a1dbef27944d"
   },
   "outputs": [
    {
     "name": "stdout",
     "output_type": "stream",
     "text": [
      "total 792\n",
      "-rw-r--r-- 1 root root 810912 Apr 13 20:10 sentencepiece.bpe.model\n"
     ]
    }
   ],
   "source": [
    "!ls -l {MODEL_NAME}/saved_model/1/assets"
   ]
  },
  {
   "cell_type": "markdown",
   "metadata": {
    "id": "RiQhfrzCEV5X"
   },
   "source": [
    "## Import and Save CamemBertForQuestionAnswering in Spark NLP\n"
   ]
  },
  {
   "cell_type": "markdown",
   "metadata": {
    "id": "mOvg1dClEV5X"
   },
   "source": [
    "- Let's install and setup Spark NLP in Google Colab\n",
    "- This part is pretty easy via our simple script"
   ]
  },
  {
   "cell_type": "code",
   "execution_count": 8,
   "metadata": {
    "colab": {
     "base_uri": "https://localhost:8080/"
    },
    "id": "Q17bzi_5EV5X",
    "outputId": "5a581b3c-ef42-43e4-e7a6-cfe877ed07be"
   },
   "outputs": [
    {
     "name": "stdout",
     "output_type": "stream",
     "text": [
      "Installing PySpark 3.2.3 and Spark NLP 5.3.3\n",
      "setup Colab for PySpark 3.2.3 and Spark NLP 5.3.3\n",
      "\u001b[2K     \u001b[90m━━━━━━━━━━━━━━━━━━━━━━━━━━━━━━━━━━━━━━━━\u001b[0m \u001b[32m281.5/281.5 MB\u001b[0m \u001b[31m2.8 MB/s\u001b[0m eta \u001b[36m0:00:00\u001b[0m\n",
      "\u001b[?25h  Preparing metadata (setup.py) ... \u001b[?25l\u001b[?25hdone\n",
      "\u001b[2K     \u001b[90m━━━━━━━━━━━━━━━━━━━━━━━━━━━━━━━━━━━━━━━━\u001b[0m \u001b[32m568.4/568.4 kB\u001b[0m \u001b[31m22.2 MB/s\u001b[0m eta \u001b[36m0:00:00\u001b[0m\n",
      "\u001b[2K     \u001b[90m━━━━━━━━━━━━━━━━━━━━━━━━━━━━━━━━━━━━━━━━\u001b[0m \u001b[32m199.7/199.7 kB\u001b[0m \u001b[31m14.0 MB/s\u001b[0m eta \u001b[36m0:00:00\u001b[0m\n",
      "\u001b[?25h  Building wheel for pyspark (setup.py) ... \u001b[?25l\u001b[?25hdone\n"
     ]
    }
   ],
   "source": [
    "! wget -q http://setup.johnsnowlabs.com/colab.sh -O - | bash"
   ]
  },
  {
   "cell_type": "markdown",
   "metadata": {
    "id": "yL4wYsKLEV5X"
   },
   "source": [
    "Let's start Spark with Spark NLP included via our simple `start()` function"
   ]
  },
  {
   "cell_type": "code",
   "execution_count": 9,
   "metadata": {
    "colab": {
     "base_uri": "https://localhost:8080/"
    },
    "id": "TyUWMxTDEV5X",
    "outputId": "975b5d01-bdbf-4c5c-a301-9a47548177f8"
   },
   "outputs": [
    {
     "name": "stderr",
     "output_type": "stream",
     "text": [
      "/usr/lib/python3.10/subprocess.py:1796: RuntimeWarning: os.fork() was called. os.fork() is incompatible with multithreaded code, and JAX is multithreaded, so this will likely lead to a deadlock.\n",
      "  self.pid = _posixsubprocess.fork_exec(\n"
     ]
    }
   ],
   "source": [
    "import sparknlp\n",
    "# let's start Spark with Spark NLP\n",
    "spark = sparknlp.start()"
   ]
  },
  {
   "cell_type": "markdown",
   "metadata": {
    "id": "PI_U5CtJEV5Y"
   },
   "source": [
    "- Let's use `loadSavedModel` functon in `CamemBertForQuestionAnswering` which allows us to load TensorFlow model in SavedModel format\n",
    "- Most params can be set later when you are loading this model in `CamemBertForQuestionAnswering` in runtime like `setMaxSentenceLength`, so don't worry what you are setting them now\n",
    "- `loadSavedModel` accepts two params, first is the path to the TF SavedModel. The second is the SparkSession that is `spark` variable we previously started via `sparknlp.start()`\n",
    "- NOTE: `loadSavedModel` accepts local paths in addition to distributed file systems such as `HDFS`, `S3`, `DBFS`, etc. This feature was introduced in Spark NLP 4.2.2 release. Keep in mind the best and recommended way to move/share/reuse Spark NLP models is to use `write.save` so you can use `.load()` from any file systems natively.\n",
    "\n"
   ]
  },
  {
   "cell_type": "code",
   "execution_count": 10,
   "metadata": {
    "id": "Y3Bqbc16EV5Y"
   },
   "outputs": [],
   "source": [
    "from sparknlp.annotator import *\n",
    "from sparknlp.base import *\n",
    "\n",
    "spanClassifier = CamemBertForQuestionAnswering.loadSavedModel(\n",
    "     '{}/saved_model/1'.format(MODEL_NAME),\n",
    "     spark\n",
    " )\\\n",
    "  .setInputCols([\"document_question\",'document_context'])\\\n",
    "  .setOutputCol(\"answer\")\\\n",
    "  .setCaseSensitive(False)\\\n",
    "  .setMaxSentenceLength(512)"
   ]
  },
  {
   "cell_type": "markdown",
   "metadata": {
    "id": "4verUza-EV5Y"
   },
   "source": [
    "- Let's save it on disk so it is easier to be moved around and also be used later via `.load` function"
   ]
  },
  {
   "cell_type": "code",
   "execution_count": 11,
   "metadata": {
    "id": "OSTAOaxPEV5Y"
   },
   "outputs": [],
   "source": [
    "spanClassifier.write().overwrite().save(\"./{}_spark_nlp\".format(MODEL_NAME))"
   ]
  },
  {
   "cell_type": "markdown",
   "metadata": {
    "id": "F13lzMIiEV5Y"
   },
   "source": [
    "Let's clean up stuff we don't need anymore"
   ]
  },
  {
   "cell_type": "code",
   "execution_count": 12,
   "metadata": {
    "id": "ExZDZ95mEV5Y"
   },
   "outputs": [],
   "source": [
    "!rm -rf {MODEL_NAME}_tokenizer {MODEL_NAME}"
   ]
  },
  {
   "cell_type": "markdown",
   "metadata": {
    "id": "Ig2BW1umEV5Y"
   },
   "source": [
    "Awesome 😎  !\n",
    "\n",
    "This is your CamemBertForQuestionAnswering model from HuggingFace 🤗  loaded and saved by Spark NLP 🚀"
   ]
  },
  {
   "cell_type": "code",
   "execution_count": 13,
   "metadata": {
    "colab": {
     "base_uri": "https://localhost:8080/"
    },
    "id": "Ne3LtjN4EV5Z",
    "outputId": "7e19f3ce-809e-4e98-e1e8-405734e0d3f5"
   },
   "outputs": [
    {
     "name": "stdout",
     "output_type": "stream",
     "text": [
      "total 439028\n",
      "-rw-r--r-- 1 root root 448742266 Apr 13 20:13 camembert_classification_tensorflow\n",
      "-rw-r--r-- 1 root root    810912 Apr 13 20:13 camembert_spp\n",
      "drwxr-xr-x 3 root root      4096 Apr 13 20:12 fields\n",
      "drwxr-xr-x 2 root root      4096 Apr 13 20:12 metadata\n"
     ]
    }
   ],
   "source": [
    "! ls -l {MODEL_NAME}_spark_nlp"
   ]
  },
  {
   "cell_type": "markdown",
   "metadata": {
    "id": "PcHTnQcgEV5Z"
   },
   "source": [
    "Now let's see how we can use it on other machines, clusters, or any place you wish to use your new and shiny CamemBertForQuestionAnswering model in Spark NLP 🚀 pipeline!"
   ]
  },
  {
   "cell_type": "code",
   "execution_count": 14,
   "metadata": {
    "colab": {
     "base_uri": "https://localhost:8080/"
    },
    "id": "lCsY7jNUEV5Z",
    "outputId": "7ed60b5b-e864-4215-d2ea-b1a09dc2f65f"
   },
   "outputs": [
    {
     "name": "stdout",
     "output_type": "stream",
     "text": [
      "+--------------------------------------------------------------------------------------------+------------------------+\n",
      "|question                                                                                    |result                  |\n",
      "+--------------------------------------------------------------------------------------------+------------------------+\n",
      "|Quel astronome a émit l'idée en premier d'une planète entre les orbites de Mars et Jupiter ?|[johann elert bode]     |\n",
      "|Quel astronome découvrit Uranus ?                                                           |[william herschel]      |\n",
      "|Quelles furent les découvertes finales des vingt-quatre astronomes ?                        |[la découverte d'uranus]|\n",
      "+--------------------------------------------------------------------------------------------+------------------------+\n",
      "\n"
     ]
    }
   ],
   "source": [
    "document_assembler = MultiDocumentAssembler() \\\n",
    "    .setInputCols([\"question\", \"context\"]) \\\n",
    "    .setOutputCols([\"document_question\", \"document_context\"])\n",
    "\n",
    "spanClassifier_loaded = CamemBertForQuestionAnswering.load(\"./{}_spark_nlp\".format(MODEL_NAME))\\\n",
    "  .setInputCols([\"document_question\",'document_context'])\\\n",
    "  .setOutputCol(\"answer\")\n",
    "\n",
    "pipeline = Pipeline().setStages([\n",
    "    document_assembler,\n",
    "    spanClassifier_loaded\n",
    "])\n",
    "\n",
    "context = \"\"\"L'idée selon laquelle une planète inconnue pourrait exister entre les orbites de Mars et Jupiter fut proposée pour la première fois par Johann Elert Bode en 1768. Ses suggestions étaient\n",
    "basées sur la loi de Titius-Bode, une théorie désormais obsolète proposée par Johann Daniel Titius en 1766,. Selon cette loi, le demi-grand axe de cette planète aurait été d'environ 2,8 ua. La découverte d'Uranus par William Herschel en\n",
    "1781 accrut la confiance dans la loi de Titius-Bode et, en 1800, vingt-quatre astronomes expérimentés combinèrent leurs efforts et entreprirent une recherche méthodique de la planète proposée,. Le groupe était dirigé par\n",
    "Franz Xaver von Zach. Bien qu'ils n'aient pas découvert Cérès, ils trouvèrent néanmoins plusieurs autres astéroïdes.\"\"\"\n",
    "\n",
    "question1 = \"Quel astronome a émit l'idée en premier d'une planète entre les orbites de Mars et Jupiter ?\"\n",
    "question2 = \"Quel astronome découvrit Uranus ?\"\n",
    "question3 = \"Quelles furent les découvertes finales des vingt-quatre astronomes ?\"\n",
    "\n",
    "example = spark.createDataFrame([[question1, context], [question2, context], [question3, context]]).toDF(\"question\", \"context\")\n",
    "result = pipeline.fit(example).transform(example)\n",
    "\n",
    "result.select(\"question\", \"answer.result\").show(3, False)"
   ]
  },
  {
   "cell_type": "markdown",
   "metadata": {
    "id": "-Ko-ZMvJEV5Z"
   },
   "source": [
    "That's it! You can now go wild and use hundreds of `CamemBertForQuestionAnswering` models from HuggingFace 🤗 in Spark NLP 🚀\n"
   ]
  }
 ],
 "metadata": {
  "colab": {
   "name": "HuggingFace in Spark NLP - CamemBertForQuestionAnswering.ipynb",
   "provenance": []
  },
  "kernelspec": {
   "display_name": "transformers",
   "language": "python",
   "name": "python3"
  },
  "language_info": {
   "codemirror_mode": {
    "name": "ipython",
    "version": 3
   },
   "file_extension": ".py",
   "mimetype": "text/x-python",
   "name": "python",
   "nbconvert_exporter": "python",
   "pygments_lexer": "ipython3"
  }
 },
 "nbformat": 4,
 "nbformat_minor": 0
}
