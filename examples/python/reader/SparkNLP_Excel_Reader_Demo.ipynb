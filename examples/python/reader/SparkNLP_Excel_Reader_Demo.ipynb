{
 "cells": [
  {
   "cell_type": "markdown",
   "metadata": {
    "id": "9ehZGOlcBf98"
   },
   "source": [
    "![JohnSnowLabs](https://sparknlp.org/assets/images/logo.png)\n",
    "\n",
    "[![Open In Colab](https://colab.research.google.com/assets/colab-badge.svg)](https://colab.research.google.com/github/JohnSnowLabs/spark-nlp/blob/master/examples/python/reader/SparkNLP_Excel_Reader_Demo.ipynb)"
   ]
  },
  {
   "cell_type": "markdown",
   "metadata": {
    "id": "tzcU5p2gdak9"
   },
   "source": [
    "# Introducing Excel reader in SparkNLP\n",
    "This notebook showcases the newly added  `sparknlp.read().xls()` method in Spark NLP that parses Excel content from both local files and both local and distributed file systems into a Spark DataFrame."
   ]
  },
  {
   "cell_type": "markdown",
   "metadata": {
    "id": "RFOFhaEedalB"
   },
   "source": [
    "## Setup and Initialization\n",
    "Let's keep in mind a few things before we start 😊\n",
    "\n",
    "Support for reading html files was introduced in Spark NLP 6.0.0. Please make sure you have upgraded to the latest Spark NLP release."
   ]
  },
  {
   "cell_type": "markdown",
   "metadata": {
    "id": "xFY30Xy8Brav"
   },
   "source": [
    "- Let's install and setup Spark NLP in Google Colab\n",
    "- This part is pretty easy via our simple script"
   ]
  },
  {
   "cell_type": "code",
   "execution_count": 7,
   "metadata": {
    "id": "qEllqTAQBs61"
   },
   "outputs": [],
   "source": [
    "! wget -q http://setup.johnsnowlabs.com/colab.sh -O - | bash"
   ]
  },
  {
   "cell_type": "markdown",
   "metadata": {
    "id": "D02R4ZahBunE"
   },
   "source": [
    "For local files example we will download an Excel file from Spark NLP Github repo:"
   ]
  },
  {
   "cell_type": "code",
   "execution_count": 8,
   "metadata": {
    "colab": {
     "base_uri": "https://localhost:8080/"
    },
    "id": "ya8qZe00dalC",
    "outputId": "32108d19-0a00-4e59-c056-1839111aa56d"
   },
   "outputs": [
    {
     "name": "stdout",
     "output_type": "stream",
     "text": [
      "--2025-03-06 15:41:14--  https://raw.githubusercontent.com/JohnSnowLabs/spark-nlp/feature/SPARKNLP-1102-Adding-support-to-read-Excel-files/src/test/resources/reader/xls/vodafone.xlsx\n",
      "Resolving raw.githubusercontent.com (raw.githubusercontent.com)... 185.199.108.133, 185.199.109.133, 185.199.110.133, ...\n",
      "Connecting to raw.githubusercontent.com (raw.githubusercontent.com)|185.199.108.133|:443... connected.\n",
      "HTTP request sent, awaiting response... 200 OK\n",
      "Length: 12541 (12K) [application/octet-stream]\n",
      "Saving to: ‘excel-files/vodafone.xlsx’\n",
      "\n",
      "\r",
      "vodafone.xlsx         0%[                    ]       0  --.-KB/s               \r",
      "vodafone.xlsx       100%[===================>]  12.25K  --.-KB/s    in 0s      \n",
      "\n",
      "2025-03-06 15:41:14 (61.1 MB/s) - ‘excel-files/vodafone.xlsx’ saved [12541/12541]\n",
      "\n"
     ]
    }
   ],
   "source": [
    "!mkdir excel-files\n",
    "!wget https://raw.githubusercontent.com/JohnSnowLabs/spark-nlp/master/src/test/resources/reader/xls/vodafone.xlsx -P excel-files"
   ]
  },
  {
   "cell_type": "markdown",
   "metadata": {
    "id": "EoFI66NAdalE"
   },
   "source": [
    "## Parsing Excel sheets from Local Files\n",
    "Use the `xls()` method to parse Excel content from local directories."
   ]
  },
  {
   "cell_type": "code",
   "execution_count": 9,
   "metadata": {
    "colab": {
     "base_uri": "https://localhost:8080/"
    },
    "id": "bAkMjJ1vdalE",
    "outputId": "24edd331-b503-4c1b-d174-60c5bd128b4a"
   },
   "outputs": [
    {
     "name": "stdout",
     "output_type": "stream",
     "text": [
      "Warning::Spark Session already created, some configs may not take.\n",
      "+--------------------+--------------------+\n",
      "|                path|                 xls|\n",
      "+--------------------+--------------------+\n",
      "|file:/content/exc...|[{Title, Financia...|\n",
      "+--------------------+--------------------+\n",
      "\n"
     ]
    }
   ],
   "source": [
    "import sparknlp\n",
    "xls_df = sparknlp.read().xls(\"./excel-files\")\n",
    "\n",
    "xls_df.show()"
   ]
  },
  {
   "cell_type": "code",
   "execution_count": 10,
   "metadata": {
    "colab": {
     "base_uri": "https://localhost:8080/"
    },
    "id": "VWbUgoVQrO8m",
    "outputId": "bd72bc6e-1e38-4b94-e063-49f827896fda"
   },
   "outputs": [
    {
     "name": "stdout",
     "output_type": "stream",
     "text": [
      "root\n",
      " |-- path: string (nullable = true)\n",
      " |-- xls: array (nullable = true)\n",
      " |    |-- element: struct (containsNull = true)\n",
      " |    |    |-- elementType: string (nullable = true)\n",
      " |    |    |-- content: string (nullable = true)\n",
      " |    |    |-- metadata: map (nullable = true)\n",
      " |    |    |    |-- key: string\n",
      " |    |    |    |-- value: string (valueContainsNull = true)\n",
      "\n"
     ]
    }
   ],
   "source": [
    "xls_df.printSchema()"
   ]
  },
  {
   "cell_type": "markdown",
   "metadata": {
    "id": "VQD2k4E5dalF"
   },
   "source": [
    "## Configuration Parameters\n",
    "- `titleFontSize`: You can customize the font size used to identify paragraphs that should be treated as titles. By default, the font size is set to 9.\n",
    "- `cellSeparator`: You can also customize the separator for each cell in the sheet. By defult, the separator is tab `\"\\t\"`\n",
    "\n",
    "However, if your Excel files require a different configuration, you can adjust this parameter accordingly. The example below demonstrates how to modify and work with this setting:"
   ]
  },
  {
   "cell_type": "code",
   "execution_count": 11,
   "metadata": {
    "colab": {
     "base_uri": "https://localhost:8080/"
    },
    "id": "MMTGmxLQdalG",
    "outputId": "a436f4a9-68c3-473c-d04c-e46ed45198ab"
   },
   "outputs": [
    {
     "name": "stdout",
     "output_type": "stream",
     "text": [
      "Warning::Spark Session already created, some configs may not take.\n",
      "+-----------------------------------------------------------------------------------------------------------------------------------------------------------------------------------------------------------------------------------------------------------------------------------------------------------------------------------------------------------------------------------------------------------------------------------------------------------------------------------------------------------------------------------------------------------------------------------------------------------------------------------------------------------------------------------------------------------------------------------------------------------------------------------------------------------------------------------------------------------------------------------------------------------------------------------------------------------------------------------------------------------------------------------------------------------------------------------------------------------------------------------------------------------------------------------------------------------------------------------------------------------------------------------------------------------------------------------------------------------------------------------------------------------------------------------------------------------------------------------------------------------------------------------------------------------------------------------------------------------------------------------------------------------------------------------------------------------------------------------------------------------------------------------------------------------------------------------------------------------------------------------------------------------------------------------------------------------------------------------------------------------------------------------------------------------------------------------------------------------------------------------------------------------------------------------------------------------------------------------------------------------------------------------------------------------------------------------------------------------------------------------------------------------------------------------------------------------------------------------------------------------------------------------------------------------------------------------------------------------------------------------------------------------------------------------------------------------------------------------------------------------------------------------------------------------------------------------------------------------------------------------------------------------------------------------------------------------------------------------------------------------------------------------------------------------------------------------------------------------------------------------------------------------------------------------------------------------------------+\n",
      "|xls                                                                                                                                                                                                                                                                                                                                                                                                                                                                                                                                                                                                                                                                                                                                                                                                                                                                                                                                                                                                                                                                                                                                                                                                                                                                                                                                                                                                                                                                                                                                                                                                                                                                                                                                                                                                                                                                                                                                                                                                                                                                                                                                                                                                                                                                                                                                                                                                                                                                                                                                                                                                                                                                                                                                                                                                                                                                                                                                                                                                                                                                                                                                                                                                                    |\n",
      "+-----------------------------------------------------------------------------------------------------------------------------------------------------------------------------------------------------------------------------------------------------------------------------------------------------------------------------------------------------------------------------------------------------------------------------------------------------------------------------------------------------------------------------------------------------------------------------------------------------------------------------------------------------------------------------------------------------------------------------------------------------------------------------------------------------------------------------------------------------------------------------------------------------------------------------------------------------------------------------------------------------------------------------------------------------------------------------------------------------------------------------------------------------------------------------------------------------------------------------------------------------------------------------------------------------------------------------------------------------------------------------------------------------------------------------------------------------------------------------------------------------------------------------------------------------------------------------------------------------------------------------------------------------------------------------------------------------------------------------------------------------------------------------------------------------------------------------------------------------------------------------------------------------------------------------------------------------------------------------------------------------------------------------------------------------------------------------------------------------------------------------------------------------------------------------------------------------------------------------------------------------------------------------------------------------------------------------------------------------------------------------------------------------------------------------------------------------------------------------------------------------------------------------------------------------------------------------------------------------------------------------------------------------------------------------------------------------------------------------------------------------------------------------------------------------------------------------------------------------------------------------------------------------------------------------------------------------------------------------------------------------------------------------------------------------------------------------------------------------------------------------------------------------------------------------------------------------------------------+\n",
      "|[{NarrativeText, ;;;;;;;;;;, {SheetName -> Index}}, {NarrativeText, ;;;;;;;;;;, {SheetName -> Index}}, {Title, ;Financial performance;;;;;;;;;, {SheetName -> Index}}, {Title, ;Topic;Period;;;Page;;;;;, {SheetName -> Index}}, {NarrativeText, ;Quarterly revenue;Nine quarters to 30 June 2023;;;1.0;;;;;, {SheetName -> Index}}, {NarrativeText, ;Group financial performance;FY 22;FY 23;;2.0;;;;;, {SheetName -> Index}}, {NarrativeText, ;Segmental results;FY 22;FY 23;;3.0;;;;;, {SheetName -> Index}}, {NarrativeText, ;Segmental analysis;FY 22;FY 23;;4.0;;;;;, {SheetName -> Index}}, {NarrativeText, ;Cash flow;FY 22;FY 23;;5.0;;;;;, {SheetName -> Index}}, {NarrativeText, ;;;;;;;;;;, {SheetName -> Index}}, {Title, ;Operational metrics;;;;;;;;;, {SheetName -> Index}}, {Title, ;Topic;Period;;;Page;;;;;, {SheetName -> Index}}, {NarrativeText, ;Mobile customers;Nine quarters to 30 June 2023;;;6.0;;;;;, {SheetName -> Index}}, {NarrativeText, ;Fixed broadband customers;Nine quarters to 30 June 2023;;;7.0;;;;;, {SheetName -> Index}}, {NarrativeText, ;Marketable homes passed;Nine quarters to 30 June 2023;;;8.0;;;;;, {SheetName -> Index}}, {NarrativeText, ;TV customers;Nine quarters to 30 June 2023;;;9.0;;;;;, {SheetName -> Index}}, {NarrativeText, ;Converged customers;Nine quarters to 30 June 2023;;;10.0;;;;;, {SheetName -> Index}}, {NarrativeText, ;Mobile churn;Nine quarters to 30 June 2023;;;11.0;;;;;, {SheetName -> Index}}, {NarrativeText, ;Mobile data usage;Nine quarters to 30 June 2023;;;12.0;;;;;, {SheetName -> Index}}, {NarrativeText, ;Mobile ARPU;Nine quarters to 30 June 2023;;;13.0;;;;;, {SheetName -> Index}}, {NarrativeText, ;;;;;;;;;;, {SheetName -> Index}}, {Title, ;Other;;;;;;;;;, {SheetName -> Index}}, {Title, ;Topic;Period;;;Page;;;;;, {SheetName -> Index}}, {NarrativeText, ;Average foreign exchange rates;Nine quarters to 30 June 2023;;;14.0;;;;;, {SheetName -> Index}}, {NarrativeText, ;Guidance rates;FY 23/24;;;14.0;;;;;, {SheetName -> Index}}, {NarrativeText, ;;;;;;;;;;, {SheetName -> Index}}, {NarrativeText, ;;;;;;;;;;, {SheetName -> Index}}, {NarrativeText, ;;;;;;;;;;, {SheetName -> Index}}, {NarrativeText, ;;;;;;;;;;, {SheetName -> Index}}, {NarrativeText, ;;;;;;;;;;, {SheetName -> Index}}, {NarrativeText, ;;;;;;;;;;, {SheetName -> Index}}, {NarrativeText, ;;;;;;;;;;, {SheetName -> Index}}, {NarrativeText, ;;;;;;;;;;, {SheetName -> Index}}, {NarrativeText, ;;;;;;;;;;, {SheetName -> Index}}, {NarrativeText, ;;;;;;;;;;, {SheetName -> Index}}, {NarrativeText, ;;;;;;;;;;, {SheetName -> Index}}, {NarrativeText, ;;;;;;;;;;, {SheetName -> Index}}, {NarrativeText, ;;;;;;;;;;, {SheetName -> Index}}, {NarrativeText, ;;;;;;;;;;, {SheetName -> Index}}, {NarrativeText, ;;;;;;;;;;, {SheetName -> Index}}, {NarrativeText, ;;;;;;;;;;, {SheetName -> Index}}, {NarrativeText, ;;;;;;;;;;, {SheetName -> Index}}, {NarrativeText, ;;;;;;;;;;, {SheetName -> Index}}, {NarrativeText, ;;;;;;;;;;, {SheetName -> Index}}, {NarrativeText, ;;;;;;;;;;, {SheetName -> Index}}, {NarrativeText, ;;;;;;;;;;, {SheetName -> Index}}, {NarrativeText, ;;;;;;;;;;, {SheetName -> Index}}]|\n",
      "+-----------------------------------------------------------------------------------------------------------------------------------------------------------------------------------------------------------------------------------------------------------------------------------------------------------------------------------------------------------------------------------------------------------------------------------------------------------------------------------------------------------------------------------------------------------------------------------------------------------------------------------------------------------------------------------------------------------------------------------------------------------------------------------------------------------------------------------------------------------------------------------------------------------------------------------------------------------------------------------------------------------------------------------------------------------------------------------------------------------------------------------------------------------------------------------------------------------------------------------------------------------------------------------------------------------------------------------------------------------------------------------------------------------------------------------------------------------------------------------------------------------------------------------------------------------------------------------------------------------------------------------------------------------------------------------------------------------------------------------------------------------------------------------------------------------------------------------------------------------------------------------------------------------------------------------------------------------------------------------------------------------------------------------------------------------------------------------------------------------------------------------------------------------------------------------------------------------------------------------------------------------------------------------------------------------------------------------------------------------------------------------------------------------------------------------------------------------------------------------------------------------------------------------------------------------------------------------------------------------------------------------------------------------------------------------------------------------------------------------------------------------------------------------------------------------------------------------------------------------------------------------------------------------------------------------------------------------------------------------------------------------------------------------------------------------------------------------------------------------------------------------------------------------------------------------------------------------------------+\n",
      "\n"
     ]
    }
   ],
   "source": [
    "params = {\"titleFontSize\": \"9\", \"cellSeparator\": \";\"}\n",
    "xls_df = sparknlp.read(params).xls(\"./excel-files\")\n",
    "xls_df.select(\"xls\").show(truncate=False)"
   ]
  },
  {
   "cell_type": "code",
   "execution_count": 12,
   "metadata": {
    "colab": {
     "base_uri": "https://localhost:8080/"
    },
    "id": "oBj0cHPXSD1m",
    "outputId": "51d52150-8764-4b0b-8728-42cfaaa55800"
   },
   "outputs": [
    {
     "name": "stdout",
     "output_type": "stream",
     "text": [
      "root\n",
      " |-- path: string (nullable = true)\n",
      " |-- xls: array (nullable = true)\n",
      " |    |-- element: struct (containsNull = true)\n",
      " |    |    |-- elementType: string (nullable = true)\n",
      " |    |    |-- content: string (nullable = true)\n",
      " |    |    |-- metadata: map (nullable = true)\n",
      " |    |    |    |-- key: string\n",
      " |    |    |    |-- value: string (valueContainsNull = true)\n",
      "\n"
     ]
    }
   ],
   "source": [
    "xls_df.printSchema()"
   ]
  },
  {
   "cell_type": "markdown",
   "metadata": {
    "id": "BB2FEfegGuxl"
   },
   "source": [
    "You can also use DFS file systems like:\n",
    "- Databricks: `dbfs://`\n",
    "- HDFS: `hdfs://`\n",
    "- Microsoft Fabric OneLake: `abfss://`"
   ]
  },
  {
   "cell_type": "markdown",
   "metadata": {
    "id": "1oihvmD4B3v8"
   },
   "source": [
    "- `storeContent`: By default, this is set to `false`. When enabled, the output will include the byte content of the file."
   ]
  },
  {
   "cell_type": "code",
   "execution_count": 13,
   "metadata": {
    "colab": {
     "base_uri": "https://localhost:8080/"
    },
    "id": "uYGF7rQDB5Mc",
    "outputId": "7e540660-5ab0-4e9a-a86e-8fee2158cee0"
   },
   "outputs": [
    {
     "name": "stdout",
     "output_type": "stream",
     "text": [
      "Warning::Spark Session already created, some configs may not take.\n",
      "+--------------------+--------------------+--------------------+\n",
      "|                path|                 xls|             content|\n",
      "+--------------------+--------------------+--------------------+\n",
      "|file:/content/exc...|[{Title, Financia...|[50 4B 03 04 14 0...|\n",
      "+--------------------+--------------------+--------------------+\n",
      "\n"
     ]
    }
   ],
   "source": [
    "params = {\"storeContent\": \"true\"}\n",
    "xls_df = sparknlp.read(params).xls(\"./excel-files\")\n",
    "xls_df.show()"
   ]
  }
 ],
 "metadata": {
  "colab": {
   "provenance": []
  },
  "kernelspec": {
   "display_name": "Python 3 (ipykernel)",
   "language": "python",
   "name": "python3"
  },
  "language_info": {
   "codemirror_mode": {
    "name": "ipython",
    "version": 3
   },
   "file_extension": ".py",
   "mimetype": "text/x-python",
   "name": "python",
   "nbconvert_exporter": "python",
   "pygments_lexer": "ipython3",
   "version": "3.10.12"
  }
 },
 "nbformat": 4,
 "nbformat_minor": 1
}
