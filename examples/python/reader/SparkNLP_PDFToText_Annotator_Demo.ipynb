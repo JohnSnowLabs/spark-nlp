{
  "cells": [
    {
      "cell_type": "markdown",
      "metadata": {
        "id": "bZ_VuiC1t2cR"
      },
      "source": [
        "![JohnSnowLabs](https://sparknlp.org/assets/images/logo.png)\n",
        "\n",
        "[![Open In Colab](https://colab.research.google.com/assets/colab-badge.svg)](https://colab.research.google.com/github/JohnSnowLabs/spark-nlp/blob/master/examples/python/reader/SparkNLP_PDFToText_Annotator_Demo.ipynb)"
      ]
    },
    {
      "cell_type": "markdown",
      "metadata": {
        "id": "tzcU5p2gdak9"
      },
      "source": [
        "# Introducing PDFToText annotator in SparkNLP\n",
        "This notebook showcases the newly added  `PDFToText` method in Spark NLP that parses PDF content from both local files and distributed file systems into a Spark DataFrame."
      ]
    },
    {
      "cell_type": "markdown",
      "metadata": {
        "id": "RFOFhaEedalB"
      },
      "source": [
        "## Setup and Initialization\n",
        "Let's keep in mind a few things before we start 😊\n",
        "\n",
        "Support for reading pdf files was introduced in Spark NLP 6.0.0 Please make sure you have upgraded to the latest Spark NLP release."
      ]
    },
    {
      "cell_type": "markdown",
      "metadata": {
        "id": "ZTPiA1EFt2cS"
      },
      "source": [
        "Let's install and setup Spark NLP in Google Colab. This part is pretty easy via our simple script"
      ]
    },
    {
      "cell_type": "code",
      "execution_count": 1,
      "metadata": {
        "colab": {
          "base_uri": "https://localhost:8080/"
        },
        "id": "dYW99jiAt2cT",
        "outputId": "52d96e4e-1c52-47f3-8f6a-bacde51a95b9"
      },
      "outputs": [
        {
          "output_type": "stream",
          "name": "stdout",
          "text": [
            "Mounted at /content/drive\n",
            "Processing ./spark_nlp-6.0.0-py2.py3-none-any.whl\n",
            "Installing collected packages: spark-nlp\n",
            "Successfully installed spark-nlp-6.0.0\n",
            "Apache Spark version: 3.5.5\n"
          ]
        }
      ],
      "source": [
        "! wget -q http://setup.johnsnowlabs.com/colab.sh -O - | bash"
      ]
    },
    {
      "cell_type": "markdown",
      "metadata": {
        "id": "ZRtl8fgAt2cT"
      },
      "source": [
        "For local files example we will download a couple of PDF files from Spark NLP Github repo:"
      ]
    },
    {
      "cell_type": "code",
      "execution_count": 2,
      "metadata": {
        "colab": {
          "base_uri": "https://localhost:8080/"
        },
        "id": "ya8qZe00dalC",
        "outputId": "33edb9ae-2c40-4220-bf33-fa0172c7e73d"
      },
      "outputs": [
        {
          "output_type": "stream",
          "name": "stdout",
          "text": [
            "--2025-04-29 08:44:49--  https://raw.githubusercontent.com/JohnSnowLabs/spark-nlp/master/src/test/resources/reader/pdf/pdf-title.pdf\n",
            "Resolving raw.githubusercontent.com (raw.githubusercontent.com)... 185.199.108.133, 185.199.109.133, 185.199.110.133, ...\n",
            "Connecting to raw.githubusercontent.com (raw.githubusercontent.com)|185.199.108.133|:443... connected.\n",
            "HTTP request sent, awaiting response... 200 OK\n",
            "Length: 25803 (25K) [application/octet-stream]\n",
            "Saving to: ‘pdf-files/pdf-title.pdf’\n",
            "\n",
            "\rpdf-title.pdf         0%[                    ]       0  --.-KB/s               \rpdf-title.pdf       100%[===================>]  25.20K  --.-KB/s    in 0s      \n",
            "\n",
            "2025-04-29 08:44:49 (114 MB/s) - ‘pdf-files/pdf-title.pdf’ saved [25803/25803]\n",
            "\n",
            "--2025-04-29 08:44:49--  https://raw.githubusercontent.com/JohnSnowLabs/spark-nlp/master/src/test/resources/reader/pdf/text_3_pages.pdf\n",
            "Resolving raw.githubusercontent.com (raw.githubusercontent.com)... 185.199.108.133, 185.199.109.133, 185.199.111.133, ...\n",
            "Connecting to raw.githubusercontent.com (raw.githubusercontent.com)|185.199.108.133|:443... connected.\n",
            "HTTP request sent, awaiting response... 200 OK\n",
            "Length: 9487 (9.3K) [application/octet-stream]\n",
            "Saving to: ‘pdf-files/text_3_pages.pdf’\n",
            "\n",
            "text_3_pages.pdf    100%[===================>]   9.26K  --.-KB/s    in 0s      \n",
            "\n",
            "2025-04-29 08:44:49 (73.7 MB/s) - ‘pdf-files/text_3_pages.pdf’ saved [9487/9487]\n",
            "\n"
          ]
        }
      ],
      "source": [
        "!mkdir pdf-files\n",
        "!wget https://raw.githubusercontent.com/JohnSnowLabs/spark-nlp/master/src/test/resources/reader/pdf/pdf-title.pdf -P pdf-files\n",
        "!wget https://raw.githubusercontent.com/JohnSnowLabs/spark-nlp/master/src/test/resources/reader/pdf/text_3_pages.pdf -P pdf-files"
      ]
    },
    {
      "cell_type": "markdown",
      "metadata": {
        "id": "EoFI66NAdalE"
      },
      "source": [
        "## Parsing PDFs from Local Files\n",
        "Use the `PdfToText()` annotator to parse Excel content from local directories."
      ]
    },
    {
      "cell_type": "code",
      "execution_count": 3,
      "metadata": {
        "colab": {
          "base_uri": "https://localhost:8080/"
        },
        "id": "bAkMjJ1vdalE",
        "outputId": "017632a1-56a9-435b-c998-fc2daf6d1fa4"
      },
      "outputs": [
        {
          "output_type": "stream",
          "name": "stdout",
          "text": [
            "Warning::Spark Session already created, some configs may not take.\n"
          ]
        }
      ],
      "source": [
        "import sparknlp\n",
        "# let's start Spark with Spark NLP\n",
        "spark = sparknlp.start()"
      ]
    },
    {
      "cell_type": "markdown",
      "metadata": {
        "id": "acetAKBOHbif"
      },
      "source": [
        "We need to set the configuraiton below. This setting is primarily included for backward compatibility with older versions of Spark."
      ]
    },
    {
      "cell_type": "code",
      "execution_count": 4,
      "metadata": {
        "id": "6SSkLxHp4Ayq"
      },
      "outputs": [],
      "source": [
        "spark.conf.set(\"spark.sql.legacy.allowUntypedScalaUDF\", \"true\")"
      ]
    },
    {
      "cell_type": "code",
      "execution_count": 6,
      "metadata": {
        "id": "HHxmco4D17RB"
      },
      "outputs": [],
      "source": [
        "from sparknlp.base import *\n",
        "from sparknlp.annotator import *\n",
        "from sparknlp.reader.pdf_to_text import *\n",
        "\n",
        "pdf_to_text = PdfToText().setStoreSplittedPdf(True)\n",
        "test_df = spark.read.format(\"binaryFile\").load(\"./pdf-files\")"
      ]
    },
    {
      "cell_type": "code",
      "execution_count": 7,
      "metadata": {
        "colab": {
          "base_uri": "https://localhost:8080/"
        },
        "id": "M3peSmKx2Rt-",
        "outputId": "e73fea98-84eb-48af-c751-bf511c9a16fa"
      },
      "outputs": [
        {
          "output_type": "stream",
          "name": "stdout",
          "text": [
            "+--------------------+--------------------+------+------------------------------+----------------+---------------+--------------------+---------+-------+\n",
            "|                path|    modificationTime|length|PdfToText_d3ee37ae1218__output|height_dimension|width_dimension|             content|exception|pagenum|\n",
            "+--------------------+--------------------+------+------------------------------+----------------+---------------+--------------------+---------+-------+\n",
            "|file:/content/pdf...|2025-04-29 08:44:...| 25803|          This is a Title \\...|             842|            596|[25 50 44 46 2D 3...|     NULL|      0|\n",
            "|file:/content/pdf...|2025-04-29 08:44:...|  9487|          This is a page.\\n...|             841|            595|[25 50 44 46 2D 3...|     NULL|      0|\n",
            "+--------------------+--------------------+------+------------------------------+----------------+---------------+--------------------+---------+-------+\n",
            "\n"
          ]
        }
      ],
      "source": [
        "pipeline = Pipeline(stages=[pdf_to_text])\n",
        "pipeline_model = pipeline.fit(test_df)\n",
        "pdf_df = pipeline_model.transform(test_df)\n",
        "pdf_df.show()"
      ]
    },
    {
      "cell_type": "code",
      "execution_count": 8,
      "metadata": {
        "colab": {
          "base_uri": "https://localhost:8080/"
        },
        "id": "VWbUgoVQrO8m",
        "outputId": "6324ec1a-caed-4bca-9aa7-f3183680a8fa"
      },
      "outputs": [
        {
          "output_type": "stream",
          "name": "stdout",
          "text": [
            "root\n",
            " |-- path: string (nullable = true)\n",
            " |-- modificationTime: timestamp (nullable = true)\n",
            " |-- length: long (nullable = true)\n",
            " |-- PdfToText_d3ee37ae1218__output: string (nullable = true)\n",
            " |-- height_dimension: integer (nullable = true)\n",
            " |-- width_dimension: integer (nullable = true)\n",
            " |-- content: binary (nullable = true)\n",
            " |-- exception: string (nullable = true)\n",
            " |-- pagenum: integer (nullable = true)\n",
            "\n"
          ]
        }
      ],
      "source": [
        "pdf_df.printSchema()"
      ]
    },
    {
      "cell_type": "markdown",
      "metadata": {
        "id": "BB2FEfegGuxl"
      },
      "source": [
        "You can also use DFS file systems like:\n",
        "- Databricks: `dbfs://`\n",
        "- HDFS: `hdfs://`\n",
        "- Microsoft Fabric OneLake: `abfss://`"
      ]
    },
    {
      "cell_type": "code",
      "source": [],
      "metadata": {
        "id": "7kmO1fz1t3h7"
      },
      "execution_count": null,
      "outputs": []
    }
  ],
  "metadata": {
    "colab": {
      "provenance": []
    },
    "kernelspec": {
      "display_name": "Python 3 (ipykernel)",
      "language": "python",
      "name": "python3"
    },
    "language_info": {
      "codemirror_mode": {
        "name": "ipython",
        "version": 3
      },
      "file_extension": ".py",
      "mimetype": "text/x-python",
      "name": "python",
      "nbconvert_exporter": "python",
      "pygments_lexer": "ipython3",
      "version": "3.10.12"
    }
  },
  "nbformat": 4,
  "nbformat_minor": 0
}