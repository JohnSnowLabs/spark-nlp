{
  "cells": [
    {
      "cell_type": "markdown",
      "metadata": {
        "id": "1olbQg4GuvYJ"
      },
      "source": [
        "![JohnSnowLabs](https://sparknlp.org/assets/images/logo.png)\n",
        "\n",
        "[![Open In Colab](https://colab.research.google.com/assets/colab-badge.svg)](https://colab.research.google.com/github/JohnSnowLabs/spark-nlp/blob/master/examples/python/reader/SparkNLP_PDF_Reader_Demo.ipynb)"
      ]
    },
    {
      "cell_type": "markdown",
      "metadata": {
        "application/vnd.databricks.v1+cell": {
          "cellMetadata": {
            "byteLimit": 2048000,
            "rowLimit": 10000
          },
          "inputWidgets": {},
          "nuid": "9179255b-6bfd-415f-9f0a-54b6a3512617",
          "showTitle": false,
          "tableResultSettingsMap": {},
          "title": ""
        },
        "id": "tzcU5p2gdak9"
      },
      "source": [
        "# Introducing PDF reader in SparkNLP\n",
        "This notebook showcases the newly added  `sparknlp.read().pdf()` method in Spark NLP that parses PDF content from both local files and distributed file systems into a Spark DataFrame."
      ]
    },
    {
      "cell_type": "markdown",
      "metadata": {
        "application/vnd.databricks.v1+cell": {
          "cellMetadata": {
            "byteLimit": 2048000,
            "rowLimit": 10000
          },
          "inputWidgets": {},
          "nuid": "c3f8f91e-aee4-4e63-bfc7-89d93ac079cb",
          "showTitle": false,
          "tableResultSettingsMap": {},
          "title": ""
        },
        "id": "RFOFhaEedalB"
      },
      "source": [
        "## Setup and Initialization\n",
        "Let's keep in mind a few things before we start 😊\n",
        "\n",
        "Support for reading pdf files was introduced in Spark NLP 6.0.0 Please make sure you have upgraded to the latest Spark NLP release."
      ]
    },
    {
      "cell_type": "markdown",
      "metadata": {
        "id": "u89-1-iruvYK"
      },
      "source": [
        "Let's install and setup Spark NLP in Google Colab. This part is pretty easy via our simple script"
      ]
    },
    {
      "cell_type": "code",
      "execution_count": 1,
      "metadata": {
        "application/vnd.databricks.v1+cell": {
          "cellMetadata": {
            "byteLimit": 2048000,
            "rowLimit": 10000
          },
          "inputWidgets": {},
          "nuid": "73d60304-095c-4068-ac38-614c0163f4ac",
          "showTitle": false,
          "tableResultSettingsMap": {},
          "title": ""
        },
        "id": "ya8qZe00dalC",
        "colab": {
          "base_uri": "https://localhost:8080/"
        },
        "outputId": "821aa0be-8856-4a77-8559-4ef7ff8cadb6"
      },
      "outputs": [
        {
          "output_type": "stream",
          "name": "stdout",
          "text": [
            "Mounted at /content/drive\n",
            "Processing ./spark_nlp-6.0.0-py2.py3-none-any.whl\n",
            "Installing collected packages: spark-nlp\n",
            "Successfully installed spark-nlp-6.0.0\n",
            "Apache Spark version: 3.5.5\n"
          ]
        }
      ],
      "source": [
        "! wget -q http://setup.johnsnowlabs.com/colab.sh -O - | bash"
      ]
    },
    {
      "cell_type": "markdown",
      "metadata": {
        "id": "-ndxXSeFuvYL"
      },
      "source": [
        "For local files example we will download a couple of PDF files from Spark NLP Github repo:"
      ]
    },
    {
      "cell_type": "code",
      "execution_count": 2,
      "metadata": {
        "colab": {
          "base_uri": "https://localhost:8080/"
        },
        "id": "A_Cd2qq8uvYL",
        "outputId": "9aa67210-8064-4403-b0f7-a45f734cec2f"
      },
      "outputs": [
        {
          "output_type": "stream",
          "name": "stdout",
          "text": [
            "--2025-04-29 08:48:49--  https://raw.githubusercontent.com/JohnSnowLabs/spark-nlp/master/src/test/resources/reader/pdf/pdf-title.pdf\n",
            "Resolving raw.githubusercontent.com (raw.githubusercontent.com)... 185.199.109.133, 185.199.110.133, 185.199.108.133, ...\n",
            "Connecting to raw.githubusercontent.com (raw.githubusercontent.com)|185.199.109.133|:443... connected.\n",
            "HTTP request sent, awaiting response... 200 OK\n",
            "Length: 25803 (25K) [application/octet-stream]\n",
            "Saving to: ‘pdf-files/pdf-title.pdf’\n",
            "\n",
            "pdf-title.pdf       100%[===================>]  25.20K  --.-KB/s    in 0.002s  \n",
            "\n",
            "2025-04-29 08:48:49 (11.9 MB/s) - ‘pdf-files/pdf-title.pdf’ saved [25803/25803]\n",
            "\n",
            "--2025-04-29 08:48:49--  https://raw.githubusercontent.com/JohnSnowLabs/spark-nlp/master/src/test/resources/reader/pdf/text_3_pages.pdf\n",
            "Resolving raw.githubusercontent.com (raw.githubusercontent.com)... 185.199.108.133, 185.199.109.133, 185.199.110.133, ...\n",
            "Connecting to raw.githubusercontent.com (raw.githubusercontent.com)|185.199.108.133|:443... connected.\n",
            "HTTP request sent, awaiting response... 200 OK\n",
            "Length: 9487 (9.3K) [application/octet-stream]\n",
            "Saving to: ‘pdf-files/text_3_pages.pdf’\n",
            "\n",
            "text_3_pages.pdf    100%[===================>]   9.26K  --.-KB/s    in 0s      \n",
            "\n",
            "2025-04-29 08:48:49 (63.9 MB/s) - ‘pdf-files/text_3_pages.pdf’ saved [9487/9487]\n",
            "\n"
          ]
        }
      ],
      "source": [
        "!mkdir pdf-files\n",
        "!wget https://raw.githubusercontent.com/JohnSnowLabs/spark-nlp/master/src/test/resources/reader/pdf/pdf-title.pdf -P pdf-files\n",
        "!wget https://raw.githubusercontent.com/JohnSnowLabs/spark-nlp/master/src/test/resources/reader/pdf/text_3_pages.pdf -P pdf-files"
      ]
    },
    {
      "cell_type": "markdown",
      "metadata": {
        "application/vnd.databricks.v1+cell": {
          "cellMetadata": {
            "byteLimit": 2048000,
            "rowLimit": 10000
          },
          "inputWidgets": {},
          "nuid": "e58c3483-2505-4f72-bf7d-617a96c4fbf0",
          "showTitle": false,
          "tableResultSettingsMap": {},
          "title": ""
        },
        "id": "EoFI66NAdalE"
      },
      "source": [
        "## Parsing PDFs from Local Files\n",
        "Use the `pdf()` method to parse Excel content from local directories."
      ]
    },
    {
      "cell_type": "code",
      "execution_count": 4,
      "metadata": {
        "application/vnd.databricks.v1+cell": {
          "cellMetadata": {
            "byteLimit": 2048000,
            "rowLimit": 10000
          },
          "inputWidgets": {},
          "nuid": "ee51b499-e008-4861-b425-8450076e2d2e",
          "showTitle": false,
          "tableResultSettingsMap": {},
          "title": ""
        },
        "colab": {
          "base_uri": "https://localhost:8080/"
        },
        "id": "bAkMjJ1vdalE",
        "outputId": "28d858fe-9461-46bf-fdb2-071416115107"
      },
      "outputs": [
        {
          "output_type": "stream",
          "name": "stdout",
          "text": [
            "Warning::Spark Session already created, some configs may not take.\n",
            "+--------------------+--------------------+------+--------------------+----------------+---------------+-------+---------+-------+\n",
            "|                path|    modificationTime|length|                text|height_dimension|width_dimension|content|exception|pagenum|\n",
            "+--------------------+--------------------+------+--------------------+----------------+---------------+-------+---------+-------+\n",
            "|file:/content/pdf...|2025-04-29 08:48:...| 25803|This is a Title \\...|             842|            596|   NULL|     NULL|      0|\n",
            "|file:/content/pdf...|2025-04-29 08:48:...|  9487|This is a page.\\n...|             841|            595|   NULL|     NULL|      0|\n",
            "+--------------------+--------------------+------+--------------------+----------------+---------------+-------+---------+-------+\n",
            "\n"
          ]
        }
      ],
      "source": [
        "import sparknlp\n",
        "\n",
        "pdf_df = sparknlp.read().pdf(\"./pdf-files\")\n",
        "pdf_df.show()"
      ]
    },
    {
      "cell_type": "code",
      "execution_count": 5,
      "metadata": {
        "application/vnd.databricks.v1+cell": {
          "cellMetadata": {
            "byteLimit": 2048000,
            "rowLimit": 10000
          },
          "inputWidgets": {},
          "nuid": "65091263-01a0-4af3-aa0e-988761e9ba52",
          "showTitle": false,
          "tableResultSettingsMap": {},
          "title": ""
        },
        "colab": {
          "base_uri": "https://localhost:8080/"
        },
        "id": "VWbUgoVQrO8m",
        "outputId": "a3f85d61-ece9-4ed4-afd3-27c25c57c420"
      },
      "outputs": [
        {
          "output_type": "stream",
          "name": "stdout",
          "text": [
            "root\n",
            " |-- path: string (nullable = true)\n",
            " |-- modificationTime: timestamp (nullable = true)\n",
            " |-- length: long (nullable = true)\n",
            " |-- text: string (nullable = true)\n",
            " |-- height_dimension: integer (nullable = true)\n",
            " |-- width_dimension: integer (nullable = true)\n",
            " |-- content: binary (nullable = true)\n",
            " |-- exception: string (nullable = true)\n",
            " |-- pagenum: integer (nullable = true)\n",
            "\n"
          ]
        }
      ],
      "source": [
        "pdf_df.printSchema()"
      ]
    },
    {
      "cell_type": "markdown",
      "metadata": {
        "application/vnd.databricks.v1+cell": {
          "cellMetadata": {
            "byteLimit": 2048000,
            "rowLimit": 10000
          },
          "inputWidgets": {},
          "nuid": "b7119184-b033-4197-88c9-f8fa50b42be3",
          "showTitle": false,
          "tableResultSettingsMap": {},
          "title": ""
        },
        "id": "BB2FEfegGuxl"
      },
      "source": [
        "You can also use DFS file systems like:\n",
        "- Databricks: `dbfs://`\n",
        "- HDFS: `hdfs://`\n",
        "- Microsoft Fabric OneLake: `abfss://`"
      ]
    },
    {
      "cell_type": "markdown",
      "metadata": {
        "application/vnd.databricks.v1+cell": {
          "cellMetadata": {
            "byteLimit": 2048000,
            "rowLimit": 10000
          },
          "inputWidgets": {},
          "nuid": "60bfae5d-21a0-4932-8acb-30d19529e4cf",
          "showTitle": false,
          "tableResultSettingsMap": {},
          "title": ""
        },
        "id": "C1KhfLcCPizR"
      },
      "source": [
        "### Configuration Parameters"
      ]
    },
    {
      "cell_type": "markdown",
      "metadata": {
        "application/vnd.databricks.v1+cell": {
          "cellMetadata": {
            "byteLimit": 2048000,
            "rowLimit": 10000
          },
          "inputWidgets": {},
          "nuid": "d046ddfa-f097-41db-84a9-80d93d4c2693",
          "showTitle": false,
          "tableResultSettingsMap": {},
          "title": ""
        },
        "id": "OUSSGmjrPnPY"
      },
      "source": [
        "You can customize the behavior of PDF reader with some parameters."
      ]
    },
    {
      "cell_type": "markdown",
      "metadata": {
        "application/vnd.databricks.v1+cell": {
          "cellMetadata": {
            "byteLimit": 2048000,
            "rowLimit": 10000
          },
          "inputWidgets": {},
          "nuid": "9f8ae4b7-a73a-4e70-bbb9-afe69dd74d95",
          "showTitle": false,
          "tableResultSettingsMap": {},
          "title": ""
        },
        "id": "7jefzVyEP8f_"
      },
      "source": [
        "- `storeSplittedPdf`: By default, it's `false`. When it's `true` it stores bytes content of splitted pdf in `content` column"
      ]
    },
    {
      "cell_type": "code",
      "execution_count": 7,
      "metadata": {
        "application/vnd.databricks.v1+cell": {
          "cellMetadata": {
            "byteLimit": 2048000,
            "rowLimit": 10000
          },
          "inputWidgets": {},
          "nuid": "643c4165-0b12-429c-9a75-3c2fd5207a72",
          "showTitle": false,
          "tableResultSettingsMap": {},
          "title": ""
        },
        "colab": {
          "base_uri": "https://localhost:8080/"
        },
        "id": "gDJyUi_9R4fr",
        "outputId": "3587da71-991e-48e1-d941-0fa389268efa"
      },
      "outputs": [
        {
          "output_type": "stream",
          "name": "stdout",
          "text": [
            "Warning::Spark Session already created, some configs may not take.\n",
            "+--------------------+--------------------+------+--------------------+----------------+---------------+--------------------+---------+-------+\n",
            "|                path|    modificationTime|length|                text|height_dimension|width_dimension|             content|exception|pagenum|\n",
            "+--------------------+--------------------+------+--------------------+----------------+---------------+--------------------+---------+-------+\n",
            "|file:/content/pdf...|2025-04-29 08:48:...| 25803|This is a Title \\...|             842|            596|[25 50 44 46 2D 3...|     NULL|      0|\n",
            "|file:/content/pdf...|2025-04-29 08:48:...|  9487|This is a page.\\n...|             841|            595|[25 50 44 46 2D 3...|     NULL|      0|\n",
            "+--------------------+--------------------+------+--------------------+----------------+---------------+--------------------+---------+-------+\n",
            "\n"
          ]
        }
      ],
      "source": [
        "params = {\"storeSplittedPdf\": \"true\"}\n",
        "pdf_df = sparknlp.read(params).pdf(\"./pdf-files\")\n",
        "pdf_df.show()"
      ]
    },
    {
      "cell_type": "code",
      "source": [],
      "metadata": {
        "id": "0RdBPLlKux34"
      },
      "execution_count": null,
      "outputs": []
    }
  ],
  "metadata": {
    "application/vnd.databricks.v1+notebook": {
      "computePreferences": null,
      "dashboards": [],
      "environmentMetadata": null,
      "language": "python",
      "notebookMetadata": {
        "pythonIndentUnit": 4
      },
      "notebookName": "SparkNLP_PDF_Reader_Demo",
      "widgets": {}
    },
    "colab": {
      "provenance": []
    },
    "kernelspec": {
      "display_name": "Python 3 (ipykernel)",
      "language": "python",
      "name": "python3"
    },
    "language_info": {
      "codemirror_mode": {
        "name": "ipython",
        "version": 3
      },
      "file_extension": ".py",
      "mimetype": "text/x-python",
      "name": "python",
      "nbconvert_exporter": "python",
      "pygments_lexer": "ipython3",
      "version": "3.10.12"
    }
  },
  "nbformat": 4,
  "nbformat_minor": 0
}