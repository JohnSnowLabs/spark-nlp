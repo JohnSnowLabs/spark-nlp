{
  "cells": [
    {
      "cell_type": "markdown",
      "metadata": {
        "id": "l2I8675g-OZ-"
      },
      "source": [
        "![JohnSnowLabs](https://sparknlp.org/assets/images/logo.png)\n",
        "\n",
        "[![Open In Colab](https://colab.research.google.com/assets/colab-badge.svg)](https://colab.research.google.com/github/JohnSnowLabs/spark-nlp/blob/master/examples/python/llama.cpp/llama.cpp_in_Spark_NLP_AutoGGUFModel.ipynb)\n",
        "\n",
        "# Import llama.cpp 🦙 models into Spark NLP 🚀\n",
        "\n",
        "Let's keep in mind a few things before we start 😊\n",
        "\n",
        "- llama.cpp support was introduced in `Spark NLP 5.5.0`, enabling quantized LLM inference on a wide range of devices. Please make sure you have upgraded to the latest Spark NLP release.\n",
        "- You need to use your own `.gguf` model files, which also include the models from the [Hugging Face Models](https://huggingface.co/models?library=gguf)."
      ]
    },
    {
      "cell_type": "markdown",
      "metadata": {
        "id": "TsYJmkov-OaC"
      },
      "source": [
        "## Download a GGUF Reranker Model\n",
        "\n",
        "Lets download a GGUF model to test it out. For this, we will use [gpustack/bge-reranker-v2-m3-Q4_K_M](https://huggingface.co/gpustack/bge-reranker-v2-m3-GGUF). It is a 3.8B parameter model which also is available in 4-bit quantization.\n",
        "\n",
        "We can download the model by selecting the q4 GGUF file from the \"Files and versions\" tab.\n",
        "\n",
        "Once downloaded, we can directly import this model into Spark NLP!"
      ]
    },
    {
      "cell_type": "code",
      "execution_count": 1,
      "metadata": {
        "id": "jYcseHT0-OaC"
      },
      "outputs": [],
      "source": [
        "EXPORT_PATH = \"/tmp/bge-reranker-v2-m3-Q4_K_M.gguf\""
      ]
    },
    {
      "cell_type": "code",
      "execution_count": 2,
      "metadata": {
        "colab": {
          "base_uri": "https://localhost:8080/"
        },
        "id": "tQN14uiH-OaD",
        "outputId": "b4eb901d-6171-4736-957d-73d6a2d2d5f8"
      },
      "outputs": [
        {
          "name": "stdout",
          "output_type": "stream",
          "text": [
            "--2025-08-15 05:48:01--  https://huggingface.co/gpustack/bge-reranker-v2-m3-GGUF/resolve/main/bge-reranker-v2-m3-Q4_K_M.gguf?download=true\n",
            "Resolving huggingface.co (huggingface.co)... 18.164.174.118, 18.164.174.17, 18.164.174.55, ...\n",
            "Connecting to huggingface.co (huggingface.co)|18.164.174.118|:443... connected.\n",
            "HTTP request sent, awaiting response... 302 Found\n",
            "Location: https://cdn-lfs-us-1.hf.co/repos/a8/9b/a89b7cc84f0ac1c67a4d8b3f1929339b24363e86ac58811b0ffedcfb20dfe844/e186a244ed455b4ab66ec64339ce7427a6ae13f5c0b5e544de96e50f0f8b3673?response-content-disposition=attachment%3B+filename*%3DUTF-8%27%27bge-reranker-v2-m3-Q4_K_M.gguf%3B+filename%3D%22bge-reranker-v2-m3-Q4_K_M.gguf%22%3B&Expires=1755240482&Policy=eyJTdGF0ZW1lbnQiOlt7IkNvbmRpdGlvbiI6eyJEYXRlTGVzc1RoYW4iOnsiQVdTOkVwb2NoVGltZSI6MTc1NTI0MDQ4Mn19LCJSZXNvdXJjZSI6Imh0dHBzOi8vY2RuLWxmcy11cy0xLmhmLmNvL3JlcG9zL2E4LzliL2E4OWI3Y2M4NGYwYWMxYzY3YTRkOGIzZjE5MjkzMzliMjQzNjNlODZhYzU4ODExYjBmZmVkY2ZiMjBkZmU4NDQvZTE4NmEyNDRlZDQ1NWI0YWI2NmVjNjQzMzljZTc0MjdhNmFlMTNmNWMwYjVlNTQ0ZGU5NmU1MGYwZjhiMzY3Mz9yZXNwb25zZS1jb250ZW50LWRpc3Bvc2l0aW9uPSoifV19&Signature=BWlp-BdH96pxAvs7ejs1wNw5G3lUPJQpp7fdfushqZzrPEwd0QzQ4ykMXnhlWpH77TQ6WMV6YN3yyR5tSqot-mzBZaCF0qrDib9x9PW26QJ5IAQq8lxe3-pOIgAJNuyC8s3MfeU0WLKyIc3SMyv-3L2hRephiQD9I9P2INMJ9EXxZaWFo1zYYAwc3ph-x8eD6nVJ0Ao7DjTbThw401nAVfpAvJBgumoisFKtrAP59Y%7E1L7QONVpdW3yycSHTSf376otuVEnBIEqWfRNFjHHpiWfpjn14Jy-KnrRPlW6Urqtp3ABjjPJvM0zPnboWcmdyvF7v2tG0mnHBROgCqm%7Ei2Q__&Key-Pair-Id=K24J24Z295AEI9 [following]\n",
            "--2025-08-15 05:48:02--  https://cdn-lfs-us-1.hf.co/repos/a8/9b/a89b7cc84f0ac1c67a4d8b3f1929339b24363e86ac58811b0ffedcfb20dfe844/e186a244ed455b4ab66ec64339ce7427a6ae13f5c0b5e544de96e50f0f8b3673?response-content-disposition=attachment%3B+filename*%3DUTF-8%27%27bge-reranker-v2-m3-Q4_K_M.gguf%3B+filename%3D%22bge-reranker-v2-m3-Q4_K_M.gguf%22%3B&Expires=1755240482&Policy=eyJTdGF0ZW1lbnQiOlt7IkNvbmRpdGlvbiI6eyJEYXRlTGVzc1RoYW4iOnsiQVdTOkVwb2NoVGltZSI6MTc1NTI0MDQ4Mn19LCJSZXNvdXJjZSI6Imh0dHBzOi8vY2RuLWxmcy11cy0xLmhmLmNvL3JlcG9zL2E4LzliL2E4OWI3Y2M4NGYwYWMxYzY3YTRkOGIzZjE5MjkzMzliMjQzNjNlODZhYzU4ODExYjBmZmVkY2ZiMjBkZmU4NDQvZTE4NmEyNDRlZDQ1NWI0YWI2NmVjNjQzMzljZTc0MjdhNmFlMTNmNWMwYjVlNTQ0ZGU5NmU1MGYwZjhiMzY3Mz9yZXNwb25zZS1jb250ZW50LWRpc3Bvc2l0aW9uPSoifV19&Signature=BWlp-BdH96pxAvs7ejs1wNw5G3lUPJQpp7fdfushqZzrPEwd0QzQ4ykMXnhlWpH77TQ6WMV6YN3yyR5tSqot-mzBZaCF0qrDib9x9PW26QJ5IAQq8lxe3-pOIgAJNuyC8s3MfeU0WLKyIc3SMyv-3L2hRephiQD9I9P2INMJ9EXxZaWFo1zYYAwc3ph-x8eD6nVJ0Ao7DjTbThw401nAVfpAvJBgumoisFKtrAP59Y%7E1L7QONVpdW3yycSHTSf376otuVEnBIEqWfRNFjHHpiWfpjn14Jy-KnrRPlW6Urqtp3ABjjPJvM0zPnboWcmdyvF7v2tG0mnHBROgCqm%7Ei2Q__&Key-Pair-Id=K24J24Z295AEI9\n",
            "Resolving cdn-lfs-us-1.hf.co (cdn-lfs-us-1.hf.co)... 3.169.252.34, 3.169.252.109, 3.169.252.107, ...\n",
            "Connecting to cdn-lfs-us-1.hf.co (cdn-lfs-us-1.hf.co)|3.169.252.34|:443... connected.\n",
            "HTTP request sent, awaiting response... 200 OK\n",
            "Length: 438376864 (418M) [application/octet-stream]\n",
            "Saving to: ‘/tmp/bge-reranker-v2-m3-Q4_K_M.gguf’\n",
            "\n",
            "/tmp/bge-reranker-v 100%[===================>] 418.07M  24.4MB/s    in 7.5s    \n",
            "\n",
            "2025-08-15 05:48:10 (55.7 MB/s) - ‘/tmp/bge-reranker-v2-m3-Q4_K_M.gguf’ saved [438376864/438376864]\n",
            "\n"
          ]
        }
      ],
      "source": [
        "! wget https://huggingface.co/gpustack/bge-reranker-v2-m3-GGUF/resolve/main/bge-reranker-v2-m3-Q4_K_M.gguf?download=true -O {EXPORT_PATH}"
      ]
    },
    {
      "cell_type": "markdown",
      "metadata": {
        "id": "CDPZN-Q3-OaE"
      },
      "source": [
        "## Import and Save AutGGUF renranker models in Spark NLP\n",
        "\n",
        "- Let's install and setup Spark NLP (if running it Google Colab)\n",
        "- This part is pretty easy via our simple script"
      ]
    },
    {
      "cell_type": "code",
      "execution_count": 2,
      "metadata": {
        "colab": {
          "base_uri": "https://localhost:8080/"
        },
        "id": "XMf8WaPx-OaE",
        "outputId": "9e5815bb-19e0-44f2-b7a8-6992cb5067b2"
      },
      "outputs": [
        {
          "name": "stdout",
          "output_type": "stream",
          "text": [
            "Installing PySpark 3.4.4 and Spark NLP 6.1.1\n",
            "setup Colab for PySpark 3.4.4 and Spark NLP 6.1.1\n",
            "\u001b[2K     \u001b[90m━━━━━━━━━━━━━━━━━━━━━━━━━━━━━━━━━━━━━━━\u001b[0m \u001b[32m311.4/311.4 MB\u001b[0m \u001b[31m1.6 MB/s\u001b[0m eta \u001b[36m0:00:00\u001b[0m\n",
            "\u001b[?25h  Preparing metadata (setup.py) ... \u001b[?25l\u001b[?25hdone\n",
            "\u001b[2K   \u001b[90m━━━━━━━━━━━━━━━━━━━━━━━━━━━━━━━━━━━━━━━━\u001b[0m \u001b[32m727.0/727.0 kB\u001b[0m \u001b[31m51.8 MB/s\u001b[0m eta \u001b[36m0:00:00\u001b[0m\n",
            "\u001b[?25h  Building wheel for pyspark (setup.py) ... \u001b[?25l\u001b[?25hdone\n",
            "\u001b[31mERROR: pip's dependency resolver does not currently take into account all the packages that are installed. This behaviour is the source of the following dependency conflicts.\n",
            "dataproc-spark-connect 0.8.3 requires pyspark[connect]~=3.5.1, but you have pyspark 3.4.4 which is incompatible.\u001b[0m\u001b[31m\n",
            "\u001b[0m"
          ]
        }
      ],
      "source": [
        "# Only execute this if you are on Google Colab\n",
        "! wget -q http://setup.johnsnowlabs.com/colab.sh -O - | bash"
      ]
    },
    {
      "cell_type": "markdown",
      "metadata": {
        "id": "AWmOZ6F7-OaF"
      },
      "source": [
        "Let's start Spark with Spark NLP included via our simple `start()` function"
      ]
    },
    {
      "cell_type": "code",
      "execution_count": 3,
      "metadata": {
        "colab": {
          "base_uri": "https://localhost:8080/"
        },
        "id": "4Oby-YE8-OaG",
        "outputId": "b157ae8c-df80-43ec-b827-b28505e1121b"
      },
      "outputs": [
        {
          "name": "stdout",
          "output_type": "stream",
          "text": [
            "6.1.1\n"
          ]
        }
      ],
      "source": [
        "import sparknlp\n",
        "\n",
        "# let's start Spark with Spark NLP with GPU enabled. If you don't have GPUs available remove this parameter.\n",
        "spark = sparknlp.start(gpu=True)\n",
        "print(sparknlp.version())"
      ]
    },
    {
      "cell_type": "markdown",
      "metadata": {
        "id": "GHp-JehO-OaG"
      },
      "source": [
        "- Let's use the `loadSavedModel` functon in `AutoGGUFModel`\n",
        "- Most params will be set automatically. They can also be set later after loading the model in `AutoGGUFModel` during runtime, so don't worry about setting them now.\n",
        "- `loadSavedModel` accepts two params, first is the path to the exported model. The second is the SparkSession that is `spark` variable we previously started via `sparknlp.start()`\n",
        "- NOTE: `loadSavedModel` accepts local paths in addition to distributed file systems such as `HDFS`, `S3`, `DBFS`, etc. This feature was introduced in Spark NLP 4.2.2 release. Keep in mind the best and recommended way to move/share/reuse Spark NLP models is to use `write.save` so you can use `.load()` from any file systems natively."
      ]
    },
    {
      "cell_type": "code",
      "execution_count": 5,
      "metadata": {
        "id": "1CDy6XiJ-OaG"
      },
      "outputs": [],
      "source": [
        "from sparknlp.annotator import *\n",
        "\n",
        "autoGGUFModel = (\n",
        "    AutoGGUFReranker.loadSavedModel(EXPORT_PATH, spark)\n",
        "    .setInputCols(\"document\")\n",
        "    .setOutputCol(\"completions\")\n",
        "    .setBatchSize(4)\n",
        ")"
      ]
    },
    {
      "cell_type": "markdown",
      "metadata": {
        "id": "ww3DVbHI-OaG"
      },
      "source": [
        "- Let's save it on disk so it is easier to be moved around and also be used later via `.load` function"
      ]
    },
    {
      "cell_type": "code",
      "execution_count": 6,
      "metadata": {
        "id": "wYcJABSH-OaG"
      },
      "outputs": [],
      "source": [
        "autoGGUFModel.write().overwrite().save(f\"bge_reranker_spark_nlp/\")"
      ]
    },
    {
      "cell_type": "markdown",
      "metadata": {
        "id": "ACR7SAzO-OaG"
      },
      "source": [
        "Let's clean up stuff we don't need anymore"
      ]
    },
    {
      "cell_type": "code",
      "execution_count": null,
      "metadata": {
        "id": "dErRHpcH-OaG"
      },
      "outputs": [],
      "source": [
        "!rm -rf {EXPORT_PATH}"
      ]
    },
    {
      "cell_type": "markdown",
      "metadata": {
        "id": "7jolNLwu-OaG"
      },
      "source": [
        "Awesome  😎 !\n",
        "\n",
        "This is your GGUF model from loaded and saved by Spark NLP 🚀"
      ]
    },
    {
      "cell_type": "code",
      "execution_count": 12,
      "metadata": {
        "colab": {
          "base_uri": "https://localhost:8080/"
        },
        "id": "NETfQ38N-OaH",
        "outputId": "b6930007-327c-4ade-e531-be1e2cb937ed"
      },
      "outputs": [
        {
          "name": "stdout",
          "output_type": "stream",
          "text": [
            "total 428112\n",
            "-rwxr-xr-x 1 root root 438376864 Aug 15 05:49 bge-reranker-v2-m3-Q4_K_M.gguf\n",
            "drwxr-xr-x 2 root root      4096 Aug 15 05:49 metadata\n"
          ]
        }
      ],
      "source": [
        "! ls -l bge_reranker_spark_nlp"
      ]
    },
    {
      "cell_type": "markdown",
      "metadata": {
        "id": "-9zxFS1Q-OaH"
      },
      "source": [
        "Now let's see how we can use it on other machines, clusters, or any place you wish to use your new and shiny GGUF model 😊"
      ]
    },
    {
      "cell_type": "code",
      "execution_count": 13,
      "metadata": {
        "colab": {
          "base_uri": "https://localhost:8080/"
        },
        "id": "Kas3XytT-OaH",
        "outputId": "4590ed63-2af4-4ab8-bbf6-fed6ab428099"
      },
      "outputs": [
        {
          "name": "stdout",
          "output_type": "stream",
          "text": [
            "A man is eating food.\n",
            "Relevance score: 6.953318\n",
            "A man is eating a piece of bread.\n",
            "Relevance score: 1.8993418\n",
            "A man is riding a horse.\n",
            "Relevance score: -8.467077\n",
            "The girl is carrying a baby.\n",
            "Relevance score: -10.770506\n",
            "+--------------------+--------------------+--------------------+\n",
            "|                text|            document|  reranked_documents|\n",
            "+--------------------+--------------------+--------------------+\n",
            "|A man is eating f...|[{document, 0, 20...|[{document, 0, 20...|\n",
            "|A man is eating a...|[{document, 0, 32...|[{document, 0, 32...|\n",
            "|The girl is carry...|[{document, 0, 27...|[{document, 0, 23...|\n",
            "|A man is riding a...|[{document, 0, 23...|[{document, 0, 27...|\n",
            "+--------------------+--------------------+--------------------+\n",
            "\n"
          ]
        }
      ],
      "source": [
        "import sparknlp\n",
        "from sparknlp.base import *\n",
        "from sparknlp.annotator import *\n",
        "from pyspark.ml import Pipeline\n",
        "\n",
        "document_assembler = DocumentAssembler().setInputCol(\"text\").setOutputCol(\"document\")\n",
        "\n",
        "auto_gguf_model = AutoGGUFReranker.load(\"bge_reranker_spark_nlp\").setInputCols(\"document\").setOutputCol(\"reranked_documents\").setQuery(\"A man is eating pasta.\")\n",
        "\n",
        "pipeline = Pipeline().setStages([document_assembler, auto_gguf_model])\n",
        "\n",
        "data = (spark.createDataFrame(\n",
        "                [\n",
        "                    [\"A man is eating food.\"],\n",
        "                    [\"A man is eating a piece of bread.\"],\n",
        "                    [\"The girl is carrying a baby.\"],\n",
        "                    [\"A man is riding a horse.\"],\n",
        "                ]\n",
        "            )\n",
        "            .toDF(\"text\")\n",
        "            .repartition(1))\n",
        "\n",
        "result = pipeline.fit(data).transform(data)\n",
        "# Verify results contain relevance scores\n",
        "collected_results = result.collect()\n",
        "for row in collected_results:\n",
        "    annotations = row[\"reranked_documents\"]\n",
        "\n",
        "\n",
        "    for annotation in annotations:\n",
        "        print(annotation[\"result\"])\n",
        "        # Relevance score should be a valid number\n",
        "        score = float(annotation.metadata[\"relevance_score\"])\n",
        "        print(f\"Relevance score: {score}\")\n",
        "\n",
        "result.show()"
      ]
    },
    {
      "cell_type": "markdown",
      "metadata": {
        "id": "RStfCsgo-OaH"
      },
      "source": [
        "That's it! You can now go wild and use hundreds of GGUF models from HuggingFace 🤗 in Spark NLP 🚀\n"
      ]
    }
  ],
  "metadata": {
    "accelerator": "GPU",
    "colab": {
      "gpuType": "T4",
      "provenance": []
    },
    "kernelspec": {
      "display_name": "Python 3",
      "name": "python3"
    },
    "language_info": {
      "codemirror_mode": {
        "name": "ipython",
        "version": 3
      },
      "file_extension": ".py",
      "mimetype": "text/x-python",
      "name": "python",
      "nbconvert_exporter": "python",
      "pygments_lexer": "ipython3",
      "version": "3.11.13"
    }
  },
  "nbformat": 4,
  "nbformat_minor": 0
}
